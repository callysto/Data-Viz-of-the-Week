{
 "cells": [
  {
   "cell_type": "markdown",
   "metadata": {},
   "source": [
    "![Callysto.ca Banner](https://github.com/callysto/curriculum-notebooks/blob/master/callysto-notebook-banner-top.jpg?raw=true)"
   ]
  },
  {
   "cell_type": "markdown",
   "metadata": {},
   "source": [
    "# Callysto’s Weekly Data Visualization\n",
    "\n",
    "## Video Game Popularity\n",
    "\n",
    "### Recommended grade level: 6-9"
   ]
  },
  {
   "cell_type": "markdown",
   "metadata": {},
   "source": [
    "Callysto's Weekly Data Visualization is a learning resource that helps Grades 5-12 teachers and students grow and develop data literacy skills. We do this by providing a data visualization, like a graph, and asking teachers and students to interpret it. This companion resource walks learners through how the data visualization is created and interpreted using the data science process. The steps of this process are listed below and applied to each weekly topic.\n",
    "\n",
    "1. Question - What are we trying to answer? \n",
    "2. Gather - Find the data source(s) you will need. \n",
    "3. Organize - Arrange the data so that you can easily explore it. \n",
    "4. Explore - Examine the data to look for evidence to answer our question. This includes creating visualizations. \n",
    "5. Interpret - Explain how the evidence answers our question. \n",
    "6. Communicate - Reflect on the interpretation. "
   ]
  },
  {
   "cell_type": "markdown",
   "metadata": {},
   "source": [
    "## 1. Question\n",
    "\n",
    "Have you ever wondered what the most popular video games are? \n",
    "\n",
    "There are many ways you might want to answer this question. \n",
    "- You could ask your friends for their opinions.\n",
    "- You could read Facebook posts, Twitter tweets, Reddit posts and judge which ones are discussed most.\n",
    "- You could gather financial information from companies listings about their activities.\n",
    "\n",
    "Certainly it is worthwhile to think about this question and how you can gather information, to really answer the question well.\n",
    "\n",
    "Our goal here is to use some Python code to create pie charts and bar charts that summarize current information about which video games are most popular. This is a short example of data visualization, using data about the popularity of video games.\n",
    "\n",
    "There are many possible sources for the data. In this examples, we look at total dollar value of sales of games, and also at the number of users. We use Wikipedia as a convenient source for this data.\n",
    "\n",
    "In this notebook, we will take the approach of looking at video game sales records, as well as number of players."
   ]
  },
  {
   "cell_type": "markdown",
   "metadata": {},
   "source": [
    "## 2. Gather\n",
    "\n",
    "The code below will import the Python programming libraries we need to gather and organize the data to answer our question."
   ]
  },
  {
   "cell_type": "code",
   "execution_count": 1,
   "metadata": {},
   "outputs": [
    {
     "data": {
      "text/html": [
       "        <script type=\"text/javascript\">\n",
       "        window.PlotlyConfig = {MathJaxConfig: 'local'};\n",
       "        if (window.MathJax) {MathJax.Hub.Config({SVG: {font: \"STIX-Web\"}});}\n",
       "        if (typeof require !== 'undefined') {\n",
       "        require.undef(\"plotly\");\n",
       "        requirejs.config({\n",
       "            paths: {\n",
       "                'plotly': ['https://cdn.plot.ly/plotly-latest.min']\n",
       "            }\n",
       "        });\n",
       "        require(['plotly'], function(Plotly) {\n",
       "            window._Plotly = Plotly;\n",
       "        });\n",
       "        }\n",
       "        </script>\n",
       "        "
      ]
     },
     "metadata": {},
     "output_type": "display_data"
    },
    {
     "data": {
      "text/html": [
       "        <script type=\"text/javascript\">\n",
       "        window.PlotlyConfig = {MathJaxConfig: 'local'};\n",
       "        if (window.MathJax) {MathJax.Hub.Config({SVG: {font: \"STIX-Web\"}});}\n",
       "        if (typeof require !== 'undefined') {\n",
       "        require.undef(\"plotly\");\n",
       "        requirejs.config({\n",
       "            paths: {\n",
       "                'plotly': ['https://cdn.plot.ly/plotly-latest.min']\n",
       "            }\n",
       "        });\n",
       "        require(['plotly'], function(Plotly) {\n",
       "            window._Plotly = Plotly;\n",
       "        });\n",
       "        }\n",
       "        </script>\n",
       "        "
      ]
     },
     "metadata": {},
     "output_type": "display_data"
    },
    {
     "data": {
      "text/html": [
       "        <script type=\"text/javascript\">\n",
       "        window.PlotlyConfig = {MathJaxConfig: 'local'};\n",
       "        if (window.MathJax) {MathJax.Hub.Config({SVG: {font: \"STIX-Web\"}});}\n",
       "        if (typeof require !== 'undefined') {\n",
       "        require.undef(\"plotly\");\n",
       "        requirejs.config({\n",
       "            paths: {\n",
       "                'plotly': ['https://cdn.plot.ly/plotly-latest.min']\n",
       "            }\n",
       "        });\n",
       "        require(['plotly'], function(Plotly) {\n",
       "            window._Plotly = Plotly;\n",
       "        });\n",
       "        }\n",
       "        </script>\n",
       "        "
      ]
     },
     "metadata": {},
     "output_type": "display_data"
    }
   ],
   "source": [
    "## import libraries\n",
    "import numpy as np\n",
    "import pandas as pd\n",
    "import cufflinks as cf\n",
    "cf.go_offline()\n",
    "%matplotlib inline\n",
    "\n",
    "cf.set_config_file(offline=True)\n"
   ]
  },
  {
   "cell_type": "markdown",
   "metadata": {},
   "source": [
    "### Popularity of video games, by sales\n",
    "\n",
    "We grabbed the data from this Wikipedia page on video game sales:\n",
    "\n",
    "https://en.wikipedia.org/wiki/List_of_best-selling_video_games\n",
    "\n",
    "We saved the data in csv format (Comma Separated Values) as a simple list of games and sales figures.\n",
    "\n",
    "We upload the .csv file on our Jupyter hub, where we can access it with our code. This file should be available when you access this code on the Callysto hub."
   ]
  },
  {
   "cell_type": "code",
   "execution_count": 2,
   "metadata": {},
   "outputs": [
    {
     "data": {
      "text/html": [
       "<div>\n",
       "<style scoped>\n",
       "    .dataframe tbody tr th:only-of-type {\n",
       "        vertical-align: middle;\n",
       "    }\n",
       "\n",
       "    .dataframe tbody tr th {\n",
       "        vertical-align: top;\n",
       "    }\n",
       "\n",
       "    .dataframe thead th {\n",
       "        text-align: right;\n",
       "    }\n",
       "</style>\n",
       "<table border=\"1\" class=\"dataframe\">\n",
       "  <thead>\n",
       "    <tr style=\"text-align: right;\">\n",
       "      <th></th>\n",
       "      <th>Rank</th>\n",
       "      <th>Title</th>\n",
       "      <th>Sales</th>\n",
       "      <th>Platform</th>\n",
       "      <th>Initial release date</th>\n",
       "      <th>Developer</th>\n",
       "      <th>Publisher</th>\n",
       "      <th>Ref.</th>\n",
       "    </tr>\n",
       "  </thead>\n",
       "  <tbody>\n",
       "    <tr>\n",
       "      <th>0</th>\n",
       "      <td>1</td>\n",
       "      <td>Minecraft</td>\n",
       "      <td>200,000,000</td>\n",
       "      <td>Multi-platform</td>\n",
       "      <td>November 18, 2011[b]</td>\n",
       "      <td>Mojang Studios</td>\n",
       "      <td>Mojang Studios</td>\n",
       "      <td>[3]</td>\n",
       "    </tr>\n",
       "    <tr>\n",
       "      <th>1</th>\n",
       "      <td>2</td>\n",
       "      <td>Grand Theft Auto V</td>\n",
       "      <td>135,000,000</td>\n",
       "      <td>Multi-platform</td>\n",
       "      <td>September 17, 2013</td>\n",
       "      <td>Rockstar North</td>\n",
       "      <td>Rockstar Games</td>\n",
       "      <td>[4]</td>\n",
       "    </tr>\n",
       "    <tr>\n",
       "      <th>2</th>\n",
       "      <td>3</td>\n",
       "      <td>Tetris (EA)</td>\n",
       "      <td>100,000,000</td>\n",
       "      <td>Mobile</td>\n",
       "      <td>September 12, 2006</td>\n",
       "      <td>EA Mobile</td>\n",
       "      <td>Electronic Arts</td>\n",
       "      <td>[5]</td>\n",
       "    </tr>\n",
       "    <tr>\n",
       "      <th>3</th>\n",
       "      <td>4</td>\n",
       "      <td>Wii Sports</td>\n",
       "      <td>82,900,000</td>\n",
       "      <td>Wii</td>\n",
       "      <td>November 19, 2006</td>\n",
       "      <td>Nintendo EAD</td>\n",
       "      <td>Nintendo</td>\n",
       "      <td>[6]</td>\n",
       "    </tr>\n",
       "    <tr>\n",
       "      <th>4</th>\n",
       "      <td>5</td>\n",
       "      <td>PlayerUnknown's Battlegrounds</td>\n",
       "      <td>70,000,000</td>\n",
       "      <td>Multi-platform</td>\n",
       "      <td>December 20, 2017</td>\n",
       "      <td>PUBG Corporation</td>\n",
       "      <td>PUBG Corporation</td>\n",
       "      <td>[7]</td>\n",
       "    </tr>\n",
       "    <tr>\n",
       "      <th>5</th>\n",
       "      <td>6</td>\n",
       "      <td>Super Mario Bros.</td>\n",
       "      <td>48,240,000</td>\n",
       "      <td>Multi-platform</td>\n",
       "      <td>September 13, 1985</td>\n",
       "      <td>Nintendo</td>\n",
       "      <td>Nintendo</td>\n",
       "      <td>[c]</td>\n",
       "    </tr>\n",
       "    <tr>\n",
       "      <th>6</th>\n",
       "      <td>7</td>\n",
       "      <td>Pokémon Red / Green / Blue / Yellow</td>\n",
       "      <td>47,520,000</td>\n",
       "      <td>Multi-platform</td>\n",
       "      <td>February 27, 1996</td>\n",
       "      <td>Game Freak</td>\n",
       "      <td>Nintendo</td>\n",
       "      <td>[d]</td>\n",
       "    </tr>\n",
       "    <tr>\n",
       "      <th>7</th>\n",
       "      <td>8</td>\n",
       "      <td>Wii Fit and Wii Fit Plus</td>\n",
       "      <td>43,800,000</td>\n",
       "      <td>Wii</td>\n",
       "      <td>December 1, 2007</td>\n",
       "      <td>Nintendo EAD</td>\n",
       "      <td>Nintendo</td>\n",
       "      <td>[6]</td>\n",
       "    </tr>\n",
       "    <tr>\n",
       "      <th>8</th>\n",
       "      <td>9</td>\n",
       "      <td>Tetris (Nintendo)</td>\n",
       "      <td>43,000,000</td>\n",
       "      <td>Game Boy / NES</td>\n",
       "      <td>June 14, 1989</td>\n",
       "      <td>Nintendo R&amp;D1</td>\n",
       "      <td>Nintendo</td>\n",
       "      <td>[e]</td>\n",
       "    </tr>\n",
       "    <tr>\n",
       "      <th>9</th>\n",
       "      <td>10</td>\n",
       "      <td>Pac-Man</td>\n",
       "      <td>39,098,000</td>\n",
       "      <td>Multi-platform</td>\n",
       "      <td>July 1980</td>\n",
       "      <td>Namco</td>\n",
       "      <td>Namco</td>\n",
       "      <td>[f]</td>\n",
       "    </tr>\n",
       "    <tr>\n",
       "      <th>10</th>\n",
       "      <td>11</td>\n",
       "      <td>Mario Kart 8 / Deluxe</td>\n",
       "      <td>37,440,000</td>\n",
       "      <td>Wii U / Switch</td>\n",
       "      <td>May 29, 2014</td>\n",
       "      <td>Nintendo EAD</td>\n",
       "      <td>Nintendo</td>\n",
       "      <td>[g]</td>\n",
       "    </tr>\n",
       "    <tr>\n",
       "      <th>11</th>\n",
       "      <td>12</td>\n",
       "      <td>Mario Kart Wii</td>\n",
       "      <td>37,380,000</td>\n",
       "      <td>Wii</td>\n",
       "      <td>April 10, 2008</td>\n",
       "      <td>Nintendo EAD</td>\n",
       "      <td>Nintendo</td>\n",
       "      <td>[6]</td>\n",
       "    </tr>\n",
       "    <tr>\n",
       "      <th>12</th>\n",
       "      <td>13</td>\n",
       "      <td>Wii Sports Resort</td>\n",
       "      <td>33,140,000</td>\n",
       "      <td>Wii</td>\n",
       "      <td>June 25, 2009</td>\n",
       "      <td>Nintendo EAD</td>\n",
       "      <td>Nintendo</td>\n",
       "      <td>[6]</td>\n",
       "    </tr>\n",
       "    <tr>\n",
       "      <th>13</th>\n",
       "      <td>14</td>\n",
       "      <td>Red Dead Redemption 2</td>\n",
       "      <td>32,000,000</td>\n",
       "      <td>Multi-platform</td>\n",
       "      <td>October 26, 2018</td>\n",
       "      <td>Rockstar Studios</td>\n",
       "      <td>Rockstar Games</td>\n",
       "      <td>[23]</td>\n",
       "    </tr>\n",
       "    <tr>\n",
       "      <th>14</th>\n",
       "      <td>15</td>\n",
       "      <td>New Super Mario Bros.</td>\n",
       "      <td>30,800,000</td>\n",
       "      <td>Nintendo DS</td>\n",
       "      <td>May 15, 2006</td>\n",
       "      <td>Nintendo EAD</td>\n",
       "      <td>Nintendo</td>\n",
       "      <td>[24]</td>\n",
       "    </tr>\n",
       "    <tr>\n",
       "      <th>15</th>\n",
       "      <td>16</td>\n",
       "      <td>New Super Mario Bros. Wii</td>\n",
       "      <td>30,320,000</td>\n",
       "      <td>Wii</td>\n",
       "      <td>November 11, 2009</td>\n",
       "      <td>Nintendo EAD</td>\n",
       "      <td>Nintendo</td>\n",
       "      <td>[6]</td>\n",
       "    </tr>\n",
       "    <tr>\n",
       "      <th>16</th>\n",
       "      <td>17</td>\n",
       "      <td>Terraria</td>\n",
       "      <td>30,300,000</td>\n",
       "      <td>Multi-platform</td>\n",
       "      <td>May 16, 2011</td>\n",
       "      <td>Re-Logic</td>\n",
       "      <td>Re-Logic / 505 Games</td>\n",
       "      <td>[25]</td>\n",
       "    </tr>\n",
       "    <tr>\n",
       "      <th>17</th>\n",
       "      <td>18</td>\n",
       "      <td>Call of Duty: Modern Warfare</td>\n",
       "      <td>30,000,000</td>\n",
       "      <td>Multi-platform</td>\n",
       "      <td>October 25, 2019</td>\n",
       "      <td>Infinity Ward</td>\n",
       "      <td>Activision</td>\n",
       "      <td>[26]</td>\n",
       "    </tr>\n",
       "    <tr>\n",
       "      <th>18</th>\n",
       "      <td>19</td>\n",
       "      <td>The Elder Scrolls V: Skyrim</td>\n",
       "      <td>30,000,000</td>\n",
       "      <td>Multi-platform</td>\n",
       "      <td>November 11, 2011</td>\n",
       "      <td>Bethesda Game Studios</td>\n",
       "      <td>Bethesda Softworks</td>\n",
       "      <td>[27]</td>\n",
       "    </tr>\n",
       "    <tr>\n",
       "      <th>19</th>\n",
       "      <td>20</td>\n",
       "      <td>Diablo III</td>\n",
       "      <td>30,000,000</td>\n",
       "      <td>Multi-platform</td>\n",
       "      <td>May 16, 2012</td>\n",
       "      <td>Blizzard Entertainment</td>\n",
       "      <td>Blizzard Entertainment</td>\n",
       "      <td>[28]</td>\n",
       "    </tr>\n",
       "    <tr>\n",
       "      <th>20</th>\n",
       "      <td>21</td>\n",
       "      <td>Pokémon Gold / Silver / Crystal</td>\n",
       "      <td>29,490,000</td>\n",
       "      <td>Game Boy Color</td>\n",
       "      <td>November 21, 1999</td>\n",
       "      <td>Game Freak</td>\n",
       "      <td>Nintendo</td>\n",
       "      <td>[h]</td>\n",
       "    </tr>\n",
       "    <tr>\n",
       "      <th>21</th>\n",
       "      <td>22</td>\n",
       "      <td>Duck Hunt</td>\n",
       "      <td>28,300,000</td>\n",
       "      <td>NES</td>\n",
       "      <td>April 21, 1984</td>\n",
       "      <td>Nintendo R&amp;D1</td>\n",
       "      <td>Nintendo</td>\n",
       "      <td>[30]</td>\n",
       "    </tr>\n",
       "    <tr>\n",
       "      <th>22</th>\n",
       "      <td>23</td>\n",
       "      <td>Wii Play</td>\n",
       "      <td>28,020,000</td>\n",
       "      <td>Wii</td>\n",
       "      <td>December 2, 2006</td>\n",
       "      <td>Nintendo EAD</td>\n",
       "      <td>Nintendo</td>\n",
       "      <td>[6]</td>\n",
       "    </tr>\n",
       "    <tr>\n",
       "      <th>23</th>\n",
       "      <td>24</td>\n",
       "      <td>The Witcher 3: Wild Hunt</td>\n",
       "      <td>28,000,000</td>\n",
       "      <td>Multi-platform</td>\n",
       "      <td>May 19, 2015</td>\n",
       "      <td>CD Projekt Red</td>\n",
       "      <td>CD Projekt</td>\n",
       "      <td>[31][32]</td>\n",
       "    </tr>\n",
       "    <tr>\n",
       "      <th>24</th>\n",
       "      <td>25</td>\n",
       "      <td>Grand Theft Auto: San Andreas</td>\n",
       "      <td>27,500,000</td>\n",
       "      <td>Multi-platform</td>\n",
       "      <td>October 26, 2004</td>\n",
       "      <td>Rockstar North</td>\n",
       "      <td>Rockstar Games</td>\n",
       "      <td>[33]</td>\n",
       "    </tr>\n",
       "    <tr>\n",
       "      <th>25</th>\n",
       "      <td>26</td>\n",
       "      <td>Call of Duty: Modern Warfare 3</td>\n",
       "      <td>26,500,000</td>\n",
       "      <td>Multi-platform</td>\n",
       "      <td>November 8, 2011</td>\n",
       "      <td>Infinity Ward / Sledgehammer</td>\n",
       "      <td>Activision</td>\n",
       "      <td>[34]</td>\n",
       "    </tr>\n",
       "    <tr>\n",
       "      <th>26</th>\n",
       "      <td>27</td>\n",
       "      <td>Call of Duty: Black Ops</td>\n",
       "      <td>26,200,000</td>\n",
       "      <td>Multi-platform</td>\n",
       "      <td>November 9, 2010</td>\n",
       "      <td>Treyarch</td>\n",
       "      <td>Activision</td>\n",
       "      <td>[34]</td>\n",
       "    </tr>\n",
       "    <tr>\n",
       "      <th>27</th>\n",
       "      <td>28</td>\n",
       "      <td>Animal Crossing: New Horizons</td>\n",
       "      <td>26,040,000</td>\n",
       "      <td>Nintendo Switch</td>\n",
       "      <td>March 20, 2020</td>\n",
       "      <td>Nintendo EPD</td>\n",
       "      <td>Nintendo</td>\n",
       "      <td>[22]</td>\n",
       "    </tr>\n",
       "    <tr>\n",
       "      <th>28</th>\n",
       "      <td>29</td>\n",
       "      <td>Pokémon Sun / Moon / Ultra Sun / Ultra Moon</td>\n",
       "      <td>25,090,000</td>\n",
       "      <td>Nintendo 3DS</td>\n",
       "      <td>November 18, 2016</td>\n",
       "      <td>Game Freak</td>\n",
       "      <td>Nintendo / The Pokémon Company</td>\n",
       "      <td>[i]</td>\n",
       "    </tr>\n",
       "    <tr>\n",
       "      <th>29</th>\n",
       "      <td>30</td>\n",
       "      <td>Grand Theft Auto IV</td>\n",
       "      <td>25,000,000</td>\n",
       "      <td>Multi-platform</td>\n",
       "      <td>April 29, 2008</td>\n",
       "      <td>Rockstar North</td>\n",
       "      <td>Rockstar Games</td>\n",
       "      <td>[36]</td>\n",
       "    </tr>\n",
       "    <tr>\n",
       "      <th>30</th>\n",
       "      <td>31</td>\n",
       "      <td>Pokémon Diamond / Pearl / Platinum</td>\n",
       "      <td>24,730,000</td>\n",
       "      <td>Nintendo DS</td>\n",
       "      <td>September 28, 2006</td>\n",
       "      <td>Game Freak</td>\n",
       "      <td>Nintendo / The Pokémon Company</td>\n",
       "      <td>[j]</td>\n",
       "    </tr>\n",
       "    <tr>\n",
       "      <th>31</th>\n",
       "      <td>32</td>\n",
       "      <td>Call of Duty: Black Ops II</td>\n",
       "      <td>24,200,000</td>\n",
       "      <td>Multi-platform</td>\n",
       "      <td>November 12, 2012</td>\n",
       "      <td>Treyarch</td>\n",
       "      <td>Activision</td>\n",
       "      <td>[34]</td>\n",
       "    </tr>\n",
       "    <tr>\n",
       "      <th>32</th>\n",
       "      <td>33</td>\n",
       "      <td>Kinect Adventures!</td>\n",
       "      <td>24,000,000</td>\n",
       "      <td>Xbox 360</td>\n",
       "      <td>November 4, 2010</td>\n",
       "      <td>Good Science Studio</td>\n",
       "      <td>Xbox Game Studios</td>\n",
       "      <td>[38]</td>\n",
       "    </tr>\n",
       "    <tr>\n",
       "      <th>33</th>\n",
       "      <td>34</td>\n",
       "      <td>FIFA 18</td>\n",
       "      <td>24,000,000</td>\n",
       "      <td>Multi-platform</td>\n",
       "      <td>September 29, 2017</td>\n",
       "      <td>EA Canada</td>\n",
       "      <td>Electronic Arts</td>\n",
       "      <td>[39]</td>\n",
       "    </tr>\n",
       "    <tr>\n",
       "      <th>34</th>\n",
       "      <td>35</td>\n",
       "      <td>Sonic the Hedgehog</td>\n",
       "      <td>23,982,960</td>\n",
       "      <td>Multi-platform</td>\n",
       "      <td>June 23, 1991</td>\n",
       "      <td>Sonic Team</td>\n",
       "      <td>Sega</td>\n",
       "      <td>[k]</td>\n",
       "    </tr>\n",
       "    <tr>\n",
       "      <th>35</th>\n",
       "      <td>36</td>\n",
       "      <td>Nintendogs</td>\n",
       "      <td>23,960,000</td>\n",
       "      <td>Nintendo DS</td>\n",
       "      <td>April 21, 2005</td>\n",
       "      <td>Nintendo EAD</td>\n",
       "      <td>Nintendo</td>\n",
       "      <td>[24]</td>\n",
       "    </tr>\n",
       "    <tr>\n",
       "      <th>36</th>\n",
       "      <td>37</td>\n",
       "      <td>Mario Kart DS</td>\n",
       "      <td>23,600,000</td>\n",
       "      <td>Nintendo DS</td>\n",
       "      <td>November 14, 2005</td>\n",
       "      <td>Nintendo EAD</td>\n",
       "      <td>Nintendo</td>\n",
       "      <td>[24]</td>\n",
       "    </tr>\n",
       "    <tr>\n",
       "      <th>37</th>\n",
       "      <td>38</td>\n",
       "      <td>Call of Duty: Modern Warfare 2</td>\n",
       "      <td>22,700,000</td>\n",
       "      <td>Multi-platform</td>\n",
       "      <td>November 10, 2009</td>\n",
       "      <td>Infinity Ward</td>\n",
       "      <td>Activision</td>\n",
       "      <td>[34]</td>\n",
       "    </tr>\n",
       "    <tr>\n",
       "      <th>38</th>\n",
       "      <td>39</td>\n",
       "      <td>Pokémon Ruby / Sapphire / Emerald</td>\n",
       "      <td>22,540,000</td>\n",
       "      <td>Game Boy Advance</td>\n",
       "      <td>November 21, 2002</td>\n",
       "      <td>Game Freak</td>\n",
       "      <td>Nintendo / The Pokémon Company</td>\n",
       "      <td>[l]</td>\n",
       "    </tr>\n",
       "    <tr>\n",
       "      <th>39</th>\n",
       "      <td>40</td>\n",
       "      <td>Borderlands 2</td>\n",
       "      <td>22,000,000</td>\n",
       "      <td>Multi-platform</td>\n",
       "      <td>September 18, 2012</td>\n",
       "      <td>Gearbox Software</td>\n",
       "      <td>2K Games</td>\n",
       "      <td>[46]</td>\n",
       "    </tr>\n",
       "    <tr>\n",
       "      <th>40</th>\n",
       "      <td>41</td>\n",
       "      <td>The Legend of Zelda: Breath of the Wild</td>\n",
       "      <td>21,410,000</td>\n",
       "      <td>Wii U / Switch</td>\n",
       "      <td>March 3, 2017</td>\n",
       "      <td>Nintendo EPD</td>\n",
       "      <td>Nintendo</td>\n",
       "      <td>[m]</td>\n",
       "    </tr>\n",
       "    <tr>\n",
       "      <th>41</th>\n",
       "      <td>42</td>\n",
       "      <td>Super Smash Bros. Ultimate</td>\n",
       "      <td>21,110,000</td>\n",
       "      <td>Nintendo Switch</td>\n",
       "      <td>December 7, 2018</td>\n",
       "      <td>Bandai Namco Studios / Sora Ltd.</td>\n",
       "      <td>Nintendo</td>\n",
       "      <td>[22]</td>\n",
       "    </tr>\n",
       "    <tr>\n",
       "      <th>42</th>\n",
       "      <td>43</td>\n",
       "      <td>Super Mario World</td>\n",
       "      <td>20,972,500</td>\n",
       "      <td>Multi-platform</td>\n",
       "      <td>November 21, 1990</td>\n",
       "      <td>Nintendo EAD</td>\n",
       "      <td>Nintendo</td>\n",
       "      <td>[n]</td>\n",
       "    </tr>\n",
       "    <tr>\n",
       "      <th>43</th>\n",
       "      <td>44</td>\n",
       "      <td>Frogger</td>\n",
       "      <td>20,000,000</td>\n",
       "      <td>Multi-platform</td>\n",
       "      <td>June 5, 1981</td>\n",
       "      <td>Konami</td>\n",
       "      <td>Sega</td>\n",
       "      <td>[48][49]</td>\n",
       "    </tr>\n",
       "    <tr>\n",
       "      <th>44</th>\n",
       "      <td>45</td>\n",
       "      <td>Lemmings</td>\n",
       "      <td>20,000,000</td>\n",
       "      <td>Multi-platform</td>\n",
       "      <td>February 14, 1991</td>\n",
       "      <td>DMA Design</td>\n",
       "      <td>Psygnosis</td>\n",
       "      <td>[50]</td>\n",
       "    </tr>\n",
       "    <tr>\n",
       "      <th>45</th>\n",
       "      <td>46</td>\n",
       "      <td>Grand Theft Auto: Vice City</td>\n",
       "      <td>20,000,000</td>\n",
       "      <td>Multi-platform</td>\n",
       "      <td>October 27, 2002</td>\n",
       "      <td>Rockstar North</td>\n",
       "      <td>Rockstar Games</td>\n",
       "      <td>[51]</td>\n",
       "    </tr>\n",
       "    <tr>\n",
       "      <th>46</th>\n",
       "      <td>47</td>\n",
       "      <td>The Last of Us / Remastered</td>\n",
       "      <td>20,000,000</td>\n",
       "      <td>PS3 / PS4</td>\n",
       "      <td>June 14, 2013</td>\n",
       "      <td>Naughty Dog</td>\n",
       "      <td>Sony Computer Entertainment</td>\n",
       "      <td>[52]</td>\n",
       "    </tr>\n",
       "    <tr>\n",
       "      <th>47</th>\n",
       "      <td>48</td>\n",
       "      <td>Pokémon Sword / Shield</td>\n",
       "      <td>19,020,000</td>\n",
       "      <td>Nintendo Switch</td>\n",
       "      <td>November 15, 2019</td>\n",
       "      <td>Game Freak</td>\n",
       "      <td>Nintendo / The Pokémon Company</td>\n",
       "      <td>[22]</td>\n",
       "    </tr>\n",
       "    <tr>\n",
       "      <th>48</th>\n",
       "      <td>49</td>\n",
       "      <td>Brain Age</td>\n",
       "      <td>19,010,000</td>\n",
       "      <td>Nintendo DS</td>\n",
       "      <td>May 19, 2005</td>\n",
       "      <td>Nintendo SPD</td>\n",
       "      <td>Nintendo</td>\n",
       "      <td>[24]</td>\n",
       "    </tr>\n",
       "    <tr>\n",
       "      <th>49</th>\n",
       "      <td>50</td>\n",
       "      <td>Super Mario Bros. 3</td>\n",
       "      <td>19,000,000</td>\n",
       "      <td>Multi-platform</td>\n",
       "      <td>October 23, 1988</td>\n",
       "      <td>Nintendo EAD</td>\n",
       "      <td>Nintendo</td>\n",
       "      <td>[o]</td>\n",
       "    </tr>\n",
       "  </tbody>\n",
       "</table>\n",
       "</div>"
      ],
      "text/plain": [
       "    Rank                                        Title        Sales  \\\n",
       "0      1                                    Minecraft  200,000,000   \n",
       "1      2                           Grand Theft Auto V  135,000,000   \n",
       "2      3                                  Tetris (EA)  100,000,000   \n",
       "3      4                                   Wii Sports   82,900,000   \n",
       "4      5                PlayerUnknown's Battlegrounds   70,000,000   \n",
       "5      6                            Super Mario Bros.   48,240,000   \n",
       "6      7          Pokémon Red / Green / Blue / Yellow   47,520,000   \n",
       "7      8                     Wii Fit and Wii Fit Plus   43,800,000   \n",
       "8      9                            Tetris (Nintendo)   43,000,000   \n",
       "9     10                                      Pac-Man   39,098,000   \n",
       "10    11                        Mario Kart 8 / Deluxe   37,440,000   \n",
       "11    12                               Mario Kart Wii   37,380,000   \n",
       "12    13                            Wii Sports Resort   33,140,000   \n",
       "13    14                        Red Dead Redemption 2   32,000,000   \n",
       "14    15                        New Super Mario Bros.   30,800,000   \n",
       "15    16                    New Super Mario Bros. Wii   30,320,000   \n",
       "16    17                                     Terraria   30,300,000   \n",
       "17    18                 Call of Duty: Modern Warfare   30,000,000   \n",
       "18    19                  The Elder Scrolls V: Skyrim   30,000,000   \n",
       "19    20                                   Diablo III   30,000,000   \n",
       "20    21              Pokémon Gold / Silver / Crystal   29,490,000   \n",
       "21    22                                    Duck Hunt   28,300,000   \n",
       "22    23                                     Wii Play   28,020,000   \n",
       "23    24                     The Witcher 3: Wild Hunt   28,000,000   \n",
       "24    25                Grand Theft Auto: San Andreas   27,500,000   \n",
       "25    26               Call of Duty: Modern Warfare 3   26,500,000   \n",
       "26    27                      Call of Duty: Black Ops   26,200,000   \n",
       "27    28                Animal Crossing: New Horizons   26,040,000   \n",
       "28    29  Pokémon Sun / Moon / Ultra Sun / Ultra Moon   25,090,000   \n",
       "29    30                          Grand Theft Auto IV   25,000,000   \n",
       "30    31           Pokémon Diamond / Pearl / Platinum   24,730,000   \n",
       "31    32                   Call of Duty: Black Ops II   24,200,000   \n",
       "32    33                           Kinect Adventures!   24,000,000   \n",
       "33    34                                      FIFA 18   24,000,000   \n",
       "34    35                           Sonic the Hedgehog   23,982,960   \n",
       "35    36                                   Nintendogs   23,960,000   \n",
       "36    37                                Mario Kart DS   23,600,000   \n",
       "37    38               Call of Duty: Modern Warfare 2   22,700,000   \n",
       "38    39            Pokémon Ruby / Sapphire / Emerald   22,540,000   \n",
       "39    40                                Borderlands 2   22,000,000   \n",
       "40    41      The Legend of Zelda: Breath of the Wild   21,410,000   \n",
       "41    42                   Super Smash Bros. Ultimate   21,110,000   \n",
       "42    43                            Super Mario World   20,972,500   \n",
       "43    44                                      Frogger   20,000,000   \n",
       "44    45                                     Lemmings   20,000,000   \n",
       "45    46                  Grand Theft Auto: Vice City   20,000,000   \n",
       "46    47                  The Last of Us / Remastered   20,000,000   \n",
       "47    48                       Pokémon Sword / Shield   19,020,000   \n",
       "48    49                                    Brain Age   19,010,000   \n",
       "49    50                          Super Mario Bros. 3   19,000,000   \n",
       "\n",
       "            Platform  Initial release date                         Developer  \\\n",
       "0     Multi-platform  November 18, 2011[b]                    Mojang Studios   \n",
       "1     Multi-platform    September 17, 2013                    Rockstar North   \n",
       "2             Mobile    September 12, 2006                         EA Mobile   \n",
       "3                Wii     November 19, 2006                      Nintendo EAD   \n",
       "4     Multi-platform     December 20, 2017                  PUBG Corporation   \n",
       "5     Multi-platform    September 13, 1985                          Nintendo   \n",
       "6     Multi-platform     February 27, 1996                        Game Freak   \n",
       "7                Wii      December 1, 2007                      Nintendo EAD   \n",
       "8     Game Boy / NES         June 14, 1989                     Nintendo R&D1   \n",
       "9     Multi-platform             July 1980                             Namco   \n",
       "10    Wii U / Switch          May 29, 2014                      Nintendo EAD   \n",
       "11               Wii        April 10, 2008                      Nintendo EAD   \n",
       "12               Wii         June 25, 2009                      Nintendo EAD   \n",
       "13    Multi-platform      October 26, 2018                  Rockstar Studios   \n",
       "14       Nintendo DS          May 15, 2006                      Nintendo EAD   \n",
       "15               Wii     November 11, 2009                      Nintendo EAD   \n",
       "16    Multi-platform          May 16, 2011                          Re-Logic   \n",
       "17    Multi-platform      October 25, 2019                     Infinity Ward   \n",
       "18    Multi-platform     November 11, 2011             Bethesda Game Studios   \n",
       "19    Multi-platform          May 16, 2012            Blizzard Entertainment   \n",
       "20    Game Boy Color     November 21, 1999                        Game Freak   \n",
       "21               NES        April 21, 1984                     Nintendo R&D1   \n",
       "22               Wii      December 2, 2006                      Nintendo EAD   \n",
       "23    Multi-platform          May 19, 2015                    CD Projekt Red   \n",
       "24    Multi-platform      October 26, 2004                    Rockstar North   \n",
       "25    Multi-platform      November 8, 2011      Infinity Ward / Sledgehammer   \n",
       "26    Multi-platform      November 9, 2010                          Treyarch   \n",
       "27   Nintendo Switch        March 20, 2020                      Nintendo EPD   \n",
       "28      Nintendo 3DS     November 18, 2016                        Game Freak   \n",
       "29    Multi-platform        April 29, 2008                    Rockstar North   \n",
       "30       Nintendo DS    September 28, 2006                        Game Freak   \n",
       "31    Multi-platform     November 12, 2012                          Treyarch   \n",
       "32          Xbox 360      November 4, 2010               Good Science Studio   \n",
       "33    Multi-platform    September 29, 2017                         EA Canada   \n",
       "34    Multi-platform         June 23, 1991                        Sonic Team   \n",
       "35       Nintendo DS        April 21, 2005                      Nintendo EAD   \n",
       "36       Nintendo DS     November 14, 2005                      Nintendo EAD   \n",
       "37    Multi-platform     November 10, 2009                     Infinity Ward   \n",
       "38  Game Boy Advance     November 21, 2002                        Game Freak   \n",
       "39    Multi-platform    September 18, 2012                  Gearbox Software   \n",
       "40    Wii U / Switch         March 3, 2017                      Nintendo EPD   \n",
       "41   Nintendo Switch      December 7, 2018  Bandai Namco Studios / Sora Ltd.   \n",
       "42    Multi-platform     November 21, 1990                      Nintendo EAD   \n",
       "43    Multi-platform          June 5, 1981                            Konami   \n",
       "44    Multi-platform     February 14, 1991                        DMA Design   \n",
       "45    Multi-platform      October 27, 2002                    Rockstar North   \n",
       "46         PS3 / PS4         June 14, 2013                       Naughty Dog   \n",
       "47   Nintendo Switch     November 15, 2019                        Game Freak   \n",
       "48       Nintendo DS          May 19, 2005                      Nintendo SPD   \n",
       "49    Multi-platform      October 23, 1988                      Nintendo EAD   \n",
       "\n",
       "                         Publisher      Ref.  \n",
       "0                   Mojang Studios       [3]  \n",
       "1                   Rockstar Games       [4]  \n",
       "2                  Electronic Arts       [5]  \n",
       "3                         Nintendo       [6]  \n",
       "4                 PUBG Corporation       [7]  \n",
       "5                         Nintendo       [c]  \n",
       "6                         Nintendo       [d]  \n",
       "7                         Nintendo       [6]  \n",
       "8                         Nintendo       [e]  \n",
       "9                            Namco       [f]  \n",
       "10                        Nintendo       [g]  \n",
       "11                        Nintendo       [6]  \n",
       "12                        Nintendo       [6]  \n",
       "13                  Rockstar Games      [23]  \n",
       "14                        Nintendo      [24]  \n",
       "15                        Nintendo       [6]  \n",
       "16            Re-Logic / 505 Games      [25]  \n",
       "17                      Activision      [26]  \n",
       "18              Bethesda Softworks      [27]  \n",
       "19          Blizzard Entertainment      [28]  \n",
       "20                        Nintendo       [h]  \n",
       "21                        Nintendo      [30]  \n",
       "22                        Nintendo       [6]  \n",
       "23                      CD Projekt  [31][32]  \n",
       "24                  Rockstar Games      [33]  \n",
       "25                      Activision      [34]  \n",
       "26                      Activision      [34]  \n",
       "27                        Nintendo      [22]  \n",
       "28  Nintendo / The Pokémon Company       [i]  \n",
       "29                  Rockstar Games      [36]  \n",
       "30  Nintendo / The Pokémon Company       [j]  \n",
       "31                      Activision      [34]  \n",
       "32               Xbox Game Studios      [38]  \n",
       "33                 Electronic Arts      [39]  \n",
       "34                            Sega       [k]  \n",
       "35                        Nintendo      [24]  \n",
       "36                        Nintendo      [24]  \n",
       "37                      Activision      [34]  \n",
       "38  Nintendo / The Pokémon Company       [l]  \n",
       "39                        2K Games      [46]  \n",
       "40                        Nintendo       [m]  \n",
       "41                        Nintendo      [22]  \n",
       "42                        Nintendo       [n]  \n",
       "43                            Sega  [48][49]  \n",
       "44                       Psygnosis      [50]  \n",
       "45                  Rockstar Games      [51]  \n",
       "46     Sony Computer Entertainment      [52]  \n",
       "47  Nintendo / The Pokémon Company      [22]  \n",
       "48                        Nintendo      [24]  \n",
       "49                        Nintendo       [o]  "
      ]
     },
     "execution_count": 2,
     "metadata": {},
     "output_type": "execute_result"
    }
   ],
   "source": [
    "## import data\n",
    "sales_df = pd.read_csv('VideoBySales.csv'); \n",
    "sales_df"
   ]
  },
  {
   "cell_type": "markdown",
   "metadata": {},
   "source": [
    "## 3. Organize\n",
    "\n",
    "The code below will arrange the data cleanly so that we can do analysis on it. This is a quality control step for our data and involves examining the data to detect anything odd with the data (e.g. structure, missing values), fixing the oddities, and checking if the fixes worked. "
   ]
  },
  {
   "cell_type": "markdown",
   "metadata": {},
   "source": [
    "The data needs to be adjusted a bit before we can plot. This is called \"Data munging\" which just means we are fixing things for the computer.\n",
    "\n",
    "The list of \"Sales\" dollar values looks like a list of numbers, but to the computer, these are actually text strings -- little words made up of digits and commas. We need to transform these into computer numbers, by removing the commas, then telling the computer to treat these entries as numbers."
   ]
  },
  {
   "cell_type": "code",
   "execution_count": 3,
   "metadata": {},
   "outputs": [],
   "source": [
    "# data cleaning\n",
    "sales_df['Sales'] = sales_df['Sales'].str.replace(',' , '')  ## this replaces the commans with empty space\n",
    "sales_df['Sales'] = pd.to_numeric(sales_df['Sales'])         ## this changes the texts to numerical values"
   ]
  },
  {
   "cell_type": "markdown",
   "metadata": {},
   "source": [
    "## 4. Explore\n",
    "\n",
    "The code below will be used to help us look for evidence to answer our question. This can involve looking at data in table format, applying math and statistics, and creating different types of visualizations to represent our data.\n",
    "\n",
    "Let's start with a pie chart:"
   ]
  },
  {
   "cell_type": "code",
   "execution_count": 4,
   "metadata": {},
   "outputs": [
    {
     "data": {
      "application/vnd.plotly.v1+json": {
       "config": {
        "linkText": "Export to plot.ly",
        "plotlyServerURL": "https://plot.ly",
        "showLink": true
       },
       "data": [
        {
         "labels": [
          "Minecraft",
          "Grand Theft Auto V",
          "Tetris (EA)",
          "Wii Sports",
          "PlayerUnknown's Battlegrounds",
          "Super Mario Bros.",
          "Pokémon Red / Green / Blue / Yellow",
          "Wii Fit and Wii Fit Plus",
          "Tetris (Nintendo)",
          "Pac-Man",
          "Mario Kart 8 / Deluxe",
          "Mario Kart Wii",
          "Wii Sports Resort",
          "Red Dead Redemption 2",
          "New Super Mario Bros.",
          "New Super Mario Bros. Wii",
          "Terraria",
          "Call of Duty: Modern Warfare",
          "The Elder Scrolls V: Skyrim",
          "Diablo III",
          "Pokémon Gold / Silver / Crystal",
          "Duck Hunt",
          "Wii Play",
          "The Witcher 3: Wild Hunt",
          "Grand Theft Auto: San Andreas",
          "Call of Duty: Modern Warfare 3",
          "Call of Duty: Black Ops",
          "Animal Crossing: New Horizons",
          "Pokémon Sun / Moon / Ultra Sun / Ultra Moon",
          "Grand Theft Auto IV",
          "Pokémon Diamond / Pearl / Platinum",
          "Call of Duty: Black Ops II",
          "Kinect Adventures!",
          "FIFA 18",
          "Sonic the Hedgehog",
          "Nintendogs",
          "Mario Kart DS",
          "Call of Duty: Modern Warfare 2",
          "Pokémon Ruby / Sapphire / Emerald",
          "Borderlands 2",
          "The Legend of Zelda: Breath of the Wild",
          "Super Smash Bros. Ultimate",
          "Super Mario World",
          "Frogger",
          "Lemmings",
          "Grand Theft Auto: Vice City",
          "The Last of Us / Remastered",
          "Pokémon Sword / Shield",
          "Brain Age",
          "Super Mario Bros. 3"
         ],
         "marker": {
          "colors": [
           "rgba(255, 153, 51, 1.0)",
           "rgba(55, 128, 191, 1.0)",
           "rgba(50, 171, 96, 1.0)",
           "rgba(128, 0, 128, 1.0)",
           "rgba(219, 64, 82, 1.0)",
           "rgba(0, 128, 128, 1.0)",
           "rgba(255, 255, 51, 1.0)",
           "rgba(128, 128, 0, 1.0)",
           "rgba(251, 128, 114, 1.0)",
           "rgba(128, 177, 211, 1.0)",
           "rgba(128, 177, 211, 0.8999999999999999)",
           "rgba(255, 153, 51, 0.8999999999999999)",
           "rgba(55, 128, 191, 0.8999999999999999)",
           "rgba(50, 171, 96, 0.8999999999999999)",
           "rgba(128, 0, 128, 0.8999999999999999)",
           "rgba(219, 64, 82, 0.8999999999999999)",
           "rgba(0, 128, 128, 0.8999999999999999)",
           "rgba(255, 255, 51, 0.8999999999999999)",
           "rgba(128, 128, 0, 0.8999999999999999)",
           "rgba(251, 128, 114, 0.8999999999999999)",
           "rgba(251, 128, 114, 0.7999999999999998)",
           "rgba(128, 177, 211, 0.7999999999999998)",
           "rgba(255, 153, 51, 0.7999999999999998)",
           "rgba(55, 128, 191, 0.7999999999999998)",
           "rgba(50, 171, 96, 0.7999999999999998)",
           "rgba(128, 0, 128, 0.7999999999999998)",
           "rgba(219, 64, 82, 0.7999999999999998)",
           "rgba(0, 128, 128, 0.7999999999999998)",
           "rgba(255, 255, 51, 0.7999999999999998)",
           "rgba(128, 128, 0, 0.7999999999999998)",
           "rgba(128, 128, 0, 0.7)",
           "rgba(251, 128, 114, 0.7)",
           "rgba(128, 177, 211, 0.7)",
           "rgba(255, 153, 51, 0.7)",
           "rgba(55, 128, 191, 0.7)",
           "rgba(50, 171, 96, 0.7)",
           "rgba(128, 0, 128, 0.7)",
           "rgba(219, 64, 82, 0.7)",
           "rgba(0, 128, 128, 0.7)",
           "rgba(255, 255, 51, 0.7)",
           "rgba(255, 255, 51, 0.5999999999999999)",
           "rgba(128, 128, 0, 0.5999999999999999)",
           "rgba(251, 128, 114, 0.5999999999999999)",
           "rgba(128, 177, 211, 0.5999999999999999)",
           "rgba(255, 153, 51, 0.5999999999999999)",
           "rgba(55, 128, 191, 0.5999999999999999)",
           "rgba(50, 171, 96, 0.5999999999999999)",
           "rgba(128, 0, 128, 0.5999999999999999)",
           "rgba(219, 64, 82, 0.5999999999999999)",
           "rgba(0, 128, 128, 0.5999999999999999)"
          ]
         },
         "name": "",
         "type": "pie",
         "values": [
          200000000,
          135000000,
          100000000,
          82900000,
          70000000,
          48240000,
          47520000,
          43800000,
          43000000,
          39098000,
          37440000,
          37380000,
          33140000,
          32000000,
          30800000,
          30320000,
          30300000,
          30000000,
          30000000,
          30000000,
          29490000,
          28300000,
          28020000,
          28000000,
          27500000,
          26500000,
          26200000,
          26040000,
          25090000,
          25000000,
          24730000,
          24200000,
          24000000,
          24000000,
          23982960,
          23960000,
          23600000,
          22700000,
          22540000,
          22000000,
          21410000,
          21110000,
          20972500,
          20000000,
          20000000,
          20000000,
          20000000,
          19020000,
          19010000,
          19000000
         ]
        }
       ],
       "layout": {
        "legend": {
         "bgcolor": "#F5F6F9",
         "font": {
          "color": "#4D5663"
         }
        },
        "paper_bgcolor": "#F5F6F9",
        "plot_bgcolor": "#F5F6F9",
        "title": "Sales by Game Title",
        "titlefont": {
         "color": "#4D5663"
        }
       }
      },
      "text/html": [
       "<div>                            <div id=\"1a3a04f2-bc6f-42a1-8246-7ec7dd72e07b\" class=\"plotly-graph-div\" style=\"height:525px; width:100%;\"></div>            <script type=\"text/javascript\">                require([\"plotly\"], function(Plotly) {                    window.PLOTLYENV=window.PLOTLYENV || {};\n",
       "                    window.PLOTLYENV.BASE_URL='https://plot.ly';                                    if (document.getElementById(\"1a3a04f2-bc6f-42a1-8246-7ec7dd72e07b\")) {                    Plotly.newPlot(                        \"1a3a04f2-bc6f-42a1-8246-7ec7dd72e07b\",                        [{\"labels\": [\"Minecraft\", \"Grand Theft Auto V\", \"Tetris\\u00a0(EA)\", \"Wii Sports\", \"PlayerUnknown's Battlegrounds\", \"Super Mario Bros.\", \"Pok\\u00e9mon Red / Green / Blue\\u00a0/\\u00a0Yellow\", \"Wii Fit\\u00a0and\\u00a0Wii Fit Plus\", \"Tetris\\u00a0(Nintendo)\", \"Pac-Man\", \"Mario Kart 8 / Deluxe\", \"Mario Kart Wii\", \"Wii Sports Resort\", \"Red Dead Redemption 2\", \"New Super Mario Bros.\", \"New Super Mario Bros. Wii\", \"Terraria\", \"Call of Duty: Modern Warfare\", \"The Elder Scrolls V: Skyrim\", \"Diablo III\", \"Pok\\u00e9mon Gold / Silver\\u00a0/\\u00a0Crystal\", \"Duck Hunt\", \"Wii Play\", \"The Witcher 3: Wild Hunt\", \"Grand Theft Auto: San Andreas\", \"Call of Duty: Modern Warfare 3\", \"Call of Duty: Black Ops\", \"Animal Crossing: New Horizons\", \"Pok\\u00e9mon Sun / Moon\\u00a0/\\u00a0Ultra Sun / Ultra Moon\", \"Grand Theft Auto IV\", \"Pok\\u00e9mon Diamond / Pearl\\u00a0/\\u00a0Platinum\", \"Call of Duty: Black Ops II\", \"Kinect Adventures!\", \"FIFA 18\", \"Sonic the Hedgehog\", \"Nintendogs\", \"Mario Kart DS\", \"Call of Duty: Modern Warfare 2\", \"Pok\\u00e9mon Ruby / Sapphire\\u00a0/\\u00a0Emerald\", \"Borderlands 2\", \"The Legend of Zelda: Breath of the Wild\", \"Super Smash Bros. Ultimate\", \"Super Mario World\", \"Frogger\", \"Lemmings\", \"Grand Theft Auto: Vice City\", \"The Last of Us / Remastered\", \"Pok\\u00e9mon Sword / Shield\", \"Brain Age\", \"Super Mario Bros. 3\"], \"marker\": {\"colors\": [\"rgba(255, 153, 51, 1.0)\", \"rgba(55, 128, 191, 1.0)\", \"rgba(50, 171, 96, 1.0)\", \"rgba(128, 0, 128, 1.0)\", \"rgba(219, 64, 82, 1.0)\", \"rgba(0, 128, 128, 1.0)\", \"rgba(255, 255, 51, 1.0)\", \"rgba(128, 128, 0, 1.0)\", \"rgba(251, 128, 114, 1.0)\", \"rgba(128, 177, 211, 1.0)\", \"rgba(128, 177, 211, 0.8999999999999999)\", \"rgba(255, 153, 51, 0.8999999999999999)\", \"rgba(55, 128, 191, 0.8999999999999999)\", \"rgba(50, 171, 96, 0.8999999999999999)\", \"rgba(128, 0, 128, 0.8999999999999999)\", \"rgba(219, 64, 82, 0.8999999999999999)\", \"rgba(0, 128, 128, 0.8999999999999999)\", \"rgba(255, 255, 51, 0.8999999999999999)\", \"rgba(128, 128, 0, 0.8999999999999999)\", \"rgba(251, 128, 114, 0.8999999999999999)\", \"rgba(251, 128, 114, 0.7999999999999998)\", \"rgba(128, 177, 211, 0.7999999999999998)\", \"rgba(255, 153, 51, 0.7999999999999998)\", \"rgba(55, 128, 191, 0.7999999999999998)\", \"rgba(50, 171, 96, 0.7999999999999998)\", \"rgba(128, 0, 128, 0.7999999999999998)\", \"rgba(219, 64, 82, 0.7999999999999998)\", \"rgba(0, 128, 128, 0.7999999999999998)\", \"rgba(255, 255, 51, 0.7999999999999998)\", \"rgba(128, 128, 0, 0.7999999999999998)\", \"rgba(128, 128, 0, 0.7)\", \"rgba(251, 128, 114, 0.7)\", \"rgba(128, 177, 211, 0.7)\", \"rgba(255, 153, 51, 0.7)\", \"rgba(55, 128, 191, 0.7)\", \"rgba(50, 171, 96, 0.7)\", \"rgba(128, 0, 128, 0.7)\", \"rgba(219, 64, 82, 0.7)\", \"rgba(0, 128, 128, 0.7)\", \"rgba(255, 255, 51, 0.7)\", \"rgba(255, 255, 51, 0.5999999999999999)\", \"rgba(128, 128, 0, 0.5999999999999999)\", \"rgba(251, 128, 114, 0.5999999999999999)\", \"rgba(128, 177, 211, 0.5999999999999999)\", \"rgba(255, 153, 51, 0.5999999999999999)\", \"rgba(55, 128, 191, 0.5999999999999999)\", \"rgba(50, 171, 96, 0.5999999999999999)\", \"rgba(128, 0, 128, 0.5999999999999999)\", \"rgba(219, 64, 82, 0.5999999999999999)\", \"rgba(0, 128, 128, 0.5999999999999999)\"]}, \"name\": \"\", \"type\": \"pie\", \"values\": [200000000, 135000000, 100000000, 82900000, 70000000, 48240000, 47520000, 43800000, 43000000, 39098000, 37440000, 37380000, 33140000, 32000000, 30800000, 30320000, 30300000, 30000000, 30000000, 30000000, 29490000, 28300000, 28020000, 28000000, 27500000, 26500000, 26200000, 26040000, 25090000, 25000000, 24730000, 24200000, 24000000, 24000000, 23982960, 23960000, 23600000, 22700000, 22540000, 22000000, 21410000, 21110000, 20972500, 20000000, 20000000, 20000000, 20000000, 19020000, 19010000, 19000000]}],                        {\"legend\": {\"bgcolor\": \"#F5F6F9\", \"font\": {\"color\": \"#4D5663\"}}, \"paper_bgcolor\": \"#F5F6F9\", \"plot_bgcolor\": \"#F5F6F9\", \"title\": \"Sales by Game Title\", \"titlefont\": {\"color\": \"#4D5663\"}},                        {\"showLink\": true, \"linkText\": \"Export to plot.ly\", \"plotlyServerURL\": \"https://plot.ly\", \"responsive\": true}                    ).then(function(){\n",
       "                            \n",
       "var gd = document.getElementById('1a3a04f2-bc6f-42a1-8246-7ec7dd72e07b');\n",
       "var x = new MutationObserver(function (mutations, observer) {{\n",
       "        var display = window.getComputedStyle(gd).display;\n",
       "        if (!display || display === 'none') {{\n",
       "            console.log([gd, 'removed!']);\n",
       "            Plotly.purge(gd);\n",
       "            observer.disconnect();\n",
       "        }}\n",
       "}});\n",
       "\n",
       "// Listen for the removal of the full notebook cells\n",
       "var notebookContainer = gd.closest('#notebook-container');\n",
       "if (notebookContainer) {{\n",
       "    x.observe(notebookContainer, {childList: true});\n",
       "}}\n",
       "\n",
       "// Listen for the clearing of the current output cell\n",
       "var outputEl = gd.closest('.output');\n",
       "if (outputEl) {{\n",
       "    x.observe(outputEl, {childList: true});\n",
       "}}\n",
       "\n",
       "                        })                };                });            </script>        </div>"
      ]
     },
     "metadata": {},
     "output_type": "display_data"
    }
   ],
   "source": [
    "# data exploration\n",
    "sales_df.iplot(kind='pie',labels='Title',values='Sales',title='Sales by Game Title')"
   ]
  },
  {
   "cell_type": "markdown",
   "metadata": {},
   "source": [
    "Let's look at just the top ten entries"
   ]
  },
  {
   "cell_type": "code",
   "execution_count": 5,
   "metadata": {},
   "outputs": [
    {
     "data": {
      "application/vnd.plotly.v1+json": {
       "config": {
        "linkText": "Export to plot.ly",
        "plotlyServerURL": "https://plot.ly",
        "showLink": true
       },
       "data": [
        {
         "labels": [
          "Minecraft",
          "Grand Theft Auto V",
          "Tetris (EA)",
          "Wii Sports",
          "PlayerUnknown's Battlegrounds",
          "Super Mario Bros.",
          "Pokémon Red / Green / Blue / Yellow",
          "Wii Fit and Wii Fit Plus",
          "Tetris (Nintendo)",
          "Pac-Man"
         ],
         "marker": {
          "colors": [
           "rgba(255, 153, 51, 1.0)",
           "rgba(55, 128, 191, 1.0)",
           "rgba(50, 171, 96, 1.0)",
           "rgba(128, 0, 128, 1.0)",
           "rgba(219, 64, 82, 1.0)",
           "rgba(0, 128, 128, 1.0)",
           "rgba(255, 255, 51, 1.0)",
           "rgba(128, 128, 0, 1.0)",
           "rgba(251, 128, 114, 1.0)",
           "rgba(128, 177, 211, 1.0)"
          ]
         },
         "name": "",
         "type": "pie",
         "values": [
          200000000,
          135000000,
          100000000,
          82900000,
          70000000,
          48240000,
          47520000,
          43800000,
          43000000,
          39098000
         ]
        }
       ],
       "layout": {
        "legend": {
         "bgcolor": "#F5F6F9",
         "font": {
          "color": "#4D5663"
         }
        },
        "paper_bgcolor": "#F5F6F9",
        "plot_bgcolor": "#F5F6F9",
        "title": "Sales by Game Title, Top Ten",
        "titlefont": {
         "color": "#4D5663"
        }
       }
      },
      "text/html": [
       "<div>                            <div id=\"d9d9b5de-c757-4f00-bb88-da779e15929c\" class=\"plotly-graph-div\" style=\"height:525px; width:100%;\"></div>            <script type=\"text/javascript\">                require([\"plotly\"], function(Plotly) {                    window.PLOTLYENV=window.PLOTLYENV || {};\n",
       "                    window.PLOTLYENV.BASE_URL='https://plot.ly';                                    if (document.getElementById(\"d9d9b5de-c757-4f00-bb88-da779e15929c\")) {                    Plotly.newPlot(                        \"d9d9b5de-c757-4f00-bb88-da779e15929c\",                        [{\"labels\": [\"Minecraft\", \"Grand Theft Auto V\", \"Tetris\\u00a0(EA)\", \"Wii Sports\", \"PlayerUnknown's Battlegrounds\", \"Super Mario Bros.\", \"Pok\\u00e9mon Red / Green / Blue\\u00a0/\\u00a0Yellow\", \"Wii Fit\\u00a0and\\u00a0Wii Fit Plus\", \"Tetris\\u00a0(Nintendo)\", \"Pac-Man\"], \"marker\": {\"colors\": [\"rgba(255, 153, 51, 1.0)\", \"rgba(55, 128, 191, 1.0)\", \"rgba(50, 171, 96, 1.0)\", \"rgba(128, 0, 128, 1.0)\", \"rgba(219, 64, 82, 1.0)\", \"rgba(0, 128, 128, 1.0)\", \"rgba(255, 255, 51, 1.0)\", \"rgba(128, 128, 0, 1.0)\", \"rgba(251, 128, 114, 1.0)\", \"rgba(128, 177, 211, 1.0)\"]}, \"name\": \"\", \"type\": \"pie\", \"values\": [200000000, 135000000, 100000000, 82900000, 70000000, 48240000, 47520000, 43800000, 43000000, 39098000]}],                        {\"legend\": {\"bgcolor\": \"#F5F6F9\", \"font\": {\"color\": \"#4D5663\"}}, \"paper_bgcolor\": \"#F5F6F9\", \"plot_bgcolor\": \"#F5F6F9\", \"title\": \"Sales by Game Title, Top Ten\", \"titlefont\": {\"color\": \"#4D5663\"}},                        {\"showLink\": true, \"linkText\": \"Export to plot.ly\", \"plotlyServerURL\": \"https://plot.ly\", \"responsive\": true}                    ).then(function(){\n",
       "                            \n",
       "var gd = document.getElementById('d9d9b5de-c757-4f00-bb88-da779e15929c');\n",
       "var x = new MutationObserver(function (mutations, observer) {{\n",
       "        var display = window.getComputedStyle(gd).display;\n",
       "        if (!display || display === 'none') {{\n",
       "            console.log([gd, 'removed!']);\n",
       "            Plotly.purge(gd);\n",
       "            observer.disconnect();\n",
       "        }}\n",
       "}});\n",
       "\n",
       "// Listen for the removal of the full notebook cells\n",
       "var notebookContainer = gd.closest('#notebook-container');\n",
       "if (notebookContainer) {{\n",
       "    x.observe(notebookContainer, {childList: true});\n",
       "}}\n",
       "\n",
       "// Listen for the clearing of the current output cell\n",
       "var outputEl = gd.closest('.output');\n",
       "if (outputEl) {{\n",
       "    x.observe(outputEl, {childList: true});\n",
       "}}\n",
       "\n",
       "                        })                };                });            </script>        </div>"
      ]
     },
     "metadata": {},
     "output_type": "display_data"
    }
   ],
   "source": [
    "sales_df[0:10].iplot(kind='pie',labels='Title',values='Sales',title='Sales by Game Title, Top Ten')"
   ]
  },
  {
   "cell_type": "markdown",
   "metadata": {},
   "source": [
    "Maybe you prefer to see this data as a bar chart. This will show explicitly the dollar value."
   ]
  },
  {
   "cell_type": "code",
   "execution_count": 6,
   "metadata": {},
   "outputs": [
    {
     "data": {
      "application/vnd.plotly.v1+json": {
       "config": {
        "linkText": "Export to plot.ly",
        "plotlyServerURL": "https://plot.ly",
        "showLink": true
       },
       "data": [
        {
         "marker": {
          "color": "rgba(255, 153, 51, 0.6)",
          "line": {
           "color": "rgba(255, 153, 51, 1.0)",
           "width": 1
          }
         },
         "name": "Sales",
         "orientation": "v",
         "text": "",
         "type": "bar",
         "x": [
          "Minecraft",
          "Grand Theft Auto V",
          "Tetris (EA)",
          "Wii Sports",
          "PlayerUnknown's Battlegrounds",
          "Super Mario Bros.",
          "Pokémon Red / Green / Blue / Yellow",
          "Wii Fit and Wii Fit Plus",
          "Tetris (Nintendo)",
          "Pac-Man"
         ],
         "y": [
          200000000,
          135000000,
          100000000,
          82900000,
          70000000,
          48240000,
          47520000,
          43800000,
          43000000,
          39098000
         ]
        }
       ],
       "layout": {
        "legend": {
         "bgcolor": "#F5F6F9",
         "font": {
          "color": "#4D5663"
         }
        },
        "paper_bgcolor": "#F5F6F9",
        "plot_bgcolor": "#F5F6F9",
        "template": {
         "data": {
          "bar": [
           {
            "error_x": {
             "color": "#2a3f5f"
            },
            "error_y": {
             "color": "#2a3f5f"
            },
            "marker": {
             "line": {
              "color": "#E5ECF6",
              "width": 0.5
             }
            },
            "type": "bar"
           }
          ],
          "barpolar": [
           {
            "marker": {
             "line": {
              "color": "#E5ECF6",
              "width": 0.5
             }
            },
            "type": "barpolar"
           }
          ],
          "carpet": [
           {
            "aaxis": {
             "endlinecolor": "#2a3f5f",
             "gridcolor": "white",
             "linecolor": "white",
             "minorgridcolor": "white",
             "startlinecolor": "#2a3f5f"
            },
            "baxis": {
             "endlinecolor": "#2a3f5f",
             "gridcolor": "white",
             "linecolor": "white",
             "minorgridcolor": "white",
             "startlinecolor": "#2a3f5f"
            },
            "type": "carpet"
           }
          ],
          "choropleth": [
           {
            "colorbar": {
             "outlinewidth": 0,
             "ticks": ""
            },
            "type": "choropleth"
           }
          ],
          "contour": [
           {
            "colorbar": {
             "outlinewidth": 0,
             "ticks": ""
            },
            "colorscale": [
             [
              0,
              "#0d0887"
             ],
             [
              0.1111111111111111,
              "#46039f"
             ],
             [
              0.2222222222222222,
              "#7201a8"
             ],
             [
              0.3333333333333333,
              "#9c179e"
             ],
             [
              0.4444444444444444,
              "#bd3786"
             ],
             [
              0.5555555555555556,
              "#d8576b"
             ],
             [
              0.6666666666666666,
              "#ed7953"
             ],
             [
              0.7777777777777778,
              "#fb9f3a"
             ],
             [
              0.8888888888888888,
              "#fdca26"
             ],
             [
              1,
              "#f0f921"
             ]
            ],
            "type": "contour"
           }
          ],
          "contourcarpet": [
           {
            "colorbar": {
             "outlinewidth": 0,
             "ticks": ""
            },
            "type": "contourcarpet"
           }
          ],
          "heatmap": [
           {
            "colorbar": {
             "outlinewidth": 0,
             "ticks": ""
            },
            "colorscale": [
             [
              0,
              "#0d0887"
             ],
             [
              0.1111111111111111,
              "#46039f"
             ],
             [
              0.2222222222222222,
              "#7201a8"
             ],
             [
              0.3333333333333333,
              "#9c179e"
             ],
             [
              0.4444444444444444,
              "#bd3786"
             ],
             [
              0.5555555555555556,
              "#d8576b"
             ],
             [
              0.6666666666666666,
              "#ed7953"
             ],
             [
              0.7777777777777778,
              "#fb9f3a"
             ],
             [
              0.8888888888888888,
              "#fdca26"
             ],
             [
              1,
              "#f0f921"
             ]
            ],
            "type": "heatmap"
           }
          ],
          "heatmapgl": [
           {
            "colorbar": {
             "outlinewidth": 0,
             "ticks": ""
            },
            "colorscale": [
             [
              0,
              "#0d0887"
             ],
             [
              0.1111111111111111,
              "#46039f"
             ],
             [
              0.2222222222222222,
              "#7201a8"
             ],
             [
              0.3333333333333333,
              "#9c179e"
             ],
             [
              0.4444444444444444,
              "#bd3786"
             ],
             [
              0.5555555555555556,
              "#d8576b"
             ],
             [
              0.6666666666666666,
              "#ed7953"
             ],
             [
              0.7777777777777778,
              "#fb9f3a"
             ],
             [
              0.8888888888888888,
              "#fdca26"
             ],
             [
              1,
              "#f0f921"
             ]
            ],
            "type": "heatmapgl"
           }
          ],
          "histogram": [
           {
            "marker": {
             "colorbar": {
              "outlinewidth": 0,
              "ticks": ""
             }
            },
            "type": "histogram"
           }
          ],
          "histogram2d": [
           {
            "colorbar": {
             "outlinewidth": 0,
             "ticks": ""
            },
            "colorscale": [
             [
              0,
              "#0d0887"
             ],
             [
              0.1111111111111111,
              "#46039f"
             ],
             [
              0.2222222222222222,
              "#7201a8"
             ],
             [
              0.3333333333333333,
              "#9c179e"
             ],
             [
              0.4444444444444444,
              "#bd3786"
             ],
             [
              0.5555555555555556,
              "#d8576b"
             ],
             [
              0.6666666666666666,
              "#ed7953"
             ],
             [
              0.7777777777777778,
              "#fb9f3a"
             ],
             [
              0.8888888888888888,
              "#fdca26"
             ],
             [
              1,
              "#f0f921"
             ]
            ],
            "type": "histogram2d"
           }
          ],
          "histogram2dcontour": [
           {
            "colorbar": {
             "outlinewidth": 0,
             "ticks": ""
            },
            "colorscale": [
             [
              0,
              "#0d0887"
             ],
             [
              0.1111111111111111,
              "#46039f"
             ],
             [
              0.2222222222222222,
              "#7201a8"
             ],
             [
              0.3333333333333333,
              "#9c179e"
             ],
             [
              0.4444444444444444,
              "#bd3786"
             ],
             [
              0.5555555555555556,
              "#d8576b"
             ],
             [
              0.6666666666666666,
              "#ed7953"
             ],
             [
              0.7777777777777778,
              "#fb9f3a"
             ],
             [
              0.8888888888888888,
              "#fdca26"
             ],
             [
              1,
              "#f0f921"
             ]
            ],
            "type": "histogram2dcontour"
           }
          ],
          "mesh3d": [
           {
            "colorbar": {
             "outlinewidth": 0,
             "ticks": ""
            },
            "type": "mesh3d"
           }
          ],
          "parcoords": [
           {
            "line": {
             "colorbar": {
              "outlinewidth": 0,
              "ticks": ""
             }
            },
            "type": "parcoords"
           }
          ],
          "pie": [
           {
            "automargin": true,
            "type": "pie"
           }
          ],
          "scatter": [
           {
            "marker": {
             "colorbar": {
              "outlinewidth": 0,
              "ticks": ""
             }
            },
            "type": "scatter"
           }
          ],
          "scatter3d": [
           {
            "line": {
             "colorbar": {
              "outlinewidth": 0,
              "ticks": ""
             }
            },
            "marker": {
             "colorbar": {
              "outlinewidth": 0,
              "ticks": ""
             }
            },
            "type": "scatter3d"
           }
          ],
          "scattercarpet": [
           {
            "marker": {
             "colorbar": {
              "outlinewidth": 0,
              "ticks": ""
             }
            },
            "type": "scattercarpet"
           }
          ],
          "scattergeo": [
           {
            "marker": {
             "colorbar": {
              "outlinewidth": 0,
              "ticks": ""
             }
            },
            "type": "scattergeo"
           }
          ],
          "scattergl": [
           {
            "marker": {
             "colorbar": {
              "outlinewidth": 0,
              "ticks": ""
             }
            },
            "type": "scattergl"
           }
          ],
          "scattermapbox": [
           {
            "marker": {
             "colorbar": {
              "outlinewidth": 0,
              "ticks": ""
             }
            },
            "type": "scattermapbox"
           }
          ],
          "scatterpolar": [
           {
            "marker": {
             "colorbar": {
              "outlinewidth": 0,
              "ticks": ""
             }
            },
            "type": "scatterpolar"
           }
          ],
          "scatterpolargl": [
           {
            "marker": {
             "colorbar": {
              "outlinewidth": 0,
              "ticks": ""
             }
            },
            "type": "scatterpolargl"
           }
          ],
          "scatterternary": [
           {
            "marker": {
             "colorbar": {
              "outlinewidth": 0,
              "ticks": ""
             }
            },
            "type": "scatterternary"
           }
          ],
          "surface": [
           {
            "colorbar": {
             "outlinewidth": 0,
             "ticks": ""
            },
            "colorscale": [
             [
              0,
              "#0d0887"
             ],
             [
              0.1111111111111111,
              "#46039f"
             ],
             [
              0.2222222222222222,
              "#7201a8"
             ],
             [
              0.3333333333333333,
              "#9c179e"
             ],
             [
              0.4444444444444444,
              "#bd3786"
             ],
             [
              0.5555555555555556,
              "#d8576b"
             ],
             [
              0.6666666666666666,
              "#ed7953"
             ],
             [
              0.7777777777777778,
              "#fb9f3a"
             ],
             [
              0.8888888888888888,
              "#fdca26"
             ],
             [
              1,
              "#f0f921"
             ]
            ],
            "type": "surface"
           }
          ],
          "table": [
           {
            "cells": {
             "fill": {
              "color": "#EBF0F8"
             },
             "line": {
              "color": "white"
             }
            },
            "header": {
             "fill": {
              "color": "#C8D4E3"
             },
             "line": {
              "color": "white"
             }
            },
            "type": "table"
           }
          ]
         },
         "layout": {
          "annotationdefaults": {
           "arrowcolor": "#2a3f5f",
           "arrowhead": 0,
           "arrowwidth": 1
          },
          "coloraxis": {
           "colorbar": {
            "outlinewidth": 0,
            "ticks": ""
           }
          },
          "colorscale": {
           "diverging": [
            [
             0,
             "#8e0152"
            ],
            [
             0.1,
             "#c51b7d"
            ],
            [
             0.2,
             "#de77ae"
            ],
            [
             0.3,
             "#f1b6da"
            ],
            [
             0.4,
             "#fde0ef"
            ],
            [
             0.5,
             "#f7f7f7"
            ],
            [
             0.6,
             "#e6f5d0"
            ],
            [
             0.7,
             "#b8e186"
            ],
            [
             0.8,
             "#7fbc41"
            ],
            [
             0.9,
             "#4d9221"
            ],
            [
             1,
             "#276419"
            ]
           ],
           "sequential": [
            [
             0,
             "#0d0887"
            ],
            [
             0.1111111111111111,
             "#46039f"
            ],
            [
             0.2222222222222222,
             "#7201a8"
            ],
            [
             0.3333333333333333,
             "#9c179e"
            ],
            [
             0.4444444444444444,
             "#bd3786"
            ],
            [
             0.5555555555555556,
             "#d8576b"
            ],
            [
             0.6666666666666666,
             "#ed7953"
            ],
            [
             0.7777777777777778,
             "#fb9f3a"
            ],
            [
             0.8888888888888888,
             "#fdca26"
            ],
            [
             1,
             "#f0f921"
            ]
           ],
           "sequentialminus": [
            [
             0,
             "#0d0887"
            ],
            [
             0.1111111111111111,
             "#46039f"
            ],
            [
             0.2222222222222222,
             "#7201a8"
            ],
            [
             0.3333333333333333,
             "#9c179e"
            ],
            [
             0.4444444444444444,
             "#bd3786"
            ],
            [
             0.5555555555555556,
             "#d8576b"
            ],
            [
             0.6666666666666666,
             "#ed7953"
            ],
            [
             0.7777777777777778,
             "#fb9f3a"
            ],
            [
             0.8888888888888888,
             "#fdca26"
            ],
            [
             1,
             "#f0f921"
            ]
           ]
          },
          "colorway": [
           "#636efa",
           "#EF553B",
           "#00cc96",
           "#ab63fa",
           "#FFA15A",
           "#19d3f3",
           "#FF6692",
           "#B6E880",
           "#FF97FF",
           "#FECB52"
          ],
          "font": {
           "color": "#2a3f5f"
          },
          "geo": {
           "bgcolor": "white",
           "lakecolor": "white",
           "landcolor": "#E5ECF6",
           "showlakes": true,
           "showland": true,
           "subunitcolor": "white"
          },
          "hoverlabel": {
           "align": "left"
          },
          "hovermode": "closest",
          "mapbox": {
           "style": "light"
          },
          "paper_bgcolor": "white",
          "plot_bgcolor": "#E5ECF6",
          "polar": {
           "angularaxis": {
            "gridcolor": "white",
            "linecolor": "white",
            "ticks": ""
           },
           "bgcolor": "#E5ECF6",
           "radialaxis": {
            "gridcolor": "white",
            "linecolor": "white",
            "ticks": ""
           }
          },
          "scene": {
           "xaxis": {
            "backgroundcolor": "#E5ECF6",
            "gridcolor": "white",
            "gridwidth": 2,
            "linecolor": "white",
            "showbackground": true,
            "ticks": "",
            "zerolinecolor": "white"
           },
           "yaxis": {
            "backgroundcolor": "#E5ECF6",
            "gridcolor": "white",
            "gridwidth": 2,
            "linecolor": "white",
            "showbackground": true,
            "ticks": "",
            "zerolinecolor": "white"
           },
           "zaxis": {
            "backgroundcolor": "#E5ECF6",
            "gridcolor": "white",
            "gridwidth": 2,
            "linecolor": "white",
            "showbackground": true,
            "ticks": "",
            "zerolinecolor": "white"
           }
          },
          "shapedefaults": {
           "line": {
            "color": "#2a3f5f"
           }
          },
          "ternary": {
           "aaxis": {
            "gridcolor": "white",
            "linecolor": "white",
            "ticks": ""
           },
           "baxis": {
            "gridcolor": "white",
            "linecolor": "white",
            "ticks": ""
           },
           "bgcolor": "#E5ECF6",
           "caxis": {
            "gridcolor": "white",
            "linecolor": "white",
            "ticks": ""
           }
          },
          "title": {
           "x": 0.05
          },
          "xaxis": {
           "automargin": true,
           "gridcolor": "white",
           "linecolor": "white",
           "ticks": "",
           "title": {
            "standoff": 15
           },
           "zerolinecolor": "white",
           "zerolinewidth": 2
          },
          "yaxis": {
           "automargin": true,
           "gridcolor": "white",
           "linecolor": "white",
           "ticks": "",
           "title": {
            "standoff": 15
           },
           "zerolinecolor": "white",
           "zerolinewidth": 2
          }
         }
        },
        "title": {
         "font": {
          "color": "#4D5663"
         },
         "text": "Sales by Game Title, Top Ten"
        },
        "xaxis": {
         "gridcolor": "#E1E5ED",
         "showgrid": true,
         "tickfont": {
          "color": "#4D5663"
         },
         "title": {
          "font": {
           "color": "#4D5663"
          },
          "text": ""
         },
         "zerolinecolor": "#E1E5ED"
        },
        "yaxis": {
         "gridcolor": "#E1E5ED",
         "showgrid": true,
         "tickfont": {
          "color": "#4D5663"
         },
         "title": {
          "font": {
           "color": "#4D5663"
          },
          "text": ""
         },
         "zerolinecolor": "#E1E5ED"
        }
       }
      },
      "text/html": [
       "<div>                            <div id=\"47194503-0b07-4e87-9f8b-9e9d57c1c793\" class=\"plotly-graph-div\" style=\"height:525px; width:100%;\"></div>            <script type=\"text/javascript\">                require([\"plotly\"], function(Plotly) {                    window.PLOTLYENV=window.PLOTLYENV || {};\n",
       "                    window.PLOTLYENV.BASE_URL='https://plot.ly';                                    if (document.getElementById(\"47194503-0b07-4e87-9f8b-9e9d57c1c793\")) {                    Plotly.newPlot(                        \"47194503-0b07-4e87-9f8b-9e9d57c1c793\",                        [{\"marker\": {\"color\": \"rgba(255, 153, 51, 0.6)\", \"line\": {\"color\": \"rgba(255, 153, 51, 1.0)\", \"width\": 1}}, \"name\": \"Sales\", \"orientation\": \"v\", \"text\": \"\", \"type\": \"bar\", \"x\": [\"Minecraft\", \"Grand Theft Auto V\", \"Tetris\\u00a0(EA)\", \"Wii Sports\", \"PlayerUnknown's Battlegrounds\", \"Super Mario Bros.\", \"Pok\\u00e9mon Red / Green / Blue\\u00a0/\\u00a0Yellow\", \"Wii Fit\\u00a0and\\u00a0Wii Fit Plus\", \"Tetris\\u00a0(Nintendo)\", \"Pac-Man\"], \"y\": [200000000, 135000000, 100000000, 82900000, 70000000, 48240000, 47520000, 43800000, 43000000, 39098000]}],                        {\"legend\": {\"bgcolor\": \"#F5F6F9\", \"font\": {\"color\": \"#4D5663\"}}, \"paper_bgcolor\": \"#F5F6F9\", \"plot_bgcolor\": \"#F5F6F9\", \"template\": {\"data\": {\"bar\": [{\"error_x\": {\"color\": \"#2a3f5f\"}, \"error_y\": {\"color\": \"#2a3f5f\"}, \"marker\": {\"line\": {\"color\": \"#E5ECF6\", \"width\": 0.5}}, \"type\": \"bar\"}], \"barpolar\": [{\"marker\": {\"line\": {\"color\": \"#E5ECF6\", \"width\": 0.5}}, \"type\": \"barpolar\"}], \"carpet\": [{\"aaxis\": {\"endlinecolor\": \"#2a3f5f\", \"gridcolor\": \"white\", \"linecolor\": \"white\", \"minorgridcolor\": \"white\", \"startlinecolor\": \"#2a3f5f\"}, \"baxis\": {\"endlinecolor\": \"#2a3f5f\", \"gridcolor\": \"white\", \"linecolor\": \"white\", \"minorgridcolor\": \"white\", \"startlinecolor\": \"#2a3f5f\"}, \"type\": \"carpet\"}], \"choropleth\": [{\"colorbar\": {\"outlinewidth\": 0, \"ticks\": \"\"}, \"type\": \"choropleth\"}], \"contour\": [{\"colorbar\": {\"outlinewidth\": 0, \"ticks\": \"\"}, \"colorscale\": [[0.0, \"#0d0887\"], [0.1111111111111111, \"#46039f\"], [0.2222222222222222, \"#7201a8\"], [0.3333333333333333, \"#9c179e\"], [0.4444444444444444, \"#bd3786\"], [0.5555555555555556, \"#d8576b\"], [0.6666666666666666, \"#ed7953\"], [0.7777777777777778, \"#fb9f3a\"], [0.8888888888888888, \"#fdca26\"], [1.0, \"#f0f921\"]], \"type\": \"contour\"}], \"contourcarpet\": [{\"colorbar\": {\"outlinewidth\": 0, \"ticks\": \"\"}, \"type\": \"contourcarpet\"}], \"heatmap\": [{\"colorbar\": {\"outlinewidth\": 0, \"ticks\": \"\"}, \"colorscale\": [[0.0, \"#0d0887\"], [0.1111111111111111, \"#46039f\"], [0.2222222222222222, \"#7201a8\"], [0.3333333333333333, \"#9c179e\"], [0.4444444444444444, \"#bd3786\"], [0.5555555555555556, \"#d8576b\"], [0.6666666666666666, \"#ed7953\"], [0.7777777777777778, \"#fb9f3a\"], [0.8888888888888888, \"#fdca26\"], [1.0, \"#f0f921\"]], \"type\": \"heatmap\"}], \"heatmapgl\": [{\"colorbar\": {\"outlinewidth\": 0, \"ticks\": \"\"}, \"colorscale\": [[0.0, \"#0d0887\"], [0.1111111111111111, \"#46039f\"], [0.2222222222222222, \"#7201a8\"], [0.3333333333333333, \"#9c179e\"], [0.4444444444444444, \"#bd3786\"], [0.5555555555555556, \"#d8576b\"], [0.6666666666666666, \"#ed7953\"], [0.7777777777777778, \"#fb9f3a\"], [0.8888888888888888, \"#fdca26\"], [1.0, \"#f0f921\"]], \"type\": \"heatmapgl\"}], \"histogram\": [{\"marker\": {\"colorbar\": {\"outlinewidth\": 0, \"ticks\": \"\"}}, \"type\": \"histogram\"}], \"histogram2d\": [{\"colorbar\": {\"outlinewidth\": 0, \"ticks\": \"\"}, \"colorscale\": [[0.0, \"#0d0887\"], [0.1111111111111111, \"#46039f\"], [0.2222222222222222, \"#7201a8\"], [0.3333333333333333, \"#9c179e\"], [0.4444444444444444, \"#bd3786\"], [0.5555555555555556, \"#d8576b\"], [0.6666666666666666, \"#ed7953\"], [0.7777777777777778, \"#fb9f3a\"], [0.8888888888888888, \"#fdca26\"], [1.0, \"#f0f921\"]], \"type\": \"histogram2d\"}], \"histogram2dcontour\": [{\"colorbar\": {\"outlinewidth\": 0, \"ticks\": \"\"}, \"colorscale\": [[0.0, \"#0d0887\"], [0.1111111111111111, \"#46039f\"], [0.2222222222222222, \"#7201a8\"], [0.3333333333333333, \"#9c179e\"], [0.4444444444444444, \"#bd3786\"], [0.5555555555555556, \"#d8576b\"], [0.6666666666666666, \"#ed7953\"], [0.7777777777777778, \"#fb9f3a\"], [0.8888888888888888, \"#fdca26\"], [1.0, \"#f0f921\"]], \"type\": \"histogram2dcontour\"}], \"mesh3d\": [{\"colorbar\": {\"outlinewidth\": 0, \"ticks\": \"\"}, \"type\": \"mesh3d\"}], \"parcoords\": [{\"line\": {\"colorbar\": {\"outlinewidth\": 0, \"ticks\": \"\"}}, \"type\": \"parcoords\"}], \"pie\": [{\"automargin\": true, \"type\": \"pie\"}], \"scatter\": [{\"marker\": {\"colorbar\": {\"outlinewidth\": 0, \"ticks\": \"\"}}, \"type\": \"scatter\"}], \"scatter3d\": [{\"line\": {\"colorbar\": {\"outlinewidth\": 0, \"ticks\": \"\"}}, \"marker\": {\"colorbar\": {\"outlinewidth\": 0, \"ticks\": \"\"}}, \"type\": \"scatter3d\"}], \"scattercarpet\": [{\"marker\": {\"colorbar\": {\"outlinewidth\": 0, \"ticks\": \"\"}}, \"type\": \"scattercarpet\"}], \"scattergeo\": [{\"marker\": {\"colorbar\": {\"outlinewidth\": 0, \"ticks\": \"\"}}, \"type\": \"scattergeo\"}], \"scattergl\": [{\"marker\": {\"colorbar\": {\"outlinewidth\": 0, \"ticks\": \"\"}}, \"type\": \"scattergl\"}], \"scattermapbox\": [{\"marker\": {\"colorbar\": {\"outlinewidth\": 0, \"ticks\": \"\"}}, \"type\": \"scattermapbox\"}], \"scatterpolar\": [{\"marker\": {\"colorbar\": {\"outlinewidth\": 0, \"ticks\": \"\"}}, \"type\": \"scatterpolar\"}], \"scatterpolargl\": [{\"marker\": {\"colorbar\": {\"outlinewidth\": 0, \"ticks\": \"\"}}, \"type\": \"scatterpolargl\"}], \"scatterternary\": [{\"marker\": {\"colorbar\": {\"outlinewidth\": 0, \"ticks\": \"\"}}, \"type\": \"scatterternary\"}], \"surface\": [{\"colorbar\": {\"outlinewidth\": 0, \"ticks\": \"\"}, \"colorscale\": [[0.0, \"#0d0887\"], [0.1111111111111111, \"#46039f\"], [0.2222222222222222, \"#7201a8\"], [0.3333333333333333, \"#9c179e\"], [0.4444444444444444, \"#bd3786\"], [0.5555555555555556, \"#d8576b\"], [0.6666666666666666, \"#ed7953\"], [0.7777777777777778, \"#fb9f3a\"], [0.8888888888888888, \"#fdca26\"], [1.0, \"#f0f921\"]], \"type\": \"surface\"}], \"table\": [{\"cells\": {\"fill\": {\"color\": \"#EBF0F8\"}, \"line\": {\"color\": \"white\"}}, \"header\": {\"fill\": {\"color\": \"#C8D4E3\"}, \"line\": {\"color\": \"white\"}}, \"type\": \"table\"}]}, \"layout\": {\"annotationdefaults\": {\"arrowcolor\": \"#2a3f5f\", \"arrowhead\": 0, \"arrowwidth\": 1}, \"coloraxis\": {\"colorbar\": {\"outlinewidth\": 0, \"ticks\": \"\"}}, \"colorscale\": {\"diverging\": [[0, \"#8e0152\"], [0.1, \"#c51b7d\"], [0.2, \"#de77ae\"], [0.3, \"#f1b6da\"], [0.4, \"#fde0ef\"], [0.5, \"#f7f7f7\"], [0.6, \"#e6f5d0\"], [0.7, \"#b8e186\"], [0.8, \"#7fbc41\"], [0.9, \"#4d9221\"], [1, \"#276419\"]], \"sequential\": [[0.0, \"#0d0887\"], [0.1111111111111111, \"#46039f\"], [0.2222222222222222, \"#7201a8\"], [0.3333333333333333, \"#9c179e\"], [0.4444444444444444, \"#bd3786\"], [0.5555555555555556, \"#d8576b\"], [0.6666666666666666, \"#ed7953\"], [0.7777777777777778, \"#fb9f3a\"], [0.8888888888888888, \"#fdca26\"], [1.0, \"#f0f921\"]], \"sequentialminus\": [[0.0, \"#0d0887\"], [0.1111111111111111, \"#46039f\"], [0.2222222222222222, \"#7201a8\"], [0.3333333333333333, \"#9c179e\"], [0.4444444444444444, \"#bd3786\"], [0.5555555555555556, \"#d8576b\"], [0.6666666666666666, \"#ed7953\"], [0.7777777777777778, \"#fb9f3a\"], [0.8888888888888888, \"#fdca26\"], [1.0, \"#f0f921\"]]}, \"colorway\": [\"#636efa\", \"#EF553B\", \"#00cc96\", \"#ab63fa\", \"#FFA15A\", \"#19d3f3\", \"#FF6692\", \"#B6E880\", \"#FF97FF\", \"#FECB52\"], \"font\": {\"color\": \"#2a3f5f\"}, \"geo\": {\"bgcolor\": \"white\", \"lakecolor\": \"white\", \"landcolor\": \"#E5ECF6\", \"showlakes\": true, \"showland\": true, \"subunitcolor\": \"white\"}, \"hoverlabel\": {\"align\": \"left\"}, \"hovermode\": \"closest\", \"mapbox\": {\"style\": \"light\"}, \"paper_bgcolor\": \"white\", \"plot_bgcolor\": \"#E5ECF6\", \"polar\": {\"angularaxis\": {\"gridcolor\": \"white\", \"linecolor\": \"white\", \"ticks\": \"\"}, \"bgcolor\": \"#E5ECF6\", \"radialaxis\": {\"gridcolor\": \"white\", \"linecolor\": \"white\", \"ticks\": \"\"}}, \"scene\": {\"xaxis\": {\"backgroundcolor\": \"#E5ECF6\", \"gridcolor\": \"white\", \"gridwidth\": 2, \"linecolor\": \"white\", \"showbackground\": true, \"ticks\": \"\", \"zerolinecolor\": \"white\"}, \"yaxis\": {\"backgroundcolor\": \"#E5ECF6\", \"gridcolor\": \"white\", \"gridwidth\": 2, \"linecolor\": \"white\", \"showbackground\": true, \"ticks\": \"\", \"zerolinecolor\": \"white\"}, \"zaxis\": {\"backgroundcolor\": \"#E5ECF6\", \"gridcolor\": \"white\", \"gridwidth\": 2, \"linecolor\": \"white\", \"showbackground\": true, \"ticks\": \"\", \"zerolinecolor\": \"white\"}}, \"shapedefaults\": {\"line\": {\"color\": \"#2a3f5f\"}}, \"ternary\": {\"aaxis\": {\"gridcolor\": \"white\", \"linecolor\": \"white\", \"ticks\": \"\"}, \"baxis\": {\"gridcolor\": \"white\", \"linecolor\": \"white\", \"ticks\": \"\"}, \"bgcolor\": \"#E5ECF6\", \"caxis\": {\"gridcolor\": \"white\", \"linecolor\": \"white\", \"ticks\": \"\"}}, \"title\": {\"x\": 0.05}, \"xaxis\": {\"automargin\": true, \"gridcolor\": \"white\", \"linecolor\": \"white\", \"ticks\": \"\", \"title\": {\"standoff\": 15}, \"zerolinecolor\": \"white\", \"zerolinewidth\": 2}, \"yaxis\": {\"automargin\": true, \"gridcolor\": \"white\", \"linecolor\": \"white\", \"ticks\": \"\", \"title\": {\"standoff\": 15}, \"zerolinecolor\": \"white\", \"zerolinewidth\": 2}}}, \"title\": {\"font\": {\"color\": \"#4D5663\"}, \"text\": \"Sales by Game Title, Top Ten\"}, \"xaxis\": {\"gridcolor\": \"#E1E5ED\", \"showgrid\": true, \"tickfont\": {\"color\": \"#4D5663\"}, \"title\": {\"font\": {\"color\": \"#4D5663\"}, \"text\": \"\"}, \"zerolinecolor\": \"#E1E5ED\"}, \"yaxis\": {\"gridcolor\": \"#E1E5ED\", \"showgrid\": true, \"tickfont\": {\"color\": \"#4D5663\"}, \"title\": {\"font\": {\"color\": \"#4D5663\"}, \"text\": \"\"}, \"zerolinecolor\": \"#E1E5ED\"}},                        {\"showLink\": true, \"linkText\": \"Export to plot.ly\", \"plotlyServerURL\": \"https://plot.ly\", \"responsive\": true}                    ).then(function(){\n",
       "                            \n",
       "var gd = document.getElementById('47194503-0b07-4e87-9f8b-9e9d57c1c793');\n",
       "var x = new MutationObserver(function (mutations, observer) {{\n",
       "        var display = window.getComputedStyle(gd).display;\n",
       "        if (!display || display === 'none') {{\n",
       "            console.log([gd, 'removed!']);\n",
       "            Plotly.purge(gd);\n",
       "            observer.disconnect();\n",
       "        }}\n",
       "}});\n",
       "\n",
       "// Listen for the removal of the full notebook cells\n",
       "var notebookContainer = gd.closest('#notebook-container');\n",
       "if (notebookContainer) {{\n",
       "    x.observe(notebookContainer, {childList: true});\n",
       "}}\n",
       "\n",
       "// Listen for the clearing of the current output cell\n",
       "var outputEl = gd.closest('.output');\n",
       "if (outputEl) {{\n",
       "    x.observe(outputEl, {childList: true});\n",
       "}}\n",
       "\n",
       "                        })                };                });            </script>        </div>"
      ]
     },
     "metadata": {},
     "output_type": "display_data"
    }
   ],
   "source": [
    "sales_df.index = sales_df['Title']\n",
    "sales_df[0:10]['Sales'].iplot(kind='bar',values='Sales',title='Sales by Game Title, Top Ten')"
   ]
  },
  {
   "cell_type": "markdown",
   "metadata": {},
   "source": [
    "While we are looking at sales, maybe we can also look at which companies are selling well. We have that data in our dataframe, so let's group the information together and visualize it."
   ]
  },
  {
   "cell_type": "code",
   "execution_count": 7,
   "metadata": {},
   "outputs": [
    {
     "data": {
      "text/html": [
       "<div>\n",
       "<style scoped>\n",
       "    .dataframe tbody tr th:only-of-type {\n",
       "        vertical-align: middle;\n",
       "    }\n",
       "\n",
       "    .dataframe tbody tr th {\n",
       "        vertical-align: top;\n",
       "    }\n",
       "\n",
       "    .dataframe thead th {\n",
       "        text-align: right;\n",
       "    }\n",
       "</style>\n",
       "<table border=\"1\" class=\"dataframe\">\n",
       "  <thead>\n",
       "    <tr style=\"text-align: right;\">\n",
       "      <th></th>\n",
       "      <th>Publisher</th>\n",
       "      <th>Rank</th>\n",
       "      <th>Sales</th>\n",
       "    </tr>\n",
       "  </thead>\n",
       "  <tbody>\n",
       "    <tr>\n",
       "      <th>0</th>\n",
       "      <td>2K Games</td>\n",
       "      <td>40</td>\n",
       "      <td>22000000</td>\n",
       "    </tr>\n",
       "    <tr>\n",
       "      <th>1</th>\n",
       "      <td>Activision</td>\n",
       "      <td>141</td>\n",
       "      <td>129600000</td>\n",
       "    </tr>\n",
       "    <tr>\n",
       "      <th>2</th>\n",
       "      <td>Bethesda Softworks</td>\n",
       "      <td>19</td>\n",
       "      <td>30000000</td>\n",
       "    </tr>\n",
       "    <tr>\n",
       "      <th>3</th>\n",
       "      <td>Blizzard Entertainment</td>\n",
       "      <td>20</td>\n",
       "      <td>30000000</td>\n",
       "    </tr>\n",
       "    <tr>\n",
       "      <th>4</th>\n",
       "      <td>CD Projekt</td>\n",
       "      <td>24</td>\n",
       "      <td>28000000</td>\n",
       "    </tr>\n",
       "    <tr>\n",
       "      <th>5</th>\n",
       "      <td>Electronic Arts</td>\n",
       "      <td>37</td>\n",
       "      <td>124000000</td>\n",
       "    </tr>\n",
       "    <tr>\n",
       "      <th>6</th>\n",
       "      <td>Mojang Studios</td>\n",
       "      <td>1</td>\n",
       "      <td>200000000</td>\n",
       "    </tr>\n",
       "    <tr>\n",
       "      <th>7</th>\n",
       "      <td>Namco</td>\n",
       "      <td>10</td>\n",
       "      <td>39098000</td>\n",
       "    </tr>\n",
       "    <tr>\n",
       "      <th>8</th>\n",
       "      <td>Nintendo</td>\n",
       "      <td>493</td>\n",
       "      <td>695452500</td>\n",
       "    </tr>\n",
       "    <tr>\n",
       "      <th>9</th>\n",
       "      <td>Nintendo / The Pokémon Company</td>\n",
       "      <td>147</td>\n",
       "      <td>91380000</td>\n",
       "    </tr>\n",
       "    <tr>\n",
       "      <th>10</th>\n",
       "      <td>PUBG Corporation</td>\n",
       "      <td>5</td>\n",
       "      <td>70000000</td>\n",
       "    </tr>\n",
       "    <tr>\n",
       "      <th>11</th>\n",
       "      <td>Psygnosis</td>\n",
       "      <td>45</td>\n",
       "      <td>20000000</td>\n",
       "    </tr>\n",
       "    <tr>\n",
       "      <th>12</th>\n",
       "      <td>Re-Logic / 505 Games</td>\n",
       "      <td>17</td>\n",
       "      <td>30300000</td>\n",
       "    </tr>\n",
       "    <tr>\n",
       "      <th>13</th>\n",
       "      <td>Rockstar Games</td>\n",
       "      <td>117</td>\n",
       "      <td>239500000</td>\n",
       "    </tr>\n",
       "    <tr>\n",
       "      <th>14</th>\n",
       "      <td>Sega</td>\n",
       "      <td>79</td>\n",
       "      <td>43982960</td>\n",
       "    </tr>\n",
       "    <tr>\n",
       "      <th>15</th>\n",
       "      <td>Sony Computer Entertainment</td>\n",
       "      <td>47</td>\n",
       "      <td>20000000</td>\n",
       "    </tr>\n",
       "    <tr>\n",
       "      <th>16</th>\n",
       "      <td>Xbox Game Studios</td>\n",
       "      <td>33</td>\n",
       "      <td>24000000</td>\n",
       "    </tr>\n",
       "  </tbody>\n",
       "</table>\n",
       "</div>"
      ],
      "text/plain": [
       "                         Publisher  Rank      Sales\n",
       "0                         2K Games    40   22000000\n",
       "1                       Activision   141  129600000\n",
       "2               Bethesda Softworks    19   30000000\n",
       "3           Blizzard Entertainment    20   30000000\n",
       "4                       CD Projekt    24   28000000\n",
       "5                  Electronic Arts    37  124000000\n",
       "6                   Mojang Studios     1  200000000\n",
       "7                            Namco    10   39098000\n",
       "8                         Nintendo   493  695452500\n",
       "9   Nintendo / The Pokémon Company   147   91380000\n",
       "10                PUBG Corporation     5   70000000\n",
       "11                       Psygnosis    45   20000000\n",
       "12            Re-Logic / 505 Games    17   30300000\n",
       "13                  Rockstar Games   117  239500000\n",
       "14                            Sega    79   43982960\n",
       "15     Sony Computer Entertainment    47   20000000\n",
       "16               Xbox Game Studios    33   24000000"
      ]
     },
     "execution_count": 7,
     "metadata": {},
     "output_type": "execute_result"
    }
   ],
   "source": [
    "df = sales_df.groupby('Publisher',as_index=False).sum()\n",
    "df"
   ]
  },
  {
   "cell_type": "code",
   "execution_count": 8,
   "metadata": {},
   "outputs": [],
   "source": [
    "df = df.sort_values(by=\"Sales\",ascending=False)"
   ]
  },
  {
   "cell_type": "code",
   "execution_count": 9,
   "metadata": {},
   "outputs": [
    {
     "data": {
      "application/vnd.plotly.v1+json": {
       "config": {
        "linkText": "Export to plot.ly",
        "plotlyServerURL": "https://plot.ly",
        "showLink": true
       },
       "data": [
        {
         "labels": [
          "Nintendo",
          "Rockstar Games",
          "Mojang Studios",
          "Activision",
          "Electronic Arts",
          "Nintendo / The Pokémon Company",
          "PUBG Corporation",
          "Sega",
          "Namco",
          "Re-Logic / 505 Games",
          "Bethesda Softworks",
          "Blizzard Entertainment",
          "CD Projekt",
          "Xbox Game Studios",
          "2K Games",
          "Psygnosis",
          "Sony Computer Entertainment"
         ],
         "marker": {
          "colors": [
           "rgba(255, 153, 51, 1.0)",
           "rgba(55, 128, 191, 1.0)",
           "rgba(50, 171, 96, 1.0)",
           "rgba(128, 0, 128, 1.0)",
           "rgba(219, 64, 82, 1.0)",
           "rgba(0, 128, 128, 1.0)",
           "rgba(255, 255, 51, 1.0)",
           "rgba(128, 128, 0, 1.0)",
           "rgba(251, 128, 114, 1.0)",
           "rgba(128, 177, 211, 1.0)",
           "rgba(128, 177, 211, 0.8999999999999999)",
           "rgba(255, 153, 51, 0.8999999999999999)",
           "rgba(55, 128, 191, 0.8999999999999999)",
           "rgba(50, 171, 96, 0.8999999999999999)",
           "rgba(128, 0, 128, 0.8999999999999999)",
           "rgba(219, 64, 82, 0.8999999999999999)",
           "rgba(0, 128, 128, 0.8999999999999999)"
          ]
         },
         "name": "",
         "type": "pie",
         "values": [
          695452500,
          239500000,
          200000000,
          129600000,
          124000000,
          91380000,
          70000000,
          43982960,
          39098000,
          30300000,
          30000000,
          30000000,
          28000000,
          24000000,
          22000000,
          20000000,
          20000000
         ]
        }
       ],
       "layout": {
        "legend": {
         "bgcolor": "#F5F6F9",
         "font": {
          "color": "#4D5663"
         }
        },
        "paper_bgcolor": "#F5F6F9",
        "plot_bgcolor": "#F5F6F9",
        "title": "Sales by Company",
        "titlefont": {
         "color": "#4D5663"
        }
       }
      },
      "text/html": [
       "<div>                            <div id=\"d3b6edb8-50e8-4482-aaaa-01795a853f2b\" class=\"plotly-graph-div\" style=\"height:525px; width:100%;\"></div>            <script type=\"text/javascript\">                require([\"plotly\"], function(Plotly) {                    window.PLOTLYENV=window.PLOTLYENV || {};\n",
       "                    window.PLOTLYENV.BASE_URL='https://plot.ly';                                    if (document.getElementById(\"d3b6edb8-50e8-4482-aaaa-01795a853f2b\")) {                    Plotly.newPlot(                        \"d3b6edb8-50e8-4482-aaaa-01795a853f2b\",                        [{\"labels\": [\"Nintendo\", \"Rockstar Games\", \"Mojang Studios\", \"Activision\", \"Electronic Arts\", \"Nintendo\\u00a0/\\u00a0The Pok\\u00e9mon Company\", \"PUBG Corporation\", \"Sega\", \"Namco\", \"Re-Logic\\u00a0/\\u00a0505 Games\", \"Bethesda Softworks\", \"Blizzard Entertainment\", \"CD Projekt\", \"Xbox Game Studios\", \"2K Games\", \"Psygnosis\", \"Sony Computer Entertainment\"], \"marker\": {\"colors\": [\"rgba(255, 153, 51, 1.0)\", \"rgba(55, 128, 191, 1.0)\", \"rgba(50, 171, 96, 1.0)\", \"rgba(128, 0, 128, 1.0)\", \"rgba(219, 64, 82, 1.0)\", \"rgba(0, 128, 128, 1.0)\", \"rgba(255, 255, 51, 1.0)\", \"rgba(128, 128, 0, 1.0)\", \"rgba(251, 128, 114, 1.0)\", \"rgba(128, 177, 211, 1.0)\", \"rgba(128, 177, 211, 0.8999999999999999)\", \"rgba(255, 153, 51, 0.8999999999999999)\", \"rgba(55, 128, 191, 0.8999999999999999)\", \"rgba(50, 171, 96, 0.8999999999999999)\", \"rgba(128, 0, 128, 0.8999999999999999)\", \"rgba(219, 64, 82, 0.8999999999999999)\", \"rgba(0, 128, 128, 0.8999999999999999)\"]}, \"name\": \"\", \"type\": \"pie\", \"values\": [695452500, 239500000, 200000000, 129600000, 124000000, 91380000, 70000000, 43982960, 39098000, 30300000, 30000000, 30000000, 28000000, 24000000, 22000000, 20000000, 20000000]}],                        {\"legend\": {\"bgcolor\": \"#F5F6F9\", \"font\": {\"color\": \"#4D5663\"}}, \"paper_bgcolor\": \"#F5F6F9\", \"plot_bgcolor\": \"#F5F6F9\", \"title\": \"Sales by Company\", \"titlefont\": {\"color\": \"#4D5663\"}},                        {\"showLink\": true, \"linkText\": \"Export to plot.ly\", \"plotlyServerURL\": \"https://plot.ly\", \"responsive\": true}                    ).then(function(){\n",
       "                            \n",
       "var gd = document.getElementById('d3b6edb8-50e8-4482-aaaa-01795a853f2b');\n",
       "var x = new MutationObserver(function (mutations, observer) {{\n",
       "        var display = window.getComputedStyle(gd).display;\n",
       "        if (!display || display === 'none') {{\n",
       "            console.log([gd, 'removed!']);\n",
       "            Plotly.purge(gd);\n",
       "            observer.disconnect();\n",
       "        }}\n",
       "}});\n",
       "\n",
       "// Listen for the removal of the full notebook cells\n",
       "var notebookContainer = gd.closest('#notebook-container');\n",
       "if (notebookContainer) {{\n",
       "    x.observe(notebookContainer, {childList: true});\n",
       "}}\n",
       "\n",
       "// Listen for the clearing of the current output cell\n",
       "var outputEl = gd.closest('.output');\n",
       "if (outputEl) {{\n",
       "    x.observe(outputEl, {childList: true});\n",
       "}}\n",
       "\n",
       "                        })                };                });            </script>        </div>"
      ]
     },
     "metadata": {},
     "output_type": "display_data"
    }
   ],
   "source": [
    "df.iplot(kind='pie',labels='Publisher',values='Sales',title='Sales by Company')"
   ]
  },
  {
   "cell_type": "code",
   "execution_count": 10,
   "metadata": {},
   "outputs": [
    {
     "data": {
      "application/vnd.plotly.v1+json": {
       "config": {
        "linkText": "Export to plot.ly",
        "plotlyServerURL": "https://plot.ly",
        "showLink": true
       },
       "data": [
        {
         "labels": [
          "Nintendo",
          "Rockstar Games",
          "Mojang Studios",
          "Activision",
          "Electronic Arts",
          "Nintendo / The Pokémon Company",
          "PUBG Corporation",
          "Sega",
          "Namco",
          "Re-Logic / 505 Games"
         ],
         "marker": {
          "colors": [
           "rgba(255, 153, 51, 1.0)",
           "rgba(55, 128, 191, 1.0)",
           "rgba(50, 171, 96, 1.0)",
           "rgba(128, 0, 128, 1.0)",
           "rgba(219, 64, 82, 1.0)",
           "rgba(0, 128, 128, 1.0)",
           "rgba(255, 255, 51, 1.0)",
           "rgba(128, 128, 0, 1.0)",
           "rgba(251, 128, 114, 1.0)",
           "rgba(128, 177, 211, 1.0)"
          ]
         },
         "name": "",
         "type": "pie",
         "values": [
          695452500,
          239500000,
          200000000,
          129600000,
          124000000,
          91380000,
          70000000,
          43982960,
          39098000,
          30300000
         ]
        }
       ],
       "layout": {
        "legend": {
         "bgcolor": "#F5F6F9",
         "font": {
          "color": "#4D5663"
         }
        },
        "paper_bgcolor": "#F5F6F9",
        "plot_bgcolor": "#F5F6F9",
        "title": "Sales by Company, Top Ten",
        "titlefont": {
         "color": "#4D5663"
        }
       }
      },
      "text/html": [
       "<div>                            <div id=\"d57b1aca-cab9-4251-9229-1130632a3f5f\" class=\"plotly-graph-div\" style=\"height:525px; width:100%;\"></div>            <script type=\"text/javascript\">                require([\"plotly\"], function(Plotly) {                    window.PLOTLYENV=window.PLOTLYENV || {};\n",
       "                    window.PLOTLYENV.BASE_URL='https://plot.ly';                                    if (document.getElementById(\"d57b1aca-cab9-4251-9229-1130632a3f5f\")) {                    Plotly.newPlot(                        \"d57b1aca-cab9-4251-9229-1130632a3f5f\",                        [{\"labels\": [\"Nintendo\", \"Rockstar Games\", \"Mojang Studios\", \"Activision\", \"Electronic Arts\", \"Nintendo\\u00a0/\\u00a0The Pok\\u00e9mon Company\", \"PUBG Corporation\", \"Sega\", \"Namco\", \"Re-Logic\\u00a0/\\u00a0505 Games\"], \"marker\": {\"colors\": [\"rgba(255, 153, 51, 1.0)\", \"rgba(55, 128, 191, 1.0)\", \"rgba(50, 171, 96, 1.0)\", \"rgba(128, 0, 128, 1.0)\", \"rgba(219, 64, 82, 1.0)\", \"rgba(0, 128, 128, 1.0)\", \"rgba(255, 255, 51, 1.0)\", \"rgba(128, 128, 0, 1.0)\", \"rgba(251, 128, 114, 1.0)\", \"rgba(128, 177, 211, 1.0)\"]}, \"name\": \"\", \"type\": \"pie\", \"values\": [695452500, 239500000, 200000000, 129600000, 124000000, 91380000, 70000000, 43982960, 39098000, 30300000]}],                        {\"legend\": {\"bgcolor\": \"#F5F6F9\", \"font\": {\"color\": \"#4D5663\"}}, \"paper_bgcolor\": \"#F5F6F9\", \"plot_bgcolor\": \"#F5F6F9\", \"title\": \"Sales by Company, Top Ten\", \"titlefont\": {\"color\": \"#4D5663\"}},                        {\"showLink\": true, \"linkText\": \"Export to plot.ly\", \"plotlyServerURL\": \"https://plot.ly\", \"responsive\": true}                    ).then(function(){\n",
       "                            \n",
       "var gd = document.getElementById('d57b1aca-cab9-4251-9229-1130632a3f5f');\n",
       "var x = new MutationObserver(function (mutations, observer) {{\n",
       "        var display = window.getComputedStyle(gd).display;\n",
       "        if (!display || display === 'none') {{\n",
       "            console.log([gd, 'removed!']);\n",
       "            Plotly.purge(gd);\n",
       "            observer.disconnect();\n",
       "        }}\n",
       "}});\n",
       "\n",
       "// Listen for the removal of the full notebook cells\n",
       "var notebookContainer = gd.closest('#notebook-container');\n",
       "if (notebookContainer) {{\n",
       "    x.observe(notebookContainer, {childList: true});\n",
       "}}\n",
       "\n",
       "// Listen for the clearing of the current output cell\n",
       "var outputEl = gd.closest('.output');\n",
       "if (outputEl) {{\n",
       "    x.observe(outputEl, {childList: true});\n",
       "}}\n",
       "\n",
       "                        })                };                });            </script>        </div>"
      ]
     },
     "metadata": {},
     "output_type": "display_data"
    }
   ],
   "source": [
    "df[0:10].iplot(kind='pie',labels='Publisher',values='Sales',title='Sales by Company, Top Ten')"
   ]
  },
  {
   "cell_type": "code",
   "execution_count": 11,
   "metadata": {},
   "outputs": [
    {
     "data": {
      "application/vnd.plotly.v1+json": {
       "config": {
        "linkText": "Export to plot.ly",
        "plotlyServerURL": "https://plot.ly",
        "showLink": true
       },
       "data": [
        {
         "marker": {
          "color": "rgba(255, 153, 51, 0.6)",
          "line": {
           "color": "rgba(255, 153, 51, 1.0)",
           "width": 1
          }
         },
         "name": "Sales",
         "orientation": "v",
         "text": "",
         "type": "bar",
         "x": [
          "Nintendo",
          "Rockstar Games",
          "Mojang Studios",
          "Activision",
          "Electronic Arts",
          "Nintendo / The Pokémon Company",
          "PUBG Corporation",
          "Sega",
          "Namco",
          "Re-Logic / 505 Games"
         ],
         "y": [
          695452500,
          239500000,
          200000000,
          129600000,
          124000000,
          91380000,
          70000000,
          43982960,
          39098000,
          30300000
         ]
        }
       ],
       "layout": {
        "legend": {
         "bgcolor": "#F5F6F9",
         "font": {
          "color": "#4D5663"
         }
        },
        "paper_bgcolor": "#F5F6F9",
        "plot_bgcolor": "#F5F6F9",
        "template": {
         "data": {
          "bar": [
           {
            "error_x": {
             "color": "#2a3f5f"
            },
            "error_y": {
             "color": "#2a3f5f"
            },
            "marker": {
             "line": {
              "color": "#E5ECF6",
              "width": 0.5
             }
            },
            "type": "bar"
           }
          ],
          "barpolar": [
           {
            "marker": {
             "line": {
              "color": "#E5ECF6",
              "width": 0.5
             }
            },
            "type": "barpolar"
           }
          ],
          "carpet": [
           {
            "aaxis": {
             "endlinecolor": "#2a3f5f",
             "gridcolor": "white",
             "linecolor": "white",
             "minorgridcolor": "white",
             "startlinecolor": "#2a3f5f"
            },
            "baxis": {
             "endlinecolor": "#2a3f5f",
             "gridcolor": "white",
             "linecolor": "white",
             "minorgridcolor": "white",
             "startlinecolor": "#2a3f5f"
            },
            "type": "carpet"
           }
          ],
          "choropleth": [
           {
            "colorbar": {
             "outlinewidth": 0,
             "ticks": ""
            },
            "type": "choropleth"
           }
          ],
          "contour": [
           {
            "colorbar": {
             "outlinewidth": 0,
             "ticks": ""
            },
            "colorscale": [
             [
              0,
              "#0d0887"
             ],
             [
              0.1111111111111111,
              "#46039f"
             ],
             [
              0.2222222222222222,
              "#7201a8"
             ],
             [
              0.3333333333333333,
              "#9c179e"
             ],
             [
              0.4444444444444444,
              "#bd3786"
             ],
             [
              0.5555555555555556,
              "#d8576b"
             ],
             [
              0.6666666666666666,
              "#ed7953"
             ],
             [
              0.7777777777777778,
              "#fb9f3a"
             ],
             [
              0.8888888888888888,
              "#fdca26"
             ],
             [
              1,
              "#f0f921"
             ]
            ],
            "type": "contour"
           }
          ],
          "contourcarpet": [
           {
            "colorbar": {
             "outlinewidth": 0,
             "ticks": ""
            },
            "type": "contourcarpet"
           }
          ],
          "heatmap": [
           {
            "colorbar": {
             "outlinewidth": 0,
             "ticks": ""
            },
            "colorscale": [
             [
              0,
              "#0d0887"
             ],
             [
              0.1111111111111111,
              "#46039f"
             ],
             [
              0.2222222222222222,
              "#7201a8"
             ],
             [
              0.3333333333333333,
              "#9c179e"
             ],
             [
              0.4444444444444444,
              "#bd3786"
             ],
             [
              0.5555555555555556,
              "#d8576b"
             ],
             [
              0.6666666666666666,
              "#ed7953"
             ],
             [
              0.7777777777777778,
              "#fb9f3a"
             ],
             [
              0.8888888888888888,
              "#fdca26"
             ],
             [
              1,
              "#f0f921"
             ]
            ],
            "type": "heatmap"
           }
          ],
          "heatmapgl": [
           {
            "colorbar": {
             "outlinewidth": 0,
             "ticks": ""
            },
            "colorscale": [
             [
              0,
              "#0d0887"
             ],
             [
              0.1111111111111111,
              "#46039f"
             ],
             [
              0.2222222222222222,
              "#7201a8"
             ],
             [
              0.3333333333333333,
              "#9c179e"
             ],
             [
              0.4444444444444444,
              "#bd3786"
             ],
             [
              0.5555555555555556,
              "#d8576b"
             ],
             [
              0.6666666666666666,
              "#ed7953"
             ],
             [
              0.7777777777777778,
              "#fb9f3a"
             ],
             [
              0.8888888888888888,
              "#fdca26"
             ],
             [
              1,
              "#f0f921"
             ]
            ],
            "type": "heatmapgl"
           }
          ],
          "histogram": [
           {
            "marker": {
             "colorbar": {
              "outlinewidth": 0,
              "ticks": ""
             }
            },
            "type": "histogram"
           }
          ],
          "histogram2d": [
           {
            "colorbar": {
             "outlinewidth": 0,
             "ticks": ""
            },
            "colorscale": [
             [
              0,
              "#0d0887"
             ],
             [
              0.1111111111111111,
              "#46039f"
             ],
             [
              0.2222222222222222,
              "#7201a8"
             ],
             [
              0.3333333333333333,
              "#9c179e"
             ],
             [
              0.4444444444444444,
              "#bd3786"
             ],
             [
              0.5555555555555556,
              "#d8576b"
             ],
             [
              0.6666666666666666,
              "#ed7953"
             ],
             [
              0.7777777777777778,
              "#fb9f3a"
             ],
             [
              0.8888888888888888,
              "#fdca26"
             ],
             [
              1,
              "#f0f921"
             ]
            ],
            "type": "histogram2d"
           }
          ],
          "histogram2dcontour": [
           {
            "colorbar": {
             "outlinewidth": 0,
             "ticks": ""
            },
            "colorscale": [
             [
              0,
              "#0d0887"
             ],
             [
              0.1111111111111111,
              "#46039f"
             ],
             [
              0.2222222222222222,
              "#7201a8"
             ],
             [
              0.3333333333333333,
              "#9c179e"
             ],
             [
              0.4444444444444444,
              "#bd3786"
             ],
             [
              0.5555555555555556,
              "#d8576b"
             ],
             [
              0.6666666666666666,
              "#ed7953"
             ],
             [
              0.7777777777777778,
              "#fb9f3a"
             ],
             [
              0.8888888888888888,
              "#fdca26"
             ],
             [
              1,
              "#f0f921"
             ]
            ],
            "type": "histogram2dcontour"
           }
          ],
          "mesh3d": [
           {
            "colorbar": {
             "outlinewidth": 0,
             "ticks": ""
            },
            "type": "mesh3d"
           }
          ],
          "parcoords": [
           {
            "line": {
             "colorbar": {
              "outlinewidth": 0,
              "ticks": ""
             }
            },
            "type": "parcoords"
           }
          ],
          "pie": [
           {
            "automargin": true,
            "type": "pie"
           }
          ],
          "scatter": [
           {
            "marker": {
             "colorbar": {
              "outlinewidth": 0,
              "ticks": ""
             }
            },
            "type": "scatter"
           }
          ],
          "scatter3d": [
           {
            "line": {
             "colorbar": {
              "outlinewidth": 0,
              "ticks": ""
             }
            },
            "marker": {
             "colorbar": {
              "outlinewidth": 0,
              "ticks": ""
             }
            },
            "type": "scatter3d"
           }
          ],
          "scattercarpet": [
           {
            "marker": {
             "colorbar": {
              "outlinewidth": 0,
              "ticks": ""
             }
            },
            "type": "scattercarpet"
           }
          ],
          "scattergeo": [
           {
            "marker": {
             "colorbar": {
              "outlinewidth": 0,
              "ticks": ""
             }
            },
            "type": "scattergeo"
           }
          ],
          "scattergl": [
           {
            "marker": {
             "colorbar": {
              "outlinewidth": 0,
              "ticks": ""
             }
            },
            "type": "scattergl"
           }
          ],
          "scattermapbox": [
           {
            "marker": {
             "colorbar": {
              "outlinewidth": 0,
              "ticks": ""
             }
            },
            "type": "scattermapbox"
           }
          ],
          "scatterpolar": [
           {
            "marker": {
             "colorbar": {
              "outlinewidth": 0,
              "ticks": ""
             }
            },
            "type": "scatterpolar"
           }
          ],
          "scatterpolargl": [
           {
            "marker": {
             "colorbar": {
              "outlinewidth": 0,
              "ticks": ""
             }
            },
            "type": "scatterpolargl"
           }
          ],
          "scatterternary": [
           {
            "marker": {
             "colorbar": {
              "outlinewidth": 0,
              "ticks": ""
             }
            },
            "type": "scatterternary"
           }
          ],
          "surface": [
           {
            "colorbar": {
             "outlinewidth": 0,
             "ticks": ""
            },
            "colorscale": [
             [
              0,
              "#0d0887"
             ],
             [
              0.1111111111111111,
              "#46039f"
             ],
             [
              0.2222222222222222,
              "#7201a8"
             ],
             [
              0.3333333333333333,
              "#9c179e"
             ],
             [
              0.4444444444444444,
              "#bd3786"
             ],
             [
              0.5555555555555556,
              "#d8576b"
             ],
             [
              0.6666666666666666,
              "#ed7953"
             ],
             [
              0.7777777777777778,
              "#fb9f3a"
             ],
             [
              0.8888888888888888,
              "#fdca26"
             ],
             [
              1,
              "#f0f921"
             ]
            ],
            "type": "surface"
           }
          ],
          "table": [
           {
            "cells": {
             "fill": {
              "color": "#EBF0F8"
             },
             "line": {
              "color": "white"
             }
            },
            "header": {
             "fill": {
              "color": "#C8D4E3"
             },
             "line": {
              "color": "white"
             }
            },
            "type": "table"
           }
          ]
         },
         "layout": {
          "annotationdefaults": {
           "arrowcolor": "#2a3f5f",
           "arrowhead": 0,
           "arrowwidth": 1
          },
          "coloraxis": {
           "colorbar": {
            "outlinewidth": 0,
            "ticks": ""
           }
          },
          "colorscale": {
           "diverging": [
            [
             0,
             "#8e0152"
            ],
            [
             0.1,
             "#c51b7d"
            ],
            [
             0.2,
             "#de77ae"
            ],
            [
             0.3,
             "#f1b6da"
            ],
            [
             0.4,
             "#fde0ef"
            ],
            [
             0.5,
             "#f7f7f7"
            ],
            [
             0.6,
             "#e6f5d0"
            ],
            [
             0.7,
             "#b8e186"
            ],
            [
             0.8,
             "#7fbc41"
            ],
            [
             0.9,
             "#4d9221"
            ],
            [
             1,
             "#276419"
            ]
           ],
           "sequential": [
            [
             0,
             "#0d0887"
            ],
            [
             0.1111111111111111,
             "#46039f"
            ],
            [
             0.2222222222222222,
             "#7201a8"
            ],
            [
             0.3333333333333333,
             "#9c179e"
            ],
            [
             0.4444444444444444,
             "#bd3786"
            ],
            [
             0.5555555555555556,
             "#d8576b"
            ],
            [
             0.6666666666666666,
             "#ed7953"
            ],
            [
             0.7777777777777778,
             "#fb9f3a"
            ],
            [
             0.8888888888888888,
             "#fdca26"
            ],
            [
             1,
             "#f0f921"
            ]
           ],
           "sequentialminus": [
            [
             0,
             "#0d0887"
            ],
            [
             0.1111111111111111,
             "#46039f"
            ],
            [
             0.2222222222222222,
             "#7201a8"
            ],
            [
             0.3333333333333333,
             "#9c179e"
            ],
            [
             0.4444444444444444,
             "#bd3786"
            ],
            [
             0.5555555555555556,
             "#d8576b"
            ],
            [
             0.6666666666666666,
             "#ed7953"
            ],
            [
             0.7777777777777778,
             "#fb9f3a"
            ],
            [
             0.8888888888888888,
             "#fdca26"
            ],
            [
             1,
             "#f0f921"
            ]
           ]
          },
          "colorway": [
           "#636efa",
           "#EF553B",
           "#00cc96",
           "#ab63fa",
           "#FFA15A",
           "#19d3f3",
           "#FF6692",
           "#B6E880",
           "#FF97FF",
           "#FECB52"
          ],
          "font": {
           "color": "#2a3f5f"
          },
          "geo": {
           "bgcolor": "white",
           "lakecolor": "white",
           "landcolor": "#E5ECF6",
           "showlakes": true,
           "showland": true,
           "subunitcolor": "white"
          },
          "hoverlabel": {
           "align": "left"
          },
          "hovermode": "closest",
          "mapbox": {
           "style": "light"
          },
          "paper_bgcolor": "white",
          "plot_bgcolor": "#E5ECF6",
          "polar": {
           "angularaxis": {
            "gridcolor": "white",
            "linecolor": "white",
            "ticks": ""
           },
           "bgcolor": "#E5ECF6",
           "radialaxis": {
            "gridcolor": "white",
            "linecolor": "white",
            "ticks": ""
           }
          },
          "scene": {
           "xaxis": {
            "backgroundcolor": "#E5ECF6",
            "gridcolor": "white",
            "gridwidth": 2,
            "linecolor": "white",
            "showbackground": true,
            "ticks": "",
            "zerolinecolor": "white"
           },
           "yaxis": {
            "backgroundcolor": "#E5ECF6",
            "gridcolor": "white",
            "gridwidth": 2,
            "linecolor": "white",
            "showbackground": true,
            "ticks": "",
            "zerolinecolor": "white"
           },
           "zaxis": {
            "backgroundcolor": "#E5ECF6",
            "gridcolor": "white",
            "gridwidth": 2,
            "linecolor": "white",
            "showbackground": true,
            "ticks": "",
            "zerolinecolor": "white"
           }
          },
          "shapedefaults": {
           "line": {
            "color": "#2a3f5f"
           }
          },
          "ternary": {
           "aaxis": {
            "gridcolor": "white",
            "linecolor": "white",
            "ticks": ""
           },
           "baxis": {
            "gridcolor": "white",
            "linecolor": "white",
            "ticks": ""
           },
           "bgcolor": "#E5ECF6",
           "caxis": {
            "gridcolor": "white",
            "linecolor": "white",
            "ticks": ""
           }
          },
          "title": {
           "x": 0.05
          },
          "xaxis": {
           "automargin": true,
           "gridcolor": "white",
           "linecolor": "white",
           "ticks": "",
           "title": {
            "standoff": 15
           },
           "zerolinecolor": "white",
           "zerolinewidth": 2
          },
          "yaxis": {
           "automargin": true,
           "gridcolor": "white",
           "linecolor": "white",
           "ticks": "",
           "title": {
            "standoff": 15
           },
           "zerolinecolor": "white",
           "zerolinewidth": 2
          }
         }
        },
        "title": {
         "font": {
          "color": "#4D5663"
         },
         "text": "Sales by Company, Top Ten"
        },
        "xaxis": {
         "gridcolor": "#E1E5ED",
         "showgrid": true,
         "tickfont": {
          "color": "#4D5663"
         },
         "title": {
          "font": {
           "color": "#4D5663"
          },
          "text": ""
         },
         "zerolinecolor": "#E1E5ED"
        },
        "yaxis": {
         "gridcolor": "#E1E5ED",
         "showgrid": true,
         "tickfont": {
          "color": "#4D5663"
         },
         "title": {
          "font": {
           "color": "#4D5663"
          },
          "text": ""
         },
         "zerolinecolor": "#E1E5ED"
        }
       }
      },
      "text/html": [
       "<div>                            <div id=\"7f423af2-c11a-4428-aca3-1441ef9c00e8\" class=\"plotly-graph-div\" style=\"height:525px; width:100%;\"></div>            <script type=\"text/javascript\">                require([\"plotly\"], function(Plotly) {                    window.PLOTLYENV=window.PLOTLYENV || {};\n",
       "                    window.PLOTLYENV.BASE_URL='https://plot.ly';                                    if (document.getElementById(\"7f423af2-c11a-4428-aca3-1441ef9c00e8\")) {                    Plotly.newPlot(                        \"7f423af2-c11a-4428-aca3-1441ef9c00e8\",                        [{\"marker\": {\"color\": \"rgba(255, 153, 51, 0.6)\", \"line\": {\"color\": \"rgba(255, 153, 51, 1.0)\", \"width\": 1}}, \"name\": \"Sales\", \"orientation\": \"v\", \"text\": \"\", \"type\": \"bar\", \"x\": [\"Nintendo\", \"Rockstar Games\", \"Mojang Studios\", \"Activision\", \"Electronic Arts\", \"Nintendo\\u00a0/\\u00a0The Pok\\u00e9mon Company\", \"PUBG Corporation\", \"Sega\", \"Namco\", \"Re-Logic\\u00a0/\\u00a0505 Games\"], \"y\": [695452500, 239500000, 200000000, 129600000, 124000000, 91380000, 70000000, 43982960, 39098000, 30300000]}],                        {\"legend\": {\"bgcolor\": \"#F5F6F9\", \"font\": {\"color\": \"#4D5663\"}}, \"paper_bgcolor\": \"#F5F6F9\", \"plot_bgcolor\": \"#F5F6F9\", \"template\": {\"data\": {\"bar\": [{\"error_x\": {\"color\": \"#2a3f5f\"}, \"error_y\": {\"color\": \"#2a3f5f\"}, \"marker\": {\"line\": {\"color\": \"#E5ECF6\", \"width\": 0.5}}, \"type\": \"bar\"}], \"barpolar\": [{\"marker\": {\"line\": {\"color\": \"#E5ECF6\", \"width\": 0.5}}, \"type\": \"barpolar\"}], \"carpet\": [{\"aaxis\": {\"endlinecolor\": \"#2a3f5f\", \"gridcolor\": \"white\", \"linecolor\": \"white\", \"minorgridcolor\": \"white\", \"startlinecolor\": \"#2a3f5f\"}, \"baxis\": {\"endlinecolor\": \"#2a3f5f\", \"gridcolor\": \"white\", \"linecolor\": \"white\", \"minorgridcolor\": \"white\", \"startlinecolor\": \"#2a3f5f\"}, \"type\": \"carpet\"}], \"choropleth\": [{\"colorbar\": {\"outlinewidth\": 0, \"ticks\": \"\"}, \"type\": \"choropleth\"}], \"contour\": [{\"colorbar\": {\"outlinewidth\": 0, \"ticks\": \"\"}, \"colorscale\": [[0.0, \"#0d0887\"], [0.1111111111111111, \"#46039f\"], [0.2222222222222222, \"#7201a8\"], [0.3333333333333333, \"#9c179e\"], [0.4444444444444444, \"#bd3786\"], [0.5555555555555556, \"#d8576b\"], [0.6666666666666666, \"#ed7953\"], [0.7777777777777778, \"#fb9f3a\"], [0.8888888888888888, \"#fdca26\"], [1.0, \"#f0f921\"]], \"type\": \"contour\"}], \"contourcarpet\": [{\"colorbar\": {\"outlinewidth\": 0, \"ticks\": \"\"}, \"type\": \"contourcarpet\"}], \"heatmap\": [{\"colorbar\": {\"outlinewidth\": 0, \"ticks\": \"\"}, \"colorscale\": [[0.0, \"#0d0887\"], [0.1111111111111111, \"#46039f\"], [0.2222222222222222, \"#7201a8\"], [0.3333333333333333, \"#9c179e\"], [0.4444444444444444, \"#bd3786\"], [0.5555555555555556, \"#d8576b\"], [0.6666666666666666, \"#ed7953\"], [0.7777777777777778, \"#fb9f3a\"], [0.8888888888888888, \"#fdca26\"], [1.0, \"#f0f921\"]], \"type\": \"heatmap\"}], \"heatmapgl\": [{\"colorbar\": {\"outlinewidth\": 0, \"ticks\": \"\"}, \"colorscale\": [[0.0, \"#0d0887\"], [0.1111111111111111, \"#46039f\"], [0.2222222222222222, \"#7201a8\"], [0.3333333333333333, \"#9c179e\"], [0.4444444444444444, \"#bd3786\"], [0.5555555555555556, \"#d8576b\"], [0.6666666666666666, \"#ed7953\"], [0.7777777777777778, \"#fb9f3a\"], [0.8888888888888888, \"#fdca26\"], [1.0, \"#f0f921\"]], \"type\": \"heatmapgl\"}], \"histogram\": [{\"marker\": {\"colorbar\": {\"outlinewidth\": 0, \"ticks\": \"\"}}, \"type\": \"histogram\"}], \"histogram2d\": [{\"colorbar\": {\"outlinewidth\": 0, \"ticks\": \"\"}, \"colorscale\": [[0.0, \"#0d0887\"], [0.1111111111111111, \"#46039f\"], [0.2222222222222222, \"#7201a8\"], [0.3333333333333333, \"#9c179e\"], [0.4444444444444444, \"#bd3786\"], [0.5555555555555556, \"#d8576b\"], [0.6666666666666666, \"#ed7953\"], [0.7777777777777778, \"#fb9f3a\"], [0.8888888888888888, \"#fdca26\"], [1.0, \"#f0f921\"]], \"type\": \"histogram2d\"}], \"histogram2dcontour\": [{\"colorbar\": {\"outlinewidth\": 0, \"ticks\": \"\"}, \"colorscale\": [[0.0, \"#0d0887\"], [0.1111111111111111, \"#46039f\"], [0.2222222222222222, \"#7201a8\"], [0.3333333333333333, \"#9c179e\"], [0.4444444444444444, \"#bd3786\"], [0.5555555555555556, \"#d8576b\"], [0.6666666666666666, \"#ed7953\"], [0.7777777777777778, \"#fb9f3a\"], [0.8888888888888888, \"#fdca26\"], [1.0, \"#f0f921\"]], \"type\": \"histogram2dcontour\"}], \"mesh3d\": [{\"colorbar\": {\"outlinewidth\": 0, \"ticks\": \"\"}, \"type\": \"mesh3d\"}], \"parcoords\": [{\"line\": {\"colorbar\": {\"outlinewidth\": 0, \"ticks\": \"\"}}, \"type\": \"parcoords\"}], \"pie\": [{\"automargin\": true, \"type\": \"pie\"}], \"scatter\": [{\"marker\": {\"colorbar\": {\"outlinewidth\": 0, \"ticks\": \"\"}}, \"type\": \"scatter\"}], \"scatter3d\": [{\"line\": {\"colorbar\": {\"outlinewidth\": 0, \"ticks\": \"\"}}, \"marker\": {\"colorbar\": {\"outlinewidth\": 0, \"ticks\": \"\"}}, \"type\": \"scatter3d\"}], \"scattercarpet\": [{\"marker\": {\"colorbar\": {\"outlinewidth\": 0, \"ticks\": \"\"}}, \"type\": \"scattercarpet\"}], \"scattergeo\": [{\"marker\": {\"colorbar\": {\"outlinewidth\": 0, \"ticks\": \"\"}}, \"type\": \"scattergeo\"}], \"scattergl\": [{\"marker\": {\"colorbar\": {\"outlinewidth\": 0, \"ticks\": \"\"}}, \"type\": \"scattergl\"}], \"scattermapbox\": [{\"marker\": {\"colorbar\": {\"outlinewidth\": 0, \"ticks\": \"\"}}, \"type\": \"scattermapbox\"}], \"scatterpolar\": [{\"marker\": {\"colorbar\": {\"outlinewidth\": 0, \"ticks\": \"\"}}, \"type\": \"scatterpolar\"}], \"scatterpolargl\": [{\"marker\": {\"colorbar\": {\"outlinewidth\": 0, \"ticks\": \"\"}}, \"type\": \"scatterpolargl\"}], \"scatterternary\": [{\"marker\": {\"colorbar\": {\"outlinewidth\": 0, \"ticks\": \"\"}}, \"type\": \"scatterternary\"}], \"surface\": [{\"colorbar\": {\"outlinewidth\": 0, \"ticks\": \"\"}, \"colorscale\": [[0.0, \"#0d0887\"], [0.1111111111111111, \"#46039f\"], [0.2222222222222222, \"#7201a8\"], [0.3333333333333333, \"#9c179e\"], [0.4444444444444444, \"#bd3786\"], [0.5555555555555556, \"#d8576b\"], [0.6666666666666666, \"#ed7953\"], [0.7777777777777778, \"#fb9f3a\"], [0.8888888888888888, \"#fdca26\"], [1.0, \"#f0f921\"]], \"type\": \"surface\"}], \"table\": [{\"cells\": {\"fill\": {\"color\": \"#EBF0F8\"}, \"line\": {\"color\": \"white\"}}, \"header\": {\"fill\": {\"color\": \"#C8D4E3\"}, \"line\": {\"color\": \"white\"}}, \"type\": \"table\"}]}, \"layout\": {\"annotationdefaults\": {\"arrowcolor\": \"#2a3f5f\", \"arrowhead\": 0, \"arrowwidth\": 1}, \"coloraxis\": {\"colorbar\": {\"outlinewidth\": 0, \"ticks\": \"\"}}, \"colorscale\": {\"diverging\": [[0, \"#8e0152\"], [0.1, \"#c51b7d\"], [0.2, \"#de77ae\"], [0.3, \"#f1b6da\"], [0.4, \"#fde0ef\"], [0.5, \"#f7f7f7\"], [0.6, \"#e6f5d0\"], [0.7, \"#b8e186\"], [0.8, \"#7fbc41\"], [0.9, \"#4d9221\"], [1, \"#276419\"]], \"sequential\": [[0.0, \"#0d0887\"], [0.1111111111111111, \"#46039f\"], [0.2222222222222222, \"#7201a8\"], [0.3333333333333333, \"#9c179e\"], [0.4444444444444444, \"#bd3786\"], [0.5555555555555556, \"#d8576b\"], [0.6666666666666666, \"#ed7953\"], [0.7777777777777778, \"#fb9f3a\"], [0.8888888888888888, \"#fdca26\"], [1.0, \"#f0f921\"]], \"sequentialminus\": [[0.0, \"#0d0887\"], [0.1111111111111111, \"#46039f\"], [0.2222222222222222, \"#7201a8\"], [0.3333333333333333, \"#9c179e\"], [0.4444444444444444, \"#bd3786\"], [0.5555555555555556, \"#d8576b\"], [0.6666666666666666, \"#ed7953\"], [0.7777777777777778, \"#fb9f3a\"], [0.8888888888888888, \"#fdca26\"], [1.0, \"#f0f921\"]]}, \"colorway\": [\"#636efa\", \"#EF553B\", \"#00cc96\", \"#ab63fa\", \"#FFA15A\", \"#19d3f3\", \"#FF6692\", \"#B6E880\", \"#FF97FF\", \"#FECB52\"], \"font\": {\"color\": \"#2a3f5f\"}, \"geo\": {\"bgcolor\": \"white\", \"lakecolor\": \"white\", \"landcolor\": \"#E5ECF6\", \"showlakes\": true, \"showland\": true, \"subunitcolor\": \"white\"}, \"hoverlabel\": {\"align\": \"left\"}, \"hovermode\": \"closest\", \"mapbox\": {\"style\": \"light\"}, \"paper_bgcolor\": \"white\", \"plot_bgcolor\": \"#E5ECF6\", \"polar\": {\"angularaxis\": {\"gridcolor\": \"white\", \"linecolor\": \"white\", \"ticks\": \"\"}, \"bgcolor\": \"#E5ECF6\", \"radialaxis\": {\"gridcolor\": \"white\", \"linecolor\": \"white\", \"ticks\": \"\"}}, \"scene\": {\"xaxis\": {\"backgroundcolor\": \"#E5ECF6\", \"gridcolor\": \"white\", \"gridwidth\": 2, \"linecolor\": \"white\", \"showbackground\": true, \"ticks\": \"\", \"zerolinecolor\": \"white\"}, \"yaxis\": {\"backgroundcolor\": \"#E5ECF6\", \"gridcolor\": \"white\", \"gridwidth\": 2, \"linecolor\": \"white\", \"showbackground\": true, \"ticks\": \"\", \"zerolinecolor\": \"white\"}, \"zaxis\": {\"backgroundcolor\": \"#E5ECF6\", \"gridcolor\": \"white\", \"gridwidth\": 2, \"linecolor\": \"white\", \"showbackground\": true, \"ticks\": \"\", \"zerolinecolor\": \"white\"}}, \"shapedefaults\": {\"line\": {\"color\": \"#2a3f5f\"}}, \"ternary\": {\"aaxis\": {\"gridcolor\": \"white\", \"linecolor\": \"white\", \"ticks\": \"\"}, \"baxis\": {\"gridcolor\": \"white\", \"linecolor\": \"white\", \"ticks\": \"\"}, \"bgcolor\": \"#E5ECF6\", \"caxis\": {\"gridcolor\": \"white\", \"linecolor\": \"white\", \"ticks\": \"\"}}, \"title\": {\"x\": 0.05}, \"xaxis\": {\"automargin\": true, \"gridcolor\": \"white\", \"linecolor\": \"white\", \"ticks\": \"\", \"title\": {\"standoff\": 15}, \"zerolinecolor\": \"white\", \"zerolinewidth\": 2}, \"yaxis\": {\"automargin\": true, \"gridcolor\": \"white\", \"linecolor\": \"white\", \"ticks\": \"\", \"title\": {\"standoff\": 15}, \"zerolinecolor\": \"white\", \"zerolinewidth\": 2}}}, \"title\": {\"font\": {\"color\": \"#4D5663\"}, \"text\": \"Sales by Company, Top Ten\"}, \"xaxis\": {\"gridcolor\": \"#E1E5ED\", \"showgrid\": true, \"tickfont\": {\"color\": \"#4D5663\"}, \"title\": {\"font\": {\"color\": \"#4D5663\"}, \"text\": \"\"}, \"zerolinecolor\": \"#E1E5ED\"}, \"yaxis\": {\"gridcolor\": \"#E1E5ED\", \"showgrid\": true, \"tickfont\": {\"color\": \"#4D5663\"}, \"title\": {\"font\": {\"color\": \"#4D5663\"}, \"text\": \"\"}, \"zerolinecolor\": \"#E1E5ED\"}},                        {\"showLink\": true, \"linkText\": \"Export to plot.ly\", \"plotlyServerURL\": \"https://plot.ly\", \"responsive\": true}                    ).then(function(){\n",
       "                            \n",
       "var gd = document.getElementById('7f423af2-c11a-4428-aca3-1441ef9c00e8');\n",
       "var x = new MutationObserver(function (mutations, observer) {{\n",
       "        var display = window.getComputedStyle(gd).display;\n",
       "        if (!display || display === 'none') {{\n",
       "            console.log([gd, 'removed!']);\n",
       "            Plotly.purge(gd);\n",
       "            observer.disconnect();\n",
       "        }}\n",
       "}});\n",
       "\n",
       "// Listen for the removal of the full notebook cells\n",
       "var notebookContainer = gd.closest('#notebook-container');\n",
       "if (notebookContainer) {{\n",
       "    x.observe(notebookContainer, {childList: true});\n",
       "}}\n",
       "\n",
       "// Listen for the clearing of the current output cell\n",
       "var outputEl = gd.closest('.output');\n",
       "if (outputEl) {{\n",
       "    x.observe(outputEl, {childList: true});\n",
       "}}\n",
       "\n",
       "                        })                };                });            </script>        </div>"
      ]
     },
     "metadata": {},
     "output_type": "display_data"
    }
   ],
   "source": [
    "df.index = df['Publisher']\n",
    "df[0:10]['Sales'].iplot(kind='bar',values='Sales',title='Sales by Company, Top Ten')"
   ]
  },
  {
   "cell_type": "markdown",
   "metadata": {},
   "source": [
    "## 2,3,4. Gather, Organizer, Explore, with more data"
   ]
  },
  {
   "cell_type": "markdown",
   "metadata": {},
   "source": [
    "Let's look at the game popularity, as measured by number of players. We also got this data from Wikipedia, here: \n",
    "https://en.wikipedia.org/wiki/List_of_most-played_video_games_by_player_count"
   ]
  },
  {
   "cell_type": "code",
   "execution_count": 12,
   "metadata": {},
   "outputs": [
    {
     "data": {
      "text/html": [
       "<div>\n",
       "<style scoped>\n",
       "    .dataframe tbody tr th:only-of-type {\n",
       "        vertical-align: middle;\n",
       "    }\n",
       "\n",
       "    .dataframe tbody tr th {\n",
       "        vertical-align: top;\n",
       "    }\n",
       "\n",
       "    .dataframe thead th {\n",
       "        text-align: right;\n",
       "    }\n",
       "</style>\n",
       "<table border=\"1\" class=\"dataframe\">\n",
       "  <thead>\n",
       "    <tr style=\"text-align: right;\">\n",
       "      <th></th>\n",
       "      <th>Game</th>\n",
       "      <th>Number</th>\n",
       "      <th>As of</th>\n",
       "      <th>Business model</th>\n",
       "      <th>Release date</th>\n",
       "      <th>Publisher(s)</th>\n",
       "      <th>Ref.</th>\n",
       "    </tr>\n",
       "  </thead>\n",
       "  <tbody>\n",
       "    <tr>\n",
       "      <th>0</th>\n",
       "      <td>CrossFire</td>\n",
       "      <td>1 billion</td>\n",
       "      <td>February 2020</td>\n",
       "      <td>Free-to-play</td>\n",
       "      <td>May 3, 2007</td>\n",
       "      <td>Smilegate / Tencent</td>\n",
       "      <td>[1]</td>\n",
       "    </tr>\n",
       "    <tr>\n",
       "      <th>1</th>\n",
       "      <td>Dungeon Fighter Online (DFO)</td>\n",
       "      <td>700 million</td>\n",
       "      <td>May 2020</td>\n",
       "      <td>Free-to-play</td>\n",
       "      <td>August 2005</td>\n",
       "      <td>Nexon / Tencent</td>\n",
       "      <td>[2]</td>\n",
       "    </tr>\n",
       "    <tr>\n",
       "      <th>2</th>\n",
       "      <td>PlayerUnknown's Battlegrounds (PUBG)</td>\n",
       "      <td>600 million[a]</td>\n",
       "      <td>December 2019</td>\n",
       "      <td>Pay-to-play/free-to-play</td>\n",
       "      <td>December 20, 2017</td>\n",
       "      <td>PUBG Corporation / Bluehole</td>\n",
       "      <td>[3]</td>\n",
       "    </tr>\n",
       "    <tr>\n",
       "      <th>3</th>\n",
       "      <td>Pac-Man Doodle</td>\n",
       "      <td>505 million peak daily players[b][a]</td>\n",
       "      <td>June 2010</td>\n",
       "      <td>Free-to-play</td>\n",
       "      <td>May 21, 2010</td>\n",
       "      <td>Namco / Google</td>\n",
       "      <td>[4][5]</td>\n",
       "    </tr>\n",
       "    <tr>\n",
       "      <th>4</th>\n",
       "      <td>QQ Speed</td>\n",
       "      <td>500 million[a]</td>\n",
       "      <td>January 2020</td>\n",
       "      <td>Free-to-play</td>\n",
       "      <td>January 23, 2008</td>\n",
       "      <td>Tencent</td>\n",
       "      <td>[7]</td>\n",
       "    </tr>\n",
       "    <tr>\n",
       "      <th>5</th>\n",
       "      <td>Candy Crush Saga</td>\n",
       "      <td>500 million[a]</td>\n",
       "      <td>June 2014</td>\n",
       "      <td>Free-to-play</td>\n",
       "      <td>April 12, 2012</td>\n",
       "      <td>King</td>\n",
       "      <td>[8]</td>\n",
       "    </tr>\n",
       "    <tr>\n",
       "      <th>6</th>\n",
       "      <td>Tetris</td>\n",
       "      <td>500 million[a]</td>\n",
       "      <td>2016</td>\n",
       "      <td>Pay-to-play/free-to-play</td>\n",
       "      <td>June 6, 1984</td>\n",
       "      <td>Various</td>\n",
       "      <td>[9]</td>\n",
       "    </tr>\n",
       "    <tr>\n",
       "      <th>7</th>\n",
       "      <td>Minecraft</td>\n",
       "      <td>480 million[a]</td>\n",
       "      <td>November 2019</td>\n",
       "      <td>Pay-to-play/free-to-play</td>\n",
       "      <td>November 18, 2011</td>\n",
       "      <td>Mojang</td>\n",
       "      <td>[10]</td>\n",
       "    </tr>\n",
       "    <tr>\n",
       "      <th>8</th>\n",
       "      <td>Microsoft Solitaire</td>\n",
       "      <td>400 million</td>\n",
       "      <td>July 2015</td>\n",
       "      <td>Free-to-play</td>\n",
       "      <td>1990</td>\n",
       "      <td>Microsoft</td>\n",
       "      <td>[11]</td>\n",
       "    </tr>\n",
       "    <tr>\n",
       "      <th>9</th>\n",
       "      <td>Mini World</td>\n",
       "      <td>400 million[a]</td>\n",
       "      <td>April 2020</td>\n",
       "      <td>Free-to-play</td>\n",
       "      <td>December 26, 2015</td>\n",
       "      <td>Miniwan</td>\n",
       "      <td>[12]</td>\n",
       "    </tr>\n",
       "    <tr>\n",
       "      <th>10</th>\n",
       "      <td>Crazyracing Kartrider</td>\n",
       "      <td>380 million registered accounts</td>\n",
       "      <td>May 2020</td>\n",
       "      <td>Free-to-play</td>\n",
       "      <td>June 1, 2004</td>\n",
       "      <td>Nexon</td>\n",
       "      <td>[2]</td>\n",
       "    </tr>\n",
       "    <tr>\n",
       "      <th>11</th>\n",
       "      <td>Fortnite</td>\n",
       "      <td>350 million registered accounts[a]</td>\n",
       "      <td>May 2020</td>\n",
       "      <td>Free-to-play</td>\n",
       "      <td>September 26, 2017</td>\n",
       "      <td>Epic Games</td>\n",
       "      <td>[13]</td>\n",
       "    </tr>\n",
       "    <tr>\n",
       "      <th>12</th>\n",
       "      <td>Fantasy Westward Journey</td>\n",
       "      <td>310 million registered accounts</td>\n",
       "      <td>April 2015</td>\n",
       "      <td>Free-to-play</td>\n",
       "      <td>December 2001</td>\n",
       "      <td>NetEase</td>\n",
       "      <td>[14]</td>\n",
       "    </tr>\n",
       "    <tr>\n",
       "      <th>13</th>\n",
       "      <td>RuneScape</td>\n",
       "      <td>280 million registered accounts</td>\n",
       "      <td>April 2020</td>\n",
       "      <td>Subscription/free-to-play</td>\n",
       "      <td>January 4, 2001</td>\n",
       "      <td>Jagex</td>\n",
       "      <td>[15]</td>\n",
       "    </tr>\n",
       "    <tr>\n",
       "      <th>14</th>\n",
       "      <td>Rules of Survival</td>\n",
       "      <td>230 million[a]</td>\n",
       "      <td>October 2018</td>\n",
       "      <td>Free-to-play</td>\n",
       "      <td>November 17, 2017</td>\n",
       "      <td>NetEase</td>\n",
       "      <td>[16]</td>\n",
       "    </tr>\n",
       "    <tr>\n",
       "      <th>15</th>\n",
       "      <td>Dragon Nest</td>\n",
       "      <td>200 million</td>\n",
       "      <td>March 2013</td>\n",
       "      <td>Free-to-play</td>\n",
       "      <td>March 2010</td>\n",
       "      <td>Nexon</td>\n",
       "      <td>[17]</td>\n",
       "    </tr>\n",
       "    <tr>\n",
       "      <th>16</th>\n",
       "      <td>MapleStory</td>\n",
       "      <td>180 million registered accounts</td>\n",
       "      <td>May 2020</td>\n",
       "      <td>Free-to-play</td>\n",
       "      <td>April 29, 2003</td>\n",
       "      <td>Nexon</td>\n",
       "      <td>[2]</td>\n",
       "    </tr>\n",
       "    <tr>\n",
       "      <th>17</th>\n",
       "      <td>Roblox</td>\n",
       "      <td>164 million peak monthly players</td>\n",
       "      <td>August 2020</td>\n",
       "      <td>Free-to-play</td>\n",
       "      <td>August 27, 2006</td>\n",
       "      <td>Roblox Corporation</td>\n",
       "      <td>[18]</td>\n",
       "    </tr>\n",
       "    <tr>\n",
       "      <th>18</th>\n",
       "      <td>Animal Jam</td>\n",
       "      <td>160 million</td>\n",
       "      <td>October 2017</td>\n",
       "      <td>Free-to-play</td>\n",
       "      <td>September 2010</td>\n",
       "      <td>Wildworks</td>\n",
       "      <td>[19]</td>\n",
       "    </tr>\n",
       "    <tr>\n",
       "      <th>19</th>\n",
       "      <td>World of Tanks</td>\n",
       "      <td>160 million</td>\n",
       "      <td>April 2020</td>\n",
       "      <td>Free-to-play</td>\n",
       "      <td>August 12, 2010</td>\n",
       "      <td>Wargaming</td>\n",
       "      <td>[20]</td>\n",
       "    </tr>\n",
       "    <tr>\n",
       "      <th>20</th>\n",
       "      <td>The Legend of Mir 3</td>\n",
       "      <td>120 million registered accounts</td>\n",
       "      <td>February 2012</td>\n",
       "      <td>Subscription</td>\n",
       "      <td>October 2004</td>\n",
       "      <td>WeMade Entertainment</td>\n",
       "      <td>[21]</td>\n",
       "    </tr>\n",
       "    <tr>\n",
       "      <th>21</th>\n",
       "      <td>League of Legends</td>\n",
       "      <td>111 million peak monthly players</td>\n",
       "      <td>August 2018</td>\n",
       "      <td>Free-to-play</td>\n",
       "      <td>October 27, 2009</td>\n",
       "      <td>Riot Games</td>\n",
       "      <td>[22]</td>\n",
       "    </tr>\n",
       "    <tr>\n",
       "      <th>22</th>\n",
       "      <td>Honor of Kings</td>\n",
       "      <td>100 million daily players</td>\n",
       "      <td>November 2020</td>\n",
       "      <td>Free-to-play</td>\n",
       "      <td>November 26, 2015</td>\n",
       "      <td>Tencent</td>\n",
       "      <td>[23]</td>\n",
       "    </tr>\n",
       "    <tr>\n",
       "      <th>23</th>\n",
       "      <td>World of Warcraft</td>\n",
       "      <td>100 million registered accounts</td>\n",
       "      <td>January 2014</td>\n",
       "      <td>Subscription/pay-to-play[c]</td>\n",
       "      <td>November 23, 2004</td>\n",
       "      <td>Blizzard Entertainment</td>\n",
       "      <td>[24]</td>\n",
       "    </tr>\n",
       "    <tr>\n",
       "      <th>24</th>\n",
       "      <td>CityVille</td>\n",
       "      <td>100 million[a]</td>\n",
       "      <td>October 2011</td>\n",
       "      <td>Free-to-play</td>\n",
       "      <td>December 2, 2010</td>\n",
       "      <td>Zynga</td>\n",
       "      <td>[25]</td>\n",
       "    </tr>\n",
       "    <tr>\n",
       "      <th>25</th>\n",
       "      <td>Happy Farm</td>\n",
       "      <td>100 million[a]</td>\n",
       "      <td>August 2013</td>\n",
       "      <td>Free-to-play</td>\n",
       "      <td>November 2008</td>\n",
       "      <td>5 Minutes</td>\n",
       "      <td>[26]</td>\n",
       "    </tr>\n",
       "    <tr>\n",
       "      <th>26</th>\n",
       "      <td>Scions of Fate</td>\n",
       "      <td>100 million registered accounts</td>\n",
       "      <td>April 2018</td>\n",
       "      <td>Free-to-play</td>\n",
       "      <td>November 25, 2004</td>\n",
       "      <td>KRG Soft</td>\n",
       "      <td>[27]</td>\n",
       "    </tr>\n",
       "    <tr>\n",
       "      <th>27</th>\n",
       "      <td>The Sims Social</td>\n",
       "      <td>100 million[a]</td>\n",
       "      <td>October 2011</td>\n",
       "      <td>Free-to-play</td>\n",
       "      <td>August 9, 2011</td>\n",
       "      <td>Electronic Arts</td>\n",
       "      <td>[25]</td>\n",
       "    </tr>\n",
       "    <tr>\n",
       "      <th>28</th>\n",
       "      <td>Zhengtu</td>\n",
       "      <td>100 million registered accounts</td>\n",
       "      <td>April 2018</td>\n",
       "      <td>Free-to-play</td>\n",
       "      <td>2007</td>\n",
       "      <td>Zhengtu Network</td>\n",
       "      <td>[28]</td>\n",
       "    </tr>\n",
       "    <tr>\n",
       "      <th>29</th>\n",
       "      <td>Microsoft Solitaire Collection</td>\n",
       "      <td>100 million</td>\n",
       "      <td>August 2016</td>\n",
       "      <td>Free-to-play</td>\n",
       "      <td>July 29, 2015</td>\n",
       "      <td>Microsoft</td>\n",
       "      <td>[29]</td>\n",
       "    </tr>\n",
       "    <tr>\n",
       "      <th>30</th>\n",
       "      <td>Hearthstone</td>\n",
       "      <td>100 million</td>\n",
       "      <td>November 2018</td>\n",
       "      <td>Free-to-play</td>\n",
       "      <td>March 11, 2014</td>\n",
       "      <td>Blizzard Entertainment</td>\n",
       "      <td>[30]</td>\n",
       "    </tr>\n",
       "  </tbody>\n",
       "</table>\n",
       "</div>"
      ],
      "text/plain": [
       "                                    Game  \\\n",
       "0                              CrossFire   \n",
       "1           Dungeon Fighter Online (DFO)   \n",
       "2   PlayerUnknown's Battlegrounds (PUBG)   \n",
       "3                         Pac-Man Doodle   \n",
       "4                               QQ Speed   \n",
       "5                       Candy Crush Saga   \n",
       "6                                 Tetris   \n",
       "7                              Minecraft   \n",
       "8                    Microsoft Solitaire   \n",
       "9                             Mini World   \n",
       "10                 Crazyracing Kartrider   \n",
       "11                              Fortnite   \n",
       "12              Fantasy Westward Journey   \n",
       "13                             RuneScape   \n",
       "14                     Rules of Survival   \n",
       "15                           Dragon Nest   \n",
       "16                            MapleStory   \n",
       "17                                Roblox   \n",
       "18                            Animal Jam   \n",
       "19                        World of Tanks   \n",
       "20                   The Legend of Mir 3   \n",
       "21                     League of Legends   \n",
       "22                        Honor of Kings   \n",
       "23                     World of Warcraft   \n",
       "24                             CityVille   \n",
       "25                            Happy Farm   \n",
       "26                        Scions of Fate   \n",
       "27                       The Sims Social   \n",
       "28                               Zhengtu   \n",
       "29        Microsoft Solitaire Collection   \n",
       "30                           Hearthstone   \n",
       "\n",
       "                                  Number          As of  \\\n",
       "0                              1 billion  February 2020   \n",
       "1                            700 million       May 2020   \n",
       "2                         600 million[a]  December 2019   \n",
       "3   505 million peak daily players[b][a]      June 2010   \n",
       "4                         500 million[a]   January 2020   \n",
       "5                         500 million[a]      June 2014   \n",
       "6                         500 million[a]           2016   \n",
       "7                         480 million[a]  November 2019   \n",
       "8                            400 million      July 2015   \n",
       "9                         400 million[a]     April 2020   \n",
       "10       380 million registered accounts       May 2020   \n",
       "11    350 million registered accounts[a]       May 2020   \n",
       "12       310 million registered accounts     April 2015   \n",
       "13       280 million registered accounts     April 2020   \n",
       "14                        230 million[a]   October 2018   \n",
       "15                           200 million     March 2013   \n",
       "16       180 million registered accounts       May 2020   \n",
       "17      164 million peak monthly players    August 2020   \n",
       "18                           160 million   October 2017   \n",
       "19                           160 million     April 2020   \n",
       "20       120 million registered accounts  February 2012   \n",
       "21      111 million peak monthly players    August 2018   \n",
       "22             100 million daily players  November 2020   \n",
       "23       100 million registered accounts   January 2014   \n",
       "24                        100 million[a]   October 2011   \n",
       "25                        100 million[a]    August 2013   \n",
       "26       100 million registered accounts     April 2018   \n",
       "27                        100 million[a]   October 2011   \n",
       "28       100 million registered accounts     April 2018   \n",
       "29                           100 million    August 2016   \n",
       "30                           100 million  November 2018   \n",
       "\n",
       "                 Business model        Release date  \\\n",
       "0                  Free-to-play         May 3, 2007   \n",
       "1                  Free-to-play         August 2005   \n",
       "2      Pay-to-play/free-to-play   December 20, 2017   \n",
       "3                  Free-to-play        May 21, 2010   \n",
       "4                  Free-to-play    January 23, 2008   \n",
       "5                  Free-to-play      April 12, 2012   \n",
       "6      Pay-to-play/free-to-play        June 6, 1984   \n",
       "7      Pay-to-play/free-to-play   November 18, 2011   \n",
       "8                  Free-to-play                1990   \n",
       "9                  Free-to-play   December 26, 2015   \n",
       "10                 Free-to-play        June 1, 2004   \n",
       "11                 Free-to-play  September 26, 2017   \n",
       "12                 Free-to-play       December 2001   \n",
       "13    Subscription/free-to-play     January 4, 2001   \n",
       "14                 Free-to-play   November 17, 2017   \n",
       "15                 Free-to-play          March 2010   \n",
       "16                 Free-to-play      April 29, 2003   \n",
       "17                 Free-to-play     August 27, 2006   \n",
       "18                 Free-to-play      September 2010   \n",
       "19                 Free-to-play     August 12, 2010   \n",
       "20                 Subscription        October 2004   \n",
       "21                 Free-to-play    October 27, 2009   \n",
       "22                 Free-to-play   November 26, 2015   \n",
       "23  Subscription/pay-to-play[c]   November 23, 2004   \n",
       "24                 Free-to-play    December 2, 2010   \n",
       "25                 Free-to-play       November 2008   \n",
       "26                 Free-to-play   November 25, 2004   \n",
       "27                 Free-to-play      August 9, 2011   \n",
       "28                 Free-to-play                2007   \n",
       "29                 Free-to-play       July 29, 2015   \n",
       "30                 Free-to-play      March 11, 2014   \n",
       "\n",
       "                   Publisher(s)    Ref.  \n",
       "0           Smilegate / Tencent     [1]  \n",
       "1               Nexon / Tencent     [2]  \n",
       "2   PUBG Corporation / Bluehole     [3]  \n",
       "3                Namco / Google  [4][5]  \n",
       "4                       Tencent     [7]  \n",
       "5                          King     [8]  \n",
       "6                       Various     [9]  \n",
       "7                        Mojang    [10]  \n",
       "8                     Microsoft    [11]  \n",
       "9                       Miniwan    [12]  \n",
       "10                        Nexon     [2]  \n",
       "11                   Epic Games    [13]  \n",
       "12                      NetEase    [14]  \n",
       "13                        Jagex    [15]  \n",
       "14                      NetEase    [16]  \n",
       "15                        Nexon    [17]  \n",
       "16                        Nexon     [2]  \n",
       "17           Roblox Corporation    [18]  \n",
       "18                    Wildworks    [19]  \n",
       "19                    Wargaming    [20]  \n",
       "20         WeMade Entertainment    [21]  \n",
       "21                   Riot Games    [22]  \n",
       "22                      Tencent    [23]  \n",
       "23       Blizzard Entertainment    [24]  \n",
       "24                        Zynga    [25]  \n",
       "25                    5 Minutes    [26]  \n",
       "26                     KRG Soft    [27]  \n",
       "27              Electronic Arts    [25]  \n",
       "28              Zhengtu Network    [28]  \n",
       "29                    Microsoft    [29]  \n",
       "30       Blizzard Entertainment    [30]  "
      ]
     },
     "execution_count": 12,
     "metadata": {},
     "output_type": "execute_result"
    }
   ],
   "source": [
    "players_df = pd.read_csv('VideoByPlayers.csv'); \n",
    "players_df"
   ]
  },
  {
   "cell_type": "markdown",
   "metadata": {},
   "source": [
    "Let's fix up the 'Numbers' column, to change the text into a number.\n",
    "\n",
    "It is pretty easy -- just strip out the words, and leave the digits. This will give us the number of players in millions.\n",
    "\n",
    "The Python code is a bit trick here. We want to look at each entry in the 'Number' column, call it x, examine each character in x, and keep it (join it) if that character is a digit. The function to do that is written like this:\n",
    "```\n",
    "''.join( c for c in x if c.isdigit() )\n",
    "```\n",
    "We apply this as a lambda function to the dataframe, as follows\n"
   ]
  },
  {
   "cell_type": "code",
   "execution_count": 13,
   "metadata": {},
   "outputs": [
    {
     "data": {
      "text/html": [
       "<div>\n",
       "<style scoped>\n",
       "    .dataframe tbody tr th:only-of-type {\n",
       "        vertical-align: middle;\n",
       "    }\n",
       "\n",
       "    .dataframe tbody tr th {\n",
       "        vertical-align: top;\n",
       "    }\n",
       "\n",
       "    .dataframe thead th {\n",
       "        text-align: right;\n",
       "    }\n",
       "</style>\n",
       "<table border=\"1\" class=\"dataframe\">\n",
       "  <thead>\n",
       "    <tr style=\"text-align: right;\">\n",
       "      <th></th>\n",
       "      <th>Game</th>\n",
       "      <th>Number</th>\n",
       "      <th>As of</th>\n",
       "      <th>Business model</th>\n",
       "      <th>Release date</th>\n",
       "      <th>Publisher(s)</th>\n",
       "      <th>Ref.</th>\n",
       "    </tr>\n",
       "  </thead>\n",
       "  <tbody>\n",
       "    <tr>\n",
       "      <th>0</th>\n",
       "      <td>CrossFire</td>\n",
       "      <td>1</td>\n",
       "      <td>February 2020</td>\n",
       "      <td>Free-to-play</td>\n",
       "      <td>May 3, 2007</td>\n",
       "      <td>Smilegate / Tencent</td>\n",
       "      <td>[1]</td>\n",
       "    </tr>\n",
       "    <tr>\n",
       "      <th>1</th>\n",
       "      <td>Dungeon Fighter Online (DFO)</td>\n",
       "      <td>700</td>\n",
       "      <td>May 2020</td>\n",
       "      <td>Free-to-play</td>\n",
       "      <td>August 2005</td>\n",
       "      <td>Nexon / Tencent</td>\n",
       "      <td>[2]</td>\n",
       "    </tr>\n",
       "    <tr>\n",
       "      <th>2</th>\n",
       "      <td>PlayerUnknown's Battlegrounds (PUBG)</td>\n",
       "      <td>600</td>\n",
       "      <td>December 2019</td>\n",
       "      <td>Pay-to-play/free-to-play</td>\n",
       "      <td>December 20, 2017</td>\n",
       "      <td>PUBG Corporation / Bluehole</td>\n",
       "      <td>[3]</td>\n",
       "    </tr>\n",
       "    <tr>\n",
       "      <th>3</th>\n",
       "      <td>Pac-Man Doodle</td>\n",
       "      <td>505</td>\n",
       "      <td>June 2010</td>\n",
       "      <td>Free-to-play</td>\n",
       "      <td>May 21, 2010</td>\n",
       "      <td>Namco / Google</td>\n",
       "      <td>[4][5]</td>\n",
       "    </tr>\n",
       "    <tr>\n",
       "      <th>4</th>\n",
       "      <td>QQ Speed</td>\n",
       "      <td>500</td>\n",
       "      <td>January 2020</td>\n",
       "      <td>Free-to-play</td>\n",
       "      <td>January 23, 2008</td>\n",
       "      <td>Tencent</td>\n",
       "      <td>[7]</td>\n",
       "    </tr>\n",
       "    <tr>\n",
       "      <th>5</th>\n",
       "      <td>Candy Crush Saga</td>\n",
       "      <td>500</td>\n",
       "      <td>June 2014</td>\n",
       "      <td>Free-to-play</td>\n",
       "      <td>April 12, 2012</td>\n",
       "      <td>King</td>\n",
       "      <td>[8]</td>\n",
       "    </tr>\n",
       "    <tr>\n",
       "      <th>6</th>\n",
       "      <td>Tetris</td>\n",
       "      <td>500</td>\n",
       "      <td>2016</td>\n",
       "      <td>Pay-to-play/free-to-play</td>\n",
       "      <td>June 6, 1984</td>\n",
       "      <td>Various</td>\n",
       "      <td>[9]</td>\n",
       "    </tr>\n",
       "    <tr>\n",
       "      <th>7</th>\n",
       "      <td>Minecraft</td>\n",
       "      <td>480</td>\n",
       "      <td>November 2019</td>\n",
       "      <td>Pay-to-play/free-to-play</td>\n",
       "      <td>November 18, 2011</td>\n",
       "      <td>Mojang</td>\n",
       "      <td>[10]</td>\n",
       "    </tr>\n",
       "    <tr>\n",
       "      <th>8</th>\n",
       "      <td>Microsoft Solitaire</td>\n",
       "      <td>400</td>\n",
       "      <td>July 2015</td>\n",
       "      <td>Free-to-play</td>\n",
       "      <td>1990</td>\n",
       "      <td>Microsoft</td>\n",
       "      <td>[11]</td>\n",
       "    </tr>\n",
       "    <tr>\n",
       "      <th>9</th>\n",
       "      <td>Mini World</td>\n",
       "      <td>400</td>\n",
       "      <td>April 2020</td>\n",
       "      <td>Free-to-play</td>\n",
       "      <td>December 26, 2015</td>\n",
       "      <td>Miniwan</td>\n",
       "      <td>[12]</td>\n",
       "    </tr>\n",
       "    <tr>\n",
       "      <th>10</th>\n",
       "      <td>Crazyracing Kartrider</td>\n",
       "      <td>380</td>\n",
       "      <td>May 2020</td>\n",
       "      <td>Free-to-play</td>\n",
       "      <td>June 1, 2004</td>\n",
       "      <td>Nexon</td>\n",
       "      <td>[2]</td>\n",
       "    </tr>\n",
       "    <tr>\n",
       "      <th>11</th>\n",
       "      <td>Fortnite</td>\n",
       "      <td>350</td>\n",
       "      <td>May 2020</td>\n",
       "      <td>Free-to-play</td>\n",
       "      <td>September 26, 2017</td>\n",
       "      <td>Epic Games</td>\n",
       "      <td>[13]</td>\n",
       "    </tr>\n",
       "    <tr>\n",
       "      <th>12</th>\n",
       "      <td>Fantasy Westward Journey</td>\n",
       "      <td>310</td>\n",
       "      <td>April 2015</td>\n",
       "      <td>Free-to-play</td>\n",
       "      <td>December 2001</td>\n",
       "      <td>NetEase</td>\n",
       "      <td>[14]</td>\n",
       "    </tr>\n",
       "    <tr>\n",
       "      <th>13</th>\n",
       "      <td>RuneScape</td>\n",
       "      <td>280</td>\n",
       "      <td>April 2020</td>\n",
       "      <td>Subscription/free-to-play</td>\n",
       "      <td>January 4, 2001</td>\n",
       "      <td>Jagex</td>\n",
       "      <td>[15]</td>\n",
       "    </tr>\n",
       "    <tr>\n",
       "      <th>14</th>\n",
       "      <td>Rules of Survival</td>\n",
       "      <td>230</td>\n",
       "      <td>October 2018</td>\n",
       "      <td>Free-to-play</td>\n",
       "      <td>November 17, 2017</td>\n",
       "      <td>NetEase</td>\n",
       "      <td>[16]</td>\n",
       "    </tr>\n",
       "    <tr>\n",
       "      <th>15</th>\n",
       "      <td>Dragon Nest</td>\n",
       "      <td>200</td>\n",
       "      <td>March 2013</td>\n",
       "      <td>Free-to-play</td>\n",
       "      <td>March 2010</td>\n",
       "      <td>Nexon</td>\n",
       "      <td>[17]</td>\n",
       "    </tr>\n",
       "    <tr>\n",
       "      <th>16</th>\n",
       "      <td>MapleStory</td>\n",
       "      <td>180</td>\n",
       "      <td>May 2020</td>\n",
       "      <td>Free-to-play</td>\n",
       "      <td>April 29, 2003</td>\n",
       "      <td>Nexon</td>\n",
       "      <td>[2]</td>\n",
       "    </tr>\n",
       "    <tr>\n",
       "      <th>17</th>\n",
       "      <td>Roblox</td>\n",
       "      <td>164</td>\n",
       "      <td>August 2020</td>\n",
       "      <td>Free-to-play</td>\n",
       "      <td>August 27, 2006</td>\n",
       "      <td>Roblox Corporation</td>\n",
       "      <td>[18]</td>\n",
       "    </tr>\n",
       "    <tr>\n",
       "      <th>18</th>\n",
       "      <td>Animal Jam</td>\n",
       "      <td>160</td>\n",
       "      <td>October 2017</td>\n",
       "      <td>Free-to-play</td>\n",
       "      <td>September 2010</td>\n",
       "      <td>Wildworks</td>\n",
       "      <td>[19]</td>\n",
       "    </tr>\n",
       "    <tr>\n",
       "      <th>19</th>\n",
       "      <td>World of Tanks</td>\n",
       "      <td>160</td>\n",
       "      <td>April 2020</td>\n",
       "      <td>Free-to-play</td>\n",
       "      <td>August 12, 2010</td>\n",
       "      <td>Wargaming</td>\n",
       "      <td>[20]</td>\n",
       "    </tr>\n",
       "    <tr>\n",
       "      <th>20</th>\n",
       "      <td>The Legend of Mir 3</td>\n",
       "      <td>120</td>\n",
       "      <td>February 2012</td>\n",
       "      <td>Subscription</td>\n",
       "      <td>October 2004</td>\n",
       "      <td>WeMade Entertainment</td>\n",
       "      <td>[21]</td>\n",
       "    </tr>\n",
       "    <tr>\n",
       "      <th>21</th>\n",
       "      <td>League of Legends</td>\n",
       "      <td>111</td>\n",
       "      <td>August 2018</td>\n",
       "      <td>Free-to-play</td>\n",
       "      <td>October 27, 2009</td>\n",
       "      <td>Riot Games</td>\n",
       "      <td>[22]</td>\n",
       "    </tr>\n",
       "    <tr>\n",
       "      <th>22</th>\n",
       "      <td>Honor of Kings</td>\n",
       "      <td>100</td>\n",
       "      <td>November 2020</td>\n",
       "      <td>Free-to-play</td>\n",
       "      <td>November 26, 2015</td>\n",
       "      <td>Tencent</td>\n",
       "      <td>[23]</td>\n",
       "    </tr>\n",
       "    <tr>\n",
       "      <th>23</th>\n",
       "      <td>World of Warcraft</td>\n",
       "      <td>100</td>\n",
       "      <td>January 2014</td>\n",
       "      <td>Subscription/pay-to-play[c]</td>\n",
       "      <td>November 23, 2004</td>\n",
       "      <td>Blizzard Entertainment</td>\n",
       "      <td>[24]</td>\n",
       "    </tr>\n",
       "    <tr>\n",
       "      <th>24</th>\n",
       "      <td>CityVille</td>\n",
       "      <td>100</td>\n",
       "      <td>October 2011</td>\n",
       "      <td>Free-to-play</td>\n",
       "      <td>December 2, 2010</td>\n",
       "      <td>Zynga</td>\n",
       "      <td>[25]</td>\n",
       "    </tr>\n",
       "    <tr>\n",
       "      <th>25</th>\n",
       "      <td>Happy Farm</td>\n",
       "      <td>100</td>\n",
       "      <td>August 2013</td>\n",
       "      <td>Free-to-play</td>\n",
       "      <td>November 2008</td>\n",
       "      <td>5 Minutes</td>\n",
       "      <td>[26]</td>\n",
       "    </tr>\n",
       "    <tr>\n",
       "      <th>26</th>\n",
       "      <td>Scions of Fate</td>\n",
       "      <td>100</td>\n",
       "      <td>April 2018</td>\n",
       "      <td>Free-to-play</td>\n",
       "      <td>November 25, 2004</td>\n",
       "      <td>KRG Soft</td>\n",
       "      <td>[27]</td>\n",
       "    </tr>\n",
       "    <tr>\n",
       "      <th>27</th>\n",
       "      <td>The Sims Social</td>\n",
       "      <td>100</td>\n",
       "      <td>October 2011</td>\n",
       "      <td>Free-to-play</td>\n",
       "      <td>August 9, 2011</td>\n",
       "      <td>Electronic Arts</td>\n",
       "      <td>[25]</td>\n",
       "    </tr>\n",
       "    <tr>\n",
       "      <th>28</th>\n",
       "      <td>Zhengtu</td>\n",
       "      <td>100</td>\n",
       "      <td>April 2018</td>\n",
       "      <td>Free-to-play</td>\n",
       "      <td>2007</td>\n",
       "      <td>Zhengtu Network</td>\n",
       "      <td>[28]</td>\n",
       "    </tr>\n",
       "    <tr>\n",
       "      <th>29</th>\n",
       "      <td>Microsoft Solitaire Collection</td>\n",
       "      <td>100</td>\n",
       "      <td>August 2016</td>\n",
       "      <td>Free-to-play</td>\n",
       "      <td>July 29, 2015</td>\n",
       "      <td>Microsoft</td>\n",
       "      <td>[29]</td>\n",
       "    </tr>\n",
       "    <tr>\n",
       "      <th>30</th>\n",
       "      <td>Hearthstone</td>\n",
       "      <td>100</td>\n",
       "      <td>November 2018</td>\n",
       "      <td>Free-to-play</td>\n",
       "      <td>March 11, 2014</td>\n",
       "      <td>Blizzard Entertainment</td>\n",
       "      <td>[30]</td>\n",
       "    </tr>\n",
       "  </tbody>\n",
       "</table>\n",
       "</div>"
      ],
      "text/plain": [
       "                                    Game Number          As of  \\\n",
       "0                              CrossFire      1  February 2020   \n",
       "1           Dungeon Fighter Online (DFO)    700       May 2020   \n",
       "2   PlayerUnknown's Battlegrounds (PUBG)    600  December 2019   \n",
       "3                         Pac-Man Doodle    505      June 2010   \n",
       "4                               QQ Speed    500   January 2020   \n",
       "5                       Candy Crush Saga    500      June 2014   \n",
       "6                                 Tetris    500           2016   \n",
       "7                              Minecraft    480  November 2019   \n",
       "8                    Microsoft Solitaire    400      July 2015   \n",
       "9                             Mini World    400     April 2020   \n",
       "10                 Crazyracing Kartrider    380       May 2020   \n",
       "11                              Fortnite    350       May 2020   \n",
       "12              Fantasy Westward Journey    310     April 2015   \n",
       "13                             RuneScape    280     April 2020   \n",
       "14                     Rules of Survival    230   October 2018   \n",
       "15                           Dragon Nest    200     March 2013   \n",
       "16                            MapleStory    180       May 2020   \n",
       "17                                Roblox    164    August 2020   \n",
       "18                            Animal Jam    160   October 2017   \n",
       "19                        World of Tanks    160     April 2020   \n",
       "20                   The Legend of Mir 3    120  February 2012   \n",
       "21                     League of Legends    111    August 2018   \n",
       "22                        Honor of Kings    100  November 2020   \n",
       "23                     World of Warcraft    100   January 2014   \n",
       "24                             CityVille    100   October 2011   \n",
       "25                            Happy Farm    100    August 2013   \n",
       "26                        Scions of Fate    100     April 2018   \n",
       "27                       The Sims Social    100   October 2011   \n",
       "28                               Zhengtu    100     April 2018   \n",
       "29        Microsoft Solitaire Collection    100    August 2016   \n",
       "30                           Hearthstone    100  November 2018   \n",
       "\n",
       "                 Business model        Release date  \\\n",
       "0                  Free-to-play         May 3, 2007   \n",
       "1                  Free-to-play         August 2005   \n",
       "2      Pay-to-play/free-to-play   December 20, 2017   \n",
       "3                  Free-to-play        May 21, 2010   \n",
       "4                  Free-to-play    January 23, 2008   \n",
       "5                  Free-to-play      April 12, 2012   \n",
       "6      Pay-to-play/free-to-play        June 6, 1984   \n",
       "7      Pay-to-play/free-to-play   November 18, 2011   \n",
       "8                  Free-to-play                1990   \n",
       "9                  Free-to-play   December 26, 2015   \n",
       "10                 Free-to-play        June 1, 2004   \n",
       "11                 Free-to-play  September 26, 2017   \n",
       "12                 Free-to-play       December 2001   \n",
       "13    Subscription/free-to-play     January 4, 2001   \n",
       "14                 Free-to-play   November 17, 2017   \n",
       "15                 Free-to-play          March 2010   \n",
       "16                 Free-to-play      April 29, 2003   \n",
       "17                 Free-to-play     August 27, 2006   \n",
       "18                 Free-to-play      September 2010   \n",
       "19                 Free-to-play     August 12, 2010   \n",
       "20                 Subscription        October 2004   \n",
       "21                 Free-to-play    October 27, 2009   \n",
       "22                 Free-to-play   November 26, 2015   \n",
       "23  Subscription/pay-to-play[c]   November 23, 2004   \n",
       "24                 Free-to-play    December 2, 2010   \n",
       "25                 Free-to-play       November 2008   \n",
       "26                 Free-to-play   November 25, 2004   \n",
       "27                 Free-to-play      August 9, 2011   \n",
       "28                 Free-to-play                2007   \n",
       "29                 Free-to-play       July 29, 2015   \n",
       "30                 Free-to-play      March 11, 2014   \n",
       "\n",
       "                   Publisher(s)    Ref.  \n",
       "0           Smilegate / Tencent     [1]  \n",
       "1               Nexon / Tencent     [2]  \n",
       "2   PUBG Corporation / Bluehole     [3]  \n",
       "3                Namco / Google  [4][5]  \n",
       "4                       Tencent     [7]  \n",
       "5                          King     [8]  \n",
       "6                       Various     [9]  \n",
       "7                        Mojang    [10]  \n",
       "8                     Microsoft    [11]  \n",
       "9                       Miniwan    [12]  \n",
       "10                        Nexon     [2]  \n",
       "11                   Epic Games    [13]  \n",
       "12                      NetEase    [14]  \n",
       "13                        Jagex    [15]  \n",
       "14                      NetEase    [16]  \n",
       "15                        Nexon    [17]  \n",
       "16                        Nexon     [2]  \n",
       "17           Roblox Corporation    [18]  \n",
       "18                    Wildworks    [19]  \n",
       "19                    Wargaming    [20]  \n",
       "20         WeMade Entertainment    [21]  \n",
       "21                   Riot Games    [22]  \n",
       "22                      Tencent    [23]  \n",
       "23       Blizzard Entertainment    [24]  \n",
       "24                        Zynga    [25]  \n",
       "25                    5 Minutes    [26]  \n",
       "26                     KRG Soft    [27]  \n",
       "27              Electronic Arts    [25]  \n",
       "28              Zhengtu Network    [28]  \n",
       "29                    Microsoft    [29]  \n",
       "30       Blizzard Entertainment    [30]  "
      ]
     },
     "execution_count": 13,
     "metadata": {},
     "output_type": "execute_result"
    }
   ],
   "source": [
    "players_df['Number']=players_df['Number'].apply(lambda x: ''.join(c for c in x if c.isdigit()))\n",
    "players_df"
   ]
  },
  {
   "cell_type": "markdown",
   "metadata": {},
   "source": [
    "### Problem!\n",
    "\n",
    "We notice that the entry for CrossFire is wrong -- it say 1 million players, when it should be 1000 million players. That is, the original entry said there is a billion players. So let's fix that by changing that value to 1000."
   ]
  },
  {
   "cell_type": "code",
   "execution_count": 14,
   "metadata": {},
   "outputs": [
    {
     "data": {
      "text/html": [
       "<div>\n",
       "<style scoped>\n",
       "    .dataframe tbody tr th:only-of-type {\n",
       "        vertical-align: middle;\n",
       "    }\n",
       "\n",
       "    .dataframe tbody tr th {\n",
       "        vertical-align: top;\n",
       "    }\n",
       "\n",
       "    .dataframe thead th {\n",
       "        text-align: right;\n",
       "    }\n",
       "</style>\n",
       "<table border=\"1\" class=\"dataframe\">\n",
       "  <thead>\n",
       "    <tr style=\"text-align: right;\">\n",
       "      <th></th>\n",
       "      <th>Game</th>\n",
       "      <th>Number</th>\n",
       "      <th>As of</th>\n",
       "      <th>Business model</th>\n",
       "      <th>Release date</th>\n",
       "      <th>Publisher(s)</th>\n",
       "      <th>Ref.</th>\n",
       "    </tr>\n",
       "  </thead>\n",
       "  <tbody>\n",
       "    <tr>\n",
       "      <th>0</th>\n",
       "      <td>CrossFire</td>\n",
       "      <td>1000</td>\n",
       "      <td>February 2020</td>\n",
       "      <td>Free-to-play</td>\n",
       "      <td>May 3, 2007</td>\n",
       "      <td>Smilegate / Tencent</td>\n",
       "      <td>[1]</td>\n",
       "    </tr>\n",
       "    <tr>\n",
       "      <th>1</th>\n",
       "      <td>Dungeon Fighter Online (DFO)</td>\n",
       "      <td>700</td>\n",
       "      <td>May 2020</td>\n",
       "      <td>Free-to-play</td>\n",
       "      <td>August 2005</td>\n",
       "      <td>Nexon / Tencent</td>\n",
       "      <td>[2]</td>\n",
       "    </tr>\n",
       "    <tr>\n",
       "      <th>2</th>\n",
       "      <td>PlayerUnknown's Battlegrounds (PUBG)</td>\n",
       "      <td>600</td>\n",
       "      <td>December 2019</td>\n",
       "      <td>Pay-to-play/free-to-play</td>\n",
       "      <td>December 20, 2017</td>\n",
       "      <td>PUBG Corporation / Bluehole</td>\n",
       "      <td>[3]</td>\n",
       "    </tr>\n",
       "    <tr>\n",
       "      <th>3</th>\n",
       "      <td>Pac-Man Doodle</td>\n",
       "      <td>505</td>\n",
       "      <td>June 2010</td>\n",
       "      <td>Free-to-play</td>\n",
       "      <td>May 21, 2010</td>\n",
       "      <td>Namco / Google</td>\n",
       "      <td>[4][5]</td>\n",
       "    </tr>\n",
       "    <tr>\n",
       "      <th>4</th>\n",
       "      <td>QQ Speed</td>\n",
       "      <td>500</td>\n",
       "      <td>January 2020</td>\n",
       "      <td>Free-to-play</td>\n",
       "      <td>January 23, 2008</td>\n",
       "      <td>Tencent</td>\n",
       "      <td>[7]</td>\n",
       "    </tr>\n",
       "    <tr>\n",
       "      <th>5</th>\n",
       "      <td>Candy Crush Saga</td>\n",
       "      <td>500</td>\n",
       "      <td>June 2014</td>\n",
       "      <td>Free-to-play</td>\n",
       "      <td>April 12, 2012</td>\n",
       "      <td>King</td>\n",
       "      <td>[8]</td>\n",
       "    </tr>\n",
       "    <tr>\n",
       "      <th>6</th>\n",
       "      <td>Tetris</td>\n",
       "      <td>500</td>\n",
       "      <td>2016</td>\n",
       "      <td>Pay-to-play/free-to-play</td>\n",
       "      <td>June 6, 1984</td>\n",
       "      <td>Various</td>\n",
       "      <td>[9]</td>\n",
       "    </tr>\n",
       "    <tr>\n",
       "      <th>7</th>\n",
       "      <td>Minecraft</td>\n",
       "      <td>480</td>\n",
       "      <td>November 2019</td>\n",
       "      <td>Pay-to-play/free-to-play</td>\n",
       "      <td>November 18, 2011</td>\n",
       "      <td>Mojang</td>\n",
       "      <td>[10]</td>\n",
       "    </tr>\n",
       "    <tr>\n",
       "      <th>8</th>\n",
       "      <td>Microsoft Solitaire</td>\n",
       "      <td>400</td>\n",
       "      <td>July 2015</td>\n",
       "      <td>Free-to-play</td>\n",
       "      <td>1990</td>\n",
       "      <td>Microsoft</td>\n",
       "      <td>[11]</td>\n",
       "    </tr>\n",
       "    <tr>\n",
       "      <th>9</th>\n",
       "      <td>Mini World</td>\n",
       "      <td>400</td>\n",
       "      <td>April 2020</td>\n",
       "      <td>Free-to-play</td>\n",
       "      <td>December 26, 2015</td>\n",
       "      <td>Miniwan</td>\n",
       "      <td>[12]</td>\n",
       "    </tr>\n",
       "    <tr>\n",
       "      <th>10</th>\n",
       "      <td>Crazyracing Kartrider</td>\n",
       "      <td>380</td>\n",
       "      <td>May 2020</td>\n",
       "      <td>Free-to-play</td>\n",
       "      <td>June 1, 2004</td>\n",
       "      <td>Nexon</td>\n",
       "      <td>[2]</td>\n",
       "    </tr>\n",
       "    <tr>\n",
       "      <th>11</th>\n",
       "      <td>Fortnite</td>\n",
       "      <td>350</td>\n",
       "      <td>May 2020</td>\n",
       "      <td>Free-to-play</td>\n",
       "      <td>September 26, 2017</td>\n",
       "      <td>Epic Games</td>\n",
       "      <td>[13]</td>\n",
       "    </tr>\n",
       "    <tr>\n",
       "      <th>12</th>\n",
       "      <td>Fantasy Westward Journey</td>\n",
       "      <td>310</td>\n",
       "      <td>April 2015</td>\n",
       "      <td>Free-to-play</td>\n",
       "      <td>December 2001</td>\n",
       "      <td>NetEase</td>\n",
       "      <td>[14]</td>\n",
       "    </tr>\n",
       "    <tr>\n",
       "      <th>13</th>\n",
       "      <td>RuneScape</td>\n",
       "      <td>280</td>\n",
       "      <td>April 2020</td>\n",
       "      <td>Subscription/free-to-play</td>\n",
       "      <td>January 4, 2001</td>\n",
       "      <td>Jagex</td>\n",
       "      <td>[15]</td>\n",
       "    </tr>\n",
       "    <tr>\n",
       "      <th>14</th>\n",
       "      <td>Rules of Survival</td>\n",
       "      <td>230</td>\n",
       "      <td>October 2018</td>\n",
       "      <td>Free-to-play</td>\n",
       "      <td>November 17, 2017</td>\n",
       "      <td>NetEase</td>\n",
       "      <td>[16]</td>\n",
       "    </tr>\n",
       "    <tr>\n",
       "      <th>15</th>\n",
       "      <td>Dragon Nest</td>\n",
       "      <td>200</td>\n",
       "      <td>March 2013</td>\n",
       "      <td>Free-to-play</td>\n",
       "      <td>March 2010</td>\n",
       "      <td>Nexon</td>\n",
       "      <td>[17]</td>\n",
       "    </tr>\n",
       "    <tr>\n",
       "      <th>16</th>\n",
       "      <td>MapleStory</td>\n",
       "      <td>180</td>\n",
       "      <td>May 2020</td>\n",
       "      <td>Free-to-play</td>\n",
       "      <td>April 29, 2003</td>\n",
       "      <td>Nexon</td>\n",
       "      <td>[2]</td>\n",
       "    </tr>\n",
       "    <tr>\n",
       "      <th>17</th>\n",
       "      <td>Roblox</td>\n",
       "      <td>164</td>\n",
       "      <td>August 2020</td>\n",
       "      <td>Free-to-play</td>\n",
       "      <td>August 27, 2006</td>\n",
       "      <td>Roblox Corporation</td>\n",
       "      <td>[18]</td>\n",
       "    </tr>\n",
       "    <tr>\n",
       "      <th>18</th>\n",
       "      <td>Animal Jam</td>\n",
       "      <td>160</td>\n",
       "      <td>October 2017</td>\n",
       "      <td>Free-to-play</td>\n",
       "      <td>September 2010</td>\n",
       "      <td>Wildworks</td>\n",
       "      <td>[19]</td>\n",
       "    </tr>\n",
       "    <tr>\n",
       "      <th>19</th>\n",
       "      <td>World of Tanks</td>\n",
       "      <td>160</td>\n",
       "      <td>April 2020</td>\n",
       "      <td>Free-to-play</td>\n",
       "      <td>August 12, 2010</td>\n",
       "      <td>Wargaming</td>\n",
       "      <td>[20]</td>\n",
       "    </tr>\n",
       "    <tr>\n",
       "      <th>20</th>\n",
       "      <td>The Legend of Mir 3</td>\n",
       "      <td>120</td>\n",
       "      <td>February 2012</td>\n",
       "      <td>Subscription</td>\n",
       "      <td>October 2004</td>\n",
       "      <td>WeMade Entertainment</td>\n",
       "      <td>[21]</td>\n",
       "    </tr>\n",
       "    <tr>\n",
       "      <th>21</th>\n",
       "      <td>League of Legends</td>\n",
       "      <td>111</td>\n",
       "      <td>August 2018</td>\n",
       "      <td>Free-to-play</td>\n",
       "      <td>October 27, 2009</td>\n",
       "      <td>Riot Games</td>\n",
       "      <td>[22]</td>\n",
       "    </tr>\n",
       "    <tr>\n",
       "      <th>22</th>\n",
       "      <td>Honor of Kings</td>\n",
       "      <td>100</td>\n",
       "      <td>November 2020</td>\n",
       "      <td>Free-to-play</td>\n",
       "      <td>November 26, 2015</td>\n",
       "      <td>Tencent</td>\n",
       "      <td>[23]</td>\n",
       "    </tr>\n",
       "    <tr>\n",
       "      <th>23</th>\n",
       "      <td>World of Warcraft</td>\n",
       "      <td>100</td>\n",
       "      <td>January 2014</td>\n",
       "      <td>Subscription/pay-to-play[c]</td>\n",
       "      <td>November 23, 2004</td>\n",
       "      <td>Blizzard Entertainment</td>\n",
       "      <td>[24]</td>\n",
       "    </tr>\n",
       "    <tr>\n",
       "      <th>24</th>\n",
       "      <td>CityVille</td>\n",
       "      <td>100</td>\n",
       "      <td>October 2011</td>\n",
       "      <td>Free-to-play</td>\n",
       "      <td>December 2, 2010</td>\n",
       "      <td>Zynga</td>\n",
       "      <td>[25]</td>\n",
       "    </tr>\n",
       "    <tr>\n",
       "      <th>25</th>\n",
       "      <td>Happy Farm</td>\n",
       "      <td>100</td>\n",
       "      <td>August 2013</td>\n",
       "      <td>Free-to-play</td>\n",
       "      <td>November 2008</td>\n",
       "      <td>5 Minutes</td>\n",
       "      <td>[26]</td>\n",
       "    </tr>\n",
       "    <tr>\n",
       "      <th>26</th>\n",
       "      <td>Scions of Fate</td>\n",
       "      <td>100</td>\n",
       "      <td>April 2018</td>\n",
       "      <td>Free-to-play</td>\n",
       "      <td>November 25, 2004</td>\n",
       "      <td>KRG Soft</td>\n",
       "      <td>[27]</td>\n",
       "    </tr>\n",
       "    <tr>\n",
       "      <th>27</th>\n",
       "      <td>The Sims Social</td>\n",
       "      <td>100</td>\n",
       "      <td>October 2011</td>\n",
       "      <td>Free-to-play</td>\n",
       "      <td>August 9, 2011</td>\n",
       "      <td>Electronic Arts</td>\n",
       "      <td>[25]</td>\n",
       "    </tr>\n",
       "    <tr>\n",
       "      <th>28</th>\n",
       "      <td>Zhengtu</td>\n",
       "      <td>100</td>\n",
       "      <td>April 2018</td>\n",
       "      <td>Free-to-play</td>\n",
       "      <td>2007</td>\n",
       "      <td>Zhengtu Network</td>\n",
       "      <td>[28]</td>\n",
       "    </tr>\n",
       "    <tr>\n",
       "      <th>29</th>\n",
       "      <td>Microsoft Solitaire Collection</td>\n",
       "      <td>100</td>\n",
       "      <td>August 2016</td>\n",
       "      <td>Free-to-play</td>\n",
       "      <td>July 29, 2015</td>\n",
       "      <td>Microsoft</td>\n",
       "      <td>[29]</td>\n",
       "    </tr>\n",
       "    <tr>\n",
       "      <th>30</th>\n",
       "      <td>Hearthstone</td>\n",
       "      <td>100</td>\n",
       "      <td>November 2018</td>\n",
       "      <td>Free-to-play</td>\n",
       "      <td>March 11, 2014</td>\n",
       "      <td>Blizzard Entertainment</td>\n",
       "      <td>[30]</td>\n",
       "    </tr>\n",
       "  </tbody>\n",
       "</table>\n",
       "</div>"
      ],
      "text/plain": [
       "                                    Game Number          As of  \\\n",
       "0                              CrossFire   1000  February 2020   \n",
       "1           Dungeon Fighter Online (DFO)    700       May 2020   \n",
       "2   PlayerUnknown's Battlegrounds (PUBG)    600  December 2019   \n",
       "3                         Pac-Man Doodle    505      June 2010   \n",
       "4                               QQ Speed    500   January 2020   \n",
       "5                       Candy Crush Saga    500      June 2014   \n",
       "6                                 Tetris    500           2016   \n",
       "7                              Minecraft    480  November 2019   \n",
       "8                    Microsoft Solitaire    400      July 2015   \n",
       "9                             Mini World    400     April 2020   \n",
       "10                 Crazyracing Kartrider    380       May 2020   \n",
       "11                              Fortnite    350       May 2020   \n",
       "12              Fantasy Westward Journey    310     April 2015   \n",
       "13                             RuneScape    280     April 2020   \n",
       "14                     Rules of Survival    230   October 2018   \n",
       "15                           Dragon Nest    200     March 2013   \n",
       "16                            MapleStory    180       May 2020   \n",
       "17                                Roblox    164    August 2020   \n",
       "18                            Animal Jam    160   October 2017   \n",
       "19                        World of Tanks    160     April 2020   \n",
       "20                   The Legend of Mir 3    120  February 2012   \n",
       "21                     League of Legends    111    August 2018   \n",
       "22                        Honor of Kings    100  November 2020   \n",
       "23                     World of Warcraft    100   January 2014   \n",
       "24                             CityVille    100   October 2011   \n",
       "25                            Happy Farm    100    August 2013   \n",
       "26                        Scions of Fate    100     April 2018   \n",
       "27                       The Sims Social    100   October 2011   \n",
       "28                               Zhengtu    100     April 2018   \n",
       "29        Microsoft Solitaire Collection    100    August 2016   \n",
       "30                           Hearthstone    100  November 2018   \n",
       "\n",
       "                 Business model        Release date  \\\n",
       "0                  Free-to-play         May 3, 2007   \n",
       "1                  Free-to-play         August 2005   \n",
       "2      Pay-to-play/free-to-play   December 20, 2017   \n",
       "3                  Free-to-play        May 21, 2010   \n",
       "4                  Free-to-play    January 23, 2008   \n",
       "5                  Free-to-play      April 12, 2012   \n",
       "6      Pay-to-play/free-to-play        June 6, 1984   \n",
       "7      Pay-to-play/free-to-play   November 18, 2011   \n",
       "8                  Free-to-play                1990   \n",
       "9                  Free-to-play   December 26, 2015   \n",
       "10                 Free-to-play        June 1, 2004   \n",
       "11                 Free-to-play  September 26, 2017   \n",
       "12                 Free-to-play       December 2001   \n",
       "13    Subscription/free-to-play     January 4, 2001   \n",
       "14                 Free-to-play   November 17, 2017   \n",
       "15                 Free-to-play          March 2010   \n",
       "16                 Free-to-play      April 29, 2003   \n",
       "17                 Free-to-play     August 27, 2006   \n",
       "18                 Free-to-play      September 2010   \n",
       "19                 Free-to-play     August 12, 2010   \n",
       "20                 Subscription        October 2004   \n",
       "21                 Free-to-play    October 27, 2009   \n",
       "22                 Free-to-play   November 26, 2015   \n",
       "23  Subscription/pay-to-play[c]   November 23, 2004   \n",
       "24                 Free-to-play    December 2, 2010   \n",
       "25                 Free-to-play       November 2008   \n",
       "26                 Free-to-play   November 25, 2004   \n",
       "27                 Free-to-play      August 9, 2011   \n",
       "28                 Free-to-play                2007   \n",
       "29                 Free-to-play       July 29, 2015   \n",
       "30                 Free-to-play      March 11, 2014   \n",
       "\n",
       "                   Publisher(s)    Ref.  \n",
       "0           Smilegate / Tencent     [1]  \n",
       "1               Nexon / Tencent     [2]  \n",
       "2   PUBG Corporation / Bluehole     [3]  \n",
       "3                Namco / Google  [4][5]  \n",
       "4                       Tencent     [7]  \n",
       "5                          King     [8]  \n",
       "6                       Various     [9]  \n",
       "7                        Mojang    [10]  \n",
       "8                     Microsoft    [11]  \n",
       "9                       Miniwan    [12]  \n",
       "10                        Nexon     [2]  \n",
       "11                   Epic Games    [13]  \n",
       "12                      NetEase    [14]  \n",
       "13                        Jagex    [15]  \n",
       "14                      NetEase    [16]  \n",
       "15                        Nexon    [17]  \n",
       "16                        Nexon     [2]  \n",
       "17           Roblox Corporation    [18]  \n",
       "18                    Wildworks    [19]  \n",
       "19                    Wargaming    [20]  \n",
       "20         WeMade Entertainment    [21]  \n",
       "21                   Riot Games    [22]  \n",
       "22                      Tencent    [23]  \n",
       "23       Blizzard Entertainment    [24]  \n",
       "24                        Zynga    [25]  \n",
       "25                    5 Minutes    [26]  \n",
       "26                     KRG Soft    [27]  \n",
       "27              Electronic Arts    [25]  \n",
       "28              Zhengtu Network    [28]  \n",
       "29                    Microsoft    [29]  \n",
       "30       Blizzard Entertainment    [30]  "
      ]
     },
     "execution_count": 14,
     "metadata": {},
     "output_type": "execute_result"
    }
   ],
   "source": [
    "players_df.values[0,1]=1000\n",
    "players_df"
   ]
  },
  {
   "cell_type": "markdown",
   "metadata": {},
   "source": [
    "Now we are ready to plot."
   ]
  },
  {
   "cell_type": "code",
   "execution_count": 15,
   "metadata": {},
   "outputs": [
    {
     "data": {
      "application/vnd.plotly.v1+json": {
       "config": {
        "linkText": "Export to plot.ly",
        "plotlyServerURL": "https://plot.ly",
        "showLink": true
       },
       "data": [
        {
         "labels": [
          "CrossFire",
          "Dungeon Fighter Online (DFO)",
          "PlayerUnknown's Battlegrounds (PUBG)",
          "Pac-Man Doodle",
          "QQ Speed",
          "Candy Crush Saga",
          "Tetris",
          "Minecraft",
          "Microsoft Solitaire",
          "Mini World",
          "Crazyracing Kartrider",
          "Fortnite",
          "Fantasy Westward Journey",
          "RuneScape",
          "Rules of Survival",
          "Dragon Nest",
          "MapleStory",
          "Roblox",
          "Animal Jam",
          "World of Tanks",
          "The Legend of Mir 3",
          "League of Legends",
          "Honor of Kings",
          "World of Warcraft",
          "CityVille",
          "Happy Farm",
          "Scions of Fate",
          "The Sims Social",
          "Zhengtu",
          "Microsoft Solitaire Collection",
          "Hearthstone"
         ],
         "marker": {
          "colors": [
           "rgba(255, 153, 51, 1.0)",
           "rgba(55, 128, 191, 1.0)",
           "rgba(50, 171, 96, 1.0)",
           "rgba(128, 0, 128, 1.0)",
           "rgba(219, 64, 82, 1.0)",
           "rgba(0, 128, 128, 1.0)",
           "rgba(255, 255, 51, 1.0)",
           "rgba(128, 128, 0, 1.0)",
           "rgba(251, 128, 114, 1.0)",
           "rgba(128, 177, 211, 1.0)",
           "rgba(128, 177, 211, 0.8999999999999999)",
           "rgba(255, 153, 51, 0.8999999999999999)",
           "rgba(55, 128, 191, 0.8999999999999999)",
           "rgba(50, 171, 96, 0.8999999999999999)",
           "rgba(128, 0, 128, 0.8999999999999999)",
           "rgba(219, 64, 82, 0.8999999999999999)",
           "rgba(0, 128, 128, 0.8999999999999999)",
           "rgba(255, 255, 51, 0.8999999999999999)",
           "rgba(128, 128, 0, 0.8999999999999999)",
           "rgba(251, 128, 114, 0.8999999999999999)",
           "rgba(251, 128, 114, 0.7999999999999998)",
           "rgba(128, 177, 211, 0.7999999999999998)",
           "rgba(255, 153, 51, 0.7999999999999998)",
           "rgba(55, 128, 191, 0.7999999999999998)",
           "rgba(50, 171, 96, 0.7999999999999998)",
           "rgba(128, 0, 128, 0.7999999999999998)",
           "rgba(219, 64, 82, 0.7999999999999998)",
           "rgba(0, 128, 128, 0.7999999999999998)",
           "rgba(255, 255, 51, 0.7999999999999998)",
           "rgba(128, 128, 0, 0.7999999999999998)",
           "rgba(128, 128, 0, 0.7)"
          ]
         },
         "name": "",
         "type": "pie",
         "values": [
          1000,
          "700",
          "600",
          "505",
          "500",
          "500",
          "500",
          "480",
          "400",
          "400",
          "380",
          "350",
          "310",
          "280",
          "230",
          "200",
          "180",
          "164",
          "160",
          "160",
          "120",
          "111",
          "100",
          "100",
          "100",
          "100",
          "100",
          "100",
          "100",
          "100",
          "100"
         ]
        }
       ],
       "layout": {
        "legend": {
         "bgcolor": "#F5F6F9",
         "font": {
          "color": "#4D5663"
         }
        },
        "paper_bgcolor": "#F5F6F9",
        "plot_bgcolor": "#F5F6F9",
        "title": "Popularity by Number of Players",
        "titlefont": {
         "color": "#4D5663"
        }
       }
      },
      "text/html": [
       "<div>                            <div id=\"92de3497-8f52-4bfe-b8bf-c381832eb05c\" class=\"plotly-graph-div\" style=\"height:525px; width:100%;\"></div>            <script type=\"text/javascript\">                require([\"plotly\"], function(Plotly) {                    window.PLOTLYENV=window.PLOTLYENV || {};\n",
       "                    window.PLOTLYENV.BASE_URL='https://plot.ly';                                    if (document.getElementById(\"92de3497-8f52-4bfe-b8bf-c381832eb05c\")) {                    Plotly.newPlot(                        \"92de3497-8f52-4bfe-b8bf-c381832eb05c\",                        [{\"labels\": [\"CrossFire\", \"Dungeon Fighter Online\\u00a0(DFO)\", \"PlayerUnknown's Battlegrounds\\u00a0(PUBG)\", \"Pac-Man Doodle\", \"QQ Speed\", \"Candy Crush Saga\", \"Tetris\", \"Minecraft\", \"Microsoft Solitaire\", \"Mini World\", \"Crazyracing Kartrider\", \"Fortnite\", \"Fantasy Westward Journey\", \"RuneScape\", \"Rules of Survival\", \"Dragon Nest\", \"MapleStory\", \"Roblox\", \"Animal Jam\", \"World of Tanks\", \"The Legend of Mir 3\", \"League of Legends\", \"Honor of Kings\", \"World of Warcraft\", \"CityVille\", \"Happy Farm\", \"Scions of Fate\", \"The Sims Social\", \"Zhengtu\", \"Microsoft Solitaire Collection\", \"Hearthstone\"], \"marker\": {\"colors\": [\"rgba(255, 153, 51, 1.0)\", \"rgba(55, 128, 191, 1.0)\", \"rgba(50, 171, 96, 1.0)\", \"rgba(128, 0, 128, 1.0)\", \"rgba(219, 64, 82, 1.0)\", \"rgba(0, 128, 128, 1.0)\", \"rgba(255, 255, 51, 1.0)\", \"rgba(128, 128, 0, 1.0)\", \"rgba(251, 128, 114, 1.0)\", \"rgba(128, 177, 211, 1.0)\", \"rgba(128, 177, 211, 0.8999999999999999)\", \"rgba(255, 153, 51, 0.8999999999999999)\", \"rgba(55, 128, 191, 0.8999999999999999)\", \"rgba(50, 171, 96, 0.8999999999999999)\", \"rgba(128, 0, 128, 0.8999999999999999)\", \"rgba(219, 64, 82, 0.8999999999999999)\", \"rgba(0, 128, 128, 0.8999999999999999)\", \"rgba(255, 255, 51, 0.8999999999999999)\", \"rgba(128, 128, 0, 0.8999999999999999)\", \"rgba(251, 128, 114, 0.8999999999999999)\", \"rgba(251, 128, 114, 0.7999999999999998)\", \"rgba(128, 177, 211, 0.7999999999999998)\", \"rgba(255, 153, 51, 0.7999999999999998)\", \"rgba(55, 128, 191, 0.7999999999999998)\", \"rgba(50, 171, 96, 0.7999999999999998)\", \"rgba(128, 0, 128, 0.7999999999999998)\", \"rgba(219, 64, 82, 0.7999999999999998)\", \"rgba(0, 128, 128, 0.7999999999999998)\", \"rgba(255, 255, 51, 0.7999999999999998)\", \"rgba(128, 128, 0, 0.7999999999999998)\", \"rgba(128, 128, 0, 0.7)\"]}, \"name\": \"\", \"type\": \"pie\", \"values\": [1000, \"700\", \"600\", \"505\", \"500\", \"500\", \"500\", \"480\", \"400\", \"400\", \"380\", \"350\", \"310\", \"280\", \"230\", \"200\", \"180\", \"164\", \"160\", \"160\", \"120\", \"111\", \"100\", \"100\", \"100\", \"100\", \"100\", \"100\", \"100\", \"100\", \"100\"]}],                        {\"legend\": {\"bgcolor\": \"#F5F6F9\", \"font\": {\"color\": \"#4D5663\"}}, \"paper_bgcolor\": \"#F5F6F9\", \"plot_bgcolor\": \"#F5F6F9\", \"title\": \"Popularity by Number of Players\", \"titlefont\": {\"color\": \"#4D5663\"}},                        {\"showLink\": true, \"linkText\": \"Export to plot.ly\", \"plotlyServerURL\": \"https://plot.ly\", \"responsive\": true}                    ).then(function(){\n",
       "                            \n",
       "var gd = document.getElementById('92de3497-8f52-4bfe-b8bf-c381832eb05c');\n",
       "var x = new MutationObserver(function (mutations, observer) {{\n",
       "        var display = window.getComputedStyle(gd).display;\n",
       "        if (!display || display === 'none') {{\n",
       "            console.log([gd, 'removed!']);\n",
       "            Plotly.purge(gd);\n",
       "            observer.disconnect();\n",
       "        }}\n",
       "}});\n",
       "\n",
       "// Listen for the removal of the full notebook cells\n",
       "var notebookContainer = gd.closest('#notebook-container');\n",
       "if (notebookContainer) {{\n",
       "    x.observe(notebookContainer, {childList: true});\n",
       "}}\n",
       "\n",
       "// Listen for the clearing of the current output cell\n",
       "var outputEl = gd.closest('.output');\n",
       "if (outputEl) {{\n",
       "    x.observe(outputEl, {childList: true});\n",
       "}}\n",
       "\n",
       "                        })                };                });            </script>        </div>"
      ]
     },
     "metadata": {},
     "output_type": "display_data"
    }
   ],
   "source": [
    "players_df.iplot(kind='pie',labels='Game',values='Number',title='Popularity by Number of Players')"
   ]
  },
  {
   "cell_type": "markdown",
   "metadata": {},
   "source": [
    "Again, it might be more interesting to plot the top ten games only."
   ]
  },
  {
   "cell_type": "code",
   "execution_count": 16,
   "metadata": {},
   "outputs": [
    {
     "data": {
      "application/vnd.plotly.v1+json": {
       "config": {
        "linkText": "Export to plot.ly",
        "plotlyServerURL": "https://plot.ly",
        "showLink": true
       },
       "data": [
        {
         "labels": [
          "CrossFire",
          "Dungeon Fighter Online (DFO)",
          "PlayerUnknown's Battlegrounds (PUBG)",
          "Pac-Man Doodle",
          "QQ Speed",
          "Candy Crush Saga",
          "Tetris",
          "Minecraft",
          "Microsoft Solitaire",
          "Mini World"
         ],
         "marker": {
          "colors": [
           "rgba(255, 153, 51, 1.0)",
           "rgba(55, 128, 191, 1.0)",
           "rgba(50, 171, 96, 1.0)",
           "rgba(128, 0, 128, 1.0)",
           "rgba(219, 64, 82, 1.0)",
           "rgba(0, 128, 128, 1.0)",
           "rgba(255, 255, 51, 1.0)",
           "rgba(128, 128, 0, 1.0)",
           "rgba(251, 128, 114, 1.0)",
           "rgba(128, 177, 211, 1.0)"
          ]
         },
         "name": "",
         "type": "pie",
         "values": [
          1000,
          "700",
          "600",
          "505",
          "500",
          "500",
          "500",
          "480",
          "400",
          "400"
         ]
        }
       ],
       "layout": {
        "legend": {
         "bgcolor": "#F5F6F9",
         "font": {
          "color": "#4D5663"
         }
        },
        "paper_bgcolor": "#F5F6F9",
        "plot_bgcolor": "#F5F6F9",
        "title": "Popularity by Number of Players, Top Ten",
        "titlefont": {
         "color": "#4D5663"
        }
       }
      },
      "text/html": [
       "<div>                            <div id=\"676b1ee1-cf80-4c0e-993e-5844e0633f17\" class=\"plotly-graph-div\" style=\"height:525px; width:100%;\"></div>            <script type=\"text/javascript\">                require([\"plotly\"], function(Plotly) {                    window.PLOTLYENV=window.PLOTLYENV || {};\n",
       "                    window.PLOTLYENV.BASE_URL='https://plot.ly';                                    if (document.getElementById(\"676b1ee1-cf80-4c0e-993e-5844e0633f17\")) {                    Plotly.newPlot(                        \"676b1ee1-cf80-4c0e-993e-5844e0633f17\",                        [{\"labels\": [\"CrossFire\", \"Dungeon Fighter Online\\u00a0(DFO)\", \"PlayerUnknown's Battlegrounds\\u00a0(PUBG)\", \"Pac-Man Doodle\", \"QQ Speed\", \"Candy Crush Saga\", \"Tetris\", \"Minecraft\", \"Microsoft Solitaire\", \"Mini World\"], \"marker\": {\"colors\": [\"rgba(255, 153, 51, 1.0)\", \"rgba(55, 128, 191, 1.0)\", \"rgba(50, 171, 96, 1.0)\", \"rgba(128, 0, 128, 1.0)\", \"rgba(219, 64, 82, 1.0)\", \"rgba(0, 128, 128, 1.0)\", \"rgba(255, 255, 51, 1.0)\", \"rgba(128, 128, 0, 1.0)\", \"rgba(251, 128, 114, 1.0)\", \"rgba(128, 177, 211, 1.0)\"]}, \"name\": \"\", \"type\": \"pie\", \"values\": [1000, \"700\", \"600\", \"505\", \"500\", \"500\", \"500\", \"480\", \"400\", \"400\"]}],                        {\"legend\": {\"bgcolor\": \"#F5F6F9\", \"font\": {\"color\": \"#4D5663\"}}, \"paper_bgcolor\": \"#F5F6F9\", \"plot_bgcolor\": \"#F5F6F9\", \"title\": \"Popularity by Number of Players, Top Ten\", \"titlefont\": {\"color\": \"#4D5663\"}},                        {\"showLink\": true, \"linkText\": \"Export to plot.ly\", \"plotlyServerURL\": \"https://plot.ly\", \"responsive\": true}                    ).then(function(){\n",
       "                            \n",
       "var gd = document.getElementById('676b1ee1-cf80-4c0e-993e-5844e0633f17');\n",
       "var x = new MutationObserver(function (mutations, observer) {{\n",
       "        var display = window.getComputedStyle(gd).display;\n",
       "        if (!display || display === 'none') {{\n",
       "            console.log([gd, 'removed!']);\n",
       "            Plotly.purge(gd);\n",
       "            observer.disconnect();\n",
       "        }}\n",
       "}});\n",
       "\n",
       "// Listen for the removal of the full notebook cells\n",
       "var notebookContainer = gd.closest('#notebook-container');\n",
       "if (notebookContainer) {{\n",
       "    x.observe(notebookContainer, {childList: true});\n",
       "}}\n",
       "\n",
       "// Listen for the clearing of the current output cell\n",
       "var outputEl = gd.closest('.output');\n",
       "if (outputEl) {{\n",
       "    x.observe(outputEl, {childList: true});\n",
       "}}\n",
       "\n",
       "                        })                };                });            </script>        </div>"
      ]
     },
     "metadata": {},
     "output_type": "display_data"
    }
   ],
   "source": [
    "players_df[0:10].iplot(kind='pie',labels='Game',values='Number',title='Popularity by Number of Players, Top Ten')"
   ]
  },
  {
   "cell_type": "markdown",
   "metadata": {},
   "source": [
    "Maybe you prefer to see this data as a bar chart."
   ]
  },
  {
   "cell_type": "code",
   "execution_count": 17,
   "metadata": {},
   "outputs": [
    {
     "data": {
      "application/vnd.plotly.v1+json": {
       "config": {
        "linkText": "Export to plot.ly",
        "plotlyServerURL": "https://plot.ly",
        "showLink": true
       },
       "data": [
        {
         "marker": {
          "color": "rgba(255, 153, 51, 0.6)",
          "line": {
           "color": "rgba(255, 153, 51, 1.0)",
           "width": 1
          }
         },
         "name": "Number",
         "orientation": "v",
         "text": "",
         "type": "bar",
         "x": [
          "CrossFire",
          "Dungeon Fighter Online (DFO)",
          "PlayerUnknown's Battlegrounds (PUBG)",
          "Pac-Man Doodle",
          "QQ Speed",
          "Candy Crush Saga",
          "Tetris",
          "Minecraft",
          "Microsoft Solitaire",
          "Mini World"
         ],
         "y": [
          1000,
          "700",
          "600",
          "505",
          "500",
          "500",
          "500",
          "480",
          "400",
          "400"
         ]
        }
       ],
       "layout": {
        "legend": {
         "bgcolor": "#F5F6F9",
         "font": {
          "color": "#4D5663"
         }
        },
        "paper_bgcolor": "#F5F6F9",
        "plot_bgcolor": "#F5F6F9",
        "template": {
         "data": {
          "bar": [
           {
            "error_x": {
             "color": "#2a3f5f"
            },
            "error_y": {
             "color": "#2a3f5f"
            },
            "marker": {
             "line": {
              "color": "#E5ECF6",
              "width": 0.5
             }
            },
            "type": "bar"
           }
          ],
          "barpolar": [
           {
            "marker": {
             "line": {
              "color": "#E5ECF6",
              "width": 0.5
             }
            },
            "type": "barpolar"
           }
          ],
          "carpet": [
           {
            "aaxis": {
             "endlinecolor": "#2a3f5f",
             "gridcolor": "white",
             "linecolor": "white",
             "minorgridcolor": "white",
             "startlinecolor": "#2a3f5f"
            },
            "baxis": {
             "endlinecolor": "#2a3f5f",
             "gridcolor": "white",
             "linecolor": "white",
             "minorgridcolor": "white",
             "startlinecolor": "#2a3f5f"
            },
            "type": "carpet"
           }
          ],
          "choropleth": [
           {
            "colorbar": {
             "outlinewidth": 0,
             "ticks": ""
            },
            "type": "choropleth"
           }
          ],
          "contour": [
           {
            "colorbar": {
             "outlinewidth": 0,
             "ticks": ""
            },
            "colorscale": [
             [
              0,
              "#0d0887"
             ],
             [
              0.1111111111111111,
              "#46039f"
             ],
             [
              0.2222222222222222,
              "#7201a8"
             ],
             [
              0.3333333333333333,
              "#9c179e"
             ],
             [
              0.4444444444444444,
              "#bd3786"
             ],
             [
              0.5555555555555556,
              "#d8576b"
             ],
             [
              0.6666666666666666,
              "#ed7953"
             ],
             [
              0.7777777777777778,
              "#fb9f3a"
             ],
             [
              0.8888888888888888,
              "#fdca26"
             ],
             [
              1,
              "#f0f921"
             ]
            ],
            "type": "contour"
           }
          ],
          "contourcarpet": [
           {
            "colorbar": {
             "outlinewidth": 0,
             "ticks": ""
            },
            "type": "contourcarpet"
           }
          ],
          "heatmap": [
           {
            "colorbar": {
             "outlinewidth": 0,
             "ticks": ""
            },
            "colorscale": [
             [
              0,
              "#0d0887"
             ],
             [
              0.1111111111111111,
              "#46039f"
             ],
             [
              0.2222222222222222,
              "#7201a8"
             ],
             [
              0.3333333333333333,
              "#9c179e"
             ],
             [
              0.4444444444444444,
              "#bd3786"
             ],
             [
              0.5555555555555556,
              "#d8576b"
             ],
             [
              0.6666666666666666,
              "#ed7953"
             ],
             [
              0.7777777777777778,
              "#fb9f3a"
             ],
             [
              0.8888888888888888,
              "#fdca26"
             ],
             [
              1,
              "#f0f921"
             ]
            ],
            "type": "heatmap"
           }
          ],
          "heatmapgl": [
           {
            "colorbar": {
             "outlinewidth": 0,
             "ticks": ""
            },
            "colorscale": [
             [
              0,
              "#0d0887"
             ],
             [
              0.1111111111111111,
              "#46039f"
             ],
             [
              0.2222222222222222,
              "#7201a8"
             ],
             [
              0.3333333333333333,
              "#9c179e"
             ],
             [
              0.4444444444444444,
              "#bd3786"
             ],
             [
              0.5555555555555556,
              "#d8576b"
             ],
             [
              0.6666666666666666,
              "#ed7953"
             ],
             [
              0.7777777777777778,
              "#fb9f3a"
             ],
             [
              0.8888888888888888,
              "#fdca26"
             ],
             [
              1,
              "#f0f921"
             ]
            ],
            "type": "heatmapgl"
           }
          ],
          "histogram": [
           {
            "marker": {
             "colorbar": {
              "outlinewidth": 0,
              "ticks": ""
             }
            },
            "type": "histogram"
           }
          ],
          "histogram2d": [
           {
            "colorbar": {
             "outlinewidth": 0,
             "ticks": ""
            },
            "colorscale": [
             [
              0,
              "#0d0887"
             ],
             [
              0.1111111111111111,
              "#46039f"
             ],
             [
              0.2222222222222222,
              "#7201a8"
             ],
             [
              0.3333333333333333,
              "#9c179e"
             ],
             [
              0.4444444444444444,
              "#bd3786"
             ],
             [
              0.5555555555555556,
              "#d8576b"
             ],
             [
              0.6666666666666666,
              "#ed7953"
             ],
             [
              0.7777777777777778,
              "#fb9f3a"
             ],
             [
              0.8888888888888888,
              "#fdca26"
             ],
             [
              1,
              "#f0f921"
             ]
            ],
            "type": "histogram2d"
           }
          ],
          "histogram2dcontour": [
           {
            "colorbar": {
             "outlinewidth": 0,
             "ticks": ""
            },
            "colorscale": [
             [
              0,
              "#0d0887"
             ],
             [
              0.1111111111111111,
              "#46039f"
             ],
             [
              0.2222222222222222,
              "#7201a8"
             ],
             [
              0.3333333333333333,
              "#9c179e"
             ],
             [
              0.4444444444444444,
              "#bd3786"
             ],
             [
              0.5555555555555556,
              "#d8576b"
             ],
             [
              0.6666666666666666,
              "#ed7953"
             ],
             [
              0.7777777777777778,
              "#fb9f3a"
             ],
             [
              0.8888888888888888,
              "#fdca26"
             ],
             [
              1,
              "#f0f921"
             ]
            ],
            "type": "histogram2dcontour"
           }
          ],
          "mesh3d": [
           {
            "colorbar": {
             "outlinewidth": 0,
             "ticks": ""
            },
            "type": "mesh3d"
           }
          ],
          "parcoords": [
           {
            "line": {
             "colorbar": {
              "outlinewidth": 0,
              "ticks": ""
             }
            },
            "type": "parcoords"
           }
          ],
          "pie": [
           {
            "automargin": true,
            "type": "pie"
           }
          ],
          "scatter": [
           {
            "marker": {
             "colorbar": {
              "outlinewidth": 0,
              "ticks": ""
             }
            },
            "type": "scatter"
           }
          ],
          "scatter3d": [
           {
            "line": {
             "colorbar": {
              "outlinewidth": 0,
              "ticks": ""
             }
            },
            "marker": {
             "colorbar": {
              "outlinewidth": 0,
              "ticks": ""
             }
            },
            "type": "scatter3d"
           }
          ],
          "scattercarpet": [
           {
            "marker": {
             "colorbar": {
              "outlinewidth": 0,
              "ticks": ""
             }
            },
            "type": "scattercarpet"
           }
          ],
          "scattergeo": [
           {
            "marker": {
             "colorbar": {
              "outlinewidth": 0,
              "ticks": ""
             }
            },
            "type": "scattergeo"
           }
          ],
          "scattergl": [
           {
            "marker": {
             "colorbar": {
              "outlinewidth": 0,
              "ticks": ""
             }
            },
            "type": "scattergl"
           }
          ],
          "scattermapbox": [
           {
            "marker": {
             "colorbar": {
              "outlinewidth": 0,
              "ticks": ""
             }
            },
            "type": "scattermapbox"
           }
          ],
          "scatterpolar": [
           {
            "marker": {
             "colorbar": {
              "outlinewidth": 0,
              "ticks": ""
             }
            },
            "type": "scatterpolar"
           }
          ],
          "scatterpolargl": [
           {
            "marker": {
             "colorbar": {
              "outlinewidth": 0,
              "ticks": ""
             }
            },
            "type": "scatterpolargl"
           }
          ],
          "scatterternary": [
           {
            "marker": {
             "colorbar": {
              "outlinewidth": 0,
              "ticks": ""
             }
            },
            "type": "scatterternary"
           }
          ],
          "surface": [
           {
            "colorbar": {
             "outlinewidth": 0,
             "ticks": ""
            },
            "colorscale": [
             [
              0,
              "#0d0887"
             ],
             [
              0.1111111111111111,
              "#46039f"
             ],
             [
              0.2222222222222222,
              "#7201a8"
             ],
             [
              0.3333333333333333,
              "#9c179e"
             ],
             [
              0.4444444444444444,
              "#bd3786"
             ],
             [
              0.5555555555555556,
              "#d8576b"
             ],
             [
              0.6666666666666666,
              "#ed7953"
             ],
             [
              0.7777777777777778,
              "#fb9f3a"
             ],
             [
              0.8888888888888888,
              "#fdca26"
             ],
             [
              1,
              "#f0f921"
             ]
            ],
            "type": "surface"
           }
          ],
          "table": [
           {
            "cells": {
             "fill": {
              "color": "#EBF0F8"
             },
             "line": {
              "color": "white"
             }
            },
            "header": {
             "fill": {
              "color": "#C8D4E3"
             },
             "line": {
              "color": "white"
             }
            },
            "type": "table"
           }
          ]
         },
         "layout": {
          "annotationdefaults": {
           "arrowcolor": "#2a3f5f",
           "arrowhead": 0,
           "arrowwidth": 1
          },
          "coloraxis": {
           "colorbar": {
            "outlinewidth": 0,
            "ticks": ""
           }
          },
          "colorscale": {
           "diverging": [
            [
             0,
             "#8e0152"
            ],
            [
             0.1,
             "#c51b7d"
            ],
            [
             0.2,
             "#de77ae"
            ],
            [
             0.3,
             "#f1b6da"
            ],
            [
             0.4,
             "#fde0ef"
            ],
            [
             0.5,
             "#f7f7f7"
            ],
            [
             0.6,
             "#e6f5d0"
            ],
            [
             0.7,
             "#b8e186"
            ],
            [
             0.8,
             "#7fbc41"
            ],
            [
             0.9,
             "#4d9221"
            ],
            [
             1,
             "#276419"
            ]
           ],
           "sequential": [
            [
             0,
             "#0d0887"
            ],
            [
             0.1111111111111111,
             "#46039f"
            ],
            [
             0.2222222222222222,
             "#7201a8"
            ],
            [
             0.3333333333333333,
             "#9c179e"
            ],
            [
             0.4444444444444444,
             "#bd3786"
            ],
            [
             0.5555555555555556,
             "#d8576b"
            ],
            [
             0.6666666666666666,
             "#ed7953"
            ],
            [
             0.7777777777777778,
             "#fb9f3a"
            ],
            [
             0.8888888888888888,
             "#fdca26"
            ],
            [
             1,
             "#f0f921"
            ]
           ],
           "sequentialminus": [
            [
             0,
             "#0d0887"
            ],
            [
             0.1111111111111111,
             "#46039f"
            ],
            [
             0.2222222222222222,
             "#7201a8"
            ],
            [
             0.3333333333333333,
             "#9c179e"
            ],
            [
             0.4444444444444444,
             "#bd3786"
            ],
            [
             0.5555555555555556,
             "#d8576b"
            ],
            [
             0.6666666666666666,
             "#ed7953"
            ],
            [
             0.7777777777777778,
             "#fb9f3a"
            ],
            [
             0.8888888888888888,
             "#fdca26"
            ],
            [
             1,
             "#f0f921"
            ]
           ]
          },
          "colorway": [
           "#636efa",
           "#EF553B",
           "#00cc96",
           "#ab63fa",
           "#FFA15A",
           "#19d3f3",
           "#FF6692",
           "#B6E880",
           "#FF97FF",
           "#FECB52"
          ],
          "font": {
           "color": "#2a3f5f"
          },
          "geo": {
           "bgcolor": "white",
           "lakecolor": "white",
           "landcolor": "#E5ECF6",
           "showlakes": true,
           "showland": true,
           "subunitcolor": "white"
          },
          "hoverlabel": {
           "align": "left"
          },
          "hovermode": "closest",
          "mapbox": {
           "style": "light"
          },
          "paper_bgcolor": "white",
          "plot_bgcolor": "#E5ECF6",
          "polar": {
           "angularaxis": {
            "gridcolor": "white",
            "linecolor": "white",
            "ticks": ""
           },
           "bgcolor": "#E5ECF6",
           "radialaxis": {
            "gridcolor": "white",
            "linecolor": "white",
            "ticks": ""
           }
          },
          "scene": {
           "xaxis": {
            "backgroundcolor": "#E5ECF6",
            "gridcolor": "white",
            "gridwidth": 2,
            "linecolor": "white",
            "showbackground": true,
            "ticks": "",
            "zerolinecolor": "white"
           },
           "yaxis": {
            "backgroundcolor": "#E5ECF6",
            "gridcolor": "white",
            "gridwidth": 2,
            "linecolor": "white",
            "showbackground": true,
            "ticks": "",
            "zerolinecolor": "white"
           },
           "zaxis": {
            "backgroundcolor": "#E5ECF6",
            "gridcolor": "white",
            "gridwidth": 2,
            "linecolor": "white",
            "showbackground": true,
            "ticks": "",
            "zerolinecolor": "white"
           }
          },
          "shapedefaults": {
           "line": {
            "color": "#2a3f5f"
           }
          },
          "ternary": {
           "aaxis": {
            "gridcolor": "white",
            "linecolor": "white",
            "ticks": ""
           },
           "baxis": {
            "gridcolor": "white",
            "linecolor": "white",
            "ticks": ""
           },
           "bgcolor": "#E5ECF6",
           "caxis": {
            "gridcolor": "white",
            "linecolor": "white",
            "ticks": ""
           }
          },
          "title": {
           "x": 0.05
          },
          "xaxis": {
           "automargin": true,
           "gridcolor": "white",
           "linecolor": "white",
           "ticks": "",
           "title": {
            "standoff": 15
           },
           "zerolinecolor": "white",
           "zerolinewidth": 2
          },
          "yaxis": {
           "automargin": true,
           "gridcolor": "white",
           "linecolor": "white",
           "ticks": "",
           "title": {
            "standoff": 15
           },
           "zerolinecolor": "white",
           "zerolinewidth": 2
          }
         }
        },
        "title": {
         "font": {
          "color": "#4D5663"
         },
         "text": "Popularity by Number of Players, Top Ten"
        },
        "xaxis": {
         "gridcolor": "#E1E5ED",
         "showgrid": true,
         "tickfont": {
          "color": "#4D5663"
         },
         "title": {
          "font": {
           "color": "#4D5663"
          },
          "text": ""
         },
         "zerolinecolor": "#E1E5ED"
        },
        "yaxis": {
         "gridcolor": "#E1E5ED",
         "showgrid": true,
         "tickfont": {
          "color": "#4D5663"
         },
         "title": {
          "font": {
           "color": "#4D5663"
          },
          "text": ""
         },
         "zerolinecolor": "#E1E5ED"
        }
       }
      },
      "text/html": [
       "<div>                            <div id=\"61da3cbd-d126-43f5-84cd-09af3dd5e934\" class=\"plotly-graph-div\" style=\"height:525px; width:100%;\"></div>            <script type=\"text/javascript\">                require([\"plotly\"], function(Plotly) {                    window.PLOTLYENV=window.PLOTLYENV || {};\n",
       "                    window.PLOTLYENV.BASE_URL='https://plot.ly';                                    if (document.getElementById(\"61da3cbd-d126-43f5-84cd-09af3dd5e934\")) {                    Plotly.newPlot(                        \"61da3cbd-d126-43f5-84cd-09af3dd5e934\",                        [{\"marker\": {\"color\": \"rgba(255, 153, 51, 0.6)\", \"line\": {\"color\": \"rgba(255, 153, 51, 1.0)\", \"width\": 1}}, \"name\": \"Number\", \"orientation\": \"v\", \"text\": \"\", \"type\": \"bar\", \"x\": [\"CrossFire\", \"Dungeon Fighter Online\\u00a0(DFO)\", \"PlayerUnknown's Battlegrounds\\u00a0(PUBG)\", \"Pac-Man Doodle\", \"QQ Speed\", \"Candy Crush Saga\", \"Tetris\", \"Minecraft\", \"Microsoft Solitaire\", \"Mini World\"], \"y\": [1000, \"700\", \"600\", \"505\", \"500\", \"500\", \"500\", \"480\", \"400\", \"400\"]}],                        {\"legend\": {\"bgcolor\": \"#F5F6F9\", \"font\": {\"color\": \"#4D5663\"}}, \"paper_bgcolor\": \"#F5F6F9\", \"plot_bgcolor\": \"#F5F6F9\", \"template\": {\"data\": {\"bar\": [{\"error_x\": {\"color\": \"#2a3f5f\"}, \"error_y\": {\"color\": \"#2a3f5f\"}, \"marker\": {\"line\": {\"color\": \"#E5ECF6\", \"width\": 0.5}}, \"type\": \"bar\"}], \"barpolar\": [{\"marker\": {\"line\": {\"color\": \"#E5ECF6\", \"width\": 0.5}}, \"type\": \"barpolar\"}], \"carpet\": [{\"aaxis\": {\"endlinecolor\": \"#2a3f5f\", \"gridcolor\": \"white\", \"linecolor\": \"white\", \"minorgridcolor\": \"white\", \"startlinecolor\": \"#2a3f5f\"}, \"baxis\": {\"endlinecolor\": \"#2a3f5f\", \"gridcolor\": \"white\", \"linecolor\": \"white\", \"minorgridcolor\": \"white\", \"startlinecolor\": \"#2a3f5f\"}, \"type\": \"carpet\"}], \"choropleth\": [{\"colorbar\": {\"outlinewidth\": 0, \"ticks\": \"\"}, \"type\": \"choropleth\"}], \"contour\": [{\"colorbar\": {\"outlinewidth\": 0, \"ticks\": \"\"}, \"colorscale\": [[0.0, \"#0d0887\"], [0.1111111111111111, \"#46039f\"], [0.2222222222222222, \"#7201a8\"], [0.3333333333333333, \"#9c179e\"], [0.4444444444444444, \"#bd3786\"], [0.5555555555555556, \"#d8576b\"], [0.6666666666666666, \"#ed7953\"], [0.7777777777777778, \"#fb9f3a\"], [0.8888888888888888, \"#fdca26\"], [1.0, \"#f0f921\"]], \"type\": \"contour\"}], \"contourcarpet\": [{\"colorbar\": {\"outlinewidth\": 0, \"ticks\": \"\"}, \"type\": \"contourcarpet\"}], \"heatmap\": [{\"colorbar\": {\"outlinewidth\": 0, \"ticks\": \"\"}, \"colorscale\": [[0.0, \"#0d0887\"], [0.1111111111111111, \"#46039f\"], [0.2222222222222222, \"#7201a8\"], [0.3333333333333333, \"#9c179e\"], [0.4444444444444444, \"#bd3786\"], [0.5555555555555556, \"#d8576b\"], [0.6666666666666666, \"#ed7953\"], [0.7777777777777778, \"#fb9f3a\"], [0.8888888888888888, \"#fdca26\"], [1.0, \"#f0f921\"]], \"type\": \"heatmap\"}], \"heatmapgl\": [{\"colorbar\": {\"outlinewidth\": 0, \"ticks\": \"\"}, \"colorscale\": [[0.0, \"#0d0887\"], [0.1111111111111111, \"#46039f\"], [0.2222222222222222, \"#7201a8\"], [0.3333333333333333, \"#9c179e\"], [0.4444444444444444, \"#bd3786\"], [0.5555555555555556, \"#d8576b\"], [0.6666666666666666, \"#ed7953\"], [0.7777777777777778, \"#fb9f3a\"], [0.8888888888888888, \"#fdca26\"], [1.0, \"#f0f921\"]], \"type\": \"heatmapgl\"}], \"histogram\": [{\"marker\": {\"colorbar\": {\"outlinewidth\": 0, \"ticks\": \"\"}}, \"type\": \"histogram\"}], \"histogram2d\": [{\"colorbar\": {\"outlinewidth\": 0, \"ticks\": \"\"}, \"colorscale\": [[0.0, \"#0d0887\"], [0.1111111111111111, \"#46039f\"], [0.2222222222222222, \"#7201a8\"], [0.3333333333333333, \"#9c179e\"], [0.4444444444444444, \"#bd3786\"], [0.5555555555555556, \"#d8576b\"], [0.6666666666666666, \"#ed7953\"], [0.7777777777777778, \"#fb9f3a\"], [0.8888888888888888, \"#fdca26\"], [1.0, \"#f0f921\"]], \"type\": \"histogram2d\"}], \"histogram2dcontour\": [{\"colorbar\": {\"outlinewidth\": 0, \"ticks\": \"\"}, \"colorscale\": [[0.0, \"#0d0887\"], [0.1111111111111111, \"#46039f\"], [0.2222222222222222, \"#7201a8\"], [0.3333333333333333, \"#9c179e\"], [0.4444444444444444, \"#bd3786\"], [0.5555555555555556, \"#d8576b\"], [0.6666666666666666, \"#ed7953\"], [0.7777777777777778, \"#fb9f3a\"], [0.8888888888888888, \"#fdca26\"], [1.0, \"#f0f921\"]], \"type\": \"histogram2dcontour\"}], \"mesh3d\": [{\"colorbar\": {\"outlinewidth\": 0, \"ticks\": \"\"}, \"type\": \"mesh3d\"}], \"parcoords\": [{\"line\": {\"colorbar\": {\"outlinewidth\": 0, \"ticks\": \"\"}}, \"type\": \"parcoords\"}], \"pie\": [{\"automargin\": true, \"type\": \"pie\"}], \"scatter\": [{\"marker\": {\"colorbar\": {\"outlinewidth\": 0, \"ticks\": \"\"}}, \"type\": \"scatter\"}], \"scatter3d\": [{\"line\": {\"colorbar\": {\"outlinewidth\": 0, \"ticks\": \"\"}}, \"marker\": {\"colorbar\": {\"outlinewidth\": 0, \"ticks\": \"\"}}, \"type\": \"scatter3d\"}], \"scattercarpet\": [{\"marker\": {\"colorbar\": {\"outlinewidth\": 0, \"ticks\": \"\"}}, \"type\": \"scattercarpet\"}], \"scattergeo\": [{\"marker\": {\"colorbar\": {\"outlinewidth\": 0, \"ticks\": \"\"}}, \"type\": \"scattergeo\"}], \"scattergl\": [{\"marker\": {\"colorbar\": {\"outlinewidth\": 0, \"ticks\": \"\"}}, \"type\": \"scattergl\"}], \"scattermapbox\": [{\"marker\": {\"colorbar\": {\"outlinewidth\": 0, \"ticks\": \"\"}}, \"type\": \"scattermapbox\"}], \"scatterpolar\": [{\"marker\": {\"colorbar\": {\"outlinewidth\": 0, \"ticks\": \"\"}}, \"type\": \"scatterpolar\"}], \"scatterpolargl\": [{\"marker\": {\"colorbar\": {\"outlinewidth\": 0, \"ticks\": \"\"}}, \"type\": \"scatterpolargl\"}], \"scatterternary\": [{\"marker\": {\"colorbar\": {\"outlinewidth\": 0, \"ticks\": \"\"}}, \"type\": \"scatterternary\"}], \"surface\": [{\"colorbar\": {\"outlinewidth\": 0, \"ticks\": \"\"}, \"colorscale\": [[0.0, \"#0d0887\"], [0.1111111111111111, \"#46039f\"], [0.2222222222222222, \"#7201a8\"], [0.3333333333333333, \"#9c179e\"], [0.4444444444444444, \"#bd3786\"], [0.5555555555555556, \"#d8576b\"], [0.6666666666666666, \"#ed7953\"], [0.7777777777777778, \"#fb9f3a\"], [0.8888888888888888, \"#fdca26\"], [1.0, \"#f0f921\"]], \"type\": \"surface\"}], \"table\": [{\"cells\": {\"fill\": {\"color\": \"#EBF0F8\"}, \"line\": {\"color\": \"white\"}}, \"header\": {\"fill\": {\"color\": \"#C8D4E3\"}, \"line\": {\"color\": \"white\"}}, \"type\": \"table\"}]}, \"layout\": {\"annotationdefaults\": {\"arrowcolor\": \"#2a3f5f\", \"arrowhead\": 0, \"arrowwidth\": 1}, \"coloraxis\": {\"colorbar\": {\"outlinewidth\": 0, \"ticks\": \"\"}}, \"colorscale\": {\"diverging\": [[0, \"#8e0152\"], [0.1, \"#c51b7d\"], [0.2, \"#de77ae\"], [0.3, \"#f1b6da\"], [0.4, \"#fde0ef\"], [0.5, \"#f7f7f7\"], [0.6, \"#e6f5d0\"], [0.7, \"#b8e186\"], [0.8, \"#7fbc41\"], [0.9, \"#4d9221\"], [1, \"#276419\"]], \"sequential\": [[0.0, \"#0d0887\"], [0.1111111111111111, \"#46039f\"], [0.2222222222222222, \"#7201a8\"], [0.3333333333333333, \"#9c179e\"], [0.4444444444444444, \"#bd3786\"], [0.5555555555555556, \"#d8576b\"], [0.6666666666666666, \"#ed7953\"], [0.7777777777777778, \"#fb9f3a\"], [0.8888888888888888, \"#fdca26\"], [1.0, \"#f0f921\"]], \"sequentialminus\": [[0.0, \"#0d0887\"], [0.1111111111111111, \"#46039f\"], [0.2222222222222222, \"#7201a8\"], [0.3333333333333333, \"#9c179e\"], [0.4444444444444444, \"#bd3786\"], [0.5555555555555556, \"#d8576b\"], [0.6666666666666666, \"#ed7953\"], [0.7777777777777778, \"#fb9f3a\"], [0.8888888888888888, \"#fdca26\"], [1.0, \"#f0f921\"]]}, \"colorway\": [\"#636efa\", \"#EF553B\", \"#00cc96\", \"#ab63fa\", \"#FFA15A\", \"#19d3f3\", \"#FF6692\", \"#B6E880\", \"#FF97FF\", \"#FECB52\"], \"font\": {\"color\": \"#2a3f5f\"}, \"geo\": {\"bgcolor\": \"white\", \"lakecolor\": \"white\", \"landcolor\": \"#E5ECF6\", \"showlakes\": true, \"showland\": true, \"subunitcolor\": \"white\"}, \"hoverlabel\": {\"align\": \"left\"}, \"hovermode\": \"closest\", \"mapbox\": {\"style\": \"light\"}, \"paper_bgcolor\": \"white\", \"plot_bgcolor\": \"#E5ECF6\", \"polar\": {\"angularaxis\": {\"gridcolor\": \"white\", \"linecolor\": \"white\", \"ticks\": \"\"}, \"bgcolor\": \"#E5ECF6\", \"radialaxis\": {\"gridcolor\": \"white\", \"linecolor\": \"white\", \"ticks\": \"\"}}, \"scene\": {\"xaxis\": {\"backgroundcolor\": \"#E5ECF6\", \"gridcolor\": \"white\", \"gridwidth\": 2, \"linecolor\": \"white\", \"showbackground\": true, \"ticks\": \"\", \"zerolinecolor\": \"white\"}, \"yaxis\": {\"backgroundcolor\": \"#E5ECF6\", \"gridcolor\": \"white\", \"gridwidth\": 2, \"linecolor\": \"white\", \"showbackground\": true, \"ticks\": \"\", \"zerolinecolor\": \"white\"}, \"zaxis\": {\"backgroundcolor\": \"#E5ECF6\", \"gridcolor\": \"white\", \"gridwidth\": 2, \"linecolor\": \"white\", \"showbackground\": true, \"ticks\": \"\", \"zerolinecolor\": \"white\"}}, \"shapedefaults\": {\"line\": {\"color\": \"#2a3f5f\"}}, \"ternary\": {\"aaxis\": {\"gridcolor\": \"white\", \"linecolor\": \"white\", \"ticks\": \"\"}, \"baxis\": {\"gridcolor\": \"white\", \"linecolor\": \"white\", \"ticks\": \"\"}, \"bgcolor\": \"#E5ECF6\", \"caxis\": {\"gridcolor\": \"white\", \"linecolor\": \"white\", \"ticks\": \"\"}}, \"title\": {\"x\": 0.05}, \"xaxis\": {\"automargin\": true, \"gridcolor\": \"white\", \"linecolor\": \"white\", \"ticks\": \"\", \"title\": {\"standoff\": 15}, \"zerolinecolor\": \"white\", \"zerolinewidth\": 2}, \"yaxis\": {\"automargin\": true, \"gridcolor\": \"white\", \"linecolor\": \"white\", \"ticks\": \"\", \"title\": {\"standoff\": 15}, \"zerolinecolor\": \"white\", \"zerolinewidth\": 2}}}, \"title\": {\"font\": {\"color\": \"#4D5663\"}, \"text\": \"Popularity by Number of Players, Top Ten\"}, \"xaxis\": {\"gridcolor\": \"#E1E5ED\", \"showgrid\": true, \"tickfont\": {\"color\": \"#4D5663\"}, \"title\": {\"font\": {\"color\": \"#4D5663\"}, \"text\": \"\"}, \"zerolinecolor\": \"#E1E5ED\"}, \"yaxis\": {\"gridcolor\": \"#E1E5ED\", \"showgrid\": true, \"tickfont\": {\"color\": \"#4D5663\"}, \"title\": {\"font\": {\"color\": \"#4D5663\"}, \"text\": \"\"}, \"zerolinecolor\": \"#E1E5ED\"}},                        {\"showLink\": true, \"linkText\": \"Export to plot.ly\", \"plotlyServerURL\": \"https://plot.ly\", \"responsive\": true}                    ).then(function(){\n",
       "                            \n",
       "var gd = document.getElementById('61da3cbd-d126-43f5-84cd-09af3dd5e934');\n",
       "var x = new MutationObserver(function (mutations, observer) {{\n",
       "        var display = window.getComputedStyle(gd).display;\n",
       "        if (!display || display === 'none') {{\n",
       "            console.log([gd, 'removed!']);\n",
       "            Plotly.purge(gd);\n",
       "            observer.disconnect();\n",
       "        }}\n",
       "}});\n",
       "\n",
       "// Listen for the removal of the full notebook cells\n",
       "var notebookContainer = gd.closest('#notebook-container');\n",
       "if (notebookContainer) {{\n",
       "    x.observe(notebookContainer, {childList: true});\n",
       "}}\n",
       "\n",
       "// Listen for the clearing of the current output cell\n",
       "var outputEl = gd.closest('.output');\n",
       "if (outputEl) {{\n",
       "    x.observe(outputEl, {childList: true});\n",
       "}}\n",
       "\n",
       "                        })                };                });            </script>        </div>"
      ]
     },
     "metadata": {},
     "output_type": "display_data"
    }
   ],
   "source": [
    "players_df.index = players_df['Game']\n",
    "players_df[0:10]['Number'].iplot(kind='bar',title='Popularity by Number of Players, Top Ten')"
   ]
  },
  {
   "cell_type": "markdown",
   "metadata": {},
   "source": [
    "## 5. Interpret\n",
    "\n",
    "Below we will discuss the results of the data exploration. Here are a few key questions to ask when interpreting the results from data analysis to answer our question. These questions help you think critically about the information you see.\n",
    "\n",
    "- Where did the data come from? How was the data gathered? \n",
    "- If you’re using more than one data source, how are the sources similar? \n",
    "- Describe what’s happening in the data visualization (graph). What do you notice (e.g. big or small values, or trends)? \n",
    "- How does our key evidence help answer our question?"
   ]
  },
  {
   "cell_type": "markdown",
   "metadata": {},
   "source": [
    "*Markdown cell, add interpretation here* Lorem ipsum ….\n"
   ]
  },
  {
   "cell_type": "markdown",
   "metadata": {},
   "source": [
    "## 6. Communicate\n",
    "\n",
    "Below we will reflect on the new information that is presented from the data. When we look at the evidence, think about what you perceive about the information. Is this perception based on what the evidence shows? If others were to view it, what perceptions might they have? These writing prompts can help you reflect.\n",
    "\n",
    "- I used to think ____________________but now I know____________________. \n",
    "- I wish I knew more about ____________________. \n",
    "- This visualization reminds me of ____________________. \n",
    "- I really like ____________________."
   ]
  },
  {
   "cell_type": "markdown",
   "metadata": {},
   "source": [
    "*Markdown cell, add reflections here* Lorem ipsum …."
   ]
  },
  {
   "cell_type": "markdown",
   "metadata": {},
   "source": [
    "[![Callysto.ca License](https://github.com/callysto/curriculum-notebooks/blob/master/callysto-notebook-banner-bottom.jpg?raw=true)](https://github.com/callysto/curriculum-notebooks/blob/master/LICENSE.md)"
   ]
  }
 ],
 "metadata": {
  "kernelspec": {
   "display_name": "Python 3",
   "language": "python",
   "name": "python3"
  },
  "language_info": {
   "codemirror_mode": {
    "name": "ipython",
    "version": 3
   },
   "file_extension": ".py",
   "mimetype": "text/x-python",
   "name": "python",
   "nbconvert_exporter": "python",
   "pygments_lexer": "ipython3",
   "version": "3.8.6"
  }
 },
 "nbformat": 4,
 "nbformat_minor": 4
}
