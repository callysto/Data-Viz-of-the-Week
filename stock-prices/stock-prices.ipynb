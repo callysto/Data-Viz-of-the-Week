{
 "cells": [
  {
   "cell_type": "markdown",
   "metadata": {},
   "source": [
    "![Callysto.ca Banner](https://github.com/callysto/curriculum-notebooks/blob/master/callysto-notebook-banner-top.jpg?raw=true)\n",
    "\n",
    "<a href=\"https://hub.callysto.ca/jupyter/hub/user-redirect/git-pull?repo=https%3A%2F%2Fgithub.com%2Fcallysto%2Fdata-viz-of-the-week&branch=main&subPath=stock-prices/stock-prices.ipynb&depth=1\" target=\"_parent\"><img src=\"https://raw.githubusercontent.com/callysto/curriculum-notebooks/master/open-in-callysto-button.svg?sanitize=true\" width=\"123\" height=\"24\" alt=\"Open in Callysto\"/></a>"
   ]
  },
  {
   "cell_type": "markdown",
   "metadata": {},
   "source": [
    "# Callysto’s Weekly Data Visualization\n",
    "\n",
    "## Stock Prices\n",
    "\n",
    "### Recommended Grade levels: \n",
    "<br>"
   ]
  },
  {
   "cell_type": "markdown",
   "metadata": {},
   "source": [
    "### Instructions\n",
    "\n",
    "Click \"Cell\" and select \"Run All\".\n",
    "\n",
    "This will import the data and run all the code, so you can see this week's data visualization. Scroll back to the top after you’ve run the cells.\n",
    "\n",
    "![instructions](https://github.com/callysto/data-viz-of-the-week/blob/main/images/instructions.png?raw=true)\n",
    "\n",
    "**You don't need to do any coding to view the visualizations**.\n",
    "\n",
    "The plots generated in this notebook are interactive. You can hover over and click on elements to see more information. \n",
    "\n",
    "Email contact@callysto.ca if you experience issues."
   ]
  },
  {
   "cell_type": "markdown",
   "metadata": {},
   "source": [
    "### About this Notebook\n",
    "\n",
    "Callysto's Weekly Data Visualization is a learning resource that aims to develop data literacy skills. We provide Grades 5-12 teachers and students with a data visualization, like a graph, to interpret. This companion resource walks learners through how the data visualization is created and interpreted by a data scientist. \n",
    "\n",
    "The steps of the data analysis process are listed below and applied to each weekly topic.\n",
    "\n",
    "1. Question - What are we trying to answer?\n",
    "2. Gather - Find the data source(s) you will need. \n",
    "3. Organize - Arrange the data, so that you can easily explore it. \n",
    "4. Explore - Examine the data to look for evidence to answer the question. This includes creating visualizations. \n",
    "5. Interpret - Describe what's happening in the data visualization. \n",
    "6. Communicate - Explain how the evidence answers the question. "
   ]
  },
  {
   "cell_type": "markdown",
   "metadata": {},
   "source": [
    "## Question\n",
    "\n",
    "How can we compare and visualize trends in stock prices to make informed financial decision alongside using machine learning to leverage historical data for predictive analysis."
   ]
  },
  {
   "cell_type": "markdown",
   "metadata": {},
   "source": [
    "### Goal\n",
    "\n",
    "Our objective is to introduce the concept of stocks, emphasizing the benefits of adopting a positive mentality and mindset for investing. We will also be using machine-learning to see if we can create models that would be useful in predicting prices."
   ]
  },
  {
   "cell_type": "markdown",
   "metadata": {},
   "source": [
    "### Background\n",
    "\n",
    "Understanding financial literacy in the form of stocks at a young age cultivates a foundation for long-term financial stability, promoting individuals to make informed decisions, foster savings habits, and capitalize on the compounding benefits of early investments."
   ]
  },
  {
   "cell_type": "markdown",
   "metadata": {},
   "source": [
    "## Gather\n",
    "\n",
    "Stock prices in this notebook are obtained using the Python library [yfinance](https://pypi.org/project/yfinance/) and stock symbols and names are obtained from the [Nasdaq](https://www.nasdaq.com/market-activity/stocks/screener)."
   ]
  },
  {
   "cell_type": "markdown",
   "metadata": {},
   "source": [
    "### **Disclaimer**\n",
    "\n",
    "This notebook is **strictly** for educational and informational purposes and does not constitute financial advice, recommendation, or endorsement. The content presented here is not intended to influence any investment decisions, and readers are strongly advised to seek independent financial advice and conduct their own research before making any investment choices. The authors and contributors of this notebook shall not be held responsible for any financial losses or decisions made based on the information provided."
   ]
  },
  {
   "cell_type": "markdown",
   "metadata": {},
   "source": [
    "### Code: \n",
    "\n",
    "Run the code cells below to import the libraries we need for this project. Libraries are pre-made code that make it easier to analyze our data."
   ]
  },
  {
   "cell_type": "code",
   "execution_count": null,
   "metadata": {},
   "outputs": [],
   "source": [
    "import plotly.express as px\n",
    "from plotly.subplots import make_subplots\n",
    "import pandas as pd\n",
    "import ipywidgets\n",
    "\n",
    "from sklearn.ensemble import RandomForestClassifier\n",
    "from sklearn.metrics import precision_score\n",
    "from sklearn.impute import SimpleImputer\n",
    "from sklearn.model_selection import train_test_split\n",
    "from sklearn.pipeline import Pipeline\n",
    "from sklearn.model_selection import GridSearchCV\n",
    "\n",
    "try:\n",
    "    from xgboost import XGBClassifier\n",
    "except:\n",
    "    !pip install xgboost\n",
    "    from xgboost import XGBClassifier\n",
    "\n",
    "try:\n",
    "    import yfinance as yf\n",
    "except:\n",
    "    !pip install yfinance\n",
    "    import yfinance as yf\n",
    "\n",
    "print(\"Libaries imported.\")"
   ]
  },
  {
   "cell_type": "markdown",
   "metadata": {},
   "source": [
    "### Data\n",
    "\n",
    "In this notebook, we'll be primarily obtaining data using the Python library [yfinance](https://pypi.org/project/yfinance/). As mentioned before, yfinance is useful tool in order to obtain financial data on stocks easily. This helps us analyze the data in detail and draw meaningful insights on price trends."
   ]
  },
  {
   "cell_type": "markdown",
   "metadata": {},
   "source": [
    "Before getting any coding in this notebook, let's start by talking about what **stocks** are. The [Merriam-Webster](https://www.merriam-webster.com/dictionary/stock) dictionary defines a stock as: "
   ]
  },
  {
   "cell_type": "markdown",
   "metadata": {},
   "source": [
    "<div style=\"font-family: 'Times New Roman'; border: 1px solid #ddd; padding: 10px; border-radius: 5px;\">\n",
    "  <p style=\"font-weight: bold; margin-bottom: 5px;\">Stock Definition:</p>\n",
    "  <p style=\"margin-left: 20px;\">\"The proprietorship element in a corporation usually divided into shares and represented by transferable certificates.\"</p>\n",
    "</div>\n"
   ]
  },
  {
   "cell_type": "markdown",
   "metadata": {},
   "source": [
    "In simpler terms, a stock is like owning a *piece* of a company. It's divided into **shares**, and each share is a piece of the company. \n",
    "\n",
    "With these shares, you are able to trade or sell them to others. "
   ]
  },
  {
   "cell_type": "markdown",
   "metadata": {},
   "source": [
    "The [Canadian Government](https://www.canada.ca/en/financial-consumer-agency/services/savings-investments/investing-basics.html) defines an **Exchange-Traded Fund** **(ETF)** as: \n",
    "\n",
    "\"an investment fund that holds assets such as stocks, commodities or bonds. Exchange traded funds trade on stock exchanges and have a value that is similar to the total value of the assets they contain. This means that the value of an exchange traded fund can change throughout the day.\" "
   ]
  },
  {
   "cell_type": "markdown",
   "metadata": {},
   "source": [
    "Essentially, an ETF is a *diversified* investment fund traded on stock exchanges. The main benefit of investing in an ETF is that, since the ETF's price is determined by a combination of various stocks, even if a particular stock performs poorly within the ETF, the idea is that diversification across a variety of stocks mitigates the impact on your overall investment.\n",
    "\n",
    "The data we're using is from the **S&P 500** ETF, named after the Standard & Poor's 500 index, representing 500 major U.S. companies and providing investors a convenient way to track the overall stock market performance."
   ]
  },
  {
   "cell_type": "code",
   "execution_count": null,
   "metadata": {},
   "outputs": [],
   "source": [
    "sp500 = yf.Ticker(\"^GSPC\")\n",
    "end_date = \"2023-12-31\"\n",
    "sp500 = sp500.history(start=\"1927-01-01\", end=end_date)\n",
    "\n",
    "sp500"
   ]
  },
  {
   "cell_type": "markdown",
   "metadata": {},
   "source": [
    "The `sp500` dataframe represents financial data, where the `Date` serves as the index for this particular dataframe. A dataframe is similar to a spreadsheet, where we have rows and columns that correspond to entries of data. \n",
    "\n",
    "In the context of a dataframe, an index is similar to the row numbers in a spreadsheet but, in this case, it's labeled with specific dates. The other columns, such as `Open`, `High`, `Low`, `Close`, `Volume`, `Dividends`, and `Stock Splits`, provide information corresponding to each date.\n",
    "\n",
    "\n",
    "- **Date:** This shows the date of the financial data.\n",
    "- **Open:** The price of the stock at the beginning of the trading day.\n",
    "- **High:** The highest price the stock reached during the trading day.\n",
    "- **Low:** The lowest price the stock reached during the trading day.\n",
    "- **Close:** The price of the stock at the end of the trading day.\n",
    "- **Volume:** This represents the total number of shares traded during the day.\n",
    "\n",
    "Please note that `Dividends` and `Stock Splits` are included in the table but won't be used in this notebook, so you can ignore them."
   ]
  },
  {
   "cell_type": "markdown",
   "metadata": {},
   "source": [
    "# Organize\n",
    "\n",
    "Now that we have a better sense of the different columns in our dataframe, let's *organize* our data for useful analysis. In coding terms, this is known as **data-cleaning**. \n",
    "\n",
    "Generally, data cleaning involves the process of identifying and removing errors, inconsistencies, or missing values in a dataset to ensure that the data is accurate. This also involves removing unused information to enhance clarity and focus on relevant data in our dataframe.\n",
    "\n",
    "We don't have to do much data-cleaning to our dataframe, `sp500`. The only major thing to do is to remove the columns `Dividends` and `Stock Splits` as they will not be useful in any of our future analysis."
   ]
  },
  {
   "cell_type": "code",
   "execution_count": null,
   "metadata": {},
   "outputs": [],
   "source": [
    "del sp500[\"Dividends\"]\n",
    "del sp500[\"Stock Splits\"]\n",
    "display(sp500.head())\n",
    "print(\"Unused columns deleted.\")"
   ]
  },
  {
   "cell_type": "markdown",
   "metadata": {},
   "source": [
    "# Explore and Interpret"
   ]
  },
  {
   "cell_type": "markdown",
   "metadata": {},
   "source": [
    "We can use these different columns to visualize the trends of stock prices. In our particular case for the stock **S&P 500**, stock prices starts at the year 1927 until 2023."
   ]
  },
  {
   "cell_type": "code",
   "execution_count": null,
   "metadata": {},
   "outputs": [],
   "source": [
    "sp500_plots = make_subplots(rows=1, cols=2, shared_yaxes=True, subplot_titles=(\"Open Price for S&P 500\", \"Close Price for S&P 500\"))\n",
    "sp500_plots.add_trace(px.line(sp500, x=sp500.index, y=\"Open\").data[0], row=1, col=1)\n",
    "sp500_plots.add_trace(px.line(sp500, x=sp500.index, y=\"Close\").data[0], row=1, col=2)\n",
    "\n",
    "sp500_plots.update_xaxes(title_text=\"Year\", row=1, col=1)\n",
    "sp500_plots.update_xaxes(title_text=\"Year\", row=1, col=2)\n",
    "\n",
    "sp500_plots.update_layout(title=\"S&P 500 Open and Close Price\", yaxis_title=\"Price (USD)\").show()"
   ]
  },
  {
   "cell_type": "markdown",
   "metadata": {},
   "source": [
    "Let's take a look at the overall growth of the S&P 500 over the past years. While there are certain years when the stock dipped in price, we see that historically it has increased over time. "
   ]
  },
  {
   "cell_type": "markdown",
   "metadata": {},
   "source": [
    "We can also look at something similar to a stock but vastly different at the same time. [Cryptocurrency](https://en.wikipedia.org/wiki/Cryptocurrency) is a digital currency that exploded in popularity back in 2020-2021. However, cryptocurrency is generally considered highly volatile, meaning you have a large amount of risk in losing the money you invest. \n",
    "\n",
    "Let's take **DogeCoin**, a type of cryptocurrency, for example. "
   ]
  },
  {
   "cell_type": "code",
   "execution_count": null,
   "metadata": {},
   "outputs": [],
   "source": [
    "dogecoin = yf.Ticker(\"DOGE-USD\")\n",
    "dogecoin = dogecoin.history(start=\"2017-01-01\", end=end_date)\n",
    "\n",
    "dogecoin_plots = make_subplots(rows=1, cols=2, shared_yaxes=True, subplot_titles=(\"Open Price for DogeCoin\", \"Close Price for DogeCoin\"))\n",
    "dogecoin_plots.add_trace(px.line(dogecoin, x=dogecoin.index, y=\"Open\").data[0], row=1, col=1)\n",
    "dogecoin_plots.add_trace(px.line(dogecoin, x=dogecoin.index, y=\"Close\").data[0], row=1, col=2)\n",
    "\n",
    "dogecoin_plots.update_xaxes(title_text=\"Year\", row=1, col=1)\n",
    "dogecoin_plots.update_xaxes(title_text=\"Year\", row=1, col=2)\n",
    "\n",
    "dogecoin_plots.update_layout(title=\"DogeCoin Open and Close Price\", yaxis_title=\"Price (USD)\").show()"
   ]
  },
  {
   "cell_type": "markdown",
   "metadata": {},
   "source": [
    "Comparing the price progression of Dogecoin to that of the S&P 500, it's evident that Dogecoin experienced a significant price surge in *May 2021*, followed by an **abrupt** crash. \n",
    "\n",
    "This visual representation underscores the volatile nature of cryptocurrencies and highlights the associated risks. Investing substantial amounts of money in inherently risky assets like cryptocurrencies can be dangerous, as demonstrated by the sharp and unpredictable price movements observed in Dogecoin."
   ]
  },
  {
   "cell_type": "markdown",
   "metadata": {},
   "source": [
    "### Import the data\n",
    "\n",
    "We will be using [Nasdaq's](https://www.nasdaq.com/market-activity/stocks/screener) list of stocks on the current market to help show you the differing types of stock currently on the market. "
   ]
  },
  {
   "cell_type": "code",
   "execution_count": null,
   "metadata": {},
   "outputs": [],
   "source": [
    "stock_symbols = pd.read_csv(\"https://raw.githubusercontent.com/callysto/data-files/main/data-viz-of-the-week/stock-prices/stock_names.csv\")\n",
    "del stock_symbols['Unnamed: 2'] \n",
    "\n",
    "stock_symbols"
   ]
  },
  {
   "cell_type": "markdown",
   "metadata": {},
   "source": [
    "Looking at the output of the different stocks above, use the drop-down menu below to see the different types of stocks in the market. "
   ]
  },
  {
   "cell_type": "code",
   "execution_count": null,
   "metadata": {},
   "outputs": [],
   "source": [
    "options = stock_symbols['Name'].tolist()\n",
    "stock_val = stock_symbols['Name'].iloc[0]\n",
    "\n",
    "symbol_dropdown = ipywidgets.Dropdown(options=options, value=stock_val, description='Stock Name:')\n",
    "output = ipywidgets.Output()\n",
    "\n",
    "def display_stock_info(stock_name):\n",
    "    with output:\n",
    "        output.clear_output()\n",
    "        selected_stock = stock_symbols[stock_symbols['Name'] == stock_name]\n",
    "        display(selected_stock[['Symbol', 'Name']])\n",
    "\n",
    "ipywidgets.interactive(display_stock_info, stock_name=symbol_dropdown)\n",
    "ipywidgets.VBox([symbol_dropdown, output])"
   ]
  },
  {
   "cell_type": "markdown",
   "metadata": {},
   "source": [
    "Using the information of the different stocks above, we can visualize the price history of any stock of your choice. \n",
    "\n",
    "In the variable `stock_symbol_to_visualize` below, feel free to change the value to any stock symbol that you would like to visualize. Use the *buttons* in the visualization to easily explore different time periods for the selected stock."
   ]
  },
  {
   "cell_type": "code",
   "execution_count": null,
   "metadata": {},
   "outputs": [],
   "source": [
    "# Change this to the stock symbol that you would like to visualize\n",
    "# For example: Instead of 'AAPL' (Apple) you can change it to 'AMZN' (Amazon)\n",
    "stock_symbol_to_visualize = 'AAPL'\n",
    "\n",
    "try:\n",
    "    stock_name = stock_symbols[stock_symbols['Symbol'] == stock_symbol_to_visualize]['Name'].iloc[0]\n",
    "    symbol = stock_symbols['Symbol'].iloc[0]\n",
    "    data = yf.download(symbol)\n",
    "    \n",
    "    stk_fig = px.line(data, x=data.index, y='Close', title=f'{stock_name} Historical Price')\n",
    "\n",
    "    stk_fig.update_xaxes(title_text='Date', rangeslider_visible=True, rangeselector=dict(buttons=list([\n",
    "                    dict(count=1, label=\"1d\", step=\"day\", stepmode=\"backward\"),\n",
    "                    dict(count=1, label=\"1m\", step=\"month\", stepmode=\"backward\"),\n",
    "                    dict(count=3, label=\"3m\", step=\"month\", stepmode=\"backward\"),\n",
    "                    dict(count=6, label=\"6m\", step=\"month\", stepmode=\"backward\"),\n",
    "                    dict(count=1, label=\"1y\", step=\"year\", stepmode=\"backward\"),\n",
    "                    dict(count=2, label=\"2y\", step=\"year\", stepmode=\"backward\"),\n",
    "                    dict(count=5, label=\"5y\", step=\"year\", stepmode=\"backward\"),\n",
    "                    dict(step=\"all\")])))\n",
    "    \n",
    "    stk_fig.update_yaxes(title_text='Close Price (USD)')\n",
    "    stk_fig.update_layout(title=f'{stock_name} - Historical Price').show()\n",
    "\n",
    "except Exception:\n",
    "    print(f\"Error fetching stock data. Make sure that '{stock_symbol_to_visualize}' is a valid stock symbol.\")\n",
    "    data = None"
   ]
  },
  {
   "cell_type": "code",
   "execution_count": null,
   "metadata": {},
   "outputs": [],
   "source": [
    "data[\"Tomorrow\"] = data[\"Close\"].shift(-1)\n",
    "data[\"Target\"] = (data[\"Tomorrow\"] > data[\"Close\"]).astype(int)\n",
    "data"
   ]
  },
  {
   "cell_type": "code",
   "execution_count": null,
   "metadata": {},
   "outputs": [],
   "source": [
    "data = data[data.index >= \"2000-01-01\"]\n",
    "data"
   ]
  },
  {
   "cell_type": "code",
   "execution_count": null,
   "metadata": {},
   "outputs": [],
   "source": [
    "bad_data = data.copy()\n",
    "bad_data = bad_data.dropna()\n",
    "\n",
    "bad_model = RandomForestClassifier(n_estimators=100, min_samples_split=100, random_state=42)\n",
    "\n",
    "train = bad_data.iloc[:-100]\n",
    "test = bad_data.iloc[-100:]\n",
    "\n",
    "predictors = [\"Open\", \"High\", \"Low\", \"Close\", \"Volume\", \"Tomorrow\", \"Target\"]\n",
    "bad_model.fit(train[predictors], train[\"Target\"])"
   ]
  },
  {
   "cell_type": "code",
   "execution_count": null,
   "metadata": {},
   "outputs": [],
   "source": [
    "predictions = bad_model.predict(test[predictors])\n",
    "predictions = pd.Series(predictions, index=test.index)\n",
    "precision_score(test[\"Target\"], predictions)"
   ]
  },
  {
   "cell_type": "code",
   "execution_count": null,
   "metadata": {},
   "outputs": [],
   "source": [
    "model = RandomForestClassifier(n_estimators=100, min_samples_split=100, random_state=42)\n",
    "\n",
    "train = data.iloc[:-100]\n",
    "test = data.iloc[-100:]\n",
    "\n",
    "predictors = [\"Open\", \"High\", \"Low\", \"Close\", \"Volume\"]\n",
    "model.fit(train[predictors], train[\"Target\"])"
   ]
  },
  {
   "cell_type": "code",
   "execution_count": null,
   "metadata": {},
   "outputs": [],
   "source": [
    "predictions = model.predict(test[predictors])\n",
    "predictions = pd.Series(predictions, index=test.index)\n",
    "precision_score(test[\"Target\"], predictions)"
   ]
  },
  {
   "cell_type": "code",
   "execution_count": null,
   "metadata": {},
   "outputs": [],
   "source": [
    "combined = pd.concat([test[\"Target\"], predictions], axis=1)\n",
    "combined.rename(columns={\"Target\": \"Actual\", 0: \"Predicted\"}, inplace=True)\n",
    "combined"
   ]
  },
  {
   "cell_type": "code",
   "execution_count": null,
   "metadata": {},
   "outputs": [],
   "source": [
    "px.line(combined, x=combined.index, y=['Actual', 'Predicted'], labels={'index': 'Date', 'value': 'Values'},title='Actual vs Predicted').show()"
   ]
  },
  {
   "cell_type": "code",
   "execution_count": null,
   "metadata": {},
   "outputs": [],
   "source": [
    "data_copy = data.copy()\n",
    "\n",
    "predictors = [\"Open\", \"High\", \"Low\", \"Close\", \"Volume\"]\n",
    "target = \"Target\"\n",
    "\n",
    "for col in predictors[:4]:\n",
    "    data_copy[col + ' Rolling Mean'] = data_copy[col].rolling(window=5).mean()\n",
    "\n",
    "data_copy.dropna(inplace=True)\n",
    "data_copy.head()"
   ]
  },
  {
   "cell_type": "code",
   "execution_count": null,
   "metadata": {},
   "outputs": [],
   "source": [
    "X = data_copy[predictors + [col + ' Rolling Mean' for col in predictors[:4]]]\n",
    "y = data_copy[target]\n",
    "\n",
    "X_train, X_test, y_train, y_test = train_test_split(X, y, test_size=0.2, random_state=42)\n",
    "\n",
    "(X_train.shape, X_test.shape, y_train.shape, y_test.shape)"
   ]
  },
  {
   "cell_type": "code",
   "execution_count": null,
   "metadata": {},
   "outputs": [],
   "source": [
    "pipeline = Pipeline([('imputer', SimpleImputer(strategy=\"mean\")),('classifier', XGBClassifier(random_state=42))])\n",
    "param_grid = {'classifier__n_estimators': [50, 100, 200],'classifier__learning_rate': [0.01, 0.1, 0.2],'classifier__max_depth': [3, 4, 5]}\n",
    "grid_search = GridSearchCV(pipeline, param_grid=param_grid, scoring='precision', cv=5)\n",
    "grid_search.fit(X_train, y_train)\n",
    "\n",
    "best_model = grid_search.best_estimator_\n",
    "predictions = best_model.predict(X_test)\n",
    "precision = precision_score(y_test, predictions)\n",
    "\n",
    "print(\"Best Hyperparameters:\", grid_search.best_params_)\n",
    "print(\"Precision Score:\", precision)"
   ]
  }
 ],
 "metadata": {
  "kernelspec": {
   "display_name": "Python 3",
   "language": "python",
   "name": "python3"
  },
  "language_info": {
   "codemirror_mode": {
    "name": "ipython",
    "version": 3
   },
   "file_extension": ".py",
   "mimetype": "text/x-python",
   "name": "python",
   "nbconvert_exporter": "python",
   "pygments_lexer": "ipython3",
   "version": "3.10.8"
  }
 },
 "nbformat": 4,
 "nbformat_minor": 2
}
