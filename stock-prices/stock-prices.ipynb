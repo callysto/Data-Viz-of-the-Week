{
 "cells": [
  {
   "cell_type": "markdown",
   "metadata": {},
   "source": [
    "![Callysto.ca Banner](https://github.com/callysto/curriculum-notebooks/blob/master/callysto-notebook-banner-top.jpg?raw=true)\n",
    "\n",
    "<a href=\"https://hub.callysto.ca/jupyter/hub/user-redirect/git-pull?repo=https%3A%2F%2Fgithub.com%2Fcallysto%2Fdata-viz-of-the-week&branch=main&subPath=world-childrens-day/world-childrens-day.ipynb&depth=1\" target=\"_parent\"><img src=\"https://raw.githubusercontent.com/callysto/curriculum-notebooks/master/open-in-callysto-button.svg?sanitize=true\" width=\"123\" height=\"24\" alt=\"Open in Callysto\"/></a>"
   ]
  },
  {
   "cell_type": "code",
   "execution_count": null,
   "metadata": {},
   "outputs": [],
   "source": [
    "from datetime import date\n",
    "from datetime import timedelta\n",
    "\n",
    "try:\n",
    "    from prophet import Prophet\n",
    "    from prophet.plot import plot_plotly\n",
    "except ImportError:\n",
    "    !pip install prophet\n",
    "    from prophet import Prophet\n",
    "    from prophet.plot import plot_plotly\n",
    "\n",
    "try:\n",
    "    import yfinance as yf\n",
    "except:\n",
    "    !pip install yfinance\n",
    "    import yfinance as yf\n",
    "\n",
    "print(\"Libaries imported.\")"
   ]
  },
  {
   "cell_type": "code",
   "execution_count": null,
   "metadata": {},
   "outputs": [],
   "source": [
    "def fetch_stock_data(symbol, start_date, end_date):\n",
    "    try:\n",
    "        # Get stock data \n",
    "        stock_data = yf.download(symbol, start=start_date, end=end_date).reset_index()\n",
    "        return stock_data\n",
    "        # Invalid stock\n",
    "    except Exception as e:\n",
    "        print(f\"Error fetching data for {symbol}: {e}\")\n",
    "        return None"
   ]
  },
  {
   "cell_type": "code",
   "execution_count": null,
   "metadata": {},
   "outputs": [],
   "source": [
    "symbols = ['GOOGL']\n",
    "\n",
    "end_date = '2023-01-01'  \n",
    "start_date = '2022-01-01'\n",
    "\n",
    "for symbol in symbols:\n",
    "    data = fetch_stock_data(symbol, start_date, end_date)\n",
    "    \n",
    "    if data is not None:\n",
    "        print(f\"\\n{symbol} Stock Data:\\n\")\n",
    "        display(data.head())"
   ]
  },
  {
   "cell_type": "code",
   "execution_count": null,
   "metadata": {},
   "outputs": [],
   "source": [
    "data"
   ]
  },
  {
   "cell_type": "code",
   "execution_count": null,
   "metadata": {},
   "outputs": [],
   "source": [
    "n_years = 1\n",
    "period = n_years * 365\n",
    "\n",
    "df_train = data[['Date', 'Close']]\n",
    "df_train = df_train.rename(columns={\"Date\": \"ds\", \"Close\": \"y\"})\n",
    "\n",
    "model = Prophet()\n",
    "model.fit(df_train)\n",
    "future = model.make_future_dataframe(periods=period)\n",
    "forecast = model.predict(future)\n",
    "\n",
    "fig1 = plot_plotly(model, forecast)\n",
    "fig2 = model.plot_components(forecast)"
   ]
  }
 ],
 "metadata": {
  "kernelspec": {
   "display_name": "Python 3",
   "language": "python",
   "name": "python3"
  },
  "language_info": {
   "codemirror_mode": {
    "name": "ipython",
    "version": 3
   },
   "file_extension": ".py",
   "mimetype": "text/x-python",
   "name": "python",
   "nbconvert_exporter": "python",
   "pygments_lexer": "ipython3",
   "version": "3.10.8"
  }
 },
 "nbformat": 4,
 "nbformat_minor": 2
}
