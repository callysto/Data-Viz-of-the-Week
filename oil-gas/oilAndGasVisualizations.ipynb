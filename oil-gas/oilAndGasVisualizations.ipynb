{
 "cells": [
  {
   "cell_type": "code",
   "execution_count": 1,
   "id": "c6c7b43b",
   "metadata": {},
   "outputs": [],
   "source": [
    "from IPython.display import HTML\n",
    "import pandas as pd\n",
    "import geopandas as gpd\n",
    "import requests as r\n",
    "import json\n",
    "import plotly.express as px\n",
    "import plotly.graph_objects as go\n",
    "from IPython.display import IFrame"
   ]
  },
  {
   "cell_type": "markdown",
   "id": "c273fb04",
   "metadata": {},
   "source": [
    "### Regular Gas - Yearly Average Line Graph"
   ]
  },
  {
   "cell_type": "code",
   "execution_count": 2,
   "id": "18e8fad1",
   "metadata": {},
   "outputs": [
    {
     "data": {
      "text/html": [
       "<div>\n",
       "<style scoped>\n",
       "    .dataframe tbody tr th:only-of-type {\n",
       "        vertical-align: middle;\n",
       "    }\n",
       "\n",
       "    .dataframe tbody tr th {\n",
       "        vertical-align: top;\n",
       "    }\n",
       "\n",
       "    .dataframe thead th {\n",
       "        text-align: right;\n",
       "    }\n",
       "</style>\n",
       "<table border=\"1\" class=\"dataframe\">\n",
       "  <thead>\n",
       "    <tr style=\"text-align: right;\">\n",
       "      <th></th>\n",
       "      <th>Year</th>\n",
       "      <th>GEO</th>\n",
       "      <th>Value</th>\n",
       "    </tr>\n",
       "  </thead>\n",
       "  <tbody>\n",
       "    <tr>\n",
       "      <th>0</th>\n",
       "      <td>1990</td>\n",
       "      <td>Alberta</td>\n",
       "      <td>53.895833</td>\n",
       "    </tr>\n",
       "    <tr>\n",
       "      <th>1</th>\n",
       "      <td>1990</td>\n",
       "      <td>British Columbia</td>\n",
       "      <td>60.766667</td>\n",
       "    </tr>\n",
       "    <tr>\n",
       "      <th>2</th>\n",
       "      <td>1990</td>\n",
       "      <td>Manitoba</td>\n",
       "      <td>55.325000</td>\n",
       "    </tr>\n",
       "    <tr>\n",
       "      <th>3</th>\n",
       "      <td>1990</td>\n",
       "      <td>New Brunswick</td>\n",
       "      <td>NaN</td>\n",
       "    </tr>\n",
       "    <tr>\n",
       "      <th>4</th>\n",
       "      <td>1990</td>\n",
       "      <td>Newfoundland and Labrador</td>\n",
       "      <td>61.466667</td>\n",
       "    </tr>\n",
       "    <tr>\n",
       "      <th>...</th>\n",
       "      <td>...</td>\n",
       "      <td>...</td>\n",
       "      <td>...</td>\n",
       "    </tr>\n",
       "    <tr>\n",
       "      <th>391</th>\n",
       "      <td>2022</td>\n",
       "      <td>Ontario</td>\n",
       "      <td>160.355556</td>\n",
       "    </tr>\n",
       "    <tr>\n",
       "      <th>392</th>\n",
       "      <td>2022</td>\n",
       "      <td>Prince Edward Island</td>\n",
       "      <td>156.900000</td>\n",
       "    </tr>\n",
       "    <tr>\n",
       "      <th>393</th>\n",
       "      <td>2022</td>\n",
       "      <td>Quebec</td>\n",
       "      <td>167.416667</td>\n",
       "    </tr>\n",
       "    <tr>\n",
       "      <th>394</th>\n",
       "      <td>2022</td>\n",
       "      <td>Saskatchewan</td>\n",
       "      <td>150.166667</td>\n",
       "    </tr>\n",
       "    <tr>\n",
       "      <th>395</th>\n",
       "      <td>2022</td>\n",
       "      <td>Yukon</td>\n",
       "      <td>166.233333</td>\n",
       "    </tr>\n",
       "  </tbody>\n",
       "</table>\n",
       "<p>396 rows × 3 columns</p>\n",
       "</div>"
      ],
      "text/plain": [
       "     Year                        GEO       Value\n",
       "0    1990                    Alberta   53.895833\n",
       "1    1990           British Columbia   60.766667\n",
       "2    1990                   Manitoba   55.325000\n",
       "3    1990              New Brunswick         NaN\n",
       "4    1990  Newfoundland and Labrador   61.466667\n",
       "..    ...                        ...         ...\n",
       "391  2022                    Ontario  160.355556\n",
       "392  2022       Prince Edward Island  156.900000\n",
       "393  2022                     Quebec  167.416667\n",
       "394  2022               Saskatchewan  150.166667\n",
       "395  2022                      Yukon  166.233333\n",
       "\n",
       "[396 rows x 3 columns]"
      ]
     },
     "execution_count": 2,
     "metadata": {},
     "output_type": "execute_result"
    }
   ],
   "source": [
    "yearlyAvg = pd.read_csv(\"regularGasYearlyAvg.csv\")\n",
    "yearlyAvg = yearlyAvg[[\"Year\", \"GEO\", \"Value\"]]\n",
    "yearlyAvg"
   ]
  },
  {
   "cell_type": "code",
   "execution_count": 3,
   "id": "fd019a00",
   "metadata": {
    "scrolled": true
   },
   "outputs": [
    {
     "data": {
      "text/html": [
       "\n",
       "        <iframe\n",
       "            width=\"900\"\n",
       "            height=\"500\"\n",
       "            src=\"yearlyAvgLineGraph.html\"\n",
       "            frameborder=\"0\"\n",
       "            allowfullscreen\n",
       "            \n",
       "        ></iframe>\n",
       "        "
      ],
      "text/plain": [
       "<IPython.lib.display.IFrame at 0x7f9e32308730>"
      ]
     },
     "execution_count": 3,
     "metadata": {},
     "output_type": "execute_result"
    }
   ],
   "source": [
    "IFrame(src='yearlyAvgLineGraph.html', width=900, height=500)"
   ]
  },
  {
   "cell_type": "markdown",
   "id": "61fa4114",
   "metadata": {},
   "source": [
    "### Regular Gas - Yearly Average Area Under Line Graph"
   ]
  },
  {
   "cell_type": "code",
   "execution_count": 12,
   "id": "f4a3b949",
   "metadata": {},
   "outputs": [
    {
     "data": {
      "text/html": [
       "\n",
       "        <iframe\n",
       "            width=\"900\"\n",
       "            height=\"500\"\n",
       "            src=\"yearlyAvgAreaGraph.html\"\n",
       "            frameborder=\"0\"\n",
       "            allowfullscreen\n",
       "            \n",
       "        ></iframe>\n",
       "        "
      ],
      "text/plain": [
       "<IPython.lib.display.IFrame at 0x7f9e323085e0>"
      ]
     },
     "execution_count": 12,
     "metadata": {},
     "output_type": "execute_result"
    }
   ],
   "source": [
    "IFrame(src='yearlyAvgAreaGraph.html', width=900, height=500)"
   ]
  },
  {
   "cell_type": "markdown",
   "id": "dd5cf240",
   "metadata": {},
   "source": [
    "### Regular Gas - Yearly Average Choropleth Map"
   ]
  },
  {
   "cell_type": "code",
   "execution_count": 5,
   "id": "24cf2a31",
   "metadata": {
    "scrolled": true
   },
   "outputs": [
    {
     "data": {
      "text/html": [
       "\n",
       "        <iframe\n",
       "            width=\"900\"\n",
       "            height=\"500\"\n",
       "            src=\"choroplethMap.html\"\n",
       "            frameborder=\"0\"\n",
       "            allowfullscreen\n",
       "            \n",
       "        ></iframe>\n",
       "        "
      ],
      "text/plain": [
       "<IPython.lib.display.IFrame at 0x7f9e32328460>"
      ]
     },
     "execution_count": 5,
     "metadata": {},
     "output_type": "execute_result"
    }
   ],
   "source": [
    "IFrame(src='choroplethMap.html', width=900, height=500)"
   ]
  },
  {
   "cell_type": "code",
   "execution_count": 6,
   "id": "9a330288",
   "metadata": {},
   "outputs": [
    {
     "data": {
      "text/html": [
       "\n",
       "        <iframe\n",
       "            width=\"900\"\n",
       "            height=\"500\"\n",
       "            src=\"choroplethBasic.html\"\n",
       "            frameborder=\"0\"\n",
       "            allowfullscreen\n",
       "            \n",
       "        ></iframe>\n",
       "        "
      ],
      "text/plain": [
       "<IPython.lib.display.IFrame at 0x7f9e32328760>"
      ]
     },
     "execution_count": 6,
     "metadata": {},
     "output_type": "execute_result"
    }
   ],
   "source": [
    "IFrame(src='choroplethBasic.html', width=900, height=500)"
   ]
  },
  {
   "cell_type": "markdown",
   "id": "14633938",
   "metadata": {},
   "source": [
    "### Regular Gas - Yearly Average by Province"
   ]
  },
  {
   "cell_type": "code",
   "execution_count": 17,
   "id": "89bfa4e7",
   "metadata": {},
   "outputs": [
    {
     "data": {
      "text/html": [
       "\n",
       "        <iframe\n",
       "            width=\"950\"\n",
       "            height=\"900\"\n",
       "            src=\"facetMapVertical.html\"\n",
       "            frameborder=\"0\"\n",
       "            allowfullscreen\n",
       "            \n",
       "        ></iframe>\n",
       "        "
      ],
      "text/plain": [
       "<IPython.lib.display.IFrame at 0x7f9e32328f70>"
      ]
     },
     "execution_count": 17,
     "metadata": {},
     "output_type": "execute_result"
    }
   ],
   "source": [
    "IFrame(src='facetMapVertical.html', width=950, height=900)"
   ]
  },
  {
   "cell_type": "code",
   "execution_count": 15,
   "id": "78d5b362",
   "metadata": {},
   "outputs": [
    {
     "data": {
      "text/html": [
       "\n",
       "        <iframe\n",
       "            width=\"900\"\n",
       "            height=\"900\"\n",
       "            src=\"facetHorizontal.html\"\n",
       "            frameborder=\"0\"\n",
       "            allowfullscreen\n",
       "            \n",
       "        ></iframe>\n",
       "        "
      ],
      "text/plain": [
       "<IPython.lib.display.IFrame at 0x7f9e301db490>"
      ]
     },
     "execution_count": 15,
     "metadata": {},
     "output_type": "execute_result"
    }
   ],
   "source": [
    "IFrame(src='facetHorizontal.html', width=900, height=900)"
   ]
  },
  {
   "cell_type": "markdown",
   "id": "8cea4083",
   "metadata": {},
   "source": [
    "### Regular, Premium, Diesel Gas - Stacked Bar Graph"
   ]
  },
  {
   "cell_type": "code",
   "execution_count": 9,
   "id": "34a3fec6",
   "metadata": {},
   "outputs": [
    {
     "data": {
      "text/html": [
       "<div>\n",
       "<style scoped>\n",
       "    .dataframe tbody tr th:only-of-type {\n",
       "        vertical-align: middle;\n",
       "    }\n",
       "\n",
       "    .dataframe tbody tr th {\n",
       "        vertical-align: top;\n",
       "    }\n",
       "\n",
       "    .dataframe thead th {\n",
       "        text-align: right;\n",
       "    }\n",
       "</style>\n",
       "<table border=\"1\" class=\"dataframe\">\n",
       "  <thead>\n",
       "    <tr style=\"text-align: right;\">\n",
       "      <th></th>\n",
       "      <th>Year</th>\n",
       "      <th>Type</th>\n",
       "      <th>Value</th>\n",
       "    </tr>\n",
       "  </thead>\n",
       "  <tbody>\n",
       "    <tr>\n",
       "      <th>0</th>\n",
       "      <td>1990</td>\n",
       "      <td>Regular</td>\n",
       "      <td>58.956806</td>\n",
       "    </tr>\n",
       "    <tr>\n",
       "      <th>1</th>\n",
       "      <td>1991</td>\n",
       "      <td>Regular</td>\n",
       "      <td>58.779861</td>\n",
       "    </tr>\n",
       "    <tr>\n",
       "      <th>2</th>\n",
       "      <td>1992</td>\n",
       "      <td>Regular</td>\n",
       "      <td>56.213009</td>\n",
       "    </tr>\n",
       "    <tr>\n",
       "      <th>3</th>\n",
       "      <td>1993</td>\n",
       "      <td>Regular</td>\n",
       "      <td>55.058449</td>\n",
       "    </tr>\n",
       "    <tr>\n",
       "      <th>4</th>\n",
       "      <td>1994</td>\n",
       "      <td>Regular</td>\n",
       "      <td>54.964699</td>\n",
       "    </tr>\n",
       "    <tr>\n",
       "      <th>...</th>\n",
       "      <td>...</td>\n",
       "      <td>...</td>\n",
       "      <td>...</td>\n",
       "    </tr>\n",
       "    <tr>\n",
       "      <th>94</th>\n",
       "      <td>2018</td>\n",
       "      <td>Diesel</td>\n",
       "      <td>129.243750</td>\n",
       "    </tr>\n",
       "    <tr>\n",
       "      <th>95</th>\n",
       "      <td>2019</td>\n",
       "      <td>Diesel</td>\n",
       "      <td>126.816319</td>\n",
       "    </tr>\n",
       "    <tr>\n",
       "      <th>96</th>\n",
       "      <td>2020</td>\n",
       "      <td>Diesel</td>\n",
       "      <td>105.748958</td>\n",
       "    </tr>\n",
       "    <tr>\n",
       "      <th>97</th>\n",
       "      <td>2021</td>\n",
       "      <td>Diesel</td>\n",
       "      <td>132.473264</td>\n",
       "    </tr>\n",
       "    <tr>\n",
       "      <th>98</th>\n",
       "      <td>2022</td>\n",
       "      <td>Diesel</td>\n",
       "      <td>169.701389</td>\n",
       "    </tr>\n",
       "  </tbody>\n",
       "</table>\n",
       "<p>99 rows × 3 columns</p>\n",
       "</div>"
      ],
      "text/plain": [
       "    Year     Type       Value\n",
       "0   1990  Regular   58.956806\n",
       "1   1991  Regular   58.779861\n",
       "2   1992  Regular   56.213009\n",
       "3   1993  Regular   55.058449\n",
       "4   1994  Regular   54.964699\n",
       "..   ...      ...         ...\n",
       "94  2018   Diesel  129.243750\n",
       "95  2019   Diesel  126.816319\n",
       "96  2020   Diesel  105.748958\n",
       "97  2021   Diesel  132.473264\n",
       "98  2022   Diesel  169.701389\n",
       "\n",
       "[99 rows x 3 columns]"
      ]
     },
     "execution_count": 9,
     "metadata": {},
     "output_type": "execute_result"
    }
   ],
   "source": [
    "threeGases = pd.read_csv(\"allThreeGases.csv\")\n",
    "threeGases = threeGases[[\"Year\", \"Type\", \"Value\"]]\n",
    "threeGases"
   ]
  },
  {
   "cell_type": "code",
   "execution_count": 10,
   "id": "81bdae0f",
   "metadata": {
    "scrolled": true
   },
   "outputs": [
    {
     "data": {
      "text/html": [
       "\n",
       "        <iframe\n",
       "            width=\"900\"\n",
       "            height=\"500\"\n",
       "            src=\"stackedBar.html\"\n",
       "            frameborder=\"0\"\n",
       "            allowfullscreen\n",
       "            \n",
       "        ></iframe>\n",
       "        "
      ],
      "text/plain": [
       "<IPython.lib.display.IFrame at 0x7f9e323282b0>"
      ]
     },
     "execution_count": 10,
     "metadata": {},
     "output_type": "execute_result"
    }
   ],
   "source": [
    "IFrame(src='stackedBar.html', width=900, height=500)"
   ]
  },
  {
   "cell_type": "markdown",
   "id": "c7205f6c",
   "metadata": {},
   "source": [
    "### Regular, Premium, Diesel Gas - Histogram"
   ]
  },
  {
   "cell_type": "code",
   "execution_count": 11,
   "id": "96bcebd8",
   "metadata": {},
   "outputs": [
    {
     "data": {
      "text/html": [
       "\n",
       "        <iframe\n",
       "            width=\"900\"\n",
       "            height=\"500\"\n",
       "            src=\"histogramFig.html\"\n",
       "            frameborder=\"0\"\n",
       "            allowfullscreen\n",
       "            \n",
       "        ></iframe>\n",
       "        "
      ],
      "text/plain": [
       "<IPython.lib.display.IFrame at 0x7f9e32328f40>"
      ]
     },
     "execution_count": 11,
     "metadata": {},
     "output_type": "execute_result"
    }
   ],
   "source": [
    "IFrame(src='histogramFig.html', width=900, height=500)"
   ]
  }
 ],
 "metadata": {
  "kernelspec": {
   "display_name": "Python 3 (ipykernel)",
   "language": "python",
   "name": "python3"
  },
  "language_info": {
   "codemirror_mode": {
    "name": "ipython",
    "version": 3
   },
   "file_extension": ".py",
   "mimetype": "text/x-python",
   "name": "python",
   "nbconvert_exporter": "python",
   "pygments_lexer": "ipython3",
   "version": "3.9.12"
  }
 },
 "nbformat": 4,
 "nbformat_minor": 5
}
