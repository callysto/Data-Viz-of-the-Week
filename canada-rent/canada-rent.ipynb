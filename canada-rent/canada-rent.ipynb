{
 "cells": [
  {
   "cell_type": "code",
   "execution_count": 1,
   "metadata": {},
   "outputs": [],
   "source": [
    "import pandas as pd\n",
    "import plotly.express as px\n",
    "from sklearn.model_selection import train_test_split\n",
    "from sklearn.linear_model import Ridge\n",
    "from plotly.subplots import make_subplots\n",
    "import plotly.graph_objects as go"
   ]
  },
  {
   "cell_type": "code",
   "execution_count": 2,
   "metadata": {},
   "outputs": [
    {
     "name": "stderr",
     "output_type": "stream",
     "text": [
      "/var/folders/_v/4d1j74hd4y3by9wnkl0gym5w0000gn/T/ipykernel_5468/1271277521.py:3: DtypeWarning: Columns (14) have mixed types. Specify dtype option on import or set low_memory=False.\n",
      "  dataset = pd.read_csv('/Users/ayushchaudhari/Downloads/34100133-eng/34100133.csv')\n"
     ]
    },
    {
     "data": {
      "text/html": [
       "<div>\n",
       "<style scoped>\n",
       "    .dataframe tbody tr th:only-of-type {\n",
       "        vertical-align: middle;\n",
       "    }\n",
       "\n",
       "    .dataframe tbody tr th {\n",
       "        vertical-align: top;\n",
       "    }\n",
       "\n",
       "    .dataframe thead th {\n",
       "        text-align: right;\n",
       "    }\n",
       "</style>\n",
       "<table border=\"1\" class=\"dataframe\">\n",
       "  <thead>\n",
       "    <tr style=\"text-align: right;\">\n",
       "      <th></th>\n",
       "      <th>YEAR</th>\n",
       "      <th>GEO</th>\n",
       "      <th>DGUID</th>\n",
       "      <th>Type of structure</th>\n",
       "      <th>Type of unit</th>\n",
       "      <th>UOM</th>\n",
       "      <th>UOM_ID</th>\n",
       "      <th>SCALAR_FACTOR</th>\n",
       "      <th>SCALAR_ID</th>\n",
       "      <th>VECTOR</th>\n",
       "      <th>COORDINATE</th>\n",
       "      <th>MONTHLY RENT</th>\n",
       "      <th>STATUS</th>\n",
       "      <th>SYMBOL</th>\n",
       "      <th>TERMINATED</th>\n",
       "      <th>DECIMALS</th>\n",
       "      <th>PROVINCE</th>\n",
       "      <th>PROVINCE CODE</th>\n",
       "      <th># of Rooms</th>\n",
       "    </tr>\n",
       "  </thead>\n",
       "  <tbody>\n",
       "    <tr>\n",
       "      <th>34</th>\n",
       "      <td>1987</td>\n",
       "      <td>Corner Brook, Newfoundland and Labrador</td>\n",
       "      <td>2011S0504015</td>\n",
       "      <td>Apartment structures of six units and over</td>\n",
       "      <td>Two bedroom units</td>\n",
       "      <td>Dollars</td>\n",
       "      <td>81</td>\n",
       "      <td>units</td>\n",
       "      <td>0</td>\n",
       "      <td>v3824924</td>\n",
       "      <td>2.4.3</td>\n",
       "      <td>480.0</td>\n",
       "      <td>NaN</td>\n",
       "      <td>NaN</td>\n",
       "      <td>NaN</td>\n",
       "      <td>0</td>\n",
       "      <td>Newfoundland and Labrador</td>\n",
       "      <td>709</td>\n",
       "      <td>2</td>\n",
       "    </tr>\n",
       "    <tr>\n",
       "      <th>49</th>\n",
       "      <td>1987</td>\n",
       "      <td>Gander, Newfoundland and Labrador</td>\n",
       "      <td>2011A00051006009</td>\n",
       "      <td>Apartment structures of six units and over</td>\n",
       "      <td>One bedroom units</td>\n",
       "      <td>Dollars</td>\n",
       "      <td>81</td>\n",
       "      <td>units</td>\n",
       "      <td>0</td>\n",
       "      <td>v3824688</td>\n",
       "      <td>3.4.2</td>\n",
       "      <td>370.0</td>\n",
       "      <td>NaN</td>\n",
       "      <td>NaN</td>\n",
       "      <td>NaN</td>\n",
       "      <td>0</td>\n",
       "      <td>Newfoundland and Labrador</td>\n",
       "      <td>709</td>\n",
       "      <td>1</td>\n",
       "    </tr>\n",
       "    <tr>\n",
       "      <th>50</th>\n",
       "      <td>1987</td>\n",
       "      <td>Gander, Newfoundland and Labrador</td>\n",
       "      <td>2011A00051006009</td>\n",
       "      <td>Apartment structures of six units and over</td>\n",
       "      <td>Two bedroom units</td>\n",
       "      <td>Dollars</td>\n",
       "      <td>81</td>\n",
       "      <td>units</td>\n",
       "      <td>0</td>\n",
       "      <td>v3824876</td>\n",
       "      <td>3.4.3</td>\n",
       "      <td>414.0</td>\n",
       "      <td>NaN</td>\n",
       "      <td>NaN</td>\n",
       "      <td>NaN</td>\n",
       "      <td>0</td>\n",
       "      <td>Newfoundland and Labrador</td>\n",
       "      <td>709</td>\n",
       "      <td>2</td>\n",
       "    </tr>\n",
       "    <tr>\n",
       "      <th>51</th>\n",
       "      <td>1987</td>\n",
       "      <td>Gander, Newfoundland and Labrador</td>\n",
       "      <td>2011A00051006009</td>\n",
       "      <td>Apartment structures of six units and over</td>\n",
       "      <td>Three bedroom units</td>\n",
       "      <td>Dollars</td>\n",
       "      <td>81</td>\n",
       "      <td>units</td>\n",
       "      <td>0</td>\n",
       "      <td>v3825064</td>\n",
       "      <td>3.4.4</td>\n",
       "      <td>414.0</td>\n",
       "      <td>NaN</td>\n",
       "      <td>NaN</td>\n",
       "      <td>NaN</td>\n",
       "      <td>0</td>\n",
       "      <td>Newfoundland and Labrador</td>\n",
       "      <td>709</td>\n",
       "      <td>3</td>\n",
       "    </tr>\n",
       "    <tr>\n",
       "      <th>69</th>\n",
       "      <td>1987</td>\n",
       "      <td>Labrador City, Newfoundland and Labrador</td>\n",
       "      <td>2011A00051010032</td>\n",
       "      <td>Apartment structures of six units and over</td>\n",
       "      <td>One bedroom units</td>\n",
       "      <td>Dollars</td>\n",
       "      <td>81</td>\n",
       "      <td>units</td>\n",
       "      <td>0</td>\n",
       "      <td>v3824749</td>\n",
       "      <td>5.4.2</td>\n",
       "      <td>254.0</td>\n",
       "      <td>NaN</td>\n",
       "      <td>NaN</td>\n",
       "      <td>t</td>\n",
       "      <td>0</td>\n",
       "      <td>Newfoundland and Labrador</td>\n",
       "      <td>709</td>\n",
       "      <td>1</td>\n",
       "    </tr>\n",
       "    <tr>\n",
       "      <th>...</th>\n",
       "      <td>...</td>\n",
       "      <td>...</td>\n",
       "      <td>...</td>\n",
       "      <td>...</td>\n",
       "      <td>...</td>\n",
       "      <td>...</td>\n",
       "      <td>...</td>\n",
       "      <td>...</td>\n",
       "      <td>...</td>\n",
       "      <td>...</td>\n",
       "      <td>...</td>\n",
       "      <td>...</td>\n",
       "      <td>...</td>\n",
       "      <td>...</td>\n",
       "      <td>...</td>\n",
       "      <td>...</td>\n",
       "      <td>...</td>\n",
       "      <td>...</td>\n",
       "      <td>...</td>\n",
       "    </tr>\n",
       "    <tr>\n",
       "      <th>122355</th>\n",
       "      <td>2022</td>\n",
       "      <td>Yellowknife, Northwest Territories</td>\n",
       "      <td>2011S0504995</td>\n",
       "      <td>Apartment structures of three units and over</td>\n",
       "      <td>Three bedroom units</td>\n",
       "      <td>Dollars</td>\n",
       "      <td>81</td>\n",
       "      <td>units</td>\n",
       "      <td>0</td>\n",
       "      <td>v3824416</td>\n",
       "      <td>188.1.4</td>\n",
       "      <td>2133.0</td>\n",
       "      <td>NaN</td>\n",
       "      <td>NaN</td>\n",
       "      <td>NaN</td>\n",
       "      <td>0</td>\n",
       "      <td>Northwest Territories</td>\n",
       "      <td>867</td>\n",
       "      <td>3</td>\n",
       "    </tr>\n",
       "    <tr>\n",
       "      <th>122356</th>\n",
       "      <td>2022</td>\n",
       "      <td>Yellowknife, Northwest Territories</td>\n",
       "      <td>2011S0504995</td>\n",
       "      <td>Apartment structures of six units and over</td>\n",
       "      <td>Bachelor units</td>\n",
       "      <td>Dollars</td>\n",
       "      <td>81</td>\n",
       "      <td>units</td>\n",
       "      <td>0</td>\n",
       "      <td>v3824602</td>\n",
       "      <td>188.4.1</td>\n",
       "      <td>1279.0</td>\n",
       "      <td>NaN</td>\n",
       "      <td>NaN</td>\n",
       "      <td>NaN</td>\n",
       "      <td>0</td>\n",
       "      <td>Northwest Territories</td>\n",
       "      <td>867</td>\n",
       "      <td>0</td>\n",
       "    </tr>\n",
       "    <tr>\n",
       "      <th>122357</th>\n",
       "      <td>2022</td>\n",
       "      <td>Yellowknife, Northwest Territories</td>\n",
       "      <td>2011S0504995</td>\n",
       "      <td>Apartment structures of six units and over</td>\n",
       "      <td>One bedroom units</td>\n",
       "      <td>Dollars</td>\n",
       "      <td>81</td>\n",
       "      <td>units</td>\n",
       "      <td>0</td>\n",
       "      <td>v3824790</td>\n",
       "      <td>188.4.2</td>\n",
       "      <td>1563.0</td>\n",
       "      <td>NaN</td>\n",
       "      <td>NaN</td>\n",
       "      <td>NaN</td>\n",
       "      <td>0</td>\n",
       "      <td>Northwest Territories</td>\n",
       "      <td>867</td>\n",
       "      <td>1</td>\n",
       "    </tr>\n",
       "    <tr>\n",
       "      <th>122358</th>\n",
       "      <td>2022</td>\n",
       "      <td>Yellowknife, Northwest Territories</td>\n",
       "      <td>2011S0504995</td>\n",
       "      <td>Apartment structures of six units and over</td>\n",
       "      <td>Two bedroom units</td>\n",
       "      <td>Dollars</td>\n",
       "      <td>81</td>\n",
       "      <td>units</td>\n",
       "      <td>0</td>\n",
       "      <td>v3824978</td>\n",
       "      <td>188.4.3</td>\n",
       "      <td>1820.0</td>\n",
       "      <td>NaN</td>\n",
       "      <td>NaN</td>\n",
       "      <td>NaN</td>\n",
       "      <td>0</td>\n",
       "      <td>Northwest Territories</td>\n",
       "      <td>867</td>\n",
       "      <td>2</td>\n",
       "    </tr>\n",
       "    <tr>\n",
       "      <th>122359</th>\n",
       "      <td>2022</td>\n",
       "      <td>Yellowknife, Northwest Territories</td>\n",
       "      <td>2011S0504995</td>\n",
       "      <td>Apartment structures of six units and over</td>\n",
       "      <td>Three bedroom units</td>\n",
       "      <td>Dollars</td>\n",
       "      <td>81</td>\n",
       "      <td>units</td>\n",
       "      <td>0</td>\n",
       "      <td>v3825166</td>\n",
       "      <td>188.4.4</td>\n",
       "      <td>2120.0</td>\n",
       "      <td>NaN</td>\n",
       "      <td>NaN</td>\n",
       "      <td>NaN</td>\n",
       "      <td>0</td>\n",
       "      <td>Northwest Territories</td>\n",
       "      <td>867</td>\n",
       "      <td>3</td>\n",
       "    </tr>\n",
       "  </tbody>\n",
       "</table>\n",
       "<p>66578 rows × 19 columns</p>\n",
       "</div>"
      ],
      "text/plain": [
       "        YEAR                                       GEO             DGUID   \n",
       "34      1987   Corner Brook, Newfoundland and Labrador      2011S0504015  \\\n",
       "49      1987         Gander, Newfoundland and Labrador  2011A00051006009   \n",
       "50      1987         Gander, Newfoundland and Labrador  2011A00051006009   \n",
       "51      1987         Gander, Newfoundland and Labrador  2011A00051006009   \n",
       "69      1987  Labrador City, Newfoundland and Labrador  2011A00051010032   \n",
       "...      ...                                       ...               ...   \n",
       "122355  2022        Yellowknife, Northwest Territories      2011S0504995   \n",
       "122356  2022        Yellowknife, Northwest Territories      2011S0504995   \n",
       "122357  2022        Yellowknife, Northwest Territories      2011S0504995   \n",
       "122358  2022        Yellowknife, Northwest Territories      2011S0504995   \n",
       "122359  2022        Yellowknife, Northwest Territories      2011S0504995   \n",
       "\n",
       "                                   Type of structure         Type of unit   \n",
       "34        Apartment structures of six units and over    Two bedroom units  \\\n",
       "49        Apartment structures of six units and over    One bedroom units   \n",
       "50        Apartment structures of six units and over    Two bedroom units   \n",
       "51        Apartment structures of six units and over  Three bedroom units   \n",
       "69        Apartment structures of six units and over    One bedroom units   \n",
       "...                                              ...                  ...   \n",
       "122355  Apartment structures of three units and over  Three bedroom units   \n",
       "122356    Apartment structures of six units and over       Bachelor units   \n",
       "122357    Apartment structures of six units and over    One bedroom units   \n",
       "122358    Apartment structures of six units and over    Two bedroom units   \n",
       "122359    Apartment structures of six units and over  Three bedroom units   \n",
       "\n",
       "            UOM  UOM_ID SCALAR_FACTOR  SCALAR_ID    VECTOR COORDINATE   \n",
       "34      Dollars      81         units          0  v3824924      2.4.3  \\\n",
       "49      Dollars      81         units          0  v3824688      3.4.2   \n",
       "50      Dollars      81         units          0  v3824876      3.4.3   \n",
       "51      Dollars      81         units          0  v3825064      3.4.4   \n",
       "69      Dollars      81         units          0  v3824749      5.4.2   \n",
       "...         ...     ...           ...        ...       ...        ...   \n",
       "122355  Dollars      81         units          0  v3824416    188.1.4   \n",
       "122356  Dollars      81         units          0  v3824602    188.4.1   \n",
       "122357  Dollars      81         units          0  v3824790    188.4.2   \n",
       "122358  Dollars      81         units          0  v3824978    188.4.3   \n",
       "122359  Dollars      81         units          0  v3825166    188.4.4   \n",
       "\n",
       "        MONTHLY RENT STATUS  SYMBOL TERMINATED  DECIMALS   \n",
       "34             480.0    NaN     NaN        NaN         0  \\\n",
       "49             370.0    NaN     NaN        NaN         0   \n",
       "50             414.0    NaN     NaN        NaN         0   \n",
       "51             414.0    NaN     NaN        NaN         0   \n",
       "69             254.0    NaN     NaN          t         0   \n",
       "...              ...    ...     ...        ...       ...   \n",
       "122355        2133.0    NaN     NaN        NaN         0   \n",
       "122356        1279.0    NaN     NaN        NaN         0   \n",
       "122357        1563.0    NaN     NaN        NaN         0   \n",
       "122358        1820.0    NaN     NaN        NaN         0   \n",
       "122359        2120.0    NaN     NaN        NaN         0   \n",
       "\n",
       "                         PROVINCE  PROVINCE CODE  # of Rooms  \n",
       "34      Newfoundland and Labrador            709           2  \n",
       "49      Newfoundland and Labrador            709           1  \n",
       "50      Newfoundland and Labrador            709           2  \n",
       "51      Newfoundland and Labrador            709           3  \n",
       "69      Newfoundland and Labrador            709           1  \n",
       "...                           ...            ...         ...  \n",
       "122355      Northwest Territories            867           3  \n",
       "122356      Northwest Territories            867           0  \n",
       "122357      Northwest Territories            867           1  \n",
       "122358      Northwest Territories            867           2  \n",
       "122359      Northwest Territories            867           3  \n",
       "\n",
       "[66578 rows x 19 columns]"
      ]
     },
     "execution_count": 2,
     "metadata": {},
     "output_type": "execute_result"
    }
   ],
   "source": [
    "prov_codes = {'Alberta': 403,'Saskatchewan':639,'Saskatchewan/Alberta':403,'Quebec':514,'Ontario':249,'Ontario/Quebec':249,'Manitoba':204,'New Brunswick':506,'New Brunswick/Quebec':506,'Newfoundland and Labrador':709,'Northwest Territories':867,'Prince Edward Island':902,'Nova Scotia':902,'British Columbia':778}\n",
    "Rooms = {'Bachelor units':0,'One bedroom units':1,'Two bedroom units':2,'Three bedroom units':3}\n",
    "dataset = pd.read_csv('/https://raw.githubusercontent.com/callysto/data-files/main/data-viz-of-the-week/canada-rent/canada-rent.csv')\n",
    "\n",
    "dataset = dataset[dataset['VALUE'].notna()]\n",
    "dataset.rename(columns={'REF_DATE':'YEAR','VALUE':'MONTHLY RENT'},inplace=True)\n",
    "dataset['PROVINCE'] = dataset['GEO'].map(lambda x: x.split(', ')[-1])\n",
    "dataset['PROVINCE'].replace('Saskachewan/Alberta','Saskatchewan/Alberta',inplace=True)\n",
    "dataset['PROVINCE CODE'] = dataset['PROVINCE'].map(lambda x: prov_codes[x])\n",
    "dataset['# of Rooms'] = dataset['Type of unit'].map(lambda x:Rooms[x])\n",
    "\n",
    "dataset"
   ]
  },
  {
   "cell_type": "code",
   "execution_count": 3,
   "metadata": {},
   "outputs": [
    {
     "data": {
      "text/html": [
       "<div>\n",
       "<style scoped>\n",
       "    .dataframe tbody tr th:only-of-type {\n",
       "        vertical-align: middle;\n",
       "    }\n",
       "\n",
       "    .dataframe tbody tr th {\n",
       "        vertical-align: top;\n",
       "    }\n",
       "\n",
       "    .dataframe thead th {\n",
       "        text-align: right;\n",
       "    }\n",
       "</style>\n",
       "<table border=\"1\" class=\"dataframe\">\n",
       "  <thead>\n",
       "    <tr style=\"text-align: right;\">\n",
       "      <th></th>\n",
       "      <th>PROVINCE</th>\n",
       "      <th>YEAR</th>\n",
       "      <th>Type of unit</th>\n",
       "      <th>MONTHLY RENT</th>\n",
       "      <th>PROVINCE CODE</th>\n",
       "      <th># of Rooms</th>\n",
       "    </tr>\n",
       "  </thead>\n",
       "  <tbody>\n",
       "    <tr>\n",
       "      <th>0</th>\n",
       "      <td>Alberta</td>\n",
       "      <td>1987</td>\n",
       "      <td>Bachelor units</td>\n",
       "      <td>318.500000</td>\n",
       "      <td>403.0</td>\n",
       "      <td>0.0</td>\n",
       "    </tr>\n",
       "    <tr>\n",
       "      <th>1</th>\n",
       "      <td>Alberta</td>\n",
       "      <td>1987</td>\n",
       "      <td>One bedroom units</td>\n",
       "      <td>372.444444</td>\n",
       "      <td>403.0</td>\n",
       "      <td>1.0</td>\n",
       "    </tr>\n",
       "    <tr>\n",
       "      <th>2</th>\n",
       "      <td>Alberta</td>\n",
       "      <td>1987</td>\n",
       "      <td>Three bedroom units</td>\n",
       "      <td>523.625000</td>\n",
       "      <td>403.0</td>\n",
       "      <td>3.0</td>\n",
       "    </tr>\n",
       "    <tr>\n",
       "      <th>3</th>\n",
       "      <td>Alberta</td>\n",
       "      <td>1987</td>\n",
       "      <td>Two bedroom units</td>\n",
       "      <td>448.000000</td>\n",
       "      <td>403.0</td>\n",
       "      <td>2.0</td>\n",
       "    </tr>\n",
       "    <tr>\n",
       "      <th>4</th>\n",
       "      <td>Alberta</td>\n",
       "      <td>1988</td>\n",
       "      <td>Bachelor units</td>\n",
       "      <td>309.000000</td>\n",
       "      <td>403.0</td>\n",
       "      <td>0.0</td>\n",
       "    </tr>\n",
       "    <tr>\n",
       "      <th>...</th>\n",
       "      <td>...</td>\n",
       "      <td>...</td>\n",
       "      <td>...</td>\n",
       "      <td>...</td>\n",
       "      <td>...</td>\n",
       "      <td>...</td>\n",
       "    </tr>\n",
       "    <tr>\n",
       "      <th>1954</th>\n",
       "      <td>Saskatchewan/Alberta</td>\n",
       "      <td>2021</td>\n",
       "      <td>Two bedroom units</td>\n",
       "      <td>1000.142857</td>\n",
       "      <td>403.0</td>\n",
       "      <td>2.0</td>\n",
       "    </tr>\n",
       "    <tr>\n",
       "      <th>1955</th>\n",
       "      <td>Saskatchewan/Alberta</td>\n",
       "      <td>2022</td>\n",
       "      <td>Bachelor units</td>\n",
       "      <td>703.000000</td>\n",
       "      <td>403.0</td>\n",
       "      <td>0.0</td>\n",
       "    </tr>\n",
       "    <tr>\n",
       "      <th>1956</th>\n",
       "      <td>Saskatchewan/Alberta</td>\n",
       "      <td>2022</td>\n",
       "      <td>One bedroom units</td>\n",
       "      <td>956.500000</td>\n",
       "      <td>403.0</td>\n",
       "      <td>1.0</td>\n",
       "    </tr>\n",
       "    <tr>\n",
       "      <th>1957</th>\n",
       "      <td>Saskatchewan/Alberta</td>\n",
       "      <td>2022</td>\n",
       "      <td>Three bedroom units</td>\n",
       "      <td>1262.500000</td>\n",
       "      <td>403.0</td>\n",
       "      <td>3.0</td>\n",
       "    </tr>\n",
       "    <tr>\n",
       "      <th>1958</th>\n",
       "      <td>Saskatchewan/Alberta</td>\n",
       "      <td>2022</td>\n",
       "      <td>Two bedroom units</td>\n",
       "      <td>1014.000000</td>\n",
       "      <td>403.0</td>\n",
       "      <td>2.0</td>\n",
       "    </tr>\n",
       "  </tbody>\n",
       "</table>\n",
       "<p>1959 rows × 6 columns</p>\n",
       "</div>"
      ],
      "text/plain": [
       "                  PROVINCE  YEAR         Type of unit  MONTHLY RENT   \n",
       "0                  Alberta  1987       Bachelor units    318.500000  \\\n",
       "1                  Alberta  1987    One bedroom units    372.444444   \n",
       "2                  Alberta  1987  Three bedroom units    523.625000   \n",
       "3                  Alberta  1987    Two bedroom units    448.000000   \n",
       "4                  Alberta  1988       Bachelor units    309.000000   \n",
       "...                    ...   ...                  ...           ...   \n",
       "1954  Saskatchewan/Alberta  2021    Two bedroom units   1000.142857   \n",
       "1955  Saskatchewan/Alberta  2022       Bachelor units    703.000000   \n",
       "1956  Saskatchewan/Alberta  2022    One bedroom units    956.500000   \n",
       "1957  Saskatchewan/Alberta  2022  Three bedroom units   1262.500000   \n",
       "1958  Saskatchewan/Alberta  2022    Two bedroom units   1014.000000   \n",
       "\n",
       "      PROVINCE CODE  # of Rooms  \n",
       "0             403.0         0.0  \n",
       "1             403.0         1.0  \n",
       "2             403.0         3.0  \n",
       "3             403.0         2.0  \n",
       "4             403.0         0.0  \n",
       "...             ...         ...  \n",
       "1954          403.0         2.0  \n",
       "1955          403.0         0.0  \n",
       "1956          403.0         1.0  \n",
       "1957          403.0         3.0  \n",
       "1958          403.0         2.0  \n",
       "\n",
       "[1959 rows x 6 columns]"
      ]
     },
     "execution_count": 3,
     "metadata": {},
     "output_type": "execute_result"
    }
   ],
   "source": [
    "grouped = dataset.groupby(['PROVINCE','YEAR','Type of unit'])[['MONTHLY RENT','PROVINCE CODE','# of Rooms']].mean().reset_index()\n",
    "grouped"
   ]
  },
  {
   "cell_type": "code",
   "execution_count": 4,
   "metadata": {},
   "outputs": [
    {
     "data": {
      "application/vnd.plotly.v1+json": {
       "config": {
        "plotlyServerURL": "https://plot.ly"
       },
       "data": [
        {
         "hovertemplate": "Type of unit=Bachelor units<br>YEAR=%{x}<br>MONTHLY RENT=%{y}<extra></extra>",
         "legendgroup": "Bachelor units",
         "line": {
          "color": "#636efa",
          "dash": "solid"
         },
         "marker": {
          "symbol": "circle"
         },
         "mode": "lines",
         "name": "Bachelor units",
         "orientation": "v",
         "showlegend": true,
         "type": "scatter",
         "x": [
          1987,
          1988,
          1989,
          1990,
          1991,
          1992,
          1993,
          1994,
          1995,
          1996,
          1997,
          1998,
          1999,
          2000,
          2001,
          2002,
          2003,
          2004,
          2005,
          2006,
          2007,
          2008,
          2009,
          2010,
          2011,
          2012,
          2013,
          2014,
          2015,
          2016,
          2017,
          2018,
          2019,
          2020,
          2021,
          2022
         ],
         "xaxis": "x",
         "y": [
          286,
          302.3333333333333,
          309.6666666666667,
          306.3333333333333,
          334,
          332,
          340,
          343.8888888888889,
          347.8888888888889,
          352.44444444444446,
          352.1111111111111,
          356.77777777777777,
          357.3333333333333,
          350.09090909090907,
          370.75,
          361.54545454545456,
          393.5,
          383.875,
          380.45454545454544,
          385.0769230769231,
          399.4166666666667,
          394,
          410.1333333333333,
          450.73333333333335,
          460.92857142857144,
          491.375,
          528.1538461538462,
          517.8125,
          549.875,
          569.125,
          586,
          618.75,
          644.75,
          654,
          680.25,
          683.4375
         ],
         "yaxis": "y"
        },
        {
         "hovertemplate": "Type of unit=One bedroom units<br>YEAR=%{x}<br>MONTHLY RENT=%{y}<extra></extra>",
         "legendgroup": "One bedroom units",
         "line": {
          "color": "#EF553B",
          "dash": "solid"
         },
         "marker": {
          "symbol": "circle"
         },
         "mode": "lines",
         "name": "One bedroom units",
         "orientation": "v",
         "showlegend": true,
         "type": "scatter",
         "x": [
          1987,
          1988,
          1989,
          1990,
          1991,
          1992,
          1993,
          1994,
          1995,
          1996,
          1997,
          1998,
          1999,
          2000,
          2001,
          2002,
          2003,
          2004,
          2005,
          2006,
          2007,
          2008,
          2009,
          2010,
          2011,
          2012,
          2013,
          2014,
          2015,
          2016,
          2017,
          2018,
          2019,
          2020,
          2021,
          2022
         ],
         "xaxis": "x",
         "y": [
          367.4,
          386.5,
          402.5,
          405.5,
          420.5,
          423.0769230769231,
          426.0833333333333,
          427,
          427.5833333333333,
          431.0833333333333,
          434.2142857142857,
          447.38461538461536,
          439.4166666666667,
          446.3333333333333,
          453.0833333333333,
          463.4166666666667,
          469.3333333333333,
          482.5833333333333,
          486.84615384615387,
          501.85714285714283,
          519.5714285714286,
          532.2941176470588,
          555.1875,
          582.7058823529412,
          589.1875,
          617.2941176470588,
          664.4615384615385,
          675.9411764705883,
          703.3529411764706,
          710.3529411764706,
          735.5625,
          746.7368421052631,
          783.7222222222222,
          809.3888888888889,
          832.7777777777778,
          886.2777777777778
         ],
         "yaxis": "y"
        },
        {
         "hovertemplate": "Type of unit=Three bedroom units<br>YEAR=%{x}<br>MONTHLY RENT=%{y}<extra></extra>",
         "legendgroup": "Three bedroom units",
         "line": {
          "color": "#00cc96",
          "dash": "solid"
         },
         "marker": {
          "symbol": "circle"
         },
         "mode": "lines",
         "name": "Three bedroom units",
         "orientation": "v",
         "showlegend": true,
         "type": "scatter",
         "x": [
          1987,
          1988,
          1989,
          1990,
          1991,
          1992,
          1993,
          1994,
          1995,
          1996,
          1997,
          1998,
          1999,
          2000,
          2001,
          2002,
          2003,
          2004,
          2005,
          2006,
          2007,
          2008,
          2009,
          2010,
          2011,
          2012,
          2013,
          2014,
          2015,
          2016,
          2017,
          2018,
          2019,
          2020,
          2021,
          2022
         ],
         "xaxis": "x",
         "y": [
          610,
          511,
          538.6666666666666,
          543,
          561.3333333333334,
          535.5714285714286,
          543.2857142857143,
          547.5714285714286,
          552.5714285714286,
          553.6,
          571.6666666666666,
          576.7142857142857,
          567.6153846153846,
          588.3846153846154,
          597.3846153846154,
          595.8,
          603.0666666666667,
          614.2,
          632.7333333333333,
          655.875,
          676.125,
          733.9411764705883,
          742.6875,
          834.6875,
          851.375,
          892.4736842105264,
          944.3888888888889,
          973.7222222222222,
          1042.15,
          1062.2777777777778,
          1090.95,
          1116.4,
          1162.2,
          1255.952380952381,
          1280.8636363636363,
          1333.7
         ],
         "yaxis": "y"
        },
        {
         "hovertemplate": "Type of unit=Two bedroom units<br>YEAR=%{x}<br>MONTHLY RENT=%{y}<extra></extra>",
         "legendgroup": "Two bedroom units",
         "line": {
          "color": "#ab63fa",
          "dash": "solid"
         },
         "marker": {
          "symbol": "circle"
         },
         "mode": "lines",
         "name": "Two bedroom units",
         "orientation": "v",
         "showlegend": true,
         "type": "scatter",
         "x": [
          1987,
          1988,
          1989,
          1990,
          1991,
          1992,
          1993,
          1994,
          1995,
          1996,
          1997,
          1998,
          1999,
          2000,
          2001,
          2002,
          2003,
          2004,
          2005,
          2006,
          2007,
          2008,
          2009,
          2010,
          2011,
          2012,
          2013,
          2014,
          2015,
          2016,
          2017,
          2018,
          2019,
          2020,
          2021,
          2022
         ],
         "xaxis": "x",
         "y": [
          445,
          460,
          475.5,
          486.25,
          501,
          507.6923076923077,
          513.4615384615385,
          516.0769230769231,
          519.6923076923077,
          521.8461538461538,
          528.2142857142857,
          533,
          538.1538461538462,
          542.9285714285714,
          556.5,
          568.0666666666667,
          579.5,
          598.4,
          611.8,
          632.0666666666667,
          650.2666666666667,
          663.8235294117648,
          694.8235294117648,
          721.8333333333334,
          743.6666666666666,
          777.2,
          807,
          829.5238095238095,
          857.95,
          875.578947368421,
          911.5555555555555,
          934.95,
          962.55,
          1030.2,
          1053.35,
          1117.7368421052631
         ],
         "yaxis": "y"
        }
       ],
       "layout": {
        "legend": {
         "title": {
          "text": "Type of unit"
         },
         "tracegroupgap": 0
        },
        "template": {
         "data": {
          "bar": [
           {
            "error_x": {
             "color": "#2a3f5f"
            },
            "error_y": {
             "color": "#2a3f5f"
            },
            "marker": {
             "line": {
              "color": "#E5ECF6",
              "width": 0.5
             },
             "pattern": {
              "fillmode": "overlay",
              "size": 10,
              "solidity": 0.2
             }
            },
            "type": "bar"
           }
          ],
          "barpolar": [
           {
            "marker": {
             "line": {
              "color": "#E5ECF6",
              "width": 0.5
             },
             "pattern": {
              "fillmode": "overlay",
              "size": 10,
              "solidity": 0.2
             }
            },
            "type": "barpolar"
           }
          ],
          "carpet": [
           {
            "aaxis": {
             "endlinecolor": "#2a3f5f",
             "gridcolor": "white",
             "linecolor": "white",
             "minorgridcolor": "white",
             "startlinecolor": "#2a3f5f"
            },
            "baxis": {
             "endlinecolor": "#2a3f5f",
             "gridcolor": "white",
             "linecolor": "white",
             "minorgridcolor": "white",
             "startlinecolor": "#2a3f5f"
            },
            "type": "carpet"
           }
          ],
          "choropleth": [
           {
            "colorbar": {
             "outlinewidth": 0,
             "ticks": ""
            },
            "type": "choropleth"
           }
          ],
          "contour": [
           {
            "colorbar": {
             "outlinewidth": 0,
             "ticks": ""
            },
            "colorscale": [
             [
              0,
              "#0d0887"
             ],
             [
              0.1111111111111111,
              "#46039f"
             ],
             [
              0.2222222222222222,
              "#7201a8"
             ],
             [
              0.3333333333333333,
              "#9c179e"
             ],
             [
              0.4444444444444444,
              "#bd3786"
             ],
             [
              0.5555555555555556,
              "#d8576b"
             ],
             [
              0.6666666666666666,
              "#ed7953"
             ],
             [
              0.7777777777777778,
              "#fb9f3a"
             ],
             [
              0.8888888888888888,
              "#fdca26"
             ],
             [
              1,
              "#f0f921"
             ]
            ],
            "type": "contour"
           }
          ],
          "contourcarpet": [
           {
            "colorbar": {
             "outlinewidth": 0,
             "ticks": ""
            },
            "type": "contourcarpet"
           }
          ],
          "heatmap": [
           {
            "colorbar": {
             "outlinewidth": 0,
             "ticks": ""
            },
            "colorscale": [
             [
              0,
              "#0d0887"
             ],
             [
              0.1111111111111111,
              "#46039f"
             ],
             [
              0.2222222222222222,
              "#7201a8"
             ],
             [
              0.3333333333333333,
              "#9c179e"
             ],
             [
              0.4444444444444444,
              "#bd3786"
             ],
             [
              0.5555555555555556,
              "#d8576b"
             ],
             [
              0.6666666666666666,
              "#ed7953"
             ],
             [
              0.7777777777777778,
              "#fb9f3a"
             ],
             [
              0.8888888888888888,
              "#fdca26"
             ],
             [
              1,
              "#f0f921"
             ]
            ],
            "type": "heatmap"
           }
          ],
          "heatmapgl": [
           {
            "colorbar": {
             "outlinewidth": 0,
             "ticks": ""
            },
            "colorscale": [
             [
              0,
              "#0d0887"
             ],
             [
              0.1111111111111111,
              "#46039f"
             ],
             [
              0.2222222222222222,
              "#7201a8"
             ],
             [
              0.3333333333333333,
              "#9c179e"
             ],
             [
              0.4444444444444444,
              "#bd3786"
             ],
             [
              0.5555555555555556,
              "#d8576b"
             ],
             [
              0.6666666666666666,
              "#ed7953"
             ],
             [
              0.7777777777777778,
              "#fb9f3a"
             ],
             [
              0.8888888888888888,
              "#fdca26"
             ],
             [
              1,
              "#f0f921"
             ]
            ],
            "type": "heatmapgl"
           }
          ],
          "histogram": [
           {
            "marker": {
             "pattern": {
              "fillmode": "overlay",
              "size": 10,
              "solidity": 0.2
             }
            },
            "type": "histogram"
           }
          ],
          "histogram2d": [
           {
            "colorbar": {
             "outlinewidth": 0,
             "ticks": ""
            },
            "colorscale": [
             [
              0,
              "#0d0887"
             ],
             [
              0.1111111111111111,
              "#46039f"
             ],
             [
              0.2222222222222222,
              "#7201a8"
             ],
             [
              0.3333333333333333,
              "#9c179e"
             ],
             [
              0.4444444444444444,
              "#bd3786"
             ],
             [
              0.5555555555555556,
              "#d8576b"
             ],
             [
              0.6666666666666666,
              "#ed7953"
             ],
             [
              0.7777777777777778,
              "#fb9f3a"
             ],
             [
              0.8888888888888888,
              "#fdca26"
             ],
             [
              1,
              "#f0f921"
             ]
            ],
            "type": "histogram2d"
           }
          ],
          "histogram2dcontour": [
           {
            "colorbar": {
             "outlinewidth": 0,
             "ticks": ""
            },
            "colorscale": [
             [
              0,
              "#0d0887"
             ],
             [
              0.1111111111111111,
              "#46039f"
             ],
             [
              0.2222222222222222,
              "#7201a8"
             ],
             [
              0.3333333333333333,
              "#9c179e"
             ],
             [
              0.4444444444444444,
              "#bd3786"
             ],
             [
              0.5555555555555556,
              "#d8576b"
             ],
             [
              0.6666666666666666,
              "#ed7953"
             ],
             [
              0.7777777777777778,
              "#fb9f3a"
             ],
             [
              0.8888888888888888,
              "#fdca26"
             ],
             [
              1,
              "#f0f921"
             ]
            ],
            "type": "histogram2dcontour"
           }
          ],
          "mesh3d": [
           {
            "colorbar": {
             "outlinewidth": 0,
             "ticks": ""
            },
            "type": "mesh3d"
           }
          ],
          "parcoords": [
           {
            "line": {
             "colorbar": {
              "outlinewidth": 0,
              "ticks": ""
             }
            },
            "type": "parcoords"
           }
          ],
          "pie": [
           {
            "automargin": true,
            "type": "pie"
           }
          ],
          "scatter": [
           {
            "fillpattern": {
             "fillmode": "overlay",
             "size": 10,
             "solidity": 0.2
            },
            "type": "scatter"
           }
          ],
          "scatter3d": [
           {
            "line": {
             "colorbar": {
              "outlinewidth": 0,
              "ticks": ""
             }
            },
            "marker": {
             "colorbar": {
              "outlinewidth": 0,
              "ticks": ""
             }
            },
            "type": "scatter3d"
           }
          ],
          "scattercarpet": [
           {
            "marker": {
             "colorbar": {
              "outlinewidth": 0,
              "ticks": ""
             }
            },
            "type": "scattercarpet"
           }
          ],
          "scattergeo": [
           {
            "marker": {
             "colorbar": {
              "outlinewidth": 0,
              "ticks": ""
             }
            },
            "type": "scattergeo"
           }
          ],
          "scattergl": [
           {
            "marker": {
             "colorbar": {
              "outlinewidth": 0,
              "ticks": ""
             }
            },
            "type": "scattergl"
           }
          ],
          "scattermapbox": [
           {
            "marker": {
             "colorbar": {
              "outlinewidth": 0,
              "ticks": ""
             }
            },
            "type": "scattermapbox"
           }
          ],
          "scatterpolar": [
           {
            "marker": {
             "colorbar": {
              "outlinewidth": 0,
              "ticks": ""
             }
            },
            "type": "scatterpolar"
           }
          ],
          "scatterpolargl": [
           {
            "marker": {
             "colorbar": {
              "outlinewidth": 0,
              "ticks": ""
             }
            },
            "type": "scatterpolargl"
           }
          ],
          "scatterternary": [
           {
            "marker": {
             "colorbar": {
              "outlinewidth": 0,
              "ticks": ""
             }
            },
            "type": "scatterternary"
           }
          ],
          "surface": [
           {
            "colorbar": {
             "outlinewidth": 0,
             "ticks": ""
            },
            "colorscale": [
             [
              0,
              "#0d0887"
             ],
             [
              0.1111111111111111,
              "#46039f"
             ],
             [
              0.2222222222222222,
              "#7201a8"
             ],
             [
              0.3333333333333333,
              "#9c179e"
             ],
             [
              0.4444444444444444,
              "#bd3786"
             ],
             [
              0.5555555555555556,
              "#d8576b"
             ],
             [
              0.6666666666666666,
              "#ed7953"
             ],
             [
              0.7777777777777778,
              "#fb9f3a"
             ],
             [
              0.8888888888888888,
              "#fdca26"
             ],
             [
              1,
              "#f0f921"
             ]
            ],
            "type": "surface"
           }
          ],
          "table": [
           {
            "cells": {
             "fill": {
              "color": "#EBF0F8"
             },
             "line": {
              "color": "white"
             }
            },
            "header": {
             "fill": {
              "color": "#C8D4E3"
             },
             "line": {
              "color": "white"
             }
            },
            "type": "table"
           }
          ]
         },
         "layout": {
          "annotationdefaults": {
           "arrowcolor": "#2a3f5f",
           "arrowhead": 0,
           "arrowwidth": 1
          },
          "autotypenumbers": "strict",
          "coloraxis": {
           "colorbar": {
            "outlinewidth": 0,
            "ticks": ""
           }
          },
          "colorscale": {
           "diverging": [
            [
             0,
             "#8e0152"
            ],
            [
             0.1,
             "#c51b7d"
            ],
            [
             0.2,
             "#de77ae"
            ],
            [
             0.3,
             "#f1b6da"
            ],
            [
             0.4,
             "#fde0ef"
            ],
            [
             0.5,
             "#f7f7f7"
            ],
            [
             0.6,
             "#e6f5d0"
            ],
            [
             0.7,
             "#b8e186"
            ],
            [
             0.8,
             "#7fbc41"
            ],
            [
             0.9,
             "#4d9221"
            ],
            [
             1,
             "#276419"
            ]
           ],
           "sequential": [
            [
             0,
             "#0d0887"
            ],
            [
             0.1111111111111111,
             "#46039f"
            ],
            [
             0.2222222222222222,
             "#7201a8"
            ],
            [
             0.3333333333333333,
             "#9c179e"
            ],
            [
             0.4444444444444444,
             "#bd3786"
            ],
            [
             0.5555555555555556,
             "#d8576b"
            ],
            [
             0.6666666666666666,
             "#ed7953"
            ],
            [
             0.7777777777777778,
             "#fb9f3a"
            ],
            [
             0.8888888888888888,
             "#fdca26"
            ],
            [
             1,
             "#f0f921"
            ]
           ],
           "sequentialminus": [
            [
             0,
             "#0d0887"
            ],
            [
             0.1111111111111111,
             "#46039f"
            ],
            [
             0.2222222222222222,
             "#7201a8"
            ],
            [
             0.3333333333333333,
             "#9c179e"
            ],
            [
             0.4444444444444444,
             "#bd3786"
            ],
            [
             0.5555555555555556,
             "#d8576b"
            ],
            [
             0.6666666666666666,
             "#ed7953"
            ],
            [
             0.7777777777777778,
             "#fb9f3a"
            ],
            [
             0.8888888888888888,
             "#fdca26"
            ],
            [
             1,
             "#f0f921"
            ]
           ]
          },
          "colorway": [
           "#636efa",
           "#EF553B",
           "#00cc96",
           "#ab63fa",
           "#FFA15A",
           "#19d3f3",
           "#FF6692",
           "#B6E880",
           "#FF97FF",
           "#FECB52"
          ],
          "font": {
           "color": "#2a3f5f"
          },
          "geo": {
           "bgcolor": "white",
           "lakecolor": "white",
           "landcolor": "#E5ECF6",
           "showlakes": true,
           "showland": true,
           "subunitcolor": "white"
          },
          "hoverlabel": {
           "align": "left"
          },
          "hovermode": "closest",
          "mapbox": {
           "style": "light"
          },
          "paper_bgcolor": "white",
          "plot_bgcolor": "#E5ECF6",
          "polar": {
           "angularaxis": {
            "gridcolor": "white",
            "linecolor": "white",
            "ticks": ""
           },
           "bgcolor": "#E5ECF6",
           "radialaxis": {
            "gridcolor": "white",
            "linecolor": "white",
            "ticks": ""
           }
          },
          "scene": {
           "xaxis": {
            "backgroundcolor": "#E5ECF6",
            "gridcolor": "white",
            "gridwidth": 2,
            "linecolor": "white",
            "showbackground": true,
            "ticks": "",
            "zerolinecolor": "white"
           },
           "yaxis": {
            "backgroundcolor": "#E5ECF6",
            "gridcolor": "white",
            "gridwidth": 2,
            "linecolor": "white",
            "showbackground": true,
            "ticks": "",
            "zerolinecolor": "white"
           },
           "zaxis": {
            "backgroundcolor": "#E5ECF6",
            "gridcolor": "white",
            "gridwidth": 2,
            "linecolor": "white",
            "showbackground": true,
            "ticks": "",
            "zerolinecolor": "white"
           }
          },
          "shapedefaults": {
           "line": {
            "color": "#2a3f5f"
           }
          },
          "ternary": {
           "aaxis": {
            "gridcolor": "white",
            "linecolor": "white",
            "ticks": ""
           },
           "baxis": {
            "gridcolor": "white",
            "linecolor": "white",
            "ticks": ""
           },
           "bgcolor": "#E5ECF6",
           "caxis": {
            "gridcolor": "white",
            "linecolor": "white",
            "ticks": ""
           }
          },
          "title": {
           "x": 0.05
          },
          "xaxis": {
           "automargin": true,
           "gridcolor": "white",
           "linecolor": "white",
           "ticks": "",
           "title": {
            "standoff": 15
           },
           "zerolinecolor": "white",
           "zerolinewidth": 2
          },
          "yaxis": {
           "automargin": true,
           "gridcolor": "white",
           "linecolor": "white",
           "ticks": "",
           "title": {
            "standoff": 15
           },
           "zerolinecolor": "white",
           "zerolinewidth": 2
          }
         }
        },
        "title": {
         "text": "Average Monthly Rent of Manitoba through the Years"
        },
        "xaxis": {
         "anchor": "y",
         "domain": [
          0,
          1
         ],
         "title": {
          "text": "YEAR"
         }
        },
        "yaxis": {
         "anchor": "x",
         "domain": [
          0,
          1
         ],
         "title": {
          "text": "MONTHLY RENT"
         }
        }
       }
      }
     },
     "metadata": {},
     "output_type": "display_data"
    }
   ],
   "source": [
    "province = 'Manitoba' #change this to any province you'd like\n",
    "\n",
    "province_grouped = grouped.loc[grouped['PROVINCE'] == province]\n",
    "px.line(province_grouped,x='YEAR',y='MONTHLY RENT',color='Type of unit', title='Average Monthly Rent of ' + province + ' through the Years')"
   ]
  },
  {
   "cell_type": "code",
   "execution_count": 5,
   "metadata": {},
   "outputs": [
    {
     "data": {
      "application/vnd.plotly.v1+json": {
       "config": {
        "plotlyServerURL": "https://plot.ly"
       },
       "data": [
        {
         "alignmentgroup": "True",
         "hovertemplate": "PROVINCE=Alberta<br>YEAR=%{x}<br>MONTHLY RENT=%{y}<extra></extra>",
         "legendgroup": "Alberta",
         "marker": {
          "color": "#636efa",
          "pattern": {
           "shape": ""
          }
         },
         "name": "Alberta",
         "offsetgroup": "Alberta",
         "orientation": "v",
         "showlegend": true,
         "textposition": "auto",
         "type": "bar",
         "x": [
          1987,
          1988,
          1989,
          1990,
          1991,
          1992,
          1993,
          1994,
          1995,
          1996,
          1997,
          1998,
          1999,
          2000,
          2001,
          2002,
          2003,
          2004,
          2005,
          2006,
          2007,
          2008,
          2009,
          2010,
          2011,
          2012,
          2013,
          2014,
          2015,
          2016,
          2017,
          2018,
          2019,
          2020,
          2021,
          2022
         ],
         "xaxis": "x",
         "y": [
          415.6423611111111,
          406.5833333333333,
          420.0763888888889,
          432.25,
          446.44444444444446,
          443.34120430386315,
          448.5193462693463,
          448.5858352696588,
          452.84833916083915,
          456.5213185753113,
          473.70857007188675,
          502.5207676818916,
          509.96723279670766,
          546.3481772613352,
          587.1532356532357,
          612.3071919949969,
          620.2089513556618,
          634.7842853064221,
          671.0578867137356,
          734.877512546402,
          855.6868034447821,
          887.740438340152,
          869.0767721234474,
          867.882443019943,
          861.4030885617819,
          896.2089635920253,
          949.363170189099,
          1002.0288065530533,
          990.0188218390804,
          950.3335670913602,
          951.5071689692826,
          971.1439638814369,
          993.72993570637,
          1009.5133927474822,
          1019.7336880988954,
          1089.5729967722468
         ],
         "yaxis": "y"
        },
        {
         "alignmentgroup": "True",
         "hovertemplate": "PROVINCE=British Columbia<br>YEAR=%{x}<br>MONTHLY RENT=%{y}<extra></extra>",
         "legendgroup": "British Columbia",
         "marker": {
          "color": "#EF553B",
          "pattern": {
           "shape": ""
          }
         },
         "name": "British Columbia",
         "offsetgroup": "British Columbia",
         "orientation": "v",
         "showlegend": true,
         "textposition": "auto",
         "type": "bar",
         "x": [
          1987,
          1988,
          1989,
          1990,
          1991,
          1992,
          1993,
          1994,
          1995,
          1996,
          1997,
          1998,
          1999,
          2000,
          2001,
          2002,
          2003,
          2004,
          2005,
          2006,
          2007,
          2008,
          2009,
          2010,
          2011,
          2012,
          2013,
          2014,
          2015,
          2016,
          2017,
          2018,
          2019,
          2020,
          2021,
          2022
         ],
         "xaxis": "x",
         "y": [
          289.90150857914017,
          303.7859195402299,
          332.7678571428571,
          367.3004531388152,
          394.5571120689655,
          459.02232360662595,
          476.6221803048097,
          493.7209845176772,
          505.8566345006308,
          510.37061789597226,
          513.5306412337662,
          508.11616954474096,
          506.5861882775209,
          503.80157342657344,
          507.6437228641196,
          536.0567777514232,
          544.1717097913906,
          556.8940243525502,
          574.906053187404,
          602.2201439302279,
          647.0311379097093,
          685.478864135083,
          696.4874421111466,
          709.7496516557351,
          724.9076457272213,
          745.1309425406213,
          760.6133900996663,
          779.168791977337,
          804.7804248595505,
          827.2822271467741,
          869.1420068352892,
          924.5250231188136,
          979.6419864669567,
          1033.4318973950003,
          1111.5874589765908,
          1206.811596062235
         ],
         "yaxis": "y"
        },
        {
         "alignmentgroup": "True",
         "hovertemplate": "PROVINCE=Manitoba<br>YEAR=%{x}<br>MONTHLY RENT=%{y}<extra></extra>",
         "legendgroup": "Manitoba",
         "marker": {
          "color": "#00cc96",
          "pattern": {
           "shape": ""
          }
         },
         "name": "Manitoba",
         "offsetgroup": "Manitoba",
         "orientation": "v",
         "showlegend": true,
         "textposition": "auto",
         "type": "bar",
         "x": [
          1987,
          1988,
          1989,
          1990,
          1991,
          1992,
          1993,
          1994,
          1995,
          1996,
          1997,
          1998,
          1999,
          2000,
          2001,
          2002,
          2003,
          2004,
          2005,
          2006,
          2007,
          2008,
          2009,
          2010,
          2011,
          2012,
          2013,
          2014,
          2015,
          2016,
          2017,
          2018,
          2019,
          2020,
          2021,
          2022
         ],
         "xaxis": "x",
         "y": [
          427.1,
          414.9583333333333,
          431.5833333333333,
          435.2708333333333,
          454.20833333333337,
          449.58516483516485,
          455.70764652014657,
          458.6343101343101,
          461.9339896214897,
          464.7434829059829,
          471.55158730158723,
          478.4691697191697,
          475.62980769230774,
          481.9343573093573,
          494.4294871794872,
          497.20719696969695,
          511.35,
          519.7645833333333,
          527.9585081585082,
          543.7189331501831,
          561.3449404761905,
          581.0147058823529,
          600.7079656862745,
          647.490012254902,
          661.2894345238095,
          694.5857004643963,
          736.0010683760684,
          749.249927054155,
          788.3319852941177,
          804.3336665806673,
          831.0170138888889,
          854.2092105263158,
          888.3055555555555,
          937.3853174603175,
          961.8103535353534,
          1005.2880299707602
         ],
         "yaxis": "y"
        },
        {
         "alignmentgroup": "True",
         "hovertemplate": "PROVINCE=New Brunswick<br>YEAR=%{x}<br>MONTHLY RENT=%{y}<extra></extra>",
         "legendgroup": "New Brunswick",
         "marker": {
          "color": "#ab63fa",
          "pattern": {
           "shape": ""
          }
         },
         "name": "New Brunswick",
         "offsetgroup": "New Brunswick",
         "orientation": "v",
         "showlegend": true,
         "textposition": "auto",
         "type": "bar",
         "x": [
          1987,
          1988,
          1989,
          1990,
          1991,
          1992,
          1993,
          1994,
          1995,
          1996,
          1997,
          1998,
          1999,
          2000,
          2001,
          2002,
          2003,
          2004,
          2005,
          2006,
          2007,
          2008,
          2009,
          2010,
          2011,
          2012,
          2013,
          2014,
          2015,
          2016,
          2017,
          2018,
          2019,
          2020,
          2021,
          2022
         ],
         "xaxis": "x",
         "y": [
          352.69166666666666,
          362.6,
          374.7,
          391.55,
          403.55,
          403.85,
          407.67058823529413,
          412.26806722689076,
          422.8574404761905,
          429.8799632352941,
          435.35061274509803,
          428.42214052287585,
          437.1828898225957,
          450.3286549707602,
          456.4136014054745,
          470.99122807017545,
          474.18239164086685,
          494.2166666666667,
          502.67594246031746,
          519.0320654577621,
          528.5640203449801,
          540.8665413533835,
          561.8099476632758,
          568.9531604747162,
          585.8613998230871,
          606.1364716939407,
          616.7058454960932,
          625.666164799253,
          638.8361076488011,
          662.4595588235294,
          656.1961521450686,
          700.9266369047618,
          721.3848684210526,
          737.2546439628483,
          804.6537741412354,
          878.025
         ],
         "yaxis": "y"
        },
        {
         "alignmentgroup": "True",
         "hovertemplate": "PROVINCE=New Brunswick/Quebec<br>YEAR=%{x}<br>MONTHLY RENT=%{y}<extra></extra>",
         "legendgroup": "New Brunswick/Quebec",
         "marker": {
          "color": "#FFA15A",
          "pattern": {
           "shape": ""
          }
         },
         "name": "New Brunswick/Quebec",
         "offsetgroup": "New Brunswick/Quebec",
         "orientation": "v",
         "showlegend": true,
         "textposition": "auto",
         "type": "bar",
         "x": [
          1988,
          1989,
          1990,
          1991,
          1992,
          1993,
          1994,
          1995,
          1996,
          1997,
          1998,
          1999,
          2000,
          2001,
          2002,
          2003,
          2004,
          2005,
          2006,
          2007,
          2008,
          2009,
          2010,
          2011,
          2012,
          2013,
          2014,
          2015,
          2016,
          2017,
          2018,
          2019,
          2020,
          2021,
          2022
         ],
         "xaxis": "x",
         "y": [
          292.5,
          339,
          367.25,
          387.5,
          376.3333333333333,
          409.5555555555556,
          382.75,
          405.22222222222223,
          392.8333333333333,
          393.8333333333333,
          399.91666666666663,
          402,
          493.5,
          409.33333333333337,
          419.6666666666667,
          417.4166666666667,
          424.16666666666663,
          420.3333333333333,
          445.75,
          458.25,
          466.91666666666663,
          501.25,
          485.8333333333333,
          520.8333333333334,
          520.4166666666666,
          527.25,
          553.1666666666666,
          534.0833333333334,
          550.75,
          563.6666666666666,
          618.3333333333334,
          623.4166666666667,
          663.3333333333334,
          668.4166666666666,
          713.6666666666666
         ],
         "yaxis": "y"
        },
        {
         "alignmentgroup": "True",
         "hovertemplate": "PROVINCE=Newfoundland and Labrador<br>YEAR=%{x}<br>MONTHLY RENT=%{y}<extra></extra>",
         "legendgroup": "Newfoundland and Labrador",
         "marker": {
          "color": "#19d3f3",
          "pattern": {
           "shape": ""
          }
         },
         "name": "Newfoundland and Labrador",
         "offsetgroup": "Newfoundland and Labrador",
         "orientation": "v",
         "showlegend": true,
         "textposition": "auto",
         "type": "bar",
         "x": [
          1987,
          1988,
          1989,
          1990,
          1991,
          1992,
          1993,
          1994,
          1995,
          1996,
          1997,
          1998,
          1999,
          2000,
          2001,
          2002,
          2003,
          2004,
          2005,
          2006,
          2007,
          2008,
          2009,
          2010,
          2011,
          2012,
          2013,
          2014,
          2015,
          2016,
          2017,
          2018,
          2019,
          2020,
          2021,
          2022
         ],
         "xaxis": "x",
         "y": [
          391.5416666666667,
          398.8333333333333,
          402.3333333333333,
          411.4625,
          416.6375,
          416.96979166666665,
          421.4924107142857,
          429.32916666666665,
          426.4246794871795,
          432.62916666666666,
          432.7809523809524,
          424.22276785714286,
          429.34166666666664,
          446.35416666666663,
          451.82916666666665,
          448.1354166666667,
          491.23035714285714,
          467.84732142857143,
          489.20729166666666,
          502.4201388888889,
          500.24745046620046,
          538.7794871794872,
          549.4405594405595,
          584.5283216783216,
          613.8174242424242,
          630.272538735774,
          661.7178630193337,
          681.1099856026326,
          698.8122771836007,
          708.4199404761905,
          705.5257781434252,
          715.2055052790347,
          733.7998491704375,
          750.0015224358974,
          763.3424302413273,
          798.4904938811189
         ],
         "yaxis": "y"
        },
        {
         "alignmentgroup": "True",
         "hovertemplate": "PROVINCE=Northwest Territories<br>YEAR=%{x}<br>MONTHLY RENT=%{y}<extra></extra>",
         "legendgroup": "Northwest Territories",
         "marker": {
          "color": "#FF6692",
          "pattern": {
           "shape": ""
          }
         },
         "name": "Northwest Territories",
         "offsetgroup": "Northwest Territories",
         "orientation": "v",
         "showlegend": true,
         "textposition": "auto",
         "type": "bar",
         "x": [
          1998,
          1999,
          2000,
          2001,
          2002,
          2003,
          2004,
          2005,
          2006,
          2007,
          2008,
          2009,
          2010,
          2011,
          2012,
          2013,
          2014,
          2015,
          2016,
          2017,
          2018,
          2019,
          2020,
          2021,
          2022
         ],
         "xaxis": "x",
         "y": [
          935.6875,
          919.5,
          935.5416666666666,
          1006.625,
          1060.0208333333335,
          1123.625,
          1131.625,
          1150.1875,
          1199.4375,
          1212.6041666666665,
          1263.2916666666667,
          1324.9791666666665,
          1350.0208333333333,
          1429.1666666666665,
          1477.875,
          1499.0208333333333,
          1521.125,
          1546.1666666666667,
          1535.5,
          1569.6666666666665,
          1595.0625,
          1652.6458333333335,
          1665.8333333333333,
          1692.125,
          1717.5833333333333
         ],
         "yaxis": "y"
        },
        {
         "alignmentgroup": "True",
         "hovertemplate": "PROVINCE=Nova Scotia<br>YEAR=%{x}<br>MONTHLY RENT=%{y}<extra></extra>",
         "legendgroup": "Nova Scotia",
         "marker": {
          "color": "#B6E880",
          "pattern": {
           "shape": ""
          }
         },
         "name": "Nova Scotia",
         "offsetgroup": "Nova Scotia",
         "orientation": "v",
         "showlegend": true,
         "textposition": "auto",
         "type": "bar",
         "x": [
          1987,
          1988,
          1989,
          1990,
          1991,
          1992,
          1993,
          1994,
          1995,
          1996,
          1997,
          1998,
          1999,
          2000,
          2001,
          2002,
          2003,
          2004,
          2005,
          2006,
          2007,
          2008,
          2009,
          2010,
          2011,
          2012,
          2013,
          2014,
          2015,
          2016,
          2017,
          2018,
          2019,
          2020,
          2021,
          2022
         ],
         "xaxis": "x",
         "y": [
          390.475,
          412.83333333333337,
          431.5833333333333,
          440.10416666666663,
          445.9791666666667,
          445.33670343137254,
          448.1881535947713,
          455.8787348272642,
          467.89732142857144,
          477.80711659663865,
          475.33459383753507,
          489.06736694677875,
          497.8799719887955,
          518.2082532051281,
          522.7317401960784,
          537.4241515837105,
          555.705291603821,
          569.2925857843138,
          573.0590610047847,
          589.634794246646,
          608.4032604489164,
          624.2203448963318,
          635.1836622807017,
          660.9517543859649,
          676.5245831971232,
          679.1020917678812,
          713.3226332491038,
          709.4573313492064,
          731.0162839163125,
          754.3728879310345,
          765.1116800152555,
          788.5180836707152,
          813.3236343366779,
          714.3970064049012,
          747.0868421052631,
          770.7167427799259
         ],
         "yaxis": "y"
        },
        {
         "alignmentgroup": "True",
         "hovertemplate": "PROVINCE=Ontario<br>YEAR=%{x}<br>MONTHLY RENT=%{y}<extra></extra>",
         "legendgroup": "Ontario",
         "marker": {
          "color": "#FF97FF",
          "pattern": {
           "shape": ""
          }
         },
         "name": "Ontario",
         "offsetgroup": "Ontario",
         "orientation": "v",
         "showlegend": true,
         "textposition": "auto",
         "type": "bar",
         "x": [
          1987,
          1988,
          1989,
          1990,
          1991,
          1992,
          1993,
          1994,
          1995,
          1996,
          1997,
          1998,
          1999,
          2000,
          2001,
          2002,
          2003,
          2004,
          2005,
          2006,
          2007,
          2008,
          2009,
          2010,
          2011,
          2012,
          2013,
          2014,
          2015,
          2016,
          2017,
          2018,
          2019,
          2020,
          2021,
          2022
         ],
         "xaxis": "x",
         "y": [
          367.8985197368421,
          383.6973429951691,
          411.93607816040753,
          438.29312865497076,
          458.7523129814962,
          501.2480832858843,
          515.1635181239878,
          523.6738648574844,
          532.3026439373998,
          537.9997905430829,
          541.8009089254801,
          554.0895225124241,
          560.1745084050151,
          572.8829612784974,
          585.8659656121687,
          619.9371045158407,
          632.8588446959926,
          651.5908783440641,
          665.438791055068,
          673.0735871346534,
          679.121015555755,
          692.1968240819517,
          706.3002602178361,
          726.4878472038226,
          742.391089272015,
          761.8432253597431,
          784.1900578568309,
          797.6109381731234,
          824.9827111272566,
          850.7105140029976,
          881.0490947084014,
          917.341577213247,
          968.7541902765088,
          938.240374489308,
          992.6064016732621,
          1052.6088856745625
         ],
         "yaxis": "y"
        },
        {
         "alignmentgroup": "True",
         "hovertemplate": "PROVINCE=Ontario/Quebec<br>YEAR=%{x}<br>MONTHLY RENT=%{y}<extra></extra>",
         "legendgroup": "Ontario/Quebec",
         "marker": {
          "color": "#FECB52",
          "pattern": {
           "shape": ""
          }
         },
         "name": "Ontario/Quebec",
         "offsetgroup": "Ontario/Quebec",
         "orientation": "v",
         "showlegend": true,
         "textposition": "auto",
         "type": "bar",
         "x": [
          1987,
          1988,
          1989,
          1990,
          1991,
          1992,
          1993,
          1994,
          1995,
          1996,
          1997,
          1998,
          1999,
          2000,
          2001,
          2002,
          2003,
          2004,
          2005,
          2006,
          2007,
          2008,
          2009,
          2010,
          2011,
          2012,
          2013,
          2014,
          2015,
          2016,
          2017,
          2018,
          2019,
          2020,
          2021,
          2022
         ],
         "xaxis": "x",
         "y": [
          459.83333333333337,
          474.2708333333333,
          490.22916666666663,
          498.6875,
          525.6875,
          548.692261904762,
          572.8257936507937,
          576.3265873015873,
          574.2059523809523,
          578.1625,
          576.8089826839827,
          588.8732142857143,
          598.8995535714286,
          661.7160714285715,
          687.6150793650794,
          711.9726037851038,
          704.7296091163738,
          714.5601947072536,
          722.7231187929717,
          721.7272727272727,
          731.0436083524319,
          760.6363636363636,
          784.0906926406926,
          794.7787313789153,
          809.7351986249046,
          830.9830022918259,
          849.193563789152,
          846.9679263750954,
          864.3237076648842,
          857.6855280748664,
          890.7881803868646,
          920.4895920159562,
          982.8802790346908,
          1062.6996527777778,
          1081.240599270011,
          1188.723484848485
         ],
         "yaxis": "y"
        },
        {
         "alignmentgroup": "True",
         "hovertemplate": "PROVINCE=Prince Edward Island<br>YEAR=%{x}<br>MONTHLY RENT=%{y}<extra></extra>",
         "legendgroup": "Prince Edward Island",
         "marker": {
          "color": "#636efa",
          "pattern": {
           "shape": ""
          }
         },
         "name": "Prince Edward Island",
         "offsetgroup": "Prince Edward Island",
         "orientation": "v",
         "showlegend": true,
         "textposition": "auto",
         "type": "bar",
         "x": [
          1987,
          1988,
          1989,
          1990,
          1991,
          1992,
          1993,
          1994,
          1995,
          1996,
          1997,
          1998,
          1999,
          2000,
          2001,
          2002,
          2003,
          2004,
          2005,
          2006,
          2007,
          2008,
          2009,
          2010,
          2011,
          2012,
          2013,
          2014,
          2015,
          2016,
          2017,
          2018,
          2019,
          2020,
          2021,
          2022
         ],
         "xaxis": "x",
         "y": [
          399,
          399.625,
          411.25,
          414.5,
          417,
          425.4702380952381,
          432.04761904761904,
          439.57738095238096,
          451.8928571428571,
          452.63541666666663,
          464.51041666666663,
          475.69791666666663,
          474.49910714285716,
          486.19791666666663,
          491.29166666666663,
          504.1458333333333,
          513.3258928571429,
          534.1324404761905,
          554.9,
          561.0982142857142,
          569.0014880952381,
          595.7321428571429,
          611.8178571428572,
          625.3625,
          644.2285714285714,
          673.9142857142857,
          691.625,
          690.6175595238095,
          708.0803571428571,
          720.0833333333333,
          746.6324404761905,
          805.5803571428571,
          812.3660714285714,
          827.15625,
          852.0089285714286,
          885.8199404761905
         ],
         "yaxis": "y"
        },
        {
         "alignmentgroup": "True",
         "hovertemplate": "PROVINCE=Quebec<br>YEAR=%{x}<br>MONTHLY RENT=%{y}<extra></extra>",
         "legendgroup": "Quebec",
         "marker": {
          "color": "#EF553B",
          "pattern": {
           "shape": ""
          }
         },
         "name": "Quebec",
         "offsetgroup": "Quebec",
         "orientation": "v",
         "showlegend": true,
         "textposition": "auto",
         "type": "bar",
         "x": [
          1987,
          1988,
          1989,
          1990,
          1991,
          1992,
          1993,
          1994,
          1995,
          1996,
          1997,
          1998,
          1999,
          2000,
          2001,
          2002,
          2003,
          2004,
          2005,
          2006,
          2007,
          2008,
          2009,
          2010,
          2011,
          2012,
          2013,
          2014,
          2015,
          2016,
          2017,
          2018,
          2019,
          2020,
          2021,
          2022
         ],
         "xaxis": "x",
         "y": [
          280.4274443544261,
          286.7533357428993,
          301.493018018018,
          314.5347774244833,
          326.6568215943216,
          350.3273811604797,
          353.51754585279275,
          356.42760867937926,
          360.01789609029595,
          363.4936261264186,
          366.95349224890083,
          368.7934648210746,
          371.7782749346568,
          375.22608249532885,
          380.1111111111111,
          400.3996195017088,
          410.81310846799977,
          420.5385016135016,
          430.0649715385161,
          441.2870905306567,
          451.09478089883953,
          465.76629457364345,
          476.7502158887911,
          491.0206464237517,
          504.8332961786243,
          506.51335359525086,
          516.0962582588751,
          526.0903359564638,
          535.2329200384079,
          543.5135088550746,
          552.4914223620654,
          561.1212636118194,
          579.4624882648039,
          565.5035713214874,
          590.4027041931942,
          634.4865987598057
         ],
         "yaxis": "y"
        },
        {
         "alignmentgroup": "True",
         "hovertemplate": "PROVINCE=Saskatchewan<br>YEAR=%{x}<br>MONTHLY RENT=%{y}<extra></extra>",
         "legendgroup": "Saskatchewan",
         "marker": {
          "color": "#00cc96",
          "pattern": {
           "shape": ""
          }
         },
         "name": "Saskatchewan",
         "offsetgroup": "Saskatchewan",
         "orientation": "v",
         "showlegend": true,
         "textposition": "auto",
         "type": "bar",
         "x": [
          1987,
          1988,
          1989,
          1990,
          1991,
          1992,
          1993,
          1994,
          1995,
          1996,
          1997,
          1998,
          1999,
          2000,
          2001,
          2002,
          2003,
          2004,
          2005,
          2006,
          2007,
          2008,
          2009,
          2010,
          2011,
          2012,
          2013,
          2014,
          2015,
          2016,
          2017,
          2018,
          2019,
          2020,
          2021,
          2022
         ],
         "xaxis": "x",
         "y": [
          377.80357142857144,
          380.54017857142856,
          377.30357142857144,
          377.47767857142856,
          388.1875,
          381.73186115886335,
          384.8774648599454,
          389.7315476190476,
          393.65899577572964,
          398.0247859940997,
          408.77456554795265,
          417.66321856906535,
          426.0988922877271,
          430.0994623655914,
          442.50681698801134,
          447.39429723502303,
          456.75800264550264,
          461.84315476190477,
          468.76219278033795,
          484.6796486837227,
          517.7208866332962,
          591.4004032258065,
          653.6393294504181,
          698.8022339636633,
          745.5169458229942,
          787.155155529954,
          821.4598298322924,
          857.4004369170874,
          857.9866871479775,
          858.5642441116232,
          862.6448879928315,
          871.0839813111435,
          881.7352099040086,
          890.3116433297885,
          904.9216643198498,
          942.4830069124424
         ],
         "yaxis": "y"
        },
        {
         "alignmentgroup": "True",
         "hovertemplate": "PROVINCE=Saskatchewan/Alberta<br>YEAR=%{x}<br>MONTHLY RENT=%{y}<extra></extra>",
         "legendgroup": "Saskatchewan/Alberta",
         "marker": {
          "color": "#ab63fa",
          "pattern": {
           "shape": ""
          }
         },
         "name": "Saskatchewan/Alberta",
         "offsetgroup": "Saskatchewan/Alberta",
         "orientation": "v",
         "showlegend": true,
         "textposition": "auto",
         "type": "bar",
         "x": [
          1987,
          1988,
          1989,
          1990,
          1991,
          1992,
          1993,
          1994,
          1995,
          1996,
          1997,
          1998,
          1999,
          2000,
          2001,
          2002,
          2003,
          2004,
          2005,
          2006,
          2007,
          2008,
          2009,
          2010,
          2011,
          2012,
          2013,
          2014,
          2015,
          2016,
          2017,
          2018,
          2019,
          2020,
          2021,
          2022
         ],
         "xaxis": "x",
         "y": [
          414.75,
          375.875,
          358.5,
          379.125,
          436.125,
          427.92857142857144,
          421.0357142857143,
          407.27976190476187,
          411.4761904761905,
          416.0416666666667,
          448.7083333333333,
          453.2083333333333,
          450.8333333333333,
          462.54761904761904,
          557.2222222222223,
          515.8666666666667,
          538.75,
          610.1388888888888,
          622,
          627.4166666666667,
          664.3035714285713,
          720.4166666666667,
          724.2738095238095,
          763.1964285714286,
          783.3630952380952,
          829.2083333333333,
          927.4464285714287,
          1069.2247023809523,
          1032.4375,
          941.8229166666666,
          943.03125,
          962.5833333333334,
          975.8110119047619,
          993.6354166666666,
          978.233630952381,
          984
         ],
         "yaxis": "y"
        }
       ],
       "layout": {
        "barmode": "relative",
        "legend": {
         "title": {
          "text": "PROVINCE"
         },
         "tracegroupgap": 0
        },
        "template": {
         "data": {
          "bar": [
           {
            "error_x": {
             "color": "#2a3f5f"
            },
            "error_y": {
             "color": "#2a3f5f"
            },
            "marker": {
             "line": {
              "color": "#E5ECF6",
              "width": 0.5
             },
             "pattern": {
              "fillmode": "overlay",
              "size": 10,
              "solidity": 0.2
             }
            },
            "type": "bar"
           }
          ],
          "barpolar": [
           {
            "marker": {
             "line": {
              "color": "#E5ECF6",
              "width": 0.5
             },
             "pattern": {
              "fillmode": "overlay",
              "size": 10,
              "solidity": 0.2
             }
            },
            "type": "barpolar"
           }
          ],
          "carpet": [
           {
            "aaxis": {
             "endlinecolor": "#2a3f5f",
             "gridcolor": "white",
             "linecolor": "white",
             "minorgridcolor": "white",
             "startlinecolor": "#2a3f5f"
            },
            "baxis": {
             "endlinecolor": "#2a3f5f",
             "gridcolor": "white",
             "linecolor": "white",
             "minorgridcolor": "white",
             "startlinecolor": "#2a3f5f"
            },
            "type": "carpet"
           }
          ],
          "choropleth": [
           {
            "colorbar": {
             "outlinewidth": 0,
             "ticks": ""
            },
            "type": "choropleth"
           }
          ],
          "contour": [
           {
            "colorbar": {
             "outlinewidth": 0,
             "ticks": ""
            },
            "colorscale": [
             [
              0,
              "#0d0887"
             ],
             [
              0.1111111111111111,
              "#46039f"
             ],
             [
              0.2222222222222222,
              "#7201a8"
             ],
             [
              0.3333333333333333,
              "#9c179e"
             ],
             [
              0.4444444444444444,
              "#bd3786"
             ],
             [
              0.5555555555555556,
              "#d8576b"
             ],
             [
              0.6666666666666666,
              "#ed7953"
             ],
             [
              0.7777777777777778,
              "#fb9f3a"
             ],
             [
              0.8888888888888888,
              "#fdca26"
             ],
             [
              1,
              "#f0f921"
             ]
            ],
            "type": "contour"
           }
          ],
          "contourcarpet": [
           {
            "colorbar": {
             "outlinewidth": 0,
             "ticks": ""
            },
            "type": "contourcarpet"
           }
          ],
          "heatmap": [
           {
            "colorbar": {
             "outlinewidth": 0,
             "ticks": ""
            },
            "colorscale": [
             [
              0,
              "#0d0887"
             ],
             [
              0.1111111111111111,
              "#46039f"
             ],
             [
              0.2222222222222222,
              "#7201a8"
             ],
             [
              0.3333333333333333,
              "#9c179e"
             ],
             [
              0.4444444444444444,
              "#bd3786"
             ],
             [
              0.5555555555555556,
              "#d8576b"
             ],
             [
              0.6666666666666666,
              "#ed7953"
             ],
             [
              0.7777777777777778,
              "#fb9f3a"
             ],
             [
              0.8888888888888888,
              "#fdca26"
             ],
             [
              1,
              "#f0f921"
             ]
            ],
            "type": "heatmap"
           }
          ],
          "heatmapgl": [
           {
            "colorbar": {
             "outlinewidth": 0,
             "ticks": ""
            },
            "colorscale": [
             [
              0,
              "#0d0887"
             ],
             [
              0.1111111111111111,
              "#46039f"
             ],
             [
              0.2222222222222222,
              "#7201a8"
             ],
             [
              0.3333333333333333,
              "#9c179e"
             ],
             [
              0.4444444444444444,
              "#bd3786"
             ],
             [
              0.5555555555555556,
              "#d8576b"
             ],
             [
              0.6666666666666666,
              "#ed7953"
             ],
             [
              0.7777777777777778,
              "#fb9f3a"
             ],
             [
              0.8888888888888888,
              "#fdca26"
             ],
             [
              1,
              "#f0f921"
             ]
            ],
            "type": "heatmapgl"
           }
          ],
          "histogram": [
           {
            "marker": {
             "pattern": {
              "fillmode": "overlay",
              "size": 10,
              "solidity": 0.2
             }
            },
            "type": "histogram"
           }
          ],
          "histogram2d": [
           {
            "colorbar": {
             "outlinewidth": 0,
             "ticks": ""
            },
            "colorscale": [
             [
              0,
              "#0d0887"
             ],
             [
              0.1111111111111111,
              "#46039f"
             ],
             [
              0.2222222222222222,
              "#7201a8"
             ],
             [
              0.3333333333333333,
              "#9c179e"
             ],
             [
              0.4444444444444444,
              "#bd3786"
             ],
             [
              0.5555555555555556,
              "#d8576b"
             ],
             [
              0.6666666666666666,
              "#ed7953"
             ],
             [
              0.7777777777777778,
              "#fb9f3a"
             ],
             [
              0.8888888888888888,
              "#fdca26"
             ],
             [
              1,
              "#f0f921"
             ]
            ],
            "type": "histogram2d"
           }
          ],
          "histogram2dcontour": [
           {
            "colorbar": {
             "outlinewidth": 0,
             "ticks": ""
            },
            "colorscale": [
             [
              0,
              "#0d0887"
             ],
             [
              0.1111111111111111,
              "#46039f"
             ],
             [
              0.2222222222222222,
              "#7201a8"
             ],
             [
              0.3333333333333333,
              "#9c179e"
             ],
             [
              0.4444444444444444,
              "#bd3786"
             ],
             [
              0.5555555555555556,
              "#d8576b"
             ],
             [
              0.6666666666666666,
              "#ed7953"
             ],
             [
              0.7777777777777778,
              "#fb9f3a"
             ],
             [
              0.8888888888888888,
              "#fdca26"
             ],
             [
              1,
              "#f0f921"
             ]
            ],
            "type": "histogram2dcontour"
           }
          ],
          "mesh3d": [
           {
            "colorbar": {
             "outlinewidth": 0,
             "ticks": ""
            },
            "type": "mesh3d"
           }
          ],
          "parcoords": [
           {
            "line": {
             "colorbar": {
              "outlinewidth": 0,
              "ticks": ""
             }
            },
            "type": "parcoords"
           }
          ],
          "pie": [
           {
            "automargin": true,
            "type": "pie"
           }
          ],
          "scatter": [
           {
            "fillpattern": {
             "fillmode": "overlay",
             "size": 10,
             "solidity": 0.2
            },
            "type": "scatter"
           }
          ],
          "scatter3d": [
           {
            "line": {
             "colorbar": {
              "outlinewidth": 0,
              "ticks": ""
             }
            },
            "marker": {
             "colorbar": {
              "outlinewidth": 0,
              "ticks": ""
             }
            },
            "type": "scatter3d"
           }
          ],
          "scattercarpet": [
           {
            "marker": {
             "colorbar": {
              "outlinewidth": 0,
              "ticks": ""
             }
            },
            "type": "scattercarpet"
           }
          ],
          "scattergeo": [
           {
            "marker": {
             "colorbar": {
              "outlinewidth": 0,
              "ticks": ""
             }
            },
            "type": "scattergeo"
           }
          ],
          "scattergl": [
           {
            "marker": {
             "colorbar": {
              "outlinewidth": 0,
              "ticks": ""
             }
            },
            "type": "scattergl"
           }
          ],
          "scattermapbox": [
           {
            "marker": {
             "colorbar": {
              "outlinewidth": 0,
              "ticks": ""
             }
            },
            "type": "scattermapbox"
           }
          ],
          "scatterpolar": [
           {
            "marker": {
             "colorbar": {
              "outlinewidth": 0,
              "ticks": ""
             }
            },
            "type": "scatterpolar"
           }
          ],
          "scatterpolargl": [
           {
            "marker": {
             "colorbar": {
              "outlinewidth": 0,
              "ticks": ""
             }
            },
            "type": "scatterpolargl"
           }
          ],
          "scatterternary": [
           {
            "marker": {
             "colorbar": {
              "outlinewidth": 0,
              "ticks": ""
             }
            },
            "type": "scatterternary"
           }
          ],
          "surface": [
           {
            "colorbar": {
             "outlinewidth": 0,
             "ticks": ""
            },
            "colorscale": [
             [
              0,
              "#0d0887"
             ],
             [
              0.1111111111111111,
              "#46039f"
             ],
             [
              0.2222222222222222,
              "#7201a8"
             ],
             [
              0.3333333333333333,
              "#9c179e"
             ],
             [
              0.4444444444444444,
              "#bd3786"
             ],
             [
              0.5555555555555556,
              "#d8576b"
             ],
             [
              0.6666666666666666,
              "#ed7953"
             ],
             [
              0.7777777777777778,
              "#fb9f3a"
             ],
             [
              0.8888888888888888,
              "#fdca26"
             ],
             [
              1,
              "#f0f921"
             ]
            ],
            "type": "surface"
           }
          ],
          "table": [
           {
            "cells": {
             "fill": {
              "color": "#EBF0F8"
             },
             "line": {
              "color": "white"
             }
            },
            "header": {
             "fill": {
              "color": "#C8D4E3"
             },
             "line": {
              "color": "white"
             }
            },
            "type": "table"
           }
          ]
         },
         "layout": {
          "annotationdefaults": {
           "arrowcolor": "#2a3f5f",
           "arrowhead": 0,
           "arrowwidth": 1
          },
          "autotypenumbers": "strict",
          "coloraxis": {
           "colorbar": {
            "outlinewidth": 0,
            "ticks": ""
           }
          },
          "colorscale": {
           "diverging": [
            [
             0,
             "#8e0152"
            ],
            [
             0.1,
             "#c51b7d"
            ],
            [
             0.2,
             "#de77ae"
            ],
            [
             0.3,
             "#f1b6da"
            ],
            [
             0.4,
             "#fde0ef"
            ],
            [
             0.5,
             "#f7f7f7"
            ],
            [
             0.6,
             "#e6f5d0"
            ],
            [
             0.7,
             "#b8e186"
            ],
            [
             0.8,
             "#7fbc41"
            ],
            [
             0.9,
             "#4d9221"
            ],
            [
             1,
             "#276419"
            ]
           ],
           "sequential": [
            [
             0,
             "#0d0887"
            ],
            [
             0.1111111111111111,
             "#46039f"
            ],
            [
             0.2222222222222222,
             "#7201a8"
            ],
            [
             0.3333333333333333,
             "#9c179e"
            ],
            [
             0.4444444444444444,
             "#bd3786"
            ],
            [
             0.5555555555555556,
             "#d8576b"
            ],
            [
             0.6666666666666666,
             "#ed7953"
            ],
            [
             0.7777777777777778,
             "#fb9f3a"
            ],
            [
             0.8888888888888888,
             "#fdca26"
            ],
            [
             1,
             "#f0f921"
            ]
           ],
           "sequentialminus": [
            [
             0,
             "#0d0887"
            ],
            [
             0.1111111111111111,
             "#46039f"
            ],
            [
             0.2222222222222222,
             "#7201a8"
            ],
            [
             0.3333333333333333,
             "#9c179e"
            ],
            [
             0.4444444444444444,
             "#bd3786"
            ],
            [
             0.5555555555555556,
             "#d8576b"
            ],
            [
             0.6666666666666666,
             "#ed7953"
            ],
            [
             0.7777777777777778,
             "#fb9f3a"
            ],
            [
             0.8888888888888888,
             "#fdca26"
            ],
            [
             1,
             "#f0f921"
            ]
           ]
          },
          "colorway": [
           "#636efa",
           "#EF553B",
           "#00cc96",
           "#ab63fa",
           "#FFA15A",
           "#19d3f3",
           "#FF6692",
           "#B6E880",
           "#FF97FF",
           "#FECB52"
          ],
          "font": {
           "color": "#2a3f5f"
          },
          "geo": {
           "bgcolor": "white",
           "lakecolor": "white",
           "landcolor": "#E5ECF6",
           "showlakes": true,
           "showland": true,
           "subunitcolor": "white"
          },
          "hoverlabel": {
           "align": "left"
          },
          "hovermode": "closest",
          "mapbox": {
           "style": "light"
          },
          "paper_bgcolor": "white",
          "plot_bgcolor": "#E5ECF6",
          "polar": {
           "angularaxis": {
            "gridcolor": "white",
            "linecolor": "white",
            "ticks": ""
           },
           "bgcolor": "#E5ECF6",
           "radialaxis": {
            "gridcolor": "white",
            "linecolor": "white",
            "ticks": ""
           }
          },
          "scene": {
           "xaxis": {
            "backgroundcolor": "#E5ECF6",
            "gridcolor": "white",
            "gridwidth": 2,
            "linecolor": "white",
            "showbackground": true,
            "ticks": "",
            "zerolinecolor": "white"
           },
           "yaxis": {
            "backgroundcolor": "#E5ECF6",
            "gridcolor": "white",
            "gridwidth": 2,
            "linecolor": "white",
            "showbackground": true,
            "ticks": "",
            "zerolinecolor": "white"
           },
           "zaxis": {
            "backgroundcolor": "#E5ECF6",
            "gridcolor": "white",
            "gridwidth": 2,
            "linecolor": "white",
            "showbackground": true,
            "ticks": "",
            "zerolinecolor": "white"
           }
          },
          "shapedefaults": {
           "line": {
            "color": "#2a3f5f"
           }
          },
          "ternary": {
           "aaxis": {
            "gridcolor": "white",
            "linecolor": "white",
            "ticks": ""
           },
           "baxis": {
            "gridcolor": "white",
            "linecolor": "white",
            "ticks": ""
           },
           "bgcolor": "#E5ECF6",
           "caxis": {
            "gridcolor": "white",
            "linecolor": "white",
            "ticks": ""
           }
          },
          "title": {
           "x": 0.05
          },
          "xaxis": {
           "automargin": true,
           "gridcolor": "white",
           "linecolor": "white",
           "ticks": "",
           "title": {
            "standoff": 15
           },
           "zerolinecolor": "white",
           "zerolinewidth": 2
          },
          "yaxis": {
           "automargin": true,
           "gridcolor": "white",
           "linecolor": "white",
           "ticks": "",
           "title": {
            "standoff": 15
           },
           "zerolinecolor": "white",
           "zerolinewidth": 2
          }
         }
        },
        "title": {
         "text": "Average Monthly Rent by Year"
        },
        "xaxis": {
         "anchor": "y",
         "domain": [
          0,
          1
         ],
         "title": {
          "text": "YEAR"
         }
        },
        "yaxis": {
         "anchor": "x",
         "domain": [
          0,
          1
         ],
         "title": {
          "text": "MONTHLY RENT"
         }
        }
       }
      }
     },
     "metadata": {},
     "output_type": "display_data"
    }
   ],
   "source": [
    "average_per_province = grouped.groupby(['PROVINCE','YEAR'])['MONTHLY RENT'].mean().reset_index()\n",
    "px.bar(average_per_province,x='YEAR',y='MONTHLY RENT',color='PROVINCE',title='Average Monthly Rent by Year')"
   ]
  },
  {
   "cell_type": "code",
   "execution_count": 6,
   "metadata": {},
   "outputs": [
    {
     "data": {
      "application/vnd.plotly.v1+json": {
       "config": {
        "plotlyServerURL": "https://plot.ly"
       },
       "data": [
        {
         "alignmentgroup": "True",
         "hovertemplate": "Type of unit=Bachelor units<br>YEAR=1987<br>PROVINCE=%{x}<br>MONTHLY RENT=%{y}<extra></extra>",
         "legendgroup": "Bachelor units",
         "marker": {
          "color": "#636efa",
          "pattern": {
           "shape": ""
          }
         },
         "name": "Bachelor units",
         "offsetgroup": "Bachelor units",
         "orientation": "v",
         "showlegend": true,
         "textposition": "auto",
         "type": "bar",
         "x": [
          "Alberta",
          "British Columbia",
          "Manitoba",
          "New Brunswick",
          "Newfoundland and Labrador",
          "Nova Scotia",
          "Ontario",
          "Ontario/Quebec",
          "Prince Edward Island",
          "Quebec",
          "Saskatchewan",
          "Saskatchewan/Alberta"
         ],
         "xaxis": "x",
         "y": [
          318.5,
          216.92307692307693,
          286,
          274.8,
          364,
          285,
          258.63157894736844,
          348,
          309,
          212.06060606060606,
          240.42857142857142,
          302.5
         ],
         "yaxis": "y"
        },
        {
         "alignmentgroup": "True",
         "hovertemplate": "Type of unit=One bedroom units<br>YEAR=1987<br>PROVINCE=%{x}<br>MONTHLY RENT=%{y}<extra></extra>",
         "legendgroup": "One bedroom units",
         "marker": {
          "color": "#EF553B",
          "pattern": {
           "shape": ""
          }
         },
         "name": "One bedroom units",
         "offsetgroup": "One bedroom units",
         "orientation": "v",
         "showlegend": true,
         "textposition": "auto",
         "type": "bar",
         "x": [
          "Alberta",
          "British Columbia",
          "Manitoba",
          "New Brunswick",
          "Newfoundland and Labrador",
          "Nova Scotia",
          "Ontario",
          "Ontario/Quebec",
          "Prince Edward Island",
          "Quebec",
          "Saskatchewan",
          "Saskatchewan/Alberta"
         ],
         "xaxis": "x",
         "y": [
          372.44444444444446,
          271.3333333333333,
          367.4,
          334.3333333333333,
          360.6666666666667,
          345.4,
          347.3,
          407.5,
          367,
          264.975,
          348,
          389.5
         ],
         "yaxis": "y"
        },
        {
         "alignmentgroup": "True",
         "hovertemplate": "Type of unit=Three bedroom units<br>YEAR=1987<br>PROVINCE=%{x}<br>MONTHLY RENT=%{y}<extra></extra>",
         "legendgroup": "Three bedroom units",
         "marker": {
          "color": "#00cc96",
          "pattern": {
           "shape": ""
          }
         },
         "name": "Three bedroom units",
         "offsetgroup": "Three bedroom units",
         "orientation": "v",
         "showlegend": true,
         "textposition": "auto",
         "type": "bar",
         "x": [
          "Alberta",
          "British Columbia",
          "Manitoba",
          "New Brunswick",
          "Newfoundland and Labrador",
          "Nova Scotia",
          "Ontario",
          "Ontario/Quebec",
          "Prince Edward Island",
          "Quebec",
          "Saskatchewan",
          "Saskatchewan/Alberta"
         ],
         "xaxis": "x",
         "y": [
          523.625,
          345.42105263157896,
          610,
          405.8,
          416,
          507.5,
          452.5625,
          604.3333333333334,
          489,
          339.8205128205128,
          495.5,
          502
         ],
         "yaxis": "y"
        },
        {
         "alignmentgroup": "True",
         "hovertemplate": "Type of unit=Two bedroom units<br>YEAR=1987<br>PROVINCE=%{x}<br>MONTHLY RENT=%{y}<extra></extra>",
         "legendgroup": "Two bedroom units",
         "marker": {
          "color": "#ab63fa",
          "pattern": {
           "shape": ""
          }
         },
         "name": "Two bedroom units",
         "offsetgroup": "Two bedroom units",
         "orientation": "v",
         "showlegend": true,
         "textposition": "auto",
         "type": "bar",
         "x": [
          "Alberta",
          "British Columbia",
          "Manitoba",
          "New Brunswick",
          "Newfoundland and Labrador",
          "Nova Scotia",
          "Ontario",
          "Ontario/Quebec",
          "Prince Edward Island",
          "Quebec",
          "Saskatchewan",
          "Saskatchewan/Alberta"
         ],
         "xaxis": "x",
         "y": [
          448,
          325.92857142857144,
          445,
          395.8333333333333,
          425.5,
          424,
          413.1,
          479.5,
          431,
          304.8536585365854,
          427.2857142857143,
          465
         ],
         "yaxis": "y"
        }
       ],
       "frames": [
        {
         "data": [
          {
           "alignmentgroup": "True",
           "hovertemplate": "Type of unit=Bachelor units<br>YEAR=1987<br>PROVINCE=%{x}<br>MONTHLY RENT=%{y}<extra></extra>",
           "legendgroup": "Bachelor units",
           "marker": {
            "color": "#636efa",
            "pattern": {
             "shape": ""
            }
           },
           "name": "Bachelor units",
           "offsetgroup": "Bachelor units",
           "orientation": "v",
           "showlegend": true,
           "textposition": "auto",
           "type": "bar",
           "x": [
            "Alberta",
            "British Columbia",
            "Manitoba",
            "New Brunswick",
            "Newfoundland and Labrador",
            "Nova Scotia",
            "Ontario",
            "Ontario/Quebec",
            "Prince Edward Island",
            "Quebec",
            "Saskatchewan",
            "Saskatchewan/Alberta"
           ],
           "xaxis": "x",
           "y": [
            318.5,
            216.92307692307693,
            286,
            274.8,
            364,
            285,
            258.63157894736844,
            348,
            309,
            212.06060606060606,
            240.42857142857142,
            302.5
           ],
           "yaxis": "y"
          },
          {
           "alignmentgroup": "True",
           "hovertemplate": "Type of unit=One bedroom units<br>YEAR=1987<br>PROVINCE=%{x}<br>MONTHLY RENT=%{y}<extra></extra>",
           "legendgroup": "One bedroom units",
           "marker": {
            "color": "#EF553B",
            "pattern": {
             "shape": ""
            }
           },
           "name": "One bedroom units",
           "offsetgroup": "One bedroom units",
           "orientation": "v",
           "showlegend": true,
           "textposition": "auto",
           "type": "bar",
           "x": [
            "Alberta",
            "British Columbia",
            "Manitoba",
            "New Brunswick",
            "Newfoundland and Labrador",
            "Nova Scotia",
            "Ontario",
            "Ontario/Quebec",
            "Prince Edward Island",
            "Quebec",
            "Saskatchewan",
            "Saskatchewan/Alberta"
           ],
           "xaxis": "x",
           "y": [
            372.44444444444446,
            271.3333333333333,
            367.4,
            334.3333333333333,
            360.6666666666667,
            345.4,
            347.3,
            407.5,
            367,
            264.975,
            348,
            389.5
           ],
           "yaxis": "y"
          },
          {
           "alignmentgroup": "True",
           "hovertemplate": "Type of unit=Three bedroom units<br>YEAR=1987<br>PROVINCE=%{x}<br>MONTHLY RENT=%{y}<extra></extra>",
           "legendgroup": "Three bedroom units",
           "marker": {
            "color": "#00cc96",
            "pattern": {
             "shape": ""
            }
           },
           "name": "Three bedroom units",
           "offsetgroup": "Three bedroom units",
           "orientation": "v",
           "showlegend": true,
           "textposition": "auto",
           "type": "bar",
           "x": [
            "Alberta",
            "British Columbia",
            "Manitoba",
            "New Brunswick",
            "Newfoundland and Labrador",
            "Nova Scotia",
            "Ontario",
            "Ontario/Quebec",
            "Prince Edward Island",
            "Quebec",
            "Saskatchewan",
            "Saskatchewan/Alberta"
           ],
           "xaxis": "x",
           "y": [
            523.625,
            345.42105263157896,
            610,
            405.8,
            416,
            507.5,
            452.5625,
            604.3333333333334,
            489,
            339.8205128205128,
            495.5,
            502
           ],
           "yaxis": "y"
          },
          {
           "alignmentgroup": "True",
           "hovertemplate": "Type of unit=Two bedroom units<br>YEAR=1987<br>PROVINCE=%{x}<br>MONTHLY RENT=%{y}<extra></extra>",
           "legendgroup": "Two bedroom units",
           "marker": {
            "color": "#ab63fa",
            "pattern": {
             "shape": ""
            }
           },
           "name": "Two bedroom units",
           "offsetgroup": "Two bedroom units",
           "orientation": "v",
           "showlegend": true,
           "textposition": "auto",
           "type": "bar",
           "x": [
            "Alberta",
            "British Columbia",
            "Manitoba",
            "New Brunswick",
            "Newfoundland and Labrador",
            "Nova Scotia",
            "Ontario",
            "Ontario/Quebec",
            "Prince Edward Island",
            "Quebec",
            "Saskatchewan",
            "Saskatchewan/Alberta"
           ],
           "xaxis": "x",
           "y": [
            448,
            325.92857142857144,
            445,
            395.8333333333333,
            425.5,
            424,
            413.1,
            479.5,
            431,
            304.8536585365854,
            427.2857142857143,
            465
           ],
           "yaxis": "y"
          }
         ],
         "name": "1987"
        },
        {
         "data": [
          {
           "alignmentgroup": "True",
           "hovertemplate": "Type of unit=Bachelor units<br>YEAR=1988<br>PROVINCE=%{x}<br>MONTHLY RENT=%{y}<extra></extra>",
           "legendgroup": "Bachelor units",
           "marker": {
            "color": "#636efa",
            "pattern": {
             "shape": ""
            }
           },
           "name": "Bachelor units",
           "offsetgroup": "Bachelor units",
           "orientation": "v",
           "showlegend": true,
           "textposition": "auto",
           "type": "bar",
           "x": [
            "Alberta",
            "British Columbia",
            "Manitoba",
            "New Brunswick",
            "New Brunswick/Quebec",
            "Newfoundland and Labrador",
            "Nova Scotia",
            "Ontario",
            "Ontario/Quebec",
            "Prince Edward Island",
            "Quebec",
            "Saskatchewan",
            "Saskatchewan/Alberta"
           ],
           "xaxis": "x",
           "y": [
            309,
            229.88888888888889,
            302.3333333333333,
            291,
            277,
            380,
            293,
            274.56666666666666,
            356.3333333333333,
            282,
            218.19354838709677,
            245.25,
            312
           ],
           "yaxis": "y"
          },
          {
           "alignmentgroup": "True",
           "hovertemplate": "Type of unit=One bedroom units<br>YEAR=1988<br>PROVINCE=%{x}<br>MONTHLY RENT=%{y}<extra></extra>",
           "legendgroup": "One bedroom units",
           "marker": {
            "color": "#EF553B",
            "pattern": {
             "shape": ""
            }
           },
           "name": "One bedroom units",
           "offsetgroup": "One bedroom units",
           "orientation": "v",
           "showlegend": true,
           "textposition": "auto",
           "type": "bar",
           "x": [
            "Alberta",
            "British Columbia",
            "Manitoba",
            "New Brunswick",
            "New Brunswick/Quebec",
            "Newfoundland and Labrador",
            "Nova Scotia",
            "Ontario",
            "Ontario/Quebec",
            "Prince Edward Island",
            "Quebec",
            "Saskatchewan",
            "Saskatchewan/Alberta"
           ],
           "xaxis": "x",
           "y": [
            369.8888888888889,
            288.41379310344826,
            386.5,
            343.2,
            308,
            368.3333333333333,
            360,
            358.64444444444445,
            415.25,
            372.5,
            272.57142857142856,
            354.625,
            343.5
           ],
           "yaxis": "y"
          },
          {
           "alignmentgroup": "True",
           "hovertemplate": "Type of unit=Three bedroom units<br>YEAR=1988<br>PROVINCE=%{x}<br>MONTHLY RENT=%{y}<extra></extra>",
           "legendgroup": "Three bedroom units",
           "marker": {
            "color": "#00cc96",
            "pattern": {
             "shape": ""
            }
           },
           "name": "Three bedroom units",
           "offsetgroup": "Three bedroom units",
           "orientation": "v",
           "showlegend": true,
           "textposition": "auto",
           "type": "bar",
           "x": [
            "Alberta",
            "British Columbia",
            "Manitoba",
            "New Brunswick",
            "Newfoundland and Labrador",
            "Nova Scotia",
            "Ontario",
            "Ontario/Quebec",
            "Prince Edward Island",
            "Quebec",
            "Saskatchewan",
            "Saskatchewan/Alberta"
           ],
           "xaxis": "x",
           "y": [
            504.3333333333333,
            356.94444444444446,
            511,
            417.8,
            438,
            548.3333333333334,
            470.6,
            635,
            504,
            342.97058823529414,
            483.2857142857143,
            435
           ],
           "yaxis": "y"
          },
          {
           "alignmentgroup": "True",
           "hovertemplate": "Type of unit=Two bedroom units<br>YEAR=1988<br>PROVINCE=%{x}<br>MONTHLY RENT=%{y}<extra></extra>",
           "legendgroup": "Two bedroom units",
           "marker": {
            "color": "#ab63fa",
            "pattern": {
             "shape": ""
            }
           },
           "name": "Two bedroom units",
           "offsetgroup": "Two bedroom units",
           "orientation": "v",
           "showlegend": true,
           "textposition": "auto",
           "type": "bar",
           "x": [
            "Alberta",
            "British Columbia",
            "Manitoba",
            "New Brunswick",
            "Newfoundland and Labrador",
            "Nova Scotia",
            "Ontario",
            "Ontario/Quebec",
            "Prince Edward Island",
            "Quebec",
            "Saskatchewan",
            "Saskatchewan/Alberta"
           ],
           "xaxis": "x",
           "y": [
            443.1111111111111,
            339.8965517241379,
            460,
            398.4,
            409,
            450,
            430.9782608695652,
            490.5,
            440,
            313.27777777777777,
            439,
            413
           ],
           "yaxis": "y"
          }
         ],
         "name": "1988"
        },
        {
         "data": [
          {
           "alignmentgroup": "True",
           "hovertemplate": "Type of unit=Bachelor units<br>YEAR=1989<br>PROVINCE=%{x}<br>MONTHLY RENT=%{y}<extra></extra>",
           "legendgroup": "Bachelor units",
           "marker": {
            "color": "#636efa",
            "pattern": {
             "shape": ""
            }
           },
           "name": "Bachelor units",
           "offsetgroup": "Bachelor units",
           "orientation": "v",
           "showlegend": true,
           "textposition": "auto",
           "type": "bar",
           "x": [
            "Alberta",
            "British Columbia",
            "Manitoba",
            "New Brunswick",
            "New Brunswick/Quebec",
            "Newfoundland and Labrador",
            "Nova Scotia",
            "Ontario",
            "Ontario/Quebec",
            "Prince Edward Island",
            "Quebec",
            "Saskatchewan",
            "Saskatchewan/Alberta"
           ],
           "xaxis": "x",
           "y": [
            327.75,
            248.28571428571428,
            309.6666666666667,
            287.2,
            282,
            356,
            309.6666666666667,
            289.27272727272725,
            374,
            291.5,
            225.56666666666666,
            244.14285714285714,
            275
           ],
           "yaxis": "y"
          },
          {
           "alignmentgroup": "True",
           "hovertemplate": "Type of unit=One bedroom units<br>YEAR=1989<br>PROVINCE=%{x}<br>MONTHLY RENT=%{y}<extra></extra>",
           "legendgroup": "One bedroom units",
           "marker": {
            "color": "#EF553B",
            "pattern": {
             "shape": ""
            }
           },
           "name": "One bedroom units",
           "offsetgroup": "One bedroom units",
           "orientation": "v",
           "showlegend": true,
           "textposition": "auto",
           "type": "bar",
           "x": [
            "Alberta",
            "British Columbia",
            "Manitoba",
            "New Brunswick",
            "New Brunswick/Quebec",
            "Newfoundland and Labrador",
            "Nova Scotia",
            "Ontario",
            "Ontario/Quebec",
            "Prince Edward Island",
            "Quebec",
            "Saskatchewan",
            "Saskatchewan/Alberta"
           ],
           "xaxis": "x",
           "y": [
            382.6666666666667,
            306.2142857142857,
            402.5,
            348.2,
            317,
            380.25,
            374,
            388.06382978723406,
            427.75,
            385,
            290.02702702702703,
            352.75,
            328.5
           ],
           "yaxis": "y"
          },
          {
           "alignmentgroup": "True",
           "hovertemplate": "Type of unit=Three bedroom units<br>YEAR=1989<br>PROVINCE=%{x}<br>MONTHLY RENT=%{y}<extra></extra>",
           "legendgroup": "Three bedroom units",
           "marker": {
            "color": "#00cc96",
            "pattern": {
             "shape": ""
            }
           },
           "name": "Three bedroom units",
           "offsetgroup": "Three bedroom units",
           "orientation": "v",
           "showlegend": true,
           "textposition": "auto",
           "type": "bar",
           "x": [
            "Alberta",
            "British Columbia",
            "Manitoba",
            "New Brunswick",
            "New Brunswick/Quebec",
            "Newfoundland and Labrador",
            "Nova Scotia",
            "Ontario",
            "Ontario/Quebec",
            "Prince Edward Island",
            "Quebec",
            "Saskatchewan",
            "Saskatchewan/Alberta"
           ],
           "xaxis": "x",
           "y": [
            513.8888888888889,
            410.5,
            538.6666666666666,
            449.8,
            418,
            446.3333333333333,
            580.6666666666666,
            512.972972972973,
            645.6666666666666,
            515,
            361.4054054054054,
            480.57142857142856,
            424.5
           ],
           "yaxis": "y"
          },
          {
           "alignmentgroup": "True",
           "hovertemplate": "Type of unit=Two bedroom units<br>YEAR=1989<br>PROVINCE=%{x}<br>MONTHLY RENT=%{y}<extra></extra>",
           "legendgroup": "Two bedroom units",
           "marker": {
            "color": "#ab63fa",
            "pattern": {
             "shape": ""
            }
           },
           "name": "Two bedroom units",
           "offsetgroup": "Two bedroom units",
           "orientation": "v",
           "showlegend": true,
           "textposition": "auto",
           "type": "bar",
           "x": [
            "Alberta",
            "British Columbia",
            "Manitoba",
            "New Brunswick",
            "Newfoundland and Labrador",
            "Nova Scotia",
            "Ontario",
            "Ontario/Quebec",
            "Prince Edward Island",
            "Quebec",
            "Saskatchewan",
            "Saskatchewan/Alberta"
           ],
           "xaxis": "x",
           "y": [
            456,
            366.07142857142856,
            475.5,
            413.6,
            426.75,
            462,
            457.4347826086956,
            513.5,
            453.5,
            328.97297297297297,
            431.75,
            406
           ],
           "yaxis": "y"
          }
         ],
         "name": "1989"
        },
        {
         "data": [
          {
           "alignmentgroup": "True",
           "hovertemplate": "Type of unit=Bachelor units<br>YEAR=1990<br>PROVINCE=%{x}<br>MONTHLY RENT=%{y}<extra></extra>",
           "legendgroup": "Bachelor units",
           "marker": {
            "color": "#636efa",
            "pattern": {
             "shape": ""
            }
           },
           "name": "Bachelor units",
           "offsetgroup": "Bachelor units",
           "orientation": "v",
           "showlegend": true,
           "textposition": "auto",
           "type": "bar",
           "x": [
            "Alberta",
            "British Columbia",
            "Manitoba",
            "New Brunswick",
            "New Brunswick/Quebec",
            "Newfoundland and Labrador",
            "Nova Scotia",
            "Ontario",
            "Ontario/Quebec",
            "Prince Edward Island",
            "Quebec",
            "Saskatchewan",
            "Saskatchewan/Alberta"
           ],
           "xaxis": "x",
           "y": [
            320,
            269.9230769230769,
            306.3333333333333,
            301.8,
            295,
            373,
            313,
            307.39473684210526,
            370,
            290,
            244.38235294117646,
            238,
            280
           ],
           "yaxis": "y"
          },
          {
           "alignmentgroup": "True",
           "hovertemplate": "Type of unit=One bedroom units<br>YEAR=1990<br>PROVINCE=%{x}<br>MONTHLY RENT=%{y}<extra></extra>",
           "legendgroup": "One bedroom units",
           "marker": {
            "color": "#EF553B",
            "pattern": {
             "shape": ""
            }
           },
           "name": "One bedroom units",
           "offsetgroup": "One bedroom units",
           "orientation": "v",
           "showlegend": true,
           "textposition": "auto",
           "type": "bar",
           "x": [
            "Alberta",
            "British Columbia",
            "Manitoba",
            "New Brunswick",
            "New Brunswick/Quebec",
            "Newfoundland and Labrador",
            "Nova Scotia",
            "Ontario",
            "Ontario/Quebec",
            "Prince Edward Island",
            "Quebec",
            "Saskatchewan",
            "Saskatchewan/Alberta"
           ],
           "xaxis": "x",
           "y": [
            399,
            337.9655172413793,
            405.5,
            360,
            324,
            393,
            387.75,
            408.75555555555553,
            460,
            384,
            297.02702702702703,
            351.375,
            348.5
           ],
           "yaxis": "y"
          },
          {
           "alignmentgroup": "True",
           "hovertemplate": "Type of unit=Three bedroom units<br>YEAR=1990<br>PROVINCE=%{x}<br>MONTHLY RENT=%{y}<extra></extra>",
           "legendgroup": "Three bedroom units",
           "marker": {
            "color": "#00cc96",
            "pattern": {
             "shape": ""
            }
           },
           "name": "Three bedroom units",
           "offsetgroup": "Three bedroom units",
           "orientation": "v",
           "showlegend": true,
           "textposition": "auto",
           "type": "bar",
           "x": [
            "Alberta",
            "British Columbia",
            "Manitoba",
            "New Brunswick",
            "New Brunswick/Quebec",
            "Newfoundland and Labrador",
            "Nova Scotia",
            "Ontario",
            "Ontario/Quebec",
            "Prince Edward Island",
            "Quebec",
            "Saskatchewan",
            "Saskatchewan/Alberta"
           ],
           "xaxis": "x",
           "y": [
            533.6666666666666,
            456.4166666666667,
            543,
            476.4,
            437,
            451.25,
            584.6666666666666,
            549,
            628,
            522,
            374.94594594594594,
            486.2857142857143,
            459
           ],
           "yaxis": "y"
          },
          {
           "alignmentgroup": "True",
           "hovertemplate": "Type of unit=Two bedroom units<br>YEAR=1990<br>PROVINCE=%{x}<br>MONTHLY RENT=%{y}<extra></extra>",
           "legendgroup": "Two bedroom units",
           "marker": {
            "color": "#ab63fa",
            "pattern": {
             "shape": ""
            }
           },
           "name": "Two bedroom units",
           "offsetgroup": "Two bedroom units",
           "orientation": "v",
           "showlegend": true,
           "textposition": "auto",
           "type": "bar",
           "x": [
            "Alberta",
            "British Columbia",
            "Manitoba",
            "New Brunswick",
            "New Brunswick/Quebec",
            "Newfoundland and Labrador",
            "Nova Scotia",
            "Ontario",
            "Ontario/Quebec",
            "Prince Edward Island",
            "Quebec",
            "Saskatchewan",
            "Saskatchewan/Alberta"
           ],
           "xaxis": "x",
           "y": [
            476.3333333333333,
            404.8965517241379,
            486.25,
            428,
            413,
            428.6,
            475,
            488.02222222222224,
            536.75,
            462,
            341.7837837837838,
            434.25,
            429
           ],
           "yaxis": "y"
          }
         ],
         "name": "1990"
        },
        {
         "data": [
          {
           "alignmentgroup": "True",
           "hovertemplate": "Type of unit=Bachelor units<br>YEAR=1991<br>PROVINCE=%{x}<br>MONTHLY RENT=%{y}<extra></extra>",
           "legendgroup": "Bachelor units",
           "marker": {
            "color": "#636efa",
            "pattern": {
             "shape": ""
            }
           },
           "name": "Bachelor units",
           "offsetgroup": "Bachelor units",
           "orientation": "v",
           "showlegend": true,
           "textposition": "auto",
           "type": "bar",
           "x": [
            "Alberta",
            "British Columbia",
            "Manitoba",
            "New Brunswick",
            "New Brunswick/Quebec",
            "Newfoundland and Labrador",
            "Nova Scotia",
            "Ontario",
            "Ontario/Quebec",
            "Prince Edward Island",
            "Quebec",
            "Saskatchewan",
            "Saskatchewan/Alberta"
           ],
           "xaxis": "x",
           "y": [
            328.8888888888889,
            295.13793103448273,
            334,
            310.6,
            315,
            376.5,
            327.6666666666667,
            319.05882352941177,
            394.5,
            291,
            257.8787878787879,
            252,
            322.5
           ],
           "yaxis": "y"
          },
          {
           "alignmentgroup": "True",
           "hovertemplate": "Type of unit=One bedroom units<br>YEAR=1991<br>PROVINCE=%{x}<br>MONTHLY RENT=%{y}<extra></extra>",
           "legendgroup": "One bedroom units",
           "marker": {
            "color": "#EF553B",
            "pattern": {
             "shape": ""
            }
           },
           "name": "One bedroom units",
           "offsetgroup": "One bedroom units",
           "orientation": "v",
           "showlegend": true,
           "textposition": "auto",
           "type": "bar",
           "x": [
            "Alberta",
            "British Columbia",
            "Manitoba",
            "New Brunswick",
            "New Brunswick/Quebec",
            "Newfoundland and Labrador",
            "Nova Scotia",
            "Ontario",
            "Ontario/Quebec",
            "Prince Edward Island",
            "Quebec",
            "Saskatchewan",
            "Saskatchewan/Alberta"
           ],
           "xaxis": "x",
           "y": [
            413.44444444444446,
            361.37931034482756,
            420.5,
            378.4,
            339,
            394,
            405.5,
            434.16279069767444,
            483.75,
            378,
            307.69444444444446,
            356.875,
            399.5
           ],
           "yaxis": "y"
          },
          {
           "alignmentgroup": "True",
           "hovertemplate": "Type of unit=Three bedroom units<br>YEAR=1991<br>PROVINCE=%{x}<br>MONTHLY RENT=%{y}<extra></extra>",
           "legendgroup": "Three bedroom units",
           "marker": {
            "color": "#00cc96",
            "pattern": {
             "shape": ""
            }
           },
           "name": "Three bedroom units",
           "offsetgroup": "Three bedroom units",
           "orientation": "v",
           "showlegend": true,
           "textposition": "auto",
           "type": "bar",
           "x": [
            "Alberta",
            "British Columbia",
            "Manitoba",
            "New Brunswick",
            "New Brunswick/Quebec",
            "Newfoundland and Labrador",
            "Nova Scotia",
            "Ontario",
            "Ontario/Quebec",
            "Prince Edward Island",
            "Quebec",
            "Saskatchewan",
            "Saskatchewan/Alberta"
           ],
           "xaxis": "x",
           "y": [
            552,
            486.125,
            561.3333333333334,
            479.6,
            464,
            459.25,
            553.5,
            568.9736842105264,
            661.25,
            523.5,
            386.3783783783784,
            500.5,
            542
           ],
           "yaxis": "y"
          },
          {
           "alignmentgroup": "True",
           "hovertemplate": "Type of unit=Two bedroom units<br>YEAR=1991<br>PROVINCE=%{x}<br>MONTHLY RENT=%{y}<extra></extra>",
           "legendgroup": "Two bedroom units",
           "marker": {
            "color": "#ab63fa",
            "pattern": {
             "shape": ""
            }
           },
           "name": "Two bedroom units",
           "offsetgroup": "Two bedroom units",
           "orientation": "v",
           "showlegend": true,
           "textposition": "auto",
           "type": "bar",
           "x": [
            "Alberta",
            "British Columbia",
            "Manitoba",
            "New Brunswick",
            "New Brunswick/Quebec",
            "Newfoundland and Labrador",
            "Nova Scotia",
            "Ontario",
            "Ontario/Quebec",
            "Prince Edward Island",
            "Quebec",
            "Saskatchewan",
            "Saskatchewan/Alberta"
           ],
           "xaxis": "x",
           "y": [
            491.44444444444446,
            435.58620689655174,
            501,
            445.6,
            432,
            436.8,
            497.25,
            512.8139534883721,
            563.25,
            475.5,
            354.6756756756757,
            443.375,
            480.5
           ],
           "yaxis": "y"
          }
         ],
         "name": "1991"
        },
        {
         "data": [
          {
           "alignmentgroup": "True",
           "hovertemplate": "Type of unit=Bachelor units<br>YEAR=1992<br>PROVINCE=%{x}<br>MONTHLY RENT=%{y}<extra></extra>",
           "legendgroup": "Bachelor units",
           "marker": {
            "color": "#636efa",
            "pattern": {
             "shape": ""
            }
           },
           "name": "Bachelor units",
           "offsetgroup": "Bachelor units",
           "orientation": "v",
           "showlegend": true,
           "textposition": "auto",
           "type": "bar",
           "x": [
            "Alberta",
            "British Columbia",
            "Manitoba",
            "New Brunswick",
            "New Brunswick/Quebec",
            "Newfoundland and Labrador",
            "Nova Scotia",
            "Ontario",
            "Ontario/Quebec",
            "Prince Edward Island",
            "Quebec",
            "Saskatchewan",
            "Saskatchewan/Alberta"
           ],
           "xaxis": "x",
           "y": [
            327.44827586206895,
            338.87012987012986,
            332,
            314.26666666666665,
            302,
            365.2,
            329.0625,
            358.5980392156863,
            408.5833333333333,
            298.3333333333333,
            263.71875,
            253.4090909090909,
            354.5
           ],
           "yaxis": "y"
          },
          {
           "alignmentgroup": "True",
           "hovertemplate": "Type of unit=One bedroom units<br>YEAR=1992<br>PROVINCE=%{x}<br>MONTHLY RENT=%{y}<extra></extra>",
           "legendgroup": "One bedroom units",
           "marker": {
            "color": "#EF553B",
            "pattern": {
             "shape": ""
            }
           },
           "name": "One bedroom units",
           "offsetgroup": "One bedroom units",
           "orientation": "v",
           "showlegend": true,
           "textposition": "auto",
           "type": "bar",
           "x": [
            "Alberta",
            "British Columbia",
            "Manitoba",
            "New Brunswick",
            "New Brunswick/Quebec",
            "Newfoundland and Labrador",
            "Nova Scotia",
            "Ontario",
            "Ontario/Quebec",
            "Prince Edward Island",
            "Quebec",
            "Saskatchewan",
            "Saskatchewan/Alberta"
           ],
           "xaxis": "x",
           "y": [
            410.9428571428571,
            411.40697674418607,
            423.0769230769231,
            377.06666666666666,
            338.6666666666667,
            397.53333333333336,
            392.5,
            463.1212121212121,
            486.1666666666667,
            391.1666666666667,
            325.9537037037037,
            347.3448275862069,
            383.5
           ],
           "yaxis": "y"
          },
          {
           "alignmentgroup": "True",
           "hovertemplate": "Type of unit=Three bedroom units<br>YEAR=1992<br>PROVINCE=%{x}<br>MONTHLY RENT=%{y}<extra></extra>",
           "legendgroup": "Three bedroom units",
           "marker": {
            "color": "#00cc96",
            "pattern": {
             "shape": ""
            }
           },
           "name": "Three bedroom units",
           "offsetgroup": "Three bedroom units",
           "orientation": "v",
           "showlegend": true,
           "textposition": "auto",
           "type": "bar",
           "x": [
            "Alberta",
            "British Columbia",
            "Manitoba",
            "New Brunswick",
            "New Brunswick/Quebec",
            "Newfoundland and Labrador",
            "Nova Scotia",
            "Ontario",
            "Ontario/Quebec",
            "Prince Edward Island",
            "Quebec",
            "Saskatchewan",
            "Saskatchewan/Alberta"
           ],
           "xaxis": "x",
           "y": [
            550.7631578947369,
            579.1758241758242,
            535.5714285714286,
            478.6666666666667,
            439.3333333333333,
            462.8125,
            562.1176470588235,
            628.6891891891892,
            702.7333333333333,
            540.6666666666666,
            427.37391304347824,
            491.6896551724138,
            513.5714285714286
           ],
           "yaxis": "y"
          },
          {
           "alignmentgroup": "True",
           "hovertemplate": "Type of unit=Two bedroom units<br>YEAR=1992<br>PROVINCE=%{x}<br>MONTHLY RENT=%{y}<extra></extra>",
           "legendgroup": "Two bedroom units",
           "marker": {
            "color": "#ab63fa",
            "pattern": {
             "shape": ""
            }
           },
           "name": "Two bedroom units",
           "offsetgroup": "Two bedroom units",
           "orientation": "v",
           "showlegend": true,
           "textposition": "auto",
           "type": "bar",
           "x": [
            "Alberta",
            "British Columbia",
            "Manitoba",
            "New Brunswick",
            "New Brunswick/Quebec",
            "Newfoundland and Labrador",
            "Nova Scotia",
            "Ontario",
            "Ontario/Quebec",
            "Prince Edward Island",
            "Quebec",
            "Saskatchewan",
            "Saskatchewan/Alberta"
           ],
           "xaxis": "x",
           "y": [
            484.2105263157895,
            506.6363636363636,
            507.6923076923077,
            445.4,
            425.3333333333333,
            442.3333333333333,
            497.6666666666667,
            554.5838926174497,
            597.2857142857143,
            471.7142857142857,
            384.2631578947368,
            434.48387096774195,
            460.14285714285717
           ],
           "yaxis": "y"
          }
         ],
         "name": "1992"
        },
        {
         "data": [
          {
           "alignmentgroup": "True",
           "hovertemplate": "Type of unit=Bachelor units<br>YEAR=1993<br>PROVINCE=%{x}<br>MONTHLY RENT=%{y}<extra></extra>",
           "legendgroup": "Bachelor units",
           "marker": {
            "color": "#636efa",
            "pattern": {
             "shape": ""
            }
           },
           "name": "Bachelor units",
           "offsetgroup": "Bachelor units",
           "orientation": "v",
           "showlegend": true,
           "textposition": "auto",
           "type": "bar",
           "x": [
            "Alberta",
            "British Columbia",
            "Manitoba",
            "New Brunswick",
            "Newfoundland and Labrador",
            "Nova Scotia",
            "Ontario",
            "Ontario/Quebec",
            "Prince Edward Island",
            "Quebec",
            "Saskatchewan",
            "Saskatchewan/Alberta"
           ],
           "xaxis": "x",
           "y": [
            340,
            349.2236842105263,
            340,
            318.2,
            374.85714285714283,
            334.4166666666667,
            366.7837837837838,
            433.22222222222223,
            306.8333333333333,
            269.3578947368421,
            259.54545454545456,
            362.5
           ],
           "yaxis": "y"
          },
          {
           "alignmentgroup": "True",
           "hovertemplate": "Type of unit=One bedroom units<br>YEAR=1993<br>PROVINCE=%{x}<br>MONTHLY RENT=%{y}<extra></extra>",
           "legendgroup": "One bedroom units",
           "marker": {
            "color": "#EF553B",
            "pattern": {
             "shape": ""
            }
           },
           "name": "One bedroom units",
           "offsetgroup": "One bedroom units",
           "orientation": "v",
           "showlegend": true,
           "textposition": "auto",
           "type": "bar",
           "x": [
            "Alberta",
            "British Columbia",
            "Manitoba",
            "New Brunswick",
            "New Brunswick/Quebec",
            "Newfoundland and Labrador",
            "Nova Scotia",
            "Ontario",
            "Ontario/Quebec",
            "Prince Edward Island",
            "Quebec",
            "Saskatchewan",
            "Saskatchewan/Alberta"
           ],
           "xaxis": "x",
           "y": [
            410.55555555555554,
            426.9024390243902,
            426.0833333333333,
            378.93333333333334,
            345,
            400.53333333333336,
            398.1333333333333,
            475.57462686567163,
            514.2857142857143,
            391.5,
            327.7837837837838,
            350.48275862068965,
            359.5
           ],
           "yaxis": "y"
          },
          {
           "alignmentgroup": "True",
           "hovertemplate": "Type of unit=Three bedroom units<br>YEAR=1993<br>PROVINCE=%{x}<br>MONTHLY RENT=%{y}<extra></extra>",
           "legendgroup": "Three bedroom units",
           "marker": {
            "color": "#00cc96",
            "pattern": {
             "shape": ""
            }
           },
           "name": "Three bedroom units",
           "offsetgroup": "Three bedroom units",
           "orientation": "v",
           "showlegend": true,
           "textposition": "auto",
           "type": "bar",
           "x": [
            "Alberta",
            "British Columbia",
            "Manitoba",
            "New Brunswick",
            "New Brunswick/Quebec",
            "Newfoundland and Labrador",
            "Nova Scotia",
            "Ontario",
            "Ontario/Quebec",
            "Prince Edward Island",
            "Quebec",
            "Saskatchewan",
            "Saskatchewan/Alberta"
           ],
           "xaxis": "x",
           "y": [
            555.8461538461538,
            604.9157894736842,
            543.2857142857143,
            486.6666666666667,
            448,
            466.3125,
            563.6470588235294,
            649.2827586206896,
            727.8666666666667,
            540.1428571428571,
            431.07894736842104,
            492.9655172413793,
            514.4285714285714
           ],
           "yaxis": "y"
          },
          {
           "alignmentgroup": "True",
           "hovertemplate": "Type of unit=Two bedroom units<br>YEAR=1993<br>PROVINCE=%{x}<br>MONTHLY RENT=%{y}<extra></extra>",
           "legendgroup": "Two bedroom units",
           "marker": {
            "color": "#ab63fa",
            "pattern": {
             "shape": ""
            }
           },
           "name": "Two bedroom units",
           "offsetgroup": "Two bedroom units",
           "orientation": "v",
           "showlegend": true,
           "textposition": "auto",
           "type": "bar",
           "x": [
            "Alberta",
            "British Columbia",
            "Manitoba",
            "New Brunswick",
            "New Brunswick/Quebec",
            "Newfoundland and Labrador",
            "Nova Scotia",
            "Ontario",
            "Ontario/Quebec",
            "Prince Edward Island",
            "Quebec",
            "Saskatchewan",
            "Saskatchewan/Alberta"
           ],
           "xaxis": "x",
           "y": [
            487.6756756756757,
            525.4468085106383,
            513.4615384615385,
            446.88235294117646,
            435.6666666666667,
            444.26666666666665,
            496.55555555555554,
            569.0129032258064,
            615.9285714285714,
            489.7142857142857,
            385.8495575221239,
            436.51612903225805,
            447.7142857142857
           ],
           "yaxis": "y"
          }
         ],
         "name": "1993"
        },
        {
         "data": [
          {
           "alignmentgroup": "True",
           "hovertemplate": "Type of unit=Bachelor units<br>YEAR=1994<br>PROVINCE=%{x}<br>MONTHLY RENT=%{y}<extra></extra>",
           "legendgroup": "Bachelor units",
           "marker": {
            "color": "#636efa",
            "pattern": {
             "shape": ""
            }
           },
           "name": "Bachelor units",
           "offsetgroup": "Bachelor units",
           "orientation": "v",
           "showlegend": true,
           "textposition": "auto",
           "type": "bar",
           "x": [
            "Alberta",
            "British Columbia",
            "Manitoba",
            "New Brunswick",
            "New Brunswick/Quebec",
            "Newfoundland and Labrador",
            "Nova Scotia",
            "Ontario",
            "Ontario/Quebec",
            "Prince Edward Island",
            "Quebec",
            "Saskatchewan",
            "Saskatchewan/Alberta"
           ],
           "xaxis": "x",
           "y": [
            332.02941176470586,
            360.3243243243243,
            343.8888888888889,
            326.14285714285717,
            308.3333333333333,
            385.4,
            328.7142857142857,
            374.2970297029703,
            444.44444444444446,
            299.8333333333333,
            265.85263157894735,
            261.8095238095238,
            309.8333333333333
           ],
           "yaxis": "y"
          },
          {
           "alignmentgroup": "True",
           "hovertemplate": "Type of unit=One bedroom units<br>YEAR=1994<br>PROVINCE=%{x}<br>MONTHLY RENT=%{y}<extra></extra>",
           "legendgroup": "One bedroom units",
           "marker": {
            "color": "#EF553B",
            "pattern": {
             "shape": ""
            }
           },
           "name": "One bedroom units",
           "offsetgroup": "One bedroom units",
           "orientation": "v",
           "showlegend": true,
           "textposition": "auto",
           "type": "bar",
           "x": [
            "Alberta",
            "British Columbia",
            "Manitoba",
            "New Brunswick",
            "New Brunswick/Quebec",
            "Newfoundland and Labrador",
            "Nova Scotia",
            "Ontario",
            "Ontario/Quebec",
            "Prince Edward Island",
            "Quebec",
            "Saskatchewan",
            "Saskatchewan/Alberta"
           ],
           "xaxis": "x",
           "y": [
            418,
            443.27906976744185,
            427,
            381.6,
            341.6666666666667,
            402.6666666666667,
            406,
            481.37984496124034,
            501.5,
            393.3333333333333,
            329.38392857142856,
            354.07142857142856,
            357
           ],
           "yaxis": "y"
          },
          {
           "alignmentgroup": "True",
           "hovertemplate": "Type of unit=Three bedroom units<br>YEAR=1994<br>PROVINCE=%{x}<br>MONTHLY RENT=%{y}<extra></extra>",
           "legendgroup": "Three bedroom units",
           "marker": {
            "color": "#00cc96",
            "pattern": {
             "shape": ""
            }
           },
           "name": "Three bedroom units",
           "offsetgroup": "Three bedroom units",
           "orientation": "v",
           "showlegend": true,
           "textposition": "auto",
           "type": "bar",
           "x": [
            "Alberta",
            "British Columbia",
            "Manitoba",
            "New Brunswick",
            "New Brunswick/Quebec",
            "Newfoundland and Labrador",
            "Nova Scotia",
            "Ontario",
            "Ontario/Quebec",
            "Prince Edward Island",
            "Quebec",
            "Saskatchewan",
            "Saskatchewan/Alberta"
           ],
           "xaxis": "x",
           "y": [
            554.6923076923077,
            626.4042553191489,
            547.5714285714286,
            486.8,
            451.6666666666667,
            478.25,
            584.4117647058823,
            657.3561643835617,
            730.9333333333333,
            561.2857142857143,
            439.2260869565217,
            503.67857142857144,
            514.1428571428571
           ],
           "yaxis": "y"
          },
          {
           "alignmentgroup": "True",
           "hovertemplate": "Type of unit=Two bedroom units<br>YEAR=1994<br>PROVINCE=%{x}<br>MONTHLY RENT=%{y}<extra></extra>",
           "legendgroup": "Two bedroom units",
           "marker": {
            "color": "#ab63fa",
            "pattern": {
             "shape": ""
            }
           },
           "name": "Two bedroom units",
           "offsetgroup": "Two bedroom units",
           "orientation": "v",
           "showlegend": true,
           "textposition": "auto",
           "type": "bar",
           "x": [
            "Alberta",
            "British Columbia",
            "Manitoba",
            "New Brunswick",
            "New Brunswick/Quebec",
            "Newfoundland and Labrador",
            "Nova Scotia",
            "Ontario",
            "Ontario/Quebec",
            "Prince Edward Island",
            "Quebec",
            "Saskatchewan",
            "Saskatchewan/Alberta"
           ],
           "xaxis": "x",
           "y": [
            489.6216216216216,
            544.8762886597938,
            516.0769230769231,
            454.52941176470586,
            429.3333333333333,
            451,
            504.3888888888889,
            581.6624203821656,
            628.4285714285714,
            503.85714285714283,
            391.24778761061947,
            439.3666666666667,
            448.14285714285717
           ],
           "yaxis": "y"
          }
         ],
         "name": "1994"
        },
        {
         "data": [
          {
           "alignmentgroup": "True",
           "hovertemplate": "Type of unit=Bachelor units<br>YEAR=1995<br>PROVINCE=%{x}<br>MONTHLY RENT=%{y}<extra></extra>",
           "legendgroup": "Bachelor units",
           "marker": {
            "color": "#636efa",
            "pattern": {
             "shape": ""
            }
           },
           "name": "Bachelor units",
           "offsetgroup": "Bachelor units",
           "orientation": "v",
           "showlegend": true,
           "textposition": "auto",
           "type": "bar",
           "x": [
            "Alberta",
            "British Columbia",
            "Manitoba",
            "New Brunswick",
            "Newfoundland and Labrador",
            "Nova Scotia",
            "Ontario",
            "Ontario/Quebec",
            "Prince Edward Island",
            "Quebec",
            "Saskatchewan",
            "Saskatchewan/Alberta"
           ],
           "xaxis": "x",
           "y": [
            337.1818181818182,
            376.0810810810811,
            347.8888888888889,
            330.57142857142856,
            383,
            332.7142857142857,
            376.15,
            437,
            316.8333333333333,
            270.89247311827955,
            266.875,
            313.3333333333333
           ],
           "yaxis": "y"
          },
          {
           "alignmentgroup": "True",
           "hovertemplate": "Type of unit=One bedroom units<br>YEAR=1995<br>PROVINCE=%{x}<br>MONTHLY RENT=%{y}<extra></extra>",
           "legendgroup": "One bedroom units",
           "marker": {
            "color": "#EF553B",
            "pattern": {
             "shape": ""
            }
           },
           "name": "One bedroom units",
           "offsetgroup": "One bedroom units",
           "orientation": "v",
           "showlegend": true,
           "textposition": "auto",
           "type": "bar",
           "x": [
            "Alberta",
            "British Columbia",
            "Manitoba",
            "New Brunswick",
            "New Brunswick/Quebec",
            "Newfoundland and Labrador",
            "Nova Scotia",
            "Ontario",
            "Ontario/Quebec",
            "Prince Edward Island",
            "Quebec",
            "Saskatchewan",
            "Saskatchewan/Alberta"
           ],
           "xaxis": "x",
           "y": [
            415.75,
            453.23595505617976,
            427.5833333333333,
            386.1333333333333,
            342.6666666666667,
            401,
            412.875,
            491.2442748091603,
            506.35714285714283,
            400.6666666666667,
            332.3727272727273,
            359.7857142857143,
            358
           ],
           "yaxis": "y"
          },
          {
           "alignmentgroup": "True",
           "hovertemplate": "Type of unit=Three bedroom units<br>YEAR=1995<br>PROVINCE=%{x}<br>MONTHLY RENT=%{y}<extra></extra>",
           "legendgroup": "Three bedroom units",
           "marker": {
            "color": "#00cc96",
            "pattern": {
             "shape": ""
            }
           },
           "name": "Three bedroom units",
           "offsetgroup": "Three bedroom units",
           "orientation": "v",
           "showlegend": true,
           "textposition": "auto",
           "type": "bar",
           "x": [
            "Alberta",
            "British Columbia",
            "Manitoba",
            "New Brunswick",
            "New Brunswick/Quebec",
            "Newfoundland and Labrador",
            "Nova Scotia",
            "Ontario",
            "Ontario/Quebec",
            "Prince Edward Island",
            "Quebec",
            "Saskatchewan",
            "Saskatchewan/Alberta"
           ],
           "xaxis": "x",
           "y": [
            562.7692307692307,
            637.9462365591398,
            552.5714285714286,
            506.6,
            433.6666666666667,
            477.61538461538464,
            614.2352941176471,
            671.6344827586207,
            729.0666666666667,
            570.5714285714286,
            443.69827586206895,
            503.23333333333335,
            524.1428571428571
           ],
           "yaxis": "y"
          },
          {
           "alignmentgroup": "True",
           "hovertemplate": "Type of unit=Two bedroom units<br>YEAR=1995<br>PROVINCE=%{x}<br>MONTHLY RENT=%{y}<extra></extra>",
           "legendgroup": "Two bedroom units",
           "marker": {
            "color": "#ab63fa",
            "pattern": {
             "shape": ""
            }
           },
           "name": "Two bedroom units",
           "offsetgroup": "Two bedroom units",
           "orientation": "v",
           "showlegend": true,
           "textposition": "auto",
           "type": "bar",
           "x": [
            "Alberta",
            "British Columbia",
            "Manitoba",
            "New Brunswick",
            "New Brunswick/Quebec",
            "Newfoundland and Labrador",
            "Nova Scotia",
            "Ontario",
            "Ontario/Quebec",
            "Prince Edward Island",
            "Quebec",
            "Saskatchewan",
            "Saskatchewan/Alberta"
           ],
           "xaxis": "x",
           "y": [
            495.6923076923077,
            556.1632653061224,
            519.6923076923077,
            468.125,
            439.3333333333333,
            444.0833333333333,
            511.7647058823529,
            590.1818181818181,
            624.4,
            519.5,
            393.1081081081081,
            444.741935483871,
            450.42857142857144
           ],
           "yaxis": "y"
          }
         ],
         "name": "1995"
        },
        {
         "data": [
          {
           "alignmentgroup": "True",
           "hovertemplate": "Type of unit=Bachelor units<br>YEAR=1996<br>PROVINCE=%{x}<br>MONTHLY RENT=%{y}<extra></extra>",
           "legendgroup": "Bachelor units",
           "marker": {
            "color": "#636efa",
            "pattern": {
             "shape": ""
            }
           },
           "name": "Bachelor units",
           "offsetgroup": "Bachelor units",
           "orientation": "v",
           "showlegend": true,
           "textposition": "auto",
           "type": "bar",
           "x": [
            "Alberta",
            "British Columbia",
            "Manitoba",
            "New Brunswick",
            "New Brunswick/Quebec",
            "Newfoundland and Labrador",
            "Nova Scotia",
            "Ontario",
            "Ontario/Quebec",
            "Prince Edward Island",
            "Quebec",
            "Saskatchewan",
            "Saskatchewan/Alberta"
           ],
           "xaxis": "x",
           "y": [
            347.41379310344826,
            375.8169014084507,
            352.44444444444446,
            334.3333333333333,
            304,
            385.75,
            340.35714285714283,
            382.6218487394958,
            432.75,
            316.5,
            274.59574468085106,
            269.5652173913044,
            305.3333333333333
           ],
           "yaxis": "y"
          },
          {
           "alignmentgroup": "True",
           "hovertemplate": "Type of unit=One bedroom units<br>YEAR=1996<br>PROVINCE=%{x}<br>MONTHLY RENT=%{y}<extra></extra>",
           "legendgroup": "One bedroom units",
           "marker": {
            "color": "#EF553B",
            "pattern": {
             "shape": ""
            }
           },
           "name": "One bedroom units",
           "offsetgroup": "One bedroom units",
           "orientation": "v",
           "showlegend": true,
           "textposition": "auto",
           "type": "bar",
           "x": [
            "Alberta",
            "British Columbia",
            "Manitoba",
            "New Brunswick",
            "New Brunswick/Quebec",
            "Newfoundland and Labrador",
            "Nova Scotia",
            "Ontario",
            "Ontario/Quebec",
            "Prince Edward Island",
            "Quebec",
            "Saskatchewan",
            "Saskatchewan/Alberta"
           ],
           "xaxis": "x",
           "y": [
            412.56756756756755,
            456.56666666666666,
            431.0833333333333,
            395.8666666666667,
            353.3333333333333,
            402.2,
            422,
            500.03731343283584,
            509.5,
            404,
            336.3783783783784,
            361.44827586206895,
            367.8333333333333
           ],
           "yaxis": "y"
          },
          {
           "alignmentgroup": "True",
           "hovertemplate": "Type of unit=Three bedroom units<br>YEAR=1996<br>PROVINCE=%{x}<br>MONTHLY RENT=%{y}<extra></extra>",
           "legendgroup": "Three bedroom units",
           "marker": {
            "color": "#00cc96",
            "pattern": {
             "shape": ""
            }
           },
           "name": "Three bedroom units",
           "offsetgroup": "Three bedroom units",
           "orientation": "v",
           "showlegend": true,
           "textposition": "auto",
           "type": "bar",
           "x": [
            "Alberta",
            "British Columbia",
            "Manitoba",
            "New Brunswick",
            "New Brunswick/Quebec",
            "Newfoundland and Labrador",
            "Nova Scotia",
            "Ontario",
            "Ontario/Quebec",
            "Prince Edward Island",
            "Quebec",
            "Saskatchewan",
            "Saskatchewan/Alberta"
           ],
           "xaxis": "x",
           "y": [
            568.0526315789474,
            647.6041666666666,
            553.6,
            523.4375,
            461,
            485.5,
            625.0588235294117,
            674.24,
            737.6666666666666,
            570.375,
            445.3189655172414,
            508.82758620689657,
            532.8571428571429
           ],
           "yaxis": "y"
          },
          {
           "alignmentgroup": "True",
           "hovertemplate": "Type of unit=Two bedroom units<br>YEAR=1996<br>PROVINCE=%{x}<br>MONTHLY RENT=%{y}<extra></extra>",
           "legendgroup": "Two bedroom units",
           "marker": {
            "color": "#ab63fa",
            "pattern": {
             "shape": ""
            }
           },
           "name": "Two bedroom units",
           "offsetgroup": "Two bedroom units",
           "orientation": "v",
           "showlegend": true,
           "textposition": "auto",
           "type": "bar",
           "x": [
            "Alberta",
            "British Columbia",
            "Manitoba",
            "New Brunswick",
            "New Brunswick/Quebec",
            "Newfoundland and Labrador",
            "Nova Scotia",
            "Ontario",
            "Ontario/Quebec",
            "Prince Edward Island",
            "Quebec",
            "Saskatchewan",
            "Saskatchewan/Alberta"
           ],
           "xaxis": "x",
           "y": [
            498.05128205128204,
            561.4947368421052,
            521.8461538461538,
            465.88235294117646,
            453,
            457.06666666666666,
            523.8125,
            595.1,
            632.7333333333333,
            519.6666666666666,
            397.6814159292035,
            452.258064516129,
            458.14285714285717
           ],
           "yaxis": "y"
          }
         ],
         "name": "1996"
        },
        {
         "data": [
          {
           "alignmentgroup": "True",
           "hovertemplate": "Type of unit=Bachelor units<br>YEAR=1997<br>PROVINCE=%{x}<br>MONTHLY RENT=%{y}<extra></extra>",
           "legendgroup": "Bachelor units",
           "marker": {
            "color": "#636efa",
            "pattern": {
             "shape": ""
            }
           },
           "name": "Bachelor units",
           "offsetgroup": "Bachelor units",
           "orientation": "v",
           "showlegend": true,
           "textposition": "auto",
           "type": "bar",
           "x": [
            "Alberta",
            "British Columbia",
            "Manitoba",
            "New Brunswick",
            "New Brunswick/Quebec",
            "Newfoundland and Labrador",
            "Nova Scotia",
            "Ontario",
            "Ontario/Quebec",
            "Prince Edward Island",
            "Quebec",
            "Saskatchewan",
            "Saskatchewan/Alberta"
           ],
           "xaxis": "x",
           "y": [
            359.44827586206895,
            381.57142857142856,
            352.1111111111111,
            336.8,
            295,
            375.6,
            339.42857142857144,
            388.76785714285717,
            431.54545454545456,
            344,
            275.8791208791209,
            275.54545454545456,
            337
           ],
           "yaxis": "y"
          },
          {
           "alignmentgroup": "True",
           "hovertemplate": "Type of unit=One bedroom units<br>YEAR=1997<br>PROVINCE=%{x}<br>MONTHLY RENT=%{y}<extra></extra>",
           "legendgroup": "One bedroom units",
           "marker": {
            "color": "#EF553B",
            "pattern": {
             "shape": ""
            }
           },
           "name": "One bedroom units",
           "offsetgroup": "One bedroom units",
           "orientation": "v",
           "showlegend": true,
           "textposition": "auto",
           "type": "bar",
           "x": [
            "Alberta",
            "British Columbia",
            "Manitoba",
            "New Brunswick",
            "New Brunswick/Quebec",
            "Newfoundland and Labrador",
            "Nova Scotia",
            "Ontario",
            "Ontario/Quebec",
            "Prince Edward Island",
            "Quebec",
            "Saskatchewan",
            "Saskatchewan/Alberta"
           ],
           "xaxis": "x",
           "y": [
            432.3611111111111,
            459.9886363636364,
            434.2142857142857,
            397.93333333333334,
            354,
            402.35714285714283,
            420.73333333333335,
            500.57342657342656,
            511.35714285714283,
            409.8333333333333,
            338.6936936936937,
            371.5925925925926,
            398
           ],
           "yaxis": "y"
          },
          {
           "alignmentgroup": "True",
           "hovertemplate": "Type of unit=Three bedroom units<br>YEAR=1997<br>PROVINCE=%{x}<br>MONTHLY RENT=%{y}<extra></extra>",
           "legendgroup": "Three bedroom units",
           "marker": {
            "color": "#00cc96",
            "pattern": {
             "shape": ""
            }
           },
           "name": "Three bedroom units",
           "offsetgroup": "Three bedroom units",
           "orientation": "v",
           "showlegend": true,
           "textposition": "auto",
           "type": "bar",
           "x": [
            "Alberta",
            "British Columbia",
            "Manitoba",
            "New Brunswick",
            "New Brunswick/Quebec",
            "Newfoundland and Labrador",
            "Nova Scotia",
            "Ontario",
            "Ontario/Quebec",
            "Prince Edward Island",
            "Quebec",
            "Saskatchewan",
            "Saskatchewan/Alberta"
           ],
           "xaxis": "x",
           "y": [
            584.078947368421,
            647.1979166666666,
            571.6666666666666,
            533.375,
            471.3333333333333,
            492.5,
            617.7058823529412,
            677.7986577181208,
            737.8666666666667,
            583.875,
            450.26724137931035,
            520.7666666666667,
            568
           ],
           "yaxis": "y"
          },
          {
           "alignmentgroup": "True",
           "hovertemplate": "Type of unit=Two bedroom units<br>YEAR=1997<br>PROVINCE=%{x}<br>MONTHLY RENT=%{y}<extra></extra>",
           "legendgroup": "Two bedroom units",
           "marker": {
            "color": "#ab63fa",
            "pattern": {
             "shape": ""
            }
           },
           "name": "Two bedroom units",
           "offsetgroup": "Two bedroom units",
           "orientation": "v",
           "showlegend": true,
           "textposition": "auto",
           "type": "bar",
           "x": [
            "Alberta",
            "British Columbia",
            "Manitoba",
            "New Brunswick",
            "New Brunswick/Quebec",
            "Newfoundland and Labrador",
            "Nova Scotia",
            "Ontario",
            "Ontario/Quebec",
            "Prince Edward Island",
            "Quebec",
            "Saskatchewan",
            "Saskatchewan/Alberta"
           ],
           "xaxis": "x",
           "y": [
            518.9459459459459,
            565.3645833333334,
            528.2142857142857,
            473.29411764705884,
            455,
            460.6666666666667,
            523.4705882352941,
            600.0636942675159,
            626.4666666666667,
            520.3333333333334,
            402.97391304347826,
            467.19354838709677,
            491.8333333333333
           ],
           "yaxis": "y"
          }
         ],
         "name": "1997"
        },
        {
         "data": [
          {
           "alignmentgroup": "True",
           "hovertemplate": "Type of unit=Bachelor units<br>YEAR=1998<br>PROVINCE=%{x}<br>MONTHLY RENT=%{y}<extra></extra>",
           "legendgroup": "Bachelor units",
           "marker": {
            "color": "#636efa",
            "pattern": {
             "shape": ""
            }
           },
           "name": "Bachelor units",
           "offsetgroup": "Bachelor units",
           "orientation": "v",
           "showlegend": true,
           "textposition": "auto",
           "type": "bar",
           "x": [
            "Alberta",
            "British Columbia",
            "Manitoba",
            "New Brunswick",
            "New Brunswick/Quebec",
            "Newfoundland and Labrador",
            "Northwest Territories",
            "Nova Scotia",
            "Ontario",
            "Ontario/Quebec",
            "Prince Edward Island",
            "Quebec",
            "Saskatchewan",
            "Saskatchewan/Alberta"
           ],
           "xaxis": "x",
           "y": [
            380.0967741935484,
            375.2857142857143,
            356.77777777777777,
            322.29411764705884,
            307,
            348.4,
            643,
            350.57142857142856,
            398.1826923076923,
            446.9166666666667,
            366.3333333333333,
            276.70588235294116,
            282.7916666666667,
            335
           ],
           "yaxis": "y"
          },
          {
           "alignmentgroup": "True",
           "hovertemplate": "Type of unit=One bedroom units<br>YEAR=1998<br>PROVINCE=%{x}<br>MONTHLY RENT=%{y}<extra></extra>",
           "legendgroup": "One bedroom units",
           "marker": {
            "color": "#EF553B",
            "pattern": {
             "shape": ""
            }
           },
           "name": "One bedroom units",
           "offsetgroup": "One bedroom units",
           "orientation": "v",
           "showlegend": true,
           "textposition": "auto",
           "type": "bar",
           "x": [
            "Alberta",
            "British Columbia",
            "Manitoba",
            "New Brunswick",
            "New Brunswick/Quebec",
            "Newfoundland and Labrador",
            "Northwest Territories",
            "Nova Scotia",
            "Ontario",
            "Ontario/Quebec",
            "Prince Edward Island",
            "Quebec",
            "Saskatchewan",
            "Saskatchewan/Alberta"
           ],
           "xaxis": "x",
           "y": [
            461.92105263157896,
            455.2197802197802,
            447.38461538461536,
            391.3888888888889,
            360.3333333333333,
            403.42857142857144,
            838,
            429.93333333333334,
            511.5263157894737,
            520.6428571428571,
            414,
            338.2710280373832,
            380.84615384615387,
            404.8333333333333
           ],
           "yaxis": "y"
          },
          {
           "alignmentgroup": "True",
           "hovertemplate": "Type of unit=Three bedroom units<br>YEAR=1998<br>PROVINCE=%{x}<br>MONTHLY RENT=%{y}<extra></extra>",
           "legendgroup": "Three bedroom units",
           "marker": {
            "color": "#00cc96",
            "pattern": {
             "shape": ""
            }
           },
           "name": "Three bedroom units",
           "offsetgroup": "Three bedroom units",
           "orientation": "v",
           "showlegend": true,
           "textposition": "auto",
           "type": "bar",
           "x": [
            "Alberta",
            "British Columbia",
            "Manitoba",
            "New Brunswick",
            "New Brunswick/Quebec",
            "Newfoundland and Labrador",
            "Northwest Territories",
            "Nova Scotia",
            "Ontario",
            "Ontario/Quebec",
            "Prince Edward Island",
            "Quebec",
            "Saskatchewan",
            "Saskatchewan/Alberta"
           ],
           "xaxis": "x",
           "y": [
            617.675,
            641.9795918367347,
            576.7142857142857,
            530.0555555555555,
            480,
            487.5,
            1231.75,
            643.9411764705883,
            693.6620689655173,
            746.3333333333334,
            596.125,
            452.64912280701753,
            533.4666666666667,
            570
           ],
           "yaxis": "y"
          },
          {
           "alignmentgroup": "True",
           "hovertemplate": "Type of unit=Two bedroom units<br>YEAR=1998<br>PROVINCE=%{x}<br>MONTHLY RENT=%{y}<extra></extra>",
           "legendgroup": "Two bedroom units",
           "marker": {
            "color": "#ab63fa",
            "pattern": {
             "shape": ""
            }
           },
           "name": "Two bedroom units",
           "offsetgroup": "Two bedroom units",
           "orientation": "v",
           "showlegend": true,
           "textposition": "auto",
           "type": "bar",
           "x": [
            "Alberta",
            "British Columbia",
            "Manitoba",
            "New Brunswick",
            "New Brunswick/Quebec",
            "Newfoundland and Labrador",
            "Northwest Territories",
            "Nova Scotia",
            "Ontario",
            "Ontario/Quebec",
            "Prince Edward Island",
            "Quebec",
            "Saskatchewan",
            "Saskatchewan/Alberta"
           ],
           "xaxis": "x",
           "y": [
            550.390243902439,
            559.9795918367347,
            533,
            469.95,
            452.3333333333333,
            457.5625,
            1030,
            531.8235294117648,
            612.987012987013,
            641.6,
            526.3333333333334,
            407.54782608695655,
            473.5483870967742,
            503
           ],
           "yaxis": "y"
          }
         ],
         "name": "1998"
        },
        {
         "data": [
          {
           "alignmentgroup": "True",
           "hovertemplate": "Type of unit=Bachelor units<br>YEAR=1999<br>PROVINCE=%{x}<br>MONTHLY RENT=%{y}<extra></extra>",
           "legendgroup": "Bachelor units",
           "marker": {
            "color": "#636efa",
            "pattern": {
             "shape": ""
            }
           },
           "name": "Bachelor units",
           "offsetgroup": "Bachelor units",
           "orientation": "v",
           "showlegend": true,
           "textposition": "auto",
           "type": "bar",
           "x": [
            "Alberta",
            "British Columbia",
            "Manitoba",
            "New Brunswick",
            "New Brunswick/Quebec",
            "Newfoundland and Labrador",
            "Northwest Territories",
            "Nova Scotia",
            "Ontario",
            "Ontario/Quebec",
            "Prince Edward Island",
            "Quebec",
            "Saskatchewan",
            "Saskatchewan/Alberta"
           ],
           "xaxis": "x",
           "y": [
            382.5483870967742,
            374.35526315789474,
            357.3333333333333,
            334.88235294117646,
            303,
            387.3333333333333,
            646,
            357.85714285714283,
            404.6306306306306,
            452.92857142857144,
            338.8,
            281.39130434782606,
            291.9166666666667,
            340.3333333333333
           ],
           "yaxis": "y"
          },
          {
           "alignmentgroup": "True",
           "hovertemplate": "Type of unit=One bedroom units<br>YEAR=1999<br>PROVINCE=%{x}<br>MONTHLY RENT=%{y}<extra></extra>",
           "legendgroup": "One bedroom units",
           "marker": {
            "color": "#EF553B",
            "pattern": {
             "shape": ""
            }
           },
           "name": "One bedroom units",
           "offsetgroup": "One bedroom units",
           "orientation": "v",
           "showlegend": true,
           "textposition": "auto",
           "type": "bar",
           "x": [
            "Alberta",
            "British Columbia",
            "Manitoba",
            "New Brunswick",
            "New Brunswick/Quebec",
            "Newfoundland and Labrador",
            "Northwest Territories",
            "Nova Scotia",
            "Ontario",
            "Ontario/Quebec",
            "Prince Edward Island",
            "Quebec",
            "Saskatchewan",
            "Saskatchewan/Alberta"
           ],
           "xaxis": "x",
           "y": [
            467.84615384615387,
            454.20652173913044,
            439.4166666666667,
            399.94444444444446,
            354,
            394.8333333333333,
            822,
            436.1333333333333,
            515.7338129496403,
            530.3571428571429,
            406,
            342.2897196261682,
            383.6896551724138,
            399.5
           ],
           "yaxis": "y"
          },
          {
           "alignmentgroup": "True",
           "hovertemplate": "Type of unit=Three bedroom units<br>YEAR=1999<br>PROVINCE=%{x}<br>MONTHLY RENT=%{y}<extra></extra>",
           "legendgroup": "Three bedroom units",
           "marker": {
            "color": "#00cc96",
            "pattern": {
             "shape": ""
            }
           },
           "name": "Three bedroom units",
           "offsetgroup": "Three bedroom units",
           "orientation": "v",
           "showlegend": true,
           "textposition": "auto",
           "type": "bar",
           "x": [
            "Alberta",
            "British Columbia",
            "Manitoba",
            "New Brunswick",
            "New Brunswick/Quebec",
            "Newfoundland and Labrador",
            "Northwest Territories",
            "Nova Scotia",
            "Ontario",
            "Ontario/Quebec",
            "Prince Edward Island",
            "Quebec",
            "Saskatchewan",
            "Saskatchewan/Alberta"
           ],
           "xaxis": "x",
           "y": [
            630.45,
            642.8350515463917,
            567.6153846153846,
            526.6666666666666,
            493.3333333333333,
            477.2,
            1223,
            654.0588235294117,
            697.5034013605442,
            756.3125,
            619.625,
            454.2566371681416,
            544.4666666666667,
            566
           ],
           "yaxis": "y"
          },
          {
           "alignmentgroup": "True",
           "hovertemplate": "Type of unit=Two bedroom units<br>YEAR=1999<br>PROVINCE=%{x}<br>MONTHLY RENT=%{y}<extra></extra>",
           "legendgroup": "Two bedroom units",
           "marker": {
            "color": "#ab63fa",
            "pattern": {
             "shape": ""
            }
           },
           "name": "Two bedroom units",
           "offsetgroup": "Two bedroom units",
           "orientation": "v",
           "showlegend": true,
           "textposition": "auto",
           "type": "bar",
           "x": [
            "Alberta",
            "British Columbia",
            "Manitoba",
            "New Brunswick",
            "New Brunswick/Quebec",
            "Newfoundland and Labrador",
            "Northwest Territories",
            "Nova Scotia",
            "Ontario",
            "Ontario/Quebec",
            "Prince Edward Island",
            "Quebec",
            "Saskatchewan",
            "Saskatchewan/Alberta"
           ],
           "xaxis": "x",
           "y": [
            559.0243902439024,
            554.9479166666666,
            538.1538461538462,
            487.23809523809524,
            457.6666666666667,
            458,
            987,
            543.4705882352941,
            622.8301886792453,
            656,
            533.5714285714286,
            409.17543859649123,
            484.3225806451613,
            497.5
           ],
           "yaxis": "y"
          }
         ],
         "name": "1999"
        },
        {
         "data": [
          {
           "alignmentgroup": "True",
           "hovertemplate": "Type of unit=Bachelor units<br>YEAR=2000<br>PROVINCE=%{x}<br>MONTHLY RENT=%{y}<extra></extra>",
           "legendgroup": "Bachelor units",
           "marker": {
            "color": "#636efa",
            "pattern": {
             "shape": ""
            }
           },
           "name": "Bachelor units",
           "offsetgroup": "Bachelor units",
           "orientation": "v",
           "showlegend": true,
           "textposition": "auto",
           "type": "bar",
           "x": [
            "Alberta",
            "British Columbia",
            "Manitoba",
            "New Brunswick",
            "New Brunswick/Quebec",
            "Newfoundland and Labrador",
            "Northwest Territories",
            "Nova Scotia",
            "Ontario",
            "Ontario/Quebec",
            "Prince Edward Island",
            "Quebec",
            "Saskatchewan",
            "Saskatchewan/Alberta"
           ],
           "xaxis": "x",
           "y": [
            444.3636363636364,
            374.54545454545456,
            350.09090909090907,
            344.1333333333333,
            670.3333333333334,
            424.3333333333333,
            657,
            380.15384615384613,
            414.06363636363636,
            511.7,
            372.3333333333333,
            285.1195652173913,
            292.4,
            344
           ],
           "yaxis": "y"
          },
          {
           "alignmentgroup": "True",
           "hovertemplate": "Type of unit=One bedroom units<br>YEAR=2000<br>PROVINCE=%{x}<br>MONTHLY RENT=%{y}<extra></extra>",
           "legendgroup": "One bedroom units",
           "marker": {
            "color": "#EF553B",
            "pattern": {
             "shape": ""
            }
           },
           "name": "One bedroom units",
           "offsetgroup": "One bedroom units",
           "orientation": "v",
           "showlegend": true,
           "textposition": "auto",
           "type": "bar",
           "x": [
            "Alberta",
            "British Columbia",
            "Manitoba",
            "New Brunswick",
            "New Brunswick/Quebec",
            "Newfoundland and Labrador",
            "Northwest Territories",
            "Nova Scotia",
            "Ontario",
            "Ontario/Quebec",
            "Prince Edward Island",
            "Quebec",
            "Saskatchewan",
            "Saskatchewan/Alberta"
           ],
           "xaxis": "x",
           "y": [
            498.10526315789474,
            451.61538461538464,
            446.3333333333333,
            409.44444444444446,
            356.6666666666667,
            404.0833333333333,
            852.6666666666666,
            448.8666666666667,
            530.68345323741,
            577.4166666666666,
            412.3333333333333,
            342.64220183486236,
            389.8666666666667,
            419.3333333333333
           ],
           "yaxis": "y"
          },
          {
           "alignmentgroup": "True",
           "hovertemplate": "Type of unit=Three bedroom units<br>YEAR=2000<br>PROVINCE=%{x}<br>MONTHLY RENT=%{y}<extra></extra>",
           "legendgroup": "Three bedroom units",
           "marker": {
            "color": "#00cc96",
            "pattern": {
             "shape": ""
            }
           },
           "name": "Three bedroom units",
           "offsetgroup": "Three bedroom units",
           "orientation": "v",
           "showlegend": true,
           "textposition": "auto",
           "type": "bar",
           "x": [
            "Alberta",
            "British Columbia",
            "Manitoba",
            "New Brunswick",
            "New Brunswick/Quebec",
            "Newfoundland and Labrador",
            "Northwest Territories",
            "Nova Scotia",
            "Ontario",
            "Ontario/Quebec",
            "Prince Edward Island",
            "Quebec",
            "Saskatchewan",
            "Saskatchewan/Alberta"
           ],
           "xaxis": "x",
           "y": [
            652.9,
            639.8333333333334,
            588.3846153846154,
            551.0526315789474,
            495.6666666666667,
            486.06666666666666,
            1224.5,
            686.4375,
            714.5704697986578,
            841.2142857142857,
            629.125,
            459.74782608695654,
            547.0666666666667,
            580.5714285714286
           ],
           "yaxis": "y"
          },
          {
           "alignmentgroup": "True",
           "hovertemplate": "Type of unit=Two bedroom units<br>YEAR=2000<br>PROVINCE=%{x}<br>MONTHLY RENT=%{y}<extra></extra>",
           "legendgroup": "Two bedroom units",
           "marker": {
            "color": "#ab63fa",
            "pattern": {
             "shape": ""
            }
           },
           "name": "Two bedroom units",
           "offsetgroup": "Two bedroom units",
           "orientation": "v",
           "showlegend": true,
           "textposition": "auto",
           "type": "bar",
           "x": [
            "Alberta",
            "British Columbia",
            "Manitoba",
            "New Brunswick",
            "New Brunswick/Quebec",
            "Newfoundland and Labrador",
            "Northwest Territories",
            "Nova Scotia",
            "Ontario",
            "Ontario/Quebec",
            "Prince Edward Island",
            "Quebec",
            "Saskatchewan",
            "Saskatchewan/Alberta"
           ],
           "xaxis": "x",
           "y": [
            590.0238095238095,
            549.2121212121212,
            542.9285714285714,
            496.6842105263158,
            451.3333333333333,
            470.93333333333334,
            1008,
            557.375,
            632.2142857142857,
            716.5333333333333,
            531,
            413.39473684210526,
            491.06451612903226,
            506.2857142857143
           ],
           "yaxis": "y"
          }
         ],
         "name": "2000"
        },
        {
         "data": [
          {
           "alignmentgroup": "True",
           "hovertemplate": "Type of unit=Bachelor units<br>YEAR=2001<br>PROVINCE=%{x}<br>MONTHLY RENT=%{y}<extra></extra>",
           "legendgroup": "Bachelor units",
           "marker": {
            "color": "#636efa",
            "pattern": {
             "shape": ""
            }
           },
           "name": "Bachelor units",
           "offsetgroup": "Bachelor units",
           "orientation": "v",
           "showlegend": true,
           "textposition": "auto",
           "type": "bar",
           "x": [
            "Alberta",
            "British Columbia",
            "Manitoba",
            "New Brunswick",
            "New Brunswick/Quebec",
            "Newfoundland and Labrador",
            "Northwest Territories",
            "Nova Scotia",
            "Ontario",
            "Ontario/Quebec",
            "Prince Edward Island",
            "Quebec",
            "Saskatchewan"
           ],
           "xaxis": "x",
           "y": [
            461.44444444444446,
            379.42028985507244,
            370.75,
            342.11764705882354,
            293,
            413.6,
            733,
            386.5,
            422.5,
            550.5555555555555,
            359.8333333333333,
            287.1666666666667,
            302.5416666666667
           ],
           "yaxis": "y"
          },
          {
           "alignmentgroup": "True",
           "hovertemplate": "Type of unit=One bedroom units<br>YEAR=2001<br>PROVINCE=%{x}<br>MONTHLY RENT=%{y}<extra></extra>",
           "legendgroup": "One bedroom units",
           "marker": {
            "color": "#EF553B",
            "pattern": {
             "shape": ""
            }
           },
           "name": "One bedroom units",
           "offsetgroup": "One bedroom units",
           "orientation": "v",
           "showlegend": true,
           "textposition": "auto",
           "type": "bar",
           "x": [
            "Alberta",
            "British Columbia",
            "Manitoba",
            "New Brunswick",
            "New Brunswick/Quebec",
            "Newfoundland and Labrador",
            "Northwest Territories",
            "Nova Scotia",
            "Ontario",
            "Ontario/Quebec",
            "Prince Edward Island",
            "Quebec",
            "Saskatchewan",
            "Saskatchewan/Alberta"
           ],
           "xaxis": "x",
           "y": [
            537.6666666666666,
            454.64772727272725,
            453.0833333333333,
            414.05555555555554,
            365.6666666666667,
            413.5833333333333,
            930,
            453.06666666666666,
            542.5460992907801,
            609.8333333333334,
            431.3333333333333,
            348.1111111111111,
            409.44444444444446,
            462.1666666666667
           ],
           "yaxis": "y"
          },
          {
           "alignmentgroup": "True",
           "hovertemplate": "Type of unit=Three bedroom units<br>YEAR=2001<br>PROVINCE=%{x}<br>MONTHLY RENT=%{y}<extra></extra>",
           "legendgroup": "Three bedroom units",
           "marker": {
            "color": "#00cc96",
            "pattern": {
             "shape": ""
            }
           },
           "name": "Three bedroom units",
           "offsetgroup": "Three bedroom units",
           "orientation": "v",
           "showlegend": true,
           "textposition": "auto",
           "type": "bar",
           "x": [
            "Alberta",
            "British Columbia",
            "Manitoba",
            "New Brunswick",
            "New Brunswick/Quebec",
            "Newfoundland and Labrador",
            "Northwest Territories",
            "Nova Scotia",
            "Ontario",
            "Ontario/Quebec",
            "Prince Edward Island",
            "Quebec",
            "Saskatchewan",
            "Saskatchewan/Alberta"
           ],
           "xaxis": "x",
           "y": [
            709.025641025641,
            639.5578947368421,
            597.3846153846154,
            562.0526315789474,
            519,
            488.8,
            1281.5,
            690.2352941176471,
            730.3552631578947,
            844,
            623,
            466.43859649122805,
            557.1379310344828,
            645
           ],
           "yaxis": "y"
          },
          {
           "alignmentgroup": "True",
           "hovertemplate": "Type of unit=Two bedroom units<br>YEAR=2001<br>PROVINCE=%{x}<br>MONTHLY RENT=%{y}<extra></extra>",
           "legendgroup": "Two bedroom units",
           "marker": {
            "color": "#ab63fa",
            "pattern": {
             "shape": ""
            }
           },
           "name": "Two bedroom units",
           "offsetgroup": "Two bedroom units",
           "orientation": "v",
           "showlegend": true,
           "textposition": "auto",
           "type": "bar",
           "x": [
            "Alberta",
            "British Columbia",
            "Manitoba",
            "New Brunswick",
            "New Brunswick/Quebec",
            "Newfoundland and Labrador",
            "Northwest Territories",
            "Nova Scotia",
            "Ontario",
            "Ontario/Quebec",
            "Prince Edward Island",
            "Quebec",
            "Saskatchewan",
            "Saskatchewan/Alberta"
           ],
           "xaxis": "x",
           "y": [
            640.4761904761905,
            556.9489795918367,
            556.5,
            507.42857142857144,
            459.6666666666667,
            491.3333333333333,
            1082,
            561.125,
            648.0625,
            746.0714285714286,
            551,
            418.7280701754386,
            500.9032258064516,
            564.5
           ],
           "yaxis": "y"
          }
         ],
         "name": "2001"
        },
        {
         "data": [
          {
           "alignmentgroup": "True",
           "hovertemplate": "Type of unit=Bachelor units<br>YEAR=2002<br>PROVINCE=%{x}<br>MONTHLY RENT=%{y}<extra></extra>",
           "legendgroup": "Bachelor units",
           "marker": {
            "color": "#636efa",
            "pattern": {
             "shape": ""
            }
           },
           "name": "Bachelor units",
           "offsetgroup": "Bachelor units",
           "orientation": "v",
           "showlegend": true,
           "textposition": "auto",
           "type": "bar",
           "x": [
            "Alberta",
            "British Columbia",
            "Manitoba",
            "New Brunswick",
            "New Brunswick/Quebec",
            "Newfoundland and Labrador",
            "Northwest Territories",
            "Nova Scotia",
            "Ontario",
            "Ontario/Quebec",
            "Prince Edward Island",
            "Quebec",
            "Saskatchewan",
            "Saskatchewan/Alberta"
           ],
           "xaxis": "x",
           "y": [
            488.11538461538464,
            404.1,
            361.54545454545456,
            362.77777777777777,
            318.6666666666667,
            380.8,
            797.3333333333334,
            400.9230769230769,
            455.9626168224299,
            555.7777777777778,
            379.8333333333333,
            302.3225806451613,
            305.7142857142857,
            380
           ],
           "yaxis": "y"
          },
          {
           "alignmentgroup": "True",
           "hovertemplate": "Type of unit=One bedroom units<br>YEAR=2002<br>PROVINCE=%{x}<br>MONTHLY RENT=%{y}<extra></extra>",
           "legendgroup": "One bedroom units",
           "marker": {
            "color": "#EF553B",
            "pattern": {
             "shape": ""
            }
           },
           "name": "One bedroom units",
           "offsetgroup": "One bedroom units",
           "orientation": "v",
           "showlegend": true,
           "textposition": "auto",
           "type": "bar",
           "x": [
            "Alberta",
            "British Columbia",
            "Manitoba",
            "New Brunswick",
            "New Brunswick/Quebec",
            "Newfoundland and Labrador",
            "Northwest Territories",
            "Nova Scotia",
            "Ontario",
            "Ontario/Quebec",
            "Prince Edward Island",
            "Quebec",
            "Saskatchewan",
            "Saskatchewan/Alberta"
           ],
           "xaxis": "x",
           "y": [
            557.974358974359,
            478.2823529411765,
            463.4166666666667,
            424.8888888888889,
            365.6666666666667,
            411.25,
            1000,
            466.2,
            572.9770992366413,
            622.25,
            445.5,
            368.9252336448598,
            409.39285714285717,
            477.2
           ],
           "yaxis": "y"
          },
          {
           "alignmentgroup": "True",
           "hovertemplate": "Type of unit=Three bedroom units<br>YEAR=2002<br>PROVINCE=%{x}<br>MONTHLY RENT=%{y}<extra></extra>",
           "legendgroup": "Three bedroom units",
           "marker": {
            "color": "#00cc96",
            "pattern": {
             "shape": ""
            }
           },
           "name": "Three bedroom units",
           "offsetgroup": "Three bedroom units",
           "orientation": "v",
           "showlegend": true,
           "textposition": "auto",
           "type": "bar",
           "x": [
            "Alberta",
            "British Columbia",
            "Manitoba",
            "New Brunswick",
            "New Brunswick/Quebec",
            "Newfoundland and Labrador",
            "Northwest Territories",
            "Nova Scotia",
            "Ontario",
            "Ontario/Quebec",
            "Prince Edward Island",
            "Quebec",
            "Saskatchewan",
            "Saskatchewan/Alberta"
           ],
           "xaxis": "x",
           "y": [
            738.7,
            679.1458333333334,
            595.8,
            578.6315789473684,
            521.3333333333334,
            502.8666666666667,
            1322.75,
            714.8235294117648,
            770.7482993197278,
            902.0769230769231,
            632.25,
            488.625,
            569.8571428571429,
            633.6666666666666
           ],
           "yaxis": "y"
          },
          {
           "alignmentgroup": "True",
           "hovertemplate": "Type of unit=Two bedroom units<br>YEAR=2002<br>PROVINCE=%{x}<br>MONTHLY RENT=%{y}<extra></extra>",
           "legendgroup": "Two bedroom units",
           "marker": {
            "color": "#ab63fa",
            "pattern": {
             "shape": ""
            }
           },
           "name": "Two bedroom units",
           "offsetgroup": "Two bedroom units",
           "orientation": "v",
           "showlegend": true,
           "textposition": "auto",
           "type": "bar",
           "x": [
            "Alberta",
            "British Columbia",
            "Manitoba",
            "New Brunswick",
            "New Brunswick/Quebec",
            "Newfoundland and Labrador",
            "Northwest Territories",
            "Nova Scotia",
            "Ontario",
            "Ontario/Quebec",
            "Prince Edward Island",
            "Quebec",
            "Saskatchewan",
            "Saskatchewan/Alberta"
           ],
           "xaxis": "x",
           "y": [
            664.439024390244,
            582.6989247311828,
            568.0666666666667,
            517.6666666666666,
            473,
            497.625,
            1120,
            567.75,
            680.0604026845638,
            767.7857142857143,
            559,
            441.72566371681415,
            504.61290322580646,
            572.6
           ],
           "yaxis": "y"
          }
         ],
         "name": "2002"
        },
        {
         "data": [
          {
           "alignmentgroup": "True",
           "hovertemplate": "Type of unit=Bachelor units<br>YEAR=2003<br>PROVINCE=%{x}<br>MONTHLY RENT=%{y}<extra></extra>",
           "legendgroup": "Bachelor units",
           "marker": {
            "color": "#636efa",
            "pattern": {
             "shape": ""
            }
           },
           "name": "Bachelor units",
           "offsetgroup": "Bachelor units",
           "orientation": "v",
           "showlegend": true,
           "textposition": "auto",
           "type": "bar",
           "x": [
            "Alberta",
            "British Columbia",
            "Manitoba",
            "New Brunswick",
            "New Brunswick/Quebec",
            "Newfoundland and Labrador",
            "Northwest Territories",
            "Nova Scotia",
            "Ontario",
            "Ontario/Quebec",
            "Prince Edward Island",
            "Quebec",
            "Saskatchewan",
            "Saskatchewan/Alberta"
           ],
           "xaxis": "x",
           "y": [
            504.04545454545456,
            411.46031746031747,
            393.5,
            363.70588235294116,
            316,
            469.3333333333333,
            813.3333333333334,
            405.15384615384613,
            457.67857142857144,
            546.6363636363636,
            377,
            315.5072463768116,
            312.5,
            403
           ],
           "yaxis": "y"
          },
          {
           "alignmentgroup": "True",
           "hovertemplate": "Type of unit=One bedroom units<br>YEAR=2003<br>PROVINCE=%{x}<br>MONTHLY RENT=%{y}<extra></extra>",
           "legendgroup": "One bedroom units",
           "marker": {
            "color": "#EF553B",
            "pattern": {
             "shape": ""
            }
           },
           "name": "One bedroom units",
           "offsetgroup": "One bedroom units",
           "orientation": "v",
           "showlegend": true,
           "textposition": "auto",
           "type": "bar",
           "x": [
            "Alberta",
            "British Columbia",
            "Manitoba",
            "New Brunswick",
            "New Brunswick/Quebec",
            "Newfoundland and Labrador",
            "Northwest Territories",
            "Nova Scotia",
            "Ontario",
            "Ontario/Quebec",
            "Prince Edward Island",
            "Quebec",
            "Saskatchewan",
            "Saskatchewan/Alberta"
           ],
           "xaxis": "x",
           "y": [
            565.9736842105264,
            487.5952380952381,
            469.3333333333333,
            433.5,
            370,
            454.57142857142856,
            1046.6666666666667,
            482.8666666666667,
            585.936507936508,
            639.6428571428571,
            443.5,
            374.65384615384613,
            419.962962962963,
            502.3333333333333
           ],
           "yaxis": "y"
          },
          {
           "alignmentgroup": "True",
           "hovertemplate": "Type of unit=Three bedroom units<br>YEAR=2003<br>PROVINCE=%{x}<br>MONTHLY RENT=%{y}<extra></extra>",
           "legendgroup": "Three bedroom units",
           "marker": {
            "color": "#00cc96",
            "pattern": {
             "shape": ""
            }
           },
           "name": "Three bedroom units",
           "offsetgroup": "Three bedroom units",
           "orientation": "v",
           "showlegend": true,
           "textposition": "auto",
           "type": "bar",
           "x": [
            "Alberta",
            "British Columbia",
            "Manitoba",
            "New Brunswick",
            "New Brunswick/Quebec",
            "Newfoundland and Labrador",
            "Northwest Territories",
            "Nova Scotia",
            "Ontario",
            "Ontario/Quebec",
            "Prince Edward Island",
            "Quebec",
            "Saskatchewan",
            "Saskatchewan/Alberta"
           ],
           "xaxis": "x",
           "y": [
            740.65,
            682.8510638297872,
            603.0666666666667,
            589.4736842105264,
            507.6666666666667,
            506.6,
            1377.25,
            737.4117647058823,
            790.3028169014085,
            901.9333333333333,
            667.375,
            503.0450450450451,
            581.0357142857143,
            653.5
           ],
           "yaxis": "y"
          },
          {
           "alignmentgroup": "True",
           "hovertemplate": "Type of unit=Two bedroom units<br>YEAR=2003<br>PROVINCE=%{x}<br>MONTHLY RENT=%{y}<extra></extra>",
           "legendgroup": "Two bedroom units",
           "marker": {
            "color": "#ab63fa",
            "pattern": {
             "shape": ""
            }
           },
           "name": "Two bedroom units",
           "offsetgroup": "Two bedroom units",
           "orientation": "v",
           "showlegend": true,
           "textposition": "auto",
           "type": "bar",
           "x": [
            "Alberta",
            "British Columbia",
            "Manitoba",
            "New Brunswick",
            "New Brunswick/Quebec",
            "Newfoundland and Labrador",
            "Northwest Territories",
            "Nova Scotia",
            "Ontario",
            "Ontario/Quebec",
            "Prince Edward Island",
            "Quebec",
            "Saskatchewan",
            "Saskatchewan/Alberta"
           ],
           "xaxis": "x",
           "y": [
            670.1666666666666,
            594.7802197802198,
            579.5,
            510.05,
            476,
            534.4166666666666,
            1257.25,
            597.3888888888889,
            697.5174825174826,
            730.7058823529412,
            565.4285714285714,
            450.0462962962963,
            513.5333333333333,
            596.1666666666666
           ],
           "yaxis": "y"
          }
         ],
         "name": "2003"
        },
        {
         "data": [
          {
           "alignmentgroup": "True",
           "hovertemplate": "Type of unit=Bachelor units<br>YEAR=2004<br>PROVINCE=%{x}<br>MONTHLY RENT=%{y}<extra></extra>",
           "legendgroup": "Bachelor units",
           "marker": {
            "color": "#636efa",
            "pattern": {
             "shape": ""
            }
           },
           "name": "Bachelor units",
           "offsetgroup": "Bachelor units",
           "orientation": "v",
           "showlegend": true,
           "textposition": "auto",
           "type": "bar",
           "x": [
            "Alberta",
            "British Columbia",
            "Manitoba",
            "New Brunswick",
            "New Brunswick/Quebec",
            "Newfoundland and Labrador",
            "Northwest Territories",
            "Nova Scotia",
            "Ontario",
            "Ontario/Quebec",
            "Prince Edward Island",
            "Quebec",
            "Saskatchewan"
           ],
           "xaxis": "x",
           "y": [
            508.4347826086956,
            421.74626865671644,
            383.875,
            394.93333333333334,
            284,
            399,
            809,
            422,
            483.2716049382716,
            572.5454545454545,
            391.8333333333333,
            320.85185185185185,
            316.7916666666667
           ],
           "yaxis": "y"
          },
          {
           "alignmentgroup": "True",
           "hovertemplate": "Type of unit=One bedroom units<br>YEAR=2004<br>PROVINCE=%{x}<br>MONTHLY RENT=%{y}<extra></extra>",
           "legendgroup": "One bedroom units",
           "marker": {
            "color": "#EF553B",
            "pattern": {
             "shape": ""
            }
           },
           "name": "One bedroom units",
           "offsetgroup": "One bedroom units",
           "orientation": "v",
           "showlegend": true,
           "textposition": "auto",
           "type": "bar",
           "x": [
            "Alberta",
            "British Columbia",
            "Manitoba",
            "New Brunswick",
            "New Brunswick/Quebec",
            "Newfoundland and Labrador",
            "Northwest Territories",
            "Nova Scotia",
            "Ontario",
            "Ontario/Quebec",
            "Prince Edward Island",
            "Quebec",
            "Saskatchewan",
            "Saskatchewan/Alberta"
           ],
           "xaxis": "x",
           "y": [
            574.7435897435897,
            498.0617283950617,
            482.5833333333333,
            443.1666666666667,
            381,
            428.7142857142857,
            1060,
            495.6666666666667,
            606.2809917355372,
            642.5384615384615,
            468,
            383.2692307692308,
            423.17857142857144,
            524
           ],
           "yaxis": "y"
          },
          {
           "alignmentgroup": "True",
           "hovertemplate": "Type of unit=Three bedroom units<br>YEAR=2004<br>PROVINCE=%{x}<br>MONTHLY RENT=%{y}<extra></extra>",
           "legendgroup": "Three bedroom units",
           "marker": {
            "color": "#00cc96",
            "pattern": {
             "shape": ""
            }
           },
           "name": "Three bedroom units",
           "offsetgroup": "Three bedroom units",
           "orientation": "v",
           "showlegend": true,
           "textposition": "auto",
           "type": "bar",
           "x": [
            "Alberta",
            "British Columbia",
            "Manitoba",
            "New Brunswick",
            "New Brunswick/Quebec",
            "Newfoundland and Labrador",
            "Northwest Territories",
            "Nova Scotia",
            "Ontario",
            "Ontario/Quebec",
            "Prince Edward Island",
            "Quebec",
            "Saskatchewan",
            "Saskatchewan/Alberta"
           ],
           "xaxis": "x",
           "y": [
            762.6904761904761,
            698.2903225806451,
            614.2,
            607.1,
            551.6666666666666,
            517.8,
            1369,
            754.9411764705883,
            803.7153284671533,
            901.3333333333334,
            681.125,
            516.3783783783783,
            587.5357142857143,
            681.1666666666666
           ],
           "yaxis": "y"
          },
          {
           "alignmentgroup": "True",
           "hovertemplate": "Type of unit=Two bedroom units<br>YEAR=2004<br>PROVINCE=%{x}<br>MONTHLY RENT=%{y}<extra></extra>",
           "legendgroup": "Two bedroom units",
           "marker": {
            "color": "#ab63fa",
            "pattern": {
             "shape": ""
            }
           },
           "name": "Two bedroom units",
           "offsetgroup": "Two bedroom units",
           "orientation": "v",
           "showlegend": true,
           "textposition": "auto",
           "type": "bar",
           "x": [
            "Alberta",
            "British Columbia",
            "Manitoba",
            "New Brunswick",
            "New Brunswick/Quebec",
            "Newfoundland and Labrador",
            "Northwest Territories",
            "Nova Scotia",
            "Ontario",
            "Ontario/Quebec",
            "Prince Edward Island",
            "Quebec",
            "Saskatchewan",
            "Saskatchewan/Alberta"
           ],
           "xaxis": "x",
           "y": [
            693.2682926829268,
            609.4777777777778,
            598.4,
            531.6666666666666,
            480,
            525.875,
            1288.5,
            604.5625,
            713.0955882352941,
            741.8235294117648,
            595.5714285714286,
            461.6545454545454,
            519.8666666666667,
            625.25
           ],
           "yaxis": "y"
          }
         ],
         "name": "2004"
        },
        {
         "data": [
          {
           "alignmentgroup": "True",
           "hovertemplate": "Type of unit=Bachelor units<br>YEAR=2005<br>PROVINCE=%{x}<br>MONTHLY RENT=%{y}<extra></extra>",
           "legendgroup": "Bachelor units",
           "marker": {
            "color": "#636efa",
            "pattern": {
             "shape": ""
            }
           },
           "name": "Bachelor units",
           "offsetgroup": "Bachelor units",
           "orientation": "v",
           "showlegend": true,
           "textposition": "auto",
           "type": "bar",
           "x": [
            "Alberta",
            "British Columbia",
            "Manitoba",
            "New Brunswick",
            "New Brunswick/Quebec",
            "Newfoundland and Labrador",
            "Northwest Territories",
            "Nova Scotia",
            "Ontario",
            "Ontario/Quebec",
            "Prince Edward Island",
            "Quebec",
            "Saskatchewan"
           ],
           "xaxis": "x",
           "y": [
            536,
            438.51428571428573,
            380.45454545454544,
            381.8125,
            313,
            475.3333333333333,
            838,
            432.54545454545456,
            489.28205128205127,
            574.2727272727273,
            428.6,
            327.7105263157895,
            328.5833333333333
           ],
           "yaxis": "y"
          },
          {
           "alignmentgroup": "True",
           "hovertemplate": "Type of unit=One bedroom units<br>YEAR=2005<br>PROVINCE=%{x}<br>MONTHLY RENT=%{y}<extra></extra>",
           "legendgroup": "One bedroom units",
           "marker": {
            "color": "#EF553B",
            "pattern": {
             "shape": ""
            }
           },
           "name": "One bedroom units",
           "offsetgroup": "One bedroom units",
           "orientation": "v",
           "showlegend": true,
           "textposition": "auto",
           "type": "bar",
           "x": [
            "Alberta",
            "British Columbia",
            "Manitoba",
            "New Brunswick",
            "New Brunswick/Quebec",
            "Newfoundland and Labrador",
            "Northwest Territories",
            "Nova Scotia",
            "Ontario",
            "Ontario/Quebec",
            "Prince Edward Island",
            "Quebec",
            "Saskatchewan",
            "Saskatchewan/Alberta"
           ],
           "xaxis": "x",
           "y": [
            616.2894736842105,
            513.2261904761905,
            486.84615384615387,
            453.8888888888889,
            378,
            435.93333333333334,
            1069,
            505.375,
            616.2460317460317,
            656.25,
            454,
            391.25471698113205,
            431.64285714285717,
            540.8333333333334
           ],
           "yaxis": "y"
          },
          {
           "alignmentgroup": "True",
           "hovertemplate": "Type of unit=Three bedroom units<br>YEAR=2005<br>PROVINCE=%{x}<br>MONTHLY RENT=%{y}<extra></extra>",
           "legendgroup": "Three bedroom units",
           "marker": {
            "color": "#00cc96",
            "pattern": {
             "shape": ""
            }
           },
           "name": "Three bedroom units",
           "offsetgroup": "Three bedroom units",
           "orientation": "v",
           "showlegend": true,
           "textposition": "auto",
           "type": "bar",
           "x": [
            "Alberta",
            "British Columbia",
            "Manitoba",
            "New Brunswick",
            "New Brunswick/Quebec",
            "Newfoundland and Labrador",
            "Northwest Territories",
            "Nova Scotia",
            "Ontario",
            "Ontario/Quebec",
            "Prince Edward Island",
            "Quebec",
            "Saskatchewan",
            "Saskatchewan/Alberta"
           ],
           "xaxis": "x",
           "y": [
            805.625,
            721.6129032258065,
            632.7333333333333,
            622.05,
            511,
            520.75,
            1401.25,
            727,
            826.7913669064748,
            918.4285714285714,
            719.5,
            526.2589285714286,
            587.5,
            691.8333333333334
           ],
           "yaxis": "y"
          },
          {
           "alignmentgroup": "True",
           "hovertemplate": "Type of unit=Two bedroom units<br>YEAR=2005<br>PROVINCE=%{x}<br>MONTHLY RENT=%{y}<extra></extra>",
           "legendgroup": "Two bedroom units",
           "marker": {
            "color": "#ab63fa",
            "pattern": {
             "shape": ""
            }
           },
           "name": "Two bedroom units",
           "offsetgroup": "Two bedroom units",
           "orientation": "v",
           "showlegend": true,
           "textposition": "auto",
           "type": "bar",
           "x": [
            "Alberta",
            "British Columbia",
            "Manitoba",
            "New Brunswick",
            "New Brunswick/Quebec",
            "Newfoundland and Labrador",
            "Northwest Territories",
            "Nova Scotia",
            "Ontario",
            "Ontario/Quebec",
            "Prince Edward Island",
            "Quebec",
            "Saskatchewan",
            "Saskatchewan/Alberta"
           ],
           "xaxis": "x",
           "y": [
            726.3170731707318,
            626.2708333333334,
            611.8,
            552.952380952381,
            479.3333333333333,
            524.8125,
            1292.5,
            627.3157894736842,
            729.4357142857143,
            741.9411764705883,
            617.5,
            475.0357142857143,
            527.3225806451613,
            633.3333333333334
           ],
           "yaxis": "y"
          }
         ],
         "name": "2005"
        },
        {
         "data": [
          {
           "alignmentgroup": "True",
           "hovertemplate": "Type of unit=Bachelor units<br>YEAR=2006<br>PROVINCE=%{x}<br>MONTHLY RENT=%{y}<extra></extra>",
           "legendgroup": "Bachelor units",
           "marker": {
            "color": "#636efa",
            "pattern": {
             "shape": ""
            }
           },
           "name": "Bachelor units",
           "offsetgroup": "Bachelor units",
           "orientation": "v",
           "showlegend": true,
           "textposition": "auto",
           "type": "bar",
           "x": [
            "Alberta",
            "British Columbia",
            "Manitoba",
            "New Brunswick",
            "New Brunswick/Quebec",
            "Newfoundland and Labrador",
            "Northwest Territories",
            "Nova Scotia",
            "Ontario",
            "Ontario/Quebec",
            "Prince Edward Island",
            "Quebec",
            "Saskatchewan",
            "Saskatchewan/Alberta"
           ],
           "xaxis": "x",
           "y": [
            581.551724137931,
            453.7361111111111,
            385.0769230769231,
            388.6470588235294,
            354.3333333333333,
            446.6666666666667,
            864.3333333333334,
            453.93333333333334,
            497.982905982906,
            559.9090909090909,
            431,
            339.84313725490193,
            344.4166666666667,
            463.5
           ],
           "yaxis": "y"
          },
          {
           "alignmentgroup": "True",
           "hovertemplate": "Type of unit=One bedroom units<br>YEAR=2006<br>PROVINCE=%{x}<br>MONTHLY RENT=%{y}<extra></extra>",
           "legendgroup": "One bedroom units",
           "marker": {
            "color": "#EF553B",
            "pattern": {
             "shape": ""
            }
           },
           "name": "One bedroom units",
           "offsetgroup": "One bedroom units",
           "orientation": "v",
           "showlegend": true,
           "textposition": "auto",
           "type": "bar",
           "x": [
            "Alberta",
            "British Columbia",
            "Manitoba",
            "New Brunswick",
            "New Brunswick/Quebec",
            "Newfoundland and Labrador",
            "Northwest Territories",
            "Nova Scotia",
            "Ontario",
            "Ontario/Quebec",
            "Prince Edward Island",
            "Quebec",
            "Saskatchewan",
            "Saskatchewan/Alberta"
           ],
           "xaxis": "x",
           "y": [
            681.2368421052631,
            541.8,
            501.85714285714283,
            470.57894736842104,
            398.6666666666667,
            466.875,
            1121.6666666666667,
            525.5625,
            621.1478873239437,
            653.3571428571429,
            466.14285714285717,
            399.3796296296296,
            446.8965517241379,
            582
           ],
           "yaxis": "y"
          },
          {
           "alignmentgroup": "True",
           "hovertemplate": "Type of unit=Three bedroom units<br>YEAR=2006<br>PROVINCE=%{x}<br>MONTHLY RENT=%{y}<extra></extra>",
           "legendgroup": "Three bedroom units",
           "marker": {
            "color": "#00cc96",
            "pattern": {
             "shape": ""
            }
           },
           "name": "Three bedroom units",
           "offsetgroup": "Three bedroom units",
           "orientation": "v",
           "showlegend": true,
           "textposition": "auto",
           "type": "bar",
           "x": [
            "Alberta",
            "British Columbia",
            "Manitoba",
            "New Brunswick",
            "New Brunswick/Quebec",
            "Newfoundland and Labrador",
            "Northwest Territories",
            "Nova Scotia",
            "Ontario",
            "Ontario/Quebec",
            "Prince Edward Island",
            "Quebec",
            "Saskatchewan",
            "Saskatchewan/Alberta"
           ],
           "xaxis": "x",
           "y": [
            874.0238095238095,
            756.9655172413793,
            655.875,
            649.4736842105264,
            524.6666666666666,
            544.25,
            1471.25,
            732.4117647058823,
            836.5179856115108,
            923.6428571428571,
            717.625,
            541.2589285714286,
            602.5666666666667,
            758.8333333333334
           ],
           "yaxis": "y"
          },
          {
           "alignmentgroup": "True",
           "hovertemplate": "Type of unit=Two bedroom units<br>YEAR=2006<br>PROVINCE=%{x}<br>MONTHLY RENT=%{y}<extra></extra>",
           "legendgroup": "Two bedroom units",
           "marker": {
            "color": "#ab63fa",
            "pattern": {
             "shape": ""
            }
           },
           "name": "Two bedroom units",
           "offsetgroup": "Two bedroom units",
           "orientation": "v",
           "showlegend": true,
           "textposition": "auto",
           "type": "bar",
           "x": [
            "Alberta",
            "British Columbia",
            "Manitoba",
            "New Brunswick",
            "New Brunswick/Quebec",
            "Newfoundland and Labrador",
            "Northwest Territories",
            "Nova Scotia",
            "Ontario",
            "Ontario/Quebec",
            "Prince Edward Island",
            "Quebec",
            "Saskatchewan",
            "Saskatchewan/Alberta"
           ],
           "xaxis": "x",
           "y": [
            802.6976744186046,
            656.3789473684211,
            632.0666666666667,
            567.4285714285714,
            505.3333333333333,
            551.8888888888889,
            1340.5,
            646.6315789473684,
            736.6455696202531,
            750,
            629.625,
            484.6666666666667,
            544.8387096774194,
            705.3333333333334
           ],
           "yaxis": "y"
          }
         ],
         "name": "2006"
        },
        {
         "data": [
          {
           "alignmentgroup": "True",
           "hovertemplate": "Type of unit=Bachelor units<br>YEAR=2007<br>PROVINCE=%{x}<br>MONTHLY RENT=%{y}<extra></extra>",
           "legendgroup": "Bachelor units",
           "marker": {
            "color": "#636efa",
            "pattern": {
             "shape": ""
            }
           },
           "name": "Bachelor units",
           "offsetgroup": "Bachelor units",
           "orientation": "v",
           "showlegend": true,
           "textposition": "auto",
           "type": "bar",
           "x": [
            "Alberta",
            "British Columbia",
            "Manitoba",
            "New Brunswick",
            "New Brunswick/Quebec",
            "Newfoundland and Labrador",
            "Northwest Territories",
            "Nova Scotia",
            "Ontario",
            "Ontario/Quebec",
            "Prince Edward Island",
            "Quebec",
            "Saskatchewan",
            "Saskatchewan/Alberta"
           ],
           "xaxis": "x",
           "y": [
            657,
            479.5844155844156,
            399.4166666666667,
            401.6470588235294,
            373.3333333333333,
            438.8333333333333,
            860.6666666666666,
            460.4,
            505.59055118110234,
            566.4545454545455,
            443.1666666666667,
            347.8469387755102,
            359.125,
            510.8333333333333
           ],
           "yaxis": "y"
          },
          {
           "alignmentgroup": "True",
           "hovertemplate": "Type of unit=One bedroom units<br>YEAR=2007<br>PROVINCE=%{x}<br>MONTHLY RENT=%{y}<extra></extra>",
           "legendgroup": "One bedroom units",
           "marker": {
            "color": "#EF553B",
            "pattern": {
             "shape": ""
            }
           },
           "name": "One bedroom units",
           "offsetgroup": "One bedroom units",
           "orientation": "v",
           "showlegend": true,
           "textposition": "auto",
           "type": "bar",
           "x": [
            "Alberta",
            "British Columbia",
            "Manitoba",
            "New Brunswick",
            "New Brunswick/Quebec",
            "Newfoundland and Labrador",
            "Northwest Territories",
            "Nova Scotia",
            "Ontario",
            "Ontario/Quebec",
            "Prince Edward Island",
            "Quebec",
            "Saskatchewan",
            "Saskatchewan/Alberta"
           ],
           "xaxis": "x",
           "y": [
            773.0952380952381,
            576.5666666666667,
            519.5714285714286,
            479.4736842105263,
            399.6666666666667,
            462.0769230769231,
            1129,
            540.1176470588235,
            629.2469879518072,
            668.8571428571429,
            474.7142857142857,
            408.86238532110093,
            479.7241379310345,
            613.6666666666666
           ],
           "yaxis": "y"
          },
          {
           "alignmentgroup": "True",
           "hovertemplate": "Type of unit=Three bedroom units<br>YEAR=2007<br>PROVINCE=%{x}<br>MONTHLY RENT=%{y}<extra></extra>",
           "legendgroup": "Three bedroom units",
           "marker": {
            "color": "#00cc96",
            "pattern": {
             "shape": ""
            }
           },
           "name": "Three bedroom units",
           "offsetgroup": "Three bedroom units",
           "orientation": "v",
           "showlegend": true,
           "textposition": "auto",
           "type": "bar",
           "x": [
            "Alberta",
            "British Columbia",
            "Manitoba",
            "New Brunswick",
            "New Brunswick/Quebec",
            "Newfoundland and Labrador",
            "Northwest Territories",
            "Nova Scotia",
            "Ontario",
            "Ontario/Quebec",
            "Prince Edward Island",
            "Quebec",
            "Saskatchewan",
            "Saskatchewan/Alberta"
           ],
           "xaxis": "x",
           "y": [
            1071.9285714285713,
            831.3,
            676.125,
            657.421052631579,
            539,
            566.4545454545455,
            1503.25,
            768.9375,
            839.4771241830065,
            923.3333333333334,
            717.125,
            551.6785714285714,
            646.0666666666667,
            790
           ],
           "yaxis": "y"
          },
          {
           "alignmentgroup": "True",
           "hovertemplate": "Type of unit=Two bedroom units<br>YEAR=2007<br>PROVINCE=%{x}<br>MONTHLY RENT=%{y}<extra></extra>",
           "legendgroup": "Two bedroom units",
           "marker": {
            "color": "#ab63fa",
            "pattern": {
             "shape": ""
            }
           },
           "name": "Two bedroom units",
           "offsetgroup": "Two bedroom units",
           "orientation": "v",
           "showlegend": true,
           "textposition": "auto",
           "type": "bar",
           "x": [
            "Alberta",
            "British Columbia",
            "Manitoba",
            "New Brunswick",
            "New Brunswick/Quebec",
            "Newfoundland and Labrador",
            "Northwest Territories",
            "Nova Scotia",
            "Ontario",
            "Ontario/Quebec",
            "Prince Edward Island",
            "Quebec",
            "Saskatchewan",
            "Saskatchewan/Alberta"
           ],
           "xaxis": "x",
           "y": [
            920.7234042553191,
            700.6734693877551,
            650.2666666666667,
            575.7142857142857,
            521,
            533.625,
            1357.5,
            664.1578947368421,
            742.1693989071039,
            765.5294117647059,
            641,
            495.99122807017545,
            585.9677419354839,
            742.7142857142857
           ],
           "yaxis": "y"
          }
         ],
         "name": "2007"
        },
        {
         "data": [
          {
           "alignmentgroup": "True",
           "hovertemplate": "Type of unit=Bachelor units<br>YEAR=2008<br>PROVINCE=%{x}<br>MONTHLY RENT=%{y}<extra></extra>",
           "legendgroup": "Bachelor units",
           "marker": {
            "color": "#636efa",
            "pattern": {
             "shape": ""
            }
           },
           "name": "Bachelor units",
           "offsetgroup": "Bachelor units",
           "orientation": "v",
           "showlegend": true,
           "textposition": "auto",
           "type": "bar",
           "x": [
            "Alberta",
            "British Columbia",
            "Manitoba",
            "New Brunswick",
            "New Brunswick/Quebec",
            "Newfoundland and Labrador",
            "Northwest Territories",
            "Nova Scotia",
            "Ontario",
            "Ontario/Quebec",
            "Prince Edward Island",
            "Quebec",
            "Saskatchewan",
            "Saskatchewan/Alberta"
           ],
           "xaxis": "x",
           "y": [
            710.1034482758621,
            511.24050632911394,
            394,
            400,
            398,
            493.8333333333333,
            904,
            477.6666666666667,
            521.8702290076336,
            587.5454545454545,
            428,
            360.6666666666667,
            419.75,
            565.6666666666666
           ],
           "yaxis": "y"
          },
          {
           "alignmentgroup": "True",
           "hovertemplate": "Type of unit=One bedroom units<br>YEAR=2008<br>PROVINCE=%{x}<br>MONTHLY RENT=%{y}<extra></extra>",
           "legendgroup": "One bedroom units",
           "marker": {
            "color": "#EF553B",
            "pattern": {
             "shape": ""
            }
           },
           "name": "One bedroom units",
           "offsetgroup": "One bedroom units",
           "orientation": "v",
           "showlegend": true,
           "textposition": "auto",
           "type": "bar",
           "x": [
            "Alberta",
            "British Columbia",
            "Manitoba",
            "New Brunswick",
            "New Brunswick/Quebec",
            "Newfoundland and Labrador",
            "Northwest Territories",
            "Nova Scotia",
            "Ontario",
            "Ontario/Quebec",
            "Prince Edward Island",
            "Quebec",
            "Saskatchewan",
            "Saskatchewan/Alberta"
           ],
           "xaxis": "x",
           "y": [
            797.82,
            606.8369565217391,
            532.2941176470588,
            489.89473684210526,
            409,
            493.3,
            1177.6666666666667,
            547.1578947368421,
            636.0108695652174,
            697.7857142857143,
            495.42857142857144,
            422.104,
            541.4,
            653.3333333333334
           ],
           "yaxis": "y"
          },
          {
           "alignmentgroup": "True",
           "hovertemplate": "Type of unit=Three bedroom units<br>YEAR=2008<br>PROVINCE=%{x}<br>MONTHLY RENT=%{y}<extra></extra>",
           "legendgroup": "Three bedroom units",
           "marker": {
            "color": "#00cc96",
            "pattern": {
             "shape": ""
            }
           },
           "name": "Three bedroom units",
           "offsetgroup": "Three bedroom units",
           "orientation": "v",
           "showlegend": true,
           "textposition": "auto",
           "type": "bar",
           "x": [
            "Alberta",
            "British Columbia",
            "Manitoba",
            "New Brunswick",
            "New Brunswick/Quebec",
            "Newfoundland and Labrador",
            "Northwest Territories",
            "Nova Scotia",
            "Ontario",
            "Ontario/Quebec",
            "Prince Edward Island",
            "Quebec",
            "Saskatchewan",
            "Saskatchewan/Alberta"
           ],
           "xaxis": "x",
           "y": [
            1097.14,
            885.2637362637363,
            733.9411764705883,
            680,
            543,
            587.6,
            1594.25,
            800.875,
            861.8354430379746,
            966.2142857142857,
            786,
            570.248,
            741,
            851.8333333333334
           ],
           "yaxis": "y"
          },
          {
           "alignmentgroup": "True",
           "hovertemplate": "Type of unit=Two bedroom units<br>YEAR=2008<br>PROVINCE=%{x}<br>MONTHLY RENT=%{y}<extra></extra>",
           "legendgroup": "Two bedroom units",
           "marker": {
            "color": "#ab63fa",
            "pattern": {
             "shape": ""
            }
           },
           "name": "Two bedroom units",
           "offsetgroup": "Two bedroom units",
           "orientation": "v",
           "showlegend": true,
           "textposition": "auto",
           "type": "bar",
           "x": [
            "Alberta",
            "British Columbia",
            "Manitoba",
            "New Brunswick",
            "New Brunswick/Quebec",
            "Newfoundland and Labrador",
            "Northwest Territories",
            "Nova Scotia",
            "Ontario",
            "Ontario/Quebec",
            "Prince Edward Island",
            "Quebec",
            "Saskatchewan",
            "Saskatchewan/Alberta"
           ],
           "xaxis": "x",
           "y": [
            945.8983050847457,
            738.5742574257425,
            663.8235294117648,
            593.5714285714286,
            517.6666666666666,
            580.3846153846154,
            1377.25,
            671.1818181818181,
            749.0707547169811,
            791,
            673.5,
            510.04651162790697,
            663.4516129032259,
            810.8333333333334
           ],
           "yaxis": "y"
          }
         ],
         "name": "2008"
        },
        {
         "data": [
          {
           "alignmentgroup": "True",
           "hovertemplate": "Type of unit=Bachelor units<br>YEAR=2009<br>PROVINCE=%{x}<br>MONTHLY RENT=%{y}<extra></extra>",
           "legendgroup": "Bachelor units",
           "marker": {
            "color": "#636efa",
            "pattern": {
             "shape": ""
            }
           },
           "name": "Bachelor units",
           "offsetgroup": "Bachelor units",
           "orientation": "v",
           "showlegend": true,
           "textposition": "auto",
           "type": "bar",
           "x": [
            "Alberta",
            "British Columbia",
            "Manitoba",
            "New Brunswick",
            "New Brunswick/Quebec",
            "Newfoundland and Labrador",
            "Northwest Territories",
            "Nova Scotia",
            "Ontario",
            "Ontario/Quebec",
            "Prince Edward Island",
            "Quebec",
            "Saskatchewan",
            "Saskatchewan/Alberta"
           ],
           "xaxis": "x",
           "y": [
            688.7586206896551,
            517.975,
            410.1333333333333,
            421.6470588235294,
            401.6666666666667,
            455,
            954.6666666666666,
            489.3333333333333,
            524.3858267716536,
            598.1818181818181,
            439.2,
            364.4234234234234,
            457.875,
            510
           ],
           "yaxis": "y"
          },
          {
           "alignmentgroup": "True",
           "hovertemplate": "Type of unit=One bedroom units<br>YEAR=2009<br>PROVINCE=%{x}<br>MONTHLY RENT=%{y}<extra></extra>",
           "legendgroup": "One bedroom units",
           "marker": {
            "color": "#EF553B",
            "pattern": {
             "shape": ""
            }
           },
           "name": "One bedroom units",
           "offsetgroup": "One bedroom units",
           "orientation": "v",
           "showlegend": true,
           "textposition": "auto",
           "type": "bar",
           "x": [
            "Alberta",
            "British Columbia",
            "Manitoba",
            "New Brunswick",
            "New Brunswick/Quebec",
            "Newfoundland and Labrador",
            "Northwest Territories",
            "Nova Scotia",
            "Ontario",
            "Ontario/Quebec",
            "Prince Edward Island",
            "Quebec",
            "Saskatchewan",
            "Saskatchewan/Alberta"
           ],
           "xaxis": "x",
           "y": [
            787.9411764705883,
            617.8064516129032,
            555.1875,
            507.4736842105263,
            422.3333333333333,
            519,
            1255,
            570.5263157894736,
            651.5,
            719.7142857142857,
            518.5714285714286,
            432.91129032258067,
            599.9666666666667,
            669.6666666666666
           ],
           "yaxis": "y"
          },
          {
           "alignmentgroup": "True",
           "hovertemplate": "Type of unit=Three bedroom units<br>YEAR=2009<br>PROVINCE=%{x}<br>MONTHLY RENT=%{y}<extra></extra>",
           "legendgroup": "Three bedroom units",
           "marker": {
            "color": "#00cc96",
            "pattern": {
             "shape": ""
            }
           },
           "name": "Three bedroom units",
           "offsetgroup": "Three bedroom units",
           "orientation": "v",
           "showlegend": true,
           "textposition": "auto",
           "type": "bar",
           "x": [
            "Alberta",
            "British Columbia",
            "Manitoba",
            "New Brunswick",
            "New Brunswick/Quebec",
            "Newfoundland and Labrador",
            "Northwest Territories",
            "Nova Scotia",
            "Ontario",
            "Ontario/Quebec",
            "Prince Edward Island",
            "Quebec",
            "Saskatchewan",
            "Saskatchewan/Alberta"
           ],
           "xaxis": "x",
           "y": [
            1071.4716981132076,
            892,
            742.6875,
            707.5,
            645.3333333333334,
            619.4545454545455,
            1647,
            791,
            876.2721518987341,
            968,
            796,
            583.421875,
            827.2962962962963,
            904
           ],
           "yaxis": "y"
          },
          {
           "alignmentgroup": "True",
           "hovertemplate": "Type of unit=Two bedroom units<br>YEAR=2009<br>PROVINCE=%{x}<br>MONTHLY RENT=%{y}<extra></extra>",
           "legendgroup": "Two bedroom units",
           "marker": {
            "color": "#ab63fa",
            "pattern": {
             "shape": ""
            }
           },
           "name": "Two bedroom units",
           "offsetgroup": "Two bedroom units",
           "orientation": "v",
           "showlegend": true,
           "textposition": "auto",
           "type": "bar",
           "x": [
            "Alberta",
            "British Columbia",
            "Manitoba",
            "New Brunswick",
            "New Brunswick/Quebec",
            "Newfoundland and Labrador",
            "Northwest Territories",
            "Nova Scotia",
            "Ontario",
            "Ontario/Quebec",
            "Prince Edward Island",
            "Quebec",
            "Saskatchewan",
            "Saskatchewan/Alberta"
           ],
           "xaxis": "x",
           "y": [
            928.1355932203389,
            758.1683168316831,
            694.8235294117648,
            610.6190476190476,
            535.6666666666666,
            604.3076923076923,
            1443.25,
            689.875,
            773.0430622009569,
            850.4666666666667,
            693.5,
            526.2442748091603,
            729.4193548387096,
            813.4285714285714
           ],
           "yaxis": "y"
          }
         ],
         "name": "2009"
        },
        {
         "data": [
          {
           "alignmentgroup": "True",
           "hovertemplate": "Type of unit=Bachelor units<br>YEAR=2010<br>PROVINCE=%{x}<br>MONTHLY RENT=%{y}<extra></extra>",
           "legendgroup": "Bachelor units",
           "marker": {
            "color": "#636efa",
            "pattern": {
             "shape": ""
            }
           },
           "name": "Bachelor units",
           "offsetgroup": "Bachelor units",
           "orientation": "v",
           "showlegend": true,
           "textposition": "auto",
           "type": "bar",
           "x": [
            "Alberta",
            "British Columbia",
            "Manitoba",
            "New Brunswick",
            "New Brunswick/Quebec",
            "Newfoundland and Labrador",
            "Northwest Territories",
            "Nova Scotia",
            "Ontario",
            "Ontario/Quebec",
            "Prince Edward Island",
            "Quebec",
            "Saskatchewan",
            "Saskatchewan/Alberta"
           ],
           "xaxis": "x",
           "y": [
            694.925925925926,
            535.6052631578947,
            450.73333333333335,
            421.4117647058824,
            409,
            501.5,
            1009,
            497,
            542.4496124031008,
            615.8181818181819,
            473.2,
            378.26666666666665,
            493.5,
            586
           ],
           "yaxis": "y"
          },
          {
           "alignmentgroup": "True",
           "hovertemplate": "Type of unit=One bedroom units<br>YEAR=2010<br>PROVINCE=%{x}<br>MONTHLY RENT=%{y}<extra></extra>",
           "legendgroup": "One bedroom units",
           "marker": {
            "color": "#EF553B",
            "pattern": {
             "shape": ""
            }
           },
           "name": "One bedroom units",
           "offsetgroup": "One bedroom units",
           "orientation": "v",
           "showlegend": true,
           "textposition": "auto",
           "type": "bar",
           "x": [
            "Alberta",
            "British Columbia",
            "Manitoba",
            "New Brunswick",
            "New Brunswick/Quebec",
            "Newfoundland and Labrador",
            "Northwest Territories",
            "Nova Scotia",
            "Ontario",
            "Ontario/Quebec",
            "Prince Edward Island",
            "Quebec",
            "Saskatchewan",
            "Saskatchewan/Alberta"
           ],
           "xaxis": "x",
           "y": [
            781.3076923076923,
            630.031914893617,
            582.7058823529412,
            517.6842105263158,
            435,
            543.9,
            1274.3333333333333,
            589.75,
            669.772972972973,
            748.2857142857143,
            545,
            444.456,
            635.6551724137931,
            679.8333333333334
           ],
           "yaxis": "y"
          },
          {
           "alignmentgroup": "True",
           "hovertemplate": "Type of unit=Three bedroom units<br>YEAR=2010<br>PROVINCE=%{x}<br>MONTHLY RENT=%{y}<extra></extra>",
           "legendgroup": "Three bedroom units",
           "marker": {
            "color": "#00cc96",
            "pattern": {
             "shape": ""
            }
           },
           "name": "Three bedroom units",
           "offsetgroup": "Three bedroom units",
           "orientation": "v",
           "showlegend": true,
           "textposition": "auto",
           "type": "bar",
           "x": [
            "Alberta",
            "British Columbia",
            "Manitoba",
            "New Brunswick",
            "New Brunswick/Quebec",
            "Newfoundland and Labrador",
            "Northwest Territories",
            "Nova Scotia",
            "Ontario",
            "Ontario/Quebec",
            "Prince Edward Island",
            "Quebec",
            "Saskatchewan",
            "Saskatchewan/Alberta"
           ],
           "xaxis": "x",
           "y": [
            1068.8461538461538,
            901.0714285714286,
            834.6875,
            712.05,
            561.6666666666666,
            662.6363636363636,
            1662.75,
            848.4736842105264,
            908.879746835443,
            987.1875,
            764.875,
            599.623076923077,
            887.6666666666666,
            912.6666666666666
           ],
           "yaxis": "y"
          },
          {
           "alignmentgroup": "True",
           "hovertemplate": "Type of unit=Two bedroom units<br>YEAR=2010<br>PROVINCE=%{x}<br>MONTHLY RENT=%{y}<extra></extra>",
           "legendgroup": "Two bedroom units",
           "marker": {
            "color": "#ab63fa",
            "pattern": {
             "shape": ""
            }
           },
           "name": "Two bedroom units",
           "offsetgroup": "Two bedroom units",
           "orientation": "v",
           "showlegend": true,
           "textposition": "auto",
           "type": "bar",
           "x": [
            "Alberta",
            "British Columbia",
            "Manitoba",
            "New Brunswick",
            "New Brunswick/Quebec",
            "Newfoundland and Labrador",
            "Northwest Territories",
            "Nova Scotia",
            "Ontario",
            "Ontario/Quebec",
            "Prince Edward Island",
            "Quebec",
            "Saskatchewan",
            "Saskatchewan/Alberta"
           ],
           "xaxis": "x",
           "y": [
            926.45,
            772.29,
            721.8333333333334,
            624.6666666666666,
            537.6666666666666,
            630.0769230769231,
            1454,
            708.5833333333334,
            784.8490566037735,
            827.8235294117648,
            718.375,
            541.7368421052631,
            778.3870967741935,
            874.2857142857143
           ],
           "yaxis": "y"
          }
         ],
         "name": "2010"
        },
        {
         "data": [
          {
           "alignmentgroup": "True",
           "hovertemplate": "Type of unit=Bachelor units<br>YEAR=2011<br>PROVINCE=%{x}<br>MONTHLY RENT=%{y}<extra></extra>",
           "legendgroup": "Bachelor units",
           "marker": {
            "color": "#636efa",
            "pattern": {
             "shape": ""
            }
           },
           "name": "Bachelor units",
           "offsetgroup": "Bachelor units",
           "orientation": "v",
           "showlegend": true,
           "textposition": "auto",
           "type": "bar",
           "x": [
            "Alberta",
            "British Columbia",
            "Manitoba",
            "New Brunswick",
            "New Brunswick/Quebec",
            "Newfoundland and Labrador",
            "Northwest Territories",
            "Nova Scotia",
            "Ontario",
            "Ontario/Quebec",
            "Prince Edward Island",
            "Quebec",
            "Saskatchewan",
            "Saskatchewan/Alberta"
           ],
           "xaxis": "x",
           "y": [
            670.4375,
            549.9473684210526,
            460.92857142857144,
            432.4117647058824,
            417,
            506.8333333333333,
            1043,
            529.8666666666667,
            552.6946564885496,
            634.2727272727273,
            493.2,
            387.40909090909093,
            521.9166666666666,
            613.5
           ],
           "yaxis": "y"
          },
          {
           "alignmentgroup": "True",
           "hovertemplate": "Type of unit=One bedroom units<br>YEAR=2011<br>PROVINCE=%{x}<br>MONTHLY RENT=%{y}<extra></extra>",
           "legendgroup": "One bedroom units",
           "marker": {
            "color": "#EF553B",
            "pattern": {
             "shape": ""
            }
           },
           "name": "One bedroom units",
           "offsetgroup": "One bedroom units",
           "orientation": "v",
           "showlegend": true,
           "textposition": "auto",
           "type": "bar",
           "x": [
            "Alberta",
            "British Columbia",
            "Manitoba",
            "New Brunswick",
            "New Brunswick/Quebec",
            "Newfoundland and Labrador",
            "Northwest Territories",
            "Nova Scotia",
            "Ontario",
            "Ontario/Quebec",
            "Prince Edward Island",
            "Quebec",
            "Saskatchewan",
            "Saskatchewan/Alberta"
           ],
           "xaxis": "x",
           "y": [
            781.5384615384615,
            647.752688172043,
            589.1875,
            533.1052631578947,
            443.6666666666667,
            563.8,
            1343.3333333333333,
            580.1904761904761,
            681.1311475409836,
            759.7857142857143,
            536.7142857142857,
            454.5483870967742,
            681.8,
            695
           ],
           "yaxis": "y"
          },
          {
           "alignmentgroup": "True",
           "hovertemplate": "Type of unit=Three bedroom units<br>YEAR=2011<br>PROVINCE=%{x}<br>MONTHLY RENT=%{y}<extra></extra>",
           "legendgroup": "Three bedroom units",
           "marker": {
            "color": "#00cc96",
            "pattern": {
             "shape": ""
            }
           },
           "name": "Three bedroom units",
           "offsetgroup": "Three bedroom units",
           "orientation": "v",
           "showlegend": true,
           "textposition": "auto",
           "type": "bar",
           "x": [
            "Alberta",
            "British Columbia",
            "Manitoba",
            "New Brunswick",
            "New Brunswick/Quebec",
            "Newfoundland and Labrador",
            "Northwest Territories",
            "Nova Scotia",
            "Ontario",
            "Ontario/Quebec",
            "Prince Edward Island",
            "Quebec",
            "Saskatchewan",
            "Saskatchewan/Alberta"
           ],
           "xaxis": "x",
           "y": [
            1057.9245283018868,
            909.8105263157895,
            851.375,
            736.8333333333334,
            670.3333333333334,
            712.6363636363636,
            1766,
            853.7368421052631,
            933.4649681528663,
            997,
            818.375,
            621.9922480620155,
            950.5769230769231,
            936.6666666666666
           ],
           "yaxis": "y"
          },
          {
           "alignmentgroup": "True",
           "hovertemplate": "Type of unit=Two bedroom units<br>YEAR=2011<br>PROVINCE=%{x}<br>MONTHLY RENT=%{y}<extra></extra>",
           "legendgroup": "Two bedroom units",
           "marker": {
            "color": "#ab63fa",
            "pattern": {
             "shape": ""
            }
           },
           "name": "Two bedroom units",
           "offsetgroup": "Two bedroom units",
           "orientation": "v",
           "showlegend": true,
           "textposition": "auto",
           "type": "bar",
           "x": [
            "Alberta",
            "British Columbia",
            "Manitoba",
            "New Brunswick",
            "New Brunswick/Quebec",
            "Newfoundland and Labrador",
            "Northwest Territories",
            "Nova Scotia",
            "Ontario",
            "Ontario/Quebec",
            "Prince Edward Island",
            "Quebec",
            "Saskatchewan",
            "Saskatchewan/Alberta"
           ],
           "xaxis": "x",
           "y": [
            935.7118644067797,
            792.12,
            743.6666666666666,
            641.0952380952381,
            552.3333333333334,
            672,
            1564.3333333333333,
            742.304347826087,
            802.2735849056604,
            847.8823529411765,
            728.625,
            555.3834586466165,
            827.7741935483871,
            888.2857142857143
           ],
           "yaxis": "y"
          }
         ],
         "name": "2011"
        },
        {
         "data": [
          {
           "alignmentgroup": "True",
           "hovertemplate": "Type of unit=Bachelor units<br>YEAR=2012<br>PROVINCE=%{x}<br>MONTHLY RENT=%{y}<extra></extra>",
           "legendgroup": "Bachelor units",
           "marker": {
            "color": "#636efa",
            "pattern": {
             "shape": ""
            }
           },
           "name": "Bachelor units",
           "offsetgroup": "Bachelor units",
           "orientation": "v",
           "showlegend": true,
           "textposition": "auto",
           "type": "bar",
           "x": [
            "Alberta",
            "British Columbia",
            "Manitoba",
            "New Brunswick",
            "New Brunswick/Quebec",
            "Newfoundland and Labrador",
            "Northwest Territories",
            "Nova Scotia",
            "Ontario",
            "Ontario/Quebec",
            "Prince Edward Island",
            "Quebec",
            "Saskatchewan",
            "Saskatchewan/Alberta"
           ],
           "xaxis": "x",
           "y": [
            706.2068965517242,
            559.8082191780821,
            491.375,
            438.88235294117646,
            402.6666666666667,
            527.1666666666666,
            1132.6666666666667,
            533.9333333333333,
            565.3385826771654,
            648.5454545454545,
            515.8,
            382.10185185185185,
            572.4583333333334,
            637
           ],
           "yaxis": "y"
          },
          {
           "alignmentgroup": "True",
           "hovertemplate": "Type of unit=One bedroom units<br>YEAR=2012<br>PROVINCE=%{x}<br>MONTHLY RENT=%{y}<extra></extra>",
           "legendgroup": "One bedroom units",
           "marker": {
            "color": "#EF553B",
            "pattern": {
             "shape": ""
            }
           },
           "name": "One bedroom units",
           "offsetgroup": "One bedroom units",
           "orientation": "v",
           "showlegend": true,
           "textposition": "auto",
           "type": "bar",
           "x": [
            "Alberta",
            "British Columbia",
            "Manitoba",
            "New Brunswick",
            "New Brunswick/Quebec",
            "Newfoundland and Labrador",
            "Northwest Territories",
            "Nova Scotia",
            "Ontario",
            "Ontario/Quebec",
            "Prince Edward Island",
            "Quebec",
            "Saskatchewan",
            "Saskatchewan/Alberta"
           ],
           "xaxis": "x",
           "y": [
            820.7115384615385,
            660.5730337078652,
            617.2941176470588,
            542.8421052631579,
            443.3333333333333,
            575.5384615384615,
            1405.3333333333333,
            596.3333333333334,
            701.7362637362637,
            769.8571428571429,
            555.8571428571429,
            455.43548387096774,
            714.0666666666667,
            745.6666666666666
           ],
           "yaxis": "y"
          },
          {
           "alignmentgroup": "True",
           "hovertemplate": "Type of unit=Three bedroom units<br>YEAR=2012<br>PROVINCE=%{x}<br>MONTHLY RENT=%{y}<extra></extra>",
           "legendgroup": "Three bedroom units",
           "marker": {
            "color": "#00cc96",
            "pattern": {
             "shape": ""
            }
           },
           "name": "Three bedroom units",
           "offsetgroup": "Three bedroom units",
           "orientation": "v",
           "showlegend": true,
           "textposition": "auto",
           "type": "bar",
           "x": [
            "Alberta",
            "British Columbia",
            "Manitoba",
            "New Brunswick",
            "New Brunswick/Quebec",
            "Newfoundland and Labrador",
            "Northwest Territories",
            "Nova Scotia",
            "Ontario",
            "Ontario/Quebec",
            "Prince Edward Island",
            "Quebec",
            "Saskatchewan",
            "Saskatchewan/Alberta"
           ],
           "xaxis": "x",
           "y": [
            1096.74,
            946.6373626373627,
            892.4736842105264,
            782.25,
            671.6666666666666,
            733.0909090909091,
            1818.75,
            847.5263157894736,
            954.9805194805194,
            1041,
            849.5,
            627.5461538461539,
            985.3214285714286,
            984
           ],
           "yaxis": "y"
          },
          {
           "alignmentgroup": "True",
           "hovertemplate": "Type of unit=Two bedroom units<br>YEAR=2012<br>PROVINCE=%{x}<br>MONTHLY RENT=%{y}<extra></extra>",
           "legendgroup": "Two bedroom units",
           "marker": {
            "color": "#ab63fa",
            "pattern": {
             "shape": ""
            }
           },
           "name": "Two bedroom units",
           "offsetgroup": "Two bedroom units",
           "orientation": "v",
           "showlegend": true,
           "textposition": "auto",
           "type": "bar",
           "x": [
            "Alberta",
            "British Columbia",
            "Manitoba",
            "New Brunswick",
            "New Brunswick/Quebec",
            "Newfoundland and Labrador",
            "Northwest Territories",
            "Nova Scotia",
            "Ontario",
            "Ontario/Quebec",
            "Prince Edward Island",
            "Quebec",
            "Saskatchewan",
            "Saskatchewan/Alberta"
           ],
           "xaxis": "x",
           "y": [
            961.1774193548387,
            813.5051546391752,
            777.2,
            660.5714285714286,
            564,
            685.2941176470588,
            1554.75,
            738.6153846153846,
            825.3175355450237,
            864.5294117647059,
            774.5,
            560.9699248120301,
            876.7741935483871,
            950.1666666666666
           ],
           "yaxis": "y"
          }
         ],
         "name": "2012"
        },
        {
         "data": [
          {
           "alignmentgroup": "True",
           "hovertemplate": "Type of unit=Bachelor units<br>YEAR=2013<br>PROVINCE=%{x}<br>MONTHLY RENT=%{y}<extra></extra>",
           "legendgroup": "Bachelor units",
           "marker": {
            "color": "#636efa",
            "pattern": {
             "shape": ""
            }
           },
           "name": "Bachelor units",
           "offsetgroup": "Bachelor units",
           "orientation": "v",
           "showlegend": true,
           "textposition": "auto",
           "type": "bar",
           "x": [
            "Alberta",
            "British Columbia",
            "Manitoba",
            "New Brunswick",
            "New Brunswick/Quebec",
            "Newfoundland and Labrador",
            "Northwest Territories",
            "Nova Scotia",
            "Ontario",
            "Ontario/Quebec",
            "Prince Edward Island",
            "Quebec",
            "Saskatchewan",
            "Saskatchewan/Alberta"
           ],
           "xaxis": "x",
           "y": [
            726.516129032258,
            574.8450704225352,
            528.1538461538462,
            460.94117647058823,
            422.3333333333333,
            556.5,
            1136.3333333333333,
            549.6428571428571,
            584.4503816793894,
            658.1818181818181,
            541,
            392.0934579439252,
            599.875,
            672
           ],
           "yaxis": "y"
          },
          {
           "alignmentgroup": "True",
           "hovertemplate": "Type of unit=One bedroom units<br>YEAR=2013<br>PROVINCE=%{x}<br>MONTHLY RENT=%{y}<extra></extra>",
           "legendgroup": "One bedroom units",
           "marker": {
            "color": "#EF553B",
            "pattern": {
             "shape": ""
            }
           },
           "name": "One bedroom units",
           "offsetgroup": "One bedroom units",
           "orientation": "v",
           "showlegend": true,
           "textposition": "auto",
           "type": "bar",
           "x": [
            "Alberta",
            "British Columbia",
            "Manitoba",
            "New Brunswick",
            "New Brunswick/Quebec",
            "Newfoundland and Labrador",
            "Northwest Territories",
            "Nova Scotia",
            "Ontario",
            "Ontario/Quebec",
            "Prince Edward Island",
            "Quebec",
            "Saskatchewan",
            "Saskatchewan/Alberta"
           ],
           "xaxis": "x",
           "y": [
            871.22,
            672.3255813953489,
            664.4615384615385,
            552.3157894736842,
            452.6666666666667,
            601.6923076923077,
            1413,
            613.1363636363636,
            713.3825136612022,
            781.9285714285714,
            574,
            464.5213675213675,
            743.7931034482758,
            791.3333333333334
           ],
           "yaxis": "y"
          },
          {
           "alignmentgroup": "True",
           "hovertemplate": "Type of unit=Three bedroom units<br>YEAR=2013<br>PROVINCE=%{x}<br>MONTHLY RENT=%{y}<extra></extra>",
           "legendgroup": "Three bedroom units",
           "marker": {
            "color": "#00cc96",
            "pattern": {
             "shape": ""
            }
           },
           "name": "Three bedroom units",
           "offsetgroup": "Three bedroom units",
           "orientation": "v",
           "showlegend": true,
           "textposition": "auto",
           "type": "bar",
           "x": [
            "Alberta",
            "British Columbia",
            "Manitoba",
            "New Brunswick",
            "New Brunswick/Quebec",
            "Newfoundland and Labrador",
            "Northwest Territories",
            "Nova Scotia",
            "Ontario",
            "Ontario/Quebec",
            "Prince Edward Island",
            "Quebec",
            "Saskatchewan",
            "Saskatchewan/Alberta"
           ],
           "xaxis": "x",
           "y": [
            1172.32,
            964.1978021978022,
            944.3888888888889,
            780.9473684210526,
            668.3333333333334,
            760.0909090909091,
            1833.5,
            906.5882352941177,
            996.5234899328859,
            1086.4285714285713,
            869.75,
            635.2384615384616,
            1032.4615384615386,
            1152.2857142857142
           ],
           "yaxis": "y"
          },
          {
           "alignmentgroup": "True",
           "hovertemplate": "Type of unit=Two bedroom units<br>YEAR=2013<br>PROVINCE=%{x}<br>MONTHLY RENT=%{y}<extra></extra>",
           "legendgroup": "Two bedroom units",
           "marker": {
            "color": "#ab63fa",
            "pattern": {
             "shape": ""
            }
           },
           "name": "Two bedroom units",
           "offsetgroup": "Two bedroom units",
           "orientation": "v",
           "showlegend": true,
           "textposition": "auto",
           "type": "bar",
           "x": [
            "Alberta",
            "British Columbia",
            "Manitoba",
            "New Brunswick",
            "New Brunswick/Quebec",
            "Newfoundland and Labrador",
            "Northwest Territories",
            "Nova Scotia",
            "Ontario",
            "Ontario/Quebec",
            "Prince Edward Island",
            "Quebec",
            "Saskatchewan",
            "Saskatchewan/Alberta"
           ],
           "xaxis": "x",
           "y": [
            1027.396551724138,
            831.0851063829788,
            807,
            672.6190476190476,
            565.6666666666666,
            728.5882352941177,
            1613.25,
            783.9230769230769,
            842.4038461538462,
            870.2352941176471,
            781.75,
            572.531746031746,
            909.7096774193549,
            1094.1666666666667
           ],
           "yaxis": "y"
          }
         ],
         "name": "2013"
        },
        {
         "data": [
          {
           "alignmentgroup": "True",
           "hovertemplate": "Type of unit=Bachelor units<br>YEAR=2014<br>PROVINCE=%{x}<br>MONTHLY RENT=%{y}<extra></extra>",
           "legendgroup": "Bachelor units",
           "marker": {
            "color": "#636efa",
            "pattern": {
             "shape": ""
            }
           },
           "name": "Bachelor units",
           "offsetgroup": "Bachelor units",
           "orientation": "v",
           "showlegend": true,
           "textposition": "auto",
           "type": "bar",
           "x": [
            "Alberta",
            "British Columbia",
            "Manitoba",
            "New Brunswick",
            "New Brunswick/Quebec",
            "Newfoundland and Labrador",
            "Northwest Territories",
            "Nova Scotia",
            "Ontario",
            "Ontario/Quebec",
            "Prince Edward Island",
            "Quebec",
            "Saskatchewan",
            "Saskatchewan/Alberta"
           ],
           "xaxis": "x",
           "y": [
            769.9677419354839,
            587.2368421052631,
            517.8125,
            469.2352941176471,
            379.3333333333333,
            554.5,
            1169,
            542.3125,
            592.3828125,
            674.7272727272727,
            481.6666666666667,
            396.3425925925926,
            615.375,
            705
           ],
           "yaxis": "y"
          },
          {
           "alignmentgroup": "True",
           "hovertemplate": "Type of unit=One bedroom units<br>YEAR=2014<br>PROVINCE=%{x}<br>MONTHLY RENT=%{y}<extra></extra>",
           "legendgroup": "One bedroom units",
           "marker": {
            "color": "#EF553B",
            "pattern": {
             "shape": ""
            }
           },
           "name": "One bedroom units",
           "offsetgroup": "One bedroom units",
           "orientation": "v",
           "showlegend": true,
           "textposition": "auto",
           "type": "bar",
           "x": [
            "Alberta",
            "British Columbia",
            "Manitoba",
            "New Brunswick",
            "New Brunswick/Quebec",
            "Newfoundland and Labrador",
            "Northwest Territories",
            "Nova Scotia",
            "Ontario",
            "Ontario/Quebec",
            "Prince Edward Island",
            "Quebec",
            "Saskatchewan",
            "Saskatchewan/Alberta"
           ],
           "xaxis": "x",
           "y": [
            922.2641509433962,
            690.5730337078652,
            675.9411764705883,
            556.85,
            456,
            624.1538461538462,
            1394,
            608.12,
            732.9833333333333,
            789.2142857142857,
            605.4285714285714,
            473.832,
            777.2068965517242,
            922.1666666666666
           ],
           "yaxis": "y"
          },
          {
           "alignmentgroup": "True",
           "hovertemplate": "Type of unit=Three bedroom units<br>YEAR=2014<br>PROVINCE=%{x}<br>MONTHLY RENT=%{y}<extra></extra>",
           "legendgroup": "Three bedroom units",
           "marker": {
            "color": "#00cc96",
            "pattern": {
             "shape": ""
            }
           },
           "name": "Three bedroom units",
           "offsetgroup": "Three bedroom units",
           "orientation": "v",
           "showlegend": true,
           "textposition": "auto",
           "type": "bar",
           "x": [
            "Alberta",
            "British Columbia",
            "Manitoba",
            "New Brunswick",
            "New Brunswick/Quebec",
            "Newfoundland and Labrador",
            "Northwest Territories",
            "Nova Scotia",
            "Ontario",
            "Ontario/Quebec",
            "Prince Edward Island",
            "Quebec",
            "Saskatchewan",
            "Saskatchewan/Alberta"
           ],
           "xaxis": "x",
           "y": [
            1230.4,
            986.1333333333333,
            973.7222222222222,
            795.7222222222222,
            802.6666666666666,
            784.7272727272727,
            1890.25,
            918.6111111111111,
            1002.4805194805194,
            1050.8125,
            866.75,
            648.5503875968992,
            1082.923076923077,
            1390.857142857143
           ],
           "yaxis": "y"
          },
          {
           "alignmentgroup": "True",
           "hovertemplate": "Type of unit=Two bedroom units<br>YEAR=2014<br>PROVINCE=%{x}<br>MONTHLY RENT=%{y}<extra></extra>",
           "legendgroup": "Two bedroom units",
           "marker": {
            "color": "#ab63fa",
            "pattern": {
             "shape": ""
            }
           },
           "name": "Two bedroom units",
           "offsetgroup": "Two bedroom units",
           "orientation": "v",
           "showlegend": true,
           "textposition": "auto",
           "type": "bar",
           "x": [
            "Alberta",
            "British Columbia",
            "Manitoba",
            "New Brunswick",
            "New Brunswick/Quebec",
            "Newfoundland and Labrador",
            "Northwest Territories",
            "Nova Scotia",
            "Ontario",
            "Ontario/Quebec",
            "Prince Edward Island",
            "Quebec",
            "Saskatchewan",
            "Saskatchewan/Alberta"
           ],
           "xaxis": "x",
           "y": [
            1085.4833333333333,
            852.7319587628866,
            829.5238095238095,
            680.8571428571429,
            574.6666666666666,
            761.0588235294117,
            1631.25,
            768.7857142857143,
            862.5970873786408,
            873.1176470588235,
            808.625,
            585.6363636363636,
            954.0967741935484,
            1258.875
           ],
           "yaxis": "y"
          }
         ],
         "name": "2014"
        },
        {
         "data": [
          {
           "alignmentgroup": "True",
           "hovertemplate": "Type of unit=Bachelor units<br>YEAR=2015<br>PROVINCE=%{x}<br>MONTHLY RENT=%{y}<extra></extra>",
           "legendgroup": "Bachelor units",
           "marker": {
            "color": "#636efa",
            "pattern": {
             "shape": ""
            }
           },
           "name": "Bachelor units",
           "offsetgroup": "Bachelor units",
           "orientation": "v",
           "showlegend": true,
           "textposition": "auto",
           "type": "bar",
           "x": [
            "Alberta",
            "British Columbia",
            "Manitoba",
            "New Brunswick",
            "New Brunswick/Quebec",
            "Newfoundland and Labrador",
            "Northwest Territories",
            "Nova Scotia",
            "Ontario",
            "Ontario/Quebec",
            "Prince Edward Island",
            "Quebec",
            "Saskatchewan",
            "Saskatchewan/Alberta"
           ],
           "xaxis": "x",
           "y": [
            801.7586206896551,
            608.2,
            549.875,
            476.2352941176471,
            452,
            589.1666666666666,
            1145,
            554,
            610.5785123966942,
            686.0909090909091,
            501.2857142857143,
            401.51851851851853,
            610.75,
            690.5
           ],
           "yaxis": "y"
          },
          {
           "alignmentgroup": "True",
           "hovertemplate": "Type of unit=One bedroom units<br>YEAR=2015<br>PROVINCE=%{x}<br>MONTHLY RENT=%{y}<extra></extra>",
           "legendgroup": "One bedroom units",
           "marker": {
            "color": "#EF553B",
            "pattern": {
             "shape": ""
            }
           },
           "name": "One bedroom units",
           "offsetgroup": "One bedroom units",
           "orientation": "v",
           "showlegend": true,
           "textposition": "auto",
           "type": "bar",
           "x": [
            "Alberta",
            "British Columbia",
            "Manitoba",
            "New Brunswick",
            "New Brunswick/Quebec",
            "Newfoundland and Labrador",
            "Northwest Territories",
            "Nova Scotia",
            "Ontario",
            "Ontario/Quebec",
            "Prince Edward Island",
            "Quebec",
            "Saskatchewan",
            "Saskatchewan/Alberta"
           ],
           "xaxis": "x",
           "y": [
            896.52,
            721.1910112359551,
            703.3529411764706,
            568.1904761904761,
            468.3333333333333,
            644.9166666666666,
            1407.6666666666667,
            646.2173913043479,
            751.3901098901099,
            800.8,
            628.2857142857143,
            478.9024390243902,
            766.1071428571429,
            958.5
           ],
           "yaxis": "y"
          },
          {
           "alignmentgroup": "True",
           "hovertemplate": "Type of unit=Three bedroom units<br>YEAR=2015<br>PROVINCE=%{x}<br>MONTHLY RENT=%{y}<extra></extra>",
           "legendgroup": "Three bedroom units",
           "marker": {
            "color": "#00cc96",
            "pattern": {
             "shape": ""
            }
           },
           "name": "Three bedroom units",
           "offsetgroup": "Three bedroom units",
           "orientation": "v",
           "showlegend": true,
           "textposition": "auto",
           "type": "bar",
           "x": [
            "Alberta",
            "British Columbia",
            "Manitoba",
            "New Brunswick",
            "New Brunswick/Quebec",
            "Newfoundland and Labrador",
            "Northwest Territories",
            "Nova Scotia",
            "Ontario",
            "Ontario/Quebec",
            "Prince Edward Island",
            "Quebec",
            "Saskatchewan",
            "Saskatchewan/Alberta"
           ],
           "xaxis": "x",
           "y": [
            1197.98,
            1008.4494382022472,
            1042.15,
            808.7368421052631,
            632.6666666666666,
            798.6363636363636,
            1979.5,
            934.5263157894736,
            1044.7222222222222,
            1069.9333333333334,
            878,
            663.7076923076924,
            1084.4444444444443,
            1364.25
           ],
           "yaxis": "y"
          },
          {
           "alignmentgroup": "True",
           "hovertemplate": "Type of unit=Two bedroom units<br>YEAR=2015<br>PROVINCE=%{x}<br>MONTHLY RENT=%{y}<extra></extra>",
           "legendgroup": "Two bedroom units",
           "marker": {
            "color": "#ab63fa",
            "pattern": {
             "shape": ""
            }
           },
           "name": "Two bedroom units",
           "offsetgroup": "Two bedroom units",
           "orientation": "v",
           "showlegend": true,
           "textposition": "auto",
           "type": "bar",
           "x": [
            "Alberta",
            "British Columbia",
            "Manitoba",
            "New Brunswick",
            "New Brunswick/Quebec",
            "Newfoundland and Labrador",
            "Northwest Territories",
            "Nova Scotia",
            "Ontario",
            "Ontario/Quebec",
            "Prince Edward Island",
            "Quebec",
            "Saskatchewan",
            "Saskatchewan/Alberta"
           ],
           "xaxis": "x",
           "y": [
            1063.8166666666666,
            881.28125,
            857.95,
            702.1818181818181,
            583.3333333333334,
            762.5294117647059,
            1652.5,
            789.3214285714286,
            893.24,
            900.4705882352941,
            824.75,
            596.8030303030303,
            970.6451612903226,
            1116.5
           ],
           "yaxis": "y"
          }
         ],
         "name": "2015"
        },
        {
         "data": [
          {
           "alignmentgroup": "True",
           "hovertemplate": "Type of unit=Bachelor units<br>YEAR=2016<br>PROVINCE=%{x}<br>MONTHLY RENT=%{y}<extra></extra>",
           "legendgroup": "Bachelor units",
           "marker": {
            "color": "#636efa",
            "pattern": {
             "shape": ""
            }
           },
           "name": "Bachelor units",
           "offsetgroup": "Bachelor units",
           "orientation": "v",
           "showlegend": true,
           "textposition": "auto",
           "type": "bar",
           "x": [
            "Alberta",
            "British Columbia",
            "Manitoba",
            "New Brunswick",
            "New Brunswick/Quebec",
            "Newfoundland and Labrador",
            "Northwest Territories",
            "Nova Scotia",
            "Ontario",
            "Ontario/Quebec",
            "Prince Edward Island",
            "Quebec",
            "Saskatchewan",
            "Saskatchewan/Alberta"
           ],
           "xaxis": "x",
           "y": [
            763.1724137931035,
            622.1095890410959,
            569.125,
            489.5882352941176,
            444.6666666666667,
            605.3333333333334,
            1159.3333333333333,
            565.875,
            629.3553719008264,
            692.1818181818181,
            500.8333333333333,
            408.8454545454546,
            616.7083333333334,
            624
           ],
           "yaxis": "y"
          },
          {
           "alignmentgroup": "True",
           "hovertemplate": "Type of unit=One bedroom units<br>YEAR=2016<br>PROVINCE=%{x}<br>MONTHLY RENT=%{y}<extra></extra>",
           "legendgroup": "One bedroom units",
           "marker": {
            "color": "#EF553B",
            "pattern": {
             "shape": ""
            }
           },
           "name": "One bedroom units",
           "offsetgroup": "One bedroom units",
           "orientation": "v",
           "showlegend": true,
           "textposition": "auto",
           "type": "bar",
           "x": [
            "Alberta",
            "British Columbia",
            "Manitoba",
            "New Brunswick",
            "New Brunswick/Quebec",
            "Newfoundland and Labrador",
            "Northwest Territories",
            "Nova Scotia",
            "Ontario",
            "Ontario/Quebec",
            "Prince Edward Island",
            "Quebec",
            "Saskatchewan",
            "Saskatchewan/Alberta"
           ],
           "xaxis": "x",
           "y": [
            855.2549019607843,
            738.6022727272727,
            710.3529411764706,
            605.1,
            481,
            646.0714285714286,
            1401,
            683.72,
            772.2486187845304,
            748.125,
            638,
            486.4552845528455,
            760.9285714285714,
            915.1666666666666
           ],
           "yaxis": "y"
          },
          {
           "alignmentgroup": "True",
           "hovertemplate": "Type of unit=Three bedroom units<br>YEAR=2016<br>PROVINCE=%{x}<br>MONTHLY RENT=%{y}<extra></extra>",
           "legendgroup": "Three bedroom units",
           "marker": {
            "color": "#00cc96",
            "pattern": {
             "shape": ""
            }
           },
           "name": "Three bedroom units",
           "offsetgroup": "Three bedroom units",
           "orientation": "v",
           "showlegend": true,
           "textposition": "auto",
           "type": "bar",
           "x": [
            "Alberta",
            "British Columbia",
            "Manitoba",
            "New Brunswick",
            "New Brunswick/Quebec",
            "Newfoundland and Labrador",
            "Northwest Territories",
            "Nova Scotia",
            "Ontario",
            "Ontario/Quebec",
            "Prince Edward Island",
            "Quebec",
            "Saskatchewan",
            "Saskatchewan/Alberta"
           ],
           "xaxis": "x",
           "y": [
            1166.5510204081634,
            1047.6823529411765,
            1062.2777777777778,
            831.5,
            682.6666666666666,
            794.4,
            1947,
            951,
            1087.625,
            1082.2,
            892.75,
            670.4351145038167,
            1104.5555555555557,
            1225.375
           ],
           "yaxis": "y"
          },
          {
           "alignmentgroup": "True",
           "hovertemplate": "Type of unit=Two bedroom units<br>YEAR=2016<br>PROVINCE=%{x}<br>MONTHLY RENT=%{y}<extra></extra>",
           "legendgroup": "Two bedroom units",
           "marker": {
            "color": "#ab63fa",
            "pattern": {
             "shape": ""
            }
           },
           "name": "Two bedroom units",
           "offsetgroup": "Two bedroom units",
           "orientation": "v",
           "showlegend": true,
           "textposition": "auto",
           "type": "bar",
           "x": [
            "Alberta",
            "British Columbia",
            "Manitoba",
            "New Brunswick",
            "New Brunswick/Quebec",
            "Newfoundland and Labrador",
            "Northwest Territories",
            "Nova Scotia",
            "Ontario",
            "Ontario/Quebec",
            "Prince Edward Island",
            "Quebec",
            "Saskatchewan",
            "Saskatchewan/Alberta"
           ],
           "xaxis": "x",
           "y": [
            1016.3559322033898,
            900.734693877551,
            875.578947368421,
            723.65,
            594.6666666666666,
            787.875,
            1634.6666666666667,
            816.8965517241379,
            913.6130653266332,
            908.2352941176471,
            848.75,
            608.3181818181819,
            952.0645161290323,
            1002.75
           ],
           "yaxis": "y"
          }
         ],
         "name": "2016"
        },
        {
         "data": [
          {
           "alignmentgroup": "True",
           "hovertemplate": "Type of unit=Bachelor units<br>YEAR=2017<br>PROVINCE=%{x}<br>MONTHLY RENT=%{y}<extra></extra>",
           "legendgroup": "Bachelor units",
           "marker": {
            "color": "#636efa",
            "pattern": {
             "shape": ""
            }
           },
           "name": "Bachelor units",
           "offsetgroup": "Bachelor units",
           "orientation": "v",
           "showlegend": true,
           "textposition": "auto",
           "type": "bar",
           "x": [
            "Alberta",
            "British Columbia",
            "Manitoba",
            "New Brunswick",
            "New Brunswick/Quebec",
            "Newfoundland and Labrador",
            "Northwest Territories",
            "Nova Scotia",
            "Ontario",
            "Ontario/Quebec",
            "Prince Edward Island",
            "Quebec",
            "Saskatchewan",
            "Saskatchewan/Alberta"
           ],
           "xaxis": "x",
           "y": [
            771.7142857142857,
            657.6086956521739,
            586,
            496.88235294117646,
            449.6666666666667,
            594.6666666666666,
            1131.3333333333333,
            571.25,
            642.4867256637168,
            661.3076923076923,
            523.8333333333334,
            422.9514563106796,
            624.9583333333334,
            611.5
           ],
           "yaxis": "y"
          },
          {
           "alignmentgroup": "True",
           "hovertemplate": "Type of unit=One bedroom units<br>YEAR=2017<br>PROVINCE=%{x}<br>MONTHLY RENT=%{y}<extra></extra>",
           "legendgroup": "One bedroom units",
           "marker": {
            "color": "#EF553B",
            "pattern": {
             "shape": ""
            }
           },
           "name": "One bedroom units",
           "offsetgroup": "One bedroom units",
           "orientation": "v",
           "showlegend": true,
           "textposition": "auto",
           "type": "bar",
           "x": [
            "Alberta",
            "British Columbia",
            "Manitoba",
            "New Brunswick",
            "New Brunswick/Quebec",
            "Newfoundland and Labrador",
            "Northwest Territories",
            "Nova Scotia",
            "Ontario",
            "Ontario/Quebec",
            "Prince Edward Island",
            "Quebec",
            "Saskatchewan",
            "Saskatchewan/Alberta"
           ],
           "xaxis": "x",
           "y": [
            862.4509803921569,
            775.9883720930233,
            735.5625,
            588.4736842105264,
            494.6666666666667,
            653.9230769230769,
            1453,
            663.1739130434783,
            803.9435028248588,
            805.7777777777778,
            657.5714285714286,
            494.9478260869565,
            774.4444444444445,
            918.5
           ],
           "yaxis": "y"
          },
          {
           "alignmentgroup": "True",
           "hovertemplate": "Type of unit=Three bedroom units<br>YEAR=2017<br>PROVINCE=%{x}<br>MONTHLY RENT=%{y}<extra></extra>",
           "legendgroup": "Three bedroom units",
           "marker": {
            "color": "#00cc96",
            "pattern": {
             "shape": ""
            }
           },
           "name": "Three bedroom units",
           "offsetgroup": "Three bedroom units",
           "orientation": "v",
           "showlegend": true,
           "textposition": "auto",
           "type": "bar",
           "x": [
            "Alberta",
            "British Columbia",
            "Manitoba",
            "New Brunswick",
            "New Brunswick/Quebec",
            "Newfoundland and Labrador",
            "Northwest Territories",
            "Nova Scotia",
            "Ontario",
            "Ontario/Quebec",
            "Prince Edward Island",
            "Quebec",
            "Saskatchewan",
            "Saskatchewan/Alberta"
           ],
           "xaxis": "x",
           "y": [
            1154.1176470588234,
            1104.0113636363637,
            1090.95,
            813.6666666666666,
            709.6666666666666,
            800.4545454545455,
            1998,
            1007.7894736842105,
            1128.546762589928,
            1158.2777777777778,
            912.25,
            676.0420168067227,
            1088.08,
            1247.75
           ],
           "yaxis": "y"
          },
          {
           "alignmentgroup": "True",
           "hovertemplate": "Type of unit=Two bedroom units<br>YEAR=2017<br>PROVINCE=%{x}<br>MONTHLY RENT=%{y}<extra></extra>",
           "legendgroup": "Two bedroom units",
           "marker": {
            "color": "#ab63fa",
            "pattern": {
             "shape": ""
            }
           },
           "name": "Two bedroom units",
           "offsetgroup": "Two bedroom units",
           "orientation": "v",
           "showlegend": true,
           "textposition": "auto",
           "type": "bar",
           "x": [
            "Alberta",
            "British Columbia",
            "Manitoba",
            "New Brunswick",
            "New Brunswick/Quebec",
            "Newfoundland and Labrador",
            "Northwest Territories",
            "Nova Scotia",
            "Ontario",
            "Ontario/Quebec",
            "Prince Edward Island",
            "Quebec",
            "Saskatchewan",
            "Saskatchewan/Alberta"
           ],
           "xaxis": "x",
           "y": [
            1017.7457627118644,
            938.959595959596,
            911.5555555555555,
            725.7619047619048,
            600.6666666666666,
            773.0588235294117,
            1696.3333333333333,
            818.2333333333333,
            949.219387755102,
            937.7894736842105,
            892.875,
            616.0243902439024,
            963.0967741935484,
            994.375
           ],
           "yaxis": "y"
          }
         ],
         "name": "2017"
        },
        {
         "data": [
          {
           "alignmentgroup": "True",
           "hovertemplate": "Type of unit=Bachelor units<br>YEAR=2018<br>PROVINCE=%{x}<br>MONTHLY RENT=%{y}<extra></extra>",
           "legendgroup": "Bachelor units",
           "marker": {
            "color": "#636efa",
            "pattern": {
             "shape": ""
            }
           },
           "name": "Bachelor units",
           "offsetgroup": "Bachelor units",
           "orientation": "v",
           "showlegend": true,
           "textposition": "auto",
           "type": "bar",
           "x": [
            "Alberta",
            "British Columbia",
            "Manitoba",
            "New Brunswick",
            "New Brunswick/Quebec",
            "Newfoundland and Labrador",
            "Northwest Territories",
            "Nova Scotia",
            "Ontario",
            "Ontario/Quebec",
            "Prince Edward Island",
            "Quebec",
            "Saskatchewan",
            "Saskatchewan/Alberta"
           ],
           "xaxis": "x",
           "y": [
            776.9677419354839,
            690.9142857142857,
            618.75,
            511.3333333333333,
            450,
            606.5,
            1182.3333333333333,
            582.2666666666667,
            682.375,
            682.6923076923077,
            606.5714285714286,
            423.13,
            622.0416666666666,
            653
           ],
           "yaxis": "y"
          },
          {
           "alignmentgroup": "True",
           "hovertemplate": "Type of unit=One bedroom units<br>YEAR=2018<br>PROVINCE=%{x}<br>MONTHLY RENT=%{y}<extra></extra>",
           "legendgroup": "One bedroom units",
           "marker": {
            "color": "#EF553B",
            "pattern": {
             "shape": ""
            }
           },
           "name": "One bedroom units",
           "offsetgroup": "One bedroom units",
           "orientation": "v",
           "showlegend": true,
           "textposition": "auto",
           "type": "bar",
           "x": [
            "Alberta",
            "British Columbia",
            "Manitoba",
            "New Brunswick",
            "New Brunswick/Quebec",
            "Newfoundland and Labrador",
            "Northwest Territories",
            "Nova Scotia",
            "Ontario",
            "Ontario/Quebec",
            "Prince Edward Island",
            "Quebec",
            "Saskatchewan",
            "Saskatchewan/Alberta"
           ],
           "xaxis": "x",
           "y": [
            890.3529411764706,
            824.5813953488372,
            746.7368421052631,
            631.9,
            504.3333333333333,
            655.0769230769231,
            1450.3333333333333,
            684,
            836.1321839080459,
            842.0588235294117,
            764,
            500.3008849557522,
            784.1379310344828,
            946.3333333333334
           ],
           "yaxis": "y"
          },
          {
           "alignmentgroup": "True",
           "hovertemplate": "Type of unit=Three bedroom units<br>YEAR=2018<br>PROVINCE=%{x}<br>MONTHLY RENT=%{y}<extra></extra>",
           "legendgroup": "Three bedroom units",
           "marker": {
            "color": "#00cc96",
            "pattern": {
             "shape": ""
            }
           },
           "name": "Three bedroom units",
           "offsetgroup": "Three bedroom units",
           "orientation": "v",
           "showlegend": true,
           "textposition": "auto",
           "type": "bar",
           "x": [
            "Alberta",
            "British Columbia",
            "Manitoba",
            "New Brunswick",
            "New Brunswick/Quebec",
            "Newfoundland and Labrador",
            "Northwest Territories",
            "Nova Scotia",
            "Ontario",
            "Ontario/Quebec",
            "Prince Edward Island",
            "Quebec",
            "Saskatchewan",
            "Saskatchewan/Alberta"
           ],
           "xaxis": "x",
           "y": [
            1174.6,
            1184.5116279069769,
            1116.4,
            912.1875,
            891.3333333333334,
            813.8333333333334,
            2052.25,
            1011.421052631579,
            1166.8489208633093,
            1181.3125,
            928.625,
            689.1101694915254,
            1104.7692307692307,
            1257
           ],
           "yaxis": "y"
          },
          {
           "alignmentgroup": "True",
           "hovertemplate": "Type of unit=Two bedroom units<br>YEAR=2018<br>PROVINCE=%{x}<br>MONTHLY RENT=%{y}<extra></extra>",
           "legendgroup": "Two bedroom units",
           "marker": {
            "color": "#ab63fa",
            "pattern": {
             "shape": ""
            }
           },
           "name": "Two bedroom units",
           "offsetgroup": "Two bedroom units",
           "orientation": "v",
           "showlegend": true,
           "textposition": "auto",
           "type": "bar",
           "x": [
            "Alberta",
            "British Columbia",
            "Manitoba",
            "New Brunswick",
            "New Brunswick/Quebec",
            "Newfoundland and Labrador",
            "Northwest Territories",
            "Nova Scotia",
            "Ontario",
            "Ontario/Quebec",
            "Prince Edward Island",
            "Quebec",
            "Saskatchewan",
            "Saskatchewan/Alberta"
           ],
           "xaxis": "x",
           "y": [
            1042.655172413793,
            998.0927835051547,
            934.95,
            748.2857142857143,
            627.6666666666666,
            785.4117647058823,
            1695.3333333333333,
            876.3846153846154,
            984.0102040816327,
            975.8947368421053,
            923.125,
            631.944,
            973.3870967741935,
            994
           ],
           "yaxis": "y"
          }
         ],
         "name": "2018"
        },
        {
         "data": [
          {
           "alignmentgroup": "True",
           "hovertemplate": "Type of unit=Bachelor units<br>YEAR=2019<br>PROVINCE=%{x}<br>MONTHLY RENT=%{y}<extra></extra>",
           "legendgroup": "Bachelor units",
           "marker": {
            "color": "#636efa",
            "pattern": {
             "shape": ""
            }
           },
           "name": "Bachelor units",
           "offsetgroup": "Bachelor units",
           "orientation": "v",
           "showlegend": true,
           "textposition": "auto",
           "type": "bar",
           "x": [
            "Alberta",
            "British Columbia",
            "Manitoba",
            "New Brunswick",
            "New Brunswick/Quebec",
            "Newfoundland and Labrador",
            "Northwest Territories",
            "Nova Scotia",
            "Ontario",
            "Ontario/Quebec",
            "Prince Edward Island",
            "Quebec",
            "Saskatchewan",
            "Saskatchewan/Alberta"
           ],
           "xaxis": "x",
           "y": [
            775.6060606060606,
            732.1830985915493,
            644.75,
            535,
            456.6666666666667,
            615.3333333333334,
            1227,
            600.2666666666667,
            725.6964285714286,
            720.9230769230769,
            593.5714285714286,
            435.7920792079208,
            638.3333333333334,
            611
           ],
           "yaxis": "y"
          },
          {
           "alignmentgroup": "True",
           "hovertemplate": "Type of unit=One bedroom units<br>YEAR=2019<br>PROVINCE=%{x}<br>MONTHLY RENT=%{y}<extra></extra>",
           "legendgroup": "One bedroom units",
           "marker": {
            "color": "#EF553B",
            "pattern": {
             "shape": ""
            }
           },
           "name": "One bedroom units",
           "offsetgroup": "One bedroom units",
           "orientation": "v",
           "showlegend": true,
           "textposition": "auto",
           "type": "bar",
           "x": [
            "Alberta",
            "British Columbia",
            "Manitoba",
            "New Brunswick",
            "New Brunswick/Quebec",
            "Newfoundland and Labrador",
            "Northwest Territories",
            "Nova Scotia",
            "Ontario",
            "Ontario/Quebec",
            "Prince Edward Island",
            "Quebec",
            "Saskatchewan",
            "Saskatchewan/Alberta"
           ],
           "xaxis": "x",
           "y": [
            910.2307692307693,
            863.9887640449438,
            783.7222222222222,
            629.7894736842105,
            525.6666666666666,
            685.2307692307693,
            1516.6666666666667,
            717.1304347826087,
            886.2931034482758,
            903.0588235294117,
            734.1428571428571,
            515.5701754385965,
            802.3793103448276,
            959.8333333333334
           ],
           "yaxis": "y"
          },
          {
           "alignmentgroup": "True",
           "hovertemplate": "Type of unit=Three bedroom units<br>YEAR=2019<br>PROVINCE=%{x}<br>MONTHLY RENT=%{y}<extra></extra>",
           "legendgroup": "Three bedroom units",
           "marker": {
            "color": "#00cc96",
            "pattern": {
             "shape": ""
            }
           },
           "name": "Three bedroom units",
           "offsetgroup": "Three bedroom units",
           "orientation": "v",
           "showlegend": true,
           "textposition": "auto",
           "type": "bar",
           "x": [
            "Alberta",
            "British Columbia",
            "Manitoba",
            "New Brunswick",
            "New Brunswick/Quebec",
            "Newfoundland and Labrador",
            "Northwest Territories",
            "Nova Scotia",
            "Ontario",
            "Ontario/Quebec",
            "Prince Edward Island",
            "Quebec",
            "Saskatchewan",
            "Saskatchewan/Alberta"
           ],
           "xaxis": "x",
           "y": [
            1197.673076923077,
            1263.0697674418604,
            1162.2,
            945.25,
            889,
            831.4,
            2121.25,
            1023.1666666666666,
            1225.6870229007634,
            1262.7058823529412,
            967.875,
            717.7416666666667,
            1107.5185185185185,
            1289.125
           ],
           "yaxis": "y"
          },
          {
           "alignmentgroup": "True",
           "hovertemplate": "Type of unit=Two bedroom units<br>YEAR=2019<br>PROVINCE=%{x}<br>MONTHLY RENT=%{y}<extra></extra>",
           "legendgroup": "Two bedroom units",
           "marker": {
            "color": "#ab63fa",
            "pattern": {
             "shape": ""
            }
           },
           "name": "Two bedroom units",
           "offsetgroup": "Two bedroom units",
           "orientation": "v",
           "showlegend": true,
           "textposition": "auto",
           "type": "bar",
           "x": [
            "Alberta",
            "British Columbia",
            "Manitoba",
            "New Brunswick",
            "New Brunswick/Quebec",
            "Newfoundland and Labrador",
            "Northwest Territories",
            "Nova Scotia",
            "Ontario",
            "Ontario/Quebec",
            "Prince Edward Island",
            "Quebec",
            "Saskatchewan",
            "Saskatchewan/Alberta"
           ],
           "xaxis": "x",
           "y": [
            1091.4098360655737,
            1059.3263157894737,
            962.55,
            775.5,
            622.3333333333334,
            803.2352941176471,
            1745.6666666666667,
            912.7307692307693,
            1037.340206185567,
            1044.8333333333333,
            953.875,
            648.7460317460317,
            978.7096774193549,
            1043.2857142857142
           ],
           "yaxis": "y"
          }
         ],
         "name": "2019"
        },
        {
         "data": [
          {
           "alignmentgroup": "True",
           "hovertemplate": "Type of unit=Bachelor units<br>YEAR=2020<br>PROVINCE=%{x}<br>MONTHLY RENT=%{y}<extra></extra>",
           "legendgroup": "Bachelor units",
           "marker": {
            "color": "#636efa",
            "pattern": {
             "shape": ""
            }
           },
           "name": "Bachelor units",
           "offsetgroup": "Bachelor units",
           "orientation": "v",
           "showlegend": true,
           "textposition": "auto",
           "type": "bar",
           "x": [
            "Alberta",
            "British Columbia",
            "Manitoba",
            "New Brunswick",
            "New Brunswick/Quebec",
            "Newfoundland and Labrador",
            "Northwest Territories",
            "Nova Scotia",
            "Ontario",
            "Ontario/Quebec",
            "Prince Edward Island",
            "Quebec",
            "Saskatchewan",
            "Saskatchewan/Alberta"
           ],
           "xaxis": "x",
           "y": [
            803.4,
            767.7142857142857,
            654,
            533.6470588235294,
            503.6666666666667,
            639.1666666666666,
            1240,
            506.2631578947368,
            680.4260869565218,
            860.6666666666666,
            563.75,
            420.06481481481484,
            646.8333333333334,
            621.5
           ],
           "yaxis": "y"
          },
          {
           "alignmentgroup": "True",
           "hovertemplate": "Type of unit=One bedroom units<br>YEAR=2020<br>PROVINCE=%{x}<br>MONTHLY RENT=%{y}<extra></extra>",
           "legendgroup": "One bedroom units",
           "marker": {
            "color": "#EF553B",
            "pattern": {
             "shape": ""
            }
           },
           "name": "One bedroom units",
           "offsetgroup": "One bedroom units",
           "orientation": "v",
           "showlegend": true,
           "textposition": "auto",
           "type": "bar",
           "x": [
            "Alberta",
            "British Columbia",
            "Manitoba",
            "New Brunswick",
            "New Brunswick/Quebec",
            "Newfoundland and Labrador",
            "Northwest Territories",
            "Nova Scotia",
            "Ontario",
            "Ontario/Quebec",
            "Prince Edward Island",
            "Quebec",
            "Saskatchewan",
            "Saskatchewan/Alberta"
           ],
           "xaxis": "x",
           "y": [
            915.1458333333334,
            907.1797752808989,
            809.3888888888889,
            643.8421052631579,
            540.3333333333334,
            686.0769230769231,
            1529.3333333333333,
            631.6296296296297,
            864.1348314606741,
            964.625,
            747,
            498.336,
            794.3214285714286,
            983.1666666666666
           ],
           "yaxis": "y"
          },
          {
           "alignmentgroup": "True",
           "hovertemplate": "Type of unit=Three bedroom units<br>YEAR=2020<br>PROVINCE=%{x}<br>MONTHLY RENT=%{y}<extra></extra>",
           "legendgroup": "Three bedroom units",
           "marker": {
            "color": "#00cc96",
            "pattern": {
             "shape": ""
            }
           },
           "name": "Three bedroom units",
           "offsetgroup": "Three bedroom units",
           "orientation": "v",
           "showlegend": true,
           "textposition": "auto",
           "type": "bar",
           "x": [
            "Alberta",
            "British Columbia",
            "Manitoba",
            "New Brunswick",
            "New Brunswick/Quebec",
            "Newfoundland and Labrador",
            "Northwest Territories",
            "Nova Scotia",
            "Ontario",
            "Ontario/Quebec",
            "Prince Edward Island",
            "Quebec",
            "Saskatchewan",
            "Saskatchewan/Alberta"
           ],
           "xaxis": "x",
           "y": [
            1221.304347826087,
            1345.7613636363637,
            1255.952380952381,
            954.5294117647059,
            968.3333333333334,
            846.7,
            2126,
            899.7619047619048,
            1179.043795620438,
            1319.5625,
            996.75,
            708.4090909090909,
            1138.7692307692307,
            1332.375
           ],
           "yaxis": "y"
          },
          {
           "alignmentgroup": "True",
           "hovertemplate": "Type of unit=Two bedroom units<br>YEAR=2020<br>PROVINCE=%{x}<br>MONTHLY RENT=%{y}<extra></extra>",
           "legendgroup": "Two bedroom units",
           "marker": {
            "color": "#ab63fa",
            "pattern": {
             "shape": ""
            }
           },
           "name": "Two bedroom units",
           "offsetgroup": "Two bedroom units",
           "orientation": "v",
           "showlegend": true,
           "textposition": "auto",
           "type": "bar",
           "x": [
            "Alberta",
            "British Columbia",
            "Manitoba",
            "New Brunswick",
            "New Brunswick/Quebec",
            "Newfoundland and Labrador",
            "Northwest Territories",
            "Nova Scotia",
            "Ontario",
            "Ontario/Quebec",
            "Prince Edward Island",
            "Quebec",
            "Saskatchewan",
            "Saskatchewan/Alberta"
           ],
           "xaxis": "x",
           "y": [
            1098.2033898305085,
            1113.0721649484535,
            1030.2,
            817,
            641,
            828.0625,
            1768,
            819.9333333333333,
            1029.356783919598,
            1105.9444444444443,
            1001.125,
            635.2043795620438,
            981.3225806451613,
            1037.5
           ],
           "yaxis": "y"
          }
         ],
         "name": "2020"
        },
        {
         "data": [
          {
           "alignmentgroup": "True",
           "hovertemplate": "Type of unit=Bachelor units<br>YEAR=2021<br>PROVINCE=%{x}<br>MONTHLY RENT=%{y}<extra></extra>",
           "legendgroup": "Bachelor units",
           "marker": {
            "color": "#636efa",
            "pattern": {
             "shape": ""
            }
           },
           "name": "Bachelor units",
           "offsetgroup": "Bachelor units",
           "orientation": "v",
           "showlegend": true,
           "textposition": "auto",
           "type": "bar",
           "x": [
            "Alberta",
            "British Columbia",
            "Manitoba",
            "New Brunswick",
            "New Brunswick/Quebec",
            "Newfoundland and Labrador",
            "Northwest Territories",
            "Nova Scotia",
            "Ontario",
            "Ontario/Quebec",
            "Prince Edward Island",
            "Quebec",
            "Saskatchewan",
            "Saskatchewan/Alberta"
           ],
           "xaxis": "x",
           "y": [
            800.6428571428571,
            843.6176470588235,
            680.25,
            589.3529411764706,
            425,
            630.1666666666666,
            1234,
            512.9473684210526,
            710.2929292929293,
            830.1818181818181,
            541.25,
            432.3301886792453,
            645.7083333333334,
            656
           ],
           "yaxis": "y"
          },
          {
           "alignmentgroup": "True",
           "hovertemplate": "Type of unit=One bedroom units<br>YEAR=2021<br>PROVINCE=%{x}<br>MONTHLY RENT=%{y}<extra></extra>",
           "legendgroup": "One bedroom units",
           "marker": {
            "color": "#EF553B",
            "pattern": {
             "shape": ""
            }
           },
           "name": "One bedroom units",
           "offsetgroup": "One bedroom units",
           "orientation": "v",
           "showlegend": true,
           "textposition": "auto",
           "type": "bar",
           "x": [
            "Alberta",
            "British Columbia",
            "Manitoba",
            "New Brunswick",
            "New Brunswick/Quebec",
            "Newfoundland and Labrador",
            "Northwest Territories",
            "Nova Scotia",
            "Ontario",
            "Ontario/Quebec",
            "Prince Edward Island",
            "Quebec",
            "Saskatchewan",
            "Saskatchewan/Alberta"
           ],
           "xaxis": "x",
           "y": [
            931.5555555555555,
            958.2613636363636,
            832.7777777777778,
            727.0526315789474,
            568,
            695.7692307692307,
            1561,
            653.8333333333334,
            921.3372093023256,
            947.7647058823529,
            769.7142857142857,
            515.6129032258065,
            828.7142857142857,
            974.6666666666666
           ],
           "yaxis": "y"
          },
          {
           "alignmentgroup": "True",
           "hovertemplate": "Type of unit=Three bedroom units<br>YEAR=2021<br>PROVINCE=%{x}<br>MONTHLY RENT=%{y}<extra></extra>",
           "legendgroup": "Three bedroom units",
           "marker": {
            "color": "#00cc96",
            "pattern": {
             "shape": ""
            }
           },
           "name": "Three bedroom units",
           "offsetgroup": "Three bedroom units",
           "orientation": "v",
           "showlegend": true,
           "textposition": "auto",
           "type": "bar",
           "x": [
            "Alberta",
            "British Columbia",
            "Manitoba",
            "New Brunswick",
            "New Brunswick/Quebec",
            "Newfoundland and Labrador",
            "Northwest Territories",
            "Nova Scotia",
            "Ontario",
            "Ontario/Quebec",
            "Prince Edward Island",
            "Quebec",
            "Saskatchewan",
            "Saskatchewan/Alberta"
           ],
           "xaxis": "x",
           "y": [
            1228.204081632653,
            1459.1234567901236,
            1280.8636363636363,
            1027.0666666666666,
            1014,
            888.375,
            2170.5,
            951.5,
            1261.077519379845,
            1419.0714285714287,
            1040.5714285714287,
            746.5714285714286,
            1148.2962962962963,
            1282.125
           ],
           "yaxis": "y"
          },
          {
           "alignmentgroup": "True",
           "hovertemplate": "Type of unit=Two bedroom units<br>YEAR=2021<br>PROVINCE=%{x}<br>MONTHLY RENT=%{y}<extra></extra>",
           "legendgroup": "Two bedroom units",
           "marker": {
            "color": "#ab63fa",
            "pattern": {
             "shape": ""
            }
           },
           "name": "Two bedroom units",
           "offsetgroup": "Two bedroom units",
           "orientation": "v",
           "showlegend": true,
           "textposition": "auto",
           "type": "bar",
           "x": [
            "Alberta",
            "British Columbia",
            "Manitoba",
            "New Brunswick",
            "New Brunswick/Quebec",
            "Newfoundland and Labrador",
            "Northwest Territories",
            "Nova Scotia",
            "Ontario",
            "Ontario/Quebec",
            "Prince Edward Island",
            "Quebec",
            "Saskatchewan",
            "Saskatchewan/Alberta"
           ],
           "xaxis": "x",
           "y": [
            1118.532258064516,
            1185.3473684210526,
            1053.35,
            875.1428571428571,
            666.6666666666666,
            839.0588235294117,
            1803,
            870.0666666666667,
            1077.7179487179487,
            1127.9444444444443,
            1056.5,
            667.0962962962963,
            996.9677419354839,
            1000.1428571428571
           ],
           "yaxis": "y"
          }
         ],
         "name": "2021"
        },
        {
         "data": [
          {
           "alignmentgroup": "True",
           "hovertemplate": "Type of unit=Bachelor units<br>YEAR=2022<br>PROVINCE=%{x}<br>MONTHLY RENT=%{y}<extra></extra>",
           "legendgroup": "Bachelor units",
           "marker": {
            "color": "#636efa",
            "pattern": {
             "shape": ""
            }
           },
           "name": "Bachelor units",
           "offsetgroup": "Bachelor units",
           "orientation": "v",
           "showlegend": true,
           "textposition": "auto",
           "type": "bar",
           "x": [
            "Alberta",
            "British Columbia",
            "Manitoba",
            "New Brunswick",
            "Newfoundland and Labrador",
            "Northwest Territories",
            "Nova Scotia",
            "Ontario",
            "Ontario/Quebec",
            "Prince Edward Island",
            "Quebec",
            "Saskatchewan",
            "Saskatchewan/Alberta"
           ],
           "xaxis": "x",
           "y": [
            872.1428571428571,
            920.1967213114754,
            683.4375,
            648,
            681.5,
            1279,
            546.9473684210526,
            758.0098039215686,
            915.7272727272727,
            636.3333333333334,
            464.3796296296296,
            681.3333333333334,
            703
           ],
           "yaxis": "y"
          },
          {
           "alignmentgroup": "True",
           "hovertemplate": "Type of unit=One bedroom units<br>YEAR=2022<br>PROVINCE=%{x}<br>MONTHLY RENT=%{y}<extra></extra>",
           "legendgroup": "One bedroom units",
           "marker": {
            "color": "#EF553B",
            "pattern": {
             "shape": ""
            }
           },
           "name": "One bedroom units",
           "offsetgroup": "One bedroom units",
           "orientation": "v",
           "showlegend": true,
           "textposition": "auto",
           "type": "bar",
           "x": [
            "Alberta",
            "British Columbia",
            "Manitoba",
            "New Brunswick",
            "New Brunswick/Quebec",
            "Newfoundland and Labrador",
            "Northwest Territories",
            "Nova Scotia",
            "Ontario",
            "Ontario/Quebec",
            "Prince Edward Island",
            "Quebec",
            "Saskatchewan",
            "Saskatchewan/Alberta"
           ],
           "xaxis": "x",
           "y": [
            1002.1111111111111,
            1060.421686746988,
            886.2777777777778,
            768.6666666666666,
            560,
            742.6153846153846,
            1567,
            666.1739130434783,
            983.3372093023256,
            1062,
            819.5714285714286,
            546,
            871.6666666666666,
            956.5
           ],
           "yaxis": "y"
          },
          {
           "alignmentgroup": "True",
           "hovertemplate": "Type of unit=Three bedroom units<br>YEAR=2022<br>PROVINCE=%{x}<br>MONTHLY RENT=%{y}<extra></extra>",
           "legendgroup": "Three bedroom units",
           "marker": {
            "color": "#00cc96",
            "pattern": {
             "shape": ""
            }
           },
           "name": "Three bedroom units",
           "offsetgroup": "Three bedroom units",
           "orientation": "v",
           "showlegend": true,
           "textposition": "auto",
           "type": "bar",
           "x": [
            "Alberta",
            "British Columbia",
            "Manitoba",
            "New Brunswick",
            "New Brunswick/Quebec",
            "Newfoundland and Labrador",
            "Northwest Territories",
            "Nova Scotia",
            "Ontario",
            "Ontario/Quebec",
            "Prince Edward Island",
            "Quebec",
            "Saskatchewan",
            "Saskatchewan/Alberta"
           ],
           "xaxis": "x",
           "y": [
            1300.8085106382978,
            1554.7738095238096,
            1333.7,
            1112.3333333333333,
            906.6666666666666,
            896.9090909090909,
            2198,
            981.125,
            1321.3858267716535,
            1490.6666666666667,
            1050.75,
            797.6488549618321,
            1182.9642857142858,
            1262.5
           ],
           "yaxis": "y"
          },
          {
           "alignmentgroup": "True",
           "hovertemplate": "Type of unit=Two bedroom units<br>YEAR=2022<br>PROVINCE=%{x}<br>MONTHLY RENT=%{y}<extra></extra>",
           "legendgroup": "Two bedroom units",
           "marker": {
            "color": "#ab63fa",
            "pattern": {
             "shape": ""
            }
           },
           "name": "Two bedroom units",
           "offsetgroup": "Two bedroom units",
           "orientation": "v",
           "showlegend": true,
           "textposition": "auto",
           "type": "bar",
           "x": [
            "Alberta",
            "British Columbia",
            "Manitoba",
            "New Brunswick",
            "New Brunswick/Quebec",
            "Newfoundland and Labrador",
            "Northwest Territories",
            "Nova Scotia",
            "Ontario",
            "Ontario/Quebec",
            "Prince Edward Island",
            "Quebec",
            "Saskatchewan",
            "Saskatchewan/Alberta"
           ],
           "xaxis": "x",
           "y": [
            1183.2295081967213,
            1291.8541666666667,
            1117.7368421052631,
            983.1,
            674.3333333333334,
            872.9375,
            1826.3333333333333,
            888.6206896551724,
            1147.7027027027027,
            1286.5,
            1036.625,
            729.9179104477612,
            1033.967741935484,
            1014
           ],
           "yaxis": "y"
          }
         ],
         "name": "2022"
        }
       ],
       "layout": {
        "barmode": "group",
        "legend": {
         "title": {
          "text": "Type of unit"
         },
         "tracegroupgap": 0
        },
        "sliders": [
         {
          "active": 0,
          "currentvalue": {
           "prefix": "YEAR="
          },
          "len": 0.9,
          "pad": {
           "b": 10,
           "t": 60
          },
          "steps": [
           {
            "args": [
             [
              "1987"
             ],
             {
              "frame": {
               "duration": 0,
               "redraw": true
              },
              "fromcurrent": true,
              "mode": "immediate",
              "transition": {
               "duration": 0,
               "easing": "linear"
              }
             }
            ],
            "label": "1987",
            "method": "animate"
           },
           {
            "args": [
             [
              "1988"
             ],
             {
              "frame": {
               "duration": 0,
               "redraw": true
              },
              "fromcurrent": true,
              "mode": "immediate",
              "transition": {
               "duration": 0,
               "easing": "linear"
              }
             }
            ],
            "label": "1988",
            "method": "animate"
           },
           {
            "args": [
             [
              "1989"
             ],
             {
              "frame": {
               "duration": 0,
               "redraw": true
              },
              "fromcurrent": true,
              "mode": "immediate",
              "transition": {
               "duration": 0,
               "easing": "linear"
              }
             }
            ],
            "label": "1989",
            "method": "animate"
           },
           {
            "args": [
             [
              "1990"
             ],
             {
              "frame": {
               "duration": 0,
               "redraw": true
              },
              "fromcurrent": true,
              "mode": "immediate",
              "transition": {
               "duration": 0,
               "easing": "linear"
              }
             }
            ],
            "label": "1990",
            "method": "animate"
           },
           {
            "args": [
             [
              "1991"
             ],
             {
              "frame": {
               "duration": 0,
               "redraw": true
              },
              "fromcurrent": true,
              "mode": "immediate",
              "transition": {
               "duration": 0,
               "easing": "linear"
              }
             }
            ],
            "label": "1991",
            "method": "animate"
           },
           {
            "args": [
             [
              "1992"
             ],
             {
              "frame": {
               "duration": 0,
               "redraw": true
              },
              "fromcurrent": true,
              "mode": "immediate",
              "transition": {
               "duration": 0,
               "easing": "linear"
              }
             }
            ],
            "label": "1992",
            "method": "animate"
           },
           {
            "args": [
             [
              "1993"
             ],
             {
              "frame": {
               "duration": 0,
               "redraw": true
              },
              "fromcurrent": true,
              "mode": "immediate",
              "transition": {
               "duration": 0,
               "easing": "linear"
              }
             }
            ],
            "label": "1993",
            "method": "animate"
           },
           {
            "args": [
             [
              "1994"
             ],
             {
              "frame": {
               "duration": 0,
               "redraw": true
              },
              "fromcurrent": true,
              "mode": "immediate",
              "transition": {
               "duration": 0,
               "easing": "linear"
              }
             }
            ],
            "label": "1994",
            "method": "animate"
           },
           {
            "args": [
             [
              "1995"
             ],
             {
              "frame": {
               "duration": 0,
               "redraw": true
              },
              "fromcurrent": true,
              "mode": "immediate",
              "transition": {
               "duration": 0,
               "easing": "linear"
              }
             }
            ],
            "label": "1995",
            "method": "animate"
           },
           {
            "args": [
             [
              "1996"
             ],
             {
              "frame": {
               "duration": 0,
               "redraw": true
              },
              "fromcurrent": true,
              "mode": "immediate",
              "transition": {
               "duration": 0,
               "easing": "linear"
              }
             }
            ],
            "label": "1996",
            "method": "animate"
           },
           {
            "args": [
             [
              "1997"
             ],
             {
              "frame": {
               "duration": 0,
               "redraw": true
              },
              "fromcurrent": true,
              "mode": "immediate",
              "transition": {
               "duration": 0,
               "easing": "linear"
              }
             }
            ],
            "label": "1997",
            "method": "animate"
           },
           {
            "args": [
             [
              "1998"
             ],
             {
              "frame": {
               "duration": 0,
               "redraw": true
              },
              "fromcurrent": true,
              "mode": "immediate",
              "transition": {
               "duration": 0,
               "easing": "linear"
              }
             }
            ],
            "label": "1998",
            "method": "animate"
           },
           {
            "args": [
             [
              "1999"
             ],
             {
              "frame": {
               "duration": 0,
               "redraw": true
              },
              "fromcurrent": true,
              "mode": "immediate",
              "transition": {
               "duration": 0,
               "easing": "linear"
              }
             }
            ],
            "label": "1999",
            "method": "animate"
           },
           {
            "args": [
             [
              "2000"
             ],
             {
              "frame": {
               "duration": 0,
               "redraw": true
              },
              "fromcurrent": true,
              "mode": "immediate",
              "transition": {
               "duration": 0,
               "easing": "linear"
              }
             }
            ],
            "label": "2000",
            "method": "animate"
           },
           {
            "args": [
             [
              "2001"
             ],
             {
              "frame": {
               "duration": 0,
               "redraw": true
              },
              "fromcurrent": true,
              "mode": "immediate",
              "transition": {
               "duration": 0,
               "easing": "linear"
              }
             }
            ],
            "label": "2001",
            "method": "animate"
           },
           {
            "args": [
             [
              "2002"
             ],
             {
              "frame": {
               "duration": 0,
               "redraw": true
              },
              "fromcurrent": true,
              "mode": "immediate",
              "transition": {
               "duration": 0,
               "easing": "linear"
              }
             }
            ],
            "label": "2002",
            "method": "animate"
           },
           {
            "args": [
             [
              "2003"
             ],
             {
              "frame": {
               "duration": 0,
               "redraw": true
              },
              "fromcurrent": true,
              "mode": "immediate",
              "transition": {
               "duration": 0,
               "easing": "linear"
              }
             }
            ],
            "label": "2003",
            "method": "animate"
           },
           {
            "args": [
             [
              "2004"
             ],
             {
              "frame": {
               "duration": 0,
               "redraw": true
              },
              "fromcurrent": true,
              "mode": "immediate",
              "transition": {
               "duration": 0,
               "easing": "linear"
              }
             }
            ],
            "label": "2004",
            "method": "animate"
           },
           {
            "args": [
             [
              "2005"
             ],
             {
              "frame": {
               "duration": 0,
               "redraw": true
              },
              "fromcurrent": true,
              "mode": "immediate",
              "transition": {
               "duration": 0,
               "easing": "linear"
              }
             }
            ],
            "label": "2005",
            "method": "animate"
           },
           {
            "args": [
             [
              "2006"
             ],
             {
              "frame": {
               "duration": 0,
               "redraw": true
              },
              "fromcurrent": true,
              "mode": "immediate",
              "transition": {
               "duration": 0,
               "easing": "linear"
              }
             }
            ],
            "label": "2006",
            "method": "animate"
           },
           {
            "args": [
             [
              "2007"
             ],
             {
              "frame": {
               "duration": 0,
               "redraw": true
              },
              "fromcurrent": true,
              "mode": "immediate",
              "transition": {
               "duration": 0,
               "easing": "linear"
              }
             }
            ],
            "label": "2007",
            "method": "animate"
           },
           {
            "args": [
             [
              "2008"
             ],
             {
              "frame": {
               "duration": 0,
               "redraw": true
              },
              "fromcurrent": true,
              "mode": "immediate",
              "transition": {
               "duration": 0,
               "easing": "linear"
              }
             }
            ],
            "label": "2008",
            "method": "animate"
           },
           {
            "args": [
             [
              "2009"
             ],
             {
              "frame": {
               "duration": 0,
               "redraw": true
              },
              "fromcurrent": true,
              "mode": "immediate",
              "transition": {
               "duration": 0,
               "easing": "linear"
              }
             }
            ],
            "label": "2009",
            "method": "animate"
           },
           {
            "args": [
             [
              "2010"
             ],
             {
              "frame": {
               "duration": 0,
               "redraw": true
              },
              "fromcurrent": true,
              "mode": "immediate",
              "transition": {
               "duration": 0,
               "easing": "linear"
              }
             }
            ],
            "label": "2010",
            "method": "animate"
           },
           {
            "args": [
             [
              "2011"
             ],
             {
              "frame": {
               "duration": 0,
               "redraw": true
              },
              "fromcurrent": true,
              "mode": "immediate",
              "transition": {
               "duration": 0,
               "easing": "linear"
              }
             }
            ],
            "label": "2011",
            "method": "animate"
           },
           {
            "args": [
             [
              "2012"
             ],
             {
              "frame": {
               "duration": 0,
               "redraw": true
              },
              "fromcurrent": true,
              "mode": "immediate",
              "transition": {
               "duration": 0,
               "easing": "linear"
              }
             }
            ],
            "label": "2012",
            "method": "animate"
           },
           {
            "args": [
             [
              "2013"
             ],
             {
              "frame": {
               "duration": 0,
               "redraw": true
              },
              "fromcurrent": true,
              "mode": "immediate",
              "transition": {
               "duration": 0,
               "easing": "linear"
              }
             }
            ],
            "label": "2013",
            "method": "animate"
           },
           {
            "args": [
             [
              "2014"
             ],
             {
              "frame": {
               "duration": 0,
               "redraw": true
              },
              "fromcurrent": true,
              "mode": "immediate",
              "transition": {
               "duration": 0,
               "easing": "linear"
              }
             }
            ],
            "label": "2014",
            "method": "animate"
           },
           {
            "args": [
             [
              "2015"
             ],
             {
              "frame": {
               "duration": 0,
               "redraw": true
              },
              "fromcurrent": true,
              "mode": "immediate",
              "transition": {
               "duration": 0,
               "easing": "linear"
              }
             }
            ],
            "label": "2015",
            "method": "animate"
           },
           {
            "args": [
             [
              "2016"
             ],
             {
              "frame": {
               "duration": 0,
               "redraw": true
              },
              "fromcurrent": true,
              "mode": "immediate",
              "transition": {
               "duration": 0,
               "easing": "linear"
              }
             }
            ],
            "label": "2016",
            "method": "animate"
           },
           {
            "args": [
             [
              "2017"
             ],
             {
              "frame": {
               "duration": 0,
               "redraw": true
              },
              "fromcurrent": true,
              "mode": "immediate",
              "transition": {
               "duration": 0,
               "easing": "linear"
              }
             }
            ],
            "label": "2017",
            "method": "animate"
           },
           {
            "args": [
             [
              "2018"
             ],
             {
              "frame": {
               "duration": 0,
               "redraw": true
              },
              "fromcurrent": true,
              "mode": "immediate",
              "transition": {
               "duration": 0,
               "easing": "linear"
              }
             }
            ],
            "label": "2018",
            "method": "animate"
           },
           {
            "args": [
             [
              "2019"
             ],
             {
              "frame": {
               "duration": 0,
               "redraw": true
              },
              "fromcurrent": true,
              "mode": "immediate",
              "transition": {
               "duration": 0,
               "easing": "linear"
              }
             }
            ],
            "label": "2019",
            "method": "animate"
           },
           {
            "args": [
             [
              "2020"
             ],
             {
              "frame": {
               "duration": 0,
               "redraw": true
              },
              "fromcurrent": true,
              "mode": "immediate",
              "transition": {
               "duration": 0,
               "easing": "linear"
              }
             }
            ],
            "label": "2020",
            "method": "animate"
           },
           {
            "args": [
             [
              "2021"
             ],
             {
              "frame": {
               "duration": 0,
               "redraw": true
              },
              "fromcurrent": true,
              "mode": "immediate",
              "transition": {
               "duration": 0,
               "easing": "linear"
              }
             }
            ],
            "label": "2021",
            "method": "animate"
           },
           {
            "args": [
             [
              "2022"
             ],
             {
              "frame": {
               "duration": 0,
               "redraw": true
              },
              "fromcurrent": true,
              "mode": "immediate",
              "transition": {
               "duration": 0,
               "easing": "linear"
              }
             }
            ],
            "label": "2022",
            "method": "animate"
           }
          ],
          "x": 0.1,
          "xanchor": "left",
          "y": 0,
          "yanchor": "top"
         }
        ],
        "template": {
         "data": {
          "bar": [
           {
            "error_x": {
             "color": "#2a3f5f"
            },
            "error_y": {
             "color": "#2a3f5f"
            },
            "marker": {
             "line": {
              "color": "#E5ECF6",
              "width": 0.5
             },
             "pattern": {
              "fillmode": "overlay",
              "size": 10,
              "solidity": 0.2
             }
            },
            "type": "bar"
           }
          ],
          "barpolar": [
           {
            "marker": {
             "line": {
              "color": "#E5ECF6",
              "width": 0.5
             },
             "pattern": {
              "fillmode": "overlay",
              "size": 10,
              "solidity": 0.2
             }
            },
            "type": "barpolar"
           }
          ],
          "carpet": [
           {
            "aaxis": {
             "endlinecolor": "#2a3f5f",
             "gridcolor": "white",
             "linecolor": "white",
             "minorgridcolor": "white",
             "startlinecolor": "#2a3f5f"
            },
            "baxis": {
             "endlinecolor": "#2a3f5f",
             "gridcolor": "white",
             "linecolor": "white",
             "minorgridcolor": "white",
             "startlinecolor": "#2a3f5f"
            },
            "type": "carpet"
           }
          ],
          "choropleth": [
           {
            "colorbar": {
             "outlinewidth": 0,
             "ticks": ""
            },
            "type": "choropleth"
           }
          ],
          "contour": [
           {
            "colorbar": {
             "outlinewidth": 0,
             "ticks": ""
            },
            "colorscale": [
             [
              0,
              "#0d0887"
             ],
             [
              0.1111111111111111,
              "#46039f"
             ],
             [
              0.2222222222222222,
              "#7201a8"
             ],
             [
              0.3333333333333333,
              "#9c179e"
             ],
             [
              0.4444444444444444,
              "#bd3786"
             ],
             [
              0.5555555555555556,
              "#d8576b"
             ],
             [
              0.6666666666666666,
              "#ed7953"
             ],
             [
              0.7777777777777778,
              "#fb9f3a"
             ],
             [
              0.8888888888888888,
              "#fdca26"
             ],
             [
              1,
              "#f0f921"
             ]
            ],
            "type": "contour"
           }
          ],
          "contourcarpet": [
           {
            "colorbar": {
             "outlinewidth": 0,
             "ticks": ""
            },
            "type": "contourcarpet"
           }
          ],
          "heatmap": [
           {
            "colorbar": {
             "outlinewidth": 0,
             "ticks": ""
            },
            "colorscale": [
             [
              0,
              "#0d0887"
             ],
             [
              0.1111111111111111,
              "#46039f"
             ],
             [
              0.2222222222222222,
              "#7201a8"
             ],
             [
              0.3333333333333333,
              "#9c179e"
             ],
             [
              0.4444444444444444,
              "#bd3786"
             ],
             [
              0.5555555555555556,
              "#d8576b"
             ],
             [
              0.6666666666666666,
              "#ed7953"
             ],
             [
              0.7777777777777778,
              "#fb9f3a"
             ],
             [
              0.8888888888888888,
              "#fdca26"
             ],
             [
              1,
              "#f0f921"
             ]
            ],
            "type": "heatmap"
           }
          ],
          "heatmapgl": [
           {
            "colorbar": {
             "outlinewidth": 0,
             "ticks": ""
            },
            "colorscale": [
             [
              0,
              "#0d0887"
             ],
             [
              0.1111111111111111,
              "#46039f"
             ],
             [
              0.2222222222222222,
              "#7201a8"
             ],
             [
              0.3333333333333333,
              "#9c179e"
             ],
             [
              0.4444444444444444,
              "#bd3786"
             ],
             [
              0.5555555555555556,
              "#d8576b"
             ],
             [
              0.6666666666666666,
              "#ed7953"
             ],
             [
              0.7777777777777778,
              "#fb9f3a"
             ],
             [
              0.8888888888888888,
              "#fdca26"
             ],
             [
              1,
              "#f0f921"
             ]
            ],
            "type": "heatmapgl"
           }
          ],
          "histogram": [
           {
            "marker": {
             "pattern": {
              "fillmode": "overlay",
              "size": 10,
              "solidity": 0.2
             }
            },
            "type": "histogram"
           }
          ],
          "histogram2d": [
           {
            "colorbar": {
             "outlinewidth": 0,
             "ticks": ""
            },
            "colorscale": [
             [
              0,
              "#0d0887"
             ],
             [
              0.1111111111111111,
              "#46039f"
             ],
             [
              0.2222222222222222,
              "#7201a8"
             ],
             [
              0.3333333333333333,
              "#9c179e"
             ],
             [
              0.4444444444444444,
              "#bd3786"
             ],
             [
              0.5555555555555556,
              "#d8576b"
             ],
             [
              0.6666666666666666,
              "#ed7953"
             ],
             [
              0.7777777777777778,
              "#fb9f3a"
             ],
             [
              0.8888888888888888,
              "#fdca26"
             ],
             [
              1,
              "#f0f921"
             ]
            ],
            "type": "histogram2d"
           }
          ],
          "histogram2dcontour": [
           {
            "colorbar": {
             "outlinewidth": 0,
             "ticks": ""
            },
            "colorscale": [
             [
              0,
              "#0d0887"
             ],
             [
              0.1111111111111111,
              "#46039f"
             ],
             [
              0.2222222222222222,
              "#7201a8"
             ],
             [
              0.3333333333333333,
              "#9c179e"
             ],
             [
              0.4444444444444444,
              "#bd3786"
             ],
             [
              0.5555555555555556,
              "#d8576b"
             ],
             [
              0.6666666666666666,
              "#ed7953"
             ],
             [
              0.7777777777777778,
              "#fb9f3a"
             ],
             [
              0.8888888888888888,
              "#fdca26"
             ],
             [
              1,
              "#f0f921"
             ]
            ],
            "type": "histogram2dcontour"
           }
          ],
          "mesh3d": [
           {
            "colorbar": {
             "outlinewidth": 0,
             "ticks": ""
            },
            "type": "mesh3d"
           }
          ],
          "parcoords": [
           {
            "line": {
             "colorbar": {
              "outlinewidth": 0,
              "ticks": ""
             }
            },
            "type": "parcoords"
           }
          ],
          "pie": [
           {
            "automargin": true,
            "type": "pie"
           }
          ],
          "scatter": [
           {
            "fillpattern": {
             "fillmode": "overlay",
             "size": 10,
             "solidity": 0.2
            },
            "type": "scatter"
           }
          ],
          "scatter3d": [
           {
            "line": {
             "colorbar": {
              "outlinewidth": 0,
              "ticks": ""
             }
            },
            "marker": {
             "colorbar": {
              "outlinewidth": 0,
              "ticks": ""
             }
            },
            "type": "scatter3d"
           }
          ],
          "scattercarpet": [
           {
            "marker": {
             "colorbar": {
              "outlinewidth": 0,
              "ticks": ""
             }
            },
            "type": "scattercarpet"
           }
          ],
          "scattergeo": [
           {
            "marker": {
             "colorbar": {
              "outlinewidth": 0,
              "ticks": ""
             }
            },
            "type": "scattergeo"
           }
          ],
          "scattergl": [
           {
            "marker": {
             "colorbar": {
              "outlinewidth": 0,
              "ticks": ""
             }
            },
            "type": "scattergl"
           }
          ],
          "scattermapbox": [
           {
            "marker": {
             "colorbar": {
              "outlinewidth": 0,
              "ticks": ""
             }
            },
            "type": "scattermapbox"
           }
          ],
          "scatterpolar": [
           {
            "marker": {
             "colorbar": {
              "outlinewidth": 0,
              "ticks": ""
             }
            },
            "type": "scatterpolar"
           }
          ],
          "scatterpolargl": [
           {
            "marker": {
             "colorbar": {
              "outlinewidth": 0,
              "ticks": ""
             }
            },
            "type": "scatterpolargl"
           }
          ],
          "scatterternary": [
           {
            "marker": {
             "colorbar": {
              "outlinewidth": 0,
              "ticks": ""
             }
            },
            "type": "scatterternary"
           }
          ],
          "surface": [
           {
            "colorbar": {
             "outlinewidth": 0,
             "ticks": ""
            },
            "colorscale": [
             [
              0,
              "#0d0887"
             ],
             [
              0.1111111111111111,
              "#46039f"
             ],
             [
              0.2222222222222222,
              "#7201a8"
             ],
             [
              0.3333333333333333,
              "#9c179e"
             ],
             [
              0.4444444444444444,
              "#bd3786"
             ],
             [
              0.5555555555555556,
              "#d8576b"
             ],
             [
              0.6666666666666666,
              "#ed7953"
             ],
             [
              0.7777777777777778,
              "#fb9f3a"
             ],
             [
              0.8888888888888888,
              "#fdca26"
             ],
             [
              1,
              "#f0f921"
             ]
            ],
            "type": "surface"
           }
          ],
          "table": [
           {
            "cells": {
             "fill": {
              "color": "#EBF0F8"
             },
             "line": {
              "color": "white"
             }
            },
            "header": {
             "fill": {
              "color": "#C8D4E3"
             },
             "line": {
              "color": "white"
             }
            },
            "type": "table"
           }
          ]
         },
         "layout": {
          "annotationdefaults": {
           "arrowcolor": "#2a3f5f",
           "arrowhead": 0,
           "arrowwidth": 1
          },
          "autotypenumbers": "strict",
          "coloraxis": {
           "colorbar": {
            "outlinewidth": 0,
            "ticks": ""
           }
          },
          "colorscale": {
           "diverging": [
            [
             0,
             "#8e0152"
            ],
            [
             0.1,
             "#c51b7d"
            ],
            [
             0.2,
             "#de77ae"
            ],
            [
             0.3,
             "#f1b6da"
            ],
            [
             0.4,
             "#fde0ef"
            ],
            [
             0.5,
             "#f7f7f7"
            ],
            [
             0.6,
             "#e6f5d0"
            ],
            [
             0.7,
             "#b8e186"
            ],
            [
             0.8,
             "#7fbc41"
            ],
            [
             0.9,
             "#4d9221"
            ],
            [
             1,
             "#276419"
            ]
           ],
           "sequential": [
            [
             0,
             "#0d0887"
            ],
            [
             0.1111111111111111,
             "#46039f"
            ],
            [
             0.2222222222222222,
             "#7201a8"
            ],
            [
             0.3333333333333333,
             "#9c179e"
            ],
            [
             0.4444444444444444,
             "#bd3786"
            ],
            [
             0.5555555555555556,
             "#d8576b"
            ],
            [
             0.6666666666666666,
             "#ed7953"
            ],
            [
             0.7777777777777778,
             "#fb9f3a"
            ],
            [
             0.8888888888888888,
             "#fdca26"
            ],
            [
             1,
             "#f0f921"
            ]
           ],
           "sequentialminus": [
            [
             0,
             "#0d0887"
            ],
            [
             0.1111111111111111,
             "#46039f"
            ],
            [
             0.2222222222222222,
             "#7201a8"
            ],
            [
             0.3333333333333333,
             "#9c179e"
            ],
            [
             0.4444444444444444,
             "#bd3786"
            ],
            [
             0.5555555555555556,
             "#d8576b"
            ],
            [
             0.6666666666666666,
             "#ed7953"
            ],
            [
             0.7777777777777778,
             "#fb9f3a"
            ],
            [
             0.8888888888888888,
             "#fdca26"
            ],
            [
             1,
             "#f0f921"
            ]
           ]
          },
          "colorway": [
           "#636efa",
           "#EF553B",
           "#00cc96",
           "#ab63fa",
           "#FFA15A",
           "#19d3f3",
           "#FF6692",
           "#B6E880",
           "#FF97FF",
           "#FECB52"
          ],
          "font": {
           "color": "#2a3f5f"
          },
          "geo": {
           "bgcolor": "white",
           "lakecolor": "white",
           "landcolor": "#E5ECF6",
           "showlakes": true,
           "showland": true,
           "subunitcolor": "white"
          },
          "hoverlabel": {
           "align": "left"
          },
          "hovermode": "closest",
          "mapbox": {
           "style": "light"
          },
          "paper_bgcolor": "white",
          "plot_bgcolor": "#E5ECF6",
          "polar": {
           "angularaxis": {
            "gridcolor": "white",
            "linecolor": "white",
            "ticks": ""
           },
           "bgcolor": "#E5ECF6",
           "radialaxis": {
            "gridcolor": "white",
            "linecolor": "white",
            "ticks": ""
           }
          },
          "scene": {
           "xaxis": {
            "backgroundcolor": "#E5ECF6",
            "gridcolor": "white",
            "gridwidth": 2,
            "linecolor": "white",
            "showbackground": true,
            "ticks": "",
            "zerolinecolor": "white"
           },
           "yaxis": {
            "backgroundcolor": "#E5ECF6",
            "gridcolor": "white",
            "gridwidth": 2,
            "linecolor": "white",
            "showbackground": true,
            "ticks": "",
            "zerolinecolor": "white"
           },
           "zaxis": {
            "backgroundcolor": "#E5ECF6",
            "gridcolor": "white",
            "gridwidth": 2,
            "linecolor": "white",
            "showbackground": true,
            "ticks": "",
            "zerolinecolor": "white"
           }
          },
          "shapedefaults": {
           "line": {
            "color": "#2a3f5f"
           }
          },
          "ternary": {
           "aaxis": {
            "gridcolor": "white",
            "linecolor": "white",
            "ticks": ""
           },
           "baxis": {
            "gridcolor": "white",
            "linecolor": "white",
            "ticks": ""
           },
           "bgcolor": "#E5ECF6",
           "caxis": {
            "gridcolor": "white",
            "linecolor": "white",
            "ticks": ""
           }
          },
          "title": {
           "x": 0.05
          },
          "xaxis": {
           "automargin": true,
           "gridcolor": "white",
           "linecolor": "white",
           "ticks": "",
           "title": {
            "standoff": 15
           },
           "zerolinecolor": "white",
           "zerolinewidth": 2
          },
          "yaxis": {
           "automargin": true,
           "gridcolor": "white",
           "linecolor": "white",
           "ticks": "",
           "title": {
            "standoff": 15
           },
           "zerolinecolor": "white",
           "zerolinewidth": 2
          }
         }
        },
        "title": {
         "text": "Average Monthly Rent Animation"
        },
        "updatemenus": [
         {
          "buttons": [
           {
            "args": [
             null,
             {
              "frame": {
               "duration": 500,
               "redraw": true
              },
              "fromcurrent": true,
              "mode": "immediate",
              "transition": {
               "duration": 500,
               "easing": "linear"
              }
             }
            ],
            "label": "&#9654;",
            "method": "animate"
           },
           {
            "args": [
             [
              null
             ],
             {
              "frame": {
               "duration": 0,
               "redraw": true
              },
              "fromcurrent": true,
              "mode": "immediate",
              "transition": {
               "duration": 0,
               "easing": "linear"
              }
             }
            ],
            "label": "&#9724;",
            "method": "animate"
           }
          ],
          "direction": "left",
          "pad": {
           "r": 10,
           "t": 70
          },
          "showactive": false,
          "type": "buttons",
          "x": 0.1,
          "xanchor": "right",
          "y": 0,
          "yanchor": "top"
         }
        ],
        "xaxis": {
         "anchor": "y",
         "domain": [
          0,
          1
         ],
         "title": {
          "text": "PROVINCE"
         }
        },
        "yaxis": {
         "anchor": "x",
         "domain": [
          0,
          1
         ],
         "title": {
          "text": "MONTHLY RENT"
         }
        }
       }
      }
     },
     "metadata": {},
     "output_type": "display_data"
    }
   ],
   "source": [
    "px.bar(grouped,x='PROVINCE',y='MONTHLY RENT',color='Type of unit',barmode='group',animation_frame='YEAR',title='Average Monthly Rent Animation')"
   ]
  },
  {
   "cell_type": "code",
   "execution_count": 14,
   "metadata": {},
   "outputs": [
    {
     "name": "stderr",
     "output_type": "stream",
     "text": [
      "/var/folders/_v/4d1j74hd4y3by9wnkl0gym5w0000gn/T/ipykernel_5468/3465613684.py:4: SettingWithCopyWarning:\n",
      "\n",
      "\n",
      "A value is trying to be set on a copy of a slice from a DataFrame\n",
      "\n",
      "See the caveats in the documentation: https://pandas.pydata.org/pandas-docs/stable/user_guide/indexing.html#returning-a-view-versus-a-copy\n",
      "\n"
     ]
    },
    {
     "data": {
      "application/vnd.plotly.v1+json": {
       "config": {
        "plotlyServerURL": "https://plot.ly"
       },
       "data": [
        {
         "alignmentgroup": "True",
         "hovertemplate": "Type of unit=Three bedroom units<br>PROVINCE=%{x}<br>MONTHLY RENT=%{y}<extra></extra>",
         "legendgroup": "Three bedroom units",
         "marker": {
          "color": "#636efa",
          "pattern": {
           "shape": ""
          }
         },
         "name": "Three bedroom units",
         "offsetgroup": "Three bedroom units",
         "orientation": "v",
         "showlegend": true,
         "textposition": "auto",
         "type": "bar",
         "x": [
          "Northwest Territories",
          "Ontario/Quebec",
          "Ontario",
          "Alberta",
          "Nova Scotia",
          "Saskatchewan/Alberta",
          "British Columbia",
          "Prince Edward Island",
          "Manitoba",
          "New Brunswick",
          "Saskatchewan",
          "New Brunswick/Quebec",
          "Newfoundland and Labrador",
          "Quebec"
         ],
         "xaxis": "x",
         "y": [
          1281.5,
          844,
          730.3552631578947,
          709.025641025641,
          690.2352941176471,
          645,
          639.5578947368421,
          623,
          597.3846153846154,
          562.0526315789474,
          557.1379310344828,
          519,
          488.8,
          466.43859649122805
         ],
         "yaxis": "y"
        },
        {
         "alignmentgroup": "True",
         "hovertemplate": "Type of unit=Two bedroom units<br>PROVINCE=%{x}<br>MONTHLY RENT=%{y}<extra></extra>",
         "legendgroup": "Two bedroom units",
         "marker": {
          "color": "#EF553B",
          "pattern": {
           "shape": ""
          }
         },
         "name": "Two bedroom units",
         "offsetgroup": "Two bedroom units",
         "orientation": "v",
         "showlegend": true,
         "textposition": "auto",
         "type": "bar",
         "x": [
          "Northwest Territories",
          "Ontario/Quebec",
          "Ontario",
          "Alberta",
          "Saskatchewan/Alberta",
          "Nova Scotia",
          "British Columbia",
          "Manitoba",
          "Prince Edward Island",
          "New Brunswick",
          "Saskatchewan",
          "Newfoundland and Labrador",
          "New Brunswick/Quebec",
          "Quebec"
         ],
         "xaxis": "x",
         "y": [
          1082,
          746.0714285714286,
          648.0625,
          640.4761904761905,
          564.5,
          561.125,
          556.9489795918367,
          556.5,
          551,
          507.42857142857144,
          500.9032258064516,
          491.3333333333333,
          459.6666666666667,
          418.7280701754386
         ],
         "yaxis": "y"
        },
        {
         "alignmentgroup": "True",
         "hovertemplate": "Type of unit=One bedroom units<br>PROVINCE=%{x}<br>MONTHLY RENT=%{y}<extra></extra>",
         "legendgroup": "One bedroom units",
         "marker": {
          "color": "#00cc96",
          "pattern": {
           "shape": ""
          }
         },
         "name": "One bedroom units",
         "offsetgroup": "One bedroom units",
         "orientation": "v",
         "showlegend": true,
         "textposition": "auto",
         "type": "bar",
         "x": [
          "Northwest Territories",
          "Ontario/Quebec",
          "Ontario",
          "Alberta",
          "Saskatchewan/Alberta",
          "British Columbia",
          "Manitoba",
          "Nova Scotia",
          "Prince Edward Island",
          "New Brunswick",
          "Newfoundland and Labrador",
          "Saskatchewan",
          "New Brunswick/Quebec",
          "Quebec"
         ],
         "xaxis": "x",
         "y": [
          930,
          609.8333333333334,
          542.5460992907801,
          537.6666666666666,
          462.1666666666667,
          454.64772727272725,
          453.0833333333333,
          453.06666666666666,
          431.3333333333333,
          414.05555555555554,
          413.5833333333333,
          409.44444444444446,
          365.6666666666667,
          348.1111111111111
         ],
         "yaxis": "y"
        },
        {
         "alignmentgroup": "True",
         "hovertemplate": "Type of unit=Bachelor units<br>PROVINCE=%{x}<br>MONTHLY RENT=%{y}<extra></extra>",
         "legendgroup": "Bachelor units",
         "marker": {
          "color": "#ab63fa",
          "pattern": {
           "shape": ""
          }
         },
         "name": "Bachelor units",
         "offsetgroup": "Bachelor units",
         "orientation": "v",
         "showlegend": true,
         "textposition": "auto",
         "type": "bar",
         "x": [
          "Northwest Territories",
          "Ontario/Quebec",
          "Alberta",
          "Ontario",
          "Newfoundland and Labrador",
          "Nova Scotia",
          "British Columbia",
          "Manitoba",
          "Prince Edward Island",
          "New Brunswick",
          "Saskatchewan",
          "New Brunswick/Quebec",
          "Quebec"
         ],
         "xaxis": "x",
         "y": [
          733,
          550.5555555555555,
          461.44444444444446,
          422.5,
          413.6,
          386.5,
          379.42028985507244,
          370.75,
          359.8333333333333,
          342.11764705882354,
          302.5416666666667,
          293,
          287.1666666666667
         ],
         "yaxis": "y"
        }
       ],
       "layout": {
        "barmode": "group",
        "legend": {
         "title": {
          "text": "Type of unit"
         },
         "tracegroupgap": 0
        },
        "template": {
         "data": {
          "bar": [
           {
            "error_x": {
             "color": "#2a3f5f"
            },
            "error_y": {
             "color": "#2a3f5f"
            },
            "marker": {
             "line": {
              "color": "#E5ECF6",
              "width": 0.5
             },
             "pattern": {
              "fillmode": "overlay",
              "size": 10,
              "solidity": 0.2
             }
            },
            "type": "bar"
           }
          ],
          "barpolar": [
           {
            "marker": {
             "line": {
              "color": "#E5ECF6",
              "width": 0.5
             },
             "pattern": {
              "fillmode": "overlay",
              "size": 10,
              "solidity": 0.2
             }
            },
            "type": "barpolar"
           }
          ],
          "carpet": [
           {
            "aaxis": {
             "endlinecolor": "#2a3f5f",
             "gridcolor": "white",
             "linecolor": "white",
             "minorgridcolor": "white",
             "startlinecolor": "#2a3f5f"
            },
            "baxis": {
             "endlinecolor": "#2a3f5f",
             "gridcolor": "white",
             "linecolor": "white",
             "minorgridcolor": "white",
             "startlinecolor": "#2a3f5f"
            },
            "type": "carpet"
           }
          ],
          "choropleth": [
           {
            "colorbar": {
             "outlinewidth": 0,
             "ticks": ""
            },
            "type": "choropleth"
           }
          ],
          "contour": [
           {
            "colorbar": {
             "outlinewidth": 0,
             "ticks": ""
            },
            "colorscale": [
             [
              0,
              "#0d0887"
             ],
             [
              0.1111111111111111,
              "#46039f"
             ],
             [
              0.2222222222222222,
              "#7201a8"
             ],
             [
              0.3333333333333333,
              "#9c179e"
             ],
             [
              0.4444444444444444,
              "#bd3786"
             ],
             [
              0.5555555555555556,
              "#d8576b"
             ],
             [
              0.6666666666666666,
              "#ed7953"
             ],
             [
              0.7777777777777778,
              "#fb9f3a"
             ],
             [
              0.8888888888888888,
              "#fdca26"
             ],
             [
              1,
              "#f0f921"
             ]
            ],
            "type": "contour"
           }
          ],
          "contourcarpet": [
           {
            "colorbar": {
             "outlinewidth": 0,
             "ticks": ""
            },
            "type": "contourcarpet"
           }
          ],
          "heatmap": [
           {
            "colorbar": {
             "outlinewidth": 0,
             "ticks": ""
            },
            "colorscale": [
             [
              0,
              "#0d0887"
             ],
             [
              0.1111111111111111,
              "#46039f"
             ],
             [
              0.2222222222222222,
              "#7201a8"
             ],
             [
              0.3333333333333333,
              "#9c179e"
             ],
             [
              0.4444444444444444,
              "#bd3786"
             ],
             [
              0.5555555555555556,
              "#d8576b"
             ],
             [
              0.6666666666666666,
              "#ed7953"
             ],
             [
              0.7777777777777778,
              "#fb9f3a"
             ],
             [
              0.8888888888888888,
              "#fdca26"
             ],
             [
              1,
              "#f0f921"
             ]
            ],
            "type": "heatmap"
           }
          ],
          "heatmapgl": [
           {
            "colorbar": {
             "outlinewidth": 0,
             "ticks": ""
            },
            "colorscale": [
             [
              0,
              "#0d0887"
             ],
             [
              0.1111111111111111,
              "#46039f"
             ],
             [
              0.2222222222222222,
              "#7201a8"
             ],
             [
              0.3333333333333333,
              "#9c179e"
             ],
             [
              0.4444444444444444,
              "#bd3786"
             ],
             [
              0.5555555555555556,
              "#d8576b"
             ],
             [
              0.6666666666666666,
              "#ed7953"
             ],
             [
              0.7777777777777778,
              "#fb9f3a"
             ],
             [
              0.8888888888888888,
              "#fdca26"
             ],
             [
              1,
              "#f0f921"
             ]
            ],
            "type": "heatmapgl"
           }
          ],
          "histogram": [
           {
            "marker": {
             "pattern": {
              "fillmode": "overlay",
              "size": 10,
              "solidity": 0.2
             }
            },
            "type": "histogram"
           }
          ],
          "histogram2d": [
           {
            "colorbar": {
             "outlinewidth": 0,
             "ticks": ""
            },
            "colorscale": [
             [
              0,
              "#0d0887"
             ],
             [
              0.1111111111111111,
              "#46039f"
             ],
             [
              0.2222222222222222,
              "#7201a8"
             ],
             [
              0.3333333333333333,
              "#9c179e"
             ],
             [
              0.4444444444444444,
              "#bd3786"
             ],
             [
              0.5555555555555556,
              "#d8576b"
             ],
             [
              0.6666666666666666,
              "#ed7953"
             ],
             [
              0.7777777777777778,
              "#fb9f3a"
             ],
             [
              0.8888888888888888,
              "#fdca26"
             ],
             [
              1,
              "#f0f921"
             ]
            ],
            "type": "histogram2d"
           }
          ],
          "histogram2dcontour": [
           {
            "colorbar": {
             "outlinewidth": 0,
             "ticks": ""
            },
            "colorscale": [
             [
              0,
              "#0d0887"
             ],
             [
              0.1111111111111111,
              "#46039f"
             ],
             [
              0.2222222222222222,
              "#7201a8"
             ],
             [
              0.3333333333333333,
              "#9c179e"
             ],
             [
              0.4444444444444444,
              "#bd3786"
             ],
             [
              0.5555555555555556,
              "#d8576b"
             ],
             [
              0.6666666666666666,
              "#ed7953"
             ],
             [
              0.7777777777777778,
              "#fb9f3a"
             ],
             [
              0.8888888888888888,
              "#fdca26"
             ],
             [
              1,
              "#f0f921"
             ]
            ],
            "type": "histogram2dcontour"
           }
          ],
          "mesh3d": [
           {
            "colorbar": {
             "outlinewidth": 0,
             "ticks": ""
            },
            "type": "mesh3d"
           }
          ],
          "parcoords": [
           {
            "line": {
             "colorbar": {
              "outlinewidth": 0,
              "ticks": ""
             }
            },
            "type": "parcoords"
           }
          ],
          "pie": [
           {
            "automargin": true,
            "type": "pie"
           }
          ],
          "scatter": [
           {
            "fillpattern": {
             "fillmode": "overlay",
             "size": 10,
             "solidity": 0.2
            },
            "type": "scatter"
           }
          ],
          "scatter3d": [
           {
            "line": {
             "colorbar": {
              "outlinewidth": 0,
              "ticks": ""
             }
            },
            "marker": {
             "colorbar": {
              "outlinewidth": 0,
              "ticks": ""
             }
            },
            "type": "scatter3d"
           }
          ],
          "scattercarpet": [
           {
            "marker": {
             "colorbar": {
              "outlinewidth": 0,
              "ticks": ""
             }
            },
            "type": "scattercarpet"
           }
          ],
          "scattergeo": [
           {
            "marker": {
             "colorbar": {
              "outlinewidth": 0,
              "ticks": ""
             }
            },
            "type": "scattergeo"
           }
          ],
          "scattergl": [
           {
            "marker": {
             "colorbar": {
              "outlinewidth": 0,
              "ticks": ""
             }
            },
            "type": "scattergl"
           }
          ],
          "scattermapbox": [
           {
            "marker": {
             "colorbar": {
              "outlinewidth": 0,
              "ticks": ""
             }
            },
            "type": "scattermapbox"
           }
          ],
          "scatterpolar": [
           {
            "marker": {
             "colorbar": {
              "outlinewidth": 0,
              "ticks": ""
             }
            },
            "type": "scatterpolar"
           }
          ],
          "scatterpolargl": [
           {
            "marker": {
             "colorbar": {
              "outlinewidth": 0,
              "ticks": ""
             }
            },
            "type": "scatterpolargl"
           }
          ],
          "scatterternary": [
           {
            "marker": {
             "colorbar": {
              "outlinewidth": 0,
              "ticks": ""
             }
            },
            "type": "scatterternary"
           }
          ],
          "surface": [
           {
            "colorbar": {
             "outlinewidth": 0,
             "ticks": ""
            },
            "colorscale": [
             [
              0,
              "#0d0887"
             ],
             [
              0.1111111111111111,
              "#46039f"
             ],
             [
              0.2222222222222222,
              "#7201a8"
             ],
             [
              0.3333333333333333,
              "#9c179e"
             ],
             [
              0.4444444444444444,
              "#bd3786"
             ],
             [
              0.5555555555555556,
              "#d8576b"
             ],
             [
              0.6666666666666666,
              "#ed7953"
             ],
             [
              0.7777777777777778,
              "#fb9f3a"
             ],
             [
              0.8888888888888888,
              "#fdca26"
             ],
             [
              1,
              "#f0f921"
             ]
            ],
            "type": "surface"
           }
          ],
          "table": [
           {
            "cells": {
             "fill": {
              "color": "#EBF0F8"
             },
             "line": {
              "color": "white"
             }
            },
            "header": {
             "fill": {
              "color": "#C8D4E3"
             },
             "line": {
              "color": "white"
             }
            },
            "type": "table"
           }
          ]
         },
         "layout": {
          "annotationdefaults": {
           "arrowcolor": "#2a3f5f",
           "arrowhead": 0,
           "arrowwidth": 1
          },
          "autotypenumbers": "strict",
          "coloraxis": {
           "colorbar": {
            "outlinewidth": 0,
            "ticks": ""
           }
          },
          "colorscale": {
           "diverging": [
            [
             0,
             "#8e0152"
            ],
            [
             0.1,
             "#c51b7d"
            ],
            [
             0.2,
             "#de77ae"
            ],
            [
             0.3,
             "#f1b6da"
            ],
            [
             0.4,
             "#fde0ef"
            ],
            [
             0.5,
             "#f7f7f7"
            ],
            [
             0.6,
             "#e6f5d0"
            ],
            [
             0.7,
             "#b8e186"
            ],
            [
             0.8,
             "#7fbc41"
            ],
            [
             0.9,
             "#4d9221"
            ],
            [
             1,
             "#276419"
            ]
           ],
           "sequential": [
            [
             0,
             "#0d0887"
            ],
            [
             0.1111111111111111,
             "#46039f"
            ],
            [
             0.2222222222222222,
             "#7201a8"
            ],
            [
             0.3333333333333333,
             "#9c179e"
            ],
            [
             0.4444444444444444,
             "#bd3786"
            ],
            [
             0.5555555555555556,
             "#d8576b"
            ],
            [
             0.6666666666666666,
             "#ed7953"
            ],
            [
             0.7777777777777778,
             "#fb9f3a"
            ],
            [
             0.8888888888888888,
             "#fdca26"
            ],
            [
             1,
             "#f0f921"
            ]
           ],
           "sequentialminus": [
            [
             0,
             "#0d0887"
            ],
            [
             0.1111111111111111,
             "#46039f"
            ],
            [
             0.2222222222222222,
             "#7201a8"
            ],
            [
             0.3333333333333333,
             "#9c179e"
            ],
            [
             0.4444444444444444,
             "#bd3786"
            ],
            [
             0.5555555555555556,
             "#d8576b"
            ],
            [
             0.6666666666666666,
             "#ed7953"
            ],
            [
             0.7777777777777778,
             "#fb9f3a"
            ],
            [
             0.8888888888888888,
             "#fdca26"
            ],
            [
             1,
             "#f0f921"
            ]
           ]
          },
          "colorway": [
           "#636efa",
           "#EF553B",
           "#00cc96",
           "#ab63fa",
           "#FFA15A",
           "#19d3f3",
           "#FF6692",
           "#B6E880",
           "#FF97FF",
           "#FECB52"
          ],
          "font": {
           "color": "#2a3f5f"
          },
          "geo": {
           "bgcolor": "white",
           "lakecolor": "white",
           "landcolor": "#E5ECF6",
           "showlakes": true,
           "showland": true,
           "subunitcolor": "white"
          },
          "hoverlabel": {
           "align": "left"
          },
          "hovermode": "closest",
          "mapbox": {
           "style": "light"
          },
          "paper_bgcolor": "white",
          "plot_bgcolor": "#E5ECF6",
          "polar": {
           "angularaxis": {
            "gridcolor": "white",
            "linecolor": "white",
            "ticks": ""
           },
           "bgcolor": "#E5ECF6",
           "radialaxis": {
            "gridcolor": "white",
            "linecolor": "white",
            "ticks": ""
           }
          },
          "scene": {
           "xaxis": {
            "backgroundcolor": "#E5ECF6",
            "gridcolor": "white",
            "gridwidth": 2,
            "linecolor": "white",
            "showbackground": true,
            "ticks": "",
            "zerolinecolor": "white"
           },
           "yaxis": {
            "backgroundcolor": "#E5ECF6",
            "gridcolor": "white",
            "gridwidth": 2,
            "linecolor": "white",
            "showbackground": true,
            "ticks": "",
            "zerolinecolor": "white"
           },
           "zaxis": {
            "backgroundcolor": "#E5ECF6",
            "gridcolor": "white",
            "gridwidth": 2,
            "linecolor": "white",
            "showbackground": true,
            "ticks": "",
            "zerolinecolor": "white"
           }
          },
          "shapedefaults": {
           "line": {
            "color": "#2a3f5f"
           }
          },
          "ternary": {
           "aaxis": {
            "gridcolor": "white",
            "linecolor": "white",
            "ticks": ""
           },
           "baxis": {
            "gridcolor": "white",
            "linecolor": "white",
            "ticks": ""
           },
           "bgcolor": "#E5ECF6",
           "caxis": {
            "gridcolor": "white",
            "linecolor": "white",
            "ticks": ""
           }
          },
          "title": {
           "x": 0.05
          },
          "xaxis": {
           "automargin": true,
           "gridcolor": "white",
           "linecolor": "white",
           "ticks": "",
           "title": {
            "standoff": 15
           },
           "zerolinecolor": "white",
           "zerolinewidth": 2
          },
          "yaxis": {
           "automargin": true,
           "gridcolor": "white",
           "linecolor": "white",
           "ticks": "",
           "title": {
            "standoff": 15
           },
           "zerolinecolor": "white",
           "zerolinewidth": 2
          }
         }
        },
        "title": {
         "text": "Average Monthly Rent in 2001 for each Canadian Province"
        },
        "xaxis": {
         "anchor": "y",
         "domain": [
          0,
          1
         ],
         "title": {
          "text": "PROVINCE"
         }
        },
        "yaxis": {
         "anchor": "x",
         "domain": [
          0,
          1
         ],
         "title": {
          "text": "MONTHLY RENT"
         }
        }
       }
      }
     },
     "metadata": {},
     "output_type": "display_data"
    }
   ],
   "source": [
    "specific_year = 2001 # you can change this number to look at a specific year\n",
    "\n",
    "year_info = grouped.loc[grouped['YEAR'] == specific_year]\n",
    "year_info.sort_values('MONTHLY RENT',ascending=False,inplace=True)\n",
    "px.bar(year_info,x='PROVINCE',y='MONTHLY RENT',color='Type of unit',barmode='group',title='Average Monthly Rent in ' + str(specific_year) + ' for each Canadian Province')"
   ]
  },
  {
   "cell_type": "code",
   "execution_count": 15,
   "metadata": {},
   "outputs": [
    {
     "data": {
      "text/html": [
       "<div>\n",
       "<style scoped>\n",
       "    .dataframe tbody tr th:only-of-type {\n",
       "        vertical-align: middle;\n",
       "    }\n",
       "\n",
       "    .dataframe tbody tr th {\n",
       "        vertical-align: top;\n",
       "    }\n",
       "\n",
       "    .dataframe thead th {\n",
       "        text-align: right;\n",
       "    }\n",
       "</style>\n",
       "<table border=\"1\" class=\"dataframe\">\n",
       "  <thead>\n",
       "    <tr style=\"text-align: right;\">\n",
       "      <th></th>\n",
       "      <th>YEAR</th>\n",
       "      <th>PROVINCE CODE</th>\n",
       "      <th># of Rooms</th>\n",
       "      <th>Y_test</th>\n",
       "      <th>Y_pred</th>\n",
       "    </tr>\n",
       "  </thead>\n",
       "  <tbody>\n",
       "    <tr>\n",
       "      <th>1144</th>\n",
       "      <td>1998</td>\n",
       "      <td>249.0</td>\n",
       "      <td>3.0</td>\n",
       "      <td>693.662069</td>\n",
       "      <td>655.190899</td>\n",
       "    </tr>\n",
       "    <tr>\n",
       "      <th>1187</th>\n",
       "      <td>2009</td>\n",
       "      <td>249.0</td>\n",
       "      <td>1.0</td>\n",
       "      <td>651.500000</td>\n",
       "      <td>627.872136</td>\n",
       "    </tr>\n",
       "    <tr>\n",
       "      <th>1261</th>\n",
       "      <td>1991</td>\n",
       "      <td>249.0</td>\n",
       "      <td>2.0</td>\n",
       "      <td>563.250000</td>\n",
       "      <td>430.667089</td>\n",
       "    </tr>\n",
       "    <tr>\n",
       "      <th>1375</th>\n",
       "      <td>2020</td>\n",
       "      <td>249.0</td>\n",
       "      <td>1.0</td>\n",
       "      <td>964.625000</td>\n",
       "      <td>813.432832</td>\n",
       "    </tr>\n",
       "    <tr>\n",
       "      <th>1132</th>\n",
       "      <td>1995</td>\n",
       "      <td>249.0</td>\n",
       "      <td>3.0</td>\n",
       "      <td>671.634483</td>\n",
       "      <td>604.583436</td>\n",
       "    </tr>\n",
       "    <tr>\n",
       "      <th>...</th>\n",
       "      <td>...</td>\n",
       "      <td>...</td>\n",
       "      <td>...</td>\n",
       "      <td>...</td>\n",
       "      <td>...</td>\n",
       "    </tr>\n",
       "    <tr>\n",
       "      <th>1223</th>\n",
       "      <td>2018</td>\n",
       "      <td>249.0</td>\n",
       "      <td>1.0</td>\n",
       "      <td>836.132184</td>\n",
       "      <td>779.694524</td>\n",
       "    </tr>\n",
       "    <tr>\n",
       "      <th>1315</th>\n",
       "      <td>2005</td>\n",
       "      <td>249.0</td>\n",
       "      <td>1.0</td>\n",
       "      <td>656.250000</td>\n",
       "      <td>560.395518</td>\n",
       "    </tr>\n",
       "    <tr>\n",
       "      <th>1216</th>\n",
       "      <td>2016</td>\n",
       "      <td>249.0</td>\n",
       "      <td>3.0</td>\n",
       "      <td>1087.625000</td>\n",
       "      <td>958.835676</td>\n",
       "    </tr>\n",
       "    <tr>\n",
       "      <th>1286</th>\n",
       "      <td>1998</td>\n",
       "      <td>249.0</td>\n",
       "      <td>0.0</td>\n",
       "      <td>446.916667</td>\n",
       "      <td>335.871709</td>\n",
       "    </tr>\n",
       "    <tr>\n",
       "      <th>1364</th>\n",
       "      <td>2017</td>\n",
       "      <td>249.0</td>\n",
       "      <td>3.0</td>\n",
       "      <td>1158.277778</td>\n",
       "      <td>975.704830</td>\n",
       "    </tr>\n",
       "  </tbody>\n",
       "</table>\n",
       "<p>91 rows × 5 columns</p>\n",
       "</div>"
      ],
      "text/plain": [
       "      YEAR  PROVINCE CODE  # of Rooms       Y_test      Y_pred\n",
       "1144  1998          249.0         3.0   693.662069  655.190899\n",
       "1187  2009          249.0         1.0   651.500000  627.872136\n",
       "1261  1991          249.0         2.0   563.250000  430.667089\n",
       "1375  2020          249.0         1.0   964.625000  813.432832\n",
       "1132  1995          249.0         3.0   671.634483  604.583436\n",
       "...    ...            ...         ...          ...         ...\n",
       "1223  2018          249.0         1.0   836.132184  779.694524\n",
       "1315  2005          249.0         1.0   656.250000  560.395518\n",
       "1216  2016          249.0         3.0  1087.625000  958.835676\n",
       "1286  1998          249.0         0.0   446.916667  335.871709\n",
       "1364  2017          249.0         3.0  1158.277778  975.704830\n",
       "\n",
       "[91 rows x 5 columns]"
      ]
     },
     "execution_count": 15,
     "metadata": {},
     "output_type": "execute_result"
    }
   ],
   "source": [
    "target = grouped['MONTHLY RENT']\n",
    "features = grouped[['YEAR','PROVINCE CODE','# of Rooms']]\n",
    "\n",
    "X_train,X_test,Y_train,Y_test = train_test_split(features,target,test_size=0.33,random_state=42)\n",
    "\n",
    "model = Ridge(alpha=0.5).fit(X_train,Y_train)\n",
    "y_pred = model.predict(X_test)\n",
    "\n",
    "X_test['Y_test'] = Y_test\n",
    "X_test['Y_pred'] = y_pred\n",
    "\n",
    "province_of_interest = 'Ontario' #change this to any province you're interested in\n",
    "province_code = prov_codes[province_of_interest]\n",
    "\n",
    "X_test = X_test[X_test['PROVINCE CODE'] == province_code]\n",
    "\n",
    "X_test\n"
   ]
  },
  {
   "cell_type": "code",
   "execution_count": 9,
   "metadata": {},
   "outputs": [
    {
     "name": "stderr",
     "output_type": "stream",
     "text": [
      "/Library/Frameworks/Python.framework/Versions/3.11/lib/python3.11/site-packages/plotly/graph_objs/_deprecations.py:378: DeprecationWarning:\n",
      "\n",
      "plotly.graph_objs.Line is deprecated.\n",
      "Please replace it with one of the following more specific types\n",
      "  - plotly.graph_objs.scatter.Line\n",
      "  - plotly.graph_objs.layout.shape.Line\n",
      "  - etc.\n",
      "\n",
      "\n"
     ]
    },
    {
     "data": {
      "application/vnd.plotly.v1+json": {
       "config": {
        "plotlyServerURL": "https://plot.ly"
       },
       "data": [
        {
         "line": {
          "color": "royalblue",
          "width": 3
         },
         "type": "scatter",
         "x": [
          1987,
          1989,
          1990,
          1992,
          1994,
          1996,
          1996,
          1997,
          1998,
          1999,
          2001,
          2002,
          2005,
          2006,
          2007,
          2008,
          2008,
          2009,
          2010,
          2012,
          2018,
          2019,
          2020
         ],
         "xaxis": "x",
         "y": [
          348,
          289.27272727272725,
          307.39473684210526,
          408.5833333333333,
          444.44444444444446,
          382.6218487394958,
          432.75,
          388.76785714285717,
          446.9166666666667,
          452.92857142857144,
          550.5555555555555,
          555.7777777777778,
          489.28205128205127,
          559.9090909090909,
          505.59055118110234,
          521.8702290076336,
          587.5454545454545,
          598.1818181818181,
          615.8181818181819,
          565.3385826771654,
          682.375,
          720.9230769230769,
          680.4260869565218
         ],
         "yaxis": "y"
        },
        {
         "line": {
          "color": "firebrick",
          "dash": "dash",
          "width": 4
         },
         "type": "scatter",
         "x": [
          1987,
          1989,
          1990,
          1992,
          1994,
          1996,
          1996,
          1997,
          1998,
          1999,
          2001,
          2002,
          2005,
          2006,
          2007,
          2008,
          2008,
          2009,
          2010,
          2012,
          2018,
          2019,
          2020
         ],
         "xaxis": "x",
         "y": [
          150.31101170057082,
          184.04932022278808,
          200.91847448390035,
          234.65678300611762,
          268.3950915283349,
          302.13340005055943,
          302.13340005055943,
          319.0025543116644,
          335.8717085727767,
          352.74086283388897,
          386.47917135610624,
          403.3483256172185,
          453.95578840054804,
          470.82494266165304,
          487.6940969227653,
          504.5632511838776,
          504.5632511838776,
          521.4324054449826,
          538.3015597060948,
          572.0398682283121,
          673.2547937949712,
          690.1239480560835,
          706.9931023171957
         ],
         "yaxis": "y"
        },
        {
         "line": {
          "color": "royalblue",
          "width": 3
         },
         "type": "scatter",
         "x": [
          1988,
          1988,
          1990,
          1990,
          1992,
          1995,
          1997,
          2001,
          2002,
          2002,
          2003,
          2003,
          2005,
          2006,
          2009,
          2010,
          2012,
          2014,
          2015,
          2016,
          2018,
          2020,
          2022
         ],
         "xaxis": "x2",
         "y": [
          358.64444444444445,
          415.25,
          460,
          408.75555555555553,
          486.1666666666667,
          491.2442748091603,
          511.35714285714283,
          609.8333333333334,
          622.25,
          572.9770992366413,
          639.6428571428571,
          585.936507936508,
          656.25,
          653.3571428571429,
          651.5,
          748.2857142857143,
          769.8571428571429,
          789.2142857142857,
          800.8,
          748.125,
          836.1321839080459,
          964.625,
          1062
         ],
         "yaxis": "y2"
        },
        {
         "line": {
          "color": "firebrick",
          "dash": "dash",
          "width": 4
         },
         "type": "scatter",
         "x": [
          1988,
          1988,
          1990,
          1990,
          1992,
          1995,
          1997,
          2001,
          2002,
          2002,
          2003,
          2003,
          2005,
          2006,
          2009,
          2010,
          2012,
          2014,
          2015,
          2016,
          2018,
          2020,
          2022
         ],
         "xaxis": "x2",
         "y": [
          273.6198960476031,
          273.6198960476031,
          307.3582045698204,
          307.3582045698204,
          341.09651309203764,
          391.7039758753672,
          425.44228439758444,
          492.91890144202625,
          509.7880557031385,
          509.7880557031385,
          526.6572099642435,
          526.6572099642435,
          560.3955184864681,
          577.2646727475731,
          627.8721355309026,
          644.7412897920149,
          678.4795983142321,
          712.2179068364567,
          729.0870610975617,
          745.956215358674,
          779.6945238808912,
          813.4328324031158,
          847.171140925333
         ],
         "yaxis": "y2"
        },
        {
         "line": {
          "color": "royalblue",
          "width": 3
         },
         "type": "scatter",
         "x": [
          1987,
          1988,
          1990,
          1991,
          1991,
          1992,
          1994,
          1996,
          1996,
          1997,
          1998,
          2001,
          2002,
          2005,
          2005,
          2007,
          2008,
          2009,
          2010,
          2017,
          2019,
          2021,
          2022
         ],
         "xaxis": "x3",
         "y": [
          479.5,
          490.5,
          488.02222222222224,
          563.25,
          512.8139534883721,
          597.2857142857143,
          628.4285714285714,
          632.7333333333333,
          595.1,
          626.4666666666667,
          641.6,
          648.0625,
          680.0604026845638,
          729.4357142857143,
          741.9411764705883,
          742.1693989071039,
          791,
          773.0430622009569,
          784.8490566037735,
          949.219387755102,
          1037.340206185567,
          1127.9444444444443,
          1286.5
         ],
         "yaxis": "y3"
        },
        {
         "line": {
          "color": "firebrick",
          "dash": "dash",
          "width": 4
         },
         "type": "scatter",
         "x": [
          1987,
          1988,
          1990,
          1991,
          1991,
          1992,
          1994,
          1996,
          1996,
          1997,
          1998,
          2001,
          2002,
          2005,
          2005,
          2007,
          2008,
          2009,
          2010,
          2017,
          2019,
          2021,
          2022
         ],
         "xaxis": "x3",
         "y": [
          363.19047187241085,
          380.0596261335231,
          413.7979346557404,
          430.6670889168454,
          430.6670889168454,
          447.53624317795766,
          481.2745517001749,
          515.0128602223995,
          515.0128602223995,
          531.8820144835045,
          548.7511687446167,
          599.3586315279463,
          616.2277857890585,
          666.8352485723881,
          666.8352485723881,
          700.5735570946053,
          717.4427113557176,
          734.3118656168226,
          751.1810198779349,
          869.2650997057062,
          903.0034082279235,
          936.7417167501408,
          953.610871011253
         ],
         "yaxis": "y3"
        },
        {
         "line": {
          "color": "royalblue",
          "width": 3
         },
         "type": "scatter",
         "x": [
          1987,
          1995,
          1996,
          1998,
          1998,
          1999,
          2002,
          2010,
          2011,
          2011,
          2012,
          2013,
          2014,
          2015,
          2016,
          2016,
          2017,
          2017,
          2019,
          2020,
          2021,
          2022
         ],
         "xaxis": "x4",
         "y": [
          604.3333333333334,
          671.6344827586207,
          737.6666666666666,
          693.6620689655173,
          746.3333333333334,
          756.3125,
          770.7482993197278,
          987.1875,
          933.4649681528663,
          997,
          954.9805194805194,
          996.5234899328859,
          1050.8125,
          1069.9333333333334,
          1082.2,
          1087.625,
          1128.546762589928,
          1158.2777777777778,
          1225.6870229007634,
          1179.043795620438,
          1261.077519379845,
          1490.6666666666667
         ],
         "yaxis": "y4"
        },
        {
         "line": {
          "color": "firebrick",
          "dash": "dash",
          "width": 4
         },
         "type": "scatter",
         "x": [
          1987,
          1995,
          1996,
          1998,
          1998,
          1999,
          2002,
          2010,
          2011,
          2011,
          2012,
          2013,
          2014,
          2015,
          2016,
          2016,
          2017,
          2017,
          2019,
          2020,
          2021,
          2022
         ],
         "xaxis": "x4",
         "y": [
          469.6302019583309,
          604.5834360472072,
          621.4525903083195,
          655.1908988305368,
          655.1908988305368,
          672.060053091649,
          722.6675158749786,
          857.6207499638549,
          874.4899042249672,
          874.4899042249672,
          891.3590584860722,
          908.2282127471844,
          925.0973670082967,
          941.9665212694017,
          958.835675530514,
          958.835675530514,
          975.7048297916263,
          975.7048297916263,
          1009.4431383138435,
          1026.3122925749558,
          1043.1814468360608,
          1060.050601097173
         ],
         "yaxis": "y4"
        }
       ],
       "layout": {
        "annotations": [
         {
          "font": {
           "size": 16
          },
          "showarrow": false,
          "text": "Bachelor Units",
          "x": 0.5,
          "xanchor": "center",
          "xref": "paper",
          "y": 1,
          "yanchor": "bottom",
          "yref": "paper"
         },
         {
          "font": {
           "size": 16
          },
          "showarrow": false,
          "text": "One Bedroom Units",
          "x": 0.5,
          "xanchor": "center",
          "xref": "paper",
          "y": 0.71875,
          "yanchor": "bottom",
          "yref": "paper"
         },
         {
          "font": {
           "size": 16
          },
          "showarrow": false,
          "text": "Two Bedroom Units",
          "x": 0.5,
          "xanchor": "center",
          "xref": "paper",
          "y": 0.4375,
          "yanchor": "bottom",
          "yref": "paper"
         },
         {
          "font": {
           "size": 16
          },
          "showarrow": false,
          "text": "Three Bedroom Units",
          "x": 0.5,
          "xanchor": "center",
          "xref": "paper",
          "y": 0.15625,
          "yanchor": "bottom",
          "yref": "paper"
         }
        ],
        "height": 1000,
        "showlegend": false,
        "template": {
         "data": {
          "bar": [
           {
            "error_x": {
             "color": "#2a3f5f"
            },
            "error_y": {
             "color": "#2a3f5f"
            },
            "marker": {
             "line": {
              "color": "#E5ECF6",
              "width": 0.5
             },
             "pattern": {
              "fillmode": "overlay",
              "size": 10,
              "solidity": 0.2
             }
            },
            "type": "bar"
           }
          ],
          "barpolar": [
           {
            "marker": {
             "line": {
              "color": "#E5ECF6",
              "width": 0.5
             },
             "pattern": {
              "fillmode": "overlay",
              "size": 10,
              "solidity": 0.2
             }
            },
            "type": "barpolar"
           }
          ],
          "carpet": [
           {
            "aaxis": {
             "endlinecolor": "#2a3f5f",
             "gridcolor": "white",
             "linecolor": "white",
             "minorgridcolor": "white",
             "startlinecolor": "#2a3f5f"
            },
            "baxis": {
             "endlinecolor": "#2a3f5f",
             "gridcolor": "white",
             "linecolor": "white",
             "minorgridcolor": "white",
             "startlinecolor": "#2a3f5f"
            },
            "type": "carpet"
           }
          ],
          "choropleth": [
           {
            "colorbar": {
             "outlinewidth": 0,
             "ticks": ""
            },
            "type": "choropleth"
           }
          ],
          "contour": [
           {
            "colorbar": {
             "outlinewidth": 0,
             "ticks": ""
            },
            "colorscale": [
             [
              0,
              "#0d0887"
             ],
             [
              0.1111111111111111,
              "#46039f"
             ],
             [
              0.2222222222222222,
              "#7201a8"
             ],
             [
              0.3333333333333333,
              "#9c179e"
             ],
             [
              0.4444444444444444,
              "#bd3786"
             ],
             [
              0.5555555555555556,
              "#d8576b"
             ],
             [
              0.6666666666666666,
              "#ed7953"
             ],
             [
              0.7777777777777778,
              "#fb9f3a"
             ],
             [
              0.8888888888888888,
              "#fdca26"
             ],
             [
              1,
              "#f0f921"
             ]
            ],
            "type": "contour"
           }
          ],
          "contourcarpet": [
           {
            "colorbar": {
             "outlinewidth": 0,
             "ticks": ""
            },
            "type": "contourcarpet"
           }
          ],
          "heatmap": [
           {
            "colorbar": {
             "outlinewidth": 0,
             "ticks": ""
            },
            "colorscale": [
             [
              0,
              "#0d0887"
             ],
             [
              0.1111111111111111,
              "#46039f"
             ],
             [
              0.2222222222222222,
              "#7201a8"
             ],
             [
              0.3333333333333333,
              "#9c179e"
             ],
             [
              0.4444444444444444,
              "#bd3786"
             ],
             [
              0.5555555555555556,
              "#d8576b"
             ],
             [
              0.6666666666666666,
              "#ed7953"
             ],
             [
              0.7777777777777778,
              "#fb9f3a"
             ],
             [
              0.8888888888888888,
              "#fdca26"
             ],
             [
              1,
              "#f0f921"
             ]
            ],
            "type": "heatmap"
           }
          ],
          "heatmapgl": [
           {
            "colorbar": {
             "outlinewidth": 0,
             "ticks": ""
            },
            "colorscale": [
             [
              0,
              "#0d0887"
             ],
             [
              0.1111111111111111,
              "#46039f"
             ],
             [
              0.2222222222222222,
              "#7201a8"
             ],
             [
              0.3333333333333333,
              "#9c179e"
             ],
             [
              0.4444444444444444,
              "#bd3786"
             ],
             [
              0.5555555555555556,
              "#d8576b"
             ],
             [
              0.6666666666666666,
              "#ed7953"
             ],
             [
              0.7777777777777778,
              "#fb9f3a"
             ],
             [
              0.8888888888888888,
              "#fdca26"
             ],
             [
              1,
              "#f0f921"
             ]
            ],
            "type": "heatmapgl"
           }
          ],
          "histogram": [
           {
            "marker": {
             "pattern": {
              "fillmode": "overlay",
              "size": 10,
              "solidity": 0.2
             }
            },
            "type": "histogram"
           }
          ],
          "histogram2d": [
           {
            "colorbar": {
             "outlinewidth": 0,
             "ticks": ""
            },
            "colorscale": [
             [
              0,
              "#0d0887"
             ],
             [
              0.1111111111111111,
              "#46039f"
             ],
             [
              0.2222222222222222,
              "#7201a8"
             ],
             [
              0.3333333333333333,
              "#9c179e"
             ],
             [
              0.4444444444444444,
              "#bd3786"
             ],
             [
              0.5555555555555556,
              "#d8576b"
             ],
             [
              0.6666666666666666,
              "#ed7953"
             ],
             [
              0.7777777777777778,
              "#fb9f3a"
             ],
             [
              0.8888888888888888,
              "#fdca26"
             ],
             [
              1,
              "#f0f921"
             ]
            ],
            "type": "histogram2d"
           }
          ],
          "histogram2dcontour": [
           {
            "colorbar": {
             "outlinewidth": 0,
             "ticks": ""
            },
            "colorscale": [
             [
              0,
              "#0d0887"
             ],
             [
              0.1111111111111111,
              "#46039f"
             ],
             [
              0.2222222222222222,
              "#7201a8"
             ],
             [
              0.3333333333333333,
              "#9c179e"
             ],
             [
              0.4444444444444444,
              "#bd3786"
             ],
             [
              0.5555555555555556,
              "#d8576b"
             ],
             [
              0.6666666666666666,
              "#ed7953"
             ],
             [
              0.7777777777777778,
              "#fb9f3a"
             ],
             [
              0.8888888888888888,
              "#fdca26"
             ],
             [
              1,
              "#f0f921"
             ]
            ],
            "type": "histogram2dcontour"
           }
          ],
          "mesh3d": [
           {
            "colorbar": {
             "outlinewidth": 0,
             "ticks": ""
            },
            "type": "mesh3d"
           }
          ],
          "parcoords": [
           {
            "line": {
             "colorbar": {
              "outlinewidth": 0,
              "ticks": ""
             }
            },
            "type": "parcoords"
           }
          ],
          "pie": [
           {
            "automargin": true,
            "type": "pie"
           }
          ],
          "scatter": [
           {
            "fillpattern": {
             "fillmode": "overlay",
             "size": 10,
             "solidity": 0.2
            },
            "type": "scatter"
           }
          ],
          "scatter3d": [
           {
            "line": {
             "colorbar": {
              "outlinewidth": 0,
              "ticks": ""
             }
            },
            "marker": {
             "colorbar": {
              "outlinewidth": 0,
              "ticks": ""
             }
            },
            "type": "scatter3d"
           }
          ],
          "scattercarpet": [
           {
            "marker": {
             "colorbar": {
              "outlinewidth": 0,
              "ticks": ""
             }
            },
            "type": "scattercarpet"
           }
          ],
          "scattergeo": [
           {
            "marker": {
             "colorbar": {
              "outlinewidth": 0,
              "ticks": ""
             }
            },
            "type": "scattergeo"
           }
          ],
          "scattergl": [
           {
            "marker": {
             "colorbar": {
              "outlinewidth": 0,
              "ticks": ""
             }
            },
            "type": "scattergl"
           }
          ],
          "scattermapbox": [
           {
            "marker": {
             "colorbar": {
              "outlinewidth": 0,
              "ticks": ""
             }
            },
            "type": "scattermapbox"
           }
          ],
          "scatterpolar": [
           {
            "marker": {
             "colorbar": {
              "outlinewidth": 0,
              "ticks": ""
             }
            },
            "type": "scatterpolar"
           }
          ],
          "scatterpolargl": [
           {
            "marker": {
             "colorbar": {
              "outlinewidth": 0,
              "ticks": ""
             }
            },
            "type": "scatterpolargl"
           }
          ],
          "scatterternary": [
           {
            "marker": {
             "colorbar": {
              "outlinewidth": 0,
              "ticks": ""
             }
            },
            "type": "scatterternary"
           }
          ],
          "surface": [
           {
            "colorbar": {
             "outlinewidth": 0,
             "ticks": ""
            },
            "colorscale": [
             [
              0,
              "#0d0887"
             ],
             [
              0.1111111111111111,
              "#46039f"
             ],
             [
              0.2222222222222222,
              "#7201a8"
             ],
             [
              0.3333333333333333,
              "#9c179e"
             ],
             [
              0.4444444444444444,
              "#bd3786"
             ],
             [
              0.5555555555555556,
              "#d8576b"
             ],
             [
              0.6666666666666666,
              "#ed7953"
             ],
             [
              0.7777777777777778,
              "#fb9f3a"
             ],
             [
              0.8888888888888888,
              "#fdca26"
             ],
             [
              1,
              "#f0f921"
             ]
            ],
            "type": "surface"
           }
          ],
          "table": [
           {
            "cells": {
             "fill": {
              "color": "#EBF0F8"
             },
             "line": {
              "color": "white"
             }
            },
            "header": {
             "fill": {
              "color": "#C8D4E3"
             },
             "line": {
              "color": "white"
             }
            },
            "type": "table"
           }
          ]
         },
         "layout": {
          "annotationdefaults": {
           "arrowcolor": "#2a3f5f",
           "arrowhead": 0,
           "arrowwidth": 1
          },
          "autotypenumbers": "strict",
          "coloraxis": {
           "colorbar": {
            "outlinewidth": 0,
            "ticks": ""
           }
          },
          "colorscale": {
           "diverging": [
            [
             0,
             "#8e0152"
            ],
            [
             0.1,
             "#c51b7d"
            ],
            [
             0.2,
             "#de77ae"
            ],
            [
             0.3,
             "#f1b6da"
            ],
            [
             0.4,
             "#fde0ef"
            ],
            [
             0.5,
             "#f7f7f7"
            ],
            [
             0.6,
             "#e6f5d0"
            ],
            [
             0.7,
             "#b8e186"
            ],
            [
             0.8,
             "#7fbc41"
            ],
            [
             0.9,
             "#4d9221"
            ],
            [
             1,
             "#276419"
            ]
           ],
           "sequential": [
            [
             0,
             "#0d0887"
            ],
            [
             0.1111111111111111,
             "#46039f"
            ],
            [
             0.2222222222222222,
             "#7201a8"
            ],
            [
             0.3333333333333333,
             "#9c179e"
            ],
            [
             0.4444444444444444,
             "#bd3786"
            ],
            [
             0.5555555555555556,
             "#d8576b"
            ],
            [
             0.6666666666666666,
             "#ed7953"
            ],
            [
             0.7777777777777778,
             "#fb9f3a"
            ],
            [
             0.8888888888888888,
             "#fdca26"
            ],
            [
             1,
             "#f0f921"
            ]
           ],
           "sequentialminus": [
            [
             0,
             "#0d0887"
            ],
            [
             0.1111111111111111,
             "#46039f"
            ],
            [
             0.2222222222222222,
             "#7201a8"
            ],
            [
             0.3333333333333333,
             "#9c179e"
            ],
            [
             0.4444444444444444,
             "#bd3786"
            ],
            [
             0.5555555555555556,
             "#d8576b"
            ],
            [
             0.6666666666666666,
             "#ed7953"
            ],
            [
             0.7777777777777778,
             "#fb9f3a"
            ],
            [
             0.8888888888888888,
             "#fdca26"
            ],
            [
             1,
             "#f0f921"
            ]
           ]
          },
          "colorway": [
           "#636efa",
           "#EF553B",
           "#00cc96",
           "#ab63fa",
           "#FFA15A",
           "#19d3f3",
           "#FF6692",
           "#B6E880",
           "#FF97FF",
           "#FECB52"
          ],
          "font": {
           "color": "#2a3f5f"
          },
          "geo": {
           "bgcolor": "white",
           "lakecolor": "white",
           "landcolor": "#E5ECF6",
           "showlakes": true,
           "showland": true,
           "subunitcolor": "white"
          },
          "hoverlabel": {
           "align": "left"
          },
          "hovermode": "closest",
          "mapbox": {
           "style": "light"
          },
          "paper_bgcolor": "white",
          "plot_bgcolor": "#E5ECF6",
          "polar": {
           "angularaxis": {
            "gridcolor": "white",
            "linecolor": "white",
            "ticks": ""
           },
           "bgcolor": "#E5ECF6",
           "radialaxis": {
            "gridcolor": "white",
            "linecolor": "white",
            "ticks": ""
           }
          },
          "scene": {
           "xaxis": {
            "backgroundcolor": "#E5ECF6",
            "gridcolor": "white",
            "gridwidth": 2,
            "linecolor": "white",
            "showbackground": true,
            "ticks": "",
            "zerolinecolor": "white"
           },
           "yaxis": {
            "backgroundcolor": "#E5ECF6",
            "gridcolor": "white",
            "gridwidth": 2,
            "linecolor": "white",
            "showbackground": true,
            "ticks": "",
            "zerolinecolor": "white"
           },
           "zaxis": {
            "backgroundcolor": "#E5ECF6",
            "gridcolor": "white",
            "gridwidth": 2,
            "linecolor": "white",
            "showbackground": true,
            "ticks": "",
            "zerolinecolor": "white"
           }
          },
          "shapedefaults": {
           "line": {
            "color": "#2a3f5f"
           }
          },
          "ternary": {
           "aaxis": {
            "gridcolor": "white",
            "linecolor": "white",
            "ticks": ""
           },
           "baxis": {
            "gridcolor": "white",
            "linecolor": "white",
            "ticks": ""
           },
           "bgcolor": "#E5ECF6",
           "caxis": {
            "gridcolor": "white",
            "linecolor": "white",
            "ticks": ""
           }
          },
          "title": {
           "x": 0.05
          },
          "xaxis": {
           "automargin": true,
           "gridcolor": "white",
           "linecolor": "white",
           "ticks": "",
           "title": {
            "standoff": 15
           },
           "zerolinecolor": "white",
           "zerolinewidth": 2
          },
          "yaxis": {
           "automargin": true,
           "gridcolor": "white",
           "linecolor": "white",
           "ticks": "",
           "title": {
            "standoff": 15
           },
           "zerolinecolor": "white",
           "zerolinewidth": 2
          }
         }
        },
        "title": {
         "text": "Prediction vs Actual Rent values in Ontario"
        },
        "width": 1000,
        "xaxis": {
         "anchor": "y",
         "domain": [
          0,
          1
         ],
         "matches": "x4",
         "showticklabels": false
        },
        "xaxis2": {
         "anchor": "y2",
         "domain": [
          0,
          1
         ],
         "matches": "x4",
         "showticklabels": false
        },
        "xaxis3": {
         "anchor": "y3",
         "domain": [
          0,
          1
         ],
         "matches": "x4",
         "showticklabels": false
        },
        "xaxis4": {
         "anchor": "y4",
         "domain": [
          0,
          1
         ]
        },
        "yaxis": {
         "anchor": "x",
         "domain": [
          0.84375,
          1
         ]
        },
        "yaxis2": {
         "anchor": "x2",
         "domain": [
          0.5625,
          0.71875
         ]
        },
        "yaxis3": {
         "anchor": "x3",
         "domain": [
          0.28125,
          0.4375
         ]
        },
        "yaxis4": {
         "anchor": "x4",
         "domain": [
          0,
          0.15625
         ]
        }
       }
      }
     },
     "metadata": {},
     "output_type": "display_data"
    }
   ],
   "source": [
    "X_test.sort_values(['YEAR','# of Rooms'],inplace=True)\n",
    "fig = make_subplots(rows=4,cols=1,shared_xaxes=True,subplot_titles=('Bachelor Units','One Bedroom Units','Two Bedroom Units','Three Bedroom Units'))\n",
    "\n",
    "for i in range(4):\n",
    "    fig.append_trace(go.Line(x= X_test[X_test['# of Rooms'] == i]['YEAR'],y= X_test[X_test['# of Rooms'] == i]['Y_test'],line=dict(color='royalblue', width= 3)),row=i+1,col=1)\n",
    "    fig.append_trace(go.Line(x= X_test[X_test['# of Rooms'] == i]['YEAR'],y= X_test[X_test['# of Rooms'] == i]['Y_pred'],line=dict(color='firebrick', width= 4,dash='dash')),row=i+1,col=1)\n",
    "\n",
    "fig.update_layout(height=1000,width=1000,title_text='Prediction vs Actual Rent values in ' + province_of_interest,showlegend=False)\n",
    "fig.show()\n"
   ]
  }
 ],
 "metadata": {
  "kernelspec": {
   "display_name": "Python 3",
   "language": "python",
   "name": "python3"
  },
  "language_info": {
   "codemirror_mode": {
    "name": "ipython",
    "version": 3
   },
   "file_extension": ".py",
   "mimetype": "text/x-python",
   "name": "python",
   "nbconvert_exporter": "python",
   "pygments_lexer": "ipython3",
   "version": "3.11.3"
  },
  "orig_nbformat": 4
 },
 "nbformat": 4,
 "nbformat_minor": 2
}
