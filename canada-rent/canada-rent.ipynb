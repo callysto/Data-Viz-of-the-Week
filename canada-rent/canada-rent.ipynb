{
 "cells": [
  {
   "cell_type": "code",
   "execution_count": null,
   "metadata": {},
   "outputs": [],
   "source": [
    "import pandas as pd\n",
    "import plotly.express as px\n",
    "from sklearn.model_selection import train_test_split\n",
    "from sklearn.linear_model import Ridge\n",
    "from plotly.subplots import make_subplots\n",
    "import plotly.graph_objects as go"
   ]
  },
  {
   "cell_type": "code",
   "execution_count": null,
   "metadata": {},
   "outputs": [],
   "source": [
    "dataset = pd.read_csv('/https://raw.githubusercontent.com/callysto/data-files/main/data-viz-of-the-week/canada-rent/canada-rent.csv')\n",
    "\n",
    "dataset"
   ]
  },
  {
   "cell_type": "code",
   "execution_count": null,
   "metadata": {},
   "outputs": [],
   "source": [
    "#dictionaries that we'll use to create columns which can be used for machine learning\n",
    "prov_codes = {'Alberta': 403,'Saskatchewan':639,'Saskatchewan/Alberta':403,'Quebec':514,'Ontario':249,'Ontario/Quebec':249,'Manitoba':204,'New Brunswick':506,'New Brunswick/Quebec':506,'Newfoundland and Labrador':709,'Northwest Territories':867,'Prince Edward Island':902,'Nova Scotia':902,'British Columbia':778}\n",
    "Rooms = {'Bachelor units':0,'One bedroom units':1,'Two bedroom units':2,'Three bedroom units':3}\n",
    "\n",
    "dataset = dataset[dataset['VALUE'].notna()]\n",
    "dataset.rename(columns={'REF_DATE':'YEAR','VALUE':'MONTHLY RENT'},inplace=True)\n",
    "dataset['PROVINCE'] = dataset['GEO'].map(lambda x: x.split(', ')[-1])\n",
    "dataset['PROVINCE'].replace('Saskachewan/Alberta','Saskatchewan/Alberta',inplace=True)\n",
    "dataset['PROVINCE CODE'] = dataset['PROVINCE'].map(lambda x: prov_codes[x])\n",
    "dataset['# of Rooms'] = dataset['Type of unit'].map(lambda x:Rooms[x])\n",
    "\n",
    "dataset"
   ]
  },
  {
   "cell_type": "code",
   "execution_count": null,
   "metadata": {},
   "outputs": [],
   "source": [
    "grouped = dataset.groupby(['PROVINCE','YEAR','Type of unit'])[['MONTHLY RENT','PROVINCE CODE','# of Rooms']].mean().reset_index()\n",
    "grouped"
   ]
  },
  {
   "cell_type": "code",
   "execution_count": null,
   "metadata": {},
   "outputs": [],
   "source": [
    "province = 'Alberta' #change this to any province you'd like\n",
    "\n",
    "province_grouped = grouped.loc[grouped['PROVINCE'] == province]\n",
    "px.line(province_grouped,x='YEAR',y='MONTHLY RENT',color='Type of unit', title='Average Monthly Rent of ' + province + ' through the Years')"
   ]
  },
  {
   "cell_type": "code",
   "execution_count": null,
   "metadata": {},
   "outputs": [],
   "source": [
    "average_per_province = grouped.groupby(['PROVINCE','YEAR'])['MONTHLY RENT'].mean().reset_index()\n",
    "px.bar(average_per_province,x='YEAR',y='MONTHLY RENT',color='PROVINCE',title='Average Monthly Rent by Year')"
   ]
  },
  {
   "cell_type": "code",
   "execution_count": null,
   "metadata": {},
   "outputs": [],
   "source": [
    "px.bar(grouped,x='PROVINCE',y='MONTHLY RENT',color='Type of unit',barmode='group',animation_frame='YEAR',title='Average Monthly Rent Animation')"
   ]
  },
  {
   "cell_type": "code",
   "execution_count": null,
   "metadata": {},
   "outputs": [],
   "source": [
    "specific_year = 2022 # you can change this number to look at a specific year\n",
    "\n",
    "year_info = grouped.loc[grouped['YEAR'] == specific_year]\n",
    "year_info.sort_values('MONTHLY RENT',ascending=False,inplace=True)\n",
    "px.bar(year_info,x='PROVINCE',y='MONTHLY RENT',color='Type of unit',barmode='group',title='Average Monthly Rent in ' + str(specific_year) + ' for each Canadian Province')"
   ]
  },
  {
   "cell_type": "code",
   "execution_count": null,
   "metadata": {},
   "outputs": [],
   "source": [
    "target = grouped['MONTHLY RENT']\n",
    "features = grouped[['YEAR','PROVINCE CODE','# of Rooms']]\n",
    "\n",
    "X_train,X_test,Y_train,Y_test = train_test_split(features,target,test_size=0.33,random_state=42)\n",
    "\n",
    "model = Ridge(alpha=0.5).fit(X_train,Y_train)\n",
    "y_pred = model.predict(X_test)\n",
    "\n",
    "X_test['Y_test'] = Y_test\n",
    "X_test['Y_pred'] = y_pred\n",
    "\n",
    "province_of_interest = 'Ontario' #change this to any province you're interested in\n",
    "province_code = prov_codes[province_of_interest]\n",
    "\n",
    "X_test = X_test[X_test['PROVINCE CODE'] == province_code]\n",
    "\n",
    "X_test\n"
   ]
  },
  {
   "cell_type": "code",
   "execution_count": null,
   "metadata": {},
   "outputs": [],
   "source": [
    "X_test.sort_values(['YEAR','# of Rooms'],inplace=True)\n",
    "fig = make_subplots(rows=4,cols=1,shared_xaxes=True,subplot_titles=('Bachelor Units','One Bedroom Units','Two Bedroom Units','Three Bedroom Units'))\n",
    "\n",
    "for i in range(4):\n",
    "    fig.append_trace(go.Line(x= X_test[X_test['# of Rooms'] == i]['YEAR'],y= X_test[X_test['# of Rooms'] == i]['Y_test'],line=dict(color='royalblue', width= 3)),row=i+1,col=1)\n",
    "    fig.append_trace(go.Line(x= X_test[X_test['# of Rooms'] == i]['YEAR'],y= X_test[X_test['# of Rooms'] == i]['Y_pred'],line=dict(color='firebrick', width= 4,dash='dash')),row=i+1,col=1)\n",
    "\n",
    "fig.update_layout(height=1000,width=1000,title_text='Prediction vs Actual Rent values in ' + province_of_interest,showlegend=False)\n",
    "fig.show()\n"
   ]
  }
 ],
 "metadata": {
  "kernelspec": {
   "display_name": "Python 3",
   "language": "python",
   "name": "python3"
  },
  "language_info": {
   "codemirror_mode": {
    "name": "ipython",
    "version": 3
   },
   "file_extension": ".py",
   "mimetype": "text/x-python",
   "name": "python",
   "nbconvert_exporter": "python",
   "pygments_lexer": "ipython3",
   "version": "3.11.3"
  },
  "orig_nbformat": 4
 },
 "nbformat": 4,
 "nbformat_minor": 2
}
