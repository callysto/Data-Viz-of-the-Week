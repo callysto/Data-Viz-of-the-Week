{
 "cells": [
  {
   "cell_type": "markdown",
   "metadata": {},
   "source": [
    "![Callysto.ca Banner](https://github.com/callysto/curriculum-notebooks/blob/master/callysto-notebook-banner-top.jpg?raw=true)"
   ]
  },
  {
   "cell_type": "markdown",
   "metadata": {},
   "source": [
    "# Callysto’s Weekly Data Visualization\n",
    "\n",
    "\n",
    "## Plotting Daily and Cumulative COVID-19 Cases per Country on a Logarithmic Scale\n",
    "\n",
    "### Recommended grade level: 9-12"
   ]
  },
  {
   "cell_type": "markdown",
   "metadata": {},
   "source": [
    "Callysto's Weekly Data Visualization is a learning resource that helps Grades 5-12 teachers and students grow and develop data literacy skills. We do this by providing a data visualization, like a graph, and asking teachers and students to interpret it. This companion resource walks learners through how the data visualization is created and interpreted using the data science process. The steps of this process are listed below and applied to each weekly topic.\n",
    "\n",
    "* Question - What are we trying to answer?\n",
    "* Gather - Find the data source(s) you will need.\n",
    "* Organize - Arrange the data so that you can easily explore it.\n",
    "* Explore - Examine the data to look for evidence to answer our question. This includes creating visualizations.\n",
    "* Interpret - Explain how the evidence answers our question.\n",
    "* Communicate - Reflect on the interpretation.\n",
    "\n",
    "\n",
    "In this notebook we will explore the logarithmic scale (also known as the log scale) and we will explore how the log scale can help us determine if a country is experiencing exponential growth in the number of reported COVID-19 cases. \n"
   ]
  },
  {
   "cell_type": "markdown",
   "metadata": {},
   "source": [
    "### COVID-19 number of confirmed cases grow exponentially\n",
    "\n",
    "Since the beginning of the COVID-19 outbreak, health authorities have been tracking the total number of confirmed cases on a daily basis. Health autorities noticed [exponential growth](https://en.wikipedia.org/wiki/Exponential_growth) during the first few weeks in which COVID-19 cases were confirmed across Canada. This observation prompted social distancing measures to reduce the number of new COVID-19 cases. \n",
    "\n",
    "\n",
    "## Question:\n",
    "\n",
    "### How did health authorities identify the increase in COVID-19 cases as exponential growth? \n",
    "\n",
    "They observed how long it took for the number of cases to double for a period of a few weeks or more. Logarithmic scale charts can help us determine how long it took before the number of COVID-19 cases doubles. In this notebook, we will use the logarithmic function base 2 on the average number of confirmed cases of COVID-19. \n",
    "\n",
    "\n",
    "\n"
   ]
  },
  {
   "cell_type": "markdown",
   "metadata": {},
   "source": [
    "## Gather \n",
    "\n",
    "Let's take a look at some data[1].\n",
    "\n",
    "[1] COVID-19 Data Repository by the Center for Systems Science and Engineering (CSSE) at Johns Hopkins University https://github.com/CSSEGISandData/COVID-19\n",
    "\n",
    "## Organize\n",
    "\n",
    "The file `download_and_parse_data.py` contains Python code that imports the Python programming libraries we need to gather and organize the data to answer our question. The code also manipulates, cleans and presents the data so that it is easier to work with. \n",
    "\n",
    "You can see the full script [here](https://github.com/callysto/data-viz-of-the-week/blob/main/covid-19-visualizations/scripts/download_and_parse_data.py).\n",
    "\n",
    "Run the cell below to execute this code. "
   ]
  },
  {
   "cell_type": "code",
   "execution_count": null,
   "metadata": {},
   "outputs": [],
   "source": [
    "%run -i ./scripts/download_and_parse_data.py\n",
    "print(\"Success!\")"
   ]
  },
  {
   "cell_type": "markdown",
   "metadata": {},
   "source": [
    "## Explore \n",
    "\n",
    "The code below will be used to help us find evidence to answer our question. This can involve looking at data in table format, applying math and statistics, and creating different types of visualizations.\n",
    "\n",
    "In this case, we will start by looking at the daily number of confirmed COVID-19 cases in Canada. \n",
    "\n",
    "Run the cell below to generate a visualization. "
   ]
  },
  {
   "cell_type": "code",
   "execution_count": null,
   "metadata": {},
   "outputs": [],
   "source": [
    "try:\n",
    "    print(\"Generating plot. Please wait.\")\n",
    "    # Select country\n",
    "    country = \"Canada\"\n",
    "    # Subset data to extract information for Canada\n",
    "    by_prov = final_confirmed[final_confirmed.index==country].set_index(\"province\").T.iloc[:-4,]\n",
    "    by_prov[\"TotalDailyCase\"] = by_prov.sum(axis=1)\n",
    "    # This variable contains data on COVID 19 daily cases\n",
    "    non_cumulative_cases = by_prov.diff(axis=0)\n",
    "    t = np.linspace(0, len(non_cumulative_cases[\"TotalDailyCase\"]), len(non_cumulative_cases[\"TotalDailyCase\"]))\n",
    "    # Create figure\n",
    "    trace3 = go.Scatter(x = non_cumulative_cases.index,y=non_cumulative_cases[\"TotalDailyCase\"])\n",
    "    layout = go.Layout(\n",
    "            title= ('Daily number of COVID-19 reported cases in ' + str(country)),\n",
    "            yaxis=dict(title='Daily number of COVID-19 reported cases in ' + str(country),\\\n",
    "                       titlefont=dict(color='blue'), tickfont=dict(color='blue')),\n",
    "                yaxis2=dict(title='Number of infectious members (our model)', titlefont=dict(color='red'), \\\n",
    "                            tickfont=dict(color='red'), overlaying='y', side='right'),\n",
    "                showlegend=False)\n",
    "    fig = go.Figure(data=[trace3],layout=layout)\n",
    "    # Display figure\n",
    "    fig.show()\n",
    "except:\n",
    "    # Sanity check\n",
    "    print(\"WARNING\")\n",
    "    print(\"Please ensure you have run code cell '%run -i ./scripts/download_and_parse_data.py' in this notebook.\")"
   ]
  },
  {
   "cell_type": "markdown",
   "metadata": {},
   "source": [
    "##  Interpret\n",
    "\n",
    "We can see that in Canada between the months March through May, COVID-19 spread rapidly. Between May and July, the number of cases decreased. Between August and November 2020, the number of infections is increasing rapidly once more. \n",
    "\n",
    "The graph above is looking at the step-wise difference of COVID-19 reported cases. That is, it takes the number of reported cases and from that subtracts the number of reported cases from a day before. We see \"spikes\" in this chart, particularly around November. \n",
    "\n",
    "In the next chart we will take a rolling average - this will allow us to smooth out those spikes. We will also add the logarithmic scale (base 2) to help us see how many days it took before the number of reported COVID-19 cases doubled.\n",
    "\n"
   ]
  },
  {
   "cell_type": "markdown",
   "metadata": {},
   "source": [
    "## Explore\n",
    "\n",
    "Run the cell below to display the log curve of covid cases. \n",
    "\n",
    "<b>Notes: </b>\n",
    "\n",
    "a) Enter the name of a country using the text box. This will display the log curve for raw or cumulative number of cases per country. \n",
    "\n",
    "b) Toggle the \"Get cumulative results\" checkbox to see how the log scale changes when we compute the daily number of cases, vs the cumulative number of cases. \n",
    "\n",
    "c) To see results for a different country, use the backspace or delete key to remove the country selected at first, and type the name of a new country (use the drop down menu to help you find as well). \n"
   ]
  },
  {
   "cell_type": "markdown",
   "metadata": {},
   "source": [
    "Exponential rate of growth is inversely proportional to the number of days in the doubling period."
   ]
  },
  {
   "cell_type": "code",
   "execution_count": null,
   "metadata": {},
   "outputs": [],
   "source": [
    "try:\n",
    "    display(tab)\n",
    "except:\n",
    "    # Sanity check\n",
    "    print(\"WARNING\")\n",
    "    print(\"Please ensure you have run code cell '%run -i ./scripts/download_and_parse_data.py' in this notebook.\")"
   ]
  },
  {
   "cell_type": "markdown",
   "metadata": {},
   "source": [
    "## Interpret\n",
    "\n",
    "The plots above contain in blue the daily rolling average number for confirmed (top plot) cases and deaths (bottom plot. Each of the plots also contains the logarithmic scale (base 2).\n",
    "\n",
    "Run the cell below to display a video on interpreting the plots above. "
   ]
  },
  {
   "cell_type": "code",
   "execution_count": null,
   "metadata": {},
   "outputs": [],
   "source": []
  },
  {
   "cell_type": "markdown",
   "metadata": {},
   "source": [
    "___\n",
    "\n",
    "### Further questions\n",
    "\n",
    "Use the widget above to explore how the number of COVID-19 cases in countries in different parts of the world does with respect to the log scale. Can you identify countries whose growth is exponential? \n",
    "\n",
    "Explore the cumulative number of cases for different countries. These plots can also indicate when the number of infections is growing exponentially. Identify countries whose log scale indicates exponential growth. \n",
    "\n",
    "<b>Notes: </b>\n",
    "\n",
    "a) Enter the name of a country using the text box. This will display the log curve for raw or cumulative number of cases per country. \n",
    "\n",
    "b) Toggle the \"Get cumulative results\" checkbox to see how the log scale changes when we compute the daily number of cases, vs the cumulative number of cases. \n",
    "\n",
    "c) To see results for a different country, use the backspace or delete key to remove the country selected at first, and type the name of a new country (use the drop down menu to help you find as well). \n"
   ]
  },
  {
   "cell_type": "markdown",
   "metadata": {},
   "source": [
    "[![Callysto.ca License](https://github.com/callysto/curriculum-notebooks/blob/master/callysto-notebook-banner-bottom.jpg?raw=true)](https://github.com/callysto/curriculum-notebooks/blob/master/LICENSE.md)"
   ]
  }
 ],
 "metadata": {
  "kernelspec": {
   "display_name": "Python 3",
   "language": "python",
   "name": "python3"
  },
  "language_info": {
   "codemirror_mode": {
    "name": "ipython",
    "version": 3
   },
   "file_extension": ".py",
   "mimetype": "text/x-python",
   "name": "python",
   "nbconvert_exporter": "python",
   "pygments_lexer": "ipython3",
   "version": "3.8.6"
  }
 },
 "nbformat": 4,
 "nbformat_minor": 4
}
