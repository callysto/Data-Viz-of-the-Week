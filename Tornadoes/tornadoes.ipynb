{
 "cells": [
  {
   "cell_type": "code",
   "execution_count": null,
   "metadata": {},
   "outputs": [],
   "source": [
    "import pandas as pd\n",
    "import folium\n",
    "import plotly.express as px\n",
    "import requests"
   ]
  },
  {
   "cell_type": "code",
   "execution_count": null,
   "metadata": {},
   "outputs": [],
   "source": [
    "dataset = pd.read_csv('https://raw.githubusercontent.com/callysto/data-files/main/data-viz-of-the-week/Tornadoes/tornadoes.csv',dtype='unicode')\n",
    "dataset.sort_values('_date',inplace=True)\n",
    "dataset"
   ]
  },
  {
   "cell_type": "code",
   "execution_count": null,
   "metadata": {},
   "outputs": [],
   "source": [
    "months = {1:'Jan',2:'Feb',3:'Mar',4:'Apr',5:'May',6:'June',7:'Jul',8:'Aug',9:'Sept',10:'Oct',11:'Nov',12:'Dec'}\n",
    "dataset['month'] = dataset['month'].map(lambda x: months[x])\n",
    "dataset"
   ]
  },
  {
   "cell_type": "code",
   "execution_count": null,
   "metadata": {},
   "outputs": [],
   "source": [
    "per_year = dataset.groupby('Year')['event_name'].count().reset_index(name='Number of Tornadoes')\n",
    "px.line(per_year,x='Year',y='Number of Tornadoes',title='Number of Tornadoes in North America per year')"
   ]
  },
  {
   "cell_type": "code",
   "execution_count": null,
   "metadata": {},
   "outputs": [],
   "source": [
    "year_month = dataset.groupby(['Year','month'])['event_name'].count().reset_index(name='Number of Tornadoes')\n",
    "year_month.sort_values('Year',inplace=True)\n",
    "px.bar(year_month,x='Year',y='Number of Tornadoes',color='month',title='Number of Tornadoes per month in each year')"
   ]
  },
  {
   "cell_type": "code",
   "execution_count": null,
   "metadata": {},
   "outputs": [],
   "source": [
    "dataset['Year'] = dataset['Year'].astype(str)\n",
    "fig = px.scatter_mapbox(dataset,lat='Y',lon='X',color='Year',zoom=2,height=600)\n",
    "fig.update_layout(mapbox_style='open-street-map')\n",
    "fig.show()"
   ]
  },
  {
   "cell_type": "code",
   "execution_count": null,
   "metadata": {},
   "outputs": [],
   "source": [
    "rewrite_events = {'downburst':'Downburst','non_tornadic_vortex':'Vortex','tornado_over_land':'Tornado (Land)','tornado_over_water':'Tornado (Water)','unclassified_wind_damage':'Wind Damage (Unclassified)','unclassified_visual_vortex':'Visual Vortex (Unclassified)'}\n",
    "\n",
    "dataset = dataset[dataset['event_type'].notna()]\n",
    "\n",
    "dataset['event_type'] = dataset['event_type'].map(lambda x: rewrite_events[x])\n",
    "\n",
    "fig = px.scatter_mapbox(dataset,lat='Y',lon='X',color='event_type',zoom=2,height=600)\n",
    "fig.update_layout(mapbox_style='open-street-map')\n",
    "fig.show()"
   ]
  },
  {
   "cell_type": "code",
   "execution_count": null,
   "metadata": {},
   "outputs": [],
   "source": [
    "by_province = dataset.groupby(['Province','event_type'])['Year'].count().reset_index(name='Number of Tornadoes')\n",
    "by_province.sort_values('Number of Tornadoes',ascending=False,inplace=True)\n",
    "px.bar(by_province,x='Province',y='Number of Tornadoes',color='event_type',title='Number of Tornadoes in each province')"
   ]
  }
 ],
 "metadata": {
  "kernelspec": {
   "display_name": "Python 3",
   "language": "python",
   "name": "python3"
  },
  "language_info": {
   "codemirror_mode": {
    "name": "ipython",
    "version": 3
   },
   "file_extension": ".py",
   "mimetype": "text/x-python",
   "name": "python",
   "nbconvert_exporter": "python",
   "pygments_lexer": "ipython3",
   "version": "3.11.3"
  },
  "orig_nbformat": 4
 },
 "nbformat": 4,
 "nbformat_minor": 2
}
