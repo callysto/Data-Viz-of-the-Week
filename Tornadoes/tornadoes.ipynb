{
 "cells": [
  {
   "cell_type": "code",
   "execution_count": 2,
   "metadata": {},
   "outputs": [],
   "source": [
    "import pandas as pd\n",
    "import folium\n",
    "import plotly.express as px\n",
    "import requests"
   ]
  },
  {
   "cell_type": "code",
   "execution_count": 13,
   "metadata": {},
   "outputs": [
    {
     "data": {
      "text/html": [
       "<div>\n",
       "<style scoped>\n",
       "    .dataframe tbody tr th:only-of-type {\n",
       "        vertical-align: middle;\n",
       "    }\n",
       "\n",
       "    .dataframe tbody tr th {\n",
       "        vertical-align: top;\n",
       "    }\n",
       "\n",
       "    .dataframe thead th {\n",
       "        text-align: right;\n",
       "    }\n",
       "</style>\n",
       "<table border=\"1\" class=\"dataframe\">\n",
       "  <thead>\n",
       "    <tr style=\"text-align: right;\">\n",
       "      <th></th>\n",
       "      <th>X</th>\n",
       "      <th>Y</th>\n",
       "      <th>objectid</th>\n",
       "      <th>globalid</th>\n",
       "      <th>_date</th>\n",
       "      <th>Year</th>\n",
       "      <th>event_name</th>\n",
       "      <th>classification_status</th>\n",
       "      <th>rating_status</th>\n",
       "      <th>event_type</th>\n",
       "      <th>...</th>\n",
       "      <th>concurrent</th>\n",
       "      <th>uniqueID</th>\n",
       "      <th>mean_motion_from</th>\n",
       "      <th>day</th>\n",
       "      <th>month</th>\n",
       "      <th>timeUTC</th>\n",
       "      <th>timezone</th>\n",
       "      <th>fatalities_text</th>\n",
       "      <th>damage_cost_text</th>\n",
       "      <th>EventSummaryMapProvided</th>\n",
       "    </tr>\n",
       "  </thead>\n",
       "  <tbody>\n",
       "    <tr>\n",
       "      <th>1690</th>\n",
       "      <td>-81.1471</td>\n",
       "      <td>43.0486</td>\n",
       "      <td>1735</td>\n",
       "      <td>{DCC365EC-4863-4C45-83BC-65AED8D7EBA6}</td>\n",
       "      <td>2017/04/11 17:00:00+00</td>\n",
       "      <td>2017</td>\n",
       "      <td>London</td>\n",
       "      <td>final_classification_completed</td>\n",
       "      <td>final_rating_completed</td>\n",
       "      <td>tornado_over_land</td>\n",
       "      <td>...</td>\n",
       "      <td>NaN</td>\n",
       "      <td>NaN</td>\n",
       "      <td>250.0</td>\n",
       "      <td>11</td>\n",
       "      <td>4</td>\n",
       "      <td>2000</td>\n",
       "      <td>EDT</td>\n",
       "      <td>0</td>\n",
       "      <td>unknown</td>\n",
       "      <td>no</td>\n",
       "    </tr>\n",
       "    <tr>\n",
       "      <th>1687</th>\n",
       "      <td>-105.4383</td>\n",
       "      <td>52.7347</td>\n",
       "      <td>1732</td>\n",
       "      <td>{70BDBAB0-CF2E-4230-8EF7-DD42BE07A2DF}</td>\n",
       "      <td>2017/05/14 17:00:00+00</td>\n",
       "      <td>2017</td>\n",
       "      <td>Tway</td>\n",
       "      <td>final_classification_completed</td>\n",
       "      <td>final_rating_completed</td>\n",
       "      <td>tornado_over_land</td>\n",
       "      <td>...</td>\n",
       "      <td>NaN</td>\n",
       "      <td>NaN</td>\n",
       "      <td>NaN</td>\n",
       "      <td>14</td>\n",
       "      <td>5</td>\n",
       "      <td>2230</td>\n",
       "      <td>CST</td>\n",
       "      <td>0</td>\n",
       "      <td>unknown</td>\n",
       "      <td>no</td>\n",
       "    </tr>\n",
       "    <tr>\n",
       "      <th>1688</th>\n",
       "      <td>-105.7941</td>\n",
       "      <td>52.8711</td>\n",
       "      <td>1733</td>\n",
       "      <td>{A6721FCD-E22F-4BDD-81CD-E5ABD7F6C548}</td>\n",
       "      <td>2017/05/14 17:00:00+00</td>\n",
       "      <td>2017</td>\n",
       "      <td>Hoey</td>\n",
       "      <td>final_classification_completed</td>\n",
       "      <td>final_rating_completed</td>\n",
       "      <td>tornado_over_land</td>\n",
       "      <td>...</td>\n",
       "      <td>NaN</td>\n",
       "      <td>NaN</td>\n",
       "      <td>NaN</td>\n",
       "      <td>14</td>\n",
       "      <td>5</td>\n",
       "      <td>2059</td>\n",
       "      <td>CST</td>\n",
       "      <td>0</td>\n",
       "      <td>unknown</td>\n",
       "      <td>no</td>\n",
       "    </tr>\n",
       "    <tr>\n",
       "      <th>1689</th>\n",
       "      <td>-106.8830</td>\n",
       "      <td>52.5245</td>\n",
       "      <td>1734</td>\n",
       "      <td>{D613217E-5BD0-43B1-8EA8-CF86B6500B46}</td>\n",
       "      <td>2017/05/14 17:00:00+00</td>\n",
       "      <td>2017</td>\n",
       "      <td>Hepburn</td>\n",
       "      <td>final_classification_completed</td>\n",
       "      <td>final_rating_completed</td>\n",
       "      <td>tornado_over_land</td>\n",
       "      <td>...</td>\n",
       "      <td>NaN</td>\n",
       "      <td>NaN</td>\n",
       "      <td>NaN</td>\n",
       "      <td>14</td>\n",
       "      <td>5</td>\n",
       "      <td>2040</td>\n",
       "      <td>CST</td>\n",
       "      <td>0</td>\n",
       "      <td>unknown</td>\n",
       "      <td>no</td>\n",
       "    </tr>\n",
       "    <tr>\n",
       "      <th>1686</th>\n",
       "      <td>-78.5275</td>\n",
       "      <td>48.0605</td>\n",
       "      <td>1731</td>\n",
       "      <td>{A3AB997C-A3C4-4C1D-853B-24EA29A745FE}</td>\n",
       "      <td>2017/05/29 17:00:00+00</td>\n",
       "      <td>2017</td>\n",
       "      <td>Lac Montanier</td>\n",
       "      <td>final_classification_completed</td>\n",
       "      <td>final_rating_completed</td>\n",
       "      <td>tornado_over_land</td>\n",
       "      <td>...</td>\n",
       "      <td>NaN</td>\n",
       "      <td>NaN</td>\n",
       "      <td>210.0</td>\n",
       "      <td>29</td>\n",
       "      <td>5</td>\n",
       "      <td>2210</td>\n",
       "      <td>EDT</td>\n",
       "      <td>0</td>\n",
       "      <td>unknown</td>\n",
       "      <td>no</td>\n",
       "    </tr>\n",
       "    <tr>\n",
       "      <th>...</th>\n",
       "      <td>...</td>\n",
       "      <td>...</td>\n",
       "      <td>...</td>\n",
       "      <td>...</td>\n",
       "      <td>...</td>\n",
       "      <td>...</td>\n",
       "      <td>...</td>\n",
       "      <td>...</td>\n",
       "      <td>...</td>\n",
       "      <td>...</td>\n",
       "      <td>...</td>\n",
       "      <td>...</td>\n",
       "      <td>...</td>\n",
       "      <td>...</td>\n",
       "      <td>...</td>\n",
       "      <td>...</td>\n",
       "      <td>...</td>\n",
       "      <td>...</td>\n",
       "      <td>...</td>\n",
       "      <td>...</td>\n",
       "      <td>...</td>\n",
       "    </tr>\n",
       "    <tr>\n",
       "      <th>1612</th>\n",
       "      <td>-81.6030</td>\n",
       "      <td>44.2980</td>\n",
       "      <td>1656</td>\n",
       "      <td>{5275D219-5268-4CE6-8A11-925495D879DB}</td>\n",
       "      <td>2022/12/18 17:00:00+00</td>\n",
       "      <td>2022</td>\n",
       "      <td>Inverhuron</td>\n",
       "      <td>final_classification_completed</td>\n",
       "      <td>final_rating_completed</td>\n",
       "      <td>non_tornadic_vortex</td>\n",
       "      <td>...</td>\n",
       "      <td>NaN</td>\n",
       "      <td>NaN</td>\n",
       "      <td>NaN</td>\n",
       "      <td>18</td>\n",
       "      <td>12</td>\n",
       "      <td>1309</td>\n",
       "      <td>EST</td>\n",
       "      <td>0</td>\n",
       "      <td>unknown</td>\n",
       "      <td>no</td>\n",
       "    </tr>\n",
       "    <tr>\n",
       "      <th>1607</th>\n",
       "      <td>-119.6500</td>\n",
       "      <td>49.8700</td>\n",
       "      <td>1651</td>\n",
       "      <td>{572D3592-534B-4B16-8AB6-47DD13EA9954}</td>\n",
       "      <td>2022/12/19 17:00:00+00</td>\n",
       "      <td>2022</td>\n",
       "      <td>West Kelowna</td>\n",
       "      <td>final_classification_completed</td>\n",
       "      <td>final_rating_completed</td>\n",
       "      <td>unclassified_visual_vortex</td>\n",
       "      <td>...</td>\n",
       "      <td>NaN</td>\n",
       "      <td>NaN</td>\n",
       "      <td>NaN</td>\n",
       "      <td>19</td>\n",
       "      <td>12</td>\n",
       "      <td>2100</td>\n",
       "      <td>PDT</td>\n",
       "      <td>0</td>\n",
       "      <td>unknown</td>\n",
       "      <td>NaN</td>\n",
       "    </tr>\n",
       "    <tr>\n",
       "      <th>1698</th>\n",
       "      <td>-104.2829</td>\n",
       "      <td>50.4128</td>\n",
       "      <td>1743</td>\n",
       "      <td>{5D72385B-346E-460B-87A2-499D614D89E5}</td>\n",
       "      <td>2023/05/27 15:59:59+00</td>\n",
       "      <td>2023</td>\n",
       "      <td>Jameson</td>\n",
       "      <td>final_classification_completed</td>\n",
       "      <td>final_rating_completed</td>\n",
       "      <td>downburst</td>\n",
       "      <td>...</td>\n",
       "      <td>NaN</td>\n",
       "      <td>NaN</td>\n",
       "      <td>NaN</td>\n",
       "      <td>28</td>\n",
       "      <td>5</td>\n",
       "      <td>730</td>\n",
       "      <td>CST</td>\n",
       "      <td>0</td>\n",
       "      <td>unknown</td>\n",
       "      <td>NaN</td>\n",
       "    </tr>\n",
       "    <tr>\n",
       "      <th>1697</th>\n",
       "      <td>-104.5500</td>\n",
       "      <td>50.3600</td>\n",
       "      <td>1742</td>\n",
       "      <td>{09914267-9EB6-4C10-8BF0-225950504CEA}</td>\n",
       "      <td>2023/05/27 15:59:59+00</td>\n",
       "      <td>2023</td>\n",
       "      <td>Rowatt</td>\n",
       "      <td>final_classification_completed</td>\n",
       "      <td>preliminary_rating_completed</td>\n",
       "      <td>tornado_over_land</td>\n",
       "      <td>...</td>\n",
       "      <td>NaN</td>\n",
       "      <td>NaN</td>\n",
       "      <td>NaN</td>\n",
       "      <td>27</td>\n",
       "      <td>5</td>\n",
       "      <td>252</td>\n",
       "      <td>CST</td>\n",
       "      <td>0</td>\n",
       "      <td>unknown</td>\n",
       "      <td>NaN</td>\n",
       "    </tr>\n",
       "    <tr>\n",
       "      <th>1699</th>\n",
       "      <td>-112.5490</td>\n",
       "      <td>52.3580</td>\n",
       "      <td>1744</td>\n",
       "      <td>{17A191F4-DF46-4A29-8321-7057B2E1E71D}</td>\n",
       "      <td>2023/05/31 15:59:59+00</td>\n",
       "      <td>2023</td>\n",
       "      <td>Botha</td>\n",
       "      <td>final_classification_completed</td>\n",
       "      <td>final_rating_completed</td>\n",
       "      <td>tornado_over_land</td>\n",
       "      <td>...</td>\n",
       "      <td>NaN</td>\n",
       "      <td>NaN</td>\n",
       "      <td>NaN</td>\n",
       "      <td>31</td>\n",
       "      <td>5</td>\n",
       "      <td>2235</td>\n",
       "      <td>MDT</td>\n",
       "      <td>0</td>\n",
       "      <td>unknown</td>\n",
       "      <td>NaN</td>\n",
       "    </tr>\n",
       "  </tbody>\n",
       "</table>\n",
       "<p>1700 rows × 42 columns</p>\n",
       "</div>"
      ],
      "text/plain": [
       "             X        Y  objectid                                globalid   \n",
       "1690  -81.1471  43.0486      1735  {DCC365EC-4863-4C45-83BC-65AED8D7EBA6}  \\\n",
       "1687 -105.4383  52.7347      1732  {70BDBAB0-CF2E-4230-8EF7-DD42BE07A2DF}   \n",
       "1688 -105.7941  52.8711      1733  {A6721FCD-E22F-4BDD-81CD-E5ABD7F6C548}   \n",
       "1689 -106.8830  52.5245      1734  {D613217E-5BD0-43B1-8EA8-CF86B6500B46}   \n",
       "1686  -78.5275  48.0605      1731  {A3AB997C-A3C4-4C1D-853B-24EA29A745FE}   \n",
       "...        ...      ...       ...                                     ...   \n",
       "1612  -81.6030  44.2980      1656  {5275D219-5268-4CE6-8A11-925495D879DB}   \n",
       "1607 -119.6500  49.8700      1651  {572D3592-534B-4B16-8AB6-47DD13EA9954}   \n",
       "1698 -104.2829  50.4128      1743  {5D72385B-346E-460B-87A2-499D614D89E5}   \n",
       "1697 -104.5500  50.3600      1742  {09914267-9EB6-4C10-8BF0-225950504CEA}   \n",
       "1699 -112.5490  52.3580      1744  {17A191F4-DF46-4A29-8321-7057B2E1E71D}   \n",
       "\n",
       "                       _date  Year     event_name   \n",
       "1690  2017/04/11 17:00:00+00  2017         London  \\\n",
       "1687  2017/05/14 17:00:00+00  2017           Tway   \n",
       "1688  2017/05/14 17:00:00+00  2017           Hoey   \n",
       "1689  2017/05/14 17:00:00+00  2017        Hepburn   \n",
       "1686  2017/05/29 17:00:00+00  2017  Lac Montanier   \n",
       "...                      ...   ...            ...   \n",
       "1612  2022/12/18 17:00:00+00  2022     Inverhuron   \n",
       "1607  2022/12/19 17:00:00+00  2022   West Kelowna   \n",
       "1698  2023/05/27 15:59:59+00  2023        Jameson   \n",
       "1697  2023/05/27 15:59:59+00  2023         Rowatt   \n",
       "1699  2023/05/31 15:59:59+00  2023          Botha   \n",
       "\n",
       "               classification_status                 rating_status   \n",
       "1690  final_classification_completed        final_rating_completed  \\\n",
       "1687  final_classification_completed        final_rating_completed   \n",
       "1688  final_classification_completed        final_rating_completed   \n",
       "1689  final_classification_completed        final_rating_completed   \n",
       "1686  final_classification_completed        final_rating_completed   \n",
       "...                              ...                           ...   \n",
       "1612  final_classification_completed        final_rating_completed   \n",
       "1607  final_classification_completed        final_rating_completed   \n",
       "1698  final_classification_completed        final_rating_completed   \n",
       "1697  final_classification_completed  preliminary_rating_completed   \n",
       "1699  final_classification_completed        final_rating_completed   \n",
       "\n",
       "                      event_type  ... concurrent uniqueID mean_motion_from   \n",
       "1690           tornado_over_land  ...        NaN      NaN            250.0  \\\n",
       "1687           tornado_over_land  ...        NaN      NaN              NaN   \n",
       "1688           tornado_over_land  ...        NaN      NaN              NaN   \n",
       "1689           tornado_over_land  ...        NaN      NaN              NaN   \n",
       "1686           tornado_over_land  ...        NaN      NaN            210.0   \n",
       "...                          ...  ...        ...      ...              ...   \n",
       "1612         non_tornadic_vortex  ...        NaN      NaN              NaN   \n",
       "1607  unclassified_visual_vortex  ...        NaN      NaN              NaN   \n",
       "1698                   downburst  ...        NaN      NaN              NaN   \n",
       "1697           tornado_over_land  ...        NaN      NaN              NaN   \n",
       "1699           tornado_over_land  ...        NaN      NaN              NaN   \n",
       "\n",
       "     day month timeUTC timezone fatalities_text damage_cost_text   \n",
       "1690  11     4    2000      EDT               0          unknown  \\\n",
       "1687  14     5    2230      CST               0          unknown   \n",
       "1688  14     5    2059      CST               0          unknown   \n",
       "1689  14     5    2040      CST               0          unknown   \n",
       "1686  29     5    2210      EDT               0          unknown   \n",
       "...   ..   ...     ...      ...             ...              ...   \n",
       "1612  18    12    1309      EST               0          unknown   \n",
       "1607  19    12    2100      PDT               0          unknown   \n",
       "1698  28     5     730      CST               0          unknown   \n",
       "1697  27     5     252      CST               0          unknown   \n",
       "1699  31     5    2235      MDT               0          unknown   \n",
       "\n",
       "     EventSummaryMapProvided  \n",
       "1690                      no  \n",
       "1687                      no  \n",
       "1688                      no  \n",
       "1689                      no  \n",
       "1686                      no  \n",
       "...                      ...  \n",
       "1612                      no  \n",
       "1607                     NaN  \n",
       "1698                     NaN  \n",
       "1697                     NaN  \n",
       "1699                     NaN  \n",
       "\n",
       "[1700 rows x 42 columns]"
      ]
     },
     "execution_count": 13,
     "metadata": {},
     "output_type": "execute_result"
    }
   ],
   "source": [
    "dataset = pd.read_csv('/Users/ayushchaudhari/Downloads/tornadoes.csv')\n",
    "dataset.sort_values('_date',inplace=True)\n",
    "dataset"
   ]
  },
  {
   "cell_type": "code",
   "execution_count": 4,
   "metadata": {},
   "outputs": [
    {
     "data": {
      "text/html": [
       "<div>\n",
       "<style scoped>\n",
       "    .dataframe tbody tr th:only-of-type {\n",
       "        vertical-align: middle;\n",
       "    }\n",
       "\n",
       "    .dataframe tbody tr th {\n",
       "        vertical-align: top;\n",
       "    }\n",
       "\n",
       "    .dataframe thead th {\n",
       "        text-align: right;\n",
       "    }\n",
       "</style>\n",
       "<table border=\"1\" class=\"dataframe\">\n",
       "  <thead>\n",
       "    <tr style=\"text-align: right;\">\n",
       "      <th></th>\n",
       "      <th>X</th>\n",
       "      <th>Y</th>\n",
       "      <th>objectid</th>\n",
       "      <th>globalid</th>\n",
       "      <th>_date</th>\n",
       "      <th>Year</th>\n",
       "      <th>event_name</th>\n",
       "      <th>classification_status</th>\n",
       "      <th>rating_status</th>\n",
       "      <th>event_type</th>\n",
       "      <th>...</th>\n",
       "      <th>concurrent</th>\n",
       "      <th>uniqueID</th>\n",
       "      <th>mean_motion_from</th>\n",
       "      <th>day</th>\n",
       "      <th>month</th>\n",
       "      <th>timeUTC</th>\n",
       "      <th>timezone</th>\n",
       "      <th>fatalities_text</th>\n",
       "      <th>damage_cost_text</th>\n",
       "      <th>EventSummaryMapProvided</th>\n",
       "    </tr>\n",
       "  </thead>\n",
       "  <tbody>\n",
       "    <tr>\n",
       "      <th>1690</th>\n",
       "      <td>-81.1471</td>\n",
       "      <td>43.0486</td>\n",
       "      <td>1735</td>\n",
       "      <td>{DCC365EC-4863-4C45-83BC-65AED8D7EBA6}</td>\n",
       "      <td>2017/04/11 17:00:00+00</td>\n",
       "      <td>2017</td>\n",
       "      <td>London</td>\n",
       "      <td>final_classification_completed</td>\n",
       "      <td>final_rating_completed</td>\n",
       "      <td>tornado_over_land</td>\n",
       "      <td>...</td>\n",
       "      <td>NaN</td>\n",
       "      <td>NaN</td>\n",
       "      <td>250.0</td>\n",
       "      <td>11</td>\n",
       "      <td>Apr</td>\n",
       "      <td>2000</td>\n",
       "      <td>EDT</td>\n",
       "      <td>0</td>\n",
       "      <td>unknown</td>\n",
       "      <td>no</td>\n",
       "    </tr>\n",
       "    <tr>\n",
       "      <th>1687</th>\n",
       "      <td>-105.4383</td>\n",
       "      <td>52.7347</td>\n",
       "      <td>1732</td>\n",
       "      <td>{70BDBAB0-CF2E-4230-8EF7-DD42BE07A2DF}</td>\n",
       "      <td>2017/05/14 17:00:00+00</td>\n",
       "      <td>2017</td>\n",
       "      <td>Tway</td>\n",
       "      <td>final_classification_completed</td>\n",
       "      <td>final_rating_completed</td>\n",
       "      <td>tornado_over_land</td>\n",
       "      <td>...</td>\n",
       "      <td>NaN</td>\n",
       "      <td>NaN</td>\n",
       "      <td>NaN</td>\n",
       "      <td>14</td>\n",
       "      <td>May</td>\n",
       "      <td>2230</td>\n",
       "      <td>CST</td>\n",
       "      <td>0</td>\n",
       "      <td>unknown</td>\n",
       "      <td>no</td>\n",
       "    </tr>\n",
       "    <tr>\n",
       "      <th>1688</th>\n",
       "      <td>-105.7941</td>\n",
       "      <td>52.8711</td>\n",
       "      <td>1733</td>\n",
       "      <td>{A6721FCD-E22F-4BDD-81CD-E5ABD7F6C548}</td>\n",
       "      <td>2017/05/14 17:00:00+00</td>\n",
       "      <td>2017</td>\n",
       "      <td>Hoey</td>\n",
       "      <td>final_classification_completed</td>\n",
       "      <td>final_rating_completed</td>\n",
       "      <td>tornado_over_land</td>\n",
       "      <td>...</td>\n",
       "      <td>NaN</td>\n",
       "      <td>NaN</td>\n",
       "      <td>NaN</td>\n",
       "      <td>14</td>\n",
       "      <td>May</td>\n",
       "      <td>2059</td>\n",
       "      <td>CST</td>\n",
       "      <td>0</td>\n",
       "      <td>unknown</td>\n",
       "      <td>no</td>\n",
       "    </tr>\n",
       "    <tr>\n",
       "      <th>1689</th>\n",
       "      <td>-106.8830</td>\n",
       "      <td>52.5245</td>\n",
       "      <td>1734</td>\n",
       "      <td>{D613217E-5BD0-43B1-8EA8-CF86B6500B46}</td>\n",
       "      <td>2017/05/14 17:00:00+00</td>\n",
       "      <td>2017</td>\n",
       "      <td>Hepburn</td>\n",
       "      <td>final_classification_completed</td>\n",
       "      <td>final_rating_completed</td>\n",
       "      <td>tornado_over_land</td>\n",
       "      <td>...</td>\n",
       "      <td>NaN</td>\n",
       "      <td>NaN</td>\n",
       "      <td>NaN</td>\n",
       "      <td>14</td>\n",
       "      <td>May</td>\n",
       "      <td>2040</td>\n",
       "      <td>CST</td>\n",
       "      <td>0</td>\n",
       "      <td>unknown</td>\n",
       "      <td>no</td>\n",
       "    </tr>\n",
       "    <tr>\n",
       "      <th>1686</th>\n",
       "      <td>-78.5275</td>\n",
       "      <td>48.0605</td>\n",
       "      <td>1731</td>\n",
       "      <td>{A3AB997C-A3C4-4C1D-853B-24EA29A745FE}</td>\n",
       "      <td>2017/05/29 17:00:00+00</td>\n",
       "      <td>2017</td>\n",
       "      <td>Lac Montanier</td>\n",
       "      <td>final_classification_completed</td>\n",
       "      <td>final_rating_completed</td>\n",
       "      <td>tornado_over_land</td>\n",
       "      <td>...</td>\n",
       "      <td>NaN</td>\n",
       "      <td>NaN</td>\n",
       "      <td>210.0</td>\n",
       "      <td>29</td>\n",
       "      <td>May</td>\n",
       "      <td>2210</td>\n",
       "      <td>EDT</td>\n",
       "      <td>0</td>\n",
       "      <td>unknown</td>\n",
       "      <td>no</td>\n",
       "    </tr>\n",
       "    <tr>\n",
       "      <th>...</th>\n",
       "      <td>...</td>\n",
       "      <td>...</td>\n",
       "      <td>...</td>\n",
       "      <td>...</td>\n",
       "      <td>...</td>\n",
       "      <td>...</td>\n",
       "      <td>...</td>\n",
       "      <td>...</td>\n",
       "      <td>...</td>\n",
       "      <td>...</td>\n",
       "      <td>...</td>\n",
       "      <td>...</td>\n",
       "      <td>...</td>\n",
       "      <td>...</td>\n",
       "      <td>...</td>\n",
       "      <td>...</td>\n",
       "      <td>...</td>\n",
       "      <td>...</td>\n",
       "      <td>...</td>\n",
       "      <td>...</td>\n",
       "      <td>...</td>\n",
       "    </tr>\n",
       "    <tr>\n",
       "      <th>1612</th>\n",
       "      <td>-81.6030</td>\n",
       "      <td>44.2980</td>\n",
       "      <td>1656</td>\n",
       "      <td>{5275D219-5268-4CE6-8A11-925495D879DB}</td>\n",
       "      <td>2022/12/18 17:00:00+00</td>\n",
       "      <td>2022</td>\n",
       "      <td>Inverhuron</td>\n",
       "      <td>final_classification_completed</td>\n",
       "      <td>final_rating_completed</td>\n",
       "      <td>non_tornadic_vortex</td>\n",
       "      <td>...</td>\n",
       "      <td>NaN</td>\n",
       "      <td>NaN</td>\n",
       "      <td>NaN</td>\n",
       "      <td>18</td>\n",
       "      <td>Dec</td>\n",
       "      <td>1309</td>\n",
       "      <td>EST</td>\n",
       "      <td>0</td>\n",
       "      <td>unknown</td>\n",
       "      <td>no</td>\n",
       "    </tr>\n",
       "    <tr>\n",
       "      <th>1607</th>\n",
       "      <td>-119.6500</td>\n",
       "      <td>49.8700</td>\n",
       "      <td>1651</td>\n",
       "      <td>{572D3592-534B-4B16-8AB6-47DD13EA9954}</td>\n",
       "      <td>2022/12/19 17:00:00+00</td>\n",
       "      <td>2022</td>\n",
       "      <td>West Kelowna</td>\n",
       "      <td>final_classification_completed</td>\n",
       "      <td>final_rating_completed</td>\n",
       "      <td>unclassified_visual_vortex</td>\n",
       "      <td>...</td>\n",
       "      <td>NaN</td>\n",
       "      <td>NaN</td>\n",
       "      <td>NaN</td>\n",
       "      <td>19</td>\n",
       "      <td>Dec</td>\n",
       "      <td>2100</td>\n",
       "      <td>PDT</td>\n",
       "      <td>0</td>\n",
       "      <td>unknown</td>\n",
       "      <td>NaN</td>\n",
       "    </tr>\n",
       "    <tr>\n",
       "      <th>1698</th>\n",
       "      <td>-104.2829</td>\n",
       "      <td>50.4128</td>\n",
       "      <td>1743</td>\n",
       "      <td>{5D72385B-346E-460B-87A2-499D614D89E5}</td>\n",
       "      <td>2023/05/27 15:59:59+00</td>\n",
       "      <td>2023</td>\n",
       "      <td>Jameson</td>\n",
       "      <td>final_classification_completed</td>\n",
       "      <td>final_rating_completed</td>\n",
       "      <td>downburst</td>\n",
       "      <td>...</td>\n",
       "      <td>NaN</td>\n",
       "      <td>NaN</td>\n",
       "      <td>NaN</td>\n",
       "      <td>28</td>\n",
       "      <td>May</td>\n",
       "      <td>730</td>\n",
       "      <td>CST</td>\n",
       "      <td>0</td>\n",
       "      <td>unknown</td>\n",
       "      <td>NaN</td>\n",
       "    </tr>\n",
       "    <tr>\n",
       "      <th>1697</th>\n",
       "      <td>-104.5500</td>\n",
       "      <td>50.3600</td>\n",
       "      <td>1742</td>\n",
       "      <td>{09914267-9EB6-4C10-8BF0-225950504CEA}</td>\n",
       "      <td>2023/05/27 15:59:59+00</td>\n",
       "      <td>2023</td>\n",
       "      <td>Rowatt</td>\n",
       "      <td>final_classification_completed</td>\n",
       "      <td>preliminary_rating_completed</td>\n",
       "      <td>tornado_over_land</td>\n",
       "      <td>...</td>\n",
       "      <td>NaN</td>\n",
       "      <td>NaN</td>\n",
       "      <td>NaN</td>\n",
       "      <td>27</td>\n",
       "      <td>May</td>\n",
       "      <td>252</td>\n",
       "      <td>CST</td>\n",
       "      <td>0</td>\n",
       "      <td>unknown</td>\n",
       "      <td>NaN</td>\n",
       "    </tr>\n",
       "    <tr>\n",
       "      <th>1699</th>\n",
       "      <td>-112.5490</td>\n",
       "      <td>52.3580</td>\n",
       "      <td>1744</td>\n",
       "      <td>{17A191F4-DF46-4A29-8321-7057B2E1E71D}</td>\n",
       "      <td>2023/05/31 15:59:59+00</td>\n",
       "      <td>2023</td>\n",
       "      <td>Botha</td>\n",
       "      <td>final_classification_completed</td>\n",
       "      <td>final_rating_completed</td>\n",
       "      <td>tornado_over_land</td>\n",
       "      <td>...</td>\n",
       "      <td>NaN</td>\n",
       "      <td>NaN</td>\n",
       "      <td>NaN</td>\n",
       "      <td>31</td>\n",
       "      <td>May</td>\n",
       "      <td>2235</td>\n",
       "      <td>MDT</td>\n",
       "      <td>0</td>\n",
       "      <td>unknown</td>\n",
       "      <td>NaN</td>\n",
       "    </tr>\n",
       "  </tbody>\n",
       "</table>\n",
       "<p>1700 rows × 42 columns</p>\n",
       "</div>"
      ],
      "text/plain": [
       "             X        Y  objectid                                globalid   \n",
       "1690  -81.1471  43.0486      1735  {DCC365EC-4863-4C45-83BC-65AED8D7EBA6}  \\\n",
       "1687 -105.4383  52.7347      1732  {70BDBAB0-CF2E-4230-8EF7-DD42BE07A2DF}   \n",
       "1688 -105.7941  52.8711      1733  {A6721FCD-E22F-4BDD-81CD-E5ABD7F6C548}   \n",
       "1689 -106.8830  52.5245      1734  {D613217E-5BD0-43B1-8EA8-CF86B6500B46}   \n",
       "1686  -78.5275  48.0605      1731  {A3AB997C-A3C4-4C1D-853B-24EA29A745FE}   \n",
       "...        ...      ...       ...                                     ...   \n",
       "1612  -81.6030  44.2980      1656  {5275D219-5268-4CE6-8A11-925495D879DB}   \n",
       "1607 -119.6500  49.8700      1651  {572D3592-534B-4B16-8AB6-47DD13EA9954}   \n",
       "1698 -104.2829  50.4128      1743  {5D72385B-346E-460B-87A2-499D614D89E5}   \n",
       "1697 -104.5500  50.3600      1742  {09914267-9EB6-4C10-8BF0-225950504CEA}   \n",
       "1699 -112.5490  52.3580      1744  {17A191F4-DF46-4A29-8321-7057B2E1E71D}   \n",
       "\n",
       "                       _date  Year     event_name   \n",
       "1690  2017/04/11 17:00:00+00  2017         London  \\\n",
       "1687  2017/05/14 17:00:00+00  2017           Tway   \n",
       "1688  2017/05/14 17:00:00+00  2017           Hoey   \n",
       "1689  2017/05/14 17:00:00+00  2017        Hepburn   \n",
       "1686  2017/05/29 17:00:00+00  2017  Lac Montanier   \n",
       "...                      ...   ...            ...   \n",
       "1612  2022/12/18 17:00:00+00  2022     Inverhuron   \n",
       "1607  2022/12/19 17:00:00+00  2022   West Kelowna   \n",
       "1698  2023/05/27 15:59:59+00  2023        Jameson   \n",
       "1697  2023/05/27 15:59:59+00  2023         Rowatt   \n",
       "1699  2023/05/31 15:59:59+00  2023          Botha   \n",
       "\n",
       "               classification_status                 rating_status   \n",
       "1690  final_classification_completed        final_rating_completed  \\\n",
       "1687  final_classification_completed        final_rating_completed   \n",
       "1688  final_classification_completed        final_rating_completed   \n",
       "1689  final_classification_completed        final_rating_completed   \n",
       "1686  final_classification_completed        final_rating_completed   \n",
       "...                              ...                           ...   \n",
       "1612  final_classification_completed        final_rating_completed   \n",
       "1607  final_classification_completed        final_rating_completed   \n",
       "1698  final_classification_completed        final_rating_completed   \n",
       "1697  final_classification_completed  preliminary_rating_completed   \n",
       "1699  final_classification_completed        final_rating_completed   \n",
       "\n",
       "                      event_type  ... concurrent uniqueID mean_motion_from   \n",
       "1690           tornado_over_land  ...        NaN      NaN            250.0  \\\n",
       "1687           tornado_over_land  ...        NaN      NaN              NaN   \n",
       "1688           tornado_over_land  ...        NaN      NaN              NaN   \n",
       "1689           tornado_over_land  ...        NaN      NaN              NaN   \n",
       "1686           tornado_over_land  ...        NaN      NaN            210.0   \n",
       "...                          ...  ...        ...      ...              ...   \n",
       "1612         non_tornadic_vortex  ...        NaN      NaN              NaN   \n",
       "1607  unclassified_visual_vortex  ...        NaN      NaN              NaN   \n",
       "1698                   downburst  ...        NaN      NaN              NaN   \n",
       "1697           tornado_over_land  ...        NaN      NaN              NaN   \n",
       "1699           tornado_over_land  ...        NaN      NaN              NaN   \n",
       "\n",
       "     day month timeUTC timezone fatalities_text damage_cost_text   \n",
       "1690  11   Apr    2000      EDT               0          unknown  \\\n",
       "1687  14   May    2230      CST               0          unknown   \n",
       "1688  14   May    2059      CST               0          unknown   \n",
       "1689  14   May    2040      CST               0          unknown   \n",
       "1686  29   May    2210      EDT               0          unknown   \n",
       "...   ..   ...     ...      ...             ...              ...   \n",
       "1612  18   Dec    1309      EST               0          unknown   \n",
       "1607  19   Dec    2100      PDT               0          unknown   \n",
       "1698  28   May     730      CST               0          unknown   \n",
       "1697  27   May     252      CST               0          unknown   \n",
       "1699  31   May    2235      MDT               0          unknown   \n",
       "\n",
       "     EventSummaryMapProvided  \n",
       "1690                      no  \n",
       "1687                      no  \n",
       "1688                      no  \n",
       "1689                      no  \n",
       "1686                      no  \n",
       "...                      ...  \n",
       "1612                      no  \n",
       "1607                     NaN  \n",
       "1698                     NaN  \n",
       "1697                     NaN  \n",
       "1699                     NaN  \n",
       "\n",
       "[1700 rows x 42 columns]"
      ]
     },
     "execution_count": 4,
     "metadata": {},
     "output_type": "execute_result"
    }
   ],
   "source": [
    "months = {1:'Jan',2:'Feb',3:'Mar',4:'Apr',5:'May',6:'June',7:'Jul',8:'Aug',9:'Sept',10:'Oct',11:'Nov',12:'Dec'}\n",
    "dataset['month'] = dataset['month'].map(lambda x: months[x])\n",
    "dataset"
   ]
  },
  {
   "cell_type": "code",
   "execution_count": 11,
   "metadata": {},
   "outputs": [
    {
     "name": "stderr",
     "output_type": "stream",
     "text": [
      "/var/folders/_v/4d1j74hd4y3by9wnkl0gym5w0000gn/T/ipykernel_69436/4257812503.py:23: SettingWithCopyWarning:\n",
      "\n",
      "\n",
      "A value is trying to be set on a copy of a slice from a DataFrame.\n",
      "Try using .loc[row_indexer,col_indexer] = value instead\n",
      "\n",
      "See the caveats in the documentation: https://pandas.pydata.org/pandas-docs/stable/user_guide/indexing.html#returning-a-view-versus-a-copy\n",
      "\n"
     ]
    },
    {
     "data": {
      "text/html": [
       "<div>\n",
       "<style scoped>\n",
       "    .dataframe tbody tr th:only-of-type {\n",
       "        vertical-align: middle;\n",
       "    }\n",
       "\n",
       "    .dataframe tbody tr th {\n",
       "        vertical-align: top;\n",
       "    }\n",
       "\n",
       "    .dataframe thead th {\n",
       "        text-align: right;\n",
       "    }\n",
       "</style>\n",
       "<table border=\"1\" class=\"dataframe\">\n",
       "  <thead>\n",
       "    <tr style=\"text-align: right;\">\n",
       "      <th></th>\n",
       "      <th>X</th>\n",
       "      <th>Y</th>\n",
       "      <th>objectid</th>\n",
       "      <th>globalid</th>\n",
       "      <th>_date</th>\n",
       "      <th>Year</th>\n",
       "      <th>event_name</th>\n",
       "      <th>classification_status</th>\n",
       "      <th>rating_status</th>\n",
       "      <th>event_type</th>\n",
       "      <th>...</th>\n",
       "      <th>uniqueID</th>\n",
       "      <th>mean_motion_from</th>\n",
       "      <th>day</th>\n",
       "      <th>month</th>\n",
       "      <th>timeUTC</th>\n",
       "      <th>timezone</th>\n",
       "      <th>fatalities_text</th>\n",
       "      <th>damage_cost_text</th>\n",
       "      <th>EventSummaryMapProvided</th>\n",
       "      <th>Province</th>\n",
       "    </tr>\n",
       "  </thead>\n",
       "  <tbody>\n",
       "    <tr>\n",
       "      <th>1690</th>\n",
       "      <td>-81.1471</td>\n",
       "      <td>43.0486</td>\n",
       "      <td>1735</td>\n",
       "      <td>{DCC365EC-4863-4C45-83BC-65AED8D7EBA6}</td>\n",
       "      <td>2017/04/11 17:00:00+00</td>\n",
       "      <td>2017</td>\n",
       "      <td>London</td>\n",
       "      <td>final_classification_completed</td>\n",
       "      <td>final_rating_completed</td>\n",
       "      <td>Tornado (Land)</td>\n",
       "      <td>...</td>\n",
       "      <td>NaN</td>\n",
       "      <td>250.0</td>\n",
       "      <td>11</td>\n",
       "      <td>Apr</td>\n",
       "      <td>2000</td>\n",
       "      <td>EDT</td>\n",
       "      <td>0</td>\n",
       "      <td>unknown</td>\n",
       "      <td>no</td>\n",
       "      <td>Ontario</td>\n",
       "    </tr>\n",
       "    <tr>\n",
       "      <th>1687</th>\n",
       "      <td>-105.4383</td>\n",
       "      <td>52.7347</td>\n",
       "      <td>1732</td>\n",
       "      <td>{70BDBAB0-CF2E-4230-8EF7-DD42BE07A2DF}</td>\n",
       "      <td>2017/05/14 17:00:00+00</td>\n",
       "      <td>2017</td>\n",
       "      <td>Tway</td>\n",
       "      <td>final_classification_completed</td>\n",
       "      <td>final_rating_completed</td>\n",
       "      <td>Tornado (Land)</td>\n",
       "      <td>...</td>\n",
       "      <td>NaN</td>\n",
       "      <td>NaN</td>\n",
       "      <td>14</td>\n",
       "      <td>May</td>\n",
       "      <td>2230</td>\n",
       "      <td>CST</td>\n",
       "      <td>0</td>\n",
       "      <td>unknown</td>\n",
       "      <td>no</td>\n",
       "      <td>Saskatchewan</td>\n",
       "    </tr>\n",
       "    <tr>\n",
       "      <th>1688</th>\n",
       "      <td>-105.7941</td>\n",
       "      <td>52.8711</td>\n",
       "      <td>1733</td>\n",
       "      <td>{A6721FCD-E22F-4BDD-81CD-E5ABD7F6C548}</td>\n",
       "      <td>2017/05/14 17:00:00+00</td>\n",
       "      <td>2017</td>\n",
       "      <td>Hoey</td>\n",
       "      <td>final_classification_completed</td>\n",
       "      <td>final_rating_completed</td>\n",
       "      <td>Tornado (Land)</td>\n",
       "      <td>...</td>\n",
       "      <td>NaN</td>\n",
       "      <td>NaN</td>\n",
       "      <td>14</td>\n",
       "      <td>May</td>\n",
       "      <td>2059</td>\n",
       "      <td>CST</td>\n",
       "      <td>0</td>\n",
       "      <td>unknown</td>\n",
       "      <td>no</td>\n",
       "      <td>Saskatchewan</td>\n",
       "    </tr>\n",
       "    <tr>\n",
       "      <th>1689</th>\n",
       "      <td>-106.8830</td>\n",
       "      <td>52.5245</td>\n",
       "      <td>1734</td>\n",
       "      <td>{D613217E-5BD0-43B1-8EA8-CF86B6500B46}</td>\n",
       "      <td>2017/05/14 17:00:00+00</td>\n",
       "      <td>2017</td>\n",
       "      <td>Hepburn</td>\n",
       "      <td>final_classification_completed</td>\n",
       "      <td>final_rating_completed</td>\n",
       "      <td>Tornado (Land)</td>\n",
       "      <td>...</td>\n",
       "      <td>NaN</td>\n",
       "      <td>NaN</td>\n",
       "      <td>14</td>\n",
       "      <td>May</td>\n",
       "      <td>2040</td>\n",
       "      <td>CST</td>\n",
       "      <td>0</td>\n",
       "      <td>unknown</td>\n",
       "      <td>no</td>\n",
       "      <td>Saskatchewan</td>\n",
       "    </tr>\n",
       "    <tr>\n",
       "      <th>1686</th>\n",
       "      <td>-78.5275</td>\n",
       "      <td>48.0605</td>\n",
       "      <td>1731</td>\n",
       "      <td>{A3AB997C-A3C4-4C1D-853B-24EA29A745FE}</td>\n",
       "      <td>2017/05/29 17:00:00+00</td>\n",
       "      <td>2017</td>\n",
       "      <td>Lac Montanier</td>\n",
       "      <td>final_classification_completed</td>\n",
       "      <td>final_rating_completed</td>\n",
       "      <td>Tornado (Land)</td>\n",
       "      <td>...</td>\n",
       "      <td>NaN</td>\n",
       "      <td>210.0</td>\n",
       "      <td>29</td>\n",
       "      <td>May</td>\n",
       "      <td>2210</td>\n",
       "      <td>EDT</td>\n",
       "      <td>0</td>\n",
       "      <td>unknown</td>\n",
       "      <td>no</td>\n",
       "      <td>Québec</td>\n",
       "    </tr>\n",
       "    <tr>\n",
       "      <th>...</th>\n",
       "      <td>...</td>\n",
       "      <td>...</td>\n",
       "      <td>...</td>\n",
       "      <td>...</td>\n",
       "      <td>...</td>\n",
       "      <td>...</td>\n",
       "      <td>...</td>\n",
       "      <td>...</td>\n",
       "      <td>...</td>\n",
       "      <td>...</td>\n",
       "      <td>...</td>\n",
       "      <td>...</td>\n",
       "      <td>...</td>\n",
       "      <td>...</td>\n",
       "      <td>...</td>\n",
       "      <td>...</td>\n",
       "      <td>...</td>\n",
       "      <td>...</td>\n",
       "      <td>...</td>\n",
       "      <td>...</td>\n",
       "      <td>...</td>\n",
       "    </tr>\n",
       "    <tr>\n",
       "      <th>1612</th>\n",
       "      <td>-81.6030</td>\n",
       "      <td>44.2980</td>\n",
       "      <td>1656</td>\n",
       "      <td>{5275D219-5268-4CE6-8A11-925495D879DB}</td>\n",
       "      <td>2022/12/18 17:00:00+00</td>\n",
       "      <td>2022</td>\n",
       "      <td>Inverhuron</td>\n",
       "      <td>final_classification_completed</td>\n",
       "      <td>final_rating_completed</td>\n",
       "      <td>Vortex</td>\n",
       "      <td>...</td>\n",
       "      <td>NaN</td>\n",
       "      <td>NaN</td>\n",
       "      <td>18</td>\n",
       "      <td>Dec</td>\n",
       "      <td>1309</td>\n",
       "      <td>EST</td>\n",
       "      <td>0</td>\n",
       "      <td>unknown</td>\n",
       "      <td>no</td>\n",
       "      <td>Ontario</td>\n",
       "    </tr>\n",
       "    <tr>\n",
       "      <th>1607</th>\n",
       "      <td>-119.6500</td>\n",
       "      <td>49.8700</td>\n",
       "      <td>1651</td>\n",
       "      <td>{572D3592-534B-4B16-8AB6-47DD13EA9954}</td>\n",
       "      <td>2022/12/19 17:00:00+00</td>\n",
       "      <td>2022</td>\n",
       "      <td>West Kelowna</td>\n",
       "      <td>final_classification_completed</td>\n",
       "      <td>final_rating_completed</td>\n",
       "      <td>Visual Vortex (Unclassified)</td>\n",
       "      <td>...</td>\n",
       "      <td>NaN</td>\n",
       "      <td>NaN</td>\n",
       "      <td>19</td>\n",
       "      <td>Dec</td>\n",
       "      <td>2100</td>\n",
       "      <td>PDT</td>\n",
       "      <td>0</td>\n",
       "      <td>unknown</td>\n",
       "      <td>NaN</td>\n",
       "      <td>British Columbia</td>\n",
       "    </tr>\n",
       "    <tr>\n",
       "      <th>1698</th>\n",
       "      <td>-104.2829</td>\n",
       "      <td>50.4128</td>\n",
       "      <td>1743</td>\n",
       "      <td>{5D72385B-346E-460B-87A2-499D614D89E5}</td>\n",
       "      <td>2023/05/27 15:59:59+00</td>\n",
       "      <td>2023</td>\n",
       "      <td>Jameson</td>\n",
       "      <td>final_classification_completed</td>\n",
       "      <td>final_rating_completed</td>\n",
       "      <td>Downburst</td>\n",
       "      <td>...</td>\n",
       "      <td>NaN</td>\n",
       "      <td>NaN</td>\n",
       "      <td>28</td>\n",
       "      <td>May</td>\n",
       "      <td>730</td>\n",
       "      <td>CST</td>\n",
       "      <td>0</td>\n",
       "      <td>unknown</td>\n",
       "      <td>NaN</td>\n",
       "      <td>Saskatchewan</td>\n",
       "    </tr>\n",
       "    <tr>\n",
       "      <th>1697</th>\n",
       "      <td>-104.5500</td>\n",
       "      <td>50.3600</td>\n",
       "      <td>1742</td>\n",
       "      <td>{09914267-9EB6-4C10-8BF0-225950504CEA}</td>\n",
       "      <td>2023/05/27 15:59:59+00</td>\n",
       "      <td>2023</td>\n",
       "      <td>Rowatt</td>\n",
       "      <td>final_classification_completed</td>\n",
       "      <td>preliminary_rating_completed</td>\n",
       "      <td>Tornado (Land)</td>\n",
       "      <td>...</td>\n",
       "      <td>NaN</td>\n",
       "      <td>NaN</td>\n",
       "      <td>27</td>\n",
       "      <td>May</td>\n",
       "      <td>252</td>\n",
       "      <td>CST</td>\n",
       "      <td>0</td>\n",
       "      <td>unknown</td>\n",
       "      <td>NaN</td>\n",
       "      <td>Saskatchewan</td>\n",
       "    </tr>\n",
       "    <tr>\n",
       "      <th>1699</th>\n",
       "      <td>-112.5490</td>\n",
       "      <td>52.3580</td>\n",
       "      <td>1744</td>\n",
       "      <td>{17A191F4-DF46-4A29-8321-7057B2E1E71D}</td>\n",
       "      <td>2023/05/31 15:59:59+00</td>\n",
       "      <td>2023</td>\n",
       "      <td>Botha</td>\n",
       "      <td>final_classification_completed</td>\n",
       "      <td>final_rating_completed</td>\n",
       "      <td>Tornado (Land)</td>\n",
       "      <td>...</td>\n",
       "      <td>NaN</td>\n",
       "      <td>NaN</td>\n",
       "      <td>31</td>\n",
       "      <td>May</td>\n",
       "      <td>2235</td>\n",
       "      <td>MDT</td>\n",
       "      <td>0</td>\n",
       "      <td>unknown</td>\n",
       "      <td>NaN</td>\n",
       "      <td>Alberta</td>\n",
       "    </tr>\n",
       "  </tbody>\n",
       "</table>\n",
       "<p>1357 rows × 43 columns</p>\n",
       "</div>"
      ],
      "text/plain": [
       "             X        Y  objectid                                globalid   \n",
       "1690  -81.1471  43.0486      1735  {DCC365EC-4863-4C45-83BC-65AED8D7EBA6}  \\\n",
       "1687 -105.4383  52.7347      1732  {70BDBAB0-CF2E-4230-8EF7-DD42BE07A2DF}   \n",
       "1688 -105.7941  52.8711      1733  {A6721FCD-E22F-4BDD-81CD-E5ABD7F6C548}   \n",
       "1689 -106.8830  52.5245      1734  {D613217E-5BD0-43B1-8EA8-CF86B6500B46}   \n",
       "1686  -78.5275  48.0605      1731  {A3AB997C-A3C4-4C1D-853B-24EA29A745FE}   \n",
       "...        ...      ...       ...                                     ...   \n",
       "1612  -81.6030  44.2980      1656  {5275D219-5268-4CE6-8A11-925495D879DB}   \n",
       "1607 -119.6500  49.8700      1651  {572D3592-534B-4B16-8AB6-47DD13EA9954}   \n",
       "1698 -104.2829  50.4128      1743  {5D72385B-346E-460B-87A2-499D614D89E5}   \n",
       "1697 -104.5500  50.3600      1742  {09914267-9EB6-4C10-8BF0-225950504CEA}   \n",
       "1699 -112.5490  52.3580      1744  {17A191F4-DF46-4A29-8321-7057B2E1E71D}   \n",
       "\n",
       "                       _date  Year     event_name   \n",
       "1690  2017/04/11 17:00:00+00  2017         London  \\\n",
       "1687  2017/05/14 17:00:00+00  2017           Tway   \n",
       "1688  2017/05/14 17:00:00+00  2017           Hoey   \n",
       "1689  2017/05/14 17:00:00+00  2017        Hepburn   \n",
       "1686  2017/05/29 17:00:00+00  2017  Lac Montanier   \n",
       "...                      ...   ...            ...   \n",
       "1612  2022/12/18 17:00:00+00  2022     Inverhuron   \n",
       "1607  2022/12/19 17:00:00+00  2022   West Kelowna   \n",
       "1698  2023/05/27 15:59:59+00  2023        Jameson   \n",
       "1697  2023/05/27 15:59:59+00  2023         Rowatt   \n",
       "1699  2023/05/31 15:59:59+00  2023          Botha   \n",
       "\n",
       "               classification_status                 rating_status   \n",
       "1690  final_classification_completed        final_rating_completed  \\\n",
       "1687  final_classification_completed        final_rating_completed   \n",
       "1688  final_classification_completed        final_rating_completed   \n",
       "1689  final_classification_completed        final_rating_completed   \n",
       "1686  final_classification_completed        final_rating_completed   \n",
       "...                              ...                           ...   \n",
       "1612  final_classification_completed        final_rating_completed   \n",
       "1607  final_classification_completed        final_rating_completed   \n",
       "1698  final_classification_completed        final_rating_completed   \n",
       "1697  final_classification_completed  preliminary_rating_completed   \n",
       "1699  final_classification_completed        final_rating_completed   \n",
       "\n",
       "                        event_type  ... uniqueID mean_motion_from day month   \n",
       "1690                Tornado (Land)  ...      NaN            250.0  11   Apr  \\\n",
       "1687                Tornado (Land)  ...      NaN              NaN  14   May   \n",
       "1688                Tornado (Land)  ...      NaN              NaN  14   May   \n",
       "1689                Tornado (Land)  ...      NaN              NaN  14   May   \n",
       "1686                Tornado (Land)  ...      NaN            210.0  29   May   \n",
       "...                            ...  ...      ...              ...  ..   ...   \n",
       "1612                        Vortex  ...      NaN              NaN  18   Dec   \n",
       "1607  Visual Vortex (Unclassified)  ...      NaN              NaN  19   Dec   \n",
       "1698                     Downburst  ...      NaN              NaN  28   May   \n",
       "1697                Tornado (Land)  ...      NaN              NaN  27   May   \n",
       "1699                Tornado (Land)  ...      NaN              NaN  31   May   \n",
       "\n",
       "     timeUTC timezone fatalities_text damage_cost_text   \n",
       "1690    2000      EDT               0          unknown  \\\n",
       "1687    2230      CST               0          unknown   \n",
       "1688    2059      CST               0          unknown   \n",
       "1689    2040      CST               0          unknown   \n",
       "1686    2210      EDT               0          unknown   \n",
       "...      ...      ...             ...              ...   \n",
       "1612    1309      EST               0          unknown   \n",
       "1607    2100      PDT               0          unknown   \n",
       "1698     730      CST               0          unknown   \n",
       "1697     252      CST               0          unknown   \n",
       "1699    2235      MDT               0          unknown   \n",
       "\n",
       "     EventSummaryMapProvided          Province  \n",
       "1690                      no           Ontario  \n",
       "1687                      no      Saskatchewan  \n",
       "1688                      no      Saskatchewan  \n",
       "1689                      no      Saskatchewan  \n",
       "1686                      no            Québec  \n",
       "...                      ...               ...  \n",
       "1612                      no           Ontario  \n",
       "1607                     NaN  British Columbia  \n",
       "1698                     NaN      Saskatchewan  \n",
       "1697                     NaN      Saskatchewan  \n",
       "1699                     NaN           Alberta  \n",
       "\n",
       "[1357 rows x 43 columns]"
      ]
     },
     "execution_count": 11,
     "metadata": {},
     "output_type": "execute_result"
    }
   ],
   "source": [
    "provinces = []\n",
    "headers = requests.utils.default_headers()\n",
    "headers.update(\n",
    "    {\n",
    "        'User-Agent': 'Callysto-Tornadoes',\n",
    "    }\n",
    ")\n",
    "\n",
    "for i,row in dataset.iterrows():\n",
    "    url = \"https://nominatim.openstreetmap.org/reverse?format=jsonv2&lat=\" + str(row['Y']) + \"&lon=\" + str(row['X'])\n",
    "    \n",
    "    success = False\n",
    "    while not success:\n",
    "        try:\n",
    "            result = requests.get(url=url,headers=headers)\n",
    "            result_json = result.json()\n",
    "            province = result_json['address']['state']\n",
    "            provinces.append(province)\n",
    "            success = True\n",
    "        except:\n",
    "            print(url)\n",
    "\n",
    "dataset['Province'] = provinces\n",
    "dataset.to_csv('tornadoes.csv',index=False)\n",
    "dataset "
   ]
  },
  {
   "cell_type": "code",
   "execution_count": 6,
   "metadata": {},
   "outputs": [
    {
     "data": {
      "application/vnd.plotly.v1+json": {
       "config": {
        "plotlyServerURL": "https://plot.ly"
       },
       "data": [
        {
         "hovertemplate": "Year=%{x}<br>Number of Tornadoes=%{y}<extra></extra>",
         "legendgroup": "",
         "line": {
          "color": "#636efa",
          "dash": "solid"
         },
         "marker": {
          "symbol": "circle"
         },
         "mode": "lines",
         "name": "",
         "orientation": "v",
         "showlegend": false,
         "type": "scatter",
         "x": [
          2017,
          2018,
          2019,
          2020,
          2021,
          2022,
          2023
         ],
         "xaxis": "x",
         "y": [
          70,
          103,
          363,
          439,
          420,
          302,
          3
         ],
         "yaxis": "y"
        }
       ],
       "layout": {
        "legend": {
         "tracegroupgap": 0
        },
        "margin": {
         "t": 60
        },
        "template": {
         "data": {
          "bar": [
           {
            "error_x": {
             "color": "#2a3f5f"
            },
            "error_y": {
             "color": "#2a3f5f"
            },
            "marker": {
             "line": {
              "color": "#E5ECF6",
              "width": 0.5
             },
             "pattern": {
              "fillmode": "overlay",
              "size": 10,
              "solidity": 0.2
             }
            },
            "type": "bar"
           }
          ],
          "barpolar": [
           {
            "marker": {
             "line": {
              "color": "#E5ECF6",
              "width": 0.5
             },
             "pattern": {
              "fillmode": "overlay",
              "size": 10,
              "solidity": 0.2
             }
            },
            "type": "barpolar"
           }
          ],
          "carpet": [
           {
            "aaxis": {
             "endlinecolor": "#2a3f5f",
             "gridcolor": "white",
             "linecolor": "white",
             "minorgridcolor": "white",
             "startlinecolor": "#2a3f5f"
            },
            "baxis": {
             "endlinecolor": "#2a3f5f",
             "gridcolor": "white",
             "linecolor": "white",
             "minorgridcolor": "white",
             "startlinecolor": "#2a3f5f"
            },
            "type": "carpet"
           }
          ],
          "choropleth": [
           {
            "colorbar": {
             "outlinewidth": 0,
             "ticks": ""
            },
            "type": "choropleth"
           }
          ],
          "contour": [
           {
            "colorbar": {
             "outlinewidth": 0,
             "ticks": ""
            },
            "colorscale": [
             [
              0,
              "#0d0887"
             ],
             [
              0.1111111111111111,
              "#46039f"
             ],
             [
              0.2222222222222222,
              "#7201a8"
             ],
             [
              0.3333333333333333,
              "#9c179e"
             ],
             [
              0.4444444444444444,
              "#bd3786"
             ],
             [
              0.5555555555555556,
              "#d8576b"
             ],
             [
              0.6666666666666666,
              "#ed7953"
             ],
             [
              0.7777777777777778,
              "#fb9f3a"
             ],
             [
              0.8888888888888888,
              "#fdca26"
             ],
             [
              1,
              "#f0f921"
             ]
            ],
            "type": "contour"
           }
          ],
          "contourcarpet": [
           {
            "colorbar": {
             "outlinewidth": 0,
             "ticks": ""
            },
            "type": "contourcarpet"
           }
          ],
          "heatmap": [
           {
            "colorbar": {
             "outlinewidth": 0,
             "ticks": ""
            },
            "colorscale": [
             [
              0,
              "#0d0887"
             ],
             [
              0.1111111111111111,
              "#46039f"
             ],
             [
              0.2222222222222222,
              "#7201a8"
             ],
             [
              0.3333333333333333,
              "#9c179e"
             ],
             [
              0.4444444444444444,
              "#bd3786"
             ],
             [
              0.5555555555555556,
              "#d8576b"
             ],
             [
              0.6666666666666666,
              "#ed7953"
             ],
             [
              0.7777777777777778,
              "#fb9f3a"
             ],
             [
              0.8888888888888888,
              "#fdca26"
             ],
             [
              1,
              "#f0f921"
             ]
            ],
            "type": "heatmap"
           }
          ],
          "heatmapgl": [
           {
            "colorbar": {
             "outlinewidth": 0,
             "ticks": ""
            },
            "colorscale": [
             [
              0,
              "#0d0887"
             ],
             [
              0.1111111111111111,
              "#46039f"
             ],
             [
              0.2222222222222222,
              "#7201a8"
             ],
             [
              0.3333333333333333,
              "#9c179e"
             ],
             [
              0.4444444444444444,
              "#bd3786"
             ],
             [
              0.5555555555555556,
              "#d8576b"
             ],
             [
              0.6666666666666666,
              "#ed7953"
             ],
             [
              0.7777777777777778,
              "#fb9f3a"
             ],
             [
              0.8888888888888888,
              "#fdca26"
             ],
             [
              1,
              "#f0f921"
             ]
            ],
            "type": "heatmapgl"
           }
          ],
          "histogram": [
           {
            "marker": {
             "pattern": {
              "fillmode": "overlay",
              "size": 10,
              "solidity": 0.2
             }
            },
            "type": "histogram"
           }
          ],
          "histogram2d": [
           {
            "colorbar": {
             "outlinewidth": 0,
             "ticks": ""
            },
            "colorscale": [
             [
              0,
              "#0d0887"
             ],
             [
              0.1111111111111111,
              "#46039f"
             ],
             [
              0.2222222222222222,
              "#7201a8"
             ],
             [
              0.3333333333333333,
              "#9c179e"
             ],
             [
              0.4444444444444444,
              "#bd3786"
             ],
             [
              0.5555555555555556,
              "#d8576b"
             ],
             [
              0.6666666666666666,
              "#ed7953"
             ],
             [
              0.7777777777777778,
              "#fb9f3a"
             ],
             [
              0.8888888888888888,
              "#fdca26"
             ],
             [
              1,
              "#f0f921"
             ]
            ],
            "type": "histogram2d"
           }
          ],
          "histogram2dcontour": [
           {
            "colorbar": {
             "outlinewidth": 0,
             "ticks": ""
            },
            "colorscale": [
             [
              0,
              "#0d0887"
             ],
             [
              0.1111111111111111,
              "#46039f"
             ],
             [
              0.2222222222222222,
              "#7201a8"
             ],
             [
              0.3333333333333333,
              "#9c179e"
             ],
             [
              0.4444444444444444,
              "#bd3786"
             ],
             [
              0.5555555555555556,
              "#d8576b"
             ],
             [
              0.6666666666666666,
              "#ed7953"
             ],
             [
              0.7777777777777778,
              "#fb9f3a"
             ],
             [
              0.8888888888888888,
              "#fdca26"
             ],
             [
              1,
              "#f0f921"
             ]
            ],
            "type": "histogram2dcontour"
           }
          ],
          "mesh3d": [
           {
            "colorbar": {
             "outlinewidth": 0,
             "ticks": ""
            },
            "type": "mesh3d"
           }
          ],
          "parcoords": [
           {
            "line": {
             "colorbar": {
              "outlinewidth": 0,
              "ticks": ""
             }
            },
            "type": "parcoords"
           }
          ],
          "pie": [
           {
            "automargin": true,
            "type": "pie"
           }
          ],
          "scatter": [
           {
            "fillpattern": {
             "fillmode": "overlay",
             "size": 10,
             "solidity": 0.2
            },
            "type": "scatter"
           }
          ],
          "scatter3d": [
           {
            "line": {
             "colorbar": {
              "outlinewidth": 0,
              "ticks": ""
             }
            },
            "marker": {
             "colorbar": {
              "outlinewidth": 0,
              "ticks": ""
             }
            },
            "type": "scatter3d"
           }
          ],
          "scattercarpet": [
           {
            "marker": {
             "colorbar": {
              "outlinewidth": 0,
              "ticks": ""
             }
            },
            "type": "scattercarpet"
           }
          ],
          "scattergeo": [
           {
            "marker": {
             "colorbar": {
              "outlinewidth": 0,
              "ticks": ""
             }
            },
            "type": "scattergeo"
           }
          ],
          "scattergl": [
           {
            "marker": {
             "colorbar": {
              "outlinewidth": 0,
              "ticks": ""
             }
            },
            "type": "scattergl"
           }
          ],
          "scattermapbox": [
           {
            "marker": {
             "colorbar": {
              "outlinewidth": 0,
              "ticks": ""
             }
            },
            "type": "scattermapbox"
           }
          ],
          "scatterpolar": [
           {
            "marker": {
             "colorbar": {
              "outlinewidth": 0,
              "ticks": ""
             }
            },
            "type": "scatterpolar"
           }
          ],
          "scatterpolargl": [
           {
            "marker": {
             "colorbar": {
              "outlinewidth": 0,
              "ticks": ""
             }
            },
            "type": "scatterpolargl"
           }
          ],
          "scatterternary": [
           {
            "marker": {
             "colorbar": {
              "outlinewidth": 0,
              "ticks": ""
             }
            },
            "type": "scatterternary"
           }
          ],
          "surface": [
           {
            "colorbar": {
             "outlinewidth": 0,
             "ticks": ""
            },
            "colorscale": [
             [
              0,
              "#0d0887"
             ],
             [
              0.1111111111111111,
              "#46039f"
             ],
             [
              0.2222222222222222,
              "#7201a8"
             ],
             [
              0.3333333333333333,
              "#9c179e"
             ],
             [
              0.4444444444444444,
              "#bd3786"
             ],
             [
              0.5555555555555556,
              "#d8576b"
             ],
             [
              0.6666666666666666,
              "#ed7953"
             ],
             [
              0.7777777777777778,
              "#fb9f3a"
             ],
             [
              0.8888888888888888,
              "#fdca26"
             ],
             [
              1,
              "#f0f921"
             ]
            ],
            "type": "surface"
           }
          ],
          "table": [
           {
            "cells": {
             "fill": {
              "color": "#EBF0F8"
             },
             "line": {
              "color": "white"
             }
            },
            "header": {
             "fill": {
              "color": "#C8D4E3"
             },
             "line": {
              "color": "white"
             }
            },
            "type": "table"
           }
          ]
         },
         "layout": {
          "annotationdefaults": {
           "arrowcolor": "#2a3f5f",
           "arrowhead": 0,
           "arrowwidth": 1
          },
          "autotypenumbers": "strict",
          "coloraxis": {
           "colorbar": {
            "outlinewidth": 0,
            "ticks": ""
           }
          },
          "colorscale": {
           "diverging": [
            [
             0,
             "#8e0152"
            ],
            [
             0.1,
             "#c51b7d"
            ],
            [
             0.2,
             "#de77ae"
            ],
            [
             0.3,
             "#f1b6da"
            ],
            [
             0.4,
             "#fde0ef"
            ],
            [
             0.5,
             "#f7f7f7"
            ],
            [
             0.6,
             "#e6f5d0"
            ],
            [
             0.7,
             "#b8e186"
            ],
            [
             0.8,
             "#7fbc41"
            ],
            [
             0.9,
             "#4d9221"
            ],
            [
             1,
             "#276419"
            ]
           ],
           "sequential": [
            [
             0,
             "#0d0887"
            ],
            [
             0.1111111111111111,
             "#46039f"
            ],
            [
             0.2222222222222222,
             "#7201a8"
            ],
            [
             0.3333333333333333,
             "#9c179e"
            ],
            [
             0.4444444444444444,
             "#bd3786"
            ],
            [
             0.5555555555555556,
             "#d8576b"
            ],
            [
             0.6666666666666666,
             "#ed7953"
            ],
            [
             0.7777777777777778,
             "#fb9f3a"
            ],
            [
             0.8888888888888888,
             "#fdca26"
            ],
            [
             1,
             "#f0f921"
            ]
           ],
           "sequentialminus": [
            [
             0,
             "#0d0887"
            ],
            [
             0.1111111111111111,
             "#46039f"
            ],
            [
             0.2222222222222222,
             "#7201a8"
            ],
            [
             0.3333333333333333,
             "#9c179e"
            ],
            [
             0.4444444444444444,
             "#bd3786"
            ],
            [
             0.5555555555555556,
             "#d8576b"
            ],
            [
             0.6666666666666666,
             "#ed7953"
            ],
            [
             0.7777777777777778,
             "#fb9f3a"
            ],
            [
             0.8888888888888888,
             "#fdca26"
            ],
            [
             1,
             "#f0f921"
            ]
           ]
          },
          "colorway": [
           "#636efa",
           "#EF553B",
           "#00cc96",
           "#ab63fa",
           "#FFA15A",
           "#19d3f3",
           "#FF6692",
           "#B6E880",
           "#FF97FF",
           "#FECB52"
          ],
          "font": {
           "color": "#2a3f5f"
          },
          "geo": {
           "bgcolor": "white",
           "lakecolor": "white",
           "landcolor": "#E5ECF6",
           "showlakes": true,
           "showland": true,
           "subunitcolor": "white"
          },
          "hoverlabel": {
           "align": "left"
          },
          "hovermode": "closest",
          "mapbox": {
           "style": "light"
          },
          "paper_bgcolor": "white",
          "plot_bgcolor": "#E5ECF6",
          "polar": {
           "angularaxis": {
            "gridcolor": "white",
            "linecolor": "white",
            "ticks": ""
           },
           "bgcolor": "#E5ECF6",
           "radialaxis": {
            "gridcolor": "white",
            "linecolor": "white",
            "ticks": ""
           }
          },
          "scene": {
           "xaxis": {
            "backgroundcolor": "#E5ECF6",
            "gridcolor": "white",
            "gridwidth": 2,
            "linecolor": "white",
            "showbackground": true,
            "ticks": "",
            "zerolinecolor": "white"
           },
           "yaxis": {
            "backgroundcolor": "#E5ECF6",
            "gridcolor": "white",
            "gridwidth": 2,
            "linecolor": "white",
            "showbackground": true,
            "ticks": "",
            "zerolinecolor": "white"
           },
           "zaxis": {
            "backgroundcolor": "#E5ECF6",
            "gridcolor": "white",
            "gridwidth": 2,
            "linecolor": "white",
            "showbackground": true,
            "ticks": "",
            "zerolinecolor": "white"
           }
          },
          "shapedefaults": {
           "line": {
            "color": "#2a3f5f"
           }
          },
          "ternary": {
           "aaxis": {
            "gridcolor": "white",
            "linecolor": "white",
            "ticks": ""
           },
           "baxis": {
            "gridcolor": "white",
            "linecolor": "white",
            "ticks": ""
           },
           "bgcolor": "#E5ECF6",
           "caxis": {
            "gridcolor": "white",
            "linecolor": "white",
            "ticks": ""
           }
          },
          "title": {
           "x": 0.05
          },
          "xaxis": {
           "automargin": true,
           "gridcolor": "white",
           "linecolor": "white",
           "ticks": "",
           "title": {
            "standoff": 15
           },
           "zerolinecolor": "white",
           "zerolinewidth": 2
          },
          "yaxis": {
           "automargin": true,
           "gridcolor": "white",
           "linecolor": "white",
           "ticks": "",
           "title": {
            "standoff": 15
           },
           "zerolinecolor": "white",
           "zerolinewidth": 2
          }
         }
        },
        "xaxis": {
         "anchor": "y",
         "domain": [
          0,
          1
         ],
         "title": {
          "text": "Year"
         }
        },
        "yaxis": {
         "anchor": "x",
         "domain": [
          0,
          1
         ],
         "title": {
          "text": "Number of Tornadoes"
         }
        }
       }
      }
     },
     "metadata": {},
     "output_type": "display_data"
    }
   ],
   "source": [
    "per_year = dataset.groupby('Year')['event_name'].count().reset_index(name='Number of Tornadoes')\n",
    "px.line(per_year,x='Year',y='Number of Tornadoes',title='Number of Tornadoes in North America per year')"
   ]
  },
  {
   "cell_type": "code",
   "execution_count": 7,
   "metadata": {},
   "outputs": [
    {
     "data": {
      "application/vnd.plotly.v1+json": {
       "config": {
        "plotlyServerURL": "https://plot.ly"
       },
       "data": [
        {
         "alignmentgroup": "True",
         "hovertemplate": "month=Apr<br>Year=%{x}<br>Number of Tornadoes=%{y}<extra></extra>",
         "legendgroup": "Apr",
         "marker": {
          "color": "#636efa",
          "pattern": {
           "shape": ""
          }
         },
         "name": "Apr",
         "offsetgroup": "Apr",
         "orientation": "v",
         "showlegend": true,
         "textposition": "auto",
         "type": "bar",
         "x": [
          2017,
          2019,
          2020,
          2021,
          2022
         ],
         "xaxis": "x",
         "y": [
          1,
          4,
          3,
          7,
          2
         ],
         "yaxis": "y"
        },
        {
         "alignmentgroup": "True",
         "hovertemplate": "month=Aug<br>Year=%{x}<br>Number of Tornadoes=%{y}<extra></extra>",
         "legendgroup": "Aug",
         "marker": {
          "color": "#EF553B",
          "pattern": {
           "shape": ""
          }
         },
         "name": "Aug",
         "offsetgroup": "Aug",
         "orientation": "v",
         "showlegend": true,
         "textposition": "auto",
         "type": "bar",
         "x": [
          2017,
          2018,
          2019,
          2020,
          2021,
          2022
         ],
         "xaxis": "x",
         "y": [
          12,
          18,
          43,
          85,
          95,
          63
         ],
         "yaxis": "y"
        },
        {
         "alignmentgroup": "True",
         "hovertemplate": "month=Jul<br>Year=%{x}<br>Number of Tornadoes=%{y}<extra></extra>",
         "legendgroup": "Jul",
         "marker": {
          "color": "#00cc96",
          "pattern": {
           "shape": ""
          }
         },
         "name": "Jul",
         "offsetgroup": "Jul",
         "orientation": "v",
         "showlegend": true,
         "textposition": "auto",
         "type": "bar",
         "x": [
          2017,
          2018,
          2019,
          2020,
          2021,
          2022
         ],
         "xaxis": "x",
         "y": [
          20,
          28,
          182,
          130,
          94,
          119
         ],
         "yaxis": "y"
        },
        {
         "alignmentgroup": "True",
         "hovertemplate": "month=June<br>Year=%{x}<br>Number of Tornadoes=%{y}<extra></extra>",
         "legendgroup": "June",
         "marker": {
          "color": "#ab63fa",
          "pattern": {
           "shape": ""
          }
         },
         "name": "June",
         "offsetgroup": "June",
         "orientation": "v",
         "showlegend": true,
         "textposition": "auto",
         "type": "bar",
         "x": [
          2017,
          2018,
          2019,
          2020,
          2021,
          2022
         ],
         "xaxis": "x",
         "y": [
          28,
          15,
          76,
          132,
          124,
          63
         ],
         "yaxis": "y"
        },
        {
         "alignmentgroup": "True",
         "hovertemplate": "month=May<br>Year=%{x}<br>Number of Tornadoes=%{y}<extra></extra>",
         "legendgroup": "May",
         "marker": {
          "color": "#FFA15A",
          "pattern": {
           "shape": ""
          }
         },
         "name": "May",
         "offsetgroup": "May",
         "orientation": "v",
         "showlegend": true,
         "textposition": "auto",
         "type": "bar",
         "x": [
          2017,
          2018,
          2019,
          2020,
          2021,
          2022,
          2023
         ],
         "xaxis": "x",
         "y": [
          4,
          6,
          25,
          32,
          33,
          37,
          3
         ],
         "yaxis": "y"
        },
        {
         "alignmentgroup": "True",
         "hovertemplate": "month=Oct<br>Year=%{x}<br>Number of Tornadoes=%{y}<extra></extra>",
         "legendgroup": "Oct",
         "marker": {
          "color": "#19d3f3",
          "pattern": {
           "shape": ""
          }
         },
         "name": "Oct",
         "offsetgroup": "Oct",
         "orientation": "v",
         "showlegend": true,
         "textposition": "auto",
         "type": "bar",
         "x": [
          2017,
          2018,
          2019,
          2020,
          2021,
          2022
         ],
         "xaxis": "x",
         "y": [
          3,
          4,
          1,
          34,
          12,
          1
         ],
         "yaxis": "y"
        },
        {
         "alignmentgroup": "True",
         "hovertemplate": "month=Sept<br>Year=%{x}<br>Number of Tornadoes=%{y}<extra></extra>",
         "legendgroup": "Sept",
         "marker": {
          "color": "#FF6692",
          "pattern": {
           "shape": ""
          }
         },
         "name": "Sept",
         "offsetgroup": "Sept",
         "orientation": "v",
         "showlegend": true,
         "textposition": "auto",
         "type": "bar",
         "x": [
          2017,
          2018,
          2019,
          2020,
          2021,
          2022
         ],
         "xaxis": "x",
         "y": [
          2,
          32,
          32,
          17,
          44,
          15
         ],
         "yaxis": "y"
        },
        {
         "alignmentgroup": "True",
         "hovertemplate": "month=Nov<br>Year=%{x}<br>Number of Tornadoes=%{y}<extra></extra>",
         "legendgroup": "Nov",
         "marker": {
          "color": "#B6E880",
          "pattern": {
           "shape": ""
          }
         },
         "name": "Nov",
         "offsetgroup": "Nov",
         "orientation": "v",
         "showlegend": true,
         "textposition": "auto",
         "type": "bar",
         "x": [
          2020,
          2021
         ],
         "xaxis": "x",
         "y": [
          6,
          8
         ],
         "yaxis": "y"
        },
        {
         "alignmentgroup": "True",
         "hovertemplate": "month=Mar<br>Year=%{x}<br>Number of Tornadoes=%{y}<extra></extra>",
         "legendgroup": "Mar",
         "marker": {
          "color": "#FF97FF",
          "pattern": {
           "shape": ""
          }
         },
         "name": "Mar",
         "offsetgroup": "Mar",
         "orientation": "v",
         "showlegend": true,
         "textposition": "auto",
         "type": "bar",
         "x": [
          2021
         ],
         "xaxis": "x",
         "y": [
          2
         ],
         "yaxis": "y"
        },
        {
         "alignmentgroup": "True",
         "hovertemplate": "month=Feb<br>Year=%{x}<br>Number of Tornadoes=%{y}<extra></extra>",
         "legendgroup": "Feb",
         "marker": {
          "color": "#FECB52",
          "pattern": {
           "shape": ""
          }
         },
         "name": "Feb",
         "offsetgroup": "Feb",
         "orientation": "v",
         "showlegend": true,
         "textposition": "auto",
         "type": "bar",
         "x": [
          2021
         ],
         "xaxis": "x",
         "y": [
          1
         ],
         "yaxis": "y"
        },
        {
         "alignmentgroup": "True",
         "hovertemplate": "month=Dec<br>Year=%{x}<br>Number of Tornadoes=%{y}<extra></extra>",
         "legendgroup": "Dec",
         "marker": {
          "color": "#636efa",
          "pattern": {
           "shape": ""
          }
         },
         "name": "Dec",
         "offsetgroup": "Dec",
         "orientation": "v",
         "showlegend": true,
         "textposition": "auto",
         "type": "bar",
         "x": [
          2022
         ],
         "xaxis": "x",
         "y": [
          2
         ],
         "yaxis": "y"
        }
       ],
       "layout": {
        "barmode": "relative",
        "legend": {
         "title": {
          "text": "month"
         },
         "tracegroupgap": 0
        },
        "margin": {
         "t": 60
        },
        "template": {
         "data": {
          "bar": [
           {
            "error_x": {
             "color": "#2a3f5f"
            },
            "error_y": {
             "color": "#2a3f5f"
            },
            "marker": {
             "line": {
              "color": "#E5ECF6",
              "width": 0.5
             },
             "pattern": {
              "fillmode": "overlay",
              "size": 10,
              "solidity": 0.2
             }
            },
            "type": "bar"
           }
          ],
          "barpolar": [
           {
            "marker": {
             "line": {
              "color": "#E5ECF6",
              "width": 0.5
             },
             "pattern": {
              "fillmode": "overlay",
              "size": 10,
              "solidity": 0.2
             }
            },
            "type": "barpolar"
           }
          ],
          "carpet": [
           {
            "aaxis": {
             "endlinecolor": "#2a3f5f",
             "gridcolor": "white",
             "linecolor": "white",
             "minorgridcolor": "white",
             "startlinecolor": "#2a3f5f"
            },
            "baxis": {
             "endlinecolor": "#2a3f5f",
             "gridcolor": "white",
             "linecolor": "white",
             "minorgridcolor": "white",
             "startlinecolor": "#2a3f5f"
            },
            "type": "carpet"
           }
          ],
          "choropleth": [
           {
            "colorbar": {
             "outlinewidth": 0,
             "ticks": ""
            },
            "type": "choropleth"
           }
          ],
          "contour": [
           {
            "colorbar": {
             "outlinewidth": 0,
             "ticks": ""
            },
            "colorscale": [
             [
              0,
              "#0d0887"
             ],
             [
              0.1111111111111111,
              "#46039f"
             ],
             [
              0.2222222222222222,
              "#7201a8"
             ],
             [
              0.3333333333333333,
              "#9c179e"
             ],
             [
              0.4444444444444444,
              "#bd3786"
             ],
             [
              0.5555555555555556,
              "#d8576b"
             ],
             [
              0.6666666666666666,
              "#ed7953"
             ],
             [
              0.7777777777777778,
              "#fb9f3a"
             ],
             [
              0.8888888888888888,
              "#fdca26"
             ],
             [
              1,
              "#f0f921"
             ]
            ],
            "type": "contour"
           }
          ],
          "contourcarpet": [
           {
            "colorbar": {
             "outlinewidth": 0,
             "ticks": ""
            },
            "type": "contourcarpet"
           }
          ],
          "heatmap": [
           {
            "colorbar": {
             "outlinewidth": 0,
             "ticks": ""
            },
            "colorscale": [
             [
              0,
              "#0d0887"
             ],
             [
              0.1111111111111111,
              "#46039f"
             ],
             [
              0.2222222222222222,
              "#7201a8"
             ],
             [
              0.3333333333333333,
              "#9c179e"
             ],
             [
              0.4444444444444444,
              "#bd3786"
             ],
             [
              0.5555555555555556,
              "#d8576b"
             ],
             [
              0.6666666666666666,
              "#ed7953"
             ],
             [
              0.7777777777777778,
              "#fb9f3a"
             ],
             [
              0.8888888888888888,
              "#fdca26"
             ],
             [
              1,
              "#f0f921"
             ]
            ],
            "type": "heatmap"
           }
          ],
          "heatmapgl": [
           {
            "colorbar": {
             "outlinewidth": 0,
             "ticks": ""
            },
            "colorscale": [
             [
              0,
              "#0d0887"
             ],
             [
              0.1111111111111111,
              "#46039f"
             ],
             [
              0.2222222222222222,
              "#7201a8"
             ],
             [
              0.3333333333333333,
              "#9c179e"
             ],
             [
              0.4444444444444444,
              "#bd3786"
             ],
             [
              0.5555555555555556,
              "#d8576b"
             ],
             [
              0.6666666666666666,
              "#ed7953"
             ],
             [
              0.7777777777777778,
              "#fb9f3a"
             ],
             [
              0.8888888888888888,
              "#fdca26"
             ],
             [
              1,
              "#f0f921"
             ]
            ],
            "type": "heatmapgl"
           }
          ],
          "histogram": [
           {
            "marker": {
             "pattern": {
              "fillmode": "overlay",
              "size": 10,
              "solidity": 0.2
             }
            },
            "type": "histogram"
           }
          ],
          "histogram2d": [
           {
            "colorbar": {
             "outlinewidth": 0,
             "ticks": ""
            },
            "colorscale": [
             [
              0,
              "#0d0887"
             ],
             [
              0.1111111111111111,
              "#46039f"
             ],
             [
              0.2222222222222222,
              "#7201a8"
             ],
             [
              0.3333333333333333,
              "#9c179e"
             ],
             [
              0.4444444444444444,
              "#bd3786"
             ],
             [
              0.5555555555555556,
              "#d8576b"
             ],
             [
              0.6666666666666666,
              "#ed7953"
             ],
             [
              0.7777777777777778,
              "#fb9f3a"
             ],
             [
              0.8888888888888888,
              "#fdca26"
             ],
             [
              1,
              "#f0f921"
             ]
            ],
            "type": "histogram2d"
           }
          ],
          "histogram2dcontour": [
           {
            "colorbar": {
             "outlinewidth": 0,
             "ticks": ""
            },
            "colorscale": [
             [
              0,
              "#0d0887"
             ],
             [
              0.1111111111111111,
              "#46039f"
             ],
             [
              0.2222222222222222,
              "#7201a8"
             ],
             [
              0.3333333333333333,
              "#9c179e"
             ],
             [
              0.4444444444444444,
              "#bd3786"
             ],
             [
              0.5555555555555556,
              "#d8576b"
             ],
             [
              0.6666666666666666,
              "#ed7953"
             ],
             [
              0.7777777777777778,
              "#fb9f3a"
             ],
             [
              0.8888888888888888,
              "#fdca26"
             ],
             [
              1,
              "#f0f921"
             ]
            ],
            "type": "histogram2dcontour"
           }
          ],
          "mesh3d": [
           {
            "colorbar": {
             "outlinewidth": 0,
             "ticks": ""
            },
            "type": "mesh3d"
           }
          ],
          "parcoords": [
           {
            "line": {
             "colorbar": {
              "outlinewidth": 0,
              "ticks": ""
             }
            },
            "type": "parcoords"
           }
          ],
          "pie": [
           {
            "automargin": true,
            "type": "pie"
           }
          ],
          "scatter": [
           {
            "fillpattern": {
             "fillmode": "overlay",
             "size": 10,
             "solidity": 0.2
            },
            "type": "scatter"
           }
          ],
          "scatter3d": [
           {
            "line": {
             "colorbar": {
              "outlinewidth": 0,
              "ticks": ""
             }
            },
            "marker": {
             "colorbar": {
              "outlinewidth": 0,
              "ticks": ""
             }
            },
            "type": "scatter3d"
           }
          ],
          "scattercarpet": [
           {
            "marker": {
             "colorbar": {
              "outlinewidth": 0,
              "ticks": ""
             }
            },
            "type": "scattercarpet"
           }
          ],
          "scattergeo": [
           {
            "marker": {
             "colorbar": {
              "outlinewidth": 0,
              "ticks": ""
             }
            },
            "type": "scattergeo"
           }
          ],
          "scattergl": [
           {
            "marker": {
             "colorbar": {
              "outlinewidth": 0,
              "ticks": ""
             }
            },
            "type": "scattergl"
           }
          ],
          "scattermapbox": [
           {
            "marker": {
             "colorbar": {
              "outlinewidth": 0,
              "ticks": ""
             }
            },
            "type": "scattermapbox"
           }
          ],
          "scatterpolar": [
           {
            "marker": {
             "colorbar": {
              "outlinewidth": 0,
              "ticks": ""
             }
            },
            "type": "scatterpolar"
           }
          ],
          "scatterpolargl": [
           {
            "marker": {
             "colorbar": {
              "outlinewidth": 0,
              "ticks": ""
             }
            },
            "type": "scatterpolargl"
           }
          ],
          "scatterternary": [
           {
            "marker": {
             "colorbar": {
              "outlinewidth": 0,
              "ticks": ""
             }
            },
            "type": "scatterternary"
           }
          ],
          "surface": [
           {
            "colorbar": {
             "outlinewidth": 0,
             "ticks": ""
            },
            "colorscale": [
             [
              0,
              "#0d0887"
             ],
             [
              0.1111111111111111,
              "#46039f"
             ],
             [
              0.2222222222222222,
              "#7201a8"
             ],
             [
              0.3333333333333333,
              "#9c179e"
             ],
             [
              0.4444444444444444,
              "#bd3786"
             ],
             [
              0.5555555555555556,
              "#d8576b"
             ],
             [
              0.6666666666666666,
              "#ed7953"
             ],
             [
              0.7777777777777778,
              "#fb9f3a"
             ],
             [
              0.8888888888888888,
              "#fdca26"
             ],
             [
              1,
              "#f0f921"
             ]
            ],
            "type": "surface"
           }
          ],
          "table": [
           {
            "cells": {
             "fill": {
              "color": "#EBF0F8"
             },
             "line": {
              "color": "white"
             }
            },
            "header": {
             "fill": {
              "color": "#C8D4E3"
             },
             "line": {
              "color": "white"
             }
            },
            "type": "table"
           }
          ]
         },
         "layout": {
          "annotationdefaults": {
           "arrowcolor": "#2a3f5f",
           "arrowhead": 0,
           "arrowwidth": 1
          },
          "autotypenumbers": "strict",
          "coloraxis": {
           "colorbar": {
            "outlinewidth": 0,
            "ticks": ""
           }
          },
          "colorscale": {
           "diverging": [
            [
             0,
             "#8e0152"
            ],
            [
             0.1,
             "#c51b7d"
            ],
            [
             0.2,
             "#de77ae"
            ],
            [
             0.3,
             "#f1b6da"
            ],
            [
             0.4,
             "#fde0ef"
            ],
            [
             0.5,
             "#f7f7f7"
            ],
            [
             0.6,
             "#e6f5d0"
            ],
            [
             0.7,
             "#b8e186"
            ],
            [
             0.8,
             "#7fbc41"
            ],
            [
             0.9,
             "#4d9221"
            ],
            [
             1,
             "#276419"
            ]
           ],
           "sequential": [
            [
             0,
             "#0d0887"
            ],
            [
             0.1111111111111111,
             "#46039f"
            ],
            [
             0.2222222222222222,
             "#7201a8"
            ],
            [
             0.3333333333333333,
             "#9c179e"
            ],
            [
             0.4444444444444444,
             "#bd3786"
            ],
            [
             0.5555555555555556,
             "#d8576b"
            ],
            [
             0.6666666666666666,
             "#ed7953"
            ],
            [
             0.7777777777777778,
             "#fb9f3a"
            ],
            [
             0.8888888888888888,
             "#fdca26"
            ],
            [
             1,
             "#f0f921"
            ]
           ],
           "sequentialminus": [
            [
             0,
             "#0d0887"
            ],
            [
             0.1111111111111111,
             "#46039f"
            ],
            [
             0.2222222222222222,
             "#7201a8"
            ],
            [
             0.3333333333333333,
             "#9c179e"
            ],
            [
             0.4444444444444444,
             "#bd3786"
            ],
            [
             0.5555555555555556,
             "#d8576b"
            ],
            [
             0.6666666666666666,
             "#ed7953"
            ],
            [
             0.7777777777777778,
             "#fb9f3a"
            ],
            [
             0.8888888888888888,
             "#fdca26"
            ],
            [
             1,
             "#f0f921"
            ]
           ]
          },
          "colorway": [
           "#636efa",
           "#EF553B",
           "#00cc96",
           "#ab63fa",
           "#FFA15A",
           "#19d3f3",
           "#FF6692",
           "#B6E880",
           "#FF97FF",
           "#FECB52"
          ],
          "font": {
           "color": "#2a3f5f"
          },
          "geo": {
           "bgcolor": "white",
           "lakecolor": "white",
           "landcolor": "#E5ECF6",
           "showlakes": true,
           "showland": true,
           "subunitcolor": "white"
          },
          "hoverlabel": {
           "align": "left"
          },
          "hovermode": "closest",
          "mapbox": {
           "style": "light"
          },
          "paper_bgcolor": "white",
          "plot_bgcolor": "#E5ECF6",
          "polar": {
           "angularaxis": {
            "gridcolor": "white",
            "linecolor": "white",
            "ticks": ""
           },
           "bgcolor": "#E5ECF6",
           "radialaxis": {
            "gridcolor": "white",
            "linecolor": "white",
            "ticks": ""
           }
          },
          "scene": {
           "xaxis": {
            "backgroundcolor": "#E5ECF6",
            "gridcolor": "white",
            "gridwidth": 2,
            "linecolor": "white",
            "showbackground": true,
            "ticks": "",
            "zerolinecolor": "white"
           },
           "yaxis": {
            "backgroundcolor": "#E5ECF6",
            "gridcolor": "white",
            "gridwidth": 2,
            "linecolor": "white",
            "showbackground": true,
            "ticks": "",
            "zerolinecolor": "white"
           },
           "zaxis": {
            "backgroundcolor": "#E5ECF6",
            "gridcolor": "white",
            "gridwidth": 2,
            "linecolor": "white",
            "showbackground": true,
            "ticks": "",
            "zerolinecolor": "white"
           }
          },
          "shapedefaults": {
           "line": {
            "color": "#2a3f5f"
           }
          },
          "ternary": {
           "aaxis": {
            "gridcolor": "white",
            "linecolor": "white",
            "ticks": ""
           },
           "baxis": {
            "gridcolor": "white",
            "linecolor": "white",
            "ticks": ""
           },
           "bgcolor": "#E5ECF6",
           "caxis": {
            "gridcolor": "white",
            "linecolor": "white",
            "ticks": ""
           }
          },
          "title": {
           "x": 0.05
          },
          "xaxis": {
           "automargin": true,
           "gridcolor": "white",
           "linecolor": "white",
           "ticks": "",
           "title": {
            "standoff": 15
           },
           "zerolinecolor": "white",
           "zerolinewidth": 2
          },
          "yaxis": {
           "automargin": true,
           "gridcolor": "white",
           "linecolor": "white",
           "ticks": "",
           "title": {
            "standoff": 15
           },
           "zerolinecolor": "white",
           "zerolinewidth": 2
          }
         }
        },
        "xaxis": {
         "anchor": "y",
         "domain": [
          0,
          1
         ],
         "title": {
          "text": "Year"
         }
        },
        "yaxis": {
         "anchor": "x",
         "domain": [
          0,
          1
         ],
         "title": {
          "text": "Number of Tornadoes"
         }
        }
       }
      }
     },
     "metadata": {},
     "output_type": "display_data"
    }
   ],
   "source": [
    "year_month = dataset.groupby(['Year','month'])['event_name'].count().reset_index(name='Number of Tornadoes')\n",
    "year_month.sort_values('Year',inplace=True)\n",
    "px.bar(year_month,x='Year',y='Number of Tornadoes',color='month',title='Number of Tornadoes per month in each year')"
   ]
  },
  {
   "cell_type": "code",
   "execution_count": 8,
   "metadata": {},
   "outputs": [
    {
     "data": {
      "application/vnd.plotly.v1+json": {
       "config": {
        "plotlyServerURL": "https://plot.ly"
       },
       "data": [
        {
         "hovertemplate": "Year=2017<br>Y=%{lat}<br>X=%{lon}<extra></extra>",
         "lat": [
          43.0486000000001,
          52.7347,
          52.8711000000001,
          52.5245,
          48.0605,
          51.8003,
          53.5161000000001,
          49.7828000000001,
          47.1639000000001,
          47.0761000000001,
          47.0783000000001,
          47.4031000000001,
          46.8914,
          47.4631000000001,
          47.58,
          47.6322000000001,
          48.2955000000001,
          46.864,
          46.6736000000001,
          47.0967000000001,
          47.1704,
          47.1692,
          47.4110000000001,
          47.2675,
          48.3119,
          47.486,
          48.722,
          48.883,
          49.03,
          47.8530000000001,
          47.2094000000001,
          52.7450000000001,
          49.8384,
          53.893,
          49.5170000000001,
          51.0839,
          48.2883,
          52.6853,
          51.2020000000001,
          44.41,
          43.2026000000001,
          53.1733,
          54.6585000000001,
          54.8943,
          54.8346000000001,
          54.796,
          51.931,
          51.917,
          51.8017,
          51.9445000000001,
          52.0712,
          50.3159000000001,
          53.2946000000001,
          45.2048,
          47.5703,
          45.3047,
          45.3806000000001,
          47.2853000000001,
          46.3093000000001,
          43.5671,
          42.0532000000001,
          48.2358,
          45.9061,
          46.8317000000001,
          51.1852000000001,
          57.2894000000001,
          50.4673000000001,
          50.7470000000001,
          46.5694,
          46.8056
         ],
         "legendgroup": "2017",
         "lon": [
          -81.1471,
          -105.4383,
          -105.7941,
          -106.883,
          -78.5275,
          -113.3828,
          -111.1758,
          -92.8029,
          -77.4503,
          -77.3086,
          -77.3933,
          -76.1745,
          -77.7711,
          -76.5307999999999,
          -76.2872,
          -75.2241999999999,
          -73.0554999999999,
          -75.434,
          -75.2130999999999,
          -74.3391999999999,
          -74.1632999999999,
          -74.2585999999999,
          -71.201,
          -73.7155999999999,
          -71.715,
          -73.011,
          -71.799,
          -71.329,
          -70.826,
          -72.414,
          -74.3419,
          -100.6916,
          -82.4553,
          -115.0664,
          -101.91,
          -70.1591999999999,
          -91.2289,
          -115.2075,
          -109.6289,
          -79.21,
          -81.426,
          -114.6747,
          -113.2395,
          -111.1483,
          -111.2387,
          -103.6123,
          -104.726,
          -104.9797,
          -103.5568,
          -104.9608,
          -104.2901,
          -101.8878,
          -99.3704999999999,
          -79.3402,
          -73.8017,
          -79.2189,
          -79.0830999999999,
          -75.0869,
          -70.8767999999999,
          -80.6785,
          -82.5998,
          -77.5196999999999,
          -76.9397,
          -73.9711,
          -90.9267,
          -118.2019,
          -94.9272999999999,
          -111.1825,
          -75.5039,
          -74.0479999999999
         ],
         "marker": {
          "color": "#636efa"
         },
         "mode": "markers",
         "name": "2017",
         "showlegend": true,
         "subplot": "mapbox",
         "type": "scattermapbox"
        },
        {
         "hovertemplate": "Year=2018<br>Y=%{lat}<br>X=%{lon}<extra></extra>",
         "lat": [
          45.7882000000001,
          50.5888,
          50.0327,
          53.0852,
          50.6375,
          53.1924000000001,
          54.6720000000001,
          43.0069,
          42.8724,
          49.0466000000001,
          54.8553000000001,
          47.9039000000001,
          47.907,
          47.8811000000001,
          47.8381000000001,
          49.7185000000001,
          50.7062000000001,
          58.2228000000001,
          58.287,
          56.2319000000001,
          52.1625000000001,
          46.5146,
          51.1168000000001,
          49.2967,
          49.2803000000001,
          53.5922,
          53.6841000000001,
          56.3075000000001,
          54.6345000000001,
          52.3326000000001,
          54.0824000000001,
          49.215,
          50.3743000000001,
          50.3776,
          50.3776,
          50.2466000000001,
          49.3800000000001,
          49.383,
          49.4402000000001,
          49.1767,
          49.2040000000001,
          51.0155,
          51.1192,
          46.3940000000001,
          44.4810000000001,
          45.3593000000001,
          44.496,
          42.3500000000001,
          42.4314000000001,
          47.0639,
          46.9103000000001,
          46.9472000000001,
          50.7611000000001,
          46.405,
          43.1193000000001,
          44.45,
          44.4450000000001,
          43.2130000000001,
          43.212,
          43.2110000000001,
          44.1358000000001,
          44.4686,
          48.9481000000001,
          47.8861000000001,
          46.0210000000001,
          46.008,
          49.0844000000001,
          52.8126,
          48.2522000000001,
          47.8532000000001,
          48.2522000000001,
          47.5531,
          48.44584,
          47.6269,
          47.8275,
          47.1138,
          46.688,
          46.7699000000001,
          47.4148000000001,
          47.7287000000001,
          48.1531000000001,
          48.2186,
          47.4849,
          47.5356,
          47.6744,
          49.2134,
          49.1730000000001,
          49.0231000000001,
          46.4534,
          46.6522000000001,
          45.2736,
          45.9103000000001,
          45.3702000000001,
          45.8665,
          44.7287000000001,
          45.3031,
          42.1203,
          42.1485000000001,
          42.1688,
          43.9110000000001,
          43.91,
          43.909,
          43.912
         ],
         "legendgroup": "2018",
         "lon": [
          -78.7648,
          -104.7424,
          -103.7312,
          -113.8057,
          -101.7935,
          -103.8057,
          -109.832,
          -80.5997,
          -80.1478999999999,
          -100.8804,
          -98.8907,
          -81.3853,
          -81.0058,
          -80.4722,
          -80.079,
          -103.3507,
          -106.0225,
          -118.4564,
          -118.592,
          -115.8375,
          -95.3817,
          -74.1101,
          -102.5785,
          -91.6598,
          -91.6047,
          -92.7397,
          -92.3882,
          -107.6661,
          -101.6485,
          -91.7023,
          -74.8128,
          -105.5231,
          -107.0485,
          -107.7923,
          -107.7923,
          -109.7936,
          -108.04,
          -107.55,
          -106.9744,
          -106.6919,
          -105.793,
          -101.5829,
          -101.4508,
          -73.295,
          -79.2549999999999,
          -76.4995,
          -81.4329999999999,
          -81.5699999999999,
          -81.8049999999999,
          -74.8124999999999,
          -75.9718999999999,
          -75.9152999999999,
          -98.9908,
          -67.4084999999999,
          -80.3651,
          -79.27,
          -79.275,
          -79.5359999999999,
          -79.535,
          -79.5339999999999,
          -78.3199,
          -79.5887,
          -73.6067,
          -72.5125,
          -71.5991,
          -71.9639999999999,
          -91.4808,
          -122.1007,
          -76.6743999999999,
          -78.941,
          -76.6743999999999,
          -76.6319,
          -75.25611,
          -74.1281,
          -76.4863999999999,
          -74.4838,
          -74.9275,
          -74.2077,
          -72.5141,
          -71.5769999999999,
          -75.8953,
          -75.96,
          -72.282,
          -72.0900999999999,
          -71.5647,
          -122.3584,
          -78.9965999999999,
          -76.6125,
          -74.5821999999999,
          -75.9607999999999,
          -76.9243999999999,
          -76.4848,
          -76.2968999999999,
          -75.8325,
          -76.7248,
          -75.8536999999999,
          -83.1122,
          -83.021,
          -82.5563999999999,
          -77.347,
          -77.3459999999999,
          -77.345,
          -77.348
         ],
         "marker": {
          "color": "#EF553B"
         },
         "mode": "markers",
         "name": "2018",
         "showlegend": true,
         "subplot": "mapbox",
         "type": "scattermapbox"
        },
        {
         "hovertemplate": "Year=2019<br>Y=%{lat}<br>X=%{lon}<extra></extra>",
         "lat": [
          50.366,
          53.7259000000001,
          50.71,
          50.595,
          41.97155,
          41.7550600000001,
          49.107,
          50.477,
          50.3990000000001,
          44.77,
          43.30969,
          49.441,
          44.525,
          50.9,
          52.5600000000001,
          50.0500000000001,
          50.35601,
          42.1770000000001,
          49.58327,
          43.2980000000001,
          44.2310000000001,
          50.3323,
          48.1250000000001,
          43.2040000000001,
          43.0500000000001,
          49.5535800000001,
          43.087,
          47.9565000000001,
          47.4507100000001,
          42.02203,
          42.623,
          60.0018000000001,
          45.4669000000001,
          45.5187000000001,
          52.7500000000001,
          51.28,
          49.9810000000001,
          49.7500000000001,
          49.7023300000001,
          50.1442200000001,
          53.5296500000001,
          43.4539,
          51.4831800000001,
          50.9271000000001,
          49.9300000000001,
          51.8320000000001,
          55.3079500000001,
          50.77,
          51.4900000000001,
          46.56789,
          46.5850600000001,
          46.0132300000001,
          46.6257600000001,
          46.14781,
          46.8676600000001,
          46.2054900000001,
          49.7300000000001,
          56.1900000000001,
          49.6800000000001,
          53.45,
          51.45,
          55.3242000000001,
          51.97,
          53.2,
          46.13435,
          55.15,
          51.5656300000001,
          45.74028,
          46.49204,
          47.65457,
          46.93598,
          50.7,
          49.0061200000001,
          49.7464200000001,
          54.6600000000001,
          49.34,
          54.3623000000001,
          54.4611,
          54.5133000000001,
          54.6563,
          54.6624,
          50.5600000000001,
          42.3201500000001,
          55.08,
          50.7272800000001,
          54.6240000000001,
          54.7231,
          55.0086000000001,
          54.328,
          49.03,
          56.3869000000001,
          52.9282600000001,
          45.1300000000001,
          46.60742,
          54.4300000000001,
          54.434,
          54.4484,
          54.4527,
          53.8504300000001,
          44.9799,
          45.30008,
          45.0013900000001,
          54.84,
          54.0400000000001,
          54.05125,
          49.5140000000001,
          49.972,
          50.08,
          51.0500000000001,
          42.15,
          53.6100000000001,
          46.09,
          45.9400000000001,
          45.7059400000001,
          49.2180000000001,
          49.1800000000001,
          45.3885000000001,
          46.6926800000001,
          46.66848,
          45.50723,
          45.57039,
          49.6300000000001,
          45.48733,
          46.0384500000001,
          43.2195,
          46.34455,
          47.0526600000001,
          41.9800000000001,
          50.51,
          53.1274700000001,
          52.489,
          53.3373800000001,
          49.9110000000001,
          50.347,
          53.229,
          53.02,
          51.0400000000001,
          49.1900000000001,
          49.59,
          49.51,
          53.27,
          50.39,
          49.78,
          52.49494,
          54.5077000000001,
          51.6890000000001,
          52.0728700000001,
          45.0102000000001,
          47.0656000000001,
          46.4930900000001,
          45.2511000000001,
          46.2122000000001,
          47.7619,
          45.8686000000001,
          46.19996,
          45.9742200000001,
          56.78,
          56.52,
          45.7925000000001,
          45.8206000000001,
          45.69174,
          50.6799600000001,
          50.6675300000001,
          50.6617000000001,
          50.1105000000001,
          49.1601000000001,
          49.22,
          49.14,
          52.2900000000001,
          49.1000000000001,
          49.3627300000001,
          46.2259100000001,
          50.8456200000001,
          51.4673000000001,
          53.3200000000001,
          51.147,
          46.2300000000001,
          48.8972000000001,
          48.9802000000001,
          49.3214,
          48.9333,
          48.5083300000001,
          51.1056,
          51.0336,
          51.229,
          48.6324000000001,
          49.6825000000001,
          49.5574500000001,
          48.4720800000001,
          50.3500000000001,
          51.4270000000001,
          52.83,
          50.5329300000001,
          50.3200000000001,
          51.28,
          52.1800000000001,
          53.2696000000001,
          44.5085,
          52.6900000000001,
          42.09,
          52.7,
          52.7,
          52.5600000000001,
          51.902,
          48.7414200000001,
          49.6600000000001,
          48.6019000000001,
          51.2900000000001,
          51.33,
          53.02,
          52.6700000000001,
          52.45,
          50.0771,
          50.1366,
          51.0700000000001,
          49.5000000000001,
          49.46,
          51.53,
          50.3137600000001,
          48.633,
          51.2,
          51.205,
          47.3512000000001,
          43.0530000000001,
          43.0743000000001,
          42.9070600000001,
          42.88919,
          53.21,
          42.8566500000001,
          42.8665,
          42.8456800000001,
          49.9,
          45.88147,
          49.5600000000001,
          51.6000000000001,
          49.905,
          49.2857900000001,
          43.2482400000001,
          42.4056200000001,
          46.9254000000001,
          42.1800000000001,
          42.1800000000001,
          47.2029600000001,
          48.2031900000001,
          48.4110900000001,
          47.20642,
          43.14,
          51.7629000000001,
          48.342,
          46.4300000000001,
          54.1261000000001,
          51.8354,
          54.2382000000001,
          54.4568,
          51.2761,
          51.3333700000001,
          54.385,
          50.99379,
          52.7900000000001,
          52.08,
          55.4900000000001,
          52.71,
          48.76,
          48.7347,
          49.08,
          48.3200000000001,
          48.5700000000001,
          48.71,
          48.6100000000001,
          48.1000000000001,
          48.59,
          42.5152,
          48.0881000000001,
          48.3886000000001,
          45.6020100000001,
          52.3100000000001,
          45.0170000000001,
          45.3600000000001,
          45.6900000000001,
          53.51,
          52.2778300000001,
          49.01,
          46.8685,
          45.549,
          49.4314000000001,
          52.34691,
          52.2318000000001,
          55.15,
          49.71,
          54.0600000000001,
          53.4693,
          47.9990000000001,
          42.5500000000001,
          43.08885,
          42.71,
          49.905,
          50.1120100000001,
          41.7930000000001,
          48.45,
          46.93839,
          45.60641,
          45.5017500000001,
          45.38406,
          45.2983800000001,
          45.3441100000001,
          42.0930000000001,
          44.3320000000001,
          44.6007300000001,
          42.0976000000001,
          47.36476,
          47.1000000000001,
          48.0493700000001,
          42.8200000000001,
          48.0832800000001,
          48.83,
          47.50501,
          47.8760600000001,
          48.8594900000001,
          46.5522,
          46.551,
          47.2997,
          46.61508,
          46.6118000000001,
          46.6398,
          46.6800000000001,
          47.5002000000001,
          47.6328,
          49.8000000000001,
          49.9900000000001,
          50.3200000000001,
          50.6612000000001,
          49.6770000000001,
          46.4672,
          46.3011000000001,
          43.2900000000001,
          51.4200000000001,
          51.78,
          50.787,
          42.8600000000001,
          42.8785,
          42.8559000000001,
          42.0845,
          42.2300000000001,
          43.2400000000001,
          42.78,
          49.9900000000001,
          51.1680000000001,
          51.1680000000001,
          51.1680000000001,
          51.0197000000001,
          52.84,
          52.53,
          53.02,
          50.7,
          45.4131600000001,
          45.4770300000001,
          45.5802100000001,
          45.3800000000001,
          44.66,
          43.7300000000001,
          53.78,
          50.84,
          52.5000000000001
         ],
         "legendgroup": "2019",
         "lon": [
          -112,
          -115.9577,
          -112.21,
          -111.954,
          -82.53774,
          -82.6877699999999,
          -97.26,
          -109.491,
          -103.874,
          -76.7,
          -81.77501,
          -98.677,
          -78.724,
          -104.6,
          -107.64,
          -108.54,
          -83.27269,
          -82.8199999999999,
          -82.10443,
          -81.0599999999999,
          -76.585,
          -82.1718499999999,
          -82.456,
          -79.841,
          -79.97,
          -80.76084,
          -79.1489999999999,
          -81.38656,
          -82.42806,
          -83.01127,
          -81.806,
          -111.8947,
          -75.5432,
          -75.2809999999999,
          -107.97,
          -101.71,
          -98.3486,
          -98.35,
          -97.74555,
          -97.0486099999999,
          -86.71347,
          -80.1407,
          -114.28986,
          -113.5427,
          -110.9,
          -114.128,
          -113.85526,
          -114.71,
          -114.54,
          -73.50726,
          -74.30673,
          -72.09678,
          -74.42009,
          -72.1575599999999,
          -73.94793,
          -73.81828,
          -113.47,
          -117.61,
          -96.71,
          -112.13,
          -99.3,
          -118.781,
          -114.47,
          -113.54,
          -76.9490699999999,
          -118.85,
          -114.69336,
          -75.7112499999999,
          -73.37152,
          -74.9528099999999,
          -72.74053,
          -113.99,
          -109.40913,
          -108.25153,
          -111.9,
          -119.66,
          -112.9113,
          -112.648,
          -112.3554,
          -111.3746,
          -111.1262,
          -120.63,
          -81.8466,
          -114.06,
          -79.9584,
          -110.165,
          -109.9981,
          -109.3463,
          -109.894,
          -99.41,
          -106.3383,
          -107.77106,
          -77.42,
          -74.5373299999999,
          -109.399,
          -109.408,
          -109.2774,
          -109.4956,
          -107.15928,
          -75.6758,
          -76.02273,
          -76.0552,
          -118.97,
          -105.487,
          -105.09862,
          -109.718,
          -105.763,
          -105.06,
          -92.51,
          -82.97,
          -113.7,
          -66.1999999999999,
          -66.5599999999999,
          -67.5109399999999,
          -105.219,
          -103.682,
          -74.70519,
          -77.58279,
          -80.74995,
          -74.81094,
          -74.3975599999999,
          -108.43,
          -75.25359,
          -76.87843,
          -80.58262,
          -66.8762,
          -67.74227,
          -82.74,
          -105.06,
          -113.11738,
          -113.589,
          -104.05208,
          -106.056,
          -112.898,
          -113.503,
          -112.83,
          -94.53,
          -98.08,
          -97.5699999999999,
          -98.33,
          -113.61,
          -96.3799999999999,
          -104.72,
          -101.58537,
          -118.6912,
          -93.2429999999999,
          -114.50417,
          -77.4487999999999,
          -76.8435499999999,
          -76.12429,
          -77.4266,
          -76.1036,
          -74.6572,
          -75.7397,
          -75.29294,
          -74.71011,
          -118.81,
          -120.82,
          -77.169,
          -73.6645,
          -73.6332,
          -95.2261599999999,
          -95.40269,
          -95.3369,
          -106.00117,
          -105.3678,
          -106.18,
          -105.839,
          -106.62,
          -102.37,
          -102.01281,
          -75.0325799999999,
          -106.0232,
          -114.0071,
          -107.73,
          -108.766,
          -64.28,
          -93.6899999999999,
          -91.2585,
          -91.0944,
          -93.0957999999999,
          -91.2260199999999,
          -93.2172,
          -92.9793999999999,
          -90.23,
          -90.1747,
          -89.4422,
          -88.9010299999999,
          -89.26473,
          -112.81,
          -110.474,
          -114.37,
          -108.22745,
          -104.36,
          -109.994,
          -106.56,
          -122.3943,
          -79.7399,
          -106.31,
          -82.65,
          -105.75,
          -105.74,
          -105.46,
          -103.8,
          -93.23999,
          -94.51,
          -92.8482999999999,
          -98.98,
          -97.58,
          -107.6,
          -106.65,
          -108.18,
          -113.003,
          -112.8892,
          -98.3799999999999,
          -97.48,
          -97.1,
          -100.11,
          -97.99974,
          -91.539,
          -99.73,
          -99.735,
          -71.0439,
          -81.396,
          -79.9241,
          -79.61161,
          -81.13361,
          -113.98,
          -81.05269,
          -81.0308899999999,
          -81.03979,
          -96.84,
          -76.5164599999999,
          -70.4555999999999,
          -114.14,
          -82.3919999999999,
          -71.6172099999999,
          -81.82248,
          -82.1896,
          -73.99593,
          -81.95,
          -81.96,
          -73.76357,
          -70.7307699999999,
          -71.30871,
          -73.4183,
          -80.0699999999999,
          -91.619,
          -91.547,
          -63.6299999999999,
          -112.7583,
          -114.4022,
          -112.5558,
          -110.56033,
          -106.71077,
          -106.58455,
          -108.9256,
          -105.17922,
          -94.8799999999999,
          -93.1299999999999,
          -96.51,
          -90.01,
          -91.2831,
          -91.2069,
          -92.3699999999999,
          -83.15,
          -82.3099999999999,
          -81.8799999999999,
          -81.4999999999999,
          -80.35,
          -80.85,
          -82.0732199999999,
          -78.4972,
          -76.9275,
          -77.37495,
          -114.11,
          -74.716,
          -74.45,
          -72.2599999999999,
          -111.53,
          -110.09343,
          -106.04,
          -72.3944999999999,
          -75.309,
          -98.78111,
          -114.36109,
          -114.2599,
          -119.15,
          -79.41,
          -117.9,
          -114.4963,
          -66.694,
          -82.3799999999999,
          -79.99878,
          -80.16,
          -112.647,
          -92.2245,
          -82.6,
          -81.97,
          -76.43914,
          -75.1118499999999,
          -74.73538,
          -67.4252999999999,
          -74.3574,
          -67.42934,
          -82.736,
          -79.318,
          -79.52982,
          -82.4249,
          -78.8000299999999,
          -79.4999999999999,
          -79.6541099999999,
          -81.47,
          -81.24734,
          -79.3699999999999,
          -75.31718,
          -74.37578,
          -78.503,
          -75.4737,
          -75.3758999999999,
          -74.83455,
          -74.50712,
          -74.9874,
          -74.7274,
          -74.15,
          -73.7026,
          -73.3013,
          -101.4,
          -101.2,
          -100.87,
          -104.8045,
          -103.521,
          -72.1933999999999,
          -70.5542,
          -79.6799999999999,
          -113.15,
          -113.54,
          -112.41,
          -80.73,
          -82.1013,
          -82.1238999999999,
          -83.0513999999999,
          -82.41,
          -81.3,
          -81.15,
          -119.47,
          -111.666,
          -111.616,
          -111.566,
          -93.82312,
          -70.4999999999999,
          -76.04,
          -75.52,
          -82.09,
          -67.39401,
          -65.99562,
          -66.37479,
          -82.0099999999999,
          -80.11,
          -81.85,
          -111.69,
          -112.86,
          -100.87
         ],
         "marker": {
          "color": "#00cc96"
         },
         "mode": "markers",
         "name": "2019",
         "showlegend": true,
         "subplot": "mapbox",
         "type": "scattermapbox"
        },
        {
         "hovertemplate": "Year=2020<br>Y=%{lat}<br>X=%{lon}<extra></extra>",
         "lat": [
          42.0355300000001,
          51.2710000000001,
          50.5498900000001,
          45.847,
          46.6122,
          49.657,
          50.1300000000001,
          49.27,
          51.5000000000001,
          50.135,
          49.9970000000001,
          45.3720000000001,
          49.21,
          52.4060000000001,
          46.5700000000001,
          54.0070000000001,
          50.532,
          49.6920000000001,
          49.51,
          48.4774,
          44.3580000000001,
          44.82088,
          47.66,
          48.573103637,
          44.4400000000001,
          44.4708000000001,
          50.4800000000001,
          50.7230000000001,
          47.3805,
          50.2,
          42.9900000000001,
          44.6129,
          44.8670000000001,
          45.01124,
          51.2404000000001,
          51.7400000000001,
          46.9728000000001,
          43.91,
          43.753,
          42.902499678,
          44.1062143390001,
          43.4400000000001,
          46.0033000000001,
          46.4577,
          46.2719000000001,
          45.941580876,
          46.08,
          45.2500000000001,
          49.09,
          50.72,
          48.869,
          49.0218,
          49.28,
          49.2169000000001,
          49.2245,
          49.2252,
          49.2618000000001,
          49.2526,
          49.2576000000001,
          49.2606000000001,
          49.2172,
          49.2636000000001,
          49.2287000000001,
          49.2302000000001,
          49.2192000000001,
          49.2792000000001,
          49.2545000000001,
          49.2544,
          49.2506000000001,
          49.2708000000001,
          49.2719000000001,
          49.2708000000001,
          49.2354,
          49.2582,
          49.2568000000001,
          49.2546,
          49.2459000000001,
          49.2232000000001,
          49.2445000000001,
          49.2439000000001,
          49.222,
          49.22,
          49.2341000000001,
          49.2288,
          49.2642000000001,
          49.2540000000001,
          49.2300000000001,
          48.9180000000001,
          49.2216000000001,
          49.1121000000001,
          49.1900000000001,
          48.7830000000001,
          45.1800000000001,
          43.7400000000001,
          43.929069988,
          43.8139,
          43.4200000000001,
          43.7628,
          44.0165000000001,
          42.3050000000001,
          44.7611000000001,
          44.8033,
          44.7400000000001,
          42.4,
          42.2660000000001,
          45.0278000000001,
          45.2369,
          42.6951,
          42.4970000000001,
          45.1387,
          45.0286,
          45.3469000000001,
          42.78,
          42.8434,
          45.5742000000001,
          42.9014000000001,
          45.8625000000001,
          51.6617900000001,
          50.6978,
          51.02,
          49.2500000000001,
          49.6410000000001,
          51.1096000000001,
          51.4167,
          50.76,
          51.03,
          53.0153000000001,
          52.52,
          52.7900000000001,
          53.95,
          49.6677000000001,
          49.3297000000001,
          49.6633,
          53.2880000000001,
          55.7400000000001,
          49.8600000000001,
          53.6000000000001,
          50.2500000000001,
          50.2912000000001,
          42.1900000000001,
          43.0640000000001,
          53.938657628,
          43.316,
          44.1482,
          44.9406000000001,
          45.0522,
          45.6200000000001,
          44.1440000000001,
          44.4702,
          49.09,
          48.953,
          51.2495000000001,
          50.6300000000001,
          42.1508000000001,
          44.6079,
          44.6108,
          42.2892000000001,
          42.0380000000001,
          51.7900000000001,
          55.1700000000001,
          50.4800000000001,
          50.0836,
          50.4100000000001,
          45.1370000000001,
          53.0500000000001,
          53.0400000000001,
          42.9990000000001,
          51.265,
          51.26,
          54.304,
          56.22,
          53.5840000000001,
          53.0640000000001,
          52.8856000000001,
          53.2824000000001,
          53.3620000000001,
          52.8756000000001,
          45.5840000000001,
          52.9497000000001,
          49.753,
          49.7260000000001,
          50.76,
          49.5260000000001,
          49.9,
          49.9300000000001,
          49.1900000000001,
          49.0700000000001,
          51.1050000000001,
          51.5650000000001,
          51.5700000000001,
          51.5700000000001,
          51.21,
          51.5500000000001,
          52.2310000000001,
          51.1300000000001,
          49.686865326,
          51.8600000000001,
          50.6410000000001,
          45.297,
          43.6770000000001,
          51.4200000000001,
          42.03,
          51.1700000000001,
          51.1700000000001,
          43.244,
          45.5818,
          49.4100000000001,
          50.4800000000001,
          43.2750332160001,
          43.4760000000001,
          43.09,
          46.26,
          43.8500000000001,
          44.08,
          45.27,
          50.3233000000001,
          49.78,
          49.4300000000001,
          49.1836000000001,
          49.1100000000001,
          49.0679000000001,
          51.14,
          52.2278000000001,
          49.0496000000001,
          51.6379000000001,
          45.8600000000001,
          53.0910000000001,
          43.1370000000001,
          47.2230000000001,
          51.934,
          52.5000000000001,
          53.09,
          51.9,
          48.6211000000001,
          44.7015000000001,
          44.4804,
          43.0810000000001,
          43.1636,
          43.1251,
          43.561,
          43.1578000000001,
          43.2516000000001,
          43.7689,
          42.8860000000001,
          43.21,
          43.2972,
          46.3153,
          43.342,
          43.0692000000001,
          43.5136000000001,
          43.323,
          43.8107000000001,
          43.3279000000001,
          43.7237000000001,
          42.958,
          43.4756,
          42.9186,
          43.0956,
          43.1490000000001,
          43.3700000000001,
          42.9710039330001,
          43.5693000000001,
          47.1420000000001,
          46.1117,
          42.3100000000001,
          50.2581000000001,
          48.9567000000001,
          48.9897,
          49.0125,
          50.2234,
          53.0500000000001,
          51.83,
          52.1700000000001,
          49.1800000000001,
          51.45,
          51.0280000000001,
          51.02,
          54.08,
          53.753,
          51.1000000000001,
          46.4800000000001,
          49.4640000000001,
          49.3947000000001,
          53.39,
          48.5394000000001,
          48.4553000000001,
          49.5692000000001,
          46.8000000000001,
          50.7916000000001,
          45.3028,
          50.6839000000001,
          42.26,
          42.229,
          44.97,
          47.51,
          51.3000000000001,
          51.5661000000001,
          45.9800000000001,
          44.3328000000001,
          44.6594000000001,
          44.9505,
          44.7745,
          43.4900000000001,
          43.5201000000001,
          43.648,
          51.2725,
          51.3700000000001,
          52.5840000000001,
          51.58,
          52.775,
          42.78,
          43.5000000000001,
          42.8670000000001,
          49.84,
          43.8393,
          49.3721,
          43.8100000000001,
          49.15,
          43.2500000000001,
          43.321,
          49.7372,
          42.2,
          49.7836,
          49.7273000000001,
          49.2,
          48.6700000000001,
          50.4689000000001,
          44.1000000000001,
          42.0600000000001,
          42.4900000000001,
          44.5400000000001,
          44.7400000000001,
          44.65,
          44.4900000000001,
          44.4800000000001,
          45.6687000000001,
          42.7640000000001,
          44.6300000000001,
          44.6000000000001,
          43.89,
          43.8700000000001,
          43.8500000000001,
          44.59,
          42.84,
          45.9,
          43.8600000000001,
          43.1800000000001,
          43.1700000000001,
          45.3000000000001,
          48.4557,
          50.65,
          50.3997000000001,
          50.3890000000001,
          50.51,
          52.2969000000001,
          49.8356000000001,
          52.2178000000001,
          50.4800000000001,
          50.1141000000001,
          55.9081,
          56.2523,
          45.7737000000001,
          45.3061000000001,
          48.47,
          43.0032,
          49.0223,
          48.573,
          48.8263000000001,
          48.256,
          47.9355,
          43.1236000000001,
          43.2584000000001,
          43.0834,
          43.0215000000001,
          42.979,
          42.765,
          42.7035000000001,
          42.8440000000001,
          51.9426,
          44.0568000000001,
          43.41,
          51.1600000000001,
          43.9390000000001,
          45.0119,
          44.7864000000001,
          44.7652,
          42.8904000000001,
          42.8500000000001,
          47.6823000000001,
          45.7886,
          49.0687,
          47.1908000000001,
          42.66,
          42.4800000000001,
          43.8600000000001,
          43.8000000000001,
          43.3617,
          43.28,
          42.9200000000001,
          42.4300000000001,
          43.96,
          42.72,
          43.28,
          43.4350000000001,
          43.4200000000001,
          43.4400000000001,
          43.4300000000001,
          43.4250000000001,
          42.6100000000001,
          42.52,
          43.78,
          46.27,
          44.22,
          46.27,
          42.8600000000001,
          46.3000000000001,
          45.8959,
          46.0639,
          46.905,
          46.857,
          46.9289000000001,
          46.7695000000001,
          46.5432000000001,
          42.4900000000001,
          43.9534,
          44.3068000000001,
          44.2477000000001,
          44.3100000000001,
          43.0962000000001,
          44.544,
          42.3056,
          44.6194,
          45.1993849610001,
          42.657,
          42.8921,
          42.9929000000001,
          42.9224,
          42.8921,
          43.6456000000001
         ],
         "legendgroup": "2020",
         "lon": [
          -82.9178899999999,
          -114.414,
          -98.64125,
          -72.422,
          -72.6894,
          -97.133,
          -97.55,
          -97.8199999999999,
          -106.26,
          -97.552,
          -107.756,
          -75.622,
          -123.22,
          -113.103,
          -72.2,
          -113.149,
          -104.649,
          -111.508,
          -123.91,
          -123.3667,
          -79.972,
          -79.37258,
          -81.73,
          -80.985381831,
          -79.59,
          -79.5296999999999,
          -104.43,
          -113.265,
          -72.77904,
          -81.9,
          -81.09,
          -79.5635,
          -79.21,
          -71.79293,
          -113.5278,
          -107.57,
          -82.0070899999999,
          -81.3099999999999,
          -80.936,
          -78.918029502,
          -77.0533830589999,
          -80.6199999999999,
          -66.8703,
          -66.5239,
          -66.383,
          -66.709519913,
          -72.54,
          -74.3799999999999,
          -96.65,
          -113.96,
          -94.627,
          -95.5882,
          -94.03,
          -93.5361,
          -93.5411999999999,
          -93.5484,
          -93.2271,
          -93.2621,
          -93.2146999999999,
          -93.1924,
          -93.5268,
          -93.2155,
          -93.5173,
          -93.5124,
          -93.504,
          -93.2648,
          -93.2705999999999,
          -93.2769,
          -93.3093,
          -93.3292,
          -93.3319999999999,
          -93.3379,
          -93.3663,
          -93.2431,
          -93.3712,
          -93.3828999999999,
          -93.4243,
          -93.4483,
          -93.4491,
          -93.4566,
          -93.4741999999999,
          -93.4834999999999,
          -93.494,
          -93.3724999999999,
          -93.1752999999999,
          -93.3901,
          -93.21,
          -93.2,
          -93.5868,
          -93.5756,
          -91.6,
          -94.1829999999999,
          -81.6199999999999,
          -81.71,
          -81.6995006239999,
          -81.4476,
          -81.64,
          -81.2551,
          -80.9943,
          -83.038,
          -79.813,
          -79.6125,
          -79.8099999999999,
          -82.1899999999999,
          -81.985,
          -79.427,
          -79.2476,
          -81.8421,
          -81.7259999999999,
          -79.1342,
          -79.1025,
          -79.0225,
          -81.1799999999999,
          -81.0971,
          -78.59,
          -80.9619,
          -78.3740999999999,
          -114.52284,
          -115.8881,
          -113.93,
          -112.2,
          -112.33,
          -111.6392,
          -111.4949,
          -108.04,
          -113.47,
          -105.2626,
          -113.73,
          -111.9,
          -113.47,
          -100.6242,
          -98.8357999999999,
          -98.6571,
          -88.3199999999999,
          -120.2,
          -110.69,
          -92.9999999999999,
          -96.33,
          -66.2807999999999,
          -82.58,
          -81.0049999999999,
          -123.787968762,
          -81.3199999999999,
          -79.7631,
          -76.5886,
          -76.2830999999999,
          -75.24,
          -79.4059999999999,
          -78.7071,
          -97.26,
          -71.9367,
          -120.3075,
          -111.94,
          -82.3946999999999,
          -76.1283,
          -76.6654,
          -81.7145,
          -82.74,
          -113.27,
          -118.79,
          -111.65,
          -100.0043,
          -107.24,
          -73.152,
          -111.82,
          -111.82,
          -81.763,
          -113.76,
          -113.76,
          -115.114,
          -120.82,
          -104.14,
          -103.758,
          -103.7224,
          -103.5921,
          -104.033,
          -101.8286,
          -76.812,
          -91.3441,
          -106.967,
          -106.894,
          -119.26,
          -106.053,
          -97.6,
          -98.77,
          -97.4299999999999,
          -97.5699999999999,
          -114.382,
          -114.01,
          -114.015,
          -114.01,
          -113.565,
          -113.67,
          -113.742,
          -113.12,
          -107.136229397,
          -113.3,
          -111.944,
          -73.027,
          -79.501,
          -114.4,
          -83.09,
          -108.64,
          -108.63,
          -81.712,
          -74.5805999999999,
          -105.11,
          -103.88,
          -79.7831721049999,
          -79.86,
          -79.14,
          -79.9,
          -77.61,
          -78.04,
          -76.16,
          -114.0217,
          -103.02,
          -99.35,
          -97.2517,
          -97.34,
          -97.4481,
          -100.02,
          -94.5146999999999,
          -96.8249499999999,
          -101.6647,
          -72.42,
          -113.4677,
          -80.348,
          -74.39,
          -101.239,
          -91.9999999999999,
          -105.64,
          -88.15,
          -91.7823,
          -81.1015,
          -80.9145,
          -82.253,
          -81.9867,
          -81.9589999999999,
          -81.696,
          -81.9510999999999,
          -81.4648,
          -81.4306,
          -81.893,
          -81.5567,
          -81.5928,
          -79.4637999999999,
          -81.49,
          -81.5766,
          -81.3172,
          -81.313,
          -81.0955,
          -81.0411,
          -81.289,
          -81.288,
          -80.9270999999999,
          -81.1623999999999,
          -80.8541999999999,
          -80.7048,
          -80.1969999999999,
          -80.491983907,
          -80.1544,
          -72.8036,
          -77.3172,
          -82.5289999999999,
          -83.8334,
          -79.1797,
          -78.9636,
          -78.8539,
          -82.0137,
          -105.85,
          -103.52,
          -106.47,
          -100.99,
          -114.12,
          -114.199,
          -114.22,
          -108.5,
          -112.779,
          -112.64,
          -70.3,
          -104.567,
          -80.6641999999999,
          -111.17,
          -78.8842,
          -78.705,
          -78.1333,
          -72.8,
          -81.8599,
          -71.4322,
          -79.5031999999999,
          -82.39,
          -82.141,
          -81.2,
          -67.39,
          -103.74,
          -101.8368,
          -81.9299999999999,
          -76.8355999999999,
          -78.9539,
          -75.701,
          -78.6575,
          -81.2599999999999,
          -80.8907,
          -79.5339999999999,
          -112.283,
          -112.26,
          -112.063,
          -111.12,
          -111.692,
          -79.3,
          -79.6899999999999,
          -80.0119999999999,
          -104.16,
          -80.8498999999999,
          -103.5826,
          -79.6799999999999,
          -103.1,
          -79.9399999999999,
          -79.807,
          -101.0407,
          -82.47,
          -100.4047,
          -99.7049,
          -101.79,
          -91.1727999999999,
          -89.4358,
          -81.8799999999999,
          -82.99,
          -82.1,
          -81.49,
          -81.4,
          -81.3,
          -81.53,
          -81.58,
          -76.9546999999999,
          -80.876,
          -80.3699999999999,
          -80.22,
          -81.85,
          -81.85,
          -81.85,
          -80.21,
          -79.0599999999999,
          -73.67,
          -78.21,
          -82.1799999999999,
          -82.1899999999999,
          -73.1799999999999,
          -90.7442,
          -101.32,
          -100.6753,
          -100.548,
          -100.3,
          -105.2156,
          -94.0169,
          -105.0639,
          -100.25,
          -100.0322,
          -120.2537,
          -120.8212,
          -77.0703,
          -74.8271999999999,
          -58.6999999999999,
          -81.9439,
          -80.5991,
          -81.2222,
          -79.426,
          -78.9879,
          -78.8908,
          -80.9213,
          -81.6006,
          -80.4725,
          -80.9598,
          -81.2605,
          -81.1059999999999,
          -81.1512999999999,
          -80.398,
          -103.79475,
          -81.7479,
          -81.8199999999999,
          -119.59,
          -81.60009,
          -74.7757999999999,
          -79.3521,
          -79.3276999999999,
          -79.241,
          -78.9999999999999,
          -78.5185999999999,
          -77.1546999999999,
          -76.8926,
          -72.1169,
          -79.92,
          -80.4,
          -77.49,
          -78.55,
          -80.0325999999999,
          -79.426,
          -79.3699999999999,
          -81.05,
          -81.9399999999999,
          -79.27,
          -79.39,
          -81.85,
          -81.85,
          -81.85,
          -81.85,
          -81.85,
          -80.9299999999999,
          -80.41,
          -81.9999999999999,
          -79.6199999999999,
          -81.74,
          -63.97,
          -79.03,
          -73.4,
          -74.0778,
          -72.0524,
          -84.388,
          -84.415,
          -84.5097,
          -84.3464999999999,
          -84.1688,
          -80.71,
          -80.7331,
          -80.6622,
          -80.6562,
          -80.91,
          -82.0747,
          -80.4689999999999,
          -82.2204,
          -79.2967,
          -79.077128746,
          -80.7929999999999,
          -79.6351999999999,
          -80.8536999999999,
          -80.2882999999999,
          -79.6351999999999,
          -79.9444
         ],
         "marker": {
          "color": "#ab63fa"
         },
         "mode": "markers",
         "name": "2020",
         "showlegend": true,
         "subplot": "mapbox",
         "type": "scattermapbox"
        },
        {
         "hovertemplate": "Year=2021<br>Y=%{lat}<br>X=%{lon}<extra></extra>",
         "lat": [
          50.1200000000001,
          50.3500000000001,
          49.8380000000001,
          42.8200000000001,
          43.08,
          43.3000000000001,
          43.3200000000001,
          43.45,
          42.96,
          42.9400000000001,
          52.1800000000001,
          52.1200000000001,
          52.1900000000001,
          52.9100000000001,
          49.6600000000001,
          49.84,
          50.0700000000001,
          49.8800000000001,
          49.1000000000001,
          51.21,
          49.9100000000001,
          50.2500000000001,
          49.1300000000001,
          49.6600000000001,
          48.71,
          50.5500000000001,
          44.6700000000001,
          52.845,
          52.7500000000001,
          49.28,
          49.9800000000001,
          48.6060000000001,
          50.6000000000001,
          46.3473000000001,
          47.8432000000001,
          48.2,
          47.859,
          47.8914,
          49.2,
          47.5954,
          47.6990000000001,
          53.28,
          55.76,
          50.33,
          49.6000000000001,
          49.89,
          49.4636,
          48.6850000000001,
          48.7359000000001,
          52.52,
          52.27,
          50.5690000000001,
          52.3314,
          45.4880000000001,
          50.0600000000001,
          50.0600000000001,
          50.5760000000001,
          50.95,
          49.5327,
          50.52,
          50.539,
          50.5500000000001,
          50.5500000000001,
          49.563,
          52.3500000000001,
          50.9116000000001,
          52.2,
          51.0961,
          53.33,
          52.8600000000001,
          52.4400000000001,
          45.7300000000001,
          46.5600000000001,
          42.3100000000001,
          43.7430000000001,
          43.9490000000001,
          43.4300000000001,
          49.8100000000001,
          49.83,
          49.84,
          49.0948000000001,
          49.8508,
          49.4077,
          49.5400000000001,
          43.8689000000001,
          49.01,
          49.635,
          49.8100000000001,
          49.8000000000001,
          43.0960000000001,
          42.092,
          42.547,
          42.47,
          51.5194000000001,
          51.4750000000001,
          51.5127000000001,
          45.58,
          52.3750000000001,
          51.6482,
          51.6100000000001,
          45.3190000000001,
          48.72,
          46.797,
          41.955,
          46.5174000000001,
          45.7436000000001,
          45.0790000000001,
          46.5411,
          45.2423000000001,
          45.1295000000001,
          46.5500000000001,
          46.9400000000001,
          45.08,
          46.77,
          45.77,
          45.2173000000001,
          45.91,
          46.83,
          46.41,
          46.8800000000001,
          46.0697000000001,
          46.9900000000001,
          46.4200000000001,
          45.9454000000001,
          46.2147000000001,
          46.4059,
          50.0924000000001,
          50.1108,
          51.7500000000001,
          52.4400000000001,
          51.8800000000001,
          52.0000000000001,
          49.3000000000001,
          45.2854,
          44.0000000000001,
          44.4498,
          50.28,
          47.1100000000001,
          47.2300000000001,
          47.6000000000001,
          51.97,
          43.1700000000001,
          60.3469000000001,
          56.8684000000001,
          46.4674000000001,
          56.5794000000001,
          55.8263000000001,
          56.3928000000001,
          56.6883,
          42.59,
          45.1130000000001,
          45.1320000000001,
          56.5034000000001,
          42.59,
          57.7221000000001,
          57.7795,
          56.6057000000001,
          58.2868,
          58.2228000000001,
          58.0903000000001,
          57.8144,
          57.9958,
          57.5672000000001,
          58.1587000000001,
          58.3902,
          56.0859,
          57.6692,
          42.0121,
          58.5665000000001,
          58.7163,
          58.7753000000001,
          58.8348,
          58.8827000000001,
          58.5599,
          58.7486000000001,
          58.4707000000001,
          58.6617000000001,
          58.8793000000001,
          44.9456000000001,
          44.9292,
          58.5758000000001,
          59.0229,
          54.3960000000001,
          44.5310000000001,
          44.5658000000001,
          42.2879,
          42.7377000000001,
          50.52,
          49.47,
          42.2300000000001,
          49.03,
          50.5500000000001,
          50.7,
          54.7311,
          55.1866000000001,
          44.15,
          45.9941000000001,
          45.9516,
          45.8559000000001,
          44.9900000000001,
          45.8063000000001,
          45.9917,
          45.4686,
          45.7403,
          45.9755000000001,
          44.7445000000001,
          45.7625,
          44.0400000000001,
          45.006,
          44.8344000000001,
          44.5419000000001,
          43.1000000000001,
          46.3000000000001,
          45.6528000000001,
          45.1800000000001,
          45.9339000000001,
          44.4059,
          44.2192000000001,
          44.3337000000001,
          44.2494,
          45.9609,
          45.9406000000001,
          48.0339000000001,
          44.2567000000001,
          45.3268,
          46.2875000000001,
          47.6733,
          47.6308000000001,
          43.6377000000001,
          44.7566,
          49.7260000000001,
          47.4271000000001,
          46.84,
          46.3270000000001,
          45.0741,
          45.6103000000001,
          42.172,
          45.6050000000001,
          45.6273,
          52.4400000000001,
          45.03,
          52.8800000000001,
          45.41,
          45.59,
          44.9300000000001,
          45.27,
          46.4200000000001,
          55.4540000000001,
          44.96,
          55.1700000000001,
          54.198,
          54.655,
          50.6357,
          48.7301,
          44.5765000000001,
          43.5664,
          44.5461000000001,
          42.0729000000001,
          42.299,
          45.224,
          45.6100000000001,
          44.0400000000001,
          43.0400000000001,
          43.14,
          43.1989,
          60.7609,
          42.2300000000001,
          42.2300000000001,
          52.65,
          56.4828000000001,
          55.3077000000001,
          45.3500000000001,
          43.7500000000001,
          44.58,
          49.7,
          45.16,
          52.7300000000001,
          44.7450000000001,
          45.4200000000001,
          43.0452000000001,
          43.1493,
          52.8920000000001,
          52.1194,
          50.8217000000001,
          46.4697,
          46.4585000000001,
          46.345,
          42.1393,
          46.6557000000001,
          46.5449,
          46.3870000000001,
          46.4657,
          46.5274000000001,
          46.2058000000001,
          42.2190000000001,
          46.3511,
          44.6001000000001,
          43.1342000000001,
          46.2902,
          46.0855000000001,
          46.7457000000001,
          46.5237000000001,
          46.5081000000001,
          46.4657,
          42.313,
          42.0616000000001,
          51.4300000000001,
          53.2,
          42.8600000000001,
          50.5356,
          50.1431000000001,
          50.0897000000001,
          42.8600000000001,
          49.9370000000001,
          51.46,
          49.95,
          51.2393000000001,
          48.720725821,
          48.96,
          48.9200000000001,
          47.78,
          49.09,
          48.2306,
          47.0000000000001,
          47.22,
          48.72,
          43.0570000000001,
          47.7980000000001,
          42.5400000000001,
          42.46,
          48.22,
          43.6126,
          48.0702000000001,
          48.8320000000001,
          42.51,
          46.2550000000001,
          43.994,
          47.2583000000001,
          46.5773,
          49.0916,
          47.2844000000001,
          46.8462000000001,
          46.8669,
          48.39,
          46.65,
          49.0164,
          49.1000000000001,
          45.8200000000001,
          51.1333000000001,
          43.8120000000001,
          49.345,
          43.6220000000001,
          47.1575,
          50.2900000000001,
          42.8800000000001,
          55.2219000000001,
          45.8200000000001,
          45.4400000000001,
          44.8500000000001,
          44.84,
          44.84,
          45.2436000000001,
          43.8791000000001,
          46.6870000000001,
          43.9187000000001,
          43.9,
          43.5713000000001,
          43.5399,
          44.0400000000001,
          44.5388,
          42.6628000000001,
          43.7095,
          43.95,
          43.9421,
          44.4495000000001,
          43.955,
          43.9027,
          44.347,
          42.6903,
          45.22,
          44.2286,
          43.6806634060001,
          44.6700000000001,
          44.6700000000001,
          48.8334,
          43.1715,
          42.7775,
          43.147,
          42.8705,
          43.1691000000001,
          43.16,
          42.857,
          43.8769,
          46.0600000000001,
          45.6900000000001,
          43.91,
          44.34,
          45.3200000000001,
          44.2140000000001,
          51.3500000000001,
          46.9400000000001,
          42.7640000000001,
          49.4300000000001,
          44.3700000000001,
          49.2687000000001,
          48.1017000000001,
          42.7285000000001,
          45.9085000000001,
          45.1761000000001,
          45.6034000000001,
          45.0686000000001,
          43.7500000000001,
          49.244,
          49.3347000000001,
          42.41,
          44.8878,
          43.073,
          44.1024,
          43.9178000000001,
          42.9761
         ],
         "legendgroup": "2021",
         "lon": [
          -119.48,
          -125.51,
          -119.622,
          -80.2499999999999,
          -80.4399999999999,
          -81.48,
          -81.64,
          -81.16,
          -81.42,
          -81.85,
          -113.86,
          -106.86,
          -106.8,
          -106.79,
          -96.6899999999999,
          -100.52,
          -112.21,
          -99.97,
          -99.6799999999999,
          -101.38,
          -100.88,
          -97.41,
          -97.8799999999999,
          -96.6899999999999,
          -72.45,
          -98.73,
          -79.49,
          -110.874,
          -111.7,
          -93.85,
          -81.8199999999999,
          -89.6093999999999,
          -97.09,
          -72.5482,
          -79.4949999999999,
          -81.8799999999999,
          -79.1997,
          -78.5282999999999,
          -88.72,
          -83.7157999999999,
          -81.7334,
          -113.83,
          -120.21,
          -83.4399999999999,
          -83.41,
          -82.03,
          -84.6904,
          -89.525,
          -89.454,
          -109.11,
          -107.94,
          -113.67,
          -107.3288,
          -73.982,
          -97.74,
          -97.3199999999999,
          -112.053,
          -110.7151,
          -96.8592,
          -113.84,
          -113.782,
          -113.59,
          -114.16,
          -97.1154,
          -113.54,
          -89.973,
          -88.4999999999999,
          -88.6686,
          -114.41,
          -112.83,
          -112.76,
          -72.8699999999999,
          -72.47,
          -82.2599999999999,
          -81.336,
          -81.381,
          -81.4999999999999,
          -124.77,
          -124.81,
          -124.82,
          -97.5542,
          -93.9342,
          -94.0957999999999,
          -99.45,
          -81.1084999999999,
          -93.22,
          -105.3938,
          -124.7,
          -124.7,
          -81.1589999999999,
          -82.6829999999999,
          -79.7789999999999,
          -82.16,
          -108.2979,
          -108.207,
          -108.6513,
          -72.89,
          -113.999,
          -107.6995,
          -113.55,
          -73.2909999999999,
          -78.2599999999999,
          -67.4929999999999,
          -82.525,
          -71.2179,
          -73.6222,
          -74.177,
          -72.7551999999999,
          -73.1251999999999,
          -73.3403,
          -72.24,
          -70.39,
          -72.6899999999999,
          -71.64,
          -70.6,
          -73.7363999999999,
          -70.7599999999999,
          -67.77,
          -71.0227,
          -67.78,
          -72.1643,
          -72.84,
          -74.6799999999999,
          -72.4093,
          -72.4306,
          -71.0637,
          -91.9072,
          -91.526,
          -111.92,
          -113.57,
          -112.95,
          -112.5,
          -96.59,
          -77.9589,
          -81.5699999999999,
          -80.8533,
          -99.84,
          -72.5599999999999,
          -71.7599999999999,
          -71.73,
          -101.28,
          -81.85,
          -121.7686,
          -120.8912,
          -67.5799,
          -121.2979,
          -121.5827,
          -121.2518,
          -121.1291,
          -82.23,
          -63.3609999999999,
          -63.3566999999999,
          -121.1171,
          -82.24,
          -121.8693,
          -120.1791,
          -120.5379,
          -120.5299,
          -120.8971,
          -120.9388,
          -121.5936,
          -121.3011,
          -122.1579,
          -121.8274,
          -121.4349,
          -121.2377,
          -121.9885,
          -82.9227999999999,
          -118.1815,
          -117.9188,
          -118.4142,
          -118.4428,
          -118.4766,
          -118.4199,
          -119.685,
          -118.5002,
          -117.9331,
          -119.6561,
          -77.1828,
          -77.0458,
          -118.5744,
          -117.7919,
          -126.667,
          -78.739,
          -80.5409999999999,
          -82.6251999999999,
          -81.881,
          -108.18,
          -103.04,
          -82.7,
          -104.6,
          -107.87,
          -111.9,
          -112.0195,
          -111.8078,
          -79.85,
          -75.8428,
          -75.8647999999999,
          -76.5645,
          -79.6899999999999,
          -76.0767,
          -75.564,
          -78.9318,
          -76.7902999999999,
          -75.6228,
          -79.9716999999999,
          -76.7796999999999,
          -77.74,
          -75.0887999999999,
          -75.5561,
          -75.8117999999999,
          -79.15,
          -74.8199999999999,
          -78.6956,
          -79.9,
          -78.1061999999999,
          -79.102,
          -79.3002,
          -79.6912,
          -79.1489999999999,
          -77.3678,
          -77.2666,
          -74.6681,
          -78.9739,
          -79.0762999999999,
          -78.3525,
          -77.2336,
          -75.5563999999999,
          -80.0519,
          -79.1525,
          -101.1379,
          -79.241,
          -79.2,
          -79.4299999999999,
          -75.4831,
          -79.9757,
          -82.331,
          -79.742,
          -79.876,
          -114.09,
          -64.55,
          -114.68,
          -64.4499999999999,
          -64.54,
          -64.71,
          -64.42,
          -72.08,
          -103.2157,
          -63.3799999999999,
          -102.94,
          -111.734,
          -103.1594,
          -94.3857,
          -93.2055999999999,
          -80.48,
          -81.5771999999999,
          -80.4614,
          -82.6319999999999,
          -82.9999999999999,
          -79.3509999999999,
          -73.3,
          -77.28,
          -81.86,
          -82.1299999999999,
          -79.759,
          -130.3566,
          -82.66,
          -82.65,
          -107.02,
          -119.8553,
          -109.7125,
          -76.1799999999999,
          -80.91,
          -78.92,
          -125,
          -79.58,
          -105.79,
          -79.7809999999999,
          -79.67,
          -81.1385999999999,
          -80.9994,
          -92.7010999999999,
          -90.2266999999999,
          -89.1641999999999,
          -83.6403,
          -83.5552,
          -82.9055999999999,
          -82.7329,
          -82.4617,
          -83.5907,
          -82.7492999999999,
          -83.2155,
          -83.2889,
          -84.0354,
          -83.0427,
          -83.2684,
          -80.7252999999999,
          -80.7659,
          -83.9235,
          -83.9059,
          -82.8189,
          -83.4833,
          -83.2370999999999,
          -83.2037999999999,
          -82.9705,
          -82.4646999999999,
          -114.15,
          -117.92,
          -81.0599999999999,
          -95.3217,
          -95.5805999999999,
          -95.5697,
          -80.35,
          -107.0341,
          -109.06,
          -107.06,
          -103.437,
          -79.09345309,
          -80.2,
          -79.05,
          -80.09,
          -80.2599999999999,
          -66.7345999999999,
          -67.54,
          -67.74,
          -66.17,
          -81.1523,
          -64.9349999999999,
          -81.95,
          -82.001,
          -68.4399999999999,
          -79.5467,
          -65.5474,
          -64.487,
          -82.3199999999999,
          -61.3,
          -79.494,
          -79.8969999999999,
          -81.3498,
          -78.6817,
          -79.7932,
          -83.2433,
          -83.1691,
          -81.6299999999999,
          -83.8699999999999,
          -79.1178,
          -79.2599999999999,
          -81.98,
          -83.6036,
          -81.633,
          -77.9917,
          -81.402,
          -80.3336,
          -105.53,
          -82.34,
          -107.3431,
          -64.1799999999999,
          -64.24,
          -81.4299999999999,
          -81.45,
          -81.4399999999999,
          -75.0325,
          -81.7232999999999,
          -72.737,
          -79.4874,
          -81.78,
          -81.1098,
          -81.0055,
          -81.86,
          -81.3330999999999,
          -81.5065999999999,
          -81.7057,
          -81.8699999999999,
          -81.7239,
          -81.3776,
          -81.8699999999999,
          -80.903,
          -80.0242,
          -81.3855,
          -80.196,
          -76.4617,
          -81.772912879,
          -80.15,
          -80.16,
          -78.3987999999999,
          -81.7694999999999,
          -80.5895,
          -81.5590999999999,
          -81.165,
          -81.6856999999999,
          -81.21,
          -81.4953,
          -81.6507999999999,
          -79.79,
          -79.36,
          -81.14,
          -80.73,
          -80.34,
          -81.1050999999999,
          -87.6,
          -70.6799999999999,
          -82.352,
          -123.39,
          -80.83,
          -92.1347,
          -90.2967,
          -80.9842,
          -72.2116,
          -72.8076,
          -72.2676999999999,
          -72.5735999999999,
          -81.8,
          -123.236,
          -123.1771,
          -80.6,
          -79.3362999999999,
          -81.0235,
          -79.4002,
          -80.1892999999999,
          -81.5953
         ],
         "marker": {
          "color": "#FFA15A"
         },
         "mode": "markers",
         "name": "2021",
         "showlegend": true,
         "subplot": "mapbox",
         "type": "scattermapbox"
        },
        {
         "hovertemplate": "Year=2022<br>Y=%{lat}<br>X=%{lon}<extra></extra>",
         "lat": [
          52.9657,
          52.9300000000001,
          50.6200000000001,
          50.8000000000001,
          49.8700000000001,
          50.4,
          50.3500000000001,
          50.09,
          49.0600000000001,
          44.0600000000001,
          45.287,
          45.3800000000001,
          50.5480000000001,
          44.1058,
          44.5301000000001,
          42.9217,
          43.0179000000001,
          45.3511,
          44.1854000000001,
          44.381,
          44.8508,
          44.7892000000001,
          42.8581,
          44.0192000000001,
          44.1755000000001,
          44.8781000000001,
          44.6469000000001,
          48.6699,
          48.6148000000001,
          48.9114000000001,
          49.3689000000001,
          49.3947000000001,
          48.9639000000001,
          48.7121000000001,
          48.633,
          49.5731000000001,
          48.6757000000001,
          52.1658,
          52.7400000000001,
          50.0192000000001,
          42.3990000000001,
          51.1514000000001,
          46.5389000000001,
          45.91,
          50.22,
          50.1659000000001,
          53.15,
          52.5430000000001,
          51.2500000000001,
          50.6200000000001,
          50.08,
          45.5236,
          44.1682000000001,
          44.169,
          44.4579000000001,
          43.9788,
          45.1420000000001,
          43.8051,
          47.9047,
          47.8808000000001,
          48.5406,
          48.1145000000001,
          48.5031000000001,
          48.0331,
          48.5781000000001,
          47.7619,
          50.518,
          51.2140000000001,
          50.6367000000001,
          49.835,
          51.9199,
          50.1296,
          50.7262000000001,
          48.8825000000001,
          50.15,
          50.9100000000001,
          49.7461000000001,
          49.3297000000001,
          49.2753000000001,
          54.0700000000001,
          50.6300000000001,
          48.7515000000001,
          50.8500000000001,
          50.03,
          52.4300000000001,
          51.5600000000001,
          56.0828000000001,
          51.6444000000001,
          50.78,
          51.0050000000001,
          52.4200000000001,
          51.1122,
          53.2400000000001,
          52.0020000000001,
          52.2300000000001,
          52.83,
          51.1996,
          51.15,
          51.1531000000001,
          51.2534000000001,
          51.6627,
          51.7491000000001,
          51.8914,
          46.1797,
          46.3106000000001,
          47.6061,
          52.2400000000001,
          51.52,
          54.0000000000001,
          53.72,
          49.83,
          49.8100000000001,
          49.6300000000001,
          49.83,
          51.71,
          52.6600000000001,
          52.45,
          52.5000000000001,
          51.5600000000001,
          52.4300000000001,
          51.6000000000001,
          51.1800000000001,
          51.9400000000001,
          52.21,
          52.4200000000001,
          51.6900000000001,
          51.7106000000001,
          52.9432,
          52.9200000000001,
          52.8833000000001,
          53.0466000000001,
          50.1900000000001,
          51.02,
          51.2538000000001,
          50.3200000000001,
          50.4203000000001,
          46.7470000000001,
          55.8297000000001,
          46.26,
          52.6406000000001,
          51.78,
          50.4133,
          50.6300000000001,
          51.8725000000001,
          50.2329,
          50.1477,
          50.1989,
          49.3892000000001,
          49.2769000000001,
          49.1428000000001,
          49.2797,
          49.9130000000001,
          49.0647000000001,
          49.3700000000001,
          51.1158,
          52.058,
          50.0818,
          50.0035,
          48.5889000000001,
          50.7917,
          48.6702000000001,
          50.0377,
          49.4948000000001,
          42.9516,
          43.1370000000001,
          46.8019,
          46.8725000000001,
          47.2719000000001,
          47.2269000000001,
          47.0925,
          43.1155000000001,
          43.0326000000001,
          47.1769,
          47.4042000000001,
          47.1091000000001,
          47.1006,
          47.8192000000001,
          47.4647000000001,
          46.4264000000001,
          47.3786000000001,
          55.405,
          47.0258000000001,
          47.8342000000001,
          48.3275,
          47.8586000000001,
          46.9136,
          48.4206,
          47.9103000000001,
          48.3519000000001,
          48.5530000000001,
          47.7956,
          48.3375,
          48.3268,
          45.8003,
          47.0899000000001,
          45.9948000000001,
          48.2662,
          45.9726000000001,
          46.3503000000001,
          45.9776000000001,
          44.6333000000001,
          58.5000000000001,
          47.4686,
          44.6133,
          44.592,
          44.503,
          47.6197000000001,
          47.6231000000001,
          59.47,
          45.5064,
          50.71,
          50.1600000000001,
          45.5996000000001,
          45.792,
          56.2470000000001,
          49.217,
          56.3868000000001,
          55.9294,
          53.272,
          52.08,
          56.4803000000001,
          52.2900000000001,
          49.7500000000001,
          52.0561000000001,
          43.1700000000001,
          43.6702000000001,
          51.9157000000001,
          50.3720000000001,
          50.7039,
          50.6856000000001,
          50.5822000000001,
          50.6461,
          50.4961000000001,
          50.6197000000001,
          50.6542000000001,
          44.6130000000001,
          43.681,
          50.4392,
          43.5065000000001,
          50.4819000000001,
          53.6378,
          53.53,
          53.7953000000001,
          44.14,
          53.7017000000001,
          53.6402,
          42.8700000000001,
          53.6778,
          42.83,
          42.4200000000001,
          42.78,
          42.89,
          45.3200000000001,
          43.3342000000001,
          44.8058,
          49.1042,
          47.59,
          52.1641000000001,
          52.0408,
          52.128,
          43.09,
          49.9322000000001,
          50.26,
          50.08,
          42.2400000000001,
          49.6600000000001,
          48.6489,
          48.9213,
          48.9302000000001,
          48.9541,
          43.1200000000001,
          42.52,
          42.95,
          49.2300000000001,
          45.0600000000001,
          43.5700000000001,
          42.8368,
          42.0739,
          42.3028,
          44.3298,
          46.5640000000001,
          48.46,
          44.3783000000001,
          45.1294,
          44.6616000000001,
          45.4822,
          42.45,
          46.4,
          51.2761,
          51.1244,
          51.0772000000001,
          51.1239,
          43.9537,
          43.8000000000001,
          42.84,
          42.8580000000001,
          42.8500000000001,
          42.45,
          45.72,
          42.8500000000001,
          44.2980000000001,
          49.8700000000001
         ],
         "legendgroup": "2022",
         "lon": [
          -122.5139,
          -123.01,
          -103.63,
          -105.22,
          -110.87,
          -112.16,
          -112.14,
          -110.83,
          -122.11,
          -81.52,
          -75.05,
          -76.23,
          -105.887,
          -79.1458,
          -78.0051,
          -81.1976999999999,
          -81.2216,
          -75.5741,
          -78.664,
          -78.0169999999999,
          -77.7486,
          -77.8164,
          -81.4220999999999,
          -79.3267,
          -78.7721999999999,
          -77.3429,
          -77.8011,
          -93.5219,
          -93.5304,
          -93.5778,
          -93.0753999999999,
          -93.0638,
          -93.3108,
          -93.4781,
          -93.837,
          -92.7218999999999,
          -92.2308,
          -87.6997,
          -87.4856,
          -83.1269,
          -82.1849999999999,
          -114.1939,
          -84.2148,
          -71.7,
          -113.53,
          -112.5768,
          -109.92,
          -107.583,
          -107.77,
          -112.34,
          -110.71,
          -74.4655,
          -77.3876,
          -77.1899,
          -75.8552999999999,
          -78.9689,
          -76.042,
          -79.1883999999999,
          -74.1319,
          -74.3330999999999,
          -72.6532999999999,
          -73.4951,
          -72.7914,
          -74.3319,
          -72.5047,
          -74.9456,
          -101.152,
          -109.5,
          -101.2759,
          -103.022,
          -101.4368,
          -102.2585,
          -101.0195,
          -93.6283,
          -107.48,
          -102.81,
          -84.9177999999999,
          -85.3613999999999,
          -85.0296999999999,
          -113.85,
          -107.07,
          -89.3362,
          -102,
          -99.96,
          -106.04,
          -98.58,
          -109.7833,
          -90.4453,
          -113.51,
          -113.76,
          -112.88,
          -104.3545,
          -113.51,
          -111.464,
          -113.92,
          -113.35,
          -104.8096,
          -104.56,
          -104.5572,
          -105.1123,
          -103.6713,
          -105.6086,
          -101.1183,
          -74.3755,
          -74.9566,
          -67.58,
          -113.93,
          -114.55,
          -112.05,
          -113.55,
          -111.78,
          -112.62,
          -112.92,
          -111.79,
          -113.18,
          -114.25,
          -113.71,
          -113.92,
          -109.72,
          -111.96,
          -109.33,
          -109.19,
          -110.59,
          -110.76,
          -113.63,
          -114.39,
          -114.5762,
          -108.8758,
          -108.79,
          -107.0436,
          -109.0132,
          -97.4,
          -106.81,
          -103.735,
          -94.74,
          -91.425,
          -71.347,
          -112.6519,
          -71.45,
          -101.1347,
          -105.82,
          -102.9381,
          -104.12,
          -106.0637,
          -101.9759,
          -101.6618,
          -101.6777,
          -94.5833,
          -94.4694,
          -94.0169,
          -94.1471999999999,
          -97.534,
          -93.9206,
          -104.47,
          -92.5667,
          -107.995,
          -110.7328,
          -110.916,
          -80.9793999999999,
          -100.6147,
          -81.2123999999999,
          -84.6061,
          -103.5655,
          -82.0975,
          -81.883,
          -78.0175,
          -78.2997,
          -77.5196999999999,
          -77.4089,
          -77.8634,
          -81.8567,
          -79.3158999999999,
          -81.3872,
          -77.3844,
          -77.8559,
          -77.2803,
          -76.8448,
          -76.8792,
          -78.5382999999999,
          -77.0592,
          -97.4324999999999,
          -71.4528,
          -71.5493999999999,
          -71.9578,
          -68.3353,
          -71.71,
          -68.4363999999999,
          -68.2744,
          -67.9743999999999,
          -67.8684,
          -68.3908,
          -68.3156,
          -68.1842,
          -71.9039,
          -69.7471,
          -74.4113,
          -69.5395,
          -74.3463,
          -74.7535999999999,
          -74.3584,
          -76.7696999999999,
          -111.4,
          -67.3416999999999,
          -76.1283999999999,
          -76.6308999999999,
          -77.828,
          -68.9183,
          -73.8181,
          -109.34,
          -63.8747,
          -98.26,
          -105.27,
          -74.376,
          -78.8481,
          -118.5997,
          -68.15,
          -118.9468,
          -117.9522,
          -109.994,
          -111.49,
          -121.9267,
          -115.2283,
          -101.03,
          -115.0556,
          -82.2499999999999,
          -81.1910999999999,
          -109.1287,
          -97.08,
          -93.6093999999999,
          -93.7757999999999,
          -94.0039,
          -93.9406,
          -94.1375,
          -94.0122,
          -93.8642,
          -81.078,
          -80.4209999999999,
          -90.3164,
          -81.0909,
          -90.1224999999999,
          -106.9858,
          -107.39,
          -106.1161,
          -79.61,
          -106.6248,
          -106.9741,
          -82.3799999999999,
          -106.7856,
          -82.0099999999999,
          -82.3199999999999,
          -82.15,
          -81.11,
          -74.98,
          -81.3822,
          -77.9499,
          -72.1935999999999,
          -69.04,
          -103.5256,
          -103.5867,
          -104.5271,
          -81.23,
          -98.8018,
          -98.36,
          -96.4,
          -82.97,
          -97.15,
          -80.8567,
          -79.6527,
          -79.5565,
          -79.6283,
          -81.95,
          -80.4519999999999,
          -80.05,
          -97.03,
          -75.54,
          -80.0699999999999,
          -82.4397,
          -82.629,
          -83.0207,
          -77.8779,
          -71.2008999999999,
          -71.03,
          -76.2966,
          -75.948,
          -81.2780999999999,
          -76.0767,
          -81.54,
          -81.17,
          -89.3228,
          -86.665,
          -86.2394,
          -86.8477999999999,
          -77.3593999999999,
          -77.92,
          -79.21,
          -79.04,
          -79.0099999999999,
          -80.97,
          -74.05,
          -78.9999999999999,
          -81.603,
          -119.65
         ],
         "marker": {
          "color": "#19d3f3"
         },
         "mode": "markers",
         "name": "2022",
         "showlegend": true,
         "subplot": "mapbox",
         "type": "scattermapbox"
        },
        {
         "hovertemplate": "Year=2023<br>Y=%{lat}<br>X=%{lon}<extra></extra>",
         "lat": [
          50.4128000000001,
          50.3600000000001,
          52.3580000000001
         ],
         "legendgroup": "2023",
         "lon": [
          -104.2829,
          -104.55,
          -112.549
         ],
         "marker": {
          "color": "#FF6692"
         },
         "mode": "markers",
         "name": "2023",
         "showlegend": true,
         "subplot": "mapbox",
         "type": "scattermapbox"
        }
       ],
       "layout": {
        "height": 600,
        "legend": {
         "title": {
          "text": "Year"
         },
         "tracegroupgap": 0
        },
        "mapbox": {
         "center": {
          "lat": 48.1537025663583,
          "lon": -90.33882317283233
         },
         "domain": {
          "x": [
           0,
           1
          ],
          "y": [
           0,
           1
          ]
         },
         "style": "open-street-map",
         "zoom": 2
        },
        "margin": {
         "t": 60
        },
        "template": {
         "data": {
          "bar": [
           {
            "error_x": {
             "color": "#2a3f5f"
            },
            "error_y": {
             "color": "#2a3f5f"
            },
            "marker": {
             "line": {
              "color": "#E5ECF6",
              "width": 0.5
             },
             "pattern": {
              "fillmode": "overlay",
              "size": 10,
              "solidity": 0.2
             }
            },
            "type": "bar"
           }
          ],
          "barpolar": [
           {
            "marker": {
             "line": {
              "color": "#E5ECF6",
              "width": 0.5
             },
             "pattern": {
              "fillmode": "overlay",
              "size": 10,
              "solidity": 0.2
             }
            },
            "type": "barpolar"
           }
          ],
          "carpet": [
           {
            "aaxis": {
             "endlinecolor": "#2a3f5f",
             "gridcolor": "white",
             "linecolor": "white",
             "minorgridcolor": "white",
             "startlinecolor": "#2a3f5f"
            },
            "baxis": {
             "endlinecolor": "#2a3f5f",
             "gridcolor": "white",
             "linecolor": "white",
             "minorgridcolor": "white",
             "startlinecolor": "#2a3f5f"
            },
            "type": "carpet"
           }
          ],
          "choropleth": [
           {
            "colorbar": {
             "outlinewidth": 0,
             "ticks": ""
            },
            "type": "choropleth"
           }
          ],
          "contour": [
           {
            "colorbar": {
             "outlinewidth": 0,
             "ticks": ""
            },
            "colorscale": [
             [
              0,
              "#0d0887"
             ],
             [
              0.1111111111111111,
              "#46039f"
             ],
             [
              0.2222222222222222,
              "#7201a8"
             ],
             [
              0.3333333333333333,
              "#9c179e"
             ],
             [
              0.4444444444444444,
              "#bd3786"
             ],
             [
              0.5555555555555556,
              "#d8576b"
             ],
             [
              0.6666666666666666,
              "#ed7953"
             ],
             [
              0.7777777777777778,
              "#fb9f3a"
             ],
             [
              0.8888888888888888,
              "#fdca26"
             ],
             [
              1,
              "#f0f921"
             ]
            ],
            "type": "contour"
           }
          ],
          "contourcarpet": [
           {
            "colorbar": {
             "outlinewidth": 0,
             "ticks": ""
            },
            "type": "contourcarpet"
           }
          ],
          "heatmap": [
           {
            "colorbar": {
             "outlinewidth": 0,
             "ticks": ""
            },
            "colorscale": [
             [
              0,
              "#0d0887"
             ],
             [
              0.1111111111111111,
              "#46039f"
             ],
             [
              0.2222222222222222,
              "#7201a8"
             ],
             [
              0.3333333333333333,
              "#9c179e"
             ],
             [
              0.4444444444444444,
              "#bd3786"
             ],
             [
              0.5555555555555556,
              "#d8576b"
             ],
             [
              0.6666666666666666,
              "#ed7953"
             ],
             [
              0.7777777777777778,
              "#fb9f3a"
             ],
             [
              0.8888888888888888,
              "#fdca26"
             ],
             [
              1,
              "#f0f921"
             ]
            ],
            "type": "heatmap"
           }
          ],
          "heatmapgl": [
           {
            "colorbar": {
             "outlinewidth": 0,
             "ticks": ""
            },
            "colorscale": [
             [
              0,
              "#0d0887"
             ],
             [
              0.1111111111111111,
              "#46039f"
             ],
             [
              0.2222222222222222,
              "#7201a8"
             ],
             [
              0.3333333333333333,
              "#9c179e"
             ],
             [
              0.4444444444444444,
              "#bd3786"
             ],
             [
              0.5555555555555556,
              "#d8576b"
             ],
             [
              0.6666666666666666,
              "#ed7953"
             ],
             [
              0.7777777777777778,
              "#fb9f3a"
             ],
             [
              0.8888888888888888,
              "#fdca26"
             ],
             [
              1,
              "#f0f921"
             ]
            ],
            "type": "heatmapgl"
           }
          ],
          "histogram": [
           {
            "marker": {
             "pattern": {
              "fillmode": "overlay",
              "size": 10,
              "solidity": 0.2
             }
            },
            "type": "histogram"
           }
          ],
          "histogram2d": [
           {
            "colorbar": {
             "outlinewidth": 0,
             "ticks": ""
            },
            "colorscale": [
             [
              0,
              "#0d0887"
             ],
             [
              0.1111111111111111,
              "#46039f"
             ],
             [
              0.2222222222222222,
              "#7201a8"
             ],
             [
              0.3333333333333333,
              "#9c179e"
             ],
             [
              0.4444444444444444,
              "#bd3786"
             ],
             [
              0.5555555555555556,
              "#d8576b"
             ],
             [
              0.6666666666666666,
              "#ed7953"
             ],
             [
              0.7777777777777778,
              "#fb9f3a"
             ],
             [
              0.8888888888888888,
              "#fdca26"
             ],
             [
              1,
              "#f0f921"
             ]
            ],
            "type": "histogram2d"
           }
          ],
          "histogram2dcontour": [
           {
            "colorbar": {
             "outlinewidth": 0,
             "ticks": ""
            },
            "colorscale": [
             [
              0,
              "#0d0887"
             ],
             [
              0.1111111111111111,
              "#46039f"
             ],
             [
              0.2222222222222222,
              "#7201a8"
             ],
             [
              0.3333333333333333,
              "#9c179e"
             ],
             [
              0.4444444444444444,
              "#bd3786"
             ],
             [
              0.5555555555555556,
              "#d8576b"
             ],
             [
              0.6666666666666666,
              "#ed7953"
             ],
             [
              0.7777777777777778,
              "#fb9f3a"
             ],
             [
              0.8888888888888888,
              "#fdca26"
             ],
             [
              1,
              "#f0f921"
             ]
            ],
            "type": "histogram2dcontour"
           }
          ],
          "mesh3d": [
           {
            "colorbar": {
             "outlinewidth": 0,
             "ticks": ""
            },
            "type": "mesh3d"
           }
          ],
          "parcoords": [
           {
            "line": {
             "colorbar": {
              "outlinewidth": 0,
              "ticks": ""
             }
            },
            "type": "parcoords"
           }
          ],
          "pie": [
           {
            "automargin": true,
            "type": "pie"
           }
          ],
          "scatter": [
           {
            "fillpattern": {
             "fillmode": "overlay",
             "size": 10,
             "solidity": 0.2
            },
            "type": "scatter"
           }
          ],
          "scatter3d": [
           {
            "line": {
             "colorbar": {
              "outlinewidth": 0,
              "ticks": ""
             }
            },
            "marker": {
             "colorbar": {
              "outlinewidth": 0,
              "ticks": ""
             }
            },
            "type": "scatter3d"
           }
          ],
          "scattercarpet": [
           {
            "marker": {
             "colorbar": {
              "outlinewidth": 0,
              "ticks": ""
             }
            },
            "type": "scattercarpet"
           }
          ],
          "scattergeo": [
           {
            "marker": {
             "colorbar": {
              "outlinewidth": 0,
              "ticks": ""
             }
            },
            "type": "scattergeo"
           }
          ],
          "scattergl": [
           {
            "marker": {
             "colorbar": {
              "outlinewidth": 0,
              "ticks": ""
             }
            },
            "type": "scattergl"
           }
          ],
          "scattermapbox": [
           {
            "marker": {
             "colorbar": {
              "outlinewidth": 0,
              "ticks": ""
             }
            },
            "type": "scattermapbox"
           }
          ],
          "scatterpolar": [
           {
            "marker": {
             "colorbar": {
              "outlinewidth": 0,
              "ticks": ""
             }
            },
            "type": "scatterpolar"
           }
          ],
          "scatterpolargl": [
           {
            "marker": {
             "colorbar": {
              "outlinewidth": 0,
              "ticks": ""
             }
            },
            "type": "scatterpolargl"
           }
          ],
          "scatterternary": [
           {
            "marker": {
             "colorbar": {
              "outlinewidth": 0,
              "ticks": ""
             }
            },
            "type": "scatterternary"
           }
          ],
          "surface": [
           {
            "colorbar": {
             "outlinewidth": 0,
             "ticks": ""
            },
            "colorscale": [
             [
              0,
              "#0d0887"
             ],
             [
              0.1111111111111111,
              "#46039f"
             ],
             [
              0.2222222222222222,
              "#7201a8"
             ],
             [
              0.3333333333333333,
              "#9c179e"
             ],
             [
              0.4444444444444444,
              "#bd3786"
             ],
             [
              0.5555555555555556,
              "#d8576b"
             ],
             [
              0.6666666666666666,
              "#ed7953"
             ],
             [
              0.7777777777777778,
              "#fb9f3a"
             ],
             [
              0.8888888888888888,
              "#fdca26"
             ],
             [
              1,
              "#f0f921"
             ]
            ],
            "type": "surface"
           }
          ],
          "table": [
           {
            "cells": {
             "fill": {
              "color": "#EBF0F8"
             },
             "line": {
              "color": "white"
             }
            },
            "header": {
             "fill": {
              "color": "#C8D4E3"
             },
             "line": {
              "color": "white"
             }
            },
            "type": "table"
           }
          ]
         },
         "layout": {
          "annotationdefaults": {
           "arrowcolor": "#2a3f5f",
           "arrowhead": 0,
           "arrowwidth": 1
          },
          "autotypenumbers": "strict",
          "coloraxis": {
           "colorbar": {
            "outlinewidth": 0,
            "ticks": ""
           }
          },
          "colorscale": {
           "diverging": [
            [
             0,
             "#8e0152"
            ],
            [
             0.1,
             "#c51b7d"
            ],
            [
             0.2,
             "#de77ae"
            ],
            [
             0.3,
             "#f1b6da"
            ],
            [
             0.4,
             "#fde0ef"
            ],
            [
             0.5,
             "#f7f7f7"
            ],
            [
             0.6,
             "#e6f5d0"
            ],
            [
             0.7,
             "#b8e186"
            ],
            [
             0.8,
             "#7fbc41"
            ],
            [
             0.9,
             "#4d9221"
            ],
            [
             1,
             "#276419"
            ]
           ],
           "sequential": [
            [
             0,
             "#0d0887"
            ],
            [
             0.1111111111111111,
             "#46039f"
            ],
            [
             0.2222222222222222,
             "#7201a8"
            ],
            [
             0.3333333333333333,
             "#9c179e"
            ],
            [
             0.4444444444444444,
             "#bd3786"
            ],
            [
             0.5555555555555556,
             "#d8576b"
            ],
            [
             0.6666666666666666,
             "#ed7953"
            ],
            [
             0.7777777777777778,
             "#fb9f3a"
            ],
            [
             0.8888888888888888,
             "#fdca26"
            ],
            [
             1,
             "#f0f921"
            ]
           ],
           "sequentialminus": [
            [
             0,
             "#0d0887"
            ],
            [
             0.1111111111111111,
             "#46039f"
            ],
            [
             0.2222222222222222,
             "#7201a8"
            ],
            [
             0.3333333333333333,
             "#9c179e"
            ],
            [
             0.4444444444444444,
             "#bd3786"
            ],
            [
             0.5555555555555556,
             "#d8576b"
            ],
            [
             0.6666666666666666,
             "#ed7953"
            ],
            [
             0.7777777777777778,
             "#fb9f3a"
            ],
            [
             0.8888888888888888,
             "#fdca26"
            ],
            [
             1,
             "#f0f921"
            ]
           ]
          },
          "colorway": [
           "#636efa",
           "#EF553B",
           "#00cc96",
           "#ab63fa",
           "#FFA15A",
           "#19d3f3",
           "#FF6692",
           "#B6E880",
           "#FF97FF",
           "#FECB52"
          ],
          "font": {
           "color": "#2a3f5f"
          },
          "geo": {
           "bgcolor": "white",
           "lakecolor": "white",
           "landcolor": "#E5ECF6",
           "showlakes": true,
           "showland": true,
           "subunitcolor": "white"
          },
          "hoverlabel": {
           "align": "left"
          },
          "hovermode": "closest",
          "mapbox": {
           "style": "light"
          },
          "paper_bgcolor": "white",
          "plot_bgcolor": "#E5ECF6",
          "polar": {
           "angularaxis": {
            "gridcolor": "white",
            "linecolor": "white",
            "ticks": ""
           },
           "bgcolor": "#E5ECF6",
           "radialaxis": {
            "gridcolor": "white",
            "linecolor": "white",
            "ticks": ""
           }
          },
          "scene": {
           "xaxis": {
            "backgroundcolor": "#E5ECF6",
            "gridcolor": "white",
            "gridwidth": 2,
            "linecolor": "white",
            "showbackground": true,
            "ticks": "",
            "zerolinecolor": "white"
           },
           "yaxis": {
            "backgroundcolor": "#E5ECF6",
            "gridcolor": "white",
            "gridwidth": 2,
            "linecolor": "white",
            "showbackground": true,
            "ticks": "",
            "zerolinecolor": "white"
           },
           "zaxis": {
            "backgroundcolor": "#E5ECF6",
            "gridcolor": "white",
            "gridwidth": 2,
            "linecolor": "white",
            "showbackground": true,
            "ticks": "",
            "zerolinecolor": "white"
           }
          },
          "shapedefaults": {
           "line": {
            "color": "#2a3f5f"
           }
          },
          "ternary": {
           "aaxis": {
            "gridcolor": "white",
            "linecolor": "white",
            "ticks": ""
           },
           "baxis": {
            "gridcolor": "white",
            "linecolor": "white",
            "ticks": ""
           },
           "bgcolor": "#E5ECF6",
           "caxis": {
            "gridcolor": "white",
            "linecolor": "white",
            "ticks": ""
           }
          },
          "title": {
           "x": 0.05
          },
          "xaxis": {
           "automargin": true,
           "gridcolor": "white",
           "linecolor": "white",
           "ticks": "",
           "title": {
            "standoff": 15
           },
           "zerolinecolor": "white",
           "zerolinewidth": 2
          },
          "yaxis": {
           "automargin": true,
           "gridcolor": "white",
           "linecolor": "white",
           "ticks": "",
           "title": {
            "standoff": 15
           },
           "zerolinecolor": "white",
           "zerolinewidth": 2
          }
         }
        }
       }
      }
     },
     "metadata": {},
     "output_type": "display_data"
    }
   ],
   "source": [
    "dataset['Year'] = dataset['Year'].astype(str)\n",
    "fig = px.scatter_mapbox(dataset,lat='Y',lon='X',color='Year',zoom=2,height=600)\n",
    "fig.update_layout(mapbox_style='open-street-map')\n",
    "fig.show()"
   ]
  },
  {
   "cell_type": "code",
   "execution_count": 9,
   "metadata": {},
   "outputs": [
    {
     "name": "stderr",
     "output_type": "stream",
     "text": [
      "/var/folders/_v/4d1j74hd4y3by9wnkl0gym5w0000gn/T/ipykernel_69436/2034026049.py:5: SettingWithCopyWarning:\n",
      "\n",
      "\n",
      "A value is trying to be set on a copy of a slice from a DataFrame.\n",
      "Try using .loc[row_indexer,col_indexer] = value instead\n",
      "\n",
      "See the caveats in the documentation: https://pandas.pydata.org/pandas-docs/stable/user_guide/indexing.html#returning-a-view-versus-a-copy\n",
      "\n"
     ]
    },
    {
     "data": {
      "application/vnd.plotly.v1+json": {
       "config": {
        "plotlyServerURL": "https://plot.ly"
       },
       "data": [
        {
         "hovertemplate": "event_type=Tornado (Land)<br>Y=%{lat}<br>X=%{lon}<extra></extra>",
         "lat": [
          43.0486000000001,
          52.7347,
          52.8711000000001,
          52.5245,
          48.0605,
          51.8003,
          53.5161000000001,
          49.7828000000001,
          47.1639000000001,
          47.0761000000001,
          47.0783000000001,
          47.4031000000001,
          46.8914,
          47.4631000000001,
          47.58,
          47.6322000000001,
          48.2955000000001,
          46.864,
          46.6736000000001,
          47.0967000000001,
          47.1704,
          47.1692,
          47.4110000000001,
          47.2675,
          48.3119,
          47.486,
          48.722,
          48.883,
          49.03,
          47.8530000000001,
          47.2094000000001,
          52.7450000000001,
          49.8384,
          53.893,
          49.5170000000001,
          51.0839,
          48.2883,
          52.6853,
          51.2020000000001,
          43.2026000000001,
          53.1733,
          54.6585000000001,
          54.8943,
          54.8346000000001,
          54.796,
          51.931,
          51.917,
          51.8017,
          51.9445000000001,
          52.0712,
          50.3159000000001,
          53.2946000000001,
          45.2048,
          47.5703,
          45.3047,
          45.3806000000001,
          47.2853000000001,
          46.3093000000001,
          43.5671,
          42.0532000000001,
          48.2358,
          45.9061,
          46.8317000000001,
          51.1852000000001,
          57.2894000000001,
          50.4673000000001,
          50.7470000000001,
          46.5694,
          46.8056,
          45.7882000000001,
          50.5888,
          50.0327,
          53.0852,
          50.6375,
          53.1924000000001,
          43.0069,
          42.8724,
          49.0466000000001,
          47.9039000000001,
          47.907,
          47.8811000000001,
          47.8381000000001,
          49.7185000000001,
          50.7062000000001,
          58.2228000000001,
          56.2319000000001,
          52.1625000000001,
          46.5146,
          51.1168000000001,
          49.2967,
          49.2803000000001,
          53.5922,
          53.6841000000001,
          56.3075000000001,
          54.6345000000001,
          52.3326000000001,
          54.0824000000001,
          49.215,
          50.3743000000001,
          50.3776,
          50.3776,
          50.2466000000001,
          49.3800000000001,
          49.383,
          49.4402000000001,
          49.1767,
          49.2040000000001,
          51.0155,
          51.1192,
          46.3940000000001,
          45.3593000000001,
          42.4314000000001,
          47.0639,
          46.9103000000001,
          46.9472000000001,
          50.7611000000001,
          46.405,
          43.1193000000001,
          44.1358000000001,
          44.4686,
          48.9481000000001,
          47.8861000000001,
          46.0210000000001,
          49.0844000000001,
          52.8126,
          48.2522000000001,
          47.8532000000001,
          48.2522000000001,
          47.5531,
          48.44584,
          47.6269,
          47.8275,
          47.1138,
          46.688,
          46.7699000000001,
          47.4148000000001,
          47.7287000000001,
          48.1531000000001,
          48.2186,
          47.4849,
          47.5356,
          47.6744,
          49.2134,
          49.1730000000001,
          49.0231000000001,
          46.4534,
          46.6522000000001,
          45.2736,
          45.9103000000001,
          45.3702000000001,
          45.8665,
          44.7287000000001,
          45.3031,
          42.1203,
          42.1485000000001,
          42.1688,
          53.7259000000001,
          49.107,
          50.0500000000001,
          60.0018000000001,
          45.4669000000001,
          45.5187000000001,
          43.4539,
          50.9271000000001,
          49.9300000000001,
          49.7300000000001,
          55.3242000000001,
          53.2,
          54.3623000000001,
          54.4611,
          54.5133000000001,
          54.6563,
          54.6624,
          54.6240000000001,
          54.7231,
          55.0086000000001,
          54.328,
          56.3869000000001,
          54.4527,
          54.84,
          50.08,
          50.347,
          54.5077000000001,
          47.7619,
          45.7925000000001,
          45.8206000000001,
          50.6617000000001,
          49.22,
          49.1000000000001,
          51.4673000000001,
          48.8972000000001,
          48.9802000000001,
          49.3214,
          48.9333,
          51.1056,
          51.0336,
          51.4270000000001,
          51.28,
          53.2696000000001,
          44.5085,
          49.6600000000001,
          48.6019000000001,
          52.45,
          50.1366,
          47.3512000000001,
          54.1261000000001,
          51.8354,
          54.2382000000001,
          54.385,
          48.76,
          48.0881000000001,
          48.3886000000001,
          46.8685,
          52.2318000000001,
          46.551,
          46.6118000000001,
          46.6398,
          47.5002000000001,
          47.6328,
          50.6612000000001,
          49.6770000000001,
          46.4672,
          46.3011000000001,
          51.4200000000001,
          42.8559000000001,
          52.5000000000001,
          48.4774,
          50.7230000000001,
          51.2404000000001,
          49.2216000000001,
          43.8139,
          43.7628,
          44.8033,
          45.0278000000001,
          45.2369,
          42.6951,
          45.1387,
          42.8434,
          42.9014000000001,
          45.8625000000001,
          49.6410000000001,
          42.1900000000001,
          44.4702,
          49.09,
          48.953,
          50.0836,
          45.1370000000001,
          42.9990000000001,
          54.304,
          52.8756000000001,
          49.753,
          49.7260000000001,
          49.5260000000001,
          51.21,
          51.5500000000001,
          52.2310000000001,
          51.8600000000001,
          50.6410000000001,
          43.4760000000001,
          50.3233000000001,
          52.2278000000001,
          43.1370000000001,
          47.2230000000001,
          51.934,
          43.1636,
          43.1251,
          43.2516000000001,
          43.7689,
          43.5136000000001,
          43.4756,
          42.9186,
          43.0956,
          43.5693000000001,
          47.1420000000001,
          48.9567000000001,
          48.9897,
          46.4800000000001,
          49.3947000000001,
          46.8000000000001,
          45.3028,
          44.3328000000001,
          44.6594000000001,
          44.9505,
          44.7745,
          51.58,
          43.8393,
          49.15,
          49.7372,
          49.7836,
          48.6700000000001,
          50.4689000000001,
          42.4900000000001,
          50.3997000000001,
          50.3890000000001,
          52.2969000000001,
          52.2178000000001,
          56.2523,
          43.2584000000001,
          42.7035000000001,
          44.0568000000001,
          44.7652,
          42.8904000000001,
          45.7886,
          47.1908000000001,
          43.3617,
          44.544,
          43.6456000000001,
          52.1900000000001,
          51.21,
          49.1300000000001,
          48.71,
          50.5500000000001,
          47.8432000000001,
          47.859,
          47.8914,
          47.5954,
          47.6990000000001,
          50.5690000000001,
          50.5500000000001,
          52.3500000000001,
          51.0961,
          49.0948000000001,
          43.0960000000001,
          51.5194000000001,
          51.4750000000001,
          51.5127000000001,
          46.5174000000001,
          45.7436000000001,
          45.1295000000001,
          46.41,
          46.2147000000001,
          46.4059,
          50.1108,
          45.2854,
          44.0000000000001,
          44.4498,
          45.1320000000001,
          45.8063000000001,
          45.7403,
          45.9755000000001,
          44.7445000000001,
          45.7625,
          45.6528000000001,
          45.9339000000001,
          44.4059,
          44.2192000000001,
          44.3337000000001,
          44.2494,
          45.9609,
          45.9406000000001,
          48.0339000000001,
          44.2567000000001,
          45.3268,
          46.2875000000001,
          47.6733,
          47.6308000000001,
          45.6273,
          44.96,
          54.655,
          44.5765000000001,
          43.5664,
          42.0729000000001,
          42.299,
          55.3077000000001,
          43.0452000000001,
          52.8920000000001,
          52.1194,
          50.8217000000001,
          46.4697,
          46.6557000000001,
          46.5449,
          46.3870000000001,
          46.4657,
          46.5274000000001,
          50.5356,
          50.1431000000001,
          50.0897000000001,
          49.9370000000001,
          51.46,
          49.95,
          51.2393000000001,
          42.46,
          46.5773,
          49.0916,
          46.8669,
          49.0164,
          51.1333000000001,
          49.345,
          47.1575,
          55.2219000000001,
          43.8791000000001,
          43.9187000000001,
          43.5713000000001,
          43.5399,
          43.7095,
          43.9421,
          43.9027,
          45.22,
          44.2286,
          43.1715,
          49.2687000000001,
          48.1017000000001,
          45.9085000000001,
          45.1761000000001,
          49.244,
          44.1024,
          45.287,
          50.5480000000001,
          44.1058,
          42.9217,
          43.0179000000001,
          44.1755000000001,
          48.6699,
          48.6148000000001,
          48.9114000000001,
          49.3689000000001,
          48.6757000000001,
          52.1658,
          52.7400000000001,
          50.1659000000001,
          53.15,
          52.5430000000001,
          43.9788,
          45.1420000000001,
          47.9047,
          47.8808000000001,
          48.1145000000001,
          48.5031000000001,
          48.0331,
          47.7619,
          50.15,
          50.6300000000001,
          51.1122,
          52.0020000000001,
          51.1996,
          51.15,
          51.1531000000001,
          51.2534000000001,
          51.6627,
          51.7491000000001,
          51.8914,
          46.1797,
          52.4300000000001,
          51.6000000000001,
          51.1800000000001,
          51.9400000000001,
          52.21,
          51.7106000000001,
          52.9432,
          52.9200000000001,
          52.8833000000001,
          53.0466000000001,
          50.1900000000001,
          51.78,
          50.6300000000001,
          51.8725000000001,
          49.3700000000001,
          50.0035,
          48.6702000000001,
          42.9516,
          46.8019,
          46.8725000000001,
          47.2719000000001,
          47.2269000000001,
          47.1769,
          47.4042000000001,
          47.1091000000001,
          47.1006,
          47.8192000000001,
          47.4647000000001,
          46.4264000000001,
          47.0258000000001,
          47.8342000000001,
          48.3275,
          47.8586000000001,
          46.9136,
          45.9948000000001,
          45.9726000000001,
          45.9776000000001,
          44.6333000000001,
          44.503,
          45.792,
          52.08,
          43.6702000000001,
          50.3720000000001,
          50.6856000000001,
          50.5822000000001,
          50.6461,
          50.4961000000001,
          50.6197000000001,
          50.6542000000001,
          44.6130000000001,
          50.4392,
          53.6378,
          53.53,
          43.3342000000001,
          47.59,
          50.08,
          48.6489,
          48.9213,
          48.9541,
          43.5700000000001,
          42.8368,
          44.3298,
          48.46,
          45.1294,
          44.6616000000001,
          51.2761,
          51.1244,
          51.0772000000001,
          51.1239,
          43.9537,
          50.3600000000001,
          52.3580000000001
         ],
         "legendgroup": "Tornado (Land)",
         "lon": [
          -81.1471,
          -105.4383,
          -105.7941,
          -106.883,
          -78.5275,
          -113.3828,
          -111.1758,
          -92.8029,
          -77.4503,
          -77.3086,
          -77.3933,
          -76.1745,
          -77.7711,
          -76.5307999999999,
          -76.2872,
          -75.2241999999999,
          -73.0554999999999,
          -75.434,
          -75.2130999999999,
          -74.3391999999999,
          -74.1632999999999,
          -74.2585999999999,
          -71.201,
          -73.7155999999999,
          -71.715,
          -73.011,
          -71.799,
          -71.329,
          -70.826,
          -72.414,
          -74.3419,
          -100.6916,
          -82.4553,
          -115.0664,
          -101.91,
          -70.1591999999999,
          -91.2289,
          -115.2075,
          -109.6289,
          -81.426,
          -114.6747,
          -113.2395,
          -111.1483,
          -111.2387,
          -103.6123,
          -104.726,
          -104.9797,
          -103.5568,
          -104.9608,
          -104.2901,
          -101.8878,
          -99.3704999999999,
          -79.3402,
          -73.8017,
          -79.2189,
          -79.0830999999999,
          -75.0869,
          -70.8767999999999,
          -80.6785,
          -82.5998,
          -77.5196999999999,
          -76.9397,
          -73.9711,
          -90.9267,
          -118.2019,
          -94.9272999999999,
          -111.1825,
          -75.5039,
          -74.0479999999999,
          -78.7648,
          -104.7424,
          -103.7312,
          -113.8057,
          -101.7935,
          -103.8057,
          -80.5997,
          -80.1478999999999,
          -100.8804,
          -81.3853,
          -81.0058,
          -80.4722,
          -80.079,
          -103.3507,
          -106.0225,
          -118.4564,
          -115.8375,
          -95.3817,
          -74.1101,
          -102.5785,
          -91.6598,
          -91.6047,
          -92.7397,
          -92.3882,
          -107.6661,
          -101.6485,
          -91.7023,
          -74.8128,
          -105.5231,
          -107.0485,
          -107.7923,
          -107.7923,
          -109.7936,
          -108.04,
          -107.55,
          -106.9744,
          -106.6919,
          -105.793,
          -101.5829,
          -101.4508,
          -73.295,
          -76.4995,
          -81.8049999999999,
          -74.8124999999999,
          -75.9718999999999,
          -75.9152999999999,
          -98.9908,
          -67.4084999999999,
          -80.3651,
          -78.3199,
          -79.5887,
          -73.6067,
          -72.5125,
          -71.5991,
          -91.4808,
          -122.1007,
          -76.6743999999999,
          -78.941,
          -76.6743999999999,
          -76.6319,
          -75.25611,
          -74.1281,
          -76.4863999999999,
          -74.4838,
          -74.9275,
          -74.2077,
          -72.5141,
          -71.5769999999999,
          -75.8953,
          -75.96,
          -72.282,
          -72.0900999999999,
          -71.5647,
          -122.3584,
          -78.9965999999999,
          -76.6125,
          -74.5821999999999,
          -75.9607999999999,
          -76.9243999999999,
          -76.4848,
          -76.2968999999999,
          -75.8325,
          -76.7248,
          -75.8536999999999,
          -83.1122,
          -83.021,
          -82.5563999999999,
          -115.9577,
          -97.26,
          -108.54,
          -111.8947,
          -75.5432,
          -75.2809999999999,
          -80.1407,
          -113.5427,
          -110.9,
          -113.47,
          -118.781,
          -113.54,
          -112.9113,
          -112.648,
          -112.3554,
          -111.3746,
          -111.1262,
          -110.165,
          -109.9981,
          -109.3463,
          -109.894,
          -106.3383,
          -109.4956,
          -118.97,
          -105.06,
          -112.898,
          -118.6912,
          -74.6572,
          -77.169,
          -73.6645,
          -95.3369,
          -106.18,
          -102.37,
          -114.0071,
          -93.6899999999999,
          -91.2585,
          -91.0944,
          -93.0957999999999,
          -93.2172,
          -92.9793999999999,
          -110.474,
          -109.994,
          -122.3943,
          -79.7399,
          -94.51,
          -92.8482999999999,
          -108.18,
          -112.8892,
          -71.0439,
          -112.7583,
          -114.4022,
          -112.5558,
          -108.9256,
          -91.2831,
          -78.4972,
          -76.9275,
          -72.3944999999999,
          -114.2599,
          -75.3758999999999,
          -74.9874,
          -74.7274,
          -73.7026,
          -73.3013,
          -104.8045,
          -103.521,
          -72.1933999999999,
          -70.5542,
          -113.15,
          -82.1238999999999,
          -100.87,
          -123.3667,
          -113.265,
          -113.5278,
          -93.5868,
          -81.4476,
          -81.2551,
          -79.6125,
          -79.427,
          -79.2476,
          -81.8421,
          -79.1342,
          -81.0971,
          -80.9619,
          -78.3740999999999,
          -112.33,
          -82.58,
          -78.7071,
          -97.26,
          -71.9367,
          -100.0043,
          -73.152,
          -81.763,
          -115.114,
          -101.8286,
          -106.967,
          -106.894,
          -106.053,
          -113.565,
          -113.67,
          -113.742,
          -113.3,
          -111.944,
          -79.86,
          -114.0217,
          -94.5146999999999,
          -80.348,
          -74.39,
          -101.239,
          -81.9867,
          -81.9589999999999,
          -81.4648,
          -81.4306,
          -81.3172,
          -80.9270999999999,
          -81.1623999999999,
          -80.8541999999999,
          -80.1544,
          -72.8036,
          -79.1797,
          -78.9636,
          -70.3,
          -80.6641999999999,
          -72.8,
          -71.4322,
          -76.8355999999999,
          -78.9539,
          -75.701,
          -78.6575,
          -111.12,
          -80.8498999999999,
          -103.1,
          -101.0407,
          -100.4047,
          -91.1727999999999,
          -89.4358,
          -82.1,
          -100.6753,
          -100.548,
          -105.2156,
          -105.0639,
          -120.8212,
          -81.6006,
          -81.1512999999999,
          -81.7479,
          -79.3276999999999,
          -79.241,
          -77.1546999999999,
          -72.1169,
          -80.0325999999999,
          -80.4689999999999,
          -79.9444,
          -106.8,
          -101.38,
          -97.8799999999999,
          -72.45,
          -98.73,
          -79.4949999999999,
          -79.1997,
          -78.5282999999999,
          -83.7157999999999,
          -81.7334,
          -113.67,
          -114.16,
          -113.54,
          -88.6686,
          -97.5542,
          -81.1589999999999,
          -108.2979,
          -108.207,
          -108.6513,
          -71.2179,
          -73.6222,
          -73.3403,
          -71.0227,
          -72.4306,
          -71.0637,
          -91.526,
          -77.9589,
          -81.5699999999999,
          -80.8533,
          -63.3566999999999,
          -76.0767,
          -76.7902999999999,
          -75.6228,
          -79.9716999999999,
          -76.7796999999999,
          -78.6956,
          -78.1061999999999,
          -79.102,
          -79.3002,
          -79.6912,
          -79.1489999999999,
          -77.3678,
          -77.2666,
          -74.6681,
          -78.9739,
          -79.0762999999999,
          -78.3525,
          -77.2336,
          -75.5563999999999,
          -79.876,
          -63.3799999999999,
          -103.1594,
          -80.48,
          -81.5771999999999,
          -82.6319999999999,
          -82.9999999999999,
          -109.7125,
          -81.1385999999999,
          -92.7010999999999,
          -90.2266999999999,
          -89.1641999999999,
          -83.6403,
          -82.4617,
          -83.5907,
          -82.7492999999999,
          -83.2155,
          -83.2889,
          -95.3217,
          -95.5805999999999,
          -95.5697,
          -107.0341,
          -109.06,
          -107.06,
          -103.437,
          -82.001,
          -81.3498,
          -78.6817,
          -83.1691,
          -79.1178,
          -83.6036,
          -77.9917,
          -80.3336,
          -107.3431,
          -81.7232999999999,
          -79.4874,
          -81.1098,
          -81.0055,
          -81.7057,
          -81.7239,
          -80.903,
          -80.196,
          -76.4617,
          -81.7694999999999,
          -92.1347,
          -90.2967,
          -72.2116,
          -72.8076,
          -123.236,
          -79.4002,
          -75.05,
          -105.887,
          -79.1458,
          -81.1976999999999,
          -81.2216,
          -78.7721999999999,
          -93.5219,
          -93.5304,
          -93.5778,
          -93.0753999999999,
          -92.2308,
          -87.6997,
          -87.4856,
          -112.5768,
          -109.92,
          -107.583,
          -78.9689,
          -76.042,
          -74.1319,
          -74.3330999999999,
          -73.4951,
          -72.7914,
          -74.3319,
          -74.9456,
          -107.48,
          -107.07,
          -104.3545,
          -111.464,
          -104.8096,
          -104.56,
          -104.5572,
          -105.1123,
          -103.6713,
          -105.6086,
          -101.1183,
          -74.3755,
          -111.96,
          -109.33,
          -109.19,
          -110.59,
          -110.76,
          -114.5762,
          -108.8758,
          -108.79,
          -107.0436,
          -109.0132,
          -97.4,
          -105.82,
          -104.12,
          -106.0637,
          -104.47,
          -110.916,
          -81.2123999999999,
          -82.0975,
          -78.0175,
          -78.2997,
          -77.5196999999999,
          -77.4089,
          -81.3872,
          -77.3844,
          -77.8559,
          -77.2803,
          -76.8448,
          -76.8792,
          -78.5382999999999,
          -71.4528,
          -71.5493999999999,
          -71.9578,
          -68.3353,
          -71.71,
          -74.4113,
          -74.3463,
          -74.3584,
          -76.7696999999999,
          -77.828,
          -78.8481,
          -111.49,
          -81.1910999999999,
          -97.08,
          -93.7757999999999,
          -94.0039,
          -93.9406,
          -94.1375,
          -94.0122,
          -93.8642,
          -81.078,
          -90.3164,
          -106.9858,
          -107.39,
          -81.3822,
          -69.04,
          -96.4,
          -80.8567,
          -79.6527,
          -79.6283,
          -80.0699999999999,
          -82.4397,
          -77.8779,
          -71.03,
          -75.948,
          -81.2780999999999,
          -89.3228,
          -86.665,
          -86.2394,
          -86.8477999999999,
          -77.3593999999999,
          -104.55,
          -112.549
         ],
         "marker": {
          "color": "#636efa"
         },
         "mode": "markers",
         "name": "Tornado (Land)",
         "showlegend": true,
         "subplot": "mapbox",
         "type": "scattermapbox"
        },
        {
         "hovertemplate": "event_type=Tornado (Water)<br>Y=%{lat}<br>X=%{lon}<extra></extra>",
         "lat": [
          44.41,
          54.8553000000001,
          44.4810000000001,
          44.496,
          42.3500000000001,
          44.45,
          44.4450000000001,
          43.2130000000001,
          43.212,
          43.2110000000001,
          43.9110000000001,
          43.91,
          43.909,
          43.912,
          54.434,
          51.2900000000001,
          51.2,
          51.205,
          42.71,
          41.7930000000001,
          45.3800000000001,
          43.7300000000001,
          46.26,
          43.0810000000001,
          42.78,
          44.1000000000001,
          44.5400000000001,
          44.7400000000001,
          44.65,
          44.4800000000001,
          44.6300000000001,
          44.6000000000001,
          43.89,
          43.8700000000001,
          43.8600000000001,
          43.1800000000001,
          48.47,
          42.4800000000001,
          43.8600000000001,
          43.28,
          43.4350000000001,
          43.4200000000001,
          43.4400000000001,
          43.4300000000001,
          43.4250000000001,
          42.6100000000001,
          46.27,
          46.857,
          42.4900000000001,
          49.8100000000001,
          49.83,
          49.84,
          49.8100000000001,
          49.8000000000001,
          42.547,
          43.14,
          44.8500000000001,
          44.84,
          44.84,
          43.9,
          44.0400000000001,
          43.95,
          43.955,
          43.6806634060001,
          44.6700000000001,
          44.6700000000001,
          43.7500000000001,
          42.41,
          51.5600000000001,
          50.3200000000001,
          59.47,
          43.1700000000001,
          50.26,
          42.52,
          42.45,
          43.8000000000001,
          42.84,
          42.8580000000001,
          42.8500000000001
         ],
         "legendgroup": "Tornado (Water)",
         "lon": [
          -79.21,
          -98.8907,
          -79.2549999999999,
          -81.4329999999999,
          -81.5699999999999,
          -79.27,
          -79.275,
          -79.5359999999999,
          -79.535,
          -79.5339999999999,
          -77.347,
          -77.3459999999999,
          -77.345,
          -77.348,
          -109.408,
          -98.98,
          -99.73,
          -99.735,
          -80.16,
          -82.6,
          -82.0099999999999,
          -81.85,
          -79.9,
          -82.253,
          -79.3,
          -81.8799999999999,
          -81.49,
          -81.4,
          -81.3,
          -81.58,
          -80.3699999999999,
          -80.22,
          -81.85,
          -81.85,
          -78.21,
          -82.1799999999999,
          -58.6999999999999,
          -80.4,
          -77.49,
          -79.426,
          -81.85,
          -81.85,
          -81.85,
          -81.85,
          -81.85,
          -80.9299999999999,
          -63.97,
          -84.415,
          -80.71,
          -124.77,
          -124.81,
          -124.82,
          -124.7,
          -124.7,
          -79.7789999999999,
          -82.1299999999999,
          -81.4299999999999,
          -81.45,
          -81.4399999999999,
          -81.78,
          -81.86,
          -81.8699999999999,
          -81.8699999999999,
          -81.772912879,
          -80.15,
          -80.16,
          -81.8,
          -80.6,
          -98.58,
          -94.74,
          -109.34,
          -82.2499999999999,
          -98.36,
          -80.4519999999999,
          -81.54,
          -77.92,
          -79.21,
          -79.04,
          -78.9999999999999
         ],
         "marker": {
          "color": "#EF553B"
         },
         "mode": "markers",
         "name": "Tornado (Water)",
         "showlegend": true,
         "subplot": "mapbox",
         "type": "scattermapbox"
        },
        {
         "hovertemplate": "event_type=Wind Damage (Unclassified)<br>Y=%{lat}<br>X=%{lon}<extra></extra>",
         "lat": [
          54.6720000000001,
          58.287,
          46.008,
          43.2980000000001,
          42.623,
          55.3079500000001,
          49.03,
          51.6890000000001,
          50.6675300000001,
          50.8456200000001,
          48.342,
          45.6020100000001,
          50.1120100000001,
          46.93839,
          45.60641,
          50.5498900000001,
          47.66,
          43.929069988,
          45.0286,
          51.1096000000001,
          49.6677000000001,
          43.2750332160001,
          49.1836000000001,
          44.7015000000001,
          44.4804,
          43.1578000000001,
          43.2972,
          43.0692000000001,
          43.1490000000001,
          42.229,
          51.9426,
          46.3000000000001,
          46.9289000000001,
          45.1993849610001,
          42.9224,
          48.6060000000001,
          46.3473000000001,
          49.5327,
          49.4077,
          49.635,
          46.5411,
          45.9454000000001,
          49.7260000000001,
          45.6050000000001,
          55.4540000000001,
          60.7609,
          48.2306,
          47.2844000000001,
          46.8462000000001,
          42.6628000000001,
          44.347,
          48.8334,
          48.9639000000001,
          43.8051,
          50.6367000000001,
          49.835,
          50.8500000000001,
          51.0050000000001,
          52.058,
          48.5889000000001,
          49.4948000000001,
          48.3519000000001,
          48.5530000000001,
          48.2662,
          43.5065000000001,
          53.6778,
          44.8058,
          52.0408,
          42.0739,
          46.5640000000001
         ],
         "legendgroup": "Wind Damage (Unclassified)",
         "lon": [
          -109.832,
          -118.592,
          -71.9639999999999,
          -81.0599999999999,
          -81.806,
          -113.85526,
          -99.41,
          -93.2429999999999,
          -95.40269,
          -106.0232,
          -91.547,
          -77.37495,
          -92.2245,
          -76.43914,
          -75.1118499999999,
          -98.64125,
          -81.73,
          -81.6995006239999,
          -79.1025,
          -111.6392,
          -100.6242,
          -79.7831721049999,
          -97.2517,
          -81.1015,
          -80.9145,
          -81.9510999999999,
          -81.5928,
          -81.5766,
          -80.7048,
          -82.141,
          -103.79475,
          -73.4,
          -84.5097,
          -79.077128746,
          -80.2882999999999,
          -89.6093999999999,
          -72.5482,
          -96.8592,
          -94.0957999999999,
          -105.3938,
          -72.7551999999999,
          -72.4093,
          -101.1379,
          -79.742,
          -103.2157,
          -130.3566,
          -66.7345999999999,
          -79.7932,
          -83.2433,
          -81.5065999999999,
          -80.0242,
          -78.3987999999999,
          -93.3108,
          -79.1883999999999,
          -101.2759,
          -103.022,
          -102,
          -113.76,
          -107.995,
          -80.9793999999999,
          -103.5655,
          -67.9743999999999,
          -67.8684,
          -69.5395,
          -81.0909,
          -106.7856,
          -77.9499,
          -103.5867,
          -82.629,
          -71.2008999999999
         ],
         "marker": {
          "color": "#00cc96"
         },
         "mode": "markers",
         "name": "Wind Damage (Unclassified)",
         "showlegend": true,
         "subplot": "mapbox",
         "type": "scattermapbox"
        },
        {
         "hovertemplate": "event_type=Vortex<br>Y=%{lat}<br>X=%{lon}<extra></extra>",
         "lat": [
          50.366,
          50.71,
          50.595,
          50.477,
          50.3990000000001,
          44.77,
          49.441,
          50.9,
          52.5600000000001,
          49.7500000000001,
          51.8320000000001,
          56.1900000000001,
          49.6800000000001,
          53.45,
          51.45,
          55.15,
          50.7,
          54.4300000000001,
          42.15,
          53.6100000000001,
          49.2180000000001,
          49.1800000000001,
          49.6300000000001,
          50.51,
          52.489,
          53.229,
          53.02,
          49.59,
          53.27,
          49.78,
          50.1105000000001,
          52.2900000000001,
          46.2300000000001,
          50.3500000000001,
          52.83,
          52.1800000000001,
          52.6900000000001,
          42.09,
          52.7,
          52.7,
          52.5600000000001,
          51.902,
          51.33,
          53.02,
          52.6700000000001,
          49.46,
          53.21,
          42.8665,
          42.8456800000001,
          49.9,
          51.6000000000001,
          42.1800000000001,
          42.1800000000001,
          43.14,
          46.4300000000001,
          52.3100000000001,
          53.51,
          45.549,
          52.34691,
          55.15,
          42.5500000000001,
          42.0976000000001,
          49.9900000000001,
          50.3200000000001,
          51.78,
          50.787,
          42.8600000000001,
          42.2300000000001,
          42.78,
          51.1680000000001,
          51.1680000000001,
          51.1680000000001,
          53.78,
          50.84,
          51.2710000000001,
          45.847,
          46.6122,
          49.657,
          50.1300000000001,
          49.27,
          50.135,
          49.9970000000001,
          45.3720000000001,
          49.21,
          52.4060000000001,
          46.5700000000001,
          54.0070000000001,
          50.532,
          49.6920000000001,
          44.4400000000001,
          50.4800000000001,
          51.7400000000001,
          43.4400000000001,
          46.08,
          50.72,
          43.4200000000001,
          44.7400000000001,
          51.02,
          49.2500000000001,
          51.03,
          52.52,
          52.7900000000001,
          53.95,
          55.7400000000001,
          49.8600000000001,
          43.0640000000001,
          55.1700000000001,
          50.4800000000001,
          50.4100000000001,
          53.0400000000001,
          51.265,
          51.26,
          56.22,
          50.76,
          49.9,
          49.9300000000001,
          49.1900000000001,
          51.1050000000001,
          51.5650000000001,
          51.5700000000001,
          51.5700000000001,
          51.1300000000001,
          51.4200000000001,
          51.1700000000001,
          51.1700000000001,
          50.4800000000001,
          43.09,
          44.08,
          49.78,
          49.4300000000001,
          49.1100000000001,
          51.14,
          45.8600000000001,
          53.09,
          53.0500000000001,
          51.83,
          52.1700000000001,
          49.1800000000001,
          51.45,
          51.0280000000001,
          51.02,
          51.1000000000001,
          42.26,
          51.3000000000001,
          45.9800000000001,
          43.4900000000001,
          51.2725,
          51.3700000000001,
          43.5000000000001,
          42.8670000000001,
          49.84,
          43.8100000000001,
          43.2500000000001,
          42.2,
          49.2,
          42.0600000000001,
          42.7640000000001,
          45.9,
          45.3000000000001,
          50.65,
          50.51,
          45.3061000000001,
          42.765,
          51.1600000000001,
          46.5432000000001,
          50.1200000000001,
          49.8380000000001,
          42.8200000000001,
          43.45,
          42.96,
          42.9400000000001,
          52.1200000000001,
          52.9100000000001,
          49.6600000000001,
          49.84,
          49.8800000000001,
          49.1000000000001,
          49.9100000000001,
          44.6700000000001,
          52.7500000000001,
          50.6000000000001,
          55.76,
          48.6850000000001,
          52.52,
          52.27,
          50.52,
          50.539,
          50.5500000000001,
          52.4400000000001,
          42.092,
          51.6100000000001,
          51.7500000000001,
          52.4400000000001,
          51.97,
          42.59,
          42.59,
          54.3960000000001,
          52.4400000000001,
          45.6100000000001,
          42.2300000000001,
          42.2300000000001,
          52.65,
          44.58,
          51.4300000000001,
          47.7980000000001,
          42.5400000000001,
          50.2900000000001,
          44.3700000000001,
          52.9657,
          52.9300000000001,
          50.6200000000001,
          50.8000000000001,
          49.8700000000001,
          50.4,
          50.3500000000001,
          50.09,
          49.0600000000001,
          44.0600000000001,
          45.3800000000001,
          45.91,
          50.22,
          50.08,
          50.03,
          52.4300000000001,
          50.78,
          53.2400000000001,
          49.83,
          49.8100000000001,
          49.6300000000001,
          49.83,
          51.71,
          52.6600000000001,
          52.5000000000001,
          51.5600000000001,
          51.6900000000001,
          51.02,
          49.9130000000001,
          43.1370000000001,
          53.272,
          42.4200000000001,
          45.3200000000001,
          42.2400000000001,
          49.2300000000001,
          44.2980000000001
         ],
         "legendgroup": "Vortex",
         "lon": [
          -112,
          -112.21,
          -111.954,
          -109.491,
          -103.874,
          -76.7,
          -98.677,
          -104.6,
          -107.64,
          -98.35,
          -114.128,
          -117.61,
          -96.71,
          -112.13,
          -99.3,
          -118.85,
          -113.99,
          -109.399,
          -82.97,
          -113.7,
          -105.219,
          -103.682,
          -108.43,
          -105.06,
          -113.589,
          -113.503,
          -112.83,
          -97.5699999999999,
          -113.61,
          -104.72,
          -106.00117,
          -106.62,
          -64.28,
          -112.81,
          -114.37,
          -106.56,
          -106.31,
          -82.65,
          -105.75,
          -105.74,
          -105.46,
          -103.8,
          -97.58,
          -107.6,
          -106.65,
          -97.1,
          -113.98,
          -81.0308899999999,
          -81.03979,
          -96.84,
          -114.14,
          -81.95,
          -81.96,
          -80.0699999999999,
          -63.6299999999999,
          -114.11,
          -111.53,
          -75.309,
          -114.36109,
          -119.15,
          -82.3799999999999,
          -82.4249,
          -101.2,
          -100.87,
          -113.54,
          -112.41,
          -80.73,
          -82.41,
          -81.15,
          -111.666,
          -111.616,
          -111.566,
          -111.69,
          -112.86,
          -114.414,
          -72.422,
          -72.6894,
          -97.133,
          -97.55,
          -97.8199999999999,
          -97.552,
          -107.756,
          -75.622,
          -123.22,
          -113.103,
          -72.2,
          -113.149,
          -104.649,
          -111.508,
          -79.59,
          -104.43,
          -107.57,
          -80.6199999999999,
          -72.54,
          -113.96,
          -81.64,
          -79.8099999999999,
          -113.93,
          -112.2,
          -113.47,
          -113.73,
          -111.9,
          -113.47,
          -120.2,
          -110.69,
          -81.0049999999999,
          -118.79,
          -111.65,
          -107.24,
          -111.82,
          -113.76,
          -113.76,
          -120.82,
          -119.26,
          -97.6,
          -98.77,
          -97.4299999999999,
          -114.382,
          -114.01,
          -114.015,
          -114.01,
          -113.12,
          -114.4,
          -108.64,
          -108.63,
          -103.88,
          -79.14,
          -78.04,
          -103.02,
          -99.35,
          -97.34,
          -100.02,
          -72.42,
          -105.64,
          -105.85,
          -103.52,
          -106.47,
          -100.99,
          -114.12,
          -114.199,
          -114.22,
          -112.64,
          -82.39,
          -103.74,
          -81.9299999999999,
          -81.2599999999999,
          -112.283,
          -112.26,
          -79.6899999999999,
          -80.0119999999999,
          -104.16,
          -79.6799999999999,
          -79.9399999999999,
          -82.47,
          -101.79,
          -82.99,
          -80.876,
          -73.67,
          -73.1799999999999,
          -101.32,
          -100.3,
          -74.8271999999999,
          -81.1059999999999,
          -119.59,
          -84.1688,
          -119.48,
          -119.622,
          -80.2499999999999,
          -81.16,
          -81.42,
          -81.85,
          -106.86,
          -106.79,
          -96.6899999999999,
          -100.52,
          -99.97,
          -99.6799999999999,
          -100.88,
          -79.49,
          -111.7,
          -97.09,
          -120.21,
          -89.525,
          -109.11,
          -107.94,
          -113.84,
          -113.782,
          -113.59,
          -112.76,
          -82.6829999999999,
          -113.55,
          -111.92,
          -113.57,
          -101.28,
          -82.23,
          -82.24,
          -126.667,
          -114.09,
          -73.3,
          -82.66,
          -82.65,
          -107.02,
          -78.92,
          -114.15,
          -64.9349999999999,
          -81.95,
          -105.53,
          -80.83,
          -122.5139,
          -123.01,
          -103.63,
          -105.22,
          -110.87,
          -112.16,
          -112.14,
          -110.83,
          -122.11,
          -81.52,
          -76.23,
          -71.7,
          -113.53,
          -110.71,
          -99.96,
          -106.04,
          -113.51,
          -113.51,
          -111.78,
          -112.62,
          -112.92,
          -111.79,
          -113.18,
          -114.25,
          -113.92,
          -109.72,
          -114.39,
          -106.81,
          -97.534,
          -81.883,
          -109.994,
          -82.3199999999999,
          -74.98,
          -82.97,
          -97.03,
          -81.603
         ],
         "marker": {
          "color": "#ab63fa"
         },
         "mode": "markers",
         "name": "Vortex",
         "showlegend": true,
         "subplot": "mapbox",
         "type": "scattermapbox"
        },
        {
         "hovertemplate": "event_type=Downburst<br>Y=%{lat}<br>X=%{lon}<extra></extra>",
         "lat": [
          44.525,
          42.1770000000001,
          44.2310000000001,
          43.2040000000001,
          49.9810000000001,
          50.1442200000001,
          42.3201500000001,
          54.4484,
          44.9799,
          54.0400000000001,
          54.05125,
          46.0384500000001,
          43.2195,
          45.0102000000001,
          46.2122000000001,
          45.8686000000001,
          50.6799600000001,
          51.147,
          48.5083300000001,
          51.229,
          48.6324000000001,
          49.6825000000001,
          48.7414200000001,
          50.0771,
          48.633,
          43.0743000000001,
          42.9070600000001,
          49.5600000000001,
          43.2482400000001,
          54.4568,
          50.99379,
          48.7347,
          42.5152,
          45.0170000000001,
          53.4693,
          47.9990000000001,
          43.08885,
          49.905,
          45.5017500000001,
          42.0930000000001,
          44.3320000000001,
          46.5522,
          42.8785,
          42.0845,
          51.0197000000001,
          48.573103637,
          44.4708000000001,
          47.3805,
          44.6129,
          42.902499678,
          44.1062143390001,
          46.0033000000001,
          45.941580876,
          49.2169000000001,
          49.2245,
          49.2252,
          49.2618000000001,
          49.2526,
          49.2576000000001,
          49.2606000000001,
          49.2172,
          49.2636000000001,
          49.2287000000001,
          49.2302000000001,
          49.2192000000001,
          49.2792000000001,
          49.2545000000001,
          49.2544,
          49.2506000000001,
          49.2708000000001,
          49.2719000000001,
          49.2708000000001,
          49.2354,
          49.2582,
          49.2568000000001,
          49.2546,
          49.2459000000001,
          49.2232000000001,
          49.2445000000001,
          49.2439000000001,
          49.222,
          49.22,
          49.2341000000001,
          49.2288,
          49.2642000000001,
          49.2540000000001,
          48.7830000000001,
          42.3050000000001,
          44.7611000000001,
          45.3469000000001,
          45.5742000000001,
          51.6617900000001,
          50.6978,
          51.4167,
          53.0153000000001,
          49.3297000000001,
          49.6633,
          53.2880000000001,
          50.2912000000001,
          43.316,
          44.1482,
          44.9406000000001,
          45.0522,
          42.1508000000001,
          44.6079,
          42.0380000000001,
          53.5840000000001,
          53.0640000000001,
          52.8856000000001,
          53.2824000000001,
          53.3620000000001,
          45.5840000000001,
          52.9497000000001,
          49.686865326,
          43.6770000000001,
          43.244,
          45.5818,
          49.0679000000001,
          49.0496000000001,
          51.6379000000001,
          53.0910000000001,
          48.6211000000001,
          43.561,
          42.8860000000001,
          43.21,
          46.3153,
          43.342,
          43.323,
          43.8107000000001,
          43.3279000000001,
          43.7237000000001,
          42.958,
          43.3700000000001,
          42.9710039330001,
          46.1117,
          42.3100000000001,
          49.0125,
          53.753,
          49.4640000000001,
          48.5394000000001,
          48.4553000000001,
          49.5692000000001,
          51.5661000000001,
          52.5840000000001,
          52.775,
          43.321,
          49.7273000000001,
          49.8356000000001,
          43.0032,
          48.573,
          43.1236000000001,
          43.0834,
          43.0215000000001,
          42.979,
          45.0119,
          44.7864000000001,
          46.0639,
          46.905,
          42.657,
          42.8921,
          42.9929000000001,
          42.8921,
          52.845,
          49.4636,
          48.7359000000001,
          52.3314,
          45.4880000000001,
          50.5760000000001,
          50.95,
          49.563,
          50.9116000000001,
          43.7430000000001,
          49.8508,
          52.3750000000001,
          51.6482,
          45.2423000000001,
          45.2173000000001,
          46.0697000000001,
          50.0924000000001,
          60.3469000000001,
          56.8684000000001,
          46.4674000000001,
          56.5794000000001,
          55.8263000000001,
          56.3928000000001,
          56.6883,
          45.1130000000001,
          56.5034000000001,
          57.7221000000001,
          57.7795,
          56.6057000000001,
          58.2868,
          58.2228000000001,
          58.0903000000001,
          57.8144,
          57.9958,
          57.5672000000001,
          58.1587000000001,
          58.3902,
          56.0859,
          57.6692,
          42.0121,
          58.5665000000001,
          58.7163,
          58.7753000000001,
          58.8348,
          58.8827000000001,
          58.5599,
          58.7486000000001,
          58.4707000000001,
          58.6617000000001,
          58.8793000000001,
          44.9456000000001,
          44.9292,
          58.5758000000001,
          59.0229,
          44.5658000000001,
          42.2879,
          42.7377000000001,
          54.7311,
          55.1866000000001,
          45.9941000000001,
          45.9516,
          45.8559000000001,
          45.9917,
          45.4686,
          47.4271000000001,
          45.0741,
          45.6103000000001,
          42.172,
          50.6357,
          48.7301,
          44.5461000000001,
          56.4828000000001,
          46.4585000000001,
          46.345,
          42.1393,
          46.2058000000001,
          42.2190000000001,
          46.3511,
          46.2902,
          46.0855000000001,
          46.7457000000001,
          46.5237000000001,
          46.5081000000001,
          46.4657,
          43.0570000000001,
          47.2583000000001,
          44.5388,
          44.4495000000001,
          42.7775,
          43.147,
          42.8705,
          43.1691000000001,
          43.8769,
          44.2140000000001,
          45.6034000000001,
          44.5301000000001,
          45.3511,
          44.1854000000001,
          44.381,
          44.8508,
          44.7892000000001,
          42.8581,
          44.0192000000001,
          44.8781000000001,
          44.6469000000001,
          49.3947000000001,
          48.7121000000001,
          48.633,
          49.5731000000001,
          50.0192000000001,
          42.3990000000001,
          46.5389000000001,
          45.5236,
          44.1682000000001,
          44.169,
          44.4579000000001,
          48.5406,
          48.5781000000001,
          50.518,
          51.9199,
          50.1296,
          50.7262000000001,
          48.8825000000001,
          49.7461000000001,
          49.3297000000001,
          49.2753000000001,
          48.7515000000001,
          56.0828000000001,
          51.6444000000001,
          46.3106000000001,
          47.6061,
          51.2538000000001,
          50.4203000000001,
          46.7470000000001,
          55.8297000000001,
          52.6406000000001,
          50.4133,
          50.2329,
          50.1477,
          50.1989,
          49.3892000000001,
          49.2769000000001,
          49.1428000000001,
          49.2797,
          49.0647000000001,
          51.1158,
          50.0818,
          50.7917,
          50.0377,
          47.0925,
          43.1155000000001,
          43.0326000000001,
          47.3786000000001,
          55.405,
          48.4206,
          47.9103000000001,
          47.7956,
          48.3375,
          48.3268,
          45.8003,
          47.0899000000001,
          46.3503000000001,
          47.4686,
          44.6133,
          44.592,
          47.6197000000001,
          47.6231000000001,
          45.5064,
          45.5996000000001,
          56.2470000000001,
          56.3868000000001,
          55.9294,
          56.4803000000001,
          52.2900000000001,
          52.0561000000001,
          51.9157000000001,
          50.7039,
          43.681,
          50.4819000000001,
          53.7953000000001,
          53.7017000000001,
          53.6402,
          49.1042,
          52.1641000000001,
          52.128,
          48.9302000000001,
          42.3028,
          44.3783000000001,
          45.4822,
          50.4128000000001
         ],
         "legendgroup": "Downburst",
         "lon": [
          -78.724,
          -82.8199999999999,
          -76.585,
          -79.841,
          -98.3486,
          -97.0486099999999,
          -81.8466,
          -109.2774,
          -75.6758,
          -105.487,
          -105.09862,
          -76.87843,
          -80.58262,
          -77.4487999999999,
          -76.1036,
          -75.7397,
          -95.2261599999999,
          -108.766,
          -91.2260199999999,
          -90.23,
          -90.1747,
          -89.4422,
          -93.23999,
          -113.003,
          -91.539,
          -79.9241,
          -79.61161,
          -70.4555999999999,
          -81.82248,
          -110.56033,
          -105.17922,
          -91.2069,
          -82.0732199999999,
          -74.716,
          -114.4963,
          -66.694,
          -79.99878,
          -112.647,
          -74.73538,
          -82.736,
          -79.318,
          -75.4737,
          -82.1013,
          -83.0513999999999,
          -93.82312,
          -80.985381831,
          -79.5296999999999,
          -72.77904,
          -79.5635,
          -78.918029502,
          -77.0533830589999,
          -66.8703,
          -66.709519913,
          -93.5361,
          -93.5411999999999,
          -93.5484,
          -93.2271,
          -93.2621,
          -93.2146999999999,
          -93.1924,
          -93.5268,
          -93.2155,
          -93.5173,
          -93.5124,
          -93.504,
          -93.2648,
          -93.2705999999999,
          -93.2769,
          -93.3093,
          -93.3292,
          -93.3319999999999,
          -93.3379,
          -93.3663,
          -93.2431,
          -93.3712,
          -93.3828999999999,
          -93.4243,
          -93.4483,
          -93.4491,
          -93.4566,
          -93.4741999999999,
          -93.4834999999999,
          -93.494,
          -93.3724999999999,
          -93.1752999999999,
          -93.3901,
          -94.1829999999999,
          -83.038,
          -79.813,
          -79.0225,
          -78.59,
          -114.52284,
          -115.8881,
          -111.4949,
          -105.2626,
          -98.8357999999999,
          -98.6571,
          -88.3199999999999,
          -66.2807999999999,
          -81.3199999999999,
          -79.7631,
          -76.5886,
          -76.2830999999999,
          -82.3946999999999,
          -76.1283,
          -82.74,
          -104.14,
          -103.758,
          -103.7224,
          -103.5921,
          -104.033,
          -76.812,
          -91.3441,
          -107.136229397,
          -79.501,
          -81.712,
          -74.5805999999999,
          -97.4481,
          -96.8249499999999,
          -101.6647,
          -113.4677,
          -91.7823,
          -81.696,
          -81.893,
          -81.5567,
          -79.4637999999999,
          -81.49,
          -81.313,
          -81.0955,
          -81.0411,
          -81.289,
          -81.288,
          -80.1969999999999,
          -80.491983907,
          -77.3172,
          -82.5289999999999,
          -78.8539,
          -112.779,
          -104.567,
          -78.8842,
          -78.705,
          -78.1333,
          -101.8368,
          -112.063,
          -111.692,
          -79.807,
          -99.7049,
          -94.0169,
          -81.9439,
          -81.2222,
          -80.9213,
          -80.4725,
          -80.9598,
          -81.2605,
          -74.7757999999999,
          -79.3521,
          -72.0524,
          -84.388,
          -80.7929999999999,
          -79.6351999999999,
          -80.8536999999999,
          -79.6351999999999,
          -110.874,
          -84.6904,
          -89.454,
          -107.3288,
          -73.982,
          -112.053,
          -110.7151,
          -97.1154,
          -89.973,
          -81.336,
          -93.9342,
          -113.999,
          -107.6995,
          -73.1251999999999,
          -73.7363999999999,
          -72.1643,
          -91.9072,
          -121.7686,
          -120.8912,
          -67.5799,
          -121.2979,
          -121.5827,
          -121.2518,
          -121.1291,
          -63.3609999999999,
          -121.1171,
          -121.8693,
          -120.1791,
          -120.5379,
          -120.5299,
          -120.8971,
          -120.9388,
          -121.5936,
          -121.3011,
          -122.1579,
          -121.8274,
          -121.4349,
          -121.2377,
          -121.9885,
          -82.9227999999999,
          -118.1815,
          -117.9188,
          -118.4142,
          -118.4428,
          -118.4766,
          -118.4199,
          -119.685,
          -118.5002,
          -117.9331,
          -119.6561,
          -77.1828,
          -77.0458,
          -118.5744,
          -117.7919,
          -80.5409999999999,
          -82.6251999999999,
          -81.881,
          -112.0195,
          -111.8078,
          -75.8428,
          -75.8647999999999,
          -76.5645,
          -75.564,
          -78.9318,
          -79.241,
          -75.4831,
          -79.9757,
          -82.331,
          -94.3857,
          -93.2055999999999,
          -80.4614,
          -119.8553,
          -83.5552,
          -82.9055999999999,
          -82.7329,
          -84.0354,
          -83.0427,
          -83.2684,
          -83.9235,
          -83.9059,
          -82.8189,
          -83.4833,
          -83.2370999999999,
          -83.2037999999999,
          -81.1523,
          -79.8969999999999,
          -81.3330999999999,
          -81.3776,
          -80.5895,
          -81.5590999999999,
          -81.165,
          -81.6856999999999,
          -81.6507999999999,
          -81.1050999999999,
          -72.2676999999999,
          -78.0051,
          -75.5741,
          -78.664,
          -78.0169999999999,
          -77.7486,
          -77.8164,
          -81.4220999999999,
          -79.3267,
          -77.3429,
          -77.8011,
          -93.0638,
          -93.4781,
          -93.837,
          -92.7218999999999,
          -83.1269,
          -82.1849999999999,
          -84.2148,
          -74.4655,
          -77.3876,
          -77.1899,
          -75.8552999999999,
          -72.6532999999999,
          -72.5047,
          -101.152,
          -101.4368,
          -102.2585,
          -101.0195,
          -93.6283,
          -84.9177999999999,
          -85.3613999999999,
          -85.0296999999999,
          -89.3362,
          -109.7833,
          -90.4453,
          -74.9566,
          -67.58,
          -103.735,
          -91.425,
          -71.347,
          -112.6519,
          -101.1347,
          -102.9381,
          -101.9759,
          -101.6618,
          -101.6777,
          -94.5833,
          -94.4694,
          -94.0169,
          -94.1471999999999,
          -93.9206,
          -92.5667,
          -110.7328,
          -100.6147,
          -84.6061,
          -77.8634,
          -81.8567,
          -79.3158999999999,
          -77.0592,
          -97.4324999999999,
          -68.4363999999999,
          -68.2744,
          -68.3908,
          -68.3156,
          -68.1842,
          -71.9039,
          -69.7471,
          -74.7535999999999,
          -67.3416999999999,
          -76.1283999999999,
          -76.6308999999999,
          -68.9183,
          -73.8181,
          -63.8747,
          -74.376,
          -118.5997,
          -118.9468,
          -117.9522,
          -121.9267,
          -115.2283,
          -115.0556,
          -109.1287,
          -93.6093999999999,
          -80.4209999999999,
          -90.1224999999999,
          -106.1161,
          -106.6248,
          -106.9741,
          -72.1935999999999,
          -103.5256,
          -104.5271,
          -79.5565,
          -83.0207,
          -76.2966,
          -76.0767,
          -104.2829
         ],
         "marker": {
          "color": "#FFA15A"
         },
         "mode": "markers",
         "name": "Downburst",
         "showlegend": true,
         "subplot": "mapbox",
         "type": "scattermapbox"
        },
        {
         "hovertemplate": "event_type=Visual Vortex (Unclassified)<br>Y=%{lat}<br>X=%{lon}<extra></extra>",
         "lat": [
          51.4900000000001,
          51.97,
          54.6600000000001,
          49.34,
          50.5600000000001,
          55.08,
          41.9800000000001,
          49.9110000000001,
          49.14,
          50.3200000000001,
          51.0700000000001,
          42.8200000000001,
          43.2400000000001,
          45.2500000000001,
          49.09,
          45.1800000000001,
          51.7900000000001,
          53.0500000000001,
          49.0700000000001,
          42.03,
          49.4100000000001,
          45.27,
          53.39,
          44.97,
          47.51,
          50.4800000000001,
          43.08,
          43.3000000000001,
          43.3200000000001,
          52.1800000000001,
          50.2500000000001,
          52.8600000000001,
          42.3100000000001,
          49.5400000000001,
          42.47,
          45.58,
          45.3190000000001,
          46.797,
          51.8800000000001,
          52.0000000000001,
          50.28,
          50.52,
          49.47,
          42.2300000000001,
          49.03,
          50.5500000000001,
          50.7,
          43.1000000000001,
          46.3000000000001,
          46.4200000000001,
          44.0400000000001,
          45.3500000000001,
          43.7500000000001,
          52.7300000000001,
          53.2,
          42.8600000000001,
          42.8600000000001,
          42.51,
          46.2550000000001,
          42.8800000000001,
          46.6870000000001,
          46.9400000000001,
          49.4300000000001,
          51.2500000000001,
          50.6200000000001,
          51.2140000000001,
          50.9100000000001,
          54.0700000000001,
          52.4200000000001,
          52.2300000000001,
          52.83,
          52.2400000000001,
          51.52,
          54.0000000000001,
          53.72,
          52.45,
          52.4200000000001,
          46.26,
          58.5000000000001,
          50.71,
          50.1600000000001,
          49.217,
          49.7500000000001,
          44.14,
          42.8700000000001,
          42.83,
          42.78,
          42.89,
          43.09,
          49.6600000000001,
          43.1200000000001,
          42.95,
          45.0600000000001,
          46.4,
          42.8500000000001,
          42.45,
          45.72,
          49.8700000000001
         ],
         "legendgroup": "Visual Vortex (Unclassified)",
         "lon": [
          -114.54,
          -114.47,
          -111.9,
          -119.66,
          -120.63,
          -114.06,
          -82.74,
          -106.056,
          -105.839,
          -104.36,
          -98.3799999999999,
          -81.47,
          -81.3,
          -74.3799999999999,
          -96.65,
          -81.6199999999999,
          -113.27,
          -111.82,
          -97.5699999999999,
          -83.09,
          -105.11,
          -76.16,
          -111.17,
          -81.2,
          -67.39,
          -100.25,
          -80.4399999999999,
          -81.48,
          -81.64,
          -113.86,
          -97.41,
          -112.83,
          -82.2599999999999,
          -99.45,
          -82.16,
          -72.89,
          -73.2909999999999,
          -67.4929999999999,
          -112.95,
          -112.5,
          -99.84,
          -108.18,
          -103.04,
          -82.7,
          -104.6,
          -107.87,
          -111.9,
          -79.15,
          -74.8199999999999,
          -72.08,
          -77.28,
          -76.1799999999999,
          -80.91,
          -105.79,
          -117.92,
          -81.0599999999999,
          -80.35,
          -82.3199999999999,
          -61.3,
          -82.34,
          -72.737,
          -70.6799999999999,
          -123.39,
          -107.77,
          -112.34,
          -109.5,
          -102.81,
          -113.85,
          -112.88,
          -113.92,
          -113.35,
          -113.93,
          -114.55,
          -112.05,
          -113.55,
          -113.71,
          -113.63,
          -71.45,
          -111.4,
          -98.26,
          -105.27,
          -68.15,
          -101.03,
          -79.61,
          -82.3799999999999,
          -82.0099999999999,
          -82.15,
          -81.11,
          -81.23,
          -97.15,
          -81.95,
          -80.05,
          -75.54,
          -81.17,
          -79.0099999999999,
          -80.97,
          -74.05,
          -119.65
         ],
         "marker": {
          "color": "#19d3f3"
         },
         "mode": "markers",
         "name": "Visual Vortex (Unclassified)",
         "showlegend": true,
         "subplot": "mapbox",
         "type": "scattermapbox"
        }
       ],
       "layout": {
        "height": 600,
        "legend": {
         "title": {
          "text": "event_type"
         },
         "tracegroupgap": 0
        },
        "mapbox": {
         "center": {
          "lat": 48.39573000689762,
          "lon": -91.9158339734436
         },
         "domain": {
          "x": [
           0,
           1
          ],
          "y": [
           0,
           1
          ]
         },
         "style": "open-street-map",
         "zoom": 2
        },
        "margin": {
         "t": 60
        },
        "template": {
         "data": {
          "bar": [
           {
            "error_x": {
             "color": "#2a3f5f"
            },
            "error_y": {
             "color": "#2a3f5f"
            },
            "marker": {
             "line": {
              "color": "#E5ECF6",
              "width": 0.5
             },
             "pattern": {
              "fillmode": "overlay",
              "size": 10,
              "solidity": 0.2
             }
            },
            "type": "bar"
           }
          ],
          "barpolar": [
           {
            "marker": {
             "line": {
              "color": "#E5ECF6",
              "width": 0.5
             },
             "pattern": {
              "fillmode": "overlay",
              "size": 10,
              "solidity": 0.2
             }
            },
            "type": "barpolar"
           }
          ],
          "carpet": [
           {
            "aaxis": {
             "endlinecolor": "#2a3f5f",
             "gridcolor": "white",
             "linecolor": "white",
             "minorgridcolor": "white",
             "startlinecolor": "#2a3f5f"
            },
            "baxis": {
             "endlinecolor": "#2a3f5f",
             "gridcolor": "white",
             "linecolor": "white",
             "minorgridcolor": "white",
             "startlinecolor": "#2a3f5f"
            },
            "type": "carpet"
           }
          ],
          "choropleth": [
           {
            "colorbar": {
             "outlinewidth": 0,
             "ticks": ""
            },
            "type": "choropleth"
           }
          ],
          "contour": [
           {
            "colorbar": {
             "outlinewidth": 0,
             "ticks": ""
            },
            "colorscale": [
             [
              0,
              "#0d0887"
             ],
             [
              0.1111111111111111,
              "#46039f"
             ],
             [
              0.2222222222222222,
              "#7201a8"
             ],
             [
              0.3333333333333333,
              "#9c179e"
             ],
             [
              0.4444444444444444,
              "#bd3786"
             ],
             [
              0.5555555555555556,
              "#d8576b"
             ],
             [
              0.6666666666666666,
              "#ed7953"
             ],
             [
              0.7777777777777778,
              "#fb9f3a"
             ],
             [
              0.8888888888888888,
              "#fdca26"
             ],
             [
              1,
              "#f0f921"
             ]
            ],
            "type": "contour"
           }
          ],
          "contourcarpet": [
           {
            "colorbar": {
             "outlinewidth": 0,
             "ticks": ""
            },
            "type": "contourcarpet"
           }
          ],
          "heatmap": [
           {
            "colorbar": {
             "outlinewidth": 0,
             "ticks": ""
            },
            "colorscale": [
             [
              0,
              "#0d0887"
             ],
             [
              0.1111111111111111,
              "#46039f"
             ],
             [
              0.2222222222222222,
              "#7201a8"
             ],
             [
              0.3333333333333333,
              "#9c179e"
             ],
             [
              0.4444444444444444,
              "#bd3786"
             ],
             [
              0.5555555555555556,
              "#d8576b"
             ],
             [
              0.6666666666666666,
              "#ed7953"
             ],
             [
              0.7777777777777778,
              "#fb9f3a"
             ],
             [
              0.8888888888888888,
              "#fdca26"
             ],
             [
              1,
              "#f0f921"
             ]
            ],
            "type": "heatmap"
           }
          ],
          "heatmapgl": [
           {
            "colorbar": {
             "outlinewidth": 0,
             "ticks": ""
            },
            "colorscale": [
             [
              0,
              "#0d0887"
             ],
             [
              0.1111111111111111,
              "#46039f"
             ],
             [
              0.2222222222222222,
              "#7201a8"
             ],
             [
              0.3333333333333333,
              "#9c179e"
             ],
             [
              0.4444444444444444,
              "#bd3786"
             ],
             [
              0.5555555555555556,
              "#d8576b"
             ],
             [
              0.6666666666666666,
              "#ed7953"
             ],
             [
              0.7777777777777778,
              "#fb9f3a"
             ],
             [
              0.8888888888888888,
              "#fdca26"
             ],
             [
              1,
              "#f0f921"
             ]
            ],
            "type": "heatmapgl"
           }
          ],
          "histogram": [
           {
            "marker": {
             "pattern": {
              "fillmode": "overlay",
              "size": 10,
              "solidity": 0.2
             }
            },
            "type": "histogram"
           }
          ],
          "histogram2d": [
           {
            "colorbar": {
             "outlinewidth": 0,
             "ticks": ""
            },
            "colorscale": [
             [
              0,
              "#0d0887"
             ],
             [
              0.1111111111111111,
              "#46039f"
             ],
             [
              0.2222222222222222,
              "#7201a8"
             ],
             [
              0.3333333333333333,
              "#9c179e"
             ],
             [
              0.4444444444444444,
              "#bd3786"
             ],
             [
              0.5555555555555556,
              "#d8576b"
             ],
             [
              0.6666666666666666,
              "#ed7953"
             ],
             [
              0.7777777777777778,
              "#fb9f3a"
             ],
             [
              0.8888888888888888,
              "#fdca26"
             ],
             [
              1,
              "#f0f921"
             ]
            ],
            "type": "histogram2d"
           }
          ],
          "histogram2dcontour": [
           {
            "colorbar": {
             "outlinewidth": 0,
             "ticks": ""
            },
            "colorscale": [
             [
              0,
              "#0d0887"
             ],
             [
              0.1111111111111111,
              "#46039f"
             ],
             [
              0.2222222222222222,
              "#7201a8"
             ],
             [
              0.3333333333333333,
              "#9c179e"
             ],
             [
              0.4444444444444444,
              "#bd3786"
             ],
             [
              0.5555555555555556,
              "#d8576b"
             ],
             [
              0.6666666666666666,
              "#ed7953"
             ],
             [
              0.7777777777777778,
              "#fb9f3a"
             ],
             [
              0.8888888888888888,
              "#fdca26"
             ],
             [
              1,
              "#f0f921"
             ]
            ],
            "type": "histogram2dcontour"
           }
          ],
          "mesh3d": [
           {
            "colorbar": {
             "outlinewidth": 0,
             "ticks": ""
            },
            "type": "mesh3d"
           }
          ],
          "parcoords": [
           {
            "line": {
             "colorbar": {
              "outlinewidth": 0,
              "ticks": ""
             }
            },
            "type": "parcoords"
           }
          ],
          "pie": [
           {
            "automargin": true,
            "type": "pie"
           }
          ],
          "scatter": [
           {
            "fillpattern": {
             "fillmode": "overlay",
             "size": 10,
             "solidity": 0.2
            },
            "type": "scatter"
           }
          ],
          "scatter3d": [
           {
            "line": {
             "colorbar": {
              "outlinewidth": 0,
              "ticks": ""
             }
            },
            "marker": {
             "colorbar": {
              "outlinewidth": 0,
              "ticks": ""
             }
            },
            "type": "scatter3d"
           }
          ],
          "scattercarpet": [
           {
            "marker": {
             "colorbar": {
              "outlinewidth": 0,
              "ticks": ""
             }
            },
            "type": "scattercarpet"
           }
          ],
          "scattergeo": [
           {
            "marker": {
             "colorbar": {
              "outlinewidth": 0,
              "ticks": ""
             }
            },
            "type": "scattergeo"
           }
          ],
          "scattergl": [
           {
            "marker": {
             "colorbar": {
              "outlinewidth": 0,
              "ticks": ""
             }
            },
            "type": "scattergl"
           }
          ],
          "scattermapbox": [
           {
            "marker": {
             "colorbar": {
              "outlinewidth": 0,
              "ticks": ""
             }
            },
            "type": "scattermapbox"
           }
          ],
          "scatterpolar": [
           {
            "marker": {
             "colorbar": {
              "outlinewidth": 0,
              "ticks": ""
             }
            },
            "type": "scatterpolar"
           }
          ],
          "scatterpolargl": [
           {
            "marker": {
             "colorbar": {
              "outlinewidth": 0,
              "ticks": ""
             }
            },
            "type": "scatterpolargl"
           }
          ],
          "scatterternary": [
           {
            "marker": {
             "colorbar": {
              "outlinewidth": 0,
              "ticks": ""
             }
            },
            "type": "scatterternary"
           }
          ],
          "surface": [
           {
            "colorbar": {
             "outlinewidth": 0,
             "ticks": ""
            },
            "colorscale": [
             [
              0,
              "#0d0887"
             ],
             [
              0.1111111111111111,
              "#46039f"
             ],
             [
              0.2222222222222222,
              "#7201a8"
             ],
             [
              0.3333333333333333,
              "#9c179e"
             ],
             [
              0.4444444444444444,
              "#bd3786"
             ],
             [
              0.5555555555555556,
              "#d8576b"
             ],
             [
              0.6666666666666666,
              "#ed7953"
             ],
             [
              0.7777777777777778,
              "#fb9f3a"
             ],
             [
              0.8888888888888888,
              "#fdca26"
             ],
             [
              1,
              "#f0f921"
             ]
            ],
            "type": "surface"
           }
          ],
          "table": [
           {
            "cells": {
             "fill": {
              "color": "#EBF0F8"
             },
             "line": {
              "color": "white"
             }
            },
            "header": {
             "fill": {
              "color": "#C8D4E3"
             },
             "line": {
              "color": "white"
             }
            },
            "type": "table"
           }
          ]
         },
         "layout": {
          "annotationdefaults": {
           "arrowcolor": "#2a3f5f",
           "arrowhead": 0,
           "arrowwidth": 1
          },
          "autotypenumbers": "strict",
          "coloraxis": {
           "colorbar": {
            "outlinewidth": 0,
            "ticks": ""
           }
          },
          "colorscale": {
           "diverging": [
            [
             0,
             "#8e0152"
            ],
            [
             0.1,
             "#c51b7d"
            ],
            [
             0.2,
             "#de77ae"
            ],
            [
             0.3,
             "#f1b6da"
            ],
            [
             0.4,
             "#fde0ef"
            ],
            [
             0.5,
             "#f7f7f7"
            ],
            [
             0.6,
             "#e6f5d0"
            ],
            [
             0.7,
             "#b8e186"
            ],
            [
             0.8,
             "#7fbc41"
            ],
            [
             0.9,
             "#4d9221"
            ],
            [
             1,
             "#276419"
            ]
           ],
           "sequential": [
            [
             0,
             "#0d0887"
            ],
            [
             0.1111111111111111,
             "#46039f"
            ],
            [
             0.2222222222222222,
             "#7201a8"
            ],
            [
             0.3333333333333333,
             "#9c179e"
            ],
            [
             0.4444444444444444,
             "#bd3786"
            ],
            [
             0.5555555555555556,
             "#d8576b"
            ],
            [
             0.6666666666666666,
             "#ed7953"
            ],
            [
             0.7777777777777778,
             "#fb9f3a"
            ],
            [
             0.8888888888888888,
             "#fdca26"
            ],
            [
             1,
             "#f0f921"
            ]
           ],
           "sequentialminus": [
            [
             0,
             "#0d0887"
            ],
            [
             0.1111111111111111,
             "#46039f"
            ],
            [
             0.2222222222222222,
             "#7201a8"
            ],
            [
             0.3333333333333333,
             "#9c179e"
            ],
            [
             0.4444444444444444,
             "#bd3786"
            ],
            [
             0.5555555555555556,
             "#d8576b"
            ],
            [
             0.6666666666666666,
             "#ed7953"
            ],
            [
             0.7777777777777778,
             "#fb9f3a"
            ],
            [
             0.8888888888888888,
             "#fdca26"
            ],
            [
             1,
             "#f0f921"
            ]
           ]
          },
          "colorway": [
           "#636efa",
           "#EF553B",
           "#00cc96",
           "#ab63fa",
           "#FFA15A",
           "#19d3f3",
           "#FF6692",
           "#B6E880",
           "#FF97FF",
           "#FECB52"
          ],
          "font": {
           "color": "#2a3f5f"
          },
          "geo": {
           "bgcolor": "white",
           "lakecolor": "white",
           "landcolor": "#E5ECF6",
           "showlakes": true,
           "showland": true,
           "subunitcolor": "white"
          },
          "hoverlabel": {
           "align": "left"
          },
          "hovermode": "closest",
          "mapbox": {
           "style": "light"
          },
          "paper_bgcolor": "white",
          "plot_bgcolor": "#E5ECF6",
          "polar": {
           "angularaxis": {
            "gridcolor": "white",
            "linecolor": "white",
            "ticks": ""
           },
           "bgcolor": "#E5ECF6",
           "radialaxis": {
            "gridcolor": "white",
            "linecolor": "white",
            "ticks": ""
           }
          },
          "scene": {
           "xaxis": {
            "backgroundcolor": "#E5ECF6",
            "gridcolor": "white",
            "gridwidth": 2,
            "linecolor": "white",
            "showbackground": true,
            "ticks": "",
            "zerolinecolor": "white"
           },
           "yaxis": {
            "backgroundcolor": "#E5ECF6",
            "gridcolor": "white",
            "gridwidth": 2,
            "linecolor": "white",
            "showbackground": true,
            "ticks": "",
            "zerolinecolor": "white"
           },
           "zaxis": {
            "backgroundcolor": "#E5ECF6",
            "gridcolor": "white",
            "gridwidth": 2,
            "linecolor": "white",
            "showbackground": true,
            "ticks": "",
            "zerolinecolor": "white"
           }
          },
          "shapedefaults": {
           "line": {
            "color": "#2a3f5f"
           }
          },
          "ternary": {
           "aaxis": {
            "gridcolor": "white",
            "linecolor": "white",
            "ticks": ""
           },
           "baxis": {
            "gridcolor": "white",
            "linecolor": "white",
            "ticks": ""
           },
           "bgcolor": "#E5ECF6",
           "caxis": {
            "gridcolor": "white",
            "linecolor": "white",
            "ticks": ""
           }
          },
          "title": {
           "x": 0.05
          },
          "xaxis": {
           "automargin": true,
           "gridcolor": "white",
           "linecolor": "white",
           "ticks": "",
           "title": {
            "standoff": 15
           },
           "zerolinecolor": "white",
           "zerolinewidth": 2
          },
          "yaxis": {
           "automargin": true,
           "gridcolor": "white",
           "linecolor": "white",
           "ticks": "",
           "title": {
            "standoff": 15
           },
           "zerolinecolor": "white",
           "zerolinewidth": 2
          }
         }
        }
       }
      }
     },
     "metadata": {},
     "output_type": "display_data"
    }
   ],
   "source": [
    "rewrite_events = {'downburst':'Downburst','non_tornadic_vortex':'Vortex','tornado_over_land':'Tornado (Land)','tornado_over_water':'Tornado (Water)','unclassified_wind_damage':'Wind Damage (Unclassified)','unclassified_visual_vortex':'Visual Vortex (Unclassified)'}\n",
    "\n",
    "dataset = dataset[dataset['event_type'].notna()]\n",
    "\n",
    "dataset['event_type'] = dataset['event_type'].map(lambda x: rewrite_events[x])\n",
    "\n",
    "fig = px.scatter_mapbox(dataset,lat='Y',lon='X',color='event_type',zoom=2,height=600)\n",
    "fig.update_layout(mapbox_style='open-street-map')\n",
    "fig.show()"
   ]
  },
  {
   "cell_type": "code",
   "execution_count": 12,
   "metadata": {},
   "outputs": [
    {
     "data": {
      "application/vnd.plotly.v1+json": {
       "config": {
        "plotlyServerURL": "https://plot.ly"
       },
       "data": [
        {
         "alignmentgroup": "True",
         "hovertemplate": "event_type=Downburst<br>Province=%{x}<br>Number of Tornadoes=%{y}<extra></extra>",
         "legendgroup": "Downburst",
         "marker": {
          "color": "#636efa",
          "pattern": {
           "shape": ""
          }
         },
         "name": "Downburst",
         "offsetgroup": "Downburst",
         "orientation": "v",
         "showlegend": true,
         "textposition": "auto",
         "type": "bar",
         "x": [
          "Ontario",
          "Québec",
          "Alberta",
          "Saskatchewan",
          "British Columbia",
          "Manitoba",
          "New Brunswick / Nouveau-Brunswick",
          "Nova Scotia",
          "Northwest Territories"
         ],
         "xaxis": "x",
         "y": [
          199,
          40,
          36,
          31,
          21,
          15,
          7,
          2,
          1
         ],
         "yaxis": "y"
        },
        {
         "alignmentgroup": "True",
         "hovertemplate": "event_type=Tornado (Land)<br>Province=%{x}<br>Number of Tornadoes=%{y}<extra></extra>",
         "legendgroup": "Tornado (Land)",
         "marker": {
          "color": "#EF553B",
          "pattern": {
           "shape": ""
          }
         },
         "name": "Tornado (Land)",
         "offsetgroup": "Tornado (Land)",
         "orientation": "v",
         "showlegend": true,
         "textposition": "auto",
         "type": "bar",
         "x": [
          "Ontario",
          "Québec",
          "Saskatchewan",
          "Alberta",
          "Manitoba",
          "British Columbia",
          "Nova Scotia",
          "Northwest Territories",
          "New Brunswick / Nouveau-Brunswick"
         ],
         "xaxis": "x",
         "y": [
          192,
          137,
          88,
          59,
          28,
          6,
          2,
          1,
          1
         ],
         "yaxis": "y"
        },
        {
         "alignmentgroup": "True",
         "hovertemplate": "event_type=Vortex<br>Province=%{x}<br>Number of Tornadoes=%{y}<extra></extra>",
         "legendgroup": "Vortex",
         "marker": {
          "color": "#00cc96",
          "pattern": {
           "shape": ""
          }
         },
         "name": "Vortex",
         "offsetgroup": "Vortex",
         "orientation": "v",
         "showlegend": true,
         "textposition": "auto",
         "type": "bar",
         "x": [
          "Alberta",
          "Ontario",
          "Saskatchewan",
          "Manitoba",
          "British Columbia",
          "Québec",
          "New Brunswick / Nouveau-Brunswick",
          "Prince Edward Island"
         ],
         "xaxis": "x",
         "y": [
          83,
          56,
          48,
          33,
          12,
          9,
          2,
          1
         ],
         "yaxis": "y"
        },
        {
         "alignmentgroup": "True",
         "hovertemplate": "event_type=Tornado (Water)<br>Province=%{x}<br>Number of Tornadoes=%{y}<extra></extra>",
         "legendgroup": "Tornado (Water)",
         "marker": {
          "color": "#ab63fa",
          "pattern": {
           "shape": ""
          }
         },
         "name": "Tornado (Water)",
         "offsetgroup": "Tornado (Water)",
         "orientation": "v",
         "showlegend": true,
         "textposition": "auto",
         "type": "bar",
         "x": [
          "Ontario",
          "Manitoba",
          "British Columbia",
          "Saskatchewan",
          "Newfoundland and Labrador",
          "New Brunswick / Nouveau-Brunswick"
         ],
         "xaxis": "x",
         "y": [
          64,
          6,
          5,
          2,
          1,
          1
         ],
         "yaxis": "y"
        },
        {
         "alignmentgroup": "True",
         "hovertemplate": "event_type=Visual Vortex (Unclassified)<br>Province=%{x}<br>Number of Tornadoes=%{y}<extra></extra>",
         "legendgroup": "Visual Vortex (Unclassified)",
         "marker": {
          "color": "#FFA15A",
          "pattern": {
           "shape": ""
          }
         },
         "name": "Visual Vortex (Unclassified)",
         "offsetgroup": "Visual Vortex (Unclassified)",
         "orientation": "v",
         "showlegend": true,
         "textposition": "auto",
         "type": "bar",
         "x": [
          "Ontario",
          "Alberta",
          "Saskatchewan",
          "Manitoba",
          "Québec",
          "British Columbia",
          "New Brunswick / Nouveau-Brunswick",
          "Nova Scotia"
         ],
         "xaxis": "x",
         "y": [
          33,
          25,
          13,
          10,
          10,
          4,
          2,
          1
         ],
         "yaxis": "y"
        },
        {
         "alignmentgroup": "True",
         "hovertemplate": "event_type=Wind Damage (Unclassified)<br>Province=%{x}<br>Number of Tornadoes=%{y}<extra></extra>",
         "legendgroup": "Wind Damage (Unclassified)",
         "marker": {
          "color": "#19d3f3",
          "pattern": {
           "shape": ""
          }
         },
         "name": "Wind Damage (Unclassified)",
         "offsetgroup": "Wind Damage (Unclassified)",
         "orientation": "v",
         "showlegend": true,
         "textposition": "auto",
         "type": "bar",
         "x": [
          "Ontario",
          "Québec",
          "Saskatchewan",
          "Manitoba",
          "Alberta",
          "Yukon"
         ],
         "xaxis": "x",
         "y": [
          33,
          13,
          11,
          8,
          4,
          1
         ],
         "yaxis": "y"
        }
       ],
       "layout": {
        "barmode": "relative",
        "legend": {
         "title": {
          "text": "event_type"
         },
         "tracegroupgap": 0
        },
        "margin": {
         "t": 60
        },
        "template": {
         "data": {
          "bar": [
           {
            "error_x": {
             "color": "#2a3f5f"
            },
            "error_y": {
             "color": "#2a3f5f"
            },
            "marker": {
             "line": {
              "color": "#E5ECF6",
              "width": 0.5
             },
             "pattern": {
              "fillmode": "overlay",
              "size": 10,
              "solidity": 0.2
             }
            },
            "type": "bar"
           }
          ],
          "barpolar": [
           {
            "marker": {
             "line": {
              "color": "#E5ECF6",
              "width": 0.5
             },
             "pattern": {
              "fillmode": "overlay",
              "size": 10,
              "solidity": 0.2
             }
            },
            "type": "barpolar"
           }
          ],
          "carpet": [
           {
            "aaxis": {
             "endlinecolor": "#2a3f5f",
             "gridcolor": "white",
             "linecolor": "white",
             "minorgridcolor": "white",
             "startlinecolor": "#2a3f5f"
            },
            "baxis": {
             "endlinecolor": "#2a3f5f",
             "gridcolor": "white",
             "linecolor": "white",
             "minorgridcolor": "white",
             "startlinecolor": "#2a3f5f"
            },
            "type": "carpet"
           }
          ],
          "choropleth": [
           {
            "colorbar": {
             "outlinewidth": 0,
             "ticks": ""
            },
            "type": "choropleth"
           }
          ],
          "contour": [
           {
            "colorbar": {
             "outlinewidth": 0,
             "ticks": ""
            },
            "colorscale": [
             [
              0,
              "#0d0887"
             ],
             [
              0.1111111111111111,
              "#46039f"
             ],
             [
              0.2222222222222222,
              "#7201a8"
             ],
             [
              0.3333333333333333,
              "#9c179e"
             ],
             [
              0.4444444444444444,
              "#bd3786"
             ],
             [
              0.5555555555555556,
              "#d8576b"
             ],
             [
              0.6666666666666666,
              "#ed7953"
             ],
             [
              0.7777777777777778,
              "#fb9f3a"
             ],
             [
              0.8888888888888888,
              "#fdca26"
             ],
             [
              1,
              "#f0f921"
             ]
            ],
            "type": "contour"
           }
          ],
          "contourcarpet": [
           {
            "colorbar": {
             "outlinewidth": 0,
             "ticks": ""
            },
            "type": "contourcarpet"
           }
          ],
          "heatmap": [
           {
            "colorbar": {
             "outlinewidth": 0,
             "ticks": ""
            },
            "colorscale": [
             [
              0,
              "#0d0887"
             ],
             [
              0.1111111111111111,
              "#46039f"
             ],
             [
              0.2222222222222222,
              "#7201a8"
             ],
             [
              0.3333333333333333,
              "#9c179e"
             ],
             [
              0.4444444444444444,
              "#bd3786"
             ],
             [
              0.5555555555555556,
              "#d8576b"
             ],
             [
              0.6666666666666666,
              "#ed7953"
             ],
             [
              0.7777777777777778,
              "#fb9f3a"
             ],
             [
              0.8888888888888888,
              "#fdca26"
             ],
             [
              1,
              "#f0f921"
             ]
            ],
            "type": "heatmap"
           }
          ],
          "heatmapgl": [
           {
            "colorbar": {
             "outlinewidth": 0,
             "ticks": ""
            },
            "colorscale": [
             [
              0,
              "#0d0887"
             ],
             [
              0.1111111111111111,
              "#46039f"
             ],
             [
              0.2222222222222222,
              "#7201a8"
             ],
             [
              0.3333333333333333,
              "#9c179e"
             ],
             [
              0.4444444444444444,
              "#bd3786"
             ],
             [
              0.5555555555555556,
              "#d8576b"
             ],
             [
              0.6666666666666666,
              "#ed7953"
             ],
             [
              0.7777777777777778,
              "#fb9f3a"
             ],
             [
              0.8888888888888888,
              "#fdca26"
             ],
             [
              1,
              "#f0f921"
             ]
            ],
            "type": "heatmapgl"
           }
          ],
          "histogram": [
           {
            "marker": {
             "pattern": {
              "fillmode": "overlay",
              "size": 10,
              "solidity": 0.2
             }
            },
            "type": "histogram"
           }
          ],
          "histogram2d": [
           {
            "colorbar": {
             "outlinewidth": 0,
             "ticks": ""
            },
            "colorscale": [
             [
              0,
              "#0d0887"
             ],
             [
              0.1111111111111111,
              "#46039f"
             ],
             [
              0.2222222222222222,
              "#7201a8"
             ],
             [
              0.3333333333333333,
              "#9c179e"
             ],
             [
              0.4444444444444444,
              "#bd3786"
             ],
             [
              0.5555555555555556,
              "#d8576b"
             ],
             [
              0.6666666666666666,
              "#ed7953"
             ],
             [
              0.7777777777777778,
              "#fb9f3a"
             ],
             [
              0.8888888888888888,
              "#fdca26"
             ],
             [
              1,
              "#f0f921"
             ]
            ],
            "type": "histogram2d"
           }
          ],
          "histogram2dcontour": [
           {
            "colorbar": {
             "outlinewidth": 0,
             "ticks": ""
            },
            "colorscale": [
             [
              0,
              "#0d0887"
             ],
             [
              0.1111111111111111,
              "#46039f"
             ],
             [
              0.2222222222222222,
              "#7201a8"
             ],
             [
              0.3333333333333333,
              "#9c179e"
             ],
             [
              0.4444444444444444,
              "#bd3786"
             ],
             [
              0.5555555555555556,
              "#d8576b"
             ],
             [
              0.6666666666666666,
              "#ed7953"
             ],
             [
              0.7777777777777778,
              "#fb9f3a"
             ],
             [
              0.8888888888888888,
              "#fdca26"
             ],
             [
              1,
              "#f0f921"
             ]
            ],
            "type": "histogram2dcontour"
           }
          ],
          "mesh3d": [
           {
            "colorbar": {
             "outlinewidth": 0,
             "ticks": ""
            },
            "type": "mesh3d"
           }
          ],
          "parcoords": [
           {
            "line": {
             "colorbar": {
              "outlinewidth": 0,
              "ticks": ""
             }
            },
            "type": "parcoords"
           }
          ],
          "pie": [
           {
            "automargin": true,
            "type": "pie"
           }
          ],
          "scatter": [
           {
            "fillpattern": {
             "fillmode": "overlay",
             "size": 10,
             "solidity": 0.2
            },
            "type": "scatter"
           }
          ],
          "scatter3d": [
           {
            "line": {
             "colorbar": {
              "outlinewidth": 0,
              "ticks": ""
             }
            },
            "marker": {
             "colorbar": {
              "outlinewidth": 0,
              "ticks": ""
             }
            },
            "type": "scatter3d"
           }
          ],
          "scattercarpet": [
           {
            "marker": {
             "colorbar": {
              "outlinewidth": 0,
              "ticks": ""
             }
            },
            "type": "scattercarpet"
           }
          ],
          "scattergeo": [
           {
            "marker": {
             "colorbar": {
              "outlinewidth": 0,
              "ticks": ""
             }
            },
            "type": "scattergeo"
           }
          ],
          "scattergl": [
           {
            "marker": {
             "colorbar": {
              "outlinewidth": 0,
              "ticks": ""
             }
            },
            "type": "scattergl"
           }
          ],
          "scattermapbox": [
           {
            "marker": {
             "colorbar": {
              "outlinewidth": 0,
              "ticks": ""
             }
            },
            "type": "scattermapbox"
           }
          ],
          "scatterpolar": [
           {
            "marker": {
             "colorbar": {
              "outlinewidth": 0,
              "ticks": ""
             }
            },
            "type": "scatterpolar"
           }
          ],
          "scatterpolargl": [
           {
            "marker": {
             "colorbar": {
              "outlinewidth": 0,
              "ticks": ""
             }
            },
            "type": "scatterpolargl"
           }
          ],
          "scatterternary": [
           {
            "marker": {
             "colorbar": {
              "outlinewidth": 0,
              "ticks": ""
             }
            },
            "type": "scatterternary"
           }
          ],
          "surface": [
           {
            "colorbar": {
             "outlinewidth": 0,
             "ticks": ""
            },
            "colorscale": [
             [
              0,
              "#0d0887"
             ],
             [
              0.1111111111111111,
              "#46039f"
             ],
             [
              0.2222222222222222,
              "#7201a8"
             ],
             [
              0.3333333333333333,
              "#9c179e"
             ],
             [
              0.4444444444444444,
              "#bd3786"
             ],
             [
              0.5555555555555556,
              "#d8576b"
             ],
             [
              0.6666666666666666,
              "#ed7953"
             ],
             [
              0.7777777777777778,
              "#fb9f3a"
             ],
             [
              0.8888888888888888,
              "#fdca26"
             ],
             [
              1,
              "#f0f921"
             ]
            ],
            "type": "surface"
           }
          ],
          "table": [
           {
            "cells": {
             "fill": {
              "color": "#EBF0F8"
             },
             "line": {
              "color": "white"
             }
            },
            "header": {
             "fill": {
              "color": "#C8D4E3"
             },
             "line": {
              "color": "white"
             }
            },
            "type": "table"
           }
          ]
         },
         "layout": {
          "annotationdefaults": {
           "arrowcolor": "#2a3f5f",
           "arrowhead": 0,
           "arrowwidth": 1
          },
          "autotypenumbers": "strict",
          "coloraxis": {
           "colorbar": {
            "outlinewidth": 0,
            "ticks": ""
           }
          },
          "colorscale": {
           "diverging": [
            [
             0,
             "#8e0152"
            ],
            [
             0.1,
             "#c51b7d"
            ],
            [
             0.2,
             "#de77ae"
            ],
            [
             0.3,
             "#f1b6da"
            ],
            [
             0.4,
             "#fde0ef"
            ],
            [
             0.5,
             "#f7f7f7"
            ],
            [
             0.6,
             "#e6f5d0"
            ],
            [
             0.7,
             "#b8e186"
            ],
            [
             0.8,
             "#7fbc41"
            ],
            [
             0.9,
             "#4d9221"
            ],
            [
             1,
             "#276419"
            ]
           ],
           "sequential": [
            [
             0,
             "#0d0887"
            ],
            [
             0.1111111111111111,
             "#46039f"
            ],
            [
             0.2222222222222222,
             "#7201a8"
            ],
            [
             0.3333333333333333,
             "#9c179e"
            ],
            [
             0.4444444444444444,
             "#bd3786"
            ],
            [
             0.5555555555555556,
             "#d8576b"
            ],
            [
             0.6666666666666666,
             "#ed7953"
            ],
            [
             0.7777777777777778,
             "#fb9f3a"
            ],
            [
             0.8888888888888888,
             "#fdca26"
            ],
            [
             1,
             "#f0f921"
            ]
           ],
           "sequentialminus": [
            [
             0,
             "#0d0887"
            ],
            [
             0.1111111111111111,
             "#46039f"
            ],
            [
             0.2222222222222222,
             "#7201a8"
            ],
            [
             0.3333333333333333,
             "#9c179e"
            ],
            [
             0.4444444444444444,
             "#bd3786"
            ],
            [
             0.5555555555555556,
             "#d8576b"
            ],
            [
             0.6666666666666666,
             "#ed7953"
            ],
            [
             0.7777777777777778,
             "#fb9f3a"
            ],
            [
             0.8888888888888888,
             "#fdca26"
            ],
            [
             1,
             "#f0f921"
            ]
           ]
          },
          "colorway": [
           "#636efa",
           "#EF553B",
           "#00cc96",
           "#ab63fa",
           "#FFA15A",
           "#19d3f3",
           "#FF6692",
           "#B6E880",
           "#FF97FF",
           "#FECB52"
          ],
          "font": {
           "color": "#2a3f5f"
          },
          "geo": {
           "bgcolor": "white",
           "lakecolor": "white",
           "landcolor": "#E5ECF6",
           "showlakes": true,
           "showland": true,
           "subunitcolor": "white"
          },
          "hoverlabel": {
           "align": "left"
          },
          "hovermode": "closest",
          "mapbox": {
           "style": "light"
          },
          "paper_bgcolor": "white",
          "plot_bgcolor": "#E5ECF6",
          "polar": {
           "angularaxis": {
            "gridcolor": "white",
            "linecolor": "white",
            "ticks": ""
           },
           "bgcolor": "#E5ECF6",
           "radialaxis": {
            "gridcolor": "white",
            "linecolor": "white",
            "ticks": ""
           }
          },
          "scene": {
           "xaxis": {
            "backgroundcolor": "#E5ECF6",
            "gridcolor": "white",
            "gridwidth": 2,
            "linecolor": "white",
            "showbackground": true,
            "ticks": "",
            "zerolinecolor": "white"
           },
           "yaxis": {
            "backgroundcolor": "#E5ECF6",
            "gridcolor": "white",
            "gridwidth": 2,
            "linecolor": "white",
            "showbackground": true,
            "ticks": "",
            "zerolinecolor": "white"
           },
           "zaxis": {
            "backgroundcolor": "#E5ECF6",
            "gridcolor": "white",
            "gridwidth": 2,
            "linecolor": "white",
            "showbackground": true,
            "ticks": "",
            "zerolinecolor": "white"
           }
          },
          "shapedefaults": {
           "line": {
            "color": "#2a3f5f"
           }
          },
          "ternary": {
           "aaxis": {
            "gridcolor": "white",
            "linecolor": "white",
            "ticks": ""
           },
           "baxis": {
            "gridcolor": "white",
            "linecolor": "white",
            "ticks": ""
           },
           "bgcolor": "#E5ECF6",
           "caxis": {
            "gridcolor": "white",
            "linecolor": "white",
            "ticks": ""
           }
          },
          "title": {
           "x": 0.05
          },
          "xaxis": {
           "automargin": true,
           "gridcolor": "white",
           "linecolor": "white",
           "ticks": "",
           "title": {
            "standoff": 15
           },
           "zerolinecolor": "white",
           "zerolinewidth": 2
          },
          "yaxis": {
           "automargin": true,
           "gridcolor": "white",
           "linecolor": "white",
           "ticks": "",
           "title": {
            "standoff": 15
           },
           "zerolinecolor": "white",
           "zerolinewidth": 2
          }
         }
        },
        "xaxis": {
         "anchor": "y",
         "domain": [
          0,
          1
         ],
         "title": {
          "text": "Province"
         }
        },
        "yaxis": {
         "anchor": "x",
         "domain": [
          0,
          1
         ],
         "title": {
          "text": "Number of Tornadoes"
         }
        }
       }
      }
     },
     "metadata": {},
     "output_type": "display_data"
    }
   ],
   "source": [
    "by_province = dataset.groupby(['Province','event_type'])['Year'].count().reset_index(name='Number of Tornadoes')\n",
    "by_province.sort_values('Number of Tornadoes',ascending=False,inplace=True)\n",
    "px.bar(by_province,x='Province',y='Number of Tornadoes',color='event_type',title='Number of Tornadoes in each province')"
   ]
  }
 ],
 "metadata": {
  "kernelspec": {
   "display_name": "Python 3",
   "language": "python",
   "name": "python3"
  },
  "language_info": {
   "codemirror_mode": {
    "name": "ipython",
    "version": 3
   },
   "file_extension": ".py",
   "mimetype": "text/x-python",
   "name": "python",
   "nbconvert_exporter": "python",
   "pygments_lexer": "ipython3",
   "version": "3.11.3"
  },
  "orig_nbformat": 4
 },
 "nbformat": 4,
 "nbformat_minor": 2
}
