{
 "cells": [
  {
   "cell_type": "markdown",
   "metadata": {},
   "source": [
    "![Callysto.ca Banner](https://github.com/callysto/curriculum-notebooks/blob/master/callysto-notebook-banner-top.jpg?raw=true)"
   ]
  },
  {
   "cell_type": "markdown",
   "metadata": {},
   "source": [
    "# Callysto’s Weekly Data Visualization\n",
    "\n",
    "\n",
    "## Plotting Daily and Cumulative COVID-19 Cases per Country on a Logarithmic Scale\n",
    "\n",
    "### Recommended grade level: 9-12"
   ]
  },
  {
   "cell_type": "markdown",
   "metadata": {},
   "source": [
    "Callysto's Weekly Data Visualization is a learning resource for teachers and students that helps to develop data literacy through the interpretation of graphs and the application of the data science analysis process. The steps of this process are listed here and applied to the weekly topic. \n",
    "\n",
    "1. **Question** - What are you trying to answer?\n",
    "2. **Gather** - Find the data source(s) you will need. \n",
    "3. **Organize** - Arrange the data so that you can easily explore it.\n",
    "4. **Explore** - Examine the data to find evidence to answer your question. \n",
    "5. **Visualize** - Create a visualization that represents your data evidence.\n",
    "6. **Communicate** - Explain how your data visualization helps answer your question. Cite your data source. \n",
    "\n",
    "In this notebook we will explore the logarithmic scale (also known as the log scale) and we will explore how the log scale can help us determine if a country is experiencing exponential growth in the number of reported COVID-19 cases. \n"
   ]
  },
  {
   "cell_type": "markdown",
   "metadata": {},
   "source": [
    "### COVID-19 number of confirmed cases grow exponentially\n",
    "\n",
    "Since the beginning of the COVID-19 outbreak, health authorities have been tracking the total number of confirmed cases on a daily basis. During the first few months, we can see exponential growth, followed by a decrease in the number of cases. \n",
    "\n",
    "Logarithmic scale charts can help show how fast the number of cases is increasing. \n",
    "\n",
    "## Question:\n",
    "\n",
    "How can using log scale help us identify when the number of COVID-19 cases is increasing exponentially? \n",
    "\n",
    "Let's take a look at some data[1].\n",
    "\n",
    "[1] Johns Hopkins University Center for Systems Science and Engineering (JHU CSSE) https://systems.jhu.edu/, for creating and maintaining https://github.com/CSSEGISandData/COVID-19 ."
   ]
  },
  {
   "cell_type": "markdown",
   "metadata": {},
   "source": [
    "## Gather & Organize\n",
    "\n",
    "The file `download_and_parse_data.py` contains Python code that imports the Python programming libraries we need to gather and organize the data to answer our question. The code also manipulates, cleans and presents the data so that it is easier to work with. \n",
    "\n",
    "You can see the full script [here](https://github.com/callysto/data-viz-of-the-week/blob/main/covid-19-visualizations/scripts/download_and_parse_data.py).\n",
    "\n",
    "Run the cell below to execute this code. "
   ]
  },
  {
   "cell_type": "code",
   "execution_count": null,
   "metadata": {},
   "outputs": [],
   "source": [
    "%run -i ./scripts/download_and_parse_data.py\n",
    "print(\"Success!\")"
   ]
  },
  {
   "cell_type": "markdown",
   "metadata": {},
   "source": [
    "## Explore & Visualize\n",
    "\n",
    "The code below will be used to help us find evidence to answer our question. This can involve looking at data in table format, applying math and statistics, and creating different types of visualizations.\n",
    "\n",
    "In this case, we will start by looking at the daily number of confirmed COVID-19 cases in Canada. \n",
    "\n",
    "Run the cell below to generate a visualization. "
   ]
  },
  {
   "cell_type": "code",
   "execution_count": null,
   "metadata": {},
   "outputs": [],
   "source": [
    "try:\n",
    "    # Select country\n",
    "    country = \"Canada\"\n",
    "    # Subset data to extract information for Canada\n",
    "    by_prov = final_confirmed[final_confirmed.index==country].set_index(\"province\").T.iloc[:-4,]\n",
    "    by_prov[\"TotalDailyCase\"] = by_prov.sum(axis=1)\n",
    "\n",
    "    # This variable contains data on COVID 19 daily cases\n",
    "    non_cumulative_cases = by_prov.diff(axis=0)\n",
    "    t = np.linspace(0, len(non_cumulative_cases[\"TotalDailyCase\"]), len(non_cumulative_cases[\"TotalDailyCase\"]))\n",
    "    # Create figure\n",
    "    trace3 = go.Scatter(x = non_cumulative_cases.index,y=non_cumulative_cases[\"TotalDailyCase\"])\n",
    "    layout = go.Layout(\n",
    "            title= ('Daily number of COVID-19 confirmed cases in' + str(country)),\n",
    "            yaxis=dict(title='Daily Number of  Reported Infections',\\\n",
    "                       titlefont=dict(color='blue'), tickfont=dict(color='blue')),\n",
    "                yaxis2=dict(title='Number of infectious members (our model)', titlefont=dict(color='red'), \\\n",
    "                            tickfont=dict(color='red'), overlaying='y', side='right'),\n",
    "                showlegend=False)\n",
    "    fig = go.Figure(data=[trace3],layout=layout)\n",
    "    # Display figure\n",
    "    fig.show()\n",
    "except:\n",
    "    # Sanity check\n",
    "    print(\"WARNING\")\n",
    "    print(\"Please ensure you have run code cell '%run -i ./scripts/download_and_parse_data.py' in this notebook.\")"
   ]
  },
  {
   "cell_type": "markdown",
   "metadata": {},
   "source": [
    "##  Communicate\n",
    "\n",
    "We can see that in Canada between the months March through May, COVID-19 spread expoentially. Between May and July, the number of cases decreased. Between August and October 2020, the number of infections is increasing rapidly once more. \n",
    "\n",
    "Recall that on a logarithmic scale, numbers on the dependent variable y increases by a set factor – (though not always, this factor is usually 10). Estimating a factor (the average number of new infections deriving from an existing infection) in this scenario is challenging for a number of reasons. The article \"Why R0 Is Problematic for Predicting COVID-19 Spread\" Katarina Zimmer, Jul 13, 2020\n",
    " [link here](https://www.the-scientist.com/features/why-r0-is-problematic-for-predicting-covid-19-spread-67690) outlines some of those reasons. \n",
    " \n",
    "Even if we don't have the factor at which the function increases, the logarithmic scale is a great way to measure the rates of change of new confirmed infections. When we use the logarithmic scale of COVID-19 confirmed cases, we can see when the rate of infection starts to level off. This leveling off signals that exponential growth has stopped. We'll use a factor of 10 to identify when rate of infection is increasing exponentially. \n",
    "\n",
    "Let's take a look at this using a graph.\n"
   ]
  },
  {
   "cell_type": "markdown",
   "metadata": {},
   "source": [
    "## Explore & Visualize\n",
    "\n",
    "Run the cell below to display the log curve of covid cases. \n",
    "\n",
    "<b>Notes: </b>\n",
    "\n",
    "a) Enter the name of a country using the text box. This will display the log curve for raw or cumulative number of cases per country. \n",
    "\n",
    "b) Toggle the \"Get cumulative results\" checkbox to see how the log scale changes when we compute the daily number of cases, vs the cumulative number of cases. \n",
    "\n",
    "c) To see results for a different country, use the backspace or delete key to remove the country selected at first, and type the name of a new country (use the drop down menu to help you find as well). \n"
   ]
  },
  {
   "cell_type": "code",
   "execution_count": null,
   "metadata": {},
   "outputs": [],
   "source": [
    "try:\n",
    "    display(tab)\n",
    "except:\n",
    "    # Sanity check\n",
    "    print(\"WARNING\")\n",
    "    print(\"Please ensure you have run code cell '%run -i ./scripts/download_and_parse_data.py' in this notebook.\")"
   ]
  },
  {
   "cell_type": "markdown",
   "metadata": {},
   "source": [
    "## Communicate\n",
    "\n",
    "The plots above contain the daily total number of confirmed cases and deaths (marked in blue), along with the logarithmic scale associated with those cases (marked in red). \n",
    "\n",
    "As an example, if in the box we select \"Canada\" and leave the box unchecked, we see that during the first few months since cases started being reported, the number of confirmed infections grew exponentially. \n",
    "\n",
    "Using a factor of 10 (similar to Richter scale), we see that during the 2020 Summer months we see that the growth reached a minimum level 2 and a maximum level 3 in logarithmic scale. This means that every day during the Summer months between 100 and 1000 cases were reported each day. On the other hand during the 2020 Fall months we see that the growth reached a minimum level 3 and maximum level 4 in logarithmic scale. This means that every day during the Fall months between 1000 and 10,00 cases were reported each day. \n",
    "\n",
    "This indicates that the number of cases increased by a factor of 10 from Summer to Fall, and thus, the number of confimed COVID-19 cases in Canada re-entered exponential growth. \n",
    "\n",
    "___\n",
    "\n",
    "### Further questions\n",
    "\n",
    "Use the widget above to explore how the number of COVID-19 cases in countries in different parts of the world does with respect to the log scale. Can you identify countries whose growth is exponential? \n",
    "\n",
    "Explore the cumulative number of cases for different countries. These plots can also indicate when the number of infections is growing exponentially. Identify countries whose log scale indicates exponential growth. \n",
    "\n",
    "<b>Notes: </b>\n",
    "\n",
    "a) Enter the name of a country using the text box. This will display the log curve for raw or cumulative number of cases per country. \n",
    "\n",
    "b) Toggle the \"Get cumulative results\" checkbox to see how the log scale changes when we compute the daily number of cases, vs the cumulative number of cases. \n",
    "\n",
    "c) To see results for a different country, use the backspace or delete key to remove the country selected at first, and type the name of a new country (use the drop down menu to help you find as well). \n"
   ]
  },
  {
   "cell_type": "markdown",
   "metadata": {},
   "source": [
    "[![Callysto.ca License](https://github.com/callysto/curriculum-notebooks/blob/master/callysto-notebook-banner-bottom.jpg?raw=true)](https://github.com/callysto/curriculum-notebooks/blob/master/LICENSE.md)"
   ]
  }
 ],
 "metadata": {
  "kernelspec": {
   "display_name": "Python 3",
   "language": "python",
   "name": "python3"
  },
  "language_info": {
   "codemirror_mode": {
    "name": "ipython",
    "version": 3
   },
   "file_extension": ".py",
   "mimetype": "text/x-python",
   "name": "python",
   "nbconvert_exporter": "python",
   "pygments_lexer": "ipython3",
   "version": "3.8.6"
  }
 },
 "nbformat": 4,
 "nbformat_minor": 4
}
