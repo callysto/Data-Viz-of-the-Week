{
 "cells": [
  {
   "attachments": {},
   "cell_type": "markdown",
   "metadata": {},
   "source": [
    "![Callysto.ca Banner](https://github.com/callysto/curriculum-notebooks/blob/master/callysto-notebook-banner-top.jpg?raw=true)\n"
   ]
  },
  {
   "attachments": {},
   "cell_type": "markdown",
   "metadata": {},
   "source": [
    "# Callysto's Weekly Data Visualization\n"
   ]
  },
  {
   "attachments": {},
   "cell_type": "markdown",
   "metadata": {},
   "source": [
    "## Tornados\n"
   ]
  },
  {
   "attachments": {},
   "cell_type": "markdown",
   "metadata": {},
   "source": [
    "## Recommended Grade Levels 5-6\n"
   ]
  },
  {
   "attachments": {},
   "cell_type": "markdown",
   "metadata": {},
   "source": [
    "## Instructions\n",
    "\n",
    "Click \"Cell\" and select \"Run All\".\n",
    "\n",
    "This will import the data and run all the code, so you can see this week's data visualization. Scroll back to the top after you’ve run the cells.\n",
    "\n",
    "instructions\n",
    "\n",
    "You don't need to do any coding to view the visualizations.\n",
    "\n",
    "The plots generated in this notebook are interactive. You can hover over and click on elements to see more information.\n",
    "\n",
    "Email contact@callysto.ca if you experience issues.\n",
    "\n",
    "## About this Notebook\n",
    "\n",
    "Callysto's Weekly Data Visualization is a learning resource that aims to develop data literacy skills. We provide Grades 5-12 teachers and students with a data visualization, like a graph, to interpret. This companion resource walks learners through how the data visualization is created and interpreted by a data scientist.\n",
    "\n",
    "The steps of the data analysis process are listed below and applied to each weekly topic.\n",
    "\n",
    "1. Question - What are we trying to answer?\n",
    "2. Gather - Find the data source(s) you will need.\n",
    "3. Organize - Arrange the data, so that you can easily explore it.\n",
    "4. Explore - Examine the data to look for evidence to answer the question. This includes creating visualizations.\n",
    "5. Interpret - Describe what's happening in the data visualization.\n",
    "6. Communicate - Explain how the evidence answers the question.\n",
    "\n",
    "\n",
    "## Question \n",
    "\n",
    "Where in Canada have the most Tornados occured?\n",
    "\n",
    "\n"
   ]
  },
  {
   "attachments": {},
   "cell_type": "markdown",
   "metadata": {},
   "source": [
    "## Background\n",
    "\n",
    "Tornados are an extreme weather event that occurs in Canada. The [Northern Tornados Project](https://uwo.ca/ntp/about.html) is a project founded at Western Unviersity in 2017. The project aims to better understand the occurrence of tornados in Canada to provide more understanding on tornados and to increase the ability to predict tornados so that the damage to property and danger to humans can be reduced. The Northern Tornados Project has published data they have on the occurrence of Tornados in Canada.\n",
    "\n",
    "For more interesting information on how tornados are measured you can [read this article.](https://www.nssl.noaa.gov/education/svrwx101/tornadoes/detection/)\n",
    "\n",
    "## Gather\n",
    "\n",
    "### Code \n",
    "\n",
    "Run the code cells below to import the libraries we need for this project. Libraries are pre-made code that make it easier to analyze our data. \n",
    "\n",
    "`Pandas` is a library that helps us with data analysis, and `plotly express` is a library that helps us to make visualizations. \n",
    "\n",
    "Without importing these libraries we would have to use much more code to analyze our data and generate visualizations. We import the libraries with abbreviations, or aliases, so that we have less typing to do in each line of our code below.\n"
   ]
  },
  {
   "attachments": {},
   "cell_type": "markdown",
   "metadata": {},
   "source": [
    "### Code"
   ]
  },
  {
   "cell_type": "code",
   "execution_count": 1,
   "metadata": {},
   "outputs": [],
   "source": [
    "import pandas as pd\n",
    "import plotly.express as px"
   ]
  },
  {
   "attachments": {},
   "cell_type": "markdown",
   "metadata": {},
   "source": [
    "\n",
    "### Data\n",
    "\n",
    "#### Import the Data\n",
    "\n",
    "We are using data from the [Northern Tornados Project](www.uwo.ca/ntp). Run the cell below to import the data. "
   ]
  },
  {
   "cell_type": "code",
   "execution_count": 2,
   "metadata": {},
   "outputs": [
    {
     "data": {
      "text/html": [
       "<div>\n",
       "<style scoped>\n",
       "    .dataframe tbody tr th:only-of-type {\n",
       "        vertical-align: middle;\n",
       "    }\n",
       "\n",
       "    .dataframe tbody tr th {\n",
       "        vertical-align: top;\n",
       "    }\n",
       "\n",
       "    .dataframe thead th {\n",
       "        text-align: right;\n",
       "    }\n",
       "</style>\n",
       "<table border=\"1\" class=\"dataframe\">\n",
       "  <thead>\n",
       "    <tr style=\"text-align: right;\">\n",
       "      <th></th>\n",
       "      <th>X</th>\n",
       "      <th>Y</th>\n",
       "      <th>objectid</th>\n",
       "      <th>globalid</th>\n",
       "      <th>_date</th>\n",
       "      <th>Year</th>\n",
       "      <th>event_name</th>\n",
       "      <th>classification_status</th>\n",
       "      <th>rating_status</th>\n",
       "      <th>event_type</th>\n",
       "      <th>...</th>\n",
       "      <th>uniqueID</th>\n",
       "      <th>mean_motion_from</th>\n",
       "      <th>day</th>\n",
       "      <th>month</th>\n",
       "      <th>timeUTC</th>\n",
       "      <th>timezone</th>\n",
       "      <th>fatalities_text</th>\n",
       "      <th>damage_cost_text</th>\n",
       "      <th>EventSummaryMapProvided</th>\n",
       "      <th>Province</th>\n",
       "    </tr>\n",
       "  </thead>\n",
       "  <tbody>\n",
       "    <tr>\n",
       "      <th>0</th>\n",
       "      <td>-81.1471</td>\n",
       "      <td>43.0486000000001</td>\n",
       "      <td>1735</td>\n",
       "      <td>{DCC365EC-4863-4C45-83BC-65AED8D7EBA6}</td>\n",
       "      <td>2017/04/11 17:00:00+00</td>\n",
       "      <td>2017</td>\n",
       "      <td>London</td>\n",
       "      <td>final_classification_completed</td>\n",
       "      <td>final_rating_completed</td>\n",
       "      <td>Tornado (Land)</td>\n",
       "      <td>...</td>\n",
       "      <td>NaN</td>\n",
       "      <td>250.0</td>\n",
       "      <td>11</td>\n",
       "      <td>Apr</td>\n",
       "      <td>2000</td>\n",
       "      <td>EDT</td>\n",
       "      <td>0</td>\n",
       "      <td>unknown</td>\n",
       "      <td>no</td>\n",
       "      <td>Ontario</td>\n",
       "    </tr>\n",
       "    <tr>\n",
       "      <th>1</th>\n",
       "      <td>-105.4383</td>\n",
       "      <td>52.7347</td>\n",
       "      <td>1732</td>\n",
       "      <td>{70BDBAB0-CF2E-4230-8EF7-DD42BE07A2DF}</td>\n",
       "      <td>2017/05/14 17:00:00+00</td>\n",
       "      <td>2017</td>\n",
       "      <td>Tway</td>\n",
       "      <td>final_classification_completed</td>\n",
       "      <td>final_rating_completed</td>\n",
       "      <td>Tornado (Land)</td>\n",
       "      <td>...</td>\n",
       "      <td>NaN</td>\n",
       "      <td>NaN</td>\n",
       "      <td>14</td>\n",
       "      <td>May</td>\n",
       "      <td>2230</td>\n",
       "      <td>CST</td>\n",
       "      <td>0</td>\n",
       "      <td>unknown</td>\n",
       "      <td>no</td>\n",
       "      <td>Saskatchewan</td>\n",
       "    </tr>\n",
       "    <tr>\n",
       "      <th>2</th>\n",
       "      <td>-105.7941</td>\n",
       "      <td>52.8711000000001</td>\n",
       "      <td>1733</td>\n",
       "      <td>{A6721FCD-E22F-4BDD-81CD-E5ABD7F6C548}</td>\n",
       "      <td>2017/05/14 17:00:00+00</td>\n",
       "      <td>2017</td>\n",
       "      <td>Hoey</td>\n",
       "      <td>final_classification_completed</td>\n",
       "      <td>final_rating_completed</td>\n",
       "      <td>Tornado (Land)</td>\n",
       "      <td>...</td>\n",
       "      <td>NaN</td>\n",
       "      <td>NaN</td>\n",
       "      <td>14</td>\n",
       "      <td>May</td>\n",
       "      <td>2059</td>\n",
       "      <td>CST</td>\n",
       "      <td>0</td>\n",
       "      <td>unknown</td>\n",
       "      <td>no</td>\n",
       "      <td>Saskatchewan</td>\n",
       "    </tr>\n",
       "    <tr>\n",
       "      <th>3</th>\n",
       "      <td>-106.883</td>\n",
       "      <td>52.5245</td>\n",
       "      <td>1734</td>\n",
       "      <td>{D613217E-5BD0-43B1-8EA8-CF86B6500B46}</td>\n",
       "      <td>2017/05/14 17:00:00+00</td>\n",
       "      <td>2017</td>\n",
       "      <td>Hepburn</td>\n",
       "      <td>final_classification_completed</td>\n",
       "      <td>final_rating_completed</td>\n",
       "      <td>Tornado (Land)</td>\n",
       "      <td>...</td>\n",
       "      <td>NaN</td>\n",
       "      <td>NaN</td>\n",
       "      <td>14</td>\n",
       "      <td>May</td>\n",
       "      <td>2040</td>\n",
       "      <td>CST</td>\n",
       "      <td>0</td>\n",
       "      <td>unknown</td>\n",
       "      <td>no</td>\n",
       "      <td>Saskatchewan</td>\n",
       "    </tr>\n",
       "    <tr>\n",
       "      <th>4</th>\n",
       "      <td>-78.5275</td>\n",
       "      <td>48.0605</td>\n",
       "      <td>1731</td>\n",
       "      <td>{A3AB997C-A3C4-4C1D-853B-24EA29A745FE}</td>\n",
       "      <td>2017/05/29 17:00:00+00</td>\n",
       "      <td>2017</td>\n",
       "      <td>Lac Montanier</td>\n",
       "      <td>final_classification_completed</td>\n",
       "      <td>final_rating_completed</td>\n",
       "      <td>Tornado (Land)</td>\n",
       "      <td>...</td>\n",
       "      <td>NaN</td>\n",
       "      <td>210.0</td>\n",
       "      <td>29</td>\n",
       "      <td>May</td>\n",
       "      <td>2210</td>\n",
       "      <td>EDT</td>\n",
       "      <td>0</td>\n",
       "      <td>unknown</td>\n",
       "      <td>no</td>\n",
       "      <td>Québec</td>\n",
       "    </tr>\n",
       "    <tr>\n",
       "      <th>...</th>\n",
       "      <td>...</td>\n",
       "      <td>...</td>\n",
       "      <td>...</td>\n",
       "      <td>...</td>\n",
       "      <td>...</td>\n",
       "      <td>...</td>\n",
       "      <td>...</td>\n",
       "      <td>...</td>\n",
       "      <td>...</td>\n",
       "      <td>...</td>\n",
       "      <td>...</td>\n",
       "      <td>...</td>\n",
       "      <td>...</td>\n",
       "      <td>...</td>\n",
       "      <td>...</td>\n",
       "      <td>...</td>\n",
       "      <td>...</td>\n",
       "      <td>...</td>\n",
       "      <td>...</td>\n",
       "      <td>...</td>\n",
       "      <td>...</td>\n",
       "    </tr>\n",
       "    <tr>\n",
       "      <th>1352</th>\n",
       "      <td>-81.603</td>\n",
       "      <td>44.2980000000001</td>\n",
       "      <td>1656</td>\n",
       "      <td>{5275D219-5268-4CE6-8A11-925495D879DB}</td>\n",
       "      <td>2022/12/18 17:00:00+00</td>\n",
       "      <td>2022</td>\n",
       "      <td>Inverhuron</td>\n",
       "      <td>final_classification_completed</td>\n",
       "      <td>final_rating_completed</td>\n",
       "      <td>Vortex</td>\n",
       "      <td>...</td>\n",
       "      <td>NaN</td>\n",
       "      <td>NaN</td>\n",
       "      <td>18</td>\n",
       "      <td>Dec</td>\n",
       "      <td>1309</td>\n",
       "      <td>EST</td>\n",
       "      <td>0</td>\n",
       "      <td>unknown</td>\n",
       "      <td>no</td>\n",
       "      <td>Ontario</td>\n",
       "    </tr>\n",
       "    <tr>\n",
       "      <th>1353</th>\n",
       "      <td>-119.65</td>\n",
       "      <td>49.8700000000001</td>\n",
       "      <td>1651</td>\n",
       "      <td>{572D3592-534B-4B16-8AB6-47DD13EA9954}</td>\n",
       "      <td>2022/12/19 17:00:00+00</td>\n",
       "      <td>2022</td>\n",
       "      <td>West Kelowna</td>\n",
       "      <td>final_classification_completed</td>\n",
       "      <td>final_rating_completed</td>\n",
       "      <td>Visual Vortex (Unclassified)</td>\n",
       "      <td>...</td>\n",
       "      <td>NaN</td>\n",
       "      <td>NaN</td>\n",
       "      <td>19</td>\n",
       "      <td>Dec</td>\n",
       "      <td>2100</td>\n",
       "      <td>PDT</td>\n",
       "      <td>0</td>\n",
       "      <td>unknown</td>\n",
       "      <td>NaN</td>\n",
       "      <td>British Columbia</td>\n",
       "    </tr>\n",
       "    <tr>\n",
       "      <th>1355</th>\n",
       "      <td>-104.55</td>\n",
       "      <td>50.3600000000001</td>\n",
       "      <td>1742</td>\n",
       "      <td>{09914267-9EB6-4C10-8BF0-225950504CEA}</td>\n",
       "      <td>2023/05/27 15:59:59+00</td>\n",
       "      <td>2023</td>\n",
       "      <td>Rowatt</td>\n",
       "      <td>final_classification_completed</td>\n",
       "      <td>preliminary_rating_completed</td>\n",
       "      <td>Tornado (Land)</td>\n",
       "      <td>...</td>\n",
       "      <td>NaN</td>\n",
       "      <td>NaN</td>\n",
       "      <td>27</td>\n",
       "      <td>May</td>\n",
       "      <td>252</td>\n",
       "      <td>CST</td>\n",
       "      <td>0</td>\n",
       "      <td>unknown</td>\n",
       "      <td>NaN</td>\n",
       "      <td>Saskatchewan</td>\n",
       "    </tr>\n",
       "    <tr>\n",
       "      <th>1354</th>\n",
       "      <td>-104.2829</td>\n",
       "      <td>50.4128000000001</td>\n",
       "      <td>1743</td>\n",
       "      <td>{5D72385B-346E-460B-87A2-499D614D89E5}</td>\n",
       "      <td>2023/05/27 15:59:59+00</td>\n",
       "      <td>2023</td>\n",
       "      <td>Jameson</td>\n",
       "      <td>final_classification_completed</td>\n",
       "      <td>final_rating_completed</td>\n",
       "      <td>Downburst</td>\n",
       "      <td>...</td>\n",
       "      <td>NaN</td>\n",
       "      <td>NaN</td>\n",
       "      <td>28</td>\n",
       "      <td>May</td>\n",
       "      <td>730</td>\n",
       "      <td>CST</td>\n",
       "      <td>0</td>\n",
       "      <td>unknown</td>\n",
       "      <td>NaN</td>\n",
       "      <td>Saskatchewan</td>\n",
       "    </tr>\n",
       "    <tr>\n",
       "      <th>1356</th>\n",
       "      <td>-112.549</td>\n",
       "      <td>52.3580000000001</td>\n",
       "      <td>1744</td>\n",
       "      <td>{17A191F4-DF46-4A29-8321-7057B2E1E71D}</td>\n",
       "      <td>2023/05/31 15:59:59+00</td>\n",
       "      <td>2023</td>\n",
       "      <td>Botha</td>\n",
       "      <td>final_classification_completed</td>\n",
       "      <td>final_rating_completed</td>\n",
       "      <td>Tornado (Land)</td>\n",
       "      <td>...</td>\n",
       "      <td>NaN</td>\n",
       "      <td>NaN</td>\n",
       "      <td>31</td>\n",
       "      <td>May</td>\n",
       "      <td>2235</td>\n",
       "      <td>MDT</td>\n",
       "      <td>0</td>\n",
       "      <td>unknown</td>\n",
       "      <td>NaN</td>\n",
       "      <td>Alberta</td>\n",
       "    </tr>\n",
       "  </tbody>\n",
       "</table>\n",
       "<p>1357 rows × 43 columns</p>\n",
       "</div>"
      ],
      "text/plain": [
       "              X                 Y objectid  \\\n",
       "0      -81.1471  43.0486000000001     1735   \n",
       "1     -105.4383           52.7347     1732   \n",
       "2     -105.7941  52.8711000000001     1733   \n",
       "3      -106.883           52.5245     1734   \n",
       "4      -78.5275           48.0605     1731   \n",
       "...         ...               ...      ...   \n",
       "1352    -81.603  44.2980000000001     1656   \n",
       "1353    -119.65  49.8700000000001     1651   \n",
       "1355    -104.55  50.3600000000001     1742   \n",
       "1354  -104.2829  50.4128000000001     1743   \n",
       "1356   -112.549  52.3580000000001     1744   \n",
       "\n",
       "                                    globalid                   _date  Year  \\\n",
       "0     {DCC365EC-4863-4C45-83BC-65AED8D7EBA6}  2017/04/11 17:00:00+00  2017   \n",
       "1     {70BDBAB0-CF2E-4230-8EF7-DD42BE07A2DF}  2017/05/14 17:00:00+00  2017   \n",
       "2     {A6721FCD-E22F-4BDD-81CD-E5ABD7F6C548}  2017/05/14 17:00:00+00  2017   \n",
       "3     {D613217E-5BD0-43B1-8EA8-CF86B6500B46}  2017/05/14 17:00:00+00  2017   \n",
       "4     {A3AB997C-A3C4-4C1D-853B-24EA29A745FE}  2017/05/29 17:00:00+00  2017   \n",
       "...                                      ...                     ...   ...   \n",
       "1352  {5275D219-5268-4CE6-8A11-925495D879DB}  2022/12/18 17:00:00+00  2022   \n",
       "1353  {572D3592-534B-4B16-8AB6-47DD13EA9954}  2022/12/19 17:00:00+00  2022   \n",
       "1355  {09914267-9EB6-4C10-8BF0-225950504CEA}  2023/05/27 15:59:59+00  2023   \n",
       "1354  {5D72385B-346E-460B-87A2-499D614D89E5}  2023/05/27 15:59:59+00  2023   \n",
       "1356  {17A191F4-DF46-4A29-8321-7057B2E1E71D}  2023/05/31 15:59:59+00  2023   \n",
       "\n",
       "         event_name           classification_status  \\\n",
       "0            London  final_classification_completed   \n",
       "1              Tway  final_classification_completed   \n",
       "2              Hoey  final_classification_completed   \n",
       "3           Hepburn  final_classification_completed   \n",
       "4     Lac Montanier  final_classification_completed   \n",
       "...             ...                             ...   \n",
       "1352     Inverhuron  final_classification_completed   \n",
       "1353   West Kelowna  final_classification_completed   \n",
       "1355         Rowatt  final_classification_completed   \n",
       "1354        Jameson  final_classification_completed   \n",
       "1356          Botha  final_classification_completed   \n",
       "\n",
       "                     rating_status                    event_type  ...  \\\n",
       "0           final_rating_completed                Tornado (Land)  ...   \n",
       "1           final_rating_completed                Tornado (Land)  ...   \n",
       "2           final_rating_completed                Tornado (Land)  ...   \n",
       "3           final_rating_completed                Tornado (Land)  ...   \n",
       "4           final_rating_completed                Tornado (Land)  ...   \n",
       "...                            ...                           ...  ...   \n",
       "1352        final_rating_completed                        Vortex  ...   \n",
       "1353        final_rating_completed  Visual Vortex (Unclassified)  ...   \n",
       "1355  preliminary_rating_completed                Tornado (Land)  ...   \n",
       "1354        final_rating_completed                     Downburst  ...   \n",
       "1356        final_rating_completed                Tornado (Land)  ...   \n",
       "\n",
       "     uniqueID mean_motion_from day month timeUTC timezone fatalities_text  \\\n",
       "0         NaN            250.0  11   Apr    2000      EDT               0   \n",
       "1         NaN              NaN  14   May    2230      CST               0   \n",
       "2         NaN              NaN  14   May    2059      CST               0   \n",
       "3         NaN              NaN  14   May    2040      CST               0   \n",
       "4         NaN            210.0  29   May    2210      EDT               0   \n",
       "...       ...              ...  ..   ...     ...      ...             ...   \n",
       "1352      NaN              NaN  18   Dec    1309      EST               0   \n",
       "1353      NaN              NaN  19   Dec    2100      PDT               0   \n",
       "1355      NaN              NaN  27   May     252      CST               0   \n",
       "1354      NaN              NaN  28   May     730      CST               0   \n",
       "1356      NaN              NaN  31   May    2235      MDT               0   \n",
       "\n",
       "     damage_cost_text EventSummaryMapProvided          Province  \n",
       "0             unknown                      no           Ontario  \n",
       "1             unknown                      no      Saskatchewan  \n",
       "2             unknown                      no      Saskatchewan  \n",
       "3             unknown                      no      Saskatchewan  \n",
       "4             unknown                      no            Québec  \n",
       "...               ...                     ...               ...  \n",
       "1352          unknown                      no           Ontario  \n",
       "1353          unknown                     NaN  British Columbia  \n",
       "1355          unknown                     NaN      Saskatchewan  \n",
       "1354          unknown                     NaN      Saskatchewan  \n",
       "1356          unknown                     NaN           Alberta  \n",
       "\n",
       "[1357 rows x 43 columns]"
      ]
     },
     "execution_count": 2,
     "metadata": {},
     "output_type": "execute_result"
    }
   ],
   "source": [
    "dataset = pd.read_csv('https://raw.githubusercontent.com/callysto/data-files/main/data-viz-of-the-week/tornadoes/tornadoes.csv',dtype='unicode')\n",
    "dataset.sort_values('_date',inplace=True)\n",
    "dataset"
   ]
  },
  {
   "attachments": {},
   "cell_type": "markdown",
   "metadata": {},
   "source": [
    "## Explore\n",
    "\n",
    "The first visualization we made is a line graph on the total number of *tornados* per year. This can also be interpreted as the frequency of tornados per year. Run the code below to generate this visualization. "
   ]
  },
  {
   "cell_type": "code",
   "execution_count": 3,
   "metadata": {},
   "outputs": [
    {
     "data": {
      "application/vnd.plotly.v1+json": {
       "config": {
        "plotlyServerURL": "https://plot.ly"
       },
       "data": [
        {
         "hovertemplate": "Year=%{x}<br>Number of Tornados=%{y}<extra></extra>",
         "legendgroup": "",
         "line": {
          "color": "#636efa",
          "dash": "solid"
         },
         "marker": {
          "symbol": "circle"
         },
         "mode": "lines",
         "name": "",
         "orientation": "v",
         "showlegend": false,
         "type": "scatter",
         "x": [
          "2017",
          "2018",
          "2019",
          "2020",
          "2021",
          "2022",
          "2023"
         ],
         "xaxis": "x",
         "y": [
          70,
          103,
          222,
          349,
          310,
          300,
          3
         ],
         "yaxis": "y"
        }
       ],
       "layout": {
        "legend": {
         "tracegroupgap": 0
        },
        "template": {
         "data": {
          "bar": [
           {
            "error_x": {
             "color": "#2a3f5f"
            },
            "error_y": {
             "color": "#2a3f5f"
            },
            "marker": {
             "line": {
              "color": "#E5ECF6",
              "width": 0.5
             },
             "pattern": {
              "fillmode": "overlay",
              "size": 10,
              "solidity": 0.2
             }
            },
            "type": "bar"
           }
          ],
          "barpolar": [
           {
            "marker": {
             "line": {
              "color": "#E5ECF6",
              "width": 0.5
             },
             "pattern": {
              "fillmode": "overlay",
              "size": 10,
              "solidity": 0.2
             }
            },
            "type": "barpolar"
           }
          ],
          "carpet": [
           {
            "aaxis": {
             "endlinecolor": "#2a3f5f",
             "gridcolor": "white",
             "linecolor": "white",
             "minorgridcolor": "white",
             "startlinecolor": "#2a3f5f"
            },
            "baxis": {
             "endlinecolor": "#2a3f5f",
             "gridcolor": "white",
             "linecolor": "white",
             "minorgridcolor": "white",
             "startlinecolor": "#2a3f5f"
            },
            "type": "carpet"
           }
          ],
          "choropleth": [
           {
            "colorbar": {
             "outlinewidth": 0,
             "ticks": ""
            },
            "type": "choropleth"
           }
          ],
          "contour": [
           {
            "colorbar": {
             "outlinewidth": 0,
             "ticks": ""
            },
            "colorscale": [
             [
              0,
              "#0d0887"
             ],
             [
              0.1111111111111111,
              "#46039f"
             ],
             [
              0.2222222222222222,
              "#7201a8"
             ],
             [
              0.3333333333333333,
              "#9c179e"
             ],
             [
              0.4444444444444444,
              "#bd3786"
             ],
             [
              0.5555555555555556,
              "#d8576b"
             ],
             [
              0.6666666666666666,
              "#ed7953"
             ],
             [
              0.7777777777777778,
              "#fb9f3a"
             ],
             [
              0.8888888888888888,
              "#fdca26"
             ],
             [
              1,
              "#f0f921"
             ]
            ],
            "type": "contour"
           }
          ],
          "contourcarpet": [
           {
            "colorbar": {
             "outlinewidth": 0,
             "ticks": ""
            },
            "type": "contourcarpet"
           }
          ],
          "heatmap": [
           {
            "colorbar": {
             "outlinewidth": 0,
             "ticks": ""
            },
            "colorscale": [
             [
              0,
              "#0d0887"
             ],
             [
              0.1111111111111111,
              "#46039f"
             ],
             [
              0.2222222222222222,
              "#7201a8"
             ],
             [
              0.3333333333333333,
              "#9c179e"
             ],
             [
              0.4444444444444444,
              "#bd3786"
             ],
             [
              0.5555555555555556,
              "#d8576b"
             ],
             [
              0.6666666666666666,
              "#ed7953"
             ],
             [
              0.7777777777777778,
              "#fb9f3a"
             ],
             [
              0.8888888888888888,
              "#fdca26"
             ],
             [
              1,
              "#f0f921"
             ]
            ],
            "type": "heatmap"
           }
          ],
          "heatmapgl": [
           {
            "colorbar": {
             "outlinewidth": 0,
             "ticks": ""
            },
            "colorscale": [
             [
              0,
              "#0d0887"
             ],
             [
              0.1111111111111111,
              "#46039f"
             ],
             [
              0.2222222222222222,
              "#7201a8"
             ],
             [
              0.3333333333333333,
              "#9c179e"
             ],
             [
              0.4444444444444444,
              "#bd3786"
             ],
             [
              0.5555555555555556,
              "#d8576b"
             ],
             [
              0.6666666666666666,
              "#ed7953"
             ],
             [
              0.7777777777777778,
              "#fb9f3a"
             ],
             [
              0.8888888888888888,
              "#fdca26"
             ],
             [
              1,
              "#f0f921"
             ]
            ],
            "type": "heatmapgl"
           }
          ],
          "histogram": [
           {
            "marker": {
             "pattern": {
              "fillmode": "overlay",
              "size": 10,
              "solidity": 0.2
             }
            },
            "type": "histogram"
           }
          ],
          "histogram2d": [
           {
            "colorbar": {
             "outlinewidth": 0,
             "ticks": ""
            },
            "colorscale": [
             [
              0,
              "#0d0887"
             ],
             [
              0.1111111111111111,
              "#46039f"
             ],
             [
              0.2222222222222222,
              "#7201a8"
             ],
             [
              0.3333333333333333,
              "#9c179e"
             ],
             [
              0.4444444444444444,
              "#bd3786"
             ],
             [
              0.5555555555555556,
              "#d8576b"
             ],
             [
              0.6666666666666666,
              "#ed7953"
             ],
             [
              0.7777777777777778,
              "#fb9f3a"
             ],
             [
              0.8888888888888888,
              "#fdca26"
             ],
             [
              1,
              "#f0f921"
             ]
            ],
            "type": "histogram2d"
           }
          ],
          "histogram2dcontour": [
           {
            "colorbar": {
             "outlinewidth": 0,
             "ticks": ""
            },
            "colorscale": [
             [
              0,
              "#0d0887"
             ],
             [
              0.1111111111111111,
              "#46039f"
             ],
             [
              0.2222222222222222,
              "#7201a8"
             ],
             [
              0.3333333333333333,
              "#9c179e"
             ],
             [
              0.4444444444444444,
              "#bd3786"
             ],
             [
              0.5555555555555556,
              "#d8576b"
             ],
             [
              0.6666666666666666,
              "#ed7953"
             ],
             [
              0.7777777777777778,
              "#fb9f3a"
             ],
             [
              0.8888888888888888,
              "#fdca26"
             ],
             [
              1,
              "#f0f921"
             ]
            ],
            "type": "histogram2dcontour"
           }
          ],
          "mesh3d": [
           {
            "colorbar": {
             "outlinewidth": 0,
             "ticks": ""
            },
            "type": "mesh3d"
           }
          ],
          "parcoords": [
           {
            "line": {
             "colorbar": {
              "outlinewidth": 0,
              "ticks": ""
             }
            },
            "type": "parcoords"
           }
          ],
          "pie": [
           {
            "automargin": true,
            "type": "pie"
           }
          ],
          "scatter": [
           {
            "fillpattern": {
             "fillmode": "overlay",
             "size": 10,
             "solidity": 0.2
            },
            "type": "scatter"
           }
          ],
          "scatter3d": [
           {
            "line": {
             "colorbar": {
              "outlinewidth": 0,
              "ticks": ""
             }
            },
            "marker": {
             "colorbar": {
              "outlinewidth": 0,
              "ticks": ""
             }
            },
            "type": "scatter3d"
           }
          ],
          "scattercarpet": [
           {
            "marker": {
             "colorbar": {
              "outlinewidth": 0,
              "ticks": ""
             }
            },
            "type": "scattercarpet"
           }
          ],
          "scattergeo": [
           {
            "marker": {
             "colorbar": {
              "outlinewidth": 0,
              "ticks": ""
             }
            },
            "type": "scattergeo"
           }
          ],
          "scattergl": [
           {
            "marker": {
             "colorbar": {
              "outlinewidth": 0,
              "ticks": ""
             }
            },
            "type": "scattergl"
           }
          ],
          "scattermapbox": [
           {
            "marker": {
             "colorbar": {
              "outlinewidth": 0,
              "ticks": ""
             }
            },
            "type": "scattermapbox"
           }
          ],
          "scatterpolar": [
           {
            "marker": {
             "colorbar": {
              "outlinewidth": 0,
              "ticks": ""
             }
            },
            "type": "scatterpolar"
           }
          ],
          "scatterpolargl": [
           {
            "marker": {
             "colorbar": {
              "outlinewidth": 0,
              "ticks": ""
             }
            },
            "type": "scatterpolargl"
           }
          ],
          "scatterternary": [
           {
            "marker": {
             "colorbar": {
              "outlinewidth": 0,
              "ticks": ""
             }
            },
            "type": "scatterternary"
           }
          ],
          "surface": [
           {
            "colorbar": {
             "outlinewidth": 0,
             "ticks": ""
            },
            "colorscale": [
             [
              0,
              "#0d0887"
             ],
             [
              0.1111111111111111,
              "#46039f"
             ],
             [
              0.2222222222222222,
              "#7201a8"
             ],
             [
              0.3333333333333333,
              "#9c179e"
             ],
             [
              0.4444444444444444,
              "#bd3786"
             ],
             [
              0.5555555555555556,
              "#d8576b"
             ],
             [
              0.6666666666666666,
              "#ed7953"
             ],
             [
              0.7777777777777778,
              "#fb9f3a"
             ],
             [
              0.8888888888888888,
              "#fdca26"
             ],
             [
              1,
              "#f0f921"
             ]
            ],
            "type": "surface"
           }
          ],
          "table": [
           {
            "cells": {
             "fill": {
              "color": "#EBF0F8"
             },
             "line": {
              "color": "white"
             }
            },
            "header": {
             "fill": {
              "color": "#C8D4E3"
             },
             "line": {
              "color": "white"
             }
            },
            "type": "table"
           }
          ]
         },
         "layout": {
          "annotationdefaults": {
           "arrowcolor": "#2a3f5f",
           "arrowhead": 0,
           "arrowwidth": 1
          },
          "autotypenumbers": "strict",
          "coloraxis": {
           "colorbar": {
            "outlinewidth": 0,
            "ticks": ""
           }
          },
          "colorscale": {
           "diverging": [
            [
             0,
             "#8e0152"
            ],
            [
             0.1,
             "#c51b7d"
            ],
            [
             0.2,
             "#de77ae"
            ],
            [
             0.3,
             "#f1b6da"
            ],
            [
             0.4,
             "#fde0ef"
            ],
            [
             0.5,
             "#f7f7f7"
            ],
            [
             0.6,
             "#e6f5d0"
            ],
            [
             0.7,
             "#b8e186"
            ],
            [
             0.8,
             "#7fbc41"
            ],
            [
             0.9,
             "#4d9221"
            ],
            [
             1,
             "#276419"
            ]
           ],
           "sequential": [
            [
             0,
             "#0d0887"
            ],
            [
             0.1111111111111111,
             "#46039f"
            ],
            [
             0.2222222222222222,
             "#7201a8"
            ],
            [
             0.3333333333333333,
             "#9c179e"
            ],
            [
             0.4444444444444444,
             "#bd3786"
            ],
            [
             0.5555555555555556,
             "#d8576b"
            ],
            [
             0.6666666666666666,
             "#ed7953"
            ],
            [
             0.7777777777777778,
             "#fb9f3a"
            ],
            [
             0.8888888888888888,
             "#fdca26"
            ],
            [
             1,
             "#f0f921"
            ]
           ],
           "sequentialminus": [
            [
             0,
             "#0d0887"
            ],
            [
             0.1111111111111111,
             "#46039f"
            ],
            [
             0.2222222222222222,
             "#7201a8"
            ],
            [
             0.3333333333333333,
             "#9c179e"
            ],
            [
             0.4444444444444444,
             "#bd3786"
            ],
            [
             0.5555555555555556,
             "#d8576b"
            ],
            [
             0.6666666666666666,
             "#ed7953"
            ],
            [
             0.7777777777777778,
             "#fb9f3a"
            ],
            [
             0.8888888888888888,
             "#fdca26"
            ],
            [
             1,
             "#f0f921"
            ]
           ]
          },
          "colorway": [
           "#636efa",
           "#EF553B",
           "#00cc96",
           "#ab63fa",
           "#FFA15A",
           "#19d3f3",
           "#FF6692",
           "#B6E880",
           "#FF97FF",
           "#FECB52"
          ],
          "font": {
           "color": "#2a3f5f"
          },
          "geo": {
           "bgcolor": "white",
           "lakecolor": "white",
           "landcolor": "#E5ECF6",
           "showlakes": true,
           "showland": true,
           "subunitcolor": "white"
          },
          "hoverlabel": {
           "align": "left"
          },
          "hovermode": "closest",
          "mapbox": {
           "style": "light"
          },
          "paper_bgcolor": "white",
          "plot_bgcolor": "#E5ECF6",
          "polar": {
           "angularaxis": {
            "gridcolor": "white",
            "linecolor": "white",
            "ticks": ""
           },
           "bgcolor": "#E5ECF6",
           "radialaxis": {
            "gridcolor": "white",
            "linecolor": "white",
            "ticks": ""
           }
          },
          "scene": {
           "xaxis": {
            "backgroundcolor": "#E5ECF6",
            "gridcolor": "white",
            "gridwidth": 2,
            "linecolor": "white",
            "showbackground": true,
            "ticks": "",
            "zerolinecolor": "white"
           },
           "yaxis": {
            "backgroundcolor": "#E5ECF6",
            "gridcolor": "white",
            "gridwidth": 2,
            "linecolor": "white",
            "showbackground": true,
            "ticks": "",
            "zerolinecolor": "white"
           },
           "zaxis": {
            "backgroundcolor": "#E5ECF6",
            "gridcolor": "white",
            "gridwidth": 2,
            "linecolor": "white",
            "showbackground": true,
            "ticks": "",
            "zerolinecolor": "white"
           }
          },
          "shapedefaults": {
           "line": {
            "color": "#2a3f5f"
           }
          },
          "ternary": {
           "aaxis": {
            "gridcolor": "white",
            "linecolor": "white",
            "ticks": ""
           },
           "baxis": {
            "gridcolor": "white",
            "linecolor": "white",
            "ticks": ""
           },
           "bgcolor": "#E5ECF6",
           "caxis": {
            "gridcolor": "white",
            "linecolor": "white",
            "ticks": ""
           }
          },
          "title": {
           "x": 0.05
          },
          "xaxis": {
           "automargin": true,
           "gridcolor": "white",
           "linecolor": "white",
           "ticks": "",
           "title": {
            "standoff": 15
           },
           "zerolinecolor": "white",
           "zerolinewidth": 2
          },
          "yaxis": {
           "automargin": true,
           "gridcolor": "white",
           "linecolor": "white",
           "ticks": "",
           "title": {
            "standoff": 15
           },
           "zerolinecolor": "white",
           "zerolinewidth": 2
          }
         }
        },
        "title": {
         "text": "Frequency of Tornados in North America per Year"
        },
        "xaxis": {
         "anchor": "y",
         "domain": [
          0,
          1
         ],
         "title": {
          "text": "Year"
         }
        },
        "yaxis": {
         "anchor": "x",
         "domain": [
          0,
          1
         ],
         "title": {
          "text": "Number of Tornados"
         }
        }
       }
      }
     },
     "metadata": {},
     "output_type": "display_data"
    }
   ],
   "source": [
    "per_year = dataset.groupby('Year')['event_name'].count().reset_index(name='Number of Tornados')\n",
    "px.line(per_year,x='Year',y='Number of Tornados',title='Frequency of Tornados in North America per Year')"
   ]
  },
  {
   "cell_type": "markdown",
   "metadata": {},
   "source": [
    "Frequency is defined as the *count* of *categorized data*, but it is not the data value itself. Looking at the visualization, we can see that the number of tornados changes from year to year. For instance:\n",
    "\n",
    " - In 2017, there were 70 tornados.\n",
    " - In 2018, there were 103 tornados.\n",
    " - In 2019, there were 222 tornados.\n",
    " - In 2020, there were 349 tornados.\n",
    " - In 2021, there were 310 tornados.\n",
    " - In 2022, there were 300 tornados.\n",
    " - In 2023 (based on the date the data has been obtained), there have been 3 tornados."
   ]
  },
  {
   "cell_type": "markdown",
   "metadata": {},
   "source": [
    "As an extension to frequency, **mode** is the value that appears most frequently in a set of data. In our tornado data, we can identify the mode as the year with the highest number of tornados. This would be 2020 as 349 is the highest frequency of tornados based on the years in the visualization."
   ]
  },
  {
   "attachments": {},
   "cell_type": "markdown",
   "metadata": {},
   "source": [
    "The next step in our data visualization process was to create a bar graph of the number of tornados per year. Note that the colors also represent number of tornados per month. If you only want to see the tornados that happened during certain months you can turn off the data for certain months that you don't want to see by clicking on the months you don't want to see in the legend. This works like a toggle switch, and you can turn on the months to see them again by clicking on them again. \n",
    "\n",
    "The visualization organizes the number of tornados by year and creates a stacked bar graph based on the number of tornados seen in each month of that year. We can also double-click on a specific month to compare and contrast how each month compares throughout the years."
   ]
  },
  {
   "cell_type": "code",
   "execution_count": 8,
   "metadata": {},
   "outputs": [
    {
     "data": {
      "application/vnd.plotly.v1+json": {
       "config": {
        "plotlyServerURL": "https://plot.ly"
       },
       "data": [
        {
         "alignmentgroup": "True",
         "hovertemplate": "month=Apr<br>Year=%{x}<br>Number of Tornados=%{y}<extra></extra>",
         "legendgroup": "Apr",
         "marker": {
          "color": "#636efa",
          "pattern": {
           "shape": ""
          }
         },
         "name": "Apr",
         "offsetgroup": "Apr",
         "orientation": "v",
         "showlegend": true,
         "textposition": "auto",
         "type": "bar",
         "x": [
          "2017",
          "2019",
          "2020",
          "2021",
          "2022"
         ],
         "xaxis": "x",
         "y": [
          1,
          4,
          2,
          7,
          2
         ],
         "yaxis": "y"
        },
        {
         "alignmentgroup": "True",
         "hovertemplate": "month=Aug<br>Year=%{x}<br>Number of Tornados=%{y}<extra></extra>",
         "legendgroup": "Aug",
         "marker": {
          "color": "#EF553B",
          "pattern": {
           "shape": ""
          }
         },
         "name": "Aug",
         "offsetgroup": "Aug",
         "orientation": "v",
         "showlegend": true,
         "textposition": "auto",
         "type": "bar",
         "x": [
          "2017",
          "2018",
          "2019",
          "2020",
          "2021",
          "2022"
         ],
         "xaxis": "x",
         "y": [
          12,
          18,
          24,
          66,
          65,
          62
         ],
         "yaxis": "y"
        },
        {
         "alignmentgroup": "True",
         "hovertemplate": "month=Jul<br>Year=%{x}<br>Number of Tornados=%{y}<extra></extra>",
         "legendgroup": "Jul",
         "marker": {
          "color": "#00cc96",
          "pattern": {
           "shape": ""
          }
         },
         "name": "Jul",
         "offsetgroup": "Jul",
         "orientation": "v",
         "showlegend": true,
         "textposition": "auto",
         "type": "bar",
         "x": [
          "2017",
          "2018",
          "2019",
          "2020",
          "2021",
          "2022"
         ],
         "xaxis": "x",
         "y": [
          20,
          28,
          111,
          121,
          73,
          119
         ],
         "yaxis": "y"
        },
        {
         "alignmentgroup": "True",
         "hovertemplate": "month=June<br>Year=%{x}<br>Number of Tornados=%{y}<extra></extra>",
         "legendgroup": "June",
         "marker": {
          "color": "#ab63fa",
          "pattern": {
           "shape": ""
          }
         },
         "name": "June",
         "offsetgroup": "June",
         "orientation": "v",
         "showlegend": true,
         "textposition": "auto",
         "type": "bar",
         "x": [
          "2017",
          "2018",
          "2019",
          "2020",
          "2021",
          "2022"
         ],
         "xaxis": "x",
         "y": [
          28,
          15,
          47,
          104,
          93,
          62
         ],
         "yaxis": "y"
        },
        {
         "alignmentgroup": "True",
         "hovertemplate": "month=May<br>Year=%{x}<br>Number of Tornados=%{y}<extra></extra>",
         "legendgroup": "May",
         "marker": {
          "color": "#FFA15A",
          "pattern": {
           "shape": ""
          }
         },
         "name": "May",
         "offsetgroup": "May",
         "orientation": "v",
         "showlegend": true,
         "textposition": "auto",
         "type": "bar",
         "x": [
          "2017",
          "2018",
          "2019",
          "2020",
          "2021",
          "2022",
          "2023"
         ],
         "xaxis": "x",
         "y": [
          4,
          6,
          13,
          24,
          26,
          37,
          3
         ],
         "yaxis": "y"
        },
        {
         "alignmentgroup": "True",
         "hovertemplate": "month=Oct<br>Year=%{x}<br>Number of Tornados=%{y}<extra></extra>",
         "legendgroup": "Oct",
         "marker": {
          "color": "#19d3f3",
          "pattern": {
           "shape": ""
          }
         },
         "name": "Oct",
         "offsetgroup": "Oct",
         "orientation": "v",
         "showlegend": true,
         "textposition": "auto",
         "type": "bar",
         "x": [
          "2017",
          "2018",
          "2019",
          "2020",
          "2021",
          "2022"
         ],
         "xaxis": "x",
         "y": [
          3,
          4,
          1,
          16,
          9,
          1
         ],
         "yaxis": "y"
        },
        {
         "alignmentgroup": "True",
         "hovertemplate": "month=Sept<br>Year=%{x}<br>Number of Tornados=%{y}<extra></extra>",
         "legendgroup": "Sept",
         "marker": {
          "color": "#FF6692",
          "pattern": {
           "shape": ""
          }
         },
         "name": "Sept",
         "offsetgroup": "Sept",
         "orientation": "v",
         "showlegend": true,
         "textposition": "auto",
         "type": "bar",
         "x": [
          "2017",
          "2018",
          "2019",
          "2020",
          "2021",
          "2022"
         ],
         "xaxis": "x",
         "y": [
          2,
          32,
          22,
          10,
          32,
          15
         ],
         "yaxis": "y"
        },
        {
         "alignmentgroup": "True",
         "hovertemplate": "month=Nov<br>Year=%{x}<br>Number of Tornados=%{y}<extra></extra>",
         "legendgroup": "Nov",
         "marker": {
          "color": "#B6E880",
          "pattern": {
           "shape": ""
          }
         },
         "name": "Nov",
         "offsetgroup": "Nov",
         "orientation": "v",
         "showlegend": true,
         "textposition": "auto",
         "type": "bar",
         "x": [
          "2020",
          "2021"
         ],
         "xaxis": "x",
         "y": [
          6,
          3
         ],
         "yaxis": "y"
        },
        {
         "alignmentgroup": "True",
         "hovertemplate": "month=Mar<br>Year=%{x}<br>Number of Tornados=%{y}<extra></extra>",
         "legendgroup": "Mar",
         "marker": {
          "color": "#FF97FF",
          "pattern": {
           "shape": ""
          }
         },
         "name": "Mar",
         "offsetgroup": "Mar",
         "orientation": "v",
         "showlegend": true,
         "textposition": "auto",
         "type": "bar",
         "x": [
          "2021"
         ],
         "xaxis": "x",
         "y": [
          1
         ],
         "yaxis": "y"
        },
        {
         "alignmentgroup": "True",
         "hovertemplate": "month=Feb<br>Year=%{x}<br>Number of Tornados=%{y}<extra></extra>",
         "legendgroup": "Feb",
         "marker": {
          "color": "#FECB52",
          "pattern": {
           "shape": ""
          }
         },
         "name": "Feb",
         "offsetgroup": "Feb",
         "orientation": "v",
         "showlegend": true,
         "textposition": "auto",
         "type": "bar",
         "x": [
          "2021"
         ],
         "xaxis": "x",
         "y": [
          1
         ],
         "yaxis": "y"
        },
        {
         "alignmentgroup": "True",
         "hovertemplate": "month=Dec<br>Year=%{x}<br>Number of Tornados=%{y}<extra></extra>",
         "legendgroup": "Dec",
         "marker": {
          "color": "#636efa",
          "pattern": {
           "shape": ""
          }
         },
         "name": "Dec",
         "offsetgroup": "Dec",
         "orientation": "v",
         "showlegend": true,
         "textposition": "auto",
         "type": "bar",
         "x": [
          "2022"
         ],
         "xaxis": "x",
         "y": [
          2
         ],
         "yaxis": "y"
        }
       ],
       "layout": {
        "barmode": "relative",
        "legend": {
         "title": {
          "text": "month"
         },
         "tracegroupgap": 0
        },
        "template": {
         "data": {
          "bar": [
           {
            "error_x": {
             "color": "#2a3f5f"
            },
            "error_y": {
             "color": "#2a3f5f"
            },
            "marker": {
             "line": {
              "color": "#E5ECF6",
              "width": 0.5
             },
             "pattern": {
              "fillmode": "overlay",
              "size": 10,
              "solidity": 0.2
             }
            },
            "type": "bar"
           }
          ],
          "barpolar": [
           {
            "marker": {
             "line": {
              "color": "#E5ECF6",
              "width": 0.5
             },
             "pattern": {
              "fillmode": "overlay",
              "size": 10,
              "solidity": 0.2
             }
            },
            "type": "barpolar"
           }
          ],
          "carpet": [
           {
            "aaxis": {
             "endlinecolor": "#2a3f5f",
             "gridcolor": "white",
             "linecolor": "white",
             "minorgridcolor": "white",
             "startlinecolor": "#2a3f5f"
            },
            "baxis": {
             "endlinecolor": "#2a3f5f",
             "gridcolor": "white",
             "linecolor": "white",
             "minorgridcolor": "white",
             "startlinecolor": "#2a3f5f"
            },
            "type": "carpet"
           }
          ],
          "choropleth": [
           {
            "colorbar": {
             "outlinewidth": 0,
             "ticks": ""
            },
            "type": "choropleth"
           }
          ],
          "contour": [
           {
            "colorbar": {
             "outlinewidth": 0,
             "ticks": ""
            },
            "colorscale": [
             [
              0,
              "#0d0887"
             ],
             [
              0.1111111111111111,
              "#46039f"
             ],
             [
              0.2222222222222222,
              "#7201a8"
             ],
             [
              0.3333333333333333,
              "#9c179e"
             ],
             [
              0.4444444444444444,
              "#bd3786"
             ],
             [
              0.5555555555555556,
              "#d8576b"
             ],
             [
              0.6666666666666666,
              "#ed7953"
             ],
             [
              0.7777777777777778,
              "#fb9f3a"
             ],
             [
              0.8888888888888888,
              "#fdca26"
             ],
             [
              1,
              "#f0f921"
             ]
            ],
            "type": "contour"
           }
          ],
          "contourcarpet": [
           {
            "colorbar": {
             "outlinewidth": 0,
             "ticks": ""
            },
            "type": "contourcarpet"
           }
          ],
          "heatmap": [
           {
            "colorbar": {
             "outlinewidth": 0,
             "ticks": ""
            },
            "colorscale": [
             [
              0,
              "#0d0887"
             ],
             [
              0.1111111111111111,
              "#46039f"
             ],
             [
              0.2222222222222222,
              "#7201a8"
             ],
             [
              0.3333333333333333,
              "#9c179e"
             ],
             [
              0.4444444444444444,
              "#bd3786"
             ],
             [
              0.5555555555555556,
              "#d8576b"
             ],
             [
              0.6666666666666666,
              "#ed7953"
             ],
             [
              0.7777777777777778,
              "#fb9f3a"
             ],
             [
              0.8888888888888888,
              "#fdca26"
             ],
             [
              1,
              "#f0f921"
             ]
            ],
            "type": "heatmap"
           }
          ],
          "heatmapgl": [
           {
            "colorbar": {
             "outlinewidth": 0,
             "ticks": ""
            },
            "colorscale": [
             [
              0,
              "#0d0887"
             ],
             [
              0.1111111111111111,
              "#46039f"
             ],
             [
              0.2222222222222222,
              "#7201a8"
             ],
             [
              0.3333333333333333,
              "#9c179e"
             ],
             [
              0.4444444444444444,
              "#bd3786"
             ],
             [
              0.5555555555555556,
              "#d8576b"
             ],
             [
              0.6666666666666666,
              "#ed7953"
             ],
             [
              0.7777777777777778,
              "#fb9f3a"
             ],
             [
              0.8888888888888888,
              "#fdca26"
             ],
             [
              1,
              "#f0f921"
             ]
            ],
            "type": "heatmapgl"
           }
          ],
          "histogram": [
           {
            "marker": {
             "pattern": {
              "fillmode": "overlay",
              "size": 10,
              "solidity": 0.2
             }
            },
            "type": "histogram"
           }
          ],
          "histogram2d": [
           {
            "colorbar": {
             "outlinewidth": 0,
             "ticks": ""
            },
            "colorscale": [
             [
              0,
              "#0d0887"
             ],
             [
              0.1111111111111111,
              "#46039f"
             ],
             [
              0.2222222222222222,
              "#7201a8"
             ],
             [
              0.3333333333333333,
              "#9c179e"
             ],
             [
              0.4444444444444444,
              "#bd3786"
             ],
             [
              0.5555555555555556,
              "#d8576b"
             ],
             [
              0.6666666666666666,
              "#ed7953"
             ],
             [
              0.7777777777777778,
              "#fb9f3a"
             ],
             [
              0.8888888888888888,
              "#fdca26"
             ],
             [
              1,
              "#f0f921"
             ]
            ],
            "type": "histogram2d"
           }
          ],
          "histogram2dcontour": [
           {
            "colorbar": {
             "outlinewidth": 0,
             "ticks": ""
            },
            "colorscale": [
             [
              0,
              "#0d0887"
             ],
             [
              0.1111111111111111,
              "#46039f"
             ],
             [
              0.2222222222222222,
              "#7201a8"
             ],
             [
              0.3333333333333333,
              "#9c179e"
             ],
             [
              0.4444444444444444,
              "#bd3786"
             ],
             [
              0.5555555555555556,
              "#d8576b"
             ],
             [
              0.6666666666666666,
              "#ed7953"
             ],
             [
              0.7777777777777778,
              "#fb9f3a"
             ],
             [
              0.8888888888888888,
              "#fdca26"
             ],
             [
              1,
              "#f0f921"
             ]
            ],
            "type": "histogram2dcontour"
           }
          ],
          "mesh3d": [
           {
            "colorbar": {
             "outlinewidth": 0,
             "ticks": ""
            },
            "type": "mesh3d"
           }
          ],
          "parcoords": [
           {
            "line": {
             "colorbar": {
              "outlinewidth": 0,
              "ticks": ""
             }
            },
            "type": "parcoords"
           }
          ],
          "pie": [
           {
            "automargin": true,
            "type": "pie"
           }
          ],
          "scatter": [
           {
            "fillpattern": {
             "fillmode": "overlay",
             "size": 10,
             "solidity": 0.2
            },
            "type": "scatter"
           }
          ],
          "scatter3d": [
           {
            "line": {
             "colorbar": {
              "outlinewidth": 0,
              "ticks": ""
             }
            },
            "marker": {
             "colorbar": {
              "outlinewidth": 0,
              "ticks": ""
             }
            },
            "type": "scatter3d"
           }
          ],
          "scattercarpet": [
           {
            "marker": {
             "colorbar": {
              "outlinewidth": 0,
              "ticks": ""
             }
            },
            "type": "scattercarpet"
           }
          ],
          "scattergeo": [
           {
            "marker": {
             "colorbar": {
              "outlinewidth": 0,
              "ticks": ""
             }
            },
            "type": "scattergeo"
           }
          ],
          "scattergl": [
           {
            "marker": {
             "colorbar": {
              "outlinewidth": 0,
              "ticks": ""
             }
            },
            "type": "scattergl"
           }
          ],
          "scattermapbox": [
           {
            "marker": {
             "colorbar": {
              "outlinewidth": 0,
              "ticks": ""
             }
            },
            "type": "scattermapbox"
           }
          ],
          "scatterpolar": [
           {
            "marker": {
             "colorbar": {
              "outlinewidth": 0,
              "ticks": ""
             }
            },
            "type": "scatterpolar"
           }
          ],
          "scatterpolargl": [
           {
            "marker": {
             "colorbar": {
              "outlinewidth": 0,
              "ticks": ""
             }
            },
            "type": "scatterpolargl"
           }
          ],
          "scatterternary": [
           {
            "marker": {
             "colorbar": {
              "outlinewidth": 0,
              "ticks": ""
             }
            },
            "type": "scatterternary"
           }
          ],
          "surface": [
           {
            "colorbar": {
             "outlinewidth": 0,
             "ticks": ""
            },
            "colorscale": [
             [
              0,
              "#0d0887"
             ],
             [
              0.1111111111111111,
              "#46039f"
             ],
             [
              0.2222222222222222,
              "#7201a8"
             ],
             [
              0.3333333333333333,
              "#9c179e"
             ],
             [
              0.4444444444444444,
              "#bd3786"
             ],
             [
              0.5555555555555556,
              "#d8576b"
             ],
             [
              0.6666666666666666,
              "#ed7953"
             ],
             [
              0.7777777777777778,
              "#fb9f3a"
             ],
             [
              0.8888888888888888,
              "#fdca26"
             ],
             [
              1,
              "#f0f921"
             ]
            ],
            "type": "surface"
           }
          ],
          "table": [
           {
            "cells": {
             "fill": {
              "color": "#EBF0F8"
             },
             "line": {
              "color": "white"
             }
            },
            "header": {
             "fill": {
              "color": "#C8D4E3"
             },
             "line": {
              "color": "white"
             }
            },
            "type": "table"
           }
          ]
         },
         "layout": {
          "annotationdefaults": {
           "arrowcolor": "#2a3f5f",
           "arrowhead": 0,
           "arrowwidth": 1
          },
          "autotypenumbers": "strict",
          "coloraxis": {
           "colorbar": {
            "outlinewidth": 0,
            "ticks": ""
           }
          },
          "colorscale": {
           "diverging": [
            [
             0,
             "#8e0152"
            ],
            [
             0.1,
             "#c51b7d"
            ],
            [
             0.2,
             "#de77ae"
            ],
            [
             0.3,
             "#f1b6da"
            ],
            [
             0.4,
             "#fde0ef"
            ],
            [
             0.5,
             "#f7f7f7"
            ],
            [
             0.6,
             "#e6f5d0"
            ],
            [
             0.7,
             "#b8e186"
            ],
            [
             0.8,
             "#7fbc41"
            ],
            [
             0.9,
             "#4d9221"
            ],
            [
             1,
             "#276419"
            ]
           ],
           "sequential": [
            [
             0,
             "#0d0887"
            ],
            [
             0.1111111111111111,
             "#46039f"
            ],
            [
             0.2222222222222222,
             "#7201a8"
            ],
            [
             0.3333333333333333,
             "#9c179e"
            ],
            [
             0.4444444444444444,
             "#bd3786"
            ],
            [
             0.5555555555555556,
             "#d8576b"
            ],
            [
             0.6666666666666666,
             "#ed7953"
            ],
            [
             0.7777777777777778,
             "#fb9f3a"
            ],
            [
             0.8888888888888888,
             "#fdca26"
            ],
            [
             1,
             "#f0f921"
            ]
           ],
           "sequentialminus": [
            [
             0,
             "#0d0887"
            ],
            [
             0.1111111111111111,
             "#46039f"
            ],
            [
             0.2222222222222222,
             "#7201a8"
            ],
            [
             0.3333333333333333,
             "#9c179e"
            ],
            [
             0.4444444444444444,
             "#bd3786"
            ],
            [
             0.5555555555555556,
             "#d8576b"
            ],
            [
             0.6666666666666666,
             "#ed7953"
            ],
            [
             0.7777777777777778,
             "#fb9f3a"
            ],
            [
             0.8888888888888888,
             "#fdca26"
            ],
            [
             1,
             "#f0f921"
            ]
           ]
          },
          "colorway": [
           "#636efa",
           "#EF553B",
           "#00cc96",
           "#ab63fa",
           "#FFA15A",
           "#19d3f3",
           "#FF6692",
           "#B6E880",
           "#FF97FF",
           "#FECB52"
          ],
          "font": {
           "color": "#2a3f5f"
          },
          "geo": {
           "bgcolor": "white",
           "lakecolor": "white",
           "landcolor": "#E5ECF6",
           "showlakes": true,
           "showland": true,
           "subunitcolor": "white"
          },
          "hoverlabel": {
           "align": "left"
          },
          "hovermode": "closest",
          "mapbox": {
           "style": "light"
          },
          "paper_bgcolor": "white",
          "plot_bgcolor": "#E5ECF6",
          "polar": {
           "angularaxis": {
            "gridcolor": "white",
            "linecolor": "white",
            "ticks": ""
           },
           "bgcolor": "#E5ECF6",
           "radialaxis": {
            "gridcolor": "white",
            "linecolor": "white",
            "ticks": ""
           }
          },
          "scene": {
           "xaxis": {
            "backgroundcolor": "#E5ECF6",
            "gridcolor": "white",
            "gridwidth": 2,
            "linecolor": "white",
            "showbackground": true,
            "ticks": "",
            "zerolinecolor": "white"
           },
           "yaxis": {
            "backgroundcolor": "#E5ECF6",
            "gridcolor": "white",
            "gridwidth": 2,
            "linecolor": "white",
            "showbackground": true,
            "ticks": "",
            "zerolinecolor": "white"
           },
           "zaxis": {
            "backgroundcolor": "#E5ECF6",
            "gridcolor": "white",
            "gridwidth": 2,
            "linecolor": "white",
            "showbackground": true,
            "ticks": "",
            "zerolinecolor": "white"
           }
          },
          "shapedefaults": {
           "line": {
            "color": "#2a3f5f"
           }
          },
          "ternary": {
           "aaxis": {
            "gridcolor": "white",
            "linecolor": "white",
            "ticks": ""
           },
           "baxis": {
            "gridcolor": "white",
            "linecolor": "white",
            "ticks": ""
           },
           "bgcolor": "#E5ECF6",
           "caxis": {
            "gridcolor": "white",
            "linecolor": "white",
            "ticks": ""
           }
          },
          "title": {
           "x": 0.05
          },
          "xaxis": {
           "automargin": true,
           "gridcolor": "white",
           "linecolor": "white",
           "ticks": "",
           "title": {
            "standoff": 15
           },
           "zerolinecolor": "white",
           "zerolinewidth": 2
          },
          "yaxis": {
           "automargin": true,
           "gridcolor": "white",
           "linecolor": "white",
           "ticks": "",
           "title": {
            "standoff": 15
           },
           "zerolinecolor": "white",
           "zerolinewidth": 2
          }
         }
        },
        "title": {
         "text": "Frequency of Tornados per Month in each Year"
        },
        "xaxis": {
         "anchor": "y",
         "domain": [
          0,
          1
         ],
         "title": {
          "text": "Year"
         }
        },
        "yaxis": {
         "anchor": "x",
         "domain": [
          0,
          1
         ],
         "title": {
          "text": "Number of Tornados"
         }
        }
       }
      }
     },
     "metadata": {},
     "output_type": "display_data"
    }
   ],
   "source": [
    "year_month = dataset.groupby(['Year','month'])['event_name'].count().reset_index(name='Number of Tornados')\n",
    "year_month.sort_values('Year',inplace=True)\n",
    "px.bar(year_month,x='Year',y='Number of Tornados',color='month',title='Frequency of Tornados per Month in each Year')"
   ]
  },
  {
   "attachments": {},
   "cell_type": "markdown",
   "metadata": {},
   "source": [
    "We can apply our understanding of *frequency* again to this visualization, but this time based on a different variable. We can isolate our data based on certain months. Looking at the month of July (the month with the overall highest number of tornados), the frequency of tornados is:\n",
    "\n",
    "- 20 Tornados in July 2017\n",
    "- 28 Tornados in July 2018\n",
    "- 111 Tornados in July 2019\n",
    "- 121 Tornados in July 2020\n",
    "- 73 Tornados in July 2021\n",
    "- 119 Tornados in July 2022\n",
    "\n",
    "**Can you choose a different month, perhaps June or August, and find the frequency of tornados in each year for the month you choose?**\n",
    "\n",
    "For July, the year with the highest frequency of tornados or mode is 2020 (121 tornados). However, when separating the data by *September*, the frequency of tornados changes drastically. \n",
    "\n",
    "- 2 Tornados in September 2017\n",
    "- 32 Tornados in September 2018\n",
    "- 22 Tornados in September 2019\n",
    "- 10 Tornados in September 2020\n",
    "- 32 Tornados in September 2021\n",
    "- 15 Tornados in September 2022\n",
    "\n",
    "This is an example of how the context of information can really change what we think the information means. In the previous month of July, the year 2021 was only ranked 3rd highest frequency despite having 73 total tornados. In September, the years 2018 and 2021 are both ranked the highest frequency of tornados despite having a lower number of tornados compared to July 2021.  This shows us that just looking at the number of tornados isn't enough – we need to know how many tornados usually happen in each month relative to the total number of tornados to understand if many tornados occurred or not.\n",
    "\n",
    "**Note**: In September we actually have *2* modes as there is a tie for the highest frequency of tornados in September 2018 and 2021."
   ]
  },
  {
   "attachments": {},
   "cell_type": "markdown",
   "metadata": {},
   "source": [
    "We created a map of all the tornados in this data set; each dot represents a tornado. If you don't want to see the tornados for a specific year you can turn that year off by clicking it in the legend. Remember you can turn it back on to see that year again by clicking on the year in the legend a second time. If you are only interested in seeing one specific year, you can double-click the year you are interested in."
   ]
  },
  {
   "cell_type": "code",
   "execution_count": 5,
   "metadata": {},
   "outputs": [
    {
     "data": {
      "application/vnd.plotly.v1+json": {
       "config": {
        "plotlyServerURL": "https://plot.ly"
       },
       "data": [
        {
         "hovertemplate": "Year=2017<br>Y=%{lat}<br>X=%{lon}<extra></extra>",
         "lat": [
          43.0486000000001,
          52.7347,
          52.8711000000001,
          52.5245,
          48.0605,
          51.8003,
          53.5161000000001,
          49.7828000000001,
          47.1639000000001,
          47.0761000000001,
          47.0783000000001,
          47.4031000000001,
          46.8914,
          47.4631000000001,
          47.58,
          47.6322000000001,
          48.2955000000001,
          46.864,
          46.6736000000001,
          47.0967000000001,
          47.1692,
          47.1704,
          47.4110000000001,
          47.2675,
          48.3119,
          47.486,
          48.722,
          48.883,
          49.03,
          47.8530000000001,
          47.2094000000001,
          52.7450000000001,
          49.8384,
          53.893,
          49.5170000000001,
          51.0839,
          48.2883,
          52.6853,
          51.2020000000001,
          44.41,
          43.2026000000001,
          54.8346000000001,
          54.8943,
          53.1733,
          54.6585000000001,
          54.796,
          51.931,
          51.917,
          51.8017,
          51.9445000000001,
          52.0712,
          50.3159000000001,
          53.2946000000001,
          45.2048,
          47.5703,
          45.3047,
          45.3806000000001,
          47.2853000000001,
          46.3093000000001,
          43.5671,
          42.0532000000001,
          48.2358,
          45.9061,
          46.8317000000001,
          51.1852000000001,
          57.2894000000001,
          50.4673000000001,
          50.7470000000001,
          46.5694,
          46.8056
         ],
         "legendgroup": "2017",
         "lon": [
          -81.1471,
          -105.4383,
          -105.7941,
          -106.883,
          -78.5275,
          -113.3828,
          -111.1758,
          -92.8029,
          -77.4503,
          -77.3086,
          -77.3933,
          -76.1745,
          -77.7711,
          -76.5307999999999,
          -76.2872,
          -75.2241999999999,
          -73.0554999999999,
          -75.434,
          -75.2130999999999,
          -74.3391999999999,
          -74.2585999999999,
          -74.1632999999999,
          -71.201,
          -73.7155999999999,
          -71.715,
          -73.011,
          -71.799,
          -71.329,
          -70.826,
          -72.414,
          -74.3419,
          -100.6916,
          -82.4553,
          -115.0664,
          -101.91,
          -70.1591999999999,
          -91.2289,
          -115.2075,
          -109.6289,
          -79.21,
          -81.426,
          -111.2387,
          -111.1483,
          -114.6747,
          -113.2395,
          -103.6123,
          -104.726,
          -104.9797,
          -103.5568,
          -104.9608,
          -104.2901,
          -101.8878,
          -99.3704999999999,
          -79.3402,
          -73.8017,
          -79.2189,
          -79.0830999999999,
          -75.0869,
          -70.8767999999999,
          -80.6785,
          -82.5998,
          -77.5196999999999,
          -76.9397,
          -73.9711,
          -90.9267,
          -118.2019,
          -94.9272999999999,
          -111.1825,
          -75.5039,
          -74.0479999999999
         ],
         "marker": {
          "color": "#636efa"
         },
         "mode": "markers",
         "name": "2017",
         "showlegend": true,
         "subplot": "mapbox",
         "type": "scattermapbox"
        },
        {
         "hovertemplate": "Year=2018<br>Y=%{lat}<br>X=%{lon}<extra></extra>",
         "lat": [
          45.7882000000001,
          50.5888,
          50.6375,
          50.0327,
          53.0852,
          53.1924000000001,
          54.6720000000001,
          43.0069,
          42.8724,
          49.0466000000001,
          54.8553000000001,
          47.9039000000001,
          47.907,
          47.8811000000001,
          47.8381000000001,
          49.7185000000001,
          50.7062000000001,
          58.2228000000001,
          58.287,
          56.2319000000001,
          52.1625000000001,
          46.5146,
          51.1168000000001,
          49.2967,
          49.2803000000001,
          53.5922,
          53.6841000000001,
          56.3075000000001,
          54.6345000000001,
          52.3326000000001,
          54.0824000000001,
          50.3776,
          50.3776,
          49.215,
          50.3743000000001,
          50.2466000000001,
          49.3800000000001,
          49.383,
          49.4402000000001,
          49.1767,
          49.2040000000001,
          51.0155,
          51.1192,
          46.3940000000001,
          44.4810000000001,
          45.3593000000001,
          44.496,
          42.3500000000001,
          42.4314000000001,
          47.0639,
          46.9103000000001,
          46.9472000000001,
          50.7611000000001,
          46.405,
          43.1193000000001,
          44.4450000000001,
          44.45,
          43.2130000000001,
          43.212,
          43.2110000000001,
          44.1358000000001,
          44.4686,
          48.9481000000001,
          47.8861000000001,
          46.0210000000001,
          46.008,
          49.0844000000001,
          52.8126,
          48.2522000000001,
          47.8532000000001,
          48.2522000000001,
          47.5531,
          48.44584,
          47.6269,
          47.8275,
          47.1138,
          46.688,
          46.7699000000001,
          47.4148000000001,
          47.7287000000001,
          48.1531000000001,
          48.2186,
          47.4849,
          47.5356,
          47.6744,
          49.2134,
          49.1730000000001,
          49.0231000000001,
          46.4534,
          46.6522000000001,
          45.2736,
          45.9103000000001,
          45.3702000000001,
          45.8665,
          44.7287000000001,
          45.3031,
          42.1203,
          42.1485000000001,
          42.1688,
          43.9110000000001,
          43.91,
          43.909,
          43.912
         ],
         "legendgroup": "2018",
         "lon": [
          -78.7648,
          -104.7424,
          -101.7935,
          -103.7312,
          -113.8057,
          -103.8057,
          -109.832,
          -80.5997,
          -80.1478999999999,
          -100.8804,
          -98.8907,
          -81.3853,
          -81.0058,
          -80.4722,
          -80.079,
          -103.3507,
          -106.0225,
          -118.4564,
          -118.592,
          -115.8375,
          -95.3817,
          -74.1101,
          -102.5785,
          -91.6598,
          -91.6047,
          -92.7397,
          -92.3882,
          -107.6661,
          -101.6485,
          -91.7023,
          -74.8128,
          -107.7923,
          -107.7923,
          -105.5231,
          -107.0485,
          -109.7936,
          -108.04,
          -107.55,
          -106.9744,
          -106.6919,
          -105.793,
          -101.5829,
          -101.4508,
          -73.295,
          -79.2549999999999,
          -76.4995,
          -81.4329999999999,
          -81.5699999999999,
          -81.8049999999999,
          -74.8124999999999,
          -75.9718999999999,
          -75.9152999999999,
          -98.9908,
          -67.4084999999999,
          -80.3651,
          -79.275,
          -79.27,
          -79.5359999999999,
          -79.535,
          -79.5339999999999,
          -78.3199,
          -79.5887,
          -73.6067,
          -72.5125,
          -71.5991,
          -71.9639999999999,
          -91.4808,
          -122.1007,
          -76.6743999999999,
          -78.941,
          -76.6743999999999,
          -76.6319,
          -75.25611,
          -74.1281,
          -76.4863999999999,
          -74.4838,
          -74.9275,
          -74.2077,
          -72.5141,
          -71.5769999999999,
          -75.8953,
          -75.96,
          -72.282,
          -72.0900999999999,
          -71.5647,
          -122.3584,
          -78.9965999999999,
          -76.6125,
          -74.5821999999999,
          -75.9607999999999,
          -76.9243999999999,
          -76.4848,
          -76.2968999999999,
          -75.8325,
          -76.7248,
          -75.8536999999999,
          -83.1122,
          -83.021,
          -82.5563999999999,
          -77.347,
          -77.3459999999999,
          -77.345,
          -77.348
         ],
         "marker": {
          "color": "#EF553B"
         },
         "mode": "markers",
         "name": "2018",
         "showlegend": true,
         "subplot": "mapbox",
         "type": "scattermapbox"
        },
        {
         "hovertemplate": "Year=2019<br>Y=%{lat}<br>X=%{lon}<extra></extra>",
         "lat": [
          50.366,
          53.7259000000001,
          50.71,
          50.595,
          49.107,
          50.477,
          50.3990000000001,
          44.77,
          49.441,
          44.525,
          50.9,
          52.5600000000001,
          50.0500000000001,
          42.1770000000001,
          43.2980000000001,
          44.2310000000001,
          43.2040000000001,
          42.623,
          60.0018000000001,
          45.4669000000001,
          45.5187000000001,
          49.9810000000001,
          49.7500000000001,
          50.1442200000001,
          43.4539,
          50.9271000000001,
          49.9300000000001,
          51.8320000000001,
          55.3079500000001,
          51.4900000000001,
          49.7300000000001,
          56.1900000000001,
          49.6800000000001,
          53.45,
          51.45,
          55.3242000000001,
          51.97,
          53.2,
          55.15,
          50.7,
          54.6600000000001,
          49.34,
          54.3623000000001,
          54.4611,
          54.5133000000001,
          54.6563,
          54.6624,
          50.5600000000001,
          42.3201500000001,
          55.08,
          54.6240000000001,
          54.7231,
          55.0086000000001,
          54.328,
          49.03,
          56.3869000000001,
          54.4527,
          54.4484,
          54.4300000000001,
          54.434,
          44.9799,
          54.84,
          54.0400000000001,
          54.05125,
          50.08,
          42.15,
          53.6100000000001,
          49.2180000000001,
          49.1800000000001,
          49.6300000000001,
          46.0384500000001,
          43.2195,
          41.9800000000001,
          50.51,
          52.489,
          49.9110000000001,
          50.347,
          53.229,
          53.02,
          49.59,
          53.27,
          49.78,
          54.5077000000001,
          51.6890000000001,
          45.0102000000001,
          46.2122000000001,
          47.7619,
          45.8686000000001,
          45.7925000000001,
          45.8206000000001,
          50.6799600000001,
          50.6675300000001,
          50.6617000000001,
          50.1105000000001,
          49.22,
          49.14,
          52.2900000000001,
          49.1000000000001,
          50.8456200000001,
          51.4673000000001,
          51.147,
          46.2300000000001,
          48.8972000000001,
          48.9802000000001,
          49.3214,
          48.9333,
          48.5083300000001,
          51.1056,
          51.0336,
          51.229,
          48.6324000000001,
          49.6825000000001,
          50.3500000000001,
          51.4270000000001,
          52.83,
          50.3200000000001,
          51.28,
          52.1800000000001,
          53.2696000000001,
          44.5085,
          52.6900000000001,
          42.09,
          52.7,
          52.7,
          52.5600000000001,
          51.902,
          48.7414200000001,
          49.6600000000001,
          48.6019000000001,
          51.2900000000001,
          51.33,
          53.02,
          52.6700000000001,
          52.45,
          50.0771,
          50.1366,
          51.0700000000001,
          49.46,
          48.633,
          51.2,
          51.205,
          47.3512000000001,
          43.0743000000001,
          42.9070600000001,
          53.21,
          42.8665,
          42.8456800000001,
          49.9,
          49.5600000000001,
          51.6000000000001,
          43.2482400000001,
          42.1800000000001,
          42.1800000000001,
          43.14,
          48.342,
          46.4300000000001,
          54.1261000000001,
          51.8354,
          54.2382000000001,
          54.4568,
          54.385,
          50.99379,
          48.76,
          48.7347,
          42.5152,
          48.0881000000001,
          48.3886000000001,
          45.6020100000001,
          52.3100000000001,
          45.0170000000001,
          53.51,
          46.8685,
          45.549,
          52.34691,
          52.2318000000001,
          55.15,
          53.4693,
          47.9990000000001,
          42.5500000000001,
          43.08885,
          42.71,
          49.905,
          50.1120100000001,
          41.7930000000001,
          46.93839,
          45.60641,
          45.5017500000001,
          42.0930000000001,
          44.3320000000001,
          42.0976000000001,
          42.8200000000001,
          46.5522,
          46.551,
          46.6118000000001,
          46.6398,
          47.5002000000001,
          47.6328,
          49.9900000000001,
          50.3200000000001,
          50.6612000000001,
          49.6770000000001,
          46.4672,
          46.3011000000001,
          51.4200000000001,
          51.78,
          50.787,
          42.8600000000001,
          42.8785,
          42.8559000000001,
          42.0845,
          42.2300000000001,
          43.2400000000001,
          42.78,
          51.1680000000001,
          51.1680000000001,
          51.1680000000001,
          51.0197000000001,
          45.3800000000001,
          43.7300000000001,
          53.78,
          50.84,
          52.5000000000001
         ],
         "legendgroup": "2019",
         "lon": [
          -112,
          -115.9577,
          -112.21,
          -111.954,
          -97.26,
          -109.491,
          -103.874,
          -76.7,
          -98.677,
          -78.724,
          -104.6,
          -107.64,
          -108.54,
          -82.8199999999999,
          -81.0599999999999,
          -76.585,
          -79.841,
          -81.806,
          -111.8947,
          -75.5432,
          -75.2809999999999,
          -98.3486,
          -98.35,
          -97.0486099999999,
          -80.1407,
          -113.5427,
          -110.9,
          -114.128,
          -113.85526,
          -114.54,
          -113.47,
          -117.61,
          -96.71,
          -112.13,
          -99.3,
          -118.781,
          -114.47,
          -113.54,
          -118.85,
          -113.99,
          -111.9,
          -119.66,
          -112.9113,
          -112.648,
          -112.3554,
          -111.3746,
          -111.1262,
          -120.63,
          -81.8466,
          -114.06,
          -110.165,
          -109.9981,
          -109.3463,
          -109.894,
          -99.41,
          -106.3383,
          -109.4956,
          -109.2774,
          -109.399,
          -109.408,
          -75.6758,
          -118.97,
          -105.487,
          -105.09862,
          -105.06,
          -82.97,
          -113.7,
          -105.219,
          -103.682,
          -108.43,
          -76.87843,
          -80.58262,
          -82.74,
          -105.06,
          -113.589,
          -106.056,
          -112.898,
          -113.503,
          -112.83,
          -97.5699999999999,
          -113.61,
          -104.72,
          -118.6912,
          -93.2429999999999,
          -77.4487999999999,
          -76.1036,
          -74.6572,
          -75.7397,
          -77.169,
          -73.6645,
          -95.2261599999999,
          -95.40269,
          -95.3369,
          -106.00117,
          -106.18,
          -105.839,
          -106.62,
          -102.37,
          -106.0232,
          -114.0071,
          -108.766,
          -64.28,
          -93.6899999999999,
          -91.2585,
          -91.0944,
          -93.0957999999999,
          -91.2260199999999,
          -93.2172,
          -92.9793999999999,
          -90.23,
          -90.1747,
          -89.4422,
          -112.81,
          -110.474,
          -114.37,
          -104.36,
          -109.994,
          -106.56,
          -122.3943,
          -79.7399,
          -106.31,
          -82.65,
          -105.74,
          -105.75,
          -105.46,
          -103.8,
          -93.23999,
          -94.51,
          -92.8482999999999,
          -98.98,
          -97.58,
          -107.6,
          -106.65,
          -108.18,
          -113.003,
          -112.8892,
          -98.3799999999999,
          -97.1,
          -91.539,
          -99.73,
          -99.735,
          -71.0439,
          -79.9241,
          -79.61161,
          -113.98,
          -81.0308899999999,
          -81.03979,
          -96.84,
          -70.4555999999999,
          -114.14,
          -81.82248,
          -81.95,
          -81.96,
          -80.0699999999999,
          -91.547,
          -63.6299999999999,
          -112.7583,
          -114.4022,
          -112.5558,
          -110.56033,
          -108.9256,
          -105.17922,
          -91.2831,
          -91.2069,
          -82.0732199999999,
          -78.4972,
          -76.9275,
          -77.37495,
          -114.11,
          -74.716,
          -111.53,
          -72.3944999999999,
          -75.309,
          -114.36109,
          -114.2599,
          -119.15,
          -114.4963,
          -66.694,
          -82.3799999999999,
          -79.99878,
          -80.16,
          -112.647,
          -92.2245,
          -82.6,
          -76.43914,
          -75.1118499999999,
          -74.73538,
          -82.736,
          -79.318,
          -82.4249,
          -81.47,
          -75.4737,
          -75.3758999999999,
          -74.9874,
          -74.7274,
          -73.7026,
          -73.3013,
          -101.2,
          -100.87,
          -104.8045,
          -103.521,
          -72.1933999999999,
          -70.5542,
          -113.15,
          -113.54,
          -112.41,
          -80.73,
          -82.1013,
          -82.1238999999999,
          -83.0513999999999,
          -82.41,
          -81.3,
          -81.15,
          -111.666,
          -111.616,
          -111.566,
          -93.82312,
          -82.0099999999999,
          -81.85,
          -111.69,
          -112.86,
          -100.87
         ],
         "marker": {
          "color": "#00cc96"
         },
         "mode": "markers",
         "name": "2019",
         "showlegend": true,
         "subplot": "mapbox",
         "type": "scattermapbox"
        },
        {
         "hovertemplate": "Year=2020<br>Y=%{lat}<br>X=%{lon}<extra></extra>",
         "lat": [
          51.2710000000001,
          50.5498900000001,
          45.847,
          46.6122,
          49.657,
          50.1300000000001,
          49.27,
          50.135,
          49.9970000000001,
          45.3720000000001,
          49.21,
          52.4060000000001,
          46.5700000000001,
          54.0070000000001,
          50.532,
          49.6920000000001,
          48.4774,
          47.66,
          48.573103637,
          44.4400000000001,
          44.4708000000001,
          50.4800000000001,
          50.7230000000001,
          47.3805,
          44.6129,
          51.2404000000001,
          51.7400000000001,
          42.902499678,
          44.1062143390001,
          43.4400000000001,
          46.0033000000001,
          45.941580876,
          46.08,
          45.2500000000001,
          49.09,
          50.72,
          49.2708000000001,
          49.2354,
          49.2582,
          49.2568000000001,
          49.2546,
          49.2459000000001,
          49.2232000000001,
          49.222,
          49.2439000000001,
          49.2719000000001,
          49.22,
          49.2341000000001,
          49.2288,
          49.2642000000001,
          49.2445000000001,
          49.2708000000001,
          49.2545000000001,
          49.2544,
          49.2169000000001,
          49.2245,
          49.2252,
          49.2618000000001,
          49.2526,
          49.2576000000001,
          49.2506000000001,
          49.2606000000001,
          49.2636000000001,
          49.2287000000001,
          49.2302000000001,
          49.2192000000001,
          49.2792000000001,
          49.2540000000001,
          49.2172,
          49.2216000000001,
          48.7830000000001,
          45.1800000000001,
          43.929069988,
          43.8139,
          43.4200000000001,
          43.7628,
          42.3050000000001,
          44.7611000000001,
          44.8033,
          44.7400000000001,
          45.0278000000001,
          45.2369,
          42.6951,
          45.1387,
          45.0286,
          45.3469000000001,
          42.8434,
          45.5742000000001,
          42.9014000000001,
          45.8625000000001,
          51.6617900000001,
          50.6978,
          51.02,
          49.2500000000001,
          49.6410000000001,
          51.1096000000001,
          51.4167,
          51.03,
          53.0153000000001,
          52.52,
          52.7900000000001,
          53.95,
          49.6677000000001,
          49.3297000000001,
          49.6633,
          53.2880000000001,
          55.7400000000001,
          49.8600000000001,
          50.2912000000001,
          42.1900000000001,
          43.0640000000001,
          43.316,
          44.1482,
          44.9406000000001,
          45.0522,
          44.4702,
          49.09,
          48.953,
          42.1508000000001,
          44.6079,
          42.0380000000001,
          51.7900000000001,
          55.1700000000001,
          50.4800000000001,
          50.0836,
          50.4100000000001,
          45.1370000000001,
          53.0500000000001,
          53.0400000000001,
          42.9990000000001,
          51.265,
          51.26,
          54.304,
          56.22,
          53.5840000000001,
          53.0640000000001,
          52.8856000000001,
          53.2824000000001,
          53.3620000000001,
          52.8756000000001,
          45.5840000000001,
          52.9497000000001,
          49.753,
          49.7260000000001,
          50.76,
          49.5260000000001,
          49.9,
          49.9300000000001,
          49.1900000000001,
          49.0700000000001,
          51.1050000000001,
          51.5650000000001,
          51.5700000000001,
          51.5700000000001,
          51.21,
          51.5500000000001,
          52.2310000000001,
          51.1300000000001,
          49.686865326,
          51.8600000000001,
          50.6410000000001,
          43.6770000000001,
          51.4200000000001,
          42.03,
          51.1700000000001,
          51.1700000000001,
          43.244,
          45.5818,
          49.4100000000001,
          50.4800000000001,
          43.2750332160001,
          43.4760000000001,
          43.09,
          46.26,
          44.08,
          45.27,
          50.3233000000001,
          49.78,
          49.4300000000001,
          49.1836000000001,
          49.1100000000001,
          49.0679000000001,
          51.14,
          52.2278000000001,
          49.0496000000001,
          51.6379000000001,
          45.8600000000001,
          53.0910000000001,
          43.1370000000001,
          47.2230000000001,
          51.934,
          53.09,
          48.6211000000001,
          44.7015000000001,
          44.4804,
          43.0810000000001,
          43.1251,
          43.561,
          43.1636,
          43.1578000000001,
          43.2516000000001,
          43.7689,
          42.8860000000001,
          43.21,
          43.2972,
          46.3153,
          43.342,
          43.0692000000001,
          43.5136000000001,
          43.323,
          43.8107000000001,
          43.3279000000001,
          43.7237000000001,
          42.958,
          43.4756,
          42.9186,
          43.0956,
          43.1490000000001,
          43.5693000000001,
          43.3700000000001,
          42.9710039330001,
          47.1420000000001,
          46.1117,
          42.3100000000001,
          48.9567000000001,
          48.9897,
          49.0125,
          53.0500000000001,
          51.83,
          52.1700000000001,
          49.1800000000001,
          51.45,
          51.0280000000001,
          51.02,
          53.753,
          51.1000000000001,
          46.4800000000001,
          49.4640000000001,
          49.3947000000001,
          53.39,
          48.5394000000001,
          48.4553000000001,
          49.5692000000001,
          46.8000000000001,
          45.3028,
          42.26,
          42.229,
          44.97,
          47.51,
          51.3000000000001,
          51.5661000000001,
          45.9800000000001,
          44.3328000000001,
          44.6594000000001,
          44.9505,
          44.7745,
          43.4900000000001,
          51.2725,
          51.3700000000001,
          52.5840000000001,
          51.58,
          52.775,
          42.78,
          43.5000000000001,
          42.8670000000001,
          49.84,
          43.8393,
          43.8100000000001,
          49.15,
          43.2500000000001,
          43.321,
          49.7372,
          42.2,
          49.7836,
          49.7273000000001,
          49.2,
          48.6700000000001,
          50.4689000000001,
          44.1000000000001,
          42.0600000000001,
          42.4900000000001,
          44.5400000000001,
          44.7400000000001,
          44.65,
          44.4800000000001,
          42.7640000000001,
          44.6300000000001,
          44.6000000000001,
          43.89,
          43.8700000000001,
          45.9,
          43.8600000000001,
          43.1800000000001,
          45.3000000000001,
          50.65,
          50.3997000000001,
          50.3890000000001,
          50.51,
          52.2969000000001,
          49.8356000000001,
          52.2178000000001,
          50.4800000000001,
          56.2523,
          45.3061000000001,
          48.47,
          43.0032,
          48.573,
          43.1236000000001,
          43.2584000000001,
          43.0834,
          43.0215000000001,
          42.979,
          42.765,
          42.7035000000001,
          51.9426,
          44.0568000000001,
          51.1600000000001,
          45.0119,
          44.7864000000001,
          44.7652,
          42.8904000000001,
          45.7886,
          47.1908000000001,
          42.4800000000001,
          43.8600000000001,
          43.3617,
          43.28,
          43.4250000000001,
          43.4300000000001,
          43.4350000000001,
          43.4200000000001,
          43.4400000000001,
          42.6100000000001,
          46.27,
          46.3000000000001,
          46.0639,
          46.905,
          46.857,
          46.9289000000001,
          46.5432000000001,
          42.4900000000001,
          44.544,
          45.1993849610001,
          42.657,
          42.8921,
          42.9929000000001,
          42.9224,
          42.8921,
          43.6456000000001
         ],
         "legendgroup": "2020",
         "lon": [
          -114.414,
          -98.64125,
          -72.422,
          -72.6894,
          -97.133,
          -97.55,
          -97.8199999999999,
          -97.552,
          -107.756,
          -75.622,
          -123.22,
          -113.103,
          -72.2,
          -113.149,
          -104.649,
          -111.508,
          -123.3667,
          -81.73,
          -80.985381831,
          -79.59,
          -79.5296999999999,
          -104.43,
          -113.265,
          -72.77904,
          -79.5635,
          -113.5278,
          -107.57,
          -78.918029502,
          -77.0533830589999,
          -80.6199999999999,
          -66.8703,
          -66.709519913,
          -72.54,
          -74.3799999999999,
          -96.65,
          -113.96,
          -93.3379,
          -93.3663,
          -93.2431,
          -93.3712,
          -93.3828999999999,
          -93.4243,
          -93.4483,
          -93.4741999999999,
          -93.4566,
          -93.3319999999999,
          -93.4834999999999,
          -93.494,
          -93.3724999999999,
          -93.1752999999999,
          -93.4491,
          -93.3292,
          -93.2705999999999,
          -93.2769,
          -93.5361,
          -93.5411999999999,
          -93.5484,
          -93.2271,
          -93.2621,
          -93.2146999999999,
          -93.3093,
          -93.1924,
          -93.2155,
          -93.5173,
          -93.5124,
          -93.504,
          -93.2648,
          -93.3901,
          -93.5268,
          -93.5868,
          -94.1829999999999,
          -81.6199999999999,
          -81.6995006239999,
          -81.4476,
          -81.64,
          -81.2551,
          -83.038,
          -79.813,
          -79.6125,
          -79.8099999999999,
          -79.427,
          -79.2476,
          -81.8421,
          -79.1342,
          -79.1025,
          -79.0225,
          -81.0971,
          -78.59,
          -80.9619,
          -78.3740999999999,
          -114.52284,
          -115.8881,
          -113.93,
          -112.2,
          -112.33,
          -111.6392,
          -111.4949,
          -113.47,
          -105.2626,
          -113.73,
          -111.9,
          -113.47,
          -100.6242,
          -98.8357999999999,
          -98.6571,
          -88.3199999999999,
          -120.2,
          -110.69,
          -66.2807999999999,
          -82.58,
          -81.0049999999999,
          -81.3199999999999,
          -79.7631,
          -76.5886,
          -76.2830999999999,
          -78.7071,
          -97.26,
          -71.9367,
          -82.3946999999999,
          -76.1283,
          -82.74,
          -113.27,
          -118.79,
          -111.65,
          -100.0043,
          -107.24,
          -73.152,
          -111.82,
          -111.82,
          -81.763,
          -113.76,
          -113.76,
          -115.114,
          -120.82,
          -104.14,
          -103.758,
          -103.7224,
          -103.5921,
          -104.033,
          -101.8286,
          -76.812,
          -91.3441,
          -106.967,
          -106.894,
          -119.26,
          -106.053,
          -97.6,
          -98.77,
          -97.4299999999999,
          -97.5699999999999,
          -114.382,
          -114.01,
          -114.015,
          -114.01,
          -113.565,
          -113.67,
          -113.742,
          -113.12,
          -107.136229397,
          -113.3,
          -111.944,
          -79.501,
          -114.4,
          -83.09,
          -108.63,
          -108.64,
          -81.712,
          -74.5805999999999,
          -105.11,
          -103.88,
          -79.7831721049999,
          -79.86,
          -79.14,
          -79.9,
          -78.04,
          -76.16,
          -114.0217,
          -103.02,
          -99.35,
          -97.2517,
          -97.34,
          -97.4481,
          -100.02,
          -94.5146999999999,
          -96.8249499999999,
          -101.6647,
          -72.42,
          -113.4677,
          -80.348,
          -74.39,
          -101.239,
          -105.64,
          -91.7823,
          -81.1015,
          -80.9145,
          -82.253,
          -81.9589999999999,
          -81.696,
          -81.9867,
          -81.9510999999999,
          -81.4648,
          -81.4306,
          -81.893,
          -81.5567,
          -81.5928,
          -79.4637999999999,
          -81.49,
          -81.5766,
          -81.3172,
          -81.313,
          -81.0955,
          -81.0411,
          -81.289,
          -81.288,
          -80.9270999999999,
          -81.1623999999999,
          -80.8541999999999,
          -80.7048,
          -80.1544,
          -80.1969999999999,
          -80.491983907,
          -72.8036,
          -77.3172,
          -82.5289999999999,
          -79.1797,
          -78.9636,
          -78.8539,
          -105.85,
          -103.52,
          -106.47,
          -100.99,
          -114.12,
          -114.199,
          -114.22,
          -112.779,
          -112.64,
          -70.3,
          -104.567,
          -80.6641999999999,
          -111.17,
          -78.8842,
          -78.705,
          -78.1333,
          -72.8,
          -71.4322,
          -82.39,
          -82.141,
          -81.2,
          -67.39,
          -103.74,
          -101.8368,
          -81.9299999999999,
          -76.8355999999999,
          -78.9539,
          -75.701,
          -78.6575,
          -81.2599999999999,
          -112.283,
          -112.26,
          -112.063,
          -111.12,
          -111.692,
          -79.3,
          -79.6899999999999,
          -80.0119999999999,
          -104.16,
          -80.8498999999999,
          -79.6799999999999,
          -103.1,
          -79.9399999999999,
          -79.807,
          -101.0407,
          -82.47,
          -100.4047,
          -99.7049,
          -101.79,
          -91.1727999999999,
          -89.4358,
          -81.8799999999999,
          -82.99,
          -82.1,
          -81.49,
          -81.4,
          -81.3,
          -81.58,
          -80.876,
          -80.3699999999999,
          -80.22,
          -81.85,
          -81.85,
          -73.67,
          -78.21,
          -82.1799999999999,
          -73.1799999999999,
          -101.32,
          -100.6753,
          -100.548,
          -100.3,
          -105.2156,
          -94.0169,
          -105.0639,
          -100.25,
          -120.8212,
          -74.8271999999999,
          -58.6999999999999,
          -81.9439,
          -81.2222,
          -80.9213,
          -81.6006,
          -80.4725,
          -80.9598,
          -81.2605,
          -81.1059999999999,
          -81.1512999999999,
          -103.79475,
          -81.7479,
          -119.59,
          -74.7757999999999,
          -79.3521,
          -79.3276999999999,
          -79.241,
          -77.1546999999999,
          -72.1169,
          -80.4,
          -77.49,
          -80.0325999999999,
          -79.426,
          -81.85,
          -81.85,
          -81.85,
          -81.85,
          -81.85,
          -80.9299999999999,
          -63.97,
          -73.4,
          -72.0524,
          -84.388,
          -84.415,
          -84.5097,
          -84.1688,
          -80.71,
          -80.4689999999999,
          -79.077128746,
          -80.7929999999999,
          -79.6351999999999,
          -80.8536999999999,
          -80.2882999999999,
          -79.6351999999999,
          -79.9444
         ],
         "marker": {
          "color": "#ab63fa"
         },
         "mode": "markers",
         "name": "2020",
         "showlegend": true,
         "subplot": "mapbox",
         "type": "scattermapbox"
        },
        {
         "hovertemplate": "Year=2021<br>Y=%{lat}<br>X=%{lon}<extra></extra>",
         "lat": [
          50.1200000000001,
          49.8380000000001,
          42.8200000000001,
          43.08,
          43.3000000000001,
          43.3200000000001,
          43.45,
          42.96,
          42.9400000000001,
          52.1800000000001,
          52.9100000000001,
          52.1900000000001,
          52.1200000000001,
          49.6600000000001,
          49.84,
          49.8800000000001,
          49.1000000000001,
          51.21,
          49.9100000000001,
          50.2500000000001,
          49.1300000000001,
          50.5500000000001,
          48.71,
          44.6700000000001,
          52.845,
          52.7500000000001,
          48.6060000000001,
          50.6000000000001,
          47.5954,
          47.8914,
          47.6990000000001,
          47.8432000000001,
          46.3473000000001,
          47.859,
          55.76,
          49.4636,
          48.6850000000001,
          48.7359000000001,
          52.52,
          50.52,
          49.563,
          50.5500000000001,
          50.5500000000001,
          50.539,
          49.5327,
          50.95,
          50.5760000000001,
          45.4880000000001,
          52.3314,
          50.5690000000001,
          52.27,
          52.3500000000001,
          50.9116000000001,
          51.0961,
          52.4400000000001,
          52.8600000000001,
          42.3100000000001,
          43.7430000000001,
          49.5400000000001,
          49.8100000000001,
          49.83,
          49.84,
          49.0948000000001,
          49.8508,
          49.4077,
          49.8000000000001,
          49.635,
          49.8100000000001,
          43.0960000000001,
          42.092,
          42.547,
          42.47,
          52.3750000000001,
          51.5194000000001,
          51.4750000000001,
          51.5127000000001,
          45.58,
          51.6482,
          51.6100000000001,
          45.3190000000001,
          46.797,
          46.0697000000001,
          46.41,
          46.2147000000001,
          45.9454000000001,
          45.2173000000001,
          45.1295000000001,
          45.2423000000001,
          46.5411,
          45.7436000000001,
          46.5174000000001,
          46.4059,
          50.0924000000001,
          50.1108,
          52.0000000000001,
          51.8800000000001,
          52.4400000000001,
          51.7500000000001,
          45.2854,
          44.0000000000001,
          44.4498,
          50.28,
          51.97,
          60.3469000000001,
          45.1320000000001,
          45.1130000000001,
          42.59,
          56.5034000000001,
          42.59,
          46.4674000000001,
          56.3928000000001,
          56.8684000000001,
          56.6883,
          55.8263000000001,
          56.5794000000001,
          58.1587000000001,
          57.6692,
          56.0859,
          58.3902,
          57.5672000000001,
          57.9958,
          57.8144,
          58.2228000000001,
          58.2868,
          56.6057000000001,
          57.7795,
          57.7221000000001,
          58.0903000000001,
          42.0121,
          44.9456000000001,
          44.9292,
          58.8348,
          59.0229,
          58.8793000000001,
          58.5758000000001,
          58.6617000000001,
          58.7753000000001,
          58.7486000000001,
          58.5599,
          58.8827000000001,
          58.7163,
          58.5665000000001,
          58.4707000000001,
          54.3960000000001,
          44.5658000000001,
          42.2879,
          42.7377000000001,
          42.2300000000001,
          50.52,
          49.47,
          49.03,
          50.5500000000001,
          50.7,
          54.7311,
          55.1866000000001,
          44.7445000000001,
          45.7403,
          45.4686,
          45.9917,
          45.9755000000001,
          45.8559000000001,
          45.9516,
          45.9941000000001,
          45.8063000000001,
          45.7625,
          43.1000000000001,
          45.9406000000001,
          45.3268,
          44.2567000000001,
          48.0339000000001,
          44.2494,
          45.9609,
          44.2192000000001,
          44.3337000000001,
          44.4059,
          45.9339000000001,
          45.6528000000001,
          46.3000000000001,
          46.2875000000001,
          47.6733,
          47.6308000000001,
          49.7260000000001,
          47.4271000000001,
          45.0741,
          45.6103000000001,
          42.172,
          45.6050000000001,
          45.6273,
          52.4400000000001,
          46.4200000000001,
          55.4540000000001,
          44.96,
          54.655,
          48.7301,
          50.6357,
          44.5765000000001,
          43.5664,
          44.5461000000001,
          42.0729000000001,
          42.299,
          45.6100000000001,
          44.0400000000001,
          43.14,
          60.7609,
          42.2300000000001,
          42.2300000000001,
          52.65,
          56.4828000000001,
          55.3077000000001,
          45.3500000000001,
          43.7500000000001,
          44.58,
          52.7300000000001,
          43.0452000000001,
          50.8217000000001,
          52.1194,
          52.8920000000001,
          46.3511,
          42.2190000000001,
          46.2058000000001,
          46.4657,
          46.3870000000001,
          46.5274000000001,
          46.6557000000001,
          42.1393,
          46.345,
          46.4585000000001,
          46.4697,
          46.5449,
          46.4657,
          46.2902,
          46.0855000000001,
          46.7457000000001,
          46.5237000000001,
          46.5081000000001,
          53.2,
          51.4300000000001,
          42.8600000000001,
          50.5356,
          50.1431000000001,
          50.0897000000001,
          42.8600000000001,
          49.9370000000001,
          51.46,
          49.95,
          51.2393000000001,
          42.46,
          42.5400000000001,
          48.2306,
          43.0570000000001,
          47.7980000000001,
          42.51,
          46.2550000000001,
          46.8669,
          49.0164,
          46.8462000000001,
          47.2844000000001,
          49.0916,
          46.5773,
          47.2583000000001,
          51.1333000000001,
          49.345,
          47.1575,
          50.2900000000001,
          42.8800000000001,
          55.2219000000001,
          44.84,
          44.8500000000001,
          44.84,
          43.8791000000001,
          46.6870000000001,
          43.95,
          43.9027,
          43.955,
          44.4495000000001,
          43.9421,
          43.7095,
          43.5713000000001,
          44.5388,
          44.0400000000001,
          43.5399,
          42.6628000000001,
          43.9,
          43.9187000000001,
          44.347,
          45.22,
          44.2286,
          44.6700000000001,
          44.6700000000001,
          43.6806634060001,
          48.8334,
          43.1715,
          42.7775,
          43.147,
          42.8705,
          43.1691000000001,
          43.8769,
          44.2140000000001,
          46.9400000000001,
          44.3700000000001,
          49.4300000000001,
          49.2687000000001,
          48.1017000000001,
          45.9085000000001,
          45.1761000000001,
          45.6034000000001,
          43.7500000000001,
          49.244,
          42.41,
          44.1024
         ],
         "legendgroup": "2021",
         "lon": [
          -119.48,
          -119.622,
          -80.2499999999999,
          -80.4399999999999,
          -81.48,
          -81.64,
          -81.16,
          -81.42,
          -81.85,
          -113.86,
          -106.79,
          -106.8,
          -106.86,
          -96.6899999999999,
          -100.52,
          -99.97,
          -99.6799999999999,
          -101.38,
          -100.88,
          -97.41,
          -97.8799999999999,
          -98.73,
          -72.45,
          -79.49,
          -110.874,
          -111.7,
          -89.6093999999999,
          -97.09,
          -83.7157999999999,
          -78.5282999999999,
          -81.7334,
          -79.4949999999999,
          -72.5482,
          -79.1997,
          -120.21,
          -84.6904,
          -89.525,
          -89.454,
          -109.11,
          -113.84,
          -97.1154,
          -114.16,
          -113.59,
          -113.782,
          -96.8592,
          -110.7151,
          -112.053,
          -73.982,
          -107.3288,
          -113.67,
          -107.94,
          -113.54,
          -89.973,
          -88.6686,
          -112.76,
          -112.83,
          -82.2599999999999,
          -81.336,
          -99.45,
          -124.77,
          -124.81,
          -124.82,
          -97.5542,
          -93.9342,
          -94.0957999999999,
          -124.7,
          -105.3938,
          -124.7,
          -81.1589999999999,
          -82.6829999999999,
          -79.7789999999999,
          -82.16,
          -113.999,
          -108.2979,
          -108.207,
          -108.6513,
          -72.89,
          -107.6995,
          -113.55,
          -73.2909999999999,
          -67.4929999999999,
          -72.1643,
          -71.0227,
          -72.4306,
          -72.4093,
          -73.7363999999999,
          -73.3403,
          -73.1251999999999,
          -72.7551999999999,
          -73.6222,
          -71.2179,
          -71.0637,
          -91.9072,
          -91.526,
          -112.5,
          -112.95,
          -113.57,
          -111.92,
          -77.9589,
          -81.5699999999999,
          -80.8533,
          -99.84,
          -101.28,
          -121.7686,
          -63.3566999999999,
          -63.3609999999999,
          -82.24,
          -121.1171,
          -82.23,
          -67.5799,
          -121.2518,
          -120.8912,
          -121.1291,
          -121.5827,
          -121.2979,
          -121.8274,
          -121.9885,
          -121.2377,
          -121.4349,
          -122.1579,
          -121.3011,
          -121.5936,
          -120.8971,
          -120.5299,
          -120.5379,
          -120.1791,
          -121.8693,
          -120.9388,
          -82.9227999999999,
          -77.1828,
          -77.0458,
          -118.4428,
          -117.7919,
          -119.6561,
          -118.5744,
          -117.9331,
          -118.4142,
          -119.685,
          -118.4199,
          -118.4766,
          -117.9188,
          -118.1815,
          -118.5002,
          -126.667,
          -80.5409999999999,
          -82.6251999999999,
          -81.881,
          -82.7,
          -108.18,
          -103.04,
          -104.6,
          -107.87,
          -111.9,
          -112.0195,
          -111.8078,
          -79.9716999999999,
          -76.7902999999999,
          -78.9318,
          -75.564,
          -75.6228,
          -76.5645,
          -75.8647999999999,
          -75.8428,
          -76.0767,
          -76.7796999999999,
          -79.15,
          -77.2666,
          -79.0762999999999,
          -78.9739,
          -74.6681,
          -79.1489999999999,
          -77.3678,
          -79.3002,
          -79.6912,
          -79.102,
          -78.1061999999999,
          -78.6956,
          -74.8199999999999,
          -78.3525,
          -77.2336,
          -75.5563999999999,
          -101.1379,
          -79.241,
          -75.4831,
          -79.9757,
          -82.331,
          -79.742,
          -79.876,
          -114.09,
          -72.08,
          -103.2157,
          -63.3799999999999,
          -103.1594,
          -93.2055999999999,
          -94.3857,
          -80.48,
          -81.5771999999999,
          -80.4614,
          -82.6319999999999,
          -82.9999999999999,
          -73.3,
          -77.28,
          -82.1299999999999,
          -130.3566,
          -82.65,
          -82.66,
          -107.02,
          -119.8553,
          -109.7125,
          -76.1799999999999,
          -80.91,
          -78.92,
          -105.79,
          -81.1385999999999,
          -89.1641999999999,
          -90.2266999999999,
          -92.7010999999999,
          -83.2684,
          -83.0427,
          -84.0354,
          -83.2155,
          -82.7492999999999,
          -83.2889,
          -82.4617,
          -82.7329,
          -82.9055999999999,
          -83.5552,
          -83.6403,
          -83.5907,
          -83.2037999999999,
          -83.9235,
          -83.9059,
          -82.8189,
          -83.4833,
          -83.2370999999999,
          -117.92,
          -114.15,
          -81.0599999999999,
          -95.3217,
          -95.5805999999999,
          -95.5697,
          -80.35,
          -107.0341,
          -109.06,
          -107.06,
          -103.437,
          -82.001,
          -81.95,
          -66.7345999999999,
          -81.1523,
          -64.9349999999999,
          -82.3199999999999,
          -61.3,
          -83.1691,
          -79.1178,
          -83.2433,
          -79.7932,
          -78.6817,
          -81.3498,
          -79.8969999999999,
          -83.6036,
          -77.9917,
          -80.3336,
          -105.53,
          -82.34,
          -107.3431,
          -81.4399999999999,
          -81.4299999999999,
          -81.45,
          -81.7232999999999,
          -72.737,
          -81.8699999999999,
          -80.903,
          -81.8699999999999,
          -81.3776,
          -81.7239,
          -81.7057,
          -81.1098,
          -81.3330999999999,
          -81.86,
          -81.0055,
          -81.5065999999999,
          -81.78,
          -79.4874,
          -80.0242,
          -80.196,
          -76.4617,
          -80.16,
          -80.15,
          -81.772912879,
          -78.3987999999999,
          -81.7694999999999,
          -80.5895,
          -81.5590999999999,
          -81.165,
          -81.6856999999999,
          -81.6507999999999,
          -81.1050999999999,
          -70.6799999999999,
          -80.83,
          -123.39,
          -92.1347,
          -90.2967,
          -72.2116,
          -72.8076,
          -72.2676999999999,
          -81.8,
          -123.236,
          -80.6,
          -79.4002
         ],
         "marker": {
          "color": "#FFA15A"
         },
         "mode": "markers",
         "name": "2021",
         "showlegend": true,
         "subplot": "mapbox",
         "type": "scattermapbox"
        },
        {
         "hovertemplate": "Year=2022<br>Y=%{lat}<br>X=%{lon}<extra></extra>",
         "lat": [
          52.9657,
          52.9300000000001,
          50.6200000000001,
          50.8000000000001,
          49.8700000000001,
          50.4,
          50.3500000000001,
          50.09,
          49.0600000000001,
          44.0600000000001,
          45.3800000000001,
          45.287,
          50.5480000000001,
          44.1755000000001,
          44.0192000000001,
          44.7892000000001,
          44.8508,
          44.381,
          42.8581,
          45.3511,
          43.0179000000001,
          42.9217,
          44.5301000000001,
          44.1058,
          44.1854000000001,
          44.8781000000001,
          44.6469000000001,
          48.6699,
          48.6148000000001,
          48.633,
          48.6757000000001,
          49.5731000000001,
          48.7121000000001,
          48.9639000000001,
          49.3947000000001,
          49.3689000000001,
          48.9114000000001,
          52.1658,
          52.7400000000001,
          50.0192000000001,
          42.3990000000001,
          46.5389000000001,
          45.91,
          50.22,
          50.1659000000001,
          53.15,
          52.5430000000001,
          51.2500000000001,
          50.6200000000001,
          50.08,
          43.8051,
          45.1420000000001,
          43.9788,
          44.1682000000001,
          44.169,
          45.5236,
          44.4579000000001,
          47.9047,
          47.8808000000001,
          48.5406,
          48.1145000000001,
          48.5031000000001,
          48.0331,
          48.5781000000001,
          47.7619,
          50.7262000000001,
          50.1296,
          51.9199,
          50.518,
          50.6367000000001,
          51.2140000000001,
          49.835,
          48.8825000000001,
          50.15,
          50.9100000000001,
          49.7461000000001,
          49.3297000000001,
          49.2753000000001,
          54.0700000000001,
          50.6300000000001,
          48.7515000000001,
          50.8500000000001,
          50.03,
          52.4300000000001,
          51.5600000000001,
          56.0828000000001,
          51.6444000000001,
          50.78,
          51.0050000000001,
          51.6627,
          51.2534000000001,
          51.1531000000001,
          51.15,
          51.1996,
          51.7491000000001,
          52.83,
          52.0020000000001,
          53.2400000000001,
          51.1122,
          52.4200000000001,
          52.2300000000001,
          51.8914,
          46.1797,
          46.3106000000001,
          47.6061,
          51.52,
          52.2400000000001,
          54.0000000000001,
          53.72,
          49.83,
          49.8100000000001,
          49.6300000000001,
          49.83,
          51.1800000000001,
          52.21,
          51.9400000000001,
          52.4200000000001,
          51.6000000000001,
          52.45,
          51.5600000000001,
          52.5000000000001,
          52.6600000000001,
          51.71,
          52.4300000000001,
          51.6900000000001,
          51.7106000000001,
          52.9432,
          52.9200000000001,
          52.8833000000001,
          53.0466000000001,
          50.1900000000001,
          50.3200000000001,
          51.02,
          51.2538000000001,
          50.4203000000001,
          46.7470000000001,
          55.8297000000001,
          46.26,
          52.6406000000001,
          50.1477,
          50.2329,
          51.8725000000001,
          50.1989,
          50.4133,
          51.78,
          50.6300000000001,
          49.3892000000001,
          49.2769000000001,
          49.1428000000001,
          49.2797,
          49.9130000000001,
          49.0647000000001,
          49.3700000000001,
          52.058,
          51.1158,
          50.0035,
          50.0818,
          48.5889000000001,
          50.7917,
          48.6702000000001,
          50.0377,
          49.4948000000001,
          42.9516,
          47.1091000000001,
          47.4042000000001,
          47.1769,
          43.0326000000001,
          43.1155000000001,
          47.2719000000001,
          47.2269000000001,
          46.8725000000001,
          46.8019,
          43.1370000000001,
          47.0925,
          55.405,
          47.3786000000001,
          46.4264000000001,
          47.8192000000001,
          47.1006,
          47.4647000000001,
          47.0258000000001,
          47.8342000000001,
          48.3275,
          47.8586000000001,
          46.9136,
          47.9103000000001,
          48.3268,
          48.3375,
          47.7956,
          48.4206,
          48.3519000000001,
          45.8003,
          48.5530000000001,
          47.0899000000001,
          45.9776000000001,
          45.9726000000001,
          46.3503000000001,
          45.9948000000001,
          48.2662,
          44.6333000000001,
          58.5000000000001,
          47.4686,
          44.6133,
          44.592,
          44.503,
          47.6197000000001,
          47.6231000000001,
          45.5064,
          59.47,
          50.71,
          50.1600000000001,
          45.5996000000001,
          45.792,
          56.2470000000001,
          49.217,
          55.9294,
          56.3868000000001,
          53.272,
          52.08,
          52.2900000000001,
          56.4803000000001,
          49.7500000000001,
          52.0561000000001,
          43.1700000000001,
          43.6702000000001,
          51.9157000000001,
          50.3720000000001,
          50.6542000000001,
          50.6197000000001,
          50.6461,
          50.4961000000001,
          50.6856000000001,
          50.7039,
          50.5822000000001,
          44.6130000000001,
          43.681,
          50.4392,
          43.5065000000001,
          50.4819000000001,
          53.6402,
          42.8700000000001,
          53.7017000000001,
          53.7953000000001,
          53.53,
          53.6378,
          44.14,
          53.6778,
          42.83,
          42.4200000000001,
          42.78,
          42.89,
          45.3200000000001,
          44.8058,
          43.3342000000001,
          49.1042,
          47.59,
          52.1641000000001,
          52.0408,
          52.128,
          43.09,
          49.6600000000001,
          42.2400000000001,
          50.08,
          50.26,
          48.6489,
          48.9213,
          48.9302000000001,
          48.9541,
          43.1200000000001,
          42.95,
          49.2300000000001,
          42.52,
          45.0600000000001,
          43.5700000000001,
          42.8368,
          42.0739,
          42.3028,
          44.3298,
          46.5640000000001,
          45.1294,
          44.6616000000001,
          48.46,
          44.3783000000001,
          45.4822,
          42.45,
          46.4,
          51.2761,
          51.1244,
          51.0772000000001,
          51.1239,
          42.8500000000001,
          45.72,
          42.45,
          42.8500000000001,
          43.8000000000001,
          42.84,
          43.9537,
          42.8580000000001,
          44.2980000000001,
          49.8700000000001
         ],
         "legendgroup": "2022",
         "lon": [
          -122.5139,
          -123.01,
          -103.63,
          -105.22,
          -110.87,
          -112.16,
          -112.14,
          -110.83,
          -122.11,
          -81.52,
          -76.23,
          -75.05,
          -105.887,
          -78.7721999999999,
          -79.3267,
          -77.8164,
          -77.7486,
          -78.0169999999999,
          -81.4220999999999,
          -75.5741,
          -81.2216,
          -81.1976999999999,
          -78.0051,
          -79.1458,
          -78.664,
          -77.3429,
          -77.8011,
          -93.5219,
          -93.5304,
          -93.837,
          -92.2308,
          -92.7218999999999,
          -93.4781,
          -93.3108,
          -93.0638,
          -93.0753999999999,
          -93.5778,
          -87.6997,
          -87.4856,
          -83.1269,
          -82.1849999999999,
          -84.2148,
          -71.7,
          -113.53,
          -112.5768,
          -109.92,
          -107.583,
          -107.77,
          -112.34,
          -110.71,
          -79.1883999999999,
          -76.042,
          -78.9689,
          -77.3876,
          -77.1899,
          -74.4655,
          -75.8552999999999,
          -74.1319,
          -74.3330999999999,
          -72.6532999999999,
          -73.4951,
          -72.7914,
          -74.3319,
          -72.5047,
          -74.9456,
          -101.0195,
          -102.2585,
          -101.4368,
          -101.152,
          -101.2759,
          -109.5,
          -103.022,
          -93.6283,
          -107.48,
          -102.81,
          -84.9177999999999,
          -85.3613999999999,
          -85.0296999999999,
          -113.85,
          -107.07,
          -89.3362,
          -102,
          -99.96,
          -106.04,
          -98.58,
          -109.7833,
          -90.4453,
          -113.51,
          -113.76,
          -103.6713,
          -105.1123,
          -104.5572,
          -104.56,
          -104.8096,
          -105.6086,
          -113.35,
          -111.464,
          -113.51,
          -104.3545,
          -112.88,
          -113.92,
          -101.1183,
          -74.3755,
          -74.9566,
          -67.58,
          -114.55,
          -113.93,
          -112.05,
          -113.55,
          -111.78,
          -112.62,
          -112.92,
          -111.79,
          -109.19,
          -110.76,
          -110.59,
          -113.63,
          -109.33,
          -113.71,
          -109.72,
          -113.92,
          -114.25,
          -113.18,
          -111.96,
          -114.39,
          -114.5762,
          -108.8758,
          -108.79,
          -107.0436,
          -109.0132,
          -97.4,
          -94.74,
          -106.81,
          -103.735,
          -91.425,
          -71.347,
          -112.6519,
          -71.45,
          -101.1347,
          -101.6618,
          -101.9759,
          -106.0637,
          -101.6777,
          -102.9381,
          -105.82,
          -104.12,
          -94.5833,
          -94.4694,
          -94.0169,
          -94.1471999999999,
          -97.534,
          -93.9206,
          -104.47,
          -107.995,
          -92.5667,
          -110.916,
          -110.7328,
          -80.9793999999999,
          -100.6147,
          -81.2123999999999,
          -84.6061,
          -103.5655,
          -82.0975,
          -77.8559,
          -77.3844,
          -81.3872,
          -79.3158999999999,
          -81.8567,
          -77.5196999999999,
          -77.4089,
          -78.2997,
          -78.0175,
          -81.883,
          -77.8634,
          -97.4324999999999,
          -77.0592,
          -78.5382999999999,
          -76.8448,
          -77.2803,
          -76.8792,
          -71.4528,
          -71.5493999999999,
          -71.9578,
          -68.3353,
          -71.71,
          -68.2744,
          -68.1842,
          -68.3156,
          -68.3908,
          -68.4363999999999,
          -67.9743999999999,
          -71.9039,
          -67.8684,
          -69.7471,
          -74.3584,
          -74.3463,
          -74.7535999999999,
          -74.4113,
          -69.5395,
          -76.7696999999999,
          -111.4,
          -67.3416999999999,
          -76.1283999999999,
          -76.6308999999999,
          -77.828,
          -68.9183,
          -73.8181,
          -63.8747,
          -109.34,
          -98.26,
          -105.27,
          -74.376,
          -78.8481,
          -118.5997,
          -68.15,
          -117.9522,
          -118.9468,
          -109.994,
          -111.49,
          -115.2283,
          -121.9267,
          -101.03,
          -115.0556,
          -82.2499999999999,
          -81.1910999999999,
          -109.1287,
          -97.08,
          -93.8642,
          -94.0122,
          -93.9406,
          -94.1375,
          -93.7757999999999,
          -93.6093999999999,
          -94.0039,
          -81.078,
          -80.4209999999999,
          -90.3164,
          -81.0909,
          -90.1224999999999,
          -106.9741,
          -82.3799999999999,
          -106.6248,
          -106.1161,
          -107.39,
          -106.9858,
          -79.61,
          -106.7856,
          -82.0099999999999,
          -82.3199999999999,
          -82.15,
          -81.11,
          -74.98,
          -77.9499,
          -81.3822,
          -72.1935999999999,
          -69.04,
          -103.5256,
          -103.5867,
          -104.5271,
          -81.23,
          -97.15,
          -82.97,
          -96.4,
          -98.36,
          -80.8567,
          -79.6527,
          -79.5565,
          -79.6283,
          -81.95,
          -80.05,
          -97.03,
          -80.4519999999999,
          -75.54,
          -80.0699999999999,
          -82.4397,
          -82.629,
          -83.0207,
          -77.8779,
          -71.2008999999999,
          -75.948,
          -81.2780999999999,
          -71.03,
          -76.2966,
          -76.0767,
          -81.54,
          -81.17,
          -89.3228,
          -86.665,
          -86.2394,
          -86.8477999999999,
          -78.9999999999999,
          -74.05,
          -80.97,
          -79.0099999999999,
          -77.92,
          -79.21,
          -77.3593999999999,
          -79.04,
          -81.603,
          -119.65
         ],
         "marker": {
          "color": "#19d3f3"
         },
         "mode": "markers",
         "name": "2022",
         "showlegend": true,
         "subplot": "mapbox",
         "type": "scattermapbox"
        },
        {
         "hovertemplate": "Year=2023<br>Y=%{lat}<br>X=%{lon}<extra></extra>",
         "lat": [
          50.3600000000001,
          50.4128000000001,
          52.3580000000001
         ],
         "legendgroup": "2023",
         "lon": [
          -104.55,
          -104.2829,
          -112.549
         ],
         "marker": {
          "color": "#FF6692"
         },
         "mode": "markers",
         "name": "2023",
         "showlegend": true,
         "subplot": "mapbox",
         "type": "scattermapbox"
        }
       ],
       "layout": {
        "height": 600,
        "legend": {
         "title": {
          "text": "Year"
         },
         "tracegroupgap": 0
        },
        "mapbox": {
         "center": {
          "lat": 48.39573000689762,
          "lon": -91.9158339734436
         },
         "domain": {
          "x": [
           0,
           1
          ],
          "y": [
           0,
           1
          ]
         },
         "style": "open-street-map",
         "zoom": 2
        },
        "margin": {
         "t": 60
        },
        "template": {
         "data": {
          "bar": [
           {
            "error_x": {
             "color": "#2a3f5f"
            },
            "error_y": {
             "color": "#2a3f5f"
            },
            "marker": {
             "line": {
              "color": "#E5ECF6",
              "width": 0.5
             },
             "pattern": {
              "fillmode": "overlay",
              "size": 10,
              "solidity": 0.2
             }
            },
            "type": "bar"
           }
          ],
          "barpolar": [
           {
            "marker": {
             "line": {
              "color": "#E5ECF6",
              "width": 0.5
             },
             "pattern": {
              "fillmode": "overlay",
              "size": 10,
              "solidity": 0.2
             }
            },
            "type": "barpolar"
           }
          ],
          "carpet": [
           {
            "aaxis": {
             "endlinecolor": "#2a3f5f",
             "gridcolor": "white",
             "linecolor": "white",
             "minorgridcolor": "white",
             "startlinecolor": "#2a3f5f"
            },
            "baxis": {
             "endlinecolor": "#2a3f5f",
             "gridcolor": "white",
             "linecolor": "white",
             "minorgridcolor": "white",
             "startlinecolor": "#2a3f5f"
            },
            "type": "carpet"
           }
          ],
          "choropleth": [
           {
            "colorbar": {
             "outlinewidth": 0,
             "ticks": ""
            },
            "type": "choropleth"
           }
          ],
          "contour": [
           {
            "colorbar": {
             "outlinewidth": 0,
             "ticks": ""
            },
            "colorscale": [
             [
              0,
              "#0d0887"
             ],
             [
              0.1111111111111111,
              "#46039f"
             ],
             [
              0.2222222222222222,
              "#7201a8"
             ],
             [
              0.3333333333333333,
              "#9c179e"
             ],
             [
              0.4444444444444444,
              "#bd3786"
             ],
             [
              0.5555555555555556,
              "#d8576b"
             ],
             [
              0.6666666666666666,
              "#ed7953"
             ],
             [
              0.7777777777777778,
              "#fb9f3a"
             ],
             [
              0.8888888888888888,
              "#fdca26"
             ],
             [
              1,
              "#f0f921"
             ]
            ],
            "type": "contour"
           }
          ],
          "contourcarpet": [
           {
            "colorbar": {
             "outlinewidth": 0,
             "ticks": ""
            },
            "type": "contourcarpet"
           }
          ],
          "heatmap": [
           {
            "colorbar": {
             "outlinewidth": 0,
             "ticks": ""
            },
            "colorscale": [
             [
              0,
              "#0d0887"
             ],
             [
              0.1111111111111111,
              "#46039f"
             ],
             [
              0.2222222222222222,
              "#7201a8"
             ],
             [
              0.3333333333333333,
              "#9c179e"
             ],
             [
              0.4444444444444444,
              "#bd3786"
             ],
             [
              0.5555555555555556,
              "#d8576b"
             ],
             [
              0.6666666666666666,
              "#ed7953"
             ],
             [
              0.7777777777777778,
              "#fb9f3a"
             ],
             [
              0.8888888888888888,
              "#fdca26"
             ],
             [
              1,
              "#f0f921"
             ]
            ],
            "type": "heatmap"
           }
          ],
          "heatmapgl": [
           {
            "colorbar": {
             "outlinewidth": 0,
             "ticks": ""
            },
            "colorscale": [
             [
              0,
              "#0d0887"
             ],
             [
              0.1111111111111111,
              "#46039f"
             ],
             [
              0.2222222222222222,
              "#7201a8"
             ],
             [
              0.3333333333333333,
              "#9c179e"
             ],
             [
              0.4444444444444444,
              "#bd3786"
             ],
             [
              0.5555555555555556,
              "#d8576b"
             ],
             [
              0.6666666666666666,
              "#ed7953"
             ],
             [
              0.7777777777777778,
              "#fb9f3a"
             ],
             [
              0.8888888888888888,
              "#fdca26"
             ],
             [
              1,
              "#f0f921"
             ]
            ],
            "type": "heatmapgl"
           }
          ],
          "histogram": [
           {
            "marker": {
             "pattern": {
              "fillmode": "overlay",
              "size": 10,
              "solidity": 0.2
             }
            },
            "type": "histogram"
           }
          ],
          "histogram2d": [
           {
            "colorbar": {
             "outlinewidth": 0,
             "ticks": ""
            },
            "colorscale": [
             [
              0,
              "#0d0887"
             ],
             [
              0.1111111111111111,
              "#46039f"
             ],
             [
              0.2222222222222222,
              "#7201a8"
             ],
             [
              0.3333333333333333,
              "#9c179e"
             ],
             [
              0.4444444444444444,
              "#bd3786"
             ],
             [
              0.5555555555555556,
              "#d8576b"
             ],
             [
              0.6666666666666666,
              "#ed7953"
             ],
             [
              0.7777777777777778,
              "#fb9f3a"
             ],
             [
              0.8888888888888888,
              "#fdca26"
             ],
             [
              1,
              "#f0f921"
             ]
            ],
            "type": "histogram2d"
           }
          ],
          "histogram2dcontour": [
           {
            "colorbar": {
             "outlinewidth": 0,
             "ticks": ""
            },
            "colorscale": [
             [
              0,
              "#0d0887"
             ],
             [
              0.1111111111111111,
              "#46039f"
             ],
             [
              0.2222222222222222,
              "#7201a8"
             ],
             [
              0.3333333333333333,
              "#9c179e"
             ],
             [
              0.4444444444444444,
              "#bd3786"
             ],
             [
              0.5555555555555556,
              "#d8576b"
             ],
             [
              0.6666666666666666,
              "#ed7953"
             ],
             [
              0.7777777777777778,
              "#fb9f3a"
             ],
             [
              0.8888888888888888,
              "#fdca26"
             ],
             [
              1,
              "#f0f921"
             ]
            ],
            "type": "histogram2dcontour"
           }
          ],
          "mesh3d": [
           {
            "colorbar": {
             "outlinewidth": 0,
             "ticks": ""
            },
            "type": "mesh3d"
           }
          ],
          "parcoords": [
           {
            "line": {
             "colorbar": {
              "outlinewidth": 0,
              "ticks": ""
             }
            },
            "type": "parcoords"
           }
          ],
          "pie": [
           {
            "automargin": true,
            "type": "pie"
           }
          ],
          "scatter": [
           {
            "fillpattern": {
             "fillmode": "overlay",
             "size": 10,
             "solidity": 0.2
            },
            "type": "scatter"
           }
          ],
          "scatter3d": [
           {
            "line": {
             "colorbar": {
              "outlinewidth": 0,
              "ticks": ""
             }
            },
            "marker": {
             "colorbar": {
              "outlinewidth": 0,
              "ticks": ""
             }
            },
            "type": "scatter3d"
           }
          ],
          "scattercarpet": [
           {
            "marker": {
             "colorbar": {
              "outlinewidth": 0,
              "ticks": ""
             }
            },
            "type": "scattercarpet"
           }
          ],
          "scattergeo": [
           {
            "marker": {
             "colorbar": {
              "outlinewidth": 0,
              "ticks": ""
             }
            },
            "type": "scattergeo"
           }
          ],
          "scattergl": [
           {
            "marker": {
             "colorbar": {
              "outlinewidth": 0,
              "ticks": ""
             }
            },
            "type": "scattergl"
           }
          ],
          "scattermapbox": [
           {
            "marker": {
             "colorbar": {
              "outlinewidth": 0,
              "ticks": ""
             }
            },
            "type": "scattermapbox"
           }
          ],
          "scatterpolar": [
           {
            "marker": {
             "colorbar": {
              "outlinewidth": 0,
              "ticks": ""
             }
            },
            "type": "scatterpolar"
           }
          ],
          "scatterpolargl": [
           {
            "marker": {
             "colorbar": {
              "outlinewidth": 0,
              "ticks": ""
             }
            },
            "type": "scatterpolargl"
           }
          ],
          "scatterternary": [
           {
            "marker": {
             "colorbar": {
              "outlinewidth": 0,
              "ticks": ""
             }
            },
            "type": "scatterternary"
           }
          ],
          "surface": [
           {
            "colorbar": {
             "outlinewidth": 0,
             "ticks": ""
            },
            "colorscale": [
             [
              0,
              "#0d0887"
             ],
             [
              0.1111111111111111,
              "#46039f"
             ],
             [
              0.2222222222222222,
              "#7201a8"
             ],
             [
              0.3333333333333333,
              "#9c179e"
             ],
             [
              0.4444444444444444,
              "#bd3786"
             ],
             [
              0.5555555555555556,
              "#d8576b"
             ],
             [
              0.6666666666666666,
              "#ed7953"
             ],
             [
              0.7777777777777778,
              "#fb9f3a"
             ],
             [
              0.8888888888888888,
              "#fdca26"
             ],
             [
              1,
              "#f0f921"
             ]
            ],
            "type": "surface"
           }
          ],
          "table": [
           {
            "cells": {
             "fill": {
              "color": "#EBF0F8"
             },
             "line": {
              "color": "white"
             }
            },
            "header": {
             "fill": {
              "color": "#C8D4E3"
             },
             "line": {
              "color": "white"
             }
            },
            "type": "table"
           }
          ]
         },
         "layout": {
          "annotationdefaults": {
           "arrowcolor": "#2a3f5f",
           "arrowhead": 0,
           "arrowwidth": 1
          },
          "autotypenumbers": "strict",
          "coloraxis": {
           "colorbar": {
            "outlinewidth": 0,
            "ticks": ""
           }
          },
          "colorscale": {
           "diverging": [
            [
             0,
             "#8e0152"
            ],
            [
             0.1,
             "#c51b7d"
            ],
            [
             0.2,
             "#de77ae"
            ],
            [
             0.3,
             "#f1b6da"
            ],
            [
             0.4,
             "#fde0ef"
            ],
            [
             0.5,
             "#f7f7f7"
            ],
            [
             0.6,
             "#e6f5d0"
            ],
            [
             0.7,
             "#b8e186"
            ],
            [
             0.8,
             "#7fbc41"
            ],
            [
             0.9,
             "#4d9221"
            ],
            [
             1,
             "#276419"
            ]
           ],
           "sequential": [
            [
             0,
             "#0d0887"
            ],
            [
             0.1111111111111111,
             "#46039f"
            ],
            [
             0.2222222222222222,
             "#7201a8"
            ],
            [
             0.3333333333333333,
             "#9c179e"
            ],
            [
             0.4444444444444444,
             "#bd3786"
            ],
            [
             0.5555555555555556,
             "#d8576b"
            ],
            [
             0.6666666666666666,
             "#ed7953"
            ],
            [
             0.7777777777777778,
             "#fb9f3a"
            ],
            [
             0.8888888888888888,
             "#fdca26"
            ],
            [
             1,
             "#f0f921"
            ]
           ],
           "sequentialminus": [
            [
             0,
             "#0d0887"
            ],
            [
             0.1111111111111111,
             "#46039f"
            ],
            [
             0.2222222222222222,
             "#7201a8"
            ],
            [
             0.3333333333333333,
             "#9c179e"
            ],
            [
             0.4444444444444444,
             "#bd3786"
            ],
            [
             0.5555555555555556,
             "#d8576b"
            ],
            [
             0.6666666666666666,
             "#ed7953"
            ],
            [
             0.7777777777777778,
             "#fb9f3a"
            ],
            [
             0.8888888888888888,
             "#fdca26"
            ],
            [
             1,
             "#f0f921"
            ]
           ]
          },
          "colorway": [
           "#636efa",
           "#EF553B",
           "#00cc96",
           "#ab63fa",
           "#FFA15A",
           "#19d3f3",
           "#FF6692",
           "#B6E880",
           "#FF97FF",
           "#FECB52"
          ],
          "font": {
           "color": "#2a3f5f"
          },
          "geo": {
           "bgcolor": "white",
           "lakecolor": "white",
           "landcolor": "#E5ECF6",
           "showlakes": true,
           "showland": true,
           "subunitcolor": "white"
          },
          "hoverlabel": {
           "align": "left"
          },
          "hovermode": "closest",
          "mapbox": {
           "style": "light"
          },
          "paper_bgcolor": "white",
          "plot_bgcolor": "#E5ECF6",
          "polar": {
           "angularaxis": {
            "gridcolor": "white",
            "linecolor": "white",
            "ticks": ""
           },
           "bgcolor": "#E5ECF6",
           "radialaxis": {
            "gridcolor": "white",
            "linecolor": "white",
            "ticks": ""
           }
          },
          "scene": {
           "xaxis": {
            "backgroundcolor": "#E5ECF6",
            "gridcolor": "white",
            "gridwidth": 2,
            "linecolor": "white",
            "showbackground": true,
            "ticks": "",
            "zerolinecolor": "white"
           },
           "yaxis": {
            "backgroundcolor": "#E5ECF6",
            "gridcolor": "white",
            "gridwidth": 2,
            "linecolor": "white",
            "showbackground": true,
            "ticks": "",
            "zerolinecolor": "white"
           },
           "zaxis": {
            "backgroundcolor": "#E5ECF6",
            "gridcolor": "white",
            "gridwidth": 2,
            "linecolor": "white",
            "showbackground": true,
            "ticks": "",
            "zerolinecolor": "white"
           }
          },
          "shapedefaults": {
           "line": {
            "color": "#2a3f5f"
           }
          },
          "ternary": {
           "aaxis": {
            "gridcolor": "white",
            "linecolor": "white",
            "ticks": ""
           },
           "baxis": {
            "gridcolor": "white",
            "linecolor": "white",
            "ticks": ""
           },
           "bgcolor": "#E5ECF6",
           "caxis": {
            "gridcolor": "white",
            "linecolor": "white",
            "ticks": ""
           }
          },
          "title": {
           "x": 0.05
          },
          "xaxis": {
           "automargin": true,
           "gridcolor": "white",
           "linecolor": "white",
           "ticks": "",
           "title": {
            "standoff": 15
           },
           "zerolinecolor": "white",
           "zerolinewidth": 2
          },
          "yaxis": {
           "automargin": true,
           "gridcolor": "white",
           "linecolor": "white",
           "ticks": "",
           "title": {
            "standoff": 15
           },
           "zerolinecolor": "white",
           "zerolinewidth": 2
          }
         }
        }
       }
      }
     },
     "metadata": {},
     "output_type": "display_data"
    }
   ],
   "source": [
    "dataset['Year'] = dataset['Year'].astype(str)\n",
    "dataset['Y'] = dataset['Y'].astype(float)\n",
    "dataset['X'] = dataset['X'].astype(float)\n",
    "fig = px.scatter_mapbox(dataset,lat='Y',lon='X',color='Year',zoom=2,height=600)\n",
    "fig.update_layout(mapbox_style='open-street-map')\n",
    "fig.show()"
   ]
  },
  {
   "attachments": {},
   "cell_type": "markdown",
   "metadata": {},
   "source": [
    "The next step we used in our data analysis process was to create a map showing the different tornados by type. This visualization works just like the other ones, and you can turn information on and off by clicking it in the legend (or double-clicking to look at one specific tornado type).\n"
   ]
  },
  {
   "cell_type": "code",
   "execution_count": 6,
   "metadata": {},
   "outputs": [
    {
     "data": {
      "application/vnd.plotly.v1+json": {
       "config": {
        "plotlyServerURL": "https://plot.ly"
       },
       "data": [
        {
         "hovertemplate": "event_type=Tornado (Land)<br>Y=%{lat}<br>X=%{lon}<extra></extra>",
         "lat": [
          43.0486000000001,
          52.7347,
          52.8711000000001,
          52.5245,
          48.0605,
          51.8003,
          53.5161000000001,
          49.7828000000001,
          47.1639000000001,
          47.0761000000001,
          47.0783000000001,
          47.4031000000001,
          46.8914,
          47.4631000000001,
          47.58,
          47.6322000000001,
          48.2955000000001,
          46.864,
          46.6736000000001,
          47.0967000000001,
          47.1692,
          47.1704,
          47.4110000000001,
          47.2675,
          48.3119,
          47.486,
          48.722,
          48.883,
          49.03,
          47.8530000000001,
          47.2094000000001,
          52.7450000000001,
          49.8384,
          53.893,
          49.5170000000001,
          51.0839,
          48.2883,
          52.6853,
          51.2020000000001,
          43.2026000000001,
          54.8346000000001,
          54.8943,
          53.1733,
          54.6585000000001,
          54.796,
          51.931,
          51.917,
          51.8017,
          51.9445000000001,
          52.0712,
          50.3159000000001,
          53.2946000000001,
          45.2048,
          47.5703,
          45.3047,
          45.3806000000001,
          47.2853000000001,
          46.3093000000001,
          43.5671,
          42.0532000000001,
          48.2358,
          45.9061,
          46.8317000000001,
          51.1852000000001,
          57.2894000000001,
          50.4673000000001,
          50.7470000000001,
          46.5694,
          46.8056,
          45.7882000000001,
          50.5888,
          50.6375,
          50.0327,
          53.0852,
          53.1924000000001,
          43.0069,
          42.8724,
          49.0466000000001,
          47.9039000000001,
          47.907,
          47.8811000000001,
          47.8381000000001,
          49.7185000000001,
          50.7062000000001,
          58.2228000000001,
          56.2319000000001,
          52.1625000000001,
          46.5146,
          51.1168000000001,
          49.2967,
          49.2803000000001,
          53.5922,
          53.6841000000001,
          56.3075000000001,
          54.6345000000001,
          52.3326000000001,
          54.0824000000001,
          50.3776,
          50.3776,
          49.215,
          50.3743000000001,
          50.2466000000001,
          49.3800000000001,
          49.383,
          49.4402000000001,
          49.1767,
          49.2040000000001,
          51.0155,
          51.1192,
          46.3940000000001,
          45.3593000000001,
          42.4314000000001,
          47.0639,
          46.9103000000001,
          46.9472000000001,
          50.7611000000001,
          46.405,
          43.1193000000001,
          44.1358000000001,
          44.4686,
          48.9481000000001,
          47.8861000000001,
          46.0210000000001,
          49.0844000000001,
          52.8126,
          48.2522000000001,
          47.8532000000001,
          48.2522000000001,
          47.5531,
          48.44584,
          47.6269,
          47.8275,
          47.1138,
          46.688,
          46.7699000000001,
          47.4148000000001,
          47.7287000000001,
          48.1531000000001,
          48.2186,
          47.4849,
          47.5356,
          47.6744,
          49.2134,
          49.1730000000001,
          49.0231000000001,
          46.4534,
          46.6522000000001,
          45.2736,
          45.9103000000001,
          45.3702000000001,
          45.8665,
          44.7287000000001,
          45.3031,
          42.1203,
          42.1485000000001,
          42.1688,
          53.7259000000001,
          49.107,
          50.0500000000001,
          60.0018000000001,
          45.4669000000001,
          45.5187000000001,
          43.4539,
          50.9271000000001,
          49.9300000000001,
          49.7300000000001,
          55.3242000000001,
          53.2,
          54.3623000000001,
          54.4611,
          54.5133000000001,
          54.6563,
          54.6624,
          54.6240000000001,
          54.7231,
          55.0086000000001,
          54.328,
          56.3869000000001,
          54.4527,
          54.84,
          50.08,
          50.347,
          54.5077000000001,
          47.7619,
          45.7925000000001,
          45.8206000000001,
          50.6617000000001,
          49.22,
          49.1000000000001,
          51.4673000000001,
          48.8972000000001,
          48.9802000000001,
          49.3214,
          48.9333,
          51.1056,
          51.0336,
          51.4270000000001,
          51.28,
          53.2696000000001,
          44.5085,
          49.6600000000001,
          48.6019000000001,
          52.45,
          50.1366,
          47.3512000000001,
          54.1261000000001,
          51.8354,
          54.2382000000001,
          54.385,
          48.76,
          48.0881000000001,
          48.3886000000001,
          46.8685,
          52.2318000000001,
          46.551,
          46.6118000000001,
          46.6398,
          47.5002000000001,
          47.6328,
          50.6612000000001,
          49.6770000000001,
          46.4672,
          46.3011000000001,
          51.4200000000001,
          42.8559000000001,
          52.5000000000001,
          48.4774,
          50.7230000000001,
          51.2404000000001,
          49.2216000000001,
          43.8139,
          43.7628,
          44.8033,
          45.0278000000001,
          45.2369,
          42.6951,
          45.1387,
          42.8434,
          42.9014000000001,
          45.8625000000001,
          49.6410000000001,
          42.1900000000001,
          44.4702,
          49.09,
          48.953,
          50.0836,
          45.1370000000001,
          42.9990000000001,
          54.304,
          52.8756000000001,
          49.753,
          49.7260000000001,
          49.5260000000001,
          51.21,
          51.5500000000001,
          52.2310000000001,
          51.8600000000001,
          50.6410000000001,
          43.4760000000001,
          50.3233000000001,
          52.2278000000001,
          43.1370000000001,
          47.2230000000001,
          51.934,
          43.1251,
          43.1636,
          43.2516000000001,
          43.7689,
          43.5136000000001,
          43.4756,
          42.9186,
          43.0956,
          43.5693000000001,
          47.1420000000001,
          48.9567000000001,
          48.9897,
          46.4800000000001,
          49.3947000000001,
          46.8000000000001,
          45.3028,
          44.3328000000001,
          44.6594000000001,
          44.9505,
          44.7745,
          51.58,
          43.8393,
          49.15,
          49.7372,
          49.7836,
          48.6700000000001,
          50.4689000000001,
          42.4900000000001,
          50.3997000000001,
          50.3890000000001,
          52.2969000000001,
          52.2178000000001,
          56.2523,
          43.2584000000001,
          42.7035000000001,
          44.0568000000001,
          44.7652,
          42.8904000000001,
          45.7886,
          47.1908000000001,
          43.3617,
          44.544,
          43.6456000000001,
          52.1900000000001,
          51.21,
          49.1300000000001,
          50.5500000000001,
          48.71,
          47.5954,
          47.8914,
          47.6990000000001,
          47.8432000000001,
          47.859,
          50.5500000000001,
          50.5690000000001,
          52.3500000000001,
          51.0961,
          49.0948000000001,
          43.0960000000001,
          51.5194000000001,
          51.4750000000001,
          51.5127000000001,
          46.41,
          46.2147000000001,
          45.1295000000001,
          45.7436000000001,
          46.5174000000001,
          46.4059,
          50.1108,
          45.2854,
          44.0000000000001,
          44.4498,
          45.1320000000001,
          44.7445000000001,
          45.7403,
          45.9755000000001,
          45.8063000000001,
          45.7625,
          45.9406000000001,
          45.3268,
          44.2567000000001,
          48.0339000000001,
          44.2494,
          45.9609,
          44.2192000000001,
          44.3337000000001,
          44.4059,
          45.9339000000001,
          45.6528000000001,
          46.2875000000001,
          47.6733,
          47.6308000000001,
          45.6273,
          44.96,
          54.655,
          44.5765000000001,
          43.5664,
          42.0729000000001,
          42.299,
          55.3077000000001,
          43.0452000000001,
          50.8217000000001,
          52.1194,
          52.8920000000001,
          46.4657,
          46.3870000000001,
          46.5274000000001,
          46.6557000000001,
          46.4697,
          46.5449,
          50.5356,
          50.1431000000001,
          50.0897000000001,
          49.9370000000001,
          51.46,
          49.95,
          51.2393000000001,
          42.46,
          46.8669,
          49.0164,
          49.0916,
          46.5773,
          51.1333000000001,
          49.345,
          47.1575,
          55.2219000000001,
          43.8791000000001,
          43.9027,
          43.9421,
          43.7095,
          43.5713000000001,
          43.5399,
          43.9187000000001,
          45.22,
          44.2286,
          43.1715,
          49.2687000000001,
          48.1017000000001,
          45.9085000000001,
          45.1761000000001,
          49.244,
          44.1024,
          45.287,
          50.5480000000001,
          44.1755000000001,
          43.0179000000001,
          42.9217,
          44.1058,
          48.6699,
          48.6148000000001,
          48.6757000000001,
          49.3689000000001,
          48.9114000000001,
          52.1658,
          52.7400000000001,
          50.1659000000001,
          53.15,
          52.5430000000001,
          45.1420000000001,
          43.9788,
          47.9047,
          47.8808000000001,
          48.1145000000001,
          48.5031000000001,
          48.0331,
          47.7619,
          50.15,
          50.6300000000001,
          51.6627,
          51.2534000000001,
          51.1531000000001,
          51.15,
          51.1996,
          51.7491000000001,
          52.0020000000001,
          51.1122,
          51.8914,
          46.1797,
          51.1800000000001,
          52.21,
          51.9400000000001,
          51.6000000000001,
          52.4300000000001,
          51.7106000000001,
          52.9432,
          52.9200000000001,
          52.8833000000001,
          53.0466000000001,
          50.1900000000001,
          51.8725000000001,
          51.78,
          50.6300000000001,
          49.3700000000001,
          50.0035,
          48.6702000000001,
          42.9516,
          47.1091000000001,
          47.4042000000001,
          47.1769,
          47.2719000000001,
          47.2269000000001,
          46.8725000000001,
          46.8019,
          46.4264000000001,
          47.8192000000001,
          47.1006,
          47.4647000000001,
          47.0258000000001,
          47.8342000000001,
          48.3275,
          47.8586000000001,
          46.9136,
          45.9776000000001,
          45.9726000000001,
          45.9948000000001,
          44.6333000000001,
          44.503,
          45.792,
          52.08,
          43.6702000000001,
          50.3720000000001,
          50.6542000000001,
          50.6197000000001,
          50.6461,
          50.4961000000001,
          50.6856000000001,
          50.5822000000001,
          44.6130000000001,
          50.4392,
          53.53,
          53.6378,
          43.3342000000001,
          47.59,
          50.08,
          48.6489,
          48.9213,
          48.9541,
          43.5700000000001,
          42.8368,
          44.3298,
          45.1294,
          44.6616000000001,
          48.46,
          51.2761,
          51.1244,
          51.0772000000001,
          51.1239,
          43.9537,
          50.3600000000001,
          52.3580000000001
         ],
         "legendgroup": "Tornado (Land)",
         "lon": [
          -81.1471,
          -105.4383,
          -105.7941,
          -106.883,
          -78.5275,
          -113.3828,
          -111.1758,
          -92.8029,
          -77.4503,
          -77.3086,
          -77.3933,
          -76.1745,
          -77.7711,
          -76.5307999999999,
          -76.2872,
          -75.2241999999999,
          -73.0554999999999,
          -75.434,
          -75.2130999999999,
          -74.3391999999999,
          -74.2585999999999,
          -74.1632999999999,
          -71.201,
          -73.7155999999999,
          -71.715,
          -73.011,
          -71.799,
          -71.329,
          -70.826,
          -72.414,
          -74.3419,
          -100.6916,
          -82.4553,
          -115.0664,
          -101.91,
          -70.1591999999999,
          -91.2289,
          -115.2075,
          -109.6289,
          -81.426,
          -111.2387,
          -111.1483,
          -114.6747,
          -113.2395,
          -103.6123,
          -104.726,
          -104.9797,
          -103.5568,
          -104.9608,
          -104.2901,
          -101.8878,
          -99.3704999999999,
          -79.3402,
          -73.8017,
          -79.2189,
          -79.0830999999999,
          -75.0869,
          -70.8767999999999,
          -80.6785,
          -82.5998,
          -77.5196999999999,
          -76.9397,
          -73.9711,
          -90.9267,
          -118.2019,
          -94.9272999999999,
          -111.1825,
          -75.5039,
          -74.0479999999999,
          -78.7648,
          -104.7424,
          -101.7935,
          -103.7312,
          -113.8057,
          -103.8057,
          -80.5997,
          -80.1478999999999,
          -100.8804,
          -81.3853,
          -81.0058,
          -80.4722,
          -80.079,
          -103.3507,
          -106.0225,
          -118.4564,
          -115.8375,
          -95.3817,
          -74.1101,
          -102.5785,
          -91.6598,
          -91.6047,
          -92.7397,
          -92.3882,
          -107.6661,
          -101.6485,
          -91.7023,
          -74.8128,
          -107.7923,
          -107.7923,
          -105.5231,
          -107.0485,
          -109.7936,
          -108.04,
          -107.55,
          -106.9744,
          -106.6919,
          -105.793,
          -101.5829,
          -101.4508,
          -73.295,
          -76.4995,
          -81.8049999999999,
          -74.8124999999999,
          -75.9718999999999,
          -75.9152999999999,
          -98.9908,
          -67.4084999999999,
          -80.3651,
          -78.3199,
          -79.5887,
          -73.6067,
          -72.5125,
          -71.5991,
          -91.4808,
          -122.1007,
          -76.6743999999999,
          -78.941,
          -76.6743999999999,
          -76.6319,
          -75.25611,
          -74.1281,
          -76.4863999999999,
          -74.4838,
          -74.9275,
          -74.2077,
          -72.5141,
          -71.5769999999999,
          -75.8953,
          -75.96,
          -72.282,
          -72.0900999999999,
          -71.5647,
          -122.3584,
          -78.9965999999999,
          -76.6125,
          -74.5821999999999,
          -75.9607999999999,
          -76.9243999999999,
          -76.4848,
          -76.2968999999999,
          -75.8325,
          -76.7248,
          -75.8536999999999,
          -83.1122,
          -83.021,
          -82.5563999999999,
          -115.9577,
          -97.26,
          -108.54,
          -111.8947,
          -75.5432,
          -75.2809999999999,
          -80.1407,
          -113.5427,
          -110.9,
          -113.47,
          -118.781,
          -113.54,
          -112.9113,
          -112.648,
          -112.3554,
          -111.3746,
          -111.1262,
          -110.165,
          -109.9981,
          -109.3463,
          -109.894,
          -106.3383,
          -109.4956,
          -118.97,
          -105.06,
          -112.898,
          -118.6912,
          -74.6572,
          -77.169,
          -73.6645,
          -95.3369,
          -106.18,
          -102.37,
          -114.0071,
          -93.6899999999999,
          -91.2585,
          -91.0944,
          -93.0957999999999,
          -93.2172,
          -92.9793999999999,
          -110.474,
          -109.994,
          -122.3943,
          -79.7399,
          -94.51,
          -92.8482999999999,
          -108.18,
          -112.8892,
          -71.0439,
          -112.7583,
          -114.4022,
          -112.5558,
          -108.9256,
          -91.2831,
          -78.4972,
          -76.9275,
          -72.3944999999999,
          -114.2599,
          -75.3758999999999,
          -74.9874,
          -74.7274,
          -73.7026,
          -73.3013,
          -104.8045,
          -103.521,
          -72.1933999999999,
          -70.5542,
          -113.15,
          -82.1238999999999,
          -100.87,
          -123.3667,
          -113.265,
          -113.5278,
          -93.5868,
          -81.4476,
          -81.2551,
          -79.6125,
          -79.427,
          -79.2476,
          -81.8421,
          -79.1342,
          -81.0971,
          -80.9619,
          -78.3740999999999,
          -112.33,
          -82.58,
          -78.7071,
          -97.26,
          -71.9367,
          -100.0043,
          -73.152,
          -81.763,
          -115.114,
          -101.8286,
          -106.967,
          -106.894,
          -106.053,
          -113.565,
          -113.67,
          -113.742,
          -113.3,
          -111.944,
          -79.86,
          -114.0217,
          -94.5146999999999,
          -80.348,
          -74.39,
          -101.239,
          -81.9589999999999,
          -81.9867,
          -81.4648,
          -81.4306,
          -81.3172,
          -80.9270999999999,
          -81.1623999999999,
          -80.8541999999999,
          -80.1544,
          -72.8036,
          -79.1797,
          -78.9636,
          -70.3,
          -80.6641999999999,
          -72.8,
          -71.4322,
          -76.8355999999999,
          -78.9539,
          -75.701,
          -78.6575,
          -111.12,
          -80.8498999999999,
          -103.1,
          -101.0407,
          -100.4047,
          -91.1727999999999,
          -89.4358,
          -82.1,
          -100.6753,
          -100.548,
          -105.2156,
          -105.0639,
          -120.8212,
          -81.6006,
          -81.1512999999999,
          -81.7479,
          -79.3276999999999,
          -79.241,
          -77.1546999999999,
          -72.1169,
          -80.0325999999999,
          -80.4689999999999,
          -79.9444,
          -106.8,
          -101.38,
          -97.8799999999999,
          -98.73,
          -72.45,
          -83.7157999999999,
          -78.5282999999999,
          -81.7334,
          -79.4949999999999,
          -79.1997,
          -114.16,
          -113.67,
          -113.54,
          -88.6686,
          -97.5542,
          -81.1589999999999,
          -108.2979,
          -108.207,
          -108.6513,
          -71.0227,
          -72.4306,
          -73.3403,
          -73.6222,
          -71.2179,
          -71.0637,
          -91.526,
          -77.9589,
          -81.5699999999999,
          -80.8533,
          -63.3566999999999,
          -79.9716999999999,
          -76.7902999999999,
          -75.6228,
          -76.0767,
          -76.7796999999999,
          -77.2666,
          -79.0762999999999,
          -78.9739,
          -74.6681,
          -79.1489999999999,
          -77.3678,
          -79.3002,
          -79.6912,
          -79.102,
          -78.1061999999999,
          -78.6956,
          -78.3525,
          -77.2336,
          -75.5563999999999,
          -79.876,
          -63.3799999999999,
          -103.1594,
          -80.48,
          -81.5771999999999,
          -82.6319999999999,
          -82.9999999999999,
          -109.7125,
          -81.1385999999999,
          -89.1641999999999,
          -90.2266999999999,
          -92.7010999999999,
          -83.2155,
          -82.7492999999999,
          -83.2889,
          -82.4617,
          -83.6403,
          -83.5907,
          -95.3217,
          -95.5805999999999,
          -95.5697,
          -107.0341,
          -109.06,
          -107.06,
          -103.437,
          -82.001,
          -83.1691,
          -79.1178,
          -78.6817,
          -81.3498,
          -83.6036,
          -77.9917,
          -80.3336,
          -107.3431,
          -81.7232999999999,
          -80.903,
          -81.7239,
          -81.7057,
          -81.1098,
          -81.0055,
          -79.4874,
          -80.196,
          -76.4617,
          -81.7694999999999,
          -92.1347,
          -90.2967,
          -72.2116,
          -72.8076,
          -123.236,
          -79.4002,
          -75.05,
          -105.887,
          -78.7721999999999,
          -81.2216,
          -81.1976999999999,
          -79.1458,
          -93.5219,
          -93.5304,
          -92.2308,
          -93.0753999999999,
          -93.5778,
          -87.6997,
          -87.4856,
          -112.5768,
          -109.92,
          -107.583,
          -76.042,
          -78.9689,
          -74.1319,
          -74.3330999999999,
          -73.4951,
          -72.7914,
          -74.3319,
          -74.9456,
          -107.48,
          -107.07,
          -103.6713,
          -105.1123,
          -104.5572,
          -104.56,
          -104.8096,
          -105.6086,
          -111.464,
          -104.3545,
          -101.1183,
          -74.3755,
          -109.19,
          -110.76,
          -110.59,
          -109.33,
          -111.96,
          -114.5762,
          -108.8758,
          -108.79,
          -107.0436,
          -109.0132,
          -97.4,
          -106.0637,
          -105.82,
          -104.12,
          -104.47,
          -110.916,
          -81.2123999999999,
          -82.0975,
          -77.8559,
          -77.3844,
          -81.3872,
          -77.5196999999999,
          -77.4089,
          -78.2997,
          -78.0175,
          -78.5382999999999,
          -76.8448,
          -77.2803,
          -76.8792,
          -71.4528,
          -71.5493999999999,
          -71.9578,
          -68.3353,
          -71.71,
          -74.3584,
          -74.3463,
          -74.4113,
          -76.7696999999999,
          -77.828,
          -78.8481,
          -111.49,
          -81.1910999999999,
          -97.08,
          -93.8642,
          -94.0122,
          -93.9406,
          -94.1375,
          -93.7757999999999,
          -94.0039,
          -81.078,
          -90.3164,
          -107.39,
          -106.9858,
          -81.3822,
          -69.04,
          -96.4,
          -80.8567,
          -79.6527,
          -79.6283,
          -80.0699999999999,
          -82.4397,
          -77.8779,
          -75.948,
          -81.2780999999999,
          -71.03,
          -89.3228,
          -86.665,
          -86.2394,
          -86.8477999999999,
          -77.3593999999999,
          -104.55,
          -112.549
         ],
         "marker": {
          "color": "#636efa"
         },
         "mode": "markers",
         "name": "Tornado (Land)",
         "showlegend": true,
         "subplot": "mapbox",
         "type": "scattermapbox"
        },
        {
         "hovertemplate": "event_type=Tornado (Water)<br>Y=%{lat}<br>X=%{lon}<extra></extra>",
         "lat": [
          44.41,
          54.8553000000001,
          44.4810000000001,
          44.496,
          42.3500000000001,
          44.4450000000001,
          44.45,
          43.2130000000001,
          43.212,
          43.2110000000001,
          43.9110000000001,
          43.91,
          43.909,
          43.912,
          54.434,
          51.2900000000001,
          51.2,
          51.205,
          42.71,
          41.7930000000001,
          45.3800000000001,
          43.7300000000001,
          46.26,
          43.0810000000001,
          42.78,
          44.1000000000001,
          44.5400000000001,
          44.7400000000001,
          44.65,
          44.4800000000001,
          44.6300000000001,
          44.6000000000001,
          43.89,
          43.8700000000001,
          43.8600000000001,
          43.1800000000001,
          48.47,
          42.4800000000001,
          43.8600000000001,
          43.28,
          43.4250000000001,
          43.4300000000001,
          43.4350000000001,
          43.4200000000001,
          43.4400000000001,
          42.6100000000001,
          46.27,
          46.857,
          42.4900000000001,
          49.8100000000001,
          49.83,
          49.84,
          49.8000000000001,
          49.8100000000001,
          42.547,
          43.14,
          44.84,
          44.8500000000001,
          44.84,
          43.95,
          43.955,
          44.0400000000001,
          43.9,
          44.6700000000001,
          44.6700000000001,
          43.6806634060001,
          43.7500000000001,
          42.41,
          51.5600000000001,
          50.3200000000001,
          59.47,
          43.1700000000001,
          50.26,
          42.52,
          42.45,
          42.8500000000001,
          43.8000000000001,
          42.84,
          42.8580000000001
         ],
         "legendgroup": "Tornado (Water)",
         "lon": [
          -79.21,
          -98.8907,
          -79.2549999999999,
          -81.4329999999999,
          -81.5699999999999,
          -79.275,
          -79.27,
          -79.5359999999999,
          -79.535,
          -79.5339999999999,
          -77.347,
          -77.3459999999999,
          -77.345,
          -77.348,
          -109.408,
          -98.98,
          -99.73,
          -99.735,
          -80.16,
          -82.6,
          -82.0099999999999,
          -81.85,
          -79.9,
          -82.253,
          -79.3,
          -81.8799999999999,
          -81.49,
          -81.4,
          -81.3,
          -81.58,
          -80.3699999999999,
          -80.22,
          -81.85,
          -81.85,
          -78.21,
          -82.1799999999999,
          -58.6999999999999,
          -80.4,
          -77.49,
          -79.426,
          -81.85,
          -81.85,
          -81.85,
          -81.85,
          -81.85,
          -80.9299999999999,
          -63.97,
          -84.415,
          -80.71,
          -124.77,
          -124.81,
          -124.82,
          -124.7,
          -124.7,
          -79.7789999999999,
          -82.1299999999999,
          -81.4399999999999,
          -81.4299999999999,
          -81.45,
          -81.8699999999999,
          -81.8699999999999,
          -81.86,
          -81.78,
          -80.16,
          -80.15,
          -81.772912879,
          -81.8,
          -80.6,
          -98.58,
          -94.74,
          -109.34,
          -82.2499999999999,
          -98.36,
          -80.4519999999999,
          -81.54,
          -78.9999999999999,
          -77.92,
          -79.21,
          -79.04
         ],
         "marker": {
          "color": "#EF553B"
         },
         "mode": "markers",
         "name": "Tornado (Water)",
         "showlegend": true,
         "subplot": "mapbox",
         "type": "scattermapbox"
        },
        {
         "hovertemplate": "event_type=Wind Damage (Unclassified)<br>Y=%{lat}<br>X=%{lon}<extra></extra>",
         "lat": [
          54.6720000000001,
          58.287,
          46.008,
          43.2980000000001,
          42.623,
          55.3079500000001,
          49.03,
          51.6890000000001,
          50.6675300000001,
          50.8456200000001,
          48.342,
          45.6020100000001,
          50.1120100000001,
          46.93839,
          45.60641,
          50.5498900000001,
          47.66,
          43.929069988,
          45.0286,
          51.1096000000001,
          49.6677000000001,
          43.2750332160001,
          49.1836000000001,
          44.7015000000001,
          44.4804,
          43.1578000000001,
          43.2972,
          43.0692000000001,
          43.1490000000001,
          42.229,
          51.9426,
          46.3000000000001,
          46.9289000000001,
          45.1993849610001,
          42.9224,
          48.6060000000001,
          46.3473000000001,
          49.5327,
          49.4077,
          49.635,
          45.9454000000001,
          46.5411,
          49.7260000000001,
          45.6050000000001,
          55.4540000000001,
          60.7609,
          48.2306,
          46.8462000000001,
          47.2844000000001,
          42.6628000000001,
          44.347,
          48.8334,
          48.9639000000001,
          43.8051,
          50.6367000000001,
          49.835,
          50.8500000000001,
          51.0050000000001,
          52.058,
          48.5889000000001,
          49.4948000000001,
          48.3519000000001,
          48.5530000000001,
          48.2662,
          43.5065000000001,
          53.6778,
          44.8058,
          52.0408,
          42.0739,
          46.5640000000001
         ],
         "legendgroup": "Wind Damage (Unclassified)",
         "lon": [
          -109.832,
          -118.592,
          -71.9639999999999,
          -81.0599999999999,
          -81.806,
          -113.85526,
          -99.41,
          -93.2429999999999,
          -95.40269,
          -106.0232,
          -91.547,
          -77.37495,
          -92.2245,
          -76.43914,
          -75.1118499999999,
          -98.64125,
          -81.73,
          -81.6995006239999,
          -79.1025,
          -111.6392,
          -100.6242,
          -79.7831721049999,
          -97.2517,
          -81.1015,
          -80.9145,
          -81.9510999999999,
          -81.5928,
          -81.5766,
          -80.7048,
          -82.141,
          -103.79475,
          -73.4,
          -84.5097,
          -79.077128746,
          -80.2882999999999,
          -89.6093999999999,
          -72.5482,
          -96.8592,
          -94.0957999999999,
          -105.3938,
          -72.4093,
          -72.7551999999999,
          -101.1379,
          -79.742,
          -103.2157,
          -130.3566,
          -66.7345999999999,
          -83.2433,
          -79.7932,
          -81.5065999999999,
          -80.0242,
          -78.3987999999999,
          -93.3108,
          -79.1883999999999,
          -101.2759,
          -103.022,
          -102,
          -113.76,
          -107.995,
          -80.9793999999999,
          -103.5655,
          -67.9743999999999,
          -67.8684,
          -69.5395,
          -81.0909,
          -106.7856,
          -77.9499,
          -103.5867,
          -82.629,
          -71.2008999999999
         ],
         "marker": {
          "color": "#00cc96"
         },
         "mode": "markers",
         "name": "Wind Damage (Unclassified)",
         "showlegend": true,
         "subplot": "mapbox",
         "type": "scattermapbox"
        },
        {
         "hovertemplate": "event_type=Vortex<br>Y=%{lat}<br>X=%{lon}<extra></extra>",
         "lat": [
          50.366,
          50.71,
          50.595,
          50.477,
          50.3990000000001,
          44.77,
          49.441,
          50.9,
          52.5600000000001,
          49.7500000000001,
          51.8320000000001,
          56.1900000000001,
          49.6800000000001,
          53.45,
          51.45,
          55.15,
          50.7,
          54.4300000000001,
          42.15,
          53.6100000000001,
          49.2180000000001,
          49.1800000000001,
          49.6300000000001,
          50.51,
          52.489,
          53.229,
          53.02,
          49.59,
          53.27,
          49.78,
          50.1105000000001,
          52.2900000000001,
          46.2300000000001,
          50.3500000000001,
          52.83,
          52.1800000000001,
          52.6900000000001,
          42.09,
          52.7,
          52.7,
          52.5600000000001,
          51.902,
          51.33,
          53.02,
          52.6700000000001,
          49.46,
          53.21,
          42.8665,
          42.8456800000001,
          49.9,
          51.6000000000001,
          42.1800000000001,
          42.1800000000001,
          43.14,
          46.4300000000001,
          52.3100000000001,
          53.51,
          45.549,
          52.34691,
          55.15,
          42.5500000000001,
          42.0976000000001,
          49.9900000000001,
          50.3200000000001,
          51.78,
          50.787,
          42.8600000000001,
          42.2300000000001,
          42.78,
          51.1680000000001,
          51.1680000000001,
          51.1680000000001,
          53.78,
          50.84,
          51.2710000000001,
          45.847,
          46.6122,
          49.657,
          50.1300000000001,
          49.27,
          50.135,
          49.9970000000001,
          45.3720000000001,
          49.21,
          52.4060000000001,
          46.5700000000001,
          54.0070000000001,
          50.532,
          49.6920000000001,
          44.4400000000001,
          50.4800000000001,
          51.7400000000001,
          43.4400000000001,
          46.08,
          50.72,
          43.4200000000001,
          44.7400000000001,
          51.02,
          49.2500000000001,
          51.03,
          52.52,
          52.7900000000001,
          53.95,
          55.7400000000001,
          49.8600000000001,
          43.0640000000001,
          55.1700000000001,
          50.4800000000001,
          50.4100000000001,
          53.0400000000001,
          51.265,
          51.26,
          56.22,
          50.76,
          49.9,
          49.9300000000001,
          49.1900000000001,
          51.1050000000001,
          51.5650000000001,
          51.5700000000001,
          51.5700000000001,
          51.1300000000001,
          51.4200000000001,
          51.1700000000001,
          51.1700000000001,
          50.4800000000001,
          43.09,
          44.08,
          49.78,
          49.4300000000001,
          49.1100000000001,
          51.14,
          45.8600000000001,
          53.09,
          53.0500000000001,
          51.83,
          52.1700000000001,
          49.1800000000001,
          51.45,
          51.0280000000001,
          51.02,
          51.1000000000001,
          42.26,
          51.3000000000001,
          45.9800000000001,
          43.4900000000001,
          51.2725,
          51.3700000000001,
          43.5000000000001,
          42.8670000000001,
          49.84,
          43.8100000000001,
          43.2500000000001,
          42.2,
          49.2,
          42.0600000000001,
          42.7640000000001,
          45.9,
          45.3000000000001,
          50.65,
          50.51,
          45.3061000000001,
          42.765,
          51.1600000000001,
          46.5432000000001,
          50.1200000000001,
          49.8380000000001,
          42.8200000000001,
          43.45,
          42.96,
          42.9400000000001,
          52.9100000000001,
          52.1200000000001,
          49.6600000000001,
          49.84,
          49.8800000000001,
          49.1000000000001,
          49.9100000000001,
          44.6700000000001,
          52.7500000000001,
          50.6000000000001,
          55.76,
          48.6850000000001,
          52.52,
          50.52,
          50.5500000000001,
          50.539,
          52.27,
          52.4400000000001,
          42.092,
          51.6100000000001,
          52.4400000000001,
          51.7500000000001,
          51.97,
          42.59,
          42.59,
          54.3960000000001,
          52.4400000000001,
          45.6100000000001,
          42.2300000000001,
          42.2300000000001,
          52.65,
          44.58,
          51.4300000000001,
          42.5400000000001,
          47.7980000000001,
          50.2900000000001,
          44.3700000000001,
          52.9657,
          52.9300000000001,
          50.6200000000001,
          50.8000000000001,
          49.8700000000001,
          50.4,
          50.3500000000001,
          50.09,
          49.0600000000001,
          44.0600000000001,
          45.3800000000001,
          45.91,
          50.22,
          50.08,
          50.03,
          52.4300000000001,
          50.78,
          53.2400000000001,
          49.83,
          49.8100000000001,
          49.6300000000001,
          49.83,
          51.5600000000001,
          52.5000000000001,
          52.6600000000001,
          51.71,
          51.6900000000001,
          51.02,
          49.9130000000001,
          43.1370000000001,
          53.272,
          42.4200000000001,
          45.3200000000001,
          42.2400000000001,
          49.2300000000001,
          44.2980000000001
         ],
         "legendgroup": "Vortex",
         "lon": [
          -112,
          -112.21,
          -111.954,
          -109.491,
          -103.874,
          -76.7,
          -98.677,
          -104.6,
          -107.64,
          -98.35,
          -114.128,
          -117.61,
          -96.71,
          -112.13,
          -99.3,
          -118.85,
          -113.99,
          -109.399,
          -82.97,
          -113.7,
          -105.219,
          -103.682,
          -108.43,
          -105.06,
          -113.589,
          -113.503,
          -112.83,
          -97.5699999999999,
          -113.61,
          -104.72,
          -106.00117,
          -106.62,
          -64.28,
          -112.81,
          -114.37,
          -106.56,
          -106.31,
          -82.65,
          -105.74,
          -105.75,
          -105.46,
          -103.8,
          -97.58,
          -107.6,
          -106.65,
          -97.1,
          -113.98,
          -81.0308899999999,
          -81.03979,
          -96.84,
          -114.14,
          -81.95,
          -81.96,
          -80.0699999999999,
          -63.6299999999999,
          -114.11,
          -111.53,
          -75.309,
          -114.36109,
          -119.15,
          -82.3799999999999,
          -82.4249,
          -101.2,
          -100.87,
          -113.54,
          -112.41,
          -80.73,
          -82.41,
          -81.15,
          -111.666,
          -111.616,
          -111.566,
          -111.69,
          -112.86,
          -114.414,
          -72.422,
          -72.6894,
          -97.133,
          -97.55,
          -97.8199999999999,
          -97.552,
          -107.756,
          -75.622,
          -123.22,
          -113.103,
          -72.2,
          -113.149,
          -104.649,
          -111.508,
          -79.59,
          -104.43,
          -107.57,
          -80.6199999999999,
          -72.54,
          -113.96,
          -81.64,
          -79.8099999999999,
          -113.93,
          -112.2,
          -113.47,
          -113.73,
          -111.9,
          -113.47,
          -120.2,
          -110.69,
          -81.0049999999999,
          -118.79,
          -111.65,
          -107.24,
          -111.82,
          -113.76,
          -113.76,
          -120.82,
          -119.26,
          -97.6,
          -98.77,
          -97.4299999999999,
          -114.382,
          -114.01,
          -114.015,
          -114.01,
          -113.12,
          -114.4,
          -108.63,
          -108.64,
          -103.88,
          -79.14,
          -78.04,
          -103.02,
          -99.35,
          -97.34,
          -100.02,
          -72.42,
          -105.64,
          -105.85,
          -103.52,
          -106.47,
          -100.99,
          -114.12,
          -114.199,
          -114.22,
          -112.64,
          -82.39,
          -103.74,
          -81.9299999999999,
          -81.2599999999999,
          -112.283,
          -112.26,
          -79.6899999999999,
          -80.0119999999999,
          -104.16,
          -79.6799999999999,
          -79.9399999999999,
          -82.47,
          -101.79,
          -82.99,
          -80.876,
          -73.67,
          -73.1799999999999,
          -101.32,
          -100.3,
          -74.8271999999999,
          -81.1059999999999,
          -119.59,
          -84.1688,
          -119.48,
          -119.622,
          -80.2499999999999,
          -81.16,
          -81.42,
          -81.85,
          -106.79,
          -106.86,
          -96.6899999999999,
          -100.52,
          -99.97,
          -99.6799999999999,
          -100.88,
          -79.49,
          -111.7,
          -97.09,
          -120.21,
          -89.525,
          -109.11,
          -113.84,
          -113.59,
          -113.782,
          -107.94,
          -112.76,
          -82.6829999999999,
          -113.55,
          -113.57,
          -111.92,
          -101.28,
          -82.24,
          -82.23,
          -126.667,
          -114.09,
          -73.3,
          -82.65,
          -82.66,
          -107.02,
          -78.92,
          -114.15,
          -81.95,
          -64.9349999999999,
          -105.53,
          -80.83,
          -122.5139,
          -123.01,
          -103.63,
          -105.22,
          -110.87,
          -112.16,
          -112.14,
          -110.83,
          -122.11,
          -81.52,
          -76.23,
          -71.7,
          -113.53,
          -110.71,
          -99.96,
          -106.04,
          -113.51,
          -113.51,
          -111.78,
          -112.62,
          -112.92,
          -111.79,
          -109.72,
          -113.92,
          -114.25,
          -113.18,
          -114.39,
          -106.81,
          -97.534,
          -81.883,
          -109.994,
          -82.3199999999999,
          -74.98,
          -82.97,
          -97.03,
          -81.603
         ],
         "marker": {
          "color": "#ab63fa"
         },
         "mode": "markers",
         "name": "Vortex",
         "showlegend": true,
         "subplot": "mapbox",
         "type": "scattermapbox"
        },
        {
         "hovertemplate": "event_type=Downburst<br>Y=%{lat}<br>X=%{lon}<extra></extra>",
         "lat": [
          44.525,
          42.1770000000001,
          44.2310000000001,
          43.2040000000001,
          49.9810000000001,
          50.1442200000001,
          42.3201500000001,
          54.4484,
          44.9799,
          54.0400000000001,
          54.05125,
          46.0384500000001,
          43.2195,
          45.0102000000001,
          46.2122000000001,
          45.8686000000001,
          50.6799600000001,
          51.147,
          48.5083300000001,
          51.229,
          48.6324000000001,
          49.6825000000001,
          48.7414200000001,
          50.0771,
          48.633,
          43.0743000000001,
          42.9070600000001,
          49.5600000000001,
          43.2482400000001,
          54.4568,
          50.99379,
          48.7347,
          42.5152,
          45.0170000000001,
          53.4693,
          47.9990000000001,
          43.08885,
          49.905,
          45.5017500000001,
          42.0930000000001,
          44.3320000000001,
          46.5522,
          42.8785,
          42.0845,
          51.0197000000001,
          48.573103637,
          44.4708000000001,
          47.3805,
          44.6129,
          42.902499678,
          44.1062143390001,
          46.0033000000001,
          45.941580876,
          49.2708000000001,
          49.2354,
          49.2582,
          49.2568000000001,
          49.2546,
          49.2459000000001,
          49.2232000000001,
          49.222,
          49.2439000000001,
          49.2719000000001,
          49.22,
          49.2341000000001,
          49.2288,
          49.2642000000001,
          49.2445000000001,
          49.2708000000001,
          49.2545000000001,
          49.2544,
          49.2169000000001,
          49.2245,
          49.2252,
          49.2618000000001,
          49.2526,
          49.2576000000001,
          49.2506000000001,
          49.2606000000001,
          49.2636000000001,
          49.2287000000001,
          49.2302000000001,
          49.2192000000001,
          49.2792000000001,
          49.2540000000001,
          49.2172,
          48.7830000000001,
          42.3050000000001,
          44.7611000000001,
          45.3469000000001,
          45.5742000000001,
          51.6617900000001,
          50.6978,
          51.4167,
          53.0153000000001,
          49.3297000000001,
          49.6633,
          53.2880000000001,
          50.2912000000001,
          43.316,
          44.1482,
          44.9406000000001,
          45.0522,
          42.1508000000001,
          44.6079,
          42.0380000000001,
          53.5840000000001,
          53.0640000000001,
          52.8856000000001,
          53.2824000000001,
          53.3620000000001,
          45.5840000000001,
          52.9497000000001,
          49.686865326,
          43.6770000000001,
          43.244,
          45.5818,
          49.0679000000001,
          49.0496000000001,
          51.6379000000001,
          53.0910000000001,
          48.6211000000001,
          43.561,
          42.8860000000001,
          43.21,
          46.3153,
          43.342,
          43.323,
          43.8107000000001,
          43.3279000000001,
          43.7237000000001,
          42.958,
          43.3700000000001,
          42.9710039330001,
          46.1117,
          42.3100000000001,
          49.0125,
          53.753,
          49.4640000000001,
          48.5394000000001,
          48.4553000000001,
          49.5692000000001,
          51.5661000000001,
          52.5840000000001,
          52.775,
          43.321,
          49.7273000000001,
          49.8356000000001,
          43.0032,
          48.573,
          43.1236000000001,
          43.0834,
          43.0215000000001,
          42.979,
          45.0119,
          44.7864000000001,
          46.0639,
          46.905,
          42.657,
          42.8921,
          42.9929000000001,
          42.8921,
          52.845,
          49.4636,
          48.7359000000001,
          49.563,
          50.95,
          50.5760000000001,
          45.4880000000001,
          52.3314,
          50.9116000000001,
          43.7430000000001,
          49.8508,
          52.3750000000001,
          51.6482,
          46.0697000000001,
          45.2173000000001,
          45.2423000000001,
          50.0924000000001,
          60.3469000000001,
          45.1130000000001,
          56.5034000000001,
          46.4674000000001,
          56.3928000000001,
          56.8684000000001,
          56.6883,
          55.8263000000001,
          56.5794000000001,
          58.1587000000001,
          57.6692,
          56.0859,
          58.3902,
          57.5672000000001,
          57.9958,
          57.8144,
          58.2228000000001,
          58.2868,
          56.6057000000001,
          57.7795,
          57.7221000000001,
          58.0903000000001,
          42.0121,
          44.9456000000001,
          44.9292,
          58.8348,
          59.0229,
          58.8793000000001,
          58.5758000000001,
          58.6617000000001,
          58.7753000000001,
          58.7486000000001,
          58.5599,
          58.8827000000001,
          58.7163,
          58.5665000000001,
          58.4707000000001,
          44.5658000000001,
          42.2879,
          42.7377000000001,
          54.7311,
          55.1866000000001,
          45.4686,
          45.9917,
          45.8559000000001,
          45.9516,
          45.9941000000001,
          47.4271000000001,
          45.0741,
          45.6103000000001,
          42.172,
          48.7301,
          50.6357,
          44.5461000000001,
          56.4828000000001,
          46.3511,
          42.2190000000001,
          46.2058000000001,
          42.1393,
          46.345,
          46.4585000000001,
          46.4657,
          46.2902,
          46.0855000000001,
          46.7457000000001,
          46.5237000000001,
          46.5081000000001,
          43.0570000000001,
          47.2583000000001,
          44.4495000000001,
          44.5388,
          42.7775,
          43.147,
          42.8705,
          43.1691000000001,
          43.8769,
          44.2140000000001,
          45.6034000000001,
          44.0192000000001,
          44.7892000000001,
          44.8508,
          44.381,
          42.8581,
          45.3511,
          44.5301000000001,
          44.1854000000001,
          44.8781000000001,
          44.6469000000001,
          48.633,
          49.5731000000001,
          48.7121000000001,
          49.3947000000001,
          50.0192000000001,
          42.3990000000001,
          46.5389000000001,
          44.1682000000001,
          44.169,
          45.5236,
          44.4579000000001,
          48.5406,
          48.5781000000001,
          50.7262000000001,
          50.1296,
          51.9199,
          50.518,
          48.8825000000001,
          49.7461000000001,
          49.3297000000001,
          49.2753000000001,
          48.7515000000001,
          56.0828000000001,
          51.6444000000001,
          46.3106000000001,
          47.6061,
          51.2538000000001,
          50.4203000000001,
          46.7470000000001,
          55.8297000000001,
          52.6406000000001,
          50.1477,
          50.2329,
          50.1989,
          50.4133,
          49.3892000000001,
          49.2769000000001,
          49.1428000000001,
          49.2797,
          49.0647000000001,
          51.1158,
          50.0818,
          50.7917,
          50.0377,
          43.0326000000001,
          43.1155000000001,
          47.0925,
          55.405,
          47.3786000000001,
          47.9103000000001,
          48.3268,
          48.3375,
          47.7956,
          48.4206,
          45.8003,
          47.0899000000001,
          46.3503000000001,
          47.4686,
          44.6133,
          44.592,
          47.6197000000001,
          47.6231000000001,
          45.5064,
          45.5996000000001,
          56.2470000000001,
          55.9294,
          56.3868000000001,
          52.2900000000001,
          56.4803000000001,
          52.0561000000001,
          51.9157000000001,
          50.7039,
          43.681,
          50.4819000000001,
          53.6402,
          53.7017000000001,
          53.7953000000001,
          49.1042,
          52.1641000000001,
          52.128,
          48.9302000000001,
          42.3028,
          44.3783000000001,
          45.4822,
          50.4128000000001
         ],
         "legendgroup": "Downburst",
         "lon": [
          -78.724,
          -82.8199999999999,
          -76.585,
          -79.841,
          -98.3486,
          -97.0486099999999,
          -81.8466,
          -109.2774,
          -75.6758,
          -105.487,
          -105.09862,
          -76.87843,
          -80.58262,
          -77.4487999999999,
          -76.1036,
          -75.7397,
          -95.2261599999999,
          -108.766,
          -91.2260199999999,
          -90.23,
          -90.1747,
          -89.4422,
          -93.23999,
          -113.003,
          -91.539,
          -79.9241,
          -79.61161,
          -70.4555999999999,
          -81.82248,
          -110.56033,
          -105.17922,
          -91.2069,
          -82.0732199999999,
          -74.716,
          -114.4963,
          -66.694,
          -79.99878,
          -112.647,
          -74.73538,
          -82.736,
          -79.318,
          -75.4737,
          -82.1013,
          -83.0513999999999,
          -93.82312,
          -80.985381831,
          -79.5296999999999,
          -72.77904,
          -79.5635,
          -78.918029502,
          -77.0533830589999,
          -66.8703,
          -66.709519913,
          -93.3379,
          -93.3663,
          -93.2431,
          -93.3712,
          -93.3828999999999,
          -93.4243,
          -93.4483,
          -93.4741999999999,
          -93.4566,
          -93.3319999999999,
          -93.4834999999999,
          -93.494,
          -93.3724999999999,
          -93.1752999999999,
          -93.4491,
          -93.3292,
          -93.2705999999999,
          -93.2769,
          -93.5361,
          -93.5411999999999,
          -93.5484,
          -93.2271,
          -93.2621,
          -93.2146999999999,
          -93.3093,
          -93.1924,
          -93.2155,
          -93.5173,
          -93.5124,
          -93.504,
          -93.2648,
          -93.3901,
          -93.5268,
          -94.1829999999999,
          -83.038,
          -79.813,
          -79.0225,
          -78.59,
          -114.52284,
          -115.8881,
          -111.4949,
          -105.2626,
          -98.8357999999999,
          -98.6571,
          -88.3199999999999,
          -66.2807999999999,
          -81.3199999999999,
          -79.7631,
          -76.5886,
          -76.2830999999999,
          -82.3946999999999,
          -76.1283,
          -82.74,
          -104.14,
          -103.758,
          -103.7224,
          -103.5921,
          -104.033,
          -76.812,
          -91.3441,
          -107.136229397,
          -79.501,
          -81.712,
          -74.5805999999999,
          -97.4481,
          -96.8249499999999,
          -101.6647,
          -113.4677,
          -91.7823,
          -81.696,
          -81.893,
          -81.5567,
          -79.4637999999999,
          -81.49,
          -81.313,
          -81.0955,
          -81.0411,
          -81.289,
          -81.288,
          -80.1969999999999,
          -80.491983907,
          -77.3172,
          -82.5289999999999,
          -78.8539,
          -112.779,
          -104.567,
          -78.8842,
          -78.705,
          -78.1333,
          -101.8368,
          -112.063,
          -111.692,
          -79.807,
          -99.7049,
          -94.0169,
          -81.9439,
          -81.2222,
          -80.9213,
          -80.4725,
          -80.9598,
          -81.2605,
          -74.7757999999999,
          -79.3521,
          -72.0524,
          -84.388,
          -80.7929999999999,
          -79.6351999999999,
          -80.8536999999999,
          -79.6351999999999,
          -110.874,
          -84.6904,
          -89.454,
          -97.1154,
          -110.7151,
          -112.053,
          -73.982,
          -107.3288,
          -89.973,
          -81.336,
          -93.9342,
          -113.999,
          -107.6995,
          -72.1643,
          -73.7363999999999,
          -73.1251999999999,
          -91.9072,
          -121.7686,
          -63.3609999999999,
          -121.1171,
          -67.5799,
          -121.2518,
          -120.8912,
          -121.1291,
          -121.5827,
          -121.2979,
          -121.8274,
          -121.9885,
          -121.2377,
          -121.4349,
          -122.1579,
          -121.3011,
          -121.5936,
          -120.8971,
          -120.5299,
          -120.5379,
          -120.1791,
          -121.8693,
          -120.9388,
          -82.9227999999999,
          -77.1828,
          -77.0458,
          -118.4428,
          -117.7919,
          -119.6561,
          -118.5744,
          -117.9331,
          -118.4142,
          -119.685,
          -118.4199,
          -118.4766,
          -117.9188,
          -118.1815,
          -118.5002,
          -80.5409999999999,
          -82.6251999999999,
          -81.881,
          -112.0195,
          -111.8078,
          -78.9318,
          -75.564,
          -76.5645,
          -75.8647999999999,
          -75.8428,
          -79.241,
          -75.4831,
          -79.9757,
          -82.331,
          -93.2055999999999,
          -94.3857,
          -80.4614,
          -119.8553,
          -83.2684,
          -83.0427,
          -84.0354,
          -82.7329,
          -82.9055999999999,
          -83.5552,
          -83.2037999999999,
          -83.9235,
          -83.9059,
          -82.8189,
          -83.4833,
          -83.2370999999999,
          -81.1523,
          -79.8969999999999,
          -81.3776,
          -81.3330999999999,
          -80.5895,
          -81.5590999999999,
          -81.165,
          -81.6856999999999,
          -81.6507999999999,
          -81.1050999999999,
          -72.2676999999999,
          -79.3267,
          -77.8164,
          -77.7486,
          -78.0169999999999,
          -81.4220999999999,
          -75.5741,
          -78.0051,
          -78.664,
          -77.3429,
          -77.8011,
          -93.837,
          -92.7218999999999,
          -93.4781,
          -93.0638,
          -83.1269,
          -82.1849999999999,
          -84.2148,
          -77.3876,
          -77.1899,
          -74.4655,
          -75.8552999999999,
          -72.6532999999999,
          -72.5047,
          -101.0195,
          -102.2585,
          -101.4368,
          -101.152,
          -93.6283,
          -84.9177999999999,
          -85.3613999999999,
          -85.0296999999999,
          -89.3362,
          -109.7833,
          -90.4453,
          -74.9566,
          -67.58,
          -103.735,
          -91.425,
          -71.347,
          -112.6519,
          -101.1347,
          -101.6618,
          -101.9759,
          -101.6777,
          -102.9381,
          -94.5833,
          -94.4694,
          -94.0169,
          -94.1471999999999,
          -93.9206,
          -92.5667,
          -110.7328,
          -100.6147,
          -84.6061,
          -79.3158999999999,
          -81.8567,
          -77.8634,
          -97.4324999999999,
          -77.0592,
          -68.2744,
          -68.1842,
          -68.3156,
          -68.3908,
          -68.4363999999999,
          -71.9039,
          -69.7471,
          -74.7535999999999,
          -67.3416999999999,
          -76.1283999999999,
          -76.6308999999999,
          -68.9183,
          -73.8181,
          -63.8747,
          -74.376,
          -118.5997,
          -117.9522,
          -118.9468,
          -115.2283,
          -121.9267,
          -115.0556,
          -109.1287,
          -93.6093999999999,
          -80.4209999999999,
          -90.1224999999999,
          -106.9741,
          -106.6248,
          -106.1161,
          -72.1935999999999,
          -103.5256,
          -104.5271,
          -79.5565,
          -83.0207,
          -76.2966,
          -76.0767,
          -104.2829
         ],
         "marker": {
          "color": "#FFA15A"
         },
         "mode": "markers",
         "name": "Downburst",
         "showlegend": true,
         "subplot": "mapbox",
         "type": "scattermapbox"
        },
        {
         "hovertemplate": "event_type=Visual Vortex (Unclassified)<br>Y=%{lat}<br>X=%{lon}<extra></extra>",
         "lat": [
          51.4900000000001,
          51.97,
          54.6600000000001,
          49.34,
          50.5600000000001,
          55.08,
          41.9800000000001,
          49.9110000000001,
          49.14,
          50.3200000000001,
          51.0700000000001,
          42.8200000000001,
          43.2400000000001,
          45.2500000000001,
          49.09,
          45.1800000000001,
          51.7900000000001,
          53.0500000000001,
          49.0700000000001,
          42.03,
          49.4100000000001,
          45.27,
          53.39,
          44.97,
          47.51,
          50.4800000000001,
          43.08,
          43.3000000000001,
          43.3200000000001,
          52.1800000000001,
          50.2500000000001,
          52.8600000000001,
          42.3100000000001,
          49.5400000000001,
          42.47,
          45.58,
          45.3190000000001,
          46.797,
          52.0000000000001,
          51.8800000000001,
          50.28,
          42.2300000000001,
          50.52,
          49.47,
          49.03,
          50.5500000000001,
          50.7,
          43.1000000000001,
          46.3000000000001,
          46.4200000000001,
          44.0400000000001,
          45.3500000000001,
          43.7500000000001,
          52.7300000000001,
          53.2,
          42.8600000000001,
          42.8600000000001,
          42.51,
          46.2550000000001,
          42.8800000000001,
          46.6870000000001,
          46.9400000000001,
          49.4300000000001,
          51.2500000000001,
          50.6200000000001,
          51.2140000000001,
          50.9100000000001,
          54.0700000000001,
          52.83,
          52.4200000000001,
          52.2300000000001,
          51.52,
          52.2400000000001,
          54.0000000000001,
          53.72,
          52.4200000000001,
          52.45,
          46.26,
          58.5000000000001,
          50.71,
          50.1600000000001,
          49.217,
          49.7500000000001,
          42.8700000000001,
          44.14,
          42.83,
          42.78,
          42.89,
          43.09,
          49.6600000000001,
          43.1200000000001,
          42.95,
          45.0600000000001,
          46.4,
          45.72,
          42.45,
          42.8500000000001,
          49.8700000000001
         ],
         "legendgroup": "Visual Vortex (Unclassified)",
         "lon": [
          -114.54,
          -114.47,
          -111.9,
          -119.66,
          -120.63,
          -114.06,
          -82.74,
          -106.056,
          -105.839,
          -104.36,
          -98.3799999999999,
          -81.47,
          -81.3,
          -74.3799999999999,
          -96.65,
          -81.6199999999999,
          -113.27,
          -111.82,
          -97.5699999999999,
          -83.09,
          -105.11,
          -76.16,
          -111.17,
          -81.2,
          -67.39,
          -100.25,
          -80.4399999999999,
          -81.48,
          -81.64,
          -113.86,
          -97.41,
          -112.83,
          -82.2599999999999,
          -99.45,
          -82.16,
          -72.89,
          -73.2909999999999,
          -67.4929999999999,
          -112.5,
          -112.95,
          -99.84,
          -82.7,
          -108.18,
          -103.04,
          -104.6,
          -107.87,
          -111.9,
          -79.15,
          -74.8199999999999,
          -72.08,
          -77.28,
          -76.1799999999999,
          -80.91,
          -105.79,
          -117.92,
          -81.0599999999999,
          -80.35,
          -82.3199999999999,
          -61.3,
          -82.34,
          -72.737,
          -70.6799999999999,
          -123.39,
          -107.77,
          -112.34,
          -109.5,
          -102.81,
          -113.85,
          -113.35,
          -112.88,
          -113.92,
          -114.55,
          -113.93,
          -112.05,
          -113.55,
          -113.63,
          -113.71,
          -71.45,
          -111.4,
          -98.26,
          -105.27,
          -68.15,
          -101.03,
          -82.3799999999999,
          -79.61,
          -82.0099999999999,
          -82.15,
          -81.11,
          -81.23,
          -97.15,
          -81.95,
          -80.05,
          -75.54,
          -81.17,
          -74.05,
          -80.97,
          -79.0099999999999,
          -119.65
         ],
         "marker": {
          "color": "#19d3f3"
         },
         "mode": "markers",
         "name": "Visual Vortex (Unclassified)",
         "showlegend": true,
         "subplot": "mapbox",
         "type": "scattermapbox"
        }
       ],
       "layout": {
        "height": 600,
        "legend": {
         "title": {
          "text": "event_type"
         },
         "tracegroupgap": 0
        },
        "mapbox": {
         "center": {
          "lat": 48.39573000689762,
          "lon": -91.9158339734436
         },
         "domain": {
          "x": [
           0,
           1
          ],
          "y": [
           0,
           1
          ]
         },
         "style": "open-street-map",
         "zoom": 2
        },
        "margin": {
         "t": 60
        },
        "template": {
         "data": {
          "bar": [
           {
            "error_x": {
             "color": "#2a3f5f"
            },
            "error_y": {
             "color": "#2a3f5f"
            },
            "marker": {
             "line": {
              "color": "#E5ECF6",
              "width": 0.5
             },
             "pattern": {
              "fillmode": "overlay",
              "size": 10,
              "solidity": 0.2
             }
            },
            "type": "bar"
           }
          ],
          "barpolar": [
           {
            "marker": {
             "line": {
              "color": "#E5ECF6",
              "width": 0.5
             },
             "pattern": {
              "fillmode": "overlay",
              "size": 10,
              "solidity": 0.2
             }
            },
            "type": "barpolar"
           }
          ],
          "carpet": [
           {
            "aaxis": {
             "endlinecolor": "#2a3f5f",
             "gridcolor": "white",
             "linecolor": "white",
             "minorgridcolor": "white",
             "startlinecolor": "#2a3f5f"
            },
            "baxis": {
             "endlinecolor": "#2a3f5f",
             "gridcolor": "white",
             "linecolor": "white",
             "minorgridcolor": "white",
             "startlinecolor": "#2a3f5f"
            },
            "type": "carpet"
           }
          ],
          "choropleth": [
           {
            "colorbar": {
             "outlinewidth": 0,
             "ticks": ""
            },
            "type": "choropleth"
           }
          ],
          "contour": [
           {
            "colorbar": {
             "outlinewidth": 0,
             "ticks": ""
            },
            "colorscale": [
             [
              0,
              "#0d0887"
             ],
             [
              0.1111111111111111,
              "#46039f"
             ],
             [
              0.2222222222222222,
              "#7201a8"
             ],
             [
              0.3333333333333333,
              "#9c179e"
             ],
             [
              0.4444444444444444,
              "#bd3786"
             ],
             [
              0.5555555555555556,
              "#d8576b"
             ],
             [
              0.6666666666666666,
              "#ed7953"
             ],
             [
              0.7777777777777778,
              "#fb9f3a"
             ],
             [
              0.8888888888888888,
              "#fdca26"
             ],
             [
              1,
              "#f0f921"
             ]
            ],
            "type": "contour"
           }
          ],
          "contourcarpet": [
           {
            "colorbar": {
             "outlinewidth": 0,
             "ticks": ""
            },
            "type": "contourcarpet"
           }
          ],
          "heatmap": [
           {
            "colorbar": {
             "outlinewidth": 0,
             "ticks": ""
            },
            "colorscale": [
             [
              0,
              "#0d0887"
             ],
             [
              0.1111111111111111,
              "#46039f"
             ],
             [
              0.2222222222222222,
              "#7201a8"
             ],
             [
              0.3333333333333333,
              "#9c179e"
             ],
             [
              0.4444444444444444,
              "#bd3786"
             ],
             [
              0.5555555555555556,
              "#d8576b"
             ],
             [
              0.6666666666666666,
              "#ed7953"
             ],
             [
              0.7777777777777778,
              "#fb9f3a"
             ],
             [
              0.8888888888888888,
              "#fdca26"
             ],
             [
              1,
              "#f0f921"
             ]
            ],
            "type": "heatmap"
           }
          ],
          "heatmapgl": [
           {
            "colorbar": {
             "outlinewidth": 0,
             "ticks": ""
            },
            "colorscale": [
             [
              0,
              "#0d0887"
             ],
             [
              0.1111111111111111,
              "#46039f"
             ],
             [
              0.2222222222222222,
              "#7201a8"
             ],
             [
              0.3333333333333333,
              "#9c179e"
             ],
             [
              0.4444444444444444,
              "#bd3786"
             ],
             [
              0.5555555555555556,
              "#d8576b"
             ],
             [
              0.6666666666666666,
              "#ed7953"
             ],
             [
              0.7777777777777778,
              "#fb9f3a"
             ],
             [
              0.8888888888888888,
              "#fdca26"
             ],
             [
              1,
              "#f0f921"
             ]
            ],
            "type": "heatmapgl"
           }
          ],
          "histogram": [
           {
            "marker": {
             "pattern": {
              "fillmode": "overlay",
              "size": 10,
              "solidity": 0.2
             }
            },
            "type": "histogram"
           }
          ],
          "histogram2d": [
           {
            "colorbar": {
             "outlinewidth": 0,
             "ticks": ""
            },
            "colorscale": [
             [
              0,
              "#0d0887"
             ],
             [
              0.1111111111111111,
              "#46039f"
             ],
             [
              0.2222222222222222,
              "#7201a8"
             ],
             [
              0.3333333333333333,
              "#9c179e"
             ],
             [
              0.4444444444444444,
              "#bd3786"
             ],
             [
              0.5555555555555556,
              "#d8576b"
             ],
             [
              0.6666666666666666,
              "#ed7953"
             ],
             [
              0.7777777777777778,
              "#fb9f3a"
             ],
             [
              0.8888888888888888,
              "#fdca26"
             ],
             [
              1,
              "#f0f921"
             ]
            ],
            "type": "histogram2d"
           }
          ],
          "histogram2dcontour": [
           {
            "colorbar": {
             "outlinewidth": 0,
             "ticks": ""
            },
            "colorscale": [
             [
              0,
              "#0d0887"
             ],
             [
              0.1111111111111111,
              "#46039f"
             ],
             [
              0.2222222222222222,
              "#7201a8"
             ],
             [
              0.3333333333333333,
              "#9c179e"
             ],
             [
              0.4444444444444444,
              "#bd3786"
             ],
             [
              0.5555555555555556,
              "#d8576b"
             ],
             [
              0.6666666666666666,
              "#ed7953"
             ],
             [
              0.7777777777777778,
              "#fb9f3a"
             ],
             [
              0.8888888888888888,
              "#fdca26"
             ],
             [
              1,
              "#f0f921"
             ]
            ],
            "type": "histogram2dcontour"
           }
          ],
          "mesh3d": [
           {
            "colorbar": {
             "outlinewidth": 0,
             "ticks": ""
            },
            "type": "mesh3d"
           }
          ],
          "parcoords": [
           {
            "line": {
             "colorbar": {
              "outlinewidth": 0,
              "ticks": ""
             }
            },
            "type": "parcoords"
           }
          ],
          "pie": [
           {
            "automargin": true,
            "type": "pie"
           }
          ],
          "scatter": [
           {
            "fillpattern": {
             "fillmode": "overlay",
             "size": 10,
             "solidity": 0.2
            },
            "type": "scatter"
           }
          ],
          "scatter3d": [
           {
            "line": {
             "colorbar": {
              "outlinewidth": 0,
              "ticks": ""
             }
            },
            "marker": {
             "colorbar": {
              "outlinewidth": 0,
              "ticks": ""
             }
            },
            "type": "scatter3d"
           }
          ],
          "scattercarpet": [
           {
            "marker": {
             "colorbar": {
              "outlinewidth": 0,
              "ticks": ""
             }
            },
            "type": "scattercarpet"
           }
          ],
          "scattergeo": [
           {
            "marker": {
             "colorbar": {
              "outlinewidth": 0,
              "ticks": ""
             }
            },
            "type": "scattergeo"
           }
          ],
          "scattergl": [
           {
            "marker": {
             "colorbar": {
              "outlinewidth": 0,
              "ticks": ""
             }
            },
            "type": "scattergl"
           }
          ],
          "scattermapbox": [
           {
            "marker": {
             "colorbar": {
              "outlinewidth": 0,
              "ticks": ""
             }
            },
            "type": "scattermapbox"
           }
          ],
          "scatterpolar": [
           {
            "marker": {
             "colorbar": {
              "outlinewidth": 0,
              "ticks": ""
             }
            },
            "type": "scatterpolar"
           }
          ],
          "scatterpolargl": [
           {
            "marker": {
             "colorbar": {
              "outlinewidth": 0,
              "ticks": ""
             }
            },
            "type": "scatterpolargl"
           }
          ],
          "scatterternary": [
           {
            "marker": {
             "colorbar": {
              "outlinewidth": 0,
              "ticks": ""
             }
            },
            "type": "scatterternary"
           }
          ],
          "surface": [
           {
            "colorbar": {
             "outlinewidth": 0,
             "ticks": ""
            },
            "colorscale": [
             [
              0,
              "#0d0887"
             ],
             [
              0.1111111111111111,
              "#46039f"
             ],
             [
              0.2222222222222222,
              "#7201a8"
             ],
             [
              0.3333333333333333,
              "#9c179e"
             ],
             [
              0.4444444444444444,
              "#bd3786"
             ],
             [
              0.5555555555555556,
              "#d8576b"
             ],
             [
              0.6666666666666666,
              "#ed7953"
             ],
             [
              0.7777777777777778,
              "#fb9f3a"
             ],
             [
              0.8888888888888888,
              "#fdca26"
             ],
             [
              1,
              "#f0f921"
             ]
            ],
            "type": "surface"
           }
          ],
          "table": [
           {
            "cells": {
             "fill": {
              "color": "#EBF0F8"
             },
             "line": {
              "color": "white"
             }
            },
            "header": {
             "fill": {
              "color": "#C8D4E3"
             },
             "line": {
              "color": "white"
             }
            },
            "type": "table"
           }
          ]
         },
         "layout": {
          "annotationdefaults": {
           "arrowcolor": "#2a3f5f",
           "arrowhead": 0,
           "arrowwidth": 1
          },
          "autotypenumbers": "strict",
          "coloraxis": {
           "colorbar": {
            "outlinewidth": 0,
            "ticks": ""
           }
          },
          "colorscale": {
           "diverging": [
            [
             0,
             "#8e0152"
            ],
            [
             0.1,
             "#c51b7d"
            ],
            [
             0.2,
             "#de77ae"
            ],
            [
             0.3,
             "#f1b6da"
            ],
            [
             0.4,
             "#fde0ef"
            ],
            [
             0.5,
             "#f7f7f7"
            ],
            [
             0.6,
             "#e6f5d0"
            ],
            [
             0.7,
             "#b8e186"
            ],
            [
             0.8,
             "#7fbc41"
            ],
            [
             0.9,
             "#4d9221"
            ],
            [
             1,
             "#276419"
            ]
           ],
           "sequential": [
            [
             0,
             "#0d0887"
            ],
            [
             0.1111111111111111,
             "#46039f"
            ],
            [
             0.2222222222222222,
             "#7201a8"
            ],
            [
             0.3333333333333333,
             "#9c179e"
            ],
            [
             0.4444444444444444,
             "#bd3786"
            ],
            [
             0.5555555555555556,
             "#d8576b"
            ],
            [
             0.6666666666666666,
             "#ed7953"
            ],
            [
             0.7777777777777778,
             "#fb9f3a"
            ],
            [
             0.8888888888888888,
             "#fdca26"
            ],
            [
             1,
             "#f0f921"
            ]
           ],
           "sequentialminus": [
            [
             0,
             "#0d0887"
            ],
            [
             0.1111111111111111,
             "#46039f"
            ],
            [
             0.2222222222222222,
             "#7201a8"
            ],
            [
             0.3333333333333333,
             "#9c179e"
            ],
            [
             0.4444444444444444,
             "#bd3786"
            ],
            [
             0.5555555555555556,
             "#d8576b"
            ],
            [
             0.6666666666666666,
             "#ed7953"
            ],
            [
             0.7777777777777778,
             "#fb9f3a"
            ],
            [
             0.8888888888888888,
             "#fdca26"
            ],
            [
             1,
             "#f0f921"
            ]
           ]
          },
          "colorway": [
           "#636efa",
           "#EF553B",
           "#00cc96",
           "#ab63fa",
           "#FFA15A",
           "#19d3f3",
           "#FF6692",
           "#B6E880",
           "#FF97FF",
           "#FECB52"
          ],
          "font": {
           "color": "#2a3f5f"
          },
          "geo": {
           "bgcolor": "white",
           "lakecolor": "white",
           "landcolor": "#E5ECF6",
           "showlakes": true,
           "showland": true,
           "subunitcolor": "white"
          },
          "hoverlabel": {
           "align": "left"
          },
          "hovermode": "closest",
          "mapbox": {
           "style": "light"
          },
          "paper_bgcolor": "white",
          "plot_bgcolor": "#E5ECF6",
          "polar": {
           "angularaxis": {
            "gridcolor": "white",
            "linecolor": "white",
            "ticks": ""
           },
           "bgcolor": "#E5ECF6",
           "radialaxis": {
            "gridcolor": "white",
            "linecolor": "white",
            "ticks": ""
           }
          },
          "scene": {
           "xaxis": {
            "backgroundcolor": "#E5ECF6",
            "gridcolor": "white",
            "gridwidth": 2,
            "linecolor": "white",
            "showbackground": true,
            "ticks": "",
            "zerolinecolor": "white"
           },
           "yaxis": {
            "backgroundcolor": "#E5ECF6",
            "gridcolor": "white",
            "gridwidth": 2,
            "linecolor": "white",
            "showbackground": true,
            "ticks": "",
            "zerolinecolor": "white"
           },
           "zaxis": {
            "backgroundcolor": "#E5ECF6",
            "gridcolor": "white",
            "gridwidth": 2,
            "linecolor": "white",
            "showbackground": true,
            "ticks": "",
            "zerolinecolor": "white"
           }
          },
          "shapedefaults": {
           "line": {
            "color": "#2a3f5f"
           }
          },
          "ternary": {
           "aaxis": {
            "gridcolor": "white",
            "linecolor": "white",
            "ticks": ""
           },
           "baxis": {
            "gridcolor": "white",
            "linecolor": "white",
            "ticks": ""
           },
           "bgcolor": "#E5ECF6",
           "caxis": {
            "gridcolor": "white",
            "linecolor": "white",
            "ticks": ""
           }
          },
          "title": {
           "x": 0.05
          },
          "xaxis": {
           "automargin": true,
           "gridcolor": "white",
           "linecolor": "white",
           "ticks": "",
           "title": {
            "standoff": 15
           },
           "zerolinecolor": "white",
           "zerolinewidth": 2
          },
          "yaxis": {
           "automargin": true,
           "gridcolor": "white",
           "linecolor": "white",
           "ticks": "",
           "title": {
            "standoff": 15
           },
           "zerolinecolor": "white",
           "zerolinewidth": 2
          }
         }
        }
       }
      }
     },
     "metadata": {},
     "output_type": "display_data"
    }
   ],
   "source": [
    "dataset = dataset[dataset['event_type'].notna()]\n",
    "\n",
    "fig = px.scatter_mapbox(dataset,lat='Y',lon='X',color='event_type',zoom=2,height=600)\n",
    "fig.update_layout(mapbox_style='open-street-map')\n",
    "fig.show()"
   ]
  },
  {
   "attachments": {},
   "cell_type": "markdown",
   "metadata": {},
   "source": [
    "The final visualization we created is a graph of the number of tornados in each province. The graphic is stacked by type, each type of tornado is represented by a different color. \n",
    "\n",
    "The Northern Tornados Project defines each type of Tornado like this.\n",
    "\n",
    "- Tornado (Over Land) includes tornados that occur over land at any point during their lifetime.\n",
    "\n",
    "- Tornado (Over Water) includes tornados that occur entirely over water during their lifetime.\n",
    " \n",
    "- Downburst includes microbursts, defined as downbursts with a maximum diameter of 4 km or less.\n",
    "\n",
    "- Non-Tornadic Vortex includes VFCAs (vortex-funnel clouds aloft), sub-tornadic vortices, gustnadoes, and dust devils.\n",
    "\n",
    "- Unclassified Wind Damage is assigned if there is not enough evidence to classify the cause of wind damage as either a tornado or a downburst, and additional evidence is not expected\n",
    "\n",
    "- Unclassified Visual Vortex is assigned if there is not enough evidence to classify a reported vortex as either a tornado or a non-tornadic vortex, and additional evidence is not expected"
   ]
  },
  {
   "cell_type": "code",
   "execution_count": 7,
   "metadata": {},
   "outputs": [
    {
     "data": {
      "application/vnd.plotly.v1+json": {
       "config": {
        "plotlyServerURL": "https://plot.ly"
       },
       "data": [
        {
         "alignmentgroup": "True",
         "hovertemplate": "event_type=Downburst<br>Province=%{x}<br>Number of Tornadoes=%{y}<extra></extra>",
         "legendgroup": "Downburst",
         "marker": {
          "color": "#636efa",
          "pattern": {
           "shape": ""
          }
         },
         "name": "Downburst",
         "offsetgroup": "Downburst",
         "orientation": "v",
         "showlegend": true,
         "textposition": "auto",
         "type": "bar",
         "x": [
          "Ontario",
          "Québec",
          "Alberta",
          "Saskatchewan",
          "British Columbia",
          "Manitoba",
          "New Brunswick / Nouveau-Brunswick",
          "Nova Scotia",
          "Northwest Territories"
         ],
         "xaxis": "x",
         "y": [
          199,
          40,
          36,
          31,
          21,
          15,
          7,
          2,
          1
         ],
         "yaxis": "y"
        },
        {
         "alignmentgroup": "True",
         "hovertemplate": "event_type=Tornado (Land)<br>Province=%{x}<br>Number of Tornadoes=%{y}<extra></extra>",
         "legendgroup": "Tornado (Land)",
         "marker": {
          "color": "#EF553B",
          "pattern": {
           "shape": ""
          }
         },
         "name": "Tornado (Land)",
         "offsetgroup": "Tornado (Land)",
         "orientation": "v",
         "showlegend": true,
         "textposition": "auto",
         "type": "bar",
         "x": [
          "Ontario",
          "Québec",
          "Saskatchewan",
          "Alberta",
          "Manitoba",
          "British Columbia",
          "Nova Scotia",
          "Northwest Territories",
          "New Brunswick / Nouveau-Brunswick"
         ],
         "xaxis": "x",
         "y": [
          192,
          137,
          88,
          59,
          28,
          6,
          2,
          1,
          1
         ],
         "yaxis": "y"
        },
        {
         "alignmentgroup": "True",
         "hovertemplate": "event_type=Vortex<br>Province=%{x}<br>Number of Tornadoes=%{y}<extra></extra>",
         "legendgroup": "Vortex",
         "marker": {
          "color": "#00cc96",
          "pattern": {
           "shape": ""
          }
         },
         "name": "Vortex",
         "offsetgroup": "Vortex",
         "orientation": "v",
         "showlegend": true,
         "textposition": "auto",
         "type": "bar",
         "x": [
          "Alberta",
          "Ontario",
          "Saskatchewan",
          "Manitoba",
          "British Columbia",
          "Québec",
          "New Brunswick / Nouveau-Brunswick",
          "Prince Edward Island"
         ],
         "xaxis": "x",
         "y": [
          83,
          56,
          48,
          33,
          12,
          9,
          2,
          1
         ],
         "yaxis": "y"
        },
        {
         "alignmentgroup": "True",
         "hovertemplate": "event_type=Tornado (Water)<br>Province=%{x}<br>Number of Tornadoes=%{y}<extra></extra>",
         "legendgroup": "Tornado (Water)",
         "marker": {
          "color": "#ab63fa",
          "pattern": {
           "shape": ""
          }
         },
         "name": "Tornado (Water)",
         "offsetgroup": "Tornado (Water)",
         "orientation": "v",
         "showlegend": true,
         "textposition": "auto",
         "type": "bar",
         "x": [
          "Ontario",
          "Manitoba",
          "British Columbia",
          "Saskatchewan",
          "Newfoundland and Labrador",
          "New Brunswick / Nouveau-Brunswick"
         ],
         "xaxis": "x",
         "y": [
          64,
          6,
          5,
          2,
          1,
          1
         ],
         "yaxis": "y"
        },
        {
         "alignmentgroup": "True",
         "hovertemplate": "event_type=Visual Vortex (Unclassified)<br>Province=%{x}<br>Number of Tornadoes=%{y}<extra></extra>",
         "legendgroup": "Visual Vortex (Unclassified)",
         "marker": {
          "color": "#FFA15A",
          "pattern": {
           "shape": ""
          }
         },
         "name": "Visual Vortex (Unclassified)",
         "offsetgroup": "Visual Vortex (Unclassified)",
         "orientation": "v",
         "showlegend": true,
         "textposition": "auto",
         "type": "bar",
         "x": [
          "Ontario",
          "Alberta",
          "Saskatchewan",
          "Manitoba",
          "Québec",
          "British Columbia",
          "New Brunswick / Nouveau-Brunswick",
          "Nova Scotia"
         ],
         "xaxis": "x",
         "y": [
          33,
          25,
          13,
          10,
          10,
          4,
          2,
          1
         ],
         "yaxis": "y"
        },
        {
         "alignmentgroup": "True",
         "hovertemplate": "event_type=Wind Damage (Unclassified)<br>Province=%{x}<br>Number of Tornadoes=%{y}<extra></extra>",
         "legendgroup": "Wind Damage (Unclassified)",
         "marker": {
          "color": "#19d3f3",
          "pattern": {
           "shape": ""
          }
         },
         "name": "Wind Damage (Unclassified)",
         "offsetgroup": "Wind Damage (Unclassified)",
         "orientation": "v",
         "showlegend": true,
         "textposition": "auto",
         "type": "bar",
         "x": [
          "Ontario",
          "Québec",
          "Saskatchewan",
          "Manitoba",
          "Alberta",
          "Yukon"
         ],
         "xaxis": "x",
         "y": [
          33,
          13,
          11,
          8,
          4,
          1
         ],
         "yaxis": "y"
        }
       ],
       "layout": {
        "barmode": "relative",
        "legend": {
         "title": {
          "text": "event_type"
         },
         "tracegroupgap": 0
        },
        "template": {
         "data": {
          "bar": [
           {
            "error_x": {
             "color": "#2a3f5f"
            },
            "error_y": {
             "color": "#2a3f5f"
            },
            "marker": {
             "line": {
              "color": "#E5ECF6",
              "width": 0.5
             },
             "pattern": {
              "fillmode": "overlay",
              "size": 10,
              "solidity": 0.2
             }
            },
            "type": "bar"
           }
          ],
          "barpolar": [
           {
            "marker": {
             "line": {
              "color": "#E5ECF6",
              "width": 0.5
             },
             "pattern": {
              "fillmode": "overlay",
              "size": 10,
              "solidity": 0.2
             }
            },
            "type": "barpolar"
           }
          ],
          "carpet": [
           {
            "aaxis": {
             "endlinecolor": "#2a3f5f",
             "gridcolor": "white",
             "linecolor": "white",
             "minorgridcolor": "white",
             "startlinecolor": "#2a3f5f"
            },
            "baxis": {
             "endlinecolor": "#2a3f5f",
             "gridcolor": "white",
             "linecolor": "white",
             "minorgridcolor": "white",
             "startlinecolor": "#2a3f5f"
            },
            "type": "carpet"
           }
          ],
          "choropleth": [
           {
            "colorbar": {
             "outlinewidth": 0,
             "ticks": ""
            },
            "type": "choropleth"
           }
          ],
          "contour": [
           {
            "colorbar": {
             "outlinewidth": 0,
             "ticks": ""
            },
            "colorscale": [
             [
              0,
              "#0d0887"
             ],
             [
              0.1111111111111111,
              "#46039f"
             ],
             [
              0.2222222222222222,
              "#7201a8"
             ],
             [
              0.3333333333333333,
              "#9c179e"
             ],
             [
              0.4444444444444444,
              "#bd3786"
             ],
             [
              0.5555555555555556,
              "#d8576b"
             ],
             [
              0.6666666666666666,
              "#ed7953"
             ],
             [
              0.7777777777777778,
              "#fb9f3a"
             ],
             [
              0.8888888888888888,
              "#fdca26"
             ],
             [
              1,
              "#f0f921"
             ]
            ],
            "type": "contour"
           }
          ],
          "contourcarpet": [
           {
            "colorbar": {
             "outlinewidth": 0,
             "ticks": ""
            },
            "type": "contourcarpet"
           }
          ],
          "heatmap": [
           {
            "colorbar": {
             "outlinewidth": 0,
             "ticks": ""
            },
            "colorscale": [
             [
              0,
              "#0d0887"
             ],
             [
              0.1111111111111111,
              "#46039f"
             ],
             [
              0.2222222222222222,
              "#7201a8"
             ],
             [
              0.3333333333333333,
              "#9c179e"
             ],
             [
              0.4444444444444444,
              "#bd3786"
             ],
             [
              0.5555555555555556,
              "#d8576b"
             ],
             [
              0.6666666666666666,
              "#ed7953"
             ],
             [
              0.7777777777777778,
              "#fb9f3a"
             ],
             [
              0.8888888888888888,
              "#fdca26"
             ],
             [
              1,
              "#f0f921"
             ]
            ],
            "type": "heatmap"
           }
          ],
          "heatmapgl": [
           {
            "colorbar": {
             "outlinewidth": 0,
             "ticks": ""
            },
            "colorscale": [
             [
              0,
              "#0d0887"
             ],
             [
              0.1111111111111111,
              "#46039f"
             ],
             [
              0.2222222222222222,
              "#7201a8"
             ],
             [
              0.3333333333333333,
              "#9c179e"
             ],
             [
              0.4444444444444444,
              "#bd3786"
             ],
             [
              0.5555555555555556,
              "#d8576b"
             ],
             [
              0.6666666666666666,
              "#ed7953"
             ],
             [
              0.7777777777777778,
              "#fb9f3a"
             ],
             [
              0.8888888888888888,
              "#fdca26"
             ],
             [
              1,
              "#f0f921"
             ]
            ],
            "type": "heatmapgl"
           }
          ],
          "histogram": [
           {
            "marker": {
             "pattern": {
              "fillmode": "overlay",
              "size": 10,
              "solidity": 0.2
             }
            },
            "type": "histogram"
           }
          ],
          "histogram2d": [
           {
            "colorbar": {
             "outlinewidth": 0,
             "ticks": ""
            },
            "colorscale": [
             [
              0,
              "#0d0887"
             ],
             [
              0.1111111111111111,
              "#46039f"
             ],
             [
              0.2222222222222222,
              "#7201a8"
             ],
             [
              0.3333333333333333,
              "#9c179e"
             ],
             [
              0.4444444444444444,
              "#bd3786"
             ],
             [
              0.5555555555555556,
              "#d8576b"
             ],
             [
              0.6666666666666666,
              "#ed7953"
             ],
             [
              0.7777777777777778,
              "#fb9f3a"
             ],
             [
              0.8888888888888888,
              "#fdca26"
             ],
             [
              1,
              "#f0f921"
             ]
            ],
            "type": "histogram2d"
           }
          ],
          "histogram2dcontour": [
           {
            "colorbar": {
             "outlinewidth": 0,
             "ticks": ""
            },
            "colorscale": [
             [
              0,
              "#0d0887"
             ],
             [
              0.1111111111111111,
              "#46039f"
             ],
             [
              0.2222222222222222,
              "#7201a8"
             ],
             [
              0.3333333333333333,
              "#9c179e"
             ],
             [
              0.4444444444444444,
              "#bd3786"
             ],
             [
              0.5555555555555556,
              "#d8576b"
             ],
             [
              0.6666666666666666,
              "#ed7953"
             ],
             [
              0.7777777777777778,
              "#fb9f3a"
             ],
             [
              0.8888888888888888,
              "#fdca26"
             ],
             [
              1,
              "#f0f921"
             ]
            ],
            "type": "histogram2dcontour"
           }
          ],
          "mesh3d": [
           {
            "colorbar": {
             "outlinewidth": 0,
             "ticks": ""
            },
            "type": "mesh3d"
           }
          ],
          "parcoords": [
           {
            "line": {
             "colorbar": {
              "outlinewidth": 0,
              "ticks": ""
             }
            },
            "type": "parcoords"
           }
          ],
          "pie": [
           {
            "automargin": true,
            "type": "pie"
           }
          ],
          "scatter": [
           {
            "fillpattern": {
             "fillmode": "overlay",
             "size": 10,
             "solidity": 0.2
            },
            "type": "scatter"
           }
          ],
          "scatter3d": [
           {
            "line": {
             "colorbar": {
              "outlinewidth": 0,
              "ticks": ""
             }
            },
            "marker": {
             "colorbar": {
              "outlinewidth": 0,
              "ticks": ""
             }
            },
            "type": "scatter3d"
           }
          ],
          "scattercarpet": [
           {
            "marker": {
             "colorbar": {
              "outlinewidth": 0,
              "ticks": ""
             }
            },
            "type": "scattercarpet"
           }
          ],
          "scattergeo": [
           {
            "marker": {
             "colorbar": {
              "outlinewidth": 0,
              "ticks": ""
             }
            },
            "type": "scattergeo"
           }
          ],
          "scattergl": [
           {
            "marker": {
             "colorbar": {
              "outlinewidth": 0,
              "ticks": ""
             }
            },
            "type": "scattergl"
           }
          ],
          "scattermapbox": [
           {
            "marker": {
             "colorbar": {
              "outlinewidth": 0,
              "ticks": ""
             }
            },
            "type": "scattermapbox"
           }
          ],
          "scatterpolar": [
           {
            "marker": {
             "colorbar": {
              "outlinewidth": 0,
              "ticks": ""
             }
            },
            "type": "scatterpolar"
           }
          ],
          "scatterpolargl": [
           {
            "marker": {
             "colorbar": {
              "outlinewidth": 0,
              "ticks": ""
             }
            },
            "type": "scatterpolargl"
           }
          ],
          "scatterternary": [
           {
            "marker": {
             "colorbar": {
              "outlinewidth": 0,
              "ticks": ""
             }
            },
            "type": "scatterternary"
           }
          ],
          "surface": [
           {
            "colorbar": {
             "outlinewidth": 0,
             "ticks": ""
            },
            "colorscale": [
             [
              0,
              "#0d0887"
             ],
             [
              0.1111111111111111,
              "#46039f"
             ],
             [
              0.2222222222222222,
              "#7201a8"
             ],
             [
              0.3333333333333333,
              "#9c179e"
             ],
             [
              0.4444444444444444,
              "#bd3786"
             ],
             [
              0.5555555555555556,
              "#d8576b"
             ],
             [
              0.6666666666666666,
              "#ed7953"
             ],
             [
              0.7777777777777778,
              "#fb9f3a"
             ],
             [
              0.8888888888888888,
              "#fdca26"
             ],
             [
              1,
              "#f0f921"
             ]
            ],
            "type": "surface"
           }
          ],
          "table": [
           {
            "cells": {
             "fill": {
              "color": "#EBF0F8"
             },
             "line": {
              "color": "white"
             }
            },
            "header": {
             "fill": {
              "color": "#C8D4E3"
             },
             "line": {
              "color": "white"
             }
            },
            "type": "table"
           }
          ]
         },
         "layout": {
          "annotationdefaults": {
           "arrowcolor": "#2a3f5f",
           "arrowhead": 0,
           "arrowwidth": 1
          },
          "autotypenumbers": "strict",
          "coloraxis": {
           "colorbar": {
            "outlinewidth": 0,
            "ticks": ""
           }
          },
          "colorscale": {
           "diverging": [
            [
             0,
             "#8e0152"
            ],
            [
             0.1,
             "#c51b7d"
            ],
            [
             0.2,
             "#de77ae"
            ],
            [
             0.3,
             "#f1b6da"
            ],
            [
             0.4,
             "#fde0ef"
            ],
            [
             0.5,
             "#f7f7f7"
            ],
            [
             0.6,
             "#e6f5d0"
            ],
            [
             0.7,
             "#b8e186"
            ],
            [
             0.8,
             "#7fbc41"
            ],
            [
             0.9,
             "#4d9221"
            ],
            [
             1,
             "#276419"
            ]
           ],
           "sequential": [
            [
             0,
             "#0d0887"
            ],
            [
             0.1111111111111111,
             "#46039f"
            ],
            [
             0.2222222222222222,
             "#7201a8"
            ],
            [
             0.3333333333333333,
             "#9c179e"
            ],
            [
             0.4444444444444444,
             "#bd3786"
            ],
            [
             0.5555555555555556,
             "#d8576b"
            ],
            [
             0.6666666666666666,
             "#ed7953"
            ],
            [
             0.7777777777777778,
             "#fb9f3a"
            ],
            [
             0.8888888888888888,
             "#fdca26"
            ],
            [
             1,
             "#f0f921"
            ]
           ],
           "sequentialminus": [
            [
             0,
             "#0d0887"
            ],
            [
             0.1111111111111111,
             "#46039f"
            ],
            [
             0.2222222222222222,
             "#7201a8"
            ],
            [
             0.3333333333333333,
             "#9c179e"
            ],
            [
             0.4444444444444444,
             "#bd3786"
            ],
            [
             0.5555555555555556,
             "#d8576b"
            ],
            [
             0.6666666666666666,
             "#ed7953"
            ],
            [
             0.7777777777777778,
             "#fb9f3a"
            ],
            [
             0.8888888888888888,
             "#fdca26"
            ],
            [
             1,
             "#f0f921"
            ]
           ]
          },
          "colorway": [
           "#636efa",
           "#EF553B",
           "#00cc96",
           "#ab63fa",
           "#FFA15A",
           "#19d3f3",
           "#FF6692",
           "#B6E880",
           "#FF97FF",
           "#FECB52"
          ],
          "font": {
           "color": "#2a3f5f"
          },
          "geo": {
           "bgcolor": "white",
           "lakecolor": "white",
           "landcolor": "#E5ECF6",
           "showlakes": true,
           "showland": true,
           "subunitcolor": "white"
          },
          "hoverlabel": {
           "align": "left"
          },
          "hovermode": "closest",
          "mapbox": {
           "style": "light"
          },
          "paper_bgcolor": "white",
          "plot_bgcolor": "#E5ECF6",
          "polar": {
           "angularaxis": {
            "gridcolor": "white",
            "linecolor": "white",
            "ticks": ""
           },
           "bgcolor": "#E5ECF6",
           "radialaxis": {
            "gridcolor": "white",
            "linecolor": "white",
            "ticks": ""
           }
          },
          "scene": {
           "xaxis": {
            "backgroundcolor": "#E5ECF6",
            "gridcolor": "white",
            "gridwidth": 2,
            "linecolor": "white",
            "showbackground": true,
            "ticks": "",
            "zerolinecolor": "white"
           },
           "yaxis": {
            "backgroundcolor": "#E5ECF6",
            "gridcolor": "white",
            "gridwidth": 2,
            "linecolor": "white",
            "showbackground": true,
            "ticks": "",
            "zerolinecolor": "white"
           },
           "zaxis": {
            "backgroundcolor": "#E5ECF6",
            "gridcolor": "white",
            "gridwidth": 2,
            "linecolor": "white",
            "showbackground": true,
            "ticks": "",
            "zerolinecolor": "white"
           }
          },
          "shapedefaults": {
           "line": {
            "color": "#2a3f5f"
           }
          },
          "ternary": {
           "aaxis": {
            "gridcolor": "white",
            "linecolor": "white",
            "ticks": ""
           },
           "baxis": {
            "gridcolor": "white",
            "linecolor": "white",
            "ticks": ""
           },
           "bgcolor": "#E5ECF6",
           "caxis": {
            "gridcolor": "white",
            "linecolor": "white",
            "ticks": ""
           }
          },
          "title": {
           "x": 0.05
          },
          "xaxis": {
           "automargin": true,
           "gridcolor": "white",
           "linecolor": "white",
           "ticks": "",
           "title": {
            "standoff": 15
           },
           "zerolinecolor": "white",
           "zerolinewidth": 2
          },
          "yaxis": {
           "automargin": true,
           "gridcolor": "white",
           "linecolor": "white",
           "ticks": "",
           "title": {
            "standoff": 15
           },
           "zerolinecolor": "white",
           "zerolinewidth": 2
          }
         }
        },
        "title": {
         "text": "Number of Tornadoes in each province"
        },
        "xaxis": {
         "anchor": "y",
         "domain": [
          0,
          1
         ],
         "title": {
          "text": "Province"
         }
        },
        "yaxis": {
         "anchor": "x",
         "domain": [
          0,
          1
         ],
         "title": {
          "text": "Number of Tornadoes"
         }
        }
       }
      }
     },
     "metadata": {},
     "output_type": "display_data"
    }
   ],
   "source": [
    "by_province = dataset.groupby(['Province','event_type'])['Year'].count().reset_index(name='Number of Tornados')\n",
    "by_province.sort_values('Number of Tornados',ascending=False,inplace=True)\n",
    "px.bar(by_province,x='Province',y='Number of Tornados',color='event_type',title='Number of Tornados in each province')"
   ]
  },
  {
   "attachments": {},
   "cell_type": "markdown",
   "metadata": {},
   "source": [
    "## Interpret\n",
    "\n",
    "Ontario has the highest number of tornaodes which may make sense because of the large land mass in that probvince. It looks like Quebec has the next highest frequency of tornados but Alberta, Saskatchewan and Manitobia \n",
    "\n",
    "\n",
    "## Reflect on What You See\n",
    "\n",
    "After making your visualization the next step is to use the data and your visualization to answer the question. Look at and interact with the visualization above. When you hover your mouse over the plots, you’ll notice more information appears. You can also use the legend to make plots appear and disappear.\n",
    "\n",
    "Think about the following questions.\n",
    "\n",
    "What do you notice about these graphs?\n",
    "What do you wonder about the data?\n",
    "What kind of inferences can you make based on this data?\n",
    "Is there another way to visualize this data that would change your inerpretation of the information?\n",
    "\n",
    "Did some years seem to have more tornados than other years?\n",
    "Did some times of year have more tornados than other times of year?\n",
    "Were some parts of the country more likely to have tornaods than others?\n",
    "\n",
    "Use the fill-in-the-blank prompts to summarize your thoughts.\n",
    "\"I used to think _______\"\n",
    "\"Now I think _______\"\n",
    "\"I wish I knew more about _______\"\n",
    "\"These data visualizations remind me of _______\"\n",
    "\"I really like _______\"\n",
    "\n",
    "## Communicate \n",
    "\n",
    "If you have not yet done this use the plot to answer our question on which natural disaster was the most expensive. Once we understand the costs of natural disasters how can we use that information?\n",
    "\n",
    "How can you communicate that information? What kind of product could you create to share that information with your school community and wider community?"
   ]
  },
  {
   "attachments": {},
   "cell_type": "markdown",
   "metadata": {},
   "source": [
    "[![Callysto.ca License](https://github.com/callysto/curriculum-notebooks/blob/master/callysto-notebook-banner-bottom.jpg?raw=true)](https://github.com/callysto/curriculum-notebooks/blob/master/LICENSE.md)"
   ]
  }
 ],
 "metadata": {
  "kernelspec": {
   "display_name": "Python 3",
   "language": "python",
   "name": "python3"
  },
  "language_info": {
   "codemirror_mode": {
    "name": "ipython",
    "version": 3
   },
   "file_extension": ".py",
   "mimetype": "text/x-python",
   "name": "python",
   "nbconvert_exporter": "python",
   "pygments_lexer": "ipython3",
   "version": "3.10.8"
  },
  "orig_nbformat": 4
 },
 "nbformat": 4,
 "nbformat_minor": 2
}
