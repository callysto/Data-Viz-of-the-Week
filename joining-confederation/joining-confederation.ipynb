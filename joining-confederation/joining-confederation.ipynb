{
 "cells": [
  {
   "cell_type": "markdown",
   "metadata": {},
   "source": [
    "![Callysto.ca Banner](https://github.com/callysto/curriculum-notebooks/blob/master/callysto-notebook-banner-top.jpg?raw=true)\n",
    "\n",
    "<a href=\"https://hub.callysto.ca/jupyter/hub/user-redirect/git-pull?repo=https%3A%2F%2Fgithub.com%2Fcallysto%2Fdata-viz-of-the-week&branch=main&subPath=joining-confederation/joining-confederation.ipynb&depth=1\" target=\"_parent\"><img src=\"https://raw.githubusercontent.com/callysto/curriculum-notebooks/master/open-in-callysto-button.svg?sanitize=true\" width=\"123\" height=\"24\" alt=\"Open in Callysto\"/></a>"
   ]
  },
  {
   "cell_type": "markdown",
   "metadata": {},
   "source": [
    "# Callysto’s Weekly Data Visualization\n",
    "\n",
    "## Joining Canadian Confederation\n",
    "\n",
    "### Recommended Grade Levels: 5, 7"
   ]
  },
  {
   "cell_type": "markdown",
   "metadata": {},
   "source": [
    "### Instructions\n",
    "#### “Run” the cells to see the graph\n",
    "\n",
    "Click “Cell” and select “Run All”.\n",
    "\n",
    "This will import the data and run all the code, so you can see this week's data visualization. Scroll to the top after you’ve run the cells.<br> \n",
    "\n",
    "![instructions](https://github.com/callysto/data-viz-of-the-week/blob/main/images/instructions.png?raw=true)\n",
    "\n",
    "**You don’t need to do any coding to view the visualizations**.\n",
    "The plots generated in this notebook are interactive. You can hover over and click on elements to see more information. \n",
    "\n",
    "Email contact@callysto.ca if you experience issues."
   ]
  },
  {
   "cell_type": "markdown",
   "metadata": {},
   "source": [
    "### About this Notebook\n",
    "\n",
    "Callysto's Weekly Data Visualization is a learning resource that aims to develop data literacy skills. We provide Grades 5-12 teachers and students with a data visualization, like a graph, to interpret. This companion resource walks learners through how the data visualization is created and interpreted by a data scientist. \n",
    "\n",
    "The steps of the data analysis process are listed below and applied to each weekly topic.\n",
    "\n",
    "1. Question - What are we trying to answer? \n",
    "2. Gather - Find the data source(s) you will need. \n",
    "3. Organize - Arrange the data, so that you can easily explore it. \n",
    "4. Explore - Examine the data to look for evidence to answer the question. This includes creating visualizations. \n",
    "5. Interpret - Describe what's happening in the data visualization. \n",
    "6. Communicate - Explain how the evidence answers the question. "
   ]
  },
  {
   "cell_type": "markdown",
   "metadata": {},
   "source": [
    "# Question\n",
    "July 1st, 1867, marks an important date in Canadian history - It is the day of Canadian Concferation. Canadian Confederation joined three British North American provinces into one: the Dominion of Canada. After Confederation, Canada was divided into four provinces: Ontario, Quebec, Nova Scotia and New Brunswick. After 155 years, Canada is now composed of ten provices and three territories. The ten provinces of nowadays was finalized in April 1st, 1999, with the birth of Nunavut. However, *what really happened* between July 1st, 1867 and April 1st, 1999? We would like to break down detailed a timeline outlining events happened throughout Canadian Confederation."
   ]
  },
  {
   "cell_type": "markdown",
   "metadata": {},
   "source": [
    "### Goal\n",
    "In this notebook, we will create a timeline for Canadian Confederation, indicating when each province agreed to join the Confederation. "
   ]
  },
  {
   "cell_type": "markdown",
   "metadata": {},
   "source": [
    "# Gather\n",
    "### Code:\n",
    "\n",
    "The following code cell will read a data table from the [Wikipedia page about Canadian Confederation](https://en.wikipedia.org/wiki/Canadian_Confederation) so that we can create a timeline of provinces and territories joining Confederation."
   ]
  },
  {
   "cell_type": "code",
   "execution_count": null,
   "metadata": {},
   "outputs": [],
   "source": [
    "import pandas as pd\n",
    "from datetime import datetime\n",
    "import numpy as np\n",
    "import plotly.express as px\n",
    "from urllib.error import HTTPError"
   ]
  },
  {
   "cell_type": "markdown",
   "metadata": {},
   "source": [
    "### Import the data"
   ]
  },
  {
   "cell_type": "code",
   "execution_count": null,
   "metadata": {},
   "outputs": [],
   "source": [
    "# Import data using except-try statement to check for HTTPError\n",
    "try:\n",
    "    df = pd.read_html('https://en.wikipedia.org/wiki/Canadian_Confederation')[2]\n",
    "except (HTTPError):\n",
    "    print (\"Original html resource has been reformatted. Unable to load table.\")\n",
    "\n",
    "df"
   ]
  },
  {
   "cell_type": "markdown",
   "metadata": {},
   "source": [
    "### Comment on the data\n",
    "This data is derived from the Wikipedia webpage and reviewed by the try-except statement. If the original data is reformatted the code above may raise an error. If data is successfully loaded, the data table is seen to contain 12 rows and 3 columns."
   ]
  },
  {
   "cell_type": "markdown",
   "metadata": {},
   "source": [
    "# Organize\n",
    "\n",
    "To clean up the data we want to remove the citation marks `[]` and convert the dates to the proper format using `datetime` library. We will name the new column with dates as `Start Date`. We also need an end date for the visualization, which will be today. Hence we name the new column as `Today`. The new columns, `Start Date` and `Today`, will be used in creating a timeline which we will see shotly. "
   ]
  },
  {
   "cell_type": "code",
   "execution_count": null,
   "metadata": {},
   "outputs": [],
   "source": [
    "df[\"Name\"] = df[\"Name\"].str.extract(\"([A-Za-z ]+)\")\n",
    "df[\"Start Date\"] = pd.to_datetime(df.Date)\n",
    "df[\"Today\"] = datetime.now()\n",
    "df"
   ]
  },
  {
   "cell_type": "markdown",
   "metadata": {},
   "source": [
    "# Explore\n",
    "\n",
    "We can now use the [Plotly Express](https://plotly.com/python/plotly-express/) code library to create a timeline visualization. Here, we used **horizontal bar graph** to depict dates on x-axis, and names of provinces on y-axis. This graph allows us to directly compare the dates in which provinces joined Canadian Confederation."
   ]
  },
  {
   "cell_type": "code",
   "execution_count": null,
   "metadata": {},
   "outputs": [],
   "source": [
    "fig1 = px.timeline(df, x_start='Start Date', x_end='Today', y='Name', color='Date', title='Joining Canadian Confederation').update_yaxes(autorange=\"reversed\")\n",
    "fig1.show()"
   ]
  },
  {
   "cell_type": "markdown",
   "metadata": {},
   "source": [
    "# Interpret\n",
    "Based on the timeline we created, we can observe that Nunavut is the last country to join Canadian Confederation. In addition, we confirm that four provinces joined Canadian Confederation at first: Quebec, Ontario, Nova Scotia, New Brunswick. This is in accordance with our initial investigation about Canadian Confederation, therefore we assume that our timeline indeed depicts correct passages of time. "
   ]
  },
  {
   "cell_type": "markdown",
   "metadata": {},
   "source": [
    "# Communicate\n",
    "Below are some writing prompts to help you reflect on the new information that is presented from the data. When we look at the evidence, think about what you perceive about the information. Is this perception based on what the evidence shows? If others were to view it, what perceptions might they have?\n",
    "\n",
    "- I used to think ____________________ but now I think ____________________. \n",
    "- I wish I knew more about ____________________. \n",
    "- This visualization reminds me of ____________________. \n",
    "- I really like ____________________."
   ]
  },
  {
   "cell_type": "markdown",
   "metadata": {},
   "source": [
    "[![Callysto.ca License](https://github.com/callysto/curriculum-notebooks/blob/master/callysto-notebook-banner-bottom.jpg?raw=true)](https://github.com/callysto/curriculum-notebooks/blob/master/LICENSE.md)"
   ]
  }
 ],
 "metadata": {
  "interpreter": {
   "hash": "d1ca6d17674200220921376aaeb3d36cffe15ecab2470a9a5e7a456cdbf61425"
  },
  "kernelspec": {
   "display_name": "Python 3 (ipykernel)",
   "language": "python",
   "name": "python3"
  },
  "language_info": {
   "codemirror_mode": {
    "name": "ipython",
    "version": 3
   },
   "file_extension": ".py",
   "mimetype": "text/x-python",
   "name": "python",
   "nbconvert_exporter": "python",
   "pygments_lexer": "ipython3",
   "version": "3.9.12"
  }
 },
 "nbformat": 4,
 "nbformat_minor": 2
}
