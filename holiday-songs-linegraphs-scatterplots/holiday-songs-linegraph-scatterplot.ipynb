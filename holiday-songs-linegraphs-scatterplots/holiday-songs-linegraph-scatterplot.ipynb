{
 "cells": [
  {
   "cell_type": "markdown",
   "metadata": {},
   "source": [
    "![Callysto.ca Banner](https://github.com/callysto/curriculum-notebooks/blob/master/callysto-notebook-banner-top.jpg?raw=true)"
   ]
  },
  {
   "cell_type": "markdown",
   "metadata": {},
   "source": [
    "# Callysto's Weekly Data Visualization\n",
    "## Christmas Tunes Popularity\n",
    "### Reccommended grade level: 6-12\n",
    "\n",
    "### Instructions:\n",
    "#### Step 1 (your only step): “Run” the cells to see the graphs\n",
    "Click “Cell” and select “Run All.” This will import the data and run all the code to make this week's data visualizations (scroll to the top after you’ve run the cells). **You don’t need to do any coding.**\n",
    "\n",
    "![instructions](https://github.com/callysto/data-viz-of-the-week/blob/main/images/instructions.png?raw=true)\n",
    "\n",
    "After a code cell runs, a number appears in the top left corner. If the code cell experiences a technical error some red script will appear below the cell."
   ]
  },
  {
   "cell_type": "markdown",
   "metadata": {},
   "source": [
    "### About This Notebook:\n",
    "\n",
    "Callysto's Weekly Data Visualization is a learning resource that helps Grades 5-12 teachers and students grow and develop data literacy skills. We do this by providing a data visualization, like a graph, and asking teachers and students to interpret it. This companion resource walks learners through how the data visualization is created and interpreted using the data science process. The steps of this process are listed below and applied to each weekly topic.\n",
    "\n",
    "1. Question - What are we trying to answer?\n",
    "2. Gather - Find the data source(s) you will need.\n",
    "3. Organize - Arrange the data so that you can easily explore it.\n",
    "4. Explore - Examine the data to look for evidence to answer our question. This includes creating visualizations.\n",
    "5. Interpret - Explain how the evidence answers our question.\n",
    "6. Communicate - Reflect on the interpretation."
   ]
  },
  {
   "cell_type": "markdown",
   "metadata": {},
   "source": [
    "## 1. Question\n",
    "#### Which pop songs compete with \"All I want For Christmas is You\" in terms of holiday popularity?\n",
    "\n",
    "\n",
    "\n",
    "Usually, right around Halloween each year, Christmas decorations start appearing in stores. This is shortly followed by stores playing a small set of Christmas pop songs on a joyous never ending loop. One of the most recognizable Christmas songs that you'll hear in a shopping mall is Mariah Carey's \"All I Want For Christmas is You\". People stuck in retail locations in November and December will definitely hear the same few songs over and over. Hence, we will explore the question *'which pop songs compete with \"All I want For Christmas is You\" in terms of holiday popularity?'* in this notebook.\n",
    "\n",
    "There are a lot of different ways to decide what makes a song \"popular\". We will use [Google Trends](https://trends.google.com/trends/?geo=US) data. This is a data of Google searches for a given topic. In our case a small collection of popular Christmas pop songs\n"
   ]
  },
  {
   "cell_type": "markdown",
   "metadata": {},
   "source": [
    "## 2. Gather\n",
    "\n",
    "The code below will import the Python programming libraries, a software function that helps us gather and organize the data to answer our question. The data was sourced from [Google Trends](https://trends.google.com/trends/?geo=US) on November 16, 2020.\n",
    "\n",
    "First we will import the python libraries we need."
   ]
  },
  {
   "cell_type": "code",
   "execution_count": null,
   "metadata": {},
   "outputs": [],
   "source": [
    "# Import python libraries\n",
    "import pandas as pd\n",
    "import plotly.graph_objects as go\n",
    "import os"
   ]
  },
  {
   "cell_type": "markdown",
   "metadata": {},
   "source": [
    "Then we read in a csv file from google trends and look at the first few entries."
   ]
  },
  {
   "cell_type": "code",
   "execution_count": null,
   "metadata": {},
   "outputs": [],
   "source": [
    "# Create a pandas dataframe from our saved data\n",
    "path = os.path.join('datasets', 'christmas-songs.csv')\n",
    "df = pd.read_csv(path, skiprows=1)\n",
    "#show the first 5 rows of the data\n",
    "df.head()"
   ]
  },
  {
   "cell_type": "markdown",
   "metadata": {},
   "source": [
    "## 3. Organize\n",
    "This data is fairly organized. However, the column titles are needlessly long and the cells showing '<1' as a score can't be read in as a number. The '<1' needs to be replaced. We will replace it with a 0. The code cells below clean and re-organize the data.\n",
    "\n",
    "Our first step in organizing will be creating some placeholder variables for the long song titles and renaming the columns to something nicer for us to work with."
   ]
  },
  {
   "cell_type": "code",
   "execution_count": null,
   "metadata": {},
   "outputs": [],
   "source": [
    "# Create placeholder variables to hold the column/song names\n",
    "mariah = 'All I Want For Christmas Is You (SuperFestive!)'\n",
    "wham = 'Last Christmas'\n",
    "kelly = 'Underneath the Tree'\n",
    "# rename the columns\n",
    "df.columns=['Month', mariah, kelly, wham]"
   ]
  },
  {
   "cell_type": "markdown",
   "metadata": {},
   "source": [
    "Next, we are going to replace any '<1' score with '0' so we can deal with all scores as numeric data."
   ]
  },
  {
   "cell_type": "code",
   "execution_count": null,
   "metadata": {},
   "outputs": [],
   "source": [
    "# replace any cell showing '<1' with 0\n",
    "df.loc[:,mariah] = df[mariah].map(lambda x: 0 if x == '<1' else x)\n",
    "df.loc[:,wham] = df[wham].map(lambda x: 0 if x == '<1' else x)\n",
    "df.loc[:,kelly] = df[kelly].map(lambda x: 0 if x == '<1' else x)\n",
    "# show the first 5 rows of data\n",
    "df.head()"
   ]
  },
  {
   "cell_type": "markdown",
   "metadata": {},
   "source": [
    "Finally, we create a second data set only looking at December data points since those are likely the most interesting to us."
   ]
  },
  {
   "cell_type": "code",
   "execution_count": null,
   "metadata": {},
   "outputs": [],
   "source": [
    "# Create a separate dataframe only showing rows for December\n",
    "# So, only show rows where the Column Month ends in '12'\n",
    "df_december = df[df['Month'].map(lambda x: x[5]+x[6] == '12')]\n",
    "df_december.head()"
   ]
  },
  {
   "cell_type": "markdown",
   "metadata": {},
   "source": [
    "## 4. Explore\n",
    "The code below will be used to create a line graph and scatterplot chart to explore the question: \"Which pop songs compete with 'All I want For Christmas is You' in terms of holiday popularity?\"\n",
    "\n",
    "The code cell below creates two plots. It creates one line graph that looks at our more complete data set and one scatter plot that looks at some details of the December data set. The cell below does not show the plots. It just creates them and they will be displayed when '.show()' is called in a later cell."
   ]
  },
  {
   "cell_type": "code",
   "execution_count": null,
   "metadata": {},
   "outputs": [],
   "source": [
    "# This code creates a line graph using the three song columns for the y-axis and uses the Month column as the x-axis\n",
    "fig = go.Figure()\n",
    "fig.add_trace(go.Scatter(x=df['Month'], y=df[mariah],\n",
    "                        mode='lines', name='All I Want for Christmas is You by Mariah Carey'))\n",
    "fig.add_trace(go.Scatter(x=df['Month'], y = df[wham],\n",
    "                        mode='lines', name='Last Christmas by Wham!'))\n",
    "fig.add_trace(go.Scatter(x=df['Month'], y=df[kelly],\n",
    "             mode='lines', name='Underneath The Tree by Kelly Clarkson'))\n",
    "\n",
    "# Label and formats the interactive plot:\n",
    "fig.update_layout(title='Popular Christmas Songs According to Google Trends',\n",
    "                 xaxis_title=\"Date\", yaxis_title='Relative Popularity',\n",
    "                 legend=dict(orientation=\"h\",\n",
    "                             yanchor=\"bottom\", y=1.02,\n",
    "                             xanchor=\"right\", x=1),\n",
    "                 hovermode='x')\n",
    "\n",
    "\n",
    "# This code creates a scatterplot showing the difference in score between Wham! and Mariah Carey\n",
    "fig2 = go.Figure()\n",
    "fig2.add_trace(go.Scatter(x=df_december['Month'], y=df_december[mariah]-df_december[wham],\n",
    "                          name='Test', \n",
    "                          hovertemplate='Score difference: Mariah - Wham! = %{y}<extra></extra>',\n",
    "                          marker=dict(\n",
    "                                size=16,\n",
    "                                cmax=39,\n",
    "                                cmin=0,\n",
    "                                color=df_december[mariah]-df_december[wham],\n",
    "                                colorbar=dict(title=\"Score Difference\"),\n",
    "                                colorscale=['#ff7f0e', 'blue']),\n",
    "                            mode=\"markers\"))\n",
    "\n",
    "# Label and formats the interactive plot\n",
    "fig2.update_layout(title='Mariah and Wham! Google Trends December Score Diffrences',\n",
    "                 xaxis_title=\"Date\", yaxis_title='\\'All I want for Christmas is You\\' minus \\'Last Christmas\\'',\n",
    "                  hovermode='x');"
   ]
  },
  {
   "cell_type": "markdown",
   "metadata": {},
   "source": [
    "We can now show the first plot."
   ]
  },
  {
   "cell_type": "code",
   "execution_count": null,
   "metadata": {},
   "outputs": [],
   "source": [
    "# show the line graph\n",
    "fig.show()"
   ]
  },
  {
   "cell_type": "markdown",
   "metadata": {},
   "source": [
    "The line graph shows how popular the three songs are. The google trends data uses google searches to measure popularity and assigns the most popular data point a score of 100. Every score less than the 100 score is scored relatively. So, a score of 50 is half as popular of a search than the 100 scored search for Mariah Carey in December 2014. \n",
    "\n",
    "The second plot is shown below."
   ]
  },
  {
   "cell_type": "code",
   "execution_count": null,
   "metadata": {},
   "outputs": [],
   "source": [
    "fig2.show()"
   ]
  },
  {
   "cell_type": "markdown",
   "metadata": {},
   "source": [
    "This scatterplot has 7 dots, one for each December between 2012 and 2020. The x-axis shows the difference between the score of *All I want for Christmas is You* and *Last Christmas*. So the higher the score, the higher Mariah scored relative to Wham! and the lower the score the more highly scored 'Wham!' was."
   ]
  },
  {
   "cell_type": "markdown",
   "metadata": {},
   "source": [
    "## 5. Interpret\n",
    "### Answering Our Question\n",
    "Wham! released *Last Christmas* in 1986, Mariah Carey's *All I Want For Christmas is You* came out, at a more recent date, in 1994. *All I Want For Christmas is You* has been a staple in shopping malls in December since it was released. Because of this, it is very interesting that google searches for *Last Christmas* were higher than *All I Want For Christmas is You* in December 2019. The second plot, the scatterplot, seems to show *Last Christmas* gaining in relative popularity as a search term in December somewhat steadily over the last few years.\n",
    "\n",
    "Kelly Clarkson's 2013 Christmas hit *Under The Christmas Tree* never even made it to the double digits, meaning it never got to 10% of the popularity that *All I Want For Christmas is You* had in it's December 2013 peak.\n",
    "\n",
    "None of the songs seemed relatively popular outside of the holiday season."
   ]
  },
  {
   "cell_type": "markdown",
   "metadata": {},
   "source": [
    "## 6. Communicate\n",
    "Below are some writing prompts to help you reflect on the new information that is presented from the data. When we look at the evidence, think about what you perceive about the information. Is this perception based on what the evidence shows? If others were to view it, what perceptions might they have?\n",
    "- \"I used to think __ but now I know __.\"\n",
    "- \"I wish I knew more about __.\"\n",
    "- \"These data visualizations reminds me of __.\"\n",
    "- \"I really like __.\"\n",
    "- \"Other data sources that would be interesting include ___.\"\n",
    "- \"Another popular song to look at could be ___ .\"\n",
    "- \"I think I song by Wham! that came out in the 80s was popular last year because ___ .\n",
    "- \"Which Song do you think will be most popular in December 2020? Why?\""
   ]
  },
  {
   "cell_type": "markdown",
   "metadata": {},
   "source": [
    "[![Callysto.ca License](https://github.com/callysto/curriculum-notebooks/blob/master/callysto-notebook-banner-bottom.jpg?raw=true)](https://github.com/callysto/curriculum-notebooks/blob/master/LICENSE.md)"
   ]
  },
  {
   "cell_type": "code",
   "execution_count": null,
   "metadata": {},
   "outputs": [],
   "source": []
  }
 ],
 "metadata": {
  "kernelspec": {
   "display_name": "Python 3",
   "language": "python",
   "name": "python3"
  },
  "language_info": {
   "codemirror_mode": {
    "name": "ipython",
    "version": 3
   },
   "file_extension": ".py",
   "mimetype": "text/x-python",
   "name": "python",
   "nbconvert_exporter": "python",
   "pygments_lexer": "ipython3",
   "version": "3.8.5"
  }
 },
 "nbformat": 4,
 "nbformat_minor": 4
}
