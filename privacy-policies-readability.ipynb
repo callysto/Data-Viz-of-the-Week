{
 "cells": [
  {
   "cell_type": "markdown",
   "id": "9e7ba956",
   "metadata": {},
   "source": [
    "# Looking into privacy policies readability"
   ]
  },
  {
   "cell_type": "markdown",
   "id": "23c8e8f8",
   "metadata": {},
   "source": [
    "website with good visualizations https://vpnoverview.com/research/most-difficult-to-read-privacy-policies/"
   ]
  },
  {
   "cell_type": "code",
   "execution_count": 7,
   "id": "71f40048",
   "metadata": {},
   "outputs": [],
   "source": [
    "import pandas as pd\n",
    "import plotly.express as px\n",
    "\n",
    "import requests\n",
    "import markdown"
   ]
  },
  {
   "cell_type": "code",
   "execution_count": null,
   "id": "1f82ff41",
   "metadata": {},
   "outputs": [],
   "source": [
    "spreadsheet_key = '1-v7zfebjdHbfFHcoNftxW7bsW1xQ2zUNvjLmH6Q4OnU'\n",
    "spreadsheet_gid = '0'\n",
    "csv_link = 'https://docs.google.com/spreadsheets/d/'+spreadsheet_key+'/export?gid='+spreadsheet_gid+'&format=csv'\n",
    "df = pd.read_csv(csv_link)\n",
    "df.sort_values(by=['Words per Sentence'], ascending=False, inplace=True)\n",
    "df"
   ]
  },
  {
   "cell_type": "code",
   "execution_count": null,
   "id": "a1033109",
   "metadata": {},
   "outputs": [],
   "source": [
    "#df.plot.bar(x='Website', y='Words per Sentence', rot=90)\n",
    "px.bar(df, y='Website', x='Words per Sentence', title='Words per Sentence in Privacy Policies', orientation='h', height=1200)"
   ]
  },
  {
   "cell_type": "code",
   "execution_count": null,
   "id": "bbca9572",
   "metadata": {},
   "outputs": [],
   "source": [
    "#df.iloc[0:19].plot.bar(x='Website', y='Words per Sentence', rot=90)\n",
    "px.bar(df.head(20), y='Website', x='Words per Sentence', title='Words per Sentence in Privacy Policies', orientation='h', height=600)"
   ]
  },
  {
   "cell_type": "code",
   "execution_count": null,
   "id": "0dd66325",
   "metadata": {},
   "outputs": [],
   "source": [
    "#df.iloc[82:102].plot.bar(x='Website', y='Words per Sentence', rot=90)\n",
    "px.bar(df.iloc[82:102], y='Website', x='Words per Sentence', title='Words per Sentence in Privacy Policies', orientation='h', height=600)"
   ]
  },
  {
   "cell_type": "code",
   "execution_count": null,
   "id": "1cbe4d6c",
   "metadata": {},
   "outputs": [],
   "source": [
    "df1 = df.sort_values(by=['Word count'], ascending=False)\n",
    "#df1.plot.bar(x='Website', y='Word count', rot=90)\n",
    "px.bar(df1, y='Website', x='Word count', title='Word Counts in Privacy Policies', orientation='h', height=1200)"
   ]
  },
  {
   "cell_type": "code",
   "execution_count": null,
   "id": "f90b8baa",
   "metadata": {},
   "outputs": [],
   "source": [
    "#df1.iloc[0:19].plot.bar(x='Website', y='Word count', rot=90)\n",
    "px.bar(df1.head(20), y='Website', x='Word count', title='Word Counts in Privacy Policies', orientation='h', height=600)"
   ]
  },
  {
   "cell_type": "code",
   "execution_count": null,
   "id": "19243468",
   "metadata": {},
   "outputs": [],
   "source": [
    "#df1.iloc[82:102].plot.bar(x='Website', y='Word count', rot=90)\n",
    "px.bar(df1.iloc[82:102], y='Website', x='Word count', title='Word Counts in Privacy Policies', orientation='h', height=600)"
   ]
  },
  {
   "cell_type": "code",
   "execution_count": null,
   "id": "26d6fe96",
   "metadata": {},
   "outputs": [],
   "source": [
    "#df.plot.scatter(x = 'Word count', y = 'Overall Readability\\nscore')\n",
    "px.scatter(df, x='Word count', y='Overall Readability\\nscore', title='Readability Scores in Privacy Policies', trendline='ols', height=600)"
   ]
  },
  {
   "cell_type": "code",
   "execution_count": null,
   "id": "31a6b420",
   "metadata": {},
   "outputs": [],
   "source": [
    "df['Word count'].corr(df['Overall Readability\\nscore'])"
   ]
  },
  {
   "cell_type": "code",
   "execution_count": null,
   "id": "dfea0a08",
   "metadata": {},
   "outputs": [],
   "source": [
    "#df.plot.scatter(x = 'Words per Sentence', y = 'Overall Readability\\nscore')\n",
    "px.scatter(df, x='Words per Sentence', y='Overall Readability\\nscore', title='Readability Scores in Privacy Policies', trendline='ols', height=600)"
   ]
  },
  {
   "cell_type": "code",
   "execution_count": null,
   "id": "cf9222c3",
   "metadata": {},
   "outputs": [],
   "source": [
    "df['Words per Sentence'].corr(df['Overall Readability\\nscore'])"
   ]
  },
  {
   "cell_type": "markdown",
   "id": "81ad0f27",
   "metadata": {},
   "source": [
    "# Doing our own analysis of privacy policies"
   ]
  },
  {
   "cell_type": "markdown",
   "id": "e1f55eb0",
   "metadata": {},
   "source": [
    "Here is a study from Cornell University that has curated and analyzed over a million privacy policies that span over two decades.\n",
    "\n",
    "Github repo of privacy policies they have collected: https://github.com/citp/privacy-policy-historical "
   ]
  },
  {
   "cell_type": "code",
   "execution_count": 5,
   "id": "43c3b3c1",
   "metadata": {},
   "outputs": [],
   "source": [
    "#!pip install --user textstat\n",
    "import textstat"
   ]
  },
  {
   "cell_type": "code",
   "execution_count": 6,
   "id": "a4dc731a",
   "metadata": {},
   "outputs": [
    {
     "data": {
      "text/plain": [
       "12.38"
      ]
     },
     "execution_count": 6,
     "metadata": {},
     "output_type": "execute_result"
    }
   ],
   "source": [
    "test_data = (\n",
    "    \"Playing games has always been thought to be important to \"\n",
    "    \"the development of well-balanced and creative children; \"\n",
    "    \"however, what part, if any, they should play in the lives \"\n",
    "    \"of adults has never been researched that deeply. I believe \"\n",
    "    \"that playing games is every bit as important for adults \"\n",
    "    \"as for children. Not only is taking time out to play games \"\n",
    "    \"with our children and other adults valuable to building \"\n",
    "    \"interpersonal relationships but is also a wonderful way \"\n",
    "    \"to release built up tension.\"\n",
    ")\n",
    "\n",
    "textstat.flesch_reading_ease(test_data)\n",
    "textstat.flesch_kincaid_grade(test_data)\n",
    "textstat.automated_readability_index(test_data)\n",
    "textstat.dale_chall_readability_score(test_data)\n",
    "textstat.difficult_words(test_data)\n",
    "textstat.linsear_write_formula(test_data)\n",
    "textstat.gunning_fog(test_data)"
   ]
  },
  {
   "cell_type": "markdown",
   "id": "4b894809",
   "metadata": {},
   "source": [
    "Let's investigate the privacy policies of the most popular social media websites accoriding to [statista.com](https://www.statista.com/statistics/272014/global-social-networks-ranked-by-number-of-users/). We will specifically look at YouTube, Twitter, Instagram, Facebook, TikTok, and Pinterest"
   ]
  },
  {
   "cell_type": "code",
   "execution_count": null,
   "id": "36e882e5",
   "metadata": {},
   "outputs": [],
   "source": [
    "policies = ['https://github.com/citp/privacy-policy-historical/blob/master/t/ti/tik/tiktok.com.md',\n",
    "            'https://github.com/citp/privacy-policy-historical/blob/master/t/tw/twi/twitter.com.br.md',\n",
    "           'https://github.com/citp/privacy-policy-historical/blob/master/f/fa/fac/facebook.com.md',\n",
    "           'https://github.com/citp/privacy-policy-historical/blob/master/i/in/ins/instagram.com.md',\n",
    "           'https://github.com/citp/privacy-policy-historical/blob/master/y/yo/you/youtube.com.md',\n",
    "           'https://github.com/citp/privacy-policy-historical/blob/master/p/pi/pin/pinterest.com.md']"
   ]
  },
  {
   "cell_type": "code",
   "execution_count": null,
   "id": "7c92c0f5",
   "metadata": {},
   "outputs": [],
   "source": [
    "import requests\n",
    "import markdown\n",
    "from bs4 import BeautifulSoup\n",
    "\n",
    "texts = []\n",
    "\n",
    "for i in range(len(policies)): \n",
    "    # URL of the Markdown file on GitHub\n",
    "    url = policies[i]\n",
    "\n",
    "    # Send a GET request to the URL\n",
    "    response = requests.get(url)\n",
    "\n",
    "    # Get the content of the response\n",
    "    content = response.text\n",
    "\n",
    "    # Find the start and end of the body\n",
    "    start_index = content.find('<article')\n",
    "    end_index = content.find('</article>')\n",
    "\n",
    "    # Extract the body content\n",
    "    body_content = content[start_index:end_index]\n",
    "\n",
    "    # Convert the Markdown content to HTML\n",
    "    html = markdown.markdown(body_content)\n",
    "\n",
    "    # Use BeautifulSoup to extract the text content\n",
    "    soup = BeautifulSoup(html, 'html.parser')\n",
    "    texts.append(soup.get_text())\n"
   ]
  },
  {
   "cell_type": "markdown",
   "id": "d37b91d3",
   "metadata": {},
   "source": [
    "Lets analyze each of the policies by calculating their readability score"
   ]
  },
  {
   "cell_type": "code",
   "execution_count": null,
   "id": "2161b702",
   "metadata": {},
   "outputs": [],
   "source": [
    "readability_score = []\n",
    "for i in range(len(texts)):\n",
    "    readability_score.append(textstat.dale_chall_readability_score(texts[i]))\n",
    "\n",
    "    d = {'website': ['tiktok', 'twitter', 'facebook', 'instagram', 'youtube','pinterest'], 'readability score': readability_score}\n",
    "df = pd.DataFrame(data=d)\n",
    "df"
   ]
  },
  {
   "cell_type": "code",
   "execution_count": null,
   "id": "de22b7bb",
   "metadata": {},
   "outputs": [],
   "source": [
    "px.bar(df, x='website', y='readability score', title='readability scores of popular social media privacy policies')\n",
    "\n",
    "\n",
    "\n",
    "\n"
   ]
  },
  {
   "cell_type": "code",
   "execution_count": null,
   "id": "dbb2f0ed",
   "metadata": {},
   "outputs": [],
   "source": [
    "grade_score = []\n",
    "for i in range(len(texts)):\n",
    "    grade_score.append(textstat.flesch_kincaid_grade(texts[i]))\n",
    "\n",
    "    d = {'website': ['tiktok', 'twitter', 'facebook', 'instagram', 'youtube','pinterest'], 'kincaid grade score': grade_score}\n",
    "df = pd.DataFrame(data=d)\n",
    "df"
   ]
  },
  {
   "cell_type": "code",
   "execution_count": null,
   "id": "aca507c2",
   "metadata": {},
   "outputs": [],
   "source": [
    "px.bar(df, x='website', y='kincaid grade score', title='kincaid grade scores of popular social media privacy policies')\n"
   ]
  }
 ],
 "metadata": {
  "kernelspec": {
   "display_name": "Python 3 (ipykernel)",
   "language": "python",
   "name": "python3"
  },
  "language_info": {
   "codemirror_mode": {
    "name": "ipython",
    "version": 3
   },
   "file_extension": ".py",
   "mimetype": "text/x-python",
   "name": "python",
   "nbconvert_exporter": "python",
   "pygments_lexer": "ipython3",
   "version": "3.9.12"
  },
  "vscode": {
   "interpreter": {
    "hash": "31f2aee4e71d21fbe5cf8b01ff0e069b9275f58929596ceb00d14d90e3e16cd6"
   }
  }
 },
 "nbformat": 4,
 "nbformat_minor": 5
}
