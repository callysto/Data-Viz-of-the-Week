{
 "cells": [
  {
   "cell_type": "markdown",
   "id": "a58a914c",
   "metadata": {},
   "source": [
    "![Callysto.ca Banner](https://github.com/callysto/curriculum-notebooks/blob/master/callysto-notebook-banner-top.jpg?raw=true)"
   ]
  },
  {
   "cell_type": "markdown",
   "id": "e90a64a5",
   "metadata": {},
   "source": [
    "# Readability of Privacy Policies"
   ]
  },
  {
   "cell_type": "markdown",
   "id": "fe687947",
   "metadata": {},
   "source": [
    "### Instructions\n",
    "#### “Run” the cells to see the graphs\n",
    "Click “Cell” and select “Run All”.<br> This will import the data and run all the code, so you can see this week's data visualization. Scroll to the top after you’ve run the cells.<br> \n",
    "\n",
    "![instructions](https://github.com/callysto/data-viz-of-the-week/blob/main/images/instructions.png?raw=true)\n",
    "\n",
    "**You don’t need to do any coding to view the visualizations**.\n",
    "The plots generated in this notebook are interactive. You can hover over and click on elements to see more information. \n",
    "\n",
    "Email contact@callysto.ca if you experience issues."
   ]
  },
  {
   "cell_type": "markdown",
   "id": "1ed059a7",
   "metadata": {},
   "source": [
    "### About this Notebook\n",
    "\n",
    "Callysto's Weekly Data Visualization is a learning resource that aims to develop data literacy skills. We provide Grades 5-12 teachers and students with a data visualization, like a graph, to interpret. This companion resource walks learners through how the data visualization is created and interpreted by a data scientist. \n",
    "\n",
    "The steps of the data analysis process are listed below and applied to each weekly topic.\n",
    "\n",
    "1. Question - What are we trying to answer? \n",
    "2. Gather - Find the data source(s) you will need. \n",
    "3. Organize - Arrange the data, so that you can easily explore it. \n",
    "4. Explore - Examine the data to look for evidence to answer the question. This includes creating visualizations. \n",
    "5. Interpret - Describe what's happening in the data visualization. \n",
    "6. Communicate - Explain how the evidence answers the question. "
   ]
  },
  {
   "cell_type": "markdown",
   "id": "4c96aa0a",
   "metadata": {},
   "source": [
    "# Question\n",
    "\n",
    "So, you've checked off the \"I read and agree to the terms and conditions\" on a new services you've just signed up to without actually reading the terms. After all, they always seem very long to read and filled with jargon that does not make sense. \n",
    "\n",
    "But just how difficult is it to read these terms of services? In this data visualization, we analyze the readability of various data policies to answer this question. \n",
    "\n",
    "### Goal\n",
    "Our goal is to investigate the readability of some of the most popular social media websites to see just how difficult it is to read these policies."
   ]
  },
  {
   "cell_type": "markdown",
   "id": "5f01c28c",
   "metadata": {},
   "source": [
    "# Gather\n",
    "\n",
    "### Code:\n",
    "The code below will import the Python programming libraries we need to gather and organize the data to answer our question."
   ]
  },
  {
   "cell_type": "code",
   "execution_count": null,
   "id": "d23fc217",
   "metadata": {},
   "outputs": [],
   "source": [
    "from bs4 import BeautifulSoup\n",
    "import requests\n",
    "import re \n",
    "import markdown\n",
    "import textstat\n",
    "\n",
    "import pandas as pd\n",
    "import numpy as np\n",
    "\n",
    "import plotly.express as px\n",
    "from plotly.subplots import make_subplots\n",
    "import plotly.graph_objects as go"
   ]
  },
  {
   "cell_type": "markdown",
   "id": "ea746f59",
   "metadata": {},
   "source": [
    "### Data:\n",
    "\n",
    "We will use the Princeton-Leuven Longitudinal Privacy Policy Dataset which contains over 1 million policies that span more than 20 years. The dataset can be found on the following [repository](https://github.com/citp/privacy-policy-historical).\n",
    "\n",
    "### Import the data\n",
    "\n",
    "The code below reads the privacy policies from the following social media websites: Tiktok, Twitter, Facebook, Instagram, YouTube, and Pinterest."
   ]
  },
  {
   "cell_type": "code",
   "execution_count": null,
   "id": "f7ef8dc7",
   "metadata": {},
   "outputs": [],
   "source": [
    "#getting the links for each of the policies\n",
    "policies = ['https://github.com/citp/privacy-policy-historical/blob/master/t/ti/tik/tiktok.com.md',\n",
    "            'https://github.com/citp/privacy-policy-historical/blob/master/t/tw/twi/twitter.com.br.md',\n",
    "            'https://github.com/citp/privacy-policy-historical/blob/master/f/fa/fac/facebook.com.md',\n",
    "            'https://github.com/citp/privacy-policy-historical/blob/master/i/in/ins/instagram.com.md',\n",
    "            'https://github.com/citp/privacy-policy-historical/blob/master/y/yo/you/youtube.com.md',\n",
    "            'https://github.com/citp/privacy-policy-historical/blob/master/p/pi/pin/pinterest.com.md']"
   ]
  },
  {
   "cell_type": "code",
   "execution_count": null,
   "id": "8fc5e670",
   "metadata": {},
   "outputs": [],
   "source": [
    "#putting the privacy policies into a dataframe\n",
    "def create_df(alist: list):\n",
    "    result_dict = {}\n",
    "    title_list = ['Tiktok', 'Twitter', 'Facebook', 'Instagram', 'Youtube','Pinterest']\n",
    "    \n",
    "    for i, url in enumerate(policies): \n",
    "\n",
    "        response = requests.get(url)\n",
    "\n",
    "        content = response.text\n",
    "\n",
    "        start_index = content.find('<article')\n",
    "        end_index = content.find('</article>')\n",
    "\n",
    "        body_content = content[start_index:end_index]\n",
    "\n",
    "        html = markdown.markdown(body_content)\n",
    "        soup = BeautifulSoup(html, 'html.parser')\n",
    "        texts = soup.get_text()\n",
    "        result_dict[title_list[i]] = texts\n",
    "\n",
    "    df = pd.DataFrame(result_dict.items(), columns=[\"Social_Media\", \"Texts\"])\n",
    "    remove_n = lambda x: x.replace('\\n', '')\n",
    "    df[\"Texts\"] = df[\"Texts\"].apply(remove_n)\n",
    "    return df\n",
    "\n",
    "policy_df = create_df(policies)\n",
    "policy_df"
   ]
  },
  {
   "cell_type": "markdown",
   "id": "ce9625ca",
   "metadata": {},
   "source": [
    "We can also search through the database for a specific company's privacy policy using the folloing code. The function search_for_site will take in the input of the company name you are looking for and give an output of suggested URLs that point to that company's privacy policy."
   ]
  },
  {
   "cell_type": "code",
   "execution_count": null,
   "id": "76cc1e84",
   "metadata": {},
   "outputs": [],
   "source": [
    "def search_for_site(keyword):\n",
    "    \n",
    "    base_url = \"https://github.com/citp/privacy-policy-historical/tree/master/\"\n",
    "    first_letter = keyword[0]\n",
    "    second_letter = keyword[0:2]\n",
    "    third_letter = keyword[0:3]\n",
    "    \n",
    "    search_url = base_url + first_letter + \"/\" + second_letter + \"/\" + third_letter\n",
    "    r = requests.get(search_url)\n",
    "    soup = BeautifulSoup(r.text)\n",
    "    mydivs = soup.find_all(\"a\", {\"class\": \"js-navigation-open Link--primary\"})\n",
    "    \n",
    "    title_list = []\n",
    "    for item in mydivs:\n",
    "        title_list.append(item.get(\"title\"))\n",
    "        \n",
    "    result_list = []\n",
    "    for website in title_list:\n",
    "        if keyword in website:\n",
    "            result_list.append(website)\n",
    "            \n",
    "    if not result_list:\n",
    "        print(\"No website\")\n",
    "        \n",
    "    if len(result_list) == 1:\n",
    "        return result_list\n",
    "    \n",
    "    if len(result_list) > 1:\n",
    "        print(result_list)\n",
    "        \n",
    "search_for_site(\"twitter\")"
   ]
  },
  {
   "cell_type": "markdown",
   "id": "0740db9a",
   "metadata": {},
   "source": [
    "# Organize\n",
    "\n",
    "The code below will calculate the readability score, grade score, as well as the reading time of each of the privacy policies that we are investigating and add them to our dataframe.\n",
    "\n",
    "The grade score shows the number of years of education required to understand the text. For example, a score of 5 means that a fifth grader will generally understand the text.\n",
    "\n",
    "The readabilty score shows another measure of grade level that uses a lookup table of the most commonly used 3000 English words to determine the grade level. \n",
    "\n",
    "The reading time give the time it will take to read the text. \n",
    "\n",
    "For more information on the score values, you can refer to the [textstat library documentation](https://pypi.org/project/textstat/)"
   ]
  },
  {
   "cell_type": "code",
   "execution_count": null,
   "id": "2c2aa184",
   "metadata": {},
   "outputs": [],
   "source": [
    "readability_score = lambda x: textstat.dale_chall_readability_score(x)\n",
    "grade_score = lambda x: textstat.flesch_kincaid_grade(x)\n",
    "reading_time = lambda x: textstat.reading_time(x, ms_per_char=14.69)\n",
    "policy_df[\"Readability_score\"] = policy_df[\"Texts\"].apply(readability_score)\n",
    "policy_df[\"Grade_score\"] = policy_df[\"Texts\"].apply(grade_score)\n",
    "policy_df[\"Reading_time\"] = policy_df[\"Texts\"].apply(reading_time)\n",
    "policy_df"
   ]
  },
  {
   "cell_type": "markdown",
   "id": "0b70c9b5",
   "metadata": {},
   "source": [
    "# Explore\n",
    "\n",
    "The code below will create a bar graph showing the different measures of readablity for each of the social media websites. You can toggle between reading time, readability score, and grade trace to compare how each of these companies perform.  "
   ]
  },
  {
   "cell_type": "code",
   "execution_count": null,
   "id": "d15d7146",
   "metadata": {},
   "outputs": [],
   "source": [
    "readability_score = policy_df[\"Readability_score\"].tolist()\n",
    "grade_score = policy_df[\"Grade_score\"].tolist()\n",
    "reading_time = policy_df[\"Reading_time\"].tolist()\n",
    "\n",
    "readability_trace = go.Bar(x=policy_df[\"Social_Media\"], y=policy_df[\"Readability_score\"], width=0.7,\n",
    "                           name=\"Readability Score\", marker=dict(color=\"#1EBC8C\"), visible=True)\n",
    "grade_trace = go.Bar(x=policy_df[\"Social_Media\"], y=policy_df[\"Grade_score\"], \n",
    "                     name=\"Grade Score\", width=0.7, marker=dict(color=\"#4D8AF1\"), visible=False)\n",
    "time_trace = go.Bar(x=policy_df[\"Social_Media\"], y=policy_df[\"Reading_time\"], \n",
    "                    name=\"Reading Time\", width=0.7, marker=dict(color=\"#F14D78\"), visible=False)\n",
    "traces = [readability_trace, grade_trace, time_trace]\n",
    "\n",
    "fig = go.Figure(data=traces)\n",
    "\n",
    "fig.update_layout(\n",
    "    updatemenus=[\n",
    "        dict(buttons=list([\n",
    "            dict(label=\"Readability Score\",\n",
    "                 method=\"update\",\n",
    "                 args=[{\"visible\": [True, False, False]}, \n",
    "                       {\"title\":{\"text\":\"Dale Chall Readabilty Score\", \"x\":0.5}}]),\n",
    "            dict(label=\"Grade Trace\",\n",
    "                 method=\"update\",\n",
    "                 args=[{\"visible\": [False, True, False]}, \n",
    "                       {\"title\":{\"text\":\"Flesch Kincaid Reading Grade\", \"x\":0.5}}]),\n",
    "            dict(label=\"Reading Time\",\n",
    "                 method=\"update\",\n",
    "                 args=[{\"visible\": [False, False, True]}, \n",
    "                       {\"title\":{\"text\":\"Reading Time\", \"x\":0.5}}]),\n",
    "        ]),\n",
    "             direction=\"down\",\n",
    "             pad={\"r\": 10, \"t\": 10},\n",
    "             showactive=True,\n",
    "             x=0,\n",
    "             xanchor=\"left\",\n",
    "             y=1.15,\n",
    "             yanchor=\"top\"\n",
    "            )\n",
    "    ]  \n",
    ")\n",
    "\n",
    "fig.update_layout(\n",
    "    title={'text': \"Dale Chall Readabilty Score\",\n",
    "           'x':0.5,\n",
    "           'xanchor': 'center',\n",
    "           'yanchor': 'top'},\n",
    "    height=500, width=700)\n",
    "\n",
    "fig.show()"
   ]
  },
  {
   "cell_type": "markdown",
   "id": "c779fe33",
   "metadata": {},
   "source": [
    "From the graph we can see that the social media websites score quite high in readability score with the lowest value going to Pinterest at 6.58 and the highest value going to TikTok at 7.82.\n",
    "\n",
    "We can see from the graph below that TikTok's privacy policy takes the least time to read but still ranks as one of the highest for grade trace as well as readablity score. Meabwhile, Twitter has the longest reading time yet its reading score and grade trace is comparable to TikTok.\n",
    "\n",
    "We can look at the realtionship between reading score, grade trace, and reading time more in depth by investigating the correlations between these three variables in the code below."
   ]
  },
  {
   "cell_type": "code",
   "execution_count": null,
   "id": "0fd87882",
   "metadata": {},
   "outputs": [],
   "source": [
    "def create_correlation_graph(df):\n",
    "    variables = [\"Readability_score\", \"Grade_score\", \"Reading_time\"]\n",
    "    colors=[\"cadetblue\", \"darksalmon\", \"limegreen\"]\n",
    "    \n",
    "    fig = make_subplots(rows=3, cols=3, horizontal_spacing = 0.1)\n",
    "    \n",
    "    def create_empty_dataframe():\n",
    "        return pd.DataFrame()\n",
    "\n",
    "    start_no = 0\n",
    "    global col_no\n",
    "    col_no = 1\n",
    "    row_no = 1\n",
    "    while row_no < 4:\n",
    "        col_no = 1\n",
    "        for variable in variables:\n",
    "            slope,y_int=np.polyfit(df[variables[start_no]], df[variable], 1)\n",
    "            df_slope = create_empty_dataframe()\n",
    "            df_slope[\"Best_fit\"] = slope * df[variables[start_no]] + y_int\n",
    "            \n",
    "            fig.add_trace(go.Scatter(x=df[variables[start_no]], y=df[variable], mode='markers',\n",
    "                                     marker={\"color\":colors[start_no]}, \n",
    "                                     hovertemplate=\"%{x}\" + \",\" + \" %{y}\" + \"<extra></extra>\"), \n",
    "                          row=row_no, col=col_no)\n",
    "            fig.add_trace(go.Scatter(x=df[variables[start_no]], y=df_slope[\"Best_fit\"], mode=\"lines\",\n",
    "                                    marker={\"color\":colors[start_no]}, name=\"Line of Best Fit\", hoverlabel = dict(namelength = 20)), \n",
    "                          row=row_no, col=col_no)\n",
    "            fig.update_xaxes(title_text=variables[start_no], row=row_no, col=col_no)\n",
    "            fig.update_yaxes(title_text=variable, row=row_no, col=col_no)\n",
    "            \n",
    "            if col_no != 3:\n",
    "                col_no += 1\n",
    "                \n",
    "        row_no += 1\n",
    "        start_no += 1\n",
    "\n",
    "\n",
    "    fig.update_layout(height=800, width=800, showlegend=False, title={\"text\":\"Correlation Comparison\",\n",
    "                                                                      \"x\":0.5})\n",
    "    fig.show()\n",
    "        \n",
    "create_correlation_graph(policy_df)"
   ]
  },
  {
   "cell_type": "markdown",
   "id": "a8121f7c",
   "metadata": {},
   "source": [
    "# Interpret\n",
    "Based on what we see from the graphs above, it seems that the most popular social media sites have quite a high reading score ranging from 6.58 to 7.82. This equates to needing a grade level between an 8th grader to a 10th grader to be able to understand the text. \n",
    "\n",
    "The grade trace values are also quite high, ranging from 10.8 to 14.6. This means that a minimum of 10.8 years of educaiton are needing to understand these privacy policies while some require as much as over 14 years of education to be understood. \n",
    "\n",
    "We also see that most of the privacy policies take quite a long time to read, but that the time it takes to read a privacy policy does not necessarily effect the readability score. That means that even short privacy policies are written in a way that makes them hard to understand. "
   ]
  },
  {
   "cell_type": "markdown",
   "id": "5eda2f5f",
   "metadata": {},
   "source": [
    "# Taking a further look: web scraping\n",
    "\n",
    "Want to analyze readabily of text you find online? You can use the following code to scrape a webpage you want to analyze. The example below is a web scraping of Google's privacy policy"
   ]
  },
  {
   "cell_type": "code",
   "execution_count": null,
   "id": "f73d8f21",
   "metadata": {},
   "outputs": [],
   "source": [
    "# Reading time, readability score, grade trace \n",
    "\n",
    "def webscrape_private_policy(url):\n",
    "    search_url = url\n",
    "\n",
    "    r = requests.get(search_url)\n",
    "    soup = BeautifulSoup(r.text)\n",
    "    mydivs = soup.find_all(\"div\", {\"class\": \"nrAB0c\"})\n",
    "    contents_list = []\n",
    "    for item in mydivs:\n",
    "        contents_list.append(item.find(\"p\"))\n",
    "        contents_list.append(item.find(\"ul\"))\n",
    "\n",
    "    cleaned_contents_list = []\n",
    "    for ind, content in enumerate(contents_list):\n",
    "        content = str(content)\n",
    "        if content != \"None\":\n",
    "            content = re.sub('<.*?>', '', content)\n",
    "            cleaned_contents_list.append(content)\n",
    "        if content == \"None\":\n",
    "            continue\n",
    "            \n",
    "    cleaned_text = ''.join([content for content in cleaned_contents_list])\n",
    "    return cleaned_text\n",
    "\n",
    "url = \"https://policies.google.com/privacy?hl=en-US\"\n",
    "scraped_texts = webscrape_private_policy(url)\n",
    "scraped_texts"
   ]
  },
  {
   "cell_type": "markdown",
   "id": "a99481a5",
   "metadata": {},
   "source": [
    "# Communicate\n",
    "Below are some writing prompts to help you reflect on the new information that is presented from the data. When we look at the evidence, think about what you perceive about the information. Is this perception based on what the evidence shows? If others were to view it, what perceptions might they have?\n",
    "\n",
    "I used to think ____________________but now I know____________________.\n",
    "I wish I knew more about ____________________.\n",
    "This visualization reminds me of ____________________.\n",
    "I really like ____________________."
   ]
  },
  {
   "cell_type": "markdown",
   "id": "9be90190",
   "metadata": {},
   "source": [
    "[![Callysto.ca License](https://github.com/callysto/curriculum-notebooks/blob/master/callysto-notebook-banner-bottom.jpg?raw=true)](https://github.com/callysto/curriculum-notebooks/blob/master/LICENSE.md)"
   ]
  }
 ],
 "metadata": {
  "kernelspec": {
   "display_name": "Python 3",
   "language": "python",
   "name": "python3"
  },
  "language_info": {
   "codemirror_mode": {
    "name": "ipython",
    "version": 3
   },
   "file_extension": ".py",
   "mimetype": "text/x-python",
   "name": "python",
   "nbconvert_exporter": "python",
   "pygments_lexer": "ipython3",
   "version": "3.9.6"
  },
  "vscode": {
   "interpreter": {
    "hash": "31f2aee4e71d21fbe5cf8b01ff0e069b9275f58929596ceb00d14d90e3e16cd6"
   }
  }
 },
 "nbformat": 4,
 "nbformat_minor": 5
}
