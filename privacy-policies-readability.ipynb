{
 "cells": [
  {
   "cell_type": "markdown",
   "id": "a860996e",
   "metadata": {},
   "source": [
    "# Looking into privacy policies readability"
   ]
  },
  {
   "cell_type": "markdown",
   "id": "76d86db1",
   "metadata": {},
   "source": [
    "website with good visualizations https://vpnoverview.com/research/most-difficult-to-read-privacy-policies/"
   ]
  },
  {
   "cell_type": "code",
   "execution_count": null,
   "id": "e0f3d7af",
   "metadata": {},
   "outputs": [],
   "source": [
    "import pandas as pd\n",
    "import plotly.express as px"
   ]
  },
  {
   "cell_type": "code",
   "execution_count": null,
   "id": "fab7b66e",
   "metadata": {},
   "outputs": [],
   "source": [
    "spreadsheet_key = '1-v7zfebjdHbfFHcoNftxW7bsW1xQ2zUNvjLmH6Q4OnU'\n",
    "spreadsheet_gid = '0'\n",
    "csv_link = 'https://docs.google.com/spreadsheets/d/'+spreadsheet_key+'/export?gid='+spreadsheet_gid+'&format=csv'\n",
    "df = pd.read_csv(csv_link)\n",
    "df.sort_values(by=['Words per Sentence'], ascending=False, inplace=True)\n",
    "df"
   ]
  },
  {
   "cell_type": "code",
   "execution_count": null,
   "id": "8d7c839b",
   "metadata": {},
   "outputs": [],
   "source": [
    "#df.plot.bar(x='Website', y='Words per Sentence', rot=90)\n",
    "px.bar(df, y='Website', x='Words per Sentence', title='Words per Sentence in Privacy Policies', orientation='h', height=1200)"
   ]
  },
  {
   "cell_type": "code",
   "execution_count": null,
   "id": "6f77b472",
   "metadata": {},
   "outputs": [],
   "source": [
    "#df.iloc[0:19].plot.bar(x='Website', y='Words per Sentence', rot=90)\n",
    "px.bar(df.head(20), y='Website', x='Words per Sentence', title='Words per Sentence in Privacy Policies', orientation='h', height=600)"
   ]
  },
  {
   "cell_type": "code",
   "execution_count": null,
   "id": "56c04165",
   "metadata": {},
   "outputs": [],
   "source": [
    "#df.iloc[82:102].plot.bar(x='Website', y='Words per Sentence', rot=90)\n",
    "px.bar(df.iloc[82:102], y='Website', x='Words per Sentence', title='Words per Sentence in Privacy Policies', orientation='h', height=600)"
   ]
  },
  {
   "cell_type": "code",
   "execution_count": null,
   "id": "2b83f7fe",
   "metadata": {},
   "outputs": [],
   "source": [
    "df1 = df.sort_values(by=['Word count'], ascending=False)\n",
    "#df1.plot.bar(x='Website', y='Word count', rot=90)\n",
    "px.bar(df1, y='Website', x='Word count', title='Word Counts in Privacy Policies', orientation='h', height=1200)"
   ]
  },
  {
   "cell_type": "code",
   "execution_count": null,
   "id": "9b76db0f",
   "metadata": {},
   "outputs": [],
   "source": [
    "#df1.iloc[0:19].plot.bar(x='Website', y='Word count', rot=90)\n",
    "px.bar(df1.head(20), y='Website', x='Word count', title='Word Counts in Privacy Policies', orientation='h', height=600)"
   ]
  },
  {
   "cell_type": "code",
   "execution_count": null,
   "id": "140b271d",
   "metadata": {},
   "outputs": [],
   "source": [
    "#df1.iloc[82:102].plot.bar(x='Website', y='Word count', rot=90)\n",
    "px.bar(df1.iloc[82:102], y='Website', x='Word count', title='Word Counts in Privacy Policies', orientation='h', height=600)"
   ]
  },
  {
   "cell_type": "code",
   "execution_count": null,
   "id": "349643d6",
   "metadata": {},
   "outputs": [],
   "source": [
    "#df.plot.scatter(x = 'Word count', y = 'Overall Readability\\nscore')\n",
    "px.scatter(df, x='Word count', y='Overall Readability\\nscore', title='Readability Scores in Privacy Policies', trendline='ols', height=600)"
   ]
  },
  {
   "cell_type": "code",
   "execution_count": null,
   "id": "958f4213",
   "metadata": {},
   "outputs": [],
   "source": [
    "df['Word count'].corr(df['Overall Readability\\nscore'])"
   ]
  },
  {
   "cell_type": "code",
   "execution_count": null,
   "id": "d7125f00",
   "metadata": {},
   "outputs": [],
   "source": [
    "#df.plot.scatter(x = 'Words per Sentence', y = 'Overall Readability\\nscore')\n",
    "px.scatter(df, x='Words per Sentence', y='Overall Readability\\nscore', title='Readability Scores in Privacy Policies', trendline='ols', height=600)"
   ]
  },
  {
   "cell_type": "code",
   "execution_count": null,
   "id": "05dc5de2",
   "metadata": {},
   "outputs": [],
   "source": [
    "df['Words per Sentence'].corr(df['Overall Readability\\nscore'])"
   ]
  },
  {
   "cell_type": "markdown",
   "id": "81963992",
   "metadata": {},
   "source": [
    "# Doing our own analysis of privacy policies"
   ]
  },
  {
   "cell_type": "markdown",
   "id": "64ea4dc9",
   "metadata": {},
   "source": [
    "Here is a study from Cornell University that has curated and analyzed over a million privacy policies that span over two decades.\n",
    "\n",
    "Github repo of privacy policies they have collected: https://github.com/citp/privacy-policy-historical "
   ]
  }
 ],
 "metadata": {
  "kernelspec": {
   "display_name": "Python 3",
   "language": "python",
   "name": "python3"
  },
  "language_info": {
   "codemirror_mode": {
    "name": "ipython",
    "version": 3
   },
   "file_extension": ".py",
   "mimetype": "text/x-python",
   "name": "python",
   "nbconvert_exporter": "python",
   "pygments_lexer": "ipython3",
   "version": "3.10.1"
  },
  "vscode": {
   "interpreter": {
    "hash": "d1ca6d17674200220921376aaeb3d36cffe15ecab2470a9a5e7a456cdbf61425"
   }
  }
 },
 "nbformat": 4,
 "nbformat_minor": 5
}
