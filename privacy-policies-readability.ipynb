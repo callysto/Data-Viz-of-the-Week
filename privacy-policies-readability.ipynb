{
 "cells": [
  {
   "cell_type": "markdown",
   "id": "9e7ba956",
   "metadata": {},
   "source": [
    "# Looking into privacy policies readability"
   ]
  },
  {
   "cell_type": "markdown",
   "id": "23c8e8f8",
   "metadata": {},
   "source": [
    "website with good visualizations https://vpnoverview.com/research/most-difficult-to-read-privacy-policies/"
   ]
  },
  {
   "cell_type": "code",
   "execution_count": 179,
   "id": "71f40048",
   "metadata": {},
   "outputs": [],
   "source": [
    "import pandas as pd\n",
    "import numpy as np\n",
    "\n",
    "import plotly.express as px\n",
    "from plotly.subplots import make_subplots\n",
    "import plotly.graph_objects as go\n",
    "\n",
    "import requests\n",
    "import markdown"
   ]
  },
  {
   "cell_type": "code",
   "execution_count": 2,
   "id": "1f82ff41",
   "metadata": {},
   "outputs": [
    {
     "data": {
      "text/html": [
       "<div>\n",
       "<style scoped>\n",
       "    .dataframe tbody tr th:only-of-type {\n",
       "        vertical-align: middle;\n",
       "    }\n",
       "\n",
       "    .dataframe tbody tr th {\n",
       "        vertical-align: top;\n",
       "    }\n",
       "\n",
       "    .dataframe thead th {\n",
       "        text-align: right;\n",
       "    }\n",
       "</style>\n",
       "<table border=\"1\" class=\"dataframe\">\n",
       "  <thead>\n",
       "    <tr style=\"text-align: right;\">\n",
       "      <th></th>\n",
       "      <th>Website</th>\n",
       "      <th>Type</th>\n",
       "      <th>Reading Level</th>\n",
       "      <th>Difficulty</th>\n",
       "      <th>Words per Sentence</th>\n",
       "      <th>Overall Readability\\nscore</th>\n",
       "      <th>Word count</th>\n",
       "      <th>Reading time in minutes</th>\n",
       "    </tr>\n",
       "  </thead>\n",
       "  <tbody>\n",
       "    <tr>\n",
       "      <th>0</th>\n",
       "      <td>Disney+</td>\n",
       "      <td>Streaming</td>\n",
       "      <td>College Grad</td>\n",
       "      <td>Very Difficult</td>\n",
       "      <td>46.15</td>\n",
       "      <td>2.80</td>\n",
       "      <td>2573.0</td>\n",
       "      <td>19.8</td>\n",
       "    </tr>\n",
       "    <tr>\n",
       "      <th>1</th>\n",
       "      <td>Instagram</td>\n",
       "      <td>Social</td>\n",
       "      <td>College Grad</td>\n",
       "      <td>Very Difficult</td>\n",
       "      <td>41.44</td>\n",
       "      <td>6.20</td>\n",
       "      <td>11324.0</td>\n",
       "      <td>87.1</td>\n",
       "    </tr>\n",
       "    <tr>\n",
       "      <th>4</th>\n",
       "      <td>Rightmove</td>\n",
       "      <td>Housing</td>\n",
       "      <td>College Grad</td>\n",
       "      <td>Very Difficult</td>\n",
       "      <td>38.42</td>\n",
       "      <td>15.50</td>\n",
       "      <td>13675.0</td>\n",
       "      <td>105.2</td>\n",
       "    </tr>\n",
       "    <tr>\n",
       "      <th>2</th>\n",
       "      <td>Coral</td>\n",
       "      <td>Betting</td>\n",
       "      <td>College Grad</td>\n",
       "      <td>Very Difficult</td>\n",
       "      <td>35.77</td>\n",
       "      <td>10.10</td>\n",
       "      <td>4494.0</td>\n",
       "      <td>34.6</td>\n",
       "    </tr>\n",
       "    <tr>\n",
       "      <th>24</th>\n",
       "      <td>Bet365</td>\n",
       "      <td>Betting</td>\n",
       "      <td>College</td>\n",
       "      <td>Difficult</td>\n",
       "      <td>34.66</td>\n",
       "      <td>28.06</td>\n",
       "      <td>1497.0</td>\n",
       "      <td>11.5</td>\n",
       "    </tr>\n",
       "    <tr>\n",
       "      <th>...</th>\n",
       "      <td>...</td>\n",
       "      <td>...</td>\n",
       "      <td>...</td>\n",
       "      <td>...</td>\n",
       "      <td>...</td>\n",
       "      <td>...</td>\n",
       "      <td>...</td>\n",
       "      <td>...</td>\n",
       "    </tr>\n",
       "    <tr>\n",
       "      <th>79</th>\n",
       "      <td>HelloFresh</td>\n",
       "      <td>Food</td>\n",
       "      <td>College</td>\n",
       "      <td>Difficult</td>\n",
       "      <td>13.46</td>\n",
       "      <td>39.37</td>\n",
       "      <td>5383.0</td>\n",
       "      <td>41.4</td>\n",
       "    </tr>\n",
       "    <tr>\n",
       "      <th>100</th>\n",
       "      <td>Channel 4 (.com)</td>\n",
       "      <td>Streaming</td>\n",
       "      <td>10th-12th Grade</td>\n",
       "      <td>Fairly Difficult</td>\n",
       "      <td>13.42</td>\n",
       "      <td>56.20</td>\n",
       "      <td>9285.0</td>\n",
       "      <td>71.4</td>\n",
       "    </tr>\n",
       "    <tr>\n",
       "      <th>101</th>\n",
       "      <td>Telegram</td>\n",
       "      <td>Messaging</td>\n",
       "      <td>10th-12th Grade</td>\n",
       "      <td>Fairly Difficult</td>\n",
       "      <td>12.93</td>\n",
       "      <td>56.70</td>\n",
       "      <td>4269.0</td>\n",
       "      <td>32.8</td>\n",
       "    </tr>\n",
       "    <tr>\n",
       "      <th>52</th>\n",
       "      <td>WordPress</td>\n",
       "      <td>Business</td>\n",
       "      <td>College</td>\n",
       "      <td>Difficult</td>\n",
       "      <td>12.92</td>\n",
       "      <td>32.76</td>\n",
       "      <td>1770.0</td>\n",
       "      <td>13.6</td>\n",
       "    </tr>\n",
       "    <tr>\n",
       "      <th>99</th>\n",
       "      <td>Urban Outfitters</td>\n",
       "      <td>Shopping</td>\n",
       "      <td>College</td>\n",
       "      <td>Difficult</td>\n",
       "      <td>11.36</td>\n",
       "      <td>49.62</td>\n",
       "      <td>2143.0</td>\n",
       "      <td>16.5</td>\n",
       "    </tr>\n",
       "  </tbody>\n",
       "</table>\n",
       "<p>102 rows × 8 columns</p>\n",
       "</div>"
      ],
      "text/plain": [
       "              Website       Type    Reading Level        Difficulty  \\\n",
       "0             Disney+  Streaming     College Grad    Very Difficult   \n",
       "1           Instagram     Social     College Grad    Very Difficult   \n",
       "4           Rightmove    Housing     College Grad    Very Difficult   \n",
       "2               Coral    Betting     College Grad    Very Difficult   \n",
       "24             Bet365    Betting          College         Difficult   \n",
       "..                ...        ...              ...               ...   \n",
       "79         HelloFresh       Food          College         Difficult   \n",
       "100  Channel 4 (.com)  Streaming  10th-12th Grade  Fairly Difficult   \n",
       "101          Telegram  Messaging  10th-12th Grade  Fairly Difficult   \n",
       "52          WordPress   Business          College         Difficult   \n",
       "99   Urban Outfitters   Shopping          College         Difficult   \n",
       "\n",
       "     Words per Sentence  Overall Readability\\nscore  Word count  \\\n",
       "0                 46.15                        2.80      2573.0   \n",
       "1                 41.44                        6.20     11324.0   \n",
       "4                 38.42                       15.50     13675.0   \n",
       "2                 35.77                       10.10      4494.0   \n",
       "24                34.66                       28.06      1497.0   \n",
       "..                  ...                         ...         ...   \n",
       "79                13.46                       39.37      5383.0   \n",
       "100               13.42                       56.20      9285.0   \n",
       "101               12.93                       56.70      4269.0   \n",
       "52                12.92                       32.76      1770.0   \n",
       "99                11.36                       49.62      2143.0   \n",
       "\n",
       "     Reading time in minutes  \n",
       "0                       19.8  \n",
       "1                       87.1  \n",
       "4                      105.2  \n",
       "2                       34.6  \n",
       "24                      11.5  \n",
       "..                       ...  \n",
       "79                      41.4  \n",
       "100                     71.4  \n",
       "101                     32.8  \n",
       "52                      13.6  \n",
       "99                      16.5  \n",
       "\n",
       "[102 rows x 8 columns]"
      ]
     },
     "execution_count": 2,
     "metadata": {},
     "output_type": "execute_result"
    }
   ],
   "source": [
    "spreadsheet_key = '1-v7zfebjdHbfFHcoNftxW7bsW1xQ2zUNvjLmH6Q4OnU'\n",
    "spreadsheet_gid = '0'\n",
    "csv_link = 'https://docs.google.com/spreadsheets/d/'+spreadsheet_key+'/export?gid='+spreadsheet_gid+'&format=csv'\n",
    "df = pd.read_csv(csv_link)\n",
    "df.sort_values(by=['Words per Sentence'], ascending=False, inplace=True)\n",
    "df"
   ]
  },
  {
   "cell_type": "code",
   "execution_count": 163,
   "id": "7842f766",
   "metadata": {},
   "outputs": [
    {
     "data": {
      "application/vnd.plotly.v1+json": {
       "config": {
        "plotlyServerURL": "https://plot.ly"
       },
       "data": [
        {
         "marker": {
          "color": "#1EBC8C"
         },
         "name": "Words per Sentence",
         "orientation": "h",
         "type": "bar",
         "visible": false,
         "width": 0.8,
         "x": [
          11.36,
          12.92,
          12.93,
          13.42,
          13.46,
          14.68,
          15.47,
          15.54,
          15.57,
          16.97,
          17.07,
          17.36,
          17.91,
          17.97,
          18.06,
          18.07,
          18.07,
          18.23,
          18.29,
          18.34
         ],
         "y": [
          "Urban Outfitters",
          "WordPress",
          "Telegram",
          "Channel 4 (.com)",
          "HelloFresh",
          "Booking (.com)",
          "Vinted",
          "Klarna",
          "LinkedIn",
          "H&M",
          "Adidas",
          "Indeed",
          "YouTube",
          "Zoopla",
          "Shein",
          "BambooHR",
          "Wayfair",
          "Discord",
          "BBC iPlayer",
          "IMDb"
         ]
        },
        {
         "marker": {
          "color": "#7EA0BF"
         },
         "name": "Word Count",
         "orientation": "h",
         "type": "bar",
         "visible": true,
         "x": [
          38.59,
          283,
          555,
          872,
          975,
          1398,
          1497,
          1598,
          1710,
          1770,
          1846,
          1848,
          1965,
          2100,
          2143,
          2177,
          2249,
          2349,
          2573,
          2623
         ],
         "y": [
          "Ladbrokes",
          "Wayfair",
          "BBC iPlayer",
          "YouTube",
          "Asos",
          "Sainsbury’s",
          "Bet365",
          "Expedia",
          "Sky",
          "WordPress",
          "Bookly",
          "Klarna",
          "Nintendo",
          "Quora",
          "Urban Outfitters",
          "Betway",
          "Gousto",
          "Apple TV+",
          "Disney+",
          "IMDb"
         ]
        },
        {
         "marker": {
          "color": "#F14D78"
         },
         "name": "Reading Time",
         "orientation": "h",
         "type": "bar",
         "visible": false,
         "width": 0.6,
         "x": [
          2.2,
          4.3,
          6.7,
          7.5,
          10.8,
          11.5,
          12.3,
          13.2,
          13.6,
          14.2,
          14.2,
          15.1,
          16.2,
          16.5,
          16.7,
          17.3,
          18.1,
          19.8,
          20.2,
          20.2
         ],
         "y": [
          "Wayfair",
          "BBC iPlayer",
          "YouTube",
          "Asos",
          "Sainsbury’s",
          "Bet365",
          "Expedia",
          "Sky",
          "WordPress",
          "Bookly",
          "Klarna",
          "Nintendo",
          "Quora",
          "Urban Outfitters",
          "Betway",
          "Gousto",
          "Apple TV+",
          "Disney+",
          "Facebook (.com)",
          "IMDb"
         ]
        },
        {
         "marker": {
          "color": "#9D7EBF"
         },
         "name": "Reading Time",
         "orientation": "h",
         "type": "bar",
         "visible": false,
         "width": 0.6,
         "x": [
          2.8,
          6.2,
          10.1,
          15,
          15.5,
          19.3,
          19.5,
          20.5,
          21.5,
          22.7,
          23.3,
          23.7,
          24.7,
          25,
          26.1,
          26.1,
          26.5,
          26.7,
          27,
          27
         ],
         "y": [
          "Disney+",
          "Instagram",
          "Coral",
          "Zoom",
          "Rightmove",
          "Wayfair",
          "Wikipedia",
          "UPS",
          "Adidas",
          "Uber Eats",
          "Sainsbury’s",
          "Netflix",
          "Slack",
          "Spotify",
          "Microsoft",
          "Xbox",
          "Wish",
          "Nintendo",
          "GitHub",
          "Yahoo"
         ]
        }
       ],
       "layout": {
        "height": 700,
        "template": {
         "data": {
          "bar": [
           {
            "error_x": {
             "color": "#2a3f5f"
            },
            "error_y": {
             "color": "#2a3f5f"
            },
            "marker": {
             "line": {
              "color": "#E5ECF6",
              "width": 0.5
             },
             "pattern": {
              "fillmode": "overlay",
              "size": 10,
              "solidity": 0.2
             }
            },
            "type": "bar"
           }
          ],
          "barpolar": [
           {
            "marker": {
             "line": {
              "color": "#E5ECF6",
              "width": 0.5
             },
             "pattern": {
              "fillmode": "overlay",
              "size": 10,
              "solidity": 0.2
             }
            },
            "type": "barpolar"
           }
          ],
          "carpet": [
           {
            "aaxis": {
             "endlinecolor": "#2a3f5f",
             "gridcolor": "white",
             "linecolor": "white",
             "minorgridcolor": "white",
             "startlinecolor": "#2a3f5f"
            },
            "baxis": {
             "endlinecolor": "#2a3f5f",
             "gridcolor": "white",
             "linecolor": "white",
             "minorgridcolor": "white",
             "startlinecolor": "#2a3f5f"
            },
            "type": "carpet"
           }
          ],
          "choropleth": [
           {
            "colorbar": {
             "outlinewidth": 0,
             "ticks": ""
            },
            "type": "choropleth"
           }
          ],
          "contour": [
           {
            "colorbar": {
             "outlinewidth": 0,
             "ticks": ""
            },
            "colorscale": [
             [
              0,
              "#0d0887"
             ],
             [
              0.1111111111111111,
              "#46039f"
             ],
             [
              0.2222222222222222,
              "#7201a8"
             ],
             [
              0.3333333333333333,
              "#9c179e"
             ],
             [
              0.4444444444444444,
              "#bd3786"
             ],
             [
              0.5555555555555556,
              "#d8576b"
             ],
             [
              0.6666666666666666,
              "#ed7953"
             ],
             [
              0.7777777777777778,
              "#fb9f3a"
             ],
             [
              0.8888888888888888,
              "#fdca26"
             ],
             [
              1,
              "#f0f921"
             ]
            ],
            "type": "contour"
           }
          ],
          "contourcarpet": [
           {
            "colorbar": {
             "outlinewidth": 0,
             "ticks": ""
            },
            "type": "contourcarpet"
           }
          ],
          "heatmap": [
           {
            "colorbar": {
             "outlinewidth": 0,
             "ticks": ""
            },
            "colorscale": [
             [
              0,
              "#0d0887"
             ],
             [
              0.1111111111111111,
              "#46039f"
             ],
             [
              0.2222222222222222,
              "#7201a8"
             ],
             [
              0.3333333333333333,
              "#9c179e"
             ],
             [
              0.4444444444444444,
              "#bd3786"
             ],
             [
              0.5555555555555556,
              "#d8576b"
             ],
             [
              0.6666666666666666,
              "#ed7953"
             ],
             [
              0.7777777777777778,
              "#fb9f3a"
             ],
             [
              0.8888888888888888,
              "#fdca26"
             ],
             [
              1,
              "#f0f921"
             ]
            ],
            "type": "heatmap"
           }
          ],
          "heatmapgl": [
           {
            "colorbar": {
             "outlinewidth": 0,
             "ticks": ""
            },
            "colorscale": [
             [
              0,
              "#0d0887"
             ],
             [
              0.1111111111111111,
              "#46039f"
             ],
             [
              0.2222222222222222,
              "#7201a8"
             ],
             [
              0.3333333333333333,
              "#9c179e"
             ],
             [
              0.4444444444444444,
              "#bd3786"
             ],
             [
              0.5555555555555556,
              "#d8576b"
             ],
             [
              0.6666666666666666,
              "#ed7953"
             ],
             [
              0.7777777777777778,
              "#fb9f3a"
             ],
             [
              0.8888888888888888,
              "#fdca26"
             ],
             [
              1,
              "#f0f921"
             ]
            ],
            "type": "heatmapgl"
           }
          ],
          "histogram": [
           {
            "marker": {
             "pattern": {
              "fillmode": "overlay",
              "size": 10,
              "solidity": 0.2
             }
            },
            "type": "histogram"
           }
          ],
          "histogram2d": [
           {
            "colorbar": {
             "outlinewidth": 0,
             "ticks": ""
            },
            "colorscale": [
             [
              0,
              "#0d0887"
             ],
             [
              0.1111111111111111,
              "#46039f"
             ],
             [
              0.2222222222222222,
              "#7201a8"
             ],
             [
              0.3333333333333333,
              "#9c179e"
             ],
             [
              0.4444444444444444,
              "#bd3786"
             ],
             [
              0.5555555555555556,
              "#d8576b"
             ],
             [
              0.6666666666666666,
              "#ed7953"
             ],
             [
              0.7777777777777778,
              "#fb9f3a"
             ],
             [
              0.8888888888888888,
              "#fdca26"
             ],
             [
              1,
              "#f0f921"
             ]
            ],
            "type": "histogram2d"
           }
          ],
          "histogram2dcontour": [
           {
            "colorbar": {
             "outlinewidth": 0,
             "ticks": ""
            },
            "colorscale": [
             [
              0,
              "#0d0887"
             ],
             [
              0.1111111111111111,
              "#46039f"
             ],
             [
              0.2222222222222222,
              "#7201a8"
             ],
             [
              0.3333333333333333,
              "#9c179e"
             ],
             [
              0.4444444444444444,
              "#bd3786"
             ],
             [
              0.5555555555555556,
              "#d8576b"
             ],
             [
              0.6666666666666666,
              "#ed7953"
             ],
             [
              0.7777777777777778,
              "#fb9f3a"
             ],
             [
              0.8888888888888888,
              "#fdca26"
             ],
             [
              1,
              "#f0f921"
             ]
            ],
            "type": "histogram2dcontour"
           }
          ],
          "mesh3d": [
           {
            "colorbar": {
             "outlinewidth": 0,
             "ticks": ""
            },
            "type": "mesh3d"
           }
          ],
          "parcoords": [
           {
            "line": {
             "colorbar": {
              "outlinewidth": 0,
              "ticks": ""
             }
            },
            "type": "parcoords"
           }
          ],
          "pie": [
           {
            "automargin": true,
            "type": "pie"
           }
          ],
          "scatter": [
           {
            "marker": {
             "colorbar": {
              "outlinewidth": 0,
              "ticks": ""
             }
            },
            "type": "scatter"
           }
          ],
          "scatter3d": [
           {
            "line": {
             "colorbar": {
              "outlinewidth": 0,
              "ticks": ""
             }
            },
            "marker": {
             "colorbar": {
              "outlinewidth": 0,
              "ticks": ""
             }
            },
            "type": "scatter3d"
           }
          ],
          "scattercarpet": [
           {
            "marker": {
             "colorbar": {
              "outlinewidth": 0,
              "ticks": ""
             }
            },
            "type": "scattercarpet"
           }
          ],
          "scattergeo": [
           {
            "marker": {
             "colorbar": {
              "outlinewidth": 0,
              "ticks": ""
             }
            },
            "type": "scattergeo"
           }
          ],
          "scattergl": [
           {
            "marker": {
             "colorbar": {
              "outlinewidth": 0,
              "ticks": ""
             }
            },
            "type": "scattergl"
           }
          ],
          "scattermapbox": [
           {
            "marker": {
             "colorbar": {
              "outlinewidth": 0,
              "ticks": ""
             }
            },
            "type": "scattermapbox"
           }
          ],
          "scatterpolar": [
           {
            "marker": {
             "colorbar": {
              "outlinewidth": 0,
              "ticks": ""
             }
            },
            "type": "scatterpolar"
           }
          ],
          "scatterpolargl": [
           {
            "marker": {
             "colorbar": {
              "outlinewidth": 0,
              "ticks": ""
             }
            },
            "type": "scatterpolargl"
           }
          ],
          "scatterternary": [
           {
            "marker": {
             "colorbar": {
              "outlinewidth": 0,
              "ticks": ""
             }
            },
            "type": "scatterternary"
           }
          ],
          "surface": [
           {
            "colorbar": {
             "outlinewidth": 0,
             "ticks": ""
            },
            "colorscale": [
             [
              0,
              "#0d0887"
             ],
             [
              0.1111111111111111,
              "#46039f"
             ],
             [
              0.2222222222222222,
              "#7201a8"
             ],
             [
              0.3333333333333333,
              "#9c179e"
             ],
             [
              0.4444444444444444,
              "#bd3786"
             ],
             [
              0.5555555555555556,
              "#d8576b"
             ],
             [
              0.6666666666666666,
              "#ed7953"
             ],
             [
              0.7777777777777778,
              "#fb9f3a"
             ],
             [
              0.8888888888888888,
              "#fdca26"
             ],
             [
              1,
              "#f0f921"
             ]
            ],
            "type": "surface"
           }
          ],
          "table": [
           {
            "cells": {
             "fill": {
              "color": "#EBF0F8"
             },
             "line": {
              "color": "white"
             }
            },
            "header": {
             "fill": {
              "color": "#C8D4E3"
             },
             "line": {
              "color": "white"
             }
            },
            "type": "table"
           }
          ]
         },
         "layout": {
          "annotationdefaults": {
           "arrowcolor": "#2a3f5f",
           "arrowhead": 0,
           "arrowwidth": 1
          },
          "autotypenumbers": "strict",
          "coloraxis": {
           "colorbar": {
            "outlinewidth": 0,
            "ticks": ""
           }
          },
          "colorscale": {
           "diverging": [
            [
             0,
             "#8e0152"
            ],
            [
             0.1,
             "#c51b7d"
            ],
            [
             0.2,
             "#de77ae"
            ],
            [
             0.3,
             "#f1b6da"
            ],
            [
             0.4,
             "#fde0ef"
            ],
            [
             0.5,
             "#f7f7f7"
            ],
            [
             0.6,
             "#e6f5d0"
            ],
            [
             0.7,
             "#b8e186"
            ],
            [
             0.8,
             "#7fbc41"
            ],
            [
             0.9,
             "#4d9221"
            ],
            [
             1,
             "#276419"
            ]
           ],
           "sequential": [
            [
             0,
             "#0d0887"
            ],
            [
             0.1111111111111111,
             "#46039f"
            ],
            [
             0.2222222222222222,
             "#7201a8"
            ],
            [
             0.3333333333333333,
             "#9c179e"
            ],
            [
             0.4444444444444444,
             "#bd3786"
            ],
            [
             0.5555555555555556,
             "#d8576b"
            ],
            [
             0.6666666666666666,
             "#ed7953"
            ],
            [
             0.7777777777777778,
             "#fb9f3a"
            ],
            [
             0.8888888888888888,
             "#fdca26"
            ],
            [
             1,
             "#f0f921"
            ]
           ],
           "sequentialminus": [
            [
             0,
             "#0d0887"
            ],
            [
             0.1111111111111111,
             "#46039f"
            ],
            [
             0.2222222222222222,
             "#7201a8"
            ],
            [
             0.3333333333333333,
             "#9c179e"
            ],
            [
             0.4444444444444444,
             "#bd3786"
            ],
            [
             0.5555555555555556,
             "#d8576b"
            ],
            [
             0.6666666666666666,
             "#ed7953"
            ],
            [
             0.7777777777777778,
             "#fb9f3a"
            ],
            [
             0.8888888888888888,
             "#fdca26"
            ],
            [
             1,
             "#f0f921"
            ]
           ]
          },
          "colorway": [
           "#636efa",
           "#EF553B",
           "#00cc96",
           "#ab63fa",
           "#FFA15A",
           "#19d3f3",
           "#FF6692",
           "#B6E880",
           "#FF97FF",
           "#FECB52"
          ],
          "font": {
           "color": "#2a3f5f"
          },
          "geo": {
           "bgcolor": "white",
           "lakecolor": "white",
           "landcolor": "#E5ECF6",
           "showlakes": true,
           "showland": true,
           "subunitcolor": "white"
          },
          "hoverlabel": {
           "align": "left"
          },
          "hovermode": "closest",
          "mapbox": {
           "style": "light"
          },
          "paper_bgcolor": "white",
          "plot_bgcolor": "#E5ECF6",
          "polar": {
           "angularaxis": {
            "gridcolor": "white",
            "linecolor": "white",
            "ticks": ""
           },
           "bgcolor": "#E5ECF6",
           "radialaxis": {
            "gridcolor": "white",
            "linecolor": "white",
            "ticks": ""
           }
          },
          "scene": {
           "xaxis": {
            "backgroundcolor": "#E5ECF6",
            "gridcolor": "white",
            "gridwidth": 2,
            "linecolor": "white",
            "showbackground": true,
            "ticks": "",
            "zerolinecolor": "white"
           },
           "yaxis": {
            "backgroundcolor": "#E5ECF6",
            "gridcolor": "white",
            "gridwidth": 2,
            "linecolor": "white",
            "showbackground": true,
            "ticks": "",
            "zerolinecolor": "white"
           },
           "zaxis": {
            "backgroundcolor": "#E5ECF6",
            "gridcolor": "white",
            "gridwidth": 2,
            "linecolor": "white",
            "showbackground": true,
            "ticks": "",
            "zerolinecolor": "white"
           }
          },
          "shapedefaults": {
           "line": {
            "color": "#2a3f5f"
           }
          },
          "ternary": {
           "aaxis": {
            "gridcolor": "white",
            "linecolor": "white",
            "ticks": ""
           },
           "baxis": {
            "gridcolor": "white",
            "linecolor": "white",
            "ticks": ""
           },
           "bgcolor": "#E5ECF6",
           "caxis": {
            "gridcolor": "white",
            "linecolor": "white",
            "ticks": ""
           }
          },
          "title": {
           "x": 0.05
          },
          "xaxis": {
           "automargin": true,
           "gridcolor": "white",
           "linecolor": "white",
           "ticks": "",
           "title": {
            "standoff": 15
           },
           "zerolinecolor": "white",
           "zerolinewidth": 2
          },
          "yaxis": {
           "automargin": true,
           "gridcolor": "white",
           "linecolor": "white",
           "ticks": "",
           "title": {
            "standoff": 15
           },
           "zerolinecolor": "white",
           "zerolinewidth": 2
          }
         }
        },
        "title": {
         "text": "Word Count",
         "x": 0.5
        },
        "updatemenus": [
         {
          "active": 1,
          "buttons": [
           {
            "args": [
             {
              "visible": [
               true,
               false,
               false,
               false
              ]
             },
             {
              "title": {
               "text": "Words per Sentence",
               "x": 0.5
              }
             }
            ],
            "label": "Words Per Sentence",
            "method": "update"
           },
           {
            "args": [
             {
              "visible": [
               false,
               true,
               false,
               false
              ]
             },
             {
              "title": {
               "text": "Word Count",
               "x": 0.5
              }
             }
            ],
            "label": "Word Count",
            "method": "update"
           },
           {
            "args": [
             {
              "visible": [
               false,
               false,
               true,
               false
              ]
             },
             {
              "title": {
               "text": "Reading Time",
               "x": 0.5
              }
             }
            ],
            "label": "Reading Time",
            "method": "update"
           },
           {
            "args": [
             {
              "visible": [
               false,
               false,
               false,
               true
              ]
             },
             {
              "title": {
               "text": "Readability Score",
               "x": 0.5
              }
             }
            ],
            "label": "Readability Score",
            "method": "update"
           }
          ],
          "direction": "down",
          "pad": {
           "r": 10,
           "t": 10
          },
          "showactive": true,
          "x": 0,
          "xanchor": "left",
          "y": 1.1,
          "yanchor": "top"
         }
        ],
        "width": 900,
        "xaxis": {
         "autorange": true,
         "range": [
          0,
          2761.0526315789475
         ],
         "type": "linear"
        },
        "yaxis": {
         "autorange": true,
         "range": [
          -0.5,
          19.5
         ],
         "type": "category"
        }
       }
      },
      "image/png": "[encoded data removed]",
      "text/html": [
       "<div>                            <div id=\"ca304068-0707-4f67-b032-47f41e345f1f\" class=\"plotly-graph-div\" style=\"height:700px; width:900px;\"></div>            <script type=\"text/javascript\">                require([\"plotly\"], function(Plotly) {                    window.PLOTLYENV=window.PLOTLYENV || {};                                    if (document.getElementById(\"ca304068-0707-4f67-b032-47f41e345f1f\")) {                    Plotly.newPlot(                        \"ca304068-0707-4f67-b032-47f41e345f1f\",                        [{\"marker\":{\"color\":\"#1EBC8C\"},\"name\":\"Words per Sentence\",\"orientation\":\"h\",\"visible\":true,\"width\":0.8,\"x\":[11.36,12.92,12.93,13.42,13.46,14.68,15.47,15.54,15.57,16.97,17.07,17.36,17.91,17.97,18.06,18.07,18.07,18.23,18.29,18.34],\"y\":[\"Urban Outfitters\",\"WordPress\",\"Telegram\",\"Channel 4 (.com)\",\"HelloFresh\",\"Booking (.com)\",\"Vinted\",\"Klarna\",\"LinkedIn\",\"H&M\",\"Adidas\",\"Indeed\",\"YouTube\",\"Zoopla\",\"Shein\",\"BambooHR\",\"Wayfair\",\"Discord\",\"BBC iPlayer\",\"IMDb\"],\"type\":\"bar\"},{\"marker\":{\"color\":\"#7EA0BF\"},\"name\":\"Word Count\",\"orientation\":\"h\",\"visible\":false,\"x\":[38.59,283.0,555.0,872.0,975.0,1398.0,1497.0,1598.0,1710.0,1770.0,1846.0,1848.0,1965.0,2100.0,2143.0,2177.0,2249.0,2349.0,2573.0,2623.0],\"y\":[\"Ladbrokes\",\"Wayfair\",\"BBC iPlayer\",\"YouTube\",\"Asos\",\"Sainsbury\\u2019s\",\"Bet365\",\"Expedia\",\"Sky\",\"WordPress\",\"Bookly\",\"Klarna\",\"Nintendo\",\"Quora\",\"Urban Outfitters\",\"Betway\",\"Gousto\",\"Apple TV+\",\"Disney+\",\"IMDb\"],\"type\":\"bar\"},{\"marker\":{\"color\":\"#F14D78\"},\"name\":\"Reading Time\",\"orientation\":\"h\",\"visible\":false,\"width\":0.6,\"x\":[2.2,4.3,6.7,7.5,10.8,11.5,12.3,13.2,13.6,14.2,14.2,15.1,16.2,16.5,16.7,17.3,18.1,19.8,20.2,20.2],\"y\":[\"Wayfair\",\"BBC iPlayer\",\"YouTube\",\"Asos\",\"Sainsbury\\u2019s\",\"Bet365\",\"Expedia\",\"Sky\",\"WordPress\",\"Bookly\",\"Klarna\",\"Nintendo\",\"Quora\",\"Urban Outfitters\",\"Betway\",\"Gousto\",\"Apple TV+\",\"Disney+\",\"Facebook (.com)\",\"IMDb\"],\"type\":\"bar\"},{\"marker\":{\"color\":\"#9D7EBF\"},\"name\":\"Reading Time\",\"orientation\":\"h\",\"visible\":false,\"width\":0.6,\"x\":[2.8,6.2,10.1,15.0,15.5,19.3,19.5,20.5,21.5,22.7,23.3,23.7,24.7,25.0,26.1,26.1,26.5,26.7,27.0,27.0],\"y\":[\"Disney+\",\"Instagram\",\"Coral\",\"Zoom\",\"Rightmove\",\"Wayfair\",\"Wikipedia\",\"UPS\",\"Adidas\",\"Uber Eats\",\"Sainsbury\\u2019s\",\"Netflix\",\"Slack\",\"Spotify\",\"Microsoft\",\"Xbox\",\"Wish\",\"Nintendo\",\"GitHub\",\"Yahoo\"],\"type\":\"bar\"}],                        {\"template\":{\"data\":{\"bar\":[{\"error_x\":{\"color\":\"#2a3f5f\"},\"error_y\":{\"color\":\"#2a3f5f\"},\"marker\":{\"line\":{\"color\":\"#E5ECF6\",\"width\":0.5},\"pattern\":{\"fillmode\":\"overlay\",\"size\":10,\"solidity\":0.2}},\"type\":\"bar\"}],\"barpolar\":[{\"marker\":{\"line\":{\"color\":\"#E5ECF6\",\"width\":0.5},\"pattern\":{\"fillmode\":\"overlay\",\"size\":10,\"solidity\":0.2}},\"type\":\"barpolar\"}],\"carpet\":[{\"aaxis\":{\"endlinecolor\":\"#2a3f5f\",\"gridcolor\":\"white\",\"linecolor\":\"white\",\"minorgridcolor\":\"white\",\"startlinecolor\":\"#2a3f5f\"},\"baxis\":{\"endlinecolor\":\"#2a3f5f\",\"gridcolor\":\"white\",\"linecolor\":\"white\",\"minorgridcolor\":\"white\",\"startlinecolor\":\"#2a3f5f\"},\"type\":\"carpet\"}],\"choropleth\":[{\"colorbar\":{\"outlinewidth\":0,\"ticks\":\"\"},\"type\":\"choropleth\"}],\"contour\":[{\"colorbar\":{\"outlinewidth\":0,\"ticks\":\"\"},\"colorscale\":[[0.0,\"#0d0887\"],[0.1111111111111111,\"#46039f\"],[0.2222222222222222,\"#7201a8\"],[0.3333333333333333,\"#9c179e\"],[0.4444444444444444,\"#bd3786\"],[0.5555555555555556,\"#d8576b\"],[0.6666666666666666,\"#ed7953\"],[0.7777777777777778,\"#fb9f3a\"],[0.8888888888888888,\"#fdca26\"],[1.0,\"#f0f921\"]],\"type\":\"contour\"}],\"contourcarpet\":[{\"colorbar\":{\"outlinewidth\":0,\"ticks\":\"\"},\"type\":\"contourcarpet\"}],\"heatmap\":[{\"colorbar\":{\"outlinewidth\":0,\"ticks\":\"\"},\"colorscale\":[[0.0,\"#0d0887\"],[0.1111111111111111,\"#46039f\"],[0.2222222222222222,\"#7201a8\"],[0.3333333333333333,\"#9c179e\"],[0.4444444444444444,\"#bd3786\"],[0.5555555555555556,\"#d8576b\"],[0.6666666666666666,\"#ed7953\"],[0.7777777777777778,\"#fb9f3a\"],[0.8888888888888888,\"#fdca26\"],[1.0,\"#f0f921\"]],\"type\":\"heatmap\"}],\"heatmapgl\":[{\"colorbar\":{\"outlinewidth\":0,\"ticks\":\"\"},\"colorscale\":[[0.0,\"#0d0887\"],[0.1111111111111111,\"#46039f\"],[0.2222222222222222,\"#7201a8\"],[0.3333333333333333,\"#9c179e\"],[0.4444444444444444,\"#bd3786\"],[0.5555555555555556,\"#d8576b\"],[0.6666666666666666,\"#ed7953\"],[0.7777777777777778,\"#fb9f3a\"],[0.8888888888888888,\"#fdca26\"],[1.0,\"#f0f921\"]],\"type\":\"heatmapgl\"}],\"histogram\":[{\"marker\":{\"pattern\":{\"fillmode\":\"overlay\",\"size\":10,\"solidity\":0.2}},\"type\":\"histogram\"}],\"histogram2d\":[{\"colorbar\":{\"outlinewidth\":0,\"ticks\":\"\"},\"colorscale\":[[0.0,\"#0d0887\"],[0.1111111111111111,\"#46039f\"],[0.2222222222222222,\"#7201a8\"],[0.3333333333333333,\"#9c179e\"],[0.4444444444444444,\"#bd3786\"],[0.5555555555555556,\"#d8576b\"],[0.6666666666666666,\"#ed7953\"],[0.7777777777777778,\"#fb9f3a\"],[0.8888888888888888,\"#fdca26\"],[1.0,\"#f0f921\"]],\"type\":\"histogram2d\"}],\"histogram2dcontour\":[{\"colorbar\":{\"outlinewidth\":0,\"ticks\":\"\"},\"colorscale\":[[0.0,\"#0d0887\"],[0.1111111111111111,\"#46039f\"],[0.2222222222222222,\"#7201a8\"],[0.3333333333333333,\"#9c179e\"],[0.4444444444444444,\"#bd3786\"],[0.5555555555555556,\"#d8576b\"],[0.6666666666666666,\"#ed7953\"],[0.7777777777777778,\"#fb9f3a\"],[0.8888888888888888,\"#fdca26\"],[1.0,\"#f0f921\"]],\"type\":\"histogram2dcontour\"}],\"mesh3d\":[{\"colorbar\":{\"outlinewidth\":0,\"ticks\":\"\"},\"type\":\"mesh3d\"}],\"parcoords\":[{\"line\":{\"colorbar\":{\"outlinewidth\":0,\"ticks\":\"\"}},\"type\":\"parcoords\"}],\"pie\":[{\"automargin\":true,\"type\":\"pie\"}],\"scatter\":[{\"marker\":{\"colorbar\":{\"outlinewidth\":0,\"ticks\":\"\"}},\"type\":\"scatter\"}],\"scatter3d\":[{\"line\":{\"colorbar\":{\"outlinewidth\":0,\"ticks\":\"\"}},\"marker\":{\"colorbar\":{\"outlinewidth\":0,\"ticks\":\"\"}},\"type\":\"scatter3d\"}],\"scattercarpet\":[{\"marker\":{\"colorbar\":{\"outlinewidth\":0,\"ticks\":\"\"}},\"type\":\"scattercarpet\"}],\"scattergeo\":[{\"marker\":{\"colorbar\":{\"outlinewidth\":0,\"ticks\":\"\"}},\"type\":\"scattergeo\"}],\"scattergl\":[{\"marker\":{\"colorbar\":{\"outlinewidth\":0,\"ticks\":\"\"}},\"type\":\"scattergl\"}],\"scattermapbox\":[{\"marker\":{\"colorbar\":{\"outlinewidth\":0,\"ticks\":\"\"}},\"type\":\"scattermapbox\"}],\"scatterpolar\":[{\"marker\":{\"colorbar\":{\"outlinewidth\":0,\"ticks\":\"\"}},\"type\":\"scatterpolar\"}],\"scatterpolargl\":[{\"marker\":{\"colorbar\":{\"outlinewidth\":0,\"ticks\":\"\"}},\"type\":\"scatterpolargl\"}],\"scatterternary\":[{\"marker\":{\"colorbar\":{\"outlinewidth\":0,\"ticks\":\"\"}},\"type\":\"scatterternary\"}],\"surface\":[{\"colorbar\":{\"outlinewidth\":0,\"ticks\":\"\"},\"colorscale\":[[0.0,\"#0d0887\"],[0.1111111111111111,\"#46039f\"],[0.2222222222222222,\"#7201a8\"],[0.3333333333333333,\"#9c179e\"],[0.4444444444444444,\"#bd3786\"],[0.5555555555555556,\"#d8576b\"],[0.6666666666666666,\"#ed7953\"],[0.7777777777777778,\"#fb9f3a\"],[0.8888888888888888,\"#fdca26\"],[1.0,\"#f0f921\"]],\"type\":\"surface\"}],\"table\":[{\"cells\":{\"fill\":{\"color\":\"#EBF0F8\"},\"line\":{\"color\":\"white\"}},\"header\":{\"fill\":{\"color\":\"#C8D4E3\"},\"line\":{\"color\":\"white\"}},\"type\":\"table\"}]},\"layout\":{\"annotationdefaults\":{\"arrowcolor\":\"#2a3f5f\",\"arrowhead\":0,\"arrowwidth\":1},\"autotypenumbers\":\"strict\",\"coloraxis\":{\"colorbar\":{\"outlinewidth\":0,\"ticks\":\"\"}},\"colorscale\":{\"diverging\":[[0,\"#8e0152\"],[0.1,\"#c51b7d\"],[0.2,\"#de77ae\"],[0.3,\"#f1b6da\"],[0.4,\"#fde0ef\"],[0.5,\"#f7f7f7\"],[0.6,\"#e6f5d0\"],[0.7,\"#b8e186\"],[0.8,\"#7fbc41\"],[0.9,\"#4d9221\"],[1,\"#276419\"]],\"sequential\":[[0.0,\"#0d0887\"],[0.1111111111111111,\"#46039f\"],[0.2222222222222222,\"#7201a8\"],[0.3333333333333333,\"#9c179e\"],[0.4444444444444444,\"#bd3786\"],[0.5555555555555556,\"#d8576b\"],[0.6666666666666666,\"#ed7953\"],[0.7777777777777778,\"#fb9f3a\"],[0.8888888888888888,\"#fdca26\"],[1.0,\"#f0f921\"]],\"sequentialminus\":[[0.0,\"#0d0887\"],[0.1111111111111111,\"#46039f\"],[0.2222222222222222,\"#7201a8\"],[0.3333333333333333,\"#9c179e\"],[0.4444444444444444,\"#bd3786\"],[0.5555555555555556,\"#d8576b\"],[0.6666666666666666,\"#ed7953\"],[0.7777777777777778,\"#fb9f3a\"],[0.8888888888888888,\"#fdca26\"],[1.0,\"#f0f921\"]]},\"colorway\":[\"#636efa\",\"#EF553B\",\"#00cc96\",\"#ab63fa\",\"#FFA15A\",\"#19d3f3\",\"#FF6692\",\"#B6E880\",\"#FF97FF\",\"#FECB52\"],\"font\":{\"color\":\"#2a3f5f\"},\"geo\":{\"bgcolor\":\"white\",\"lakecolor\":\"white\",\"landcolor\":\"#E5ECF6\",\"showlakes\":true,\"showland\":true,\"subunitcolor\":\"white\"},\"hoverlabel\":{\"align\":\"left\"},\"hovermode\":\"closest\",\"mapbox\":{\"style\":\"light\"},\"paper_bgcolor\":\"white\",\"plot_bgcolor\":\"#E5ECF6\",\"polar\":{\"angularaxis\":{\"gridcolor\":\"white\",\"linecolor\":\"white\",\"ticks\":\"\"},\"bgcolor\":\"#E5ECF6\",\"radialaxis\":{\"gridcolor\":\"white\",\"linecolor\":\"white\",\"ticks\":\"\"}},\"scene\":{\"xaxis\":{\"backgroundcolor\":\"#E5ECF6\",\"gridcolor\":\"white\",\"gridwidth\":2,\"linecolor\":\"white\",\"showbackground\":true,\"ticks\":\"\",\"zerolinecolor\":\"white\"},\"yaxis\":{\"backgroundcolor\":\"#E5ECF6\",\"gridcolor\":\"white\",\"gridwidth\":2,\"linecolor\":\"white\",\"showbackground\":true,\"ticks\":\"\",\"zerolinecolor\":\"white\"},\"zaxis\":{\"backgroundcolor\":\"#E5ECF6\",\"gridcolor\":\"white\",\"gridwidth\":2,\"linecolor\":\"white\",\"showbackground\":true,\"ticks\":\"\",\"zerolinecolor\":\"white\"}},\"shapedefaults\":{\"line\":{\"color\":\"#2a3f5f\"}},\"ternary\":{\"aaxis\":{\"gridcolor\":\"white\",\"linecolor\":\"white\",\"ticks\":\"\"},\"baxis\":{\"gridcolor\":\"white\",\"linecolor\":\"white\",\"ticks\":\"\"},\"bgcolor\":\"#E5ECF6\",\"caxis\":{\"gridcolor\":\"white\",\"linecolor\":\"white\",\"ticks\":\"\"}},\"title\":{\"x\":0.05},\"xaxis\":{\"automargin\":true,\"gridcolor\":\"white\",\"linecolor\":\"white\",\"ticks\":\"\",\"title\":{\"standoff\":15},\"zerolinecolor\":\"white\",\"zerolinewidth\":2},\"yaxis\":{\"automargin\":true,\"gridcolor\":\"white\",\"linecolor\":\"white\",\"ticks\":\"\",\"title\":{\"standoff\":15},\"zerolinecolor\":\"white\",\"zerolinewidth\":2}}},\"updatemenus\":[{\"buttons\":[{\"args\":[{\"visible\":[true,false,false,false]},{\"title\":{\"text\":\"Words per Sentence\",\"x\":0.5}}],\"label\":\"Words Per Sentence\",\"method\":\"update\"},{\"args\":[{\"visible\":[false,true,false,false]},{\"title\":{\"text\":\"Word Count\",\"x\":0.5}}],\"label\":\"Word Count\",\"method\":\"update\"},{\"args\":[{\"visible\":[false,false,true,false]},{\"title\":{\"text\":\"Reading Time\",\"x\":0.5}}],\"label\":\"Reading Time\",\"method\":\"update\"},{\"args\":[{\"visible\":[false,false,false,true]},{\"title\":{\"text\":\"Readability Score\",\"x\":0.5}}],\"label\":\"Readability Score\",\"method\":\"update\"}],\"direction\":\"down\",\"pad\":{\"r\":10,\"t\":10},\"showactive\":true,\"x\":0,\"xanchor\":\"left\",\"y\":1.1,\"yanchor\":\"top\"}],\"title\":{\"text\":\"Words per Sentence\",\"x\":0.5,\"xanchor\":\"center\",\"yanchor\":\"top\"},\"height\":700,\"width\":900},                        {\"responsive\": true}                    ).then(function(){\n",
       "                            \n",
       "var gd = document.getElementById('ca304068-0707-4f67-b032-47f41e345f1f');\n",
       "var x = new MutationObserver(function (mutations, observer) {{\n",
       "        var display = window.getComputedStyle(gd).display;\n",
       "        if (!display || display === 'none') {{\n",
       "            console.log([gd, 'removed!']);\n",
       "            Plotly.purge(gd);\n",
       "            observer.disconnect();\n",
       "        }}\n",
       "}});\n",
       "\n",
       "// Listen for the removal of the full notebook cells\n",
       "var notebookContainer = gd.closest('#notebook-container');\n",
       "if (notebookContainer) {{\n",
       "    x.observe(notebookContainer, {childList: true});\n",
       "}}\n",
       "\n",
       "// Listen for the clearing of the current output cell\n",
       "var outputEl = gd.closest('.output');\n",
       "if (outputEl) {{\n",
       "    x.observe(outputEl, {childList: true});\n",
       "}}\n",
       "\n",
       "                        })                };                });            </script>        </div>"
      ]
     },
     "metadata": {},
     "output_type": "display_data"
    }
   ],
   "source": [
    "head_count = 20\n",
    "\n",
    "words_per_sentence = go.Bar(y=df.sort_values(by=\"Words per Sentence\")[\"Website\"].head(head_count), \n",
    "                            x=df.sort_values(by=\"Words per Sentence\")[\"Words per Sentence\"].head(head_count), \n",
    "                            name=\"Words per Sentence\", marker=dict(color=\"#1EBC8C\"),\n",
    "                            orientation=\"h\", visible=True, width=0.8)\n",
    "word_count = go.Bar(y=df.sort_values(by=\"Word count\")[\"Website\"].head(head_count), \n",
    "                    x=df.sort_values(by=\"Word count\")[\"Word count\"].head(head_count), \n",
    "                    name=\"Word Count\", marker=dict(color=\"#7EA0BF\"),\n",
    "                    orientation=\"h\", visible=False)\n",
    "reading_time = go.Bar(y=df.sort_values(by=\"Reading time in minutes\")[\"Website\"].head(head_count), \n",
    "                      x=df.sort_values(by=\"Reading time in minutes\")[\"Reading time in minutes\"].head(head_count),  \n",
    "                      name=\"Reading Time\", width=0.6, marker=dict(color=\"#F14D78\"),\n",
    "                      orientation=\"h\", visible=False)\n",
    "readability_score = go.Bar(y=df.sort_values(by=\"Overall Readability\\nscore\")[\"Website\"].head(head_count), \n",
    "                           x=df.sort_values(by=\"Overall Readability\\nscore\")[\"Overall Readability\\nscore\"].head(head_count),  \n",
    "                           name=\"Reading Time\", width=0.6, marker=dict(color=\"#9D7EBF\"),\n",
    "                           orientation=\"h\", visible=False)\n",
    "\n",
    "traces = [words_per_sentence, word_count, reading_time, readability_score]\n",
    "\n",
    "fig = go.Figure(data=traces)\n",
    "\n",
    "fig.update_layout(\n",
    "    updatemenus=[\n",
    "        dict(buttons=list([\n",
    "            dict(label=\"Words Per Sentence\",\n",
    "                 method=\"update\",\n",
    "                 args=[{\"visible\": [True, False, False, False]}, \n",
    "                       {\"title\":{\"text\":\"Words per Sentence\", \"x\":0.5}}]),\n",
    "            dict(label=\"Word Count\",\n",
    "                 method=\"update\",\n",
    "                 args=[{\"visible\": [False, True, False, False]}, \n",
    "                       {\"title\":{\"text\":\"Word Count\", \"x\":0.5}}]),\n",
    "            dict(label=\"Reading Time\",\n",
    "                 method=\"update\",\n",
    "                 args=[{\"visible\": [False, False, True, False]}, \n",
    "                       {\"title\":{\"text\":\"Reading Time\", \"x\":0.5}}]),\n",
    "            dict(label=\"Readability Score\",\n",
    "                 method=\"update\",\n",
    "                 args=[{\"visible\": [False, False, False, True]}, \n",
    "                       {\"title\":{\"text\":\"Readability Score\", \"x\":0.5}}]),\n",
    "        ]),\n",
    "             direction=\"down\",\n",
    "             pad={\"r\": 10, \"t\": 10},\n",
    "             showactive=True,\n",
    "             x=0,\n",
    "             xanchor=\"left\",\n",
    "             y=1.1,\n",
    "             yanchor=\"top\"\n",
    "            )\n",
    "    ]\n",
    ")\n",
    "\n",
    "fig.update_layout(title={'text': \"Words per Sentence\",\n",
    "                         'x':0.5,\n",
    "                         'xanchor': 'center',\n",
    "                         'yanchor': 'top'},\n",
    "                 height=700, width=900)\n",
    "\n",
    "fig.show()"
   ]
  },
  {
   "cell_type": "code",
   "execution_count": 9,
   "id": "26d6fe96",
   "metadata": {},
   "outputs": [
    {
     "data": {
      "application/vnd.plotly.v1+json": {
       "config": {
        "plotlyServerURL": "https://plot.ly"
       },
       "data": [
        {
         "hovertemplate": "Word count=%{x}<br>Overall Readability\nscore=%{y}<extra></extra>",
         "legendgroup": "",
         "marker": {
          "color": "#636efa",
          "symbol": "circle"
         },
         "mode": "markers",
         "name": "",
         "orientation": "v",
         "showlegend": false,
         "type": "scatter",
         "x": [
          2573,
          11324,
          13675,
          4494,
          1497,
          1398,
          4760,
          3636,
          4462,
          4120,
          5149,
          5094,
          7768,
          1598,
          2940,
          2940,
          11121,
          975,
          4097,
          4977,
          3672,
          3244,
          1710,
          9186,
          4745,
          3773,
          3979,
          3739,
          3561,
          1965,
          2688,
          3545,
          2877,
          5821,
          6167,
          2100,
          6117,
          7318,
          1846,
          3543,
          2177,
          7052,
          5058,
          7636,
          4130,
          4268,
          3421,
          4707,
          2349,
          5973,
          5342,
          10407,
          2948,
          4276,
          4360,
          4068,
          2808,
          4236,
          4227,
          4495,
          13428,
          2625,
          5500,
          2684,
          5408,
          4948,
          2249,
          3993,
          5799,
          4216,
          5638,
          3964,
          38.59,
          7507,
          3482,
          5596,
          5871,
          4436,
          4301,
          8416,
          5661,
          4153,
          2623,
          555,
          5196,
          5441,
          283,
          6440,
          3802,
          872,
          8050,
          14441,
          11009,
          6304,
          1848,
          17946,
          14695,
          5383,
          9285,
          4269,
          1770,
          2143
         ],
         "xaxis": "x",
         "y": [
          2.8,
          6.2,
          15.5,
          10.1,
          28.06,
          23.3,
          15,
          20.5,
          27.3,
          34.03,
          27.53,
          27.17,
          32.3,
          30.45,
          26.1,
          26.1,
          36.48,
          33.33,
          33.01,
          23.7,
          29,
          32.15,
          29.71,
          31.35,
          32.02,
          30.92,
          37.46,
          27.4,
          29.84,
          26.7,
          36.09,
          32.76,
          35.62,
          39.11,
          40.2,
          31.66,
          37.02,
          22.7,
          39.9,
          44.45,
          31.73,
          32.76,
          31.86,
          45.8,
          34.18,
          33.96,
          33.46,
          35.15,
          43.43,
          27,
          36.33,
          40.26,
          19.5,
          31.92,
          29.89,
          34.8,
          27,
          31.72,
          43.01,
          32.28,
          36.36,
          42.48,
          30.01,
          42.39,
          31.86,
          28.33,
          42.69,
          33.21,
          25,
          24.7,
          34.19,
          35.12,
          38.59,
          46.47,
          42.34,
          26.5,
          43.87,
          29.07,
          34.63,
          30.48,
          28.14,
          37.86,
          30.05,
          43.2,
          41.65,
          32.15,
          19.3,
          35.17,
          42.94,
          30.64,
          35.83,
          21.5,
          35.52,
          42.79,
          35.98,
          49.1,
          41.79,
          39.37,
          56.2,
          56.7,
          32.76,
          49.62
         ],
         "yaxis": "y"
        },
        {
         "hovertemplate": "<b>OLS trendline</b><br>Overall Readability\nscore = 0.000163252 * Word count + 32.1072<br>R<sup>2</sup>=0.003456<br><br>Word count=%{x}<br>Overall Readability\nscore=%{y} <b>(trend)</b><extra></extra>",
         "legendgroup": "",
         "marker": {
          "color": "#636efa",
          "symbol": "circle"
         },
         "mode": "lines",
         "name": "",
         "showlegend": false,
         "type": "scatter",
         "x": [
          38.59,
          283,
          555,
          872,
          975,
          1398,
          1497,
          1598,
          1710,
          1770,
          1846,
          1848,
          1965,
          2100,
          2143,
          2177,
          2249,
          2349,
          2573,
          2623,
          2625,
          2684,
          2688,
          2808,
          2877,
          2940,
          2940,
          2948,
          3244,
          3421,
          3482,
          3543,
          3545,
          3561,
          3636,
          3672,
          3739,
          3773,
          3802,
          3964,
          3979,
          3993,
          4068,
          4097,
          4120,
          4130,
          4153,
          4216,
          4227,
          4236,
          4268,
          4269,
          4276,
          4301,
          4360,
          4436,
          4462,
          4494,
          4495,
          4707,
          4745,
          4760,
          4948,
          4977,
          5058,
          5094,
          5149,
          5196,
          5342,
          5383,
          5408,
          5441,
          5500,
          5596,
          5638,
          5661,
          5799,
          5821,
          5871,
          5973,
          6117,
          6167,
          6304,
          6440,
          7052,
          7318,
          7507,
          7636,
          7768,
          8050,
          8416,
          9186,
          9285,
          10407,
          11009,
          11121,
          11324,
          13428,
          13675,
          14441,
          14695,
          17946
         ],
         "xaxis": "x",
         "y": [
          32.1135458487222,
          32.15344627177825,
          32.19785081771027,
          32.24960170396193,
          32.26641666069354,
          32.335472259698115,
          32.351634208401315,
          32.36812266111872,
          32.38640688591426,
          32.39620200634044,
          32.40860915888027,
          32.40893566289448,
          32.42803614772553,
          32.450075168684435,
          32.45709500498987,
          32.46264557323137,
          32.474399717742784,
          32.49072491845309,
          32.52729336804417,
          32.53545596839932,
          32.53578247241352,
          32.5454143408326,
          32.546067348861015,
          32.565657589713375,
          32.57692197820349,
          32.58720685465097,
          32.58720685465097,
          32.5885128707078,
          32.6368354648103,
          32.66573107006753,
          32.67568944250081,
          32.6856478149341,
          32.685974318948304,
          32.68858635106195,
          32.70083025159468,
          32.70670732385039,
          32.71764520832629,
          32.72319577656779,
          32.72793008477378,
          32.75437690992447,
          32.756825690031015,
          32.75911121813046,
          32.77135511866318,
          32.77608942686917,
          32.77984422303254,
          32.78147674310357,
          32.78523153926694,
          32.79551641571443,
          32.79731218779256,
          32.79878145585649,
          32.80400552008379,
          32.80416877209089,
          32.805311536140614,
          32.80939283631819,
          32.81902470473727,
          32.831431857277096,
          32.835676409461776,
          32.84090047368907,
          32.84106372569617,
          32.875673151202015,
          32.881876727471926,
          32.884325507578474,
          32.91501688491384,
          32.91975119311983,
          32.93297460569517,
          32.938851677950886,
          32.94783053834155,
          32.95550338267539,
          32.979338175712435,
          32.986031508003656,
          32.99011280818123,
          32.995500124415635,
          33.00513199283471,
          33.0208041855166,
          33.02766076981493,
          33.0314155659783,
          33.053944342958516,
          33.05753588711478,
          33.06569848746993,
          33.08235019219444,
          33.105858481217275,
          33.114021081572425,
          33.13638660654554,
          33.15858887951155,
          33.2584991078586,
          33.301924141748,
          33.332778771090474,
          33.35383828000676,
          33.37538754494436,
          33.42142461094741,
          33.48117484554712,
          33.60687889101645,
          33.62304083971964,
          33.80620959168924,
          33.904487299965254,
          33.92277152476079,
          33.955911682202704,
          34.29939390514746,
          34.33971715090191,
          34.46476818834282,
          34.50623419814699,
          35.03696647323891
         ],
         "yaxis": "y"
        }
       ],
       "layout": {
        "autosize": true,
        "legend": {
         "tracegroupgap": 0
        },
        "template": {
         "data": {
          "bar": [
           {
            "error_x": {
             "color": "#2a3f5f"
            },
            "error_y": {
             "color": "#2a3f5f"
            },
            "marker": {
             "line": {
              "color": "#E5ECF6",
              "width": 0.5
             },
             "pattern": {
              "fillmode": "overlay",
              "size": 10,
              "solidity": 0.2
             }
            },
            "type": "bar"
           }
          ],
          "barpolar": [
           {
            "marker": {
             "line": {
              "color": "#E5ECF6",
              "width": 0.5
             },
             "pattern": {
              "fillmode": "overlay",
              "size": 10,
              "solidity": 0.2
             }
            },
            "type": "barpolar"
           }
          ],
          "carpet": [
           {
            "aaxis": {
             "endlinecolor": "#2a3f5f",
             "gridcolor": "white",
             "linecolor": "white",
             "minorgridcolor": "white",
             "startlinecolor": "#2a3f5f"
            },
            "baxis": {
             "endlinecolor": "#2a3f5f",
             "gridcolor": "white",
             "linecolor": "white",
             "minorgridcolor": "white",
             "startlinecolor": "#2a3f5f"
            },
            "type": "carpet"
           }
          ],
          "choropleth": [
           {
            "colorbar": {
             "outlinewidth": 0,
             "ticks": ""
            },
            "type": "choropleth"
           }
          ],
          "contour": [
           {
            "colorbar": {
             "outlinewidth": 0,
             "ticks": ""
            },
            "colorscale": [
             [
              0,
              "#0d0887"
             ],
             [
              0.1111111111111111,
              "#46039f"
             ],
             [
              0.2222222222222222,
              "#7201a8"
             ],
             [
              0.3333333333333333,
              "#9c179e"
             ],
             [
              0.4444444444444444,
              "#bd3786"
             ],
             [
              0.5555555555555556,
              "#d8576b"
             ],
             [
              0.6666666666666666,
              "#ed7953"
             ],
             [
              0.7777777777777778,
              "#fb9f3a"
             ],
             [
              0.8888888888888888,
              "#fdca26"
             ],
             [
              1,
              "#f0f921"
             ]
            ],
            "type": "contour"
           }
          ],
          "contourcarpet": [
           {
            "colorbar": {
             "outlinewidth": 0,
             "ticks": ""
            },
            "type": "contourcarpet"
           }
          ],
          "heatmap": [
           {
            "colorbar": {
             "outlinewidth": 0,
             "ticks": ""
            },
            "colorscale": [
             [
              0,
              "#0d0887"
             ],
             [
              0.1111111111111111,
              "#46039f"
             ],
             [
              0.2222222222222222,
              "#7201a8"
             ],
             [
              0.3333333333333333,
              "#9c179e"
             ],
             [
              0.4444444444444444,
              "#bd3786"
             ],
             [
              0.5555555555555556,
              "#d8576b"
             ],
             [
              0.6666666666666666,
              "#ed7953"
             ],
             [
              0.7777777777777778,
              "#fb9f3a"
             ],
             [
              0.8888888888888888,
              "#fdca26"
             ],
             [
              1,
              "#f0f921"
             ]
            ],
            "type": "heatmap"
           }
          ],
          "heatmapgl": [
           {
            "colorbar": {
             "outlinewidth": 0,
             "ticks": ""
            },
            "colorscale": [
             [
              0,
              "#0d0887"
             ],
             [
              0.1111111111111111,
              "#46039f"
             ],
             [
              0.2222222222222222,
              "#7201a8"
             ],
             [
              0.3333333333333333,
              "#9c179e"
             ],
             [
              0.4444444444444444,
              "#bd3786"
             ],
             [
              0.5555555555555556,
              "#d8576b"
             ],
             [
              0.6666666666666666,
              "#ed7953"
             ],
             [
              0.7777777777777778,
              "#fb9f3a"
             ],
             [
              0.8888888888888888,
              "#fdca26"
             ],
             [
              1,
              "#f0f921"
             ]
            ],
            "type": "heatmapgl"
           }
          ],
          "histogram": [
           {
            "marker": {
             "pattern": {
              "fillmode": "overlay",
              "size": 10,
              "solidity": 0.2
             }
            },
            "type": "histogram"
           }
          ],
          "histogram2d": [
           {
            "colorbar": {
             "outlinewidth": 0,
             "ticks": ""
            },
            "colorscale": [
             [
              0,
              "#0d0887"
             ],
             [
              0.1111111111111111,
              "#46039f"
             ],
             [
              0.2222222222222222,
              "#7201a8"
             ],
             [
              0.3333333333333333,
              "#9c179e"
             ],
             [
              0.4444444444444444,
              "#bd3786"
             ],
             [
              0.5555555555555556,
              "#d8576b"
             ],
             [
              0.6666666666666666,
              "#ed7953"
             ],
             [
              0.7777777777777778,
              "#fb9f3a"
             ],
             [
              0.8888888888888888,
              "#fdca26"
             ],
             [
              1,
              "#f0f921"
             ]
            ],
            "type": "histogram2d"
           }
          ],
          "histogram2dcontour": [
           {
            "colorbar": {
             "outlinewidth": 0,
             "ticks": ""
            },
            "colorscale": [
             [
              0,
              "#0d0887"
             ],
             [
              0.1111111111111111,
              "#46039f"
             ],
             [
              0.2222222222222222,
              "#7201a8"
             ],
             [
              0.3333333333333333,
              "#9c179e"
             ],
             [
              0.4444444444444444,
              "#bd3786"
             ],
             [
              0.5555555555555556,
              "#d8576b"
             ],
             [
              0.6666666666666666,
              "#ed7953"
             ],
             [
              0.7777777777777778,
              "#fb9f3a"
             ],
             [
              0.8888888888888888,
              "#fdca26"
             ],
             [
              1,
              "#f0f921"
             ]
            ],
            "type": "histogram2dcontour"
           }
          ],
          "mesh3d": [
           {
            "colorbar": {
             "outlinewidth": 0,
             "ticks": ""
            },
            "type": "mesh3d"
           }
          ],
          "parcoords": [
           {
            "line": {
             "colorbar": {
              "outlinewidth": 0,
              "ticks": ""
             }
            },
            "type": "parcoords"
           }
          ],
          "pie": [
           {
            "automargin": true,
            "type": "pie"
           }
          ],
          "scatter": [
           {
            "marker": {
             "colorbar": {
              "outlinewidth": 0,
              "ticks": ""
             }
            },
            "type": "scatter"
           }
          ],
          "scatter3d": [
           {
            "line": {
             "colorbar": {
              "outlinewidth": 0,
              "ticks": ""
             }
            },
            "marker": {
             "colorbar": {
              "outlinewidth": 0,
              "ticks": ""
             }
            },
            "type": "scatter3d"
           }
          ],
          "scattercarpet": [
           {
            "marker": {
             "colorbar": {
              "outlinewidth": 0,
              "ticks": ""
             }
            },
            "type": "scattercarpet"
           }
          ],
          "scattergeo": [
           {
            "marker": {
             "colorbar": {
              "outlinewidth": 0,
              "ticks": ""
             }
            },
            "type": "scattergeo"
           }
          ],
          "scattergl": [
           {
            "marker": {
             "colorbar": {
              "outlinewidth": 0,
              "ticks": ""
             }
            },
            "type": "scattergl"
           }
          ],
          "scattermapbox": [
           {
            "marker": {
             "colorbar": {
              "outlinewidth": 0,
              "ticks": ""
             }
            },
            "type": "scattermapbox"
           }
          ],
          "scatterpolar": [
           {
            "marker": {
             "colorbar": {
              "outlinewidth": 0,
              "ticks": ""
             }
            },
            "type": "scatterpolar"
           }
          ],
          "scatterpolargl": [
           {
            "marker": {
             "colorbar": {
              "outlinewidth": 0,
              "ticks": ""
             }
            },
            "type": "scatterpolargl"
           }
          ],
          "scatterternary": [
           {
            "marker": {
             "colorbar": {
              "outlinewidth": 0,
              "ticks": ""
             }
            },
            "type": "scatterternary"
           }
          ],
          "surface": [
           {
            "colorbar": {
             "outlinewidth": 0,
             "ticks": ""
            },
            "colorscale": [
             [
              0,
              "#0d0887"
             ],
             [
              0.1111111111111111,
              "#46039f"
             ],
             [
              0.2222222222222222,
              "#7201a8"
             ],
             [
              0.3333333333333333,
              "#9c179e"
             ],
             [
              0.4444444444444444,
              "#bd3786"
             ],
             [
              0.5555555555555556,
              "#d8576b"
             ],
             [
              0.6666666666666666,
              "#ed7953"
             ],
             [
              0.7777777777777778,
              "#fb9f3a"
             ],
             [
              0.8888888888888888,
              "#fdca26"
             ],
             [
              1,
              "#f0f921"
             ]
            ],
            "type": "surface"
           }
          ],
          "table": [
           {
            "cells": {
             "fill": {
              "color": "#EBF0F8"
             },
             "line": {
              "color": "white"
             }
            },
            "header": {
             "fill": {
              "color": "#C8D4E3"
             },
             "line": {
              "color": "white"
             }
            },
            "type": "table"
           }
          ]
         },
         "layout": {
          "annotationdefaults": {
           "arrowcolor": "#2a3f5f",
           "arrowhead": 0,
           "arrowwidth": 1
          },
          "autotypenumbers": "strict",
          "coloraxis": {
           "colorbar": {
            "outlinewidth": 0,
            "ticks": ""
           }
          },
          "colorscale": {
           "diverging": [
            [
             0,
             "#8e0152"
            ],
            [
             0.1,
             "#c51b7d"
            ],
            [
             0.2,
             "#de77ae"
            ],
            [
             0.3,
             "#f1b6da"
            ],
            [
             0.4,
             "#fde0ef"
            ],
            [
             0.5,
             "#f7f7f7"
            ],
            [
             0.6,
             "#e6f5d0"
            ],
            [
             0.7,
             "#b8e186"
            ],
            [
             0.8,
             "#7fbc41"
            ],
            [
             0.9,
             "#4d9221"
            ],
            [
             1,
             "#276419"
            ]
           ],
           "sequential": [
            [
             0,
             "#0d0887"
            ],
            [
             0.1111111111111111,
             "#46039f"
            ],
            [
             0.2222222222222222,
             "#7201a8"
            ],
            [
             0.3333333333333333,
             "#9c179e"
            ],
            [
             0.4444444444444444,
             "#bd3786"
            ],
            [
             0.5555555555555556,
             "#d8576b"
            ],
            [
             0.6666666666666666,
             "#ed7953"
            ],
            [
             0.7777777777777778,
             "#fb9f3a"
            ],
            [
             0.8888888888888888,
             "#fdca26"
            ],
            [
             1,
             "#f0f921"
            ]
           ],
           "sequentialminus": [
            [
             0,
             "#0d0887"
            ],
            [
             0.1111111111111111,
             "#46039f"
            ],
            [
             0.2222222222222222,
             "#7201a8"
            ],
            [
             0.3333333333333333,
             "#9c179e"
            ],
            [
             0.4444444444444444,
             "#bd3786"
            ],
            [
             0.5555555555555556,
             "#d8576b"
            ],
            [
             0.6666666666666666,
             "#ed7953"
            ],
            [
             0.7777777777777778,
             "#fb9f3a"
            ],
            [
             0.8888888888888888,
             "#fdca26"
            ],
            [
             1,
             "#f0f921"
            ]
           ]
          },
          "colorway": [
           "#636efa",
           "#EF553B",
           "#00cc96",
           "#ab63fa",
           "#FFA15A",
           "#19d3f3",
           "#FF6692",
           "#B6E880",
           "#FF97FF",
           "#FECB52"
          ],
          "font": {
           "color": "#2a3f5f"
          },
          "geo": {
           "bgcolor": "white",
           "lakecolor": "white",
           "landcolor": "#E5ECF6",
           "showlakes": true,
           "showland": true,
           "subunitcolor": "white"
          },
          "hoverlabel": {
           "align": "left"
          },
          "hovermode": "closest",
          "mapbox": {
           "style": "light"
          },
          "paper_bgcolor": "white",
          "plot_bgcolor": "#E5ECF6",
          "polar": {
           "angularaxis": {
            "gridcolor": "white",
            "linecolor": "white",
            "ticks": ""
           },
           "bgcolor": "#E5ECF6",
           "radialaxis": {
            "gridcolor": "white",
            "linecolor": "white",
            "ticks": ""
           }
          },
          "scene": {
           "xaxis": {
            "backgroundcolor": "#E5ECF6",
            "gridcolor": "white",
            "gridwidth": 2,
            "linecolor": "white",
            "showbackground": true,
            "ticks": "",
            "zerolinecolor": "white"
           },
           "yaxis": {
            "backgroundcolor": "#E5ECF6",
            "gridcolor": "white",
            "gridwidth": 2,
            "linecolor": "white",
            "showbackground": true,
            "ticks": "",
            "zerolinecolor": "white"
           },
           "zaxis": {
            "backgroundcolor": "#E5ECF6",
            "gridcolor": "white",
            "gridwidth": 2,
            "linecolor": "white",
            "showbackground": true,
            "ticks": "",
            "zerolinecolor": "white"
           }
          },
          "shapedefaults": {
           "line": {
            "color": "#2a3f5f"
           }
          },
          "ternary": {
           "aaxis": {
            "gridcolor": "white",
            "linecolor": "white",
            "ticks": ""
           },
           "baxis": {
            "gridcolor": "white",
            "linecolor": "white",
            "ticks": ""
           },
           "bgcolor": "#E5ECF6",
           "caxis": {
            "gridcolor": "white",
            "linecolor": "white",
            "ticks": ""
           }
          },
          "title": {
           "x": 0.05
          },
          "xaxis": {
           "automargin": true,
           "gridcolor": "white",
           "linecolor": "white",
           "ticks": "",
           "title": {
            "standoff": 15
           },
           "zerolinecolor": "white",
           "zerolinewidth": 2
          },
          "yaxis": {
           "automargin": true,
           "gridcolor": "white",
           "linecolor": "white",
           "ticks": "",
           "title": {
            "standoff": 15
           },
           "zerolinecolor": "white",
           "zerolinewidth": 2
          }
         }
        },
        "title": {
         "text": "Readability Scores in Privacy Policies"
        },
        "xaxis": {
         "anchor": "y",
         "autorange": true,
         "domain": [
          0,
          1
         ],
         "range": [
          -1045.2514519976148,
          19029.841451997614
         ],
         "title": {
          "text": "Word count"
         },
         "type": "linear"
        },
        "yaxis": {
         "anchor": "x",
         "autorange": true,
         "domain": [
          0,
          1
         ],
         "range": [
          -0.800607287449393,
          60.300607287449395
         ],
         "title": {
          "text": "Overall Readability\nscore"
         },
         "type": "linear"
        }
       }
      },
      "image/png": "[encoded data removed]",
      "text/html": [
       "<div>                            <div id=\"93135429-5320-4f86-af60-dfab0c98406a\" class=\"plotly-graph-div\" style=\"height:600px; width:100%;\"></div>            <script type=\"text/javascript\">                require([\"plotly\"], function(Plotly) {                    window.PLOTLYENV=window.PLOTLYENV || {};                                    if (document.getElementById(\"93135429-5320-4f86-af60-dfab0c98406a\")) {                    Plotly.newPlot(                        \"93135429-5320-4f86-af60-dfab0c98406a\",                        [{\"hovertemplate\":\"Word count=%{x}<br>Overall Readability\\nscore=%{y}<extra></extra>\",\"legendgroup\":\"\",\"marker\":{\"color\":\"#636efa\",\"symbol\":\"circle\"},\"mode\":\"markers\",\"name\":\"\",\"orientation\":\"v\",\"showlegend\":false,\"x\":[2573.0,11324.0,13675.0,4494.0,1497.0,1398.0,4760.0,3636.0,4462.0,4120.0,5149.0,5094.0,7768.0,1598.0,2940.0,2940.0,11121.0,975.0,4097.0,4977.0,3672.0,3244.0,1710.0,9186.0,4745.0,3773.0,3979.0,3739.0,3561.0,1965.0,2688.0,3545.0,2877.0,5821.0,6167.0,2100.0,6117.0,7318.0,1846.0,3543.0,2177.0,7052.0,5058.0,7636.0,4130.0,4268.0,3421.0,4707.0,2349.0,5973.0,5342.0,10407.0,2948.0,4276.0,4360.0,4068.0,2808.0,4236.0,4227.0,4495.0,13428.0,2625.0,5500.0,2684.0,5408.0,4948.0,2249.0,3993.0,5799.0,4216.0,5638.0,3964.0,38.59,7507.0,3482.0,5596.0,5871.0,4436.0,4301.0,8416.0,5661.0,4153.0,2623.0,555.0,5196.0,5441.0,283.0,6440.0,3802.0,872.0,8050.0,14441.0,11009.0,6304.0,1848.0,17946.0,14695.0,5383.0,9285.0,4269.0,1770.0,2143.0],\"xaxis\":\"x\",\"y\":[2.8,6.2,15.5,10.1,28.06,23.3,15.0,20.5,27.3,34.03,27.53,27.17,32.3,30.45,26.1,26.1,36.48,33.33,33.01,23.7,29.0,32.15,29.71,31.35,32.02,30.92,37.46,27.4,29.84,26.7,36.09,32.76,35.62,39.11,40.2,31.66,37.02,22.7,39.9,44.45,31.73,32.76,31.86,45.8,34.18,33.96,33.46,35.15,43.43,27.0,36.33,40.26,19.5,31.92,29.89,34.8,27.0,31.72,43.01,32.28,36.36,42.48,30.01,42.39,31.86,28.33,42.69,33.21,25.0,24.7,34.19,35.12,38.59,46.47,42.34,26.5,43.87,29.07,34.63,30.48,28.14,37.86,30.05,43.2,41.65,32.15,19.3,35.17,42.94,30.64,35.83,21.5,35.52,42.79,35.98,49.1,41.79,39.37,56.2,56.7,32.76,49.62],\"yaxis\":\"y\",\"type\":\"scatter\"},{\"hovertemplate\":\"<b>OLS trendline</b><br>Overall Readability\\nscore = 0.000163252 * Word count + 32.1072<br>R<sup>2</sup>=0.003456<br><br>Word count=%{x}<br>Overall Readability\\nscore=%{y} <b>(trend)</b><extra></extra>\",\"legendgroup\":\"\",\"marker\":{\"color\":\"#636efa\",\"symbol\":\"circle\"},\"mode\":\"lines\",\"name\":\"\",\"showlegend\":false,\"x\":[38.59,283.0,555.0,872.0,975.0,1398.0,1497.0,1598.0,1710.0,1770.0,1846.0,1848.0,1965.0,2100.0,2143.0,2177.0,2249.0,2349.0,2573.0,2623.0,2625.0,2684.0,2688.0,2808.0,2877.0,2940.0,2940.0,2948.0,3244.0,3421.0,3482.0,3543.0,3545.0,3561.0,3636.0,3672.0,3739.0,3773.0,3802.0,3964.0,3979.0,3993.0,4068.0,4097.0,4120.0,4130.0,4153.0,4216.0,4227.0,4236.0,4268.0,4269.0,4276.0,4301.0,4360.0,4436.0,4462.0,4494.0,4495.0,4707.0,4745.0,4760.0,4948.0,4977.0,5058.0,5094.0,5149.0,5196.0,5342.0,5383.0,5408.0,5441.0,5500.0,5596.0,5638.0,5661.0,5799.0,5821.0,5871.0,5973.0,6117.0,6167.0,6304.0,6440.0,7052.0,7318.0,7507.0,7636.0,7768.0,8050.0,8416.0,9186.0,9285.0,10407.0,11009.0,11121.0,11324.0,13428.0,13675.0,14441.0,14695.0,17946.0],\"xaxis\":\"x\",\"y\":[32.1135458487222,32.15344627177825,32.19785081771027,32.24960170396193,32.26641666069354,32.335472259698115,32.351634208401315,32.36812266111872,32.38640688591426,32.39620200634044,32.40860915888027,32.40893566289448,32.42803614772553,32.450075168684435,32.45709500498987,32.46264557323137,32.474399717742784,32.49072491845309,32.52729336804417,32.53545596839932,32.53578247241352,32.5454143408326,32.546067348861015,32.565657589713375,32.57692197820349,32.58720685465097,32.58720685465097,32.5885128707078,32.6368354648103,32.66573107006753,32.67568944250081,32.6856478149341,32.685974318948304,32.68858635106195,32.70083025159468,32.70670732385039,32.71764520832629,32.72319577656779,32.72793008477378,32.75437690992447,32.756825690031015,32.75911121813046,32.77135511866318,32.77608942686917,32.77984422303254,32.78147674310357,32.78523153926694,32.79551641571443,32.79731218779256,32.79878145585649,32.80400552008379,32.80416877209089,32.805311536140614,32.80939283631819,32.81902470473727,32.831431857277096,32.835676409461776,32.84090047368907,32.84106372569617,32.875673151202015,32.881876727471926,32.884325507578474,32.91501688491384,32.91975119311983,32.93297460569517,32.938851677950886,32.94783053834155,32.95550338267539,32.979338175712435,32.986031508003656,32.99011280818123,32.995500124415635,33.00513199283471,33.0208041855166,33.02766076981493,33.0314155659783,33.053944342958516,33.05753588711478,33.06569848746993,33.08235019219444,33.105858481217275,33.114021081572425,33.13638660654554,33.15858887951155,33.2584991078586,33.301924141748,33.332778771090474,33.35383828000676,33.37538754494436,33.42142461094741,33.48117484554712,33.60687889101645,33.62304083971964,33.80620959168924,33.904487299965254,33.92277152476079,33.955911682202704,34.29939390514746,34.33971715090191,34.46476818834282,34.50623419814699,35.03696647323891],\"yaxis\":\"y\",\"type\":\"scatter\"}],                        {\"template\":{\"data\":{\"bar\":[{\"error_x\":{\"color\":\"#2a3f5f\"},\"error_y\":{\"color\":\"#2a3f5f\"},\"marker\":{\"line\":{\"color\":\"#E5ECF6\",\"width\":0.5},\"pattern\":{\"fillmode\":\"overlay\",\"size\":10,\"solidity\":0.2}},\"type\":\"bar\"}],\"barpolar\":[{\"marker\":{\"line\":{\"color\":\"#E5ECF6\",\"width\":0.5},\"pattern\":{\"fillmode\":\"overlay\",\"size\":10,\"solidity\":0.2}},\"type\":\"barpolar\"}],\"carpet\":[{\"aaxis\":{\"endlinecolor\":\"#2a3f5f\",\"gridcolor\":\"white\",\"linecolor\":\"white\",\"minorgridcolor\":\"white\",\"startlinecolor\":\"#2a3f5f\"},\"baxis\":{\"endlinecolor\":\"#2a3f5f\",\"gridcolor\":\"white\",\"linecolor\":\"white\",\"minorgridcolor\":\"white\",\"startlinecolor\":\"#2a3f5f\"},\"type\":\"carpet\"}],\"choropleth\":[{\"colorbar\":{\"outlinewidth\":0,\"ticks\":\"\"},\"type\":\"choropleth\"}],\"contour\":[{\"colorbar\":{\"outlinewidth\":0,\"ticks\":\"\"},\"colorscale\":[[0.0,\"#0d0887\"],[0.1111111111111111,\"#46039f\"],[0.2222222222222222,\"#7201a8\"],[0.3333333333333333,\"#9c179e\"],[0.4444444444444444,\"#bd3786\"],[0.5555555555555556,\"#d8576b\"],[0.6666666666666666,\"#ed7953\"],[0.7777777777777778,\"#fb9f3a\"],[0.8888888888888888,\"#fdca26\"],[1.0,\"#f0f921\"]],\"type\":\"contour\"}],\"contourcarpet\":[{\"colorbar\":{\"outlinewidth\":0,\"ticks\":\"\"},\"type\":\"contourcarpet\"}],\"heatmap\":[{\"colorbar\":{\"outlinewidth\":0,\"ticks\":\"\"},\"colorscale\":[[0.0,\"#0d0887\"],[0.1111111111111111,\"#46039f\"],[0.2222222222222222,\"#7201a8\"],[0.3333333333333333,\"#9c179e\"],[0.4444444444444444,\"#bd3786\"],[0.5555555555555556,\"#d8576b\"],[0.6666666666666666,\"#ed7953\"],[0.7777777777777778,\"#fb9f3a\"],[0.8888888888888888,\"#fdca26\"],[1.0,\"#f0f921\"]],\"type\":\"heatmap\"}],\"heatmapgl\":[{\"colorbar\":{\"outlinewidth\":0,\"ticks\":\"\"},\"colorscale\":[[0.0,\"#0d0887\"],[0.1111111111111111,\"#46039f\"],[0.2222222222222222,\"#7201a8\"],[0.3333333333333333,\"#9c179e\"],[0.4444444444444444,\"#bd3786\"],[0.5555555555555556,\"#d8576b\"],[0.6666666666666666,\"#ed7953\"],[0.7777777777777778,\"#fb9f3a\"],[0.8888888888888888,\"#fdca26\"],[1.0,\"#f0f921\"]],\"type\":\"heatmapgl\"}],\"histogram\":[{\"marker\":{\"pattern\":{\"fillmode\":\"overlay\",\"size\":10,\"solidity\":0.2}},\"type\":\"histogram\"}],\"histogram2d\":[{\"colorbar\":{\"outlinewidth\":0,\"ticks\":\"\"},\"colorscale\":[[0.0,\"#0d0887\"],[0.1111111111111111,\"#46039f\"],[0.2222222222222222,\"#7201a8\"],[0.3333333333333333,\"#9c179e\"],[0.4444444444444444,\"#bd3786\"],[0.5555555555555556,\"#d8576b\"],[0.6666666666666666,\"#ed7953\"],[0.7777777777777778,\"#fb9f3a\"],[0.8888888888888888,\"#fdca26\"],[1.0,\"#f0f921\"]],\"type\":\"histogram2d\"}],\"histogram2dcontour\":[{\"colorbar\":{\"outlinewidth\":0,\"ticks\":\"\"},\"colorscale\":[[0.0,\"#0d0887\"],[0.1111111111111111,\"#46039f\"],[0.2222222222222222,\"#7201a8\"],[0.3333333333333333,\"#9c179e\"],[0.4444444444444444,\"#bd3786\"],[0.5555555555555556,\"#d8576b\"],[0.6666666666666666,\"#ed7953\"],[0.7777777777777778,\"#fb9f3a\"],[0.8888888888888888,\"#fdca26\"],[1.0,\"#f0f921\"]],\"type\":\"histogram2dcontour\"}],\"mesh3d\":[{\"colorbar\":{\"outlinewidth\":0,\"ticks\":\"\"},\"type\":\"mesh3d\"}],\"parcoords\":[{\"line\":{\"colorbar\":{\"outlinewidth\":0,\"ticks\":\"\"}},\"type\":\"parcoords\"}],\"pie\":[{\"automargin\":true,\"type\":\"pie\"}],\"scatter\":[{\"marker\":{\"colorbar\":{\"outlinewidth\":0,\"ticks\":\"\"}},\"type\":\"scatter\"}],\"scatter3d\":[{\"line\":{\"colorbar\":{\"outlinewidth\":0,\"ticks\":\"\"}},\"marker\":{\"colorbar\":{\"outlinewidth\":0,\"ticks\":\"\"}},\"type\":\"scatter3d\"}],\"scattercarpet\":[{\"marker\":{\"colorbar\":{\"outlinewidth\":0,\"ticks\":\"\"}},\"type\":\"scattercarpet\"}],\"scattergeo\":[{\"marker\":{\"colorbar\":{\"outlinewidth\":0,\"ticks\":\"\"}},\"type\":\"scattergeo\"}],\"scattergl\":[{\"marker\":{\"colorbar\":{\"outlinewidth\":0,\"ticks\":\"\"}},\"type\":\"scattergl\"}],\"scattermapbox\":[{\"marker\":{\"colorbar\":{\"outlinewidth\":0,\"ticks\":\"\"}},\"type\":\"scattermapbox\"}],\"scatterpolar\":[{\"marker\":{\"colorbar\":{\"outlinewidth\":0,\"ticks\":\"\"}},\"type\":\"scatterpolar\"}],\"scatterpolargl\":[{\"marker\":{\"colorbar\":{\"outlinewidth\":0,\"ticks\":\"\"}},\"type\":\"scatterpolargl\"}],\"scatterternary\":[{\"marker\":{\"colorbar\":{\"outlinewidth\":0,\"ticks\":\"\"}},\"type\":\"scatterternary\"}],\"surface\":[{\"colorbar\":{\"outlinewidth\":0,\"ticks\":\"\"},\"colorscale\":[[0.0,\"#0d0887\"],[0.1111111111111111,\"#46039f\"],[0.2222222222222222,\"#7201a8\"],[0.3333333333333333,\"#9c179e\"],[0.4444444444444444,\"#bd3786\"],[0.5555555555555556,\"#d8576b\"],[0.6666666666666666,\"#ed7953\"],[0.7777777777777778,\"#fb9f3a\"],[0.8888888888888888,\"#fdca26\"],[1.0,\"#f0f921\"]],\"type\":\"surface\"}],\"table\":[{\"cells\":{\"fill\":{\"color\":\"#EBF0F8\"},\"line\":{\"color\":\"white\"}},\"header\":{\"fill\":{\"color\":\"#C8D4E3\"},\"line\":{\"color\":\"white\"}},\"type\":\"table\"}]},\"layout\":{\"annotationdefaults\":{\"arrowcolor\":\"#2a3f5f\",\"arrowhead\":0,\"arrowwidth\":1},\"autotypenumbers\":\"strict\",\"coloraxis\":{\"colorbar\":{\"outlinewidth\":0,\"ticks\":\"\"}},\"colorscale\":{\"diverging\":[[0,\"#8e0152\"],[0.1,\"#c51b7d\"],[0.2,\"#de77ae\"],[0.3,\"#f1b6da\"],[0.4,\"#fde0ef\"],[0.5,\"#f7f7f7\"],[0.6,\"#e6f5d0\"],[0.7,\"#b8e186\"],[0.8,\"#7fbc41\"],[0.9,\"#4d9221\"],[1,\"#276419\"]],\"sequential\":[[0.0,\"#0d0887\"],[0.1111111111111111,\"#46039f\"],[0.2222222222222222,\"#7201a8\"],[0.3333333333333333,\"#9c179e\"],[0.4444444444444444,\"#bd3786\"],[0.5555555555555556,\"#d8576b\"],[0.6666666666666666,\"#ed7953\"],[0.7777777777777778,\"#fb9f3a\"],[0.8888888888888888,\"#fdca26\"],[1.0,\"#f0f921\"]],\"sequentialminus\":[[0.0,\"#0d0887\"],[0.1111111111111111,\"#46039f\"],[0.2222222222222222,\"#7201a8\"],[0.3333333333333333,\"#9c179e\"],[0.4444444444444444,\"#bd3786\"],[0.5555555555555556,\"#d8576b\"],[0.6666666666666666,\"#ed7953\"],[0.7777777777777778,\"#fb9f3a\"],[0.8888888888888888,\"#fdca26\"],[1.0,\"#f0f921\"]]},\"colorway\":[\"#636efa\",\"#EF553B\",\"#00cc96\",\"#ab63fa\",\"#FFA15A\",\"#19d3f3\",\"#FF6692\",\"#B6E880\",\"#FF97FF\",\"#FECB52\"],\"font\":{\"color\":\"#2a3f5f\"},\"geo\":{\"bgcolor\":\"white\",\"lakecolor\":\"white\",\"landcolor\":\"#E5ECF6\",\"showlakes\":true,\"showland\":true,\"subunitcolor\":\"white\"},\"hoverlabel\":{\"align\":\"left\"},\"hovermode\":\"closest\",\"mapbox\":{\"style\":\"light\"},\"paper_bgcolor\":\"white\",\"plot_bgcolor\":\"#E5ECF6\",\"polar\":{\"angularaxis\":{\"gridcolor\":\"white\",\"linecolor\":\"white\",\"ticks\":\"\"},\"bgcolor\":\"#E5ECF6\",\"radialaxis\":{\"gridcolor\":\"white\",\"linecolor\":\"white\",\"ticks\":\"\"}},\"scene\":{\"xaxis\":{\"backgroundcolor\":\"#E5ECF6\",\"gridcolor\":\"white\",\"gridwidth\":2,\"linecolor\":\"white\",\"showbackground\":true,\"ticks\":\"\",\"zerolinecolor\":\"white\"},\"yaxis\":{\"backgroundcolor\":\"#E5ECF6\",\"gridcolor\":\"white\",\"gridwidth\":2,\"linecolor\":\"white\",\"showbackground\":true,\"ticks\":\"\",\"zerolinecolor\":\"white\"},\"zaxis\":{\"backgroundcolor\":\"#E5ECF6\",\"gridcolor\":\"white\",\"gridwidth\":2,\"linecolor\":\"white\",\"showbackground\":true,\"ticks\":\"\",\"zerolinecolor\":\"white\"}},\"shapedefaults\":{\"line\":{\"color\":\"#2a3f5f\"}},\"ternary\":{\"aaxis\":{\"gridcolor\":\"white\",\"linecolor\":\"white\",\"ticks\":\"\"},\"baxis\":{\"gridcolor\":\"white\",\"linecolor\":\"white\",\"ticks\":\"\"},\"bgcolor\":\"#E5ECF6\",\"caxis\":{\"gridcolor\":\"white\",\"linecolor\":\"white\",\"ticks\":\"\"}},\"title\":{\"x\":0.05},\"xaxis\":{\"automargin\":true,\"gridcolor\":\"white\",\"linecolor\":\"white\",\"ticks\":\"\",\"title\":{\"standoff\":15},\"zerolinecolor\":\"white\",\"zerolinewidth\":2},\"yaxis\":{\"automargin\":true,\"gridcolor\":\"white\",\"linecolor\":\"white\",\"ticks\":\"\",\"title\":{\"standoff\":15},\"zerolinecolor\":\"white\",\"zerolinewidth\":2}}},\"xaxis\":{\"anchor\":\"y\",\"domain\":[0.0,1.0],\"title\":{\"text\":\"Word count\"}},\"yaxis\":{\"anchor\":\"x\",\"domain\":[0.0,1.0],\"title\":{\"text\":\"Overall Readability\\nscore\"}},\"legend\":{\"tracegroupgap\":0},\"title\":{\"text\":\"Readability Scores in Privacy Policies\"},\"height\":600},                        {\"responsive\": true}                    ).then(function(){\n",
       "                            \n",
       "var gd = document.getElementById('93135429-5320-4f86-af60-dfab0c98406a');\n",
       "var x = new MutationObserver(function (mutations, observer) {{\n",
       "        var display = window.getComputedStyle(gd).display;\n",
       "        if (!display || display === 'none') {{\n",
       "            console.log([gd, 'removed!']);\n",
       "            Plotly.purge(gd);\n",
       "            observer.disconnect();\n",
       "        }}\n",
       "}});\n",
       "\n",
       "// Listen for the removal of the full notebook cells\n",
       "var notebookContainer = gd.closest('#notebook-container');\n",
       "if (notebookContainer) {{\n",
       "    x.observe(notebookContainer, {childList: true});\n",
       "}}\n",
       "\n",
       "// Listen for the clearing of the current output cell\n",
       "var outputEl = gd.closest('.output');\n",
       "if (outputEl) {{\n",
       "    x.observe(outputEl, {childList: true});\n",
       "}}\n",
       "\n",
       "                        })                };                });            </script>        </div>"
      ]
     },
     "metadata": {},
     "output_type": "display_data"
    }
   ],
   "source": [
    "#df.plot.scatter(x = 'Word count', y = 'Overall Readability\\nscore')\n",
    "px.scatter(df, x='Word count', y='Overall Readability\\nscore', title='Readability Scores in Privacy Policies', trendline='ols', height=600)"
   ]
  },
  {
   "cell_type": "code",
   "execution_count": 10,
   "id": "31a6b420",
   "metadata": {},
   "outputs": [
    {
     "data": {
      "text/plain": [
       "0.05878532923263987"
      ]
     },
     "execution_count": 10,
     "metadata": {},
     "output_type": "execute_result"
    }
   ],
   "source": [
    "df['Word count'].corr(df['Overall Readability\\nscore'])"
   ]
  },
  {
   "cell_type": "code",
   "execution_count": 11,
   "id": "dfea0a08",
   "metadata": {},
   "outputs": [
    {
     "data": {
      "application/vnd.plotly.v1+json": {
       "config": {
        "plotlyServerURL": "https://plot.ly"
       },
       "data": [
        {
         "hovertemplate": "Words per Sentence=%{x}<br>Overall Readability\nscore=%{y}<extra></extra>",
         "legendgroup": "",
         "marker": {
          "color": "#636efa",
          "symbol": "circle"
         },
         "mode": "markers",
         "name": "",
         "orientation": "v",
         "showlegend": false,
         "type": "scatter",
         "x": [
          46.15,
          41.44,
          38.42,
          35.77,
          34.66,
          33.97,
          33.6,
          31.25,
          30.9,
          30.04,
          28.52,
          28.04,
          27.59,
          26.31,
          26.28,
          26.28,
          26.23,
          26.17,
          25.65,
          25.63,
          25.4,
          25.38,
          25.32,
          25.3,
          24.61,
          24.37,
          24.26,
          24.09,
          23.91,
          23.79,
          23.67,
          23.67,
          23.6,
          23.43,
          23.26,
          23.22,
          23.22,
          23.18,
          23.16,
          23.15,
          23.08,
          22.96,
          22.78,
          22.57,
          22.49,
          22.37,
          22.37,
          22.17,
          22.11,
          22.06,
          21.96,
          21.9,
          21.77,
          21.71,
          21.41,
          21.32,
          20.78,
          20.62,
          20.61,
          20.54,
          20.39,
          20.37,
          20.35,
          20.34,
          20.32,
          20.26,
          20.03,
          20,
          19.84,
          19.8,
          19.6,
          19.52,
          19.5,
          19.25,
          19.15,
          19.13,
          19.04,
          19.01,
          18.97,
          18.91,
          18.71,
          18.62,
          18.34,
          18.29,
          18.23,
          18.07,
          18.07,
          18.06,
          17.97,
          17.91,
          17.36,
          17.07,
          16.97,
          15.57,
          15.54,
          15.47,
          14.68,
          13.46,
          13.42,
          12.93,
          12.92,
          11.36
         ],
         "xaxis": "x",
         "y": [
          2.8,
          6.2,
          15.5,
          10.1,
          28.06,
          23.3,
          15,
          20.5,
          27.3,
          34.03,
          27.53,
          27.17,
          32.3,
          30.45,
          26.1,
          26.1,
          36.48,
          33.33,
          33.01,
          23.7,
          29,
          32.15,
          29.71,
          31.35,
          32.02,
          30.92,
          37.46,
          27.4,
          29.84,
          26.7,
          36.09,
          32.76,
          35.62,
          39.11,
          40.2,
          31.66,
          37.02,
          22.7,
          39.9,
          44.45,
          31.73,
          32.76,
          31.86,
          45.8,
          34.18,
          33.96,
          33.46,
          35.15,
          43.43,
          27,
          36.33,
          40.26,
          19.5,
          31.92,
          29.89,
          34.8,
          27,
          31.72,
          43.01,
          32.28,
          36.36,
          42.48,
          30.01,
          42.39,
          31.86,
          28.33,
          42.69,
          33.21,
          25,
          24.7,
          34.19,
          35.12,
          38.59,
          46.47,
          42.34,
          26.5,
          43.87,
          29.07,
          34.63,
          30.48,
          28.14,
          37.86,
          30.05,
          43.2,
          41.65,
          32.15,
          19.3,
          35.17,
          42.94,
          30.64,
          35.83,
          21.5,
          35.52,
          42.79,
          35.98,
          49.1,
          41.79,
          39.37,
          56.2,
          56.7,
          32.76,
          49.62
         ],
         "yaxis": "y"
        },
        {
         "hovertemplate": "<b>OLS trendline</b><br>Overall Readability\nscore = -1.07227 * Words per Sentence + 57.0256<br>R<sup>2</sup>=0.472411<br><br>Words per Sentence=%{x}<br>Overall Readability\nscore=%{y} <b>(trend)</b><extra></extra>",
         "legendgroup": "",
         "marker": {
          "color": "#636efa",
          "symbol": "circle"
         },
         "mode": "lines",
         "name": "",
         "showlegend": false,
         "type": "scatter",
         "x": [
          11.36,
          12.92,
          12.93,
          13.42,
          13.46,
          14.68,
          15.47,
          15.54,
          15.57,
          16.97,
          17.07,
          17.36,
          17.91,
          17.97,
          18.06,
          18.07,
          18.07,
          18.23,
          18.29,
          18.34,
          18.62,
          18.71,
          18.91,
          18.97,
          19.01,
          19.04,
          19.13,
          19.15,
          19.25,
          19.5,
          19.52,
          19.6,
          19.8,
          19.84,
          20,
          20.03,
          20.26,
          20.32,
          20.34,
          20.35,
          20.37,
          20.39,
          20.54,
          20.61,
          20.62,
          20.78,
          21.32,
          21.41,
          21.71,
          21.77,
          21.9,
          21.96,
          22.06,
          22.11,
          22.17,
          22.37,
          22.37,
          22.49,
          22.57,
          22.78,
          22.96,
          23.08,
          23.15,
          23.16,
          23.18,
          23.22,
          23.22,
          23.26,
          23.43,
          23.6,
          23.67,
          23.67,
          23.79,
          23.91,
          24.09,
          24.26,
          24.37,
          24.61,
          25.3,
          25.32,
          25.38,
          25.4,
          25.63,
          25.65,
          26.17,
          26.23,
          26.28,
          26.28,
          26.31,
          27.59,
          28.04,
          28.52,
          30.04,
          30.9,
          31.25,
          33.6,
          33.97,
          34.66,
          35.77,
          38.42,
          41.44,
          46.15
         ],
         "xaxis": "x",
         "y": [
          44.844640706982005,
          43.1719002995121,
          43.161177604592424,
          42.63576555352816,
          42.592874773849445,
          41.28470599364862,
          40.43761309499399,
          40.36255423055624,
          40.3303861457972,
          38.82920885704216,
          38.72198190784537,
          38.41102375517468,
          37.821275534592345,
          37.756939365074274,
          37.66043511079717,
          37.64971241587748,
          37.64971241587748,
          37.47814929716262,
          37.413813127644545,
          37.36019965304615,
          37.059964195295144,
          36.96345994101803,
          36.74900604262446,
          36.68466987310639,
          36.641779093427665,
          36.60961100866864,
          36.51310675439152,
          36.491661364552165,
          36.38443441535537,
          36.11636704236341,
          36.09492165252405,
          36.009140093166614,
          35.794686194773035,
          35.75179541509432,
          35.580232296379464,
          35.54806421162042,
          35.301442228467806,
          35.237106058949735,
          35.21566066911038,
          35.2049379741907,
          35.18349258435134,
          35.162047194511985,
          35.001206770716806,
          34.92614790627905,
          34.91542521135936,
          34.743862092644505,
          34.16483656698185,
          34.06833231270474,
          33.74665146511437,
          33.6823152955963,
          33.542920261640475,
          33.478584092122404,
          33.37135714292562,
          33.31774366832722,
          33.25340749880914,
          33.03895360041557,
          33.03895360041557,
          32.910281261379424,
          32.82449970202199,
          32.59932310870873,
          32.406314600154516,
          32.277642261118366,
          32.202583396680616,
          32.19186070176093,
          32.17041531192157,
          32.12752453224286,
          32.12752453224286,
          32.084633752564145,
          31.902347938929605,
          31.720062125295062,
          31.64500326085731,
          31.64500326085731,
          31.516330921821165,
          31.38765858278502,
          31.1946500742308,
          31.012364260596257,
          30.89441461647979,
          30.6370699384075,
          29.897203988949656,
          29.8757585991103,
          29.811422429592227,
          29.78997703975287,
          29.543355056600255,
          29.521909666760898,
          28.96432953093759,
          28.89999336141952,
          28.846379886821126,
          28.846379886821126,
          28.81421180206209,
          27.441706852343195,
          26.959185580957644,
          26.444496224813058,
          24.81464659702187,
          23.89249483392949,
          23.517200511740725,
          20.997367205616186,
          20.60062749358807,
          19.860761544130234,
          18.67054240804587,
          15.829028254330971,
          12.590774388587953,
          7.540385081419203
         ],
         "yaxis": "y"
        }
       ],
       "layout": {
        "autosize": true,
        "legend": {
         "tracegroupgap": 0
        },
        "template": {
         "data": {
          "bar": [
           {
            "error_x": {
             "color": "#2a3f5f"
            },
            "error_y": {
             "color": "#2a3f5f"
            },
            "marker": {
             "line": {
              "color": "#E5ECF6",
              "width": 0.5
             },
             "pattern": {
              "fillmode": "overlay",
              "size": 10,
              "solidity": 0.2
             }
            },
            "type": "bar"
           }
          ],
          "barpolar": [
           {
            "marker": {
             "line": {
              "color": "#E5ECF6",
              "width": 0.5
             },
             "pattern": {
              "fillmode": "overlay",
              "size": 10,
              "solidity": 0.2
             }
            },
            "type": "barpolar"
           }
          ],
          "carpet": [
           {
            "aaxis": {
             "endlinecolor": "#2a3f5f",
             "gridcolor": "white",
             "linecolor": "white",
             "minorgridcolor": "white",
             "startlinecolor": "#2a3f5f"
            },
            "baxis": {
             "endlinecolor": "#2a3f5f",
             "gridcolor": "white",
             "linecolor": "white",
             "minorgridcolor": "white",
             "startlinecolor": "#2a3f5f"
            },
            "type": "carpet"
           }
          ],
          "choropleth": [
           {
            "colorbar": {
             "outlinewidth": 0,
             "ticks": ""
            },
            "type": "choropleth"
           }
          ],
          "contour": [
           {
            "colorbar": {
             "outlinewidth": 0,
             "ticks": ""
            },
            "colorscale": [
             [
              0,
              "#0d0887"
             ],
             [
              0.1111111111111111,
              "#46039f"
             ],
             [
              0.2222222222222222,
              "#7201a8"
             ],
             [
              0.3333333333333333,
              "#9c179e"
             ],
             [
              0.4444444444444444,
              "#bd3786"
             ],
             [
              0.5555555555555556,
              "#d8576b"
             ],
             [
              0.6666666666666666,
              "#ed7953"
             ],
             [
              0.7777777777777778,
              "#fb9f3a"
             ],
             [
              0.8888888888888888,
              "#fdca26"
             ],
             [
              1,
              "#f0f921"
             ]
            ],
            "type": "contour"
           }
          ],
          "contourcarpet": [
           {
            "colorbar": {
             "outlinewidth": 0,
             "ticks": ""
            },
            "type": "contourcarpet"
           }
          ],
          "heatmap": [
           {
            "colorbar": {
             "outlinewidth": 0,
             "ticks": ""
            },
            "colorscale": [
             [
              0,
              "#0d0887"
             ],
             [
              0.1111111111111111,
              "#46039f"
             ],
             [
              0.2222222222222222,
              "#7201a8"
             ],
             [
              0.3333333333333333,
              "#9c179e"
             ],
             [
              0.4444444444444444,
              "#bd3786"
             ],
             [
              0.5555555555555556,
              "#d8576b"
             ],
             [
              0.6666666666666666,
              "#ed7953"
             ],
             [
              0.7777777777777778,
              "#fb9f3a"
             ],
             [
              0.8888888888888888,
              "#fdca26"
             ],
             [
              1,
              "#f0f921"
             ]
            ],
            "type": "heatmap"
           }
          ],
          "heatmapgl": [
           {
            "colorbar": {
             "outlinewidth": 0,
             "ticks": ""
            },
            "colorscale": [
             [
              0,
              "#0d0887"
             ],
             [
              0.1111111111111111,
              "#46039f"
             ],
             [
              0.2222222222222222,
              "#7201a8"
             ],
             [
              0.3333333333333333,
              "#9c179e"
             ],
             [
              0.4444444444444444,
              "#bd3786"
             ],
             [
              0.5555555555555556,
              "#d8576b"
             ],
             [
              0.6666666666666666,
              "#ed7953"
             ],
             [
              0.7777777777777778,
              "#fb9f3a"
             ],
             [
              0.8888888888888888,
              "#fdca26"
             ],
             [
              1,
              "#f0f921"
             ]
            ],
            "type": "heatmapgl"
           }
          ],
          "histogram": [
           {
            "marker": {
             "pattern": {
              "fillmode": "overlay",
              "size": 10,
              "solidity": 0.2
             }
            },
            "type": "histogram"
           }
          ],
          "histogram2d": [
           {
            "colorbar": {
             "outlinewidth": 0,
             "ticks": ""
            },
            "colorscale": [
             [
              0,
              "#0d0887"
             ],
             [
              0.1111111111111111,
              "#46039f"
             ],
             [
              0.2222222222222222,
              "#7201a8"
             ],
             [
              0.3333333333333333,
              "#9c179e"
             ],
             [
              0.4444444444444444,
              "#bd3786"
             ],
             [
              0.5555555555555556,
              "#d8576b"
             ],
             [
              0.6666666666666666,
              "#ed7953"
             ],
             [
              0.7777777777777778,
              "#fb9f3a"
             ],
             [
              0.8888888888888888,
              "#fdca26"
             ],
             [
              1,
              "#f0f921"
             ]
            ],
            "type": "histogram2d"
           }
          ],
          "histogram2dcontour": [
           {
            "colorbar": {
             "outlinewidth": 0,
             "ticks": ""
            },
            "colorscale": [
             [
              0,
              "#0d0887"
             ],
             [
              0.1111111111111111,
              "#46039f"
             ],
             [
              0.2222222222222222,
              "#7201a8"
             ],
             [
              0.3333333333333333,
              "#9c179e"
             ],
             [
              0.4444444444444444,
              "#bd3786"
             ],
             [
              0.5555555555555556,
              "#d8576b"
             ],
             [
              0.6666666666666666,
              "#ed7953"
             ],
             [
              0.7777777777777778,
              "#fb9f3a"
             ],
             [
              0.8888888888888888,
              "#fdca26"
             ],
             [
              1,
              "#f0f921"
             ]
            ],
            "type": "histogram2dcontour"
           }
          ],
          "mesh3d": [
           {
            "colorbar": {
             "outlinewidth": 0,
             "ticks": ""
            },
            "type": "mesh3d"
           }
          ],
          "parcoords": [
           {
            "line": {
             "colorbar": {
              "outlinewidth": 0,
              "ticks": ""
             }
            },
            "type": "parcoords"
           }
          ],
          "pie": [
           {
            "automargin": true,
            "type": "pie"
           }
          ],
          "scatter": [
           {
            "marker": {
             "colorbar": {
              "outlinewidth": 0,
              "ticks": ""
             }
            },
            "type": "scatter"
           }
          ],
          "scatter3d": [
           {
            "line": {
             "colorbar": {
              "outlinewidth": 0,
              "ticks": ""
             }
            },
            "marker": {
             "colorbar": {
              "outlinewidth": 0,
              "ticks": ""
             }
            },
            "type": "scatter3d"
           }
          ],
          "scattercarpet": [
           {
            "marker": {
             "colorbar": {
              "outlinewidth": 0,
              "ticks": ""
             }
            },
            "type": "scattercarpet"
           }
          ],
          "scattergeo": [
           {
            "marker": {
             "colorbar": {
              "outlinewidth": 0,
              "ticks": ""
             }
            },
            "type": "scattergeo"
           }
          ],
          "scattergl": [
           {
            "marker": {
             "colorbar": {
              "outlinewidth": 0,
              "ticks": ""
             }
            },
            "type": "scattergl"
           }
          ],
          "scattermapbox": [
           {
            "marker": {
             "colorbar": {
              "outlinewidth": 0,
              "ticks": ""
             }
            },
            "type": "scattermapbox"
           }
          ],
          "scatterpolar": [
           {
            "marker": {
             "colorbar": {
              "outlinewidth": 0,
              "ticks": ""
             }
            },
            "type": "scatterpolar"
           }
          ],
          "scatterpolargl": [
           {
            "marker": {
             "colorbar": {
              "outlinewidth": 0,
              "ticks": ""
             }
            },
            "type": "scatterpolargl"
           }
          ],
          "scatterternary": [
           {
            "marker": {
             "colorbar": {
              "outlinewidth": 0,
              "ticks": ""
             }
            },
            "type": "scatterternary"
           }
          ],
          "surface": [
           {
            "colorbar": {
             "outlinewidth": 0,
             "ticks": ""
            },
            "colorscale": [
             [
              0,
              "#0d0887"
             ],
             [
              0.1111111111111111,
              "#46039f"
             ],
             [
              0.2222222222222222,
              "#7201a8"
             ],
             [
              0.3333333333333333,
              "#9c179e"
             ],
             [
              0.4444444444444444,
              "#bd3786"
             ],
             [
              0.5555555555555556,
              "#d8576b"
             ],
             [
              0.6666666666666666,
              "#ed7953"
             ],
             [
              0.7777777777777778,
              "#fb9f3a"
             ],
             [
              0.8888888888888888,
              "#fdca26"
             ],
             [
              1,
              "#f0f921"
             ]
            ],
            "type": "surface"
           }
          ],
          "table": [
           {
            "cells": {
             "fill": {
              "color": "#EBF0F8"
             },
             "line": {
              "color": "white"
             }
            },
            "header": {
             "fill": {
              "color": "#C8D4E3"
             },
             "line": {
              "color": "white"
             }
            },
            "type": "table"
           }
          ]
         },
         "layout": {
          "annotationdefaults": {
           "arrowcolor": "#2a3f5f",
           "arrowhead": 0,
           "arrowwidth": 1
          },
          "autotypenumbers": "strict",
          "coloraxis": {
           "colorbar": {
            "outlinewidth": 0,
            "ticks": ""
           }
          },
          "colorscale": {
           "diverging": [
            [
             0,
             "#8e0152"
            ],
            [
             0.1,
             "#c51b7d"
            ],
            [
             0.2,
             "#de77ae"
            ],
            [
             0.3,
             "#f1b6da"
            ],
            [
             0.4,
             "#fde0ef"
            ],
            [
             0.5,
             "#f7f7f7"
            ],
            [
             0.6,
             "#e6f5d0"
            ],
            [
             0.7,
             "#b8e186"
            ],
            [
             0.8,
             "#7fbc41"
            ],
            [
             0.9,
             "#4d9221"
            ],
            [
             1,
             "#276419"
            ]
           ],
           "sequential": [
            [
             0,
             "#0d0887"
            ],
            [
             0.1111111111111111,
             "#46039f"
            ],
            [
             0.2222222222222222,
             "#7201a8"
            ],
            [
             0.3333333333333333,
             "#9c179e"
            ],
            [
             0.4444444444444444,
             "#bd3786"
            ],
            [
             0.5555555555555556,
             "#d8576b"
            ],
            [
             0.6666666666666666,
             "#ed7953"
            ],
            [
             0.7777777777777778,
             "#fb9f3a"
            ],
            [
             0.8888888888888888,
             "#fdca26"
            ],
            [
             1,
             "#f0f921"
            ]
           ],
           "sequentialminus": [
            [
             0,
             "#0d0887"
            ],
            [
             0.1111111111111111,
             "#46039f"
            ],
            [
             0.2222222222222222,
             "#7201a8"
            ],
            [
             0.3333333333333333,
             "#9c179e"
            ],
            [
             0.4444444444444444,
             "#bd3786"
            ],
            [
             0.5555555555555556,
             "#d8576b"
            ],
            [
             0.6666666666666666,
             "#ed7953"
            ],
            [
             0.7777777777777778,
             "#fb9f3a"
            ],
            [
             0.8888888888888888,
             "#fdca26"
            ],
            [
             1,
             "#f0f921"
            ]
           ]
          },
          "colorway": [
           "#636efa",
           "#EF553B",
           "#00cc96",
           "#ab63fa",
           "#FFA15A",
           "#19d3f3",
           "#FF6692",
           "#B6E880",
           "#FF97FF",
           "#FECB52"
          ],
          "font": {
           "color": "#2a3f5f"
          },
          "geo": {
           "bgcolor": "white",
           "lakecolor": "white",
           "landcolor": "#E5ECF6",
           "showlakes": true,
           "showland": true,
           "subunitcolor": "white"
          },
          "hoverlabel": {
           "align": "left"
          },
          "hovermode": "closest",
          "mapbox": {
           "style": "light"
          },
          "paper_bgcolor": "white",
          "plot_bgcolor": "#E5ECF6",
          "polar": {
           "angularaxis": {
            "gridcolor": "white",
            "linecolor": "white",
            "ticks": ""
           },
           "bgcolor": "#E5ECF6",
           "radialaxis": {
            "gridcolor": "white",
            "linecolor": "white",
            "ticks": ""
           }
          },
          "scene": {
           "xaxis": {
            "backgroundcolor": "#E5ECF6",
            "gridcolor": "white",
            "gridwidth": 2,
            "linecolor": "white",
            "showbackground": true,
            "ticks": "",
            "zerolinecolor": "white"
           },
           "yaxis": {
            "backgroundcolor": "#E5ECF6",
            "gridcolor": "white",
            "gridwidth": 2,
            "linecolor": "white",
            "showbackground": true,
            "ticks": "",
            "zerolinecolor": "white"
           },
           "zaxis": {
            "backgroundcolor": "#E5ECF6",
            "gridcolor": "white",
            "gridwidth": 2,
            "linecolor": "white",
            "showbackground": true,
            "ticks": "",
            "zerolinecolor": "white"
           }
          },
          "shapedefaults": {
           "line": {
            "color": "#2a3f5f"
           }
          },
          "ternary": {
           "aaxis": {
            "gridcolor": "white",
            "linecolor": "white",
            "ticks": ""
           },
           "baxis": {
            "gridcolor": "white",
            "linecolor": "white",
            "ticks": ""
           },
           "bgcolor": "#E5ECF6",
           "caxis": {
            "gridcolor": "white",
            "linecolor": "white",
            "ticks": ""
           }
          },
          "title": {
           "x": 0.05
          },
          "xaxis": {
           "automargin": true,
           "gridcolor": "white",
           "linecolor": "white",
           "ticks": "",
           "title": {
            "standoff": 15
           },
           "zerolinecolor": "white",
           "zerolinewidth": 2
          },
          "yaxis": {
           "automargin": true,
           "gridcolor": "white",
           "linecolor": "white",
           "ticks": "",
           "title": {
            "standoff": 15
           },
           "zerolinecolor": "white",
           "zerolinewidth": 2
          }
         }
        },
        "title": {
         "text": "Readability Scores in Privacy Policies"
        },
        "xaxis": {
         "anchor": "y",
         "autorange": true,
         "domain": [
          0,
          1
         ],
         "range": [
          9.254344066785926,
          48.25565593321407
         ],
         "title": {
          "text": "Words per Sentence"
         },
         "type": "linear"
        },
        "yaxis": {
         "anchor": "x",
         "autorange": true,
         "domain": [
          0,
          1
         ],
         "range": [
          -0.800607287449393,
          60.300607287449395
         ],
         "title": {
          "text": "Overall Readability\nscore"
         },
         "type": "linear"
        }
       }
      },
      "image/png": "[encoded data removed]",
      "text/html": [
       "<div>                            <div id=\"c021897a-0bab-4b42-9ffe-a210d6d2c752\" class=\"plotly-graph-div\" style=\"height:600px; width:100%;\"></div>            <script type=\"text/javascript\">                require([\"plotly\"], function(Plotly) {                    window.PLOTLYENV=window.PLOTLYENV || {};                                    if (document.getElementById(\"c021897a-0bab-4b42-9ffe-a210d6d2c752\")) {                    Plotly.newPlot(                        \"c021897a-0bab-4b42-9ffe-a210d6d2c752\",                        [{\"hovertemplate\":\"Words per Sentence=%{x}<br>Overall Readability\\nscore=%{y}<extra></extra>\",\"legendgroup\":\"\",\"marker\":{\"color\":\"#636efa\",\"symbol\":\"circle\"},\"mode\":\"markers\",\"name\":\"\",\"orientation\":\"v\",\"showlegend\":false,\"x\":[46.15,41.44,38.42,35.77,34.66,33.97,33.6,31.25,30.9,30.04,28.52,28.04,27.59,26.31,26.28,26.28,26.23,26.17,25.65,25.63,25.4,25.38,25.32,25.3,24.61,24.37,24.26,24.09,23.91,23.79,23.67,23.67,23.6,23.43,23.26,23.22,23.22,23.18,23.16,23.15,23.08,22.96,22.78,22.57,22.49,22.37,22.37,22.17,22.11,22.06,21.96,21.9,21.77,21.71,21.41,21.32,20.78,20.62,20.61,20.54,20.39,20.37,20.35,20.34,20.32,20.26,20.03,20.0,19.84,19.8,19.6,19.52,19.5,19.25,19.15,19.13,19.04,19.01,18.97,18.91,18.71,18.62,18.34,18.29,18.23,18.07,18.07,18.06,17.97,17.91,17.36,17.07,16.97,15.57,15.54,15.47,14.68,13.46,13.42,12.93,12.92,11.36],\"xaxis\":\"x\",\"y\":[2.8,6.2,15.5,10.1,28.06,23.3,15.0,20.5,27.3,34.03,27.53,27.17,32.3,30.45,26.1,26.1,36.48,33.33,33.01,23.7,29.0,32.15,29.71,31.35,32.02,30.92,37.46,27.4,29.84,26.7,36.09,32.76,35.62,39.11,40.2,31.66,37.02,22.7,39.9,44.45,31.73,32.76,31.86,45.8,34.18,33.96,33.46,35.15,43.43,27.0,36.33,40.26,19.5,31.92,29.89,34.8,27.0,31.72,43.01,32.28,36.36,42.48,30.01,42.39,31.86,28.33,42.69,33.21,25.0,24.7,34.19,35.12,38.59,46.47,42.34,26.5,43.87,29.07,34.63,30.48,28.14,37.86,30.05,43.2,41.65,32.15,19.3,35.17,42.94,30.64,35.83,21.5,35.52,42.79,35.98,49.1,41.79,39.37,56.2,56.7,32.76,49.62],\"yaxis\":\"y\",\"type\":\"scatter\"},{\"hovertemplate\":\"<b>OLS trendline</b><br>Overall Readability\\nscore = -1.07227 * Words per Sentence + 57.0256<br>R<sup>2</sup>=0.472411<br><br>Words per Sentence=%{x}<br>Overall Readability\\nscore=%{y} <b>(trend)</b><extra></extra>\",\"legendgroup\":\"\",\"marker\":{\"color\":\"#636efa\",\"symbol\":\"circle\"},\"mode\":\"lines\",\"name\":\"\",\"showlegend\":false,\"x\":[11.36,12.92,12.93,13.42,13.46,14.68,15.47,15.54,15.57,16.97,17.07,17.36,17.91,17.97,18.06,18.07,18.07,18.23,18.29,18.34,18.62,18.71,18.91,18.97,19.01,19.04,19.13,19.15,19.25,19.5,19.52,19.6,19.8,19.84,20.0,20.03,20.26,20.32,20.34,20.35,20.37,20.39,20.54,20.61,20.62,20.78,21.32,21.41,21.71,21.77,21.9,21.96,22.06,22.11,22.17,22.37,22.37,22.49,22.57,22.78,22.96,23.08,23.15,23.16,23.18,23.22,23.22,23.26,23.43,23.6,23.67,23.67,23.79,23.91,24.09,24.26,24.37,24.61,25.3,25.32,25.38,25.4,25.63,25.65,26.17,26.23,26.28,26.28,26.31,27.59,28.04,28.52,30.04,30.9,31.25,33.6,33.97,34.66,35.77,38.42,41.44,46.15],\"xaxis\":\"x\",\"y\":[44.844640706982005,43.1719002995121,43.161177604592424,42.63576555352816,42.592874773849445,41.28470599364862,40.43761309499399,40.36255423055624,40.3303861457972,38.82920885704216,38.72198190784537,38.41102375517468,37.821275534592345,37.756939365074274,37.66043511079717,37.64971241587748,37.64971241587748,37.47814929716262,37.413813127644545,37.36019965304615,37.059964195295144,36.96345994101803,36.74900604262446,36.68466987310639,36.641779093427665,36.60961100866864,36.51310675439152,36.491661364552165,36.38443441535537,36.11636704236341,36.09492165252405,36.009140093166614,35.794686194773035,35.75179541509432,35.580232296379464,35.54806421162042,35.301442228467806,35.237106058949735,35.21566066911038,35.2049379741907,35.18349258435134,35.162047194511985,35.001206770716806,34.92614790627905,34.91542521135936,34.743862092644505,34.16483656698185,34.06833231270474,33.74665146511437,33.6823152955963,33.542920261640475,33.478584092122404,33.37135714292562,33.31774366832722,33.25340749880914,33.03895360041557,33.03895360041557,32.910281261379424,32.82449970202199,32.59932310870873,32.406314600154516,32.277642261118366,32.202583396680616,32.19186070176093,32.17041531192157,32.12752453224286,32.12752453224286,32.084633752564145,31.902347938929605,31.720062125295062,31.64500326085731,31.64500326085731,31.516330921821165,31.38765858278502,31.1946500742308,31.012364260596257,30.89441461647979,30.6370699384075,29.897203988949656,29.8757585991103,29.811422429592227,29.78997703975287,29.543355056600255,29.521909666760898,28.96432953093759,28.89999336141952,28.846379886821126,28.846379886821126,28.81421180206209,27.441706852343195,26.959185580957644,26.444496224813058,24.81464659702187,23.89249483392949,23.517200511740725,20.997367205616186,20.60062749358807,19.860761544130234,18.67054240804587,15.829028254330971,12.590774388587953,7.540385081419203],\"yaxis\":\"y\",\"type\":\"scatter\"}],                        {\"template\":{\"data\":{\"bar\":[{\"error_x\":{\"color\":\"#2a3f5f\"},\"error_y\":{\"color\":\"#2a3f5f\"},\"marker\":{\"line\":{\"color\":\"#E5ECF6\",\"width\":0.5},\"pattern\":{\"fillmode\":\"overlay\",\"size\":10,\"solidity\":0.2}},\"type\":\"bar\"}],\"barpolar\":[{\"marker\":{\"line\":{\"color\":\"#E5ECF6\",\"width\":0.5},\"pattern\":{\"fillmode\":\"overlay\",\"size\":10,\"solidity\":0.2}},\"type\":\"barpolar\"}],\"carpet\":[{\"aaxis\":{\"endlinecolor\":\"#2a3f5f\",\"gridcolor\":\"white\",\"linecolor\":\"white\",\"minorgridcolor\":\"white\",\"startlinecolor\":\"#2a3f5f\"},\"baxis\":{\"endlinecolor\":\"#2a3f5f\",\"gridcolor\":\"white\",\"linecolor\":\"white\",\"minorgridcolor\":\"white\",\"startlinecolor\":\"#2a3f5f\"},\"type\":\"carpet\"}],\"choropleth\":[{\"colorbar\":{\"outlinewidth\":0,\"ticks\":\"\"},\"type\":\"choropleth\"}],\"contour\":[{\"colorbar\":{\"outlinewidth\":0,\"ticks\":\"\"},\"colorscale\":[[0.0,\"#0d0887\"],[0.1111111111111111,\"#46039f\"],[0.2222222222222222,\"#7201a8\"],[0.3333333333333333,\"#9c179e\"],[0.4444444444444444,\"#bd3786\"],[0.5555555555555556,\"#d8576b\"],[0.6666666666666666,\"#ed7953\"],[0.7777777777777778,\"#fb9f3a\"],[0.8888888888888888,\"#fdca26\"],[1.0,\"#f0f921\"]],\"type\":\"contour\"}],\"contourcarpet\":[{\"colorbar\":{\"outlinewidth\":0,\"ticks\":\"\"},\"type\":\"contourcarpet\"}],\"heatmap\":[{\"colorbar\":{\"outlinewidth\":0,\"ticks\":\"\"},\"colorscale\":[[0.0,\"#0d0887\"],[0.1111111111111111,\"#46039f\"],[0.2222222222222222,\"#7201a8\"],[0.3333333333333333,\"#9c179e\"],[0.4444444444444444,\"#bd3786\"],[0.5555555555555556,\"#d8576b\"],[0.6666666666666666,\"#ed7953\"],[0.7777777777777778,\"#fb9f3a\"],[0.8888888888888888,\"#fdca26\"],[1.0,\"#f0f921\"]],\"type\":\"heatmap\"}],\"heatmapgl\":[{\"colorbar\":{\"outlinewidth\":0,\"ticks\":\"\"},\"colorscale\":[[0.0,\"#0d0887\"],[0.1111111111111111,\"#46039f\"],[0.2222222222222222,\"#7201a8\"],[0.3333333333333333,\"#9c179e\"],[0.4444444444444444,\"#bd3786\"],[0.5555555555555556,\"#d8576b\"],[0.6666666666666666,\"#ed7953\"],[0.7777777777777778,\"#fb9f3a\"],[0.8888888888888888,\"#fdca26\"],[1.0,\"#f0f921\"]],\"type\":\"heatmapgl\"}],\"histogram\":[{\"marker\":{\"pattern\":{\"fillmode\":\"overlay\",\"size\":10,\"solidity\":0.2}},\"type\":\"histogram\"}],\"histogram2d\":[{\"colorbar\":{\"outlinewidth\":0,\"ticks\":\"\"},\"colorscale\":[[0.0,\"#0d0887\"],[0.1111111111111111,\"#46039f\"],[0.2222222222222222,\"#7201a8\"],[0.3333333333333333,\"#9c179e\"],[0.4444444444444444,\"#bd3786\"],[0.5555555555555556,\"#d8576b\"],[0.6666666666666666,\"#ed7953\"],[0.7777777777777778,\"#fb9f3a\"],[0.8888888888888888,\"#fdca26\"],[1.0,\"#f0f921\"]],\"type\":\"histogram2d\"}],\"histogram2dcontour\":[{\"colorbar\":{\"outlinewidth\":0,\"ticks\":\"\"},\"colorscale\":[[0.0,\"#0d0887\"],[0.1111111111111111,\"#46039f\"],[0.2222222222222222,\"#7201a8\"],[0.3333333333333333,\"#9c179e\"],[0.4444444444444444,\"#bd3786\"],[0.5555555555555556,\"#d8576b\"],[0.6666666666666666,\"#ed7953\"],[0.7777777777777778,\"#fb9f3a\"],[0.8888888888888888,\"#fdca26\"],[1.0,\"#f0f921\"]],\"type\":\"histogram2dcontour\"}],\"mesh3d\":[{\"colorbar\":{\"outlinewidth\":0,\"ticks\":\"\"},\"type\":\"mesh3d\"}],\"parcoords\":[{\"line\":{\"colorbar\":{\"outlinewidth\":0,\"ticks\":\"\"}},\"type\":\"parcoords\"}],\"pie\":[{\"automargin\":true,\"type\":\"pie\"}],\"scatter\":[{\"marker\":{\"colorbar\":{\"outlinewidth\":0,\"ticks\":\"\"}},\"type\":\"scatter\"}],\"scatter3d\":[{\"line\":{\"colorbar\":{\"outlinewidth\":0,\"ticks\":\"\"}},\"marker\":{\"colorbar\":{\"outlinewidth\":0,\"ticks\":\"\"}},\"type\":\"scatter3d\"}],\"scattercarpet\":[{\"marker\":{\"colorbar\":{\"outlinewidth\":0,\"ticks\":\"\"}},\"type\":\"scattercarpet\"}],\"scattergeo\":[{\"marker\":{\"colorbar\":{\"outlinewidth\":0,\"ticks\":\"\"}},\"type\":\"scattergeo\"}],\"scattergl\":[{\"marker\":{\"colorbar\":{\"outlinewidth\":0,\"ticks\":\"\"}},\"type\":\"scattergl\"}],\"scattermapbox\":[{\"marker\":{\"colorbar\":{\"outlinewidth\":0,\"ticks\":\"\"}},\"type\":\"scattermapbox\"}],\"scatterpolar\":[{\"marker\":{\"colorbar\":{\"outlinewidth\":0,\"ticks\":\"\"}},\"type\":\"scatterpolar\"}],\"scatterpolargl\":[{\"marker\":{\"colorbar\":{\"outlinewidth\":0,\"ticks\":\"\"}},\"type\":\"scatterpolargl\"}],\"scatterternary\":[{\"marker\":{\"colorbar\":{\"outlinewidth\":0,\"ticks\":\"\"}},\"type\":\"scatterternary\"}],\"surface\":[{\"colorbar\":{\"outlinewidth\":0,\"ticks\":\"\"},\"colorscale\":[[0.0,\"#0d0887\"],[0.1111111111111111,\"#46039f\"],[0.2222222222222222,\"#7201a8\"],[0.3333333333333333,\"#9c179e\"],[0.4444444444444444,\"#bd3786\"],[0.5555555555555556,\"#d8576b\"],[0.6666666666666666,\"#ed7953\"],[0.7777777777777778,\"#fb9f3a\"],[0.8888888888888888,\"#fdca26\"],[1.0,\"#f0f921\"]],\"type\":\"surface\"}],\"table\":[{\"cells\":{\"fill\":{\"color\":\"#EBF0F8\"},\"line\":{\"color\":\"white\"}},\"header\":{\"fill\":{\"color\":\"#C8D4E3\"},\"line\":{\"color\":\"white\"}},\"type\":\"table\"}]},\"layout\":{\"annotationdefaults\":{\"arrowcolor\":\"#2a3f5f\",\"arrowhead\":0,\"arrowwidth\":1},\"autotypenumbers\":\"strict\",\"coloraxis\":{\"colorbar\":{\"outlinewidth\":0,\"ticks\":\"\"}},\"colorscale\":{\"diverging\":[[0,\"#8e0152\"],[0.1,\"#c51b7d\"],[0.2,\"#de77ae\"],[0.3,\"#f1b6da\"],[0.4,\"#fde0ef\"],[0.5,\"#f7f7f7\"],[0.6,\"#e6f5d0\"],[0.7,\"#b8e186\"],[0.8,\"#7fbc41\"],[0.9,\"#4d9221\"],[1,\"#276419\"]],\"sequential\":[[0.0,\"#0d0887\"],[0.1111111111111111,\"#46039f\"],[0.2222222222222222,\"#7201a8\"],[0.3333333333333333,\"#9c179e\"],[0.4444444444444444,\"#bd3786\"],[0.5555555555555556,\"#d8576b\"],[0.6666666666666666,\"#ed7953\"],[0.7777777777777778,\"#fb9f3a\"],[0.8888888888888888,\"#fdca26\"],[1.0,\"#f0f921\"]],\"sequentialminus\":[[0.0,\"#0d0887\"],[0.1111111111111111,\"#46039f\"],[0.2222222222222222,\"#7201a8\"],[0.3333333333333333,\"#9c179e\"],[0.4444444444444444,\"#bd3786\"],[0.5555555555555556,\"#d8576b\"],[0.6666666666666666,\"#ed7953\"],[0.7777777777777778,\"#fb9f3a\"],[0.8888888888888888,\"#fdca26\"],[1.0,\"#f0f921\"]]},\"colorway\":[\"#636efa\",\"#EF553B\",\"#00cc96\",\"#ab63fa\",\"#FFA15A\",\"#19d3f3\",\"#FF6692\",\"#B6E880\",\"#FF97FF\",\"#FECB52\"],\"font\":{\"color\":\"#2a3f5f\"},\"geo\":{\"bgcolor\":\"white\",\"lakecolor\":\"white\",\"landcolor\":\"#E5ECF6\",\"showlakes\":true,\"showland\":true,\"subunitcolor\":\"white\"},\"hoverlabel\":{\"align\":\"left\"},\"hovermode\":\"closest\",\"mapbox\":{\"style\":\"light\"},\"paper_bgcolor\":\"white\",\"plot_bgcolor\":\"#E5ECF6\",\"polar\":{\"angularaxis\":{\"gridcolor\":\"white\",\"linecolor\":\"white\",\"ticks\":\"\"},\"bgcolor\":\"#E5ECF6\",\"radialaxis\":{\"gridcolor\":\"white\",\"linecolor\":\"white\",\"ticks\":\"\"}},\"scene\":{\"xaxis\":{\"backgroundcolor\":\"#E5ECF6\",\"gridcolor\":\"white\",\"gridwidth\":2,\"linecolor\":\"white\",\"showbackground\":true,\"ticks\":\"\",\"zerolinecolor\":\"white\"},\"yaxis\":{\"backgroundcolor\":\"#E5ECF6\",\"gridcolor\":\"white\",\"gridwidth\":2,\"linecolor\":\"white\",\"showbackground\":true,\"ticks\":\"\",\"zerolinecolor\":\"white\"},\"zaxis\":{\"backgroundcolor\":\"#E5ECF6\",\"gridcolor\":\"white\",\"gridwidth\":2,\"linecolor\":\"white\",\"showbackground\":true,\"ticks\":\"\",\"zerolinecolor\":\"white\"}},\"shapedefaults\":{\"line\":{\"color\":\"#2a3f5f\"}},\"ternary\":{\"aaxis\":{\"gridcolor\":\"white\",\"linecolor\":\"white\",\"ticks\":\"\"},\"baxis\":{\"gridcolor\":\"white\",\"linecolor\":\"white\",\"ticks\":\"\"},\"bgcolor\":\"#E5ECF6\",\"caxis\":{\"gridcolor\":\"white\",\"linecolor\":\"white\",\"ticks\":\"\"}},\"title\":{\"x\":0.05},\"xaxis\":{\"automargin\":true,\"gridcolor\":\"white\",\"linecolor\":\"white\",\"ticks\":\"\",\"title\":{\"standoff\":15},\"zerolinecolor\":\"white\",\"zerolinewidth\":2},\"yaxis\":{\"automargin\":true,\"gridcolor\":\"white\",\"linecolor\":\"white\",\"ticks\":\"\",\"title\":{\"standoff\":15},\"zerolinecolor\":\"white\",\"zerolinewidth\":2}}},\"xaxis\":{\"anchor\":\"y\",\"domain\":[0.0,1.0],\"title\":{\"text\":\"Words per Sentence\"}},\"yaxis\":{\"anchor\":\"x\",\"domain\":[0.0,1.0],\"title\":{\"text\":\"Overall Readability\\nscore\"}},\"legend\":{\"tracegroupgap\":0},\"title\":{\"text\":\"Readability Scores in Privacy Policies\"},\"height\":600},                        {\"responsive\": true}                    ).then(function(){\n",
       "                            \n",
       "var gd = document.getElementById('c021897a-0bab-4b42-9ffe-a210d6d2c752');\n",
       "var x = new MutationObserver(function (mutations, observer) {{\n",
       "        var display = window.getComputedStyle(gd).display;\n",
       "        if (!display || display === 'none') {{\n",
       "            console.log([gd, 'removed!']);\n",
       "            Plotly.purge(gd);\n",
       "            observer.disconnect();\n",
       "        }}\n",
       "}});\n",
       "\n",
       "// Listen for the removal of the full notebook cells\n",
       "var notebookContainer = gd.closest('#notebook-container');\n",
       "if (notebookContainer) {{\n",
       "    x.observe(notebookContainer, {childList: true});\n",
       "}}\n",
       "\n",
       "// Listen for the clearing of the current output cell\n",
       "var outputEl = gd.closest('.output');\n",
       "if (outputEl) {{\n",
       "    x.observe(outputEl, {childList: true});\n",
       "}}\n",
       "\n",
       "                        })                };                });            </script>        </div>"
      ]
     },
     "metadata": {},
     "output_type": "display_data"
    }
   ],
   "source": [
    "#df.plot.scatter(x = 'Words per Sentence', y = 'Overall Readability\\nscore')\n",
    "px.scatter(df, x='Words per Sentence', y='Overall Readability\\nscore', title='Readability Scores in Privacy Policies', trendline='ols', height=600)"
   ]
  },
  {
   "cell_type": "code",
   "execution_count": 12,
   "id": "cf9222c3",
   "metadata": {},
   "outputs": [
    {
     "data": {
      "text/plain": [
       "-0.6873219260781296"
      ]
     },
     "execution_count": 12,
     "metadata": {},
     "output_type": "execute_result"
    }
   ],
   "source": [
    "df['Words per Sentence'].corr(df['Overall Readability\\nscore'])"
   ]
  },
  {
   "cell_type": "markdown",
   "id": "81ad0f27",
   "metadata": {},
   "source": [
    "# Doing our own analysis of privacy policies"
   ]
  },
  {
   "cell_type": "markdown",
   "id": "e1f55eb0",
   "metadata": {},
   "source": [
    "Here is a study from Cornell University that has curated and analyzed over a million privacy policies that span over two decades.\n",
    "\n",
    "Github repo of privacy policies they have collected: https://github.com/citp/privacy-policy-historical "
   ]
  },
  {
   "cell_type": "code",
   "execution_count": 2,
   "id": "43c3b3c1",
   "metadata": {},
   "outputs": [],
   "source": [
    "#!pip install --user textstat\n",
    "import textstat"
   ]
  },
  {
   "cell_type": "code",
   "execution_count": 3,
   "id": "a4dc731a",
   "metadata": {},
   "outputs": [
    {
     "data": {
      "text/plain": [
       "12.38"
      ]
     },
     "execution_count": 3,
     "metadata": {},
     "output_type": "execute_result"
    }
   ],
   "source": [
    "test_data = (\n",
    "    \"Playing games has always been thought to be important to \"\n",
    "    \"the development of well-balanced and creative children; \"\n",
    "    \"however, what part, if any, they should play in the lives \"\n",
    "    \"of adults has never been researched that deeply. I believe \"\n",
    "    \"that playing games is every bit as important for adults \"\n",
    "    \"as for children. Not only is taking time out to play games \"\n",
    "    \"with our children and other adults valuable to building \"\n",
    "    \"interpersonal relationships but is also a wonderful way \"\n",
    "    \"to release built up tension.\"\n",
    ")\n",
    "\n",
    "textstat.flesch_reading_ease(test_data)\n",
    "textstat.flesch_kincaid_grade(test_data)\n",
    "textstat.automated_readability_index(test_data)\n",
    "textstat.dale_chall_readability_score(test_data)\n",
    "textstat.difficult_words(test_data)\n",
    "textstat.linsear_write_formula(test_data)\n",
    "textstat.gunning_fog(test_data)"
   ]
  },
  {
   "cell_type": "markdown",
   "id": "4b894809",
   "metadata": {},
   "source": [
    "Let's investigate the privacy policies of the most popular social media websites accoriding to [statista.com](https://www.statista.com/statistics/272014/global-social-networks-ranked-by-number-of-users/). We will specifically look at YouTube, Twitter, Instagram, Facebook, TikTok, and Pinterest"
   ]
  },
  {
   "cell_type": "markdown",
   "id": "3bed714e",
   "metadata": {},
   "source": [
    "### Jenny "
   ]
  },
  {
   "cell_type": "code",
   "execution_count": 4,
   "id": "e87269c2",
   "metadata": {},
   "outputs": [],
   "source": [
    "from bs4 import BeautifulSoup\n",
    "import requests\n",
    "import pandas as pd\n",
    "import re "
   ]
  },
  {
   "cell_type": "code",
   "execution_count": 5,
   "id": "1147d053",
   "metadata": {
    "scrolled": true
   },
   "outputs": [
    {
     "name": "stdout",
     "output_type": "stream",
     "text": [
      "['twitter-friends.com.md', 'twitter.com.br.md', 'twitter.github.io.md', 'twitter.rs.md', 'twitterautofollowback.com.md', 'twitterbackgrounds.com.md', 'twitterbackgroundsgallery.com.md', 'twittercism.com.md', 'twittercommunity.com.md', 'twittercounter.com.md', 'twitterfeed.com.md', 'twitterflight.com.md', 'twittergadget.com.md', 'twittergrader.com.md', 'twittericon.com.md', 'twitterless.com.md', 'twitterlive.net.md', 'twittermail.com.md', 'twittermoms.com.md', 'twitteronlinesystem.com.md', 'twitterrific.com.md', 'twittertise.com.md', 'twittertrafficexposed.com.md', 'twittertrick.com.md', 'twittervideodownloader.com.md', 'twittervision.com.md', 'twitterwatchdog.com.md']\n"
     ]
    }
   ],
   "source": [
    "def search_for_site(keyword):\n",
    "    \n",
    "    base_url = \"https://github.com/citp/privacy-policy-historical/tree/master/\"\n",
    "    first_letter = keyword[0]\n",
    "    second_letter = keyword[0:2]\n",
    "    third_letter = keyword[0:3]\n",
    "    \n",
    "    search_url = base_url + first_letter + \"/\" + second_letter + \"/\" + third_letter\n",
    "    r = requests.get(search_url)\n",
    "    soup = BeautifulSoup(r.text)\n",
    "    mydivs = soup.find_all(\"a\", {\"class\": \"js-navigation-open Link--primary\"})\n",
    "    \n",
    "    title_list = []\n",
    "    for item in mydivs:\n",
    "        title_list.append(item.get(\"title\"))\n",
    "        \n",
    "    result_list = []\n",
    "    for website in title_list:\n",
    "        if keyword in website:\n",
    "            result_list.append(website)\n",
    "            \n",
    "    if not result_list:\n",
    "        print(\"No website\")\n",
    "        \n",
    "    if len(result_list) == 1:\n",
    "        return result_list\n",
    "    \n",
    "    if len(result_list) > 1:\n",
    "        print(result_list)\n",
    "        \n",
    "search_for_site(\"twitter\")"
   ]
  },
  {
   "cell_type": "code",
   "execution_count": 6,
   "id": "36e882e5",
   "metadata": {},
   "outputs": [],
   "source": [
    "policies = ['https://github.com/citp/privacy-policy-historical/blob/master/t/ti/tik/tiktok.com.md',\n",
    "            'https://github.com/citp/privacy-policy-historical/blob/master/t/tw/twi/twitter.com.br.md',\n",
    "            'https://github.com/citp/privacy-policy-historical/blob/master/f/fa/fac/facebook.com.md',\n",
    "            'https://github.com/citp/privacy-policy-historical/blob/master/i/in/ins/instagram.com.md',\n",
    "            'https://github.com/citp/privacy-policy-historical/blob/master/y/yo/you/youtube.com.md',\n",
    "            'https://github.com/citp/privacy-policy-historical/blob/master/p/pi/pin/pinterest.com.md']"
   ]
  },
  {
   "cell_type": "code",
   "execution_count": 9,
   "id": "deebb4ab",
   "metadata": {},
   "outputs": [
    {
     "data": {
      "text/html": [
       "<div>\n",
       "<style scoped>\n",
       "    .dataframe tbody tr th:only-of-type {\n",
       "        vertical-align: middle;\n",
       "    }\n",
       "\n",
       "    .dataframe tbody tr th {\n",
       "        vertical-align: top;\n",
       "    }\n",
       "\n",
       "    .dataframe thead th {\n",
       "        text-align: right;\n",
       "    }\n",
       "</style>\n",
       "<table border=\"1\" class=\"dataframe\">\n",
       "  <thead>\n",
       "    <tr style=\"text-align: right;\">\n",
       "      <th></th>\n",
       "      <th>Social_Media</th>\n",
       "      <th>Texts</th>\n",
       "    </tr>\n",
       "  </thead>\n",
       "  <tbody>\n",
       "    <tr>\n",
       "      <th>0</th>\n",
       "      <td>Tiktok</td>\n",
       "      <td>The following text is extracted and transforme...</td>\n",
       "    </tr>\n",
       "    <tr>\n",
       "      <th>1</th>\n",
       "      <td>Twitter</td>\n",
       "      <td>The following text is extracted and transforme...</td>\n",
       "    </tr>\n",
       "    <tr>\n",
       "      <th>2</th>\n",
       "      <td>Facebook</td>\n",
       "      <td>The following text is extracted and transforme...</td>\n",
       "    </tr>\n",
       "    <tr>\n",
       "      <th>3</th>\n",
       "      <td>Instagram</td>\n",
       "      <td>The following text is extracted and transforme...</td>\n",
       "    </tr>\n",
       "    <tr>\n",
       "      <th>4</th>\n",
       "      <td>Youtube</td>\n",
       "      <td>The following text is extracted and transforme...</td>\n",
       "    </tr>\n",
       "    <tr>\n",
       "      <th>5</th>\n",
       "      <td>Pinterest</td>\n",
       "      <td>The following text is extracted and transforme...</td>\n",
       "    </tr>\n",
       "  </tbody>\n",
       "</table>\n",
       "</div>"
      ],
      "text/plain": [
       "  Social_Media                                              Texts\n",
       "0       Tiktok  The following text is extracted and transforme...\n",
       "1      Twitter  The following text is extracted and transforme...\n",
       "2     Facebook  The following text is extracted and transforme...\n",
       "3    Instagram  The following text is extracted and transforme...\n",
       "4      Youtube  The following text is extracted and transforme...\n",
       "5    Pinterest  The following text is extracted and transforme..."
      ]
     },
     "execution_count": 9,
     "metadata": {},
     "output_type": "execute_result"
    }
   ],
   "source": [
    "def create_df(alist: list):\n",
    "    result_dict = {}\n",
    "    title_list = ['Tiktok', 'Twitter', 'Facebook', 'Instagram', 'Youtube','Pinterest']\n",
    "    \n",
    "    for i, url in enumerate(policies): \n",
    "\n",
    "        response = requests.get(url)\n",
    "\n",
    "        content = response.text\n",
    "\n",
    "        start_index = content.find('<article')\n",
    "        end_index = content.find('</article>')\n",
    "\n",
    "        body_content = content[start_index:end_index]\n",
    "\n",
    "        html = markdown.markdown(body_content)\n",
    "        soup = BeautifulSoup(html, 'html.parser')\n",
    "        texts = soup.get_text()\n",
    "        result_dict[title_list[i]] = texts\n",
    "\n",
    "    df = pd.DataFrame(result_dict.items(), columns=[\"Social_Media\", \"Texts\"])\n",
    "    remove_n = lambda x: x.replace('\\n', '')\n",
    "    df[\"Texts\"] = df[\"Texts\"].apply(remove_n)\n",
    "    return df\n",
    "\n",
    "policy_df = create_df(policies)\n",
    "policy_df"
   ]
  },
  {
   "cell_type": "code",
   "execution_count": 10,
   "id": "ef9c8acb",
   "metadata": {},
   "outputs": [
    {
     "data": {
      "text/html": [
       "<div>\n",
       "<style scoped>\n",
       "    .dataframe tbody tr th:only-of-type {\n",
       "        vertical-align: middle;\n",
       "    }\n",
       "\n",
       "    .dataframe tbody tr th {\n",
       "        vertical-align: top;\n",
       "    }\n",
       "\n",
       "    .dataframe thead th {\n",
       "        text-align: right;\n",
       "    }\n",
       "</style>\n",
       "<table border=\"1\" class=\"dataframe\">\n",
       "  <thead>\n",
       "    <tr style=\"text-align: right;\">\n",
       "      <th></th>\n",
       "      <th>Social_Media</th>\n",
       "      <th>Texts</th>\n",
       "      <th>Readability_score</th>\n",
       "      <th>Grade_score</th>\n",
       "      <th>Reading_time</th>\n",
       "    </tr>\n",
       "  </thead>\n",
       "  <tbody>\n",
       "    <tr>\n",
       "      <th>0</th>\n",
       "      <td>Tiktok</td>\n",
       "      <td>The following text is extracted and transforme...</td>\n",
       "      <td>7.82</td>\n",
       "      <td>14.6</td>\n",
       "      <td>222.04</td>\n",
       "    </tr>\n",
       "    <tr>\n",
       "      <th>1</th>\n",
       "      <td>Twitter</td>\n",
       "      <td>The following text is extracted and transforme...</td>\n",
       "      <td>7.22</td>\n",
       "      <td>14.2</td>\n",
       "      <td>374.86</td>\n",
       "    </tr>\n",
       "    <tr>\n",
       "      <th>2</th>\n",
       "      <td>Facebook</td>\n",
       "      <td>The following text is extracted and transforme...</td>\n",
       "      <td>6.94</td>\n",
       "      <td>12.9</td>\n",
       "      <td>319.38</td>\n",
       "    </tr>\n",
       "    <tr>\n",
       "      <th>3</th>\n",
       "      <td>Instagram</td>\n",
       "      <td>The following text is extracted and transforme...</td>\n",
       "      <td>7.34</td>\n",
       "      <td>14.0</td>\n",
       "      <td>233.23</td>\n",
       "    </tr>\n",
       "    <tr>\n",
       "      <th>4</th>\n",
       "      <td>Youtube</td>\n",
       "      <td>The following text is extracted and transforme...</td>\n",
       "      <td>7.47</td>\n",
       "      <td>12.9</td>\n",
       "      <td>223.82</td>\n",
       "    </tr>\n",
       "    <tr>\n",
       "      <th>5</th>\n",
       "      <td>Pinterest</td>\n",
       "      <td>The following text is extracted and transforme...</td>\n",
       "      <td>6.58</td>\n",
       "      <td>10.8</td>\n",
       "      <td>276.58</td>\n",
       "    </tr>\n",
       "  </tbody>\n",
       "</table>\n",
       "</div>"
      ],
      "text/plain": [
       "  Social_Media                                              Texts  \\\n",
       "0       Tiktok  The following text is extracted and transforme...   \n",
       "1      Twitter  The following text is extracted and transforme...   \n",
       "2     Facebook  The following text is extracted and transforme...   \n",
       "3    Instagram  The following text is extracted and transforme...   \n",
       "4      Youtube  The following text is extracted and transforme...   \n",
       "5    Pinterest  The following text is extracted and transforme...   \n",
       "\n",
       "   Readability_score  Grade_score  Reading_time  \n",
       "0               7.82         14.6        222.04  \n",
       "1               7.22         14.2        374.86  \n",
       "2               6.94         12.9        319.38  \n",
       "3               7.34         14.0        233.23  \n",
       "4               7.47         12.9        223.82  \n",
       "5               6.58         10.8        276.58  "
      ]
     },
     "execution_count": 10,
     "metadata": {},
     "output_type": "execute_result"
    }
   ],
   "source": [
    "readability_score = lambda x: textstat.dale_chall_readability_score(x)\n",
    "grade_score = lambda x: textstat.flesch_kincaid_grade(x)\n",
    "reading_time = lambda x: textstat.reading_time(x, ms_per_char=14.69)\n",
    "policy_df[\"Readability_score\"] = policy_df[\"Texts\"].apply(readability_score)\n",
    "policy_df[\"Grade_score\"] = policy_df[\"Texts\"].apply(grade_score)\n",
    "policy_df[\"Reading_time\"] = policy_df[\"Texts\"].apply(reading_time)\n",
    "policy_df"
   ]
  },
  {
   "cell_type": "code",
   "execution_count": 11,
   "id": "569ac3c1-5877-4188-8bb4-10ab69733b1c",
   "metadata": {},
   "outputs": [
    {
     "data": {
      "text/plain": [
       "[7.82, 7.22, 6.94, 7.34, 7.47, 6.58]"
      ]
     },
     "execution_count": 11,
     "metadata": {},
     "output_type": "execute_result"
    }
   ],
   "source": [
    "readability_score = policy_df[\"Readability_score\"].tolist()\n",
    "grade_score = policy_df[\"Grade_score\"].tolist()\n",
    "reading_time = policy_df[\"Reading_time\"].tolist()\n",
    "readability_score"
   ]
  },
  {
   "cell_type": "code",
   "execution_count": 79,
   "id": "5ec8fd21",
   "metadata": {},
   "outputs": [
    {
     "data": {
      "application/vnd.plotly.v1+json": {
       "config": {
        "plotlyServerURL": "https://plot.ly"
       },
       "data": [
        {
         "marker": {
          "color": "#1EBC8C"
         },
         "name": "Readability Score",
         "type": "bar",
         "visible": true,
         "width": 0.7,
         "x": [
          "Tiktok",
          "Twitter",
          "Facebook",
          "Instagram",
          "Youtube",
          "Pinterest"
         ],
         "y": [
          7.82,
          7.22,
          6.94,
          7.34,
          7.47,
          6.58
         ]
        },
        {
         "marker": {
          "color": "#4D8AF1"
         },
         "name": "Grade Score",
         "type": "bar",
         "visible": false,
         "width": 0.7,
         "x": [
          "Tiktok",
          "Twitter",
          "Facebook",
          "Instagram",
          "Youtube",
          "Pinterest"
         ],
         "y": [
          14.6,
          14.2,
          12.9,
          14,
          12.9,
          10.8
         ]
        },
        {
         "marker": {
          "color": "#F14D78"
         },
         "name": "Reading Time",
         "type": "bar",
         "visible": false,
         "width": 0.7,
         "x": [
          "Tiktok",
          "Twitter",
          "Facebook",
          "Instagram",
          "Youtube",
          "Pinterest"
         ],
         "y": [
          222.04,
          374.86,
          319.38,
          233.23,
          223.82,
          276.58
         ]
        }
       ],
       "layout": {
        "height": 500,
        "template": {
         "data": {
          "bar": [
           {
            "error_x": {
             "color": "#2a3f5f"
            },
            "error_y": {
             "color": "#2a3f5f"
            },
            "marker": {
             "line": {
              "color": "#E5ECF6",
              "width": 0.5
             },
             "pattern": {
              "fillmode": "overlay",
              "size": 10,
              "solidity": 0.2
             }
            },
            "type": "bar"
           }
          ],
          "barpolar": [
           {
            "marker": {
             "line": {
              "color": "#E5ECF6",
              "width": 0.5
             },
             "pattern": {
              "fillmode": "overlay",
              "size": 10,
              "solidity": 0.2
             }
            },
            "type": "barpolar"
           }
          ],
          "carpet": [
           {
            "aaxis": {
             "endlinecolor": "#2a3f5f",
             "gridcolor": "white",
             "linecolor": "white",
             "minorgridcolor": "white",
             "startlinecolor": "#2a3f5f"
            },
            "baxis": {
             "endlinecolor": "#2a3f5f",
             "gridcolor": "white",
             "linecolor": "white",
             "minorgridcolor": "white",
             "startlinecolor": "#2a3f5f"
            },
            "type": "carpet"
           }
          ],
          "choropleth": [
           {
            "colorbar": {
             "outlinewidth": 0,
             "ticks": ""
            },
            "type": "choropleth"
           }
          ],
          "contour": [
           {
            "colorbar": {
             "outlinewidth": 0,
             "ticks": ""
            },
            "colorscale": [
             [
              0,
              "#0d0887"
             ],
             [
              0.1111111111111111,
              "#46039f"
             ],
             [
              0.2222222222222222,
              "#7201a8"
             ],
             [
              0.3333333333333333,
              "#9c179e"
             ],
             [
              0.4444444444444444,
              "#bd3786"
             ],
             [
              0.5555555555555556,
              "#d8576b"
             ],
             [
              0.6666666666666666,
              "#ed7953"
             ],
             [
              0.7777777777777778,
              "#fb9f3a"
             ],
             [
              0.8888888888888888,
              "#fdca26"
             ],
             [
              1,
              "#f0f921"
             ]
            ],
            "type": "contour"
           }
          ],
          "contourcarpet": [
           {
            "colorbar": {
             "outlinewidth": 0,
             "ticks": ""
            },
            "type": "contourcarpet"
           }
          ],
          "heatmap": [
           {
            "colorbar": {
             "outlinewidth": 0,
             "ticks": ""
            },
            "colorscale": [
             [
              0,
              "#0d0887"
             ],
             [
              0.1111111111111111,
              "#46039f"
             ],
             [
              0.2222222222222222,
              "#7201a8"
             ],
             [
              0.3333333333333333,
              "#9c179e"
             ],
             [
              0.4444444444444444,
              "#bd3786"
             ],
             [
              0.5555555555555556,
              "#d8576b"
             ],
             [
              0.6666666666666666,
              "#ed7953"
             ],
             [
              0.7777777777777778,
              "#fb9f3a"
             ],
             [
              0.8888888888888888,
              "#fdca26"
             ],
             [
              1,
              "#f0f921"
             ]
            ],
            "type": "heatmap"
           }
          ],
          "heatmapgl": [
           {
            "colorbar": {
             "outlinewidth": 0,
             "ticks": ""
            },
            "colorscale": [
             [
              0,
              "#0d0887"
             ],
             [
              0.1111111111111111,
              "#46039f"
             ],
             [
              0.2222222222222222,
              "#7201a8"
             ],
             [
              0.3333333333333333,
              "#9c179e"
             ],
             [
              0.4444444444444444,
              "#bd3786"
             ],
             [
              0.5555555555555556,
              "#d8576b"
             ],
             [
              0.6666666666666666,
              "#ed7953"
             ],
             [
              0.7777777777777778,
              "#fb9f3a"
             ],
             [
              0.8888888888888888,
              "#fdca26"
             ],
             [
              1,
              "#f0f921"
             ]
            ],
            "type": "heatmapgl"
           }
          ],
          "histogram": [
           {
            "marker": {
             "pattern": {
              "fillmode": "overlay",
              "size": 10,
              "solidity": 0.2
             }
            },
            "type": "histogram"
           }
          ],
          "histogram2d": [
           {
            "colorbar": {
             "outlinewidth": 0,
             "ticks": ""
            },
            "colorscale": [
             [
              0,
              "#0d0887"
             ],
             [
              0.1111111111111111,
              "#46039f"
             ],
             [
              0.2222222222222222,
              "#7201a8"
             ],
             [
              0.3333333333333333,
              "#9c179e"
             ],
             [
              0.4444444444444444,
              "#bd3786"
             ],
             [
              0.5555555555555556,
              "#d8576b"
             ],
             [
              0.6666666666666666,
              "#ed7953"
             ],
             [
              0.7777777777777778,
              "#fb9f3a"
             ],
             [
              0.8888888888888888,
              "#fdca26"
             ],
             [
              1,
              "#f0f921"
             ]
            ],
            "type": "histogram2d"
           }
          ],
          "histogram2dcontour": [
           {
            "colorbar": {
             "outlinewidth": 0,
             "ticks": ""
            },
            "colorscale": [
             [
              0,
              "#0d0887"
             ],
             [
              0.1111111111111111,
              "#46039f"
             ],
             [
              0.2222222222222222,
              "#7201a8"
             ],
             [
              0.3333333333333333,
              "#9c179e"
             ],
             [
              0.4444444444444444,
              "#bd3786"
             ],
             [
              0.5555555555555556,
              "#d8576b"
             ],
             [
              0.6666666666666666,
              "#ed7953"
             ],
             [
              0.7777777777777778,
              "#fb9f3a"
             ],
             [
              0.8888888888888888,
              "#fdca26"
             ],
             [
              1,
              "#f0f921"
             ]
            ],
            "type": "histogram2dcontour"
           }
          ],
          "mesh3d": [
           {
            "colorbar": {
             "outlinewidth": 0,
             "ticks": ""
            },
            "type": "mesh3d"
           }
          ],
          "parcoords": [
           {
            "line": {
             "colorbar": {
              "outlinewidth": 0,
              "ticks": ""
             }
            },
            "type": "parcoords"
           }
          ],
          "pie": [
           {
            "automargin": true,
            "type": "pie"
           }
          ],
          "scatter": [
           {
            "marker": {
             "colorbar": {
              "outlinewidth": 0,
              "ticks": ""
             }
            },
            "type": "scatter"
           }
          ],
          "scatter3d": [
           {
            "line": {
             "colorbar": {
              "outlinewidth": 0,
              "ticks": ""
             }
            },
            "marker": {
             "colorbar": {
              "outlinewidth": 0,
              "ticks": ""
             }
            },
            "type": "scatter3d"
           }
          ],
          "scattercarpet": [
           {
            "marker": {
             "colorbar": {
              "outlinewidth": 0,
              "ticks": ""
             }
            },
            "type": "scattercarpet"
           }
          ],
          "scattergeo": [
           {
            "marker": {
             "colorbar": {
              "outlinewidth": 0,
              "ticks": ""
             }
            },
            "type": "scattergeo"
           }
          ],
          "scattergl": [
           {
            "marker": {
             "colorbar": {
              "outlinewidth": 0,
              "ticks": ""
             }
            },
            "type": "scattergl"
           }
          ],
          "scattermapbox": [
           {
            "marker": {
             "colorbar": {
              "outlinewidth": 0,
              "ticks": ""
             }
            },
            "type": "scattermapbox"
           }
          ],
          "scatterpolar": [
           {
            "marker": {
             "colorbar": {
              "outlinewidth": 0,
              "ticks": ""
             }
            },
            "type": "scatterpolar"
           }
          ],
          "scatterpolargl": [
           {
            "marker": {
             "colorbar": {
              "outlinewidth": 0,
              "ticks": ""
             }
            },
            "type": "scatterpolargl"
           }
          ],
          "scatterternary": [
           {
            "marker": {
             "colorbar": {
              "outlinewidth": 0,
              "ticks": ""
             }
            },
            "type": "scatterternary"
           }
          ],
          "surface": [
           {
            "colorbar": {
             "outlinewidth": 0,
             "ticks": ""
            },
            "colorscale": [
             [
              0,
              "#0d0887"
             ],
             [
              0.1111111111111111,
              "#46039f"
             ],
             [
              0.2222222222222222,
              "#7201a8"
             ],
             [
              0.3333333333333333,
              "#9c179e"
             ],
             [
              0.4444444444444444,
              "#bd3786"
             ],
             [
              0.5555555555555556,
              "#d8576b"
             ],
             [
              0.6666666666666666,
              "#ed7953"
             ],
             [
              0.7777777777777778,
              "#fb9f3a"
             ],
             [
              0.8888888888888888,
              "#fdca26"
             ],
             [
              1,
              "#f0f921"
             ]
            ],
            "type": "surface"
           }
          ],
          "table": [
           {
            "cells": {
             "fill": {
              "color": "#EBF0F8"
             },
             "line": {
              "color": "white"
             }
            },
            "header": {
             "fill": {
              "color": "#C8D4E3"
             },
             "line": {
              "color": "white"
             }
            },
            "type": "table"
           }
          ]
         },
         "layout": {
          "annotationdefaults": {
           "arrowcolor": "#2a3f5f",
           "arrowhead": 0,
           "arrowwidth": 1
          },
          "autotypenumbers": "strict",
          "coloraxis": {
           "colorbar": {
            "outlinewidth": 0,
            "ticks": ""
           }
          },
          "colorscale": {
           "diverging": [
            [
             0,
             "#8e0152"
            ],
            [
             0.1,
             "#c51b7d"
            ],
            [
             0.2,
             "#de77ae"
            ],
            [
             0.3,
             "#f1b6da"
            ],
            [
             0.4,
             "#fde0ef"
            ],
            [
             0.5,
             "#f7f7f7"
            ],
            [
             0.6,
             "#e6f5d0"
            ],
            [
             0.7,
             "#b8e186"
            ],
            [
             0.8,
             "#7fbc41"
            ],
            [
             0.9,
             "#4d9221"
            ],
            [
             1,
             "#276419"
            ]
           ],
           "sequential": [
            [
             0,
             "#0d0887"
            ],
            [
             0.1111111111111111,
             "#46039f"
            ],
            [
             0.2222222222222222,
             "#7201a8"
            ],
            [
             0.3333333333333333,
             "#9c179e"
            ],
            [
             0.4444444444444444,
             "#bd3786"
            ],
            [
             0.5555555555555556,
             "#d8576b"
            ],
            [
             0.6666666666666666,
             "#ed7953"
            ],
            [
             0.7777777777777778,
             "#fb9f3a"
            ],
            [
             0.8888888888888888,
             "#fdca26"
            ],
            [
             1,
             "#f0f921"
            ]
           ],
           "sequentialminus": [
            [
             0,
             "#0d0887"
            ],
            [
             0.1111111111111111,
             "#46039f"
            ],
            [
             0.2222222222222222,
             "#7201a8"
            ],
            [
             0.3333333333333333,
             "#9c179e"
            ],
            [
             0.4444444444444444,
             "#bd3786"
            ],
            [
             0.5555555555555556,
             "#d8576b"
            ],
            [
             0.6666666666666666,
             "#ed7953"
            ],
            [
             0.7777777777777778,
             "#fb9f3a"
            ],
            [
             0.8888888888888888,
             "#fdca26"
            ],
            [
             1,
             "#f0f921"
            ]
           ]
          },
          "colorway": [
           "#636efa",
           "#EF553B",
           "#00cc96",
           "#ab63fa",
           "#FFA15A",
           "#19d3f3",
           "#FF6692",
           "#B6E880",
           "#FF97FF",
           "#FECB52"
          ],
          "font": {
           "color": "#2a3f5f"
          },
          "geo": {
           "bgcolor": "white",
           "lakecolor": "white",
           "landcolor": "#E5ECF6",
           "showlakes": true,
           "showland": true,
           "subunitcolor": "white"
          },
          "hoverlabel": {
           "align": "left"
          },
          "hovermode": "closest",
          "mapbox": {
           "style": "light"
          },
          "paper_bgcolor": "white",
          "plot_bgcolor": "#E5ECF6",
          "polar": {
           "angularaxis": {
            "gridcolor": "white",
            "linecolor": "white",
            "ticks": ""
           },
           "bgcolor": "#E5ECF6",
           "radialaxis": {
            "gridcolor": "white",
            "linecolor": "white",
            "ticks": ""
           }
          },
          "scene": {
           "xaxis": {
            "backgroundcolor": "#E5ECF6",
            "gridcolor": "white",
            "gridwidth": 2,
            "linecolor": "white",
            "showbackground": true,
            "ticks": "",
            "zerolinecolor": "white"
           },
           "yaxis": {
            "backgroundcolor": "#E5ECF6",
            "gridcolor": "white",
            "gridwidth": 2,
            "linecolor": "white",
            "showbackground": true,
            "ticks": "",
            "zerolinecolor": "white"
           },
           "zaxis": {
            "backgroundcolor": "#E5ECF6",
            "gridcolor": "white",
            "gridwidth": 2,
            "linecolor": "white",
            "showbackground": true,
            "ticks": "",
            "zerolinecolor": "white"
           }
          },
          "shapedefaults": {
           "line": {
            "color": "#2a3f5f"
           }
          },
          "ternary": {
           "aaxis": {
            "gridcolor": "white",
            "linecolor": "white",
            "ticks": ""
           },
           "baxis": {
            "gridcolor": "white",
            "linecolor": "white",
            "ticks": ""
           },
           "bgcolor": "#E5ECF6",
           "caxis": {
            "gridcolor": "white",
            "linecolor": "white",
            "ticks": ""
           }
          },
          "title": {
           "x": 0.05
          },
          "xaxis": {
           "automargin": true,
           "gridcolor": "white",
           "linecolor": "white",
           "ticks": "",
           "title": {
            "standoff": 15
           },
           "zerolinecolor": "white",
           "zerolinewidth": 2
          },
          "yaxis": {
           "automargin": true,
           "gridcolor": "white",
           "linecolor": "white",
           "ticks": "",
           "title": {
            "standoff": 15
           },
           "zerolinecolor": "white",
           "zerolinewidth": 2
          }
         }
        },
        "title": {
         "text": "Dale Chall Readabilty Score",
         "x": 0.5
        },
        "updatemenus": [
         {
          "active": 0,
          "buttons": [
           {
            "args": [
             {
              "visible": [
               true,
               false,
               false
              ]
             },
             {
              "title": {
               "text": "Dale Chall Readabilty Score",
               "x": 0.5
              }
             }
            ],
            "label": "Readability Score",
            "method": "update"
           },
           {
            "args": [
             {
              "visible": [
               false,
               true,
               false
              ]
             },
             {
              "title": {
               "text": "Flesch Kincaid Reading Grade",
               "x": 0.5
              }
             }
            ],
            "label": "Grade Trace",
            "method": "update"
           },
           {
            "args": [
             {
              "visible": [
               false,
               false,
               true
              ]
             },
             {
              "title": {
               "text": "Reading Time",
               "x": 0.5
              }
             }
            ],
            "label": "Reading Time",
            "method": "update"
           }
          ],
          "direction": "down",
          "pad": {
           "r": 10,
           "t": 10
          },
          "showactive": true,
          "x": 0,
          "xanchor": "left",
          "y": 1.15,
          "yanchor": "top"
         }
        ],
        "width": 700,
        "xaxis": {
         "autorange": true,
         "range": [
          -0.5,
          5.5
         ],
         "type": "category"
        },
        "yaxis": {
         "autorange": true,
         "range": [
          0,
          8.23157894736842
         ],
         "type": "linear"
        }
       }
      },
      "image/png": "[encoded data removed]",
      "text/html": [
       "<div>                            <div id=\"e259bac9-d35e-4b11-8252-8e37b831c619\" class=\"plotly-graph-div\" style=\"height:500px; width:700px;\"></div>            <script type=\"text/javascript\">                require([\"plotly\"], function(Plotly) {                    window.PLOTLYENV=window.PLOTLYENV || {};                                    if (document.getElementById(\"e259bac9-d35e-4b11-8252-8e37b831c619\")) {                    Plotly.newPlot(                        \"e259bac9-d35e-4b11-8252-8e37b831c619\",                        [{\"marker\":{\"color\":\"#1EBC8C\"},\"name\":\"Readability Score\",\"visible\":true,\"width\":0.7,\"x\":[\"Tiktok\",\"Twitter\",\"Facebook\",\"Instagram\",\"Youtube\",\"Pinterest\"],\"y\":[7.82,7.22,6.94,7.34,7.47,6.58],\"type\":\"bar\"},{\"marker\":{\"color\":\"#4D8AF1\"},\"name\":\"Grade Score\",\"visible\":false,\"width\":0.7,\"x\":[\"Tiktok\",\"Twitter\",\"Facebook\",\"Instagram\",\"Youtube\",\"Pinterest\"],\"y\":[14.6,14.2,12.9,14.0,12.9,10.8],\"type\":\"bar\"},{\"marker\":{\"color\":\"#F14D78\"},\"name\":\"Reading Time\",\"visible\":false,\"width\":0.7,\"x\":[\"Tiktok\",\"Twitter\",\"Facebook\",\"Instagram\",\"Youtube\",\"Pinterest\"],\"y\":[222.04,374.86,319.38,233.23,223.82,276.58],\"type\":\"bar\"}],                        {\"template\":{\"data\":{\"bar\":[{\"error_x\":{\"color\":\"#2a3f5f\"},\"error_y\":{\"color\":\"#2a3f5f\"},\"marker\":{\"line\":{\"color\":\"#E5ECF6\",\"width\":0.5},\"pattern\":{\"fillmode\":\"overlay\",\"size\":10,\"solidity\":0.2}},\"type\":\"bar\"}],\"barpolar\":[{\"marker\":{\"line\":{\"color\":\"#E5ECF6\",\"width\":0.5},\"pattern\":{\"fillmode\":\"overlay\",\"size\":10,\"solidity\":0.2}},\"type\":\"barpolar\"}],\"carpet\":[{\"aaxis\":{\"endlinecolor\":\"#2a3f5f\",\"gridcolor\":\"white\",\"linecolor\":\"white\",\"minorgridcolor\":\"white\",\"startlinecolor\":\"#2a3f5f\"},\"baxis\":{\"endlinecolor\":\"#2a3f5f\",\"gridcolor\":\"white\",\"linecolor\":\"white\",\"minorgridcolor\":\"white\",\"startlinecolor\":\"#2a3f5f\"},\"type\":\"carpet\"}],\"choropleth\":[{\"colorbar\":{\"outlinewidth\":0,\"ticks\":\"\"},\"type\":\"choropleth\"}],\"contour\":[{\"colorbar\":{\"outlinewidth\":0,\"ticks\":\"\"},\"colorscale\":[[0.0,\"#0d0887\"],[0.1111111111111111,\"#46039f\"],[0.2222222222222222,\"#7201a8\"],[0.3333333333333333,\"#9c179e\"],[0.4444444444444444,\"#bd3786\"],[0.5555555555555556,\"#d8576b\"],[0.6666666666666666,\"#ed7953\"],[0.7777777777777778,\"#fb9f3a\"],[0.8888888888888888,\"#fdca26\"],[1.0,\"#f0f921\"]],\"type\":\"contour\"}],\"contourcarpet\":[{\"colorbar\":{\"outlinewidth\":0,\"ticks\":\"\"},\"type\":\"contourcarpet\"}],\"heatmap\":[{\"colorbar\":{\"outlinewidth\":0,\"ticks\":\"\"},\"colorscale\":[[0.0,\"#0d0887\"],[0.1111111111111111,\"#46039f\"],[0.2222222222222222,\"#7201a8\"],[0.3333333333333333,\"#9c179e\"],[0.4444444444444444,\"#bd3786\"],[0.5555555555555556,\"#d8576b\"],[0.6666666666666666,\"#ed7953\"],[0.7777777777777778,\"#fb9f3a\"],[0.8888888888888888,\"#fdca26\"],[1.0,\"#f0f921\"]],\"type\":\"heatmap\"}],\"heatmapgl\":[{\"colorbar\":{\"outlinewidth\":0,\"ticks\":\"\"},\"colorscale\":[[0.0,\"#0d0887\"],[0.1111111111111111,\"#46039f\"],[0.2222222222222222,\"#7201a8\"],[0.3333333333333333,\"#9c179e\"],[0.4444444444444444,\"#bd3786\"],[0.5555555555555556,\"#d8576b\"],[0.6666666666666666,\"#ed7953\"],[0.7777777777777778,\"#fb9f3a\"],[0.8888888888888888,\"#fdca26\"],[1.0,\"#f0f921\"]],\"type\":\"heatmapgl\"}],\"histogram\":[{\"marker\":{\"pattern\":{\"fillmode\":\"overlay\",\"size\":10,\"solidity\":0.2}},\"type\":\"histogram\"}],\"histogram2d\":[{\"colorbar\":{\"outlinewidth\":0,\"ticks\":\"\"},\"colorscale\":[[0.0,\"#0d0887\"],[0.1111111111111111,\"#46039f\"],[0.2222222222222222,\"#7201a8\"],[0.3333333333333333,\"#9c179e\"],[0.4444444444444444,\"#bd3786\"],[0.5555555555555556,\"#d8576b\"],[0.6666666666666666,\"#ed7953\"],[0.7777777777777778,\"#fb9f3a\"],[0.8888888888888888,\"#fdca26\"],[1.0,\"#f0f921\"]],\"type\":\"histogram2d\"}],\"histogram2dcontour\":[{\"colorbar\":{\"outlinewidth\":0,\"ticks\":\"\"},\"colorscale\":[[0.0,\"#0d0887\"],[0.1111111111111111,\"#46039f\"],[0.2222222222222222,\"#7201a8\"],[0.3333333333333333,\"#9c179e\"],[0.4444444444444444,\"#bd3786\"],[0.5555555555555556,\"#d8576b\"],[0.6666666666666666,\"#ed7953\"],[0.7777777777777778,\"#fb9f3a\"],[0.8888888888888888,\"#fdca26\"],[1.0,\"#f0f921\"]],\"type\":\"histogram2dcontour\"}],\"mesh3d\":[{\"colorbar\":{\"outlinewidth\":0,\"ticks\":\"\"},\"type\":\"mesh3d\"}],\"parcoords\":[{\"line\":{\"colorbar\":{\"outlinewidth\":0,\"ticks\":\"\"}},\"type\":\"parcoords\"}],\"pie\":[{\"automargin\":true,\"type\":\"pie\"}],\"scatter\":[{\"marker\":{\"colorbar\":{\"outlinewidth\":0,\"ticks\":\"\"}},\"type\":\"scatter\"}],\"scatter3d\":[{\"line\":{\"colorbar\":{\"outlinewidth\":0,\"ticks\":\"\"}},\"marker\":{\"colorbar\":{\"outlinewidth\":0,\"ticks\":\"\"}},\"type\":\"scatter3d\"}],\"scattercarpet\":[{\"marker\":{\"colorbar\":{\"outlinewidth\":0,\"ticks\":\"\"}},\"type\":\"scattercarpet\"}],\"scattergeo\":[{\"marker\":{\"colorbar\":{\"outlinewidth\":0,\"ticks\":\"\"}},\"type\":\"scattergeo\"}],\"scattergl\":[{\"marker\":{\"colorbar\":{\"outlinewidth\":0,\"ticks\":\"\"}},\"type\":\"scattergl\"}],\"scattermapbox\":[{\"marker\":{\"colorbar\":{\"outlinewidth\":0,\"ticks\":\"\"}},\"type\":\"scattermapbox\"}],\"scatterpolar\":[{\"marker\":{\"colorbar\":{\"outlinewidth\":0,\"ticks\":\"\"}},\"type\":\"scatterpolar\"}],\"scatterpolargl\":[{\"marker\":{\"colorbar\":{\"outlinewidth\":0,\"ticks\":\"\"}},\"type\":\"scatterpolargl\"}],\"scatterternary\":[{\"marker\":{\"colorbar\":{\"outlinewidth\":0,\"ticks\":\"\"}},\"type\":\"scatterternary\"}],\"surface\":[{\"colorbar\":{\"outlinewidth\":0,\"ticks\":\"\"},\"colorscale\":[[0.0,\"#0d0887\"],[0.1111111111111111,\"#46039f\"],[0.2222222222222222,\"#7201a8\"],[0.3333333333333333,\"#9c179e\"],[0.4444444444444444,\"#bd3786\"],[0.5555555555555556,\"#d8576b\"],[0.6666666666666666,\"#ed7953\"],[0.7777777777777778,\"#fb9f3a\"],[0.8888888888888888,\"#fdca26\"],[1.0,\"#f0f921\"]],\"type\":\"surface\"}],\"table\":[{\"cells\":{\"fill\":{\"color\":\"#EBF0F8\"},\"line\":{\"color\":\"white\"}},\"header\":{\"fill\":{\"color\":\"#C8D4E3\"},\"line\":{\"color\":\"white\"}},\"type\":\"table\"}]},\"layout\":{\"annotationdefaults\":{\"arrowcolor\":\"#2a3f5f\",\"arrowhead\":0,\"arrowwidth\":1},\"autotypenumbers\":\"strict\",\"coloraxis\":{\"colorbar\":{\"outlinewidth\":0,\"ticks\":\"\"}},\"colorscale\":{\"diverging\":[[0,\"#8e0152\"],[0.1,\"#c51b7d\"],[0.2,\"#de77ae\"],[0.3,\"#f1b6da\"],[0.4,\"#fde0ef\"],[0.5,\"#f7f7f7\"],[0.6,\"#e6f5d0\"],[0.7,\"#b8e186\"],[0.8,\"#7fbc41\"],[0.9,\"#4d9221\"],[1,\"#276419\"]],\"sequential\":[[0.0,\"#0d0887\"],[0.1111111111111111,\"#46039f\"],[0.2222222222222222,\"#7201a8\"],[0.3333333333333333,\"#9c179e\"],[0.4444444444444444,\"#bd3786\"],[0.5555555555555556,\"#d8576b\"],[0.6666666666666666,\"#ed7953\"],[0.7777777777777778,\"#fb9f3a\"],[0.8888888888888888,\"#fdca26\"],[1.0,\"#f0f921\"]],\"sequentialminus\":[[0.0,\"#0d0887\"],[0.1111111111111111,\"#46039f\"],[0.2222222222222222,\"#7201a8\"],[0.3333333333333333,\"#9c179e\"],[0.4444444444444444,\"#bd3786\"],[0.5555555555555556,\"#d8576b\"],[0.6666666666666666,\"#ed7953\"],[0.7777777777777778,\"#fb9f3a\"],[0.8888888888888888,\"#fdca26\"],[1.0,\"#f0f921\"]]},\"colorway\":[\"#636efa\",\"#EF553B\",\"#00cc96\",\"#ab63fa\",\"#FFA15A\",\"#19d3f3\",\"#FF6692\",\"#B6E880\",\"#FF97FF\",\"#FECB52\"],\"font\":{\"color\":\"#2a3f5f\"},\"geo\":{\"bgcolor\":\"white\",\"lakecolor\":\"white\",\"landcolor\":\"#E5ECF6\",\"showlakes\":true,\"showland\":true,\"subunitcolor\":\"white\"},\"hoverlabel\":{\"align\":\"left\"},\"hovermode\":\"closest\",\"mapbox\":{\"style\":\"light\"},\"paper_bgcolor\":\"white\",\"plot_bgcolor\":\"#E5ECF6\",\"polar\":{\"angularaxis\":{\"gridcolor\":\"white\",\"linecolor\":\"white\",\"ticks\":\"\"},\"bgcolor\":\"#E5ECF6\",\"radialaxis\":{\"gridcolor\":\"white\",\"linecolor\":\"white\",\"ticks\":\"\"}},\"scene\":{\"xaxis\":{\"backgroundcolor\":\"#E5ECF6\",\"gridcolor\":\"white\",\"gridwidth\":2,\"linecolor\":\"white\",\"showbackground\":true,\"ticks\":\"\",\"zerolinecolor\":\"white\"},\"yaxis\":{\"backgroundcolor\":\"#E5ECF6\",\"gridcolor\":\"white\",\"gridwidth\":2,\"linecolor\":\"white\",\"showbackground\":true,\"ticks\":\"\",\"zerolinecolor\":\"white\"},\"zaxis\":{\"backgroundcolor\":\"#E5ECF6\",\"gridcolor\":\"white\",\"gridwidth\":2,\"linecolor\":\"white\",\"showbackground\":true,\"ticks\":\"\",\"zerolinecolor\":\"white\"}},\"shapedefaults\":{\"line\":{\"color\":\"#2a3f5f\"}},\"ternary\":{\"aaxis\":{\"gridcolor\":\"white\",\"linecolor\":\"white\",\"ticks\":\"\"},\"baxis\":{\"gridcolor\":\"white\",\"linecolor\":\"white\",\"ticks\":\"\"},\"bgcolor\":\"#E5ECF6\",\"caxis\":{\"gridcolor\":\"white\",\"linecolor\":\"white\",\"ticks\":\"\"}},\"title\":{\"x\":0.05},\"xaxis\":{\"automargin\":true,\"gridcolor\":\"white\",\"linecolor\":\"white\",\"ticks\":\"\",\"title\":{\"standoff\":15},\"zerolinecolor\":\"white\",\"zerolinewidth\":2},\"yaxis\":{\"automargin\":true,\"gridcolor\":\"white\",\"linecolor\":\"white\",\"ticks\":\"\",\"title\":{\"standoff\":15},\"zerolinecolor\":\"white\",\"zerolinewidth\":2}}},\"updatemenus\":[{\"buttons\":[{\"args\":[{\"visible\":[true,false,false]},{\"title\":{\"text\":\"Dale Chall Readabilty Score\",\"x\":0.5}}],\"label\":\"Readability Score\",\"method\":\"update\"},{\"args\":[{\"visible\":[false,true,false]},{\"title\":{\"text\":\"Flesch Kincaid Reading Grade\",\"x\":0.5}}],\"label\":\"Grade Trace\",\"method\":\"update\"},{\"args\":[{\"visible\":[false,false,true]},{\"title\":{\"text\":\"Reading Time\",\"x\":0.5}}],\"label\":\"Reading Time\",\"method\":\"update\"}],\"direction\":\"down\",\"pad\":{\"r\":10,\"t\":10},\"showactive\":true,\"x\":0,\"xanchor\":\"left\",\"y\":1.15,\"yanchor\":\"top\"}],\"title\":{\"text\":\"Dale Chall Readabilty Score\",\"x\":0.5,\"xanchor\":\"center\",\"yanchor\":\"top\"},\"height\":500,\"width\":700},                        {\"responsive\": true}                    ).then(function(){\n",
       "                            \n",
       "var gd = document.getElementById('e259bac9-d35e-4b11-8252-8e37b831c619');\n",
       "var x = new MutationObserver(function (mutations, observer) {{\n",
       "        var display = window.getComputedStyle(gd).display;\n",
       "        if (!display || display === 'none') {{\n",
       "            console.log([gd, 'removed!']);\n",
       "            Plotly.purge(gd);\n",
       "            observer.disconnect();\n",
       "        }}\n",
       "}});\n",
       "\n",
       "// Listen for the removal of the full notebook cells\n",
       "var notebookContainer = gd.closest('#notebook-container');\n",
       "if (notebookContainer) {{\n",
       "    x.observe(notebookContainer, {childList: true});\n",
       "}}\n",
       "\n",
       "// Listen for the clearing of the current output cell\n",
       "var outputEl = gd.closest('.output');\n",
       "if (outputEl) {{\n",
       "    x.observe(outputEl, {childList: true});\n",
       "}}\n",
       "\n",
       "                        })                };                });            </script>        </div>"
      ]
     },
     "metadata": {},
     "output_type": "display_data"
    }
   ],
   "source": [
    "readability_trace = go.Bar(x=policy_df[\"Social_Media\"], y=policy_df[\"Readability_score\"], width=0.7,\n",
    "                           name=\"Readability Score\", marker=dict(color=\"#1EBC8C\"), visible=True)\n",
    "grade_trace = go.Bar(x=policy_df[\"Social_Media\"], y=policy_df[\"Grade_score\"], \n",
    "                     name=\"Grade Score\", width=0.7, marker=dict(color=\"#4D8AF1\"), visible=False)\n",
    "time_trace = go.Bar(x=policy_df[\"Social_Media\"], y=policy_df[\"Reading_time\"], \n",
    "                    name=\"Reading Time\", width=0.7, marker=dict(color=\"#F14D78\"), visible=False)\n",
    "traces = [readability_trace, grade_trace, time_trace]\n",
    "\n",
    "fig = go.Figure(data=traces)\n",
    "\n",
    "fig.update_layout(\n",
    "    updatemenus=[\n",
    "        dict(buttons=list([\n",
    "            dict(label=\"Readability Score\",\n",
    "                 method=\"update\",\n",
    "                 args=[{\"visible\": [True, False, False]}, \n",
    "                       {\"title\":{\"text\":\"Dale Chall Readabilty Score\", \"x\":0.5}}]),\n",
    "            dict(label=\"Grade Trace\",\n",
    "                 method=\"update\",\n",
    "                 args=[{\"visible\": [False, True, False]}, \n",
    "                       {\"title\":{\"text\":\"Flesch Kincaid Reading Grade\", \"x\":0.5}}]),\n",
    "            dict(label=\"Reading Time\",\n",
    "                 method=\"update\",\n",
    "                 args=[{\"visible\": [False, False, True]}, \n",
    "                       {\"title\":{\"text\":\"Reading Time\", \"x\":0.5}}]),\n",
    "        ]),\n",
    "             direction=\"down\",\n",
    "             pad={\"r\": 10, \"t\": 10},\n",
    "             showactive=True,\n",
    "             x=0,\n",
    "             xanchor=\"left\",\n",
    "             y=1.15,\n",
    "             yanchor=\"top\"\n",
    "            )\n",
    "    ]  \n",
    ")\n",
    "\n",
    "fig.update_layout(\n",
    "    title={'text': \"Dale Chall Readabilty Score\",\n",
    "           'x':0.5,\n",
    "           'xanchor': 'center',\n",
    "           'yanchor': 'top'},\n",
    "    height=500, width=700)\n",
    "\n",
    "fig.show()"
   ]
  },
  {
   "cell_type": "code",
   "execution_count": 178,
   "id": "c08abe60-5301-4ebd-9615-8a75853b10bf",
   "metadata": {},
   "outputs": [
    {
     "data": {
      "application/vnd.plotly.v1+json": {
       "config": {
        "plotlyServerURL": "https://plot.ly"
       },
       "data": [
        {
         "hovertemplate": "%{x}, %{y}<extra></extra>",
         "marker": {
          "color": "cadetblue"
         },
         "mode": "markers",
         "type": "scatter",
         "x": [
          7.82,
          7.22,
          6.94,
          7.34,
          7.47,
          6.58
         ],
         "xaxis": "x",
         "y": [
          7.82,
          7.22,
          6.94,
          7.34,
          7.47,
          6.58
         ],
         "yaxis": "y"
        },
        {
         "hoverlabel": {
          "namelength": 20
         },
         "marker": {
          "color": "cadetblue"
         },
         "mode": "lines",
         "name": "Line of Best Fit",
         "type": "scatter",
         "x": [
          7.82,
          7.22,
          6.94,
          7.34,
          7.47,
          6.58
         ],
         "xaxis": "x",
         "y": [
          7.82,
          7.22,
          6.940000000000001,
          7.34,
          7.47,
          6.580000000000001
         ],
         "yaxis": "y"
        },
        {
         "hovertemplate": "%{x}, %{y}<extra></extra>",
         "marker": {
          "color": "cadetblue"
         },
         "mode": "markers",
         "type": "scatter",
         "x": [
          7.82,
          7.22,
          6.94,
          7.34,
          7.47,
          6.58
         ],
         "xaxis": "x2",
         "y": [
          14.6,
          14.2,
          12.9,
          14,
          12.9,
          10.8
         ],
         "yaxis": "y2"
        },
        {
         "hoverlabel": {
          "namelength": 20
         },
         "marker": {
          "color": "cadetblue"
         },
         "mode": "lines",
         "name": "Line of Best Fit",
         "type": "scatter",
         "x": [
          7.82,
          7.22,
          6.94,
          7.34,
          7.47,
          6.58
         ],
         "xaxis": "x2",
         "y": [
          14.820099515044443,
          13.210984513872614,
          12.460064179992429,
          13.532807514106981,
          13.881449097694208,
          11.49459517928933
         ],
         "yaxis": "y2"
        },
        {
         "hovertemplate": "%{x}, %{y}<extra></extra>",
         "marker": {
          "color": "cadetblue"
         },
         "mode": "markers",
         "type": "scatter",
         "x": [
          7.82,
          7.22,
          6.94,
          7.34,
          7.47,
          6.58
         ],
         "xaxis": "x3",
         "y": [
          222.04,
          374.86,
          319.38,
          233.23,
          223.82,
          276.58
         ],
         "yaxis": "y3"
        },
        {
         "hoverlabel": {
          "namelength": 20
         },
         "marker": {
          "color": "cadetblue"
         },
         "mode": "lines",
         "name": "Line of Best Fit",
         "type": "scatter",
         "x": [
          7.82,
          7.22,
          6.94,
          7.34,
          7.47,
          6.58
         ],
         "xaxis": "x3",
         "y": [
          234.65222178153533,
          275.55306729885143,
          294.64012854026555,
          267.37289819538825,
          258.5110483333031,
          319.1806358506552
         ],
         "yaxis": "y3"
        },
        {
         "hovertemplate": "%{x}, %{y}<extra></extra>",
         "marker": {
          "color": "darksalmon"
         },
         "mode": "markers",
         "type": "scatter",
         "x": [
          14.6,
          14.2,
          12.9,
          14,
          12.9,
          10.8
         ],
         "xaxis": "x4",
         "y": [
          7.82,
          7.22,
          6.94,
          7.34,
          7.47,
          6.58
         ],
         "yaxis": "y4"
        },
        {
         "hoverlabel": {
          "namelength": 20
         },
         "marker": {
          "color": "darksalmon"
         },
         "mode": "lines",
         "name": "Line of Best Fit",
         "type": "scatter",
         "x": [
          14.6,
          14.2,
          12.9,
          14,
          12.9,
          10.8
         ],
         "xaxis": "x4",
         "y": [
          7.58376223776224,
          7.479734265734267,
          7.141643356643359,
          7.4277202797202815,
          7.141643356643359,
          6.595496503496506
         ],
         "yaxis": "y4"
        },
        {
         "hovertemplate": "%{x}, %{y}<extra></extra>",
         "marker": {
          "color": "darksalmon"
         },
         "mode": "markers",
         "type": "scatter",
         "x": [
          14.6,
          14.2,
          12.9,
          14,
          12.9,
          10.8
         ],
         "xaxis": "x5",
         "y": [
          14.6,
          14.2,
          12.9,
          14,
          12.9,
          10.8
         ],
         "yaxis": "y5"
        },
        {
         "hoverlabel": {
          "namelength": 20
         },
         "marker": {
          "color": "darksalmon"
         },
         "mode": "lines",
         "name": "Line of Best Fit",
         "type": "scatter",
         "x": [
          14.6,
          14.2,
          12.9,
          14,
          12.9,
          10.8
         ],
         "xaxis": "x5",
         "y": [
          14.600000000000007,
          14.200000000000006,
          12.900000000000006,
          14.000000000000005,
          12.900000000000006,
          10.800000000000002
         ],
         "yaxis": "y5"
        },
        {
         "hovertemplate": "%{x}, %{y}<extra></extra>",
         "marker": {
          "color": "darksalmon"
         },
         "mode": "markers",
         "type": "scatter",
         "x": [
          14.6,
          14.2,
          12.9,
          14,
          12.9,
          10.8
         ],
         "xaxis": "x6",
         "y": [
          222.04,
          374.86,
          319.38,
          233.23,
          223.82,
          276.58
         ],
         "yaxis": "y6"
        },
        {
         "hoverlabel": {
          "namelength": 20
         },
         "marker": {
          "color": "darksalmon"
         },
         "mode": "lines",
         "name": "Line of Best Fit",
         "type": "scatter",
         "x": [
          14.6,
          14.2,
          12.9,
          14,
          12.9,
          10.8
         ],
         "xaxis": "x6",
         "y": [
          273.63042307692314,
          274.0268846153847,
          275.31538461538463,
          274.22511538461544,
          275.31538461538463,
          277.3968076923076
         ],
         "yaxis": "y6"
        },
        {
         "hovertemplate": "%{x}, %{y}<extra></extra>",
         "marker": {
          "color": "limegreen"
         },
         "mode": "markers",
         "type": "scatter",
         "x": [
          222.04,
          374.86,
          319.38,
          233.23,
          223.82,
          276.58
         ],
         "xaxis": "x7",
         "y": [
          7.82,
          7.22,
          6.94,
          7.34,
          7.47,
          6.58
         ],
         "yaxis": "y7"
        },
        {
         "hoverlabel": {
          "namelength": 20
         },
         "marker": {
          "color": "limegreen"
         },
         "mode": "lines",
         "name": "Line of Best Fit",
         "type": "scatter",
         "x": [
          222.04,
          374.86,
          319.38,
          233.23,
          223.82,
          276.58
         ],
         "xaxis": "x7",
         "y": [
          7.402906115680301,
          6.899020713881007,
          7.081952019284913,
          7.366009913310624,
          7.397037014677796,
          7.223074223165359
         ],
         "yaxis": "y7"
        },
        {
         "hovertemplate": "%{x}, %{y}<extra></extra>",
         "marker": {
          "color": "limegreen"
         },
         "mode": "markers",
         "type": "scatter",
         "x": [
          222.04,
          374.86,
          319.38,
          233.23,
          223.82,
          276.58
         ],
         "xaxis": "x8",
         "y": [
          14.6,
          14.2,
          12.9,
          14,
          12.9,
          10.8
         ],
         "yaxis": "y8"
        },
        {
         "hoverlabel": {
          "namelength": 20
         },
         "marker": {
          "color": "limegreen"
         },
         "mode": "lines",
         "name": "Line of Best Fit",
         "type": "scatter",
         "x": [
          222.04,
          374.86,
          319.38,
          233.23,
          223.82,
          276.58
         ],
         "xaxis": "x8",
         "y": [
          13.259508066381787,
          13.183957538391153,
          13.211385514395083,
          13.253975999844585,
          13.258628077245396,
          13.232544803742021
         ],
         "yaxis": "y8"
        },
        {
         "hovertemplate": "%{x}, %{y}<extra></extra>",
         "marker": {
          "color": "limegreen"
         },
         "mode": "markers",
         "type": "scatter",
         "x": [
          222.04,
          374.86,
          319.38,
          233.23,
          223.82,
          276.58
         ],
         "xaxis": "x9",
         "y": [
          222.04,
          374.86,
          319.38,
          233.23,
          223.82,
          276.58
         ],
         "yaxis": "y9"
        },
        {
         "hoverlabel": {
          "namelength": 20
         },
         "marker": {
          "color": "limegreen"
         },
         "mode": "lines",
         "name": "Line of Best Fit",
         "type": "scatter",
         "x": [
          222.04,
          374.86,
          319.38,
          233.23,
          223.82,
          276.58
         ],
         "xaxis": "x9",
         "y": [
          222.04000000000002,
          374.86,
          319.38,
          233.23000000000002,
          223.82000000000002,
          276.58
         ],
         "yaxis": "y9"
        }
       ],
       "layout": {
        "height": 800,
        "showlegend": false,
        "template": {
         "data": {
          "bar": [
           {
            "error_x": {
             "color": "#2a3f5f"
            },
            "error_y": {
             "color": "#2a3f5f"
            },
            "marker": {
             "line": {
              "color": "#E5ECF6",
              "width": 0.5
             },
             "pattern": {
              "fillmode": "overlay",
              "size": 10,
              "solidity": 0.2
             }
            },
            "type": "bar"
           }
          ],
          "barpolar": [
           {
            "marker": {
             "line": {
              "color": "#E5ECF6",
              "width": 0.5
             },
             "pattern": {
              "fillmode": "overlay",
              "size": 10,
              "solidity": 0.2
             }
            },
            "type": "barpolar"
           }
          ],
          "carpet": [
           {
            "aaxis": {
             "endlinecolor": "#2a3f5f",
             "gridcolor": "white",
             "linecolor": "white",
             "minorgridcolor": "white",
             "startlinecolor": "#2a3f5f"
            },
            "baxis": {
             "endlinecolor": "#2a3f5f",
             "gridcolor": "white",
             "linecolor": "white",
             "minorgridcolor": "white",
             "startlinecolor": "#2a3f5f"
            },
            "type": "carpet"
           }
          ],
          "choropleth": [
           {
            "colorbar": {
             "outlinewidth": 0,
             "ticks": ""
            },
            "type": "choropleth"
           }
          ],
          "contour": [
           {
            "colorbar": {
             "outlinewidth": 0,
             "ticks": ""
            },
            "colorscale": [
             [
              0,
              "#0d0887"
             ],
             [
              0.1111111111111111,
              "#46039f"
             ],
             [
              0.2222222222222222,
              "#7201a8"
             ],
             [
              0.3333333333333333,
              "#9c179e"
             ],
             [
              0.4444444444444444,
              "#bd3786"
             ],
             [
              0.5555555555555556,
              "#d8576b"
             ],
             [
              0.6666666666666666,
              "#ed7953"
             ],
             [
              0.7777777777777778,
              "#fb9f3a"
             ],
             [
              0.8888888888888888,
              "#fdca26"
             ],
             [
              1,
              "#f0f921"
             ]
            ],
            "type": "contour"
           }
          ],
          "contourcarpet": [
           {
            "colorbar": {
             "outlinewidth": 0,
             "ticks": ""
            },
            "type": "contourcarpet"
           }
          ],
          "heatmap": [
           {
            "colorbar": {
             "outlinewidth": 0,
             "ticks": ""
            },
            "colorscale": [
             [
              0,
              "#0d0887"
             ],
             [
              0.1111111111111111,
              "#46039f"
             ],
             [
              0.2222222222222222,
              "#7201a8"
             ],
             [
              0.3333333333333333,
              "#9c179e"
             ],
             [
              0.4444444444444444,
              "#bd3786"
             ],
             [
              0.5555555555555556,
              "#d8576b"
             ],
             [
              0.6666666666666666,
              "#ed7953"
             ],
             [
              0.7777777777777778,
              "#fb9f3a"
             ],
             [
              0.8888888888888888,
              "#fdca26"
             ],
             [
              1,
              "#f0f921"
             ]
            ],
            "type": "heatmap"
           }
          ],
          "heatmapgl": [
           {
            "colorbar": {
             "outlinewidth": 0,
             "ticks": ""
            },
            "colorscale": [
             [
              0,
              "#0d0887"
             ],
             [
              0.1111111111111111,
              "#46039f"
             ],
             [
              0.2222222222222222,
              "#7201a8"
             ],
             [
              0.3333333333333333,
              "#9c179e"
             ],
             [
              0.4444444444444444,
              "#bd3786"
             ],
             [
              0.5555555555555556,
              "#d8576b"
             ],
             [
              0.6666666666666666,
              "#ed7953"
             ],
             [
              0.7777777777777778,
              "#fb9f3a"
             ],
             [
              0.8888888888888888,
              "#fdca26"
             ],
             [
              1,
              "#f0f921"
             ]
            ],
            "type": "heatmapgl"
           }
          ],
          "histogram": [
           {
            "marker": {
             "pattern": {
              "fillmode": "overlay",
              "size": 10,
              "solidity": 0.2
             }
            },
            "type": "histogram"
           }
          ],
          "histogram2d": [
           {
            "colorbar": {
             "outlinewidth": 0,
             "ticks": ""
            },
            "colorscale": [
             [
              0,
              "#0d0887"
             ],
             [
              0.1111111111111111,
              "#46039f"
             ],
             [
              0.2222222222222222,
              "#7201a8"
             ],
             [
              0.3333333333333333,
              "#9c179e"
             ],
             [
              0.4444444444444444,
              "#bd3786"
             ],
             [
              0.5555555555555556,
              "#d8576b"
             ],
             [
              0.6666666666666666,
              "#ed7953"
             ],
             [
              0.7777777777777778,
              "#fb9f3a"
             ],
             [
              0.8888888888888888,
              "#fdca26"
             ],
             [
              1,
              "#f0f921"
             ]
            ],
            "type": "histogram2d"
           }
          ],
          "histogram2dcontour": [
           {
            "colorbar": {
             "outlinewidth": 0,
             "ticks": ""
            },
            "colorscale": [
             [
              0,
              "#0d0887"
             ],
             [
              0.1111111111111111,
              "#46039f"
             ],
             [
              0.2222222222222222,
              "#7201a8"
             ],
             [
              0.3333333333333333,
              "#9c179e"
             ],
             [
              0.4444444444444444,
              "#bd3786"
             ],
             [
              0.5555555555555556,
              "#d8576b"
             ],
             [
              0.6666666666666666,
              "#ed7953"
             ],
             [
              0.7777777777777778,
              "#fb9f3a"
             ],
             [
              0.8888888888888888,
              "#fdca26"
             ],
             [
              1,
              "#f0f921"
             ]
            ],
            "type": "histogram2dcontour"
           }
          ],
          "mesh3d": [
           {
            "colorbar": {
             "outlinewidth": 0,
             "ticks": ""
            },
            "type": "mesh3d"
           }
          ],
          "parcoords": [
           {
            "line": {
             "colorbar": {
              "outlinewidth": 0,
              "ticks": ""
             }
            },
            "type": "parcoords"
           }
          ],
          "pie": [
           {
            "automargin": true,
            "type": "pie"
           }
          ],
          "scatter": [
           {
            "marker": {
             "colorbar": {
              "outlinewidth": 0,
              "ticks": ""
             }
            },
            "type": "scatter"
           }
          ],
          "scatter3d": [
           {
            "line": {
             "colorbar": {
              "outlinewidth": 0,
              "ticks": ""
             }
            },
            "marker": {
             "colorbar": {
              "outlinewidth": 0,
              "ticks": ""
             }
            },
            "type": "scatter3d"
           }
          ],
          "scattercarpet": [
           {
            "marker": {
             "colorbar": {
              "outlinewidth": 0,
              "ticks": ""
             }
            },
            "type": "scattercarpet"
           }
          ],
          "scattergeo": [
           {
            "marker": {
             "colorbar": {
              "outlinewidth": 0,
              "ticks": ""
             }
            },
            "type": "scattergeo"
           }
          ],
          "scattergl": [
           {
            "marker": {
             "colorbar": {
              "outlinewidth": 0,
              "ticks": ""
             }
            },
            "type": "scattergl"
           }
          ],
          "scattermapbox": [
           {
            "marker": {
             "colorbar": {
              "outlinewidth": 0,
              "ticks": ""
             }
            },
            "type": "scattermapbox"
           }
          ],
          "scatterpolar": [
           {
            "marker": {
             "colorbar": {
              "outlinewidth": 0,
              "ticks": ""
             }
            },
            "type": "scatterpolar"
           }
          ],
          "scatterpolargl": [
           {
            "marker": {
             "colorbar": {
              "outlinewidth": 0,
              "ticks": ""
             }
            },
            "type": "scatterpolargl"
           }
          ],
          "scatterternary": [
           {
            "marker": {
             "colorbar": {
              "outlinewidth": 0,
              "ticks": ""
             }
            },
            "type": "scatterternary"
           }
          ],
          "surface": [
           {
            "colorbar": {
             "outlinewidth": 0,
             "ticks": ""
            },
            "colorscale": [
             [
              0,
              "#0d0887"
             ],
             [
              0.1111111111111111,
              "#46039f"
             ],
             [
              0.2222222222222222,
              "#7201a8"
             ],
             [
              0.3333333333333333,
              "#9c179e"
             ],
             [
              0.4444444444444444,
              "#bd3786"
             ],
             [
              0.5555555555555556,
              "#d8576b"
             ],
             [
              0.6666666666666666,
              "#ed7953"
             ],
             [
              0.7777777777777778,
              "#fb9f3a"
             ],
             [
              0.8888888888888888,
              "#fdca26"
             ],
             [
              1,
              "#f0f921"
             ]
            ],
            "type": "surface"
           }
          ],
          "table": [
           {
            "cells": {
             "fill": {
              "color": "#EBF0F8"
             },
             "line": {
              "color": "white"
             }
            },
            "header": {
             "fill": {
              "color": "#C8D4E3"
             },
             "line": {
              "color": "white"
             }
            },
            "type": "table"
           }
          ]
         },
         "layout": {
          "annotationdefaults": {
           "arrowcolor": "#2a3f5f",
           "arrowhead": 0,
           "arrowwidth": 1
          },
          "autotypenumbers": "strict",
          "coloraxis": {
           "colorbar": {
            "outlinewidth": 0,
            "ticks": ""
           }
          },
          "colorscale": {
           "diverging": [
            [
             0,
             "#8e0152"
            ],
            [
             0.1,
             "#c51b7d"
            ],
            [
             0.2,
             "#de77ae"
            ],
            [
             0.3,
             "#f1b6da"
            ],
            [
             0.4,
             "#fde0ef"
            ],
            [
             0.5,
             "#f7f7f7"
            ],
            [
             0.6,
             "#e6f5d0"
            ],
            [
             0.7,
             "#b8e186"
            ],
            [
             0.8,
             "#7fbc41"
            ],
            [
             0.9,
             "#4d9221"
            ],
            [
             1,
             "#276419"
            ]
           ],
           "sequential": [
            [
             0,
             "#0d0887"
            ],
            [
             0.1111111111111111,
             "#46039f"
            ],
            [
             0.2222222222222222,
             "#7201a8"
            ],
            [
             0.3333333333333333,
             "#9c179e"
            ],
            [
             0.4444444444444444,
             "#bd3786"
            ],
            [
             0.5555555555555556,
             "#d8576b"
            ],
            [
             0.6666666666666666,
             "#ed7953"
            ],
            [
             0.7777777777777778,
             "#fb9f3a"
            ],
            [
             0.8888888888888888,
             "#fdca26"
            ],
            [
             1,
             "#f0f921"
            ]
           ],
           "sequentialminus": [
            [
             0,
             "#0d0887"
            ],
            [
             0.1111111111111111,
             "#46039f"
            ],
            [
             0.2222222222222222,
             "#7201a8"
            ],
            [
             0.3333333333333333,
             "#9c179e"
            ],
            [
             0.4444444444444444,
             "#bd3786"
            ],
            [
             0.5555555555555556,
             "#d8576b"
            ],
            [
             0.6666666666666666,
             "#ed7953"
            ],
            [
             0.7777777777777778,
             "#fb9f3a"
            ],
            [
             0.8888888888888888,
             "#fdca26"
            ],
            [
             1,
             "#f0f921"
            ]
           ]
          },
          "colorway": [
           "#636efa",
           "#EF553B",
           "#00cc96",
           "#ab63fa",
           "#FFA15A",
           "#19d3f3",
           "#FF6692",
           "#B6E880",
           "#FF97FF",
           "#FECB52"
          ],
          "font": {
           "color": "#2a3f5f"
          },
          "geo": {
           "bgcolor": "white",
           "lakecolor": "white",
           "landcolor": "#E5ECF6",
           "showlakes": true,
           "showland": true,
           "subunitcolor": "white"
          },
          "hoverlabel": {
           "align": "left"
          },
          "hovermode": "closest",
          "mapbox": {
           "style": "light"
          },
          "paper_bgcolor": "white",
          "plot_bgcolor": "#E5ECF6",
          "polar": {
           "angularaxis": {
            "gridcolor": "white",
            "linecolor": "white",
            "ticks": ""
           },
           "bgcolor": "#E5ECF6",
           "radialaxis": {
            "gridcolor": "white",
            "linecolor": "white",
            "ticks": ""
           }
          },
          "scene": {
           "xaxis": {
            "backgroundcolor": "#E5ECF6",
            "gridcolor": "white",
            "gridwidth": 2,
            "linecolor": "white",
            "showbackground": true,
            "ticks": "",
            "zerolinecolor": "white"
           },
           "yaxis": {
            "backgroundcolor": "#E5ECF6",
            "gridcolor": "white",
            "gridwidth": 2,
            "linecolor": "white",
            "showbackground": true,
            "ticks": "",
            "zerolinecolor": "white"
           },
           "zaxis": {
            "backgroundcolor": "#E5ECF6",
            "gridcolor": "white",
            "gridwidth": 2,
            "linecolor": "white",
            "showbackground": true,
            "ticks": "",
            "zerolinecolor": "white"
           }
          },
          "shapedefaults": {
           "line": {
            "color": "#2a3f5f"
           }
          },
          "ternary": {
           "aaxis": {
            "gridcolor": "white",
            "linecolor": "white",
            "ticks": ""
           },
           "baxis": {
            "gridcolor": "white",
            "linecolor": "white",
            "ticks": ""
           },
           "bgcolor": "#E5ECF6",
           "caxis": {
            "gridcolor": "white",
            "linecolor": "white",
            "ticks": ""
           }
          },
          "title": {
           "x": 0.05
          },
          "xaxis": {
           "automargin": true,
           "gridcolor": "white",
           "linecolor": "white",
           "ticks": "",
           "title": {
            "standoff": 15
           },
           "zerolinecolor": "white",
           "zerolinewidth": 2
          },
          "yaxis": {
           "automargin": true,
           "gridcolor": "white",
           "linecolor": "white",
           "ticks": "",
           "title": {
            "standoff": 15
           },
           "zerolinecolor": "white",
           "zerolinewidth": 2
          }
         }
        },
        "title": {
         "text": "Correlation Comparison",
         "x": 0.5
        },
        "width": 800,
        "xaxis": {
         "anchor": "y",
         "autorange": true,
         "domain": [
          0,
          0.26666666666666666
         ],
         "range": [
          6.475747205110655,
          7.9242527948893455
         ],
         "title": {
          "text": "Readability_score"
         },
         "type": "linear"
        },
        "xaxis2": {
         "anchor": "y2",
         "autorange": true,
         "domain": [
          0.3666666666666667,
          0.6333333333333333
         ],
         "range": [
          6.475747205110655,
          7.9242527948893455
         ],
         "title": {
          "text": "Readability_score"
         },
         "type": "linear"
        },
        "xaxis3": {
         "anchor": "y3",
         "autorange": true,
         "domain": [
          0.7333333333333334,
          1
         ],
         "range": [
          6.475747205110655,
          7.9242527948893455
         ],
         "title": {
          "text": "Readability_score"
         },
         "type": "linear"
        },
        "xaxis4": {
         "anchor": "y4",
         "autorange": true,
         "domain": [
          0,
          0.26666666666666666
         ],
         "range": [
          10.48051562856491,
          14.91948437143509
         ],
         "title": {
          "text": "Grade_score"
         },
         "type": "linear"
        },
        "xaxis5": {
         "anchor": "y5",
         "autorange": true,
         "domain": [
          0.3666666666666667,
          0.6333333333333333
         ],
         "range": [
          10.48051562856491,
          14.91948437143509
         ],
         "title": {
          "text": "Grade_score"
         },
         "type": "linear"
        },
        "xaxis6": {
         "anchor": "y6",
         "autorange": true,
         "domain": [
          0.7333333333333334,
          1
         ],
         "range": [
          10.48051562856491,
          14.91948437143509
         ],
         "title": {
          "text": "Grade_score"
         },
         "type": "linear"
        },
        "xaxis7": {
         "anchor": "y7",
         "autorange": true,
         "domain": [
          0,
          0.26666666666666666
         ],
         "range": [
          209.19168377823408,
          387.7083162217659
         ],
         "title": {
          "text": "Reading_time"
         },
         "type": "linear"
        },
        "xaxis8": {
         "anchor": "y8",
         "autorange": true,
         "domain": [
          0.3666666666666667,
          0.6333333333333333
         ],
         "range": [
          209.19168377823408,
          387.7083162217659
         ],
         "title": {
          "text": "Reading_time"
         },
         "type": "linear"
        },
        "xaxis9": {
         "anchor": "y9",
         "autorange": true,
         "domain": [
          0.7333333333333334,
          1
         ],
         "range": [
          209.19168377823408,
          387.7083162217659
         ],
         "title": {
          "text": "Reading_time"
         },
         "type": "linear"
        },
        "yaxis": {
         "anchor": "x",
         "autorange": true,
         "domain": [
          0.7333333333333333,
          1
         ],
         "range": [
          6.474545883463081,
          7.925454116536919
         ],
         "title": {
          "text": "Readability_score"
         },
         "type": "linear"
        },
        "yaxis2": {
         "anchor": "x2",
         "autorange": true,
         "domain": [
          0.7333333333333333,
          1
         ],
         "range": [
          10.466954871843383,
          15.049212391002394
         ],
         "title": {
          "text": "Grade_score"
         },
         "type": "linear"
        },
        "yaxis3": {
         "anchor": "x3",
         "autorange": true,
         "domain": [
          0.7333333333333333,
          1
         ],
         "range": [
          209.0436305732484,
          387.8563694267516
         ],
         "title": {
          "text": "Reading_time"
         },
         "type": "linear"
        },
        "yaxis4": {
         "anchor": "x4",
         "autorange": true,
         "domain": [
          0.36666666666666664,
          0.6333333333333333
         ],
         "range": [
          6.474545883463081,
          7.925454116536919
         ],
         "title": {
          "text": "Readability_score"
         },
         "type": "linear"
        },
        "yaxis5": {
         "anchor": "x5",
         "autorange": true,
         "domain": [
          0.36666666666666664,
          0.6333333333333333
         ],
         "range": [
          10.476834158999765,
          14.923165841000236
         ],
         "title": {
          "text": "Grade_score"
         },
         "type": "linear"
        },
        "yaxis6": {
         "anchor": "x6",
         "autorange": true,
         "domain": [
          0.36666666666666664,
          0.6333333333333333
         ],
         "range": [
          209.0436305732484,
          387.8563694267516
         ],
         "title": {
          "text": "Reading_time"
         },
         "type": "linear"
        },
        "yaxis7": {
         "anchor": "x7",
         "autorange": true,
         "domain": [
          0,
          0.26666666666666666
         ],
         "range": [
          6.474545883463081,
          7.925454116536919
         ],
         "title": {
          "text": "Readability_score"
         },
         "type": "linear"
        },
        "yaxis8": {
         "anchor": "x8",
         "autorange": true,
         "domain": [
          0,
          0.26666666666666666
         ],
         "range": [
          10.476834158999765,
          14.923165841000236
         ],
         "title": {
          "text": "Grade_score"
         },
         "type": "linear"
        },
        "yaxis9": {
         "anchor": "x9",
         "autorange": true,
         "domain": [
          0,
          0.26666666666666666
         ],
         "range": [
          209.0436305732484,
          387.8563694267516
         ],
         "title": {
          "text": "Reading_time"
         },
         "type": "linear"
        }
       }
      },
      "image/png": "[encoded data removed]",
      "text/html": [
       "<div>                            <div id=\"d9eb0db8-1613-4940-8c90-78a93a60ddd3\" class=\"plotly-graph-div\" style=\"height:800px; width:800px;\"></div>            <script type=\"text/javascript\">                require([\"plotly\"], function(Plotly) {                    window.PLOTLYENV=window.PLOTLYENV || {};                                    if (document.getElementById(\"d9eb0db8-1613-4940-8c90-78a93a60ddd3\")) {                    Plotly.newPlot(                        \"d9eb0db8-1613-4940-8c90-78a93a60ddd3\",                        [{\"hovertemplate\":\"%{x}, %{y}<extra></extra>\",\"marker\":{\"color\":\"cadetblue\"},\"mode\":\"markers\",\"x\":[7.82,7.22,6.94,7.34,7.47,6.58],\"y\":[7.82,7.22,6.94,7.34,7.47,6.58],\"type\":\"scatter\",\"xaxis\":\"x\",\"yaxis\":\"y\"},{\"hoverlabel\":{\"namelength\":20},\"marker\":{\"color\":\"cadetblue\"},\"mode\":\"lines\",\"name\":\"Line of Best Fit\",\"x\":[7.82,7.22,6.94,7.34,7.47,6.58],\"y\":[7.82,7.22,6.940000000000001,7.34,7.47,6.580000000000001],\"type\":\"scatter\",\"xaxis\":\"x\",\"yaxis\":\"y\"},{\"hovertemplate\":\"%{x}, %{y}<extra></extra>\",\"marker\":{\"color\":\"cadetblue\"},\"mode\":\"markers\",\"x\":[7.82,7.22,6.94,7.34,7.47,6.58],\"y\":[14.6,14.2,12.9,14.0,12.9,10.8],\"type\":\"scatter\",\"xaxis\":\"x2\",\"yaxis\":\"y2\"},{\"hoverlabel\":{\"namelength\":20},\"marker\":{\"color\":\"cadetblue\"},\"mode\":\"lines\",\"name\":\"Line of Best Fit\",\"x\":[7.82,7.22,6.94,7.34,7.47,6.58],\"y\":[14.820099515044443,13.210984513872614,12.460064179992429,13.532807514106981,13.881449097694208,11.49459517928933],\"type\":\"scatter\",\"xaxis\":\"x2\",\"yaxis\":\"y2\"},{\"hovertemplate\":\"%{x}, %{y}<extra></extra>\",\"marker\":{\"color\":\"cadetblue\"},\"mode\":\"markers\",\"x\":[7.82,7.22,6.94,7.34,7.47,6.58],\"y\":[222.04,374.86,319.38,233.23,223.82,276.58],\"type\":\"scatter\",\"xaxis\":\"x3\",\"yaxis\":\"y3\"},{\"hoverlabel\":{\"namelength\":20},\"marker\":{\"color\":\"cadetblue\"},\"mode\":\"lines\",\"name\":\"Line of Best Fit\",\"x\":[7.82,7.22,6.94,7.34,7.47,6.58],\"y\":[234.65222178153533,275.55306729885143,294.64012854026555,267.37289819538825,258.5110483333031,319.1806358506552],\"type\":\"scatter\",\"xaxis\":\"x3\",\"yaxis\":\"y3\"},{\"hovertemplate\":\"%{x}, %{y}<extra></extra>\",\"marker\":{\"color\":\"darksalmon\"},\"mode\":\"markers\",\"x\":[14.6,14.2,12.9,14.0,12.9,10.8],\"y\":[7.82,7.22,6.94,7.34,7.47,6.58],\"type\":\"scatter\",\"xaxis\":\"x4\",\"yaxis\":\"y4\"},{\"hoverlabel\":{\"namelength\":20},\"marker\":{\"color\":\"darksalmon\"},\"mode\":\"lines\",\"name\":\"Line of Best Fit\",\"x\":[14.6,14.2,12.9,14.0,12.9,10.8],\"y\":[7.58376223776224,7.479734265734267,7.141643356643359,7.4277202797202815,7.141643356643359,6.595496503496506],\"type\":\"scatter\",\"xaxis\":\"x4\",\"yaxis\":\"y4\"},{\"hovertemplate\":\"%{x}, %{y}<extra></extra>\",\"marker\":{\"color\":\"darksalmon\"},\"mode\":\"markers\",\"x\":[14.6,14.2,12.9,14.0,12.9,10.8],\"y\":[14.6,14.2,12.9,14.0,12.9,10.8],\"type\":\"scatter\",\"xaxis\":\"x5\",\"yaxis\":\"y5\"},{\"hoverlabel\":{\"namelength\":20},\"marker\":{\"color\":\"darksalmon\"},\"mode\":\"lines\",\"name\":\"Line of Best Fit\",\"x\":[14.6,14.2,12.9,14.0,12.9,10.8],\"y\":[14.600000000000007,14.200000000000006,12.900000000000006,14.000000000000005,12.900000000000006,10.800000000000002],\"type\":\"scatter\",\"xaxis\":\"x5\",\"yaxis\":\"y5\"},{\"hovertemplate\":\"%{x}, %{y}<extra></extra>\",\"marker\":{\"color\":\"darksalmon\"},\"mode\":\"markers\",\"x\":[14.6,14.2,12.9,14.0,12.9,10.8],\"y\":[222.04,374.86,319.38,233.23,223.82,276.58],\"type\":\"scatter\",\"xaxis\":\"x6\",\"yaxis\":\"y6\"},{\"hoverlabel\":{\"namelength\":20},\"marker\":{\"color\":\"darksalmon\"},\"mode\":\"lines\",\"name\":\"Line of Best Fit\",\"x\":[14.6,14.2,12.9,14.0,12.9,10.8],\"y\":[273.63042307692314,274.0268846153847,275.31538461538463,274.22511538461544,275.31538461538463,277.3968076923076],\"type\":\"scatter\",\"xaxis\":\"x6\",\"yaxis\":\"y6\"},{\"hovertemplate\":\"%{x}, %{y}<extra></extra>\",\"marker\":{\"color\":\"limegreen\"},\"mode\":\"markers\",\"x\":[222.04,374.86,319.38,233.23,223.82,276.58],\"y\":[7.82,7.22,6.94,7.34,7.47,6.58],\"type\":\"scatter\",\"xaxis\":\"x7\",\"yaxis\":\"y7\"},{\"hoverlabel\":{\"namelength\":20},\"marker\":{\"color\":\"limegreen\"},\"mode\":\"lines\",\"name\":\"Line of Best Fit\",\"x\":[222.04,374.86,319.38,233.23,223.82,276.58],\"y\":[7.402906115680301,6.899020713881007,7.081952019284913,7.366009913310624,7.397037014677796,7.223074223165359],\"type\":\"scatter\",\"xaxis\":\"x7\",\"yaxis\":\"y7\"},{\"hovertemplate\":\"%{x}, %{y}<extra></extra>\",\"marker\":{\"color\":\"limegreen\"},\"mode\":\"markers\",\"x\":[222.04,374.86,319.38,233.23,223.82,276.58],\"y\":[14.6,14.2,12.9,14.0,12.9,10.8],\"type\":\"scatter\",\"xaxis\":\"x8\",\"yaxis\":\"y8\"},{\"hoverlabel\":{\"namelength\":20},\"marker\":{\"color\":\"limegreen\"},\"mode\":\"lines\",\"name\":\"Line of Best Fit\",\"x\":[222.04,374.86,319.38,233.23,223.82,276.58],\"y\":[13.259508066381787,13.183957538391153,13.211385514395083,13.253975999844585,13.258628077245396,13.232544803742021],\"type\":\"scatter\",\"xaxis\":\"x8\",\"yaxis\":\"y8\"},{\"hovertemplate\":\"%{x}, %{y}<extra></extra>\",\"marker\":{\"color\":\"limegreen\"},\"mode\":\"markers\",\"x\":[222.04,374.86,319.38,233.23,223.82,276.58],\"y\":[222.04,374.86,319.38,233.23,223.82,276.58],\"type\":\"scatter\",\"xaxis\":\"x9\",\"yaxis\":\"y9\"},{\"hoverlabel\":{\"namelength\":20},\"marker\":{\"color\":\"limegreen\"},\"mode\":\"lines\",\"name\":\"Line of Best Fit\",\"x\":[222.04,374.86,319.38,233.23,223.82,276.58],\"y\":[222.04000000000002,374.86,319.38,233.23000000000002,223.82000000000002,276.58],\"type\":\"scatter\",\"xaxis\":\"x9\",\"yaxis\":\"y9\"}],                        {\"template\":{\"data\":{\"bar\":[{\"error_x\":{\"color\":\"#2a3f5f\"},\"error_y\":{\"color\":\"#2a3f5f\"},\"marker\":{\"line\":{\"color\":\"#E5ECF6\",\"width\":0.5},\"pattern\":{\"fillmode\":\"overlay\",\"size\":10,\"solidity\":0.2}},\"type\":\"bar\"}],\"barpolar\":[{\"marker\":{\"line\":{\"color\":\"#E5ECF6\",\"width\":0.5},\"pattern\":{\"fillmode\":\"overlay\",\"size\":10,\"solidity\":0.2}},\"type\":\"barpolar\"}],\"carpet\":[{\"aaxis\":{\"endlinecolor\":\"#2a3f5f\",\"gridcolor\":\"white\",\"linecolor\":\"white\",\"minorgridcolor\":\"white\",\"startlinecolor\":\"#2a3f5f\"},\"baxis\":{\"endlinecolor\":\"#2a3f5f\",\"gridcolor\":\"white\",\"linecolor\":\"white\",\"minorgridcolor\":\"white\",\"startlinecolor\":\"#2a3f5f\"},\"type\":\"carpet\"}],\"choropleth\":[{\"colorbar\":{\"outlinewidth\":0,\"ticks\":\"\"},\"type\":\"choropleth\"}],\"contour\":[{\"colorbar\":{\"outlinewidth\":0,\"ticks\":\"\"},\"colorscale\":[[0.0,\"#0d0887\"],[0.1111111111111111,\"#46039f\"],[0.2222222222222222,\"#7201a8\"],[0.3333333333333333,\"#9c179e\"],[0.4444444444444444,\"#bd3786\"],[0.5555555555555556,\"#d8576b\"],[0.6666666666666666,\"#ed7953\"],[0.7777777777777778,\"#fb9f3a\"],[0.8888888888888888,\"#fdca26\"],[1.0,\"#f0f921\"]],\"type\":\"contour\"}],\"contourcarpet\":[{\"colorbar\":{\"outlinewidth\":0,\"ticks\":\"\"},\"type\":\"contourcarpet\"}],\"heatmap\":[{\"colorbar\":{\"outlinewidth\":0,\"ticks\":\"\"},\"colorscale\":[[0.0,\"#0d0887\"],[0.1111111111111111,\"#46039f\"],[0.2222222222222222,\"#7201a8\"],[0.3333333333333333,\"#9c179e\"],[0.4444444444444444,\"#bd3786\"],[0.5555555555555556,\"#d8576b\"],[0.6666666666666666,\"#ed7953\"],[0.7777777777777778,\"#fb9f3a\"],[0.8888888888888888,\"#fdca26\"],[1.0,\"#f0f921\"]],\"type\":\"heatmap\"}],\"heatmapgl\":[{\"colorbar\":{\"outlinewidth\":0,\"ticks\":\"\"},\"colorscale\":[[0.0,\"#0d0887\"],[0.1111111111111111,\"#46039f\"],[0.2222222222222222,\"#7201a8\"],[0.3333333333333333,\"#9c179e\"],[0.4444444444444444,\"#bd3786\"],[0.5555555555555556,\"#d8576b\"],[0.6666666666666666,\"#ed7953\"],[0.7777777777777778,\"#fb9f3a\"],[0.8888888888888888,\"#fdca26\"],[1.0,\"#f0f921\"]],\"type\":\"heatmapgl\"}],\"histogram\":[{\"marker\":{\"pattern\":{\"fillmode\":\"overlay\",\"size\":10,\"solidity\":0.2}},\"type\":\"histogram\"}],\"histogram2d\":[{\"colorbar\":{\"outlinewidth\":0,\"ticks\":\"\"},\"colorscale\":[[0.0,\"#0d0887\"],[0.1111111111111111,\"#46039f\"],[0.2222222222222222,\"#7201a8\"],[0.3333333333333333,\"#9c179e\"],[0.4444444444444444,\"#bd3786\"],[0.5555555555555556,\"#d8576b\"],[0.6666666666666666,\"#ed7953\"],[0.7777777777777778,\"#fb9f3a\"],[0.8888888888888888,\"#fdca26\"],[1.0,\"#f0f921\"]],\"type\":\"histogram2d\"}],\"histogram2dcontour\":[{\"colorbar\":{\"outlinewidth\":0,\"ticks\":\"\"},\"colorscale\":[[0.0,\"#0d0887\"],[0.1111111111111111,\"#46039f\"],[0.2222222222222222,\"#7201a8\"],[0.3333333333333333,\"#9c179e\"],[0.4444444444444444,\"#bd3786\"],[0.5555555555555556,\"#d8576b\"],[0.6666666666666666,\"#ed7953\"],[0.7777777777777778,\"#fb9f3a\"],[0.8888888888888888,\"#fdca26\"],[1.0,\"#f0f921\"]],\"type\":\"histogram2dcontour\"}],\"mesh3d\":[{\"colorbar\":{\"outlinewidth\":0,\"ticks\":\"\"},\"type\":\"mesh3d\"}],\"parcoords\":[{\"line\":{\"colorbar\":{\"outlinewidth\":0,\"ticks\":\"\"}},\"type\":\"parcoords\"}],\"pie\":[{\"automargin\":true,\"type\":\"pie\"}],\"scatter\":[{\"marker\":{\"colorbar\":{\"outlinewidth\":0,\"ticks\":\"\"}},\"type\":\"scatter\"}],\"scatter3d\":[{\"line\":{\"colorbar\":{\"outlinewidth\":0,\"ticks\":\"\"}},\"marker\":{\"colorbar\":{\"outlinewidth\":0,\"ticks\":\"\"}},\"type\":\"scatter3d\"}],\"scattercarpet\":[{\"marker\":{\"colorbar\":{\"outlinewidth\":0,\"ticks\":\"\"}},\"type\":\"scattercarpet\"}],\"scattergeo\":[{\"marker\":{\"colorbar\":{\"outlinewidth\":0,\"ticks\":\"\"}},\"type\":\"scattergeo\"}],\"scattergl\":[{\"marker\":{\"colorbar\":{\"outlinewidth\":0,\"ticks\":\"\"}},\"type\":\"scattergl\"}],\"scattermapbox\":[{\"marker\":{\"colorbar\":{\"outlinewidth\":0,\"ticks\":\"\"}},\"type\":\"scattermapbox\"}],\"scatterpolar\":[{\"marker\":{\"colorbar\":{\"outlinewidth\":0,\"ticks\":\"\"}},\"type\":\"scatterpolar\"}],\"scatterpolargl\":[{\"marker\":{\"colorbar\":{\"outlinewidth\":0,\"ticks\":\"\"}},\"type\":\"scatterpolargl\"}],\"scatterternary\":[{\"marker\":{\"colorbar\":{\"outlinewidth\":0,\"ticks\":\"\"}},\"type\":\"scatterternary\"}],\"surface\":[{\"colorbar\":{\"outlinewidth\":0,\"ticks\":\"\"},\"colorscale\":[[0.0,\"#0d0887\"],[0.1111111111111111,\"#46039f\"],[0.2222222222222222,\"#7201a8\"],[0.3333333333333333,\"#9c179e\"],[0.4444444444444444,\"#bd3786\"],[0.5555555555555556,\"#d8576b\"],[0.6666666666666666,\"#ed7953\"],[0.7777777777777778,\"#fb9f3a\"],[0.8888888888888888,\"#fdca26\"],[1.0,\"#f0f921\"]],\"type\":\"surface\"}],\"table\":[{\"cells\":{\"fill\":{\"color\":\"#EBF0F8\"},\"line\":{\"color\":\"white\"}},\"header\":{\"fill\":{\"color\":\"#C8D4E3\"},\"line\":{\"color\":\"white\"}},\"type\":\"table\"}]},\"layout\":{\"annotationdefaults\":{\"arrowcolor\":\"#2a3f5f\",\"arrowhead\":0,\"arrowwidth\":1},\"autotypenumbers\":\"strict\",\"coloraxis\":{\"colorbar\":{\"outlinewidth\":0,\"ticks\":\"\"}},\"colorscale\":{\"diverging\":[[0,\"#8e0152\"],[0.1,\"#c51b7d\"],[0.2,\"#de77ae\"],[0.3,\"#f1b6da\"],[0.4,\"#fde0ef\"],[0.5,\"#f7f7f7\"],[0.6,\"#e6f5d0\"],[0.7,\"#b8e186\"],[0.8,\"#7fbc41\"],[0.9,\"#4d9221\"],[1,\"#276419\"]],\"sequential\":[[0.0,\"#0d0887\"],[0.1111111111111111,\"#46039f\"],[0.2222222222222222,\"#7201a8\"],[0.3333333333333333,\"#9c179e\"],[0.4444444444444444,\"#bd3786\"],[0.5555555555555556,\"#d8576b\"],[0.6666666666666666,\"#ed7953\"],[0.7777777777777778,\"#fb9f3a\"],[0.8888888888888888,\"#fdca26\"],[1.0,\"#f0f921\"]],\"sequentialminus\":[[0.0,\"#0d0887\"],[0.1111111111111111,\"#46039f\"],[0.2222222222222222,\"#7201a8\"],[0.3333333333333333,\"#9c179e\"],[0.4444444444444444,\"#bd3786\"],[0.5555555555555556,\"#d8576b\"],[0.6666666666666666,\"#ed7953\"],[0.7777777777777778,\"#fb9f3a\"],[0.8888888888888888,\"#fdca26\"],[1.0,\"#f0f921\"]]},\"colorway\":[\"#636efa\",\"#EF553B\",\"#00cc96\",\"#ab63fa\",\"#FFA15A\",\"#19d3f3\",\"#FF6692\",\"#B6E880\",\"#FF97FF\",\"#FECB52\"],\"font\":{\"color\":\"#2a3f5f\"},\"geo\":{\"bgcolor\":\"white\",\"lakecolor\":\"white\",\"landcolor\":\"#E5ECF6\",\"showlakes\":true,\"showland\":true,\"subunitcolor\":\"white\"},\"hoverlabel\":{\"align\":\"left\"},\"hovermode\":\"closest\",\"mapbox\":{\"style\":\"light\"},\"paper_bgcolor\":\"white\",\"plot_bgcolor\":\"#E5ECF6\",\"polar\":{\"angularaxis\":{\"gridcolor\":\"white\",\"linecolor\":\"white\",\"ticks\":\"\"},\"bgcolor\":\"#E5ECF6\",\"radialaxis\":{\"gridcolor\":\"white\",\"linecolor\":\"white\",\"ticks\":\"\"}},\"scene\":{\"xaxis\":{\"backgroundcolor\":\"#E5ECF6\",\"gridcolor\":\"white\",\"gridwidth\":2,\"linecolor\":\"white\",\"showbackground\":true,\"ticks\":\"\",\"zerolinecolor\":\"white\"},\"yaxis\":{\"backgroundcolor\":\"#E5ECF6\",\"gridcolor\":\"white\",\"gridwidth\":2,\"linecolor\":\"white\",\"showbackground\":true,\"ticks\":\"\",\"zerolinecolor\":\"white\"},\"zaxis\":{\"backgroundcolor\":\"#E5ECF6\",\"gridcolor\":\"white\",\"gridwidth\":2,\"linecolor\":\"white\",\"showbackground\":true,\"ticks\":\"\",\"zerolinecolor\":\"white\"}},\"shapedefaults\":{\"line\":{\"color\":\"#2a3f5f\"}},\"ternary\":{\"aaxis\":{\"gridcolor\":\"white\",\"linecolor\":\"white\",\"ticks\":\"\"},\"baxis\":{\"gridcolor\":\"white\",\"linecolor\":\"white\",\"ticks\":\"\"},\"bgcolor\":\"#E5ECF6\",\"caxis\":{\"gridcolor\":\"white\",\"linecolor\":\"white\",\"ticks\":\"\"}},\"title\":{\"x\":0.05},\"xaxis\":{\"automargin\":true,\"gridcolor\":\"white\",\"linecolor\":\"white\",\"ticks\":\"\",\"title\":{\"standoff\":15},\"zerolinecolor\":\"white\",\"zerolinewidth\":2},\"yaxis\":{\"automargin\":true,\"gridcolor\":\"white\",\"linecolor\":\"white\",\"ticks\":\"\",\"title\":{\"standoff\":15},\"zerolinecolor\":\"white\",\"zerolinewidth\":2}}},\"xaxis\":{\"anchor\":\"y\",\"domain\":[0.0,0.26666666666666666],\"title\":{\"text\":\"Readability_score\"}},\"yaxis\":{\"anchor\":\"x\",\"domain\":[0.7333333333333333,1.0],\"title\":{\"text\":\"Readability_score\"}},\"xaxis2\":{\"anchor\":\"y2\",\"domain\":[0.3666666666666667,0.6333333333333333],\"title\":{\"text\":\"Readability_score\"}},\"yaxis2\":{\"anchor\":\"x2\",\"domain\":[0.7333333333333333,1.0],\"title\":{\"text\":\"Grade_score\"}},\"xaxis3\":{\"anchor\":\"y3\",\"domain\":[0.7333333333333334,1.0],\"title\":{\"text\":\"Readability_score\"}},\"yaxis3\":{\"anchor\":\"x3\",\"domain\":[0.7333333333333333,1.0],\"title\":{\"text\":\"Reading_time\"}},\"xaxis4\":{\"anchor\":\"y4\",\"domain\":[0.0,0.26666666666666666],\"title\":{\"text\":\"Grade_score\"}},\"yaxis4\":{\"anchor\":\"x4\",\"domain\":[0.36666666666666664,0.6333333333333333],\"title\":{\"text\":\"Readability_score\"}},\"xaxis5\":{\"anchor\":\"y5\",\"domain\":[0.3666666666666667,0.6333333333333333],\"title\":{\"text\":\"Grade_score\"}},\"yaxis5\":{\"anchor\":\"x5\",\"domain\":[0.36666666666666664,0.6333333333333333],\"title\":{\"text\":\"Grade_score\"}},\"xaxis6\":{\"anchor\":\"y6\",\"domain\":[0.7333333333333334,1.0],\"title\":{\"text\":\"Grade_score\"}},\"yaxis6\":{\"anchor\":\"x6\",\"domain\":[0.36666666666666664,0.6333333333333333],\"title\":{\"text\":\"Reading_time\"}},\"xaxis7\":{\"anchor\":\"y7\",\"domain\":[0.0,0.26666666666666666],\"title\":{\"text\":\"Reading_time\"}},\"yaxis7\":{\"anchor\":\"x7\",\"domain\":[0.0,0.26666666666666666],\"title\":{\"text\":\"Readability_score\"}},\"xaxis8\":{\"anchor\":\"y8\",\"domain\":[0.3666666666666667,0.6333333333333333],\"title\":{\"text\":\"Reading_time\"}},\"yaxis8\":{\"anchor\":\"x8\",\"domain\":[0.0,0.26666666666666666],\"title\":{\"text\":\"Grade_score\"}},\"xaxis9\":{\"anchor\":\"y9\",\"domain\":[0.7333333333333334,1.0],\"title\":{\"text\":\"Reading_time\"}},\"yaxis9\":{\"anchor\":\"x9\",\"domain\":[0.0,0.26666666666666666],\"title\":{\"text\":\"Reading_time\"}},\"title\":{\"text\":\"Correlation Comparison\",\"x\":0.5},\"height\":800,\"width\":800,\"showlegend\":false},                        {\"responsive\": true}                    ).then(function(){\n",
       "                            \n",
       "var gd = document.getElementById('d9eb0db8-1613-4940-8c90-78a93a60ddd3');\n",
       "var x = new MutationObserver(function (mutations, observer) {{\n",
       "        var display = window.getComputedStyle(gd).display;\n",
       "        if (!display || display === 'none') {{\n",
       "            console.log([gd, 'removed!']);\n",
       "            Plotly.purge(gd);\n",
       "            observer.disconnect();\n",
       "        }}\n",
       "}});\n",
       "\n",
       "// Listen for the removal of the full notebook cells\n",
       "var notebookContainer = gd.closest('#notebook-container');\n",
       "if (notebookContainer) {{\n",
       "    x.observe(notebookContainer, {childList: true});\n",
       "}}\n",
       "\n",
       "// Listen for the clearing of the current output cell\n",
       "var outputEl = gd.closest('.output');\n",
       "if (outputEl) {{\n",
       "    x.observe(outputEl, {childList: true});\n",
       "}}\n",
       "\n",
       "                        })                };                });            </script>        </div>"
      ]
     },
     "metadata": {},
     "output_type": "display_data"
    }
   ],
   "source": [
    "def create_correlation_graph(df):\n",
    "    variables = [\"Readability_score\", \"Grade_score\", \"Reading_time\"]\n",
    "    colors=[\"cadetblue\", \"darksalmon\", \"limegreen\"]\n",
    "    \n",
    "    fig = make_subplots(rows=3, cols=3, horizontal_spacing = 0.1)\n",
    "    \n",
    "    def create_empty_dataframe():\n",
    "        return pd.DataFrame()\n",
    "\n",
    "    start_no = 0\n",
    "    global col_no\n",
    "    col_no = 1\n",
    "    row_no = 1\n",
    "    while row_no < 4:\n",
    "        col_no = 1\n",
    "        for variable in variables:\n",
    "            slope,y_int=np.polyfit(df[variables[start_no]], df[variable], 1)\n",
    "            df_slope = create_empty_dataframe()\n",
    "            df_slope[\"Best_fit\"] = slope * df[variables[start_no]] + y_int\n",
    "            \n",
    "            fig.add_trace(go.Scatter(x=df[variables[start_no]], y=df[variable], mode='markers',\n",
    "                                     marker={\"color\":colors[start_no]}, \n",
    "                                     hovertemplate=\"%{x}\" + \",\" + \" %{y}\" + \"<extra></extra>\"), \n",
    "                          row=row_no, col=col_no)\n",
    "            fig.add_trace(go.Scatter(x=df[variables[start_no]], y=df_slope[\"Best_fit\"], mode=\"lines\",\n",
    "                                    marker={\"color\":colors[start_no]}, name=\"Line of Best Fit\", hoverlabel = dict(namelength = 20)), \n",
    "                          row=row_no, col=col_no)\n",
    "            fig.update_xaxes(title_text=variables[start_no], row=row_no, col=col_no)\n",
    "            fig.update_yaxes(title_text=variable, row=row_no, col=col_no)\n",
    "            \n",
    "            if col_no != 3:\n",
    "                col_no += 1\n",
    "                \n",
    "        row_no += 1\n",
    "        start_no += 1\n",
    "\n",
    "\n",
    "    fig.update_layout(height=800, width=800, showlegend=False, title={\"text\":\"Correlation Comparison\",\n",
    "                                                                      \"x\":0.5})\n",
    "    fig.show()\n",
    "        \n",
    "create_correlation_graph(policy_df)"
   ]
  },
  {
   "cell_type": "markdown",
   "id": "520e9571-f0b9-40ad-9e6e-2b9c1478cb85",
   "metadata": {},
   "source": [
    "## Web Scraping"
   ]
  },
  {
   "cell_type": "markdown",
   "id": "d74ba2f1-9902-4b66-8094-95a534d6ee46",
   "metadata": {},
   "source": [
    "Below is an exmaple of web scarping on Google privacy policy."
   ]
  },
  {
   "cell_type": "code",
   "execution_count": 180,
   "id": "32744a77-da99-4d7e-9c38-22dc8ac3416c",
   "metadata": {},
   "outputs": [
    {
     "data": {
      "text/plain": [
       "\"When you use our services, you’re trusting us with your information. We understand this is a big responsibility and work hard to protect your information and put you in control.We build a range of services that help millions of people daily to explore and interact with the world in new ways. Our services include:Google apps, sites, and devices, like Search, YouTube, and Google HomePlatforms like the Chrome browser and Android operating systemProducts that are integrated into third-party apps and sites, like ads, analytics, and embedded Google MapsWe want you to understand the types of information we collect as you use our servicesTerms you search forVideos you watchViews and interactions with content and adsVoice and audio informationPurchase activityPeople with whom you communicate or share contentActivity on third-party sites and apps that use our servicesChrome browsing history you’ve synced with your Google AccountWe use data to build better servicesWe don’t show you personalized ads based on sensitive categories, such as race, religion, sexual orientation, or health.We don’t show you personalized ads based on your content from Drive, Gmail, or Photos.We don’t share information that personally identifies you with advertisers, such as your name or email, unless you ask us to. For example, if you see an ad for a nearby flower shop and select the “tap to call” button, we’ll connect your call and may share your phone number with the flower shop.You have choices regarding the information we collect and how it's usedSigned-out search personalization: Choose whether your search activity is used to offer you more relevant results and recommendations.YouTube settings: Pause and delete your YouTube Search History and your YouTube Watch History.Ad Settings: Manage your preferences about the ads shown to you on Google and on sites and apps that partner with Google to show ads.Many of our services let you share information with other people, and you have control over how you share. For example, you can share videos on YouTube publicly or you can decide to keep your videos private. Remember, when you share information publicly, your content may become accessible through search engines, including Google Search.Access and retain information stored in your account, like your emailView statistics regarding your account, like how many apps you installChange your account passwordSuspend or terminate your account accessReceive your account information in order to satisfy applicable law, regulation, legal process, or enforceable governmental requestRestrict your ability to delete or edit your information or your privacy settingsWe build security into our services to protect your informationWe use encryption to keep your data private while in transitWe offer a range of security features, like Safe Browsing, Security Checkup, and 2 Step Verification to help you protect your accountWe review our information collection, storage, and processing practices, including physical security measures, to prevent unauthorized access to our systemsWe restrict access to personal information to Google employees, contractors, and agents who need that information in order to process it. Anyone with this access is subject to strict contractual confidentiality obligations and may be disciplined or terminated if they fail to meet these obligations.You can export a copy of your information or delete it from your Google Account at any timeDelete your content from specific Google servicesSearch for and then delete specific items from your account using My ActivityDelete specific Google products, including your information associated with those productsDelete your entire Google AccountWe retain the data we collect for different periods of time depending on what it is, how we use it, and how you configure your settings:Some data you can delete whenever you like, such as your personal info or the content you create or upload, like photos and documents. You can also delete activity information saved in your account, or choose to have it deleted automatically after a set period of time. We’ll keep this data in your Google Account until you remove it or choose to have it removed.Other data is deleted or anonymized automatically after a set period of time, such as advertising data in server logs.We keep some data until you delete your Google Account, such as information about how often you use our services.And some data we retain for longer periods of time when necessary for legitimate business or legal purposes, such as security, fraud and abuse prevention, or financial record-keeping.We regularly review this Privacy Policy and make sure that we process your information in ways that comply with it.This Privacy Policy applies to all of the services offered by Google LLC and its affiliates, including YouTube, Android, and services offered on third-party sites, such as advertising services. This Privacy Policy doesn’t apply to services that have separate privacy policies that do not incorporate this Privacy Policy.The information practices of other companies and organizations that advertise our servicesServices offered by other companies or individuals, including products or sites they offer that may include Google services to which the policy applies, or products or sites displayed to you in search results, or linked from our servicesThe following privacy notices provide additional information about some Google services:Chrome &amp; the Chrome Operating SystemPaymentsFiberGoogle FiGoogle Workspace for EducationRead AlongYouTube KidsGoogle Accounts Managed with Family Link, for Children under 13 (or applicable age in your country)Family Link privacy guide for children &amp; teensVoice and Audio Collection from Children’s Features on the Google AssistantAn affiliate is an entity that belongs to the Google group of companies, including the following companies that provide consumer services in the EU: Google Ireland Limited, Google Commerce Ltd, Google Payment Corp, and Google Dialer Inc. Learn more about the companies providing business services in the EU.123.45.67.89 is the Internet Protocol address assigned to the user by the user’s ISP. Depending on the user’s service, a different address may be assigned to the user by their service provider each time they connect to the Internet.25/Mar/2003 10:15:32 is the date and time of the query.http://www.google.com/search?q=cars is the requested URL, including the search query.Firefox 1.0.7; Windows NT 5.1 is the browser and operating system being used.740674ce2123a969 is the unique cookie ID assigned to this particular computer the first time it visited Google. (Cookies can be deleted by users. If the user has deleted the cookie from the computer since the last time they’ve visited Google, then it will be the unique cookie ID assigned to their device the next time they visit Google from that particular device).\""
      ]
     },
     "execution_count": 180,
     "metadata": {},
     "output_type": "execute_result"
    }
   ],
   "source": [
    "# Reading time, readability score, grade trace \n",
    "\n",
    "def webscrape_private_policy(url):\n",
    "    search_url = url\n",
    "\n",
    "    r = requests.get(search_url)\n",
    "    soup = BeautifulSoup(r.text)\n",
    "    mydivs = soup.find_all(\"div\", {\"class\": \"nrAB0c\"})\n",
    "    contents_list = []\n",
    "    for item in mydivs:\n",
    "        contents_list.append(item.find(\"p\"))\n",
    "        contents_list.append(item.find(\"ul\"))\n",
    "\n",
    "    cleaned_contents_list = []\n",
    "    for ind, content in enumerate(contents_list):\n",
    "        content = str(content)\n",
    "        if content != \"None\":\n",
    "            content = re.sub('<.*?>', '', content)\n",
    "            cleaned_contents_list.append(content)\n",
    "        if content == \"None\":\n",
    "            continue\n",
    "            \n",
    "    cleaned_text = ''.join([content for content in cleaned_contents_list])\n",
    "    return cleaned_text\n",
    "\n",
    "url = \"https://policies.google.com/privacy?hl=en-US\"\n",
    "scraped_texts = webscrape_private_policy(url)\n",
    "scraped_texts"
   ]
  },
  {
   "cell_type": "code",
   "execution_count": 187,
   "id": "07d82daa-3b66-49a4-879c-d01a2893669b",
   "metadata": {},
   "outputs": [
    {
     "data": {
      "text/html": [
       "<div>\n",
       "<style scoped>\n",
       "    .dataframe tbody tr th:only-of-type {\n",
       "        vertical-align: middle;\n",
       "    }\n",
       "\n",
       "    .dataframe tbody tr th {\n",
       "        vertical-align: top;\n",
       "    }\n",
       "\n",
       "    .dataframe thead th {\n",
       "        text-align: right;\n",
       "    }\n",
       "</style>\n",
       "<table border=\"1\" class=\"dataframe\">\n",
       "  <thead>\n",
       "    <tr style=\"text-align: right;\">\n",
       "      <th></th>\n",
       "      <th>Readability Score</th>\n",
       "      <th>Grade Score</th>\n",
       "      <th>Reading_Time</th>\n",
       "    </tr>\n",
       "  </thead>\n",
       "  <tbody>\n",
       "    <tr>\n",
       "      <th>0</th>\n",
       "      <td>9.04</td>\n",
       "      <td>16.2</td>\n",
       "      <td>86.38</td>\n",
       "    </tr>\n",
       "  </tbody>\n",
       "</table>\n",
       "</div>"
      ],
      "text/plain": [
       "   Readability Score  Grade Score  Reading_Time\n",
       "0               9.04         16.2         86.38"
      ]
     },
     "execution_count": 187,
     "metadata": {},
     "output_type": "execute_result"
    }
   ],
   "source": [
    "readability_score = textstat.dale_chall_readability_score(scraped_texts)\n",
    "grade_score = textstat.flesch_kincaid_grade(scraped_texts)\n",
    "reading_time = textstat.reading_time(scraped_texts, ms_per_char=14.69)\n",
    "\n",
    "table = pd.DataFrame(columns=[\"Readability Score\", \"Grade Score\", \"Reading_Time\"])\n",
    "table.loc[len(table)] = [readability_score, grade_score, reading_time]\n",
    "table"
   ]
  }
 ],
 "metadata": {
  "kernelspec": {
   "display_name": "Python 3 (ipykernel)",
   "language": "python",
   "name": "python3"
  },
  "language_info": {
   "codemirror_mode": {
    "name": "ipython",
    "version": 3
   },
   "file_extension": ".py",
   "mimetype": "text/x-python",
   "name": "python",
   "nbconvert_exporter": "python",
   "pygments_lexer": "ipython3",
   "version": "3.9.12"
  },
  "vscode": {
   "interpreter": {
    "hash": "31f2aee4e71d21fbe5cf8b01ff0e069b9275f58929596ceb00d14d90e3e16cd6"
   }
  }
 },
 "nbformat": 4,
 "nbformat_minor": 5
}
