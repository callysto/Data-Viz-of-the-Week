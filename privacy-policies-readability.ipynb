{
 "cells": [
  {
   "attachments": {},
   "cell_type": "markdown",
   "id": "a58a914c",
   "metadata": {},
   "source": [
    "![Callysto.ca Banner](https://github.com/callysto/curriculum-notebooks/blob/master/callysto-notebook-banner-top.jpg?raw=true)"
   ]
  },
  {
   "attachments": {},
   "cell_type": "markdown",
   "id": "e90a64a5",
   "metadata": {},
   "source": [
    "# Readability of Privacy Policies"
   ]
  },
  {
   "attachments": {},
   "cell_type": "markdown",
   "id": "fe687947",
   "metadata": {},
   "source": [
    "### Instructions\n",
    "#### “Run” the cells to see the graphs\n",
    "Click “Cell” and select “Run All”.<br> This will import the data and run all the code, so you can see this week's data visualization. Scroll to the top after you’ve run the cells.<br> \n",
    "\n",
    "![instructions](https://github.com/callysto/data-viz-of-the-week/blob/main/images/instructions.png?raw=true)\n",
    "\n",
    "**You don’t need to do any coding to view the visualizations**.\n",
    "The plots generated in this notebook are interactive. You can hover over and click on elements to see more information. \n",
    "\n",
    "Email contact@callysto.ca if you experience issues."
   ]
  },
  {
   "attachments": {},
   "cell_type": "markdown",
   "id": "1ed059a7",
   "metadata": {},
   "source": [
    "### About this Notebook\n",
    "\n",
    "Callysto's Weekly Data Visualization is a learning resource that aims to develop data literacy skills. We provide Grades 5-12 teachers and students with a data visualization, like a graph, to interpret. This companion resource walks learners through how the data visualization is created and interpreted by a data scientist. \n",
    "\n",
    "The steps of the data analysis process are listed below and applied to each weekly topic.\n",
    "\n",
    "1. Question - What are we trying to answer? \n",
    "2. Gather - Find the data source(s) you will need. \n",
    "3. Organize - Arrange the data, so that you can easily explore it. \n",
    "4. Explore - Examine the data to look for evidence to answer the question. This includes creating visualizations. \n",
    "5. Interpret - Describe what's happening in the data visualization. \n",
    "6. Communicate - Explain how the evidence answers the question. "
   ]
  },
  {
   "attachments": {},
   "cell_type": "markdown",
   "id": "4c96aa0a",
   "metadata": {},
   "source": [
    "# Question\n",
    "\n",
    "So, you've checked off the \"I read and agree to the terms and conditions\" on a new services you've just signed up to without actually reading the terms. After all, they always seem very long to read and filled with jargon that does not make sense. \n",
    "\n",
    "But just how difficult is it to read these terms of services? In this data visualization, we analyze the readability of various data policies to answer this question. \n",
    "\n",
    "### Goal\n",
    "Our goal is to investigate the readability of some of the most popular social media websites to see just how difficult it is to read these policies."
   ]
  },
  {
   "attachments": {},
   "cell_type": "markdown",
   "id": "5f01c28c",
   "metadata": {},
   "source": [
    "# Gather\n",
    "\n",
    "### Code:\n",
    "The code below will import the Python programming libraries we need to gather and organize the data to answer our question."
   ]
  },
  {
   "cell_type": "code",
   "execution_count": 1,
   "id": "d23fc217",
   "metadata": {},
   "outputs": [],
   "source": [
    "from bs4 import BeautifulSoup\n",
    "import requests\n",
    "import re \n",
    "import markdown\n",
    "import textstat\n",
    "\n",
    "import pandas as pd\n",
    "import numpy as np\n",
    "\n",
    "import plotly.express as px\n",
    "from plotly.subplots import make_subplots\n",
    "import plotly.graph_objects as go"
   ]
  },
  {
   "attachments": {},
   "cell_type": "markdown",
   "id": "ea746f59",
   "metadata": {},
   "source": [
    "### Data:\n",
    "\n",
    "We will use the Princeton-Leuven Longitudinal Privacy Policy Dataset which contains over 1 million policies that span more than 20 years. The dataset can be found on the following [repository](https://github.com/citp/privacy-policy-historical).\n",
    "\n",
    "### Import the data\n",
    "\n",
    "The code below reads the privacy policies from the following social media websites: Tiktok, Twitter, Facebook, Instagram, YouTube, and Pinterest."
   ]
  },
  {
   "cell_type": "code",
   "execution_count": 2,
   "id": "f7ef8dc7",
   "metadata": {},
   "outputs": [],
   "source": [
    "#getting the links for each of the policies\n",
    "policies = ['https://github.com/citp/privacy-policy-historical/blob/master/t/ti/tik/tiktok.com.md',\n",
    "            'https://github.com/citp/privacy-policy-historical/blob/master/t/tw/twi/twitter.com.br.md',\n",
    "            'https://github.com/citp/privacy-policy-historical/blob/master/f/fa/fac/facebook.com.md',\n",
    "            'https://github.com/citp/privacy-policy-historical/blob/master/i/in/ins/instagram.com.md',\n",
    "            'https://github.com/citp/privacy-policy-historical/blob/master/y/yo/you/youtube.com.md',\n",
    "            'https://github.com/citp/privacy-policy-historical/blob/master/p/pi/pin/pinterest.com.md']"
   ]
  },
  {
   "cell_type": "code",
   "execution_count": 3,
   "id": "8fc5e670",
   "metadata": {},
   "outputs": [
    {
     "data": {
      "text/html": [
       "<div>\n",
       "<style scoped>\n",
       "    .dataframe tbody tr th:only-of-type {\n",
       "        vertical-align: middle;\n",
       "    }\n",
       "\n",
       "    .dataframe tbody tr th {\n",
       "        vertical-align: top;\n",
       "    }\n",
       "\n",
       "    .dataframe thead th {\n",
       "        text-align: right;\n",
       "    }\n",
       "</style>\n",
       "<table border=\"1\" class=\"dataframe\">\n",
       "  <thead>\n",
       "    <tr style=\"text-align: right;\">\n",
       "      <th></th>\n",
       "      <th>Social_Media</th>\n",
       "      <th>Texts</th>\n",
       "    </tr>\n",
       "  </thead>\n",
       "  <tbody>\n",
       "    <tr>\n",
       "      <th>0</th>\n",
       "      <td>Tiktok</td>\n",
       "      <td>The following text is extracted and transforme...</td>\n",
       "    </tr>\n",
       "    <tr>\n",
       "      <th>1</th>\n",
       "      <td>Twitter</td>\n",
       "      <td>The following text is extracted and transforme...</td>\n",
       "    </tr>\n",
       "    <tr>\n",
       "      <th>2</th>\n",
       "      <td>Facebook</td>\n",
       "      <td>The following text is extracted and transforme...</td>\n",
       "    </tr>\n",
       "    <tr>\n",
       "      <th>3</th>\n",
       "      <td>Instagram</td>\n",
       "      <td>The following text is extracted and transforme...</td>\n",
       "    </tr>\n",
       "    <tr>\n",
       "      <th>4</th>\n",
       "      <td>Youtube</td>\n",
       "      <td>The following text is extracted and transforme...</td>\n",
       "    </tr>\n",
       "    <tr>\n",
       "      <th>5</th>\n",
       "      <td>Pinterest</td>\n",
       "      <td>The following text is extracted and transforme...</td>\n",
       "    </tr>\n",
       "  </tbody>\n",
       "</table>\n",
       "</div>"
      ],
      "text/plain": [
       "  Social_Media                                              Texts\n",
       "0       Tiktok  The following text is extracted and transforme...\n",
       "1      Twitter  The following text is extracted and transforme...\n",
       "2     Facebook  The following text is extracted and transforme...\n",
       "3    Instagram  The following text is extracted and transforme...\n",
       "4      Youtube  The following text is extracted and transforme...\n",
       "5    Pinterest  The following text is extracted and transforme..."
      ]
     },
     "execution_count": 3,
     "metadata": {},
     "output_type": "execute_result"
    }
   ],
   "source": [
    "#putting the privacy policies into a dataframe\n",
    "def create_df(alist: list):\n",
    "    result_dict = {}\n",
    "    title_list = ['Tiktok', 'Twitter', 'Facebook', 'Instagram', 'Youtube','Pinterest']\n",
    "    \n",
    "    for i, url in enumerate(policies): \n",
    "\n",
    "        response = requests.get(url)\n",
    "\n",
    "        content = response.text\n",
    "\n",
    "        start_index = content.find('<article')\n",
    "        end_index = content.find('</article>')\n",
    "\n",
    "        body_content = content[start_index:end_index]\n",
    "\n",
    "        html = markdown.markdown(body_content)\n",
    "        soup = BeautifulSoup(html, 'html.parser')\n",
    "        texts = soup.get_text()\n",
    "        result_dict[title_list[i]] = texts\n",
    "\n",
    "    df = pd.DataFrame(result_dict.items(), columns=[\"Social_Media\", \"Texts\"])\n",
    "    remove_n = lambda x: x.replace('\\n', '')\n",
    "    df[\"Texts\"] = df[\"Texts\"].apply(remove_n)\n",
    "    return df\n",
    "\n",
    "policy_df = create_df(policies)\n",
    "policy_df"
   ]
  },
  {
   "attachments": {},
   "cell_type": "markdown",
   "id": "ce9625ca",
   "metadata": {},
   "source": [
    "We can also search through the database for a specific company's privacy policy using the folloing code. The function search_for_site will take in the input of the company name you are looking for and give an output of suggested URLs that point to that company's privacy policy."
   ]
  },
  {
   "cell_type": "code",
   "execution_count": 4,
   "id": "76cc1e84",
   "metadata": {},
   "outputs": [
    {
     "name": "stdout",
     "output_type": "stream",
     "text": [
      "['twitter-friends.com.md', 'twitter.com.br.md', 'twitter.github.io.md', 'twitter.rs.md', 'twitterautofollowback.com.md', 'twitterbackgrounds.com.md', 'twitterbackgroundsgallery.com.md', 'twittercism.com.md', 'twittercommunity.com.md', 'twittercounter.com.md', 'twitterfeed.com.md', 'twitterflight.com.md', 'twittergadget.com.md', 'twittergrader.com.md', 'twittericon.com.md', 'twitterless.com.md', 'twitterlive.net.md', 'twittermail.com.md', 'twittermoms.com.md', 'twitteronlinesystem.com.md', 'twitterrific.com.md', 'twittertise.com.md', 'twittertrafficexposed.com.md', 'twittertrick.com.md', 'twittervideodownloader.com.md', 'twittervision.com.md', 'twitterwatchdog.com.md']\n"
     ]
    }
   ],
   "source": [
    "def search_for_site(keyword):\n",
    "    \n",
    "    base_url = \"https://github.com/citp/privacy-policy-historical/tree/master/\"\n",
    "    first_letter = keyword[0]\n",
    "    second_letter = keyword[0:2]\n",
    "    third_letter = keyword[0:3]\n",
    "    \n",
    "    search_url = base_url + first_letter + \"/\" + second_letter + \"/\" + third_letter\n",
    "    r = requests.get(search_url)\n",
    "    soup = BeautifulSoup(r.text)\n",
    "    mydivs = soup.find_all(\"a\", {\"class\": \"js-navigation-open Link--primary\"})\n",
    "    \n",
    "    title_list = []\n",
    "    for item in mydivs:\n",
    "        title_list.append(item.get(\"title\"))\n",
    "        \n",
    "    result_list = []\n",
    "    for website in title_list:\n",
    "        if keyword in website:\n",
    "            result_list.append(website)\n",
    "            \n",
    "    if not result_list:\n",
    "        print(\"No website\")\n",
    "        \n",
    "    if len(result_list) == 1:\n",
    "        return result_list\n",
    "    \n",
    "    if len(result_list) > 1:\n",
    "        print(result_list)\n",
    "        \n",
    "search_for_site(\"twitter\")"
   ]
  },
  {
   "attachments": {},
   "cell_type": "markdown",
   "id": "0740db9a",
   "metadata": {},
   "source": [
    "# Organize\n",
    "\n",
    "The code below will calculate the readability score, grade score, as well as the reading time of each of the privacy policies that we are investigating and add them to our dataframe.\n",
    "\n",
    "The grade score shows the number of years of education required to understand the text. For example, a score of 5 means that a fifth grader will generally understand the text.\n",
    "\n",
    "The readabilty score shows another measure of grade level that uses a lookup table of the most commonly used 3000 English words to determine the grade level. \n",
    "\n",
    "The reading time give the time it will take to read the text. \n",
    "\n",
    "For more information on the score values, you can refer to the [textstat library documentation](https://pypi.org/project/textstat/)"
   ]
  },
  {
   "cell_type": "code",
   "execution_count": 5,
   "id": "2c2aa184",
   "metadata": {},
   "outputs": [
    {
     "data": {
      "text/html": [
       "<div>\n",
       "<style scoped>\n",
       "    .dataframe tbody tr th:only-of-type {\n",
       "        vertical-align: middle;\n",
       "    }\n",
       "\n",
       "    .dataframe tbody tr th {\n",
       "        vertical-align: top;\n",
       "    }\n",
       "\n",
       "    .dataframe thead th {\n",
       "        text-align: right;\n",
       "    }\n",
       "</style>\n",
       "<table border=\"1\" class=\"dataframe\">\n",
       "  <thead>\n",
       "    <tr style=\"text-align: right;\">\n",
       "      <th></th>\n",
       "      <th>Social_Media</th>\n",
       "      <th>Texts</th>\n",
       "      <th>Readability_score</th>\n",
       "      <th>Grade_score</th>\n",
       "      <th>Reading_time</th>\n",
       "    </tr>\n",
       "  </thead>\n",
       "  <tbody>\n",
       "    <tr>\n",
       "      <th>0</th>\n",
       "      <td>Tiktok</td>\n",
       "      <td>The following text is extracted and transforme...</td>\n",
       "      <td>7.82</td>\n",
       "      <td>14.6</td>\n",
       "      <td>222.04</td>\n",
       "    </tr>\n",
       "    <tr>\n",
       "      <th>1</th>\n",
       "      <td>Twitter</td>\n",
       "      <td>The following text is extracted and transforme...</td>\n",
       "      <td>7.22</td>\n",
       "      <td>14.2</td>\n",
       "      <td>374.86</td>\n",
       "    </tr>\n",
       "    <tr>\n",
       "      <th>2</th>\n",
       "      <td>Facebook</td>\n",
       "      <td>The following text is extracted and transforme...</td>\n",
       "      <td>6.94</td>\n",
       "      <td>12.9</td>\n",
       "      <td>319.38</td>\n",
       "    </tr>\n",
       "    <tr>\n",
       "      <th>3</th>\n",
       "      <td>Instagram</td>\n",
       "      <td>The following text is extracted and transforme...</td>\n",
       "      <td>7.34</td>\n",
       "      <td>14.0</td>\n",
       "      <td>233.23</td>\n",
       "    </tr>\n",
       "    <tr>\n",
       "      <th>4</th>\n",
       "      <td>Youtube</td>\n",
       "      <td>The following text is extracted and transforme...</td>\n",
       "      <td>7.47</td>\n",
       "      <td>12.9</td>\n",
       "      <td>223.82</td>\n",
       "    </tr>\n",
       "    <tr>\n",
       "      <th>5</th>\n",
       "      <td>Pinterest</td>\n",
       "      <td>The following text is extracted and transforme...</td>\n",
       "      <td>6.58</td>\n",
       "      <td>10.8</td>\n",
       "      <td>276.58</td>\n",
       "    </tr>\n",
       "  </tbody>\n",
       "</table>\n",
       "</div>"
      ],
      "text/plain": [
       "  Social_Media                                              Texts  \\\n",
       "0       Tiktok  The following text is extracted and transforme...   \n",
       "1      Twitter  The following text is extracted and transforme...   \n",
       "2     Facebook  The following text is extracted and transforme...   \n",
       "3    Instagram  The following text is extracted and transforme...   \n",
       "4      Youtube  The following text is extracted and transforme...   \n",
       "5    Pinterest  The following text is extracted and transforme...   \n",
       "\n",
       "   Readability_score  Grade_score  Reading_time  \n",
       "0               7.82         14.6        222.04  \n",
       "1               7.22         14.2        374.86  \n",
       "2               6.94         12.9        319.38  \n",
       "3               7.34         14.0        233.23  \n",
       "4               7.47         12.9        223.82  \n",
       "5               6.58         10.8        276.58  "
      ]
     },
     "execution_count": 5,
     "metadata": {},
     "output_type": "execute_result"
    }
   ],
   "source": [
    "readability_score = lambda x: textstat.dale_chall_readability_score(x)\n",
    "grade_score = lambda x: textstat.flesch_kincaid_grade(x)\n",
    "reading_time = lambda x: textstat.reading_time(x, ms_per_char=14.69)\n",
    "policy_df[\"Readability_score\"] = policy_df[\"Texts\"].apply(readability_score)\n",
    "policy_df[\"Grade_score\"] = policy_df[\"Texts\"].apply(grade_score)\n",
    "policy_df[\"Reading_time\"] = policy_df[\"Texts\"].apply(reading_time)\n",
    "policy_df"
   ]
  },
  {
   "attachments": {},
   "cell_type": "markdown",
   "id": "0b70c9b5",
   "metadata": {},
   "source": [
    "# Explore\n",
    "\n",
    "The code below will create a bar graph showing the different measures of readablity for each of the social media websites. You can toggle between reading time, readability score, and grade trace to compare how each of these companies perform.  "
   ]
  },
  {
   "cell_type": "code",
   "execution_count": 6,
   "id": "d15d7146",
   "metadata": {},
   "outputs": [
    {
     "data": {
      "application/vnd.plotly.v1+json": {
       "config": {
        "plotlyServerURL": "https://plot.ly"
       },
       "data": [
        {
         "marker": {
          "color": "#1EBC8C"
         },
         "name": "Readability Score",
         "type": "bar",
         "visible": true,
         "width": 0.7,
         "x": [
          "Tiktok",
          "Twitter",
          "Facebook",
          "Instagram",
          "Youtube",
          "Pinterest"
         ],
         "y": [
          7.82,
          7.22,
          6.94,
          7.34,
          7.47,
          6.58
         ]
        },
        {
         "marker": {
          "color": "#4D8AF1"
         },
         "name": "Grade Score",
         "type": "bar",
         "visible": false,
         "width": 0.7,
         "x": [
          "Tiktok",
          "Twitter",
          "Facebook",
          "Instagram",
          "Youtube",
          "Pinterest"
         ],
         "y": [
          14.6,
          14.2,
          12.9,
          14,
          12.9,
          10.8
         ]
        },
        {
         "marker": {
          "color": "#F14D78"
         },
         "name": "Reading Time",
         "type": "bar",
         "visible": false,
         "width": 0.7,
         "x": [
          "Tiktok",
          "Twitter",
          "Facebook",
          "Instagram",
          "Youtube",
          "Pinterest"
         ],
         "y": [
          222.04,
          374.86,
          319.38,
          233.23,
          223.82,
          276.58
         ]
        }
       ],
       "layout": {
        "height": 500,
        "template": {
         "data": {
          "bar": [
           {
            "error_x": {
             "color": "#2a3f5f"
            },
            "error_y": {
             "color": "#2a3f5f"
            },
            "marker": {
             "line": {
              "color": "#E5ECF6",
              "width": 0.5
             },
             "pattern": {
              "fillmode": "overlay",
              "size": 10,
              "solidity": 0.2
             }
            },
            "type": "bar"
           }
          ],
          "barpolar": [
           {
            "marker": {
             "line": {
              "color": "#E5ECF6",
              "width": 0.5
             },
             "pattern": {
              "fillmode": "overlay",
              "size": 10,
              "solidity": 0.2
             }
            },
            "type": "barpolar"
           }
          ],
          "carpet": [
           {
            "aaxis": {
             "endlinecolor": "#2a3f5f",
             "gridcolor": "white",
             "linecolor": "white",
             "minorgridcolor": "white",
             "startlinecolor": "#2a3f5f"
            },
            "baxis": {
             "endlinecolor": "#2a3f5f",
             "gridcolor": "white",
             "linecolor": "white",
             "minorgridcolor": "white",
             "startlinecolor": "#2a3f5f"
            },
            "type": "carpet"
           }
          ],
          "choropleth": [
           {
            "colorbar": {
             "outlinewidth": 0,
             "ticks": ""
            },
            "type": "choropleth"
           }
          ],
          "contour": [
           {
            "colorbar": {
             "outlinewidth": 0,
             "ticks": ""
            },
            "colorscale": [
             [
              0,
              "#0d0887"
             ],
             [
              0.1111111111111111,
              "#46039f"
             ],
             [
              0.2222222222222222,
              "#7201a8"
             ],
             [
              0.3333333333333333,
              "#9c179e"
             ],
             [
              0.4444444444444444,
              "#bd3786"
             ],
             [
              0.5555555555555556,
              "#d8576b"
             ],
             [
              0.6666666666666666,
              "#ed7953"
             ],
             [
              0.7777777777777778,
              "#fb9f3a"
             ],
             [
              0.8888888888888888,
              "#fdca26"
             ],
             [
              1,
              "#f0f921"
             ]
            ],
            "type": "contour"
           }
          ],
          "contourcarpet": [
           {
            "colorbar": {
             "outlinewidth": 0,
             "ticks": ""
            },
            "type": "contourcarpet"
           }
          ],
          "heatmap": [
           {
            "colorbar": {
             "outlinewidth": 0,
             "ticks": ""
            },
            "colorscale": [
             [
              0,
              "#0d0887"
             ],
             [
              0.1111111111111111,
              "#46039f"
             ],
             [
              0.2222222222222222,
              "#7201a8"
             ],
             [
              0.3333333333333333,
              "#9c179e"
             ],
             [
              0.4444444444444444,
              "#bd3786"
             ],
             [
              0.5555555555555556,
              "#d8576b"
             ],
             [
              0.6666666666666666,
              "#ed7953"
             ],
             [
              0.7777777777777778,
              "#fb9f3a"
             ],
             [
              0.8888888888888888,
              "#fdca26"
             ],
             [
              1,
              "#f0f921"
             ]
            ],
            "type": "heatmap"
           }
          ],
          "heatmapgl": [
           {
            "colorbar": {
             "outlinewidth": 0,
             "ticks": ""
            },
            "colorscale": [
             [
              0,
              "#0d0887"
             ],
             [
              0.1111111111111111,
              "#46039f"
             ],
             [
              0.2222222222222222,
              "#7201a8"
             ],
             [
              0.3333333333333333,
              "#9c179e"
             ],
             [
              0.4444444444444444,
              "#bd3786"
             ],
             [
              0.5555555555555556,
              "#d8576b"
             ],
             [
              0.6666666666666666,
              "#ed7953"
             ],
             [
              0.7777777777777778,
              "#fb9f3a"
             ],
             [
              0.8888888888888888,
              "#fdca26"
             ],
             [
              1,
              "#f0f921"
             ]
            ],
            "type": "heatmapgl"
           }
          ],
          "histogram": [
           {
            "marker": {
             "pattern": {
              "fillmode": "overlay",
              "size": 10,
              "solidity": 0.2
             }
            },
            "type": "histogram"
           }
          ],
          "histogram2d": [
           {
            "colorbar": {
             "outlinewidth": 0,
             "ticks": ""
            },
            "colorscale": [
             [
              0,
              "#0d0887"
             ],
             [
              0.1111111111111111,
              "#46039f"
             ],
             [
              0.2222222222222222,
              "#7201a8"
             ],
             [
              0.3333333333333333,
              "#9c179e"
             ],
             [
              0.4444444444444444,
              "#bd3786"
             ],
             [
              0.5555555555555556,
              "#d8576b"
             ],
             [
              0.6666666666666666,
              "#ed7953"
             ],
             [
              0.7777777777777778,
              "#fb9f3a"
             ],
             [
              0.8888888888888888,
              "#fdca26"
             ],
             [
              1,
              "#f0f921"
             ]
            ],
            "type": "histogram2d"
           }
          ],
          "histogram2dcontour": [
           {
            "colorbar": {
             "outlinewidth": 0,
             "ticks": ""
            },
            "colorscale": [
             [
              0,
              "#0d0887"
             ],
             [
              0.1111111111111111,
              "#46039f"
             ],
             [
              0.2222222222222222,
              "#7201a8"
             ],
             [
              0.3333333333333333,
              "#9c179e"
             ],
             [
              0.4444444444444444,
              "#bd3786"
             ],
             [
              0.5555555555555556,
              "#d8576b"
             ],
             [
              0.6666666666666666,
              "#ed7953"
             ],
             [
              0.7777777777777778,
              "#fb9f3a"
             ],
             [
              0.8888888888888888,
              "#fdca26"
             ],
             [
              1,
              "#f0f921"
             ]
            ],
            "type": "histogram2dcontour"
           }
          ],
          "mesh3d": [
           {
            "colorbar": {
             "outlinewidth": 0,
             "ticks": ""
            },
            "type": "mesh3d"
           }
          ],
          "parcoords": [
           {
            "line": {
             "colorbar": {
              "outlinewidth": 0,
              "ticks": ""
             }
            },
            "type": "parcoords"
           }
          ],
          "pie": [
           {
            "automargin": true,
            "type": "pie"
           }
          ],
          "scatter": [
           {
            "fillpattern": {
             "fillmode": "overlay",
             "size": 10,
             "solidity": 0.2
            },
            "type": "scatter"
           }
          ],
          "scatter3d": [
           {
            "line": {
             "colorbar": {
              "outlinewidth": 0,
              "ticks": ""
             }
            },
            "marker": {
             "colorbar": {
              "outlinewidth": 0,
              "ticks": ""
             }
            },
            "type": "scatter3d"
           }
          ],
          "scattercarpet": [
           {
            "marker": {
             "colorbar": {
              "outlinewidth": 0,
              "ticks": ""
             }
            },
            "type": "scattercarpet"
           }
          ],
          "scattergeo": [
           {
            "marker": {
             "colorbar": {
              "outlinewidth": 0,
              "ticks": ""
             }
            },
            "type": "scattergeo"
           }
          ],
          "scattergl": [
           {
            "marker": {
             "colorbar": {
              "outlinewidth": 0,
              "ticks": ""
             }
            },
            "type": "scattergl"
           }
          ],
          "scattermapbox": [
           {
            "marker": {
             "colorbar": {
              "outlinewidth": 0,
              "ticks": ""
             }
            },
            "type": "scattermapbox"
           }
          ],
          "scatterpolar": [
           {
            "marker": {
             "colorbar": {
              "outlinewidth": 0,
              "ticks": ""
             }
            },
            "type": "scatterpolar"
           }
          ],
          "scatterpolargl": [
           {
            "marker": {
             "colorbar": {
              "outlinewidth": 0,
              "ticks": ""
             }
            },
            "type": "scatterpolargl"
           }
          ],
          "scatterternary": [
           {
            "marker": {
             "colorbar": {
              "outlinewidth": 0,
              "ticks": ""
             }
            },
            "type": "scatterternary"
           }
          ],
          "surface": [
           {
            "colorbar": {
             "outlinewidth": 0,
             "ticks": ""
            },
            "colorscale": [
             [
              0,
              "#0d0887"
             ],
             [
              0.1111111111111111,
              "#46039f"
             ],
             [
              0.2222222222222222,
              "#7201a8"
             ],
             [
              0.3333333333333333,
              "#9c179e"
             ],
             [
              0.4444444444444444,
              "#bd3786"
             ],
             [
              0.5555555555555556,
              "#d8576b"
             ],
             [
              0.6666666666666666,
              "#ed7953"
             ],
             [
              0.7777777777777778,
              "#fb9f3a"
             ],
             [
              0.8888888888888888,
              "#fdca26"
             ],
             [
              1,
              "#f0f921"
             ]
            ],
            "type": "surface"
           }
          ],
          "table": [
           {
            "cells": {
             "fill": {
              "color": "#EBF0F8"
             },
             "line": {
              "color": "white"
             }
            },
            "header": {
             "fill": {
              "color": "#C8D4E3"
             },
             "line": {
              "color": "white"
             }
            },
            "type": "table"
           }
          ]
         },
         "layout": {
          "annotationdefaults": {
           "arrowcolor": "#2a3f5f",
           "arrowhead": 0,
           "arrowwidth": 1
          },
          "autotypenumbers": "strict",
          "coloraxis": {
           "colorbar": {
            "outlinewidth": 0,
            "ticks": ""
           }
          },
          "colorscale": {
           "diverging": [
            [
             0,
             "#8e0152"
            ],
            [
             0.1,
             "#c51b7d"
            ],
            [
             0.2,
             "#de77ae"
            ],
            [
             0.3,
             "#f1b6da"
            ],
            [
             0.4,
             "#fde0ef"
            ],
            [
             0.5,
             "#f7f7f7"
            ],
            [
             0.6,
             "#e6f5d0"
            ],
            [
             0.7,
             "#b8e186"
            ],
            [
             0.8,
             "#7fbc41"
            ],
            [
             0.9,
             "#4d9221"
            ],
            [
             1,
             "#276419"
            ]
           ],
           "sequential": [
            [
             0,
             "#0d0887"
            ],
            [
             0.1111111111111111,
             "#46039f"
            ],
            [
             0.2222222222222222,
             "#7201a8"
            ],
            [
             0.3333333333333333,
             "#9c179e"
            ],
            [
             0.4444444444444444,
             "#bd3786"
            ],
            [
             0.5555555555555556,
             "#d8576b"
            ],
            [
             0.6666666666666666,
             "#ed7953"
            ],
            [
             0.7777777777777778,
             "#fb9f3a"
            ],
            [
             0.8888888888888888,
             "#fdca26"
            ],
            [
             1,
             "#f0f921"
            ]
           ],
           "sequentialminus": [
            [
             0,
             "#0d0887"
            ],
            [
             0.1111111111111111,
             "#46039f"
            ],
            [
             0.2222222222222222,
             "#7201a8"
            ],
            [
             0.3333333333333333,
             "#9c179e"
            ],
            [
             0.4444444444444444,
             "#bd3786"
            ],
            [
             0.5555555555555556,
             "#d8576b"
            ],
            [
             0.6666666666666666,
             "#ed7953"
            ],
            [
             0.7777777777777778,
             "#fb9f3a"
            ],
            [
             0.8888888888888888,
             "#fdca26"
            ],
            [
             1,
             "#f0f921"
            ]
           ]
          },
          "colorway": [
           "#636efa",
           "#EF553B",
           "#00cc96",
           "#ab63fa",
           "#FFA15A",
           "#19d3f3",
           "#FF6692",
           "#B6E880",
           "#FF97FF",
           "#FECB52"
          ],
          "font": {
           "color": "#2a3f5f"
          },
          "geo": {
           "bgcolor": "white",
           "lakecolor": "white",
           "landcolor": "#E5ECF6",
           "showlakes": true,
           "showland": true,
           "subunitcolor": "white"
          },
          "hoverlabel": {
           "align": "left"
          },
          "hovermode": "closest",
          "mapbox": {
           "style": "light"
          },
          "paper_bgcolor": "white",
          "plot_bgcolor": "#E5ECF6",
          "polar": {
           "angularaxis": {
            "gridcolor": "white",
            "linecolor": "white",
            "ticks": ""
           },
           "bgcolor": "#E5ECF6",
           "radialaxis": {
            "gridcolor": "white",
            "linecolor": "white",
            "ticks": ""
           }
          },
          "scene": {
           "xaxis": {
            "backgroundcolor": "#E5ECF6",
            "gridcolor": "white",
            "gridwidth": 2,
            "linecolor": "white",
            "showbackground": true,
            "ticks": "",
            "zerolinecolor": "white"
           },
           "yaxis": {
            "backgroundcolor": "#E5ECF6",
            "gridcolor": "white",
            "gridwidth": 2,
            "linecolor": "white",
            "showbackground": true,
            "ticks": "",
            "zerolinecolor": "white"
           },
           "zaxis": {
            "backgroundcolor": "#E5ECF6",
            "gridcolor": "white",
            "gridwidth": 2,
            "linecolor": "white",
            "showbackground": true,
            "ticks": "",
            "zerolinecolor": "white"
           }
          },
          "shapedefaults": {
           "line": {
            "color": "#2a3f5f"
           }
          },
          "ternary": {
           "aaxis": {
            "gridcolor": "white",
            "linecolor": "white",
            "ticks": ""
           },
           "baxis": {
            "gridcolor": "white",
            "linecolor": "white",
            "ticks": ""
           },
           "bgcolor": "#E5ECF6",
           "caxis": {
            "gridcolor": "white",
            "linecolor": "white",
            "ticks": ""
           }
          },
          "title": {
           "x": 0.05
          },
          "xaxis": {
           "automargin": true,
           "gridcolor": "white",
           "linecolor": "white",
           "ticks": "",
           "title": {
            "standoff": 15
           },
           "zerolinecolor": "white",
           "zerolinewidth": 2
          },
          "yaxis": {
           "automargin": true,
           "gridcolor": "white",
           "linecolor": "white",
           "ticks": "",
           "title": {
            "standoff": 15
           },
           "zerolinecolor": "white",
           "zerolinewidth": 2
          }
         }
        },
        "title": {
         "text": "Dale Chall Readabilty Score",
         "x": 0.5,
         "xanchor": "center",
         "yanchor": "top"
        },
        "updatemenus": [
         {
          "buttons": [
           {
            "args": [
             {
              "visible": [
               true,
               false,
               false
              ]
             },
             {
              "title": {
               "text": "Dale Chall Readabilty Score",
               "x": 0.5
              }
             }
            ],
            "label": "Readability Score",
            "method": "update"
           },
           {
            "args": [
             {
              "visible": [
               false,
               true,
               false
              ]
             },
             {
              "title": {
               "text": "Flesch Kincaid Reading Grade",
               "x": 0.5
              }
             }
            ],
            "label": "Grade Trace",
            "method": "update"
           },
           {
            "args": [
             {
              "visible": [
               false,
               false,
               true
              ]
             },
             {
              "title": {
               "text": "Reading Time",
               "x": 0.5
              }
             }
            ],
            "label": "Reading Time",
            "method": "update"
           }
          ],
          "direction": "down",
          "pad": {
           "r": 10,
           "t": 10
          },
          "showactive": true,
          "x": 0,
          "xanchor": "left",
          "y": 1.15,
          "yanchor": "top"
         }
        ],
        "width": 700
       }
      }
     },
     "metadata": {},
     "output_type": "display_data"
    }
   ],
   "source": [
    "readability_score = policy_df[\"Readability_score\"].tolist()\n",
    "grade_score = policy_df[\"Grade_score\"].tolist()\n",
    "reading_time = policy_df[\"Reading_time\"].tolist()\n",
    "\n",
    "readability_trace = go.Bar(x=policy_df[\"Social_Media\"], y=policy_df[\"Readability_score\"], width=0.7,\n",
    "                           name=\"Readability Score\", marker=dict(color=\"#1EBC8C\"), visible=True)\n",
    "grade_trace = go.Bar(x=policy_df[\"Social_Media\"], y=policy_df[\"Grade_score\"], \n",
    "                     name=\"Grade Score\", width=0.7, marker=dict(color=\"#4D8AF1\"), visible=False)\n",
    "time_trace = go.Bar(x=policy_df[\"Social_Media\"], y=policy_df[\"Reading_time\"], \n",
    "                    name=\"Reading Time\", width=0.7, marker=dict(color=\"#F14D78\"), visible=False)\n",
    "traces = [readability_trace, grade_trace, time_trace]\n",
    "\n",
    "fig = go.Figure(data=traces)\n",
    "\n",
    "fig.update_layout(\n",
    "    updatemenus=[\n",
    "        dict(buttons=list([\n",
    "            dict(label=\"Readability Score\",\n",
    "                 method=\"update\",\n",
    "                 args=[{\"visible\": [True, False, False]}, \n",
    "                       {\"title\":{\"text\":\"Dale Chall Readabilty Score\", \"x\":0.5}}]),\n",
    "            dict(label=\"Grade Trace\",\n",
    "                 method=\"update\",\n",
    "                 args=[{\"visible\": [False, True, False]}, \n",
    "                       {\"title\":{\"text\":\"Flesch Kincaid Reading Grade\", \"x\":0.5}}]),\n",
    "            dict(label=\"Reading Time\",\n",
    "                 method=\"update\",\n",
    "                 args=[{\"visible\": [False, False, True]}, \n",
    "                       {\"title\":{\"text\":\"Reading Time\", \"x\":0.5}}]),\n",
    "        ]),\n",
    "             direction=\"down\",\n",
    "             pad={\"r\": 10, \"t\": 10},\n",
    "             showactive=True,\n",
    "             x=0,\n",
    "             xanchor=\"left\",\n",
    "             y=1.15,\n",
    "             yanchor=\"top\"\n",
    "            )\n",
    "    ]  \n",
    ")\n",
    "\n",
    "fig.update_layout(\n",
    "    title={'text': \"Dale Chall Readabilty Score\",\n",
    "           'x':0.5,\n",
    "           'xanchor': 'center',\n",
    "           'yanchor': 'top'},\n",
    "    height=500, width=700)\n",
    "\n",
    "fig.show()"
   ]
  },
  {
   "attachments": {},
   "cell_type": "markdown",
   "id": "c779fe33",
   "metadata": {},
   "source": [
    "From the graph we can see that the social media websites score quite high in readability score with the lowest value going to Pinterest at 6.58 and the highest value going to TikTok at 7.82.\n",
    "\n",
    "We can see from the graph below that TikTok's privacy policy takes the least time to read but still ranks as one of the highest for grade trace as well as readablity score. Meabwhile, Twitter has the longest reading time yet its reading score and grade trace is comparable to TikTok.\n",
    "\n",
    "We can look at the realtionship between reading score, grade trace, and reading time more in depth by investigating the correlations between these three variables in the code below."
   ]
  },
  {
   "cell_type": "code",
   "execution_count": 7,
   "id": "0fd87882",
   "metadata": {},
   "outputs": [
    {
     "data": {
      "application/vnd.plotly.v1+json": {
       "config": {
        "plotlyServerURL": "https://plot.ly"
       },
       "data": [
        {
         "hovertemplate": "%{x}, %{y}<extra></extra>",
         "marker": {
          "color": "cadetblue"
         },
         "mode": "markers",
         "type": "scatter",
         "x": [
          7.82,
          7.22,
          6.94,
          7.34,
          7.47,
          6.58
         ],
         "xaxis": "x",
         "y": [
          7.82,
          7.22,
          6.94,
          7.34,
          7.47,
          6.58
         ],
         "yaxis": "y"
        },
        {
         "hoverlabel": {
          "namelength": 20
         },
         "marker": {
          "color": "cadetblue"
         },
         "mode": "lines",
         "name": "Line of Best Fit",
         "type": "scatter",
         "x": [
          7.82,
          7.22,
          6.94,
          7.34,
          7.47,
          6.58
         ],
         "xaxis": "x",
         "y": [
          7.82,
          7.22,
          6.940000000000001,
          7.34,
          7.47,
          6.580000000000001
         ],
         "yaxis": "y"
        },
        {
         "hovertemplate": "%{x}, %{y}<extra></extra>",
         "marker": {
          "color": "cadetblue"
         },
         "mode": "markers",
         "type": "scatter",
         "x": [
          7.82,
          7.22,
          6.94,
          7.34,
          7.47,
          6.58
         ],
         "xaxis": "x2",
         "y": [
          14.6,
          14.2,
          12.9,
          14,
          12.9,
          10.8
         ],
         "yaxis": "y2"
        },
        {
         "hoverlabel": {
          "namelength": 20
         },
         "marker": {
          "color": "cadetblue"
         },
         "mode": "lines",
         "name": "Line of Best Fit",
         "type": "scatter",
         "x": [
          7.82,
          7.22,
          6.94,
          7.34,
          7.47,
          6.58
         ],
         "xaxis": "x2",
         "y": [
          14.820099515044445,
          13.210984513872619,
          12.460064179992434,
          13.532807514106983,
          13.881449097694214,
          11.49459517928934
         ],
         "yaxis": "y2"
        },
        {
         "hovertemplate": "%{x}, %{y}<extra></extra>",
         "marker": {
          "color": "cadetblue"
         },
         "mode": "markers",
         "type": "scatter",
         "x": [
          7.82,
          7.22,
          6.94,
          7.34,
          7.47,
          6.58
         ],
         "xaxis": "x3",
         "y": [
          222.04,
          374.86,
          319.38,
          233.23,
          223.82,
          276.58
         ],
         "yaxis": "y3"
        },
        {
         "hoverlabel": {
          "namelength": 20
         },
         "marker": {
          "color": "cadetblue"
         },
         "mode": "lines",
         "name": "Line of Best Fit",
         "type": "scatter",
         "x": [
          7.82,
          7.22,
          6.94,
          7.34,
          7.47,
          6.58
         ],
         "xaxis": "x3",
         "y": [
          234.6522217815359,
          275.55306729885183,
          294.64012854026583,
          267.37289819538864,
          258.5110483333035,
          319.1806358506554
         ],
         "yaxis": "y3"
        },
        {
         "hovertemplate": "%{x}, %{y}<extra></extra>",
         "marker": {
          "color": "darksalmon"
         },
         "mode": "markers",
         "type": "scatter",
         "x": [
          14.6,
          14.2,
          12.9,
          14,
          12.9,
          10.8
         ],
         "xaxis": "x4",
         "y": [
          7.82,
          7.22,
          6.94,
          7.34,
          7.47,
          6.58
         ],
         "yaxis": "y4"
        },
        {
         "hoverlabel": {
          "namelength": 20
         },
         "marker": {
          "color": "darksalmon"
         },
         "mode": "lines",
         "name": "Line of Best Fit",
         "type": "scatter",
         "x": [
          14.6,
          14.2,
          12.9,
          14,
          12.9,
          10.8
         ],
         "xaxis": "x4",
         "y": [
          7.583762237762241,
          7.479734265734269,
          7.14164335664336,
          7.427720279720283,
          7.14164335664336,
          6.595496503496506
         ],
         "yaxis": "y4"
        },
        {
         "hovertemplate": "%{x}, %{y}<extra></extra>",
         "marker": {
          "color": "darksalmon"
         },
         "mode": "markers",
         "type": "scatter",
         "x": [
          14.6,
          14.2,
          12.9,
          14,
          12.9,
          10.8
         ],
         "xaxis": "x5",
         "y": [
          14.6,
          14.2,
          12.9,
          14,
          12.9,
          10.8
         ],
         "yaxis": "y5"
        },
        {
         "hoverlabel": {
          "namelength": 20
         },
         "marker": {
          "color": "darksalmon"
         },
         "mode": "lines",
         "name": "Line of Best Fit",
         "type": "scatter",
         "x": [
          14.6,
          14.2,
          12.9,
          14,
          12.9,
          10.8
         ],
         "xaxis": "x5",
         "y": [
          14.600000000000012,
          14.20000000000001,
          12.90000000000001,
          14.00000000000001,
          12.90000000000001,
          10.800000000000006
         ],
         "yaxis": "y5"
        },
        {
         "hovertemplate": "%{x}, %{y}<extra></extra>",
         "marker": {
          "color": "darksalmon"
         },
         "mode": "markers",
         "type": "scatter",
         "x": [
          14.6,
          14.2,
          12.9,
          14,
          12.9,
          10.8
         ],
         "xaxis": "x6",
         "y": [
          222.04,
          374.86,
          319.38,
          233.23,
          223.82,
          276.58
         ],
         "yaxis": "y6"
        },
        {
         "hoverlabel": {
          "namelength": 20
         },
         "marker": {
          "color": "darksalmon"
         },
         "mode": "lines",
         "name": "Line of Best Fit",
         "type": "scatter",
         "x": [
          14.6,
          14.2,
          12.9,
          14,
          12.9,
          10.8
         ],
         "xaxis": "x6",
         "y": [
          273.6304230769233,
          274.0268846153848,
          275.3153846153848,
          274.2251153846156,
          275.3153846153848,
          277.3968076923078
         ],
         "yaxis": "y6"
        },
        {
         "hovertemplate": "%{x}, %{y}<extra></extra>",
         "marker": {
          "color": "limegreen"
         },
         "mode": "markers",
         "type": "scatter",
         "x": [
          222.04,
          374.86,
          319.38,
          233.23,
          223.82,
          276.58
         ],
         "xaxis": "x7",
         "y": [
          7.82,
          7.22,
          6.94,
          7.34,
          7.47,
          6.58
         ],
         "yaxis": "y7"
        },
        {
         "hoverlabel": {
          "namelength": 20
         },
         "marker": {
          "color": "limegreen"
         },
         "mode": "lines",
         "name": "Line of Best Fit",
         "type": "scatter",
         "x": [
          222.04,
          374.86,
          319.38,
          233.23,
          223.82,
          276.58
         ],
         "xaxis": "x7",
         "y": [
          7.402906115680297,
          6.899020713881004,
          7.081952019284909,
          7.36600991331062,
          7.397037014677792,
          7.223074223165355
         ],
         "yaxis": "y7"
        },
        {
         "hovertemplate": "%{x}, %{y}<extra></extra>",
         "marker": {
          "color": "limegreen"
         },
         "mode": "markers",
         "type": "scatter",
         "x": [
          222.04,
          374.86,
          319.38,
          233.23,
          223.82,
          276.58
         ],
         "xaxis": "x8",
         "y": [
          14.6,
          14.2,
          12.9,
          14,
          12.9,
          10.8
         ],
         "yaxis": "y8"
        },
        {
         "hoverlabel": {
          "namelength": 20
         },
         "marker": {
          "color": "limegreen"
         },
         "mode": "lines",
         "name": "Line of Best Fit",
         "type": "scatter",
         "x": [
          222.04,
          374.86,
          319.38,
          233.23,
          223.82,
          276.58
         ],
         "xaxis": "x8",
         "y": [
          13.259508066381779,
          13.183957538391146,
          13.211385514395074,
          13.253975999844577,
          13.258628077245389,
          13.232544803742012
         ],
         "yaxis": "y8"
        },
        {
         "hovertemplate": "%{x}, %{y}<extra></extra>",
         "marker": {
          "color": "limegreen"
         },
         "mode": "markers",
         "type": "scatter",
         "x": [
          222.04,
          374.86,
          319.38,
          233.23,
          223.82,
          276.58
         ],
         "xaxis": "x9",
         "y": [
          222.04,
          374.86,
          319.38,
          233.23,
          223.82,
          276.58
         ],
         "yaxis": "y9"
        },
        {
         "hoverlabel": {
          "namelength": 20
         },
         "marker": {
          "color": "limegreen"
         },
         "mode": "lines",
         "name": "Line of Best Fit",
         "type": "scatter",
         "x": [
          222.04,
          374.86,
          319.38,
          233.23,
          223.82,
          276.58
         ],
         "xaxis": "x9",
         "y": [
          222.04000000000005,
          374.85999999999996,
          319.38,
          233.23000000000005,
          223.82000000000005,
          276.58
         ],
         "yaxis": "y9"
        }
       ],
       "layout": {
        "height": 800,
        "showlegend": false,
        "template": {
         "data": {
          "bar": [
           {
            "error_x": {
             "color": "#2a3f5f"
            },
            "error_y": {
             "color": "#2a3f5f"
            },
            "marker": {
             "line": {
              "color": "#E5ECF6",
              "width": 0.5
             },
             "pattern": {
              "fillmode": "overlay",
              "size": 10,
              "solidity": 0.2
             }
            },
            "type": "bar"
           }
          ],
          "barpolar": [
           {
            "marker": {
             "line": {
              "color": "#E5ECF6",
              "width": 0.5
             },
             "pattern": {
              "fillmode": "overlay",
              "size": 10,
              "solidity": 0.2
             }
            },
            "type": "barpolar"
           }
          ],
          "carpet": [
           {
            "aaxis": {
             "endlinecolor": "#2a3f5f",
             "gridcolor": "white",
             "linecolor": "white",
             "minorgridcolor": "white",
             "startlinecolor": "#2a3f5f"
            },
            "baxis": {
             "endlinecolor": "#2a3f5f",
             "gridcolor": "white",
             "linecolor": "white",
             "minorgridcolor": "white",
             "startlinecolor": "#2a3f5f"
            },
            "type": "carpet"
           }
          ],
          "choropleth": [
           {
            "colorbar": {
             "outlinewidth": 0,
             "ticks": ""
            },
            "type": "choropleth"
           }
          ],
          "contour": [
           {
            "colorbar": {
             "outlinewidth": 0,
             "ticks": ""
            },
            "colorscale": [
             [
              0,
              "#0d0887"
             ],
             [
              0.1111111111111111,
              "#46039f"
             ],
             [
              0.2222222222222222,
              "#7201a8"
             ],
             [
              0.3333333333333333,
              "#9c179e"
             ],
             [
              0.4444444444444444,
              "#bd3786"
             ],
             [
              0.5555555555555556,
              "#d8576b"
             ],
             [
              0.6666666666666666,
              "#ed7953"
             ],
             [
              0.7777777777777778,
              "#fb9f3a"
             ],
             [
              0.8888888888888888,
              "#fdca26"
             ],
             [
              1,
              "#f0f921"
             ]
            ],
            "type": "contour"
           }
          ],
          "contourcarpet": [
           {
            "colorbar": {
             "outlinewidth": 0,
             "ticks": ""
            },
            "type": "contourcarpet"
           }
          ],
          "heatmap": [
           {
            "colorbar": {
             "outlinewidth": 0,
             "ticks": ""
            },
            "colorscale": [
             [
              0,
              "#0d0887"
             ],
             [
              0.1111111111111111,
              "#46039f"
             ],
             [
              0.2222222222222222,
              "#7201a8"
             ],
             [
              0.3333333333333333,
              "#9c179e"
             ],
             [
              0.4444444444444444,
              "#bd3786"
             ],
             [
              0.5555555555555556,
              "#d8576b"
             ],
             [
              0.6666666666666666,
              "#ed7953"
             ],
             [
              0.7777777777777778,
              "#fb9f3a"
             ],
             [
              0.8888888888888888,
              "#fdca26"
             ],
             [
              1,
              "#f0f921"
             ]
            ],
            "type": "heatmap"
           }
          ],
          "heatmapgl": [
           {
            "colorbar": {
             "outlinewidth": 0,
             "ticks": ""
            },
            "colorscale": [
             [
              0,
              "#0d0887"
             ],
             [
              0.1111111111111111,
              "#46039f"
             ],
             [
              0.2222222222222222,
              "#7201a8"
             ],
             [
              0.3333333333333333,
              "#9c179e"
             ],
             [
              0.4444444444444444,
              "#bd3786"
             ],
             [
              0.5555555555555556,
              "#d8576b"
             ],
             [
              0.6666666666666666,
              "#ed7953"
             ],
             [
              0.7777777777777778,
              "#fb9f3a"
             ],
             [
              0.8888888888888888,
              "#fdca26"
             ],
             [
              1,
              "#f0f921"
             ]
            ],
            "type": "heatmapgl"
           }
          ],
          "histogram": [
           {
            "marker": {
             "pattern": {
              "fillmode": "overlay",
              "size": 10,
              "solidity": 0.2
             }
            },
            "type": "histogram"
           }
          ],
          "histogram2d": [
           {
            "colorbar": {
             "outlinewidth": 0,
             "ticks": ""
            },
            "colorscale": [
             [
              0,
              "#0d0887"
             ],
             [
              0.1111111111111111,
              "#46039f"
             ],
             [
              0.2222222222222222,
              "#7201a8"
             ],
             [
              0.3333333333333333,
              "#9c179e"
             ],
             [
              0.4444444444444444,
              "#bd3786"
             ],
             [
              0.5555555555555556,
              "#d8576b"
             ],
             [
              0.6666666666666666,
              "#ed7953"
             ],
             [
              0.7777777777777778,
              "#fb9f3a"
             ],
             [
              0.8888888888888888,
              "#fdca26"
             ],
             [
              1,
              "#f0f921"
             ]
            ],
            "type": "histogram2d"
           }
          ],
          "histogram2dcontour": [
           {
            "colorbar": {
             "outlinewidth": 0,
             "ticks": ""
            },
            "colorscale": [
             [
              0,
              "#0d0887"
             ],
             [
              0.1111111111111111,
              "#46039f"
             ],
             [
              0.2222222222222222,
              "#7201a8"
             ],
             [
              0.3333333333333333,
              "#9c179e"
             ],
             [
              0.4444444444444444,
              "#bd3786"
             ],
             [
              0.5555555555555556,
              "#d8576b"
             ],
             [
              0.6666666666666666,
              "#ed7953"
             ],
             [
              0.7777777777777778,
              "#fb9f3a"
             ],
             [
              0.8888888888888888,
              "#fdca26"
             ],
             [
              1,
              "#f0f921"
             ]
            ],
            "type": "histogram2dcontour"
           }
          ],
          "mesh3d": [
           {
            "colorbar": {
             "outlinewidth": 0,
             "ticks": ""
            },
            "type": "mesh3d"
           }
          ],
          "parcoords": [
           {
            "line": {
             "colorbar": {
              "outlinewidth": 0,
              "ticks": ""
             }
            },
            "type": "parcoords"
           }
          ],
          "pie": [
           {
            "automargin": true,
            "type": "pie"
           }
          ],
          "scatter": [
           {
            "fillpattern": {
             "fillmode": "overlay",
             "size": 10,
             "solidity": 0.2
            },
            "type": "scatter"
           }
          ],
          "scatter3d": [
           {
            "line": {
             "colorbar": {
              "outlinewidth": 0,
              "ticks": ""
             }
            },
            "marker": {
             "colorbar": {
              "outlinewidth": 0,
              "ticks": ""
             }
            },
            "type": "scatter3d"
           }
          ],
          "scattercarpet": [
           {
            "marker": {
             "colorbar": {
              "outlinewidth": 0,
              "ticks": ""
             }
            },
            "type": "scattercarpet"
           }
          ],
          "scattergeo": [
           {
            "marker": {
             "colorbar": {
              "outlinewidth": 0,
              "ticks": ""
             }
            },
            "type": "scattergeo"
           }
          ],
          "scattergl": [
           {
            "marker": {
             "colorbar": {
              "outlinewidth": 0,
              "ticks": ""
             }
            },
            "type": "scattergl"
           }
          ],
          "scattermapbox": [
           {
            "marker": {
             "colorbar": {
              "outlinewidth": 0,
              "ticks": ""
             }
            },
            "type": "scattermapbox"
           }
          ],
          "scatterpolar": [
           {
            "marker": {
             "colorbar": {
              "outlinewidth": 0,
              "ticks": ""
             }
            },
            "type": "scatterpolar"
           }
          ],
          "scatterpolargl": [
           {
            "marker": {
             "colorbar": {
              "outlinewidth": 0,
              "ticks": ""
             }
            },
            "type": "scatterpolargl"
           }
          ],
          "scatterternary": [
           {
            "marker": {
             "colorbar": {
              "outlinewidth": 0,
              "ticks": ""
             }
            },
            "type": "scatterternary"
           }
          ],
          "surface": [
           {
            "colorbar": {
             "outlinewidth": 0,
             "ticks": ""
            },
            "colorscale": [
             [
              0,
              "#0d0887"
             ],
             [
              0.1111111111111111,
              "#46039f"
             ],
             [
              0.2222222222222222,
              "#7201a8"
             ],
             [
              0.3333333333333333,
              "#9c179e"
             ],
             [
              0.4444444444444444,
              "#bd3786"
             ],
             [
              0.5555555555555556,
              "#d8576b"
             ],
             [
              0.6666666666666666,
              "#ed7953"
             ],
             [
              0.7777777777777778,
              "#fb9f3a"
             ],
             [
              0.8888888888888888,
              "#fdca26"
             ],
             [
              1,
              "#f0f921"
             ]
            ],
            "type": "surface"
           }
          ],
          "table": [
           {
            "cells": {
             "fill": {
              "color": "#EBF0F8"
             },
             "line": {
              "color": "white"
             }
            },
            "header": {
             "fill": {
              "color": "#C8D4E3"
             },
             "line": {
              "color": "white"
             }
            },
            "type": "table"
           }
          ]
         },
         "layout": {
          "annotationdefaults": {
           "arrowcolor": "#2a3f5f",
           "arrowhead": 0,
           "arrowwidth": 1
          },
          "autotypenumbers": "strict",
          "coloraxis": {
           "colorbar": {
            "outlinewidth": 0,
            "ticks": ""
           }
          },
          "colorscale": {
           "diverging": [
            [
             0,
             "#8e0152"
            ],
            [
             0.1,
             "#c51b7d"
            ],
            [
             0.2,
             "#de77ae"
            ],
            [
             0.3,
             "#f1b6da"
            ],
            [
             0.4,
             "#fde0ef"
            ],
            [
             0.5,
             "#f7f7f7"
            ],
            [
             0.6,
             "#e6f5d0"
            ],
            [
             0.7,
             "#b8e186"
            ],
            [
             0.8,
             "#7fbc41"
            ],
            [
             0.9,
             "#4d9221"
            ],
            [
             1,
             "#276419"
            ]
           ],
           "sequential": [
            [
             0,
             "#0d0887"
            ],
            [
             0.1111111111111111,
             "#46039f"
            ],
            [
             0.2222222222222222,
             "#7201a8"
            ],
            [
             0.3333333333333333,
             "#9c179e"
            ],
            [
             0.4444444444444444,
             "#bd3786"
            ],
            [
             0.5555555555555556,
             "#d8576b"
            ],
            [
             0.6666666666666666,
             "#ed7953"
            ],
            [
             0.7777777777777778,
             "#fb9f3a"
            ],
            [
             0.8888888888888888,
             "#fdca26"
            ],
            [
             1,
             "#f0f921"
            ]
           ],
           "sequentialminus": [
            [
             0,
             "#0d0887"
            ],
            [
             0.1111111111111111,
             "#46039f"
            ],
            [
             0.2222222222222222,
             "#7201a8"
            ],
            [
             0.3333333333333333,
             "#9c179e"
            ],
            [
             0.4444444444444444,
             "#bd3786"
            ],
            [
             0.5555555555555556,
             "#d8576b"
            ],
            [
             0.6666666666666666,
             "#ed7953"
            ],
            [
             0.7777777777777778,
             "#fb9f3a"
            ],
            [
             0.8888888888888888,
             "#fdca26"
            ],
            [
             1,
             "#f0f921"
            ]
           ]
          },
          "colorway": [
           "#636efa",
           "#EF553B",
           "#00cc96",
           "#ab63fa",
           "#FFA15A",
           "#19d3f3",
           "#FF6692",
           "#B6E880",
           "#FF97FF",
           "#FECB52"
          ],
          "font": {
           "color": "#2a3f5f"
          },
          "geo": {
           "bgcolor": "white",
           "lakecolor": "white",
           "landcolor": "#E5ECF6",
           "showlakes": true,
           "showland": true,
           "subunitcolor": "white"
          },
          "hoverlabel": {
           "align": "left"
          },
          "hovermode": "closest",
          "mapbox": {
           "style": "light"
          },
          "paper_bgcolor": "white",
          "plot_bgcolor": "#E5ECF6",
          "polar": {
           "angularaxis": {
            "gridcolor": "white",
            "linecolor": "white",
            "ticks": ""
           },
           "bgcolor": "#E5ECF6",
           "radialaxis": {
            "gridcolor": "white",
            "linecolor": "white",
            "ticks": ""
           }
          },
          "scene": {
           "xaxis": {
            "backgroundcolor": "#E5ECF6",
            "gridcolor": "white",
            "gridwidth": 2,
            "linecolor": "white",
            "showbackground": true,
            "ticks": "",
            "zerolinecolor": "white"
           },
           "yaxis": {
            "backgroundcolor": "#E5ECF6",
            "gridcolor": "white",
            "gridwidth": 2,
            "linecolor": "white",
            "showbackground": true,
            "ticks": "",
            "zerolinecolor": "white"
           },
           "zaxis": {
            "backgroundcolor": "#E5ECF6",
            "gridcolor": "white",
            "gridwidth": 2,
            "linecolor": "white",
            "showbackground": true,
            "ticks": "",
            "zerolinecolor": "white"
           }
          },
          "shapedefaults": {
           "line": {
            "color": "#2a3f5f"
           }
          },
          "ternary": {
           "aaxis": {
            "gridcolor": "white",
            "linecolor": "white",
            "ticks": ""
           },
           "baxis": {
            "gridcolor": "white",
            "linecolor": "white",
            "ticks": ""
           },
           "bgcolor": "#E5ECF6",
           "caxis": {
            "gridcolor": "white",
            "linecolor": "white",
            "ticks": ""
           }
          },
          "title": {
           "x": 0.05
          },
          "xaxis": {
           "automargin": true,
           "gridcolor": "white",
           "linecolor": "white",
           "ticks": "",
           "title": {
            "standoff": 15
           },
           "zerolinecolor": "white",
           "zerolinewidth": 2
          },
          "yaxis": {
           "automargin": true,
           "gridcolor": "white",
           "linecolor": "white",
           "ticks": "",
           "title": {
            "standoff": 15
           },
           "zerolinecolor": "white",
           "zerolinewidth": 2
          }
         }
        },
        "title": {
         "text": "Correlation Comparison",
         "x": 0.5
        },
        "width": 800,
        "xaxis": {
         "anchor": "y",
         "domain": [
          0,
          0.26666666666666666
         ],
         "title": {
          "text": "Readability_score"
         }
        },
        "xaxis2": {
         "anchor": "y2",
         "domain": [
          0.3666666666666667,
          0.6333333333333333
         ],
         "title": {
          "text": "Readability_score"
         }
        },
        "xaxis3": {
         "anchor": "y3",
         "domain": [
          0.7333333333333334,
          1
         ],
         "title": {
          "text": "Readability_score"
         }
        },
        "xaxis4": {
         "anchor": "y4",
         "domain": [
          0,
          0.26666666666666666
         ],
         "title": {
          "text": "Grade_score"
         }
        },
        "xaxis5": {
         "anchor": "y5",
         "domain": [
          0.3666666666666667,
          0.6333333333333333
         ],
         "title": {
          "text": "Grade_score"
         }
        },
        "xaxis6": {
         "anchor": "y6",
         "domain": [
          0.7333333333333334,
          1
         ],
         "title": {
          "text": "Grade_score"
         }
        },
        "xaxis7": {
         "anchor": "y7",
         "domain": [
          0,
          0.26666666666666666
         ],
         "title": {
          "text": "Reading_time"
         }
        },
        "xaxis8": {
         "anchor": "y8",
         "domain": [
          0.3666666666666667,
          0.6333333333333333
         ],
         "title": {
          "text": "Reading_time"
         }
        },
        "xaxis9": {
         "anchor": "y9",
         "domain": [
          0.7333333333333334,
          1
         ],
         "title": {
          "text": "Reading_time"
         }
        },
        "yaxis": {
         "anchor": "x",
         "domain": [
          0.7333333333333333,
          1
         ],
         "title": {
          "text": "Readability_score"
         }
        },
        "yaxis2": {
         "anchor": "x2",
         "domain": [
          0.7333333333333333,
          1
         ],
         "title": {
          "text": "Grade_score"
         }
        },
        "yaxis3": {
         "anchor": "x3",
         "domain": [
          0.7333333333333333,
          1
         ],
         "title": {
          "text": "Reading_time"
         }
        },
        "yaxis4": {
         "anchor": "x4",
         "domain": [
          0.36666666666666664,
          0.6333333333333333
         ],
         "title": {
          "text": "Readability_score"
         }
        },
        "yaxis5": {
         "anchor": "x5",
         "domain": [
          0.36666666666666664,
          0.6333333333333333
         ],
         "title": {
          "text": "Grade_score"
         }
        },
        "yaxis6": {
         "anchor": "x6",
         "domain": [
          0.36666666666666664,
          0.6333333333333333
         ],
         "title": {
          "text": "Reading_time"
         }
        },
        "yaxis7": {
         "anchor": "x7",
         "domain": [
          0,
          0.26666666666666666
         ],
         "title": {
          "text": "Readability_score"
         }
        },
        "yaxis8": {
         "anchor": "x8",
         "domain": [
          0,
          0.26666666666666666
         ],
         "title": {
          "text": "Grade_score"
         }
        },
        "yaxis9": {
         "anchor": "x9",
         "domain": [
          0,
          0.26666666666666666
         ],
         "title": {
          "text": "Reading_time"
         }
        }
       }
      }
     },
     "metadata": {},
     "output_type": "display_data"
    }
   ],
   "source": [
    "def create_correlation_graph(df):\n",
    "    variables = [\"Readability_score\", \"Grade_score\", \"Reading_time\"]\n",
    "    colors=[\"cadetblue\", \"darksalmon\", \"limegreen\"]\n",
    "    \n",
    "    fig = make_subplots(rows=3, cols=3, horizontal_spacing = 0.1)\n",
    "    \n",
    "    def create_empty_dataframe():\n",
    "        return pd.DataFrame()\n",
    "\n",
    "    start_no = 0\n",
    "    global col_no\n",
    "    col_no = 1\n",
    "    row_no = 1\n",
    "    while row_no < 4:\n",
    "        col_no = 1\n",
    "        for variable in variables:\n",
    "            slope,y_int=np.polyfit(df[variables[start_no]], df[variable], 1)\n",
    "            df_slope = create_empty_dataframe()\n",
    "            df_slope[\"Best_fit\"] = slope * df[variables[start_no]] + y_int\n",
    "            \n",
    "            fig.add_trace(go.Scatter(x=df[variables[start_no]], y=df[variable], mode='markers',\n",
    "                                     marker={\"color\":colors[start_no]}, \n",
    "                                     hovertemplate=\"%{x}\" + \",\" + \" %{y}\" + \"<extra></extra>\"), \n",
    "                          row=row_no, col=col_no)\n",
    "            fig.add_trace(go.Scatter(x=df[variables[start_no]], y=df_slope[\"Best_fit\"], mode=\"lines\",\n",
    "                                    marker={\"color\":colors[start_no]}, name=\"Line of Best Fit\", hoverlabel = dict(namelength = 20)), \n",
    "                          row=row_no, col=col_no)\n",
    "            fig.update_xaxes(title_text=variables[start_no], row=row_no, col=col_no)\n",
    "            fig.update_yaxes(title_text=variable, row=row_no, col=col_no)\n",
    "            \n",
    "            if col_no != 3:\n",
    "                col_no += 1\n",
    "                \n",
    "        row_no += 1\n",
    "        start_no += 1\n",
    "\n",
    "\n",
    "    fig.update_layout(height=800, width=800, showlegend=False, title={\"text\":\"Correlation Comparison\",\n",
    "                                                                      \"x\":0.5})\n",
    "    fig.show()\n",
    "        \n",
    "create_correlation_graph(policy_df)"
   ]
  },
  {
   "attachments": {},
   "cell_type": "markdown",
   "id": "a8121f7c",
   "metadata": {},
   "source": [
    "# Interpret\n",
    "Based on what we see from the graphs above, it seems that the most popular social media sites have quite a high reading score ranging from 6.58 to 7.82. This equates to needing a grade level between an 8th grader to a 10th grader to be able to understand the text. \n",
    "\n",
    "The grade trace values are also quite high, ranging from 10.8 to 14.6. This means that a minimum of 10.8 years of educaiton are needing to understand these privacy policies while some require as much as over 14 years of education to be understood. \n",
    "\n",
    "We also see that most of the privacy policies take quite a long time to read, but that the time it takes to read a privacy policy does not necessarily effect the readability score. That means that even short privacy policies are written in a way that makes them hard to understand. "
   ]
  },
  {
   "attachments": {},
   "cell_type": "markdown",
   "id": "5eda2f5f",
   "metadata": {},
   "source": [
    "# Taking a further look: web scraping\n",
    "\n",
    "Want to analyze readabily of text you find online? You can use the following code to scrape a webpage you want to analyze. The example below is a web scraping of Google's privacy policy"
   ]
  },
  {
   "cell_type": "code",
   "execution_count": 8,
   "id": "f73d8f21",
   "metadata": {},
   "outputs": [
    {
     "data": {
      "text/plain": [
       "\"When you use our services, you’re trusting us with your information. We understand this is a big responsibility and work hard to protect your information and put you in control.We build a range of services that help millions of people daily to explore and interact with the world in new ways. Our services include:Google apps, sites, and devices, like Search, YouTube, and Google HomePlatforms like the Chrome browser and Android operating systemProducts that are integrated into third-party apps and sites, like ads, analytics, and embedded Google MapsWe want you to understand the types of information we collect as you use our servicesTerms you search forVideos you watchViews and interactions with content and adsVoice and audio informationPurchase activityPeople with whom you communicate or share contentActivity on third-party sites and apps that use our servicesChrome browsing history you’ve synced with your Google AccountWe use data to build better servicesWe don’t show you personalized ads based on sensitive categories, such as race, religion, sexual orientation, or health.We don’t show you personalized ads based on your content from Drive, Gmail, or Photos.We don’t share information that personally identifies you with advertisers, such as your name or email, unless you ask us to. For example, if you see an ad for a nearby flower shop and select the “tap to call” button, we’ll connect your call and may share your phone number with the flower shop.You have choices regarding the information we collect and how it's usedSigned-out search personalization: Choose whether your search activity is used to offer you more relevant results and recommendations.YouTube settings: Pause and delete your YouTube Search History and your YouTube Watch History.Ad Settings: Manage your preferences about the ads shown to you on Google and on sites and apps that partner with Google to show ads.Many of our services let you share information with other people, and you have control over how you share. For example, you can share videos on YouTube publicly or you can decide to keep your videos private. Remember, when you share information publicly, your content may become accessible through search engines, including Google Search.Access and retain information stored in your account, like your emailView statistics regarding your account, like how many apps you installChange your account passwordSuspend or terminate your account accessReceive your account information in order to satisfy applicable law, regulation, legal process, or enforceable governmental requestRestrict your ability to delete or edit your information or your privacy settingsWe build security into our services to protect your informationWe use encryption to keep your data private while in transitWe offer a range of security features, like Safe Browsing, Security Checkup, and 2 Step Verification to help you protect your accountWe review our information collection, storage, and processing practices, including physical security measures, to prevent unauthorized access to our systemsWe restrict access to personal information to Google employees, contractors, and agents who need that information in order to process it. Anyone with this access is subject to strict contractual confidentiality obligations and may be disciplined or terminated if they fail to meet these obligations.You can export a copy of your information or delete it from your Google Account at any timeDelete your content from specific Google servicesSearch for and then delete specific items from your account using My ActivityDelete specific Google products, including your information associated with those productsDelete your entire Google AccountWe retain the data we collect for different periods of time depending on what it is, how we use it, and how you configure your settings:Some data you can delete whenever you like, such as your personal info or the content you create or upload, like photos and documents. You can also delete activity information saved in your account, or choose to have it deleted automatically after a set period of time. We’ll keep this data in your Google Account until you remove it or choose to have it removed.Other data is deleted or anonymized automatically after a set period of time, such as advertising data in server logs.We keep some data until you delete your Google Account, such as information about how often you use our services.And some data we retain for longer periods of time when necessary for legitimate business or legal purposes, such as security, fraud and abuse prevention, or financial record-keeping.We regularly review this Privacy Policy and make sure that we process your information in ways that comply with it.This Privacy Policy applies to all of the services offered by Google LLC and its affiliates, including YouTube, Android, and services offered on third-party sites, such as advertising services. This Privacy Policy doesn’t apply to services that have separate privacy policies that do not incorporate this Privacy Policy.The information practices of other companies and organizations that advertise our servicesServices offered by other companies or individuals, including products or sites they offer that may include Google services to which the policy applies, or products or sites displayed to you in search results, or linked from our servicesThe following privacy notices provide additional information about some Google services:Chrome &amp; the Chrome Operating SystemPaymentsFiberGoogle FiGoogle Workspace for EducationRead AlongYouTube KidsGoogle Accounts Managed with Family Link, for Children under 13 (or applicable age in your country)Family Link privacy guide for children &amp; teensVoice and Audio Collection from Children’s Features on the Google AssistantAn affiliate is an entity that belongs to the Google group of companies, including the following companies that provide consumer services in the EU: Google Ireland Limited, Google Commerce Ltd, Google Payment Corp, and Google Dialer Inc. Learn more about the companies providing business services in the EU.123.45.67.89 is the Internet Protocol address assigned to the user by the user’s ISP. Depending on the user’s service, a different address may be assigned to the user by their service provider each time they connect to the Internet.25/Mar/2003 10:15:32 is the date and time of the query.http://www.google.com/search?q=cars is the requested URL, including the search query.Firefox 1.0.7; Windows NT 5.1 is the browser and operating system being used.740674ce2123a969 is the unique cookie ID assigned to this particular computer the first time it visited Google. (Cookies can be deleted by users. If the user has deleted the cookie from the computer since the last time they’ve visited Google, then it will be the unique cookie ID assigned to their device the next time they visit Google from that particular device).\""
      ]
     },
     "execution_count": 8,
     "metadata": {},
     "output_type": "execute_result"
    }
   ],
   "source": [
    "# Reading time, readability score, grade trace \n",
    "\n",
    "def webscrape_private_policy(url):\n",
    "    search_url = url\n",
    "\n",
    "    r = requests.get(search_url)\n",
    "    soup = BeautifulSoup(r.text)\n",
    "    mydivs = soup.find_all(\"div\", {\"class\": \"nrAB0c\"})\n",
    "    contents_list = []\n",
    "    for item in mydivs:\n",
    "        contents_list.append(item.find(\"p\"))\n",
    "        contents_list.append(item.find(\"ul\"))\n",
    "\n",
    "    cleaned_contents_list = []\n",
    "    for ind, content in enumerate(contents_list):\n",
    "        content = str(content)\n",
    "        if content != \"None\":\n",
    "            content = re.sub('<.*?>', '', content)\n",
    "            cleaned_contents_list.append(content)\n",
    "        if content == \"None\":\n",
    "            continue\n",
    "            \n",
    "    cleaned_text = ''.join([content for content in cleaned_contents_list])\n",
    "    return cleaned_text\n",
    "\n",
    "url = \"https://policies.google.com/privacy?hl=en-US\"\n",
    "scraped_texts = webscrape_private_policy(url)\n",
    "scraped_texts"
   ]
  },
  {
   "attachments": {},
   "cell_type": "markdown",
   "id": "281be7f3",
   "metadata": {},
   "source": [
    "Now let's look at the readability measures of the webpage content that you scraped"
   ]
  },
  {
   "cell_type": "code",
   "execution_count": 15,
   "id": "0cd82652",
   "metadata": {},
   "outputs": [
    {
     "data": {
      "text/html": [
       "<div>\n",
       "<style scoped>\n",
       "    .dataframe tbody tr th:only-of-type {\n",
       "        vertical-align: middle;\n",
       "    }\n",
       "\n",
       "    .dataframe tbody tr th {\n",
       "        vertical-align: top;\n",
       "    }\n",
       "\n",
       "    .dataframe thead th {\n",
       "        text-align: right;\n",
       "    }\n",
       "</style>\n",
       "<table border=\"1\" class=\"dataframe\">\n",
       "  <thead>\n",
       "    <tr style=\"text-align: right;\">\n",
       "      <th></th>\n",
       "      <th>measure</th>\n",
       "      <th>value</th>\n",
       "    </tr>\n",
       "  </thead>\n",
       "  <tbody>\n",
       "    <tr>\n",
       "      <th>0</th>\n",
       "      <td>readability score</td>\n",
       "      <td>9.04</td>\n",
       "    </tr>\n",
       "    <tr>\n",
       "      <th>1</th>\n",
       "      <td>grade score</td>\n",
       "      <td>16.20</td>\n",
       "    </tr>\n",
       "    <tr>\n",
       "      <th>2</th>\n",
       "      <td>reading time</td>\n",
       "      <td>86.38</td>\n",
       "    </tr>\n",
       "  </tbody>\n",
       "</table>\n",
       "</div>"
      ],
      "text/plain": [
       "             measure  value\n",
       "0  readability score   9.04\n",
       "1        grade score  16.20\n",
       "2       reading time  86.38"
      ]
     },
     "execution_count": 15,
     "metadata": {},
     "output_type": "execute_result"
    }
   ],
   "source": [
    "d = {'measure': ['readability score', 'grade score', 'reading time'], \n",
    "     'value': [textstat.dale_chall_readability_score(scraped_texts), textstat.flesch_kincaid_grade(scraped_texts), textstat.reading_time(scraped_texts, ms_per_char=14.69)]}\n",
    "df_scraped = pd.DataFrame(data=d)\n",
    "df_scraped"
   ]
  },
  {
   "cell_type": "code",
   "execution_count": 16,
   "id": "3b1994cc",
   "metadata": {},
   "outputs": [
    {
     "data": {
      "application/vnd.plotly.v1+json": {
       "config": {
        "plotlyServerURL": "https://plot.ly"
       },
       "data": [
        {
         "alignmentgroup": "True",
         "hovertemplate": "value=%{x}<br>measure=%{y}<extra></extra>",
         "legendgroup": "",
         "marker": {
          "color": "#636efa",
          "pattern": {
           "shape": ""
          }
         },
         "name": "",
         "offsetgroup": "",
         "orientation": "h",
         "showlegend": false,
         "textposition": "auto",
         "type": "bar",
         "x": [
          9.04,
          16.2,
          86.38
         ],
         "xaxis": "x",
         "y": [
          "readability score",
          "grade score",
          "reading time"
         ],
         "yaxis": "y"
        }
       ],
       "layout": {
        "barmode": "relative",
        "legend": {
         "tracegroupgap": 0
        },
        "margin": {
         "t": 60
        },
        "template": {
         "data": {
          "bar": [
           {
            "error_x": {
             "color": "#2a3f5f"
            },
            "error_y": {
             "color": "#2a3f5f"
            },
            "marker": {
             "line": {
              "color": "#E5ECF6",
              "width": 0.5
             },
             "pattern": {
              "fillmode": "overlay",
              "size": 10,
              "solidity": 0.2
             }
            },
            "type": "bar"
           }
          ],
          "barpolar": [
           {
            "marker": {
             "line": {
              "color": "#E5ECF6",
              "width": 0.5
             },
             "pattern": {
              "fillmode": "overlay",
              "size": 10,
              "solidity": 0.2
             }
            },
            "type": "barpolar"
           }
          ],
          "carpet": [
           {
            "aaxis": {
             "endlinecolor": "#2a3f5f",
             "gridcolor": "white",
             "linecolor": "white",
             "minorgridcolor": "white",
             "startlinecolor": "#2a3f5f"
            },
            "baxis": {
             "endlinecolor": "#2a3f5f",
             "gridcolor": "white",
             "linecolor": "white",
             "minorgridcolor": "white",
             "startlinecolor": "#2a3f5f"
            },
            "type": "carpet"
           }
          ],
          "choropleth": [
           {
            "colorbar": {
             "outlinewidth": 0,
             "ticks": ""
            },
            "type": "choropleth"
           }
          ],
          "contour": [
           {
            "colorbar": {
             "outlinewidth": 0,
             "ticks": ""
            },
            "colorscale": [
             [
              0,
              "#0d0887"
             ],
             [
              0.1111111111111111,
              "#46039f"
             ],
             [
              0.2222222222222222,
              "#7201a8"
             ],
             [
              0.3333333333333333,
              "#9c179e"
             ],
             [
              0.4444444444444444,
              "#bd3786"
             ],
             [
              0.5555555555555556,
              "#d8576b"
             ],
             [
              0.6666666666666666,
              "#ed7953"
             ],
             [
              0.7777777777777778,
              "#fb9f3a"
             ],
             [
              0.8888888888888888,
              "#fdca26"
             ],
             [
              1,
              "#f0f921"
             ]
            ],
            "type": "contour"
           }
          ],
          "contourcarpet": [
           {
            "colorbar": {
             "outlinewidth": 0,
             "ticks": ""
            },
            "type": "contourcarpet"
           }
          ],
          "heatmap": [
           {
            "colorbar": {
             "outlinewidth": 0,
             "ticks": ""
            },
            "colorscale": [
             [
              0,
              "#0d0887"
             ],
             [
              0.1111111111111111,
              "#46039f"
             ],
             [
              0.2222222222222222,
              "#7201a8"
             ],
             [
              0.3333333333333333,
              "#9c179e"
             ],
             [
              0.4444444444444444,
              "#bd3786"
             ],
             [
              0.5555555555555556,
              "#d8576b"
             ],
             [
              0.6666666666666666,
              "#ed7953"
             ],
             [
              0.7777777777777778,
              "#fb9f3a"
             ],
             [
              0.8888888888888888,
              "#fdca26"
             ],
             [
              1,
              "#f0f921"
             ]
            ],
            "type": "heatmap"
           }
          ],
          "heatmapgl": [
           {
            "colorbar": {
             "outlinewidth": 0,
             "ticks": ""
            },
            "colorscale": [
             [
              0,
              "#0d0887"
             ],
             [
              0.1111111111111111,
              "#46039f"
             ],
             [
              0.2222222222222222,
              "#7201a8"
             ],
             [
              0.3333333333333333,
              "#9c179e"
             ],
             [
              0.4444444444444444,
              "#bd3786"
             ],
             [
              0.5555555555555556,
              "#d8576b"
             ],
             [
              0.6666666666666666,
              "#ed7953"
             ],
             [
              0.7777777777777778,
              "#fb9f3a"
             ],
             [
              0.8888888888888888,
              "#fdca26"
             ],
             [
              1,
              "#f0f921"
             ]
            ],
            "type": "heatmapgl"
           }
          ],
          "histogram": [
           {
            "marker": {
             "pattern": {
              "fillmode": "overlay",
              "size": 10,
              "solidity": 0.2
             }
            },
            "type": "histogram"
           }
          ],
          "histogram2d": [
           {
            "colorbar": {
             "outlinewidth": 0,
             "ticks": ""
            },
            "colorscale": [
             [
              0,
              "#0d0887"
             ],
             [
              0.1111111111111111,
              "#46039f"
             ],
             [
              0.2222222222222222,
              "#7201a8"
             ],
             [
              0.3333333333333333,
              "#9c179e"
             ],
             [
              0.4444444444444444,
              "#bd3786"
             ],
             [
              0.5555555555555556,
              "#d8576b"
             ],
             [
              0.6666666666666666,
              "#ed7953"
             ],
             [
              0.7777777777777778,
              "#fb9f3a"
             ],
             [
              0.8888888888888888,
              "#fdca26"
             ],
             [
              1,
              "#f0f921"
             ]
            ],
            "type": "histogram2d"
           }
          ],
          "histogram2dcontour": [
           {
            "colorbar": {
             "outlinewidth": 0,
             "ticks": ""
            },
            "colorscale": [
             [
              0,
              "#0d0887"
             ],
             [
              0.1111111111111111,
              "#46039f"
             ],
             [
              0.2222222222222222,
              "#7201a8"
             ],
             [
              0.3333333333333333,
              "#9c179e"
             ],
             [
              0.4444444444444444,
              "#bd3786"
             ],
             [
              0.5555555555555556,
              "#d8576b"
             ],
             [
              0.6666666666666666,
              "#ed7953"
             ],
             [
              0.7777777777777778,
              "#fb9f3a"
             ],
             [
              0.8888888888888888,
              "#fdca26"
             ],
             [
              1,
              "#f0f921"
             ]
            ],
            "type": "histogram2dcontour"
           }
          ],
          "mesh3d": [
           {
            "colorbar": {
             "outlinewidth": 0,
             "ticks": ""
            },
            "type": "mesh3d"
           }
          ],
          "parcoords": [
           {
            "line": {
             "colorbar": {
              "outlinewidth": 0,
              "ticks": ""
             }
            },
            "type": "parcoords"
           }
          ],
          "pie": [
           {
            "automargin": true,
            "type": "pie"
           }
          ],
          "scatter": [
           {
            "fillpattern": {
             "fillmode": "overlay",
             "size": 10,
             "solidity": 0.2
            },
            "type": "scatter"
           }
          ],
          "scatter3d": [
           {
            "line": {
             "colorbar": {
              "outlinewidth": 0,
              "ticks": ""
             }
            },
            "marker": {
             "colorbar": {
              "outlinewidth": 0,
              "ticks": ""
             }
            },
            "type": "scatter3d"
           }
          ],
          "scattercarpet": [
           {
            "marker": {
             "colorbar": {
              "outlinewidth": 0,
              "ticks": ""
             }
            },
            "type": "scattercarpet"
           }
          ],
          "scattergeo": [
           {
            "marker": {
             "colorbar": {
              "outlinewidth": 0,
              "ticks": ""
             }
            },
            "type": "scattergeo"
           }
          ],
          "scattergl": [
           {
            "marker": {
             "colorbar": {
              "outlinewidth": 0,
              "ticks": ""
             }
            },
            "type": "scattergl"
           }
          ],
          "scattermapbox": [
           {
            "marker": {
             "colorbar": {
              "outlinewidth": 0,
              "ticks": ""
             }
            },
            "type": "scattermapbox"
           }
          ],
          "scatterpolar": [
           {
            "marker": {
             "colorbar": {
              "outlinewidth": 0,
              "ticks": ""
             }
            },
            "type": "scatterpolar"
           }
          ],
          "scatterpolargl": [
           {
            "marker": {
             "colorbar": {
              "outlinewidth": 0,
              "ticks": ""
             }
            },
            "type": "scatterpolargl"
           }
          ],
          "scatterternary": [
           {
            "marker": {
             "colorbar": {
              "outlinewidth": 0,
              "ticks": ""
             }
            },
            "type": "scatterternary"
           }
          ],
          "surface": [
           {
            "colorbar": {
             "outlinewidth": 0,
             "ticks": ""
            },
            "colorscale": [
             [
              0,
              "#0d0887"
             ],
             [
              0.1111111111111111,
              "#46039f"
             ],
             [
              0.2222222222222222,
              "#7201a8"
             ],
             [
              0.3333333333333333,
              "#9c179e"
             ],
             [
              0.4444444444444444,
              "#bd3786"
             ],
             [
              0.5555555555555556,
              "#d8576b"
             ],
             [
              0.6666666666666666,
              "#ed7953"
             ],
             [
              0.7777777777777778,
              "#fb9f3a"
             ],
             [
              0.8888888888888888,
              "#fdca26"
             ],
             [
              1,
              "#f0f921"
             ]
            ],
            "type": "surface"
           }
          ],
          "table": [
           {
            "cells": {
             "fill": {
              "color": "#EBF0F8"
             },
             "line": {
              "color": "white"
             }
            },
            "header": {
             "fill": {
              "color": "#C8D4E3"
             },
             "line": {
              "color": "white"
             }
            },
            "type": "table"
           }
          ]
         },
         "layout": {
          "annotationdefaults": {
           "arrowcolor": "#2a3f5f",
           "arrowhead": 0,
           "arrowwidth": 1
          },
          "autotypenumbers": "strict",
          "coloraxis": {
           "colorbar": {
            "outlinewidth": 0,
            "ticks": ""
           }
          },
          "colorscale": {
           "diverging": [
            [
             0,
             "#8e0152"
            ],
            [
             0.1,
             "#c51b7d"
            ],
            [
             0.2,
             "#de77ae"
            ],
            [
             0.3,
             "#f1b6da"
            ],
            [
             0.4,
             "#fde0ef"
            ],
            [
             0.5,
             "#f7f7f7"
            ],
            [
             0.6,
             "#e6f5d0"
            ],
            [
             0.7,
             "#b8e186"
            ],
            [
             0.8,
             "#7fbc41"
            ],
            [
             0.9,
             "#4d9221"
            ],
            [
             1,
             "#276419"
            ]
           ],
           "sequential": [
            [
             0,
             "#0d0887"
            ],
            [
             0.1111111111111111,
             "#46039f"
            ],
            [
             0.2222222222222222,
             "#7201a8"
            ],
            [
             0.3333333333333333,
             "#9c179e"
            ],
            [
             0.4444444444444444,
             "#bd3786"
            ],
            [
             0.5555555555555556,
             "#d8576b"
            ],
            [
             0.6666666666666666,
             "#ed7953"
            ],
            [
             0.7777777777777778,
             "#fb9f3a"
            ],
            [
             0.8888888888888888,
             "#fdca26"
            ],
            [
             1,
             "#f0f921"
            ]
           ],
           "sequentialminus": [
            [
             0,
             "#0d0887"
            ],
            [
             0.1111111111111111,
             "#46039f"
            ],
            [
             0.2222222222222222,
             "#7201a8"
            ],
            [
             0.3333333333333333,
             "#9c179e"
            ],
            [
             0.4444444444444444,
             "#bd3786"
            ],
            [
             0.5555555555555556,
             "#d8576b"
            ],
            [
             0.6666666666666666,
             "#ed7953"
            ],
            [
             0.7777777777777778,
             "#fb9f3a"
            ],
            [
             0.8888888888888888,
             "#fdca26"
            ],
            [
             1,
             "#f0f921"
            ]
           ]
          },
          "colorway": [
           "#636efa",
           "#EF553B",
           "#00cc96",
           "#ab63fa",
           "#FFA15A",
           "#19d3f3",
           "#FF6692",
           "#B6E880",
           "#FF97FF",
           "#FECB52"
          ],
          "font": {
           "color": "#2a3f5f"
          },
          "geo": {
           "bgcolor": "white",
           "lakecolor": "white",
           "landcolor": "#E5ECF6",
           "showlakes": true,
           "showland": true,
           "subunitcolor": "white"
          },
          "hoverlabel": {
           "align": "left"
          },
          "hovermode": "closest",
          "mapbox": {
           "style": "light"
          },
          "paper_bgcolor": "white",
          "plot_bgcolor": "#E5ECF6",
          "polar": {
           "angularaxis": {
            "gridcolor": "white",
            "linecolor": "white",
            "ticks": ""
           },
           "bgcolor": "#E5ECF6",
           "radialaxis": {
            "gridcolor": "white",
            "linecolor": "white",
            "ticks": ""
           }
          },
          "scene": {
           "xaxis": {
            "backgroundcolor": "#E5ECF6",
            "gridcolor": "white",
            "gridwidth": 2,
            "linecolor": "white",
            "showbackground": true,
            "ticks": "",
            "zerolinecolor": "white"
           },
           "yaxis": {
            "backgroundcolor": "#E5ECF6",
            "gridcolor": "white",
            "gridwidth": 2,
            "linecolor": "white",
            "showbackground": true,
            "ticks": "",
            "zerolinecolor": "white"
           },
           "zaxis": {
            "backgroundcolor": "#E5ECF6",
            "gridcolor": "white",
            "gridwidth": 2,
            "linecolor": "white",
            "showbackground": true,
            "ticks": "",
            "zerolinecolor": "white"
           }
          },
          "shapedefaults": {
           "line": {
            "color": "#2a3f5f"
           }
          },
          "ternary": {
           "aaxis": {
            "gridcolor": "white",
            "linecolor": "white",
            "ticks": ""
           },
           "baxis": {
            "gridcolor": "white",
            "linecolor": "white",
            "ticks": ""
           },
           "bgcolor": "#E5ECF6",
           "caxis": {
            "gridcolor": "white",
            "linecolor": "white",
            "ticks": ""
           }
          },
          "title": {
           "x": 0.05
          },
          "xaxis": {
           "automargin": true,
           "gridcolor": "white",
           "linecolor": "white",
           "ticks": "",
           "title": {
            "standoff": 15
           },
           "zerolinecolor": "white",
           "zerolinewidth": 2
          },
          "yaxis": {
           "automargin": true,
           "gridcolor": "white",
           "linecolor": "white",
           "ticks": "",
           "title": {
            "standoff": 15
           },
           "zerolinecolor": "white",
           "zerolinewidth": 2
          }
         }
        },
        "xaxis": {
         "anchor": "y",
         "domain": [
          0,
          1
         ],
         "title": {
          "text": "value"
         }
        },
        "yaxis": {
         "anchor": "x",
         "domain": [
          0,
          1
         ],
         "title": {
          "text": "measure"
         }
        }
       }
      }
     },
     "metadata": {},
     "output_type": "display_data"
    }
   ],
   "source": [
    "fig_scraped = px.bar(df_scraped, x='value', y='measure')\n",
    "fig_scraped.show()"
   ]
  },
  {
   "attachments": {},
   "cell_type": "markdown",
   "id": "a99481a5",
   "metadata": {},
   "source": [
    "# Communicate\n",
    "Below are some writing prompts to help you reflect on the new information that is presented from the data. When we look at the evidence, think about what you perceive about the information. Is this perception based on what the evidence shows? If others were to view it, what perceptions might they have?\n",
    "\n",
    "I used to think ____________________but now I know____________________.\n",
    "I wish I knew more about ____________________.\n",
    "This visualization reminds me of ____________________.\n",
    "I really like ____________________."
   ]
  },
  {
   "attachments": {},
   "cell_type": "markdown",
   "id": "9be90190",
   "metadata": {},
   "source": [
    "[![Callysto.ca License](https://github.com/callysto/curriculum-notebooks/blob/master/callysto-notebook-banner-bottom.jpg?raw=true)](https://github.com/callysto/curriculum-notebooks/blob/master/LICENSE.md)"
   ]
  }
 ],
 "metadata": {
  "kernelspec": {
   "display_name": "Python 3",
   "language": "python",
   "name": "python3"
  },
  "language_info": {
   "codemirror_mode": {
    "name": "ipython",
    "version": 3
   },
   "file_extension": ".py",
   "mimetype": "text/x-python",
   "name": "python",
   "nbconvert_exporter": "python",
   "pygments_lexer": "ipython3",
   "version": "3.9.6"
  },
  "vscode": {
   "interpreter": {
    "hash": "31f2aee4e71d21fbe5cf8b01ff0e069b9275f58929596ceb00d14d90e3e16cd6"
   }
  }
 },
 "nbformat": 4,
 "nbformat_minor": 5
}
