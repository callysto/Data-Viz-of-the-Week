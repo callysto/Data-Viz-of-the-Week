{
 "cells": [
  {
   "cell_type": "markdown",
   "metadata": {},
   "source": [
    "![Callysto.ca Banner](https://github.com/callysto/curriculum-notebooks/blob/master/callysto-notebook-banner-top.jpg?raw=true)"
   ]
  },
  {
   "attachments": {},
   "cell_type": "markdown",
   "metadata": {},
   "source": [
    "# Callysto’s Weekly Data Visualization\n",
    "\n",
    "## Disability Prevalence in Canada\n",
    "### Recommended Grade levels: 5-9\n",
    "<br>"
   ]
  },
  {
   "cell_type": "markdown",
   "metadata": {},
   "source": [
    "### Instructions\n",
    "\n",
    "Click \"Cell\" and select \"Run All\".\n",
    "\n",
    "This will import the data and run all the code, so you can see this week's data visualization. Scroll back to the top after you’ve run the cells.\n",
    "\n",
    "![instructions](https://github.com/callysto/data-viz-of-the-week/blob/main/images/instructions.png?raw=true)\n",
    "\n",
    "**You don't need to do any coding to view the visualizations**.\n",
    "\n",
    "The plots generated in this notebook are interactive. You can hover over and click on elements to see more information. \n",
    "\n",
    "Email contact@callysto.ca if you experience issues."
   ]
  },
  {
   "cell_type": "markdown",
   "metadata": {},
   "source": [
    "### About this Notebook\n",
    "\n",
    "Callysto's Weekly Data Visualization is a learning resource that aims to develop data literacy skills. We provide Grades 5-12 teachers and students with a data visualization, like a graph, to interpret. This companion resource walks learners through how the data visualization is created and interpreted by a data scientist. \n",
    "\n",
    "The steps of the data analysis process are listed below and applied to each weekly topic.\n",
    "\n",
    "1. Question - What are we trying to answer?\n",
    "2. Gather - Find the data source(s) you will need. \n",
    "3. Organize - Arrange the data, so that you can easily explore it. \n",
    "4. Explore - Examine the data to look for evidence to answer the question. This includes creating visualizations. \n",
    "5. Interpret - Describe what's happening in the data visualization. \n",
    "6. Communicate - Explain how the evidence answers the question. "
   ]
  },
  {
   "attachments": {},
   "cell_type": "markdown",
   "metadata": {},
   "source": [
    "# Question\n",
    "\n",
    "What is the proportion of individuals with disablities in the population compared to individuals without disabilties?"
   ]
  },
  {
   "attachments": {},
   "cell_type": "markdown",
   "metadata": {},
   "source": [
    "### Goal\n",
    "\n",
    "The goal of this notebook is to show a visualization of the proportion of individuals with disabilities compared to the size of the general population. We will also be able to show visualizations about what types of disabilities occur often in the population. "
   ]
  },
  {
   "cell_type": "markdown",
   "metadata": {},
   "source": [
    "### Background\n",
    "In Canada, employment rates among disabled individuals have long been a subject of critical importance, as these rates consistently lag behind those of their non-disabled counterparts. Despite various initiatives and policies aimed at fostering inclusivity in the workforce, disabled individuals continue to encounter significant obstacles in their pursuit of securing meaningful employment opportunities. These challenges encompass a myriad of factors, such as the varying prevalence of disability types across different regions, the influence of age demographics on employment prospects, and the intersectionality with gender-based disparities."
   ]
  },
  {
   "cell_type": "markdown",
   "metadata": {},
   "source": [
    "# Gather"
   ]
  },
  {
   "cell_type": "markdown",
   "metadata": {},
   "source": [
    "### Code: "
   ]
  },
  {
   "attachments": {},
   "cell_type": "markdown",
   "metadata": {},
   "source": [
    "Run the code cells below to import the libraries we need for this project. Libraries are pre-made code that make it easier to analyze our data."
   ]
  },
  {
   "cell_type": "code",
   "execution_count": null,
   "metadata": {},
   "outputs": [],
   "source": [
    "import pandas as pd\n",
    "import plotly.express as px\n",
    "import re\n",
    "import plotly.graph_objects as go\n",
    "print(\"Libraries imported.\")"
   ]
  },
  {
   "attachments": {},
   "cell_type": "markdown",
   "metadata": {},
   "source": [
    "### Data\n",
    "Data was collected through Statistics Canada, specific links to the data sets we used are below:\n",
    "- [Labour force status for persons with disabilities aged 25 to 64 years, by disability type (grouped)](https://www150.statcan.gc.ca/t1/tbl1/en/tv.action?pid=1310073001)\n",
    "- [Potential to work for persons with disabilities aged 25 to 64 years, by sex](https://www150.statcan.gc.ca/t1/tbl1/en/tv.action?pid=1310074001)\n",
    "- [Persons with and without disabilities aged 15 years and over, census metropolitan areas](https://www150.statcan.gc.ca/t1/tbl1/en/tv.action?pid=1310075001)\n",
    "- [A demographic, employment and income profile of Canadians with disabilities aged 15 years and over, 2017](https://www150.statcan.gc.ca/n1/pub/89-654-x/89-654-x2018002-eng.htm)\n",
    "\n",
    "Note: Data was collected in 2016. The data set is collected every five years but it seems like there is a delay between collection and publishing. "
   ]
  },
  {
   "cell_type": "markdown",
   "metadata": {},
   "source": [
    "As a brief explanation of the libraries imported: "
   ]
  },
  {
   "cell_type": "markdown",
   "metadata": {},
   "source": [
    "| Library               | Description                                                                                            |\n",
    "|-----------------------|--------------------------------------------------------------------------------------------------------|\n",
    "| Pandas| Lets you work with structured data easily, perform data analysis, and prepare data for visualization.|\n",
    "| Plotly Express / Plotly Graph Objects| Simplifies creating interactive visualizations |\n",
    "| re (Regular Expressions) | Helps with pattern matching and manipulation of text. |"
   ]
  },
  {
   "cell_type": "markdown",
   "metadata": {},
   "source": [
    "Without importing these libraries we would have to use much more code to analyze our data and generate visualizations. We import the libraries with abbreviations, or aliases, so that we have less typing to do in each line of our code below."
   ]
  },
  {
   "cell_type": "markdown",
   "metadata": {},
   "source": [
    "### Import the data"
   ]
  },
  {
   "cell_type": "code",
   "execution_count": null,
   "metadata": {},
   "outputs": [],
   "source": [
    "by_pop = pd.read_csv('https://raw.githubusercontent.com/callysto/data-files/main/data-viz-of-the-week/disabilities/by_pop.csv')\n",
    "by_type = pd.read_csv('https://raw.githubusercontent.com/callysto/data-files/main/data-viz-of-the-week/disabilities/by_type.csv')\n",
    "male_female = pd.read_csv('https://raw.githubusercontent.com/callysto/data-files/main/data-viz-of-the-week/disabilities/male_female_disabilities.csv')\n",
    "employment = pd.read_csv(\"https://raw.githubusercontent.com/callysto/data-files/main/data-viz-of-the-week/disabilities/employment.csv\")"
   ]
  },
  {
   "cell_type": "markdown",
   "metadata": {},
   "source": [
    "Upon importing the datasets, let's visualize the first few rows of each dataset. This will provide us with a better understanding of the specific rows and columns present in each dataset."
   ]
  },
  {
   "cell_type": "code",
   "execution_count": null,
   "metadata": {},
   "outputs": [],
   "source": [
    "display(by_pop.head(), by_type.head(), male_female.head(), employment.head())"
   ]
  },
  {
   "cell_type": "markdown",
   "metadata": {},
   "source": [
    "# Organize"
   ]
  },
  {
   "cell_type": "markdown",
   "metadata": {},
   "source": [
    "First, let's take the `Geography` column in the *by_pop* dataframe and separate it into two new columns: `City` and `Province`. This means that instead of having the location data combined in one column (e.g., \"St. John's, Newfoundland and Labrador\"), we will split it into two separate pieces, one representing the city name (\"St. John's\") and the other representing the province or region name (\"Newfoundland and Labrador\").\n",
    "\n",
    "By doing this separation, we will make the data more organized and easier to analyze. It will allow us to look at population statistics for specific cities or provinces independently."
   ]
  },
  {
   "cell_type": "code",
   "execution_count": null,
   "metadata": {},
   "outputs": [],
   "source": [
    "by_pop[[\"City\", \"Province\"]] = by_pop['Geography'].str.split(\",\", n=1, expand=True)\n",
    "by_pop['City'] = by_pop['City'].str.strip()\n",
    "by_pop['Province'] = by_pop['Province'].str.strip()\n",
    "by_pop"
   ]
  },
  {
   "cell_type": "markdown",
   "metadata": {},
   "source": [
    "Next, let's tackle a common problem prevalent in our dataframes, namely inconsistencies and inaccuracies. These may include blank values in rows or unexpected integers/strings present in inappropriate data fields. By addressing these issues, we can ensure the data is more reliable and suitable for analysis. In coding terms, this is called data-cleaning.\n",
    "\n",
    "To solve this issue, we're going to define 3 functions, which solve different issues present in our dataframes. \n",
    "\n",
    "1. **remove_integers**:\n",
    "   \n",
    "The remove_integers function takes a string as input and returns a new string with all the digits (integers) removed, leaving only non-numeric characters.\n",
    "\n",
    "2. **remove_commas_and_letters**:\n",
    "   \n",
    "The remove_commas_and_letters function takes a string representing a numerical value, possibly with commas or non-digit characters, and returns the cleaned and converted integer value by removing commas and any non-digit characters.\n",
    "\n",
    "3. **remove_and_convert_percent**:\n",
    "The clean_and_convert_percent function deals specifically with percentage strings. It takes a string representing a percentage and returns the cleaned and converted float value by removing non-numeric characters (except the decimal point) and converting the cleaned string to a float."
   ]
  },
  {
   "cell_type": "code",
   "execution_count": null,
   "metadata": {},
   "outputs": [],
   "source": [
    "def remove_integers(string):\n",
    "    return ''.join(i for i in string if not i.isdigit())\n",
    "\n",
    "def remove_commas_and_letters(value):\n",
    "    value = value.replace(',', '')  # Remove commas\n",
    "    value = re.sub('[^0-9]', '', value)  # Remove non-digit characters using regex\n",
    "    return int(value)\n",
    "\n",
    "def clean_and_convert_percent(percent_str):\n",
    "    # Remove any non-numeric characters, except for '.'\n",
    "    cleaned_str = ''.join(char for char in percent_str if char.isdigit() or char == '.')\n",
    "    return float(cleaned_str)"
   ]
  },
  {
   "cell_type": "markdown",
   "metadata": {},
   "source": [
    "Now, we're going to apply these functions onto their appropriate columns."
   ]
  },
  {
   "cell_type": "code",
   "execution_count": null,
   "metadata": {},
   "outputs": [],
   "source": [
    "# r'\\d+' checks to match any digits in the string\n",
    "by_pop['Province'] = by_pop['Province'].str.replace(r'\\d+', '', regex=True).str.strip()"
   ]
  },
  {
   "cell_type": "code",
   "execution_count": null,
   "metadata": {},
   "outputs": [],
   "source": [
    "by_pop['Disability'] = by_pop[\"Disability\"].apply(remove_integers)\n",
    "by_pop['Number'] = by_pop[\"Number\"].apply(remove_commas_and_letters)\n",
    "by_pop['Percent'] = by_pop['Percent'].apply(clean_and_convert_percent)\n",
    "\n",
    "\n",
    "by_type[\"Disability type (grouped)\"] = by_type[\"Disability type (grouped)\"].apply(remove_integers)\n",
    "by_type['Number'] = by_type[\"Number\"].apply(remove_commas_and_letters)\n",
    "\n",
    "male_female['Potential to work'] = male_female[\"Potential to work\"].apply(remove_integers)\n",
    "male_female['Number'] = male_female[\"Number\"].apply(remove_commas_and_letters)"
   ]
  },
  {
   "cell_type": "markdown",
   "metadata": {},
   "source": [
    "Let's take a look at our dataframes after being cleaned."
   ]
  },
  {
   "cell_type": "code",
   "execution_count": null,
   "metadata": {},
   "outputs": [],
   "source": [
    "display(by_pop.head(), by_type.head(), male_female.head(), employment.head())"
   ]
  },
  {
   "cell_type": "markdown",
   "metadata": {},
   "source": [
    "Perfect, it seems that all the main issues present in the dataframes from before are fixed now. Let's begin exploring the cleaned data and making observations now. "
   ]
  },
  {
   "cell_type": "markdown",
   "metadata": {},
   "source": [
    "# Explore"
   ]
  },
  {
   "cell_type": "markdown",
   "metadata": {},
   "source": [
    "Before we get started in exploring visualizations, it's essential to approach the topic of disabilities with sensitivity and avoid generalizations, as each person's experiences and condition are unique. \n",
    "\n",
    "With this in mind, let's get a better understanding of the distribution of disabilities in Canada, specifically looking at the distribution of *types* of disabilities. "
   ]
  },
  {
   "cell_type": "code",
   "execution_count": null,
   "metadata": {},
   "outputs": [],
   "source": [
    "by_type_fig = px.histogram(by_type, x=\"Disability type (grouped)\", y=\"Number\", color=\"Number\")\n",
    "\n",
    "by_type_fig.update_layout(yaxis_title=\"Total Individuals Affected\")\n",
    "by_type_fig.update_traces(showlegend=False)\n",
    "\n",
    "by_type_fig.show()"
   ]
  },
  {
   "cell_type": "markdown",
   "metadata": {},
   "source": [
    "Looking at the figure above, the main disabilities that disabled people have are pain-related or physical. Pinpointing why many disabilities are linked with pain or physical limitations can be difficult to decipher, but there are several reasons to why this is:\n",
    "\n",
    "1. **Genetic/Biological Factors**: Many disabilities stem from genetic mutations that affect the development of the body, leading to physical impairments or pain.\n",
    "   \n",
    "2. **Acquired Disabilities**: Certain disabilities may be the result of accidents, injuries, or medical conditions that lead to physical limitations.\n",
    "   \n",
    "3. **Age-Related Disabilities**: As people age, they are more prone to physical disabilities due to natural wear and tear on the body. Disabilities like these include arthritis or mobility issues. "
   ]
  },
  {
   "cell_type": "markdown",
   "metadata": {},
   "source": [
    "# Intrepret"
   ]
  },
  {
   "cell_type": "markdown",
   "metadata": {},
   "source": [
    "Now that we've gotten a better sense of the distribution of the different *types* of disabilities within Canada we can begin to explore the main topic at hand, employment rates for disabled people in Canada. \n",
    "\n",
    "From viewing our dataframe earlier after cleaning, we see that **by_pop** displays the total number of people who are employed within a particular city and province. We can utilize this column `Number` by finding which cities have a larger percentage of disabled workers versus cities that have a lesser percentage of disabled workers."
   ]
  },
  {
   "cell_type": "code",
   "execution_count": null,
   "metadata": {},
   "outputs": [],
   "source": [
    "filtered_df_with= by_pop.loc[(by_pop['Percent'] != 100) & (by_pop['Disability'] == 'Persons with disabilities')]\n",
    "filtered_df_without= by_pop.loc[(by_pop['Percent'] != 100) & (by_pop['Disability'] == 'Persons without disabilities')]\n",
    "\n",
    "maximum_with = filtered_df_with[filtered_df_with.Percent == filtered_df_with.Percent.max()].reset_index(drop=True)\n",
    "maximum_without = filtered_df_without[filtered_df_without.Percent == filtered_df_without.Percent.max()].reset_index(drop=True)\n",
    "minimum_without = filtered_df_without[filtered_df_without.Percent == filtered_df_without.Percent.min()].reset_index(drop=True)\n",
    "minimum_with = filtered_df_with[filtered_df_with.Percent == filtered_df_with.Percent.min()].reset_index(drop=True)\n",
    "\n",
    "print(\"Highest Percent with Disabilities: \")\n",
    "display(maximum_with)\n",
    "\n",
    "print(\"Highest Percent without Disabilties: \")\n",
    "display(maximum_without)\n",
    "\n",
    "print(\"Lowest Percent with Disabilities: \")\n",
    "display(minimum_with)\n",
    "\n",
    "print(\"Lowest Percent without Disabilties: \")\n",
    "display(minimum_without)"
   ]
  },
  {
   "cell_type": "markdown",
   "metadata": {},
   "source": [
    "It appears that that *Belleville, Ontario* has the highest percentage of employed individuals who are disabled, at a staggering 43.5%. Unfortunately, *Trois-Rivières, Quebec* has the lowest percentage of employed individuals employed who are disabled at 12.0%. "
   ]
  },
  {
   "cell_type": "markdown",
   "metadata": {},
   "source": [
    "We can also look at all provinces and cities on a larger scale by visualizing our data in a treemap. A treemap is particularly useful in this scenario as we have display hierarchial data in a tree-like structure. As a result, we can visualize the origins of the provinces certain cities come from. \n",
    "\n",
    "Note: Data with smaller numbers can be harder to visualize, as a result, information regarding the city can be emphasized by hovering and clicking over the particular city."
   ]
  },
  {
   "cell_type": "code",
   "execution_count": null,
   "metadata": {},
   "outputs": [],
   "source": [
    "provinces = px.treemap(by_pop, path=[px.Constant(\"Canada\"), 'Province', 'City', 'Disability'], values='Number')\n",
    "provinces.update_traces(root_color=\"lightgrey\")\n",
    "provinces.update_layout(margin = dict(t=50, l=35, r=35, b=35))\n",
    "provinces.show()"
   ]
  },
  {
   "cell_type": "markdown",
   "metadata": {},
   "source": [
    "Upon examining the visualization, a striking pattern emerges: numerous cities in Ontario predominate in this dataset, regardless of disability status. Notably, major cities such as Toronto, Montréal, Vancouver, Calgary, Edmonton, and Ottawa exhibit a consistent trend, with employment rates of *persons without disabilities* hovering around 20-30%, while the remaining 70-80% represents *persons with disabilities*. These findings suggest that despite modern-day efforts to promote disabled individuals' employability, many continue to encounter challenges in accessing opportunities."
   ]
  },
  {
   "cell_type": "markdown",
   "metadata": {},
   "source": [
    "We can take this a step further by adding viewing employment the lens of age. Let's take the dataframe **grouped_df** and group the data by the mean of `Age Group`, `Disabilities`, and `Gender`."
   ]
  },
  {
   "cell_type": "code",
   "execution_count": null,
   "metadata": {},
   "outputs": [],
   "source": [
    "# Group the DataFrame by Age Group and Disabilities and calculate the mean of Employment Percent\n",
    "grouped_df = employment.groupby(['Age Group', 'Disabilities', 'Gender'])['Employment Percent'].mean().reset_index()\n",
    "\n",
    "with_disabilities = grouped_df.loc[grouped_df['Disabilities'] == 1]\n",
    "without_disabilities = grouped_df.loc[grouped_df['Disabilities'] == 0]\n",
    "\n",
    "with_disabilities_fig = px.bar(with_disabilities, x='Age Group', y='Employment Percent', color='Gender', barmode='group', title='Mean Employment Percent by Age Group and Gender of Disabled People').show()\n",
    "without_disabilities_fig = px.bar(without_disabilities, x='Age Group', y='Employment Percent', color='Gender', barmode='group', title='Mean Employment Percent by Age Group and Gender of Non-Disabled People').show()"
   ]
  },
  {
   "cell_type": "markdown",
   "metadata": {},
   "source": [
    "Comparing our two visualizations, it appears that regardless of disability status both visualizations indicate similar trends where years 25-34, 35-44, and 45-54 all show similar employment percentages until the 55-64 years. This is mainly due to several factors such as health and physical limitations, skill relevance due to rapid technological growth, and just retiring from the workforce in general. \n",
    "\n",
    "Unfortunately, it also appears that the mean employment percent for non-disabled individuals is significantly higher at all age groups compared to disabled individuals. This can be attributed for a variety of reasons:\n",
    "\n",
    "1. **Disability Stigma and Discrimination**: Disability stigma and discrimination are pervasive in society. Many employers may hold negative stereotypes about disabled individuals, assuming they are less capable, less productive, or more expensive to accommodate. This bias can lead to discriminatory hiring practices, limiting job opportunities for disabled people.\n",
    "   \n",
    "2. **Limited Training and Skill Development**: Disabled individuals may face fewer opportunities for training and skill development, particularly if educational institutions and training programs are not designed to accommodate their needs.\n",
    "\n",
    "3. **Lack of Representation**: The underrepresentation of disabled individuals in the workforce can contribute to a positive-feedback cycle of limited role models and opportunities for career advancement.\n",
    "\n",
    "4. **Unsupportive Work Environment**: Some work environments may not be supportive or understanding of the needs and accommodations required by disabled employees, leading to discomfort or difficulty in the workplace."
   ]
  },
  {
   "cell_type": "markdown",
   "metadata": {},
   "source": [
    "We can also visualize mean employment percent based on the severity of disability. In this particular case, disabilities are labelled as either **Milder** or **Severe**. "
   ]
  },
  {
   "cell_type": "code",
   "execution_count": null,
   "metadata": {},
   "outputs": [],
   "source": [
    "# Calculate the mean employment percentage for each group\n",
    "no_disabilities_mean = employment.loc[employment['Disabilities'] == 0, 'Employment Percent'].mean()\n",
    "milder_disabilities_mean = employment.loc[employment['Milder'] == 1, 'Employment Percent'].mean()\n",
    "severe_disabilities_mean = employment.loc[employment['Severe'] == 1, 'Employment Percent'].mean()\n",
    "\n",
    "data = {\n",
    "    'Disabilities': ['No Disabilities', 'Milder Disabilities', 'Severe Disabilities'],\n",
    "    'Mean Employment Percent': [no_disabilities_mean, milder_disabilities_mean, severe_disabilities_mean]\n",
    "}\n",
    "df = pd.DataFrame(data)\n",
    "\n",
    "mean_fig_total = go.Figure(data=go.Bar(\n",
    "    x=df['Disabilities'],\n",
    "    y=df['Mean Employment Percent'],\n",
    "    marker=dict(color=['rgb(31,119,180)', 'rgb(255,127,14)', 'rgb(44,160,44)'])\n",
    "))\n",
    "\n",
    "mean_fig_total.update_layout(\n",
    "    xaxis=dict(title='Disabilities'),\n",
    "    yaxis=dict(title='Mean Employment Percent'),\n",
    "    title='Mean Employment Percent by Disabilities'\n",
    ").show()"
   ]
  },
  {
   "cell_type": "markdown",
   "metadata": {},
   "source": [
    "As expected, individuals *without disabilities* have the highest mean employment rate, reaching 78.1%. Surprisingly, those with *milder disabilities* do not lag too far behind, with a mean employment rate of 73.6%. However, it is concerning to note that individuals with *severe disabilities* face significant challenges, with the lowest mean employment rate at 44.2%, falling far behind the other two categories.\n",
    "\n",
    "The statistics highlight the importance of providing better employment opportunities for individuals with severe disabilities. These individuals often encounter substantial barriers to entry due to the severity of their impairments, which can result in limited access to suitable jobs and necessary workplace accommodations. Despite being individuals who often need financial stability the most, they find themselves grappling with limited employment options."
   ]
  },
  {
   "cell_type": "markdown",
   "metadata": {},
   "source": [
    "In our final visualization, we utilize the *male_female* dataframe. Earlier in the notebook we had a visualization which also highlighted gender as a factor for employment, but, it contained gender data separated by ages. The data in this particular dataframe looks strictly on the gender variable to find work potential between genders. "
   ]
  },
  {
   "cell_type": "code",
   "execution_count": null,
   "metadata": {},
   "outputs": [],
   "source": [
    "male_female_queried = male_female[~male_female['Potential to work'].str.contains('Total, with or without work potential')]\n",
    "grouped_male_female = px.bar(male_female_queried, x='Sex', y='Number', color='Potential to work', barmode='group').show()"
   ]
  },
  {
   "cell_type": "markdown",
   "metadata": {},
   "source": [
    "Looking at the visualization, the first that strikes out is that regardless of gender, a difference of approximately 400,000 people are without work potential. When separating genders, females have slightly more people who are with work potential but with a much higher number of people without work potential. For males, the differences are smaller but the number of people without work potential are still greater than those with. "
   ]
  },
  {
   "cell_type": "markdown",
   "metadata": {},
   "source": [
    "# Communicate\n",
    "\n",
    "Below are some writing prompts to help you reflect on the new information that is presented from the data. When we look at the evidence, think about what you perceive about the information. Is this perception based on what the evidence shows? If others were to view it, what perceptions might they have?\n",
    "\n",
    "- I used to think ____________________but now I know____________________. \n",
    "- I wish I knew more about ____________________. \n",
    "- This visualization reminds me of ____________________. \n",
    "- I really like ____________________."
   ]
  },
  {
   "cell_type": "markdown",
   "metadata": {},
   "source": [
    "[![Callysto.ca License](https://github.com/callysto/curriculum-notebooks/blob/master/callysto-notebook-banner-bottom.jpg?raw=true)](https://github.com/callysto/curriculum-notebooks/blob/master/LICENSE.md)"
   ]
  }
 ],
 "metadata": {
  "kernelspec": {
   "display_name": "Python 3",
   "language": "python",
   "name": "python3"
  },
  "language_info": {
   "codemirror_mode": {
    "name": "ipython",
    "version": 3
   },
   "file_extension": ".py",
   "mimetype": "text/x-python",
   "name": "python",
   "nbconvert_exporter": "python",
   "pygments_lexer": "ipython3",
   "version": "3.10.9"
  },
  "orig_nbformat": 4
 },
 "nbformat": 4,
 "nbformat_minor": 2
}
