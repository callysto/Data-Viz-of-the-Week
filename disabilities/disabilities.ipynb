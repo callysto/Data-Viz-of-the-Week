{
 "cells": [
  {
   "cell_type": "markdown",
   "metadata": {},
   "source": [
    "![Callysto.ca Banner](https://github.com/callysto/curriculum-notebooks/blob/master/callysto-notebook-banner-top.jpg?raw=true)"
   ]
  },
  {
   "cell_type": "markdown",
   "metadata": {},
   "source": [
    "# Callysto’s Weekly Data Visualization\n",
    "\n",
    "## Disabilities\n",
    "\n",
    "### Recommended Grade levels: 5-9"
   ]
  },
  {
   "cell_type": "markdown",
   "metadata": {},
   "source": [
    "### Instructions\n",
    "\n",
    "Click \"Cell\" and select \"Run All\".\n",
    "\n",
    "This will import the data and run all the code, so you can see this week's data visualization. Scroll back to the top after you’ve run the cells.\n",
    "\n",
    "![instructions](https://github.com/callysto/data-viz-of-the-week/blob/main/images/instructions.png?raw=true)\n",
    "\n",
    "**You don't need to do any coding to view the visualizations**.\n",
    "\n",
    "The plots generated in this notebook are interactive. You can hover over and click on elements to see more information. \n",
    "\n",
    "Email contact@callysto.ca if you experience issues."
   ]
  },
  {
   "cell_type": "markdown",
   "metadata": {},
   "source": [
    "### About this Notebook\n",
    "\n",
    "Callysto's Weekly Data Visualization is a learning resource that aims to develop data literacy skills. We provide Grades 5-12 teachers and students with a data visualization, like a graph, to interpret. This companion resource walks learners through how the data visualization is created and interpreted by a data scientist. \n",
    "\n",
    "The steps of the data analysis process are listed below and applied to each weekly topic.\n",
    "\n",
    "1. Question - What are we trying to answer?\n",
    "2. Gather - Find the data source(s) you will need. \n",
    "3. Organize - Arrange the data, so that you can easily explore it. \n",
    "4. Explore - Examine the data to look for evidence to answer the question. This includes creating visualizations. \n",
    "5. Interpret - Describe what's happening in the data visualization. \n",
    "6. Communicate - Explain how the evidence answers the question. "
   ]
  },
  {
   "cell_type": "markdown",
   "metadata": {},
   "source": [
    "# Question\n",
    "\n",
    "What are the major challenges faced by disabled individuals in their efforts to secure employment?"
   ]
  },
  {
   "cell_type": "markdown",
   "metadata": {},
   "source": [
    "### Goal\n",
    "\n",
    "What are the key factors or reasons that contribute to the lower employment percentage of disabled individuals compared to non-disabled individuals in each Canadian province, and how do these factors vary by disability type and age groups?"
   ]
  },
  {
   "cell_type": "markdown",
   "metadata": {},
   "source": [
    "### Background\n",
    "\n",
    "In Canada, employment rates among disabled individuals have long been a subject of critical importance, as these rates consistently lag behind those of their non-disabled counterparts. Despite various initiatives and policies aimed at fostering inclusivity in the workforce, disabled individuals continue to encounter significant obstacles in their pursuit of securing meaningful employment opportunities. These challenges encompass a myriad of factors, such as the varying prevalence of disability types across different regions, the influence of age demographics on employment prospects, and the intersectionality with gender-based disparities. "
   ]
  },
  {
   "cell_type": "markdown",
   "metadata": {},
   "source": [
    "# Gather\n",
    "\n",
    "Data was collected through Statistics Canada, specific links being:\n",
    "- [Labour force status for persons with disabilities aged 25 to 64 years, by disability type (grouped)](https://www150.statcan.gc.ca/t1/tbl1/en/tv.action?pid=1310073001)\n",
    "- [Potential to work for persons with disabilities aged 25 to 64 years, by sex](https://www150.statcan.gc.ca/t1/tbl1/en/tv.action?pid=1310074001)\n",
    "- [Persons with and without disabilities aged 15 years and over, census metropolitan areas](https://www150.statcan.gc.ca/t1/tbl1/en/tv.action?pid=1310075001)"
   ]
  },
  {
   "cell_type": "markdown",
   "metadata": {},
   "source": [
    "### Code: "
   ]
  },
  {
   "cell_type": "markdown",
   "metadata": {},
   "source": [
    "Run the code cells below to import the libraries we need for this project. Libraries are pre-made code that make it easier to analyze our data."
   ]
  },
  {
   "cell_type": "code",
   "execution_count": 34,
   "metadata": {},
   "outputs": [],
   "source": [
    "import pandas as pd\n",
    "import plotly.express as px\n",
    "import re\n",
    "import plotly.graph_objects as go"
   ]
  },
  {
   "cell_type": "code",
   "execution_count": 2,
   "metadata": {},
   "outputs": [],
   "source": [
    "by_pop = pd.read_csv('https://raw.githubusercontent.com/callysto/data-files/main/data-viz-of-the-week/disabilities/by_pop.csv')\n",
    "by_type = pd.read_csv('https://raw.githubusercontent.com/callysto/data-files/main/data-viz-of-the-week/disabilities/by_type.csv')\n",
    "male_female = pd.read_csv('https://raw.githubusercontent.com/callysto/data-files/main/data-viz-of-the-week/disabilities/male_female_disabilities.csv')\n",
    "employment = pd.read_csv(\"https://raw.githubusercontent.com/callysto/data-files/main/data-viz-of-the-week/disabilities/employment.csv\")"
   ]
  },
  {
   "cell_type": "code",
   "execution_count": 3,
   "metadata": {},
   "outputs": [
    {
     "data": {
      "text/html": [
       "<div>\n",
       "<style scoped>\n",
       "    .dataframe tbody tr th:only-of-type {\n",
       "        vertical-align: middle;\n",
       "    }\n",
       "\n",
       "    .dataframe tbody tr th {\n",
       "        vertical-align: top;\n",
       "    }\n",
       "\n",
       "    .dataframe thead th {\n",
       "        text-align: right;\n",
       "    }\n",
       "</style>\n",
       "<table border=\"1\" class=\"dataframe\">\n",
       "  <thead>\n",
       "    <tr style=\"text-align: right;\">\n",
       "      <th></th>\n",
       "      <th>Geography</th>\n",
       "      <th>Disability</th>\n",
       "      <th>Number</th>\n",
       "      <th>Percent</th>\n",
       "    </tr>\n",
       "  </thead>\n",
       "  <tbody>\n",
       "    <tr>\n",
       "      <th>0</th>\n",
       "      <td>St. John's, Newfoundland and Labrador</td>\n",
       "      <td>Total population, with and without disabilities 7</td>\n",
       "      <td>167,550</td>\n",
       "      <td>100</td>\n",
       "    </tr>\n",
       "    <tr>\n",
       "      <th>1</th>\n",
       "      <td>St. John's, Newfoundland and Labrador</td>\n",
       "      <td>Persons with disabilities</td>\n",
       "      <td>37,350</td>\n",
       "      <td>22.3</td>\n",
       "    </tr>\n",
       "    <tr>\n",
       "      <th>2</th>\n",
       "      <td>St. John's, Newfoundland and Labrador</td>\n",
       "      <td>Persons without disabilities</td>\n",
       "      <td>130,250</td>\n",
       "      <td>77.7</td>\n",
       "    </tr>\n",
       "    <tr>\n",
       "      <th>3</th>\n",
       "      <td>Halifax, Nova Scotia</td>\n",
       "      <td>Total population, with and without disabilities 7</td>\n",
       "      <td>331,300</td>\n",
       "      <td>100</td>\n",
       "    </tr>\n",
       "    <tr>\n",
       "      <th>4</th>\n",
       "      <td>Halifax, Nova Scotia</td>\n",
       "      <td>Persons with disabilities</td>\n",
       "      <td>94,350</td>\n",
       "      <td>28.5</td>\n",
       "    </tr>\n",
       "  </tbody>\n",
       "</table>\n",
       "</div>"
      ],
      "text/plain": [
       "                               Geography  \\\n",
       "0  St. John's, Newfoundland and Labrador   \n",
       "1  St. John's, Newfoundland and Labrador   \n",
       "2  St. John's, Newfoundland and Labrador   \n",
       "3                   Halifax, Nova Scotia   \n",
       "4                   Halifax, Nova Scotia   \n",
       "\n",
       "                                          Disability   Number Percent  \n",
       "0  Total population, with and without disabilities 7  167,550     100  \n",
       "1                          Persons with disabilities   37,350    22.3  \n",
       "2                       Persons without disabilities  130,250    77.7  \n",
       "3  Total population, with and without disabilities 7  331,300     100  \n",
       "4                          Persons with disabilities   94,350    28.5  "
      ]
     },
     "metadata": {},
     "output_type": "display_data"
    },
    {
     "data": {
      "text/html": [
       "<div>\n",
       "<style scoped>\n",
       "    .dataframe tbody tr th:only-of-type {\n",
       "        vertical-align: middle;\n",
       "    }\n",
       "\n",
       "    .dataframe tbody tr th {\n",
       "        vertical-align: top;\n",
       "    }\n",
       "\n",
       "    .dataframe thead th {\n",
       "        text-align: right;\n",
       "    }\n",
       "</style>\n",
       "<table border=\"1\" class=\"dataframe\">\n",
       "  <thead>\n",
       "    <tr style=\"text-align: right;\">\n",
       "      <th></th>\n",
       "      <th>Disability type (grouped)</th>\n",
       "      <th>Number</th>\n",
       "    </tr>\n",
       "  </thead>\n",
       "  <tbody>\n",
       "    <tr>\n",
       "      <th>0</th>\n",
       "      <td>Total population with disabilities 7 8</td>\n",
       "      <td>3,727,920</td>\n",
       "    </tr>\n",
       "    <tr>\n",
       "      <th>1</th>\n",
       "      <td>Sensory disability 9</td>\n",
       "      <td>1,364,120</td>\n",
       "    </tr>\n",
       "    <tr>\n",
       "      <th>2</th>\n",
       "      <td>Physical disability 10</td>\n",
       "      <td>1,958,570</td>\n",
       "    </tr>\n",
       "    <tr>\n",
       "      <th>3</th>\n",
       "      <td>Pain-related disability</td>\n",
       "      <td>2,512,090</td>\n",
       "    </tr>\n",
       "    <tr>\n",
       "      <th>4</th>\n",
       "      <td>Mental health-related disability</td>\n",
       "      <td>1,421,270</td>\n",
       "    </tr>\n",
       "  </tbody>\n",
       "</table>\n",
       "</div>"
      ],
      "text/plain": [
       "                Disability type (grouped)     Number\n",
       "0  Total population with disabilities 7 8  3,727,920\n",
       "1                    Sensory disability 9  1,364,120\n",
       "2                  Physical disability 10  1,958,570\n",
       "3                 Pain-related disability  2,512,090\n",
       "4        Mental health-related disability  1,421,270"
      ]
     },
     "metadata": {},
     "output_type": "display_data"
    },
    {
     "data": {
      "text/html": [
       "<div>\n",
       "<style scoped>\n",
       "    .dataframe tbody tr th:only-of-type {\n",
       "        vertical-align: middle;\n",
       "    }\n",
       "\n",
       "    .dataframe tbody tr th {\n",
       "        vertical-align: top;\n",
       "    }\n",
       "\n",
       "    .dataframe thead th {\n",
       "        text-align: right;\n",
       "    }\n",
       "</style>\n",
       "<table border=\"1\" class=\"dataframe\">\n",
       "  <thead>\n",
       "    <tr style=\"text-align: right;\">\n",
       "      <th></th>\n",
       "      <th>Sex</th>\n",
       "      <th>Potential to work</th>\n",
       "      <th>Number</th>\n",
       "      <th>Percent</th>\n",
       "    </tr>\n",
       "  </thead>\n",
       "  <tbody>\n",
       "    <tr>\n",
       "      <th>0</th>\n",
       "      <td>Both Sexes</td>\n",
       "      <td>Total, with or without work potential 6</td>\n",
       "      <td>1,648,460</td>\n",
       "      <td>100.0</td>\n",
       "    </tr>\n",
       "    <tr>\n",
       "      <th>1</th>\n",
       "      <td>Both Sexes</td>\n",
       "      <td>With work potential 7</td>\n",
       "      <td>644,640</td>\n",
       "      <td>39.1</td>\n",
       "    </tr>\n",
       "    <tr>\n",
       "      <th>2</th>\n",
       "      <td>Both Sexes</td>\n",
       "      <td>Without work potential 8</td>\n",
       "      <td>1,003,820</td>\n",
       "      <td>60.9</td>\n",
       "    </tr>\n",
       "    <tr>\n",
       "      <th>3</th>\n",
       "      <td>Males</td>\n",
       "      <td>Total, with or without work potential 6</td>\n",
       "      <td>700,120</td>\n",
       "      <td>100.0</td>\n",
       "    </tr>\n",
       "    <tr>\n",
       "      <th>4</th>\n",
       "      <td>Males</td>\n",
       "      <td>With work potential 7</td>\n",
       "      <td>294,440</td>\n",
       "      <td>42.1</td>\n",
       "    </tr>\n",
       "  </tbody>\n",
       "</table>\n",
       "</div>"
      ],
      "text/plain": [
       "          Sex                        Potential to work     Number  Percent\n",
       "0  Both Sexes  Total, with or without work potential 6  1,648,460    100.0\n",
       "1  Both Sexes                    With work potential 7    644,640     39.1\n",
       "2  Both Sexes                 Without work potential 8  1,003,820     60.9\n",
       "3       Males  Total, with or without work potential 6    700,120    100.0\n",
       "4       Males                    With work potential 7    294,440     42.1"
      ]
     },
     "metadata": {},
     "output_type": "display_data"
    },
    {
     "data": {
      "text/html": [
       "<div>\n",
       "<style scoped>\n",
       "    .dataframe tbody tr th:only-of-type {\n",
       "        vertical-align: middle;\n",
       "    }\n",
       "\n",
       "    .dataframe tbody tr th {\n",
       "        vertical-align: top;\n",
       "    }\n",
       "\n",
       "    .dataframe thead th {\n",
       "        text-align: right;\n",
       "    }\n",
       "</style>\n",
       "<table border=\"1\" class=\"dataframe\">\n",
       "  <thead>\n",
       "    <tr style=\"text-align: right;\">\n",
       "      <th></th>\n",
       "      <th>Age Group</th>\n",
       "      <th>Disabilities</th>\n",
       "      <th>Milder</th>\n",
       "      <th>Severe</th>\n",
       "      <th>Gender</th>\n",
       "      <th>Employment Percent</th>\n",
       "    </tr>\n",
       "  </thead>\n",
       "  <tbody>\n",
       "    <tr>\n",
       "      <th>0</th>\n",
       "      <td>25-34 years</td>\n",
       "      <td>0</td>\n",
       "      <td>0</td>\n",
       "      <td>0</td>\n",
       "      <td>Women</td>\n",
       "      <td>77.3</td>\n",
       "    </tr>\n",
       "    <tr>\n",
       "      <th>1</th>\n",
       "      <td>25-34 years</td>\n",
       "      <td>0</td>\n",
       "      <td>0</td>\n",
       "      <td>0</td>\n",
       "      <td>Men</td>\n",
       "      <td>65.0</td>\n",
       "    </tr>\n",
       "    <tr>\n",
       "      <th>2</th>\n",
       "      <td>25-34 years</td>\n",
       "      <td>0</td>\n",
       "      <td>0</td>\n",
       "      <td>0</td>\n",
       "      <td>Both</td>\n",
       "      <td>81.8</td>\n",
       "    </tr>\n",
       "    <tr>\n",
       "      <th>3</th>\n",
       "      <td>35-44 years</td>\n",
       "      <td>0</td>\n",
       "      <td>0</td>\n",
       "      <td>0</td>\n",
       "      <td>Women</td>\n",
       "      <td>81.7</td>\n",
       "    </tr>\n",
       "    <tr>\n",
       "      <th>4</th>\n",
       "      <td>35-44 years</td>\n",
       "      <td>0</td>\n",
       "      <td>0</td>\n",
       "      <td>0</td>\n",
       "      <td>Men</td>\n",
       "      <td>89.5</td>\n",
       "    </tr>\n",
       "  </tbody>\n",
       "</table>\n",
       "</div>"
      ],
      "text/plain": [
       "     Age Group  Disabilities  Milder  Severe Gender  Employment Percent\n",
       "0  25-34 years             0       0       0  Women                77.3\n",
       "1  25-34 years             0       0       0    Men                65.0\n",
       "2  25-34 years             0       0       0   Both                81.8\n",
       "3  35-44 years             0       0       0  Women                81.7\n",
       "4  35-44 years             0       0       0    Men                89.5"
      ]
     },
     "metadata": {},
     "output_type": "display_data"
    }
   ],
   "source": [
    "display(by_pop.head(), by_type.head(), male_female.head(), employment.head())"
   ]
  },
  {
   "cell_type": "markdown",
   "metadata": {},
   "source": [
    "# Organize"
   ]
  },
  {
   "cell_type": "code",
   "execution_count": 4,
   "metadata": {},
   "outputs": [
    {
     "data": {
      "text/html": [
       "<div>\n",
       "<style scoped>\n",
       "    .dataframe tbody tr th:only-of-type {\n",
       "        vertical-align: middle;\n",
       "    }\n",
       "\n",
       "    .dataframe tbody tr th {\n",
       "        vertical-align: top;\n",
       "    }\n",
       "\n",
       "    .dataframe thead th {\n",
       "        text-align: right;\n",
       "    }\n",
       "</style>\n",
       "<table border=\"1\" class=\"dataframe\">\n",
       "  <thead>\n",
       "    <tr style=\"text-align: right;\">\n",
       "      <th></th>\n",
       "      <th>Geography</th>\n",
       "      <th>Disability</th>\n",
       "      <th>Number</th>\n",
       "      <th>Percent</th>\n",
       "      <th>City</th>\n",
       "      <th>Province</th>\n",
       "    </tr>\n",
       "  </thead>\n",
       "  <tbody>\n",
       "    <tr>\n",
       "      <th>0</th>\n",
       "      <td>St. John's, Newfoundland and Labrador</td>\n",
       "      <td>Total population, with and without disabilities 7</td>\n",
       "      <td>167,550</td>\n",
       "      <td>100</td>\n",
       "      <td>St. John's</td>\n",
       "      <td>Newfoundland and Labrador</td>\n",
       "    </tr>\n",
       "    <tr>\n",
       "      <th>1</th>\n",
       "      <td>St. John's, Newfoundland and Labrador</td>\n",
       "      <td>Persons with disabilities</td>\n",
       "      <td>37,350</td>\n",
       "      <td>22.3</td>\n",
       "      <td>St. John's</td>\n",
       "      <td>Newfoundland and Labrador</td>\n",
       "    </tr>\n",
       "    <tr>\n",
       "      <th>2</th>\n",
       "      <td>St. John's, Newfoundland and Labrador</td>\n",
       "      <td>Persons without disabilities</td>\n",
       "      <td>130,250</td>\n",
       "      <td>77.7</td>\n",
       "      <td>St. John's</td>\n",
       "      <td>Newfoundland and Labrador</td>\n",
       "    </tr>\n",
       "    <tr>\n",
       "      <th>3</th>\n",
       "      <td>Halifax, Nova Scotia</td>\n",
       "      <td>Total population, with and without disabilities 7</td>\n",
       "      <td>331,300</td>\n",
       "      <td>100</td>\n",
       "      <td>Halifax</td>\n",
       "      <td>Nova Scotia</td>\n",
       "    </tr>\n",
       "    <tr>\n",
       "      <th>4</th>\n",
       "      <td>Halifax, Nova Scotia</td>\n",
       "      <td>Persons with disabilities</td>\n",
       "      <td>94,350</td>\n",
       "      <td>28.5</td>\n",
       "      <td>Halifax</td>\n",
       "      <td>Nova Scotia</td>\n",
       "    </tr>\n",
       "    <tr>\n",
       "      <th>...</th>\n",
       "      <td>...</td>\n",
       "      <td>...</td>\n",
       "      <td>...</td>\n",
       "      <td>...</td>\n",
       "      <td>...</td>\n",
       "      <td>...</td>\n",
       "    </tr>\n",
       "    <tr>\n",
       "      <th>100</th>\n",
       "      <td>Vancouver, British Columbia</td>\n",
       "      <td>Persons with disabilities</td>\n",
       "      <td>410,510</td>\n",
       "      <td>20.5</td>\n",
       "      <td>Vancouver</td>\n",
       "      <td>British Columbia</td>\n",
       "    </tr>\n",
       "    <tr>\n",
       "      <th>101</th>\n",
       "      <td>Vancouver, British Columbia</td>\n",
       "      <td>Persons without disabilities</td>\n",
       "      <td>1,591,390</td>\n",
       "      <td>79.5</td>\n",
       "      <td>Vancouver</td>\n",
       "      <td>British Columbia</td>\n",
       "    </tr>\n",
       "    <tr>\n",
       "      <th>102</th>\n",
       "      <td>Victoria, British Columbia</td>\n",
       "      <td>Total population, with and without disabilities 7</td>\n",
       "      <td>307,700</td>\n",
       "      <td>100</td>\n",
       "      <td>Victoria</td>\n",
       "      <td>British Columbia</td>\n",
       "    </tr>\n",
       "    <tr>\n",
       "      <th>103</th>\n",
       "      <td>Victoria, British Columbia</td>\n",
       "      <td>Persons with disabilities</td>\n",
       "      <td>89,250</td>\n",
       "      <td>29</td>\n",
       "      <td>Victoria</td>\n",
       "      <td>British Columbia</td>\n",
       "    </tr>\n",
       "    <tr>\n",
       "      <th>104</th>\n",
       "      <td>Victoria, British Columbia</td>\n",
       "      <td>Persons without disabilities</td>\n",
       "      <td>218,450</td>\n",
       "      <td>71</td>\n",
       "      <td>Victoria</td>\n",
       "      <td>British Columbia</td>\n",
       "    </tr>\n",
       "  </tbody>\n",
       "</table>\n",
       "<p>105 rows × 6 columns</p>\n",
       "</div>"
      ],
      "text/plain": [
       "                                 Geography  \\\n",
       "0    St. John's, Newfoundland and Labrador   \n",
       "1    St. John's, Newfoundland and Labrador   \n",
       "2    St. John's, Newfoundland and Labrador   \n",
       "3                     Halifax, Nova Scotia   \n",
       "4                     Halifax, Nova Scotia   \n",
       "..                                     ...   \n",
       "100            Vancouver, British Columbia   \n",
       "101            Vancouver, British Columbia   \n",
       "102             Victoria, British Columbia   \n",
       "103             Victoria, British Columbia   \n",
       "104             Victoria, British Columbia   \n",
       "\n",
       "                                            Disability     Number Percent  \\\n",
       "0    Total population, with and without disabilities 7    167,550     100   \n",
       "1                            Persons with disabilities     37,350    22.3   \n",
       "2                         Persons without disabilities    130,250    77.7   \n",
       "3    Total population, with and without disabilities 7    331,300     100   \n",
       "4                            Persons with disabilities     94,350    28.5   \n",
       "..                                                 ...        ...     ...   \n",
       "100                          Persons with disabilities    410,510    20.5   \n",
       "101                       Persons without disabilities  1,591,390    79.5   \n",
       "102  Total population, with and without disabilities 7    307,700     100   \n",
       "103                          Persons with disabilities     89,250      29   \n",
       "104                       Persons without disabilities    218,450      71   \n",
       "\n",
       "           City                   Province  \n",
       "0    St. John's  Newfoundland and Labrador  \n",
       "1    St. John's  Newfoundland and Labrador  \n",
       "2    St. John's  Newfoundland and Labrador  \n",
       "3       Halifax                Nova Scotia  \n",
       "4       Halifax                Nova Scotia  \n",
       "..          ...                        ...  \n",
       "100   Vancouver           British Columbia  \n",
       "101   Vancouver           British Columbia  \n",
       "102    Victoria           British Columbia  \n",
       "103    Victoria           British Columbia  \n",
       "104    Victoria           British Columbia  \n",
       "\n",
       "[105 rows x 6 columns]"
      ]
     },
     "execution_count": 4,
     "metadata": {},
     "output_type": "execute_result"
    }
   ],
   "source": [
    "by_pop[[\"City\", \"Province\"]] = by_pop['Geography'].str.split(\",\", n=1, expand=True)\n",
    "by_pop['City'] = by_pop['City'].str.strip()\n",
    "by_pop['Province'] = by_pop['Province'].str.strip()\n",
    "by_pop"
   ]
  },
  {
   "cell_type": "code",
   "execution_count": 5,
   "metadata": {},
   "outputs": [],
   "source": [
    "def remove_integers(string):\n",
    "    return ''.join(i for i in string if not i.isdigit())\n",
    "\n",
    "def remove_commas_and_letters(value):\n",
    "    value = value.replace(',', '')  # Remove commas\n",
    "    value = re.sub('[^0-9]', '', value)  # Remove non-digit characters using regex\n",
    "    return int(value)\n",
    "\n",
    "def clean_and_convert_percent(percent_str):\n",
    "    # Remove any non-numeric characters, except for '.'\n",
    "    cleaned_str = ''.join(char for char in percent_str if char.isdigit() or char == '.')\n",
    "    return float(cleaned_str)"
   ]
  },
  {
   "cell_type": "code",
   "execution_count": 6,
   "metadata": {},
   "outputs": [],
   "source": [
    "# r'\\d+' checks to match any digits in the string\n",
    "by_pop['Province'] = by_pop['Province'].str.replace(r'\\d+', '', regex=True).str.strip()"
   ]
  },
  {
   "cell_type": "code",
   "execution_count": 7,
   "metadata": {},
   "outputs": [],
   "source": [
    "by_pop['Disability'] = by_pop[\"Disability\"].apply(remove_integers)\n",
    "by_pop['Number'] = by_pop[\"Number\"].apply(remove_commas_and_letters)\n",
    "by_pop['Percent'] = by_pop['Percent'].apply(clean_and_convert_percent)\n",
    "\n",
    "\n",
    "by_type[\"Disability type (grouped)\"] = by_type[\"Disability type (grouped)\"].apply(remove_integers)\n",
    "by_type['Number'] = by_type[\"Number\"].apply(remove_commas_and_letters)\n",
    "\n",
    "male_female['Potential to work'] = male_female[\"Potential to work\"].apply(remove_integers)\n",
    "male_female['Number'] = male_female[\"Number\"].apply(remove_commas_and_letters)"
   ]
  },
  {
   "cell_type": "code",
   "execution_count": 9,
   "metadata": {},
   "outputs": [
    {
     "data": {
      "text/html": [
       "<div>\n",
       "<style scoped>\n",
       "    .dataframe tbody tr th:only-of-type {\n",
       "        vertical-align: middle;\n",
       "    }\n",
       "\n",
       "    .dataframe tbody tr th {\n",
       "        vertical-align: top;\n",
       "    }\n",
       "\n",
       "    .dataframe thead th {\n",
       "        text-align: right;\n",
       "    }\n",
       "</style>\n",
       "<table border=\"1\" class=\"dataframe\">\n",
       "  <thead>\n",
       "    <tr style=\"text-align: right;\">\n",
       "      <th></th>\n",
       "      <th>Geography</th>\n",
       "      <th>Disability</th>\n",
       "      <th>Number</th>\n",
       "      <th>Percent</th>\n",
       "      <th>City</th>\n",
       "      <th>Province</th>\n",
       "    </tr>\n",
       "  </thead>\n",
       "  <tbody>\n",
       "    <tr>\n",
       "      <th>0</th>\n",
       "      <td>St. John's, Newfoundland and Labrador</td>\n",
       "      <td>Total population, with and without disabilities</td>\n",
       "      <td>167550</td>\n",
       "      <td>100.0</td>\n",
       "      <td>St. John's</td>\n",
       "      <td>Newfoundland and Labrador</td>\n",
       "    </tr>\n",
       "    <tr>\n",
       "      <th>1</th>\n",
       "      <td>St. John's, Newfoundland and Labrador</td>\n",
       "      <td>Persons with disabilities</td>\n",
       "      <td>37350</td>\n",
       "      <td>22.3</td>\n",
       "      <td>St. John's</td>\n",
       "      <td>Newfoundland and Labrador</td>\n",
       "    </tr>\n",
       "    <tr>\n",
       "      <th>2</th>\n",
       "      <td>St. John's, Newfoundland and Labrador</td>\n",
       "      <td>Persons without disabilities</td>\n",
       "      <td>130250</td>\n",
       "      <td>77.7</td>\n",
       "      <td>St. John's</td>\n",
       "      <td>Newfoundland and Labrador</td>\n",
       "    </tr>\n",
       "    <tr>\n",
       "      <th>3</th>\n",
       "      <td>Halifax, Nova Scotia</td>\n",
       "      <td>Total population, with and without disabilities</td>\n",
       "      <td>331300</td>\n",
       "      <td>100.0</td>\n",
       "      <td>Halifax</td>\n",
       "      <td>Nova Scotia</td>\n",
       "    </tr>\n",
       "    <tr>\n",
       "      <th>4</th>\n",
       "      <td>Halifax, Nova Scotia</td>\n",
       "      <td>Persons with disabilities</td>\n",
       "      <td>94350</td>\n",
       "      <td>28.5</td>\n",
       "      <td>Halifax</td>\n",
       "      <td>Nova Scotia</td>\n",
       "    </tr>\n",
       "  </tbody>\n",
       "</table>\n",
       "</div>"
      ],
      "text/plain": [
       "                               Geography  \\\n",
       "0  St. John's, Newfoundland and Labrador   \n",
       "1  St. John's, Newfoundland and Labrador   \n",
       "2  St. John's, Newfoundland and Labrador   \n",
       "3                   Halifax, Nova Scotia   \n",
       "4                   Halifax, Nova Scotia   \n",
       "\n",
       "                                         Disability  Number  Percent  \\\n",
       "0  Total population, with and without disabilities   167550    100.0   \n",
       "1                         Persons with disabilities   37350     22.3   \n",
       "2                      Persons without disabilities  130250     77.7   \n",
       "3  Total population, with and without disabilities   331300    100.0   \n",
       "4                         Persons with disabilities   94350     28.5   \n",
       "\n",
       "         City                   Province  \n",
       "0  St. John's  Newfoundland and Labrador  \n",
       "1  St. John's  Newfoundland and Labrador  \n",
       "2  St. John's  Newfoundland and Labrador  \n",
       "3     Halifax                Nova Scotia  \n",
       "4     Halifax                Nova Scotia  "
      ]
     },
     "metadata": {},
     "output_type": "display_data"
    },
    {
     "data": {
      "text/html": [
       "<div>\n",
       "<style scoped>\n",
       "    .dataframe tbody tr th:only-of-type {\n",
       "        vertical-align: middle;\n",
       "    }\n",
       "\n",
       "    .dataframe tbody tr th {\n",
       "        vertical-align: top;\n",
       "    }\n",
       "\n",
       "    .dataframe thead th {\n",
       "        text-align: right;\n",
       "    }\n",
       "</style>\n",
       "<table border=\"1\" class=\"dataframe\">\n",
       "  <thead>\n",
       "    <tr style=\"text-align: right;\">\n",
       "      <th></th>\n",
       "      <th>Disability type (grouped)</th>\n",
       "      <th>Number</th>\n",
       "    </tr>\n",
       "  </thead>\n",
       "  <tbody>\n",
       "    <tr>\n",
       "      <th>0</th>\n",
       "      <td>Total population with disabilities</td>\n",
       "      <td>3727920</td>\n",
       "    </tr>\n",
       "    <tr>\n",
       "      <th>1</th>\n",
       "      <td>Sensory disability</td>\n",
       "      <td>1364120</td>\n",
       "    </tr>\n",
       "    <tr>\n",
       "      <th>2</th>\n",
       "      <td>Physical disability</td>\n",
       "      <td>1958570</td>\n",
       "    </tr>\n",
       "    <tr>\n",
       "      <th>3</th>\n",
       "      <td>Pain-related disability</td>\n",
       "      <td>2512090</td>\n",
       "    </tr>\n",
       "    <tr>\n",
       "      <th>4</th>\n",
       "      <td>Mental health-related disability</td>\n",
       "      <td>1421270</td>\n",
       "    </tr>\n",
       "  </tbody>\n",
       "</table>\n",
       "</div>"
      ],
      "text/plain": [
       "              Disability type (grouped)   Number\n",
       "0  Total population with disabilities    3727920\n",
       "1                   Sensory disability   1364120\n",
       "2                  Physical disability   1958570\n",
       "3               Pain-related disability  2512090\n",
       "4      Mental health-related disability  1421270"
      ]
     },
     "metadata": {},
     "output_type": "display_data"
    },
    {
     "data": {
      "text/html": [
       "<div>\n",
       "<style scoped>\n",
       "    .dataframe tbody tr th:only-of-type {\n",
       "        vertical-align: middle;\n",
       "    }\n",
       "\n",
       "    .dataframe tbody tr th {\n",
       "        vertical-align: top;\n",
       "    }\n",
       "\n",
       "    .dataframe thead th {\n",
       "        text-align: right;\n",
       "    }\n",
       "</style>\n",
       "<table border=\"1\" class=\"dataframe\">\n",
       "  <thead>\n",
       "    <tr style=\"text-align: right;\">\n",
       "      <th></th>\n",
       "      <th>Sex</th>\n",
       "      <th>Potential to work</th>\n",
       "      <th>Number</th>\n",
       "      <th>Percent</th>\n",
       "    </tr>\n",
       "  </thead>\n",
       "  <tbody>\n",
       "    <tr>\n",
       "      <th>0</th>\n",
       "      <td>Both Sexes</td>\n",
       "      <td>Total, with or without work potential</td>\n",
       "      <td>1648460</td>\n",
       "      <td>100.0</td>\n",
       "    </tr>\n",
       "    <tr>\n",
       "      <th>1</th>\n",
       "      <td>Both Sexes</td>\n",
       "      <td>With work potential</td>\n",
       "      <td>644640</td>\n",
       "      <td>39.1</td>\n",
       "    </tr>\n",
       "    <tr>\n",
       "      <th>2</th>\n",
       "      <td>Both Sexes</td>\n",
       "      <td>Without work potential</td>\n",
       "      <td>1003820</td>\n",
       "      <td>60.9</td>\n",
       "    </tr>\n",
       "    <tr>\n",
       "      <th>3</th>\n",
       "      <td>Males</td>\n",
       "      <td>Total, with or without work potential</td>\n",
       "      <td>700120</td>\n",
       "      <td>100.0</td>\n",
       "    </tr>\n",
       "    <tr>\n",
       "      <th>4</th>\n",
       "      <td>Males</td>\n",
       "      <td>With work potential</td>\n",
       "      <td>294440</td>\n",
       "      <td>42.1</td>\n",
       "    </tr>\n",
       "  </tbody>\n",
       "</table>\n",
       "</div>"
      ],
      "text/plain": [
       "          Sex                       Potential to work   Number  Percent\n",
       "0  Both Sexes  Total, with or without work potential   1648460    100.0\n",
       "1  Both Sexes                    With work potential    644640     39.1\n",
       "2  Both Sexes                 Without work potential   1003820     60.9\n",
       "3       Males  Total, with or without work potential    700120    100.0\n",
       "4       Males                    With work potential    294440     42.1"
      ]
     },
     "metadata": {},
     "output_type": "display_data"
    },
    {
     "data": {
      "text/html": [
       "<div>\n",
       "<style scoped>\n",
       "    .dataframe tbody tr th:only-of-type {\n",
       "        vertical-align: middle;\n",
       "    }\n",
       "\n",
       "    .dataframe tbody tr th {\n",
       "        vertical-align: top;\n",
       "    }\n",
       "\n",
       "    .dataframe thead th {\n",
       "        text-align: right;\n",
       "    }\n",
       "</style>\n",
       "<table border=\"1\" class=\"dataframe\">\n",
       "  <thead>\n",
       "    <tr style=\"text-align: right;\">\n",
       "      <th></th>\n",
       "      <th>Age Group</th>\n",
       "      <th>Disabilities</th>\n",
       "      <th>Milder</th>\n",
       "      <th>Severe</th>\n",
       "      <th>Gender</th>\n",
       "      <th>Employment Percent</th>\n",
       "    </tr>\n",
       "  </thead>\n",
       "  <tbody>\n",
       "    <tr>\n",
       "      <th>0</th>\n",
       "      <td>25-34 years</td>\n",
       "      <td>0</td>\n",
       "      <td>0</td>\n",
       "      <td>0</td>\n",
       "      <td>Women</td>\n",
       "      <td>77.3</td>\n",
       "    </tr>\n",
       "    <tr>\n",
       "      <th>1</th>\n",
       "      <td>25-34 years</td>\n",
       "      <td>0</td>\n",
       "      <td>0</td>\n",
       "      <td>0</td>\n",
       "      <td>Men</td>\n",
       "      <td>65.0</td>\n",
       "    </tr>\n",
       "    <tr>\n",
       "      <th>2</th>\n",
       "      <td>25-34 years</td>\n",
       "      <td>0</td>\n",
       "      <td>0</td>\n",
       "      <td>0</td>\n",
       "      <td>Both</td>\n",
       "      <td>81.8</td>\n",
       "    </tr>\n",
       "    <tr>\n",
       "      <th>3</th>\n",
       "      <td>35-44 years</td>\n",
       "      <td>0</td>\n",
       "      <td>0</td>\n",
       "      <td>0</td>\n",
       "      <td>Women</td>\n",
       "      <td>81.7</td>\n",
       "    </tr>\n",
       "    <tr>\n",
       "      <th>4</th>\n",
       "      <td>35-44 years</td>\n",
       "      <td>0</td>\n",
       "      <td>0</td>\n",
       "      <td>0</td>\n",
       "      <td>Men</td>\n",
       "      <td>89.5</td>\n",
       "    </tr>\n",
       "  </tbody>\n",
       "</table>\n",
       "</div>"
      ],
      "text/plain": [
       "     Age Group  Disabilities  Milder  Severe Gender  Employment Percent\n",
       "0  25-34 years             0       0       0  Women                77.3\n",
       "1  25-34 years             0       0       0    Men                65.0\n",
       "2  25-34 years             0       0       0   Both                81.8\n",
       "3  35-44 years             0       0       0  Women                81.7\n",
       "4  35-44 years             0       0       0    Men                89.5"
      ]
     },
     "metadata": {},
     "output_type": "display_data"
    }
   ],
   "source": [
    "display(by_pop.head(), by_type.head(), male_female.head(), employment.head())"
   ]
  },
  {
   "cell_type": "code",
   "execution_count": 10,
   "metadata": {},
   "outputs": [
    {
     "data": {
      "application/vnd.plotly.v1+json": {
       "config": {
        "plotlyServerURL": "https://plot.ly"
       },
       "data": [
        {
         "alignmentgroup": "True",
         "bingroup": "x",
         "histfunc": "sum",
         "hovertemplate": "Number=3727920<br>Disability type (grouped)=%{x}<br>sum of Number=%{y}<extra></extra>",
         "legendgroup": "3727920",
         "marker": {
          "color": "#636efa",
          "pattern": {
           "shape": ""
          }
         },
         "name": "3727920",
         "offsetgroup": "3727920",
         "orientation": "v",
         "showlegend": false,
         "type": "histogram",
         "x": [
          "Total population with disabilities  "
         ],
         "xaxis": "x",
         "y": [
          3727920
         ],
         "yaxis": "y"
        },
        {
         "alignmentgroup": "True",
         "bingroup": "x",
         "histfunc": "sum",
         "hovertemplate": "Number=2512090<br>Disability type (grouped)=%{x}<br>sum of Number=%{y}<extra></extra>",
         "legendgroup": "2512090",
         "marker": {
          "color": "#EF553B",
          "pattern": {
           "shape": ""
          }
         },
         "name": "2512090",
         "offsetgroup": "2512090",
         "orientation": "v",
         "showlegend": false,
         "type": "histogram",
         "x": [
          "Pain-related disability"
         ],
         "xaxis": "x",
         "y": [
          2512090
         ],
         "yaxis": "y"
        },
        {
         "alignmentgroup": "True",
         "bingroup": "x",
         "histfunc": "sum",
         "hovertemplate": "Number=1958570<br>Disability type (grouped)=%{x}<br>sum of Number=%{y}<extra></extra>",
         "legendgroup": "1958570",
         "marker": {
          "color": "#00cc96",
          "pattern": {
           "shape": ""
          }
         },
         "name": "1958570",
         "offsetgroup": "1958570",
         "orientation": "v",
         "showlegend": false,
         "type": "histogram",
         "x": [
          "Physical disability "
         ],
         "xaxis": "x",
         "y": [
          1958570
         ],
         "yaxis": "y"
        },
        {
         "alignmentgroup": "True",
         "bingroup": "x",
         "histfunc": "sum",
         "hovertemplate": "Number=1421270<br>Disability type (grouped)=%{x}<br>sum of Number=%{y}<extra></extra>",
         "legendgroup": "1421270",
         "marker": {
          "color": "#ab63fa",
          "pattern": {
           "shape": ""
          }
         },
         "name": "1421270",
         "offsetgroup": "1421270",
         "orientation": "v",
         "showlegend": false,
         "type": "histogram",
         "x": [
          "Mental health-related disability"
         ],
         "xaxis": "x",
         "y": [
          1421270
         ],
         "yaxis": "y"
        },
        {
         "alignmentgroup": "True",
         "bingroup": "x",
         "histfunc": "sum",
         "hovertemplate": "Number=1364120<br>Disability type (grouped)=%{x}<br>sum of Number=%{y}<extra></extra>",
         "legendgroup": "1364120",
         "marker": {
          "color": "#FFA15A",
          "pattern": {
           "shape": ""
          }
         },
         "name": "1364120",
         "offsetgroup": "1364120",
         "orientation": "v",
         "showlegend": false,
         "type": "histogram",
         "x": [
          "Sensory disability "
         ],
         "xaxis": "x",
         "y": [
          1364120
         ],
         "yaxis": "y"
        },
        {
         "alignmentgroup": "True",
         "bingroup": "x",
         "histfunc": "sum",
         "hovertemplate": "Number=1090120<br>Disability type (grouped)=%{x}<br>sum of Number=%{y}<extra></extra>",
         "legendgroup": "1090120",
         "marker": {
          "color": "#19d3f3",
          "pattern": {
           "shape": ""
          }
         },
         "name": "1090120",
         "offsetgroup": "1090120",
         "orientation": "v",
         "showlegend": false,
         "type": "histogram",
         "x": [
          "Cognitive disability "
         ],
         "xaxis": "x",
         "y": [
          1090120
         ],
         "yaxis": "y"
        },
        {
         "alignmentgroup": "True",
         "bingroup": "x",
         "histfunc": "sum",
         "hovertemplate": "Number=99740<br>Disability type (grouped)=%{x}<br>sum of Number=%{y}<extra></extra>",
         "legendgroup": "99740",
         "marker": {
          "color": "#FF6692",
          "pattern": {
           "shape": ""
          }
         },
         "name": "99740",
         "offsetgroup": "99740",
         "orientation": "v",
         "showlegend": false,
         "type": "histogram",
         "x": [
          "Unknown disability"
         ],
         "xaxis": "x",
         "y": [
          99740
         ],
         "yaxis": "y"
        }
       ],
       "layout": {
        "barmode": "relative",
        "legend": {
         "title": {
          "text": "Number"
         },
         "tracegroupgap": 0
        },
        "margin": {
         "t": 60
        },
        "template": {
         "data": {
          "bar": [
           {
            "error_x": {
             "color": "#2a3f5f"
            },
            "error_y": {
             "color": "#2a3f5f"
            },
            "marker": {
             "line": {
              "color": "#E5ECF6",
              "width": 0.5
             },
             "pattern": {
              "fillmode": "overlay",
              "size": 10,
              "solidity": 0.2
             }
            },
            "type": "bar"
           }
          ],
          "barpolar": [
           {
            "marker": {
             "line": {
              "color": "#E5ECF6",
              "width": 0.5
             },
             "pattern": {
              "fillmode": "overlay",
              "size": 10,
              "solidity": 0.2
             }
            },
            "type": "barpolar"
           }
          ],
          "carpet": [
           {
            "aaxis": {
             "endlinecolor": "#2a3f5f",
             "gridcolor": "white",
             "linecolor": "white",
             "minorgridcolor": "white",
             "startlinecolor": "#2a3f5f"
            },
            "baxis": {
             "endlinecolor": "#2a3f5f",
             "gridcolor": "white",
             "linecolor": "white",
             "minorgridcolor": "white",
             "startlinecolor": "#2a3f5f"
            },
            "type": "carpet"
           }
          ],
          "choropleth": [
           {
            "colorbar": {
             "outlinewidth": 0,
             "ticks": ""
            },
            "type": "choropleth"
           }
          ],
          "contour": [
           {
            "colorbar": {
             "outlinewidth": 0,
             "ticks": ""
            },
            "colorscale": [
             [
              0,
              "#0d0887"
             ],
             [
              0.1111111111111111,
              "#46039f"
             ],
             [
              0.2222222222222222,
              "#7201a8"
             ],
             [
              0.3333333333333333,
              "#9c179e"
             ],
             [
              0.4444444444444444,
              "#bd3786"
             ],
             [
              0.5555555555555556,
              "#d8576b"
             ],
             [
              0.6666666666666666,
              "#ed7953"
             ],
             [
              0.7777777777777778,
              "#fb9f3a"
             ],
             [
              0.8888888888888888,
              "#fdca26"
             ],
             [
              1,
              "#f0f921"
             ]
            ],
            "type": "contour"
           }
          ],
          "contourcarpet": [
           {
            "colorbar": {
             "outlinewidth": 0,
             "ticks": ""
            },
            "type": "contourcarpet"
           }
          ],
          "heatmap": [
           {
            "colorbar": {
             "outlinewidth": 0,
             "ticks": ""
            },
            "colorscale": [
             [
              0,
              "#0d0887"
             ],
             [
              0.1111111111111111,
              "#46039f"
             ],
             [
              0.2222222222222222,
              "#7201a8"
             ],
             [
              0.3333333333333333,
              "#9c179e"
             ],
             [
              0.4444444444444444,
              "#bd3786"
             ],
             [
              0.5555555555555556,
              "#d8576b"
             ],
             [
              0.6666666666666666,
              "#ed7953"
             ],
             [
              0.7777777777777778,
              "#fb9f3a"
             ],
             [
              0.8888888888888888,
              "#fdca26"
             ],
             [
              1,
              "#f0f921"
             ]
            ],
            "type": "heatmap"
           }
          ],
          "heatmapgl": [
           {
            "colorbar": {
             "outlinewidth": 0,
             "ticks": ""
            },
            "colorscale": [
             [
              0,
              "#0d0887"
             ],
             [
              0.1111111111111111,
              "#46039f"
             ],
             [
              0.2222222222222222,
              "#7201a8"
             ],
             [
              0.3333333333333333,
              "#9c179e"
             ],
             [
              0.4444444444444444,
              "#bd3786"
             ],
             [
              0.5555555555555556,
              "#d8576b"
             ],
             [
              0.6666666666666666,
              "#ed7953"
             ],
             [
              0.7777777777777778,
              "#fb9f3a"
             ],
             [
              0.8888888888888888,
              "#fdca26"
             ],
             [
              1,
              "#f0f921"
             ]
            ],
            "type": "heatmapgl"
           }
          ],
          "histogram": [
           {
            "marker": {
             "pattern": {
              "fillmode": "overlay",
              "size": 10,
              "solidity": 0.2
             }
            },
            "type": "histogram"
           }
          ],
          "histogram2d": [
           {
            "colorbar": {
             "outlinewidth": 0,
             "ticks": ""
            },
            "colorscale": [
             [
              0,
              "#0d0887"
             ],
             [
              0.1111111111111111,
              "#46039f"
             ],
             [
              0.2222222222222222,
              "#7201a8"
             ],
             [
              0.3333333333333333,
              "#9c179e"
             ],
             [
              0.4444444444444444,
              "#bd3786"
             ],
             [
              0.5555555555555556,
              "#d8576b"
             ],
             [
              0.6666666666666666,
              "#ed7953"
             ],
             [
              0.7777777777777778,
              "#fb9f3a"
             ],
             [
              0.8888888888888888,
              "#fdca26"
             ],
             [
              1,
              "#f0f921"
             ]
            ],
            "type": "histogram2d"
           }
          ],
          "histogram2dcontour": [
           {
            "colorbar": {
             "outlinewidth": 0,
             "ticks": ""
            },
            "colorscale": [
             [
              0,
              "#0d0887"
             ],
             [
              0.1111111111111111,
              "#46039f"
             ],
             [
              0.2222222222222222,
              "#7201a8"
             ],
             [
              0.3333333333333333,
              "#9c179e"
             ],
             [
              0.4444444444444444,
              "#bd3786"
             ],
             [
              0.5555555555555556,
              "#d8576b"
             ],
             [
              0.6666666666666666,
              "#ed7953"
             ],
             [
              0.7777777777777778,
              "#fb9f3a"
             ],
             [
              0.8888888888888888,
              "#fdca26"
             ],
             [
              1,
              "#f0f921"
             ]
            ],
            "type": "histogram2dcontour"
           }
          ],
          "mesh3d": [
           {
            "colorbar": {
             "outlinewidth": 0,
             "ticks": ""
            },
            "type": "mesh3d"
           }
          ],
          "parcoords": [
           {
            "line": {
             "colorbar": {
              "outlinewidth": 0,
              "ticks": ""
             }
            },
            "type": "parcoords"
           }
          ],
          "pie": [
           {
            "automargin": true,
            "type": "pie"
           }
          ],
          "scatter": [
           {
            "fillpattern": {
             "fillmode": "overlay",
             "size": 10,
             "solidity": 0.2
            },
            "type": "scatter"
           }
          ],
          "scatter3d": [
           {
            "line": {
             "colorbar": {
              "outlinewidth": 0,
              "ticks": ""
             }
            },
            "marker": {
             "colorbar": {
              "outlinewidth": 0,
              "ticks": ""
             }
            },
            "type": "scatter3d"
           }
          ],
          "scattercarpet": [
           {
            "marker": {
             "colorbar": {
              "outlinewidth": 0,
              "ticks": ""
             }
            },
            "type": "scattercarpet"
           }
          ],
          "scattergeo": [
           {
            "marker": {
             "colorbar": {
              "outlinewidth": 0,
              "ticks": ""
             }
            },
            "type": "scattergeo"
           }
          ],
          "scattergl": [
           {
            "marker": {
             "colorbar": {
              "outlinewidth": 0,
              "ticks": ""
             }
            },
            "type": "scattergl"
           }
          ],
          "scattermapbox": [
           {
            "marker": {
             "colorbar": {
              "outlinewidth": 0,
              "ticks": ""
             }
            },
            "type": "scattermapbox"
           }
          ],
          "scatterpolar": [
           {
            "marker": {
             "colorbar": {
              "outlinewidth": 0,
              "ticks": ""
             }
            },
            "type": "scatterpolar"
           }
          ],
          "scatterpolargl": [
           {
            "marker": {
             "colorbar": {
              "outlinewidth": 0,
              "ticks": ""
             }
            },
            "type": "scatterpolargl"
           }
          ],
          "scatterternary": [
           {
            "marker": {
             "colorbar": {
              "outlinewidth": 0,
              "ticks": ""
             }
            },
            "type": "scatterternary"
           }
          ],
          "surface": [
           {
            "colorbar": {
             "outlinewidth": 0,
             "ticks": ""
            },
            "colorscale": [
             [
              0,
              "#0d0887"
             ],
             [
              0.1111111111111111,
              "#46039f"
             ],
             [
              0.2222222222222222,
              "#7201a8"
             ],
             [
              0.3333333333333333,
              "#9c179e"
             ],
             [
              0.4444444444444444,
              "#bd3786"
             ],
             [
              0.5555555555555556,
              "#d8576b"
             ],
             [
              0.6666666666666666,
              "#ed7953"
             ],
             [
              0.7777777777777778,
              "#fb9f3a"
             ],
             [
              0.8888888888888888,
              "#fdca26"
             ],
             [
              1,
              "#f0f921"
             ]
            ],
            "type": "surface"
           }
          ],
          "table": [
           {
            "cells": {
             "fill": {
              "color": "#EBF0F8"
             },
             "line": {
              "color": "white"
             }
            },
            "header": {
             "fill": {
              "color": "#C8D4E3"
             },
             "line": {
              "color": "white"
             }
            },
            "type": "table"
           }
          ]
         },
         "layout": {
          "annotationdefaults": {
           "arrowcolor": "#2a3f5f",
           "arrowhead": 0,
           "arrowwidth": 1
          },
          "autotypenumbers": "strict",
          "coloraxis": {
           "colorbar": {
            "outlinewidth": 0,
            "ticks": ""
           }
          },
          "colorscale": {
           "diverging": [
            [
             0,
             "#8e0152"
            ],
            [
             0.1,
             "#c51b7d"
            ],
            [
             0.2,
             "#de77ae"
            ],
            [
             0.3,
             "#f1b6da"
            ],
            [
             0.4,
             "#fde0ef"
            ],
            [
             0.5,
             "#f7f7f7"
            ],
            [
             0.6,
             "#e6f5d0"
            ],
            [
             0.7,
             "#b8e186"
            ],
            [
             0.8,
             "#7fbc41"
            ],
            [
             0.9,
             "#4d9221"
            ],
            [
             1,
             "#276419"
            ]
           ],
           "sequential": [
            [
             0,
             "#0d0887"
            ],
            [
             0.1111111111111111,
             "#46039f"
            ],
            [
             0.2222222222222222,
             "#7201a8"
            ],
            [
             0.3333333333333333,
             "#9c179e"
            ],
            [
             0.4444444444444444,
             "#bd3786"
            ],
            [
             0.5555555555555556,
             "#d8576b"
            ],
            [
             0.6666666666666666,
             "#ed7953"
            ],
            [
             0.7777777777777778,
             "#fb9f3a"
            ],
            [
             0.8888888888888888,
             "#fdca26"
            ],
            [
             1,
             "#f0f921"
            ]
           ],
           "sequentialminus": [
            [
             0,
             "#0d0887"
            ],
            [
             0.1111111111111111,
             "#46039f"
            ],
            [
             0.2222222222222222,
             "#7201a8"
            ],
            [
             0.3333333333333333,
             "#9c179e"
            ],
            [
             0.4444444444444444,
             "#bd3786"
            ],
            [
             0.5555555555555556,
             "#d8576b"
            ],
            [
             0.6666666666666666,
             "#ed7953"
            ],
            [
             0.7777777777777778,
             "#fb9f3a"
            ],
            [
             0.8888888888888888,
             "#fdca26"
            ],
            [
             1,
             "#f0f921"
            ]
           ]
          },
          "colorway": [
           "#636efa",
           "#EF553B",
           "#00cc96",
           "#ab63fa",
           "#FFA15A",
           "#19d3f3",
           "#FF6692",
           "#B6E880",
           "#FF97FF",
           "#FECB52"
          ],
          "font": {
           "color": "#2a3f5f"
          },
          "geo": {
           "bgcolor": "white",
           "lakecolor": "white",
           "landcolor": "#E5ECF6",
           "showlakes": true,
           "showland": true,
           "subunitcolor": "white"
          },
          "hoverlabel": {
           "align": "left"
          },
          "hovermode": "closest",
          "mapbox": {
           "style": "light"
          },
          "paper_bgcolor": "white",
          "plot_bgcolor": "#E5ECF6",
          "polar": {
           "angularaxis": {
            "gridcolor": "white",
            "linecolor": "white",
            "ticks": ""
           },
           "bgcolor": "#E5ECF6",
           "radialaxis": {
            "gridcolor": "white",
            "linecolor": "white",
            "ticks": ""
           }
          },
          "scene": {
           "xaxis": {
            "backgroundcolor": "#E5ECF6",
            "gridcolor": "white",
            "gridwidth": 2,
            "linecolor": "white",
            "showbackground": true,
            "ticks": "",
            "zerolinecolor": "white"
           },
           "yaxis": {
            "backgroundcolor": "#E5ECF6",
            "gridcolor": "white",
            "gridwidth": 2,
            "linecolor": "white",
            "showbackground": true,
            "ticks": "",
            "zerolinecolor": "white"
           },
           "zaxis": {
            "backgroundcolor": "#E5ECF6",
            "gridcolor": "white",
            "gridwidth": 2,
            "linecolor": "white",
            "showbackground": true,
            "ticks": "",
            "zerolinecolor": "white"
           }
          },
          "shapedefaults": {
           "line": {
            "color": "#2a3f5f"
           }
          },
          "ternary": {
           "aaxis": {
            "gridcolor": "white",
            "linecolor": "white",
            "ticks": ""
           },
           "baxis": {
            "gridcolor": "white",
            "linecolor": "white",
            "ticks": ""
           },
           "bgcolor": "#E5ECF6",
           "caxis": {
            "gridcolor": "white",
            "linecolor": "white",
            "ticks": ""
           }
          },
          "title": {
           "x": 0.05
          },
          "xaxis": {
           "automargin": true,
           "gridcolor": "white",
           "linecolor": "white",
           "ticks": "",
           "title": {
            "standoff": 15
           },
           "zerolinecolor": "white",
           "zerolinewidth": 2
          },
          "yaxis": {
           "automargin": true,
           "gridcolor": "white",
           "linecolor": "white",
           "ticks": "",
           "title": {
            "standoff": 15
           },
           "zerolinecolor": "white",
           "zerolinewidth": 2
          }
         }
        },
        "xaxis": {
         "anchor": "y",
         "domain": [
          0,
          1
         ],
         "title": {
          "text": "Disability type (grouped)"
         }
        },
        "yaxis": {
         "anchor": "x",
         "categoryarray": [
          99740,
          1090120,
          1364120,
          1421270,
          1958570,
          2512090,
          3727920
         ],
         "categoryorder": "array",
         "domain": [
          0,
          1
         ],
         "title": {
          "text": "sum of Number"
         }
        }
       }
      }
     },
     "metadata": {},
     "output_type": "display_data"
    }
   ],
   "source": [
    "by_type = by_type.sort_values(by='Number', ascending=False)\n",
    "by_type_fig = px.histogram(by_type, x=\"Disability type (grouped)\", y=\"Number\", color=\"Number\")\n",
    "by_type_fig.update_traces(showlegend=False).show()"
   ]
  },
  {
   "cell_type": "code",
   "execution_count": 45,
   "metadata": {},
   "outputs": [
    {
     "name": "stdout",
     "output_type": "stream",
     "text": [
      "Highest Percent with Disabilities: \n"
     ]
    },
    {
     "data": {
      "text/html": [
       "<div>\n",
       "<style scoped>\n",
       "    .dataframe tbody tr th:only-of-type {\n",
       "        vertical-align: middle;\n",
       "    }\n",
       "\n",
       "    .dataframe tbody tr th {\n",
       "        vertical-align: top;\n",
       "    }\n",
       "\n",
       "    .dataframe thead th {\n",
       "        text-align: right;\n",
       "    }\n",
       "</style>\n",
       "<table border=\"1\" class=\"dataframe\">\n",
       "  <thead>\n",
       "    <tr style=\"text-align: right;\">\n",
       "      <th></th>\n",
       "      <th>Geography</th>\n",
       "      <th>Disability</th>\n",
       "      <th>Number</th>\n",
       "      <th>Percent</th>\n",
       "      <th>City</th>\n",
       "      <th>Province</th>\n",
       "    </tr>\n",
       "  </thead>\n",
       "  <tbody>\n",
       "    <tr>\n",
       "      <th>0</th>\n",
       "      <td>Belleville, Ontario</td>\n",
       "      <td>Persons with disabilities</td>\n",
       "      <td>36750</td>\n",
       "      <td>43.5</td>\n",
       "      <td>Belleville</td>\n",
       "      <td>Ontario</td>\n",
       "    </tr>\n",
       "  </tbody>\n",
       "</table>\n",
       "</div>"
      ],
      "text/plain": [
       "             Geography                 Disability  Number  Percent  \\\n",
       "0  Belleville, Ontario  Persons with disabilities   36750     43.5   \n",
       "\n",
       "         City Province  \n",
       "0  Belleville  Ontario  "
      ]
     },
     "metadata": {},
     "output_type": "display_data"
    },
    {
     "name": "stdout",
     "output_type": "stream",
     "text": [
      "Highest Percent without Disabilties: \n"
     ]
    },
    {
     "data": {
      "text/html": [
       "<div>\n",
       "<style scoped>\n",
       "    .dataframe tbody tr th:only-of-type {\n",
       "        vertical-align: middle;\n",
       "    }\n",
       "\n",
       "    .dataframe tbody tr th {\n",
       "        vertical-align: top;\n",
       "    }\n",
       "\n",
       "    .dataframe thead th {\n",
       "        text-align: right;\n",
       "    }\n",
       "</style>\n",
       "<table border=\"1\" class=\"dataframe\">\n",
       "  <thead>\n",
       "    <tr style=\"text-align: right;\">\n",
       "      <th></th>\n",
       "      <th>Geography</th>\n",
       "      <th>Disability</th>\n",
       "      <th>Number</th>\n",
       "      <th>Percent</th>\n",
       "      <th>City</th>\n",
       "      <th>Province</th>\n",
       "    </tr>\n",
       "  </thead>\n",
       "  <tbody>\n",
       "    <tr>\n",
       "      <th>0</th>\n",
       "      <td>Trois-Rivières, Quebec</td>\n",
       "      <td>Persons without disabilities</td>\n",
       "      <td>103750</td>\n",
       "      <td>88.0</td>\n",
       "      <td>Trois-Rivières</td>\n",
       "      <td>Quebec</td>\n",
       "    </tr>\n",
       "  </tbody>\n",
       "</table>\n",
       "</div>"
      ],
      "text/plain": [
       "                Geography                    Disability  Number  Percent  \\\n",
       "0  Trois-Rivières, Quebec  Persons without disabilities  103750     88.0   \n",
       "\n",
       "             City Province  \n",
       "0  Trois-Rivières   Quebec  "
      ]
     },
     "metadata": {},
     "output_type": "display_data"
    },
    {
     "name": "stdout",
     "output_type": "stream",
     "text": [
      "Lowest Percent with Disabilities: \n"
     ]
    },
    {
     "data": {
      "text/html": [
       "<div>\n",
       "<style scoped>\n",
       "    .dataframe tbody tr th:only-of-type {\n",
       "        vertical-align: middle;\n",
       "    }\n",
       "\n",
       "    .dataframe tbody tr th {\n",
       "        vertical-align: top;\n",
       "    }\n",
       "\n",
       "    .dataframe thead th {\n",
       "        text-align: right;\n",
       "    }\n",
       "</style>\n",
       "<table border=\"1\" class=\"dataframe\">\n",
       "  <thead>\n",
       "    <tr style=\"text-align: right;\">\n",
       "      <th></th>\n",
       "      <th>Geography</th>\n",
       "      <th>Disability</th>\n",
       "      <th>Number</th>\n",
       "      <th>Percent</th>\n",
       "      <th>City</th>\n",
       "      <th>Province</th>\n",
       "    </tr>\n",
       "  </thead>\n",
       "  <tbody>\n",
       "    <tr>\n",
       "      <th>0</th>\n",
       "      <td>Trois-Rivières, Quebec</td>\n",
       "      <td>Persons with disabilities</td>\n",
       "      <td>14200</td>\n",
       "      <td>12.0</td>\n",
       "      <td>Trois-Rivières</td>\n",
       "      <td>Quebec</td>\n",
       "    </tr>\n",
       "  </tbody>\n",
       "</table>\n",
       "</div>"
      ],
      "text/plain": [
       "                Geography                 Disability  Number  Percent  \\\n",
       "0  Trois-Rivières, Quebec  Persons with disabilities   14200     12.0   \n",
       "\n",
       "             City Province  \n",
       "0  Trois-Rivières   Quebec  "
      ]
     },
     "metadata": {},
     "output_type": "display_data"
    },
    {
     "name": "stdout",
     "output_type": "stream",
     "text": [
      "Lowest Percent without Disabilties: \n"
     ]
    },
    {
     "data": {
      "text/html": [
       "<div>\n",
       "<style scoped>\n",
       "    .dataframe tbody tr th:only-of-type {\n",
       "        vertical-align: middle;\n",
       "    }\n",
       "\n",
       "    .dataframe tbody tr th {\n",
       "        vertical-align: top;\n",
       "    }\n",
       "\n",
       "    .dataframe thead th {\n",
       "        text-align: right;\n",
       "    }\n",
       "</style>\n",
       "<table border=\"1\" class=\"dataframe\">\n",
       "  <thead>\n",
       "    <tr style=\"text-align: right;\">\n",
       "      <th></th>\n",
       "      <th>Geography</th>\n",
       "      <th>Disability</th>\n",
       "      <th>Number</th>\n",
       "      <th>Percent</th>\n",
       "      <th>City</th>\n",
       "      <th>Province</th>\n",
       "    </tr>\n",
       "  </thead>\n",
       "  <tbody>\n",
       "    <tr>\n",
       "      <th>0</th>\n",
       "      <td>Belleville, Ontario</td>\n",
       "      <td>Persons without disabilities</td>\n",
       "      <td>47800</td>\n",
       "      <td>56.5</td>\n",
       "      <td>Belleville</td>\n",
       "      <td>Ontario</td>\n",
       "    </tr>\n",
       "  </tbody>\n",
       "</table>\n",
       "</div>"
      ],
      "text/plain": [
       "             Geography                    Disability  Number  Percent  \\\n",
       "0  Belleville, Ontario  Persons without disabilities   47800     56.5   \n",
       "\n",
       "         City Province  \n",
       "0  Belleville  Ontario  "
      ]
     },
     "metadata": {},
     "output_type": "display_data"
    }
   ],
   "source": [
    "filtered_df_with= by_pop.loc[(by_pop['Percent'] != 100) & (by_pop['Disability'] == 'Persons with disabilities')]\n",
    "filtered_df_without= by_pop.loc[(by_pop['Percent'] != 100) & (by_pop['Disability'] == 'Persons without disabilities')]\n",
    "\n",
    "maximum_with = filtered_df_with[filtered_df_with.Percent == filtered_df_with.Percent.max()].reset_index(drop=True)\n",
    "maximum_without = filtered_df_without[filtered_df_without.Percent == filtered_df_without.Percent.max()].reset_index(drop=True)\n",
    "minimum_without = filtered_df_without[filtered_df_without.Percent == filtered_df_without.Percent.min()].reset_index(drop=True)\n",
    "minimum_with = filtered_df_with[filtered_df_with.Percent == filtered_df_with.Percent.min()].reset_index(drop=True)\n",
    "\n",
    "print(\"Highest Percent with Disabilities: \")\n",
    "display(maximum_with)\n",
    "\n",
    "print(\"Highest Percent without Disabilties: \")\n",
    "display(maximum_without)\n",
    "\n",
    "print(\"Lowest Percent with Disabilities: \")\n",
    "display(minimum_with)\n",
    "\n",
    "print(\"Lowest Percent without Disabilties: \")\n",
    "display(minimum_without)"
   ]
  },
  {
   "cell_type": "code",
   "execution_count": null,
   "metadata": {},
   "outputs": [
    {
     "data": {
      "application/vnd.plotly.v1+json": {
       "config": {
        "plotlyServerURL": "https://plot.ly"
       },
       "data": [
        {
         "branchvalues": "total",
         "domain": {
          "x": [
           0,
           1
          ],
          "y": [
           0,
           1
          ]
         },
         "hovertemplate": "labels=%{label}<br>Number=%{value}<br>parent=%{parent}<br>id=%{id}<extra></extra>",
         "ids": [
          "Canada/British Columbia/Abbotsford-Mission/Persons with disabilities",
          "Canada/Ontario/Barrie/Persons with disabilities",
          "Canada/Ontario/Belleville/Persons with disabilities",
          "Canada/Ontario/Brantford/Persons with disabilities",
          "Canada/Alberta/Calgary/Persons with disabilities",
          "Canada/Alberta/Edmonton/Persons with disabilities",
          "Canada/Ontario/Greater Sudbury/Persons with disabilities",
          "Canada/Ontario/Guelph/Persons with disabilities",
          "Canada/Nova Scotia/Halifax/Persons with disabilities",
          "Canada/Ontario/Hamilton/Persons with disabilities",
          "Canada/British Columbia/Kelowna/Persons with disabilities",
          "Canada/Ontario/Kingston/Persons with disabilities",
          "Canada/Ontario/Kitchener-Cambridge-Waterloo/Persons with disabilities",
          "Canada/Alberta/Lethbridge/Persons with disabilities",
          "Canada/Ontario/London/Persons with disabilities",
          "Canada/New Brunswick/Moncton/Persons with disabilities",
          "Canada/Quebec/Montréal/Persons with disabilities",
          "Canada/Ontario/Oshawa/Persons with disabilities",
          "Canada/Ontario/Quebec/Ottawa - Gatineau/Persons with disabilities",
          "Canada/Ontario/Peterborough/Persons with disabilities",
          "Canada/Quebec/Québec/Persons with disabilities",
          "Canada/Saskatchewan/Regina/Persons with disabilities",
          "Canada/Quebec/Saguenay/Persons with disabilities",
          "Canada/New Brunswick/Saint John/Persons with disabilities",
          "Canada/Saskatchewan/Saskatoon/Persons with disabilities",
          "Canada/Quebec/Sherbrooke/Persons with disabilities",
          "Canada/Ontario/St. Catharines-Niagara/Persons with disabilities",
          "Canada/Newfoundland and Labrador/St. John's/Persons with disabilities",
          "Canada/Ontario/Thunder Bay/Persons with disabilities",
          "Canada/Ontario/Toronto/Persons with disabilities",
          "Canada/Quebec/Trois-Rivières/Persons with disabilities",
          "Canada/British Columbia/Vancouver/Persons with disabilities",
          "Canada/British Columbia/Victoria/Persons with disabilities",
          "Canada/Ontario/Windsor/Persons with disabilities",
          "Canada/Manitoba/Winnipeg/Persons with disabilities",
          "Canada/British Columbia/Abbotsford-Mission/Persons without disabilities",
          "Canada/Ontario/Barrie/Persons without disabilities",
          "Canada/Ontario/Belleville/Persons without disabilities",
          "Canada/Ontario/Brantford/Persons without disabilities",
          "Canada/Alberta/Calgary/Persons without disabilities",
          "Canada/Alberta/Edmonton/Persons without disabilities",
          "Canada/Ontario/Greater Sudbury/Persons without disabilities",
          "Canada/Ontario/Guelph/Persons without disabilities",
          "Canada/Nova Scotia/Halifax/Persons without disabilities",
          "Canada/Ontario/Hamilton/Persons without disabilities",
          "Canada/British Columbia/Kelowna/Persons without disabilities",
          "Canada/Ontario/Kingston/Persons without disabilities",
          "Canada/Ontario/Kitchener-Cambridge-Waterloo/Persons without disabilities",
          "Canada/Alberta/Lethbridge/Persons without disabilities",
          "Canada/Ontario/London/Persons without disabilities",
          "Canada/New Brunswick/Moncton/Persons without disabilities",
          "Canada/Quebec/Montréal/Persons without disabilities",
          "Canada/Ontario/Oshawa/Persons without disabilities",
          "Canada/Ontario/Quebec/Ottawa - Gatineau/Persons without disabilities",
          "Canada/Ontario/Peterborough/Persons without disabilities",
          "Canada/Quebec/Québec/Persons without disabilities",
          "Canada/Saskatchewan/Regina/Persons without disabilities",
          "Canada/Quebec/Saguenay/Persons without disabilities",
          "Canada/New Brunswick/Saint John/Persons without disabilities",
          "Canada/Saskatchewan/Saskatoon/Persons without disabilities",
          "Canada/Quebec/Sherbrooke/Persons without disabilities",
          "Canada/Ontario/St. Catharines-Niagara/Persons without disabilities",
          "Canada/Newfoundland and Labrador/St. John's/Persons without disabilities",
          "Canada/Ontario/Thunder Bay/Persons without disabilities",
          "Canada/Ontario/Toronto/Persons without disabilities",
          "Canada/Quebec/Trois-Rivières/Persons without disabilities",
          "Canada/British Columbia/Vancouver/Persons without disabilities",
          "Canada/British Columbia/Victoria/Persons without disabilities",
          "Canada/Ontario/Windsor/Persons without disabilities",
          "Canada/Manitoba/Winnipeg/Persons without disabilities",
          "Canada/British Columbia/Abbotsford-Mission/Total population, with and without disabilities ",
          "Canada/Ontario/Barrie/Total population, with and without disabilities ",
          "Canada/Ontario/Belleville/Total population, with and without disabilities ",
          "Canada/Ontario/Brantford/Total population, with and without disabilities ",
          "Canada/Alberta/Calgary/Total population, with and without disabilities ",
          "Canada/Alberta/Edmonton/Total population, with and without disabilities ",
          "Canada/Ontario/Greater Sudbury/Total population, with and without disabilities ",
          "Canada/Ontario/Guelph/Total population, with and without disabilities ",
          "Canada/Nova Scotia/Halifax/Total population, with and without disabilities ",
          "Canada/Ontario/Hamilton/Total population, with and without disabilities ",
          "Canada/British Columbia/Kelowna/Total population, with and without disabilities ",
          "Canada/Ontario/Kingston/Total population, with and without disabilities ",
          "Canada/Ontario/Kitchener-Cambridge-Waterloo/Total population, with and without disabilities ",
          "Canada/Alberta/Lethbridge/Total population, with and without disabilities ",
          "Canada/Ontario/London/Total population, with and without disabilities ",
          "Canada/New Brunswick/Moncton/Total population, with and without disabilities ",
          "Canada/Quebec/Montréal/Total population, with and without disabilities ",
          "Canada/Ontario/Oshawa/Total population, with and without disabilities ",
          "Canada/Ontario/Quebec/Ottawa - Gatineau/Total population, with and without disabilities ",
          "Canada/Ontario/Peterborough/Total population, with and without disabilities ",
          "Canada/Quebec/Québec/Total population, with and without disabilities ",
          "Canada/Saskatchewan/Regina/Total population, with and without disabilities ",
          "Canada/Quebec/Saguenay/Total population, with and without disabilities ",
          "Canada/New Brunswick/Saint John/Total population, with and without disabilities ",
          "Canada/Saskatchewan/Saskatoon/Total population, with and without disabilities ",
          "Canada/Quebec/Sherbrooke/Total population, with and without disabilities ",
          "Canada/Ontario/St. Catharines-Niagara/Total population, with and without disabilities ",
          "Canada/Newfoundland and Labrador/St. John's/Total population, with and without disabilities ",
          "Canada/Ontario/Thunder Bay/Total population, with and without disabilities ",
          "Canada/Ontario/Toronto/Total population, with and without disabilities ",
          "Canada/Quebec/Trois-Rivières/Total population, with and without disabilities ",
          "Canada/British Columbia/Vancouver/Total population, with and without disabilities ",
          "Canada/British Columbia/Victoria/Total population, with and without disabilities ",
          "Canada/Ontario/Windsor/Total population, with and without disabilities ",
          "Canada/Manitoba/Winnipeg/Total population, with and without disabilities ",
          "Canada/British Columbia/Abbotsford-Mission",
          "Canada/Ontario/Barrie",
          "Canada/Ontario/Belleville",
          "Canada/Ontario/Brantford",
          "Canada/Alberta/Calgary",
          "Canada/Alberta/Edmonton",
          "Canada/Ontario/Greater Sudbury",
          "Canada/Ontario/Guelph",
          "Canada/Nova Scotia/Halifax",
          "Canada/Ontario/Hamilton",
          "Canada/British Columbia/Kelowna",
          "Canada/Ontario/Kingston",
          "Canada/Ontario/Kitchener-Cambridge-Waterloo",
          "Canada/Alberta/Lethbridge",
          "Canada/Ontario/London",
          "Canada/New Brunswick/Moncton",
          "Canada/Quebec/Montréal",
          "Canada/Ontario/Oshawa",
          "Canada/Ontario/Quebec/Ottawa - Gatineau",
          "Canada/Ontario/Peterborough",
          "Canada/Quebec/Québec",
          "Canada/Saskatchewan/Regina",
          "Canada/Quebec/Saguenay",
          "Canada/New Brunswick/Saint John",
          "Canada/Saskatchewan/Saskatoon",
          "Canada/Quebec/Sherbrooke",
          "Canada/Ontario/St. Catharines-Niagara",
          "Canada/Newfoundland and Labrador/St. John's",
          "Canada/Ontario/Thunder Bay",
          "Canada/Ontario/Toronto",
          "Canada/Quebec/Trois-Rivières",
          "Canada/British Columbia/Vancouver",
          "Canada/British Columbia/Victoria",
          "Canada/Ontario/Windsor",
          "Canada/Manitoba/Winnipeg",
          "Canada/Alberta",
          "Canada/British Columbia",
          "Canada/Manitoba",
          "Canada/New Brunswick",
          "Canada/Newfoundland and Labrador",
          "Canada/Nova Scotia",
          "Canada/Ontario",
          "Canada/Ontario/Quebec",
          "Canada/Quebec",
          "Canada/Saskatchewan",
          "Canada"
         ],
         "labels": [
          "Persons with disabilities",
          "Persons with disabilities",
          "Persons with disabilities",
          "Persons with disabilities",
          "Persons with disabilities",
          "Persons with disabilities",
          "Persons with disabilities",
          "Persons with disabilities",
          "Persons with disabilities",
          "Persons with disabilities",
          "Persons with disabilities",
          "Persons with disabilities",
          "Persons with disabilities",
          "Persons with disabilities",
          "Persons with disabilities",
          "Persons with disabilities",
          "Persons with disabilities",
          "Persons with disabilities",
          "Persons with disabilities",
          "Persons with disabilities",
          "Persons with disabilities",
          "Persons with disabilities",
          "Persons with disabilities",
          "Persons with disabilities",
          "Persons with disabilities",
          "Persons with disabilities",
          "Persons with disabilities",
          "Persons with disabilities",
          "Persons with disabilities",
          "Persons with disabilities",
          "Persons with disabilities",
          "Persons with disabilities",
          "Persons with disabilities",
          "Persons with disabilities",
          "Persons with disabilities",
          "Persons without disabilities",
          "Persons without disabilities",
          "Persons without disabilities",
          "Persons without disabilities",
          "Persons without disabilities",
          "Persons without disabilities",
          "Persons without disabilities",
          "Persons without disabilities",
          "Persons without disabilities",
          "Persons without disabilities",
          "Persons without disabilities",
          "Persons without disabilities",
          "Persons without disabilities",
          "Persons without disabilities",
          "Persons without disabilities",
          "Persons without disabilities",
          "Persons without disabilities",
          "Persons without disabilities",
          "Persons without disabilities",
          "Persons without disabilities",
          "Persons without disabilities",
          "Persons without disabilities",
          "Persons without disabilities",
          "Persons without disabilities",
          "Persons without disabilities",
          "Persons without disabilities",
          "Persons without disabilities",
          "Persons without disabilities",
          "Persons without disabilities",
          "Persons without disabilities",
          "Persons without disabilities",
          "Persons without disabilities",
          "Persons without disabilities",
          "Persons without disabilities",
          "Persons without disabilities",
          "Total population, with and without disabilities ",
          "Total population, with and without disabilities ",
          "Total population, with and without disabilities ",
          "Total population, with and without disabilities ",
          "Total population, with and without disabilities ",
          "Total population, with and without disabilities ",
          "Total population, with and without disabilities ",
          "Total population, with and without disabilities ",
          "Total population, with and without disabilities ",
          "Total population, with and without disabilities ",
          "Total population, with and without disabilities ",
          "Total population, with and without disabilities ",
          "Total population, with and without disabilities ",
          "Total population, with and without disabilities ",
          "Total population, with and without disabilities ",
          "Total population, with and without disabilities ",
          "Total population, with and without disabilities ",
          "Total population, with and without disabilities ",
          "Total population, with and without disabilities ",
          "Total population, with and without disabilities ",
          "Total population, with and without disabilities ",
          "Total population, with and without disabilities ",
          "Total population, with and without disabilities ",
          "Total population, with and without disabilities ",
          "Total population, with and without disabilities ",
          "Total population, with and without disabilities ",
          "Total population, with and without disabilities ",
          "Total population, with and without disabilities ",
          "Total population, with and without disabilities ",
          "Total population, with and without disabilities ",
          "Total population, with and without disabilities ",
          "Total population, with and without disabilities ",
          "Total population, with and without disabilities ",
          "Total population, with and without disabilities ",
          "Total population, with and without disabilities ",
          "Abbotsford-Mission",
          "Barrie",
          "Belleville",
          "Brantford",
          "Calgary",
          "Edmonton",
          "Greater Sudbury",
          "Guelph",
          "Halifax",
          "Hamilton",
          "Kelowna",
          "Kingston",
          "Kitchener-Cambridge-Waterloo",
          "Lethbridge",
          "London",
          "Moncton",
          "Montréal",
          "Oshawa",
          "Ottawa - Gatineau",
          "Peterborough",
          "Québec",
          "Regina",
          "Saguenay",
          "Saint John",
          "Saskatoon",
          "Sherbrooke",
          "St. Catharines-Niagara",
          "St. John's",
          "Thunder Bay",
          "Toronto",
          "Trois-Rivières",
          "Vancouver",
          "Victoria",
          "Windsor",
          "Winnipeg",
          "Alberta",
          "British Columbia",
          "Manitoba",
          "New Brunswick",
          "Newfoundland and Labrador",
          "Nova Scotia",
          "Ontario",
          "Ontario/Quebec",
          "Quebec",
          "Saskatchewan",
          "Canada"
         ],
         "name": "",
         "parents": [
          "Canada/British Columbia/Abbotsford-Mission",
          "Canada/Ontario/Barrie",
          "Canada/Ontario/Belleville",
          "Canada/Ontario/Brantford",
          "Canada/Alberta/Calgary",
          "Canada/Alberta/Edmonton",
          "Canada/Ontario/Greater Sudbury",
          "Canada/Ontario/Guelph",
          "Canada/Nova Scotia/Halifax",
          "Canada/Ontario/Hamilton",
          "Canada/British Columbia/Kelowna",
          "Canada/Ontario/Kingston",
          "Canada/Ontario/Kitchener-Cambridge-Waterloo",
          "Canada/Alberta/Lethbridge",
          "Canada/Ontario/London",
          "Canada/New Brunswick/Moncton",
          "Canada/Quebec/Montréal",
          "Canada/Ontario/Oshawa",
          "Canada/Ontario/Quebec/Ottawa - Gatineau",
          "Canada/Ontario/Peterborough",
          "Canada/Quebec/Québec",
          "Canada/Saskatchewan/Regina",
          "Canada/Quebec/Saguenay",
          "Canada/New Brunswick/Saint John",
          "Canada/Saskatchewan/Saskatoon",
          "Canada/Quebec/Sherbrooke",
          "Canada/Ontario/St. Catharines-Niagara",
          "Canada/Newfoundland and Labrador/St. John's",
          "Canada/Ontario/Thunder Bay",
          "Canada/Ontario/Toronto",
          "Canada/Quebec/Trois-Rivières",
          "Canada/British Columbia/Vancouver",
          "Canada/British Columbia/Victoria",
          "Canada/Ontario/Windsor",
          "Canada/Manitoba/Winnipeg",
          "Canada/British Columbia/Abbotsford-Mission",
          "Canada/Ontario/Barrie",
          "Canada/Ontario/Belleville",
          "Canada/Ontario/Brantford",
          "Canada/Alberta/Calgary",
          "Canada/Alberta/Edmonton",
          "Canada/Ontario/Greater Sudbury",
          "Canada/Ontario/Guelph",
          "Canada/Nova Scotia/Halifax",
          "Canada/Ontario/Hamilton",
          "Canada/British Columbia/Kelowna",
          "Canada/Ontario/Kingston",
          "Canada/Ontario/Kitchener-Cambridge-Waterloo",
          "Canada/Alberta/Lethbridge",
          "Canada/Ontario/London",
          "Canada/New Brunswick/Moncton",
          "Canada/Quebec/Montréal",
          "Canada/Ontario/Oshawa",
          "Canada/Ontario/Quebec/Ottawa - Gatineau",
          "Canada/Ontario/Peterborough",
          "Canada/Quebec/Québec",
          "Canada/Saskatchewan/Regina",
          "Canada/Quebec/Saguenay",
          "Canada/New Brunswick/Saint John",
          "Canada/Saskatchewan/Saskatoon",
          "Canada/Quebec/Sherbrooke",
          "Canada/Ontario/St. Catharines-Niagara",
          "Canada/Newfoundland and Labrador/St. John's",
          "Canada/Ontario/Thunder Bay",
          "Canada/Ontario/Toronto",
          "Canada/Quebec/Trois-Rivières",
          "Canada/British Columbia/Vancouver",
          "Canada/British Columbia/Victoria",
          "Canada/Ontario/Windsor",
          "Canada/Manitoba/Winnipeg",
          "Canada/British Columbia/Abbotsford-Mission",
          "Canada/Ontario/Barrie",
          "Canada/Ontario/Belleville",
          "Canada/Ontario/Brantford",
          "Canada/Alberta/Calgary",
          "Canada/Alberta/Edmonton",
          "Canada/Ontario/Greater Sudbury",
          "Canada/Ontario/Guelph",
          "Canada/Nova Scotia/Halifax",
          "Canada/Ontario/Hamilton",
          "Canada/British Columbia/Kelowna",
          "Canada/Ontario/Kingston",
          "Canada/Ontario/Kitchener-Cambridge-Waterloo",
          "Canada/Alberta/Lethbridge",
          "Canada/Ontario/London",
          "Canada/New Brunswick/Moncton",
          "Canada/Quebec/Montréal",
          "Canada/Ontario/Oshawa",
          "Canada/Ontario/Quebec/Ottawa - Gatineau",
          "Canada/Ontario/Peterborough",
          "Canada/Quebec/Québec",
          "Canada/Saskatchewan/Regina",
          "Canada/Quebec/Saguenay",
          "Canada/New Brunswick/Saint John",
          "Canada/Saskatchewan/Saskatoon",
          "Canada/Quebec/Sherbrooke",
          "Canada/Ontario/St. Catharines-Niagara",
          "Canada/Newfoundland and Labrador/St. John's",
          "Canada/Ontario/Thunder Bay",
          "Canada/Ontario/Toronto",
          "Canada/Quebec/Trois-Rivières",
          "Canada/British Columbia/Vancouver",
          "Canada/British Columbia/Victoria",
          "Canada/Ontario/Windsor",
          "Canada/Manitoba/Winnipeg",
          "Canada/British Columbia",
          "Canada/Ontario",
          "Canada/Ontario",
          "Canada/Ontario",
          "Canada/Alberta",
          "Canada/Alberta",
          "Canada/Ontario",
          "Canada/Ontario",
          "Canada/Nova Scotia",
          "Canada/Ontario",
          "Canada/British Columbia",
          "Canada/Ontario",
          "Canada/Ontario",
          "Canada/Alberta",
          "Canada/Ontario",
          "Canada/New Brunswick",
          "Canada/Quebec",
          "Canada/Ontario",
          "Canada/Ontario/Quebec",
          "Canada/Ontario",
          "Canada/Quebec",
          "Canada/Saskatchewan",
          "Canada/Quebec",
          "Canada/New Brunswick",
          "Canada/Saskatchewan",
          "Canada/Quebec",
          "Canada/Ontario",
          "Canada/Newfoundland and Labrador",
          "Canada/Ontario",
          "Canada/Ontario",
          "Canada/Quebec",
          "Canada/British Columbia",
          "Canada/British Columbia",
          "Canada/Ontario",
          "Canada/Manitoba",
          "Canada",
          "Canada",
          "Canada",
          "Canada",
          "Canada",
          "Canada",
          "Canada",
          "Canada",
          "Canada",
          "Canada",
          ""
         ],
         "root": {
          "color": "lightgrey"
         },
         "type": "treemap",
         "values": [
          39000,
          52100,
          36750,
          25600,
          210000,
          241000,
          37700,
          30200,
          94350,
          166500,
          36350,
          43400,
          87600,
          23550,
          102650,
          33000,
          523600,
          88250,
          260300,
          32900,
          97900,
          45350,
          21300,
          25550,
          50450,
          23600,
          90500,
          37350,
          20700,
          962550,
          14200,
          410510,
          89250,
          60850,
          152300,
          108050,
          122650,
          47800,
          73350,
          896800,
          807550,
          102600,
          105700,
          237000,
          433800,
          116600,
          95950,
          333350,
          61650,
          280450,
          87400,
          2773040,
          219700,
          819350,
          67500,
          554950,
          142600,
          104900,
          73850,
          179650,
          146500,
          223150,
          130250,
          58250,
          3859030,
          103750,
          1591390,
          218450,
          180150,
          465500,
          147050,
          174750,
          84550,
          98950,
          1106800,
          1048550,
          140300,
          135900,
          331300,
          600350,
          152950,
          139350,
          420950,
          85200,
          383100,
          120400,
          3296640,
          307950,
          1079650,
          100400,
          652800,
          187950,
          126200,
          99400,
          230100,
          170150,
          313700,
          167550,
          78900,
          4821580,
          117950,
          2001900,
          307700,
          241000,
          617800,
          294100,
          349500,
          169100,
          197900,
          2213600,
          2097100,
          280600,
          271800,
          662650,
          1200650,
          305900,
          278700,
          841900,
          170400,
          766200,
          240800,
          6593280,
          615900,
          2159300,
          200800,
          1305650,
          375900,
          252400,
          198800,
          460200,
          340250,
          627350,
          335150,
          157850,
          9643160,
          235900,
          4003800,
          615400,
          482000,
          1235600,
          4481100,
          5219200,
          1235600,
          439600,
          335150,
          662650,
          16083410,
          2159300,
          8727480,
          836100,
          40179590
         ]
        }
       ],
       "layout": {
        "legend": {
         "tracegroupgap": 0
        },
        "margin": {
         "b": 35,
         "l": 35,
         "r": 35,
         "t": 50
        },
        "template": {
         "data": {
          "bar": [
           {
            "error_x": {
             "color": "#2a3f5f"
            },
            "error_y": {
             "color": "#2a3f5f"
            },
            "marker": {
             "line": {
              "color": "#E5ECF6",
              "width": 0.5
             },
             "pattern": {
              "fillmode": "overlay",
              "size": 10,
              "solidity": 0.2
             }
            },
            "type": "bar"
           }
          ],
          "barpolar": [
           {
            "marker": {
             "line": {
              "color": "#E5ECF6",
              "width": 0.5
             },
             "pattern": {
              "fillmode": "overlay",
              "size": 10,
              "solidity": 0.2
             }
            },
            "type": "barpolar"
           }
          ],
          "carpet": [
           {
            "aaxis": {
             "endlinecolor": "#2a3f5f",
             "gridcolor": "white",
             "linecolor": "white",
             "minorgridcolor": "white",
             "startlinecolor": "#2a3f5f"
            },
            "baxis": {
             "endlinecolor": "#2a3f5f",
             "gridcolor": "white",
             "linecolor": "white",
             "minorgridcolor": "white",
             "startlinecolor": "#2a3f5f"
            },
            "type": "carpet"
           }
          ],
          "choropleth": [
           {
            "colorbar": {
             "outlinewidth": 0,
             "ticks": ""
            },
            "type": "choropleth"
           }
          ],
          "contour": [
           {
            "colorbar": {
             "outlinewidth": 0,
             "ticks": ""
            },
            "colorscale": [
             [
              0,
              "#0d0887"
             ],
             [
              0.1111111111111111,
              "#46039f"
             ],
             [
              0.2222222222222222,
              "#7201a8"
             ],
             [
              0.3333333333333333,
              "#9c179e"
             ],
             [
              0.4444444444444444,
              "#bd3786"
             ],
             [
              0.5555555555555556,
              "#d8576b"
             ],
             [
              0.6666666666666666,
              "#ed7953"
             ],
             [
              0.7777777777777778,
              "#fb9f3a"
             ],
             [
              0.8888888888888888,
              "#fdca26"
             ],
             [
              1,
              "#f0f921"
             ]
            ],
            "type": "contour"
           }
          ],
          "contourcarpet": [
           {
            "colorbar": {
             "outlinewidth": 0,
             "ticks": ""
            },
            "type": "contourcarpet"
           }
          ],
          "heatmap": [
           {
            "colorbar": {
             "outlinewidth": 0,
             "ticks": ""
            },
            "colorscale": [
             [
              0,
              "#0d0887"
             ],
             [
              0.1111111111111111,
              "#46039f"
             ],
             [
              0.2222222222222222,
              "#7201a8"
             ],
             [
              0.3333333333333333,
              "#9c179e"
             ],
             [
              0.4444444444444444,
              "#bd3786"
             ],
             [
              0.5555555555555556,
              "#d8576b"
             ],
             [
              0.6666666666666666,
              "#ed7953"
             ],
             [
              0.7777777777777778,
              "#fb9f3a"
             ],
             [
              0.8888888888888888,
              "#fdca26"
             ],
             [
              1,
              "#f0f921"
             ]
            ],
            "type": "heatmap"
           }
          ],
          "heatmapgl": [
           {
            "colorbar": {
             "outlinewidth": 0,
             "ticks": ""
            },
            "colorscale": [
             [
              0,
              "#0d0887"
             ],
             [
              0.1111111111111111,
              "#46039f"
             ],
             [
              0.2222222222222222,
              "#7201a8"
             ],
             [
              0.3333333333333333,
              "#9c179e"
             ],
             [
              0.4444444444444444,
              "#bd3786"
             ],
             [
              0.5555555555555556,
              "#d8576b"
             ],
             [
              0.6666666666666666,
              "#ed7953"
             ],
             [
              0.7777777777777778,
              "#fb9f3a"
             ],
             [
              0.8888888888888888,
              "#fdca26"
             ],
             [
              1,
              "#f0f921"
             ]
            ],
            "type": "heatmapgl"
           }
          ],
          "histogram": [
           {
            "marker": {
             "pattern": {
              "fillmode": "overlay",
              "size": 10,
              "solidity": 0.2
             }
            },
            "type": "histogram"
           }
          ],
          "histogram2d": [
           {
            "colorbar": {
             "outlinewidth": 0,
             "ticks": ""
            },
            "colorscale": [
             [
              0,
              "#0d0887"
             ],
             [
              0.1111111111111111,
              "#46039f"
             ],
             [
              0.2222222222222222,
              "#7201a8"
             ],
             [
              0.3333333333333333,
              "#9c179e"
             ],
             [
              0.4444444444444444,
              "#bd3786"
             ],
             [
              0.5555555555555556,
              "#d8576b"
             ],
             [
              0.6666666666666666,
              "#ed7953"
             ],
             [
              0.7777777777777778,
              "#fb9f3a"
             ],
             [
              0.8888888888888888,
              "#fdca26"
             ],
             [
              1,
              "#f0f921"
             ]
            ],
            "type": "histogram2d"
           }
          ],
          "histogram2dcontour": [
           {
            "colorbar": {
             "outlinewidth": 0,
             "ticks": ""
            },
            "colorscale": [
             [
              0,
              "#0d0887"
             ],
             [
              0.1111111111111111,
              "#46039f"
             ],
             [
              0.2222222222222222,
              "#7201a8"
             ],
             [
              0.3333333333333333,
              "#9c179e"
             ],
             [
              0.4444444444444444,
              "#bd3786"
             ],
             [
              0.5555555555555556,
              "#d8576b"
             ],
             [
              0.6666666666666666,
              "#ed7953"
             ],
             [
              0.7777777777777778,
              "#fb9f3a"
             ],
             [
              0.8888888888888888,
              "#fdca26"
             ],
             [
              1,
              "#f0f921"
             ]
            ],
            "type": "histogram2dcontour"
           }
          ],
          "mesh3d": [
           {
            "colorbar": {
             "outlinewidth": 0,
             "ticks": ""
            },
            "type": "mesh3d"
           }
          ],
          "parcoords": [
           {
            "line": {
             "colorbar": {
              "outlinewidth": 0,
              "ticks": ""
             }
            },
            "type": "parcoords"
           }
          ],
          "pie": [
           {
            "automargin": true,
            "type": "pie"
           }
          ],
          "scatter": [
           {
            "fillpattern": {
             "fillmode": "overlay",
             "size": 10,
             "solidity": 0.2
            },
            "type": "scatter"
           }
          ],
          "scatter3d": [
           {
            "line": {
             "colorbar": {
              "outlinewidth": 0,
              "ticks": ""
             }
            },
            "marker": {
             "colorbar": {
              "outlinewidth": 0,
              "ticks": ""
             }
            },
            "type": "scatter3d"
           }
          ],
          "scattercarpet": [
           {
            "marker": {
             "colorbar": {
              "outlinewidth": 0,
              "ticks": ""
             }
            },
            "type": "scattercarpet"
           }
          ],
          "scattergeo": [
           {
            "marker": {
             "colorbar": {
              "outlinewidth": 0,
              "ticks": ""
             }
            },
            "type": "scattergeo"
           }
          ],
          "scattergl": [
           {
            "marker": {
             "colorbar": {
              "outlinewidth": 0,
              "ticks": ""
             }
            },
            "type": "scattergl"
           }
          ],
          "scattermapbox": [
           {
            "marker": {
             "colorbar": {
              "outlinewidth": 0,
              "ticks": ""
             }
            },
            "type": "scattermapbox"
           }
          ],
          "scatterpolar": [
           {
            "marker": {
             "colorbar": {
              "outlinewidth": 0,
              "ticks": ""
             }
            },
            "type": "scatterpolar"
           }
          ],
          "scatterpolargl": [
           {
            "marker": {
             "colorbar": {
              "outlinewidth": 0,
              "ticks": ""
             }
            },
            "type": "scatterpolargl"
           }
          ],
          "scatterternary": [
           {
            "marker": {
             "colorbar": {
              "outlinewidth": 0,
              "ticks": ""
             }
            },
            "type": "scatterternary"
           }
          ],
          "surface": [
           {
            "colorbar": {
             "outlinewidth": 0,
             "ticks": ""
            },
            "colorscale": [
             [
              0,
              "#0d0887"
             ],
             [
              0.1111111111111111,
              "#46039f"
             ],
             [
              0.2222222222222222,
              "#7201a8"
             ],
             [
              0.3333333333333333,
              "#9c179e"
             ],
             [
              0.4444444444444444,
              "#bd3786"
             ],
             [
              0.5555555555555556,
              "#d8576b"
             ],
             [
              0.6666666666666666,
              "#ed7953"
             ],
             [
              0.7777777777777778,
              "#fb9f3a"
             ],
             [
              0.8888888888888888,
              "#fdca26"
             ],
             [
              1,
              "#f0f921"
             ]
            ],
            "type": "surface"
           }
          ],
          "table": [
           {
            "cells": {
             "fill": {
              "color": "#EBF0F8"
             },
             "line": {
              "color": "white"
             }
            },
            "header": {
             "fill": {
              "color": "#C8D4E3"
             },
             "line": {
              "color": "white"
             }
            },
            "type": "table"
           }
          ]
         },
         "layout": {
          "annotationdefaults": {
           "arrowcolor": "#2a3f5f",
           "arrowhead": 0,
           "arrowwidth": 1
          },
          "autotypenumbers": "strict",
          "coloraxis": {
           "colorbar": {
            "outlinewidth": 0,
            "ticks": ""
           }
          },
          "colorscale": {
           "diverging": [
            [
             0,
             "#8e0152"
            ],
            [
             0.1,
             "#c51b7d"
            ],
            [
             0.2,
             "#de77ae"
            ],
            [
             0.3,
             "#f1b6da"
            ],
            [
             0.4,
             "#fde0ef"
            ],
            [
             0.5,
             "#f7f7f7"
            ],
            [
             0.6,
             "#e6f5d0"
            ],
            [
             0.7,
             "#b8e186"
            ],
            [
             0.8,
             "#7fbc41"
            ],
            [
             0.9,
             "#4d9221"
            ],
            [
             1,
             "#276419"
            ]
           ],
           "sequential": [
            [
             0,
             "#0d0887"
            ],
            [
             0.1111111111111111,
             "#46039f"
            ],
            [
             0.2222222222222222,
             "#7201a8"
            ],
            [
             0.3333333333333333,
             "#9c179e"
            ],
            [
             0.4444444444444444,
             "#bd3786"
            ],
            [
             0.5555555555555556,
             "#d8576b"
            ],
            [
             0.6666666666666666,
             "#ed7953"
            ],
            [
             0.7777777777777778,
             "#fb9f3a"
            ],
            [
             0.8888888888888888,
             "#fdca26"
            ],
            [
             1,
             "#f0f921"
            ]
           ],
           "sequentialminus": [
            [
             0,
             "#0d0887"
            ],
            [
             0.1111111111111111,
             "#46039f"
            ],
            [
             0.2222222222222222,
             "#7201a8"
            ],
            [
             0.3333333333333333,
             "#9c179e"
            ],
            [
             0.4444444444444444,
             "#bd3786"
            ],
            [
             0.5555555555555556,
             "#d8576b"
            ],
            [
             0.6666666666666666,
             "#ed7953"
            ],
            [
             0.7777777777777778,
             "#fb9f3a"
            ],
            [
             0.8888888888888888,
             "#fdca26"
            ],
            [
             1,
             "#f0f921"
            ]
           ]
          },
          "colorway": [
           "#636efa",
           "#EF553B",
           "#00cc96",
           "#ab63fa",
           "#FFA15A",
           "#19d3f3",
           "#FF6692",
           "#B6E880",
           "#FF97FF",
           "#FECB52"
          ],
          "font": {
           "color": "#2a3f5f"
          },
          "geo": {
           "bgcolor": "white",
           "lakecolor": "white",
           "landcolor": "#E5ECF6",
           "showlakes": true,
           "showland": true,
           "subunitcolor": "white"
          },
          "hoverlabel": {
           "align": "left"
          },
          "hovermode": "closest",
          "mapbox": {
           "style": "light"
          },
          "paper_bgcolor": "white",
          "plot_bgcolor": "#E5ECF6",
          "polar": {
           "angularaxis": {
            "gridcolor": "white",
            "linecolor": "white",
            "ticks": ""
           },
           "bgcolor": "#E5ECF6",
           "radialaxis": {
            "gridcolor": "white",
            "linecolor": "white",
            "ticks": ""
           }
          },
          "scene": {
           "xaxis": {
            "backgroundcolor": "#E5ECF6",
            "gridcolor": "white",
            "gridwidth": 2,
            "linecolor": "white",
            "showbackground": true,
            "ticks": "",
            "zerolinecolor": "white"
           },
           "yaxis": {
            "backgroundcolor": "#E5ECF6",
            "gridcolor": "white",
            "gridwidth": 2,
            "linecolor": "white",
            "showbackground": true,
            "ticks": "",
            "zerolinecolor": "white"
           },
           "zaxis": {
            "backgroundcolor": "#E5ECF6",
            "gridcolor": "white",
            "gridwidth": 2,
            "linecolor": "white",
            "showbackground": true,
            "ticks": "",
            "zerolinecolor": "white"
           }
          },
          "shapedefaults": {
           "line": {
            "color": "#2a3f5f"
           }
          },
          "ternary": {
           "aaxis": {
            "gridcolor": "white",
            "linecolor": "white",
            "ticks": ""
           },
           "baxis": {
            "gridcolor": "white",
            "linecolor": "white",
            "ticks": ""
           },
           "bgcolor": "#E5ECF6",
           "caxis": {
            "gridcolor": "white",
            "linecolor": "white",
            "ticks": ""
           }
          },
          "title": {
           "x": 0.05
          },
          "xaxis": {
           "automargin": true,
           "gridcolor": "white",
           "linecolor": "white",
           "ticks": "",
           "title": {
            "standoff": 15
           },
           "zerolinecolor": "white",
           "zerolinewidth": 2
          },
          "yaxis": {
           "automargin": true,
           "gridcolor": "white",
           "linecolor": "white",
           "ticks": "",
           "title": {
            "standoff": 15
           },
           "zerolinecolor": "white",
           "zerolinewidth": 2
          }
         }
        }
       }
      }
     },
     "metadata": {},
     "output_type": "display_data"
    }
   ],
   "source": [
    "provinces = px.treemap(by_pop, path=[px.Constant(\"Canada\"), 'Province', 'City', 'Disability'], values='Number')\n",
    "provinces.update_traces(root_color=\"lightgrey\")\n",
    "provinces.update_layout(margin = dict(t=50, l=35, r=35, b=35))\n",
    "provinces.show()"
   ]
  },
  {
   "cell_type": "code",
   "execution_count": null,
   "metadata": {},
   "outputs": [
    {
     "data": {
      "application/vnd.plotly.v1+json": {
       "config": {
        "plotlyServerURL": "https://plot.ly"
       },
       "data": [
        {
         "alignmentgroup": "True",
         "customdata": [
          [
           "Both"
          ],
          [
           "Men"
          ],
          [
           "Women"
          ],
          [
           "Both"
          ],
          [
           "Men"
          ],
          [
           "Women"
          ],
          [
           "Both"
          ],
          [
           "Men"
          ],
          [
           "Women"
          ],
          [
           "Both"
          ],
          [
           "Men"
          ],
          [
           "Women"
          ],
          [
           "Both"
          ],
          [
           "Men"
          ],
          [
           "Women"
          ],
          [
           "Both"
          ],
          [
           "Men"
          ],
          [
           "Women"
          ],
          [
           "Both"
          ],
          [
           "Men"
          ],
          [
           "Women"
          ],
          [
           "Both"
          ],
          [
           "Men"
          ],
          [
           "Women"
          ]
         ],
         "hovertemplate": "Age Group=%{x}<br>Employment Percent=%{y}<br>Gender=%{customdata[0]}<br>Disabilities=%{marker.color}<extra></extra>",
         "legendgroup": "",
         "marker": {
          "color": [
           0,
           0,
           0,
           1,
           1,
           1,
           0,
           0,
           0,
           1,
           1,
           1,
           0,
           0,
           0,
           1,
           1,
           1,
           0,
           0,
           0,
           1,
           1,
           1
          ],
          "coloraxis": "coloraxis",
          "pattern": {
           "shape": ""
          }
         },
         "name": "",
         "offsetgroup": "",
         "orientation": "v",
         "showlegend": false,
         "textposition": "auto",
         "type": "bar",
         "x": [
          "25-34 years",
          "25-34 years",
          "25-34 years",
          "25-34 years",
          "25-34 years",
          "25-34 years",
          "35-44 years",
          "35-44 years",
          "35-44 years",
          "35-44 years",
          "35-44 years",
          "35-44 years",
          "45-54 years",
          "45-54 years",
          "45-54 years",
          "45-54 years",
          "45-54 years",
          "45-54 years",
          "55-64 years",
          "55-64 years",
          "55-64 years",
          "55-64 years",
          "55-64 years",
          "55-64 years"
         ],
         "xaxis": "x",
         "y": [
          81.8,
          65,
          77.3,
          66.4,
          59.6,
          70.55000000000001,
          85.6,
          89.5,
          81.7,
          66,
          67.35,
          64.9,
          84.9,
          82.6,
          87.4,
          60.3,
          58.45,
          62.3,
          67.2,
          62.6,
          71.9,
          43.85,
          39.05,
          48.800000000000004
         ],
         "yaxis": "y"
        }
       ],
       "layout": {
        "barmode": "group",
        "coloraxis": {
         "colorbar": {
          "title": {
           "text": "Disabilities"
          }
         },
         "colorscale": [
          [
           0,
           "#0d0887"
          ],
          [
           0.1111111111111111,
           "#46039f"
          ],
          [
           0.2222222222222222,
           "#7201a8"
          ],
          [
           0.3333333333333333,
           "#9c179e"
          ],
          [
           0.4444444444444444,
           "#bd3786"
          ],
          [
           0.5555555555555556,
           "#d8576b"
          ],
          [
           0.6666666666666666,
           "#ed7953"
          ],
          [
           0.7777777777777778,
           "#fb9f3a"
          ],
          [
           0.8888888888888888,
           "#fdca26"
          ],
          [
           1,
           "#f0f921"
          ]
         ]
        },
        "legend": {
         "title": {
          "text": "Disabilities"
         },
         "tracegroupgap": 0
        },
        "template": {
         "data": {
          "bar": [
           {
            "error_x": {
             "color": "#2a3f5f"
            },
            "error_y": {
             "color": "#2a3f5f"
            },
            "marker": {
             "line": {
              "color": "#E5ECF6",
              "width": 0.5
             },
             "pattern": {
              "fillmode": "overlay",
              "size": 10,
              "solidity": 0.2
             }
            },
            "type": "bar"
           }
          ],
          "barpolar": [
           {
            "marker": {
             "line": {
              "color": "#E5ECF6",
              "width": 0.5
             },
             "pattern": {
              "fillmode": "overlay",
              "size": 10,
              "solidity": 0.2
             }
            },
            "type": "barpolar"
           }
          ],
          "carpet": [
           {
            "aaxis": {
             "endlinecolor": "#2a3f5f",
             "gridcolor": "white",
             "linecolor": "white",
             "minorgridcolor": "white",
             "startlinecolor": "#2a3f5f"
            },
            "baxis": {
             "endlinecolor": "#2a3f5f",
             "gridcolor": "white",
             "linecolor": "white",
             "minorgridcolor": "white",
             "startlinecolor": "#2a3f5f"
            },
            "type": "carpet"
           }
          ],
          "choropleth": [
           {
            "colorbar": {
             "outlinewidth": 0,
             "ticks": ""
            },
            "type": "choropleth"
           }
          ],
          "contour": [
           {
            "colorbar": {
             "outlinewidth": 0,
             "ticks": ""
            },
            "colorscale": [
             [
              0,
              "#0d0887"
             ],
             [
              0.1111111111111111,
              "#46039f"
             ],
             [
              0.2222222222222222,
              "#7201a8"
             ],
             [
              0.3333333333333333,
              "#9c179e"
             ],
             [
              0.4444444444444444,
              "#bd3786"
             ],
             [
              0.5555555555555556,
              "#d8576b"
             ],
             [
              0.6666666666666666,
              "#ed7953"
             ],
             [
              0.7777777777777778,
              "#fb9f3a"
             ],
             [
              0.8888888888888888,
              "#fdca26"
             ],
             [
              1,
              "#f0f921"
             ]
            ],
            "type": "contour"
           }
          ],
          "contourcarpet": [
           {
            "colorbar": {
             "outlinewidth": 0,
             "ticks": ""
            },
            "type": "contourcarpet"
           }
          ],
          "heatmap": [
           {
            "colorbar": {
             "outlinewidth": 0,
             "ticks": ""
            },
            "colorscale": [
             [
              0,
              "#0d0887"
             ],
             [
              0.1111111111111111,
              "#46039f"
             ],
             [
              0.2222222222222222,
              "#7201a8"
             ],
             [
              0.3333333333333333,
              "#9c179e"
             ],
             [
              0.4444444444444444,
              "#bd3786"
             ],
             [
              0.5555555555555556,
              "#d8576b"
             ],
             [
              0.6666666666666666,
              "#ed7953"
             ],
             [
              0.7777777777777778,
              "#fb9f3a"
             ],
             [
              0.8888888888888888,
              "#fdca26"
             ],
             [
              1,
              "#f0f921"
             ]
            ],
            "type": "heatmap"
           }
          ],
          "heatmapgl": [
           {
            "colorbar": {
             "outlinewidth": 0,
             "ticks": ""
            },
            "colorscale": [
             [
              0,
              "#0d0887"
             ],
             [
              0.1111111111111111,
              "#46039f"
             ],
             [
              0.2222222222222222,
              "#7201a8"
             ],
             [
              0.3333333333333333,
              "#9c179e"
             ],
             [
              0.4444444444444444,
              "#bd3786"
             ],
             [
              0.5555555555555556,
              "#d8576b"
             ],
             [
              0.6666666666666666,
              "#ed7953"
             ],
             [
              0.7777777777777778,
              "#fb9f3a"
             ],
             [
              0.8888888888888888,
              "#fdca26"
             ],
             [
              1,
              "#f0f921"
             ]
            ],
            "type": "heatmapgl"
           }
          ],
          "histogram": [
           {
            "marker": {
             "pattern": {
              "fillmode": "overlay",
              "size": 10,
              "solidity": 0.2
             }
            },
            "type": "histogram"
           }
          ],
          "histogram2d": [
           {
            "colorbar": {
             "outlinewidth": 0,
             "ticks": ""
            },
            "colorscale": [
             [
              0,
              "#0d0887"
             ],
             [
              0.1111111111111111,
              "#46039f"
             ],
             [
              0.2222222222222222,
              "#7201a8"
             ],
             [
              0.3333333333333333,
              "#9c179e"
             ],
             [
              0.4444444444444444,
              "#bd3786"
             ],
             [
              0.5555555555555556,
              "#d8576b"
             ],
             [
              0.6666666666666666,
              "#ed7953"
             ],
             [
              0.7777777777777778,
              "#fb9f3a"
             ],
             [
              0.8888888888888888,
              "#fdca26"
             ],
             [
              1,
              "#f0f921"
             ]
            ],
            "type": "histogram2d"
           }
          ],
          "histogram2dcontour": [
           {
            "colorbar": {
             "outlinewidth": 0,
             "ticks": ""
            },
            "colorscale": [
             [
              0,
              "#0d0887"
             ],
             [
              0.1111111111111111,
              "#46039f"
             ],
             [
              0.2222222222222222,
              "#7201a8"
             ],
             [
              0.3333333333333333,
              "#9c179e"
             ],
             [
              0.4444444444444444,
              "#bd3786"
             ],
             [
              0.5555555555555556,
              "#d8576b"
             ],
             [
              0.6666666666666666,
              "#ed7953"
             ],
             [
              0.7777777777777778,
              "#fb9f3a"
             ],
             [
              0.8888888888888888,
              "#fdca26"
             ],
             [
              1,
              "#f0f921"
             ]
            ],
            "type": "histogram2dcontour"
           }
          ],
          "mesh3d": [
           {
            "colorbar": {
             "outlinewidth": 0,
             "ticks": ""
            },
            "type": "mesh3d"
           }
          ],
          "parcoords": [
           {
            "line": {
             "colorbar": {
              "outlinewidth": 0,
              "ticks": ""
             }
            },
            "type": "parcoords"
           }
          ],
          "pie": [
           {
            "automargin": true,
            "type": "pie"
           }
          ],
          "scatter": [
           {
            "fillpattern": {
             "fillmode": "overlay",
             "size": 10,
             "solidity": 0.2
            },
            "type": "scatter"
           }
          ],
          "scatter3d": [
           {
            "line": {
             "colorbar": {
              "outlinewidth": 0,
              "ticks": ""
             }
            },
            "marker": {
             "colorbar": {
              "outlinewidth": 0,
              "ticks": ""
             }
            },
            "type": "scatter3d"
           }
          ],
          "scattercarpet": [
           {
            "marker": {
             "colorbar": {
              "outlinewidth": 0,
              "ticks": ""
             }
            },
            "type": "scattercarpet"
           }
          ],
          "scattergeo": [
           {
            "marker": {
             "colorbar": {
              "outlinewidth": 0,
              "ticks": ""
             }
            },
            "type": "scattergeo"
           }
          ],
          "scattergl": [
           {
            "marker": {
             "colorbar": {
              "outlinewidth": 0,
              "ticks": ""
             }
            },
            "type": "scattergl"
           }
          ],
          "scattermapbox": [
           {
            "marker": {
             "colorbar": {
              "outlinewidth": 0,
              "ticks": ""
             }
            },
            "type": "scattermapbox"
           }
          ],
          "scatterpolar": [
           {
            "marker": {
             "colorbar": {
              "outlinewidth": 0,
              "ticks": ""
             }
            },
            "type": "scatterpolar"
           }
          ],
          "scatterpolargl": [
           {
            "marker": {
             "colorbar": {
              "outlinewidth": 0,
              "ticks": ""
             }
            },
            "type": "scatterpolargl"
           }
          ],
          "scatterternary": [
           {
            "marker": {
             "colorbar": {
              "outlinewidth": 0,
              "ticks": ""
             }
            },
            "type": "scatterternary"
           }
          ],
          "surface": [
           {
            "colorbar": {
             "outlinewidth": 0,
             "ticks": ""
            },
            "colorscale": [
             [
              0,
              "#0d0887"
             ],
             [
              0.1111111111111111,
              "#46039f"
             ],
             [
              0.2222222222222222,
              "#7201a8"
             ],
             [
              0.3333333333333333,
              "#9c179e"
             ],
             [
              0.4444444444444444,
              "#bd3786"
             ],
             [
              0.5555555555555556,
              "#d8576b"
             ],
             [
              0.6666666666666666,
              "#ed7953"
             ],
             [
              0.7777777777777778,
              "#fb9f3a"
             ],
             [
              0.8888888888888888,
              "#fdca26"
             ],
             [
              1,
              "#f0f921"
             ]
            ],
            "type": "surface"
           }
          ],
          "table": [
           {
            "cells": {
             "fill": {
              "color": "#EBF0F8"
             },
             "line": {
              "color": "white"
             }
            },
            "header": {
             "fill": {
              "color": "#C8D4E3"
             },
             "line": {
              "color": "white"
             }
            },
            "type": "table"
           }
          ]
         },
         "layout": {
          "annotationdefaults": {
           "arrowcolor": "#2a3f5f",
           "arrowhead": 0,
           "arrowwidth": 1
          },
          "autotypenumbers": "strict",
          "coloraxis": {
           "colorbar": {
            "outlinewidth": 0,
            "ticks": ""
           }
          },
          "colorscale": {
           "diverging": [
            [
             0,
             "#8e0152"
            ],
            [
             0.1,
             "#c51b7d"
            ],
            [
             0.2,
             "#de77ae"
            ],
            [
             0.3,
             "#f1b6da"
            ],
            [
             0.4,
             "#fde0ef"
            ],
            [
             0.5,
             "#f7f7f7"
            ],
            [
             0.6,
             "#e6f5d0"
            ],
            [
             0.7,
             "#b8e186"
            ],
            [
             0.8,
             "#7fbc41"
            ],
            [
             0.9,
             "#4d9221"
            ],
            [
             1,
             "#276419"
            ]
           ],
           "sequential": [
            [
             0,
             "#0d0887"
            ],
            [
             0.1111111111111111,
             "#46039f"
            ],
            [
             0.2222222222222222,
             "#7201a8"
            ],
            [
             0.3333333333333333,
             "#9c179e"
            ],
            [
             0.4444444444444444,
             "#bd3786"
            ],
            [
             0.5555555555555556,
             "#d8576b"
            ],
            [
             0.6666666666666666,
             "#ed7953"
            ],
            [
             0.7777777777777778,
             "#fb9f3a"
            ],
            [
             0.8888888888888888,
             "#fdca26"
            ],
            [
             1,
             "#f0f921"
            ]
           ],
           "sequentialminus": [
            [
             0,
             "#0d0887"
            ],
            [
             0.1111111111111111,
             "#46039f"
            ],
            [
             0.2222222222222222,
             "#7201a8"
            ],
            [
             0.3333333333333333,
             "#9c179e"
            ],
            [
             0.4444444444444444,
             "#bd3786"
            ],
            [
             0.5555555555555556,
             "#d8576b"
            ],
            [
             0.6666666666666666,
             "#ed7953"
            ],
            [
             0.7777777777777778,
             "#fb9f3a"
            ],
            [
             0.8888888888888888,
             "#fdca26"
            ],
            [
             1,
             "#f0f921"
            ]
           ]
          },
          "colorway": [
           "#636efa",
           "#EF553B",
           "#00cc96",
           "#ab63fa",
           "#FFA15A",
           "#19d3f3",
           "#FF6692",
           "#B6E880",
           "#FF97FF",
           "#FECB52"
          ],
          "font": {
           "color": "#2a3f5f"
          },
          "geo": {
           "bgcolor": "white",
           "lakecolor": "white",
           "landcolor": "#E5ECF6",
           "showlakes": true,
           "showland": true,
           "subunitcolor": "white"
          },
          "hoverlabel": {
           "align": "left"
          },
          "hovermode": "closest",
          "mapbox": {
           "style": "light"
          },
          "paper_bgcolor": "white",
          "plot_bgcolor": "#E5ECF6",
          "polar": {
           "angularaxis": {
            "gridcolor": "white",
            "linecolor": "white",
            "ticks": ""
           },
           "bgcolor": "#E5ECF6",
           "radialaxis": {
            "gridcolor": "white",
            "linecolor": "white",
            "ticks": ""
           }
          },
          "scene": {
           "xaxis": {
            "backgroundcolor": "#E5ECF6",
            "gridcolor": "white",
            "gridwidth": 2,
            "linecolor": "white",
            "showbackground": true,
            "ticks": "",
            "zerolinecolor": "white"
           },
           "yaxis": {
            "backgroundcolor": "#E5ECF6",
            "gridcolor": "white",
            "gridwidth": 2,
            "linecolor": "white",
            "showbackground": true,
            "ticks": "",
            "zerolinecolor": "white"
           },
           "zaxis": {
            "backgroundcolor": "#E5ECF6",
            "gridcolor": "white",
            "gridwidth": 2,
            "linecolor": "white",
            "showbackground": true,
            "ticks": "",
            "zerolinecolor": "white"
           }
          },
          "shapedefaults": {
           "line": {
            "color": "#2a3f5f"
           }
          },
          "ternary": {
           "aaxis": {
            "gridcolor": "white",
            "linecolor": "white",
            "ticks": ""
           },
           "baxis": {
            "gridcolor": "white",
            "linecolor": "white",
            "ticks": ""
           },
           "bgcolor": "#E5ECF6",
           "caxis": {
            "gridcolor": "white",
            "linecolor": "white",
            "ticks": ""
           }
          },
          "title": {
           "x": 0.05
          },
          "xaxis": {
           "automargin": true,
           "gridcolor": "white",
           "linecolor": "white",
           "ticks": "",
           "title": {
            "standoff": 15
           },
           "zerolinecolor": "white",
           "zerolinewidth": 2
          },
          "yaxis": {
           "automargin": true,
           "gridcolor": "white",
           "linecolor": "white",
           "ticks": "",
           "title": {
            "standoff": 15
           },
           "zerolinecolor": "white",
           "zerolinewidth": 2
          }
         }
        },
        "title": {
         "text": "Mean Employment Percent by Age Group and Disabilities"
        },
        "xaxis": {
         "anchor": "y",
         "domain": [
          0,
          1
         ],
         "title": {
          "text": "Age Group"
         }
        },
        "yaxis": {
         "anchor": "x",
         "domain": [
          0,
          1
         ],
         "title": {
          "text": "Mean Employment Percent"
         }
        }
       }
      }
     },
     "metadata": {},
     "output_type": "display_data"
    }
   ],
   "source": [
    "# Group the DataFrame by Age Group and Disabilities and calculate the mean of Employment Percent\n",
    "grouped_df = employment.groupby(['Age Group', 'Disabilities', 'Gender'])['Employment Percent'].mean().reset_index()\n",
    "\n",
    "# Plot the stacked bar chart\n",
    "mean_fig = px.bar(grouped_df, x='Age Group', y='Employment Percent', color='Disabilities', barmode='group', title='Mean Employment Percent by Age Group and Disabilities', hover_data=['Gender'])\n",
    "\n",
    "# Customize the layout\n",
    "mean_fig.update_layout(\n",
    "    xaxis=dict(title='Age Group'),\n",
    "    yaxis=dict(title='Mean Employment Percent'),\n",
    "    legend_title='Disabilities',\n",
    ")\n",
    "\n",
    "# Show the plot\n",
    "mean_fig.show()"
   ]
  },
  {
   "cell_type": "code",
   "execution_count": null,
   "metadata": {},
   "outputs": [
    {
     "data": {
      "application/vnd.plotly.v1+json": {
       "config": {
        "plotlyServerURL": "https://plot.ly"
       },
       "data": [
        {
         "marker": {
          "color": [
           "rgb(31,119,180)",
           "rgb(255,127,14)",
           "rgb(44,160,44)"
          ]
         },
         "type": "bar",
         "x": [
          "No Disabilities",
          "Milder Disabilities",
          "Severe Disabilities"
         ],
         "y": [
          78.12500000000001,
          73.63333333333334,
          44.291666666666664
         ]
        }
       ],
       "layout": {
        "template": {
         "data": {
          "bar": [
           {
            "error_x": {
             "color": "#2a3f5f"
            },
            "error_y": {
             "color": "#2a3f5f"
            },
            "marker": {
             "line": {
              "color": "#E5ECF6",
              "width": 0.5
             },
             "pattern": {
              "fillmode": "overlay",
              "size": 10,
              "solidity": 0.2
             }
            },
            "type": "bar"
           }
          ],
          "barpolar": [
           {
            "marker": {
             "line": {
              "color": "#E5ECF6",
              "width": 0.5
             },
             "pattern": {
              "fillmode": "overlay",
              "size": 10,
              "solidity": 0.2
             }
            },
            "type": "barpolar"
           }
          ],
          "carpet": [
           {
            "aaxis": {
             "endlinecolor": "#2a3f5f",
             "gridcolor": "white",
             "linecolor": "white",
             "minorgridcolor": "white",
             "startlinecolor": "#2a3f5f"
            },
            "baxis": {
             "endlinecolor": "#2a3f5f",
             "gridcolor": "white",
             "linecolor": "white",
             "minorgridcolor": "white",
             "startlinecolor": "#2a3f5f"
            },
            "type": "carpet"
           }
          ],
          "choropleth": [
           {
            "colorbar": {
             "outlinewidth": 0,
             "ticks": ""
            },
            "type": "choropleth"
           }
          ],
          "contour": [
           {
            "colorbar": {
             "outlinewidth": 0,
             "ticks": ""
            },
            "colorscale": [
             [
              0,
              "#0d0887"
             ],
             [
              0.1111111111111111,
              "#46039f"
             ],
             [
              0.2222222222222222,
              "#7201a8"
             ],
             [
              0.3333333333333333,
              "#9c179e"
             ],
             [
              0.4444444444444444,
              "#bd3786"
             ],
             [
              0.5555555555555556,
              "#d8576b"
             ],
             [
              0.6666666666666666,
              "#ed7953"
             ],
             [
              0.7777777777777778,
              "#fb9f3a"
             ],
             [
              0.8888888888888888,
              "#fdca26"
             ],
             [
              1,
              "#f0f921"
             ]
            ],
            "type": "contour"
           }
          ],
          "contourcarpet": [
           {
            "colorbar": {
             "outlinewidth": 0,
             "ticks": ""
            },
            "type": "contourcarpet"
           }
          ],
          "heatmap": [
           {
            "colorbar": {
             "outlinewidth": 0,
             "ticks": ""
            },
            "colorscale": [
             [
              0,
              "#0d0887"
             ],
             [
              0.1111111111111111,
              "#46039f"
             ],
             [
              0.2222222222222222,
              "#7201a8"
             ],
             [
              0.3333333333333333,
              "#9c179e"
             ],
             [
              0.4444444444444444,
              "#bd3786"
             ],
             [
              0.5555555555555556,
              "#d8576b"
             ],
             [
              0.6666666666666666,
              "#ed7953"
             ],
             [
              0.7777777777777778,
              "#fb9f3a"
             ],
             [
              0.8888888888888888,
              "#fdca26"
             ],
             [
              1,
              "#f0f921"
             ]
            ],
            "type": "heatmap"
           }
          ],
          "heatmapgl": [
           {
            "colorbar": {
             "outlinewidth": 0,
             "ticks": ""
            },
            "colorscale": [
             [
              0,
              "#0d0887"
             ],
             [
              0.1111111111111111,
              "#46039f"
             ],
             [
              0.2222222222222222,
              "#7201a8"
             ],
             [
              0.3333333333333333,
              "#9c179e"
             ],
             [
              0.4444444444444444,
              "#bd3786"
             ],
             [
              0.5555555555555556,
              "#d8576b"
             ],
             [
              0.6666666666666666,
              "#ed7953"
             ],
             [
              0.7777777777777778,
              "#fb9f3a"
             ],
             [
              0.8888888888888888,
              "#fdca26"
             ],
             [
              1,
              "#f0f921"
             ]
            ],
            "type": "heatmapgl"
           }
          ],
          "histogram": [
           {
            "marker": {
             "pattern": {
              "fillmode": "overlay",
              "size": 10,
              "solidity": 0.2
             }
            },
            "type": "histogram"
           }
          ],
          "histogram2d": [
           {
            "colorbar": {
             "outlinewidth": 0,
             "ticks": ""
            },
            "colorscale": [
             [
              0,
              "#0d0887"
             ],
             [
              0.1111111111111111,
              "#46039f"
             ],
             [
              0.2222222222222222,
              "#7201a8"
             ],
             [
              0.3333333333333333,
              "#9c179e"
             ],
             [
              0.4444444444444444,
              "#bd3786"
             ],
             [
              0.5555555555555556,
              "#d8576b"
             ],
             [
              0.6666666666666666,
              "#ed7953"
             ],
             [
              0.7777777777777778,
              "#fb9f3a"
             ],
             [
              0.8888888888888888,
              "#fdca26"
             ],
             [
              1,
              "#f0f921"
             ]
            ],
            "type": "histogram2d"
           }
          ],
          "histogram2dcontour": [
           {
            "colorbar": {
             "outlinewidth": 0,
             "ticks": ""
            },
            "colorscale": [
             [
              0,
              "#0d0887"
             ],
             [
              0.1111111111111111,
              "#46039f"
             ],
             [
              0.2222222222222222,
              "#7201a8"
             ],
             [
              0.3333333333333333,
              "#9c179e"
             ],
             [
              0.4444444444444444,
              "#bd3786"
             ],
             [
              0.5555555555555556,
              "#d8576b"
             ],
             [
              0.6666666666666666,
              "#ed7953"
             ],
             [
              0.7777777777777778,
              "#fb9f3a"
             ],
             [
              0.8888888888888888,
              "#fdca26"
             ],
             [
              1,
              "#f0f921"
             ]
            ],
            "type": "histogram2dcontour"
           }
          ],
          "mesh3d": [
           {
            "colorbar": {
             "outlinewidth": 0,
             "ticks": ""
            },
            "type": "mesh3d"
           }
          ],
          "parcoords": [
           {
            "line": {
             "colorbar": {
              "outlinewidth": 0,
              "ticks": ""
             }
            },
            "type": "parcoords"
           }
          ],
          "pie": [
           {
            "automargin": true,
            "type": "pie"
           }
          ],
          "scatter": [
           {
            "fillpattern": {
             "fillmode": "overlay",
             "size": 10,
             "solidity": 0.2
            },
            "type": "scatter"
           }
          ],
          "scatter3d": [
           {
            "line": {
             "colorbar": {
              "outlinewidth": 0,
              "ticks": ""
             }
            },
            "marker": {
             "colorbar": {
              "outlinewidth": 0,
              "ticks": ""
             }
            },
            "type": "scatter3d"
           }
          ],
          "scattercarpet": [
           {
            "marker": {
             "colorbar": {
              "outlinewidth": 0,
              "ticks": ""
             }
            },
            "type": "scattercarpet"
           }
          ],
          "scattergeo": [
           {
            "marker": {
             "colorbar": {
              "outlinewidth": 0,
              "ticks": ""
             }
            },
            "type": "scattergeo"
           }
          ],
          "scattergl": [
           {
            "marker": {
             "colorbar": {
              "outlinewidth": 0,
              "ticks": ""
             }
            },
            "type": "scattergl"
           }
          ],
          "scattermapbox": [
           {
            "marker": {
             "colorbar": {
              "outlinewidth": 0,
              "ticks": ""
             }
            },
            "type": "scattermapbox"
           }
          ],
          "scatterpolar": [
           {
            "marker": {
             "colorbar": {
              "outlinewidth": 0,
              "ticks": ""
             }
            },
            "type": "scatterpolar"
           }
          ],
          "scatterpolargl": [
           {
            "marker": {
             "colorbar": {
              "outlinewidth": 0,
              "ticks": ""
             }
            },
            "type": "scatterpolargl"
           }
          ],
          "scatterternary": [
           {
            "marker": {
             "colorbar": {
              "outlinewidth": 0,
              "ticks": ""
             }
            },
            "type": "scatterternary"
           }
          ],
          "surface": [
           {
            "colorbar": {
             "outlinewidth": 0,
             "ticks": ""
            },
            "colorscale": [
             [
              0,
              "#0d0887"
             ],
             [
              0.1111111111111111,
              "#46039f"
             ],
             [
              0.2222222222222222,
              "#7201a8"
             ],
             [
              0.3333333333333333,
              "#9c179e"
             ],
             [
              0.4444444444444444,
              "#bd3786"
             ],
             [
              0.5555555555555556,
              "#d8576b"
             ],
             [
              0.6666666666666666,
              "#ed7953"
             ],
             [
              0.7777777777777778,
              "#fb9f3a"
             ],
             [
              0.8888888888888888,
              "#fdca26"
             ],
             [
              1,
              "#f0f921"
             ]
            ],
            "type": "surface"
           }
          ],
          "table": [
           {
            "cells": {
             "fill": {
              "color": "#EBF0F8"
             },
             "line": {
              "color": "white"
             }
            },
            "header": {
             "fill": {
              "color": "#C8D4E3"
             },
             "line": {
              "color": "white"
             }
            },
            "type": "table"
           }
          ]
         },
         "layout": {
          "annotationdefaults": {
           "arrowcolor": "#2a3f5f",
           "arrowhead": 0,
           "arrowwidth": 1
          },
          "autotypenumbers": "strict",
          "coloraxis": {
           "colorbar": {
            "outlinewidth": 0,
            "ticks": ""
           }
          },
          "colorscale": {
           "diverging": [
            [
             0,
             "#8e0152"
            ],
            [
             0.1,
             "#c51b7d"
            ],
            [
             0.2,
             "#de77ae"
            ],
            [
             0.3,
             "#f1b6da"
            ],
            [
             0.4,
             "#fde0ef"
            ],
            [
             0.5,
             "#f7f7f7"
            ],
            [
             0.6,
             "#e6f5d0"
            ],
            [
             0.7,
             "#b8e186"
            ],
            [
             0.8,
             "#7fbc41"
            ],
            [
             0.9,
             "#4d9221"
            ],
            [
             1,
             "#276419"
            ]
           ],
           "sequential": [
            [
             0,
             "#0d0887"
            ],
            [
             0.1111111111111111,
             "#46039f"
            ],
            [
             0.2222222222222222,
             "#7201a8"
            ],
            [
             0.3333333333333333,
             "#9c179e"
            ],
            [
             0.4444444444444444,
             "#bd3786"
            ],
            [
             0.5555555555555556,
             "#d8576b"
            ],
            [
             0.6666666666666666,
             "#ed7953"
            ],
            [
             0.7777777777777778,
             "#fb9f3a"
            ],
            [
             0.8888888888888888,
             "#fdca26"
            ],
            [
             1,
             "#f0f921"
            ]
           ],
           "sequentialminus": [
            [
             0,
             "#0d0887"
            ],
            [
             0.1111111111111111,
             "#46039f"
            ],
            [
             0.2222222222222222,
             "#7201a8"
            ],
            [
             0.3333333333333333,
             "#9c179e"
            ],
            [
             0.4444444444444444,
             "#bd3786"
            ],
            [
             0.5555555555555556,
             "#d8576b"
            ],
            [
             0.6666666666666666,
             "#ed7953"
            ],
            [
             0.7777777777777778,
             "#fb9f3a"
            ],
            [
             0.8888888888888888,
             "#fdca26"
            ],
            [
             1,
             "#f0f921"
            ]
           ]
          },
          "colorway": [
           "#636efa",
           "#EF553B",
           "#00cc96",
           "#ab63fa",
           "#FFA15A",
           "#19d3f3",
           "#FF6692",
           "#B6E880",
           "#FF97FF",
           "#FECB52"
          ],
          "font": {
           "color": "#2a3f5f"
          },
          "geo": {
           "bgcolor": "white",
           "lakecolor": "white",
           "landcolor": "#E5ECF6",
           "showlakes": true,
           "showland": true,
           "subunitcolor": "white"
          },
          "hoverlabel": {
           "align": "left"
          },
          "hovermode": "closest",
          "mapbox": {
           "style": "light"
          },
          "paper_bgcolor": "white",
          "plot_bgcolor": "#E5ECF6",
          "polar": {
           "angularaxis": {
            "gridcolor": "white",
            "linecolor": "white",
            "ticks": ""
           },
           "bgcolor": "#E5ECF6",
           "radialaxis": {
            "gridcolor": "white",
            "linecolor": "white",
            "ticks": ""
           }
          },
          "scene": {
           "xaxis": {
            "backgroundcolor": "#E5ECF6",
            "gridcolor": "white",
            "gridwidth": 2,
            "linecolor": "white",
            "showbackground": true,
            "ticks": "",
            "zerolinecolor": "white"
           },
           "yaxis": {
            "backgroundcolor": "#E5ECF6",
            "gridcolor": "white",
            "gridwidth": 2,
            "linecolor": "white",
            "showbackground": true,
            "ticks": "",
            "zerolinecolor": "white"
           },
           "zaxis": {
            "backgroundcolor": "#E5ECF6",
            "gridcolor": "white",
            "gridwidth": 2,
            "linecolor": "white",
            "showbackground": true,
            "ticks": "",
            "zerolinecolor": "white"
           }
          },
          "shapedefaults": {
           "line": {
            "color": "#2a3f5f"
           }
          },
          "ternary": {
           "aaxis": {
            "gridcolor": "white",
            "linecolor": "white",
            "ticks": ""
           },
           "baxis": {
            "gridcolor": "white",
            "linecolor": "white",
            "ticks": ""
           },
           "bgcolor": "#E5ECF6",
           "caxis": {
            "gridcolor": "white",
            "linecolor": "white",
            "ticks": ""
           }
          },
          "title": {
           "x": 0.05
          },
          "xaxis": {
           "automargin": true,
           "gridcolor": "white",
           "linecolor": "white",
           "ticks": "",
           "title": {
            "standoff": 15
           },
           "zerolinecolor": "white",
           "zerolinewidth": 2
          },
          "yaxis": {
           "automargin": true,
           "gridcolor": "white",
           "linecolor": "white",
           "ticks": "",
           "title": {
            "standoff": 15
           },
           "zerolinecolor": "white",
           "zerolinewidth": 2
          }
         }
        },
        "title": {
         "text": "Mean Employment Percent by Disabilities"
        },
        "xaxis": {
         "title": {
          "text": "Disabilities"
         }
        },
        "yaxis": {
         "title": {
          "text": "Mean Employment Percent"
         }
        }
       }
      }
     },
     "metadata": {},
     "output_type": "display_data"
    }
   ],
   "source": [
    "# Calculate the mean employment percentage for each group\n",
    "no_disabilities_mean = employment.loc[employment['Disabilities'] == 0, 'Employment Percent'].mean()\n",
    "milder_disabilities_mean = employment.loc[employment['Milder'] == 1, 'Employment Percent'].mean()\n",
    "severe_disabilities_mean = employment.loc[employment['Severe'] == 1, 'Employment Percent'].mean()\n",
    "\n",
    "data = {\n",
    "    'Disabilities': ['No Disabilities', 'Milder Disabilities', 'Severe Disabilities'],\n",
    "    'Mean Employment Percent': [no_disabilities_mean, milder_disabilities_mean, severe_disabilities_mean]\n",
    "}\n",
    "df = pd.DataFrame(data)\n",
    "\n",
    "mean_fig_total = go.Figure(data=go.Bar(\n",
    "    x=df['Disabilities'],\n",
    "    y=df['Mean Employment Percent'],\n",
    "    marker=dict(color=['rgb(31,119,180)', 'rgb(255,127,14)', 'rgb(44,160,44)'])\n",
    "))\n",
    "\n",
    "mean_fig_total.update_layout(\n",
    "    xaxis=dict(title='Disabilities'),\n",
    "    yaxis=dict(title='Mean Employment Percent'),\n",
    "    title='Mean Employment Percent by Disabilities'\n",
    ").show()"
   ]
  },
  {
   "cell_type": "code",
   "execution_count": null,
   "metadata": {},
   "outputs": [
    {
     "data": {
      "application/vnd.plotly.v1+json": {
       "config": {
        "plotlyServerURL": "https://plot.ly"
       },
       "data": [
        {
         "alignmentgroup": "True",
         "hovertemplate": "Potential to work=With work potential <br>Sex=%{x}<br>Number=%{y}<extra></extra>",
         "legendgroup": "With work potential ",
         "marker": {
          "color": "#636efa",
          "pattern": {
           "shape": ""
          }
         },
         "name": "With work potential ",
         "offsetgroup": "With work potential ",
         "orientation": "v",
         "showlegend": true,
         "textposition": "auto",
         "type": "bar",
         "x": [
          "Both Sexes",
          "Males",
          "Females"
         ],
         "xaxis": "x",
         "y": [
          644640,
          294440,
          350200
         ],
         "yaxis": "y"
        },
        {
         "alignmentgroup": "True",
         "hovertemplate": "Potential to work=Without work potential <br>Sex=%{x}<br>Number=%{y}<extra></extra>",
         "legendgroup": "Without work potential ",
         "marker": {
          "color": "#EF553B",
          "pattern": {
           "shape": ""
          }
         },
         "name": "Without work potential ",
         "offsetgroup": "Without work potential ",
         "orientation": "v",
         "showlegend": true,
         "textposition": "auto",
         "type": "bar",
         "x": [
          "Both Sexes",
          "Males",
          "Females"
         ],
         "xaxis": "x",
         "y": [
          1003820,
          405680,
          598140
         ],
         "yaxis": "y"
        }
       ],
       "layout": {
        "barmode": "group",
        "legend": {
         "title": {
          "text": "Potential to work"
         },
         "tracegroupgap": 0
        },
        "margin": {
         "t": 60
        },
        "template": {
         "data": {
          "bar": [
           {
            "error_x": {
             "color": "#2a3f5f"
            },
            "error_y": {
             "color": "#2a3f5f"
            },
            "marker": {
             "line": {
              "color": "#E5ECF6",
              "width": 0.5
             },
             "pattern": {
              "fillmode": "overlay",
              "size": 10,
              "solidity": 0.2
             }
            },
            "type": "bar"
           }
          ],
          "barpolar": [
           {
            "marker": {
             "line": {
              "color": "#E5ECF6",
              "width": 0.5
             },
             "pattern": {
              "fillmode": "overlay",
              "size": 10,
              "solidity": 0.2
             }
            },
            "type": "barpolar"
           }
          ],
          "carpet": [
           {
            "aaxis": {
             "endlinecolor": "#2a3f5f",
             "gridcolor": "white",
             "linecolor": "white",
             "minorgridcolor": "white",
             "startlinecolor": "#2a3f5f"
            },
            "baxis": {
             "endlinecolor": "#2a3f5f",
             "gridcolor": "white",
             "linecolor": "white",
             "minorgridcolor": "white",
             "startlinecolor": "#2a3f5f"
            },
            "type": "carpet"
           }
          ],
          "choropleth": [
           {
            "colorbar": {
             "outlinewidth": 0,
             "ticks": ""
            },
            "type": "choropleth"
           }
          ],
          "contour": [
           {
            "colorbar": {
             "outlinewidth": 0,
             "ticks": ""
            },
            "colorscale": [
             [
              0,
              "#0d0887"
             ],
             [
              0.1111111111111111,
              "#46039f"
             ],
             [
              0.2222222222222222,
              "#7201a8"
             ],
             [
              0.3333333333333333,
              "#9c179e"
             ],
             [
              0.4444444444444444,
              "#bd3786"
             ],
             [
              0.5555555555555556,
              "#d8576b"
             ],
             [
              0.6666666666666666,
              "#ed7953"
             ],
             [
              0.7777777777777778,
              "#fb9f3a"
             ],
             [
              0.8888888888888888,
              "#fdca26"
             ],
             [
              1,
              "#f0f921"
             ]
            ],
            "type": "contour"
           }
          ],
          "contourcarpet": [
           {
            "colorbar": {
             "outlinewidth": 0,
             "ticks": ""
            },
            "type": "contourcarpet"
           }
          ],
          "heatmap": [
           {
            "colorbar": {
             "outlinewidth": 0,
             "ticks": ""
            },
            "colorscale": [
             [
              0,
              "#0d0887"
             ],
             [
              0.1111111111111111,
              "#46039f"
             ],
             [
              0.2222222222222222,
              "#7201a8"
             ],
             [
              0.3333333333333333,
              "#9c179e"
             ],
             [
              0.4444444444444444,
              "#bd3786"
             ],
             [
              0.5555555555555556,
              "#d8576b"
             ],
             [
              0.6666666666666666,
              "#ed7953"
             ],
             [
              0.7777777777777778,
              "#fb9f3a"
             ],
             [
              0.8888888888888888,
              "#fdca26"
             ],
             [
              1,
              "#f0f921"
             ]
            ],
            "type": "heatmap"
           }
          ],
          "heatmapgl": [
           {
            "colorbar": {
             "outlinewidth": 0,
             "ticks": ""
            },
            "colorscale": [
             [
              0,
              "#0d0887"
             ],
             [
              0.1111111111111111,
              "#46039f"
             ],
             [
              0.2222222222222222,
              "#7201a8"
             ],
             [
              0.3333333333333333,
              "#9c179e"
             ],
             [
              0.4444444444444444,
              "#bd3786"
             ],
             [
              0.5555555555555556,
              "#d8576b"
             ],
             [
              0.6666666666666666,
              "#ed7953"
             ],
             [
              0.7777777777777778,
              "#fb9f3a"
             ],
             [
              0.8888888888888888,
              "#fdca26"
             ],
             [
              1,
              "#f0f921"
             ]
            ],
            "type": "heatmapgl"
           }
          ],
          "histogram": [
           {
            "marker": {
             "pattern": {
              "fillmode": "overlay",
              "size": 10,
              "solidity": 0.2
             }
            },
            "type": "histogram"
           }
          ],
          "histogram2d": [
           {
            "colorbar": {
             "outlinewidth": 0,
             "ticks": ""
            },
            "colorscale": [
             [
              0,
              "#0d0887"
             ],
             [
              0.1111111111111111,
              "#46039f"
             ],
             [
              0.2222222222222222,
              "#7201a8"
             ],
             [
              0.3333333333333333,
              "#9c179e"
             ],
             [
              0.4444444444444444,
              "#bd3786"
             ],
             [
              0.5555555555555556,
              "#d8576b"
             ],
             [
              0.6666666666666666,
              "#ed7953"
             ],
             [
              0.7777777777777778,
              "#fb9f3a"
             ],
             [
              0.8888888888888888,
              "#fdca26"
             ],
             [
              1,
              "#f0f921"
             ]
            ],
            "type": "histogram2d"
           }
          ],
          "histogram2dcontour": [
           {
            "colorbar": {
             "outlinewidth": 0,
             "ticks": ""
            },
            "colorscale": [
             [
              0,
              "#0d0887"
             ],
             [
              0.1111111111111111,
              "#46039f"
             ],
             [
              0.2222222222222222,
              "#7201a8"
             ],
             [
              0.3333333333333333,
              "#9c179e"
             ],
             [
              0.4444444444444444,
              "#bd3786"
             ],
             [
              0.5555555555555556,
              "#d8576b"
             ],
             [
              0.6666666666666666,
              "#ed7953"
             ],
             [
              0.7777777777777778,
              "#fb9f3a"
             ],
             [
              0.8888888888888888,
              "#fdca26"
             ],
             [
              1,
              "#f0f921"
             ]
            ],
            "type": "histogram2dcontour"
           }
          ],
          "mesh3d": [
           {
            "colorbar": {
             "outlinewidth": 0,
             "ticks": ""
            },
            "type": "mesh3d"
           }
          ],
          "parcoords": [
           {
            "line": {
             "colorbar": {
              "outlinewidth": 0,
              "ticks": ""
             }
            },
            "type": "parcoords"
           }
          ],
          "pie": [
           {
            "automargin": true,
            "type": "pie"
           }
          ],
          "scatter": [
           {
            "fillpattern": {
             "fillmode": "overlay",
             "size": 10,
             "solidity": 0.2
            },
            "type": "scatter"
           }
          ],
          "scatter3d": [
           {
            "line": {
             "colorbar": {
              "outlinewidth": 0,
              "ticks": ""
             }
            },
            "marker": {
             "colorbar": {
              "outlinewidth": 0,
              "ticks": ""
             }
            },
            "type": "scatter3d"
           }
          ],
          "scattercarpet": [
           {
            "marker": {
             "colorbar": {
              "outlinewidth": 0,
              "ticks": ""
             }
            },
            "type": "scattercarpet"
           }
          ],
          "scattergeo": [
           {
            "marker": {
             "colorbar": {
              "outlinewidth": 0,
              "ticks": ""
             }
            },
            "type": "scattergeo"
           }
          ],
          "scattergl": [
           {
            "marker": {
             "colorbar": {
              "outlinewidth": 0,
              "ticks": ""
             }
            },
            "type": "scattergl"
           }
          ],
          "scattermapbox": [
           {
            "marker": {
             "colorbar": {
              "outlinewidth": 0,
              "ticks": ""
             }
            },
            "type": "scattermapbox"
           }
          ],
          "scatterpolar": [
           {
            "marker": {
             "colorbar": {
              "outlinewidth": 0,
              "ticks": ""
             }
            },
            "type": "scatterpolar"
           }
          ],
          "scatterpolargl": [
           {
            "marker": {
             "colorbar": {
              "outlinewidth": 0,
              "ticks": ""
             }
            },
            "type": "scatterpolargl"
           }
          ],
          "scatterternary": [
           {
            "marker": {
             "colorbar": {
              "outlinewidth": 0,
              "ticks": ""
             }
            },
            "type": "scatterternary"
           }
          ],
          "surface": [
           {
            "colorbar": {
             "outlinewidth": 0,
             "ticks": ""
            },
            "colorscale": [
             [
              0,
              "#0d0887"
             ],
             [
              0.1111111111111111,
              "#46039f"
             ],
             [
              0.2222222222222222,
              "#7201a8"
             ],
             [
              0.3333333333333333,
              "#9c179e"
             ],
             [
              0.4444444444444444,
              "#bd3786"
             ],
             [
              0.5555555555555556,
              "#d8576b"
             ],
             [
              0.6666666666666666,
              "#ed7953"
             ],
             [
              0.7777777777777778,
              "#fb9f3a"
             ],
             [
              0.8888888888888888,
              "#fdca26"
             ],
             [
              1,
              "#f0f921"
             ]
            ],
            "type": "surface"
           }
          ],
          "table": [
           {
            "cells": {
             "fill": {
              "color": "#EBF0F8"
             },
             "line": {
              "color": "white"
             }
            },
            "header": {
             "fill": {
              "color": "#C8D4E3"
             },
             "line": {
              "color": "white"
             }
            },
            "type": "table"
           }
          ]
         },
         "layout": {
          "annotationdefaults": {
           "arrowcolor": "#2a3f5f",
           "arrowhead": 0,
           "arrowwidth": 1
          },
          "autotypenumbers": "strict",
          "coloraxis": {
           "colorbar": {
            "outlinewidth": 0,
            "ticks": ""
           }
          },
          "colorscale": {
           "diverging": [
            [
             0,
             "#8e0152"
            ],
            [
             0.1,
             "#c51b7d"
            ],
            [
             0.2,
             "#de77ae"
            ],
            [
             0.3,
             "#f1b6da"
            ],
            [
             0.4,
             "#fde0ef"
            ],
            [
             0.5,
             "#f7f7f7"
            ],
            [
             0.6,
             "#e6f5d0"
            ],
            [
             0.7,
             "#b8e186"
            ],
            [
             0.8,
             "#7fbc41"
            ],
            [
             0.9,
             "#4d9221"
            ],
            [
             1,
             "#276419"
            ]
           ],
           "sequential": [
            [
             0,
             "#0d0887"
            ],
            [
             0.1111111111111111,
             "#46039f"
            ],
            [
             0.2222222222222222,
             "#7201a8"
            ],
            [
             0.3333333333333333,
             "#9c179e"
            ],
            [
             0.4444444444444444,
             "#bd3786"
            ],
            [
             0.5555555555555556,
             "#d8576b"
            ],
            [
             0.6666666666666666,
             "#ed7953"
            ],
            [
             0.7777777777777778,
             "#fb9f3a"
            ],
            [
             0.8888888888888888,
             "#fdca26"
            ],
            [
             1,
             "#f0f921"
            ]
           ],
           "sequentialminus": [
            [
             0,
             "#0d0887"
            ],
            [
             0.1111111111111111,
             "#46039f"
            ],
            [
             0.2222222222222222,
             "#7201a8"
            ],
            [
             0.3333333333333333,
             "#9c179e"
            ],
            [
             0.4444444444444444,
             "#bd3786"
            ],
            [
             0.5555555555555556,
             "#d8576b"
            ],
            [
             0.6666666666666666,
             "#ed7953"
            ],
            [
             0.7777777777777778,
             "#fb9f3a"
            ],
            [
             0.8888888888888888,
             "#fdca26"
            ],
            [
             1,
             "#f0f921"
            ]
           ]
          },
          "colorway": [
           "#636efa",
           "#EF553B",
           "#00cc96",
           "#ab63fa",
           "#FFA15A",
           "#19d3f3",
           "#FF6692",
           "#B6E880",
           "#FF97FF",
           "#FECB52"
          ],
          "font": {
           "color": "#2a3f5f"
          },
          "geo": {
           "bgcolor": "white",
           "lakecolor": "white",
           "landcolor": "#E5ECF6",
           "showlakes": true,
           "showland": true,
           "subunitcolor": "white"
          },
          "hoverlabel": {
           "align": "left"
          },
          "hovermode": "closest",
          "mapbox": {
           "style": "light"
          },
          "paper_bgcolor": "white",
          "plot_bgcolor": "#E5ECF6",
          "polar": {
           "angularaxis": {
            "gridcolor": "white",
            "linecolor": "white",
            "ticks": ""
           },
           "bgcolor": "#E5ECF6",
           "radialaxis": {
            "gridcolor": "white",
            "linecolor": "white",
            "ticks": ""
           }
          },
          "scene": {
           "xaxis": {
            "backgroundcolor": "#E5ECF6",
            "gridcolor": "white",
            "gridwidth": 2,
            "linecolor": "white",
            "showbackground": true,
            "ticks": "",
            "zerolinecolor": "white"
           },
           "yaxis": {
            "backgroundcolor": "#E5ECF6",
            "gridcolor": "white",
            "gridwidth": 2,
            "linecolor": "white",
            "showbackground": true,
            "ticks": "",
            "zerolinecolor": "white"
           },
           "zaxis": {
            "backgroundcolor": "#E5ECF6",
            "gridcolor": "white",
            "gridwidth": 2,
            "linecolor": "white",
            "showbackground": true,
            "ticks": "",
            "zerolinecolor": "white"
           }
          },
          "shapedefaults": {
           "line": {
            "color": "#2a3f5f"
           }
          },
          "ternary": {
           "aaxis": {
            "gridcolor": "white",
            "linecolor": "white",
            "ticks": ""
           },
           "baxis": {
            "gridcolor": "white",
            "linecolor": "white",
            "ticks": ""
           },
           "bgcolor": "#E5ECF6",
           "caxis": {
            "gridcolor": "white",
            "linecolor": "white",
            "ticks": ""
           }
          },
          "title": {
           "x": 0.05
          },
          "xaxis": {
           "automargin": true,
           "gridcolor": "white",
           "linecolor": "white",
           "ticks": "",
           "title": {
            "standoff": 15
           },
           "zerolinecolor": "white",
           "zerolinewidth": 2
          },
          "yaxis": {
           "automargin": true,
           "gridcolor": "white",
           "linecolor": "white",
           "ticks": "",
           "title": {
            "standoff": 15
           },
           "zerolinecolor": "white",
           "zerolinewidth": 2
          }
         }
        },
        "xaxis": {
         "anchor": "y",
         "domain": [
          0,
          1
         ],
         "title": {
          "text": "Sex"
         }
        },
        "yaxis": {
         "anchor": "x",
         "domain": [
          0,
          1
         ],
         "title": {
          "text": "Number"
         }
        }
       }
      }
     },
     "metadata": {},
     "output_type": "display_data"
    }
   ],
   "source": [
    "male_female_queried = male_female[~male_female['Potential to work'].str.contains('Total, with or without work potential')]\n",
    "grouped_male_female = px.bar(male_female_queried, x='Sex', y='Number', color='Potential to work', barmode='group').show()"
   ]
  }
 ],
 "metadata": {
  "kernelspec": {
   "display_name": "Python 3",
   "language": "python",
   "name": "python3"
  },
  "language_info": {
   "codemirror_mode": {
    "name": "ipython",
    "version": 3
   },
   "file_extension": ".py",
   "mimetype": "text/x-python",
   "name": "python",
   "nbconvert_exporter": "python",
   "pygments_lexer": "ipython3",
   "version": "3.10.8"
  },
  "orig_nbformat": 4
 },
 "nbformat": 4,
 "nbformat_minor": 2
}
