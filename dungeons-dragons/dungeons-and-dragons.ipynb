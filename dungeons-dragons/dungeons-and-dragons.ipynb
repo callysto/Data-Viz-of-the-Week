{
 "cells": [
  {
   "cell_type": "markdown",
   "metadata": {},
   "source": [
    "![Callysto.ca Banner](https://github.com/callysto/curriculum-notebooks/blob/master/callysto-notebook-banner-top.jpg?raw=true)"
   ]
  },
  {
   "cell_type": "markdown",
   "metadata": {},
   "source": [
    "# Callysto’s Weekly Data Visualization\n",
    "\n",
    "## Dungeons and Dragons\n",
    "\n",
    "### Recommended Grade levels: 6-12\n",
    "<br>"
   ]
  },
  {
   "cell_type": "markdown",
   "metadata": {},
   "source": [
    "### Instructions\n",
    "#### “Run” the cells to see the graphs\n",
    "Click “Cell” and select “Run All”.<br> This will import the data and run all the code, so you can see this week's data visualization. Scroll to the top after you’ve run the cells.<br> \n",
    "\n",
    "![instructions](https://github.com/callysto/data-viz-of-the-week/blob/main/images/instructions.png?raw=true)\n",
    "\n",
    "**You don’t need to do any coding to view the visualizations**.\n",
    "The plots generated in this notebook are interactive. You can hover over and click on elements to see more information. \n",
    "\n",
    "Email contact@callysto.ca if you experience issues."
   ]
  },
  {
   "cell_type": "markdown",
   "metadata": {},
   "source": [
    "### About this Notebook\n",
    "\n",
    "Callysto's Weekly Data Visualization is a learning resource that aims to develop data literacy skills. We provide Grades 5-12 teachers and students with a data visualization, like a graph, to interpret. This companion resource walks learners through how the data visualization is created and interpreted by a data scientist. \n",
    "\n",
    "The steps of the data analysis process are listed below and applied to each weekly topic.\n",
    "\n",
    "1. Question - What are we trying to answer? \n",
    "2. Gather - Find the data source(s) you will need. \n",
    "3. Organize - Arrange the data, so that you can easily explore it. \n",
    "4. Explore - Examine the data to look for evidence to answer the question. This includes creating visualizations. \n",
    "5. Interpret - Describe what's happening in the data visualization. \n",
    "6. Communicate - Explain how the evidence answers the question.\n",
    "\n",
    "### Acknowledgement\n",
    "\n",
    "Dungeons and Dragons is a property of [Wizards of the Coast](https://dnd.wizards.com/). For more information about the game, check out their website, or some of the resources linked at the end of the notebook."
   ]
  },
  {
   "cell_type": "markdown",
   "metadata": {},
   "source": [
    "# Question\n",
    "\n",
    "What are the most popular types of Dungeons and Dragons characters to play?\n",
    "\n",
    "### Background\n",
    "\n",
    "Dungeons and Dragons (D&D) is an incredibly popular table-top roleplaying game (TTRPG), first published in 1974 after being developed by Gary Gygax and Dave Arneson. Over the years, it has seen its popularity and sales grow exponentially, as newer editions are released and the game finds wider adoption. As of writing, the current version is 5th Edition, which was released in late 2014, though a newer edition is set for release in 2024.\n",
    "\n",
    "The gameplay consists of one player, the Dungeon Master (or DM), describing the setting and interpreting the rules, as other players act out their characters within that world. Often D&D is played without any board, but sometimes groups will use maps and miniature figurines to keep track of the chaos. In either case, every player will have their character sheet and a set of dice.\n",
    "\n",
    "The game presents an opportunity for players to act out the gameplay, taking on the persona of their character and interacting with the world according to their character's abilities. For a lot of D&D players, creating their character is the most important and most creative aspect of the game, so we can explore what's common (and what isn't) when it comes to character creation.\n",
    "\n",
    "\n",
    "### Goal\n",
    "Can we determine some of the most popular choices in character building in D&D, and develop a character ourselves?"
   ]
  },
  {
   "cell_type": "markdown",
   "metadata": {},
   "source": [
    "# Gather\n",
    "\n",
    "### Code:\n",
    "The code below will import the Python programming libraries we need to gather and organize the data to answer our question."
   ]
  },
  {
   "cell_type": "code",
   "execution_count": null,
   "metadata": {},
   "outputs": [],
   "source": [
    "## import libraries\n",
    "import pandas as pd\n",
    "import plotly.express as px\n",
    "import random"
   ]
  },
  {
   "cell_type": "markdown",
   "metadata": {},
   "source": [
    "### Data:\n",
    "\n",
    "For this notebook, the data came from a user who had developed an app to print character sheets. As part of the printing process, the user was able to collect data on the characters, and pulled it together into one large dataset that they've shared on their [GitHub profile here](https://github.com/oganm/dnddata)."
   ]
  },
  {
   "cell_type": "markdown",
   "metadata": {},
   "source": [
    "### Import the data"
   ]
  },
  {
   "cell_type": "code",
   "execution_count": null,
   "metadata": {},
   "outputs": [],
   "source": [
    "## import data\n",
    "df = pd.read_csv('data/dnd_chars_data.csv')\n",
    "df"
   ]
  },
  {
   "cell_type": "markdown",
   "metadata": {},
   "source": [
    "### Comment on the data\n",
    "As we can see from the numbers below the dataframe, we have 10,894 characters in this dataset, where each character has 36 attributes for us to consider. We probably won't need all of these, so at the next step we can remove unneeded columns."
   ]
  },
  {
   "cell_type": "markdown",
   "metadata": {},
   "source": [
    "# Organize\n",
    "\n",
    "The code below will arrange the data cleanly so that we can do analysis on it. This is a quality control step for our data and involves examining the data to detect anything odd with the data (e.g. structure, missing values), fixing the oddities, and checking if the fixes worked.\n",
    "\n",
    "The first few columns and the final column contain information that might be important for the creator of the app that collected the data, but they don't hold any meaning for us, so we can get of them. Similarly, there are several columns throughout the dataset that contain information on alignment, but the data is spotty, so it might be best to remove it."
   ]
  },
  {
   "cell_type": "code",
   "execution_count": null,
   "metadata": {},
   "outputs": [],
   "source": [
    "# See what the column names are\n",
    "df.columns"
   ]
  },
  {
   "cell_type": "code",
   "execution_count": null,
   "metadata": {},
   "outputs": [],
   "source": [
    "df_cleaned = df.drop(['Unnamed: 0',\n",
    "                      'ip',\n",
    "                      'finger',\n",
    "                      'hash',\n",
    "                      'name',\n",
    "                      'alias',\n",
    "                      'alignment',\n",
    "                      'processedAlignment',\n",
    "                      'good',\n",
    "                      'lawful'],\n",
    "                    axis=1)\n",
    "df_cleaned"
   ]
  },
  {
   "cell_type": "markdown",
   "metadata": {},
   "source": [
    "One of the most important aspects of a D&D character is its class, as that has the greatest effect on how the character interacts with the world. There is information in the dataset about class, but because in D&D 5E you have the ability to *multiclass* (or have more than one class), storing this information in a single column can be kinda of muddy.\n",
    "\n",
    "Let's see what classes (or multiclass combinations) exist in this data, starting with the most classes;"
   ]
  },
  {
   "cell_type": "code",
   "execution_count": null,
   "metadata": {},
   "outputs": [],
   "source": [
    "sortedClasses = sorted(df_cleaned['justClass'].unique(),key=len)\n",
    "sortedClasses[::-1]"
   ]
  },
  {
   "cell_type": "markdown",
   "metadata": {},
   "source": [
    "Wow, there are really creative characters in here! It's not uncommon to multiclass so that you can take advantage of many attributes, but it's very unusual to have more than 2 or 3 multiclasses. Imagine keeping track of all those abilities and attributes!\n",
    "\n",
    "But as we see below, it's really not very common, and most of the top 20 most common classes are single classes:"
   ]
  },
  {
   "cell_type": "code",
   "execution_count": null,
   "metadata": {},
   "outputs": [],
   "source": [
    "classCounts = df_cleaned['justClass'].value_counts().head(20) # find 20 most common values for 'justClass' and their frequency\n",
    "classCounts"
   ]
  },
  {
   "cell_type": "markdown",
   "metadata": {},
   "source": [
    "All the same, we'll remove any entries that have absolutely unique classes, as they're not really representative of the data:"
   ]
  },
  {
   "cell_type": "code",
   "execution_count": null,
   "metadata": {},
   "outputs": [],
   "source": [
    "repeatedClass = set(classCounts[classCounts > 1].index.values) # find values for 'justClass' that appear more than once\n",
    "repeatedClass"
   ]
  },
  {
   "cell_type": "code",
   "execution_count": null,
   "metadata": {},
   "outputs": [],
   "source": [
    "df_cleaned = df_cleaned[df_cleaned['justClass'].isin(repeatedClass)]\n",
    "df_cleaned"
   ]
  },
  {
   "cell_type": "markdown",
   "metadata": {},
   "source": [
    "By removing those uncommon entries, our dataset went from 10,894 characters to 10,345, so we still retain $(10345 / 10894) \\approx 95\\%$ of our data!\n",
    "\n",
    "While we're here, we'll also do something similar with `race`, as there are likely many homebrew races in this dataset as well. For this part of cleaning, we'll take any race that makes an appearance more than 50 times in the dataset, as the subraces pollute this attribute quite a bit:"
   ]
  },
  {
   "cell_type": "code",
   "execution_count": null,
   "metadata": {},
   "outputs": [],
   "source": [
    "raceCounts = df_cleaned['race'].value_counts().head(45)\n",
    "repeatedRace = set(raceCounts[raceCounts > 50].index.values)\n",
    "df_cleaned = df_cleaned[df_cleaned['race'].isin(repeatedRace)]"
   ]
  },
  {
   "cell_type": "markdown",
   "metadata": {},
   "source": [
    "# Explore\n",
    "\n",
    "The code below will be used to help us look for evidence to answer our question. This can involve looking at data in table format, applying math and statistics, and creating different types of visualizations to represent our data.\n",
    "\n",
    "The first thing we should look at is which classes and races are the most popular. This is easy to do with a bar chart:"
   ]
  },
  {
   "cell_type": "code",
   "execution_count": null,
   "metadata": {},
   "outputs": [],
   "source": [
    "px.histogram(df_cleaned, x='justClass', \n",
    "             category_orders=dict(justClass=classCounts.index),\n",
    "             title='Most Popular D&D Classes',\n",
    "             labels={'justClass':'Class'})"
   ]
  },
  {
   "cell_type": "code",
   "execution_count": null,
   "metadata": {},
   "outputs": [],
   "source": [
    "px.histogram(df_cleaned, x='race', \n",
    "             category_orders=dict(race=raceCounts.index),\n",
    "             title='Most Popular D&D Races',\n",
    "             labels={'race':'Race'})"
   ]
  },
  {
   "cell_type": "markdown",
   "metadata": {},
   "source": [
    "# Interpret\n",
    "(Cycle between Explore and Interpret)<br>\n",
    "(Describe what’s happening in the data visualization (graph). What do you notice? For example, big or small values, or trends.)"
   ]
  },
  {
   "cell_type": "markdown",
   "metadata": {},
   "source": [
    "# Communicate\n",
    "Below we will discuss the results of the data exploration.\n",
    "(How does our key evidence help answer our question?)"
   ]
  },
  {
   "cell_type": "markdown",
   "metadata": {},
   "source": [
    "[![Callysto.ca License](https://github.com/callysto/curriculum-notebooks/blob/master/callysto-notebook-banner-bottom.jpg?raw=true)](https://github.com/callysto/curriculum-notebooks/blob/master/LICENSE.md)"
   ]
  }
 ],
 "metadata": {
  "kernelspec": {
   "display_name": "Python 3 (ipykernel)",
   "language": "python",
   "name": "python3"
  },
  "language_info": {
   "codemirror_mode": {
    "name": "ipython",
    "version": 3
   },
   "file_extension": ".py",
   "mimetype": "text/x-python",
   "name": "python",
   "nbconvert_exporter": "python",
   "pygments_lexer": "ipython3",
   "version": "3.9.13"
  }
 },
 "nbformat": 4,
 "nbformat_minor": 4
}
