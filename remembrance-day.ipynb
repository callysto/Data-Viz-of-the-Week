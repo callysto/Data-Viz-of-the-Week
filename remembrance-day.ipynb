{
 "cells": [
  {
   "cell_type": "markdown",
   "metadata": {},
   "source": [
    "![Callysto.ca Banner](https://github.com/callysto/curriculum-notebooks/blob/master/callysto-notebook-banner-top.jpg?raw=true)\n",
    "\n",
    "<a href=\"https://hub.callysto.ca/jupyter/hub/user-redirect/git-pull?repo=https%3A%2F%2Fgithub.com%2Fcallysto%2Fdata-viz-of-the-week&branch=main&subPath=remembrance-day.ipynb&depth=1\" target=\"_parent\"><img src=\"https://raw.githubusercontent.com/callysto/curriculum-notebooks/master/open-in-callysto-button.svg?sanitize=true\" width=\"123\" height=\"24\" alt=\"Open in Callysto\"/></a>"
   ]
  },
  {
   "cell_type": "markdown",
   "metadata": {},
   "source": [
    "# Remembrance Day\n",
    "\n",
    "## The Cost of Canada’s War\n",
    "\n",
    "A visualization of data from [Canadian War Museum](https://www.warmuseum.ca/firstworldwar/history/after-the-war/legacy/the-cost-of-canadas-war).\n",
    "\n",
    "### Died or Wounded\n",
    "\n",
    "We can create a pie chart showing how many Canadian soldiers died or were wounded during World War I."
   ]
  },
  {
   "cell_type": "code",
   "execution_count": null,
   "metadata": {},
   "outputs": [],
   "source": [
    "served = 424000\n",
    "wounded = 172000\n",
    "died = 59544+1388\n",
    "\n",
    "import plotly.express as px\n",
    "labels = ['died', 'wounded', 'not wounded']\n",
    "values = [died, wounded, served-(died+wounded)]\n",
    "fig = px.pie(names=labels, values=values, title='Canadian Soldiers in World War I')\n",
    "fig.update_traces(text=values,\n",
    "    marker=dict(colors=['black', 'red', 'white'],line={'color':'#000000','width':2}))\n",
    "fig.show()"
   ]
  },
  {
   "cell_type": "markdown",
   "metadata": {},
   "source": [
    "### Enlisted and Served\n",
    "\n",
    "As well, here is a bar chart showing the number of soldiers who enlisted and served overseas."
   ]
  },
  {
   "cell_type": "code",
   "execution_count": null,
   "metadata": {},
   "outputs": [],
   "source": [
    "px.bar(x=['enlisted','served'], y=[619636,424000], title='Canadian Soldiers in World War I')"
   ]
  },
  {
   "cell_type": "markdown",
   "metadata": {},
   "source": [
    "[![Callysto.ca License](https://github.com/callysto/curriculum-notebooks/blob/master/callysto-notebook-banner-bottom.jpg?raw=true)](https://github.com/callysto/curriculum-notebooks/blob/master/LICENSE.md)"
   ]
  }
 ],
 "metadata": {
  "kernelspec": {
   "display_name": "Python 3",
   "language": "python",
   "name": "python3"
  },
  "language_info": {
   "codemirror_mode": {
    "name": "ipython",
    "version": 3
   },
   "file_extension": ".py",
   "mimetype": "text/x-python",
   "name": "python",
   "nbconvert_exporter": "python",
   "pygments_lexer": "ipython3",
   "version": "3.7.6"
  }
 },
 "nbformat": 4,
 "nbformat_minor": 4
}
