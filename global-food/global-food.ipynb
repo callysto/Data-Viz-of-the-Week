{
 "cells": [
  {
   "cell_type": "markdown",
   "metadata": {},
   "source": [
    "![Callysto.ca Banner](https://github.com/callysto/curriculum-notebooks/blob/master/callysto-notebook-banner-top.jpg?raw=true)"
   ]
  },
  {
   "cell_type": "markdown",
   "metadata": {},
   "source": [
    "# Callysto's Weekly Data Visualization\n"
   ]
  },
  {
   "cell_type": "markdown",
   "metadata": {},
   "source": [
    "## Global Food Prices"
   ]
  },
  {
   "cell_type": "markdown",
   "metadata": {},
   "source": [
    "### Recommended Grade levels: 9-12"
   ]
  },
  {
   "cell_type": "markdown",
   "metadata": {},
   "source": [
    "### Instructions\n",
    "\n",
    "Click \"Cell\" and select \"Run All\".\n",
    "\n",
    "This will import the data and run all the code, so you can see this week's data visualization. Scroll back to the top after you’ve run the cells.\n",
    "\n",
    "![instructions](https://github.com/callysto/data-viz-of-the-week/blob/main/images/instructions.png?raw=true)\n",
    "\n",
    "**You don't need to do any coding to view the visualizations**.\n",
    "\n",
    "The plots generated in this notebook are interactive. You can hover over and click on elements to see more information. \n",
    "\n",
    "Email contact@callysto.ca if you experience issues."
   ]
  },
  {
   "cell_type": "markdown",
   "metadata": {},
   "source": [
    "### About this Notebook\n",
    "\n",
    "Callysto's Weekly Data Visualization is a learning resource that aims to develop data literacy skills. We provide Grades 5-12 teachers and students with a data visualization, like a graph, to interpret. This companion resource walks learners through how the data visualization is created and interpreted by a data scientist. \n",
    "\n",
    "The steps of the data analysis process are listed below and applied to each weekly topic.\n",
    "\n",
    "1. Question - What are we trying to answer?\n",
    "2. Gather - Find the data source(s) you will need. \n",
    "3. Organize - Arrange the data, so that you can easily explore it. \n",
    "4. Explore - Examine the data to look for evidence to answer the question. This includes creating visualizations. \n",
    "5. Interpret - Describe what's happening in the data visualization. \n",
    "6. Communicate - Explain how the evidence answers the question. "
   ]
  },
  {
   "cell_type": "markdown",
   "metadata": {},
   "source": [
    "## Question\n",
    "\n",
    "What are the prices of food around the world, and what can we learn from fluctuations in the prices of food globally? "
   ]
  },
  {
   "cell_type": "markdown",
   "metadata": {},
   "source": [
    "### Goal\n",
    "\n",
    "Our mission is to look at how much common foods cost in different parts of the world and over different times. Specifically, we want to compare food prices for certain food items across countries to examine which countries have high and low prices."
   ]
  },
  {
   "cell_type": "markdown",
   "metadata": {},
   "source": [
    "### Background\n",
    "\n",
    "Analyzing food item prices on a global scale holds significant importancce due to its far-reaching implications for individuals, communities, and economies. According to [this](https://cdn.dal.ca/content/dam/dalhousie/pdf/sites/agri-food/Canada%27s%20Food%20Price%20Report%202023_Digital.pdf) report on Canada's food prices, total foods increased in price by 10.3%.  Access to affordable and nutritious food is a fundamental human right, and understanding the dynamics of food prices is essential in addressing global challenges such as hunger and poverty. "
   ]
  },
  {
   "cell_type": "markdown",
   "metadata": {},
   "source": [
    "## Gather"
   ]
  },
  {
   "cell_type": "markdown",
   "metadata": {},
   "source": [
    "Global food price data was collected through [Kaggle](https://www.kaggle.com/datasets/lasaljaywardena/global-food-prices-dataset?resource=download), which is sourced by the [WFP](https://www.wfp.org/) (The World Food Program). The dataset is distributed by [HDX](https://data.humdata.org/). \n",
    "\n",
    "An important thing to note in this dataset is that food prices are relative to each food item's respective country. This means that food prices are not normalized. For example, if you're looking at the prices of different food items in different countries, these prices might be influenced by various factors such as local economies, currency exchange rates, etc. Normalization could involve converting all prices to a common currency or adjusting them based on a common economic indicator, like GDP per capita, to make the comparisons more reflective of their actual cost."
   ]
  },
  {
   "cell_type": "markdown",
   "metadata": {},
   "source": [
    "### Code: "
   ]
  },
  {
   "cell_type": "markdown",
   "metadata": {},
   "source": [
    "Run the code cells below to import the libraries we need for this project. Libraries are pre-made code that make it easier to analyze our data."
   ]
  },
  {
   "cell_type": "code",
   "execution_count": 22,
   "metadata": {},
   "outputs": [
    {
     "name": "stdout",
     "output_type": "stream",
     "text": [
      "Libaries imported\n"
     ]
    }
   ],
   "source": [
    "import pandas as pd\n",
    "import plotly.express as px\n",
    "from plotly.subplots import make_subplots\n",
    "import plotly.graph_objects as go\n",
    "from sklearn.linear_model import LinearRegression\n",
    "from sklearn.model_selection import train_test_split\n",
    "from sklearn.metrics import r2_score\n",
    "print(\"Libaries imported\")"
   ]
  },
  {
   "cell_type": "markdown",
   "metadata": {},
   "source": [
    "### Data"
   ]
  },
  {
   "cell_type": "markdown",
   "metadata": {},
   "source": [
    "To begin, we're going to obtain our dataset by importing it using *pd.read_csv*. We're also going to ensure that when reading our data we enforce the column `adm1_name` to being only string values. A string, in the context of computing, is a sequence of characters, such as letters, numbers, symbols, and spaces, that is used to represent text-based information.  \n",
    "\n",
    "\n",
    "We establish this practice because, without this constraint, Python (our chosen programming language) would alert us to columns containing multiple data types upon data import. Ensuring a consistent data type for each column in Python offers a range of advantages. It guarantees data precision and integrity by averting irregularities when working with columns, ultimately enhancing the reliability of our data utilization."
   ]
  },
  {
   "cell_type": "markdown",
   "metadata": {},
   "source": [
    "### Import the data"
   ]
  },
  {
   "cell_type": "code",
   "execution_count": 23,
   "metadata": {},
   "outputs": [],
   "source": [
    "data_types = {'adm1_name': str}\n",
    "global_food_prices= pd.read_csv('https://swift-yeg.cloud.cybera.ca:8080/v1/AUTH_233e84cd313945c992b4b585f7b9125d/callysto-open-data/global-food-prices.csv', dtype=data_types)\n",
    "global_food_prices"
   ]
  },
  {
   "cell_type": "markdown",
   "metadata": {},
   "source": [
    "### Comment on the data"
   ]
  },
  {
   "cell_type": "markdown",
   "metadata": {},
   "source": [
    "Now that we've obtained our data, let's take a deeper look into the data types for each column. Note, our dataset is now in a dataframe format. Essentially, think of a dataframe as a spreadsheet where we have columns representing different categories or attributes of the data, and rows representing individual records or observations. Just like a spreadsheet organizes information into rows and columns, a dataframe provides a structured format for storing and analyzing data in Python."
   ]
  },
  {
   "cell_type": "code",
   "execution_count": null,
   "metadata": {},
   "outputs": [
    {
     "name": "stdout",
     "output_type": "stream",
     "text": [
      "adm0_name              object\n",
      "adm1_name              object\n",
      "mkt_name               object\n",
      "cm_name                object\n",
      "cur_name               object\n",
      "pt_name                object\n",
      "um_name                object\n",
      "mp_month                int64\n",
      "mp_year                 int64\n",
      "mp_price              float64\n",
      "mp_commoditysource    float64\n",
      "dtype: object\n"
     ]
    }
   ],
   "source": [
    "print(global_food_prices.dtypes)"
   ]
  },
  {
   "cell_type": "markdown",
   "metadata": {},
   "source": [
    "Most of these datatypes make sense, such as `mp_month` and `mp_year` being integers (numbers) and `mp_price` and `mp_commoditysource` being floats (decimal point numbers). "
   ]
  },
  {
   "cell_type": "markdown",
   "metadata": {},
   "source": [
    "Let's begin by doing some basic analysis. Let's obtain the frequency of occurences of unique values in the `pt_name` column. In other words, it quantifies how often each distinct value appears in the specified column."
   ]
  },
  {
   "cell_type": "code",
   "execution_count": null,
   "metadata": {},
   "outputs": [
    {
     "data": {
      "text/plain": [
       "Retail       1287998\n",
       "Wholesale     150711\n",
       "Farm Gate        664\n",
       "Producer         248\n",
       "Name: pt_name, dtype: int64"
      ]
     },
     "execution_count": 4,
     "metadata": {},
     "output_type": "execute_result"
    }
   ],
   "source": [
    "global_food_prices['pt_name'].value_counts()"
   ]
  },
  {
   "cell_type": "markdown",
   "metadata": {},
   "source": [
    "The output reveals that the category *Retail* appears the most frequently, with a count of 1,287,998 occurrences. The category *Wholesale* follows with 150,711 occurrences, while *Farm Gate* and *Producer* categories are less prevalent, having counts of 664 and 248, respectively. Globally, it appears that the majority of the world utilizes retail items, which makes sense as shopping stores have become accessible to many countries and are the primary way many individuals obtain food items in the modern-day. "
   ]
  },
  {
   "cell_type": "markdown",
   "metadata": {},
   "source": [
    "# Organize\n",
    "\n",
    "Let's begin to organize our data. Generally, when we organize data we perform something called *data-cleaning*. Data cleaning, an essential step in the data preparation process, involves identifying, correcting, and handling errors, inconsistencies, and inaccuracies within a dataset. It encompasses tasks such as removing duplicate or irrelevant entries, filling in missing values, correcting inaccuracies, standardizing formats, and ensuring uniformity in data representation. The goal of data cleaning is to enhance data quality, reliability, and usability, enabling accurate analyses and insights. "
   ]
  },
  {
   "cell_type": "markdown",
   "metadata": {},
   "source": [
    "To begin our data-cleaning, let's check if any of columns have *null* values (missing values)."
   ]
  },
  {
   "cell_type": "code",
   "execution_count": null,
   "metadata": {},
   "outputs": [
    {
     "data": {
      "text/plain": [
       "adm0_name                   0\n",
       "adm1_name                   0\n",
       "mkt_name                    0\n",
       "cm_name                     0\n",
       "cur_name                    0\n",
       "pt_name                     0\n",
       "um_name                     0\n",
       "mp_month                    0\n",
       "mp_year                     0\n",
       "mp_price                    0\n",
       "mp_commoditysource    1439621\n",
       "dtype: int64"
      ]
     },
     "execution_count": 5,
     "metadata": {},
     "output_type": "execute_result"
    }
   ],
   "source": [
    "global_food_prices.isna().sum()"
   ]
  },
  {
   "cell_type": "markdown",
   "metadata": {},
   "source": [
    "It appears that the only column that has *null* values is `mp_commoditysource`, at a staggering 1439621. It appears that there are too many *null* values for this column to be of any importance, so let's simply drop the column."
   ]
  },
  {
   "cell_type": "code",
   "execution_count": null,
   "metadata": {},
   "outputs": [
    {
     "data": {
      "text/html": [
       "<div>\n",
       "<style scoped>\n",
       "    .dataframe tbody tr th:only-of-type {\n",
       "        vertical-align: middle;\n",
       "    }\n",
       "\n",
       "    .dataframe tbody tr th {\n",
       "        vertical-align: top;\n",
       "    }\n",
       "\n",
       "    .dataframe thead th {\n",
       "        text-align: right;\n",
       "    }\n",
       "</style>\n",
       "<table border=\"1\" class=\"dataframe\">\n",
       "  <thead>\n",
       "    <tr style=\"text-align: right;\">\n",
       "      <th></th>\n",
       "      <th>adm0_name</th>\n",
       "      <th>adm1_name</th>\n",
       "      <th>mkt_name</th>\n",
       "      <th>cm_name</th>\n",
       "      <th>cur_name</th>\n",
       "      <th>pt_name</th>\n",
       "      <th>um_name</th>\n",
       "      <th>mp_month</th>\n",
       "      <th>mp_year</th>\n",
       "      <th>mp_price</th>\n",
       "    </tr>\n",
       "  </thead>\n",
       "  <tbody>\n",
       "    <tr>\n",
       "      <th>0</th>\n",
       "      <td>Afghanistan</td>\n",
       "      <td>Badakhshan</td>\n",
       "      <td>Fayzabad</td>\n",
       "      <td>Bread - Retail</td>\n",
       "      <td>AFN</td>\n",
       "      <td>Retail</td>\n",
       "      <td>KG</td>\n",
       "      <td>1</td>\n",
       "      <td>2014</td>\n",
       "      <td>50.0000</td>\n",
       "    </tr>\n",
       "    <tr>\n",
       "      <th>1</th>\n",
       "      <td>Afghanistan</td>\n",
       "      <td>Badakhshan</td>\n",
       "      <td>Fayzabad</td>\n",
       "      <td>Bread - Retail</td>\n",
       "      <td>AFN</td>\n",
       "      <td>Retail</td>\n",
       "      <td>KG</td>\n",
       "      <td>2</td>\n",
       "      <td>2014</td>\n",
       "      <td>50.0000</td>\n",
       "    </tr>\n",
       "    <tr>\n",
       "      <th>2</th>\n",
       "      <td>Afghanistan</td>\n",
       "      <td>Badakhshan</td>\n",
       "      <td>Fayzabad</td>\n",
       "      <td>Bread - Retail</td>\n",
       "      <td>AFN</td>\n",
       "      <td>Retail</td>\n",
       "      <td>KG</td>\n",
       "      <td>3</td>\n",
       "      <td>2014</td>\n",
       "      <td>50.0000</td>\n",
       "    </tr>\n",
       "    <tr>\n",
       "      <th>3</th>\n",
       "      <td>Afghanistan</td>\n",
       "      <td>Badakhshan</td>\n",
       "      <td>Fayzabad</td>\n",
       "      <td>Bread - Retail</td>\n",
       "      <td>AFN</td>\n",
       "      <td>Retail</td>\n",
       "      <td>KG</td>\n",
       "      <td>4</td>\n",
       "      <td>2014</td>\n",
       "      <td>50.0000</td>\n",
       "    </tr>\n",
       "    <tr>\n",
       "      <th>4</th>\n",
       "      <td>Afghanistan</td>\n",
       "      <td>Badakhshan</td>\n",
       "      <td>Fayzabad</td>\n",
       "      <td>Bread - Retail</td>\n",
       "      <td>AFN</td>\n",
       "      <td>Retail</td>\n",
       "      <td>KG</td>\n",
       "      <td>5</td>\n",
       "      <td>2014</td>\n",
       "      <td>50.0000</td>\n",
       "    </tr>\n",
       "    <tr>\n",
       "      <th>...</th>\n",
       "      <td>...</td>\n",
       "      <td>...</td>\n",
       "      <td>...</td>\n",
       "      <td>...</td>\n",
       "      <td>...</td>\n",
       "      <td>...</td>\n",
       "      <td>...</td>\n",
       "      <td>...</td>\n",
       "      <td>...</td>\n",
       "      <td>...</td>\n",
       "    </tr>\n",
       "    <tr>\n",
       "      <th>1439616</th>\n",
       "      <td>Zimbabwe</td>\n",
       "      <td>Midlands</td>\n",
       "      <td>Mbilashaba</td>\n",
       "      <td>Salt - Retail</td>\n",
       "      <td>ZWL</td>\n",
       "      <td>Retail</td>\n",
       "      <td>KG</td>\n",
       "      <td>6</td>\n",
       "      <td>2021</td>\n",
       "      <td>71.0000</td>\n",
       "    </tr>\n",
       "    <tr>\n",
       "      <th>1439617</th>\n",
       "      <td>Zimbabwe</td>\n",
       "      <td>Midlands</td>\n",
       "      <td>Mbilashaba</td>\n",
       "      <td>Beans (sugar) - Retail</td>\n",
       "      <td>ZWL</td>\n",
       "      <td>Retail</td>\n",
       "      <td>KG</td>\n",
       "      <td>6</td>\n",
       "      <td>2021</td>\n",
       "      <td>233.3333</td>\n",
       "    </tr>\n",
       "    <tr>\n",
       "      <th>1439618</th>\n",
       "      <td>Zimbabwe</td>\n",
       "      <td>Midlands</td>\n",
       "      <td>Mbilashaba</td>\n",
       "      <td>Toothpaste - Retail</td>\n",
       "      <td>ZWL</td>\n",
       "      <td>Retail</td>\n",
       "      <td>100 ML</td>\n",
       "      <td>6</td>\n",
       "      <td>2021</td>\n",
       "      <td>112.5000</td>\n",
       "    </tr>\n",
       "    <tr>\n",
       "      <th>1439619</th>\n",
       "      <td>Zimbabwe</td>\n",
       "      <td>Midlands</td>\n",
       "      <td>Mbilashaba</td>\n",
       "      <td>Laundry soap - Retail</td>\n",
       "      <td>ZWL</td>\n",
       "      <td>Retail</td>\n",
       "      <td>KG</td>\n",
       "      <td>6</td>\n",
       "      <td>2021</td>\n",
       "      <td>114.0000</td>\n",
       "    </tr>\n",
       "    <tr>\n",
       "      <th>1439620</th>\n",
       "      <td>Zimbabwe</td>\n",
       "      <td>Midlands</td>\n",
       "      <td>Mbilashaba</td>\n",
       "      <td>Handwash soap - Retail</td>\n",
       "      <td>ZWL</td>\n",
       "      <td>Retail</td>\n",
       "      <td>250 G</td>\n",
       "      <td>6</td>\n",
       "      <td>2021</td>\n",
       "      <td>59.5000</td>\n",
       "    </tr>\n",
       "  </tbody>\n",
       "</table>\n",
       "<p>1439621 rows × 10 columns</p>\n",
       "</div>"
      ],
      "text/plain": [
       "           adm0_name   adm1_name    mkt_name                 cm_name cur_name  \\\n",
       "0        Afghanistan  Badakhshan    Fayzabad          Bread - Retail      AFN   \n",
       "1        Afghanistan  Badakhshan    Fayzabad          Bread - Retail      AFN   \n",
       "2        Afghanistan  Badakhshan    Fayzabad          Bread - Retail      AFN   \n",
       "3        Afghanistan  Badakhshan    Fayzabad          Bread - Retail      AFN   \n",
       "4        Afghanistan  Badakhshan    Fayzabad          Bread - Retail      AFN   \n",
       "...              ...         ...         ...                     ...      ...   \n",
       "1439616     Zimbabwe    Midlands  Mbilashaba           Salt - Retail      ZWL   \n",
       "1439617     Zimbabwe    Midlands  Mbilashaba  Beans (sugar) - Retail      ZWL   \n",
       "1439618     Zimbabwe    Midlands  Mbilashaba     Toothpaste - Retail      ZWL   \n",
       "1439619     Zimbabwe    Midlands  Mbilashaba   Laundry soap - Retail      ZWL   \n",
       "1439620     Zimbabwe    Midlands  Mbilashaba  Handwash soap - Retail      ZWL   \n",
       "\n",
       "        pt_name um_name  mp_month  mp_year  mp_price  \n",
       "0        Retail      KG         1     2014   50.0000  \n",
       "1        Retail      KG         2     2014   50.0000  \n",
       "2        Retail      KG         3     2014   50.0000  \n",
       "3        Retail      KG         4     2014   50.0000  \n",
       "4        Retail      KG         5     2014   50.0000  \n",
       "...         ...     ...       ...      ...       ...  \n",
       "1439616  Retail      KG         6     2021   71.0000  \n",
       "1439617  Retail      KG         6     2021  233.3333  \n",
       "1439618  Retail  100 ML         6     2021  112.5000  \n",
       "1439619  Retail      KG         6     2021  114.0000  \n",
       "1439620  Retail   250 G         6     2021   59.5000  \n",
       "\n",
       "[1439621 rows x 10 columns]"
      ]
     },
     "execution_count": 6,
     "metadata": {},
     "output_type": "execute_result"
    }
   ],
   "source": [
    "global_food_prices = global_food_prices.drop('mp_commoditysource', axis=1)\n",
    "global_food_prices"
   ]
  },
  {
   "cell_type": "code",
   "execution_count": null,
   "metadata": {},
   "outputs": [
    {
     "data": {
      "text/html": [
       "<div>\n",
       "<style scoped>\n",
       "    .dataframe tbody tr th:only-of-type {\n",
       "        vertical-align: middle;\n",
       "    }\n",
       "\n",
       "    .dataframe tbody tr th {\n",
       "        vertical-align: top;\n",
       "    }\n",
       "\n",
       "    .dataframe thead th {\n",
       "        text-align: right;\n",
       "    }\n",
       "</style>\n",
       "<table border=\"1\" class=\"dataframe\">\n",
       "  <thead>\n",
       "    <tr style=\"text-align: right;\">\n",
       "      <th></th>\n",
       "      <th>adm0_name</th>\n",
       "      <th>adm1_name</th>\n",
       "      <th>mkt_name</th>\n",
       "      <th>cm_name</th>\n",
       "      <th>cur_name</th>\n",
       "      <th>pt_name</th>\n",
       "      <th>um_name</th>\n",
       "      <th>mp_month</th>\n",
       "      <th>mp_year</th>\n",
       "      <th>mp_price</th>\n",
       "    </tr>\n",
       "  </thead>\n",
       "  <tbody>\n",
       "    <tr>\n",
       "      <th>0</th>\n",
       "      <td>Afghanistan</td>\n",
       "      <td>Badakhshan</td>\n",
       "      <td>Fayzabad</td>\n",
       "      <td>Bread - Retail</td>\n",
       "      <td>AFN</td>\n",
       "      <td>Retail</td>\n",
       "      <td>KG</td>\n",
       "      <td>1</td>\n",
       "      <td>2014</td>\n",
       "      <td>50.0000</td>\n",
       "    </tr>\n",
       "    <tr>\n",
       "      <th>1</th>\n",
       "      <td>Afghanistan</td>\n",
       "      <td>Badakhshan</td>\n",
       "      <td>Fayzabad</td>\n",
       "      <td>Bread - Retail</td>\n",
       "      <td>AFN</td>\n",
       "      <td>Retail</td>\n",
       "      <td>KG</td>\n",
       "      <td>2</td>\n",
       "      <td>2014</td>\n",
       "      <td>50.0000</td>\n",
       "    </tr>\n",
       "    <tr>\n",
       "      <th>2</th>\n",
       "      <td>Afghanistan</td>\n",
       "      <td>Badakhshan</td>\n",
       "      <td>Fayzabad</td>\n",
       "      <td>Bread - Retail</td>\n",
       "      <td>AFN</td>\n",
       "      <td>Retail</td>\n",
       "      <td>KG</td>\n",
       "      <td>3</td>\n",
       "      <td>2014</td>\n",
       "      <td>50.0000</td>\n",
       "    </tr>\n",
       "    <tr>\n",
       "      <th>3</th>\n",
       "      <td>Afghanistan</td>\n",
       "      <td>Badakhshan</td>\n",
       "      <td>Fayzabad</td>\n",
       "      <td>Bread - Retail</td>\n",
       "      <td>AFN</td>\n",
       "      <td>Retail</td>\n",
       "      <td>KG</td>\n",
       "      <td>4</td>\n",
       "      <td>2014</td>\n",
       "      <td>50.0000</td>\n",
       "    </tr>\n",
       "    <tr>\n",
       "      <th>4</th>\n",
       "      <td>Afghanistan</td>\n",
       "      <td>Badakhshan</td>\n",
       "      <td>Fayzabad</td>\n",
       "      <td>Bread - Retail</td>\n",
       "      <td>AFN</td>\n",
       "      <td>Retail</td>\n",
       "      <td>KG</td>\n",
       "      <td>5</td>\n",
       "      <td>2014</td>\n",
       "      <td>50.0000</td>\n",
       "    </tr>\n",
       "    <tr>\n",
       "      <th>...</th>\n",
       "      <td>...</td>\n",
       "      <td>...</td>\n",
       "      <td>...</td>\n",
       "      <td>...</td>\n",
       "      <td>...</td>\n",
       "      <td>...</td>\n",
       "      <td>...</td>\n",
       "      <td>...</td>\n",
       "      <td>...</td>\n",
       "      <td>...</td>\n",
       "    </tr>\n",
       "    <tr>\n",
       "      <th>1439616</th>\n",
       "      <td>Zimbabwe</td>\n",
       "      <td>Midlands</td>\n",
       "      <td>Mbilashaba</td>\n",
       "      <td>Salt - Retail</td>\n",
       "      <td>ZWL</td>\n",
       "      <td>Retail</td>\n",
       "      <td>KG</td>\n",
       "      <td>6</td>\n",
       "      <td>2021</td>\n",
       "      <td>71.0000</td>\n",
       "    </tr>\n",
       "    <tr>\n",
       "      <th>1439617</th>\n",
       "      <td>Zimbabwe</td>\n",
       "      <td>Midlands</td>\n",
       "      <td>Mbilashaba</td>\n",
       "      <td>Beans (sugar) - Retail</td>\n",
       "      <td>ZWL</td>\n",
       "      <td>Retail</td>\n",
       "      <td>KG</td>\n",
       "      <td>6</td>\n",
       "      <td>2021</td>\n",
       "      <td>233.3333</td>\n",
       "    </tr>\n",
       "    <tr>\n",
       "      <th>1439618</th>\n",
       "      <td>Zimbabwe</td>\n",
       "      <td>Midlands</td>\n",
       "      <td>Mbilashaba</td>\n",
       "      <td>Toothpaste - Retail</td>\n",
       "      <td>ZWL</td>\n",
       "      <td>Retail</td>\n",
       "      <td>100 ML</td>\n",
       "      <td>6</td>\n",
       "      <td>2021</td>\n",
       "      <td>112.5000</td>\n",
       "    </tr>\n",
       "    <tr>\n",
       "      <th>1439619</th>\n",
       "      <td>Zimbabwe</td>\n",
       "      <td>Midlands</td>\n",
       "      <td>Mbilashaba</td>\n",
       "      <td>Laundry soap - Retail</td>\n",
       "      <td>ZWL</td>\n",
       "      <td>Retail</td>\n",
       "      <td>KG</td>\n",
       "      <td>6</td>\n",
       "      <td>2021</td>\n",
       "      <td>114.0000</td>\n",
       "    </tr>\n",
       "    <tr>\n",
       "      <th>1439620</th>\n",
       "      <td>Zimbabwe</td>\n",
       "      <td>Midlands</td>\n",
       "      <td>Mbilashaba</td>\n",
       "      <td>Handwash soap - Retail</td>\n",
       "      <td>ZWL</td>\n",
       "      <td>Retail</td>\n",
       "      <td>250 G</td>\n",
       "      <td>6</td>\n",
       "      <td>2021</td>\n",
       "      <td>59.5000</td>\n",
       "    </tr>\n",
       "  </tbody>\n",
       "</table>\n",
       "<p>1439621 rows × 10 columns</p>\n",
       "</div>"
      ],
      "text/plain": [
       "           adm0_name   adm1_name    mkt_name                 cm_name cur_name  \\\n",
       "0        Afghanistan  Badakhshan    Fayzabad          Bread - Retail      AFN   \n",
       "1        Afghanistan  Badakhshan    Fayzabad          Bread - Retail      AFN   \n",
       "2        Afghanistan  Badakhshan    Fayzabad          Bread - Retail      AFN   \n",
       "3        Afghanistan  Badakhshan    Fayzabad          Bread - Retail      AFN   \n",
       "4        Afghanistan  Badakhshan    Fayzabad          Bread - Retail      AFN   \n",
       "...              ...         ...         ...                     ...      ...   \n",
       "1439616     Zimbabwe    Midlands  Mbilashaba           Salt - Retail      ZWL   \n",
       "1439617     Zimbabwe    Midlands  Mbilashaba  Beans (sugar) - Retail      ZWL   \n",
       "1439618     Zimbabwe    Midlands  Mbilashaba     Toothpaste - Retail      ZWL   \n",
       "1439619     Zimbabwe    Midlands  Mbilashaba   Laundry soap - Retail      ZWL   \n",
       "1439620     Zimbabwe    Midlands  Mbilashaba  Handwash soap - Retail      ZWL   \n",
       "\n",
       "        pt_name um_name  mp_month  mp_year  mp_price  \n",
       "0        Retail      KG         1     2014   50.0000  \n",
       "1        Retail      KG         2     2014   50.0000  \n",
       "2        Retail      KG         3     2014   50.0000  \n",
       "3        Retail      KG         4     2014   50.0000  \n",
       "4        Retail      KG         5     2014   50.0000  \n",
       "...         ...     ...       ...      ...       ...  \n",
       "1439616  Retail      KG         6     2021   71.0000  \n",
       "1439617  Retail      KG         6     2021  233.3333  \n",
       "1439618  Retail  100 ML         6     2021  112.5000  \n",
       "1439619  Retail      KG         6     2021  114.0000  \n",
       "1439620  Retail   250 G         6     2021   59.5000  \n",
       "\n",
       "[1439621 rows x 10 columns]"
      ]
     },
     "execution_count": 7,
     "metadata": {},
     "output_type": "execute_result"
    }
   ],
   "source": [
    "global_food_prices"
   ]
  },
  {
   "cell_type": "markdown",
   "metadata": {},
   "source": [
    "Lastly, let's change some column names to reflect their data more accurately. Specifically, we'll change the names of the columns `adm0_name` and `adm1_name` to `country` and `region`, respectively. This way, the column names will better match the kind of information they contain."
   ]
  },
  {
   "cell_type": "code",
   "execution_count": null,
   "metadata": {},
   "outputs": [
    {
     "data": {
      "text/html": [
       "<div>\n",
       "<style scoped>\n",
       "    .dataframe tbody tr th:only-of-type {\n",
       "        vertical-align: middle;\n",
       "    }\n",
       "\n",
       "    .dataframe tbody tr th {\n",
       "        vertical-align: top;\n",
       "    }\n",
       "\n",
       "    .dataframe thead th {\n",
       "        text-align: right;\n",
       "    }\n",
       "</style>\n",
       "<table border=\"1\" class=\"dataframe\">\n",
       "  <thead>\n",
       "    <tr style=\"text-align: right;\">\n",
       "      <th></th>\n",
       "      <th>country</th>\n",
       "      <th>region</th>\n",
       "      <th>mkt_name</th>\n",
       "      <th>cm_name</th>\n",
       "      <th>cur_name</th>\n",
       "      <th>pt_name</th>\n",
       "      <th>um_name</th>\n",
       "      <th>mp_month</th>\n",
       "      <th>mp_year</th>\n",
       "      <th>mp_price</th>\n",
       "    </tr>\n",
       "  </thead>\n",
       "  <tbody>\n",
       "    <tr>\n",
       "      <th>0</th>\n",
       "      <td>Afghanistan</td>\n",
       "      <td>Badakhshan</td>\n",
       "      <td>Fayzabad</td>\n",
       "      <td>Bread - Retail</td>\n",
       "      <td>AFN</td>\n",
       "      <td>Retail</td>\n",
       "      <td>KG</td>\n",
       "      <td>1</td>\n",
       "      <td>2014</td>\n",
       "      <td>50.0000</td>\n",
       "    </tr>\n",
       "    <tr>\n",
       "      <th>1</th>\n",
       "      <td>Afghanistan</td>\n",
       "      <td>Badakhshan</td>\n",
       "      <td>Fayzabad</td>\n",
       "      <td>Bread - Retail</td>\n",
       "      <td>AFN</td>\n",
       "      <td>Retail</td>\n",
       "      <td>KG</td>\n",
       "      <td>2</td>\n",
       "      <td>2014</td>\n",
       "      <td>50.0000</td>\n",
       "    </tr>\n",
       "    <tr>\n",
       "      <th>2</th>\n",
       "      <td>Afghanistan</td>\n",
       "      <td>Badakhshan</td>\n",
       "      <td>Fayzabad</td>\n",
       "      <td>Bread - Retail</td>\n",
       "      <td>AFN</td>\n",
       "      <td>Retail</td>\n",
       "      <td>KG</td>\n",
       "      <td>3</td>\n",
       "      <td>2014</td>\n",
       "      <td>50.0000</td>\n",
       "    </tr>\n",
       "    <tr>\n",
       "      <th>3</th>\n",
       "      <td>Afghanistan</td>\n",
       "      <td>Badakhshan</td>\n",
       "      <td>Fayzabad</td>\n",
       "      <td>Bread - Retail</td>\n",
       "      <td>AFN</td>\n",
       "      <td>Retail</td>\n",
       "      <td>KG</td>\n",
       "      <td>4</td>\n",
       "      <td>2014</td>\n",
       "      <td>50.0000</td>\n",
       "    </tr>\n",
       "    <tr>\n",
       "      <th>4</th>\n",
       "      <td>Afghanistan</td>\n",
       "      <td>Badakhshan</td>\n",
       "      <td>Fayzabad</td>\n",
       "      <td>Bread - Retail</td>\n",
       "      <td>AFN</td>\n",
       "      <td>Retail</td>\n",
       "      <td>KG</td>\n",
       "      <td>5</td>\n",
       "      <td>2014</td>\n",
       "      <td>50.0000</td>\n",
       "    </tr>\n",
       "    <tr>\n",
       "      <th>...</th>\n",
       "      <td>...</td>\n",
       "      <td>...</td>\n",
       "      <td>...</td>\n",
       "      <td>...</td>\n",
       "      <td>...</td>\n",
       "      <td>...</td>\n",
       "      <td>...</td>\n",
       "      <td>...</td>\n",
       "      <td>...</td>\n",
       "      <td>...</td>\n",
       "    </tr>\n",
       "    <tr>\n",
       "      <th>1439616</th>\n",
       "      <td>Zimbabwe</td>\n",
       "      <td>Midlands</td>\n",
       "      <td>Mbilashaba</td>\n",
       "      <td>Salt - Retail</td>\n",
       "      <td>ZWL</td>\n",
       "      <td>Retail</td>\n",
       "      <td>KG</td>\n",
       "      <td>6</td>\n",
       "      <td>2021</td>\n",
       "      <td>71.0000</td>\n",
       "    </tr>\n",
       "    <tr>\n",
       "      <th>1439617</th>\n",
       "      <td>Zimbabwe</td>\n",
       "      <td>Midlands</td>\n",
       "      <td>Mbilashaba</td>\n",
       "      <td>Beans (sugar) - Retail</td>\n",
       "      <td>ZWL</td>\n",
       "      <td>Retail</td>\n",
       "      <td>KG</td>\n",
       "      <td>6</td>\n",
       "      <td>2021</td>\n",
       "      <td>233.3333</td>\n",
       "    </tr>\n",
       "    <tr>\n",
       "      <th>1439618</th>\n",
       "      <td>Zimbabwe</td>\n",
       "      <td>Midlands</td>\n",
       "      <td>Mbilashaba</td>\n",
       "      <td>Toothpaste - Retail</td>\n",
       "      <td>ZWL</td>\n",
       "      <td>Retail</td>\n",
       "      <td>100 ML</td>\n",
       "      <td>6</td>\n",
       "      <td>2021</td>\n",
       "      <td>112.5000</td>\n",
       "    </tr>\n",
       "    <tr>\n",
       "      <th>1439619</th>\n",
       "      <td>Zimbabwe</td>\n",
       "      <td>Midlands</td>\n",
       "      <td>Mbilashaba</td>\n",
       "      <td>Laundry soap - Retail</td>\n",
       "      <td>ZWL</td>\n",
       "      <td>Retail</td>\n",
       "      <td>KG</td>\n",
       "      <td>6</td>\n",
       "      <td>2021</td>\n",
       "      <td>114.0000</td>\n",
       "    </tr>\n",
       "    <tr>\n",
       "      <th>1439620</th>\n",
       "      <td>Zimbabwe</td>\n",
       "      <td>Midlands</td>\n",
       "      <td>Mbilashaba</td>\n",
       "      <td>Handwash soap - Retail</td>\n",
       "      <td>ZWL</td>\n",
       "      <td>Retail</td>\n",
       "      <td>250 G</td>\n",
       "      <td>6</td>\n",
       "      <td>2021</td>\n",
       "      <td>59.5000</td>\n",
       "    </tr>\n",
       "  </tbody>\n",
       "</table>\n",
       "<p>1439621 rows × 10 columns</p>\n",
       "</div>"
      ],
      "text/plain": [
       "             country      region    mkt_name                 cm_name cur_name  \\\n",
       "0        Afghanistan  Badakhshan    Fayzabad          Bread - Retail      AFN   \n",
       "1        Afghanistan  Badakhshan    Fayzabad          Bread - Retail      AFN   \n",
       "2        Afghanistan  Badakhshan    Fayzabad          Bread - Retail      AFN   \n",
       "3        Afghanistan  Badakhshan    Fayzabad          Bread - Retail      AFN   \n",
       "4        Afghanistan  Badakhshan    Fayzabad          Bread - Retail      AFN   \n",
       "...              ...         ...         ...                     ...      ...   \n",
       "1439616     Zimbabwe    Midlands  Mbilashaba           Salt - Retail      ZWL   \n",
       "1439617     Zimbabwe    Midlands  Mbilashaba  Beans (sugar) - Retail      ZWL   \n",
       "1439618     Zimbabwe    Midlands  Mbilashaba     Toothpaste - Retail      ZWL   \n",
       "1439619     Zimbabwe    Midlands  Mbilashaba   Laundry soap - Retail      ZWL   \n",
       "1439620     Zimbabwe    Midlands  Mbilashaba  Handwash soap - Retail      ZWL   \n",
       "\n",
       "        pt_name um_name  mp_month  mp_year  mp_price  \n",
       "0        Retail      KG         1     2014   50.0000  \n",
       "1        Retail      KG         2     2014   50.0000  \n",
       "2        Retail      KG         3     2014   50.0000  \n",
       "3        Retail      KG         4     2014   50.0000  \n",
       "4        Retail      KG         5     2014   50.0000  \n",
       "...         ...     ...       ...      ...       ...  \n",
       "1439616  Retail      KG         6     2021   71.0000  \n",
       "1439617  Retail      KG         6     2021  233.3333  \n",
       "1439618  Retail  100 ML         6     2021  112.5000  \n",
       "1439619  Retail      KG         6     2021  114.0000  \n",
       "1439620  Retail   250 G         6     2021   59.5000  \n",
       "\n",
       "[1439621 rows x 10 columns]"
      ]
     },
     "execution_count": 8,
     "metadata": {},
     "output_type": "execute_result"
    }
   ],
   "source": [
    "global_food_prices.rename(columns={'adm0_name': 'country', 'adm1_name': 'region'}, inplace=True)\n",
    "global_food_prices"
   ]
  },
  {
   "cell_type": "markdown",
   "metadata": {},
   "source": [
    "# Explore"
   ]
  },
  {
   "cell_type": "markdown",
   "metadata": {},
   "source": [
    "Now that we've performed some basic data-cleaning, let's begin some data exploration how visualizing the top 20 most frequent foods in our dataset. *Frequency* is defined as a count of categorized data, but it is not the actual values of the data points."
   ]
  },
  {
   "cell_type": "code",
   "execution_count": null,
   "metadata": {},
   "outputs": [
    {
     "data": {
      "application/vnd.plotly.v1+json": {
       "config": {
        "plotlyServerURL": "https://plot.ly"
       },
       "data": [
        {
         "alignmentgroup": "True",
         "hovertemplate": "Foods=%{x}<br>Count=%{marker.color}<extra></extra>",
         "legendgroup": "",
         "marker": {
          "color": [
           52338,
           47962,
           46427,
           45509,
           36009,
           34082,
           30430,
           24810,
           22847,
           22372,
           20028,
           19606,
           18298,
           17171,
           16440,
           16408,
           15619,
           15522,
           15418,
           14770
          ],
          "coloraxis": "coloraxis",
          "pattern": {
           "shape": ""
          }
         },
         "name": "",
         "offsetgroup": "",
         "orientation": "v",
         "showlegend": false,
         "textposition": "auto",
         "type": "bar",
         "x": [
          "Millet - Retail",
          "Rice (imported) - Retail",
          "Maize - Retail",
          "Sorghum - Retail",
          "Rice (local) - Retail",
          "Maize (white) - Retail",
          "Wheat flour - Retail",
          "Groundnuts (shelled) - Retail",
          "Sugar - Retail",
          "Oil (palm) - Retail",
          "Beans (niebe) - Retail",
          "Tomatoes - Retail",
          "Fuel (diesel) - Retail",
          "Salt - Retail",
          "Oil (vegetable) - Retail",
          "Rice - Retail",
          "Meat (beef) - Retail",
          "Beans (dry) - Retail",
          "Sweet potatoes - Retail",
          "Eggs - Retail"
         ],
         "xaxis": "x",
         "y": [
          52338,
          47962,
          46427,
          45509,
          36009,
          34082,
          30430,
          24810,
          22847,
          22372,
          20028,
          19606,
          18298,
          17171,
          16440,
          16408,
          15619,
          15522,
          15418,
          14770
         ],
         "yaxis": "y"
        }
       ],
       "layout": {
        "barmode": "relative",
        "coloraxis": {
         "colorbar": {
          "title": {
           "text": "Count"
          }
         },
         "colorscale": [
          [
           0,
           "#0d0887"
          ],
          [
           0.1111111111111111,
           "#46039f"
          ],
          [
           0.2222222222222222,
           "#7201a8"
          ],
          [
           0.3333333333333333,
           "#9c179e"
          ],
          [
           0.4444444444444444,
           "#bd3786"
          ],
          [
           0.5555555555555556,
           "#d8576b"
          ],
          [
           0.6666666666666666,
           "#ed7953"
          ],
          [
           0.7777777777777778,
           "#fb9f3a"
          ],
          [
           0.8888888888888888,
           "#fdca26"
          ],
          [
           1,
           "#f0f921"
          ]
         ]
        },
        "legend": {
         "tracegroupgap": 0
        },
        "template": {
         "data": {
          "bar": [
           {
            "error_x": {
             "color": "#2a3f5f"
            },
            "error_y": {
             "color": "#2a3f5f"
            },
            "marker": {
             "line": {
              "color": "#E5ECF6",
              "width": 0.5
             },
             "pattern": {
              "fillmode": "overlay",
              "size": 10,
              "solidity": 0.2
             }
            },
            "type": "bar"
           }
          ],
          "barpolar": [
           {
            "marker": {
             "line": {
              "color": "#E5ECF6",
              "width": 0.5
             },
             "pattern": {
              "fillmode": "overlay",
              "size": 10,
              "solidity": 0.2
             }
            },
            "type": "barpolar"
           }
          ],
          "carpet": [
           {
            "aaxis": {
             "endlinecolor": "#2a3f5f",
             "gridcolor": "white",
             "linecolor": "white",
             "minorgridcolor": "white",
             "startlinecolor": "#2a3f5f"
            },
            "baxis": {
             "endlinecolor": "#2a3f5f",
             "gridcolor": "white",
             "linecolor": "white",
             "minorgridcolor": "white",
             "startlinecolor": "#2a3f5f"
            },
            "type": "carpet"
           }
          ],
          "choropleth": [
           {
            "colorbar": {
             "outlinewidth": 0,
             "ticks": ""
            },
            "type": "choropleth"
           }
          ],
          "contour": [
           {
            "colorbar": {
             "outlinewidth": 0,
             "ticks": ""
            },
            "colorscale": [
             [
              0,
              "#0d0887"
             ],
             [
              0.1111111111111111,
              "#46039f"
             ],
             [
              0.2222222222222222,
              "#7201a8"
             ],
             [
              0.3333333333333333,
              "#9c179e"
             ],
             [
              0.4444444444444444,
              "#bd3786"
             ],
             [
              0.5555555555555556,
              "#d8576b"
             ],
             [
              0.6666666666666666,
              "#ed7953"
             ],
             [
              0.7777777777777778,
              "#fb9f3a"
             ],
             [
              0.8888888888888888,
              "#fdca26"
             ],
             [
              1,
              "#f0f921"
             ]
            ],
            "type": "contour"
           }
          ],
          "contourcarpet": [
           {
            "colorbar": {
             "outlinewidth": 0,
             "ticks": ""
            },
            "type": "contourcarpet"
           }
          ],
          "heatmap": [
           {
            "colorbar": {
             "outlinewidth": 0,
             "ticks": ""
            },
            "colorscale": [
             [
              0,
              "#0d0887"
             ],
             [
              0.1111111111111111,
              "#46039f"
             ],
             [
              0.2222222222222222,
              "#7201a8"
             ],
             [
              0.3333333333333333,
              "#9c179e"
             ],
             [
              0.4444444444444444,
              "#bd3786"
             ],
             [
              0.5555555555555556,
              "#d8576b"
             ],
             [
              0.6666666666666666,
              "#ed7953"
             ],
             [
              0.7777777777777778,
              "#fb9f3a"
             ],
             [
              0.8888888888888888,
              "#fdca26"
             ],
             [
              1,
              "#f0f921"
             ]
            ],
            "type": "heatmap"
           }
          ],
          "heatmapgl": [
           {
            "colorbar": {
             "outlinewidth": 0,
             "ticks": ""
            },
            "colorscale": [
             [
              0,
              "#0d0887"
             ],
             [
              0.1111111111111111,
              "#46039f"
             ],
             [
              0.2222222222222222,
              "#7201a8"
             ],
             [
              0.3333333333333333,
              "#9c179e"
             ],
             [
              0.4444444444444444,
              "#bd3786"
             ],
             [
              0.5555555555555556,
              "#d8576b"
             ],
             [
              0.6666666666666666,
              "#ed7953"
             ],
             [
              0.7777777777777778,
              "#fb9f3a"
             ],
             [
              0.8888888888888888,
              "#fdca26"
             ],
             [
              1,
              "#f0f921"
             ]
            ],
            "type": "heatmapgl"
           }
          ],
          "histogram": [
           {
            "marker": {
             "pattern": {
              "fillmode": "overlay",
              "size": 10,
              "solidity": 0.2
             }
            },
            "type": "histogram"
           }
          ],
          "histogram2d": [
           {
            "colorbar": {
             "outlinewidth": 0,
             "ticks": ""
            },
            "colorscale": [
             [
              0,
              "#0d0887"
             ],
             [
              0.1111111111111111,
              "#46039f"
             ],
             [
              0.2222222222222222,
              "#7201a8"
             ],
             [
              0.3333333333333333,
              "#9c179e"
             ],
             [
              0.4444444444444444,
              "#bd3786"
             ],
             [
              0.5555555555555556,
              "#d8576b"
             ],
             [
              0.6666666666666666,
              "#ed7953"
             ],
             [
              0.7777777777777778,
              "#fb9f3a"
             ],
             [
              0.8888888888888888,
              "#fdca26"
             ],
             [
              1,
              "#f0f921"
             ]
            ],
            "type": "histogram2d"
           }
          ],
          "histogram2dcontour": [
           {
            "colorbar": {
             "outlinewidth": 0,
             "ticks": ""
            },
            "colorscale": [
             [
              0,
              "#0d0887"
             ],
             [
              0.1111111111111111,
              "#46039f"
             ],
             [
              0.2222222222222222,
              "#7201a8"
             ],
             [
              0.3333333333333333,
              "#9c179e"
             ],
             [
              0.4444444444444444,
              "#bd3786"
             ],
             [
              0.5555555555555556,
              "#d8576b"
             ],
             [
              0.6666666666666666,
              "#ed7953"
             ],
             [
              0.7777777777777778,
              "#fb9f3a"
             ],
             [
              0.8888888888888888,
              "#fdca26"
             ],
             [
              1,
              "#f0f921"
             ]
            ],
            "type": "histogram2dcontour"
           }
          ],
          "mesh3d": [
           {
            "colorbar": {
             "outlinewidth": 0,
             "ticks": ""
            },
            "type": "mesh3d"
           }
          ],
          "parcoords": [
           {
            "line": {
             "colorbar": {
              "outlinewidth": 0,
              "ticks": ""
             }
            },
            "type": "parcoords"
           }
          ],
          "pie": [
           {
            "automargin": true,
            "type": "pie"
           }
          ],
          "scatter": [
           {
            "fillpattern": {
             "fillmode": "overlay",
             "size": 10,
             "solidity": 0.2
            },
            "type": "scatter"
           }
          ],
          "scatter3d": [
           {
            "line": {
             "colorbar": {
              "outlinewidth": 0,
              "ticks": ""
             }
            },
            "marker": {
             "colorbar": {
              "outlinewidth": 0,
              "ticks": ""
             }
            },
            "type": "scatter3d"
           }
          ],
          "scattercarpet": [
           {
            "marker": {
             "colorbar": {
              "outlinewidth": 0,
              "ticks": ""
             }
            },
            "type": "scattercarpet"
           }
          ],
          "scattergeo": [
           {
            "marker": {
             "colorbar": {
              "outlinewidth": 0,
              "ticks": ""
             }
            },
            "type": "scattergeo"
           }
          ],
          "scattergl": [
           {
            "marker": {
             "colorbar": {
              "outlinewidth": 0,
              "ticks": ""
             }
            },
            "type": "scattergl"
           }
          ],
          "scattermapbox": [
           {
            "marker": {
             "colorbar": {
              "outlinewidth": 0,
              "ticks": ""
             }
            },
            "type": "scattermapbox"
           }
          ],
          "scatterpolar": [
           {
            "marker": {
             "colorbar": {
              "outlinewidth": 0,
              "ticks": ""
             }
            },
            "type": "scatterpolar"
           }
          ],
          "scatterpolargl": [
           {
            "marker": {
             "colorbar": {
              "outlinewidth": 0,
              "ticks": ""
             }
            },
            "type": "scatterpolargl"
           }
          ],
          "scatterternary": [
           {
            "marker": {
             "colorbar": {
              "outlinewidth": 0,
              "ticks": ""
             }
            },
            "type": "scatterternary"
           }
          ],
          "surface": [
           {
            "colorbar": {
             "outlinewidth": 0,
             "ticks": ""
            },
            "colorscale": [
             [
              0,
              "#0d0887"
             ],
             [
              0.1111111111111111,
              "#46039f"
             ],
             [
              0.2222222222222222,
              "#7201a8"
             ],
             [
              0.3333333333333333,
              "#9c179e"
             ],
             [
              0.4444444444444444,
              "#bd3786"
             ],
             [
              0.5555555555555556,
              "#d8576b"
             ],
             [
              0.6666666666666666,
              "#ed7953"
             ],
             [
              0.7777777777777778,
              "#fb9f3a"
             ],
             [
              0.8888888888888888,
              "#fdca26"
             ],
             [
              1,
              "#f0f921"
             ]
            ],
            "type": "surface"
           }
          ],
          "table": [
           {
            "cells": {
             "fill": {
              "color": "#EBF0F8"
             },
             "line": {
              "color": "white"
             }
            },
            "header": {
             "fill": {
              "color": "#C8D4E3"
             },
             "line": {
              "color": "white"
             }
            },
            "type": "table"
           }
          ]
         },
         "layout": {
          "annotationdefaults": {
           "arrowcolor": "#2a3f5f",
           "arrowhead": 0,
           "arrowwidth": 1
          },
          "autotypenumbers": "strict",
          "coloraxis": {
           "colorbar": {
            "outlinewidth": 0,
            "ticks": ""
           }
          },
          "colorscale": {
           "diverging": [
            [
             0,
             "#8e0152"
            ],
            [
             0.1,
             "#c51b7d"
            ],
            [
             0.2,
             "#de77ae"
            ],
            [
             0.3,
             "#f1b6da"
            ],
            [
             0.4,
             "#fde0ef"
            ],
            [
             0.5,
             "#f7f7f7"
            ],
            [
             0.6,
             "#e6f5d0"
            ],
            [
             0.7,
             "#b8e186"
            ],
            [
             0.8,
             "#7fbc41"
            ],
            [
             0.9,
             "#4d9221"
            ],
            [
             1,
             "#276419"
            ]
           ],
           "sequential": [
            [
             0,
             "#0d0887"
            ],
            [
             0.1111111111111111,
             "#46039f"
            ],
            [
             0.2222222222222222,
             "#7201a8"
            ],
            [
             0.3333333333333333,
             "#9c179e"
            ],
            [
             0.4444444444444444,
             "#bd3786"
            ],
            [
             0.5555555555555556,
             "#d8576b"
            ],
            [
             0.6666666666666666,
             "#ed7953"
            ],
            [
             0.7777777777777778,
             "#fb9f3a"
            ],
            [
             0.8888888888888888,
             "#fdca26"
            ],
            [
             1,
             "#f0f921"
            ]
           ],
           "sequentialminus": [
            [
             0,
             "#0d0887"
            ],
            [
             0.1111111111111111,
             "#46039f"
            ],
            [
             0.2222222222222222,
             "#7201a8"
            ],
            [
             0.3333333333333333,
             "#9c179e"
            ],
            [
             0.4444444444444444,
             "#bd3786"
            ],
            [
             0.5555555555555556,
             "#d8576b"
            ],
            [
             0.6666666666666666,
             "#ed7953"
            ],
            [
             0.7777777777777778,
             "#fb9f3a"
            ],
            [
             0.8888888888888888,
             "#fdca26"
            ],
            [
             1,
             "#f0f921"
            ]
           ]
          },
          "colorway": [
           "#636efa",
           "#EF553B",
           "#00cc96",
           "#ab63fa",
           "#FFA15A",
           "#19d3f3",
           "#FF6692",
           "#B6E880",
           "#FF97FF",
           "#FECB52"
          ],
          "font": {
           "color": "#2a3f5f"
          },
          "geo": {
           "bgcolor": "white",
           "lakecolor": "white",
           "landcolor": "#E5ECF6",
           "showlakes": true,
           "showland": true,
           "subunitcolor": "white"
          },
          "hoverlabel": {
           "align": "left"
          },
          "hovermode": "closest",
          "mapbox": {
           "style": "light"
          },
          "paper_bgcolor": "white",
          "plot_bgcolor": "#E5ECF6",
          "polar": {
           "angularaxis": {
            "gridcolor": "white",
            "linecolor": "white",
            "ticks": ""
           },
           "bgcolor": "#E5ECF6",
           "radialaxis": {
            "gridcolor": "white",
            "linecolor": "white",
            "ticks": ""
           }
          },
          "scene": {
           "xaxis": {
            "backgroundcolor": "#E5ECF6",
            "gridcolor": "white",
            "gridwidth": 2,
            "linecolor": "white",
            "showbackground": true,
            "ticks": "",
            "zerolinecolor": "white"
           },
           "yaxis": {
            "backgroundcolor": "#E5ECF6",
            "gridcolor": "white",
            "gridwidth": 2,
            "linecolor": "white",
            "showbackground": true,
            "ticks": "",
            "zerolinecolor": "white"
           },
           "zaxis": {
            "backgroundcolor": "#E5ECF6",
            "gridcolor": "white",
            "gridwidth": 2,
            "linecolor": "white",
            "showbackground": true,
            "ticks": "",
            "zerolinecolor": "white"
           }
          },
          "shapedefaults": {
           "line": {
            "color": "#2a3f5f"
           }
          },
          "ternary": {
           "aaxis": {
            "gridcolor": "white",
            "linecolor": "white",
            "ticks": ""
           },
           "baxis": {
            "gridcolor": "white",
            "linecolor": "white",
            "ticks": ""
           },
           "bgcolor": "#E5ECF6",
           "caxis": {
            "gridcolor": "white",
            "linecolor": "white",
            "ticks": ""
           }
          },
          "title": {
           "x": 0.05
          },
          "xaxis": {
           "automargin": true,
           "gridcolor": "white",
           "linecolor": "white",
           "ticks": "",
           "title": {
            "standoff": 15
           },
           "zerolinecolor": "white",
           "zerolinewidth": 2
          },
          "yaxis": {
           "automargin": true,
           "gridcolor": "white",
           "linecolor": "white",
           "ticks": "",
           "title": {
            "standoff": 15
           },
           "zerolinecolor": "white",
           "zerolinewidth": 2
          }
         }
        },
        "title": {
         "text": "Top 20 Foods by Highest Count"
        },
        "xaxis": {
         "anchor": "y",
         "domain": [
          0,
          1
         ],
         "title": {
          "text": "Foods"
         }
        },
        "yaxis": {
         "anchor": "x",
         "domain": [
          0,
          1
         ],
         "title": {
          "text": "Count"
         }
        }
       }
      }
     },
     "metadata": {},
     "output_type": "display_data"
    }
   ],
   "source": [
    "count_of_food = global_food_prices['cm_name'].value_counts().nlargest(20)\n",
    "top_20 = pd.DataFrame({'cm_name': count_of_food.index, 'count': count_of_food.values})\n",
    "\n",
    "top_20_foods = px.bar(top_20, x='cm_name', y='count', title='Top 20 Foods by Highest Count', color='count', labels={\"count\":\"Count\", \"cm_name\":\"Foods\"})\n",
    "top_20_foods.show()"
   ]
  },
  {
   "cell_type": "markdown",
   "metadata": {},
   "source": [
    "The visualization titled *Top 20 Foods by Highest Count* highlights that the prevailing items with the highest frequency are Millet - Retail, Rice (imported) - Retail, and Maize - Retail. Remarkably, all of these food items fall under the Retail category. This observation aligns with our earlier discovery that Retail items dominate our dataset in terms of prevalence. Such a pattern offers insights into the consumer-oriented nature of the data, suggesting that retail-level transactions are the main source of food transactions, possibly reflecting consumption trends and preferences."
   ]
  },
  {
   "cell_type": "markdown",
   "metadata": {},
   "source": [
    "Let's determine the highest and lowest years represented in our dataframe. We'll want this information for our following visualization after this cell."
   ]
  },
  {
   "cell_type": "code",
   "execution_count": null,
   "metadata": {},
   "outputs": [
    {
     "name": "stdout",
     "output_type": "stream",
     "text": [
      "Highest Year: 2021\n",
      "Lowest Year: 1990\n"
     ]
    }
   ],
   "source": [
    "highest_year = global_food_prices['mp_year'].max()\n",
    "lowest_year = global_food_prices['mp_year'].min()\n",
    "print(f\"Highest Year: {highest_year}\")\n",
    "print(f\"Lowest Year: {lowest_year}\")"
   ]
  },
  {
   "cell_type": "markdown",
   "metadata": {},
   "source": [
    "With the highest and lowest years now identified in our dataframe, let's proceed to create a comparable visualization as previously done. This visualization will highlight the top 20 food items for both the highest and lowest years, or in other words, finding the top 20 food items with the highest frequencies in the dataset.  "
   ]
  },
  {
   "cell_type": "code",
   "execution_count": null,
   "metadata": {},
   "outputs": [
    {
     "data": {
      "application/vnd.plotly.v1+json": {
       "config": {
        "plotlyServerURL": "https://plot.ly"
       },
       "data": [
        {
         "name": "Highest Year",
         "type": "bar",
         "x": [
          "Sugar - Retail",
          "Salt - Retail",
          "Oil (palm) - Retail",
          "Millet - Retail",
          "Rice (imported) - Retail",
          "Tomatoes - Retail",
          "Rice (local) - Retail",
          "Wheat flour - Retail",
          "Groundnuts (shelled) - Retail",
          "Onions - Retail",
          "Maize - Retail",
          "Oil (vegetable) - Retail",
          "Sorghum - Retail",
          "Maize (white) - Retail",
          "Eggs - Retail",
          "Meat (beef) - Retail",
          "Carrots - Retail",
          "Fuel (diesel) - Retail",
          "Bananas - Retail",
          "Eggplants - Retail"
         ],
         "xaxis": "x",
         "y": [
          2944,
          2813,
          2800,
          2783,
          2777,
          2570,
          2444,
          2319,
          2247,
          2224,
          2052,
          2039,
          2014,
          1904,
          1767,
          1723,
          1657,
          1634,
          1390,
          1371
         ],
         "yaxis": "y"
        },
        {
         "name": "Lowest Year",
         "type": "bar",
         "x": [
          "Millet - Retail",
          "Sorghum - Retail",
          "Rice (imported) - Retail"
         ],
         "xaxis": "x2",
         "y": [
          58,
          46,
          36
         ],
         "yaxis": "y2"
        }
       ],
       "layout": {
        "height": 800,
        "template": {
         "data": {
          "bar": [
           {
            "error_x": {
             "color": "#2a3f5f"
            },
            "error_y": {
             "color": "#2a3f5f"
            },
            "marker": {
             "line": {
              "color": "#E5ECF6",
              "width": 0.5
             },
             "pattern": {
              "fillmode": "overlay",
              "size": 10,
              "solidity": 0.2
             }
            },
            "type": "bar"
           }
          ],
          "barpolar": [
           {
            "marker": {
             "line": {
              "color": "#E5ECF6",
              "width": 0.5
             },
             "pattern": {
              "fillmode": "overlay",
              "size": 10,
              "solidity": 0.2
             }
            },
            "type": "barpolar"
           }
          ],
          "carpet": [
           {
            "aaxis": {
             "endlinecolor": "#2a3f5f",
             "gridcolor": "white",
             "linecolor": "white",
             "minorgridcolor": "white",
             "startlinecolor": "#2a3f5f"
            },
            "baxis": {
             "endlinecolor": "#2a3f5f",
             "gridcolor": "white",
             "linecolor": "white",
             "minorgridcolor": "white",
             "startlinecolor": "#2a3f5f"
            },
            "type": "carpet"
           }
          ],
          "choropleth": [
           {
            "colorbar": {
             "outlinewidth": 0,
             "ticks": ""
            },
            "type": "choropleth"
           }
          ],
          "contour": [
           {
            "colorbar": {
             "outlinewidth": 0,
             "ticks": ""
            },
            "colorscale": [
             [
              0,
              "#0d0887"
             ],
             [
              0.1111111111111111,
              "#46039f"
             ],
             [
              0.2222222222222222,
              "#7201a8"
             ],
             [
              0.3333333333333333,
              "#9c179e"
             ],
             [
              0.4444444444444444,
              "#bd3786"
             ],
             [
              0.5555555555555556,
              "#d8576b"
             ],
             [
              0.6666666666666666,
              "#ed7953"
             ],
             [
              0.7777777777777778,
              "#fb9f3a"
             ],
             [
              0.8888888888888888,
              "#fdca26"
             ],
             [
              1,
              "#f0f921"
             ]
            ],
            "type": "contour"
           }
          ],
          "contourcarpet": [
           {
            "colorbar": {
             "outlinewidth": 0,
             "ticks": ""
            },
            "type": "contourcarpet"
           }
          ],
          "heatmap": [
           {
            "colorbar": {
             "outlinewidth": 0,
             "ticks": ""
            },
            "colorscale": [
             [
              0,
              "#0d0887"
             ],
             [
              0.1111111111111111,
              "#46039f"
             ],
             [
              0.2222222222222222,
              "#7201a8"
             ],
             [
              0.3333333333333333,
              "#9c179e"
             ],
             [
              0.4444444444444444,
              "#bd3786"
             ],
             [
              0.5555555555555556,
              "#d8576b"
             ],
             [
              0.6666666666666666,
              "#ed7953"
             ],
             [
              0.7777777777777778,
              "#fb9f3a"
             ],
             [
              0.8888888888888888,
              "#fdca26"
             ],
             [
              1,
              "#f0f921"
             ]
            ],
            "type": "heatmap"
           }
          ],
          "heatmapgl": [
           {
            "colorbar": {
             "outlinewidth": 0,
             "ticks": ""
            },
            "colorscale": [
             [
              0,
              "#0d0887"
             ],
             [
              0.1111111111111111,
              "#46039f"
             ],
             [
              0.2222222222222222,
              "#7201a8"
             ],
             [
              0.3333333333333333,
              "#9c179e"
             ],
             [
              0.4444444444444444,
              "#bd3786"
             ],
             [
              0.5555555555555556,
              "#d8576b"
             ],
             [
              0.6666666666666666,
              "#ed7953"
             ],
             [
              0.7777777777777778,
              "#fb9f3a"
             ],
             [
              0.8888888888888888,
              "#fdca26"
             ],
             [
              1,
              "#f0f921"
             ]
            ],
            "type": "heatmapgl"
           }
          ],
          "histogram": [
           {
            "marker": {
             "pattern": {
              "fillmode": "overlay",
              "size": 10,
              "solidity": 0.2
             }
            },
            "type": "histogram"
           }
          ],
          "histogram2d": [
           {
            "colorbar": {
             "outlinewidth": 0,
             "ticks": ""
            },
            "colorscale": [
             [
              0,
              "#0d0887"
             ],
             [
              0.1111111111111111,
              "#46039f"
             ],
             [
              0.2222222222222222,
              "#7201a8"
             ],
             [
              0.3333333333333333,
              "#9c179e"
             ],
             [
              0.4444444444444444,
              "#bd3786"
             ],
             [
              0.5555555555555556,
              "#d8576b"
             ],
             [
              0.6666666666666666,
              "#ed7953"
             ],
             [
              0.7777777777777778,
              "#fb9f3a"
             ],
             [
              0.8888888888888888,
              "#fdca26"
             ],
             [
              1,
              "#f0f921"
             ]
            ],
            "type": "histogram2d"
           }
          ],
          "histogram2dcontour": [
           {
            "colorbar": {
             "outlinewidth": 0,
             "ticks": ""
            },
            "colorscale": [
             [
              0,
              "#0d0887"
             ],
             [
              0.1111111111111111,
              "#46039f"
             ],
             [
              0.2222222222222222,
              "#7201a8"
             ],
             [
              0.3333333333333333,
              "#9c179e"
             ],
             [
              0.4444444444444444,
              "#bd3786"
             ],
             [
              0.5555555555555556,
              "#d8576b"
             ],
             [
              0.6666666666666666,
              "#ed7953"
             ],
             [
              0.7777777777777778,
              "#fb9f3a"
             ],
             [
              0.8888888888888888,
              "#fdca26"
             ],
             [
              1,
              "#f0f921"
             ]
            ],
            "type": "histogram2dcontour"
           }
          ],
          "mesh3d": [
           {
            "colorbar": {
             "outlinewidth": 0,
             "ticks": ""
            },
            "type": "mesh3d"
           }
          ],
          "parcoords": [
           {
            "line": {
             "colorbar": {
              "outlinewidth": 0,
              "ticks": ""
             }
            },
            "type": "parcoords"
           }
          ],
          "pie": [
           {
            "automargin": true,
            "type": "pie"
           }
          ],
          "scatter": [
           {
            "fillpattern": {
             "fillmode": "overlay",
             "size": 10,
             "solidity": 0.2
            },
            "type": "scatter"
           }
          ],
          "scatter3d": [
           {
            "line": {
             "colorbar": {
              "outlinewidth": 0,
              "ticks": ""
             }
            },
            "marker": {
             "colorbar": {
              "outlinewidth": 0,
              "ticks": ""
             }
            },
            "type": "scatter3d"
           }
          ],
          "scattercarpet": [
           {
            "marker": {
             "colorbar": {
              "outlinewidth": 0,
              "ticks": ""
             }
            },
            "type": "scattercarpet"
           }
          ],
          "scattergeo": [
           {
            "marker": {
             "colorbar": {
              "outlinewidth": 0,
              "ticks": ""
             }
            },
            "type": "scattergeo"
           }
          ],
          "scattergl": [
           {
            "marker": {
             "colorbar": {
              "outlinewidth": 0,
              "ticks": ""
             }
            },
            "type": "scattergl"
           }
          ],
          "scattermapbox": [
           {
            "marker": {
             "colorbar": {
              "outlinewidth": 0,
              "ticks": ""
             }
            },
            "type": "scattermapbox"
           }
          ],
          "scatterpolar": [
           {
            "marker": {
             "colorbar": {
              "outlinewidth": 0,
              "ticks": ""
             }
            },
            "type": "scatterpolar"
           }
          ],
          "scatterpolargl": [
           {
            "marker": {
             "colorbar": {
              "outlinewidth": 0,
              "ticks": ""
             }
            },
            "type": "scatterpolargl"
           }
          ],
          "scatterternary": [
           {
            "marker": {
             "colorbar": {
              "outlinewidth": 0,
              "ticks": ""
             }
            },
            "type": "scatterternary"
           }
          ],
          "surface": [
           {
            "colorbar": {
             "outlinewidth": 0,
             "ticks": ""
            },
            "colorscale": [
             [
              0,
              "#0d0887"
             ],
             [
              0.1111111111111111,
              "#46039f"
             ],
             [
              0.2222222222222222,
              "#7201a8"
             ],
             [
              0.3333333333333333,
              "#9c179e"
             ],
             [
              0.4444444444444444,
              "#bd3786"
             ],
             [
              0.5555555555555556,
              "#d8576b"
             ],
             [
              0.6666666666666666,
              "#ed7953"
             ],
             [
              0.7777777777777778,
              "#fb9f3a"
             ],
             [
              0.8888888888888888,
              "#fdca26"
             ],
             [
              1,
              "#f0f921"
             ]
            ],
            "type": "surface"
           }
          ],
          "table": [
           {
            "cells": {
             "fill": {
              "color": "#EBF0F8"
             },
             "line": {
              "color": "white"
             }
            },
            "header": {
             "fill": {
              "color": "#C8D4E3"
             },
             "line": {
              "color": "white"
             }
            },
            "type": "table"
           }
          ]
         },
         "layout": {
          "annotationdefaults": {
           "arrowcolor": "#2a3f5f",
           "arrowhead": 0,
           "arrowwidth": 1
          },
          "autotypenumbers": "strict",
          "coloraxis": {
           "colorbar": {
            "outlinewidth": 0,
            "ticks": ""
           }
          },
          "colorscale": {
           "diverging": [
            [
             0,
             "#8e0152"
            ],
            [
             0.1,
             "#c51b7d"
            ],
            [
             0.2,
             "#de77ae"
            ],
            [
             0.3,
             "#f1b6da"
            ],
            [
             0.4,
             "#fde0ef"
            ],
            [
             0.5,
             "#f7f7f7"
            ],
            [
             0.6,
             "#e6f5d0"
            ],
            [
             0.7,
             "#b8e186"
            ],
            [
             0.8,
             "#7fbc41"
            ],
            [
             0.9,
             "#4d9221"
            ],
            [
             1,
             "#276419"
            ]
           ],
           "sequential": [
            [
             0,
             "#0d0887"
            ],
            [
             0.1111111111111111,
             "#46039f"
            ],
            [
             0.2222222222222222,
             "#7201a8"
            ],
            [
             0.3333333333333333,
             "#9c179e"
            ],
            [
             0.4444444444444444,
             "#bd3786"
            ],
            [
             0.5555555555555556,
             "#d8576b"
            ],
            [
             0.6666666666666666,
             "#ed7953"
            ],
            [
             0.7777777777777778,
             "#fb9f3a"
            ],
            [
             0.8888888888888888,
             "#fdca26"
            ],
            [
             1,
             "#f0f921"
            ]
           ],
           "sequentialminus": [
            [
             0,
             "#0d0887"
            ],
            [
             0.1111111111111111,
             "#46039f"
            ],
            [
             0.2222222222222222,
             "#7201a8"
            ],
            [
             0.3333333333333333,
             "#9c179e"
            ],
            [
             0.4444444444444444,
             "#bd3786"
            ],
            [
             0.5555555555555556,
             "#d8576b"
            ],
            [
             0.6666666666666666,
             "#ed7953"
            ],
            [
             0.7777777777777778,
             "#fb9f3a"
            ],
            [
             0.8888888888888888,
             "#fdca26"
            ],
            [
             1,
             "#f0f921"
            ]
           ]
          },
          "colorway": [
           "#636efa",
           "#EF553B",
           "#00cc96",
           "#ab63fa",
           "#FFA15A",
           "#19d3f3",
           "#FF6692",
           "#B6E880",
           "#FF97FF",
           "#FECB52"
          ],
          "font": {
           "color": "#2a3f5f"
          },
          "geo": {
           "bgcolor": "white",
           "lakecolor": "white",
           "landcolor": "#E5ECF6",
           "showlakes": true,
           "showland": true,
           "subunitcolor": "white"
          },
          "hoverlabel": {
           "align": "left"
          },
          "hovermode": "closest",
          "mapbox": {
           "style": "light"
          },
          "paper_bgcolor": "white",
          "plot_bgcolor": "#E5ECF6",
          "polar": {
           "angularaxis": {
            "gridcolor": "white",
            "linecolor": "white",
            "ticks": ""
           },
           "bgcolor": "#E5ECF6",
           "radialaxis": {
            "gridcolor": "white",
            "linecolor": "white",
            "ticks": ""
           }
          },
          "scene": {
           "xaxis": {
            "backgroundcolor": "#E5ECF6",
            "gridcolor": "white",
            "gridwidth": 2,
            "linecolor": "white",
            "showbackground": true,
            "ticks": "",
            "zerolinecolor": "white"
           },
           "yaxis": {
            "backgroundcolor": "#E5ECF6",
            "gridcolor": "white",
            "gridwidth": 2,
            "linecolor": "white",
            "showbackground": true,
            "ticks": "",
            "zerolinecolor": "white"
           },
           "zaxis": {
            "backgroundcolor": "#E5ECF6",
            "gridcolor": "white",
            "gridwidth": 2,
            "linecolor": "white",
            "showbackground": true,
            "ticks": "",
            "zerolinecolor": "white"
           }
          },
          "shapedefaults": {
           "line": {
            "color": "#2a3f5f"
           }
          },
          "ternary": {
           "aaxis": {
            "gridcolor": "white",
            "linecolor": "white",
            "ticks": ""
           },
           "baxis": {
            "gridcolor": "white",
            "linecolor": "white",
            "ticks": ""
           },
           "bgcolor": "#E5ECF6",
           "caxis": {
            "gridcolor": "white",
            "linecolor": "white",
            "ticks": ""
           }
          },
          "title": {
           "x": 0.05
          },
          "xaxis": {
           "automargin": true,
           "gridcolor": "white",
           "linecolor": "white",
           "ticks": "",
           "title": {
            "standoff": 15
           },
           "zerolinecolor": "white",
           "zerolinewidth": 2
          },
          "yaxis": {
           "automargin": true,
           "gridcolor": "white",
           "linecolor": "white",
           "ticks": "",
           "title": {
            "standoff": 15
           },
           "zerolinecolor": "white",
           "zerolinewidth": 2
          }
         }
        },
        "title": {
         "text": "Top 20 Foods by Highest Count in Highest (2021) and Lowest (1990) Years"
        },
        "xaxis": {
         "anchor": "y",
         "domain": [
          0,
          1
         ]
        },
        "xaxis2": {
         "anchor": "y2",
         "domain": [
          0,
          1
         ]
        },
        "yaxis": {
         "anchor": "x",
         "domain": [
          0.6000000000000001,
          1
         ],
         "title": {
          "text": "Count"
         }
        },
        "yaxis2": {
         "anchor": "x2",
         "domain": [
          0,
          0.4
         ],
         "title": {
          "text": "Count"
         }
        }
       }
      }
     },
     "metadata": {},
     "output_type": "display_data"
    }
   ],
   "source": [
    "high_temp = global_food_prices[global_food_prices['mp_year'] == highest_year]\n",
    "low_temp = global_food_prices[global_food_prices['mp_year'] == lowest_year]\n",
    "\n",
    "top_20_foods_highest_year = high_temp['cm_name'].value_counts().nlargest(20)\n",
    "top_20_highest_year = pd.DataFrame({'cm_name': top_20_foods_highest_year.index, 'count': top_20_foods_highest_year.values})\n",
    "\n",
    "top_20_foods_lowest_year = low_temp['cm_name'].value_counts().nlargest(20)\n",
    "top_20_lowest_year = pd.DataFrame({'cm_name': top_20_foods_lowest_year.index, 'count': top_20_foods_lowest_year.values})\n",
    "\n",
    "high_low_fig = make_subplots(rows=2, cols=1, vertical_spacing=0.2)\n",
    "\n",
    "high_low_fig.add_trace(go.Bar(x=top_20_highest_year['cm_name'], y=top_20_highest_year['count'], name='Highest Year'), row=1, col=1)\n",
    "high_low_fig.add_trace(go.Bar(x=top_20_lowest_year['cm_name'], y=top_20_lowest_year['count'], name='Lowest Year'), row=2, col=1)\n",
    "\n",
    "high_low_fig.update_layout(title_text=f\"Top 20 Foods by Highest Count in Highest ({highest_year}) and Lowest ({lowest_year}) Years\")\n",
    "high_low_fig.update_yaxes(title=\"Count\", row=1, col=1)\n",
    "high_low_fig.update_yaxes(title=\"Count\", row=2, col=1)\n",
    "\n",
    "\n",
    "high_low_fig.update_layout(height=800)\n",
    "\n",
    "high_low_fig.show()"
   ]
  },
  {
   "cell_type": "markdown",
   "metadata": {},
   "source": [
    "Starting with 2021, it appears that certain items such as *Sugar*, *Salt*, and *Oil* dominate the frequency distribution. Sugar having the highest frequency, would be defined as the *mode*, a mathematical term defining the value that appears most frequently in a given set of data. This observation aligns with expectations, given that these items often serve as foundational staples in various cuisines and diets, making them widely sought after and widely available. \n",
    "\n",
    "Examining the data for the year 1990, a stark contrast emerges as we find only three items represented: *Millet*, *Sorghum*, and *Rice*. This limited diversity could be attributed to several factors. One potential factor is that data collection practices and record-keeping back in the early 1990s might have been less comprehensive compared to contemporary times, resulting in a narrower range of documented food items. \n",
    "\n",
    "Notice how the *context* of data greatly impacts what is considered a high frequency or low frequency food item. In the year 1990, millet is considered the most frequent (mode) item in the given dataset with a count of 58. However, if we put this item into the context of the year 2021, it would be considered one of the least frequent food items. This shows us that when dealing with data looking at numbers alone doesn't show the full story - looking at how the numbers fit relative to the data helps us make sense of their significance."
   ]
  },
  {
   "cell_type": "markdown",
   "metadata": {},
   "source": [
    "We noticed that Millet was a common food item between the 2021 and 1990 figures. Let's filter our data on this particular food item to compare the differences in prices. To do this, we're going to filter the data on our specified year and food item. Then, we're going to retrieve the maximum price for each country as each country can have multiple prices of the same item. \n",
    "\n",
    "Similarly to before, by comparing the prices between different times, we get to see if the item has generally increased or decreased in price. "
   ]
  },
  {
   "cell_type": "code",
   "execution_count": null,
   "metadata": {},
   "outputs": [
    {
     "data": {
      "application/vnd.plotly.v1+json": {
       "config": {
        "plotlyServerURL": "https://plot.ly"
       },
       "data": [
        {
         "customdata": [
          [
           "UGX",
           6
          ],
          [
           "XOF",
           1
          ],
          [
           "XOF",
           5
          ],
          [
           "SDG",
           7
          ],
          [
           "YER",
           6
          ],
          [
           "XOF",
           1
          ],
          [
           "XAF",
           4
          ],
          [
           "NGN",
           4
          ],
          [
           "XOF",
           7
          ],
          [
           "XOF",
           4
          ],
          [
           "XOF",
           5
          ],
          [
           "MRO",
           4
          ],
          [
           "DJF",
           1
          ],
          [
           "GMD",
           1
          ],
          [
           "NAD",
           5
          ],
          [
           "GHS",
           7
          ]
         ],
         "hovertemplate": "Country=%{x}<br>Price=%{marker.color}<br>cur_name=%{customdata[0]}<br>mp_month=%{customdata[1]}<extra></extra>",
         "legendgroup": "",
         "marker": {
          "color": [
           3200,
           2068.97,
           1000,
           800,
           713,
           500,
           400,
           365.859,
           364,
           350,
           335,
           276.6667,
           160,
           48.6486,
           19.35,
           9.72
          ],
          "coloraxis": "coloraxis",
          "symbol": "circle"
         },
         "mode": "markers",
         "name": "",
         "orientation": "v",
         "showlegend": false,
         "type": "scatter",
         "x": [
          "Uganda",
          "Benin",
          "Guinea-Bissau",
          "Sudan",
          "Yemen",
          "Mali",
          "Cameroon",
          "Nigeria",
          "Niger",
          "Senegal",
          "Burkina Faso",
          "Mauritania",
          "Djibouti",
          "Gambia",
          "Namibia",
          "Ghana"
         ],
         "xaxis": "x",
         "y": [
          3200,
          2068.97,
          1000,
          800,
          713,
          500,
          400,
          365.859,
          364,
          350,
          335,
          276.6667,
          160,
          48.6486,
          19.35,
          9.72
         ],
         "yaxis": "y"
        }
       ],
       "layout": {
        "coloraxis": {
         "colorbar": {
          "title": {
           "text": "Price"
          }
         },
         "colorscale": [
          [
           0,
           "#0d0887"
          ],
          [
           0.1111111111111111,
           "#46039f"
          ],
          [
           0.2222222222222222,
           "#7201a8"
          ],
          [
           0.3333333333333333,
           "#9c179e"
          ],
          [
           0.4444444444444444,
           "#bd3786"
          ],
          [
           0.5555555555555556,
           "#d8576b"
          ],
          [
           0.6666666666666666,
           "#ed7953"
          ],
          [
           0.7777777777777778,
           "#fb9f3a"
          ],
          [
           0.8888888888888888,
           "#fdca26"
          ],
          [
           1,
           "#f0f921"
          ]
         ]
        },
        "legend": {
         "tracegroupgap": 0
        },
        "template": {
         "data": {
          "bar": [
           {
            "error_x": {
             "color": "#2a3f5f"
            },
            "error_y": {
             "color": "#2a3f5f"
            },
            "marker": {
             "line": {
              "color": "#E5ECF6",
              "width": 0.5
             },
             "pattern": {
              "fillmode": "overlay",
              "size": 10,
              "solidity": 0.2
             }
            },
            "type": "bar"
           }
          ],
          "barpolar": [
           {
            "marker": {
             "line": {
              "color": "#E5ECF6",
              "width": 0.5
             },
             "pattern": {
              "fillmode": "overlay",
              "size": 10,
              "solidity": 0.2
             }
            },
            "type": "barpolar"
           }
          ],
          "carpet": [
           {
            "aaxis": {
             "endlinecolor": "#2a3f5f",
             "gridcolor": "white",
             "linecolor": "white",
             "minorgridcolor": "white",
             "startlinecolor": "#2a3f5f"
            },
            "baxis": {
             "endlinecolor": "#2a3f5f",
             "gridcolor": "white",
             "linecolor": "white",
             "minorgridcolor": "white",
             "startlinecolor": "#2a3f5f"
            },
            "type": "carpet"
           }
          ],
          "choropleth": [
           {
            "colorbar": {
             "outlinewidth": 0,
             "ticks": ""
            },
            "type": "choropleth"
           }
          ],
          "contour": [
           {
            "colorbar": {
             "outlinewidth": 0,
             "ticks": ""
            },
            "colorscale": [
             [
              0,
              "#0d0887"
             ],
             [
              0.1111111111111111,
              "#46039f"
             ],
             [
              0.2222222222222222,
              "#7201a8"
             ],
             [
              0.3333333333333333,
              "#9c179e"
             ],
             [
              0.4444444444444444,
              "#bd3786"
             ],
             [
              0.5555555555555556,
              "#d8576b"
             ],
             [
              0.6666666666666666,
              "#ed7953"
             ],
             [
              0.7777777777777778,
              "#fb9f3a"
             ],
             [
              0.8888888888888888,
              "#fdca26"
             ],
             [
              1,
              "#f0f921"
             ]
            ],
            "type": "contour"
           }
          ],
          "contourcarpet": [
           {
            "colorbar": {
             "outlinewidth": 0,
             "ticks": ""
            },
            "type": "contourcarpet"
           }
          ],
          "heatmap": [
           {
            "colorbar": {
             "outlinewidth": 0,
             "ticks": ""
            },
            "colorscale": [
             [
              0,
              "#0d0887"
             ],
             [
              0.1111111111111111,
              "#46039f"
             ],
             [
              0.2222222222222222,
              "#7201a8"
             ],
             [
              0.3333333333333333,
              "#9c179e"
             ],
             [
              0.4444444444444444,
              "#bd3786"
             ],
             [
              0.5555555555555556,
              "#d8576b"
             ],
             [
              0.6666666666666666,
              "#ed7953"
             ],
             [
              0.7777777777777778,
              "#fb9f3a"
             ],
             [
              0.8888888888888888,
              "#fdca26"
             ],
             [
              1,
              "#f0f921"
             ]
            ],
            "type": "heatmap"
           }
          ],
          "heatmapgl": [
           {
            "colorbar": {
             "outlinewidth": 0,
             "ticks": ""
            },
            "colorscale": [
             [
              0,
              "#0d0887"
             ],
             [
              0.1111111111111111,
              "#46039f"
             ],
             [
              0.2222222222222222,
              "#7201a8"
             ],
             [
              0.3333333333333333,
              "#9c179e"
             ],
             [
              0.4444444444444444,
              "#bd3786"
             ],
             [
              0.5555555555555556,
              "#d8576b"
             ],
             [
              0.6666666666666666,
              "#ed7953"
             ],
             [
              0.7777777777777778,
              "#fb9f3a"
             ],
             [
              0.8888888888888888,
              "#fdca26"
             ],
             [
              1,
              "#f0f921"
             ]
            ],
            "type": "heatmapgl"
           }
          ],
          "histogram": [
           {
            "marker": {
             "pattern": {
              "fillmode": "overlay",
              "size": 10,
              "solidity": 0.2
             }
            },
            "type": "histogram"
           }
          ],
          "histogram2d": [
           {
            "colorbar": {
             "outlinewidth": 0,
             "ticks": ""
            },
            "colorscale": [
             [
              0,
              "#0d0887"
             ],
             [
              0.1111111111111111,
              "#46039f"
             ],
             [
              0.2222222222222222,
              "#7201a8"
             ],
             [
              0.3333333333333333,
              "#9c179e"
             ],
             [
              0.4444444444444444,
              "#bd3786"
             ],
             [
              0.5555555555555556,
              "#d8576b"
             ],
             [
              0.6666666666666666,
              "#ed7953"
             ],
             [
              0.7777777777777778,
              "#fb9f3a"
             ],
             [
              0.8888888888888888,
              "#fdca26"
             ],
             [
              1,
              "#f0f921"
             ]
            ],
            "type": "histogram2d"
           }
          ],
          "histogram2dcontour": [
           {
            "colorbar": {
             "outlinewidth": 0,
             "ticks": ""
            },
            "colorscale": [
             [
              0,
              "#0d0887"
             ],
             [
              0.1111111111111111,
              "#46039f"
             ],
             [
              0.2222222222222222,
              "#7201a8"
             ],
             [
              0.3333333333333333,
              "#9c179e"
             ],
             [
              0.4444444444444444,
              "#bd3786"
             ],
             [
              0.5555555555555556,
              "#d8576b"
             ],
             [
              0.6666666666666666,
              "#ed7953"
             ],
             [
              0.7777777777777778,
              "#fb9f3a"
             ],
             [
              0.8888888888888888,
              "#fdca26"
             ],
             [
              1,
              "#f0f921"
             ]
            ],
            "type": "histogram2dcontour"
           }
          ],
          "mesh3d": [
           {
            "colorbar": {
             "outlinewidth": 0,
             "ticks": ""
            },
            "type": "mesh3d"
           }
          ],
          "parcoords": [
           {
            "line": {
             "colorbar": {
              "outlinewidth": 0,
              "ticks": ""
             }
            },
            "type": "parcoords"
           }
          ],
          "pie": [
           {
            "automargin": true,
            "type": "pie"
           }
          ],
          "scatter": [
           {
            "fillpattern": {
             "fillmode": "overlay",
             "size": 10,
             "solidity": 0.2
            },
            "type": "scatter"
           }
          ],
          "scatter3d": [
           {
            "line": {
             "colorbar": {
              "outlinewidth": 0,
              "ticks": ""
             }
            },
            "marker": {
             "colorbar": {
              "outlinewidth": 0,
              "ticks": ""
             }
            },
            "type": "scatter3d"
           }
          ],
          "scattercarpet": [
           {
            "marker": {
             "colorbar": {
              "outlinewidth": 0,
              "ticks": ""
             }
            },
            "type": "scattercarpet"
           }
          ],
          "scattergeo": [
           {
            "marker": {
             "colorbar": {
              "outlinewidth": 0,
              "ticks": ""
             }
            },
            "type": "scattergeo"
           }
          ],
          "scattergl": [
           {
            "marker": {
             "colorbar": {
              "outlinewidth": 0,
              "ticks": ""
             }
            },
            "type": "scattergl"
           }
          ],
          "scattermapbox": [
           {
            "marker": {
             "colorbar": {
              "outlinewidth": 0,
              "ticks": ""
             }
            },
            "type": "scattermapbox"
           }
          ],
          "scatterpolar": [
           {
            "marker": {
             "colorbar": {
              "outlinewidth": 0,
              "ticks": ""
             }
            },
            "type": "scatterpolar"
           }
          ],
          "scatterpolargl": [
           {
            "marker": {
             "colorbar": {
              "outlinewidth": 0,
              "ticks": ""
             }
            },
            "type": "scatterpolargl"
           }
          ],
          "scatterternary": [
           {
            "marker": {
             "colorbar": {
              "outlinewidth": 0,
              "ticks": ""
             }
            },
            "type": "scatterternary"
           }
          ],
          "surface": [
           {
            "colorbar": {
             "outlinewidth": 0,
             "ticks": ""
            },
            "colorscale": [
             [
              0,
              "#0d0887"
             ],
             [
              0.1111111111111111,
              "#46039f"
             ],
             [
              0.2222222222222222,
              "#7201a8"
             ],
             [
              0.3333333333333333,
              "#9c179e"
             ],
             [
              0.4444444444444444,
              "#bd3786"
             ],
             [
              0.5555555555555556,
              "#d8576b"
             ],
             [
              0.6666666666666666,
              "#ed7953"
             ],
             [
              0.7777777777777778,
              "#fb9f3a"
             ],
             [
              0.8888888888888888,
              "#fdca26"
             ],
             [
              1,
              "#f0f921"
             ]
            ],
            "type": "surface"
           }
          ],
          "table": [
           {
            "cells": {
             "fill": {
              "color": "#EBF0F8"
             },
             "line": {
              "color": "white"
             }
            },
            "header": {
             "fill": {
              "color": "#C8D4E3"
             },
             "line": {
              "color": "white"
             }
            },
            "type": "table"
           }
          ]
         },
         "layout": {
          "annotationdefaults": {
           "arrowcolor": "#2a3f5f",
           "arrowhead": 0,
           "arrowwidth": 1
          },
          "autotypenumbers": "strict",
          "coloraxis": {
           "colorbar": {
            "outlinewidth": 0,
            "ticks": ""
           }
          },
          "colorscale": {
           "diverging": [
            [
             0,
             "#8e0152"
            ],
            [
             0.1,
             "#c51b7d"
            ],
            [
             0.2,
             "#de77ae"
            ],
            [
             0.3,
             "#f1b6da"
            ],
            [
             0.4,
             "#fde0ef"
            ],
            [
             0.5,
             "#f7f7f7"
            ],
            [
             0.6,
             "#e6f5d0"
            ],
            [
             0.7,
             "#b8e186"
            ],
            [
             0.8,
             "#7fbc41"
            ],
            [
             0.9,
             "#4d9221"
            ],
            [
             1,
             "#276419"
            ]
           ],
           "sequential": [
            [
             0,
             "#0d0887"
            ],
            [
             0.1111111111111111,
             "#46039f"
            ],
            [
             0.2222222222222222,
             "#7201a8"
            ],
            [
             0.3333333333333333,
             "#9c179e"
            ],
            [
             0.4444444444444444,
             "#bd3786"
            ],
            [
             0.5555555555555556,
             "#d8576b"
            ],
            [
             0.6666666666666666,
             "#ed7953"
            ],
            [
             0.7777777777777778,
             "#fb9f3a"
            ],
            [
             0.8888888888888888,
             "#fdca26"
            ],
            [
             1,
             "#f0f921"
            ]
           ],
           "sequentialminus": [
            [
             0,
             "#0d0887"
            ],
            [
             0.1111111111111111,
             "#46039f"
            ],
            [
             0.2222222222222222,
             "#7201a8"
            ],
            [
             0.3333333333333333,
             "#9c179e"
            ],
            [
             0.4444444444444444,
             "#bd3786"
            ],
            [
             0.5555555555555556,
             "#d8576b"
            ],
            [
             0.6666666666666666,
             "#ed7953"
            ],
            [
             0.7777777777777778,
             "#fb9f3a"
            ],
            [
             0.8888888888888888,
             "#fdca26"
            ],
            [
             1,
             "#f0f921"
            ]
           ]
          },
          "colorway": [
           "#636efa",
           "#EF553B",
           "#00cc96",
           "#ab63fa",
           "#FFA15A",
           "#19d3f3",
           "#FF6692",
           "#B6E880",
           "#FF97FF",
           "#FECB52"
          ],
          "font": {
           "color": "#2a3f5f"
          },
          "geo": {
           "bgcolor": "white",
           "lakecolor": "white",
           "landcolor": "#E5ECF6",
           "showlakes": true,
           "showland": true,
           "subunitcolor": "white"
          },
          "hoverlabel": {
           "align": "left"
          },
          "hovermode": "closest",
          "mapbox": {
           "style": "light"
          },
          "paper_bgcolor": "white",
          "plot_bgcolor": "#E5ECF6",
          "polar": {
           "angularaxis": {
            "gridcolor": "white",
            "linecolor": "white",
            "ticks": ""
           },
           "bgcolor": "#E5ECF6",
           "radialaxis": {
            "gridcolor": "white",
            "linecolor": "white",
            "ticks": ""
           }
          },
          "scene": {
           "xaxis": {
            "backgroundcolor": "#E5ECF6",
            "gridcolor": "white",
            "gridwidth": 2,
            "linecolor": "white",
            "showbackground": true,
            "ticks": "",
            "zerolinecolor": "white"
           },
           "yaxis": {
            "backgroundcolor": "#E5ECF6",
            "gridcolor": "white",
            "gridwidth": 2,
            "linecolor": "white",
            "showbackground": true,
            "ticks": "",
            "zerolinecolor": "white"
           },
           "zaxis": {
            "backgroundcolor": "#E5ECF6",
            "gridcolor": "white",
            "gridwidth": 2,
            "linecolor": "white",
            "showbackground": true,
            "ticks": "",
            "zerolinecolor": "white"
           }
          },
          "shapedefaults": {
           "line": {
            "color": "#2a3f5f"
           }
          },
          "ternary": {
           "aaxis": {
            "gridcolor": "white",
            "linecolor": "white",
            "ticks": ""
           },
           "baxis": {
            "gridcolor": "white",
            "linecolor": "white",
            "ticks": ""
           },
           "bgcolor": "#E5ECF6",
           "caxis": {
            "gridcolor": "white",
            "linecolor": "white",
            "ticks": ""
           }
          },
          "title": {
           "x": 0.05
          },
          "xaxis": {
           "automargin": true,
           "gridcolor": "white",
           "linecolor": "white",
           "ticks": "",
           "title": {
            "standoff": 15
           },
           "zerolinecolor": "white",
           "zerolinewidth": 2
          },
          "yaxis": {
           "automargin": true,
           "gridcolor": "white",
           "linecolor": "white",
           "ticks": "",
           "title": {
            "standoff": 15
           },
           "zerolinecolor": "white",
           "zerolinewidth": 2
          }
         }
        },
        "title": {
         "text": "Highest Retail Millet Prices in 2021"
        },
        "xaxis": {
         "anchor": "y",
         "domain": [
          0,
          1
         ],
         "title": {
          "text": "Country"
         }
        },
        "yaxis": {
         "anchor": "x",
         "domain": [
          0,
          1
         ],
         "title": {
          "text": "Price"
         }
        }
       }
      }
     },
     "metadata": {},
     "output_type": "display_data"
    }
   ],
   "source": [
    "# Filter for 'Millet - Retail' prices and the year 2021\n",
    "millet_retail_data_2021 = global_food_prices[\n",
    "    (global_food_prices['cm_name'] == 'Millet - Retail') &\n",
    "    (global_food_prices['mp_year'] == 2021)\n",
    "]\n",
    "\n",
    "# We're going to getting only the highest price for each country \n",
    "indices_highest_prices = millet_retail_data_2021.groupby('country')['mp_price'].idxmax()\n",
    "millet_retail_highest_prices_2021 = millet_retail_data_2021.loc[indices_highest_prices]\n",
    "millet_retail_highest_prices_2021 = millet_retail_highest_prices_2021.sort_values(by='mp_price', ascending=False)\n",
    "\n",
    "millet_plots = px.scatter(millet_retail_highest_prices_2021, x='country',y='mp_price',color='mp_price',title='Highest Retail Millet Prices in 2021',hover_data=['cur_name', 'mp_month'], labels={\"country\":\"Country\", \"mp_price\":\"Price\"}).show()"
   ]
  },
  {
   "cell_type": "markdown",
   "metadata": {},
   "source": [
    "Now let's filter for the years 1990-2000. The reason why we don't only filter on 1990 is because there are so few datapoints in the year 1990 alone. This broader time frame takes into account the relative scarcity of data points in the solitary year of 1990, ensuring a more comprehensive representation of trends and fluctuations."
   ]
  },
  {
   "cell_type": "code",
   "execution_count": null,
   "metadata": {},
   "outputs": [
    {
     "data": {
      "application/vnd.plotly.v1+json": {
       "config": {
        "plotlyServerURL": "https://plot.ly"
       },
       "data": [
        {
         "customdata": [
          [
           "XOF",
           7,
           1998
          ],
          [
           "XOF",
           8,
           1998
          ],
          [
           "XOF",
           8,
           2000
          ]
         ],
         "hovertemplate": "Country=%{x}<br>Price=%{marker.color}<br>cur_name=%{customdata[0]}<br>mp_month=%{customdata[1]}<br>mp_year=%{customdata[2]}<extra></extra>",
         "legendgroup": "",
         "marker": {
          "color": [
           312,
           246.5199,
           144.375
          ],
          "coloraxis": "coloraxis",
          "symbol": "circle"
         },
         "mode": "markers",
         "name": "",
         "orientation": "v",
         "showlegend": false,
         "type": "scatter",
         "x": [
          "Niger",
          "Burkina Faso",
          "Senegal"
         ],
         "xaxis": "x",
         "y": [
          312,
          246.5199,
          144.375
         ],
         "yaxis": "y"
        }
       ],
       "layout": {
        "coloraxis": {
         "colorbar": {
          "title": {
           "text": "Price"
          }
         },
         "colorscale": [
          [
           0,
           "#0d0887"
          ],
          [
           0.1111111111111111,
           "#46039f"
          ],
          [
           0.2222222222222222,
           "#7201a8"
          ],
          [
           0.3333333333333333,
           "#9c179e"
          ],
          [
           0.4444444444444444,
           "#bd3786"
          ],
          [
           0.5555555555555556,
           "#d8576b"
          ],
          [
           0.6666666666666666,
           "#ed7953"
          ],
          [
           0.7777777777777778,
           "#fb9f3a"
          ],
          [
           0.8888888888888888,
           "#fdca26"
          ],
          [
           1,
           "#f0f921"
          ]
         ]
        },
        "legend": {
         "tracegroupgap": 0
        },
        "template": {
         "data": {
          "bar": [
           {
            "error_x": {
             "color": "#2a3f5f"
            },
            "error_y": {
             "color": "#2a3f5f"
            },
            "marker": {
             "line": {
              "color": "#E5ECF6",
              "width": 0.5
             },
             "pattern": {
              "fillmode": "overlay",
              "size": 10,
              "solidity": 0.2
             }
            },
            "type": "bar"
           }
          ],
          "barpolar": [
           {
            "marker": {
             "line": {
              "color": "#E5ECF6",
              "width": 0.5
             },
             "pattern": {
              "fillmode": "overlay",
              "size": 10,
              "solidity": 0.2
             }
            },
            "type": "barpolar"
           }
          ],
          "carpet": [
           {
            "aaxis": {
             "endlinecolor": "#2a3f5f",
             "gridcolor": "white",
             "linecolor": "white",
             "minorgridcolor": "white",
             "startlinecolor": "#2a3f5f"
            },
            "baxis": {
             "endlinecolor": "#2a3f5f",
             "gridcolor": "white",
             "linecolor": "white",
             "minorgridcolor": "white",
             "startlinecolor": "#2a3f5f"
            },
            "type": "carpet"
           }
          ],
          "choropleth": [
           {
            "colorbar": {
             "outlinewidth": 0,
             "ticks": ""
            },
            "type": "choropleth"
           }
          ],
          "contour": [
           {
            "colorbar": {
             "outlinewidth": 0,
             "ticks": ""
            },
            "colorscale": [
             [
              0,
              "#0d0887"
             ],
             [
              0.1111111111111111,
              "#46039f"
             ],
             [
              0.2222222222222222,
              "#7201a8"
             ],
             [
              0.3333333333333333,
              "#9c179e"
             ],
             [
              0.4444444444444444,
              "#bd3786"
             ],
             [
              0.5555555555555556,
              "#d8576b"
             ],
             [
              0.6666666666666666,
              "#ed7953"
             ],
             [
              0.7777777777777778,
              "#fb9f3a"
             ],
             [
              0.8888888888888888,
              "#fdca26"
             ],
             [
              1,
              "#f0f921"
             ]
            ],
            "type": "contour"
           }
          ],
          "contourcarpet": [
           {
            "colorbar": {
             "outlinewidth": 0,
             "ticks": ""
            },
            "type": "contourcarpet"
           }
          ],
          "heatmap": [
           {
            "colorbar": {
             "outlinewidth": 0,
             "ticks": ""
            },
            "colorscale": [
             [
              0,
              "#0d0887"
             ],
             [
              0.1111111111111111,
              "#46039f"
             ],
             [
              0.2222222222222222,
              "#7201a8"
             ],
             [
              0.3333333333333333,
              "#9c179e"
             ],
             [
              0.4444444444444444,
              "#bd3786"
             ],
             [
              0.5555555555555556,
              "#d8576b"
             ],
             [
              0.6666666666666666,
              "#ed7953"
             ],
             [
              0.7777777777777778,
              "#fb9f3a"
             ],
             [
              0.8888888888888888,
              "#fdca26"
             ],
             [
              1,
              "#f0f921"
             ]
            ],
            "type": "heatmap"
           }
          ],
          "heatmapgl": [
           {
            "colorbar": {
             "outlinewidth": 0,
             "ticks": ""
            },
            "colorscale": [
             [
              0,
              "#0d0887"
             ],
             [
              0.1111111111111111,
              "#46039f"
             ],
             [
              0.2222222222222222,
              "#7201a8"
             ],
             [
              0.3333333333333333,
              "#9c179e"
             ],
             [
              0.4444444444444444,
              "#bd3786"
             ],
             [
              0.5555555555555556,
              "#d8576b"
             ],
             [
              0.6666666666666666,
              "#ed7953"
             ],
             [
              0.7777777777777778,
              "#fb9f3a"
             ],
             [
              0.8888888888888888,
              "#fdca26"
             ],
             [
              1,
              "#f0f921"
             ]
            ],
            "type": "heatmapgl"
           }
          ],
          "histogram": [
           {
            "marker": {
             "pattern": {
              "fillmode": "overlay",
              "size": 10,
              "solidity": 0.2
             }
            },
            "type": "histogram"
           }
          ],
          "histogram2d": [
           {
            "colorbar": {
             "outlinewidth": 0,
             "ticks": ""
            },
            "colorscale": [
             [
              0,
              "#0d0887"
             ],
             [
              0.1111111111111111,
              "#46039f"
             ],
             [
              0.2222222222222222,
              "#7201a8"
             ],
             [
              0.3333333333333333,
              "#9c179e"
             ],
             [
              0.4444444444444444,
              "#bd3786"
             ],
             [
              0.5555555555555556,
              "#d8576b"
             ],
             [
              0.6666666666666666,
              "#ed7953"
             ],
             [
              0.7777777777777778,
              "#fb9f3a"
             ],
             [
              0.8888888888888888,
              "#fdca26"
             ],
             [
              1,
              "#f0f921"
             ]
            ],
            "type": "histogram2d"
           }
          ],
          "histogram2dcontour": [
           {
            "colorbar": {
             "outlinewidth": 0,
             "ticks": ""
            },
            "colorscale": [
             [
              0,
              "#0d0887"
             ],
             [
              0.1111111111111111,
              "#46039f"
             ],
             [
              0.2222222222222222,
              "#7201a8"
             ],
             [
              0.3333333333333333,
              "#9c179e"
             ],
             [
              0.4444444444444444,
              "#bd3786"
             ],
             [
              0.5555555555555556,
              "#d8576b"
             ],
             [
              0.6666666666666666,
              "#ed7953"
             ],
             [
              0.7777777777777778,
              "#fb9f3a"
             ],
             [
              0.8888888888888888,
              "#fdca26"
             ],
             [
              1,
              "#f0f921"
             ]
            ],
            "type": "histogram2dcontour"
           }
          ],
          "mesh3d": [
           {
            "colorbar": {
             "outlinewidth": 0,
             "ticks": ""
            },
            "type": "mesh3d"
           }
          ],
          "parcoords": [
           {
            "line": {
             "colorbar": {
              "outlinewidth": 0,
              "ticks": ""
             }
            },
            "type": "parcoords"
           }
          ],
          "pie": [
           {
            "automargin": true,
            "type": "pie"
           }
          ],
          "scatter": [
           {
            "fillpattern": {
             "fillmode": "overlay",
             "size": 10,
             "solidity": 0.2
            },
            "type": "scatter"
           }
          ],
          "scatter3d": [
           {
            "line": {
             "colorbar": {
              "outlinewidth": 0,
              "ticks": ""
             }
            },
            "marker": {
             "colorbar": {
              "outlinewidth": 0,
              "ticks": ""
             }
            },
            "type": "scatter3d"
           }
          ],
          "scattercarpet": [
           {
            "marker": {
             "colorbar": {
              "outlinewidth": 0,
              "ticks": ""
             }
            },
            "type": "scattercarpet"
           }
          ],
          "scattergeo": [
           {
            "marker": {
             "colorbar": {
              "outlinewidth": 0,
              "ticks": ""
             }
            },
            "type": "scattergeo"
           }
          ],
          "scattergl": [
           {
            "marker": {
             "colorbar": {
              "outlinewidth": 0,
              "ticks": ""
             }
            },
            "type": "scattergl"
           }
          ],
          "scattermapbox": [
           {
            "marker": {
             "colorbar": {
              "outlinewidth": 0,
              "ticks": ""
             }
            },
            "type": "scattermapbox"
           }
          ],
          "scatterpolar": [
           {
            "marker": {
             "colorbar": {
              "outlinewidth": 0,
              "ticks": ""
             }
            },
            "type": "scatterpolar"
           }
          ],
          "scatterpolargl": [
           {
            "marker": {
             "colorbar": {
              "outlinewidth": 0,
              "ticks": ""
             }
            },
            "type": "scatterpolargl"
           }
          ],
          "scatterternary": [
           {
            "marker": {
             "colorbar": {
              "outlinewidth": 0,
              "ticks": ""
             }
            },
            "type": "scatterternary"
           }
          ],
          "surface": [
           {
            "colorbar": {
             "outlinewidth": 0,
             "ticks": ""
            },
            "colorscale": [
             [
              0,
              "#0d0887"
             ],
             [
              0.1111111111111111,
              "#46039f"
             ],
             [
              0.2222222222222222,
              "#7201a8"
             ],
             [
              0.3333333333333333,
              "#9c179e"
             ],
             [
              0.4444444444444444,
              "#bd3786"
             ],
             [
              0.5555555555555556,
              "#d8576b"
             ],
             [
              0.6666666666666666,
              "#ed7953"
             ],
             [
              0.7777777777777778,
              "#fb9f3a"
             ],
             [
              0.8888888888888888,
              "#fdca26"
             ],
             [
              1,
              "#f0f921"
             ]
            ],
            "type": "surface"
           }
          ],
          "table": [
           {
            "cells": {
             "fill": {
              "color": "#EBF0F8"
             },
             "line": {
              "color": "white"
             }
            },
            "header": {
             "fill": {
              "color": "#C8D4E3"
             },
             "line": {
              "color": "white"
             }
            },
            "type": "table"
           }
          ]
         },
         "layout": {
          "annotationdefaults": {
           "arrowcolor": "#2a3f5f",
           "arrowhead": 0,
           "arrowwidth": 1
          },
          "autotypenumbers": "strict",
          "coloraxis": {
           "colorbar": {
            "outlinewidth": 0,
            "ticks": ""
           }
          },
          "colorscale": {
           "diverging": [
            [
             0,
             "#8e0152"
            ],
            [
             0.1,
             "#c51b7d"
            ],
            [
             0.2,
             "#de77ae"
            ],
            [
             0.3,
             "#f1b6da"
            ],
            [
             0.4,
             "#fde0ef"
            ],
            [
             0.5,
             "#f7f7f7"
            ],
            [
             0.6,
             "#e6f5d0"
            ],
            [
             0.7,
             "#b8e186"
            ],
            [
             0.8,
             "#7fbc41"
            ],
            [
             0.9,
             "#4d9221"
            ],
            [
             1,
             "#276419"
            ]
           ],
           "sequential": [
            [
             0,
             "#0d0887"
            ],
            [
             0.1111111111111111,
             "#46039f"
            ],
            [
             0.2222222222222222,
             "#7201a8"
            ],
            [
             0.3333333333333333,
             "#9c179e"
            ],
            [
             0.4444444444444444,
             "#bd3786"
            ],
            [
             0.5555555555555556,
             "#d8576b"
            ],
            [
             0.6666666666666666,
             "#ed7953"
            ],
            [
             0.7777777777777778,
             "#fb9f3a"
            ],
            [
             0.8888888888888888,
             "#fdca26"
            ],
            [
             1,
             "#f0f921"
            ]
           ],
           "sequentialminus": [
            [
             0,
             "#0d0887"
            ],
            [
             0.1111111111111111,
             "#46039f"
            ],
            [
             0.2222222222222222,
             "#7201a8"
            ],
            [
             0.3333333333333333,
             "#9c179e"
            ],
            [
             0.4444444444444444,
             "#bd3786"
            ],
            [
             0.5555555555555556,
             "#d8576b"
            ],
            [
             0.6666666666666666,
             "#ed7953"
            ],
            [
             0.7777777777777778,
             "#fb9f3a"
            ],
            [
             0.8888888888888888,
             "#fdca26"
            ],
            [
             1,
             "#f0f921"
            ]
           ]
          },
          "colorway": [
           "#636efa",
           "#EF553B",
           "#00cc96",
           "#ab63fa",
           "#FFA15A",
           "#19d3f3",
           "#FF6692",
           "#B6E880",
           "#FF97FF",
           "#FECB52"
          ],
          "font": {
           "color": "#2a3f5f"
          },
          "geo": {
           "bgcolor": "white",
           "lakecolor": "white",
           "landcolor": "#E5ECF6",
           "showlakes": true,
           "showland": true,
           "subunitcolor": "white"
          },
          "hoverlabel": {
           "align": "left"
          },
          "hovermode": "closest",
          "mapbox": {
           "style": "light"
          },
          "paper_bgcolor": "white",
          "plot_bgcolor": "#E5ECF6",
          "polar": {
           "angularaxis": {
            "gridcolor": "white",
            "linecolor": "white",
            "ticks": ""
           },
           "bgcolor": "#E5ECF6",
           "radialaxis": {
            "gridcolor": "white",
            "linecolor": "white",
            "ticks": ""
           }
          },
          "scene": {
           "xaxis": {
            "backgroundcolor": "#E5ECF6",
            "gridcolor": "white",
            "gridwidth": 2,
            "linecolor": "white",
            "showbackground": true,
            "ticks": "",
            "zerolinecolor": "white"
           },
           "yaxis": {
            "backgroundcolor": "#E5ECF6",
            "gridcolor": "white",
            "gridwidth": 2,
            "linecolor": "white",
            "showbackground": true,
            "ticks": "",
            "zerolinecolor": "white"
           },
           "zaxis": {
            "backgroundcolor": "#E5ECF6",
            "gridcolor": "white",
            "gridwidth": 2,
            "linecolor": "white",
            "showbackground": true,
            "ticks": "",
            "zerolinecolor": "white"
           }
          },
          "shapedefaults": {
           "line": {
            "color": "#2a3f5f"
           }
          },
          "ternary": {
           "aaxis": {
            "gridcolor": "white",
            "linecolor": "white",
            "ticks": ""
           },
           "baxis": {
            "gridcolor": "white",
            "linecolor": "white",
            "ticks": ""
           },
           "bgcolor": "#E5ECF6",
           "caxis": {
            "gridcolor": "white",
            "linecolor": "white",
            "ticks": ""
           }
          },
          "title": {
           "x": 0.05
          },
          "xaxis": {
           "automargin": true,
           "gridcolor": "white",
           "linecolor": "white",
           "ticks": "",
           "title": {
            "standoff": 15
           },
           "zerolinecolor": "white",
           "zerolinewidth": 2
          },
          "yaxis": {
           "automargin": true,
           "gridcolor": "white",
           "linecolor": "white",
           "ticks": "",
           "title": {
            "standoff": 15
           },
           "zerolinecolor": "white",
           "zerolinewidth": 2
          }
         }
        },
        "title": {
         "text": "Highest Retail Millet Prices from 1990-2000"
        },
        "xaxis": {
         "anchor": "y",
         "domain": [
          0,
          1
         ],
         "title": {
          "text": "Country"
         }
        },
        "yaxis": {
         "anchor": "x",
         "domain": [
          0,
          1
         ],
         "title": {
          "text": "Price"
         }
        }
       }
      }
     },
     "metadata": {},
     "output_type": "display_data"
    }
   ],
   "source": [
    "# Filter for 'Millet - Retail' prices and years 1990-2000\n",
    "millet_retail_data_2000 = global_food_prices[\n",
    "    (global_food_prices['cm_name'] == 'Millet - Retail') &\n",
    "    (global_food_prices['mp_year'] <= 2000)\n",
    "]\n",
    "\n",
    "# We're going to getting only the highest price for each country \n",
    "indices_highest_prices = millet_retail_data_2000.groupby('country')['mp_price'].idxmax()\n",
    "millet_retail_highest_prices_2000 = millet_retail_data_2000.loc[indices_highest_prices]\n",
    "millet_retail_highest_prices_2000 = millet_retail_highest_prices_2000.sort_values(by='mp_price', ascending=False)\n",
    "\n",
    "millet_plots = px.scatter(millet_retail_highest_prices_2000, x='country',y='mp_price',color='mp_price',title='Highest Retail Millet Prices from 1990-2000',hover_data=['cur_name', 'mp_month', 'mp_year'], labels={\"country\":\"Country\", \"mp_price\":\"Price\"}).show()"
   ]
  },
  {
   "cell_type": "code",
   "execution_count": null,
   "metadata": {},
   "outputs": [
    {
     "name": "stdout",
     "output_type": "stream",
     "text": [
      "[('Niger', 52.0, 'XOF'), ('Burkina Faso', 88.4801, 'XOF'), ('Senegal', 205.625, 'XOF')]\n"
     ]
    }
   ],
   "source": [
    "price_differences = []\n",
    "\n",
    "for ind in millet_retail_highest_prices_2000.index:\n",
    "    country_name = millet_retail_highest_prices_2000.loc[ind, 'country']\n",
    "    currency_name = millet_retail_highest_prices_2000.loc[ind, 'cur_name']\n",
    "    \n",
    "    if country_name in millet_retail_highest_prices_2021['country'].values:\n",
    "        price_diff = millet_retail_highest_prices_2021.loc[millet_retail_highest_prices_2021['country'] == country_name, 'mp_price'].values[0] - millet_retail_highest_prices_2000.loc[ind, 'mp_price']\n",
    "        price_differences.append((country_name, price_diff, currency_name))\n",
    "\n",
    "print(price_differences)"
   ]
  },
  {
   "cell_type": "markdown",
   "metadata": {},
   "source": [
    "Comparing the two visualizations, we notice 3 common datapoints. Beginning with *Burkina Faso*, in 1998 the highest price of Millet was 246.5199 XOF dollars. In 2021, the price increased to 335 XOF dollars. For *Niger*, the highest price in 1998 was 312 XOF dollars. This price also increased in 2021, to 364 XOF dollars. Lastly, *Senegal*'s highest price in 2000 was 144.375 XOF. In 2021, this price also increased to 350 XOF dollars. Reflect on this output, what factors could contribute to the consistent price increase of Millet across these countries over the years?"
   ]
  },
  {
   "cell_type": "markdown",
   "metadata": {},
   "source": [
    "In our final section of this notebook, we are going to be comparing the progression of prices of the food items in our dataset, alongside utilizing machine-learning to potentially predict the prices of items in future years. To begin, let's list all the countries in our dataset in order to filter our data under a single country's currency. Mixing different currencies would be bad practice as many countries utilize different currencies. "
   ]
  },
  {
   "cell_type": "code",
   "execution_count": null,
   "metadata": {},
   "outputs": [
    {
     "name": "stdout",
     "output_type": "stream",
     "text": [
      "Countries in the dataset: \n",
      "['Afghanistan' 'Algeria' 'Angola' 'Argentina' 'Bangladesh' 'Belarus'\n",
      " 'Benin' 'Bolivia' 'Burkina Faso' 'Burundi' 'Cambodia' 'Cameroon'\n",
      " 'Cape Verde' 'Central African Republic' 'China' 'Colombia' 'Congo'\n",
      " \"Cote d'Ivoire\" 'Democratic Republic of the Congo' 'Djibouti' 'Ecuador'\n",
      " 'Eritrea' 'Ethiopia' 'Gabon' 'Gambia' 'Georgia' 'Ghana' 'Guinea'\n",
      " 'Guinea-Bissau' 'Haiti' 'Iran  (Islamic Republic of)' 'Japan'\n",
      " 'Kazakhstan' 'Kenya' \"Lao People's Democratic Republic\" 'Lesotho'\n",
      " 'Liberia' 'Madagascar' 'Malawi' 'Mali' 'Mauritania' 'Mexico'\n",
      " 'Moldova Republic of' 'Mongolia' 'Myanmar' 'Namibia' 'Nepal' 'Niger'\n",
      " 'Nigeria' 'Pakistan' 'Paraguay' 'Peru' 'Philippines' 'Russian Federation'\n",
      " 'Rwanda' 'Senegal' 'Sierra Leone' 'Somalia' 'South Africa'\n",
      " 'State of Palestine' 'Sudan' 'Syrian Arab Republic' 'Thailand'\n",
      " 'Timor-Leste' 'Togo' 'Uganda' 'United Republic of Tanzania' 'Viet Nam'\n",
      " 'Yemen' 'Zambia' 'Zimbabwe']\n"
     ]
    }
   ],
   "source": [
    "all_countries = global_food_prices['country'].unique()\n",
    "print(f\"Countries in the dataset: \\n{all_countries}\")"
   ]
  },
  {
   "cell_type": "markdown",
   "metadata": {},
   "source": [
    "Now that we have a list of all the different countries in our dataframe, we can visualize different trends for the prices of food items in our dataframe. In our case, let's choose Rwanda, specifically as it's a country which contains many datapoints for the machine-learning portion later on. Let's begin by visualizing the trends of the highest and lowest prices every year based on the different markets in our particular country chosen.  "
   ]
  },
  {
   "cell_type": "code",
   "execution_count": null,
   "metadata": {},
   "outputs": [
    {
     "name": "stdout",
     "output_type": "stream",
     "text": [
      "Highest Prices per Year and Market:\n"
     ]
    },
    {
     "data": {
      "text/html": [
       "<div>\n",
       "<style scoped>\n",
       "    .dataframe tbody tr th:only-of-type {\n",
       "        vertical-align: middle;\n",
       "    }\n",
       "\n",
       "    .dataframe tbody tr th {\n",
       "        vertical-align: top;\n",
       "    }\n",
       "\n",
       "    .dataframe thead th {\n",
       "        text-align: right;\n",
       "    }\n",
       "</style>\n",
       "<table border=\"1\" class=\"dataframe\">\n",
       "  <thead>\n",
       "    <tr style=\"text-align: right;\">\n",
       "      <th></th>\n",
       "      <th>country</th>\n",
       "      <th>region</th>\n",
       "      <th>mkt_name</th>\n",
       "      <th>cm_name</th>\n",
       "      <th>cur_name</th>\n",
       "      <th>pt_name</th>\n",
       "      <th>um_name</th>\n",
       "      <th>mp_month</th>\n",
       "      <th>mp_year</th>\n",
       "      <th>mp_price</th>\n",
       "    </tr>\n",
       "  </thead>\n",
       "  <tbody>\n",
       "    <tr>\n",
       "      <th>0</th>\n",
       "      <td>Rwanda</td>\n",
       "      <td>Kigali City/Umujyi wa Kigali</td>\n",
       "      <td>Kigali</td>\n",
       "      <td>Beans - Wholesale</td>\n",
       "      <td>RWF</td>\n",
       "      <td>Wholesale</td>\n",
       "      <td>KG</td>\n",
       "      <td>11</td>\n",
       "      <td>2000</td>\n",
       "      <td>239.7290</td>\n",
       "    </tr>\n",
       "    <tr>\n",
       "      <th>1</th>\n",
       "      <td>Rwanda</td>\n",
       "      <td>Kigali City/Umujyi wa Kigali</td>\n",
       "      <td>Kigali</td>\n",
       "      <td>Maize - Wholesale</td>\n",
       "      <td>RWF</td>\n",
       "      <td>Wholesale</td>\n",
       "      <td>KG</td>\n",
       "      <td>1</td>\n",
       "      <td>2001</td>\n",
       "      <td>165.8820</td>\n",
       "    </tr>\n",
       "    <tr>\n",
       "      <th>2</th>\n",
       "      <td>Rwanda</td>\n",
       "      <td>Kigali City/Umujyi wa Kigali</td>\n",
       "      <td>Kigali</td>\n",
       "      <td>Beans - Wholesale</td>\n",
       "      <td>RWF</td>\n",
       "      <td>Wholesale</td>\n",
       "      <td>KG</td>\n",
       "      <td>12</td>\n",
       "      <td>2002</td>\n",
       "      <td>117.6600</td>\n",
       "    </tr>\n",
       "    <tr>\n",
       "      <th>3</th>\n",
       "      <td>Rwanda</td>\n",
       "      <td>Kigali City/Umujyi wa Kigali</td>\n",
       "      <td>Kigali</td>\n",
       "      <td>Beans - Wholesale</td>\n",
       "      <td>RWF</td>\n",
       "      <td>Wholesale</td>\n",
       "      <td>KG</td>\n",
       "      <td>11</td>\n",
       "      <td>2003</td>\n",
       "      <td>137.2240</td>\n",
       "    </tr>\n",
       "    <tr>\n",
       "      <th>4</th>\n",
       "      <td>Rwanda</td>\n",
       "      <td>Kigali City/Umujyi wa Kigali</td>\n",
       "      <td>Kigali</td>\n",
       "      <td>Beans - Wholesale</td>\n",
       "      <td>RWF</td>\n",
       "      <td>Wholesale</td>\n",
       "      <td>KG</td>\n",
       "      <td>6</td>\n",
       "      <td>2004</td>\n",
       "      <td>124.5490</td>\n",
       "    </tr>\n",
       "    <tr>\n",
       "      <th>...</th>\n",
       "      <td>...</td>\n",
       "      <td>...</td>\n",
       "      <td>...</td>\n",
       "      <td>...</td>\n",
       "      <td>...</td>\n",
       "      <td>...</td>\n",
       "      <td>...</td>\n",
       "      <td>...</td>\n",
       "      <td>...</td>\n",
       "      <td>...</td>\n",
       "    </tr>\n",
       "    <tr>\n",
       "      <th>616</th>\n",
       "      <td>Rwanda</td>\n",
       "      <td>East/Iburasirazuba</td>\n",
       "      <td>Nyabiheke (Camp)</td>\n",
       "      <td>Oil - Retail</td>\n",
       "      <td>RWF</td>\n",
       "      <td>Retail</td>\n",
       "      <td>L</td>\n",
       "      <td>7</td>\n",
       "      <td>2021</td>\n",
       "      <td>2650.0000</td>\n",
       "    </tr>\n",
       "    <tr>\n",
       "      <th>617</th>\n",
       "      <td>Rwanda</td>\n",
       "      <td>East/Iburasirazuba</td>\n",
       "      <td>Nyakarambi</td>\n",
       "      <td>Meat (beef) - Retail</td>\n",
       "      <td>RWF</td>\n",
       "      <td>Retail</td>\n",
       "      <td>KG</td>\n",
       "      <td>1</td>\n",
       "      <td>2021</td>\n",
       "      <td>3500.0000</td>\n",
       "    </tr>\n",
       "    <tr>\n",
       "      <th>618</th>\n",
       "      <td>Rwanda</td>\n",
       "      <td>East/Iburasirazuba</td>\n",
       "      <td>Nyamugari</td>\n",
       "      <td>Oil - Retail</td>\n",
       "      <td>RWF</td>\n",
       "      <td>Retail</td>\n",
       "      <td>L</td>\n",
       "      <td>5</td>\n",
       "      <td>2021</td>\n",
       "      <td>2500.0000</td>\n",
       "    </tr>\n",
       "    <tr>\n",
       "      <th>619</th>\n",
       "      <td>Rwanda</td>\n",
       "      <td>North/Amajyaruguru</td>\n",
       "      <td>Ruhengeri</td>\n",
       "      <td>Rice - Wholesale</td>\n",
       "      <td>RWF</td>\n",
       "      <td>Wholesale</td>\n",
       "      <td>KG</td>\n",
       "      <td>6</td>\n",
       "      <td>2021</td>\n",
       "      <td>852.0690</td>\n",
       "    </tr>\n",
       "    <tr>\n",
       "      <th>620</th>\n",
       "      <td>Rwanda</td>\n",
       "      <td>North/Amajyaruguru</td>\n",
       "      <td>Ruyaga</td>\n",
       "      <td>Oil - Retail</td>\n",
       "      <td>RWF</td>\n",
       "      <td>Retail</td>\n",
       "      <td>L</td>\n",
       "      <td>4</td>\n",
       "      <td>2021</td>\n",
       "      <td>2133.3333</td>\n",
       "    </tr>\n",
       "  </tbody>\n",
       "</table>\n",
       "<p>621 rows × 10 columns</p>\n",
       "</div>"
      ],
      "text/plain": [
       "    country                        region          mkt_name  \\\n",
       "0    Rwanda  Kigali City/Umujyi wa Kigali            Kigali   \n",
       "1    Rwanda  Kigali City/Umujyi wa Kigali            Kigali   \n",
       "2    Rwanda  Kigali City/Umujyi wa Kigali            Kigali   \n",
       "3    Rwanda  Kigali City/Umujyi wa Kigali            Kigali   \n",
       "4    Rwanda  Kigali City/Umujyi wa Kigali            Kigali   \n",
       "..      ...                           ...               ...   \n",
       "616  Rwanda            East/Iburasirazuba  Nyabiheke (Camp)   \n",
       "617  Rwanda            East/Iburasirazuba        Nyakarambi   \n",
       "618  Rwanda            East/Iburasirazuba         Nyamugari   \n",
       "619  Rwanda            North/Amajyaruguru         Ruhengeri   \n",
       "620  Rwanda            North/Amajyaruguru            Ruyaga   \n",
       "\n",
       "                  cm_name cur_name    pt_name um_name  mp_month  mp_year  \\\n",
       "0       Beans - Wholesale      RWF  Wholesale      KG        11     2000   \n",
       "1       Maize - Wholesale      RWF  Wholesale      KG         1     2001   \n",
       "2       Beans - Wholesale      RWF  Wholesale      KG        12     2002   \n",
       "3       Beans - Wholesale      RWF  Wholesale      KG        11     2003   \n",
       "4       Beans - Wholesale      RWF  Wholesale      KG         6     2004   \n",
       "..                    ...      ...        ...     ...       ...      ...   \n",
       "616          Oil - Retail      RWF     Retail       L         7     2021   \n",
       "617  Meat (beef) - Retail      RWF     Retail      KG         1     2021   \n",
       "618          Oil - Retail      RWF     Retail       L         5     2021   \n",
       "619      Rice - Wholesale      RWF  Wholesale      KG         6     2021   \n",
       "620          Oil - Retail      RWF     Retail       L         4     2021   \n",
       "\n",
       "      mp_price  \n",
       "0     239.7290  \n",
       "1     165.8820  \n",
       "2     117.6600  \n",
       "3     137.2240  \n",
       "4     124.5490  \n",
       "..         ...  \n",
       "616  2650.0000  \n",
       "617  3500.0000  \n",
       "618  2500.0000  \n",
       "619   852.0690  \n",
       "620  2133.3333  \n",
       "\n",
       "[621 rows x 10 columns]"
      ]
     },
     "metadata": {},
     "output_type": "display_data"
    },
    {
     "name": "stdout",
     "output_type": "stream",
     "text": [
      "\n",
      "Lowest Prices per Year and Market:\n"
     ]
    },
    {
     "data": {
      "text/html": [
       "<div>\n",
       "<style scoped>\n",
       "    .dataframe tbody tr th:only-of-type {\n",
       "        vertical-align: middle;\n",
       "    }\n",
       "\n",
       "    .dataframe tbody tr th {\n",
       "        vertical-align: top;\n",
       "    }\n",
       "\n",
       "    .dataframe thead th {\n",
       "        text-align: right;\n",
       "    }\n",
       "</style>\n",
       "<table border=\"1\" class=\"dataframe\">\n",
       "  <thead>\n",
       "    <tr style=\"text-align: right;\">\n",
       "      <th></th>\n",
       "      <th>country</th>\n",
       "      <th>region</th>\n",
       "      <th>mkt_name</th>\n",
       "      <th>cm_name</th>\n",
       "      <th>cur_name</th>\n",
       "      <th>pt_name</th>\n",
       "      <th>um_name</th>\n",
       "      <th>mp_month</th>\n",
       "      <th>mp_year</th>\n",
       "      <th>mp_price</th>\n",
       "    </tr>\n",
       "  </thead>\n",
       "  <tbody>\n",
       "    <tr>\n",
       "      <th>0</th>\n",
       "      <td>Rwanda</td>\n",
       "      <td>Kigali City/Umujyi wa Kigali</td>\n",
       "      <td>Kigali</td>\n",
       "      <td>Beans - Wholesale</td>\n",
       "      <td>RWF</td>\n",
       "      <td>Wholesale</td>\n",
       "      <td>KG</td>\n",
       "      <td>1</td>\n",
       "      <td>2000</td>\n",
       "      <td>108.016</td>\n",
       "    </tr>\n",
       "    <tr>\n",
       "      <th>1</th>\n",
       "      <td>Rwanda</td>\n",
       "      <td>Kigali City/Umujyi wa Kigali</td>\n",
       "      <td>Kigali</td>\n",
       "      <td>Beans - Wholesale</td>\n",
       "      <td>RWF</td>\n",
       "      <td>Wholesale</td>\n",
       "      <td>KG</td>\n",
       "      <td>2</td>\n",
       "      <td>2001</td>\n",
       "      <td>127.305</td>\n",
       "    </tr>\n",
       "    <tr>\n",
       "      <th>2</th>\n",
       "      <td>Rwanda</td>\n",
       "      <td>Kigali City/Umujyi wa Kigali</td>\n",
       "      <td>Kigali</td>\n",
       "      <td>Maize - Wholesale</td>\n",
       "      <td>RWF</td>\n",
       "      <td>Wholesale</td>\n",
       "      <td>KG</td>\n",
       "      <td>2</td>\n",
       "      <td>2002</td>\n",
       "      <td>101.954</td>\n",
       "    </tr>\n",
       "    <tr>\n",
       "      <th>3</th>\n",
       "      <td>Rwanda</td>\n",
       "      <td>Kigali City/Umujyi wa Kigali</td>\n",
       "      <td>Kigali</td>\n",
       "      <td>Maize - Wholesale</td>\n",
       "      <td>RWF</td>\n",
       "      <td>Wholesale</td>\n",
       "      <td>KG</td>\n",
       "      <td>2</td>\n",
       "      <td>2003</td>\n",
       "      <td>63.377</td>\n",
       "    </tr>\n",
       "    <tr>\n",
       "      <th>4</th>\n",
       "      <td>Rwanda</td>\n",
       "      <td>Kigali City/Umujyi wa Kigali</td>\n",
       "      <td>Kigali</td>\n",
       "      <td>Maize - Wholesale</td>\n",
       "      <td>RWF</td>\n",
       "      <td>Wholesale</td>\n",
       "      <td>KG</td>\n",
       "      <td>4</td>\n",
       "      <td>2004</td>\n",
       "      <td>94.790</td>\n",
       "    </tr>\n",
       "    <tr>\n",
       "      <th>...</th>\n",
       "      <td>...</td>\n",
       "      <td>...</td>\n",
       "      <td>...</td>\n",
       "      <td>...</td>\n",
       "      <td>...</td>\n",
       "      <td>...</td>\n",
       "      <td>...</td>\n",
       "      <td>...</td>\n",
       "      <td>...</td>\n",
       "      <td>...</td>\n",
       "    </tr>\n",
       "    <tr>\n",
       "      <th>616</th>\n",
       "      <td>Rwanda</td>\n",
       "      <td>East/Iburasirazuba</td>\n",
       "      <td>Nyabiheke (Camp)</td>\n",
       "      <td>Cabbage - Retail</td>\n",
       "      <td>RWF</td>\n",
       "      <td>Retail</td>\n",
       "      <td>KG</td>\n",
       "      <td>3</td>\n",
       "      <td>2021</td>\n",
       "      <td>100.000</td>\n",
       "    </tr>\n",
       "    <tr>\n",
       "      <th>617</th>\n",
       "      <td>Rwanda</td>\n",
       "      <td>East/Iburasirazuba</td>\n",
       "      <td>Nyakarambi</td>\n",
       "      <td>Cabbage - Retail</td>\n",
       "      <td>RWF</td>\n",
       "      <td>Retail</td>\n",
       "      <td>KG</td>\n",
       "      <td>4</td>\n",
       "      <td>2021</td>\n",
       "      <td>100.000</td>\n",
       "    </tr>\n",
       "    <tr>\n",
       "      <th>618</th>\n",
       "      <td>Rwanda</td>\n",
       "      <td>East/Iburasirazuba</td>\n",
       "      <td>Nyamugari</td>\n",
       "      <td>Cabbage - Retail</td>\n",
       "      <td>RWF</td>\n",
       "      <td>Retail</td>\n",
       "      <td>KG</td>\n",
       "      <td>5</td>\n",
       "      <td>2021</td>\n",
       "      <td>100.000</td>\n",
       "    </tr>\n",
       "    <tr>\n",
       "      <th>619</th>\n",
       "      <td>Rwanda</td>\n",
       "      <td>North/Amajyaruguru</td>\n",
       "      <td>Ruhengeri</td>\n",
       "      <td>Maize - Wholesale</td>\n",
       "      <td>RWF</td>\n",
       "      <td>Wholesale</td>\n",
       "      <td>KG</td>\n",
       "      <td>4</td>\n",
       "      <td>2021</td>\n",
       "      <td>203.863</td>\n",
       "    </tr>\n",
       "    <tr>\n",
       "      <th>620</th>\n",
       "      <td>Rwanda</td>\n",
       "      <td>North/Amajyaruguru</td>\n",
       "      <td>Ruyaga</td>\n",
       "      <td>Cabbage - Retail</td>\n",
       "      <td>RWF</td>\n",
       "      <td>Retail</td>\n",
       "      <td>KG</td>\n",
       "      <td>1</td>\n",
       "      <td>2021</td>\n",
       "      <td>200.000</td>\n",
       "    </tr>\n",
       "  </tbody>\n",
       "</table>\n",
       "<p>621 rows × 10 columns</p>\n",
       "</div>"
      ],
      "text/plain": [
       "    country                        region          mkt_name  \\\n",
       "0    Rwanda  Kigali City/Umujyi wa Kigali            Kigali   \n",
       "1    Rwanda  Kigali City/Umujyi wa Kigali            Kigali   \n",
       "2    Rwanda  Kigali City/Umujyi wa Kigali            Kigali   \n",
       "3    Rwanda  Kigali City/Umujyi wa Kigali            Kigali   \n",
       "4    Rwanda  Kigali City/Umujyi wa Kigali            Kigali   \n",
       "..      ...                           ...               ...   \n",
       "616  Rwanda            East/Iburasirazuba  Nyabiheke (Camp)   \n",
       "617  Rwanda            East/Iburasirazuba        Nyakarambi   \n",
       "618  Rwanda            East/Iburasirazuba         Nyamugari   \n",
       "619  Rwanda            North/Amajyaruguru         Ruhengeri   \n",
       "620  Rwanda            North/Amajyaruguru            Ruyaga   \n",
       "\n",
       "               cm_name cur_name    pt_name um_name  mp_month  mp_year  \\\n",
       "0    Beans - Wholesale      RWF  Wholesale      KG         1     2000   \n",
       "1    Beans - Wholesale      RWF  Wholesale      KG         2     2001   \n",
       "2    Maize - Wholesale      RWF  Wholesale      KG         2     2002   \n",
       "3    Maize - Wholesale      RWF  Wholesale      KG         2     2003   \n",
       "4    Maize - Wholesale      RWF  Wholesale      KG         4     2004   \n",
       "..                 ...      ...        ...     ...       ...      ...   \n",
       "616   Cabbage - Retail      RWF     Retail      KG         3     2021   \n",
       "617   Cabbage - Retail      RWF     Retail      KG         4     2021   \n",
       "618   Cabbage - Retail      RWF     Retail      KG         5     2021   \n",
       "619  Maize - Wholesale      RWF  Wholesale      KG         4     2021   \n",
       "620   Cabbage - Retail      RWF     Retail      KG         1     2021   \n",
       "\n",
       "     mp_price  \n",
       "0     108.016  \n",
       "1     127.305  \n",
       "2     101.954  \n",
       "3      63.377  \n",
       "4      94.790  \n",
       "..        ...  \n",
       "616   100.000  \n",
       "617   100.000  \n",
       "618   100.000  \n",
       "619   203.863  \n",
       "620   200.000  \n",
       "\n",
       "[621 rows x 10 columns]"
      ]
     },
     "metadata": {},
     "output_type": "display_data"
    }
   ],
   "source": [
    "user_country = 'Rwanda'\n",
    "\n",
    "country_subset = global_food_prices[global_food_prices['country'] == user_country]\n",
    "\n",
    "indices_highest_prices = country_subset.groupby(['mp_year', 'mkt_name'])['mp_price'].idxmax()\n",
    "indices_lowest_prices = country_subset.groupby(['mp_year', 'mkt_name'])['mp_price'].idxmin()\n",
    "\n",
    "highest_prices_per_year_market = country_subset.loc[indices_highest_prices].reset_index(drop=True)\n",
    "lowest_prices_per_year_market = country_subset.loc[indices_lowest_prices].reset_index(drop=True)\n",
    "\n",
    "pd.set_option('display.max_rows', 60)\n",
    "\n",
    "print(\"Highest Prices per Year and Market:\")\n",
    "display(highest_prices_per_year_market)\n",
    "\n",
    "print(\"\\nLowest Prices per Year and Market:\")\n",
    "display(lowest_prices_per_year_market)"
   ]
  },
  {
   "cell_type": "markdown",
   "metadata": {},
   "source": [
    "Looking at the output, it appears that for the Rwandan market, the months of certain items heavily dictate the price of the item for the year. For example, *beans* and *maize* both appear as highest priced and lowest priced items. "
   ]
  },
  {
   "cell_type": "markdown",
   "metadata": {},
   "source": [
    "Now that we've visualized the different food prices for items in a particular market, let's move onto the final machine-learning portion of this notebook. In the context of analyzing global food prices, machine learning provides a powerful tool to uncover patterns and relationships within large datasets, offering insights into how various factors influence price trends. By leveraging algorithms like *Linear Regression*, it becomes possible to model and predict price changes based on historical data. This enables us to identify potential drivers behind price fluctuations.\n",
    "\n",
    "To begin, we're going to list all the food items in our chosen country."
   ]
  },
  {
   "cell_type": "code",
   "execution_count": null,
   "metadata": {},
   "outputs": [
    {
     "data": {
      "text/plain": [
       "Beans (dry) - Retail                               5572\n",
       "Maize flour - Retail                               5409\n",
       "Potatoes (Irish) - Retail                          5399\n",
       "Cassava flour - Retail                             5292\n",
       "Maize - Retail                                     5165\n",
       "Sorghum - Retail                                   5104\n",
       "Bananas - Retail                                   4644\n",
       "Sweet potatoes - Retail                            4422\n",
       "Passion fruit - Retail                             4026\n",
       "Cassava - Retail                                   3679\n",
       "Eggplants - Retail                                 3624\n",
       "Meat (beef) - Retail                               3237\n",
       "Peppers (green) - Retail                           3171\n",
       "Sorghum flour - Retail                             3133\n",
       "Cabbage - Retail                                   2866\n",
       "Charcoal - Retail                                  2799\n",
       "Rice - Retail                                      2603\n",
       "Papaya - Retail                                    2293\n",
       "Wheat flour - Retail                               2279\n",
       "Cassava leaves - Retail                            2259\n",
       "Avocados - Retail                                  2227\n",
       "Mangoes - Retail                                   2164\n",
       "Onions (red) - Retail                              2160\n",
       "Tomatoes - Retail                                  2160\n",
       "Carrots - Retail                                   2127\n",
       "Livestock (Goat) - Retail                          2123\n",
       "Rice (local) - Retail                              2122\n",
       "Eggs - Retail                                      2096\n",
       "Rice (imported, Tanzanian) - Retail                2068\n",
       "Rice (imported, Indian) - Retail                   2011\n",
       "Groundnuts (shelled) - Retail                      1998\n",
       "Chili (red) - Retail                               1959\n",
       "Peas (fresh) - Retail                              1958\n",
       "Livestock (hen) - Retail                           1949\n",
       "Soybeans - Retail                                  1916\n",
       "Milk - Retail                                      1903\n",
       "Garlic - Retail                                    1897\n",
       "Oranges (big size) - Retail                        1854\n",
       "Zucchini - Retail                                  1523\n",
       "Livestock (Sheep) - Retail                         1464\n",
       "Wheat - Retail                                     1448\n",
       "Beans (green, fresh) - Retail                      1408\n",
       "Spinach - Retail                                   1379\n",
       "Meat (goat) - Retail                               1338\n",
       "Peas (dry) - Retail                                1321\n",
       "Salt - Retail                                      1115\n",
       "Oil - Retail                                       1095\n",
       "Sugar - Retail                                     1077\n",
       "Onions (white) - Retail                            1062\n",
       "Rice (imported) - Retail                           1002\n",
       "Fish (dry) - Retail                                 942\n",
       "Potatoes - Retail                                   850\n",
       "Oil (palm) - Retail                                 848\n",
       "Maize flour (imported) - Retail                     793\n",
       "Cucumbers (greenhouse) - Retail                     762\n",
       "Apples (red) - Retail                               679\n",
       "Rice (long grain, high quality, local) - Retail     649\n",
       "Guava - Retail                                      610\n",
       "Cauliflower - Retail                                599\n",
       "Meat (pork) - Retail                                421\n",
       "Livestock (pig) - Retail                            316\n",
       "Livestock (cattle) - Retail                         310\n",
       "Maize - Wholesale                                   238\n",
       "Beans - Wholesale                                   235\n",
       "Meat (mutton) - Retail                              226\n",
       "Rice - Wholesale                                    190\n",
       "Beans (fresh) - Retail                              178\n",
       "Name: cm_name, dtype: int64"
      ]
     },
     "execution_count": 17,
     "metadata": {},
     "output_type": "execute_result"
    }
   ],
   "source": [
    "# Set output to no limit\n",
    "pd.set_option('display.max_rows', None)\n",
    "country_subset['cm_name'].value_counts()"
   ]
  },
  {
   "cell_type": "markdown",
   "metadata": {},
   "source": [
    "From the items above, we can select a particular item to create a model on. Generally, we want to choose items that have more data-points (the number on the right of the food item) as it serves as more fuel or \"food\" to send into our model to create accurate predictions."
   ]
  },
  {
   "cell_type": "code",
   "execution_count": null,
   "metadata": {},
   "outputs": [
    {
     "name": "stdout",
     "output_type": "stream",
     "text": [
      "R-squared (Training Set): 0.399241027335253\n",
      "R-squared (Test Set): 0.4106266150345035\n"
     ]
    }
   ],
   "source": [
    "# If wanted, change the product from Beans (dry) - Retail to any product above\n",
    "# Note: An product which has a larger value is much more likely to produce an ideal result for the model\n",
    "\n",
    "product = 'Beans (dry) - Retail'\n",
    "product_subset = country_subset[country_subset['cm_name'] == product]\n",
    "\n",
    "X_train, X_test, y_train, y_test = train_test_split(product_subset['mp_price'], product_subset['mp_year'], test_size=0.2, random_state=15)\n",
    "\n",
    "X_train = X_train.values.reshape(-1, 1)\n",
    "X_test = X_test.values.reshape(-1, 1)\n",
    "y_train = y_train.values.reshape(-1, 1)\n",
    "y_test = y_test.values.reshape(-1, 1)\n",
    "\n",
    "model = LinearRegression()\n",
    "model.fit(X_train, y_train)\n",
    "\n",
    "y_pred_train = model.predict(X_train)\n",
    "y_pred_test = model.predict(X_test)\n",
    "\n",
    "r2_train = r2_score(y_train, y_pred_train)\n",
    "r2_test = r2_score(y_test, y_pred_test)\n",
    "\n",
    "print(\"R-squared (Training Set):\", r2_train)\n",
    "print(\"R-squared (Test Set):\", r2_test)"
   ]
  },
  {
   "cell_type": "markdown",
   "metadata": {},
   "source": [
    "Based on our r-squared values outputted, we can get a better sense of how our models are doing. Generally, we want models to have a higher r-squared value from the range of 0 to 1, as it is indicative of the performance of the model. In our case, our test set has an r-squared value of 0.41, which is considered a low r-squared error value reflecting that our data is not necessarily reliable."
   ]
  },
  {
   "cell_type": "code",
   "execution_count": null,
   "metadata": {},
   "outputs": [
    {
     "data": {
      "application/vnd.plotly.v1+json": {
       "config": {
        "plotlyServerURL": "https://plot.ly"
       },
       "data": [
        {
         "hovertemplate": "Year=%{x}<br>Price=%{y}<extra></extra>",
         "legendgroup": "",
         "marker": {
          "color": "#636efa",
          "symbol": "circle"
         },
         "mode": "markers",
         "name": "",
         "showlegend": false,
         "type": "scattergl",
         "x": [
          507,
          366.5,
          259.6667,
          329,
          600,
          286.8333,
          413.33,
          650,
          252.5,
          495.75,
          275,
          250,
          400,
          383,
          301,
          385.25,
          587.5,
          445.75,
          506.67,
          243.3333,
          600,
          537.5,
          438.5,
          500,
          367.1667,
          320,
          316.75,
          333.3333,
          458,
          600,
          300,
          312.8,
          415,
          341.25,
          350,
          292.765,
          332.8571,
          412.5,
          400,
          343.3333,
          475,
          343.75,
          270,
          383.3333,
          309.5,
          276.25,
          321.5,
          830,
          364.25,
          307.2,
          195,
          405,
          426.5,
          358.75,
          418,
          347.4,
          663.64,
          240,
          410,
          356.1667,
          363.2857,
          371,
          391.7143,
          425.6667,
          352.2,
          352.5,
          340,
          358.8,
          300,
          425,
          425,
          243.2,
          342.5,
          321,
          273.25,
          350,
          540,
          347.5,
          418.6,
          392.3333,
          402.5,
          786.6666,
          226.875,
          339,
          395,
          430,
          400,
          483.3333,
          295.4,
          462.5,
          281,
          424.62,
          333,
          616.67,
          290.75,
          293.75,
          236.25,
          390,
          650,
          285,
          442.2,
          400,
          580.5556,
          321,
          297.5,
          340.8889,
          462.5,
          503.335,
          320,
          300,
          350,
          242.5,
          277.5,
          225,
          448.4,
          250,
          345,
          200,
          365,
          450,
          251.75,
          300,
          400,
          426,
          347.5,
          365,
          309.7143,
          308.25,
          360,
          329.4,
          240,
          400,
          315.8141,
          436,
          332.3333,
          337.5,
          342.5,
          400,
          270,
          650,
          500,
          250,
          336.75,
          286,
          400,
          413.7778,
          310,
          285.6667,
          413.875,
          420,
          310,
          500,
          275,
          293.5,
          272.8333,
          453.25,
          232.5,
          296.6667,
          303,
          420,
          512.5,
          358,
          537.5,
          250,
          550,
          403.65,
          275,
          300,
          345,
          360,
          285,
          318.75,
          400,
          362,
          330,
          412.6667,
          304.25,
          218.75,
          267.5,
          350.175,
          367,
          240,
          197.5,
          412.5,
          401,
          373.2,
          393.3333,
          400,
          350,
          350,
          350,
          262.5,
          372,
          360,
          420,
          563.1429,
          275.4167,
          356.6667,
          325,
          296.5,
          328.6,
          350,
          322.5,
          270,
          233.125,
          233.125,
          364.5714,
          466.6,
          576.6666,
          346,
          251.75,
          387.8571,
          400,
          580,
          505,
          392.5,
          255,
          322.5,
          400,
          250,
          370,
          310,
          282.5,
          386.5,
          409.25,
          585.71,
          404.25,
          391.75,
          502.5,
          465.625,
          283,
          350,
          375.5556,
          350,
          236.6667,
          350,
          371.375,
          384.625,
          300,
          295.25,
          298.4583,
          420,
          250,
          344,
          238,
          318.125,
          300,
          329,
          400,
          347.8571,
          324,
          400,
          455,
          157.75,
          287,
          355,
          227.5,
          405.75,
          247.5,
          313.2,
          445,
          385,
          293.6667,
          225,
          338.25,
          300,
          267.5,
          400,
          338.75,
          409.6667,
          341.5,
          350,
          395,
          400,
          314.5,
          302.5,
          377.5,
          400,
          404,
          400,
          325,
          466.6667,
          550,
          314.75,
          600,
          254.5,
          400,
          400,
          392.2,
          300,
          442.5,
          250,
          300,
          356.8125,
          355,
          350,
          450,
          232.5,
          284.3333,
          397.1667,
          325.6667,
          287.125,
          302,
          308.6667,
          276.5,
          237.5,
          350,
          550,
          340,
          350,
          260,
          306.6667,
          500,
          375,
          350,
          469.6667,
          378.75,
          315.75,
          296.25,
          556.25,
          320,
          315,
          368.75,
          464.44,
          267.5,
          302.5,
          424.75,
          365.6667,
          220.625,
          375,
          550,
          597.5,
          298.5,
          308.25,
          320.2857,
          611.1122,
          281,
          418.25,
          367.5,
          406.2,
          478.75,
          203.3333,
          334.1667,
          418.75,
          330,
          600,
          361.5,
          450,
          329,
          354.6667,
          267.6,
          377.5,
          333.5,
          256.25,
          424.7143,
          296.6667,
          310,
          344.5833,
          238.8333,
          418,
          337.5,
          321.3333,
          387.75,
          355,
          302.4286,
          271.5,
          575,
          446,
          362.5,
          350,
          412.3333,
          328.5,
          306,
          301,
          339.5,
          381,
          250,
          258.6,
          366.3333,
          404.25,
          495,
          350,
          187.8,
          460.8333,
          262.3333,
          343.75,
          503.3333,
          394.75,
          361.25,
          367,
          357,
          340,
          344,
          366.67,
          450,
          330,
          395,
          361.3333,
          269.6667,
          323,
          531.25,
          600,
          269.4316,
          261,
          545.8333,
          420.5,
          750,
          273,
          367.2,
          311.6474,
          356.75,
          255,
          300,
          495,
          522.2222,
          370,
          307.6667,
          320,
          373.5,
          476.6667,
          385,
          376.25,
          383.5,
          360,
          516.67,
          327.5,
          340,
          211.5,
          195,
          675,
          256.4286,
          422.5,
          360,
          575,
          235,
          367,
          270,
          253.75,
          300,
          350,
          400,
          500,
          430,
          350,
          586.75,
          452,
          350,
          375,
          270,
          700,
          223.25,
          400,
          500,
          334.25,
          322,
          246.25,
          360,
          337.5,
          288.75,
          285,
          282,
          450,
          343.3333,
          273.2,
          600,
          450,
          416,
          390,
          700,
          424.25,
          387.5,
          314.6,
          438,
          317.5,
          371.5,
          412.25,
          413.25,
          272.5,
          320,
          316.3333,
          398.6667,
          447,
          283.3333,
          413.487,
          520,
          516.67,
          352,
          400,
          241,
          312.5,
          382.5,
          272.3333,
          304.75,
          351.75,
          400,
          400,
          305,
          345.25,
          379.75,
          300,
          400,
          275,
          350,
          558.25,
          308,
          301.2,
          370,
          380.2,
          550,
          364.1429,
          260,
          234.6667,
          391,
          400,
          480,
          383.3333,
          300,
          318.6667,
          350,
          296,
          512.5,
          305.3333,
          505,
          416.6667,
          370.5,
          363.6667,
          270,
          250,
          321.6667,
          186.6,
          280.625,
          426.2857,
          326.25,
          251.75,
          372.5,
          258,
          255,
          235.5,
          488.3333,
          326.6667,
          625,
          267.4,
          417.5,
          280,
          312.5,
          407.5,
          450,
          450,
          500,
          312.5,
          394.7143,
          355,
          261.25,
          250,
          350,
          338.5714,
          388,
          350,
          275,
          350,
          270,
          350,
          446.2857,
          482.7778,
          382,
          666.67,
          528.33,
          350,
          324.9316,
          202.5,
          500,
          264.1667,
          403,
          315,
          550,
          359.25,
          335,
          250,
          280,
          335.3333,
          403,
          388.75,
          190,
          272,
          535.71,
          347.3333,
          400,
          467,
          258.3333,
          850,
          300,
          492.4,
          271.8,
          327.2222,
          419,
          341.6667,
          444,
          550,
          292.5,
          217.875,
          338.25,
          304.3333,
          388.25,
          366.6667,
          200,
          286.6667,
          469,
          400,
          340,
          354.6667,
          450,
          317,
          433.5,
          229.7083,
          307.7778,
          332.5,
          270.8333,
          495,
          297.5,
          355.6667,
          350,
          420,
          317.75,
          400.83,
          398,
          410.4,
          500,
          400,
          236.6667,
          350,
          202.5,
          184.1667,
          280,
          288.875,
          247.5,
          450,
          350,
          290,
          425,
          282,
          300,
          466.1111,
          300,
          348.75,
          416.75,
          357.125,
          325,
          337.5,
          320,
          450,
          418.8889,
          278,
          386.25,
          340,
          372.75,
          552.7778,
          369.6667,
          277.5,
          245,
          414.4,
          400,
          295.3333,
          300,
          506.6666,
          342.25,
          278.375,
          304.7286,
          282,
          370,
          483.25,
          304,
          540,
          400,
          267.5,
          462.75,
          351,
          363.375,
          353.3333,
          304.75,
          450,
          520,
          630,
          493.75,
          280.4167,
          500,
          414.6667,
          440,
          250,
          328.75,
          207.5,
          500,
          460,
          346.67,
          350,
          420,
          340.2857,
          422.3333,
          343.5,
          257.5,
          400,
          261,
          350,
          284.2,
          256.25,
          350,
          369.8,
          350,
          538,
          450,
          540,
          399.6,
          430,
          428.5714,
          230,
          538.4444,
          388.3316,
          219.25,
          288.3333,
          268.7917,
          750,
          390.2857,
          343.4167,
          387.25,
          365.75,
          575,
          350,
          420,
          281.7143,
          285.25,
          590,
          419.75,
          350,
          205.8333,
          200,
          178.5417,
          416.67,
          295.25,
          362.25,
          395.75,
          423.57,
          269,
          350,
          450,
          385.8889,
          350,
          350,
          394.6667,
          280,
          325,
          400,
          380,
          305.6667,
          387.1429,
          281.25,
          325,
          390,
          450,
          346.6667,
          375,
          290,
          350,
          428,
          350,
          445,
          344.5714,
          277,
          640,
          406.75,
          374.25,
          450,
          400,
          317.5,
          650,
          300,
          417,
          306.25,
          442.25,
          377.25,
          359,
          504.25,
          266,
          350,
          404.75,
          421.75,
          350,
          300,
          475,
          466.67,
          384.25,
          395.3333,
          350,
          333.1667,
          350,
          450,
          235,
          487.5,
          333.75,
          550,
          281.25,
          466.75,
          387.5,
          428.6667,
          270.75,
          186.25,
          308.6667,
          250,
          492.25,
          354,
          333,
          378.3333,
          260,
          406.6655,
          743.3333,
          265,
          448.89,
          496.75,
          281.6667,
          358.6667,
          493.4,
          786.1111,
          307.5,
          500,
          350,
          320.4286,
          489,
          390,
          650,
          252.5,
          237.5,
          450,
          244.25,
          412.5,
          350,
          555,
          332.3333,
          400,
          460.6667,
          493.75,
          265,
          386.1111,
          360,
          393.8333,
          301,
          308.75,
          248.5,
          356.6,
          450,
          330,
          250,
          276.6667,
          525.5,
          330,
          350,
          346.2222,
          320,
          422.3333,
          362.5,
          321.25,
          596.6667,
          273.3333,
          235,
          423.4444,
          372.6667,
          304,
          737.5,
          265,
          505.3333,
          308,
          248.9583,
          450,
          292.5,
          275.7143,
          444,
          250,
          328,
          483.25,
          228.6667,
          529.25,
          350,
          441.6667,
          333.3333,
          376,
          242.5,
          326.2,
          421.5,
          418.7857,
          395.625,
          220,
          293.4,
          377.75,
          308,
          326,
          295,
          300,
          566.6666,
          374.4,
          180,
          400,
          350,
          306.25,
          331.25,
          361.125,
          410,
          236.05,
          234.2,
          351.4,
          375,
          388,
          437.6667,
          299.25,
          422.8571,
          564.8571,
          533.8,
          296.6667,
          350,
          355,
          240,
          366.3333,
          250,
          398.25,
          272.3333,
          334.2857,
          511.1111,
          400,
          400,
          345,
          380,
          325,
          399,
          263.125,
          400,
          425.75,
          366.75,
          490,
          337,
          275,
          312.5,
          204.1667,
          307.4,
          362.5,
          520.75,
          386.25,
          350,
          608.3333,
          500,
          298.75,
          360,
          307.8571,
          514.25,
          367,
          277.3333,
          306.5,
          400,
          381,
          233.375,
          347.4,
          383.1429,
          420,
          350,
          328,
          303.7778,
          308.625,
          367.5,
          260.75,
          447.3333,
          300,
          195,
          403.25,
          435.75,
          277,
          312.5,
          350,
          301,
          360,
          231.25,
          450,
          241.6667,
          522,
          305,
          376.25,
          365,
          371.43,
          489.625,
          403,
          280,
          310.6667,
          500,
          400,
          450,
          370,
          180,
          305.6667,
          318.5,
          287.5,
          350,
          485,
          374.9167,
          368.25,
          400,
          349.5,
          290,
          297.875,
          600,
          380,
          240,
          393,
          662.5,
          423.25,
          500,
          700,
          277.5,
          515,
          428.8889,
          435,
          441,
          405,
          267.5,
          264,
          400,
          296.75,
          380,
          303.5,
          359.3333,
          288.575,
          367.5,
          400,
          391.6,
          442.7143,
          356.6667,
          500,
          403.3333,
          343,
          310,
          575,
          290.8333,
          395.5556,
          395,
          410.875,
          272.5714,
          412.375,
          600,
          265,
          335,
          405,
          422.625,
          475,
          220,
          375,
          300,
          371.125,
          241,
          391,
          306.6,
          265,
          450,
          250,
          600,
          224.75,
          425,
          300.2,
          389.6667,
          300,
          300,
          364,
          350,
          393.5,
          424.625,
          429,
          500,
          314.5,
          280,
          404.25,
          608.3333,
          233.4,
          320,
          500,
          375,
          282.5,
          345,
          300,
          236.875,
          387.5,
          252.5,
          243.4,
          308.25,
          432.5,
          298.225,
          350,
          400,
          350,
          341,
          341.75,
          349.875,
          312.5,
          408.25,
          290,
          390.375,
          350,
          350,
          350,
          350,
          370,
          310,
          320,
          440,
          350,
          275.9033,
          390,
          353.3333,
          252.2917,
          389.5,
          350,
          400,
          237.5,
          354.375
         ],
         "xaxis": "x",
         "y": [
          2014,
          2012,
          2010,
          2012,
          2020,
          2011,
          2020,
          2019,
          2010,
          2013,
          2008,
          2008,
          2019,
          2014,
          2010,
          2014,
          2013,
          2014,
          2019,
          2010,
          2017,
          2013,
          2013,
          2021,
          2015,
          2011,
          2015,
          2014,
          2020,
          2015,
          2012,
          2012,
          2013,
          2012,
          2018,
          2009,
          2012,
          2015,
          2017,
          2015,
          2019,
          2013,
          2011,
          2014,
          2011,
          2011,
          2010,
          2020,
          2015,
          2013,
          2009,
          2021,
          2014,
          2015,
          2014,
          2011,
          2020,
          2012,
          2018,
          2010,
          2012,
          2012,
          2014,
          2014,
          2010,
          2015,
          2012,
          2013,
          2008,
          2017,
          2020,
          2015,
          2010,
          2013,
          2010,
          2015,
          2020,
          2008,
          2013,
          2014,
          2013,
          2020,
          2009,
          2013,
          2015,
          2014,
          2014,
          2014,
          2011,
          2017,
          2015,
          2018,
          2012,
          2020,
          2011,
          2012,
          2008,
          2017,
          2019,
          2009,
          2015,
          2014,
          2013,
          2011,
          2010,
          2012,
          2019,
          2020,
          2008,
          2011,
          2012,
          2008,
          2011,
          2011,
          2013,
          2012,
          2011,
          2010,
          2015,
          2018,
          2013,
          2012,
          2014,
          2014,
          2012,
          2018,
          2015,
          2011,
          2017,
          2012,
          2009,
          2014,
          2010,
          2015,
          2013,
          2011,
          2012,
          2008,
          2011,
          2019,
          2017,
          2015,
          2012,
          2013,
          2014,
          2013,
          2012,
          2011,
          2015,
          2014,
          2008,
          2021,
          2010,
          2010,
          2010,
          2014,
          2008,
          2008,
          2012,
          2012,
          2014,
          2012,
          2015,
          2008,
          2020,
          2009,
          2018,
          2011,
          2009,
          2018,
          2010,
          2008,
          2018,
          2012,
          2018,
          2015,
          2010,
          2010,
          2009,
          2009,
          2012,
          2010,
          2012,
          2014,
          2015,
          2013,
          2021,
          2018,
          2011,
          2012,
          2010,
          2008,
          2015,
          2014,
          2019,
          2013,
          2010,
          2008,
          2012,
          2012,
          2013,
          2012,
          2012,
          2015,
          2010,
          2009,
          2011,
          2013,
          2020,
          2014,
          2015,
          2014,
          2014,
          2020,
          2019,
          2008,
          2008,
          2012,
          2011,
          2013,
          2008,
          2010,
          2008,
          2013,
          2013,
          2020,
          2014,
          2013,
          2015,
          2013,
          2012,
          2013,
          2015,
          2010,
          2011,
          2012,
          2012,
          2012,
          2014,
          2014,
          2010,
          2014,
          2009,
          2015,
          2012,
          2009,
          2008,
          2011,
          2018,
          2012,
          2011,
          2017,
          2015,
          2009,
          2013,
          2014,
          2008,
          2015,
          2008,
          2015,
          2015,
          2008,
          2015,
          2008,
          2013,
          2011,
          2012,
          2014,
          2010,
          2014,
          2015,
          2012,
          2018,
          2014,
          2014,
          2008,
          2019,
          2018,
          2015,
          2017,
          2014,
          2021,
          2020,
          2008,
          2020,
          2009,
          2018,
          2018,
          2015,
          2008,
          2019,
          2009,
          2012,
          2010,
          2012,
          2018,
          2017,
          2008,
          2011,
          2009,
          2014,
          2012,
          2010,
          2011,
          2015,
          2009,
          2014,
          2016,
          2012,
          2019,
          2009,
          2015,
          2021,
          2014,
          2012,
          2015,
          2015,
          2012,
          2012,
          2013,
          2013,
          2013,
          2009,
          2019,
          2009,
          2008,
          2014,
          2014,
          2010,
          2015,
          2013,
          2019,
          2015,
          2013,
          2013,
          2020,
          2015,
          2014,
          2013,
          2014,
          2014,
          2011,
          2008,
          2018,
          2010,
          2017,
          2011,
          2019,
          2011,
          2014,
          2013,
          2014,
          2015,
          2010,
          2013,
          2012,
          2018,
          2009,
          2009,
          2019,
          2012,
          2011,
          2015,
          2015,
          2012,
          2011,
          2021,
          2015,
          2009,
          2013,
          2014,
          2011,
          2013,
          2011,
          2010,
          2013,
          2015,
          2012,
          2014,
          2014,
          2015,
          2018,
          2011,
          2021,
          2012,
          2010,
          2013,
          2013,
          2014,
          2012,
          2012,
          2013,
          2015,
          2019,
          2017,
          2014,
          2014,
          2014,
          2012,
          2010,
          2014,
          2020,
          2009,
          2012,
          2021,
          2013,
          2020,
          2009,
          2013,
          2010,
          2013,
          2009,
          2011,
          2016,
          2021,
          2013,
          2015,
          2012,
          2013,
          2021,
          2018,
          2014,
          2014,
          2008,
          2019,
          2008,
          2008,
          2012,
          2010,
          2020,
          2012,
          2008,
          2017,
          2020,
          2009,
          2012,
          2017,
          2008,
          2008,
          2013,
          2012,
          2017,
          2013,
          2013,
          2013,
          2018,
          2014,
          2009,
          2012,
          2020,
          2011,
          2012,
          2019,
          2012,
          2011,
          2009,
          2013,
          2008,
          2010,
          2011,
          2013,
          2018,
          2015,
          2010,
          2020,
          2019,
          2015,
          2013,
          2019,
          2015,
          2014,
          2011,
          2019,
          2011,
          2015,
          2015,
          2013,
          2008,
          2008,
          2014,
          2013,
          2013,
          2008,
          2014,
          2021,
          2020,
          2012,
          2015,
          2011,
          2008,
          2008,
          2012,
          2012,
          2012,
          2014,
          2019,
          2008,
          2012,
          2013,
          2011,
          2019,
          2011,
          2018,
          2013,
          2013,
          2011,
          2020,
          2014,
          2016,
          2012,
          2009,
          2010,
          2015,
          2018,
          2017,
          2014,
          2012,
          2012,
          2012,
          2010,
          2013,
          2012,
          2019,
          2014,
          2015,
          2014,
          2009,
          2008,
          2021,
          2012,
          2009,
          2011,
          2013,
          2011,
          2013,
          2013,
          2013,
          2010,
          2021,
          2010,
          2020,
          2011,
          2019,
          2018,
          2012,
          2014,
          2013,
          2017,
          2020,
          2010,
          2014,
          2018,
          2009,
          2009,
          2018,
          2011,
          2014,
          2011,
          2008,
          2011,
          2009,
          2018,
          2013,
          2013,
          2012,
          2020,
          2019,
          2019,
          2010,
          2009,
          2014,
          2009,
          2013,
          2011,
          2020,
          2014,
          2012,
          2011,
          2012,
          2011,
          2013,
          2013,
          2009,
          2012,
          2019,
          2012,
          2018,
          2015,
          2009,
          2020,
          2014,
          2015,
          2011,
          2011,
          2015,
          2010,
          2015,
          2013,
          2009,
          2009,
          2013,
          2012,
          2015,
          2015,
          2012,
          2012,
          2013,
          2008,
          2012,
          2011,
          2021,
          2012,
          2015,
          2010,
          2015,
          2008,
          2010,
          2016,
          2012,
          2009,
          2015,
          2017,
          2012,
          2018,
          2019,
          2015,
          2013,
          2018,
          2009,
          2011,
          2009,
          2010,
          2009,
          2012,
          2009,
          2015,
          2014,
          2009,
          2014,
          2010,
          2018,
          2013,
          2015,
          2014,
          2015,
          2011,
          2008,
          2011,
          2013,
          2013,
          2021,
          2015,
          2014,
          2014,
          2015,
          2015,
          2013,
          2010,
          2008,
          2013,
          2018,
          2014,
          2008,
          2021,
          2012,
          2010,
          2010,
          2012,
          2018,
          2015,
          2011,
          2016,
          2017,
          2008,
          2014,
          2011,
          2015,
          2011,
          2013,
          2019,
          2016,
          2020,
          2014,
          2009,
          2021,
          2015,
          2015,
          2009,
          2008,
          2010,
          2013,
          2020,
          2018,
          2012,
          2019,
          2012,
          2015,
          2015,
          2009,
          2018,
          2011,
          2013,
          2011,
          2010,
          2018,
          2013,
          2012,
          2013,
          2017,
          2020,
          2014,
          2019,
          2014,
          2009,
          2013,
          2021,
          2010,
          2015,
          2010,
          2020,
          2011,
          2009,
          2014,
          2014,
          2021,
          2015,
          2008,
          2010,
          2010,
          2016,
          2015,
          2015,
          2010,
          2012,
          2010,
          2019,
          2014,
          2015,
          2015,
          2019,
          2015,
          2012,
          2020,
          2015,
          2018,
          2012,
          2013,
          2010,
          2018,
          2017,
          2012,
          2014,
          2015,
          2012,
          2012,
          2019,
          2020,
          2012,
          2018,
          2013,
          2018,
          2014,
          2018,
          2014,
          2011,
          2012,
          2019,
          2014,
          2014,
          2015,
          2018,
          2011,
          2019,
          2010,
          2013,
          2012,
          2015,
          2015,
          2012,
          2013,
          2012,
          2013,
          2013,
          2015,
          2015,
          2021,
          2020,
          2019,
          2013,
          2014,
          2015,
          2012,
          2010,
          2014,
          2008,
          2013,
          2009,
          2020,
          2010,
          2015,
          2014,
          2015,
          2014,
          2010,
          2010,
          2009,
          2015,
          2012,
          2012,
          2013,
          2013,
          2021,
          2020,
          2011,
          2019,
          2015,
          2010,
          2012,
          2014,
          2020,
          2008,
          2016,
          2017,
          2012,
          2013,
          2014,
          2020,
          2008,
          2008,
          2017,
          2015,
          2008,
          2019,
          2015,
          2012,
          2018,
          2015,
          2015,
          2008,
          2014,
          2013,
          2014,
          2012,
          2015,
          2009,
          2011,
          2019,
          2012,
          2008,
          2010,
          2013,
          2018,
          2012,
          2011,
          2008,
          2013,
          2012,
          2009,
          2020,
          2015,
          2012,
          2015,
          2015,
          2012,
          2020,
          2010,
          2013,
          2013,
          2009,
          2014,
          2009,
          2015,
          2013,
          2019,
          2014,
          2015,
          2011,
          2015,
          2010,
          2014,
          2008,
          2012,
          2009,
          2011,
          2015,
          2014,
          2009,
          2009,
          2011,
          2009,
          2013,
          2010,
          2013,
          2012,
          2021,
          2015,
          2009,
          2019,
          2012,
          2011,
          2011,
          2015,
          2011,
          2010,
          2014,
          2014,
          2014,
          2012,
          2015,
          2015,
          2013,
          2013,
          2013,
          2014,
          2012,
          2009,
          2010,
          2015,
          2019,
          2015,
          2011,
          2012,
          2020,
          2012,
          2014,
          2010,
          2013,
          2009,
          2014,
          2010,
          2017,
          2015,
          2015,
          2017,
          2012,
          2008,
          2015,
          2010,
          2012,
          2015,
          2013,
          2014,
          2009,
          2020,
          2015,
          2011,
          2018,
          2011,
          2013,
          2012,
          2012,
          2011,
          2015,
          2015,
          2009,
          2015,
          2014,
          2019,
          2018,
          2019,
          2011,
          2011,
          2008,
          2012,
          2013,
          2018,
          2009,
          2014,
          2015,
          2013,
          2011,
          2018,
          2012,
          2008,
          2012,
          2019,
          2009,
          2015,
          2015,
          2019,
          2015,
          2018,
          2014,
          2014,
          2012,
          2013,
          2015,
          2017,
          2019,
          2018,
          2009,
          2015,
          2013,
          2008,
          2014,
          2017,
          2014,
          2012,
          2014,
          2012,
          2010,
          2011,
          2020,
          2013,
          2009,
          2011,
          2020,
          2014,
          2017,
          2019,
          2010,
          2013,
          2015,
          2013,
          2014,
          2019,
          2008,
          2013,
          2014,
          2011,
          2012,
          2010,
          2009,
          2009,
          2013,
          2014,
          2012,
          2014,
          2019,
          2013,
          2014,
          2012,
          2013,
          2016,
          2012,
          2013,
          2014,
          2013,
          2012,
          2015,
          2015,
          2013,
          2010,
          2015,
          2014,
          2021,
          2008,
          2008,
          2011,
          2013,
          2011,
          2014,
          2012,
          2010,
          2018,
          2015,
          2021,
          2012,
          2015,
          2013,
          2013,
          2011,
          2018,
          2014,
          2018,
          2013,
          2009,
          2014,
          2019,
          2011,
          2018,
          2014,
          2020,
          2014,
          2018,
          2017,
          2018,
          2012,
          2010,
          2008,
          2010,
          2008,
          2011,
          2011,
          2015,
          2013,
          2010,
          2017,
          2014,
          2014,
          2013,
          2012,
          2014,
          2010,
          2015,
          2013,
          2013,
          2013,
          2012,
          2013,
          2018,
          2008,
          2008,
          2008,
          2021,
          2019,
          2010,
          2018,
          2012,
          2009,
          2014,
          2014,
          2014,
          2008,
          2010
         ],
         "yaxis": "y"
        },
        {
         "mode": "lines",
         "name": "Regression Line",
         "type": "scatter",
         "x": [
          507,
          366.5,
          259.6667,
          329,
          600,
          286.8333,
          413.33,
          650,
          252.5,
          495.75,
          275,
          250,
          400,
          383,
          301,
          385.25,
          587.5,
          445.75,
          506.67,
          243.3333,
          600,
          537.5,
          438.5,
          500,
          367.1667,
          320,
          316.75,
          333.3333,
          458,
          600,
          300,
          312.8,
          415,
          341.25,
          350,
          292.765,
          332.8571,
          412.5,
          400,
          343.3333,
          475,
          343.75,
          270,
          383.3333,
          309.5,
          276.25,
          321.5,
          830,
          364.25,
          307.2,
          195,
          405,
          426.5,
          358.75,
          418,
          347.4,
          663.64,
          240,
          410,
          356.1667,
          363.2857,
          371,
          391.7143,
          425.6667,
          352.2,
          352.5,
          340,
          358.8,
          300,
          425,
          425,
          243.2,
          342.5,
          321,
          273.25,
          350,
          540,
          347.5,
          418.6,
          392.3333,
          402.5,
          786.6666,
          226.875,
          339,
          395,
          430,
          400,
          483.3333,
          295.4,
          462.5,
          281,
          424.62,
          333,
          616.67,
          290.75,
          293.75,
          236.25,
          390,
          650,
          285,
          442.2,
          400,
          580.5556,
          321,
          297.5,
          340.8889,
          462.5,
          503.335,
          320,
          300,
          350,
          242.5,
          277.5,
          225,
          448.4,
          250,
          345,
          200,
          365,
          450,
          251.75,
          300,
          400,
          426,
          347.5,
          365,
          309.7143,
          308.25,
          360,
          329.4,
          240,
          400,
          315.8141,
          436,
          332.3333,
          337.5,
          342.5,
          400,
          270,
          650,
          500,
          250,
          336.75,
          286,
          400,
          413.7778,
          310,
          285.6667,
          413.875,
          420,
          310,
          500,
          275,
          293.5,
          272.8333,
          453.25,
          232.5,
          296.6667,
          303,
          420,
          512.5,
          358,
          537.5,
          250,
          550,
          403.65,
          275,
          300,
          345,
          360,
          285,
          318.75,
          400,
          362,
          330,
          412.6667,
          304.25,
          218.75,
          267.5,
          350.175,
          367,
          240,
          197.5,
          412.5,
          401,
          373.2,
          393.3333,
          400,
          350,
          350,
          350,
          262.5,
          372,
          360,
          420,
          563.1429,
          275.4167,
          356.6667,
          325,
          296.5,
          328.6,
          350,
          322.5,
          270,
          233.125,
          233.125,
          364.5714,
          466.6,
          576.6666,
          346,
          251.75,
          387.8571,
          400,
          580,
          505,
          392.5,
          255,
          322.5,
          400,
          250,
          370,
          310,
          282.5,
          386.5,
          409.25,
          585.71,
          404.25,
          391.75,
          502.5,
          465.625,
          283,
          350,
          375.5556,
          350,
          236.6667,
          350,
          371.375,
          384.625,
          300,
          295.25,
          298.4583,
          420,
          250,
          344,
          238,
          318.125,
          300,
          329,
          400,
          347.8571,
          324,
          400,
          455,
          157.75,
          287,
          355,
          227.5,
          405.75,
          247.5,
          313.2,
          445,
          385,
          293.6667,
          225,
          338.25,
          300,
          267.5,
          400,
          338.75,
          409.6667,
          341.5,
          350,
          395,
          400,
          314.5,
          302.5,
          377.5,
          400,
          404,
          400,
          325,
          466.6667,
          550,
          314.75,
          600,
          254.5,
          400,
          400,
          392.2,
          300,
          442.5,
          250,
          300,
          356.8125,
          355,
          350,
          450,
          232.5,
          284.3333,
          397.1667,
          325.6667,
          287.125,
          302,
          308.6667,
          276.5,
          237.5,
          350,
          550,
          340,
          350,
          260,
          306.6667,
          500,
          375,
          350,
          469.6667,
          378.75,
          315.75,
          296.25,
          556.25,
          320,
          315,
          368.75,
          464.44,
          267.5,
          302.5,
          424.75,
          365.6667,
          220.625,
          375,
          550,
          597.5,
          298.5,
          308.25,
          320.2857,
          611.1122,
          281,
          418.25,
          367.5,
          406.2,
          478.75,
          203.3333,
          334.1667,
          418.75,
          330,
          600,
          361.5,
          450,
          329,
          354.6667,
          267.6,
          377.5,
          333.5,
          256.25,
          424.7143,
          296.6667,
          310,
          344.5833,
          238.8333,
          418,
          337.5,
          321.3333,
          387.75,
          355,
          302.4286,
          271.5,
          575,
          446,
          362.5,
          350,
          412.3333,
          328.5,
          306,
          301,
          339.5,
          381,
          250,
          258.6,
          366.3333,
          404.25,
          495,
          350,
          187.8,
          460.8333,
          262.3333,
          343.75,
          503.3333,
          394.75,
          361.25,
          367,
          357,
          340,
          344,
          366.67,
          450,
          330,
          395,
          361.3333,
          269.6667,
          323,
          531.25,
          600,
          269.4316,
          261,
          545.8333,
          420.5,
          750,
          273,
          367.2,
          311.6474,
          356.75,
          255,
          300,
          495,
          522.2222,
          370,
          307.6667,
          320,
          373.5,
          476.6667,
          385,
          376.25,
          383.5,
          360,
          516.67,
          327.5,
          340,
          211.5,
          195,
          675,
          256.4286,
          422.5,
          360,
          575,
          235,
          367,
          270,
          253.75,
          300,
          350,
          400,
          500,
          430,
          350,
          586.75,
          452,
          350,
          375,
          270,
          700,
          223.25,
          400,
          500,
          334.25,
          322,
          246.25,
          360,
          337.5,
          288.75,
          285,
          282,
          450,
          343.3333,
          273.2,
          600,
          450,
          416,
          390,
          700,
          424.25,
          387.5,
          314.6,
          438,
          317.5,
          371.5,
          412.25,
          413.25,
          272.5,
          320,
          316.3333,
          398.6667,
          447,
          283.3333,
          413.487,
          520,
          516.67,
          352,
          400,
          241,
          312.5,
          382.5,
          272.3333,
          304.75,
          351.75,
          400,
          400,
          305,
          345.25,
          379.75,
          300,
          400,
          275,
          350,
          558.25,
          308,
          301.2,
          370,
          380.2,
          550,
          364.1429,
          260,
          234.6667,
          391,
          400,
          480,
          383.3333,
          300,
          318.6667,
          350,
          296,
          512.5,
          305.3333,
          505,
          416.6667,
          370.5,
          363.6667,
          270,
          250,
          321.6667,
          186.6,
          280.625,
          426.2857,
          326.25,
          251.75,
          372.5,
          258,
          255,
          235.5,
          488.3333,
          326.6667,
          625,
          267.4,
          417.5,
          280,
          312.5,
          407.5,
          450,
          450,
          500,
          312.5,
          394.7143,
          355,
          261.25,
          250,
          350,
          338.5714,
          388,
          350,
          275,
          350,
          270,
          350,
          446.2857,
          482.7778,
          382,
          666.67,
          528.33,
          350,
          324.9316,
          202.5,
          500,
          264.1667,
          403,
          315,
          550,
          359.25,
          335,
          250,
          280,
          335.3333,
          403,
          388.75,
          190,
          272,
          535.71,
          347.3333,
          400,
          467,
          258.3333,
          850,
          300,
          492.4,
          271.8,
          327.2222,
          419,
          341.6667,
          444,
          550,
          292.5,
          217.875,
          338.25,
          304.3333,
          388.25,
          366.6667,
          200,
          286.6667,
          469,
          400,
          340,
          354.6667,
          450,
          317,
          433.5,
          229.7083,
          307.7778,
          332.5,
          270.8333,
          495,
          297.5,
          355.6667,
          350,
          420,
          317.75,
          400.83,
          398,
          410.4,
          500,
          400,
          236.6667,
          350,
          202.5,
          184.1667,
          280,
          288.875,
          247.5,
          450,
          350,
          290,
          425,
          282,
          300,
          466.1111,
          300,
          348.75,
          416.75,
          357.125,
          325,
          337.5,
          320,
          450,
          418.8889,
          278,
          386.25,
          340,
          372.75,
          552.7778,
          369.6667,
          277.5,
          245,
          414.4,
          400,
          295.3333,
          300,
          506.6666,
          342.25,
          278.375,
          304.7286,
          282,
          370,
          483.25,
          304,
          540,
          400,
          267.5,
          462.75,
          351,
          363.375,
          353.3333,
          304.75,
          450,
          520,
          630,
          493.75,
          280.4167,
          500,
          414.6667,
          440,
          250,
          328.75,
          207.5,
          500,
          460,
          346.67,
          350,
          420,
          340.2857,
          422.3333,
          343.5,
          257.5,
          400,
          261,
          350,
          284.2,
          256.25,
          350,
          369.8,
          350,
          538,
          450,
          540,
          399.6,
          430,
          428.5714,
          230,
          538.4444,
          388.3316,
          219.25,
          288.3333,
          268.7917,
          750,
          390.2857,
          343.4167,
          387.25,
          365.75,
          575,
          350,
          420,
          281.7143,
          285.25,
          590,
          419.75,
          350,
          205.8333,
          200,
          178.5417,
          416.67,
          295.25,
          362.25,
          395.75,
          423.57,
          269,
          350,
          450,
          385.8889,
          350,
          350,
          394.6667,
          280,
          325,
          400,
          380,
          305.6667,
          387.1429,
          281.25,
          325,
          390,
          450,
          346.6667,
          375,
          290,
          350,
          428,
          350,
          445,
          344.5714,
          277,
          640,
          406.75,
          374.25,
          450,
          400,
          317.5,
          650,
          300,
          417,
          306.25,
          442.25,
          377.25,
          359,
          504.25,
          266,
          350,
          404.75,
          421.75,
          350,
          300,
          475,
          466.67,
          384.25,
          395.3333,
          350,
          333.1667,
          350,
          450,
          235,
          487.5,
          333.75,
          550,
          281.25,
          466.75,
          387.5,
          428.6667,
          270.75,
          186.25,
          308.6667,
          250,
          492.25,
          354,
          333,
          378.3333,
          260,
          406.6655,
          743.3333,
          265,
          448.89,
          496.75,
          281.6667,
          358.6667,
          493.4,
          786.1111,
          307.5,
          500,
          350,
          320.4286,
          489,
          390,
          650,
          252.5,
          237.5,
          450,
          244.25,
          412.5,
          350,
          555,
          332.3333,
          400,
          460.6667,
          493.75,
          265,
          386.1111,
          360,
          393.8333,
          301,
          308.75,
          248.5,
          356.6,
          450,
          330,
          250,
          276.6667,
          525.5,
          330,
          350,
          346.2222,
          320,
          422.3333,
          362.5,
          321.25,
          596.6667,
          273.3333,
          235,
          423.4444,
          372.6667,
          304,
          737.5,
          265,
          505.3333,
          308,
          248.9583,
          450,
          292.5,
          275.7143,
          444,
          250,
          328,
          483.25,
          228.6667,
          529.25,
          350,
          441.6667,
          333.3333,
          376,
          242.5,
          326.2,
          421.5,
          418.7857,
          395.625,
          220,
          293.4,
          377.75,
          308,
          326,
          295,
          300,
          566.6666,
          374.4,
          180,
          400,
          350,
          306.25,
          331.25,
          361.125,
          410,
          236.05,
          234.2,
          351.4,
          375,
          388,
          437.6667,
          299.25,
          422.8571,
          564.8571,
          533.8,
          296.6667,
          350,
          355,
          240,
          366.3333,
          250,
          398.25,
          272.3333,
          334.2857,
          511.1111,
          400,
          400,
          345,
          380,
          325,
          399,
          263.125,
          400,
          425.75,
          366.75,
          490,
          337,
          275,
          312.5,
          204.1667,
          307.4,
          362.5,
          520.75,
          386.25,
          350,
          608.3333,
          500,
          298.75,
          360,
          307.8571,
          514.25,
          367,
          277.3333,
          306.5,
          400,
          381,
          233.375,
          347.4,
          383.1429,
          420,
          350,
          328,
          303.7778,
          308.625,
          367.5,
          260.75,
          447.3333,
          300,
          195,
          403.25,
          435.75,
          277,
          312.5,
          350,
          301,
          360,
          231.25,
          450,
          241.6667,
          522,
          305,
          376.25,
          365,
          371.43,
          489.625,
          403,
          280,
          310.6667,
          500,
          400,
          450,
          370,
          180,
          305.6667,
          318.5,
          287.5,
          350,
          485,
          374.9167,
          368.25,
          400,
          349.5,
          290,
          297.875,
          600,
          380,
          240,
          393,
          662.5,
          423.25,
          500,
          700,
          277.5,
          515,
          428.8889,
          435,
          441,
          405,
          267.5,
          264,
          400,
          296.75,
          380,
          303.5,
          359.3333,
          288.575,
          367.5,
          400,
          391.6,
          442.7143,
          356.6667,
          500,
          403.3333,
          343,
          310,
          575,
          290.8333,
          395.5556,
          395,
          410.875,
          272.5714,
          412.375,
          600,
          265,
          335,
          405,
          422.625,
          475,
          220,
          375,
          300,
          371.125,
          241,
          391,
          306.6,
          265,
          450,
          250,
          600,
          224.75,
          425,
          300.2,
          389.6667,
          300,
          300,
          364,
          350,
          393.5,
          424.625,
          429,
          500,
          314.5,
          280,
          404.25,
          608.3333,
          233.4,
          320,
          500,
          375,
          282.5,
          345,
          300,
          236.875,
          387.5,
          252.5,
          243.4,
          308.25,
          432.5,
          298.225,
          350,
          400,
          350,
          341,
          341.75,
          349.875,
          312.5,
          408.25,
          290,
          390.375,
          350,
          350,
          350,
          350,
          370,
          310,
          320,
          440,
          350,
          275.9033,
          390,
          353.3333,
          252.2917,
          389.5,
          350,
          400,
          237.5,
          354.375
         ],
         "y": [
          2016.2496694469573,
          2013.3114801993977,
          2011.0773417414523,
          2012.5272659874154,
          2018.194520692673,
          2011.6454599764186,
          2014.290806907321,
          2019.2401396419825,
          2010.9274689949718,
          2016.0144051833627,
          2011.3979975221612,
          2010.8751880475065,
          2014.0120448954349,
          2013.6565344526698,
          2011.9417193758022,
          2013.7035873053887,
          2017.9331159553456,
          2014.9687862340531,
          2016.2427683618919,
          2010.7357714905193,
          2018.194520692673,
          2016.8874970060363,
          2014.8171714864034,
          2016.103282794054,
          2013.3254224824677,
          2012.3390545765399,
          2012.2710893448348,
          2012.6178855992764,
          2015.224962876634,
          2018.194520692673,
          2011.920806996816,
          2012.1884854478392,
          2014.3257305802279,
          2012.7834426299962,
          2012.9664259461256,
          2011.769505934851,
          2012.6079271244032,
          2014.2734496327623,
          2014.0120448954349,
          2012.8270093891383,
          2015.5804733193993,
          2012.8357235774617,
          2011.2934356272303,
          2013.663504548586,
          2012.1194745971848,
          2011.424137995894,
          2012.370423145019,
          2023.0043678594968,
          2013.2644273466788,
          2012.0713761255165,
          2009.725007203266,
          2014.116606790366,
          2014.5662229385691,
          2013.1494092622547,
          2014.3884677171864,
          2012.9120537607614,
          2019.525384491354,
          2010.6660642576446,
          2014.2211686852968,
          2013.0953863136197,
          2013.2442615396224,
          2013.4055859048356,
          2013.8387711968692,
          2014.5487966531598,
          2013.0124331798952,
          2013.018706893591,
          2012.7573021562637,
          2013.150454881204,
          2011.920806996816,
          2014.5348543700898,
          2014.5348543700898,
          2010.7329838704004,
          2012.809583103729,
          2012.359966955526,
          2011.3614008589354,
          2012.9664259461256,
          2016.9397779535016,
          2012.91414499866,
          2014.4010151445782,
          2013.8517159594617,
          2014.0643258429004,
          2022.0981633759366,
          2010.391589283451,
          2012.7363897772773,
          2013.907483000504,
          2014.6394162650206,
          2014.0120448954349,
          2015.754742447205,
          2011.8246100534795,
          2015.3190685820718,
          2011.5234717960784,
          2014.526907666075,
          2012.6109155033603,
          2018.5431300503728,
          2011.7273674911937,
          2011.7901046281522,
          2010.5876428364463,
          2013.802921105573,
          2019.2401396419825,
          2011.607121312023,
          2014.8945472886521,
          2014.0120448954349,
          2017.787892030714,
          2012.359966955526,
          2011.8685260493505,
          2012.7758911699443,
          2015.3190685820718,
          2016.173025577973,
          2012.3390545765399,
          2011.920806996816,
          2012.9664259461256,
          2010.71834520511,
          2011.4502784696267,
          2010.3523785728516,
          2015.0242040383666,
          2010.8751880475065,
          2012.8618640511945,
          2009.829569098197,
          2013.2801116309183,
          2015.0576638447444,
          2010.9117847107323,
          2011.920806996816,
          2014.0120448954349,
          2014.555766749076,
          2012.91414499866,
          2013.2801116309183,
          2012.1239561200016,
          2012.093334123452,
          2013.1755497359875,
          2012.53563093901,
          2010.6660642576446,
          2014.0120448954349,
          2012.2515174493415,
          2014.7648905389378,
          2012.5969732202902,
          2012.7050212087981,
          2012.809583103729,
          2014.0120448954349,
          2011.2934356272303,
          2019.2401396419825,
          2016.103282794054,
          2010.8751880475065,
          2012.6893369245583,
          2011.6280336910093,
          2014.0120448954349,
          2014.3001714706309,
          2012.129930786678,
          2011.6210635950931,
          2014.3022041538684,
          2014.4302924751587,
          2012.129930786678,
          2016.103282794054,
          2011.3979975221612,
          2011.7848765334056,
          2011.3526866706118,
          2015.1256290764495,
          2010.509221415248,
          2011.8510997639412,
          2011.9835441337746,
          2014.4302924751587,
          2016.3646875313814,
          2013.133724978015,
          2016.8874970060363,
          2010.8751880475065,
          2017.1489017433635,
          2014.0883750787345,
          2011.3979975221612,
          2011.920806996816,
          2012.8618640511945,
          2013.1755497359875,
          2011.607121312023,
          2012.312914102807,
          2014.0120448954349,
          2013.2173744939598,
          2012.5481783664018,
          2014.2769357263394,
          2012.0096846075073,
          2010.221676204188,
          2011.2411546797648,
          2012.970085612448,
          2013.3219363888907,
          2010.6660642576446,
          2009.7772881507315,
          2014.2734496327623,
          2014.0329572744213,
          2013.4515931386052,
          2013.8726283384478,
          2014.0120448954349,
          2012.9664259461256,
          2012.9664259461256,
          2012.9664259461256,
          2011.1365927848337,
          2013.4264982838217,
          2013.1755497359875,
          2014.4302924751587,
          2017.4237510491412,
          2011.4067117104848,
          2013.1058425031126,
          2012.4436164714707,
          2011.8476136703644,
          2012.518901035821,
          2012.9664259461256,
          2012.3913355240052,
          2011.2934356272303,
          2010.5222916521145,
          2010.5222916521145,
          2013.271148585285,
          2015.4048093359152,
          2017.7065637888368,
          2012.8827764301807,
          2010.9117847107323,
          2013.7581079686436,
          2014.0120448954349,
          2017.7762731129492,
          2016.207844688985,
          2013.8552020530385,
          2010.9797499424374,
          2012.3913355240052,
          2014.0120448954349,
          2010.8751880475065,
          2013.3846735258494,
          2012.129930786678,
          2011.5548403645575,
          2013.7297277791215,
          2014.2054844010572,
          2017.8956827969603,
          2014.1009225061264,
          2013.839517768799,
          2016.1555637415195,
          2015.3844197664037,
          2011.5652965540507,
          2012.9664259461256,
          2013.500854338545,
          2012.9664259461256,
          2010.59635702477,
          2012.9664259461256,
          2013.4134280469552,
          2013.6905170685222,
          2011.920806996816,
          2011.8214731966316,
          2011.888566382133,
          2014.4302924751587,
          2010.8751880475065,
          2012.8409516722083,
          2010.624239499672,
          2012.2998438659406,
          2011.920806996816,
          2012.5272659874154,
          2014.0120448954349,
          2012.921612809196,
          2012.4227040924845,
          2014.0120448954349,
          2015.1622257396755,
          2008.9460210860304,
          2011.6489460699954,
          2013.0709878410564,
          2010.4046595203172,
          2014.1322910746055,
          2010.822907100041,
          2012.1968503994337,
          2014.9531019498136,
          2013.6983592106421,
          2011.7883626269827,
          2010.3523785728516,
          2012.7207054930377,
          2011.920806996816,
          2011.2411546797648,
          2014.0120448954349,
          2012.731161682531,
          2014.2141985893809,
          2012.7886707247428,
          2012.9664259461256,
          2013.907483000504,
          2014.0120448954349,
          2012.2240364921158,
          2011.9730879442814,
          2013.5415163682458,
          2014.0120448954349,
          2014.0956944113798,
          2014.0120448954349,
          2012.4436164714707,
          2015.4062041915936,
          2017.1489017433635,
          2012.2292645868622,
          2018.194520692673,
          2010.9692937529444,
          2014.0120448954349,
          2014.0120448954349,
          2013.8489283393426,
          2011.920806996816,
          2014.900821002348,
          2010.8751880475065,
          2011.920806996816,
          2013.1088915279688,
          2013.0709878410564,
          2012.9664259461256,
          2015.0576638447444,
          2010.509221415248,
          2011.593179028953,
          2013.9527938520534,
          2012.4575587545407,
          2011.6515601173687,
          2011.9626317547884,
          2012.1020483117757,
          2011.4293660906405,
          2010.613783310179,
          2012.9664259461256,
          2017.1489017433635,
          2012.7573021562637,
          2012.9664259461256,
          2011.0843118373684,
          2012.060223553803,
          2016.103282794054,
          2013.4892354207802,
          2012.9664259461256,
          2015.4689413285523,
          2013.5676568419785,
          2012.2501769658484,
          2011.8423855756178,
          2017.2796041120273,
          2012.3390545765399,
          2012.2344926816088,
          2013.3585330521166,
          2015.359638597305,
          2011.2411546797648,
          2011.9730879442814,
          2014.5296262753432,
          2013.2940539139884,
          2010.260886914787,
          2013.4892354207802,
          2017.1489017433635,
          2018.1422397452075,
          2011.8894384283367,
          2012.093334123452,
          2012.3450292432162,
          2018.4269032304435,
          2011.5234717960784,
          2014.393695811933,
          2013.3323925783839,
          2014.1417016451494,
          2015.6588947405974,
          2009.8992763310716,
          2012.6353139759235,
          2014.4041520014262,
          2012.5481783664018,
          2018.194520692673,
          2013.2069183044666,
          2015.0576638447444,
          2012.5272659874154,
          2013.0640177451403,
          2011.2432459176634,
          2013.5415163682458,
          2012.6213716928532,
          2011.0058904161701,
          2014.5288797034134,
          2011.8510997639412,
          2012.129930786678,
          2012.853149862871,
          2010.6416657850814,
          2014.3884677171864,
          2012.7050212087981,
          2012.3669370514422,
          2013.7558682528543,
          2013.0709878410564,
          2011.9715948004218,
          2011.3248041957095,
          2017.6717112180183,
          2014.9740143287997,
          2013.2278306834528,
          2012.9664259461256,
          2014.2699635391855,
          2012.5168097979224,
          2012.046281270733,
          2011.9417193758022,
          2012.7468459667705,
          2013.6147096946975,
          2010.8751880475065,
          2011.0550345067877,
          2013.3079941058206,
          2014.1009225061264,
          2015.998720899123,
          2012.9664259461256,
          2009.5744380745655,
          2015.2842139200156,
          2011.133106691257,
          2012.8357235774617,
          2016.1729900269286,
          2013.9022549057574,
          2013.20169020972,
          2013.3219363888907,
          2013.1128125990288,
          2012.7573021562637,
          2012.8409516722083,
          2013.3150353038252,
          2015.0576638447444,
          2012.5481783664018,
          2013.907483000504,
          2013.2034322108896,
          2011.2864655313142,
          2012.4017917134984,
          2016.7567946373724,
          2018.194520692673,
          2011.2815490310145,
          2011.1052242163546,
          2017.0617661338417,
          2014.440748664652,
          2021.3313775406016,
          2011.3561727641888,
          2013.326118864688,
          2012.1643818398197,
          2013.1075845042822,
          2010.9797499424374,
          2011.920806996816,
          2015.998720899123,
          2016.568001862361,
          2013.3846735258494,
          2012.0811359327895,
          2012.3390545765399,
          2013.4578668523009,
          2015.6153279814555,
          2013.6983592106421,
          2013.515375894513,
          2013.6669906421628,
          2013.1755497359875,
          2016.4518921517538,
          2012.4958974189362,
          2012.7573021562637,
          2010.070061456538,
          2009.725007203266,
          2019.7629491166374,
          2011.009625367057,
          2014.4825734226242,
          2013.1755497359875,
          2017.6717112180183,
          2010.5615023627136,
          2013.3219363888907,
          2011.2934356272303,
          2010.9536094687046,
          2011.920806996816,
          2012.9664259461256,
          2014.0120448954349,
          2016.103282794054,
          2014.6394162650206,
          2012.9664259461256,
          2017.917431671106,
          2015.099488602717,
          2012.9664259461256,
          2013.4892354207802,
          2011.2934356272303,
          2020.285758591292,
          2010.315781909626,
          2014.0120448954349,
          2016.103282794054,
          2012.637055977093,
          2012.3808793345122,
          2010.7967666263082,
          2013.1755497359875,
          2012.7050212087981,
          2011.6855427332214,
          2011.607121312023,
          2011.5443841750646,
          2015.0576638447444,
          2012.8270093891383,
          2011.3603552399861,
          2018.194520692673,
          2015.0576638447444,
          2014.346642959214,
          2013.802921105573,
          2020.285758591292,
          2014.5191700858502,
          2013.7506401581077,
          2012.2261277300142,
          2014.8067152969102,
          2012.2867736290743,
          2013.4160420943285,
          2014.2682215380157,
          2014.2891339170021,
          2011.3457165746956,
          2012.3390545765399,
          2012.262375156511,
          2013.9841624205328,
          2014.994926707786,
          2011.5722666499669,
          2014.2940901508218,
          2016.5215303737778,
          2016.4518921517538,
          2013.008250704098,
          2014.0120448954349,
          2010.6869766366308,
          2012.1822117341433,
          2013.6460782631766,
          2011.3422304811188,
          2012.0201407970003,
          2013.0030226093513,
          2014.0120448954349,
          2014.0120448954349,
          2012.025368891747,
          2012.8670921459411,
          2013.5885692209647,
          2011.920806996816,
          2014.0120448954349,
          2011.3979975221612,
          2012.9664259461256,
          2017.3214288699996,
          2012.0881060287054,
          2011.9459018515995,
          2013.3846735258494,
          2013.5979797915084,
          2017.1489017433635,
          2013.2621876308892,
          2011.0843118373684,
          2010.5545322667974,
          2013.8238334845594,
          2014.0120448954349,
          2015.6850352143301,
          2013.663504548586,
          2011.920806996816,
          2012.3111721016376,
          2012.9664259461256,
          2011.8371574808712,
          2016.3646875313814,
          2012.032338987663,
          2016.207844688985,
          2014.360585242284,
          2013.3951297153424,
          2013.252229156016,
          2011.2934356272303,
          2010.8751880475065,
          2012.373909238596,
          2009.549343219782,
          2011.5156296539585,
          2014.5617414157523,
          2012.4697569452035,
          2010.9117847107323,
          2013.4369544733147,
          2011.0424870793959,
          2010.9797499424374,
          2010.5719585522068,
          2015.8593043421358,
          2012.478471133527,
          2018.7173301673279,
          2011.2390634418662,
          2014.3780115276934,
          2011.5025594170922,
          2012.1822117341433,
          2014.1688877378315,
          2015.0576638447444,
          2015.0576638447444,
          2016.103282794054,
          2012.1822117341433,
          2013.9015083338277,
          2013.0709878410564,
          2011.1104523111012,
          2010.8751880475065,
          2012.9664259461256,
          2012.7274267316438,
          2013.7610963476006,
          2012.9664259461256,
          2011.3979975221612,
          2012.9664259461256,
          2011.2934356272303,
          2012.9664259461256,
          2014.979988995476,
          2015.743125620678,
          2013.6356220736836,
          2019.5887489996824,
          2016.6957304907328,
          2012.9664259461256,
          2012.442186064748,
          2009.8818500456623,
          2016.103282794054,
          2011.1714474468902,
          2014.0747820323936,
          2012.2344926816088,
          2017.1489017433635,
          2013.1598654517477,
          2012.6527402613326,
          2010.8751880475065,
          2011.5025594170922,
          2012.6597103572487,
          2014.0747820323936,
          2013.7767806318404,
          2009.620445308335,
          2011.3352603852027,
          2016.850063847651,
          2012.910658905083,
          2014.0120448954349,
          2015.4131742875097,
          2011.049457175312,
          2023.4226154392206,
          2011.920806996816,
          2015.944348713759,
          2011.3310779094054,
          2012.4900879600539,
          2014.4093800961725,
          2012.7921568183199,
          2014.9321895708274,
          2017.1489017433635,
          2011.7639641544195,
          2010.2033778725752,
          2012.7207054930377,
          2012.0114266086769,
          2013.7663244423472,
          2013.3149662929745,
          2009.829569098197,
          2011.6419759740793,
          2015.454999045482,
          2014.0120448954349,
          2012.7573021562637,
          2013.0640177451403,
          2015.0576638447444,
          2012.2763174395811,
          2014.7126095914723,
          2010.4508403268323,
          2012.0834592980948,
          2012.600459313867,
          2011.3108619126394,
          2015.998720899123,
          2011.8685260493505,
          2013.0849301241265,
          2012.9664259461256,
          2014.4302924751587,
          2012.292001723821,
          2014.0294021699935,
          2013.9702201374625,
          2014.2295336368913,
          2016.103282794054,
          2014.0120448954349,
          2010.59635702477,
          2012.9664259461256,
          2009.8818500456623,
          2009.498457127995,
          2011.5025594170922,
          2011.6881567805947,
          2010.822907100041,
          2015.0576638447444,
          2012.9664259461256,
          2011.7116832069541,
          2014.5348543700898,
          2011.5443841750646,
          2011.920806996816,
          2015.3945852738289,
          2011.920806996816,
          2012.9402854723928,
          2014.3623272434536,
          2013.115426646402,
          2012.4436164714707,
          2012.7050212087981,
          2012.3390545765399,
          2015.0576638447444,
          2014.4070567308672,
          2011.4607346591197,
          2013.724499684375,
          2012.7573021562637,
          2013.4421825680613,
          2017.2069921497114,
          2013.3777034299333,
          2011.4502784696267,
          2010.7706261525755,
          2014.313183152836,
          2014.0120448954349,
          2011.8232151978011,
          2011.920806996816,
          2016.2426972598034,
          2012.8043550089826,
          2011.4685768012396,
          2012.01969327209,
          2011.5443841750646,
          2013.3846735258494,
          2015.7530004460352,
          2012.0044565127607,
          2016.9397779535016,
          2014.0120448954349,
          2011.2411546797648,
          2015.3242966768184,
          2012.9873383251118,
          2013.2461290150657,
          2013.0361331790002,
          2012.0201407970003,
          2015.0576638447444,
          2016.5215303737778,
          2018.8218920622587,
          2015.9725804253903,
          2011.5112736054157,
          2016.103282794054,
          2014.3187604843117,
          2014.8485400548825,
          2010.8751880475065,
          2012.522037892669,
          2009.9864119405934,
          2016.103282794054,
          2015.2667876346063,
          2012.8967877241014,
          2012.9664259461256,
          2014.4302924751587,
          2012.7632768229398,
          2014.4790873290472,
          2012.8304954827152,
          2011.032030889903,
          2014.0120448954349,
          2011.1052242163546,
          2012.9664259461256,
          2011.5903914088342,
          2011.0058904161701,
          2012.9664259461256,
          2013.3804910500521,
          2012.9664259461256,
          2016.8979531955292,
          2015.0576638447444,
          2016.9397779535016,
          2014.0036799438406,
          2014.6394162650206,
          2014.609540840401,
          2010.4569404677827,
          2016.9072466567507,
          2013.7680308924726,
          2010.232132393681,
          2011.6768285448977,
          2011.2681671997013,
          2021.3313775406016,
          2013.8088957722493,
          2012.8287534815456,
          2013.745412063361,
          2013.295795915158,
          2017.6717112180183,
          2012.9664259461256,
          2014.4302924751587,
          2011.5384095083882,
          2011.6123494067697,
          2017.985396902811,
          2014.4250643804123,
          2012.9664259461256,
          2009.9515572785372,
          2009.829569098197,
          2009.3808249961976,
          2014.3606542531347,
          2011.8214731966316,
          2013.2226025887062,
          2013.9231672847436,
          2014.5049496681395,
          2011.2725232482442,
          2012.9664259461256,
          2015.0576638447444,
          2013.716948224323,
          2012.9664259461256,
          2012.9664259461256,
          2013.900512904588,
          2011.5025594170922,
          2012.4436164714707,
          2014.0120448954349,
          2013.593797315711,
          2012.039311174817,
          2013.7431723475715,
          2011.528699890825,
          2012.4436164714707,
          2013.802921105573,
          2015.0576638447444,
          2012.8967187132507,
          2013.4892354207802,
          2011.7116832069541,
          2012.9664259461256,
          2014.5975915070483,
          2012.9664259461256,
          2014.9531019498136,
          2012.852901005561,
          2011.4398222801335,
          2019.0310158521206,
          2014.1532034535917,
          2013.4735511365407,
          2015.0576638447444,
          2014.0120448954349,
          2012.2867736290743,
          2019.2401396419825,
          2011.920806996816,
          2014.3675553382002,
          2012.0515093654797,
          2014.8955929076014,
          2013.5362882734992,
          2013.154637357001,
          2016.1921604047452,
          2011.2097861112854,
          2012.9664259461256,
          2014.1113786956194,
          2014.4668891383847,
          2012.9664259461256,
          2011.920806996816,
          2015.5804733193993,
          2015.4062732024443,
          2013.6826749264026,
          2013.9144530964202,
          2012.9664259461256,
          2012.6144015969373,
          2012.9664259461256,
          2015.0576638447444,
          2010.5615023627136,
          2015.8418780567267,
          2012.6265997875998,
          2017.1489017433635,
          2011.528699890825,
          2015.4079461927631,
          2013.7506401581077,
          2014.6115337901183,
          2011.30911991147,
          2009.5420238871368,
          2012.1020483117757,
          2010.8751880475065,
          2015.941211856911,
          2013.0500754620703,
          2012.6109155033603,
          2013.5589426536549,
          2011.0843118373684,
          2014.1514363575675,
          2021.1919609836143,
          2011.1888737322993,
          2015.0344511040698,
          2016.0353175623488,
          2011.5374140791484,
          2013.1476672610852,
          2015.965261092745,
          2022.0865465494098,
          2012.0776498392124,
          2016.103282794054,
          2012.9664259461256,
          2012.3480176221733,
          2015.8732466252059,
          2013.802921105573,
          2019.2401396419825,
          2010.9274689949718,
          2010.613783310179,
          2015.0576638447444,
          2010.754941868336,
          2014.2734496327623,
          2012.9664259461256,
          2017.2534636382945,
          2012.5969732202902,
          2014.0120448954349,
          2015.2807299176766,
          2015.9725804253903,
          2011.1888737322993,
          2013.7215949549336,
          2013.1755497359875,
          2013.8830845279408,
          2011.9417193758022,
          2012.1037903129452,
          2010.8438194790272,
          2013.1044476474344,
          2015.0576638447444,
          2012.5481783664018,
          2010.8751880475065,
          2011.4328521842174,
          2016.6365484582018,
          2012.5481783664018,
          2012.9664259461256,
          2012.8874231607915,
          2012.3390545765399,
          2014.4790873290472,
          2013.2278306834528,
          2012.3651950502724,
          2018.1248134597984,
          2011.363142860105,
          2010.5615023627136,
          2014.5023230733389,
          2013.4404405668918,
          2012.0044565127607,
          2021.0699728032741,
          2011.1888737322993,
          2016.2148147849011,
          2012.0881060287054,
          2010.8534036223166,
          2015.0576638447444,
          2011.7639641544195,
          2011.412935234471,
          2014.9321895708274,
          2010.8751880475065,
          2012.5063536084292,
          2015.7530004460352,
          2010.4290579928804,
          2016.7149698794,
          2012.9664259461256,
          2014.883394716939,
          2012.6178855992764,
          2013.5101477997664,
          2010.71834520511,
          2012.4687113262542,
          2014.461661043638,
          2014.404898573356,
          2013.9205532373703,
          2010.2478166779208,
          2011.7827852955072,
          2013.5467444629924,
          2012.0881060287054,
          2012.4645288504569,
          2011.816245101885,
          2011.920806996816,
          2017.4974399989749,
          2013.4766879933886,
          2009.4113215184732,
          2014.0120448954349,
          2012.9664259461256,
          2012.0515093654797,
          2012.5743188401343,
          2013.199076162347,
          2014.2211686852968,
          2010.583460360649,
          2010.5447724595247,
          2012.995703276706,
          2013.4892354207802,
          2013.7610963476006,
          2014.799745200994,
          2011.9051227125763,
          2014.4900412331601,
          2017.4595990491991,
          2016.8101212037873,
          2011.8510997639412,
          2012.9664259461256,
          2013.0709878410564,
          2010.6660642576446,
          2013.3079941058206,
          2010.8751880475065,
          2013.9754482322091,
          2011.3422304811188,
          2012.6378025490228,
          2016.3356423282075,
          2014.0120448954349,
          2014.0120448954349,
          2012.8618640511945,
          2013.593797315711,
          2012.4436164714707,
          2013.9911325164487,
          2011.1496630217002,
          2014.0120448954349,
          2014.5505386543293,
          2013.316708294144,
          2015.894159004192,
          2012.694565019305,
          2011.3979975221612,
          2012.1822117341433,
          2009.9167047077187,
          2012.0755586013138,
          2013.2278306834528,
          2016.5372146580175,
          2013.724499684375,
          2012.9664259461256,
          2018.3687898204787,
          2016.103282794054,
          2011.8946665230833,
          2013.1755497359875,
          2012.0851176497483,
          2016.4012841946071,
          2013.3219363888907,
          2011.4467923760496,
          2012.0567374602263,
          2014.0120448954349,
          2013.6147096946975,
          2010.5275197468611,
          2012.9120537607614,
          2013.6595228316269,
          2014.4302924751587,
          2012.9664259461256,
          2012.5063536084292,
          2011.99980978215,
          2012.101176265572,
          2013.3323925783839,
          2011.099996121608,
          2015.001896803702,
          2011.920806996816,
          2009.725007203266,
          2014.0800101271402,
          2014.7596624441912,
          2011.4398222801335,
          2012.1822117341433,
          2012.9664259461256,
          2011.9417193758022,
          2013.1755497359875,
          2010.4830809415155,
          2015.0576638447444,
          2010.7009189197008,
          2016.56335513175,
          2012.025368891747,
          2013.515375894513,
          2013.2801116309183,
          2013.4145782277994,
          2015.8863168620724,
          2014.0747820323936,
          2011.5025594170922,
          2012.143873069748,
          2016.103282794054,
          2014.0120448954349,
          2015.0576638447444,
          2013.3846735258494,
          2009.4113215184732,
          2012.039311174817,
          2012.3076860080605,
          2011.6594022594886,
          2012.9664259461256,
          2015.7895971092612,
          2013.4874934196107,
          2013.3480768626234,
          2014.0120448954349,
          2012.9559697566324,
          2011.7116832069541,
          2011.8763681914704,
          2018.194520692673,
          2013.593797315711,
          2010.6660642576446,
          2013.8656582425317,
          2019.50154437931,
          2014.498257706864,
          2016.103282794054,
          2020.285758591292,
          2011.4502784696267,
          2016.416968478847,
          2014.6161805207291,
          2014.7439781599517,
          2014.869452433869,
          2014.116606790366,
          2011.2411546797648,
          2011.167961353313,
          2014.0120448954349,
          2011.852841765111,
          2013.593797315711,
          2011.9940003232675,
          2013.1616074529172,
          2011.6818830668988,
          2013.3323925783839,
          2014.0120448954349,
          2013.836380911951,
          2014.9053025251649,
          2013.1058425031126,
          2016.103282794054,
          2014.0817521283097,
          2012.8200392932222,
          2012.129930786678,
          2017.6717112180183,
          2011.7291094923632,
          2013.9191019182688,
          2013.907483000504,
          2014.2394670169099,
          2011.3472097185554,
          2014.270835585389,
          2018.194520692673,
          2011.1888737322993,
          2012.6527402613326,
          2014.116606790366,
          2014.4851874699975,
          2015.5804733193993,
          2010.2478166779208,
          2013.4892354207802,
          2011.920806996816,
          2013.4081999522086,
          2010.6869766366308,
          2013.8238334845594,
          2012.058828698125,
          2011.1888737322993,
          2015.0576638447444,
          2010.8751880475065,
          2018.194520692673,
          2010.347150478105,
          2014.5348543700898,
          2011.924989472613,
          2013.795951009657,
          2011.920806996816,
          2011.920806996816,
          2013.2591992519322,
          2012.9664259461256,
          2013.8761144320247,
          2014.5270122279699,
          2014.6185038860344,
          2016.103282794054,
          2012.2240364921158,
          2011.5025594170922,
          2014.1009225061264,
          2018.3687898204787,
          2010.5280425563358,
          2012.3390545765399,
          2016.103282794054,
          2013.4892354207802,
          2011.5548403645575,
          2012.8618640511945,
          2011.920806996816,
          2010.6007130733126,
          2013.7506401581077,
          2010.9274689949718,
          2010.7371663461977,
          2012.093334123452,
          2014.6916972124861,
          2011.8836875241154,
          2012.9664259461256,
          2014.0120448954349,
          2012.9664259461256,
          2012.7782145352498,
          2012.7938988194894,
          2012.9638118987523,
          2012.1822117341433,
          2014.184572022071,
          2011.7116832069541,
          2013.8107632476929,
          2012.9664259461256,
          2012.9664259461256,
          2012.9664259461256,
          2012.9664259461256,
          2013.3846735258494,
          2012.129930786678,
          2012.3390545765399,
          2014.8485400548825,
          2012.9664259461256,
          2011.4168876740994,
          2013.802921105573,
          2013.0361331790002,
          2010.923112946429,
          2013.79246491608,
          2012.9664259461256,
          2014.0120448954349,
          2010.613783310179,
          2013.0579176041902
         ]
        }
       ],
       "layout": {
        "legend": {
         "tracegroupgap": 0
        },
        "template": {
         "data": {
          "bar": [
           {
            "error_x": {
             "color": "#2a3f5f"
            },
            "error_y": {
             "color": "#2a3f5f"
            },
            "marker": {
             "line": {
              "color": "#E5ECF6",
              "width": 0.5
             },
             "pattern": {
              "fillmode": "overlay",
              "size": 10,
              "solidity": 0.2
             }
            },
            "type": "bar"
           }
          ],
          "barpolar": [
           {
            "marker": {
             "line": {
              "color": "#E5ECF6",
              "width": 0.5
             },
             "pattern": {
              "fillmode": "overlay",
              "size": 10,
              "solidity": 0.2
             }
            },
            "type": "barpolar"
           }
          ],
          "carpet": [
           {
            "aaxis": {
             "endlinecolor": "#2a3f5f",
             "gridcolor": "white",
             "linecolor": "white",
             "minorgridcolor": "white",
             "startlinecolor": "#2a3f5f"
            },
            "baxis": {
             "endlinecolor": "#2a3f5f",
             "gridcolor": "white",
             "linecolor": "white",
             "minorgridcolor": "white",
             "startlinecolor": "#2a3f5f"
            },
            "type": "carpet"
           }
          ],
          "choropleth": [
           {
            "colorbar": {
             "outlinewidth": 0,
             "ticks": ""
            },
            "type": "choropleth"
           }
          ],
          "contour": [
           {
            "colorbar": {
             "outlinewidth": 0,
             "ticks": ""
            },
            "colorscale": [
             [
              0,
              "#0d0887"
             ],
             [
              0.1111111111111111,
              "#46039f"
             ],
             [
              0.2222222222222222,
              "#7201a8"
             ],
             [
              0.3333333333333333,
              "#9c179e"
             ],
             [
              0.4444444444444444,
              "#bd3786"
             ],
             [
              0.5555555555555556,
              "#d8576b"
             ],
             [
              0.6666666666666666,
              "#ed7953"
             ],
             [
              0.7777777777777778,
              "#fb9f3a"
             ],
             [
              0.8888888888888888,
              "#fdca26"
             ],
             [
              1,
              "#f0f921"
             ]
            ],
            "type": "contour"
           }
          ],
          "contourcarpet": [
           {
            "colorbar": {
             "outlinewidth": 0,
             "ticks": ""
            },
            "type": "contourcarpet"
           }
          ],
          "heatmap": [
           {
            "colorbar": {
             "outlinewidth": 0,
             "ticks": ""
            },
            "colorscale": [
             [
              0,
              "#0d0887"
             ],
             [
              0.1111111111111111,
              "#46039f"
             ],
             [
              0.2222222222222222,
              "#7201a8"
             ],
             [
              0.3333333333333333,
              "#9c179e"
             ],
             [
              0.4444444444444444,
              "#bd3786"
             ],
             [
              0.5555555555555556,
              "#d8576b"
             ],
             [
              0.6666666666666666,
              "#ed7953"
             ],
             [
              0.7777777777777778,
              "#fb9f3a"
             ],
             [
              0.8888888888888888,
              "#fdca26"
             ],
             [
              1,
              "#f0f921"
             ]
            ],
            "type": "heatmap"
           }
          ],
          "heatmapgl": [
           {
            "colorbar": {
             "outlinewidth": 0,
             "ticks": ""
            },
            "colorscale": [
             [
              0,
              "#0d0887"
             ],
             [
              0.1111111111111111,
              "#46039f"
             ],
             [
              0.2222222222222222,
              "#7201a8"
             ],
             [
              0.3333333333333333,
              "#9c179e"
             ],
             [
              0.4444444444444444,
              "#bd3786"
             ],
             [
              0.5555555555555556,
              "#d8576b"
             ],
             [
              0.6666666666666666,
              "#ed7953"
             ],
             [
              0.7777777777777778,
              "#fb9f3a"
             ],
             [
              0.8888888888888888,
              "#fdca26"
             ],
             [
              1,
              "#f0f921"
             ]
            ],
            "type": "heatmapgl"
           }
          ],
          "histogram": [
           {
            "marker": {
             "pattern": {
              "fillmode": "overlay",
              "size": 10,
              "solidity": 0.2
             }
            },
            "type": "histogram"
           }
          ],
          "histogram2d": [
           {
            "colorbar": {
             "outlinewidth": 0,
             "ticks": ""
            },
            "colorscale": [
             [
              0,
              "#0d0887"
             ],
             [
              0.1111111111111111,
              "#46039f"
             ],
             [
              0.2222222222222222,
              "#7201a8"
             ],
             [
              0.3333333333333333,
              "#9c179e"
             ],
             [
              0.4444444444444444,
              "#bd3786"
             ],
             [
              0.5555555555555556,
              "#d8576b"
             ],
             [
              0.6666666666666666,
              "#ed7953"
             ],
             [
              0.7777777777777778,
              "#fb9f3a"
             ],
             [
              0.8888888888888888,
              "#fdca26"
             ],
             [
              1,
              "#f0f921"
             ]
            ],
            "type": "histogram2d"
           }
          ],
          "histogram2dcontour": [
           {
            "colorbar": {
             "outlinewidth": 0,
             "ticks": ""
            },
            "colorscale": [
             [
              0,
              "#0d0887"
             ],
             [
              0.1111111111111111,
              "#46039f"
             ],
             [
              0.2222222222222222,
              "#7201a8"
             ],
             [
              0.3333333333333333,
              "#9c179e"
             ],
             [
              0.4444444444444444,
              "#bd3786"
             ],
             [
              0.5555555555555556,
              "#d8576b"
             ],
             [
              0.6666666666666666,
              "#ed7953"
             ],
             [
              0.7777777777777778,
              "#fb9f3a"
             ],
             [
              0.8888888888888888,
              "#fdca26"
             ],
             [
              1,
              "#f0f921"
             ]
            ],
            "type": "histogram2dcontour"
           }
          ],
          "mesh3d": [
           {
            "colorbar": {
             "outlinewidth": 0,
             "ticks": ""
            },
            "type": "mesh3d"
           }
          ],
          "parcoords": [
           {
            "line": {
             "colorbar": {
              "outlinewidth": 0,
              "ticks": ""
             }
            },
            "type": "parcoords"
           }
          ],
          "pie": [
           {
            "automargin": true,
            "type": "pie"
           }
          ],
          "scatter": [
           {
            "fillpattern": {
             "fillmode": "overlay",
             "size": 10,
             "solidity": 0.2
            },
            "type": "scatter"
           }
          ],
          "scatter3d": [
           {
            "line": {
             "colorbar": {
              "outlinewidth": 0,
              "ticks": ""
             }
            },
            "marker": {
             "colorbar": {
              "outlinewidth": 0,
              "ticks": ""
             }
            },
            "type": "scatter3d"
           }
          ],
          "scattercarpet": [
           {
            "marker": {
             "colorbar": {
              "outlinewidth": 0,
              "ticks": ""
             }
            },
            "type": "scattercarpet"
           }
          ],
          "scattergeo": [
           {
            "marker": {
             "colorbar": {
              "outlinewidth": 0,
              "ticks": ""
             }
            },
            "type": "scattergeo"
           }
          ],
          "scattergl": [
           {
            "marker": {
             "colorbar": {
              "outlinewidth": 0,
              "ticks": ""
             }
            },
            "type": "scattergl"
           }
          ],
          "scattermapbox": [
           {
            "marker": {
             "colorbar": {
              "outlinewidth": 0,
              "ticks": ""
             }
            },
            "type": "scattermapbox"
           }
          ],
          "scatterpolar": [
           {
            "marker": {
             "colorbar": {
              "outlinewidth": 0,
              "ticks": ""
             }
            },
            "type": "scatterpolar"
           }
          ],
          "scatterpolargl": [
           {
            "marker": {
             "colorbar": {
              "outlinewidth": 0,
              "ticks": ""
             }
            },
            "type": "scatterpolargl"
           }
          ],
          "scatterternary": [
           {
            "marker": {
             "colorbar": {
              "outlinewidth": 0,
              "ticks": ""
             }
            },
            "type": "scatterternary"
           }
          ],
          "surface": [
           {
            "colorbar": {
             "outlinewidth": 0,
             "ticks": ""
            },
            "colorscale": [
             [
              0,
              "#0d0887"
             ],
             [
              0.1111111111111111,
              "#46039f"
             ],
             [
              0.2222222222222222,
              "#7201a8"
             ],
             [
              0.3333333333333333,
              "#9c179e"
             ],
             [
              0.4444444444444444,
              "#bd3786"
             ],
             [
              0.5555555555555556,
              "#d8576b"
             ],
             [
              0.6666666666666666,
              "#ed7953"
             ],
             [
              0.7777777777777778,
              "#fb9f3a"
             ],
             [
              0.8888888888888888,
              "#fdca26"
             ],
             [
              1,
              "#f0f921"
             ]
            ],
            "type": "surface"
           }
          ],
          "table": [
           {
            "cells": {
             "fill": {
              "color": "#EBF0F8"
             },
             "line": {
              "color": "white"
             }
            },
            "header": {
             "fill": {
              "color": "#C8D4E3"
             },
             "line": {
              "color": "white"
             }
            },
            "type": "table"
           }
          ]
         },
         "layout": {
          "annotationdefaults": {
           "arrowcolor": "#2a3f5f",
           "arrowhead": 0,
           "arrowwidth": 1
          },
          "autotypenumbers": "strict",
          "coloraxis": {
           "colorbar": {
            "outlinewidth": 0,
            "ticks": ""
           }
          },
          "colorscale": {
           "diverging": [
            [
             0,
             "#8e0152"
            ],
            [
             0.1,
             "#c51b7d"
            ],
            [
             0.2,
             "#de77ae"
            ],
            [
             0.3,
             "#f1b6da"
            ],
            [
             0.4,
             "#fde0ef"
            ],
            [
             0.5,
             "#f7f7f7"
            ],
            [
             0.6,
             "#e6f5d0"
            ],
            [
             0.7,
             "#b8e186"
            ],
            [
             0.8,
             "#7fbc41"
            ],
            [
             0.9,
             "#4d9221"
            ],
            [
             1,
             "#276419"
            ]
           ],
           "sequential": [
            [
             0,
             "#0d0887"
            ],
            [
             0.1111111111111111,
             "#46039f"
            ],
            [
             0.2222222222222222,
             "#7201a8"
            ],
            [
             0.3333333333333333,
             "#9c179e"
            ],
            [
             0.4444444444444444,
             "#bd3786"
            ],
            [
             0.5555555555555556,
             "#d8576b"
            ],
            [
             0.6666666666666666,
             "#ed7953"
            ],
            [
             0.7777777777777778,
             "#fb9f3a"
            ],
            [
             0.8888888888888888,
             "#fdca26"
            ],
            [
             1,
             "#f0f921"
            ]
           ],
           "sequentialminus": [
            [
             0,
             "#0d0887"
            ],
            [
             0.1111111111111111,
             "#46039f"
            ],
            [
             0.2222222222222222,
             "#7201a8"
            ],
            [
             0.3333333333333333,
             "#9c179e"
            ],
            [
             0.4444444444444444,
             "#bd3786"
            ],
            [
             0.5555555555555556,
             "#d8576b"
            ],
            [
             0.6666666666666666,
             "#ed7953"
            ],
            [
             0.7777777777777778,
             "#fb9f3a"
            ],
            [
             0.8888888888888888,
             "#fdca26"
            ],
            [
             1,
             "#f0f921"
            ]
           ]
          },
          "colorway": [
           "#636efa",
           "#EF553B",
           "#00cc96",
           "#ab63fa",
           "#FFA15A",
           "#19d3f3",
           "#FF6692",
           "#B6E880",
           "#FF97FF",
           "#FECB52"
          ],
          "font": {
           "color": "#2a3f5f"
          },
          "geo": {
           "bgcolor": "white",
           "lakecolor": "white",
           "landcolor": "#E5ECF6",
           "showlakes": true,
           "showland": true,
           "subunitcolor": "white"
          },
          "hoverlabel": {
           "align": "left"
          },
          "hovermode": "closest",
          "mapbox": {
           "style": "light"
          },
          "paper_bgcolor": "white",
          "plot_bgcolor": "#E5ECF6",
          "polar": {
           "angularaxis": {
            "gridcolor": "white",
            "linecolor": "white",
            "ticks": ""
           },
           "bgcolor": "#E5ECF6",
           "radialaxis": {
            "gridcolor": "white",
            "linecolor": "white",
            "ticks": ""
           }
          },
          "scene": {
           "xaxis": {
            "backgroundcolor": "#E5ECF6",
            "gridcolor": "white",
            "gridwidth": 2,
            "linecolor": "white",
            "showbackground": true,
            "ticks": "",
            "zerolinecolor": "white"
           },
           "yaxis": {
            "backgroundcolor": "#E5ECF6",
            "gridcolor": "white",
            "gridwidth": 2,
            "linecolor": "white",
            "showbackground": true,
            "ticks": "",
            "zerolinecolor": "white"
           },
           "zaxis": {
            "backgroundcolor": "#E5ECF6",
            "gridcolor": "white",
            "gridwidth": 2,
            "linecolor": "white",
            "showbackground": true,
            "ticks": "",
            "zerolinecolor": "white"
           }
          },
          "shapedefaults": {
           "line": {
            "color": "#2a3f5f"
           }
          },
          "ternary": {
           "aaxis": {
            "gridcolor": "white",
            "linecolor": "white",
            "ticks": ""
           },
           "baxis": {
            "gridcolor": "white",
            "linecolor": "white",
            "ticks": ""
           },
           "bgcolor": "#E5ECF6",
           "caxis": {
            "gridcolor": "white",
            "linecolor": "white",
            "ticks": ""
           }
          },
          "title": {
           "x": 0.05
          },
          "xaxis": {
           "automargin": true,
           "gridcolor": "white",
           "linecolor": "white",
           "ticks": "",
           "title": {
            "standoff": 15
           },
           "zerolinecolor": "white",
           "zerolinewidth": 2
          },
          "yaxis": {
           "automargin": true,
           "gridcolor": "white",
           "linecolor": "white",
           "ticks": "",
           "title": {
            "standoff": 15
           },
           "zerolinecolor": "white",
           "zerolinewidth": 2
          }
         }
        },
        "title": {
         "text": "Predicted Prices on Beans (dry) - Retail"
        },
        "xaxis": {
         "anchor": "y",
         "domain": [
          0,
          1
         ],
         "title": {
          "text": "Year"
         }
        },
        "yaxis": {
         "anchor": "x",
         "domain": [
          0,
          1
         ],
         "title": {
          "text": "Price"
         }
        }
       }
      }
     },
     "metadata": {},
     "output_type": "display_data"
    }
   ],
   "source": [
    "scatter_test = px.scatter(x=X_test.flatten(), y=y_test.flatten(), title=f'Predicted Prices on {product}', labels={'x': 'Year', 'y': 'Price'})\n",
    "scatter_test.add_trace(go.Scatter(x=X_test.flatten(), y=y_pred_test.flatten(), mode='lines', name='Regression Line'))\n",
    "scatter_test.show()"
   ]
  },
  {
   "cell_type": "markdown",
   "metadata": {},
   "source": [
    "Looking at the output above, it appears that a general upwards trend was found in our model. This makes sense with our current understandings of food inflation costs. However, with the various scattering of data-points on our model due to many outliers, it appears to be very difficult to generalize values to years. To reduce the scattering, let's just take the median-value of each year so that we have easier visualization to work with."
   ]
  },
  {
   "cell_type": "code",
   "execution_count": null,
   "metadata": {},
   "outputs": [
    {
     "data": {
      "text/html": [
       "<div>\n",
       "<style scoped>\n",
       "    .dataframe tbody tr th:only-of-type {\n",
       "        vertical-align: middle;\n",
       "    }\n",
       "\n",
       "    .dataframe tbody tr th {\n",
       "        vertical-align: top;\n",
       "    }\n",
       "\n",
       "    .dataframe thead th {\n",
       "        text-align: right;\n",
       "    }\n",
       "</style>\n",
       "<table border=\"1\" class=\"dataframe\">\n",
       "  <thead>\n",
       "    <tr style=\"text-align: right;\">\n",
       "      <th></th>\n",
       "      <th>mp_year</th>\n",
       "      <th>mp_price</th>\n",
       "    </tr>\n",
       "  </thead>\n",
       "  <tbody>\n",
       "    <tr>\n",
       "      <th>0</th>\n",
       "      <td>2008</td>\n",
       "      <td>301.25000</td>\n",
       "    </tr>\n",
       "    <tr>\n",
       "      <th>1</th>\n",
       "      <td>2009</td>\n",
       "      <td>265.00000</td>\n",
       "    </tr>\n",
       "    <tr>\n",
       "      <th>2</th>\n",
       "      <td>2010</td>\n",
       "      <td>287.50000</td>\n",
       "    </tr>\n",
       "    <tr>\n",
       "      <th>3</th>\n",
       "      <td>2011</td>\n",
       "      <td>303.33330</td>\n",
       "    </tr>\n",
       "    <tr>\n",
       "      <th>4</th>\n",
       "      <td>2012</td>\n",
       "      <td>330.00000</td>\n",
       "    </tr>\n",
       "    <tr>\n",
       "      <th>5</th>\n",
       "      <td>2013</td>\n",
       "      <td>382.66665</td>\n",
       "    </tr>\n",
       "    <tr>\n",
       "      <th>6</th>\n",
       "      <td>2014</td>\n",
       "      <td>389.40000</td>\n",
       "    </tr>\n",
       "    <tr>\n",
       "      <th>7</th>\n",
       "      <td>2015</td>\n",
       "      <td>392.50000</td>\n",
       "    </tr>\n",
       "    <tr>\n",
       "      <th>8</th>\n",
       "      <td>2016</td>\n",
       "      <td>545.00000</td>\n",
       "    </tr>\n",
       "    <tr>\n",
       "      <th>9</th>\n",
       "      <td>2017</td>\n",
       "      <td>435.00000</td>\n",
       "    </tr>\n",
       "    <tr>\n",
       "      <th>10</th>\n",
       "      <td>2018</td>\n",
       "      <td>360.00000</td>\n",
       "    </tr>\n",
       "    <tr>\n",
       "      <th>11</th>\n",
       "      <td>2019</td>\n",
       "      <td>430.00000</td>\n",
       "    </tr>\n",
       "    <tr>\n",
       "      <th>12</th>\n",
       "      <td>2020</td>\n",
       "      <td>600.00000</td>\n",
       "    </tr>\n",
       "    <tr>\n",
       "      <th>13</th>\n",
       "      <td>2021</td>\n",
       "      <td>478.12500</td>\n",
       "    </tr>\n",
       "  </tbody>\n",
       "</table>\n",
       "</div>"
      ],
      "text/plain": [
       "    mp_year   mp_price\n",
       "0      2008  301.25000\n",
       "1      2009  265.00000\n",
       "2      2010  287.50000\n",
       "3      2011  303.33330\n",
       "4      2012  330.00000\n",
       "5      2013  382.66665\n",
       "6      2014  389.40000\n",
       "7      2015  392.50000\n",
       "8      2016  545.00000\n",
       "9      2017  435.00000\n",
       "10     2018  360.00000\n",
       "11     2019  430.00000\n",
       "12     2020  600.00000\n",
       "13     2021  478.12500"
      ]
     },
     "execution_count": 20,
     "metadata": {},
     "output_type": "execute_result"
    }
   ],
   "source": [
    "median_prices_per_year = product_subset.groupby('mp_year')['mp_price'].median().reset_index()\n",
    "median_prices_per_year"
   ]
  },
  {
   "cell_type": "code",
   "execution_count": null,
   "metadata": {},
   "outputs": [
    {
     "name": "stdout",
     "output_type": "stream",
     "text": [
      "R-squared value: 0.8256066173755379\n"
     ]
    },
    {
     "data": {
      "application/vnd.plotly.v1+json": {
       "config": {
        "plotlyServerURL": "https://plot.ly"
       },
       "data": [
        {
         "hovertemplate": "variable=Actual Price<br>Year=%{x}<br>Price=%{y}<extra></extra>",
         "legendgroup": "Actual Price",
         "marker": {
          "color": "#636efa",
          "symbol": "circle"
         },
         "mode": "markers",
         "name": "Actual Price",
         "orientation": "v",
         "showlegend": true,
         "type": "scatter",
         "x": [
          2021,
          2010,
          2017
         ],
         "xaxis": "x",
         "y": [
          478.125,
          287.5,
          435
         ],
         "yaxis": "y"
        },
        {
         "hovertemplate": "variable=Predicted Price<br>Year=%{x}<br>Price=%{y}<extra></extra>",
         "legendgroup": "Predicted Price",
         "marker": {
          "color": "#EF553B",
          "symbol": "circle"
         },
         "mode": "markers",
         "name": "Predicted Price",
         "orientation": "v",
         "showlegend": true,
         "type": "scatter",
         "x": [
          2021,
          2010,
          2017
         ],
         "xaxis": "x",
         "y": [
          531.5815960023174,
          307.4931267091524,
          450.0948798957106
         ],
         "yaxis": "y"
        }
       ],
       "layout": {
        "legend": {
         "title": {
          "text": "variable"
         },
         "tracegroupgap": 0
        },
        "template": {
         "data": {
          "bar": [
           {
            "error_x": {
             "color": "#2a3f5f"
            },
            "error_y": {
             "color": "#2a3f5f"
            },
            "marker": {
             "line": {
              "color": "#E5ECF6",
              "width": 0.5
             },
             "pattern": {
              "fillmode": "overlay",
              "size": 10,
              "solidity": 0.2
             }
            },
            "type": "bar"
           }
          ],
          "barpolar": [
           {
            "marker": {
             "line": {
              "color": "#E5ECF6",
              "width": 0.5
             },
             "pattern": {
              "fillmode": "overlay",
              "size": 10,
              "solidity": 0.2
             }
            },
            "type": "barpolar"
           }
          ],
          "carpet": [
           {
            "aaxis": {
             "endlinecolor": "#2a3f5f",
             "gridcolor": "white",
             "linecolor": "white",
             "minorgridcolor": "white",
             "startlinecolor": "#2a3f5f"
            },
            "baxis": {
             "endlinecolor": "#2a3f5f",
             "gridcolor": "white",
             "linecolor": "white",
             "minorgridcolor": "white",
             "startlinecolor": "#2a3f5f"
            },
            "type": "carpet"
           }
          ],
          "choropleth": [
           {
            "colorbar": {
             "outlinewidth": 0,
             "ticks": ""
            },
            "type": "choropleth"
           }
          ],
          "contour": [
           {
            "colorbar": {
             "outlinewidth": 0,
             "ticks": ""
            },
            "colorscale": [
             [
              0,
              "#0d0887"
             ],
             [
              0.1111111111111111,
              "#46039f"
             ],
             [
              0.2222222222222222,
              "#7201a8"
             ],
             [
              0.3333333333333333,
              "#9c179e"
             ],
             [
              0.4444444444444444,
              "#bd3786"
             ],
             [
              0.5555555555555556,
              "#d8576b"
             ],
             [
              0.6666666666666666,
              "#ed7953"
             ],
             [
              0.7777777777777778,
              "#fb9f3a"
             ],
             [
              0.8888888888888888,
              "#fdca26"
             ],
             [
              1,
              "#f0f921"
             ]
            ],
            "type": "contour"
           }
          ],
          "contourcarpet": [
           {
            "colorbar": {
             "outlinewidth": 0,
             "ticks": ""
            },
            "type": "contourcarpet"
           }
          ],
          "heatmap": [
           {
            "colorbar": {
             "outlinewidth": 0,
             "ticks": ""
            },
            "colorscale": [
             [
              0,
              "#0d0887"
             ],
             [
              0.1111111111111111,
              "#46039f"
             ],
             [
              0.2222222222222222,
              "#7201a8"
             ],
             [
              0.3333333333333333,
              "#9c179e"
             ],
             [
              0.4444444444444444,
              "#bd3786"
             ],
             [
              0.5555555555555556,
              "#d8576b"
             ],
             [
              0.6666666666666666,
              "#ed7953"
             ],
             [
              0.7777777777777778,
              "#fb9f3a"
             ],
             [
              0.8888888888888888,
              "#fdca26"
             ],
             [
              1,
              "#f0f921"
             ]
            ],
            "type": "heatmap"
           }
          ],
          "heatmapgl": [
           {
            "colorbar": {
             "outlinewidth": 0,
             "ticks": ""
            },
            "colorscale": [
             [
              0,
              "#0d0887"
             ],
             [
              0.1111111111111111,
              "#46039f"
             ],
             [
              0.2222222222222222,
              "#7201a8"
             ],
             [
              0.3333333333333333,
              "#9c179e"
             ],
             [
              0.4444444444444444,
              "#bd3786"
             ],
             [
              0.5555555555555556,
              "#d8576b"
             ],
             [
              0.6666666666666666,
              "#ed7953"
             ],
             [
              0.7777777777777778,
              "#fb9f3a"
             ],
             [
              0.8888888888888888,
              "#fdca26"
             ],
             [
              1,
              "#f0f921"
             ]
            ],
            "type": "heatmapgl"
           }
          ],
          "histogram": [
           {
            "marker": {
             "pattern": {
              "fillmode": "overlay",
              "size": 10,
              "solidity": 0.2
             }
            },
            "type": "histogram"
           }
          ],
          "histogram2d": [
           {
            "colorbar": {
             "outlinewidth": 0,
             "ticks": ""
            },
            "colorscale": [
             [
              0,
              "#0d0887"
             ],
             [
              0.1111111111111111,
              "#46039f"
             ],
             [
              0.2222222222222222,
              "#7201a8"
             ],
             [
              0.3333333333333333,
              "#9c179e"
             ],
             [
              0.4444444444444444,
              "#bd3786"
             ],
             [
              0.5555555555555556,
              "#d8576b"
             ],
             [
              0.6666666666666666,
              "#ed7953"
             ],
             [
              0.7777777777777778,
              "#fb9f3a"
             ],
             [
              0.8888888888888888,
              "#fdca26"
             ],
             [
              1,
              "#f0f921"
             ]
            ],
            "type": "histogram2d"
           }
          ],
          "histogram2dcontour": [
           {
            "colorbar": {
             "outlinewidth": 0,
             "ticks": ""
            },
            "colorscale": [
             [
              0,
              "#0d0887"
             ],
             [
              0.1111111111111111,
              "#46039f"
             ],
             [
              0.2222222222222222,
              "#7201a8"
             ],
             [
              0.3333333333333333,
              "#9c179e"
             ],
             [
              0.4444444444444444,
              "#bd3786"
             ],
             [
              0.5555555555555556,
              "#d8576b"
             ],
             [
              0.6666666666666666,
              "#ed7953"
             ],
             [
              0.7777777777777778,
              "#fb9f3a"
             ],
             [
              0.8888888888888888,
              "#fdca26"
             ],
             [
              1,
              "#f0f921"
             ]
            ],
            "type": "histogram2dcontour"
           }
          ],
          "mesh3d": [
           {
            "colorbar": {
             "outlinewidth": 0,
             "ticks": ""
            },
            "type": "mesh3d"
           }
          ],
          "parcoords": [
           {
            "line": {
             "colorbar": {
              "outlinewidth": 0,
              "ticks": ""
             }
            },
            "type": "parcoords"
           }
          ],
          "pie": [
           {
            "automargin": true,
            "type": "pie"
           }
          ],
          "scatter": [
           {
            "fillpattern": {
             "fillmode": "overlay",
             "size": 10,
             "solidity": 0.2
            },
            "type": "scatter"
           }
          ],
          "scatter3d": [
           {
            "line": {
             "colorbar": {
              "outlinewidth": 0,
              "ticks": ""
             }
            },
            "marker": {
             "colorbar": {
              "outlinewidth": 0,
              "ticks": ""
             }
            },
            "type": "scatter3d"
           }
          ],
          "scattercarpet": [
           {
            "marker": {
             "colorbar": {
              "outlinewidth": 0,
              "ticks": ""
             }
            },
            "type": "scattercarpet"
           }
          ],
          "scattergeo": [
           {
            "marker": {
             "colorbar": {
              "outlinewidth": 0,
              "ticks": ""
             }
            },
            "type": "scattergeo"
           }
          ],
          "scattergl": [
           {
            "marker": {
             "colorbar": {
              "outlinewidth": 0,
              "ticks": ""
             }
            },
            "type": "scattergl"
           }
          ],
          "scattermapbox": [
           {
            "marker": {
             "colorbar": {
              "outlinewidth": 0,
              "ticks": ""
             }
            },
            "type": "scattermapbox"
           }
          ],
          "scatterpolar": [
           {
            "marker": {
             "colorbar": {
              "outlinewidth": 0,
              "ticks": ""
             }
            },
            "type": "scatterpolar"
           }
          ],
          "scatterpolargl": [
           {
            "marker": {
             "colorbar": {
              "outlinewidth": 0,
              "ticks": ""
             }
            },
            "type": "scatterpolargl"
           }
          ],
          "scatterternary": [
           {
            "marker": {
             "colorbar": {
              "outlinewidth": 0,
              "ticks": ""
             }
            },
            "type": "scatterternary"
           }
          ],
          "surface": [
           {
            "colorbar": {
             "outlinewidth": 0,
             "ticks": ""
            },
            "colorscale": [
             [
              0,
              "#0d0887"
             ],
             [
              0.1111111111111111,
              "#46039f"
             ],
             [
              0.2222222222222222,
              "#7201a8"
             ],
             [
              0.3333333333333333,
              "#9c179e"
             ],
             [
              0.4444444444444444,
              "#bd3786"
             ],
             [
              0.5555555555555556,
              "#d8576b"
             ],
             [
              0.6666666666666666,
              "#ed7953"
             ],
             [
              0.7777777777777778,
              "#fb9f3a"
             ],
             [
              0.8888888888888888,
              "#fdca26"
             ],
             [
              1,
              "#f0f921"
             ]
            ],
            "type": "surface"
           }
          ],
          "table": [
           {
            "cells": {
             "fill": {
              "color": "#EBF0F8"
             },
             "line": {
              "color": "white"
             }
            },
            "header": {
             "fill": {
              "color": "#C8D4E3"
             },
             "line": {
              "color": "white"
             }
            },
            "type": "table"
           }
          ]
         },
         "layout": {
          "annotationdefaults": {
           "arrowcolor": "#2a3f5f",
           "arrowhead": 0,
           "arrowwidth": 1
          },
          "autotypenumbers": "strict",
          "coloraxis": {
           "colorbar": {
            "outlinewidth": 0,
            "ticks": ""
           }
          },
          "colorscale": {
           "diverging": [
            [
             0,
             "#8e0152"
            ],
            [
             0.1,
             "#c51b7d"
            ],
            [
             0.2,
             "#de77ae"
            ],
            [
             0.3,
             "#f1b6da"
            ],
            [
             0.4,
             "#fde0ef"
            ],
            [
             0.5,
             "#f7f7f7"
            ],
            [
             0.6,
             "#e6f5d0"
            ],
            [
             0.7,
             "#b8e186"
            ],
            [
             0.8,
             "#7fbc41"
            ],
            [
             0.9,
             "#4d9221"
            ],
            [
             1,
             "#276419"
            ]
           ],
           "sequential": [
            [
             0,
             "#0d0887"
            ],
            [
             0.1111111111111111,
             "#46039f"
            ],
            [
             0.2222222222222222,
             "#7201a8"
            ],
            [
             0.3333333333333333,
             "#9c179e"
            ],
            [
             0.4444444444444444,
             "#bd3786"
            ],
            [
             0.5555555555555556,
             "#d8576b"
            ],
            [
             0.6666666666666666,
             "#ed7953"
            ],
            [
             0.7777777777777778,
             "#fb9f3a"
            ],
            [
             0.8888888888888888,
             "#fdca26"
            ],
            [
             1,
             "#f0f921"
            ]
           ],
           "sequentialminus": [
            [
             0,
             "#0d0887"
            ],
            [
             0.1111111111111111,
             "#46039f"
            ],
            [
             0.2222222222222222,
             "#7201a8"
            ],
            [
             0.3333333333333333,
             "#9c179e"
            ],
            [
             0.4444444444444444,
             "#bd3786"
            ],
            [
             0.5555555555555556,
             "#d8576b"
            ],
            [
             0.6666666666666666,
             "#ed7953"
            ],
            [
             0.7777777777777778,
             "#fb9f3a"
            ],
            [
             0.8888888888888888,
             "#fdca26"
            ],
            [
             1,
             "#f0f921"
            ]
           ]
          },
          "colorway": [
           "#636efa",
           "#EF553B",
           "#00cc96",
           "#ab63fa",
           "#FFA15A",
           "#19d3f3",
           "#FF6692",
           "#B6E880",
           "#FF97FF",
           "#FECB52"
          ],
          "font": {
           "color": "#2a3f5f"
          },
          "geo": {
           "bgcolor": "white",
           "lakecolor": "white",
           "landcolor": "#E5ECF6",
           "showlakes": true,
           "showland": true,
           "subunitcolor": "white"
          },
          "hoverlabel": {
           "align": "left"
          },
          "hovermode": "closest",
          "mapbox": {
           "style": "light"
          },
          "paper_bgcolor": "white",
          "plot_bgcolor": "#E5ECF6",
          "polar": {
           "angularaxis": {
            "gridcolor": "white",
            "linecolor": "white",
            "ticks": ""
           },
           "bgcolor": "#E5ECF6",
           "radialaxis": {
            "gridcolor": "white",
            "linecolor": "white",
            "ticks": ""
           }
          },
          "scene": {
           "xaxis": {
            "backgroundcolor": "#E5ECF6",
            "gridcolor": "white",
            "gridwidth": 2,
            "linecolor": "white",
            "showbackground": true,
            "ticks": "",
            "zerolinecolor": "white"
           },
           "yaxis": {
            "backgroundcolor": "#E5ECF6",
            "gridcolor": "white",
            "gridwidth": 2,
            "linecolor": "white",
            "showbackground": true,
            "ticks": "",
            "zerolinecolor": "white"
           },
           "zaxis": {
            "backgroundcolor": "#E5ECF6",
            "gridcolor": "white",
            "gridwidth": 2,
            "linecolor": "white",
            "showbackground": true,
            "ticks": "",
            "zerolinecolor": "white"
           }
          },
          "shapedefaults": {
           "line": {
            "color": "#2a3f5f"
           }
          },
          "ternary": {
           "aaxis": {
            "gridcolor": "white",
            "linecolor": "white",
            "ticks": ""
           },
           "baxis": {
            "gridcolor": "white",
            "linecolor": "white",
            "ticks": ""
           },
           "bgcolor": "#E5ECF6",
           "caxis": {
            "gridcolor": "white",
            "linecolor": "white",
            "ticks": ""
           }
          },
          "title": {
           "x": 0.05
          },
          "xaxis": {
           "automargin": true,
           "gridcolor": "white",
           "linecolor": "white",
           "ticks": "",
           "title": {
            "standoff": 15
           },
           "zerolinecolor": "white",
           "zerolinewidth": 2
          },
          "yaxis": {
           "automargin": true,
           "gridcolor": "white",
           "linecolor": "white",
           "ticks": "",
           "title": {
            "standoff": 15
           },
           "zerolinecolor": "white",
           "zerolinewidth": 2
          }
         }
        },
        "title": {
         "text": "Actual vs. Predicted Prices for Beans (dry) - Retail"
        },
        "xaxis": {
         "anchor": "y",
         "domain": [
          0,
          1
         ],
         "title": {
          "text": "Year"
         }
        },
        "yaxis": {
         "anchor": "x",
         "domain": [
          0,
          1
         ],
         "title": {
          "text": "Price"
         }
        }
       }
      }
     },
     "metadata": {},
     "output_type": "display_data"
    }
   ],
   "source": [
    "median_prices_per_year = product_subset.groupby('mp_year')['mp_price'].median().reset_index()\n",
    "\n",
    "X = median_prices_per_year[['mp_year']]\n",
    "y = median_prices_per_year['mp_price']\n",
    "\n",
    "X_train, X_test, y_train, y_test = train_test_split(X, y, test_size=0.2, random_state=15)\n",
    "\n",
    "median_model = LinearRegression()\n",
    "median_model.fit(X_train, y_train)\n",
    "\n",
    "y_pred = median_model.predict(X_test)\n",
    "\n",
    "r2 = r2_score(y_test, y_pred)\n",
    "print(f'R-squared value: {r2}')\n",
    "\n",
    "prediction_df = pd.DataFrame({'mp_year': X_test['mp_year'], 'Actual Price': y_test, 'Predicted Price': y_pred})\n",
    "\n",
    "median_model_plot = px.scatter(prediction_df, y=['Actual Price', 'Predicted Price'], x='mp_year',\n",
    "                          title=f'Actual vs. Predicted Prices for {product}', labels={'value': 'Price', 'mp_year': 'Year'}).show()"
   ]
  },
  {
   "cell_type": "markdown",
   "metadata": {},
   "source": [
    "Looking at the new model, it appears that our values calculated through the median costs appears to be working better. The biggest difference between *actual* and *predicted* values is in the year 2021, with the other years being fairly close to their predicted values. Nonetheless, it does appear that the model is still predicting values to be gradually increasing as years progress, indicating that without fluctuations between months, it is safe to assume prices to generally increase as years increase. \n",
    "\n",
    "However, take the data seen with a *grain of salt*. While it is generally true that prices increase as years progress, this isn't always true for all food items. As seen in the plot before, there are certain years when items decrease in price despite being a higher year. Therefore, at the end of the day, individuals have to be the ones to make smart, educated choices on the cost of food with respect to the information that is presented."
   ]
  },
  {
   "cell_type": "markdown",
   "metadata": {},
   "source": [
    "# Interpret"
   ]
  },
  {
   "cell_type": "markdown",
   "metadata": {},
   "source": [
    "### Reflect on What You See"
   ]
  },
  {
   "cell_type": "markdown",
   "metadata": {},
   "source": [
    "Think about the following questions.\n",
    "\n",
    "1. How have rising food prices impacted your own consumption patterns and budget allocation for food?\n",
    "2. How might increasing food prices speak about income inequality and access to nutritious diets?\n",
    "3. What lessons can be drawn from historical instances of food price spikes, and how can they inform proactive measures to address future challenges related to increasing food costs?\n",
    "\n",
    "# Communicate\n",
    "\n",
    "Below are some writing prompts to help you reflect on the new information that is presented from the data. When we look at the evidence, think about what you perceive about the information. Is this perception based on what the evidence shows? If others were to view it, what perceptions might they have?\n",
    "\n",
    "- I used to think ____________________ but now I know ____________________. \n",
    "- I wish I knew more about ____________________. \n",
    "- This visualization reminds me of ____________________. \n",
    "- I really like ____________________."
   ]
  },
  {
   "cell_type": "markdown",
   "metadata": {},
   "source": [
    "[![Callysto.ca License](https://github.com/callysto/curriculum-notebooks/blob/master/callysto-notebook-banner-bottom.jpg?raw=true)](https://github.com/callysto/curriculum-notebooks/blob/master/LICENSE.md)"
   ]
  }
 ],
 "metadata": {
  "kernelspec": {
   "display_name": "Python 3",
   "language": "python",
   "name": "python3"
  },
  "language_info": {
   "codemirror_mode": {
    "name": "ipython",
    "version": 3
   },
   "file_extension": ".py",
   "mimetype": "text/x-python",
   "name": "python",
   "nbconvert_exporter": "python",
   "pygments_lexer": "ipython3",
   "version": "3.10.8"
  },
  "orig_nbformat": 4
 },
 "nbformat": 4,
 "nbformat_minor": 2
}
