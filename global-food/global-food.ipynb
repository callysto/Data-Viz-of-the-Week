{
 "cells": [
  {
   "cell_type": "markdown",
   "metadata": {},
   "source": [
    "![Callysto.ca Banner](https://github.com/callysto/curriculum-notebooks/blob/master/callysto-notebook-banner-top.jpg?raw=true)\n",
    "\n",
    "<a href=\"https://hub.callysto.ca/jupyter/hub/user-redirect/git-pull?repo=https%3A%2F%2Fgithub.com%2Fcallysto%2Fcurriculum-notebooks&branch=master&subPath=SocialStudies/HansardAnalysis/hansard-analysis.ipynb&depth=1\" target=\"_parent\"><img src=\"https://raw.githubusercontent.com/callysto/curriculum-notebooks/master/open-in-callysto-button.svg?sanitize=true\" width=\"123\" height=\"24\" alt=\"Open in Callysto\"/></a>"
   ]
  },
  {
   "cell_type": "markdown",
   "metadata": {},
   "source": [
    "# Callysto's Weekly Data Visualization\n"
   ]
  },
  {
   "cell_type": "markdown",
   "metadata": {},
   "source": [
    "## Global Food Prices"
   ]
  },
  {
   "cell_type": "markdown",
   "metadata": {},
   "source": [
    "### Recommended Grade levels: 5-9"
   ]
  },
  {
   "cell_type": "markdown",
   "metadata": {},
   "source": [
    "### Instructions\n",
    "\n",
    "Click \"Cell\" and select \"Run All\".\n",
    "\n",
    "This will import the data and run all the code, so you can see this week's data visualization. Scroll back to the top after you’ve run the cells.\n",
    "\n",
    "![instructions](https://github.com/callysto/data-viz-of-the-week/blob/main/images/instructions.png?raw=true)\n",
    "\n",
    "**You don't need to do any coding to view the visualizations**.\n",
    "\n",
    "The plots generated in this notebook are interactive. You can hover over and click on elements to see more information. \n",
    "\n",
    "Email contact@callysto.ca if you experience issues."
   ]
  },
  {
   "cell_type": "markdown",
   "metadata": {},
   "source": [
    "### About this Notebook\n",
    "\n",
    "Callysto's Weekly Data Visualization is a learning resource that aims to develop data literacy skills. We provide Grades 5-12 teachers and students with a data visualization, like a graph, to interpret. This companion resource walks learners through how the data visualization is created and interpreted by a data scientist. \n",
    "\n",
    "The steps of the data analysis process are listed below and applied to each weekly topic.\n",
    "\n",
    "1. Question - What are we trying to answer?\n",
    "2. Gather - Find the data source(s) you will need. \n",
    "3. Organize - Arrange the data, so that you can easily explore it. \n",
    "4. Explore - Examine the data to look for evidence to answer the question. This includes creating visualizations. \n",
    "5. Interpret - Describe what's happening in the data visualization. \n",
    "6. Communicate - Explain how the evidence answers the question. "
   ]
  },
  {
   "cell_type": "markdown",
   "metadata": {},
   "source": [
    "## Question\n",
    "\n",
    "What are the global food prices around the world, and how do fluctuations in global food prices impact economies and societies around the world?"
   ]
  },
  {
   "cell_type": "markdown",
   "metadata": {},
   "source": [
    "### Goal\n",
    "\n"
   ]
  },
  {
   "cell_type": "markdown",
   "metadata": {},
   "source": [
    "### Background\n",
    "\n"
   ]
  },
  {
   "cell_type": "markdown",
   "metadata": {},
   "source": [
    "## Gather"
   ]
  },
  {
   "cell_type": "markdown",
   "metadata": {},
   "source": [
    "Global food price data was collected through [Kaggle](https://www.kaggle.com/datasets/lasaljaywardena/global-food-prices-dataset?resource=download), which is sourced by the [WFP](https://www.wfp.org/) (The World Food Program). The dataset is distributed by [HDX](https://data.humdata.org/). \n",
    "\n",
    "The dataset was too large to upload to Github, so it was split into 3 different csv files and then merged together later in this notebook."
   ]
  },
  {
   "cell_type": "markdown",
   "metadata": {},
   "source": [
    "### Code: "
   ]
  },
  {
   "cell_type": "markdown",
   "metadata": {},
   "source": [
    "Run the code cells below to import the libraries we need for this project. Libraries are pre-made code that make it easier to analyze our data."
   ]
  },
  {
   "cell_type": "code",
   "execution_count": null,
   "metadata": {},
   "outputs": [],
   "source": [
    "import pandas as pd\n",
    "import plotly_express as px\n",
    "from plotly.subplots import make_subplots\n",
    "import plotly.graph_objects as go\n",
    "print(\"Libaries imported\")"
   ]
  },
  {
   "cell_type": "code",
   "execution_count": null,
   "metadata": {},
   "outputs": [],
   "source": [
    "data_types = {'adm1_name': str}\n",
    "global_food_prices= pd.read_csv('global_food_prices.csv', dtype=data_types)\n",
    "\n",
    "global_food_prices"
   ]
  },
  {
   "cell_type": "code",
   "execution_count": null,
   "metadata": {},
   "outputs": [],
   "source": [
    "global_food_prices.dtypes"
   ]
  },
  {
   "cell_type": "code",
   "execution_count": null,
   "metadata": {},
   "outputs": [],
   "source": [
    "count_of_food = global_food_prices['cm_name'].value_counts().nlargest(20)\n",
    "top_20 = pd.DataFrame({'cm_name': count_of_food.index, 'count': count_of_food.values})\n",
    "\n",
    "top_20_foods = px.bar(top_20, x='cm_name', y='count', title='Top 20 Foods by Highest Count', color='count', labels={\"count\":\"Count\", \"cm_name\":\"Foods\"})\n",
    "top_20_foods.show()"
   ]
  },
  {
   "cell_type": "code",
   "execution_count": null,
   "metadata": {},
   "outputs": [],
   "source": [
    "highest_year = global_food_prices['mp_year'].max()\n",
    "lowest_year = global_food_prices['mp_year'].min()\n",
    "print(f\"Highest Year: {highest_year}\")\n",
    "print(f\"Lowest Year: {lowest_year}\")"
   ]
  },
  {
   "cell_type": "code",
   "execution_count": null,
   "metadata": {},
   "outputs": [],
   "source": [
    "high_temp = global_food_prices[global_food_prices['mp_year'] == highest_year]\n",
    "low_temp = global_food_prices[global_food_prices['mp_year'] == lowest_year]\n",
    "\n",
    "top_20_foods_highest_year = high_temp['cm_name'].value_counts().nlargest(20)\n",
    "top_20_highest_year = pd.DataFrame({'cm_name': top_20_foods_highest_year.index, 'count': top_20_foods_highest_year.values})\n",
    "\n",
    "top_20_foods_lowest_year = low_temp['cm_name'].value_counts().nlargest(20)\n",
    "top_20_lowest_year = pd.DataFrame({'cm_name': top_20_foods_lowest_year.index, 'count': top_20_foods_lowest_year.values})\n",
    "\n",
    "high_low_fig = make_subplots(rows=2, cols=1, vertical_spacing=0.2)\n",
    "\n",
    "high_low_fig.add_trace(go.Bar(x=top_20_highest_year['cm_name'], y=top_20_highest_year['count'], name='Highest Year'), row=1, col=1)\n",
    "high_low_fig.add_trace(go.Bar(x=top_20_lowest_year['cm_name'], y=top_20_lowest_year['count'], name='Lowest Year'), row=2, col=1)\n",
    "\n",
    "high_low_fig.update_layout(title_text=f\"Top 20 Foods by Highest Count in Highest ({highest_year}) and Lowest ({lowest_year} Years\")\n",
    "high_low_fig.update_yaxes(title=\"Count\", row=1, col=1)\n",
    "high_low_fig.update_yaxes(title=\"Count\", row=2, col=1)\n",
    "\n",
    "\n",
    "high_low_fig.update_layout(height=800)\n",
    "\n",
    "high_low_fig.show()"
   ]
  },
  {
   "cell_type": "code",
   "execution_count": null,
   "metadata": {},
   "outputs": [],
   "source": [
    "global_food_prices['pt_name'].value_counts()"
   ]
  },
  {
   "cell_type": "code",
   "execution_count": null,
   "metadata": {},
   "outputs": [],
   "source": [
    "all_countries = global_food_prices['adm0_name'].unique()\n",
    "print(f\"Countries in the dataset: \\n{all_countries}\")"
   ]
  },
  {
   "cell_type": "code",
   "execution_count": null,
   "metadata": {},
   "outputs": [],
   "source": [
    "# Change user_country to any country found above\n",
    "# For example, instead of 'Japan', you can use 'Somalia'\n",
    "user_country = 'Japan'\n",
    "\n",
    "country_subset = global_food_prices[global_food_prices['adm0_name'] == user_country]\n",
    "\n",
    "indices_highest_prices = country_subset.groupby(['mp_year', 'mkt_name'])['mp_price'].idxmax()\n",
    "indices_lowest_prices = country_subset.groupby(['mp_year', 'mkt_name'])['mp_price'].idxmin()\n",
    "\n",
    "highest_prices_per_year_market = country_subset.loc[indices_highest_prices].reset_index(drop=True)\n",
    "lowest_prices_per_year_market = country_subset.loc[indices_lowest_prices].reset_index(drop=True)\n",
    "\n",
    "print(\"Highest Prices per Year and Market:\")\n",
    "display(highest_prices_per_year_market)\n",
    "\n",
    "print(\"\\nLowest Prices per Year and Market:\")\n",
    "display(lowest_prices_per_year_market)\n"
   ]
  },
  {
   "cell_type": "code",
   "execution_count": null,
   "metadata": {},
   "outputs": [],
   "source": [
    "# Filter the DataFrame for 'Millet - Retail' in the 'cm_name' column\n",
    "millet_retail_data = global_food_prices[global_food_prices['cm_name'] == 'Millet - Retail']\n",
    "\n",
    "# Get the indices of the rows with the highest prices for each country\n",
    "indices_highest_prices = millet_retail_data.groupby('adm0_name')['mp_price'].idxmax()\n",
    "\n",
    "millet_retail_highest_prices = millet_retail_data.loc[indices_highest_prices]\n",
    "millet_retail_highest_prices = millet_retail_highest_prices[millet_retail_highest_prices['mp_year']== 2021].reset_index(drop=True)\n",
    "millet_plots = px.scatter(millet_retail_highest_prices, x='adm0_name', y='mp_price', color='mp_price', title='Prices of Retail Millet in 2021', hover_data=['cur_name', 'mp_month']).show()"
   ]
  },
  {
   "cell_type": "markdown",
   "metadata": {},
   "source": [
    "While it is difficult to consistently convert the currencies, we can get a general overview of which prices are considered high and low as currencies do not fluctuate often. Let's use CAD to convert the currencies for simplicity's sake. As of August 2023, *Benin* has the highest cost at 4.6040 CAD while Cameroon has the lowest cost at 0.8905 CAD. The other countries hover from approximately 1.15 CAD to 1.75 CAD. "
   ]
  }
 ],
 "metadata": {
  "kernelspec": {
   "display_name": "Python 3",
   "language": "python",
   "name": "python3"
  },
  "language_info": {
   "codemirror_mode": {
    "name": "ipython",
    "version": 3
   },
   "file_extension": ".py",
   "mimetype": "text/x-python",
   "name": "python",
   "nbconvert_exporter": "python",
   "pygments_lexer": "ipython3",
   "version": "3.10.8"
  },
  "orig_nbformat": 4
 },
 "nbformat": 4,
 "nbformat_minor": 2
}
