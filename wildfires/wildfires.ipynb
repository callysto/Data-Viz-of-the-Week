{
 "cells": [
  {
   "attachments": {},
   "cell_type": "markdown",
   "metadata": {},
   "source": [
    "![Callysto.ca Banner](https://github.com/callysto/curriculum-notebooks/blob/master/callysto-notebook-banner-top.jpg?raw=true)"
   ]
  },
  {
   "attachments": {},
   "cell_type": "markdown",
   "metadata": {},
   "source": [
    "# Callysto’s Weekly Data Visualization\n",
    "\n",
    "## Wildfires\n",
    "\n",
    "### Recommended Grade levels: 9-12\n",
    "<br>"
   ]
  },
  {
   "attachments": {},
   "cell_type": "markdown",
   "metadata": {},
   "source": [
    "### Instructions\n",
    "\n",
    "Click \"Cell\" and select \"Run All\".\n",
    "\n",
    "This will import the data and run all the code, so you can see this week's data visualization. Scroll back to the top after you’ve run the cells.\n",
    "\n",
    "![instructions](https://github.com/callysto/data-viz-of-the-week/blob/main/images/instructions.png?raw=true)\n",
    "\n",
    "**You don't need to do any coding to view the visualizations**.\n",
    "\n",
    "The plots generated in this notebook are interactive. You can hover over and click on elements to see more information. \n",
    "\n",
    "Email contact@callysto.ca if you experience issues."
   ]
  },
  {
   "attachments": {},
   "cell_type": "markdown",
   "metadata": {},
   "source": [
    "### About this Notebook\n",
    "\n",
    "Callysto's Weekly Data Visualization is a learning resource that aims to develop data literacy skills. We provide Grades 5-12 teachers and students with a data visualization, like a graph, to interpret. This companion resource walks learners through how the data visualization is created and interpreted by a data scientist. \n",
    "\n",
    "The steps of the data analysis process are listed below and applied to each weekly topic.\n",
    "\n",
    "1. Question - What are we trying to answer?\n",
    "2. Gather - Find the data source(s) you will need. \n",
    "3. Organize - Arrange the data, so that you can easily explore it. \n",
    "4. Explore - Examine the data to look for evidence to answer the question. This includes creating visualizations. \n",
    "5. Interpret - Describe what's happening in the data visualization. \n",
    "6. Communicate - Explain how the evidence answers the question. "
   ]
  },
  {
   "attachments": {},
   "cell_type": "markdown",
   "metadata": {},
   "source": [
    "## Question\n",
    "\n",
    "What are the primary causes of wildfires and when do they occur?"
   ]
  },
  {
   "attachments": {},
   "cell_type": "markdown",
   "metadata": {},
   "source": [
    "### Goal\n",
    "\n",
    "Our goal is to show which natural disasters led to the greatest financial costs and use visualizations to discover any patterns to their impact.\n",
    "\n",
    "The dataset is taken from [Public Safety Canada](https://www.publicsafety.gc.ca/cnt/rsrcs/cndn-dsstr-dtbs/index-en.aspx), and contains information on Canadian natural disaster events from the years 1900 to 2019."
   ]
  },
  {
   "attachments": {},
   "cell_type": "markdown",
   "metadata": {},
   "source": [
    "### Background\n",
    "\n",
    "Weather events and natural diasters have the potential to cause huge amounts of damage to property. Have you ever wondered what the most expensive natural disasters and weather events are in Canada? We are going to explore the costliest natural disasters in the 2010 decade in this notebook. \n"
   ]
  },
  {
   "attachments": {},
   "cell_type": "markdown",
   "metadata": {},
   "source": [
    "## Gather"
   ]
  },
  {
   "attachments": {},
   "cell_type": "markdown",
   "metadata": {},
   "source": [
    "### Code: "
   ]
  },
  {
   "attachments": {},
   "cell_type": "markdown",
   "metadata": {},
   "source": [
    "Run the code cells below to import the libraries we need for this project. Libraries are pre-made code that make it easier to analyze our data."
   ]
  },
  {
   "cell_type": "code",
   "execution_count": 111,
   "metadata": {},
   "outputs": [],
   "source": [
    "import pandas as pd\n",
    "import plotly_express as px\n",
    "from plotly.subplots import make_subplots\n",
    "import plotly.graph_objects as go\n",
    "import warnings\n",
    "import matplotlib.pyplot as plt\n",
    "warnings.simplefilter(action='ignore', category=FutureWarning)"
   ]
  },
  {
   "cell_type": "code",
   "execution_count": 112,
   "metadata": {},
   "outputs": [],
   "source": [
    "areabygroup = pd.read_excel('https://raw.githubusercontent.com/callysto/data-files/main/data-viz-of-the-week/wildfires/areaburnedbygroup.xlsx', skiprows=1)\n",
    "areabymonth = pd.read_excel('https://raw.githubusercontent.com/callysto/data-files/main/data-viz-of-the-week/wildfires/areaburnedbymonth.xlsx', skiprows=1)\n",
    "areabyclass = pd.read_excel('https://raw.githubusercontent.com/callysto/data-files/main/data-viz-of-the-week/wildfires/areaburnedfireclass.xlsx', skiprows=1)\n",
    "numfiresbyclass = pd.read_excel('https://raw.githubusercontent.com/callysto/data-files/main/data-viz-of-the-week/wildfires/numfiresbyfiresize.xlsx', skiprows=1)\n",
    "numfiresbygroup = pd.read_excel('https://raw.githubusercontent.com/callysto/data-files/main/data-viz-of-the-week/wildfires/numfiresbygroup.xlsx')\n",
    "numfiresbymonth = pd.read_excel('https://raw.githubusercontent.com/callysto/data-files/main/data-viz-of-the-week/wildfires/numfiresbymonth.xlsx', skiprows=1)"
   ]
  },
  {
   "cell_type": "code",
   "execution_count": 113,
   "metadata": {},
   "outputs": [
    {
     "data": {
      "text/plain": [
       "Index([  'Jurisdiction',          'Cause', 'Data Qualifier',             1990,\n",
       "                   1991,             1992,             1993,             1994,\n",
       "                   1995,             1996,             1997,             1998,\n",
       "                   1999,             2000,             2001,             2002,\n",
       "                   2003,             2004,             2005,             2006,\n",
       "                   2007,             2008,             2009,             2010,\n",
       "                   2011,             2012,             2013,             2014,\n",
       "                   2015,             2016,             2017,             2018,\n",
       "                   2019,             2020,             2021],\n",
       "      dtype='object')"
      ]
     },
     "execution_count": 113,
     "metadata": {},
     "output_type": "execute_result"
    }
   ],
   "source": [
    "areabygroup.columns"
   ]
  },
  {
   "cell_type": "code",
   "execution_count": 114,
   "metadata": {},
   "outputs": [
    {
     "data": {
      "text/html": [
       "<div>\n",
       "<style scoped>\n",
       "    .dataframe tbody tr th:only-of-type {\n",
       "        vertical-align: middle;\n",
       "    }\n",
       "\n",
       "    .dataframe tbody tr th {\n",
       "        vertical-align: top;\n",
       "    }\n",
       "\n",
       "    .dataframe thead th {\n",
       "        text-align: right;\n",
       "    }\n",
       "</style>\n",
       "<table border=\"1\" class=\"dataframe\">\n",
       "  <thead>\n",
       "    <tr style=\"text-align: right;\">\n",
       "      <th></th>\n",
       "      <th>Jurisdiction</th>\n",
       "      <th>Fire size class</th>\n",
       "      <th>Data Qualifier</th>\n",
       "      <th>1990</th>\n",
       "      <th>1991</th>\n",
       "      <th>1992</th>\n",
       "      <th>1993</th>\n",
       "      <th>1994</th>\n",
       "      <th>1995</th>\n",
       "      <th>1996</th>\n",
       "      <th>...</th>\n",
       "      <th>2012</th>\n",
       "      <th>2013</th>\n",
       "      <th>2014</th>\n",
       "      <th>2015</th>\n",
       "      <th>2016</th>\n",
       "      <th>2017</th>\n",
       "      <th>2018</th>\n",
       "      <th>2019</th>\n",
       "      <th>2020</th>\n",
       "      <th>2021</th>\n",
       "    </tr>\n",
       "  </thead>\n",
       "  <tbody>\n",
       "    <tr>\n",
       "      <th>0</th>\n",
       "      <td>Alberta</td>\n",
       "      <td>0.11 - 1.0 ha</td>\n",
       "      <td>a</td>\n",
       "      <td>171.0</td>\n",
       "      <td>123.0</td>\n",
       "      <td>131.0</td>\n",
       "      <td>135.0</td>\n",
       "      <td>148.0</td>\n",
       "      <td>118.0</td>\n",
       "      <td>59.0</td>\n",
       "      <td>...</td>\n",
       "      <td>137.0</td>\n",
       "      <td>85.0</td>\n",
       "      <td>122.0</td>\n",
       "      <td>183.0</td>\n",
       "      <td>142.0</td>\n",
       "      <td>102.0</td>\n",
       "      <td>117.0</td>\n",
       "      <td>92.0</td>\n",
       "      <td>43.0</td>\n",
       "      <td>NaN</td>\n",
       "    </tr>\n",
       "    <tr>\n",
       "      <th>1</th>\n",
       "      <td>Alberta</td>\n",
       "      <td>1.1 - 10 ha</td>\n",
       "      <td>a</td>\n",
       "      <td>504.0</td>\n",
       "      <td>499.0</td>\n",
       "      <td>457.0</td>\n",
       "      <td>595.0</td>\n",
       "      <td>579.0</td>\n",
       "      <td>627.0</td>\n",
       "      <td>248.0</td>\n",
       "      <td>...</td>\n",
       "      <td>388.0</td>\n",
       "      <td>332.0</td>\n",
       "      <td>443.0</td>\n",
       "      <td>713.0</td>\n",
       "      <td>449.0</td>\n",
       "      <td>307.0</td>\n",
       "      <td>472.0</td>\n",
       "      <td>375.0</td>\n",
       "      <td>144.0</td>\n",
       "      <td>NaN</td>\n",
       "    </tr>\n",
       "    <tr>\n",
       "      <th>2</th>\n",
       "      <td>Alberta</td>\n",
       "      <td>10.1 - 100 ha</td>\n",
       "      <td>a</td>\n",
       "      <td>1768.0</td>\n",
       "      <td>1575.0</td>\n",
       "      <td>1179.0</td>\n",
       "      <td>1986.0</td>\n",
       "      <td>1721.0</td>\n",
       "      <td>1644.0</td>\n",
       "      <td>497.0</td>\n",
       "      <td>...</td>\n",
       "      <td>1249.0</td>\n",
       "      <td>2043.0</td>\n",
       "      <td>1461.0</td>\n",
       "      <td>3240.0</td>\n",
       "      <td>1875.0</td>\n",
       "      <td>1905.0</td>\n",
       "      <td>1740.0</td>\n",
       "      <td>1447.0</td>\n",
       "      <td>427.0</td>\n",
       "      <td>NaN</td>\n",
       "    </tr>\n",
       "    <tr>\n",
       "      <th>3</th>\n",
       "      <td>Alberta</td>\n",
       "      <td>100.1 - 1 000 ha</td>\n",
       "      <td>a</td>\n",
       "      <td>8179.0</td>\n",
       "      <td>2911.0</td>\n",
       "      <td>1731.0</td>\n",
       "      <td>6413.0</td>\n",
       "      <td>6407.0</td>\n",
       "      <td>3271.0</td>\n",
       "      <td>1207.0</td>\n",
       "      <td>...</td>\n",
       "      <td>7758.0</td>\n",
       "      <td>6435.0</td>\n",
       "      <td>3007.0</td>\n",
       "      <td>23604.0</td>\n",
       "      <td>5910.0</td>\n",
       "      <td>7966.0</td>\n",
       "      <td>4050.0</td>\n",
       "      <td>9659.0</td>\n",
       "      <td>648.0</td>\n",
       "      <td>NaN</td>\n",
       "    </tr>\n",
       "    <tr>\n",
       "      <th>4</th>\n",
       "      <td>Alberta</td>\n",
       "      <td>Up to 0.1 ha</td>\n",
       "      <td>a</td>\n",
       "      <td>74.0</td>\n",
       "      <td>47.0</td>\n",
       "      <td>63.0</td>\n",
       "      <td>35.0</td>\n",
       "      <td>22.0</td>\n",
       "      <td>17.0</td>\n",
       "      <td>9.0</td>\n",
       "      <td>...</td>\n",
       "      <td>28.0</td>\n",
       "      <td>20.0</td>\n",
       "      <td>27.0</td>\n",
       "      <td>36.0</td>\n",
       "      <td>27.0</td>\n",
       "      <td>25.0</td>\n",
       "      <td>28.0</td>\n",
       "      <td>20.0</td>\n",
       "      <td>15.0</td>\n",
       "      <td>NaN</td>\n",
       "    </tr>\n",
       "  </tbody>\n",
       "</table>\n",
       "<p>5 rows × 35 columns</p>\n",
       "</div>"
      ],
      "text/plain": [
       "  Jurisdiction   Fire size class Data Qualifier    1990    1991    1992  \\\n",
       "0      Alberta     0.11 - 1.0 ha              a   171.0   123.0   131.0   \n",
       "1      Alberta       1.1 - 10 ha              a   504.0   499.0   457.0   \n",
       "2      Alberta     10.1 - 100 ha              a  1768.0  1575.0  1179.0   \n",
       "3      Alberta  100.1 - 1 000 ha              a  8179.0  2911.0  1731.0   \n",
       "4      Alberta      Up to 0.1 ha              a    74.0    47.0    63.0   \n",
       "\n",
       "     1993    1994    1995    1996  ...    2012    2013    2014     2015  \\\n",
       "0   135.0   148.0   118.0    59.0  ...   137.0    85.0   122.0    183.0   \n",
       "1   595.0   579.0   627.0   248.0  ...   388.0   332.0   443.0    713.0   \n",
       "2  1986.0  1721.0  1644.0   497.0  ...  1249.0  2043.0  1461.0   3240.0   \n",
       "3  6413.0  6407.0  3271.0  1207.0  ...  7758.0  6435.0  3007.0  23604.0   \n",
       "4    35.0    22.0    17.0     9.0  ...    28.0    20.0    27.0     36.0   \n",
       "\n",
       "     2016    2017    2018    2019   2020  2021  \n",
       "0   142.0   102.0   117.0    92.0   43.0   NaN  \n",
       "1   449.0   307.0   472.0   375.0  144.0   NaN  \n",
       "2  1875.0  1905.0  1740.0  1447.0  427.0   NaN  \n",
       "3  5910.0  7966.0  4050.0  9659.0  648.0   NaN  \n",
       "4    27.0    25.0    28.0    20.0   15.0   NaN  \n",
       "\n",
       "[5 rows x 35 columns]"
      ]
     },
     "metadata": {},
     "output_type": "display_data"
    },
    {
     "data": {
      "text/html": [
       "<div>\n",
       "<style scoped>\n",
       "    .dataframe tbody tr th:only-of-type {\n",
       "        vertical-align: middle;\n",
       "    }\n",
       "\n",
       "    .dataframe tbody tr th {\n",
       "        vertical-align: top;\n",
       "    }\n",
       "\n",
       "    .dataframe thead th {\n",
       "        text-align: right;\n",
       "    }\n",
       "</style>\n",
       "<table border=\"1\" class=\"dataframe\">\n",
       "  <thead>\n",
       "    <tr style=\"text-align: right;\">\n",
       "      <th></th>\n",
       "      <th>Jurisdiction</th>\n",
       "      <th>Fire size class</th>\n",
       "      <th>Data Qualifier</th>\n",
       "      <th>1990</th>\n",
       "      <th>1991</th>\n",
       "      <th>1992</th>\n",
       "      <th>1993</th>\n",
       "      <th>1994</th>\n",
       "      <th>1995</th>\n",
       "      <th>1996</th>\n",
       "      <th>...</th>\n",
       "      <th>2012</th>\n",
       "      <th>2013</th>\n",
       "      <th>2014</th>\n",
       "      <th>2015</th>\n",
       "      <th>2016</th>\n",
       "      <th>2017</th>\n",
       "      <th>2018</th>\n",
       "      <th>2019</th>\n",
       "      <th>2020</th>\n",
       "      <th>2021</th>\n",
       "    </tr>\n",
       "  </thead>\n",
       "  <tbody>\n",
       "    <tr>\n",
       "      <th>0</th>\n",
       "      <td>Alberta</td>\n",
       "      <td>Up to 0.1 ha</td>\n",
       "      <td>a</td>\n",
       "      <td>743.0</td>\n",
       "      <td>465.0</td>\n",
       "      <td>626.0</td>\n",
       "      <td>351.0</td>\n",
       "      <td>395.0</td>\n",
       "      <td>318.0</td>\n",
       "      <td>187.0</td>\n",
       "      <td>...</td>\n",
       "      <td>1124.0</td>\n",
       "      <td>915.0</td>\n",
       "      <td>1012.0</td>\n",
       "      <td>1143.0</td>\n",
       "      <td>952.0</td>\n",
       "      <td>904.0</td>\n",
       "      <td>885.0</td>\n",
       "      <td>671.0</td>\n",
       "      <td>633.0</td>\n",
       "      <td>NaN</td>\n",
       "    </tr>\n",
       "    <tr>\n",
       "      <th>1</th>\n",
       "      <td>Alberta</td>\n",
       "      <td>0.11 - 1.0 ha</td>\n",
       "      <td>a</td>\n",
       "      <td>380.0</td>\n",
       "      <td>273.0</td>\n",
       "      <td>272.0</td>\n",
       "      <td>273.0</td>\n",
       "      <td>292.0</td>\n",
       "      <td>240.0</td>\n",
       "      <td>114.0</td>\n",
       "      <td>...</td>\n",
       "      <td>308.0</td>\n",
       "      <td>192.0</td>\n",
       "      <td>290.0</td>\n",
       "      <td>426.0</td>\n",
       "      <td>329.0</td>\n",
       "      <td>257.0</td>\n",
       "      <td>284.0</td>\n",
       "      <td>212.0</td>\n",
       "      <td>110.0</td>\n",
       "      <td>NaN</td>\n",
       "    </tr>\n",
       "    <tr>\n",
       "      <th>2</th>\n",
       "      <td>Alberta</td>\n",
       "      <td>1.1 - 10 ha</td>\n",
       "      <td>a</td>\n",
       "      <td>160.0</td>\n",
       "      <td>149.0</td>\n",
       "      <td>122.0</td>\n",
       "      <td>170.0</td>\n",
       "      <td>167.0</td>\n",
       "      <td>173.0</td>\n",
       "      <td>78.0</td>\n",
       "      <td>...</td>\n",
       "      <td>114.0</td>\n",
       "      <td>95.0</td>\n",
       "      <td>131.0</td>\n",
       "      <td>188.0</td>\n",
       "      <td>133.0</td>\n",
       "      <td>83.0</td>\n",
       "      <td>122.0</td>\n",
       "      <td>103.0</td>\n",
       "      <td>38.0</td>\n",
       "      <td>NaN</td>\n",
       "    </tr>\n",
       "    <tr>\n",
       "      <th>3</th>\n",
       "      <td>Alberta</td>\n",
       "      <td>10.1 - 100 ha</td>\n",
       "      <td>a</td>\n",
       "      <td>54.0</td>\n",
       "      <td>44.0</td>\n",
       "      <td>32.0</td>\n",
       "      <td>56.0</td>\n",
       "      <td>51.0</td>\n",
       "      <td>53.0</td>\n",
       "      <td>12.0</td>\n",
       "      <td>...</td>\n",
       "      <td>41.0</td>\n",
       "      <td>52.0</td>\n",
       "      <td>49.0</td>\n",
       "      <td>85.0</td>\n",
       "      <td>50.0</td>\n",
       "      <td>48.0</td>\n",
       "      <td>56.0</td>\n",
       "      <td>42.0</td>\n",
       "      <td>14.0</td>\n",
       "      <td>NaN</td>\n",
       "    </tr>\n",
       "    <tr>\n",
       "      <th>4</th>\n",
       "      <td>Alberta</td>\n",
       "      <td>100.1 - 1 000 ha</td>\n",
       "      <td>a</td>\n",
       "      <td>23.0</td>\n",
       "      <td>12.0</td>\n",
       "      <td>9.0</td>\n",
       "      <td>21.0</td>\n",
       "      <td>17.0</td>\n",
       "      <td>12.0</td>\n",
       "      <td>5.0</td>\n",
       "      <td>...</td>\n",
       "      <td>20.0</td>\n",
       "      <td>15.0</td>\n",
       "      <td>9.0</td>\n",
       "      <td>55.0</td>\n",
       "      <td>16.0</td>\n",
       "      <td>23.0</td>\n",
       "      <td>16.0</td>\n",
       "      <td>29.0</td>\n",
       "      <td>3.0</td>\n",
       "      <td>NaN</td>\n",
       "    </tr>\n",
       "  </tbody>\n",
       "</table>\n",
       "<p>5 rows × 35 columns</p>\n",
       "</div>"
      ],
      "text/plain": [
       "  Jurisdiction   Fire size class Data Qualifier   1990   1991   1992   1993  \\\n",
       "0      Alberta      Up to 0.1 ha              a  743.0  465.0  626.0  351.0   \n",
       "1      Alberta     0.11 - 1.0 ha              a  380.0  273.0  272.0  273.0   \n",
       "2      Alberta       1.1 - 10 ha              a  160.0  149.0  122.0  170.0   \n",
       "3      Alberta     10.1 - 100 ha              a   54.0   44.0   32.0   56.0   \n",
       "4      Alberta  100.1 - 1 000 ha              a   23.0   12.0    9.0   21.0   \n",
       "\n",
       "    1994   1995   1996  ...    2012   2013    2014    2015   2016   2017  \\\n",
       "0  395.0  318.0  187.0  ...  1124.0  915.0  1012.0  1143.0  952.0  904.0   \n",
       "1  292.0  240.0  114.0  ...   308.0  192.0   290.0   426.0  329.0  257.0   \n",
       "2  167.0  173.0   78.0  ...   114.0   95.0   131.0   188.0  133.0   83.0   \n",
       "3   51.0   53.0   12.0  ...    41.0   52.0    49.0    85.0   50.0   48.0   \n",
       "4   17.0   12.0    5.0  ...    20.0   15.0     9.0    55.0   16.0   23.0   \n",
       "\n",
       "    2018   2019   2020  2021  \n",
       "0  885.0  671.0  633.0   NaN  \n",
       "1  284.0  212.0  110.0   NaN  \n",
       "2  122.0  103.0   38.0   NaN  \n",
       "3   56.0   42.0   14.0   NaN  \n",
       "4   16.0   29.0    3.0   NaN  \n",
       "\n",
       "[5 rows x 35 columns]"
      ]
     },
     "metadata": {},
     "output_type": "display_data"
    }
   ],
   "source": [
    "#display(areabygroup)\n",
    "#display(areabymonth.head())\n",
    "display(areabyclass.head())\n",
    "display(numfiresbyclass.head())\n",
    "#display(numfiresbygroup.head())\n",
    "#display(numfiresbymonth.head()) "
   ]
  },
  {
   "cell_type": "code",
   "execution_count": 115,
   "metadata": {},
   "outputs": [
    {
     "name": "stdout",
     "output_type": "stream",
     "text": [
      "{1990: '#a50026', 1991: '#b50f26', 1992: '#c51e26', 1993: '#d52e26', 1994: '#df412f', 1995: '#e85538', 1996: '#f26941', 1997: '#f67d4a', 1998: '#f99254', 1999: '#fca75e', 2000: '#fdb96b', 2001: '#fdc97a', 2002: '#fdd989', 2003: '#fee599', 2004: '#fef0a8', 2005: '#fefab7', 2006: '#fafdc8', 2007: '#f0f9da', 2008: '#e6f5ec', 2009: '#d9eff6', 2010: '#c8e7f1', 2011: '#b6deec', 2012: '#a5d4e6', 2013: '#93c6de', 2014: '#82b8d7', 2015: '#70a9cf', 2016: '#6197c5', 2017: '#5285bc', 2018: '#4472b3', 2019: '#3d5ea9', 2020: '#374a9f', 2021: '#313695'}\n"
     ]
    }
   ],
   "source": [
    "years = list(range(1990, 2022))\n",
    "\n",
    "# Generate a diverging color scheme from red to blue\n",
    "color_scheme = plt.cm.get_cmap('RdYlBu', len(years))\n",
    "\n",
    "color_map = {}\n",
    "\n",
    "for i, year in enumerate(years):\n",
    "    color = color_scheme(i)\n",
    "    hex_color = '#{:02x}{:02x}{:02x}'.format(int(color[0]*255), int(color[1]*255), int(color[2]*255))\n",
    "    color_map[year] = hex_color\n",
    "print(color_map)"
   ]
  },
  {
   "cell_type": "code",
   "execution_count": 116,
   "metadata": {},
   "outputs": [
    {
     "data": {
      "application/vnd.plotly.v1+json": {
       "config": {
        "plotlyServerURL": "https://plot.ly"
       },
       "data": [
        {
         "marker": {
          "color": "#a50026"
         },
         "name": "1990",
         "type": "bar",
         "x": [
          "Human activity",
          "Lightning",
          "Prescribed burn",
          "Reburn",
          "Unspecified"
         ],
         "xaxis": "x",
         "y": [
          124127,
          828079,
          0,
          0,
          1117
         ],
         "yaxis": "y"
        },
        {
         "marker": {
          "color": "#a50026"
         },
         "name": "1990",
         "type": "bar",
         "x": [
          "Human activity",
          "Lightning",
          "Prescribed burn",
          "Reburn",
          "Unspecified"
         ],
         "xaxis": "x2",
         "y": [
          4935,
          4944,
          0,
          0,
          131
         ],
         "yaxis": "y2"
        },
        {
         "marker": {
          "color": "#b50f26"
         },
         "name": "1991",
         "type": "bar",
         "x": [
          "Human activity",
          "Lightning",
          "Prescribed burn",
          "Reburn",
          "Unspecified"
         ],
         "xaxis": "x",
         "y": [
          134485,
          1410890,
          0,
          0,
          412
         ],
         "yaxis": "y"
        },
        {
         "marker": {
          "color": "#b50f26"
         },
         "name": "1991",
         "type": "bar",
         "x": [
          "Human activity",
          "Lightning",
          "Prescribed burn",
          "Reburn",
          "Unspecified"
         ],
         "xaxis": "x2",
         "y": [
          5743,
          4276,
          0,
          0,
          212
         ],
         "yaxis": "y2"
        },
        {
         "marker": {
          "color": "#c51e26"
         },
         "name": "1992",
         "type": "bar",
         "x": [
          "Human activity",
          "Lightning",
          "Prescribed burn",
          "Reburn",
          "Unspecified"
         ],
         "xaxis": "x",
         "y": [
          145841,
          702795,
          0,
          0,
          3190
         ],
         "yaxis": "y"
        },
        {
         "marker": {
          "color": "#c51e26"
         },
         "name": "1992",
         "type": "bar",
         "x": [
          "Human activity",
          "Lightning",
          "Prescribed burn",
          "Reburn",
          "Unspecified"
         ],
         "xaxis": "x2",
         "y": [
          4765,
          4075,
          0,
          0,
          154
         ],
         "yaxis": "y2"
        },
        {
         "marker": {
          "color": "#d52e26"
         },
         "name": "1993",
         "type": "bar",
         "x": [
          "Human activity",
          "Lightning",
          "Prescribed burn",
          "Reburn",
          "Unspecified"
         ],
         "xaxis": "x",
         "y": [
          153454,
          1789359,
          7400,
          0,
          139
         ],
         "yaxis": "y"
        },
        {
         "marker": {
          "color": "#d52e26"
         },
         "name": "1993",
         "type": "bar",
         "x": [
          "Human activity",
          "Lightning",
          "Prescribed burn",
          "Reburn",
          "Unspecified"
         ],
         "xaxis": "x2",
         "y": [
          3589,
          2273,
          2,
          0,
          113
         ],
         "yaxis": "y2"
        },
        {
         "marker": {
          "color": "#df412f"
         },
         "name": "1994",
         "type": "bar",
         "x": [
          "Human activity",
          "Lightning",
          "Prescribed burn",
          "Reburn",
          "Unspecified"
         ],
         "xaxis": "x",
         "y": [
          510721,
          5632460,
          17882,
          0,
          284
         ],
         "yaxis": "y"
        },
        {
         "marker": {
          "color": "#df412f"
         },
         "name": "1994",
         "type": "bar",
         "x": [
          "Human activity",
          "Lightning",
          "Prescribed burn",
          "Reburn",
          "Unspecified"
         ],
         "xaxis": "x2",
         "y": [
          4173,
          5323,
          28,
          0,
          155
         ],
         "yaxis": "y2"
        },
        {
         "marker": {
          "color": "#e85538"
         },
         "name": "1995",
         "type": "bar",
         "x": [
          "Human activity",
          "Lightning",
          "Prescribed burn",
          "Reburn",
          "Unspecified"
         ],
         "xaxis": "x",
         "y": [
          377085,
          6977955,
          15997,
          0,
          4322
         ],
         "yaxis": "y"
        },
        {
         "marker": {
          "color": "#e85538"
         },
         "name": "1995",
         "type": "bar",
         "x": [
          "Human activity",
          "Lightning",
          "Prescribed burn",
          "Reburn",
          "Unspecified"
         ],
         "xaxis": "x2",
         "y": [
          4742,
          3492,
          8,
          0,
          203
         ],
         "yaxis": "y2"
        },
        {
         "marker": {
          "color": "#f26941"
         },
         "name": "1996",
         "type": "bar",
         "x": [
          "Human activity",
          "Lightning",
          "Prescribed burn",
          "Reburn",
          "Unspecified"
         ],
         "xaxis": "x",
         "y": [
          42192,
          1815726,
          0,
          0,
          3831
         ],
         "yaxis": "y"
        },
        {
         "marker": {
          "color": "#f26941"
         },
         "name": "1996",
         "type": "bar",
         "x": [
          "Human activity",
          "Lightning",
          "Prescribed burn",
          "Reburn",
          "Unspecified"
         ],
         "xaxis": "x2",
         "y": [
          2890,
          3371,
          0,
          0,
          118
         ],
         "yaxis": "y2"
        },
        {
         "marker": {
          "color": "#f67d4a"
         },
         "name": "1997",
         "type": "bar",
         "x": [
          "Human activity",
          "Lightning",
          "Prescribed burn",
          "Reburn",
          "Unspecified"
         ],
         "xaxis": "x",
         "y": [
          28237,
          604036,
          0,
          0,
          475
         ],
         "yaxis": "y"
        },
        {
         "marker": {
          "color": "#f67d4a"
         },
         "name": "1997",
         "type": "bar",
         "x": [
          "Human activity",
          "Lightning",
          "Prescribed burn",
          "Reburn",
          "Unspecified"
         ],
         "xaxis": "x2",
         "y": [
          3301,
          2620,
          0,
          0,
          169
         ],
         "yaxis": "y2"
        },
        {
         "marker": {
          "color": "#f99254"
         },
         "name": "1998",
         "type": "bar",
         "x": [
          "Human activity",
          "Lightning",
          "Prescribed burn",
          "Reburn",
          "Unspecified"
         ],
         "xaxis": "x",
         "y": [
          328052,
          4385986,
          0,
          0,
          26994
         ],
         "yaxis": "y"
        },
        {
         "marker": {
          "color": "#f99254"
         },
         "name": "1998",
         "type": "bar",
         "x": [
          "Human activity",
          "Lightning",
          "Prescribed burn",
          "Reburn",
          "Unspecified"
         ],
         "xaxis": "x2",
         "y": [
          4423,
          6158,
          0,
          0,
          187
         ],
         "yaxis": "y2"
        },
        {
         "marker": {
          "color": "#fca75e"
         },
         "name": "1999",
         "type": "bar",
         "x": [
          "Human activity",
          "Lightning",
          "Prescribed burn",
          "Reburn",
          "Unspecified"
         ],
         "xaxis": "x",
         "y": [
          345879,
          1359676,
          11158,
          0,
          429
         ],
         "yaxis": "y"
        },
        {
         "marker": {
          "color": "#fca75e"
         },
         "name": "1999",
         "type": "bar",
         "x": [
          "Human activity",
          "Lightning",
          "Prescribed burn",
          "Reburn",
          "Unspecified"
         ],
         "xaxis": "x2",
         "y": [
          4069,
          3382,
          3,
          0,
          154
         ],
         "yaxis": "y2"
        },
        {
         "marker": {
          "color": "#fdb96b"
         },
         "name": "2000",
         "type": "bar",
         "x": [
          "Human activity",
          "Lightning",
          "Prescribed burn",
          "Reburn",
          "Unspecified"
         ],
         "xaxis": "x",
         "y": [
          35498,
          486257,
          18,
          0,
          112382
         ],
         "yaxis": "y"
        },
        {
         "marker": {
          "color": "#fdb96b"
         },
         "name": "2000",
         "type": "bar",
         "x": [
          "Human activity",
          "Lightning",
          "Prescribed burn",
          "Reburn",
          "Unspecified"
         ],
         "xaxis": "x2",
         "y": [
          2754,
          2159,
          1,
          0,
          483
         ],
         "yaxis": "y2"
        },
        {
         "marker": {
          "color": "#fdc97a"
         },
         "name": "2001",
         "type": "bar",
         "x": [
          "Human activity",
          "Lightning",
          "Prescribed burn",
          "Reburn",
          "Unspecified"
         ],
         "xaxis": "x",
         "y": [
          193629,
          373020,
          0,
          0,
          81020
         ],
         "yaxis": "y"
        },
        {
         "marker": {
          "color": "#fdc97a"
         },
         "name": "2001",
         "type": "bar",
         "x": [
          "Human activity",
          "Lightning",
          "Prescribed burn",
          "Reburn",
          "Unspecified"
         ],
         "xaxis": "x2",
         "y": [
          4159,
          2880,
          0,
          0,
          723
         ],
         "yaxis": "y2"
        },
        {
         "marker": {
          "color": "#fdd989"
         },
         "name": "2002",
         "type": "bar",
         "x": [
          "Human activity",
          "Lightning",
          "Prescribed burn",
          "Reburn",
          "Unspecified"
         ],
         "xaxis": "x",
         "y": [
          364925,
          2301358,
          7,
          0,
          97316
         ],
         "yaxis": "y"
        },
        {
         "marker": {
          "color": "#fdd989"
         },
         "name": "2002",
         "type": "bar",
         "x": [
          "Human activity",
          "Lightning",
          "Prescribed burn",
          "Reburn",
          "Unspecified"
         ],
         "xaxis": "x2",
         "y": [
          3559,
          3436,
          1,
          0,
          882
         ],
         "yaxis": "y2"
        },
        {
         "marker": {
          "color": "#fee599"
         },
         "name": "2003",
         "type": "bar",
         "x": [
          "Human activity",
          "Lightning",
          "Prescribed burn",
          "Reburn",
          "Unspecified"
         ],
         "xaxis": "x",
         "y": [
          160357,
          1049135,
          0,
          0,
          958910
         ],
         "yaxis": "y"
        },
        {
         "marker": {
          "color": "#fee599"
         },
         "name": "2003",
         "type": "bar",
         "x": [
          "Human activity",
          "Lightning",
          "Prescribed burn",
          "Reburn",
          "Unspecified"
         ],
         "xaxis": "x2",
         "y": [
          3555,
          3398,
          0,
          0,
          1317
         ],
         "yaxis": "y2"
        },
        {
         "marker": {
          "color": "#fef0a8"
         },
         "name": "2004",
         "type": "bar",
         "x": [
          "Human activity",
          "Lightning",
          "Prescribed burn",
          "Reburn",
          "Unspecified"
         ],
         "xaxis": "x",
         "y": [
          40881,
          3125309,
          0,
          41,
          16768
         ],
         "yaxis": "y"
        },
        {
         "marker": {
          "color": "#fef0a8"
         },
         "name": "2004",
         "type": "bar",
         "x": [
          "Human activity",
          "Lightning",
          "Prescribed burn",
          "Reburn",
          "Unspecified"
         ],
         "xaxis": "x2",
         "y": [
          3015,
          3378,
          1,
          6,
          88
         ],
         "yaxis": "y2"
        },
        {
         "marker": {
          "color": "#fefab7"
         },
         "name": "2005",
         "type": "bar",
         "x": [
          "Human activity",
          "Lightning",
          "Prescribed burn",
          "Reburn",
          "Unspecified"
         ],
         "xaxis": "x",
         "y": [
          75683,
          1609671,
          4,
          0,
          1410
         ],
         "yaxis": "y"
        },
        {
         "marker": {
          "color": "#fefab7"
         },
         "name": "2005",
         "type": "bar",
         "x": [
          "Human activity",
          "Lightning",
          "Prescribed burn",
          "Reburn",
          "Unspecified"
         ],
         "xaxis": "x2",
         "y": [
          3608,
          3717,
          2,
          3,
          122
         ],
         "yaxis": "y2"
        },
        {
         "marker": {
          "color": "#fafdc8"
         },
         "name": "2006",
         "type": "bar",
         "x": [
          "Human activity",
          "Lightning",
          "Prescribed burn",
          "Reburn",
          "Unspecified"
         ],
         "xaxis": "x",
         "y": [
          294045,
          1797131,
          2,
          33,
          9470
         ],
         "yaxis": "y"
        },
        {
         "marker": {
          "color": "#fafdc8"
         },
         "name": "2006",
         "type": "bar",
         "x": [
          "Human activity",
          "Lightning",
          "Prescribed burn",
          "Reburn",
          "Unspecified"
         ],
         "xaxis": "x2",
         "y": [
          4177,
          5404,
          7,
          22,
          144
         ],
         "yaxis": "y2"
        },
        {
         "marker": {
          "color": "#f0f9da"
         },
         "name": "2007",
         "type": "bar",
         "x": [
          "Human activity",
          "Lightning",
          "Prescribed burn",
          "Reburn",
          "Unspecified"
         ],
         "xaxis": "x",
         "y": [
          216147,
          1568189,
          25,
          1,
          1104
         ],
         "yaxis": "y"
        },
        {
         "marker": {
          "color": "#f0f9da"
         },
         "name": "2007",
         "type": "bar",
         "x": [
          "Human activity",
          "Lightning",
          "Prescribed burn",
          "Reburn",
          "Unspecified"
         ],
         "xaxis": "x2",
         "y": [
          3776,
          2981,
          1,
          8,
          153
         ],
         "yaxis": "y2"
        },
        {
         "marker": {
          "color": "#e6f5ec"
         },
         "name": "2008",
         "type": "bar",
         "x": [
          "Human activity",
          "Lightning",
          "Prescribed burn",
          "Reburn",
          "Unspecified"
         ],
         "xaxis": "x",
         "y": [
          126735,
          1528464,
          9297,
          8,
          421
         ],
         "yaxis": "y"
        },
        {
         "marker": {
          "color": "#e6f5ec"
         },
         "name": "2008",
         "type": "bar",
         "x": [
          "Human activity",
          "Lightning",
          "Prescribed burn",
          "Reburn",
          "Unspecified"
         ],
         "xaxis": "x2",
         "y": [
          3214,
          2870,
          23,
          9,
          123
         ],
         "yaxis": "y2"
        },
        {
         "marker": {
          "color": "#d9eff6"
         },
         "name": "2009",
         "type": "bar",
         "x": [
          "Human activity",
          "Lightning",
          "Prescribed burn",
          "Reburn",
          "Unspecified"
         ],
         "xaxis": "x",
         "y": [
          60243,
          695231,
          7000,
          6,
          86
         ],
         "yaxis": "y"
        },
        {
         "marker": {
          "color": "#d9eff6"
         },
         "name": "2009",
         "type": "bar",
         "x": [
          "Human activity",
          "Lightning",
          "Prescribed burn",
          "Reburn",
          "Unspecified"
         ],
         "xaxis": "x2",
         "y": [
          3546,
          3452,
          25,
          9,
          113
         ],
         "yaxis": "y2"
        },
        {
         "marker": {
          "color": "#c8e7f1"
         },
         "name": "2010",
         "type": "bar",
         "x": [
          "Human activity",
          "Lightning",
          "Prescribed burn",
          "Reburn",
          "Unspecified"
         ],
         "xaxis": "x",
         "y": [
          287566,
          2885380,
          2112,
          139,
          2770
         ],
         "yaxis": "y"
        },
        {
         "marker": {
          "color": "#c8e7f1"
         },
         "name": "2010",
         "type": "bar",
         "x": [
          "Human activity",
          "Lightning",
          "Prescribed burn",
          "Reburn",
          "Unspecified"
         ],
         "xaxis": "x2",
         "y": [
          3615,
          3330,
          14,
          12,
          345
         ],
         "yaxis": "y2"
        },
        {
         "marker": {
          "color": "#b6deec"
         },
         "name": "2011",
         "type": "bar",
         "x": [
          "Human activity",
          "Lightning",
          "Prescribed burn",
          "Reburn",
          "Unspecified"
         ],
         "xaxis": "x",
         "y": [
          230341,
          1509985,
          4816,
          0,
          652285
         ],
         "yaxis": "y"
        },
        {
         "marker": {
          "color": "#b6deec"
         },
         "name": "2011",
         "type": "bar",
         "x": [
          "Human activity",
          "Lightning",
          "Prescribed burn",
          "Reburn",
          "Unspecified"
         ],
         "xaxis": "x2",
         "y": [
          2621,
          1824,
          25,
          5,
          203
         ],
         "yaxis": "y2"
        },
        {
         "marker": {
          "color": "#a5d4e6"
         },
         "name": "2012",
         "type": "bar",
         "x": [
          "Human activity",
          "Lightning",
          "Prescribed burn",
          "Reburn",
          "Unspecified"
         ],
         "xaxis": "x",
         "y": [
          111844,
          1665396,
          2627,
          0,
          31823
         ],
         "yaxis": "y"
        },
        {
         "marker": {
          "color": "#a5d4e6"
         },
         "name": "2012",
         "type": "bar",
         "x": [
          "Human activity",
          "Lightning",
          "Prescribed burn",
          "Reburn",
          "Unspecified"
         ],
         "xaxis": "x2",
         "y": [
          3851,
          3534,
          16,
          0,
          517
         ],
         "yaxis": "y2"
        },
        {
         "marker": {
          "color": "#93c6de"
         },
         "name": "2013",
         "type": "bar",
         "x": [
          "Human activity",
          "Lightning",
          "Prescribed burn",
          "Reburn",
          "Unspecified"
         ],
         "xaxis": "x",
         "y": [
          68204,
          4194251,
          1122,
          0,
          4925
         ],
         "yaxis": "y"
        },
        {
         "marker": {
          "color": "#93c6de"
         },
         "name": "2013",
         "type": "bar",
         "x": [
          "Human activity",
          "Lightning",
          "Prescribed burn",
          "Reburn",
          "Unspecified"
         ],
         "xaxis": "x2",
         "y": [
          3232,
          2896,
          20,
          0,
          108
         ],
         "yaxis": "y2"
        },
        {
         "marker": {
          "color": "#82b8d7"
         },
         "name": "2014",
         "type": "bar",
         "x": [
          "Human activity",
          "Lightning",
          "Prescribed burn",
          "Reburn",
          "Unspecified"
         ],
         "xaxis": "x",
         "y": [
          45931,
          4486938,
          3898,
          0,
          8891
         ],
         "yaxis": "y"
        },
        {
         "marker": {
          "color": "#82b8d7"
         },
         "name": "2014",
         "type": "bar",
         "x": [
          "Human activity",
          "Lightning",
          "Prescribed burn",
          "Reburn",
          "Unspecified"
         ],
         "xaxis": "x2",
         "y": [
          2600,
          2328,
          17,
          0,
          75
         ],
         "yaxis": "y2"
        },
        {
         "marker": {
          "color": "#70a9cf"
         },
         "name": "2015",
         "type": "bar",
         "x": [
          "Human activity",
          "Lightning",
          "Prescribed burn",
          "Reburn",
          "Unspecified"
         ],
         "xaxis": "x",
         "y": [
          147755,
          3749916,
          10105,
          0,
          606
         ],
         "yaxis": "y"
        },
        {
         "marker": {
          "color": "#70a9cf"
         },
         "name": "2015",
         "type": "bar",
         "x": [
          "Human activity",
          "Lightning",
          "Prescribed burn",
          "Reburn",
          "Unspecified"
         ],
         "xaxis": "x2",
         "y": [
          3324,
          3548,
          30,
          0,
          132
         ],
         "yaxis": "y2"
        },
        {
         "marker": {
          "color": "#6197c5"
         },
         "name": "2016",
         "type": "bar",
         "x": [
          "Human activity",
          "Lightning",
          "Prescribed burn",
          "Reburn",
          "Unspecified"
         ],
         "xaxis": "x",
         "y": [
          119208,
          707880,
          6480,
          0,
          486038
         ],
         "yaxis": "y"
        },
        {
         "marker": {
          "color": "#6197c5"
         },
         "name": "2016",
         "type": "bar",
         "x": [
          "Human activity",
          "Lightning",
          "Prescribed burn",
          "Reburn",
          "Unspecified"
         ],
         "xaxis": "x2",
         "y": [
          3226,
          1880,
          26,
          0,
          135
         ],
         "yaxis": "y2"
        },
        {
         "marker": {
          "color": "#5285bc"
         },
         "name": "2017",
         "type": "bar",
         "x": [
          "Human activity",
          "Lightning",
          "Prescribed burn",
          "Reburn",
          "Unspecified"
         ],
         "xaxis": "x",
         "y": [
          236686,
          3325000,
          2190,
          0,
          25554
         ],
         "yaxis": "y"
        },
        {
         "marker": {
          "color": "#5285bc"
         },
         "name": "2017",
         "type": "bar",
         "x": [
          "Human activity",
          "Lightning",
          "Prescribed burn",
          "Reburn",
          "Unspecified"
         ],
         "xaxis": "x2",
         "y": [
          2672,
          2874,
          16,
          0,
          96
         ],
         "yaxis": "y2"
        },
        {
         "marker": {
          "color": "#4472b3"
         },
         "name": "2018",
         "type": "bar",
         "x": [
          "Human activity",
          "Lightning",
          "Prescribed burn",
          "Reburn",
          "Unspecified"
         ],
         "xaxis": "x",
         "y": [
          288796,
          1986960,
          37076,
          0,
          16020
         ],
         "yaxis": "y"
        },
        {
         "marker": {
          "color": "#4472b3"
         },
         "name": "2018",
         "type": "bar",
         "x": [
          "Human activity",
          "Lightning",
          "Prescribed burn",
          "Reburn",
          "Unspecified"
         ],
         "xaxis": "x2",
         "y": [
          3191,
          3761,
          19,
          0,
          140
         ],
         "yaxis": "y2"
        },
        {
         "marker": {
          "color": "#3d5ea9"
         },
         "name": "2019",
         "type": "bar",
         "x": [
          "Human activity",
          "Lightning",
          "Prescribed burn",
          "Reburn",
          "Unspecified"
         ],
         "xaxis": "x",
         "y": [
          40299,
          907678,
          308,
          0,
          837929
         ],
         "yaxis": "y"
        },
        {
         "marker": {
          "color": "#3d5ea9"
         },
         "name": "2019",
         "type": "bar",
         "x": [
          "Human activity",
          "Lightning",
          "Prescribed burn",
          "Reburn",
          "Unspecified"
         ],
         "xaxis": "x2",
         "y": [
          2403,
          1477,
          12,
          0,
          170
         ],
         "yaxis": "y2"
        },
        {
         "marker": {
          "color": "#374a9f"
         },
         "name": "2020",
         "type": "bar",
         "x": [
          "Human activity",
          "Lightning",
          "Prescribed burn",
          "Reburn",
          "Unspecified"
         ],
         "xaxis": "x",
         "y": [
          135135,
          78386,
          1392,
          0,
          3322
         ],
         "yaxis": "y"
        },
        {
         "marker": {
          "color": "#374a9f"
         },
         "name": "2020",
         "type": "bar",
         "x": [
          "Human activity",
          "Lightning",
          "Prescribed burn",
          "Reburn",
          "Unspecified"
         ],
         "xaxis": "x2",
         "y": [
          2719,
          1102,
          8,
          0,
          172
         ],
         "yaxis": "y2"
        },
        {
         "marker": {
          "color": "#313695"
         },
         "name": "2021",
         "type": "bar",
         "x": [
          "Human activity",
          "Lightning",
          "Prescribed burn",
          "Reburn",
          "Unspecified"
         ],
         "xaxis": "x",
         "y": [
          0,
          0,
          0,
          0,
          4307520
         ],
         "yaxis": "y"
        },
        {
         "marker": {
          "color": "#313695"
         },
         "name": "2021",
         "type": "bar",
         "x": [
          "Human activity",
          "Lightning",
          "Prescribed burn",
          "Reburn",
          "Unspecified"
         ],
         "xaxis": "x2",
         "y": [
          0,
          0,
          0,
          0,
          6596
         ],
         "yaxis": "y2"
        }
       ],
       "layout": {
        "annotations": [
         {
          "font": {
           "size": 16
          },
          "showarrow": false,
          "text": "Area Burned from Wildfires by Cause",
          "x": 0.5,
          "xanchor": "center",
          "xref": "paper",
          "y": 1,
          "yanchor": "bottom",
          "yref": "paper"
         },
         {
          "font": {
           "size": 16
          },
          "showarrow": false,
          "text": "Number of Fires by Cause",
          "x": 0.5,
          "xanchor": "center",
          "xref": "paper",
          "y": 0.375,
          "yanchor": "bottom",
          "yref": "paper"
         },
         {
          "font": {
           "size": 16
          },
          "showarrow": false,
          "text": "Cause",
          "x": 0.5,
          "xanchor": "center",
          "xref": "paper",
          "y": 0,
          "yanchor": "top",
          "yref": "paper",
          "yshift": -30
         },
         {
          "font": {
           "size": 16
          },
          "showarrow": false,
          "text": "Area Burned (hectares)",
          "textangle": -90,
          "x": 0,
          "xanchor": "right",
          "xref": "paper",
          "xshift": -40,
          "y": 0.5,
          "yanchor": "middle",
          "yref": "paper"
         }
        ],
        "height": 800,
        "template": {
         "data": {
          "bar": [
           {
            "error_x": {
             "color": "#2a3f5f"
            },
            "error_y": {
             "color": "#2a3f5f"
            },
            "marker": {
             "line": {
              "color": "#E5ECF6",
              "width": 0.5
             },
             "pattern": {
              "fillmode": "overlay",
              "size": 10,
              "solidity": 0.2
             }
            },
            "type": "bar"
           }
          ],
          "barpolar": [
           {
            "marker": {
             "line": {
              "color": "#E5ECF6",
              "width": 0.5
             },
             "pattern": {
              "fillmode": "overlay",
              "size": 10,
              "solidity": 0.2
             }
            },
            "type": "barpolar"
           }
          ],
          "carpet": [
           {
            "aaxis": {
             "endlinecolor": "#2a3f5f",
             "gridcolor": "white",
             "linecolor": "white",
             "minorgridcolor": "white",
             "startlinecolor": "#2a3f5f"
            },
            "baxis": {
             "endlinecolor": "#2a3f5f",
             "gridcolor": "white",
             "linecolor": "white",
             "minorgridcolor": "white",
             "startlinecolor": "#2a3f5f"
            },
            "type": "carpet"
           }
          ],
          "choropleth": [
           {
            "colorbar": {
             "outlinewidth": 0,
             "ticks": ""
            },
            "type": "choropleth"
           }
          ],
          "contour": [
           {
            "colorbar": {
             "outlinewidth": 0,
             "ticks": ""
            },
            "colorscale": [
             [
              0,
              "#0d0887"
             ],
             [
              0.1111111111111111,
              "#46039f"
             ],
             [
              0.2222222222222222,
              "#7201a8"
             ],
             [
              0.3333333333333333,
              "#9c179e"
             ],
             [
              0.4444444444444444,
              "#bd3786"
             ],
             [
              0.5555555555555556,
              "#d8576b"
             ],
             [
              0.6666666666666666,
              "#ed7953"
             ],
             [
              0.7777777777777778,
              "#fb9f3a"
             ],
             [
              0.8888888888888888,
              "#fdca26"
             ],
             [
              1,
              "#f0f921"
             ]
            ],
            "type": "contour"
           }
          ],
          "contourcarpet": [
           {
            "colorbar": {
             "outlinewidth": 0,
             "ticks": ""
            },
            "type": "contourcarpet"
           }
          ],
          "heatmap": [
           {
            "colorbar": {
             "outlinewidth": 0,
             "ticks": ""
            },
            "colorscale": [
             [
              0,
              "#0d0887"
             ],
             [
              0.1111111111111111,
              "#46039f"
             ],
             [
              0.2222222222222222,
              "#7201a8"
             ],
             [
              0.3333333333333333,
              "#9c179e"
             ],
             [
              0.4444444444444444,
              "#bd3786"
             ],
             [
              0.5555555555555556,
              "#d8576b"
             ],
             [
              0.6666666666666666,
              "#ed7953"
             ],
             [
              0.7777777777777778,
              "#fb9f3a"
             ],
             [
              0.8888888888888888,
              "#fdca26"
             ],
             [
              1,
              "#f0f921"
             ]
            ],
            "type": "heatmap"
           }
          ],
          "heatmapgl": [
           {
            "colorbar": {
             "outlinewidth": 0,
             "ticks": ""
            },
            "colorscale": [
             [
              0,
              "#0d0887"
             ],
             [
              0.1111111111111111,
              "#46039f"
             ],
             [
              0.2222222222222222,
              "#7201a8"
             ],
             [
              0.3333333333333333,
              "#9c179e"
             ],
             [
              0.4444444444444444,
              "#bd3786"
             ],
             [
              0.5555555555555556,
              "#d8576b"
             ],
             [
              0.6666666666666666,
              "#ed7953"
             ],
             [
              0.7777777777777778,
              "#fb9f3a"
             ],
             [
              0.8888888888888888,
              "#fdca26"
             ],
             [
              1,
              "#f0f921"
             ]
            ],
            "type": "heatmapgl"
           }
          ],
          "histogram": [
           {
            "marker": {
             "pattern": {
              "fillmode": "overlay",
              "size": 10,
              "solidity": 0.2
             }
            },
            "type": "histogram"
           }
          ],
          "histogram2d": [
           {
            "colorbar": {
             "outlinewidth": 0,
             "ticks": ""
            },
            "colorscale": [
             [
              0,
              "#0d0887"
             ],
             [
              0.1111111111111111,
              "#46039f"
             ],
             [
              0.2222222222222222,
              "#7201a8"
             ],
             [
              0.3333333333333333,
              "#9c179e"
             ],
             [
              0.4444444444444444,
              "#bd3786"
             ],
             [
              0.5555555555555556,
              "#d8576b"
             ],
             [
              0.6666666666666666,
              "#ed7953"
             ],
             [
              0.7777777777777778,
              "#fb9f3a"
             ],
             [
              0.8888888888888888,
              "#fdca26"
             ],
             [
              1,
              "#f0f921"
             ]
            ],
            "type": "histogram2d"
           }
          ],
          "histogram2dcontour": [
           {
            "colorbar": {
             "outlinewidth": 0,
             "ticks": ""
            },
            "colorscale": [
             [
              0,
              "#0d0887"
             ],
             [
              0.1111111111111111,
              "#46039f"
             ],
             [
              0.2222222222222222,
              "#7201a8"
             ],
             [
              0.3333333333333333,
              "#9c179e"
             ],
             [
              0.4444444444444444,
              "#bd3786"
             ],
             [
              0.5555555555555556,
              "#d8576b"
             ],
             [
              0.6666666666666666,
              "#ed7953"
             ],
             [
              0.7777777777777778,
              "#fb9f3a"
             ],
             [
              0.8888888888888888,
              "#fdca26"
             ],
             [
              1,
              "#f0f921"
             ]
            ],
            "type": "histogram2dcontour"
           }
          ],
          "mesh3d": [
           {
            "colorbar": {
             "outlinewidth": 0,
             "ticks": ""
            },
            "type": "mesh3d"
           }
          ],
          "parcoords": [
           {
            "line": {
             "colorbar": {
              "outlinewidth": 0,
              "ticks": ""
             }
            },
            "type": "parcoords"
           }
          ],
          "pie": [
           {
            "automargin": true,
            "type": "pie"
           }
          ],
          "scatter": [
           {
            "fillpattern": {
             "fillmode": "overlay",
             "size": 10,
             "solidity": 0.2
            },
            "type": "scatter"
           }
          ],
          "scatter3d": [
           {
            "line": {
             "colorbar": {
              "outlinewidth": 0,
              "ticks": ""
             }
            },
            "marker": {
             "colorbar": {
              "outlinewidth": 0,
              "ticks": ""
             }
            },
            "type": "scatter3d"
           }
          ],
          "scattercarpet": [
           {
            "marker": {
             "colorbar": {
              "outlinewidth": 0,
              "ticks": ""
             }
            },
            "type": "scattercarpet"
           }
          ],
          "scattergeo": [
           {
            "marker": {
             "colorbar": {
              "outlinewidth": 0,
              "ticks": ""
             }
            },
            "type": "scattergeo"
           }
          ],
          "scattergl": [
           {
            "marker": {
             "colorbar": {
              "outlinewidth": 0,
              "ticks": ""
             }
            },
            "type": "scattergl"
           }
          ],
          "scattermapbox": [
           {
            "marker": {
             "colorbar": {
              "outlinewidth": 0,
              "ticks": ""
             }
            },
            "type": "scattermapbox"
           }
          ],
          "scatterpolar": [
           {
            "marker": {
             "colorbar": {
              "outlinewidth": 0,
              "ticks": ""
             }
            },
            "type": "scatterpolar"
           }
          ],
          "scatterpolargl": [
           {
            "marker": {
             "colorbar": {
              "outlinewidth": 0,
              "ticks": ""
             }
            },
            "type": "scatterpolargl"
           }
          ],
          "scatterternary": [
           {
            "marker": {
             "colorbar": {
              "outlinewidth": 0,
              "ticks": ""
             }
            },
            "type": "scatterternary"
           }
          ],
          "surface": [
           {
            "colorbar": {
             "outlinewidth": 0,
             "ticks": ""
            },
            "colorscale": [
             [
              0,
              "#0d0887"
             ],
             [
              0.1111111111111111,
              "#46039f"
             ],
             [
              0.2222222222222222,
              "#7201a8"
             ],
             [
              0.3333333333333333,
              "#9c179e"
             ],
             [
              0.4444444444444444,
              "#bd3786"
             ],
             [
              0.5555555555555556,
              "#d8576b"
             ],
             [
              0.6666666666666666,
              "#ed7953"
             ],
             [
              0.7777777777777778,
              "#fb9f3a"
             ],
             [
              0.8888888888888888,
              "#fdca26"
             ],
             [
              1,
              "#f0f921"
             ]
            ],
            "type": "surface"
           }
          ],
          "table": [
           {
            "cells": {
             "fill": {
              "color": "#EBF0F8"
             },
             "line": {
              "color": "white"
             }
            },
            "header": {
             "fill": {
              "color": "#C8D4E3"
             },
             "line": {
              "color": "white"
             }
            },
            "type": "table"
           }
          ]
         },
         "layout": {
          "annotationdefaults": {
           "arrowcolor": "#2a3f5f",
           "arrowhead": 0,
           "arrowwidth": 1
          },
          "autotypenumbers": "strict",
          "coloraxis": {
           "colorbar": {
            "outlinewidth": 0,
            "ticks": ""
           }
          },
          "colorscale": {
           "diverging": [
            [
             0,
             "#8e0152"
            ],
            [
             0.1,
             "#c51b7d"
            ],
            [
             0.2,
             "#de77ae"
            ],
            [
             0.3,
             "#f1b6da"
            ],
            [
             0.4,
             "#fde0ef"
            ],
            [
             0.5,
             "#f7f7f7"
            ],
            [
             0.6,
             "#e6f5d0"
            ],
            [
             0.7,
             "#b8e186"
            ],
            [
             0.8,
             "#7fbc41"
            ],
            [
             0.9,
             "#4d9221"
            ],
            [
             1,
             "#276419"
            ]
           ],
           "sequential": [
            [
             0,
             "#0d0887"
            ],
            [
             0.1111111111111111,
             "#46039f"
            ],
            [
             0.2222222222222222,
             "#7201a8"
            ],
            [
             0.3333333333333333,
             "#9c179e"
            ],
            [
             0.4444444444444444,
             "#bd3786"
            ],
            [
             0.5555555555555556,
             "#d8576b"
            ],
            [
             0.6666666666666666,
             "#ed7953"
            ],
            [
             0.7777777777777778,
             "#fb9f3a"
            ],
            [
             0.8888888888888888,
             "#fdca26"
            ],
            [
             1,
             "#f0f921"
            ]
           ],
           "sequentialminus": [
            [
             0,
             "#0d0887"
            ],
            [
             0.1111111111111111,
             "#46039f"
            ],
            [
             0.2222222222222222,
             "#7201a8"
            ],
            [
             0.3333333333333333,
             "#9c179e"
            ],
            [
             0.4444444444444444,
             "#bd3786"
            ],
            [
             0.5555555555555556,
             "#d8576b"
            ],
            [
             0.6666666666666666,
             "#ed7953"
            ],
            [
             0.7777777777777778,
             "#fb9f3a"
            ],
            [
             0.8888888888888888,
             "#fdca26"
            ],
            [
             1,
             "#f0f921"
            ]
           ]
          },
          "colorway": [
           "#636efa",
           "#EF553B",
           "#00cc96",
           "#ab63fa",
           "#FFA15A",
           "#19d3f3",
           "#FF6692",
           "#B6E880",
           "#FF97FF",
           "#FECB52"
          ],
          "font": {
           "color": "#2a3f5f"
          },
          "geo": {
           "bgcolor": "white",
           "lakecolor": "white",
           "landcolor": "#E5ECF6",
           "showlakes": true,
           "showland": true,
           "subunitcolor": "white"
          },
          "hoverlabel": {
           "align": "left"
          },
          "hovermode": "closest",
          "mapbox": {
           "style": "light"
          },
          "paper_bgcolor": "white",
          "plot_bgcolor": "#E5ECF6",
          "polar": {
           "angularaxis": {
            "gridcolor": "white",
            "linecolor": "white",
            "ticks": ""
           },
           "bgcolor": "#E5ECF6",
           "radialaxis": {
            "gridcolor": "white",
            "linecolor": "white",
            "ticks": ""
           }
          },
          "scene": {
           "xaxis": {
            "backgroundcolor": "#E5ECF6",
            "gridcolor": "white",
            "gridwidth": 2,
            "linecolor": "white",
            "showbackground": true,
            "ticks": "",
            "zerolinecolor": "white"
           },
           "yaxis": {
            "backgroundcolor": "#E5ECF6",
            "gridcolor": "white",
            "gridwidth": 2,
            "linecolor": "white",
            "showbackground": true,
            "ticks": "",
            "zerolinecolor": "white"
           },
           "zaxis": {
            "backgroundcolor": "#E5ECF6",
            "gridcolor": "white",
            "gridwidth": 2,
            "linecolor": "white",
            "showbackground": true,
            "ticks": "",
            "zerolinecolor": "white"
           }
          },
          "shapedefaults": {
           "line": {
            "color": "#2a3f5f"
           }
          },
          "ternary": {
           "aaxis": {
            "gridcolor": "white",
            "linecolor": "white",
            "ticks": ""
           },
           "baxis": {
            "gridcolor": "white",
            "linecolor": "white",
            "ticks": ""
           },
           "bgcolor": "#E5ECF6",
           "caxis": {
            "gridcolor": "white",
            "linecolor": "white",
            "ticks": ""
           }
          },
          "title": {
           "x": 0.05
          },
          "xaxis": {
           "automargin": true,
           "gridcolor": "white",
           "linecolor": "white",
           "ticks": "",
           "title": {
            "standoff": 15
           },
           "zerolinecolor": "white",
           "zerolinewidth": 2
          },
          "yaxis": {
           "automargin": true,
           "gridcolor": "white",
           "linecolor": "white",
           "ticks": "",
           "title": {
            "standoff": 15
           },
           "zerolinecolor": "white",
           "zerolinewidth": 2
          }
         }
        },
        "width": 1780,
        "xaxis": {
         "anchor": "y",
         "domain": [
          0,
          1
         ]
        },
        "xaxis2": {
         "anchor": "y2",
         "domain": [
          0,
          1
         ]
        },
        "yaxis": {
         "anchor": "x",
         "domain": [
          0.625,
          1
         ]
        },
        "yaxis2": {
         "anchor": "x2",
         "domain": [
          0,
          0.375
         ]
        }
       }
      }
     },
     "metadata": {},
     "output_type": "display_data"
    }
   ],
   "source": [
    "areabygroup_causes = areabygroup.groupby(['Cause']).sum().reset_index()\n",
    "numfiresbygroup_causes = numfiresbygroup.groupby(['Cause']).sum().reset_index()\n",
    "\n",
    "cause_figs = make_subplots(rows=2, cols=1, x_title='Cause', y_title='Area Burned (hectares)', subplot_titles=['Area Burned from Wildfires by Cause', 'Number of Fires by Cause'])\n",
    "\n",
    "for i in range(1990,2022):\n",
    "\n",
    "    cause_figs.add_bar(x=areabygroup_causes['Cause'], y=areabygroup_causes[i], name=i, marker=dict(color=color_map[i]), row=1, col=1)\n",
    "    cause_figs.add_bar(x=numfiresbygroup_causes['Cause'], y=numfiresbygroup_causes[i], name=i, marker=dict(color=color_map[i]), row=2, col=1)\n",
    "    \n",
    "cause_figs.update_layout(height=800, width=1780).show()"
   ]
  },
  {
   "cell_type": "code",
   "execution_count": 117,
   "metadata": {},
   "outputs": [
    {
     "data": {
      "application/vnd.plotly.v1+json": {
       "config": {
        "plotlyServerURL": "https://plot.ly"
       },
       "data": [
        {
         "marker": {
          "color": "#a50026"
         },
         "name": "1990",
         "type": "bar",
         "x": [
          "Prescribed burn",
          "Reburn"
         ],
         "xaxis": "x",
         "y": [
          0,
          0
         ],
         "yaxis": "y"
        },
        {
         "marker": {
          "color": "#a50026"
         },
         "name": "1990",
         "type": "bar",
         "x": [
          "Prescribed burn",
          "Reburn"
         ],
         "xaxis": "x2",
         "y": [
          0,
          0
         ],
         "yaxis": "y2"
        },
        {
         "marker": {
          "color": "#b50f26"
         },
         "name": "1991",
         "type": "bar",
         "x": [
          "Prescribed burn",
          "Reburn"
         ],
         "xaxis": "x",
         "y": [
          0,
          0
         ],
         "yaxis": "y"
        },
        {
         "marker": {
          "color": "#b50f26"
         },
         "name": "1991",
         "type": "bar",
         "x": [
          "Prescribed burn",
          "Reburn"
         ],
         "xaxis": "x2",
         "y": [
          0,
          0
         ],
         "yaxis": "y2"
        },
        {
         "marker": {
          "color": "#c51e26"
         },
         "name": "1992",
         "type": "bar",
         "x": [
          "Prescribed burn",
          "Reburn"
         ],
         "xaxis": "x",
         "y": [
          0,
          0
         ],
         "yaxis": "y"
        },
        {
         "marker": {
          "color": "#c51e26"
         },
         "name": "1992",
         "type": "bar",
         "x": [
          "Prescribed burn",
          "Reburn"
         ],
         "xaxis": "x2",
         "y": [
          0,
          0
         ],
         "yaxis": "y2"
        },
        {
         "marker": {
          "color": "#d52e26"
         },
         "name": "1993",
         "type": "bar",
         "x": [
          "Prescribed burn",
          "Reburn"
         ],
         "xaxis": "x",
         "y": [
          7400,
          0
         ],
         "yaxis": "y"
        },
        {
         "marker": {
          "color": "#d52e26"
         },
         "name": "1993",
         "type": "bar",
         "x": [
          "Prescribed burn",
          "Reburn"
         ],
         "xaxis": "x2",
         "y": [
          2,
          0
         ],
         "yaxis": "y2"
        },
        {
         "marker": {
          "color": "#df412f"
         },
         "name": "1994",
         "type": "bar",
         "x": [
          "Prescribed burn",
          "Reburn"
         ],
         "xaxis": "x",
         "y": [
          17882,
          0
         ],
         "yaxis": "y"
        },
        {
         "marker": {
          "color": "#df412f"
         },
         "name": "1994",
         "type": "bar",
         "x": [
          "Prescribed burn",
          "Reburn"
         ],
         "xaxis": "x2",
         "y": [
          28,
          0
         ],
         "yaxis": "y2"
        },
        {
         "marker": {
          "color": "#e85538"
         },
         "name": "1995",
         "type": "bar",
         "x": [
          "Prescribed burn",
          "Reburn"
         ],
         "xaxis": "x",
         "y": [
          15997,
          0
         ],
         "yaxis": "y"
        },
        {
         "marker": {
          "color": "#e85538"
         },
         "name": "1995",
         "type": "bar",
         "x": [
          "Prescribed burn",
          "Reburn"
         ],
         "xaxis": "x2",
         "y": [
          8,
          0
         ],
         "yaxis": "y2"
        },
        {
         "marker": {
          "color": "#f26941"
         },
         "name": "1996",
         "type": "bar",
         "x": [
          "Prescribed burn",
          "Reburn"
         ],
         "xaxis": "x",
         "y": [
          0,
          0
         ],
         "yaxis": "y"
        },
        {
         "marker": {
          "color": "#f26941"
         },
         "name": "1996",
         "type": "bar",
         "x": [
          "Prescribed burn",
          "Reburn"
         ],
         "xaxis": "x2",
         "y": [
          0,
          0
         ],
         "yaxis": "y2"
        },
        {
         "marker": {
          "color": "#f67d4a"
         },
         "name": "1997",
         "type": "bar",
         "x": [
          "Prescribed burn",
          "Reburn"
         ],
         "xaxis": "x",
         "y": [
          0,
          0
         ],
         "yaxis": "y"
        },
        {
         "marker": {
          "color": "#f67d4a"
         },
         "name": "1997",
         "type": "bar",
         "x": [
          "Prescribed burn",
          "Reburn"
         ],
         "xaxis": "x2",
         "y": [
          0,
          0
         ],
         "yaxis": "y2"
        },
        {
         "marker": {
          "color": "#f99254"
         },
         "name": "1998",
         "type": "bar",
         "x": [
          "Prescribed burn",
          "Reburn"
         ],
         "xaxis": "x",
         "y": [
          0,
          0
         ],
         "yaxis": "y"
        },
        {
         "marker": {
          "color": "#f99254"
         },
         "name": "1998",
         "type": "bar",
         "x": [
          "Prescribed burn",
          "Reburn"
         ],
         "xaxis": "x2",
         "y": [
          0,
          0
         ],
         "yaxis": "y2"
        },
        {
         "marker": {
          "color": "#fca75e"
         },
         "name": "1999",
         "type": "bar",
         "x": [
          "Prescribed burn",
          "Reburn"
         ],
         "xaxis": "x",
         "y": [
          11158,
          0
         ],
         "yaxis": "y"
        },
        {
         "marker": {
          "color": "#fca75e"
         },
         "name": "1999",
         "type": "bar",
         "x": [
          "Prescribed burn",
          "Reburn"
         ],
         "xaxis": "x2",
         "y": [
          3,
          0
         ],
         "yaxis": "y2"
        },
        {
         "marker": {
          "color": "#fdb96b"
         },
         "name": "2000",
         "type": "bar",
         "x": [
          "Prescribed burn",
          "Reburn"
         ],
         "xaxis": "x",
         "y": [
          18,
          0
         ],
         "yaxis": "y"
        },
        {
         "marker": {
          "color": "#fdb96b"
         },
         "name": "2000",
         "type": "bar",
         "x": [
          "Prescribed burn",
          "Reburn"
         ],
         "xaxis": "x2",
         "y": [
          1,
          0
         ],
         "yaxis": "y2"
        },
        {
         "marker": {
          "color": "#fdc97a"
         },
         "name": "2001",
         "type": "bar",
         "x": [
          "Prescribed burn",
          "Reburn"
         ],
         "xaxis": "x",
         "y": [
          0,
          0
         ],
         "yaxis": "y"
        },
        {
         "marker": {
          "color": "#fdc97a"
         },
         "name": "2001",
         "type": "bar",
         "x": [
          "Prescribed burn",
          "Reburn"
         ],
         "xaxis": "x2",
         "y": [
          0,
          0
         ],
         "yaxis": "y2"
        },
        {
         "marker": {
          "color": "#fdd989"
         },
         "name": "2002",
         "type": "bar",
         "x": [
          "Prescribed burn",
          "Reburn"
         ],
         "xaxis": "x",
         "y": [
          7,
          0
         ],
         "yaxis": "y"
        },
        {
         "marker": {
          "color": "#fdd989"
         },
         "name": "2002",
         "type": "bar",
         "x": [
          "Prescribed burn",
          "Reburn"
         ],
         "xaxis": "x2",
         "y": [
          1,
          0
         ],
         "yaxis": "y2"
        },
        {
         "marker": {
          "color": "#fee599"
         },
         "name": "2003",
         "type": "bar",
         "x": [
          "Prescribed burn",
          "Reburn"
         ],
         "xaxis": "x",
         "y": [
          0,
          0
         ],
         "yaxis": "y"
        },
        {
         "marker": {
          "color": "#fee599"
         },
         "name": "2003",
         "type": "bar",
         "x": [
          "Prescribed burn",
          "Reburn"
         ],
         "xaxis": "x2",
         "y": [
          0,
          0
         ],
         "yaxis": "y2"
        },
        {
         "marker": {
          "color": "#fef0a8"
         },
         "name": "2004",
         "type": "bar",
         "x": [
          "Prescribed burn",
          "Reburn"
         ],
         "xaxis": "x",
         "y": [
          0,
          41
         ],
         "yaxis": "y"
        },
        {
         "marker": {
          "color": "#fef0a8"
         },
         "name": "2004",
         "type": "bar",
         "x": [
          "Prescribed burn",
          "Reburn"
         ],
         "xaxis": "x2",
         "y": [
          1,
          6
         ],
         "yaxis": "y2"
        },
        {
         "marker": {
          "color": "#fefab7"
         },
         "name": "2005",
         "type": "bar",
         "x": [
          "Prescribed burn",
          "Reburn"
         ],
         "xaxis": "x",
         "y": [
          4,
          0
         ],
         "yaxis": "y"
        },
        {
         "marker": {
          "color": "#fefab7"
         },
         "name": "2005",
         "type": "bar",
         "x": [
          "Prescribed burn",
          "Reburn"
         ],
         "xaxis": "x2",
         "y": [
          2,
          3
         ],
         "yaxis": "y2"
        },
        {
         "marker": {
          "color": "#fafdc8"
         },
         "name": "2006",
         "type": "bar",
         "x": [
          "Prescribed burn",
          "Reburn"
         ],
         "xaxis": "x",
         "y": [
          2,
          33
         ],
         "yaxis": "y"
        },
        {
         "marker": {
          "color": "#fafdc8"
         },
         "name": "2006",
         "type": "bar",
         "x": [
          "Prescribed burn",
          "Reburn"
         ],
         "xaxis": "x2",
         "y": [
          7,
          22
         ],
         "yaxis": "y2"
        },
        {
         "marker": {
          "color": "#f0f9da"
         },
         "name": "2007",
         "type": "bar",
         "x": [
          "Prescribed burn",
          "Reburn"
         ],
         "xaxis": "x",
         "y": [
          25,
          1
         ],
         "yaxis": "y"
        },
        {
         "marker": {
          "color": "#f0f9da"
         },
         "name": "2007",
         "type": "bar",
         "x": [
          "Prescribed burn",
          "Reburn"
         ],
         "xaxis": "x2",
         "y": [
          1,
          8
         ],
         "yaxis": "y2"
        },
        {
         "marker": {
          "color": "#e6f5ec"
         },
         "name": "2008",
         "type": "bar",
         "x": [
          "Prescribed burn",
          "Reburn"
         ],
         "xaxis": "x",
         "y": [
          9297,
          8
         ],
         "yaxis": "y"
        },
        {
         "marker": {
          "color": "#e6f5ec"
         },
         "name": "2008",
         "type": "bar",
         "x": [
          "Prescribed burn",
          "Reburn"
         ],
         "xaxis": "x2",
         "y": [
          23,
          9
         ],
         "yaxis": "y2"
        },
        {
         "marker": {
          "color": "#d9eff6"
         },
         "name": "2009",
         "type": "bar",
         "x": [
          "Prescribed burn",
          "Reburn"
         ],
         "xaxis": "x",
         "y": [
          7000,
          6
         ],
         "yaxis": "y"
        },
        {
         "marker": {
          "color": "#d9eff6"
         },
         "name": "2009",
         "type": "bar",
         "x": [
          "Prescribed burn",
          "Reburn"
         ],
         "xaxis": "x2",
         "y": [
          25,
          9
         ],
         "yaxis": "y2"
        },
        {
         "marker": {
          "color": "#c8e7f1"
         },
         "name": "2010",
         "type": "bar",
         "x": [
          "Prescribed burn",
          "Reburn"
         ],
         "xaxis": "x",
         "y": [
          2112,
          139
         ],
         "yaxis": "y"
        },
        {
         "marker": {
          "color": "#c8e7f1"
         },
         "name": "2010",
         "type": "bar",
         "x": [
          "Prescribed burn",
          "Reburn"
         ],
         "xaxis": "x2",
         "y": [
          14,
          12
         ],
         "yaxis": "y2"
        },
        {
         "marker": {
          "color": "#b6deec"
         },
         "name": "2011",
         "type": "bar",
         "x": [
          "Prescribed burn",
          "Reburn"
         ],
         "xaxis": "x",
         "y": [
          4816,
          0
         ],
         "yaxis": "y"
        },
        {
         "marker": {
          "color": "#b6deec"
         },
         "name": "2011",
         "type": "bar",
         "x": [
          "Prescribed burn",
          "Reburn"
         ],
         "xaxis": "x2",
         "y": [
          25,
          5
         ],
         "yaxis": "y2"
        },
        {
         "marker": {
          "color": "#a5d4e6"
         },
         "name": "2012",
         "type": "bar",
         "x": [
          "Prescribed burn",
          "Reburn"
         ],
         "xaxis": "x",
         "y": [
          2627,
          0
         ],
         "yaxis": "y"
        },
        {
         "marker": {
          "color": "#a5d4e6"
         },
         "name": "2012",
         "type": "bar",
         "x": [
          "Prescribed burn",
          "Reburn"
         ],
         "xaxis": "x2",
         "y": [
          16,
          0
         ],
         "yaxis": "y2"
        },
        {
         "marker": {
          "color": "#93c6de"
         },
         "name": "2013",
         "type": "bar",
         "x": [
          "Prescribed burn",
          "Reburn"
         ],
         "xaxis": "x",
         "y": [
          1122,
          0
         ],
         "yaxis": "y"
        },
        {
         "marker": {
          "color": "#93c6de"
         },
         "name": "2013",
         "type": "bar",
         "x": [
          "Prescribed burn",
          "Reburn"
         ],
         "xaxis": "x2",
         "y": [
          20,
          0
         ],
         "yaxis": "y2"
        },
        {
         "marker": {
          "color": "#82b8d7"
         },
         "name": "2014",
         "type": "bar",
         "x": [
          "Prescribed burn",
          "Reburn"
         ],
         "xaxis": "x",
         "y": [
          3898,
          0
         ],
         "yaxis": "y"
        },
        {
         "marker": {
          "color": "#82b8d7"
         },
         "name": "2014",
         "type": "bar",
         "x": [
          "Prescribed burn",
          "Reburn"
         ],
         "xaxis": "x2",
         "y": [
          17,
          0
         ],
         "yaxis": "y2"
        },
        {
         "marker": {
          "color": "#70a9cf"
         },
         "name": "2015",
         "type": "bar",
         "x": [
          "Prescribed burn",
          "Reburn"
         ],
         "xaxis": "x",
         "y": [
          10105,
          0
         ],
         "yaxis": "y"
        },
        {
         "marker": {
          "color": "#70a9cf"
         },
         "name": "2015",
         "type": "bar",
         "x": [
          "Prescribed burn",
          "Reburn"
         ],
         "xaxis": "x2",
         "y": [
          30,
          0
         ],
         "yaxis": "y2"
        },
        {
         "marker": {
          "color": "#6197c5"
         },
         "name": "2016",
         "type": "bar",
         "x": [
          "Prescribed burn",
          "Reburn"
         ],
         "xaxis": "x",
         "y": [
          6480,
          0
         ],
         "yaxis": "y"
        },
        {
         "marker": {
          "color": "#6197c5"
         },
         "name": "2016",
         "type": "bar",
         "x": [
          "Prescribed burn",
          "Reburn"
         ],
         "xaxis": "x2",
         "y": [
          26,
          0
         ],
         "yaxis": "y2"
        },
        {
         "marker": {
          "color": "#5285bc"
         },
         "name": "2017",
         "type": "bar",
         "x": [
          "Prescribed burn",
          "Reburn"
         ],
         "xaxis": "x",
         "y": [
          2190,
          0
         ],
         "yaxis": "y"
        },
        {
         "marker": {
          "color": "#5285bc"
         },
         "name": "2017",
         "type": "bar",
         "x": [
          "Prescribed burn",
          "Reburn"
         ],
         "xaxis": "x2",
         "y": [
          16,
          0
         ],
         "yaxis": "y2"
        },
        {
         "marker": {
          "color": "#4472b3"
         },
         "name": "2018",
         "type": "bar",
         "x": [
          "Prescribed burn",
          "Reburn"
         ],
         "xaxis": "x",
         "y": [
          37076,
          0
         ],
         "yaxis": "y"
        },
        {
         "marker": {
          "color": "#4472b3"
         },
         "name": "2018",
         "type": "bar",
         "x": [
          "Prescribed burn",
          "Reburn"
         ],
         "xaxis": "x2",
         "y": [
          19,
          0
         ],
         "yaxis": "y2"
        },
        {
         "marker": {
          "color": "#3d5ea9"
         },
         "name": "2019",
         "type": "bar",
         "x": [
          "Prescribed burn",
          "Reburn"
         ],
         "xaxis": "x",
         "y": [
          308,
          0
         ],
         "yaxis": "y"
        },
        {
         "marker": {
          "color": "#3d5ea9"
         },
         "name": "2019",
         "type": "bar",
         "x": [
          "Prescribed burn",
          "Reburn"
         ],
         "xaxis": "x2",
         "y": [
          12,
          0
         ],
         "yaxis": "y2"
        },
        {
         "marker": {
          "color": "#374a9f"
         },
         "name": "2020",
         "type": "bar",
         "x": [
          "Prescribed burn",
          "Reburn"
         ],
         "xaxis": "x",
         "y": [
          1392,
          0
         ],
         "yaxis": "y"
        },
        {
         "marker": {
          "color": "#374a9f"
         },
         "name": "2020",
         "type": "bar",
         "x": [
          "Prescribed burn",
          "Reburn"
         ],
         "xaxis": "x2",
         "y": [
          8,
          0
         ],
         "yaxis": "y2"
        },
        {
         "marker": {
          "color": "#313695"
         },
         "name": "2021",
         "type": "bar",
         "x": [
          "Prescribed burn",
          "Reburn"
         ],
         "xaxis": "x",
         "y": [
          0,
          0
         ],
         "yaxis": "y"
        },
        {
         "marker": {
          "color": "#313695"
         },
         "name": "2021",
         "type": "bar",
         "x": [
          "Prescribed burn",
          "Reburn"
         ],
         "xaxis": "x2",
         "y": [
          0,
          0
         ],
         "yaxis": "y2"
        }
       ],
       "layout": {
        "annotations": [
         {
          "font": {
           "size": 16
          },
          "showarrow": false,
          "text": "Area Burned from Wildfires for Prescribed Burns and Reburns",
          "x": 0.5,
          "xanchor": "center",
          "xref": "paper",
          "y": 1,
          "yanchor": "bottom",
          "yref": "paper"
         },
         {
          "font": {
           "size": 16
          },
          "showarrow": false,
          "text": "Number of Fires caused by Prescribed Burns and Reburns",
          "x": 0.5,
          "xanchor": "center",
          "xref": "paper",
          "y": 0.375,
          "yanchor": "bottom",
          "yref": "paper"
         },
         {
          "font": {
           "size": 16
          },
          "showarrow": false,
          "text": "Cause",
          "x": 0.5,
          "xanchor": "center",
          "xref": "paper",
          "y": 0,
          "yanchor": "top",
          "yref": "paper",
          "yshift": -30
         },
         {
          "font": {
           "size": 16
          },
          "showarrow": false,
          "text": "Area Burned (hectares)",
          "textangle": -90,
          "x": 0,
          "xanchor": "right",
          "xref": "paper",
          "xshift": -40,
          "y": 0.5,
          "yanchor": "middle",
          "yref": "paper"
         }
        ],
        "height": 800,
        "template": {
         "data": {
          "bar": [
           {
            "error_x": {
             "color": "#2a3f5f"
            },
            "error_y": {
             "color": "#2a3f5f"
            },
            "marker": {
             "line": {
              "color": "#E5ECF6",
              "width": 0.5
             },
             "pattern": {
              "fillmode": "overlay",
              "size": 10,
              "solidity": 0.2
             }
            },
            "type": "bar"
           }
          ],
          "barpolar": [
           {
            "marker": {
             "line": {
              "color": "#E5ECF6",
              "width": 0.5
             },
             "pattern": {
              "fillmode": "overlay",
              "size": 10,
              "solidity": 0.2
             }
            },
            "type": "barpolar"
           }
          ],
          "carpet": [
           {
            "aaxis": {
             "endlinecolor": "#2a3f5f",
             "gridcolor": "white",
             "linecolor": "white",
             "minorgridcolor": "white",
             "startlinecolor": "#2a3f5f"
            },
            "baxis": {
             "endlinecolor": "#2a3f5f",
             "gridcolor": "white",
             "linecolor": "white",
             "minorgridcolor": "white",
             "startlinecolor": "#2a3f5f"
            },
            "type": "carpet"
           }
          ],
          "choropleth": [
           {
            "colorbar": {
             "outlinewidth": 0,
             "ticks": ""
            },
            "type": "choropleth"
           }
          ],
          "contour": [
           {
            "colorbar": {
             "outlinewidth": 0,
             "ticks": ""
            },
            "colorscale": [
             [
              0,
              "#0d0887"
             ],
             [
              0.1111111111111111,
              "#46039f"
             ],
             [
              0.2222222222222222,
              "#7201a8"
             ],
             [
              0.3333333333333333,
              "#9c179e"
             ],
             [
              0.4444444444444444,
              "#bd3786"
             ],
             [
              0.5555555555555556,
              "#d8576b"
             ],
             [
              0.6666666666666666,
              "#ed7953"
             ],
             [
              0.7777777777777778,
              "#fb9f3a"
             ],
             [
              0.8888888888888888,
              "#fdca26"
             ],
             [
              1,
              "#f0f921"
             ]
            ],
            "type": "contour"
           }
          ],
          "contourcarpet": [
           {
            "colorbar": {
             "outlinewidth": 0,
             "ticks": ""
            },
            "type": "contourcarpet"
           }
          ],
          "heatmap": [
           {
            "colorbar": {
             "outlinewidth": 0,
             "ticks": ""
            },
            "colorscale": [
             [
              0,
              "#0d0887"
             ],
             [
              0.1111111111111111,
              "#46039f"
             ],
             [
              0.2222222222222222,
              "#7201a8"
             ],
             [
              0.3333333333333333,
              "#9c179e"
             ],
             [
              0.4444444444444444,
              "#bd3786"
             ],
             [
              0.5555555555555556,
              "#d8576b"
             ],
             [
              0.6666666666666666,
              "#ed7953"
             ],
             [
              0.7777777777777778,
              "#fb9f3a"
             ],
             [
              0.8888888888888888,
              "#fdca26"
             ],
             [
              1,
              "#f0f921"
             ]
            ],
            "type": "heatmap"
           }
          ],
          "heatmapgl": [
           {
            "colorbar": {
             "outlinewidth": 0,
             "ticks": ""
            },
            "colorscale": [
             [
              0,
              "#0d0887"
             ],
             [
              0.1111111111111111,
              "#46039f"
             ],
             [
              0.2222222222222222,
              "#7201a8"
             ],
             [
              0.3333333333333333,
              "#9c179e"
             ],
             [
              0.4444444444444444,
              "#bd3786"
             ],
             [
              0.5555555555555556,
              "#d8576b"
             ],
             [
              0.6666666666666666,
              "#ed7953"
             ],
             [
              0.7777777777777778,
              "#fb9f3a"
             ],
             [
              0.8888888888888888,
              "#fdca26"
             ],
             [
              1,
              "#f0f921"
             ]
            ],
            "type": "heatmapgl"
           }
          ],
          "histogram": [
           {
            "marker": {
             "pattern": {
              "fillmode": "overlay",
              "size": 10,
              "solidity": 0.2
             }
            },
            "type": "histogram"
           }
          ],
          "histogram2d": [
           {
            "colorbar": {
             "outlinewidth": 0,
             "ticks": ""
            },
            "colorscale": [
             [
              0,
              "#0d0887"
             ],
             [
              0.1111111111111111,
              "#46039f"
             ],
             [
              0.2222222222222222,
              "#7201a8"
             ],
             [
              0.3333333333333333,
              "#9c179e"
             ],
             [
              0.4444444444444444,
              "#bd3786"
             ],
             [
              0.5555555555555556,
              "#d8576b"
             ],
             [
              0.6666666666666666,
              "#ed7953"
             ],
             [
              0.7777777777777778,
              "#fb9f3a"
             ],
             [
              0.8888888888888888,
              "#fdca26"
             ],
             [
              1,
              "#f0f921"
             ]
            ],
            "type": "histogram2d"
           }
          ],
          "histogram2dcontour": [
           {
            "colorbar": {
             "outlinewidth": 0,
             "ticks": ""
            },
            "colorscale": [
             [
              0,
              "#0d0887"
             ],
             [
              0.1111111111111111,
              "#46039f"
             ],
             [
              0.2222222222222222,
              "#7201a8"
             ],
             [
              0.3333333333333333,
              "#9c179e"
             ],
             [
              0.4444444444444444,
              "#bd3786"
             ],
             [
              0.5555555555555556,
              "#d8576b"
             ],
             [
              0.6666666666666666,
              "#ed7953"
             ],
             [
              0.7777777777777778,
              "#fb9f3a"
             ],
             [
              0.8888888888888888,
              "#fdca26"
             ],
             [
              1,
              "#f0f921"
             ]
            ],
            "type": "histogram2dcontour"
           }
          ],
          "mesh3d": [
           {
            "colorbar": {
             "outlinewidth": 0,
             "ticks": ""
            },
            "type": "mesh3d"
           }
          ],
          "parcoords": [
           {
            "line": {
             "colorbar": {
              "outlinewidth": 0,
              "ticks": ""
             }
            },
            "type": "parcoords"
           }
          ],
          "pie": [
           {
            "automargin": true,
            "type": "pie"
           }
          ],
          "scatter": [
           {
            "fillpattern": {
             "fillmode": "overlay",
             "size": 10,
             "solidity": 0.2
            },
            "type": "scatter"
           }
          ],
          "scatter3d": [
           {
            "line": {
             "colorbar": {
              "outlinewidth": 0,
              "ticks": ""
             }
            },
            "marker": {
             "colorbar": {
              "outlinewidth": 0,
              "ticks": ""
             }
            },
            "type": "scatter3d"
           }
          ],
          "scattercarpet": [
           {
            "marker": {
             "colorbar": {
              "outlinewidth": 0,
              "ticks": ""
             }
            },
            "type": "scattercarpet"
           }
          ],
          "scattergeo": [
           {
            "marker": {
             "colorbar": {
              "outlinewidth": 0,
              "ticks": ""
             }
            },
            "type": "scattergeo"
           }
          ],
          "scattergl": [
           {
            "marker": {
             "colorbar": {
              "outlinewidth": 0,
              "ticks": ""
             }
            },
            "type": "scattergl"
           }
          ],
          "scattermapbox": [
           {
            "marker": {
             "colorbar": {
              "outlinewidth": 0,
              "ticks": ""
             }
            },
            "type": "scattermapbox"
           }
          ],
          "scatterpolar": [
           {
            "marker": {
             "colorbar": {
              "outlinewidth": 0,
              "ticks": ""
             }
            },
            "type": "scatterpolar"
           }
          ],
          "scatterpolargl": [
           {
            "marker": {
             "colorbar": {
              "outlinewidth": 0,
              "ticks": ""
             }
            },
            "type": "scatterpolargl"
           }
          ],
          "scatterternary": [
           {
            "marker": {
             "colorbar": {
              "outlinewidth": 0,
              "ticks": ""
             }
            },
            "type": "scatterternary"
           }
          ],
          "surface": [
           {
            "colorbar": {
             "outlinewidth": 0,
             "ticks": ""
            },
            "colorscale": [
             [
              0,
              "#0d0887"
             ],
             [
              0.1111111111111111,
              "#46039f"
             ],
             [
              0.2222222222222222,
              "#7201a8"
             ],
             [
              0.3333333333333333,
              "#9c179e"
             ],
             [
              0.4444444444444444,
              "#bd3786"
             ],
             [
              0.5555555555555556,
              "#d8576b"
             ],
             [
              0.6666666666666666,
              "#ed7953"
             ],
             [
              0.7777777777777778,
              "#fb9f3a"
             ],
             [
              0.8888888888888888,
              "#fdca26"
             ],
             [
              1,
              "#f0f921"
             ]
            ],
            "type": "surface"
           }
          ],
          "table": [
           {
            "cells": {
             "fill": {
              "color": "#EBF0F8"
             },
             "line": {
              "color": "white"
             }
            },
            "header": {
             "fill": {
              "color": "#C8D4E3"
             },
             "line": {
              "color": "white"
             }
            },
            "type": "table"
           }
          ]
         },
         "layout": {
          "annotationdefaults": {
           "arrowcolor": "#2a3f5f",
           "arrowhead": 0,
           "arrowwidth": 1
          },
          "autotypenumbers": "strict",
          "coloraxis": {
           "colorbar": {
            "outlinewidth": 0,
            "ticks": ""
           }
          },
          "colorscale": {
           "diverging": [
            [
             0,
             "#8e0152"
            ],
            [
             0.1,
             "#c51b7d"
            ],
            [
             0.2,
             "#de77ae"
            ],
            [
             0.3,
             "#f1b6da"
            ],
            [
             0.4,
             "#fde0ef"
            ],
            [
             0.5,
             "#f7f7f7"
            ],
            [
             0.6,
             "#e6f5d0"
            ],
            [
             0.7,
             "#b8e186"
            ],
            [
             0.8,
             "#7fbc41"
            ],
            [
             0.9,
             "#4d9221"
            ],
            [
             1,
             "#276419"
            ]
           ],
           "sequential": [
            [
             0,
             "#0d0887"
            ],
            [
             0.1111111111111111,
             "#46039f"
            ],
            [
             0.2222222222222222,
             "#7201a8"
            ],
            [
             0.3333333333333333,
             "#9c179e"
            ],
            [
             0.4444444444444444,
             "#bd3786"
            ],
            [
             0.5555555555555556,
             "#d8576b"
            ],
            [
             0.6666666666666666,
             "#ed7953"
            ],
            [
             0.7777777777777778,
             "#fb9f3a"
            ],
            [
             0.8888888888888888,
             "#fdca26"
            ],
            [
             1,
             "#f0f921"
            ]
           ],
           "sequentialminus": [
            [
             0,
             "#0d0887"
            ],
            [
             0.1111111111111111,
             "#46039f"
            ],
            [
             0.2222222222222222,
             "#7201a8"
            ],
            [
             0.3333333333333333,
             "#9c179e"
            ],
            [
             0.4444444444444444,
             "#bd3786"
            ],
            [
             0.5555555555555556,
             "#d8576b"
            ],
            [
             0.6666666666666666,
             "#ed7953"
            ],
            [
             0.7777777777777778,
             "#fb9f3a"
            ],
            [
             0.8888888888888888,
             "#fdca26"
            ],
            [
             1,
             "#f0f921"
            ]
           ]
          },
          "colorway": [
           "#636efa",
           "#EF553B",
           "#00cc96",
           "#ab63fa",
           "#FFA15A",
           "#19d3f3",
           "#FF6692",
           "#B6E880",
           "#FF97FF",
           "#FECB52"
          ],
          "font": {
           "color": "#2a3f5f"
          },
          "geo": {
           "bgcolor": "white",
           "lakecolor": "white",
           "landcolor": "#E5ECF6",
           "showlakes": true,
           "showland": true,
           "subunitcolor": "white"
          },
          "hoverlabel": {
           "align": "left"
          },
          "hovermode": "closest",
          "mapbox": {
           "style": "light"
          },
          "paper_bgcolor": "white",
          "plot_bgcolor": "#E5ECF6",
          "polar": {
           "angularaxis": {
            "gridcolor": "white",
            "linecolor": "white",
            "ticks": ""
           },
           "bgcolor": "#E5ECF6",
           "radialaxis": {
            "gridcolor": "white",
            "linecolor": "white",
            "ticks": ""
           }
          },
          "scene": {
           "xaxis": {
            "backgroundcolor": "#E5ECF6",
            "gridcolor": "white",
            "gridwidth": 2,
            "linecolor": "white",
            "showbackground": true,
            "ticks": "",
            "zerolinecolor": "white"
           },
           "yaxis": {
            "backgroundcolor": "#E5ECF6",
            "gridcolor": "white",
            "gridwidth": 2,
            "linecolor": "white",
            "showbackground": true,
            "ticks": "",
            "zerolinecolor": "white"
           },
           "zaxis": {
            "backgroundcolor": "#E5ECF6",
            "gridcolor": "white",
            "gridwidth": 2,
            "linecolor": "white",
            "showbackground": true,
            "ticks": "",
            "zerolinecolor": "white"
           }
          },
          "shapedefaults": {
           "line": {
            "color": "#2a3f5f"
           }
          },
          "ternary": {
           "aaxis": {
            "gridcolor": "white",
            "linecolor": "white",
            "ticks": ""
           },
           "baxis": {
            "gridcolor": "white",
            "linecolor": "white",
            "ticks": ""
           },
           "bgcolor": "#E5ECF6",
           "caxis": {
            "gridcolor": "white",
            "linecolor": "white",
            "ticks": ""
           }
          },
          "title": {
           "x": 0.05
          },
          "xaxis": {
           "automargin": true,
           "gridcolor": "white",
           "linecolor": "white",
           "ticks": "",
           "title": {
            "standoff": 15
           },
           "zerolinecolor": "white",
           "zerolinewidth": 2
          },
          "yaxis": {
           "automargin": true,
           "gridcolor": "white",
           "linecolor": "white",
           "ticks": "",
           "title": {
            "standoff": 15
           },
           "zerolinecolor": "white",
           "zerolinewidth": 2
          }
         }
        },
        "width": 1780,
        "xaxis": {
         "anchor": "y",
         "domain": [
          0,
          1
         ]
        },
        "xaxis2": {
         "anchor": "y2",
         "domain": [
          0,
          1
         ]
        },
        "yaxis": {
         "anchor": "x",
         "domain": [
          0.625,
          1
         ]
        },
        "yaxis2": {
         "anchor": "x2",
         "domain": [
          0,
          0.375
         ]
        }
       }
      }
     },
     "metadata": {},
     "output_type": "display_data"
    }
   ],
   "source": [
    "burn_reburn = areabygroup_causes.iloc[:-1, :]\n",
    "burn_reburn = burn_reburn.tail(2)\n",
    "num_burn_reburn = numfiresbygroup_causes.iloc[:-1, :]\n",
    "num_burn_reburn = num_burn_reburn.tail(2)\n",
    "\n",
    "burns = make_subplots(rows=2, cols=1, x_title='Cause', y_title='Area Burned (hectares)', subplot_titles=['Area Burned from Wildfires for Prescribed Burns and Reburns', 'Number of Fires caused by Prescribed Burns and Reburns'])\n",
    "\n",
    "for i in range(1990,2022):\n",
    "\n",
    "    burns.add_bar(x=burn_reburn['Cause'], y=burn_reburn[i], name=i, marker=dict(color=color_map[i]), row=1, col=1)\n",
    "    burns.add_bar(x=num_burn_reburn['Cause'], y=num_burn_reburn[i], name=i, marker=dict(color=color_map[i]), row=2, col=1)\n",
    "\n",
    "burns.update_layout(height=800, width=1780).show()"
   ]
  },
  {
   "cell_type": "code",
   "execution_count": 118,
   "metadata": {},
   "outputs": [
    {
     "data": {
      "application/vnd.plotly.v1+json": {
       "config": {
        "plotlyServerURL": "https://plot.ly"
       },
       "data": [
        {
         "marker": {
          "color": [
           "blue",
           "red",
           "green",
           "orange",
           "purple",
           "purple",
           "blue",
           "red",
           "green",
           "purple",
           "purple",
           "blue",
           "red",
           "green",
           "purple",
           "purple",
           "blue",
           "red",
           "purple",
           "purple",
           "blue",
           "red",
           "green",
           "purple",
           "purple",
           "blue",
           "red",
           "green",
           "purple",
           "purple",
           "blue",
           "red",
           "green",
           "purple",
           "purple",
           "blue",
           "red",
           "green",
           "purple",
           "purple",
           "purple",
           "blue",
           "red",
           "purple",
           "purple",
           "blue",
           "red",
           "green",
           "purple",
           "purple",
           "blue",
           "red",
           "green",
           "purple",
           "purple",
           "blue",
           "red",
           "purple",
           "purple"
          ]
         },
         "type": "bar",
         "x": [
          [
           "Human activity",
           "Lightning",
           "Prescribed burn",
           "Reburn",
           "Unspecified",
           "Unspecified",
           "Human activity",
           "Lightning",
           "Prescribed burn",
           "Unspecified",
           "Unspecified",
           "Human activity",
           "Lightning",
           "Prescribed burn",
           "Unspecified",
           "Unspecified",
           "Human activity",
           "Lightning",
           "Unspecified",
           "Unspecified",
           "Human activity",
           "Lightning",
           "Prescribed burn",
           "Unspecified",
           "Unspecified",
           "Human activity",
           "Lightning",
           "Prescribed burn",
           "Unspecified",
           "Unspecified",
           "Human activity",
           "Lightning",
           "Prescribed burn",
           "Unspecified",
           "Unspecified",
           "Human activity",
           "Lightning",
           "Prescribed burn",
           "Unspecified",
           "Unspecified",
           "Unspecified",
           "Human activity",
           "Lightning",
           "Unspecified",
           "Unspecified",
           "Human activity",
           "Lightning",
           "Prescribed burn",
           "Unspecified",
           "Unspecified",
           "Human activity",
           "Lightning",
           "Prescribed burn",
           "Unspecified",
           "Unspecified",
           "Human activity",
           "Lightning",
           "Unspecified",
           "Unspecified"
          ],
          [
           "Alberta",
           "Alberta",
           "Alberta",
           "Alberta",
           "Alberta",
           "Alberta",
           "British Columbia",
           "British Columbia",
           "British Columbia",
           "British Columbia",
           "British Columbia",
           "Manitoba",
           "Manitoba",
           "Manitoba",
           "Manitoba",
           "Manitoba",
           "New Brunswick",
           "New Brunswick",
           "New Brunswick",
           "New Brunswick",
           "Newfoundland and Labrador",
           "Newfoundland and Labrador",
           "Newfoundland and Labrador",
           "Newfoundland and Labrador",
           "Newfoundland and Labrador",
           "Northwest Territories",
           "Northwest Territories",
           "Northwest Territories",
           "Northwest Territories",
           "Northwest Territories",
           "Nova Scotia",
           "Nova Scotia",
           "Nova Scotia",
           "Nova Scotia",
           "Nova Scotia",
           "Ontario",
           "Ontario",
           "Ontario",
           "Ontario",
           "Ontario",
           "Parks Canada",
           "Prince Edward Island",
           "Prince Edward Island",
           "Prince Edward Island",
           "Prince Edward Island",
           "Quebec",
           "Quebec",
           "Quebec",
           "Quebec",
           "Quebec",
           "Saskatchewan",
           "Saskatchewan",
           "Saskatchewan",
           "Saskatchewan",
           "Saskatchewan",
           "Yukon",
           "Yukon",
           "Yukon",
           "Yukon"
          ]
         ],
         "y": [
          826789,
          5137901,
          16309,
          228,
          2047467,
          54088,
          787918,
          4316409,
          2891,
          6465,
          869255,
          971437,
          5857735,
          10391,
          1234895,
          1266777,
          20160,
          2310,
          1820,
          427,
          67843,
          550868,
          264,
          36722,
          324,
          173598,
          18405471,
          52455,
          15286,
          156630,
          19219,
          137,
          81,
          2350,
          197,
          477998,
          4170140,
          10137,
          41438,
          793326,
          42538,
          783,
          0,
          272,
          0,
          617001,
          7534064,
          1911,
          1,
          49748,
          1251736,
          13497439,
          46477,
          1485,
          956084,
          131372,
          5237944,
          925,
          118126
         ]
        }
       ],
       "layout": {
        "template": {
         "data": {
          "bar": [
           {
            "error_x": {
             "color": "#2a3f5f"
            },
            "error_y": {
             "color": "#2a3f5f"
            },
            "marker": {
             "line": {
              "color": "#E5ECF6",
              "width": 0.5
             },
             "pattern": {
              "fillmode": "overlay",
              "size": 10,
              "solidity": 0.2
             }
            },
            "type": "bar"
           }
          ],
          "barpolar": [
           {
            "marker": {
             "line": {
              "color": "#E5ECF6",
              "width": 0.5
             },
             "pattern": {
              "fillmode": "overlay",
              "size": 10,
              "solidity": 0.2
             }
            },
            "type": "barpolar"
           }
          ],
          "carpet": [
           {
            "aaxis": {
             "endlinecolor": "#2a3f5f",
             "gridcolor": "white",
             "linecolor": "white",
             "minorgridcolor": "white",
             "startlinecolor": "#2a3f5f"
            },
            "baxis": {
             "endlinecolor": "#2a3f5f",
             "gridcolor": "white",
             "linecolor": "white",
             "minorgridcolor": "white",
             "startlinecolor": "#2a3f5f"
            },
            "type": "carpet"
           }
          ],
          "choropleth": [
           {
            "colorbar": {
             "outlinewidth": 0,
             "ticks": ""
            },
            "type": "choropleth"
           }
          ],
          "contour": [
           {
            "colorbar": {
             "outlinewidth": 0,
             "ticks": ""
            },
            "colorscale": [
             [
              0,
              "#0d0887"
             ],
             [
              0.1111111111111111,
              "#46039f"
             ],
             [
              0.2222222222222222,
              "#7201a8"
             ],
             [
              0.3333333333333333,
              "#9c179e"
             ],
             [
              0.4444444444444444,
              "#bd3786"
             ],
             [
              0.5555555555555556,
              "#d8576b"
             ],
             [
              0.6666666666666666,
              "#ed7953"
             ],
             [
              0.7777777777777778,
              "#fb9f3a"
             ],
             [
              0.8888888888888888,
              "#fdca26"
             ],
             [
              1,
              "#f0f921"
             ]
            ],
            "type": "contour"
           }
          ],
          "contourcarpet": [
           {
            "colorbar": {
             "outlinewidth": 0,
             "ticks": ""
            },
            "type": "contourcarpet"
           }
          ],
          "heatmap": [
           {
            "colorbar": {
             "outlinewidth": 0,
             "ticks": ""
            },
            "colorscale": [
             [
              0,
              "#0d0887"
             ],
             [
              0.1111111111111111,
              "#46039f"
             ],
             [
              0.2222222222222222,
              "#7201a8"
             ],
             [
              0.3333333333333333,
              "#9c179e"
             ],
             [
              0.4444444444444444,
              "#bd3786"
             ],
             [
              0.5555555555555556,
              "#d8576b"
             ],
             [
              0.6666666666666666,
              "#ed7953"
             ],
             [
              0.7777777777777778,
              "#fb9f3a"
             ],
             [
              0.8888888888888888,
              "#fdca26"
             ],
             [
              1,
              "#f0f921"
             ]
            ],
            "type": "heatmap"
           }
          ],
          "heatmapgl": [
           {
            "colorbar": {
             "outlinewidth": 0,
             "ticks": ""
            },
            "colorscale": [
             [
              0,
              "#0d0887"
             ],
             [
              0.1111111111111111,
              "#46039f"
             ],
             [
              0.2222222222222222,
              "#7201a8"
             ],
             [
              0.3333333333333333,
              "#9c179e"
             ],
             [
              0.4444444444444444,
              "#bd3786"
             ],
             [
              0.5555555555555556,
              "#d8576b"
             ],
             [
              0.6666666666666666,
              "#ed7953"
             ],
             [
              0.7777777777777778,
              "#fb9f3a"
             ],
             [
              0.8888888888888888,
              "#fdca26"
             ],
             [
              1,
              "#f0f921"
             ]
            ],
            "type": "heatmapgl"
           }
          ],
          "histogram": [
           {
            "marker": {
             "pattern": {
              "fillmode": "overlay",
              "size": 10,
              "solidity": 0.2
             }
            },
            "type": "histogram"
           }
          ],
          "histogram2d": [
           {
            "colorbar": {
             "outlinewidth": 0,
             "ticks": ""
            },
            "colorscale": [
             [
              0,
              "#0d0887"
             ],
             [
              0.1111111111111111,
              "#46039f"
             ],
             [
              0.2222222222222222,
              "#7201a8"
             ],
             [
              0.3333333333333333,
              "#9c179e"
             ],
             [
              0.4444444444444444,
              "#bd3786"
             ],
             [
              0.5555555555555556,
              "#d8576b"
             ],
             [
              0.6666666666666666,
              "#ed7953"
             ],
             [
              0.7777777777777778,
              "#fb9f3a"
             ],
             [
              0.8888888888888888,
              "#fdca26"
             ],
             [
              1,
              "#f0f921"
             ]
            ],
            "type": "histogram2d"
           }
          ],
          "histogram2dcontour": [
           {
            "colorbar": {
             "outlinewidth": 0,
             "ticks": ""
            },
            "colorscale": [
             [
              0,
              "#0d0887"
             ],
             [
              0.1111111111111111,
              "#46039f"
             ],
             [
              0.2222222222222222,
              "#7201a8"
             ],
             [
              0.3333333333333333,
              "#9c179e"
             ],
             [
              0.4444444444444444,
              "#bd3786"
             ],
             [
              0.5555555555555556,
              "#d8576b"
             ],
             [
              0.6666666666666666,
              "#ed7953"
             ],
             [
              0.7777777777777778,
              "#fb9f3a"
             ],
             [
              0.8888888888888888,
              "#fdca26"
             ],
             [
              1,
              "#f0f921"
             ]
            ],
            "type": "histogram2dcontour"
           }
          ],
          "mesh3d": [
           {
            "colorbar": {
             "outlinewidth": 0,
             "ticks": ""
            },
            "type": "mesh3d"
           }
          ],
          "parcoords": [
           {
            "line": {
             "colorbar": {
              "outlinewidth": 0,
              "ticks": ""
             }
            },
            "type": "parcoords"
           }
          ],
          "pie": [
           {
            "automargin": true,
            "type": "pie"
           }
          ],
          "scatter": [
           {
            "fillpattern": {
             "fillmode": "overlay",
             "size": 10,
             "solidity": 0.2
            },
            "type": "scatter"
           }
          ],
          "scatter3d": [
           {
            "line": {
             "colorbar": {
              "outlinewidth": 0,
              "ticks": ""
             }
            },
            "marker": {
             "colorbar": {
              "outlinewidth": 0,
              "ticks": ""
             }
            },
            "type": "scatter3d"
           }
          ],
          "scattercarpet": [
           {
            "marker": {
             "colorbar": {
              "outlinewidth": 0,
              "ticks": ""
             }
            },
            "type": "scattercarpet"
           }
          ],
          "scattergeo": [
           {
            "marker": {
             "colorbar": {
              "outlinewidth": 0,
              "ticks": ""
             }
            },
            "type": "scattergeo"
           }
          ],
          "scattergl": [
           {
            "marker": {
             "colorbar": {
              "outlinewidth": 0,
              "ticks": ""
             }
            },
            "type": "scattergl"
           }
          ],
          "scattermapbox": [
           {
            "marker": {
             "colorbar": {
              "outlinewidth": 0,
              "ticks": ""
             }
            },
            "type": "scattermapbox"
           }
          ],
          "scatterpolar": [
           {
            "marker": {
             "colorbar": {
              "outlinewidth": 0,
              "ticks": ""
             }
            },
            "type": "scatterpolar"
           }
          ],
          "scatterpolargl": [
           {
            "marker": {
             "colorbar": {
              "outlinewidth": 0,
              "ticks": ""
             }
            },
            "type": "scatterpolargl"
           }
          ],
          "scatterternary": [
           {
            "marker": {
             "colorbar": {
              "outlinewidth": 0,
              "ticks": ""
             }
            },
            "type": "scatterternary"
           }
          ],
          "surface": [
           {
            "colorbar": {
             "outlinewidth": 0,
             "ticks": ""
            },
            "colorscale": [
             [
              0,
              "#0d0887"
             ],
             [
              0.1111111111111111,
              "#46039f"
             ],
             [
              0.2222222222222222,
              "#7201a8"
             ],
             [
              0.3333333333333333,
              "#9c179e"
             ],
             [
              0.4444444444444444,
              "#bd3786"
             ],
             [
              0.5555555555555556,
              "#d8576b"
             ],
             [
              0.6666666666666666,
              "#ed7953"
             ],
             [
              0.7777777777777778,
              "#fb9f3a"
             ],
             [
              0.8888888888888888,
              "#fdca26"
             ],
             [
              1,
              "#f0f921"
             ]
            ],
            "type": "surface"
           }
          ],
          "table": [
           {
            "cells": {
             "fill": {
              "color": "#EBF0F8"
             },
             "line": {
              "color": "white"
             }
            },
            "header": {
             "fill": {
              "color": "#C8D4E3"
             },
             "line": {
              "color": "white"
             }
            },
            "type": "table"
           }
          ]
         },
         "layout": {
          "annotationdefaults": {
           "arrowcolor": "#2a3f5f",
           "arrowhead": 0,
           "arrowwidth": 1
          },
          "autotypenumbers": "strict",
          "coloraxis": {
           "colorbar": {
            "outlinewidth": 0,
            "ticks": ""
           }
          },
          "colorscale": {
           "diverging": [
            [
             0,
             "#8e0152"
            ],
            [
             0.1,
             "#c51b7d"
            ],
            [
             0.2,
             "#de77ae"
            ],
            [
             0.3,
             "#f1b6da"
            ],
            [
             0.4,
             "#fde0ef"
            ],
            [
             0.5,
             "#f7f7f7"
            ],
            [
             0.6,
             "#e6f5d0"
            ],
            [
             0.7,
             "#b8e186"
            ],
            [
             0.8,
             "#7fbc41"
            ],
            [
             0.9,
             "#4d9221"
            ],
            [
             1,
             "#276419"
            ]
           ],
           "sequential": [
            [
             0,
             "#0d0887"
            ],
            [
             0.1111111111111111,
             "#46039f"
            ],
            [
             0.2222222222222222,
             "#7201a8"
            ],
            [
             0.3333333333333333,
             "#9c179e"
            ],
            [
             0.4444444444444444,
             "#bd3786"
            ],
            [
             0.5555555555555556,
             "#d8576b"
            ],
            [
             0.6666666666666666,
             "#ed7953"
            ],
            [
             0.7777777777777778,
             "#fb9f3a"
            ],
            [
             0.8888888888888888,
             "#fdca26"
            ],
            [
             1,
             "#f0f921"
            ]
           ],
           "sequentialminus": [
            [
             0,
             "#0d0887"
            ],
            [
             0.1111111111111111,
             "#46039f"
            ],
            [
             0.2222222222222222,
             "#7201a8"
            ],
            [
             0.3333333333333333,
             "#9c179e"
            ],
            [
             0.4444444444444444,
             "#bd3786"
            ],
            [
             0.5555555555555556,
             "#d8576b"
            ],
            [
             0.6666666666666666,
             "#ed7953"
            ],
            [
             0.7777777777777778,
             "#fb9f3a"
            ],
            [
             0.8888888888888888,
             "#fdca26"
            ],
            [
             1,
             "#f0f921"
            ]
           ]
          },
          "colorway": [
           "#636efa",
           "#EF553B",
           "#00cc96",
           "#ab63fa",
           "#FFA15A",
           "#19d3f3",
           "#FF6692",
           "#B6E880",
           "#FF97FF",
           "#FECB52"
          ],
          "font": {
           "color": "#2a3f5f"
          },
          "geo": {
           "bgcolor": "white",
           "lakecolor": "white",
           "landcolor": "#E5ECF6",
           "showlakes": true,
           "showland": true,
           "subunitcolor": "white"
          },
          "hoverlabel": {
           "align": "left"
          },
          "hovermode": "closest",
          "mapbox": {
           "style": "light"
          },
          "paper_bgcolor": "white",
          "plot_bgcolor": "#E5ECF6",
          "polar": {
           "angularaxis": {
            "gridcolor": "white",
            "linecolor": "white",
            "ticks": ""
           },
           "bgcolor": "#E5ECF6",
           "radialaxis": {
            "gridcolor": "white",
            "linecolor": "white",
            "ticks": ""
           }
          },
          "scene": {
           "xaxis": {
            "backgroundcolor": "#E5ECF6",
            "gridcolor": "white",
            "gridwidth": 2,
            "linecolor": "white",
            "showbackground": true,
            "ticks": "",
            "zerolinecolor": "white"
           },
           "yaxis": {
            "backgroundcolor": "#E5ECF6",
            "gridcolor": "white",
            "gridwidth": 2,
            "linecolor": "white",
            "showbackground": true,
            "ticks": "",
            "zerolinecolor": "white"
           },
           "zaxis": {
            "backgroundcolor": "#E5ECF6",
            "gridcolor": "white",
            "gridwidth": 2,
            "linecolor": "white",
            "showbackground": true,
            "ticks": "",
            "zerolinecolor": "white"
           }
          },
          "shapedefaults": {
           "line": {
            "color": "#2a3f5f"
           }
          },
          "ternary": {
           "aaxis": {
            "gridcolor": "white",
            "linecolor": "white",
            "ticks": ""
           },
           "baxis": {
            "gridcolor": "white",
            "linecolor": "white",
            "ticks": ""
           },
           "bgcolor": "#E5ECF6",
           "caxis": {
            "gridcolor": "white",
            "linecolor": "white",
            "ticks": ""
           }
          },
          "title": {
           "x": 0.05
          },
          "xaxis": {
           "automargin": true,
           "gridcolor": "white",
           "linecolor": "white",
           "ticks": "",
           "title": {
            "standoff": 15
           },
           "zerolinecolor": "white",
           "zerolinewidth": 2
          },
          "yaxis": {
           "automargin": true,
           "gridcolor": "white",
           "linecolor": "white",
           "ticks": "",
           "title": {
            "standoff": 15
           },
           "zerolinecolor": "white",
           "zerolinewidth": 2
          }
         }
        },
        "yaxis": {
         "title": {
          "text": "Area Burned (hectares)"
         }
        }
       }
      }
     },
     "metadata": {},
     "output_type": "display_data"
    }
   ],
   "source": [
    "areabygroup['Sum']= areabygroup.iloc[:,4:35].sum(axis=1)\n",
    "summationareabygrp = go.Figure()\n",
    "\n",
    "unique_causes = areabygroup['Cause'].unique()\n",
    "colors = ['blue', 'red', 'green', 'orange', 'purple']  \n",
    "\n",
    "cause_color_map = {cause: color for cause, color in zip(unique_causes, colors)}\n",
    "\n",
    "# Create a list of colors based on the cause of each bar\n",
    "bar_colors = [cause_color_map[cause] for cause in areabygroup['Cause']]\n",
    "summationareabygrp.add_bar(x=[areabygroup['Cause'],areabygroup['Jurisdiction']], y=areabygroup['Sum'],marker=dict(color=bar_colors))\n",
    "summationareabygrp.update_layout(yaxis_title=\"Area Burned (hectares)\")"
   ]
  },
  {
   "cell_type": "code",
   "execution_count": 119,
   "metadata": {},
   "outputs": [
    {
     "data": {
      "application/vnd.plotly.v1+json": {
       "config": {
        "plotlyServerURL": "https://plot.ly"
       },
       "data": [
        {
         "alignmentgroup": "True",
         "hovertemplate": "Cause=Human activity<br>Jurisdiction=%{x}<br>2020=%{y}<extra></extra>",
         "legendgroup": "Human activity",
         "marker": {
          "color": "#636efa",
          "pattern": {
           "shape": ""
          }
         },
         "name": "Human activity",
         "offsetgroup": "Human activity",
         "orientation": "v",
         "showlegend": true,
         "textposition": "auto",
         "type": "bar",
         "x": [
          "Alberta",
          "British Columbia",
          "Manitoba",
          "New Brunswick",
          "Newfoundland and Labrador",
          "Northwest Territories",
          "Nova Scotia",
          "Ontario",
          "Prince Edward Island",
          "Quebec",
          "Saskatchewan",
          "Yukon"
         ],
         "xaxis": "x",
         "y": [
          2949,
          1012,
          34268,
          1224,
          148,
          371,
          678,
          985,
          0,
          52090,
          41398,
          12
         ],
         "yaxis": "y"
        },
        {
         "alignmentgroup": "True",
         "hovertemplate": "Cause=Lightning<br>Jurisdiction=%{x}<br>2020=%{y}<extra></extra>",
         "legendgroup": "Lightning",
         "marker": {
          "color": "#EF553B",
          "pattern": {
           "shape": ""
          }
         },
         "name": "Lightning",
         "offsetgroup": "Lightning",
         "orientation": "v",
         "showlegend": true,
         "textposition": "auto",
         "type": "bar",
         "x": [
          "Alberta",
          "British Columbia",
          "Manitoba",
          "New Brunswick",
          "Newfoundland and Labrador",
          "Northwest Territories",
          "Nova Scotia",
          "Ontario",
          "Prince Edward Island",
          "Quebec",
          "Saskatchewan",
          "Yukon"
         ],
         "xaxis": "x",
         "y": [
          393,
          11336,
          15035,
          51,
          4185,
          20768,
          18,
          14471,
          0,
          7897,
          780,
          3452
         ],
         "yaxis": "y"
        },
        {
         "alignmentgroup": "True",
         "hovertemplate": "Cause=Prescribed burn<br>Jurisdiction=%{x}<br>2020=%{y}<extra></extra>",
         "legendgroup": "Prescribed burn",
         "marker": {
          "color": "#00cc96",
          "pattern": {
           "shape": ""
          }
         },
         "name": "Prescribed burn",
         "offsetgroup": "Prescribed burn",
         "orientation": "v",
         "showlegend": true,
         "textposition": "auto",
         "type": "bar",
         "x": [
          "Alberta",
          "British Columbia",
          "Manitoba",
          "Newfoundland and Labrador",
          "Northwest Territories",
          "Nova Scotia",
          "Ontario",
          "Quebec",
          "Saskatchewan"
         ],
         "xaxis": "x",
         "y": [
          1250,
          123,
          0,
          0,
          0,
          0,
          4,
          15,
          0
         ],
         "yaxis": "y"
        },
        {
         "alignmentgroup": "True",
         "hovertemplate": "Cause=Reburn<br>Jurisdiction=%{x}<br>2020=%{y}<extra></extra>",
         "legendgroup": "Reburn",
         "marker": {
          "color": "#ab63fa",
          "pattern": {
           "shape": ""
          }
         },
         "name": "Reburn",
         "offsetgroup": "Reburn",
         "orientation": "v",
         "showlegend": true,
         "textposition": "auto",
         "type": "bar",
         "x": [
          "Alberta"
         ],
         "xaxis": "x",
         "y": [
          0
         ],
         "yaxis": "y"
        },
        {
         "alignmentgroup": "True",
         "hovertemplate": "Cause=Unspecified<br>Jurisdiction=%{x}<br>2020=%{y}<extra></extra>",
         "legendgroup": "Unspecified",
         "marker": {
          "color": "#FFA15A",
          "pattern": {
           "shape": ""
          }
         },
         "name": "Unspecified",
         "offsetgroup": "Unspecified",
         "orientation": "v",
         "showlegend": true,
         "textposition": "auto",
         "type": "bar",
         "x": [
          "Alberta",
          "British Columbia",
          "Manitoba",
          "New Brunswick",
          "Newfoundland and Labrador",
          "Northwest Territories",
          "Nova Scotia",
          "Ontario",
          "Parks Canada",
          "Prince Edward Island",
          "Quebec",
          "Saskatchewan",
          "Yukon"
         ],
         "xaxis": "x",
         "y": [
          206,
          2201,
          0,
          115,
          1,
          0,
          1,
          24,
          0,
          0,
          0,
          774,
          0
         ],
         "yaxis": "y"
        }
       ],
       "layout": {
        "barmode": "relative",
        "legend": {
         "title": {
          "text": "Cause"
         },
         "tracegroupgap": 0
        },
        "template": {
         "data": {
          "bar": [
           {
            "error_x": {
             "color": "#2a3f5f"
            },
            "error_y": {
             "color": "#2a3f5f"
            },
            "marker": {
             "line": {
              "color": "#E5ECF6",
              "width": 0.5
             },
             "pattern": {
              "fillmode": "overlay",
              "size": 10,
              "solidity": 0.2
             }
            },
            "type": "bar"
           }
          ],
          "barpolar": [
           {
            "marker": {
             "line": {
              "color": "#E5ECF6",
              "width": 0.5
             },
             "pattern": {
              "fillmode": "overlay",
              "size": 10,
              "solidity": 0.2
             }
            },
            "type": "barpolar"
           }
          ],
          "carpet": [
           {
            "aaxis": {
             "endlinecolor": "#2a3f5f",
             "gridcolor": "white",
             "linecolor": "white",
             "minorgridcolor": "white",
             "startlinecolor": "#2a3f5f"
            },
            "baxis": {
             "endlinecolor": "#2a3f5f",
             "gridcolor": "white",
             "linecolor": "white",
             "minorgridcolor": "white",
             "startlinecolor": "#2a3f5f"
            },
            "type": "carpet"
           }
          ],
          "choropleth": [
           {
            "colorbar": {
             "outlinewidth": 0,
             "ticks": ""
            },
            "type": "choropleth"
           }
          ],
          "contour": [
           {
            "colorbar": {
             "outlinewidth": 0,
             "ticks": ""
            },
            "colorscale": [
             [
              0,
              "#0d0887"
             ],
             [
              0.1111111111111111,
              "#46039f"
             ],
             [
              0.2222222222222222,
              "#7201a8"
             ],
             [
              0.3333333333333333,
              "#9c179e"
             ],
             [
              0.4444444444444444,
              "#bd3786"
             ],
             [
              0.5555555555555556,
              "#d8576b"
             ],
             [
              0.6666666666666666,
              "#ed7953"
             ],
             [
              0.7777777777777778,
              "#fb9f3a"
             ],
             [
              0.8888888888888888,
              "#fdca26"
             ],
             [
              1,
              "#f0f921"
             ]
            ],
            "type": "contour"
           }
          ],
          "contourcarpet": [
           {
            "colorbar": {
             "outlinewidth": 0,
             "ticks": ""
            },
            "type": "contourcarpet"
           }
          ],
          "heatmap": [
           {
            "colorbar": {
             "outlinewidth": 0,
             "ticks": ""
            },
            "colorscale": [
             [
              0,
              "#0d0887"
             ],
             [
              0.1111111111111111,
              "#46039f"
             ],
             [
              0.2222222222222222,
              "#7201a8"
             ],
             [
              0.3333333333333333,
              "#9c179e"
             ],
             [
              0.4444444444444444,
              "#bd3786"
             ],
             [
              0.5555555555555556,
              "#d8576b"
             ],
             [
              0.6666666666666666,
              "#ed7953"
             ],
             [
              0.7777777777777778,
              "#fb9f3a"
             ],
             [
              0.8888888888888888,
              "#fdca26"
             ],
             [
              1,
              "#f0f921"
             ]
            ],
            "type": "heatmap"
           }
          ],
          "heatmapgl": [
           {
            "colorbar": {
             "outlinewidth": 0,
             "ticks": ""
            },
            "colorscale": [
             [
              0,
              "#0d0887"
             ],
             [
              0.1111111111111111,
              "#46039f"
             ],
             [
              0.2222222222222222,
              "#7201a8"
             ],
             [
              0.3333333333333333,
              "#9c179e"
             ],
             [
              0.4444444444444444,
              "#bd3786"
             ],
             [
              0.5555555555555556,
              "#d8576b"
             ],
             [
              0.6666666666666666,
              "#ed7953"
             ],
             [
              0.7777777777777778,
              "#fb9f3a"
             ],
             [
              0.8888888888888888,
              "#fdca26"
             ],
             [
              1,
              "#f0f921"
             ]
            ],
            "type": "heatmapgl"
           }
          ],
          "histogram": [
           {
            "marker": {
             "pattern": {
              "fillmode": "overlay",
              "size": 10,
              "solidity": 0.2
             }
            },
            "type": "histogram"
           }
          ],
          "histogram2d": [
           {
            "colorbar": {
             "outlinewidth": 0,
             "ticks": ""
            },
            "colorscale": [
             [
              0,
              "#0d0887"
             ],
             [
              0.1111111111111111,
              "#46039f"
             ],
             [
              0.2222222222222222,
              "#7201a8"
             ],
             [
              0.3333333333333333,
              "#9c179e"
             ],
             [
              0.4444444444444444,
              "#bd3786"
             ],
             [
              0.5555555555555556,
              "#d8576b"
             ],
             [
              0.6666666666666666,
              "#ed7953"
             ],
             [
              0.7777777777777778,
              "#fb9f3a"
             ],
             [
              0.8888888888888888,
              "#fdca26"
             ],
             [
              1,
              "#f0f921"
             ]
            ],
            "type": "histogram2d"
           }
          ],
          "histogram2dcontour": [
           {
            "colorbar": {
             "outlinewidth": 0,
             "ticks": ""
            },
            "colorscale": [
             [
              0,
              "#0d0887"
             ],
             [
              0.1111111111111111,
              "#46039f"
             ],
             [
              0.2222222222222222,
              "#7201a8"
             ],
             [
              0.3333333333333333,
              "#9c179e"
             ],
             [
              0.4444444444444444,
              "#bd3786"
             ],
             [
              0.5555555555555556,
              "#d8576b"
             ],
             [
              0.6666666666666666,
              "#ed7953"
             ],
             [
              0.7777777777777778,
              "#fb9f3a"
             ],
             [
              0.8888888888888888,
              "#fdca26"
             ],
             [
              1,
              "#f0f921"
             ]
            ],
            "type": "histogram2dcontour"
           }
          ],
          "mesh3d": [
           {
            "colorbar": {
             "outlinewidth": 0,
             "ticks": ""
            },
            "type": "mesh3d"
           }
          ],
          "parcoords": [
           {
            "line": {
             "colorbar": {
              "outlinewidth": 0,
              "ticks": ""
             }
            },
            "type": "parcoords"
           }
          ],
          "pie": [
           {
            "automargin": true,
            "type": "pie"
           }
          ],
          "scatter": [
           {
            "fillpattern": {
             "fillmode": "overlay",
             "size": 10,
             "solidity": 0.2
            },
            "type": "scatter"
           }
          ],
          "scatter3d": [
           {
            "line": {
             "colorbar": {
              "outlinewidth": 0,
              "ticks": ""
             }
            },
            "marker": {
             "colorbar": {
              "outlinewidth": 0,
              "ticks": ""
             }
            },
            "type": "scatter3d"
           }
          ],
          "scattercarpet": [
           {
            "marker": {
             "colorbar": {
              "outlinewidth": 0,
              "ticks": ""
             }
            },
            "type": "scattercarpet"
           }
          ],
          "scattergeo": [
           {
            "marker": {
             "colorbar": {
              "outlinewidth": 0,
              "ticks": ""
             }
            },
            "type": "scattergeo"
           }
          ],
          "scattergl": [
           {
            "marker": {
             "colorbar": {
              "outlinewidth": 0,
              "ticks": ""
             }
            },
            "type": "scattergl"
           }
          ],
          "scattermapbox": [
           {
            "marker": {
             "colorbar": {
              "outlinewidth": 0,
              "ticks": ""
             }
            },
            "type": "scattermapbox"
           }
          ],
          "scatterpolar": [
           {
            "marker": {
             "colorbar": {
              "outlinewidth": 0,
              "ticks": ""
             }
            },
            "type": "scatterpolar"
           }
          ],
          "scatterpolargl": [
           {
            "marker": {
             "colorbar": {
              "outlinewidth": 0,
              "ticks": ""
             }
            },
            "type": "scatterpolargl"
           }
          ],
          "scatterternary": [
           {
            "marker": {
             "colorbar": {
              "outlinewidth": 0,
              "ticks": ""
             }
            },
            "type": "scatterternary"
           }
          ],
          "surface": [
           {
            "colorbar": {
             "outlinewidth": 0,
             "ticks": ""
            },
            "colorscale": [
             [
              0,
              "#0d0887"
             ],
             [
              0.1111111111111111,
              "#46039f"
             ],
             [
              0.2222222222222222,
              "#7201a8"
             ],
             [
              0.3333333333333333,
              "#9c179e"
             ],
             [
              0.4444444444444444,
              "#bd3786"
             ],
             [
              0.5555555555555556,
              "#d8576b"
             ],
             [
              0.6666666666666666,
              "#ed7953"
             ],
             [
              0.7777777777777778,
              "#fb9f3a"
             ],
             [
              0.8888888888888888,
              "#fdca26"
             ],
             [
              1,
              "#f0f921"
             ]
            ],
            "type": "surface"
           }
          ],
          "table": [
           {
            "cells": {
             "fill": {
              "color": "#EBF0F8"
             },
             "line": {
              "color": "white"
             }
            },
            "header": {
             "fill": {
              "color": "#C8D4E3"
             },
             "line": {
              "color": "white"
             }
            },
            "type": "table"
           }
          ]
         },
         "layout": {
          "annotationdefaults": {
           "arrowcolor": "#2a3f5f",
           "arrowhead": 0,
           "arrowwidth": 1
          },
          "autotypenumbers": "strict",
          "coloraxis": {
           "colorbar": {
            "outlinewidth": 0,
            "ticks": ""
           }
          },
          "colorscale": {
           "diverging": [
            [
             0,
             "#8e0152"
            ],
            [
             0.1,
             "#c51b7d"
            ],
            [
             0.2,
             "#de77ae"
            ],
            [
             0.3,
             "#f1b6da"
            ],
            [
             0.4,
             "#fde0ef"
            ],
            [
             0.5,
             "#f7f7f7"
            ],
            [
             0.6,
             "#e6f5d0"
            ],
            [
             0.7,
             "#b8e186"
            ],
            [
             0.8,
             "#7fbc41"
            ],
            [
             0.9,
             "#4d9221"
            ],
            [
             1,
             "#276419"
            ]
           ],
           "sequential": [
            [
             0,
             "#0d0887"
            ],
            [
             0.1111111111111111,
             "#46039f"
            ],
            [
             0.2222222222222222,
             "#7201a8"
            ],
            [
             0.3333333333333333,
             "#9c179e"
            ],
            [
             0.4444444444444444,
             "#bd3786"
            ],
            [
             0.5555555555555556,
             "#d8576b"
            ],
            [
             0.6666666666666666,
             "#ed7953"
            ],
            [
             0.7777777777777778,
             "#fb9f3a"
            ],
            [
             0.8888888888888888,
             "#fdca26"
            ],
            [
             1,
             "#f0f921"
            ]
           ],
           "sequentialminus": [
            [
             0,
             "#0d0887"
            ],
            [
             0.1111111111111111,
             "#46039f"
            ],
            [
             0.2222222222222222,
             "#7201a8"
            ],
            [
             0.3333333333333333,
             "#9c179e"
            ],
            [
             0.4444444444444444,
             "#bd3786"
            ],
            [
             0.5555555555555556,
             "#d8576b"
            ],
            [
             0.6666666666666666,
             "#ed7953"
            ],
            [
             0.7777777777777778,
             "#fb9f3a"
            ],
            [
             0.8888888888888888,
             "#fdca26"
            ],
            [
             1,
             "#f0f921"
            ]
           ]
          },
          "colorway": [
           "#636efa",
           "#EF553B",
           "#00cc96",
           "#ab63fa",
           "#FFA15A",
           "#19d3f3",
           "#FF6692",
           "#B6E880",
           "#FF97FF",
           "#FECB52"
          ],
          "font": {
           "color": "#2a3f5f"
          },
          "geo": {
           "bgcolor": "white",
           "lakecolor": "white",
           "landcolor": "#E5ECF6",
           "showlakes": true,
           "showland": true,
           "subunitcolor": "white"
          },
          "hoverlabel": {
           "align": "left"
          },
          "hovermode": "closest",
          "mapbox": {
           "style": "light"
          },
          "paper_bgcolor": "white",
          "plot_bgcolor": "#E5ECF6",
          "polar": {
           "angularaxis": {
            "gridcolor": "white",
            "linecolor": "white",
            "ticks": ""
           },
           "bgcolor": "#E5ECF6",
           "radialaxis": {
            "gridcolor": "white",
            "linecolor": "white",
            "ticks": ""
           }
          },
          "scene": {
           "xaxis": {
            "backgroundcolor": "#E5ECF6",
            "gridcolor": "white",
            "gridwidth": 2,
            "linecolor": "white",
            "showbackground": true,
            "ticks": "",
            "zerolinecolor": "white"
           },
           "yaxis": {
            "backgroundcolor": "#E5ECF6",
            "gridcolor": "white",
            "gridwidth": 2,
            "linecolor": "white",
            "showbackground": true,
            "ticks": "",
            "zerolinecolor": "white"
           },
           "zaxis": {
            "backgroundcolor": "#E5ECF6",
            "gridcolor": "white",
            "gridwidth": 2,
            "linecolor": "white",
            "showbackground": true,
            "ticks": "",
            "zerolinecolor": "white"
           }
          },
          "shapedefaults": {
           "line": {
            "color": "#2a3f5f"
           }
          },
          "ternary": {
           "aaxis": {
            "gridcolor": "white",
            "linecolor": "white",
            "ticks": ""
           },
           "baxis": {
            "gridcolor": "white",
            "linecolor": "white",
            "ticks": ""
           },
           "bgcolor": "#E5ECF6",
           "caxis": {
            "gridcolor": "white",
            "linecolor": "white",
            "ticks": ""
           }
          },
          "title": {
           "x": 0.05
          },
          "xaxis": {
           "automargin": true,
           "gridcolor": "white",
           "linecolor": "white",
           "ticks": "",
           "title": {
            "standoff": 15
           },
           "zerolinecolor": "white",
           "zerolinewidth": 2
          },
          "yaxis": {
           "automargin": true,
           "gridcolor": "white",
           "linecolor": "white",
           "ticks": "",
           "title": {
            "standoff": 15
           },
           "zerolinecolor": "white",
           "zerolinewidth": 2
          }
         }
        },
        "title": {
         "text": "Area Burned from Wildfires based on Province"
        },
        "xaxis": {
         "anchor": "y",
         "domain": [
          0,
          1
         ],
         "title": {
          "text": "Jurisdiction"
         }
        },
        "yaxis": {
         "anchor": "x",
         "domain": [
          0,
          1
         ],
         "title": {
          "text": "Area Burned (hectares)"
         }
        }
       }
      }
     },
     "metadata": {},
     "output_type": "display_data"
    }
   ],
   "source": [
    "provincal_fires = areabygroup.groupby(['Jurisdiction', 'Cause']).sum().reset_index()\n",
    "\n",
    "# Change this value to change the year\n",
    "# For example, changing 2020 to 2019 will show Area Burned based on Causes in 2019\n",
    "year_to_check = 2020\n",
    "\n",
    "provincal_fires_fig = px.bar(provincal_fires, x='Jurisdiction', y=year_to_check, color='Cause', title='Area Burned from Wildfires based on Province').update_layout(yaxis_title=\"Area Burned (hectares)\").show()"
   ]
  },
  {
   "cell_type": "code",
   "execution_count": 120,
   "metadata": {},
   "outputs": [
    {
     "data": {
      "text/html": [
       "<div>\n",
       "<style scoped>\n",
       "    .dataframe tbody tr th:only-of-type {\n",
       "        vertical-align: middle;\n",
       "    }\n",
       "\n",
       "    .dataframe tbody tr th {\n",
       "        vertical-align: top;\n",
       "    }\n",
       "\n",
       "    .dataframe thead th {\n",
       "        text-align: right;\n",
       "    }\n",
       "</style>\n",
       "<table border=\"1\" class=\"dataframe\">\n",
       "  <thead>\n",
       "    <tr style=\"text-align: right;\">\n",
       "      <th></th>\n",
       "      <th>Jurisdiction</th>\n",
       "      <th>Fire size class</th>\n",
       "      <th>Data Qualifier</th>\n",
       "      <th>1990</th>\n",
       "      <th>1991</th>\n",
       "      <th>1992</th>\n",
       "      <th>1993</th>\n",
       "      <th>1994</th>\n",
       "      <th>1995</th>\n",
       "      <th>1996</th>\n",
       "      <th>...</th>\n",
       "      <th>2012</th>\n",
       "      <th>2013</th>\n",
       "      <th>2014</th>\n",
       "      <th>2015</th>\n",
       "      <th>2016</th>\n",
       "      <th>2017</th>\n",
       "      <th>2018</th>\n",
       "      <th>2019</th>\n",
       "      <th>2020</th>\n",
       "      <th>2021</th>\n",
       "    </tr>\n",
       "  </thead>\n",
       "  <tbody>\n",
       "    <tr>\n",
       "      <th>0</th>\n",
       "      <td>Alberta</td>\n",
       "      <td>0.11 - 1.0 ha</td>\n",
       "      <td>a</td>\n",
       "      <td>171.0</td>\n",
       "      <td>123.0</td>\n",
       "      <td>131.0</td>\n",
       "      <td>135.0</td>\n",
       "      <td>148.0</td>\n",
       "      <td>118.0</td>\n",
       "      <td>59.0</td>\n",
       "      <td>...</td>\n",
       "      <td>137.0</td>\n",
       "      <td>85.0</td>\n",
       "      <td>122.0</td>\n",
       "      <td>183.0</td>\n",
       "      <td>142.0</td>\n",
       "      <td>102.0</td>\n",
       "      <td>117.0</td>\n",
       "      <td>92.0</td>\n",
       "      <td>43.0</td>\n",
       "      <td>NaN</td>\n",
       "    </tr>\n",
       "    <tr>\n",
       "      <th>1</th>\n",
       "      <td>Alberta</td>\n",
       "      <td>1.1 - 10 ha</td>\n",
       "      <td>a</td>\n",
       "      <td>504.0</td>\n",
       "      <td>499.0</td>\n",
       "      <td>457.0</td>\n",
       "      <td>595.0</td>\n",
       "      <td>579.0</td>\n",
       "      <td>627.0</td>\n",
       "      <td>248.0</td>\n",
       "      <td>...</td>\n",
       "      <td>388.0</td>\n",
       "      <td>332.0</td>\n",
       "      <td>443.0</td>\n",
       "      <td>713.0</td>\n",
       "      <td>449.0</td>\n",
       "      <td>307.0</td>\n",
       "      <td>472.0</td>\n",
       "      <td>375.0</td>\n",
       "      <td>144.0</td>\n",
       "      <td>NaN</td>\n",
       "    </tr>\n",
       "    <tr>\n",
       "      <th>2</th>\n",
       "      <td>Alberta</td>\n",
       "      <td>10.1 - 100 ha</td>\n",
       "      <td>a</td>\n",
       "      <td>1768.0</td>\n",
       "      <td>1575.0</td>\n",
       "      <td>1179.0</td>\n",
       "      <td>1986.0</td>\n",
       "      <td>1721.0</td>\n",
       "      <td>1644.0</td>\n",
       "      <td>497.0</td>\n",
       "      <td>...</td>\n",
       "      <td>1249.0</td>\n",
       "      <td>2043.0</td>\n",
       "      <td>1461.0</td>\n",
       "      <td>3240.0</td>\n",
       "      <td>1875.0</td>\n",
       "      <td>1905.0</td>\n",
       "      <td>1740.0</td>\n",
       "      <td>1447.0</td>\n",
       "      <td>427.0</td>\n",
       "      <td>NaN</td>\n",
       "    </tr>\n",
       "    <tr>\n",
       "      <th>3</th>\n",
       "      <td>Alberta</td>\n",
       "      <td>100.1 - 1 000 ha</td>\n",
       "      <td>a</td>\n",
       "      <td>8179.0</td>\n",
       "      <td>2911.0</td>\n",
       "      <td>1731.0</td>\n",
       "      <td>6413.0</td>\n",
       "      <td>6407.0</td>\n",
       "      <td>3271.0</td>\n",
       "      <td>1207.0</td>\n",
       "      <td>...</td>\n",
       "      <td>7758.0</td>\n",
       "      <td>6435.0</td>\n",
       "      <td>3007.0</td>\n",
       "      <td>23604.0</td>\n",
       "      <td>5910.0</td>\n",
       "      <td>7966.0</td>\n",
       "      <td>4050.0</td>\n",
       "      <td>9659.0</td>\n",
       "      <td>648.0</td>\n",
       "      <td>NaN</td>\n",
       "    </tr>\n",
       "    <tr>\n",
       "      <th>4</th>\n",
       "      <td>Alberta</td>\n",
       "      <td>Up to 0.1 ha</td>\n",
       "      <td>a</td>\n",
       "      <td>74.0</td>\n",
       "      <td>47.0</td>\n",
       "      <td>63.0</td>\n",
       "      <td>35.0</td>\n",
       "      <td>22.0</td>\n",
       "      <td>17.0</td>\n",
       "      <td>9.0</td>\n",
       "      <td>...</td>\n",
       "      <td>28.0</td>\n",
       "      <td>20.0</td>\n",
       "      <td>27.0</td>\n",
       "      <td>36.0</td>\n",
       "      <td>27.0</td>\n",
       "      <td>25.0</td>\n",
       "      <td>28.0</td>\n",
       "      <td>20.0</td>\n",
       "      <td>15.0</td>\n",
       "      <td>NaN</td>\n",
       "    </tr>\n",
       "    <tr>\n",
       "      <th>...</th>\n",
       "      <td>...</td>\n",
       "      <td>...</td>\n",
       "      <td>...</td>\n",
       "      <td>...</td>\n",
       "      <td>...</td>\n",
       "      <td>...</td>\n",
       "      <td>...</td>\n",
       "      <td>...</td>\n",
       "      <td>...</td>\n",
       "      <td>...</td>\n",
       "      <td>...</td>\n",
       "      <td>...</td>\n",
       "      <td>...</td>\n",
       "      <td>...</td>\n",
       "      <td>...</td>\n",
       "      <td>...</td>\n",
       "      <td>...</td>\n",
       "      <td>...</td>\n",
       "      <td>...</td>\n",
       "      <td>...</td>\n",
       "      <td>...</td>\n",
       "    </tr>\n",
       "    <tr>\n",
       "      <th>100</th>\n",
       "      <td>Yukon</td>\n",
       "      <td>Up to 0.1 ha</td>\n",
       "      <td>a</td>\n",
       "      <td>2.0</td>\n",
       "      <td>2.0</td>\n",
       "      <td>1.0</td>\n",
       "      <td>2.0</td>\n",
       "      <td>3.0</td>\n",
       "      <td>2.0</td>\n",
       "      <td>2.0</td>\n",
       "      <td>...</td>\n",
       "      <td>1.0</td>\n",
       "      <td>2.0</td>\n",
       "      <td>1.0</td>\n",
       "      <td>2.0</td>\n",
       "      <td>1.0</td>\n",
       "      <td>1.0</td>\n",
       "      <td>1.0</td>\n",
       "      <td>1.0</td>\n",
       "      <td>0.0</td>\n",
       "      <td>NaN</td>\n",
       "    </tr>\n",
       "    <tr>\n",
       "      <th>101</th>\n",
       "      <td>Yukon</td>\n",
       "      <td>10 000.1 - 100 000 ha</td>\n",
       "      <td>a</td>\n",
       "      <td>152489.0</td>\n",
       "      <td>45584.0</td>\n",
       "      <td>17766.0</td>\n",
       "      <td>71527.0</td>\n",
       "      <td>266440.0</td>\n",
       "      <td>205062.0</td>\n",
       "      <td>73180.0</td>\n",
       "      <td>...</td>\n",
       "      <td>NaN</td>\n",
       "      <td>144526.0</td>\n",
       "      <td>NaN</td>\n",
       "      <td>81635.0</td>\n",
       "      <td>13350.0</td>\n",
       "      <td>301559.0</td>\n",
       "      <td>27481.0</td>\n",
       "      <td>63573.0</td>\n",
       "      <td>NaN</td>\n",
       "      <td>NaN</td>\n",
       "    </tr>\n",
       "    <tr>\n",
       "      <th>102</th>\n",
       "      <td>Yukon</td>\n",
       "      <td>1000.1 - 10 000 ha</td>\n",
       "      <td>a</td>\n",
       "      <td>24832.0</td>\n",
       "      <td>63017.0</td>\n",
       "      <td>16705.0</td>\n",
       "      <td>36835.0</td>\n",
       "      <td>144467.0</td>\n",
       "      <td>50393.0</td>\n",
       "      <td>9855.0</td>\n",
       "      <td>...</td>\n",
       "      <td>47398.0</td>\n",
       "      <td>40544.0</td>\n",
       "      <td>1929.0</td>\n",
       "      <td>74150.0</td>\n",
       "      <td>7667.0</td>\n",
       "      <td>90656.0</td>\n",
       "      <td>48156.0</td>\n",
       "      <td>73055.0</td>\n",
       "      <td>2847.0</td>\n",
       "      <td>NaN</td>\n",
       "    </tr>\n",
       "    <tr>\n",
       "      <th>103</th>\n",
       "      <td>Yukon</td>\n",
       "      <td>Over 100 000 ha</td>\n",
       "      <td>a</td>\n",
       "      <td>NaN</td>\n",
       "      <td>NaN</td>\n",
       "      <td>NaN</td>\n",
       "      <td>NaN</td>\n",
       "      <td>NaN</td>\n",
       "      <td>NaN</td>\n",
       "      <td>NaN</td>\n",
       "      <td>...</td>\n",
       "      <td>NaN</td>\n",
       "      <td>NaN</td>\n",
       "      <td>NaN</td>\n",
       "      <td>NaN</td>\n",
       "      <td>NaN</td>\n",
       "      <td>NaN</td>\n",
       "      <td>NaN</td>\n",
       "      <td>111180.0</td>\n",
       "      <td>NaN</td>\n",
       "      <td>NaN</td>\n",
       "    </tr>\n",
       "    <tr>\n",
       "      <th>104</th>\n",
       "      <td>Yukon</td>\n",
       "      <td>Unspecified</td>\n",
       "      <td>e</td>\n",
       "      <td>NaN</td>\n",
       "      <td>NaN</td>\n",
       "      <td>NaN</td>\n",
       "      <td>NaN</td>\n",
       "      <td>NaN</td>\n",
       "      <td>NaN</td>\n",
       "      <td>NaN</td>\n",
       "      <td>...</td>\n",
       "      <td>NaN</td>\n",
       "      <td>NaN</td>\n",
       "      <td>NaN</td>\n",
       "      <td>NaN</td>\n",
       "      <td>NaN</td>\n",
       "      <td>NaN</td>\n",
       "      <td>NaN</td>\n",
       "      <td>NaN</td>\n",
       "      <td>NaN</td>\n",
       "      <td>118126.0</td>\n",
       "    </tr>\n",
       "  </tbody>\n",
       "</table>\n",
       "<p>105 rows × 35 columns</p>\n",
       "</div>"
      ],
      "text/plain": [
       "    Jurisdiction        Fire size class Data Qualifier      1990     1991  \\\n",
       "0        Alberta          0.11 - 1.0 ha              a     171.0    123.0   \n",
       "1        Alberta            1.1 - 10 ha              a     504.0    499.0   \n",
       "2        Alberta          10.1 - 100 ha              a    1768.0   1575.0   \n",
       "3        Alberta       100.1 - 1 000 ha              a    8179.0   2911.0   \n",
       "4        Alberta           Up to 0.1 ha              a      74.0     47.0   \n",
       "..           ...                    ...            ...       ...      ...   \n",
       "100        Yukon           Up to 0.1 ha              a       2.0      2.0   \n",
       "101        Yukon  10 000.1 - 100 000 ha              a  152489.0  45584.0   \n",
       "102        Yukon     1000.1 - 10 000 ha              a   24832.0  63017.0   \n",
       "103        Yukon        Over 100 000 ha              a       NaN      NaN   \n",
       "104        Yukon            Unspecified              e       NaN      NaN   \n",
       "\n",
       "        1992     1993      1994      1995     1996  ...     2012      2013  \\\n",
       "0      131.0    135.0     148.0     118.0     59.0  ...    137.0      85.0   \n",
       "1      457.0    595.0     579.0     627.0    248.0  ...    388.0     332.0   \n",
       "2     1179.0   1986.0    1721.0    1644.0    497.0  ...   1249.0    2043.0   \n",
       "3     1731.0   6413.0    6407.0    3271.0   1207.0  ...   7758.0    6435.0   \n",
       "4       63.0     35.0      22.0      17.0      9.0  ...     28.0      20.0   \n",
       "..       ...      ...       ...       ...      ...  ...      ...       ...   \n",
       "100      1.0      2.0       3.0       2.0      2.0  ...      1.0       2.0   \n",
       "101  17766.0  71527.0  266440.0  205062.0  73180.0  ...      NaN  144526.0   \n",
       "102  16705.0  36835.0  144467.0   50393.0   9855.0  ...  47398.0   40544.0   \n",
       "103      NaN      NaN       NaN       NaN      NaN  ...      NaN       NaN   \n",
       "104      NaN      NaN       NaN       NaN      NaN  ...      NaN       NaN   \n",
       "\n",
       "       2014     2015     2016      2017     2018      2019    2020      2021  \n",
       "0     122.0    183.0    142.0     102.0    117.0      92.0    43.0       NaN  \n",
       "1     443.0    713.0    449.0     307.0    472.0     375.0   144.0       NaN  \n",
       "2    1461.0   3240.0   1875.0    1905.0   1740.0    1447.0   427.0       NaN  \n",
       "3    3007.0  23604.0   5910.0    7966.0   4050.0    9659.0   648.0       NaN  \n",
       "4      27.0     36.0     27.0      25.0     28.0      20.0    15.0       NaN  \n",
       "..      ...      ...      ...       ...      ...       ...     ...       ...  \n",
       "100     1.0      2.0      1.0       1.0      1.0       1.0     0.0       NaN  \n",
       "101     NaN  81635.0  13350.0  301559.0  27481.0   63573.0     NaN       NaN  \n",
       "102  1929.0  74150.0   7667.0   90656.0  48156.0   73055.0  2847.0       NaN  \n",
       "103     NaN      NaN      NaN       NaN      NaN  111180.0     NaN       NaN  \n",
       "104     NaN      NaN      NaN       NaN      NaN       NaN     NaN  118126.0  \n",
       "\n",
       "[105 rows x 35 columns]"
      ]
     },
     "metadata": {},
     "output_type": "display_data"
    },
    {
     "data": {
      "text/html": [
       "<div>\n",
       "<style scoped>\n",
       "    .dataframe tbody tr th:only-of-type {\n",
       "        vertical-align: middle;\n",
       "    }\n",
       "\n",
       "    .dataframe tbody tr th {\n",
       "        vertical-align: top;\n",
       "    }\n",
       "\n",
       "    .dataframe thead th {\n",
       "        text-align: right;\n",
       "    }\n",
       "</style>\n",
       "<table border=\"1\" class=\"dataframe\">\n",
       "  <thead>\n",
       "    <tr style=\"text-align: right;\">\n",
       "      <th></th>\n",
       "      <th>Jurisdiction</th>\n",
       "      <th>Fire size class</th>\n",
       "      <th>Data Qualifier</th>\n",
       "      <th>1990</th>\n",
       "      <th>1991</th>\n",
       "      <th>1992</th>\n",
       "      <th>1993</th>\n",
       "      <th>1994</th>\n",
       "      <th>1995</th>\n",
       "      <th>1996</th>\n",
       "      <th>...</th>\n",
       "      <th>2012</th>\n",
       "      <th>2013</th>\n",
       "      <th>2014</th>\n",
       "      <th>2015</th>\n",
       "      <th>2016</th>\n",
       "      <th>2017</th>\n",
       "      <th>2018</th>\n",
       "      <th>2019</th>\n",
       "      <th>2020</th>\n",
       "      <th>2021</th>\n",
       "    </tr>\n",
       "  </thead>\n",
       "  <tbody>\n",
       "    <tr>\n",
       "      <th>0</th>\n",
       "      <td>Alberta</td>\n",
       "      <td>Up to 0.1 ha</td>\n",
       "      <td>a</td>\n",
       "      <td>743.0</td>\n",
       "      <td>465.0</td>\n",
       "      <td>626.0</td>\n",
       "      <td>351.0</td>\n",
       "      <td>395.0</td>\n",
       "      <td>318.0</td>\n",
       "      <td>187.0</td>\n",
       "      <td>...</td>\n",
       "      <td>1124.0</td>\n",
       "      <td>915.0</td>\n",
       "      <td>1012.0</td>\n",
       "      <td>1143.0</td>\n",
       "      <td>952.0</td>\n",
       "      <td>904.0</td>\n",
       "      <td>885.0</td>\n",
       "      <td>671.0</td>\n",
       "      <td>633.0</td>\n",
       "      <td>NaN</td>\n",
       "    </tr>\n",
       "    <tr>\n",
       "      <th>1</th>\n",
       "      <td>Alberta</td>\n",
       "      <td>0.11 - 1.0 ha</td>\n",
       "      <td>a</td>\n",
       "      <td>380.0</td>\n",
       "      <td>273.0</td>\n",
       "      <td>272.0</td>\n",
       "      <td>273.0</td>\n",
       "      <td>292.0</td>\n",
       "      <td>240.0</td>\n",
       "      <td>114.0</td>\n",
       "      <td>...</td>\n",
       "      <td>308.0</td>\n",
       "      <td>192.0</td>\n",
       "      <td>290.0</td>\n",
       "      <td>426.0</td>\n",
       "      <td>329.0</td>\n",
       "      <td>257.0</td>\n",
       "      <td>284.0</td>\n",
       "      <td>212.0</td>\n",
       "      <td>110.0</td>\n",
       "      <td>NaN</td>\n",
       "    </tr>\n",
       "    <tr>\n",
       "      <th>2</th>\n",
       "      <td>Alberta</td>\n",
       "      <td>1.1 - 10 ha</td>\n",
       "      <td>a</td>\n",
       "      <td>160.0</td>\n",
       "      <td>149.0</td>\n",
       "      <td>122.0</td>\n",
       "      <td>170.0</td>\n",
       "      <td>167.0</td>\n",
       "      <td>173.0</td>\n",
       "      <td>78.0</td>\n",
       "      <td>...</td>\n",
       "      <td>114.0</td>\n",
       "      <td>95.0</td>\n",
       "      <td>131.0</td>\n",
       "      <td>188.0</td>\n",
       "      <td>133.0</td>\n",
       "      <td>83.0</td>\n",
       "      <td>122.0</td>\n",
       "      <td>103.0</td>\n",
       "      <td>38.0</td>\n",
       "      <td>NaN</td>\n",
       "    </tr>\n",
       "    <tr>\n",
       "      <th>3</th>\n",
       "      <td>Alberta</td>\n",
       "      <td>10.1 - 100 ha</td>\n",
       "      <td>a</td>\n",
       "      <td>54.0</td>\n",
       "      <td>44.0</td>\n",
       "      <td>32.0</td>\n",
       "      <td>56.0</td>\n",
       "      <td>51.0</td>\n",
       "      <td>53.0</td>\n",
       "      <td>12.0</td>\n",
       "      <td>...</td>\n",
       "      <td>41.0</td>\n",
       "      <td>52.0</td>\n",
       "      <td>49.0</td>\n",
       "      <td>85.0</td>\n",
       "      <td>50.0</td>\n",
       "      <td>48.0</td>\n",
       "      <td>56.0</td>\n",
       "      <td>42.0</td>\n",
       "      <td>14.0</td>\n",
       "      <td>NaN</td>\n",
       "    </tr>\n",
       "    <tr>\n",
       "      <th>4</th>\n",
       "      <td>Alberta</td>\n",
       "      <td>100.1 - 1 000 ha</td>\n",
       "      <td>a</td>\n",
       "      <td>23.0</td>\n",
       "      <td>12.0</td>\n",
       "      <td>9.0</td>\n",
       "      <td>21.0</td>\n",
       "      <td>17.0</td>\n",
       "      <td>12.0</td>\n",
       "      <td>5.0</td>\n",
       "      <td>...</td>\n",
       "      <td>20.0</td>\n",
       "      <td>15.0</td>\n",
       "      <td>9.0</td>\n",
       "      <td>55.0</td>\n",
       "      <td>16.0</td>\n",
       "      <td>23.0</td>\n",
       "      <td>16.0</td>\n",
       "      <td>29.0</td>\n",
       "      <td>3.0</td>\n",
       "      <td>NaN</td>\n",
       "    </tr>\n",
       "    <tr>\n",
       "      <th>...</th>\n",
       "      <td>...</td>\n",
       "      <td>...</td>\n",
       "      <td>...</td>\n",
       "      <td>...</td>\n",
       "      <td>...</td>\n",
       "      <td>...</td>\n",
       "      <td>...</td>\n",
       "      <td>...</td>\n",
       "      <td>...</td>\n",
       "      <td>...</td>\n",
       "      <td>...</td>\n",
       "      <td>...</td>\n",
       "      <td>...</td>\n",
       "      <td>...</td>\n",
       "      <td>...</td>\n",
       "      <td>...</td>\n",
       "      <td>...</td>\n",
       "      <td>...</td>\n",
       "      <td>...</td>\n",
       "      <td>...</td>\n",
       "      <td>...</td>\n",
       "    </tr>\n",
       "    <tr>\n",
       "      <th>100</th>\n",
       "      <td>Yukon</td>\n",
       "      <td>100.1 - 1 000 ha</td>\n",
       "      <td>a</td>\n",
       "      <td>12.0</td>\n",
       "      <td>21.0</td>\n",
       "      <td>5.0</td>\n",
       "      <td>12.0</td>\n",
       "      <td>22.0</td>\n",
       "      <td>11.0</td>\n",
       "      <td>17.0</td>\n",
       "      <td>...</td>\n",
       "      <td>27.0</td>\n",
       "      <td>26.0</td>\n",
       "      <td>4.0</td>\n",
       "      <td>28.0</td>\n",
       "      <td>2.0</td>\n",
       "      <td>16.0</td>\n",
       "      <td>9.0</td>\n",
       "      <td>17.0</td>\n",
       "      <td>2.0</td>\n",
       "      <td>NaN</td>\n",
       "    </tr>\n",
       "    <tr>\n",
       "      <th>101</th>\n",
       "      <td>Yukon</td>\n",
       "      <td>10 000.1 - 100 000 ha</td>\n",
       "      <td>a</td>\n",
       "      <td>6.0</td>\n",
       "      <td>3.0</td>\n",
       "      <td>1.0</td>\n",
       "      <td>2.0</td>\n",
       "      <td>15.0</td>\n",
       "      <td>6.0</td>\n",
       "      <td>4.0</td>\n",
       "      <td>...</td>\n",
       "      <td>NaN</td>\n",
       "      <td>5.0</td>\n",
       "      <td>NaN</td>\n",
       "      <td>2.0</td>\n",
       "      <td>1.0</td>\n",
       "      <td>9.0</td>\n",
       "      <td>1.0</td>\n",
       "      <td>4.0</td>\n",
       "      <td>NaN</td>\n",
       "      <td>NaN</td>\n",
       "    </tr>\n",
       "    <tr>\n",
       "      <th>102</th>\n",
       "      <td>Yukon</td>\n",
       "      <td>1000.1 - 10 000 ha</td>\n",
       "      <td>a</td>\n",
       "      <td>5.0</td>\n",
       "      <td>22.0</td>\n",
       "      <td>5.0</td>\n",
       "      <td>11.0</td>\n",
       "      <td>36.0</td>\n",
       "      <td>13.0</td>\n",
       "      <td>5.0</td>\n",
       "      <td>...</td>\n",
       "      <td>17.0</td>\n",
       "      <td>13.0</td>\n",
       "      <td>1.0</td>\n",
       "      <td>20.0</td>\n",
       "      <td>2.0</td>\n",
       "      <td>25.0</td>\n",
       "      <td>11.0</td>\n",
       "      <td>20.0</td>\n",
       "      <td>2.0</td>\n",
       "      <td>NaN</td>\n",
       "    </tr>\n",
       "    <tr>\n",
       "      <th>103</th>\n",
       "      <td>Yukon</td>\n",
       "      <td>Over 100 000 ha</td>\n",
       "      <td>a</td>\n",
       "      <td>NaN</td>\n",
       "      <td>NaN</td>\n",
       "      <td>NaN</td>\n",
       "      <td>NaN</td>\n",
       "      <td>NaN</td>\n",
       "      <td>NaN</td>\n",
       "      <td>NaN</td>\n",
       "      <td>...</td>\n",
       "      <td>NaN</td>\n",
       "      <td>NaN</td>\n",
       "      <td>NaN</td>\n",
       "      <td>NaN</td>\n",
       "      <td>NaN</td>\n",
       "      <td>NaN</td>\n",
       "      <td>NaN</td>\n",
       "      <td>1.0</td>\n",
       "      <td>NaN</td>\n",
       "      <td>NaN</td>\n",
       "    </tr>\n",
       "    <tr>\n",
       "      <th>104</th>\n",
       "      <td>Yukon</td>\n",
       "      <td>Unspecified</td>\n",
       "      <td>e</td>\n",
       "      <td>NaN</td>\n",
       "      <td>NaN</td>\n",
       "      <td>NaN</td>\n",
       "      <td>NaN</td>\n",
       "      <td>NaN</td>\n",
       "      <td>NaN</td>\n",
       "      <td>NaN</td>\n",
       "      <td>...</td>\n",
       "      <td>NaN</td>\n",
       "      <td>NaN</td>\n",
       "      <td>NaN</td>\n",
       "      <td>NaN</td>\n",
       "      <td>NaN</td>\n",
       "      <td>NaN</td>\n",
       "      <td>NaN</td>\n",
       "      <td>NaN</td>\n",
       "      <td>NaN</td>\n",
       "      <td>112.0</td>\n",
       "    </tr>\n",
       "  </tbody>\n",
       "</table>\n",
       "<p>105 rows × 35 columns</p>\n",
       "</div>"
      ],
      "text/plain": [
       "    Jurisdiction        Fire size class Data Qualifier   1990   1991   1992  \\\n",
       "0        Alberta           Up to 0.1 ha              a  743.0  465.0  626.0   \n",
       "1        Alberta          0.11 - 1.0 ha              a  380.0  273.0  272.0   \n",
       "2        Alberta            1.1 - 10 ha              a  160.0  149.0  122.0   \n",
       "3        Alberta          10.1 - 100 ha              a   54.0   44.0   32.0   \n",
       "4        Alberta       100.1 - 1 000 ha              a   23.0   12.0    9.0   \n",
       "..           ...                    ...            ...    ...    ...    ...   \n",
       "100        Yukon       100.1 - 1 000 ha              a   12.0   21.0    5.0   \n",
       "101        Yukon  10 000.1 - 100 000 ha              a    6.0    3.0    1.0   \n",
       "102        Yukon     1000.1 - 10 000 ha              a    5.0   22.0    5.0   \n",
       "103        Yukon        Over 100 000 ha              a    NaN    NaN    NaN   \n",
       "104        Yukon            Unspecified              e    NaN    NaN    NaN   \n",
       "\n",
       "      1993   1994   1995   1996  ...    2012   2013    2014    2015   2016  \\\n",
       "0    351.0  395.0  318.0  187.0  ...  1124.0  915.0  1012.0  1143.0  952.0   \n",
       "1    273.0  292.0  240.0  114.0  ...   308.0  192.0   290.0   426.0  329.0   \n",
       "2    170.0  167.0  173.0   78.0  ...   114.0   95.0   131.0   188.0  133.0   \n",
       "3     56.0   51.0   53.0   12.0  ...    41.0   52.0    49.0    85.0   50.0   \n",
       "4     21.0   17.0   12.0    5.0  ...    20.0   15.0     9.0    55.0   16.0   \n",
       "..     ...    ...    ...    ...  ...     ...    ...     ...     ...    ...   \n",
       "100   12.0   22.0   11.0   17.0  ...    27.0   26.0     4.0    28.0    2.0   \n",
       "101    2.0   15.0    6.0    4.0  ...     NaN    5.0     NaN     2.0    1.0   \n",
       "102   11.0   36.0   13.0    5.0  ...    17.0   13.0     1.0    20.0    2.0   \n",
       "103    NaN    NaN    NaN    NaN  ...     NaN    NaN     NaN     NaN    NaN   \n",
       "104    NaN    NaN    NaN    NaN  ...     NaN    NaN     NaN     NaN    NaN   \n",
       "\n",
       "      2017   2018   2019   2020   2021  \n",
       "0    904.0  885.0  671.0  633.0    NaN  \n",
       "1    257.0  284.0  212.0  110.0    NaN  \n",
       "2     83.0  122.0  103.0   38.0    NaN  \n",
       "3     48.0   56.0   42.0   14.0    NaN  \n",
       "4     23.0   16.0   29.0    3.0    NaN  \n",
       "..     ...    ...    ...    ...    ...  \n",
       "100   16.0    9.0   17.0    2.0    NaN  \n",
       "101    9.0    1.0    4.0    NaN    NaN  \n",
       "102   25.0   11.0   20.0    2.0    NaN  \n",
       "103    NaN    NaN    1.0    NaN    NaN  \n",
       "104    NaN    NaN    NaN    NaN  112.0  \n",
       "\n",
       "[105 rows x 35 columns]"
      ]
     },
     "metadata": {},
     "output_type": "display_data"
    }
   ],
   "source": [
    "display(areabyclass)\n",
    "display(numfiresbyclass)"
   ]
  },
  {
   "cell_type": "code",
   "execution_count": 121,
   "metadata": {},
   "outputs": [],
   "source": [
    "areabyclass = areabyclass[areabyclass['Fire size class'] != 'Unspecified']\n",
    "numfiresbyclass = numfiresbyclass[numfiresbyclass['Fire size class'] != 'Unspecified']"
   ]
  },
  {
   "cell_type": "code",
   "execution_count": 122,
   "metadata": {},
   "outputs": [
    {
     "data": {
      "application/vnd.plotly.v1+json": {
       "config": {
        "plotlyServerURL": "https://plot.ly"
       },
       "data": [
        {
         "customdata": [
          [
           "Alberta",
           "0.11 - 1.0 ha"
          ],
          [
           "Alberta",
           "0.11 - 1.0 ha"
          ],
          [
           "Alberta",
           "0.11 - 1.0 ha"
          ],
          [
           "Alberta",
           "0.11 - 1.0 ha"
          ],
          [
           "Alberta",
           "0.11 - 1.0 ha"
          ],
          [
           "Alberta",
           "0.11 - 1.0 ha"
          ],
          [
           "Alberta",
           "0.11 - 1.0 ha"
          ],
          [
           "Alberta",
           "0.11 - 1.0 ha"
          ],
          [
           "Alberta",
           "0.11 - 1.0 ha"
          ],
          [
           "Alberta",
           "0.11 - 1.0 ha"
          ],
          [
           "Alberta",
           "0.11 - 1.0 ha"
          ],
          [
           "Alberta",
           "0.11 - 1.0 ha"
          ],
          [
           "Alberta",
           "0.11 - 1.0 ha"
          ],
          [
           "Alberta",
           "0.11 - 1.0 ha"
          ],
          [
           "Alberta",
           "0.11 - 1.0 ha"
          ],
          [
           "Alberta",
           "0.11 - 1.0 ha"
          ],
          [
           "Alberta",
           "0.11 - 1.0 ha"
          ],
          [
           "Alberta",
           "0.11 - 1.0 ha"
          ],
          [
           "Alberta",
           "0.11 - 1.0 ha"
          ],
          [
           "Alberta",
           "0.11 - 1.0 ha"
          ],
          [
           "Alberta",
           "0.11 - 1.0 ha"
          ],
          [
           "Alberta",
           "0.11 - 1.0 ha"
          ],
          [
           "Alberta",
           "0.11 - 1.0 ha"
          ],
          [
           "Alberta",
           "0.11 - 1.0 ha"
          ],
          [
           "Alberta",
           "0.11 - 1.0 ha"
          ],
          [
           "Alberta",
           "0.11 - 1.0 ha"
          ],
          [
           "Alberta",
           "0.11 - 1.0 ha"
          ],
          [
           "Alberta",
           "0.11 - 1.0 ha"
          ],
          [
           "Alberta",
           "0.11 - 1.0 ha"
          ],
          [
           "Alberta",
           "0.11 - 1.0 ha"
          ],
          [
           "Alberta",
           "0.11 - 1.0 ha"
          ],
          [
           "Alberta",
           "0.11 - 1.0 ha"
          ],
          [
           "British Columbia",
           "0.11 - 1.0 ha"
          ],
          [
           "British Columbia",
           "0.11 - 1.0 ha"
          ],
          [
           "British Columbia",
           "0.11 - 1.0 ha"
          ],
          [
           "British Columbia",
           "0.11 - 1.0 ha"
          ],
          [
           "British Columbia",
           "0.11 - 1.0 ha"
          ],
          [
           "British Columbia",
           "0.11 - 1.0 ha"
          ],
          [
           "British Columbia",
           "0.11 - 1.0 ha"
          ],
          [
           "British Columbia",
           "0.11 - 1.0 ha"
          ],
          [
           "British Columbia",
           "0.11 - 1.0 ha"
          ],
          [
           "British Columbia",
           "0.11 - 1.0 ha"
          ],
          [
           "British Columbia",
           "0.11 - 1.0 ha"
          ],
          [
           "British Columbia",
           "0.11 - 1.0 ha"
          ],
          [
           "British Columbia",
           "0.11 - 1.0 ha"
          ],
          [
           "British Columbia",
           "0.11 - 1.0 ha"
          ],
          [
           "British Columbia",
           "0.11 - 1.0 ha"
          ],
          [
           "British Columbia",
           "0.11 - 1.0 ha"
          ],
          [
           "British Columbia",
           "0.11 - 1.0 ha"
          ],
          [
           "British Columbia",
           "0.11 - 1.0 ha"
          ],
          [
           "British Columbia",
           "0.11 - 1.0 ha"
          ],
          [
           "British Columbia",
           "0.11 - 1.0 ha"
          ],
          [
           "British Columbia",
           "0.11 - 1.0 ha"
          ],
          [
           "British Columbia",
           "0.11 - 1.0 ha"
          ],
          [
           "British Columbia",
           "0.11 - 1.0 ha"
          ],
          [
           "British Columbia",
           "0.11 - 1.0 ha"
          ],
          [
           "British Columbia",
           "0.11 - 1.0 ha"
          ],
          [
           "British Columbia",
           "0.11 - 1.0 ha"
          ],
          [
           "British Columbia",
           "0.11 - 1.0 ha"
          ],
          [
           "British Columbia",
           "0.11 - 1.0 ha"
          ],
          [
           "British Columbia",
           "0.11 - 1.0 ha"
          ],
          [
           "British Columbia",
           "0.11 - 1.0 ha"
          ],
          [
           "British Columbia",
           "0.11 - 1.0 ha"
          ],
          [
           "British Columbia",
           "0.11 - 1.0 ha"
          ],
          [
           "Manitoba",
           "0.11 - 1.0 ha"
          ],
          [
           "Manitoba",
           "0.11 - 1.0 ha"
          ],
          [
           "Manitoba",
           "0.11 - 1.0 ha"
          ],
          [
           "Manitoba",
           "0.11 - 1.0 ha"
          ],
          [
           "Manitoba",
           "0.11 - 1.0 ha"
          ],
          [
           "Manitoba",
           "0.11 - 1.0 ha"
          ],
          [
           "Manitoba",
           "0.11 - 1.0 ha"
          ],
          [
           "Manitoba",
           "0.11 - 1.0 ha"
          ],
          [
           "Manitoba",
           "0.11 - 1.0 ha"
          ],
          [
           "Manitoba",
           "0.11 - 1.0 ha"
          ],
          [
           "Manitoba",
           "0.11 - 1.0 ha"
          ],
          [
           "Manitoba",
           "0.11 - 1.0 ha"
          ],
          [
           "Manitoba",
           "0.11 - 1.0 ha"
          ],
          [
           "Manitoba",
           "0.11 - 1.0 ha"
          ],
          [
           "Manitoba",
           "0.11 - 1.0 ha"
          ],
          [
           "Manitoba",
           "0.11 - 1.0 ha"
          ],
          [
           "Manitoba",
           "0.11 - 1.0 ha"
          ],
          [
           "Manitoba",
           "0.11 - 1.0 ha"
          ],
          [
           "Manitoba",
           "0.11 - 1.0 ha"
          ],
          [
           "Manitoba",
           "0.11 - 1.0 ha"
          ],
          [
           "Manitoba",
           "0.11 - 1.0 ha"
          ],
          [
           "Manitoba",
           "0.11 - 1.0 ha"
          ],
          [
           "Manitoba",
           "0.11 - 1.0 ha"
          ],
          [
           "Manitoba",
           "0.11 - 1.0 ha"
          ],
          [
           "Manitoba",
           "0.11 - 1.0 ha"
          ],
          [
           "Manitoba",
           "0.11 - 1.0 ha"
          ],
          [
           "Manitoba",
           "0.11 - 1.0 ha"
          ],
          [
           "Manitoba",
           "0.11 - 1.0 ha"
          ],
          [
           "Manitoba",
           "0.11 - 1.0 ha"
          ],
          [
           "Manitoba",
           "0.11 - 1.0 ha"
          ],
          [
           "Manitoba",
           "0.11 - 1.0 ha"
          ],
          [
           "Manitoba",
           "0.11 - 1.0 ha"
          ],
          [
           "New Brunswick",
           "0.11 - 1.0 ha"
          ],
          [
           "New Brunswick",
           "0.11 - 1.0 ha"
          ],
          [
           "New Brunswick",
           "0.11 - 1.0 ha"
          ],
          [
           "New Brunswick",
           "0.11 - 1.0 ha"
          ],
          [
           "New Brunswick",
           "0.11 - 1.0 ha"
          ],
          [
           "New Brunswick",
           "0.11 - 1.0 ha"
          ],
          [
           "New Brunswick",
           "0.11 - 1.0 ha"
          ],
          [
           "New Brunswick",
           "0.11 - 1.0 ha"
          ],
          [
           "New Brunswick",
           "0.11 - 1.0 ha"
          ],
          [
           "New Brunswick",
           "0.11 - 1.0 ha"
          ],
          [
           "New Brunswick",
           "0.11 - 1.0 ha"
          ],
          [
           "New Brunswick",
           "0.11 - 1.0 ha"
          ],
          [
           "New Brunswick",
           "0.11 - 1.0 ha"
          ],
          [
           "New Brunswick",
           "0.11 - 1.0 ha"
          ],
          [
           "New Brunswick",
           "0.11 - 1.0 ha"
          ],
          [
           "New Brunswick",
           "0.11 - 1.0 ha"
          ],
          [
           "New Brunswick",
           "0.11 - 1.0 ha"
          ],
          [
           "New Brunswick",
           "0.11 - 1.0 ha"
          ],
          [
           "New Brunswick",
           "0.11 - 1.0 ha"
          ],
          [
           "New Brunswick",
           "0.11 - 1.0 ha"
          ],
          [
           "New Brunswick",
           "0.11 - 1.0 ha"
          ],
          [
           "New Brunswick",
           "0.11 - 1.0 ha"
          ],
          [
           "New Brunswick",
           "0.11 - 1.0 ha"
          ],
          [
           "New Brunswick",
           "0.11 - 1.0 ha"
          ],
          [
           "New Brunswick",
           "0.11 - 1.0 ha"
          ],
          [
           "New Brunswick",
           "0.11 - 1.0 ha"
          ],
          [
           "New Brunswick",
           "0.11 - 1.0 ha"
          ],
          [
           "New Brunswick",
           "0.11 - 1.0 ha"
          ],
          [
           "New Brunswick",
           "0.11 - 1.0 ha"
          ],
          [
           "New Brunswick",
           "0.11 - 1.0 ha"
          ],
          [
           "New Brunswick",
           "0.11 - 1.0 ha"
          ],
          [
           "New Brunswick",
           "0.11 - 1.0 ha"
          ],
          [
           "Newfoundland and Labrador",
           "0.11 - 1.0 ha"
          ],
          [
           "Newfoundland and Labrador",
           "0.11 - 1.0 ha"
          ],
          [
           "Newfoundland and Labrador",
           "0.11 - 1.0 ha"
          ],
          [
           "Newfoundland and Labrador",
           "0.11 - 1.0 ha"
          ],
          [
           "Newfoundland and Labrador",
           "0.11 - 1.0 ha"
          ],
          [
           "Newfoundland and Labrador",
           "0.11 - 1.0 ha"
          ],
          [
           "Newfoundland and Labrador",
           "0.11 - 1.0 ha"
          ],
          [
           "Newfoundland and Labrador",
           "0.11 - 1.0 ha"
          ],
          [
           "Newfoundland and Labrador",
           "0.11 - 1.0 ha"
          ],
          [
           "Newfoundland and Labrador",
           "0.11 - 1.0 ha"
          ],
          [
           "Newfoundland and Labrador",
           "0.11 - 1.0 ha"
          ],
          [
           "Newfoundland and Labrador",
           "0.11 - 1.0 ha"
          ],
          [
           "Newfoundland and Labrador",
           "0.11 - 1.0 ha"
          ],
          [
           "Newfoundland and Labrador",
           "0.11 - 1.0 ha"
          ],
          [
           "Newfoundland and Labrador",
           "0.11 - 1.0 ha"
          ],
          [
           "Newfoundland and Labrador",
           "0.11 - 1.0 ha"
          ],
          [
           "Newfoundland and Labrador",
           "0.11 - 1.0 ha"
          ],
          [
           "Newfoundland and Labrador",
           "0.11 - 1.0 ha"
          ],
          [
           "Newfoundland and Labrador",
           "0.11 - 1.0 ha"
          ],
          [
           "Newfoundland and Labrador",
           "0.11 - 1.0 ha"
          ],
          [
           "Newfoundland and Labrador",
           "0.11 - 1.0 ha"
          ],
          [
           "Newfoundland and Labrador",
           "0.11 - 1.0 ha"
          ],
          [
           "Newfoundland and Labrador",
           "0.11 - 1.0 ha"
          ],
          [
           "Newfoundland and Labrador",
           "0.11 - 1.0 ha"
          ],
          [
           "Newfoundland and Labrador",
           "0.11 - 1.0 ha"
          ],
          [
           "Newfoundland and Labrador",
           "0.11 - 1.0 ha"
          ],
          [
           "Newfoundland and Labrador",
           "0.11 - 1.0 ha"
          ],
          [
           "Newfoundland and Labrador",
           "0.11 - 1.0 ha"
          ],
          [
           "Newfoundland and Labrador",
           "0.11 - 1.0 ha"
          ],
          [
           "Newfoundland and Labrador",
           "0.11 - 1.0 ha"
          ],
          [
           "Newfoundland and Labrador",
           "0.11 - 1.0 ha"
          ],
          [
           "Newfoundland and Labrador",
           "0.11 - 1.0 ha"
          ],
          [
           "Northwest Territories",
           "0.11 - 1.0 ha"
          ],
          [
           "Northwest Territories",
           "0.11 - 1.0 ha"
          ],
          [
           "Northwest Territories",
           "0.11 - 1.0 ha"
          ],
          [
           "Northwest Territories",
           "0.11 - 1.0 ha"
          ],
          [
           "Northwest Territories",
           "0.11 - 1.0 ha"
          ],
          [
           "Northwest Territories",
           "0.11 - 1.0 ha"
          ],
          [
           "Northwest Territories",
           "0.11 - 1.0 ha"
          ],
          [
           "Northwest Territories",
           "0.11 - 1.0 ha"
          ],
          [
           "Northwest Territories",
           "0.11 - 1.0 ha"
          ],
          [
           "Northwest Territories",
           "0.11 - 1.0 ha"
          ],
          [
           "Northwest Territories",
           "0.11 - 1.0 ha"
          ],
          [
           "Northwest Territories",
           "0.11 - 1.0 ha"
          ],
          [
           "Northwest Territories",
           "0.11 - 1.0 ha"
          ],
          [
           "Northwest Territories",
           "0.11 - 1.0 ha"
          ],
          [
           "Northwest Territories",
           "0.11 - 1.0 ha"
          ],
          [
           "Northwest Territories",
           "0.11 - 1.0 ha"
          ],
          [
           "Northwest Territories",
           "0.11 - 1.0 ha"
          ],
          [
           "Northwest Territories",
           "0.11 - 1.0 ha"
          ],
          [
           "Northwest Territories",
           "0.11 - 1.0 ha"
          ],
          [
           "Northwest Territories",
           "0.11 - 1.0 ha"
          ],
          [
           "Northwest Territories",
           "0.11 - 1.0 ha"
          ],
          [
           "Northwest Territories",
           "0.11 - 1.0 ha"
          ],
          [
           "Northwest Territories",
           "0.11 - 1.0 ha"
          ],
          [
           "Northwest Territories",
           "0.11 - 1.0 ha"
          ],
          [
           "Northwest Territories",
           "0.11 - 1.0 ha"
          ],
          [
           "Northwest Territories",
           "0.11 - 1.0 ha"
          ],
          [
           "Northwest Territories",
           "0.11 - 1.0 ha"
          ],
          [
           "Northwest Territories",
           "0.11 - 1.0 ha"
          ],
          [
           "Northwest Territories",
           "0.11 - 1.0 ha"
          ],
          [
           "Northwest Territories",
           "0.11 - 1.0 ha"
          ],
          [
           "Northwest Territories",
           "0.11 - 1.0 ha"
          ],
          [
           "Northwest Territories",
           "0.11 - 1.0 ha"
          ],
          [
           "Nova Scotia",
           "0.11 - 1.0 ha"
          ],
          [
           "Nova Scotia",
           "0.11 - 1.0 ha"
          ],
          [
           "Nova Scotia",
           "0.11 - 1.0 ha"
          ],
          [
           "Nova Scotia",
           "0.11 - 1.0 ha"
          ],
          [
           "Nova Scotia",
           "0.11 - 1.0 ha"
          ],
          [
           "Nova Scotia",
           "0.11 - 1.0 ha"
          ],
          [
           "Nova Scotia",
           "0.11 - 1.0 ha"
          ],
          [
           "Nova Scotia",
           "0.11 - 1.0 ha"
          ],
          [
           "Nova Scotia",
           "0.11 - 1.0 ha"
          ],
          [
           "Nova Scotia",
           "0.11 - 1.0 ha"
          ],
          [
           "Nova Scotia",
           "0.11 - 1.0 ha"
          ],
          [
           "Nova Scotia",
           "0.11 - 1.0 ha"
          ],
          [
           "Nova Scotia",
           "0.11 - 1.0 ha"
          ],
          [
           "Nova Scotia",
           "0.11 - 1.0 ha"
          ],
          [
           "Nova Scotia",
           "0.11 - 1.0 ha"
          ],
          [
           "Nova Scotia",
           "0.11 - 1.0 ha"
          ],
          [
           "Nova Scotia",
           "0.11 - 1.0 ha"
          ],
          [
           "Nova Scotia",
           "0.11 - 1.0 ha"
          ],
          [
           "Nova Scotia",
           "0.11 - 1.0 ha"
          ],
          [
           "Nova Scotia",
           "0.11 - 1.0 ha"
          ],
          [
           "Nova Scotia",
           "0.11 - 1.0 ha"
          ],
          [
           "Nova Scotia",
           "0.11 - 1.0 ha"
          ],
          [
           "Nova Scotia",
           "0.11 - 1.0 ha"
          ],
          [
           "Nova Scotia",
           "0.11 - 1.0 ha"
          ],
          [
           "Nova Scotia",
           "0.11 - 1.0 ha"
          ],
          [
           "Nova Scotia",
           "0.11 - 1.0 ha"
          ],
          [
           "Nova Scotia",
           "0.11 - 1.0 ha"
          ],
          [
           "Nova Scotia",
           "0.11 - 1.0 ha"
          ],
          [
           "Nova Scotia",
           "0.11 - 1.0 ha"
          ],
          [
           "Nova Scotia",
           "0.11 - 1.0 ha"
          ],
          [
           "Nova Scotia",
           "0.11 - 1.0 ha"
          ],
          [
           "Nova Scotia",
           "0.11 - 1.0 ha"
          ],
          [
           "Ontario",
           "0.11 - 1.0 ha"
          ],
          [
           "Ontario",
           "0.11 - 1.0 ha"
          ],
          [
           "Ontario",
           "0.11 - 1.0 ha"
          ],
          [
           "Ontario",
           "0.11 - 1.0 ha"
          ],
          [
           "Ontario",
           "0.11 - 1.0 ha"
          ],
          [
           "Ontario",
           "0.11 - 1.0 ha"
          ],
          [
           "Ontario",
           "0.11 - 1.0 ha"
          ],
          [
           "Ontario",
           "0.11 - 1.0 ha"
          ],
          [
           "Ontario",
           "0.11 - 1.0 ha"
          ],
          [
           "Ontario",
           "0.11 - 1.0 ha"
          ],
          [
           "Ontario",
           "0.11 - 1.0 ha"
          ],
          [
           "Ontario",
           "0.11 - 1.0 ha"
          ],
          [
           "Ontario",
           "0.11 - 1.0 ha"
          ],
          [
           "Ontario",
           "0.11 - 1.0 ha"
          ],
          [
           "Ontario",
           "0.11 - 1.0 ha"
          ],
          [
           "Ontario",
           "0.11 - 1.0 ha"
          ],
          [
           "Ontario",
           "0.11 - 1.0 ha"
          ],
          [
           "Ontario",
           "0.11 - 1.0 ha"
          ],
          [
           "Ontario",
           "0.11 - 1.0 ha"
          ],
          [
           "Ontario",
           "0.11 - 1.0 ha"
          ],
          [
           "Ontario",
           "0.11 - 1.0 ha"
          ],
          [
           "Ontario",
           "0.11 - 1.0 ha"
          ],
          [
           "Ontario",
           "0.11 - 1.0 ha"
          ],
          [
           "Ontario",
           "0.11 - 1.0 ha"
          ],
          [
           "Ontario",
           "0.11 - 1.0 ha"
          ],
          [
           "Ontario",
           "0.11 - 1.0 ha"
          ],
          [
           "Ontario",
           "0.11 - 1.0 ha"
          ],
          [
           "Ontario",
           "0.11 - 1.0 ha"
          ],
          [
           "Ontario",
           "0.11 - 1.0 ha"
          ],
          [
           "Ontario",
           "0.11 - 1.0 ha"
          ],
          [
           "Ontario",
           "0.11 - 1.0 ha"
          ],
          [
           "Ontario",
           "0.11 - 1.0 ha"
          ],
          [
           "Prince Edward Island",
           "0.11 - 1.0 ha"
          ],
          [
           "Prince Edward Island",
           "0.11 - 1.0 ha"
          ],
          [
           "Prince Edward Island",
           "0.11 - 1.0 ha"
          ],
          [
           "Prince Edward Island",
           "0.11 - 1.0 ha"
          ],
          [
           "Prince Edward Island",
           "0.11 - 1.0 ha"
          ],
          [
           "Prince Edward Island",
           "0.11 - 1.0 ha"
          ],
          [
           "Prince Edward Island",
           "0.11 - 1.0 ha"
          ],
          [
           "Prince Edward Island",
           "0.11 - 1.0 ha"
          ],
          [
           "Prince Edward Island",
           "0.11 - 1.0 ha"
          ],
          [
           "Prince Edward Island",
           "0.11 - 1.0 ha"
          ],
          [
           "Prince Edward Island",
           "0.11 - 1.0 ha"
          ],
          [
           "Prince Edward Island",
           "0.11 - 1.0 ha"
          ],
          [
           "Prince Edward Island",
           "0.11 - 1.0 ha"
          ],
          [
           "Prince Edward Island",
           "0.11 - 1.0 ha"
          ],
          [
           "Prince Edward Island",
           "0.11 - 1.0 ha"
          ],
          [
           "Prince Edward Island",
           "0.11 - 1.0 ha"
          ],
          [
           "Prince Edward Island",
           "0.11 - 1.0 ha"
          ],
          [
           "Prince Edward Island",
           "0.11 - 1.0 ha"
          ],
          [
           "Prince Edward Island",
           "0.11 - 1.0 ha"
          ],
          [
           "Prince Edward Island",
           "0.11 - 1.0 ha"
          ],
          [
           "Prince Edward Island",
           "0.11 - 1.0 ha"
          ],
          [
           "Prince Edward Island",
           "0.11 - 1.0 ha"
          ],
          [
           "Prince Edward Island",
           "0.11 - 1.0 ha"
          ],
          [
           "Prince Edward Island",
           "0.11 - 1.0 ha"
          ],
          [
           "Prince Edward Island",
           "0.11 - 1.0 ha"
          ],
          [
           "Prince Edward Island",
           "0.11 - 1.0 ha"
          ],
          [
           "Prince Edward Island",
           "0.11 - 1.0 ha"
          ],
          [
           "Prince Edward Island",
           "0.11 - 1.0 ha"
          ],
          [
           "Prince Edward Island",
           "0.11 - 1.0 ha"
          ],
          [
           "Prince Edward Island",
           "0.11 - 1.0 ha"
          ],
          [
           "Prince Edward Island",
           "0.11 - 1.0 ha"
          ],
          [
           "Prince Edward Island",
           "0.11 - 1.0 ha"
          ],
          [
           "Quebec",
           "0.11 - 1.0 ha"
          ],
          [
           "Quebec",
           "0.11 - 1.0 ha"
          ],
          [
           "Quebec",
           "0.11 - 1.0 ha"
          ],
          [
           "Quebec",
           "0.11 - 1.0 ha"
          ],
          [
           "Quebec",
           "0.11 - 1.0 ha"
          ],
          [
           "Quebec",
           "0.11 - 1.0 ha"
          ],
          [
           "Quebec",
           "0.11 - 1.0 ha"
          ],
          [
           "Quebec",
           "0.11 - 1.0 ha"
          ],
          [
           "Quebec",
           "0.11 - 1.0 ha"
          ],
          [
           "Quebec",
           "0.11 - 1.0 ha"
          ],
          [
           "Quebec",
           "0.11 - 1.0 ha"
          ],
          [
           "Quebec",
           "0.11 - 1.0 ha"
          ],
          [
           "Quebec",
           "0.11 - 1.0 ha"
          ],
          [
           "Quebec",
           "0.11 - 1.0 ha"
          ],
          [
           "Quebec",
           "0.11 - 1.0 ha"
          ],
          [
           "Quebec",
           "0.11 - 1.0 ha"
          ],
          [
           "Quebec",
           "0.11 - 1.0 ha"
          ],
          [
           "Quebec",
           "0.11 - 1.0 ha"
          ],
          [
           "Quebec",
           "0.11 - 1.0 ha"
          ],
          [
           "Quebec",
           "0.11 - 1.0 ha"
          ],
          [
           "Quebec",
           "0.11 - 1.0 ha"
          ],
          [
           "Quebec",
           "0.11 - 1.0 ha"
          ],
          [
           "Quebec",
           "0.11 - 1.0 ha"
          ],
          [
           "Quebec",
           "0.11 - 1.0 ha"
          ],
          [
           "Quebec",
           "0.11 - 1.0 ha"
          ],
          [
           "Quebec",
           "0.11 - 1.0 ha"
          ],
          [
           "Quebec",
           "0.11 - 1.0 ha"
          ],
          [
           "Quebec",
           "0.11 - 1.0 ha"
          ],
          [
           "Quebec",
           "0.11 - 1.0 ha"
          ],
          [
           "Quebec",
           "0.11 - 1.0 ha"
          ],
          [
           "Quebec",
           "0.11 - 1.0 ha"
          ],
          [
           "Quebec",
           "0.11 - 1.0 ha"
          ],
          [
           "Saskatchewan",
           "0.11 - 1.0 ha"
          ],
          [
           "Saskatchewan",
           "0.11 - 1.0 ha"
          ],
          [
           "Saskatchewan",
           "0.11 - 1.0 ha"
          ],
          [
           "Saskatchewan",
           "0.11 - 1.0 ha"
          ],
          [
           "Saskatchewan",
           "0.11 - 1.0 ha"
          ],
          [
           "Saskatchewan",
           "0.11 - 1.0 ha"
          ],
          [
           "Saskatchewan",
           "0.11 - 1.0 ha"
          ],
          [
           "Saskatchewan",
           "0.11 - 1.0 ha"
          ],
          [
           "Saskatchewan",
           "0.11 - 1.0 ha"
          ],
          [
           "Saskatchewan",
           "0.11 - 1.0 ha"
          ],
          [
           "Saskatchewan",
           "0.11 - 1.0 ha"
          ],
          [
           "Saskatchewan",
           "0.11 - 1.0 ha"
          ],
          [
           "Saskatchewan",
           "0.11 - 1.0 ha"
          ],
          [
           "Saskatchewan",
           "0.11 - 1.0 ha"
          ],
          [
           "Saskatchewan",
           "0.11 - 1.0 ha"
          ],
          [
           "Saskatchewan",
           "0.11 - 1.0 ha"
          ],
          [
           "Saskatchewan",
           "0.11 - 1.0 ha"
          ],
          [
           "Saskatchewan",
           "0.11 - 1.0 ha"
          ],
          [
           "Saskatchewan",
           "0.11 - 1.0 ha"
          ],
          [
           "Saskatchewan",
           "0.11 - 1.0 ha"
          ],
          [
           "Saskatchewan",
           "0.11 - 1.0 ha"
          ],
          [
           "Saskatchewan",
           "0.11 - 1.0 ha"
          ],
          [
           "Saskatchewan",
           "0.11 - 1.0 ha"
          ],
          [
           "Saskatchewan",
           "0.11 - 1.0 ha"
          ],
          [
           "Saskatchewan",
           "0.11 - 1.0 ha"
          ],
          [
           "Saskatchewan",
           "0.11 - 1.0 ha"
          ],
          [
           "Saskatchewan",
           "0.11 - 1.0 ha"
          ],
          [
           "Saskatchewan",
           "0.11 - 1.0 ha"
          ],
          [
           "Saskatchewan",
           "0.11 - 1.0 ha"
          ],
          [
           "Saskatchewan",
           "0.11 - 1.0 ha"
          ],
          [
           "Saskatchewan",
           "0.11 - 1.0 ha"
          ],
          [
           "Saskatchewan",
           "0.11 - 1.0 ha"
          ],
          [
           "Yukon",
           "0.11 - 1.0 ha"
          ],
          [
           "Yukon",
           "0.11 - 1.0 ha"
          ],
          [
           "Yukon",
           "0.11 - 1.0 ha"
          ],
          [
           "Yukon",
           "0.11 - 1.0 ha"
          ],
          [
           "Yukon",
           "0.11 - 1.0 ha"
          ],
          [
           "Yukon",
           "0.11 - 1.0 ha"
          ],
          [
           "Yukon",
           "0.11 - 1.0 ha"
          ],
          [
           "Yukon",
           "0.11 - 1.0 ha"
          ],
          [
           "Yukon",
           "0.11 - 1.0 ha"
          ],
          [
           "Yukon",
           "0.11 - 1.0 ha"
          ],
          [
           "Yukon",
           "0.11 - 1.0 ha"
          ],
          [
           "Yukon",
           "0.11 - 1.0 ha"
          ],
          [
           "Yukon",
           "0.11 - 1.0 ha"
          ],
          [
           "Yukon",
           "0.11 - 1.0 ha"
          ],
          [
           "Yukon",
           "0.11 - 1.0 ha"
          ],
          [
           "Yukon",
           "0.11 - 1.0 ha"
          ],
          [
           "Yukon",
           "0.11 - 1.0 ha"
          ],
          [
           "Yukon",
           "0.11 - 1.0 ha"
          ],
          [
           "Yukon",
           "0.11 - 1.0 ha"
          ],
          [
           "Yukon",
           "0.11 - 1.0 ha"
          ],
          [
           "Yukon",
           "0.11 - 1.0 ha"
          ],
          [
           "Yukon",
           "0.11 - 1.0 ha"
          ],
          [
           "Yukon",
           "0.11 - 1.0 ha"
          ],
          [
           "Yukon",
           "0.11 - 1.0 ha"
          ],
          [
           "Yukon",
           "0.11 - 1.0 ha"
          ],
          [
           "Yukon",
           "0.11 - 1.0 ha"
          ],
          [
           "Yukon",
           "0.11 - 1.0 ha"
          ],
          [
           "Yukon",
           "0.11 - 1.0 ha"
          ],
          [
           "Yukon",
           "0.11 - 1.0 ha"
          ],
          [
           "Yukon",
           "0.11 - 1.0 ha"
          ],
          [
           "Yukon",
           "0.11 - 1.0 ha"
          ],
          [
           "Yukon",
           "0.11 - 1.0 ha"
          ]
         ],
         "hovertemplate": "Fire size class=%{customdata[1]}<br>Year=%{x}<br>MaxValue=%{y}<br>Jurisdiction=%{customdata[0]}<extra></extra>",
         "legendgroup": "0.11 - 1.0 ha",
         "marker": {
          "color": "#636efa",
          "symbol": "circle"
         },
         "mode": "markers",
         "name": "0.11 - 1.0 ha",
         "showlegend": true,
         "type": "scattergl",
         "x": [
          1990,
          1991,
          1992,
          1993,
          1994,
          1995,
          1996,
          1997,
          1998,
          1999,
          2000,
          2001,
          2002,
          2003,
          2004,
          2005,
          2006,
          2007,
          2008,
          2009,
          2010,
          2011,
          2012,
          2013,
          2014,
          2015,
          2016,
          2017,
          2018,
          2019,
          2020,
          2021,
          1990,
          1991,
          1992,
          1993,
          1994,
          1995,
          1996,
          1997,
          1998,
          1999,
          2000,
          2001,
          2002,
          2003,
          2004,
          2005,
          2006,
          2007,
          2008,
          2009,
          2010,
          2011,
          2012,
          2013,
          2014,
          2015,
          2016,
          2017,
          2018,
          2019,
          2020,
          2021,
          1990,
          1991,
          1992,
          1993,
          1994,
          1995,
          1996,
          1997,
          1998,
          1999,
          2000,
          2001,
          2002,
          2003,
          2004,
          2005,
          2006,
          2007,
          2008,
          2009,
          2010,
          2011,
          2012,
          2013,
          2014,
          2015,
          2016,
          2017,
          2018,
          2019,
          2020,
          2021,
          1990,
          1991,
          1992,
          1993,
          1994,
          1995,
          1996,
          1997,
          1998,
          1999,
          2000,
          2001,
          2002,
          2003,
          2004,
          2005,
          2006,
          2007,
          2008,
          2009,
          2010,
          2011,
          2012,
          2013,
          2014,
          2015,
          2016,
          2017,
          2018,
          2019,
          2020,
          2021,
          1990,
          1991,
          1992,
          1993,
          1994,
          1995,
          1996,
          1997,
          1998,
          1999,
          2000,
          2001,
          2002,
          2003,
          2004,
          2005,
          2006,
          2007,
          2008,
          2009,
          2010,
          2011,
          2012,
          2013,
          2014,
          2015,
          2016,
          2017,
          2018,
          2019,
          2020,
          2021,
          1990,
          1991,
          1992,
          1993,
          1994,
          1995,
          1996,
          1997,
          1998,
          1999,
          2000,
          2001,
          2002,
          2003,
          2004,
          2005,
          2006,
          2007,
          2008,
          2009,
          2010,
          2011,
          2012,
          2013,
          2014,
          2015,
          2016,
          2017,
          2018,
          2019,
          2020,
          2021,
          1990,
          1991,
          1992,
          1993,
          1994,
          1995,
          1996,
          1997,
          1998,
          1999,
          2000,
          2001,
          2002,
          2003,
          2004,
          2005,
          2006,
          2007,
          2008,
          2009,
          2010,
          2011,
          2012,
          2013,
          2014,
          2015,
          2016,
          2017,
          2018,
          2019,
          2020,
          2021,
          1990,
          1991,
          1992,
          1993,
          1994,
          1995,
          1996,
          1997,
          1998,
          1999,
          2000,
          2001,
          2002,
          2003,
          2004,
          2005,
          2006,
          2007,
          2008,
          2009,
          2010,
          2011,
          2012,
          2013,
          2014,
          2015,
          2016,
          2017,
          2018,
          2019,
          2020,
          2021,
          1990,
          1991,
          1992,
          1993,
          1994,
          1995,
          1996,
          1997,
          1998,
          1999,
          2000,
          2001,
          2002,
          2003,
          2004,
          2005,
          2006,
          2007,
          2008,
          2009,
          2010,
          2011,
          2012,
          2013,
          2014,
          2015,
          2016,
          2017,
          2018,
          2019,
          2020,
          2021,
          1990,
          1991,
          1992,
          1993,
          1994,
          1995,
          1996,
          1997,
          1998,
          1999,
          2000,
          2001,
          2002,
          2003,
          2004,
          2005,
          2006,
          2007,
          2008,
          2009,
          2010,
          2011,
          2012,
          2013,
          2014,
          2015,
          2016,
          2017,
          2018,
          2019,
          2020,
          2021,
          1990,
          1991,
          1992,
          1993,
          1994,
          1995,
          1996,
          1997,
          1998,
          1999,
          2000,
          2001,
          2002,
          2003,
          2004,
          2005,
          2006,
          2007,
          2008,
          2009,
          2010,
          2011,
          2012,
          2013,
          2014,
          2015,
          2016,
          2017,
          2018,
          2019,
          2020,
          2021,
          1990,
          1991,
          1992,
          1993,
          1994,
          1995,
          1996,
          1997,
          1998,
          1999,
          2000,
          2001,
          2002,
          2003,
          2004,
          2005,
          2006,
          2007,
          2008,
          2009,
          2010,
          2011,
          2012,
          2013,
          2014,
          2015,
          2016,
          2017,
          2018,
          2019,
          2020,
          2021
         ],
         "xaxis": "x",
         "y": [
          171,
          123,
          131,
          135,
          148,
          118,
          59,
          82,
          257,
          178,
          127,
          133,
          158,
          106,
          173,
          134,
          187,
          117,
          152,
          128,
          170,
          102,
          137,
          85,
          122,
          183,
          142,
          102,
          117,
          92,
          43,
          null,
          291,
          175,
          315,
          113,
          291,
          149,
          105,
          88,
          242,
          109,
          130,
          136,
          180,
          225,
          231,
          95,
          193,
          137,
          157,
          245,
          140,
          61,
          144,
          151,
          128,
          164,
          97,
          129,
          174,
          71,
          65,
          null,
          105,
          112,
          47,
          38,
          112,
          126,
          58,
          75,
          81,
          102,
          38,
          55,
          86,
          125,
          null,
          46,
          121,
          52,
          70,
          32,
          87,
          52,
          76,
          67,
          33,
          55,
          22,
          65,
          58,
          34,
          19,
          null,
          43,
          98,
          95,
          78,
          81,
          67,
          67,
          66,
          45,
          85,
          55,
          93,
          53,
          56,
          55,
          59,
          61,
          68,
          27,
          33,
          25,
          13,
          65,
          75,
          35,
          44,
          42,
          33,
          41,
          24,
          63,
          null,
          15,
          14,
          17,
          14,
          15,
          9,
          9,
          14,
          21,
          21,
          15,
          16,
          13,
          11,
          11,
          10,
          5,
          2,
          9,
          14,
          4,
          5,
          17,
          8,
          null,
          2,
          1,
          9,
          11,
          12,
          12,
          null,
          39,
          48,
          54,
          83,
          112,
          30,
          56,
          10,
          54,
          24,
          47,
          20,
          13,
          19,
          44,
          32,
          22,
          21,
          20,
          11,
          26,
          26,
          28,
          24,
          43,
          25,
          16,
          18,
          3,
          11,
          5,
          null,
          73,
          125,
          44,
          47,
          35,
          72,
          54,
          54,
          55,
          74,
          29,
          71,
          35,
          44,
          47,
          51,
          49,
          80,
          52,
          32,
          55,
          18,
          63,
          31,
          25,
          47,
          41,
          5,
          34,
          21,
          24,
          null,
          319,
          480,
          188,
          152,
          201,
          377,
          219,
          346,
          452,
          205,
          121,
          323,
          213,
          209,
          85,
          386,
          396,
          222,
          62,
          65,
          190,
          241,
          313,
          103,
          58,
          117,
          121,
          124,
          243,
          101,
          101,
          null,
          5,
          5,
          5,
          6,
          6,
          4,
          null,
          null,
          null,
          null,
          null,
          3,
          2,
          3,
          3,
          3,
          7,
          1,
          2,
          3,
          null,
          1,
          2,
          1,
          1,
          null,
          1,
          null,
          0,
          null,
          null,
          null,
          86,
          133,
          98,
          55,
          69,
          134,
          109,
          98,
          83,
          113,
          54,
          101,
          82,
          74,
          33,
          150,
          68,
          106,
          24,
          61,
          80,
          34,
          73,
          45,
          27,
          41,
          55,
          23,
          52,
          31,
          84,
          null,
          145,
          110,
          102,
          107,
          149,
          127,
          54,
          72,
          200,
          88,
          78,
          136,
          137,
          109,
          56,
          46,
          53,
          38,
          56,
          84,
          64,
          42,
          64,
          84,
          58,
          97,
          62,
          45,
          73,
          42,
          21,
          null,
          16,
          21,
          12,
          11,
          23,
          13,
          16,
          7,
          28,
          18,
          3,
          11,
          9,
          7,
          16,
          7,
          10,
          13,
          5,
          8,
          8,
          5,
          11,
          15,
          2,
          15,
          4,
          9,
          5,
          7,
          2,
          null
         ],
         "yaxis": "y"
        },
        {
         "customdata": [
          [
           "Alberta",
           "1.1 - 10 ha"
          ],
          [
           "Alberta",
           "1.1 - 10 ha"
          ],
          [
           "Alberta",
           "1.1 - 10 ha"
          ],
          [
           "Alberta",
           "1.1 - 10 ha"
          ],
          [
           "Alberta",
           "1.1 - 10 ha"
          ],
          [
           "Alberta",
           "1.1 - 10 ha"
          ],
          [
           "Alberta",
           "1.1 - 10 ha"
          ],
          [
           "Alberta",
           "1.1 - 10 ha"
          ],
          [
           "Alberta",
           "1.1 - 10 ha"
          ],
          [
           "Alberta",
           "1.1 - 10 ha"
          ],
          [
           "Alberta",
           "1.1 - 10 ha"
          ],
          [
           "Alberta",
           "1.1 - 10 ha"
          ],
          [
           "Alberta",
           "1.1 - 10 ha"
          ],
          [
           "Alberta",
           "1.1 - 10 ha"
          ],
          [
           "Alberta",
           "1.1 - 10 ha"
          ],
          [
           "Alberta",
           "1.1 - 10 ha"
          ],
          [
           "Alberta",
           "1.1 - 10 ha"
          ],
          [
           "Alberta",
           "1.1 - 10 ha"
          ],
          [
           "Alberta",
           "1.1 - 10 ha"
          ],
          [
           "Alberta",
           "1.1 - 10 ha"
          ],
          [
           "Alberta",
           "1.1 - 10 ha"
          ],
          [
           "Alberta",
           "1.1 - 10 ha"
          ],
          [
           "Alberta",
           "1.1 - 10 ha"
          ],
          [
           "Alberta",
           "1.1 - 10 ha"
          ],
          [
           "Alberta",
           "1.1 - 10 ha"
          ],
          [
           "Alberta",
           "1.1 - 10 ha"
          ],
          [
           "Alberta",
           "1.1 - 10 ha"
          ],
          [
           "Alberta",
           "1.1 - 10 ha"
          ],
          [
           "Alberta",
           "1.1 - 10 ha"
          ],
          [
           "Alberta",
           "1.1 - 10 ha"
          ],
          [
           "Alberta",
           "1.1 - 10 ha"
          ],
          [
           "Alberta",
           "1.1 - 10 ha"
          ],
          [
           "British Columbia",
           "1.1 - 10 ha"
          ],
          [
           "British Columbia",
           "1.1 - 10 ha"
          ],
          [
           "British Columbia",
           "1.1 - 10 ha"
          ],
          [
           "British Columbia",
           "1.1 - 10 ha"
          ],
          [
           "British Columbia",
           "1.1 - 10 ha"
          ],
          [
           "British Columbia",
           "1.1 - 10 ha"
          ],
          [
           "British Columbia",
           "1.1 - 10 ha"
          ],
          [
           "British Columbia",
           "1.1 - 10 ha"
          ],
          [
           "British Columbia",
           "1.1 - 10 ha"
          ],
          [
           "British Columbia",
           "1.1 - 10 ha"
          ],
          [
           "British Columbia",
           "1.1 - 10 ha"
          ],
          [
           "British Columbia",
           "1.1 - 10 ha"
          ],
          [
           "British Columbia",
           "1.1 - 10 ha"
          ],
          [
           "British Columbia",
           "1.1 - 10 ha"
          ],
          [
           "British Columbia",
           "1.1 - 10 ha"
          ],
          [
           "British Columbia",
           "1.1 - 10 ha"
          ],
          [
           "British Columbia",
           "1.1 - 10 ha"
          ],
          [
           "British Columbia",
           "1.1 - 10 ha"
          ],
          [
           "British Columbia",
           "1.1 - 10 ha"
          ],
          [
           "British Columbia",
           "1.1 - 10 ha"
          ],
          [
           "British Columbia",
           "1.1 - 10 ha"
          ],
          [
           "British Columbia",
           "1.1 - 10 ha"
          ],
          [
           "British Columbia",
           "1.1 - 10 ha"
          ],
          [
           "British Columbia",
           "1.1 - 10 ha"
          ],
          [
           "British Columbia",
           "1.1 - 10 ha"
          ],
          [
           "British Columbia",
           "1.1 - 10 ha"
          ],
          [
           "British Columbia",
           "1.1 - 10 ha"
          ],
          [
           "British Columbia",
           "1.1 - 10 ha"
          ],
          [
           "British Columbia",
           "1.1 - 10 ha"
          ],
          [
           "British Columbia",
           "1.1 - 10 ha"
          ],
          [
           "British Columbia",
           "1.1 - 10 ha"
          ],
          [
           "British Columbia",
           "1.1 - 10 ha"
          ],
          [
           "Manitoba",
           "1.1 - 10 ha"
          ],
          [
           "Manitoba",
           "1.1 - 10 ha"
          ],
          [
           "Manitoba",
           "1.1 - 10 ha"
          ],
          [
           "Manitoba",
           "1.1 - 10 ha"
          ],
          [
           "Manitoba",
           "1.1 - 10 ha"
          ],
          [
           "Manitoba",
           "1.1 - 10 ha"
          ],
          [
           "Manitoba",
           "1.1 - 10 ha"
          ],
          [
           "Manitoba",
           "1.1 - 10 ha"
          ],
          [
           "Manitoba",
           "1.1 - 10 ha"
          ],
          [
           "Manitoba",
           "1.1 - 10 ha"
          ],
          [
           "Manitoba",
           "1.1 - 10 ha"
          ],
          [
           "Manitoba",
           "1.1 - 10 ha"
          ],
          [
           "Manitoba",
           "1.1 - 10 ha"
          ],
          [
           "Manitoba",
           "1.1 - 10 ha"
          ],
          [
           "Manitoba",
           "1.1 - 10 ha"
          ],
          [
           "Manitoba",
           "1.1 - 10 ha"
          ],
          [
           "Manitoba",
           "1.1 - 10 ha"
          ],
          [
           "Manitoba",
           "1.1 - 10 ha"
          ],
          [
           "Manitoba",
           "1.1 - 10 ha"
          ],
          [
           "Manitoba",
           "1.1 - 10 ha"
          ],
          [
           "Manitoba",
           "1.1 - 10 ha"
          ],
          [
           "Manitoba",
           "1.1 - 10 ha"
          ],
          [
           "Manitoba",
           "1.1 - 10 ha"
          ],
          [
           "Manitoba",
           "1.1 - 10 ha"
          ],
          [
           "Manitoba",
           "1.1 - 10 ha"
          ],
          [
           "Manitoba",
           "1.1 - 10 ha"
          ],
          [
           "Manitoba",
           "1.1 - 10 ha"
          ],
          [
           "Manitoba",
           "1.1 - 10 ha"
          ],
          [
           "Manitoba",
           "1.1 - 10 ha"
          ],
          [
           "Manitoba",
           "1.1 - 10 ha"
          ],
          [
           "Manitoba",
           "1.1 - 10 ha"
          ],
          [
           "Manitoba",
           "1.1 - 10 ha"
          ],
          [
           "New Brunswick",
           "1.1 - 10 ha"
          ],
          [
           "New Brunswick",
           "1.1 - 10 ha"
          ],
          [
           "New Brunswick",
           "1.1 - 10 ha"
          ],
          [
           "New Brunswick",
           "1.1 - 10 ha"
          ],
          [
           "New Brunswick",
           "1.1 - 10 ha"
          ],
          [
           "New Brunswick",
           "1.1 - 10 ha"
          ],
          [
           "New Brunswick",
           "1.1 - 10 ha"
          ],
          [
           "New Brunswick",
           "1.1 - 10 ha"
          ],
          [
           "New Brunswick",
           "1.1 - 10 ha"
          ],
          [
           "New Brunswick",
           "1.1 - 10 ha"
          ],
          [
           "New Brunswick",
           "1.1 - 10 ha"
          ],
          [
           "New Brunswick",
           "1.1 - 10 ha"
          ],
          [
           "New Brunswick",
           "1.1 - 10 ha"
          ],
          [
           "New Brunswick",
           "1.1 - 10 ha"
          ],
          [
           "New Brunswick",
           "1.1 - 10 ha"
          ],
          [
           "New Brunswick",
           "1.1 - 10 ha"
          ],
          [
           "New Brunswick",
           "1.1 - 10 ha"
          ],
          [
           "New Brunswick",
           "1.1 - 10 ha"
          ],
          [
           "New Brunswick",
           "1.1 - 10 ha"
          ],
          [
           "New Brunswick",
           "1.1 - 10 ha"
          ],
          [
           "New Brunswick",
           "1.1 - 10 ha"
          ],
          [
           "New Brunswick",
           "1.1 - 10 ha"
          ],
          [
           "New Brunswick",
           "1.1 - 10 ha"
          ],
          [
           "New Brunswick",
           "1.1 - 10 ha"
          ],
          [
           "New Brunswick",
           "1.1 - 10 ha"
          ],
          [
           "New Brunswick",
           "1.1 - 10 ha"
          ],
          [
           "New Brunswick",
           "1.1 - 10 ha"
          ],
          [
           "New Brunswick",
           "1.1 - 10 ha"
          ],
          [
           "New Brunswick",
           "1.1 - 10 ha"
          ],
          [
           "New Brunswick",
           "1.1 - 10 ha"
          ],
          [
           "New Brunswick",
           "1.1 - 10 ha"
          ],
          [
           "New Brunswick",
           "1.1 - 10 ha"
          ],
          [
           "Newfoundland and Labrador",
           "1.1 - 10 ha"
          ],
          [
           "Newfoundland and Labrador",
           "1.1 - 10 ha"
          ],
          [
           "Newfoundland and Labrador",
           "1.1 - 10 ha"
          ],
          [
           "Newfoundland and Labrador",
           "1.1 - 10 ha"
          ],
          [
           "Newfoundland and Labrador",
           "1.1 - 10 ha"
          ],
          [
           "Newfoundland and Labrador",
           "1.1 - 10 ha"
          ],
          [
           "Newfoundland and Labrador",
           "1.1 - 10 ha"
          ],
          [
           "Newfoundland and Labrador",
           "1.1 - 10 ha"
          ],
          [
           "Newfoundland and Labrador",
           "1.1 - 10 ha"
          ],
          [
           "Newfoundland and Labrador",
           "1.1 - 10 ha"
          ],
          [
           "Newfoundland and Labrador",
           "1.1 - 10 ha"
          ],
          [
           "Newfoundland and Labrador",
           "1.1 - 10 ha"
          ],
          [
           "Newfoundland and Labrador",
           "1.1 - 10 ha"
          ],
          [
           "Newfoundland and Labrador",
           "1.1 - 10 ha"
          ],
          [
           "Newfoundland and Labrador",
           "1.1 - 10 ha"
          ],
          [
           "Newfoundland and Labrador",
           "1.1 - 10 ha"
          ],
          [
           "Newfoundland and Labrador",
           "1.1 - 10 ha"
          ],
          [
           "Newfoundland and Labrador",
           "1.1 - 10 ha"
          ],
          [
           "Newfoundland and Labrador",
           "1.1 - 10 ha"
          ],
          [
           "Newfoundland and Labrador",
           "1.1 - 10 ha"
          ],
          [
           "Newfoundland and Labrador",
           "1.1 - 10 ha"
          ],
          [
           "Newfoundland and Labrador",
           "1.1 - 10 ha"
          ],
          [
           "Newfoundland and Labrador",
           "1.1 - 10 ha"
          ],
          [
           "Newfoundland and Labrador",
           "1.1 - 10 ha"
          ],
          [
           "Newfoundland and Labrador",
           "1.1 - 10 ha"
          ],
          [
           "Newfoundland and Labrador",
           "1.1 - 10 ha"
          ],
          [
           "Newfoundland and Labrador",
           "1.1 - 10 ha"
          ],
          [
           "Newfoundland and Labrador",
           "1.1 - 10 ha"
          ],
          [
           "Newfoundland and Labrador",
           "1.1 - 10 ha"
          ],
          [
           "Newfoundland and Labrador",
           "1.1 - 10 ha"
          ],
          [
           "Newfoundland and Labrador",
           "1.1 - 10 ha"
          ],
          [
           "Newfoundland and Labrador",
           "1.1 - 10 ha"
          ],
          [
           "Northwest Territories",
           "1.1 - 10 ha"
          ],
          [
           "Northwest Territories",
           "1.1 - 10 ha"
          ],
          [
           "Northwest Territories",
           "1.1 - 10 ha"
          ],
          [
           "Northwest Territories",
           "1.1 - 10 ha"
          ],
          [
           "Northwest Territories",
           "1.1 - 10 ha"
          ],
          [
           "Northwest Territories",
           "1.1 - 10 ha"
          ],
          [
           "Northwest Territories",
           "1.1 - 10 ha"
          ],
          [
           "Northwest Territories",
           "1.1 - 10 ha"
          ],
          [
           "Northwest Territories",
           "1.1 - 10 ha"
          ],
          [
           "Northwest Territories",
           "1.1 - 10 ha"
          ],
          [
           "Northwest Territories",
           "1.1 - 10 ha"
          ],
          [
           "Northwest Territories",
           "1.1 - 10 ha"
          ],
          [
           "Northwest Territories",
           "1.1 - 10 ha"
          ],
          [
           "Northwest Territories",
           "1.1 - 10 ha"
          ],
          [
           "Northwest Territories",
           "1.1 - 10 ha"
          ],
          [
           "Northwest Territories",
           "1.1 - 10 ha"
          ],
          [
           "Northwest Territories",
           "1.1 - 10 ha"
          ],
          [
           "Northwest Territories",
           "1.1 - 10 ha"
          ],
          [
           "Northwest Territories",
           "1.1 - 10 ha"
          ],
          [
           "Northwest Territories",
           "1.1 - 10 ha"
          ],
          [
           "Northwest Territories",
           "1.1 - 10 ha"
          ],
          [
           "Northwest Territories",
           "1.1 - 10 ha"
          ],
          [
           "Northwest Territories",
           "1.1 - 10 ha"
          ],
          [
           "Northwest Territories",
           "1.1 - 10 ha"
          ],
          [
           "Northwest Territories",
           "1.1 - 10 ha"
          ],
          [
           "Northwest Territories",
           "1.1 - 10 ha"
          ],
          [
           "Northwest Territories",
           "1.1 - 10 ha"
          ],
          [
           "Northwest Territories",
           "1.1 - 10 ha"
          ],
          [
           "Northwest Territories",
           "1.1 - 10 ha"
          ],
          [
           "Northwest Territories",
           "1.1 - 10 ha"
          ],
          [
           "Northwest Territories",
           "1.1 - 10 ha"
          ],
          [
           "Northwest Territories",
           "1.1 - 10 ha"
          ],
          [
           "Nova Scotia",
           "1.1 - 10 ha"
          ],
          [
           "Nova Scotia",
           "1.1 - 10 ha"
          ],
          [
           "Nova Scotia",
           "1.1 - 10 ha"
          ],
          [
           "Nova Scotia",
           "1.1 - 10 ha"
          ],
          [
           "Nova Scotia",
           "1.1 - 10 ha"
          ],
          [
           "Nova Scotia",
           "1.1 - 10 ha"
          ],
          [
           "Nova Scotia",
           "1.1 - 10 ha"
          ],
          [
           "Nova Scotia",
           "1.1 - 10 ha"
          ],
          [
           "Nova Scotia",
           "1.1 - 10 ha"
          ],
          [
           "Nova Scotia",
           "1.1 - 10 ha"
          ],
          [
           "Nova Scotia",
           "1.1 - 10 ha"
          ],
          [
           "Nova Scotia",
           "1.1 - 10 ha"
          ],
          [
           "Nova Scotia",
           "1.1 - 10 ha"
          ],
          [
           "Nova Scotia",
           "1.1 - 10 ha"
          ],
          [
           "Nova Scotia",
           "1.1 - 10 ha"
          ],
          [
           "Nova Scotia",
           "1.1 - 10 ha"
          ],
          [
           "Nova Scotia",
           "1.1 - 10 ha"
          ],
          [
           "Nova Scotia",
           "1.1 - 10 ha"
          ],
          [
           "Nova Scotia",
           "1.1 - 10 ha"
          ],
          [
           "Nova Scotia",
           "1.1 - 10 ha"
          ],
          [
           "Nova Scotia",
           "1.1 - 10 ha"
          ],
          [
           "Nova Scotia",
           "1.1 - 10 ha"
          ],
          [
           "Nova Scotia",
           "1.1 - 10 ha"
          ],
          [
           "Nova Scotia",
           "1.1 - 10 ha"
          ],
          [
           "Nova Scotia",
           "1.1 - 10 ha"
          ],
          [
           "Nova Scotia",
           "1.1 - 10 ha"
          ],
          [
           "Nova Scotia",
           "1.1 - 10 ha"
          ],
          [
           "Nova Scotia",
           "1.1 - 10 ha"
          ],
          [
           "Nova Scotia",
           "1.1 - 10 ha"
          ],
          [
           "Nova Scotia",
           "1.1 - 10 ha"
          ],
          [
           "Nova Scotia",
           "1.1 - 10 ha"
          ],
          [
           "Nova Scotia",
           "1.1 - 10 ha"
          ],
          [
           "Ontario",
           "1.1 - 10 ha"
          ],
          [
           "Ontario",
           "1.1 - 10 ha"
          ],
          [
           "Ontario",
           "1.1 - 10 ha"
          ],
          [
           "Ontario",
           "1.1 - 10 ha"
          ],
          [
           "Ontario",
           "1.1 - 10 ha"
          ],
          [
           "Ontario",
           "1.1 - 10 ha"
          ],
          [
           "Ontario",
           "1.1 - 10 ha"
          ],
          [
           "Ontario",
           "1.1 - 10 ha"
          ],
          [
           "Ontario",
           "1.1 - 10 ha"
          ],
          [
           "Ontario",
           "1.1 - 10 ha"
          ],
          [
           "Ontario",
           "1.1 - 10 ha"
          ],
          [
           "Ontario",
           "1.1 - 10 ha"
          ],
          [
           "Ontario",
           "1.1 - 10 ha"
          ],
          [
           "Ontario",
           "1.1 - 10 ha"
          ],
          [
           "Ontario",
           "1.1 - 10 ha"
          ],
          [
           "Ontario",
           "1.1 - 10 ha"
          ],
          [
           "Ontario",
           "1.1 - 10 ha"
          ],
          [
           "Ontario",
           "1.1 - 10 ha"
          ],
          [
           "Ontario",
           "1.1 - 10 ha"
          ],
          [
           "Ontario",
           "1.1 - 10 ha"
          ],
          [
           "Ontario",
           "1.1 - 10 ha"
          ],
          [
           "Ontario",
           "1.1 - 10 ha"
          ],
          [
           "Ontario",
           "1.1 - 10 ha"
          ],
          [
           "Ontario",
           "1.1 - 10 ha"
          ],
          [
           "Ontario",
           "1.1 - 10 ha"
          ],
          [
           "Ontario",
           "1.1 - 10 ha"
          ],
          [
           "Ontario",
           "1.1 - 10 ha"
          ],
          [
           "Ontario",
           "1.1 - 10 ha"
          ],
          [
           "Ontario",
           "1.1 - 10 ha"
          ],
          [
           "Ontario",
           "1.1 - 10 ha"
          ],
          [
           "Ontario",
           "1.1 - 10 ha"
          ],
          [
           "Ontario",
           "1.1 - 10 ha"
          ],
          [
           "Prince Edward Island",
           "1.1 - 10 ha"
          ],
          [
           "Prince Edward Island",
           "1.1 - 10 ha"
          ],
          [
           "Prince Edward Island",
           "1.1 - 10 ha"
          ],
          [
           "Prince Edward Island",
           "1.1 - 10 ha"
          ],
          [
           "Prince Edward Island",
           "1.1 - 10 ha"
          ],
          [
           "Prince Edward Island",
           "1.1 - 10 ha"
          ],
          [
           "Prince Edward Island",
           "1.1 - 10 ha"
          ],
          [
           "Prince Edward Island",
           "1.1 - 10 ha"
          ],
          [
           "Prince Edward Island",
           "1.1 - 10 ha"
          ],
          [
           "Prince Edward Island",
           "1.1 - 10 ha"
          ],
          [
           "Prince Edward Island",
           "1.1 - 10 ha"
          ],
          [
           "Prince Edward Island",
           "1.1 - 10 ha"
          ],
          [
           "Prince Edward Island",
           "1.1 - 10 ha"
          ],
          [
           "Prince Edward Island",
           "1.1 - 10 ha"
          ],
          [
           "Prince Edward Island",
           "1.1 - 10 ha"
          ],
          [
           "Prince Edward Island",
           "1.1 - 10 ha"
          ],
          [
           "Prince Edward Island",
           "1.1 - 10 ha"
          ],
          [
           "Prince Edward Island",
           "1.1 - 10 ha"
          ],
          [
           "Prince Edward Island",
           "1.1 - 10 ha"
          ],
          [
           "Prince Edward Island",
           "1.1 - 10 ha"
          ],
          [
           "Prince Edward Island",
           "1.1 - 10 ha"
          ],
          [
           "Prince Edward Island",
           "1.1 - 10 ha"
          ],
          [
           "Prince Edward Island",
           "1.1 - 10 ha"
          ],
          [
           "Prince Edward Island",
           "1.1 - 10 ha"
          ],
          [
           "Prince Edward Island",
           "1.1 - 10 ha"
          ],
          [
           "Prince Edward Island",
           "1.1 - 10 ha"
          ],
          [
           "Prince Edward Island",
           "1.1 - 10 ha"
          ],
          [
           "Prince Edward Island",
           "1.1 - 10 ha"
          ],
          [
           "Prince Edward Island",
           "1.1 - 10 ha"
          ],
          [
           "Prince Edward Island",
           "1.1 - 10 ha"
          ],
          [
           "Prince Edward Island",
           "1.1 - 10 ha"
          ],
          [
           "Prince Edward Island",
           "1.1 - 10 ha"
          ],
          [
           "Quebec",
           "1.1 - 10 ha"
          ],
          [
           "Quebec",
           "1.1 - 10 ha"
          ],
          [
           "Quebec",
           "1.1 - 10 ha"
          ],
          [
           "Quebec",
           "1.1 - 10 ha"
          ],
          [
           "Quebec",
           "1.1 - 10 ha"
          ],
          [
           "Quebec",
           "1.1 - 10 ha"
          ],
          [
           "Quebec",
           "1.1 - 10 ha"
          ],
          [
           "Quebec",
           "1.1 - 10 ha"
          ],
          [
           "Quebec",
           "1.1 - 10 ha"
          ],
          [
           "Quebec",
           "1.1 - 10 ha"
          ],
          [
           "Quebec",
           "1.1 - 10 ha"
          ],
          [
           "Quebec",
           "1.1 - 10 ha"
          ],
          [
           "Quebec",
           "1.1 - 10 ha"
          ],
          [
           "Quebec",
           "1.1 - 10 ha"
          ],
          [
           "Quebec",
           "1.1 - 10 ha"
          ],
          [
           "Quebec",
           "1.1 - 10 ha"
          ],
          [
           "Quebec",
           "1.1 - 10 ha"
          ],
          [
           "Quebec",
           "1.1 - 10 ha"
          ],
          [
           "Quebec",
           "1.1 - 10 ha"
          ],
          [
           "Quebec",
           "1.1 - 10 ha"
          ],
          [
           "Quebec",
           "1.1 - 10 ha"
          ],
          [
           "Quebec",
           "1.1 - 10 ha"
          ],
          [
           "Quebec",
           "1.1 - 10 ha"
          ],
          [
           "Quebec",
           "1.1 - 10 ha"
          ],
          [
           "Quebec",
           "1.1 - 10 ha"
          ],
          [
           "Quebec",
           "1.1 - 10 ha"
          ],
          [
           "Quebec",
           "1.1 - 10 ha"
          ],
          [
           "Quebec",
           "1.1 - 10 ha"
          ],
          [
           "Quebec",
           "1.1 - 10 ha"
          ],
          [
           "Quebec",
           "1.1 - 10 ha"
          ],
          [
           "Quebec",
           "1.1 - 10 ha"
          ],
          [
           "Quebec",
           "1.1 - 10 ha"
          ],
          [
           "Saskatchewan",
           "1.1 - 10 ha"
          ],
          [
           "Saskatchewan",
           "1.1 - 10 ha"
          ],
          [
           "Saskatchewan",
           "1.1 - 10 ha"
          ],
          [
           "Saskatchewan",
           "1.1 - 10 ha"
          ],
          [
           "Saskatchewan",
           "1.1 - 10 ha"
          ],
          [
           "Saskatchewan",
           "1.1 - 10 ha"
          ],
          [
           "Saskatchewan",
           "1.1 - 10 ha"
          ],
          [
           "Saskatchewan",
           "1.1 - 10 ha"
          ],
          [
           "Saskatchewan",
           "1.1 - 10 ha"
          ],
          [
           "Saskatchewan",
           "1.1 - 10 ha"
          ],
          [
           "Saskatchewan",
           "1.1 - 10 ha"
          ],
          [
           "Saskatchewan",
           "1.1 - 10 ha"
          ],
          [
           "Saskatchewan",
           "1.1 - 10 ha"
          ],
          [
           "Saskatchewan",
           "1.1 - 10 ha"
          ],
          [
           "Saskatchewan",
           "1.1 - 10 ha"
          ],
          [
           "Saskatchewan",
           "1.1 - 10 ha"
          ],
          [
           "Saskatchewan",
           "1.1 - 10 ha"
          ],
          [
           "Saskatchewan",
           "1.1 - 10 ha"
          ],
          [
           "Saskatchewan",
           "1.1 - 10 ha"
          ],
          [
           "Saskatchewan",
           "1.1 - 10 ha"
          ],
          [
           "Saskatchewan",
           "1.1 - 10 ha"
          ],
          [
           "Saskatchewan",
           "1.1 - 10 ha"
          ],
          [
           "Saskatchewan",
           "1.1 - 10 ha"
          ],
          [
           "Saskatchewan",
           "1.1 - 10 ha"
          ],
          [
           "Saskatchewan",
           "1.1 - 10 ha"
          ],
          [
           "Saskatchewan",
           "1.1 - 10 ha"
          ],
          [
           "Saskatchewan",
           "1.1 - 10 ha"
          ],
          [
           "Saskatchewan",
           "1.1 - 10 ha"
          ],
          [
           "Saskatchewan",
           "1.1 - 10 ha"
          ],
          [
           "Saskatchewan",
           "1.1 - 10 ha"
          ],
          [
           "Saskatchewan",
           "1.1 - 10 ha"
          ],
          [
           "Saskatchewan",
           "1.1 - 10 ha"
          ],
          [
           "Yukon",
           "1.1 - 10 ha"
          ],
          [
           "Yukon",
           "1.1 - 10 ha"
          ],
          [
           "Yukon",
           "1.1 - 10 ha"
          ],
          [
           "Yukon",
           "1.1 - 10 ha"
          ],
          [
           "Yukon",
           "1.1 - 10 ha"
          ],
          [
           "Yukon",
           "1.1 - 10 ha"
          ],
          [
           "Yukon",
           "1.1 - 10 ha"
          ],
          [
           "Yukon",
           "1.1 - 10 ha"
          ],
          [
           "Yukon",
           "1.1 - 10 ha"
          ],
          [
           "Yukon",
           "1.1 - 10 ha"
          ],
          [
           "Yukon",
           "1.1 - 10 ha"
          ],
          [
           "Yukon",
           "1.1 - 10 ha"
          ],
          [
           "Yukon",
           "1.1 - 10 ha"
          ],
          [
           "Yukon",
           "1.1 - 10 ha"
          ],
          [
           "Yukon",
           "1.1 - 10 ha"
          ],
          [
           "Yukon",
           "1.1 - 10 ha"
          ],
          [
           "Yukon",
           "1.1 - 10 ha"
          ],
          [
           "Yukon",
           "1.1 - 10 ha"
          ],
          [
           "Yukon",
           "1.1 - 10 ha"
          ],
          [
           "Yukon",
           "1.1 - 10 ha"
          ],
          [
           "Yukon",
           "1.1 - 10 ha"
          ],
          [
           "Yukon",
           "1.1 - 10 ha"
          ],
          [
           "Yukon",
           "1.1 - 10 ha"
          ],
          [
           "Yukon",
           "1.1 - 10 ha"
          ],
          [
           "Yukon",
           "1.1 - 10 ha"
          ],
          [
           "Yukon",
           "1.1 - 10 ha"
          ],
          [
           "Yukon",
           "1.1 - 10 ha"
          ],
          [
           "Yukon",
           "1.1 - 10 ha"
          ],
          [
           "Yukon",
           "1.1 - 10 ha"
          ],
          [
           "Yukon",
           "1.1 - 10 ha"
          ],
          [
           "Yukon",
           "1.1 - 10 ha"
          ],
          [
           "Yukon",
           "1.1 - 10 ha"
          ]
         ],
         "hovertemplate": "Fire size class=%{customdata[1]}<br>Year=%{x}<br>MaxValue=%{y}<br>Jurisdiction=%{customdata[0]}<extra></extra>",
         "legendgroup": "1.1 - 10 ha",
         "marker": {
          "color": "#EF553B",
          "symbol": "circle"
         },
         "mode": "markers",
         "name": "1.1 - 10 ha",
         "showlegend": true,
         "type": "scattergl",
         "x": [
          1990,
          1991,
          1992,
          1993,
          1994,
          1995,
          1996,
          1997,
          1998,
          1999,
          2000,
          2001,
          2002,
          2003,
          2004,
          2005,
          2006,
          2007,
          2008,
          2009,
          2010,
          2011,
          2012,
          2013,
          2014,
          2015,
          2016,
          2017,
          2018,
          2019,
          2020,
          2021,
          1990,
          1991,
          1992,
          1993,
          1994,
          1995,
          1996,
          1997,
          1998,
          1999,
          2000,
          2001,
          2002,
          2003,
          2004,
          2005,
          2006,
          2007,
          2008,
          2009,
          2010,
          2011,
          2012,
          2013,
          2014,
          2015,
          2016,
          2017,
          2018,
          2019,
          2020,
          2021,
          1990,
          1991,
          1992,
          1993,
          1994,
          1995,
          1996,
          1997,
          1998,
          1999,
          2000,
          2001,
          2002,
          2003,
          2004,
          2005,
          2006,
          2007,
          2008,
          2009,
          2010,
          2011,
          2012,
          2013,
          2014,
          2015,
          2016,
          2017,
          2018,
          2019,
          2020,
          2021,
          1990,
          1991,
          1992,
          1993,
          1994,
          1995,
          1996,
          1997,
          1998,
          1999,
          2000,
          2001,
          2002,
          2003,
          2004,
          2005,
          2006,
          2007,
          2008,
          2009,
          2010,
          2011,
          2012,
          2013,
          2014,
          2015,
          2016,
          2017,
          2018,
          2019,
          2020,
          2021,
          1990,
          1991,
          1992,
          1993,
          1994,
          1995,
          1996,
          1997,
          1998,
          1999,
          2000,
          2001,
          2002,
          2003,
          2004,
          2005,
          2006,
          2007,
          2008,
          2009,
          2010,
          2011,
          2012,
          2013,
          2014,
          2015,
          2016,
          2017,
          2018,
          2019,
          2020,
          2021,
          1990,
          1991,
          1992,
          1993,
          1994,
          1995,
          1996,
          1997,
          1998,
          1999,
          2000,
          2001,
          2002,
          2003,
          2004,
          2005,
          2006,
          2007,
          2008,
          2009,
          2010,
          2011,
          2012,
          2013,
          2014,
          2015,
          2016,
          2017,
          2018,
          2019,
          2020,
          2021,
          1990,
          1991,
          1992,
          1993,
          1994,
          1995,
          1996,
          1997,
          1998,
          1999,
          2000,
          2001,
          2002,
          2003,
          2004,
          2005,
          2006,
          2007,
          2008,
          2009,
          2010,
          2011,
          2012,
          2013,
          2014,
          2015,
          2016,
          2017,
          2018,
          2019,
          2020,
          2021,
          1990,
          1991,
          1992,
          1993,
          1994,
          1995,
          1996,
          1997,
          1998,
          1999,
          2000,
          2001,
          2002,
          2003,
          2004,
          2005,
          2006,
          2007,
          2008,
          2009,
          2010,
          2011,
          2012,
          2013,
          2014,
          2015,
          2016,
          2017,
          2018,
          2019,
          2020,
          2021,
          1990,
          1991,
          1992,
          1993,
          1994,
          1995,
          1996,
          1997,
          1998,
          1999,
          2000,
          2001,
          2002,
          2003,
          2004,
          2005,
          2006,
          2007,
          2008,
          2009,
          2010,
          2011,
          2012,
          2013,
          2014,
          2015,
          2016,
          2017,
          2018,
          2019,
          2020,
          2021,
          1990,
          1991,
          1992,
          1993,
          1994,
          1995,
          1996,
          1997,
          1998,
          1999,
          2000,
          2001,
          2002,
          2003,
          2004,
          2005,
          2006,
          2007,
          2008,
          2009,
          2010,
          2011,
          2012,
          2013,
          2014,
          2015,
          2016,
          2017,
          2018,
          2019,
          2020,
          2021,
          1990,
          1991,
          1992,
          1993,
          1994,
          1995,
          1996,
          1997,
          1998,
          1999,
          2000,
          2001,
          2002,
          2003,
          2004,
          2005,
          2006,
          2007,
          2008,
          2009,
          2010,
          2011,
          2012,
          2013,
          2014,
          2015,
          2016,
          2017,
          2018,
          2019,
          2020,
          2021,
          1990,
          1991,
          1992,
          1993,
          1994,
          1995,
          1996,
          1997,
          1998,
          1999,
          2000,
          2001,
          2002,
          2003,
          2004,
          2005,
          2006,
          2007,
          2008,
          2009,
          2010,
          2011,
          2012,
          2013,
          2014,
          2015,
          2016,
          2017,
          2018,
          2019,
          2020,
          2021
         ],
         "xaxis": "x",
         "y": [
          504,
          499,
          457,
          595,
          579,
          627,
          248,
          311,
          1199,
          879,
          619,
          534,
          548,
          390,
          594,
          505,
          456,
          341,
          529,
          496,
          771,
          301,
          388,
          332,
          443,
          713,
          449,
          307,
          472,
          375,
          144,
          null,
          1181,
          1064,
          891,
          787,
          1055,
          789,
          426,
          397,
          1138,
          544,
          718,
          701,
          831,
          927,
          878,
          424,
          943,
          457,
          592,
          890,
          813,
          308,
          731,
          747,
          696,
          739,
          386,
          567,
          1020,
          450,
          281,
          null,
          527,
          546,
          305,
          240,
          482,
          402,
          386,
          366,
          630,
          712,
          346,
          660,
          825,
          873,
          62,
          251,
          391,
          278,
          301,
          173,
          504,
          205,
          307,
          298,
          167,
          459,
          250,
          337,
          364,
          232,
          153,
          null,
          150,
          289,
          409,
          241,
          255,
          191,
          137,
          135,
          87,
          297,
          191,
          313,
          149,
          86,
          211,
          246,
          215,
          231,
          63,
          126,
          108,
          22,
          215,
          219,
          71,
          127,
          165,
          51,
          113,
          80,
          172,
          null,
          79,
          51,
          56,
          21,
          61,
          69,
          17,
          24,
          100,
          95,
          32,
          42,
          39,
          43,
          75,
          69,
          36,
          41,
          70,
          63,
          22,
          34,
          54,
          38,
          4,
          15,
          28,
          54,
          67,
          62,
          59,
          null,
          195,
          329,
          249,
          353,
          582,
          194,
          322,
          126,
          410,
          199,
          252,
          145,
          106,
          149,
          187,
          284,
          145,
          150,
          201,
          77,
          162,
          218,
          272,
          238,
          191,
          138,
          163,
          100,
          50,
          130,
          69,
          null,
          172,
          319,
          104,
          253,
          109,
          203,
          220,
          163,
          169,
          188,
          75,
          161,
          131,
          136,
          136,
          177,
          168,
          296,
          182,
          72,
          162,
          107,
          294,
          130,
          124,
          195,
          140,
          16,
          115,
          92,
          106,
          null,
          725,
          1065,
          623,
          315,
          844,
          1411,
          799,
          716,
          1279,
          644,
          386,
          766,
          352,
          579,
          144,
          666,
          863,
          423,
          86,
          181,
          531,
          550,
          787,
          370,
          118,
          427,
          289,
          432,
          805,
          211,
          328,
          null,
          56,
          93,
          22,
          44,
          15,
          31,
          null,
          null,
          null,
          null,
          null,
          25,
          8,
          9,
          12,
          25,
          15,
          4,
          2,
          null,
          5,
          5,
          9,
          18,
          1,
          null,
          null,
          null,
          7,
          14,
          null,
          null,
          475,
          555,
          448,
          231,
          329,
          657,
          923,
          357,
          285,
          439,
          235,
          426,
          394,
          373,
          152,
          679,
          397,
          542,
          104,
          266,
          366,
          178,
          318,
          245,
          131,
          205,
          250,
          83,
          263,
          99,
          373,
          null,
          372,
          459,
          366,
          367,
          353,
          412,
          186,
          293,
          827,
          415,
          286,
          531,
          636,
          388,
          265,
          285,
          462,
          283,
          309,
          366,
          440,
          261,
          283,
          271,
          362,
          418,
          318,
          201,
          446,
          142,
          94,
          null,
          86,
          124,
          37,
          120,
          173,
          64,
          78,
          68,
          59,
          72,
          50,
          76,
          29,
          17,
          70,
          30,
          40,
          98,
          40,
          55,
          41,
          39,
          82,
          211,
          5,
          162,
          49,
          58,
          19,
          66,
          20,
          null
         ],
         "yaxis": "y"
        },
        {
         "customdata": [
          [
           "Alberta",
           "10.1 - 100 ha"
          ],
          [
           "Alberta",
           "10.1 - 100 ha"
          ],
          [
           "Alberta",
           "10.1 - 100 ha"
          ],
          [
           "Alberta",
           "10.1 - 100 ha"
          ],
          [
           "Alberta",
           "10.1 - 100 ha"
          ],
          [
           "Alberta",
           "10.1 - 100 ha"
          ],
          [
           "Alberta",
           "10.1 - 100 ha"
          ],
          [
           "Alberta",
           "10.1 - 100 ha"
          ],
          [
           "Alberta",
           "10.1 - 100 ha"
          ],
          [
           "Alberta",
           "10.1 - 100 ha"
          ],
          [
           "Alberta",
           "10.1 - 100 ha"
          ],
          [
           "Alberta",
           "10.1 - 100 ha"
          ],
          [
           "Alberta",
           "10.1 - 100 ha"
          ],
          [
           "Alberta",
           "10.1 - 100 ha"
          ],
          [
           "Alberta",
           "10.1 - 100 ha"
          ],
          [
           "Alberta",
           "10.1 - 100 ha"
          ],
          [
           "Alberta",
           "10.1 - 100 ha"
          ],
          [
           "Alberta",
           "10.1 - 100 ha"
          ],
          [
           "Alberta",
           "10.1 - 100 ha"
          ],
          [
           "Alberta",
           "10.1 - 100 ha"
          ],
          [
           "Alberta",
           "10.1 - 100 ha"
          ],
          [
           "Alberta",
           "10.1 - 100 ha"
          ],
          [
           "Alberta",
           "10.1 - 100 ha"
          ],
          [
           "Alberta",
           "10.1 - 100 ha"
          ],
          [
           "Alberta",
           "10.1 - 100 ha"
          ],
          [
           "Alberta",
           "10.1 - 100 ha"
          ],
          [
           "Alberta",
           "10.1 - 100 ha"
          ],
          [
           "Alberta",
           "10.1 - 100 ha"
          ],
          [
           "Alberta",
           "10.1 - 100 ha"
          ],
          [
           "Alberta",
           "10.1 - 100 ha"
          ],
          [
           "Alberta",
           "10.1 - 100 ha"
          ],
          [
           "Alberta",
           "10.1 - 100 ha"
          ],
          [
           "British Columbia",
           "10.1 - 100 ha"
          ],
          [
           "British Columbia",
           "10.1 - 100 ha"
          ],
          [
           "British Columbia",
           "10.1 - 100 ha"
          ],
          [
           "British Columbia",
           "10.1 - 100 ha"
          ],
          [
           "British Columbia",
           "10.1 - 100 ha"
          ],
          [
           "British Columbia",
           "10.1 - 100 ha"
          ],
          [
           "British Columbia",
           "10.1 - 100 ha"
          ],
          [
           "British Columbia",
           "10.1 - 100 ha"
          ],
          [
           "British Columbia",
           "10.1 - 100 ha"
          ],
          [
           "British Columbia",
           "10.1 - 100 ha"
          ],
          [
           "British Columbia",
           "10.1 - 100 ha"
          ],
          [
           "British Columbia",
           "10.1 - 100 ha"
          ],
          [
           "British Columbia",
           "10.1 - 100 ha"
          ],
          [
           "British Columbia",
           "10.1 - 100 ha"
          ],
          [
           "British Columbia",
           "10.1 - 100 ha"
          ],
          [
           "British Columbia",
           "10.1 - 100 ha"
          ],
          [
           "British Columbia",
           "10.1 - 100 ha"
          ],
          [
           "British Columbia",
           "10.1 - 100 ha"
          ],
          [
           "British Columbia",
           "10.1 - 100 ha"
          ],
          [
           "British Columbia",
           "10.1 - 100 ha"
          ],
          [
           "British Columbia",
           "10.1 - 100 ha"
          ],
          [
           "British Columbia",
           "10.1 - 100 ha"
          ],
          [
           "British Columbia",
           "10.1 - 100 ha"
          ],
          [
           "British Columbia",
           "10.1 - 100 ha"
          ],
          [
           "British Columbia",
           "10.1 - 100 ha"
          ],
          [
           "British Columbia",
           "10.1 - 100 ha"
          ],
          [
           "British Columbia",
           "10.1 - 100 ha"
          ],
          [
           "British Columbia",
           "10.1 - 100 ha"
          ],
          [
           "British Columbia",
           "10.1 - 100 ha"
          ],
          [
           "British Columbia",
           "10.1 - 100 ha"
          ],
          [
           "British Columbia",
           "10.1 - 100 ha"
          ],
          [
           "British Columbia",
           "10.1 - 100 ha"
          ],
          [
           "Manitoba",
           "10.1 - 100 ha"
          ],
          [
           "Manitoba",
           "10.1 - 100 ha"
          ],
          [
           "Manitoba",
           "10.1 - 100 ha"
          ],
          [
           "Manitoba",
           "10.1 - 100 ha"
          ],
          [
           "Manitoba",
           "10.1 - 100 ha"
          ],
          [
           "Manitoba",
           "10.1 - 100 ha"
          ],
          [
           "Manitoba",
           "10.1 - 100 ha"
          ],
          [
           "Manitoba",
           "10.1 - 100 ha"
          ],
          [
           "Manitoba",
           "10.1 - 100 ha"
          ],
          [
           "Manitoba",
           "10.1 - 100 ha"
          ],
          [
           "Manitoba",
           "10.1 - 100 ha"
          ],
          [
           "Manitoba",
           "10.1 - 100 ha"
          ],
          [
           "Manitoba",
           "10.1 - 100 ha"
          ],
          [
           "Manitoba",
           "10.1 - 100 ha"
          ],
          [
           "Manitoba",
           "10.1 - 100 ha"
          ],
          [
           "Manitoba",
           "10.1 - 100 ha"
          ],
          [
           "Manitoba",
           "10.1 - 100 ha"
          ],
          [
           "Manitoba",
           "10.1 - 100 ha"
          ],
          [
           "Manitoba",
           "10.1 - 100 ha"
          ],
          [
           "Manitoba",
           "10.1 - 100 ha"
          ],
          [
           "Manitoba",
           "10.1 - 100 ha"
          ],
          [
           "Manitoba",
           "10.1 - 100 ha"
          ],
          [
           "Manitoba",
           "10.1 - 100 ha"
          ],
          [
           "Manitoba",
           "10.1 - 100 ha"
          ],
          [
           "Manitoba",
           "10.1 - 100 ha"
          ],
          [
           "Manitoba",
           "10.1 - 100 ha"
          ],
          [
           "Manitoba",
           "10.1 - 100 ha"
          ],
          [
           "Manitoba",
           "10.1 - 100 ha"
          ],
          [
           "Manitoba",
           "10.1 - 100 ha"
          ],
          [
           "Manitoba",
           "10.1 - 100 ha"
          ],
          [
           "Manitoba",
           "10.1 - 100 ha"
          ],
          [
           "Manitoba",
           "10.1 - 100 ha"
          ],
          [
           "New Brunswick",
           "10.1 - 100 ha"
          ],
          [
           "New Brunswick",
           "10.1 - 100 ha"
          ],
          [
           "New Brunswick",
           "10.1 - 100 ha"
          ],
          [
           "New Brunswick",
           "10.1 - 100 ha"
          ],
          [
           "New Brunswick",
           "10.1 - 100 ha"
          ],
          [
           "New Brunswick",
           "10.1 - 100 ha"
          ],
          [
           "New Brunswick",
           "10.1 - 100 ha"
          ],
          [
           "New Brunswick",
           "10.1 - 100 ha"
          ],
          [
           "New Brunswick",
           "10.1 - 100 ha"
          ],
          [
           "New Brunswick",
           "10.1 - 100 ha"
          ],
          [
           "New Brunswick",
           "10.1 - 100 ha"
          ],
          [
           "New Brunswick",
           "10.1 - 100 ha"
          ],
          [
           "New Brunswick",
           "10.1 - 100 ha"
          ],
          [
           "New Brunswick",
           "10.1 - 100 ha"
          ],
          [
           "New Brunswick",
           "10.1 - 100 ha"
          ],
          [
           "New Brunswick",
           "10.1 - 100 ha"
          ],
          [
           "New Brunswick",
           "10.1 - 100 ha"
          ],
          [
           "New Brunswick",
           "10.1 - 100 ha"
          ],
          [
           "New Brunswick",
           "10.1 - 100 ha"
          ],
          [
           "New Brunswick",
           "10.1 - 100 ha"
          ],
          [
           "New Brunswick",
           "10.1 - 100 ha"
          ],
          [
           "New Brunswick",
           "10.1 - 100 ha"
          ],
          [
           "New Brunswick",
           "10.1 - 100 ha"
          ],
          [
           "New Brunswick",
           "10.1 - 100 ha"
          ],
          [
           "New Brunswick",
           "10.1 - 100 ha"
          ],
          [
           "New Brunswick",
           "10.1 - 100 ha"
          ],
          [
           "New Brunswick",
           "10.1 - 100 ha"
          ],
          [
           "New Brunswick",
           "10.1 - 100 ha"
          ],
          [
           "New Brunswick",
           "10.1 - 100 ha"
          ],
          [
           "New Brunswick",
           "10.1 - 100 ha"
          ],
          [
           "New Brunswick",
           "10.1 - 100 ha"
          ],
          [
           "New Brunswick",
           "10.1 - 100 ha"
          ],
          [
           "Newfoundland and Labrador",
           "10.1 - 100 ha"
          ],
          [
           "Newfoundland and Labrador",
           "10.1 - 100 ha"
          ],
          [
           "Newfoundland and Labrador",
           "10.1 - 100 ha"
          ],
          [
           "Newfoundland and Labrador",
           "10.1 - 100 ha"
          ],
          [
           "Newfoundland and Labrador",
           "10.1 - 100 ha"
          ],
          [
           "Newfoundland and Labrador",
           "10.1 - 100 ha"
          ],
          [
           "Newfoundland and Labrador",
           "10.1 - 100 ha"
          ],
          [
           "Newfoundland and Labrador",
           "10.1 - 100 ha"
          ],
          [
           "Newfoundland and Labrador",
           "10.1 - 100 ha"
          ],
          [
           "Newfoundland and Labrador",
           "10.1 - 100 ha"
          ],
          [
           "Newfoundland and Labrador",
           "10.1 - 100 ha"
          ],
          [
           "Newfoundland and Labrador",
           "10.1 - 100 ha"
          ],
          [
           "Newfoundland and Labrador",
           "10.1 - 100 ha"
          ],
          [
           "Newfoundland and Labrador",
           "10.1 - 100 ha"
          ],
          [
           "Newfoundland and Labrador",
           "10.1 - 100 ha"
          ],
          [
           "Newfoundland and Labrador",
           "10.1 - 100 ha"
          ],
          [
           "Newfoundland and Labrador",
           "10.1 - 100 ha"
          ],
          [
           "Newfoundland and Labrador",
           "10.1 - 100 ha"
          ],
          [
           "Newfoundland and Labrador",
           "10.1 - 100 ha"
          ],
          [
           "Newfoundland and Labrador",
           "10.1 - 100 ha"
          ],
          [
           "Newfoundland and Labrador",
           "10.1 - 100 ha"
          ],
          [
           "Newfoundland and Labrador",
           "10.1 - 100 ha"
          ],
          [
           "Newfoundland and Labrador",
           "10.1 - 100 ha"
          ],
          [
           "Newfoundland and Labrador",
           "10.1 - 100 ha"
          ],
          [
           "Newfoundland and Labrador",
           "10.1 - 100 ha"
          ],
          [
           "Newfoundland and Labrador",
           "10.1 - 100 ha"
          ],
          [
           "Newfoundland and Labrador",
           "10.1 - 100 ha"
          ],
          [
           "Newfoundland and Labrador",
           "10.1 - 100 ha"
          ],
          [
           "Newfoundland and Labrador",
           "10.1 - 100 ha"
          ],
          [
           "Newfoundland and Labrador",
           "10.1 - 100 ha"
          ],
          [
           "Newfoundland and Labrador",
           "10.1 - 100 ha"
          ],
          [
           "Newfoundland and Labrador",
           "10.1 - 100 ha"
          ],
          [
           "Northwest Territories",
           "10.1 - 100 ha"
          ],
          [
           "Northwest Territories",
           "10.1 - 100 ha"
          ],
          [
           "Northwest Territories",
           "10.1 - 100 ha"
          ],
          [
           "Northwest Territories",
           "10.1 - 100 ha"
          ],
          [
           "Northwest Territories",
           "10.1 - 100 ha"
          ],
          [
           "Northwest Territories",
           "10.1 - 100 ha"
          ],
          [
           "Northwest Territories",
           "10.1 - 100 ha"
          ],
          [
           "Northwest Territories",
           "10.1 - 100 ha"
          ],
          [
           "Northwest Territories",
           "10.1 - 100 ha"
          ],
          [
           "Northwest Territories",
           "10.1 - 100 ha"
          ],
          [
           "Northwest Territories",
           "10.1 - 100 ha"
          ],
          [
           "Northwest Territories",
           "10.1 - 100 ha"
          ],
          [
           "Northwest Territories",
           "10.1 - 100 ha"
          ],
          [
           "Northwest Territories",
           "10.1 - 100 ha"
          ],
          [
           "Northwest Territories",
           "10.1 - 100 ha"
          ],
          [
           "Northwest Territories",
           "10.1 - 100 ha"
          ],
          [
           "Northwest Territories",
           "10.1 - 100 ha"
          ],
          [
           "Northwest Territories",
           "10.1 - 100 ha"
          ],
          [
           "Northwest Territories",
           "10.1 - 100 ha"
          ],
          [
           "Northwest Territories",
           "10.1 - 100 ha"
          ],
          [
           "Northwest Territories",
           "10.1 - 100 ha"
          ],
          [
           "Northwest Territories",
           "10.1 - 100 ha"
          ],
          [
           "Northwest Territories",
           "10.1 - 100 ha"
          ],
          [
           "Northwest Territories",
           "10.1 - 100 ha"
          ],
          [
           "Northwest Territories",
           "10.1 - 100 ha"
          ],
          [
           "Northwest Territories",
           "10.1 - 100 ha"
          ],
          [
           "Northwest Territories",
           "10.1 - 100 ha"
          ],
          [
           "Northwest Territories",
           "10.1 - 100 ha"
          ],
          [
           "Northwest Territories",
           "10.1 - 100 ha"
          ],
          [
           "Northwest Territories",
           "10.1 - 100 ha"
          ],
          [
           "Northwest Territories",
           "10.1 - 100 ha"
          ],
          [
           "Northwest Territories",
           "10.1 - 100 ha"
          ],
          [
           "Nova Scotia",
           "10.1 - 100 ha"
          ],
          [
           "Nova Scotia",
           "10.1 - 100 ha"
          ],
          [
           "Nova Scotia",
           "10.1 - 100 ha"
          ],
          [
           "Nova Scotia",
           "10.1 - 100 ha"
          ],
          [
           "Nova Scotia",
           "10.1 - 100 ha"
          ],
          [
           "Nova Scotia",
           "10.1 - 100 ha"
          ],
          [
           "Nova Scotia",
           "10.1 - 100 ha"
          ],
          [
           "Nova Scotia",
           "10.1 - 100 ha"
          ],
          [
           "Nova Scotia",
           "10.1 - 100 ha"
          ],
          [
           "Nova Scotia",
           "10.1 - 100 ha"
          ],
          [
           "Nova Scotia",
           "10.1 - 100 ha"
          ],
          [
           "Nova Scotia",
           "10.1 - 100 ha"
          ],
          [
           "Nova Scotia",
           "10.1 - 100 ha"
          ],
          [
           "Nova Scotia",
           "10.1 - 100 ha"
          ],
          [
           "Nova Scotia",
           "10.1 - 100 ha"
          ],
          [
           "Nova Scotia",
           "10.1 - 100 ha"
          ],
          [
           "Nova Scotia",
           "10.1 - 100 ha"
          ],
          [
           "Nova Scotia",
           "10.1 - 100 ha"
          ],
          [
           "Nova Scotia",
           "10.1 - 100 ha"
          ],
          [
           "Nova Scotia",
           "10.1 - 100 ha"
          ],
          [
           "Nova Scotia",
           "10.1 - 100 ha"
          ],
          [
           "Nova Scotia",
           "10.1 - 100 ha"
          ],
          [
           "Nova Scotia",
           "10.1 - 100 ha"
          ],
          [
           "Nova Scotia",
           "10.1 - 100 ha"
          ],
          [
           "Nova Scotia",
           "10.1 - 100 ha"
          ],
          [
           "Nova Scotia",
           "10.1 - 100 ha"
          ],
          [
           "Nova Scotia",
           "10.1 - 100 ha"
          ],
          [
           "Nova Scotia",
           "10.1 - 100 ha"
          ],
          [
           "Nova Scotia",
           "10.1 - 100 ha"
          ],
          [
           "Nova Scotia",
           "10.1 - 100 ha"
          ],
          [
           "Nova Scotia",
           "10.1 - 100 ha"
          ],
          [
           "Nova Scotia",
           "10.1 - 100 ha"
          ],
          [
           "Ontario",
           "10.1 - 100 ha"
          ],
          [
           "Ontario",
           "10.1 - 100 ha"
          ],
          [
           "Ontario",
           "10.1 - 100 ha"
          ],
          [
           "Ontario",
           "10.1 - 100 ha"
          ],
          [
           "Ontario",
           "10.1 - 100 ha"
          ],
          [
           "Ontario",
           "10.1 - 100 ha"
          ],
          [
           "Ontario",
           "10.1 - 100 ha"
          ],
          [
           "Ontario",
           "10.1 - 100 ha"
          ],
          [
           "Ontario",
           "10.1 - 100 ha"
          ],
          [
           "Ontario",
           "10.1 - 100 ha"
          ],
          [
           "Ontario",
           "10.1 - 100 ha"
          ],
          [
           "Ontario",
           "10.1 - 100 ha"
          ],
          [
           "Ontario",
           "10.1 - 100 ha"
          ],
          [
           "Ontario",
           "10.1 - 100 ha"
          ],
          [
           "Ontario",
           "10.1 - 100 ha"
          ],
          [
           "Ontario",
           "10.1 - 100 ha"
          ],
          [
           "Ontario",
           "10.1 - 100 ha"
          ],
          [
           "Ontario",
           "10.1 - 100 ha"
          ],
          [
           "Ontario",
           "10.1 - 100 ha"
          ],
          [
           "Ontario",
           "10.1 - 100 ha"
          ],
          [
           "Ontario",
           "10.1 - 100 ha"
          ],
          [
           "Ontario",
           "10.1 - 100 ha"
          ],
          [
           "Ontario",
           "10.1 - 100 ha"
          ],
          [
           "Ontario",
           "10.1 - 100 ha"
          ],
          [
           "Ontario",
           "10.1 - 100 ha"
          ],
          [
           "Ontario",
           "10.1 - 100 ha"
          ],
          [
           "Ontario",
           "10.1 - 100 ha"
          ],
          [
           "Ontario",
           "10.1 - 100 ha"
          ],
          [
           "Ontario",
           "10.1 - 100 ha"
          ],
          [
           "Ontario",
           "10.1 - 100 ha"
          ],
          [
           "Ontario",
           "10.1 - 100 ha"
          ],
          [
           "Ontario",
           "10.1 - 100 ha"
          ],
          [
           "Prince Edward Island",
           "10.1 - 100 ha"
          ],
          [
           "Prince Edward Island",
           "10.1 - 100 ha"
          ],
          [
           "Prince Edward Island",
           "10.1 - 100 ha"
          ],
          [
           "Prince Edward Island",
           "10.1 - 100 ha"
          ],
          [
           "Prince Edward Island",
           "10.1 - 100 ha"
          ],
          [
           "Prince Edward Island",
           "10.1 - 100 ha"
          ],
          [
           "Prince Edward Island",
           "10.1 - 100 ha"
          ],
          [
           "Prince Edward Island",
           "10.1 - 100 ha"
          ],
          [
           "Prince Edward Island",
           "10.1 - 100 ha"
          ],
          [
           "Prince Edward Island",
           "10.1 - 100 ha"
          ],
          [
           "Prince Edward Island",
           "10.1 - 100 ha"
          ],
          [
           "Prince Edward Island",
           "10.1 - 100 ha"
          ],
          [
           "Prince Edward Island",
           "10.1 - 100 ha"
          ],
          [
           "Prince Edward Island",
           "10.1 - 100 ha"
          ],
          [
           "Prince Edward Island",
           "10.1 - 100 ha"
          ],
          [
           "Prince Edward Island",
           "10.1 - 100 ha"
          ],
          [
           "Prince Edward Island",
           "10.1 - 100 ha"
          ],
          [
           "Prince Edward Island",
           "10.1 - 100 ha"
          ],
          [
           "Prince Edward Island",
           "10.1 - 100 ha"
          ],
          [
           "Prince Edward Island",
           "10.1 - 100 ha"
          ],
          [
           "Prince Edward Island",
           "10.1 - 100 ha"
          ],
          [
           "Prince Edward Island",
           "10.1 - 100 ha"
          ],
          [
           "Prince Edward Island",
           "10.1 - 100 ha"
          ],
          [
           "Prince Edward Island",
           "10.1 - 100 ha"
          ],
          [
           "Prince Edward Island",
           "10.1 - 100 ha"
          ],
          [
           "Prince Edward Island",
           "10.1 - 100 ha"
          ],
          [
           "Prince Edward Island",
           "10.1 - 100 ha"
          ],
          [
           "Prince Edward Island",
           "10.1 - 100 ha"
          ],
          [
           "Prince Edward Island",
           "10.1 - 100 ha"
          ],
          [
           "Prince Edward Island",
           "10.1 - 100 ha"
          ],
          [
           "Prince Edward Island",
           "10.1 - 100 ha"
          ],
          [
           "Prince Edward Island",
           "10.1 - 100 ha"
          ],
          [
           "Quebec",
           "10.1 - 100 ha"
          ],
          [
           "Quebec",
           "10.1 - 100 ha"
          ],
          [
           "Quebec",
           "10.1 - 100 ha"
          ],
          [
           "Quebec",
           "10.1 - 100 ha"
          ],
          [
           "Quebec",
           "10.1 - 100 ha"
          ],
          [
           "Quebec",
           "10.1 - 100 ha"
          ],
          [
           "Quebec",
           "10.1 - 100 ha"
          ],
          [
           "Quebec",
           "10.1 - 100 ha"
          ],
          [
           "Quebec",
           "10.1 - 100 ha"
          ],
          [
           "Quebec",
           "10.1 - 100 ha"
          ],
          [
           "Quebec",
           "10.1 - 100 ha"
          ],
          [
           "Quebec",
           "10.1 - 100 ha"
          ],
          [
           "Quebec",
           "10.1 - 100 ha"
          ],
          [
           "Quebec",
           "10.1 - 100 ha"
          ],
          [
           "Quebec",
           "10.1 - 100 ha"
          ],
          [
           "Quebec",
           "10.1 - 100 ha"
          ],
          [
           "Quebec",
           "10.1 - 100 ha"
          ],
          [
           "Quebec",
           "10.1 - 100 ha"
          ],
          [
           "Quebec",
           "10.1 - 100 ha"
          ],
          [
           "Quebec",
           "10.1 - 100 ha"
          ],
          [
           "Quebec",
           "10.1 - 100 ha"
          ],
          [
           "Quebec",
           "10.1 - 100 ha"
          ],
          [
           "Quebec",
           "10.1 - 100 ha"
          ],
          [
           "Quebec",
           "10.1 - 100 ha"
          ],
          [
           "Quebec",
           "10.1 - 100 ha"
          ],
          [
           "Quebec",
           "10.1 - 100 ha"
          ],
          [
           "Quebec",
           "10.1 - 100 ha"
          ],
          [
           "Quebec",
           "10.1 - 100 ha"
          ],
          [
           "Quebec",
           "10.1 - 100 ha"
          ],
          [
           "Quebec",
           "10.1 - 100 ha"
          ],
          [
           "Quebec",
           "10.1 - 100 ha"
          ],
          [
           "Quebec",
           "10.1 - 100 ha"
          ],
          [
           "Saskatchewan",
           "10.1 - 100 ha"
          ],
          [
           "Saskatchewan",
           "10.1 - 100 ha"
          ],
          [
           "Saskatchewan",
           "10.1 - 100 ha"
          ],
          [
           "Saskatchewan",
           "10.1 - 100 ha"
          ],
          [
           "Saskatchewan",
           "10.1 - 100 ha"
          ],
          [
           "Saskatchewan",
           "10.1 - 100 ha"
          ],
          [
           "Saskatchewan",
           "10.1 - 100 ha"
          ],
          [
           "Saskatchewan",
           "10.1 - 100 ha"
          ],
          [
           "Saskatchewan",
           "10.1 - 100 ha"
          ],
          [
           "Saskatchewan",
           "10.1 - 100 ha"
          ],
          [
           "Saskatchewan",
           "10.1 - 100 ha"
          ],
          [
           "Saskatchewan",
           "10.1 - 100 ha"
          ],
          [
           "Saskatchewan",
           "10.1 - 100 ha"
          ],
          [
           "Saskatchewan",
           "10.1 - 100 ha"
          ],
          [
           "Saskatchewan",
           "10.1 - 100 ha"
          ],
          [
           "Saskatchewan",
           "10.1 - 100 ha"
          ],
          [
           "Saskatchewan",
           "10.1 - 100 ha"
          ],
          [
           "Saskatchewan",
           "10.1 - 100 ha"
          ],
          [
           "Saskatchewan",
           "10.1 - 100 ha"
          ],
          [
           "Saskatchewan",
           "10.1 - 100 ha"
          ],
          [
           "Saskatchewan",
           "10.1 - 100 ha"
          ],
          [
           "Saskatchewan",
           "10.1 - 100 ha"
          ],
          [
           "Saskatchewan",
           "10.1 - 100 ha"
          ],
          [
           "Saskatchewan",
           "10.1 - 100 ha"
          ],
          [
           "Saskatchewan",
           "10.1 - 100 ha"
          ],
          [
           "Saskatchewan",
           "10.1 - 100 ha"
          ],
          [
           "Saskatchewan",
           "10.1 - 100 ha"
          ],
          [
           "Saskatchewan",
           "10.1 - 100 ha"
          ],
          [
           "Saskatchewan",
           "10.1 - 100 ha"
          ],
          [
           "Saskatchewan",
           "10.1 - 100 ha"
          ],
          [
           "Saskatchewan",
           "10.1 - 100 ha"
          ],
          [
           "Saskatchewan",
           "10.1 - 100 ha"
          ],
          [
           "Yukon",
           "10.1 - 100 ha"
          ],
          [
           "Yukon",
           "10.1 - 100 ha"
          ],
          [
           "Yukon",
           "10.1 - 100 ha"
          ],
          [
           "Yukon",
           "10.1 - 100 ha"
          ],
          [
           "Yukon",
           "10.1 - 100 ha"
          ],
          [
           "Yukon",
           "10.1 - 100 ha"
          ],
          [
           "Yukon",
           "10.1 - 100 ha"
          ],
          [
           "Yukon",
           "10.1 - 100 ha"
          ],
          [
           "Yukon",
           "10.1 - 100 ha"
          ],
          [
           "Yukon",
           "10.1 - 100 ha"
          ],
          [
           "Yukon",
           "10.1 - 100 ha"
          ],
          [
           "Yukon",
           "10.1 - 100 ha"
          ],
          [
           "Yukon",
           "10.1 - 100 ha"
          ],
          [
           "Yukon",
           "10.1 - 100 ha"
          ],
          [
           "Yukon",
           "10.1 - 100 ha"
          ],
          [
           "Yukon",
           "10.1 - 100 ha"
          ],
          [
           "Yukon",
           "10.1 - 100 ha"
          ],
          [
           "Yukon",
           "10.1 - 100 ha"
          ],
          [
           "Yukon",
           "10.1 - 100 ha"
          ],
          [
           "Yukon",
           "10.1 - 100 ha"
          ],
          [
           "Yukon",
           "10.1 - 100 ha"
          ],
          [
           "Yukon",
           "10.1 - 100 ha"
          ],
          [
           "Yukon",
           "10.1 - 100 ha"
          ],
          [
           "Yukon",
           "10.1 - 100 ha"
          ],
          [
           "Yukon",
           "10.1 - 100 ha"
          ],
          [
           "Yukon",
           "10.1 - 100 ha"
          ],
          [
           "Yukon",
           "10.1 - 100 ha"
          ],
          [
           "Yukon",
           "10.1 - 100 ha"
          ],
          [
           "Yukon",
           "10.1 - 100 ha"
          ],
          [
           "Yukon",
           "10.1 - 100 ha"
          ],
          [
           "Yukon",
           "10.1 - 100 ha"
          ],
          [
           "Yukon",
           "10.1 - 100 ha"
          ]
         ],
         "hovertemplate": "Fire size class=%{customdata[1]}<br>Year=%{x}<br>MaxValue=%{y}<br>Jurisdiction=%{customdata[0]}<extra></extra>",
         "legendgroup": "10.1 - 100 ha",
         "marker": {
          "color": "#00cc96",
          "symbol": "circle"
         },
         "mode": "markers",
         "name": "10.1 - 100 ha",
         "showlegend": true,
         "type": "scattergl",
         "x": [
          1990,
          1991,
          1992,
          1993,
          1994,
          1995,
          1996,
          1997,
          1998,
          1999,
          2000,
          2001,
          2002,
          2003,
          2004,
          2005,
          2006,
          2007,
          2008,
          2009,
          2010,
          2011,
          2012,
          2013,
          2014,
          2015,
          2016,
          2017,
          2018,
          2019,
          2020,
          2021,
          1990,
          1991,
          1992,
          1993,
          1994,
          1995,
          1996,
          1997,
          1998,
          1999,
          2000,
          2001,
          2002,
          2003,
          2004,
          2005,
          2006,
          2007,
          2008,
          2009,
          2010,
          2011,
          2012,
          2013,
          2014,
          2015,
          2016,
          2017,
          2018,
          2019,
          2020,
          2021,
          1990,
          1991,
          1992,
          1993,
          1994,
          1995,
          1996,
          1997,
          1998,
          1999,
          2000,
          2001,
          2002,
          2003,
          2004,
          2005,
          2006,
          2007,
          2008,
          2009,
          2010,
          2011,
          2012,
          2013,
          2014,
          2015,
          2016,
          2017,
          2018,
          2019,
          2020,
          2021,
          1990,
          1991,
          1992,
          1993,
          1994,
          1995,
          1996,
          1997,
          1998,
          1999,
          2000,
          2001,
          2002,
          2003,
          2004,
          2005,
          2006,
          2007,
          2008,
          2009,
          2010,
          2011,
          2012,
          2013,
          2014,
          2015,
          2016,
          2017,
          2018,
          2019,
          2020,
          2021,
          1990,
          1991,
          1992,
          1993,
          1994,
          1995,
          1996,
          1997,
          1998,
          1999,
          2000,
          2001,
          2002,
          2003,
          2004,
          2005,
          2006,
          2007,
          2008,
          2009,
          2010,
          2011,
          2012,
          2013,
          2014,
          2015,
          2016,
          2017,
          2018,
          2019,
          2020,
          2021,
          1990,
          1991,
          1992,
          1993,
          1994,
          1995,
          1996,
          1997,
          1998,
          1999,
          2000,
          2001,
          2002,
          2003,
          2004,
          2005,
          2006,
          2007,
          2008,
          2009,
          2010,
          2011,
          2012,
          2013,
          2014,
          2015,
          2016,
          2017,
          2018,
          2019,
          2020,
          2021,
          1990,
          1991,
          1992,
          1993,
          1994,
          1995,
          1996,
          1997,
          1998,
          1999,
          2000,
          2001,
          2002,
          2003,
          2004,
          2005,
          2006,
          2007,
          2008,
          2009,
          2010,
          2011,
          2012,
          2013,
          2014,
          2015,
          2016,
          2017,
          2018,
          2019,
          2020,
          2021,
          1990,
          1991,
          1992,
          1993,
          1994,
          1995,
          1996,
          1997,
          1998,
          1999,
          2000,
          2001,
          2002,
          2003,
          2004,
          2005,
          2006,
          2007,
          2008,
          2009,
          2010,
          2011,
          2012,
          2013,
          2014,
          2015,
          2016,
          2017,
          2018,
          2019,
          2020,
          2021,
          1990,
          1991,
          1992,
          1993,
          1994,
          1995,
          1996,
          1997,
          1998,
          1999,
          2000,
          2001,
          2002,
          2003,
          2004,
          2005,
          2006,
          2007,
          2008,
          2009,
          2010,
          2011,
          2012,
          2013,
          2014,
          2015,
          2016,
          2017,
          2018,
          2019,
          2020,
          2021,
          1990,
          1991,
          1992,
          1993,
          1994,
          1995,
          1996,
          1997,
          1998,
          1999,
          2000,
          2001,
          2002,
          2003,
          2004,
          2005,
          2006,
          2007,
          2008,
          2009,
          2010,
          2011,
          2012,
          2013,
          2014,
          2015,
          2016,
          2017,
          2018,
          2019,
          2020,
          2021,
          1990,
          1991,
          1992,
          1993,
          1994,
          1995,
          1996,
          1997,
          1998,
          1999,
          2000,
          2001,
          2002,
          2003,
          2004,
          2005,
          2006,
          2007,
          2008,
          2009,
          2010,
          2011,
          2012,
          2013,
          2014,
          2015,
          2016,
          2017,
          2018,
          2019,
          2020,
          2021,
          1990,
          1991,
          1992,
          1993,
          1994,
          1995,
          1996,
          1997,
          1998,
          1999,
          2000,
          2001,
          2002,
          2003,
          2004,
          2005,
          2006,
          2007,
          2008,
          2009,
          2010,
          2011,
          2012,
          2013,
          2014,
          2015,
          2016,
          2017,
          2018,
          2019,
          2020,
          2021
         ],
         "xaxis": "x",
         "y": [
          1768,
          1575,
          1179,
          1986,
          1721,
          1644,
          497,
          574,
          3538,
          3305,
          1875,
          1285,
          1877,
          843,
          1732,
          1658,
          2842,
          1073,
          1625,
          1537,
          2236,
          1592,
          1249,
          2043,
          1461,
          3240,
          1875,
          1905,
          1740,
          1447,
          427,
          null,
          4259,
          3185,
          2702,
          2253,
          3936,
          1281,
          995,
          609,
          3284,
          2365,
          2184,
          1082,
          1836,
          4618,
          4028,
          1783,
          4270,
          1934,
          2440,
          6292,
          3264,
          733,
          2600,
          3017,
          2733,
          3064,
          2412,
          3385,
          7292,
          1187,
          1013,
          null,
          1825,
          3339,
          1421,
          1155,
          2779,
          3082,
          2108,
          1956,
          2429,
          2800,
          1683,
          2241,
          3710,
          7995,
          401,
          801,
          2116,
          1251,
          1639,
          927,
          1804,
          887,
          2591,
          2585,
          1043,
          2116,
          1589,
          3320,
          2899,
          2528,
          1111,
          null,
          29,
          217,
          662,
          126,
          271,
          283,
          276,
          45,
          129,
          367,
          105,
          348,
          108,
          88,
          188,
          185,
          190,
          131,
          44,
          85,
          14,
          null,
          67,
          207,
          null,
          83,
          43,
          53,
          141,
          114,
          290,
          null,
          77,
          371,
          101,
          20,
          274,
          223,
          134,
          107,
          206,
          329,
          169,
          281,
          269,
          146,
          null,
          191,
          197,
          232,
          49,
          333,
          13,
          62,
          146,
          30,
          null,
          134,
          139,
          26,
          161,
          85,
          125,
          null,
          924,
          1778,
          731,
          1438,
          3432,
          456,
          2499,
          369,
          2027,
          656,
          1672,
          252,
          417,
          1001,
          1802,
          1930,
          1329,
          957,
          3333,
          259,
          1899,
          1136,
          2436,
          1561,
          2140,
          1996,
          1565,
          2239,
          917,
          1206,
          360,
          null,
          282,
          634,
          217,
          63,
          94,
          120,
          205,
          182,
          165,
          169,
          12,
          288,
          39,
          174,
          101,
          137,
          255,
          315,
          236,
          131,
          218,
          24,
          null,
          144,
          211,
          179,
          344,
          111,
          48,
          19,
          168,
          null,
          2394,
          2733,
          1382,
          829,
          1969,
          4229,
          3624,
          1080,
          3068,
          1889,
          1175,
          1918,
          2142,
          1500,
          259,
          1016,
          4346,
          1205,
          278,
          744,
          1088,
          1674,
          2189,
          1144,
          706,
          1192,
          831,
          2551,
          2349,
          877,
          1316,
          null,
          40,
          20,
          15,
          37,
          null,
          null,
          null,
          null,
          null,
          null,
          null,
          null,
          122,
          null,
          null,
          22,
          28,
          14,
          null,
          null,
          null,
          null,
          null,
          61,
          null,
          null,
          32,
          null,
          null,
          null,
          null,
          null,
          1168,
          1402,
          1214,
          466,
          768,
          3117,
          4323,
          1173,
          586,
          833,
          613,
          963,
          842,
          1723,
          255,
          1600,
          1605,
          1938,
          472,
          1401,
          991,
          333,
          839,
          1248,
          562,
          225,
          1352,
          423,
          1035,
          527,
          945,
          null,
          1768,
          1932,
          1502,
          2451,
          2127,
          1443,
          915,
          1199,
          4504,
          2224,
          1317,
          3951,
          4262,
          1597,
          974,
          1489,
          2221,
          1249,
          1552,
          1456,
          2849,
          796,
          2532,
          1229,
          1578,
          2586,
          1802,
          803,
          1611,
          1214,
          262,
          null,
          343,
          922,
          669,
          676,
          1056,
          572,
          583,
          63,
          888,
          370,
          113,
          344,
          111,
          455,
          1221,
          303,
          344,
          836,
          629,
          722,
          229,
          211,
          782,
          1028,
          141,
          950,
          75,
          454,
          68,
          795,
          195,
          null
         ],
         "yaxis": "y"
        },
        {
         "customdata": [
          [
           "Alberta",
           "100.1 - 1 000 ha"
          ],
          [
           "Alberta",
           "100.1 - 1 000 ha"
          ],
          [
           "Alberta",
           "100.1 - 1 000 ha"
          ],
          [
           "Alberta",
           "100.1 - 1 000 ha"
          ],
          [
           "Alberta",
           "100.1 - 1 000 ha"
          ],
          [
           "Alberta",
           "100.1 - 1 000 ha"
          ],
          [
           "Alberta",
           "100.1 - 1 000 ha"
          ],
          [
           "Alberta",
           "100.1 - 1 000 ha"
          ],
          [
           "Alberta",
           "100.1 - 1 000 ha"
          ],
          [
           "Alberta",
           "100.1 - 1 000 ha"
          ],
          [
           "Alberta",
           "100.1 - 1 000 ha"
          ],
          [
           "Alberta",
           "100.1 - 1 000 ha"
          ],
          [
           "Alberta",
           "100.1 - 1 000 ha"
          ],
          [
           "Alberta",
           "100.1 - 1 000 ha"
          ],
          [
           "Alberta",
           "100.1 - 1 000 ha"
          ],
          [
           "Alberta",
           "100.1 - 1 000 ha"
          ],
          [
           "Alberta",
           "100.1 - 1 000 ha"
          ],
          [
           "Alberta",
           "100.1 - 1 000 ha"
          ],
          [
           "Alberta",
           "100.1 - 1 000 ha"
          ],
          [
           "Alberta",
           "100.1 - 1 000 ha"
          ],
          [
           "Alberta",
           "100.1 - 1 000 ha"
          ],
          [
           "Alberta",
           "100.1 - 1 000 ha"
          ],
          [
           "Alberta",
           "100.1 - 1 000 ha"
          ],
          [
           "Alberta",
           "100.1 - 1 000 ha"
          ],
          [
           "Alberta",
           "100.1 - 1 000 ha"
          ],
          [
           "Alberta",
           "100.1 - 1 000 ha"
          ],
          [
           "Alberta",
           "100.1 - 1 000 ha"
          ],
          [
           "Alberta",
           "100.1 - 1 000 ha"
          ],
          [
           "Alberta",
           "100.1 - 1 000 ha"
          ],
          [
           "Alberta",
           "100.1 - 1 000 ha"
          ],
          [
           "Alberta",
           "100.1 - 1 000 ha"
          ],
          [
           "Alberta",
           "100.1 - 1 000 ha"
          ],
          [
           "British Columbia",
           "100.1 - 1 000 ha"
          ],
          [
           "British Columbia",
           "100.1 - 1 000 ha"
          ],
          [
           "British Columbia",
           "100.1 - 1 000 ha"
          ],
          [
           "British Columbia",
           "100.1 - 1 000 ha"
          ],
          [
           "British Columbia",
           "100.1 - 1 000 ha"
          ],
          [
           "British Columbia",
           "100.1 - 1 000 ha"
          ],
          [
           "British Columbia",
           "100.1 - 1 000 ha"
          ],
          [
           "British Columbia",
           "100.1 - 1 000 ha"
          ],
          [
           "British Columbia",
           "100.1 - 1 000 ha"
          ],
          [
           "British Columbia",
           "100.1 - 1 000 ha"
          ],
          [
           "British Columbia",
           "100.1 - 1 000 ha"
          ],
          [
           "British Columbia",
           "100.1 - 1 000 ha"
          ],
          [
           "British Columbia",
           "100.1 - 1 000 ha"
          ],
          [
           "British Columbia",
           "100.1 - 1 000 ha"
          ],
          [
           "British Columbia",
           "100.1 - 1 000 ha"
          ],
          [
           "British Columbia",
           "100.1 - 1 000 ha"
          ],
          [
           "British Columbia",
           "100.1 - 1 000 ha"
          ],
          [
           "British Columbia",
           "100.1 - 1 000 ha"
          ],
          [
           "British Columbia",
           "100.1 - 1 000 ha"
          ],
          [
           "British Columbia",
           "100.1 - 1 000 ha"
          ],
          [
           "British Columbia",
           "100.1 - 1 000 ha"
          ],
          [
           "British Columbia",
           "100.1 - 1 000 ha"
          ],
          [
           "British Columbia",
           "100.1 - 1 000 ha"
          ],
          [
           "British Columbia",
           "100.1 - 1 000 ha"
          ],
          [
           "British Columbia",
           "100.1 - 1 000 ha"
          ],
          [
           "British Columbia",
           "100.1 - 1 000 ha"
          ],
          [
           "British Columbia",
           "100.1 - 1 000 ha"
          ],
          [
           "British Columbia",
           "100.1 - 1 000 ha"
          ],
          [
           "British Columbia",
           "100.1 - 1 000 ha"
          ],
          [
           "British Columbia",
           "100.1 - 1 000 ha"
          ],
          [
           "British Columbia",
           "100.1 - 1 000 ha"
          ],
          [
           "British Columbia",
           "100.1 - 1 000 ha"
          ],
          [
           "Manitoba",
           "100.1 - 1 000 ha"
          ],
          [
           "Manitoba",
           "100.1 - 1 000 ha"
          ],
          [
           "Manitoba",
           "100.1 - 1 000 ha"
          ],
          [
           "Manitoba",
           "100.1 - 1 000 ha"
          ],
          [
           "Manitoba",
           "100.1 - 1 000 ha"
          ],
          [
           "Manitoba",
           "100.1 - 1 000 ha"
          ],
          [
           "Manitoba",
           "100.1 - 1 000 ha"
          ],
          [
           "Manitoba",
           "100.1 - 1 000 ha"
          ],
          [
           "Manitoba",
           "100.1 - 1 000 ha"
          ],
          [
           "Manitoba",
           "100.1 - 1 000 ha"
          ],
          [
           "Manitoba",
           "100.1 - 1 000 ha"
          ],
          [
           "Manitoba",
           "100.1 - 1 000 ha"
          ],
          [
           "Manitoba",
           "100.1 - 1 000 ha"
          ],
          [
           "Manitoba",
           "100.1 - 1 000 ha"
          ],
          [
           "Manitoba",
           "100.1 - 1 000 ha"
          ],
          [
           "Manitoba",
           "100.1 - 1 000 ha"
          ],
          [
           "Manitoba",
           "100.1 - 1 000 ha"
          ],
          [
           "Manitoba",
           "100.1 - 1 000 ha"
          ],
          [
           "Manitoba",
           "100.1 - 1 000 ha"
          ],
          [
           "Manitoba",
           "100.1 - 1 000 ha"
          ],
          [
           "Manitoba",
           "100.1 - 1 000 ha"
          ],
          [
           "Manitoba",
           "100.1 - 1 000 ha"
          ],
          [
           "Manitoba",
           "100.1 - 1 000 ha"
          ],
          [
           "Manitoba",
           "100.1 - 1 000 ha"
          ],
          [
           "Manitoba",
           "100.1 - 1 000 ha"
          ],
          [
           "Manitoba",
           "100.1 - 1 000 ha"
          ],
          [
           "Manitoba",
           "100.1 - 1 000 ha"
          ],
          [
           "Manitoba",
           "100.1 - 1 000 ha"
          ],
          [
           "Manitoba",
           "100.1 - 1 000 ha"
          ],
          [
           "Manitoba",
           "100.1 - 1 000 ha"
          ],
          [
           "Manitoba",
           "100.1 - 1 000 ha"
          ],
          [
           "Manitoba",
           "100.1 - 1 000 ha"
          ],
          [
           "New Brunswick",
           "100.1 - 1 000 ha"
          ],
          [
           "New Brunswick",
           "100.1 - 1 000 ha"
          ],
          [
           "New Brunswick",
           "100.1 - 1 000 ha"
          ],
          [
           "New Brunswick",
           "100.1 - 1 000 ha"
          ],
          [
           "New Brunswick",
           "100.1 - 1 000 ha"
          ],
          [
           "New Brunswick",
           "100.1 - 1 000 ha"
          ],
          [
           "New Brunswick",
           "100.1 - 1 000 ha"
          ],
          [
           "New Brunswick",
           "100.1 - 1 000 ha"
          ],
          [
           "New Brunswick",
           "100.1 - 1 000 ha"
          ],
          [
           "New Brunswick",
           "100.1 - 1 000 ha"
          ],
          [
           "New Brunswick",
           "100.1 - 1 000 ha"
          ],
          [
           "New Brunswick",
           "100.1 - 1 000 ha"
          ],
          [
           "New Brunswick",
           "100.1 - 1 000 ha"
          ],
          [
           "New Brunswick",
           "100.1 - 1 000 ha"
          ],
          [
           "New Brunswick",
           "100.1 - 1 000 ha"
          ],
          [
           "New Brunswick",
           "100.1 - 1 000 ha"
          ],
          [
           "New Brunswick",
           "100.1 - 1 000 ha"
          ],
          [
           "New Brunswick",
           "100.1 - 1 000 ha"
          ],
          [
           "New Brunswick",
           "100.1 - 1 000 ha"
          ],
          [
           "New Brunswick",
           "100.1 - 1 000 ha"
          ],
          [
           "New Brunswick",
           "100.1 - 1 000 ha"
          ],
          [
           "New Brunswick",
           "100.1 - 1 000 ha"
          ],
          [
           "New Brunswick",
           "100.1 - 1 000 ha"
          ],
          [
           "New Brunswick",
           "100.1 - 1 000 ha"
          ],
          [
           "New Brunswick",
           "100.1 - 1 000 ha"
          ],
          [
           "New Brunswick",
           "100.1 - 1 000 ha"
          ],
          [
           "New Brunswick",
           "100.1 - 1 000 ha"
          ],
          [
           "New Brunswick",
           "100.1 - 1 000 ha"
          ],
          [
           "New Brunswick",
           "100.1 - 1 000 ha"
          ],
          [
           "New Brunswick",
           "100.1 - 1 000 ha"
          ],
          [
           "New Brunswick",
           "100.1 - 1 000 ha"
          ],
          [
           "New Brunswick",
           "100.1 - 1 000 ha"
          ],
          [
           "Newfoundland and Labrador",
           "100.1 - 1 000 ha"
          ],
          [
           "Newfoundland and Labrador",
           "100.1 - 1 000 ha"
          ],
          [
           "Newfoundland and Labrador",
           "100.1 - 1 000 ha"
          ],
          [
           "Newfoundland and Labrador",
           "100.1 - 1 000 ha"
          ],
          [
           "Newfoundland and Labrador",
           "100.1 - 1 000 ha"
          ],
          [
           "Newfoundland and Labrador",
           "100.1 - 1 000 ha"
          ],
          [
           "Newfoundland and Labrador",
           "100.1 - 1 000 ha"
          ],
          [
           "Newfoundland and Labrador",
           "100.1 - 1 000 ha"
          ],
          [
           "Newfoundland and Labrador",
           "100.1 - 1 000 ha"
          ],
          [
           "Newfoundland and Labrador",
           "100.1 - 1 000 ha"
          ],
          [
           "Newfoundland and Labrador",
           "100.1 - 1 000 ha"
          ],
          [
           "Newfoundland and Labrador",
           "100.1 - 1 000 ha"
          ],
          [
           "Newfoundland and Labrador",
           "100.1 - 1 000 ha"
          ],
          [
           "Newfoundland and Labrador",
           "100.1 - 1 000 ha"
          ],
          [
           "Newfoundland and Labrador",
           "100.1 - 1 000 ha"
          ],
          [
           "Newfoundland and Labrador",
           "100.1 - 1 000 ha"
          ],
          [
           "Newfoundland and Labrador",
           "100.1 - 1 000 ha"
          ],
          [
           "Newfoundland and Labrador",
           "100.1 - 1 000 ha"
          ],
          [
           "Newfoundland and Labrador",
           "100.1 - 1 000 ha"
          ],
          [
           "Newfoundland and Labrador",
           "100.1 - 1 000 ha"
          ],
          [
           "Newfoundland and Labrador",
           "100.1 - 1 000 ha"
          ],
          [
           "Newfoundland and Labrador",
           "100.1 - 1 000 ha"
          ],
          [
           "Newfoundland and Labrador",
           "100.1 - 1 000 ha"
          ],
          [
           "Newfoundland and Labrador",
           "100.1 - 1 000 ha"
          ],
          [
           "Newfoundland and Labrador",
           "100.1 - 1 000 ha"
          ],
          [
           "Newfoundland and Labrador",
           "100.1 - 1 000 ha"
          ],
          [
           "Newfoundland and Labrador",
           "100.1 - 1 000 ha"
          ],
          [
           "Newfoundland and Labrador",
           "100.1 - 1 000 ha"
          ],
          [
           "Newfoundland and Labrador",
           "100.1 - 1 000 ha"
          ],
          [
           "Newfoundland and Labrador",
           "100.1 - 1 000 ha"
          ],
          [
           "Newfoundland and Labrador",
           "100.1 - 1 000 ha"
          ],
          [
           "Newfoundland and Labrador",
           "100.1 - 1 000 ha"
          ],
          [
           "Northwest Territories",
           "100.1 - 1 000 ha"
          ],
          [
           "Northwest Territories",
           "100.1 - 1 000 ha"
          ],
          [
           "Northwest Territories",
           "100.1 - 1 000 ha"
          ],
          [
           "Northwest Territories",
           "100.1 - 1 000 ha"
          ],
          [
           "Northwest Territories",
           "100.1 - 1 000 ha"
          ],
          [
           "Northwest Territories",
           "100.1 - 1 000 ha"
          ],
          [
           "Northwest Territories",
           "100.1 - 1 000 ha"
          ],
          [
           "Northwest Territories",
           "100.1 - 1 000 ha"
          ],
          [
           "Northwest Territories",
           "100.1 - 1 000 ha"
          ],
          [
           "Northwest Territories",
           "100.1 - 1 000 ha"
          ],
          [
           "Northwest Territories",
           "100.1 - 1 000 ha"
          ],
          [
           "Northwest Territories",
           "100.1 - 1 000 ha"
          ],
          [
           "Northwest Territories",
           "100.1 - 1 000 ha"
          ],
          [
           "Northwest Territories",
           "100.1 - 1 000 ha"
          ],
          [
           "Northwest Territories",
           "100.1 - 1 000 ha"
          ],
          [
           "Northwest Territories",
           "100.1 - 1 000 ha"
          ],
          [
           "Northwest Territories",
           "100.1 - 1 000 ha"
          ],
          [
           "Northwest Territories",
           "100.1 - 1 000 ha"
          ],
          [
           "Northwest Territories",
           "100.1 - 1 000 ha"
          ],
          [
           "Northwest Territories",
           "100.1 - 1 000 ha"
          ],
          [
           "Northwest Territories",
           "100.1 - 1 000 ha"
          ],
          [
           "Northwest Territories",
           "100.1 - 1 000 ha"
          ],
          [
           "Northwest Territories",
           "100.1 - 1 000 ha"
          ],
          [
           "Northwest Territories",
           "100.1 - 1 000 ha"
          ],
          [
           "Northwest Territories",
           "100.1 - 1 000 ha"
          ],
          [
           "Northwest Territories",
           "100.1 - 1 000 ha"
          ],
          [
           "Northwest Territories",
           "100.1 - 1 000 ha"
          ],
          [
           "Northwest Territories",
           "100.1 - 1 000 ha"
          ],
          [
           "Northwest Territories",
           "100.1 - 1 000 ha"
          ],
          [
           "Northwest Territories",
           "100.1 - 1 000 ha"
          ],
          [
           "Northwest Territories",
           "100.1 - 1 000 ha"
          ],
          [
           "Northwest Territories",
           "100.1 - 1 000 ha"
          ],
          [
           "Nova Scotia",
           "100.1 - 1 000 ha"
          ],
          [
           "Nova Scotia",
           "100.1 - 1 000 ha"
          ],
          [
           "Nova Scotia",
           "100.1 - 1 000 ha"
          ],
          [
           "Nova Scotia",
           "100.1 - 1 000 ha"
          ],
          [
           "Nova Scotia",
           "100.1 - 1 000 ha"
          ],
          [
           "Nova Scotia",
           "100.1 - 1 000 ha"
          ],
          [
           "Nova Scotia",
           "100.1 - 1 000 ha"
          ],
          [
           "Nova Scotia",
           "100.1 - 1 000 ha"
          ],
          [
           "Nova Scotia",
           "100.1 - 1 000 ha"
          ],
          [
           "Nova Scotia",
           "100.1 - 1 000 ha"
          ],
          [
           "Nova Scotia",
           "100.1 - 1 000 ha"
          ],
          [
           "Nova Scotia",
           "100.1 - 1 000 ha"
          ],
          [
           "Nova Scotia",
           "100.1 - 1 000 ha"
          ],
          [
           "Nova Scotia",
           "100.1 - 1 000 ha"
          ],
          [
           "Nova Scotia",
           "100.1 - 1 000 ha"
          ],
          [
           "Nova Scotia",
           "100.1 - 1 000 ha"
          ],
          [
           "Nova Scotia",
           "100.1 - 1 000 ha"
          ],
          [
           "Nova Scotia",
           "100.1 - 1 000 ha"
          ],
          [
           "Nova Scotia",
           "100.1 - 1 000 ha"
          ],
          [
           "Nova Scotia",
           "100.1 - 1 000 ha"
          ],
          [
           "Nova Scotia",
           "100.1 - 1 000 ha"
          ],
          [
           "Nova Scotia",
           "100.1 - 1 000 ha"
          ],
          [
           "Nova Scotia",
           "100.1 - 1 000 ha"
          ],
          [
           "Nova Scotia",
           "100.1 - 1 000 ha"
          ],
          [
           "Nova Scotia",
           "100.1 - 1 000 ha"
          ],
          [
           "Nova Scotia",
           "100.1 - 1 000 ha"
          ],
          [
           "Nova Scotia",
           "100.1 - 1 000 ha"
          ],
          [
           "Nova Scotia",
           "100.1 - 1 000 ha"
          ],
          [
           "Nova Scotia",
           "100.1 - 1 000 ha"
          ],
          [
           "Nova Scotia",
           "100.1 - 1 000 ha"
          ],
          [
           "Nova Scotia",
           "100.1 - 1 000 ha"
          ],
          [
           "Nova Scotia",
           "100.1 - 1 000 ha"
          ],
          [
           "Ontario",
           "100.1 - 1 000 ha"
          ],
          [
           "Ontario",
           "100.1 - 1 000 ha"
          ],
          [
           "Ontario",
           "100.1 - 1 000 ha"
          ],
          [
           "Ontario",
           "100.1 - 1 000 ha"
          ],
          [
           "Ontario",
           "100.1 - 1 000 ha"
          ],
          [
           "Ontario",
           "100.1 - 1 000 ha"
          ],
          [
           "Ontario",
           "100.1 - 1 000 ha"
          ],
          [
           "Ontario",
           "100.1 - 1 000 ha"
          ],
          [
           "Ontario",
           "100.1 - 1 000 ha"
          ],
          [
           "Ontario",
           "100.1 - 1 000 ha"
          ],
          [
           "Ontario",
           "100.1 - 1 000 ha"
          ],
          [
           "Ontario",
           "100.1 - 1 000 ha"
          ],
          [
           "Ontario",
           "100.1 - 1 000 ha"
          ],
          [
           "Ontario",
           "100.1 - 1 000 ha"
          ],
          [
           "Ontario",
           "100.1 - 1 000 ha"
          ],
          [
           "Ontario",
           "100.1 - 1 000 ha"
          ],
          [
           "Ontario",
           "100.1 - 1 000 ha"
          ],
          [
           "Ontario",
           "100.1 - 1 000 ha"
          ],
          [
           "Ontario",
           "100.1 - 1 000 ha"
          ],
          [
           "Ontario",
           "100.1 - 1 000 ha"
          ],
          [
           "Ontario",
           "100.1 - 1 000 ha"
          ],
          [
           "Ontario",
           "100.1 - 1 000 ha"
          ],
          [
           "Ontario",
           "100.1 - 1 000 ha"
          ],
          [
           "Ontario",
           "100.1 - 1 000 ha"
          ],
          [
           "Ontario",
           "100.1 - 1 000 ha"
          ],
          [
           "Ontario",
           "100.1 - 1 000 ha"
          ],
          [
           "Ontario",
           "100.1 - 1 000 ha"
          ],
          [
           "Ontario",
           "100.1 - 1 000 ha"
          ],
          [
           "Ontario",
           "100.1 - 1 000 ha"
          ],
          [
           "Ontario",
           "100.1 - 1 000 ha"
          ],
          [
           "Ontario",
           "100.1 - 1 000 ha"
          ],
          [
           "Ontario",
           "100.1 - 1 000 ha"
          ],
          [
           "Prince Edward Island",
           "100.1 - 1 000 ha"
          ],
          [
           "Prince Edward Island",
           "100.1 - 1 000 ha"
          ],
          [
           "Prince Edward Island",
           "100.1 - 1 000 ha"
          ],
          [
           "Prince Edward Island",
           "100.1 - 1 000 ha"
          ],
          [
           "Prince Edward Island",
           "100.1 - 1 000 ha"
          ],
          [
           "Prince Edward Island",
           "100.1 - 1 000 ha"
          ],
          [
           "Prince Edward Island",
           "100.1 - 1 000 ha"
          ],
          [
           "Prince Edward Island",
           "100.1 - 1 000 ha"
          ],
          [
           "Prince Edward Island",
           "100.1 - 1 000 ha"
          ],
          [
           "Prince Edward Island",
           "100.1 - 1 000 ha"
          ],
          [
           "Prince Edward Island",
           "100.1 - 1 000 ha"
          ],
          [
           "Prince Edward Island",
           "100.1 - 1 000 ha"
          ],
          [
           "Prince Edward Island",
           "100.1 - 1 000 ha"
          ],
          [
           "Prince Edward Island",
           "100.1 - 1 000 ha"
          ],
          [
           "Prince Edward Island",
           "100.1 - 1 000 ha"
          ],
          [
           "Prince Edward Island",
           "100.1 - 1 000 ha"
          ],
          [
           "Prince Edward Island",
           "100.1 - 1 000 ha"
          ],
          [
           "Prince Edward Island",
           "100.1 - 1 000 ha"
          ],
          [
           "Prince Edward Island",
           "100.1 - 1 000 ha"
          ],
          [
           "Prince Edward Island",
           "100.1 - 1 000 ha"
          ],
          [
           "Prince Edward Island",
           "100.1 - 1 000 ha"
          ],
          [
           "Prince Edward Island",
           "100.1 - 1 000 ha"
          ],
          [
           "Prince Edward Island",
           "100.1 - 1 000 ha"
          ],
          [
           "Prince Edward Island",
           "100.1 - 1 000 ha"
          ],
          [
           "Prince Edward Island",
           "100.1 - 1 000 ha"
          ],
          [
           "Prince Edward Island",
           "100.1 - 1 000 ha"
          ],
          [
           "Prince Edward Island",
           "100.1 - 1 000 ha"
          ],
          [
           "Prince Edward Island",
           "100.1 - 1 000 ha"
          ],
          [
           "Prince Edward Island",
           "100.1 - 1 000 ha"
          ],
          [
           "Prince Edward Island",
           "100.1 - 1 000 ha"
          ],
          [
           "Prince Edward Island",
           "100.1 - 1 000 ha"
          ],
          [
           "Prince Edward Island",
           "100.1 - 1 000 ha"
          ],
          [
           "Quebec",
           "100.1 - 1 000 ha"
          ],
          [
           "Quebec",
           "100.1 - 1 000 ha"
          ],
          [
           "Quebec",
           "100.1 - 1 000 ha"
          ],
          [
           "Quebec",
           "100.1 - 1 000 ha"
          ],
          [
           "Quebec",
           "100.1 - 1 000 ha"
          ],
          [
           "Quebec",
           "100.1 - 1 000 ha"
          ],
          [
           "Quebec",
           "100.1 - 1 000 ha"
          ],
          [
           "Quebec",
           "100.1 - 1 000 ha"
          ],
          [
           "Quebec",
           "100.1 - 1 000 ha"
          ],
          [
           "Quebec",
           "100.1 - 1 000 ha"
          ],
          [
           "Quebec",
           "100.1 - 1 000 ha"
          ],
          [
           "Quebec",
           "100.1 - 1 000 ha"
          ],
          [
           "Quebec",
           "100.1 - 1 000 ha"
          ],
          [
           "Quebec",
           "100.1 - 1 000 ha"
          ],
          [
           "Quebec",
           "100.1 - 1 000 ha"
          ],
          [
           "Quebec",
           "100.1 - 1 000 ha"
          ],
          [
           "Quebec",
           "100.1 - 1 000 ha"
          ],
          [
           "Quebec",
           "100.1 - 1 000 ha"
          ],
          [
           "Quebec",
           "100.1 - 1 000 ha"
          ],
          [
           "Quebec",
           "100.1 - 1 000 ha"
          ],
          [
           "Quebec",
           "100.1 - 1 000 ha"
          ],
          [
           "Quebec",
           "100.1 - 1 000 ha"
          ],
          [
           "Quebec",
           "100.1 - 1 000 ha"
          ],
          [
           "Quebec",
           "100.1 - 1 000 ha"
          ],
          [
           "Quebec",
           "100.1 - 1 000 ha"
          ],
          [
           "Quebec",
           "100.1 - 1 000 ha"
          ],
          [
           "Quebec",
           "100.1 - 1 000 ha"
          ],
          [
           "Quebec",
           "100.1 - 1 000 ha"
          ],
          [
           "Quebec",
           "100.1 - 1 000 ha"
          ],
          [
           "Quebec",
           "100.1 - 1 000 ha"
          ],
          [
           "Quebec",
           "100.1 - 1 000 ha"
          ],
          [
           "Quebec",
           "100.1 - 1 000 ha"
          ],
          [
           "Saskatchewan",
           "100.1 - 1 000 ha"
          ],
          [
           "Saskatchewan",
           "100.1 - 1 000 ha"
          ],
          [
           "Saskatchewan",
           "100.1 - 1 000 ha"
          ],
          [
           "Saskatchewan",
           "100.1 - 1 000 ha"
          ],
          [
           "Saskatchewan",
           "100.1 - 1 000 ha"
          ],
          [
           "Saskatchewan",
           "100.1 - 1 000 ha"
          ],
          [
           "Saskatchewan",
           "100.1 - 1 000 ha"
          ],
          [
           "Saskatchewan",
           "100.1 - 1 000 ha"
          ],
          [
           "Saskatchewan",
           "100.1 - 1 000 ha"
          ],
          [
           "Saskatchewan",
           "100.1 - 1 000 ha"
          ],
          [
           "Saskatchewan",
           "100.1 - 1 000 ha"
          ],
          [
           "Saskatchewan",
           "100.1 - 1 000 ha"
          ],
          [
           "Saskatchewan",
           "100.1 - 1 000 ha"
          ],
          [
           "Saskatchewan",
           "100.1 - 1 000 ha"
          ],
          [
           "Saskatchewan",
           "100.1 - 1 000 ha"
          ],
          [
           "Saskatchewan",
           "100.1 - 1 000 ha"
          ],
          [
           "Saskatchewan",
           "100.1 - 1 000 ha"
          ],
          [
           "Saskatchewan",
           "100.1 - 1 000 ha"
          ],
          [
           "Saskatchewan",
           "100.1 - 1 000 ha"
          ],
          [
           "Saskatchewan",
           "100.1 - 1 000 ha"
          ],
          [
           "Saskatchewan",
           "100.1 - 1 000 ha"
          ],
          [
           "Saskatchewan",
           "100.1 - 1 000 ha"
          ],
          [
           "Saskatchewan",
           "100.1 - 1 000 ha"
          ],
          [
           "Saskatchewan",
           "100.1 - 1 000 ha"
          ],
          [
           "Saskatchewan",
           "100.1 - 1 000 ha"
          ],
          [
           "Saskatchewan",
           "100.1 - 1 000 ha"
          ],
          [
           "Saskatchewan",
           "100.1 - 1 000 ha"
          ],
          [
           "Saskatchewan",
           "100.1 - 1 000 ha"
          ],
          [
           "Saskatchewan",
           "100.1 - 1 000 ha"
          ],
          [
           "Saskatchewan",
           "100.1 - 1 000 ha"
          ],
          [
           "Saskatchewan",
           "100.1 - 1 000 ha"
          ],
          [
           "Saskatchewan",
           "100.1 - 1 000 ha"
          ],
          [
           "Yukon",
           "100.1 - 1 000 ha"
          ],
          [
           "Yukon",
           "100.1 - 1 000 ha"
          ],
          [
           "Yukon",
           "100.1 - 1 000 ha"
          ],
          [
           "Yukon",
           "100.1 - 1 000 ha"
          ],
          [
           "Yukon",
           "100.1 - 1 000 ha"
          ],
          [
           "Yukon",
           "100.1 - 1 000 ha"
          ],
          [
           "Yukon",
           "100.1 - 1 000 ha"
          ],
          [
           "Yukon",
           "100.1 - 1 000 ha"
          ],
          [
           "Yukon",
           "100.1 - 1 000 ha"
          ],
          [
           "Yukon",
           "100.1 - 1 000 ha"
          ],
          [
           "Yukon",
           "100.1 - 1 000 ha"
          ],
          [
           "Yukon",
           "100.1 - 1 000 ha"
          ],
          [
           "Yukon",
           "100.1 - 1 000 ha"
          ],
          [
           "Yukon",
           "100.1 - 1 000 ha"
          ],
          [
           "Yukon",
           "100.1 - 1 000 ha"
          ],
          [
           "Yukon",
           "100.1 - 1 000 ha"
          ],
          [
           "Yukon",
           "100.1 - 1 000 ha"
          ],
          [
           "Yukon",
           "100.1 - 1 000 ha"
          ],
          [
           "Yukon",
           "100.1 - 1 000 ha"
          ],
          [
           "Yukon",
           "100.1 - 1 000 ha"
          ],
          [
           "Yukon",
           "100.1 - 1 000 ha"
          ],
          [
           "Yukon",
           "100.1 - 1 000 ha"
          ],
          [
           "Yukon",
           "100.1 - 1 000 ha"
          ],
          [
           "Yukon",
           "100.1 - 1 000 ha"
          ],
          [
           "Yukon",
           "100.1 - 1 000 ha"
          ],
          [
           "Yukon",
           "100.1 - 1 000 ha"
          ],
          [
           "Yukon",
           "100.1 - 1 000 ha"
          ],
          [
           "Yukon",
           "100.1 - 1 000 ha"
          ],
          [
           "Yukon",
           "100.1 - 1 000 ha"
          ],
          [
           "Yukon",
           "100.1 - 1 000 ha"
          ],
          [
           "Yukon",
           "100.1 - 1 000 ha"
          ],
          [
           "Yukon",
           "100.1 - 1 000 ha"
          ]
         ],
         "hovertemplate": "Fire size class=%{customdata[1]}<br>Year=%{x}<br>MaxValue=%{y}<br>Jurisdiction=%{customdata[0]}<extra></extra>",
         "legendgroup": "100.1 - 1 000 ha",
         "marker": {
          "color": "#ab63fa",
          "symbol": "circle"
         },
         "mode": "markers",
         "name": "100.1 - 1 000 ha",
         "showlegend": true,
         "type": "scattergl",
         "x": [
          1990,
          1991,
          1992,
          1993,
          1994,
          1995,
          1996,
          1997,
          1998,
          1999,
          2000,
          2001,
          2002,
          2003,
          2004,
          2005,
          2006,
          2007,
          2008,
          2009,
          2010,
          2011,
          2012,
          2013,
          2014,
          2015,
          2016,
          2017,
          2018,
          2019,
          2020,
          2021,
          1990,
          1991,
          1992,
          1993,
          1994,
          1995,
          1996,
          1997,
          1998,
          1999,
          2000,
          2001,
          2002,
          2003,
          2004,
          2005,
          2006,
          2007,
          2008,
          2009,
          2010,
          2011,
          2012,
          2013,
          2014,
          2015,
          2016,
          2017,
          2018,
          2019,
          2020,
          2021,
          1990,
          1991,
          1992,
          1993,
          1994,
          1995,
          1996,
          1997,
          1998,
          1999,
          2000,
          2001,
          2002,
          2003,
          2004,
          2005,
          2006,
          2007,
          2008,
          2009,
          2010,
          2011,
          2012,
          2013,
          2014,
          2015,
          2016,
          2017,
          2018,
          2019,
          2020,
          2021,
          1990,
          1991,
          1992,
          1993,
          1994,
          1995,
          1996,
          1997,
          1998,
          1999,
          2000,
          2001,
          2002,
          2003,
          2004,
          2005,
          2006,
          2007,
          2008,
          2009,
          2010,
          2011,
          2012,
          2013,
          2014,
          2015,
          2016,
          2017,
          2018,
          2019,
          2020,
          2021,
          1990,
          1991,
          1992,
          1993,
          1994,
          1995,
          1996,
          1997,
          1998,
          1999,
          2000,
          2001,
          2002,
          2003,
          2004,
          2005,
          2006,
          2007,
          2008,
          2009,
          2010,
          2011,
          2012,
          2013,
          2014,
          2015,
          2016,
          2017,
          2018,
          2019,
          2020,
          2021,
          1990,
          1991,
          1992,
          1993,
          1994,
          1995,
          1996,
          1997,
          1998,
          1999,
          2000,
          2001,
          2002,
          2003,
          2004,
          2005,
          2006,
          2007,
          2008,
          2009,
          2010,
          2011,
          2012,
          2013,
          2014,
          2015,
          2016,
          2017,
          2018,
          2019,
          2020,
          2021,
          1990,
          1991,
          1992,
          1993,
          1994,
          1995,
          1996,
          1997,
          1998,
          1999,
          2000,
          2001,
          2002,
          2003,
          2004,
          2005,
          2006,
          2007,
          2008,
          2009,
          2010,
          2011,
          2012,
          2013,
          2014,
          2015,
          2016,
          2017,
          2018,
          2019,
          2020,
          2021,
          1990,
          1991,
          1992,
          1993,
          1994,
          1995,
          1996,
          1997,
          1998,
          1999,
          2000,
          2001,
          2002,
          2003,
          2004,
          2005,
          2006,
          2007,
          2008,
          2009,
          2010,
          2011,
          2012,
          2013,
          2014,
          2015,
          2016,
          2017,
          2018,
          2019,
          2020,
          2021,
          1990,
          1991,
          1992,
          1993,
          1994,
          1995,
          1996,
          1997,
          1998,
          1999,
          2000,
          2001,
          2002,
          2003,
          2004,
          2005,
          2006,
          2007,
          2008,
          2009,
          2010,
          2011,
          2012,
          2013,
          2014,
          2015,
          2016,
          2017,
          2018,
          2019,
          2020,
          2021,
          1990,
          1991,
          1992,
          1993,
          1994,
          1995,
          1996,
          1997,
          1998,
          1999,
          2000,
          2001,
          2002,
          2003,
          2004,
          2005,
          2006,
          2007,
          2008,
          2009,
          2010,
          2011,
          2012,
          2013,
          2014,
          2015,
          2016,
          2017,
          2018,
          2019,
          2020,
          2021,
          1990,
          1991,
          1992,
          1993,
          1994,
          1995,
          1996,
          1997,
          1998,
          1999,
          2000,
          2001,
          2002,
          2003,
          2004,
          2005,
          2006,
          2007,
          2008,
          2009,
          2010,
          2011,
          2012,
          2013,
          2014,
          2015,
          2016,
          2017,
          2018,
          2019,
          2020,
          2021,
          1990,
          1991,
          1992,
          1993,
          1994,
          1995,
          1996,
          1997,
          1998,
          1999,
          2000,
          2001,
          2002,
          2003,
          2004,
          2005,
          2006,
          2007,
          2008,
          2009,
          2010,
          2011,
          2012,
          2013,
          2014,
          2015,
          2016,
          2017,
          2018,
          2019,
          2020,
          2021
         ],
         "xaxis": "x",
         "y": [
          8179,
          2911,
          1731,
          6413,
          6407,
          3271,
          1207,
          1147,
          21282,
          13605,
          7111,
          9035,
          4464,
          5909,
          13406,
          5703,
          10655,
          4495,
          6638,
          7335,
          5544,
          7900,
          7758,
          6435,
          3007,
          23604,
          5910,
          7966,
          4050,
          9659,
          648,
          null,
          12493,
          8031,
          7854,
          1972,
          7265,
          2407,
          4771,
          779,
          13907,
          4232,
          4255,
          3864,
          2364,
          21860,
          17072,
          5499,
          19551,
          5416,
          3630,
          29299,
          14181,
          1042,
          8521,
          4465,
          10125,
          17505,
          8774,
          14906,
          49613,
          3859,
          1073,
          null,
          5433,
          12449,
          5560,
          5146,
          16234,
          11844,
          9318,
          8235,
          9119,
          14207,
          8569,
          12526,
          12205,
          22722,
          8853,
          9423,
          8874,
          9031,
          6095,
          2155,
          14238,
          4936,
          17082,
          16271,
          5903,
          14975,
          7380,
          26122,
          14611,
          9986,
          5164,
          null,
          null,
          335,
          1181,
          318,
          227,
          null,
          1520,
          null,
          136,
          672,
          125,
          null,
          null,
          null,
          null,
          null,
          146,
          150,
          null,
          null,
          null,
          null,
          null,
          366,
          null,
          null,
          null,
          415,
          null,
          null,
          838,
          null,
          4839,
          3923,
          1635,
          2725,
          2039,
          400,
          4179,
          399,
          1741,
          3805,
          3396,
          625,
          575,
          2593,
          2069,
          576,
          559,
          469,
          null,
          null,
          957,
          324,
          5829,
          null,
          null,
          682,
          889,
          609,
          153,
          156,
          1105,
          null,
          4155,
          11075,
          9404,
          12673,
          16577,
          6548,
          25542,
          4190,
          15436,
          6859,
          7733,
          1653,
          3985,
          7068,
          14388,
          10123,
          7965,
          11162,
          11278,
          2364,
          15629,
          9735,
          25568,
          18944,
          34690,
          23444,
          12347,
          25135,
          3816,
          8938,
          6743,
          null,
          528,
          683,
          787,
          null,
          null,
          null,
          158,
          158,
          null,
          1382,
          367,
          null,
          null,
          898,
          null,
          130,
          1574,
          null,
          280,
          681,
          null,
          null,
          null,
          null,
          201,
          123,
          275,
          440,
          null,
          null,
          396,
          null,
          16031,
          13294,
          4966,
          3162,
          8463,
          26114,
          26816,
          4380,
          20676,
          9792,
          2238,
          3908,
          16324,
          13055,
          null,
          4231,
          23119,
          6120,
          990,
          8019,
          3558,
          14184,
          15018,
          8529,
          2689,
          7088,
          3159,
          12637,
          15562,
          4904,
          4235,
          null,
          null,
          null,
          null,
          null,
          null,
          null,
          null,
          null,
          null,
          null,
          null,
          null,
          null,
          null,
          null,
          null,
          null,
          null,
          null,
          null,
          null,
          null,
          null,
          null,
          null,
          null,
          null,
          null,
          null,
          null,
          null,
          null,
          8173,
          7549,
          4108,
          980,
          5659,
          14679,
          28988,
          6843,
          9697,
          3142,
          2877,
          2073,
          13445,
          9933,
          2613,
          15541,
          9640,
          16921,
          994,
          5265,
          5982,
          4287,
          5639,
          4769,
          3356,
          3620,
          12442,
          3362,
          5971,
          1877,
          2555,
          null,
          8686,
          8201,
          6956,
          10646,
          6938,
          11669,
          4258,
          2304,
          21399,
          6900,
          4795,
          12173,
          20601,
          10879,
          13653,
          11875,
          20856,
          4696,
          10677,
          9079,
          17355,
          3961,
          7607,
          7755,
          10892,
          28402,
          8751,
          14374,
          8592,
          3456,
          1670,
          null,
          5125,
          10602,
          2624,
          5934,
          9550,
          5777,
          7353,
          1064,
          4104,
          7153,
          2181,
          800,
          1494,
          3468,
          12424,
          1390,
          3737,
          5796,
          3065,
          7881,
          3535,
          1538,
          10008,
          11988,
          1083,
          12929,
          392,
          6544,
          4856,
          7390,
          400,
          null
         ],
         "yaxis": "y"
        },
        {
         "customdata": [
          [
           "Alberta",
           "Up to 0.1 ha"
          ],
          [
           "Alberta",
           "Up to 0.1 ha"
          ],
          [
           "Alberta",
           "Up to 0.1 ha"
          ],
          [
           "Alberta",
           "Up to 0.1 ha"
          ],
          [
           "Alberta",
           "Up to 0.1 ha"
          ],
          [
           "Alberta",
           "Up to 0.1 ha"
          ],
          [
           "Alberta",
           "Up to 0.1 ha"
          ],
          [
           "Alberta",
           "Up to 0.1 ha"
          ],
          [
           "Alberta",
           "Up to 0.1 ha"
          ],
          [
           "Alberta",
           "Up to 0.1 ha"
          ],
          [
           "Alberta",
           "Up to 0.1 ha"
          ],
          [
           "Alberta",
           "Up to 0.1 ha"
          ],
          [
           "Alberta",
           "Up to 0.1 ha"
          ],
          [
           "Alberta",
           "Up to 0.1 ha"
          ],
          [
           "Alberta",
           "Up to 0.1 ha"
          ],
          [
           "Alberta",
           "Up to 0.1 ha"
          ],
          [
           "Alberta",
           "Up to 0.1 ha"
          ],
          [
           "Alberta",
           "Up to 0.1 ha"
          ],
          [
           "Alberta",
           "Up to 0.1 ha"
          ],
          [
           "Alberta",
           "Up to 0.1 ha"
          ],
          [
           "Alberta",
           "Up to 0.1 ha"
          ],
          [
           "Alberta",
           "Up to 0.1 ha"
          ],
          [
           "Alberta",
           "Up to 0.1 ha"
          ],
          [
           "Alberta",
           "Up to 0.1 ha"
          ],
          [
           "Alberta",
           "Up to 0.1 ha"
          ],
          [
           "Alberta",
           "Up to 0.1 ha"
          ],
          [
           "Alberta",
           "Up to 0.1 ha"
          ],
          [
           "Alberta",
           "Up to 0.1 ha"
          ],
          [
           "Alberta",
           "Up to 0.1 ha"
          ],
          [
           "Alberta",
           "Up to 0.1 ha"
          ],
          [
           "Alberta",
           "Up to 0.1 ha"
          ],
          [
           "Alberta",
           "Up to 0.1 ha"
          ],
          [
           "British Columbia",
           "Up to 0.1 ha"
          ],
          [
           "British Columbia",
           "Up to 0.1 ha"
          ],
          [
           "British Columbia",
           "Up to 0.1 ha"
          ],
          [
           "British Columbia",
           "Up to 0.1 ha"
          ],
          [
           "British Columbia",
           "Up to 0.1 ha"
          ],
          [
           "British Columbia",
           "Up to 0.1 ha"
          ],
          [
           "British Columbia",
           "Up to 0.1 ha"
          ],
          [
           "British Columbia",
           "Up to 0.1 ha"
          ],
          [
           "British Columbia",
           "Up to 0.1 ha"
          ],
          [
           "British Columbia",
           "Up to 0.1 ha"
          ],
          [
           "British Columbia",
           "Up to 0.1 ha"
          ],
          [
           "British Columbia",
           "Up to 0.1 ha"
          ],
          [
           "British Columbia",
           "Up to 0.1 ha"
          ],
          [
           "British Columbia",
           "Up to 0.1 ha"
          ],
          [
           "British Columbia",
           "Up to 0.1 ha"
          ],
          [
           "British Columbia",
           "Up to 0.1 ha"
          ],
          [
           "British Columbia",
           "Up to 0.1 ha"
          ],
          [
           "British Columbia",
           "Up to 0.1 ha"
          ],
          [
           "British Columbia",
           "Up to 0.1 ha"
          ],
          [
           "British Columbia",
           "Up to 0.1 ha"
          ],
          [
           "British Columbia",
           "Up to 0.1 ha"
          ],
          [
           "British Columbia",
           "Up to 0.1 ha"
          ],
          [
           "British Columbia",
           "Up to 0.1 ha"
          ],
          [
           "British Columbia",
           "Up to 0.1 ha"
          ],
          [
           "British Columbia",
           "Up to 0.1 ha"
          ],
          [
           "British Columbia",
           "Up to 0.1 ha"
          ],
          [
           "British Columbia",
           "Up to 0.1 ha"
          ],
          [
           "British Columbia",
           "Up to 0.1 ha"
          ],
          [
           "British Columbia",
           "Up to 0.1 ha"
          ],
          [
           "British Columbia",
           "Up to 0.1 ha"
          ],
          [
           "British Columbia",
           "Up to 0.1 ha"
          ],
          [
           "British Columbia",
           "Up to 0.1 ha"
          ],
          [
           "Manitoba",
           "Up to 0.1 ha"
          ],
          [
           "Manitoba",
           "Up to 0.1 ha"
          ],
          [
           "Manitoba",
           "Up to 0.1 ha"
          ],
          [
           "Manitoba",
           "Up to 0.1 ha"
          ],
          [
           "Manitoba",
           "Up to 0.1 ha"
          ],
          [
           "Manitoba",
           "Up to 0.1 ha"
          ],
          [
           "Manitoba",
           "Up to 0.1 ha"
          ],
          [
           "Manitoba",
           "Up to 0.1 ha"
          ],
          [
           "Manitoba",
           "Up to 0.1 ha"
          ],
          [
           "Manitoba",
           "Up to 0.1 ha"
          ],
          [
           "Manitoba",
           "Up to 0.1 ha"
          ],
          [
           "Manitoba",
           "Up to 0.1 ha"
          ],
          [
           "Manitoba",
           "Up to 0.1 ha"
          ],
          [
           "Manitoba",
           "Up to 0.1 ha"
          ],
          [
           "Manitoba",
           "Up to 0.1 ha"
          ],
          [
           "Manitoba",
           "Up to 0.1 ha"
          ],
          [
           "Manitoba",
           "Up to 0.1 ha"
          ],
          [
           "Manitoba",
           "Up to 0.1 ha"
          ],
          [
           "Manitoba",
           "Up to 0.1 ha"
          ],
          [
           "Manitoba",
           "Up to 0.1 ha"
          ],
          [
           "Manitoba",
           "Up to 0.1 ha"
          ],
          [
           "Manitoba",
           "Up to 0.1 ha"
          ],
          [
           "Manitoba",
           "Up to 0.1 ha"
          ],
          [
           "Manitoba",
           "Up to 0.1 ha"
          ],
          [
           "Manitoba",
           "Up to 0.1 ha"
          ],
          [
           "Manitoba",
           "Up to 0.1 ha"
          ],
          [
           "Manitoba",
           "Up to 0.1 ha"
          ],
          [
           "Manitoba",
           "Up to 0.1 ha"
          ],
          [
           "Manitoba",
           "Up to 0.1 ha"
          ],
          [
           "Manitoba",
           "Up to 0.1 ha"
          ],
          [
           "Manitoba",
           "Up to 0.1 ha"
          ],
          [
           "Manitoba",
           "Up to 0.1 ha"
          ],
          [
           "New Brunswick",
           "Up to 0.1 ha"
          ],
          [
           "New Brunswick",
           "Up to 0.1 ha"
          ],
          [
           "New Brunswick",
           "Up to 0.1 ha"
          ],
          [
           "New Brunswick",
           "Up to 0.1 ha"
          ],
          [
           "New Brunswick",
           "Up to 0.1 ha"
          ],
          [
           "New Brunswick",
           "Up to 0.1 ha"
          ],
          [
           "New Brunswick",
           "Up to 0.1 ha"
          ],
          [
           "New Brunswick",
           "Up to 0.1 ha"
          ],
          [
           "New Brunswick",
           "Up to 0.1 ha"
          ],
          [
           "New Brunswick",
           "Up to 0.1 ha"
          ],
          [
           "New Brunswick",
           "Up to 0.1 ha"
          ],
          [
           "New Brunswick",
           "Up to 0.1 ha"
          ],
          [
           "New Brunswick",
           "Up to 0.1 ha"
          ],
          [
           "New Brunswick",
           "Up to 0.1 ha"
          ],
          [
           "New Brunswick",
           "Up to 0.1 ha"
          ],
          [
           "New Brunswick",
           "Up to 0.1 ha"
          ],
          [
           "New Brunswick",
           "Up to 0.1 ha"
          ],
          [
           "New Brunswick",
           "Up to 0.1 ha"
          ],
          [
           "New Brunswick",
           "Up to 0.1 ha"
          ],
          [
           "New Brunswick",
           "Up to 0.1 ha"
          ],
          [
           "New Brunswick",
           "Up to 0.1 ha"
          ],
          [
           "New Brunswick",
           "Up to 0.1 ha"
          ],
          [
           "New Brunswick",
           "Up to 0.1 ha"
          ],
          [
           "New Brunswick",
           "Up to 0.1 ha"
          ],
          [
           "New Brunswick",
           "Up to 0.1 ha"
          ],
          [
           "New Brunswick",
           "Up to 0.1 ha"
          ],
          [
           "New Brunswick",
           "Up to 0.1 ha"
          ],
          [
           "New Brunswick",
           "Up to 0.1 ha"
          ],
          [
           "New Brunswick",
           "Up to 0.1 ha"
          ],
          [
           "New Brunswick",
           "Up to 0.1 ha"
          ],
          [
           "New Brunswick",
           "Up to 0.1 ha"
          ],
          [
           "New Brunswick",
           "Up to 0.1 ha"
          ],
          [
           "Newfoundland and Labrador",
           "Up to 0.1 ha"
          ],
          [
           "Newfoundland and Labrador",
           "Up to 0.1 ha"
          ],
          [
           "Newfoundland and Labrador",
           "Up to 0.1 ha"
          ],
          [
           "Newfoundland and Labrador",
           "Up to 0.1 ha"
          ],
          [
           "Newfoundland and Labrador",
           "Up to 0.1 ha"
          ],
          [
           "Newfoundland and Labrador",
           "Up to 0.1 ha"
          ],
          [
           "Newfoundland and Labrador",
           "Up to 0.1 ha"
          ],
          [
           "Newfoundland and Labrador",
           "Up to 0.1 ha"
          ],
          [
           "Newfoundland and Labrador",
           "Up to 0.1 ha"
          ],
          [
           "Newfoundland and Labrador",
           "Up to 0.1 ha"
          ],
          [
           "Newfoundland and Labrador",
           "Up to 0.1 ha"
          ],
          [
           "Newfoundland and Labrador",
           "Up to 0.1 ha"
          ],
          [
           "Newfoundland and Labrador",
           "Up to 0.1 ha"
          ],
          [
           "Newfoundland and Labrador",
           "Up to 0.1 ha"
          ],
          [
           "Newfoundland and Labrador",
           "Up to 0.1 ha"
          ],
          [
           "Newfoundland and Labrador",
           "Up to 0.1 ha"
          ],
          [
           "Newfoundland and Labrador",
           "Up to 0.1 ha"
          ],
          [
           "Newfoundland and Labrador",
           "Up to 0.1 ha"
          ],
          [
           "Newfoundland and Labrador",
           "Up to 0.1 ha"
          ],
          [
           "Newfoundland and Labrador",
           "Up to 0.1 ha"
          ],
          [
           "Newfoundland and Labrador",
           "Up to 0.1 ha"
          ],
          [
           "Newfoundland and Labrador",
           "Up to 0.1 ha"
          ],
          [
           "Newfoundland and Labrador",
           "Up to 0.1 ha"
          ],
          [
           "Newfoundland and Labrador",
           "Up to 0.1 ha"
          ],
          [
           "Newfoundland and Labrador",
           "Up to 0.1 ha"
          ],
          [
           "Newfoundland and Labrador",
           "Up to 0.1 ha"
          ],
          [
           "Newfoundland and Labrador",
           "Up to 0.1 ha"
          ],
          [
           "Newfoundland and Labrador",
           "Up to 0.1 ha"
          ],
          [
           "Newfoundland and Labrador",
           "Up to 0.1 ha"
          ],
          [
           "Newfoundland and Labrador",
           "Up to 0.1 ha"
          ],
          [
           "Newfoundland and Labrador",
           "Up to 0.1 ha"
          ],
          [
           "Newfoundland and Labrador",
           "Up to 0.1 ha"
          ],
          [
           "Northwest Territories",
           "Up to 0.1 ha"
          ],
          [
           "Northwest Territories",
           "Up to 0.1 ha"
          ],
          [
           "Northwest Territories",
           "Up to 0.1 ha"
          ],
          [
           "Northwest Territories",
           "Up to 0.1 ha"
          ],
          [
           "Northwest Territories",
           "Up to 0.1 ha"
          ],
          [
           "Northwest Territories",
           "Up to 0.1 ha"
          ],
          [
           "Northwest Territories",
           "Up to 0.1 ha"
          ],
          [
           "Northwest Territories",
           "Up to 0.1 ha"
          ],
          [
           "Northwest Territories",
           "Up to 0.1 ha"
          ],
          [
           "Northwest Territories",
           "Up to 0.1 ha"
          ],
          [
           "Northwest Territories",
           "Up to 0.1 ha"
          ],
          [
           "Northwest Territories",
           "Up to 0.1 ha"
          ],
          [
           "Northwest Territories",
           "Up to 0.1 ha"
          ],
          [
           "Northwest Territories",
           "Up to 0.1 ha"
          ],
          [
           "Northwest Territories",
           "Up to 0.1 ha"
          ],
          [
           "Northwest Territories",
           "Up to 0.1 ha"
          ],
          [
           "Northwest Territories",
           "Up to 0.1 ha"
          ],
          [
           "Northwest Territories",
           "Up to 0.1 ha"
          ],
          [
           "Northwest Territories",
           "Up to 0.1 ha"
          ],
          [
           "Northwest Territories",
           "Up to 0.1 ha"
          ],
          [
           "Northwest Territories",
           "Up to 0.1 ha"
          ],
          [
           "Northwest Territories",
           "Up to 0.1 ha"
          ],
          [
           "Northwest Territories",
           "Up to 0.1 ha"
          ],
          [
           "Northwest Territories",
           "Up to 0.1 ha"
          ],
          [
           "Northwest Territories",
           "Up to 0.1 ha"
          ],
          [
           "Northwest Territories",
           "Up to 0.1 ha"
          ],
          [
           "Northwest Territories",
           "Up to 0.1 ha"
          ],
          [
           "Northwest Territories",
           "Up to 0.1 ha"
          ],
          [
           "Northwest Territories",
           "Up to 0.1 ha"
          ],
          [
           "Northwest Territories",
           "Up to 0.1 ha"
          ],
          [
           "Northwest Territories",
           "Up to 0.1 ha"
          ],
          [
           "Northwest Territories",
           "Up to 0.1 ha"
          ],
          [
           "Nova Scotia",
           "Up to 0.1 ha"
          ],
          [
           "Nova Scotia",
           "Up to 0.1 ha"
          ],
          [
           "Nova Scotia",
           "Up to 0.1 ha"
          ],
          [
           "Nova Scotia",
           "Up to 0.1 ha"
          ],
          [
           "Nova Scotia",
           "Up to 0.1 ha"
          ],
          [
           "Nova Scotia",
           "Up to 0.1 ha"
          ],
          [
           "Nova Scotia",
           "Up to 0.1 ha"
          ],
          [
           "Nova Scotia",
           "Up to 0.1 ha"
          ],
          [
           "Nova Scotia",
           "Up to 0.1 ha"
          ],
          [
           "Nova Scotia",
           "Up to 0.1 ha"
          ],
          [
           "Nova Scotia",
           "Up to 0.1 ha"
          ],
          [
           "Nova Scotia",
           "Up to 0.1 ha"
          ],
          [
           "Nova Scotia",
           "Up to 0.1 ha"
          ],
          [
           "Nova Scotia",
           "Up to 0.1 ha"
          ],
          [
           "Nova Scotia",
           "Up to 0.1 ha"
          ],
          [
           "Nova Scotia",
           "Up to 0.1 ha"
          ],
          [
           "Nova Scotia",
           "Up to 0.1 ha"
          ],
          [
           "Nova Scotia",
           "Up to 0.1 ha"
          ],
          [
           "Nova Scotia",
           "Up to 0.1 ha"
          ],
          [
           "Nova Scotia",
           "Up to 0.1 ha"
          ],
          [
           "Nova Scotia",
           "Up to 0.1 ha"
          ],
          [
           "Nova Scotia",
           "Up to 0.1 ha"
          ],
          [
           "Nova Scotia",
           "Up to 0.1 ha"
          ],
          [
           "Nova Scotia",
           "Up to 0.1 ha"
          ],
          [
           "Nova Scotia",
           "Up to 0.1 ha"
          ],
          [
           "Nova Scotia",
           "Up to 0.1 ha"
          ],
          [
           "Nova Scotia",
           "Up to 0.1 ha"
          ],
          [
           "Nova Scotia",
           "Up to 0.1 ha"
          ],
          [
           "Nova Scotia",
           "Up to 0.1 ha"
          ],
          [
           "Nova Scotia",
           "Up to 0.1 ha"
          ],
          [
           "Nova Scotia",
           "Up to 0.1 ha"
          ],
          [
           "Nova Scotia",
           "Up to 0.1 ha"
          ],
          [
           "Ontario",
           "Up to 0.1 ha"
          ],
          [
           "Ontario",
           "Up to 0.1 ha"
          ],
          [
           "Ontario",
           "Up to 0.1 ha"
          ],
          [
           "Ontario",
           "Up to 0.1 ha"
          ],
          [
           "Ontario",
           "Up to 0.1 ha"
          ],
          [
           "Ontario",
           "Up to 0.1 ha"
          ],
          [
           "Ontario",
           "Up to 0.1 ha"
          ],
          [
           "Ontario",
           "Up to 0.1 ha"
          ],
          [
           "Ontario",
           "Up to 0.1 ha"
          ],
          [
           "Ontario",
           "Up to 0.1 ha"
          ],
          [
           "Ontario",
           "Up to 0.1 ha"
          ],
          [
           "Ontario",
           "Up to 0.1 ha"
          ],
          [
           "Ontario",
           "Up to 0.1 ha"
          ],
          [
           "Ontario",
           "Up to 0.1 ha"
          ],
          [
           "Ontario",
           "Up to 0.1 ha"
          ],
          [
           "Ontario",
           "Up to 0.1 ha"
          ],
          [
           "Ontario",
           "Up to 0.1 ha"
          ],
          [
           "Ontario",
           "Up to 0.1 ha"
          ],
          [
           "Ontario",
           "Up to 0.1 ha"
          ],
          [
           "Ontario",
           "Up to 0.1 ha"
          ],
          [
           "Ontario",
           "Up to 0.1 ha"
          ],
          [
           "Ontario",
           "Up to 0.1 ha"
          ],
          [
           "Ontario",
           "Up to 0.1 ha"
          ],
          [
           "Ontario",
           "Up to 0.1 ha"
          ],
          [
           "Ontario",
           "Up to 0.1 ha"
          ],
          [
           "Ontario",
           "Up to 0.1 ha"
          ],
          [
           "Ontario",
           "Up to 0.1 ha"
          ],
          [
           "Ontario",
           "Up to 0.1 ha"
          ],
          [
           "Ontario",
           "Up to 0.1 ha"
          ],
          [
           "Ontario",
           "Up to 0.1 ha"
          ],
          [
           "Ontario",
           "Up to 0.1 ha"
          ],
          [
           "Ontario",
           "Up to 0.1 ha"
          ],
          [
           "Prince Edward Island",
           "Up to 0.1 ha"
          ],
          [
           "Prince Edward Island",
           "Up to 0.1 ha"
          ],
          [
           "Prince Edward Island",
           "Up to 0.1 ha"
          ],
          [
           "Prince Edward Island",
           "Up to 0.1 ha"
          ],
          [
           "Prince Edward Island",
           "Up to 0.1 ha"
          ],
          [
           "Prince Edward Island",
           "Up to 0.1 ha"
          ],
          [
           "Prince Edward Island",
           "Up to 0.1 ha"
          ],
          [
           "Prince Edward Island",
           "Up to 0.1 ha"
          ],
          [
           "Prince Edward Island",
           "Up to 0.1 ha"
          ],
          [
           "Prince Edward Island",
           "Up to 0.1 ha"
          ],
          [
           "Prince Edward Island",
           "Up to 0.1 ha"
          ],
          [
           "Prince Edward Island",
           "Up to 0.1 ha"
          ],
          [
           "Prince Edward Island",
           "Up to 0.1 ha"
          ],
          [
           "Prince Edward Island",
           "Up to 0.1 ha"
          ],
          [
           "Prince Edward Island",
           "Up to 0.1 ha"
          ],
          [
           "Prince Edward Island",
           "Up to 0.1 ha"
          ],
          [
           "Prince Edward Island",
           "Up to 0.1 ha"
          ],
          [
           "Prince Edward Island",
           "Up to 0.1 ha"
          ],
          [
           "Prince Edward Island",
           "Up to 0.1 ha"
          ],
          [
           "Prince Edward Island",
           "Up to 0.1 ha"
          ],
          [
           "Prince Edward Island",
           "Up to 0.1 ha"
          ],
          [
           "Prince Edward Island",
           "Up to 0.1 ha"
          ],
          [
           "Prince Edward Island",
           "Up to 0.1 ha"
          ],
          [
           "Prince Edward Island",
           "Up to 0.1 ha"
          ],
          [
           "Prince Edward Island",
           "Up to 0.1 ha"
          ],
          [
           "Prince Edward Island",
           "Up to 0.1 ha"
          ],
          [
           "Prince Edward Island",
           "Up to 0.1 ha"
          ],
          [
           "Prince Edward Island",
           "Up to 0.1 ha"
          ],
          [
           "Prince Edward Island",
           "Up to 0.1 ha"
          ],
          [
           "Prince Edward Island",
           "Up to 0.1 ha"
          ],
          [
           "Prince Edward Island",
           "Up to 0.1 ha"
          ],
          [
           "Prince Edward Island",
           "Up to 0.1 ha"
          ],
          [
           "Quebec",
           "Up to 0.1 ha"
          ],
          [
           "Quebec",
           "Up to 0.1 ha"
          ],
          [
           "Quebec",
           "Up to 0.1 ha"
          ],
          [
           "Quebec",
           "Up to 0.1 ha"
          ],
          [
           "Quebec",
           "Up to 0.1 ha"
          ],
          [
           "Quebec",
           "Up to 0.1 ha"
          ],
          [
           "Quebec",
           "Up to 0.1 ha"
          ],
          [
           "Quebec",
           "Up to 0.1 ha"
          ],
          [
           "Quebec",
           "Up to 0.1 ha"
          ],
          [
           "Quebec",
           "Up to 0.1 ha"
          ],
          [
           "Quebec",
           "Up to 0.1 ha"
          ],
          [
           "Quebec",
           "Up to 0.1 ha"
          ],
          [
           "Quebec",
           "Up to 0.1 ha"
          ],
          [
           "Quebec",
           "Up to 0.1 ha"
          ],
          [
           "Quebec",
           "Up to 0.1 ha"
          ],
          [
           "Quebec",
           "Up to 0.1 ha"
          ],
          [
           "Quebec",
           "Up to 0.1 ha"
          ],
          [
           "Quebec",
           "Up to 0.1 ha"
          ],
          [
           "Quebec",
           "Up to 0.1 ha"
          ],
          [
           "Quebec",
           "Up to 0.1 ha"
          ],
          [
           "Quebec",
           "Up to 0.1 ha"
          ],
          [
           "Quebec",
           "Up to 0.1 ha"
          ],
          [
           "Quebec",
           "Up to 0.1 ha"
          ],
          [
           "Quebec",
           "Up to 0.1 ha"
          ],
          [
           "Quebec",
           "Up to 0.1 ha"
          ],
          [
           "Quebec",
           "Up to 0.1 ha"
          ],
          [
           "Quebec",
           "Up to 0.1 ha"
          ],
          [
           "Quebec",
           "Up to 0.1 ha"
          ],
          [
           "Quebec",
           "Up to 0.1 ha"
          ],
          [
           "Quebec",
           "Up to 0.1 ha"
          ],
          [
           "Quebec",
           "Up to 0.1 ha"
          ],
          [
           "Quebec",
           "Up to 0.1 ha"
          ],
          [
           "Saskatchewan",
           "Up to 0.1 ha"
          ],
          [
           "Saskatchewan",
           "Up to 0.1 ha"
          ],
          [
           "Saskatchewan",
           "Up to 0.1 ha"
          ],
          [
           "Saskatchewan",
           "Up to 0.1 ha"
          ],
          [
           "Saskatchewan",
           "Up to 0.1 ha"
          ],
          [
           "Saskatchewan",
           "Up to 0.1 ha"
          ],
          [
           "Saskatchewan",
           "Up to 0.1 ha"
          ],
          [
           "Saskatchewan",
           "Up to 0.1 ha"
          ],
          [
           "Saskatchewan",
           "Up to 0.1 ha"
          ],
          [
           "Saskatchewan",
           "Up to 0.1 ha"
          ],
          [
           "Saskatchewan",
           "Up to 0.1 ha"
          ],
          [
           "Saskatchewan",
           "Up to 0.1 ha"
          ],
          [
           "Saskatchewan",
           "Up to 0.1 ha"
          ],
          [
           "Saskatchewan",
           "Up to 0.1 ha"
          ],
          [
           "Saskatchewan",
           "Up to 0.1 ha"
          ],
          [
           "Saskatchewan",
           "Up to 0.1 ha"
          ],
          [
           "Saskatchewan",
           "Up to 0.1 ha"
          ],
          [
           "Saskatchewan",
           "Up to 0.1 ha"
          ],
          [
           "Saskatchewan",
           "Up to 0.1 ha"
          ],
          [
           "Saskatchewan",
           "Up to 0.1 ha"
          ],
          [
           "Saskatchewan",
           "Up to 0.1 ha"
          ],
          [
           "Saskatchewan",
           "Up to 0.1 ha"
          ],
          [
           "Saskatchewan",
           "Up to 0.1 ha"
          ],
          [
           "Saskatchewan",
           "Up to 0.1 ha"
          ],
          [
           "Saskatchewan",
           "Up to 0.1 ha"
          ],
          [
           "Saskatchewan",
           "Up to 0.1 ha"
          ],
          [
           "Saskatchewan",
           "Up to 0.1 ha"
          ],
          [
           "Saskatchewan",
           "Up to 0.1 ha"
          ],
          [
           "Saskatchewan",
           "Up to 0.1 ha"
          ],
          [
           "Saskatchewan",
           "Up to 0.1 ha"
          ],
          [
           "Saskatchewan",
           "Up to 0.1 ha"
          ],
          [
           "Saskatchewan",
           "Up to 0.1 ha"
          ],
          [
           "Yukon",
           "Up to 0.1 ha"
          ],
          [
           "Yukon",
           "Up to 0.1 ha"
          ],
          [
           "Yukon",
           "Up to 0.1 ha"
          ],
          [
           "Yukon",
           "Up to 0.1 ha"
          ],
          [
           "Yukon",
           "Up to 0.1 ha"
          ],
          [
           "Yukon",
           "Up to 0.1 ha"
          ],
          [
           "Yukon",
           "Up to 0.1 ha"
          ],
          [
           "Yukon",
           "Up to 0.1 ha"
          ],
          [
           "Yukon",
           "Up to 0.1 ha"
          ],
          [
           "Yukon",
           "Up to 0.1 ha"
          ],
          [
           "Yukon",
           "Up to 0.1 ha"
          ],
          [
           "Yukon",
           "Up to 0.1 ha"
          ],
          [
           "Yukon",
           "Up to 0.1 ha"
          ],
          [
           "Yukon",
           "Up to 0.1 ha"
          ],
          [
           "Yukon",
           "Up to 0.1 ha"
          ],
          [
           "Yukon",
           "Up to 0.1 ha"
          ],
          [
           "Yukon",
           "Up to 0.1 ha"
          ],
          [
           "Yukon",
           "Up to 0.1 ha"
          ],
          [
           "Yukon",
           "Up to 0.1 ha"
          ],
          [
           "Yukon",
           "Up to 0.1 ha"
          ],
          [
           "Yukon",
           "Up to 0.1 ha"
          ],
          [
           "Yukon",
           "Up to 0.1 ha"
          ],
          [
           "Yukon",
           "Up to 0.1 ha"
          ],
          [
           "Yukon",
           "Up to 0.1 ha"
          ],
          [
           "Yukon",
           "Up to 0.1 ha"
          ],
          [
           "Yukon",
           "Up to 0.1 ha"
          ],
          [
           "Yukon",
           "Up to 0.1 ha"
          ],
          [
           "Yukon",
           "Up to 0.1 ha"
          ],
          [
           "Yukon",
           "Up to 0.1 ha"
          ],
          [
           "Yukon",
           "Up to 0.1 ha"
          ],
          [
           "Yukon",
           "Up to 0.1 ha"
          ],
          [
           "Yukon",
           "Up to 0.1 ha"
          ]
         ],
         "hovertemplate": "Fire size class=%{customdata[1]}<br>Year=%{x}<br>MaxValue=%{y}<br>Jurisdiction=%{customdata[0]}<extra></extra>",
         "legendgroup": "Up to 0.1 ha",
         "marker": {
          "color": "#FFA15A",
          "symbol": "circle"
         },
         "mode": "markers",
         "name": "Up to 0.1 ha",
         "showlegend": true,
         "type": "scattergl",
         "x": [
          1990,
          1991,
          1992,
          1993,
          1994,
          1995,
          1996,
          1997,
          1998,
          1999,
          2000,
          2001,
          2002,
          2003,
          2004,
          2005,
          2006,
          2007,
          2008,
          2009,
          2010,
          2011,
          2012,
          2013,
          2014,
          2015,
          2016,
          2017,
          2018,
          2019,
          2020,
          2021,
          1990,
          1991,
          1992,
          1993,
          1994,
          1995,
          1996,
          1997,
          1998,
          1999,
          2000,
          2001,
          2002,
          2003,
          2004,
          2005,
          2006,
          2007,
          2008,
          2009,
          2010,
          2011,
          2012,
          2013,
          2014,
          2015,
          2016,
          2017,
          2018,
          2019,
          2020,
          2021,
          1990,
          1991,
          1992,
          1993,
          1994,
          1995,
          1996,
          1997,
          1998,
          1999,
          2000,
          2001,
          2002,
          2003,
          2004,
          2005,
          2006,
          2007,
          2008,
          2009,
          2010,
          2011,
          2012,
          2013,
          2014,
          2015,
          2016,
          2017,
          2018,
          2019,
          2020,
          2021,
          1990,
          1991,
          1992,
          1993,
          1994,
          1995,
          1996,
          1997,
          1998,
          1999,
          2000,
          2001,
          2002,
          2003,
          2004,
          2005,
          2006,
          2007,
          2008,
          2009,
          2010,
          2011,
          2012,
          2013,
          2014,
          2015,
          2016,
          2017,
          2018,
          2019,
          2020,
          2021,
          1990,
          1991,
          1992,
          1993,
          1994,
          1995,
          1996,
          1997,
          1998,
          1999,
          2000,
          2001,
          2002,
          2003,
          2004,
          2005,
          2006,
          2007,
          2008,
          2009,
          2010,
          2011,
          2012,
          2013,
          2014,
          2015,
          2016,
          2017,
          2018,
          2019,
          2020,
          2021,
          1990,
          1991,
          1992,
          1993,
          1994,
          1995,
          1996,
          1997,
          1998,
          1999,
          2000,
          2001,
          2002,
          2003,
          2004,
          2005,
          2006,
          2007,
          2008,
          2009,
          2010,
          2011,
          2012,
          2013,
          2014,
          2015,
          2016,
          2017,
          2018,
          2019,
          2020,
          2021,
          1990,
          1991,
          1992,
          1993,
          1994,
          1995,
          1996,
          1997,
          1998,
          1999,
          2000,
          2001,
          2002,
          2003,
          2004,
          2005,
          2006,
          2007,
          2008,
          2009,
          2010,
          2011,
          2012,
          2013,
          2014,
          2015,
          2016,
          2017,
          2018,
          2019,
          2020,
          2021,
          1990,
          1991,
          1992,
          1993,
          1994,
          1995,
          1996,
          1997,
          1998,
          1999,
          2000,
          2001,
          2002,
          2003,
          2004,
          2005,
          2006,
          2007,
          2008,
          2009,
          2010,
          2011,
          2012,
          2013,
          2014,
          2015,
          2016,
          2017,
          2018,
          2019,
          2020,
          2021,
          1990,
          1991,
          1992,
          1993,
          1994,
          1995,
          1996,
          1997,
          1998,
          1999,
          2000,
          2001,
          2002,
          2003,
          2004,
          2005,
          2006,
          2007,
          2008,
          2009,
          2010,
          2011,
          2012,
          2013,
          2014,
          2015,
          2016,
          2017,
          2018,
          2019,
          2020,
          2021,
          1990,
          1991,
          1992,
          1993,
          1994,
          1995,
          1996,
          1997,
          1998,
          1999,
          2000,
          2001,
          2002,
          2003,
          2004,
          2005,
          2006,
          2007,
          2008,
          2009,
          2010,
          2011,
          2012,
          2013,
          2014,
          2015,
          2016,
          2017,
          2018,
          2019,
          2020,
          2021,
          1990,
          1991,
          1992,
          1993,
          1994,
          1995,
          1996,
          1997,
          1998,
          1999,
          2000,
          2001,
          2002,
          2003,
          2004,
          2005,
          2006,
          2007,
          2008,
          2009,
          2010,
          2011,
          2012,
          2013,
          2014,
          2015,
          2016,
          2017,
          2018,
          2019,
          2020,
          2021,
          1990,
          1991,
          1992,
          1993,
          1994,
          1995,
          1996,
          1997,
          1998,
          1999,
          2000,
          2001,
          2002,
          2003,
          2004,
          2005,
          2006,
          2007,
          2008,
          2009,
          2010,
          2011,
          2012,
          2013,
          2014,
          2015,
          2016,
          2017,
          2018,
          2019,
          2020,
          2021
         ],
         "xaxis": "x",
         "y": [
          74,
          47,
          63,
          35,
          22,
          17,
          9,
          10,
          44,
          27,
          14,
          20,
          33,
          25,
          29,
          23,
          35,
          23,
          35,
          33,
          37,
          20,
          28,
          20,
          27,
          36,
          27,
          25,
          28,
          20,
          15,
          null,
          143,
          81,
          154,
          57,
          176,
          51,
          47,
          41,
          100,
          40,
          44,
          28,
          32,
          45,
          36,
          18,
          44,
          33,
          34,
          48,
          23,
          9,
          22,
          26,
          20,
          26,
          16,
          19,
          25,
          11,
          10,
          null,
          17,
          18,
          6,
          6,
          9,
          14,
          8,
          6,
          10,
          13,
          null,
          0,
          null,
          null,
          null,
          6,
          26,
          11,
          10,
          5,
          17,
          11,
          12,
          13,
          7,
          11,
          5,
          14,
          12,
          5,
          3,
          null,
          13,
          20,
          17,
          15,
          20,
          29,
          17,
          19,
          15,
          33,
          17,
          22,
          16,
          10,
          9,
          12,
          13,
          13,
          9,
          9,
          9,
          3,
          14,
          12,
          8,
          9,
          15,
          16,
          17,
          10,
          27,
          null,
          2,
          1,
          1,
          1,
          1,
          1,
          2,
          0,
          2,
          3,
          2,
          2,
          1,
          1,
          2,
          2,
          1,
          1,
          1,
          2,
          0,
          0,
          1,
          1,
          null,
          1,
          1,
          2,
          4,
          2,
          1,
          null,
          4,
          4,
          3,
          6,
          8,
          3,
          2,
          1,
          2,
          1,
          2,
          1,
          1,
          1,
          3,
          2,
          2,
          1,
          1,
          1,
          1,
          1,
          2,
          1,
          2,
          1,
          1,
          1,
          0,
          1,
          0,
          null,
          12,
          14,
          7,
          6,
          4,
          8,
          3,
          8,
          7,
          10,
          6,
          10,
          7,
          5,
          6,
          null,
          0,
          null,
          0,
          null,
          3,
          2,
          7,
          3,
          4,
          6,
          8,
          1,
          1,
          4,
          3,
          null,
          null,
          null,
          null,
          null,
          null,
          null,
          null,
          null,
          null,
          null,
          null,
          0,
          null,
          0,
          null,
          1,
          0,
          0,
          0,
          null,
          null,
          null,
          0,
          null,
          null,
          0,
          0,
          null,
          0,
          0,
          25,
          null,
          1,
          1,
          1,
          null,
          1,
          1,
          null,
          null,
          null,
          null,
          null,
          1,
          null,
          null,
          null,
          null,
          1,
          0,
          null,
          null,
          null,
          null,
          1,
          1,
          1,
          null,
          null,
          null,
          0,
          0,
          null,
          null,
          10,
          16,
          9,
          7,
          4,
          12,
          10,
          9,
          12,
          14,
          7,
          13,
          11,
          10,
          5,
          15,
          9,
          11,
          3,
          6,
          8,
          5,
          13,
          8,
          3,
          8,
          11,
          4,
          10,
          5,
          11,
          null,
          18,
          13,
          12,
          9,
          11,
          8,
          9,
          9,
          24,
          12,
          5,
          13,
          11,
          9,
          3,
          4,
          6,
          5,
          8,
          7,
          6,
          3,
          11,
          15,
          12,
          21,
          11,
          14,
          10,
          8,
          7,
          null,
          2,
          2,
          1,
          2,
          3,
          2,
          2,
          2,
          3,
          1,
          1,
          1,
          1,
          1,
          3,
          2,
          1,
          1,
          1,
          2,
          1,
          1,
          1,
          2,
          1,
          2,
          1,
          1,
          1,
          1,
          0,
          null
         ],
         "yaxis": "y"
        },
        {
         "customdata": [
          [
           "Alberta",
           "10 000.1 - 100 000 ha"
          ],
          [
           "Alberta",
           "10 000.1 - 100 000 ha"
          ],
          [
           "Alberta",
           "10 000.1 - 100 000 ha"
          ],
          [
           "Alberta",
           "10 000.1 - 100 000 ha"
          ],
          [
           "Alberta",
           "10 000.1 - 100 000 ha"
          ],
          [
           "Alberta",
           "10 000.1 - 100 000 ha"
          ],
          [
           "Alberta",
           "10 000.1 - 100 000 ha"
          ],
          [
           "Alberta",
           "10 000.1 - 100 000 ha"
          ],
          [
           "Alberta",
           "10 000.1 - 100 000 ha"
          ],
          [
           "Alberta",
           "10 000.1 - 100 000 ha"
          ],
          [
           "Alberta",
           "10 000.1 - 100 000 ha"
          ],
          [
           "Alberta",
           "10 000.1 - 100 000 ha"
          ],
          [
           "Alberta",
           "10 000.1 - 100 000 ha"
          ],
          [
           "Alberta",
           "10 000.1 - 100 000 ha"
          ],
          [
           "Alberta",
           "10 000.1 - 100 000 ha"
          ],
          [
           "Alberta",
           "10 000.1 - 100 000 ha"
          ],
          [
           "Alberta",
           "10 000.1 - 100 000 ha"
          ],
          [
           "Alberta",
           "10 000.1 - 100 000 ha"
          ],
          [
           "Alberta",
           "10 000.1 - 100 000 ha"
          ],
          [
           "Alberta",
           "10 000.1 - 100 000 ha"
          ],
          [
           "Alberta",
           "10 000.1 - 100 000 ha"
          ],
          [
           "Alberta",
           "10 000.1 - 100 000 ha"
          ],
          [
           "Alberta",
           "10 000.1 - 100 000 ha"
          ],
          [
           "Alberta",
           "10 000.1 - 100 000 ha"
          ],
          [
           "Alberta",
           "10 000.1 - 100 000 ha"
          ],
          [
           "Alberta",
           "10 000.1 - 100 000 ha"
          ],
          [
           "Alberta",
           "10 000.1 - 100 000 ha"
          ],
          [
           "Alberta",
           "10 000.1 - 100 000 ha"
          ],
          [
           "Alberta",
           "10 000.1 - 100 000 ha"
          ],
          [
           "Alberta",
           "10 000.1 - 100 000 ha"
          ],
          [
           "Alberta",
           "10 000.1 - 100 000 ha"
          ],
          [
           "Alberta",
           "10 000.1 - 100 000 ha"
          ],
          [
           "British Columbia",
           "10 000.1 - 100 000 ha"
          ],
          [
           "British Columbia",
           "10 000.1 - 100 000 ha"
          ],
          [
           "British Columbia",
           "10 000.1 - 100 000 ha"
          ],
          [
           "British Columbia",
           "10 000.1 - 100 000 ha"
          ],
          [
           "British Columbia",
           "10 000.1 - 100 000 ha"
          ],
          [
           "British Columbia",
           "10 000.1 - 100 000 ha"
          ],
          [
           "British Columbia",
           "10 000.1 - 100 000 ha"
          ],
          [
           "British Columbia",
           "10 000.1 - 100 000 ha"
          ],
          [
           "British Columbia",
           "10 000.1 - 100 000 ha"
          ],
          [
           "British Columbia",
           "10 000.1 - 100 000 ha"
          ],
          [
           "British Columbia",
           "10 000.1 - 100 000 ha"
          ],
          [
           "British Columbia",
           "10 000.1 - 100 000 ha"
          ],
          [
           "British Columbia",
           "10 000.1 - 100 000 ha"
          ],
          [
           "British Columbia",
           "10 000.1 - 100 000 ha"
          ],
          [
           "British Columbia",
           "10 000.1 - 100 000 ha"
          ],
          [
           "British Columbia",
           "10 000.1 - 100 000 ha"
          ],
          [
           "British Columbia",
           "10 000.1 - 100 000 ha"
          ],
          [
           "British Columbia",
           "10 000.1 - 100 000 ha"
          ],
          [
           "British Columbia",
           "10 000.1 - 100 000 ha"
          ],
          [
           "British Columbia",
           "10 000.1 - 100 000 ha"
          ],
          [
           "British Columbia",
           "10 000.1 - 100 000 ha"
          ],
          [
           "British Columbia",
           "10 000.1 - 100 000 ha"
          ],
          [
           "British Columbia",
           "10 000.1 - 100 000 ha"
          ],
          [
           "British Columbia",
           "10 000.1 - 100 000 ha"
          ],
          [
           "British Columbia",
           "10 000.1 - 100 000 ha"
          ],
          [
           "British Columbia",
           "10 000.1 - 100 000 ha"
          ],
          [
           "British Columbia",
           "10 000.1 - 100 000 ha"
          ],
          [
           "British Columbia",
           "10 000.1 - 100 000 ha"
          ],
          [
           "British Columbia",
           "10 000.1 - 100 000 ha"
          ],
          [
           "British Columbia",
           "10 000.1 - 100 000 ha"
          ],
          [
           "British Columbia",
           "10 000.1 - 100 000 ha"
          ],
          [
           "British Columbia",
           "10 000.1 - 100 000 ha"
          ],
          [
           "Manitoba",
           "10 000.1 - 100 000 ha"
          ],
          [
           "Manitoba",
           "10 000.1 - 100 000 ha"
          ],
          [
           "Manitoba",
           "10 000.1 - 100 000 ha"
          ],
          [
           "Manitoba",
           "10 000.1 - 100 000 ha"
          ],
          [
           "Manitoba",
           "10 000.1 - 100 000 ha"
          ],
          [
           "Manitoba",
           "10 000.1 - 100 000 ha"
          ],
          [
           "Manitoba",
           "10 000.1 - 100 000 ha"
          ],
          [
           "Manitoba",
           "10 000.1 - 100 000 ha"
          ],
          [
           "Manitoba",
           "10 000.1 - 100 000 ha"
          ],
          [
           "Manitoba",
           "10 000.1 - 100 000 ha"
          ],
          [
           "Manitoba",
           "10 000.1 - 100 000 ha"
          ],
          [
           "Manitoba",
           "10 000.1 - 100 000 ha"
          ],
          [
           "Manitoba",
           "10 000.1 - 100 000 ha"
          ],
          [
           "Manitoba",
           "10 000.1 - 100 000 ha"
          ],
          [
           "Manitoba",
           "10 000.1 - 100 000 ha"
          ],
          [
           "Manitoba",
           "10 000.1 - 100 000 ha"
          ],
          [
           "Manitoba",
           "10 000.1 - 100 000 ha"
          ],
          [
           "Manitoba",
           "10 000.1 - 100 000 ha"
          ],
          [
           "Manitoba",
           "10 000.1 - 100 000 ha"
          ],
          [
           "Manitoba",
           "10 000.1 - 100 000 ha"
          ],
          [
           "Manitoba",
           "10 000.1 - 100 000 ha"
          ],
          [
           "Manitoba",
           "10 000.1 - 100 000 ha"
          ],
          [
           "Manitoba",
           "10 000.1 - 100 000 ha"
          ],
          [
           "Manitoba",
           "10 000.1 - 100 000 ha"
          ],
          [
           "Manitoba",
           "10 000.1 - 100 000 ha"
          ],
          [
           "Manitoba",
           "10 000.1 - 100 000 ha"
          ],
          [
           "Manitoba",
           "10 000.1 - 100 000 ha"
          ],
          [
           "Manitoba",
           "10 000.1 - 100 000 ha"
          ],
          [
           "Manitoba",
           "10 000.1 - 100 000 ha"
          ],
          [
           "Manitoba",
           "10 000.1 - 100 000 ha"
          ],
          [
           "Manitoba",
           "10 000.1 - 100 000 ha"
          ],
          [
           "Manitoba",
           "10 000.1 - 100 000 ha"
          ],
          [
           "Newfoundland and Labrador",
           "10 000.1 - 100 000 ha"
          ],
          [
           "Newfoundland and Labrador",
           "10 000.1 - 100 000 ha"
          ],
          [
           "Newfoundland and Labrador",
           "10 000.1 - 100 000 ha"
          ],
          [
           "Newfoundland and Labrador",
           "10 000.1 - 100 000 ha"
          ],
          [
           "Newfoundland and Labrador",
           "10 000.1 - 100 000 ha"
          ],
          [
           "Newfoundland and Labrador",
           "10 000.1 - 100 000 ha"
          ],
          [
           "Newfoundland and Labrador",
           "10 000.1 - 100 000 ha"
          ],
          [
           "Newfoundland and Labrador",
           "10 000.1 - 100 000 ha"
          ],
          [
           "Newfoundland and Labrador",
           "10 000.1 - 100 000 ha"
          ],
          [
           "Newfoundland and Labrador",
           "10 000.1 - 100 000 ha"
          ],
          [
           "Newfoundland and Labrador",
           "10 000.1 - 100 000 ha"
          ],
          [
           "Newfoundland and Labrador",
           "10 000.1 - 100 000 ha"
          ],
          [
           "Newfoundland and Labrador",
           "10 000.1 - 100 000 ha"
          ],
          [
           "Newfoundland and Labrador",
           "10 000.1 - 100 000 ha"
          ],
          [
           "Newfoundland and Labrador",
           "10 000.1 - 100 000 ha"
          ],
          [
           "Newfoundland and Labrador",
           "10 000.1 - 100 000 ha"
          ],
          [
           "Newfoundland and Labrador",
           "10 000.1 - 100 000 ha"
          ],
          [
           "Newfoundland and Labrador",
           "10 000.1 - 100 000 ha"
          ],
          [
           "Newfoundland and Labrador",
           "10 000.1 - 100 000 ha"
          ],
          [
           "Newfoundland and Labrador",
           "10 000.1 - 100 000 ha"
          ],
          [
           "Newfoundland and Labrador",
           "10 000.1 - 100 000 ha"
          ],
          [
           "Newfoundland and Labrador",
           "10 000.1 - 100 000 ha"
          ],
          [
           "Newfoundland and Labrador",
           "10 000.1 - 100 000 ha"
          ],
          [
           "Newfoundland and Labrador",
           "10 000.1 - 100 000 ha"
          ],
          [
           "Newfoundland and Labrador",
           "10 000.1 - 100 000 ha"
          ],
          [
           "Newfoundland and Labrador",
           "10 000.1 - 100 000 ha"
          ],
          [
           "Newfoundland and Labrador",
           "10 000.1 - 100 000 ha"
          ],
          [
           "Newfoundland and Labrador",
           "10 000.1 - 100 000 ha"
          ],
          [
           "Newfoundland and Labrador",
           "10 000.1 - 100 000 ha"
          ],
          [
           "Newfoundland and Labrador",
           "10 000.1 - 100 000 ha"
          ],
          [
           "Newfoundland and Labrador",
           "10 000.1 - 100 000 ha"
          ],
          [
           "Newfoundland and Labrador",
           "10 000.1 - 100 000 ha"
          ],
          [
           "Northwest Territories",
           "10 000.1 - 100 000 ha"
          ],
          [
           "Northwest Territories",
           "10 000.1 - 100 000 ha"
          ],
          [
           "Northwest Territories",
           "10 000.1 - 100 000 ha"
          ],
          [
           "Northwest Territories",
           "10 000.1 - 100 000 ha"
          ],
          [
           "Northwest Territories",
           "10 000.1 - 100 000 ha"
          ],
          [
           "Northwest Territories",
           "10 000.1 - 100 000 ha"
          ],
          [
           "Northwest Territories",
           "10 000.1 - 100 000 ha"
          ],
          [
           "Northwest Territories",
           "10 000.1 - 100 000 ha"
          ],
          [
           "Northwest Territories",
           "10 000.1 - 100 000 ha"
          ],
          [
           "Northwest Territories",
           "10 000.1 - 100 000 ha"
          ],
          [
           "Northwest Territories",
           "10 000.1 - 100 000 ha"
          ],
          [
           "Northwest Territories",
           "10 000.1 - 100 000 ha"
          ],
          [
           "Northwest Territories",
           "10 000.1 - 100 000 ha"
          ],
          [
           "Northwest Territories",
           "10 000.1 - 100 000 ha"
          ],
          [
           "Northwest Territories",
           "10 000.1 - 100 000 ha"
          ],
          [
           "Northwest Territories",
           "10 000.1 - 100 000 ha"
          ],
          [
           "Northwest Territories",
           "10 000.1 - 100 000 ha"
          ],
          [
           "Northwest Territories",
           "10 000.1 - 100 000 ha"
          ],
          [
           "Northwest Territories",
           "10 000.1 - 100 000 ha"
          ],
          [
           "Northwest Territories",
           "10 000.1 - 100 000 ha"
          ],
          [
           "Northwest Territories",
           "10 000.1 - 100 000 ha"
          ],
          [
           "Northwest Territories",
           "10 000.1 - 100 000 ha"
          ],
          [
           "Northwest Territories",
           "10 000.1 - 100 000 ha"
          ],
          [
           "Northwest Territories",
           "10 000.1 - 100 000 ha"
          ],
          [
           "Northwest Territories",
           "10 000.1 - 100 000 ha"
          ],
          [
           "Northwest Territories",
           "10 000.1 - 100 000 ha"
          ],
          [
           "Northwest Territories",
           "10 000.1 - 100 000 ha"
          ],
          [
           "Northwest Territories",
           "10 000.1 - 100 000 ha"
          ],
          [
           "Northwest Territories",
           "10 000.1 - 100 000 ha"
          ],
          [
           "Northwest Territories",
           "10 000.1 - 100 000 ha"
          ],
          [
           "Northwest Territories",
           "10 000.1 - 100 000 ha"
          ],
          [
           "Northwest Territories",
           "10 000.1 - 100 000 ha"
          ],
          [
           "Ontario",
           "10 000.1 - 100 000 ha"
          ],
          [
           "Ontario",
           "10 000.1 - 100 000 ha"
          ],
          [
           "Ontario",
           "10 000.1 - 100 000 ha"
          ],
          [
           "Ontario",
           "10 000.1 - 100 000 ha"
          ],
          [
           "Ontario",
           "10 000.1 - 100 000 ha"
          ],
          [
           "Ontario",
           "10 000.1 - 100 000 ha"
          ],
          [
           "Ontario",
           "10 000.1 - 100 000 ha"
          ],
          [
           "Ontario",
           "10 000.1 - 100 000 ha"
          ],
          [
           "Ontario",
           "10 000.1 - 100 000 ha"
          ],
          [
           "Ontario",
           "10 000.1 - 100 000 ha"
          ],
          [
           "Ontario",
           "10 000.1 - 100 000 ha"
          ],
          [
           "Ontario",
           "10 000.1 - 100 000 ha"
          ],
          [
           "Ontario",
           "10 000.1 - 100 000 ha"
          ],
          [
           "Ontario",
           "10 000.1 - 100 000 ha"
          ],
          [
           "Ontario",
           "10 000.1 - 100 000 ha"
          ],
          [
           "Ontario",
           "10 000.1 - 100 000 ha"
          ],
          [
           "Ontario",
           "10 000.1 - 100 000 ha"
          ],
          [
           "Ontario",
           "10 000.1 - 100 000 ha"
          ],
          [
           "Ontario",
           "10 000.1 - 100 000 ha"
          ],
          [
           "Ontario",
           "10 000.1 - 100 000 ha"
          ],
          [
           "Ontario",
           "10 000.1 - 100 000 ha"
          ],
          [
           "Ontario",
           "10 000.1 - 100 000 ha"
          ],
          [
           "Ontario",
           "10 000.1 - 100 000 ha"
          ],
          [
           "Ontario",
           "10 000.1 - 100 000 ha"
          ],
          [
           "Ontario",
           "10 000.1 - 100 000 ha"
          ],
          [
           "Ontario",
           "10 000.1 - 100 000 ha"
          ],
          [
           "Ontario",
           "10 000.1 - 100 000 ha"
          ],
          [
           "Ontario",
           "10 000.1 - 100 000 ha"
          ],
          [
           "Ontario",
           "10 000.1 - 100 000 ha"
          ],
          [
           "Ontario",
           "10 000.1 - 100 000 ha"
          ],
          [
           "Ontario",
           "10 000.1 - 100 000 ha"
          ],
          [
           "Ontario",
           "10 000.1 - 100 000 ha"
          ],
          [
           "Prince Edward Island",
           "10 000.1 - 100 000 ha"
          ],
          [
           "Prince Edward Island",
           "10 000.1 - 100 000 ha"
          ],
          [
           "Prince Edward Island",
           "10 000.1 - 100 000 ha"
          ],
          [
           "Prince Edward Island",
           "10 000.1 - 100 000 ha"
          ],
          [
           "Prince Edward Island",
           "10 000.1 - 100 000 ha"
          ],
          [
           "Prince Edward Island",
           "10 000.1 - 100 000 ha"
          ],
          [
           "Prince Edward Island",
           "10 000.1 - 100 000 ha"
          ],
          [
           "Prince Edward Island",
           "10 000.1 - 100 000 ha"
          ],
          [
           "Prince Edward Island",
           "10 000.1 - 100 000 ha"
          ],
          [
           "Prince Edward Island",
           "10 000.1 - 100 000 ha"
          ],
          [
           "Prince Edward Island",
           "10 000.1 - 100 000 ha"
          ],
          [
           "Prince Edward Island",
           "10 000.1 - 100 000 ha"
          ],
          [
           "Prince Edward Island",
           "10 000.1 - 100 000 ha"
          ],
          [
           "Prince Edward Island",
           "10 000.1 - 100 000 ha"
          ],
          [
           "Prince Edward Island",
           "10 000.1 - 100 000 ha"
          ],
          [
           "Prince Edward Island",
           "10 000.1 - 100 000 ha"
          ],
          [
           "Prince Edward Island",
           "10 000.1 - 100 000 ha"
          ],
          [
           "Prince Edward Island",
           "10 000.1 - 100 000 ha"
          ],
          [
           "Prince Edward Island",
           "10 000.1 - 100 000 ha"
          ],
          [
           "Prince Edward Island",
           "10 000.1 - 100 000 ha"
          ],
          [
           "Prince Edward Island",
           "10 000.1 - 100 000 ha"
          ],
          [
           "Prince Edward Island",
           "10 000.1 - 100 000 ha"
          ],
          [
           "Prince Edward Island",
           "10 000.1 - 100 000 ha"
          ],
          [
           "Prince Edward Island",
           "10 000.1 - 100 000 ha"
          ],
          [
           "Prince Edward Island",
           "10 000.1 - 100 000 ha"
          ],
          [
           "Prince Edward Island",
           "10 000.1 - 100 000 ha"
          ],
          [
           "Prince Edward Island",
           "10 000.1 - 100 000 ha"
          ],
          [
           "Prince Edward Island",
           "10 000.1 - 100 000 ha"
          ],
          [
           "Prince Edward Island",
           "10 000.1 - 100 000 ha"
          ],
          [
           "Prince Edward Island",
           "10 000.1 - 100 000 ha"
          ],
          [
           "Prince Edward Island",
           "10 000.1 - 100 000 ha"
          ],
          [
           "Prince Edward Island",
           "10 000.1 - 100 000 ha"
          ],
          [
           "Quebec",
           "10 000.1 - 100 000 ha"
          ],
          [
           "Quebec",
           "10 000.1 - 100 000 ha"
          ],
          [
           "Quebec",
           "10 000.1 - 100 000 ha"
          ],
          [
           "Quebec",
           "10 000.1 - 100 000 ha"
          ],
          [
           "Quebec",
           "10 000.1 - 100 000 ha"
          ],
          [
           "Quebec",
           "10 000.1 - 100 000 ha"
          ],
          [
           "Quebec",
           "10 000.1 - 100 000 ha"
          ],
          [
           "Quebec",
           "10 000.1 - 100 000 ha"
          ],
          [
           "Quebec",
           "10 000.1 - 100 000 ha"
          ],
          [
           "Quebec",
           "10 000.1 - 100 000 ha"
          ],
          [
           "Quebec",
           "10 000.1 - 100 000 ha"
          ],
          [
           "Quebec",
           "10 000.1 - 100 000 ha"
          ],
          [
           "Quebec",
           "10 000.1 - 100 000 ha"
          ],
          [
           "Quebec",
           "10 000.1 - 100 000 ha"
          ],
          [
           "Quebec",
           "10 000.1 - 100 000 ha"
          ],
          [
           "Quebec",
           "10 000.1 - 100 000 ha"
          ],
          [
           "Quebec",
           "10 000.1 - 100 000 ha"
          ],
          [
           "Quebec",
           "10 000.1 - 100 000 ha"
          ],
          [
           "Quebec",
           "10 000.1 - 100 000 ha"
          ],
          [
           "Quebec",
           "10 000.1 - 100 000 ha"
          ],
          [
           "Quebec",
           "10 000.1 - 100 000 ha"
          ],
          [
           "Quebec",
           "10 000.1 - 100 000 ha"
          ],
          [
           "Quebec",
           "10 000.1 - 100 000 ha"
          ],
          [
           "Quebec",
           "10 000.1 - 100 000 ha"
          ],
          [
           "Quebec",
           "10 000.1 - 100 000 ha"
          ],
          [
           "Quebec",
           "10 000.1 - 100 000 ha"
          ],
          [
           "Quebec",
           "10 000.1 - 100 000 ha"
          ],
          [
           "Quebec",
           "10 000.1 - 100 000 ha"
          ],
          [
           "Quebec",
           "10 000.1 - 100 000 ha"
          ],
          [
           "Quebec",
           "10 000.1 - 100 000 ha"
          ],
          [
           "Quebec",
           "10 000.1 - 100 000 ha"
          ],
          [
           "Quebec",
           "10 000.1 - 100 000 ha"
          ],
          [
           "Saskatchewan",
           "10 000.1 - 100 000 ha"
          ],
          [
           "Saskatchewan",
           "10 000.1 - 100 000 ha"
          ],
          [
           "Saskatchewan",
           "10 000.1 - 100 000 ha"
          ],
          [
           "Saskatchewan",
           "10 000.1 - 100 000 ha"
          ],
          [
           "Saskatchewan",
           "10 000.1 - 100 000 ha"
          ],
          [
           "Saskatchewan",
           "10 000.1 - 100 000 ha"
          ],
          [
           "Saskatchewan",
           "10 000.1 - 100 000 ha"
          ],
          [
           "Saskatchewan",
           "10 000.1 - 100 000 ha"
          ],
          [
           "Saskatchewan",
           "10 000.1 - 100 000 ha"
          ],
          [
           "Saskatchewan",
           "10 000.1 - 100 000 ha"
          ],
          [
           "Saskatchewan",
           "10 000.1 - 100 000 ha"
          ],
          [
           "Saskatchewan",
           "10 000.1 - 100 000 ha"
          ],
          [
           "Saskatchewan",
           "10 000.1 - 100 000 ha"
          ],
          [
           "Saskatchewan",
           "10 000.1 - 100 000 ha"
          ],
          [
           "Saskatchewan",
           "10 000.1 - 100 000 ha"
          ],
          [
           "Saskatchewan",
           "10 000.1 - 100 000 ha"
          ],
          [
           "Saskatchewan",
           "10 000.1 - 100 000 ha"
          ],
          [
           "Saskatchewan",
           "10 000.1 - 100 000 ha"
          ],
          [
           "Saskatchewan",
           "10 000.1 - 100 000 ha"
          ],
          [
           "Saskatchewan",
           "10 000.1 - 100 000 ha"
          ],
          [
           "Saskatchewan",
           "10 000.1 - 100 000 ha"
          ],
          [
           "Saskatchewan",
           "10 000.1 - 100 000 ha"
          ],
          [
           "Saskatchewan",
           "10 000.1 - 100 000 ha"
          ],
          [
           "Saskatchewan",
           "10 000.1 - 100 000 ha"
          ],
          [
           "Saskatchewan",
           "10 000.1 - 100 000 ha"
          ],
          [
           "Saskatchewan",
           "10 000.1 - 100 000 ha"
          ],
          [
           "Saskatchewan",
           "10 000.1 - 100 000 ha"
          ],
          [
           "Saskatchewan",
           "10 000.1 - 100 000 ha"
          ],
          [
           "Saskatchewan",
           "10 000.1 - 100 000 ha"
          ],
          [
           "Saskatchewan",
           "10 000.1 - 100 000 ha"
          ],
          [
           "Saskatchewan",
           "10 000.1 - 100 000 ha"
          ],
          [
           "Saskatchewan",
           "10 000.1 - 100 000 ha"
          ],
          [
           "Yukon",
           "10 000.1 - 100 000 ha"
          ],
          [
           "Yukon",
           "10 000.1 - 100 000 ha"
          ],
          [
           "Yukon",
           "10 000.1 - 100 000 ha"
          ],
          [
           "Yukon",
           "10 000.1 - 100 000 ha"
          ],
          [
           "Yukon",
           "10 000.1 - 100 000 ha"
          ],
          [
           "Yukon",
           "10 000.1 - 100 000 ha"
          ],
          [
           "Yukon",
           "10 000.1 - 100 000 ha"
          ],
          [
           "Yukon",
           "10 000.1 - 100 000 ha"
          ],
          [
           "Yukon",
           "10 000.1 - 100 000 ha"
          ],
          [
           "Yukon",
           "10 000.1 - 100 000 ha"
          ],
          [
           "Yukon",
           "10 000.1 - 100 000 ha"
          ],
          [
           "Yukon",
           "10 000.1 - 100 000 ha"
          ],
          [
           "Yukon",
           "10 000.1 - 100 000 ha"
          ],
          [
           "Yukon",
           "10 000.1 - 100 000 ha"
          ],
          [
           "Yukon",
           "10 000.1 - 100 000 ha"
          ],
          [
           "Yukon",
           "10 000.1 - 100 000 ha"
          ],
          [
           "Yukon",
           "10 000.1 - 100 000 ha"
          ],
          [
           "Yukon",
           "10 000.1 - 100 000 ha"
          ],
          [
           "Yukon",
           "10 000.1 - 100 000 ha"
          ],
          [
           "Yukon",
           "10 000.1 - 100 000 ha"
          ],
          [
           "Yukon",
           "10 000.1 - 100 000 ha"
          ],
          [
           "Yukon",
           "10 000.1 - 100 000 ha"
          ],
          [
           "Yukon",
           "10 000.1 - 100 000 ha"
          ],
          [
           "Yukon",
           "10 000.1 - 100 000 ha"
          ],
          [
           "Yukon",
           "10 000.1 - 100 000 ha"
          ],
          [
           "Yukon",
           "10 000.1 - 100 000 ha"
          ],
          [
           "Yukon",
           "10 000.1 - 100 000 ha"
          ],
          [
           "Yukon",
           "10 000.1 - 100 000 ha"
          ],
          [
           "Yukon",
           "10 000.1 - 100 000 ha"
          ],
          [
           "Yukon",
           "10 000.1 - 100 000 ha"
          ],
          [
           "Yukon",
           "10 000.1 - 100 000 ha"
          ],
          [
           "Yukon",
           "10 000.1 - 100 000 ha"
          ]
         ],
         "hovertemplate": "Fire size class=%{customdata[1]}<br>Year=%{x}<br>MaxValue=%{y}<br>Jurisdiction=%{customdata[0]}<extra></extra>",
         "legendgroup": "10 000.1 - 100 000 ha",
         "marker": {
          "color": "#19d3f3",
          "symbol": "circle"
         },
         "mode": "markers",
         "name": "10 000.1 - 100 000 ha",
         "showlegend": true,
         "type": "scattergl",
         "x": [
          1990,
          1991,
          1992,
          1993,
          1994,
          1995,
          1996,
          1997,
          1998,
          1999,
          2000,
          2001,
          2002,
          2003,
          2004,
          2005,
          2006,
          2007,
          2008,
          2009,
          2010,
          2011,
          2012,
          2013,
          2014,
          2015,
          2016,
          2017,
          2018,
          2019,
          2020,
          2021,
          1990,
          1991,
          1992,
          1993,
          1994,
          1995,
          1996,
          1997,
          1998,
          1999,
          2000,
          2001,
          2002,
          2003,
          2004,
          2005,
          2006,
          2007,
          2008,
          2009,
          2010,
          2011,
          2012,
          2013,
          2014,
          2015,
          2016,
          2017,
          2018,
          2019,
          2020,
          2021,
          1990,
          1991,
          1992,
          1993,
          1994,
          1995,
          1996,
          1997,
          1998,
          1999,
          2000,
          2001,
          2002,
          2003,
          2004,
          2005,
          2006,
          2007,
          2008,
          2009,
          2010,
          2011,
          2012,
          2013,
          2014,
          2015,
          2016,
          2017,
          2018,
          2019,
          2020,
          2021,
          1990,
          1991,
          1992,
          1993,
          1994,
          1995,
          1996,
          1997,
          1998,
          1999,
          2000,
          2001,
          2002,
          2003,
          2004,
          2005,
          2006,
          2007,
          2008,
          2009,
          2010,
          2011,
          2012,
          2013,
          2014,
          2015,
          2016,
          2017,
          2018,
          2019,
          2020,
          2021,
          1990,
          1991,
          1992,
          1993,
          1994,
          1995,
          1996,
          1997,
          1998,
          1999,
          2000,
          2001,
          2002,
          2003,
          2004,
          2005,
          2006,
          2007,
          2008,
          2009,
          2010,
          2011,
          2012,
          2013,
          2014,
          2015,
          2016,
          2017,
          2018,
          2019,
          2020,
          2021,
          1990,
          1991,
          1992,
          1993,
          1994,
          1995,
          1996,
          1997,
          1998,
          1999,
          2000,
          2001,
          2002,
          2003,
          2004,
          2005,
          2006,
          2007,
          2008,
          2009,
          2010,
          2011,
          2012,
          2013,
          2014,
          2015,
          2016,
          2017,
          2018,
          2019,
          2020,
          2021,
          1990,
          1991,
          1992,
          1993,
          1994,
          1995,
          1996,
          1997,
          1998,
          1999,
          2000,
          2001,
          2002,
          2003,
          2004,
          2005,
          2006,
          2007,
          2008,
          2009,
          2010,
          2011,
          2012,
          2013,
          2014,
          2015,
          2016,
          2017,
          2018,
          2019,
          2020,
          2021,
          1990,
          1991,
          1992,
          1993,
          1994,
          1995,
          1996,
          1997,
          1998,
          1999,
          2000,
          2001,
          2002,
          2003,
          2004,
          2005,
          2006,
          2007,
          2008,
          2009,
          2010,
          2011,
          2012,
          2013,
          2014,
          2015,
          2016,
          2017,
          2018,
          2019,
          2020,
          2021,
          1990,
          1991,
          1992,
          1993,
          1994,
          1995,
          1996,
          1997,
          1998,
          1999,
          2000,
          2001,
          2002,
          2003,
          2004,
          2005,
          2006,
          2007,
          2008,
          2009,
          2010,
          2011,
          2012,
          2013,
          2014,
          2015,
          2016,
          2017,
          2018,
          2019,
          2020,
          2021,
          1990,
          1991,
          1992,
          1993,
          1994,
          1995,
          1996,
          1997,
          1998,
          1999,
          2000,
          2001,
          2002,
          2003,
          2004,
          2005,
          2006,
          2007,
          2008,
          2009,
          2010,
          2011,
          2012,
          2013,
          2014,
          2015,
          2016,
          2017,
          2018,
          2019,
          2020,
          2021
         ],
         "xaxis": "x",
         "y": [
          35810,
          null,
          null,
          null,
          63907,
          47408,
          null,
          null,
          315509,
          76152,
          null,
          11520,
          67196,
          161815,
          252159,
          56750,
          43737,
          168330,
          11600,
          41649,
          56558,
          267329,
          317076,
          10307,
          237817,
          473883,
          11604,
          114974,
          12272,
          334307,
          null,
          null,
          36293,
          null,
          null,
          null,
          null,
          27616,
          null,
          null,
          25241,
          null,
          null,
          null,
          null,
          136736,
          122332,
          12371,
          45112,
          null,
          null,
          110678,
          206915,
          11000,
          37048,
          null,
          175699,
          163064,
          78439,
          139219,
          736723,
          null,
          null,
          null,
          null,
          91455,
          270806,
          52229,
          630365,
          746848,
          42167,
          null,
          272604,
          47942,
          47690,
          null,
          30490,
          680784,
          null,
          11749,
          87237,
          279579,
          78746,
          null,
          96895,
          103127,
          96528,
          664056,
          null,
          null,
          12649,
          78088,
          146435,
          37445,
          25260,
          null,
          null,
          null,
          null,
          null,
          104000,
          null,
          29000,
          null,
          11700,
          23812,
          70545,
          null,
          10558,
          null,
          null,
          null,
          null,
          null,
          null,
          16260,
          null,
          null,
          null,
          27593,
          null,
          null,
          null,
          null,
          null,
          null,
          null,
          null,
          87501,
          158097,
          null,
          638022,
          1018776,
          334166,
          244659,
          98825,
          845443,
          94781,
          51140,
          67000,
          null,
          77330,
          299698,
          142096,
          null,
          376418,
          210375,
          null,
          226705,
          228392,
          129027,
          359372,
          1203014,
          485405,
          129342,
          340250,
          null,
          52813,
          null,
          null,
          128990,
          206257,
          131450,
          77027,
          31912,
          265260,
          176582,
          null,
          43997,
          257094,
          null,
          null,
          89648,
          280326,
          null,
          13623,
          34062,
          29752,
          null,
          null,
          null,
          268212,
          83446,
          16302,
          null,
          15827,
          74334,
          51365,
          123883,
          225442,
          null,
          null,
          null,
          null,
          null,
          null,
          null,
          null,
          null,
          null,
          null,
          null,
          null,
          null,
          null,
          null,
          null,
          null,
          null,
          null,
          null,
          null,
          null,
          null,
          null,
          null,
          null,
          null,
          null,
          null,
          null,
          null,
          null,
          null,
          27031,
          225050,
          null,
          123525,
          100175,
          523328,
          473273,
          267405,
          238464,
          68482,
          27826,
          19137,
          667922,
          28905,
          null,
          594661,
          80089,
          206926,
          null,
          26879,
          160154,
          null,
          31550,
          427278,
          37904,
          null,
          null,
          15430,
          12985,
          null,
          50892,
          null,
          152989,
          133317,
          73338,
          204500,
          428732,
          924086,
          null,
          null,
          625272,
          109887,
          113432,
          129460,
          639307,
          60199,
          115323,
          104613,
          509394,
          140373,
          897767,
          null,
          640753,
          305207,
          120883,
          164135,
          238868,
          586875,
          219229,
          187151,
          85260,
          18454,
          40898,
          null,
          152489,
          45584,
          17766,
          71527,
          266440,
          205062,
          73180,
          null,
          274896,
          105167,
          null,
          14499,
          16510,
          null,
          992789,
          152100,
          48993,
          13970,
          null,
          182163,
          98745,
          13433,
          null,
          144526,
          null,
          81635,
          13350,
          301559,
          27481,
          63573,
          null,
          null
         ],
         "yaxis": "y"
        },
        {
         "customdata": [
          [
           "Alberta",
           "1000.1 - 10 000 ha"
          ],
          [
           "Alberta",
           "1000.1 - 10 000 ha"
          ],
          [
           "Alberta",
           "1000.1 - 10 000 ha"
          ],
          [
           "Alberta",
           "1000.1 - 10 000 ha"
          ],
          [
           "Alberta",
           "1000.1 - 10 000 ha"
          ],
          [
           "Alberta",
           "1000.1 - 10 000 ha"
          ],
          [
           "Alberta",
           "1000.1 - 10 000 ha"
          ],
          [
           "Alberta",
           "1000.1 - 10 000 ha"
          ],
          [
           "Alberta",
           "1000.1 - 10 000 ha"
          ],
          [
           "Alberta",
           "1000.1 - 10 000 ha"
          ],
          [
           "Alberta",
           "1000.1 - 10 000 ha"
          ],
          [
           "Alberta",
           "1000.1 - 10 000 ha"
          ],
          [
           "Alberta",
           "1000.1 - 10 000 ha"
          ],
          [
           "Alberta",
           "1000.1 - 10 000 ha"
          ],
          [
           "Alberta",
           "1000.1 - 10 000 ha"
          ],
          [
           "Alberta",
           "1000.1 - 10 000 ha"
          ],
          [
           "Alberta",
           "1000.1 - 10 000 ha"
          ],
          [
           "Alberta",
           "1000.1 - 10 000 ha"
          ],
          [
           "Alberta",
           "1000.1 - 10 000 ha"
          ],
          [
           "Alberta",
           "1000.1 - 10 000 ha"
          ],
          [
           "Alberta",
           "1000.1 - 10 000 ha"
          ],
          [
           "Alberta",
           "1000.1 - 10 000 ha"
          ],
          [
           "Alberta",
           "1000.1 - 10 000 ha"
          ],
          [
           "Alberta",
           "1000.1 - 10 000 ha"
          ],
          [
           "Alberta",
           "1000.1 - 10 000 ha"
          ],
          [
           "Alberta",
           "1000.1 - 10 000 ha"
          ],
          [
           "Alberta",
           "1000.1 - 10 000 ha"
          ],
          [
           "Alberta",
           "1000.1 - 10 000 ha"
          ],
          [
           "Alberta",
           "1000.1 - 10 000 ha"
          ],
          [
           "Alberta",
           "1000.1 - 10 000 ha"
          ],
          [
           "Alberta",
           "1000.1 - 10 000 ha"
          ],
          [
           "Alberta",
           "1000.1 - 10 000 ha"
          ],
          [
           "British Columbia",
           "1000.1 - 10 000 ha"
          ],
          [
           "British Columbia",
           "1000.1 - 10 000 ha"
          ],
          [
           "British Columbia",
           "1000.1 - 10 000 ha"
          ],
          [
           "British Columbia",
           "1000.1 - 10 000 ha"
          ],
          [
           "British Columbia",
           "1000.1 - 10 000 ha"
          ],
          [
           "British Columbia",
           "1000.1 - 10 000 ha"
          ],
          [
           "British Columbia",
           "1000.1 - 10 000 ha"
          ],
          [
           "British Columbia",
           "1000.1 - 10 000 ha"
          ],
          [
           "British Columbia",
           "1000.1 - 10 000 ha"
          ],
          [
           "British Columbia",
           "1000.1 - 10 000 ha"
          ],
          [
           "British Columbia",
           "1000.1 - 10 000 ha"
          ],
          [
           "British Columbia",
           "1000.1 - 10 000 ha"
          ],
          [
           "British Columbia",
           "1000.1 - 10 000 ha"
          ],
          [
           "British Columbia",
           "1000.1 - 10 000 ha"
          ],
          [
           "British Columbia",
           "1000.1 - 10 000 ha"
          ],
          [
           "British Columbia",
           "1000.1 - 10 000 ha"
          ],
          [
           "British Columbia",
           "1000.1 - 10 000 ha"
          ],
          [
           "British Columbia",
           "1000.1 - 10 000 ha"
          ],
          [
           "British Columbia",
           "1000.1 - 10 000 ha"
          ],
          [
           "British Columbia",
           "1000.1 - 10 000 ha"
          ],
          [
           "British Columbia",
           "1000.1 - 10 000 ha"
          ],
          [
           "British Columbia",
           "1000.1 - 10 000 ha"
          ],
          [
           "British Columbia",
           "1000.1 - 10 000 ha"
          ],
          [
           "British Columbia",
           "1000.1 - 10 000 ha"
          ],
          [
           "British Columbia",
           "1000.1 - 10 000 ha"
          ],
          [
           "British Columbia",
           "1000.1 - 10 000 ha"
          ],
          [
           "British Columbia",
           "1000.1 - 10 000 ha"
          ],
          [
           "British Columbia",
           "1000.1 - 10 000 ha"
          ],
          [
           "British Columbia",
           "1000.1 - 10 000 ha"
          ],
          [
           "British Columbia",
           "1000.1 - 10 000 ha"
          ],
          [
           "British Columbia",
           "1000.1 - 10 000 ha"
          ],
          [
           "British Columbia",
           "1000.1 - 10 000 ha"
          ],
          [
           "Manitoba",
           "1000.1 - 10 000 ha"
          ],
          [
           "Manitoba",
           "1000.1 - 10 000 ha"
          ],
          [
           "Manitoba",
           "1000.1 - 10 000 ha"
          ],
          [
           "Manitoba",
           "1000.1 - 10 000 ha"
          ],
          [
           "Manitoba",
           "1000.1 - 10 000 ha"
          ],
          [
           "Manitoba",
           "1000.1 - 10 000 ha"
          ],
          [
           "Manitoba",
           "1000.1 - 10 000 ha"
          ],
          [
           "Manitoba",
           "1000.1 - 10 000 ha"
          ],
          [
           "Manitoba",
           "1000.1 - 10 000 ha"
          ],
          [
           "Manitoba",
           "1000.1 - 10 000 ha"
          ],
          [
           "Manitoba",
           "1000.1 - 10 000 ha"
          ],
          [
           "Manitoba",
           "1000.1 - 10 000 ha"
          ],
          [
           "Manitoba",
           "1000.1 - 10 000 ha"
          ],
          [
           "Manitoba",
           "1000.1 - 10 000 ha"
          ],
          [
           "Manitoba",
           "1000.1 - 10 000 ha"
          ],
          [
           "Manitoba",
           "1000.1 - 10 000 ha"
          ],
          [
           "Manitoba",
           "1000.1 - 10 000 ha"
          ],
          [
           "Manitoba",
           "1000.1 - 10 000 ha"
          ],
          [
           "Manitoba",
           "1000.1 - 10 000 ha"
          ],
          [
           "Manitoba",
           "1000.1 - 10 000 ha"
          ],
          [
           "Manitoba",
           "1000.1 - 10 000 ha"
          ],
          [
           "Manitoba",
           "1000.1 - 10 000 ha"
          ],
          [
           "Manitoba",
           "1000.1 - 10 000 ha"
          ],
          [
           "Manitoba",
           "1000.1 - 10 000 ha"
          ],
          [
           "Manitoba",
           "1000.1 - 10 000 ha"
          ],
          [
           "Manitoba",
           "1000.1 - 10 000 ha"
          ],
          [
           "Manitoba",
           "1000.1 - 10 000 ha"
          ],
          [
           "Manitoba",
           "1000.1 - 10 000 ha"
          ],
          [
           "Manitoba",
           "1000.1 - 10 000 ha"
          ],
          [
           "Manitoba",
           "1000.1 - 10 000 ha"
          ],
          [
           "Manitoba",
           "1000.1 - 10 000 ha"
          ],
          [
           "Manitoba",
           "1000.1 - 10 000 ha"
          ],
          [
           "New Brunswick",
           "1000.1 - 10 000 ha"
          ],
          [
           "New Brunswick",
           "1000.1 - 10 000 ha"
          ],
          [
           "New Brunswick",
           "1000.1 - 10 000 ha"
          ],
          [
           "New Brunswick",
           "1000.1 - 10 000 ha"
          ],
          [
           "New Brunswick",
           "1000.1 - 10 000 ha"
          ],
          [
           "New Brunswick",
           "1000.1 - 10 000 ha"
          ],
          [
           "New Brunswick",
           "1000.1 - 10 000 ha"
          ],
          [
           "New Brunswick",
           "1000.1 - 10 000 ha"
          ],
          [
           "New Brunswick",
           "1000.1 - 10 000 ha"
          ],
          [
           "New Brunswick",
           "1000.1 - 10 000 ha"
          ],
          [
           "New Brunswick",
           "1000.1 - 10 000 ha"
          ],
          [
           "New Brunswick",
           "1000.1 - 10 000 ha"
          ],
          [
           "New Brunswick",
           "1000.1 - 10 000 ha"
          ],
          [
           "New Brunswick",
           "1000.1 - 10 000 ha"
          ],
          [
           "New Brunswick",
           "1000.1 - 10 000 ha"
          ],
          [
           "New Brunswick",
           "1000.1 - 10 000 ha"
          ],
          [
           "New Brunswick",
           "1000.1 - 10 000 ha"
          ],
          [
           "New Brunswick",
           "1000.1 - 10 000 ha"
          ],
          [
           "New Brunswick",
           "1000.1 - 10 000 ha"
          ],
          [
           "New Brunswick",
           "1000.1 - 10 000 ha"
          ],
          [
           "New Brunswick",
           "1000.1 - 10 000 ha"
          ],
          [
           "New Brunswick",
           "1000.1 - 10 000 ha"
          ],
          [
           "New Brunswick",
           "1000.1 - 10 000 ha"
          ],
          [
           "New Brunswick",
           "1000.1 - 10 000 ha"
          ],
          [
           "New Brunswick",
           "1000.1 - 10 000 ha"
          ],
          [
           "New Brunswick",
           "1000.1 - 10 000 ha"
          ],
          [
           "New Brunswick",
           "1000.1 - 10 000 ha"
          ],
          [
           "New Brunswick",
           "1000.1 - 10 000 ha"
          ],
          [
           "New Brunswick",
           "1000.1 - 10 000 ha"
          ],
          [
           "New Brunswick",
           "1000.1 - 10 000 ha"
          ],
          [
           "New Brunswick",
           "1000.1 - 10 000 ha"
          ],
          [
           "New Brunswick",
           "1000.1 - 10 000 ha"
          ],
          [
           "Newfoundland and Labrador",
           "1000.1 - 10 000 ha"
          ],
          [
           "Newfoundland and Labrador",
           "1000.1 - 10 000 ha"
          ],
          [
           "Newfoundland and Labrador",
           "1000.1 - 10 000 ha"
          ],
          [
           "Newfoundland and Labrador",
           "1000.1 - 10 000 ha"
          ],
          [
           "Newfoundland and Labrador",
           "1000.1 - 10 000 ha"
          ],
          [
           "Newfoundland and Labrador",
           "1000.1 - 10 000 ha"
          ],
          [
           "Newfoundland and Labrador",
           "1000.1 - 10 000 ha"
          ],
          [
           "Newfoundland and Labrador",
           "1000.1 - 10 000 ha"
          ],
          [
           "Newfoundland and Labrador",
           "1000.1 - 10 000 ha"
          ],
          [
           "Newfoundland and Labrador",
           "1000.1 - 10 000 ha"
          ],
          [
           "Newfoundland and Labrador",
           "1000.1 - 10 000 ha"
          ],
          [
           "Newfoundland and Labrador",
           "1000.1 - 10 000 ha"
          ],
          [
           "Newfoundland and Labrador",
           "1000.1 - 10 000 ha"
          ],
          [
           "Newfoundland and Labrador",
           "1000.1 - 10 000 ha"
          ],
          [
           "Newfoundland and Labrador",
           "1000.1 - 10 000 ha"
          ],
          [
           "Newfoundland and Labrador",
           "1000.1 - 10 000 ha"
          ],
          [
           "Newfoundland and Labrador",
           "1000.1 - 10 000 ha"
          ],
          [
           "Newfoundland and Labrador",
           "1000.1 - 10 000 ha"
          ],
          [
           "Newfoundland and Labrador",
           "1000.1 - 10 000 ha"
          ],
          [
           "Newfoundland and Labrador",
           "1000.1 - 10 000 ha"
          ],
          [
           "Newfoundland and Labrador",
           "1000.1 - 10 000 ha"
          ],
          [
           "Newfoundland and Labrador",
           "1000.1 - 10 000 ha"
          ],
          [
           "Newfoundland and Labrador",
           "1000.1 - 10 000 ha"
          ],
          [
           "Newfoundland and Labrador",
           "1000.1 - 10 000 ha"
          ],
          [
           "Newfoundland and Labrador",
           "1000.1 - 10 000 ha"
          ],
          [
           "Newfoundland and Labrador",
           "1000.1 - 10 000 ha"
          ],
          [
           "Newfoundland and Labrador",
           "1000.1 - 10 000 ha"
          ],
          [
           "Newfoundland and Labrador",
           "1000.1 - 10 000 ha"
          ],
          [
           "Newfoundland and Labrador",
           "1000.1 - 10 000 ha"
          ],
          [
           "Newfoundland and Labrador",
           "1000.1 - 10 000 ha"
          ],
          [
           "Newfoundland and Labrador",
           "1000.1 - 10 000 ha"
          ],
          [
           "Newfoundland and Labrador",
           "1000.1 - 10 000 ha"
          ],
          [
           "Northwest Territories",
           "1000.1 - 10 000 ha"
          ],
          [
           "Northwest Territories",
           "1000.1 - 10 000 ha"
          ],
          [
           "Northwest Territories",
           "1000.1 - 10 000 ha"
          ],
          [
           "Northwest Territories",
           "1000.1 - 10 000 ha"
          ],
          [
           "Northwest Territories",
           "1000.1 - 10 000 ha"
          ],
          [
           "Northwest Territories",
           "1000.1 - 10 000 ha"
          ],
          [
           "Northwest Territories",
           "1000.1 - 10 000 ha"
          ],
          [
           "Northwest Territories",
           "1000.1 - 10 000 ha"
          ],
          [
           "Northwest Territories",
           "1000.1 - 10 000 ha"
          ],
          [
           "Northwest Territories",
           "1000.1 - 10 000 ha"
          ],
          [
           "Northwest Territories",
           "1000.1 - 10 000 ha"
          ],
          [
           "Northwest Territories",
           "1000.1 - 10 000 ha"
          ],
          [
           "Northwest Territories",
           "1000.1 - 10 000 ha"
          ],
          [
           "Northwest Territories",
           "1000.1 - 10 000 ha"
          ],
          [
           "Northwest Territories",
           "1000.1 - 10 000 ha"
          ],
          [
           "Northwest Territories",
           "1000.1 - 10 000 ha"
          ],
          [
           "Northwest Territories",
           "1000.1 - 10 000 ha"
          ],
          [
           "Northwest Territories",
           "1000.1 - 10 000 ha"
          ],
          [
           "Northwest Territories",
           "1000.1 - 10 000 ha"
          ],
          [
           "Northwest Territories",
           "1000.1 - 10 000 ha"
          ],
          [
           "Northwest Territories",
           "1000.1 - 10 000 ha"
          ],
          [
           "Northwest Territories",
           "1000.1 - 10 000 ha"
          ],
          [
           "Northwest Territories",
           "1000.1 - 10 000 ha"
          ],
          [
           "Northwest Territories",
           "1000.1 - 10 000 ha"
          ],
          [
           "Northwest Territories",
           "1000.1 - 10 000 ha"
          ],
          [
           "Northwest Territories",
           "1000.1 - 10 000 ha"
          ],
          [
           "Northwest Territories",
           "1000.1 - 10 000 ha"
          ],
          [
           "Northwest Territories",
           "1000.1 - 10 000 ha"
          ],
          [
           "Northwest Territories",
           "1000.1 - 10 000 ha"
          ],
          [
           "Northwest Territories",
           "1000.1 - 10 000 ha"
          ],
          [
           "Northwest Territories",
           "1000.1 - 10 000 ha"
          ],
          [
           "Northwest Territories",
           "1000.1 - 10 000 ha"
          ],
          [
           "Nova Scotia",
           "1000.1 - 10 000 ha"
          ],
          [
           "Nova Scotia",
           "1000.1 - 10 000 ha"
          ],
          [
           "Nova Scotia",
           "1000.1 - 10 000 ha"
          ],
          [
           "Nova Scotia",
           "1000.1 - 10 000 ha"
          ],
          [
           "Nova Scotia",
           "1000.1 - 10 000 ha"
          ],
          [
           "Nova Scotia",
           "1000.1 - 10 000 ha"
          ],
          [
           "Nova Scotia",
           "1000.1 - 10 000 ha"
          ],
          [
           "Nova Scotia",
           "1000.1 - 10 000 ha"
          ],
          [
           "Nova Scotia",
           "1000.1 - 10 000 ha"
          ],
          [
           "Nova Scotia",
           "1000.1 - 10 000 ha"
          ],
          [
           "Nova Scotia",
           "1000.1 - 10 000 ha"
          ],
          [
           "Nova Scotia",
           "1000.1 - 10 000 ha"
          ],
          [
           "Nova Scotia",
           "1000.1 - 10 000 ha"
          ],
          [
           "Nova Scotia",
           "1000.1 - 10 000 ha"
          ],
          [
           "Nova Scotia",
           "1000.1 - 10 000 ha"
          ],
          [
           "Nova Scotia",
           "1000.1 - 10 000 ha"
          ],
          [
           "Nova Scotia",
           "1000.1 - 10 000 ha"
          ],
          [
           "Nova Scotia",
           "1000.1 - 10 000 ha"
          ],
          [
           "Nova Scotia",
           "1000.1 - 10 000 ha"
          ],
          [
           "Nova Scotia",
           "1000.1 - 10 000 ha"
          ],
          [
           "Nova Scotia",
           "1000.1 - 10 000 ha"
          ],
          [
           "Nova Scotia",
           "1000.1 - 10 000 ha"
          ],
          [
           "Nova Scotia",
           "1000.1 - 10 000 ha"
          ],
          [
           "Nova Scotia",
           "1000.1 - 10 000 ha"
          ],
          [
           "Nova Scotia",
           "1000.1 - 10 000 ha"
          ],
          [
           "Nova Scotia",
           "1000.1 - 10 000 ha"
          ],
          [
           "Nova Scotia",
           "1000.1 - 10 000 ha"
          ],
          [
           "Nova Scotia",
           "1000.1 - 10 000 ha"
          ],
          [
           "Nova Scotia",
           "1000.1 - 10 000 ha"
          ],
          [
           "Nova Scotia",
           "1000.1 - 10 000 ha"
          ],
          [
           "Nova Scotia",
           "1000.1 - 10 000 ha"
          ],
          [
           "Nova Scotia",
           "1000.1 - 10 000 ha"
          ],
          [
           "Ontario",
           "1000.1 - 10 000 ha"
          ],
          [
           "Ontario",
           "1000.1 - 10 000 ha"
          ],
          [
           "Ontario",
           "1000.1 - 10 000 ha"
          ],
          [
           "Ontario",
           "1000.1 - 10 000 ha"
          ],
          [
           "Ontario",
           "1000.1 - 10 000 ha"
          ],
          [
           "Ontario",
           "1000.1 - 10 000 ha"
          ],
          [
           "Ontario",
           "1000.1 - 10 000 ha"
          ],
          [
           "Ontario",
           "1000.1 - 10 000 ha"
          ],
          [
           "Ontario",
           "1000.1 - 10 000 ha"
          ],
          [
           "Ontario",
           "1000.1 - 10 000 ha"
          ],
          [
           "Ontario",
           "1000.1 - 10 000 ha"
          ],
          [
           "Ontario",
           "1000.1 - 10 000 ha"
          ],
          [
           "Ontario",
           "1000.1 - 10 000 ha"
          ],
          [
           "Ontario",
           "1000.1 - 10 000 ha"
          ],
          [
           "Ontario",
           "1000.1 - 10 000 ha"
          ],
          [
           "Ontario",
           "1000.1 - 10 000 ha"
          ],
          [
           "Ontario",
           "1000.1 - 10 000 ha"
          ],
          [
           "Ontario",
           "1000.1 - 10 000 ha"
          ],
          [
           "Ontario",
           "1000.1 - 10 000 ha"
          ],
          [
           "Ontario",
           "1000.1 - 10 000 ha"
          ],
          [
           "Ontario",
           "1000.1 - 10 000 ha"
          ],
          [
           "Ontario",
           "1000.1 - 10 000 ha"
          ],
          [
           "Ontario",
           "1000.1 - 10 000 ha"
          ],
          [
           "Ontario",
           "1000.1 - 10 000 ha"
          ],
          [
           "Ontario",
           "1000.1 - 10 000 ha"
          ],
          [
           "Ontario",
           "1000.1 - 10 000 ha"
          ],
          [
           "Ontario",
           "1000.1 - 10 000 ha"
          ],
          [
           "Ontario",
           "1000.1 - 10 000 ha"
          ],
          [
           "Ontario",
           "1000.1 - 10 000 ha"
          ],
          [
           "Ontario",
           "1000.1 - 10 000 ha"
          ],
          [
           "Ontario",
           "1000.1 - 10 000 ha"
          ],
          [
           "Ontario",
           "1000.1 - 10 000 ha"
          ],
          [
           "Prince Edward Island",
           "1000.1 - 10 000 ha"
          ],
          [
           "Prince Edward Island",
           "1000.1 - 10 000 ha"
          ],
          [
           "Prince Edward Island",
           "1000.1 - 10 000 ha"
          ],
          [
           "Prince Edward Island",
           "1000.1 - 10 000 ha"
          ],
          [
           "Prince Edward Island",
           "1000.1 - 10 000 ha"
          ],
          [
           "Prince Edward Island",
           "1000.1 - 10 000 ha"
          ],
          [
           "Prince Edward Island",
           "1000.1 - 10 000 ha"
          ],
          [
           "Prince Edward Island",
           "1000.1 - 10 000 ha"
          ],
          [
           "Prince Edward Island",
           "1000.1 - 10 000 ha"
          ],
          [
           "Prince Edward Island",
           "1000.1 - 10 000 ha"
          ],
          [
           "Prince Edward Island",
           "1000.1 - 10 000 ha"
          ],
          [
           "Prince Edward Island",
           "1000.1 - 10 000 ha"
          ],
          [
           "Prince Edward Island",
           "1000.1 - 10 000 ha"
          ],
          [
           "Prince Edward Island",
           "1000.1 - 10 000 ha"
          ],
          [
           "Prince Edward Island",
           "1000.1 - 10 000 ha"
          ],
          [
           "Prince Edward Island",
           "1000.1 - 10 000 ha"
          ],
          [
           "Prince Edward Island",
           "1000.1 - 10 000 ha"
          ],
          [
           "Prince Edward Island",
           "1000.1 - 10 000 ha"
          ],
          [
           "Prince Edward Island",
           "1000.1 - 10 000 ha"
          ],
          [
           "Prince Edward Island",
           "1000.1 - 10 000 ha"
          ],
          [
           "Prince Edward Island",
           "1000.1 - 10 000 ha"
          ],
          [
           "Prince Edward Island",
           "1000.1 - 10 000 ha"
          ],
          [
           "Prince Edward Island",
           "1000.1 - 10 000 ha"
          ],
          [
           "Prince Edward Island",
           "1000.1 - 10 000 ha"
          ],
          [
           "Prince Edward Island",
           "1000.1 - 10 000 ha"
          ],
          [
           "Prince Edward Island",
           "1000.1 - 10 000 ha"
          ],
          [
           "Prince Edward Island",
           "1000.1 - 10 000 ha"
          ],
          [
           "Prince Edward Island",
           "1000.1 - 10 000 ha"
          ],
          [
           "Prince Edward Island",
           "1000.1 - 10 000 ha"
          ],
          [
           "Prince Edward Island",
           "1000.1 - 10 000 ha"
          ],
          [
           "Prince Edward Island",
           "1000.1 - 10 000 ha"
          ],
          [
           "Prince Edward Island",
           "1000.1 - 10 000 ha"
          ],
          [
           "Quebec",
           "1000.1 - 10 000 ha"
          ],
          [
           "Quebec",
           "1000.1 - 10 000 ha"
          ],
          [
           "Quebec",
           "1000.1 - 10 000 ha"
          ],
          [
           "Quebec",
           "1000.1 - 10 000 ha"
          ],
          [
           "Quebec",
           "1000.1 - 10 000 ha"
          ],
          [
           "Quebec",
           "1000.1 - 10 000 ha"
          ],
          [
           "Quebec",
           "1000.1 - 10 000 ha"
          ],
          [
           "Quebec",
           "1000.1 - 10 000 ha"
          ],
          [
           "Quebec",
           "1000.1 - 10 000 ha"
          ],
          [
           "Quebec",
           "1000.1 - 10 000 ha"
          ],
          [
           "Quebec",
           "1000.1 - 10 000 ha"
          ],
          [
           "Quebec",
           "1000.1 - 10 000 ha"
          ],
          [
           "Quebec",
           "1000.1 - 10 000 ha"
          ],
          [
           "Quebec",
           "1000.1 - 10 000 ha"
          ],
          [
           "Quebec",
           "1000.1 - 10 000 ha"
          ],
          [
           "Quebec",
           "1000.1 - 10 000 ha"
          ],
          [
           "Quebec",
           "1000.1 - 10 000 ha"
          ],
          [
           "Quebec",
           "1000.1 - 10 000 ha"
          ],
          [
           "Quebec",
           "1000.1 - 10 000 ha"
          ],
          [
           "Quebec",
           "1000.1 - 10 000 ha"
          ],
          [
           "Quebec",
           "1000.1 - 10 000 ha"
          ],
          [
           "Quebec",
           "1000.1 - 10 000 ha"
          ],
          [
           "Quebec",
           "1000.1 - 10 000 ha"
          ],
          [
           "Quebec",
           "1000.1 - 10 000 ha"
          ],
          [
           "Quebec",
           "1000.1 - 10 000 ha"
          ],
          [
           "Quebec",
           "1000.1 - 10 000 ha"
          ],
          [
           "Quebec",
           "1000.1 - 10 000 ha"
          ],
          [
           "Quebec",
           "1000.1 - 10 000 ha"
          ],
          [
           "Quebec",
           "1000.1 - 10 000 ha"
          ],
          [
           "Quebec",
           "1000.1 - 10 000 ha"
          ],
          [
           "Quebec",
           "1000.1 - 10 000 ha"
          ],
          [
           "Quebec",
           "1000.1 - 10 000 ha"
          ],
          [
           "Saskatchewan",
           "1000.1 - 10 000 ha"
          ],
          [
           "Saskatchewan",
           "1000.1 - 10 000 ha"
          ],
          [
           "Saskatchewan",
           "1000.1 - 10 000 ha"
          ],
          [
           "Saskatchewan",
           "1000.1 - 10 000 ha"
          ],
          [
           "Saskatchewan",
           "1000.1 - 10 000 ha"
          ],
          [
           "Saskatchewan",
           "1000.1 - 10 000 ha"
          ],
          [
           "Saskatchewan",
           "1000.1 - 10 000 ha"
          ],
          [
           "Saskatchewan",
           "1000.1 - 10 000 ha"
          ],
          [
           "Saskatchewan",
           "1000.1 - 10 000 ha"
          ],
          [
           "Saskatchewan",
           "1000.1 - 10 000 ha"
          ],
          [
           "Saskatchewan",
           "1000.1 - 10 000 ha"
          ],
          [
           "Saskatchewan",
           "1000.1 - 10 000 ha"
          ],
          [
           "Saskatchewan",
           "1000.1 - 10 000 ha"
          ],
          [
           "Saskatchewan",
           "1000.1 - 10 000 ha"
          ],
          [
           "Saskatchewan",
           "1000.1 - 10 000 ha"
          ],
          [
           "Saskatchewan",
           "1000.1 - 10 000 ha"
          ],
          [
           "Saskatchewan",
           "1000.1 - 10 000 ha"
          ],
          [
           "Saskatchewan",
           "1000.1 - 10 000 ha"
          ],
          [
           "Saskatchewan",
           "1000.1 - 10 000 ha"
          ],
          [
           "Saskatchewan",
           "1000.1 - 10 000 ha"
          ],
          [
           "Saskatchewan",
           "1000.1 - 10 000 ha"
          ],
          [
           "Saskatchewan",
           "1000.1 - 10 000 ha"
          ],
          [
           "Saskatchewan",
           "1000.1 - 10 000 ha"
          ],
          [
           "Saskatchewan",
           "1000.1 - 10 000 ha"
          ],
          [
           "Saskatchewan",
           "1000.1 - 10 000 ha"
          ],
          [
           "Saskatchewan",
           "1000.1 - 10 000 ha"
          ],
          [
           "Saskatchewan",
           "1000.1 - 10 000 ha"
          ],
          [
           "Saskatchewan",
           "1000.1 - 10 000 ha"
          ],
          [
           "Saskatchewan",
           "1000.1 - 10 000 ha"
          ],
          [
           "Saskatchewan",
           "1000.1 - 10 000 ha"
          ],
          [
           "Saskatchewan",
           "1000.1 - 10 000 ha"
          ],
          [
           "Saskatchewan",
           "1000.1 - 10 000 ha"
          ],
          [
           "Yukon",
           "1000.1 - 10 000 ha"
          ],
          [
           "Yukon",
           "1000.1 - 10 000 ha"
          ],
          [
           "Yukon",
           "1000.1 - 10 000 ha"
          ],
          [
           "Yukon",
           "1000.1 - 10 000 ha"
          ],
          [
           "Yukon",
           "1000.1 - 10 000 ha"
          ],
          [
           "Yukon",
           "1000.1 - 10 000 ha"
          ],
          [
           "Yukon",
           "1000.1 - 10 000 ha"
          ],
          [
           "Yukon",
           "1000.1 - 10 000 ha"
          ],
          [
           "Yukon",
           "1000.1 - 10 000 ha"
          ],
          [
           "Yukon",
           "1000.1 - 10 000 ha"
          ],
          [
           "Yukon",
           "1000.1 - 10 000 ha"
          ],
          [
           "Yukon",
           "1000.1 - 10 000 ha"
          ],
          [
           "Yukon",
           "1000.1 - 10 000 ha"
          ],
          [
           "Yukon",
           "1000.1 - 10 000 ha"
          ],
          [
           "Yukon",
           "1000.1 - 10 000 ha"
          ],
          [
           "Yukon",
           "1000.1 - 10 000 ha"
          ],
          [
           "Yukon",
           "1000.1 - 10 000 ha"
          ],
          [
           "Yukon",
           "1000.1 - 10 000 ha"
          ],
          [
           "Yukon",
           "1000.1 - 10 000 ha"
          ],
          [
           "Yukon",
           "1000.1 - 10 000 ha"
          ],
          [
           "Yukon",
           "1000.1 - 10 000 ha"
          ],
          [
           "Yukon",
           "1000.1 - 10 000 ha"
          ],
          [
           "Yukon",
           "1000.1 - 10 000 ha"
          ],
          [
           "Yukon",
           "1000.1 - 10 000 ha"
          ],
          [
           "Yukon",
           "1000.1 - 10 000 ha"
          ],
          [
           "Yukon",
           "1000.1 - 10 000 ha"
          ],
          [
           "Yukon",
           "1000.1 - 10 000 ha"
          ],
          [
           "Yukon",
           "1000.1 - 10 000 ha"
          ],
          [
           "Yukon",
           "1000.1 - 10 000 ha"
          ],
          [
           "Yukon",
           "1000.1 - 10 000 ha"
          ],
          [
           "Yukon",
           "1000.1 - 10 000 ha"
          ],
          [
           "Yukon",
           "1000.1 - 10 000 ha"
          ]
         ],
         "hovertemplate": "Fire size class=%{customdata[1]}<br>Year=%{x}<br>MaxValue=%{y}<br>Jurisdiction=%{customdata[0]}<extra></extra>",
         "legendgroup": "1000.1 - 10 000 ha",
         "marker": {
          "color": "#FF6692",
          "symbol": "circle"
         },
         "mode": "markers",
         "name": "1000.1 - 10 000 ha",
         "showlegend": true,
         "type": "scattergl",
         "x": [
          1990,
          1991,
          1992,
          1993,
          1994,
          1995,
          1996,
          1997,
          1998,
          1999,
          2000,
          2001,
          2002,
          2003,
          2004,
          2005,
          2006,
          2007,
          2008,
          2009,
          2010,
          2011,
          2012,
          2013,
          2014,
          2015,
          2016,
          2017,
          2018,
          2019,
          2020,
          2021,
          1990,
          1991,
          1992,
          1993,
          1994,
          1995,
          1996,
          1997,
          1998,
          1999,
          2000,
          2001,
          2002,
          2003,
          2004,
          2005,
          2006,
          2007,
          2008,
          2009,
          2010,
          2011,
          2012,
          2013,
          2014,
          2015,
          2016,
          2017,
          2018,
          2019,
          2020,
          2021,
          1990,
          1991,
          1992,
          1993,
          1994,
          1995,
          1996,
          1997,
          1998,
          1999,
          2000,
          2001,
          2002,
          2003,
          2004,
          2005,
          2006,
          2007,
          2008,
          2009,
          2010,
          2011,
          2012,
          2013,
          2014,
          2015,
          2016,
          2017,
          2018,
          2019,
          2020,
          2021,
          1990,
          1991,
          1992,
          1993,
          1994,
          1995,
          1996,
          1997,
          1998,
          1999,
          2000,
          2001,
          2002,
          2003,
          2004,
          2005,
          2006,
          2007,
          2008,
          2009,
          2010,
          2011,
          2012,
          2013,
          2014,
          2015,
          2016,
          2017,
          2018,
          2019,
          2020,
          2021,
          1990,
          1991,
          1992,
          1993,
          1994,
          1995,
          1996,
          1997,
          1998,
          1999,
          2000,
          2001,
          2002,
          2003,
          2004,
          2005,
          2006,
          2007,
          2008,
          2009,
          2010,
          2011,
          2012,
          2013,
          2014,
          2015,
          2016,
          2017,
          2018,
          2019,
          2020,
          2021,
          1990,
          1991,
          1992,
          1993,
          1994,
          1995,
          1996,
          1997,
          1998,
          1999,
          2000,
          2001,
          2002,
          2003,
          2004,
          2005,
          2006,
          2007,
          2008,
          2009,
          2010,
          2011,
          2012,
          2013,
          2014,
          2015,
          2016,
          2017,
          2018,
          2019,
          2020,
          2021,
          1990,
          1991,
          1992,
          1993,
          1994,
          1995,
          1996,
          1997,
          1998,
          1999,
          2000,
          2001,
          2002,
          2003,
          2004,
          2005,
          2006,
          2007,
          2008,
          2009,
          2010,
          2011,
          2012,
          2013,
          2014,
          2015,
          2016,
          2017,
          2018,
          2019,
          2020,
          2021,
          1990,
          1991,
          1992,
          1993,
          1994,
          1995,
          1996,
          1997,
          1998,
          1999,
          2000,
          2001,
          2002,
          2003,
          2004,
          2005,
          2006,
          2007,
          2008,
          2009,
          2010,
          2011,
          2012,
          2013,
          2014,
          2015,
          2016,
          2017,
          2018,
          2019,
          2020,
          2021,
          1990,
          1991,
          1992,
          1993,
          1994,
          1995,
          1996,
          1997,
          1998,
          1999,
          2000,
          2001,
          2002,
          2003,
          2004,
          2005,
          2006,
          2007,
          2008,
          2009,
          2010,
          2011,
          2012,
          2013,
          2014,
          2015,
          2016,
          2017,
          2018,
          2019,
          2020,
          2021,
          1990,
          1991,
          1992,
          1993,
          1994,
          1995,
          1996,
          1997,
          1998,
          1999,
          2000,
          2001,
          2002,
          2003,
          2004,
          2005,
          2006,
          2007,
          2008,
          2009,
          2010,
          2011,
          2012,
          2013,
          2014,
          2015,
          2016,
          2017,
          2018,
          2019,
          2020,
          2021,
          1990,
          1991,
          1992,
          1993,
          1994,
          1995,
          1996,
          1997,
          1998,
          1999,
          2000,
          2001,
          2002,
          2003,
          2004,
          2005,
          2006,
          2007,
          2008,
          2009,
          2010,
          2011,
          2012,
          2013,
          2014,
          2015,
          2016,
          2017,
          2018,
          2019,
          2020,
          2021,
          1990,
          1991,
          1992,
          1993,
          1994,
          1995,
          1996,
          1997,
          1998,
          1999,
          2000,
          2001,
          2002,
          2003,
          2004,
          2005,
          2006,
          2007,
          2008,
          2009,
          2010,
          2011,
          2012,
          2013,
          2014,
          2015,
          2016,
          2017,
          2018,
          2019,
          2020,
          2021
         ],
         "xaxis": "x",
         "y": [
          12380,
          1559,
          null,
          18528,
          23943,
          26807,
          13577,
          2800,
          88359,
          95849,
          15506,
          39925,
          59959,
          35258,
          56404,
          27596,
          78399,
          26407,
          15956,
          43381,
          21637,
          37341,
          76218,
          36510,
          45174,
          127833,
          10035,
          24490,
          66339,
          34752,
          3520,
          null,
          21121,
          12652,
          18537,
          null,
          17032,
          15787,
          14325,
          1054,
          32855,
          4266,
          10478,
          8362,
          3343,
          118991,
          75720,
          16644,
          69312,
          22009,
          8448,
          100068,
          111845,
          null,
          54153,
          10430,
          46428,
          96396,
          10323,
          119460,
          187319,
          15966,
          12230,
          null,
          8238,
          43067,
          30369,
          8461,
          88419,
          126921,
          71281,
          31160,
          61330,
          44677,
          54990,
          65539,
          49623,
          228879,
          18205,
          53016,
          68786,
          46679,
          68061,
          null,
          75715,
          19595,
          100913,
          116475,
          32055,
          51577,
          17264,
          116477,
          70099,
          21106,
          17593,
          null,
          5984,
          2600,
          3035,
          null,
          null,
          null,
          null,
          null,
          null,
          null,
          null,
          null,
          null,
          null,
          null,
          null,
          null,
          null,
          null,
          null,
          null,
          null,
          null,
          null,
          null,
          null,
          null,
          null,
          null,
          null,
          null,
          null,
          19591,
          52029,
          null,
          25700,
          3883,
          null,
          47970,
          8000,
          26391,
          10975,
          29378,
          null,
          3454,
          24917,
          null,
          17401,
          2666,
          10606,
          null,
          null,
          null,
          null,
          23235,
          2475,
          8832,
          2838,
          9680,
          null,
          null,
          null,
          3033,
          null,
          11800,
          54136,
          26508,
          85086,
          213025,
          54870,
          98465,
          23010,
          195837,
          87451,
          116989,
          47690,
          22568,
          42254,
          201233,
          63666,
          51934,
          56420,
          83581,
          7626,
          106504,
          90176,
          147203,
          174919,
          289959,
          211099,
          112088,
          189207,
          17391,
          42068,
          13962,
          null,
          null,
          null,
          null,
          null,
          null,
          null,
          null,
          null,
          null,
          null,
          null,
          null,
          null,
          null,
          null,
          null,
          null,
          null,
          1950,
          null,
          null,
          null,
          null,
          null,
          null,
          null,
          null,
          null,
          null,
          null,
          null,
          null,
          35154,
          94982,
          37385,
          23179,
          40215,
          202020,
          240961,
          32097,
          88701,
          58703,
          2858,
          3950,
          73565,
          23447,
          1230,
          22428,
          87203,
          2955,
          null,
          11685,
          9470,
          98116,
          51289,
          24642,
          2800,
          18083,
          7476,
          45821,
          122855,
          38191,
          9480,
          null,
          null,
          null,
          null,
          null,
          null,
          null,
          null,
          null,
          null,
          null,
          null,
          null,
          null,
          null,
          null,
          null,
          null,
          null,
          null,
          null,
          null,
          null,
          null,
          null,
          null,
          null,
          null,
          null,
          null,
          null,
          null,
          null,
          46399,
          52627,
          21235,
          2970,
          9036,
          60800,
          183964,
          117194,
          67724,
          24724,
          7597,
          10379,
          104440,
          47227,
          null,
          187494,
          44545,
          116271,
          null,
          60122,
          40330,
          7561,
          25612,
          85813,
          21919,
          2060,
          19823,
          19120,
          66001,
          7156,
          5143,
          null,
          52078,
          54142,
          15480,
          88405,
          106366,
          117564,
          7565,
          null,
          131470,
          61295,
          21510,
          58870,
          66577,
          52909,
          127865,
          96606,
          148769,
          66429,
          82776,
          32816,
          194054,
          33817,
          97576,
          73820,
          93439,
          213592,
          25616,
          74196,
          96741,
          24838,
          null,
          null,
          24832,
          63017,
          16705,
          36835,
          144467,
          50393,
          9855,
          10266,
          63754,
          82035,
          5668,
          1603,
          18049,
          44838,
          296338,
          33606,
          41908,
          17644,
          9328,
          39680,
          44404,
          25238,
          47398,
          40544,
          1929,
          74150,
          7667,
          90656,
          48156,
          73055,
          2847,
          null
         ],
         "yaxis": "y"
        },
        {
         "customdata": [
          [
           "Alberta",
           "Over 100 000 ha"
          ],
          [
           "Alberta",
           "Over 100 000 ha"
          ],
          [
           "Alberta",
           "Over 100 000 ha"
          ],
          [
           "Alberta",
           "Over 100 000 ha"
          ],
          [
           "Alberta",
           "Over 100 000 ha"
          ],
          [
           "Alberta",
           "Over 100 000 ha"
          ],
          [
           "Alberta",
           "Over 100 000 ha"
          ],
          [
           "Alberta",
           "Over 100 000 ha"
          ],
          [
           "Alberta",
           "Over 100 000 ha"
          ],
          [
           "Alberta",
           "Over 100 000 ha"
          ],
          [
           "Alberta",
           "Over 100 000 ha"
          ],
          [
           "Alberta",
           "Over 100 000 ha"
          ],
          [
           "Alberta",
           "Over 100 000 ha"
          ],
          [
           "Alberta",
           "Over 100 000 ha"
          ],
          [
           "Alberta",
           "Over 100 000 ha"
          ],
          [
           "Alberta",
           "Over 100 000 ha"
          ],
          [
           "Alberta",
           "Over 100 000 ha"
          ],
          [
           "Alberta",
           "Over 100 000 ha"
          ],
          [
           "Alberta",
           "Over 100 000 ha"
          ],
          [
           "Alberta",
           "Over 100 000 ha"
          ],
          [
           "Alberta",
           "Over 100 000 ha"
          ],
          [
           "Alberta",
           "Over 100 000 ha"
          ],
          [
           "Alberta",
           "Over 100 000 ha"
          ],
          [
           "Alberta",
           "Over 100 000 ha"
          ],
          [
           "Alberta",
           "Over 100 000 ha"
          ],
          [
           "Alberta",
           "Over 100 000 ha"
          ],
          [
           "Alberta",
           "Over 100 000 ha"
          ],
          [
           "Alberta",
           "Over 100 000 ha"
          ],
          [
           "Alberta",
           "Over 100 000 ha"
          ],
          [
           "Alberta",
           "Over 100 000 ha"
          ],
          [
           "Alberta",
           "Over 100 000 ha"
          ],
          [
           "Alberta",
           "Over 100 000 ha"
          ],
          [
           "British Columbia",
           "Over 100 000 ha"
          ],
          [
           "British Columbia",
           "Over 100 000 ha"
          ],
          [
           "British Columbia",
           "Over 100 000 ha"
          ],
          [
           "British Columbia",
           "Over 100 000 ha"
          ],
          [
           "British Columbia",
           "Over 100 000 ha"
          ],
          [
           "British Columbia",
           "Over 100 000 ha"
          ],
          [
           "British Columbia",
           "Over 100 000 ha"
          ],
          [
           "British Columbia",
           "Over 100 000 ha"
          ],
          [
           "British Columbia",
           "Over 100 000 ha"
          ],
          [
           "British Columbia",
           "Over 100 000 ha"
          ],
          [
           "British Columbia",
           "Over 100 000 ha"
          ],
          [
           "British Columbia",
           "Over 100 000 ha"
          ],
          [
           "British Columbia",
           "Over 100 000 ha"
          ],
          [
           "British Columbia",
           "Over 100 000 ha"
          ],
          [
           "British Columbia",
           "Over 100 000 ha"
          ],
          [
           "British Columbia",
           "Over 100 000 ha"
          ],
          [
           "British Columbia",
           "Over 100 000 ha"
          ],
          [
           "British Columbia",
           "Over 100 000 ha"
          ],
          [
           "British Columbia",
           "Over 100 000 ha"
          ],
          [
           "British Columbia",
           "Over 100 000 ha"
          ],
          [
           "British Columbia",
           "Over 100 000 ha"
          ],
          [
           "British Columbia",
           "Over 100 000 ha"
          ],
          [
           "British Columbia",
           "Over 100 000 ha"
          ],
          [
           "British Columbia",
           "Over 100 000 ha"
          ],
          [
           "British Columbia",
           "Over 100 000 ha"
          ],
          [
           "British Columbia",
           "Over 100 000 ha"
          ],
          [
           "British Columbia",
           "Over 100 000 ha"
          ],
          [
           "British Columbia",
           "Over 100 000 ha"
          ],
          [
           "British Columbia",
           "Over 100 000 ha"
          ],
          [
           "British Columbia",
           "Over 100 000 ha"
          ],
          [
           "British Columbia",
           "Over 100 000 ha"
          ],
          [
           "British Columbia",
           "Over 100 000 ha"
          ],
          [
           "Manitoba",
           "Over 100 000 ha"
          ],
          [
           "Manitoba",
           "Over 100 000 ha"
          ],
          [
           "Manitoba",
           "Over 100 000 ha"
          ],
          [
           "Manitoba",
           "Over 100 000 ha"
          ],
          [
           "Manitoba",
           "Over 100 000 ha"
          ],
          [
           "Manitoba",
           "Over 100 000 ha"
          ],
          [
           "Manitoba",
           "Over 100 000 ha"
          ],
          [
           "Manitoba",
           "Over 100 000 ha"
          ],
          [
           "Manitoba",
           "Over 100 000 ha"
          ],
          [
           "Manitoba",
           "Over 100 000 ha"
          ],
          [
           "Manitoba",
           "Over 100 000 ha"
          ],
          [
           "Manitoba",
           "Over 100 000 ha"
          ],
          [
           "Manitoba",
           "Over 100 000 ha"
          ],
          [
           "Manitoba",
           "Over 100 000 ha"
          ],
          [
           "Manitoba",
           "Over 100 000 ha"
          ],
          [
           "Manitoba",
           "Over 100 000 ha"
          ],
          [
           "Manitoba",
           "Over 100 000 ha"
          ],
          [
           "Manitoba",
           "Over 100 000 ha"
          ],
          [
           "Manitoba",
           "Over 100 000 ha"
          ],
          [
           "Manitoba",
           "Over 100 000 ha"
          ],
          [
           "Manitoba",
           "Over 100 000 ha"
          ],
          [
           "Manitoba",
           "Over 100 000 ha"
          ],
          [
           "Manitoba",
           "Over 100 000 ha"
          ],
          [
           "Manitoba",
           "Over 100 000 ha"
          ],
          [
           "Manitoba",
           "Over 100 000 ha"
          ],
          [
           "Manitoba",
           "Over 100 000 ha"
          ],
          [
           "Manitoba",
           "Over 100 000 ha"
          ],
          [
           "Manitoba",
           "Over 100 000 ha"
          ],
          [
           "Manitoba",
           "Over 100 000 ha"
          ],
          [
           "Manitoba",
           "Over 100 000 ha"
          ],
          [
           "Manitoba",
           "Over 100 000 ha"
          ],
          [
           "Manitoba",
           "Over 100 000 ha"
          ],
          [
           "Northwest Territories",
           "Over 100 000 ha"
          ],
          [
           "Northwest Territories",
           "Over 100 000 ha"
          ],
          [
           "Northwest Territories",
           "Over 100 000 ha"
          ],
          [
           "Northwest Territories",
           "Over 100 000 ha"
          ],
          [
           "Northwest Territories",
           "Over 100 000 ha"
          ],
          [
           "Northwest Territories",
           "Over 100 000 ha"
          ],
          [
           "Northwest Territories",
           "Over 100 000 ha"
          ],
          [
           "Northwest Territories",
           "Over 100 000 ha"
          ],
          [
           "Northwest Territories",
           "Over 100 000 ha"
          ],
          [
           "Northwest Territories",
           "Over 100 000 ha"
          ],
          [
           "Northwest Territories",
           "Over 100 000 ha"
          ],
          [
           "Northwest Territories",
           "Over 100 000 ha"
          ],
          [
           "Northwest Territories",
           "Over 100 000 ha"
          ],
          [
           "Northwest Territories",
           "Over 100 000 ha"
          ],
          [
           "Northwest Territories",
           "Over 100 000 ha"
          ],
          [
           "Northwest Territories",
           "Over 100 000 ha"
          ],
          [
           "Northwest Territories",
           "Over 100 000 ha"
          ],
          [
           "Northwest Territories",
           "Over 100 000 ha"
          ],
          [
           "Northwest Territories",
           "Over 100 000 ha"
          ],
          [
           "Northwest Territories",
           "Over 100 000 ha"
          ],
          [
           "Northwest Territories",
           "Over 100 000 ha"
          ],
          [
           "Northwest Territories",
           "Over 100 000 ha"
          ],
          [
           "Northwest Territories",
           "Over 100 000 ha"
          ],
          [
           "Northwest Territories",
           "Over 100 000 ha"
          ],
          [
           "Northwest Territories",
           "Over 100 000 ha"
          ],
          [
           "Northwest Territories",
           "Over 100 000 ha"
          ],
          [
           "Northwest Territories",
           "Over 100 000 ha"
          ],
          [
           "Northwest Territories",
           "Over 100 000 ha"
          ],
          [
           "Northwest Territories",
           "Over 100 000 ha"
          ],
          [
           "Northwest Territories",
           "Over 100 000 ha"
          ],
          [
           "Northwest Territories",
           "Over 100 000 ha"
          ],
          [
           "Northwest Territories",
           "Over 100 000 ha"
          ],
          [
           "Ontario",
           "Over 100 000 ha"
          ],
          [
           "Ontario",
           "Over 100 000 ha"
          ],
          [
           "Ontario",
           "Over 100 000 ha"
          ],
          [
           "Ontario",
           "Over 100 000 ha"
          ],
          [
           "Ontario",
           "Over 100 000 ha"
          ],
          [
           "Ontario",
           "Over 100 000 ha"
          ],
          [
           "Ontario",
           "Over 100 000 ha"
          ],
          [
           "Ontario",
           "Over 100 000 ha"
          ],
          [
           "Ontario",
           "Over 100 000 ha"
          ],
          [
           "Ontario",
           "Over 100 000 ha"
          ],
          [
           "Ontario",
           "Over 100 000 ha"
          ],
          [
           "Ontario",
           "Over 100 000 ha"
          ],
          [
           "Ontario",
           "Over 100 000 ha"
          ],
          [
           "Ontario",
           "Over 100 000 ha"
          ],
          [
           "Ontario",
           "Over 100 000 ha"
          ],
          [
           "Ontario",
           "Over 100 000 ha"
          ],
          [
           "Ontario",
           "Over 100 000 ha"
          ],
          [
           "Ontario",
           "Over 100 000 ha"
          ],
          [
           "Ontario",
           "Over 100 000 ha"
          ],
          [
           "Ontario",
           "Over 100 000 ha"
          ],
          [
           "Ontario",
           "Over 100 000 ha"
          ],
          [
           "Ontario",
           "Over 100 000 ha"
          ],
          [
           "Ontario",
           "Over 100 000 ha"
          ],
          [
           "Ontario",
           "Over 100 000 ha"
          ],
          [
           "Ontario",
           "Over 100 000 ha"
          ],
          [
           "Ontario",
           "Over 100 000 ha"
          ],
          [
           "Ontario",
           "Over 100 000 ha"
          ],
          [
           "Ontario",
           "Over 100 000 ha"
          ],
          [
           "Ontario",
           "Over 100 000 ha"
          ],
          [
           "Ontario",
           "Over 100 000 ha"
          ],
          [
           "Ontario",
           "Over 100 000 ha"
          ],
          [
           "Ontario",
           "Over 100 000 ha"
          ],
          [
           "Prince Edward Island",
           "Over 100 000 ha"
          ],
          [
           "Prince Edward Island",
           "Over 100 000 ha"
          ],
          [
           "Prince Edward Island",
           "Over 100 000 ha"
          ],
          [
           "Prince Edward Island",
           "Over 100 000 ha"
          ],
          [
           "Prince Edward Island",
           "Over 100 000 ha"
          ],
          [
           "Prince Edward Island",
           "Over 100 000 ha"
          ],
          [
           "Prince Edward Island",
           "Over 100 000 ha"
          ],
          [
           "Prince Edward Island",
           "Over 100 000 ha"
          ],
          [
           "Prince Edward Island",
           "Over 100 000 ha"
          ],
          [
           "Prince Edward Island",
           "Over 100 000 ha"
          ],
          [
           "Prince Edward Island",
           "Over 100 000 ha"
          ],
          [
           "Prince Edward Island",
           "Over 100 000 ha"
          ],
          [
           "Prince Edward Island",
           "Over 100 000 ha"
          ],
          [
           "Prince Edward Island",
           "Over 100 000 ha"
          ],
          [
           "Prince Edward Island",
           "Over 100 000 ha"
          ],
          [
           "Prince Edward Island",
           "Over 100 000 ha"
          ],
          [
           "Prince Edward Island",
           "Over 100 000 ha"
          ],
          [
           "Prince Edward Island",
           "Over 100 000 ha"
          ],
          [
           "Prince Edward Island",
           "Over 100 000 ha"
          ],
          [
           "Prince Edward Island",
           "Over 100 000 ha"
          ],
          [
           "Prince Edward Island",
           "Over 100 000 ha"
          ],
          [
           "Prince Edward Island",
           "Over 100 000 ha"
          ],
          [
           "Prince Edward Island",
           "Over 100 000 ha"
          ],
          [
           "Prince Edward Island",
           "Over 100 000 ha"
          ],
          [
           "Prince Edward Island",
           "Over 100 000 ha"
          ],
          [
           "Prince Edward Island",
           "Over 100 000 ha"
          ],
          [
           "Prince Edward Island",
           "Over 100 000 ha"
          ],
          [
           "Prince Edward Island",
           "Over 100 000 ha"
          ],
          [
           "Prince Edward Island",
           "Over 100 000 ha"
          ],
          [
           "Prince Edward Island",
           "Over 100 000 ha"
          ],
          [
           "Prince Edward Island",
           "Over 100 000 ha"
          ],
          [
           "Prince Edward Island",
           "Over 100 000 ha"
          ],
          [
           "Quebec",
           "Over 100 000 ha"
          ],
          [
           "Quebec",
           "Over 100 000 ha"
          ],
          [
           "Quebec",
           "Over 100 000 ha"
          ],
          [
           "Quebec",
           "Over 100 000 ha"
          ],
          [
           "Quebec",
           "Over 100 000 ha"
          ],
          [
           "Quebec",
           "Over 100 000 ha"
          ],
          [
           "Quebec",
           "Over 100 000 ha"
          ],
          [
           "Quebec",
           "Over 100 000 ha"
          ],
          [
           "Quebec",
           "Over 100 000 ha"
          ],
          [
           "Quebec",
           "Over 100 000 ha"
          ],
          [
           "Quebec",
           "Over 100 000 ha"
          ],
          [
           "Quebec",
           "Over 100 000 ha"
          ],
          [
           "Quebec",
           "Over 100 000 ha"
          ],
          [
           "Quebec",
           "Over 100 000 ha"
          ],
          [
           "Quebec",
           "Over 100 000 ha"
          ],
          [
           "Quebec",
           "Over 100 000 ha"
          ],
          [
           "Quebec",
           "Over 100 000 ha"
          ],
          [
           "Quebec",
           "Over 100 000 ha"
          ],
          [
           "Quebec",
           "Over 100 000 ha"
          ],
          [
           "Quebec",
           "Over 100 000 ha"
          ],
          [
           "Quebec",
           "Over 100 000 ha"
          ],
          [
           "Quebec",
           "Over 100 000 ha"
          ],
          [
           "Quebec",
           "Over 100 000 ha"
          ],
          [
           "Quebec",
           "Over 100 000 ha"
          ],
          [
           "Quebec",
           "Over 100 000 ha"
          ],
          [
           "Quebec",
           "Over 100 000 ha"
          ],
          [
           "Quebec",
           "Over 100 000 ha"
          ],
          [
           "Quebec",
           "Over 100 000 ha"
          ],
          [
           "Quebec",
           "Over 100 000 ha"
          ],
          [
           "Quebec",
           "Over 100 000 ha"
          ],
          [
           "Quebec",
           "Over 100 000 ha"
          ],
          [
           "Quebec",
           "Over 100 000 ha"
          ],
          [
           "Saskatchewan",
           "Over 100 000 ha"
          ],
          [
           "Saskatchewan",
           "Over 100 000 ha"
          ],
          [
           "Saskatchewan",
           "Over 100 000 ha"
          ],
          [
           "Saskatchewan",
           "Over 100 000 ha"
          ],
          [
           "Saskatchewan",
           "Over 100 000 ha"
          ],
          [
           "Saskatchewan",
           "Over 100 000 ha"
          ],
          [
           "Saskatchewan",
           "Over 100 000 ha"
          ],
          [
           "Saskatchewan",
           "Over 100 000 ha"
          ],
          [
           "Saskatchewan",
           "Over 100 000 ha"
          ],
          [
           "Saskatchewan",
           "Over 100 000 ha"
          ],
          [
           "Saskatchewan",
           "Over 100 000 ha"
          ],
          [
           "Saskatchewan",
           "Over 100 000 ha"
          ],
          [
           "Saskatchewan",
           "Over 100 000 ha"
          ],
          [
           "Saskatchewan",
           "Over 100 000 ha"
          ],
          [
           "Saskatchewan",
           "Over 100 000 ha"
          ],
          [
           "Saskatchewan",
           "Over 100 000 ha"
          ],
          [
           "Saskatchewan",
           "Over 100 000 ha"
          ],
          [
           "Saskatchewan",
           "Over 100 000 ha"
          ],
          [
           "Saskatchewan",
           "Over 100 000 ha"
          ],
          [
           "Saskatchewan",
           "Over 100 000 ha"
          ],
          [
           "Saskatchewan",
           "Over 100 000 ha"
          ],
          [
           "Saskatchewan",
           "Over 100 000 ha"
          ],
          [
           "Saskatchewan",
           "Over 100 000 ha"
          ],
          [
           "Saskatchewan",
           "Over 100 000 ha"
          ],
          [
           "Saskatchewan",
           "Over 100 000 ha"
          ],
          [
           "Saskatchewan",
           "Over 100 000 ha"
          ],
          [
           "Saskatchewan",
           "Over 100 000 ha"
          ],
          [
           "Saskatchewan",
           "Over 100 000 ha"
          ],
          [
           "Saskatchewan",
           "Over 100 000 ha"
          ],
          [
           "Saskatchewan",
           "Over 100 000 ha"
          ],
          [
           "Saskatchewan",
           "Over 100 000 ha"
          ],
          [
           "Saskatchewan",
           "Over 100 000 ha"
          ],
          [
           "Yukon",
           "Over 100 000 ha"
          ],
          [
           "Yukon",
           "Over 100 000 ha"
          ],
          [
           "Yukon",
           "Over 100 000 ha"
          ],
          [
           "Yukon",
           "Over 100 000 ha"
          ],
          [
           "Yukon",
           "Over 100 000 ha"
          ],
          [
           "Yukon",
           "Over 100 000 ha"
          ],
          [
           "Yukon",
           "Over 100 000 ha"
          ],
          [
           "Yukon",
           "Over 100 000 ha"
          ],
          [
           "Yukon",
           "Over 100 000 ha"
          ],
          [
           "Yukon",
           "Over 100 000 ha"
          ],
          [
           "Yukon",
           "Over 100 000 ha"
          ],
          [
           "Yukon",
           "Over 100 000 ha"
          ],
          [
           "Yukon",
           "Over 100 000 ha"
          ],
          [
           "Yukon",
           "Over 100 000 ha"
          ],
          [
           "Yukon",
           "Over 100 000 ha"
          ],
          [
           "Yukon",
           "Over 100 000 ha"
          ],
          [
           "Yukon",
           "Over 100 000 ha"
          ],
          [
           "Yukon",
           "Over 100 000 ha"
          ],
          [
           "Yukon",
           "Over 100 000 ha"
          ],
          [
           "Yukon",
           "Over 100 000 ha"
          ],
          [
           "Yukon",
           "Over 100 000 ha"
          ],
          [
           "Yukon",
           "Over 100 000 ha"
          ],
          [
           "Yukon",
           "Over 100 000 ha"
          ],
          [
           "Yukon",
           "Over 100 000 ha"
          ],
          [
           "Yukon",
           "Over 100 000 ha"
          ],
          [
           "Yukon",
           "Over 100 000 ha"
          ],
          [
           "Yukon",
           "Over 100 000 ha"
          ],
          [
           "Yukon",
           "Over 100 000 ha"
          ],
          [
           "Yukon",
           "Over 100 000 ha"
          ],
          [
           "Yukon",
           "Over 100 000 ha"
          ],
          [
           "Yukon",
           "Over 100 000 ha"
          ],
          [
           "Yukon",
           "Over 100 000 ha"
          ]
         ],
         "hovertemplate": "Fire size class=%{customdata[1]}<br>Year=%{x}<br>MaxValue=%{y}<br>Jurisdiction=%{customdata[0]}<extra></extra>",
         "legendgroup": "Over 100 000 ha",
         "marker": {
          "color": "#B6E880",
          "symbol": "circle"
         },
         "mode": "markers",
         "name": "Over 100 000 ha",
         "showlegend": true,
         "type": "scattergl",
         "x": [
          1990,
          1991,
          1992,
          1993,
          1994,
          1995,
          1996,
          1997,
          1998,
          1999,
          2000,
          2001,
          2002,
          2003,
          2004,
          2005,
          2006,
          2007,
          2008,
          2009,
          2010,
          2011,
          2012,
          2013,
          2014,
          2015,
          2016,
          2017,
          2018,
          2019,
          2020,
          2021,
          1990,
          1991,
          1992,
          1993,
          1994,
          1995,
          1996,
          1997,
          1998,
          1999,
          2000,
          2001,
          2002,
          2003,
          2004,
          2005,
          2006,
          2007,
          2008,
          2009,
          2010,
          2011,
          2012,
          2013,
          2014,
          2015,
          2016,
          2017,
          2018,
          2019,
          2020,
          2021,
          1990,
          1991,
          1992,
          1993,
          1994,
          1995,
          1996,
          1997,
          1998,
          1999,
          2000,
          2001,
          2002,
          2003,
          2004,
          2005,
          2006,
          2007,
          2008,
          2009,
          2010,
          2011,
          2012,
          2013,
          2014,
          2015,
          2016,
          2017,
          2018,
          2019,
          2020,
          2021,
          1990,
          1991,
          1992,
          1993,
          1994,
          1995,
          1996,
          1997,
          1998,
          1999,
          2000,
          2001,
          2002,
          2003,
          2004,
          2005,
          2006,
          2007,
          2008,
          2009,
          2010,
          2011,
          2012,
          2013,
          2014,
          2015,
          2016,
          2017,
          2018,
          2019,
          2020,
          2021,
          1990,
          1991,
          1992,
          1993,
          1994,
          1995,
          1996,
          1997,
          1998,
          1999,
          2000,
          2001,
          2002,
          2003,
          2004,
          2005,
          2006,
          2007,
          2008,
          2009,
          2010,
          2011,
          2012,
          2013,
          2014,
          2015,
          2016,
          2017,
          2018,
          2019,
          2020,
          2021,
          1990,
          1991,
          1992,
          1993,
          1994,
          1995,
          1996,
          1997,
          1998,
          1999,
          2000,
          2001,
          2002,
          2003,
          2004,
          2005,
          2006,
          2007,
          2008,
          2009,
          2010,
          2011,
          2012,
          2013,
          2014,
          2015,
          2016,
          2017,
          2018,
          2019,
          2020,
          2021,
          1990,
          1991,
          1992,
          1993,
          1994,
          1995,
          1996,
          1997,
          1998,
          1999,
          2000,
          2001,
          2002,
          2003,
          2004,
          2005,
          2006,
          2007,
          2008,
          2009,
          2010,
          2011,
          2012,
          2013,
          2014,
          2015,
          2016,
          2017,
          2018,
          2019,
          2020,
          2021,
          1990,
          1991,
          1992,
          1993,
          1994,
          1995,
          1996,
          1997,
          1998,
          1999,
          2000,
          2001,
          2002,
          2003,
          2004,
          2005,
          2006,
          2007,
          2008,
          2009,
          2010,
          2011,
          2012,
          2013,
          2014,
          2015,
          2016,
          2017,
          2018,
          2019,
          2020,
          2021,
          1990,
          1991,
          1992,
          1993,
          1994,
          1995,
          1996,
          1997,
          1998,
          1999,
          2000,
          2001,
          2002,
          2003,
          2004,
          2005,
          2006,
          2007,
          2008,
          2009,
          2010,
          2011,
          2012,
          2013,
          2014,
          2015,
          2016,
          2017,
          2018,
          2019,
          2020,
          2021
         ],
         "xaxis": "x",
         "y": [
          null,
          null,
          null,
          null,
          null,
          262088,
          null,
          null,
          318588,
          null,
          null,
          104534,
          366320,
          null,
          107829,
          null,
          null,
          125208,
          null,
          null,
          null,
          577647,
          249231,
          null,
          null,
          214381,
          485124,
          null,
          null,
          623180,
          null,
          null,
          null,
          null,
          null,
          null,
          null,
          null,
          null,
          null,
          null,
          null,
          null,
          null,
          null,
          null,
          null,
          null,
          null,
          null,
          null,
          null,
          null,
          null,
          null,
          null,
          133100,
          null,
          null,
          952175,
          378769,
          null,
          null,
          null,
          null,
          null,
          125260,
          null,
          690386,
          null,
          null,
          null,
          104368,
          null,
          null,
          null,
          null,
          null,
          null,
          null,
          null,
          null,
          null,
          null,
          null,
          null,
          null,
          315693,
          null,
          null,
          null,
          null,
          null,
          null,
          null,
          null,
          null,
          null,
          null,
          126625,
          1774802,
          2447100,
          null,
          null,
          399751,
          371064,
          null,
          null,
          null,
          null,
          null,
          null,
          null,
          null,
          null,
          null,
          null,
          null,
          null,
          null,
          1891273,
          null,
          null,
          476126,
          null,
          null,
          null,
          null,
          null,
          null,
          null,
          null,
          null,
          113152,
          null,
          null,
          null,
          null,
          null,
          null,
          null,
          null,
          null,
          null,
          null,
          null,
          null,
          null,
          null,
          253000,
          null,
          null,
          null,
          null,
          null,
          null,
          null,
          null,
          null,
          null,
          null,
          null,
          null,
          null,
          null,
          null,
          null,
          null,
          null,
          null,
          null,
          null,
          null,
          null,
          null,
          null,
          null,
          null,
          null,
          null,
          null,
          null,
          null,
          null,
          null,
          null,
          null,
          null,
          null,
          null,
          null,
          null,
          null,
          151000,
          null,
          null,
          null,
          125000,
          null,
          null,
          101457,
          null,
          null,
          null,
          226614,
          null,
          null,
          null,
          null,
          null,
          null,
          null,
          107004,
          null,
          null,
          1353437,
          null,
          null,
          null,
          null,
          null,
          null,
          null,
          null,
          null,
          null,
          null,
          301715,
          301344,
          593500,
          null,
          null,
          261000,
          null,
          null,
          null,
          151126,
          null,
          null,
          null,
          526674,
          null,
          137175,
          null,
          879816,
          null,
          null,
          122450,
          null,
          937037,
          null,
          123013,
          null,
          null,
          null,
          null,
          null,
          null,
          null,
          null,
          null,
          null,
          null,
          null,
          null,
          null,
          null,
          null,
          null,
          null,
          416803,
          null,
          null,
          null,
          null,
          null,
          null,
          null,
          null,
          null,
          null,
          null,
          null,
          null,
          null,
          111180,
          null,
          null
         ],
         "yaxis": "y"
        }
       ],
       "layout": {
        "height": 1000,
        "legend": {
         "title": {
          "text": "Fire size class"
         },
         "tracegroupgap": 0
        },
        "margin": {
         "t": 60
        },
        "plot_bgcolor": "#303030",
        "template": {
         "data": {
          "bar": [
           {
            "error_x": {
             "color": "#2a3f5f"
            },
            "error_y": {
             "color": "#2a3f5f"
            },
            "marker": {
             "line": {
              "color": "#E5ECF6",
              "width": 0.5
             },
             "pattern": {
              "fillmode": "overlay",
              "size": 10,
              "solidity": 0.2
             }
            },
            "type": "bar"
           }
          ],
          "barpolar": [
           {
            "marker": {
             "line": {
              "color": "#E5ECF6",
              "width": 0.5
             },
             "pattern": {
              "fillmode": "overlay",
              "size": 10,
              "solidity": 0.2
             }
            },
            "type": "barpolar"
           }
          ],
          "carpet": [
           {
            "aaxis": {
             "endlinecolor": "#2a3f5f",
             "gridcolor": "white",
             "linecolor": "white",
             "minorgridcolor": "white",
             "startlinecolor": "#2a3f5f"
            },
            "baxis": {
             "endlinecolor": "#2a3f5f",
             "gridcolor": "white",
             "linecolor": "white",
             "minorgridcolor": "white",
             "startlinecolor": "#2a3f5f"
            },
            "type": "carpet"
           }
          ],
          "choropleth": [
           {
            "colorbar": {
             "outlinewidth": 0,
             "ticks": ""
            },
            "type": "choropleth"
           }
          ],
          "contour": [
           {
            "colorbar": {
             "outlinewidth": 0,
             "ticks": ""
            },
            "colorscale": [
             [
              0,
              "#0d0887"
             ],
             [
              0.1111111111111111,
              "#46039f"
             ],
             [
              0.2222222222222222,
              "#7201a8"
             ],
             [
              0.3333333333333333,
              "#9c179e"
             ],
             [
              0.4444444444444444,
              "#bd3786"
             ],
             [
              0.5555555555555556,
              "#d8576b"
             ],
             [
              0.6666666666666666,
              "#ed7953"
             ],
             [
              0.7777777777777778,
              "#fb9f3a"
             ],
             [
              0.8888888888888888,
              "#fdca26"
             ],
             [
              1,
              "#f0f921"
             ]
            ],
            "type": "contour"
           }
          ],
          "contourcarpet": [
           {
            "colorbar": {
             "outlinewidth": 0,
             "ticks": ""
            },
            "type": "contourcarpet"
           }
          ],
          "heatmap": [
           {
            "colorbar": {
             "outlinewidth": 0,
             "ticks": ""
            },
            "colorscale": [
             [
              0,
              "#0d0887"
             ],
             [
              0.1111111111111111,
              "#46039f"
             ],
             [
              0.2222222222222222,
              "#7201a8"
             ],
             [
              0.3333333333333333,
              "#9c179e"
             ],
             [
              0.4444444444444444,
              "#bd3786"
             ],
             [
              0.5555555555555556,
              "#d8576b"
             ],
             [
              0.6666666666666666,
              "#ed7953"
             ],
             [
              0.7777777777777778,
              "#fb9f3a"
             ],
             [
              0.8888888888888888,
              "#fdca26"
             ],
             [
              1,
              "#f0f921"
             ]
            ],
            "type": "heatmap"
           }
          ],
          "heatmapgl": [
           {
            "colorbar": {
             "outlinewidth": 0,
             "ticks": ""
            },
            "colorscale": [
             [
              0,
              "#0d0887"
             ],
             [
              0.1111111111111111,
              "#46039f"
             ],
             [
              0.2222222222222222,
              "#7201a8"
             ],
             [
              0.3333333333333333,
              "#9c179e"
             ],
             [
              0.4444444444444444,
              "#bd3786"
             ],
             [
              0.5555555555555556,
              "#d8576b"
             ],
             [
              0.6666666666666666,
              "#ed7953"
             ],
             [
              0.7777777777777778,
              "#fb9f3a"
             ],
             [
              0.8888888888888888,
              "#fdca26"
             ],
             [
              1,
              "#f0f921"
             ]
            ],
            "type": "heatmapgl"
           }
          ],
          "histogram": [
           {
            "marker": {
             "pattern": {
              "fillmode": "overlay",
              "size": 10,
              "solidity": 0.2
             }
            },
            "type": "histogram"
           }
          ],
          "histogram2d": [
           {
            "colorbar": {
             "outlinewidth": 0,
             "ticks": ""
            },
            "colorscale": [
             [
              0,
              "#0d0887"
             ],
             [
              0.1111111111111111,
              "#46039f"
             ],
             [
              0.2222222222222222,
              "#7201a8"
             ],
             [
              0.3333333333333333,
              "#9c179e"
             ],
             [
              0.4444444444444444,
              "#bd3786"
             ],
             [
              0.5555555555555556,
              "#d8576b"
             ],
             [
              0.6666666666666666,
              "#ed7953"
             ],
             [
              0.7777777777777778,
              "#fb9f3a"
             ],
             [
              0.8888888888888888,
              "#fdca26"
             ],
             [
              1,
              "#f0f921"
             ]
            ],
            "type": "histogram2d"
           }
          ],
          "histogram2dcontour": [
           {
            "colorbar": {
             "outlinewidth": 0,
             "ticks": ""
            },
            "colorscale": [
             [
              0,
              "#0d0887"
             ],
             [
              0.1111111111111111,
              "#46039f"
             ],
             [
              0.2222222222222222,
              "#7201a8"
             ],
             [
              0.3333333333333333,
              "#9c179e"
             ],
             [
              0.4444444444444444,
              "#bd3786"
             ],
             [
              0.5555555555555556,
              "#d8576b"
             ],
             [
              0.6666666666666666,
              "#ed7953"
             ],
             [
              0.7777777777777778,
              "#fb9f3a"
             ],
             [
              0.8888888888888888,
              "#fdca26"
             ],
             [
              1,
              "#f0f921"
             ]
            ],
            "type": "histogram2dcontour"
           }
          ],
          "mesh3d": [
           {
            "colorbar": {
             "outlinewidth": 0,
             "ticks": ""
            },
            "type": "mesh3d"
           }
          ],
          "parcoords": [
           {
            "line": {
             "colorbar": {
              "outlinewidth": 0,
              "ticks": ""
             }
            },
            "type": "parcoords"
           }
          ],
          "pie": [
           {
            "automargin": true,
            "type": "pie"
           }
          ],
          "scatter": [
           {
            "fillpattern": {
             "fillmode": "overlay",
             "size": 10,
             "solidity": 0.2
            },
            "type": "scatter"
           }
          ],
          "scatter3d": [
           {
            "line": {
             "colorbar": {
              "outlinewidth": 0,
              "ticks": ""
             }
            },
            "marker": {
             "colorbar": {
              "outlinewidth": 0,
              "ticks": ""
             }
            },
            "type": "scatter3d"
           }
          ],
          "scattercarpet": [
           {
            "marker": {
             "colorbar": {
              "outlinewidth": 0,
              "ticks": ""
             }
            },
            "type": "scattercarpet"
           }
          ],
          "scattergeo": [
           {
            "marker": {
             "colorbar": {
              "outlinewidth": 0,
              "ticks": ""
             }
            },
            "type": "scattergeo"
           }
          ],
          "scattergl": [
           {
            "marker": {
             "colorbar": {
              "outlinewidth": 0,
              "ticks": ""
             }
            },
            "type": "scattergl"
           }
          ],
          "scattermapbox": [
           {
            "marker": {
             "colorbar": {
              "outlinewidth": 0,
              "ticks": ""
             }
            },
            "type": "scattermapbox"
           }
          ],
          "scatterpolar": [
           {
            "marker": {
             "colorbar": {
              "outlinewidth": 0,
              "ticks": ""
             }
            },
            "type": "scatterpolar"
           }
          ],
          "scatterpolargl": [
           {
            "marker": {
             "colorbar": {
              "outlinewidth": 0,
              "ticks": ""
             }
            },
            "type": "scatterpolargl"
           }
          ],
          "scatterternary": [
           {
            "marker": {
             "colorbar": {
              "outlinewidth": 0,
              "ticks": ""
             }
            },
            "type": "scatterternary"
           }
          ],
          "surface": [
           {
            "colorbar": {
             "outlinewidth": 0,
             "ticks": ""
            },
            "colorscale": [
             [
              0,
              "#0d0887"
             ],
             [
              0.1111111111111111,
              "#46039f"
             ],
             [
              0.2222222222222222,
              "#7201a8"
             ],
             [
              0.3333333333333333,
              "#9c179e"
             ],
             [
              0.4444444444444444,
              "#bd3786"
             ],
             [
              0.5555555555555556,
              "#d8576b"
             ],
             [
              0.6666666666666666,
              "#ed7953"
             ],
             [
              0.7777777777777778,
              "#fb9f3a"
             ],
             [
              0.8888888888888888,
              "#fdca26"
             ],
             [
              1,
              "#f0f921"
             ]
            ],
            "type": "surface"
           }
          ],
          "table": [
           {
            "cells": {
             "fill": {
              "color": "#EBF0F8"
             },
             "line": {
              "color": "white"
             }
            },
            "header": {
             "fill": {
              "color": "#C8D4E3"
             },
             "line": {
              "color": "white"
             }
            },
            "type": "table"
           }
          ]
         },
         "layout": {
          "annotationdefaults": {
           "arrowcolor": "#2a3f5f",
           "arrowhead": 0,
           "arrowwidth": 1
          },
          "autotypenumbers": "strict",
          "coloraxis": {
           "colorbar": {
            "outlinewidth": 0,
            "ticks": ""
           }
          },
          "colorscale": {
           "diverging": [
            [
             0,
             "#8e0152"
            ],
            [
             0.1,
             "#c51b7d"
            ],
            [
             0.2,
             "#de77ae"
            ],
            [
             0.3,
             "#f1b6da"
            ],
            [
             0.4,
             "#fde0ef"
            ],
            [
             0.5,
             "#f7f7f7"
            ],
            [
             0.6,
             "#e6f5d0"
            ],
            [
             0.7,
             "#b8e186"
            ],
            [
             0.8,
             "#7fbc41"
            ],
            [
             0.9,
             "#4d9221"
            ],
            [
             1,
             "#276419"
            ]
           ],
           "sequential": [
            [
             0,
             "#0d0887"
            ],
            [
             0.1111111111111111,
             "#46039f"
            ],
            [
             0.2222222222222222,
             "#7201a8"
            ],
            [
             0.3333333333333333,
             "#9c179e"
            ],
            [
             0.4444444444444444,
             "#bd3786"
            ],
            [
             0.5555555555555556,
             "#d8576b"
            ],
            [
             0.6666666666666666,
             "#ed7953"
            ],
            [
             0.7777777777777778,
             "#fb9f3a"
            ],
            [
             0.8888888888888888,
             "#fdca26"
            ],
            [
             1,
             "#f0f921"
            ]
           ],
           "sequentialminus": [
            [
             0,
             "#0d0887"
            ],
            [
             0.1111111111111111,
             "#46039f"
            ],
            [
             0.2222222222222222,
             "#7201a8"
            ],
            [
             0.3333333333333333,
             "#9c179e"
            ],
            [
             0.4444444444444444,
             "#bd3786"
            ],
            [
             0.5555555555555556,
             "#d8576b"
            ],
            [
             0.6666666666666666,
             "#ed7953"
            ],
            [
             0.7777777777777778,
             "#fb9f3a"
            ],
            [
             0.8888888888888888,
             "#fdca26"
            ],
            [
             1,
             "#f0f921"
            ]
           ]
          },
          "colorway": [
           "#636efa",
           "#EF553B",
           "#00cc96",
           "#ab63fa",
           "#FFA15A",
           "#19d3f3",
           "#FF6692",
           "#B6E880",
           "#FF97FF",
           "#FECB52"
          ],
          "font": {
           "color": "#2a3f5f"
          },
          "geo": {
           "bgcolor": "white",
           "lakecolor": "white",
           "landcolor": "#E5ECF6",
           "showlakes": true,
           "showland": true,
           "subunitcolor": "white"
          },
          "hoverlabel": {
           "align": "left"
          },
          "hovermode": "closest",
          "mapbox": {
           "style": "light"
          },
          "paper_bgcolor": "white",
          "plot_bgcolor": "#E5ECF6",
          "polar": {
           "angularaxis": {
            "gridcolor": "white",
            "linecolor": "white",
            "ticks": ""
           },
           "bgcolor": "#E5ECF6",
           "radialaxis": {
            "gridcolor": "white",
            "linecolor": "white",
            "ticks": ""
           }
          },
          "scene": {
           "xaxis": {
            "backgroundcolor": "#E5ECF6",
            "gridcolor": "white",
            "gridwidth": 2,
            "linecolor": "white",
            "showbackground": true,
            "ticks": "",
            "zerolinecolor": "white"
           },
           "yaxis": {
            "backgroundcolor": "#E5ECF6",
            "gridcolor": "white",
            "gridwidth": 2,
            "linecolor": "white",
            "showbackground": true,
            "ticks": "",
            "zerolinecolor": "white"
           },
           "zaxis": {
            "backgroundcolor": "#E5ECF6",
            "gridcolor": "white",
            "gridwidth": 2,
            "linecolor": "white",
            "showbackground": true,
            "ticks": "",
            "zerolinecolor": "white"
           }
          },
          "shapedefaults": {
           "line": {
            "color": "#2a3f5f"
           }
          },
          "ternary": {
           "aaxis": {
            "gridcolor": "white",
            "linecolor": "white",
            "ticks": ""
           },
           "baxis": {
            "gridcolor": "white",
            "linecolor": "white",
            "ticks": ""
           },
           "bgcolor": "#E5ECF6",
           "caxis": {
            "gridcolor": "white",
            "linecolor": "white",
            "ticks": ""
           }
          },
          "title": {
           "x": 0.05
          },
          "xaxis": {
           "automargin": true,
           "gridcolor": "white",
           "linecolor": "white",
           "ticks": "",
           "title": {
            "standoff": 15
           },
           "zerolinecolor": "white",
           "zerolinewidth": 2
          },
          "yaxis": {
           "automargin": true,
           "gridcolor": "white",
           "linecolor": "white",
           "ticks": "",
           "title": {
            "standoff": 15
           },
           "zerolinecolor": "white",
           "zerolinewidth": 2
          }
         }
        },
        "xaxis": {
         "anchor": "y",
         "domain": [
          0,
          1
         ],
         "title": {
          "text": "Year"
         }
        },
        "yaxis": {
         "anchor": "x",
         "domain": [
          0,
          1
         ],
         "title": {
          "text": "Highest Value (in Hectares)"
         }
        }
       }
      }
     },
     "metadata": {},
     "output_type": "display_data"
    }
   ],
   "source": [
    "columns_to_check = range(1990, 2022) \n",
    "\n",
    "max_values = {}\n",
    "corresponding_rows = {}\n",
    "\n",
    "for column in columns_to_check:\n",
    "    if column in areabyclass.columns:\n",
    "        max_values[column] = areabyclass[column].max()\n",
    "        corresponding_rows[column] = areabyclass.loc[areabyclass[column] == max_values[column]]\n",
    "\n",
    "# Find the maximum value for each year\n",
    "max_values = areabyclass.loc[:, 1990:2021].max()\n",
    "\n",
    "# Find the corresponding rows with the maximum values\n",
    "corresponding_rows = areabyclass.loc[areabyclass.isin(max_values.values).any(axis=1)]\n",
    "corresponding_rows = corresponding_rows.reset_index()\n",
    "\n",
    "# Reshape the data to have columns for Year, Jurisdiction, Fire size class\n",
    "corresponding_rows = corresponding_rows.melt(id_vars='index', value_vars=list(max_values.index),\n",
    "                                             var_name='Year', value_name='MaxValue')\n",
    "\n",
    "# Merge with areabyclass to get Jurisdiction and Fire size class\n",
    "corresponding_rows = pd.merge(corresponding_rows, areabyclass[['Jurisdiction', 'Fire size class']], left_on='index', right_index=True)\n",
    "corresponding_rows = corresponding_rows[['Year', 'MaxValue', 'Jurisdiction', 'Fire size class']]\n",
    "\n",
    "fig = px.scatter(corresponding_rows, x='Year', y='MaxValue',\n",
    "                 hover_data={'Year': True, 'Jurisdiction': True, 'Fire size class': True}, color='Fire size class')\n",
    "\n",
    "fig.update_layout(xaxis_title='Year', yaxis_title='Highest Value (in Hectares)', height=1000, plot_bgcolor='#303030').show()"
   ]
  },
  {
   "cell_type": "code",
   "execution_count": 123,
   "metadata": {},
   "outputs": [
    {
     "data": {
      "application/vnd.plotly.v1+json": {
       "config": {
        "plotlyServerURL": "https://plot.ly"
       },
       "data": [
        {
         "name": "1990",
         "type": "bar",
         "x": [
          "January",
          "February",
          "March",
          "April",
          "May",
          "June",
          "July",
          "August",
          "September",
          "October",
          "November",
          "December"
         ],
         "xaxis": "x",
         "y": [
          1,
          5,
          8,
          26,
          114,
          214,
          446,
          381,
          117,
          34,
          16,
          4
         ],
         "yaxis": "y"
        },
        {
         "name": "1991",
         "type": "bar",
         "x": [
          "January",
          "February",
          "March",
          "April",
          "May",
          "June",
          "July",
          "August",
          "September",
          "October",
          "November",
          "December"
         ],
         "xaxis": "x",
         "y": [
          9,
          4,
          8,
          111,
          201,
          114,
          125,
          239,
          54,
          66,
          6,
          7
         ],
         "yaxis": "y"
        },
        {
         "name": "1992",
         "type": "bar",
         "x": [
          "January",
          "February",
          "March",
          "April",
          "May",
          "June",
          "July",
          "August",
          "September",
          "October",
          "November",
          "December"
         ],
         "xaxis": "x",
         "y": [
          14,
          11,
          61,
          110,
          91,
          147,
          226,
          339,
          14,
          29,
          15,
          4
         ],
         "yaxis": "y"
        },
        {
         "name": "1993",
         "type": "bar",
         "x": [
          "January",
          "February",
          "March",
          "April",
          "May",
          "June",
          "July",
          "August",
          "September",
          "October",
          "November",
          "December"
         ],
         "xaxis": "x",
         "y": [
          8,
          12,
          29,
          52,
          242,
          342,
          112,
          35,
          17,
          19,
          7,
          1
         ],
         "yaxis": "y"
        },
        {
         "name": "1994",
         "type": "bar",
         "x": [
          "January",
          "February",
          "March",
          "April",
          "May",
          "June",
          "July",
          "August",
          "September",
          "October",
          "November",
          "December"
         ],
         "xaxis": "x",
         "y": [
          4,
          null,
          12,
          64,
          132,
          231,
          223,
          118,
          83,
          25,
          30,
          9
         ],
         "yaxis": "y"
        },
        {
         "name": "1995",
         "type": "bar",
         "x": [
          "January",
          "February",
          "March",
          "April",
          "May",
          "June",
          "July",
          "August",
          "September",
          "October",
          "November",
          "December"
         ],
         "xaxis": "x",
         "y": [
          10,
          6,
          29,
          57,
          215,
          272,
          97,
          26,
          58,
          33,
          5,
          null
         ],
         "yaxis": "y"
        },
        {
         "name": "1996",
         "type": "bar",
         "x": [
          "January",
          "February",
          "March",
          "April",
          "May",
          "June",
          "July",
          "August",
          "September",
          "October",
          "November",
          "December"
         ],
         "xaxis": "x",
         "y": [
          1,
          null,
          1,
          26,
          56,
          124,
          89,
          76,
          14,
          7,
          2,
          2
         ],
         "yaxis": "y"
        },
        {
         "name": "1997",
         "type": "bar",
         "x": [
          "January",
          "February",
          "March",
          "April",
          "May",
          "June",
          "July",
          "August",
          "September",
          "October",
          "November",
          "December"
         ],
         "xaxis": "x",
         "y": [
          1,
          null,
          4,
          24,
          120,
          34,
          148,
          79,
          17,
          3,
          1,
          32
         ],
         "yaxis": "y"
        },
        {
         "name": "1998",
         "type": "bar",
         "x": [
          "January",
          "February",
          "March",
          "April",
          "May",
          "June",
          "July",
          "August",
          "September",
          "October",
          "November",
          "December"
         ],
         "xaxis": "x",
         "y": [
          null,
          null,
          2,
          152,
          412,
          273,
          196,
          540,
          84,
          60,
          10,
          9
         ],
         "yaxis": "y"
        },
        {
         "name": "1999",
         "type": "bar",
         "x": [
          "January",
          "February",
          "March",
          "April",
          "May",
          "June",
          "July",
          "August",
          "September",
          "October",
          "November",
          "December"
         ],
         "xaxis": "x",
         "y": [
          4,
          null,
          6,
          133,
          121,
          213,
          280,
          427,
          46,
          84,
          29,
          28
         ],
         "yaxis": "y"
        },
        {
         "name": "2000",
         "type": "bar",
         "x": [
          "January",
          "February",
          "March",
          "April",
          "May",
          "June",
          "July",
          "August",
          "September",
          "October",
          "November",
          "December"
         ],
         "xaxis": "x",
         "y": [
          9,
          8,
          30,
          139,
          112,
          261,
          197,
          74,
          12,
          16,
          5,
          1
         ],
         "yaxis": "y"
        },
        {
         "name": "2001",
         "type": "bar",
         "x": [
          "January",
          "February",
          "March",
          "April",
          "May",
          "June",
          "July",
          "August",
          "September",
          "October",
          "November",
          "December"
         ],
         "xaxis": "x",
         "y": [
          4,
          2,
          28,
          79,
          292,
          184,
          201,
          91,
          55,
          56,
          22,
          10
         ],
         "yaxis": "y"
        },
        {
         "name": "2002",
         "type": "bar",
         "x": [
          "January",
          "February",
          "March",
          "April",
          "May",
          "June",
          "July",
          "August",
          "September",
          "October",
          "November",
          "December"
         ],
         "xaxis": "x",
         "y": [
          10,
          4,
          3,
          35,
          264,
          588,
          358,
          122,
          60,
          22,
          21,
          6
         ],
         "yaxis": "y"
        },
        {
         "name": "2003",
         "type": "bar",
         "x": [
          "January",
          "February",
          "March",
          "April",
          "May",
          "June",
          "July",
          "August",
          "September",
          "October",
          "November",
          "December"
         ],
         "xaxis": "x",
         "y": [
          14,
          4,
          1,
          34,
          267,
          215,
          328,
          257,
          59,
          57,
          14,
          7
         ],
         "yaxis": "y"
        },
        {
         "name": "2004",
         "type": "bar",
         "x": [
          "January",
          "February",
          "March",
          "April",
          "May",
          "June",
          "July",
          "August",
          "September",
          "October",
          "November",
          "December"
         ],
         "xaxis": "x",
         "y": [
          3,
          3,
          9,
          230,
          300,
          283,
          658,
          122,
          43,
          27,
          3,
          2
         ],
         "yaxis": "y"
        },
        {
         "name": "2005",
         "type": "bar",
         "x": [
          "January",
          "February",
          "March",
          "April",
          "May",
          "June",
          "July",
          "August",
          "September",
          "October",
          "November",
          "December"
         ],
         "xaxis": "x",
         "y": [
          4,
          8,
          4,
          205,
          443,
          283,
          250,
          89,
          65,
          35,
          30,
          9
         ],
         "yaxis": "y"
        },
        {
         "name": "2006",
         "type": "bar",
         "x": [
          "January",
          "February",
          "March",
          "April",
          "May",
          "June",
          "July",
          "August",
          "September",
          "October",
          "November",
          "December"
         ],
         "xaxis": "x",
         "y": [
          22,
          19,
          50,
          355,
          399,
          354,
          546,
          154,
          141,
          56,
          6,
          5
         ],
         "yaxis": "y"
        },
        {
         "name": "2007",
         "type": "bar",
         "x": [
          "January",
          "February",
          "March",
          "April",
          "May",
          "June",
          "July",
          "August",
          "September",
          "October",
          "November",
          "December"
         ],
         "xaxis": "x",
         "y": [
          6,
          3,
          9,
          129,
          238,
          264,
          410,
          163,
          66,
          59,
          26,
          5
         ],
         "yaxis": "y"
        },
        {
         "name": "2008",
         "type": "bar",
         "x": [
          "January",
          "February",
          "March",
          "April",
          "May",
          "June",
          "July",
          "August",
          "September",
          "October",
          "November",
          "December"
         ],
         "xaxis": "x",
         "y": [
          12,
          4,
          20,
          103,
          438,
          342,
          414,
          221,
          75,
          87,
          23,
          4
         ],
         "yaxis": "y"
        },
        {
         "name": "2009",
         "type": "bar",
         "x": [
          "January",
          "February",
          "March",
          "April",
          "May",
          "June",
          "July",
          "August",
          "September",
          "October",
          "November",
          "December"
         ],
         "xaxis": "x",
         "y": [
          8,
          11,
          5,
          127,
          493,
          454,
          170,
          179,
          174,
          45,
          17,
          10
         ],
         "yaxis": "y"
        },
        {
         "name": "2010",
         "type": "bar",
         "x": [
          "January",
          "February",
          "March",
          "April",
          "May",
          "June",
          "July",
          "August",
          "September",
          "October",
          "November",
          "December"
         ],
         "xaxis": "x",
         "y": [
          7,
          6,
          48,
          338,
          381,
          349,
          506,
          174,
          49,
          62,
          26,
          3
         ],
         "yaxis": "y"
        },
        {
         "name": "2011",
         "type": "bar",
         "x": [
          "January",
          "February",
          "March",
          "April",
          "May",
          "June",
          "July",
          "August",
          "September",
          "October",
          "November",
          "December"
         ],
         "xaxis": "x",
         "y": [
          2,
          null,
          1,
          140,
          405,
          115,
          174,
          160,
          135,
          44,
          29,
          3
         ],
         "yaxis": "y"
        },
        {
         "name": "2012",
         "type": "bar",
         "x": [
          "January",
          "February",
          "March",
          "April",
          "May",
          "June",
          "July",
          "August",
          "September",
          "October",
          "November",
          "December"
         ],
         "xaxis": "x",
         "y": [
          14,
          3,
          32,
          123,
          456,
          124,
          410,
          272,
          170,
          40,
          2,
          null
         ],
         "yaxis": "y"
        },
        {
         "name": "2013",
         "type": "bar",
         "x": [
          "January",
          "February",
          "March",
          "April",
          "May",
          "June",
          "July",
          "August",
          "September",
          "October",
          "November",
          "December"
         ],
         "xaxis": "x",
         "y": [
          1,
          3,
          9,
          37,
          529,
          132,
          211,
          180,
          135,
          26,
          15,
          1
         ],
         "yaxis": "y"
        },
        {
         "name": "2014",
         "type": "bar",
         "x": [
          "January",
          "February",
          "March",
          "April",
          "May",
          "June",
          "July",
          "August",
          "September",
          "October",
          "November",
          "December"
         ],
         "xaxis": "x",
         "y": [
          9,
          null,
          11,
          81,
          360,
          282,
          330,
          263,
          114,
          39,
          15,
          2
         ],
         "yaxis": "y"
        },
        {
         "name": "2015",
         "type": "bar",
         "x": [
          "January",
          "February",
          "March",
          "April",
          "May",
          "June",
          "July",
          "August",
          "September",
          "October",
          "November",
          "December"
         ],
         "xaxis": "x",
         "y": [
          2,
          4,
          32,
          277,
          505,
          504,
          318,
          162,
          55,
          62,
          23,
          8
         ],
         "yaxis": "y"
        },
        {
         "name": "2016",
         "type": "bar",
         "x": [
          "January",
          "February",
          "March",
          "April",
          "May",
          "June",
          "July",
          "August",
          "September",
          "October",
          "November",
          "December"
         ],
         "xaxis": "x",
         "y": [
          7,
          12,
          62,
          287,
          250,
          402,
          221,
          128,
          85,
          14,
          13,
          4
         ],
         "yaxis": "y"
        },
        {
         "name": "2017",
         "type": "bar",
         "x": [
          "January",
          "February",
          "March",
          "April",
          "May",
          "June",
          "July",
          "August",
          "September",
          "October",
          "November",
          "December"
         ],
         "xaxis": "x",
         "y": [
          4,
          4,
          14,
          101,
          348,
          176,
          285,
          264,
          77,
          49,
          5,
          3
         ],
         "yaxis": "y"
        },
        {
         "name": "2018",
         "type": "bar",
         "x": [
          "January",
          "February",
          "March",
          "April",
          "May",
          "June",
          "July",
          "August",
          "September",
          "October",
          "November",
          "December"
         ],
         "xaxis": "x",
         "y": [
          4,
          null,
          19,
          97,
          454,
          337,
          166,
          178,
          62,
          53,
          9,
          3
         ],
         "yaxis": "y"
        },
        {
         "name": "2019",
         "type": "bar",
         "x": [
          "January",
          "February",
          "March",
          "April",
          "May",
          "June",
          "July",
          "August",
          "September",
          "October",
          "November",
          "December"
         ],
         "xaxis": "x",
         "y": [
          17,
          1,
          34,
          188,
          315,
          180,
          219,
          78,
          30,
          17,
          1,
          1
         ],
         "yaxis": "y"
        },
        {
         "name": "2020",
         "type": "bar",
         "x": [
          "January",
          "February",
          "March",
          "April",
          "May",
          "June",
          "July",
          "August",
          "September",
          "October",
          "November",
          "December"
         ],
         "xaxis": "x",
         "y": [
          1,
          1,
          4,
          68,
          209,
          83,
          78,
          208,
          82,
          49,
          9,
          8
         ],
         "yaxis": "y"
        },
        {
         "name": "2021",
         "type": "bar",
         "x": [
          "January",
          "February",
          "March",
          "April",
          "May",
          "June",
          "July",
          "August",
          "September",
          "October",
          "November",
          "December"
         ],
         "xaxis": "x",
         "y": [
          null,
          null,
          null,
          null,
          null,
          null,
          null,
          null,
          null,
          null,
          null,
          null
         ],
         "yaxis": "y"
        },
        {
         "name": "1990",
         "type": "bar",
         "x": [
          "January",
          "February",
          "March",
          "April",
          "May",
          "June",
          "July",
          "August",
          "September",
          "October",
          "November",
          "December"
         ],
         "xaxis": "x2",
         "y": [
          null,
          3,
          35,
          147,
          235,
          95,
          775,
          1563,
          336,
          60,
          6,
          null
         ],
         "yaxis": "y2"
        },
        {
         "name": "1991",
         "type": "bar",
         "x": [
          "January",
          "February",
          "March",
          "April",
          "May",
          "June",
          "July",
          "August",
          "September",
          "October",
          "November",
          "December"
         ],
         "xaxis": "x2",
         "y": [
          2,
          5,
          25,
          204,
          193,
          291,
          296,
          573,
          172,
          248,
          5,
          null
         ],
         "yaxis": "y2"
        },
        {
         "name": "1992",
         "type": "bar",
         "x": [
          "January",
          "February",
          "March",
          "April",
          "May",
          "June",
          "July",
          "August",
          "September",
          "October",
          "November",
          "December"
         ],
         "xaxis": "x2",
         "y": [
          6,
          2,
          70,
          155,
          243,
          705,
          493,
          1803,
          197,
          126,
          4,
          1
         ],
         "yaxis": "y2"
        },
        {
         "name": "1993",
         "type": "bar",
         "x": [
          "January",
          "February",
          "March",
          "April",
          "May",
          "June",
          "July",
          "August",
          "September",
          "October",
          "November",
          "December"
         ],
         "xaxis": "x2",
         "y": [
          3,
          16,
          34,
          77,
          322,
          189,
          153,
          274,
          300,
          119,
          10,
          null
         ],
         "yaxis": "y2"
        },
        {
         "name": "1994",
         "type": "bar",
         "x": [
          "January",
          "February",
          "March",
          "April",
          "May",
          "June",
          "July",
          "August",
          "September",
          "October",
          "November",
          "December"
         ],
         "xaxis": "x2",
         "y": [
          6,
          2,
          66,
          142,
          212,
          172,
          1030,
          2118,
          238,
          70,
          1,
          null
         ],
         "yaxis": "y2"
        },
        {
         "name": "1995",
         "type": "bar",
         "x": [
          "January",
          "February",
          "March",
          "April",
          "May",
          "June",
          "July",
          "August",
          "September",
          "October",
          "November",
          "December"
         ],
         "xaxis": "x2",
         "y": [
          5,
          5,
          61,
          181,
          316,
          281,
          277,
          90,
          238,
          15,
          5,
          null
         ],
         "yaxis": "y2"
        },
        {
         "name": "1996",
         "type": "bar",
         "x": [
          "January",
          "February",
          "March",
          "April",
          "May",
          "June",
          "July",
          "August",
          "September",
          "October",
          "November",
          "December"
         ],
         "xaxis": "x2",
         "y": [
          5,
          3,
          31,
          60,
          82,
          155,
          452,
          489,
          64,
          16,
          1,
          2
         ],
         "yaxis": "y2"
        },
        {
         "name": "1997",
         "type": "bar",
         "x": [
          "January",
          "February",
          "March",
          "April",
          "May",
          "June",
          "July",
          "August",
          "September",
          "October",
          "November",
          "December"
         ],
         "xaxis": "x2",
         "y": [
          null,
          2,
          6,
          86,
          131,
          95,
          172,
          514,
          162,
          3,
          3,
          2
         ],
         "yaxis": "y2"
        },
        {
         "name": "1998",
         "type": "bar",
         "x": [
          "January",
          "February",
          "March",
          "April",
          "May",
          "June",
          "July",
          "August",
          "September",
          "October",
          "November",
          "December"
         ],
         "xaxis": "x2",
         "y": [
          3,
          3,
          24,
          148,
          259,
          143,
          674,
          870,
          473,
          44,
          4,
          null
         ],
         "yaxis": "y2"
        },
        {
         "name": "1999",
         "type": "bar",
         "x": [
          "January",
          "February",
          "March",
          "April",
          "May",
          "June",
          "July",
          "August",
          "September",
          "October",
          "November",
          "December"
         ],
         "xaxis": "x2",
         "y": [
          null,
          2,
          8,
          92,
          83,
          118,
          168,
          522,
          109,
          82,
          6,
          8
         ],
         "yaxis": "y2"
        },
        {
         "name": "2000",
         "type": "bar",
         "x": [
          "January",
          "February",
          "March",
          "April",
          "May",
          "June",
          "July",
          "August",
          "September",
          "October",
          "November",
          "December"
         ],
         "xaxis": "x2",
         "y": [
          null,
          3,
          17,
          157,
          82,
          129,
          399,
          618,
          86,
          51,
          8,
          1
         ],
         "yaxis": "y2"
        },
        {
         "name": "2001",
         "type": "bar",
         "x": [
          "January",
          "February",
          "March",
          "April",
          "May",
          "June",
          "July",
          "August",
          "September",
          "October",
          "November",
          "December"
         ],
         "xaxis": "x2",
         "y": [
          6,
          1,
          30,
          130,
          257,
          98,
          329,
          262,
          135,
          59,
          13,
          null
         ],
         "yaxis": "y2"
        },
        {
         "name": "2002",
         "type": "bar",
         "x": [
          "January",
          "February",
          "March",
          "April",
          "May",
          "June",
          "July",
          "August",
          "September",
          "October",
          "November",
          "December"
         ],
         "xaxis": "x2",
         "y": [
          3,
          3,
          5,
          140,
          161,
          245,
          410,
          596,
          108,
          86,
          32,
          6
         ],
         "yaxis": "y2"
        },
        {
         "name": "2003",
         "type": "bar",
         "x": [
          "January",
          "February",
          "March",
          "April",
          "May",
          "June",
          "July",
          "August",
          "September",
          "October",
          "November",
          "December"
         ],
         "xaxis": "x2",
         "y": [
          5,
          3,
          19,
          99,
          144,
          272,
          562,
          1132,
          198,
          40,
          16,
          null
         ],
         "yaxis": "y2"
        },
        {
         "name": "2004",
         "type": "bar",
         "x": [
          "January",
          "February",
          "March",
          "April",
          "May",
          "June",
          "July",
          "August",
          "September",
          "October",
          "November",
          "December"
         ],
         "xaxis": "x2",
         "y": [
          null,
          2,
          43,
          178,
          132,
          637,
          630,
          719,
          38,
          36,
          2,
          1
         ],
         "yaxis": "y2"
        },
        {
         "name": "2005",
         "type": "bar",
         "x": [
          "January",
          "February",
          "March",
          "April",
          "May",
          "June",
          "July",
          "August",
          "September",
          "October",
          "November",
          "December"
         ],
         "xaxis": "x2",
         "y": [
          2,
          9,
          15,
          116,
          275,
          90,
          146,
          254,
          84,
          8,
          7,
          null
         ],
         "yaxis": "y2"
        },
        {
         "name": "2006",
         "type": "bar",
         "x": [
          "January",
          "February",
          "March",
          "April",
          "May",
          "June",
          "July",
          "August",
          "September",
          "October",
          "November",
          "December"
         ],
         "xaxis": "x2",
         "y": [
          3,
          3,
          9,
          176,
          203,
          233,
          1086,
          507,
          285,
          80,
          2,
          null
         ],
         "yaxis": "y2"
        },
        {
         "name": "2007",
         "type": "bar",
         "x": [
          "January",
          "February",
          "March",
          "April",
          "May",
          "June",
          "July",
          "August",
          "September",
          "October",
          "November",
          "December"
         ],
         "xaxis": "x2",
         "y": [
          2,
          2,
          17,
          76,
          159,
          109,
          624,
          518,
          111,
          18,
          4,
          1
         ],
         "yaxis": "y2"
        },
        {
         "name": "2008",
         "type": "bar",
         "x": [
          "January",
          "February",
          "March",
          "April",
          "May",
          "June",
          "July",
          "August",
          "September",
          "October",
          "November",
          "December"
         ],
         "xaxis": "x2",
         "y": [
          1,
          2,
          13,
          117,
          161,
          170,
          596,
          780,
          122,
          66,
          7,
          3
         ],
         "yaxis": "y2"
        },
        {
         "name": "2009",
         "type": "bar",
         "x": [
          "January",
          "February",
          "March",
          "April",
          "May",
          "June",
          "July",
          "August",
          "September",
          "October",
          "November",
          "December"
         ],
         "xaxis": "x2",
         "y": [
          8,
          7,
          19,
          165,
          197,
          459,
          1191,
          632,
          337,
          49,
          5,
          2
         ],
         "yaxis": "y2"
        },
        {
         "name": "2010",
         "type": "bar",
         "x": [
          "January",
          "February",
          "March",
          "April",
          "May",
          "June",
          "July",
          "August",
          "September",
          "October",
          "November",
          "December"
         ],
         "xaxis": "x2",
         "y": [
          2,
          2,
          30,
          135,
          91,
          132,
          826,
          392,
          52,
          54,
          11,
          4
         ],
         "yaxis": "y2"
        },
        {
         "name": "2011",
         "type": "bar",
         "x": [
          "January",
          "February",
          "March",
          "April",
          "May",
          "June",
          "July",
          "August",
          "September",
          "October",
          "November",
          "December"
         ],
         "xaxis": "x2",
         "y": [
          2,
          2,
          9,
          48,
          67,
          68,
          115,
          223,
          107,
          37,
          6,
          null
         ],
         "yaxis": "y2"
        },
        {
         "name": "2012",
         "type": "bar",
         "x": [
          "January",
          "February",
          "March",
          "April",
          "May",
          "June",
          "July",
          "August",
          "September",
          "October",
          "November",
          "December"
         ],
         "xaxis": "x2",
         "y": [
          2,
          2,
          6,
          74,
          168,
          57,
          417,
          642,
          205,
          83,
          2,
          1
         ],
         "yaxis": "y2"
        },
        {
         "name": "2013",
         "type": "bar",
         "x": [
          "January",
          "February",
          "March",
          "April",
          "May",
          "June",
          "July",
          "August",
          "September",
          "October",
          "November",
          "December"
         ],
         "xaxis": "x2",
         "y": [
          1,
          null,
          21,
          85,
          128,
          101,
          367,
          999,
          131,
          43,
          1,
          2
         ],
         "yaxis": "y2"
        },
        {
         "name": "2014",
         "type": "bar",
         "x": [
          "January",
          "February",
          "March",
          "April",
          "May",
          "June",
          "July",
          "August",
          "September",
          "October",
          "November",
          "December"
         ],
         "xaxis": "x2",
         "y": [
          1,
          4,
          10,
          107,
          105,
          132,
          485,
          502,
          90,
          40,
          null,
          2
         ],
         "yaxis": "y2"
        },
        {
         "name": "2015",
         "type": "bar",
         "x": [
          "January",
          "February",
          "March",
          "April",
          "May",
          "June",
          "July",
          "August",
          "September",
          "October",
          "November",
          "December"
         ],
         "xaxis": "x2",
         "y": [
          null,
          2,
          31,
          82,
          309,
          443,
          538,
          404,
          31,
          27,
          3,
          1
         ],
         "yaxis": "y2"
        },
        {
         "name": "2016",
         "type": "bar",
         "x": [
          "January",
          "February",
          "March",
          "April",
          "May",
          "June",
          "July",
          "August",
          "September",
          "October",
          "November",
          "December"
         ],
         "xaxis": "x2",
         "y": [
          3,
          7,
          27,
          158,
          127,
          164,
          206,
          325,
          43,
          12,
          3,
          null
         ],
         "yaxis": "y2"
        },
        {
         "name": "2017",
         "type": "bar",
         "x": [
          "January",
          "February",
          "March",
          "April",
          "May",
          "June",
          "July",
          "August",
          "September",
          "October",
          "November",
          "December"
         ],
         "xaxis": "x2",
         "y": [
          1,
          2,
          10,
          40,
          91,
          145,
          622,
          306,
          115,
          64,
          4,
          null
         ],
         "yaxis": "y2"
        },
        {
         "name": "2018",
         "type": "bar",
         "x": [
          "January",
          "February",
          "March",
          "April",
          "May",
          "June",
          "July",
          "August",
          "September",
          "October",
          "November",
          "December"
         ],
         "xaxis": "x2",
         "y": [
          1,
          null,
          14,
          51,
          178,
          327,
          684,
          766,
          52,
          45,
          2,
          2
         ],
         "yaxis": "y2"
        },
        {
         "name": "2019",
         "type": "bar",
         "x": [
          "January",
          "February",
          "March",
          "April",
          "May",
          "June",
          "July",
          "August",
          "September",
          "October",
          "November",
          "December"
         ],
         "xaxis": "x2",
         "y": [
          null,
          1,
          27,
          87,
          135,
          194,
          155,
          126,
          95,
          16,
          7,
          null
         ],
         "yaxis": "y2"
        },
        {
         "name": "2020",
         "type": "bar",
         "x": [
          "January",
          "February",
          "March",
          "April",
          "May",
          "June",
          "July",
          "August",
          "September",
          "October",
          "November",
          "December"
         ],
         "xaxis": "x2",
         "y": [
          null,
          null,
          19,
          92,
          66,
          31,
          115,
          283,
          62,
          13,
          2,
          1
         ],
         "yaxis": "y2"
        },
        {
         "name": "2021",
         "type": "bar",
         "x": [
          "January",
          "February",
          "March",
          "April",
          "May",
          "June",
          "July",
          "August",
          "September",
          "October",
          "November",
          "December"
         ],
         "xaxis": "x2",
         "y": [
          null,
          null,
          null,
          null,
          null,
          null,
          null,
          null,
          null,
          null,
          null,
          null
         ],
         "yaxis": "y2"
        },
        {
         "name": "1990",
         "type": "bar",
         "x": [
          "January",
          "February",
          "March",
          "April",
          "May",
          "June",
          "July",
          "August",
          "September",
          "October",
          "November",
          "December"
         ],
         "xaxis": "x3",
         "y": [
          null,
          null,
          null,
          39,
          71,
          85,
          90,
          176,
          51,
          36,
          13,
          1
         ],
         "yaxis": "y3"
        },
        {
         "name": "1991",
         "type": "bar",
         "x": [
          "January",
          "February",
          "March",
          "April",
          "May",
          "June",
          "July",
          "August",
          "September",
          "October",
          "November",
          "December"
         ],
         "xaxis": "x3",
         "y": [
          5,
          3,
          12,
          109,
          75,
          77,
          142,
          222,
          21,
          6,
          null,
          null
         ],
         "yaxis": "y3"
        },
        {
         "name": "1992",
         "type": "bar",
         "x": [
          "January",
          "February",
          "March",
          "April",
          "May",
          "June",
          "July",
          "August",
          "September",
          "October",
          "November",
          "December"
         ],
         "xaxis": "x3",
         "y": [
          null,
          1,
          1,
          7,
          76,
          45,
          57,
          102,
          5,
          4,
          null,
          null
         ],
         "yaxis": "y3"
        },
        {
         "name": "1993",
         "type": "bar",
         "x": [
          "January",
          "February",
          "March",
          "April",
          "May",
          "June",
          "July",
          "August",
          "September",
          "October",
          "November",
          "December"
         ],
         "xaxis": "x3",
         "y": [
          null,
          null,
          2,
          39,
          67,
          97,
          24,
          6,
          3,
          1,
          null,
          null
         ],
         "yaxis": "y3"
        },
        {
         "name": "1994",
         "type": "bar",
         "x": [
          "January",
          "February",
          "March",
          "April",
          "May",
          "June",
          "July",
          "August",
          "September",
          "October",
          "November",
          "December"
         ],
         "xaxis": "x3",
         "y": [
          null,
          null,
          1,
          49,
          115,
          170,
          82,
          73,
          57,
          7,
          1,
          null
         ],
         "yaxis": "y3"
        },
        {
         "name": "1995",
         "type": "bar",
         "x": [
          "January",
          "February",
          "March",
          "April",
          "May",
          "June",
          "July",
          "August",
          "September",
          "October",
          "November",
          "December"
         ],
         "xaxis": "x3",
         "y": [
          null,
          null,
          null,
          13,
          154,
          344,
          90,
          28,
          12,
          21,
          null,
          null
         ],
         "yaxis": "y3"
        },
        {
         "name": "1996",
         "type": "bar",
         "x": [
          "January",
          "February",
          "March",
          "April",
          "May",
          "June",
          "July",
          "August",
          "September",
          "October",
          "November",
          "December"
         ],
         "xaxis": "x3",
         "y": [
          null,
          null,
          null,
          1,
          77,
          103,
          155,
          59,
          23,
          4,
          null,
          null
         ],
         "yaxis": "y3"
        },
        {
         "name": "1997",
         "type": "bar",
         "x": [
          "January",
          "February",
          "March",
          "April",
          "May",
          "June",
          "July",
          "August",
          "September",
          "October",
          "November",
          "December"
         ],
         "xaxis": "x3",
         "y": [
          null,
          null,
          null,
          8,
          83,
          87,
          102,
          83,
          8,
          1,
          null,
          null
         ],
         "yaxis": "y3"
        },
        {
         "name": "1998",
         "type": "bar",
         "x": [
          "January",
          "February",
          "March",
          "April",
          "May",
          "June",
          "July",
          "August",
          "September",
          "October",
          "November",
          "December"
         ],
         "xaxis": "x3",
         "y": [
          null,
          null,
          null,
          110,
          51,
          52,
          136,
          106,
          50,
          1,
          1,
          null
         ],
         "yaxis": "y3"
        },
        {
         "name": "1999",
         "type": "bar",
         "x": [
          "January",
          "February",
          "March",
          "April",
          "May",
          "June",
          "July",
          "August",
          "September",
          "October",
          "November",
          "December"
         ],
         "xaxis": "x3",
         "y": [
          2,
          null,
          null,
          133,
          104,
          115,
          125,
          112,
          17,
          5,
          null,
          null
         ],
         "yaxis": "y3"
        },
        {
         "name": "2000",
         "type": "bar",
         "x": [
          "January",
          "February",
          "March",
          "April",
          "May",
          "June",
          "July",
          "August",
          "September",
          "October",
          "November",
          "December"
         ],
         "xaxis": "x3",
         "y": [
          null,
          null,
          1,
          1,
          1,
          null,
          null,
          null,
          null,
          1,
          null,
          null
         ],
         "yaxis": "y3"
        },
        {
         "name": "2001",
         "type": "bar",
         "x": [
          "January",
          "February",
          "March",
          "April",
          "May",
          "June",
          "July",
          "August",
          "September",
          "October",
          "November",
          "December"
         ],
         "xaxis": "x3",
         "y": [
          null,
          null,
          null,
          1,
          3,
          null,
          null,
          null,
          1,
          1,
          null,
          null
         ],
         "yaxis": "y3"
        },
        {
         "name": "2002",
         "type": "bar",
         "x": [
          "January",
          "February",
          "March",
          "April",
          "May",
          "June",
          "July",
          "August",
          "September",
          "October",
          "November",
          "December"
         ],
         "xaxis": "x3",
         "y": [
          null,
          null,
          null,
          1,
          4,
          null,
          null,
          null,
          null,
          null,
          null,
          null
         ],
         "yaxis": "y3"
        },
        {
         "name": "2003",
         "type": "bar",
         "x": [
          "January",
          "February",
          "March",
          "April",
          "May",
          "June",
          "July",
          "August",
          "September",
          "October",
          "November",
          "December"
         ],
         "xaxis": "x3",
         "y": [
          null,
          null,
          null,
          1,
          null,
          null,
          null,
          1,
          null,
          null,
          null,
          null
         ],
         "yaxis": "y3"
        },
        {
         "name": "2004",
         "type": "bar",
         "x": [
          "January",
          "February",
          "March",
          "April",
          "May",
          "June",
          "July",
          "August",
          "September",
          "October",
          "November",
          "December"
         ],
         "xaxis": "x3",
         "y": [
          null,
          null,
          null,
          7,
          8,
          2,
          35,
          2,
          null,
          null,
          null,
          null
         ],
         "yaxis": "y3"
        },
        {
         "name": "2005",
         "type": "bar",
         "x": [
          "January",
          "February",
          "March",
          "April",
          "May",
          "June",
          "July",
          "August",
          "September",
          "October",
          "November",
          "December"
         ],
         "xaxis": "x3",
         "y": [
          null,
          null,
          null,
          34,
          32,
          22,
          140,
          21,
          2,
          3,
          null,
          null
         ],
         "yaxis": "y3"
        },
        {
         "name": "2006",
         "type": "bar",
         "x": [
          "January",
          "February",
          "March",
          "April",
          "May",
          "June",
          "July",
          "August",
          "September",
          "October",
          "November",
          "December"
         ],
         "xaxis": "x3",
         "y": [
          null,
          null,
          null,
          45,
          26,
          237,
          172,
          116,
          81,
          6,
          1,
          null
         ],
         "yaxis": "y3"
        },
        {
         "name": "2007",
         "type": "bar",
         "x": [
          "January",
          "February",
          "March",
          "April",
          "May",
          "June",
          "July",
          "August",
          "September",
          "October",
          "November",
          "December"
         ],
         "xaxis": "x3",
         "y": [
          null,
          null,
          null,
          38,
          53,
          71,
          161,
          50,
          9,
          1,
          null,
          null
         ],
         "yaxis": "y3"
        },
        {
         "name": "2008",
         "type": "bar",
         "x": [
          "January",
          "February",
          "March",
          "April",
          "May",
          "June",
          "July",
          "August",
          "September",
          "October",
          "November",
          "December"
         ],
         "xaxis": "x3",
         "y": [
          null,
          null,
          null,
          18,
          154,
          123,
          40,
          54,
          6,
          2,
          null,
          null
         ],
         "yaxis": "y3"
        },
        {
         "name": "2009",
         "type": "bar",
         "x": [
          "January",
          "February",
          "March",
          "April",
          "May",
          "June",
          "July",
          "August",
          "September",
          "October",
          "November",
          "December"
         ],
         "xaxis": "x3",
         "y": [
          null,
          null,
          null,
          2,
          35,
          72,
          21,
          11,
          26,
          17,
          1,
          null
         ],
         "yaxis": "y3"
        },
        {
         "name": "2010",
         "type": "bar",
         "x": [
          "January",
          "February",
          "March",
          "April",
          "May",
          "June",
          "July",
          "August",
          "September",
          "October",
          "November",
          "December"
         ],
         "xaxis": "x3",
         "y": [
          null,
          null,
          null,
          91,
          62,
          79,
          211,
          115,
          27,
          3,
          1,
          null
         ],
         "yaxis": "y3"
        },
        {
         "name": "2011",
         "type": "bar",
         "x": [
          "January",
          "February",
          "March",
          "April",
          "May",
          "June",
          "July",
          "August",
          "September",
          "October",
          "November",
          "December"
         ],
         "xaxis": "x3",
         "y": [
          null,
          null,
          null,
          6,
          39,
          38,
          106,
          82,
          19,
          27,
          6,
          null
         ],
         "yaxis": "y3"
        },
        {
         "name": "2012",
         "type": "bar",
         "x": [
          "January",
          "February",
          "March",
          "April",
          "May",
          "June",
          "July",
          "August",
          "September",
          "October",
          "November",
          "December"
         ],
         "xaxis": "x3",
         "y": [
          null,
          null,
          11,
          51,
          42,
          61,
          263,
          43,
          22,
          6,
          null,
          null
         ],
         "yaxis": "y3"
        },
        {
         "name": "2013",
         "type": "bar",
         "x": [
          "January",
          "February",
          "March",
          "April",
          "May",
          "June",
          "July",
          "August",
          "September",
          "October",
          "November",
          "December"
         ],
         "xaxis": "x3",
         "y": [
          null,
          null,
          null,
          3,
          71,
          106,
          169,
          103,
          43,
          null,
          1,
          null
         ],
         "yaxis": "y3"
        },
        {
         "name": "2014",
         "type": "bar",
         "x": [
          "January",
          "February",
          "March",
          "April",
          "May",
          "June",
          "July",
          "August",
          "September",
          "October",
          "November",
          "December"
         ],
         "xaxis": "x3",
         "y": [
          null,
          null,
          null,
          5,
          41,
          49,
          45,
          94,
          11,
          1,
          null,
          null
         ],
         "yaxis": "y3"
        },
        {
         "name": "2015",
         "type": "bar",
         "x": [
          "January",
          "February",
          "March",
          "April",
          "May",
          "June",
          "July",
          "August",
          "September",
          "October",
          "November",
          "December"
         ],
         "xaxis": "x3",
         "y": [
          null,
          null,
          2,
          50,
          75,
          151,
          169,
          13,
          1,
          2,
          null,
          null
         ],
         "yaxis": "y3"
        },
        {
         "name": "2016",
         "type": "bar",
         "x": [
          "January",
          "February",
          "March",
          "April",
          "May",
          "June",
          "July",
          "August",
          "September",
          "October",
          "November",
          "December"
         ],
         "xaxis": "x3",
         "y": [
          null,
          null,
          null,
          22,
          59,
          64,
          42,
          15,
          5,
          null,
          null,
          null
         ],
         "yaxis": "y3"
        },
        {
         "name": "2017",
         "type": "bar",
         "x": [
          "January",
          "February",
          "March",
          "April",
          "May",
          "June",
          "July",
          "August",
          "September",
          "October",
          "November",
          "December"
         ],
         "xaxis": "x3",
         "y": [
          null,
          null,
          null,
          8,
          43,
          27,
          142,
          298,
          33,
          15,
          null,
          null
         ],
         "yaxis": "y3"
        },
        {
         "name": "2018",
         "type": "bar",
         "x": [
          "January",
          "February",
          "March",
          "April",
          "May",
          "June",
          "July",
          "August",
          "September",
          "October",
          "November",
          "December"
         ],
         "xaxis": "x3",
         "y": [
          null,
          null,
          null,
          33,
          176,
          97,
          108,
          54,
          15,
          null,
          null,
          null
         ],
         "yaxis": "y3"
        },
        {
         "name": "2019",
         "type": "bar",
         "x": [
          "January",
          "February",
          "March",
          "April",
          "May",
          "June",
          "July",
          "August",
          "September",
          "October",
          "November",
          "December"
         ],
         "xaxis": "x3",
         "y": [
          null,
          null,
          null,
          21,
          81,
          60,
          86,
          35,
          1,
          null,
          null,
          null
         ],
         "yaxis": "y3"
        },
        {
         "name": "2020",
         "type": "bar",
         "x": [
          "January",
          "February",
          "March",
          "April",
          "May",
          "June",
          "July",
          "August",
          "September",
          "October",
          "November",
          "December"
         ],
         "xaxis": "x3",
         "y": [
          null,
          null,
          null,
          11,
          38,
          24,
          41,
          36,
          4,
          1,
          null,
          null
         ],
         "yaxis": "y3"
        },
        {
         "name": "2021",
         "type": "bar",
         "x": [
          "January",
          "February",
          "March",
          "April",
          "May",
          "June",
          "July",
          "August",
          "September",
          "October",
          "November",
          "December"
         ],
         "xaxis": "x3",
         "y": [
          null,
          null,
          null,
          null,
          null,
          null,
          null,
          null,
          null,
          null,
          null,
          null
         ],
         "yaxis": "y3"
        },
        {
         "name": "1990",
         "type": "bar",
         "x": [
          "March",
          "April",
          "May",
          "June",
          "July",
          "August",
          "September",
          "October",
          "November",
          "December"
         ],
         "xaxis": "x4",
         "y": [
          1,
          42,
          71,
          100,
          114,
          32,
          13,
          4,
          null,
          null
         ],
         "yaxis": "y4"
        },
        {
         "name": "1991",
         "type": "bar",
         "x": [
          "March",
          "April",
          "May",
          "June",
          "July",
          "August",
          "September",
          "October",
          "November",
          "December"
         ],
         "xaxis": "x4",
         "y": [
          null,
          91,
          154,
          150,
          141,
          92,
          20,
          7,
          1,
          null
         ],
         "yaxis": "y4"
        },
        {
         "name": "1992",
         "type": "bar",
         "x": [
          "March",
          "April",
          "May",
          "June",
          "July",
          "August",
          "September",
          "October",
          "November",
          "December"
         ],
         "xaxis": "x4",
         "y": [
          null,
          50,
          345,
          78,
          24,
          42,
          23,
          14,
          null,
          null
         ],
         "yaxis": "y4"
        },
        {
         "name": "1993",
         "type": "bar",
         "x": [
          "March",
          "April",
          "May",
          "June",
          "July",
          "August",
          "September",
          "October",
          "November",
          "December"
         ],
         "xaxis": "x4",
         "y": [
          null,
          60,
          195,
          40,
          32,
          72,
          28,
          3,
          null,
          null
         ],
         "yaxis": "y4"
        },
        {
         "name": "1994",
         "type": "bar",
         "x": [
          "March",
          "April",
          "May",
          "June",
          "July",
          "August",
          "September",
          "October",
          "November",
          "December"
         ],
         "xaxis": "x4",
         "y": [
          null,
          41,
          89,
          37,
          48,
          104,
          40,
          137,
          22,
          null
         ],
         "yaxis": "y4"
        },
        {
         "name": "1995",
         "type": "bar",
         "x": [
          "March",
          "April",
          "May",
          "June",
          "July",
          "August",
          "September",
          "October",
          "November",
          "December"
         ],
         "xaxis": "x4",
         "y": [
          null,
          28,
          71,
          116,
          89,
          156,
          74,
          11,
          2,
          null
         ],
         "yaxis": "y4"
        },
        {
         "name": "1996",
         "type": "bar",
         "x": [
          "March",
          "April",
          "May",
          "June",
          "July",
          "August",
          "September",
          "October",
          "November",
          "December"
         ],
         "xaxis": "x4",
         "y": [
          1,
          26,
          75,
          129,
          11,
          74,
          37,
          13,
          1,
          null
         ],
         "yaxis": "y4"
        },
        {
         "name": "1997",
         "type": "bar",
         "x": [
          "March",
          "April",
          "May",
          "June",
          "July",
          "August",
          "September",
          "October",
          "November",
          "December"
         ],
         "xaxis": "x4",
         "y": [
          null,
          16,
          72,
          68,
          77,
          75,
          13,
          45,
          2,
          null
         ],
         "yaxis": "y4"
        },
        {
         "name": "1998",
         "type": "bar",
         "x": [
          "March",
          "April",
          "May",
          "June",
          "July",
          "August",
          "September",
          "October",
          "November",
          "December"
         ],
         "xaxis": "x4",
         "y": [
          null,
          67,
          61,
          29,
          44,
          73,
          5,
          7,
          2,
          null
         ],
         "yaxis": "y4"
        },
        {
         "name": "1999",
         "type": "bar",
         "x": [
          "March",
          "April",
          "May",
          "June",
          "July",
          "August",
          "September",
          "October",
          "November",
          "December"
         ],
         "xaxis": "x4",
         "y": [
          null,
          55,
          180,
          210,
          80,
          40,
          31,
          3,
          7,
          1
         ],
         "yaxis": "y4"
        },
        {
         "name": "2000",
         "type": "bar",
         "x": [
          "March",
          "April",
          "May",
          "June",
          "July",
          "August",
          "September",
          "October",
          "November",
          "December"
         ],
         "xaxis": "x4",
         "y": [
          1,
          31,
          73,
          77,
          40,
          46,
          44,
          30,
          null,
          null
         ],
         "yaxis": "y4"
        },
        {
         "name": "2001",
         "type": "bar",
         "x": [
          "March",
          "April",
          "May",
          "June",
          "July",
          "August",
          "September",
          "October",
          "November",
          "December"
         ],
         "xaxis": "x4",
         "y": [
          null,
          36,
          169,
          43,
          47,
          116,
          53,
          29,
          3,
          null
         ],
         "yaxis": "y4"
        },
        {
         "name": "2002",
         "type": "bar",
         "x": [
          "March",
          "April",
          "May",
          "June",
          "July",
          "August",
          "September",
          "October",
          "November",
          "December"
         ],
         "xaxis": "x4",
         "y": [
          null,
          31,
          97,
          42,
          37,
          76,
          22,
          10,
          2,
          null
         ],
         "yaxis": "y4"
        },
        {
         "name": "2003",
         "type": "bar",
         "x": [
          "March",
          "April",
          "May",
          "June",
          "July",
          "August",
          "September",
          "October",
          "November",
          "December"
         ],
         "xaxis": "x4",
         "y": [
          null,
          18,
          89,
          38,
          29,
          26,
          27,
          3,
          null,
          null
         ],
         "yaxis": "y4"
        },
        {
         "name": "2004",
         "type": "bar",
         "x": [
          "March",
          "April",
          "May",
          "June",
          "July",
          "August",
          "September",
          "October",
          "November",
          "December"
         ],
         "xaxis": "x4",
         "y": [
          null,
          57,
          118,
          41,
          14,
          11,
          8,
          6,
          1,
          null
         ],
         "yaxis": "y4"
        },
        {
         "name": "2005",
         "type": "bar",
         "x": [
          "March",
          "April",
          "May",
          "June",
          "July",
          "August",
          "September",
          "October",
          "November",
          "December"
         ],
         "xaxis": "x4",
         "y": [
          null,
          137,
          41,
          39,
          29,
          49,
          12,
          1,
          1,
          null
         ],
         "yaxis": "y4"
        },
        {
         "name": "2006",
         "type": "bar",
         "x": [
          "March",
          "April",
          "May",
          "June",
          "July",
          "August",
          "September",
          "October",
          "November",
          "December"
         ],
         "xaxis": "x4",
         "y": [
          19,
          154,
          64,
          9,
          33,
          22,
          8,
          1,
          null,
          null
         ],
         "yaxis": "y4"
        },
        {
         "name": "2007",
         "type": "bar",
         "x": [
          "March",
          "April",
          "May",
          "June",
          "July",
          "August",
          "September",
          "October",
          "November",
          "December"
         ],
         "xaxis": "x4",
         "y": [
          1,
          68,
          130,
          31,
          21,
          33,
          15,
          17,
          2,
          null
         ],
         "yaxis": "y4"
        },
        {
         "name": "2008",
         "type": "bar",
         "x": [
          "March",
          "April",
          "May",
          "June",
          "July",
          "August",
          "September",
          "October",
          "November",
          "December"
         ],
         "xaxis": "x4",
         "y": [
          null,
          14,
          81,
          13,
          33,
          14,
          11,
          2,
          null,
          null
         ],
         "yaxis": "y4"
        },
        {
         "name": "2009",
         "type": "bar",
         "x": [
          "March",
          "April",
          "May",
          "June",
          "July",
          "August",
          "September",
          "October",
          "November",
          "December"
         ],
         "xaxis": "x4",
         "y": [
          null,
          54,
          88,
          11,
          3,
          18,
          17,
          3,
          3,
          null
         ],
         "yaxis": "y4"
        },
        {
         "name": "2010",
         "type": "bar",
         "x": [
          "March",
          "April",
          "May",
          "June",
          "July",
          "August",
          "September",
          "October",
          "November",
          "December"
         ],
         "xaxis": "x4",
         "y": [
          3,
          47,
          52,
          7,
          14,
          42,
          11,
          2,
          1,
          null
         ],
         "yaxis": "y4"
        },
        {
         "name": "2011",
         "type": "bar",
         "x": [
          "March",
          "April",
          "May",
          "June",
          "July",
          "August",
          "September",
          "October",
          "November",
          "December"
         ],
         "xaxis": "x4",
         "y": [
          null,
          23,
          25,
          7,
          11,
          1,
          null,
          null,
          null,
          null
         ],
         "yaxis": "y4"
        },
        {
         "name": "2012",
         "type": "bar",
         "x": [
          "March",
          "April",
          "May",
          "June",
          "July",
          "August",
          "September",
          "October",
          "November",
          "December"
         ],
         "xaxis": "x4",
         "y": [
          8,
          189,
          49,
          22,
          26,
          28,
          12,
          3,
          1,
          null
         ],
         "yaxis": "y4"
        },
        {
         "name": "2013",
         "type": "bar",
         "x": [
          "March",
          "April",
          "May",
          "June",
          "July",
          "August",
          "September",
          "October",
          "November",
          "December"
         ],
         "xaxis": "x4",
         "y": [
          3,
          176,
          123,
          7,
          34,
          7,
          null,
          3,
          null,
          null
         ],
         "yaxis": "y4"
        },
        {
         "name": "2014",
         "type": "bar",
         "x": [
          "March",
          "April",
          "May",
          "June",
          "July",
          "August",
          "September",
          "October",
          "November",
          "December"
         ],
         "xaxis": "x4",
         "y": [
          null,
          39,
          79,
          20,
          16,
          12,
          9,
          5,
          null,
          null
         ],
         "yaxis": "y4"
        },
        {
         "name": "2015",
         "type": "bar",
         "x": [
          "March",
          "April",
          "May",
          "June",
          "July",
          "August",
          "September",
          "October",
          "November",
          "December"
         ],
         "xaxis": "x4",
         "y": [
          null,
          3,
          165,
          3,
          22,
          11,
          15,
          3,
          null,
          null
         ],
         "yaxis": "y4"
        },
        {
         "name": "2016",
         "type": "bar",
         "x": [
          "March",
          "April",
          "May",
          "June",
          "July",
          "August",
          "September",
          "October",
          "November",
          "December"
         ],
         "xaxis": "x4",
         "y": [
          null,
          151,
          55,
          25,
          10,
          25,
          12,
          7,
          null,
          null
         ],
         "yaxis": "y4"
        },
        {
         "name": "2017",
         "type": "bar",
         "x": [
          "March",
          "April",
          "May",
          "June",
          "July",
          "August",
          "September",
          "October",
          "November",
          "December"
         ],
         "xaxis": "x4",
         "y": [
          null,
          16,
          25,
          16,
          39,
          79,
          35,
          33,
          2,
          null
         ],
         "yaxis": "y4"
        },
        {
         "name": "2018",
         "type": "bar",
         "x": [
          "March",
          "April",
          "May",
          "June",
          "July",
          "August",
          "September",
          "October",
          "November",
          "December"
         ],
         "xaxis": "x4",
         "y": [
          null,
          37,
          124,
          34,
          40,
          15,
          31,
          4,
          null,
          null
         ],
         "yaxis": "y4"
        },
        {
         "name": "2019",
         "type": "bar",
         "x": [
          "March",
          "April",
          "May",
          "June",
          "July",
          "August",
          "September",
          "October",
          "November",
          "December"
         ],
         "xaxis": "x4",
         "y": [
          null,
          12,
          88,
          19,
          21,
          32,
          5,
          6,
          null,
          null
         ],
         "yaxis": "y4"
        },
        {
         "name": "2020",
         "type": "bar",
         "x": [
          "March",
          "April",
          "May",
          "June",
          "July",
          "August",
          "September",
          "October",
          "November",
          "December"
         ],
         "xaxis": "x4",
         "y": [
          null,
          100,
          127,
          72,
          27,
          64,
          49,
          22,
          5,
          null
         ],
         "yaxis": "y4"
        },
        {
         "name": "2021",
         "type": "bar",
         "x": [
          "March",
          "April",
          "May",
          "June",
          "July",
          "August",
          "September",
          "October",
          "November",
          "December"
         ],
         "xaxis": "x4",
         "y": [
          null,
          null,
          null,
          null,
          null,
          null,
          null,
          null,
          null,
          null
         ],
         "yaxis": "y4"
        },
        {
         "name": "1990",
         "type": "bar",
         "x": [
          "January",
          "March",
          "April",
          "May",
          "June",
          "July",
          "August",
          "September",
          "October",
          "November",
          "December"
         ],
         "xaxis": "x5",
         "y": [
          null,
          2,
          5,
          19,
          36,
          29,
          30,
          41,
          3,
          null,
          null
         ],
         "yaxis": "y5"
        },
        {
         "name": "1991",
         "type": "bar",
         "x": [
          "January",
          "March",
          "April",
          "May",
          "June",
          "July",
          "August",
          "September",
          "October",
          "November",
          "December"
         ],
         "xaxis": "x5",
         "y": [
          null,
          null,
          4,
          29,
          38,
          12,
          32,
          null,
          null,
          null,
          null
         ],
         "yaxis": "y5"
        },
        {
         "name": "1992",
         "type": "bar",
         "x": [
          "January",
          "March",
          "April",
          "May",
          "June",
          "July",
          "August",
          "September",
          "October",
          "November",
          "December"
         ],
         "xaxis": "x5",
         "y": [
          null,
          null,
          2,
          47,
          15,
          13,
          26,
          3,
          null,
          null,
          null
         ],
         "yaxis": "y5"
        },
        {
         "name": "1993",
         "type": "bar",
         "x": [
          "January",
          "March",
          "April",
          "May",
          "June",
          "July",
          "August",
          "September",
          "October",
          "November",
          "December"
         ],
         "xaxis": "x5",
         "y": [
          null,
          null,
          1,
          13,
          24,
          5,
          13,
          5,
          4,
          null,
          null
         ],
         "yaxis": "y5"
        },
        {
         "name": "1994",
         "type": "bar",
         "x": [
          "January",
          "March",
          "April",
          "May",
          "June",
          "July",
          "August",
          "September",
          "October",
          "November",
          "December"
         ],
         "xaxis": "x5",
         "y": [
          null,
          null,
          3,
          15,
          35,
          35,
          35,
          5,
          1,
          null,
          null
         ],
         "yaxis": "y5"
        },
        {
         "name": "1995",
         "type": "bar",
         "x": [
          "January",
          "March",
          "April",
          "May",
          "June",
          "July",
          "August",
          "September",
          "October",
          "November",
          "December"
         ],
         "xaxis": "x5",
         "y": [
          null,
          null,
          3,
          23,
          20,
          14,
          23,
          3,
          null,
          null,
          null
         ],
         "yaxis": "y5"
        },
        {
         "name": "1996",
         "type": "bar",
         "x": [
          "January",
          "March",
          "April",
          "May",
          "June",
          "July",
          "August",
          "September",
          "October",
          "November",
          "December"
         ],
         "xaxis": "x5",
         "y": [
          null,
          null,
          13,
          23,
          12,
          4,
          48,
          9,
          2,
          null,
          null
         ],
         "yaxis": "y5"
        },
        {
         "name": "1997",
         "type": "bar",
         "x": [
          "January",
          "March",
          "April",
          "May",
          "June",
          "July",
          "August",
          "September",
          "October",
          "November",
          "December"
         ],
         "xaxis": "x5",
         "y": [
          null,
          null,
          null,
          15,
          25,
          26,
          11,
          1,
          null,
          null,
          null
         ],
         "yaxis": "y5"
        },
        {
         "name": "1998",
         "type": "bar",
         "x": [
          "January",
          "March",
          "April",
          "May",
          "June",
          "July",
          "August",
          "September",
          "October",
          "November",
          "December"
         ],
         "xaxis": "x5",
         "y": [
          null,
          null,
          1,
          94,
          55,
          11,
          18,
          null,
          1,
          null,
          null
         ],
         "yaxis": "y5"
        },
        {
         "name": "1999",
         "type": "bar",
         "x": [
          "January",
          "March",
          "April",
          "May",
          "June",
          "July",
          "August",
          "September",
          "October",
          "November",
          "December"
         ],
         "xaxis": "x5",
         "y": [
          null,
          5,
          10,
          66,
          66,
          20,
          10,
          10,
          1,
          null,
          null
         ],
         "yaxis": "y5"
        },
        {
         "name": "2000",
         "type": "bar",
         "x": [
          "January",
          "March",
          "April",
          "May",
          "June",
          "July",
          "August",
          "September",
          "October",
          "November",
          "December"
         ],
         "xaxis": "x5",
         "y": [
          null,
          null,
          14,
          34,
          44,
          9,
          15,
          7,
          1,
          null,
          null
         ],
         "yaxis": "y5"
        },
        {
         "name": "2001",
         "type": "bar",
         "x": [
          "January",
          "March",
          "April",
          "May",
          "June",
          "July",
          "August",
          "September",
          "October",
          "November",
          "December"
         ],
         "xaxis": "x5",
         "y": [
          1,
          null,
          null,
          30,
          36,
          34,
          63,
          10,
          5,
          null,
          1
         ],
         "yaxis": "y5"
        },
        {
         "name": "2002",
         "type": "bar",
         "x": [
          "January",
          "March",
          "April",
          "May",
          "June",
          "July",
          "August",
          "September",
          "October",
          "November",
          "December"
         ],
         "xaxis": "x5",
         "y": [
          null,
          null,
          5,
          30,
          24,
          13,
          14,
          6,
          1,
          null,
          null
         ],
         "yaxis": "y5"
        },
        {
         "name": "2003",
         "type": "bar",
         "x": [
          "January",
          "March",
          "April",
          "May",
          "June",
          "July",
          "August",
          "September",
          "October",
          "November",
          "December"
         ],
         "xaxis": "x5",
         "y": [
          null,
          null,
          2,
          32,
          45,
          6,
          16,
          21,
          3,
          1,
          null
         ],
         "yaxis": "y5"
        },
        {
         "name": "2004",
         "type": "bar",
         "x": [
          "January",
          "March",
          "April",
          "May",
          "June",
          "July",
          "August",
          "September",
          "October",
          "November",
          "December"
         ],
         "xaxis": "x5",
         "y": [
          null,
          null,
          1,
          66,
          16,
          14,
          23,
          3,
          1,
          null,
          null
         ],
         "yaxis": "y5"
        },
        {
         "name": "2005",
         "type": "bar",
         "x": [
          "January",
          "March",
          "April",
          "May",
          "June",
          "July",
          "August",
          "September",
          "October",
          "November",
          "December"
         ],
         "xaxis": "x5",
         "y": [
          null,
          null,
          6,
          34,
          31,
          23,
          14,
          7,
          null,
          null,
          null
         ],
         "yaxis": "y5"
        },
        {
         "name": "2006",
         "type": "bar",
         "x": [
          "January",
          "March",
          "April",
          "May",
          "June",
          "July",
          "August",
          "September",
          "October",
          "November",
          "December"
         ],
         "xaxis": "x5",
         "y": [
          null,
          null,
          6,
          33,
          5,
          9,
          7,
          3,
          null,
          null,
          null
         ],
         "yaxis": "y5"
        },
        {
         "name": "2007",
         "type": "bar",
         "x": [
          "January",
          "March",
          "April",
          "May",
          "June",
          "July",
          "August",
          "September",
          "October",
          "November",
          "December"
         ],
         "xaxis": "x5",
         "y": [
          null,
          null,
          2,
          19,
          17,
          10,
          1,
          6,
          null,
          null,
          null
         ],
         "yaxis": "y5"
        },
        {
         "name": "2008",
         "type": "bar",
         "x": [
          "January",
          "March",
          "April",
          "May",
          "June",
          "July",
          "August",
          "September",
          "October",
          "November",
          "December"
         ],
         "xaxis": "x5",
         "y": [
          null,
          null,
          2,
          33,
          8,
          14,
          2,
          7,
          6,
          null,
          null
         ],
         "yaxis": "y5"
        },
        {
         "name": "2009",
         "type": "bar",
         "x": [
          "January",
          "March",
          "April",
          "May",
          "June",
          "July",
          "August",
          "September",
          "October",
          "November",
          "December"
         ],
         "xaxis": "x5",
         "y": [
          null,
          1,
          26,
          52,
          27,
          29,
          4,
          8,
          null,
          null,
          null
         ],
         "yaxis": "y5"
        },
        {
         "name": "2010",
         "type": "bar",
         "x": [
          "January",
          "March",
          "April",
          "May",
          "June",
          "July",
          "August",
          "September",
          "October",
          "November",
          "December"
         ],
         "xaxis": "x5",
         "y": [
          null,
          2,
          7,
          5,
          4,
          4,
          11,
          6,
          3,
          1,
          null
         ],
         "yaxis": "y5"
        },
        {
         "name": "2011",
         "type": "bar",
         "x": [
          "January",
          "March",
          "April",
          "May",
          "June",
          "July",
          "August",
          "September",
          "October",
          "November",
          "December"
         ],
         "xaxis": "x5",
         "y": [
          null,
          null,
          2,
          14,
          5,
          5,
          9,
          5,
          null,
          null,
          null
         ],
         "yaxis": "y5"
        },
        {
         "name": "2012",
         "type": "bar",
         "x": [
          "January",
          "March",
          "April",
          "May",
          "June",
          "July",
          "August",
          "September",
          "October",
          "November",
          "December"
         ],
         "xaxis": "x5",
         "y": [
          null,
          1,
          20,
          14,
          31,
          36,
          9,
          4,
          null,
          null,
          null
         ],
         "yaxis": "y5"
        },
        {
         "name": "2013",
         "type": "bar",
         "x": [
          "January",
          "March",
          "April",
          "May",
          "June",
          "July",
          "August",
          "September",
          "October",
          "November",
          "December"
         ],
         "xaxis": "x5",
         "y": [
          null,
          null,
          7,
          21,
          10,
          22,
          7,
          null,
          2,
          null,
          null
         ],
         "yaxis": "y5"
        },
        {
         "name": "2014",
         "type": "bar",
         "x": [
          "January",
          "March",
          "April",
          "May",
          "June",
          "July",
          "August",
          "September",
          "October",
          "November",
          "December"
         ],
         "xaxis": "x5",
         "y": [
          null,
          null,
          null,
          null,
          null,
          null,
          null,
          1,
          null,
          null,
          null
         ],
         "yaxis": "y5"
        },
        {
         "name": "2015",
         "type": "bar",
         "x": [
          "January",
          "March",
          "April",
          "May",
          "June",
          "July",
          "August",
          "September",
          "October",
          "November",
          "December"
         ],
         "xaxis": "x5",
         "y": [
          null,
          null,
          null,
          2,
          21,
          null,
          4,
          null,
          null,
          null,
          null
         ],
         "yaxis": "y5"
        },
        {
         "name": "2016",
         "type": "bar",
         "x": [
          "January",
          "March",
          "April",
          "May",
          "June",
          "July",
          "August",
          "September",
          "October",
          "November",
          "December"
         ],
         "xaxis": "x5",
         "y": [
          null,
          null,
          null,
          1,
          null,
          14,
          3,
          null,
          null,
          null,
          null
         ],
         "yaxis": "y5"
        },
        {
         "name": "2017",
         "type": "bar",
         "x": [
          "January",
          "March",
          "April",
          "May",
          "June",
          "July",
          "August",
          "September",
          "October",
          "November",
          "December"
         ],
         "xaxis": "x5",
         "y": [
          null,
          null,
          null,
          18,
          22,
          20,
          8,
          4,
          4,
          6,
          null
         ],
         "yaxis": "y5"
        },
        {
         "name": "2018",
         "type": "bar",
         "x": [
          "January",
          "March",
          "April",
          "May",
          "June",
          "July",
          "August",
          "September",
          "October",
          "November",
          "December"
         ],
         "xaxis": "x5",
         "y": [
          null,
          null,
          12,
          41,
          18,
          19,
          24,
          14,
          3,
          null,
          null
         ],
         "yaxis": "y5"
        },
        {
         "name": "2019",
         "type": "bar",
         "x": [
          "January",
          "March",
          "April",
          "May",
          "June",
          "July",
          "August",
          "September",
          "October",
          "November",
          "December"
         ],
         "xaxis": "x5",
         "y": [
          null,
          6,
          1,
          44,
          8,
          11,
          16,
          11,
          2,
          null,
          null
         ],
         "yaxis": "y5"
        },
        {
         "name": "2020",
         "type": "bar",
         "x": [
          "January",
          "March",
          "April",
          "May",
          "June",
          "July",
          "August",
          "September",
          "October",
          "November",
          "December"
         ],
         "xaxis": "x5",
         "y": [
          null,
          null,
          12,
          17,
          6,
          25,
          27,
          5,
          null,
          4,
          1
         ],
         "yaxis": "y5"
        },
        {
         "name": "2021",
         "type": "bar",
         "x": [
          "January",
          "March",
          "April",
          "May",
          "June",
          "July",
          "August",
          "September",
          "October",
          "November",
          "December"
         ],
         "xaxis": "x5",
         "y": [
          null,
          null,
          null,
          null,
          null,
          null,
          null,
          null,
          null,
          null,
          null
         ],
         "yaxis": "y5"
        },
        {
         "name": "1990",
         "type": "bar",
         "x": [
          "January",
          "February",
          "April",
          "May",
          "June",
          "July",
          "August",
          "September",
          "October",
          "November",
          "December"
         ],
         "xaxis": "x6",
         "y": [
          null,
          null,
          null,
          10,
          98,
          113,
          13,
          2,
          null,
          null,
          null
         ],
         "yaxis": "y6"
        },
        {
         "name": "1991",
         "type": "bar",
         "x": [
          "January",
          "February",
          "April",
          "May",
          "June",
          "July",
          "August",
          "September",
          "October",
          "November",
          "December"
         ],
         "xaxis": "x6",
         "y": [
          null,
          null,
          null,
          5,
          59,
          149,
          117,
          1,
          null,
          null,
          null
         ],
         "yaxis": "y6"
        },
        {
         "name": "1992",
         "type": "bar",
         "x": [
          "January",
          "February",
          "April",
          "May",
          "June",
          "July",
          "August",
          "September",
          "October",
          "November",
          "December"
         ],
         "xaxis": "x6",
         "y": [
          null,
          null,
          null,
          9,
          31,
          130,
          100,
          15,
          null,
          null,
          null
         ],
         "yaxis": "y6"
        },
        {
         "name": "1993",
         "type": "bar",
         "x": [
          "January",
          "February",
          "April",
          "May",
          "June",
          "July",
          "August",
          "September",
          "October",
          "November",
          "December"
         ],
         "xaxis": "x6",
         "y": [
          null,
          null,
          null,
          13,
          175,
          249,
          30,
          4,
          null,
          null,
          2
         ],
         "yaxis": "y6"
        },
        {
         "name": "1994",
         "type": "bar",
         "x": [
          "January",
          "February",
          "April",
          "May",
          "June",
          "July",
          "August",
          "September",
          "October",
          "November",
          "December"
         ],
         "xaxis": "x6",
         "y": [
          2,
          1,
          1,
          37,
          185,
          326,
          78,
          13,
          8,
          1,
          1
         ],
         "yaxis": "y6"
        },
        {
         "name": "1995",
         "type": "bar",
         "x": [
          "January",
          "February",
          "April",
          "May",
          "June",
          "July",
          "August",
          "September",
          "October",
          "November",
          "December"
         ],
         "xaxis": "x6",
         "y": [
          null,
          null,
          1,
          24,
          79,
          56,
          47,
          7,
          1,
          3,
          null
         ],
         "yaxis": "y6"
        },
        {
         "name": "1996",
         "type": "bar",
         "x": [
          "January",
          "February",
          "April",
          "May",
          "June",
          "July",
          "August",
          "September",
          "October",
          "November",
          "December"
         ],
         "xaxis": "x6",
         "y": [
          null,
          null,
          1,
          11,
          182,
          134,
          22,
          null,
          null,
          null,
          null
         ],
         "yaxis": "y6"
        },
        {
         "name": "1997",
         "type": "bar",
         "x": [
          "January",
          "February",
          "April",
          "May",
          "June",
          "July",
          "August",
          "September",
          "October",
          "November",
          "December"
         ],
         "xaxis": "x6",
         "y": [
          null,
          null,
          null,
          1,
          17,
          74,
          10,
          3,
          null,
          null,
          null
         ],
         "yaxis": "y6"
        },
        {
         "name": "1998",
         "type": "bar",
         "x": [
          "January",
          "February",
          "April",
          "May",
          "June",
          "July",
          "August",
          "September",
          "October",
          "November",
          "December"
         ],
         "xaxis": "x6",
         "y": [
          null,
          null,
          null,
          24,
          76,
          228,
          69,
          2,
          null,
          null,
          null
         ],
         "yaxis": "y6"
        },
        {
         "name": "1999",
         "type": "bar",
         "x": [
          "January",
          "February",
          "April",
          "May",
          "June",
          "July",
          "August",
          "September",
          "October",
          "November",
          "December"
         ],
         "xaxis": "x6",
         "y": [
          null,
          null,
          1,
          3,
          70,
          39,
          53,
          6,
          null,
          null,
          null
         ],
         "yaxis": "y6"
        },
        {
         "name": "2000",
         "type": "bar",
         "x": [
          "January",
          "February",
          "April",
          "May",
          "June",
          "July",
          "August",
          "September",
          "October",
          "November",
          "December"
         ],
         "xaxis": "x6",
         "y": [
          null,
          null,
          null,
          5,
          90,
          144,
          36,
          null,
          null,
          null,
          null
         ],
         "yaxis": "y6"
        },
        {
         "name": "2001",
         "type": "bar",
         "x": [
          "January",
          "February",
          "April",
          "May",
          "June",
          "July",
          "August",
          "September",
          "October",
          "November",
          "December"
         ],
         "xaxis": "x6",
         "y": [
          null,
          null,
          null,
          null,
          49,
          71,
          6,
          2,
          null,
          null,
          null
         ],
         "yaxis": "y6"
        },
        {
         "name": "2002",
         "type": "bar",
         "x": [
          "January",
          "February",
          "April",
          "May",
          "June",
          "July",
          "August",
          "September",
          "October",
          "November",
          "December"
         ],
         "xaxis": "x6",
         "y": [
          null,
          null,
          null,
          2,
          38,
          41,
          4,
          null,
          null,
          null,
          null
         ],
         "yaxis": "y6"
        },
        {
         "name": "2003",
         "type": "bar",
         "x": [
          "January",
          "February",
          "April",
          "May",
          "June",
          "July",
          "August",
          "September",
          "October",
          "November",
          "December"
         ],
         "xaxis": "x6",
         "y": [
          null,
          null,
          null,
          6,
          48,
          86,
          19,
          1,
          null,
          null,
          null
         ],
         "yaxis": "y6"
        },
        {
         "name": "2004",
         "type": "bar",
         "x": [
          "January",
          "February",
          "April",
          "May",
          "June",
          "July",
          "August",
          "September",
          "October",
          "November",
          "December"
         ],
         "xaxis": "x6",
         "y": [
          null,
          null,
          null,
          3,
          51,
          206,
          27,
          9,
          2,
          1,
          null
         ],
         "yaxis": "y6"
        },
        {
         "name": "2005",
         "type": "bar",
         "x": [
          "January",
          "February",
          "April",
          "May",
          "June",
          "July",
          "August",
          "September",
          "October",
          "November",
          "December"
         ],
         "xaxis": "x6",
         "y": [
          null,
          null,
          null,
          15,
          43,
          194,
          5,
          3,
          1,
          null,
          null
         ],
         "yaxis": "y6"
        },
        {
         "name": "2006",
         "type": "bar",
         "x": [
          "January",
          "February",
          "April",
          "May",
          "June",
          "July",
          "August",
          "September",
          "October",
          "November",
          "December"
         ],
         "xaxis": "x6",
         "y": [
          null,
          null,
          null,
          1,
          34,
          59,
          63,
          9,
          1,
          null,
          null
         ],
         "yaxis": "y6"
        },
        {
         "name": "2007",
         "type": "bar",
         "x": [
          "January",
          "February",
          "April",
          "May",
          "June",
          "July",
          "August",
          "September",
          "October",
          "November",
          "December"
         ],
         "xaxis": "x6",
         "y": [
          null,
          null,
          null,
          2,
          79,
          89,
          14,
          null,
          null,
          null,
          null
         ],
         "yaxis": "y6"
        },
        {
         "name": "2008",
         "type": "bar",
         "x": [
          "January",
          "February",
          "April",
          "May",
          "June",
          "July",
          "August",
          "September",
          "October",
          "November",
          "December"
         ],
         "xaxis": "x6",
         "y": [
          null,
          null,
          null,
          8,
          61,
          85,
          86,
          null,
          null,
          null,
          null
         ],
         "yaxis": "y6"
        },
        {
         "name": "2009",
         "type": "bar",
         "x": [
          "January",
          "February",
          "April",
          "May",
          "June",
          "July",
          "August",
          "September",
          "October",
          "November",
          "December"
         ],
         "xaxis": "x6",
         "y": [
          1,
          1,
          1,
          4,
          15,
          10,
          13,
          1,
          null,
          null,
          null
         ],
         "yaxis": "y6"
        },
        {
         "name": "2010",
         "type": "bar",
         "x": [
          "January",
          "February",
          "April",
          "May",
          "June",
          "July",
          "August",
          "September",
          "October",
          "November",
          "December"
         ],
         "xaxis": "x6",
         "y": [
          null,
          null,
          null,
          5,
          81,
          121,
          13,
          4,
          null,
          null,
          null
         ],
         "yaxis": "y6"
        },
        {
         "name": "2011",
         "type": "bar",
         "x": [
          "January",
          "February",
          "April",
          "May",
          "June",
          "July",
          "August",
          "September",
          "October",
          "November",
          "December"
         ],
         "xaxis": "x6",
         "y": [
          null,
          null,
          null,
          14,
          78,
          85,
          22,
          2,
          null,
          null,
          null
         ],
         "yaxis": "y6"
        },
        {
         "name": "2012",
         "type": "bar",
         "x": [
          "January",
          "February",
          "April",
          "May",
          "June",
          "July",
          "August",
          "September",
          "October",
          "November",
          "December"
         ],
         "xaxis": "x6",
         "y": [
          null,
          null,
          null,
          12,
          76,
          148,
          43,
          10,
          null,
          null,
          null
         ],
         "yaxis": "y6"
        },
        {
         "name": "2013",
         "type": "bar",
         "x": [
          "January",
          "February",
          "April",
          "May",
          "June",
          "July",
          "August",
          "September",
          "October",
          "November",
          "December"
         ],
         "xaxis": "x6",
         "y": [
          null,
          null,
          null,
          4,
          152,
          77,
          19,
          5,
          null,
          null,
          null
         ],
         "yaxis": "y6"
        },
        {
         "name": "2014",
         "type": "bar",
         "x": [
          "January",
          "February",
          "April",
          "May",
          "June",
          "July",
          "August",
          "September",
          "October",
          "November",
          "December"
         ],
         "xaxis": "x6",
         "y": [
          null,
          null,
          1,
          4,
          118,
          188,
          77,
          null,
          null,
          null,
          null
         ],
         "yaxis": "y6"
        },
        {
         "name": "2015",
         "type": "bar",
         "x": [
          "January",
          "February",
          "April",
          "May",
          "June",
          "July",
          "August",
          "September",
          "October",
          "November",
          "December"
         ],
         "xaxis": "x6",
         "y": [
          null,
          null,
          null,
          60,
          125,
          41,
          27,
          null,
          null,
          4,
          null
         ],
         "yaxis": "y6"
        },
        {
         "name": "2016",
         "type": "bar",
         "x": [
          "January",
          "February",
          "April",
          "May",
          "June",
          "July",
          "August",
          "September",
          "October",
          "November",
          "December"
         ],
         "xaxis": "x6",
         "y": [
          null,
          null,
          null,
          3,
          58,
          112,
          20,
          null,
          null,
          null,
          null
         ],
         "yaxis": "y6"
        },
        {
         "name": "2017",
         "type": "bar",
         "x": [
          "January",
          "February",
          "April",
          "May",
          "June",
          "July",
          "August",
          "September",
          "October",
          "November",
          "December"
         ],
         "xaxis": "x6",
         "y": [
          null,
          null,
          null,
          22,
          33,
          123,
          77,
          13,
          null,
          null,
          null
         ],
         "yaxis": "y6"
        },
        {
         "name": "2018",
         "type": "bar",
         "x": [
          "January",
          "February",
          "April",
          "May",
          "June",
          "July",
          "August",
          "September",
          "October",
          "November",
          "December"
         ],
         "xaxis": "x6",
         "y": [
          null,
          null,
          null,
          4,
          14,
          35,
          7,
          2,
          null,
          1,
          null
         ],
         "yaxis": "y6"
        },
        {
         "name": "2019",
         "type": "bar",
         "x": [
          "January",
          "February",
          "April",
          "May",
          "June",
          "July",
          "August",
          "September",
          "October",
          "November",
          "December"
         ],
         "xaxis": "x6",
         "y": [
          null,
          null,
          6,
          8,
          32,
          88,
          11,
          null,
          1,
          1,
          null
         ],
         "yaxis": "y6"
        },
        {
         "name": "2020",
         "type": "bar",
         "x": [
          "January",
          "February",
          "April",
          "May",
          "June",
          "July",
          "August",
          "September",
          "October",
          "November",
          "December"
         ],
         "xaxis": "x6",
         "y": [
          null,
          null,
          null,
          1,
          47,
          15,
          7,
          null,
          null,
          null,
          null
         ],
         "yaxis": "y6"
        },
        {
         "name": "2021",
         "type": "bar",
         "x": [
          "January",
          "February",
          "April",
          "May",
          "June",
          "July",
          "August",
          "September",
          "October",
          "November",
          "December"
         ],
         "xaxis": "x6",
         "y": [
          null,
          null,
          null,
          null,
          null,
          null,
          null,
          null,
          null,
          null,
          null
         ],
         "yaxis": "y6"
        },
        {
         "name": "1990",
         "type": "bar",
         "x": [
          "January",
          "March",
          "April",
          "May",
          "June",
          "July",
          "August",
          "September",
          "October",
          "November"
         ],
         "xaxis": "x7",
         "y": [
          null,
          34,
          89,
          134,
          58,
          74,
          62,
          36,
          9,
          1
         ],
         "yaxis": "y7"
        },
        {
         "name": "1991",
         "type": "bar",
         "x": [
          "January",
          "March",
          "April",
          "May",
          "June",
          "July",
          "August",
          "September",
          "October",
          "November"
         ],
         "xaxis": "x7",
         "y": [
          null,
          26,
          208,
          174,
          145,
          162,
          10,
          null,
          1,
          null
         ],
         "yaxis": "y7"
        },
        {
         "name": "1992",
         "type": "bar",
         "x": [
          "January",
          "March",
          "April",
          "May",
          "June",
          "July",
          "August",
          "September",
          "October",
          "November"
         ],
         "xaxis": "x7",
         "y": [
          null,
          null,
          43,
          138,
          46,
          19,
          18,
          19,
          13,
          null
         ],
         "yaxis": "y7"
        },
        {
         "name": "1993",
         "type": "bar",
         "x": [
          "January",
          "March",
          "April",
          "May",
          "June",
          "July",
          "August",
          "September",
          "October",
          "November"
         ],
         "xaxis": "x7",
         "y": [
          null,
          null,
          78,
          110,
          20,
          21,
          43,
          26,
          4,
          null
         ],
         "yaxis": "y7"
        },
        {
         "name": "1994",
         "type": "bar",
         "x": [
          "January",
          "March",
          "April",
          "May",
          "June",
          "July",
          "August",
          "September",
          "October",
          "November"
         ],
         "xaxis": "x7",
         "y": [
          null,
          1,
          63,
          33,
          28,
          57,
          23,
          22,
          22,
          14
         ],
         "yaxis": "y7"
        },
        {
         "name": "1995",
         "type": "bar",
         "x": [
          "January",
          "March",
          "April",
          "May",
          "June",
          "July",
          "August",
          "September",
          "October",
          "November"
         ],
         "xaxis": "x7",
         "y": [
          null,
          28,
          80,
          145,
          49,
          26,
          36,
          37,
          4,
          2
         ],
         "yaxis": "y7"
        },
        {
         "name": "1996",
         "type": "bar",
         "x": [
          "January",
          "March",
          "April",
          "May",
          "June",
          "July",
          "August",
          "September",
          "October",
          "November"
         ],
         "xaxis": "x7",
         "y": [
          null,
          55,
          65,
          66,
          45,
          9,
          20,
          7,
          3,
          null
         ],
         "yaxis": "y7"
        },
        {
         "name": "1997",
         "type": "bar",
         "x": [
          "January",
          "March",
          "April",
          "May",
          "June",
          "July",
          "August",
          "September",
          "October",
          "November"
         ],
         "xaxis": "x7",
         "y": [
          null,
          1,
          44,
          77,
          35,
          108,
          59,
          16,
          30,
          null
         ],
         "yaxis": "y7"
        },
        {
         "name": "1998",
         "type": "bar",
         "x": [
          "January",
          "March",
          "April",
          "May",
          "June",
          "July",
          "August",
          "September",
          "October",
          "November"
         ],
         "xaxis": "x7",
         "y": [
          null,
          20,
          86,
          91,
          45,
          19,
          61,
          8,
          16,
          null
         ],
         "yaxis": "y7"
        },
        {
         "name": "1999",
         "type": "bar",
         "x": [
          "January",
          "March",
          "April",
          "May",
          "June",
          "July",
          "August",
          "September",
          "October",
          "November"
         ],
         "xaxis": "x7",
         "y": [
          null,
          23,
          78,
          129,
          97,
          89,
          24,
          14,
          3,
          7
         ],
         "yaxis": "y7"
        },
        {
         "name": "2000",
         "type": "bar",
         "x": [
          "January",
          "March",
          "April",
          "May",
          "June",
          "July",
          "August",
          "September",
          "October",
          "November"
         ],
         "xaxis": "x7",
         "y": [
          null,
          4,
          19,
          57,
          51,
          25,
          29,
          18,
          8,
          1
         ],
         "yaxis": "y7"
        },
        {
         "name": "2001",
         "type": "bar",
         "x": [
          "January",
          "March",
          "April",
          "May",
          "June",
          "July",
          "August",
          "September",
          "October",
          "November"
         ],
         "xaxis": "x7",
         "y": [
          null,
          4,
          36,
          139,
          31,
          67,
          129,
          47,
          28,
          8
         ],
         "yaxis": "y7"
        },
        {
         "name": "2002",
         "type": "bar",
         "x": [
          "January",
          "March",
          "April",
          "May",
          "June",
          "July",
          "August",
          "September",
          "October",
          "November"
         ],
         "xaxis": "x7",
         "y": [
          null,
          5,
          23,
          111,
          31,
          26,
          55,
          18,
          null,
          1
         ],
         "yaxis": "y7"
        },
        {
         "name": "2003",
         "type": "bar",
         "x": [
          "January",
          "March",
          "April",
          "May",
          "June",
          "July",
          "August",
          "September",
          "October",
          "November"
         ],
         "xaxis": "x7",
         "y": [
          null,
          2,
          75,
          100,
          28,
          30,
          16,
          13,
          8,
          null
         ],
         "yaxis": "y7"
        },
        {
         "name": "2004",
         "type": "bar",
         "x": [
          "January",
          "March",
          "April",
          "May",
          "June",
          "July",
          "August",
          "September",
          "October",
          "November"
         ],
         "xaxis": "x7",
         "y": [
          null,
          null,
          31,
          137,
          52,
          11,
          15,
          8,
          4,
          1
         ],
         "yaxis": "y7"
        },
        {
         "name": "2005",
         "type": "bar",
         "x": [
          "January",
          "March",
          "April",
          "May",
          "June",
          "July",
          "August",
          "September",
          "October",
          "November"
         ],
         "xaxis": "x7",
         "y": [
          null,
          3,
          155,
          12,
          39,
          15,
          41,
          22,
          2,
          null
         ],
         "yaxis": "y7"
        },
        {
         "name": "2006",
         "type": "bar",
         "x": [
          "January",
          "March",
          "April",
          "May",
          "June",
          "July",
          "August",
          "September",
          "October",
          "November"
         ],
         "xaxis": "x7",
         "y": [
          1,
          87,
          69,
          29,
          1,
          6,
          10,
          12,
          1,
          null
         ],
         "yaxis": "y7"
        },
        {
         "name": "2007",
         "type": "bar",
         "x": [
          "January",
          "March",
          "April",
          "May",
          "June",
          "July",
          "August",
          "September",
          "October",
          "November"
         ],
         "xaxis": "x7",
         "y": [
          null,
          18,
          148,
          165,
          16,
          15,
          19,
          2,
          3,
          1
         ],
         "yaxis": "y7"
        },
        {
         "name": "2008",
         "type": "bar",
         "x": [
          "January",
          "March",
          "April",
          "May",
          "June",
          "July",
          "August",
          "September",
          "October",
          "November"
         ],
         "xaxis": "x7",
         "y": [
          null,
          2,
          136,
          45,
          37,
          19,
          2,
          3,
          2,
          1
         ],
         "yaxis": "y7"
        },
        {
         "name": "2009",
         "type": "bar",
         "x": [
          "January",
          "March",
          "April",
          "May",
          "June",
          "July",
          "August",
          "September",
          "October",
          "November"
         ],
         "xaxis": "x7",
         "y": [
          null,
          4,
          104,
          46,
          8,
          7,
          14,
          7,
          null,
          null
         ],
         "yaxis": "y7"
        },
        {
         "name": "2010",
         "type": "bar",
         "x": [
          "January",
          "March",
          "April",
          "May",
          "June",
          "July",
          "August",
          "September",
          "October",
          "November"
         ],
         "xaxis": "x7",
         "y": [
          null,
          59,
          114,
          63,
          9,
          null,
          null,
          null,
          null,
          5
         ],
         "yaxis": "y7"
        },
        {
         "name": "2011",
         "type": "bar",
         "x": [
          "January",
          "March",
          "April",
          "May",
          "June",
          "July",
          "August",
          "September",
          "October",
          "November"
         ],
         "xaxis": "x7",
         "y": [
          null,
          20,
          62,
          9,
          6,
          8,
          7,
          2,
          null,
          null
         ],
         "yaxis": "y7"
        },
        {
         "name": "2012",
         "type": "bar",
         "x": [
          "January",
          "March",
          "April",
          "May",
          "June",
          "July",
          "August",
          "September",
          "October",
          "November"
         ],
         "xaxis": "x7",
         "y": [
          null,
          72,
          157,
          35,
          22,
          32,
          26,
          9,
          null,
          null
         ],
         "yaxis": "y7"
        },
        {
         "name": "2013",
         "type": "bar",
         "x": [
          "January",
          "March",
          "April",
          "May",
          "June",
          "July",
          "August",
          "September",
          "October",
          "November"
         ],
         "xaxis": "x7",
         "y": [
          null,
          3,
          59,
          85,
          2,
          6,
          17,
          2,
          null,
          null
         ],
         "yaxis": "y7"
        },
        {
         "name": "2014",
         "type": "bar",
         "x": [
          "January",
          "March",
          "April",
          "May",
          "June",
          "July",
          "August",
          "September",
          "October",
          "November"
         ],
         "xaxis": "x7",
         "y": [
          null,
          1,
          41,
          71,
          23,
          13,
          10,
          8,
          5,
          null
         ],
         "yaxis": "y7"
        },
        {
         "name": "2015",
         "type": "bar",
         "x": [
          "January",
          "March",
          "April",
          "May",
          "June",
          "July",
          "August",
          "September",
          "October",
          "November"
         ],
         "xaxis": "x7",
         "y": [
          null,
          null,
          1,
          204,
          6,
          12,
          8,
          18,
          null,
          null
         ],
         "yaxis": "y7"
        },
        {
         "name": "2016",
         "type": "bar",
         "x": [
          "January",
          "March",
          "April",
          "May",
          "June",
          "July",
          "August",
          "September",
          "October",
          "November"
         ],
         "xaxis": "x7",
         "y": [
          null,
          1,
          104,
          59,
          28,
          15,
          38,
          22,
          4,
          null
         ],
         "yaxis": "y7"
        },
        {
         "name": "2017",
         "type": "bar",
         "x": [
          "January",
          "March",
          "April",
          "May",
          "June",
          "July",
          "August",
          "September",
          "October",
          "November"
         ],
         "xaxis": "x7",
         "y": [
          null,
          null,
          82,
          44,
          11,
          12,
          15,
          7,
          5,
          1
         ],
         "yaxis": "y7"
        },
        {
         "name": "2018",
         "type": "bar",
         "x": [
          "January",
          "March",
          "April",
          "May",
          "June",
          "July",
          "August",
          "September",
          "October",
          "November"
         ],
         "xaxis": "x7",
         "y": [
          null,
          2,
          51,
          54,
          26,
          24,
          17,
          22,
          null,
          null
         ],
         "yaxis": "y7"
        },
        {
         "name": "2019",
         "type": "bar",
         "x": [
          "January",
          "March",
          "April",
          "May",
          "June",
          "July",
          "August",
          "September",
          "October",
          "November"
         ],
         "xaxis": "x7",
         "y": [
          null,
          17,
          16,
          45,
          13,
          7,
          34,
          9,
          2,
          null
         ],
         "yaxis": "y7"
        },
        {
         "name": "2020",
         "type": "bar",
         "x": [
          "January",
          "March",
          "April",
          "May",
          "June",
          "July",
          "August",
          "September",
          "October",
          "November"
         ],
         "xaxis": "x7",
         "y": [
          null,
          5,
          38,
          50,
          22,
          11,
          43,
          5,
          4,
          null
         ],
         "yaxis": "y7"
        },
        {
         "name": "2021",
         "type": "bar",
         "x": [
          "January",
          "March",
          "April",
          "May",
          "June",
          "July",
          "August",
          "September",
          "October",
          "November"
         ],
         "xaxis": "x7",
         "y": [
          null,
          null,
          null,
          null,
          null,
          null,
          null,
          null,
          null,
          null
         ],
         "yaxis": "y7"
        },
        {
         "name": "1990",
         "type": "bar",
         "x": [
          "January",
          "February",
          "March",
          "April",
          "May",
          "June",
          "July",
          "August",
          "September",
          "October",
          "November",
          "December"
         ],
         "xaxis": "x8",
         "y": [
          null,
          null,
          62,
          185,
          242,
          111,
          237,
          543,
          185,
          31,
          16,
          null
         ],
         "yaxis": "y8"
        },
        {
         "name": "1991",
         "type": "bar",
         "x": [
          "January",
          "February",
          "March",
          "April",
          "May",
          "June",
          "July",
          "August",
          "September",
          "October",
          "November",
          "December"
         ],
         "xaxis": "x8",
         "y": [
          null,
          null,
          12,
          210,
          231,
          415,
          586,
          944,
          138,
          11,
          12,
          1
         ],
         "yaxis": "y8"
        },
        {
         "name": "1992",
         "type": "bar",
         "x": [
          "January",
          "February",
          "March",
          "April",
          "May",
          "June",
          "July",
          "August",
          "September",
          "October",
          "November",
          "December"
         ],
         "xaxis": "x8",
         "y": [
          null,
          null,
          2,
          58,
          347,
          380,
          60,
          94,
          8,
          11,
          null,
          null
         ],
         "yaxis": "y8"
        },
        {
         "name": "1993",
         "type": "bar",
         "x": [
          "January",
          "February",
          "March",
          "April",
          "May",
          "June",
          "July",
          "August",
          "September",
          "October",
          "November",
          "December"
         ],
         "xaxis": "x8",
         "y": [
          null,
          null,
          1,
          112,
          171,
          129,
          158,
          144,
          11,
          10,
          4,
          2
         ],
         "yaxis": "y8"
        },
        {
         "name": "1994",
         "type": "bar",
         "x": [
          "January",
          "February",
          "March",
          "April",
          "May",
          "June",
          "July",
          "August",
          "September",
          "October",
          "November",
          "December"
         ],
         "xaxis": "x8",
         "y": [
          null,
          null,
          4,
          222,
          266,
          412,
          59,
          55,
          27,
          27,
          7,
          null
         ],
         "yaxis": "y8"
        },
        {
         "name": "1995",
         "type": "bar",
         "x": [
          "January",
          "February",
          "March",
          "April",
          "May",
          "June",
          "July",
          "August",
          "September",
          "October",
          "November",
          "December"
         ],
         "xaxis": "x8",
         "y": [
          null,
          null,
          137,
          128,
          230,
          900,
          150,
          442,
          125,
          36,
          2,
          null
         ],
         "yaxis": "y8"
        },
        {
         "name": "1996",
         "type": "bar",
         "x": [
          "January",
          "February",
          "March",
          "April",
          "May",
          "June",
          "July",
          "August",
          "September",
          "October",
          "November",
          "December"
         ],
         "xaxis": "x8",
         "y": [
          null,
          null,
          7,
          30,
          241,
          570,
          198,
          144,
          73,
          11,
          null,
          null
         ],
         "yaxis": "y8"
        },
        {
         "name": "1997",
         "type": "bar",
         "x": [
          "January",
          "February",
          "March",
          "April",
          "May",
          "June",
          "July",
          "August",
          "September",
          "October",
          "November",
          "December"
         ],
         "xaxis": "x8",
         "y": [
          null,
          null,
          null,
          136,
          180,
          425,
          371,
          423,
          90,
          18,
          1,
          null
         ],
         "yaxis": "y8"
        },
        {
         "name": "1998",
         "type": "bar",
         "x": [
          "January",
          "February",
          "March",
          "April",
          "May",
          "June",
          "July",
          "August",
          "September",
          "October",
          "November",
          "December"
         ],
         "xaxis": "x8",
         "y": [
          null,
          null,
          11,
          207,
          463,
          254,
          710,
          477,
          127,
          32,
          8,
          2
         ],
         "yaxis": "y8"
        },
        {
         "name": "1999",
         "type": "bar",
         "x": [
          "January",
          "February",
          "March",
          "April",
          "May",
          "June",
          "July",
          "August",
          "September",
          "October",
          "November",
          "December"
         ],
         "xaxis": "x8",
         "y": [
          null,
          1,
          6,
          146,
          234,
          154,
          217,
          196,
          64,
          4,
          3,
          null
         ],
         "yaxis": "y8"
        },
        {
         "name": "2000",
         "type": "bar",
         "x": [
          "January",
          "February",
          "March",
          "April",
          "May",
          "June",
          "July",
          "August",
          "September",
          "October",
          "November",
          "December"
         ],
         "xaxis": "x8",
         "y": [
          null,
          1,
          17,
          99,
          88,
          44,
          117,
          156,
          38,
          83,
          7,
          null
         ],
         "yaxis": "y8"
        },
        {
         "name": "2001",
         "type": "bar",
         "x": [
          "January",
          "February",
          "March",
          "April",
          "May",
          "June",
          "July",
          "August",
          "September",
          "October",
          "November",
          "December"
         ],
         "xaxis": "x8",
         "y": [
          1,
          null,
          1,
          52,
          115,
          267,
          373,
          666,
          109,
          10,
          2,
          null
         ],
         "yaxis": "y8"
        },
        {
         "name": "2002",
         "type": "bar",
         "x": [
          "January",
          "February",
          "March",
          "April",
          "May",
          "June",
          "July",
          "August",
          "September",
          "October",
          "November",
          "December"
         ],
         "xaxis": "x8",
         "y": [
          null,
          null,
          1,
          26,
          105,
          85,
          536,
          212,
          188,
          8,
          1,
          null
         ],
         "yaxis": "y8"
        },
        {
         "name": "2003",
         "type": "bar",
         "x": [
          "January",
          "February",
          "March",
          "April",
          "May",
          "June",
          "July",
          "August",
          "September",
          "October",
          "November",
          "December"
         ],
         "xaxis": "x8",
         "y": [
          28,
          25,
          37,
          95,
          121,
          288,
          133,
          204,
          31,
          18,
          23,
          40
         ],
         "yaxis": "y8"
        },
        {
         "name": "2004",
         "type": "bar",
         "x": [
          "January",
          "February",
          "March",
          "April",
          "May",
          "June",
          "July",
          "August",
          "September",
          "October",
          "November",
          "December"
         ],
         "xaxis": "x8",
         "y": [
          null,
          null,
          null,
          34,
          64,
          79,
          101,
          99,
          40,
          18,
          null,
          null
         ],
         "yaxis": "y8"
        },
        {
         "name": "2005",
         "type": "bar",
         "x": [
          "January",
          "February",
          "March",
          "April",
          "May",
          "June",
          "July",
          "August",
          "September",
          "October",
          "November",
          "December"
         ],
         "xaxis": "x8",
         "y": [
          null,
          null,
          null,
          86,
          159,
          194,
          602,
          708,
          212,
          14,
          3,
          null
         ],
         "yaxis": "y8"
        },
        {
         "name": "2006",
         "type": "bar",
         "x": [
          "January",
          "February",
          "March",
          "April",
          "May",
          "June",
          "July",
          "August",
          "September",
          "October",
          "November",
          "December"
         ],
         "xaxis": "x8",
         "y": [
          1,
          null,
          3,
          83,
          150,
          273,
          597,
          503,
          660,
          19,
          2,
          null
         ],
         "yaxis": "y8"
        },
        {
         "name": "2007",
         "type": "bar",
         "x": [
          "January",
          "February",
          "March",
          "April",
          "May",
          "June",
          "July",
          "August",
          "September",
          "October",
          "November",
          "December"
         ],
         "xaxis": "x8",
         "y": [
          null,
          2,
          15,
          105,
          235,
          92,
          201,
          423,
          49,
          5,
          1,
          null
         ],
         "yaxis": "y8"
        },
        {
         "name": "2008",
         "type": "bar",
         "x": [
          "January",
          "February",
          "March",
          "April",
          "May",
          "June",
          "July",
          "August",
          "September",
          "October",
          "November",
          "December"
         ],
         "xaxis": "x8",
         "y": [
          null,
          null,
          null,
          29,
          79,
          34,
          35,
          132,
          23,
          9,
          1,
          null
         ],
         "yaxis": "y8"
        },
        {
         "name": "2009",
         "type": "bar",
         "x": [
          "January",
          "February",
          "March",
          "April",
          "May",
          "June",
          "July",
          "August",
          "September",
          "October",
          "November",
          "December"
         ],
         "xaxis": "x8",
         "y": [
          1,
          null,
          null,
          24,
          110,
          140,
          42,
          20,
          46,
          6,
          null,
          null
         ],
         "yaxis": "y8"
        },
        {
         "name": "2010",
         "type": "bar",
         "x": [
          "January",
          "February",
          "March",
          "April",
          "May",
          "June",
          "July",
          "August",
          "September",
          "October",
          "November",
          "December"
         ],
         "xaxis": "x8",
         "y": [
          null,
          null,
          34,
          199,
          334,
          83,
          166,
          80,
          12,
          23,
          2,
          null
         ],
         "yaxis": "y8"
        },
        {
         "name": "2011",
         "type": "bar",
         "x": [
          "January",
          "February",
          "March",
          "April",
          "May",
          "June",
          "July",
          "August",
          "September",
          "October",
          "November",
          "December"
         ],
         "xaxis": "x8",
         "y": [
          null,
          null,
          null,
          30,
          145,
          129,
          398,
          401,
          171,
          58,
          4,
          3
         ],
         "yaxis": "y8"
        },
        {
         "name": "2012",
         "type": "bar",
         "x": [
          "January",
          "February",
          "March",
          "April",
          "May",
          "June",
          "July",
          "August",
          "September",
          "October",
          "November",
          "December"
         ],
         "xaxis": "x8",
         "y": [
          1,
          null,
          16,
          136,
          276,
          125,
          710,
          181,
          175,
          13,
          2,
          null
         ],
         "yaxis": "y8"
        },
        {
         "name": "2013",
         "type": "bar",
         "x": [
          "January",
          "February",
          "March",
          "April",
          "May",
          "June",
          "July",
          "August",
          "September",
          "October",
          "November",
          "December"
         ],
         "xaxis": "x8",
         "y": [
          null,
          null,
          null,
          19,
          140,
          122,
          168,
          105,
          20,
          8,
          null,
          null
         ],
         "yaxis": "y8"
        },
        {
         "name": "2014",
         "type": "bar",
         "x": [
          "January",
          "February",
          "March",
          "April",
          "May",
          "June",
          "July",
          "August",
          "September",
          "October",
          "November",
          "December"
         ],
         "xaxis": "x8",
         "y": [
          null,
          null,
          1,
          5,
          54,
          73,
          86,
          77,
          7,
          6,
          null,
          null
         ],
         "yaxis": "y8"
        },
        {
         "name": "2015",
         "type": "bar",
         "x": [
          "January",
          "February",
          "March",
          "April",
          "May",
          "June",
          "July",
          "August",
          "September",
          "October",
          "November",
          "December"
         ],
         "xaxis": "x8",
         "y": [
          null,
          null,
          2,
          64,
          126,
          132,
          165,
          116,
          55,
          14,
          null,
          1
         ],
         "yaxis": "y8"
        },
        {
         "name": "2016",
         "type": "bar",
         "x": [
          "January",
          "February",
          "March",
          "April",
          "May",
          "June",
          "July",
          "August",
          "September",
          "October",
          "November",
          "December"
         ],
         "xaxis": "x8",
         "y": [
          null,
          null,
          5,
          38,
          176,
          141,
          147,
          113,
          22,
          11,
          4,
          null
         ],
         "yaxis": "y8"
        },
        {
         "name": "2017",
         "type": "bar",
         "x": [
          "January",
          "February",
          "March",
          "April",
          "May",
          "June",
          "July",
          "August",
          "September",
          "October",
          "November",
          "December"
         ],
         "xaxis": "x8",
         "y": [
          null,
          1,
          4,
          23,
          46,
          40,
          230,
          369,
          38,
          30,
          null,
          null
         ],
         "yaxis": "y8"
        },
        {
         "name": "2018",
         "type": "bar",
         "x": [
          "January",
          "February",
          "March",
          "April",
          "May",
          "June",
          "July",
          "August",
          "September",
          "October",
          "November",
          "December"
         ],
         "xaxis": "x8",
         "y": [
          null,
          null,
          5,
          18,
          191,
          245,
          524,
          300,
          55,
          null,
          null,
          1
         ],
         "yaxis": "y8"
        },
        {
         "name": "2019",
         "type": "bar",
         "x": [
          "January",
          "February",
          "March",
          "April",
          "May",
          "June",
          "July",
          "August",
          "September",
          "October",
          "November",
          "December"
         ],
         "xaxis": "x8",
         "y": [
          null,
          null,
          2,
          19,
          58,
          103,
          152,
          193,
          10,
          4,
          null,
          null
         ],
         "yaxis": "y8"
        },
        {
         "name": "2020",
         "type": "bar",
         "x": [
          "January",
          "February",
          "March",
          "April",
          "May",
          "June",
          "July",
          "August",
          "September",
          "October",
          "November",
          "December"
         ],
         "xaxis": "x8",
         "y": [
          null,
          null,
          2,
          22,
          86,
          70,
          303,
          115,
          13,
          3,
          null,
          null
         ],
         "yaxis": "y8"
        },
        {
         "name": "2021",
         "type": "bar",
         "x": [
          "January",
          "February",
          "March",
          "April",
          "May",
          "June",
          "July",
          "August",
          "September",
          "October",
          "November",
          "December"
         ],
         "xaxis": "x8",
         "y": [
          null,
          null,
          null,
          null,
          null,
          null,
          null,
          null,
          null,
          null,
          null,
          null
         ],
         "yaxis": "y8"
        },
        {
         "name": "1990",
         "type": "bar",
         "x": [
          "January",
          "February",
          "March",
          "April",
          "May",
          "June",
          "July",
          "August",
          "September",
          "October",
          "November",
          "December"
         ],
         "xaxis": "x9",
         "y": [
          0,
          0,
          0,
          7,
          13,
          8,
          6,
          1,
          1,
          0,
          2,
          0
         ],
         "yaxis": "y9"
        },
        {
         "name": "1991",
         "type": "bar",
         "x": [
          "January",
          "February",
          "March",
          "April",
          "May",
          "June",
          "July",
          "August",
          "September",
          "October",
          "November",
          "December"
         ],
         "xaxis": "x9",
         "y": [
          0,
          0,
          2,
          17,
          16,
          8,
          3,
          2,
          0,
          0,
          0,
          0
         ],
         "yaxis": "y9"
        },
        {
         "name": "1992",
         "type": "bar",
         "x": [
          "January",
          "February",
          "March",
          "April",
          "May",
          "June",
          "July",
          "August",
          "September",
          "October",
          "November",
          "December"
         ],
         "xaxis": "x9",
         "y": [
          0,
          0,
          0,
          7,
          14,
          3,
          0,
          0,
          2,
          1,
          0,
          0
         ],
         "yaxis": "y9"
        },
        {
         "name": "1993",
         "type": "bar",
         "x": [
          "January",
          "February",
          "March",
          "April",
          "May",
          "June",
          "July",
          "August",
          "September",
          "October",
          "November",
          "December"
         ],
         "xaxis": "x9",
         "y": [
          0,
          0,
          0,
          0,
          26,
          2,
          0,
          0,
          1,
          0,
          0,
          0
         ],
         "yaxis": "y9"
        },
        {
         "name": "1994",
         "type": "bar",
         "x": [
          "January",
          "February",
          "March",
          "April",
          "May",
          "June",
          "July",
          "August",
          "September",
          "October",
          "November",
          "December"
         ],
         "xaxis": "x9",
         "y": [
          0,
          0,
          0,
          12,
          3,
          3,
          4,
          7,
          3,
          4,
          7,
          0
         ],
         "yaxis": "y9"
        },
        {
         "name": "1995",
         "type": "bar",
         "x": [
          "January",
          "February",
          "March",
          "April",
          "May",
          "June",
          "July",
          "August",
          "September",
          "October",
          "November",
          "December"
         ],
         "xaxis": "x9",
         "y": [
          0,
          0,
          0,
          0,
          11,
          2,
          3,
          7,
          4,
          2,
          0,
          0
         ],
         "yaxis": "y9"
        },
        {
         "name": "1996",
         "type": "bar",
         "x": [
          "January",
          "February",
          "March",
          "April",
          "May",
          "June",
          "July",
          "August",
          "September",
          "October",
          "November",
          "December"
         ],
         "xaxis": "x9",
         "y": [
          0,
          0,
          0,
          0,
          0,
          0,
          0,
          0,
          0,
          0,
          0,
          0
         ],
         "yaxis": "y9"
        },
        {
         "name": "1997",
         "type": "bar",
         "x": [
          "January",
          "February",
          "March",
          "April",
          "May",
          "June",
          "July",
          "August",
          "September",
          "October",
          "November",
          "December"
         ],
         "xaxis": "x9",
         "y": [
          0,
          0,
          null,
          2,
          20,
          7,
          2,
          2,
          null,
          1,
          null,
          0
         ],
         "yaxis": "y9"
        },
        {
         "name": "1998",
         "type": "bar",
         "x": [
          "January",
          "February",
          "March",
          "April",
          "May",
          "June",
          "July",
          "August",
          "September",
          "October",
          "November",
          "December"
         ],
         "xaxis": "x9",
         "y": [
          0,
          0,
          null,
          1,
          14,
          2,
          3,
          6,
          null,
          1,
          null,
          0
         ],
         "yaxis": "y9"
        },
        {
         "name": "1999",
         "type": "bar",
         "x": [
          "January",
          "February",
          "March",
          "April",
          "May",
          "June",
          "July",
          "August",
          "September",
          "October",
          "November",
          "December"
         ],
         "xaxis": "x9",
         "y": [
          0,
          0,
          1,
          2,
          13,
          3,
          6,
          0,
          6,
          2,
          1,
          0
         ],
         "yaxis": "y9"
        },
        {
         "name": "2000",
         "type": "bar",
         "x": [
          "January",
          "February",
          "March",
          "April",
          "May",
          "June",
          "July",
          "August",
          "September",
          "October",
          "November",
          "December"
         ],
         "xaxis": "x9",
         "y": [
          null,
          null,
          null,
          null,
          null,
          null,
          null,
          null,
          null,
          null,
          null,
          null
         ],
         "yaxis": "y9"
        },
        {
         "name": "2001",
         "type": "bar",
         "x": [
          "January",
          "February",
          "March",
          "April",
          "May",
          "June",
          "July",
          "August",
          "September",
          "October",
          "November",
          "December"
         ],
         "xaxis": "x9",
         "y": [
          0,
          0,
          0,
          0,
          7,
          3,
          6,
          13,
          6,
          10,
          1,
          0
         ],
         "yaxis": "y9"
        },
        {
         "name": "2002",
         "type": "bar",
         "x": [
          "January",
          "February",
          "March",
          "April",
          "May",
          "June",
          "July",
          "August",
          "September",
          "October",
          "November",
          "December"
         ],
         "xaxis": "x9",
         "y": [
          0,
          0,
          0,
          2,
          13,
          0,
          6,
          4,
          3,
          1,
          0,
          0
         ],
         "yaxis": "y9"
        },
        {
         "name": "2003",
         "type": "bar",
         "x": [
          "January",
          "February",
          "March",
          "April",
          "May",
          "June",
          "July",
          "August",
          "September",
          "October",
          "November",
          "December"
         ],
         "xaxis": "x9",
         "y": [
          0,
          0,
          0,
          2,
          7,
          0,
          0,
          1,
          2,
          1,
          1,
          0
         ],
         "yaxis": "y9"
        },
        {
         "name": "2004",
         "type": "bar",
         "x": [
          "January",
          "February",
          "March",
          "April",
          "May",
          "June",
          "July",
          "August",
          "September",
          "October",
          "November",
          "December"
         ],
         "xaxis": "x9",
         "y": [
          0,
          0,
          0,
          1,
          14,
          3,
          0,
          1,
          0,
          1,
          0,
          0
         ],
         "yaxis": "y9"
        },
        {
         "name": "2005",
         "type": "bar",
         "x": [
          "January",
          "February",
          "March",
          "April",
          "May",
          "June",
          "July",
          "August",
          "September",
          "October",
          "November",
          "December"
         ],
         "xaxis": "x9",
         "y": [
          0,
          0,
          0,
          8,
          1,
          1,
          0,
          1,
          0,
          0,
          1,
          1
         ],
         "yaxis": "y9"
        },
        {
         "name": "2006",
         "type": "bar",
         "x": [
          "January",
          "February",
          "March",
          "April",
          "May",
          "June",
          "July",
          "August",
          "September",
          "October",
          "November",
          "December"
         ],
         "xaxis": "x9",
         "y": [
          0,
          0,
          9,
          10,
          13,
          2,
          0,
          1,
          0,
          0,
          1,
          0
         ],
         "yaxis": "y9"
        },
        {
         "name": "2007",
         "type": "bar",
         "x": [
          "January",
          "February",
          "March",
          "April",
          "May",
          "June",
          "July",
          "August",
          "September",
          "October",
          "November",
          "December"
         ],
         "xaxis": "x9",
         "y": [
          0,
          1,
          0,
          4,
          4,
          0,
          0,
          0,
          0,
          0,
          0,
          0
         ],
         "yaxis": "y9"
        },
        {
         "name": "2008",
         "type": "bar",
         "x": [
          "January",
          "February",
          "March",
          "April",
          "May",
          "June",
          "July",
          "August",
          "September",
          "October",
          "November",
          "December"
         ],
         "xaxis": "x9",
         "y": [
          0,
          0,
          0,
          0,
          0,
          0,
          4,
          0,
          0,
          0,
          0,
          0
         ],
         "yaxis": "y9"
        },
        {
         "name": "2009",
         "type": "bar",
         "x": [
          "January",
          "February",
          "March",
          "April",
          "May",
          "June",
          "July",
          "August",
          "September",
          "October",
          "November",
          "December"
         ],
         "xaxis": "x9",
         "y": [
          0,
          0,
          0,
          3,
          5,
          0,
          0,
          0,
          0,
          0,
          0,
          0
         ],
         "yaxis": "y9"
        },
        {
         "name": "2010",
         "type": "bar",
         "x": [
          "January",
          "February",
          "March",
          "April",
          "May",
          "June",
          "July",
          "August",
          "September",
          "October",
          "November",
          "December"
         ],
         "xaxis": "x9",
         "y": [
          0,
          0,
          0,
          1,
          3,
          0,
          0,
          0,
          0,
          0,
          0,
          0
         ],
         "yaxis": "y9"
        },
        {
         "name": "2011",
         "type": "bar",
         "x": [
          "January",
          "February",
          "March",
          "April",
          "May",
          "June",
          "July",
          "August",
          "September",
          "October",
          "November",
          "December"
         ],
         "xaxis": "x9",
         "y": [
          0,
          0,
          0,
          2,
          1,
          0,
          0,
          0,
          1,
          0,
          0,
          0
         ],
         "yaxis": "y9"
        },
        {
         "name": "2012",
         "type": "bar",
         "x": [
          "January",
          "February",
          "March",
          "April",
          "May",
          "June",
          "July",
          "August",
          "September",
          "October",
          "November",
          "December"
         ],
         "xaxis": "x9",
         "y": [
          0,
          0,
          0,
          2,
          3,
          1,
          1,
          1,
          0,
          0,
          0,
          0
         ],
         "yaxis": "y9"
        },
        {
         "name": "2013",
         "type": "bar",
         "x": [
          "January",
          "February",
          "March",
          "April",
          "May",
          "June",
          "July",
          "August",
          "September",
          "October",
          "November",
          "December"
         ],
         "xaxis": "x9",
         "y": [
          0,
          0,
          0,
          4,
          1,
          1,
          1,
          1,
          0,
          0,
          0,
          0
         ],
         "yaxis": "y9"
        },
        {
         "name": "2014",
         "type": "bar",
         "x": [
          "January",
          "February",
          "March",
          "April",
          "May",
          "June",
          "July",
          "August",
          "September",
          "October",
          "November",
          "December"
         ],
         "xaxis": "x9",
         "y": [
          null,
          null,
          null,
          null,
          1,
          2,
          null,
          null,
          1,
          null,
          null,
          null
         ],
         "yaxis": "y9"
        },
        {
         "name": "2015",
         "type": "bar",
         "x": [
          "January",
          "February",
          "March",
          "April",
          "May",
          "June",
          "July",
          "August",
          "September",
          "October",
          "November",
          "December"
         ],
         "xaxis": "x9",
         "y": [
          null,
          null,
          null,
          null,
          null,
          null,
          null,
          null,
          null,
          null,
          null,
          null
         ],
         "yaxis": "y9"
        },
        {
         "name": "2016",
         "type": "bar",
         "x": [
          "January",
          "February",
          "March",
          "April",
          "May",
          "June",
          "July",
          "August",
          "September",
          "October",
          "November",
          "December"
         ],
         "xaxis": "x9",
         "y": [
          0,
          0,
          0,
          5,
          2,
          0,
          0,
          0,
          1,
          0,
          0,
          0
         ],
         "yaxis": "y9"
        },
        {
         "name": "2017",
         "type": "bar",
         "x": [
          "January",
          "February",
          "March",
          "April",
          "May",
          "June",
          "July",
          "August",
          "September",
          "October",
          "November",
          "December"
         ],
         "xaxis": "x9",
         "y": [
          0,
          0,
          0,
          0,
          0,
          0,
          0,
          0,
          0,
          0,
          0,
          0
         ],
         "yaxis": "y9"
        },
        {
         "name": "2018",
         "type": "bar",
         "x": [
          "January",
          "February",
          "March",
          "April",
          "May",
          "June",
          "July",
          "August",
          "September",
          "October",
          "November",
          "December"
         ],
         "xaxis": "x9",
         "y": [
          null,
          null,
          null,
          null,
          7,
          null,
          null,
          null,
          1,
          null,
          null,
          null
         ],
         "yaxis": "y9"
        },
        {
         "name": "2019",
         "type": "bar",
         "x": [
          "January",
          "February",
          "March",
          "April",
          "May",
          "June",
          "July",
          "August",
          "September",
          "October",
          "November",
          "December"
         ],
         "xaxis": "x9",
         "y": [
          null,
          null,
          null,
          1,
          null,
          null,
          null,
          1,
          null,
          null,
          null,
          1
         ],
         "yaxis": "y9"
        },
        {
         "name": "2020",
         "type": "bar",
         "x": [
          "January",
          "February",
          "March",
          "April",
          "May",
          "June",
          "July",
          "August",
          "September",
          "October",
          "November",
          "December"
         ],
         "xaxis": "x9",
         "y": [
          null,
          null,
          null,
          null,
          null,
          null,
          null,
          null,
          null,
          null,
          null,
          null
         ],
         "yaxis": "y9"
        },
        {
         "name": "2021",
         "type": "bar",
         "x": [
          "January",
          "February",
          "March",
          "April",
          "May",
          "June",
          "July",
          "August",
          "September",
          "October",
          "November",
          "December"
         ],
         "xaxis": "x9",
         "y": [
          null,
          null,
          null,
          null,
          null,
          null,
          null,
          null,
          null,
          null,
          null,
          null
         ],
         "yaxis": "y9"
        },
        {
         "name": "1990",
         "type": "bar",
         "x": [
          "February",
          "March",
          "April",
          "May",
          "June",
          "July",
          "August",
          "September",
          "October",
          "November",
          "December"
         ],
         "xaxis": "x10",
         "y": [
          null,
          1,
          59,
          214,
          139,
          178,
          138,
          118,
          4,
          null,
          null
         ],
         "yaxis": "y10"
        },
        {
         "name": "1991",
         "type": "bar",
         "x": [
          "February",
          "March",
          "April",
          "May",
          "June",
          "July",
          "August",
          "September",
          "October",
          "November",
          "December"
         ],
         "xaxis": "x10",
         "y": [
          null,
          1,
          64,
          220,
          408,
          318,
          162,
          32,
          6,
          5,
          null
         ],
         "yaxis": "y10"
        },
        {
         "name": "1992",
         "type": "bar",
         "x": [
          "February",
          "March",
          "April",
          "May",
          "June",
          "July",
          "August",
          "September",
          "October",
          "November",
          "December"
         ],
         "xaxis": "x10",
         "y": [
          null,
          null,
          44,
          405,
          180,
          54,
          59,
          14,
          7,
          2,
          null
         ],
         "yaxis": "y10"
        },
        {
         "name": "1993",
         "type": "bar",
         "x": [
          "February",
          "March",
          "April",
          "May",
          "June",
          "July",
          "August",
          "September",
          "October",
          "November",
          "December"
         ],
         "xaxis": "x10",
         "y": [
          null,
          null,
          32,
          188,
          98,
          129,
          81,
          10,
          4,
          1,
          null
         ],
         "yaxis": "y10"
        },
        {
         "name": "1994",
         "type": "bar",
         "x": [
          "February",
          "March",
          "April",
          "May",
          "June",
          "July",
          "August",
          "September",
          "October",
          "November",
          "December"
         ],
         "xaxis": "x10",
         "y": [
          null,
          null,
          15,
          218,
          139,
          27,
          30,
          17,
          46,
          7,
          null
         ],
         "yaxis": "y10"
        },
        {
         "name": "1995",
         "type": "bar",
         "x": [
          "February",
          "March",
          "April",
          "May",
          "June",
          "July",
          "August",
          "September",
          "October",
          "November",
          "December"
         ],
         "xaxis": "x10",
         "y": [
          null,
          9,
          33,
          139,
          470,
          170,
          367,
          53,
          23,
          1,
          null
         ],
         "yaxis": "y10"
        },
        {
         "name": "1996",
         "type": "bar",
         "x": [
          "February",
          "March",
          "April",
          "May",
          "June",
          "July",
          "August",
          "September",
          "October",
          "November",
          "December"
         ],
         "xaxis": "x10",
         "y": [
          null,
          null,
          5,
          163,
          706,
          55,
          209,
          92,
          19,
          1,
          null
         ],
         "yaxis": "y10"
        },
        {
         "name": "1997",
         "type": "bar",
         "x": [
          "February",
          "March",
          "April",
          "May",
          "June",
          "July",
          "August",
          "September",
          "October",
          "November",
          "December"
         ],
         "xaxis": "x10",
         "y": [
          null,
          null,
          21,
          63,
          436,
          143,
          146,
          22,
          44,
          1,
          null
         ],
         "yaxis": "y10"
        },
        {
         "name": "1998",
         "type": "bar",
         "x": [
          "February",
          "March",
          "April",
          "May",
          "June",
          "July",
          "August",
          "September",
          "October",
          "November",
          "December"
         ],
         "xaxis": "x10",
         "y": [
          null,
          null,
          115,
          279,
          112,
          106,
          171,
          34,
          29,
          8,
          null
         ],
         "yaxis": "y10"
        },
        {
         "name": "1999",
         "type": "bar",
         "x": [
          "February",
          "March",
          "April",
          "May",
          "June",
          "July",
          "August",
          "September",
          "October",
          "November",
          "December"
         ],
         "xaxis": "x10",
         "y": [
          null,
          null,
          92,
          311,
          197,
          140,
          165,
          120,
          5,
          7,
          null
         ],
         "yaxis": "y10"
        },
        {
         "name": "2000",
         "type": "bar",
         "x": [
          "February",
          "March",
          "April",
          "May",
          "June",
          "July",
          "August",
          "September",
          "October",
          "November",
          "December"
         ],
         "xaxis": "x10",
         "y": [
          null,
          1,
          80,
          100,
          74,
          137,
          52,
          44,
          25,
          4,
          null
         ],
         "yaxis": "y10"
        },
        {
         "name": "2001",
         "type": "bar",
         "x": [
          "February",
          "March",
          "April",
          "May",
          "June",
          "July",
          "August",
          "September",
          "October",
          "November",
          "December"
         ],
         "xaxis": "x10",
         "y": [
          null,
          null,
          98,
          296,
          127,
          109,
          324,
          41,
          8,
          2,
          null
         ],
         "yaxis": "y10"
        },
        {
         "name": "2002",
         "type": "bar",
         "x": [
          "February",
          "March",
          "April",
          "May",
          "June",
          "July",
          "August",
          "September",
          "October",
          "November",
          "December"
         ],
         "xaxis": "x10",
         "y": [
          1,
          1,
          53,
          128,
          84,
          249,
          166,
          205,
          11,
          1,
          null
         ],
         "yaxis": "y10"
        },
        {
         "name": "2003",
         "type": "bar",
         "x": [
          "February",
          "March",
          "April",
          "May",
          "June",
          "July",
          "August",
          "September",
          "October",
          "November",
          "December"
         ],
         "xaxis": "x10",
         "y": [
          null,
          null,
          39,
          254,
          193,
          78,
          91,
          53,
          12,
          null,
          null
         ],
         "yaxis": "y10"
        },
        {
         "name": "2004",
         "type": "bar",
         "x": [
          "February",
          "March",
          "April",
          "May",
          "June",
          "July",
          "August",
          "September",
          "October",
          "November",
          "December"
         ],
         "xaxis": "x10",
         "y": [
          null,
          null,
          32,
          82,
          77,
          39,
          26,
          36,
          29,
          1,
          null
         ],
         "yaxis": "y10"
        },
        {
         "name": "2005",
         "type": "bar",
         "x": [
          "February",
          "March",
          "April",
          "May",
          "June",
          "July",
          "August",
          "September",
          "October",
          "November",
          "December"
         ],
         "xaxis": "x10",
         "y": [
          null,
          null,
          104,
          259,
          160,
          431,
          313,
          104,
          3,
          1,
          null
         ],
         "yaxis": "y10"
        },
        {
         "name": "2006",
         "type": "bar",
         "x": [
          "February",
          "March",
          "April",
          "May",
          "June",
          "July",
          "August",
          "September",
          "October",
          "November",
          "December"
         ],
         "xaxis": "x10",
         "y": [
          null,
          1,
          92,
          106,
          256,
          129,
          49,
          42,
          8,
          1,
          null
         ],
         "yaxis": "y10"
        },
        {
         "name": "2007",
         "type": "bar",
         "x": [
          "February",
          "March",
          "April",
          "May",
          "June",
          "July",
          "August",
          "September",
          "October",
          "November",
          "December"
         ],
         "xaxis": "x10",
         "y": [
          null,
          null,
          37,
          271,
          319,
          63,
          192,
          26,
          28,
          3,
          null
         ],
         "yaxis": "y10"
        },
        {
         "name": "2008",
         "type": "bar",
         "x": [
          "February",
          "March",
          "April",
          "May",
          "June",
          "July",
          "August",
          "September",
          "October",
          "November",
          "December"
         ],
         "xaxis": "x10",
         "y": [
          null,
          null,
          33,
          77,
          36,
          18,
          35,
          12,
          9,
          2,
          null
         ],
         "yaxis": "y10"
        },
        {
         "name": "2009",
         "type": "bar",
         "x": [
          "February",
          "March",
          "April",
          "May",
          "June",
          "July",
          "August",
          "September",
          "October",
          "November",
          "December"
         ],
         "xaxis": "x10",
         "y": [
          null,
          1,
          105,
          94,
          195,
          21,
          26,
          32,
          2,
          7,
          null
         ],
         "yaxis": "y10"
        },
        {
         "name": "2010",
         "type": "bar",
         "x": [
          "February",
          "March",
          "April",
          "May",
          "June",
          "July",
          "August",
          "September",
          "October",
          "November",
          "December"
         ],
         "xaxis": "x10",
         "y": [
          null,
          11,
          108,
          251,
          154,
          89,
          95,
          21,
          7,
          4,
          null
         ],
         "yaxis": "y10"
        },
        {
         "name": "2011",
         "type": "bar",
         "x": [
          "February",
          "March",
          "April",
          "May",
          "June",
          "July",
          "August",
          "September",
          "October",
          "November",
          "December"
         ],
         "xaxis": "x10",
         "y": [
          null,
          null,
          4,
          63,
          75,
          71,
          58,
          29,
          26,
          5,
          null
         ],
         "yaxis": "y10"
        },
        {
         "name": "2012",
         "type": "bar",
         "x": [
          "February",
          "March",
          "April",
          "May",
          "June",
          "July",
          "August",
          "September",
          "October",
          "November",
          "December"
         ],
         "xaxis": "x10",
         "y": [
          null,
          14,
          113,
          181,
          94,
          268,
          86,
          32,
          7,
          3,
          null
         ],
         "yaxis": "y10"
        },
        {
         "name": "2013",
         "type": "bar",
         "x": [
          "February",
          "March",
          "April",
          "May",
          "June",
          "July",
          "August",
          "September",
          "October",
          "November",
          "December"
         ],
         "xaxis": "x10",
         "y": [
          null,
          null,
          64,
          164,
          89,
          138,
          40,
          15,
          15,
          3,
          null
         ],
         "yaxis": "y10"
        },
        {
         "name": "2014",
         "type": "bar",
         "x": [
          "February",
          "March",
          "April",
          "May",
          "June",
          "July",
          "August",
          "September",
          "October",
          "November",
          "December"
         ],
         "xaxis": "x10",
         "y": [
          null,
          null,
          14,
          57,
          72,
          66,
          67,
          11,
          5,
          4,
          null
         ],
         "yaxis": "y10"
        },
        {
         "name": "2015",
         "type": "bar",
         "x": [
          "February",
          "March",
          "April",
          "May",
          "June",
          "July",
          "August",
          "September",
          "October",
          "November",
          "December"
         ],
         "xaxis": "x10",
         "y": [
          null,
          null,
          29,
          213,
          46,
          40,
          30,
          21,
          9,
          3,
          1
         ],
         "yaxis": "y10"
        },
        {
         "name": "2016",
         "type": "bar",
         "x": [
          "February",
          "March",
          "April",
          "May",
          "June",
          "July",
          "August",
          "September",
          "October",
          "November",
          "December"
         ],
         "xaxis": "x10",
         "y": [
          null,
          1,
          88,
          124,
          119,
          141,
          86,
          17,
          25,
          5,
          1
         ],
         "yaxis": "y10"
        },
        {
         "name": "2017",
         "type": "bar",
         "x": [
          "February",
          "March",
          "April",
          "May",
          "June",
          "July",
          "August",
          "September",
          "October",
          "November",
          "December"
         ],
         "xaxis": "x10",
         "y": [
          1,
          null,
          25,
          33,
          78,
          88,
          57,
          16,
          22,
          2,
          null
         ],
         "yaxis": "y10"
        },
        {
         "name": "2018",
         "type": "bar",
         "x": [
          "February",
          "March",
          "April",
          "May",
          "June",
          "July",
          "August",
          "September",
          "October",
          "November",
          "December"
         ],
         "xaxis": "x10",
         "y": [
          null,
          null,
          12,
          190,
          124,
          201,
          38,
          18,
          13,
          1,
          null
         ],
         "yaxis": "y10"
        },
        {
         "name": "2019",
         "type": "bar",
         "x": [
          "February",
          "March",
          "April",
          "May",
          "June",
          "July",
          "August",
          "September",
          "October",
          "November",
          "December"
         ],
         "xaxis": "x10",
         "y": [
          null,
          null,
          3,
          54,
          59,
          120,
          96,
          21,
          9,
          null,
          null
         ],
         "yaxis": "y10"
        },
        {
         "name": "2020",
         "type": "bar",
         "x": [
          "February",
          "March",
          "April",
          "May",
          "June",
          "July",
          "August",
          "September",
          "October",
          "November",
          "December"
         ],
         "xaxis": "x10",
         "y": [
          null,
          2,
          81,
          277,
          174,
          105,
          36,
          27,
          3,
          7,
          null
         ],
         "yaxis": "y10"
        },
        {
         "name": "2021",
         "type": "bar",
         "x": [
          "February",
          "March",
          "April",
          "May",
          "June",
          "July",
          "August",
          "September",
          "October",
          "November",
          "December"
         ],
         "xaxis": "x10",
         "y": [
          null,
          null,
          null,
          null,
          null,
          null,
          null,
          null,
          null,
          null,
          null
         ],
         "yaxis": "y10"
        },
        {
         "name": "1990",
         "type": "bar",
         "x": [
          "January",
          "February",
          "March",
          "April",
          "May",
          "June",
          "July",
          "August",
          "September",
          "October",
          "November",
          "December"
         ],
         "xaxis": "x11",
         "y": [
          null,
          null,
          2,
          18,
          103,
          275,
          130,
          314,
          45,
          10,
          null,
          null
         ],
         "yaxis": "y11"
        },
        {
         "name": "1991",
         "type": "bar",
         "x": [
          "January",
          "February",
          "March",
          "April",
          "May",
          "June",
          "July",
          "August",
          "September",
          "October",
          "November",
          "December"
         ],
         "xaxis": "x11",
         "y": [
          2,
          null,
          1,
          79,
          127,
          75,
          111,
          272,
          48,
          31,
          14,
          2
         ],
         "yaxis": "y11"
        },
        {
         "name": "1992",
         "type": "bar",
         "x": [
          "January",
          "February",
          "March",
          "April",
          "May",
          "June",
          "July",
          "August",
          "September",
          "October",
          "November",
          "December"
         ],
         "xaxis": "x11",
         "y": [
          null,
          null,
          3,
          50,
          103,
          151,
          150,
          215,
          18,
          7,
          2,
          null
         ],
         "yaxis": "y11"
        },
        {
         "name": "1993",
         "type": "bar",
         "x": [
          "January",
          "February",
          "March",
          "April",
          "May",
          "June",
          "July",
          "August",
          "September",
          "October",
          "November",
          "December"
         ],
         "xaxis": "x11",
         "y": [
          2,
          1,
          21,
          47,
          219,
          216,
          82,
          30,
          22,
          3,
          2,
          null
         ],
         "yaxis": "y11"
        },
        {
         "name": "1994",
         "type": "bar",
         "x": [
          "January",
          "February",
          "March",
          "April",
          "May",
          "June",
          "July",
          "August",
          "September",
          "October",
          "November",
          "December"
         ],
         "xaxis": "x11",
         "y": [
          1,
          null,
          1,
          28,
          95,
          153,
          74,
          193,
          142,
          10,
          null,
          null
         ],
         "yaxis": "y11"
        },
        {
         "name": "1995",
         "type": "bar",
         "x": [
          "January",
          "February",
          "March",
          "April",
          "May",
          "June",
          "July",
          "August",
          "September",
          "October",
          "November",
          "December"
         ],
         "xaxis": "x11",
         "y": [
          null,
          null,
          null,
          10,
          222,
          283,
          85,
          18,
          20,
          9,
          3,
          1
         ],
         "yaxis": "y11"
        },
        {
         "name": "1996",
         "type": "bar",
         "x": [
          "January",
          "February",
          "March",
          "April",
          "May",
          "June",
          "July",
          "August",
          "September",
          "October",
          "November",
          "December"
         ],
         "xaxis": "x11",
         "y": [
          1,
          1,
          null,
          6,
          62,
          123,
          161,
          53,
          15,
          3,
          null,
          null
         ],
         "yaxis": "y11"
        },
        {
         "name": "1997",
         "type": "bar",
         "x": [
          "January",
          "February",
          "March",
          "April",
          "May",
          "June",
          "July",
          "August",
          "September",
          "October",
          "November",
          "December"
         ],
         "xaxis": "x11",
         "y": [
          null,
          null,
          null,
          10,
          92,
          52,
          150,
          168,
          15,
          2,
          null,
          null
         ],
         "yaxis": "y11"
        },
        {
         "name": "1998",
         "type": "bar",
         "x": [
          "January",
          "February",
          "March",
          "April",
          "May",
          "June",
          "July",
          "August",
          "September",
          "October",
          "November",
          "December"
         ],
         "xaxis": "x11",
         "y": [
          null,
          null,
          null,
          107,
          292,
          216,
          355,
          220,
          71,
          6,
          null,
          1
         ],
         "yaxis": "y11"
        },
        {
         "name": "1999",
         "type": "bar",
         "x": [
          "January",
          "February",
          "March",
          "April",
          "May",
          "June",
          "July",
          "August",
          "September",
          "October",
          "November",
          "December"
         ],
         "xaxis": "x11",
         "y": [
          null,
          null,
          1,
          51,
          100,
          158,
          252,
          158,
          6,
          7,
          7,
          null
         ],
         "yaxis": "y11"
        },
        {
         "name": "2000",
         "type": "bar",
         "x": [
          "January",
          "February",
          "March",
          "April",
          "May",
          "June",
          "July",
          "August",
          "September",
          "October",
          "November",
          "December"
         ],
         "xaxis": "x11",
         "y": [
          1,
          null,
          4,
          46,
          72,
          137,
          89,
          46,
          15,
          11,
          null,
          null
         ],
         "yaxis": "y11"
        },
        {
         "name": "2001",
         "type": "bar",
         "x": [
          "January",
          "February",
          "March",
          "April",
          "May",
          "June",
          "July",
          "August",
          "September",
          "October",
          "November",
          "December"
         ],
         "xaxis": "x11",
         "y": [
          4,
          1,
          3,
          121,
          158,
          200,
          116,
          154,
          74,
          44,
          null,
          null
         ],
         "yaxis": "y11"
        },
        {
         "name": "2002",
         "type": "bar",
         "x": [
          "January",
          "February",
          "March",
          "April",
          "May",
          "June",
          "July",
          "August",
          "September",
          "October",
          "November",
          "December"
         ],
         "xaxis": "x11",
         "y": [
          2,
          3,
          3,
          35,
          292,
          345,
          183,
          21,
          5,
          2,
          null,
          null
         ],
         "yaxis": "y11"
        },
        {
         "name": "2003",
         "type": "bar",
         "x": [
          "January",
          "February",
          "March",
          "April",
          "May",
          "June",
          "July",
          "August",
          "September",
          "October",
          "November",
          "December"
         ],
         "xaxis": "x11",
         "y": [
          null,
          null,
          null,
          48,
          135,
          73,
          221,
          146,
          15,
          20,
          null,
          null
         ],
         "yaxis": "y11"
        },
        {
         "name": "2004",
         "type": "bar",
         "x": [
          "January",
          "February",
          "March",
          "April",
          "May",
          "June",
          "July",
          "August",
          "September",
          "October",
          "November",
          "December"
         ],
         "xaxis": "x11",
         "y": [
          null,
          2,
          1,
          19,
          80,
          26,
          166,
          31,
          3,
          3,
          1,
          null
         ],
         "yaxis": "y11"
        },
        {
         "name": "2005",
         "type": "bar",
         "x": [
          "January",
          "February",
          "March",
          "April",
          "May",
          "June",
          "July",
          "August",
          "September",
          "October",
          "November",
          "December"
         ],
         "xaxis": "x11",
         "y": [
          null,
          null,
          null,
          15,
          76,
          32,
          191,
          17,
          5,
          2,
          null,
          null
         ],
         "yaxis": "y11"
        },
        {
         "name": "2006",
         "type": "bar",
         "x": [
          "January",
          "February",
          "March",
          "April",
          "May",
          "June",
          "July",
          "August",
          "September",
          "October",
          "November",
          "December"
         ],
         "xaxis": "x11",
         "y": [
          11,
          19,
          7,
          79,
          60,
          204,
          77,
          41,
          10,
          3,
          5,
          9
         ],
         "yaxis": "y11"
        },
        {
         "name": "2007",
         "type": "bar",
         "x": [
          "January",
          "February",
          "March",
          "April",
          "May",
          "June",
          "July",
          "August",
          "September",
          "October",
          "November",
          "December"
         ],
         "xaxis": "x11",
         "y": [
          null,
          null,
          null,
          44,
          78,
          76,
          124,
          47,
          3,
          2,
          null,
          null
         ],
         "yaxis": "y11"
        },
        {
         "name": "2008",
         "type": "bar",
         "x": [
          "January",
          "February",
          "March",
          "April",
          "May",
          "June",
          "July",
          "August",
          "September",
          "October",
          "November",
          "December"
         ],
         "xaxis": "x11",
         "y": [
          1,
          null,
          null,
          28,
          161,
          265,
          98,
          31,
          7,
          12,
          null,
          null
         ],
         "yaxis": "y11"
        },
        {
         "name": "2009",
         "type": "bar",
         "x": [
          "January",
          "February",
          "March",
          "April",
          "May",
          "June",
          "July",
          "August",
          "September",
          "October",
          "November",
          "December"
         ],
         "xaxis": "x11",
         "y": [
          1,
          null,
          null,
          59,
          193,
          201,
          14,
          17,
          29,
          null,
          1,
          null
         ],
         "yaxis": "y11"
        },
        {
         "name": "2010",
         "type": "bar",
         "x": [
          "January",
          "February",
          "March",
          "April",
          "May",
          "June",
          "July",
          "August",
          "September",
          "October",
          "November",
          "December"
         ],
         "xaxis": "x11",
         "y": [
          1,
          null,
          1,
          56,
          103,
          166,
          190,
          64,
          null,
          1,
          null,
          null
         ],
         "yaxis": "y11"
        },
        {
         "name": "2011",
         "type": "bar",
         "x": [
          "January",
          "February",
          "March",
          "April",
          "May",
          "June",
          "July",
          "August",
          "September",
          "October",
          "November",
          "December"
         ],
         "xaxis": "x11",
         "y": [
          null,
          null,
          null,
          20,
          144,
          68,
          19,
          15,
          28,
          13,
          1,
          null
         ],
         "yaxis": "y11"
        },
        {
         "name": "2012",
         "type": "bar",
         "x": [
          "January",
          "February",
          "March",
          "April",
          "May",
          "June",
          "July",
          "August",
          "September",
          "October",
          "November",
          "December"
         ],
         "xaxis": "x11",
         "y": [
          null,
          null,
          1,
          40,
          89,
          38,
          169,
          72,
          15,
          2,
          2,
          null
         ],
         "yaxis": "y11"
        },
        {
         "name": "2013",
         "type": "bar",
         "x": [
          "January",
          "February",
          "March",
          "April",
          "May",
          "June",
          "July",
          "August",
          "September",
          "October",
          "November",
          "December"
         ],
         "xaxis": "x11",
         "y": [
          null,
          null,
          null,
          4,
          177,
          51,
          48,
          115,
          48,
          6,
          null,
          null
         ],
         "yaxis": "y11"
        },
        {
         "name": "2014",
         "type": "bar",
         "x": [
          "January",
          "February",
          "March",
          "April",
          "May",
          "June",
          "July",
          "August",
          "September",
          "October",
          "November",
          "December"
         ],
         "xaxis": "x11",
         "y": [
          null,
          null,
          null,
          5,
          142,
          37,
          111,
          97,
          10,
          3,
          null,
          null
         ],
         "yaxis": "y11"
        },
        {
         "name": "2015",
         "type": "bar",
         "x": [
          "January",
          "February",
          "March",
          "April",
          "May",
          "June",
          "July",
          "August",
          "September",
          "October",
          "November",
          "December"
         ],
         "xaxis": "x11",
         "y": [
          null,
          null,
          1,
          74,
          195,
          258,
          148,
          38,
          8,
          12,
          1,
          null
         ],
         "yaxis": "y11"
        },
        {
         "name": "2016",
         "type": "bar",
         "x": [
          "January",
          "February",
          "March",
          "April",
          "May",
          "June",
          "July",
          "August",
          "September",
          "October",
          "November",
          "December"
         ],
         "xaxis": "x11",
         "y": [
          null,
          null,
          null,
          87,
          111,
          125,
          53,
          23,
          9,
          null,
          null,
          null
         ],
         "yaxis": "y11"
        },
        {
         "name": "2017",
         "type": "bar",
         "x": [
          "January",
          "February",
          "March",
          "April",
          "May",
          "June",
          "July",
          "August",
          "September",
          "October",
          "November",
          "December"
         ],
         "xaxis": "x11",
         "y": [
          null,
          null,
          1,
          16,
          76,
          15,
          72,
          138,
          37,
          13,
          null,
          null
         ],
         "yaxis": "y11"
        },
        {
         "name": "2018",
         "type": "bar",
         "x": [
          "January",
          "February",
          "March",
          "April",
          "May",
          "June",
          "July",
          "August",
          "September",
          "October",
          "November",
          "December"
         ],
         "xaxis": "x11",
         "y": [
          null,
          null,
          null,
          50,
          178,
          125,
          61,
          30,
          1,
          7,
          null,
          null
         ],
         "yaxis": "y11"
        },
        {
         "name": "2019",
         "type": "bar",
         "x": [
          "January",
          "February",
          "March",
          "April",
          "May",
          "June",
          "July",
          "August",
          "September",
          "October",
          "November",
          "December"
         ],
         "xaxis": "x11",
         "y": [
          1,
          null,
          null,
          41,
          73,
          59,
          58,
          14,
          2,
          3,
          2,
          5
         ],
         "yaxis": "y11"
        },
        {
         "name": "2020",
         "type": "bar",
         "x": [
          "January",
          "February",
          "March",
          "April",
          "May",
          "June",
          "July",
          "August",
          "September",
          "October",
          "November",
          "December"
         ],
         "xaxis": "x11",
         "y": [
          1,
          2,
          2,
          12,
          49,
          35,
          26,
          31,
          27,
          8,
          8,
          null
         ],
         "yaxis": "y11"
        },
        {
         "name": "2021",
         "type": "bar",
         "x": [
          "January",
          "February",
          "March",
          "April",
          "May",
          "June",
          "July",
          "August",
          "September",
          "October",
          "November",
          "December"
         ],
         "xaxis": "x11",
         "y": [
          null,
          null,
          null,
          null,
          null,
          null,
          null,
          null,
          null,
          null,
          null,
          null
         ],
         "yaxis": "y11"
        },
        {
         "name": "1990",
         "type": "bar",
         "x": [
          "January",
          "March",
          "April",
          "May",
          "June",
          "July",
          "August",
          "September",
          "October",
          "November",
          "December"
         ],
         "xaxis": "x12",
         "y": [
          null,
          null,
          3,
          15,
          19,
          69,
          32,
          14,
          2,
          null,
          null
         ],
         "yaxis": "y12"
        },
        {
         "name": "1991",
         "type": "bar",
         "x": [
          "January",
          "March",
          "April",
          "May",
          "June",
          "July",
          "August",
          "September",
          "October",
          "November",
          "December"
         ],
         "xaxis": "x12",
         "y": [
          null,
          null,
          8,
          28,
          109,
          33,
          9,
          null,
          null,
          null,
          null
         ],
         "yaxis": "y12"
        },
        {
         "name": "1992",
         "type": "bar",
         "x": [
          "January",
          "March",
          "April",
          "May",
          "June",
          "July",
          "August",
          "September",
          "October",
          "November",
          "December"
         ],
         "xaxis": "x12",
         "y": [
          null,
          null,
          null,
          9,
          26,
          72,
          9,
          null,
          null,
          null,
          null
         ],
         "yaxis": "y12"
        },
        {
         "name": "1993",
         "type": "bar",
         "x": [
          "January",
          "March",
          "April",
          "May",
          "June",
          "July",
          "August",
          "September",
          "October",
          "November",
          "December"
         ],
         "xaxis": "x12",
         "y": [
          null,
          null,
          1,
          21,
          45,
          48,
          10,
          10,
          1,
          null,
          null
         ],
         "yaxis": "y12"
        },
        {
         "name": "1994",
         "type": "bar",
         "x": [
          "January",
          "March",
          "April",
          "May",
          "June",
          "July",
          "August",
          "September",
          "October",
          "November",
          "December"
         ],
         "xaxis": "x12",
         "y": [
          null,
          null,
          5,
          16,
          47,
          113,
          73,
          1,
          null,
          null,
          null
         ],
         "yaxis": "y12"
        },
        {
         "name": "1995",
         "type": "bar",
         "x": [
          "January",
          "March",
          "April",
          "May",
          "June",
          "July",
          "August",
          "September",
          "October",
          "November",
          "December"
         ],
         "xaxis": "x12",
         "y": [
          null,
          1,
          4,
          31,
          80,
          22,
          6,
          2,
          null,
          1,
          null
         ],
         "yaxis": "y12"
        },
        {
         "name": "1996",
         "type": "bar",
         "x": [
          "January",
          "March",
          "April",
          "May",
          "June",
          "July",
          "August",
          "September",
          "October",
          "November",
          "December"
         ],
         "xaxis": "x12",
         "y": [
          null,
          2,
          2,
          19,
          72,
          44,
          7,
          3,
          null,
          null,
          null
         ],
         "yaxis": "y12"
        },
        {
         "name": "1997",
         "type": "bar",
         "x": [
          "January",
          "March",
          "April",
          "May",
          "June",
          "July",
          "August",
          "September",
          "October",
          "November",
          "December"
         ],
         "xaxis": "x12",
         "y": [
          null,
          null,
          null,
          23,
          34,
          37,
          13,
          3,
          2,
          null,
          null
         ],
         "yaxis": "y12"
        },
        {
         "name": "1998",
         "type": "bar",
         "x": [
          "January",
          "March",
          "April",
          "May",
          "June",
          "July",
          "August",
          "September",
          "October",
          "November",
          "December"
         ],
         "xaxis": "x12",
         "y": [
          null,
          null,
          2,
          44,
          36,
          73,
          35,
          7,
          null,
          null,
          null
         ],
         "yaxis": "y12"
        },
        {
         "name": "1999",
         "type": "bar",
         "x": [
          "January",
          "March",
          "April",
          "May",
          "June",
          "July",
          "August",
          "September",
          "October",
          "November",
          "December"
         ],
         "xaxis": "x12",
         "y": [
          null,
          null,
          2,
          10,
          49,
          36,
          61,
          1,
          null,
          null,
          null
         ],
         "yaxis": "y12"
        },
        {
         "name": "2000",
         "type": "bar",
         "x": [
          "January",
          "March",
          "April",
          "May",
          "June",
          "July",
          "August",
          "September",
          "October",
          "November",
          "December"
         ],
         "xaxis": "x12",
         "y": [
          null,
          null,
          null,
          8,
          36,
          3,
          null,
          null,
          null,
          null,
          null
         ],
         "yaxis": "y12"
        },
        {
         "name": "2001",
         "type": "bar",
         "x": [
          "January",
          "March",
          "April",
          "May",
          "June",
          "July",
          "August",
          "September",
          "October",
          "November",
          "December"
         ],
         "xaxis": "x12",
         "y": [
          null,
          null,
          1,
          8,
          30,
          20,
          9,
          null,
          null,
          null,
          null
         ],
         "yaxis": "y12"
        },
        {
         "name": "2002",
         "type": "bar",
         "x": [
          "January",
          "March",
          "April",
          "May",
          "June",
          "July",
          "August",
          "September",
          "October",
          "November",
          "December"
         ],
         "xaxis": "x12",
         "y": [
          null,
          null,
          null,
          17,
          30,
          19,
          4,
          null,
          null,
          null,
          null
         ],
         "yaxis": "y12"
        },
        {
         "name": "2003",
         "type": "bar",
         "x": [
          "January",
          "March",
          "April",
          "May",
          "June",
          "July",
          "August",
          "September",
          "October",
          "November",
          "December"
         ],
         "xaxis": "x12",
         "y": [
          null,
          null,
          3,
          13,
          30,
          20,
          4,
          2,
          null,
          5,
          null
         ],
         "yaxis": "y12"
        },
        {
         "name": "2004",
         "type": "bar",
         "x": [
          "January",
          "March",
          "April",
          "May",
          "June",
          "July",
          "August",
          "September",
          "October",
          "November",
          "December"
         ],
         "xaxis": "x12",
         "y": [
          null,
          null,
          null,
          5,
          138,
          100,
          33,
          5,
          1,
          null,
          null
         ],
         "yaxis": "y12"
        },
        {
         "name": "2005",
         "type": "bar",
         "x": [
          "January",
          "March",
          "April",
          "May",
          "June",
          "July",
          "August",
          "September",
          "October",
          "November",
          "December"
         ],
         "xaxis": "x12",
         "y": [
          null,
          null,
          1,
          12,
          45,
          20,
          4,
          1,
          null,
          null,
          null
         ],
         "yaxis": "y12"
        },
        {
         "name": "2006",
         "type": "bar",
         "x": [
          "January",
          "March",
          "April",
          "May",
          "June",
          "July",
          "August",
          "September",
          "October",
          "November",
          "December"
         ],
         "xaxis": "x12",
         "y": [
          null,
          null,
          1,
          3,
          32,
          36,
          5,
          2,
          1,
          null,
          null
         ],
         "yaxis": "y12"
        },
        {
         "name": "2007",
         "type": "bar",
         "x": [
          "January",
          "March",
          "April",
          "May",
          "June",
          "July",
          "August",
          "September",
          "October",
          "November",
          "December"
         ],
         "xaxis": "x12",
         "y": [
          null,
          null,
          1,
          10,
          50,
          25,
          15,
          null,
          10,
          null,
          null
         ],
         "yaxis": "y12"
        },
        {
         "name": "2008",
         "type": "bar",
         "x": [
          "January",
          "March",
          "April",
          "May",
          "June",
          "July",
          "August",
          "September",
          "October",
          "November",
          "December"
         ],
         "xaxis": "x12",
         "y": [
          null,
          null,
          null,
          11,
          40,
          6,
          10,
          2,
          1,
          null,
          6
         ],
         "yaxis": "y12"
        },
        {
         "name": "2009",
         "type": "bar",
         "x": [
          "January",
          "March",
          "April",
          "May",
          "June",
          "July",
          "August",
          "September",
          "October",
          "November",
          "December"
         ],
         "xaxis": "x12",
         "y": [
          null,
          null,
          null,
          9,
          30,
          60,
          16,
          null,
          null,
          null,
          3
         ],
         "yaxis": "y12"
        },
        {
         "name": "2010",
         "type": "bar",
         "x": [
          "January",
          "March",
          "April",
          "May",
          "June",
          "July",
          "August",
          "September",
          "October",
          "November",
          "December"
         ],
         "xaxis": "x12",
         "y": [
          1,
          null,
          null,
          20,
          38,
          18,
          10,
          null,
          2,
          null,
          null
         ],
         "yaxis": "y12"
        },
        {
         "name": "2011",
         "type": "bar",
         "x": [
          "January",
          "March",
          "April",
          "May",
          "June",
          "July",
          "August",
          "September",
          "October",
          "November",
          "December"
         ],
         "xaxis": "x12",
         "y": [
          null,
          null,
          1,
          24,
          13,
          14,
          1,
          3,
          null,
          null,
          null
         ],
         "yaxis": "y12"
        },
        {
         "name": "2012",
         "type": "bar",
         "x": [
          "January",
          "March",
          "April",
          "May",
          "June",
          "July",
          "August",
          "September",
          "October",
          "November",
          "December"
         ],
         "xaxis": "x12",
         "y": [
          null,
          null,
          null,
          4,
          74,
          29,
          19,
          1,
          null,
          null,
          null
         ],
         "yaxis": "y12"
        },
        {
         "name": "2013",
         "type": "bar",
         "x": [
          "January",
          "March",
          "April",
          "May",
          "June",
          "July",
          "August",
          "September",
          "October",
          "November",
          "December"
         ],
         "xaxis": "x12",
         "y": [
          null,
          null,
          null,
          7,
          100,
          29,
          39,
          2,
          null,
          null,
          null
         ],
         "yaxis": "y12"
        },
        {
         "name": "2014",
         "type": "bar",
         "x": [
          "January",
          "March",
          "April",
          "May",
          "June",
          "July",
          "August",
          "September",
          "October",
          "November",
          "December"
         ],
         "xaxis": "x12",
         "y": [
          null,
          null,
          1,
          4,
          14,
          10,
          5,
          null,
          null,
          null,
          null
         ],
         "yaxis": "y12"
        },
        {
         "name": "2015",
         "type": "bar",
         "x": [
          "January",
          "March",
          "April",
          "May",
          "June",
          "July",
          "August",
          "September",
          "October",
          "November",
          "December"
         ],
         "xaxis": "x12",
         "y": [
          null,
          null,
          null,
          95,
          83,
          5,
          2,
          1,
          null,
          null,
          null
         ],
         "yaxis": "y12"
        },
        {
         "name": "2016",
         "type": "bar",
         "x": [
          "January",
          "March",
          "April",
          "May",
          "June",
          "July",
          "August",
          "September",
          "October",
          "November",
          "December"
         ],
         "xaxis": "x12",
         "y": [
          null,
          null,
          2,
          8,
          15,
          19,
          8,
          1,
          null,
          null,
          null
         ],
         "yaxis": "y12"
        },
        {
         "name": "2017",
         "type": "bar",
         "x": [
          "January",
          "March",
          "April",
          "May",
          "June",
          "July",
          "August",
          "September",
          "October",
          "November",
          "December"
         ],
         "xaxis": "x12",
         "y": [
          null,
          null,
          3,
          9,
          45,
          32,
          25,
          1,
          null,
          null,
          null
         ],
         "yaxis": "y12"
        },
        {
         "name": "2018",
         "type": "bar",
         "x": [
          "January",
          "March",
          "April",
          "May",
          "June",
          "July",
          "August",
          "September",
          "October",
          "November",
          "December"
         ],
         "xaxis": "x12",
         "y": [
          null,
          null,
          1,
          6,
          11,
          21,
          11,
          1,
          null,
          null,
          null
         ],
         "yaxis": "y12"
        },
        {
         "name": "2019",
         "type": "bar",
         "x": [
          "January",
          "March",
          "April",
          "May",
          "June",
          "July",
          "August",
          "September",
          "October",
          "November",
          "December"
         ],
         "xaxis": "x12",
         "y": [
          null,
          null,
          4,
          25,
          18,
          64,
          4,
          3,
          null,
          null,
          null
         ],
         "yaxis": "y12"
        },
        {
         "name": "2020",
         "type": "bar",
         "x": [
          "January",
          "March",
          "April",
          "May",
          "June",
          "July",
          "August",
          "September",
          "October",
          "November",
          "December"
         ],
         "xaxis": "x12",
         "y": [
          null,
          null,
          null,
          7,
          10,
          4,
          1,
          2,
          null,
          null,
          null
         ],
         "yaxis": "y12"
        },
        {
         "name": "2021",
         "type": "bar",
         "x": [
          "January",
          "March",
          "April",
          "May",
          "June",
          "July",
          "August",
          "September",
          "October",
          "November",
          "December"
         ],
         "xaxis": "x12",
         "y": [
          null,
          null,
          null,
          null,
          null,
          null,
          null,
          null,
          null,
          null,
          null
         ],
         "yaxis": "y12"
        }
       ],
       "layout": {
        "annotations": [
         {
          "font": {
           "size": 16
          },
          "showarrow": false,
          "text": "Alberta",
          "x": 0.5,
          "xanchor": "center",
          "xref": "paper",
          "y": 1,
          "yanchor": "bottom",
          "yref": "paper"
         },
         {
          "font": {
           "size": 16
          },
          "showarrow": false,
          "text": "British Columbia",
          "x": 0.5,
          "xanchor": "center",
          "xref": "paper",
          "y": 0.9131944444444444,
          "yanchor": "bottom",
          "yref": "paper"
         },
         {
          "font": {
           "size": 16
          },
          "showarrow": false,
          "text": "Manitoba",
          "x": 0.5,
          "xanchor": "center",
          "xref": "paper",
          "y": 0.8263888888888888,
          "yanchor": "bottom",
          "yref": "paper"
         },
         {
          "font": {
           "size": 16
          },
          "showarrow": false,
          "text": "New Brunswick",
          "x": 0.5,
          "xanchor": "center",
          "xref": "paper",
          "y": 0.7395833333333333,
          "yanchor": "bottom",
          "yref": "paper"
         },
         {
          "font": {
           "size": 16
          },
          "showarrow": false,
          "text": "Newfoundland and Labrador",
          "x": 0.5,
          "xanchor": "center",
          "xref": "paper",
          "y": 0.6527777777777777,
          "yanchor": "bottom",
          "yref": "paper"
         },
         {
          "font": {
           "size": 16
          },
          "showarrow": false,
          "text": "Northwest Territories",
          "x": 0.5,
          "xanchor": "center",
          "xref": "paper",
          "y": 0.5659722222222223,
          "yanchor": "bottom",
          "yref": "paper"
         },
         {
          "font": {
           "size": 16
          },
          "showarrow": false,
          "text": "Nova Scotia",
          "x": 0.5,
          "xanchor": "center",
          "xref": "paper",
          "y": 0.4791666666666667,
          "yanchor": "bottom",
          "yref": "paper"
         },
         {
          "font": {
           "size": 16
          },
          "showarrow": false,
          "text": "Ontario",
          "x": 0.5,
          "xanchor": "center",
          "xref": "paper",
          "y": 0.3923611111111111,
          "yanchor": "bottom",
          "yref": "paper"
         },
         {
          "font": {
           "size": 16
          },
          "showarrow": false,
          "text": "Prince Edward Island",
          "x": 0.5,
          "xanchor": "center",
          "xref": "paper",
          "y": 0.3055555555555556,
          "yanchor": "bottom",
          "yref": "paper"
         },
         {
          "font": {
           "size": 16
          },
          "showarrow": false,
          "text": "Quebec",
          "x": 0.5,
          "xanchor": "center",
          "xref": "paper",
          "y": 0.21875,
          "yanchor": "bottom",
          "yref": "paper"
         },
         {
          "font": {
           "size": 16
          },
          "showarrow": false,
          "text": "Saskatchewan",
          "x": 0.5,
          "xanchor": "center",
          "xref": "paper",
          "y": 0.13194444444444445,
          "yanchor": "bottom",
          "yref": "paper"
         },
         {
          "font": {
           "size": 16
          },
          "showarrow": false,
          "text": "Yukon",
          "x": 0.5,
          "xanchor": "center",
          "xref": "paper",
          "y": 0.045138888888888895,
          "yanchor": "bottom",
          "yref": "paper"
         }
        ],
        "height": 1800,
        "showlegend": false,
        "template": {
         "data": {
          "bar": [
           {
            "error_x": {
             "color": "#2a3f5f"
            },
            "error_y": {
             "color": "#2a3f5f"
            },
            "marker": {
             "line": {
              "color": "#E5ECF6",
              "width": 0.5
             },
             "pattern": {
              "fillmode": "overlay",
              "size": 10,
              "solidity": 0.2
             }
            },
            "type": "bar"
           }
          ],
          "barpolar": [
           {
            "marker": {
             "line": {
              "color": "#E5ECF6",
              "width": 0.5
             },
             "pattern": {
              "fillmode": "overlay",
              "size": 10,
              "solidity": 0.2
             }
            },
            "type": "barpolar"
           }
          ],
          "carpet": [
           {
            "aaxis": {
             "endlinecolor": "#2a3f5f",
             "gridcolor": "white",
             "linecolor": "white",
             "minorgridcolor": "white",
             "startlinecolor": "#2a3f5f"
            },
            "baxis": {
             "endlinecolor": "#2a3f5f",
             "gridcolor": "white",
             "linecolor": "white",
             "minorgridcolor": "white",
             "startlinecolor": "#2a3f5f"
            },
            "type": "carpet"
           }
          ],
          "choropleth": [
           {
            "colorbar": {
             "outlinewidth": 0,
             "ticks": ""
            },
            "type": "choropleth"
           }
          ],
          "contour": [
           {
            "colorbar": {
             "outlinewidth": 0,
             "ticks": ""
            },
            "colorscale": [
             [
              0,
              "#0d0887"
             ],
             [
              0.1111111111111111,
              "#46039f"
             ],
             [
              0.2222222222222222,
              "#7201a8"
             ],
             [
              0.3333333333333333,
              "#9c179e"
             ],
             [
              0.4444444444444444,
              "#bd3786"
             ],
             [
              0.5555555555555556,
              "#d8576b"
             ],
             [
              0.6666666666666666,
              "#ed7953"
             ],
             [
              0.7777777777777778,
              "#fb9f3a"
             ],
             [
              0.8888888888888888,
              "#fdca26"
             ],
             [
              1,
              "#f0f921"
             ]
            ],
            "type": "contour"
           }
          ],
          "contourcarpet": [
           {
            "colorbar": {
             "outlinewidth": 0,
             "ticks": ""
            },
            "type": "contourcarpet"
           }
          ],
          "heatmap": [
           {
            "colorbar": {
             "outlinewidth": 0,
             "ticks": ""
            },
            "colorscale": [
             [
              0,
              "#0d0887"
             ],
             [
              0.1111111111111111,
              "#46039f"
             ],
             [
              0.2222222222222222,
              "#7201a8"
             ],
             [
              0.3333333333333333,
              "#9c179e"
             ],
             [
              0.4444444444444444,
              "#bd3786"
             ],
             [
              0.5555555555555556,
              "#d8576b"
             ],
             [
              0.6666666666666666,
              "#ed7953"
             ],
             [
              0.7777777777777778,
              "#fb9f3a"
             ],
             [
              0.8888888888888888,
              "#fdca26"
             ],
             [
              1,
              "#f0f921"
             ]
            ],
            "type": "heatmap"
           }
          ],
          "heatmapgl": [
           {
            "colorbar": {
             "outlinewidth": 0,
             "ticks": ""
            },
            "colorscale": [
             [
              0,
              "#0d0887"
             ],
             [
              0.1111111111111111,
              "#46039f"
             ],
             [
              0.2222222222222222,
              "#7201a8"
             ],
             [
              0.3333333333333333,
              "#9c179e"
             ],
             [
              0.4444444444444444,
              "#bd3786"
             ],
             [
              0.5555555555555556,
              "#d8576b"
             ],
             [
              0.6666666666666666,
              "#ed7953"
             ],
             [
              0.7777777777777778,
              "#fb9f3a"
             ],
             [
              0.8888888888888888,
              "#fdca26"
             ],
             [
              1,
              "#f0f921"
             ]
            ],
            "type": "heatmapgl"
           }
          ],
          "histogram": [
           {
            "marker": {
             "pattern": {
              "fillmode": "overlay",
              "size": 10,
              "solidity": 0.2
             }
            },
            "type": "histogram"
           }
          ],
          "histogram2d": [
           {
            "colorbar": {
             "outlinewidth": 0,
             "ticks": ""
            },
            "colorscale": [
             [
              0,
              "#0d0887"
             ],
             [
              0.1111111111111111,
              "#46039f"
             ],
             [
              0.2222222222222222,
              "#7201a8"
             ],
             [
              0.3333333333333333,
              "#9c179e"
             ],
             [
              0.4444444444444444,
              "#bd3786"
             ],
             [
              0.5555555555555556,
              "#d8576b"
             ],
             [
              0.6666666666666666,
              "#ed7953"
             ],
             [
              0.7777777777777778,
              "#fb9f3a"
             ],
             [
              0.8888888888888888,
              "#fdca26"
             ],
             [
              1,
              "#f0f921"
             ]
            ],
            "type": "histogram2d"
           }
          ],
          "histogram2dcontour": [
           {
            "colorbar": {
             "outlinewidth": 0,
             "ticks": ""
            },
            "colorscale": [
             [
              0,
              "#0d0887"
             ],
             [
              0.1111111111111111,
              "#46039f"
             ],
             [
              0.2222222222222222,
              "#7201a8"
             ],
             [
              0.3333333333333333,
              "#9c179e"
             ],
             [
              0.4444444444444444,
              "#bd3786"
             ],
             [
              0.5555555555555556,
              "#d8576b"
             ],
             [
              0.6666666666666666,
              "#ed7953"
             ],
             [
              0.7777777777777778,
              "#fb9f3a"
             ],
             [
              0.8888888888888888,
              "#fdca26"
             ],
             [
              1,
              "#f0f921"
             ]
            ],
            "type": "histogram2dcontour"
           }
          ],
          "mesh3d": [
           {
            "colorbar": {
             "outlinewidth": 0,
             "ticks": ""
            },
            "type": "mesh3d"
           }
          ],
          "parcoords": [
           {
            "line": {
             "colorbar": {
              "outlinewidth": 0,
              "ticks": ""
             }
            },
            "type": "parcoords"
           }
          ],
          "pie": [
           {
            "automargin": true,
            "type": "pie"
           }
          ],
          "scatter": [
           {
            "fillpattern": {
             "fillmode": "overlay",
             "size": 10,
             "solidity": 0.2
            },
            "type": "scatter"
           }
          ],
          "scatter3d": [
           {
            "line": {
             "colorbar": {
              "outlinewidth": 0,
              "ticks": ""
             }
            },
            "marker": {
             "colorbar": {
              "outlinewidth": 0,
              "ticks": ""
             }
            },
            "type": "scatter3d"
           }
          ],
          "scattercarpet": [
           {
            "marker": {
             "colorbar": {
              "outlinewidth": 0,
              "ticks": ""
             }
            },
            "type": "scattercarpet"
           }
          ],
          "scattergeo": [
           {
            "marker": {
             "colorbar": {
              "outlinewidth": 0,
              "ticks": ""
             }
            },
            "type": "scattergeo"
           }
          ],
          "scattergl": [
           {
            "marker": {
             "colorbar": {
              "outlinewidth": 0,
              "ticks": ""
             }
            },
            "type": "scattergl"
           }
          ],
          "scattermapbox": [
           {
            "marker": {
             "colorbar": {
              "outlinewidth": 0,
              "ticks": ""
             }
            },
            "type": "scattermapbox"
           }
          ],
          "scatterpolar": [
           {
            "marker": {
             "colorbar": {
              "outlinewidth": 0,
              "ticks": ""
             }
            },
            "type": "scatterpolar"
           }
          ],
          "scatterpolargl": [
           {
            "marker": {
             "colorbar": {
              "outlinewidth": 0,
              "ticks": ""
             }
            },
            "type": "scatterpolargl"
           }
          ],
          "scatterternary": [
           {
            "marker": {
             "colorbar": {
              "outlinewidth": 0,
              "ticks": ""
             }
            },
            "type": "scatterternary"
           }
          ],
          "surface": [
           {
            "colorbar": {
             "outlinewidth": 0,
             "ticks": ""
            },
            "colorscale": [
             [
              0,
              "#0d0887"
             ],
             [
              0.1111111111111111,
              "#46039f"
             ],
             [
              0.2222222222222222,
              "#7201a8"
             ],
             [
              0.3333333333333333,
              "#9c179e"
             ],
             [
              0.4444444444444444,
              "#bd3786"
             ],
             [
              0.5555555555555556,
              "#d8576b"
             ],
             [
              0.6666666666666666,
              "#ed7953"
             ],
             [
              0.7777777777777778,
              "#fb9f3a"
             ],
             [
              0.8888888888888888,
              "#fdca26"
             ],
             [
              1,
              "#f0f921"
             ]
            ],
            "type": "surface"
           }
          ],
          "table": [
           {
            "cells": {
             "fill": {
              "color": "#EBF0F8"
             },
             "line": {
              "color": "white"
             }
            },
            "header": {
             "fill": {
              "color": "#C8D4E3"
             },
             "line": {
              "color": "white"
             }
            },
            "type": "table"
           }
          ]
         },
         "layout": {
          "annotationdefaults": {
           "arrowcolor": "#2a3f5f",
           "arrowhead": 0,
           "arrowwidth": 1
          },
          "autotypenumbers": "strict",
          "coloraxis": {
           "colorbar": {
            "outlinewidth": 0,
            "ticks": ""
           }
          },
          "colorscale": {
           "diverging": [
            [
             0,
             "#8e0152"
            ],
            [
             0.1,
             "#c51b7d"
            ],
            [
             0.2,
             "#de77ae"
            ],
            [
             0.3,
             "#f1b6da"
            ],
            [
             0.4,
             "#fde0ef"
            ],
            [
             0.5,
             "#f7f7f7"
            ],
            [
             0.6,
             "#e6f5d0"
            ],
            [
             0.7,
             "#b8e186"
            ],
            [
             0.8,
             "#7fbc41"
            ],
            [
             0.9,
             "#4d9221"
            ],
            [
             1,
             "#276419"
            ]
           ],
           "sequential": [
            [
             0,
             "#0d0887"
            ],
            [
             0.1111111111111111,
             "#46039f"
            ],
            [
             0.2222222222222222,
             "#7201a8"
            ],
            [
             0.3333333333333333,
             "#9c179e"
            ],
            [
             0.4444444444444444,
             "#bd3786"
            ],
            [
             0.5555555555555556,
             "#d8576b"
            ],
            [
             0.6666666666666666,
             "#ed7953"
            ],
            [
             0.7777777777777778,
             "#fb9f3a"
            ],
            [
             0.8888888888888888,
             "#fdca26"
            ],
            [
             1,
             "#f0f921"
            ]
           ],
           "sequentialminus": [
            [
             0,
             "#0d0887"
            ],
            [
             0.1111111111111111,
             "#46039f"
            ],
            [
             0.2222222222222222,
             "#7201a8"
            ],
            [
             0.3333333333333333,
             "#9c179e"
            ],
            [
             0.4444444444444444,
             "#bd3786"
            ],
            [
             0.5555555555555556,
             "#d8576b"
            ],
            [
             0.6666666666666666,
             "#ed7953"
            ],
            [
             0.7777777777777778,
             "#fb9f3a"
            ],
            [
             0.8888888888888888,
             "#fdca26"
            ],
            [
             1,
             "#f0f921"
            ]
           ]
          },
          "colorway": [
           "#636efa",
           "#EF553B",
           "#00cc96",
           "#ab63fa",
           "#FFA15A",
           "#19d3f3",
           "#FF6692",
           "#B6E880",
           "#FF97FF",
           "#FECB52"
          ],
          "font": {
           "color": "#2a3f5f"
          },
          "geo": {
           "bgcolor": "white",
           "lakecolor": "white",
           "landcolor": "#E5ECF6",
           "showlakes": true,
           "showland": true,
           "subunitcolor": "white"
          },
          "hoverlabel": {
           "align": "left"
          },
          "hovermode": "closest",
          "mapbox": {
           "style": "light"
          },
          "paper_bgcolor": "white",
          "plot_bgcolor": "#E5ECF6",
          "polar": {
           "angularaxis": {
            "gridcolor": "white",
            "linecolor": "white",
            "ticks": ""
           },
           "bgcolor": "#E5ECF6",
           "radialaxis": {
            "gridcolor": "white",
            "linecolor": "white",
            "ticks": ""
           }
          },
          "scene": {
           "xaxis": {
            "backgroundcolor": "#E5ECF6",
            "gridcolor": "white",
            "gridwidth": 2,
            "linecolor": "white",
            "showbackground": true,
            "ticks": "",
            "zerolinecolor": "white"
           },
           "yaxis": {
            "backgroundcolor": "#E5ECF6",
            "gridcolor": "white",
            "gridwidth": 2,
            "linecolor": "white",
            "showbackground": true,
            "ticks": "",
            "zerolinecolor": "white"
           },
           "zaxis": {
            "backgroundcolor": "#E5ECF6",
            "gridcolor": "white",
            "gridwidth": 2,
            "linecolor": "white",
            "showbackground": true,
            "ticks": "",
            "zerolinecolor": "white"
           }
          },
          "shapedefaults": {
           "line": {
            "color": "#2a3f5f"
           }
          },
          "ternary": {
           "aaxis": {
            "gridcolor": "white",
            "linecolor": "white",
            "ticks": ""
           },
           "baxis": {
            "gridcolor": "white",
            "linecolor": "white",
            "ticks": ""
           },
           "bgcolor": "#E5ECF6",
           "caxis": {
            "gridcolor": "white",
            "linecolor": "white",
            "ticks": ""
           }
          },
          "title": {
           "x": 0.05
          },
          "xaxis": {
           "automargin": true,
           "gridcolor": "white",
           "linecolor": "white",
           "ticks": "",
           "title": {
            "standoff": 15
           },
           "zerolinecolor": "white",
           "zerolinewidth": 2
          },
          "yaxis": {
           "automargin": true,
           "gridcolor": "white",
           "linecolor": "white",
           "ticks": "",
           "title": {
            "standoff": 15
           },
           "zerolinecolor": "white",
           "zerolinewidth": 2
          }
         }
        },
        "title": {
         "text": "Trends of Number of Wildfires each Month from 1990-2021 by Province"
        },
        "width": 1780,
        "xaxis": {
         "anchor": "y",
         "domain": [
          0,
          1
         ]
        },
        "xaxis10": {
         "anchor": "y10",
         "domain": [
          0,
          1
         ]
        },
        "xaxis11": {
         "anchor": "y11",
         "domain": [
          0,
          1
         ]
        },
        "xaxis12": {
         "anchor": "y12",
         "domain": [
          0,
          1
         ]
        },
        "xaxis2": {
         "anchor": "y2",
         "domain": [
          0,
          1
         ]
        },
        "xaxis3": {
         "anchor": "y3",
         "domain": [
          0,
          1
         ]
        },
        "xaxis4": {
         "anchor": "y4",
         "domain": [
          0,
          1
         ]
        },
        "xaxis5": {
         "anchor": "y5",
         "domain": [
          0,
          1
         ]
        },
        "xaxis6": {
         "anchor": "y6",
         "domain": [
          0,
          1
         ]
        },
        "xaxis7": {
         "anchor": "y7",
         "domain": [
          0,
          1
         ]
        },
        "xaxis8": {
         "anchor": "y8",
         "domain": [
          0,
          1
         ]
        },
        "xaxis9": {
         "anchor": "y9",
         "domain": [
          0,
          1
         ]
        },
        "yaxis": {
         "anchor": "x",
         "domain": [
          0.9548611111111112,
          1
         ]
        },
        "yaxis10": {
         "anchor": "x10",
         "domain": [
          0.1736111111111111,
          0.21875
         ]
        },
        "yaxis11": {
         "anchor": "x11",
         "domain": [
          0.08680555555555555,
          0.13194444444444445
         ]
        },
        "yaxis12": {
         "anchor": "x12",
         "domain": [
          0,
          0.045138888888888895
         ]
        },
        "yaxis2": {
         "anchor": "x2",
         "domain": [
          0.8680555555555556,
          0.9131944444444444
         ]
        },
        "yaxis3": {
         "anchor": "x3",
         "domain": [
          0.78125,
          0.8263888888888888
         ]
        },
        "yaxis4": {
         "anchor": "x4",
         "domain": [
          0.6944444444444444,
          0.7395833333333333
         ]
        },
        "yaxis5": {
         "anchor": "x5",
         "domain": [
          0.6076388888888888,
          0.6527777777777777
         ]
        },
        "yaxis6": {
         "anchor": "x6",
         "domain": [
          0.5208333333333334,
          0.5659722222222223
         ]
        },
        "yaxis7": {
         "anchor": "x7",
         "domain": [
          0.4340277777777778,
          0.4791666666666667
         ]
        },
        "yaxis8": {
         "anchor": "x8",
         "domain": [
          0.3472222222222222,
          0.3923611111111111
         ]
        },
        "yaxis9": {
         "anchor": "x9",
         "domain": [
          0.2604166666666667,
          0.3055555555555556
         ]
        }
       }
      }
     },
     "metadata": {},
     "output_type": "display_data"
    }
   ],
   "source": [
    "# Get unique jurisdictions excluding \"Parks Canada\"\n",
    "jurisdictions = numfiresbymonth[numfiresbymonth['Jurisdiction'] != 'Parks Canada']['Jurisdiction'].unique()\n",
    "\n",
    "fig = make_subplots(rows=12, cols=1, subplot_titles=jurisdictions)\n",
    "\n",
    "for i, jurisdiction in enumerate(jurisdictions, start=1):\n",
    "    # Filter data for the current jurisdiction\n",
    "    jurisdiction_data = numfiresbymonth[numfiresbymonth['Jurisdiction'] == jurisdiction]\n",
    "    \n",
    "    for year in range(1990, 2022):\n",
    "        # Check if \"Unspecified\" month exists in the data\n",
    "        if \"Unspecified\" in jurisdiction_data['Month'].values:\n",
    "            jurisdiction_data_filtered = jurisdiction_data[jurisdiction_data['Month'] != \"Unspecified\"]\n",
    "        else:\n",
    "            jurisdiction_data_filtered = jurisdiction_data\n",
    "        \n",
    "        fig.add_trace(\n",
    "            go.Bar(x=jurisdiction_data_filtered['Month'], y=jurisdiction_data_filtered[year], name=str(year)),\n",
    "            row=i, col=1\n",
    "        )\n",
    "\n",
    "fig.update_layout(height=1800, width=1780, showlegend=False, title_text=\"Trends of Number of Wildfires each Month from 1990-2021 by Province\").show()"
   ]
  }
 ],
 "metadata": {
  "kernelspec": {
   "display_name": "Python 3",
   "language": "python",
   "name": "python3"
  },
  "language_info": {
   "codemirror_mode": {
    "name": "ipython",
    "version": 3
   },
   "file_extension": ".py",
   "mimetype": "text/x-python",
   "name": "python",
   "nbconvert_exporter": "python",
   "pygments_lexer": "ipython3",
   "version": "3.10.8"
  },
  "orig_nbformat": 4
 },
 "nbformat": 4,
 "nbformat_minor": 2
}
