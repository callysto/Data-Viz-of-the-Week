{
 "cells": [
  {
   "attachments": {},
   "cell_type": "markdown",
   "metadata": {},
   "source": [
    "![Callysto.ca Banner](https://github.com/callysto/curriculum-notebooks/blob/master/callysto-notebook-banner-top.jpg?raw=true)"
   ]
  },
  {
   "attachments": {},
   "cell_type": "markdown",
   "metadata": {},
   "source": [
    "# Callysto’s Weekly Data Visualization\n",
    "\n",
    "## Wildfires\n",
    "\n",
    "### Recommended Grade levels: 9-12\n",
    "<br>"
   ]
  },
  {
   "attachments": {},
   "cell_type": "markdown",
   "metadata": {},
   "source": [
    "### Instructions\n",
    "\n",
    "Click \"Cell\" and select \"Run All\".\n",
    "\n",
    "This will import the data and run all the code, so you can see this week's data visualization. Scroll back to the top after you’ve run the cells.\n",
    "\n",
    "![instructions](https://github.com/callysto/data-viz-of-the-week/blob/main/images/instructions.png?raw=true)\n",
    "\n",
    "**You don't need to do any coding to view the visualizations**.\n",
    "\n",
    "The plots generated in this notebook are interactive. You can hover over and click on elements to see more information. \n",
    "\n",
    "Email contact@callysto.ca if you experience issues."
   ]
  },
  {
   "attachments": {},
   "cell_type": "markdown",
   "metadata": {},
   "source": [
    "### About this Notebook\n",
    "\n",
    "Callysto's Weekly Data Visualization is a learning resource that aims to develop data literacy skills. We provide Grades 5-12 teachers and students with a data visualization, like a graph, to interpret. This companion resource walks learners through how the data visualization is created and interpreted by a data scientist. \n",
    "\n",
    "The steps of the data analysis process are listed below and applied to each weekly topic.\n",
    "\n",
    "1. Question - What are we trying to answer?\n",
    "2. Gather - Find the data source(s) you will need. \n",
    "3. Organize - Arrange the data, so that you can easily explore it. \n",
    "4. Explore - Examine the data to look for evidence to answer the question. This includes creating visualizations. \n",
    "5. Interpret - Describe what's happening in the data visualization. \n",
    "6. Communicate - Explain how the evidence answers the question. "
   ]
  },
  {
   "attachments": {},
   "cell_type": "markdown",
   "metadata": {},
   "source": [
    "## Question\n",
    "\n",
    "What are the primary causes of wildfires and when do they occur?"
   ]
  },
  {
   "attachments": {},
   "cell_type": "markdown",
   "metadata": {},
   "source": [
    "### Goal\n",
    "\n",
    "Our goal is to show which natural disasters led to the greatest financial costs and use visualizations to discover any patterns to their impact.\n",
    "\n",
    "The dataset is taken from [Public Safety Canada](https://www.publicsafety.gc.ca/cnt/rsrcs/cndn-dsstr-dtbs/index-en.aspx), and contains information on Canadian natural disaster events from the years 1900 to 2019."
   ]
  },
  {
   "attachments": {},
   "cell_type": "markdown",
   "metadata": {},
   "source": [
    "### Background\n",
    "\n",
    "Weather events and natural diasters have the potential to cause huge amounts of damage to property. Have you ever wondered what the most expensive natural disasters and weather events are in Canada? We are going to explore the costliest natural disasters in the 2010 decade in this notebook. \n"
   ]
  },
  {
   "attachments": {},
   "cell_type": "markdown",
   "metadata": {},
   "source": [
    "## Gather"
   ]
  },
  {
   "attachments": {},
   "cell_type": "markdown",
   "metadata": {},
   "source": [
    "### Code: "
   ]
  },
  {
   "attachments": {},
   "cell_type": "markdown",
   "metadata": {},
   "source": [
    "Run the code cells below to import the libraries we need for this project. Libraries are pre-made code that make it easier to analyze our data."
   ]
  },
  {
   "cell_type": "code",
   "execution_count": 20,
   "metadata": {},
   "outputs": [],
   "source": [
    "import pandas as pd\n",
    "import plotly_express as px\n",
    "from plotly.subplots import make_subplots\n",
    "import plotly.graph_objects as go\n",
    "import warnings\n",
    "import matplotlib.pyplot as plt\n",
    "warnings.simplefilter(action='ignore', category=FutureWarning)"
   ]
  },
  {
   "cell_type": "code",
   "execution_count": 21,
   "metadata": {},
   "outputs": [],
   "source": [
    "areabygroup = pd.read_excel('https://raw.githubusercontent.com/callysto/data-files/main/data-viz-of-the-week/wildfires/areaburnedbygroup.xlsx', skiprows=1)\n",
    "areabymonth = pd.read_excel('https://raw.githubusercontent.com/callysto/data-files/main/data-viz-of-the-week/wildfires/areaburnedbymonth.xlsx', skiprows=1)\n",
    "areabyclass = pd.read_excel('https://raw.githubusercontent.com/callysto/data-files/main/data-viz-of-the-week/wildfires/areaburnedfireclass.xlsx', skiprows=1)\n",
    "numfiresbyclass = pd.read_excel('https://raw.githubusercontent.com/callysto/data-files/main/data-viz-of-the-week/wildfires/numfiresbyfiresize.xlsx', skiprows=1)\n",
    "numfiresbygroup = pd.read_excel('https://raw.githubusercontent.com/callysto/data-files/main/data-viz-of-the-week/wildfires/numfiresbygroup.xlsx')\n",
    "numfiresbymonth = pd.read_excel('https://raw.githubusercontent.com/callysto/data-files/main/data-viz-of-the-week/wildfires/numfiresbymonth.xlsx', skiprows=1)"
   ]
  },
  {
   "cell_type": "code",
   "execution_count": 22,
   "metadata": {},
   "outputs": [
    {
     "data": {
      "text/plain": [
       "Index([  'Jurisdiction',          'Cause', 'Data Qualifier',             1990,\n",
       "                   1991,             1992,             1993,             1994,\n",
       "                   1995,             1996,             1997,             1998,\n",
       "                   1999,             2000,             2001,             2002,\n",
       "                   2003,             2004,             2005,             2006,\n",
       "                   2007,             2008,             2009,             2010,\n",
       "                   2011,             2012,             2013,             2014,\n",
       "                   2015,             2016,             2017,             2018,\n",
       "                   2019,             2020,             2021],\n",
       "      dtype='object')"
      ]
     },
     "execution_count": 22,
     "metadata": {},
     "output_type": "execute_result"
    }
   ],
   "source": [
    "areabygroup.columns"
   ]
  },
  {
   "cell_type": "code",
   "execution_count": 23,
   "metadata": {},
   "outputs": [
    {
     "data": {
      "text/html": [
       "<div>\n",
       "<style scoped>\n",
       "    .dataframe tbody tr th:only-of-type {\n",
       "        vertical-align: middle;\n",
       "    }\n",
       "\n",
       "    .dataframe tbody tr th {\n",
       "        vertical-align: top;\n",
       "    }\n",
       "\n",
       "    .dataframe thead th {\n",
       "        text-align: right;\n",
       "    }\n",
       "</style>\n",
       "<table border=\"1\" class=\"dataframe\">\n",
       "  <thead>\n",
       "    <tr style=\"text-align: right;\">\n",
       "      <th></th>\n",
       "      <th>Jurisdiction</th>\n",
       "      <th>Month</th>\n",
       "      <th>Data Qualifier</th>\n",
       "      <th>1990</th>\n",
       "      <th>1991</th>\n",
       "      <th>1992</th>\n",
       "      <th>1993</th>\n",
       "      <th>1994</th>\n",
       "      <th>1995</th>\n",
       "      <th>1996</th>\n",
       "      <th>...</th>\n",
       "      <th>2012</th>\n",
       "      <th>2013</th>\n",
       "      <th>2014</th>\n",
       "      <th>2015</th>\n",
       "      <th>2016</th>\n",
       "      <th>2017</th>\n",
       "      <th>2018</th>\n",
       "      <th>2019</th>\n",
       "      <th>2020</th>\n",
       "      <th>2021</th>\n",
       "    </tr>\n",
       "  </thead>\n",
       "  <tbody>\n",
       "    <tr>\n",
       "      <th>0</th>\n",
       "      <td>Alberta</td>\n",
       "      <td>January</td>\n",
       "      <td>a</td>\n",
       "      <td>0.0</td>\n",
       "      <td>86.0</td>\n",
       "      <td>12.0</td>\n",
       "      <td>3.0</td>\n",
       "      <td>15.0</td>\n",
       "      <td>1.0</td>\n",
       "      <td>0.0</td>\n",
       "      <td>...</td>\n",
       "      <td>1.0</td>\n",
       "      <td>0.0</td>\n",
       "      <td>11.0</td>\n",
       "      <td>1.0</td>\n",
       "      <td>0.0</td>\n",
       "      <td>1.0</td>\n",
       "      <td>0.0</td>\n",
       "      <td>2.0</td>\n",
       "      <td>0.0</td>\n",
       "      <td>NaN</td>\n",
       "    </tr>\n",
       "    <tr>\n",
       "      <th>1</th>\n",
       "      <td>Alberta</td>\n",
       "      <td>February</td>\n",
       "      <td>a</td>\n",
       "      <td>3.0</td>\n",
       "      <td>1.0</td>\n",
       "      <td>54.0</td>\n",
       "      <td>39.0</td>\n",
       "      <td>NaN</td>\n",
       "      <td>10.0</td>\n",
       "      <td>NaN</td>\n",
       "      <td>...</td>\n",
       "      <td>0.0</td>\n",
       "      <td>7.0</td>\n",
       "      <td>NaN</td>\n",
       "      <td>0.0</td>\n",
       "      <td>6.0</td>\n",
       "      <td>90.0</td>\n",
       "      <td>NaN</td>\n",
       "      <td>0.0</td>\n",
       "      <td>0.0</td>\n",
       "      <td>NaN</td>\n",
       "    </tr>\n",
       "    <tr>\n",
       "      <th>2</th>\n",
       "      <td>Alberta</td>\n",
       "      <td>March</td>\n",
       "      <td>a</td>\n",
       "      <td>7.0</td>\n",
       "      <td>118.0</td>\n",
       "      <td>248.0</td>\n",
       "      <td>577.0</td>\n",
       "      <td>32.0</td>\n",
       "      <td>289.0</td>\n",
       "      <td>1.0</td>\n",
       "      <td>...</td>\n",
       "      <td>165.0</td>\n",
       "      <td>2.0</td>\n",
       "      <td>1.0</td>\n",
       "      <td>13.0</td>\n",
       "      <td>642.0</td>\n",
       "      <td>15.0</td>\n",
       "      <td>2.0</td>\n",
       "      <td>14.0</td>\n",
       "      <td>0.0</td>\n",
       "      <td>NaN</td>\n",
       "    </tr>\n",
       "    <tr>\n",
       "      <th>3</th>\n",
       "      <td>Alberta</td>\n",
       "      <td>April</td>\n",
       "      <td>a</td>\n",
       "      <td>25.0</td>\n",
       "      <td>1158.0</td>\n",
       "      <td>1254.0</td>\n",
       "      <td>301.0</td>\n",
       "      <td>868.0</td>\n",
       "      <td>579.0</td>\n",
       "      <td>93.0</td>\n",
       "      <td>...</td>\n",
       "      <td>125.0</td>\n",
       "      <td>144.0</td>\n",
       "      <td>435.0</td>\n",
       "      <td>2235.0</td>\n",
       "      <td>2709.0</td>\n",
       "      <td>1380.0</td>\n",
       "      <td>117.0</td>\n",
       "      <td>628.0</td>\n",
       "      <td>77.0</td>\n",
       "      <td>NaN</td>\n",
       "    </tr>\n",
       "    <tr>\n",
       "      <th>4</th>\n",
       "      <td>Alberta</td>\n",
       "      <td>May</td>\n",
       "      <td>a</td>\n",
       "      <td>636.0</td>\n",
       "      <td>3678.0</td>\n",
       "      <td>420.0</td>\n",
       "      <td>6476.0</td>\n",
       "      <td>3460.0</td>\n",
       "      <td>330669.0</td>\n",
       "      <td>522.0</td>\n",
       "      <td>...</td>\n",
       "      <td>122256.0</td>\n",
       "      <td>7215.0</td>\n",
       "      <td>505.0</td>\n",
       "      <td>263450.0</td>\n",
       "      <td>498402.0</td>\n",
       "      <td>27072.0</td>\n",
       "      <td>42831.0</td>\n",
       "      <td>896887.0</td>\n",
       "      <td>515.0</td>\n",
       "      <td>NaN</td>\n",
       "    </tr>\n",
       "  </tbody>\n",
       "</table>\n",
       "<p>5 rows × 35 columns</p>\n",
       "</div>"
      ],
      "text/plain": [
       "  Jurisdiction     Month Data Qualifier   1990    1991    1992    1993  \\\n",
       "0      Alberta   January              a    0.0    86.0    12.0     3.0   \n",
       "1      Alberta  February              a    3.0     1.0    54.0    39.0   \n",
       "2      Alberta     March              a    7.0   118.0   248.0   577.0   \n",
       "3      Alberta     April              a   25.0  1158.0  1254.0   301.0   \n",
       "4      Alberta       May              a  636.0  3678.0   420.0  6476.0   \n",
       "\n",
       "     1994      1995   1996  ...      2012    2013   2014      2015      2016  \\\n",
       "0    15.0       1.0    0.0  ...       1.0     0.0   11.0       1.0       0.0   \n",
       "1     NaN      10.0    NaN  ...       0.0     7.0    NaN       0.0       6.0   \n",
       "2    32.0     289.0    1.0  ...     165.0     2.0    1.0      13.0     642.0   \n",
       "3   868.0     579.0   93.0  ...     125.0   144.0  435.0    2235.0    2709.0   \n",
       "4  3460.0  330669.0  522.0  ...  122256.0  7215.0  505.0  263450.0  498402.0   \n",
       "\n",
       "      2017     2018      2019   2020  2021  \n",
       "0      1.0      0.0       2.0    0.0   NaN  \n",
       "1     90.0      NaN       0.0    0.0   NaN  \n",
       "2     15.0      2.0      14.0    0.0   NaN  \n",
       "3   1380.0    117.0     628.0   77.0   NaN  \n",
       "4  27072.0  42831.0  896887.0  515.0   NaN  \n",
       "\n",
       "[5 rows x 35 columns]"
      ]
     },
     "metadata": {},
     "output_type": "display_data"
    },
    {
     "data": {
      "text/html": [
       "<div>\n",
       "<style scoped>\n",
       "    .dataframe tbody tr th:only-of-type {\n",
       "        vertical-align: middle;\n",
       "    }\n",
       "\n",
       "    .dataframe tbody tr th {\n",
       "        vertical-align: top;\n",
       "    }\n",
       "\n",
       "    .dataframe thead th {\n",
       "        text-align: right;\n",
       "    }\n",
       "</style>\n",
       "<table border=\"1\" class=\"dataframe\">\n",
       "  <thead>\n",
       "    <tr style=\"text-align: right;\">\n",
       "      <th></th>\n",
       "      <th>Jurisdiction</th>\n",
       "      <th>Month</th>\n",
       "      <th>Data Qualifier</th>\n",
       "      <th>1990</th>\n",
       "      <th>1991</th>\n",
       "      <th>1992</th>\n",
       "      <th>1993</th>\n",
       "      <th>1994</th>\n",
       "      <th>1995</th>\n",
       "      <th>1996</th>\n",
       "      <th>...</th>\n",
       "      <th>2012</th>\n",
       "      <th>2013</th>\n",
       "      <th>2014</th>\n",
       "      <th>2015</th>\n",
       "      <th>2016</th>\n",
       "      <th>2017</th>\n",
       "      <th>2018</th>\n",
       "      <th>2019</th>\n",
       "      <th>2020</th>\n",
       "      <th>2021</th>\n",
       "    </tr>\n",
       "  </thead>\n",
       "  <tbody>\n",
       "    <tr>\n",
       "      <th>0</th>\n",
       "      <td>Alberta</td>\n",
       "      <td>January</td>\n",
       "      <td>a</td>\n",
       "      <td>1.0</td>\n",
       "      <td>9.0</td>\n",
       "      <td>14.0</td>\n",
       "      <td>8.0</td>\n",
       "      <td>4.0</td>\n",
       "      <td>10.0</td>\n",
       "      <td>1.0</td>\n",
       "      <td>...</td>\n",
       "      <td>14.0</td>\n",
       "      <td>1.0</td>\n",
       "      <td>9.0</td>\n",
       "      <td>2.0</td>\n",
       "      <td>7.0</td>\n",
       "      <td>4.0</td>\n",
       "      <td>4.0</td>\n",
       "      <td>17.0</td>\n",
       "      <td>1.0</td>\n",
       "      <td>NaN</td>\n",
       "    </tr>\n",
       "    <tr>\n",
       "      <th>1</th>\n",
       "      <td>Alberta</td>\n",
       "      <td>February</td>\n",
       "      <td>a</td>\n",
       "      <td>5.0</td>\n",
       "      <td>4.0</td>\n",
       "      <td>11.0</td>\n",
       "      <td>12.0</td>\n",
       "      <td>NaN</td>\n",
       "      <td>6.0</td>\n",
       "      <td>NaN</td>\n",
       "      <td>...</td>\n",
       "      <td>3.0</td>\n",
       "      <td>3.0</td>\n",
       "      <td>NaN</td>\n",
       "      <td>4.0</td>\n",
       "      <td>12.0</td>\n",
       "      <td>4.0</td>\n",
       "      <td>NaN</td>\n",
       "      <td>1.0</td>\n",
       "      <td>1.0</td>\n",
       "      <td>NaN</td>\n",
       "    </tr>\n",
       "    <tr>\n",
       "      <th>2</th>\n",
       "      <td>Alberta</td>\n",
       "      <td>March</td>\n",
       "      <td>a</td>\n",
       "      <td>8.0</td>\n",
       "      <td>8.0</td>\n",
       "      <td>61.0</td>\n",
       "      <td>29.0</td>\n",
       "      <td>12.0</td>\n",
       "      <td>29.0</td>\n",
       "      <td>1.0</td>\n",
       "      <td>...</td>\n",
       "      <td>32.0</td>\n",
       "      <td>9.0</td>\n",
       "      <td>11.0</td>\n",
       "      <td>32.0</td>\n",
       "      <td>62.0</td>\n",
       "      <td>14.0</td>\n",
       "      <td>19.0</td>\n",
       "      <td>34.0</td>\n",
       "      <td>4.0</td>\n",
       "      <td>NaN</td>\n",
       "    </tr>\n",
       "    <tr>\n",
       "      <th>3</th>\n",
       "      <td>Alberta</td>\n",
       "      <td>April</td>\n",
       "      <td>a</td>\n",
       "      <td>26.0</td>\n",
       "      <td>111.0</td>\n",
       "      <td>110.0</td>\n",
       "      <td>52.0</td>\n",
       "      <td>64.0</td>\n",
       "      <td>57.0</td>\n",
       "      <td>26.0</td>\n",
       "      <td>...</td>\n",
       "      <td>123.0</td>\n",
       "      <td>37.0</td>\n",
       "      <td>81.0</td>\n",
       "      <td>277.0</td>\n",
       "      <td>287.0</td>\n",
       "      <td>101.0</td>\n",
       "      <td>97.0</td>\n",
       "      <td>188.0</td>\n",
       "      <td>68.0</td>\n",
       "      <td>NaN</td>\n",
       "    </tr>\n",
       "    <tr>\n",
       "      <th>4</th>\n",
       "      <td>Alberta</td>\n",
       "      <td>May</td>\n",
       "      <td>a</td>\n",
       "      <td>114.0</td>\n",
       "      <td>201.0</td>\n",
       "      <td>91.0</td>\n",
       "      <td>242.0</td>\n",
       "      <td>132.0</td>\n",
       "      <td>215.0</td>\n",
       "      <td>56.0</td>\n",
       "      <td>...</td>\n",
       "      <td>456.0</td>\n",
       "      <td>529.0</td>\n",
       "      <td>360.0</td>\n",
       "      <td>505.0</td>\n",
       "      <td>250.0</td>\n",
       "      <td>348.0</td>\n",
       "      <td>454.0</td>\n",
       "      <td>315.0</td>\n",
       "      <td>209.0</td>\n",
       "      <td>NaN</td>\n",
       "    </tr>\n",
       "  </tbody>\n",
       "</table>\n",
       "<p>5 rows × 35 columns</p>\n",
       "</div>"
      ],
      "text/plain": [
       "  Jurisdiction     Month Data Qualifier   1990   1991   1992   1993   1994  \\\n",
       "0      Alberta   January              a    1.0    9.0   14.0    8.0    4.0   \n",
       "1      Alberta  February              a    5.0    4.0   11.0   12.0    NaN   \n",
       "2      Alberta     March              a    8.0    8.0   61.0   29.0   12.0   \n",
       "3      Alberta     April              a   26.0  111.0  110.0   52.0   64.0   \n",
       "4      Alberta       May              a  114.0  201.0   91.0  242.0  132.0   \n",
       "\n",
       "    1995  1996  ...   2012   2013   2014   2015   2016   2017   2018   2019  \\\n",
       "0   10.0   1.0  ...   14.0    1.0    9.0    2.0    7.0    4.0    4.0   17.0   \n",
       "1    6.0   NaN  ...    3.0    3.0    NaN    4.0   12.0    4.0    NaN    1.0   \n",
       "2   29.0   1.0  ...   32.0    9.0   11.0   32.0   62.0   14.0   19.0   34.0   \n",
       "3   57.0  26.0  ...  123.0   37.0   81.0  277.0  287.0  101.0   97.0  188.0   \n",
       "4  215.0  56.0  ...  456.0  529.0  360.0  505.0  250.0  348.0  454.0  315.0   \n",
       "\n",
       "    2020  2021  \n",
       "0    1.0   NaN  \n",
       "1    1.0   NaN  \n",
       "2    4.0   NaN  \n",
       "3   68.0   NaN  \n",
       "4  209.0   NaN  \n",
       "\n",
       "[5 rows x 35 columns]"
      ]
     },
     "metadata": {},
     "output_type": "display_data"
    }
   ],
   "source": [
    "#display(areabygroup)\n",
    "display(areabymonth.head())\n",
    "#display(areabyclass.head())\n",
    "#display(numfiresbyclass.head())\n",
    "#display(numfiresbygroup.head())\n",
    "display(numfiresbymonth.head()) "
   ]
  },
  {
   "cell_type": "code",
   "execution_count": 24,
   "metadata": {},
   "outputs": [
    {
     "name": "stdout",
     "output_type": "stream",
     "text": [
      "{1990: '#a50026', 1991: '#b50f26', 1992: '#c51e26', 1993: '#d52e26', 1994: '#df412f', 1995: '#e85538', 1996: '#f26941', 1997: '#f67d4a', 1998: '#f99254', 1999: '#fca75e', 2000: '#fdb96b', 2001: '#fdc97a', 2002: '#fdd989', 2003: '#fee599', 2004: '#fef0a8', 2005: '#fefab7', 2006: '#fafdc8', 2007: '#f0f9da', 2008: '#e6f5ec', 2009: '#d9eff6', 2010: '#c8e7f1', 2011: '#b6deec', 2012: '#a5d4e6', 2013: '#93c6de', 2014: '#82b8d7', 2015: '#70a9cf', 2016: '#6197c5', 2017: '#5285bc', 2018: '#4472b3', 2019: '#3d5ea9', 2020: '#374a9f', 2021: '#313695'}\n"
     ]
    }
   ],
   "source": [
    "years = list(range(1990, 2022))\n",
    "\n",
    "# Generate a diverging color scheme from red to blue\n",
    "color_scheme = plt.cm.get_cmap('RdYlBu', len(years))\n",
    "\n",
    "color_map = {}\n",
    "\n",
    "for i, year in enumerate(years):\n",
    "    color = color_scheme(i)\n",
    "    hex_color = '#{:02x}{:02x}{:02x}'.format(int(color[0]*255), int(color[1]*255), int(color[2]*255))\n",
    "    color_map[year] = hex_color\n",
    "print(color_map)"
   ]
  },
  {
   "cell_type": "code",
   "execution_count": 25,
   "metadata": {},
   "outputs": [
    {
     "data": {
      "application/vnd.plotly.v1+json": {
       "config": {
        "plotlyServerURL": "https://plot.ly"
       },
       "data": [
        {
         "marker": {
          "color": "#a50026"
         },
         "name": "1990",
         "type": "bar",
         "x": [
          "Human activity",
          "Lightning",
          "Prescribed burn",
          "Reburn",
          "Unspecified"
         ],
         "xaxis": "x",
         "y": [
          124127,
          828079,
          0,
          0,
          1117
         ],
         "yaxis": "y"
        },
        {
         "marker": {
          "color": "#a50026"
         },
         "name": "1990",
         "type": "bar",
         "x": [
          "Human activity",
          "Lightning",
          "Prescribed burn",
          "Reburn",
          "Unspecified"
         ],
         "xaxis": "x2",
         "y": [
          4935,
          4944,
          0,
          0,
          131
         ],
         "yaxis": "y2"
        },
        {
         "marker": {
          "color": "#b50f26"
         },
         "name": "1991",
         "type": "bar",
         "x": [
          "Human activity",
          "Lightning",
          "Prescribed burn",
          "Reburn",
          "Unspecified"
         ],
         "xaxis": "x",
         "y": [
          134485,
          1410890,
          0,
          0,
          412
         ],
         "yaxis": "y"
        },
        {
         "marker": {
          "color": "#b50f26"
         },
         "name": "1991",
         "type": "bar",
         "x": [
          "Human activity",
          "Lightning",
          "Prescribed burn",
          "Reburn",
          "Unspecified"
         ],
         "xaxis": "x2",
         "y": [
          5743,
          4276,
          0,
          0,
          212
         ],
         "yaxis": "y2"
        },
        {
         "marker": {
          "color": "#c51e26"
         },
         "name": "1992",
         "type": "bar",
         "x": [
          "Human activity",
          "Lightning",
          "Prescribed burn",
          "Reburn",
          "Unspecified"
         ],
         "xaxis": "x",
         "y": [
          145841,
          702795,
          0,
          0,
          3190
         ],
         "yaxis": "y"
        },
        {
         "marker": {
          "color": "#c51e26"
         },
         "name": "1992",
         "type": "bar",
         "x": [
          "Human activity",
          "Lightning",
          "Prescribed burn",
          "Reburn",
          "Unspecified"
         ],
         "xaxis": "x2",
         "y": [
          4765,
          4075,
          0,
          0,
          154
         ],
         "yaxis": "y2"
        },
        {
         "marker": {
          "color": "#d52e26"
         },
         "name": "1993",
         "type": "bar",
         "x": [
          "Human activity",
          "Lightning",
          "Prescribed burn",
          "Reburn",
          "Unspecified"
         ],
         "xaxis": "x",
         "y": [
          153454,
          1789359,
          7400,
          0,
          139
         ],
         "yaxis": "y"
        },
        {
         "marker": {
          "color": "#d52e26"
         },
         "name": "1993",
         "type": "bar",
         "x": [
          "Human activity",
          "Lightning",
          "Prescribed burn",
          "Reburn",
          "Unspecified"
         ],
         "xaxis": "x2",
         "y": [
          3589,
          2273,
          2,
          0,
          113
         ],
         "yaxis": "y2"
        },
        {
         "marker": {
          "color": "#df412f"
         },
         "name": "1994",
         "type": "bar",
         "x": [
          "Human activity",
          "Lightning",
          "Prescribed burn",
          "Reburn",
          "Unspecified"
         ],
         "xaxis": "x",
         "y": [
          510721,
          5632460,
          17882,
          0,
          284
         ],
         "yaxis": "y"
        },
        {
         "marker": {
          "color": "#df412f"
         },
         "name": "1994",
         "type": "bar",
         "x": [
          "Human activity",
          "Lightning",
          "Prescribed burn",
          "Reburn",
          "Unspecified"
         ],
         "xaxis": "x2",
         "y": [
          4173,
          5323,
          28,
          0,
          155
         ],
         "yaxis": "y2"
        },
        {
         "marker": {
          "color": "#e85538"
         },
         "name": "1995",
         "type": "bar",
         "x": [
          "Human activity",
          "Lightning",
          "Prescribed burn",
          "Reburn",
          "Unspecified"
         ],
         "xaxis": "x",
         "y": [
          377085,
          6977955,
          15997,
          0,
          4322
         ],
         "yaxis": "y"
        },
        {
         "marker": {
          "color": "#e85538"
         },
         "name": "1995",
         "type": "bar",
         "x": [
          "Human activity",
          "Lightning",
          "Prescribed burn",
          "Reburn",
          "Unspecified"
         ],
         "xaxis": "x2",
         "y": [
          4742,
          3492,
          8,
          0,
          203
         ],
         "yaxis": "y2"
        },
        {
         "marker": {
          "color": "#f26941"
         },
         "name": "1996",
         "type": "bar",
         "x": [
          "Human activity",
          "Lightning",
          "Prescribed burn",
          "Reburn",
          "Unspecified"
         ],
         "xaxis": "x",
         "y": [
          42192,
          1815726,
          0,
          0,
          3831
         ],
         "yaxis": "y"
        },
        {
         "marker": {
          "color": "#f26941"
         },
         "name": "1996",
         "type": "bar",
         "x": [
          "Human activity",
          "Lightning",
          "Prescribed burn",
          "Reburn",
          "Unspecified"
         ],
         "xaxis": "x2",
         "y": [
          2890,
          3371,
          0,
          0,
          118
         ],
         "yaxis": "y2"
        },
        {
         "marker": {
          "color": "#f67d4a"
         },
         "name": "1997",
         "type": "bar",
         "x": [
          "Human activity",
          "Lightning",
          "Prescribed burn",
          "Reburn",
          "Unspecified"
         ],
         "xaxis": "x",
         "y": [
          28237,
          604036,
          0,
          0,
          475
         ],
         "yaxis": "y"
        },
        {
         "marker": {
          "color": "#f67d4a"
         },
         "name": "1997",
         "type": "bar",
         "x": [
          "Human activity",
          "Lightning",
          "Prescribed burn",
          "Reburn",
          "Unspecified"
         ],
         "xaxis": "x2",
         "y": [
          3301,
          2620,
          0,
          0,
          169
         ],
         "yaxis": "y2"
        },
        {
         "marker": {
          "color": "#f99254"
         },
         "name": "1998",
         "type": "bar",
         "x": [
          "Human activity",
          "Lightning",
          "Prescribed burn",
          "Reburn",
          "Unspecified"
         ],
         "xaxis": "x",
         "y": [
          328052,
          4385986,
          0,
          0,
          26994
         ],
         "yaxis": "y"
        },
        {
         "marker": {
          "color": "#f99254"
         },
         "name": "1998",
         "type": "bar",
         "x": [
          "Human activity",
          "Lightning",
          "Prescribed burn",
          "Reburn",
          "Unspecified"
         ],
         "xaxis": "x2",
         "y": [
          4423,
          6158,
          0,
          0,
          187
         ],
         "yaxis": "y2"
        },
        {
         "marker": {
          "color": "#fca75e"
         },
         "name": "1999",
         "type": "bar",
         "x": [
          "Human activity",
          "Lightning",
          "Prescribed burn",
          "Reburn",
          "Unspecified"
         ],
         "xaxis": "x",
         "y": [
          345879,
          1359676,
          11158,
          0,
          429
         ],
         "yaxis": "y"
        },
        {
         "marker": {
          "color": "#fca75e"
         },
         "name": "1999",
         "type": "bar",
         "x": [
          "Human activity",
          "Lightning",
          "Prescribed burn",
          "Reburn",
          "Unspecified"
         ],
         "xaxis": "x2",
         "y": [
          4069,
          3382,
          3,
          0,
          154
         ],
         "yaxis": "y2"
        },
        {
         "marker": {
          "color": "#fdb96b"
         },
         "name": "2000",
         "type": "bar",
         "x": [
          "Human activity",
          "Lightning",
          "Prescribed burn",
          "Reburn",
          "Unspecified"
         ],
         "xaxis": "x",
         "y": [
          35498,
          486257,
          18,
          0,
          112382
         ],
         "yaxis": "y"
        },
        {
         "marker": {
          "color": "#fdb96b"
         },
         "name": "2000",
         "type": "bar",
         "x": [
          "Human activity",
          "Lightning",
          "Prescribed burn",
          "Reburn",
          "Unspecified"
         ],
         "xaxis": "x2",
         "y": [
          2754,
          2159,
          1,
          0,
          483
         ],
         "yaxis": "y2"
        },
        {
         "marker": {
          "color": "#fdc97a"
         },
         "name": "2001",
         "type": "bar",
         "x": [
          "Human activity",
          "Lightning",
          "Prescribed burn",
          "Reburn",
          "Unspecified"
         ],
         "xaxis": "x",
         "y": [
          193629,
          373020,
          0,
          0,
          81020
         ],
         "yaxis": "y"
        },
        {
         "marker": {
          "color": "#fdc97a"
         },
         "name": "2001",
         "type": "bar",
         "x": [
          "Human activity",
          "Lightning",
          "Prescribed burn",
          "Reburn",
          "Unspecified"
         ],
         "xaxis": "x2",
         "y": [
          4159,
          2880,
          0,
          0,
          723
         ],
         "yaxis": "y2"
        },
        {
         "marker": {
          "color": "#fdd989"
         },
         "name": "2002",
         "type": "bar",
         "x": [
          "Human activity",
          "Lightning",
          "Prescribed burn",
          "Reburn",
          "Unspecified"
         ],
         "xaxis": "x",
         "y": [
          364925,
          2301358,
          7,
          0,
          97316
         ],
         "yaxis": "y"
        },
        {
         "marker": {
          "color": "#fdd989"
         },
         "name": "2002",
         "type": "bar",
         "x": [
          "Human activity",
          "Lightning",
          "Prescribed burn",
          "Reburn",
          "Unspecified"
         ],
         "xaxis": "x2",
         "y": [
          3559,
          3436,
          1,
          0,
          882
         ],
         "yaxis": "y2"
        },
        {
         "marker": {
          "color": "#fee599"
         },
         "name": "2003",
         "type": "bar",
         "x": [
          "Human activity",
          "Lightning",
          "Prescribed burn",
          "Reburn",
          "Unspecified"
         ],
         "xaxis": "x",
         "y": [
          160357,
          1049135,
          0,
          0,
          958910
         ],
         "yaxis": "y"
        },
        {
         "marker": {
          "color": "#fee599"
         },
         "name": "2003",
         "type": "bar",
         "x": [
          "Human activity",
          "Lightning",
          "Prescribed burn",
          "Reburn",
          "Unspecified"
         ],
         "xaxis": "x2",
         "y": [
          3555,
          3398,
          0,
          0,
          1317
         ],
         "yaxis": "y2"
        },
        {
         "marker": {
          "color": "#fef0a8"
         },
         "name": "2004",
         "type": "bar",
         "x": [
          "Human activity",
          "Lightning",
          "Prescribed burn",
          "Reburn",
          "Unspecified"
         ],
         "xaxis": "x",
         "y": [
          40881,
          3125309,
          0,
          41,
          16768
         ],
         "yaxis": "y"
        },
        {
         "marker": {
          "color": "#fef0a8"
         },
         "name": "2004",
         "type": "bar",
         "x": [
          "Human activity",
          "Lightning",
          "Prescribed burn",
          "Reburn",
          "Unspecified"
         ],
         "xaxis": "x2",
         "y": [
          3015,
          3378,
          1,
          6,
          88
         ],
         "yaxis": "y2"
        },
        {
         "marker": {
          "color": "#fefab7"
         },
         "name": "2005",
         "type": "bar",
         "x": [
          "Human activity",
          "Lightning",
          "Prescribed burn",
          "Reburn",
          "Unspecified"
         ],
         "xaxis": "x",
         "y": [
          75683,
          1609671,
          4,
          0,
          1410
         ],
         "yaxis": "y"
        },
        {
         "marker": {
          "color": "#fefab7"
         },
         "name": "2005",
         "type": "bar",
         "x": [
          "Human activity",
          "Lightning",
          "Prescribed burn",
          "Reburn",
          "Unspecified"
         ],
         "xaxis": "x2",
         "y": [
          3608,
          3717,
          2,
          3,
          122
         ],
         "yaxis": "y2"
        },
        {
         "marker": {
          "color": "#fafdc8"
         },
         "name": "2006",
         "type": "bar",
         "x": [
          "Human activity",
          "Lightning",
          "Prescribed burn",
          "Reburn",
          "Unspecified"
         ],
         "xaxis": "x",
         "y": [
          294045,
          1797131,
          2,
          33,
          9470
         ],
         "yaxis": "y"
        },
        {
         "marker": {
          "color": "#fafdc8"
         },
         "name": "2006",
         "type": "bar",
         "x": [
          "Human activity",
          "Lightning",
          "Prescribed burn",
          "Reburn",
          "Unspecified"
         ],
         "xaxis": "x2",
         "y": [
          4177,
          5404,
          7,
          22,
          144
         ],
         "yaxis": "y2"
        },
        {
         "marker": {
          "color": "#f0f9da"
         },
         "name": "2007",
         "type": "bar",
         "x": [
          "Human activity",
          "Lightning",
          "Prescribed burn",
          "Reburn",
          "Unspecified"
         ],
         "xaxis": "x",
         "y": [
          216147,
          1568189,
          25,
          1,
          1104
         ],
         "yaxis": "y"
        },
        {
         "marker": {
          "color": "#f0f9da"
         },
         "name": "2007",
         "type": "bar",
         "x": [
          "Human activity",
          "Lightning",
          "Prescribed burn",
          "Reburn",
          "Unspecified"
         ],
         "xaxis": "x2",
         "y": [
          3776,
          2981,
          1,
          8,
          153
         ],
         "yaxis": "y2"
        },
        {
         "marker": {
          "color": "#e6f5ec"
         },
         "name": "2008",
         "type": "bar",
         "x": [
          "Human activity",
          "Lightning",
          "Prescribed burn",
          "Reburn",
          "Unspecified"
         ],
         "xaxis": "x",
         "y": [
          126735,
          1528464,
          9297,
          8,
          421
         ],
         "yaxis": "y"
        },
        {
         "marker": {
          "color": "#e6f5ec"
         },
         "name": "2008",
         "type": "bar",
         "x": [
          "Human activity",
          "Lightning",
          "Prescribed burn",
          "Reburn",
          "Unspecified"
         ],
         "xaxis": "x2",
         "y": [
          3214,
          2870,
          23,
          9,
          123
         ],
         "yaxis": "y2"
        },
        {
         "marker": {
          "color": "#d9eff6"
         },
         "name": "2009",
         "type": "bar",
         "x": [
          "Human activity",
          "Lightning",
          "Prescribed burn",
          "Reburn",
          "Unspecified"
         ],
         "xaxis": "x",
         "y": [
          60243,
          695231,
          7000,
          6,
          86
         ],
         "yaxis": "y"
        },
        {
         "marker": {
          "color": "#d9eff6"
         },
         "name": "2009",
         "type": "bar",
         "x": [
          "Human activity",
          "Lightning",
          "Prescribed burn",
          "Reburn",
          "Unspecified"
         ],
         "xaxis": "x2",
         "y": [
          3546,
          3452,
          25,
          9,
          113
         ],
         "yaxis": "y2"
        },
        {
         "marker": {
          "color": "#c8e7f1"
         },
         "name": "2010",
         "type": "bar",
         "x": [
          "Human activity",
          "Lightning",
          "Prescribed burn",
          "Reburn",
          "Unspecified"
         ],
         "xaxis": "x",
         "y": [
          287566,
          2885380,
          2112,
          139,
          2770
         ],
         "yaxis": "y"
        },
        {
         "marker": {
          "color": "#c8e7f1"
         },
         "name": "2010",
         "type": "bar",
         "x": [
          "Human activity",
          "Lightning",
          "Prescribed burn",
          "Reburn",
          "Unspecified"
         ],
         "xaxis": "x2",
         "y": [
          3615,
          3330,
          14,
          12,
          345
         ],
         "yaxis": "y2"
        },
        {
         "marker": {
          "color": "#b6deec"
         },
         "name": "2011",
         "type": "bar",
         "x": [
          "Human activity",
          "Lightning",
          "Prescribed burn",
          "Reburn",
          "Unspecified"
         ],
         "xaxis": "x",
         "y": [
          230341,
          1509985,
          4816,
          0,
          652285
         ],
         "yaxis": "y"
        },
        {
         "marker": {
          "color": "#b6deec"
         },
         "name": "2011",
         "type": "bar",
         "x": [
          "Human activity",
          "Lightning",
          "Prescribed burn",
          "Reburn",
          "Unspecified"
         ],
         "xaxis": "x2",
         "y": [
          2621,
          1824,
          25,
          5,
          203
         ],
         "yaxis": "y2"
        },
        {
         "marker": {
          "color": "#a5d4e6"
         },
         "name": "2012",
         "type": "bar",
         "x": [
          "Human activity",
          "Lightning",
          "Prescribed burn",
          "Reburn",
          "Unspecified"
         ],
         "xaxis": "x",
         "y": [
          111844,
          1665396,
          2627,
          0,
          31823
         ],
         "yaxis": "y"
        },
        {
         "marker": {
          "color": "#a5d4e6"
         },
         "name": "2012",
         "type": "bar",
         "x": [
          "Human activity",
          "Lightning",
          "Prescribed burn",
          "Reburn",
          "Unspecified"
         ],
         "xaxis": "x2",
         "y": [
          3851,
          3534,
          16,
          0,
          517
         ],
         "yaxis": "y2"
        },
        {
         "marker": {
          "color": "#93c6de"
         },
         "name": "2013",
         "type": "bar",
         "x": [
          "Human activity",
          "Lightning",
          "Prescribed burn",
          "Reburn",
          "Unspecified"
         ],
         "xaxis": "x",
         "y": [
          68204,
          4194251,
          1122,
          0,
          4925
         ],
         "yaxis": "y"
        },
        {
         "marker": {
          "color": "#93c6de"
         },
         "name": "2013",
         "type": "bar",
         "x": [
          "Human activity",
          "Lightning",
          "Prescribed burn",
          "Reburn",
          "Unspecified"
         ],
         "xaxis": "x2",
         "y": [
          3232,
          2896,
          20,
          0,
          108
         ],
         "yaxis": "y2"
        },
        {
         "marker": {
          "color": "#82b8d7"
         },
         "name": "2014",
         "type": "bar",
         "x": [
          "Human activity",
          "Lightning",
          "Prescribed burn",
          "Reburn",
          "Unspecified"
         ],
         "xaxis": "x",
         "y": [
          45931,
          4486938,
          3898,
          0,
          8891
         ],
         "yaxis": "y"
        },
        {
         "marker": {
          "color": "#82b8d7"
         },
         "name": "2014",
         "type": "bar",
         "x": [
          "Human activity",
          "Lightning",
          "Prescribed burn",
          "Reburn",
          "Unspecified"
         ],
         "xaxis": "x2",
         "y": [
          2600,
          2328,
          17,
          0,
          75
         ],
         "yaxis": "y2"
        },
        {
         "marker": {
          "color": "#70a9cf"
         },
         "name": "2015",
         "type": "bar",
         "x": [
          "Human activity",
          "Lightning",
          "Prescribed burn",
          "Reburn",
          "Unspecified"
         ],
         "xaxis": "x",
         "y": [
          147755,
          3749916,
          10105,
          0,
          606
         ],
         "yaxis": "y"
        },
        {
         "marker": {
          "color": "#70a9cf"
         },
         "name": "2015",
         "type": "bar",
         "x": [
          "Human activity",
          "Lightning",
          "Prescribed burn",
          "Reburn",
          "Unspecified"
         ],
         "xaxis": "x2",
         "y": [
          3324,
          3548,
          30,
          0,
          132
         ],
         "yaxis": "y2"
        },
        {
         "marker": {
          "color": "#6197c5"
         },
         "name": "2016",
         "type": "bar",
         "x": [
          "Human activity",
          "Lightning",
          "Prescribed burn",
          "Reburn",
          "Unspecified"
         ],
         "xaxis": "x",
         "y": [
          119208,
          707880,
          6480,
          0,
          486038
         ],
         "yaxis": "y"
        },
        {
         "marker": {
          "color": "#6197c5"
         },
         "name": "2016",
         "type": "bar",
         "x": [
          "Human activity",
          "Lightning",
          "Prescribed burn",
          "Reburn",
          "Unspecified"
         ],
         "xaxis": "x2",
         "y": [
          3226,
          1880,
          26,
          0,
          135
         ],
         "yaxis": "y2"
        },
        {
         "marker": {
          "color": "#5285bc"
         },
         "name": "2017",
         "type": "bar",
         "x": [
          "Human activity",
          "Lightning",
          "Prescribed burn",
          "Reburn",
          "Unspecified"
         ],
         "xaxis": "x",
         "y": [
          236686,
          3325000,
          2190,
          0,
          25554
         ],
         "yaxis": "y"
        },
        {
         "marker": {
          "color": "#5285bc"
         },
         "name": "2017",
         "type": "bar",
         "x": [
          "Human activity",
          "Lightning",
          "Prescribed burn",
          "Reburn",
          "Unspecified"
         ],
         "xaxis": "x2",
         "y": [
          2672,
          2874,
          16,
          0,
          96
         ],
         "yaxis": "y2"
        },
        {
         "marker": {
          "color": "#4472b3"
         },
         "name": "2018",
         "type": "bar",
         "x": [
          "Human activity",
          "Lightning",
          "Prescribed burn",
          "Reburn",
          "Unspecified"
         ],
         "xaxis": "x",
         "y": [
          288796,
          1986960,
          37076,
          0,
          16020
         ],
         "yaxis": "y"
        },
        {
         "marker": {
          "color": "#4472b3"
         },
         "name": "2018",
         "type": "bar",
         "x": [
          "Human activity",
          "Lightning",
          "Prescribed burn",
          "Reburn",
          "Unspecified"
         ],
         "xaxis": "x2",
         "y": [
          3191,
          3761,
          19,
          0,
          140
         ],
         "yaxis": "y2"
        },
        {
         "marker": {
          "color": "#3d5ea9"
         },
         "name": "2019",
         "type": "bar",
         "x": [
          "Human activity",
          "Lightning",
          "Prescribed burn",
          "Reburn",
          "Unspecified"
         ],
         "xaxis": "x",
         "y": [
          40299,
          907678,
          308,
          0,
          837929
         ],
         "yaxis": "y"
        },
        {
         "marker": {
          "color": "#3d5ea9"
         },
         "name": "2019",
         "type": "bar",
         "x": [
          "Human activity",
          "Lightning",
          "Prescribed burn",
          "Reburn",
          "Unspecified"
         ],
         "xaxis": "x2",
         "y": [
          2403,
          1477,
          12,
          0,
          170
         ],
         "yaxis": "y2"
        },
        {
         "marker": {
          "color": "#374a9f"
         },
         "name": "2020",
         "type": "bar",
         "x": [
          "Human activity",
          "Lightning",
          "Prescribed burn",
          "Reburn",
          "Unspecified"
         ],
         "xaxis": "x",
         "y": [
          135135,
          78386,
          1392,
          0,
          3322
         ],
         "yaxis": "y"
        },
        {
         "marker": {
          "color": "#374a9f"
         },
         "name": "2020",
         "type": "bar",
         "x": [
          "Human activity",
          "Lightning",
          "Prescribed burn",
          "Reburn",
          "Unspecified"
         ],
         "xaxis": "x2",
         "y": [
          2719,
          1102,
          8,
          0,
          172
         ],
         "yaxis": "y2"
        },
        {
         "marker": {
          "color": "#313695"
         },
         "name": "2021",
         "type": "bar",
         "x": [
          "Human activity",
          "Lightning",
          "Prescribed burn",
          "Reburn",
          "Unspecified"
         ],
         "xaxis": "x",
         "y": [
          0,
          0,
          0,
          0,
          4307520
         ],
         "yaxis": "y"
        },
        {
         "marker": {
          "color": "#313695"
         },
         "name": "2021",
         "type": "bar",
         "x": [
          "Human activity",
          "Lightning",
          "Prescribed burn",
          "Reburn",
          "Unspecified"
         ],
         "xaxis": "x2",
         "y": [
          0,
          0,
          0,
          0,
          6596
         ],
         "yaxis": "y2"
        }
       ],
       "layout": {
        "annotations": [
         {
          "font": {
           "size": 16
          },
          "showarrow": false,
          "text": "Area Burned from Wildfires by Cause",
          "x": 0.5,
          "xanchor": "center",
          "xref": "paper",
          "y": 1,
          "yanchor": "bottom",
          "yref": "paper"
         },
         {
          "font": {
           "size": 16
          },
          "showarrow": false,
          "text": "Number of Fires by Cause",
          "x": 0.5,
          "xanchor": "center",
          "xref": "paper",
          "y": 0.375,
          "yanchor": "bottom",
          "yref": "paper"
         },
         {
          "font": {
           "size": 16
          },
          "showarrow": false,
          "text": "Cause",
          "x": 0.5,
          "xanchor": "center",
          "xref": "paper",
          "y": 0,
          "yanchor": "top",
          "yref": "paper",
          "yshift": -30
         },
         {
          "font": {
           "size": 16
          },
          "showarrow": false,
          "text": "Area Burned (hectares)",
          "textangle": -90,
          "x": 0,
          "xanchor": "right",
          "xref": "paper",
          "xshift": -40,
          "y": 0.5,
          "yanchor": "middle",
          "yref": "paper"
         }
        ],
        "height": 800,
        "template": {
         "data": {
          "bar": [
           {
            "error_x": {
             "color": "#2a3f5f"
            },
            "error_y": {
             "color": "#2a3f5f"
            },
            "marker": {
             "line": {
              "color": "#E5ECF6",
              "width": 0.5
             },
             "pattern": {
              "fillmode": "overlay",
              "size": 10,
              "solidity": 0.2
             }
            },
            "type": "bar"
           }
          ],
          "barpolar": [
           {
            "marker": {
             "line": {
              "color": "#E5ECF6",
              "width": 0.5
             },
             "pattern": {
              "fillmode": "overlay",
              "size": 10,
              "solidity": 0.2
             }
            },
            "type": "barpolar"
           }
          ],
          "carpet": [
           {
            "aaxis": {
             "endlinecolor": "#2a3f5f",
             "gridcolor": "white",
             "linecolor": "white",
             "minorgridcolor": "white",
             "startlinecolor": "#2a3f5f"
            },
            "baxis": {
             "endlinecolor": "#2a3f5f",
             "gridcolor": "white",
             "linecolor": "white",
             "minorgridcolor": "white",
             "startlinecolor": "#2a3f5f"
            },
            "type": "carpet"
           }
          ],
          "choropleth": [
           {
            "colorbar": {
             "outlinewidth": 0,
             "ticks": ""
            },
            "type": "choropleth"
           }
          ],
          "contour": [
           {
            "colorbar": {
             "outlinewidth": 0,
             "ticks": ""
            },
            "colorscale": [
             [
              0,
              "#0d0887"
             ],
             [
              0.1111111111111111,
              "#46039f"
             ],
             [
              0.2222222222222222,
              "#7201a8"
             ],
             [
              0.3333333333333333,
              "#9c179e"
             ],
             [
              0.4444444444444444,
              "#bd3786"
             ],
             [
              0.5555555555555556,
              "#d8576b"
             ],
             [
              0.6666666666666666,
              "#ed7953"
             ],
             [
              0.7777777777777778,
              "#fb9f3a"
             ],
             [
              0.8888888888888888,
              "#fdca26"
             ],
             [
              1,
              "#f0f921"
             ]
            ],
            "type": "contour"
           }
          ],
          "contourcarpet": [
           {
            "colorbar": {
             "outlinewidth": 0,
             "ticks": ""
            },
            "type": "contourcarpet"
           }
          ],
          "heatmap": [
           {
            "colorbar": {
             "outlinewidth": 0,
             "ticks": ""
            },
            "colorscale": [
             [
              0,
              "#0d0887"
             ],
             [
              0.1111111111111111,
              "#46039f"
             ],
             [
              0.2222222222222222,
              "#7201a8"
             ],
             [
              0.3333333333333333,
              "#9c179e"
             ],
             [
              0.4444444444444444,
              "#bd3786"
             ],
             [
              0.5555555555555556,
              "#d8576b"
             ],
             [
              0.6666666666666666,
              "#ed7953"
             ],
             [
              0.7777777777777778,
              "#fb9f3a"
             ],
             [
              0.8888888888888888,
              "#fdca26"
             ],
             [
              1,
              "#f0f921"
             ]
            ],
            "type": "heatmap"
           }
          ],
          "heatmapgl": [
           {
            "colorbar": {
             "outlinewidth": 0,
             "ticks": ""
            },
            "colorscale": [
             [
              0,
              "#0d0887"
             ],
             [
              0.1111111111111111,
              "#46039f"
             ],
             [
              0.2222222222222222,
              "#7201a8"
             ],
             [
              0.3333333333333333,
              "#9c179e"
             ],
             [
              0.4444444444444444,
              "#bd3786"
             ],
             [
              0.5555555555555556,
              "#d8576b"
             ],
             [
              0.6666666666666666,
              "#ed7953"
             ],
             [
              0.7777777777777778,
              "#fb9f3a"
             ],
             [
              0.8888888888888888,
              "#fdca26"
             ],
             [
              1,
              "#f0f921"
             ]
            ],
            "type": "heatmapgl"
           }
          ],
          "histogram": [
           {
            "marker": {
             "pattern": {
              "fillmode": "overlay",
              "size": 10,
              "solidity": 0.2
             }
            },
            "type": "histogram"
           }
          ],
          "histogram2d": [
           {
            "colorbar": {
             "outlinewidth": 0,
             "ticks": ""
            },
            "colorscale": [
             [
              0,
              "#0d0887"
             ],
             [
              0.1111111111111111,
              "#46039f"
             ],
             [
              0.2222222222222222,
              "#7201a8"
             ],
             [
              0.3333333333333333,
              "#9c179e"
             ],
             [
              0.4444444444444444,
              "#bd3786"
             ],
             [
              0.5555555555555556,
              "#d8576b"
             ],
             [
              0.6666666666666666,
              "#ed7953"
             ],
             [
              0.7777777777777778,
              "#fb9f3a"
             ],
             [
              0.8888888888888888,
              "#fdca26"
             ],
             [
              1,
              "#f0f921"
             ]
            ],
            "type": "histogram2d"
           }
          ],
          "histogram2dcontour": [
           {
            "colorbar": {
             "outlinewidth": 0,
             "ticks": ""
            },
            "colorscale": [
             [
              0,
              "#0d0887"
             ],
             [
              0.1111111111111111,
              "#46039f"
             ],
             [
              0.2222222222222222,
              "#7201a8"
             ],
             [
              0.3333333333333333,
              "#9c179e"
             ],
             [
              0.4444444444444444,
              "#bd3786"
             ],
             [
              0.5555555555555556,
              "#d8576b"
             ],
             [
              0.6666666666666666,
              "#ed7953"
             ],
             [
              0.7777777777777778,
              "#fb9f3a"
             ],
             [
              0.8888888888888888,
              "#fdca26"
             ],
             [
              1,
              "#f0f921"
             ]
            ],
            "type": "histogram2dcontour"
           }
          ],
          "mesh3d": [
           {
            "colorbar": {
             "outlinewidth": 0,
             "ticks": ""
            },
            "type": "mesh3d"
           }
          ],
          "parcoords": [
           {
            "line": {
             "colorbar": {
              "outlinewidth": 0,
              "ticks": ""
             }
            },
            "type": "parcoords"
           }
          ],
          "pie": [
           {
            "automargin": true,
            "type": "pie"
           }
          ],
          "scatter": [
           {
            "fillpattern": {
             "fillmode": "overlay",
             "size": 10,
             "solidity": 0.2
            },
            "type": "scatter"
           }
          ],
          "scatter3d": [
           {
            "line": {
             "colorbar": {
              "outlinewidth": 0,
              "ticks": ""
             }
            },
            "marker": {
             "colorbar": {
              "outlinewidth": 0,
              "ticks": ""
             }
            },
            "type": "scatter3d"
           }
          ],
          "scattercarpet": [
           {
            "marker": {
             "colorbar": {
              "outlinewidth": 0,
              "ticks": ""
             }
            },
            "type": "scattercarpet"
           }
          ],
          "scattergeo": [
           {
            "marker": {
             "colorbar": {
              "outlinewidth": 0,
              "ticks": ""
             }
            },
            "type": "scattergeo"
           }
          ],
          "scattergl": [
           {
            "marker": {
             "colorbar": {
              "outlinewidth": 0,
              "ticks": ""
             }
            },
            "type": "scattergl"
           }
          ],
          "scattermapbox": [
           {
            "marker": {
             "colorbar": {
              "outlinewidth": 0,
              "ticks": ""
             }
            },
            "type": "scattermapbox"
           }
          ],
          "scatterpolar": [
           {
            "marker": {
             "colorbar": {
              "outlinewidth": 0,
              "ticks": ""
             }
            },
            "type": "scatterpolar"
           }
          ],
          "scatterpolargl": [
           {
            "marker": {
             "colorbar": {
              "outlinewidth": 0,
              "ticks": ""
             }
            },
            "type": "scatterpolargl"
           }
          ],
          "scatterternary": [
           {
            "marker": {
             "colorbar": {
              "outlinewidth": 0,
              "ticks": ""
             }
            },
            "type": "scatterternary"
           }
          ],
          "surface": [
           {
            "colorbar": {
             "outlinewidth": 0,
             "ticks": ""
            },
            "colorscale": [
             [
              0,
              "#0d0887"
             ],
             [
              0.1111111111111111,
              "#46039f"
             ],
             [
              0.2222222222222222,
              "#7201a8"
             ],
             [
              0.3333333333333333,
              "#9c179e"
             ],
             [
              0.4444444444444444,
              "#bd3786"
             ],
             [
              0.5555555555555556,
              "#d8576b"
             ],
             [
              0.6666666666666666,
              "#ed7953"
             ],
             [
              0.7777777777777778,
              "#fb9f3a"
             ],
             [
              0.8888888888888888,
              "#fdca26"
             ],
             [
              1,
              "#f0f921"
             ]
            ],
            "type": "surface"
           }
          ],
          "table": [
           {
            "cells": {
             "fill": {
              "color": "#EBF0F8"
             },
             "line": {
              "color": "white"
             }
            },
            "header": {
             "fill": {
              "color": "#C8D4E3"
             },
             "line": {
              "color": "white"
             }
            },
            "type": "table"
           }
          ]
         },
         "layout": {
          "annotationdefaults": {
           "arrowcolor": "#2a3f5f",
           "arrowhead": 0,
           "arrowwidth": 1
          },
          "autotypenumbers": "strict",
          "coloraxis": {
           "colorbar": {
            "outlinewidth": 0,
            "ticks": ""
           }
          },
          "colorscale": {
           "diverging": [
            [
             0,
             "#8e0152"
            ],
            [
             0.1,
             "#c51b7d"
            ],
            [
             0.2,
             "#de77ae"
            ],
            [
             0.3,
             "#f1b6da"
            ],
            [
             0.4,
             "#fde0ef"
            ],
            [
             0.5,
             "#f7f7f7"
            ],
            [
             0.6,
             "#e6f5d0"
            ],
            [
             0.7,
             "#b8e186"
            ],
            [
             0.8,
             "#7fbc41"
            ],
            [
             0.9,
             "#4d9221"
            ],
            [
             1,
             "#276419"
            ]
           ],
           "sequential": [
            [
             0,
             "#0d0887"
            ],
            [
             0.1111111111111111,
             "#46039f"
            ],
            [
             0.2222222222222222,
             "#7201a8"
            ],
            [
             0.3333333333333333,
             "#9c179e"
            ],
            [
             0.4444444444444444,
             "#bd3786"
            ],
            [
             0.5555555555555556,
             "#d8576b"
            ],
            [
             0.6666666666666666,
             "#ed7953"
            ],
            [
             0.7777777777777778,
             "#fb9f3a"
            ],
            [
             0.8888888888888888,
             "#fdca26"
            ],
            [
             1,
             "#f0f921"
            ]
           ],
           "sequentialminus": [
            [
             0,
             "#0d0887"
            ],
            [
             0.1111111111111111,
             "#46039f"
            ],
            [
             0.2222222222222222,
             "#7201a8"
            ],
            [
             0.3333333333333333,
             "#9c179e"
            ],
            [
             0.4444444444444444,
             "#bd3786"
            ],
            [
             0.5555555555555556,
             "#d8576b"
            ],
            [
             0.6666666666666666,
             "#ed7953"
            ],
            [
             0.7777777777777778,
             "#fb9f3a"
            ],
            [
             0.8888888888888888,
             "#fdca26"
            ],
            [
             1,
             "#f0f921"
            ]
           ]
          },
          "colorway": [
           "#636efa",
           "#EF553B",
           "#00cc96",
           "#ab63fa",
           "#FFA15A",
           "#19d3f3",
           "#FF6692",
           "#B6E880",
           "#FF97FF",
           "#FECB52"
          ],
          "font": {
           "color": "#2a3f5f"
          },
          "geo": {
           "bgcolor": "white",
           "lakecolor": "white",
           "landcolor": "#E5ECF6",
           "showlakes": true,
           "showland": true,
           "subunitcolor": "white"
          },
          "hoverlabel": {
           "align": "left"
          },
          "hovermode": "closest",
          "mapbox": {
           "style": "light"
          },
          "paper_bgcolor": "white",
          "plot_bgcolor": "#E5ECF6",
          "polar": {
           "angularaxis": {
            "gridcolor": "white",
            "linecolor": "white",
            "ticks": ""
           },
           "bgcolor": "#E5ECF6",
           "radialaxis": {
            "gridcolor": "white",
            "linecolor": "white",
            "ticks": ""
           }
          },
          "scene": {
           "xaxis": {
            "backgroundcolor": "#E5ECF6",
            "gridcolor": "white",
            "gridwidth": 2,
            "linecolor": "white",
            "showbackground": true,
            "ticks": "",
            "zerolinecolor": "white"
           },
           "yaxis": {
            "backgroundcolor": "#E5ECF6",
            "gridcolor": "white",
            "gridwidth": 2,
            "linecolor": "white",
            "showbackground": true,
            "ticks": "",
            "zerolinecolor": "white"
           },
           "zaxis": {
            "backgroundcolor": "#E5ECF6",
            "gridcolor": "white",
            "gridwidth": 2,
            "linecolor": "white",
            "showbackground": true,
            "ticks": "",
            "zerolinecolor": "white"
           }
          },
          "shapedefaults": {
           "line": {
            "color": "#2a3f5f"
           }
          },
          "ternary": {
           "aaxis": {
            "gridcolor": "white",
            "linecolor": "white",
            "ticks": ""
           },
           "baxis": {
            "gridcolor": "white",
            "linecolor": "white",
            "ticks": ""
           },
           "bgcolor": "#E5ECF6",
           "caxis": {
            "gridcolor": "white",
            "linecolor": "white",
            "ticks": ""
           }
          },
          "title": {
           "x": 0.05
          },
          "xaxis": {
           "automargin": true,
           "gridcolor": "white",
           "linecolor": "white",
           "ticks": "",
           "title": {
            "standoff": 15
           },
           "zerolinecolor": "white",
           "zerolinewidth": 2
          },
          "yaxis": {
           "automargin": true,
           "gridcolor": "white",
           "linecolor": "white",
           "ticks": "",
           "title": {
            "standoff": 15
           },
           "zerolinecolor": "white",
           "zerolinewidth": 2
          }
         }
        },
        "width": 1780,
        "xaxis": {
         "anchor": "y",
         "domain": [
          0,
          1
         ]
        },
        "xaxis2": {
         "anchor": "y2",
         "domain": [
          0,
          1
         ]
        },
        "yaxis": {
         "anchor": "x",
         "domain": [
          0.625,
          1
         ]
        },
        "yaxis2": {
         "anchor": "x2",
         "domain": [
          0,
          0.375
         ]
        }
       }
      }
     },
     "metadata": {},
     "output_type": "display_data"
    }
   ],
   "source": [
    "areabygroup_causes = areabygroup.groupby(['Cause']).sum().reset_index()\n",
    "numfiresbygroup_causes = numfiresbygroup.groupby(['Cause']).sum().reset_index()\n",
    "cause_figs = make_subplots(rows=2, cols=1, x_title='Cause', y_title='Area Burned (hectares)', subplot_titles=['Area Burned from Wildfires by Cause', 'Number of Fires by Cause'])\n",
    "for i in range(1990,2022):\n",
    "    cause_figs.add_bar(x=areabygroup_causes['Cause'], y=areabygroup_causes[i], name=i, marker=dict(color=color_map[i]), row=1, col=1)\n",
    "    cause_figs.add_bar(x=numfiresbygroup_causes['Cause'], y=numfiresbygroup_causes[i], name=i, marker=dict(color=color_map[i]), row=2, col=1)\n",
    "cause_figs.update_layout(height=800, width=1780).show()"
   ]
  },
  {
   "cell_type": "code",
   "execution_count": 26,
   "metadata": {},
   "outputs": [
    {
     "data": {
      "application/vnd.plotly.v1+json": {
       "config": {
        "plotlyServerURL": "https://plot.ly"
       },
       "data": [
        {
         "marker": {
          "color": "#a50026"
         },
         "name": "1990",
         "type": "bar",
         "x": [
          "Prescribed burn",
          "Reburn"
         ],
         "xaxis": "x",
         "y": [
          0,
          0
         ],
         "yaxis": "y"
        },
        {
         "marker": {
          "color": "#a50026"
         },
         "name": "1990",
         "type": "bar",
         "x": [
          "Prescribed burn",
          "Reburn"
         ],
         "xaxis": "x2",
         "y": [
          0,
          0
         ],
         "yaxis": "y2"
        },
        {
         "marker": {
          "color": "#b50f26"
         },
         "name": "1991",
         "type": "bar",
         "x": [
          "Prescribed burn",
          "Reburn"
         ],
         "xaxis": "x",
         "y": [
          0,
          0
         ],
         "yaxis": "y"
        },
        {
         "marker": {
          "color": "#b50f26"
         },
         "name": "1991",
         "type": "bar",
         "x": [
          "Prescribed burn",
          "Reburn"
         ],
         "xaxis": "x2",
         "y": [
          0,
          0
         ],
         "yaxis": "y2"
        },
        {
         "marker": {
          "color": "#c51e26"
         },
         "name": "1992",
         "type": "bar",
         "x": [
          "Prescribed burn",
          "Reburn"
         ],
         "xaxis": "x",
         "y": [
          0,
          0
         ],
         "yaxis": "y"
        },
        {
         "marker": {
          "color": "#c51e26"
         },
         "name": "1992",
         "type": "bar",
         "x": [
          "Prescribed burn",
          "Reburn"
         ],
         "xaxis": "x2",
         "y": [
          0,
          0
         ],
         "yaxis": "y2"
        },
        {
         "marker": {
          "color": "#d52e26"
         },
         "name": "1993",
         "type": "bar",
         "x": [
          "Prescribed burn",
          "Reburn"
         ],
         "xaxis": "x",
         "y": [
          7400,
          0
         ],
         "yaxis": "y"
        },
        {
         "marker": {
          "color": "#d52e26"
         },
         "name": "1993",
         "type": "bar",
         "x": [
          "Prescribed burn",
          "Reburn"
         ],
         "xaxis": "x2",
         "y": [
          2,
          0
         ],
         "yaxis": "y2"
        },
        {
         "marker": {
          "color": "#df412f"
         },
         "name": "1994",
         "type": "bar",
         "x": [
          "Prescribed burn",
          "Reburn"
         ],
         "xaxis": "x",
         "y": [
          17882,
          0
         ],
         "yaxis": "y"
        },
        {
         "marker": {
          "color": "#df412f"
         },
         "name": "1994",
         "type": "bar",
         "x": [
          "Prescribed burn",
          "Reburn"
         ],
         "xaxis": "x2",
         "y": [
          28,
          0
         ],
         "yaxis": "y2"
        },
        {
         "marker": {
          "color": "#e85538"
         },
         "name": "1995",
         "type": "bar",
         "x": [
          "Prescribed burn",
          "Reburn"
         ],
         "xaxis": "x",
         "y": [
          15997,
          0
         ],
         "yaxis": "y"
        },
        {
         "marker": {
          "color": "#e85538"
         },
         "name": "1995",
         "type": "bar",
         "x": [
          "Prescribed burn",
          "Reburn"
         ],
         "xaxis": "x2",
         "y": [
          8,
          0
         ],
         "yaxis": "y2"
        },
        {
         "marker": {
          "color": "#f26941"
         },
         "name": "1996",
         "type": "bar",
         "x": [
          "Prescribed burn",
          "Reburn"
         ],
         "xaxis": "x",
         "y": [
          0,
          0
         ],
         "yaxis": "y"
        },
        {
         "marker": {
          "color": "#f26941"
         },
         "name": "1996",
         "type": "bar",
         "x": [
          "Prescribed burn",
          "Reburn"
         ],
         "xaxis": "x2",
         "y": [
          0,
          0
         ],
         "yaxis": "y2"
        },
        {
         "marker": {
          "color": "#f67d4a"
         },
         "name": "1997",
         "type": "bar",
         "x": [
          "Prescribed burn",
          "Reburn"
         ],
         "xaxis": "x",
         "y": [
          0,
          0
         ],
         "yaxis": "y"
        },
        {
         "marker": {
          "color": "#f67d4a"
         },
         "name": "1997",
         "type": "bar",
         "x": [
          "Prescribed burn",
          "Reburn"
         ],
         "xaxis": "x2",
         "y": [
          0,
          0
         ],
         "yaxis": "y2"
        },
        {
         "marker": {
          "color": "#f99254"
         },
         "name": "1998",
         "type": "bar",
         "x": [
          "Prescribed burn",
          "Reburn"
         ],
         "xaxis": "x",
         "y": [
          0,
          0
         ],
         "yaxis": "y"
        },
        {
         "marker": {
          "color": "#f99254"
         },
         "name": "1998",
         "type": "bar",
         "x": [
          "Prescribed burn",
          "Reburn"
         ],
         "xaxis": "x2",
         "y": [
          0,
          0
         ],
         "yaxis": "y2"
        },
        {
         "marker": {
          "color": "#fca75e"
         },
         "name": "1999",
         "type": "bar",
         "x": [
          "Prescribed burn",
          "Reburn"
         ],
         "xaxis": "x",
         "y": [
          11158,
          0
         ],
         "yaxis": "y"
        },
        {
         "marker": {
          "color": "#fca75e"
         },
         "name": "1999",
         "type": "bar",
         "x": [
          "Prescribed burn",
          "Reburn"
         ],
         "xaxis": "x2",
         "y": [
          3,
          0
         ],
         "yaxis": "y2"
        },
        {
         "marker": {
          "color": "#fdb96b"
         },
         "name": "2000",
         "type": "bar",
         "x": [
          "Prescribed burn",
          "Reburn"
         ],
         "xaxis": "x",
         "y": [
          18,
          0
         ],
         "yaxis": "y"
        },
        {
         "marker": {
          "color": "#fdb96b"
         },
         "name": "2000",
         "type": "bar",
         "x": [
          "Prescribed burn",
          "Reburn"
         ],
         "xaxis": "x2",
         "y": [
          1,
          0
         ],
         "yaxis": "y2"
        },
        {
         "marker": {
          "color": "#fdc97a"
         },
         "name": "2001",
         "type": "bar",
         "x": [
          "Prescribed burn",
          "Reburn"
         ],
         "xaxis": "x",
         "y": [
          0,
          0
         ],
         "yaxis": "y"
        },
        {
         "marker": {
          "color": "#fdc97a"
         },
         "name": "2001",
         "type": "bar",
         "x": [
          "Prescribed burn",
          "Reburn"
         ],
         "xaxis": "x2",
         "y": [
          0,
          0
         ],
         "yaxis": "y2"
        },
        {
         "marker": {
          "color": "#fdd989"
         },
         "name": "2002",
         "type": "bar",
         "x": [
          "Prescribed burn",
          "Reburn"
         ],
         "xaxis": "x",
         "y": [
          7,
          0
         ],
         "yaxis": "y"
        },
        {
         "marker": {
          "color": "#fdd989"
         },
         "name": "2002",
         "type": "bar",
         "x": [
          "Prescribed burn",
          "Reburn"
         ],
         "xaxis": "x2",
         "y": [
          1,
          0
         ],
         "yaxis": "y2"
        },
        {
         "marker": {
          "color": "#fee599"
         },
         "name": "2003",
         "type": "bar",
         "x": [
          "Prescribed burn",
          "Reburn"
         ],
         "xaxis": "x",
         "y": [
          0,
          0
         ],
         "yaxis": "y"
        },
        {
         "marker": {
          "color": "#fee599"
         },
         "name": "2003",
         "type": "bar",
         "x": [
          "Prescribed burn",
          "Reburn"
         ],
         "xaxis": "x2",
         "y": [
          0,
          0
         ],
         "yaxis": "y2"
        },
        {
         "marker": {
          "color": "#fef0a8"
         },
         "name": "2004",
         "type": "bar",
         "x": [
          "Prescribed burn",
          "Reburn"
         ],
         "xaxis": "x",
         "y": [
          0,
          41
         ],
         "yaxis": "y"
        },
        {
         "marker": {
          "color": "#fef0a8"
         },
         "name": "2004",
         "type": "bar",
         "x": [
          "Prescribed burn",
          "Reburn"
         ],
         "xaxis": "x2",
         "y": [
          1,
          6
         ],
         "yaxis": "y2"
        },
        {
         "marker": {
          "color": "#fefab7"
         },
         "name": "2005",
         "type": "bar",
         "x": [
          "Prescribed burn",
          "Reburn"
         ],
         "xaxis": "x",
         "y": [
          4,
          0
         ],
         "yaxis": "y"
        },
        {
         "marker": {
          "color": "#fefab7"
         },
         "name": "2005",
         "type": "bar",
         "x": [
          "Prescribed burn",
          "Reburn"
         ],
         "xaxis": "x2",
         "y": [
          2,
          3
         ],
         "yaxis": "y2"
        },
        {
         "marker": {
          "color": "#fafdc8"
         },
         "name": "2006",
         "type": "bar",
         "x": [
          "Prescribed burn",
          "Reburn"
         ],
         "xaxis": "x",
         "y": [
          2,
          33
         ],
         "yaxis": "y"
        },
        {
         "marker": {
          "color": "#fafdc8"
         },
         "name": "2006",
         "type": "bar",
         "x": [
          "Prescribed burn",
          "Reburn"
         ],
         "xaxis": "x2",
         "y": [
          7,
          22
         ],
         "yaxis": "y2"
        },
        {
         "marker": {
          "color": "#f0f9da"
         },
         "name": "2007",
         "type": "bar",
         "x": [
          "Prescribed burn",
          "Reburn"
         ],
         "xaxis": "x",
         "y": [
          25,
          1
         ],
         "yaxis": "y"
        },
        {
         "marker": {
          "color": "#f0f9da"
         },
         "name": "2007",
         "type": "bar",
         "x": [
          "Prescribed burn",
          "Reburn"
         ],
         "xaxis": "x2",
         "y": [
          1,
          8
         ],
         "yaxis": "y2"
        },
        {
         "marker": {
          "color": "#e6f5ec"
         },
         "name": "2008",
         "type": "bar",
         "x": [
          "Prescribed burn",
          "Reburn"
         ],
         "xaxis": "x",
         "y": [
          9297,
          8
         ],
         "yaxis": "y"
        },
        {
         "marker": {
          "color": "#e6f5ec"
         },
         "name": "2008",
         "type": "bar",
         "x": [
          "Prescribed burn",
          "Reburn"
         ],
         "xaxis": "x2",
         "y": [
          23,
          9
         ],
         "yaxis": "y2"
        },
        {
         "marker": {
          "color": "#d9eff6"
         },
         "name": "2009",
         "type": "bar",
         "x": [
          "Prescribed burn",
          "Reburn"
         ],
         "xaxis": "x",
         "y": [
          7000,
          6
         ],
         "yaxis": "y"
        },
        {
         "marker": {
          "color": "#d9eff6"
         },
         "name": "2009",
         "type": "bar",
         "x": [
          "Prescribed burn",
          "Reburn"
         ],
         "xaxis": "x2",
         "y": [
          25,
          9
         ],
         "yaxis": "y2"
        },
        {
         "marker": {
          "color": "#c8e7f1"
         },
         "name": "2010",
         "type": "bar",
         "x": [
          "Prescribed burn",
          "Reburn"
         ],
         "xaxis": "x",
         "y": [
          2112,
          139
         ],
         "yaxis": "y"
        },
        {
         "marker": {
          "color": "#c8e7f1"
         },
         "name": "2010",
         "type": "bar",
         "x": [
          "Prescribed burn",
          "Reburn"
         ],
         "xaxis": "x2",
         "y": [
          14,
          12
         ],
         "yaxis": "y2"
        },
        {
         "marker": {
          "color": "#b6deec"
         },
         "name": "2011",
         "type": "bar",
         "x": [
          "Prescribed burn",
          "Reburn"
         ],
         "xaxis": "x",
         "y": [
          4816,
          0
         ],
         "yaxis": "y"
        },
        {
         "marker": {
          "color": "#b6deec"
         },
         "name": "2011",
         "type": "bar",
         "x": [
          "Prescribed burn",
          "Reburn"
         ],
         "xaxis": "x2",
         "y": [
          25,
          5
         ],
         "yaxis": "y2"
        },
        {
         "marker": {
          "color": "#a5d4e6"
         },
         "name": "2012",
         "type": "bar",
         "x": [
          "Prescribed burn",
          "Reburn"
         ],
         "xaxis": "x",
         "y": [
          2627,
          0
         ],
         "yaxis": "y"
        },
        {
         "marker": {
          "color": "#a5d4e6"
         },
         "name": "2012",
         "type": "bar",
         "x": [
          "Prescribed burn",
          "Reburn"
         ],
         "xaxis": "x2",
         "y": [
          16,
          0
         ],
         "yaxis": "y2"
        },
        {
         "marker": {
          "color": "#93c6de"
         },
         "name": "2013",
         "type": "bar",
         "x": [
          "Prescribed burn",
          "Reburn"
         ],
         "xaxis": "x",
         "y": [
          1122,
          0
         ],
         "yaxis": "y"
        },
        {
         "marker": {
          "color": "#93c6de"
         },
         "name": "2013",
         "type": "bar",
         "x": [
          "Prescribed burn",
          "Reburn"
         ],
         "xaxis": "x2",
         "y": [
          20,
          0
         ],
         "yaxis": "y2"
        },
        {
         "marker": {
          "color": "#82b8d7"
         },
         "name": "2014",
         "type": "bar",
         "x": [
          "Prescribed burn",
          "Reburn"
         ],
         "xaxis": "x",
         "y": [
          3898,
          0
         ],
         "yaxis": "y"
        },
        {
         "marker": {
          "color": "#82b8d7"
         },
         "name": "2014",
         "type": "bar",
         "x": [
          "Prescribed burn",
          "Reburn"
         ],
         "xaxis": "x2",
         "y": [
          17,
          0
         ],
         "yaxis": "y2"
        },
        {
         "marker": {
          "color": "#70a9cf"
         },
         "name": "2015",
         "type": "bar",
         "x": [
          "Prescribed burn",
          "Reburn"
         ],
         "xaxis": "x",
         "y": [
          10105,
          0
         ],
         "yaxis": "y"
        },
        {
         "marker": {
          "color": "#70a9cf"
         },
         "name": "2015",
         "type": "bar",
         "x": [
          "Prescribed burn",
          "Reburn"
         ],
         "xaxis": "x2",
         "y": [
          30,
          0
         ],
         "yaxis": "y2"
        },
        {
         "marker": {
          "color": "#6197c5"
         },
         "name": "2016",
         "type": "bar",
         "x": [
          "Prescribed burn",
          "Reburn"
         ],
         "xaxis": "x",
         "y": [
          6480,
          0
         ],
         "yaxis": "y"
        },
        {
         "marker": {
          "color": "#6197c5"
         },
         "name": "2016",
         "type": "bar",
         "x": [
          "Prescribed burn",
          "Reburn"
         ],
         "xaxis": "x2",
         "y": [
          26,
          0
         ],
         "yaxis": "y2"
        },
        {
         "marker": {
          "color": "#5285bc"
         },
         "name": "2017",
         "type": "bar",
         "x": [
          "Prescribed burn",
          "Reburn"
         ],
         "xaxis": "x",
         "y": [
          2190,
          0
         ],
         "yaxis": "y"
        },
        {
         "marker": {
          "color": "#5285bc"
         },
         "name": "2017",
         "type": "bar",
         "x": [
          "Prescribed burn",
          "Reburn"
         ],
         "xaxis": "x2",
         "y": [
          16,
          0
         ],
         "yaxis": "y2"
        },
        {
         "marker": {
          "color": "#4472b3"
         },
         "name": "2018",
         "type": "bar",
         "x": [
          "Prescribed burn",
          "Reburn"
         ],
         "xaxis": "x",
         "y": [
          37076,
          0
         ],
         "yaxis": "y"
        },
        {
         "marker": {
          "color": "#4472b3"
         },
         "name": "2018",
         "type": "bar",
         "x": [
          "Prescribed burn",
          "Reburn"
         ],
         "xaxis": "x2",
         "y": [
          19,
          0
         ],
         "yaxis": "y2"
        },
        {
         "marker": {
          "color": "#3d5ea9"
         },
         "name": "2019",
         "type": "bar",
         "x": [
          "Prescribed burn",
          "Reburn"
         ],
         "xaxis": "x",
         "y": [
          308,
          0
         ],
         "yaxis": "y"
        },
        {
         "marker": {
          "color": "#3d5ea9"
         },
         "name": "2019",
         "type": "bar",
         "x": [
          "Prescribed burn",
          "Reburn"
         ],
         "xaxis": "x2",
         "y": [
          12,
          0
         ],
         "yaxis": "y2"
        },
        {
         "marker": {
          "color": "#374a9f"
         },
         "name": "2020",
         "type": "bar",
         "x": [
          "Prescribed burn",
          "Reburn"
         ],
         "xaxis": "x",
         "y": [
          1392,
          0
         ],
         "yaxis": "y"
        },
        {
         "marker": {
          "color": "#374a9f"
         },
         "name": "2020",
         "type": "bar",
         "x": [
          "Prescribed burn",
          "Reburn"
         ],
         "xaxis": "x2",
         "y": [
          8,
          0
         ],
         "yaxis": "y2"
        },
        {
         "marker": {
          "color": "#313695"
         },
         "name": "2021",
         "type": "bar",
         "x": [
          "Prescribed burn",
          "Reburn"
         ],
         "xaxis": "x",
         "y": [
          0,
          0
         ],
         "yaxis": "y"
        },
        {
         "marker": {
          "color": "#313695"
         },
         "name": "2021",
         "type": "bar",
         "x": [
          "Prescribed burn",
          "Reburn"
         ],
         "xaxis": "x2",
         "y": [
          0,
          0
         ],
         "yaxis": "y2"
        }
       ],
       "layout": {
        "annotations": [
         {
          "font": {
           "size": 16
          },
          "showarrow": false,
          "text": "Area Burned from Wildfires for Prescribed Burns and Reburns",
          "x": 0.5,
          "xanchor": "center",
          "xref": "paper",
          "y": 1,
          "yanchor": "bottom",
          "yref": "paper"
         },
         {
          "font": {
           "size": 16
          },
          "showarrow": false,
          "text": "Number of Fires caused by Prescribed Burns and Reburns",
          "x": 0.5,
          "xanchor": "center",
          "xref": "paper",
          "y": 0.375,
          "yanchor": "bottom",
          "yref": "paper"
         },
         {
          "font": {
           "size": 16
          },
          "showarrow": false,
          "text": "Cause",
          "x": 0.5,
          "xanchor": "center",
          "xref": "paper",
          "y": 0,
          "yanchor": "top",
          "yref": "paper",
          "yshift": -30
         },
         {
          "font": {
           "size": 16
          },
          "showarrow": false,
          "text": "Area Burned (hectares)",
          "textangle": -90,
          "x": 0,
          "xanchor": "right",
          "xref": "paper",
          "xshift": -40,
          "y": 0.5,
          "yanchor": "middle",
          "yref": "paper"
         }
        ],
        "height": 800,
        "template": {
         "data": {
          "bar": [
           {
            "error_x": {
             "color": "#2a3f5f"
            },
            "error_y": {
             "color": "#2a3f5f"
            },
            "marker": {
             "line": {
              "color": "#E5ECF6",
              "width": 0.5
             },
             "pattern": {
              "fillmode": "overlay",
              "size": 10,
              "solidity": 0.2
             }
            },
            "type": "bar"
           }
          ],
          "barpolar": [
           {
            "marker": {
             "line": {
              "color": "#E5ECF6",
              "width": 0.5
             },
             "pattern": {
              "fillmode": "overlay",
              "size": 10,
              "solidity": 0.2
             }
            },
            "type": "barpolar"
           }
          ],
          "carpet": [
           {
            "aaxis": {
             "endlinecolor": "#2a3f5f",
             "gridcolor": "white",
             "linecolor": "white",
             "minorgridcolor": "white",
             "startlinecolor": "#2a3f5f"
            },
            "baxis": {
             "endlinecolor": "#2a3f5f",
             "gridcolor": "white",
             "linecolor": "white",
             "minorgridcolor": "white",
             "startlinecolor": "#2a3f5f"
            },
            "type": "carpet"
           }
          ],
          "choropleth": [
           {
            "colorbar": {
             "outlinewidth": 0,
             "ticks": ""
            },
            "type": "choropleth"
           }
          ],
          "contour": [
           {
            "colorbar": {
             "outlinewidth": 0,
             "ticks": ""
            },
            "colorscale": [
             [
              0,
              "#0d0887"
             ],
             [
              0.1111111111111111,
              "#46039f"
             ],
             [
              0.2222222222222222,
              "#7201a8"
             ],
             [
              0.3333333333333333,
              "#9c179e"
             ],
             [
              0.4444444444444444,
              "#bd3786"
             ],
             [
              0.5555555555555556,
              "#d8576b"
             ],
             [
              0.6666666666666666,
              "#ed7953"
             ],
             [
              0.7777777777777778,
              "#fb9f3a"
             ],
             [
              0.8888888888888888,
              "#fdca26"
             ],
             [
              1,
              "#f0f921"
             ]
            ],
            "type": "contour"
           }
          ],
          "contourcarpet": [
           {
            "colorbar": {
             "outlinewidth": 0,
             "ticks": ""
            },
            "type": "contourcarpet"
           }
          ],
          "heatmap": [
           {
            "colorbar": {
             "outlinewidth": 0,
             "ticks": ""
            },
            "colorscale": [
             [
              0,
              "#0d0887"
             ],
             [
              0.1111111111111111,
              "#46039f"
             ],
             [
              0.2222222222222222,
              "#7201a8"
             ],
             [
              0.3333333333333333,
              "#9c179e"
             ],
             [
              0.4444444444444444,
              "#bd3786"
             ],
             [
              0.5555555555555556,
              "#d8576b"
             ],
             [
              0.6666666666666666,
              "#ed7953"
             ],
             [
              0.7777777777777778,
              "#fb9f3a"
             ],
             [
              0.8888888888888888,
              "#fdca26"
             ],
             [
              1,
              "#f0f921"
             ]
            ],
            "type": "heatmap"
           }
          ],
          "heatmapgl": [
           {
            "colorbar": {
             "outlinewidth": 0,
             "ticks": ""
            },
            "colorscale": [
             [
              0,
              "#0d0887"
             ],
             [
              0.1111111111111111,
              "#46039f"
             ],
             [
              0.2222222222222222,
              "#7201a8"
             ],
             [
              0.3333333333333333,
              "#9c179e"
             ],
             [
              0.4444444444444444,
              "#bd3786"
             ],
             [
              0.5555555555555556,
              "#d8576b"
             ],
             [
              0.6666666666666666,
              "#ed7953"
             ],
             [
              0.7777777777777778,
              "#fb9f3a"
             ],
             [
              0.8888888888888888,
              "#fdca26"
             ],
             [
              1,
              "#f0f921"
             ]
            ],
            "type": "heatmapgl"
           }
          ],
          "histogram": [
           {
            "marker": {
             "pattern": {
              "fillmode": "overlay",
              "size": 10,
              "solidity": 0.2
             }
            },
            "type": "histogram"
           }
          ],
          "histogram2d": [
           {
            "colorbar": {
             "outlinewidth": 0,
             "ticks": ""
            },
            "colorscale": [
             [
              0,
              "#0d0887"
             ],
             [
              0.1111111111111111,
              "#46039f"
             ],
             [
              0.2222222222222222,
              "#7201a8"
             ],
             [
              0.3333333333333333,
              "#9c179e"
             ],
             [
              0.4444444444444444,
              "#bd3786"
             ],
             [
              0.5555555555555556,
              "#d8576b"
             ],
             [
              0.6666666666666666,
              "#ed7953"
             ],
             [
              0.7777777777777778,
              "#fb9f3a"
             ],
             [
              0.8888888888888888,
              "#fdca26"
             ],
             [
              1,
              "#f0f921"
             ]
            ],
            "type": "histogram2d"
           }
          ],
          "histogram2dcontour": [
           {
            "colorbar": {
             "outlinewidth": 0,
             "ticks": ""
            },
            "colorscale": [
             [
              0,
              "#0d0887"
             ],
             [
              0.1111111111111111,
              "#46039f"
             ],
             [
              0.2222222222222222,
              "#7201a8"
             ],
             [
              0.3333333333333333,
              "#9c179e"
             ],
             [
              0.4444444444444444,
              "#bd3786"
             ],
             [
              0.5555555555555556,
              "#d8576b"
             ],
             [
              0.6666666666666666,
              "#ed7953"
             ],
             [
              0.7777777777777778,
              "#fb9f3a"
             ],
             [
              0.8888888888888888,
              "#fdca26"
             ],
             [
              1,
              "#f0f921"
             ]
            ],
            "type": "histogram2dcontour"
           }
          ],
          "mesh3d": [
           {
            "colorbar": {
             "outlinewidth": 0,
             "ticks": ""
            },
            "type": "mesh3d"
           }
          ],
          "parcoords": [
           {
            "line": {
             "colorbar": {
              "outlinewidth": 0,
              "ticks": ""
             }
            },
            "type": "parcoords"
           }
          ],
          "pie": [
           {
            "automargin": true,
            "type": "pie"
           }
          ],
          "scatter": [
           {
            "fillpattern": {
             "fillmode": "overlay",
             "size": 10,
             "solidity": 0.2
            },
            "type": "scatter"
           }
          ],
          "scatter3d": [
           {
            "line": {
             "colorbar": {
              "outlinewidth": 0,
              "ticks": ""
             }
            },
            "marker": {
             "colorbar": {
              "outlinewidth": 0,
              "ticks": ""
             }
            },
            "type": "scatter3d"
           }
          ],
          "scattercarpet": [
           {
            "marker": {
             "colorbar": {
              "outlinewidth": 0,
              "ticks": ""
             }
            },
            "type": "scattercarpet"
           }
          ],
          "scattergeo": [
           {
            "marker": {
             "colorbar": {
              "outlinewidth": 0,
              "ticks": ""
             }
            },
            "type": "scattergeo"
           }
          ],
          "scattergl": [
           {
            "marker": {
             "colorbar": {
              "outlinewidth": 0,
              "ticks": ""
             }
            },
            "type": "scattergl"
           }
          ],
          "scattermapbox": [
           {
            "marker": {
             "colorbar": {
              "outlinewidth": 0,
              "ticks": ""
             }
            },
            "type": "scattermapbox"
           }
          ],
          "scatterpolar": [
           {
            "marker": {
             "colorbar": {
              "outlinewidth": 0,
              "ticks": ""
             }
            },
            "type": "scatterpolar"
           }
          ],
          "scatterpolargl": [
           {
            "marker": {
             "colorbar": {
              "outlinewidth": 0,
              "ticks": ""
             }
            },
            "type": "scatterpolargl"
           }
          ],
          "scatterternary": [
           {
            "marker": {
             "colorbar": {
              "outlinewidth": 0,
              "ticks": ""
             }
            },
            "type": "scatterternary"
           }
          ],
          "surface": [
           {
            "colorbar": {
             "outlinewidth": 0,
             "ticks": ""
            },
            "colorscale": [
             [
              0,
              "#0d0887"
             ],
             [
              0.1111111111111111,
              "#46039f"
             ],
             [
              0.2222222222222222,
              "#7201a8"
             ],
             [
              0.3333333333333333,
              "#9c179e"
             ],
             [
              0.4444444444444444,
              "#bd3786"
             ],
             [
              0.5555555555555556,
              "#d8576b"
             ],
             [
              0.6666666666666666,
              "#ed7953"
             ],
             [
              0.7777777777777778,
              "#fb9f3a"
             ],
             [
              0.8888888888888888,
              "#fdca26"
             ],
             [
              1,
              "#f0f921"
             ]
            ],
            "type": "surface"
           }
          ],
          "table": [
           {
            "cells": {
             "fill": {
              "color": "#EBF0F8"
             },
             "line": {
              "color": "white"
             }
            },
            "header": {
             "fill": {
              "color": "#C8D4E3"
             },
             "line": {
              "color": "white"
             }
            },
            "type": "table"
           }
          ]
         },
         "layout": {
          "annotationdefaults": {
           "arrowcolor": "#2a3f5f",
           "arrowhead": 0,
           "arrowwidth": 1
          },
          "autotypenumbers": "strict",
          "coloraxis": {
           "colorbar": {
            "outlinewidth": 0,
            "ticks": ""
           }
          },
          "colorscale": {
           "diverging": [
            [
             0,
             "#8e0152"
            ],
            [
             0.1,
             "#c51b7d"
            ],
            [
             0.2,
             "#de77ae"
            ],
            [
             0.3,
             "#f1b6da"
            ],
            [
             0.4,
             "#fde0ef"
            ],
            [
             0.5,
             "#f7f7f7"
            ],
            [
             0.6,
             "#e6f5d0"
            ],
            [
             0.7,
             "#b8e186"
            ],
            [
             0.8,
             "#7fbc41"
            ],
            [
             0.9,
             "#4d9221"
            ],
            [
             1,
             "#276419"
            ]
           ],
           "sequential": [
            [
             0,
             "#0d0887"
            ],
            [
             0.1111111111111111,
             "#46039f"
            ],
            [
             0.2222222222222222,
             "#7201a8"
            ],
            [
             0.3333333333333333,
             "#9c179e"
            ],
            [
             0.4444444444444444,
             "#bd3786"
            ],
            [
             0.5555555555555556,
             "#d8576b"
            ],
            [
             0.6666666666666666,
             "#ed7953"
            ],
            [
             0.7777777777777778,
             "#fb9f3a"
            ],
            [
             0.8888888888888888,
             "#fdca26"
            ],
            [
             1,
             "#f0f921"
            ]
           ],
           "sequentialminus": [
            [
             0,
             "#0d0887"
            ],
            [
             0.1111111111111111,
             "#46039f"
            ],
            [
             0.2222222222222222,
             "#7201a8"
            ],
            [
             0.3333333333333333,
             "#9c179e"
            ],
            [
             0.4444444444444444,
             "#bd3786"
            ],
            [
             0.5555555555555556,
             "#d8576b"
            ],
            [
             0.6666666666666666,
             "#ed7953"
            ],
            [
             0.7777777777777778,
             "#fb9f3a"
            ],
            [
             0.8888888888888888,
             "#fdca26"
            ],
            [
             1,
             "#f0f921"
            ]
           ]
          },
          "colorway": [
           "#636efa",
           "#EF553B",
           "#00cc96",
           "#ab63fa",
           "#FFA15A",
           "#19d3f3",
           "#FF6692",
           "#B6E880",
           "#FF97FF",
           "#FECB52"
          ],
          "font": {
           "color": "#2a3f5f"
          },
          "geo": {
           "bgcolor": "white",
           "lakecolor": "white",
           "landcolor": "#E5ECF6",
           "showlakes": true,
           "showland": true,
           "subunitcolor": "white"
          },
          "hoverlabel": {
           "align": "left"
          },
          "hovermode": "closest",
          "mapbox": {
           "style": "light"
          },
          "paper_bgcolor": "white",
          "plot_bgcolor": "#E5ECF6",
          "polar": {
           "angularaxis": {
            "gridcolor": "white",
            "linecolor": "white",
            "ticks": ""
           },
           "bgcolor": "#E5ECF6",
           "radialaxis": {
            "gridcolor": "white",
            "linecolor": "white",
            "ticks": ""
           }
          },
          "scene": {
           "xaxis": {
            "backgroundcolor": "#E5ECF6",
            "gridcolor": "white",
            "gridwidth": 2,
            "linecolor": "white",
            "showbackground": true,
            "ticks": "",
            "zerolinecolor": "white"
           },
           "yaxis": {
            "backgroundcolor": "#E5ECF6",
            "gridcolor": "white",
            "gridwidth": 2,
            "linecolor": "white",
            "showbackground": true,
            "ticks": "",
            "zerolinecolor": "white"
           },
           "zaxis": {
            "backgroundcolor": "#E5ECF6",
            "gridcolor": "white",
            "gridwidth": 2,
            "linecolor": "white",
            "showbackground": true,
            "ticks": "",
            "zerolinecolor": "white"
           }
          },
          "shapedefaults": {
           "line": {
            "color": "#2a3f5f"
           }
          },
          "ternary": {
           "aaxis": {
            "gridcolor": "white",
            "linecolor": "white",
            "ticks": ""
           },
           "baxis": {
            "gridcolor": "white",
            "linecolor": "white",
            "ticks": ""
           },
           "bgcolor": "#E5ECF6",
           "caxis": {
            "gridcolor": "white",
            "linecolor": "white",
            "ticks": ""
           }
          },
          "title": {
           "x": 0.05
          },
          "xaxis": {
           "automargin": true,
           "gridcolor": "white",
           "linecolor": "white",
           "ticks": "",
           "title": {
            "standoff": 15
           },
           "zerolinecolor": "white",
           "zerolinewidth": 2
          },
          "yaxis": {
           "automargin": true,
           "gridcolor": "white",
           "linecolor": "white",
           "ticks": "",
           "title": {
            "standoff": 15
           },
           "zerolinecolor": "white",
           "zerolinewidth": 2
          }
         }
        },
        "width": 1780,
        "xaxis": {
         "anchor": "y",
         "domain": [
          0,
          1
         ]
        },
        "xaxis2": {
         "anchor": "y2",
         "domain": [
          0,
          1
         ]
        },
        "yaxis": {
         "anchor": "x",
         "domain": [
          0.625,
          1
         ]
        },
        "yaxis2": {
         "anchor": "x2",
         "domain": [
          0,
          0.375
         ]
        }
       }
      }
     },
     "metadata": {},
     "output_type": "display_data"
    }
   ],
   "source": [
    "burn_reburn = areabygroup_causes.iloc[:-1, :]\n",
    "burn_reburn = burn_reburn.tail(2)\n",
    "num_burn_reburn = numfiresbygroup_causes.iloc[:-1, :]\n",
    "num_burn_reburn = num_burn_reburn.tail(2)\n",
    "\n",
    "burns = make_subplots(rows=2, cols=1, x_title='Cause', y_title='Area Burned (hectares)', subplot_titles=['Area Burned from Wildfires for Prescribed Burns and Reburns', 'Number of Fires caused by Prescribed Burns and Reburns'])\n",
    "for i in range(1990,2022):\n",
    "    burns.add_bar(x=burn_reburn['Cause'], y=burn_reburn[i], name=i, marker=dict(color=color_map[i]), row=1, col=1)\n",
    "    burns.add_bar(x=num_burn_reburn['Cause'], y=num_burn_reburn[i], name=i, marker=dict(color=color_map[i]), row=2, col=1)\n",
    "burns.update_layout(height=800, width=1780).show()"
   ]
  },
  {
   "cell_type": "code",
   "execution_count": 27,
   "metadata": {},
   "outputs": [
    {
     "data": {
      "application/vnd.plotly.v1+json": {
       "config": {
        "plotlyServerURL": "https://plot.ly"
       },
       "data": [
        {
         "marker": {
          "color": [
           "blue",
           "red",
           "green",
           "orange",
           "purple",
           "purple",
           "blue",
           "red",
           "green",
           "purple",
           "purple",
           "blue",
           "red",
           "green",
           "purple",
           "purple",
           "blue",
           "red",
           "purple",
           "purple",
           "blue",
           "red",
           "green",
           "purple",
           "purple",
           "blue",
           "red",
           "green",
           "purple",
           "purple",
           "blue",
           "red",
           "green",
           "purple",
           "purple",
           "blue",
           "red",
           "green",
           "purple",
           "purple",
           "purple",
           "blue",
           "red",
           "purple",
           "purple",
           "blue",
           "red",
           "green",
           "purple",
           "purple",
           "blue",
           "red",
           "green",
           "purple",
           "purple",
           "blue",
           "red",
           "purple",
           "purple"
          ]
         },
         "type": "bar",
         "x": [
          [
           "Human activity",
           "Lightning",
           "Prescribed burn",
           "Reburn",
           "Unspecified",
           "Unspecified",
           "Human activity",
           "Lightning",
           "Prescribed burn",
           "Unspecified",
           "Unspecified",
           "Human activity",
           "Lightning",
           "Prescribed burn",
           "Unspecified",
           "Unspecified",
           "Human activity",
           "Lightning",
           "Unspecified",
           "Unspecified",
           "Human activity",
           "Lightning",
           "Prescribed burn",
           "Unspecified",
           "Unspecified",
           "Human activity",
           "Lightning",
           "Prescribed burn",
           "Unspecified",
           "Unspecified",
           "Human activity",
           "Lightning",
           "Prescribed burn",
           "Unspecified",
           "Unspecified",
           "Human activity",
           "Lightning",
           "Prescribed burn",
           "Unspecified",
           "Unspecified",
           "Unspecified",
           "Human activity",
           "Lightning",
           "Unspecified",
           "Unspecified",
           "Human activity",
           "Lightning",
           "Prescribed burn",
           "Unspecified",
           "Unspecified",
           "Human activity",
           "Lightning",
           "Prescribed burn",
           "Unspecified",
           "Unspecified",
           "Human activity",
           "Lightning",
           "Unspecified",
           "Unspecified"
          ],
          [
           "Alberta",
           "Alberta",
           "Alberta",
           "Alberta",
           "Alberta",
           "Alberta",
           "British Columbia",
           "British Columbia",
           "British Columbia",
           "British Columbia",
           "British Columbia",
           "Manitoba",
           "Manitoba",
           "Manitoba",
           "Manitoba",
           "Manitoba",
           "New Brunswick",
           "New Brunswick",
           "New Brunswick",
           "New Brunswick",
           "Newfoundland and Labrador",
           "Newfoundland and Labrador",
           "Newfoundland and Labrador",
           "Newfoundland and Labrador",
           "Newfoundland and Labrador",
           "Northwest Territories",
           "Northwest Territories",
           "Northwest Territories",
           "Northwest Territories",
           "Northwest Territories",
           "Nova Scotia",
           "Nova Scotia",
           "Nova Scotia",
           "Nova Scotia",
           "Nova Scotia",
           "Ontario",
           "Ontario",
           "Ontario",
           "Ontario",
           "Ontario",
           "Parks Canada",
           "Prince Edward Island",
           "Prince Edward Island",
           "Prince Edward Island",
           "Prince Edward Island",
           "Quebec",
           "Quebec",
           "Quebec",
           "Quebec",
           "Quebec",
           "Saskatchewan",
           "Saskatchewan",
           "Saskatchewan",
           "Saskatchewan",
           "Saskatchewan",
           "Yukon",
           "Yukon",
           "Yukon",
           "Yukon"
          ]
         ],
         "y": [
          826789,
          5137901,
          16309,
          228,
          2047467,
          54088,
          787918,
          4316409,
          2891,
          6465,
          869255,
          971437,
          5857735,
          10391,
          1234895,
          1266777,
          20160,
          2310,
          1820,
          427,
          67843,
          550868,
          264,
          36722,
          324,
          173598,
          18405471,
          52455,
          15286,
          156630,
          19219,
          137,
          81,
          2350,
          197,
          477998,
          4170140,
          10137,
          41438,
          793326,
          42538,
          783,
          0,
          272,
          0,
          617001,
          7534064,
          1911,
          1,
          49748,
          1251736,
          13497439,
          46477,
          1485,
          956084,
          131372,
          5237944,
          925,
          118126
         ]
        }
       ],
       "layout": {
        "template": {
         "data": {
          "bar": [
           {
            "error_x": {
             "color": "#2a3f5f"
            },
            "error_y": {
             "color": "#2a3f5f"
            },
            "marker": {
             "line": {
              "color": "#E5ECF6",
              "width": 0.5
             },
             "pattern": {
              "fillmode": "overlay",
              "size": 10,
              "solidity": 0.2
             }
            },
            "type": "bar"
           }
          ],
          "barpolar": [
           {
            "marker": {
             "line": {
              "color": "#E5ECF6",
              "width": 0.5
             },
             "pattern": {
              "fillmode": "overlay",
              "size": 10,
              "solidity": 0.2
             }
            },
            "type": "barpolar"
           }
          ],
          "carpet": [
           {
            "aaxis": {
             "endlinecolor": "#2a3f5f",
             "gridcolor": "white",
             "linecolor": "white",
             "minorgridcolor": "white",
             "startlinecolor": "#2a3f5f"
            },
            "baxis": {
             "endlinecolor": "#2a3f5f",
             "gridcolor": "white",
             "linecolor": "white",
             "minorgridcolor": "white",
             "startlinecolor": "#2a3f5f"
            },
            "type": "carpet"
           }
          ],
          "choropleth": [
           {
            "colorbar": {
             "outlinewidth": 0,
             "ticks": ""
            },
            "type": "choropleth"
           }
          ],
          "contour": [
           {
            "colorbar": {
             "outlinewidth": 0,
             "ticks": ""
            },
            "colorscale": [
             [
              0,
              "#0d0887"
             ],
             [
              0.1111111111111111,
              "#46039f"
             ],
             [
              0.2222222222222222,
              "#7201a8"
             ],
             [
              0.3333333333333333,
              "#9c179e"
             ],
             [
              0.4444444444444444,
              "#bd3786"
             ],
             [
              0.5555555555555556,
              "#d8576b"
             ],
             [
              0.6666666666666666,
              "#ed7953"
             ],
             [
              0.7777777777777778,
              "#fb9f3a"
             ],
             [
              0.8888888888888888,
              "#fdca26"
             ],
             [
              1,
              "#f0f921"
             ]
            ],
            "type": "contour"
           }
          ],
          "contourcarpet": [
           {
            "colorbar": {
             "outlinewidth": 0,
             "ticks": ""
            },
            "type": "contourcarpet"
           }
          ],
          "heatmap": [
           {
            "colorbar": {
             "outlinewidth": 0,
             "ticks": ""
            },
            "colorscale": [
             [
              0,
              "#0d0887"
             ],
             [
              0.1111111111111111,
              "#46039f"
             ],
             [
              0.2222222222222222,
              "#7201a8"
             ],
             [
              0.3333333333333333,
              "#9c179e"
             ],
             [
              0.4444444444444444,
              "#bd3786"
             ],
             [
              0.5555555555555556,
              "#d8576b"
             ],
             [
              0.6666666666666666,
              "#ed7953"
             ],
             [
              0.7777777777777778,
              "#fb9f3a"
             ],
             [
              0.8888888888888888,
              "#fdca26"
             ],
             [
              1,
              "#f0f921"
             ]
            ],
            "type": "heatmap"
           }
          ],
          "heatmapgl": [
           {
            "colorbar": {
             "outlinewidth": 0,
             "ticks": ""
            },
            "colorscale": [
             [
              0,
              "#0d0887"
             ],
             [
              0.1111111111111111,
              "#46039f"
             ],
             [
              0.2222222222222222,
              "#7201a8"
             ],
             [
              0.3333333333333333,
              "#9c179e"
             ],
             [
              0.4444444444444444,
              "#bd3786"
             ],
             [
              0.5555555555555556,
              "#d8576b"
             ],
             [
              0.6666666666666666,
              "#ed7953"
             ],
             [
              0.7777777777777778,
              "#fb9f3a"
             ],
             [
              0.8888888888888888,
              "#fdca26"
             ],
             [
              1,
              "#f0f921"
             ]
            ],
            "type": "heatmapgl"
           }
          ],
          "histogram": [
           {
            "marker": {
             "pattern": {
              "fillmode": "overlay",
              "size": 10,
              "solidity": 0.2
             }
            },
            "type": "histogram"
           }
          ],
          "histogram2d": [
           {
            "colorbar": {
             "outlinewidth": 0,
             "ticks": ""
            },
            "colorscale": [
             [
              0,
              "#0d0887"
             ],
             [
              0.1111111111111111,
              "#46039f"
             ],
             [
              0.2222222222222222,
              "#7201a8"
             ],
             [
              0.3333333333333333,
              "#9c179e"
             ],
             [
              0.4444444444444444,
              "#bd3786"
             ],
             [
              0.5555555555555556,
              "#d8576b"
             ],
             [
              0.6666666666666666,
              "#ed7953"
             ],
             [
              0.7777777777777778,
              "#fb9f3a"
             ],
             [
              0.8888888888888888,
              "#fdca26"
             ],
             [
              1,
              "#f0f921"
             ]
            ],
            "type": "histogram2d"
           }
          ],
          "histogram2dcontour": [
           {
            "colorbar": {
             "outlinewidth": 0,
             "ticks": ""
            },
            "colorscale": [
             [
              0,
              "#0d0887"
             ],
             [
              0.1111111111111111,
              "#46039f"
             ],
             [
              0.2222222222222222,
              "#7201a8"
             ],
             [
              0.3333333333333333,
              "#9c179e"
             ],
             [
              0.4444444444444444,
              "#bd3786"
             ],
             [
              0.5555555555555556,
              "#d8576b"
             ],
             [
              0.6666666666666666,
              "#ed7953"
             ],
             [
              0.7777777777777778,
              "#fb9f3a"
             ],
             [
              0.8888888888888888,
              "#fdca26"
             ],
             [
              1,
              "#f0f921"
             ]
            ],
            "type": "histogram2dcontour"
           }
          ],
          "mesh3d": [
           {
            "colorbar": {
             "outlinewidth": 0,
             "ticks": ""
            },
            "type": "mesh3d"
           }
          ],
          "parcoords": [
           {
            "line": {
             "colorbar": {
              "outlinewidth": 0,
              "ticks": ""
             }
            },
            "type": "parcoords"
           }
          ],
          "pie": [
           {
            "automargin": true,
            "type": "pie"
           }
          ],
          "scatter": [
           {
            "fillpattern": {
             "fillmode": "overlay",
             "size": 10,
             "solidity": 0.2
            },
            "type": "scatter"
           }
          ],
          "scatter3d": [
           {
            "line": {
             "colorbar": {
              "outlinewidth": 0,
              "ticks": ""
             }
            },
            "marker": {
             "colorbar": {
              "outlinewidth": 0,
              "ticks": ""
             }
            },
            "type": "scatter3d"
           }
          ],
          "scattercarpet": [
           {
            "marker": {
             "colorbar": {
              "outlinewidth": 0,
              "ticks": ""
             }
            },
            "type": "scattercarpet"
           }
          ],
          "scattergeo": [
           {
            "marker": {
             "colorbar": {
              "outlinewidth": 0,
              "ticks": ""
             }
            },
            "type": "scattergeo"
           }
          ],
          "scattergl": [
           {
            "marker": {
             "colorbar": {
              "outlinewidth": 0,
              "ticks": ""
             }
            },
            "type": "scattergl"
           }
          ],
          "scattermapbox": [
           {
            "marker": {
             "colorbar": {
              "outlinewidth": 0,
              "ticks": ""
             }
            },
            "type": "scattermapbox"
           }
          ],
          "scatterpolar": [
           {
            "marker": {
             "colorbar": {
              "outlinewidth": 0,
              "ticks": ""
             }
            },
            "type": "scatterpolar"
           }
          ],
          "scatterpolargl": [
           {
            "marker": {
             "colorbar": {
              "outlinewidth": 0,
              "ticks": ""
             }
            },
            "type": "scatterpolargl"
           }
          ],
          "scatterternary": [
           {
            "marker": {
             "colorbar": {
              "outlinewidth": 0,
              "ticks": ""
             }
            },
            "type": "scatterternary"
           }
          ],
          "surface": [
           {
            "colorbar": {
             "outlinewidth": 0,
             "ticks": ""
            },
            "colorscale": [
             [
              0,
              "#0d0887"
             ],
             [
              0.1111111111111111,
              "#46039f"
             ],
             [
              0.2222222222222222,
              "#7201a8"
             ],
             [
              0.3333333333333333,
              "#9c179e"
             ],
             [
              0.4444444444444444,
              "#bd3786"
             ],
             [
              0.5555555555555556,
              "#d8576b"
             ],
             [
              0.6666666666666666,
              "#ed7953"
             ],
             [
              0.7777777777777778,
              "#fb9f3a"
             ],
             [
              0.8888888888888888,
              "#fdca26"
             ],
             [
              1,
              "#f0f921"
             ]
            ],
            "type": "surface"
           }
          ],
          "table": [
           {
            "cells": {
             "fill": {
              "color": "#EBF0F8"
             },
             "line": {
              "color": "white"
             }
            },
            "header": {
             "fill": {
              "color": "#C8D4E3"
             },
             "line": {
              "color": "white"
             }
            },
            "type": "table"
           }
          ]
         },
         "layout": {
          "annotationdefaults": {
           "arrowcolor": "#2a3f5f",
           "arrowhead": 0,
           "arrowwidth": 1
          },
          "autotypenumbers": "strict",
          "coloraxis": {
           "colorbar": {
            "outlinewidth": 0,
            "ticks": ""
           }
          },
          "colorscale": {
           "diverging": [
            [
             0,
             "#8e0152"
            ],
            [
             0.1,
             "#c51b7d"
            ],
            [
             0.2,
             "#de77ae"
            ],
            [
             0.3,
             "#f1b6da"
            ],
            [
             0.4,
             "#fde0ef"
            ],
            [
             0.5,
             "#f7f7f7"
            ],
            [
             0.6,
             "#e6f5d0"
            ],
            [
             0.7,
             "#b8e186"
            ],
            [
             0.8,
             "#7fbc41"
            ],
            [
             0.9,
             "#4d9221"
            ],
            [
             1,
             "#276419"
            ]
           ],
           "sequential": [
            [
             0,
             "#0d0887"
            ],
            [
             0.1111111111111111,
             "#46039f"
            ],
            [
             0.2222222222222222,
             "#7201a8"
            ],
            [
             0.3333333333333333,
             "#9c179e"
            ],
            [
             0.4444444444444444,
             "#bd3786"
            ],
            [
             0.5555555555555556,
             "#d8576b"
            ],
            [
             0.6666666666666666,
             "#ed7953"
            ],
            [
             0.7777777777777778,
             "#fb9f3a"
            ],
            [
             0.8888888888888888,
             "#fdca26"
            ],
            [
             1,
             "#f0f921"
            ]
           ],
           "sequentialminus": [
            [
             0,
             "#0d0887"
            ],
            [
             0.1111111111111111,
             "#46039f"
            ],
            [
             0.2222222222222222,
             "#7201a8"
            ],
            [
             0.3333333333333333,
             "#9c179e"
            ],
            [
             0.4444444444444444,
             "#bd3786"
            ],
            [
             0.5555555555555556,
             "#d8576b"
            ],
            [
             0.6666666666666666,
             "#ed7953"
            ],
            [
             0.7777777777777778,
             "#fb9f3a"
            ],
            [
             0.8888888888888888,
             "#fdca26"
            ],
            [
             1,
             "#f0f921"
            ]
           ]
          },
          "colorway": [
           "#636efa",
           "#EF553B",
           "#00cc96",
           "#ab63fa",
           "#FFA15A",
           "#19d3f3",
           "#FF6692",
           "#B6E880",
           "#FF97FF",
           "#FECB52"
          ],
          "font": {
           "color": "#2a3f5f"
          },
          "geo": {
           "bgcolor": "white",
           "lakecolor": "white",
           "landcolor": "#E5ECF6",
           "showlakes": true,
           "showland": true,
           "subunitcolor": "white"
          },
          "hoverlabel": {
           "align": "left"
          },
          "hovermode": "closest",
          "mapbox": {
           "style": "light"
          },
          "paper_bgcolor": "white",
          "plot_bgcolor": "#E5ECF6",
          "polar": {
           "angularaxis": {
            "gridcolor": "white",
            "linecolor": "white",
            "ticks": ""
           },
           "bgcolor": "#E5ECF6",
           "radialaxis": {
            "gridcolor": "white",
            "linecolor": "white",
            "ticks": ""
           }
          },
          "scene": {
           "xaxis": {
            "backgroundcolor": "#E5ECF6",
            "gridcolor": "white",
            "gridwidth": 2,
            "linecolor": "white",
            "showbackground": true,
            "ticks": "",
            "zerolinecolor": "white"
           },
           "yaxis": {
            "backgroundcolor": "#E5ECF6",
            "gridcolor": "white",
            "gridwidth": 2,
            "linecolor": "white",
            "showbackground": true,
            "ticks": "",
            "zerolinecolor": "white"
           },
           "zaxis": {
            "backgroundcolor": "#E5ECF6",
            "gridcolor": "white",
            "gridwidth": 2,
            "linecolor": "white",
            "showbackground": true,
            "ticks": "",
            "zerolinecolor": "white"
           }
          },
          "shapedefaults": {
           "line": {
            "color": "#2a3f5f"
           }
          },
          "ternary": {
           "aaxis": {
            "gridcolor": "white",
            "linecolor": "white",
            "ticks": ""
           },
           "baxis": {
            "gridcolor": "white",
            "linecolor": "white",
            "ticks": ""
           },
           "bgcolor": "#E5ECF6",
           "caxis": {
            "gridcolor": "white",
            "linecolor": "white",
            "ticks": ""
           }
          },
          "title": {
           "x": 0.05
          },
          "xaxis": {
           "automargin": true,
           "gridcolor": "white",
           "linecolor": "white",
           "ticks": "",
           "title": {
            "standoff": 15
           },
           "zerolinecolor": "white",
           "zerolinewidth": 2
          },
          "yaxis": {
           "automargin": true,
           "gridcolor": "white",
           "linecolor": "white",
           "ticks": "",
           "title": {
            "standoff": 15
           },
           "zerolinecolor": "white",
           "zerolinewidth": 2
          }
         }
        },
        "yaxis": {
         "title": {
          "text": "Area Burned (hectares)"
         }
        }
       }
      }
     },
     "metadata": {},
     "output_type": "display_data"
    }
   ],
   "source": [
    "areabygroup['Sum']= areabygroup.iloc[:,4:35].sum(axis=1)\n",
    "summationareabygrp = go.Figure()\n",
    "\n",
    "unique_causes = areabygroup['Cause'].unique()\n",
    "colors = ['blue', 'red', 'green', 'orange', 'purple']  # Specify your desired colors here\n",
    "\n",
    "# Create a dictionary to map each cause to its corresponding color\n",
    "cause_color_map = {cause: color for cause, color in zip(unique_causes, colors)}\n",
    "\n",
    "# Create a list of colors based on the cause of each bar\n",
    "bar_colors = [cause_color_map[cause] for cause in areabygroup['Cause']]\n",
    "summationareabygrp.add_bar(x=[areabygroup['Cause'],areabygroup['Jurisdiction']], y=areabygroup['Sum'],marker=dict(color=bar_colors))\n",
    "summationareabygrp.update_layout(yaxis_title=\"Area Burned (hectares)\")"
   ]
  },
  {
   "cell_type": "code",
   "execution_count": 28,
   "metadata": {},
   "outputs": [
    {
     "data": {
      "application/vnd.plotly.v1+json": {
       "config": {
        "plotlyServerURL": "https://plot.ly"
       },
       "data": [
        {
         "alignmentgroup": "True",
         "hovertemplate": "Cause=Human activity<br>Jurisdiction=%{x}<br>2020=%{y}<extra></extra>",
         "legendgroup": "Human activity",
         "marker": {
          "color": "#636efa",
          "pattern": {
           "shape": ""
          }
         },
         "name": "Human activity",
         "offsetgroup": "Human activity",
         "orientation": "v",
         "showlegend": true,
         "textposition": "auto",
         "type": "bar",
         "x": [
          "Alberta",
          "British Columbia",
          "Manitoba",
          "New Brunswick",
          "Newfoundland and Labrador",
          "Northwest Territories",
          "Nova Scotia",
          "Ontario",
          "Prince Edward Island",
          "Quebec",
          "Saskatchewan",
          "Yukon"
         ],
         "xaxis": "x",
         "y": [
          2949,
          1012,
          34268,
          1224,
          148,
          371,
          678,
          985,
          0,
          52090,
          41398,
          12
         ],
         "yaxis": "y"
        },
        {
         "alignmentgroup": "True",
         "hovertemplate": "Cause=Lightning<br>Jurisdiction=%{x}<br>2020=%{y}<extra></extra>",
         "legendgroup": "Lightning",
         "marker": {
          "color": "#EF553B",
          "pattern": {
           "shape": ""
          }
         },
         "name": "Lightning",
         "offsetgroup": "Lightning",
         "orientation": "v",
         "showlegend": true,
         "textposition": "auto",
         "type": "bar",
         "x": [
          "Alberta",
          "British Columbia",
          "Manitoba",
          "New Brunswick",
          "Newfoundland and Labrador",
          "Northwest Territories",
          "Nova Scotia",
          "Ontario",
          "Prince Edward Island",
          "Quebec",
          "Saskatchewan",
          "Yukon"
         ],
         "xaxis": "x",
         "y": [
          393,
          11336,
          15035,
          51,
          4185,
          20768,
          18,
          14471,
          0,
          7897,
          780,
          3452
         ],
         "yaxis": "y"
        },
        {
         "alignmentgroup": "True",
         "hovertemplate": "Cause=Prescribed burn<br>Jurisdiction=%{x}<br>2020=%{y}<extra></extra>",
         "legendgroup": "Prescribed burn",
         "marker": {
          "color": "#00cc96",
          "pattern": {
           "shape": ""
          }
         },
         "name": "Prescribed burn",
         "offsetgroup": "Prescribed burn",
         "orientation": "v",
         "showlegend": true,
         "textposition": "auto",
         "type": "bar",
         "x": [
          "Alberta",
          "British Columbia",
          "Manitoba",
          "Newfoundland and Labrador",
          "Northwest Territories",
          "Nova Scotia",
          "Ontario",
          "Quebec",
          "Saskatchewan"
         ],
         "xaxis": "x",
         "y": [
          1250,
          123,
          0,
          0,
          0,
          0,
          4,
          15,
          0
         ],
         "yaxis": "y"
        },
        {
         "alignmentgroup": "True",
         "hovertemplate": "Cause=Reburn<br>Jurisdiction=%{x}<br>2020=%{y}<extra></extra>",
         "legendgroup": "Reburn",
         "marker": {
          "color": "#ab63fa",
          "pattern": {
           "shape": ""
          }
         },
         "name": "Reburn",
         "offsetgroup": "Reburn",
         "orientation": "v",
         "showlegend": true,
         "textposition": "auto",
         "type": "bar",
         "x": [
          "Alberta"
         ],
         "xaxis": "x",
         "y": [
          0
         ],
         "yaxis": "y"
        },
        {
         "alignmentgroup": "True",
         "hovertemplate": "Cause=Unspecified<br>Jurisdiction=%{x}<br>2020=%{y}<extra></extra>",
         "legendgroup": "Unspecified",
         "marker": {
          "color": "#FFA15A",
          "pattern": {
           "shape": ""
          }
         },
         "name": "Unspecified",
         "offsetgroup": "Unspecified",
         "orientation": "v",
         "showlegend": true,
         "textposition": "auto",
         "type": "bar",
         "x": [
          "Alberta",
          "British Columbia",
          "Manitoba",
          "New Brunswick",
          "Newfoundland and Labrador",
          "Northwest Territories",
          "Nova Scotia",
          "Ontario",
          "Parks Canada",
          "Prince Edward Island",
          "Quebec",
          "Saskatchewan",
          "Yukon"
         ],
         "xaxis": "x",
         "y": [
          206,
          2201,
          0,
          115,
          1,
          0,
          1,
          24,
          0,
          0,
          0,
          774,
          0
         ],
         "yaxis": "y"
        }
       ],
       "layout": {
        "barmode": "relative",
        "legend": {
         "title": {
          "text": "Cause"
         },
         "tracegroupgap": 0
        },
        "template": {
         "data": {
          "bar": [
           {
            "error_x": {
             "color": "#2a3f5f"
            },
            "error_y": {
             "color": "#2a3f5f"
            },
            "marker": {
             "line": {
              "color": "#E5ECF6",
              "width": 0.5
             },
             "pattern": {
              "fillmode": "overlay",
              "size": 10,
              "solidity": 0.2
             }
            },
            "type": "bar"
           }
          ],
          "barpolar": [
           {
            "marker": {
             "line": {
              "color": "#E5ECF6",
              "width": 0.5
             },
             "pattern": {
              "fillmode": "overlay",
              "size": 10,
              "solidity": 0.2
             }
            },
            "type": "barpolar"
           }
          ],
          "carpet": [
           {
            "aaxis": {
             "endlinecolor": "#2a3f5f",
             "gridcolor": "white",
             "linecolor": "white",
             "minorgridcolor": "white",
             "startlinecolor": "#2a3f5f"
            },
            "baxis": {
             "endlinecolor": "#2a3f5f",
             "gridcolor": "white",
             "linecolor": "white",
             "minorgridcolor": "white",
             "startlinecolor": "#2a3f5f"
            },
            "type": "carpet"
           }
          ],
          "choropleth": [
           {
            "colorbar": {
             "outlinewidth": 0,
             "ticks": ""
            },
            "type": "choropleth"
           }
          ],
          "contour": [
           {
            "colorbar": {
             "outlinewidth": 0,
             "ticks": ""
            },
            "colorscale": [
             [
              0,
              "#0d0887"
             ],
             [
              0.1111111111111111,
              "#46039f"
             ],
             [
              0.2222222222222222,
              "#7201a8"
             ],
             [
              0.3333333333333333,
              "#9c179e"
             ],
             [
              0.4444444444444444,
              "#bd3786"
             ],
             [
              0.5555555555555556,
              "#d8576b"
             ],
             [
              0.6666666666666666,
              "#ed7953"
             ],
             [
              0.7777777777777778,
              "#fb9f3a"
             ],
             [
              0.8888888888888888,
              "#fdca26"
             ],
             [
              1,
              "#f0f921"
             ]
            ],
            "type": "contour"
           }
          ],
          "contourcarpet": [
           {
            "colorbar": {
             "outlinewidth": 0,
             "ticks": ""
            },
            "type": "contourcarpet"
           }
          ],
          "heatmap": [
           {
            "colorbar": {
             "outlinewidth": 0,
             "ticks": ""
            },
            "colorscale": [
             [
              0,
              "#0d0887"
             ],
             [
              0.1111111111111111,
              "#46039f"
             ],
             [
              0.2222222222222222,
              "#7201a8"
             ],
             [
              0.3333333333333333,
              "#9c179e"
             ],
             [
              0.4444444444444444,
              "#bd3786"
             ],
             [
              0.5555555555555556,
              "#d8576b"
             ],
             [
              0.6666666666666666,
              "#ed7953"
             ],
             [
              0.7777777777777778,
              "#fb9f3a"
             ],
             [
              0.8888888888888888,
              "#fdca26"
             ],
             [
              1,
              "#f0f921"
             ]
            ],
            "type": "heatmap"
           }
          ],
          "heatmapgl": [
           {
            "colorbar": {
             "outlinewidth": 0,
             "ticks": ""
            },
            "colorscale": [
             [
              0,
              "#0d0887"
             ],
             [
              0.1111111111111111,
              "#46039f"
             ],
             [
              0.2222222222222222,
              "#7201a8"
             ],
             [
              0.3333333333333333,
              "#9c179e"
             ],
             [
              0.4444444444444444,
              "#bd3786"
             ],
             [
              0.5555555555555556,
              "#d8576b"
             ],
             [
              0.6666666666666666,
              "#ed7953"
             ],
             [
              0.7777777777777778,
              "#fb9f3a"
             ],
             [
              0.8888888888888888,
              "#fdca26"
             ],
             [
              1,
              "#f0f921"
             ]
            ],
            "type": "heatmapgl"
           }
          ],
          "histogram": [
           {
            "marker": {
             "pattern": {
              "fillmode": "overlay",
              "size": 10,
              "solidity": 0.2
             }
            },
            "type": "histogram"
           }
          ],
          "histogram2d": [
           {
            "colorbar": {
             "outlinewidth": 0,
             "ticks": ""
            },
            "colorscale": [
             [
              0,
              "#0d0887"
             ],
             [
              0.1111111111111111,
              "#46039f"
             ],
             [
              0.2222222222222222,
              "#7201a8"
             ],
             [
              0.3333333333333333,
              "#9c179e"
             ],
             [
              0.4444444444444444,
              "#bd3786"
             ],
             [
              0.5555555555555556,
              "#d8576b"
             ],
             [
              0.6666666666666666,
              "#ed7953"
             ],
             [
              0.7777777777777778,
              "#fb9f3a"
             ],
             [
              0.8888888888888888,
              "#fdca26"
             ],
             [
              1,
              "#f0f921"
             ]
            ],
            "type": "histogram2d"
           }
          ],
          "histogram2dcontour": [
           {
            "colorbar": {
             "outlinewidth": 0,
             "ticks": ""
            },
            "colorscale": [
             [
              0,
              "#0d0887"
             ],
             [
              0.1111111111111111,
              "#46039f"
             ],
             [
              0.2222222222222222,
              "#7201a8"
             ],
             [
              0.3333333333333333,
              "#9c179e"
             ],
             [
              0.4444444444444444,
              "#bd3786"
             ],
             [
              0.5555555555555556,
              "#d8576b"
             ],
             [
              0.6666666666666666,
              "#ed7953"
             ],
             [
              0.7777777777777778,
              "#fb9f3a"
             ],
             [
              0.8888888888888888,
              "#fdca26"
             ],
             [
              1,
              "#f0f921"
             ]
            ],
            "type": "histogram2dcontour"
           }
          ],
          "mesh3d": [
           {
            "colorbar": {
             "outlinewidth": 0,
             "ticks": ""
            },
            "type": "mesh3d"
           }
          ],
          "parcoords": [
           {
            "line": {
             "colorbar": {
              "outlinewidth": 0,
              "ticks": ""
             }
            },
            "type": "parcoords"
           }
          ],
          "pie": [
           {
            "automargin": true,
            "type": "pie"
           }
          ],
          "scatter": [
           {
            "fillpattern": {
             "fillmode": "overlay",
             "size": 10,
             "solidity": 0.2
            },
            "type": "scatter"
           }
          ],
          "scatter3d": [
           {
            "line": {
             "colorbar": {
              "outlinewidth": 0,
              "ticks": ""
             }
            },
            "marker": {
             "colorbar": {
              "outlinewidth": 0,
              "ticks": ""
             }
            },
            "type": "scatter3d"
           }
          ],
          "scattercarpet": [
           {
            "marker": {
             "colorbar": {
              "outlinewidth": 0,
              "ticks": ""
             }
            },
            "type": "scattercarpet"
           }
          ],
          "scattergeo": [
           {
            "marker": {
             "colorbar": {
              "outlinewidth": 0,
              "ticks": ""
             }
            },
            "type": "scattergeo"
           }
          ],
          "scattergl": [
           {
            "marker": {
             "colorbar": {
              "outlinewidth": 0,
              "ticks": ""
             }
            },
            "type": "scattergl"
           }
          ],
          "scattermapbox": [
           {
            "marker": {
             "colorbar": {
              "outlinewidth": 0,
              "ticks": ""
             }
            },
            "type": "scattermapbox"
           }
          ],
          "scatterpolar": [
           {
            "marker": {
             "colorbar": {
              "outlinewidth": 0,
              "ticks": ""
             }
            },
            "type": "scatterpolar"
           }
          ],
          "scatterpolargl": [
           {
            "marker": {
             "colorbar": {
              "outlinewidth": 0,
              "ticks": ""
             }
            },
            "type": "scatterpolargl"
           }
          ],
          "scatterternary": [
           {
            "marker": {
             "colorbar": {
              "outlinewidth": 0,
              "ticks": ""
             }
            },
            "type": "scatterternary"
           }
          ],
          "surface": [
           {
            "colorbar": {
             "outlinewidth": 0,
             "ticks": ""
            },
            "colorscale": [
             [
              0,
              "#0d0887"
             ],
             [
              0.1111111111111111,
              "#46039f"
             ],
             [
              0.2222222222222222,
              "#7201a8"
             ],
             [
              0.3333333333333333,
              "#9c179e"
             ],
             [
              0.4444444444444444,
              "#bd3786"
             ],
             [
              0.5555555555555556,
              "#d8576b"
             ],
             [
              0.6666666666666666,
              "#ed7953"
             ],
             [
              0.7777777777777778,
              "#fb9f3a"
             ],
             [
              0.8888888888888888,
              "#fdca26"
             ],
             [
              1,
              "#f0f921"
             ]
            ],
            "type": "surface"
           }
          ],
          "table": [
           {
            "cells": {
             "fill": {
              "color": "#EBF0F8"
             },
             "line": {
              "color": "white"
             }
            },
            "header": {
             "fill": {
              "color": "#C8D4E3"
             },
             "line": {
              "color": "white"
             }
            },
            "type": "table"
           }
          ]
         },
         "layout": {
          "annotationdefaults": {
           "arrowcolor": "#2a3f5f",
           "arrowhead": 0,
           "arrowwidth": 1
          },
          "autotypenumbers": "strict",
          "coloraxis": {
           "colorbar": {
            "outlinewidth": 0,
            "ticks": ""
           }
          },
          "colorscale": {
           "diverging": [
            [
             0,
             "#8e0152"
            ],
            [
             0.1,
             "#c51b7d"
            ],
            [
             0.2,
             "#de77ae"
            ],
            [
             0.3,
             "#f1b6da"
            ],
            [
             0.4,
             "#fde0ef"
            ],
            [
             0.5,
             "#f7f7f7"
            ],
            [
             0.6,
             "#e6f5d0"
            ],
            [
             0.7,
             "#b8e186"
            ],
            [
             0.8,
             "#7fbc41"
            ],
            [
             0.9,
             "#4d9221"
            ],
            [
             1,
             "#276419"
            ]
           ],
           "sequential": [
            [
             0,
             "#0d0887"
            ],
            [
             0.1111111111111111,
             "#46039f"
            ],
            [
             0.2222222222222222,
             "#7201a8"
            ],
            [
             0.3333333333333333,
             "#9c179e"
            ],
            [
             0.4444444444444444,
             "#bd3786"
            ],
            [
             0.5555555555555556,
             "#d8576b"
            ],
            [
             0.6666666666666666,
             "#ed7953"
            ],
            [
             0.7777777777777778,
             "#fb9f3a"
            ],
            [
             0.8888888888888888,
             "#fdca26"
            ],
            [
             1,
             "#f0f921"
            ]
           ],
           "sequentialminus": [
            [
             0,
             "#0d0887"
            ],
            [
             0.1111111111111111,
             "#46039f"
            ],
            [
             0.2222222222222222,
             "#7201a8"
            ],
            [
             0.3333333333333333,
             "#9c179e"
            ],
            [
             0.4444444444444444,
             "#bd3786"
            ],
            [
             0.5555555555555556,
             "#d8576b"
            ],
            [
             0.6666666666666666,
             "#ed7953"
            ],
            [
             0.7777777777777778,
             "#fb9f3a"
            ],
            [
             0.8888888888888888,
             "#fdca26"
            ],
            [
             1,
             "#f0f921"
            ]
           ]
          },
          "colorway": [
           "#636efa",
           "#EF553B",
           "#00cc96",
           "#ab63fa",
           "#FFA15A",
           "#19d3f3",
           "#FF6692",
           "#B6E880",
           "#FF97FF",
           "#FECB52"
          ],
          "font": {
           "color": "#2a3f5f"
          },
          "geo": {
           "bgcolor": "white",
           "lakecolor": "white",
           "landcolor": "#E5ECF6",
           "showlakes": true,
           "showland": true,
           "subunitcolor": "white"
          },
          "hoverlabel": {
           "align": "left"
          },
          "hovermode": "closest",
          "mapbox": {
           "style": "light"
          },
          "paper_bgcolor": "white",
          "plot_bgcolor": "#E5ECF6",
          "polar": {
           "angularaxis": {
            "gridcolor": "white",
            "linecolor": "white",
            "ticks": ""
           },
           "bgcolor": "#E5ECF6",
           "radialaxis": {
            "gridcolor": "white",
            "linecolor": "white",
            "ticks": ""
           }
          },
          "scene": {
           "xaxis": {
            "backgroundcolor": "#E5ECF6",
            "gridcolor": "white",
            "gridwidth": 2,
            "linecolor": "white",
            "showbackground": true,
            "ticks": "",
            "zerolinecolor": "white"
           },
           "yaxis": {
            "backgroundcolor": "#E5ECF6",
            "gridcolor": "white",
            "gridwidth": 2,
            "linecolor": "white",
            "showbackground": true,
            "ticks": "",
            "zerolinecolor": "white"
           },
           "zaxis": {
            "backgroundcolor": "#E5ECF6",
            "gridcolor": "white",
            "gridwidth": 2,
            "linecolor": "white",
            "showbackground": true,
            "ticks": "",
            "zerolinecolor": "white"
           }
          },
          "shapedefaults": {
           "line": {
            "color": "#2a3f5f"
           }
          },
          "ternary": {
           "aaxis": {
            "gridcolor": "white",
            "linecolor": "white",
            "ticks": ""
           },
           "baxis": {
            "gridcolor": "white",
            "linecolor": "white",
            "ticks": ""
           },
           "bgcolor": "#E5ECF6",
           "caxis": {
            "gridcolor": "white",
            "linecolor": "white",
            "ticks": ""
           }
          },
          "title": {
           "x": 0.05
          },
          "xaxis": {
           "automargin": true,
           "gridcolor": "white",
           "linecolor": "white",
           "ticks": "",
           "title": {
            "standoff": 15
           },
           "zerolinecolor": "white",
           "zerolinewidth": 2
          },
          "yaxis": {
           "automargin": true,
           "gridcolor": "white",
           "linecolor": "white",
           "ticks": "",
           "title": {
            "standoff": 15
           },
           "zerolinecolor": "white",
           "zerolinewidth": 2
          }
         }
        },
        "title": {
         "text": "Area Burned from Wildfires based on Province"
        },
        "xaxis": {
         "anchor": "y",
         "domain": [
          0,
          1
         ],
         "title": {
          "text": "Jurisdiction"
         }
        },
        "yaxis": {
         "anchor": "x",
         "domain": [
          0,
          1
         ],
         "title": {
          "text": "Area Burned (hectares)"
         }
        }
       }
      }
     },
     "metadata": {},
     "output_type": "display_data"
    }
   ],
   "source": [
    "provincal_fires = areabygroup.groupby(['Jurisdiction', 'Cause']).sum().reset_index()\n",
    "\n",
    "# Change this value to change the year\n",
    "# For example, changing 2020 to 2019 will show Area Burned based on Causes in 2019\n",
    "year_to_check = 2020\n",
    "\n",
    "provincal_fires_fig = px.bar(provincal_fires, x='Jurisdiction', y=year_to_check, color='Cause', title='Area Burned from Wildfires based on Province').update_layout(yaxis_title=\"Area Burned (hectares)\").show()"
   ]
  },
  {
   "cell_type": "code",
   "execution_count": 29,
   "metadata": {},
   "outputs": [
    {
     "data": {
      "text/html": [
       "<div>\n",
       "<style scoped>\n",
       "    .dataframe tbody tr th:only-of-type {\n",
       "        vertical-align: middle;\n",
       "    }\n",
       "\n",
       "    .dataframe tbody tr th {\n",
       "        vertical-align: top;\n",
       "    }\n",
       "\n",
       "    .dataframe thead th {\n",
       "        text-align: right;\n",
       "    }\n",
       "</style>\n",
       "<table border=\"1\" class=\"dataframe\">\n",
       "  <thead>\n",
       "    <tr style=\"text-align: right;\">\n",
       "      <th></th>\n",
       "      <th>Jurisdiction</th>\n",
       "      <th>Month</th>\n",
       "      <th>Data Qualifier</th>\n",
       "      <th>1990</th>\n",
       "      <th>1991</th>\n",
       "      <th>1992</th>\n",
       "      <th>1993</th>\n",
       "      <th>1994</th>\n",
       "      <th>1995</th>\n",
       "      <th>1996</th>\n",
       "      <th>...</th>\n",
       "      <th>2012</th>\n",
       "      <th>2013</th>\n",
       "      <th>2014</th>\n",
       "      <th>2015</th>\n",
       "      <th>2016</th>\n",
       "      <th>2017</th>\n",
       "      <th>2018</th>\n",
       "      <th>2019</th>\n",
       "      <th>2020</th>\n",
       "      <th>2021</th>\n",
       "    </tr>\n",
       "  </thead>\n",
       "  <tbody>\n",
       "    <tr>\n",
       "      <th>0</th>\n",
       "      <td>Alberta</td>\n",
       "      <td>January</td>\n",
       "      <td>a</td>\n",
       "      <td>1.0</td>\n",
       "      <td>9.0</td>\n",
       "      <td>14.0</td>\n",
       "      <td>8.0</td>\n",
       "      <td>4.0</td>\n",
       "      <td>10.0</td>\n",
       "      <td>1.0</td>\n",
       "      <td>...</td>\n",
       "      <td>14.0</td>\n",
       "      <td>1.0</td>\n",
       "      <td>9.0</td>\n",
       "      <td>2.0</td>\n",
       "      <td>7.0</td>\n",
       "      <td>4.0</td>\n",
       "      <td>4.0</td>\n",
       "      <td>17.0</td>\n",
       "      <td>1.0</td>\n",
       "      <td>NaN</td>\n",
       "    </tr>\n",
       "    <tr>\n",
       "      <th>1</th>\n",
       "      <td>Alberta</td>\n",
       "      <td>February</td>\n",
       "      <td>a</td>\n",
       "      <td>5.0</td>\n",
       "      <td>4.0</td>\n",
       "      <td>11.0</td>\n",
       "      <td>12.0</td>\n",
       "      <td>NaN</td>\n",
       "      <td>6.0</td>\n",
       "      <td>NaN</td>\n",
       "      <td>...</td>\n",
       "      <td>3.0</td>\n",
       "      <td>3.0</td>\n",
       "      <td>NaN</td>\n",
       "      <td>4.0</td>\n",
       "      <td>12.0</td>\n",
       "      <td>4.0</td>\n",
       "      <td>NaN</td>\n",
       "      <td>1.0</td>\n",
       "      <td>1.0</td>\n",
       "      <td>NaN</td>\n",
       "    </tr>\n",
       "    <tr>\n",
       "      <th>2</th>\n",
       "      <td>Alberta</td>\n",
       "      <td>March</td>\n",
       "      <td>a</td>\n",
       "      <td>8.0</td>\n",
       "      <td>8.0</td>\n",
       "      <td>61.0</td>\n",
       "      <td>29.0</td>\n",
       "      <td>12.0</td>\n",
       "      <td>29.0</td>\n",
       "      <td>1.0</td>\n",
       "      <td>...</td>\n",
       "      <td>32.0</td>\n",
       "      <td>9.0</td>\n",
       "      <td>11.0</td>\n",
       "      <td>32.0</td>\n",
       "      <td>62.0</td>\n",
       "      <td>14.0</td>\n",
       "      <td>19.0</td>\n",
       "      <td>34.0</td>\n",
       "      <td>4.0</td>\n",
       "      <td>NaN</td>\n",
       "    </tr>\n",
       "    <tr>\n",
       "      <th>3</th>\n",
       "      <td>Alberta</td>\n",
       "      <td>April</td>\n",
       "      <td>a</td>\n",
       "      <td>26.0</td>\n",
       "      <td>111.0</td>\n",
       "      <td>110.0</td>\n",
       "      <td>52.0</td>\n",
       "      <td>64.0</td>\n",
       "      <td>57.0</td>\n",
       "      <td>26.0</td>\n",
       "      <td>...</td>\n",
       "      <td>123.0</td>\n",
       "      <td>37.0</td>\n",
       "      <td>81.0</td>\n",
       "      <td>277.0</td>\n",
       "      <td>287.0</td>\n",
       "      <td>101.0</td>\n",
       "      <td>97.0</td>\n",
       "      <td>188.0</td>\n",
       "      <td>68.0</td>\n",
       "      <td>NaN</td>\n",
       "    </tr>\n",
       "    <tr>\n",
       "      <th>4</th>\n",
       "      <td>Alberta</td>\n",
       "      <td>May</td>\n",
       "      <td>a</td>\n",
       "      <td>114.0</td>\n",
       "      <td>201.0</td>\n",
       "      <td>91.0</td>\n",
       "      <td>242.0</td>\n",
       "      <td>132.0</td>\n",
       "      <td>215.0</td>\n",
       "      <td>56.0</td>\n",
       "      <td>...</td>\n",
       "      <td>456.0</td>\n",
       "      <td>529.0</td>\n",
       "      <td>360.0</td>\n",
       "      <td>505.0</td>\n",
       "      <td>250.0</td>\n",
       "      <td>348.0</td>\n",
       "      <td>454.0</td>\n",
       "      <td>315.0</td>\n",
       "      <td>209.0</td>\n",
       "      <td>NaN</td>\n",
       "    </tr>\n",
       "  </tbody>\n",
       "</table>\n",
       "<p>5 rows × 35 columns</p>\n",
       "</div>"
      ],
      "text/plain": [
       "  Jurisdiction     Month Data Qualifier   1990   1991   1992   1993   1994  \\\n",
       "0      Alberta   January              a    1.0    9.0   14.0    8.0    4.0   \n",
       "1      Alberta  February              a    5.0    4.0   11.0   12.0    NaN   \n",
       "2      Alberta     March              a    8.0    8.0   61.0   29.0   12.0   \n",
       "3      Alberta     April              a   26.0  111.0  110.0   52.0   64.0   \n",
       "4      Alberta       May              a  114.0  201.0   91.0  242.0  132.0   \n",
       "\n",
       "    1995  1996  ...   2012   2013   2014   2015   2016   2017   2018   2019  \\\n",
       "0   10.0   1.0  ...   14.0    1.0    9.0    2.0    7.0    4.0    4.0   17.0   \n",
       "1    6.0   NaN  ...    3.0    3.0    NaN    4.0   12.0    4.0    NaN    1.0   \n",
       "2   29.0   1.0  ...   32.0    9.0   11.0   32.0   62.0   14.0   19.0   34.0   \n",
       "3   57.0  26.0  ...  123.0   37.0   81.0  277.0  287.0  101.0   97.0  188.0   \n",
       "4  215.0  56.0  ...  456.0  529.0  360.0  505.0  250.0  348.0  454.0  315.0   \n",
       "\n",
       "    2020  2021  \n",
       "0    1.0   NaN  \n",
       "1    1.0   NaN  \n",
       "2    4.0   NaN  \n",
       "3   68.0   NaN  \n",
       "4  209.0   NaN  \n",
       "\n",
       "[5 rows x 35 columns]"
      ]
     },
     "metadata": {},
     "output_type": "display_data"
    },
    {
     "data": {
      "text/html": [
       "<div>\n",
       "<style scoped>\n",
       "    .dataframe tbody tr th:only-of-type {\n",
       "        vertical-align: middle;\n",
       "    }\n",
       "\n",
       "    .dataframe tbody tr th {\n",
       "        vertical-align: top;\n",
       "    }\n",
       "\n",
       "    .dataframe thead th {\n",
       "        text-align: right;\n",
       "    }\n",
       "</style>\n",
       "<table border=\"1\" class=\"dataframe\">\n",
       "  <thead>\n",
       "    <tr style=\"text-align: right;\">\n",
       "      <th></th>\n",
       "      <th>Jurisdiction</th>\n",
       "      <th>Month</th>\n",
       "      <th>Data Qualifier</th>\n",
       "      <th>1990</th>\n",
       "      <th>1991</th>\n",
       "      <th>1992</th>\n",
       "      <th>1993</th>\n",
       "      <th>1994</th>\n",
       "      <th>1995</th>\n",
       "      <th>1996</th>\n",
       "      <th>...</th>\n",
       "      <th>2012</th>\n",
       "      <th>2013</th>\n",
       "      <th>2014</th>\n",
       "      <th>2015</th>\n",
       "      <th>2016</th>\n",
       "      <th>2017</th>\n",
       "      <th>2018</th>\n",
       "      <th>2019</th>\n",
       "      <th>2020</th>\n",
       "      <th>2021</th>\n",
       "    </tr>\n",
       "  </thead>\n",
       "  <tbody>\n",
       "    <tr>\n",
       "      <th>0</th>\n",
       "      <td>Alberta</td>\n",
       "      <td>January</td>\n",
       "      <td>a</td>\n",
       "      <td>0.0</td>\n",
       "      <td>86.0</td>\n",
       "      <td>12.0</td>\n",
       "      <td>3.0</td>\n",
       "      <td>15.0</td>\n",
       "      <td>1.0</td>\n",
       "      <td>0.0</td>\n",
       "      <td>...</td>\n",
       "      <td>1.0</td>\n",
       "      <td>0.0</td>\n",
       "      <td>11.0</td>\n",
       "      <td>1.0</td>\n",
       "      <td>0.0</td>\n",
       "      <td>1.0</td>\n",
       "      <td>0.0</td>\n",
       "      <td>2.0</td>\n",
       "      <td>0.0</td>\n",
       "      <td>NaN</td>\n",
       "    </tr>\n",
       "    <tr>\n",
       "      <th>1</th>\n",
       "      <td>Alberta</td>\n",
       "      <td>February</td>\n",
       "      <td>a</td>\n",
       "      <td>3.0</td>\n",
       "      <td>1.0</td>\n",
       "      <td>54.0</td>\n",
       "      <td>39.0</td>\n",
       "      <td>NaN</td>\n",
       "      <td>10.0</td>\n",
       "      <td>NaN</td>\n",
       "      <td>...</td>\n",
       "      <td>0.0</td>\n",
       "      <td>7.0</td>\n",
       "      <td>NaN</td>\n",
       "      <td>0.0</td>\n",
       "      <td>6.0</td>\n",
       "      <td>90.0</td>\n",
       "      <td>NaN</td>\n",
       "      <td>0.0</td>\n",
       "      <td>0.0</td>\n",
       "      <td>NaN</td>\n",
       "    </tr>\n",
       "    <tr>\n",
       "      <th>2</th>\n",
       "      <td>Alberta</td>\n",
       "      <td>March</td>\n",
       "      <td>a</td>\n",
       "      <td>7.0</td>\n",
       "      <td>118.0</td>\n",
       "      <td>248.0</td>\n",
       "      <td>577.0</td>\n",
       "      <td>32.0</td>\n",
       "      <td>289.0</td>\n",
       "      <td>1.0</td>\n",
       "      <td>...</td>\n",
       "      <td>165.0</td>\n",
       "      <td>2.0</td>\n",
       "      <td>1.0</td>\n",
       "      <td>13.0</td>\n",
       "      <td>642.0</td>\n",
       "      <td>15.0</td>\n",
       "      <td>2.0</td>\n",
       "      <td>14.0</td>\n",
       "      <td>0.0</td>\n",
       "      <td>NaN</td>\n",
       "    </tr>\n",
       "    <tr>\n",
       "      <th>3</th>\n",
       "      <td>Alberta</td>\n",
       "      <td>April</td>\n",
       "      <td>a</td>\n",
       "      <td>25.0</td>\n",
       "      <td>1158.0</td>\n",
       "      <td>1254.0</td>\n",
       "      <td>301.0</td>\n",
       "      <td>868.0</td>\n",
       "      <td>579.0</td>\n",
       "      <td>93.0</td>\n",
       "      <td>...</td>\n",
       "      <td>125.0</td>\n",
       "      <td>144.0</td>\n",
       "      <td>435.0</td>\n",
       "      <td>2235.0</td>\n",
       "      <td>2709.0</td>\n",
       "      <td>1380.0</td>\n",
       "      <td>117.0</td>\n",
       "      <td>628.0</td>\n",
       "      <td>77.0</td>\n",
       "      <td>NaN</td>\n",
       "    </tr>\n",
       "    <tr>\n",
       "      <th>4</th>\n",
       "      <td>Alberta</td>\n",
       "      <td>May</td>\n",
       "      <td>a</td>\n",
       "      <td>636.0</td>\n",
       "      <td>3678.0</td>\n",
       "      <td>420.0</td>\n",
       "      <td>6476.0</td>\n",
       "      <td>3460.0</td>\n",
       "      <td>330669.0</td>\n",
       "      <td>522.0</td>\n",
       "      <td>...</td>\n",
       "      <td>122256.0</td>\n",
       "      <td>7215.0</td>\n",
       "      <td>505.0</td>\n",
       "      <td>263450.0</td>\n",
       "      <td>498402.0</td>\n",
       "      <td>27072.0</td>\n",
       "      <td>42831.0</td>\n",
       "      <td>896887.0</td>\n",
       "      <td>515.0</td>\n",
       "      <td>NaN</td>\n",
       "    </tr>\n",
       "  </tbody>\n",
       "</table>\n",
       "<p>5 rows × 35 columns</p>\n",
       "</div>"
      ],
      "text/plain": [
       "  Jurisdiction     Month Data Qualifier   1990    1991    1992    1993  \\\n",
       "0      Alberta   January              a    0.0    86.0    12.0     3.0   \n",
       "1      Alberta  February              a    3.0     1.0    54.0    39.0   \n",
       "2      Alberta     March              a    7.0   118.0   248.0   577.0   \n",
       "3      Alberta     April              a   25.0  1158.0  1254.0   301.0   \n",
       "4      Alberta       May              a  636.0  3678.0   420.0  6476.0   \n",
       "\n",
       "     1994      1995   1996  ...      2012    2013   2014      2015      2016  \\\n",
       "0    15.0       1.0    0.0  ...       1.0     0.0   11.0       1.0       0.0   \n",
       "1     NaN      10.0    NaN  ...       0.0     7.0    NaN       0.0       6.0   \n",
       "2    32.0     289.0    1.0  ...     165.0     2.0    1.0      13.0     642.0   \n",
       "3   868.0     579.0   93.0  ...     125.0   144.0  435.0    2235.0    2709.0   \n",
       "4  3460.0  330669.0  522.0  ...  122256.0  7215.0  505.0  263450.0  498402.0   \n",
       "\n",
       "      2017     2018      2019   2020  2021  \n",
       "0      1.0      0.0       2.0    0.0   NaN  \n",
       "1     90.0      NaN       0.0    0.0   NaN  \n",
       "2     15.0      2.0      14.0    0.0   NaN  \n",
       "3   1380.0    117.0     628.0   77.0   NaN  \n",
       "4  27072.0  42831.0  896887.0  515.0   NaN  \n",
       "\n",
       "[5 rows x 35 columns]"
      ]
     },
     "metadata": {},
     "output_type": "display_data"
    }
   ],
   "source": [
    "display(numfiresbymonth.head()) \n",
    "display(areabymonth.head())"
   ]
  },
  {
   "cell_type": "code",
   "execution_count": 51,
   "metadata": {},
   "outputs": [
    {
     "data": {
      "application/vnd.plotly.v1+json": {
       "config": {
        "plotlyServerURL": "https://plot.ly"
       },
       "data": [
        {
         "name": "1990",
         "type": "bar",
         "x": [
          "January",
          "February",
          "March",
          "April",
          "May",
          "June",
          "July",
          "August",
          "September",
          "October",
          "November",
          "December"
         ],
         "xaxis": "x",
         "y": [
          1,
          5,
          8,
          26,
          114,
          214,
          446,
          381,
          117,
          34,
          16,
          4
         ],
         "yaxis": "y"
        },
        {
         "name": "1991",
         "type": "bar",
         "x": [
          "January",
          "February",
          "March",
          "April",
          "May",
          "June",
          "July",
          "August",
          "September",
          "October",
          "November",
          "December"
         ],
         "xaxis": "x",
         "y": [
          9,
          4,
          8,
          111,
          201,
          114,
          125,
          239,
          54,
          66,
          6,
          7
         ],
         "yaxis": "y"
        },
        {
         "name": "1992",
         "type": "bar",
         "x": [
          "January",
          "February",
          "March",
          "April",
          "May",
          "June",
          "July",
          "August",
          "September",
          "October",
          "November",
          "December"
         ],
         "xaxis": "x",
         "y": [
          14,
          11,
          61,
          110,
          91,
          147,
          226,
          339,
          14,
          29,
          15,
          4
         ],
         "yaxis": "y"
        },
        {
         "name": "1993",
         "type": "bar",
         "x": [
          "January",
          "February",
          "March",
          "April",
          "May",
          "June",
          "July",
          "August",
          "September",
          "October",
          "November",
          "December"
         ],
         "xaxis": "x",
         "y": [
          8,
          12,
          29,
          52,
          242,
          342,
          112,
          35,
          17,
          19,
          7,
          1
         ],
         "yaxis": "y"
        },
        {
         "name": "1994",
         "type": "bar",
         "x": [
          "January",
          "February",
          "March",
          "April",
          "May",
          "June",
          "July",
          "August",
          "September",
          "October",
          "November",
          "December"
         ],
         "xaxis": "x",
         "y": [
          4,
          null,
          12,
          64,
          132,
          231,
          223,
          118,
          83,
          25,
          30,
          9
         ],
         "yaxis": "y"
        },
        {
         "name": "1995",
         "type": "bar",
         "x": [
          "January",
          "February",
          "March",
          "April",
          "May",
          "June",
          "July",
          "August",
          "September",
          "October",
          "November",
          "December"
         ],
         "xaxis": "x",
         "y": [
          10,
          6,
          29,
          57,
          215,
          272,
          97,
          26,
          58,
          33,
          5,
          null
         ],
         "yaxis": "y"
        },
        {
         "name": "1996",
         "type": "bar",
         "x": [
          "January",
          "February",
          "March",
          "April",
          "May",
          "June",
          "July",
          "August",
          "September",
          "October",
          "November",
          "December"
         ],
         "xaxis": "x",
         "y": [
          1,
          null,
          1,
          26,
          56,
          124,
          89,
          76,
          14,
          7,
          2,
          2
         ],
         "yaxis": "y"
        },
        {
         "name": "1997",
         "type": "bar",
         "x": [
          "January",
          "February",
          "March",
          "April",
          "May",
          "June",
          "July",
          "August",
          "September",
          "October",
          "November",
          "December"
         ],
         "xaxis": "x",
         "y": [
          1,
          null,
          4,
          24,
          120,
          34,
          148,
          79,
          17,
          3,
          1,
          32
         ],
         "yaxis": "y"
        },
        {
         "name": "1998",
         "type": "bar",
         "x": [
          "January",
          "February",
          "March",
          "April",
          "May",
          "June",
          "July",
          "August",
          "September",
          "October",
          "November",
          "December"
         ],
         "xaxis": "x",
         "y": [
          null,
          null,
          2,
          152,
          412,
          273,
          196,
          540,
          84,
          60,
          10,
          9
         ],
         "yaxis": "y"
        },
        {
         "name": "1999",
         "type": "bar",
         "x": [
          "January",
          "February",
          "March",
          "April",
          "May",
          "June",
          "July",
          "August",
          "September",
          "October",
          "November",
          "December"
         ],
         "xaxis": "x",
         "y": [
          4,
          null,
          6,
          133,
          121,
          213,
          280,
          427,
          46,
          84,
          29,
          28
         ],
         "yaxis": "y"
        },
        {
         "name": "2000",
         "type": "bar",
         "x": [
          "January",
          "February",
          "March",
          "April",
          "May",
          "June",
          "July",
          "August",
          "September",
          "October",
          "November",
          "December"
         ],
         "xaxis": "x",
         "y": [
          9,
          8,
          30,
          139,
          112,
          261,
          197,
          74,
          12,
          16,
          5,
          1
         ],
         "yaxis": "y"
        },
        {
         "name": "2001",
         "type": "bar",
         "x": [
          "January",
          "February",
          "March",
          "April",
          "May",
          "June",
          "July",
          "August",
          "September",
          "October",
          "November",
          "December"
         ],
         "xaxis": "x",
         "y": [
          4,
          2,
          28,
          79,
          292,
          184,
          201,
          91,
          55,
          56,
          22,
          10
         ],
         "yaxis": "y"
        },
        {
         "name": "2002",
         "type": "bar",
         "x": [
          "January",
          "February",
          "March",
          "April",
          "May",
          "June",
          "July",
          "August",
          "September",
          "October",
          "November",
          "December"
         ],
         "xaxis": "x",
         "y": [
          10,
          4,
          3,
          35,
          264,
          588,
          358,
          122,
          60,
          22,
          21,
          6
         ],
         "yaxis": "y"
        },
        {
         "name": "2003",
         "type": "bar",
         "x": [
          "January",
          "February",
          "March",
          "April",
          "May",
          "June",
          "July",
          "August",
          "September",
          "October",
          "November",
          "December"
         ],
         "xaxis": "x",
         "y": [
          14,
          4,
          1,
          34,
          267,
          215,
          328,
          257,
          59,
          57,
          14,
          7
         ],
         "yaxis": "y"
        },
        {
         "name": "2004",
         "type": "bar",
         "x": [
          "January",
          "February",
          "March",
          "April",
          "May",
          "June",
          "July",
          "August",
          "September",
          "October",
          "November",
          "December"
         ],
         "xaxis": "x",
         "y": [
          3,
          3,
          9,
          230,
          300,
          283,
          658,
          122,
          43,
          27,
          3,
          2
         ],
         "yaxis": "y"
        },
        {
         "name": "2005",
         "type": "bar",
         "x": [
          "January",
          "February",
          "March",
          "April",
          "May",
          "June",
          "July",
          "August",
          "September",
          "October",
          "November",
          "December"
         ],
         "xaxis": "x",
         "y": [
          4,
          8,
          4,
          205,
          443,
          283,
          250,
          89,
          65,
          35,
          30,
          9
         ],
         "yaxis": "y"
        },
        {
         "name": "2006",
         "type": "bar",
         "x": [
          "January",
          "February",
          "March",
          "April",
          "May",
          "June",
          "July",
          "August",
          "September",
          "October",
          "November",
          "December"
         ],
         "xaxis": "x",
         "y": [
          22,
          19,
          50,
          355,
          399,
          354,
          546,
          154,
          141,
          56,
          6,
          5
         ],
         "yaxis": "y"
        },
        {
         "name": "2007",
         "type": "bar",
         "x": [
          "January",
          "February",
          "March",
          "April",
          "May",
          "June",
          "July",
          "August",
          "September",
          "October",
          "November",
          "December"
         ],
         "xaxis": "x",
         "y": [
          6,
          3,
          9,
          129,
          238,
          264,
          410,
          163,
          66,
          59,
          26,
          5
         ],
         "yaxis": "y"
        },
        {
         "name": "2008",
         "type": "bar",
         "x": [
          "January",
          "February",
          "March",
          "April",
          "May",
          "June",
          "July",
          "August",
          "September",
          "October",
          "November",
          "December"
         ],
         "xaxis": "x",
         "y": [
          12,
          4,
          20,
          103,
          438,
          342,
          414,
          221,
          75,
          87,
          23,
          4
         ],
         "yaxis": "y"
        },
        {
         "name": "2009",
         "type": "bar",
         "x": [
          "January",
          "February",
          "March",
          "April",
          "May",
          "June",
          "July",
          "August",
          "September",
          "October",
          "November",
          "December"
         ],
         "xaxis": "x",
         "y": [
          8,
          11,
          5,
          127,
          493,
          454,
          170,
          179,
          174,
          45,
          17,
          10
         ],
         "yaxis": "y"
        },
        {
         "name": "2010",
         "type": "bar",
         "x": [
          "January",
          "February",
          "March",
          "April",
          "May",
          "June",
          "July",
          "August",
          "September",
          "October",
          "November",
          "December"
         ],
         "xaxis": "x",
         "y": [
          7,
          6,
          48,
          338,
          381,
          349,
          506,
          174,
          49,
          62,
          26,
          3
         ],
         "yaxis": "y"
        },
        {
         "name": "2011",
         "type": "bar",
         "x": [
          "January",
          "February",
          "March",
          "April",
          "May",
          "June",
          "July",
          "August",
          "September",
          "October",
          "November",
          "December"
         ],
         "xaxis": "x",
         "y": [
          2,
          null,
          1,
          140,
          405,
          115,
          174,
          160,
          135,
          44,
          29,
          3
         ],
         "yaxis": "y"
        },
        {
         "name": "2012",
         "type": "bar",
         "x": [
          "January",
          "February",
          "March",
          "April",
          "May",
          "June",
          "July",
          "August",
          "September",
          "October",
          "November",
          "December"
         ],
         "xaxis": "x",
         "y": [
          14,
          3,
          32,
          123,
          456,
          124,
          410,
          272,
          170,
          40,
          2,
          null
         ],
         "yaxis": "y"
        },
        {
         "name": "2013",
         "type": "bar",
         "x": [
          "January",
          "February",
          "March",
          "April",
          "May",
          "June",
          "July",
          "August",
          "September",
          "October",
          "November",
          "December"
         ],
         "xaxis": "x",
         "y": [
          1,
          3,
          9,
          37,
          529,
          132,
          211,
          180,
          135,
          26,
          15,
          1
         ],
         "yaxis": "y"
        },
        {
         "name": "2014",
         "type": "bar",
         "x": [
          "January",
          "February",
          "March",
          "April",
          "May",
          "June",
          "July",
          "August",
          "September",
          "October",
          "November",
          "December"
         ],
         "xaxis": "x",
         "y": [
          9,
          null,
          11,
          81,
          360,
          282,
          330,
          263,
          114,
          39,
          15,
          2
         ],
         "yaxis": "y"
        },
        {
         "name": "2015",
         "type": "bar",
         "x": [
          "January",
          "February",
          "March",
          "April",
          "May",
          "June",
          "July",
          "August",
          "September",
          "October",
          "November",
          "December"
         ],
         "xaxis": "x",
         "y": [
          2,
          4,
          32,
          277,
          505,
          504,
          318,
          162,
          55,
          62,
          23,
          8
         ],
         "yaxis": "y"
        },
        {
         "name": "2016",
         "type": "bar",
         "x": [
          "January",
          "February",
          "March",
          "April",
          "May",
          "June",
          "July",
          "August",
          "September",
          "October",
          "November",
          "December"
         ],
         "xaxis": "x",
         "y": [
          7,
          12,
          62,
          287,
          250,
          402,
          221,
          128,
          85,
          14,
          13,
          4
         ],
         "yaxis": "y"
        },
        {
         "name": "2017",
         "type": "bar",
         "x": [
          "January",
          "February",
          "March",
          "April",
          "May",
          "June",
          "July",
          "August",
          "September",
          "October",
          "November",
          "December"
         ],
         "xaxis": "x",
         "y": [
          4,
          4,
          14,
          101,
          348,
          176,
          285,
          264,
          77,
          49,
          5,
          3
         ],
         "yaxis": "y"
        },
        {
         "name": "2018",
         "type": "bar",
         "x": [
          "January",
          "February",
          "March",
          "April",
          "May",
          "June",
          "July",
          "August",
          "September",
          "October",
          "November",
          "December"
         ],
         "xaxis": "x",
         "y": [
          4,
          null,
          19,
          97,
          454,
          337,
          166,
          178,
          62,
          53,
          9,
          3
         ],
         "yaxis": "y"
        },
        {
         "name": "2019",
         "type": "bar",
         "x": [
          "January",
          "February",
          "March",
          "April",
          "May",
          "June",
          "July",
          "August",
          "September",
          "October",
          "November",
          "December"
         ],
         "xaxis": "x",
         "y": [
          17,
          1,
          34,
          188,
          315,
          180,
          219,
          78,
          30,
          17,
          1,
          1
         ],
         "yaxis": "y"
        },
        {
         "name": "2020",
         "type": "bar",
         "x": [
          "January",
          "February",
          "March",
          "April",
          "May",
          "June",
          "July",
          "August",
          "September",
          "October",
          "November",
          "December"
         ],
         "xaxis": "x",
         "y": [
          1,
          1,
          4,
          68,
          209,
          83,
          78,
          208,
          82,
          49,
          9,
          8
         ],
         "yaxis": "y"
        },
        {
         "name": "2021",
         "type": "bar",
         "x": [
          "January",
          "February",
          "March",
          "April",
          "May",
          "June",
          "July",
          "August",
          "September",
          "October",
          "November",
          "December"
         ],
         "xaxis": "x",
         "y": [
          null,
          null,
          null,
          null,
          null,
          null,
          null,
          null,
          null,
          null,
          null,
          null
         ],
         "yaxis": "y"
        },
        {
         "name": "1990",
         "type": "bar",
         "x": [
          "January",
          "February",
          "March",
          "April",
          "May",
          "June",
          "July",
          "August",
          "September",
          "October",
          "November",
          "December"
         ],
         "xaxis": "x2",
         "y": [
          null,
          3,
          35,
          147,
          235,
          95,
          775,
          1563,
          336,
          60,
          6,
          null
         ],
         "yaxis": "y2"
        },
        {
         "name": "1991",
         "type": "bar",
         "x": [
          "January",
          "February",
          "March",
          "April",
          "May",
          "June",
          "July",
          "August",
          "September",
          "October",
          "November",
          "December"
         ],
         "xaxis": "x2",
         "y": [
          2,
          5,
          25,
          204,
          193,
          291,
          296,
          573,
          172,
          248,
          5,
          null
         ],
         "yaxis": "y2"
        },
        {
         "name": "1992",
         "type": "bar",
         "x": [
          "January",
          "February",
          "March",
          "April",
          "May",
          "June",
          "July",
          "August",
          "September",
          "October",
          "November",
          "December"
         ],
         "xaxis": "x2",
         "y": [
          6,
          2,
          70,
          155,
          243,
          705,
          493,
          1803,
          197,
          126,
          4,
          1
         ],
         "yaxis": "y2"
        },
        {
         "name": "1993",
         "type": "bar",
         "x": [
          "January",
          "February",
          "March",
          "April",
          "May",
          "June",
          "July",
          "August",
          "September",
          "October",
          "November",
          "December"
         ],
         "xaxis": "x2",
         "y": [
          3,
          16,
          34,
          77,
          322,
          189,
          153,
          274,
          300,
          119,
          10,
          null
         ],
         "yaxis": "y2"
        },
        {
         "name": "1994",
         "type": "bar",
         "x": [
          "January",
          "February",
          "March",
          "April",
          "May",
          "June",
          "July",
          "August",
          "September",
          "October",
          "November",
          "December"
         ],
         "xaxis": "x2",
         "y": [
          6,
          2,
          66,
          142,
          212,
          172,
          1030,
          2118,
          238,
          70,
          1,
          null
         ],
         "yaxis": "y2"
        },
        {
         "name": "1995",
         "type": "bar",
         "x": [
          "January",
          "February",
          "March",
          "April",
          "May",
          "June",
          "July",
          "August",
          "September",
          "October",
          "November",
          "December"
         ],
         "xaxis": "x2",
         "y": [
          5,
          5,
          61,
          181,
          316,
          281,
          277,
          90,
          238,
          15,
          5,
          null
         ],
         "yaxis": "y2"
        },
        {
         "name": "1996",
         "type": "bar",
         "x": [
          "January",
          "February",
          "March",
          "April",
          "May",
          "June",
          "July",
          "August",
          "September",
          "October",
          "November",
          "December"
         ],
         "xaxis": "x2",
         "y": [
          5,
          3,
          31,
          60,
          82,
          155,
          452,
          489,
          64,
          16,
          1,
          2
         ],
         "yaxis": "y2"
        },
        {
         "name": "1997",
         "type": "bar",
         "x": [
          "January",
          "February",
          "March",
          "April",
          "May",
          "June",
          "July",
          "August",
          "September",
          "October",
          "November",
          "December"
         ],
         "xaxis": "x2",
         "y": [
          null,
          2,
          6,
          86,
          131,
          95,
          172,
          514,
          162,
          3,
          3,
          2
         ],
         "yaxis": "y2"
        },
        {
         "name": "1998",
         "type": "bar",
         "x": [
          "January",
          "February",
          "March",
          "April",
          "May",
          "June",
          "July",
          "August",
          "September",
          "October",
          "November",
          "December"
         ],
         "xaxis": "x2",
         "y": [
          3,
          3,
          24,
          148,
          259,
          143,
          674,
          870,
          473,
          44,
          4,
          null
         ],
         "yaxis": "y2"
        },
        {
         "name": "1999",
         "type": "bar",
         "x": [
          "January",
          "February",
          "March",
          "April",
          "May",
          "June",
          "July",
          "August",
          "September",
          "October",
          "November",
          "December"
         ],
         "xaxis": "x2",
         "y": [
          null,
          2,
          8,
          92,
          83,
          118,
          168,
          522,
          109,
          82,
          6,
          8
         ],
         "yaxis": "y2"
        },
        {
         "name": "2000",
         "type": "bar",
         "x": [
          "January",
          "February",
          "March",
          "April",
          "May",
          "June",
          "July",
          "August",
          "September",
          "October",
          "November",
          "December"
         ],
         "xaxis": "x2",
         "y": [
          null,
          3,
          17,
          157,
          82,
          129,
          399,
          618,
          86,
          51,
          8,
          1
         ],
         "yaxis": "y2"
        },
        {
         "name": "2001",
         "type": "bar",
         "x": [
          "January",
          "February",
          "March",
          "April",
          "May",
          "June",
          "July",
          "August",
          "September",
          "October",
          "November",
          "December"
         ],
         "xaxis": "x2",
         "y": [
          6,
          1,
          30,
          130,
          257,
          98,
          329,
          262,
          135,
          59,
          13,
          null
         ],
         "yaxis": "y2"
        },
        {
         "name": "2002",
         "type": "bar",
         "x": [
          "January",
          "February",
          "March",
          "April",
          "May",
          "June",
          "July",
          "August",
          "September",
          "October",
          "November",
          "December"
         ],
         "xaxis": "x2",
         "y": [
          3,
          3,
          5,
          140,
          161,
          245,
          410,
          596,
          108,
          86,
          32,
          6
         ],
         "yaxis": "y2"
        },
        {
         "name": "2003",
         "type": "bar",
         "x": [
          "January",
          "February",
          "March",
          "April",
          "May",
          "June",
          "July",
          "August",
          "September",
          "October",
          "November",
          "December"
         ],
         "xaxis": "x2",
         "y": [
          5,
          3,
          19,
          99,
          144,
          272,
          562,
          1132,
          198,
          40,
          16,
          null
         ],
         "yaxis": "y2"
        },
        {
         "name": "2004",
         "type": "bar",
         "x": [
          "January",
          "February",
          "March",
          "April",
          "May",
          "June",
          "July",
          "August",
          "September",
          "October",
          "November",
          "December"
         ],
         "xaxis": "x2",
         "y": [
          null,
          2,
          43,
          178,
          132,
          637,
          630,
          719,
          38,
          36,
          2,
          1
         ],
         "yaxis": "y2"
        },
        {
         "name": "2005",
         "type": "bar",
         "x": [
          "January",
          "February",
          "March",
          "April",
          "May",
          "June",
          "July",
          "August",
          "September",
          "October",
          "November",
          "December"
         ],
         "xaxis": "x2",
         "y": [
          2,
          9,
          15,
          116,
          275,
          90,
          146,
          254,
          84,
          8,
          7,
          null
         ],
         "yaxis": "y2"
        },
        {
         "name": "2006",
         "type": "bar",
         "x": [
          "January",
          "February",
          "March",
          "April",
          "May",
          "June",
          "July",
          "August",
          "September",
          "October",
          "November",
          "December"
         ],
         "xaxis": "x2",
         "y": [
          3,
          3,
          9,
          176,
          203,
          233,
          1086,
          507,
          285,
          80,
          2,
          null
         ],
         "yaxis": "y2"
        },
        {
         "name": "2007",
         "type": "bar",
         "x": [
          "January",
          "February",
          "March",
          "April",
          "May",
          "June",
          "July",
          "August",
          "September",
          "October",
          "November",
          "December"
         ],
         "xaxis": "x2",
         "y": [
          2,
          2,
          17,
          76,
          159,
          109,
          624,
          518,
          111,
          18,
          4,
          1
         ],
         "yaxis": "y2"
        },
        {
         "name": "2008",
         "type": "bar",
         "x": [
          "January",
          "February",
          "March",
          "April",
          "May",
          "June",
          "July",
          "August",
          "September",
          "October",
          "November",
          "December"
         ],
         "xaxis": "x2",
         "y": [
          1,
          2,
          13,
          117,
          161,
          170,
          596,
          780,
          122,
          66,
          7,
          3
         ],
         "yaxis": "y2"
        },
        {
         "name": "2009",
         "type": "bar",
         "x": [
          "January",
          "February",
          "March",
          "April",
          "May",
          "June",
          "July",
          "August",
          "September",
          "October",
          "November",
          "December"
         ],
         "xaxis": "x2",
         "y": [
          8,
          7,
          19,
          165,
          197,
          459,
          1191,
          632,
          337,
          49,
          5,
          2
         ],
         "yaxis": "y2"
        },
        {
         "name": "2010",
         "type": "bar",
         "x": [
          "January",
          "February",
          "March",
          "April",
          "May",
          "June",
          "July",
          "August",
          "September",
          "October",
          "November",
          "December"
         ],
         "xaxis": "x2",
         "y": [
          2,
          2,
          30,
          135,
          91,
          132,
          826,
          392,
          52,
          54,
          11,
          4
         ],
         "yaxis": "y2"
        },
        {
         "name": "2011",
         "type": "bar",
         "x": [
          "January",
          "February",
          "March",
          "April",
          "May",
          "June",
          "July",
          "August",
          "September",
          "October",
          "November",
          "December"
         ],
         "xaxis": "x2",
         "y": [
          2,
          2,
          9,
          48,
          67,
          68,
          115,
          223,
          107,
          37,
          6,
          null
         ],
         "yaxis": "y2"
        },
        {
         "name": "2012",
         "type": "bar",
         "x": [
          "January",
          "February",
          "March",
          "April",
          "May",
          "June",
          "July",
          "August",
          "September",
          "October",
          "November",
          "December"
         ],
         "xaxis": "x2",
         "y": [
          2,
          2,
          6,
          74,
          168,
          57,
          417,
          642,
          205,
          83,
          2,
          1
         ],
         "yaxis": "y2"
        },
        {
         "name": "2013",
         "type": "bar",
         "x": [
          "January",
          "February",
          "March",
          "April",
          "May",
          "June",
          "July",
          "August",
          "September",
          "October",
          "November",
          "December"
         ],
         "xaxis": "x2",
         "y": [
          1,
          null,
          21,
          85,
          128,
          101,
          367,
          999,
          131,
          43,
          1,
          2
         ],
         "yaxis": "y2"
        },
        {
         "name": "2014",
         "type": "bar",
         "x": [
          "January",
          "February",
          "March",
          "April",
          "May",
          "June",
          "July",
          "August",
          "September",
          "October",
          "November",
          "December"
         ],
         "xaxis": "x2",
         "y": [
          1,
          4,
          10,
          107,
          105,
          132,
          485,
          502,
          90,
          40,
          null,
          2
         ],
         "yaxis": "y2"
        },
        {
         "name": "2015",
         "type": "bar",
         "x": [
          "January",
          "February",
          "March",
          "April",
          "May",
          "June",
          "July",
          "August",
          "September",
          "October",
          "November",
          "December"
         ],
         "xaxis": "x2",
         "y": [
          null,
          2,
          31,
          82,
          309,
          443,
          538,
          404,
          31,
          27,
          3,
          1
         ],
         "yaxis": "y2"
        },
        {
         "name": "2016",
         "type": "bar",
         "x": [
          "January",
          "February",
          "March",
          "April",
          "May",
          "June",
          "July",
          "August",
          "September",
          "October",
          "November",
          "December"
         ],
         "xaxis": "x2",
         "y": [
          3,
          7,
          27,
          158,
          127,
          164,
          206,
          325,
          43,
          12,
          3,
          null
         ],
         "yaxis": "y2"
        },
        {
         "name": "2017",
         "type": "bar",
         "x": [
          "January",
          "February",
          "March",
          "April",
          "May",
          "June",
          "July",
          "August",
          "September",
          "October",
          "November",
          "December"
         ],
         "xaxis": "x2",
         "y": [
          1,
          2,
          10,
          40,
          91,
          145,
          622,
          306,
          115,
          64,
          4,
          null
         ],
         "yaxis": "y2"
        },
        {
         "name": "2018",
         "type": "bar",
         "x": [
          "January",
          "February",
          "March",
          "April",
          "May",
          "June",
          "July",
          "August",
          "September",
          "October",
          "November",
          "December"
         ],
         "xaxis": "x2",
         "y": [
          1,
          null,
          14,
          51,
          178,
          327,
          684,
          766,
          52,
          45,
          2,
          2
         ],
         "yaxis": "y2"
        },
        {
         "name": "2019",
         "type": "bar",
         "x": [
          "January",
          "February",
          "March",
          "April",
          "May",
          "June",
          "July",
          "August",
          "September",
          "October",
          "November",
          "December"
         ],
         "xaxis": "x2",
         "y": [
          null,
          1,
          27,
          87,
          135,
          194,
          155,
          126,
          95,
          16,
          7,
          null
         ],
         "yaxis": "y2"
        },
        {
         "name": "2020",
         "type": "bar",
         "x": [
          "January",
          "February",
          "March",
          "April",
          "May",
          "June",
          "July",
          "August",
          "September",
          "October",
          "November",
          "December"
         ],
         "xaxis": "x2",
         "y": [
          null,
          null,
          19,
          92,
          66,
          31,
          115,
          283,
          62,
          13,
          2,
          1
         ],
         "yaxis": "y2"
        },
        {
         "name": "2021",
         "type": "bar",
         "x": [
          "January",
          "February",
          "March",
          "April",
          "May",
          "June",
          "July",
          "August",
          "September",
          "October",
          "November",
          "December"
         ],
         "xaxis": "x2",
         "y": [
          null,
          null,
          null,
          null,
          null,
          null,
          null,
          null,
          null,
          null,
          null,
          null
         ],
         "yaxis": "y2"
        },
        {
         "name": "1990",
         "type": "bar",
         "x": [
          "January",
          "February",
          "March",
          "April",
          "May",
          "June",
          "July",
          "August",
          "September",
          "October",
          "November",
          "December"
         ],
         "xaxis": "x3",
         "y": [
          null,
          null,
          null,
          39,
          71,
          85,
          90,
          176,
          51,
          36,
          13,
          1
         ],
         "yaxis": "y3"
        },
        {
         "name": "1991",
         "type": "bar",
         "x": [
          "January",
          "February",
          "March",
          "April",
          "May",
          "June",
          "July",
          "August",
          "September",
          "October",
          "November",
          "December"
         ],
         "xaxis": "x3",
         "y": [
          5,
          3,
          12,
          109,
          75,
          77,
          142,
          222,
          21,
          6,
          null,
          null
         ],
         "yaxis": "y3"
        },
        {
         "name": "1992",
         "type": "bar",
         "x": [
          "January",
          "February",
          "March",
          "April",
          "May",
          "June",
          "July",
          "August",
          "September",
          "October",
          "November",
          "December"
         ],
         "xaxis": "x3",
         "y": [
          null,
          1,
          1,
          7,
          76,
          45,
          57,
          102,
          5,
          4,
          null,
          null
         ],
         "yaxis": "y3"
        },
        {
         "name": "1993",
         "type": "bar",
         "x": [
          "January",
          "February",
          "March",
          "April",
          "May",
          "June",
          "July",
          "August",
          "September",
          "October",
          "November",
          "December"
         ],
         "xaxis": "x3",
         "y": [
          null,
          null,
          2,
          39,
          67,
          97,
          24,
          6,
          3,
          1,
          null,
          null
         ],
         "yaxis": "y3"
        },
        {
         "name": "1994",
         "type": "bar",
         "x": [
          "January",
          "February",
          "March",
          "April",
          "May",
          "June",
          "July",
          "August",
          "September",
          "October",
          "November",
          "December"
         ],
         "xaxis": "x3",
         "y": [
          null,
          null,
          1,
          49,
          115,
          170,
          82,
          73,
          57,
          7,
          1,
          null
         ],
         "yaxis": "y3"
        },
        {
         "name": "1995",
         "type": "bar",
         "x": [
          "January",
          "February",
          "March",
          "April",
          "May",
          "June",
          "July",
          "August",
          "September",
          "October",
          "November",
          "December"
         ],
         "xaxis": "x3",
         "y": [
          null,
          null,
          null,
          13,
          154,
          344,
          90,
          28,
          12,
          21,
          null,
          null
         ],
         "yaxis": "y3"
        },
        {
         "name": "1996",
         "type": "bar",
         "x": [
          "January",
          "February",
          "March",
          "April",
          "May",
          "June",
          "July",
          "August",
          "September",
          "October",
          "November",
          "December"
         ],
         "xaxis": "x3",
         "y": [
          null,
          null,
          null,
          1,
          77,
          103,
          155,
          59,
          23,
          4,
          null,
          null
         ],
         "yaxis": "y3"
        },
        {
         "name": "1997",
         "type": "bar",
         "x": [
          "January",
          "February",
          "March",
          "April",
          "May",
          "June",
          "July",
          "August",
          "September",
          "October",
          "November",
          "December"
         ],
         "xaxis": "x3",
         "y": [
          null,
          null,
          null,
          8,
          83,
          87,
          102,
          83,
          8,
          1,
          null,
          null
         ],
         "yaxis": "y3"
        },
        {
         "name": "1998",
         "type": "bar",
         "x": [
          "January",
          "February",
          "March",
          "April",
          "May",
          "June",
          "July",
          "August",
          "September",
          "October",
          "November",
          "December"
         ],
         "xaxis": "x3",
         "y": [
          null,
          null,
          null,
          110,
          51,
          52,
          136,
          106,
          50,
          1,
          1,
          null
         ],
         "yaxis": "y3"
        },
        {
         "name": "1999",
         "type": "bar",
         "x": [
          "January",
          "February",
          "March",
          "April",
          "May",
          "June",
          "July",
          "August",
          "September",
          "October",
          "November",
          "December"
         ],
         "xaxis": "x3",
         "y": [
          2,
          null,
          null,
          133,
          104,
          115,
          125,
          112,
          17,
          5,
          null,
          null
         ],
         "yaxis": "y3"
        },
        {
         "name": "2000",
         "type": "bar",
         "x": [
          "January",
          "February",
          "March",
          "April",
          "May",
          "June",
          "July",
          "August",
          "September",
          "October",
          "November",
          "December"
         ],
         "xaxis": "x3",
         "y": [
          null,
          null,
          1,
          1,
          1,
          null,
          null,
          null,
          null,
          1,
          null,
          null
         ],
         "yaxis": "y3"
        },
        {
         "name": "2001",
         "type": "bar",
         "x": [
          "January",
          "February",
          "March",
          "April",
          "May",
          "June",
          "July",
          "August",
          "September",
          "October",
          "November",
          "December"
         ],
         "xaxis": "x3",
         "y": [
          null,
          null,
          null,
          1,
          3,
          null,
          null,
          null,
          1,
          1,
          null,
          null
         ],
         "yaxis": "y3"
        },
        {
         "name": "2002",
         "type": "bar",
         "x": [
          "January",
          "February",
          "March",
          "April",
          "May",
          "June",
          "July",
          "August",
          "September",
          "October",
          "November",
          "December"
         ],
         "xaxis": "x3",
         "y": [
          null,
          null,
          null,
          1,
          4,
          null,
          null,
          null,
          null,
          null,
          null,
          null
         ],
         "yaxis": "y3"
        },
        {
         "name": "2003",
         "type": "bar",
         "x": [
          "January",
          "February",
          "March",
          "April",
          "May",
          "June",
          "July",
          "August",
          "September",
          "October",
          "November",
          "December"
         ],
         "xaxis": "x3",
         "y": [
          null,
          null,
          null,
          1,
          null,
          null,
          null,
          1,
          null,
          null,
          null,
          null
         ],
         "yaxis": "y3"
        },
        {
         "name": "2004",
         "type": "bar",
         "x": [
          "January",
          "February",
          "March",
          "April",
          "May",
          "June",
          "July",
          "August",
          "September",
          "October",
          "November",
          "December"
         ],
         "xaxis": "x3",
         "y": [
          null,
          null,
          null,
          7,
          8,
          2,
          35,
          2,
          null,
          null,
          null,
          null
         ],
         "yaxis": "y3"
        },
        {
         "name": "2005",
         "type": "bar",
         "x": [
          "January",
          "February",
          "March",
          "April",
          "May",
          "June",
          "July",
          "August",
          "September",
          "October",
          "November",
          "December"
         ],
         "xaxis": "x3",
         "y": [
          null,
          null,
          null,
          34,
          32,
          22,
          140,
          21,
          2,
          3,
          null,
          null
         ],
         "yaxis": "y3"
        },
        {
         "name": "2006",
         "type": "bar",
         "x": [
          "January",
          "February",
          "March",
          "April",
          "May",
          "June",
          "July",
          "August",
          "September",
          "October",
          "November",
          "December"
         ],
         "xaxis": "x3",
         "y": [
          null,
          null,
          null,
          45,
          26,
          237,
          172,
          116,
          81,
          6,
          1,
          null
         ],
         "yaxis": "y3"
        },
        {
         "name": "2007",
         "type": "bar",
         "x": [
          "January",
          "February",
          "March",
          "April",
          "May",
          "June",
          "July",
          "August",
          "September",
          "October",
          "November",
          "December"
         ],
         "xaxis": "x3",
         "y": [
          null,
          null,
          null,
          38,
          53,
          71,
          161,
          50,
          9,
          1,
          null,
          null
         ],
         "yaxis": "y3"
        },
        {
         "name": "2008",
         "type": "bar",
         "x": [
          "January",
          "February",
          "March",
          "April",
          "May",
          "June",
          "July",
          "August",
          "September",
          "October",
          "November",
          "December"
         ],
         "xaxis": "x3",
         "y": [
          null,
          null,
          null,
          18,
          154,
          123,
          40,
          54,
          6,
          2,
          null,
          null
         ],
         "yaxis": "y3"
        },
        {
         "name": "2009",
         "type": "bar",
         "x": [
          "January",
          "February",
          "March",
          "April",
          "May",
          "June",
          "July",
          "August",
          "September",
          "October",
          "November",
          "December"
         ],
         "xaxis": "x3",
         "y": [
          null,
          null,
          null,
          2,
          35,
          72,
          21,
          11,
          26,
          17,
          1,
          null
         ],
         "yaxis": "y3"
        },
        {
         "name": "2010",
         "type": "bar",
         "x": [
          "January",
          "February",
          "March",
          "April",
          "May",
          "June",
          "July",
          "August",
          "September",
          "October",
          "November",
          "December"
         ],
         "xaxis": "x3",
         "y": [
          null,
          null,
          null,
          91,
          62,
          79,
          211,
          115,
          27,
          3,
          1,
          null
         ],
         "yaxis": "y3"
        },
        {
         "name": "2011",
         "type": "bar",
         "x": [
          "January",
          "February",
          "March",
          "April",
          "May",
          "June",
          "July",
          "August",
          "September",
          "October",
          "November",
          "December"
         ],
         "xaxis": "x3",
         "y": [
          null,
          null,
          null,
          6,
          39,
          38,
          106,
          82,
          19,
          27,
          6,
          null
         ],
         "yaxis": "y3"
        },
        {
         "name": "2012",
         "type": "bar",
         "x": [
          "January",
          "February",
          "March",
          "April",
          "May",
          "June",
          "July",
          "August",
          "September",
          "October",
          "November",
          "December"
         ],
         "xaxis": "x3",
         "y": [
          null,
          null,
          11,
          51,
          42,
          61,
          263,
          43,
          22,
          6,
          null,
          null
         ],
         "yaxis": "y3"
        },
        {
         "name": "2013",
         "type": "bar",
         "x": [
          "January",
          "February",
          "March",
          "April",
          "May",
          "June",
          "July",
          "August",
          "September",
          "October",
          "November",
          "December"
         ],
         "xaxis": "x3",
         "y": [
          null,
          null,
          null,
          3,
          71,
          106,
          169,
          103,
          43,
          null,
          1,
          null
         ],
         "yaxis": "y3"
        },
        {
         "name": "2014",
         "type": "bar",
         "x": [
          "January",
          "February",
          "March",
          "April",
          "May",
          "June",
          "July",
          "August",
          "September",
          "October",
          "November",
          "December"
         ],
         "xaxis": "x3",
         "y": [
          null,
          null,
          null,
          5,
          41,
          49,
          45,
          94,
          11,
          1,
          null,
          null
         ],
         "yaxis": "y3"
        },
        {
         "name": "2015",
         "type": "bar",
         "x": [
          "January",
          "February",
          "March",
          "April",
          "May",
          "June",
          "July",
          "August",
          "September",
          "October",
          "November",
          "December"
         ],
         "xaxis": "x3",
         "y": [
          null,
          null,
          2,
          50,
          75,
          151,
          169,
          13,
          1,
          2,
          null,
          null
         ],
         "yaxis": "y3"
        },
        {
         "name": "2016",
         "type": "bar",
         "x": [
          "January",
          "February",
          "March",
          "April",
          "May",
          "June",
          "July",
          "August",
          "September",
          "October",
          "November",
          "December"
         ],
         "xaxis": "x3",
         "y": [
          null,
          null,
          null,
          22,
          59,
          64,
          42,
          15,
          5,
          null,
          null,
          null
         ],
         "yaxis": "y3"
        },
        {
         "name": "2017",
         "type": "bar",
         "x": [
          "January",
          "February",
          "March",
          "April",
          "May",
          "June",
          "July",
          "August",
          "September",
          "October",
          "November",
          "December"
         ],
         "xaxis": "x3",
         "y": [
          null,
          null,
          null,
          8,
          43,
          27,
          142,
          298,
          33,
          15,
          null,
          null
         ],
         "yaxis": "y3"
        },
        {
         "name": "2018",
         "type": "bar",
         "x": [
          "January",
          "February",
          "March",
          "April",
          "May",
          "June",
          "July",
          "August",
          "September",
          "October",
          "November",
          "December"
         ],
         "xaxis": "x3",
         "y": [
          null,
          null,
          null,
          33,
          176,
          97,
          108,
          54,
          15,
          null,
          null,
          null
         ],
         "yaxis": "y3"
        },
        {
         "name": "2019",
         "type": "bar",
         "x": [
          "January",
          "February",
          "March",
          "April",
          "May",
          "June",
          "July",
          "August",
          "September",
          "October",
          "November",
          "December"
         ],
         "xaxis": "x3",
         "y": [
          null,
          null,
          null,
          21,
          81,
          60,
          86,
          35,
          1,
          null,
          null,
          null
         ],
         "yaxis": "y3"
        },
        {
         "name": "2020",
         "type": "bar",
         "x": [
          "January",
          "February",
          "March",
          "April",
          "May",
          "June",
          "July",
          "August",
          "September",
          "October",
          "November",
          "December"
         ],
         "xaxis": "x3",
         "y": [
          null,
          null,
          null,
          11,
          38,
          24,
          41,
          36,
          4,
          1,
          null,
          null
         ],
         "yaxis": "y3"
        },
        {
         "name": "2021",
         "type": "bar",
         "x": [
          "January",
          "February",
          "March",
          "April",
          "May",
          "June",
          "July",
          "August",
          "September",
          "October",
          "November",
          "December"
         ],
         "xaxis": "x3",
         "y": [
          null,
          null,
          null,
          null,
          null,
          null,
          null,
          null,
          null,
          null,
          null,
          null
         ],
         "yaxis": "y3"
        },
        {
         "name": "1990",
         "type": "bar",
         "x": [
          "March",
          "April",
          "May",
          "June",
          "July",
          "August",
          "September",
          "October",
          "November",
          "December"
         ],
         "xaxis": "x4",
         "y": [
          1,
          42,
          71,
          100,
          114,
          32,
          13,
          4,
          null,
          null
         ],
         "yaxis": "y4"
        },
        {
         "name": "1991",
         "type": "bar",
         "x": [
          "March",
          "April",
          "May",
          "June",
          "July",
          "August",
          "September",
          "October",
          "November",
          "December"
         ],
         "xaxis": "x4",
         "y": [
          null,
          91,
          154,
          150,
          141,
          92,
          20,
          7,
          1,
          null
         ],
         "yaxis": "y4"
        },
        {
         "name": "1992",
         "type": "bar",
         "x": [
          "March",
          "April",
          "May",
          "June",
          "July",
          "August",
          "September",
          "October",
          "November",
          "December"
         ],
         "xaxis": "x4",
         "y": [
          null,
          50,
          345,
          78,
          24,
          42,
          23,
          14,
          null,
          null
         ],
         "yaxis": "y4"
        },
        {
         "name": "1993",
         "type": "bar",
         "x": [
          "March",
          "April",
          "May",
          "June",
          "July",
          "August",
          "September",
          "October",
          "November",
          "December"
         ],
         "xaxis": "x4",
         "y": [
          null,
          60,
          195,
          40,
          32,
          72,
          28,
          3,
          null,
          null
         ],
         "yaxis": "y4"
        },
        {
         "name": "1994",
         "type": "bar",
         "x": [
          "March",
          "April",
          "May",
          "June",
          "July",
          "August",
          "September",
          "October",
          "November",
          "December"
         ],
         "xaxis": "x4",
         "y": [
          null,
          41,
          89,
          37,
          48,
          104,
          40,
          137,
          22,
          null
         ],
         "yaxis": "y4"
        },
        {
         "name": "1995",
         "type": "bar",
         "x": [
          "March",
          "April",
          "May",
          "June",
          "July",
          "August",
          "September",
          "October",
          "November",
          "December"
         ],
         "xaxis": "x4",
         "y": [
          null,
          28,
          71,
          116,
          89,
          156,
          74,
          11,
          2,
          null
         ],
         "yaxis": "y4"
        },
        {
         "name": "1996",
         "type": "bar",
         "x": [
          "March",
          "April",
          "May",
          "June",
          "July",
          "August",
          "September",
          "October",
          "November",
          "December"
         ],
         "xaxis": "x4",
         "y": [
          1,
          26,
          75,
          129,
          11,
          74,
          37,
          13,
          1,
          null
         ],
         "yaxis": "y4"
        },
        {
         "name": "1997",
         "type": "bar",
         "x": [
          "March",
          "April",
          "May",
          "June",
          "July",
          "August",
          "September",
          "October",
          "November",
          "December"
         ],
         "xaxis": "x4",
         "y": [
          null,
          16,
          72,
          68,
          77,
          75,
          13,
          45,
          2,
          null
         ],
         "yaxis": "y4"
        },
        {
         "name": "1998",
         "type": "bar",
         "x": [
          "March",
          "April",
          "May",
          "June",
          "July",
          "August",
          "September",
          "October",
          "November",
          "December"
         ],
         "xaxis": "x4",
         "y": [
          null,
          67,
          61,
          29,
          44,
          73,
          5,
          7,
          2,
          null
         ],
         "yaxis": "y4"
        },
        {
         "name": "1999",
         "type": "bar",
         "x": [
          "March",
          "April",
          "May",
          "June",
          "July",
          "August",
          "September",
          "October",
          "November",
          "December"
         ],
         "xaxis": "x4",
         "y": [
          null,
          55,
          180,
          210,
          80,
          40,
          31,
          3,
          7,
          1
         ],
         "yaxis": "y4"
        },
        {
         "name": "2000",
         "type": "bar",
         "x": [
          "March",
          "April",
          "May",
          "June",
          "July",
          "August",
          "September",
          "October",
          "November",
          "December"
         ],
         "xaxis": "x4",
         "y": [
          1,
          31,
          73,
          77,
          40,
          46,
          44,
          30,
          null,
          null
         ],
         "yaxis": "y4"
        },
        {
         "name": "2001",
         "type": "bar",
         "x": [
          "March",
          "April",
          "May",
          "June",
          "July",
          "August",
          "September",
          "October",
          "November",
          "December"
         ],
         "xaxis": "x4",
         "y": [
          null,
          36,
          169,
          43,
          47,
          116,
          53,
          29,
          3,
          null
         ],
         "yaxis": "y4"
        },
        {
         "name": "2002",
         "type": "bar",
         "x": [
          "March",
          "April",
          "May",
          "June",
          "July",
          "August",
          "September",
          "October",
          "November",
          "December"
         ],
         "xaxis": "x4",
         "y": [
          null,
          31,
          97,
          42,
          37,
          76,
          22,
          10,
          2,
          null
         ],
         "yaxis": "y4"
        },
        {
         "name": "2003",
         "type": "bar",
         "x": [
          "March",
          "April",
          "May",
          "June",
          "July",
          "August",
          "September",
          "October",
          "November",
          "December"
         ],
         "xaxis": "x4",
         "y": [
          null,
          18,
          89,
          38,
          29,
          26,
          27,
          3,
          null,
          null
         ],
         "yaxis": "y4"
        },
        {
         "name": "2004",
         "type": "bar",
         "x": [
          "March",
          "April",
          "May",
          "June",
          "July",
          "August",
          "September",
          "October",
          "November",
          "December"
         ],
         "xaxis": "x4",
         "y": [
          null,
          57,
          118,
          41,
          14,
          11,
          8,
          6,
          1,
          null
         ],
         "yaxis": "y4"
        },
        {
         "name": "2005",
         "type": "bar",
         "x": [
          "March",
          "April",
          "May",
          "June",
          "July",
          "August",
          "September",
          "October",
          "November",
          "December"
         ],
         "xaxis": "x4",
         "y": [
          null,
          137,
          41,
          39,
          29,
          49,
          12,
          1,
          1,
          null
         ],
         "yaxis": "y4"
        },
        {
         "name": "2006",
         "type": "bar",
         "x": [
          "March",
          "April",
          "May",
          "June",
          "July",
          "August",
          "September",
          "October",
          "November",
          "December"
         ],
         "xaxis": "x4",
         "y": [
          19,
          154,
          64,
          9,
          33,
          22,
          8,
          1,
          null,
          null
         ],
         "yaxis": "y4"
        },
        {
         "name": "2007",
         "type": "bar",
         "x": [
          "March",
          "April",
          "May",
          "June",
          "July",
          "August",
          "September",
          "October",
          "November",
          "December"
         ],
         "xaxis": "x4",
         "y": [
          1,
          68,
          130,
          31,
          21,
          33,
          15,
          17,
          2,
          null
         ],
         "yaxis": "y4"
        },
        {
         "name": "2008",
         "type": "bar",
         "x": [
          "March",
          "April",
          "May",
          "June",
          "July",
          "August",
          "September",
          "October",
          "November",
          "December"
         ],
         "xaxis": "x4",
         "y": [
          null,
          14,
          81,
          13,
          33,
          14,
          11,
          2,
          null,
          null
         ],
         "yaxis": "y4"
        },
        {
         "name": "2009",
         "type": "bar",
         "x": [
          "March",
          "April",
          "May",
          "June",
          "July",
          "August",
          "September",
          "October",
          "November",
          "December"
         ],
         "xaxis": "x4",
         "y": [
          null,
          54,
          88,
          11,
          3,
          18,
          17,
          3,
          3,
          null
         ],
         "yaxis": "y4"
        },
        {
         "name": "2010",
         "type": "bar",
         "x": [
          "March",
          "April",
          "May",
          "June",
          "July",
          "August",
          "September",
          "October",
          "November",
          "December"
         ],
         "xaxis": "x4",
         "y": [
          3,
          47,
          52,
          7,
          14,
          42,
          11,
          2,
          1,
          null
         ],
         "yaxis": "y4"
        },
        {
         "name": "2011",
         "type": "bar",
         "x": [
          "March",
          "April",
          "May",
          "June",
          "July",
          "August",
          "September",
          "October",
          "November",
          "December"
         ],
         "xaxis": "x4",
         "y": [
          null,
          23,
          25,
          7,
          11,
          1,
          null,
          null,
          null,
          null
         ],
         "yaxis": "y4"
        },
        {
         "name": "2012",
         "type": "bar",
         "x": [
          "March",
          "April",
          "May",
          "June",
          "July",
          "August",
          "September",
          "October",
          "November",
          "December"
         ],
         "xaxis": "x4",
         "y": [
          8,
          189,
          49,
          22,
          26,
          28,
          12,
          3,
          1,
          null
         ],
         "yaxis": "y4"
        },
        {
         "name": "2013",
         "type": "bar",
         "x": [
          "March",
          "April",
          "May",
          "June",
          "July",
          "August",
          "September",
          "October",
          "November",
          "December"
         ],
         "xaxis": "x4",
         "y": [
          3,
          176,
          123,
          7,
          34,
          7,
          null,
          3,
          null,
          null
         ],
         "yaxis": "y4"
        },
        {
         "name": "2014",
         "type": "bar",
         "x": [
          "March",
          "April",
          "May",
          "June",
          "July",
          "August",
          "September",
          "October",
          "November",
          "December"
         ],
         "xaxis": "x4",
         "y": [
          null,
          39,
          79,
          20,
          16,
          12,
          9,
          5,
          null,
          null
         ],
         "yaxis": "y4"
        },
        {
         "name": "2015",
         "type": "bar",
         "x": [
          "March",
          "April",
          "May",
          "June",
          "July",
          "August",
          "September",
          "October",
          "November",
          "December"
         ],
         "xaxis": "x4",
         "y": [
          null,
          3,
          165,
          3,
          22,
          11,
          15,
          3,
          null,
          null
         ],
         "yaxis": "y4"
        },
        {
         "name": "2016",
         "type": "bar",
         "x": [
          "March",
          "April",
          "May",
          "June",
          "July",
          "August",
          "September",
          "October",
          "November",
          "December"
         ],
         "xaxis": "x4",
         "y": [
          null,
          151,
          55,
          25,
          10,
          25,
          12,
          7,
          null,
          null
         ],
         "yaxis": "y4"
        },
        {
         "name": "2017",
         "type": "bar",
         "x": [
          "March",
          "April",
          "May",
          "June",
          "July",
          "August",
          "September",
          "October",
          "November",
          "December"
         ],
         "xaxis": "x4",
         "y": [
          null,
          16,
          25,
          16,
          39,
          79,
          35,
          33,
          2,
          null
         ],
         "yaxis": "y4"
        },
        {
         "name": "2018",
         "type": "bar",
         "x": [
          "March",
          "April",
          "May",
          "June",
          "July",
          "August",
          "September",
          "October",
          "November",
          "December"
         ],
         "xaxis": "x4",
         "y": [
          null,
          37,
          124,
          34,
          40,
          15,
          31,
          4,
          null,
          null
         ],
         "yaxis": "y4"
        },
        {
         "name": "2019",
         "type": "bar",
         "x": [
          "March",
          "April",
          "May",
          "June",
          "July",
          "August",
          "September",
          "October",
          "November",
          "December"
         ],
         "xaxis": "x4",
         "y": [
          null,
          12,
          88,
          19,
          21,
          32,
          5,
          6,
          null,
          null
         ],
         "yaxis": "y4"
        },
        {
         "name": "2020",
         "type": "bar",
         "x": [
          "March",
          "April",
          "May",
          "June",
          "July",
          "August",
          "September",
          "October",
          "November",
          "December"
         ],
         "xaxis": "x4",
         "y": [
          null,
          100,
          127,
          72,
          27,
          64,
          49,
          22,
          5,
          null
         ],
         "yaxis": "y4"
        },
        {
         "name": "2021",
         "type": "bar",
         "x": [
          "March",
          "April",
          "May",
          "June",
          "July",
          "August",
          "September",
          "October",
          "November",
          "December"
         ],
         "xaxis": "x4",
         "y": [
          null,
          null,
          null,
          null,
          null,
          null,
          null,
          null,
          null,
          null
         ],
         "yaxis": "y4"
        },
        {
         "name": "1990",
         "type": "bar",
         "x": [
          "January",
          "March",
          "April",
          "May",
          "June",
          "July",
          "August",
          "September",
          "October",
          "November",
          "December"
         ],
         "xaxis": "x5",
         "y": [
          null,
          2,
          5,
          19,
          36,
          29,
          30,
          41,
          3,
          null,
          null
         ],
         "yaxis": "y5"
        },
        {
         "name": "1991",
         "type": "bar",
         "x": [
          "January",
          "March",
          "April",
          "May",
          "June",
          "July",
          "August",
          "September",
          "October",
          "November",
          "December"
         ],
         "xaxis": "x5",
         "y": [
          null,
          null,
          4,
          29,
          38,
          12,
          32,
          null,
          null,
          null,
          null
         ],
         "yaxis": "y5"
        },
        {
         "name": "1992",
         "type": "bar",
         "x": [
          "January",
          "March",
          "April",
          "May",
          "June",
          "July",
          "August",
          "September",
          "October",
          "November",
          "December"
         ],
         "xaxis": "x5",
         "y": [
          null,
          null,
          2,
          47,
          15,
          13,
          26,
          3,
          null,
          null,
          null
         ],
         "yaxis": "y5"
        },
        {
         "name": "1993",
         "type": "bar",
         "x": [
          "January",
          "March",
          "April",
          "May",
          "June",
          "July",
          "August",
          "September",
          "October",
          "November",
          "December"
         ],
         "xaxis": "x5",
         "y": [
          null,
          null,
          1,
          13,
          24,
          5,
          13,
          5,
          4,
          null,
          null
         ],
         "yaxis": "y5"
        },
        {
         "name": "1994",
         "type": "bar",
         "x": [
          "January",
          "March",
          "April",
          "May",
          "June",
          "July",
          "August",
          "September",
          "October",
          "November",
          "December"
         ],
         "xaxis": "x5",
         "y": [
          null,
          null,
          3,
          15,
          35,
          35,
          35,
          5,
          1,
          null,
          null
         ],
         "yaxis": "y5"
        },
        {
         "name": "1995",
         "type": "bar",
         "x": [
          "January",
          "March",
          "April",
          "May",
          "June",
          "July",
          "August",
          "September",
          "October",
          "November",
          "December"
         ],
         "xaxis": "x5",
         "y": [
          null,
          null,
          3,
          23,
          20,
          14,
          23,
          3,
          null,
          null,
          null
         ],
         "yaxis": "y5"
        },
        {
         "name": "1996",
         "type": "bar",
         "x": [
          "January",
          "March",
          "April",
          "May",
          "June",
          "July",
          "August",
          "September",
          "October",
          "November",
          "December"
         ],
         "xaxis": "x5",
         "y": [
          null,
          null,
          13,
          23,
          12,
          4,
          48,
          9,
          2,
          null,
          null
         ],
         "yaxis": "y5"
        },
        {
         "name": "1997",
         "type": "bar",
         "x": [
          "January",
          "March",
          "April",
          "May",
          "June",
          "July",
          "August",
          "September",
          "October",
          "November",
          "December"
         ],
         "xaxis": "x5",
         "y": [
          null,
          null,
          null,
          15,
          25,
          26,
          11,
          1,
          null,
          null,
          null
         ],
         "yaxis": "y5"
        },
        {
         "name": "1998",
         "type": "bar",
         "x": [
          "January",
          "March",
          "April",
          "May",
          "June",
          "July",
          "August",
          "September",
          "October",
          "November",
          "December"
         ],
         "xaxis": "x5",
         "y": [
          null,
          null,
          1,
          94,
          55,
          11,
          18,
          null,
          1,
          null,
          null
         ],
         "yaxis": "y5"
        },
        {
         "name": "1999",
         "type": "bar",
         "x": [
          "January",
          "March",
          "April",
          "May",
          "June",
          "July",
          "August",
          "September",
          "October",
          "November",
          "December"
         ],
         "xaxis": "x5",
         "y": [
          null,
          5,
          10,
          66,
          66,
          20,
          10,
          10,
          1,
          null,
          null
         ],
         "yaxis": "y5"
        },
        {
         "name": "2000",
         "type": "bar",
         "x": [
          "January",
          "March",
          "April",
          "May",
          "June",
          "July",
          "August",
          "September",
          "October",
          "November",
          "December"
         ],
         "xaxis": "x5",
         "y": [
          null,
          null,
          14,
          34,
          44,
          9,
          15,
          7,
          1,
          null,
          null
         ],
         "yaxis": "y5"
        },
        {
         "name": "2001",
         "type": "bar",
         "x": [
          "January",
          "March",
          "April",
          "May",
          "June",
          "July",
          "August",
          "September",
          "October",
          "November",
          "December"
         ],
         "xaxis": "x5",
         "y": [
          1,
          null,
          null,
          30,
          36,
          34,
          63,
          10,
          5,
          null,
          1
         ],
         "yaxis": "y5"
        },
        {
         "name": "2002",
         "type": "bar",
         "x": [
          "January",
          "March",
          "April",
          "May",
          "June",
          "July",
          "August",
          "September",
          "October",
          "November",
          "December"
         ],
         "xaxis": "x5",
         "y": [
          null,
          null,
          5,
          30,
          24,
          13,
          14,
          6,
          1,
          null,
          null
         ],
         "yaxis": "y5"
        },
        {
         "name": "2003",
         "type": "bar",
         "x": [
          "January",
          "March",
          "April",
          "May",
          "June",
          "July",
          "August",
          "September",
          "October",
          "November",
          "December"
         ],
         "xaxis": "x5",
         "y": [
          null,
          null,
          2,
          32,
          45,
          6,
          16,
          21,
          3,
          1,
          null
         ],
         "yaxis": "y5"
        },
        {
         "name": "2004",
         "type": "bar",
         "x": [
          "January",
          "March",
          "April",
          "May",
          "June",
          "July",
          "August",
          "September",
          "October",
          "November",
          "December"
         ],
         "xaxis": "x5",
         "y": [
          null,
          null,
          1,
          66,
          16,
          14,
          23,
          3,
          1,
          null,
          null
         ],
         "yaxis": "y5"
        },
        {
         "name": "2005",
         "type": "bar",
         "x": [
          "January",
          "March",
          "April",
          "May",
          "June",
          "July",
          "August",
          "September",
          "October",
          "November",
          "December"
         ],
         "xaxis": "x5",
         "y": [
          null,
          null,
          6,
          34,
          31,
          23,
          14,
          7,
          null,
          null,
          null
         ],
         "yaxis": "y5"
        },
        {
         "name": "2006",
         "type": "bar",
         "x": [
          "January",
          "March",
          "April",
          "May",
          "June",
          "July",
          "August",
          "September",
          "October",
          "November",
          "December"
         ],
         "xaxis": "x5",
         "y": [
          null,
          null,
          6,
          33,
          5,
          9,
          7,
          3,
          null,
          null,
          null
         ],
         "yaxis": "y5"
        },
        {
         "name": "2007",
         "type": "bar",
         "x": [
          "January",
          "March",
          "April",
          "May",
          "June",
          "July",
          "August",
          "September",
          "October",
          "November",
          "December"
         ],
         "xaxis": "x5",
         "y": [
          null,
          null,
          2,
          19,
          17,
          10,
          1,
          6,
          null,
          null,
          null
         ],
         "yaxis": "y5"
        },
        {
         "name": "2008",
         "type": "bar",
         "x": [
          "January",
          "March",
          "April",
          "May",
          "June",
          "July",
          "August",
          "September",
          "October",
          "November",
          "December"
         ],
         "xaxis": "x5",
         "y": [
          null,
          null,
          2,
          33,
          8,
          14,
          2,
          7,
          6,
          null,
          null
         ],
         "yaxis": "y5"
        },
        {
         "name": "2009",
         "type": "bar",
         "x": [
          "January",
          "March",
          "April",
          "May",
          "June",
          "July",
          "August",
          "September",
          "October",
          "November",
          "December"
         ],
         "xaxis": "x5",
         "y": [
          null,
          1,
          26,
          52,
          27,
          29,
          4,
          8,
          null,
          null,
          null
         ],
         "yaxis": "y5"
        },
        {
         "name": "2010",
         "type": "bar",
         "x": [
          "January",
          "March",
          "April",
          "May",
          "June",
          "July",
          "August",
          "September",
          "October",
          "November",
          "December"
         ],
         "xaxis": "x5",
         "y": [
          null,
          2,
          7,
          5,
          4,
          4,
          11,
          6,
          3,
          1,
          null
         ],
         "yaxis": "y5"
        },
        {
         "name": "2011",
         "type": "bar",
         "x": [
          "January",
          "March",
          "April",
          "May",
          "June",
          "July",
          "August",
          "September",
          "October",
          "November",
          "December"
         ],
         "xaxis": "x5",
         "y": [
          null,
          null,
          2,
          14,
          5,
          5,
          9,
          5,
          null,
          null,
          null
         ],
         "yaxis": "y5"
        },
        {
         "name": "2012",
         "type": "bar",
         "x": [
          "January",
          "March",
          "April",
          "May",
          "June",
          "July",
          "August",
          "September",
          "October",
          "November",
          "December"
         ],
         "xaxis": "x5",
         "y": [
          null,
          1,
          20,
          14,
          31,
          36,
          9,
          4,
          null,
          null,
          null
         ],
         "yaxis": "y5"
        },
        {
         "name": "2013",
         "type": "bar",
         "x": [
          "January",
          "March",
          "April",
          "May",
          "June",
          "July",
          "August",
          "September",
          "October",
          "November",
          "December"
         ],
         "xaxis": "x5",
         "y": [
          null,
          null,
          7,
          21,
          10,
          22,
          7,
          null,
          2,
          null,
          null
         ],
         "yaxis": "y5"
        },
        {
         "name": "2014",
         "type": "bar",
         "x": [
          "January",
          "March",
          "April",
          "May",
          "June",
          "July",
          "August",
          "September",
          "October",
          "November",
          "December"
         ],
         "xaxis": "x5",
         "y": [
          null,
          null,
          null,
          null,
          null,
          null,
          null,
          1,
          null,
          null,
          null
         ],
         "yaxis": "y5"
        },
        {
         "name": "2015",
         "type": "bar",
         "x": [
          "January",
          "March",
          "April",
          "May",
          "June",
          "July",
          "August",
          "September",
          "October",
          "November",
          "December"
         ],
         "xaxis": "x5",
         "y": [
          null,
          null,
          null,
          2,
          21,
          null,
          4,
          null,
          null,
          null,
          null
         ],
         "yaxis": "y5"
        },
        {
         "name": "2016",
         "type": "bar",
         "x": [
          "January",
          "March",
          "April",
          "May",
          "June",
          "July",
          "August",
          "September",
          "October",
          "November",
          "December"
         ],
         "xaxis": "x5",
         "y": [
          null,
          null,
          null,
          1,
          null,
          14,
          3,
          null,
          null,
          null,
          null
         ],
         "yaxis": "y5"
        },
        {
         "name": "2017",
         "type": "bar",
         "x": [
          "January",
          "March",
          "April",
          "May",
          "June",
          "July",
          "August",
          "September",
          "October",
          "November",
          "December"
         ],
         "xaxis": "x5",
         "y": [
          null,
          null,
          null,
          18,
          22,
          20,
          8,
          4,
          4,
          6,
          null
         ],
         "yaxis": "y5"
        },
        {
         "name": "2018",
         "type": "bar",
         "x": [
          "January",
          "March",
          "April",
          "May",
          "June",
          "July",
          "August",
          "September",
          "October",
          "November",
          "December"
         ],
         "xaxis": "x5",
         "y": [
          null,
          null,
          12,
          41,
          18,
          19,
          24,
          14,
          3,
          null,
          null
         ],
         "yaxis": "y5"
        },
        {
         "name": "2019",
         "type": "bar",
         "x": [
          "January",
          "March",
          "April",
          "May",
          "June",
          "July",
          "August",
          "September",
          "October",
          "November",
          "December"
         ],
         "xaxis": "x5",
         "y": [
          null,
          6,
          1,
          44,
          8,
          11,
          16,
          11,
          2,
          null,
          null
         ],
         "yaxis": "y5"
        },
        {
         "name": "2020",
         "type": "bar",
         "x": [
          "January",
          "March",
          "April",
          "May",
          "June",
          "July",
          "August",
          "September",
          "October",
          "November",
          "December"
         ],
         "xaxis": "x5",
         "y": [
          null,
          null,
          12,
          17,
          6,
          25,
          27,
          5,
          null,
          4,
          1
         ],
         "yaxis": "y5"
        },
        {
         "name": "2021",
         "type": "bar",
         "x": [
          "January",
          "March",
          "April",
          "May",
          "June",
          "July",
          "August",
          "September",
          "October",
          "November",
          "December"
         ],
         "xaxis": "x5",
         "y": [
          null,
          null,
          null,
          null,
          null,
          null,
          null,
          null,
          null,
          null,
          null
         ],
         "yaxis": "y5"
        },
        {
         "name": "1990",
         "type": "bar",
         "x": [
          "January",
          "February",
          "April",
          "May",
          "June",
          "July",
          "August",
          "September",
          "October",
          "November",
          "December"
         ],
         "xaxis": "x6",
         "y": [
          null,
          null,
          null,
          10,
          98,
          113,
          13,
          2,
          null,
          null,
          null
         ],
         "yaxis": "y6"
        },
        {
         "name": "1991",
         "type": "bar",
         "x": [
          "January",
          "February",
          "April",
          "May",
          "June",
          "July",
          "August",
          "September",
          "October",
          "November",
          "December"
         ],
         "xaxis": "x6",
         "y": [
          null,
          null,
          null,
          5,
          59,
          149,
          117,
          1,
          null,
          null,
          null
         ],
         "yaxis": "y6"
        },
        {
         "name": "1992",
         "type": "bar",
         "x": [
          "January",
          "February",
          "April",
          "May",
          "June",
          "July",
          "August",
          "September",
          "October",
          "November",
          "December"
         ],
         "xaxis": "x6",
         "y": [
          null,
          null,
          null,
          9,
          31,
          130,
          100,
          15,
          null,
          null,
          null
         ],
         "yaxis": "y6"
        },
        {
         "name": "1993",
         "type": "bar",
         "x": [
          "January",
          "February",
          "April",
          "May",
          "June",
          "July",
          "August",
          "September",
          "October",
          "November",
          "December"
         ],
         "xaxis": "x6",
         "y": [
          null,
          null,
          null,
          13,
          175,
          249,
          30,
          4,
          null,
          null,
          2
         ],
         "yaxis": "y6"
        },
        {
         "name": "1994",
         "type": "bar",
         "x": [
          "January",
          "February",
          "April",
          "May",
          "June",
          "July",
          "August",
          "September",
          "October",
          "November",
          "December"
         ],
         "xaxis": "x6",
         "y": [
          2,
          1,
          1,
          37,
          185,
          326,
          78,
          13,
          8,
          1,
          1
         ],
         "yaxis": "y6"
        },
        {
         "name": "1995",
         "type": "bar",
         "x": [
          "January",
          "February",
          "April",
          "May",
          "June",
          "July",
          "August",
          "September",
          "October",
          "November",
          "December"
         ],
         "xaxis": "x6",
         "y": [
          null,
          null,
          1,
          24,
          79,
          56,
          47,
          7,
          1,
          3,
          null
         ],
         "yaxis": "y6"
        },
        {
         "name": "1996",
         "type": "bar",
         "x": [
          "January",
          "February",
          "April",
          "May",
          "June",
          "July",
          "August",
          "September",
          "October",
          "November",
          "December"
         ],
         "xaxis": "x6",
         "y": [
          null,
          null,
          1,
          11,
          182,
          134,
          22,
          null,
          null,
          null,
          null
         ],
         "yaxis": "y6"
        },
        {
         "name": "1997",
         "type": "bar",
         "x": [
          "January",
          "February",
          "April",
          "May",
          "June",
          "July",
          "August",
          "September",
          "October",
          "November",
          "December"
         ],
         "xaxis": "x6",
         "y": [
          null,
          null,
          null,
          1,
          17,
          74,
          10,
          3,
          null,
          null,
          null
         ],
         "yaxis": "y6"
        },
        {
         "name": "1998",
         "type": "bar",
         "x": [
          "January",
          "February",
          "April",
          "May",
          "June",
          "July",
          "August",
          "September",
          "October",
          "November",
          "December"
         ],
         "xaxis": "x6",
         "y": [
          null,
          null,
          null,
          24,
          76,
          228,
          69,
          2,
          null,
          null,
          null
         ],
         "yaxis": "y6"
        },
        {
         "name": "1999",
         "type": "bar",
         "x": [
          "January",
          "February",
          "April",
          "May",
          "June",
          "July",
          "August",
          "September",
          "October",
          "November",
          "December"
         ],
         "xaxis": "x6",
         "y": [
          null,
          null,
          1,
          3,
          70,
          39,
          53,
          6,
          null,
          null,
          null
         ],
         "yaxis": "y6"
        },
        {
         "name": "2000",
         "type": "bar",
         "x": [
          "January",
          "February",
          "April",
          "May",
          "June",
          "July",
          "August",
          "September",
          "October",
          "November",
          "December"
         ],
         "xaxis": "x6",
         "y": [
          null,
          null,
          null,
          5,
          90,
          144,
          36,
          null,
          null,
          null,
          null
         ],
         "yaxis": "y6"
        },
        {
         "name": "2001",
         "type": "bar",
         "x": [
          "January",
          "February",
          "April",
          "May",
          "June",
          "July",
          "August",
          "September",
          "October",
          "November",
          "December"
         ],
         "xaxis": "x6",
         "y": [
          null,
          null,
          null,
          null,
          49,
          71,
          6,
          2,
          null,
          null,
          null
         ],
         "yaxis": "y6"
        },
        {
         "name": "2002",
         "type": "bar",
         "x": [
          "January",
          "February",
          "April",
          "May",
          "June",
          "July",
          "August",
          "September",
          "October",
          "November",
          "December"
         ],
         "xaxis": "x6",
         "y": [
          null,
          null,
          null,
          2,
          38,
          41,
          4,
          null,
          null,
          null,
          null
         ],
         "yaxis": "y6"
        },
        {
         "name": "2003",
         "type": "bar",
         "x": [
          "January",
          "February",
          "April",
          "May",
          "June",
          "July",
          "August",
          "September",
          "October",
          "November",
          "December"
         ],
         "xaxis": "x6",
         "y": [
          null,
          null,
          null,
          6,
          48,
          86,
          19,
          1,
          null,
          null,
          null
         ],
         "yaxis": "y6"
        },
        {
         "name": "2004",
         "type": "bar",
         "x": [
          "January",
          "February",
          "April",
          "May",
          "June",
          "July",
          "August",
          "September",
          "October",
          "November",
          "December"
         ],
         "xaxis": "x6",
         "y": [
          null,
          null,
          null,
          3,
          51,
          206,
          27,
          9,
          2,
          1,
          null
         ],
         "yaxis": "y6"
        },
        {
         "name": "2005",
         "type": "bar",
         "x": [
          "January",
          "February",
          "April",
          "May",
          "June",
          "July",
          "August",
          "September",
          "October",
          "November",
          "December"
         ],
         "xaxis": "x6",
         "y": [
          null,
          null,
          null,
          15,
          43,
          194,
          5,
          3,
          1,
          null,
          null
         ],
         "yaxis": "y6"
        },
        {
         "name": "2006",
         "type": "bar",
         "x": [
          "January",
          "February",
          "April",
          "May",
          "June",
          "July",
          "August",
          "September",
          "October",
          "November",
          "December"
         ],
         "xaxis": "x6",
         "y": [
          null,
          null,
          null,
          1,
          34,
          59,
          63,
          9,
          1,
          null,
          null
         ],
         "yaxis": "y6"
        },
        {
         "name": "2007",
         "type": "bar",
         "x": [
          "January",
          "February",
          "April",
          "May",
          "June",
          "July",
          "August",
          "September",
          "October",
          "November",
          "December"
         ],
         "xaxis": "x6",
         "y": [
          null,
          null,
          null,
          2,
          79,
          89,
          14,
          null,
          null,
          null,
          null
         ],
         "yaxis": "y6"
        },
        {
         "name": "2008",
         "type": "bar",
         "x": [
          "January",
          "February",
          "April",
          "May",
          "June",
          "July",
          "August",
          "September",
          "October",
          "November",
          "December"
         ],
         "xaxis": "x6",
         "y": [
          null,
          null,
          null,
          8,
          61,
          85,
          86,
          null,
          null,
          null,
          null
         ],
         "yaxis": "y6"
        },
        {
         "name": "2009",
         "type": "bar",
         "x": [
          "January",
          "February",
          "April",
          "May",
          "June",
          "July",
          "August",
          "September",
          "October",
          "November",
          "December"
         ],
         "xaxis": "x6",
         "y": [
          1,
          1,
          1,
          4,
          15,
          10,
          13,
          1,
          null,
          null,
          null
         ],
         "yaxis": "y6"
        },
        {
         "name": "2010",
         "type": "bar",
         "x": [
          "January",
          "February",
          "April",
          "May",
          "June",
          "July",
          "August",
          "September",
          "October",
          "November",
          "December"
         ],
         "xaxis": "x6",
         "y": [
          null,
          null,
          null,
          5,
          81,
          121,
          13,
          4,
          null,
          null,
          null
         ],
         "yaxis": "y6"
        },
        {
         "name": "2011",
         "type": "bar",
         "x": [
          "January",
          "February",
          "April",
          "May",
          "June",
          "July",
          "August",
          "September",
          "October",
          "November",
          "December"
         ],
         "xaxis": "x6",
         "y": [
          null,
          null,
          null,
          14,
          78,
          85,
          22,
          2,
          null,
          null,
          null
         ],
         "yaxis": "y6"
        },
        {
         "name": "2012",
         "type": "bar",
         "x": [
          "January",
          "February",
          "April",
          "May",
          "June",
          "July",
          "August",
          "September",
          "October",
          "November",
          "December"
         ],
         "xaxis": "x6",
         "y": [
          null,
          null,
          null,
          12,
          76,
          148,
          43,
          10,
          null,
          null,
          null
         ],
         "yaxis": "y6"
        },
        {
         "name": "2013",
         "type": "bar",
         "x": [
          "January",
          "February",
          "April",
          "May",
          "June",
          "July",
          "August",
          "September",
          "October",
          "November",
          "December"
         ],
         "xaxis": "x6",
         "y": [
          null,
          null,
          null,
          4,
          152,
          77,
          19,
          5,
          null,
          null,
          null
         ],
         "yaxis": "y6"
        },
        {
         "name": "2014",
         "type": "bar",
         "x": [
          "January",
          "February",
          "April",
          "May",
          "June",
          "July",
          "August",
          "September",
          "October",
          "November",
          "December"
         ],
         "xaxis": "x6",
         "y": [
          null,
          null,
          1,
          4,
          118,
          188,
          77,
          null,
          null,
          null,
          null
         ],
         "yaxis": "y6"
        },
        {
         "name": "2015",
         "type": "bar",
         "x": [
          "January",
          "February",
          "April",
          "May",
          "June",
          "July",
          "August",
          "September",
          "October",
          "November",
          "December"
         ],
         "xaxis": "x6",
         "y": [
          null,
          null,
          null,
          60,
          125,
          41,
          27,
          null,
          null,
          4,
          null
         ],
         "yaxis": "y6"
        },
        {
         "name": "2016",
         "type": "bar",
         "x": [
          "January",
          "February",
          "April",
          "May",
          "June",
          "July",
          "August",
          "September",
          "October",
          "November",
          "December"
         ],
         "xaxis": "x6",
         "y": [
          null,
          null,
          null,
          3,
          58,
          112,
          20,
          null,
          null,
          null,
          null
         ],
         "yaxis": "y6"
        },
        {
         "name": "2017",
         "type": "bar",
         "x": [
          "January",
          "February",
          "April",
          "May",
          "June",
          "July",
          "August",
          "September",
          "October",
          "November",
          "December"
         ],
         "xaxis": "x6",
         "y": [
          null,
          null,
          null,
          22,
          33,
          123,
          77,
          13,
          null,
          null,
          null
         ],
         "yaxis": "y6"
        },
        {
         "name": "2018",
         "type": "bar",
         "x": [
          "January",
          "February",
          "April",
          "May",
          "June",
          "July",
          "August",
          "September",
          "October",
          "November",
          "December"
         ],
         "xaxis": "x6",
         "y": [
          null,
          null,
          null,
          4,
          14,
          35,
          7,
          2,
          null,
          1,
          null
         ],
         "yaxis": "y6"
        },
        {
         "name": "2019",
         "type": "bar",
         "x": [
          "January",
          "February",
          "April",
          "May",
          "June",
          "July",
          "August",
          "September",
          "October",
          "November",
          "December"
         ],
         "xaxis": "x6",
         "y": [
          null,
          null,
          6,
          8,
          32,
          88,
          11,
          null,
          1,
          1,
          null
         ],
         "yaxis": "y6"
        },
        {
         "name": "2020",
         "type": "bar",
         "x": [
          "January",
          "February",
          "April",
          "May",
          "June",
          "July",
          "August",
          "September",
          "October",
          "November",
          "December"
         ],
         "xaxis": "x6",
         "y": [
          null,
          null,
          null,
          1,
          47,
          15,
          7,
          null,
          null,
          null,
          null
         ],
         "yaxis": "y6"
        },
        {
         "name": "2021",
         "type": "bar",
         "x": [
          "January",
          "February",
          "April",
          "May",
          "June",
          "July",
          "August",
          "September",
          "October",
          "November",
          "December"
         ],
         "xaxis": "x6",
         "y": [
          null,
          null,
          null,
          null,
          null,
          null,
          null,
          null,
          null,
          null,
          null
         ],
         "yaxis": "y6"
        },
        {
         "name": "1990",
         "type": "bar",
         "x": [
          "January",
          "March",
          "April",
          "May",
          "June",
          "July",
          "August",
          "September",
          "October",
          "November"
         ],
         "xaxis": "x7",
         "y": [
          null,
          34,
          89,
          134,
          58,
          74,
          62,
          36,
          9,
          1
         ],
         "yaxis": "y7"
        },
        {
         "name": "1991",
         "type": "bar",
         "x": [
          "January",
          "March",
          "April",
          "May",
          "June",
          "July",
          "August",
          "September",
          "October",
          "November"
         ],
         "xaxis": "x7",
         "y": [
          null,
          26,
          208,
          174,
          145,
          162,
          10,
          null,
          1,
          null
         ],
         "yaxis": "y7"
        },
        {
         "name": "1992",
         "type": "bar",
         "x": [
          "January",
          "March",
          "April",
          "May",
          "June",
          "July",
          "August",
          "September",
          "October",
          "November"
         ],
         "xaxis": "x7",
         "y": [
          null,
          null,
          43,
          138,
          46,
          19,
          18,
          19,
          13,
          null
         ],
         "yaxis": "y7"
        },
        {
         "name": "1993",
         "type": "bar",
         "x": [
          "January",
          "March",
          "April",
          "May",
          "June",
          "July",
          "August",
          "September",
          "October",
          "November"
         ],
         "xaxis": "x7",
         "y": [
          null,
          null,
          78,
          110,
          20,
          21,
          43,
          26,
          4,
          null
         ],
         "yaxis": "y7"
        },
        {
         "name": "1994",
         "type": "bar",
         "x": [
          "January",
          "March",
          "April",
          "May",
          "June",
          "July",
          "August",
          "September",
          "October",
          "November"
         ],
         "xaxis": "x7",
         "y": [
          null,
          1,
          63,
          33,
          28,
          57,
          23,
          22,
          22,
          14
         ],
         "yaxis": "y7"
        },
        {
         "name": "1995",
         "type": "bar",
         "x": [
          "January",
          "March",
          "April",
          "May",
          "June",
          "July",
          "August",
          "September",
          "October",
          "November"
         ],
         "xaxis": "x7",
         "y": [
          null,
          28,
          80,
          145,
          49,
          26,
          36,
          37,
          4,
          2
         ],
         "yaxis": "y7"
        },
        {
         "name": "1996",
         "type": "bar",
         "x": [
          "January",
          "March",
          "April",
          "May",
          "June",
          "July",
          "August",
          "September",
          "October",
          "November"
         ],
         "xaxis": "x7",
         "y": [
          null,
          55,
          65,
          66,
          45,
          9,
          20,
          7,
          3,
          null
         ],
         "yaxis": "y7"
        },
        {
         "name": "1997",
         "type": "bar",
         "x": [
          "January",
          "March",
          "April",
          "May",
          "June",
          "July",
          "August",
          "September",
          "October",
          "November"
         ],
         "xaxis": "x7",
         "y": [
          null,
          1,
          44,
          77,
          35,
          108,
          59,
          16,
          30,
          null
         ],
         "yaxis": "y7"
        },
        {
         "name": "1998",
         "type": "bar",
         "x": [
          "January",
          "March",
          "April",
          "May",
          "June",
          "July",
          "August",
          "September",
          "October",
          "November"
         ],
         "xaxis": "x7",
         "y": [
          null,
          20,
          86,
          91,
          45,
          19,
          61,
          8,
          16,
          null
         ],
         "yaxis": "y7"
        },
        {
         "name": "1999",
         "type": "bar",
         "x": [
          "January",
          "March",
          "April",
          "May",
          "June",
          "July",
          "August",
          "September",
          "October",
          "November"
         ],
         "xaxis": "x7",
         "y": [
          null,
          23,
          78,
          129,
          97,
          89,
          24,
          14,
          3,
          7
         ],
         "yaxis": "y7"
        },
        {
         "name": "2000",
         "type": "bar",
         "x": [
          "January",
          "March",
          "April",
          "May",
          "June",
          "July",
          "August",
          "September",
          "October",
          "November"
         ],
         "xaxis": "x7",
         "y": [
          null,
          4,
          19,
          57,
          51,
          25,
          29,
          18,
          8,
          1
         ],
         "yaxis": "y7"
        },
        {
         "name": "2001",
         "type": "bar",
         "x": [
          "January",
          "March",
          "April",
          "May",
          "June",
          "July",
          "August",
          "September",
          "October",
          "November"
         ],
         "xaxis": "x7",
         "y": [
          null,
          4,
          36,
          139,
          31,
          67,
          129,
          47,
          28,
          8
         ],
         "yaxis": "y7"
        },
        {
         "name": "2002",
         "type": "bar",
         "x": [
          "January",
          "March",
          "April",
          "May",
          "June",
          "July",
          "August",
          "September",
          "October",
          "November"
         ],
         "xaxis": "x7",
         "y": [
          null,
          5,
          23,
          111,
          31,
          26,
          55,
          18,
          null,
          1
         ],
         "yaxis": "y7"
        },
        {
         "name": "2003",
         "type": "bar",
         "x": [
          "January",
          "March",
          "April",
          "May",
          "June",
          "July",
          "August",
          "September",
          "October",
          "November"
         ],
         "xaxis": "x7",
         "y": [
          null,
          2,
          75,
          100,
          28,
          30,
          16,
          13,
          8,
          null
         ],
         "yaxis": "y7"
        },
        {
         "name": "2004",
         "type": "bar",
         "x": [
          "January",
          "March",
          "April",
          "May",
          "June",
          "July",
          "August",
          "September",
          "October",
          "November"
         ],
         "xaxis": "x7",
         "y": [
          null,
          null,
          31,
          137,
          52,
          11,
          15,
          8,
          4,
          1
         ],
         "yaxis": "y7"
        },
        {
         "name": "2005",
         "type": "bar",
         "x": [
          "January",
          "March",
          "April",
          "May",
          "June",
          "July",
          "August",
          "September",
          "October",
          "November"
         ],
         "xaxis": "x7",
         "y": [
          null,
          3,
          155,
          12,
          39,
          15,
          41,
          22,
          2,
          null
         ],
         "yaxis": "y7"
        },
        {
         "name": "2006",
         "type": "bar",
         "x": [
          "January",
          "March",
          "April",
          "May",
          "June",
          "July",
          "August",
          "September",
          "October",
          "November"
         ],
         "xaxis": "x7",
         "y": [
          1,
          87,
          69,
          29,
          1,
          6,
          10,
          12,
          1,
          null
         ],
         "yaxis": "y7"
        },
        {
         "name": "2007",
         "type": "bar",
         "x": [
          "January",
          "March",
          "April",
          "May",
          "June",
          "July",
          "August",
          "September",
          "October",
          "November"
         ],
         "xaxis": "x7",
         "y": [
          null,
          18,
          148,
          165,
          16,
          15,
          19,
          2,
          3,
          1
         ],
         "yaxis": "y7"
        },
        {
         "name": "2008",
         "type": "bar",
         "x": [
          "January",
          "March",
          "April",
          "May",
          "June",
          "July",
          "August",
          "September",
          "October",
          "November"
         ],
         "xaxis": "x7",
         "y": [
          null,
          2,
          136,
          45,
          37,
          19,
          2,
          3,
          2,
          1
         ],
         "yaxis": "y7"
        },
        {
         "name": "2009",
         "type": "bar",
         "x": [
          "January",
          "March",
          "April",
          "May",
          "June",
          "July",
          "August",
          "September",
          "October",
          "November"
         ],
         "xaxis": "x7",
         "y": [
          null,
          4,
          104,
          46,
          8,
          7,
          14,
          7,
          null,
          null
         ],
         "yaxis": "y7"
        },
        {
         "name": "2010",
         "type": "bar",
         "x": [
          "January",
          "March",
          "April",
          "May",
          "June",
          "July",
          "August",
          "September",
          "October",
          "November"
         ],
         "xaxis": "x7",
         "y": [
          null,
          59,
          114,
          63,
          9,
          null,
          null,
          null,
          null,
          5
         ],
         "yaxis": "y7"
        },
        {
         "name": "2011",
         "type": "bar",
         "x": [
          "January",
          "March",
          "April",
          "May",
          "June",
          "July",
          "August",
          "September",
          "October",
          "November"
         ],
         "xaxis": "x7",
         "y": [
          null,
          20,
          62,
          9,
          6,
          8,
          7,
          2,
          null,
          null
         ],
         "yaxis": "y7"
        },
        {
         "name": "2012",
         "type": "bar",
         "x": [
          "January",
          "March",
          "April",
          "May",
          "June",
          "July",
          "August",
          "September",
          "October",
          "November"
         ],
         "xaxis": "x7",
         "y": [
          null,
          72,
          157,
          35,
          22,
          32,
          26,
          9,
          null,
          null
         ],
         "yaxis": "y7"
        },
        {
         "name": "2013",
         "type": "bar",
         "x": [
          "January",
          "March",
          "April",
          "May",
          "June",
          "July",
          "August",
          "September",
          "October",
          "November"
         ],
         "xaxis": "x7",
         "y": [
          null,
          3,
          59,
          85,
          2,
          6,
          17,
          2,
          null,
          null
         ],
         "yaxis": "y7"
        },
        {
         "name": "2014",
         "type": "bar",
         "x": [
          "January",
          "March",
          "April",
          "May",
          "June",
          "July",
          "August",
          "September",
          "October",
          "November"
         ],
         "xaxis": "x7",
         "y": [
          null,
          1,
          41,
          71,
          23,
          13,
          10,
          8,
          5,
          null
         ],
         "yaxis": "y7"
        },
        {
         "name": "2015",
         "type": "bar",
         "x": [
          "January",
          "March",
          "April",
          "May",
          "June",
          "July",
          "August",
          "September",
          "October",
          "November"
         ],
         "xaxis": "x7",
         "y": [
          null,
          null,
          1,
          204,
          6,
          12,
          8,
          18,
          null,
          null
         ],
         "yaxis": "y7"
        },
        {
         "name": "2016",
         "type": "bar",
         "x": [
          "January",
          "March",
          "April",
          "May",
          "June",
          "July",
          "August",
          "September",
          "October",
          "November"
         ],
         "xaxis": "x7",
         "y": [
          null,
          1,
          104,
          59,
          28,
          15,
          38,
          22,
          4,
          null
         ],
         "yaxis": "y7"
        },
        {
         "name": "2017",
         "type": "bar",
         "x": [
          "January",
          "March",
          "April",
          "May",
          "June",
          "July",
          "August",
          "September",
          "October",
          "November"
         ],
         "xaxis": "x7",
         "y": [
          null,
          null,
          82,
          44,
          11,
          12,
          15,
          7,
          5,
          1
         ],
         "yaxis": "y7"
        },
        {
         "name": "2018",
         "type": "bar",
         "x": [
          "January",
          "March",
          "April",
          "May",
          "June",
          "July",
          "August",
          "September",
          "October",
          "November"
         ],
         "xaxis": "x7",
         "y": [
          null,
          2,
          51,
          54,
          26,
          24,
          17,
          22,
          null,
          null
         ],
         "yaxis": "y7"
        },
        {
         "name": "2019",
         "type": "bar",
         "x": [
          "January",
          "March",
          "April",
          "May",
          "June",
          "July",
          "August",
          "September",
          "October",
          "November"
         ],
         "xaxis": "x7",
         "y": [
          null,
          17,
          16,
          45,
          13,
          7,
          34,
          9,
          2,
          null
         ],
         "yaxis": "y7"
        },
        {
         "name": "2020",
         "type": "bar",
         "x": [
          "January",
          "March",
          "April",
          "May",
          "June",
          "July",
          "August",
          "September",
          "October",
          "November"
         ],
         "xaxis": "x7",
         "y": [
          null,
          5,
          38,
          50,
          22,
          11,
          43,
          5,
          4,
          null
         ],
         "yaxis": "y7"
        },
        {
         "name": "2021",
         "type": "bar",
         "x": [
          "January",
          "March",
          "April",
          "May",
          "June",
          "July",
          "August",
          "September",
          "October",
          "November"
         ],
         "xaxis": "x7",
         "y": [
          null,
          null,
          null,
          null,
          null,
          null,
          null,
          null,
          null,
          null
         ],
         "yaxis": "y7"
        },
        {
         "name": "1990",
         "type": "bar",
         "x": [
          "January",
          "February",
          "March",
          "April",
          "May",
          "June",
          "July",
          "August",
          "September",
          "October",
          "November",
          "December"
         ],
         "xaxis": "x8",
         "y": [
          null,
          null,
          62,
          185,
          242,
          111,
          237,
          543,
          185,
          31,
          16,
          null
         ],
         "yaxis": "y8"
        },
        {
         "name": "1991",
         "type": "bar",
         "x": [
          "January",
          "February",
          "March",
          "April",
          "May",
          "June",
          "July",
          "August",
          "September",
          "October",
          "November",
          "December"
         ],
         "xaxis": "x8",
         "y": [
          null,
          null,
          12,
          210,
          231,
          415,
          586,
          944,
          138,
          11,
          12,
          1
         ],
         "yaxis": "y8"
        },
        {
         "name": "1992",
         "type": "bar",
         "x": [
          "January",
          "February",
          "March",
          "April",
          "May",
          "June",
          "July",
          "August",
          "September",
          "October",
          "November",
          "December"
         ],
         "xaxis": "x8",
         "y": [
          null,
          null,
          2,
          58,
          347,
          380,
          60,
          94,
          8,
          11,
          null,
          null
         ],
         "yaxis": "y8"
        },
        {
         "name": "1993",
         "type": "bar",
         "x": [
          "January",
          "February",
          "March",
          "April",
          "May",
          "June",
          "July",
          "August",
          "September",
          "October",
          "November",
          "December"
         ],
         "xaxis": "x8",
         "y": [
          null,
          null,
          1,
          112,
          171,
          129,
          158,
          144,
          11,
          10,
          4,
          2
         ],
         "yaxis": "y8"
        },
        {
         "name": "1994",
         "type": "bar",
         "x": [
          "January",
          "February",
          "March",
          "April",
          "May",
          "June",
          "July",
          "August",
          "September",
          "October",
          "November",
          "December"
         ],
         "xaxis": "x8",
         "y": [
          null,
          null,
          4,
          222,
          266,
          412,
          59,
          55,
          27,
          27,
          7,
          null
         ],
         "yaxis": "y8"
        },
        {
         "name": "1995",
         "type": "bar",
         "x": [
          "January",
          "February",
          "March",
          "April",
          "May",
          "June",
          "July",
          "August",
          "September",
          "October",
          "November",
          "December"
         ],
         "xaxis": "x8",
         "y": [
          null,
          null,
          137,
          128,
          230,
          900,
          150,
          442,
          125,
          36,
          2,
          null
         ],
         "yaxis": "y8"
        },
        {
         "name": "1996",
         "type": "bar",
         "x": [
          "January",
          "February",
          "March",
          "April",
          "May",
          "June",
          "July",
          "August",
          "September",
          "October",
          "November",
          "December"
         ],
         "xaxis": "x8",
         "y": [
          null,
          null,
          7,
          30,
          241,
          570,
          198,
          144,
          73,
          11,
          null,
          null
         ],
         "yaxis": "y8"
        },
        {
         "name": "1997",
         "type": "bar",
         "x": [
          "January",
          "February",
          "March",
          "April",
          "May",
          "June",
          "July",
          "August",
          "September",
          "October",
          "November",
          "December"
         ],
         "xaxis": "x8",
         "y": [
          null,
          null,
          null,
          136,
          180,
          425,
          371,
          423,
          90,
          18,
          1,
          null
         ],
         "yaxis": "y8"
        },
        {
         "name": "1998",
         "type": "bar",
         "x": [
          "January",
          "February",
          "March",
          "April",
          "May",
          "June",
          "July",
          "August",
          "September",
          "October",
          "November",
          "December"
         ],
         "xaxis": "x8",
         "y": [
          null,
          null,
          11,
          207,
          463,
          254,
          710,
          477,
          127,
          32,
          8,
          2
         ],
         "yaxis": "y8"
        },
        {
         "name": "1999",
         "type": "bar",
         "x": [
          "January",
          "February",
          "March",
          "April",
          "May",
          "June",
          "July",
          "August",
          "September",
          "October",
          "November",
          "December"
         ],
         "xaxis": "x8",
         "y": [
          null,
          1,
          6,
          146,
          234,
          154,
          217,
          196,
          64,
          4,
          3,
          null
         ],
         "yaxis": "y8"
        },
        {
         "name": "2000",
         "type": "bar",
         "x": [
          "January",
          "February",
          "March",
          "April",
          "May",
          "June",
          "July",
          "August",
          "September",
          "October",
          "November",
          "December"
         ],
         "xaxis": "x8",
         "y": [
          null,
          1,
          17,
          99,
          88,
          44,
          117,
          156,
          38,
          83,
          7,
          null
         ],
         "yaxis": "y8"
        },
        {
         "name": "2001",
         "type": "bar",
         "x": [
          "January",
          "February",
          "March",
          "April",
          "May",
          "June",
          "July",
          "August",
          "September",
          "October",
          "November",
          "December"
         ],
         "xaxis": "x8",
         "y": [
          1,
          null,
          1,
          52,
          115,
          267,
          373,
          666,
          109,
          10,
          2,
          null
         ],
         "yaxis": "y8"
        },
        {
         "name": "2002",
         "type": "bar",
         "x": [
          "January",
          "February",
          "March",
          "April",
          "May",
          "June",
          "July",
          "August",
          "September",
          "October",
          "November",
          "December"
         ],
         "xaxis": "x8",
         "y": [
          null,
          null,
          1,
          26,
          105,
          85,
          536,
          212,
          188,
          8,
          1,
          null
         ],
         "yaxis": "y8"
        },
        {
         "name": "2003",
         "type": "bar",
         "x": [
          "January",
          "February",
          "March",
          "April",
          "May",
          "June",
          "July",
          "August",
          "September",
          "October",
          "November",
          "December"
         ],
         "xaxis": "x8",
         "y": [
          28,
          25,
          37,
          95,
          121,
          288,
          133,
          204,
          31,
          18,
          23,
          40
         ],
         "yaxis": "y8"
        },
        {
         "name": "2004",
         "type": "bar",
         "x": [
          "January",
          "February",
          "March",
          "April",
          "May",
          "June",
          "July",
          "August",
          "September",
          "October",
          "November",
          "December"
         ],
         "xaxis": "x8",
         "y": [
          null,
          null,
          null,
          34,
          64,
          79,
          101,
          99,
          40,
          18,
          null,
          null
         ],
         "yaxis": "y8"
        },
        {
         "name": "2005",
         "type": "bar",
         "x": [
          "January",
          "February",
          "March",
          "April",
          "May",
          "June",
          "July",
          "August",
          "September",
          "October",
          "November",
          "December"
         ],
         "xaxis": "x8",
         "y": [
          null,
          null,
          null,
          86,
          159,
          194,
          602,
          708,
          212,
          14,
          3,
          null
         ],
         "yaxis": "y8"
        },
        {
         "name": "2006",
         "type": "bar",
         "x": [
          "January",
          "February",
          "March",
          "April",
          "May",
          "June",
          "July",
          "August",
          "September",
          "October",
          "November",
          "December"
         ],
         "xaxis": "x8",
         "y": [
          1,
          null,
          3,
          83,
          150,
          273,
          597,
          503,
          660,
          19,
          2,
          null
         ],
         "yaxis": "y8"
        },
        {
         "name": "2007",
         "type": "bar",
         "x": [
          "January",
          "February",
          "March",
          "April",
          "May",
          "June",
          "July",
          "August",
          "September",
          "October",
          "November",
          "December"
         ],
         "xaxis": "x8",
         "y": [
          null,
          2,
          15,
          105,
          235,
          92,
          201,
          423,
          49,
          5,
          1,
          null
         ],
         "yaxis": "y8"
        },
        {
         "name": "2008",
         "type": "bar",
         "x": [
          "January",
          "February",
          "March",
          "April",
          "May",
          "June",
          "July",
          "August",
          "September",
          "October",
          "November",
          "December"
         ],
         "xaxis": "x8",
         "y": [
          null,
          null,
          null,
          29,
          79,
          34,
          35,
          132,
          23,
          9,
          1,
          null
         ],
         "yaxis": "y8"
        },
        {
         "name": "2009",
         "type": "bar",
         "x": [
          "January",
          "February",
          "March",
          "April",
          "May",
          "June",
          "July",
          "August",
          "September",
          "October",
          "November",
          "December"
         ],
         "xaxis": "x8",
         "y": [
          1,
          null,
          null,
          24,
          110,
          140,
          42,
          20,
          46,
          6,
          null,
          null
         ],
         "yaxis": "y8"
        },
        {
         "name": "2010",
         "type": "bar",
         "x": [
          "January",
          "February",
          "March",
          "April",
          "May",
          "June",
          "July",
          "August",
          "September",
          "October",
          "November",
          "December"
         ],
         "xaxis": "x8",
         "y": [
          null,
          null,
          34,
          199,
          334,
          83,
          166,
          80,
          12,
          23,
          2,
          null
         ],
         "yaxis": "y8"
        },
        {
         "name": "2011",
         "type": "bar",
         "x": [
          "January",
          "February",
          "March",
          "April",
          "May",
          "June",
          "July",
          "August",
          "September",
          "October",
          "November",
          "December"
         ],
         "xaxis": "x8",
         "y": [
          null,
          null,
          null,
          30,
          145,
          129,
          398,
          401,
          171,
          58,
          4,
          3
         ],
         "yaxis": "y8"
        },
        {
         "name": "2012",
         "type": "bar",
         "x": [
          "January",
          "February",
          "March",
          "April",
          "May",
          "June",
          "July",
          "August",
          "September",
          "October",
          "November",
          "December"
         ],
         "xaxis": "x8",
         "y": [
          1,
          null,
          16,
          136,
          276,
          125,
          710,
          181,
          175,
          13,
          2,
          null
         ],
         "yaxis": "y8"
        },
        {
         "name": "2013",
         "type": "bar",
         "x": [
          "January",
          "February",
          "March",
          "April",
          "May",
          "June",
          "July",
          "August",
          "September",
          "October",
          "November",
          "December"
         ],
         "xaxis": "x8",
         "y": [
          null,
          null,
          null,
          19,
          140,
          122,
          168,
          105,
          20,
          8,
          null,
          null
         ],
         "yaxis": "y8"
        },
        {
         "name": "2014",
         "type": "bar",
         "x": [
          "January",
          "February",
          "March",
          "April",
          "May",
          "June",
          "July",
          "August",
          "September",
          "October",
          "November",
          "December"
         ],
         "xaxis": "x8",
         "y": [
          null,
          null,
          1,
          5,
          54,
          73,
          86,
          77,
          7,
          6,
          null,
          null
         ],
         "yaxis": "y8"
        },
        {
         "name": "2015",
         "type": "bar",
         "x": [
          "January",
          "February",
          "March",
          "April",
          "May",
          "June",
          "July",
          "August",
          "September",
          "October",
          "November",
          "December"
         ],
         "xaxis": "x8",
         "y": [
          null,
          null,
          2,
          64,
          126,
          132,
          165,
          116,
          55,
          14,
          null,
          1
         ],
         "yaxis": "y8"
        },
        {
         "name": "2016",
         "type": "bar",
         "x": [
          "January",
          "February",
          "March",
          "April",
          "May",
          "June",
          "July",
          "August",
          "September",
          "October",
          "November",
          "December"
         ],
         "xaxis": "x8",
         "y": [
          null,
          null,
          5,
          38,
          176,
          141,
          147,
          113,
          22,
          11,
          4,
          null
         ],
         "yaxis": "y8"
        },
        {
         "name": "2017",
         "type": "bar",
         "x": [
          "January",
          "February",
          "March",
          "April",
          "May",
          "June",
          "July",
          "August",
          "September",
          "October",
          "November",
          "December"
         ],
         "xaxis": "x8",
         "y": [
          null,
          1,
          4,
          23,
          46,
          40,
          230,
          369,
          38,
          30,
          null,
          null
         ],
         "yaxis": "y8"
        },
        {
         "name": "2018",
         "type": "bar",
         "x": [
          "January",
          "February",
          "March",
          "April",
          "May",
          "June",
          "July",
          "August",
          "September",
          "October",
          "November",
          "December"
         ],
         "xaxis": "x8",
         "y": [
          null,
          null,
          5,
          18,
          191,
          245,
          524,
          300,
          55,
          null,
          null,
          1
         ],
         "yaxis": "y8"
        },
        {
         "name": "2019",
         "type": "bar",
         "x": [
          "January",
          "February",
          "March",
          "April",
          "May",
          "June",
          "July",
          "August",
          "September",
          "October",
          "November",
          "December"
         ],
         "xaxis": "x8",
         "y": [
          null,
          null,
          2,
          19,
          58,
          103,
          152,
          193,
          10,
          4,
          null,
          null
         ],
         "yaxis": "y8"
        },
        {
         "name": "2020",
         "type": "bar",
         "x": [
          "January",
          "February",
          "March",
          "April",
          "May",
          "June",
          "July",
          "August",
          "September",
          "October",
          "November",
          "December"
         ],
         "xaxis": "x8",
         "y": [
          null,
          null,
          2,
          22,
          86,
          70,
          303,
          115,
          13,
          3,
          null,
          null
         ],
         "yaxis": "y8"
        },
        {
         "name": "2021",
         "type": "bar",
         "x": [
          "January",
          "February",
          "March",
          "April",
          "May",
          "June",
          "July",
          "August",
          "September",
          "October",
          "November",
          "December"
         ],
         "xaxis": "x8",
         "y": [
          null,
          null,
          null,
          null,
          null,
          null,
          null,
          null,
          null,
          null,
          null,
          null
         ],
         "yaxis": "y8"
        },
        {
         "name": "1990",
         "type": "bar",
         "x": [
          "January",
          "February",
          "March",
          "April",
          "May",
          "June",
          "July",
          "August",
          "September",
          "October",
          "November",
          "December"
         ],
         "xaxis": "x9",
         "y": [
          0,
          0,
          0,
          7,
          13,
          8,
          6,
          1,
          1,
          0,
          2,
          0
         ],
         "yaxis": "y9"
        },
        {
         "name": "1991",
         "type": "bar",
         "x": [
          "January",
          "February",
          "March",
          "April",
          "May",
          "June",
          "July",
          "August",
          "September",
          "October",
          "November",
          "December"
         ],
         "xaxis": "x9",
         "y": [
          0,
          0,
          2,
          17,
          16,
          8,
          3,
          2,
          0,
          0,
          0,
          0
         ],
         "yaxis": "y9"
        },
        {
         "name": "1992",
         "type": "bar",
         "x": [
          "January",
          "February",
          "March",
          "April",
          "May",
          "June",
          "July",
          "August",
          "September",
          "October",
          "November",
          "December"
         ],
         "xaxis": "x9",
         "y": [
          0,
          0,
          0,
          7,
          14,
          3,
          0,
          0,
          2,
          1,
          0,
          0
         ],
         "yaxis": "y9"
        },
        {
         "name": "1993",
         "type": "bar",
         "x": [
          "January",
          "February",
          "March",
          "April",
          "May",
          "June",
          "July",
          "August",
          "September",
          "October",
          "November",
          "December"
         ],
         "xaxis": "x9",
         "y": [
          0,
          0,
          0,
          0,
          26,
          2,
          0,
          0,
          1,
          0,
          0,
          0
         ],
         "yaxis": "y9"
        },
        {
         "name": "1994",
         "type": "bar",
         "x": [
          "January",
          "February",
          "March",
          "April",
          "May",
          "June",
          "July",
          "August",
          "September",
          "October",
          "November",
          "December"
         ],
         "xaxis": "x9",
         "y": [
          0,
          0,
          0,
          12,
          3,
          3,
          4,
          7,
          3,
          4,
          7,
          0
         ],
         "yaxis": "y9"
        },
        {
         "name": "1995",
         "type": "bar",
         "x": [
          "January",
          "February",
          "March",
          "April",
          "May",
          "June",
          "July",
          "August",
          "September",
          "October",
          "November",
          "December"
         ],
         "xaxis": "x9",
         "y": [
          0,
          0,
          0,
          0,
          11,
          2,
          3,
          7,
          4,
          2,
          0,
          0
         ],
         "yaxis": "y9"
        },
        {
         "name": "1996",
         "type": "bar",
         "x": [
          "January",
          "February",
          "March",
          "April",
          "May",
          "June",
          "July",
          "August",
          "September",
          "October",
          "November",
          "December"
         ],
         "xaxis": "x9",
         "y": [
          0,
          0,
          0,
          0,
          0,
          0,
          0,
          0,
          0,
          0,
          0,
          0
         ],
         "yaxis": "y9"
        },
        {
         "name": "1997",
         "type": "bar",
         "x": [
          "January",
          "February",
          "March",
          "April",
          "May",
          "June",
          "July",
          "August",
          "September",
          "October",
          "November",
          "December"
         ],
         "xaxis": "x9",
         "y": [
          0,
          0,
          null,
          2,
          20,
          7,
          2,
          2,
          null,
          1,
          null,
          0
         ],
         "yaxis": "y9"
        },
        {
         "name": "1998",
         "type": "bar",
         "x": [
          "January",
          "February",
          "March",
          "April",
          "May",
          "June",
          "July",
          "August",
          "September",
          "October",
          "November",
          "December"
         ],
         "xaxis": "x9",
         "y": [
          0,
          0,
          null,
          1,
          14,
          2,
          3,
          6,
          null,
          1,
          null,
          0
         ],
         "yaxis": "y9"
        },
        {
         "name": "1999",
         "type": "bar",
         "x": [
          "January",
          "February",
          "March",
          "April",
          "May",
          "June",
          "July",
          "August",
          "September",
          "October",
          "November",
          "December"
         ],
         "xaxis": "x9",
         "y": [
          0,
          0,
          1,
          2,
          13,
          3,
          6,
          0,
          6,
          2,
          1,
          0
         ],
         "yaxis": "y9"
        },
        {
         "name": "2000",
         "type": "bar",
         "x": [
          "January",
          "February",
          "March",
          "April",
          "May",
          "June",
          "July",
          "August",
          "September",
          "October",
          "November",
          "December"
         ],
         "xaxis": "x9",
         "y": [
          null,
          null,
          null,
          null,
          null,
          null,
          null,
          null,
          null,
          null,
          null,
          null
         ],
         "yaxis": "y9"
        },
        {
         "name": "2001",
         "type": "bar",
         "x": [
          "January",
          "February",
          "March",
          "April",
          "May",
          "June",
          "July",
          "August",
          "September",
          "October",
          "November",
          "December"
         ],
         "xaxis": "x9",
         "y": [
          0,
          0,
          0,
          0,
          7,
          3,
          6,
          13,
          6,
          10,
          1,
          0
         ],
         "yaxis": "y9"
        },
        {
         "name": "2002",
         "type": "bar",
         "x": [
          "January",
          "February",
          "March",
          "April",
          "May",
          "June",
          "July",
          "August",
          "September",
          "October",
          "November",
          "December"
         ],
         "xaxis": "x9",
         "y": [
          0,
          0,
          0,
          2,
          13,
          0,
          6,
          4,
          3,
          1,
          0,
          0
         ],
         "yaxis": "y9"
        },
        {
         "name": "2003",
         "type": "bar",
         "x": [
          "January",
          "February",
          "March",
          "April",
          "May",
          "June",
          "July",
          "August",
          "September",
          "October",
          "November",
          "December"
         ],
         "xaxis": "x9",
         "y": [
          0,
          0,
          0,
          2,
          7,
          0,
          0,
          1,
          2,
          1,
          1,
          0
         ],
         "yaxis": "y9"
        },
        {
         "name": "2004",
         "type": "bar",
         "x": [
          "January",
          "February",
          "March",
          "April",
          "May",
          "June",
          "July",
          "August",
          "September",
          "October",
          "November",
          "December"
         ],
         "xaxis": "x9",
         "y": [
          0,
          0,
          0,
          1,
          14,
          3,
          0,
          1,
          0,
          1,
          0,
          0
         ],
         "yaxis": "y9"
        },
        {
         "name": "2005",
         "type": "bar",
         "x": [
          "January",
          "February",
          "March",
          "April",
          "May",
          "June",
          "July",
          "August",
          "September",
          "October",
          "November",
          "December"
         ],
         "xaxis": "x9",
         "y": [
          0,
          0,
          0,
          8,
          1,
          1,
          0,
          1,
          0,
          0,
          1,
          1
         ],
         "yaxis": "y9"
        },
        {
         "name": "2006",
         "type": "bar",
         "x": [
          "January",
          "February",
          "March",
          "April",
          "May",
          "June",
          "July",
          "August",
          "September",
          "October",
          "November",
          "December"
         ],
         "xaxis": "x9",
         "y": [
          0,
          0,
          9,
          10,
          13,
          2,
          0,
          1,
          0,
          0,
          1,
          0
         ],
         "yaxis": "y9"
        },
        {
         "name": "2007",
         "type": "bar",
         "x": [
          "January",
          "February",
          "March",
          "April",
          "May",
          "June",
          "July",
          "August",
          "September",
          "October",
          "November",
          "December"
         ],
         "xaxis": "x9",
         "y": [
          0,
          1,
          0,
          4,
          4,
          0,
          0,
          0,
          0,
          0,
          0,
          0
         ],
         "yaxis": "y9"
        },
        {
         "name": "2008",
         "type": "bar",
         "x": [
          "January",
          "February",
          "March",
          "April",
          "May",
          "June",
          "July",
          "August",
          "September",
          "October",
          "November",
          "December"
         ],
         "xaxis": "x9",
         "y": [
          0,
          0,
          0,
          0,
          0,
          0,
          4,
          0,
          0,
          0,
          0,
          0
         ],
         "yaxis": "y9"
        },
        {
         "name": "2009",
         "type": "bar",
         "x": [
          "January",
          "February",
          "March",
          "April",
          "May",
          "June",
          "July",
          "August",
          "September",
          "October",
          "November",
          "December"
         ],
         "xaxis": "x9",
         "y": [
          0,
          0,
          0,
          3,
          5,
          0,
          0,
          0,
          0,
          0,
          0,
          0
         ],
         "yaxis": "y9"
        },
        {
         "name": "2010",
         "type": "bar",
         "x": [
          "January",
          "February",
          "March",
          "April",
          "May",
          "June",
          "July",
          "August",
          "September",
          "October",
          "November",
          "December"
         ],
         "xaxis": "x9",
         "y": [
          0,
          0,
          0,
          1,
          3,
          0,
          0,
          0,
          0,
          0,
          0,
          0
         ],
         "yaxis": "y9"
        },
        {
         "name": "2011",
         "type": "bar",
         "x": [
          "January",
          "February",
          "March",
          "April",
          "May",
          "June",
          "July",
          "August",
          "September",
          "October",
          "November",
          "December"
         ],
         "xaxis": "x9",
         "y": [
          0,
          0,
          0,
          2,
          1,
          0,
          0,
          0,
          1,
          0,
          0,
          0
         ],
         "yaxis": "y9"
        },
        {
         "name": "2012",
         "type": "bar",
         "x": [
          "January",
          "February",
          "March",
          "April",
          "May",
          "June",
          "July",
          "August",
          "September",
          "October",
          "November",
          "December"
         ],
         "xaxis": "x9",
         "y": [
          0,
          0,
          0,
          2,
          3,
          1,
          1,
          1,
          0,
          0,
          0,
          0
         ],
         "yaxis": "y9"
        },
        {
         "name": "2013",
         "type": "bar",
         "x": [
          "January",
          "February",
          "March",
          "April",
          "May",
          "June",
          "July",
          "August",
          "September",
          "October",
          "November",
          "December"
         ],
         "xaxis": "x9",
         "y": [
          0,
          0,
          0,
          4,
          1,
          1,
          1,
          1,
          0,
          0,
          0,
          0
         ],
         "yaxis": "y9"
        },
        {
         "name": "2014",
         "type": "bar",
         "x": [
          "January",
          "February",
          "March",
          "April",
          "May",
          "June",
          "July",
          "August",
          "September",
          "October",
          "November",
          "December"
         ],
         "xaxis": "x9",
         "y": [
          null,
          null,
          null,
          null,
          1,
          2,
          null,
          null,
          1,
          null,
          null,
          null
         ],
         "yaxis": "y9"
        },
        {
         "name": "2015",
         "type": "bar",
         "x": [
          "January",
          "February",
          "March",
          "April",
          "May",
          "June",
          "July",
          "August",
          "September",
          "October",
          "November",
          "December"
         ],
         "xaxis": "x9",
         "y": [
          null,
          null,
          null,
          null,
          null,
          null,
          null,
          null,
          null,
          null,
          null,
          null
         ],
         "yaxis": "y9"
        },
        {
         "name": "2016",
         "type": "bar",
         "x": [
          "January",
          "February",
          "March",
          "April",
          "May",
          "June",
          "July",
          "August",
          "September",
          "October",
          "November",
          "December"
         ],
         "xaxis": "x9",
         "y": [
          0,
          0,
          0,
          5,
          2,
          0,
          0,
          0,
          1,
          0,
          0,
          0
         ],
         "yaxis": "y9"
        },
        {
         "name": "2017",
         "type": "bar",
         "x": [
          "January",
          "February",
          "March",
          "April",
          "May",
          "June",
          "July",
          "August",
          "September",
          "October",
          "November",
          "December"
         ],
         "xaxis": "x9",
         "y": [
          0,
          0,
          0,
          0,
          0,
          0,
          0,
          0,
          0,
          0,
          0,
          0
         ],
         "yaxis": "y9"
        },
        {
         "name": "2018",
         "type": "bar",
         "x": [
          "January",
          "February",
          "March",
          "April",
          "May",
          "June",
          "July",
          "August",
          "September",
          "October",
          "November",
          "December"
         ],
         "xaxis": "x9",
         "y": [
          null,
          null,
          null,
          null,
          7,
          null,
          null,
          null,
          1,
          null,
          null,
          null
         ],
         "yaxis": "y9"
        },
        {
         "name": "2019",
         "type": "bar",
         "x": [
          "January",
          "February",
          "March",
          "April",
          "May",
          "June",
          "July",
          "August",
          "September",
          "October",
          "November",
          "December"
         ],
         "xaxis": "x9",
         "y": [
          null,
          null,
          null,
          1,
          null,
          null,
          null,
          1,
          null,
          null,
          null,
          1
         ],
         "yaxis": "y9"
        },
        {
         "name": "2020",
         "type": "bar",
         "x": [
          "January",
          "February",
          "March",
          "April",
          "May",
          "June",
          "July",
          "August",
          "September",
          "October",
          "November",
          "December"
         ],
         "xaxis": "x9",
         "y": [
          null,
          null,
          null,
          null,
          null,
          null,
          null,
          null,
          null,
          null,
          null,
          null
         ],
         "yaxis": "y9"
        },
        {
         "name": "2021",
         "type": "bar",
         "x": [
          "January",
          "February",
          "March",
          "April",
          "May",
          "June",
          "July",
          "August",
          "September",
          "October",
          "November",
          "December"
         ],
         "xaxis": "x9",
         "y": [
          null,
          null,
          null,
          null,
          null,
          null,
          null,
          null,
          null,
          null,
          null,
          null
         ],
         "yaxis": "y9"
        },
        {
         "name": "1990",
         "type": "bar",
         "x": [
          "February",
          "March",
          "April",
          "May",
          "June",
          "July",
          "August",
          "September",
          "October",
          "November",
          "December"
         ],
         "xaxis": "x10",
         "y": [
          null,
          1,
          59,
          214,
          139,
          178,
          138,
          118,
          4,
          null,
          null
         ],
         "yaxis": "y10"
        },
        {
         "name": "1991",
         "type": "bar",
         "x": [
          "February",
          "March",
          "April",
          "May",
          "June",
          "July",
          "August",
          "September",
          "October",
          "November",
          "December"
         ],
         "xaxis": "x10",
         "y": [
          null,
          1,
          64,
          220,
          408,
          318,
          162,
          32,
          6,
          5,
          null
         ],
         "yaxis": "y10"
        },
        {
         "name": "1992",
         "type": "bar",
         "x": [
          "February",
          "March",
          "April",
          "May",
          "June",
          "July",
          "August",
          "September",
          "October",
          "November",
          "December"
         ],
         "xaxis": "x10",
         "y": [
          null,
          null,
          44,
          405,
          180,
          54,
          59,
          14,
          7,
          2,
          null
         ],
         "yaxis": "y10"
        },
        {
         "name": "1993",
         "type": "bar",
         "x": [
          "February",
          "March",
          "April",
          "May",
          "June",
          "July",
          "August",
          "September",
          "October",
          "November",
          "December"
         ],
         "xaxis": "x10",
         "y": [
          null,
          null,
          32,
          188,
          98,
          129,
          81,
          10,
          4,
          1,
          null
         ],
         "yaxis": "y10"
        },
        {
         "name": "1994",
         "type": "bar",
         "x": [
          "February",
          "March",
          "April",
          "May",
          "June",
          "July",
          "August",
          "September",
          "October",
          "November",
          "December"
         ],
         "xaxis": "x10",
         "y": [
          null,
          null,
          15,
          218,
          139,
          27,
          30,
          17,
          46,
          7,
          null
         ],
         "yaxis": "y10"
        },
        {
         "name": "1995",
         "type": "bar",
         "x": [
          "February",
          "March",
          "April",
          "May",
          "June",
          "July",
          "August",
          "September",
          "October",
          "November",
          "December"
         ],
         "xaxis": "x10",
         "y": [
          null,
          9,
          33,
          139,
          470,
          170,
          367,
          53,
          23,
          1,
          null
         ],
         "yaxis": "y10"
        },
        {
         "name": "1996",
         "type": "bar",
         "x": [
          "February",
          "March",
          "April",
          "May",
          "June",
          "July",
          "August",
          "September",
          "October",
          "November",
          "December"
         ],
         "xaxis": "x10",
         "y": [
          null,
          null,
          5,
          163,
          706,
          55,
          209,
          92,
          19,
          1,
          null
         ],
         "yaxis": "y10"
        },
        {
         "name": "1997",
         "type": "bar",
         "x": [
          "February",
          "March",
          "April",
          "May",
          "June",
          "July",
          "August",
          "September",
          "October",
          "November",
          "December"
         ],
         "xaxis": "x10",
         "y": [
          null,
          null,
          21,
          63,
          436,
          143,
          146,
          22,
          44,
          1,
          null
         ],
         "yaxis": "y10"
        },
        {
         "name": "1998",
         "type": "bar",
         "x": [
          "February",
          "March",
          "April",
          "May",
          "June",
          "July",
          "August",
          "September",
          "October",
          "November",
          "December"
         ],
         "xaxis": "x10",
         "y": [
          null,
          null,
          115,
          279,
          112,
          106,
          171,
          34,
          29,
          8,
          null
         ],
         "yaxis": "y10"
        },
        {
         "name": "1999",
         "type": "bar",
         "x": [
          "February",
          "March",
          "April",
          "May",
          "June",
          "July",
          "August",
          "September",
          "October",
          "November",
          "December"
         ],
         "xaxis": "x10",
         "y": [
          null,
          null,
          92,
          311,
          197,
          140,
          165,
          120,
          5,
          7,
          null
         ],
         "yaxis": "y10"
        },
        {
         "name": "2000",
         "type": "bar",
         "x": [
          "February",
          "March",
          "April",
          "May",
          "June",
          "July",
          "August",
          "September",
          "October",
          "November",
          "December"
         ],
         "xaxis": "x10",
         "y": [
          null,
          1,
          80,
          100,
          74,
          137,
          52,
          44,
          25,
          4,
          null
         ],
         "yaxis": "y10"
        },
        {
         "name": "2001",
         "type": "bar",
         "x": [
          "February",
          "March",
          "April",
          "May",
          "June",
          "July",
          "August",
          "September",
          "October",
          "November",
          "December"
         ],
         "xaxis": "x10",
         "y": [
          null,
          null,
          98,
          296,
          127,
          109,
          324,
          41,
          8,
          2,
          null
         ],
         "yaxis": "y10"
        },
        {
         "name": "2002",
         "type": "bar",
         "x": [
          "February",
          "March",
          "April",
          "May",
          "June",
          "July",
          "August",
          "September",
          "October",
          "November",
          "December"
         ],
         "xaxis": "x10",
         "y": [
          1,
          1,
          53,
          128,
          84,
          249,
          166,
          205,
          11,
          1,
          null
         ],
         "yaxis": "y10"
        },
        {
         "name": "2003",
         "type": "bar",
         "x": [
          "February",
          "March",
          "April",
          "May",
          "June",
          "July",
          "August",
          "September",
          "October",
          "November",
          "December"
         ],
         "xaxis": "x10",
         "y": [
          null,
          null,
          39,
          254,
          193,
          78,
          91,
          53,
          12,
          null,
          null
         ],
         "yaxis": "y10"
        },
        {
         "name": "2004",
         "type": "bar",
         "x": [
          "February",
          "March",
          "April",
          "May",
          "June",
          "July",
          "August",
          "September",
          "October",
          "November",
          "December"
         ],
         "xaxis": "x10",
         "y": [
          null,
          null,
          32,
          82,
          77,
          39,
          26,
          36,
          29,
          1,
          null
         ],
         "yaxis": "y10"
        },
        {
         "name": "2005",
         "type": "bar",
         "x": [
          "February",
          "March",
          "April",
          "May",
          "June",
          "July",
          "August",
          "September",
          "October",
          "November",
          "December"
         ],
         "xaxis": "x10",
         "y": [
          null,
          null,
          104,
          259,
          160,
          431,
          313,
          104,
          3,
          1,
          null
         ],
         "yaxis": "y10"
        },
        {
         "name": "2006",
         "type": "bar",
         "x": [
          "February",
          "March",
          "April",
          "May",
          "June",
          "July",
          "August",
          "September",
          "October",
          "November",
          "December"
         ],
         "xaxis": "x10",
         "y": [
          null,
          1,
          92,
          106,
          256,
          129,
          49,
          42,
          8,
          1,
          null
         ],
         "yaxis": "y10"
        },
        {
         "name": "2007",
         "type": "bar",
         "x": [
          "February",
          "March",
          "April",
          "May",
          "June",
          "July",
          "August",
          "September",
          "October",
          "November",
          "December"
         ],
         "xaxis": "x10",
         "y": [
          null,
          null,
          37,
          271,
          319,
          63,
          192,
          26,
          28,
          3,
          null
         ],
         "yaxis": "y10"
        },
        {
         "name": "2008",
         "type": "bar",
         "x": [
          "February",
          "March",
          "April",
          "May",
          "June",
          "July",
          "August",
          "September",
          "October",
          "November",
          "December"
         ],
         "xaxis": "x10",
         "y": [
          null,
          null,
          33,
          77,
          36,
          18,
          35,
          12,
          9,
          2,
          null
         ],
         "yaxis": "y10"
        },
        {
         "name": "2009",
         "type": "bar",
         "x": [
          "February",
          "March",
          "April",
          "May",
          "June",
          "July",
          "August",
          "September",
          "October",
          "November",
          "December"
         ],
         "xaxis": "x10",
         "y": [
          null,
          1,
          105,
          94,
          195,
          21,
          26,
          32,
          2,
          7,
          null
         ],
         "yaxis": "y10"
        },
        {
         "name": "2010",
         "type": "bar",
         "x": [
          "February",
          "March",
          "April",
          "May",
          "June",
          "July",
          "August",
          "September",
          "October",
          "November",
          "December"
         ],
         "xaxis": "x10",
         "y": [
          null,
          11,
          108,
          251,
          154,
          89,
          95,
          21,
          7,
          4,
          null
         ],
         "yaxis": "y10"
        },
        {
         "name": "2011",
         "type": "bar",
         "x": [
          "February",
          "March",
          "April",
          "May",
          "June",
          "July",
          "August",
          "September",
          "October",
          "November",
          "December"
         ],
         "xaxis": "x10",
         "y": [
          null,
          null,
          4,
          63,
          75,
          71,
          58,
          29,
          26,
          5,
          null
         ],
         "yaxis": "y10"
        },
        {
         "name": "2012",
         "type": "bar",
         "x": [
          "February",
          "March",
          "April",
          "May",
          "June",
          "July",
          "August",
          "September",
          "October",
          "November",
          "December"
         ],
         "xaxis": "x10",
         "y": [
          null,
          14,
          113,
          181,
          94,
          268,
          86,
          32,
          7,
          3,
          null
         ],
         "yaxis": "y10"
        },
        {
         "name": "2013",
         "type": "bar",
         "x": [
          "February",
          "March",
          "April",
          "May",
          "June",
          "July",
          "August",
          "September",
          "October",
          "November",
          "December"
         ],
         "xaxis": "x10",
         "y": [
          null,
          null,
          64,
          164,
          89,
          138,
          40,
          15,
          15,
          3,
          null
         ],
         "yaxis": "y10"
        },
        {
         "name": "2014",
         "type": "bar",
         "x": [
          "February",
          "March",
          "April",
          "May",
          "June",
          "July",
          "August",
          "September",
          "October",
          "November",
          "December"
         ],
         "xaxis": "x10",
         "y": [
          null,
          null,
          14,
          57,
          72,
          66,
          67,
          11,
          5,
          4,
          null
         ],
         "yaxis": "y10"
        },
        {
         "name": "2015",
         "type": "bar",
         "x": [
          "February",
          "March",
          "April",
          "May",
          "June",
          "July",
          "August",
          "September",
          "October",
          "November",
          "December"
         ],
         "xaxis": "x10",
         "y": [
          null,
          null,
          29,
          213,
          46,
          40,
          30,
          21,
          9,
          3,
          1
         ],
         "yaxis": "y10"
        },
        {
         "name": "2016",
         "type": "bar",
         "x": [
          "February",
          "March",
          "April",
          "May",
          "June",
          "July",
          "August",
          "September",
          "October",
          "November",
          "December"
         ],
         "xaxis": "x10",
         "y": [
          null,
          1,
          88,
          124,
          119,
          141,
          86,
          17,
          25,
          5,
          1
         ],
         "yaxis": "y10"
        },
        {
         "name": "2017",
         "type": "bar",
         "x": [
          "February",
          "March",
          "April",
          "May",
          "June",
          "July",
          "August",
          "September",
          "October",
          "November",
          "December"
         ],
         "xaxis": "x10",
         "y": [
          1,
          null,
          25,
          33,
          78,
          88,
          57,
          16,
          22,
          2,
          null
         ],
         "yaxis": "y10"
        },
        {
         "name": "2018",
         "type": "bar",
         "x": [
          "February",
          "March",
          "April",
          "May",
          "June",
          "July",
          "August",
          "September",
          "October",
          "November",
          "December"
         ],
         "xaxis": "x10",
         "y": [
          null,
          null,
          12,
          190,
          124,
          201,
          38,
          18,
          13,
          1,
          null
         ],
         "yaxis": "y10"
        },
        {
         "name": "2019",
         "type": "bar",
         "x": [
          "February",
          "March",
          "April",
          "May",
          "June",
          "July",
          "August",
          "September",
          "October",
          "November",
          "December"
         ],
         "xaxis": "x10",
         "y": [
          null,
          null,
          3,
          54,
          59,
          120,
          96,
          21,
          9,
          null,
          null
         ],
         "yaxis": "y10"
        },
        {
         "name": "2020",
         "type": "bar",
         "x": [
          "February",
          "March",
          "April",
          "May",
          "June",
          "July",
          "August",
          "September",
          "October",
          "November",
          "December"
         ],
         "xaxis": "x10",
         "y": [
          null,
          2,
          81,
          277,
          174,
          105,
          36,
          27,
          3,
          7,
          null
         ],
         "yaxis": "y10"
        },
        {
         "name": "2021",
         "type": "bar",
         "x": [
          "February",
          "March",
          "April",
          "May",
          "June",
          "July",
          "August",
          "September",
          "October",
          "November",
          "December"
         ],
         "xaxis": "x10",
         "y": [
          null,
          null,
          null,
          null,
          null,
          null,
          null,
          null,
          null,
          null,
          null
         ],
         "yaxis": "y10"
        },
        {
         "name": "1990",
         "type": "bar",
         "x": [
          "January",
          "February",
          "March",
          "April",
          "May",
          "June",
          "July",
          "August",
          "September",
          "October",
          "November",
          "December"
         ],
         "xaxis": "x11",
         "y": [
          null,
          null,
          2,
          18,
          103,
          275,
          130,
          314,
          45,
          10,
          null,
          null
         ],
         "yaxis": "y11"
        },
        {
         "name": "1991",
         "type": "bar",
         "x": [
          "January",
          "February",
          "March",
          "April",
          "May",
          "June",
          "July",
          "August",
          "September",
          "October",
          "November",
          "December"
         ],
         "xaxis": "x11",
         "y": [
          2,
          null,
          1,
          79,
          127,
          75,
          111,
          272,
          48,
          31,
          14,
          2
         ],
         "yaxis": "y11"
        },
        {
         "name": "1992",
         "type": "bar",
         "x": [
          "January",
          "February",
          "March",
          "April",
          "May",
          "June",
          "July",
          "August",
          "September",
          "October",
          "November",
          "December"
         ],
         "xaxis": "x11",
         "y": [
          null,
          null,
          3,
          50,
          103,
          151,
          150,
          215,
          18,
          7,
          2,
          null
         ],
         "yaxis": "y11"
        },
        {
         "name": "1993",
         "type": "bar",
         "x": [
          "January",
          "February",
          "March",
          "April",
          "May",
          "June",
          "July",
          "August",
          "September",
          "October",
          "November",
          "December"
         ],
         "xaxis": "x11",
         "y": [
          2,
          1,
          21,
          47,
          219,
          216,
          82,
          30,
          22,
          3,
          2,
          null
         ],
         "yaxis": "y11"
        },
        {
         "name": "1994",
         "type": "bar",
         "x": [
          "January",
          "February",
          "March",
          "April",
          "May",
          "June",
          "July",
          "August",
          "September",
          "October",
          "November",
          "December"
         ],
         "xaxis": "x11",
         "y": [
          1,
          null,
          1,
          28,
          95,
          153,
          74,
          193,
          142,
          10,
          null,
          null
         ],
         "yaxis": "y11"
        },
        {
         "name": "1995",
         "type": "bar",
         "x": [
          "January",
          "February",
          "March",
          "April",
          "May",
          "June",
          "July",
          "August",
          "September",
          "October",
          "November",
          "December"
         ],
         "xaxis": "x11",
         "y": [
          null,
          null,
          null,
          10,
          222,
          283,
          85,
          18,
          20,
          9,
          3,
          1
         ],
         "yaxis": "y11"
        },
        {
         "name": "1996",
         "type": "bar",
         "x": [
          "January",
          "February",
          "March",
          "April",
          "May",
          "June",
          "July",
          "August",
          "September",
          "October",
          "November",
          "December"
         ],
         "xaxis": "x11",
         "y": [
          1,
          1,
          null,
          6,
          62,
          123,
          161,
          53,
          15,
          3,
          null,
          null
         ],
         "yaxis": "y11"
        },
        {
         "name": "1997",
         "type": "bar",
         "x": [
          "January",
          "February",
          "March",
          "April",
          "May",
          "June",
          "July",
          "August",
          "September",
          "October",
          "November",
          "December"
         ],
         "xaxis": "x11",
         "y": [
          null,
          null,
          null,
          10,
          92,
          52,
          150,
          168,
          15,
          2,
          null,
          null
         ],
         "yaxis": "y11"
        },
        {
         "name": "1998",
         "type": "bar",
         "x": [
          "January",
          "February",
          "March",
          "April",
          "May",
          "June",
          "July",
          "August",
          "September",
          "October",
          "November",
          "December"
         ],
         "xaxis": "x11",
         "y": [
          null,
          null,
          null,
          107,
          292,
          216,
          355,
          220,
          71,
          6,
          null,
          1
         ],
         "yaxis": "y11"
        },
        {
         "name": "1999",
         "type": "bar",
         "x": [
          "January",
          "February",
          "March",
          "April",
          "May",
          "June",
          "July",
          "August",
          "September",
          "October",
          "November",
          "December"
         ],
         "xaxis": "x11",
         "y": [
          null,
          null,
          1,
          51,
          100,
          158,
          252,
          158,
          6,
          7,
          7,
          null
         ],
         "yaxis": "y11"
        },
        {
         "name": "2000",
         "type": "bar",
         "x": [
          "January",
          "February",
          "March",
          "April",
          "May",
          "June",
          "July",
          "August",
          "September",
          "October",
          "November",
          "December"
         ],
         "xaxis": "x11",
         "y": [
          1,
          null,
          4,
          46,
          72,
          137,
          89,
          46,
          15,
          11,
          null,
          null
         ],
         "yaxis": "y11"
        },
        {
         "name": "2001",
         "type": "bar",
         "x": [
          "January",
          "February",
          "March",
          "April",
          "May",
          "June",
          "July",
          "August",
          "September",
          "October",
          "November",
          "December"
         ],
         "xaxis": "x11",
         "y": [
          4,
          1,
          3,
          121,
          158,
          200,
          116,
          154,
          74,
          44,
          null,
          null
         ],
         "yaxis": "y11"
        },
        {
         "name": "2002",
         "type": "bar",
         "x": [
          "January",
          "February",
          "March",
          "April",
          "May",
          "June",
          "July",
          "August",
          "September",
          "October",
          "November",
          "December"
         ],
         "xaxis": "x11",
         "y": [
          2,
          3,
          3,
          35,
          292,
          345,
          183,
          21,
          5,
          2,
          null,
          null
         ],
         "yaxis": "y11"
        },
        {
         "name": "2003",
         "type": "bar",
         "x": [
          "January",
          "February",
          "March",
          "April",
          "May",
          "June",
          "July",
          "August",
          "September",
          "October",
          "November",
          "December"
         ],
         "xaxis": "x11",
         "y": [
          null,
          null,
          null,
          48,
          135,
          73,
          221,
          146,
          15,
          20,
          null,
          null
         ],
         "yaxis": "y11"
        },
        {
         "name": "2004",
         "type": "bar",
         "x": [
          "January",
          "February",
          "March",
          "April",
          "May",
          "June",
          "July",
          "August",
          "September",
          "October",
          "November",
          "December"
         ],
         "xaxis": "x11",
         "y": [
          null,
          2,
          1,
          19,
          80,
          26,
          166,
          31,
          3,
          3,
          1,
          null
         ],
         "yaxis": "y11"
        },
        {
         "name": "2005",
         "type": "bar",
         "x": [
          "January",
          "February",
          "March",
          "April",
          "May",
          "June",
          "July",
          "August",
          "September",
          "October",
          "November",
          "December"
         ],
         "xaxis": "x11",
         "y": [
          null,
          null,
          null,
          15,
          76,
          32,
          191,
          17,
          5,
          2,
          null,
          null
         ],
         "yaxis": "y11"
        },
        {
         "name": "2006",
         "type": "bar",
         "x": [
          "January",
          "February",
          "March",
          "April",
          "May",
          "June",
          "July",
          "August",
          "September",
          "October",
          "November",
          "December"
         ],
         "xaxis": "x11",
         "y": [
          11,
          19,
          7,
          79,
          60,
          204,
          77,
          41,
          10,
          3,
          5,
          9
         ],
         "yaxis": "y11"
        },
        {
         "name": "2007",
         "type": "bar",
         "x": [
          "January",
          "February",
          "March",
          "April",
          "May",
          "June",
          "July",
          "August",
          "September",
          "October",
          "November",
          "December"
         ],
         "xaxis": "x11",
         "y": [
          null,
          null,
          null,
          44,
          78,
          76,
          124,
          47,
          3,
          2,
          null,
          null
         ],
         "yaxis": "y11"
        },
        {
         "name": "2008",
         "type": "bar",
         "x": [
          "January",
          "February",
          "March",
          "April",
          "May",
          "June",
          "July",
          "August",
          "September",
          "October",
          "November",
          "December"
         ],
         "xaxis": "x11",
         "y": [
          1,
          null,
          null,
          28,
          161,
          265,
          98,
          31,
          7,
          12,
          null,
          null
         ],
         "yaxis": "y11"
        },
        {
         "name": "2009",
         "type": "bar",
         "x": [
          "January",
          "February",
          "March",
          "April",
          "May",
          "June",
          "July",
          "August",
          "September",
          "October",
          "November",
          "December"
         ],
         "xaxis": "x11",
         "y": [
          1,
          null,
          null,
          59,
          193,
          201,
          14,
          17,
          29,
          null,
          1,
          null
         ],
         "yaxis": "y11"
        },
        {
         "name": "2010",
         "type": "bar",
         "x": [
          "January",
          "February",
          "March",
          "April",
          "May",
          "June",
          "July",
          "August",
          "September",
          "October",
          "November",
          "December"
         ],
         "xaxis": "x11",
         "y": [
          1,
          null,
          1,
          56,
          103,
          166,
          190,
          64,
          null,
          1,
          null,
          null
         ],
         "yaxis": "y11"
        },
        {
         "name": "2011",
         "type": "bar",
         "x": [
          "January",
          "February",
          "March",
          "April",
          "May",
          "June",
          "July",
          "August",
          "September",
          "October",
          "November",
          "December"
         ],
         "xaxis": "x11",
         "y": [
          null,
          null,
          null,
          20,
          144,
          68,
          19,
          15,
          28,
          13,
          1,
          null
         ],
         "yaxis": "y11"
        },
        {
         "name": "2012",
         "type": "bar",
         "x": [
          "January",
          "February",
          "March",
          "April",
          "May",
          "June",
          "July",
          "August",
          "September",
          "October",
          "November",
          "December"
         ],
         "xaxis": "x11",
         "y": [
          null,
          null,
          1,
          40,
          89,
          38,
          169,
          72,
          15,
          2,
          2,
          null
         ],
         "yaxis": "y11"
        },
        {
         "name": "2013",
         "type": "bar",
         "x": [
          "January",
          "February",
          "March",
          "April",
          "May",
          "June",
          "July",
          "August",
          "September",
          "October",
          "November",
          "December"
         ],
         "xaxis": "x11",
         "y": [
          null,
          null,
          null,
          4,
          177,
          51,
          48,
          115,
          48,
          6,
          null,
          null
         ],
         "yaxis": "y11"
        },
        {
         "name": "2014",
         "type": "bar",
         "x": [
          "January",
          "February",
          "March",
          "April",
          "May",
          "June",
          "July",
          "August",
          "September",
          "October",
          "November",
          "December"
         ],
         "xaxis": "x11",
         "y": [
          null,
          null,
          null,
          5,
          142,
          37,
          111,
          97,
          10,
          3,
          null,
          null
         ],
         "yaxis": "y11"
        },
        {
         "name": "2015",
         "type": "bar",
         "x": [
          "January",
          "February",
          "March",
          "April",
          "May",
          "June",
          "July",
          "August",
          "September",
          "October",
          "November",
          "December"
         ],
         "xaxis": "x11",
         "y": [
          null,
          null,
          1,
          74,
          195,
          258,
          148,
          38,
          8,
          12,
          1,
          null
         ],
         "yaxis": "y11"
        },
        {
         "name": "2016",
         "type": "bar",
         "x": [
          "January",
          "February",
          "March",
          "April",
          "May",
          "June",
          "July",
          "August",
          "September",
          "October",
          "November",
          "December"
         ],
         "xaxis": "x11",
         "y": [
          null,
          null,
          null,
          87,
          111,
          125,
          53,
          23,
          9,
          null,
          null,
          null
         ],
         "yaxis": "y11"
        },
        {
         "name": "2017",
         "type": "bar",
         "x": [
          "January",
          "February",
          "March",
          "April",
          "May",
          "June",
          "July",
          "August",
          "September",
          "October",
          "November",
          "December"
         ],
         "xaxis": "x11",
         "y": [
          null,
          null,
          1,
          16,
          76,
          15,
          72,
          138,
          37,
          13,
          null,
          null
         ],
         "yaxis": "y11"
        },
        {
         "name": "2018",
         "type": "bar",
         "x": [
          "January",
          "February",
          "March",
          "April",
          "May",
          "June",
          "July",
          "August",
          "September",
          "October",
          "November",
          "December"
         ],
         "xaxis": "x11",
         "y": [
          null,
          null,
          null,
          50,
          178,
          125,
          61,
          30,
          1,
          7,
          null,
          null
         ],
         "yaxis": "y11"
        },
        {
         "name": "2019",
         "type": "bar",
         "x": [
          "January",
          "February",
          "March",
          "April",
          "May",
          "June",
          "July",
          "August",
          "September",
          "October",
          "November",
          "December"
         ],
         "xaxis": "x11",
         "y": [
          1,
          null,
          null,
          41,
          73,
          59,
          58,
          14,
          2,
          3,
          2,
          5
         ],
         "yaxis": "y11"
        },
        {
         "name": "2020",
         "type": "bar",
         "x": [
          "January",
          "February",
          "March",
          "April",
          "May",
          "June",
          "July",
          "August",
          "September",
          "October",
          "November",
          "December"
         ],
         "xaxis": "x11",
         "y": [
          1,
          2,
          2,
          12,
          49,
          35,
          26,
          31,
          27,
          8,
          8,
          null
         ],
         "yaxis": "y11"
        },
        {
         "name": "2021",
         "type": "bar",
         "x": [
          "January",
          "February",
          "March",
          "April",
          "May",
          "June",
          "July",
          "August",
          "September",
          "October",
          "November",
          "December"
         ],
         "xaxis": "x11",
         "y": [
          null,
          null,
          null,
          null,
          null,
          null,
          null,
          null,
          null,
          null,
          null,
          null
         ],
         "yaxis": "y11"
        },
        {
         "name": "1990",
         "type": "bar",
         "x": [
          "January",
          "March",
          "April",
          "May",
          "June",
          "July",
          "August",
          "September",
          "October",
          "November",
          "December"
         ],
         "xaxis": "x12",
         "y": [
          null,
          null,
          3,
          15,
          19,
          69,
          32,
          14,
          2,
          null,
          null
         ],
         "yaxis": "y12"
        },
        {
         "name": "1991",
         "type": "bar",
         "x": [
          "January",
          "March",
          "April",
          "May",
          "June",
          "July",
          "August",
          "September",
          "October",
          "November",
          "December"
         ],
         "xaxis": "x12",
         "y": [
          null,
          null,
          8,
          28,
          109,
          33,
          9,
          null,
          null,
          null,
          null
         ],
         "yaxis": "y12"
        },
        {
         "name": "1992",
         "type": "bar",
         "x": [
          "January",
          "March",
          "April",
          "May",
          "June",
          "July",
          "August",
          "September",
          "October",
          "November",
          "December"
         ],
         "xaxis": "x12",
         "y": [
          null,
          null,
          null,
          9,
          26,
          72,
          9,
          null,
          null,
          null,
          null
         ],
         "yaxis": "y12"
        },
        {
         "name": "1993",
         "type": "bar",
         "x": [
          "January",
          "March",
          "April",
          "May",
          "June",
          "July",
          "August",
          "September",
          "October",
          "November",
          "December"
         ],
         "xaxis": "x12",
         "y": [
          null,
          null,
          1,
          21,
          45,
          48,
          10,
          10,
          1,
          null,
          null
         ],
         "yaxis": "y12"
        },
        {
         "name": "1994",
         "type": "bar",
         "x": [
          "January",
          "March",
          "April",
          "May",
          "June",
          "July",
          "August",
          "September",
          "October",
          "November",
          "December"
         ],
         "xaxis": "x12",
         "y": [
          null,
          null,
          5,
          16,
          47,
          113,
          73,
          1,
          null,
          null,
          null
         ],
         "yaxis": "y12"
        },
        {
         "name": "1995",
         "type": "bar",
         "x": [
          "January",
          "March",
          "April",
          "May",
          "June",
          "July",
          "August",
          "September",
          "October",
          "November",
          "December"
         ],
         "xaxis": "x12",
         "y": [
          null,
          1,
          4,
          31,
          80,
          22,
          6,
          2,
          null,
          1,
          null
         ],
         "yaxis": "y12"
        },
        {
         "name": "1996",
         "type": "bar",
         "x": [
          "January",
          "March",
          "April",
          "May",
          "June",
          "July",
          "August",
          "September",
          "October",
          "November",
          "December"
         ],
         "xaxis": "x12",
         "y": [
          null,
          2,
          2,
          19,
          72,
          44,
          7,
          3,
          null,
          null,
          null
         ],
         "yaxis": "y12"
        },
        {
         "name": "1997",
         "type": "bar",
         "x": [
          "January",
          "March",
          "April",
          "May",
          "June",
          "July",
          "August",
          "September",
          "October",
          "November",
          "December"
         ],
         "xaxis": "x12",
         "y": [
          null,
          null,
          null,
          23,
          34,
          37,
          13,
          3,
          2,
          null,
          null
         ],
         "yaxis": "y12"
        },
        {
         "name": "1998",
         "type": "bar",
         "x": [
          "January",
          "March",
          "April",
          "May",
          "June",
          "July",
          "August",
          "September",
          "October",
          "November",
          "December"
         ],
         "xaxis": "x12",
         "y": [
          null,
          null,
          2,
          44,
          36,
          73,
          35,
          7,
          null,
          null,
          null
         ],
         "yaxis": "y12"
        },
        {
         "name": "1999",
         "type": "bar",
         "x": [
          "January",
          "March",
          "April",
          "May",
          "June",
          "July",
          "August",
          "September",
          "October",
          "November",
          "December"
         ],
         "xaxis": "x12",
         "y": [
          null,
          null,
          2,
          10,
          49,
          36,
          61,
          1,
          null,
          null,
          null
         ],
         "yaxis": "y12"
        },
        {
         "name": "2000",
         "type": "bar",
         "x": [
          "January",
          "March",
          "April",
          "May",
          "June",
          "July",
          "August",
          "September",
          "October",
          "November",
          "December"
         ],
         "xaxis": "x12",
         "y": [
          null,
          null,
          null,
          8,
          36,
          3,
          null,
          null,
          null,
          null,
          null
         ],
         "yaxis": "y12"
        },
        {
         "name": "2001",
         "type": "bar",
         "x": [
          "January",
          "March",
          "April",
          "May",
          "June",
          "July",
          "August",
          "September",
          "October",
          "November",
          "December"
         ],
         "xaxis": "x12",
         "y": [
          null,
          null,
          1,
          8,
          30,
          20,
          9,
          null,
          null,
          null,
          null
         ],
         "yaxis": "y12"
        },
        {
         "name": "2002",
         "type": "bar",
         "x": [
          "January",
          "March",
          "April",
          "May",
          "June",
          "July",
          "August",
          "September",
          "October",
          "November",
          "December"
         ],
         "xaxis": "x12",
         "y": [
          null,
          null,
          null,
          17,
          30,
          19,
          4,
          null,
          null,
          null,
          null
         ],
         "yaxis": "y12"
        },
        {
         "name": "2003",
         "type": "bar",
         "x": [
          "January",
          "March",
          "April",
          "May",
          "June",
          "July",
          "August",
          "September",
          "October",
          "November",
          "December"
         ],
         "xaxis": "x12",
         "y": [
          null,
          null,
          3,
          13,
          30,
          20,
          4,
          2,
          null,
          5,
          null
         ],
         "yaxis": "y12"
        },
        {
         "name": "2004",
         "type": "bar",
         "x": [
          "January",
          "March",
          "April",
          "May",
          "June",
          "July",
          "August",
          "September",
          "October",
          "November",
          "December"
         ],
         "xaxis": "x12",
         "y": [
          null,
          null,
          null,
          5,
          138,
          100,
          33,
          5,
          1,
          null,
          null
         ],
         "yaxis": "y12"
        },
        {
         "name": "2005",
         "type": "bar",
         "x": [
          "January",
          "March",
          "April",
          "May",
          "June",
          "July",
          "August",
          "September",
          "October",
          "November",
          "December"
         ],
         "xaxis": "x12",
         "y": [
          null,
          null,
          1,
          12,
          45,
          20,
          4,
          1,
          null,
          null,
          null
         ],
         "yaxis": "y12"
        },
        {
         "name": "2006",
         "type": "bar",
         "x": [
          "January",
          "March",
          "April",
          "May",
          "June",
          "July",
          "August",
          "September",
          "October",
          "November",
          "December"
         ],
         "xaxis": "x12",
         "y": [
          null,
          null,
          1,
          3,
          32,
          36,
          5,
          2,
          1,
          null,
          null
         ],
         "yaxis": "y12"
        },
        {
         "name": "2007",
         "type": "bar",
         "x": [
          "January",
          "March",
          "April",
          "May",
          "June",
          "July",
          "August",
          "September",
          "October",
          "November",
          "December"
         ],
         "xaxis": "x12",
         "y": [
          null,
          null,
          1,
          10,
          50,
          25,
          15,
          null,
          10,
          null,
          null
         ],
         "yaxis": "y12"
        },
        {
         "name": "2008",
         "type": "bar",
         "x": [
          "January",
          "March",
          "April",
          "May",
          "June",
          "July",
          "August",
          "September",
          "October",
          "November",
          "December"
         ],
         "xaxis": "x12",
         "y": [
          null,
          null,
          null,
          11,
          40,
          6,
          10,
          2,
          1,
          null,
          6
         ],
         "yaxis": "y12"
        },
        {
         "name": "2009",
         "type": "bar",
         "x": [
          "January",
          "March",
          "April",
          "May",
          "June",
          "July",
          "August",
          "September",
          "October",
          "November",
          "December"
         ],
         "xaxis": "x12",
         "y": [
          null,
          null,
          null,
          9,
          30,
          60,
          16,
          null,
          null,
          null,
          3
         ],
         "yaxis": "y12"
        },
        {
         "name": "2010",
         "type": "bar",
         "x": [
          "January",
          "March",
          "April",
          "May",
          "June",
          "July",
          "August",
          "September",
          "October",
          "November",
          "December"
         ],
         "xaxis": "x12",
         "y": [
          1,
          null,
          null,
          20,
          38,
          18,
          10,
          null,
          2,
          null,
          null
         ],
         "yaxis": "y12"
        },
        {
         "name": "2011",
         "type": "bar",
         "x": [
          "January",
          "March",
          "April",
          "May",
          "June",
          "July",
          "August",
          "September",
          "October",
          "November",
          "December"
         ],
         "xaxis": "x12",
         "y": [
          null,
          null,
          1,
          24,
          13,
          14,
          1,
          3,
          null,
          null,
          null
         ],
         "yaxis": "y12"
        },
        {
         "name": "2012",
         "type": "bar",
         "x": [
          "January",
          "March",
          "April",
          "May",
          "June",
          "July",
          "August",
          "September",
          "October",
          "November",
          "December"
         ],
         "xaxis": "x12",
         "y": [
          null,
          null,
          null,
          4,
          74,
          29,
          19,
          1,
          null,
          null,
          null
         ],
         "yaxis": "y12"
        },
        {
         "name": "2013",
         "type": "bar",
         "x": [
          "January",
          "March",
          "April",
          "May",
          "June",
          "July",
          "August",
          "September",
          "October",
          "November",
          "December"
         ],
         "xaxis": "x12",
         "y": [
          null,
          null,
          null,
          7,
          100,
          29,
          39,
          2,
          null,
          null,
          null
         ],
         "yaxis": "y12"
        },
        {
         "name": "2014",
         "type": "bar",
         "x": [
          "January",
          "March",
          "April",
          "May",
          "June",
          "July",
          "August",
          "September",
          "October",
          "November",
          "December"
         ],
         "xaxis": "x12",
         "y": [
          null,
          null,
          1,
          4,
          14,
          10,
          5,
          null,
          null,
          null,
          null
         ],
         "yaxis": "y12"
        },
        {
         "name": "2015",
         "type": "bar",
         "x": [
          "January",
          "March",
          "April",
          "May",
          "June",
          "July",
          "August",
          "September",
          "October",
          "November",
          "December"
         ],
         "xaxis": "x12",
         "y": [
          null,
          null,
          null,
          95,
          83,
          5,
          2,
          1,
          null,
          null,
          null
         ],
         "yaxis": "y12"
        },
        {
         "name": "2016",
         "type": "bar",
         "x": [
          "January",
          "March",
          "April",
          "May",
          "June",
          "July",
          "August",
          "September",
          "October",
          "November",
          "December"
         ],
         "xaxis": "x12",
         "y": [
          null,
          null,
          2,
          8,
          15,
          19,
          8,
          1,
          null,
          null,
          null
         ],
         "yaxis": "y12"
        },
        {
         "name": "2017",
         "type": "bar",
         "x": [
          "January",
          "March",
          "April",
          "May",
          "June",
          "July",
          "August",
          "September",
          "October",
          "November",
          "December"
         ],
         "xaxis": "x12",
         "y": [
          null,
          null,
          3,
          9,
          45,
          32,
          25,
          1,
          null,
          null,
          null
         ],
         "yaxis": "y12"
        },
        {
         "name": "2018",
         "type": "bar",
         "x": [
          "January",
          "March",
          "April",
          "May",
          "June",
          "July",
          "August",
          "September",
          "October",
          "November",
          "December"
         ],
         "xaxis": "x12",
         "y": [
          null,
          null,
          1,
          6,
          11,
          21,
          11,
          1,
          null,
          null,
          null
         ],
         "yaxis": "y12"
        },
        {
         "name": "2019",
         "type": "bar",
         "x": [
          "January",
          "March",
          "April",
          "May",
          "June",
          "July",
          "August",
          "September",
          "October",
          "November",
          "December"
         ],
         "xaxis": "x12",
         "y": [
          null,
          null,
          4,
          25,
          18,
          64,
          4,
          3,
          null,
          null,
          null
         ],
         "yaxis": "y12"
        },
        {
         "name": "2020",
         "type": "bar",
         "x": [
          "January",
          "March",
          "April",
          "May",
          "June",
          "July",
          "August",
          "September",
          "October",
          "November",
          "December"
         ],
         "xaxis": "x12",
         "y": [
          null,
          null,
          null,
          7,
          10,
          4,
          1,
          2,
          null,
          null,
          null
         ],
         "yaxis": "y12"
        },
        {
         "name": "2021",
         "type": "bar",
         "x": [
          "January",
          "March",
          "April",
          "May",
          "June",
          "July",
          "August",
          "September",
          "October",
          "November",
          "December"
         ],
         "xaxis": "x12",
         "y": [
          null,
          null,
          null,
          null,
          null,
          null,
          null,
          null,
          null,
          null,
          null
         ],
         "yaxis": "y12"
        }
       ],
       "layout": {
        "annotations": [
         {
          "font": {
           "size": 16
          },
          "showarrow": false,
          "text": "Alberta",
          "x": 0.5,
          "xanchor": "center",
          "xref": "paper",
          "y": 1,
          "yanchor": "bottom",
          "yref": "paper"
         },
         {
          "font": {
           "size": 16
          },
          "showarrow": false,
          "text": "British Columbia",
          "x": 0.5,
          "xanchor": "center",
          "xref": "paper",
          "y": 0.9131944444444444,
          "yanchor": "bottom",
          "yref": "paper"
         },
         {
          "font": {
           "size": 16
          },
          "showarrow": false,
          "text": "Manitoba",
          "x": 0.5,
          "xanchor": "center",
          "xref": "paper",
          "y": 0.8263888888888888,
          "yanchor": "bottom",
          "yref": "paper"
         },
         {
          "font": {
           "size": 16
          },
          "showarrow": false,
          "text": "New Brunswick",
          "x": 0.5,
          "xanchor": "center",
          "xref": "paper",
          "y": 0.7395833333333333,
          "yanchor": "bottom",
          "yref": "paper"
         },
         {
          "font": {
           "size": 16
          },
          "showarrow": false,
          "text": "Newfoundland and Labrador",
          "x": 0.5,
          "xanchor": "center",
          "xref": "paper",
          "y": 0.6527777777777777,
          "yanchor": "bottom",
          "yref": "paper"
         },
         {
          "font": {
           "size": 16
          },
          "showarrow": false,
          "text": "Northwest Territories",
          "x": 0.5,
          "xanchor": "center",
          "xref": "paper",
          "y": 0.5659722222222223,
          "yanchor": "bottom",
          "yref": "paper"
         },
         {
          "font": {
           "size": 16
          },
          "showarrow": false,
          "text": "Nova Scotia",
          "x": 0.5,
          "xanchor": "center",
          "xref": "paper",
          "y": 0.4791666666666667,
          "yanchor": "bottom",
          "yref": "paper"
         },
         {
          "font": {
           "size": 16
          },
          "showarrow": false,
          "text": "Ontario",
          "x": 0.5,
          "xanchor": "center",
          "xref": "paper",
          "y": 0.3923611111111111,
          "yanchor": "bottom",
          "yref": "paper"
         },
         {
          "font": {
           "size": 16
          },
          "showarrow": false,
          "text": "Prince Edward Island",
          "x": 0.5,
          "xanchor": "center",
          "xref": "paper",
          "y": 0.3055555555555556,
          "yanchor": "bottom",
          "yref": "paper"
         },
         {
          "font": {
           "size": 16
          },
          "showarrow": false,
          "text": "Quebec",
          "x": 0.5,
          "xanchor": "center",
          "xref": "paper",
          "y": 0.21875,
          "yanchor": "bottom",
          "yref": "paper"
         },
         {
          "font": {
           "size": 16
          },
          "showarrow": false,
          "text": "Saskatchewan",
          "x": 0.5,
          "xanchor": "center",
          "xref": "paper",
          "y": 0.13194444444444445,
          "yanchor": "bottom",
          "yref": "paper"
         },
         {
          "font": {
           "size": 16
          },
          "showarrow": false,
          "text": "Yukon",
          "x": 0.5,
          "xanchor": "center",
          "xref": "paper",
          "y": 0.045138888888888895,
          "yanchor": "bottom",
          "yref": "paper"
         }
        ],
        "height": 1800,
        "showlegend": false,
        "template": {
         "data": {
          "bar": [
           {
            "error_x": {
             "color": "#2a3f5f"
            },
            "error_y": {
             "color": "#2a3f5f"
            },
            "marker": {
             "line": {
              "color": "#E5ECF6",
              "width": 0.5
             },
             "pattern": {
              "fillmode": "overlay",
              "size": 10,
              "solidity": 0.2
             }
            },
            "type": "bar"
           }
          ],
          "barpolar": [
           {
            "marker": {
             "line": {
              "color": "#E5ECF6",
              "width": 0.5
             },
             "pattern": {
              "fillmode": "overlay",
              "size": 10,
              "solidity": 0.2
             }
            },
            "type": "barpolar"
           }
          ],
          "carpet": [
           {
            "aaxis": {
             "endlinecolor": "#2a3f5f",
             "gridcolor": "white",
             "linecolor": "white",
             "minorgridcolor": "white",
             "startlinecolor": "#2a3f5f"
            },
            "baxis": {
             "endlinecolor": "#2a3f5f",
             "gridcolor": "white",
             "linecolor": "white",
             "minorgridcolor": "white",
             "startlinecolor": "#2a3f5f"
            },
            "type": "carpet"
           }
          ],
          "choropleth": [
           {
            "colorbar": {
             "outlinewidth": 0,
             "ticks": ""
            },
            "type": "choropleth"
           }
          ],
          "contour": [
           {
            "colorbar": {
             "outlinewidth": 0,
             "ticks": ""
            },
            "colorscale": [
             [
              0,
              "#0d0887"
             ],
             [
              0.1111111111111111,
              "#46039f"
             ],
             [
              0.2222222222222222,
              "#7201a8"
             ],
             [
              0.3333333333333333,
              "#9c179e"
             ],
             [
              0.4444444444444444,
              "#bd3786"
             ],
             [
              0.5555555555555556,
              "#d8576b"
             ],
             [
              0.6666666666666666,
              "#ed7953"
             ],
             [
              0.7777777777777778,
              "#fb9f3a"
             ],
             [
              0.8888888888888888,
              "#fdca26"
             ],
             [
              1,
              "#f0f921"
             ]
            ],
            "type": "contour"
           }
          ],
          "contourcarpet": [
           {
            "colorbar": {
             "outlinewidth": 0,
             "ticks": ""
            },
            "type": "contourcarpet"
           }
          ],
          "heatmap": [
           {
            "colorbar": {
             "outlinewidth": 0,
             "ticks": ""
            },
            "colorscale": [
             [
              0,
              "#0d0887"
             ],
             [
              0.1111111111111111,
              "#46039f"
             ],
             [
              0.2222222222222222,
              "#7201a8"
             ],
             [
              0.3333333333333333,
              "#9c179e"
             ],
             [
              0.4444444444444444,
              "#bd3786"
             ],
             [
              0.5555555555555556,
              "#d8576b"
             ],
             [
              0.6666666666666666,
              "#ed7953"
             ],
             [
              0.7777777777777778,
              "#fb9f3a"
             ],
             [
              0.8888888888888888,
              "#fdca26"
             ],
             [
              1,
              "#f0f921"
             ]
            ],
            "type": "heatmap"
           }
          ],
          "heatmapgl": [
           {
            "colorbar": {
             "outlinewidth": 0,
             "ticks": ""
            },
            "colorscale": [
             [
              0,
              "#0d0887"
             ],
             [
              0.1111111111111111,
              "#46039f"
             ],
             [
              0.2222222222222222,
              "#7201a8"
             ],
             [
              0.3333333333333333,
              "#9c179e"
             ],
             [
              0.4444444444444444,
              "#bd3786"
             ],
             [
              0.5555555555555556,
              "#d8576b"
             ],
             [
              0.6666666666666666,
              "#ed7953"
             ],
             [
              0.7777777777777778,
              "#fb9f3a"
             ],
             [
              0.8888888888888888,
              "#fdca26"
             ],
             [
              1,
              "#f0f921"
             ]
            ],
            "type": "heatmapgl"
           }
          ],
          "histogram": [
           {
            "marker": {
             "pattern": {
              "fillmode": "overlay",
              "size": 10,
              "solidity": 0.2
             }
            },
            "type": "histogram"
           }
          ],
          "histogram2d": [
           {
            "colorbar": {
             "outlinewidth": 0,
             "ticks": ""
            },
            "colorscale": [
             [
              0,
              "#0d0887"
             ],
             [
              0.1111111111111111,
              "#46039f"
             ],
             [
              0.2222222222222222,
              "#7201a8"
             ],
             [
              0.3333333333333333,
              "#9c179e"
             ],
             [
              0.4444444444444444,
              "#bd3786"
             ],
             [
              0.5555555555555556,
              "#d8576b"
             ],
             [
              0.6666666666666666,
              "#ed7953"
             ],
             [
              0.7777777777777778,
              "#fb9f3a"
             ],
             [
              0.8888888888888888,
              "#fdca26"
             ],
             [
              1,
              "#f0f921"
             ]
            ],
            "type": "histogram2d"
           }
          ],
          "histogram2dcontour": [
           {
            "colorbar": {
             "outlinewidth": 0,
             "ticks": ""
            },
            "colorscale": [
             [
              0,
              "#0d0887"
             ],
             [
              0.1111111111111111,
              "#46039f"
             ],
             [
              0.2222222222222222,
              "#7201a8"
             ],
             [
              0.3333333333333333,
              "#9c179e"
             ],
             [
              0.4444444444444444,
              "#bd3786"
             ],
             [
              0.5555555555555556,
              "#d8576b"
             ],
             [
              0.6666666666666666,
              "#ed7953"
             ],
             [
              0.7777777777777778,
              "#fb9f3a"
             ],
             [
              0.8888888888888888,
              "#fdca26"
             ],
             [
              1,
              "#f0f921"
             ]
            ],
            "type": "histogram2dcontour"
           }
          ],
          "mesh3d": [
           {
            "colorbar": {
             "outlinewidth": 0,
             "ticks": ""
            },
            "type": "mesh3d"
           }
          ],
          "parcoords": [
           {
            "line": {
             "colorbar": {
              "outlinewidth": 0,
              "ticks": ""
             }
            },
            "type": "parcoords"
           }
          ],
          "pie": [
           {
            "automargin": true,
            "type": "pie"
           }
          ],
          "scatter": [
           {
            "fillpattern": {
             "fillmode": "overlay",
             "size": 10,
             "solidity": 0.2
            },
            "type": "scatter"
           }
          ],
          "scatter3d": [
           {
            "line": {
             "colorbar": {
              "outlinewidth": 0,
              "ticks": ""
             }
            },
            "marker": {
             "colorbar": {
              "outlinewidth": 0,
              "ticks": ""
             }
            },
            "type": "scatter3d"
           }
          ],
          "scattercarpet": [
           {
            "marker": {
             "colorbar": {
              "outlinewidth": 0,
              "ticks": ""
             }
            },
            "type": "scattercarpet"
           }
          ],
          "scattergeo": [
           {
            "marker": {
             "colorbar": {
              "outlinewidth": 0,
              "ticks": ""
             }
            },
            "type": "scattergeo"
           }
          ],
          "scattergl": [
           {
            "marker": {
             "colorbar": {
              "outlinewidth": 0,
              "ticks": ""
             }
            },
            "type": "scattergl"
           }
          ],
          "scattermapbox": [
           {
            "marker": {
             "colorbar": {
              "outlinewidth": 0,
              "ticks": ""
             }
            },
            "type": "scattermapbox"
           }
          ],
          "scatterpolar": [
           {
            "marker": {
             "colorbar": {
              "outlinewidth": 0,
              "ticks": ""
             }
            },
            "type": "scatterpolar"
           }
          ],
          "scatterpolargl": [
           {
            "marker": {
             "colorbar": {
              "outlinewidth": 0,
              "ticks": ""
             }
            },
            "type": "scatterpolargl"
           }
          ],
          "scatterternary": [
           {
            "marker": {
             "colorbar": {
              "outlinewidth": 0,
              "ticks": ""
             }
            },
            "type": "scatterternary"
           }
          ],
          "surface": [
           {
            "colorbar": {
             "outlinewidth": 0,
             "ticks": ""
            },
            "colorscale": [
             [
              0,
              "#0d0887"
             ],
             [
              0.1111111111111111,
              "#46039f"
             ],
             [
              0.2222222222222222,
              "#7201a8"
             ],
             [
              0.3333333333333333,
              "#9c179e"
             ],
             [
              0.4444444444444444,
              "#bd3786"
             ],
             [
              0.5555555555555556,
              "#d8576b"
             ],
             [
              0.6666666666666666,
              "#ed7953"
             ],
             [
              0.7777777777777778,
              "#fb9f3a"
             ],
             [
              0.8888888888888888,
              "#fdca26"
             ],
             [
              1,
              "#f0f921"
             ]
            ],
            "type": "surface"
           }
          ],
          "table": [
           {
            "cells": {
             "fill": {
              "color": "#EBF0F8"
             },
             "line": {
              "color": "white"
             }
            },
            "header": {
             "fill": {
              "color": "#C8D4E3"
             },
             "line": {
              "color": "white"
             }
            },
            "type": "table"
           }
          ]
         },
         "layout": {
          "annotationdefaults": {
           "arrowcolor": "#2a3f5f",
           "arrowhead": 0,
           "arrowwidth": 1
          },
          "autotypenumbers": "strict",
          "coloraxis": {
           "colorbar": {
            "outlinewidth": 0,
            "ticks": ""
           }
          },
          "colorscale": {
           "diverging": [
            [
             0,
             "#8e0152"
            ],
            [
             0.1,
             "#c51b7d"
            ],
            [
             0.2,
             "#de77ae"
            ],
            [
             0.3,
             "#f1b6da"
            ],
            [
             0.4,
             "#fde0ef"
            ],
            [
             0.5,
             "#f7f7f7"
            ],
            [
             0.6,
             "#e6f5d0"
            ],
            [
             0.7,
             "#b8e186"
            ],
            [
             0.8,
             "#7fbc41"
            ],
            [
             0.9,
             "#4d9221"
            ],
            [
             1,
             "#276419"
            ]
           ],
           "sequential": [
            [
             0,
             "#0d0887"
            ],
            [
             0.1111111111111111,
             "#46039f"
            ],
            [
             0.2222222222222222,
             "#7201a8"
            ],
            [
             0.3333333333333333,
             "#9c179e"
            ],
            [
             0.4444444444444444,
             "#bd3786"
            ],
            [
             0.5555555555555556,
             "#d8576b"
            ],
            [
             0.6666666666666666,
             "#ed7953"
            ],
            [
             0.7777777777777778,
             "#fb9f3a"
            ],
            [
             0.8888888888888888,
             "#fdca26"
            ],
            [
             1,
             "#f0f921"
            ]
           ],
           "sequentialminus": [
            [
             0,
             "#0d0887"
            ],
            [
             0.1111111111111111,
             "#46039f"
            ],
            [
             0.2222222222222222,
             "#7201a8"
            ],
            [
             0.3333333333333333,
             "#9c179e"
            ],
            [
             0.4444444444444444,
             "#bd3786"
            ],
            [
             0.5555555555555556,
             "#d8576b"
            ],
            [
             0.6666666666666666,
             "#ed7953"
            ],
            [
             0.7777777777777778,
             "#fb9f3a"
            ],
            [
             0.8888888888888888,
             "#fdca26"
            ],
            [
             1,
             "#f0f921"
            ]
           ]
          },
          "colorway": [
           "#636efa",
           "#EF553B",
           "#00cc96",
           "#ab63fa",
           "#FFA15A",
           "#19d3f3",
           "#FF6692",
           "#B6E880",
           "#FF97FF",
           "#FECB52"
          ],
          "font": {
           "color": "#2a3f5f"
          },
          "geo": {
           "bgcolor": "white",
           "lakecolor": "white",
           "landcolor": "#E5ECF6",
           "showlakes": true,
           "showland": true,
           "subunitcolor": "white"
          },
          "hoverlabel": {
           "align": "left"
          },
          "hovermode": "closest",
          "mapbox": {
           "style": "light"
          },
          "paper_bgcolor": "white",
          "plot_bgcolor": "#E5ECF6",
          "polar": {
           "angularaxis": {
            "gridcolor": "white",
            "linecolor": "white",
            "ticks": ""
           },
           "bgcolor": "#E5ECF6",
           "radialaxis": {
            "gridcolor": "white",
            "linecolor": "white",
            "ticks": ""
           }
          },
          "scene": {
           "xaxis": {
            "backgroundcolor": "#E5ECF6",
            "gridcolor": "white",
            "gridwidth": 2,
            "linecolor": "white",
            "showbackground": true,
            "ticks": "",
            "zerolinecolor": "white"
           },
           "yaxis": {
            "backgroundcolor": "#E5ECF6",
            "gridcolor": "white",
            "gridwidth": 2,
            "linecolor": "white",
            "showbackground": true,
            "ticks": "",
            "zerolinecolor": "white"
           },
           "zaxis": {
            "backgroundcolor": "#E5ECF6",
            "gridcolor": "white",
            "gridwidth": 2,
            "linecolor": "white",
            "showbackground": true,
            "ticks": "",
            "zerolinecolor": "white"
           }
          },
          "shapedefaults": {
           "line": {
            "color": "#2a3f5f"
           }
          },
          "ternary": {
           "aaxis": {
            "gridcolor": "white",
            "linecolor": "white",
            "ticks": ""
           },
           "baxis": {
            "gridcolor": "white",
            "linecolor": "white",
            "ticks": ""
           },
           "bgcolor": "#E5ECF6",
           "caxis": {
            "gridcolor": "white",
            "linecolor": "white",
            "ticks": ""
           }
          },
          "title": {
           "x": 0.05
          },
          "xaxis": {
           "automargin": true,
           "gridcolor": "white",
           "linecolor": "white",
           "ticks": "",
           "title": {
            "standoff": 15
           },
           "zerolinecolor": "white",
           "zerolinewidth": 2
          },
          "yaxis": {
           "automargin": true,
           "gridcolor": "white",
           "linecolor": "white",
           "ticks": "",
           "title": {
            "standoff": 15
           },
           "zerolinecolor": "white",
           "zerolinewidth": 2
          }
         }
        },
        "title": {
         "text": "Trends of Number of Wildfires each Month from 1990-2021 by Province"
        },
        "width": 1780,
        "xaxis": {
         "anchor": "y",
         "domain": [
          0,
          1
         ]
        },
        "xaxis10": {
         "anchor": "y10",
         "domain": [
          0,
          1
         ]
        },
        "xaxis11": {
         "anchor": "y11",
         "domain": [
          0,
          1
         ]
        },
        "xaxis12": {
         "anchor": "y12",
         "domain": [
          0,
          1
         ]
        },
        "xaxis2": {
         "anchor": "y2",
         "domain": [
          0,
          1
         ]
        },
        "xaxis3": {
         "anchor": "y3",
         "domain": [
          0,
          1
         ]
        },
        "xaxis4": {
         "anchor": "y4",
         "domain": [
          0,
          1
         ]
        },
        "xaxis5": {
         "anchor": "y5",
         "domain": [
          0,
          1
         ]
        },
        "xaxis6": {
         "anchor": "y6",
         "domain": [
          0,
          1
         ]
        },
        "xaxis7": {
         "anchor": "y7",
         "domain": [
          0,
          1
         ]
        },
        "xaxis8": {
         "anchor": "y8",
         "domain": [
          0,
          1
         ]
        },
        "xaxis9": {
         "anchor": "y9",
         "domain": [
          0,
          1
         ]
        },
        "yaxis": {
         "anchor": "x",
         "domain": [
          0.9548611111111112,
          1
         ]
        },
        "yaxis10": {
         "anchor": "x10",
         "domain": [
          0.1736111111111111,
          0.21875
         ]
        },
        "yaxis11": {
         "anchor": "x11",
         "domain": [
          0.08680555555555555,
          0.13194444444444445
         ]
        },
        "yaxis12": {
         "anchor": "x12",
         "domain": [
          0,
          0.045138888888888895
         ]
        },
        "yaxis2": {
         "anchor": "x2",
         "domain": [
          0.8680555555555556,
          0.9131944444444444
         ]
        },
        "yaxis3": {
         "anchor": "x3",
         "domain": [
          0.78125,
          0.8263888888888888
         ]
        },
        "yaxis4": {
         "anchor": "x4",
         "domain": [
          0.6944444444444444,
          0.7395833333333333
         ]
        },
        "yaxis5": {
         "anchor": "x5",
         "domain": [
          0.6076388888888888,
          0.6527777777777777
         ]
        },
        "yaxis6": {
         "anchor": "x6",
         "domain": [
          0.5208333333333334,
          0.5659722222222223
         ]
        },
        "yaxis7": {
         "anchor": "x7",
         "domain": [
          0.4340277777777778,
          0.4791666666666667
         ]
        },
        "yaxis8": {
         "anchor": "x8",
         "domain": [
          0.3472222222222222,
          0.3923611111111111
         ]
        },
        "yaxis9": {
         "anchor": "x9",
         "domain": [
          0.2604166666666667,
          0.3055555555555556
         ]
        }
       }
      }
     },
     "metadata": {},
     "output_type": "display_data"
    }
   ],
   "source": [
    "# Get unique jurisdictions excluding \"Parks Canada\"\n",
    "jurisdictions = numfiresbymonth[numfiresbymonth['Jurisdiction'] != 'Parks Canada']['Jurisdiction'].unique()\n",
    "\n",
    "# Create subplots with 12 rows and 1 column (excluding \"Parks Canada\")\n",
    "fig = make_subplots(rows=12, cols=1, subplot_titles=jurisdictions)\n",
    "\n",
    "# Iterate over jurisdictions and create a bar plot for each\n",
    "for i, jurisdiction in enumerate(jurisdictions, start=1):\n",
    "    # Filter data for the current jurisdiction\n",
    "    jurisdiction_data = numfiresbymonth[numfiresbymonth['Jurisdiction'] == jurisdiction]\n",
    "    \n",
    "    # Create a bar trace for each year excluding \"Unspecified\" (error value)\n",
    "    for year in range(1990, 2022):\n",
    "        # Check if \"Unspecified\" month exists in the data\n",
    "        if \"Unspecified\" in jurisdiction_data['Month'].values:\n",
    "            jurisdiction_data_filtered = jurisdiction_data[jurisdiction_data['Month'] != \"Unspecified\"]\n",
    "        else:\n",
    "            jurisdiction_data_filtered = jurisdiction_data\n",
    "        \n",
    "        fig.add_trace(\n",
    "            go.Bar(x=jurisdiction_data_filtered['Month'], y=jurisdiction_data_filtered[year], name=str(year)),\n",
    "            row=i, col=1\n",
    "        )\n",
    "\n",
    "# Update layout\n",
    "fig.update_layout(height=1800, width=1780, showlegend=False, title_text=\"Trends of Number of Wildfires each Month from 1990-2021 by Province\").show()"
   ]
  }
 ],
 "metadata": {
  "kernelspec": {
   "display_name": "Python 3",
   "language": "python",
   "name": "python3"
  },
  "language_info": {
   "codemirror_mode": {
    "name": "ipython",
    "version": 3
   },
   "file_extension": ".py",
   "mimetype": "text/x-python",
   "name": "python",
   "nbconvert_exporter": "python",
   "pygments_lexer": "ipython3",
   "version": "3.10.8"
  },
  "orig_nbformat": 4
 },
 "nbformat": 4,
 "nbformat_minor": 2
}
