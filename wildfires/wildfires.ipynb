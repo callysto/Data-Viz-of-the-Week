{
 "cells": [
  {
   "attachments": {},
   "cell_type": "markdown",
   "metadata": {},
   "source": [
    "![Callysto.ca Banner](https://github.com/callysto/curriculum-notebooks/blob/master/callysto-notebook-banner-top.jpg?raw=true)"
   ]
  },
  {
   "attachments": {},
   "cell_type": "markdown",
   "metadata": {},
   "source": [
    "# Callysto’s Weekly Data Visualization\n",
    "\n",
    "## Wildfires\n",
    "\n",
    "### Recommended Grade levels: 9-12\n",
    "<br>"
   ]
  },
  {
   "attachments": {},
   "cell_type": "markdown",
   "metadata": {},
   "source": [
    "### Instructions\n",
    "\n",
    "Click \"Cell\" and select \"Run All\".\n",
    "\n",
    "This will import the data and run all the code, so you can see this week's data visualization. Scroll back to the top after you’ve run the cells.\n",
    "\n",
    "![instructions](https://github.com/callysto/data-viz-of-the-week/blob/main/images/instructions.png?raw=true)\n",
    "\n",
    "**You don't need to do any coding to view the visualizations**.\n",
    "\n",
    "The plots generated in this notebook are interactive. You can hover over and click on elements to see more information. \n",
    "\n",
    "Email contact@callysto.ca if you experience issues."
   ]
  },
  {
   "attachments": {},
   "cell_type": "markdown",
   "metadata": {},
   "source": [
    "### About this Notebook\n",
    "\n",
    "Callysto's Weekly Data Visualization is a learning resource that aims to develop data literacy skills. We provide Grades 5-12 teachers and students with a data visualization, like a graph, to interpret. This companion resource walks learners through how the data visualization is created and interpreted by a data scientist. \n",
    "\n",
    "The steps of the data analysis process are listed below and applied to each weekly topic.\n",
    "\n",
    "1. Question - What are we trying to answer?\n",
    "2. Gather - Find the data source(s) you will need. \n",
    "3. Organize - Arrange the data, so that you can easily explore it. \n",
    "4. Explore - Examine the data to look for evidence to answer the question. This includes creating visualizations. \n",
    "5. Interpret - Describe what's happening in the data visualization. \n",
    "6. Communicate - Explain how the evidence answers the question. "
   ]
  },
  {
   "attachments": {},
   "cell_type": "markdown",
   "metadata": {},
   "source": [
    "## Question\n",
    "\n",
    "What are the primary causes of wildfires and when do they occur?"
   ]
  },
  {
   "attachments": {},
   "cell_type": "markdown",
   "metadata": {},
   "source": [
    "### Goal\n",
    "\n",
    "Our goal is to show which natural disasters led to the greatest financial costs and use visualizations to discover any patterns to their impact.\n",
    "\n",
    "The dataset is taken from [Public Safety Canada](https://www.publicsafety.gc.ca/cnt/rsrcs/cndn-dsstr-dtbs/index-en.aspx), and contains information on Canadian natural disaster events from the years 1900 to 2019."
   ]
  },
  {
   "attachments": {},
   "cell_type": "markdown",
   "metadata": {},
   "source": [
    "### Background\n",
    "\n",
    "Weather events and natural diasters have the potential to cause huge amounts of damage to property. Have you ever wondered what the most expensive natural disasters and weather events are in Canada? We are going to explore the costliest natural disasters in the 2010 decade in this notebook. \n"
   ]
  },
  {
   "attachments": {},
   "cell_type": "markdown",
   "metadata": {},
   "source": [
    "## Gather"
   ]
  },
  {
   "attachments": {},
   "cell_type": "markdown",
   "metadata": {},
   "source": [
    "### Code: "
   ]
  },
  {
   "attachments": {},
   "cell_type": "markdown",
   "metadata": {},
   "source": [
    "Run the code cells below to import the libraries we need for this project. Libraries are pre-made code that make it easier to analyze our data."
   ]
  },
  {
   "cell_type": "code",
   "execution_count": 69,
   "metadata": {},
   "outputs": [],
   "source": [
    "import pandas as pd\n",
    "import plotly_express as px\n",
    "from plotly.subplots import make_subplots\n",
    "import plotly.graph_objects as go\n",
    "import warnings\n",
    "warnings.simplefilter(action='ignore', category=FutureWarning)"
   ]
  },
  {
   "cell_type": "code",
   "execution_count": 70,
   "metadata": {},
   "outputs": [],
   "source": [
    "areabygroup = pd.read_excel('https://raw.githubusercontent.com/callysto/data-files/main/data-viz-of-the-week/wildfires/areaburnedbygroup.xlsx', skiprows=1)\n",
    "areabymonth = pd.read_excel('https://raw.githubusercontent.com/callysto/data-files/main/data-viz-of-the-week/wildfires/areaburnedbymonth.xlsx', skiprows=1)\n",
    "areabyclass = pd.read_excel('https://raw.githubusercontent.com/callysto/data-files/main/data-viz-of-the-week/wildfires/areaburnedfireclass.xlsx', skiprows=1)\n",
    "numfiresbyclass = pd.read_excel('https://raw.githubusercontent.com/callysto/data-files/main/data-viz-of-the-week/wildfires/numfiresbyfiresize.xlsx', skiprows=1)\n",
    "numfiresbygroup = pd.read_excel('https://raw.githubusercontent.com/callysto/data-files/main/data-viz-of-the-week/wildfires/numfiresbygroup.xlsx')\n",
    "numfiresbymonth = pd.read_excel('https://raw.githubusercontent.com/callysto/data-files/main/data-viz-of-the-week/wildfires/numfiresbymonth.xlsx', skiprows=1)"
   ]
  },
  {
   "cell_type": "code",
   "execution_count": 71,
   "metadata": {},
   "outputs": [
    {
     "data": {
      "text/plain": [
       "Index([  'Jurisdiction',          'Cause', 'Data Qualifier',             1990,\n",
       "                   1991,             1992,             1993,             1994,\n",
       "                   1995,             1996,             1997,             1998,\n",
       "                   1999,             2000,             2001,             2002,\n",
       "                   2003,             2004,             2005,             2006,\n",
       "                   2007,             2008,             2009,             2010,\n",
       "                   2011,             2012,             2013,             2014,\n",
       "                   2015,             2016,             2017,             2018,\n",
       "                   2019,             2020,             2021],\n",
       "      dtype='object')"
      ]
     },
     "execution_count": 71,
     "metadata": {},
     "output_type": "execute_result"
    }
   ],
   "source": [
    "areabygroup.columns"
   ]
  },
  {
   "cell_type": "code",
   "execution_count": 193,
   "metadata": {},
   "outputs": [
    {
     "data": {
      "text/html": [
       "<div>\n",
       "<style scoped>\n",
       "    .dataframe tbody tr th:only-of-type {\n",
       "        vertical-align: middle;\n",
       "    }\n",
       "\n",
       "    .dataframe tbody tr th {\n",
       "        vertical-align: top;\n",
       "    }\n",
       "\n",
       "    .dataframe thead th {\n",
       "        text-align: right;\n",
       "    }\n",
       "</style>\n",
       "<table border=\"1\" class=\"dataframe\">\n",
       "  <thead>\n",
       "    <tr style=\"text-align: right;\">\n",
       "      <th></th>\n",
       "      <th>Jurisdiction</th>\n",
       "      <th>Cause</th>\n",
       "      <th>Data Qualifier</th>\n",
       "      <th>1990</th>\n",
       "      <th>1991</th>\n",
       "      <th>1992</th>\n",
       "      <th>1993</th>\n",
       "      <th>1994</th>\n",
       "      <th>1995</th>\n",
       "      <th>1996</th>\n",
       "      <th>...</th>\n",
       "      <th>2012</th>\n",
       "      <th>2013</th>\n",
       "      <th>2014</th>\n",
       "      <th>2015</th>\n",
       "      <th>2016</th>\n",
       "      <th>2017</th>\n",
       "      <th>2018</th>\n",
       "      <th>2019</th>\n",
       "      <th>2020</th>\n",
       "      <th>2021</th>\n",
       "    </tr>\n",
       "  </thead>\n",
       "  <tbody>\n",
       "    <tr>\n",
       "      <th>0</th>\n",
       "      <td>Alberta</td>\n",
       "      <td>Human activity</td>\n",
       "      <td>a</td>\n",
       "      <td>379.0</td>\n",
       "      <td>433.0</td>\n",
       "      <td>398.0</td>\n",
       "      <td>306.0</td>\n",
       "      <td>361.0</td>\n",
       "      <td>414.0</td>\n",
       "      <td>143.0</td>\n",
       "      <td>...</td>\n",
       "      <td>1133.0</td>\n",
       "      <td>892.0</td>\n",
       "      <td>865.0</td>\n",
       "      <td>1033.0</td>\n",
       "      <td>878.0</td>\n",
       "      <td>834.0</td>\n",
       "      <td>782.0</td>\n",
       "      <td>728.0</td>\n",
       "      <td>681.0</td>\n",
       "      <td>NaN</td>\n",
       "    </tr>\n",
       "    <tr>\n",
       "      <th>1</th>\n",
       "      <td>Alberta</td>\n",
       "      <td>Lightning</td>\n",
       "      <td>a</td>\n",
       "      <td>971.0</td>\n",
       "      <td>484.0</td>\n",
       "      <td>631.0</td>\n",
       "      <td>547.0</td>\n",
       "      <td>551.0</td>\n",
       "      <td>366.0</td>\n",
       "      <td>239.0</td>\n",
       "      <td>...</td>\n",
       "      <td>470.0</td>\n",
       "      <td>337.0</td>\n",
       "      <td>609.0</td>\n",
       "      <td>829.0</td>\n",
       "      <td>537.0</td>\n",
       "      <td>448.0</td>\n",
       "      <td>535.0</td>\n",
       "      <td>318.0</td>\n",
       "      <td>89.0</td>\n",
       "      <td>NaN</td>\n",
       "    </tr>\n",
       "    <tr>\n",
       "      <th>2</th>\n",
       "      <td>Alberta</td>\n",
       "      <td>Prescribed burn</td>\n",
       "      <td>a</td>\n",
       "      <td>NaN</td>\n",
       "      <td>NaN</td>\n",
       "      <td>NaN</td>\n",
       "      <td>NaN</td>\n",
       "      <td>NaN</td>\n",
       "      <td>NaN</td>\n",
       "      <td>NaN</td>\n",
       "      <td>...</td>\n",
       "      <td>1.0</td>\n",
       "      <td>7.0</td>\n",
       "      <td>3.0</td>\n",
       "      <td>7.0</td>\n",
       "      <td>7.0</td>\n",
       "      <td>3.0</td>\n",
       "      <td>2.0</td>\n",
       "      <td>2.0</td>\n",
       "      <td>2.0</td>\n",
       "      <td>NaN</td>\n",
       "    </tr>\n",
       "    <tr>\n",
       "      <th>3</th>\n",
       "      <td>Alberta</td>\n",
       "      <td>Reburn</td>\n",
       "      <td>a</td>\n",
       "      <td>NaN</td>\n",
       "      <td>NaN</td>\n",
       "      <td>NaN</td>\n",
       "      <td>NaN</td>\n",
       "      <td>NaN</td>\n",
       "      <td>NaN</td>\n",
       "      <td>NaN</td>\n",
       "      <td>...</td>\n",
       "      <td>NaN</td>\n",
       "      <td>NaN</td>\n",
       "      <td>NaN</td>\n",
       "      <td>NaN</td>\n",
       "      <td>NaN</td>\n",
       "      <td>NaN</td>\n",
       "      <td>NaN</td>\n",
       "      <td>NaN</td>\n",
       "      <td>NaN</td>\n",
       "      <td>NaN</td>\n",
       "    </tr>\n",
       "    <tr>\n",
       "      <th>4</th>\n",
       "      <td>Alberta</td>\n",
       "      <td>Unspecified</td>\n",
       "      <td>a</td>\n",
       "      <td>16.0</td>\n",
       "      <td>27.0</td>\n",
       "      <td>32.0</td>\n",
       "      <td>23.0</td>\n",
       "      <td>19.0</td>\n",
       "      <td>28.0</td>\n",
       "      <td>16.0</td>\n",
       "      <td>...</td>\n",
       "      <td>42.0</td>\n",
       "      <td>43.0</td>\n",
       "      <td>29.0</td>\n",
       "      <td>83.0</td>\n",
       "      <td>63.0</td>\n",
       "      <td>45.0</td>\n",
       "      <td>63.0</td>\n",
       "      <td>33.0</td>\n",
       "      <td>28.0</td>\n",
       "      <td>NaN</td>\n",
       "    </tr>\n",
       "  </tbody>\n",
       "</table>\n",
       "<p>5 rows × 35 columns</p>\n",
       "</div>"
      ],
      "text/plain": [
       "  Jurisdiction            Cause Data Qualifier   1990   1991   1992   1993  \\\n",
       "0      Alberta   Human activity              a  379.0  433.0  398.0  306.0   \n",
       "1      Alberta        Lightning              a  971.0  484.0  631.0  547.0   \n",
       "2      Alberta  Prescribed burn              a    NaN    NaN    NaN    NaN   \n",
       "3      Alberta           Reburn              a    NaN    NaN    NaN    NaN   \n",
       "4      Alberta      Unspecified              a   16.0   27.0   32.0   23.0   \n",
       "\n",
       "    1994   1995   1996  ...    2012   2013   2014    2015   2016   2017  \\\n",
       "0  361.0  414.0  143.0  ...  1133.0  892.0  865.0  1033.0  878.0  834.0   \n",
       "1  551.0  366.0  239.0  ...   470.0  337.0  609.0   829.0  537.0  448.0   \n",
       "2    NaN    NaN    NaN  ...     1.0    7.0    3.0     7.0    7.0    3.0   \n",
       "3    NaN    NaN    NaN  ...     NaN    NaN    NaN     NaN    NaN    NaN   \n",
       "4   19.0   28.0   16.0  ...    42.0   43.0   29.0    83.0   63.0   45.0   \n",
       "\n",
       "    2018   2019   2020  2021  \n",
       "0  782.0  728.0  681.0   NaN  \n",
       "1  535.0  318.0   89.0   NaN  \n",
       "2    2.0    2.0    2.0   NaN  \n",
       "3    NaN    NaN    NaN   NaN  \n",
       "4   63.0   33.0   28.0   NaN  \n",
       "\n",
       "[5 rows x 35 columns]"
      ]
     },
     "metadata": {},
     "output_type": "display_data"
    }
   ],
   "source": [
    "# display(areabygroup)\n",
    "# display(areabymonth.head())\n",
    "#display(areabyclass.head())\n",
    "#display(numfiresbyclass.head())\n",
    "#display(numfiresbygroup.head())\n",
    "# display(numfiresbymonth.head())"
   ]
  },
  {
   "cell_type": "code",
   "execution_count": 155,
   "metadata": {},
   "outputs": [
    {
     "name": "stdout",
     "output_type": "stream",
     "text": [
      "{1990: '#0d0887', 1991: '#46039f', 1992: '#7201a8', 1993: '#9c179e', 1994: '#bd3786', 1995: '#d8576b', 1996: '#ed7953', 1997: '#fb9f3a', 1998: '#fdca26', 1999: '#f0f921', 2000: '#440154', 2001: '#482878', 2002: '#3e4989', 2003: '#31688e', 2004: '#26828e', 2005: '#1f9e89', 2006: '#35b779', 2007: '#6ece58', 2008: '#b5de2b', 2009: '#fde725', 2010: 'rgb(0, 155, 158)', 2011: 'rgb(66, 183, 185)', 2012: 'rgb(167, 211, 212)', 2013: 'rgb(241, 241, 241)', 2014: 'rgb(228, 193, 217)', 2015: 'rgb(214, 145, 193)', 2016: 'rgb(199, 93, 171)', 2020: '#000004', 2021: '#180f3d'}\n"
     ]
    }
   ],
   "source": [
    "years = list(range(1990, 2022))\n",
    "\n",
    "colors = {\n",
    "    \"Plasma\": px.colors.sequential.Plasma,\n",
    "    \"Viridis\": px.colors.sequential.Viridis,\n",
    "    \"Cividis\": px.colors.diverging.Tropic,\n",
    "    \"Magma\": px.colors.sequential.Magma\n",
    "}\n",
    "\n",
    "color_maps = {}\n",
    "\n",
    "for i, color_name in enumerate(colors):\n",
    "    color_sequence = colors[color_name]\n",
    "    start_index = i * 10\n",
    "    end_index = (i + 1) * 10\n",
    "    color_map = dict(zip(years[start_index:end_index], color_sequence))\n",
    "    color_maps.update(color_map)\n",
    "print(color_maps)"
   ]
  },
  {
   "cell_type": "code",
   "execution_count": 165,
   "metadata": {},
   "outputs": [
    {
     "name": "stdout",
     "output_type": "stream",
     "text": [
      "{1990: '#a50026', 1991: '#b50f26', 1992: '#c51e26', 1993: '#d52e26', 1994: '#df412f', 1995: '#e85538', 1996: '#f26941', 1997: '#f67d4a', 1998: '#f99254', 1999: '#fca75e', 2000: '#fdb96b', 2001: '#fdc97a', 2002: '#fdd989', 2003: '#fee599', 2004: '#fef0a8', 2005: '#fefab7', 2006: '#fafdc8', 2007: '#f0f9da', 2008: '#e6f5ec', 2009: '#d9eff6', 2010: '#c8e7f1', 2011: '#b6deec', 2012: '#a5d4e6', 2013: '#93c6de', 2014: '#82b8d7', 2015: '#70a9cf', 2016: '#6197c5', 2017: '#5285bc', 2018: '#4472b3', 2019: '#3d5ea9', 2020: '#374a9f', 2021: '#313695'}\n"
     ]
    }
   ],
   "source": [
    "import matplotlib.pyplot as plt\n",
    "import numpy as np\n",
    "\n",
    "years = list(range(1990, 2022))\n",
    "\n",
    "# Generate a diverging color scheme from red to blue with 32 colors\n",
    "color_scheme = plt.cm.get_cmap('RdYlBu', len(years))\n",
    "\n",
    "color_map = {}\n",
    "\n",
    "for i, year in enumerate(years):\n",
    "    color = color_scheme(i)\n",
    "    hex_color = '#{:02x}{:02x}{:02x}'.format(int(color[0]*255), int(color[1]*255), int(color[2]*255))\n",
    "    color_map[year] = hex_color\n",
    "print(color_map)"
   ]
  },
  {
   "cell_type": "code",
   "execution_count": 191,
   "metadata": {},
   "outputs": [
    {
     "data": {
      "application/vnd.plotly.v1+json": {
       "config": {
        "plotlyServerURL": "https://plot.ly"
       },
       "data": [
        {
         "marker": {
          "color": "#a50026"
         },
         "name": "1990",
         "type": "bar",
         "x": [
          "Human activity",
          "Lightning",
          "Prescribed burn",
          "Reburn",
          "Unspecified"
         ],
         "xaxis": "x",
         "y": [
          124127,
          828079,
          0,
          0,
          1117
         ],
         "yaxis": "y"
        },
        {
         "marker": {
          "color": "#a50026"
         },
         "name": "1990",
         "type": "bar",
         "x": [
          "Human activity",
          "Lightning",
          "Prescribed burn",
          "Reburn",
          "Unspecified"
         ],
         "xaxis": "x2",
         "y": [
          4935,
          4944,
          0,
          0,
          131
         ],
         "yaxis": "y2"
        },
        {
         "marker": {
          "color": "#b50f26"
         },
         "name": "1991",
         "type": "bar",
         "x": [
          "Human activity",
          "Lightning",
          "Prescribed burn",
          "Reburn",
          "Unspecified"
         ],
         "xaxis": "x",
         "y": [
          134485,
          1410890,
          0,
          0,
          412
         ],
         "yaxis": "y"
        },
        {
         "marker": {
          "color": "#b50f26"
         },
         "name": "1991",
         "type": "bar",
         "x": [
          "Human activity",
          "Lightning",
          "Prescribed burn",
          "Reburn",
          "Unspecified"
         ],
         "xaxis": "x2",
         "y": [
          5743,
          4276,
          0,
          0,
          212
         ],
         "yaxis": "y2"
        },
        {
         "marker": {
          "color": "#c51e26"
         },
         "name": "1992",
         "type": "bar",
         "x": [
          "Human activity",
          "Lightning",
          "Prescribed burn",
          "Reburn",
          "Unspecified"
         ],
         "xaxis": "x",
         "y": [
          145841,
          702795,
          0,
          0,
          3190
         ],
         "yaxis": "y"
        },
        {
         "marker": {
          "color": "#c51e26"
         },
         "name": "1992",
         "type": "bar",
         "x": [
          "Human activity",
          "Lightning",
          "Prescribed burn",
          "Reburn",
          "Unspecified"
         ],
         "xaxis": "x2",
         "y": [
          4765,
          4075,
          0,
          0,
          154
         ],
         "yaxis": "y2"
        },
        {
         "marker": {
          "color": "#d52e26"
         },
         "name": "1993",
         "type": "bar",
         "x": [
          "Human activity",
          "Lightning",
          "Prescribed burn",
          "Reburn",
          "Unspecified"
         ],
         "xaxis": "x",
         "y": [
          153454,
          1789359,
          7400,
          0,
          139
         ],
         "yaxis": "y"
        },
        {
         "marker": {
          "color": "#d52e26"
         },
         "name": "1993",
         "type": "bar",
         "x": [
          "Human activity",
          "Lightning",
          "Prescribed burn",
          "Reburn",
          "Unspecified"
         ],
         "xaxis": "x2",
         "y": [
          3589,
          2273,
          2,
          0,
          113
         ],
         "yaxis": "y2"
        },
        {
         "marker": {
          "color": "#df412f"
         },
         "name": "1994",
         "type": "bar",
         "x": [
          "Human activity",
          "Lightning",
          "Prescribed burn",
          "Reburn",
          "Unspecified"
         ],
         "xaxis": "x",
         "y": [
          510721,
          5632460,
          17882,
          0,
          284
         ],
         "yaxis": "y"
        },
        {
         "marker": {
          "color": "#df412f"
         },
         "name": "1994",
         "type": "bar",
         "x": [
          "Human activity",
          "Lightning",
          "Prescribed burn",
          "Reburn",
          "Unspecified"
         ],
         "xaxis": "x2",
         "y": [
          4173,
          5323,
          28,
          0,
          155
         ],
         "yaxis": "y2"
        },
        {
         "marker": {
          "color": "#e85538"
         },
         "name": "1995",
         "type": "bar",
         "x": [
          "Human activity",
          "Lightning",
          "Prescribed burn",
          "Reburn",
          "Unspecified"
         ],
         "xaxis": "x",
         "y": [
          377085,
          6977955,
          15997,
          0,
          4322
         ],
         "yaxis": "y"
        },
        {
         "marker": {
          "color": "#e85538"
         },
         "name": "1995",
         "type": "bar",
         "x": [
          "Human activity",
          "Lightning",
          "Prescribed burn",
          "Reburn",
          "Unspecified"
         ],
         "xaxis": "x2",
         "y": [
          4742,
          3492,
          8,
          0,
          203
         ],
         "yaxis": "y2"
        },
        {
         "marker": {
          "color": "#f26941"
         },
         "name": "1996",
         "type": "bar",
         "x": [
          "Human activity",
          "Lightning",
          "Prescribed burn",
          "Reburn",
          "Unspecified"
         ],
         "xaxis": "x",
         "y": [
          42192,
          1815726,
          0,
          0,
          3831
         ],
         "yaxis": "y"
        },
        {
         "marker": {
          "color": "#f26941"
         },
         "name": "1996",
         "type": "bar",
         "x": [
          "Human activity",
          "Lightning",
          "Prescribed burn",
          "Reburn",
          "Unspecified"
         ],
         "xaxis": "x2",
         "y": [
          2890,
          3371,
          0,
          0,
          118
         ],
         "yaxis": "y2"
        },
        {
         "marker": {
          "color": "#f67d4a"
         },
         "name": "1997",
         "type": "bar",
         "x": [
          "Human activity",
          "Lightning",
          "Prescribed burn",
          "Reburn",
          "Unspecified"
         ],
         "xaxis": "x",
         "y": [
          28237,
          604036,
          0,
          0,
          475
         ],
         "yaxis": "y"
        },
        {
         "marker": {
          "color": "#f67d4a"
         },
         "name": "1997",
         "type": "bar",
         "x": [
          "Human activity",
          "Lightning",
          "Prescribed burn",
          "Reburn",
          "Unspecified"
         ],
         "xaxis": "x2",
         "y": [
          3301,
          2620,
          0,
          0,
          169
         ],
         "yaxis": "y2"
        },
        {
         "marker": {
          "color": "#f99254"
         },
         "name": "1998",
         "type": "bar",
         "x": [
          "Human activity",
          "Lightning",
          "Prescribed burn",
          "Reburn",
          "Unspecified"
         ],
         "xaxis": "x",
         "y": [
          328052,
          4385986,
          0,
          0,
          26994
         ],
         "yaxis": "y"
        },
        {
         "marker": {
          "color": "#f99254"
         },
         "name": "1998",
         "type": "bar",
         "x": [
          "Human activity",
          "Lightning",
          "Prescribed burn",
          "Reburn",
          "Unspecified"
         ],
         "xaxis": "x2",
         "y": [
          4423,
          6158,
          0,
          0,
          187
         ],
         "yaxis": "y2"
        },
        {
         "marker": {
          "color": "#fca75e"
         },
         "name": "1999",
         "type": "bar",
         "x": [
          "Human activity",
          "Lightning",
          "Prescribed burn",
          "Reburn",
          "Unspecified"
         ],
         "xaxis": "x",
         "y": [
          345879,
          1359676,
          11158,
          0,
          429
         ],
         "yaxis": "y"
        },
        {
         "marker": {
          "color": "#fca75e"
         },
         "name": "1999",
         "type": "bar",
         "x": [
          "Human activity",
          "Lightning",
          "Prescribed burn",
          "Reburn",
          "Unspecified"
         ],
         "xaxis": "x2",
         "y": [
          4069,
          3382,
          3,
          0,
          154
         ],
         "yaxis": "y2"
        },
        {
         "marker": {
          "color": "#fdb96b"
         },
         "name": "2000",
         "type": "bar",
         "x": [
          "Human activity",
          "Lightning",
          "Prescribed burn",
          "Reburn",
          "Unspecified"
         ],
         "xaxis": "x",
         "y": [
          35498,
          486257,
          18,
          0,
          112382
         ],
         "yaxis": "y"
        },
        {
         "marker": {
          "color": "#fdb96b"
         },
         "name": "2000",
         "type": "bar",
         "x": [
          "Human activity",
          "Lightning",
          "Prescribed burn",
          "Reburn",
          "Unspecified"
         ],
         "xaxis": "x2",
         "y": [
          2754,
          2159,
          1,
          0,
          483
         ],
         "yaxis": "y2"
        },
        {
         "marker": {
          "color": "#fdc97a"
         },
         "name": "2001",
         "type": "bar",
         "x": [
          "Human activity",
          "Lightning",
          "Prescribed burn",
          "Reburn",
          "Unspecified"
         ],
         "xaxis": "x",
         "y": [
          193629,
          373020,
          0,
          0,
          81020
         ],
         "yaxis": "y"
        },
        {
         "marker": {
          "color": "#fdc97a"
         },
         "name": "2001",
         "type": "bar",
         "x": [
          "Human activity",
          "Lightning",
          "Prescribed burn",
          "Reburn",
          "Unspecified"
         ],
         "xaxis": "x2",
         "y": [
          4159,
          2880,
          0,
          0,
          723
         ],
         "yaxis": "y2"
        },
        {
         "marker": {
          "color": "#fdd989"
         },
         "name": "2002",
         "type": "bar",
         "x": [
          "Human activity",
          "Lightning",
          "Prescribed burn",
          "Reburn",
          "Unspecified"
         ],
         "xaxis": "x",
         "y": [
          364925,
          2301358,
          7,
          0,
          97316
         ],
         "yaxis": "y"
        },
        {
         "marker": {
          "color": "#fdd989"
         },
         "name": "2002",
         "type": "bar",
         "x": [
          "Human activity",
          "Lightning",
          "Prescribed burn",
          "Reburn",
          "Unspecified"
         ],
         "xaxis": "x2",
         "y": [
          3559,
          3436,
          1,
          0,
          882
         ],
         "yaxis": "y2"
        },
        {
         "marker": {
          "color": "#fee599"
         },
         "name": "2003",
         "type": "bar",
         "x": [
          "Human activity",
          "Lightning",
          "Prescribed burn",
          "Reburn",
          "Unspecified"
         ],
         "xaxis": "x",
         "y": [
          160357,
          1049135,
          0,
          0,
          958910
         ],
         "yaxis": "y"
        },
        {
         "marker": {
          "color": "#fee599"
         },
         "name": "2003",
         "type": "bar",
         "x": [
          "Human activity",
          "Lightning",
          "Prescribed burn",
          "Reburn",
          "Unspecified"
         ],
         "xaxis": "x2",
         "y": [
          3555,
          3398,
          0,
          0,
          1317
         ],
         "yaxis": "y2"
        },
        {
         "marker": {
          "color": "#fef0a8"
         },
         "name": "2004",
         "type": "bar",
         "x": [
          "Human activity",
          "Lightning",
          "Prescribed burn",
          "Reburn",
          "Unspecified"
         ],
         "xaxis": "x",
         "y": [
          40881,
          3125309,
          0,
          41,
          16768
         ],
         "yaxis": "y"
        },
        {
         "marker": {
          "color": "#fef0a8"
         },
         "name": "2004",
         "type": "bar",
         "x": [
          "Human activity",
          "Lightning",
          "Prescribed burn",
          "Reburn",
          "Unspecified"
         ],
         "xaxis": "x2",
         "y": [
          3015,
          3378,
          1,
          6,
          88
         ],
         "yaxis": "y2"
        },
        {
         "marker": {
          "color": "#fefab7"
         },
         "name": "2005",
         "type": "bar",
         "x": [
          "Human activity",
          "Lightning",
          "Prescribed burn",
          "Reburn",
          "Unspecified"
         ],
         "xaxis": "x",
         "y": [
          75683,
          1609671,
          4,
          0,
          1410
         ],
         "yaxis": "y"
        },
        {
         "marker": {
          "color": "#fefab7"
         },
         "name": "2005",
         "type": "bar",
         "x": [
          "Human activity",
          "Lightning",
          "Prescribed burn",
          "Reburn",
          "Unspecified"
         ],
         "xaxis": "x2",
         "y": [
          3608,
          3717,
          2,
          3,
          122
         ],
         "yaxis": "y2"
        },
        {
         "marker": {
          "color": "#fafdc8"
         },
         "name": "2006",
         "type": "bar",
         "x": [
          "Human activity",
          "Lightning",
          "Prescribed burn",
          "Reburn",
          "Unspecified"
         ],
         "xaxis": "x",
         "y": [
          294045,
          1797131,
          2,
          33,
          9470
         ],
         "yaxis": "y"
        },
        {
         "marker": {
          "color": "#fafdc8"
         },
         "name": "2006",
         "type": "bar",
         "x": [
          "Human activity",
          "Lightning",
          "Prescribed burn",
          "Reburn",
          "Unspecified"
         ],
         "xaxis": "x2",
         "y": [
          4177,
          5404,
          7,
          22,
          144
         ],
         "yaxis": "y2"
        },
        {
         "marker": {
          "color": "#f0f9da"
         },
         "name": "2007",
         "type": "bar",
         "x": [
          "Human activity",
          "Lightning",
          "Prescribed burn",
          "Reburn",
          "Unspecified"
         ],
         "xaxis": "x",
         "y": [
          216147,
          1568189,
          25,
          1,
          1104
         ],
         "yaxis": "y"
        },
        {
         "marker": {
          "color": "#f0f9da"
         },
         "name": "2007",
         "type": "bar",
         "x": [
          "Human activity",
          "Lightning",
          "Prescribed burn",
          "Reburn",
          "Unspecified"
         ],
         "xaxis": "x2",
         "y": [
          3776,
          2981,
          1,
          8,
          153
         ],
         "yaxis": "y2"
        },
        {
         "marker": {
          "color": "#e6f5ec"
         },
         "name": "2008",
         "type": "bar",
         "x": [
          "Human activity",
          "Lightning",
          "Prescribed burn",
          "Reburn",
          "Unspecified"
         ],
         "xaxis": "x",
         "y": [
          126735,
          1528464,
          9297,
          8,
          421
         ],
         "yaxis": "y"
        },
        {
         "marker": {
          "color": "#e6f5ec"
         },
         "name": "2008",
         "type": "bar",
         "x": [
          "Human activity",
          "Lightning",
          "Prescribed burn",
          "Reburn",
          "Unspecified"
         ],
         "xaxis": "x2",
         "y": [
          3214,
          2870,
          23,
          9,
          123
         ],
         "yaxis": "y2"
        },
        {
         "marker": {
          "color": "#d9eff6"
         },
         "name": "2009",
         "type": "bar",
         "x": [
          "Human activity",
          "Lightning",
          "Prescribed burn",
          "Reburn",
          "Unspecified"
         ],
         "xaxis": "x",
         "y": [
          60243,
          695231,
          7000,
          6,
          86
         ],
         "yaxis": "y"
        },
        {
         "marker": {
          "color": "#d9eff6"
         },
         "name": "2009",
         "type": "bar",
         "x": [
          "Human activity",
          "Lightning",
          "Prescribed burn",
          "Reburn",
          "Unspecified"
         ],
         "xaxis": "x2",
         "y": [
          3546,
          3452,
          25,
          9,
          113
         ],
         "yaxis": "y2"
        },
        {
         "marker": {
          "color": "#c8e7f1"
         },
         "name": "2010",
         "type": "bar",
         "x": [
          "Human activity",
          "Lightning",
          "Prescribed burn",
          "Reburn",
          "Unspecified"
         ],
         "xaxis": "x",
         "y": [
          287566,
          2885380,
          2112,
          139,
          2770
         ],
         "yaxis": "y"
        },
        {
         "marker": {
          "color": "#c8e7f1"
         },
         "name": "2010",
         "type": "bar",
         "x": [
          "Human activity",
          "Lightning",
          "Prescribed burn",
          "Reburn",
          "Unspecified"
         ],
         "xaxis": "x2",
         "y": [
          3615,
          3330,
          14,
          12,
          345
         ],
         "yaxis": "y2"
        },
        {
         "marker": {
          "color": "#b6deec"
         },
         "name": "2011",
         "type": "bar",
         "x": [
          "Human activity",
          "Lightning",
          "Prescribed burn",
          "Reburn",
          "Unspecified"
         ],
         "xaxis": "x",
         "y": [
          230341,
          1509985,
          4816,
          0,
          652285
         ],
         "yaxis": "y"
        },
        {
         "marker": {
          "color": "#b6deec"
         },
         "name": "2011",
         "type": "bar",
         "x": [
          "Human activity",
          "Lightning",
          "Prescribed burn",
          "Reburn",
          "Unspecified"
         ],
         "xaxis": "x2",
         "y": [
          2621,
          1824,
          25,
          5,
          203
         ],
         "yaxis": "y2"
        },
        {
         "marker": {
          "color": "#a5d4e6"
         },
         "name": "2012",
         "type": "bar",
         "x": [
          "Human activity",
          "Lightning",
          "Prescribed burn",
          "Reburn",
          "Unspecified"
         ],
         "xaxis": "x",
         "y": [
          111844,
          1665396,
          2627,
          0,
          31823
         ],
         "yaxis": "y"
        },
        {
         "marker": {
          "color": "#a5d4e6"
         },
         "name": "2012",
         "type": "bar",
         "x": [
          "Human activity",
          "Lightning",
          "Prescribed burn",
          "Reburn",
          "Unspecified"
         ],
         "xaxis": "x2",
         "y": [
          3851,
          3534,
          16,
          0,
          517
         ],
         "yaxis": "y2"
        },
        {
         "marker": {
          "color": "#93c6de"
         },
         "name": "2013",
         "type": "bar",
         "x": [
          "Human activity",
          "Lightning",
          "Prescribed burn",
          "Reburn",
          "Unspecified"
         ],
         "xaxis": "x",
         "y": [
          68204,
          4194251,
          1122,
          0,
          4925
         ],
         "yaxis": "y"
        },
        {
         "marker": {
          "color": "#93c6de"
         },
         "name": "2013",
         "type": "bar",
         "x": [
          "Human activity",
          "Lightning",
          "Prescribed burn",
          "Reburn",
          "Unspecified"
         ],
         "xaxis": "x2",
         "y": [
          3232,
          2896,
          20,
          0,
          108
         ],
         "yaxis": "y2"
        },
        {
         "marker": {
          "color": "#82b8d7"
         },
         "name": "2014",
         "type": "bar",
         "x": [
          "Human activity",
          "Lightning",
          "Prescribed burn",
          "Reburn",
          "Unspecified"
         ],
         "xaxis": "x",
         "y": [
          45931,
          4486938,
          3898,
          0,
          8891
         ],
         "yaxis": "y"
        },
        {
         "marker": {
          "color": "#82b8d7"
         },
         "name": "2014",
         "type": "bar",
         "x": [
          "Human activity",
          "Lightning",
          "Prescribed burn",
          "Reburn",
          "Unspecified"
         ],
         "xaxis": "x2",
         "y": [
          2600,
          2328,
          17,
          0,
          75
         ],
         "yaxis": "y2"
        },
        {
         "marker": {
          "color": "#70a9cf"
         },
         "name": "2015",
         "type": "bar",
         "x": [
          "Human activity",
          "Lightning",
          "Prescribed burn",
          "Reburn",
          "Unspecified"
         ],
         "xaxis": "x",
         "y": [
          147755,
          3749916,
          10105,
          0,
          606
         ],
         "yaxis": "y"
        },
        {
         "marker": {
          "color": "#70a9cf"
         },
         "name": "2015",
         "type": "bar",
         "x": [
          "Human activity",
          "Lightning",
          "Prescribed burn",
          "Reburn",
          "Unspecified"
         ],
         "xaxis": "x2",
         "y": [
          3324,
          3548,
          30,
          0,
          132
         ],
         "yaxis": "y2"
        },
        {
         "marker": {
          "color": "#6197c5"
         },
         "name": "2016",
         "type": "bar",
         "x": [
          "Human activity",
          "Lightning",
          "Prescribed burn",
          "Reburn",
          "Unspecified"
         ],
         "xaxis": "x",
         "y": [
          119208,
          707880,
          6480,
          0,
          486038
         ],
         "yaxis": "y"
        },
        {
         "marker": {
          "color": "#6197c5"
         },
         "name": "2016",
         "type": "bar",
         "x": [
          "Human activity",
          "Lightning",
          "Prescribed burn",
          "Reburn",
          "Unspecified"
         ],
         "xaxis": "x2",
         "y": [
          3226,
          1880,
          26,
          0,
          135
         ],
         "yaxis": "y2"
        },
        {
         "marker": {
          "color": "#5285bc"
         },
         "name": "2017",
         "type": "bar",
         "x": [
          "Human activity",
          "Lightning",
          "Prescribed burn",
          "Reburn",
          "Unspecified"
         ],
         "xaxis": "x",
         "y": [
          236686,
          3325000,
          2190,
          0,
          25554
         ],
         "yaxis": "y"
        },
        {
         "marker": {
          "color": "#5285bc"
         },
         "name": "2017",
         "type": "bar",
         "x": [
          "Human activity",
          "Lightning",
          "Prescribed burn",
          "Reburn",
          "Unspecified"
         ],
         "xaxis": "x2",
         "y": [
          2672,
          2874,
          16,
          0,
          96
         ],
         "yaxis": "y2"
        },
        {
         "marker": {
          "color": "#4472b3"
         },
         "name": "2018",
         "type": "bar",
         "x": [
          "Human activity",
          "Lightning",
          "Prescribed burn",
          "Reburn",
          "Unspecified"
         ],
         "xaxis": "x",
         "y": [
          288796,
          1986960,
          37076,
          0,
          16020
         ],
         "yaxis": "y"
        },
        {
         "marker": {
          "color": "#4472b3"
         },
         "name": "2018",
         "type": "bar",
         "x": [
          "Human activity",
          "Lightning",
          "Prescribed burn",
          "Reburn",
          "Unspecified"
         ],
         "xaxis": "x2",
         "y": [
          3191,
          3761,
          19,
          0,
          140
         ],
         "yaxis": "y2"
        },
        {
         "marker": {
          "color": "#3d5ea9"
         },
         "name": "2019",
         "type": "bar",
         "x": [
          "Human activity",
          "Lightning",
          "Prescribed burn",
          "Reburn",
          "Unspecified"
         ],
         "xaxis": "x",
         "y": [
          40299,
          907678,
          308,
          0,
          837929
         ],
         "yaxis": "y"
        },
        {
         "marker": {
          "color": "#3d5ea9"
         },
         "name": "2019",
         "type": "bar",
         "x": [
          "Human activity",
          "Lightning",
          "Prescribed burn",
          "Reburn",
          "Unspecified"
         ],
         "xaxis": "x2",
         "y": [
          2403,
          1477,
          12,
          0,
          170
         ],
         "yaxis": "y2"
        },
        {
         "marker": {
          "color": "#374a9f"
         },
         "name": "2020",
         "type": "bar",
         "x": [
          "Human activity",
          "Lightning",
          "Prescribed burn",
          "Reburn",
          "Unspecified"
         ],
         "xaxis": "x",
         "y": [
          135135,
          78386,
          1392,
          0,
          3322
         ],
         "yaxis": "y"
        },
        {
         "marker": {
          "color": "#374a9f"
         },
         "name": "2020",
         "type": "bar",
         "x": [
          "Human activity",
          "Lightning",
          "Prescribed burn",
          "Reburn",
          "Unspecified"
         ],
         "xaxis": "x2",
         "y": [
          2719,
          1102,
          8,
          0,
          172
         ],
         "yaxis": "y2"
        },
        {
         "marker": {
          "color": "#313695"
         },
         "name": "2021",
         "type": "bar",
         "x": [
          "Human activity",
          "Lightning",
          "Prescribed burn",
          "Reburn",
          "Unspecified"
         ],
         "xaxis": "x",
         "y": [
          0,
          0,
          0,
          0,
          4307520
         ],
         "yaxis": "y"
        },
        {
         "marker": {
          "color": "#313695"
         },
         "name": "2021",
         "type": "bar",
         "x": [
          "Human activity",
          "Lightning",
          "Prescribed burn",
          "Reburn",
          "Unspecified"
         ],
         "xaxis": "x2",
         "y": [
          0,
          0,
          0,
          0,
          6596
         ],
         "yaxis": "y2"
        }
       ],
       "layout": {
        "annotations": [
         {
          "font": {
           "size": 16
          },
          "showarrow": false,
          "text": "Area Burned from Wildfires by Cause",
          "x": 0.5,
          "xanchor": "center",
          "xref": "paper",
          "y": 1,
          "yanchor": "bottom",
          "yref": "paper"
         },
         {
          "font": {
           "size": 16
          },
          "showarrow": false,
          "text": "Number of Fires by Cause",
          "x": 0.5,
          "xanchor": "center",
          "xref": "paper",
          "y": 0.375,
          "yanchor": "bottom",
          "yref": "paper"
         },
         {
          "font": {
           "size": 16
          },
          "showarrow": false,
          "text": "Cause",
          "x": 0.5,
          "xanchor": "center",
          "xref": "paper",
          "y": 0,
          "yanchor": "top",
          "yref": "paper",
          "yshift": -30
         },
         {
          "font": {
           "size": 16
          },
          "showarrow": false,
          "text": "Area Burned (hectares)",
          "textangle": -90,
          "x": 0,
          "xanchor": "right",
          "xref": "paper",
          "xshift": -40,
          "y": 0.5,
          "yanchor": "middle",
          "yref": "paper"
         }
        ],
        "height": 800,
        "template": {
         "data": {
          "bar": [
           {
            "error_x": {
             "color": "#2a3f5f"
            },
            "error_y": {
             "color": "#2a3f5f"
            },
            "marker": {
             "line": {
              "color": "#E5ECF6",
              "width": 0.5
             },
             "pattern": {
              "fillmode": "overlay",
              "size": 10,
              "solidity": 0.2
             }
            },
            "type": "bar"
           }
          ],
          "barpolar": [
           {
            "marker": {
             "line": {
              "color": "#E5ECF6",
              "width": 0.5
             },
             "pattern": {
              "fillmode": "overlay",
              "size": 10,
              "solidity": 0.2
             }
            },
            "type": "barpolar"
           }
          ],
          "carpet": [
           {
            "aaxis": {
             "endlinecolor": "#2a3f5f",
             "gridcolor": "white",
             "linecolor": "white",
             "minorgridcolor": "white",
             "startlinecolor": "#2a3f5f"
            },
            "baxis": {
             "endlinecolor": "#2a3f5f",
             "gridcolor": "white",
             "linecolor": "white",
             "minorgridcolor": "white",
             "startlinecolor": "#2a3f5f"
            },
            "type": "carpet"
           }
          ],
          "choropleth": [
           {
            "colorbar": {
             "outlinewidth": 0,
             "ticks": ""
            },
            "type": "choropleth"
           }
          ],
          "contour": [
           {
            "colorbar": {
             "outlinewidth": 0,
             "ticks": ""
            },
            "colorscale": [
             [
              0,
              "#0d0887"
             ],
             [
              0.1111111111111111,
              "#46039f"
             ],
             [
              0.2222222222222222,
              "#7201a8"
             ],
             [
              0.3333333333333333,
              "#9c179e"
             ],
             [
              0.4444444444444444,
              "#bd3786"
             ],
             [
              0.5555555555555556,
              "#d8576b"
             ],
             [
              0.6666666666666666,
              "#ed7953"
             ],
             [
              0.7777777777777778,
              "#fb9f3a"
             ],
             [
              0.8888888888888888,
              "#fdca26"
             ],
             [
              1,
              "#f0f921"
             ]
            ],
            "type": "contour"
           }
          ],
          "contourcarpet": [
           {
            "colorbar": {
             "outlinewidth": 0,
             "ticks": ""
            },
            "type": "contourcarpet"
           }
          ],
          "heatmap": [
           {
            "colorbar": {
             "outlinewidth": 0,
             "ticks": ""
            },
            "colorscale": [
             [
              0,
              "#0d0887"
             ],
             [
              0.1111111111111111,
              "#46039f"
             ],
             [
              0.2222222222222222,
              "#7201a8"
             ],
             [
              0.3333333333333333,
              "#9c179e"
             ],
             [
              0.4444444444444444,
              "#bd3786"
             ],
             [
              0.5555555555555556,
              "#d8576b"
             ],
             [
              0.6666666666666666,
              "#ed7953"
             ],
             [
              0.7777777777777778,
              "#fb9f3a"
             ],
             [
              0.8888888888888888,
              "#fdca26"
             ],
             [
              1,
              "#f0f921"
             ]
            ],
            "type": "heatmap"
           }
          ],
          "heatmapgl": [
           {
            "colorbar": {
             "outlinewidth": 0,
             "ticks": ""
            },
            "colorscale": [
             [
              0,
              "#0d0887"
             ],
             [
              0.1111111111111111,
              "#46039f"
             ],
             [
              0.2222222222222222,
              "#7201a8"
             ],
             [
              0.3333333333333333,
              "#9c179e"
             ],
             [
              0.4444444444444444,
              "#bd3786"
             ],
             [
              0.5555555555555556,
              "#d8576b"
             ],
             [
              0.6666666666666666,
              "#ed7953"
             ],
             [
              0.7777777777777778,
              "#fb9f3a"
             ],
             [
              0.8888888888888888,
              "#fdca26"
             ],
             [
              1,
              "#f0f921"
             ]
            ],
            "type": "heatmapgl"
           }
          ],
          "histogram": [
           {
            "marker": {
             "pattern": {
              "fillmode": "overlay",
              "size": 10,
              "solidity": 0.2
             }
            },
            "type": "histogram"
           }
          ],
          "histogram2d": [
           {
            "colorbar": {
             "outlinewidth": 0,
             "ticks": ""
            },
            "colorscale": [
             [
              0,
              "#0d0887"
             ],
             [
              0.1111111111111111,
              "#46039f"
             ],
             [
              0.2222222222222222,
              "#7201a8"
             ],
             [
              0.3333333333333333,
              "#9c179e"
             ],
             [
              0.4444444444444444,
              "#bd3786"
             ],
             [
              0.5555555555555556,
              "#d8576b"
             ],
             [
              0.6666666666666666,
              "#ed7953"
             ],
             [
              0.7777777777777778,
              "#fb9f3a"
             ],
             [
              0.8888888888888888,
              "#fdca26"
             ],
             [
              1,
              "#f0f921"
             ]
            ],
            "type": "histogram2d"
           }
          ],
          "histogram2dcontour": [
           {
            "colorbar": {
             "outlinewidth": 0,
             "ticks": ""
            },
            "colorscale": [
             [
              0,
              "#0d0887"
             ],
             [
              0.1111111111111111,
              "#46039f"
             ],
             [
              0.2222222222222222,
              "#7201a8"
             ],
             [
              0.3333333333333333,
              "#9c179e"
             ],
             [
              0.4444444444444444,
              "#bd3786"
             ],
             [
              0.5555555555555556,
              "#d8576b"
             ],
             [
              0.6666666666666666,
              "#ed7953"
             ],
             [
              0.7777777777777778,
              "#fb9f3a"
             ],
             [
              0.8888888888888888,
              "#fdca26"
             ],
             [
              1,
              "#f0f921"
             ]
            ],
            "type": "histogram2dcontour"
           }
          ],
          "mesh3d": [
           {
            "colorbar": {
             "outlinewidth": 0,
             "ticks": ""
            },
            "type": "mesh3d"
           }
          ],
          "parcoords": [
           {
            "line": {
             "colorbar": {
              "outlinewidth": 0,
              "ticks": ""
             }
            },
            "type": "parcoords"
           }
          ],
          "pie": [
           {
            "automargin": true,
            "type": "pie"
           }
          ],
          "scatter": [
           {
            "fillpattern": {
             "fillmode": "overlay",
             "size": 10,
             "solidity": 0.2
            },
            "type": "scatter"
           }
          ],
          "scatter3d": [
           {
            "line": {
             "colorbar": {
              "outlinewidth": 0,
              "ticks": ""
             }
            },
            "marker": {
             "colorbar": {
              "outlinewidth": 0,
              "ticks": ""
             }
            },
            "type": "scatter3d"
           }
          ],
          "scattercarpet": [
           {
            "marker": {
             "colorbar": {
              "outlinewidth": 0,
              "ticks": ""
             }
            },
            "type": "scattercarpet"
           }
          ],
          "scattergeo": [
           {
            "marker": {
             "colorbar": {
              "outlinewidth": 0,
              "ticks": ""
             }
            },
            "type": "scattergeo"
           }
          ],
          "scattergl": [
           {
            "marker": {
             "colorbar": {
              "outlinewidth": 0,
              "ticks": ""
             }
            },
            "type": "scattergl"
           }
          ],
          "scattermapbox": [
           {
            "marker": {
             "colorbar": {
              "outlinewidth": 0,
              "ticks": ""
             }
            },
            "type": "scattermapbox"
           }
          ],
          "scatterpolar": [
           {
            "marker": {
             "colorbar": {
              "outlinewidth": 0,
              "ticks": ""
             }
            },
            "type": "scatterpolar"
           }
          ],
          "scatterpolargl": [
           {
            "marker": {
             "colorbar": {
              "outlinewidth": 0,
              "ticks": ""
             }
            },
            "type": "scatterpolargl"
           }
          ],
          "scatterternary": [
           {
            "marker": {
             "colorbar": {
              "outlinewidth": 0,
              "ticks": ""
             }
            },
            "type": "scatterternary"
           }
          ],
          "surface": [
           {
            "colorbar": {
             "outlinewidth": 0,
             "ticks": ""
            },
            "colorscale": [
             [
              0,
              "#0d0887"
             ],
             [
              0.1111111111111111,
              "#46039f"
             ],
             [
              0.2222222222222222,
              "#7201a8"
             ],
             [
              0.3333333333333333,
              "#9c179e"
             ],
             [
              0.4444444444444444,
              "#bd3786"
             ],
             [
              0.5555555555555556,
              "#d8576b"
             ],
             [
              0.6666666666666666,
              "#ed7953"
             ],
             [
              0.7777777777777778,
              "#fb9f3a"
             ],
             [
              0.8888888888888888,
              "#fdca26"
             ],
             [
              1,
              "#f0f921"
             ]
            ],
            "type": "surface"
           }
          ],
          "table": [
           {
            "cells": {
             "fill": {
              "color": "#EBF0F8"
             },
             "line": {
              "color": "white"
             }
            },
            "header": {
             "fill": {
              "color": "#C8D4E3"
             },
             "line": {
              "color": "white"
             }
            },
            "type": "table"
           }
          ]
         },
         "layout": {
          "annotationdefaults": {
           "arrowcolor": "#2a3f5f",
           "arrowhead": 0,
           "arrowwidth": 1
          },
          "autotypenumbers": "strict",
          "coloraxis": {
           "colorbar": {
            "outlinewidth": 0,
            "ticks": ""
           }
          },
          "colorscale": {
           "diverging": [
            [
             0,
             "#8e0152"
            ],
            [
             0.1,
             "#c51b7d"
            ],
            [
             0.2,
             "#de77ae"
            ],
            [
             0.3,
             "#f1b6da"
            ],
            [
             0.4,
             "#fde0ef"
            ],
            [
             0.5,
             "#f7f7f7"
            ],
            [
             0.6,
             "#e6f5d0"
            ],
            [
             0.7,
             "#b8e186"
            ],
            [
             0.8,
             "#7fbc41"
            ],
            [
             0.9,
             "#4d9221"
            ],
            [
             1,
             "#276419"
            ]
           ],
           "sequential": [
            [
             0,
             "#0d0887"
            ],
            [
             0.1111111111111111,
             "#46039f"
            ],
            [
             0.2222222222222222,
             "#7201a8"
            ],
            [
             0.3333333333333333,
             "#9c179e"
            ],
            [
             0.4444444444444444,
             "#bd3786"
            ],
            [
             0.5555555555555556,
             "#d8576b"
            ],
            [
             0.6666666666666666,
             "#ed7953"
            ],
            [
             0.7777777777777778,
             "#fb9f3a"
            ],
            [
             0.8888888888888888,
             "#fdca26"
            ],
            [
             1,
             "#f0f921"
            ]
           ],
           "sequentialminus": [
            [
             0,
             "#0d0887"
            ],
            [
             0.1111111111111111,
             "#46039f"
            ],
            [
             0.2222222222222222,
             "#7201a8"
            ],
            [
             0.3333333333333333,
             "#9c179e"
            ],
            [
             0.4444444444444444,
             "#bd3786"
            ],
            [
             0.5555555555555556,
             "#d8576b"
            ],
            [
             0.6666666666666666,
             "#ed7953"
            ],
            [
             0.7777777777777778,
             "#fb9f3a"
            ],
            [
             0.8888888888888888,
             "#fdca26"
            ],
            [
             1,
             "#f0f921"
            ]
           ]
          },
          "colorway": [
           "#636efa",
           "#EF553B",
           "#00cc96",
           "#ab63fa",
           "#FFA15A",
           "#19d3f3",
           "#FF6692",
           "#B6E880",
           "#FF97FF",
           "#FECB52"
          ],
          "font": {
           "color": "#2a3f5f"
          },
          "geo": {
           "bgcolor": "white",
           "lakecolor": "white",
           "landcolor": "#E5ECF6",
           "showlakes": true,
           "showland": true,
           "subunitcolor": "white"
          },
          "hoverlabel": {
           "align": "left"
          },
          "hovermode": "closest",
          "mapbox": {
           "style": "light"
          },
          "paper_bgcolor": "white",
          "plot_bgcolor": "#E5ECF6",
          "polar": {
           "angularaxis": {
            "gridcolor": "white",
            "linecolor": "white",
            "ticks": ""
           },
           "bgcolor": "#E5ECF6",
           "radialaxis": {
            "gridcolor": "white",
            "linecolor": "white",
            "ticks": ""
           }
          },
          "scene": {
           "xaxis": {
            "backgroundcolor": "#E5ECF6",
            "gridcolor": "white",
            "gridwidth": 2,
            "linecolor": "white",
            "showbackground": true,
            "ticks": "",
            "zerolinecolor": "white"
           },
           "yaxis": {
            "backgroundcolor": "#E5ECF6",
            "gridcolor": "white",
            "gridwidth": 2,
            "linecolor": "white",
            "showbackground": true,
            "ticks": "",
            "zerolinecolor": "white"
           },
           "zaxis": {
            "backgroundcolor": "#E5ECF6",
            "gridcolor": "white",
            "gridwidth": 2,
            "linecolor": "white",
            "showbackground": true,
            "ticks": "",
            "zerolinecolor": "white"
           }
          },
          "shapedefaults": {
           "line": {
            "color": "#2a3f5f"
           }
          },
          "ternary": {
           "aaxis": {
            "gridcolor": "white",
            "linecolor": "white",
            "ticks": ""
           },
           "baxis": {
            "gridcolor": "white",
            "linecolor": "white",
            "ticks": ""
           },
           "bgcolor": "#E5ECF6",
           "caxis": {
            "gridcolor": "white",
            "linecolor": "white",
            "ticks": ""
           }
          },
          "title": {
           "x": 0.05
          },
          "xaxis": {
           "automargin": true,
           "gridcolor": "white",
           "linecolor": "white",
           "ticks": "",
           "title": {
            "standoff": 15
           },
           "zerolinecolor": "white",
           "zerolinewidth": 2
          },
          "yaxis": {
           "automargin": true,
           "gridcolor": "white",
           "linecolor": "white",
           "ticks": "",
           "title": {
            "standoff": 15
           },
           "zerolinecolor": "white",
           "zerolinewidth": 2
          }
         }
        },
        "width": 1780,
        "xaxis": {
         "anchor": "y",
         "domain": [
          0,
          1
         ]
        },
        "xaxis2": {
         "anchor": "y2",
         "domain": [
          0,
          1
         ]
        },
        "yaxis": {
         "anchor": "x",
         "domain": [
          0.625,
          1
         ]
        },
        "yaxis2": {
         "anchor": "x2",
         "domain": [
          0,
          0.375
         ]
        }
       }
      }
     },
     "metadata": {},
     "output_type": "display_data"
    }
   ],
   "source": [
    "areabygroup_causes = areabygroup.groupby(['Cause']).sum().reset_index()\n",
    "numfiresbygroup_causes = numfiresbygroup.groupby(['Cause']).sum().reset_index()\n",
    "cause_figs = make_subplots(rows=2, cols=1, x_title='Cause', y_title='Area Burned (hectares)', subplot_titles=['Area Burned from Wildfires by Cause', 'Number of Fires by Cause'])\n",
    "for i in range(1990,2022):\n",
    "    cause_figs.add_bar(x=areabygroup_causes['Cause'], y=areabygroup_causes[i], name=i, marker=dict(color=color_map[i]), row=1, col=1)\n",
    "    cause_figs.add_bar(x=numfiresbygroup_causes['Cause'], y=numfiresbygroup_causes[i], name=i, marker=dict(color=color_map[i]), row=2, col=1)\n",
    "cause_figs.update_layout(height=800, width=1780).show()"
   ]
  },
  {
   "cell_type": "code",
   "execution_count": null,
   "metadata": {},
   "outputs": [],
   "source": []
  },
  {
   "cell_type": "code",
   "execution_count": 195,
   "metadata": {},
   "outputs": [
    {
     "data": {
      "application/vnd.plotly.v1+json": {
       "config": {
        "plotlyServerURL": "https://plot.ly"
       },
       "data": [
        {
         "marker": {
          "color": "#a50026"
         },
         "name": "1990",
         "type": "bar",
         "x": [
          "Prescribed burn",
          "Reburn"
         ],
         "xaxis": "x",
         "y": [
          0,
          0
         ],
         "yaxis": "y"
        },
        {
         "marker": {
          "color": "#a50026"
         },
         "name": "1990",
         "type": "bar",
         "x": [
          "Prescribed burn",
          "Reburn"
         ],
         "xaxis": "x2",
         "y": [
          0,
          0
         ],
         "yaxis": "y2"
        },
        {
         "marker": {
          "color": "#b50f26"
         },
         "name": "1991",
         "type": "bar",
         "x": [
          "Prescribed burn",
          "Reburn"
         ],
         "xaxis": "x",
         "y": [
          0,
          0
         ],
         "yaxis": "y"
        },
        {
         "marker": {
          "color": "#b50f26"
         },
         "name": "1991",
         "type": "bar",
         "x": [
          "Prescribed burn",
          "Reburn"
         ],
         "xaxis": "x2",
         "y": [
          0,
          0
         ],
         "yaxis": "y2"
        },
        {
         "marker": {
          "color": "#c51e26"
         },
         "name": "1992",
         "type": "bar",
         "x": [
          "Prescribed burn",
          "Reburn"
         ],
         "xaxis": "x",
         "y": [
          0,
          0
         ],
         "yaxis": "y"
        },
        {
         "marker": {
          "color": "#c51e26"
         },
         "name": "1992",
         "type": "bar",
         "x": [
          "Prescribed burn",
          "Reburn"
         ],
         "xaxis": "x2",
         "y": [
          0,
          0
         ],
         "yaxis": "y2"
        },
        {
         "marker": {
          "color": "#d52e26"
         },
         "name": "1993",
         "type": "bar",
         "x": [
          "Prescribed burn",
          "Reburn"
         ],
         "xaxis": "x",
         "y": [
          7400,
          0
         ],
         "yaxis": "y"
        },
        {
         "marker": {
          "color": "#d52e26"
         },
         "name": "1993",
         "type": "bar",
         "x": [
          "Prescribed burn",
          "Reburn"
         ],
         "xaxis": "x2",
         "y": [
          2,
          0
         ],
         "yaxis": "y2"
        },
        {
         "marker": {
          "color": "#df412f"
         },
         "name": "1994",
         "type": "bar",
         "x": [
          "Prescribed burn",
          "Reburn"
         ],
         "xaxis": "x",
         "y": [
          17882,
          0
         ],
         "yaxis": "y"
        },
        {
         "marker": {
          "color": "#df412f"
         },
         "name": "1994",
         "type": "bar",
         "x": [
          "Prescribed burn",
          "Reburn"
         ],
         "xaxis": "x2",
         "y": [
          28,
          0
         ],
         "yaxis": "y2"
        },
        {
         "marker": {
          "color": "#e85538"
         },
         "name": "1995",
         "type": "bar",
         "x": [
          "Prescribed burn",
          "Reburn"
         ],
         "xaxis": "x",
         "y": [
          15997,
          0
         ],
         "yaxis": "y"
        },
        {
         "marker": {
          "color": "#e85538"
         },
         "name": "1995",
         "type": "bar",
         "x": [
          "Prescribed burn",
          "Reburn"
         ],
         "xaxis": "x2",
         "y": [
          8,
          0
         ],
         "yaxis": "y2"
        },
        {
         "marker": {
          "color": "#f26941"
         },
         "name": "1996",
         "type": "bar",
         "x": [
          "Prescribed burn",
          "Reburn"
         ],
         "xaxis": "x",
         "y": [
          0,
          0
         ],
         "yaxis": "y"
        },
        {
         "marker": {
          "color": "#f26941"
         },
         "name": "1996",
         "type": "bar",
         "x": [
          "Prescribed burn",
          "Reburn"
         ],
         "xaxis": "x2",
         "y": [
          0,
          0
         ],
         "yaxis": "y2"
        },
        {
         "marker": {
          "color": "#f67d4a"
         },
         "name": "1997",
         "type": "bar",
         "x": [
          "Prescribed burn",
          "Reburn"
         ],
         "xaxis": "x",
         "y": [
          0,
          0
         ],
         "yaxis": "y"
        },
        {
         "marker": {
          "color": "#f67d4a"
         },
         "name": "1997",
         "type": "bar",
         "x": [
          "Prescribed burn",
          "Reburn"
         ],
         "xaxis": "x2",
         "y": [
          0,
          0
         ],
         "yaxis": "y2"
        },
        {
         "marker": {
          "color": "#f99254"
         },
         "name": "1998",
         "type": "bar",
         "x": [
          "Prescribed burn",
          "Reburn"
         ],
         "xaxis": "x",
         "y": [
          0,
          0
         ],
         "yaxis": "y"
        },
        {
         "marker": {
          "color": "#f99254"
         },
         "name": "1998",
         "type": "bar",
         "x": [
          "Prescribed burn",
          "Reburn"
         ],
         "xaxis": "x2",
         "y": [
          0,
          0
         ],
         "yaxis": "y2"
        },
        {
         "marker": {
          "color": "#fca75e"
         },
         "name": "1999",
         "type": "bar",
         "x": [
          "Prescribed burn",
          "Reburn"
         ],
         "xaxis": "x",
         "y": [
          11158,
          0
         ],
         "yaxis": "y"
        },
        {
         "marker": {
          "color": "#fca75e"
         },
         "name": "1999",
         "type": "bar",
         "x": [
          "Prescribed burn",
          "Reburn"
         ],
         "xaxis": "x2",
         "y": [
          3,
          0
         ],
         "yaxis": "y2"
        },
        {
         "marker": {
          "color": "#fdb96b"
         },
         "name": "2000",
         "type": "bar",
         "x": [
          "Prescribed burn",
          "Reburn"
         ],
         "xaxis": "x",
         "y": [
          18,
          0
         ],
         "yaxis": "y"
        },
        {
         "marker": {
          "color": "#fdb96b"
         },
         "name": "2000",
         "type": "bar",
         "x": [
          "Prescribed burn",
          "Reburn"
         ],
         "xaxis": "x2",
         "y": [
          1,
          0
         ],
         "yaxis": "y2"
        },
        {
         "marker": {
          "color": "#fdc97a"
         },
         "name": "2001",
         "type": "bar",
         "x": [
          "Prescribed burn",
          "Reburn"
         ],
         "xaxis": "x",
         "y": [
          0,
          0
         ],
         "yaxis": "y"
        },
        {
         "marker": {
          "color": "#fdc97a"
         },
         "name": "2001",
         "type": "bar",
         "x": [
          "Prescribed burn",
          "Reburn"
         ],
         "xaxis": "x2",
         "y": [
          0,
          0
         ],
         "yaxis": "y2"
        },
        {
         "marker": {
          "color": "#fdd989"
         },
         "name": "2002",
         "type": "bar",
         "x": [
          "Prescribed burn",
          "Reburn"
         ],
         "xaxis": "x",
         "y": [
          7,
          0
         ],
         "yaxis": "y"
        },
        {
         "marker": {
          "color": "#fdd989"
         },
         "name": "2002",
         "type": "bar",
         "x": [
          "Prescribed burn",
          "Reburn"
         ],
         "xaxis": "x2",
         "y": [
          1,
          0
         ],
         "yaxis": "y2"
        },
        {
         "marker": {
          "color": "#fee599"
         },
         "name": "2003",
         "type": "bar",
         "x": [
          "Prescribed burn",
          "Reburn"
         ],
         "xaxis": "x",
         "y": [
          0,
          0
         ],
         "yaxis": "y"
        },
        {
         "marker": {
          "color": "#fee599"
         },
         "name": "2003",
         "type": "bar",
         "x": [
          "Prescribed burn",
          "Reburn"
         ],
         "xaxis": "x2",
         "y": [
          0,
          0
         ],
         "yaxis": "y2"
        },
        {
         "marker": {
          "color": "#fef0a8"
         },
         "name": "2004",
         "type": "bar",
         "x": [
          "Prescribed burn",
          "Reburn"
         ],
         "xaxis": "x",
         "y": [
          0,
          41
         ],
         "yaxis": "y"
        },
        {
         "marker": {
          "color": "#fef0a8"
         },
         "name": "2004",
         "type": "bar",
         "x": [
          "Prescribed burn",
          "Reburn"
         ],
         "xaxis": "x2",
         "y": [
          1,
          6
         ],
         "yaxis": "y2"
        },
        {
         "marker": {
          "color": "#fefab7"
         },
         "name": "2005",
         "type": "bar",
         "x": [
          "Prescribed burn",
          "Reburn"
         ],
         "xaxis": "x",
         "y": [
          4,
          0
         ],
         "yaxis": "y"
        },
        {
         "marker": {
          "color": "#fefab7"
         },
         "name": "2005",
         "type": "bar",
         "x": [
          "Prescribed burn",
          "Reburn"
         ],
         "xaxis": "x2",
         "y": [
          2,
          3
         ],
         "yaxis": "y2"
        },
        {
         "marker": {
          "color": "#fafdc8"
         },
         "name": "2006",
         "type": "bar",
         "x": [
          "Prescribed burn",
          "Reburn"
         ],
         "xaxis": "x",
         "y": [
          2,
          33
         ],
         "yaxis": "y"
        },
        {
         "marker": {
          "color": "#fafdc8"
         },
         "name": "2006",
         "type": "bar",
         "x": [
          "Prescribed burn",
          "Reburn"
         ],
         "xaxis": "x2",
         "y": [
          7,
          22
         ],
         "yaxis": "y2"
        },
        {
         "marker": {
          "color": "#f0f9da"
         },
         "name": "2007",
         "type": "bar",
         "x": [
          "Prescribed burn",
          "Reburn"
         ],
         "xaxis": "x",
         "y": [
          25,
          1
         ],
         "yaxis": "y"
        },
        {
         "marker": {
          "color": "#f0f9da"
         },
         "name": "2007",
         "type": "bar",
         "x": [
          "Prescribed burn",
          "Reburn"
         ],
         "xaxis": "x2",
         "y": [
          1,
          8
         ],
         "yaxis": "y2"
        },
        {
         "marker": {
          "color": "#e6f5ec"
         },
         "name": "2008",
         "type": "bar",
         "x": [
          "Prescribed burn",
          "Reburn"
         ],
         "xaxis": "x",
         "y": [
          9297,
          8
         ],
         "yaxis": "y"
        },
        {
         "marker": {
          "color": "#e6f5ec"
         },
         "name": "2008",
         "type": "bar",
         "x": [
          "Prescribed burn",
          "Reburn"
         ],
         "xaxis": "x2",
         "y": [
          23,
          9
         ],
         "yaxis": "y2"
        },
        {
         "marker": {
          "color": "#d9eff6"
         },
         "name": "2009",
         "type": "bar",
         "x": [
          "Prescribed burn",
          "Reburn"
         ],
         "xaxis": "x",
         "y": [
          7000,
          6
         ],
         "yaxis": "y"
        },
        {
         "marker": {
          "color": "#d9eff6"
         },
         "name": "2009",
         "type": "bar",
         "x": [
          "Prescribed burn",
          "Reburn"
         ],
         "xaxis": "x2",
         "y": [
          25,
          9
         ],
         "yaxis": "y2"
        },
        {
         "marker": {
          "color": "#c8e7f1"
         },
         "name": "2010",
         "type": "bar",
         "x": [
          "Prescribed burn",
          "Reburn"
         ],
         "xaxis": "x",
         "y": [
          2112,
          139
         ],
         "yaxis": "y"
        },
        {
         "marker": {
          "color": "#c8e7f1"
         },
         "name": "2010",
         "type": "bar",
         "x": [
          "Prescribed burn",
          "Reburn"
         ],
         "xaxis": "x2",
         "y": [
          14,
          12
         ],
         "yaxis": "y2"
        },
        {
         "marker": {
          "color": "#b6deec"
         },
         "name": "2011",
         "type": "bar",
         "x": [
          "Prescribed burn",
          "Reburn"
         ],
         "xaxis": "x",
         "y": [
          4816,
          0
         ],
         "yaxis": "y"
        },
        {
         "marker": {
          "color": "#b6deec"
         },
         "name": "2011",
         "type": "bar",
         "x": [
          "Prescribed burn",
          "Reburn"
         ],
         "xaxis": "x2",
         "y": [
          25,
          5
         ],
         "yaxis": "y2"
        },
        {
         "marker": {
          "color": "#a5d4e6"
         },
         "name": "2012",
         "type": "bar",
         "x": [
          "Prescribed burn",
          "Reburn"
         ],
         "xaxis": "x",
         "y": [
          2627,
          0
         ],
         "yaxis": "y"
        },
        {
         "marker": {
          "color": "#a5d4e6"
         },
         "name": "2012",
         "type": "bar",
         "x": [
          "Prescribed burn",
          "Reburn"
         ],
         "xaxis": "x2",
         "y": [
          16,
          0
         ],
         "yaxis": "y2"
        },
        {
         "marker": {
          "color": "#93c6de"
         },
         "name": "2013",
         "type": "bar",
         "x": [
          "Prescribed burn",
          "Reburn"
         ],
         "xaxis": "x",
         "y": [
          1122,
          0
         ],
         "yaxis": "y"
        },
        {
         "marker": {
          "color": "#93c6de"
         },
         "name": "2013",
         "type": "bar",
         "x": [
          "Prescribed burn",
          "Reburn"
         ],
         "xaxis": "x2",
         "y": [
          20,
          0
         ],
         "yaxis": "y2"
        },
        {
         "marker": {
          "color": "#82b8d7"
         },
         "name": "2014",
         "type": "bar",
         "x": [
          "Prescribed burn",
          "Reburn"
         ],
         "xaxis": "x",
         "y": [
          3898,
          0
         ],
         "yaxis": "y"
        },
        {
         "marker": {
          "color": "#82b8d7"
         },
         "name": "2014",
         "type": "bar",
         "x": [
          "Prescribed burn",
          "Reburn"
         ],
         "xaxis": "x2",
         "y": [
          17,
          0
         ],
         "yaxis": "y2"
        },
        {
         "marker": {
          "color": "#70a9cf"
         },
         "name": "2015",
         "type": "bar",
         "x": [
          "Prescribed burn",
          "Reburn"
         ],
         "xaxis": "x",
         "y": [
          10105,
          0
         ],
         "yaxis": "y"
        },
        {
         "marker": {
          "color": "#70a9cf"
         },
         "name": "2015",
         "type": "bar",
         "x": [
          "Prescribed burn",
          "Reburn"
         ],
         "xaxis": "x2",
         "y": [
          30,
          0
         ],
         "yaxis": "y2"
        },
        {
         "marker": {
          "color": "#6197c5"
         },
         "name": "2016",
         "type": "bar",
         "x": [
          "Prescribed burn",
          "Reburn"
         ],
         "xaxis": "x",
         "y": [
          6480,
          0
         ],
         "yaxis": "y"
        },
        {
         "marker": {
          "color": "#6197c5"
         },
         "name": "2016",
         "type": "bar",
         "x": [
          "Prescribed burn",
          "Reburn"
         ],
         "xaxis": "x2",
         "y": [
          26,
          0
         ],
         "yaxis": "y2"
        },
        {
         "marker": {
          "color": "#5285bc"
         },
         "name": "2017",
         "type": "bar",
         "x": [
          "Prescribed burn",
          "Reburn"
         ],
         "xaxis": "x",
         "y": [
          2190,
          0
         ],
         "yaxis": "y"
        },
        {
         "marker": {
          "color": "#5285bc"
         },
         "name": "2017",
         "type": "bar",
         "x": [
          "Prescribed burn",
          "Reburn"
         ],
         "xaxis": "x2",
         "y": [
          16,
          0
         ],
         "yaxis": "y2"
        },
        {
         "marker": {
          "color": "#4472b3"
         },
         "name": "2018",
         "type": "bar",
         "x": [
          "Prescribed burn",
          "Reburn"
         ],
         "xaxis": "x",
         "y": [
          37076,
          0
         ],
         "yaxis": "y"
        },
        {
         "marker": {
          "color": "#4472b3"
         },
         "name": "2018",
         "type": "bar",
         "x": [
          "Prescribed burn",
          "Reburn"
         ],
         "xaxis": "x2",
         "y": [
          19,
          0
         ],
         "yaxis": "y2"
        },
        {
         "marker": {
          "color": "#3d5ea9"
         },
         "name": "2019",
         "type": "bar",
         "x": [
          "Prescribed burn",
          "Reburn"
         ],
         "xaxis": "x",
         "y": [
          308,
          0
         ],
         "yaxis": "y"
        },
        {
         "marker": {
          "color": "#3d5ea9"
         },
         "name": "2019",
         "type": "bar",
         "x": [
          "Prescribed burn",
          "Reburn"
         ],
         "xaxis": "x2",
         "y": [
          12,
          0
         ],
         "yaxis": "y2"
        },
        {
         "marker": {
          "color": "#374a9f"
         },
         "name": "2020",
         "type": "bar",
         "x": [
          "Prescribed burn",
          "Reburn"
         ],
         "xaxis": "x",
         "y": [
          1392,
          0
         ],
         "yaxis": "y"
        },
        {
         "marker": {
          "color": "#374a9f"
         },
         "name": "2020",
         "type": "bar",
         "x": [
          "Prescribed burn",
          "Reburn"
         ],
         "xaxis": "x2",
         "y": [
          8,
          0
         ],
         "yaxis": "y2"
        },
        {
         "marker": {
          "color": "#313695"
         },
         "name": "2021",
         "type": "bar",
         "x": [
          "Prescribed burn",
          "Reburn"
         ],
         "xaxis": "x",
         "y": [
          0,
          0
         ],
         "yaxis": "y"
        },
        {
         "marker": {
          "color": "#313695"
         },
         "name": "2021",
         "type": "bar",
         "x": [
          "Prescribed burn",
          "Reburn"
         ],
         "xaxis": "x2",
         "y": [
          0,
          0
         ],
         "yaxis": "y2"
        }
       ],
       "layout": {
        "annotations": [
         {
          "font": {
           "size": 16
          },
          "showarrow": false,
          "text": "Area Burned from Wildfires for Prescribed Burns and Reburns",
          "x": 0.5,
          "xanchor": "center",
          "xref": "paper",
          "y": 1,
          "yanchor": "bottom",
          "yref": "paper"
         },
         {
          "font": {
           "size": 16
          },
          "showarrow": false,
          "text": "Number of Fires caused by Prescribed Burns and Reburns",
          "x": 0.5,
          "xanchor": "center",
          "xref": "paper",
          "y": 0.375,
          "yanchor": "bottom",
          "yref": "paper"
         },
         {
          "font": {
           "size": 16
          },
          "showarrow": false,
          "text": "Cause",
          "x": 0.5,
          "xanchor": "center",
          "xref": "paper",
          "y": 0,
          "yanchor": "top",
          "yref": "paper",
          "yshift": -30
         },
         {
          "font": {
           "size": 16
          },
          "showarrow": false,
          "text": "Area Burned (hectares)",
          "textangle": -90,
          "x": 0,
          "xanchor": "right",
          "xref": "paper",
          "xshift": -40,
          "y": 0.5,
          "yanchor": "middle",
          "yref": "paper"
         }
        ],
        "height": 800,
        "template": {
         "data": {
          "bar": [
           {
            "error_x": {
             "color": "#2a3f5f"
            },
            "error_y": {
             "color": "#2a3f5f"
            },
            "marker": {
             "line": {
              "color": "#E5ECF6",
              "width": 0.5
             },
             "pattern": {
              "fillmode": "overlay",
              "size": 10,
              "solidity": 0.2
             }
            },
            "type": "bar"
           }
          ],
          "barpolar": [
           {
            "marker": {
             "line": {
              "color": "#E5ECF6",
              "width": 0.5
             },
             "pattern": {
              "fillmode": "overlay",
              "size": 10,
              "solidity": 0.2
             }
            },
            "type": "barpolar"
           }
          ],
          "carpet": [
           {
            "aaxis": {
             "endlinecolor": "#2a3f5f",
             "gridcolor": "white",
             "linecolor": "white",
             "minorgridcolor": "white",
             "startlinecolor": "#2a3f5f"
            },
            "baxis": {
             "endlinecolor": "#2a3f5f",
             "gridcolor": "white",
             "linecolor": "white",
             "minorgridcolor": "white",
             "startlinecolor": "#2a3f5f"
            },
            "type": "carpet"
           }
          ],
          "choropleth": [
           {
            "colorbar": {
             "outlinewidth": 0,
             "ticks": ""
            },
            "type": "choropleth"
           }
          ],
          "contour": [
           {
            "colorbar": {
             "outlinewidth": 0,
             "ticks": ""
            },
            "colorscale": [
             [
              0,
              "#0d0887"
             ],
             [
              0.1111111111111111,
              "#46039f"
             ],
             [
              0.2222222222222222,
              "#7201a8"
             ],
             [
              0.3333333333333333,
              "#9c179e"
             ],
             [
              0.4444444444444444,
              "#bd3786"
             ],
             [
              0.5555555555555556,
              "#d8576b"
             ],
             [
              0.6666666666666666,
              "#ed7953"
             ],
             [
              0.7777777777777778,
              "#fb9f3a"
             ],
             [
              0.8888888888888888,
              "#fdca26"
             ],
             [
              1,
              "#f0f921"
             ]
            ],
            "type": "contour"
           }
          ],
          "contourcarpet": [
           {
            "colorbar": {
             "outlinewidth": 0,
             "ticks": ""
            },
            "type": "contourcarpet"
           }
          ],
          "heatmap": [
           {
            "colorbar": {
             "outlinewidth": 0,
             "ticks": ""
            },
            "colorscale": [
             [
              0,
              "#0d0887"
             ],
             [
              0.1111111111111111,
              "#46039f"
             ],
             [
              0.2222222222222222,
              "#7201a8"
             ],
             [
              0.3333333333333333,
              "#9c179e"
             ],
             [
              0.4444444444444444,
              "#bd3786"
             ],
             [
              0.5555555555555556,
              "#d8576b"
             ],
             [
              0.6666666666666666,
              "#ed7953"
             ],
             [
              0.7777777777777778,
              "#fb9f3a"
             ],
             [
              0.8888888888888888,
              "#fdca26"
             ],
             [
              1,
              "#f0f921"
             ]
            ],
            "type": "heatmap"
           }
          ],
          "heatmapgl": [
           {
            "colorbar": {
             "outlinewidth": 0,
             "ticks": ""
            },
            "colorscale": [
             [
              0,
              "#0d0887"
             ],
             [
              0.1111111111111111,
              "#46039f"
             ],
             [
              0.2222222222222222,
              "#7201a8"
             ],
             [
              0.3333333333333333,
              "#9c179e"
             ],
             [
              0.4444444444444444,
              "#bd3786"
             ],
             [
              0.5555555555555556,
              "#d8576b"
             ],
             [
              0.6666666666666666,
              "#ed7953"
             ],
             [
              0.7777777777777778,
              "#fb9f3a"
             ],
             [
              0.8888888888888888,
              "#fdca26"
             ],
             [
              1,
              "#f0f921"
             ]
            ],
            "type": "heatmapgl"
           }
          ],
          "histogram": [
           {
            "marker": {
             "pattern": {
              "fillmode": "overlay",
              "size": 10,
              "solidity": 0.2
             }
            },
            "type": "histogram"
           }
          ],
          "histogram2d": [
           {
            "colorbar": {
             "outlinewidth": 0,
             "ticks": ""
            },
            "colorscale": [
             [
              0,
              "#0d0887"
             ],
             [
              0.1111111111111111,
              "#46039f"
             ],
             [
              0.2222222222222222,
              "#7201a8"
             ],
             [
              0.3333333333333333,
              "#9c179e"
             ],
             [
              0.4444444444444444,
              "#bd3786"
             ],
             [
              0.5555555555555556,
              "#d8576b"
             ],
             [
              0.6666666666666666,
              "#ed7953"
             ],
             [
              0.7777777777777778,
              "#fb9f3a"
             ],
             [
              0.8888888888888888,
              "#fdca26"
             ],
             [
              1,
              "#f0f921"
             ]
            ],
            "type": "histogram2d"
           }
          ],
          "histogram2dcontour": [
           {
            "colorbar": {
             "outlinewidth": 0,
             "ticks": ""
            },
            "colorscale": [
             [
              0,
              "#0d0887"
             ],
             [
              0.1111111111111111,
              "#46039f"
             ],
             [
              0.2222222222222222,
              "#7201a8"
             ],
             [
              0.3333333333333333,
              "#9c179e"
             ],
             [
              0.4444444444444444,
              "#bd3786"
             ],
             [
              0.5555555555555556,
              "#d8576b"
             ],
             [
              0.6666666666666666,
              "#ed7953"
             ],
             [
              0.7777777777777778,
              "#fb9f3a"
             ],
             [
              0.8888888888888888,
              "#fdca26"
             ],
             [
              1,
              "#f0f921"
             ]
            ],
            "type": "histogram2dcontour"
           }
          ],
          "mesh3d": [
           {
            "colorbar": {
             "outlinewidth": 0,
             "ticks": ""
            },
            "type": "mesh3d"
           }
          ],
          "parcoords": [
           {
            "line": {
             "colorbar": {
              "outlinewidth": 0,
              "ticks": ""
             }
            },
            "type": "parcoords"
           }
          ],
          "pie": [
           {
            "automargin": true,
            "type": "pie"
           }
          ],
          "scatter": [
           {
            "fillpattern": {
             "fillmode": "overlay",
             "size": 10,
             "solidity": 0.2
            },
            "type": "scatter"
           }
          ],
          "scatter3d": [
           {
            "line": {
             "colorbar": {
              "outlinewidth": 0,
              "ticks": ""
             }
            },
            "marker": {
             "colorbar": {
              "outlinewidth": 0,
              "ticks": ""
             }
            },
            "type": "scatter3d"
           }
          ],
          "scattercarpet": [
           {
            "marker": {
             "colorbar": {
              "outlinewidth": 0,
              "ticks": ""
             }
            },
            "type": "scattercarpet"
           }
          ],
          "scattergeo": [
           {
            "marker": {
             "colorbar": {
              "outlinewidth": 0,
              "ticks": ""
             }
            },
            "type": "scattergeo"
           }
          ],
          "scattergl": [
           {
            "marker": {
             "colorbar": {
              "outlinewidth": 0,
              "ticks": ""
             }
            },
            "type": "scattergl"
           }
          ],
          "scattermapbox": [
           {
            "marker": {
             "colorbar": {
              "outlinewidth": 0,
              "ticks": ""
             }
            },
            "type": "scattermapbox"
           }
          ],
          "scatterpolar": [
           {
            "marker": {
             "colorbar": {
              "outlinewidth": 0,
              "ticks": ""
             }
            },
            "type": "scatterpolar"
           }
          ],
          "scatterpolargl": [
           {
            "marker": {
             "colorbar": {
              "outlinewidth": 0,
              "ticks": ""
             }
            },
            "type": "scatterpolargl"
           }
          ],
          "scatterternary": [
           {
            "marker": {
             "colorbar": {
              "outlinewidth": 0,
              "ticks": ""
             }
            },
            "type": "scatterternary"
           }
          ],
          "surface": [
           {
            "colorbar": {
             "outlinewidth": 0,
             "ticks": ""
            },
            "colorscale": [
             [
              0,
              "#0d0887"
             ],
             [
              0.1111111111111111,
              "#46039f"
             ],
             [
              0.2222222222222222,
              "#7201a8"
             ],
             [
              0.3333333333333333,
              "#9c179e"
             ],
             [
              0.4444444444444444,
              "#bd3786"
             ],
             [
              0.5555555555555556,
              "#d8576b"
             ],
             [
              0.6666666666666666,
              "#ed7953"
             ],
             [
              0.7777777777777778,
              "#fb9f3a"
             ],
             [
              0.8888888888888888,
              "#fdca26"
             ],
             [
              1,
              "#f0f921"
             ]
            ],
            "type": "surface"
           }
          ],
          "table": [
           {
            "cells": {
             "fill": {
              "color": "#EBF0F8"
             },
             "line": {
              "color": "white"
             }
            },
            "header": {
             "fill": {
              "color": "#C8D4E3"
             },
             "line": {
              "color": "white"
             }
            },
            "type": "table"
           }
          ]
         },
         "layout": {
          "annotationdefaults": {
           "arrowcolor": "#2a3f5f",
           "arrowhead": 0,
           "arrowwidth": 1
          },
          "autotypenumbers": "strict",
          "coloraxis": {
           "colorbar": {
            "outlinewidth": 0,
            "ticks": ""
           }
          },
          "colorscale": {
           "diverging": [
            [
             0,
             "#8e0152"
            ],
            [
             0.1,
             "#c51b7d"
            ],
            [
             0.2,
             "#de77ae"
            ],
            [
             0.3,
             "#f1b6da"
            ],
            [
             0.4,
             "#fde0ef"
            ],
            [
             0.5,
             "#f7f7f7"
            ],
            [
             0.6,
             "#e6f5d0"
            ],
            [
             0.7,
             "#b8e186"
            ],
            [
             0.8,
             "#7fbc41"
            ],
            [
             0.9,
             "#4d9221"
            ],
            [
             1,
             "#276419"
            ]
           ],
           "sequential": [
            [
             0,
             "#0d0887"
            ],
            [
             0.1111111111111111,
             "#46039f"
            ],
            [
             0.2222222222222222,
             "#7201a8"
            ],
            [
             0.3333333333333333,
             "#9c179e"
            ],
            [
             0.4444444444444444,
             "#bd3786"
            ],
            [
             0.5555555555555556,
             "#d8576b"
            ],
            [
             0.6666666666666666,
             "#ed7953"
            ],
            [
             0.7777777777777778,
             "#fb9f3a"
            ],
            [
             0.8888888888888888,
             "#fdca26"
            ],
            [
             1,
             "#f0f921"
            ]
           ],
           "sequentialminus": [
            [
             0,
             "#0d0887"
            ],
            [
             0.1111111111111111,
             "#46039f"
            ],
            [
             0.2222222222222222,
             "#7201a8"
            ],
            [
             0.3333333333333333,
             "#9c179e"
            ],
            [
             0.4444444444444444,
             "#bd3786"
            ],
            [
             0.5555555555555556,
             "#d8576b"
            ],
            [
             0.6666666666666666,
             "#ed7953"
            ],
            [
             0.7777777777777778,
             "#fb9f3a"
            ],
            [
             0.8888888888888888,
             "#fdca26"
            ],
            [
             1,
             "#f0f921"
            ]
           ]
          },
          "colorway": [
           "#636efa",
           "#EF553B",
           "#00cc96",
           "#ab63fa",
           "#FFA15A",
           "#19d3f3",
           "#FF6692",
           "#B6E880",
           "#FF97FF",
           "#FECB52"
          ],
          "font": {
           "color": "#2a3f5f"
          },
          "geo": {
           "bgcolor": "white",
           "lakecolor": "white",
           "landcolor": "#E5ECF6",
           "showlakes": true,
           "showland": true,
           "subunitcolor": "white"
          },
          "hoverlabel": {
           "align": "left"
          },
          "hovermode": "closest",
          "mapbox": {
           "style": "light"
          },
          "paper_bgcolor": "white",
          "plot_bgcolor": "#E5ECF6",
          "polar": {
           "angularaxis": {
            "gridcolor": "white",
            "linecolor": "white",
            "ticks": ""
           },
           "bgcolor": "#E5ECF6",
           "radialaxis": {
            "gridcolor": "white",
            "linecolor": "white",
            "ticks": ""
           }
          },
          "scene": {
           "xaxis": {
            "backgroundcolor": "#E5ECF6",
            "gridcolor": "white",
            "gridwidth": 2,
            "linecolor": "white",
            "showbackground": true,
            "ticks": "",
            "zerolinecolor": "white"
           },
           "yaxis": {
            "backgroundcolor": "#E5ECF6",
            "gridcolor": "white",
            "gridwidth": 2,
            "linecolor": "white",
            "showbackground": true,
            "ticks": "",
            "zerolinecolor": "white"
           },
           "zaxis": {
            "backgroundcolor": "#E5ECF6",
            "gridcolor": "white",
            "gridwidth": 2,
            "linecolor": "white",
            "showbackground": true,
            "ticks": "",
            "zerolinecolor": "white"
           }
          },
          "shapedefaults": {
           "line": {
            "color": "#2a3f5f"
           }
          },
          "ternary": {
           "aaxis": {
            "gridcolor": "white",
            "linecolor": "white",
            "ticks": ""
           },
           "baxis": {
            "gridcolor": "white",
            "linecolor": "white",
            "ticks": ""
           },
           "bgcolor": "#E5ECF6",
           "caxis": {
            "gridcolor": "white",
            "linecolor": "white",
            "ticks": ""
           }
          },
          "title": {
           "x": 0.05
          },
          "xaxis": {
           "automargin": true,
           "gridcolor": "white",
           "linecolor": "white",
           "ticks": "",
           "title": {
            "standoff": 15
           },
           "zerolinecolor": "white",
           "zerolinewidth": 2
          },
          "yaxis": {
           "automargin": true,
           "gridcolor": "white",
           "linecolor": "white",
           "ticks": "",
           "title": {
            "standoff": 15
           },
           "zerolinecolor": "white",
           "zerolinewidth": 2
          }
         }
        },
        "width": 1780,
        "xaxis": {
         "anchor": "y",
         "domain": [
          0,
          1
         ]
        },
        "xaxis2": {
         "anchor": "y2",
         "domain": [
          0,
          1
         ]
        },
        "yaxis": {
         "anchor": "x",
         "domain": [
          0.625,
          1
         ]
        },
        "yaxis2": {
         "anchor": "x2",
         "domain": [
          0,
          0.375
         ]
        }
       }
      }
     },
     "metadata": {},
     "output_type": "display_data"
    }
   ],
   "source": [
    "burn_reburn = areabygroup_causes.iloc[:-1, :]\n",
    "burn_reburn = burn_reburn.tail(2)\n",
    "num_burn_reburn = numfiresbygroup_causes.iloc[:-1, :]\n",
    "num_burn_reburn = num_burn_reburn.tail(2)\n",
    "\n",
    "burns = make_subplots(rows=2, cols=1, x_title='Cause', y_title='Area Burned (hectares)', subplot_titles=['Area Burned from Wildfires for Prescribed Burns and Reburns', 'Number of Fires caused by Prescribed Burns and Reburns'])\n",
    "for i in range(1990,2022):\n",
    "    burns.add_bar(x=burn_reburn['Cause'], y=burn_reburn[i], name=i, marker=dict(color=color_map[i]), row=1, col=1)\n",
    "    burns.add_bar(x=num_burn_reburn['Cause'], y=num_burn_reburn[i], name=i, marker=dict(color=color_map[i]), row=2, col=1)\n",
    "burns.update_layout(height=800, width=1780).show()"
   ]
  },
  {
   "cell_type": "code",
   "execution_count": 76,
   "metadata": {},
   "outputs": [
    {
     "data": {
      "application/vnd.plotly.v1+json": {
       "config": {
        "plotlyServerURL": "https://plot.ly"
       },
       "data": [
        {
         "marker": {
          "color": [
           "blue",
           "red",
           "green",
           "orange",
           "purple",
           "purple",
           "blue",
           "red",
           "green",
           "purple",
           "purple",
           "blue",
           "red",
           "green",
           "purple",
           "purple",
           "blue",
           "red",
           "purple",
           "purple",
           "blue",
           "red",
           "green",
           "purple",
           "purple",
           "blue",
           "red",
           "green",
           "purple",
           "purple",
           "blue",
           "red",
           "green",
           "purple",
           "purple",
           "blue",
           "red",
           "green",
           "purple",
           "purple",
           "purple",
           "blue",
           "red",
           "purple",
           "purple",
           "blue",
           "red",
           "green",
           "purple",
           "purple",
           "blue",
           "red",
           "green",
           "purple",
           "purple",
           "blue",
           "red",
           "purple",
           "purple"
          ]
         },
         "type": "bar",
         "x": [
          [
           "Human activity",
           "Lightning",
           "Prescribed burn",
           "Reburn",
           "Unspecified",
           "Unspecified",
           "Human activity",
           "Lightning",
           "Prescribed burn",
           "Unspecified",
           "Unspecified",
           "Human activity",
           "Lightning",
           "Prescribed burn",
           "Unspecified",
           "Unspecified",
           "Human activity",
           "Lightning",
           "Unspecified",
           "Unspecified",
           "Human activity",
           "Lightning",
           "Prescribed burn",
           "Unspecified",
           "Unspecified",
           "Human activity",
           "Lightning",
           "Prescribed burn",
           "Unspecified",
           "Unspecified",
           "Human activity",
           "Lightning",
           "Prescribed burn",
           "Unspecified",
           "Unspecified",
           "Human activity",
           "Lightning",
           "Prescribed burn",
           "Unspecified",
           "Unspecified",
           "Unspecified",
           "Human activity",
           "Lightning",
           "Unspecified",
           "Unspecified",
           "Human activity",
           "Lightning",
           "Prescribed burn",
           "Unspecified",
           "Unspecified",
           "Human activity",
           "Lightning",
           "Prescribed burn",
           "Unspecified",
           "Unspecified",
           "Human activity",
           "Lightning",
           "Unspecified",
           "Unspecified"
          ],
          [
           "Alberta",
           "Alberta",
           "Alberta",
           "Alberta",
           "Alberta",
           "Alberta",
           "British Columbia",
           "British Columbia",
           "British Columbia",
           "British Columbia",
           "British Columbia",
           "Manitoba",
           "Manitoba",
           "Manitoba",
           "Manitoba",
           "Manitoba",
           "New Brunswick",
           "New Brunswick",
           "New Brunswick",
           "New Brunswick",
           "Newfoundland and Labrador",
           "Newfoundland and Labrador",
           "Newfoundland and Labrador",
           "Newfoundland and Labrador",
           "Newfoundland and Labrador",
           "Northwest Territories",
           "Northwest Territories",
           "Northwest Territories",
           "Northwest Territories",
           "Northwest Territories",
           "Nova Scotia",
           "Nova Scotia",
           "Nova Scotia",
           "Nova Scotia",
           "Nova Scotia",
           "Ontario",
           "Ontario",
           "Ontario",
           "Ontario",
           "Ontario",
           "Parks Canada",
           "Prince Edward Island",
           "Prince Edward Island",
           "Prince Edward Island",
           "Prince Edward Island",
           "Quebec",
           "Quebec",
           "Quebec",
           "Quebec",
           "Quebec",
           "Saskatchewan",
           "Saskatchewan",
           "Saskatchewan",
           "Saskatchewan",
           "Saskatchewan",
           "Yukon",
           "Yukon",
           "Yukon",
           "Yukon"
          ]
         ],
         "y": [
          826789,
          5137901,
          16309,
          228,
          2047467,
          54088,
          787918,
          4316409,
          2891,
          6465,
          869255,
          971437,
          5857735,
          10391,
          1234895,
          1266777,
          20160,
          2310,
          1820,
          427,
          67843,
          550868,
          264,
          36722,
          324,
          173598,
          18405471,
          52455,
          15286,
          156630,
          19219,
          137,
          81,
          2350,
          197,
          477998,
          4170140,
          10137,
          41438,
          793326,
          42538,
          783,
          0,
          272,
          0,
          617001,
          7534064,
          1911,
          1,
          49748,
          1251736,
          13497439,
          46477,
          1485,
          956084,
          131372,
          5237944,
          925,
          118126
         ]
        }
       ],
       "layout": {
        "template": {
         "data": {
          "bar": [
           {
            "error_x": {
             "color": "#2a3f5f"
            },
            "error_y": {
             "color": "#2a3f5f"
            },
            "marker": {
             "line": {
              "color": "#E5ECF6",
              "width": 0.5
             },
             "pattern": {
              "fillmode": "overlay",
              "size": 10,
              "solidity": 0.2
             }
            },
            "type": "bar"
           }
          ],
          "barpolar": [
           {
            "marker": {
             "line": {
              "color": "#E5ECF6",
              "width": 0.5
             },
             "pattern": {
              "fillmode": "overlay",
              "size": 10,
              "solidity": 0.2
             }
            },
            "type": "barpolar"
           }
          ],
          "carpet": [
           {
            "aaxis": {
             "endlinecolor": "#2a3f5f",
             "gridcolor": "white",
             "linecolor": "white",
             "minorgridcolor": "white",
             "startlinecolor": "#2a3f5f"
            },
            "baxis": {
             "endlinecolor": "#2a3f5f",
             "gridcolor": "white",
             "linecolor": "white",
             "minorgridcolor": "white",
             "startlinecolor": "#2a3f5f"
            },
            "type": "carpet"
           }
          ],
          "choropleth": [
           {
            "colorbar": {
             "outlinewidth": 0,
             "ticks": ""
            },
            "type": "choropleth"
           }
          ],
          "contour": [
           {
            "colorbar": {
             "outlinewidth": 0,
             "ticks": ""
            },
            "colorscale": [
             [
              0,
              "#0d0887"
             ],
             [
              0.1111111111111111,
              "#46039f"
             ],
             [
              0.2222222222222222,
              "#7201a8"
             ],
             [
              0.3333333333333333,
              "#9c179e"
             ],
             [
              0.4444444444444444,
              "#bd3786"
             ],
             [
              0.5555555555555556,
              "#d8576b"
             ],
             [
              0.6666666666666666,
              "#ed7953"
             ],
             [
              0.7777777777777778,
              "#fb9f3a"
             ],
             [
              0.8888888888888888,
              "#fdca26"
             ],
             [
              1,
              "#f0f921"
             ]
            ],
            "type": "contour"
           }
          ],
          "contourcarpet": [
           {
            "colorbar": {
             "outlinewidth": 0,
             "ticks": ""
            },
            "type": "contourcarpet"
           }
          ],
          "heatmap": [
           {
            "colorbar": {
             "outlinewidth": 0,
             "ticks": ""
            },
            "colorscale": [
             [
              0,
              "#0d0887"
             ],
             [
              0.1111111111111111,
              "#46039f"
             ],
             [
              0.2222222222222222,
              "#7201a8"
             ],
             [
              0.3333333333333333,
              "#9c179e"
             ],
             [
              0.4444444444444444,
              "#bd3786"
             ],
             [
              0.5555555555555556,
              "#d8576b"
             ],
             [
              0.6666666666666666,
              "#ed7953"
             ],
             [
              0.7777777777777778,
              "#fb9f3a"
             ],
             [
              0.8888888888888888,
              "#fdca26"
             ],
             [
              1,
              "#f0f921"
             ]
            ],
            "type": "heatmap"
           }
          ],
          "heatmapgl": [
           {
            "colorbar": {
             "outlinewidth": 0,
             "ticks": ""
            },
            "colorscale": [
             [
              0,
              "#0d0887"
             ],
             [
              0.1111111111111111,
              "#46039f"
             ],
             [
              0.2222222222222222,
              "#7201a8"
             ],
             [
              0.3333333333333333,
              "#9c179e"
             ],
             [
              0.4444444444444444,
              "#bd3786"
             ],
             [
              0.5555555555555556,
              "#d8576b"
             ],
             [
              0.6666666666666666,
              "#ed7953"
             ],
             [
              0.7777777777777778,
              "#fb9f3a"
             ],
             [
              0.8888888888888888,
              "#fdca26"
             ],
             [
              1,
              "#f0f921"
             ]
            ],
            "type": "heatmapgl"
           }
          ],
          "histogram": [
           {
            "marker": {
             "pattern": {
              "fillmode": "overlay",
              "size": 10,
              "solidity": 0.2
             }
            },
            "type": "histogram"
           }
          ],
          "histogram2d": [
           {
            "colorbar": {
             "outlinewidth": 0,
             "ticks": ""
            },
            "colorscale": [
             [
              0,
              "#0d0887"
             ],
             [
              0.1111111111111111,
              "#46039f"
             ],
             [
              0.2222222222222222,
              "#7201a8"
             ],
             [
              0.3333333333333333,
              "#9c179e"
             ],
             [
              0.4444444444444444,
              "#bd3786"
             ],
             [
              0.5555555555555556,
              "#d8576b"
             ],
             [
              0.6666666666666666,
              "#ed7953"
             ],
             [
              0.7777777777777778,
              "#fb9f3a"
             ],
             [
              0.8888888888888888,
              "#fdca26"
             ],
             [
              1,
              "#f0f921"
             ]
            ],
            "type": "histogram2d"
           }
          ],
          "histogram2dcontour": [
           {
            "colorbar": {
             "outlinewidth": 0,
             "ticks": ""
            },
            "colorscale": [
             [
              0,
              "#0d0887"
             ],
             [
              0.1111111111111111,
              "#46039f"
             ],
             [
              0.2222222222222222,
              "#7201a8"
             ],
             [
              0.3333333333333333,
              "#9c179e"
             ],
             [
              0.4444444444444444,
              "#bd3786"
             ],
             [
              0.5555555555555556,
              "#d8576b"
             ],
             [
              0.6666666666666666,
              "#ed7953"
             ],
             [
              0.7777777777777778,
              "#fb9f3a"
             ],
             [
              0.8888888888888888,
              "#fdca26"
             ],
             [
              1,
              "#f0f921"
             ]
            ],
            "type": "histogram2dcontour"
           }
          ],
          "mesh3d": [
           {
            "colorbar": {
             "outlinewidth": 0,
             "ticks": ""
            },
            "type": "mesh3d"
           }
          ],
          "parcoords": [
           {
            "line": {
             "colorbar": {
              "outlinewidth": 0,
              "ticks": ""
             }
            },
            "type": "parcoords"
           }
          ],
          "pie": [
           {
            "automargin": true,
            "type": "pie"
           }
          ],
          "scatter": [
           {
            "fillpattern": {
             "fillmode": "overlay",
             "size": 10,
             "solidity": 0.2
            },
            "type": "scatter"
           }
          ],
          "scatter3d": [
           {
            "line": {
             "colorbar": {
              "outlinewidth": 0,
              "ticks": ""
             }
            },
            "marker": {
             "colorbar": {
              "outlinewidth": 0,
              "ticks": ""
             }
            },
            "type": "scatter3d"
           }
          ],
          "scattercarpet": [
           {
            "marker": {
             "colorbar": {
              "outlinewidth": 0,
              "ticks": ""
             }
            },
            "type": "scattercarpet"
           }
          ],
          "scattergeo": [
           {
            "marker": {
             "colorbar": {
              "outlinewidth": 0,
              "ticks": ""
             }
            },
            "type": "scattergeo"
           }
          ],
          "scattergl": [
           {
            "marker": {
             "colorbar": {
              "outlinewidth": 0,
              "ticks": ""
             }
            },
            "type": "scattergl"
           }
          ],
          "scattermapbox": [
           {
            "marker": {
             "colorbar": {
              "outlinewidth": 0,
              "ticks": ""
             }
            },
            "type": "scattermapbox"
           }
          ],
          "scatterpolar": [
           {
            "marker": {
             "colorbar": {
              "outlinewidth": 0,
              "ticks": ""
             }
            },
            "type": "scatterpolar"
           }
          ],
          "scatterpolargl": [
           {
            "marker": {
             "colorbar": {
              "outlinewidth": 0,
              "ticks": ""
             }
            },
            "type": "scatterpolargl"
           }
          ],
          "scatterternary": [
           {
            "marker": {
             "colorbar": {
              "outlinewidth": 0,
              "ticks": ""
             }
            },
            "type": "scatterternary"
           }
          ],
          "surface": [
           {
            "colorbar": {
             "outlinewidth": 0,
             "ticks": ""
            },
            "colorscale": [
             [
              0,
              "#0d0887"
             ],
             [
              0.1111111111111111,
              "#46039f"
             ],
             [
              0.2222222222222222,
              "#7201a8"
             ],
             [
              0.3333333333333333,
              "#9c179e"
             ],
             [
              0.4444444444444444,
              "#bd3786"
             ],
             [
              0.5555555555555556,
              "#d8576b"
             ],
             [
              0.6666666666666666,
              "#ed7953"
             ],
             [
              0.7777777777777778,
              "#fb9f3a"
             ],
             [
              0.8888888888888888,
              "#fdca26"
             ],
             [
              1,
              "#f0f921"
             ]
            ],
            "type": "surface"
           }
          ],
          "table": [
           {
            "cells": {
             "fill": {
              "color": "#EBF0F8"
             },
             "line": {
              "color": "white"
             }
            },
            "header": {
             "fill": {
              "color": "#C8D4E3"
             },
             "line": {
              "color": "white"
             }
            },
            "type": "table"
           }
          ]
         },
         "layout": {
          "annotationdefaults": {
           "arrowcolor": "#2a3f5f",
           "arrowhead": 0,
           "arrowwidth": 1
          },
          "autotypenumbers": "strict",
          "coloraxis": {
           "colorbar": {
            "outlinewidth": 0,
            "ticks": ""
           }
          },
          "colorscale": {
           "diverging": [
            [
             0,
             "#8e0152"
            ],
            [
             0.1,
             "#c51b7d"
            ],
            [
             0.2,
             "#de77ae"
            ],
            [
             0.3,
             "#f1b6da"
            ],
            [
             0.4,
             "#fde0ef"
            ],
            [
             0.5,
             "#f7f7f7"
            ],
            [
             0.6,
             "#e6f5d0"
            ],
            [
             0.7,
             "#b8e186"
            ],
            [
             0.8,
             "#7fbc41"
            ],
            [
             0.9,
             "#4d9221"
            ],
            [
             1,
             "#276419"
            ]
           ],
           "sequential": [
            [
             0,
             "#0d0887"
            ],
            [
             0.1111111111111111,
             "#46039f"
            ],
            [
             0.2222222222222222,
             "#7201a8"
            ],
            [
             0.3333333333333333,
             "#9c179e"
            ],
            [
             0.4444444444444444,
             "#bd3786"
            ],
            [
             0.5555555555555556,
             "#d8576b"
            ],
            [
             0.6666666666666666,
             "#ed7953"
            ],
            [
             0.7777777777777778,
             "#fb9f3a"
            ],
            [
             0.8888888888888888,
             "#fdca26"
            ],
            [
             1,
             "#f0f921"
            ]
           ],
           "sequentialminus": [
            [
             0,
             "#0d0887"
            ],
            [
             0.1111111111111111,
             "#46039f"
            ],
            [
             0.2222222222222222,
             "#7201a8"
            ],
            [
             0.3333333333333333,
             "#9c179e"
            ],
            [
             0.4444444444444444,
             "#bd3786"
            ],
            [
             0.5555555555555556,
             "#d8576b"
            ],
            [
             0.6666666666666666,
             "#ed7953"
            ],
            [
             0.7777777777777778,
             "#fb9f3a"
            ],
            [
             0.8888888888888888,
             "#fdca26"
            ],
            [
             1,
             "#f0f921"
            ]
           ]
          },
          "colorway": [
           "#636efa",
           "#EF553B",
           "#00cc96",
           "#ab63fa",
           "#FFA15A",
           "#19d3f3",
           "#FF6692",
           "#B6E880",
           "#FF97FF",
           "#FECB52"
          ],
          "font": {
           "color": "#2a3f5f"
          },
          "geo": {
           "bgcolor": "white",
           "lakecolor": "white",
           "landcolor": "#E5ECF6",
           "showlakes": true,
           "showland": true,
           "subunitcolor": "white"
          },
          "hoverlabel": {
           "align": "left"
          },
          "hovermode": "closest",
          "mapbox": {
           "style": "light"
          },
          "paper_bgcolor": "white",
          "plot_bgcolor": "#E5ECF6",
          "polar": {
           "angularaxis": {
            "gridcolor": "white",
            "linecolor": "white",
            "ticks": ""
           },
           "bgcolor": "#E5ECF6",
           "radialaxis": {
            "gridcolor": "white",
            "linecolor": "white",
            "ticks": ""
           }
          },
          "scene": {
           "xaxis": {
            "backgroundcolor": "#E5ECF6",
            "gridcolor": "white",
            "gridwidth": 2,
            "linecolor": "white",
            "showbackground": true,
            "ticks": "",
            "zerolinecolor": "white"
           },
           "yaxis": {
            "backgroundcolor": "#E5ECF6",
            "gridcolor": "white",
            "gridwidth": 2,
            "linecolor": "white",
            "showbackground": true,
            "ticks": "",
            "zerolinecolor": "white"
           },
           "zaxis": {
            "backgroundcolor": "#E5ECF6",
            "gridcolor": "white",
            "gridwidth": 2,
            "linecolor": "white",
            "showbackground": true,
            "ticks": "",
            "zerolinecolor": "white"
           }
          },
          "shapedefaults": {
           "line": {
            "color": "#2a3f5f"
           }
          },
          "ternary": {
           "aaxis": {
            "gridcolor": "white",
            "linecolor": "white",
            "ticks": ""
           },
           "baxis": {
            "gridcolor": "white",
            "linecolor": "white",
            "ticks": ""
           },
           "bgcolor": "#E5ECF6",
           "caxis": {
            "gridcolor": "white",
            "linecolor": "white",
            "ticks": ""
           }
          },
          "title": {
           "x": 0.05
          },
          "xaxis": {
           "automargin": true,
           "gridcolor": "white",
           "linecolor": "white",
           "ticks": "",
           "title": {
            "standoff": 15
           },
           "zerolinecolor": "white",
           "zerolinewidth": 2
          },
          "yaxis": {
           "automargin": true,
           "gridcolor": "white",
           "linecolor": "white",
           "ticks": "",
           "title": {
            "standoff": 15
           },
           "zerolinecolor": "white",
           "zerolinewidth": 2
          }
         }
        },
        "yaxis": {
         "title": {
          "text": "Area Burned (hectares)"
         }
        }
       }
      }
     },
     "metadata": {},
     "output_type": "display_data"
    }
   ],
   "source": [
    "areabygroup['Sum']= areabygroup.iloc[:,4:35].sum(axis=1)\n",
    "summationareabygrp = go.Figure()\n",
    "\n",
    "unique_causes = areabygroup['Cause'].unique()\n",
    "colors = ['blue', 'red', 'green', 'orange', 'purple']  # Specify your desired colors here\n",
    "\n",
    "# Create a dictionary to map each cause to its corresponding color\n",
    "cause_color_map = {cause: color for cause, color in zip(unique_causes, colors)}\n",
    "\n",
    "# Create a list of colors based on the cause of each bar\n",
    "bar_colors = [cause_color_map[cause] for cause in areabygroup['Cause']]\n",
    "summationareabygrp.add_bar(x=[areabygroup['Cause'],areabygroup['Jurisdiction']], y=areabygroup['Sum'],marker=dict(color=bar_colors))\n",
    "summationareabygrp.update_layout(yaxis_title=\"Area Burned (hectares)\")"
   ]
  },
  {
   "cell_type": "code",
   "execution_count": 77,
   "metadata": {},
   "outputs": [
    {
     "data": {
      "application/vnd.plotly.v1+json": {
       "config": {
        "plotlyServerURL": "https://plot.ly"
       },
       "data": [
        {
         "alignmentgroup": "True",
         "hovertemplate": "Cause=Human activity<br>Jurisdiction=%{x}<br>2020=%{y}<extra></extra>",
         "legendgroup": "Human activity",
         "marker": {
          "color": "#636efa",
          "pattern": {
           "shape": ""
          }
         },
         "name": "Human activity",
         "offsetgroup": "Human activity",
         "orientation": "v",
         "showlegend": true,
         "textposition": "auto",
         "type": "bar",
         "x": [
          "Alberta",
          "British Columbia",
          "Manitoba",
          "New Brunswick",
          "Newfoundland and Labrador",
          "Northwest Territories",
          "Nova Scotia",
          "Ontario",
          "Prince Edward Island",
          "Quebec",
          "Saskatchewan",
          "Yukon"
         ],
         "xaxis": "x",
         "y": [
          2949,
          1012,
          34268,
          1224,
          148,
          371,
          678,
          985,
          0,
          52090,
          41398,
          12
         ],
         "yaxis": "y"
        },
        {
         "alignmentgroup": "True",
         "hovertemplate": "Cause=Lightning<br>Jurisdiction=%{x}<br>2020=%{y}<extra></extra>",
         "legendgroup": "Lightning",
         "marker": {
          "color": "#EF553B",
          "pattern": {
           "shape": ""
          }
         },
         "name": "Lightning",
         "offsetgroup": "Lightning",
         "orientation": "v",
         "showlegend": true,
         "textposition": "auto",
         "type": "bar",
         "x": [
          "Alberta",
          "British Columbia",
          "Manitoba",
          "New Brunswick",
          "Newfoundland and Labrador",
          "Northwest Territories",
          "Nova Scotia",
          "Ontario",
          "Prince Edward Island",
          "Quebec",
          "Saskatchewan",
          "Yukon"
         ],
         "xaxis": "x",
         "y": [
          393,
          11336,
          15035,
          51,
          4185,
          20768,
          18,
          14471,
          0,
          7897,
          780,
          3452
         ],
         "yaxis": "y"
        },
        {
         "alignmentgroup": "True",
         "hovertemplate": "Cause=Prescribed burn<br>Jurisdiction=%{x}<br>2020=%{y}<extra></extra>",
         "legendgroup": "Prescribed burn",
         "marker": {
          "color": "#00cc96",
          "pattern": {
           "shape": ""
          }
         },
         "name": "Prescribed burn",
         "offsetgroup": "Prescribed burn",
         "orientation": "v",
         "showlegend": true,
         "textposition": "auto",
         "type": "bar",
         "x": [
          "Alberta",
          "British Columbia",
          "Manitoba",
          "Newfoundland and Labrador",
          "Northwest Territories",
          "Nova Scotia",
          "Ontario",
          "Quebec",
          "Saskatchewan"
         ],
         "xaxis": "x",
         "y": [
          1250,
          123,
          0,
          0,
          0,
          0,
          4,
          15,
          0
         ],
         "yaxis": "y"
        },
        {
         "alignmentgroup": "True",
         "hovertemplate": "Cause=Reburn<br>Jurisdiction=%{x}<br>2020=%{y}<extra></extra>",
         "legendgroup": "Reburn",
         "marker": {
          "color": "#ab63fa",
          "pattern": {
           "shape": ""
          }
         },
         "name": "Reburn",
         "offsetgroup": "Reburn",
         "orientation": "v",
         "showlegend": true,
         "textposition": "auto",
         "type": "bar",
         "x": [
          "Alberta"
         ],
         "xaxis": "x",
         "y": [
          0
         ],
         "yaxis": "y"
        },
        {
         "alignmentgroup": "True",
         "hovertemplate": "Cause=Unspecified<br>Jurisdiction=%{x}<br>2020=%{y}<extra></extra>",
         "legendgroup": "Unspecified",
         "marker": {
          "color": "#FFA15A",
          "pattern": {
           "shape": ""
          }
         },
         "name": "Unspecified",
         "offsetgroup": "Unspecified",
         "orientation": "v",
         "showlegend": true,
         "textposition": "auto",
         "type": "bar",
         "x": [
          "Alberta",
          "British Columbia",
          "Manitoba",
          "New Brunswick",
          "Newfoundland and Labrador",
          "Northwest Territories",
          "Nova Scotia",
          "Ontario",
          "Parks Canada",
          "Prince Edward Island",
          "Quebec",
          "Saskatchewan",
          "Yukon"
         ],
         "xaxis": "x",
         "y": [
          206,
          2201,
          0,
          115,
          1,
          0,
          1,
          24,
          0,
          0,
          0,
          774,
          0
         ],
         "yaxis": "y"
        }
       ],
       "layout": {
        "barmode": "relative",
        "legend": {
         "title": {
          "text": "Cause"
         },
         "tracegroupgap": 0
        },
        "template": {
         "data": {
          "bar": [
           {
            "error_x": {
             "color": "#2a3f5f"
            },
            "error_y": {
             "color": "#2a3f5f"
            },
            "marker": {
             "line": {
              "color": "#E5ECF6",
              "width": 0.5
             },
             "pattern": {
              "fillmode": "overlay",
              "size": 10,
              "solidity": 0.2
             }
            },
            "type": "bar"
           }
          ],
          "barpolar": [
           {
            "marker": {
             "line": {
              "color": "#E5ECF6",
              "width": 0.5
             },
             "pattern": {
              "fillmode": "overlay",
              "size": 10,
              "solidity": 0.2
             }
            },
            "type": "barpolar"
           }
          ],
          "carpet": [
           {
            "aaxis": {
             "endlinecolor": "#2a3f5f",
             "gridcolor": "white",
             "linecolor": "white",
             "minorgridcolor": "white",
             "startlinecolor": "#2a3f5f"
            },
            "baxis": {
             "endlinecolor": "#2a3f5f",
             "gridcolor": "white",
             "linecolor": "white",
             "minorgridcolor": "white",
             "startlinecolor": "#2a3f5f"
            },
            "type": "carpet"
           }
          ],
          "choropleth": [
           {
            "colorbar": {
             "outlinewidth": 0,
             "ticks": ""
            },
            "type": "choropleth"
           }
          ],
          "contour": [
           {
            "colorbar": {
             "outlinewidth": 0,
             "ticks": ""
            },
            "colorscale": [
             [
              0,
              "#0d0887"
             ],
             [
              0.1111111111111111,
              "#46039f"
             ],
             [
              0.2222222222222222,
              "#7201a8"
             ],
             [
              0.3333333333333333,
              "#9c179e"
             ],
             [
              0.4444444444444444,
              "#bd3786"
             ],
             [
              0.5555555555555556,
              "#d8576b"
             ],
             [
              0.6666666666666666,
              "#ed7953"
             ],
             [
              0.7777777777777778,
              "#fb9f3a"
             ],
             [
              0.8888888888888888,
              "#fdca26"
             ],
             [
              1,
              "#f0f921"
             ]
            ],
            "type": "contour"
           }
          ],
          "contourcarpet": [
           {
            "colorbar": {
             "outlinewidth": 0,
             "ticks": ""
            },
            "type": "contourcarpet"
           }
          ],
          "heatmap": [
           {
            "colorbar": {
             "outlinewidth": 0,
             "ticks": ""
            },
            "colorscale": [
             [
              0,
              "#0d0887"
             ],
             [
              0.1111111111111111,
              "#46039f"
             ],
             [
              0.2222222222222222,
              "#7201a8"
             ],
             [
              0.3333333333333333,
              "#9c179e"
             ],
             [
              0.4444444444444444,
              "#bd3786"
             ],
             [
              0.5555555555555556,
              "#d8576b"
             ],
             [
              0.6666666666666666,
              "#ed7953"
             ],
             [
              0.7777777777777778,
              "#fb9f3a"
             ],
             [
              0.8888888888888888,
              "#fdca26"
             ],
             [
              1,
              "#f0f921"
             ]
            ],
            "type": "heatmap"
           }
          ],
          "heatmapgl": [
           {
            "colorbar": {
             "outlinewidth": 0,
             "ticks": ""
            },
            "colorscale": [
             [
              0,
              "#0d0887"
             ],
             [
              0.1111111111111111,
              "#46039f"
             ],
             [
              0.2222222222222222,
              "#7201a8"
             ],
             [
              0.3333333333333333,
              "#9c179e"
             ],
             [
              0.4444444444444444,
              "#bd3786"
             ],
             [
              0.5555555555555556,
              "#d8576b"
             ],
             [
              0.6666666666666666,
              "#ed7953"
             ],
             [
              0.7777777777777778,
              "#fb9f3a"
             ],
             [
              0.8888888888888888,
              "#fdca26"
             ],
             [
              1,
              "#f0f921"
             ]
            ],
            "type": "heatmapgl"
           }
          ],
          "histogram": [
           {
            "marker": {
             "pattern": {
              "fillmode": "overlay",
              "size": 10,
              "solidity": 0.2
             }
            },
            "type": "histogram"
           }
          ],
          "histogram2d": [
           {
            "colorbar": {
             "outlinewidth": 0,
             "ticks": ""
            },
            "colorscale": [
             [
              0,
              "#0d0887"
             ],
             [
              0.1111111111111111,
              "#46039f"
             ],
             [
              0.2222222222222222,
              "#7201a8"
             ],
             [
              0.3333333333333333,
              "#9c179e"
             ],
             [
              0.4444444444444444,
              "#bd3786"
             ],
             [
              0.5555555555555556,
              "#d8576b"
             ],
             [
              0.6666666666666666,
              "#ed7953"
             ],
             [
              0.7777777777777778,
              "#fb9f3a"
             ],
             [
              0.8888888888888888,
              "#fdca26"
             ],
             [
              1,
              "#f0f921"
             ]
            ],
            "type": "histogram2d"
           }
          ],
          "histogram2dcontour": [
           {
            "colorbar": {
             "outlinewidth": 0,
             "ticks": ""
            },
            "colorscale": [
             [
              0,
              "#0d0887"
             ],
             [
              0.1111111111111111,
              "#46039f"
             ],
             [
              0.2222222222222222,
              "#7201a8"
             ],
             [
              0.3333333333333333,
              "#9c179e"
             ],
             [
              0.4444444444444444,
              "#bd3786"
             ],
             [
              0.5555555555555556,
              "#d8576b"
             ],
             [
              0.6666666666666666,
              "#ed7953"
             ],
             [
              0.7777777777777778,
              "#fb9f3a"
             ],
             [
              0.8888888888888888,
              "#fdca26"
             ],
             [
              1,
              "#f0f921"
             ]
            ],
            "type": "histogram2dcontour"
           }
          ],
          "mesh3d": [
           {
            "colorbar": {
             "outlinewidth": 0,
             "ticks": ""
            },
            "type": "mesh3d"
           }
          ],
          "parcoords": [
           {
            "line": {
             "colorbar": {
              "outlinewidth": 0,
              "ticks": ""
             }
            },
            "type": "parcoords"
           }
          ],
          "pie": [
           {
            "automargin": true,
            "type": "pie"
           }
          ],
          "scatter": [
           {
            "fillpattern": {
             "fillmode": "overlay",
             "size": 10,
             "solidity": 0.2
            },
            "type": "scatter"
           }
          ],
          "scatter3d": [
           {
            "line": {
             "colorbar": {
              "outlinewidth": 0,
              "ticks": ""
             }
            },
            "marker": {
             "colorbar": {
              "outlinewidth": 0,
              "ticks": ""
             }
            },
            "type": "scatter3d"
           }
          ],
          "scattercarpet": [
           {
            "marker": {
             "colorbar": {
              "outlinewidth": 0,
              "ticks": ""
             }
            },
            "type": "scattercarpet"
           }
          ],
          "scattergeo": [
           {
            "marker": {
             "colorbar": {
              "outlinewidth": 0,
              "ticks": ""
             }
            },
            "type": "scattergeo"
           }
          ],
          "scattergl": [
           {
            "marker": {
             "colorbar": {
              "outlinewidth": 0,
              "ticks": ""
             }
            },
            "type": "scattergl"
           }
          ],
          "scattermapbox": [
           {
            "marker": {
             "colorbar": {
              "outlinewidth": 0,
              "ticks": ""
             }
            },
            "type": "scattermapbox"
           }
          ],
          "scatterpolar": [
           {
            "marker": {
             "colorbar": {
              "outlinewidth": 0,
              "ticks": ""
             }
            },
            "type": "scatterpolar"
           }
          ],
          "scatterpolargl": [
           {
            "marker": {
             "colorbar": {
              "outlinewidth": 0,
              "ticks": ""
             }
            },
            "type": "scatterpolargl"
           }
          ],
          "scatterternary": [
           {
            "marker": {
             "colorbar": {
              "outlinewidth": 0,
              "ticks": ""
             }
            },
            "type": "scatterternary"
           }
          ],
          "surface": [
           {
            "colorbar": {
             "outlinewidth": 0,
             "ticks": ""
            },
            "colorscale": [
             [
              0,
              "#0d0887"
             ],
             [
              0.1111111111111111,
              "#46039f"
             ],
             [
              0.2222222222222222,
              "#7201a8"
             ],
             [
              0.3333333333333333,
              "#9c179e"
             ],
             [
              0.4444444444444444,
              "#bd3786"
             ],
             [
              0.5555555555555556,
              "#d8576b"
             ],
             [
              0.6666666666666666,
              "#ed7953"
             ],
             [
              0.7777777777777778,
              "#fb9f3a"
             ],
             [
              0.8888888888888888,
              "#fdca26"
             ],
             [
              1,
              "#f0f921"
             ]
            ],
            "type": "surface"
           }
          ],
          "table": [
           {
            "cells": {
             "fill": {
              "color": "#EBF0F8"
             },
             "line": {
              "color": "white"
             }
            },
            "header": {
             "fill": {
              "color": "#C8D4E3"
             },
             "line": {
              "color": "white"
             }
            },
            "type": "table"
           }
          ]
         },
         "layout": {
          "annotationdefaults": {
           "arrowcolor": "#2a3f5f",
           "arrowhead": 0,
           "arrowwidth": 1
          },
          "autotypenumbers": "strict",
          "coloraxis": {
           "colorbar": {
            "outlinewidth": 0,
            "ticks": ""
           }
          },
          "colorscale": {
           "diverging": [
            [
             0,
             "#8e0152"
            ],
            [
             0.1,
             "#c51b7d"
            ],
            [
             0.2,
             "#de77ae"
            ],
            [
             0.3,
             "#f1b6da"
            ],
            [
             0.4,
             "#fde0ef"
            ],
            [
             0.5,
             "#f7f7f7"
            ],
            [
             0.6,
             "#e6f5d0"
            ],
            [
             0.7,
             "#b8e186"
            ],
            [
             0.8,
             "#7fbc41"
            ],
            [
             0.9,
             "#4d9221"
            ],
            [
             1,
             "#276419"
            ]
           ],
           "sequential": [
            [
             0,
             "#0d0887"
            ],
            [
             0.1111111111111111,
             "#46039f"
            ],
            [
             0.2222222222222222,
             "#7201a8"
            ],
            [
             0.3333333333333333,
             "#9c179e"
            ],
            [
             0.4444444444444444,
             "#bd3786"
            ],
            [
             0.5555555555555556,
             "#d8576b"
            ],
            [
             0.6666666666666666,
             "#ed7953"
            ],
            [
             0.7777777777777778,
             "#fb9f3a"
            ],
            [
             0.8888888888888888,
             "#fdca26"
            ],
            [
             1,
             "#f0f921"
            ]
           ],
           "sequentialminus": [
            [
             0,
             "#0d0887"
            ],
            [
             0.1111111111111111,
             "#46039f"
            ],
            [
             0.2222222222222222,
             "#7201a8"
            ],
            [
             0.3333333333333333,
             "#9c179e"
            ],
            [
             0.4444444444444444,
             "#bd3786"
            ],
            [
             0.5555555555555556,
             "#d8576b"
            ],
            [
             0.6666666666666666,
             "#ed7953"
            ],
            [
             0.7777777777777778,
             "#fb9f3a"
            ],
            [
             0.8888888888888888,
             "#fdca26"
            ],
            [
             1,
             "#f0f921"
            ]
           ]
          },
          "colorway": [
           "#636efa",
           "#EF553B",
           "#00cc96",
           "#ab63fa",
           "#FFA15A",
           "#19d3f3",
           "#FF6692",
           "#B6E880",
           "#FF97FF",
           "#FECB52"
          ],
          "font": {
           "color": "#2a3f5f"
          },
          "geo": {
           "bgcolor": "white",
           "lakecolor": "white",
           "landcolor": "#E5ECF6",
           "showlakes": true,
           "showland": true,
           "subunitcolor": "white"
          },
          "hoverlabel": {
           "align": "left"
          },
          "hovermode": "closest",
          "mapbox": {
           "style": "light"
          },
          "paper_bgcolor": "white",
          "plot_bgcolor": "#E5ECF6",
          "polar": {
           "angularaxis": {
            "gridcolor": "white",
            "linecolor": "white",
            "ticks": ""
           },
           "bgcolor": "#E5ECF6",
           "radialaxis": {
            "gridcolor": "white",
            "linecolor": "white",
            "ticks": ""
           }
          },
          "scene": {
           "xaxis": {
            "backgroundcolor": "#E5ECF6",
            "gridcolor": "white",
            "gridwidth": 2,
            "linecolor": "white",
            "showbackground": true,
            "ticks": "",
            "zerolinecolor": "white"
           },
           "yaxis": {
            "backgroundcolor": "#E5ECF6",
            "gridcolor": "white",
            "gridwidth": 2,
            "linecolor": "white",
            "showbackground": true,
            "ticks": "",
            "zerolinecolor": "white"
           },
           "zaxis": {
            "backgroundcolor": "#E5ECF6",
            "gridcolor": "white",
            "gridwidth": 2,
            "linecolor": "white",
            "showbackground": true,
            "ticks": "",
            "zerolinecolor": "white"
           }
          },
          "shapedefaults": {
           "line": {
            "color": "#2a3f5f"
           }
          },
          "ternary": {
           "aaxis": {
            "gridcolor": "white",
            "linecolor": "white",
            "ticks": ""
           },
           "baxis": {
            "gridcolor": "white",
            "linecolor": "white",
            "ticks": ""
           },
           "bgcolor": "#E5ECF6",
           "caxis": {
            "gridcolor": "white",
            "linecolor": "white",
            "ticks": ""
           }
          },
          "title": {
           "x": 0.05
          },
          "xaxis": {
           "automargin": true,
           "gridcolor": "white",
           "linecolor": "white",
           "ticks": "",
           "title": {
            "standoff": 15
           },
           "zerolinecolor": "white",
           "zerolinewidth": 2
          },
          "yaxis": {
           "automargin": true,
           "gridcolor": "white",
           "linecolor": "white",
           "ticks": "",
           "title": {
            "standoff": 15
           },
           "zerolinecolor": "white",
           "zerolinewidth": 2
          }
         }
        },
        "title": {
         "text": "Area Burned from Wildfires based on Province"
        },
        "xaxis": {
         "anchor": "y",
         "domain": [
          0,
          1
         ],
         "title": {
          "text": "Jurisdiction"
         }
        },
        "yaxis": {
         "anchor": "x",
         "domain": [
          0,
          1
         ],
         "title": {
          "text": "Area Burned (hectares)"
         }
        }
       }
      }
     },
     "metadata": {},
     "output_type": "display_data"
    }
   ],
   "source": [
    "provincal_fires = areabygroup.groupby(['Jurisdiction', 'Cause']).sum().reset_index()\n",
    "# Change this value to change the year\n",
    "# For example, changing 2020 to 2019 will show Area Burned based on Causes in 2019\n",
    "year_to_check = 2020\n",
    "\n",
    "provincal_fires_fig = px.bar(provincal_fires, x='Jurisdiction', y=year_to_check, color='Cause', title='Area Burned from Wildfires based on Province').update_layout(yaxis_title=\"Area Burned (hectares)\").show()"
   ]
  }
 ],
 "metadata": {
  "kernelspec": {
   "display_name": "Python 3",
   "language": "python",
   "name": "python3"
  },
  "language_info": {
   "codemirror_mode": {
    "name": "ipython",
    "version": 3
   },
   "file_extension": ".py",
   "mimetype": "text/x-python",
   "name": "python",
   "nbconvert_exporter": "python",
   "pygments_lexer": "ipython3",
   "version": "3.10.8"
  },
  "orig_nbformat": 4
 },
 "nbformat": 4,
 "nbformat_minor": 2
}
