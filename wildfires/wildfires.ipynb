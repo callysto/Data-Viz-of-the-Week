{
 "cells": [
  {
   "attachments": {},
   "cell_type": "markdown",
   "metadata": {},
   "source": [
    "![Callysto.ca Banner](https://github.com/callysto/curriculum-notebooks/blob/master/callysto-notebook-banner-top.jpg?raw=true)"
   ]
  },
  {
   "attachments": {},
   "cell_type": "markdown",
   "metadata": {},
   "source": [
    "# Callysto’s Weekly Data Visualization\n",
    "\n",
    "## Wildfires\n",
    "\n",
    "### Recommended Grade levels: 9-12\n",
    "<br>"
   ]
  },
  {
   "attachments": {},
   "cell_type": "markdown",
   "metadata": {},
   "source": [
    "### Instructions\n",
    "\n",
    "Click \"Cell\" and select \"Run All\".\n",
    "\n",
    "This will import the data and run all the code, so you can see this week's data visualization. Scroll back to the top after you’ve run the cells.\n",
    "\n",
    "![instructions](https://github.com/callysto/data-viz-of-the-week/blob/main/images/instructions.png?raw=true)\n",
    "\n",
    "**You don't need to do any coding to view the visualizations**.\n",
    "\n",
    "The plots generated in this notebook are interactive. You can hover over and click on elements to see more information. \n",
    "\n",
    "Email contact@callysto.ca if you experience issues."
   ]
  },
  {
   "attachments": {},
   "cell_type": "markdown",
   "metadata": {},
   "source": [
    "### About this Notebook\n",
    "\n",
    "Callysto's Weekly Data Visualization is a learning resource that aims to develop data literacy skills. We provide Grades 5-12 teachers and students with a data visualization, like a graph, to interpret. This companion resource walks learners through how the data visualization is created and interpreted by a data scientist. \n",
    "\n",
    "The steps of the data analysis process are listed below and applied to each weekly topic.\n",
    "\n",
    "1. Question - What are we trying to answer?\n",
    "2. Gather - Find the data source(s) you will need. \n",
    "3. Organize - Arrange the data, so that you can easily explore it. \n",
    "4. Explore - Examine the data to look for evidence to answer the question. This includes creating visualizations. \n",
    "5. Interpret - Describe what's happening in the data visualization. \n",
    "6. Communicate - Explain how the evidence answers the question. "
   ]
  },
  {
   "attachments": {},
   "cell_type": "markdown",
   "metadata": {},
   "source": [
    "## Question\n",
    "\n",
    "What are the primary causes of wildfires and when do they occur?"
   ]
  },
  {
   "attachments": {},
   "cell_type": "markdown",
   "metadata": {},
   "source": [
    "### Goal\n",
    "\n",
    "Our goal is to show which natural disasters led to the greatest financial costs and use visualizations to discover any patterns to their impact.\n",
    "\n",
    "The dataset is taken from [Public Safety Canada](https://www.publicsafety.gc.ca/cnt/rsrcs/cndn-dsstr-dtbs/index-en.aspx), and contains information on Canadian natural disaster events from the years 1900 to 2019."
   ]
  },
  {
   "attachments": {},
   "cell_type": "markdown",
   "metadata": {},
   "source": [
    "### Background\n",
    "\n",
    "Weather events and natural diasters have the potential to cause huge amounts of damage to property. Have you ever wondered what the most expensive natural disasters and weather events are in Canada? We are going to explore the costliest natural disasters in the 2010 decade in this notebook. \n"
   ]
  },
  {
   "attachments": {},
   "cell_type": "markdown",
   "metadata": {},
   "source": [
    "## Gather"
   ]
  },
  {
   "attachments": {},
   "cell_type": "markdown",
   "metadata": {},
   "source": [
    "### Code: "
   ]
  },
  {
   "attachments": {},
   "cell_type": "markdown",
   "metadata": {},
   "source": [
    "Run the code cells below to import the libraries we need for this project. Libraries are pre-made code that make it easier to analyze our data."
   ]
  },
  {
   "cell_type": "code",
   "execution_count": null,
   "metadata": {},
   "outputs": [],
   "source": [
    "import pandas as pd\n",
    "import plotly_express as px\n",
    "from plotly.subplots import make_subplots\n",
    "import plotly.graph_objects as go\n",
    "import warnings\n",
    "warnings.simplefilter(action='ignore', category=FutureWarning)"
   ]
  },
  {
   "cell_type": "code",
   "execution_count": null,
   "metadata": {},
   "outputs": [],
   "source": [
    "areabygroup = pd.read_excel('https://raw.githubusercontent.com/callysto/data-files/main/data-viz-of-the-week/wildfires/areaburnedbygroup.xlsx', skiprows=1)\n",
    "areabymonth = pd.read_excel('https://raw.githubusercontent.com/callysto/data-files/main/data-viz-of-the-week/wildfires/areaburnedbymonth.xlsx', skiprows=1)\n",
    "areabyclass = pd.read_excel('https://raw.githubusercontent.com/callysto/data-files/main/data-viz-of-the-week/wildfires/areaburnedfireclass.xlsx', skiprows=1)\n",
    "numfiresbyclass = pd.read_excel('https://raw.githubusercontent.com/callysto/data-files/main/data-viz-of-the-week/wildfires/numfiresbyfiresize.xlsx', skiprows=1)\n",
    "numfiresbygroup = pd.read_excel('https://raw.githubusercontent.com/callysto/data-files/main/data-viz-of-the-week/wildfires/numfiresbygroup.xlsx')\n",
    "numfiresbymonth = pd.read_excel('https://raw.githubusercontent.com/callysto/data-files/main/data-viz-of-the-week/wildfires/numfiresbymonth.xlsx', skiprows=1)"
   ]
  },
  {
   "cell_type": "code",
   "execution_count": null,
   "metadata": {},
   "outputs": [],
   "source": [
    "areabygroup.columns"
   ]
  },
  {
   "cell_type": "code",
   "execution_count": null,
   "metadata": {},
   "outputs": [],
   "source": [
    "# display(areabygroup)\n",
    "# display(areabymonth.head())\n",
    "#display(areabyclass.head())\n",
    "#display(numfiresbyclass.head())\n",
    "display(numfiresbygroup.head())\n",
    "# display(numfiresbymonth.head())"
   ]
  },
  {
   "cell_type": "code",
   "execution_count": null,
   "metadata": {},
   "outputs": [],
   "source": [
    "areabygroup_causes = areabygroup.groupby(['Cause']).sum().reset_index()\n",
    "cause_figs = px.bar(areabygroup_causes, x='Cause', y=2021, barmode='group', title='Area Burned from Wildfires by Cause')\n",
    "for i in range(1990,2021):\n",
    "    cause_figs.add_bar(x=areabygroup_causes['Cause'], y=areabygroup_causes[i], name=i)\n",
    "cause_figs.update_layout(yaxis_title=\"Area Burned (hectares)\")\n",
    "cause_figs.show()"
   ]
  },
  {
   "cell_type": "code",
   "execution_count": null,
   "metadata": {},
   "outputs": [],
   "source": [
    "numfiresbygroup_causes = numfiresbygroup.groupby(['Cause']).sum().reset_index()\n",
    "cause_figs = px.bar(numfiresbygroup_causes, x='Cause', y=2021, barmode='group', title='Area Burned from Wildfires by Cause')\n",
    "for i in range(1990,2021):\n",
    "    cause_figs.add_bar(x=numfiresbygroup_causes['Cause'], y=numfiresbygroup_causes[i], name=i)\n",
    "cause_figs.update_layout(yaxis_title=\"Area Burned (hectares)\")\n",
    "cause_figs.show()"
   ]
  },
  {
   "cell_type": "code",
   "execution_count": null,
   "metadata": {},
   "outputs": [],
   "source": [
    "burn_reburn = areabygroup_causes.iloc[:-1, :]\n",
    "burn_reburn = burn_reburn.tail(2)\n",
    "\n",
    "burns = px.bar(burn_reburn, x='Cause', y=2021, barmode='group', title='Area Burned from Wildfires for Prescribed Burns and Reburns')\n",
    "for i in range(1990,2021):\n",
    "    burns.add_bar(x=burn_reburn['Cause'], y=burn_reburn[i], name=i)\n",
    "burns.update_layout(yaxis_title=\"Area Burned (hectares)\")\n",
    "burns.show()"
   ]
  },
  {
   "cell_type": "code",
   "execution_count": null,
   "metadata": {},
   "outputs": [],
   "source": [
    "areabygroup['Sum']= areabygroup.iloc[:,4:35].sum(axis=1)\n",
    "summationareabygrp = go.Figure()\n",
    "\n",
    "unique_causes = areabygroup['Cause'].unique()\n",
    "colors = ['blue', 'red', 'green', 'orange', 'purple']  # Specify your desired colors here\n",
    "\n",
    "# Create a dictionary to map each cause to its corresponding color\n",
    "cause_color_map = {cause: color for cause, color in zip(unique_causes, colors)}\n",
    "\n",
    "# Create a list of colors based on the cause of each bar\n",
    "bar_colors = [cause_color_map[cause] for cause in areabygroup['Cause']]\n",
    "summationareabygrp.add_bar(x=[areabygroup['Cause'],areabygroup['Jurisdiction']], y=areabygroup['Sum'],marker=dict(color=bar_colors))\n",
    "summationareabygrp.update_layout(yaxis_title=\"Area Burned (hectares)\")"
   ]
  },
  {
   "cell_type": "code",
   "execution_count": null,
   "metadata": {},
   "outputs": [],
   "source": [
    "provincal_fires = areabygroup.groupby(['Jurisdiction', 'Cause']).sum().reset_index()\n",
    "# Change this value to change the year\n",
    "# For example, changing 2020 to 2019 will show Area Burned based on Causes in 2019\n",
    "year_to_check = 2020\n",
    "\n",
    "provincal_fires_fig = px.bar(provincal_fires, x='Jurisdiction', y=year_to_check, color='Cause', title='Area Burned from Wildfires based on Province').update_layout(yaxis_title=\"Area Burned (hectares)\").show()"
   ]
  },
  {
   "cell_type": "code",
   "execution_count": null,
   "metadata": {},
   "outputs": [],
   "source": []
  }
 ],
 "metadata": {
  "kernelspec": {
   "display_name": "Python 3",
   "language": "python",
   "name": "python3"
  },
  "language_info": {
   "codemirror_mode": {
    "name": "ipython",
    "version": 3
   },
   "file_extension": ".py",
   "mimetype": "text/x-python",
   "name": "python",
   "nbconvert_exporter": "python",
   "pygments_lexer": "ipython3",
   "version": "3.10.8"
  },
  "orig_nbformat": 4
 },
 "nbformat": 4,
 "nbformat_minor": 2
}
