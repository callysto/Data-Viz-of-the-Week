{
 "cells": [
  {
   "cell_type": "markdown",
   "metadata": {},
   "source": [
    "![Callysto.ca Banner](https://github.com/callysto/curriculum-notebooks/blob/master/callysto-notebook-banner-top.jpg?raw=true)"
   ]
  },
  {
   "cell_type": "code",
   "execution_count": null,
   "metadata": {},
   "outputs": [],
   "source": [
    "import pandas as pd\n",
    "import plotly.express as px\n",
    "from plotly.subplots import make_subplots\n",
    "import plotly.graph_objects as go\n",
    "from datetime import datetime\n"
   ]
  },
  {
   "cell_type": "code",
   "execution_count": null,
   "metadata": {},
   "outputs": [],
   "source": [
    "solar_data = pd.read_csv(\"https://raw.githubusercontent.com/callysto/data-files/main/data-viz-of-the-week/solar-energy/solar_energy.csv\")\n",
    "solar_data"
   ]
  },
  {
   "cell_type": "code",
   "execution_count": null,
   "metadata": {},
   "outputs": [],
   "source": [
    "null_count = solar_data.isnull().sum()\n",
    "print(null_count)"
   ]
  },
  {
   "cell_type": "code",
   "execution_count": null,
   "metadata": {},
   "outputs": [],
   "source": [
    "names = solar_data['name'].unique()\n",
    "addresses = solar_data['address'].unique()\n",
    "\n",
    "for i in range(len(names)):\n",
    "    print(names[i], '(' + addresses[i] + ')')"
   ]
  },
  {
   "cell_type": "code",
   "execution_count": null,
   "metadata": {},
   "outputs": [],
   "source": [
    "counts_of_names = solar_data.name.value_counts()\n",
    "counts_of_names"
   ]
  },
  {
   "cell_type": "code",
   "execution_count": null,
   "metadata": {},
   "outputs": [],
   "source": [
    "# convert to datetime object\n",
    "solar_data['date'] = pd.to_datetime(solar_data['date'])\n",
    "solar_data['date'] = solar_data['date'].dt.date\n",
    "\n",
    "# find the average and median kWh produced by each solar panel station\n",
    "avg_solar_df = solar_data.groupby(['name', 'date'])['kWh'].agg(['mean', 'median']).reset_index()\n",
    "\n",
    "# rename columns to average_kWh and median_kWh\n",
    "avg_solar_df = avg_solar_df.rename(columns={'mean': 'average_kWh', 'median': 'median_kWh'})\n",
    "\n",
    "avg_solar_df"
   ]
  },
  {
   "cell_type": "code",
   "execution_count": null,
   "metadata": {},
   "outputs": [],
   "source": [
    "station1 = 'Southland Leisure Centre'\n",
    "station2 = 'Whitehorn Multi-Service Centre'\n",
    "\n",
    "station_fig1 = make_subplots(rows=1, cols=2, subplot_titles=(f'Mean kWh produced by {station1}', f'Median kWh produced by {station1}'))\n",
    "station_fig1.add_trace(\n",
    "    go.Scatter(\n",
    "        x=avg_solar_df[avg_solar_df['name'] == station1]['date'],\n",
    "        y=avg_solar_df[avg_solar_df['name'] == station1]['average_kWh'],\n",
    "        name=f'Mean kWh produced by {station1}'\n",
    "    ),\n",
    "    row=1, col=1\n",
    ")\n",
    "\n",
    "station_fig1.add_trace(\n",
    "    go.Scatter(\n",
    "        x=avg_solar_df[avg_solar_df['name'] == station1]['date'],\n",
    "        y=avg_solar_df[avg_solar_df['name'] == station1]['median_kWh'],\n",
    "        name=f'Median kWh produced by {station1}'\n",
    "    ),\n",
    "    row=1, col=2   \n",
    ")\n",
    "\n",
    "station_fig2 = make_subplots(rows=1, cols=2, subplot_titles=(f'Mean kWh produced by {station2}', f'Median kWh produced by {station2}'))\n",
    "\n",
    "station_fig2.add_trace(\n",
    "    go.Scatter(\n",
    "        x=avg_solar_df[avg_solar_df['name'] == station2]['date'],\n",
    "        y=avg_solar_df[avg_solar_df['name'] == station2]['average_kWh'],\n",
    "        name=f'Mean kWh produced by {station2}'\n",
    "    ),\n",
    "    row=1, col=1\n",
    ")\n",
    "\n",
    "station_fig2.add_trace(\n",
    "    go.Scatter(\n",
    "        x=avg_solar_df[avg_solar_df['name'] == station2]['date'],\n",
    "        y=avg_solar_df[avg_solar_df['name'] == station2]['median_kWh'],\n",
    "        name=f'Median kWh produced by {station2}'\n",
    "    ),\n",
    "    row=1, col=2\n",
    ")\n",
    "\n",
    "station_fig1.show()\n",
    "station_fig2.show()"
   ]
  },
  {
   "cell_type": "code",
   "execution_count": null,
   "metadata": {},
   "outputs": [],
   "source": [
    "solar_data['date'] = pd.to_datetime(solar_data['date'])\n",
    "solar_data['year'] = solar_data['date'].dt.year\n",
    "\n",
    "mean_kWh_per_year = solar_data.groupby('year')['kWh'].mean().reset_index()\n",
    "\n",
    "mean_kWh_per_year"
   ]
  },
  {
   "cell_type": "code",
   "execution_count": null,
   "metadata": {},
   "outputs": [],
   "source": [
    "solar_data['installationDate'] = pd.to_datetime(solar_data['installationDate'])\n",
    "\n",
    "mean_avg_kWh = solar_data.groupby(['name', 'installationDate'])['kWh'].agg(['mean']).reset_index()\n",
    "\n",
    "fig = px.scatter(mean_avg_kWh, x='installationDate', y='mean', title='Installation Date vs Average kWh',\n",
    "             text='mean', hover_data=['installationDate'], color='name', labels={'mean': 'Avg kWh'})\n",
    "\n",
    "fig.update_traces(texttemplate='%{text:.2f}')\n",
    "fig.update_layout(\n",
    "    xaxis_title='Solar Panel Station',\n",
    "    yaxis_title='Average kWh',\n",
    ")\n",
    "\n",
    "fig.show()"
   ]
  }
 ],
 "metadata": {
  "kernelspec": {
   "display_name": "Python 3",
   "language": "python",
   "name": "python3"
  },
  "language_info": {
   "codemirror_mode": {
    "name": "ipython",
    "version": 3
   },
   "file_extension": ".py",
   "mimetype": "text/x-python",
   "name": "python",
   "nbconvert_exporter": "python",
   "pygments_lexer": "ipython3",
   "version": "3.10.8"
  },
  "orig_nbformat": 4
 },
 "nbformat": 4,
 "nbformat_minor": 2
}
