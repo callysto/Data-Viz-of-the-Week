{
 "cells": [
  {
   "cell_type": "markdown",
   "metadata": {},
   "source": [
    "![Callysto.ca Banner](https://github.com/callysto/curriculum-notebooks/blob/master/callysto-notebook-banner-top.jpg?raw=true)"
   ]
  },
  {
   "cell_type": "markdown",
   "metadata": {},
   "source": [
    "# Callysto’s Weekly Data Visualization\n",
    "\n",
    "## World Teachers' Day\n",
    "\n",
    "### Recommended Grade levels: 1-6\n",
    "<br>"
   ]
  },
  {
   "cell_type": "markdown",
   "metadata": {},
   "source": [
    "### Instructions\n",
    "#### “Run” the cells to see the graphs\n",
    "Click “Cell” and select “Run All”.<br> This will import the data and run all the code, so you can see this week's data visualization. Scroll to the top after you’ve run the cells.<br> \n",
    "\n",
    "![instructions](https://github.com/callysto/data-viz-of-the-week/blob/main/images/instructions.png?raw=true)\n",
    "\n",
    "**You don’t need to do any coding to view the visualizations**.\n",
    "The plots generated in this notebook are interactive. You can hover over and click on elements to see more information. \n",
    "\n",
    "Email contact@callysto.ca if you experience issues."
   ]
  },
  {
   "cell_type": "markdown",
   "metadata": {},
   "source": [
    "### About this Notebook\n",
    "\n",
    "Callysto's Weekly Data Visualization is a learning resource that aims to develop data literacy skills. We provide Grades 5-12 teachers and students with a data visualization, like a graph, to interpret. This companion resource walks learners through how the data visualization is created and interpreted by a data scientist. \n",
    "\n",
    "The steps of the data analysis process are listed below and applied to each weekly topic.\n",
    "\n",
    "1. Question - What are we trying to answer? \n",
    "2. Gather - Find the data source(s) you will need. \n",
    "3. Organize - Arrange the data, so that you can easily explore it. \n",
    "4. Explore - Examine the data to look for evidence to answer the question. This includes creating visualizations. \n",
    "5. Interpret - Describe what's happening in the data visualization. \n",
    "6. Communicate - Explain how the evidence answers the question. "
   ]
  },
  {
   "cell_type": "markdown",
   "metadata": {},
   "source": [
    "# Question\n",
    "\n",
    "<center><img src=\"img/love_to_learn.jpg\" width=500 height=300></center>\n",
    "\n",
    "<br>**World Teachers' Day** is a day of celebration for all teachers around the globe, returning annaully on **October 5th**. It celebrates the positive impacts teachers have made in transforming education and reflects on the support they provided to their students. More than 100 countries celebrate World Teachers' Day with slight differences on the date. For example, India celerbates World Teachers' Day on September 5th, a month earlier than Canada. \n",
    "\n",
    "Since 1996, [Uncesco](https://www.unesco.org/en/days/teachers) designs a campaign for teachers with specialzied themes for every year. This year, the theme is centered around \"The teachers we need for the education we want: The global imperative to reverse the teacher shortage\", which is aimed to stop an international trend of declining number of teachers. \n",
    "\n",
    "### Goal\n",
    "In this notebook, we want to confirm whether the number of teachers have been reduced in Canada in past 10 years. Then, we will share student survey responses that Callysto personnels have gathered to show our appreication to teachers. More details about the survey responses are listed below."
   ]
  },
  {
   "cell_type": "markdown",
   "metadata": {},
   "source": [
    "# Gather\n",
    "\n",
    "### Code:\n",
    "The code below will import the Python programming libraries we need to gather and organize the data to answer our question."
   ]
  },
  {
   "cell_type": "code",
   "execution_count": 23,
   "metadata": {},
   "outputs": [
    {
     "name": "stderr",
     "output_type": "stream",
     "text": [
      "[nltk_data] Downloading package averaged_perceptron_tagger to\n",
      "[nltk_data]     /Users/jennylee/nltk_data...\n",
      "[nltk_data]   Package averaged_perceptron_tagger is already up-to-\n",
      "[nltk_data]       date!\n"
     ]
    }
   ],
   "source": [
    "# import basic data wrangling libraries\n",
    "import pandas as pd\n",
    "import numpy as np\n",
    "\n",
    "# import NLP data wrangling libraries\n",
    "import nltk\n",
    "nltk.download('averaged_perceptron_tagger')\n",
    "from spellchecker import SpellChecker\n",
    "\n",
    "# import visualization libraries\n",
    "from wordcloud import WordCloud\n",
    "from wordcloud import STOPWORDS\n",
    "import matplotlib.pyplot as plt\n",
    "import plotly.express as px\n",
    "import plotly.io as io\n",
    "import plotly.graph_objects as go"
   ]
  },
  {
   "cell_type": "markdown",
   "metadata": {},
   "source": [
    "### Data:\n",
    "We have two datasets that we will be focusing on this notebook. \n",
    "\n",
    "- ##### Statistics Canada\n",
    "Dataset on the number of educators across Canadian provices is collected from [Statistics Canada website](https://www150.statcan.gc.ca/t1/tbl1/en/tv.action?pid=3710001001&pickMembers%5B0%5D=2.1&pickMembers%5B1%5D=3.1&pickMembers%5B2%5D=4.1&cubeTimeFrame.startYear=2002+%2F+2003&cubeTimeFrame.endYear=2016+%2F+2017&referencePeriods=20020101%2C20160101). This dataset includes information on the number of full-time and part-time educators across Canadian provinces, with detailed information on their genders and age groups. In our exploration we divided them into three categories: *all-gender*, *females*, and *males*. \n",
    "\n",
    "- ##### Callysto Survey on World Teachers' Day\n",
    "The Callysto Team conducted a brief survey on students who participated in our hackathon. Participants were directed towards a Google Form link where they were asked to answer questions regarding their favorite teachers. We asked the students to keep the name of the teachers to be anonymous, and talk about their favorite teachers' charactersitics that made them their *favourite*. "
   ]
  },
  {
   "cell_type": "markdown",
   "metadata": {},
   "source": [
    "### Import the data"
   ]
  },
  {
   "cell_type": "markdown",
   "metadata": {},
   "source": [
    "##### Statistics Canada"
   ]
  },
  {
   "cell_type": "code",
   "execution_count": 6,
   "metadata": {},
   "outputs": [
    {
     "name": "stdout",
     "output_type": "stream",
     "text": [
      "This dataset is derived from Statistics Canada, on the number of full-time & part-time all-gender educators.\n"
     ]
    },
    {
     "data": {
      "text/html": [
       "<div>\n",
       "<style scoped>\n",
       "    .dataframe tbody tr th:only-of-type {\n",
       "        vertical-align: middle;\n",
       "    }\n",
       "\n",
       "    .dataframe tbody tr th {\n",
       "        vertical-align: top;\n",
       "    }\n",
       "\n",
       "    .dataframe thead th {\n",
       "        text-align: right;\n",
       "    }\n",
       "</style>\n",
       "<table border=\"1\" class=\"dataframe\">\n",
       "  <thead>\n",
       "    <tr style=\"text-align: right;\">\n",
       "      <th></th>\n",
       "      <th>REF_DATE</th>\n",
       "      <th>GEO</th>\n",
       "      <th>DGUID</th>\n",
       "      <th>Work status</th>\n",
       "      <th>Age group</th>\n",
       "      <th>Sex</th>\n",
       "      <th>UOM</th>\n",
       "      <th>UOM_ID</th>\n",
       "      <th>SCALAR_FACTOR</th>\n",
       "      <th>SCALAR_ID</th>\n",
       "      <th>VECTOR</th>\n",
       "      <th>COORDINATE</th>\n",
       "      <th>VALUE</th>\n",
       "      <th>STATUS</th>\n",
       "      <th>SYMBOL</th>\n",
       "      <th>TERMINATED</th>\n",
       "      <th>DECIMALS</th>\n",
       "    </tr>\n",
       "  </thead>\n",
       "  <tbody>\n",
       "    <tr>\n",
       "      <th>0</th>\n",
       "      <td>2002/2003</td>\n",
       "      <td>Newfoundland and Labrador</td>\n",
       "      <td>2016A000210</td>\n",
       "      <td>All educators</td>\n",
       "      <td>All ages</td>\n",
       "      <td>Males</td>\n",
       "      <td>Number</td>\n",
       "      <td>223</td>\n",
       "      <td>units</td>\n",
       "      <td>0</td>\n",
       "      <td>v65932897</td>\n",
       "      <td>2.1.1.2</td>\n",
       "      <td>2838.0</td>\n",
       "      <td>NaN</td>\n",
       "      <td>NaN</td>\n",
       "      <td>NaN</td>\n",
       "      <td>0</td>\n",
       "    </tr>\n",
       "    <tr>\n",
       "      <th>1</th>\n",
       "      <td>2003/2004</td>\n",
       "      <td>Newfoundland and Labrador</td>\n",
       "      <td>2016A000210</td>\n",
       "      <td>All educators</td>\n",
       "      <td>All ages</td>\n",
       "      <td>Males</td>\n",
       "      <td>Number</td>\n",
       "      <td>223</td>\n",
       "      <td>units</td>\n",
       "      <td>0</td>\n",
       "      <td>v65932897</td>\n",
       "      <td>2.1.1.2</td>\n",
       "      <td>2700.0</td>\n",
       "      <td>NaN</td>\n",
       "      <td>NaN</td>\n",
       "      <td>NaN</td>\n",
       "      <td>0</td>\n",
       "    </tr>\n",
       "    <tr>\n",
       "      <th>2</th>\n",
       "      <td>2004/2005</td>\n",
       "      <td>Newfoundland and Labrador</td>\n",
       "      <td>2016A000210</td>\n",
       "      <td>All educators</td>\n",
       "      <td>All ages</td>\n",
       "      <td>Males</td>\n",
       "      <td>Number</td>\n",
       "      <td>223</td>\n",
       "      <td>units</td>\n",
       "      <td>0</td>\n",
       "      <td>v65932897</td>\n",
       "      <td>2.1.1.2</td>\n",
       "      <td>2538.0</td>\n",
       "      <td>NaN</td>\n",
       "      <td>NaN</td>\n",
       "      <td>NaN</td>\n",
       "      <td>0</td>\n",
       "    </tr>\n",
       "    <tr>\n",
       "      <th>3</th>\n",
       "      <td>2005/2006</td>\n",
       "      <td>Newfoundland and Labrador</td>\n",
       "      <td>2016A000210</td>\n",
       "      <td>All educators</td>\n",
       "      <td>All ages</td>\n",
       "      <td>Males</td>\n",
       "      <td>Number</td>\n",
       "      <td>223</td>\n",
       "      <td>units</td>\n",
       "      <td>0</td>\n",
       "      <td>v65932897</td>\n",
       "      <td>2.1.1.2</td>\n",
       "      <td>2322.0</td>\n",
       "      <td>NaN</td>\n",
       "      <td>NaN</td>\n",
       "      <td>NaN</td>\n",
       "      <td>0</td>\n",
       "    </tr>\n",
       "    <tr>\n",
       "      <th>4</th>\n",
       "      <td>2006/2007</td>\n",
       "      <td>Newfoundland and Labrador</td>\n",
       "      <td>2016A000210</td>\n",
       "      <td>All educators</td>\n",
       "      <td>All ages</td>\n",
       "      <td>Males</td>\n",
       "      <td>Number</td>\n",
       "      <td>223</td>\n",
       "      <td>units</td>\n",
       "      <td>0</td>\n",
       "      <td>v65932897</td>\n",
       "      <td>2.1.1.2</td>\n",
       "      <td>2280.0</td>\n",
       "      <td>NaN</td>\n",
       "      <td>NaN</td>\n",
       "      <td>NaN</td>\n",
       "      <td>0</td>\n",
       "    </tr>\n",
       "  </tbody>\n",
       "</table>\n",
       "</div>"
      ],
      "text/plain": [
       "    REF_DATE                        GEO        DGUID    Work status Age group  \\\n",
       "0  2002/2003  Newfoundland and Labrador  2016A000210  All educators  All ages   \n",
       "1  2003/2004  Newfoundland and Labrador  2016A000210  All educators  All ages   \n",
       "2  2004/2005  Newfoundland and Labrador  2016A000210  All educators  All ages   \n",
       "3  2005/2006  Newfoundland and Labrador  2016A000210  All educators  All ages   \n",
       "4  2006/2007  Newfoundland and Labrador  2016A000210  All educators  All ages   \n",
       "\n",
       "     Sex     UOM  UOM_ID SCALAR_FACTOR  SCALAR_ID     VECTOR COORDINATE  \\\n",
       "0  Males  Number     223         units          0  v65932897    2.1.1.2   \n",
       "1  Males  Number     223         units          0  v65932897    2.1.1.2   \n",
       "2  Males  Number     223         units          0  v65932897    2.1.1.2   \n",
       "3  Males  Number     223         units          0  v65932897    2.1.1.2   \n",
       "4  Males  Number     223         units          0  v65932897    2.1.1.2   \n",
       "\n",
       "    VALUE STATUS  SYMBOL  TERMINATED  DECIMALS  \n",
       "0  2838.0    NaN     NaN         NaN         0  \n",
       "1  2700.0    NaN     NaN         NaN         0  \n",
       "2  2538.0    NaN     NaN         NaN         0  \n",
       "3  2322.0    NaN     NaN         NaN         0  \n",
       "4  2280.0    NaN     NaN         NaN         0  "
      ]
     },
     "metadata": {},
     "output_type": "display_data"
    },
    {
     "name": "stdout",
     "output_type": "stream",
     "text": [
      "This dataset is derived from Statistics Canada, on the number of full-time & part-time female educators.\n"
     ]
    },
    {
     "data": {
      "text/html": [
       "<div>\n",
       "<style scoped>\n",
       "    .dataframe tbody tr th:only-of-type {\n",
       "        vertical-align: middle;\n",
       "    }\n",
       "\n",
       "    .dataframe tbody tr th {\n",
       "        vertical-align: top;\n",
       "    }\n",
       "\n",
       "    .dataframe thead th {\n",
       "        text-align: right;\n",
       "    }\n",
       "</style>\n",
       "<table border=\"1\" class=\"dataframe\">\n",
       "  <thead>\n",
       "    <tr style=\"text-align: right;\">\n",
       "      <th></th>\n",
       "      <th>REF_DATE</th>\n",
       "      <th>GEO</th>\n",
       "      <th>DGUID</th>\n",
       "      <th>Work status</th>\n",
       "      <th>Age group</th>\n",
       "      <th>Sex</th>\n",
       "      <th>UOM</th>\n",
       "      <th>UOM_ID</th>\n",
       "      <th>SCALAR_FACTOR</th>\n",
       "      <th>SCALAR_ID</th>\n",
       "      <th>VECTOR</th>\n",
       "      <th>COORDINATE</th>\n",
       "      <th>VALUE</th>\n",
       "      <th>STATUS</th>\n",
       "      <th>SYMBOL</th>\n",
       "      <th>TERMINATED</th>\n",
       "      <th>DECIMALS</th>\n",
       "    </tr>\n",
       "  </thead>\n",
       "  <tbody>\n",
       "    <tr>\n",
       "      <th>0</th>\n",
       "      <td>2002/2003</td>\n",
       "      <td>Newfoundland and Labrador</td>\n",
       "      <td>2016A000210</td>\n",
       "      <td>All educators</td>\n",
       "      <td>All ages</td>\n",
       "      <td>Females</td>\n",
       "      <td>Number</td>\n",
       "      <td>223</td>\n",
       "      <td>units</td>\n",
       "      <td>0</td>\n",
       "      <td>v65932898</td>\n",
       "      <td>2.1.1.3</td>\n",
       "      <td>5196.0</td>\n",
       "      <td>NaN</td>\n",
       "      <td>NaN</td>\n",
       "      <td>NaN</td>\n",
       "      <td>0</td>\n",
       "    </tr>\n",
       "    <tr>\n",
       "      <th>1</th>\n",
       "      <td>2003/2004</td>\n",
       "      <td>Newfoundland and Labrador</td>\n",
       "      <td>2016A000210</td>\n",
       "      <td>All educators</td>\n",
       "      <td>All ages</td>\n",
       "      <td>Females</td>\n",
       "      <td>Number</td>\n",
       "      <td>223</td>\n",
       "      <td>units</td>\n",
       "      <td>0</td>\n",
       "      <td>v65932898</td>\n",
       "      <td>2.1.1.3</td>\n",
       "      <td>5217.0</td>\n",
       "      <td>NaN</td>\n",
       "      <td>NaN</td>\n",
       "      <td>NaN</td>\n",
       "      <td>0</td>\n",
       "    </tr>\n",
       "    <tr>\n",
       "      <th>2</th>\n",
       "      <td>2004/2005</td>\n",
       "      <td>Newfoundland and Labrador</td>\n",
       "      <td>2016A000210</td>\n",
       "      <td>All educators</td>\n",
       "      <td>All ages</td>\n",
       "      <td>Females</td>\n",
       "      <td>Number</td>\n",
       "      <td>223</td>\n",
       "      <td>units</td>\n",
       "      <td>0</td>\n",
       "      <td>v65932898</td>\n",
       "      <td>2.1.1.3</td>\n",
       "      <td>5199.0</td>\n",
       "      <td>NaN</td>\n",
       "      <td>NaN</td>\n",
       "      <td>NaN</td>\n",
       "      <td>0</td>\n",
       "    </tr>\n",
       "    <tr>\n",
       "      <th>3</th>\n",
       "      <td>2005/2006</td>\n",
       "      <td>Newfoundland and Labrador</td>\n",
       "      <td>2016A000210</td>\n",
       "      <td>All educators</td>\n",
       "      <td>All ages</td>\n",
       "      <td>Females</td>\n",
       "      <td>Number</td>\n",
       "      <td>223</td>\n",
       "      <td>units</td>\n",
       "      <td>0</td>\n",
       "      <td>v65932898</td>\n",
       "      <td>2.1.1.3</td>\n",
       "      <td>4998.0</td>\n",
       "      <td>NaN</td>\n",
       "      <td>NaN</td>\n",
       "      <td>NaN</td>\n",
       "      <td>0</td>\n",
       "    </tr>\n",
       "    <tr>\n",
       "      <th>4</th>\n",
       "      <td>2006/2007</td>\n",
       "      <td>Newfoundland and Labrador</td>\n",
       "      <td>2016A000210</td>\n",
       "      <td>All educators</td>\n",
       "      <td>All ages</td>\n",
       "      <td>Females</td>\n",
       "      <td>Number</td>\n",
       "      <td>223</td>\n",
       "      <td>units</td>\n",
       "      <td>0</td>\n",
       "      <td>v65932898</td>\n",
       "      <td>2.1.1.3</td>\n",
       "      <td>5121.0</td>\n",
       "      <td>NaN</td>\n",
       "      <td>NaN</td>\n",
       "      <td>NaN</td>\n",
       "      <td>0</td>\n",
       "    </tr>\n",
       "  </tbody>\n",
       "</table>\n",
       "</div>"
      ],
      "text/plain": [
       "    REF_DATE                        GEO        DGUID    Work status Age group  \\\n",
       "0  2002/2003  Newfoundland and Labrador  2016A000210  All educators  All ages   \n",
       "1  2003/2004  Newfoundland and Labrador  2016A000210  All educators  All ages   \n",
       "2  2004/2005  Newfoundland and Labrador  2016A000210  All educators  All ages   \n",
       "3  2005/2006  Newfoundland and Labrador  2016A000210  All educators  All ages   \n",
       "4  2006/2007  Newfoundland and Labrador  2016A000210  All educators  All ages   \n",
       "\n",
       "       Sex     UOM  UOM_ID SCALAR_FACTOR  SCALAR_ID     VECTOR COORDINATE  \\\n",
       "0  Females  Number     223         units          0  v65932898    2.1.1.3   \n",
       "1  Females  Number     223         units          0  v65932898    2.1.1.3   \n",
       "2  Females  Number     223         units          0  v65932898    2.1.1.3   \n",
       "3  Females  Number     223         units          0  v65932898    2.1.1.3   \n",
       "4  Females  Number     223         units          0  v65932898    2.1.1.3   \n",
       "\n",
       "    VALUE STATUS  SYMBOL  TERMINATED  DECIMALS  \n",
       "0  5196.0    NaN     NaN         NaN         0  \n",
       "1  5217.0    NaN     NaN         NaN         0  \n",
       "2  5199.0    NaN     NaN         NaN         0  \n",
       "3  4998.0    NaN     NaN         NaN         0  \n",
       "4  5121.0    NaN     NaN         NaN         0  "
      ]
     },
     "metadata": {},
     "output_type": "display_data"
    },
    {
     "name": "stdout",
     "output_type": "stream",
     "text": [
      "This dataset is derived from Statistics Canada, on the number of full-time & part-time male educators.\n"
     ]
    },
    {
     "data": {
      "text/html": [
       "<div>\n",
       "<style scoped>\n",
       "    .dataframe tbody tr th:only-of-type {\n",
       "        vertical-align: middle;\n",
       "    }\n",
       "\n",
       "    .dataframe tbody tr th {\n",
       "        vertical-align: top;\n",
       "    }\n",
       "\n",
       "    .dataframe thead th {\n",
       "        text-align: right;\n",
       "    }\n",
       "</style>\n",
       "<table border=\"1\" class=\"dataframe\">\n",
       "  <thead>\n",
       "    <tr style=\"text-align: right;\">\n",
       "      <th></th>\n",
       "      <th>REF_DATE</th>\n",
       "      <th>GEO</th>\n",
       "      <th>DGUID</th>\n",
       "      <th>Work status</th>\n",
       "      <th>Age group</th>\n",
       "      <th>Sex</th>\n",
       "      <th>UOM</th>\n",
       "      <th>UOM_ID</th>\n",
       "      <th>SCALAR_FACTOR</th>\n",
       "      <th>SCALAR_ID</th>\n",
       "      <th>VECTOR</th>\n",
       "      <th>COORDINATE</th>\n",
       "      <th>VALUE</th>\n",
       "      <th>STATUS</th>\n",
       "      <th>SYMBOL</th>\n",
       "      <th>TERMINATED</th>\n",
       "      <th>DECIMALS</th>\n",
       "    </tr>\n",
       "  </thead>\n",
       "  <tbody>\n",
       "    <tr>\n",
       "      <th>0</th>\n",
       "      <td>2002/2003</td>\n",
       "      <td>Canada</td>\n",
       "      <td>2016A000011124</td>\n",
       "      <td>All educators</td>\n",
       "      <td>All ages</td>\n",
       "      <td>Both sexes</td>\n",
       "      <td>Number</td>\n",
       "      <td>223</td>\n",
       "      <td>units</td>\n",
       "      <td>0</td>\n",
       "      <td>v65932752</td>\n",
       "      <td>1.1.1.1</td>\n",
       "      <td>350622</td>\n",
       "      <td>NaN</td>\n",
       "      <td>NaN</td>\n",
       "      <td>NaN</td>\n",
       "      <td>0</td>\n",
       "    </tr>\n",
       "    <tr>\n",
       "      <th>1</th>\n",
       "      <td>2003/2004</td>\n",
       "      <td>Canada</td>\n",
       "      <td>2016A000011124</td>\n",
       "      <td>All educators</td>\n",
       "      <td>All ages</td>\n",
       "      <td>Both sexes</td>\n",
       "      <td>Number</td>\n",
       "      <td>223</td>\n",
       "      <td>units</td>\n",
       "      <td>0</td>\n",
       "      <td>v65932752</td>\n",
       "      <td>1.1.1.1</td>\n",
       "      <td>352299</td>\n",
       "      <td>NaN</td>\n",
       "      <td>NaN</td>\n",
       "      <td>NaN</td>\n",
       "      <td>0</td>\n",
       "    </tr>\n",
       "    <tr>\n",
       "      <th>2</th>\n",
       "      <td>2004/2005</td>\n",
       "      <td>Canada</td>\n",
       "      <td>2016A000011124</td>\n",
       "      <td>All educators</td>\n",
       "      <td>All ages</td>\n",
       "      <td>Both sexes</td>\n",
       "      <td>Number</td>\n",
       "      <td>223</td>\n",
       "      <td>units</td>\n",
       "      <td>0</td>\n",
       "      <td>v65932752</td>\n",
       "      <td>1.1.1.1</td>\n",
       "      <td>356346</td>\n",
       "      <td>NaN</td>\n",
       "      <td>NaN</td>\n",
       "      <td>NaN</td>\n",
       "      <td>0</td>\n",
       "    </tr>\n",
       "    <tr>\n",
       "      <th>3</th>\n",
       "      <td>2005/2006</td>\n",
       "      <td>Canada</td>\n",
       "      <td>2016A000011124</td>\n",
       "      <td>All educators</td>\n",
       "      <td>All ages</td>\n",
       "      <td>Both sexes</td>\n",
       "      <td>Number</td>\n",
       "      <td>223</td>\n",
       "      <td>units</td>\n",
       "      <td>0</td>\n",
       "      <td>v65932752</td>\n",
       "      <td>1.1.1.1</td>\n",
       "      <td>362673</td>\n",
       "      <td>NaN</td>\n",
       "      <td>NaN</td>\n",
       "      <td>NaN</td>\n",
       "      <td>0</td>\n",
       "    </tr>\n",
       "    <tr>\n",
       "      <th>4</th>\n",
       "      <td>2006/2007</td>\n",
       "      <td>Canada</td>\n",
       "      <td>2016A000011124</td>\n",
       "      <td>All educators</td>\n",
       "      <td>All ages</td>\n",
       "      <td>Both sexes</td>\n",
       "      <td>Number</td>\n",
       "      <td>223</td>\n",
       "      <td>units</td>\n",
       "      <td>0</td>\n",
       "      <td>v65932752</td>\n",
       "      <td>1.1.1.1</td>\n",
       "      <td>378621</td>\n",
       "      <td>NaN</td>\n",
       "      <td>NaN</td>\n",
       "      <td>NaN</td>\n",
       "      <td>0</td>\n",
       "    </tr>\n",
       "  </tbody>\n",
       "</table>\n",
       "</div>"
      ],
      "text/plain": [
       "    REF_DATE     GEO           DGUID    Work status Age group         Sex  \\\n",
       "0  2002/2003  Canada  2016A000011124  All educators  All ages  Both sexes   \n",
       "1  2003/2004  Canada  2016A000011124  All educators  All ages  Both sexes   \n",
       "2  2004/2005  Canada  2016A000011124  All educators  All ages  Both sexes   \n",
       "3  2005/2006  Canada  2016A000011124  All educators  All ages  Both sexes   \n",
       "4  2006/2007  Canada  2016A000011124  All educators  All ages  Both sexes   \n",
       "\n",
       "      UOM  UOM_ID SCALAR_FACTOR  SCALAR_ID     VECTOR COORDINATE   VALUE  \\\n",
       "0  Number     223         units          0  v65932752    1.1.1.1  350622   \n",
       "1  Number     223         units          0  v65932752    1.1.1.1  352299   \n",
       "2  Number     223         units          0  v65932752    1.1.1.1  356346   \n",
       "3  Number     223         units          0  v65932752    1.1.1.1  362673   \n",
       "4  Number     223         units          0  v65932752    1.1.1.1  378621   \n",
       "\n",
       "   STATUS  SYMBOL  TERMINATED  DECIMALS  \n",
       "0     NaN     NaN         NaN         0  \n",
       "1     NaN     NaN         NaN         0  \n",
       "2     NaN     NaN         NaN         0  \n",
       "3     NaN     NaN         NaN         0  \n",
       "4     NaN     NaN         NaN         0  "
      ]
     },
     "metadata": {},
     "output_type": "display_data"
    }
   ],
   "source": [
    "male = pd.read_csv(\"data/male_teacher_count.csv\")\n",
    "female = pd.read_csv(\"data/female_teacher_count.csv\")\n",
    "all_genders = pd.read_csv(\"data/teacher_count.csv\")\n",
    "\n",
    "print(\"This dataset is derived from Statistics Canada, on the number of full-time & part-time all-gender educators.\")\n",
    "display(male.head())\n",
    "print(\"This dataset is derived from Statistics Canada, on the number of full-time & part-time female educators.\")\n",
    "display(female.head())\n",
    "print(\"This dataset is derived from Statistics Canada, on the number of full-time & part-time male educators.\")\n",
    "display(all_genders.head())"
   ]
  },
  {
   "cell_type": "markdown",
   "metadata": {},
   "source": [
    "##### Callysto Stduent Survey\n",
    "This dataset includes responses to three short answer questions (\"What makes your teacher your *favourite?*\", \"What impact did they have on you?\", \"What makes them unique?\") and one dropdown-list question (\"What would you describe your favourite teacher as?\") which the students could choose multiple responses as their answers. "
   ]
  },
  {
   "cell_type": "code",
   "execution_count": 8,
   "metadata": {},
   "outputs": [
    {
     "data": {
      "text/html": [
       "<div>\n",
       "<style scoped>\n",
       "    .dataframe tbody tr th:only-of-type {\n",
       "        vertical-align: middle;\n",
       "    }\n",
       "\n",
       "    .dataframe tbody tr th {\n",
       "        vertical-align: top;\n",
       "    }\n",
       "\n",
       "    .dataframe thead th {\n",
       "        text-align: right;\n",
       "    }\n",
       "</style>\n",
       "<table border=\"1\" class=\"dataframe\">\n",
       "  <thead>\n",
       "    <tr style=\"text-align: right;\">\n",
       "      <th></th>\n",
       "      <th>Timestamp</th>\n",
       "      <th>What makes your favourite teacher your favourite?</th>\n",
       "      <th>What impact did they have on you?</th>\n",
       "      <th>What makes them unique?</th>\n",
       "      <th>Out of the following list, what would you describe your favourite teacher as?</th>\n",
       "    </tr>\n",
       "  </thead>\n",
       "  <tbody>\n",
       "    <tr>\n",
       "      <th>0</th>\n",
       "      <td>2023-08-17 15:43:14.838</td>\n",
       "      <td>He's funny and he marks really softly.</td>\n",
       "      <td>Easy learning</td>\n",
       "      <td>NaN</td>\n",
       "      <td>compassionate, friendly, humourous, intelligen...</td>\n",
       "    </tr>\n",
       "    <tr>\n",
       "      <th>1</th>\n",
       "      <td>2023-08-17 15:44:33.289</td>\n",
       "      <td>Her classroom is pretty and she teaches well.</td>\n",
       "      <td>Other than school, they also talked to me abou...</td>\n",
       "      <td>They put more effort in compared to other teac...</td>\n",
       "      <td>dedicated, inspiring, organized</td>\n",
       "    </tr>\n",
       "    <tr>\n",
       "      <th>2</th>\n",
       "      <td>2023-08-17 15:45:15.110</td>\n",
       "      <td>-nice, chill, teaches well, no excessive works...</td>\n",
       "      <td>-made me like their subject more</td>\n",
       "      <td>-controlled class at right times but not in a ...</td>\n",
       "      <td>patient, friendly, humourous, diligent, insigh...</td>\n",
       "    </tr>\n",
       "    <tr>\n",
       "      <th>3</th>\n",
       "      <td>2023-08-17 15:45:31.489</td>\n",
       "      <td>A teacher that makes learning fun and interact...</td>\n",
       "      <td>They made my year very exciting, and I found m...</td>\n",
       "      <td>They are very open to the struggles of student...</td>\n",
       "      <td>compassionate, dedicated, inspiring, eager, pa...</td>\n",
       "    </tr>\n",
       "    <tr>\n",
       "      <th>4</th>\n",
       "      <td>2023-08-17 15:45:51.251</td>\n",
       "      <td>They're rational and they don't play favorites...</td>\n",
       "      <td>NaN</td>\n",
       "      <td>They know alot of outdoor education things. I ...</td>\n",
       "      <td>dedicated, eager, patient, friendly, motivatin...</td>\n",
       "    </tr>\n",
       "  </tbody>\n",
       "</table>\n",
       "</div>"
      ],
      "text/plain": [
       "                Timestamp  What makes your favourite teacher your favourite?  \\\n",
       "0 2023-08-17 15:43:14.838             He's funny and he marks really softly.   \n",
       "1 2023-08-17 15:44:33.289     Her classroom is pretty and she teaches well.    \n",
       "2 2023-08-17 15:45:15.110  -nice, chill, teaches well, no excessive works...   \n",
       "3 2023-08-17 15:45:31.489  A teacher that makes learning fun and interact...   \n",
       "4 2023-08-17 15:45:51.251  They're rational and they don't play favorites...   \n",
       "\n",
       "                   What impact did they have on you?  \\\n",
       "0                                      Easy learning   \n",
       "1  Other than school, they also talked to me abou...   \n",
       "2                   -made me like their subject more   \n",
       "3  They made my year very exciting, and I found m...   \n",
       "4                                                NaN   \n",
       "\n",
       "                             What makes them unique?  \\\n",
       "0                                                NaN   \n",
       "1  They put more effort in compared to other teac...   \n",
       "2  -controlled class at right times but not in a ...   \n",
       "3  They are very open to the struggles of student...   \n",
       "4  They know alot of outdoor education things. I ...   \n",
       "\n",
       "  Out of the following list, what would you describe your favourite teacher as?  \n",
       "0  compassionate, friendly, humourous, intelligen...                             \n",
       "1                    dedicated, inspiring, organized                             \n",
       "2  patient, friendly, humourous, diligent, insigh...                             \n",
       "3  compassionate, dedicated, inspiring, eager, pa...                             \n",
       "4  dedicated, eager, patient, friendly, motivatin...                             "
      ]
     },
     "execution_count": 8,
     "metadata": {},
     "output_type": "execute_result"
    }
   ],
   "source": [
    "student_df = pd.read_excel(\"data/Favourite Teacher Student Feedback (Responses).xlsx\")\n",
    "student_df.head()"
   ]
  },
  {
   "cell_type": "markdown",
   "metadata": {},
   "source": [
    "### Comment on the data\n",
    "##### Statistics Canada"
   ]
  },
  {
   "cell_type": "code",
   "execution_count": 13,
   "metadata": {},
   "outputs": [
    {
     "name": "stdout",
     "output_type": "stream",
     "text": [
      "Dataframe size for number of male educators in Canadian provinces: 163 rows and 17 columns.\n",
      "Dataframe size for number of female educators in Canadian provinces: 163 rows and 17 columns.\n",
      "Dataframe size for number of all educators in Canadian provinces: 210 rows and 17 columns.\n"
     ]
    }
   ],
   "source": [
    "print(f\"Dataframe size for number of male educators in Canadian provinces: {male.shape[0]} rows and {male.shape[1]} columns.\")\n",
    "print(f\"Dataframe size for number of female educators in Canadian provinces: {female.shape[0]} rows and {female.shape[1]} columns.\")\n",
    "print(f\"Dataframe size for number of all educators in Canadian provinces: {all_genders.shape[0]} rows and {all_genders.shape[1]} columns.\")"
   ]
  },
  {
   "cell_type": "markdown",
   "metadata": {},
   "source": [
    "#### Callysto Student Survey"
   ]
  },
  {
   "cell_type": "code",
   "execution_count": 14,
   "metadata": {},
   "outputs": [
    {
     "name": "stdout",
     "output_type": "stream",
     "text": [
      "The Callysto Student Survey data consists of 75 student responses, answering 4 questions each.\n"
     ]
    }
   ],
   "source": [
    "print(f\"The Callysto Student Survey data consists of {student_df.shape[0]} student responses, answering {student_df.shape[1]-1} questions each.\")"
   ]
  },
  {
   "cell_type": "markdown",
   "metadata": {},
   "source": [
    "# Organize\n",
    "\n",
    "The code below will arrange the data cleanly so that we can do analysis on it. This is a quality control step for our data and involves examining the data to detect anything odd with the data (e.g. structure, missing values), fixing the oddities, and checking if the fixes worked. "
   ]
  },
  {
   "cell_type": "markdown",
   "metadata": {},
   "source": [
    "#### Statistics Canada"
   ]
  },
  {
   "cell_type": "code",
   "execution_count": 18,
   "metadata": {},
   "outputs": [
    {
     "data": {
      "text/html": [
       "<div>\n",
       "<style scoped>\n",
       "    .dataframe tbody tr th:only-of-type {\n",
       "        vertical-align: middle;\n",
       "    }\n",
       "\n",
       "    .dataframe tbody tr th {\n",
       "        vertical-align: top;\n",
       "    }\n",
       "\n",
       "    .dataframe thead th {\n",
       "        text-align: right;\n",
       "    }\n",
       "</style>\n",
       "<table border=\"1\" class=\"dataframe\">\n",
       "  <thead>\n",
       "    <tr style=\"text-align: right;\">\n",
       "      <th></th>\n",
       "      <th>REF_DATE</th>\n",
       "      <th>GEO</th>\n",
       "      <th>DGUID</th>\n",
       "      <th>Work status</th>\n",
       "      <th>Age group</th>\n",
       "      <th>Sex</th>\n",
       "      <th>UOM</th>\n",
       "      <th>UOM_ID</th>\n",
       "      <th>SCALAR_FACTOR</th>\n",
       "      <th>SCALAR_ID</th>\n",
       "      <th>VECTOR</th>\n",
       "      <th>COORDINATE</th>\n",
       "      <th>Count</th>\n",
       "      <th>STATUS</th>\n",
       "      <th>SYMBOL</th>\n",
       "      <th>TERMINATED</th>\n",
       "      <th>DECIMALS</th>\n",
       "      <th>Year</th>\n",
       "    </tr>\n",
       "  </thead>\n",
       "  <tbody>\n",
       "    <tr>\n",
       "      <th>15</th>\n",
       "      <td>2002/2003</td>\n",
       "      <td>Newfoundland and Labrador</td>\n",
       "      <td>2016A000210</td>\n",
       "      <td>All educators</td>\n",
       "      <td>All ages</td>\n",
       "      <td>Both sexes</td>\n",
       "      <td>Number</td>\n",
       "      <td>223</td>\n",
       "      <td>units</td>\n",
       "      <td>0</td>\n",
       "      <td>v65932896</td>\n",
       "      <td>2.1.1.1</td>\n",
       "      <td>8034.0</td>\n",
       "      <td>NaN</td>\n",
       "      <td>NaN</td>\n",
       "      <td>NaN</td>\n",
       "      <td>0</td>\n",
       "      <td>2003</td>\n",
       "    </tr>\n",
       "    <tr>\n",
       "      <th>16</th>\n",
       "      <td>2003/2004</td>\n",
       "      <td>Newfoundland and Labrador</td>\n",
       "      <td>2016A000210</td>\n",
       "      <td>All educators</td>\n",
       "      <td>All ages</td>\n",
       "      <td>Both sexes</td>\n",
       "      <td>Number</td>\n",
       "      <td>223</td>\n",
       "      <td>units</td>\n",
       "      <td>0</td>\n",
       "      <td>v65932896</td>\n",
       "      <td>2.1.1.1</td>\n",
       "      <td>7920.0</td>\n",
       "      <td>NaN</td>\n",
       "      <td>NaN</td>\n",
       "      <td>NaN</td>\n",
       "      <td>0</td>\n",
       "      <td>2004</td>\n",
       "    </tr>\n",
       "    <tr>\n",
       "      <th>17</th>\n",
       "      <td>2004/2005</td>\n",
       "      <td>Newfoundland and Labrador</td>\n",
       "      <td>2016A000210</td>\n",
       "      <td>All educators</td>\n",
       "      <td>All ages</td>\n",
       "      <td>Both sexes</td>\n",
       "      <td>Number</td>\n",
       "      <td>223</td>\n",
       "      <td>units</td>\n",
       "      <td>0</td>\n",
       "      <td>v65932896</td>\n",
       "      <td>2.1.1.1</td>\n",
       "      <td>7737.0</td>\n",
       "      <td>NaN</td>\n",
       "      <td>NaN</td>\n",
       "      <td>NaN</td>\n",
       "      <td>0</td>\n",
       "      <td>2005</td>\n",
       "    </tr>\n",
       "    <tr>\n",
       "      <th>18</th>\n",
       "      <td>2005/2006</td>\n",
       "      <td>Newfoundland and Labrador</td>\n",
       "      <td>2016A000210</td>\n",
       "      <td>All educators</td>\n",
       "      <td>All ages</td>\n",
       "      <td>Both sexes</td>\n",
       "      <td>Number</td>\n",
       "      <td>223</td>\n",
       "      <td>units</td>\n",
       "      <td>0</td>\n",
       "      <td>v65932896</td>\n",
       "      <td>2.1.1.1</td>\n",
       "      <td>7320.0</td>\n",
       "      <td>NaN</td>\n",
       "      <td>NaN</td>\n",
       "      <td>NaN</td>\n",
       "      <td>0</td>\n",
       "      <td>2006</td>\n",
       "    </tr>\n",
       "    <tr>\n",
       "      <th>19</th>\n",
       "      <td>2006/2007</td>\n",
       "      <td>Newfoundland and Labrador</td>\n",
       "      <td>2016A000210</td>\n",
       "      <td>All educators</td>\n",
       "      <td>All ages</td>\n",
       "      <td>Both sexes</td>\n",
       "      <td>Number</td>\n",
       "      <td>223</td>\n",
       "      <td>units</td>\n",
       "      <td>0</td>\n",
       "      <td>v65932896</td>\n",
       "      <td>2.1.1.1</td>\n",
       "      <td>7401.0</td>\n",
       "      <td>NaN</td>\n",
       "      <td>NaN</td>\n",
       "      <td>NaN</td>\n",
       "      <td>0</td>\n",
       "      <td>2007</td>\n",
       "    </tr>\n",
       "  </tbody>\n",
       "</table>\n",
       "</div>"
      ],
      "text/plain": [
       "     REF_DATE                        GEO        DGUID    Work status  \\\n",
       "15  2002/2003  Newfoundland and Labrador  2016A000210  All educators   \n",
       "16  2003/2004  Newfoundland and Labrador  2016A000210  All educators   \n",
       "17  2004/2005  Newfoundland and Labrador  2016A000210  All educators   \n",
       "18  2005/2006  Newfoundland and Labrador  2016A000210  All educators   \n",
       "19  2006/2007  Newfoundland and Labrador  2016A000210  All educators   \n",
       "\n",
       "   Age group         Sex     UOM  UOM_ID SCALAR_FACTOR  SCALAR_ID     VECTOR  \\\n",
       "15  All ages  Both sexes  Number     223         units          0  v65932896   \n",
       "16  All ages  Both sexes  Number     223         units          0  v65932896   \n",
       "17  All ages  Both sexes  Number     223         units          0  v65932896   \n",
       "18  All ages  Both sexes  Number     223         units          0  v65932896   \n",
       "19  All ages  Both sexes  Number     223         units          0  v65932896   \n",
       "\n",
       "   COORDINATE   Count STATUS  SYMBOL  TERMINATED  DECIMALS  Year  \n",
       "15    2.1.1.1  8034.0    NaN     NaN         NaN         0  2003  \n",
       "16    2.1.1.1  7920.0    NaN     NaN         NaN         0  2004  \n",
       "17    2.1.1.1  7737.0    NaN     NaN         NaN         0  2005  \n",
       "18    2.1.1.1  7320.0    NaN     NaN         NaN         0  2006  \n",
       "19    2.1.1.1  7401.0    NaN     NaN         NaN         0  2007  "
      ]
     },
     "execution_count": 18,
     "metadata": {},
     "output_type": "execute_result"
    }
   ],
   "source": [
    "def organize_df(df):\n",
    "    df[\"Year\"] = df[\"REF_DATE\"].str.split(\"/\").str[-1]\n",
    "    df[\"Year\"] = pd.DatetimeIndex(df[\"Year\"]).year\n",
    "    df = df[df[\"GEO\"] != \"Canada\"]\n",
    "    return df\n",
    "\n",
    "all_df = pd.concat([organize_df(all_genders), organize_df(female), organize_df(male)])\n",
    "all_df.rename(columns={\"VALUE\": \"Count\"}, inplace=True)\n",
    "all_df.head()"
   ]
  },
  {
   "cell_type": "markdown",
   "metadata": {},
   "source": [
    "#### Callysto Student Survey"
   ]
  },
  {
   "cell_type": "code",
   "execution_count": 20,
   "metadata": {},
   "outputs": [
    {
     "data": {
      "text/html": [
       "<div>\n",
       "<style scoped>\n",
       "    .dataframe tbody tr th:only-of-type {\n",
       "        vertical-align: middle;\n",
       "    }\n",
       "\n",
       "    .dataframe tbody tr th {\n",
       "        vertical-align: top;\n",
       "    }\n",
       "\n",
       "    .dataframe thead th {\n",
       "        text-align: right;\n",
       "    }\n",
       "</style>\n",
       "<table border=\"1\" class=\"dataframe\">\n",
       "  <thead>\n",
       "    <tr style=\"text-align: right;\">\n",
       "      <th></th>\n",
       "      <th>Timestamp</th>\n",
       "      <th>Favourite</th>\n",
       "      <th>Impact</th>\n",
       "      <th>Unique</th>\n",
       "      <th>Characteristics</th>\n",
       "    </tr>\n",
       "  </thead>\n",
       "  <tbody>\n",
       "    <tr>\n",
       "      <th>0</th>\n",
       "      <td>2023-08-17 15:43:14.838</td>\n",
       "      <td>He's funny and he marks really softly</td>\n",
       "      <td>Easy learning</td>\n",
       "      <td>can</td>\n",
       "      <td>compassionate, friendly, humourous, intelligen...</td>\n",
       "    </tr>\n",
       "    <tr>\n",
       "      <th>1</th>\n",
       "      <td>2023-08-17 15:44:33.289</td>\n",
       "      <td>Her classroom is pretty and she teaches well i</td>\n",
       "      <td>Other than school they also talked to me about...</td>\n",
       "      <td>They put more effort in compared to other teac...</td>\n",
       "      <td>dedicated, inspiring, organized</td>\n",
       "    </tr>\n",
       "    <tr>\n",
       "      <th>2</th>\n",
       "      <td>2023-08-17 15:45:15.110</td>\n",
       "      <td>nice chill teaches well no excessive worksheets</td>\n",
       "      <td>made me like their subject more</td>\n",
       "      <td>controlled class at right times but not in a w...</td>\n",
       "      <td>patient, friendly, humourous, diligent, insigh...</td>\n",
       "    </tr>\n",
       "    <tr>\n",
       "      <th>3</th>\n",
       "      <td>2023-08-17 15:45:31.489</td>\n",
       "      <td>A teacher that makes learning fun and interact...</td>\n",
       "      <td>They made my year very exciting and I found mo...</td>\n",
       "      <td>They are very open to the struggles of student...</td>\n",
       "      <td>compassionate, dedicated, inspiring, eager, pa...</td>\n",
       "    </tr>\n",
       "    <tr>\n",
       "      <th>4</th>\n",
       "      <td>2023-08-17 15:45:51.251</td>\n",
       "      <td>They're rational and they don't play favorites...</td>\n",
       "      <td>can</td>\n",
       "      <td>They know lot of outdoor education things I al...</td>\n",
       "      <td>dedicated, eager, patient, friendly, motivatin...</td>\n",
       "    </tr>\n",
       "  </tbody>\n",
       "</table>\n",
       "</div>"
      ],
      "text/plain": [
       "                Timestamp                                          Favourite  \\\n",
       "0 2023-08-17 15:43:14.838              He's funny and he marks really softly   \n",
       "1 2023-08-17 15:44:33.289     Her classroom is pretty and she teaches well i   \n",
       "2 2023-08-17 15:45:15.110    nice chill teaches well no excessive worksheets   \n",
       "3 2023-08-17 15:45:31.489  A teacher that makes learning fun and interact...   \n",
       "4 2023-08-17 15:45:51.251  They're rational and they don't play favorites...   \n",
       "\n",
       "                                              Impact  \\\n",
       "0                                      Easy learning   \n",
       "1  Other than school they also talked to me about...   \n",
       "2                    made me like their subject more   \n",
       "3  They made my year very exciting and I found mo...   \n",
       "4                                                can   \n",
       "\n",
       "                                              Unique  \\\n",
       "0                                                can   \n",
       "1  They put more effort in compared to other teac...   \n",
       "2  controlled class at right times but not in a w...   \n",
       "3  They are very open to the struggles of student...   \n",
       "4  They know lot of outdoor education things I al...   \n",
       "\n",
       "                                     Characteristics  \n",
       "0  compassionate, friendly, humourous, intelligen...  \n",
       "1                    dedicated, inspiring, organized  \n",
       "2  patient, friendly, humourous, diligent, insigh...  \n",
       "3  compassionate, dedicated, inspiring, eager, pa...  \n",
       "4  dedicated, eager, patient, friendly, motivatin...  "
      ]
     },
     "execution_count": 20,
     "metadata": {},
     "output_type": "execute_result"
    }
   ],
   "source": [
    "columns = [\"Timestamp\", \"Favourite\", \"Impact\", \"Unique\", \"Characteristics\"]\n",
    "student_df.columns = columns\n",
    "\n",
    "def spell_check(df, col):\n",
    "    spell_checker = SpellChecker()\n",
    "    \n",
    "    for ind, row in df.iterrows():\n",
    "        df[col] = df[col].astype(str)\n",
    "        try:\n",
    "            all_list = row[col].split(\" \")\n",
    "            final_list = []\n",
    "        \n",
    "            for word in all_list:\n",
    "                word = spell_checker.correction(word)\n",
    "                final_list.append(word)\n",
    "                df.loc[ind, col] = \" \".join(final_list)\n",
    "        except:\n",
    "            continue\n",
    "    return df\n",
    "    \n",
    "col_list = student_df.columns[1:-1]\n",
    "\n",
    "for column in col_list:\n",
    "    spell_check(student_df, column)\n",
    "    \n",
    "student_df.head()"
   ]
  },
  {
   "cell_type": "markdown",
   "metadata": {},
   "source": [
    "Using the `spellchecker` library, we replaced potential spelling mistakes with proper words."
   ]
  },
  {
   "cell_type": "markdown",
   "metadata": {},
   "source": [
    "# Explore\n",
    "\n",
    "The code below will be used to help us look for evidence to answer our question. This can involve looking at data in table format, applying math and statistics, and creating different types of visualizations to represent our data."
   ]
  },
  {
   "cell_type": "markdown",
   "metadata": {},
   "source": [
    "### Insight into the number of educators across Canadian provinces"
   ]
  },
  {
   "cell_type": "code",
   "execution_count": 21,
   "metadata": {},
   "outputs": [],
   "source": [
    "colors=['#1f77b4',  # muted blue\n",
    "        '#ff7f0e',  # safety orange\n",
    "        '#2ca02c',  # cooked asparagus green\n",
    "        '#d62728',  # brick red\n",
    "        '#9467bd',  # muted purple\n",
    "        '#8c564b',  # chestnut brown\n",
    "        '#e377c2',  # raspberry yogurt pink\n",
    "        '#17becf',  # blue-teal\n",
    "        '#210240',  # dark purple\n",
    "        '#21DC49',  # bright green\n",
    "        '#3F5063',  # dark navy\n",
    "        '#6C7075',  # dark grey\n",
    "        '#F4BC1A']  # mustard\n",
    "\n",
    "# Set unique colors for each Canadian provinces.\n",
    "color_dict = dict(zip(all_df[\"GEO\"].unique(), colors))\n",
    "all_df[\"Color\"] = all_df[\"GEO\"].map(color_dict)"
   ]
  },
  {
   "cell_type": "code",
   "execution_count": 42,
   "metadata": {},
   "outputs": [
    {
     "data": {
      "application/vnd.plotly.v1+json": {
       "config": {
        "plotlyServerURL": "https://plot.ly"
       },
       "data": [
        {
         "line": {
          "color": "#1f77b4"
         },
         "mode": "lines",
         "name": "Newfoundland and Labrador",
         "type": "scatter",
         "x": [
          2003,
          2004,
          2005,
          2006,
          2007,
          2008,
          2009,
          2010,
          2011,
          2012,
          2013,
          2014,
          2015,
          2016,
          2017
         ],
         "y": [
          8034,
          7920,
          7737,
          7320,
          7401,
          7485,
          7542,
          7722,
          7635,
          7605,
          7584,
          7380,
          7650,
          6948,
          7161
         ]
        },
        {
         "line": {
          "color": "#ff7f0e"
         },
         "mode": "lines",
         "name": "Prince Edward Island",
         "type": "scatter",
         "x": [
          2003,
          2004,
          2005,
          2006,
          2007,
          2008,
          2009,
          2010,
          2011,
          2012,
          2013,
          2014,
          2015,
          2016,
          2017
         ],
         "y": [
          1602,
          1587,
          1587,
          1539,
          1548,
          1581,
          1638,
          1644,
          1749,
          1764,
          1767,
          1692,
          1686,
          1683,
          1611
         ]
        },
        {
         "line": {
          "color": "#2ca02c"
         },
         "mode": "lines",
         "name": "Nova Scotia",
         "type": "scatter",
         "x": [
          2003,
          2004,
          2005,
          2006,
          2007,
          2008,
          2009,
          2010,
          2011,
          2012,
          2013,
          2014,
          2015,
          2016,
          2017
         ],
         "y": [
          9591,
          9615,
          9579,
          9708,
          9918,
          9972,
          10062,
          10071,
          9744,
          9501,
          9207,
          8913,
          9150,
          9030,
          9333
         ]
        },
        {
         "line": {
          "color": "#d62728"
         },
         "mode": "lines",
         "name": "New Brunswick",
         "type": "scatter",
         "x": [
          2003,
          2004,
          2005,
          2006,
          2007,
          2008,
          2009,
          2010,
          2011,
          2012,
          2013,
          2014,
          2015,
          2016,
          2017
         ],
         "y": [
          7419,
          7473,
          7509,
          7509,
          7629,
          7899,
          8079,
          7998,
          7803,
          7683,
          7449,
          6900,
          6843,
          7023,
          7515
         ]
        },
        {
         "line": {
          "color": "#9467bd"
         },
         "mode": "lines",
         "name": "Quebec",
         "type": "scatter",
         "x": [
          2003,
          2004,
          2005,
          2006,
          2007,
          2008,
          2009,
          2010,
          2011,
          2012,
          2013,
          2014,
          2015,
          2016,
          2017
         ],
         "y": [
          93084,
          93360,
          93201,
          93270,
          96132,
          96222,
          96144,
          96930,
          97032,
          97149,
          97617,
          98112,
          98313,
          99243,
          100812
         ]
        },
        {
         "line": {
          "color": "#8c564b"
         },
         "mode": "lines",
         "name": "Ontario",
         "type": "scatter",
         "x": [
          2003,
          2004,
          2005,
          2006,
          2007,
          2008,
          2009,
          2010,
          2011,
          2012,
          2013,
          2014,
          2015,
          2016,
          2017
         ],
         "y": [
          130824,
          129912,
          132678,
          137889,
          149712,
          154962,
          157302,
          158172,
          160455,
          161523,
          163311,
          165702,
          169314,
          168045,
          169572
         ]
        },
        {
         "line": {
          "color": "#e377c2"
         },
         "mode": "lines",
         "name": "Manitoba",
         "type": "scatter",
         "x": [
          2003,
          2004,
          2005,
          2006,
          2007,
          2008,
          2009,
          2010,
          2011,
          2012,
          2013,
          2014,
          2015,
          2016,
          2017
         ],
         "y": [
          14139,
          14445,
          14280,
          14211,
          14250,
          14346,
          14322,
          14334,
          14433,
          13065,
          13479,
          13662,
          13707,
          13908,
          14097
         ]
        },
        {
         "line": {
          "color": "#17becf"
         },
         "mode": "lines",
         "name": "Saskatchewan",
         "type": "scatter",
         "x": [
          2003,
          2004,
          2005,
          2006,
          2007,
          2008,
          2009,
          2010,
          2011,
          2012,
          2013,
          2014,
          2015,
          2016,
          2017
         ],
         "y": [
          12348,
          12378,
          12261,
          12171,
          12444,
          12252,
          11694,
          11904,
          12099,
          12426,
          12564,
          12726,
          13044,
          12894,
          12918
         ]
        },
        {
         "line": {
          "color": "#210240"
         },
         "mode": "lines",
         "name": "Alberta",
         "type": "scatter",
         "x": [
          2003,
          2004,
          2005,
          2006,
          2007,
          2008,
          2009,
          2010,
          2011,
          2012,
          2013,
          2014,
          2015,
          2016,
          2017
         ],
         "y": [
          34761,
          37350,
          39390,
          40293,
          40557,
          40542,
          42516,
          45627,
          44781,
          44643,
          44211,
          44391,
          45123,
          46662,
          47289
         ]
        },
        {
         "line": {
          "color": "#21DC49"
         },
         "mode": "lines",
         "name": "British Columbia",
         "type": "scatter",
         "x": [
          2003,
          2004,
          2005,
          2006,
          2007,
          2008,
          2009,
          2010,
          2011,
          2012,
          2013,
          2014,
          2015,
          2016,
          2017
         ],
         "y": [
          37149,
          36564,
          36330,
          36888,
          37149,
          37119,
          36921,
          36372,
          35958,
          36108,
          36021,
          35613,
          35505,
          35757,
          36111
         ]
        },
        {
         "line": {
          "color": "#3F5063"
         },
         "mode": "lines",
         "name": "Yukon",
         "type": "scatter",
         "x": [
          2003,
          2004,
          2005,
          2006,
          2007,
          2008,
          2009,
          2010,
          2011,
          2012,
          2013,
          2014,
          2015,
          2016,
          2017
         ],
         "y": [
          492,
          489,
          495,
          495,
          510,
          516,
          552,
          570,
          513,
          546,
          879,
          903,
          945,
          873,
          879
         ]
        },
        {
         "line": {
          "color": "#6C7075"
         },
         "mode": "lines",
         "name": "Northwest Territories",
         "type": "scatter",
         "x": [
          2003,
          2004,
          2005,
          2006,
          2007,
          2008,
          2009,
          2010,
          2011,
          2012,
          2013,
          2014,
          2015,
          2016,
          2017
         ],
         "y": [
          645,
          681,
          678,
          669,
          672,
          714,
          720,
          705,
          687,
          630,
          672,
          672,
          666,
          654,
          645
         ]
        },
        {
         "line": {
          "color": "#F4BC1A"
         },
         "mode": "lines",
         "name": "Nunavut",
         "type": "scatter",
         "x": [
          2003,
          2004,
          2005,
          2006,
          2007,
          2008,
          2009,
          2010,
          2011,
          2012,
          2013,
          2014,
          2015,
          2016,
          2017
         ],
         "y": [
          537,
          528,
          624,
          711,
          702,
          705,
          654,
          651,
          666,
          666,
          801,
          573,
          783,
          762,
          864
         ]
        },
        {
         "line": {
          "color": "#1f77b4"
         },
         "mode": "lines",
         "name": "Newfoundland and Labrador",
         "type": "scatter",
         "x": [
          2003,
          2004,
          2005,
          2006,
          2007,
          2008,
          2009,
          2010,
          2011,
          2012,
          2013,
          2014,
          2015,
          2016,
          2017
         ],
         "y": [
          2838,
          2700,
          2538,
          2322,
          2280,
          2190,
          2154,
          2187,
          2100,
          2016,
          2040,
          1881,
          1851,
          1794,
          1770
         ]
        },
        {
         "line": {
          "color": "#ff7f0e"
         },
         "mode": "lines",
         "name": "Prince Edward Island",
         "type": "scatter",
         "x": [
          2003,
          2004,
          2005,
          2006,
          2007,
          2008,
          2009,
          2010,
          2011,
          2012,
          2013,
          2014,
          2015,
          2016,
          2017
         ],
         "y": [
          507,
          507,
          495,
          456,
          453,
          468,
          468,
          459,
          459,
          471,
          453,
          435,
          429,
          411,
          402
         ]
        },
        {
         "line": {
          "color": "#2ca02c"
         },
         "mode": "lines",
         "name": "Nova Scotia",
         "type": "scatter",
         "x": [
          2003,
          2004,
          2005,
          2006,
          2007,
          2008,
          2009,
          2010,
          2011,
          2012,
          2013,
          2014,
          2015,
          2016,
          2017
         ],
         "y": [
          3096,
          3033,
          2922,
          2874,
          2793,
          2778,
          2748,
          2685,
          2571,
          2496,
          2424,
          2337,
          2352,
          2307,
          2316
         ]
        },
        {
         "line": {
          "color": "#d62728"
         },
         "mode": "lines",
         "name": "New Brunswick",
         "type": "scatter",
         "x": [
          2003,
          2004,
          2005,
          2006,
          2007,
          2008,
          2009,
          2010,
          2011,
          2012,
          2013,
          2014,
          2015,
          2016,
          2017
         ],
         "y": [
          2112,
          2064,
          2028,
          1986,
          1995,
          1998,
          2031,
          2004,
          1950,
          1899,
          1815,
          1629,
          1596,
          1617,
          1749
         ]
        },
        {
         "line": {
          "color": "#9467bd"
         },
         "mode": "lines",
         "name": "Quebec",
         "type": "scatter",
         "x": [
          2003,
          2004,
          2005,
          2006,
          2007,
          2008,
          2009,
          2010,
          2011,
          2012,
          2013,
          2014,
          2015,
          2016,
          2017
         ],
         "y": [
          27975,
          27429,
          26880,
          26469,
          27051,
          26790,
          26439,
          26361,
          25878,
          25386,
          25245,
          25011,
          24879,
          24831,
          25023
         ]
        },
        {
         "line": {
          "color": "#8c564b"
         },
         "mode": "lines",
         "name": "Ontario",
         "type": "scatter",
         "x": [
          2003,
          2004,
          2005,
          2006,
          2007,
          2008,
          2009,
          2010,
          2011,
          2012,
          2013,
          2014,
          2015,
          2016,
          2017
         ],
         "y": [
          38127,
          37356,
          37722,
          39057,
          41931,
          42594,
          42705,
          42651,
          42684,
          42777,
          42342,
          41973,
          41826,
          41325,
          41319
         ]
        },
        {
         "line": {
          "color": "#e377c2"
         },
         "mode": "lines",
         "name": "Manitoba",
         "type": "scatter",
         "x": [
          2003,
          2004,
          2005,
          2006,
          2007,
          2008,
          2009,
          2010,
          2011,
          2012,
          2013,
          2014,
          2015,
          2016,
          2017
         ],
         "y": [
          4443,
          4497,
          4389,
          4308,
          4236,
          4230,
          4176,
          4182,
          4194,
          4008,
          4104,
          4125,
          4128,
          4161,
          4212
         ]
        },
        {
         "line": {
          "color": "#17becf"
         },
         "mode": "lines",
         "name": "Saskatchewan",
         "type": "scatter",
         "x": [
          2003,
          2004,
          2005,
          2006,
          2007,
          2008,
          2009,
          2010,
          2011,
          2012,
          2013,
          2014,
          2015,
          2016,
          2017
         ],
         "y": [
          3804,
          3747,
          3621,
          3573,
          3555,
          3447,
          3135,
          3168,
          3168,
          3204,
          3216,
          3216,
          3312,
          3234,
          3264
         ]
        },
        {
         "line": {
          "color": "#210240"
         },
         "mode": "lines",
         "name": "Alberta",
         "type": "scatter",
         "x": [
          2003,
          2004,
          2005,
          2006,
          2007,
          2008,
          2009,
          2010,
          2011,
          2012,
          2013,
          2014,
          2015,
          2016,
          2017
         ],
         "y": [
          10683,
          11094,
          11556,
          11619,
          11457,
          11073,
          11397,
          12228,
          11934,
          11754,
          11544,
          11514,
          11601,
          11949,
          12012
         ]
        },
        {
         "line": {
          "color": "#21DC49"
         },
         "mode": "lines",
         "name": "British Columbia",
         "type": "scatter",
         "x": [
          2003,
          2004,
          2005,
          2006,
          2007,
          2008,
          2009,
          2010,
          2011,
          2012,
          2013,
          2014,
          2015,
          2016,
          2017
         ],
         "y": [
          12516,
          12114,
          11832,
          11763,
          11616,
          11403,
          11205,
          10965,
          10683,
          10554,
          10284,
          10080,
          9990,
          9927,
          9897
         ]
        },
        {
         "line": {
          "color": "#3F5063"
         },
         "mode": "lines",
         "name": "Yukon",
         "type": "scatter",
         "x": [
          2012,
          2013,
          2014,
          2015,
          2016,
          2017
         ],
         "y": [
          384,
          267,
          276,
          270,
          255,
          258
         ]
        },
        {
         "line": {
          "color": "#6C7075"
         },
         "mode": "lines",
         "name": "Northwest Territories",
         "type": "scatter",
         "x": [],
         "y": []
        },
        {
         "line": {
          "color": "#F4BC1A"
         },
         "mode": "lines",
         "name": "Nunavut",
         "type": "scatter",
         "x": [
          2011,
          2012,
          2013,
          2014,
          2015,
          2016,
          2017
         ],
         "y": [
          null,
          null,
          null,
          null,
          243,
          237,
          273
         ]
        },
        {
         "line": {
          "color": "#1f77b4"
         },
         "mode": "lines",
         "name": "Newfoundland and Labrador",
         "type": "scatter",
         "x": [
          2003,
          2004,
          2005,
          2006,
          2007,
          2008,
          2009,
          2010,
          2011,
          2012,
          2013,
          2014,
          2015,
          2016,
          2017
         ],
         "y": [
          5196,
          5217,
          5199,
          4998,
          5121,
          5292,
          5388,
          5535,
          5538,
          5592,
          5544,
          5499,
          5799,
          5154,
          5388
         ]
        },
        {
         "line": {
          "color": "#ff7f0e"
         },
         "mode": "lines",
         "name": "Prince Edward Island",
         "type": "scatter",
         "x": [
          2003,
          2004,
          2005,
          2006,
          2007,
          2008,
          2009,
          2010,
          2011,
          2012,
          2013,
          2014,
          2015,
          2016,
          2017
         ],
         "y": [
          1092,
          1086,
          1092,
          1086,
          1095,
          1113,
          1170,
          1185,
          1290,
          1293,
          1314,
          1257,
          1257,
          1275,
          1206
         ]
        },
        {
         "line": {
          "color": "#2ca02c"
         },
         "mode": "lines",
         "name": "Nova Scotia",
         "type": "scatter",
         "x": [
          2003,
          2004,
          2005,
          2006,
          2007,
          2008,
          2009,
          2010,
          2011,
          2012,
          2013,
          2014,
          2015,
          2016,
          2017
         ],
         "y": [
          6498,
          6579,
          6660,
          6837,
          7125,
          7197,
          7317,
          7383,
          7170,
          7005,
          6783,
          6579,
          6798,
          6723,
          7017
         ]
        },
        {
         "line": {
          "color": "#d62728"
         },
         "mode": "lines",
         "name": "New Brunswick",
         "type": "scatter",
         "x": [
          2003,
          2004,
          2005,
          2006,
          2007,
          2008,
          2009,
          2010,
          2011,
          2012,
          2013,
          2014,
          2015,
          2016,
          2017
         ],
         "y": [
          5304,
          5406,
          5484,
          5526,
          5634,
          5901,
          6045,
          5994,
          5856,
          5787,
          5637,
          5274,
          5244,
          5403,
          5766
         ]
        },
        {
         "line": {
          "color": "#9467bd"
         },
         "mode": "lines",
         "name": "Quebec",
         "type": "scatter",
         "x": [
          2003,
          2004,
          2005,
          2006,
          2007,
          2008,
          2009,
          2010,
          2011,
          2012,
          2013,
          2014,
          2015,
          2016,
          2017
         ],
         "y": [
          65106,
          65931,
          66321,
          66804,
          69078,
          69432,
          69705,
          70566,
          71154,
          71763,
          72375,
          73101,
          73434,
          74412,
          75789
         ]
        },
        {
         "line": {
          "color": "#8c564b"
         },
         "mode": "lines",
         "name": "Ontario",
         "type": "scatter",
         "x": [
          2003,
          2004,
          2005,
          2006,
          2007,
          2008,
          2009,
          2010,
          2011,
          2012,
          2013,
          2014,
          2015,
          2016,
          2017
         ],
         "y": [
          92694,
          92556,
          94953,
          98784,
          107784,
          112368,
          114600,
          115521,
          117771,
          118746,
          120969,
          123729,
          127488,
          126720,
          128253
         ]
        },
        {
         "line": {
          "color": "#e377c2"
         },
         "mode": "lines",
         "name": "Manitoba",
         "type": "scatter",
         "x": [
          2003,
          2004,
          2005,
          2006,
          2007,
          2008,
          2009,
          2010,
          2011,
          2012,
          2013,
          2014,
          2015,
          2016,
          2017
         ],
         "y": [
          9699,
          9948,
          9888,
          9900,
          10011,
          10116,
          10146,
          10149,
          10239,
          9057,
          9375,
          9537,
          9579,
          9744,
          9885
         ]
        },
        {
         "line": {
          "color": "#17becf"
         },
         "mode": "lines",
         "name": "Saskatchewan",
         "type": "scatter",
         "x": [
          2003,
          2004,
          2005,
          2006,
          2007,
          2008,
          2009,
          2010,
          2011,
          2012,
          2013,
          2014,
          2015,
          2016,
          2017
         ],
         "y": [
          8043,
          8088,
          8064,
          8109,
          8226,
          8217,
          7902,
          7998,
          8229,
          8490,
          8556,
          8703,
          8901,
          8829,
          8841
         ]
        },
        {
         "line": {
          "color": "#210240"
         },
         "mode": "lines",
         "name": "Alberta",
         "type": "scatter",
         "x": [
          2003,
          2004,
          2005,
          2006,
          2007,
          2008,
          2009,
          2010,
          2011,
          2012,
          2013,
          2014,
          2015,
          2016,
          2017
         ],
         "y": [
          24066,
          26238,
          27807,
          28620,
          29034,
          29385,
          31011,
          33276,
          32712,
          32748,
          32523,
          32715,
          33357,
          34545,
          35118
         ]
        },
        {
         "line": {
          "color": "#21DC49"
         },
         "mode": "lines",
         "name": "British Columbia",
         "type": "scatter",
         "x": [
          2003,
          2004,
          2005,
          2006,
          2007,
          2008,
          2009,
          2010,
          2011,
          2012,
          2013,
          2014,
          2015,
          2016,
          2017
         ],
         "y": [
          24636,
          24447,
          24498,
          25122,
          25533,
          25713,
          25713,
          25407,
          25275,
          25551,
          25734,
          25533,
          25518,
          25830,
          26211
         ]
        },
        {
         "line": {
          "color": "#3F5063"
         },
         "mode": "lines",
         "name": "Yukon",
         "type": "scatter",
         "x": [
          2012,
          2013,
          2014,
          2015,
          2016,
          2017
         ],
         "y": [
          162,
          615,
          630,
          672,
          618,
          621
         ]
        },
        {
         "line": {
          "color": "#6C7075"
         },
         "mode": "lines",
         "name": "Northwest Territories",
         "type": "scatter",
         "x": [],
         "y": []
        },
        {
         "line": {
          "color": "#F4BC1A"
         },
         "mode": "lines",
         "name": "Nunavut",
         "type": "scatter",
         "x": [
          2011,
          2012,
          2013,
          2014,
          2015,
          2016,
          2017
         ],
         "y": [
          null,
          null,
          null,
          null,
          537,
          525,
          594
         ]
        }
       ],
       "layout": {
        "autosize": true,
        "showlegend": true,
        "template": {
         "data": {
          "bar": [
           {
            "error_x": {
             "color": "#2a3f5f"
            },
            "error_y": {
             "color": "#2a3f5f"
            },
            "marker": {
             "line": {
              "color": "#E5ECF6",
              "width": 0.5
             },
             "pattern": {
              "fillmode": "overlay",
              "size": 10,
              "solidity": 0.2
             }
            },
            "type": "bar"
           }
          ],
          "barpolar": [
           {
            "marker": {
             "line": {
              "color": "#E5ECF6",
              "width": 0.5
             },
             "pattern": {
              "fillmode": "overlay",
              "size": 10,
              "solidity": 0.2
             }
            },
            "type": "barpolar"
           }
          ],
          "carpet": [
           {
            "aaxis": {
             "endlinecolor": "#2a3f5f",
             "gridcolor": "white",
             "linecolor": "white",
             "minorgridcolor": "white",
             "startlinecolor": "#2a3f5f"
            },
            "baxis": {
             "endlinecolor": "#2a3f5f",
             "gridcolor": "white",
             "linecolor": "white",
             "minorgridcolor": "white",
             "startlinecolor": "#2a3f5f"
            },
            "type": "carpet"
           }
          ],
          "choropleth": [
           {
            "colorbar": {
             "outlinewidth": 0,
             "ticks": ""
            },
            "type": "choropleth"
           }
          ],
          "contour": [
           {
            "colorbar": {
             "outlinewidth": 0,
             "ticks": ""
            },
            "colorscale": [
             [
              0,
              "#0d0887"
             ],
             [
              0.1111111111111111,
              "#46039f"
             ],
             [
              0.2222222222222222,
              "#7201a8"
             ],
             [
              0.3333333333333333,
              "#9c179e"
             ],
             [
              0.4444444444444444,
              "#bd3786"
             ],
             [
              0.5555555555555556,
              "#d8576b"
             ],
             [
              0.6666666666666666,
              "#ed7953"
             ],
             [
              0.7777777777777778,
              "#fb9f3a"
             ],
             [
              0.8888888888888888,
              "#fdca26"
             ],
             [
              1,
              "#f0f921"
             ]
            ],
            "type": "contour"
           }
          ],
          "contourcarpet": [
           {
            "colorbar": {
             "outlinewidth": 0,
             "ticks": ""
            },
            "type": "contourcarpet"
           }
          ],
          "heatmap": [
           {
            "colorbar": {
             "outlinewidth": 0,
             "ticks": ""
            },
            "colorscale": [
             [
              0,
              "#0d0887"
             ],
             [
              0.1111111111111111,
              "#46039f"
             ],
             [
              0.2222222222222222,
              "#7201a8"
             ],
             [
              0.3333333333333333,
              "#9c179e"
             ],
             [
              0.4444444444444444,
              "#bd3786"
             ],
             [
              0.5555555555555556,
              "#d8576b"
             ],
             [
              0.6666666666666666,
              "#ed7953"
             ],
             [
              0.7777777777777778,
              "#fb9f3a"
             ],
             [
              0.8888888888888888,
              "#fdca26"
             ],
             [
              1,
              "#f0f921"
             ]
            ],
            "type": "heatmap"
           }
          ],
          "heatmapgl": [
           {
            "colorbar": {
             "outlinewidth": 0,
             "ticks": ""
            },
            "colorscale": [
             [
              0,
              "#0d0887"
             ],
             [
              0.1111111111111111,
              "#46039f"
             ],
             [
              0.2222222222222222,
              "#7201a8"
             ],
             [
              0.3333333333333333,
              "#9c179e"
             ],
             [
              0.4444444444444444,
              "#bd3786"
             ],
             [
              0.5555555555555556,
              "#d8576b"
             ],
             [
              0.6666666666666666,
              "#ed7953"
             ],
             [
              0.7777777777777778,
              "#fb9f3a"
             ],
             [
              0.8888888888888888,
              "#fdca26"
             ],
             [
              1,
              "#f0f921"
             ]
            ],
            "type": "heatmapgl"
           }
          ],
          "histogram": [
           {
            "marker": {
             "pattern": {
              "fillmode": "overlay",
              "size": 10,
              "solidity": 0.2
             }
            },
            "type": "histogram"
           }
          ],
          "histogram2d": [
           {
            "colorbar": {
             "outlinewidth": 0,
             "ticks": ""
            },
            "colorscale": [
             [
              0,
              "#0d0887"
             ],
             [
              0.1111111111111111,
              "#46039f"
             ],
             [
              0.2222222222222222,
              "#7201a8"
             ],
             [
              0.3333333333333333,
              "#9c179e"
             ],
             [
              0.4444444444444444,
              "#bd3786"
             ],
             [
              0.5555555555555556,
              "#d8576b"
             ],
             [
              0.6666666666666666,
              "#ed7953"
             ],
             [
              0.7777777777777778,
              "#fb9f3a"
             ],
             [
              0.8888888888888888,
              "#fdca26"
             ],
             [
              1,
              "#f0f921"
             ]
            ],
            "type": "histogram2d"
           }
          ],
          "histogram2dcontour": [
           {
            "colorbar": {
             "outlinewidth": 0,
             "ticks": ""
            },
            "colorscale": [
             [
              0,
              "#0d0887"
             ],
             [
              0.1111111111111111,
              "#46039f"
             ],
             [
              0.2222222222222222,
              "#7201a8"
             ],
             [
              0.3333333333333333,
              "#9c179e"
             ],
             [
              0.4444444444444444,
              "#bd3786"
             ],
             [
              0.5555555555555556,
              "#d8576b"
             ],
             [
              0.6666666666666666,
              "#ed7953"
             ],
             [
              0.7777777777777778,
              "#fb9f3a"
             ],
             [
              0.8888888888888888,
              "#fdca26"
             ],
             [
              1,
              "#f0f921"
             ]
            ],
            "type": "histogram2dcontour"
           }
          ],
          "mesh3d": [
           {
            "colorbar": {
             "outlinewidth": 0,
             "ticks": ""
            },
            "type": "mesh3d"
           }
          ],
          "parcoords": [
           {
            "line": {
             "colorbar": {
              "outlinewidth": 0,
              "ticks": ""
             }
            },
            "type": "parcoords"
           }
          ],
          "pie": [
           {
            "automargin": true,
            "type": "pie"
           }
          ],
          "scatter": [
           {
            "fillpattern": {
             "fillmode": "overlay",
             "size": 10,
             "solidity": 0.2
            },
            "type": "scatter"
           }
          ],
          "scatter3d": [
           {
            "line": {
             "colorbar": {
              "outlinewidth": 0,
              "ticks": ""
             }
            },
            "marker": {
             "colorbar": {
              "outlinewidth": 0,
              "ticks": ""
             }
            },
            "type": "scatter3d"
           }
          ],
          "scattercarpet": [
           {
            "marker": {
             "colorbar": {
              "outlinewidth": 0,
              "ticks": ""
             }
            },
            "type": "scattercarpet"
           }
          ],
          "scattergeo": [
           {
            "marker": {
             "colorbar": {
              "outlinewidth": 0,
              "ticks": ""
             }
            },
            "type": "scattergeo"
           }
          ],
          "scattergl": [
           {
            "marker": {
             "colorbar": {
              "outlinewidth": 0,
              "ticks": ""
             }
            },
            "type": "scattergl"
           }
          ],
          "scattermapbox": [
           {
            "marker": {
             "colorbar": {
              "outlinewidth": 0,
              "ticks": ""
             }
            },
            "type": "scattermapbox"
           }
          ],
          "scatterpolar": [
           {
            "marker": {
             "colorbar": {
              "outlinewidth": 0,
              "ticks": ""
             }
            },
            "type": "scatterpolar"
           }
          ],
          "scatterpolargl": [
           {
            "marker": {
             "colorbar": {
              "outlinewidth": 0,
              "ticks": ""
             }
            },
            "type": "scatterpolargl"
           }
          ],
          "scatterternary": [
           {
            "marker": {
             "colorbar": {
              "outlinewidth": 0,
              "ticks": ""
             }
            },
            "type": "scatterternary"
           }
          ],
          "surface": [
           {
            "colorbar": {
             "outlinewidth": 0,
             "ticks": ""
            },
            "colorscale": [
             [
              0,
              "#0d0887"
             ],
             [
              0.1111111111111111,
              "#46039f"
             ],
             [
              0.2222222222222222,
              "#7201a8"
             ],
             [
              0.3333333333333333,
              "#9c179e"
             ],
             [
              0.4444444444444444,
              "#bd3786"
             ],
             [
              0.5555555555555556,
              "#d8576b"
             ],
             [
              0.6666666666666666,
              "#ed7953"
             ],
             [
              0.7777777777777778,
              "#fb9f3a"
             ],
             [
              0.8888888888888888,
              "#fdca26"
             ],
             [
              1,
              "#f0f921"
             ]
            ],
            "type": "surface"
           }
          ],
          "table": [
           {
            "cells": {
             "fill": {
              "color": "#EBF0F8"
             },
             "line": {
              "color": "white"
             }
            },
            "header": {
             "fill": {
              "color": "#C8D4E3"
             },
             "line": {
              "color": "white"
             }
            },
            "type": "table"
           }
          ]
         },
         "layout": {
          "annotationdefaults": {
           "arrowcolor": "#2a3f5f",
           "arrowhead": 0,
           "arrowwidth": 1
          },
          "autotypenumbers": "strict",
          "coloraxis": {
           "colorbar": {
            "outlinewidth": 0,
            "ticks": ""
           }
          },
          "colorscale": {
           "diverging": [
            [
             0,
             "#8e0152"
            ],
            [
             0.1,
             "#c51b7d"
            ],
            [
             0.2,
             "#de77ae"
            ],
            [
             0.3,
             "#f1b6da"
            ],
            [
             0.4,
             "#fde0ef"
            ],
            [
             0.5,
             "#f7f7f7"
            ],
            [
             0.6,
             "#e6f5d0"
            ],
            [
             0.7,
             "#b8e186"
            ],
            [
             0.8,
             "#7fbc41"
            ],
            [
             0.9,
             "#4d9221"
            ],
            [
             1,
             "#276419"
            ]
           ],
           "sequential": [
            [
             0,
             "#0d0887"
            ],
            [
             0.1111111111111111,
             "#46039f"
            ],
            [
             0.2222222222222222,
             "#7201a8"
            ],
            [
             0.3333333333333333,
             "#9c179e"
            ],
            [
             0.4444444444444444,
             "#bd3786"
            ],
            [
             0.5555555555555556,
             "#d8576b"
            ],
            [
             0.6666666666666666,
             "#ed7953"
            ],
            [
             0.7777777777777778,
             "#fb9f3a"
            ],
            [
             0.8888888888888888,
             "#fdca26"
            ],
            [
             1,
             "#f0f921"
            ]
           ],
           "sequentialminus": [
            [
             0,
             "#0d0887"
            ],
            [
             0.1111111111111111,
             "#46039f"
            ],
            [
             0.2222222222222222,
             "#7201a8"
            ],
            [
             0.3333333333333333,
             "#9c179e"
            ],
            [
             0.4444444444444444,
             "#bd3786"
            ],
            [
             0.5555555555555556,
             "#d8576b"
            ],
            [
             0.6666666666666666,
             "#ed7953"
            ],
            [
             0.7777777777777778,
             "#fb9f3a"
            ],
            [
             0.8888888888888888,
             "#fdca26"
            ],
            [
             1,
             "#f0f921"
            ]
           ]
          },
          "colorway": [
           "#636efa",
           "#EF553B",
           "#00cc96",
           "#ab63fa",
           "#FFA15A",
           "#19d3f3",
           "#FF6692",
           "#B6E880",
           "#FF97FF",
           "#FECB52"
          ],
          "font": {
           "color": "#2a3f5f"
          },
          "geo": {
           "bgcolor": "white",
           "lakecolor": "white",
           "landcolor": "#E5ECF6",
           "showlakes": true,
           "showland": true,
           "subunitcolor": "white"
          },
          "hoverlabel": {
           "align": "left"
          },
          "hovermode": "closest",
          "mapbox": {
           "style": "light"
          },
          "paper_bgcolor": "white",
          "plot_bgcolor": "#E5ECF6",
          "polar": {
           "angularaxis": {
            "gridcolor": "white",
            "linecolor": "white",
            "ticks": ""
           },
           "bgcolor": "#E5ECF6",
           "radialaxis": {
            "gridcolor": "white",
            "linecolor": "white",
            "ticks": ""
           }
          },
          "scene": {
           "xaxis": {
            "backgroundcolor": "#E5ECF6",
            "gridcolor": "white",
            "gridwidth": 2,
            "linecolor": "white",
            "showbackground": true,
            "ticks": "",
            "zerolinecolor": "white"
           },
           "yaxis": {
            "backgroundcolor": "#E5ECF6",
            "gridcolor": "white",
            "gridwidth": 2,
            "linecolor": "white",
            "showbackground": true,
            "ticks": "",
            "zerolinecolor": "white"
           },
           "zaxis": {
            "backgroundcolor": "#E5ECF6",
            "gridcolor": "white",
            "gridwidth": 2,
            "linecolor": "white",
            "showbackground": true,
            "ticks": "",
            "zerolinecolor": "white"
           }
          },
          "shapedefaults": {
           "line": {
            "color": "#2a3f5f"
           }
          },
          "ternary": {
           "aaxis": {
            "gridcolor": "white",
            "linecolor": "white",
            "ticks": ""
           },
           "baxis": {
            "gridcolor": "white",
            "linecolor": "white",
            "ticks": ""
           },
           "bgcolor": "#E5ECF6",
           "caxis": {
            "gridcolor": "white",
            "linecolor": "white",
            "ticks": ""
           }
          },
          "title": {
           "x": 0.05
          },
          "xaxis": {
           "automargin": true,
           "gridcolor": "white",
           "linecolor": "white",
           "ticks": "",
           "title": {
            "standoff": 15
           },
           "zerolinecolor": "white",
           "zerolinewidth": 2
          },
          "yaxis": {
           "automargin": true,
           "gridcolor": "white",
           "linecolor": "white",
           "ticks": "",
           "title": {
            "standoff": 15
           },
           "zerolinecolor": "white",
           "zerolinewidth": 2
          }
         }
        },
        "title": {
         "text": "Number of Full-Time and Part-Time Educators in Canadian Provinces",
         "x": 0.5
        },
        "updatemenus": [
         {
          "active": 0,
          "buttons": [
           {
            "args": [
             {
              "visible": [
               [
                true
               ],
               "legendonly",
               "legendonly",
               "legendonly",
               "legendonly",
               "legendonly",
               "legendonly",
               "legendonly",
               "legendonly",
               "legendonly",
               "legendonly",
               "legendonly",
               "legendonly",
               false,
               false,
               false,
               false,
               false,
               false,
               false,
               false,
               false,
               false,
               false,
               false,
               false,
               false,
               false,
               false,
               false,
               false,
               false,
               false,
               false,
               false,
               false,
               false,
               false,
               false
              ]
             }
            ],
            "label": "Both sexes",
            "method": "update"
           },
           {
            "args": [
             {
              "visible": [
               false,
               false,
               false,
               false,
               false,
               false,
               false,
               false,
               false,
               false,
               false,
               false,
               false,
               [
                true
               ],
               "legendonly",
               "legendonly",
               "legendonly",
               "legendonly",
               "legendonly",
               "legendonly",
               "legendonly",
               "legendonly",
               "legendonly",
               "legendonly",
               "legendonly",
               "legendonly",
               false,
               false,
               false,
               false,
               false,
               false,
               false,
               false,
               false,
               false,
               false,
               false,
               false
              ]
             }
            ],
            "label": "Males",
            "method": "update"
           },
           {
            "args": [
             {
              "visible": [
               false,
               false,
               false,
               false,
               false,
               false,
               false,
               false,
               false,
               false,
               false,
               false,
               false,
               false,
               false,
               false,
               false,
               false,
               false,
               false,
               false,
               false,
               false,
               false,
               false,
               false,
               [
                true
               ],
               "legendonly",
               "legendonly",
               "legendonly",
               "legendonly",
               "legendonly",
               "legendonly",
               "legendonly",
               "legendonly",
               "legendonly",
               "legendonly",
               "legendonly",
               "legendonly"
              ]
             }
            ],
            "label": "Females",
            "method": "update"
           }
          ],
          "direction": "down"
         }
        ],
        "xaxis": {
         "autorange": true,
         "range": [
          2003,
          2017
         ],
         "type": "linear"
        },
        "yaxis": {
         "autorange": true,
         "range": [
          -9249.666666666666,
          178983.66666666666
         ],
         "type": "linear"
        }
       }
      },
      "image/png": "[encoded data removed]",
      "text/html": [
       "<div>                            <div id=\"1eef3b04-8e8c-494c-bc39-29b2d65cbacb\" class=\"plotly-graph-div\" style=\"height:500px; width:100%;\"></div>            <script type=\"text/javascript\">                require([\"plotly\"], function(Plotly) {                    window.PLOTLYENV=window.PLOTLYENV || {};                                    if (document.getElementById(\"1eef3b04-8e8c-494c-bc39-29b2d65cbacb\")) {                    Plotly.newPlot(                        \"1eef3b04-8e8c-494c-bc39-29b2d65cbacb\",                        [{\"line\":{\"color\":\"#1f77b4\"},\"mode\":\"lines\",\"name\":\"Newfoundland and Labrador\",\"x\":[2003,2004,2005,2006,2007,2008,2009,2010,2011,2012,2013,2014,2015,2016,2017],\"y\":[8034.0,7920.0,7737.0,7320.0,7401.0,7485.0,7542.0,7722.0,7635.0,7605.0,7584.0,7380.0,7650.0,6948.0,7161.0],\"type\":\"scatter\"},{\"line\":{\"color\":\"#ff7f0e\"},\"mode\":\"lines\",\"name\":\"Prince Edward Island\",\"x\":[2003,2004,2005,2006,2007,2008,2009,2010,2011,2012,2013,2014,2015,2016,2017],\"y\":[1602.0,1587.0,1587.0,1539.0,1548.0,1581.0,1638.0,1644.0,1749.0,1764.0,1767.0,1692.0,1686.0,1683.0,1611.0],\"type\":\"scatter\"},{\"line\":{\"color\":\"#2ca02c\"},\"mode\":\"lines\",\"name\":\"Nova Scotia\",\"x\":[2003,2004,2005,2006,2007,2008,2009,2010,2011,2012,2013,2014,2015,2016,2017],\"y\":[9591.0,9615.0,9579.0,9708.0,9918.0,9972.0,10062.0,10071.0,9744.0,9501.0,9207.0,8913.0,9150.0,9030.0,9333.0],\"type\":\"scatter\"},{\"line\":{\"color\":\"#d62728\"},\"mode\":\"lines\",\"name\":\"New Brunswick\",\"x\":[2003,2004,2005,2006,2007,2008,2009,2010,2011,2012,2013,2014,2015,2016,2017],\"y\":[7419.0,7473.0,7509.0,7509.0,7629.0,7899.0,8079.0,7998.0,7803.0,7683.0,7449.0,6900.0,6843.0,7023.0,7515.0],\"type\":\"scatter\"},{\"line\":{\"color\":\"#9467bd\"},\"mode\":\"lines\",\"name\":\"Quebec\",\"x\":[2003,2004,2005,2006,2007,2008,2009,2010,2011,2012,2013,2014,2015,2016,2017],\"y\":[93084.0,93360.0,93201.0,93270.0,96132.0,96222.0,96144.0,96930.0,97032.0,97149.0,97617.0,98112.0,98313.0,99243.0,100812.0],\"type\":\"scatter\"},{\"line\":{\"color\":\"#8c564b\"},\"mode\":\"lines\",\"name\":\"Ontario\",\"x\":[2003,2004,2005,2006,2007,2008,2009,2010,2011,2012,2013,2014,2015,2016,2017],\"y\":[130824.0,129912.0,132678.0,137889.0,149712.0,154962.0,157302.0,158172.0,160455.0,161523.0,163311.0,165702.0,169314.0,168045.0,169572.0],\"type\":\"scatter\"},{\"line\":{\"color\":\"#e377c2\"},\"mode\":\"lines\",\"name\":\"Manitoba\",\"x\":[2003,2004,2005,2006,2007,2008,2009,2010,2011,2012,2013,2014,2015,2016,2017],\"y\":[14139.0,14445.0,14280.0,14211.0,14250.0,14346.0,14322.0,14334.0,14433.0,13065.0,13479.0,13662.0,13707.0,13908.0,14097.0],\"type\":\"scatter\"},{\"line\":{\"color\":\"#17becf\"},\"mode\":\"lines\",\"name\":\"Saskatchewan\",\"x\":[2003,2004,2005,2006,2007,2008,2009,2010,2011,2012,2013,2014,2015,2016,2017],\"y\":[12348.0,12378.0,12261.0,12171.0,12444.0,12252.0,11694.0,11904.0,12099.0,12426.0,12564.0,12726.0,13044.0,12894.0,12918.0],\"type\":\"scatter\"},{\"line\":{\"color\":\"#210240\"},\"mode\":\"lines\",\"name\":\"Alberta\",\"x\":[2003,2004,2005,2006,2007,2008,2009,2010,2011,2012,2013,2014,2015,2016,2017],\"y\":[34761.0,37350.0,39390.0,40293.0,40557.0,40542.0,42516.0,45627.0,44781.0,44643.0,44211.0,44391.0,45123.0,46662.0,47289.0],\"type\":\"scatter\"},{\"line\":{\"color\":\"#21DC49\"},\"mode\":\"lines\",\"name\":\"British Columbia\",\"x\":[2003,2004,2005,2006,2007,2008,2009,2010,2011,2012,2013,2014,2015,2016,2017],\"y\":[37149.0,36564.0,36330.0,36888.0,37149.0,37119.0,36921.0,36372.0,35958.0,36108.0,36021.0,35613.0,35505.0,35757.0,36111.0],\"type\":\"scatter\"},{\"line\":{\"color\":\"#3F5063\"},\"mode\":\"lines\",\"name\":\"Yukon\",\"x\":[2003,2004,2005,2006,2007,2008,2009,2010,2011,2012,2013,2014,2015,2016,2017],\"y\":[492.0,489.0,495.0,495.0,510.0,516.0,552.0,570.0,513.0,546.0,879.0,903.0,945.0,873.0,879.0],\"type\":\"scatter\"},{\"line\":{\"color\":\"#6C7075\"},\"mode\":\"lines\",\"name\":\"Northwest Territories\",\"x\":[2003,2004,2005,2006,2007,2008,2009,2010,2011,2012,2013,2014,2015,2016,2017],\"y\":[645.0,681.0,678.0,669.0,672.0,714.0,720.0,705.0,687.0,630.0,672.0,672.0,666.0,654.0,645.0],\"type\":\"scatter\"},{\"line\":{\"color\":\"#F4BC1A\"},\"mode\":\"lines\",\"name\":\"Nunavut\",\"x\":[2003,2004,2005,2006,2007,2008,2009,2010,2011,2012,2013,2014,2015,2016,2017],\"y\":[537.0,528.0,624.0,711.0,702.0,705.0,654.0,651.0,666.0,666.0,801.0,573.0,783.0,762.0,864.0],\"type\":\"scatter\"},{\"line\":{\"color\":\"#1f77b4\"},\"mode\":\"lines\",\"name\":\"Newfoundland and Labrador\",\"x\":[2003,2004,2005,2006,2007,2008,2009,2010,2011,2012,2013,2014,2015,2016,2017],\"y\":[2838.0,2700.0,2538.0,2322.0,2280.0,2190.0,2154.0,2187.0,2100.0,2016.0,2040.0,1881.0,1851.0,1794.0,1770.0],\"type\":\"scatter\"},{\"line\":{\"color\":\"#ff7f0e\"},\"mode\":\"lines\",\"name\":\"Prince Edward Island\",\"x\":[2003,2004,2005,2006,2007,2008,2009,2010,2011,2012,2013,2014,2015,2016,2017],\"y\":[507.0,507.0,495.0,456.0,453.0,468.0,468.0,459.0,459.0,471.0,453.0,435.0,429.0,411.0,402.0],\"type\":\"scatter\"},{\"line\":{\"color\":\"#2ca02c\"},\"mode\":\"lines\",\"name\":\"Nova Scotia\",\"x\":[2003,2004,2005,2006,2007,2008,2009,2010,2011,2012,2013,2014,2015,2016,2017],\"y\":[3096.0,3033.0,2922.0,2874.0,2793.0,2778.0,2748.0,2685.0,2571.0,2496.0,2424.0,2337.0,2352.0,2307.0,2316.0],\"type\":\"scatter\"},{\"line\":{\"color\":\"#d62728\"},\"mode\":\"lines\",\"name\":\"New Brunswick\",\"x\":[2003,2004,2005,2006,2007,2008,2009,2010,2011,2012,2013,2014,2015,2016,2017],\"y\":[2112.0,2064.0,2028.0,1986.0,1995.0,1998.0,2031.0,2004.0,1950.0,1899.0,1815.0,1629.0,1596.0,1617.0,1749.0],\"type\":\"scatter\"},{\"line\":{\"color\":\"#9467bd\"},\"mode\":\"lines\",\"name\":\"Quebec\",\"x\":[2003,2004,2005,2006,2007,2008,2009,2010,2011,2012,2013,2014,2015,2016,2017],\"y\":[27975.0,27429.0,26880.0,26469.0,27051.0,26790.0,26439.0,26361.0,25878.0,25386.0,25245.0,25011.0,24879.0,24831.0,25023.0],\"type\":\"scatter\"},{\"line\":{\"color\":\"#8c564b\"},\"mode\":\"lines\",\"name\":\"Ontario\",\"x\":[2003,2004,2005,2006,2007,2008,2009,2010,2011,2012,2013,2014,2015,2016,2017],\"y\":[38127.0,37356.0,37722.0,39057.0,41931.0,42594.0,42705.0,42651.0,42684.0,42777.0,42342.0,41973.0,41826.0,41325.0,41319.0],\"type\":\"scatter\"},{\"line\":{\"color\":\"#e377c2\"},\"mode\":\"lines\",\"name\":\"Manitoba\",\"x\":[2003,2004,2005,2006,2007,2008,2009,2010,2011,2012,2013,2014,2015,2016,2017],\"y\":[4443.0,4497.0,4389.0,4308.0,4236.0,4230.0,4176.0,4182.0,4194.0,4008.0,4104.0,4125.0,4128.0,4161.0,4212.0],\"type\":\"scatter\"},{\"line\":{\"color\":\"#17becf\"},\"mode\":\"lines\",\"name\":\"Saskatchewan\",\"x\":[2003,2004,2005,2006,2007,2008,2009,2010,2011,2012,2013,2014,2015,2016,2017],\"y\":[3804.0,3747.0,3621.0,3573.0,3555.0,3447.0,3135.0,3168.0,3168.0,3204.0,3216.0,3216.0,3312.0,3234.0,3264.0],\"type\":\"scatter\"},{\"line\":{\"color\":\"#210240\"},\"mode\":\"lines\",\"name\":\"Alberta\",\"x\":[2003,2004,2005,2006,2007,2008,2009,2010,2011,2012,2013,2014,2015,2016,2017],\"y\":[10683.0,11094.0,11556.0,11619.0,11457.0,11073.0,11397.0,12228.0,11934.0,11754.0,11544.0,11514.0,11601.0,11949.0,12012.0],\"type\":\"scatter\"},{\"line\":{\"color\":\"#21DC49\"},\"mode\":\"lines\",\"name\":\"British Columbia\",\"x\":[2003,2004,2005,2006,2007,2008,2009,2010,2011,2012,2013,2014,2015,2016,2017],\"y\":[12516.0,12114.0,11832.0,11763.0,11616.0,11403.0,11205.0,10965.0,10683.0,10554.0,10284.0,10080.0,9990.0,9927.0,9897.0],\"type\":\"scatter\"},{\"line\":{\"color\":\"#3F5063\"},\"mode\":\"lines\",\"name\":\"Yukon\",\"x\":[2012,2013,2014,2015,2016,2017],\"y\":[384.0,267.0,276.0,270.0,255.0,258.0],\"type\":\"scatter\"},{\"line\":{\"color\":\"#6C7075\"},\"mode\":\"lines\",\"name\":\"Northwest Territories\",\"x\":[],\"y\":[],\"type\":\"scatter\"},{\"line\":{\"color\":\"#F4BC1A\"},\"mode\":\"lines\",\"name\":\"Nunavut\",\"x\":[2011,2012,2013,2014,2015,2016,2017],\"y\":[null,null,null,null,243.0,237.0,273.0],\"type\":\"scatter\"},{\"line\":{\"color\":\"#1f77b4\"},\"mode\":\"lines\",\"name\":\"Newfoundland and Labrador\",\"x\":[2003,2004,2005,2006,2007,2008,2009,2010,2011,2012,2013,2014,2015,2016,2017],\"y\":[5196.0,5217.0,5199.0,4998.0,5121.0,5292.0,5388.0,5535.0,5538.0,5592.0,5544.0,5499.0,5799.0,5154.0,5388.0],\"type\":\"scatter\"},{\"line\":{\"color\":\"#ff7f0e\"},\"mode\":\"lines\",\"name\":\"Prince Edward Island\",\"x\":[2003,2004,2005,2006,2007,2008,2009,2010,2011,2012,2013,2014,2015,2016,2017],\"y\":[1092.0,1086.0,1092.0,1086.0,1095.0,1113.0,1170.0,1185.0,1290.0,1293.0,1314.0,1257.0,1257.0,1275.0,1206.0],\"type\":\"scatter\"},{\"line\":{\"color\":\"#2ca02c\"},\"mode\":\"lines\",\"name\":\"Nova Scotia\",\"x\":[2003,2004,2005,2006,2007,2008,2009,2010,2011,2012,2013,2014,2015,2016,2017],\"y\":[6498.0,6579.0,6660.0,6837.0,7125.0,7197.0,7317.0,7383.0,7170.0,7005.0,6783.0,6579.0,6798.0,6723.0,7017.0],\"type\":\"scatter\"},{\"line\":{\"color\":\"#d62728\"},\"mode\":\"lines\",\"name\":\"New Brunswick\",\"x\":[2003,2004,2005,2006,2007,2008,2009,2010,2011,2012,2013,2014,2015,2016,2017],\"y\":[5304.0,5406.0,5484.0,5526.0,5634.0,5901.0,6045.0,5994.0,5856.0,5787.0,5637.0,5274.0,5244.0,5403.0,5766.0],\"type\":\"scatter\"},{\"line\":{\"color\":\"#9467bd\"},\"mode\":\"lines\",\"name\":\"Quebec\",\"x\":[2003,2004,2005,2006,2007,2008,2009,2010,2011,2012,2013,2014,2015,2016,2017],\"y\":[65106.0,65931.0,66321.0,66804.0,69078.0,69432.0,69705.0,70566.0,71154.0,71763.0,72375.0,73101.0,73434.0,74412.0,75789.0],\"type\":\"scatter\"},{\"line\":{\"color\":\"#8c564b\"},\"mode\":\"lines\",\"name\":\"Ontario\",\"x\":[2003,2004,2005,2006,2007,2008,2009,2010,2011,2012,2013,2014,2015,2016,2017],\"y\":[92694.0,92556.0,94953.0,98784.0,107784.0,112368.0,114600.0,115521.0,117771.0,118746.0,120969.0,123729.0,127488.0,126720.0,128253.0],\"type\":\"scatter\"},{\"line\":{\"color\":\"#e377c2\"},\"mode\":\"lines\",\"name\":\"Manitoba\",\"x\":[2003,2004,2005,2006,2007,2008,2009,2010,2011,2012,2013,2014,2015,2016,2017],\"y\":[9699.0,9948.0,9888.0,9900.0,10011.0,10116.0,10146.0,10149.0,10239.0,9057.0,9375.0,9537.0,9579.0,9744.0,9885.0],\"type\":\"scatter\"},{\"line\":{\"color\":\"#17becf\"},\"mode\":\"lines\",\"name\":\"Saskatchewan\",\"x\":[2003,2004,2005,2006,2007,2008,2009,2010,2011,2012,2013,2014,2015,2016,2017],\"y\":[8043.0,8088.0,8064.0,8109.0,8226.0,8217.0,7902.0,7998.0,8229.0,8490.0,8556.0,8703.0,8901.0,8829.0,8841.0],\"type\":\"scatter\"},{\"line\":{\"color\":\"#210240\"},\"mode\":\"lines\",\"name\":\"Alberta\",\"x\":[2003,2004,2005,2006,2007,2008,2009,2010,2011,2012,2013,2014,2015,2016,2017],\"y\":[24066.0,26238.0,27807.0,28620.0,29034.0,29385.0,31011.0,33276.0,32712.0,32748.0,32523.0,32715.0,33357.0,34545.0,35118.0],\"type\":\"scatter\"},{\"line\":{\"color\":\"#21DC49\"},\"mode\":\"lines\",\"name\":\"British Columbia\",\"x\":[2003,2004,2005,2006,2007,2008,2009,2010,2011,2012,2013,2014,2015,2016,2017],\"y\":[24636.0,24447.0,24498.0,25122.0,25533.0,25713.0,25713.0,25407.0,25275.0,25551.0,25734.0,25533.0,25518.0,25830.0,26211.0],\"type\":\"scatter\"},{\"line\":{\"color\":\"#3F5063\"},\"mode\":\"lines\",\"name\":\"Yukon\",\"x\":[2012,2013,2014,2015,2016,2017],\"y\":[162.0,615.0,630.0,672.0,618.0,621.0],\"type\":\"scatter\"},{\"line\":{\"color\":\"#6C7075\"},\"mode\":\"lines\",\"name\":\"Northwest Territories\",\"x\":[],\"y\":[],\"type\":\"scatter\"},{\"line\":{\"color\":\"#F4BC1A\"},\"mode\":\"lines\",\"name\":\"Nunavut\",\"x\":[2011,2012,2013,2014,2015,2016,2017],\"y\":[null,null,null,null,537.0,525.0,594.0],\"type\":\"scatter\"}],                        {\"template\":{\"data\":{\"histogram2dcontour\":[{\"type\":\"histogram2dcontour\",\"colorbar\":{\"outlinewidth\":0,\"ticks\":\"\"},\"colorscale\":[[0.0,\"#0d0887\"],[0.1111111111111111,\"#46039f\"],[0.2222222222222222,\"#7201a8\"],[0.3333333333333333,\"#9c179e\"],[0.4444444444444444,\"#bd3786\"],[0.5555555555555556,\"#d8576b\"],[0.6666666666666666,\"#ed7953\"],[0.7777777777777778,\"#fb9f3a\"],[0.8888888888888888,\"#fdca26\"],[1.0,\"#f0f921\"]]}],\"choropleth\":[{\"type\":\"choropleth\",\"colorbar\":{\"outlinewidth\":0,\"ticks\":\"\"}}],\"histogram2d\":[{\"type\":\"histogram2d\",\"colorbar\":{\"outlinewidth\":0,\"ticks\":\"\"},\"colorscale\":[[0.0,\"#0d0887\"],[0.1111111111111111,\"#46039f\"],[0.2222222222222222,\"#7201a8\"],[0.3333333333333333,\"#9c179e\"],[0.4444444444444444,\"#bd3786\"],[0.5555555555555556,\"#d8576b\"],[0.6666666666666666,\"#ed7953\"],[0.7777777777777778,\"#fb9f3a\"],[0.8888888888888888,\"#fdca26\"],[1.0,\"#f0f921\"]]}],\"heatmap\":[{\"type\":\"heatmap\",\"colorbar\":{\"outlinewidth\":0,\"ticks\":\"\"},\"colorscale\":[[0.0,\"#0d0887\"],[0.1111111111111111,\"#46039f\"],[0.2222222222222222,\"#7201a8\"],[0.3333333333333333,\"#9c179e\"],[0.4444444444444444,\"#bd3786\"],[0.5555555555555556,\"#d8576b\"],[0.6666666666666666,\"#ed7953\"],[0.7777777777777778,\"#fb9f3a\"],[0.8888888888888888,\"#fdca26\"],[1.0,\"#f0f921\"]]}],\"heatmapgl\":[{\"type\":\"heatmapgl\",\"colorbar\":{\"outlinewidth\":0,\"ticks\":\"\"},\"colorscale\":[[0.0,\"#0d0887\"],[0.1111111111111111,\"#46039f\"],[0.2222222222222222,\"#7201a8\"],[0.3333333333333333,\"#9c179e\"],[0.4444444444444444,\"#bd3786\"],[0.5555555555555556,\"#d8576b\"],[0.6666666666666666,\"#ed7953\"],[0.7777777777777778,\"#fb9f3a\"],[0.8888888888888888,\"#fdca26\"],[1.0,\"#f0f921\"]]}],\"contourcarpet\":[{\"type\":\"contourcarpet\",\"colorbar\":{\"outlinewidth\":0,\"ticks\":\"\"}}],\"contour\":[{\"type\":\"contour\",\"colorbar\":{\"outlinewidth\":0,\"ticks\":\"\"},\"colorscale\":[[0.0,\"#0d0887\"],[0.1111111111111111,\"#46039f\"],[0.2222222222222222,\"#7201a8\"],[0.3333333333333333,\"#9c179e\"],[0.4444444444444444,\"#bd3786\"],[0.5555555555555556,\"#d8576b\"],[0.6666666666666666,\"#ed7953\"],[0.7777777777777778,\"#fb9f3a\"],[0.8888888888888888,\"#fdca26\"],[1.0,\"#f0f921\"]]}],\"surface\":[{\"type\":\"surface\",\"colorbar\":{\"outlinewidth\":0,\"ticks\":\"\"},\"colorscale\":[[0.0,\"#0d0887\"],[0.1111111111111111,\"#46039f\"],[0.2222222222222222,\"#7201a8\"],[0.3333333333333333,\"#9c179e\"],[0.4444444444444444,\"#bd3786\"],[0.5555555555555556,\"#d8576b\"],[0.6666666666666666,\"#ed7953\"],[0.7777777777777778,\"#fb9f3a\"],[0.8888888888888888,\"#fdca26\"],[1.0,\"#f0f921\"]]}],\"mesh3d\":[{\"type\":\"mesh3d\",\"colorbar\":{\"outlinewidth\":0,\"ticks\":\"\"}}],\"scatter\":[{\"fillpattern\":{\"fillmode\":\"overlay\",\"size\":10,\"solidity\":0.2},\"type\":\"scatter\"}],\"parcoords\":[{\"type\":\"parcoords\",\"line\":{\"colorbar\":{\"outlinewidth\":0,\"ticks\":\"\"}}}],\"scatterpolargl\":[{\"type\":\"scatterpolargl\",\"marker\":{\"colorbar\":{\"outlinewidth\":0,\"ticks\":\"\"}}}],\"bar\":[{\"error_x\":{\"color\":\"#2a3f5f\"},\"error_y\":{\"color\":\"#2a3f5f\"},\"marker\":{\"line\":{\"color\":\"#E5ECF6\",\"width\":0.5},\"pattern\":{\"fillmode\":\"overlay\",\"size\":10,\"solidity\":0.2}},\"type\":\"bar\"}],\"scattergeo\":[{\"type\":\"scattergeo\",\"marker\":{\"colorbar\":{\"outlinewidth\":0,\"ticks\":\"\"}}}],\"scatterpolar\":[{\"type\":\"scatterpolar\",\"marker\":{\"colorbar\":{\"outlinewidth\":0,\"ticks\":\"\"}}}],\"histogram\":[{\"marker\":{\"pattern\":{\"fillmode\":\"overlay\",\"size\":10,\"solidity\":0.2}},\"type\":\"histogram\"}],\"scattergl\":[{\"type\":\"scattergl\",\"marker\":{\"colorbar\":{\"outlinewidth\":0,\"ticks\":\"\"}}}],\"scatter3d\":[{\"type\":\"scatter3d\",\"line\":{\"colorbar\":{\"outlinewidth\":0,\"ticks\":\"\"}},\"marker\":{\"colorbar\":{\"outlinewidth\":0,\"ticks\":\"\"}}}],\"scattermapbox\":[{\"type\":\"scattermapbox\",\"marker\":{\"colorbar\":{\"outlinewidth\":0,\"ticks\":\"\"}}}],\"scatterternary\":[{\"type\":\"scatterternary\",\"marker\":{\"colorbar\":{\"outlinewidth\":0,\"ticks\":\"\"}}}],\"scattercarpet\":[{\"type\":\"scattercarpet\",\"marker\":{\"colorbar\":{\"outlinewidth\":0,\"ticks\":\"\"}}}],\"carpet\":[{\"aaxis\":{\"endlinecolor\":\"#2a3f5f\",\"gridcolor\":\"white\",\"linecolor\":\"white\",\"minorgridcolor\":\"white\",\"startlinecolor\":\"#2a3f5f\"},\"baxis\":{\"endlinecolor\":\"#2a3f5f\",\"gridcolor\":\"white\",\"linecolor\":\"white\",\"minorgridcolor\":\"white\",\"startlinecolor\":\"#2a3f5f\"},\"type\":\"carpet\"}],\"table\":[{\"cells\":{\"fill\":{\"color\":\"#EBF0F8\"},\"line\":{\"color\":\"white\"}},\"header\":{\"fill\":{\"color\":\"#C8D4E3\"},\"line\":{\"color\":\"white\"}},\"type\":\"table\"}],\"barpolar\":[{\"marker\":{\"line\":{\"color\":\"#E5ECF6\",\"width\":0.5},\"pattern\":{\"fillmode\":\"overlay\",\"size\":10,\"solidity\":0.2}},\"type\":\"barpolar\"}],\"pie\":[{\"automargin\":true,\"type\":\"pie\"}]},\"layout\":{\"autotypenumbers\":\"strict\",\"colorway\":[\"#636efa\",\"#EF553B\",\"#00cc96\",\"#ab63fa\",\"#FFA15A\",\"#19d3f3\",\"#FF6692\",\"#B6E880\",\"#FF97FF\",\"#FECB52\"],\"font\":{\"color\":\"#2a3f5f\"},\"hovermode\":\"closest\",\"hoverlabel\":{\"align\":\"left\"},\"paper_bgcolor\":\"white\",\"plot_bgcolor\":\"#E5ECF6\",\"polar\":{\"bgcolor\":\"#E5ECF6\",\"angularaxis\":{\"gridcolor\":\"white\",\"linecolor\":\"white\",\"ticks\":\"\"},\"radialaxis\":{\"gridcolor\":\"white\",\"linecolor\":\"white\",\"ticks\":\"\"}},\"ternary\":{\"bgcolor\":\"#E5ECF6\",\"aaxis\":{\"gridcolor\":\"white\",\"linecolor\":\"white\",\"ticks\":\"\"},\"baxis\":{\"gridcolor\":\"white\",\"linecolor\":\"white\",\"ticks\":\"\"},\"caxis\":{\"gridcolor\":\"white\",\"linecolor\":\"white\",\"ticks\":\"\"}},\"coloraxis\":{\"colorbar\":{\"outlinewidth\":0,\"ticks\":\"\"}},\"colorscale\":{\"sequential\":[[0.0,\"#0d0887\"],[0.1111111111111111,\"#46039f\"],[0.2222222222222222,\"#7201a8\"],[0.3333333333333333,\"#9c179e\"],[0.4444444444444444,\"#bd3786\"],[0.5555555555555556,\"#d8576b\"],[0.6666666666666666,\"#ed7953\"],[0.7777777777777778,\"#fb9f3a\"],[0.8888888888888888,\"#fdca26\"],[1.0,\"#f0f921\"]],\"sequentialminus\":[[0.0,\"#0d0887\"],[0.1111111111111111,\"#46039f\"],[0.2222222222222222,\"#7201a8\"],[0.3333333333333333,\"#9c179e\"],[0.4444444444444444,\"#bd3786\"],[0.5555555555555556,\"#d8576b\"],[0.6666666666666666,\"#ed7953\"],[0.7777777777777778,\"#fb9f3a\"],[0.8888888888888888,\"#fdca26\"],[1.0,\"#f0f921\"]],\"diverging\":[[0,\"#8e0152\"],[0.1,\"#c51b7d\"],[0.2,\"#de77ae\"],[0.3,\"#f1b6da\"],[0.4,\"#fde0ef\"],[0.5,\"#f7f7f7\"],[0.6,\"#e6f5d0\"],[0.7,\"#b8e186\"],[0.8,\"#7fbc41\"],[0.9,\"#4d9221\"],[1,\"#276419\"]]},\"xaxis\":{\"gridcolor\":\"white\",\"linecolor\":\"white\",\"ticks\":\"\",\"title\":{\"standoff\":15},\"zerolinecolor\":\"white\",\"automargin\":true,\"zerolinewidth\":2},\"yaxis\":{\"gridcolor\":\"white\",\"linecolor\":\"white\",\"ticks\":\"\",\"title\":{\"standoff\":15},\"zerolinecolor\":\"white\",\"automargin\":true,\"zerolinewidth\":2},\"scene\":{\"xaxis\":{\"backgroundcolor\":\"#E5ECF6\",\"gridcolor\":\"white\",\"linecolor\":\"white\",\"showbackground\":true,\"ticks\":\"\",\"zerolinecolor\":\"white\",\"gridwidth\":2},\"yaxis\":{\"backgroundcolor\":\"#E5ECF6\",\"gridcolor\":\"white\",\"linecolor\":\"white\",\"showbackground\":true,\"ticks\":\"\",\"zerolinecolor\":\"white\",\"gridwidth\":2},\"zaxis\":{\"backgroundcolor\":\"#E5ECF6\",\"gridcolor\":\"white\",\"linecolor\":\"white\",\"showbackground\":true,\"ticks\":\"\",\"zerolinecolor\":\"white\",\"gridwidth\":2}},\"shapedefaults\":{\"line\":{\"color\":\"#2a3f5f\"}},\"annotationdefaults\":{\"arrowcolor\":\"#2a3f5f\",\"arrowhead\":0,\"arrowwidth\":1},\"geo\":{\"bgcolor\":\"white\",\"landcolor\":\"#E5ECF6\",\"subunitcolor\":\"white\",\"showland\":true,\"showlakes\":true,\"lakecolor\":\"white\"},\"title\":{\"x\":0.05},\"mapbox\":{\"style\":\"light\"}}},\"title\":{\"text\":\"Number of Full-Time and Part-Time Educators in Canadian Provinces\",\"x\":0.5},\"showlegend\":true,\"updatemenus\":[{\"active\":0,\"buttons\":[{\"args\":[{\"visible\":[[true],\"legendonly\",\"legendonly\",\"legendonly\",\"legendonly\",\"legendonly\",\"legendonly\",\"legendonly\",\"legendonly\",\"legendonly\",\"legendonly\",\"legendonly\",\"legendonly\",false,false,false,false,false,false,false,false,false,false,false,false,false,false,false,false,false,false,false,false,false,false,false,false,false,false]}],\"label\":\"Both sexes\",\"method\":\"update\"},{\"args\":[{\"visible\":[false,false,false,false,false,false,false,false,false,false,false,false,false,[true],\"legendonly\",\"legendonly\",\"legendonly\",\"legendonly\",\"legendonly\",\"legendonly\",\"legendonly\",\"legendonly\",\"legendonly\",\"legendonly\",\"legendonly\",\"legendonly\",false,false,false,false,false,false,false,false,false,false,false,false,false]}],\"label\":\"Males\",\"method\":\"update\"},{\"args\":[{\"visible\":[false,false,false,false,false,false,false,false,false,false,false,false,false,false,false,false,false,false,false,false,false,false,false,false,false,false,[true],\"legendonly\",\"legendonly\",\"legendonly\",\"legendonly\",\"legendonly\",\"legendonly\",\"legendonly\",\"legendonly\",\"legendonly\",\"legendonly\",\"legendonly\",\"legendonly\"]}],\"label\":\"Females\",\"method\":\"update\"}],\"direction\":\"down\"}],\"height\":500},                        {\"responsive\": true}                    ).then(function(){\n",
       "                            \n",
       "var gd = document.getElementById('1eef3b04-8e8c-494c-bc39-29b2d65cbacb');\n",
       "var x = new MutationObserver(function (mutations, observer) {{\n",
       "        var display = window.getComputedStyle(gd).display;\n",
       "        if (!display || display === 'none') {{\n",
       "            console.log([gd, 'removed!']);\n",
       "            Plotly.purge(gd);\n",
       "            observer.disconnect();\n",
       "        }}\n",
       "}});\n",
       "\n",
       "// Listen for the removal of the full notebook cells\n",
       "var notebookContainer = gd.closest('#notebook-container');\n",
       "if (notebookContainer) {{\n",
       "    x.observe(notebookContainer, {childList: true});\n",
       "}}\n",
       "\n",
       "// Listen for the clearing of the current output cell\n",
       "var outputEl = gd.closest('.output');\n",
       "if (outputEl) {{\n",
       "    x.observe(outputEl, {childList: true});\n",
       "}}\n",
       "\n",
       "                        })                };                });            </script>        </div>"
      ]
     },
     "metadata": {},
     "output_type": "display_data"
    }
   ],
   "source": [
    "all_fig = go.Figure()\n",
    "genders = [\"Both sexes\", \"Males\", \"Females\"]\n",
    "\n",
    "for sex in genders:\n",
    "    col_num = 0\n",
    "    df_int = all_df[all_df[\"Sex\"] == sex]\n",
    "    all_prov = all_df[\"GEO\"].unique()\n",
    "    for ind, province in enumerate(all_prov):\n",
    "            all_fig.add_trace(go.Scatter(\n",
    "                  x = df_int[df_int[\"GEO\"] == province][\"Year\"],\n",
    "                  y = df_int[df_int[\"GEO\"] == province][\"Count\"],\n",
    "                  mode = \"lines\",\n",
    "                  line = dict(color=colors[col_num]),\n",
    "                  name = province\n",
    "                  ))\n",
    "            col_num += 1\n",
    "\n",
    "all_buttons = []\n",
    "prov_var_dict = [[] for _ in range(len(genders))]\n",
    "\n",
    "for ind_sex, sex in enumerate([\"Both sexes\", \"Males\", \"Females\"]):\n",
    "      df_sex = all_df[all_df[\"Sex\"] == sex]\n",
    "      all_provs = all_df[\"GEO\"].unique()\n",
    "      for province in all_provs:\n",
    "            prov_var_dict[ind_sex].append(province)\n",
    "\n",
    "currnum = 0\n",
    "\n",
    "for ind, sex in enumerate(prov_var_dict):\n",
    "      traces = [False] * len(all_fig.data)\n",
    "      oldnum = currnum\n",
    "      num_provs = len(sex)\n",
    "      traces[0:oldnum] = [False for i in traces[0:oldnum]]\n",
    "      currnum += num_provs\n",
    "      traces[oldnum:currnum] = [\"legendonly\" for i in traces[oldnum:currnum]]\n",
    "      traces[oldnum] = [True]\n",
    "      all_buttons.append(dict(\n",
    "            label=genders[ind],\n",
    "            method=\"update\",\n",
    "            args=[{\"visible\":traces}]\n",
    "      ))\n",
    "\n",
    "all_fig.update_layout(\n",
    "    title={\"text\":\"Number of Full-Time and Part-Time Educators in Canadian Provinces\", \"x\":0.5},\n",
    "      showlegend=True,\n",
    "      updatemenus=[dict(\n",
    "            active=0,\n",
    "            buttons=all_buttons,\n",
    "            direction=\"down\"\n",
    "      )],\n",
    "    height=500\n",
    ")\n",
    "\n",
    "all_fig.show()"
   ]
  },
  {
   "cell_type": "markdown",
   "metadata": {},
   "source": [
    "The graph above is a little bit difficult to comprehend, and is hard to draw a conclusion on whether the number of total educators are declining. Now, let's the above graph with the [student enrollment data (Statistics Canada)](https://www150.statcan.gc.ca/n1/daily-quotidien/221122/dq221122e-eng.htm) from 2003 to 2017. This data is manually compiled with provincial data retrieved from Statistics Canada. \n",
    "\n",
    "Notice that for the comparison below, we are only focusing on **all genders (combining male and females)** to ease our understanding."
   ]
  },
  {
   "cell_type": "code",
   "execution_count": 35,
   "metadata": {},
   "outputs": [
    {
     "data": {
      "text/html": [
       "<div>\n",
       "<style scoped>\n",
       "    .dataframe tbody tr th:only-of-type {\n",
       "        vertical-align: middle;\n",
       "    }\n",
       "\n",
       "    .dataframe tbody tr th {\n",
       "        vertical-align: top;\n",
       "    }\n",
       "\n",
       "    .dataframe thead th {\n",
       "        text-align: right;\n",
       "    }\n",
       "</style>\n",
       "<table border=\"1\" class=\"dataframe\">\n",
       "  <thead>\n",
       "    <tr style=\"text-align: right;\">\n",
       "      <th></th>\n",
       "      <th>GEO</th>\n",
       "      <th>Count</th>\n",
       "      <th>Year</th>\n",
       "      <th>Sex</th>\n",
       "      <th>Enrollment</th>\n",
       "      <th>Ratio</th>\n",
       "    </tr>\n",
       "  </thead>\n",
       "  <tbody>\n",
       "    <tr>\n",
       "      <th>0</th>\n",
       "      <td>Newfoundland and Labrador</td>\n",
       "      <td>8034.0</td>\n",
       "      <td>2003</td>\n",
       "      <td>Both sexes</td>\n",
       "      <td>84336.0</td>\n",
       "      <td>0.095262</td>\n",
       "    </tr>\n",
       "    <tr>\n",
       "      <th>3</th>\n",
       "      <td>Newfoundland and Labrador</td>\n",
       "      <td>7920.0</td>\n",
       "      <td>2004</td>\n",
       "      <td>Both sexes</td>\n",
       "      <td>81510.0</td>\n",
       "      <td>0.097166</td>\n",
       "    </tr>\n",
       "    <tr>\n",
       "      <th>6</th>\n",
       "      <td>Newfoundland and Labrador</td>\n",
       "      <td>7737.0</td>\n",
       "      <td>2005</td>\n",
       "      <td>Both sexes</td>\n",
       "      <td>79485.0</td>\n",
       "      <td>0.097339</td>\n",
       "    </tr>\n",
       "    <tr>\n",
       "      <th>9</th>\n",
       "      <td>Newfoundland and Labrador</td>\n",
       "      <td>7320.0</td>\n",
       "      <td>2006</td>\n",
       "      <td>Both sexes</td>\n",
       "      <td>76806.0</td>\n",
       "      <td>0.095305</td>\n",
       "    </tr>\n",
       "    <tr>\n",
       "      <th>12</th>\n",
       "      <td>Newfoundland and Labrador</td>\n",
       "      <td>7401.0</td>\n",
       "      <td>2007</td>\n",
       "      <td>Both sexes</td>\n",
       "      <td>75177.0</td>\n",
       "      <td>0.098448</td>\n",
       "    </tr>\n",
       "  </tbody>\n",
       "</table>\n",
       "</div>"
      ],
      "text/plain": [
       "                          GEO   Count  Year         Sex  Enrollment     Ratio\n",
       "0   Newfoundland and Labrador  8034.0  2003  Both sexes     84336.0  0.095262\n",
       "3   Newfoundland and Labrador  7920.0  2004  Both sexes     81510.0  0.097166\n",
       "6   Newfoundland and Labrador  7737.0  2005  Both sexes     79485.0  0.097339\n",
       "9   Newfoundland and Labrador  7320.0  2006  Both sexes     76806.0  0.095305\n",
       "12  Newfoundland and Labrador  7401.0  2007  Both sexes     75177.0  0.098448"
      ]
     },
     "execution_count": 35,
     "metadata": {},
     "output_type": "execute_result"
    }
   ],
   "source": [
    "student_enrol_df = pd.read_csv(\"data/enroll_data/all_enrollment.csv\")\n",
    "count_df = all_df[[\"GEO\", \"Count\", \"Year\", \"Sex\"]]\n",
    "count_df = count_df[count_df[\"Sex\"] == \"Both sexes\"]\n",
    "enrol_df = student_enrol_df[[\"GEO\", \"VALUE\", \"Year\"]].rename(columns={\"VALUE\": \"Enrollment\"})\n",
    "comb_df = count_df.merge(enrol_df, on=[\"GEO\", \"Year\"])\n",
    "comb_df.drop_duplicates(inplace=True)\n",
    "comb_df[\"Ratio\"] = comb_df[\"Count\"] / comb_df[\"Enrollment\"]\n",
    "comb_df.head()"
   ]
  },
  {
   "cell_type": "code",
   "execution_count": 41,
   "metadata": {},
   "outputs": [
    {
     "data": {
      "application/vnd.plotly.v1+json": {
       "config": {
        "plotlyServerURL": "https://plot.ly"
       },
       "data": [
        {
         "hovertemplate": "GEO=Newfoundland and Labrador<br>Year=%{x}<br>Ratio=%{y}<extra></extra>",
         "legendgroup": "Newfoundland and Labrador",
         "line": {
          "color": "#636efa",
          "dash": "solid"
         },
         "marker": {
          "symbol": "circle"
         },
         "mode": "markers+lines",
         "name": "Newfoundland and Labrador",
         "orientation": "v",
         "showlegend": true,
         "type": "scatter",
         "visible": true,
         "x": [
          2003,
          2004,
          2005,
          2006,
          2007,
          2008,
          2009,
          2010,
          2011,
          2012,
          2013,
          2014,
          2015,
          2016,
          2017
         ],
         "xaxis": "x",
         "y": [
          0.09526180990324416,
          0.09716599190283401,
          0.09733912058879034,
          0.09530505429263339,
          0.0984476635141067,
          0.10262843980091317,
          0.10549284545340103,
          0.1096906162106878,
          0.10969827586206897,
          0.11071802935010482,
          0.11102327624066755,
          0.10788527322164722,
          0.11208791208791209,
          0.10252777900748151,
          0.1063583299915341
         ],
         "yaxis": "y"
        },
        {
         "hovertemplate": "GEO=Prince Edward Island<br>Year=%{x}<br>Ratio=%{y}<extra></extra>",
         "legendgroup": "Prince Edward Island",
         "line": {
          "color": "#EF553B",
          "dash": "solid"
         },
         "marker": {
          "symbol": "circle"
         },
         "mode": "markers+lines",
         "name": "Prince Edward Island",
         "orientation": "v",
         "showlegend": true,
         "type": "scatter",
         "visible": "legendonly",
         "x": [
          2003,
          2004,
          2005,
          2006,
          2007,
          2008,
          2009,
          2010,
          2011,
          2012,
          2013,
          2014,
          2015,
          2016,
          2017
         ],
         "xaxis": "x",
         "y": [
          0.06892990835161998,
          0.06928618205631958,
          0.07086403215003349,
          0.07012028430836523,
          0.07229928541403952,
          0.07506053268765134,
          0.07953386744355426,
          0.08137808137808138,
          0.08160694288913774,
          0.08352272727272728,
          0.08536231884057971,
          0.08283154648259657,
          0.08323459715639811,
          0.08384396951128381,
          0.07868131868131868
         ],
         "yaxis": "y"
        },
        {
         "hovertemplate": "GEO=Nova Scotia<br>Year=%{x}<br>Ratio=%{y}<extra></extra>",
         "legendgroup": "Nova Scotia",
         "line": {
          "color": "#00cc96",
          "dash": "solid"
         },
         "marker": {
          "symbol": "circle"
         },
         "mode": "markers+lines",
         "name": "Nova Scotia",
         "orientation": "v",
         "showlegend": true,
         "type": "scatter",
         "visible": true,
         "x": [
          2003,
          2004,
          2005,
          2006,
          2007,
          2008,
          2009,
          2010,
          2011,
          2012,
          2013,
          2014,
          2015,
          2016,
          2017
         ],
         "xaxis": "x",
         "y": [
          0.06380855437798136,
          0.06487591595481965,
          0.0660420286257963,
          0.06838257047462068,
          0.06966893557836175,
          0.07169510169747428,
          0.07353005656158197,
          0.07502681923833363,
          0.07358238372488163,
          0.0732118914420454,
          0.07250691048267063,
          0.07104086463738313,
          0.07379091766869088,
          0.07353480077199326,
          0.07580409356725146
         ],
         "yaxis": "y"
        },
        {
         "hovertemplate": "GEO=New Brunswick<br>Year=%{x}<br>Ratio=%{y}<extra></extra>",
         "legendgroup": "New Brunswick",
         "line": {
          "color": "#ab63fa",
          "dash": "solid"
         },
         "marker": {
          "symbol": "circle"
         },
         "mode": "markers+lines",
         "name": "New Brunswick",
         "orientation": "v",
         "showlegend": true,
         "type": "scatter",
         "visible": "legendonly",
         "x": [
          2003,
          2004,
          2005,
          2006,
          2007,
          2008,
          2009,
          2010,
          2011,
          2012,
          2013,
          2014,
          2015,
          2016,
          2017
         ],
         "xaxis": "x",
         "y": [
          0.06151741293532338,
          0.06286752643666557,
          0.06410059414054498,
          0.06539858385807228,
          0.06779886957449077,
          0.0707586466367472,
          0.07363355480819184,
          0.07424942906478026,
          0.07380398388286703,
          0.07387002797888603,
          0.07270225163236026,
          0.06807150467621641,
          0.06818317689962336,
          0.07042084047769455,
          0.07534741021476268
         ],
         "yaxis": "y"
        },
        {
         "hovertemplate": "GEO=Quebec<br>Year=%{x}<br>Ratio=%{y}<extra></extra>",
         "legendgroup": "Quebec",
         "line": {
          "color": "#FFA15A",
          "dash": "solid"
         },
         "marker": {
          "symbol": "circle"
         },
         "mode": "markers+lines",
         "name": "Quebec",
         "orientation": "v",
         "showlegend": true,
         "type": "scatter",
         "visible": true,
         "x": [
          2003,
          2004,
          2005,
          2006,
          2007,
          2008,
          2009,
          2010,
          2011,
          2012,
          2013,
          2014,
          2015,
          2016,
          2017
         ],
         "xaxis": "x",
         "y": [
          0.09355448550761782,
          0.09490582609544257,
          0.09589201769250476,
          0.09739944423733009,
          0.09029302119817746,
          0.09213833677576147,
          0.09392318626086192,
          0.09627676216868547,
          0.09737094827093111,
          0.09798481043299344,
          0.0986143858989823,
          0.09865906451272305,
          0.09800731518394129,
          0.09775189262982466,
          0.09757598987188869
         ],
         "yaxis": "y"
        },
        {
         "hovertemplate": "GEO=Ontario<br>Year=%{x}<br>Ratio=%{y}<extra></extra>",
         "legendgroup": "Ontario",
         "line": {
          "color": "#19d3f3",
          "dash": "solid"
         },
         "marker": {
          "symbol": "circle"
         },
         "mode": "markers+lines",
         "name": "Ontario",
         "orientation": "v",
         "showlegend": true,
         "type": "scatter",
         "visible": true,
         "x": [
          2004,
          2005,
          2006,
          2007,
          2008,
          2009,
          2010,
          2011,
          2012,
          2013,
          2014,
          2015,
          2016,
          2017
         ],
         "xaxis": "x",
         "y": [
          0.060998937899520225,
          0.062468925149159284,
          0.06508671289655202,
          0.06739466882024217,
          0.07015756726251839,
          0.07171658040726112,
          0.07263289419848822,
          0.0740074000481529,
          0.07468912477735175,
          0.07570767771562718,
          0.0772133088602251,
          0.07911307234252521,
          0.07869297867288924,
          0.07877986266068102
         ],
         "yaxis": "y"
        },
        {
         "hovertemplate": "GEO=Manitoba<br>Year=%{x}<br>Ratio=%{y}<extra></extra>",
         "legendgroup": "Manitoba",
         "line": {
          "color": "#FF6692",
          "dash": "solid"
         },
         "marker": {
          "symbol": "circle"
         },
         "mode": "markers+lines",
         "name": "Manitoba",
         "orientation": "v",
         "showlegend": true,
         "type": "scatter",
         "visible": "legendonly",
         "x": [
          2003,
          2004,
          2005,
          2006,
          2007,
          2008,
          2009,
          2010,
          2011,
          2012,
          2013,
          2014,
          2015,
          2016,
          2017
         ],
         "xaxis": "x",
         "y": [
          0.0756537232932565,
          0.07754122648801855,
          0.07746009015313014,
          0.07792400065800296,
          0.07354307301665944,
          0.07420280859647761,
          0.07451574133329171,
          0.07450839739891153,
          0.07489453118919003,
          0.06729402311638544,
          0.06906251441044008,
          0.0699077414303916,
          0.06981221446361177,
          0.07019562715765247,
          0.07040649675611693
         ],
         "yaxis": "y"
        },
        {
         "hovertemplate": "GEO=Saskatchewan<br>Year=%{x}<br>Ratio=%{y}<extra></extra>",
         "legendgroup": "Saskatchewan",
         "line": {
          "color": "#B6E880",
          "dash": "solid"
         },
         "marker": {
          "symbol": "circle"
         },
         "mode": "markers+lines",
         "name": "Saskatchewan",
         "orientation": "v",
         "showlegend": true,
         "type": "scatter",
         "visible": true,
         "x": [
          2003,
          2004,
          2005,
          2006,
          2007,
          2008,
          2009,
          2010,
          2011,
          2012,
          2013,
          2014,
          2015,
          2016,
          2017
         ],
         "xaxis": "x",
         "y": [
          0.06764063039226964,
          0.06881139407281399,
          0.06961809695772153,
          0.07042057940323897,
          0.07463921977903336,
          0.07277781737828783,
          0.0698015901439725,
          0.07068547812455465,
          0.07131111307576696,
          0.07252924283813127,
          0.07178731208968271,
          0.07181918225683569,
          0.0722835483441947,
          0.07069660333909039,
          0.06944265256095987
         ],
         "yaxis": "y"
        },
        {
         "hovertemplate": "GEO=Alberta<br>Year=%{x}<br>Ratio=%{y}<extra></extra>",
         "legendgroup": "Alberta",
         "line": {
          "color": "#FF97FF",
          "dash": "solid"
         },
         "marker": {
          "symbol": "circle"
         },
         "mode": "markers+lines",
         "name": "Alberta",
         "orientation": "v",
         "showlegend": true,
         "type": "scatter",
         "x": [
          2003,
          2004,
          2005,
          2006,
          2007,
          2008,
          2009,
          2010,
          2011,
          2012,
          2013,
          2014,
          2015,
          2016,
          2017
         ],
         "xaxis": "x",
         "y": [
          0.06270055573893799,
          0.06759031042682331,
          0.07149040895998607,
          0.07302869819589591,
          0.06767214624672126,
          0.06775259323877851,
          0.07062130000597978,
          0.07537230220283965,
          0.0733038029386344,
          0.07345957526632244,
          0.07058592496443641,
          0.06882229550285344,
          0.06792573825942835,
          0.06872478714050273,
          0.06828361764986181
         ],
         "yaxis": "y"
        },
        {
         "hovertemplate": "GEO=British Columbia<br>Year=%{x}<br>Ratio=%{y}<extra></extra>",
         "legendgroup": "British Columbia",
         "line": {
          "color": "#FECB52",
          "dash": "solid"
         },
         "marker": {
          "symbol": "circle"
         },
         "mode": "markers+lines",
         "name": "British Columbia",
         "orientation": "v",
         "showlegend": true,
         "type": "scatter",
         "visible": true,
         "x": [
          2003,
          2004,
          2005,
          2006,
          2007,
          2008,
          2009,
          2010,
          2011,
          2012,
          2013,
          2014,
          2015,
          2016,
          2017
         ],
         "xaxis": "x",
         "y": [
          0.06241368534591385,
          0.06218272169303531,
          0.06249580694936859,
          0.06414389600091813,
          0.05886659345778843,
          0.05938678928321158,
          0.05961422952471372,
          0.059168883140967764,
          0.056340014289474674,
          0.05723932944953038,
          0.057358919605791786,
          0.05698745613487655,
          0.05672069550547797,
          0.05683292008392142,
          0.05680456059876735
         ],
         "yaxis": "y"
        },
        {
         "hovertemplate": "GEO=Yukon<br>Year=%{x}<br>Ratio=%{y}<extra></extra>",
         "legendgroup": "Yukon",
         "line": {
          "color": "#636efa",
          "dash": "solid"
         },
         "marker": {
          "symbol": "circle"
         },
         "mode": "markers+lines",
         "name": "Yukon",
         "orientation": "v",
         "showlegend": true,
         "type": "scatter",
         "visible": "legendonly",
         "x": [
          2003,
          2004,
          2005,
          2006,
          2007,
          2008,
          2009,
          2010,
          2011,
          2012,
          2013,
          2014,
          2015,
          2016,
          2017
         ],
         "xaxis": "x",
         "y": [
          0.0877005347593583,
          0.08858695652173913,
          0.09065934065934066,
          0.09274873524451939,
          0.09758897818599312,
          0.09873708381171067,
          0.11031175059952038,
          0.11377245508982035,
          0.09965034965034965,
          0.10637054354178843,
          0.17064647641234712,
          0.17053824362606232,
          0.17726505346088914,
          0.16366704161979753,
          0.15993449781659388
         ],
         "yaxis": "y"
        },
        {
         "hovertemplate": "GEO=Northwest Territories<br>Year=%{x}<br>Ratio=%{y}<extra></extra>",
         "legendgroup": "Northwest Territories",
         "line": {
          "color": "#EF553B",
          "dash": "solid"
         },
         "marker": {
          "symbol": "circle"
         },
         "mode": "markers+lines",
         "name": "Northwest Territories",
         "orientation": "v",
         "showlegend": true,
         "type": "scatter",
         "visible": "legendonly",
         "x": [
          2003,
          2004,
          2005,
          2006,
          2007,
          2008,
          2009,
          2010,
          2011,
          2012,
          2013,
          2014,
          2015,
          2016,
          2017
         ],
         "xaxis": "x",
         "y": [
          0.06617420744844568,
          0.07008335906143871,
          0.07058088694565896,
          0.06988404888749608,
          0.07149696776252792,
          0.0782122905027933,
          0.08157715839564922,
          0.08165392633773454,
          0.07956914523974983,
          0.07345225603357818,
          0.08,
          0.08190127970749543,
          0.07945597709377238,
          0.07816421656507709,
          0.07659422871392946
         ],
         "yaxis": "y"
        },
        {
         "hovertemplate": "GEO=Nunavut<br>Year=%{x}<br>Ratio=%{y}<extra></extra>",
         "legendgroup": "Nunavut",
         "line": {
          "color": "#00cc96",
          "dash": "solid"
         },
         "marker": {
          "symbol": "circle"
         },
         "mode": "markers+lines",
         "name": "Nunavut",
         "orientation": "v",
         "showlegend": true,
         "type": "scatter",
         "visible": "legendonly",
         "x": [
          2003,
          2004,
          2005,
          2006,
          2007,
          2008,
          2009,
          2010,
          2011,
          2012,
          2013,
          2014,
          2015,
          2016,
          2017
         ],
         "xaxis": "x",
         "y": [
          0.06033029996629592,
          0.05789473684210526,
          0.06670942912123155,
          0.07788366743345383,
          0.07743216412971542,
          0.07815098104423013,
          0.0705045278137128,
          0.07202124128775307,
          0.0750760906323977,
          0.07477265072414954,
          0.08814790359854738,
          0.05889608387295714,
          0.0791868932038835,
          0.07600239377618193,
          0.08604720645354048
         ],
         "yaxis": "y"
        }
       ],
       "layout": {
        "autosize": true,
        "legend": {
         "title": {
          "text": "GEO"
         },
         "tracegroupgap": 0
        },
        "margin": {
         "t": 60
        },
        "template": {
         "data": {
          "bar": [
           {
            "error_x": {
             "color": "#2a3f5f"
            },
            "error_y": {
             "color": "#2a3f5f"
            },
            "marker": {
             "line": {
              "color": "#E5ECF6",
              "width": 0.5
             },
             "pattern": {
              "fillmode": "overlay",
              "size": 10,
              "solidity": 0.2
             }
            },
            "type": "bar"
           }
          ],
          "barpolar": [
           {
            "marker": {
             "line": {
              "color": "#E5ECF6",
              "width": 0.5
             },
             "pattern": {
              "fillmode": "overlay",
              "size": 10,
              "solidity": 0.2
             }
            },
            "type": "barpolar"
           }
          ],
          "carpet": [
           {
            "aaxis": {
             "endlinecolor": "#2a3f5f",
             "gridcolor": "white",
             "linecolor": "white",
             "minorgridcolor": "white",
             "startlinecolor": "#2a3f5f"
            },
            "baxis": {
             "endlinecolor": "#2a3f5f",
             "gridcolor": "white",
             "linecolor": "white",
             "minorgridcolor": "white",
             "startlinecolor": "#2a3f5f"
            },
            "type": "carpet"
           }
          ],
          "choropleth": [
           {
            "colorbar": {
             "outlinewidth": 0,
             "ticks": ""
            },
            "type": "choropleth"
           }
          ],
          "contour": [
           {
            "colorbar": {
             "outlinewidth": 0,
             "ticks": ""
            },
            "colorscale": [
             [
              0,
              "#0d0887"
             ],
             [
              0.1111111111111111,
              "#46039f"
             ],
             [
              0.2222222222222222,
              "#7201a8"
             ],
             [
              0.3333333333333333,
              "#9c179e"
             ],
             [
              0.4444444444444444,
              "#bd3786"
             ],
             [
              0.5555555555555556,
              "#d8576b"
             ],
             [
              0.6666666666666666,
              "#ed7953"
             ],
             [
              0.7777777777777778,
              "#fb9f3a"
             ],
             [
              0.8888888888888888,
              "#fdca26"
             ],
             [
              1,
              "#f0f921"
             ]
            ],
            "type": "contour"
           }
          ],
          "contourcarpet": [
           {
            "colorbar": {
             "outlinewidth": 0,
             "ticks": ""
            },
            "type": "contourcarpet"
           }
          ],
          "heatmap": [
           {
            "colorbar": {
             "outlinewidth": 0,
             "ticks": ""
            },
            "colorscale": [
             [
              0,
              "#0d0887"
             ],
             [
              0.1111111111111111,
              "#46039f"
             ],
             [
              0.2222222222222222,
              "#7201a8"
             ],
             [
              0.3333333333333333,
              "#9c179e"
             ],
             [
              0.4444444444444444,
              "#bd3786"
             ],
             [
              0.5555555555555556,
              "#d8576b"
             ],
             [
              0.6666666666666666,
              "#ed7953"
             ],
             [
              0.7777777777777778,
              "#fb9f3a"
             ],
             [
              0.8888888888888888,
              "#fdca26"
             ],
             [
              1,
              "#f0f921"
             ]
            ],
            "type": "heatmap"
           }
          ],
          "heatmapgl": [
           {
            "colorbar": {
             "outlinewidth": 0,
             "ticks": ""
            },
            "colorscale": [
             [
              0,
              "#0d0887"
             ],
             [
              0.1111111111111111,
              "#46039f"
             ],
             [
              0.2222222222222222,
              "#7201a8"
             ],
             [
              0.3333333333333333,
              "#9c179e"
             ],
             [
              0.4444444444444444,
              "#bd3786"
             ],
             [
              0.5555555555555556,
              "#d8576b"
             ],
             [
              0.6666666666666666,
              "#ed7953"
             ],
             [
              0.7777777777777778,
              "#fb9f3a"
             ],
             [
              0.8888888888888888,
              "#fdca26"
             ],
             [
              1,
              "#f0f921"
             ]
            ],
            "type": "heatmapgl"
           }
          ],
          "histogram": [
           {
            "marker": {
             "pattern": {
              "fillmode": "overlay",
              "size": 10,
              "solidity": 0.2
             }
            },
            "type": "histogram"
           }
          ],
          "histogram2d": [
           {
            "colorbar": {
             "outlinewidth": 0,
             "ticks": ""
            },
            "colorscale": [
             [
              0,
              "#0d0887"
             ],
             [
              0.1111111111111111,
              "#46039f"
             ],
             [
              0.2222222222222222,
              "#7201a8"
             ],
             [
              0.3333333333333333,
              "#9c179e"
             ],
             [
              0.4444444444444444,
              "#bd3786"
             ],
             [
              0.5555555555555556,
              "#d8576b"
             ],
             [
              0.6666666666666666,
              "#ed7953"
             ],
             [
              0.7777777777777778,
              "#fb9f3a"
             ],
             [
              0.8888888888888888,
              "#fdca26"
             ],
             [
              1,
              "#f0f921"
             ]
            ],
            "type": "histogram2d"
           }
          ],
          "histogram2dcontour": [
           {
            "colorbar": {
             "outlinewidth": 0,
             "ticks": ""
            },
            "colorscale": [
             [
              0,
              "#0d0887"
             ],
             [
              0.1111111111111111,
              "#46039f"
             ],
             [
              0.2222222222222222,
              "#7201a8"
             ],
             [
              0.3333333333333333,
              "#9c179e"
             ],
             [
              0.4444444444444444,
              "#bd3786"
             ],
             [
              0.5555555555555556,
              "#d8576b"
             ],
             [
              0.6666666666666666,
              "#ed7953"
             ],
             [
              0.7777777777777778,
              "#fb9f3a"
             ],
             [
              0.8888888888888888,
              "#fdca26"
             ],
             [
              1,
              "#f0f921"
             ]
            ],
            "type": "histogram2dcontour"
           }
          ],
          "mesh3d": [
           {
            "colorbar": {
             "outlinewidth": 0,
             "ticks": ""
            },
            "type": "mesh3d"
           }
          ],
          "parcoords": [
           {
            "line": {
             "colorbar": {
              "outlinewidth": 0,
              "ticks": ""
             }
            },
            "type": "parcoords"
           }
          ],
          "pie": [
           {
            "automargin": true,
            "type": "pie"
           }
          ],
          "scatter": [
           {
            "fillpattern": {
             "fillmode": "overlay",
             "size": 10,
             "solidity": 0.2
            },
            "type": "scatter"
           }
          ],
          "scatter3d": [
           {
            "line": {
             "colorbar": {
              "outlinewidth": 0,
              "ticks": ""
             }
            },
            "marker": {
             "colorbar": {
              "outlinewidth": 0,
              "ticks": ""
             }
            },
            "type": "scatter3d"
           }
          ],
          "scattercarpet": [
           {
            "marker": {
             "colorbar": {
              "outlinewidth": 0,
              "ticks": ""
             }
            },
            "type": "scattercarpet"
           }
          ],
          "scattergeo": [
           {
            "marker": {
             "colorbar": {
              "outlinewidth": 0,
              "ticks": ""
             }
            },
            "type": "scattergeo"
           }
          ],
          "scattergl": [
           {
            "marker": {
             "colorbar": {
              "outlinewidth": 0,
              "ticks": ""
             }
            },
            "type": "scattergl"
           }
          ],
          "scattermapbox": [
           {
            "marker": {
             "colorbar": {
              "outlinewidth": 0,
              "ticks": ""
             }
            },
            "type": "scattermapbox"
           }
          ],
          "scatterpolar": [
           {
            "marker": {
             "colorbar": {
              "outlinewidth": 0,
              "ticks": ""
             }
            },
            "type": "scatterpolar"
           }
          ],
          "scatterpolargl": [
           {
            "marker": {
             "colorbar": {
              "outlinewidth": 0,
              "ticks": ""
             }
            },
            "type": "scatterpolargl"
           }
          ],
          "scatterternary": [
           {
            "marker": {
             "colorbar": {
              "outlinewidth": 0,
              "ticks": ""
             }
            },
            "type": "scatterternary"
           }
          ],
          "surface": [
           {
            "colorbar": {
             "outlinewidth": 0,
             "ticks": ""
            },
            "colorscale": [
             [
              0,
              "#0d0887"
             ],
             [
              0.1111111111111111,
              "#46039f"
             ],
             [
              0.2222222222222222,
              "#7201a8"
             ],
             [
              0.3333333333333333,
              "#9c179e"
             ],
             [
              0.4444444444444444,
              "#bd3786"
             ],
             [
              0.5555555555555556,
              "#d8576b"
             ],
             [
              0.6666666666666666,
              "#ed7953"
             ],
             [
              0.7777777777777778,
              "#fb9f3a"
             ],
             [
              0.8888888888888888,
              "#fdca26"
             ],
             [
              1,
              "#f0f921"
             ]
            ],
            "type": "surface"
           }
          ],
          "table": [
           {
            "cells": {
             "fill": {
              "color": "#EBF0F8"
             },
             "line": {
              "color": "white"
             }
            },
            "header": {
             "fill": {
              "color": "#C8D4E3"
             },
             "line": {
              "color": "white"
             }
            },
            "type": "table"
           }
          ]
         },
         "layout": {
          "annotationdefaults": {
           "arrowcolor": "#2a3f5f",
           "arrowhead": 0,
           "arrowwidth": 1
          },
          "autotypenumbers": "strict",
          "coloraxis": {
           "colorbar": {
            "outlinewidth": 0,
            "ticks": ""
           }
          },
          "colorscale": {
           "diverging": [
            [
             0,
             "#8e0152"
            ],
            [
             0.1,
             "#c51b7d"
            ],
            [
             0.2,
             "#de77ae"
            ],
            [
             0.3,
             "#f1b6da"
            ],
            [
             0.4,
             "#fde0ef"
            ],
            [
             0.5,
             "#f7f7f7"
            ],
            [
             0.6,
             "#e6f5d0"
            ],
            [
             0.7,
             "#b8e186"
            ],
            [
             0.8,
             "#7fbc41"
            ],
            [
             0.9,
             "#4d9221"
            ],
            [
             1,
             "#276419"
            ]
           ],
           "sequential": [
            [
             0,
             "#0d0887"
            ],
            [
             0.1111111111111111,
             "#46039f"
            ],
            [
             0.2222222222222222,
             "#7201a8"
            ],
            [
             0.3333333333333333,
             "#9c179e"
            ],
            [
             0.4444444444444444,
             "#bd3786"
            ],
            [
             0.5555555555555556,
             "#d8576b"
            ],
            [
             0.6666666666666666,
             "#ed7953"
            ],
            [
             0.7777777777777778,
             "#fb9f3a"
            ],
            [
             0.8888888888888888,
             "#fdca26"
            ],
            [
             1,
             "#f0f921"
            ]
           ],
           "sequentialminus": [
            [
             0,
             "#0d0887"
            ],
            [
             0.1111111111111111,
             "#46039f"
            ],
            [
             0.2222222222222222,
             "#7201a8"
            ],
            [
             0.3333333333333333,
             "#9c179e"
            ],
            [
             0.4444444444444444,
             "#bd3786"
            ],
            [
             0.5555555555555556,
             "#d8576b"
            ],
            [
             0.6666666666666666,
             "#ed7953"
            ],
            [
             0.7777777777777778,
             "#fb9f3a"
            ],
            [
             0.8888888888888888,
             "#fdca26"
            ],
            [
             1,
             "#f0f921"
            ]
           ]
          },
          "colorway": [
           "#636efa",
           "#EF553B",
           "#00cc96",
           "#ab63fa",
           "#FFA15A",
           "#19d3f3",
           "#FF6692",
           "#B6E880",
           "#FF97FF",
           "#FECB52"
          ],
          "font": {
           "color": "#2a3f5f"
          },
          "geo": {
           "bgcolor": "white",
           "lakecolor": "white",
           "landcolor": "#E5ECF6",
           "showlakes": true,
           "showland": true,
           "subunitcolor": "white"
          },
          "hoverlabel": {
           "align": "left"
          },
          "hovermode": "closest",
          "mapbox": {
           "style": "light"
          },
          "paper_bgcolor": "white",
          "plot_bgcolor": "#E5ECF6",
          "polar": {
           "angularaxis": {
            "gridcolor": "white",
            "linecolor": "white",
            "ticks": ""
           },
           "bgcolor": "#E5ECF6",
           "radialaxis": {
            "gridcolor": "white",
            "linecolor": "white",
            "ticks": ""
           }
          },
          "scene": {
           "xaxis": {
            "backgroundcolor": "#E5ECF6",
            "gridcolor": "white",
            "gridwidth": 2,
            "linecolor": "white",
            "showbackground": true,
            "ticks": "",
            "zerolinecolor": "white"
           },
           "yaxis": {
            "backgroundcolor": "#E5ECF6",
            "gridcolor": "white",
            "gridwidth": 2,
            "linecolor": "white",
            "showbackground": true,
            "ticks": "",
            "zerolinecolor": "white"
           },
           "zaxis": {
            "backgroundcolor": "#E5ECF6",
            "gridcolor": "white",
            "gridwidth": 2,
            "linecolor": "white",
            "showbackground": true,
            "ticks": "",
            "zerolinecolor": "white"
           }
          },
          "shapedefaults": {
           "line": {
            "color": "#2a3f5f"
           }
          },
          "ternary": {
           "aaxis": {
            "gridcolor": "white",
            "linecolor": "white",
            "ticks": ""
           },
           "baxis": {
            "gridcolor": "white",
            "linecolor": "white",
            "ticks": ""
           },
           "bgcolor": "#E5ECF6",
           "caxis": {
            "gridcolor": "white",
            "linecolor": "white",
            "ticks": ""
           }
          },
          "title": {
           "x": 0.05
          },
          "xaxis": {
           "automargin": true,
           "gridcolor": "white",
           "linecolor": "white",
           "ticks": "",
           "title": {
            "standoff": 15
           },
           "zerolinecolor": "white",
           "zerolinewidth": 2
          },
          "yaxis": {
           "automargin": true,
           "gridcolor": "white",
           "linecolor": "white",
           "ticks": "",
           "title": {
            "standoff": 15
           },
           "zerolinecolor": "white",
           "zerolinewidth": 2
          }
         }
        },
        "title": {
         "text": "Teacher-Student Enrollment Ratio",
         "x": 0.5
        },
        "xaxis": {
         "anchor": "y",
         "autorange": true,
         "domain": [
          0,
          1
         ],
         "range": [
          2002.1092388146426,
          2017.8907611853574
         ],
         "showspikes": false,
         "title": {
          "text": "Year"
         },
         "type": "linear"
        },
        "yaxis": {
         "anchor": "x",
         "autorange": true,
         "domain": [
          0,
          1
         ],
         "range": [
          0.05250899761612234,
          0.11591892876126443
         ],
         "showspikes": false,
         "title": {
          "text": "Ratio"
         },
         "type": "linear"
        }
       }
      },
      "image/png": "[encoded data removed]",
      "text/html": [
       "<div>                            <div id=\"a5cddb03-ae6b-4331-ac13-eec9d65ed642\" class=\"plotly-graph-div\" style=\"height:500px; width:100%;\"></div>            <script type=\"text/javascript\">                require([\"plotly\"], function(Plotly) {                    window.PLOTLYENV=window.PLOTLYENV || {};                                    if (document.getElementById(\"a5cddb03-ae6b-4331-ac13-eec9d65ed642\")) {                    Plotly.newPlot(                        \"a5cddb03-ae6b-4331-ac13-eec9d65ed642\",                        [{\"hovertemplate\":\"GEO=Newfoundland and Labrador<br>Year=%{x}<br>Ratio=%{y}<extra></extra>\",\"legendgroup\":\"Newfoundland and Labrador\",\"line\":{\"color\":\"#636efa\",\"dash\":\"solid\"},\"marker\":{\"symbol\":\"circle\"},\"mode\":\"markers+lines\",\"name\":\"Newfoundland and Labrador\",\"orientation\":\"v\",\"showlegend\":true,\"x\":[2003,2004,2005,2006,2007,2008,2009,2010,2011,2012,2013,2014,2015,2016,2017],\"xaxis\":\"x\",\"y\":[0.09526180990324416,0.09716599190283401,0.09733912058879034,0.09530505429263339,0.0984476635141067,0.10262843980091317,0.10549284545340103,0.1096906162106878,0.10969827586206897,0.11071802935010482,0.11102327624066755,0.10788527322164722,0.11208791208791209,0.10252777900748151,0.1063583299915341],\"yaxis\":\"y\",\"type\":\"scatter\"},{\"hovertemplate\":\"GEO=Prince Edward Island<br>Year=%{x}<br>Ratio=%{y}<extra></extra>\",\"legendgroup\":\"Prince Edward Island\",\"line\":{\"color\":\"#EF553B\",\"dash\":\"solid\"},\"marker\":{\"symbol\":\"circle\"},\"mode\":\"markers+lines\",\"name\":\"Prince Edward Island\",\"orientation\":\"v\",\"showlegend\":true,\"x\":[2003,2004,2005,2006,2007,2008,2009,2010,2011,2012,2013,2014,2015,2016,2017],\"xaxis\":\"x\",\"y\":[0.06892990835161998,0.06928618205631958,0.07086403215003349,0.07012028430836523,0.07229928541403952,0.07506053268765134,0.07953386744355426,0.08137808137808138,0.08160694288913774,0.08352272727272728,0.08536231884057971,0.08283154648259657,0.08323459715639811,0.08384396951128381,0.07868131868131868],\"yaxis\":\"y\",\"type\":\"scatter\"},{\"hovertemplate\":\"GEO=Nova Scotia<br>Year=%{x}<br>Ratio=%{y}<extra></extra>\",\"legendgroup\":\"Nova Scotia\",\"line\":{\"color\":\"#00cc96\",\"dash\":\"solid\"},\"marker\":{\"symbol\":\"circle\"},\"mode\":\"markers+lines\",\"name\":\"Nova Scotia\",\"orientation\":\"v\",\"showlegend\":true,\"x\":[2003,2004,2005,2006,2007,2008,2009,2010,2011,2012,2013,2014,2015,2016,2017],\"xaxis\":\"x\",\"y\":[0.06380855437798136,0.06487591595481965,0.0660420286257963,0.06838257047462068,0.06966893557836175,0.07169510169747428,0.07353005656158197,0.07502681923833363,0.07358238372488163,0.0732118914420454,0.07250691048267063,0.07104086463738313,0.07379091766869088,0.07353480077199326,0.07580409356725146],\"yaxis\":\"y\",\"type\":\"scatter\"},{\"hovertemplate\":\"GEO=New Brunswick<br>Year=%{x}<br>Ratio=%{y}<extra></extra>\",\"legendgroup\":\"New Brunswick\",\"line\":{\"color\":\"#ab63fa\",\"dash\":\"solid\"},\"marker\":{\"symbol\":\"circle\"},\"mode\":\"markers+lines\",\"name\":\"New Brunswick\",\"orientation\":\"v\",\"showlegend\":true,\"x\":[2003,2004,2005,2006,2007,2008,2009,2010,2011,2012,2013,2014,2015,2016,2017],\"xaxis\":\"x\",\"y\":[0.06151741293532338,0.06286752643666557,0.06410059414054498,0.06539858385807228,0.06779886957449077,0.0707586466367472,0.07363355480819184,0.07424942906478026,0.07380398388286703,0.07387002797888603,0.07270225163236026,0.06807150467621641,0.06818317689962336,0.07042084047769455,0.07534741021476268],\"yaxis\":\"y\",\"type\":\"scatter\"},{\"hovertemplate\":\"GEO=Quebec<br>Year=%{x}<br>Ratio=%{y}<extra></extra>\",\"legendgroup\":\"Quebec\",\"line\":{\"color\":\"#FFA15A\",\"dash\":\"solid\"},\"marker\":{\"symbol\":\"circle\"},\"mode\":\"markers+lines\",\"name\":\"Quebec\",\"orientation\":\"v\",\"showlegend\":true,\"x\":[2003,2004,2005,2006,2007,2008,2009,2010,2011,2012,2013,2014,2015,2016,2017],\"xaxis\":\"x\",\"y\":[0.09355448550761782,0.09490582609544257,0.09589201769250476,0.09739944423733009,0.09029302119817746,0.09213833677576147,0.09392318626086192,0.09627676216868547,0.09737094827093111,0.09798481043299344,0.0986143858989823,0.09865906451272305,0.09800731518394129,0.09775189262982466,0.09757598987188869],\"yaxis\":\"y\",\"type\":\"scatter\"},{\"hovertemplate\":\"GEO=Ontario<br>Year=%{x}<br>Ratio=%{y}<extra></extra>\",\"legendgroup\":\"Ontario\",\"line\":{\"color\":\"#19d3f3\",\"dash\":\"solid\"},\"marker\":{\"symbol\":\"circle\"},\"mode\":\"markers+lines\",\"name\":\"Ontario\",\"orientation\":\"v\",\"showlegend\":true,\"x\":[2004,2005,2006,2007,2008,2009,2010,2011,2012,2013,2014,2015,2016,2017],\"xaxis\":\"x\",\"y\":[0.060998937899520225,0.062468925149159284,0.06508671289655202,0.06739466882024217,0.07015756726251839,0.07171658040726112,0.07263289419848822,0.0740074000481529,0.07468912477735175,0.07570767771562718,0.0772133088602251,0.07911307234252521,0.07869297867288924,0.07877986266068102],\"yaxis\":\"y\",\"type\":\"scatter\"},{\"hovertemplate\":\"GEO=Manitoba<br>Year=%{x}<br>Ratio=%{y}<extra></extra>\",\"legendgroup\":\"Manitoba\",\"line\":{\"color\":\"#FF6692\",\"dash\":\"solid\"},\"marker\":{\"symbol\":\"circle\"},\"mode\":\"markers+lines\",\"name\":\"Manitoba\",\"orientation\":\"v\",\"showlegend\":true,\"x\":[2003,2004,2005,2006,2007,2008,2009,2010,2011,2012,2013,2014,2015,2016,2017],\"xaxis\":\"x\",\"y\":[0.0756537232932565,0.07754122648801855,0.07746009015313014,0.07792400065800296,0.07354307301665944,0.07420280859647761,0.07451574133329171,0.07450839739891153,0.07489453118919003,0.06729402311638544,0.06906251441044008,0.0699077414303916,0.06981221446361177,0.07019562715765247,0.07040649675611693],\"yaxis\":\"y\",\"type\":\"scatter\"},{\"hovertemplate\":\"GEO=Saskatchewan<br>Year=%{x}<br>Ratio=%{y}<extra></extra>\",\"legendgroup\":\"Saskatchewan\",\"line\":{\"color\":\"#B6E880\",\"dash\":\"solid\"},\"marker\":{\"symbol\":\"circle\"},\"mode\":\"markers+lines\",\"name\":\"Saskatchewan\",\"orientation\":\"v\",\"showlegend\":true,\"x\":[2003,2004,2005,2006,2007,2008,2009,2010,2011,2012,2013,2014,2015,2016,2017],\"xaxis\":\"x\",\"y\":[0.06764063039226964,0.06881139407281399,0.06961809695772153,0.07042057940323897,0.07463921977903336,0.07277781737828783,0.0698015901439725,0.07068547812455465,0.07131111307576696,0.07252924283813127,0.07178731208968271,0.07181918225683569,0.0722835483441947,0.07069660333909039,0.06944265256095987],\"yaxis\":\"y\",\"type\":\"scatter\"},{\"hovertemplate\":\"GEO=Alberta<br>Year=%{x}<br>Ratio=%{y}<extra></extra>\",\"legendgroup\":\"Alberta\",\"line\":{\"color\":\"#FF97FF\",\"dash\":\"solid\"},\"marker\":{\"symbol\":\"circle\"},\"mode\":\"markers+lines\",\"name\":\"Alberta\",\"orientation\":\"v\",\"showlegend\":true,\"x\":[2003,2004,2005,2006,2007,2008,2009,2010,2011,2012,2013,2014,2015,2016,2017],\"xaxis\":\"x\",\"y\":[0.06270055573893799,0.06759031042682331,0.07149040895998607,0.07302869819589591,0.06767214624672126,0.06775259323877851,0.07062130000597978,0.07537230220283965,0.0733038029386344,0.07345957526632244,0.07058592496443641,0.06882229550285344,0.06792573825942835,0.06872478714050273,0.06828361764986181],\"yaxis\":\"y\",\"type\":\"scatter\"},{\"hovertemplate\":\"GEO=British Columbia<br>Year=%{x}<br>Ratio=%{y}<extra></extra>\",\"legendgroup\":\"British Columbia\",\"line\":{\"color\":\"#FECB52\",\"dash\":\"solid\"},\"marker\":{\"symbol\":\"circle\"},\"mode\":\"markers+lines\",\"name\":\"British Columbia\",\"orientation\":\"v\",\"showlegend\":true,\"x\":[2003,2004,2005,2006,2007,2008,2009,2010,2011,2012,2013,2014,2015,2016,2017],\"xaxis\":\"x\",\"y\":[0.06241368534591385,0.06218272169303531,0.06249580694936859,0.06414389600091813,0.05886659345778843,0.05938678928321158,0.05961422952471372,0.059168883140967764,0.056340014289474674,0.05723932944953038,0.057358919605791786,0.05698745613487655,0.05672069550547797,0.05683292008392142,0.05680456059876735],\"yaxis\":\"y\",\"type\":\"scatter\"},{\"hovertemplate\":\"GEO=Yukon<br>Year=%{x}<br>Ratio=%{y}<extra></extra>\",\"legendgroup\":\"Yukon\",\"line\":{\"color\":\"#636efa\",\"dash\":\"solid\"},\"marker\":{\"symbol\":\"circle\"},\"mode\":\"markers+lines\",\"name\":\"Yukon\",\"orientation\":\"v\",\"showlegend\":true,\"x\":[2003,2004,2005,2006,2007,2008,2009,2010,2011,2012,2013,2014,2015,2016,2017],\"xaxis\":\"x\",\"y\":[0.0877005347593583,0.08858695652173913,0.09065934065934066,0.09274873524451939,0.09758897818599312,0.09873708381171067,0.11031175059952038,0.11377245508982035,0.09965034965034965,0.10637054354178843,0.17064647641234712,0.17053824362606232,0.17726505346088914,0.16366704161979753,0.15993449781659388],\"yaxis\":\"y\",\"type\":\"scatter\"},{\"hovertemplate\":\"GEO=Northwest Territories<br>Year=%{x}<br>Ratio=%{y}<extra></extra>\",\"legendgroup\":\"Northwest Territories\",\"line\":{\"color\":\"#EF553B\",\"dash\":\"solid\"},\"marker\":{\"symbol\":\"circle\"},\"mode\":\"markers+lines\",\"name\":\"Northwest Territories\",\"orientation\":\"v\",\"showlegend\":true,\"x\":[2003,2004,2005,2006,2007,2008,2009,2010,2011,2012,2013,2014,2015,2016,2017],\"xaxis\":\"x\",\"y\":[0.06617420744844568,0.07008335906143871,0.07058088694565896,0.06988404888749608,0.07149696776252792,0.0782122905027933,0.08157715839564922,0.08165392633773454,0.07956914523974983,0.07345225603357818,0.08,0.08190127970749543,0.07945597709377238,0.07816421656507709,0.07659422871392946],\"yaxis\":\"y\",\"type\":\"scatter\"},{\"hovertemplate\":\"GEO=Nunavut<br>Year=%{x}<br>Ratio=%{y}<extra></extra>\",\"legendgroup\":\"Nunavut\",\"line\":{\"color\":\"#00cc96\",\"dash\":\"solid\"},\"marker\":{\"symbol\":\"circle\"},\"mode\":\"markers+lines\",\"name\":\"Nunavut\",\"orientation\":\"v\",\"showlegend\":true,\"x\":[2003,2004,2005,2006,2007,2008,2009,2010,2011,2012,2013,2014,2015,2016,2017],\"xaxis\":\"x\",\"y\":[0.06033029996629592,0.05789473684210526,0.06670942912123155,0.07788366743345383,0.07743216412971542,0.07815098104423013,0.0705045278137128,0.07202124128775307,0.0750760906323977,0.07477265072414954,0.08814790359854738,0.05889608387295714,0.0791868932038835,0.07600239377618193,0.08604720645354048],\"yaxis\":\"y\",\"type\":\"scatter\"}],                        {\"template\":{\"data\":{\"histogram2dcontour\":[{\"type\":\"histogram2dcontour\",\"colorbar\":{\"outlinewidth\":0,\"ticks\":\"\"},\"colorscale\":[[0.0,\"#0d0887\"],[0.1111111111111111,\"#46039f\"],[0.2222222222222222,\"#7201a8\"],[0.3333333333333333,\"#9c179e\"],[0.4444444444444444,\"#bd3786\"],[0.5555555555555556,\"#d8576b\"],[0.6666666666666666,\"#ed7953\"],[0.7777777777777778,\"#fb9f3a\"],[0.8888888888888888,\"#fdca26\"],[1.0,\"#f0f921\"]]}],\"choropleth\":[{\"type\":\"choropleth\",\"colorbar\":{\"outlinewidth\":0,\"ticks\":\"\"}}],\"histogram2d\":[{\"type\":\"histogram2d\",\"colorbar\":{\"outlinewidth\":0,\"ticks\":\"\"},\"colorscale\":[[0.0,\"#0d0887\"],[0.1111111111111111,\"#46039f\"],[0.2222222222222222,\"#7201a8\"],[0.3333333333333333,\"#9c179e\"],[0.4444444444444444,\"#bd3786\"],[0.5555555555555556,\"#d8576b\"],[0.6666666666666666,\"#ed7953\"],[0.7777777777777778,\"#fb9f3a\"],[0.8888888888888888,\"#fdca26\"],[1.0,\"#f0f921\"]]}],\"heatmap\":[{\"type\":\"heatmap\",\"colorbar\":{\"outlinewidth\":0,\"ticks\":\"\"},\"colorscale\":[[0.0,\"#0d0887\"],[0.1111111111111111,\"#46039f\"],[0.2222222222222222,\"#7201a8\"],[0.3333333333333333,\"#9c179e\"],[0.4444444444444444,\"#bd3786\"],[0.5555555555555556,\"#d8576b\"],[0.6666666666666666,\"#ed7953\"],[0.7777777777777778,\"#fb9f3a\"],[0.8888888888888888,\"#fdca26\"],[1.0,\"#f0f921\"]]}],\"heatmapgl\":[{\"type\":\"heatmapgl\",\"colorbar\":{\"outlinewidth\":0,\"ticks\":\"\"},\"colorscale\":[[0.0,\"#0d0887\"],[0.1111111111111111,\"#46039f\"],[0.2222222222222222,\"#7201a8\"],[0.3333333333333333,\"#9c179e\"],[0.4444444444444444,\"#bd3786\"],[0.5555555555555556,\"#d8576b\"],[0.6666666666666666,\"#ed7953\"],[0.7777777777777778,\"#fb9f3a\"],[0.8888888888888888,\"#fdca26\"],[1.0,\"#f0f921\"]]}],\"contourcarpet\":[{\"type\":\"contourcarpet\",\"colorbar\":{\"outlinewidth\":0,\"ticks\":\"\"}}],\"contour\":[{\"type\":\"contour\",\"colorbar\":{\"outlinewidth\":0,\"ticks\":\"\"},\"colorscale\":[[0.0,\"#0d0887\"],[0.1111111111111111,\"#46039f\"],[0.2222222222222222,\"#7201a8\"],[0.3333333333333333,\"#9c179e\"],[0.4444444444444444,\"#bd3786\"],[0.5555555555555556,\"#d8576b\"],[0.6666666666666666,\"#ed7953\"],[0.7777777777777778,\"#fb9f3a\"],[0.8888888888888888,\"#fdca26\"],[1.0,\"#f0f921\"]]}],\"surface\":[{\"type\":\"surface\",\"colorbar\":{\"outlinewidth\":0,\"ticks\":\"\"},\"colorscale\":[[0.0,\"#0d0887\"],[0.1111111111111111,\"#46039f\"],[0.2222222222222222,\"#7201a8\"],[0.3333333333333333,\"#9c179e\"],[0.4444444444444444,\"#bd3786\"],[0.5555555555555556,\"#d8576b\"],[0.6666666666666666,\"#ed7953\"],[0.7777777777777778,\"#fb9f3a\"],[0.8888888888888888,\"#fdca26\"],[1.0,\"#f0f921\"]]}],\"mesh3d\":[{\"type\":\"mesh3d\",\"colorbar\":{\"outlinewidth\":0,\"ticks\":\"\"}}],\"scatter\":[{\"fillpattern\":{\"fillmode\":\"overlay\",\"size\":10,\"solidity\":0.2},\"type\":\"scatter\"}],\"parcoords\":[{\"type\":\"parcoords\",\"line\":{\"colorbar\":{\"outlinewidth\":0,\"ticks\":\"\"}}}],\"scatterpolargl\":[{\"type\":\"scatterpolargl\",\"marker\":{\"colorbar\":{\"outlinewidth\":0,\"ticks\":\"\"}}}],\"bar\":[{\"error_x\":{\"color\":\"#2a3f5f\"},\"error_y\":{\"color\":\"#2a3f5f\"},\"marker\":{\"line\":{\"color\":\"#E5ECF6\",\"width\":0.5},\"pattern\":{\"fillmode\":\"overlay\",\"size\":10,\"solidity\":0.2}},\"type\":\"bar\"}],\"scattergeo\":[{\"type\":\"scattergeo\",\"marker\":{\"colorbar\":{\"outlinewidth\":0,\"ticks\":\"\"}}}],\"scatterpolar\":[{\"type\":\"scatterpolar\",\"marker\":{\"colorbar\":{\"outlinewidth\":0,\"ticks\":\"\"}}}],\"histogram\":[{\"marker\":{\"pattern\":{\"fillmode\":\"overlay\",\"size\":10,\"solidity\":0.2}},\"type\":\"histogram\"}],\"scattergl\":[{\"type\":\"scattergl\",\"marker\":{\"colorbar\":{\"outlinewidth\":0,\"ticks\":\"\"}}}],\"scatter3d\":[{\"type\":\"scatter3d\",\"line\":{\"colorbar\":{\"outlinewidth\":0,\"ticks\":\"\"}},\"marker\":{\"colorbar\":{\"outlinewidth\":0,\"ticks\":\"\"}}}],\"scattermapbox\":[{\"type\":\"scattermapbox\",\"marker\":{\"colorbar\":{\"outlinewidth\":0,\"ticks\":\"\"}}}],\"scatterternary\":[{\"type\":\"scatterternary\",\"marker\":{\"colorbar\":{\"outlinewidth\":0,\"ticks\":\"\"}}}],\"scattercarpet\":[{\"type\":\"scattercarpet\",\"marker\":{\"colorbar\":{\"outlinewidth\":0,\"ticks\":\"\"}}}],\"carpet\":[{\"aaxis\":{\"endlinecolor\":\"#2a3f5f\",\"gridcolor\":\"white\",\"linecolor\":\"white\",\"minorgridcolor\":\"white\",\"startlinecolor\":\"#2a3f5f\"},\"baxis\":{\"endlinecolor\":\"#2a3f5f\",\"gridcolor\":\"white\",\"linecolor\":\"white\",\"minorgridcolor\":\"white\",\"startlinecolor\":\"#2a3f5f\"},\"type\":\"carpet\"}],\"table\":[{\"cells\":{\"fill\":{\"color\":\"#EBF0F8\"},\"line\":{\"color\":\"white\"}},\"header\":{\"fill\":{\"color\":\"#C8D4E3\"},\"line\":{\"color\":\"white\"}},\"type\":\"table\"}],\"barpolar\":[{\"marker\":{\"line\":{\"color\":\"#E5ECF6\",\"width\":0.5},\"pattern\":{\"fillmode\":\"overlay\",\"size\":10,\"solidity\":0.2}},\"type\":\"barpolar\"}],\"pie\":[{\"automargin\":true,\"type\":\"pie\"}]},\"layout\":{\"autotypenumbers\":\"strict\",\"colorway\":[\"#636efa\",\"#EF553B\",\"#00cc96\",\"#ab63fa\",\"#FFA15A\",\"#19d3f3\",\"#FF6692\",\"#B6E880\",\"#FF97FF\",\"#FECB52\"],\"font\":{\"color\":\"#2a3f5f\"},\"hovermode\":\"closest\",\"hoverlabel\":{\"align\":\"left\"},\"paper_bgcolor\":\"white\",\"plot_bgcolor\":\"#E5ECF6\",\"polar\":{\"bgcolor\":\"#E5ECF6\",\"angularaxis\":{\"gridcolor\":\"white\",\"linecolor\":\"white\",\"ticks\":\"\"},\"radialaxis\":{\"gridcolor\":\"white\",\"linecolor\":\"white\",\"ticks\":\"\"}},\"ternary\":{\"bgcolor\":\"#E5ECF6\",\"aaxis\":{\"gridcolor\":\"white\",\"linecolor\":\"white\",\"ticks\":\"\"},\"baxis\":{\"gridcolor\":\"white\",\"linecolor\":\"white\",\"ticks\":\"\"},\"caxis\":{\"gridcolor\":\"white\",\"linecolor\":\"white\",\"ticks\":\"\"}},\"coloraxis\":{\"colorbar\":{\"outlinewidth\":0,\"ticks\":\"\"}},\"colorscale\":{\"sequential\":[[0.0,\"#0d0887\"],[0.1111111111111111,\"#46039f\"],[0.2222222222222222,\"#7201a8\"],[0.3333333333333333,\"#9c179e\"],[0.4444444444444444,\"#bd3786\"],[0.5555555555555556,\"#d8576b\"],[0.6666666666666666,\"#ed7953\"],[0.7777777777777778,\"#fb9f3a\"],[0.8888888888888888,\"#fdca26\"],[1.0,\"#f0f921\"]],\"sequentialminus\":[[0.0,\"#0d0887\"],[0.1111111111111111,\"#46039f\"],[0.2222222222222222,\"#7201a8\"],[0.3333333333333333,\"#9c179e\"],[0.4444444444444444,\"#bd3786\"],[0.5555555555555556,\"#d8576b\"],[0.6666666666666666,\"#ed7953\"],[0.7777777777777778,\"#fb9f3a\"],[0.8888888888888888,\"#fdca26\"],[1.0,\"#f0f921\"]],\"diverging\":[[0,\"#8e0152\"],[0.1,\"#c51b7d\"],[0.2,\"#de77ae\"],[0.3,\"#f1b6da\"],[0.4,\"#fde0ef\"],[0.5,\"#f7f7f7\"],[0.6,\"#e6f5d0\"],[0.7,\"#b8e186\"],[0.8,\"#7fbc41\"],[0.9,\"#4d9221\"],[1,\"#276419\"]]},\"xaxis\":{\"gridcolor\":\"white\",\"linecolor\":\"white\",\"ticks\":\"\",\"title\":{\"standoff\":15},\"zerolinecolor\":\"white\",\"automargin\":true,\"zerolinewidth\":2},\"yaxis\":{\"gridcolor\":\"white\",\"linecolor\":\"white\",\"ticks\":\"\",\"title\":{\"standoff\":15},\"zerolinecolor\":\"white\",\"automargin\":true,\"zerolinewidth\":2},\"scene\":{\"xaxis\":{\"backgroundcolor\":\"#E5ECF6\",\"gridcolor\":\"white\",\"linecolor\":\"white\",\"showbackground\":true,\"ticks\":\"\",\"zerolinecolor\":\"white\",\"gridwidth\":2},\"yaxis\":{\"backgroundcolor\":\"#E5ECF6\",\"gridcolor\":\"white\",\"linecolor\":\"white\",\"showbackground\":true,\"ticks\":\"\",\"zerolinecolor\":\"white\",\"gridwidth\":2},\"zaxis\":{\"backgroundcolor\":\"#E5ECF6\",\"gridcolor\":\"white\",\"linecolor\":\"white\",\"showbackground\":true,\"ticks\":\"\",\"zerolinecolor\":\"white\",\"gridwidth\":2}},\"shapedefaults\":{\"line\":{\"color\":\"#2a3f5f\"}},\"annotationdefaults\":{\"arrowcolor\":\"#2a3f5f\",\"arrowhead\":0,\"arrowwidth\":1},\"geo\":{\"bgcolor\":\"white\",\"landcolor\":\"#E5ECF6\",\"subunitcolor\":\"white\",\"showland\":true,\"showlakes\":true,\"lakecolor\":\"white\"},\"title\":{\"x\":0.05},\"mapbox\":{\"style\":\"light\"}}},\"xaxis\":{\"anchor\":\"y\",\"domain\":[0.0,1.0],\"title\":{\"text\":\"Year\"}},\"yaxis\":{\"anchor\":\"x\",\"domain\":[0.0,1.0],\"title\":{\"text\":\"Ratio\"}},\"legend\":{\"title\":{\"text\":\"GEO\"},\"tracegroupgap\":0},\"margin\":{\"t\":60},\"title\":{\"text\":\"Teacher-Student Enrollment Ratio\",\"x\":0.5},\"height\":500},                        {\"responsive\": true}                    ).then(function(){\n",
       "                            \n",
       "var gd = document.getElementById('a5cddb03-ae6b-4331-ac13-eec9d65ed642');\n",
       "var x = new MutationObserver(function (mutations, observer) {{\n",
       "        var display = window.getComputedStyle(gd).display;\n",
       "        if (!display || display === 'none') {{\n",
       "            console.log([gd, 'removed!']);\n",
       "            Plotly.purge(gd);\n",
       "            observer.disconnect();\n",
       "        }}\n",
       "}});\n",
       "\n",
       "// Listen for the removal of the full notebook cells\n",
       "var notebookContainer = gd.closest('#notebook-container');\n",
       "if (notebookContainer) {{\n",
       "    x.observe(notebookContainer, {childList: true});\n",
       "}}\n",
       "\n",
       "// Listen for the clearing of the current output cell\n",
       "var outputEl = gd.closest('.output');\n",
       "if (outputEl) {{\n",
       "    x.observe(outputEl, {childList: true});\n",
       "}}\n",
       "\n",
       "                        })                };                });            </script>        </div>"
      ]
     },
     "metadata": {},
     "output_type": "display_data"
    }
   ],
   "source": [
    "enrollment_fig = px.line(comb_df, x=\"Year\", y=\"Ratio\", markers=True, color=\"GEO\")\n",
    "enrollment_fig.update_layout(title={\"text\":\"Teacher-Student Enrollment Ratio\", \"x\":0.5},\n",
    "                            height=500)\n",
    "enrollment_fig.show()"
   ]
  },
  {
   "cell_type": "markdown",
   "metadata": {},
   "source": [
    "Overall, we notice that the teacher-student enrollment varies from province to province. From the graph, we can conclude that **Biritish Columbia** experienced the greatest reduction in teacher-student enrollment ratio while **Newfoundland and Labrador** showed the greatest increase. "
   ]
  },
  {
   "cell_type": "markdown",
   "metadata": {},
   "source": [
    "### Callysto Student Survey Analysis\n",
    "#### Bar Graph"
   ]
  },
  {
   "cell_type": "code",
   "execution_count": 45,
   "metadata": {},
   "outputs": [
    {
     "data": {
      "text/html": [
       "<div>\n",
       "<style scoped>\n",
       "    .dataframe tbody tr th:only-of-type {\n",
       "        vertical-align: middle;\n",
       "    }\n",
       "\n",
       "    .dataframe tbody tr th {\n",
       "        vertical-align: top;\n",
       "    }\n",
       "\n",
       "    .dataframe thead th {\n",
       "        text-align: right;\n",
       "    }\n",
       "</style>\n",
       "<table border=\"1\" class=\"dataframe\">\n",
       "  <thead>\n",
       "    <tr style=\"text-align: right;\">\n",
       "      <th></th>\n",
       "      <th>Characteristic</th>\n",
       "      <th>Count</th>\n",
       "    </tr>\n",
       "  </thead>\n",
       "  <tbody>\n",
       "    <tr>\n",
       "      <th>23</th>\n",
       "      <td>technological</td>\n",
       "      <td>13</td>\n",
       "    </tr>\n",
       "    <tr>\n",
       "      <th>22</th>\n",
       "      <td>meticulous</td>\n",
       "      <td>14</td>\n",
       "    </tr>\n",
       "    <tr>\n",
       "      <th>9</th>\n",
       "      <td>diligent</td>\n",
       "      <td>24</td>\n",
       "    </tr>\n",
       "    <tr>\n",
       "      <th>15</th>\n",
       "      <td>eager</td>\n",
       "      <td>26</td>\n",
       "    </tr>\n",
       "    <tr>\n",
       "      <th>10</th>\n",
       "      <td>insightful</td>\n",
       "      <td>26</td>\n",
       "    </tr>\n",
       "  </tbody>\n",
       "</table>\n",
       "</div>"
      ],
      "text/plain": [
       "   Characteristic  Count\n",
       "23  technological     13\n",
       "22     meticulous     14\n",
       "9        diligent     24\n",
       "15          eager     26\n",
       "10     insightful     26"
      ]
     },
     "execution_count": 45,
     "metadata": {},
     "output_type": "execute_result"
    }
   ],
   "source": [
    "def count_values(df, col):\n",
    "    all_lists = df[col].values\n",
    "    count = {}\n",
    "    for ind, item in enumerate(all_lists):\n",
    "        item_words = item.split(\", \")\n",
    "        for ind_item in item_words:\n",
    "            if ind_item in list(count.keys()):\n",
    "                count[ind_item] += 1\n",
    "            else:\n",
    "                count[ind_item] = 1\n",
    "    return count\n",
    "\n",
    "count_dict = count_values(student_df, \"Characteristics\")\n",
    "count_df = pd.DataFrame.from_dict(count_dict, orient=\"index\").reset_index()\n",
    "count_df.columns = [\"Characteristic\", \"Count\"]\n",
    "count_df = count_df.sort_values(by=\"Count\")\n",
    "count_df.head()"
   ]
  },
  {
   "cell_type": "code",
   "execution_count": 63,
   "metadata": {},
   "outputs": [
    {
     "data": {
      "application/vnd.plotly.v1+json": {
       "config": {
        "plotlyServerURL": "https://plot.ly"
       },
       "data": [
        {
         "alignmentgroup": "True",
         "hovertemplate": "Count=%{x}<br>Characteristic=%{y}<extra></extra>",
         "legendgroup": "",
         "marker": {
          "color": "#636efa",
          "pattern": {
           "shape": ""
          }
         },
         "name": "",
         "offsetgroup": "",
         "orientation": "h",
         "showlegend": false,
         "textposition": "auto",
         "texttemplate": "%{x:.2s}",
         "type": "bar",
         "x": [
          13,
          14,
          24,
          26,
          26,
          31,
          34,
          34,
          37,
          38,
          41,
          41,
          41,
          43,
          44,
          45,
          46,
          48,
          49,
          53,
          53,
          58,
          58,
          66
         ],
         "xaxis": "x",
         "y": [
          "technological",
          "meticulous",
          "diligent",
          "eager",
          "insightful",
          "sincere",
          "committed",
          "wise",
          "enthusiastic",
          "dedicated",
          "generous",
          "creative",
          "playful",
          "compassionate",
          "inspiring",
          "organized",
          "patient",
          "motivating",
          "intelligent",
          "caring",
          "humourous",
          "understanding",
          "respectful",
          "friendly"
         ],
         "yaxis": "y"
        }
       ],
       "layout": {
        "barmode": "relative",
        "height": 800,
        "legend": {
         "tracegroupgap": 0
        },
        "template": {
         "data": {
          "bar": [
           {
            "error_x": {
             "color": "#2a3f5f"
            },
            "error_y": {
             "color": "#2a3f5f"
            },
            "marker": {
             "line": {
              "color": "#E5ECF6",
              "width": 0.5
             },
             "pattern": {
              "fillmode": "overlay",
              "size": 10,
              "solidity": 0.2
             }
            },
            "type": "bar"
           }
          ],
          "barpolar": [
           {
            "marker": {
             "line": {
              "color": "#E5ECF6",
              "width": 0.5
             },
             "pattern": {
              "fillmode": "overlay",
              "size": 10,
              "solidity": 0.2
             }
            },
            "type": "barpolar"
           }
          ],
          "carpet": [
           {
            "aaxis": {
             "endlinecolor": "#2a3f5f",
             "gridcolor": "white",
             "linecolor": "white",
             "minorgridcolor": "white",
             "startlinecolor": "#2a3f5f"
            },
            "baxis": {
             "endlinecolor": "#2a3f5f",
             "gridcolor": "white",
             "linecolor": "white",
             "minorgridcolor": "white",
             "startlinecolor": "#2a3f5f"
            },
            "type": "carpet"
           }
          ],
          "choropleth": [
           {
            "colorbar": {
             "outlinewidth": 0,
             "ticks": ""
            },
            "type": "choropleth"
           }
          ],
          "contour": [
           {
            "colorbar": {
             "outlinewidth": 0,
             "ticks": ""
            },
            "colorscale": [
             [
              0,
              "#0d0887"
             ],
             [
              0.1111111111111111,
              "#46039f"
             ],
             [
              0.2222222222222222,
              "#7201a8"
             ],
             [
              0.3333333333333333,
              "#9c179e"
             ],
             [
              0.4444444444444444,
              "#bd3786"
             ],
             [
              0.5555555555555556,
              "#d8576b"
             ],
             [
              0.6666666666666666,
              "#ed7953"
             ],
             [
              0.7777777777777778,
              "#fb9f3a"
             ],
             [
              0.8888888888888888,
              "#fdca26"
             ],
             [
              1,
              "#f0f921"
             ]
            ],
            "type": "contour"
           }
          ],
          "contourcarpet": [
           {
            "colorbar": {
             "outlinewidth": 0,
             "ticks": ""
            },
            "type": "contourcarpet"
           }
          ],
          "heatmap": [
           {
            "colorbar": {
             "outlinewidth": 0,
             "ticks": ""
            },
            "colorscale": [
             [
              0,
              "#0d0887"
             ],
             [
              0.1111111111111111,
              "#46039f"
             ],
             [
              0.2222222222222222,
              "#7201a8"
             ],
             [
              0.3333333333333333,
              "#9c179e"
             ],
             [
              0.4444444444444444,
              "#bd3786"
             ],
             [
              0.5555555555555556,
              "#d8576b"
             ],
             [
              0.6666666666666666,
              "#ed7953"
             ],
             [
              0.7777777777777778,
              "#fb9f3a"
             ],
             [
              0.8888888888888888,
              "#fdca26"
             ],
             [
              1,
              "#f0f921"
             ]
            ],
            "type": "heatmap"
           }
          ],
          "heatmapgl": [
           {
            "colorbar": {
             "outlinewidth": 0,
             "ticks": ""
            },
            "colorscale": [
             [
              0,
              "#0d0887"
             ],
             [
              0.1111111111111111,
              "#46039f"
             ],
             [
              0.2222222222222222,
              "#7201a8"
             ],
             [
              0.3333333333333333,
              "#9c179e"
             ],
             [
              0.4444444444444444,
              "#bd3786"
             ],
             [
              0.5555555555555556,
              "#d8576b"
             ],
             [
              0.6666666666666666,
              "#ed7953"
             ],
             [
              0.7777777777777778,
              "#fb9f3a"
             ],
             [
              0.8888888888888888,
              "#fdca26"
             ],
             [
              1,
              "#f0f921"
             ]
            ],
            "type": "heatmapgl"
           }
          ],
          "histogram": [
           {
            "marker": {
             "pattern": {
              "fillmode": "overlay",
              "size": 10,
              "solidity": 0.2
             }
            },
            "type": "histogram"
           }
          ],
          "histogram2d": [
           {
            "colorbar": {
             "outlinewidth": 0,
             "ticks": ""
            },
            "colorscale": [
             [
              0,
              "#0d0887"
             ],
             [
              0.1111111111111111,
              "#46039f"
             ],
             [
              0.2222222222222222,
              "#7201a8"
             ],
             [
              0.3333333333333333,
              "#9c179e"
             ],
             [
              0.4444444444444444,
              "#bd3786"
             ],
             [
              0.5555555555555556,
              "#d8576b"
             ],
             [
              0.6666666666666666,
              "#ed7953"
             ],
             [
              0.7777777777777778,
              "#fb9f3a"
             ],
             [
              0.8888888888888888,
              "#fdca26"
             ],
             [
              1,
              "#f0f921"
             ]
            ],
            "type": "histogram2d"
           }
          ],
          "histogram2dcontour": [
           {
            "colorbar": {
             "outlinewidth": 0,
             "ticks": ""
            },
            "colorscale": [
             [
              0,
              "#0d0887"
             ],
             [
              0.1111111111111111,
              "#46039f"
             ],
             [
              0.2222222222222222,
              "#7201a8"
             ],
             [
              0.3333333333333333,
              "#9c179e"
             ],
             [
              0.4444444444444444,
              "#bd3786"
             ],
             [
              0.5555555555555556,
              "#d8576b"
             ],
             [
              0.6666666666666666,
              "#ed7953"
             ],
             [
              0.7777777777777778,
              "#fb9f3a"
             ],
             [
              0.8888888888888888,
              "#fdca26"
             ],
             [
              1,
              "#f0f921"
             ]
            ],
            "type": "histogram2dcontour"
           }
          ],
          "mesh3d": [
           {
            "colorbar": {
             "outlinewidth": 0,
             "ticks": ""
            },
            "type": "mesh3d"
           }
          ],
          "parcoords": [
           {
            "line": {
             "colorbar": {
              "outlinewidth": 0,
              "ticks": ""
             }
            },
            "type": "parcoords"
           }
          ],
          "pie": [
           {
            "automargin": true,
            "type": "pie"
           }
          ],
          "scatter": [
           {
            "fillpattern": {
             "fillmode": "overlay",
             "size": 10,
             "solidity": 0.2
            },
            "type": "scatter"
           }
          ],
          "scatter3d": [
           {
            "line": {
             "colorbar": {
              "outlinewidth": 0,
              "ticks": ""
             }
            },
            "marker": {
             "colorbar": {
              "outlinewidth": 0,
              "ticks": ""
             }
            },
            "type": "scatter3d"
           }
          ],
          "scattercarpet": [
           {
            "marker": {
             "colorbar": {
              "outlinewidth": 0,
              "ticks": ""
             }
            },
            "type": "scattercarpet"
           }
          ],
          "scattergeo": [
           {
            "marker": {
             "colorbar": {
              "outlinewidth": 0,
              "ticks": ""
             }
            },
            "type": "scattergeo"
           }
          ],
          "scattergl": [
           {
            "marker": {
             "colorbar": {
              "outlinewidth": 0,
              "ticks": ""
             }
            },
            "type": "scattergl"
           }
          ],
          "scattermapbox": [
           {
            "marker": {
             "colorbar": {
              "outlinewidth": 0,
              "ticks": ""
             }
            },
            "type": "scattermapbox"
           }
          ],
          "scatterpolar": [
           {
            "marker": {
             "colorbar": {
              "outlinewidth": 0,
              "ticks": ""
             }
            },
            "type": "scatterpolar"
           }
          ],
          "scatterpolargl": [
           {
            "marker": {
             "colorbar": {
              "outlinewidth": 0,
              "ticks": ""
             }
            },
            "type": "scatterpolargl"
           }
          ],
          "scatterternary": [
           {
            "marker": {
             "colorbar": {
              "outlinewidth": 0,
              "ticks": ""
             }
            },
            "type": "scatterternary"
           }
          ],
          "surface": [
           {
            "colorbar": {
             "outlinewidth": 0,
             "ticks": ""
            },
            "colorscale": [
             [
              0,
              "#0d0887"
             ],
             [
              0.1111111111111111,
              "#46039f"
             ],
             [
              0.2222222222222222,
              "#7201a8"
             ],
             [
              0.3333333333333333,
              "#9c179e"
             ],
             [
              0.4444444444444444,
              "#bd3786"
             ],
             [
              0.5555555555555556,
              "#d8576b"
             ],
             [
              0.6666666666666666,
              "#ed7953"
             ],
             [
              0.7777777777777778,
              "#fb9f3a"
             ],
             [
              0.8888888888888888,
              "#fdca26"
             ],
             [
              1,
              "#f0f921"
             ]
            ],
            "type": "surface"
           }
          ],
          "table": [
           {
            "cells": {
             "fill": {
              "color": "#EBF0F8"
             },
             "line": {
              "color": "white"
             }
            },
            "header": {
             "fill": {
              "color": "#C8D4E3"
             },
             "line": {
              "color": "white"
             }
            },
            "type": "table"
           }
          ]
         },
         "layout": {
          "annotationdefaults": {
           "arrowcolor": "#2a3f5f",
           "arrowhead": 0,
           "arrowwidth": 1
          },
          "autotypenumbers": "strict",
          "coloraxis": {
           "colorbar": {
            "outlinewidth": 0,
            "ticks": ""
           }
          },
          "colorscale": {
           "diverging": [
            [
             0,
             "#8e0152"
            ],
            [
             0.1,
             "#c51b7d"
            ],
            [
             0.2,
             "#de77ae"
            ],
            [
             0.3,
             "#f1b6da"
            ],
            [
             0.4,
             "#fde0ef"
            ],
            [
             0.5,
             "#f7f7f7"
            ],
            [
             0.6,
             "#e6f5d0"
            ],
            [
             0.7,
             "#b8e186"
            ],
            [
             0.8,
             "#7fbc41"
            ],
            [
             0.9,
             "#4d9221"
            ],
            [
             1,
             "#276419"
            ]
           ],
           "sequential": [
            [
             0,
             "#0d0887"
            ],
            [
             0.1111111111111111,
             "#46039f"
            ],
            [
             0.2222222222222222,
             "#7201a8"
            ],
            [
             0.3333333333333333,
             "#9c179e"
            ],
            [
             0.4444444444444444,
             "#bd3786"
            ],
            [
             0.5555555555555556,
             "#d8576b"
            ],
            [
             0.6666666666666666,
             "#ed7953"
            ],
            [
             0.7777777777777778,
             "#fb9f3a"
            ],
            [
             0.8888888888888888,
             "#fdca26"
            ],
            [
             1,
             "#f0f921"
            ]
           ],
           "sequentialminus": [
            [
             0,
             "#0d0887"
            ],
            [
             0.1111111111111111,
             "#46039f"
            ],
            [
             0.2222222222222222,
             "#7201a8"
            ],
            [
             0.3333333333333333,
             "#9c179e"
            ],
            [
             0.4444444444444444,
             "#bd3786"
            ],
            [
             0.5555555555555556,
             "#d8576b"
            ],
            [
             0.6666666666666666,
             "#ed7953"
            ],
            [
             0.7777777777777778,
             "#fb9f3a"
            ],
            [
             0.8888888888888888,
             "#fdca26"
            ],
            [
             1,
             "#f0f921"
            ]
           ]
          },
          "colorway": [
           "#636efa",
           "#EF553B",
           "#00cc96",
           "#ab63fa",
           "#FFA15A",
           "#19d3f3",
           "#FF6692",
           "#B6E880",
           "#FF97FF",
           "#FECB52"
          ],
          "font": {
           "color": "#2a3f5f"
          },
          "geo": {
           "bgcolor": "white",
           "lakecolor": "white",
           "landcolor": "#E5ECF6",
           "showlakes": true,
           "showland": true,
           "subunitcolor": "white"
          },
          "hoverlabel": {
           "align": "left"
          },
          "hovermode": "closest",
          "mapbox": {
           "style": "light"
          },
          "paper_bgcolor": "white",
          "plot_bgcolor": "#E5ECF6",
          "polar": {
           "angularaxis": {
            "gridcolor": "white",
            "linecolor": "white",
            "ticks": ""
           },
           "bgcolor": "#E5ECF6",
           "radialaxis": {
            "gridcolor": "white",
            "linecolor": "white",
            "ticks": ""
           }
          },
          "scene": {
           "xaxis": {
            "backgroundcolor": "#E5ECF6",
            "gridcolor": "white",
            "gridwidth": 2,
            "linecolor": "white",
            "showbackground": true,
            "ticks": "",
            "zerolinecolor": "white"
           },
           "yaxis": {
            "backgroundcolor": "#E5ECF6",
            "gridcolor": "white",
            "gridwidth": 2,
            "linecolor": "white",
            "showbackground": true,
            "ticks": "",
            "zerolinecolor": "white"
           },
           "zaxis": {
            "backgroundcolor": "#E5ECF6",
            "gridcolor": "white",
            "gridwidth": 2,
            "linecolor": "white",
            "showbackground": true,
            "ticks": "",
            "zerolinecolor": "white"
           }
          },
          "shapedefaults": {
           "line": {
            "color": "#2a3f5f"
           }
          },
          "ternary": {
           "aaxis": {
            "gridcolor": "white",
            "linecolor": "white",
            "ticks": ""
           },
           "baxis": {
            "gridcolor": "white",
            "linecolor": "white",
            "ticks": ""
           },
           "bgcolor": "#E5ECF6",
           "caxis": {
            "gridcolor": "white",
            "linecolor": "white",
            "ticks": ""
           }
          },
          "title": {
           "x": 0.05
          },
          "xaxis": {
           "automargin": true,
           "gridcolor": "white",
           "linecolor": "white",
           "ticks": "",
           "title": {
            "standoff": 15
           },
           "zerolinecolor": "white",
           "zerolinewidth": 2
          },
          "yaxis": {
           "automargin": true,
           "gridcolor": "white",
           "linecolor": "white",
           "ticks": "",
           "title": {
            "standoff": 15
           },
           "zerolinecolor": "white",
           "zerolinewidth": 2
          }
         }
        },
        "title": {
         "text": "What makes your teacher a 'Favourite Teacher'?",
         "x": 0.5
        },
        "width": 800,
        "xaxis": {
         "anchor": "y",
         "autorange": true,
         "domain": [
          0,
          1
         ],
         "range": [
          0,
          69.47368421052632
         ],
         "title": {
          "text": "Count"
         },
         "type": "linear"
        },
        "yaxis": {
         "anchor": "x",
         "autorange": true,
         "domain": [
          0,
          1
         ],
         "range": [
          -0.5,
          23.5
         ],
         "title": {
          "text": "Characteristic"
         },
         "type": "category"
        }
       }
      },
      "image/png": "[encoded data removed]",
      "text/html": [
       "<div>                            <div id=\"6d8cd913-e775-4ade-8e5e-299eb60d9cf4\" class=\"plotly-graph-div\" style=\"height:800px; width:800px;\"></div>            <script type=\"text/javascript\">                require([\"plotly\"], function(Plotly) {                    window.PLOTLYENV=window.PLOTLYENV || {};                                    if (document.getElementById(\"6d8cd913-e775-4ade-8e5e-299eb60d9cf4\")) {                    Plotly.newPlot(                        \"6d8cd913-e775-4ade-8e5e-299eb60d9cf4\",                        [{\"alignmentgroup\":\"True\",\"hovertemplate\":\"Count=%{x}<br>Characteristic=%{y}<extra></extra>\",\"legendgroup\":\"\",\"marker\":{\"color\":\"#636efa\",\"pattern\":{\"shape\":\"\"}},\"name\":\"\",\"offsetgroup\":\"\",\"orientation\":\"h\",\"showlegend\":false,\"textposition\":\"auto\",\"texttemplate\":\"%{x:.2s}\",\"x\":[13,14,24,26,26,31,34,34,37,38,41,41,41,43,44,45,46,48,49,53,53,58,58,66],\"xaxis\":\"x\",\"y\":[\"technological\",\"meticulous\",\"diligent\",\"eager\",\"insightful\",\"sincere\",\"committed\",\"wise\",\"enthusiastic\",\"dedicated\",\"generous\",\"creative\",\"playful\",\"compassionate\",\"inspiring\",\"organized\",\"patient\",\"motivating\",\"intelligent\",\"caring\",\"humourous\",\"understanding\",\"respectful\",\"friendly\"],\"yaxis\":\"y\",\"type\":\"bar\"}],                        {\"template\":{\"data\":{\"histogram2dcontour\":[{\"type\":\"histogram2dcontour\",\"colorbar\":{\"outlinewidth\":0,\"ticks\":\"\"},\"colorscale\":[[0.0,\"#0d0887\"],[0.1111111111111111,\"#46039f\"],[0.2222222222222222,\"#7201a8\"],[0.3333333333333333,\"#9c179e\"],[0.4444444444444444,\"#bd3786\"],[0.5555555555555556,\"#d8576b\"],[0.6666666666666666,\"#ed7953\"],[0.7777777777777778,\"#fb9f3a\"],[0.8888888888888888,\"#fdca26\"],[1.0,\"#f0f921\"]]}],\"choropleth\":[{\"type\":\"choropleth\",\"colorbar\":{\"outlinewidth\":0,\"ticks\":\"\"}}],\"histogram2d\":[{\"type\":\"histogram2d\",\"colorbar\":{\"outlinewidth\":0,\"ticks\":\"\"},\"colorscale\":[[0.0,\"#0d0887\"],[0.1111111111111111,\"#46039f\"],[0.2222222222222222,\"#7201a8\"],[0.3333333333333333,\"#9c179e\"],[0.4444444444444444,\"#bd3786\"],[0.5555555555555556,\"#d8576b\"],[0.6666666666666666,\"#ed7953\"],[0.7777777777777778,\"#fb9f3a\"],[0.8888888888888888,\"#fdca26\"],[1.0,\"#f0f921\"]]}],\"heatmap\":[{\"type\":\"heatmap\",\"colorbar\":{\"outlinewidth\":0,\"ticks\":\"\"},\"colorscale\":[[0.0,\"#0d0887\"],[0.1111111111111111,\"#46039f\"],[0.2222222222222222,\"#7201a8\"],[0.3333333333333333,\"#9c179e\"],[0.4444444444444444,\"#bd3786\"],[0.5555555555555556,\"#d8576b\"],[0.6666666666666666,\"#ed7953\"],[0.7777777777777778,\"#fb9f3a\"],[0.8888888888888888,\"#fdca26\"],[1.0,\"#f0f921\"]]}],\"heatmapgl\":[{\"type\":\"heatmapgl\",\"colorbar\":{\"outlinewidth\":0,\"ticks\":\"\"},\"colorscale\":[[0.0,\"#0d0887\"],[0.1111111111111111,\"#46039f\"],[0.2222222222222222,\"#7201a8\"],[0.3333333333333333,\"#9c179e\"],[0.4444444444444444,\"#bd3786\"],[0.5555555555555556,\"#d8576b\"],[0.6666666666666666,\"#ed7953\"],[0.7777777777777778,\"#fb9f3a\"],[0.8888888888888888,\"#fdca26\"],[1.0,\"#f0f921\"]]}],\"contourcarpet\":[{\"type\":\"contourcarpet\",\"colorbar\":{\"outlinewidth\":0,\"ticks\":\"\"}}],\"contour\":[{\"type\":\"contour\",\"colorbar\":{\"outlinewidth\":0,\"ticks\":\"\"},\"colorscale\":[[0.0,\"#0d0887\"],[0.1111111111111111,\"#46039f\"],[0.2222222222222222,\"#7201a8\"],[0.3333333333333333,\"#9c179e\"],[0.4444444444444444,\"#bd3786\"],[0.5555555555555556,\"#d8576b\"],[0.6666666666666666,\"#ed7953\"],[0.7777777777777778,\"#fb9f3a\"],[0.8888888888888888,\"#fdca26\"],[1.0,\"#f0f921\"]]}],\"surface\":[{\"type\":\"surface\",\"colorbar\":{\"outlinewidth\":0,\"ticks\":\"\"},\"colorscale\":[[0.0,\"#0d0887\"],[0.1111111111111111,\"#46039f\"],[0.2222222222222222,\"#7201a8\"],[0.3333333333333333,\"#9c179e\"],[0.4444444444444444,\"#bd3786\"],[0.5555555555555556,\"#d8576b\"],[0.6666666666666666,\"#ed7953\"],[0.7777777777777778,\"#fb9f3a\"],[0.8888888888888888,\"#fdca26\"],[1.0,\"#f0f921\"]]}],\"mesh3d\":[{\"type\":\"mesh3d\",\"colorbar\":{\"outlinewidth\":0,\"ticks\":\"\"}}],\"scatter\":[{\"fillpattern\":{\"fillmode\":\"overlay\",\"size\":10,\"solidity\":0.2},\"type\":\"scatter\"}],\"parcoords\":[{\"type\":\"parcoords\",\"line\":{\"colorbar\":{\"outlinewidth\":0,\"ticks\":\"\"}}}],\"scatterpolargl\":[{\"type\":\"scatterpolargl\",\"marker\":{\"colorbar\":{\"outlinewidth\":0,\"ticks\":\"\"}}}],\"bar\":[{\"error_x\":{\"color\":\"#2a3f5f\"},\"error_y\":{\"color\":\"#2a3f5f\"},\"marker\":{\"line\":{\"color\":\"#E5ECF6\",\"width\":0.5},\"pattern\":{\"fillmode\":\"overlay\",\"size\":10,\"solidity\":0.2}},\"type\":\"bar\"}],\"scattergeo\":[{\"type\":\"scattergeo\",\"marker\":{\"colorbar\":{\"outlinewidth\":0,\"ticks\":\"\"}}}],\"scatterpolar\":[{\"type\":\"scatterpolar\",\"marker\":{\"colorbar\":{\"outlinewidth\":0,\"ticks\":\"\"}}}],\"histogram\":[{\"marker\":{\"pattern\":{\"fillmode\":\"overlay\",\"size\":10,\"solidity\":0.2}},\"type\":\"histogram\"}],\"scattergl\":[{\"type\":\"scattergl\",\"marker\":{\"colorbar\":{\"outlinewidth\":0,\"ticks\":\"\"}}}],\"scatter3d\":[{\"type\":\"scatter3d\",\"line\":{\"colorbar\":{\"outlinewidth\":0,\"ticks\":\"\"}},\"marker\":{\"colorbar\":{\"outlinewidth\":0,\"ticks\":\"\"}}}],\"scattermapbox\":[{\"type\":\"scattermapbox\",\"marker\":{\"colorbar\":{\"outlinewidth\":0,\"ticks\":\"\"}}}],\"scatterternary\":[{\"type\":\"scatterternary\",\"marker\":{\"colorbar\":{\"outlinewidth\":0,\"ticks\":\"\"}}}],\"scattercarpet\":[{\"type\":\"scattercarpet\",\"marker\":{\"colorbar\":{\"outlinewidth\":0,\"ticks\":\"\"}}}],\"carpet\":[{\"aaxis\":{\"endlinecolor\":\"#2a3f5f\",\"gridcolor\":\"white\",\"linecolor\":\"white\",\"minorgridcolor\":\"white\",\"startlinecolor\":\"#2a3f5f\"},\"baxis\":{\"endlinecolor\":\"#2a3f5f\",\"gridcolor\":\"white\",\"linecolor\":\"white\",\"minorgridcolor\":\"white\",\"startlinecolor\":\"#2a3f5f\"},\"type\":\"carpet\"}],\"table\":[{\"cells\":{\"fill\":{\"color\":\"#EBF0F8\"},\"line\":{\"color\":\"white\"}},\"header\":{\"fill\":{\"color\":\"#C8D4E3\"},\"line\":{\"color\":\"white\"}},\"type\":\"table\"}],\"barpolar\":[{\"marker\":{\"line\":{\"color\":\"#E5ECF6\",\"width\":0.5},\"pattern\":{\"fillmode\":\"overlay\",\"size\":10,\"solidity\":0.2}},\"type\":\"barpolar\"}],\"pie\":[{\"automargin\":true,\"type\":\"pie\"}]},\"layout\":{\"autotypenumbers\":\"strict\",\"colorway\":[\"#636efa\",\"#EF553B\",\"#00cc96\",\"#ab63fa\",\"#FFA15A\",\"#19d3f3\",\"#FF6692\",\"#B6E880\",\"#FF97FF\",\"#FECB52\"],\"font\":{\"color\":\"#2a3f5f\"},\"hovermode\":\"closest\",\"hoverlabel\":{\"align\":\"left\"},\"paper_bgcolor\":\"white\",\"plot_bgcolor\":\"#E5ECF6\",\"polar\":{\"bgcolor\":\"#E5ECF6\",\"angularaxis\":{\"gridcolor\":\"white\",\"linecolor\":\"white\",\"ticks\":\"\"},\"radialaxis\":{\"gridcolor\":\"white\",\"linecolor\":\"white\",\"ticks\":\"\"}},\"ternary\":{\"bgcolor\":\"#E5ECF6\",\"aaxis\":{\"gridcolor\":\"white\",\"linecolor\":\"white\",\"ticks\":\"\"},\"baxis\":{\"gridcolor\":\"white\",\"linecolor\":\"white\",\"ticks\":\"\"},\"caxis\":{\"gridcolor\":\"white\",\"linecolor\":\"white\",\"ticks\":\"\"}},\"coloraxis\":{\"colorbar\":{\"outlinewidth\":0,\"ticks\":\"\"}},\"colorscale\":{\"sequential\":[[0.0,\"#0d0887\"],[0.1111111111111111,\"#46039f\"],[0.2222222222222222,\"#7201a8\"],[0.3333333333333333,\"#9c179e\"],[0.4444444444444444,\"#bd3786\"],[0.5555555555555556,\"#d8576b\"],[0.6666666666666666,\"#ed7953\"],[0.7777777777777778,\"#fb9f3a\"],[0.8888888888888888,\"#fdca26\"],[1.0,\"#f0f921\"]],\"sequentialminus\":[[0.0,\"#0d0887\"],[0.1111111111111111,\"#46039f\"],[0.2222222222222222,\"#7201a8\"],[0.3333333333333333,\"#9c179e\"],[0.4444444444444444,\"#bd3786\"],[0.5555555555555556,\"#d8576b\"],[0.6666666666666666,\"#ed7953\"],[0.7777777777777778,\"#fb9f3a\"],[0.8888888888888888,\"#fdca26\"],[1.0,\"#f0f921\"]],\"diverging\":[[0,\"#8e0152\"],[0.1,\"#c51b7d\"],[0.2,\"#de77ae\"],[0.3,\"#f1b6da\"],[0.4,\"#fde0ef\"],[0.5,\"#f7f7f7\"],[0.6,\"#e6f5d0\"],[0.7,\"#b8e186\"],[0.8,\"#7fbc41\"],[0.9,\"#4d9221\"],[1,\"#276419\"]]},\"xaxis\":{\"gridcolor\":\"white\",\"linecolor\":\"white\",\"ticks\":\"\",\"title\":{\"standoff\":15},\"zerolinecolor\":\"white\",\"automargin\":true,\"zerolinewidth\":2},\"yaxis\":{\"gridcolor\":\"white\",\"linecolor\":\"white\",\"ticks\":\"\",\"title\":{\"standoff\":15},\"zerolinecolor\":\"white\",\"automargin\":true,\"zerolinewidth\":2},\"scene\":{\"xaxis\":{\"backgroundcolor\":\"#E5ECF6\",\"gridcolor\":\"white\",\"linecolor\":\"white\",\"showbackground\":true,\"ticks\":\"\",\"zerolinecolor\":\"white\",\"gridwidth\":2},\"yaxis\":{\"backgroundcolor\":\"#E5ECF6\",\"gridcolor\":\"white\",\"linecolor\":\"white\",\"showbackground\":true,\"ticks\":\"\",\"zerolinecolor\":\"white\",\"gridwidth\":2},\"zaxis\":{\"backgroundcolor\":\"#E5ECF6\",\"gridcolor\":\"white\",\"linecolor\":\"white\",\"showbackground\":true,\"ticks\":\"\",\"zerolinecolor\":\"white\",\"gridwidth\":2}},\"shapedefaults\":{\"line\":{\"color\":\"#2a3f5f\"}},\"annotationdefaults\":{\"arrowcolor\":\"#2a3f5f\",\"arrowhead\":0,\"arrowwidth\":1},\"geo\":{\"bgcolor\":\"white\",\"landcolor\":\"#E5ECF6\",\"subunitcolor\":\"white\",\"showland\":true,\"showlakes\":true,\"lakecolor\":\"white\"},\"title\":{\"x\":0.05},\"mapbox\":{\"style\":\"light\"}}},\"xaxis\":{\"anchor\":\"y\",\"domain\":[0.0,1.0],\"title\":{\"text\":\"Count\"}},\"yaxis\":{\"anchor\":\"x\",\"domain\":[0.0,1.0],\"title\":{\"text\":\"Characteristic\"}},\"legend\":{\"tracegroupgap\":0},\"title\":{\"text\":\"What makes your teacher a 'Favourite Teacher'?\",\"x\":0.5},\"barmode\":\"relative\",\"width\":800,\"height\":800},                        {\"responsive\": true}                    ).then(function(){\n",
       "                            \n",
       "var gd = document.getElementById('6d8cd913-e775-4ade-8e5e-299eb60d9cf4');\n",
       "var x = new MutationObserver(function (mutations, observer) {{\n",
       "        var display = window.getComputedStyle(gd).display;\n",
       "        if (!display || display === 'none') {{\n",
       "            console.log([gd, 'removed!']);\n",
       "            Plotly.purge(gd);\n",
       "            observer.disconnect();\n",
       "        }}\n",
       "}});\n",
       "\n",
       "// Listen for the removal of the full notebook cells\n",
       "var notebookContainer = gd.closest('#notebook-container');\n",
       "if (notebookContainer) {{\n",
       "    x.observe(notebookContainer, {childList: true});\n",
       "}}\n",
       "\n",
       "// Listen for the clearing of the current output cell\n",
       "var outputEl = gd.closest('.output');\n",
       "if (outputEl) {{\n",
       "    x.observe(outputEl, {childList: true});\n",
       "}}\n",
       "\n",
       "                        })                };                });            </script>        </div>"
      ]
     },
     "metadata": {},
     "output_type": "display_data"
    }
   ],
   "source": [
    "student_bar = px.bar(count_df, x=\"Count\", y=\"Characteristic\", \n",
    "                     title=\"What makes your teacher a 'Favourite Teacher'?\", text_auto='.2s')\n",
    "student_bar.update_layout(width=800, height=800, title=dict(x=0.5))\n",
    "student_bar.show()"
   ]
  },
  {
   "cell_type": "markdown",
   "metadata": {},
   "source": [
    "#### WordCloud\n",
    "Worldcloud images are generated based on student answers to the following questions:\n",
    "- What makes your favourite teacher *favourite*?\n",
    "- What *impact* did they have on you?\n",
    "- What makes them *unique*?\n",
    "\n",
    "To generate a meaningful wordcloud image, we extracted all **adjectives** from student comments and created our images based on that."
   ]
  },
  {
   "cell_type": "code",
   "execution_count": 65,
   "metadata": {},
   "outputs": [
    {
     "name": "stdout",
     "output_type": "stream",
     "text": [
      "Displaying word cloud for Favourite.\n"
     ]
    },
    {
     "data": {
      "image/png": "[encoded data removed]",
      "text/plain": [
       "<Figure size 720x720 with 1 Axes>"
      ]
     },
     "metadata": {
      "needs_background": "light"
     },
     "output_type": "display_data"
    },
    {
     "name": "stdout",
     "output_type": "stream",
     "text": [
      "Displaying word cloud for Impact.\n"
     ]
    },
    {
     "data": {
      "image/png": "[encoded data removed]",
      "text/plain": [
       "<Figure size 720x720 with 1 Axes>"
      ]
     },
     "metadata": {
      "needs_background": "light"
     },
     "output_type": "display_data"
    },
    {
     "name": "stdout",
     "output_type": "stream",
     "text": [
      "Displaying word cloud for Unique.\n"
     ]
    },
    {
     "data": {
      "image/png": "[encoded data removed]",
      "text/plain": [
       "<Figure size 720x720 with 1 Axes>"
      ]
     },
     "metadata": {
      "needs_background": "light"
     },
     "output_type": "display_data"
    }
   ],
   "source": [
    "def create_wordcloud(df, col):\n",
    "    print(f\"Displaying word cloud for {col}.\")\n",
    "    all_text =  \" \".join(text for text in df[col] if nltk.pos_tag([text])[0][1] == \"JJ\")\n",
    "    stopwords = list(STOPWORDS) + [\"teacher\", \"teachers\", \"students\", \"make\", \"class\"]\n",
    "    word_cloud = WordCloud(stopwords=stopwords, background_color=\"white\").generate(all_text)\n",
    "\n",
    "    plt.figure(figsize=(10,10))\n",
    "    plt.imshow(word_cloud, interpolation=\"bilinear\")\n",
    "    plt.axis(\"off\")\n",
    "    plt.show()\n",
    "    \n",
    "for column in col_list:\n",
    "    create_wordcloud(student_df, column)"
   ]
  },
  {
   "cell_type": "markdown",
   "metadata": {},
   "source": [
    "# Communicate\n",
    "Below are some writing prompts to help you reflect on the new information that is presented from the data. When we look at the evidence, think about what you perceive about the information. Is this perception based on what the evidence shows? If others were to view it, what perceptions might they have?\n",
    "\n",
    "- I used to think ____________________ but now I think ____________________. \n",
    "- I wish I knew more about ____________________. \n",
    "- This visualization reminds me of ____________________. \n",
    "- I really like ____________________."
   ]
  },
  {
   "cell_type": "markdown",
   "metadata": {},
   "source": [
    "[![Callysto.ca License](https://github.com/callysto/curriculum-notebooks/blob/master/callysto-notebook-banner-bottom.jpg?raw=true)](https://github.com/callysto/curriculum-notebooks/blob/master/LICENSE.md)"
   ]
  }
 ],
 "metadata": {
  "kernelspec": {
   "display_name": "Python 3 (ipykernel)",
   "language": "python",
   "name": "python3"
  },
  "language_info": {
   "codemirror_mode": {
    "name": "ipython",
    "version": 3
   },
   "file_extension": ".py",
   "mimetype": "text/x-python",
   "name": "python",
   "nbconvert_exporter": "python",
   "pygments_lexer": "ipython3",
   "version": "3.9.12"
  }
 },
 "nbformat": 4,
 "nbformat_minor": 4
}
