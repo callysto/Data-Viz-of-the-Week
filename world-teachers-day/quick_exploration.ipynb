{
 "cells": [
  {
   "cell_type": "code",
   "execution_count": 65,
   "metadata": {},
   "outputs": [],
   "source": [
    "import pandas as pd\n",
    "import numpy as np\n",
    "import plotly.express as px\n",
    "import plotly.graph_objects as go\n",
    "from os import listdir\n",
    "import os"
   ]
  },
  {
   "cell_type": "code",
   "execution_count": 66,
   "metadata": {},
   "outputs": [],
   "source": [
    "def organize_df(df):\n",
    "    df[\"Year\"] = df[\"REF_DATE\"].str.split(\"/\").str[-1]\n",
    "    df[\"Year\"] = pd.DatetimeIndex(df[\"Year\"]).year\n",
    "    df = df[df[\"GEO\"] != \"Canada\"]\n",
    "    return df"
   ]
  },
  {
   "cell_type": "code",
   "execution_count": 67,
   "metadata": {},
   "outputs": [],
   "source": [
    "male = pd.read_csv(\"data/male_teacher_count.csv\")\n",
    "female = pd.read_csv(\"data/female_teacher_count.csv\")\n",
    "all = pd.read_csv(\"data/teacher_count.csv\")"
   ]
  },
  {
   "cell_type": "code",
   "execution_count": 68,
   "metadata": {},
   "outputs": [
    {
     "data": {
      "text/html": [
       "<div>\n",
       "<style scoped>\n",
       "    .dataframe tbody tr th:only-of-type {\n",
       "        vertical-align: middle;\n",
       "    }\n",
       "\n",
       "    .dataframe tbody tr th {\n",
       "        vertical-align: top;\n",
       "    }\n",
       "\n",
       "    .dataframe thead th {\n",
       "        text-align: right;\n",
       "    }\n",
       "</style>\n",
       "<table border=\"1\" class=\"dataframe\">\n",
       "  <thead>\n",
       "    <tr style=\"text-align: right;\">\n",
       "      <th></th>\n",
       "      <th>REF_DATE</th>\n",
       "      <th>GEO</th>\n",
       "      <th>DGUID</th>\n",
       "      <th>Work status</th>\n",
       "      <th>Age group</th>\n",
       "      <th>Sex</th>\n",
       "      <th>UOM</th>\n",
       "      <th>UOM_ID</th>\n",
       "      <th>SCALAR_FACTOR</th>\n",
       "      <th>SCALAR_ID</th>\n",
       "      <th>VECTOR</th>\n",
       "      <th>COORDINATE</th>\n",
       "      <th>Count</th>\n",
       "      <th>STATUS</th>\n",
       "      <th>SYMBOL</th>\n",
       "      <th>TERMINATED</th>\n",
       "      <th>DECIMALS</th>\n",
       "      <th>Year</th>\n",
       "    </tr>\n",
       "  </thead>\n",
       "  <tbody>\n",
       "    <tr>\n",
       "      <th>15</th>\n",
       "      <td>2002/2003</td>\n",
       "      <td>Newfoundland and Labrador</td>\n",
       "      <td>2016A000210</td>\n",
       "      <td>All educators</td>\n",
       "      <td>All ages</td>\n",
       "      <td>Both sexes</td>\n",
       "      <td>Number</td>\n",
       "      <td>223</td>\n",
       "      <td>units</td>\n",
       "      <td>0</td>\n",
       "      <td>v65932896</td>\n",
       "      <td>2.1.1.1</td>\n",
       "      <td>8034.0</td>\n",
       "      <td>NaN</td>\n",
       "      <td>NaN</td>\n",
       "      <td>NaN</td>\n",
       "      <td>0</td>\n",
       "      <td>2003</td>\n",
       "    </tr>\n",
       "    <tr>\n",
       "      <th>16</th>\n",
       "      <td>2003/2004</td>\n",
       "      <td>Newfoundland and Labrador</td>\n",
       "      <td>2016A000210</td>\n",
       "      <td>All educators</td>\n",
       "      <td>All ages</td>\n",
       "      <td>Both sexes</td>\n",
       "      <td>Number</td>\n",
       "      <td>223</td>\n",
       "      <td>units</td>\n",
       "      <td>0</td>\n",
       "      <td>v65932896</td>\n",
       "      <td>2.1.1.1</td>\n",
       "      <td>7920.0</td>\n",
       "      <td>NaN</td>\n",
       "      <td>NaN</td>\n",
       "      <td>NaN</td>\n",
       "      <td>0</td>\n",
       "      <td>2004</td>\n",
       "    </tr>\n",
       "    <tr>\n",
       "      <th>17</th>\n",
       "      <td>2004/2005</td>\n",
       "      <td>Newfoundland and Labrador</td>\n",
       "      <td>2016A000210</td>\n",
       "      <td>All educators</td>\n",
       "      <td>All ages</td>\n",
       "      <td>Both sexes</td>\n",
       "      <td>Number</td>\n",
       "      <td>223</td>\n",
       "      <td>units</td>\n",
       "      <td>0</td>\n",
       "      <td>v65932896</td>\n",
       "      <td>2.1.1.1</td>\n",
       "      <td>7737.0</td>\n",
       "      <td>NaN</td>\n",
       "      <td>NaN</td>\n",
       "      <td>NaN</td>\n",
       "      <td>0</td>\n",
       "      <td>2005</td>\n",
       "    </tr>\n",
       "    <tr>\n",
       "      <th>18</th>\n",
       "      <td>2005/2006</td>\n",
       "      <td>Newfoundland and Labrador</td>\n",
       "      <td>2016A000210</td>\n",
       "      <td>All educators</td>\n",
       "      <td>All ages</td>\n",
       "      <td>Both sexes</td>\n",
       "      <td>Number</td>\n",
       "      <td>223</td>\n",
       "      <td>units</td>\n",
       "      <td>0</td>\n",
       "      <td>v65932896</td>\n",
       "      <td>2.1.1.1</td>\n",
       "      <td>7320.0</td>\n",
       "      <td>NaN</td>\n",
       "      <td>NaN</td>\n",
       "      <td>NaN</td>\n",
       "      <td>0</td>\n",
       "      <td>2006</td>\n",
       "    </tr>\n",
       "    <tr>\n",
       "      <th>19</th>\n",
       "      <td>2006/2007</td>\n",
       "      <td>Newfoundland and Labrador</td>\n",
       "      <td>2016A000210</td>\n",
       "      <td>All educators</td>\n",
       "      <td>All ages</td>\n",
       "      <td>Both sexes</td>\n",
       "      <td>Number</td>\n",
       "      <td>223</td>\n",
       "      <td>units</td>\n",
       "      <td>0</td>\n",
       "      <td>v65932896</td>\n",
       "      <td>2.1.1.1</td>\n",
       "      <td>7401.0</td>\n",
       "      <td>NaN</td>\n",
       "      <td>NaN</td>\n",
       "      <td>NaN</td>\n",
       "      <td>0</td>\n",
       "      <td>2007</td>\n",
       "    </tr>\n",
       "  </tbody>\n",
       "</table>\n",
       "</div>"
      ],
      "text/plain": [
       "     REF_DATE                        GEO        DGUID    Work status  \\\n",
       "15  2002/2003  Newfoundland and Labrador  2016A000210  All educators   \n",
       "16  2003/2004  Newfoundland and Labrador  2016A000210  All educators   \n",
       "17  2004/2005  Newfoundland and Labrador  2016A000210  All educators   \n",
       "18  2005/2006  Newfoundland and Labrador  2016A000210  All educators   \n",
       "19  2006/2007  Newfoundland and Labrador  2016A000210  All educators   \n",
       "\n",
       "   Age group         Sex     UOM  UOM_ID SCALAR_FACTOR  SCALAR_ID     VECTOR  \\\n",
       "15  All ages  Both sexes  Number     223         units          0  v65932896   \n",
       "16  All ages  Both sexes  Number     223         units          0  v65932896   \n",
       "17  All ages  Both sexes  Number     223         units          0  v65932896   \n",
       "18  All ages  Both sexes  Number     223         units          0  v65932896   \n",
       "19  All ages  Both sexes  Number     223         units          0  v65932896   \n",
       "\n",
       "   COORDINATE   Count STATUS  SYMBOL  TERMINATED  DECIMALS  Year  \n",
       "15    2.1.1.1  8034.0    NaN     NaN         NaN         0  2003  \n",
       "16    2.1.1.1  7920.0    NaN     NaN         NaN         0  2004  \n",
       "17    2.1.1.1  7737.0    NaN     NaN         NaN         0  2005  \n",
       "18    2.1.1.1  7320.0    NaN     NaN         NaN         0  2006  \n",
       "19    2.1.1.1  7401.0    NaN     NaN         NaN         0  2007  "
      ]
     },
     "execution_count": 68,
     "metadata": {},
     "output_type": "execute_result"
    }
   ],
   "source": [
    "all_df = pd.concat([organize_df(all), organize_df(female), organize_df(male)])\n",
    "all_df.rename(columns={\"VALUE\": \"Count\"}, inplace=True)\n",
    "all_df.head()"
   ]
  },
  {
   "cell_type": "code",
   "execution_count": 69,
   "metadata": {},
   "outputs": [
    {
     "data": {
      "text/plain": [
       "array(['Newfoundland and Labrador', 'Prince Edward Island', 'Nova Scotia',\n",
       "       'New Brunswick', 'Quebec', 'Ontario', 'Manitoba', 'Saskatchewan',\n",
       "       'Alberta', 'British Columbia', 'Yukon', 'Northwest Territories',\n",
       "       'Nunavut'], dtype=object)"
      ]
     },
     "execution_count": 69,
     "metadata": {},
     "output_type": "execute_result"
    }
   ],
   "source": [
    "all_df[\"GEO\"].unique()"
   ]
  },
  {
   "cell_type": "code",
   "execution_count": 70,
   "metadata": {},
   "outputs": [],
   "source": [
    "colors=['#1f77b4',  # muted blue\n",
    "        '#ff7f0e',  # safety orange\n",
    "        '#2ca02c',  # cooked asparagus green\n",
    "        '#d62728',  # brick red\n",
    "        '#9467bd',  # muted purple\n",
    "        '#8c564b',  # chestnut brown\n",
    "        '#e377c2',  # raspberry yogurt pink\n",
    "        '#17becf',  # blue-teal\n",
    "        '#210240',  # dark purple\n",
    "        '#21DC49',  # bright green\n",
    "        '#3F5063',  # dark navy\n",
    "        '#6C7075',  # dark grey\n",
    "        '#F4BC1A']  # mustard\n",
    "\n",
    "color_dict = dict(zip(all_df[\"GEO\"].unique(), colors))\n",
    "all_df[\"Color\"] = all_df[\"GEO\"].map(color_dict)"
   ]
  },
  {
   "cell_type": "code",
   "execution_count": 71,
   "metadata": {},
   "outputs": [
    {
     "data": {
      "application/vnd.plotly.v1+json": {
       "config": {
        "plotlyServerURL": "https://plot.ly"
       },
       "data": [
        {
         "line": {
          "color": "#1f77b4"
         },
         "mode": "lines",
         "name": "Newfoundland and Labrador",
         "type": "scatter",
         "x": [
          2003,
          2004,
          2005,
          2006,
          2007,
          2008,
          2009,
          2010,
          2011,
          2012,
          2013,
          2014,
          2015,
          2016,
          2017
         ],
         "y": [
          8034,
          7920,
          7737,
          7320,
          7401,
          7485,
          7542,
          7722,
          7635,
          7605,
          7584,
          7380,
          7650,
          6948,
          7161
         ]
        },
        {
         "line": {
          "color": "#ff7f0e"
         },
         "mode": "lines",
         "name": "Prince Edward Island",
         "type": "scatter",
         "x": [
          2003,
          2004,
          2005,
          2006,
          2007,
          2008,
          2009,
          2010,
          2011,
          2012,
          2013,
          2014,
          2015,
          2016,
          2017
         ],
         "y": [
          1602,
          1587,
          1587,
          1539,
          1548,
          1581,
          1638,
          1644,
          1749,
          1764,
          1767,
          1692,
          1686,
          1683,
          1611
         ]
        },
        {
         "line": {
          "color": "#2ca02c"
         },
         "mode": "lines",
         "name": "Nova Scotia",
         "type": "scatter",
         "x": [
          2003,
          2004,
          2005,
          2006,
          2007,
          2008,
          2009,
          2010,
          2011,
          2012,
          2013,
          2014,
          2015,
          2016,
          2017
         ],
         "y": [
          9591,
          9615,
          9579,
          9708,
          9918,
          9972,
          10062,
          10071,
          9744,
          9501,
          9207,
          8913,
          9150,
          9030,
          9333
         ]
        },
        {
         "line": {
          "color": "#d62728"
         },
         "mode": "lines",
         "name": "New Brunswick",
         "type": "scatter",
         "x": [
          2003,
          2004,
          2005,
          2006,
          2007,
          2008,
          2009,
          2010,
          2011,
          2012,
          2013,
          2014,
          2015,
          2016,
          2017
         ],
         "y": [
          7419,
          7473,
          7509,
          7509,
          7629,
          7899,
          8079,
          7998,
          7803,
          7683,
          7449,
          6900,
          6843,
          7023,
          7515
         ]
        },
        {
         "line": {
          "color": "#9467bd"
         },
         "mode": "lines",
         "name": "Quebec",
         "type": "scatter",
         "x": [
          2003,
          2004,
          2005,
          2006,
          2007,
          2008,
          2009,
          2010,
          2011,
          2012,
          2013,
          2014,
          2015,
          2016,
          2017
         ],
         "y": [
          93084,
          93360,
          93201,
          93270,
          96132,
          96222,
          96144,
          96930,
          97032,
          97149,
          97617,
          98112,
          98313,
          99243,
          100812
         ]
        },
        {
         "line": {
          "color": "#8c564b"
         },
         "mode": "lines",
         "name": "Ontario",
         "type": "scatter",
         "x": [
          2003,
          2004,
          2005,
          2006,
          2007,
          2008,
          2009,
          2010,
          2011,
          2012,
          2013,
          2014,
          2015,
          2016,
          2017
         ],
         "y": [
          130824,
          129912,
          132678,
          137889,
          149712,
          154962,
          157302,
          158172,
          160455,
          161523,
          163311,
          165702,
          169314,
          168045,
          169572
         ]
        },
        {
         "line": {
          "color": "#e377c2"
         },
         "mode": "lines",
         "name": "Manitoba",
         "type": "scatter",
         "x": [
          2003,
          2004,
          2005,
          2006,
          2007,
          2008,
          2009,
          2010,
          2011,
          2012,
          2013,
          2014,
          2015,
          2016,
          2017
         ],
         "y": [
          14139,
          14445,
          14280,
          14211,
          14250,
          14346,
          14322,
          14334,
          14433,
          13065,
          13479,
          13662,
          13707,
          13908,
          14097
         ]
        },
        {
         "line": {
          "color": "#17becf"
         },
         "mode": "lines",
         "name": "Saskatchewan",
         "type": "scatter",
         "x": [
          2003,
          2004,
          2005,
          2006,
          2007,
          2008,
          2009,
          2010,
          2011,
          2012,
          2013,
          2014,
          2015,
          2016,
          2017
         ],
         "y": [
          12348,
          12378,
          12261,
          12171,
          12444,
          12252,
          11694,
          11904,
          12099,
          12426,
          12564,
          12726,
          13044,
          12894,
          12918
         ]
        },
        {
         "line": {
          "color": "#210240"
         },
         "mode": "lines",
         "name": "Alberta",
         "type": "scatter",
         "x": [
          2003,
          2004,
          2005,
          2006,
          2007,
          2008,
          2009,
          2010,
          2011,
          2012,
          2013,
          2014,
          2015,
          2016,
          2017
         ],
         "y": [
          34761,
          37350,
          39390,
          40293,
          40557,
          40542,
          42516,
          45627,
          44781,
          44643,
          44211,
          44391,
          45123,
          46662,
          47289
         ]
        },
        {
         "line": {
          "color": "#21DC49"
         },
         "mode": "lines",
         "name": "British Columbia",
         "type": "scatter",
         "x": [
          2003,
          2004,
          2005,
          2006,
          2007,
          2008,
          2009,
          2010,
          2011,
          2012,
          2013,
          2014,
          2015,
          2016,
          2017
         ],
         "y": [
          37149,
          36564,
          36330,
          36888,
          37149,
          37119,
          36921,
          36372,
          35958,
          36108,
          36021,
          35613,
          35505,
          35757,
          36111
         ]
        },
        {
         "line": {
          "color": "#3F5063"
         },
         "mode": "lines",
         "name": "Yukon",
         "type": "scatter",
         "x": [
          2003,
          2004,
          2005,
          2006,
          2007,
          2008,
          2009,
          2010,
          2011,
          2012,
          2013,
          2014,
          2015,
          2016,
          2017
         ],
         "y": [
          492,
          489,
          495,
          495,
          510,
          516,
          552,
          570,
          513,
          546,
          879,
          903,
          945,
          873,
          879
         ]
        },
        {
         "line": {
          "color": "#6C7075"
         },
         "mode": "lines",
         "name": "Northwest Territories",
         "type": "scatter",
         "x": [
          2003,
          2004,
          2005,
          2006,
          2007,
          2008,
          2009,
          2010,
          2011,
          2012,
          2013,
          2014,
          2015,
          2016,
          2017
         ],
         "y": [
          645,
          681,
          678,
          669,
          672,
          714,
          720,
          705,
          687,
          630,
          672,
          672,
          666,
          654,
          645
         ]
        },
        {
         "line": {
          "color": "#F4BC1A"
         },
         "mode": "lines",
         "name": "Nunavut",
         "type": "scatter",
         "x": [
          2003,
          2004,
          2005,
          2006,
          2007,
          2008,
          2009,
          2010,
          2011,
          2012,
          2013,
          2014,
          2015,
          2016,
          2017
         ],
         "y": [
          537,
          528,
          624,
          711,
          702,
          705,
          654,
          651,
          666,
          666,
          801,
          573,
          783,
          762,
          864
         ]
        },
        {
         "line": {
          "color": "#1f77b4"
         },
         "mode": "lines",
         "name": "Newfoundland and Labrador",
         "type": "scatter",
         "x": [
          2003,
          2004,
          2005,
          2006,
          2007,
          2008,
          2009,
          2010,
          2011,
          2012,
          2013,
          2014,
          2015,
          2016,
          2017
         ],
         "y": [
          2838,
          2700,
          2538,
          2322,
          2280,
          2190,
          2154,
          2187,
          2100,
          2016,
          2040,
          1881,
          1851,
          1794,
          1770
         ]
        },
        {
         "line": {
          "color": "#ff7f0e"
         },
         "mode": "lines",
         "name": "Prince Edward Island",
         "type": "scatter",
         "x": [
          2003,
          2004,
          2005,
          2006,
          2007,
          2008,
          2009,
          2010,
          2011,
          2012,
          2013,
          2014,
          2015,
          2016,
          2017
         ],
         "y": [
          507,
          507,
          495,
          456,
          453,
          468,
          468,
          459,
          459,
          471,
          453,
          435,
          429,
          411,
          402
         ]
        },
        {
         "line": {
          "color": "#2ca02c"
         },
         "mode": "lines",
         "name": "Nova Scotia",
         "type": "scatter",
         "x": [
          2003,
          2004,
          2005,
          2006,
          2007,
          2008,
          2009,
          2010,
          2011,
          2012,
          2013,
          2014,
          2015,
          2016,
          2017
         ],
         "y": [
          3096,
          3033,
          2922,
          2874,
          2793,
          2778,
          2748,
          2685,
          2571,
          2496,
          2424,
          2337,
          2352,
          2307,
          2316
         ]
        },
        {
         "line": {
          "color": "#d62728"
         },
         "mode": "lines",
         "name": "New Brunswick",
         "type": "scatter",
         "x": [
          2003,
          2004,
          2005,
          2006,
          2007,
          2008,
          2009,
          2010,
          2011,
          2012,
          2013,
          2014,
          2015,
          2016,
          2017
         ],
         "y": [
          2112,
          2064,
          2028,
          1986,
          1995,
          1998,
          2031,
          2004,
          1950,
          1899,
          1815,
          1629,
          1596,
          1617,
          1749
         ]
        },
        {
         "line": {
          "color": "#9467bd"
         },
         "mode": "lines",
         "name": "Quebec",
         "type": "scatter",
         "x": [
          2003,
          2004,
          2005,
          2006,
          2007,
          2008,
          2009,
          2010,
          2011,
          2012,
          2013,
          2014,
          2015,
          2016,
          2017
         ],
         "y": [
          27975,
          27429,
          26880,
          26469,
          27051,
          26790,
          26439,
          26361,
          25878,
          25386,
          25245,
          25011,
          24879,
          24831,
          25023
         ]
        },
        {
         "line": {
          "color": "#8c564b"
         },
         "mode": "lines",
         "name": "Ontario",
         "type": "scatter",
         "x": [
          2003,
          2004,
          2005,
          2006,
          2007,
          2008,
          2009,
          2010,
          2011,
          2012,
          2013,
          2014,
          2015,
          2016,
          2017
         ],
         "y": [
          38127,
          37356,
          37722,
          39057,
          41931,
          42594,
          42705,
          42651,
          42684,
          42777,
          42342,
          41973,
          41826,
          41325,
          41319
         ]
        },
        {
         "line": {
          "color": "#e377c2"
         },
         "mode": "lines",
         "name": "Manitoba",
         "type": "scatter",
         "x": [
          2003,
          2004,
          2005,
          2006,
          2007,
          2008,
          2009,
          2010,
          2011,
          2012,
          2013,
          2014,
          2015,
          2016,
          2017
         ],
         "y": [
          4443,
          4497,
          4389,
          4308,
          4236,
          4230,
          4176,
          4182,
          4194,
          4008,
          4104,
          4125,
          4128,
          4161,
          4212
         ]
        },
        {
         "line": {
          "color": "#17becf"
         },
         "mode": "lines",
         "name": "Saskatchewan",
         "type": "scatter",
         "x": [
          2003,
          2004,
          2005,
          2006,
          2007,
          2008,
          2009,
          2010,
          2011,
          2012,
          2013,
          2014,
          2015,
          2016,
          2017
         ],
         "y": [
          3804,
          3747,
          3621,
          3573,
          3555,
          3447,
          3135,
          3168,
          3168,
          3204,
          3216,
          3216,
          3312,
          3234,
          3264
         ]
        },
        {
         "line": {
          "color": "#210240"
         },
         "mode": "lines",
         "name": "Alberta",
         "type": "scatter",
         "x": [
          2003,
          2004,
          2005,
          2006,
          2007,
          2008,
          2009,
          2010,
          2011,
          2012,
          2013,
          2014,
          2015,
          2016,
          2017
         ],
         "y": [
          10683,
          11094,
          11556,
          11619,
          11457,
          11073,
          11397,
          12228,
          11934,
          11754,
          11544,
          11514,
          11601,
          11949,
          12012
         ]
        },
        {
         "line": {
          "color": "#21DC49"
         },
         "mode": "lines",
         "name": "British Columbia",
         "type": "scatter",
         "x": [
          2003,
          2004,
          2005,
          2006,
          2007,
          2008,
          2009,
          2010,
          2011,
          2012,
          2013,
          2014,
          2015,
          2016,
          2017
         ],
         "y": [
          12516,
          12114,
          11832,
          11763,
          11616,
          11403,
          11205,
          10965,
          10683,
          10554,
          10284,
          10080,
          9990,
          9927,
          9897
         ]
        },
        {
         "line": {
          "color": "#3F5063"
         },
         "mode": "lines",
         "name": "Yukon",
         "type": "scatter",
         "x": [
          2012,
          2013,
          2014,
          2015,
          2016,
          2017
         ],
         "y": [
          384,
          267,
          276,
          270,
          255,
          258
         ]
        },
        {
         "line": {
          "color": "#6C7075"
         },
         "mode": "lines",
         "name": "Northwest Territories",
         "type": "scatter",
         "x": [],
         "y": []
        },
        {
         "line": {
          "color": "#F4BC1A"
         },
         "mode": "lines",
         "name": "Nunavut",
         "type": "scatter",
         "x": [
          2011,
          2012,
          2013,
          2014,
          2015,
          2016,
          2017
         ],
         "y": [
          null,
          null,
          null,
          null,
          243,
          237,
          273
         ]
        },
        {
         "line": {
          "color": "#1f77b4"
         },
         "mode": "lines",
         "name": "Newfoundland and Labrador",
         "type": "scatter",
         "x": [
          2003,
          2004,
          2005,
          2006,
          2007,
          2008,
          2009,
          2010,
          2011,
          2012,
          2013,
          2014,
          2015,
          2016,
          2017
         ],
         "y": [
          5196,
          5217,
          5199,
          4998,
          5121,
          5292,
          5388,
          5535,
          5538,
          5592,
          5544,
          5499,
          5799,
          5154,
          5388
         ]
        },
        {
         "line": {
          "color": "#ff7f0e"
         },
         "mode": "lines",
         "name": "Prince Edward Island",
         "type": "scatter",
         "x": [
          2003,
          2004,
          2005,
          2006,
          2007,
          2008,
          2009,
          2010,
          2011,
          2012,
          2013,
          2014,
          2015,
          2016,
          2017
         ],
         "y": [
          1092,
          1086,
          1092,
          1086,
          1095,
          1113,
          1170,
          1185,
          1290,
          1293,
          1314,
          1257,
          1257,
          1275,
          1206
         ]
        },
        {
         "line": {
          "color": "#2ca02c"
         },
         "mode": "lines",
         "name": "Nova Scotia",
         "type": "scatter",
         "x": [
          2003,
          2004,
          2005,
          2006,
          2007,
          2008,
          2009,
          2010,
          2011,
          2012,
          2013,
          2014,
          2015,
          2016,
          2017
         ],
         "y": [
          6498,
          6579,
          6660,
          6837,
          7125,
          7197,
          7317,
          7383,
          7170,
          7005,
          6783,
          6579,
          6798,
          6723,
          7017
         ]
        },
        {
         "line": {
          "color": "#d62728"
         },
         "mode": "lines",
         "name": "New Brunswick",
         "type": "scatter",
         "x": [
          2003,
          2004,
          2005,
          2006,
          2007,
          2008,
          2009,
          2010,
          2011,
          2012,
          2013,
          2014,
          2015,
          2016,
          2017
         ],
         "y": [
          5304,
          5406,
          5484,
          5526,
          5634,
          5901,
          6045,
          5994,
          5856,
          5787,
          5637,
          5274,
          5244,
          5403,
          5766
         ]
        },
        {
         "line": {
          "color": "#9467bd"
         },
         "mode": "lines",
         "name": "Quebec",
         "type": "scatter",
         "x": [
          2003,
          2004,
          2005,
          2006,
          2007,
          2008,
          2009,
          2010,
          2011,
          2012,
          2013,
          2014,
          2015,
          2016,
          2017
         ],
         "y": [
          65106,
          65931,
          66321,
          66804,
          69078,
          69432,
          69705,
          70566,
          71154,
          71763,
          72375,
          73101,
          73434,
          74412,
          75789
         ]
        },
        {
         "line": {
          "color": "#8c564b"
         },
         "mode": "lines",
         "name": "Ontario",
         "type": "scatter",
         "x": [
          2003,
          2004,
          2005,
          2006,
          2007,
          2008,
          2009,
          2010,
          2011,
          2012,
          2013,
          2014,
          2015,
          2016,
          2017
         ],
         "y": [
          92694,
          92556,
          94953,
          98784,
          107784,
          112368,
          114600,
          115521,
          117771,
          118746,
          120969,
          123729,
          127488,
          126720,
          128253
         ]
        },
        {
         "line": {
          "color": "#e377c2"
         },
         "mode": "lines",
         "name": "Manitoba",
         "type": "scatter",
         "x": [
          2003,
          2004,
          2005,
          2006,
          2007,
          2008,
          2009,
          2010,
          2011,
          2012,
          2013,
          2014,
          2015,
          2016,
          2017
         ],
         "y": [
          9699,
          9948,
          9888,
          9900,
          10011,
          10116,
          10146,
          10149,
          10239,
          9057,
          9375,
          9537,
          9579,
          9744,
          9885
         ]
        },
        {
         "line": {
          "color": "#17becf"
         },
         "mode": "lines",
         "name": "Saskatchewan",
         "type": "scatter",
         "x": [
          2003,
          2004,
          2005,
          2006,
          2007,
          2008,
          2009,
          2010,
          2011,
          2012,
          2013,
          2014,
          2015,
          2016,
          2017
         ],
         "y": [
          8043,
          8088,
          8064,
          8109,
          8226,
          8217,
          7902,
          7998,
          8229,
          8490,
          8556,
          8703,
          8901,
          8829,
          8841
         ]
        },
        {
         "line": {
          "color": "#210240"
         },
         "mode": "lines",
         "name": "Alberta",
         "type": "scatter",
         "x": [
          2003,
          2004,
          2005,
          2006,
          2007,
          2008,
          2009,
          2010,
          2011,
          2012,
          2013,
          2014,
          2015,
          2016,
          2017
         ],
         "y": [
          24066,
          26238,
          27807,
          28620,
          29034,
          29385,
          31011,
          33276,
          32712,
          32748,
          32523,
          32715,
          33357,
          34545,
          35118
         ]
        },
        {
         "line": {
          "color": "#21DC49"
         },
         "mode": "lines",
         "name": "British Columbia",
         "type": "scatter",
         "x": [
          2003,
          2004,
          2005,
          2006,
          2007,
          2008,
          2009,
          2010,
          2011,
          2012,
          2013,
          2014,
          2015,
          2016,
          2017
         ],
         "y": [
          24636,
          24447,
          24498,
          25122,
          25533,
          25713,
          25713,
          25407,
          25275,
          25551,
          25734,
          25533,
          25518,
          25830,
          26211
         ]
        },
        {
         "line": {
          "color": "#3F5063"
         },
         "mode": "lines",
         "name": "Yukon",
         "type": "scatter",
         "x": [
          2012,
          2013,
          2014,
          2015,
          2016,
          2017
         ],
         "y": [
          162,
          615,
          630,
          672,
          618,
          621
         ]
        },
        {
         "line": {
          "color": "#6C7075"
         },
         "mode": "lines",
         "name": "Northwest Territories",
         "type": "scatter",
         "x": [],
         "y": []
        },
        {
         "line": {
          "color": "#F4BC1A"
         },
         "mode": "lines",
         "name": "Nunavut",
         "type": "scatter",
         "x": [
          2011,
          2012,
          2013,
          2014,
          2015,
          2016,
          2017
         ],
         "y": [
          null,
          null,
          null,
          null,
          537,
          525,
          594
         ]
        }
       ],
       "layout": {
        "showlegend": true,
        "template": {
         "data": {
          "bar": [
           {
            "error_x": {
             "color": "#2a3f5f"
            },
            "error_y": {
             "color": "#2a3f5f"
            },
            "marker": {
             "line": {
              "color": "#E5ECF6",
              "width": 0.5
             },
             "pattern": {
              "fillmode": "overlay",
              "size": 10,
              "solidity": 0.2
             }
            },
            "type": "bar"
           }
          ],
          "barpolar": [
           {
            "marker": {
             "line": {
              "color": "#E5ECF6",
              "width": 0.5
             },
             "pattern": {
              "fillmode": "overlay",
              "size": 10,
              "solidity": 0.2
             }
            },
            "type": "barpolar"
           }
          ],
          "carpet": [
           {
            "aaxis": {
             "endlinecolor": "#2a3f5f",
             "gridcolor": "white",
             "linecolor": "white",
             "minorgridcolor": "white",
             "startlinecolor": "#2a3f5f"
            },
            "baxis": {
             "endlinecolor": "#2a3f5f",
             "gridcolor": "white",
             "linecolor": "white",
             "minorgridcolor": "white",
             "startlinecolor": "#2a3f5f"
            },
            "type": "carpet"
           }
          ],
          "choropleth": [
           {
            "colorbar": {
             "outlinewidth": 0,
             "ticks": ""
            },
            "type": "choropleth"
           }
          ],
          "contour": [
           {
            "colorbar": {
             "outlinewidth": 0,
             "ticks": ""
            },
            "colorscale": [
             [
              0,
              "#0d0887"
             ],
             [
              0.1111111111111111,
              "#46039f"
             ],
             [
              0.2222222222222222,
              "#7201a8"
             ],
             [
              0.3333333333333333,
              "#9c179e"
             ],
             [
              0.4444444444444444,
              "#bd3786"
             ],
             [
              0.5555555555555556,
              "#d8576b"
             ],
             [
              0.6666666666666666,
              "#ed7953"
             ],
             [
              0.7777777777777778,
              "#fb9f3a"
             ],
             [
              0.8888888888888888,
              "#fdca26"
             ],
             [
              1,
              "#f0f921"
             ]
            ],
            "type": "contour"
           }
          ],
          "contourcarpet": [
           {
            "colorbar": {
             "outlinewidth": 0,
             "ticks": ""
            },
            "type": "contourcarpet"
           }
          ],
          "heatmap": [
           {
            "colorbar": {
             "outlinewidth": 0,
             "ticks": ""
            },
            "colorscale": [
             [
              0,
              "#0d0887"
             ],
             [
              0.1111111111111111,
              "#46039f"
             ],
             [
              0.2222222222222222,
              "#7201a8"
             ],
             [
              0.3333333333333333,
              "#9c179e"
             ],
             [
              0.4444444444444444,
              "#bd3786"
             ],
             [
              0.5555555555555556,
              "#d8576b"
             ],
             [
              0.6666666666666666,
              "#ed7953"
             ],
             [
              0.7777777777777778,
              "#fb9f3a"
             ],
             [
              0.8888888888888888,
              "#fdca26"
             ],
             [
              1,
              "#f0f921"
             ]
            ],
            "type": "heatmap"
           }
          ],
          "heatmapgl": [
           {
            "colorbar": {
             "outlinewidth": 0,
             "ticks": ""
            },
            "colorscale": [
             [
              0,
              "#0d0887"
             ],
             [
              0.1111111111111111,
              "#46039f"
             ],
             [
              0.2222222222222222,
              "#7201a8"
             ],
             [
              0.3333333333333333,
              "#9c179e"
             ],
             [
              0.4444444444444444,
              "#bd3786"
             ],
             [
              0.5555555555555556,
              "#d8576b"
             ],
             [
              0.6666666666666666,
              "#ed7953"
             ],
             [
              0.7777777777777778,
              "#fb9f3a"
             ],
             [
              0.8888888888888888,
              "#fdca26"
             ],
             [
              1,
              "#f0f921"
             ]
            ],
            "type": "heatmapgl"
           }
          ],
          "histogram": [
           {
            "marker": {
             "pattern": {
              "fillmode": "overlay",
              "size": 10,
              "solidity": 0.2
             }
            },
            "type": "histogram"
           }
          ],
          "histogram2d": [
           {
            "colorbar": {
             "outlinewidth": 0,
             "ticks": ""
            },
            "colorscale": [
             [
              0,
              "#0d0887"
             ],
             [
              0.1111111111111111,
              "#46039f"
             ],
             [
              0.2222222222222222,
              "#7201a8"
             ],
             [
              0.3333333333333333,
              "#9c179e"
             ],
             [
              0.4444444444444444,
              "#bd3786"
             ],
             [
              0.5555555555555556,
              "#d8576b"
             ],
             [
              0.6666666666666666,
              "#ed7953"
             ],
             [
              0.7777777777777778,
              "#fb9f3a"
             ],
             [
              0.8888888888888888,
              "#fdca26"
             ],
             [
              1,
              "#f0f921"
             ]
            ],
            "type": "histogram2d"
           }
          ],
          "histogram2dcontour": [
           {
            "colorbar": {
             "outlinewidth": 0,
             "ticks": ""
            },
            "colorscale": [
             [
              0,
              "#0d0887"
             ],
             [
              0.1111111111111111,
              "#46039f"
             ],
             [
              0.2222222222222222,
              "#7201a8"
             ],
             [
              0.3333333333333333,
              "#9c179e"
             ],
             [
              0.4444444444444444,
              "#bd3786"
             ],
             [
              0.5555555555555556,
              "#d8576b"
             ],
             [
              0.6666666666666666,
              "#ed7953"
             ],
             [
              0.7777777777777778,
              "#fb9f3a"
             ],
             [
              0.8888888888888888,
              "#fdca26"
             ],
             [
              1,
              "#f0f921"
             ]
            ],
            "type": "histogram2dcontour"
           }
          ],
          "mesh3d": [
           {
            "colorbar": {
             "outlinewidth": 0,
             "ticks": ""
            },
            "type": "mesh3d"
           }
          ],
          "parcoords": [
           {
            "line": {
             "colorbar": {
              "outlinewidth": 0,
              "ticks": ""
             }
            },
            "type": "parcoords"
           }
          ],
          "pie": [
           {
            "automargin": true,
            "type": "pie"
           }
          ],
          "scatter": [
           {
            "marker": {
             "colorbar": {
              "outlinewidth": 0,
              "ticks": ""
             }
            },
            "type": "scatter"
           }
          ],
          "scatter3d": [
           {
            "line": {
             "colorbar": {
              "outlinewidth": 0,
              "ticks": ""
             }
            },
            "marker": {
             "colorbar": {
              "outlinewidth": 0,
              "ticks": ""
             }
            },
            "type": "scatter3d"
           }
          ],
          "scattercarpet": [
           {
            "marker": {
             "colorbar": {
              "outlinewidth": 0,
              "ticks": ""
             }
            },
            "type": "scattercarpet"
           }
          ],
          "scattergeo": [
           {
            "marker": {
             "colorbar": {
              "outlinewidth": 0,
              "ticks": ""
             }
            },
            "type": "scattergeo"
           }
          ],
          "scattergl": [
           {
            "marker": {
             "colorbar": {
              "outlinewidth": 0,
              "ticks": ""
             }
            },
            "type": "scattergl"
           }
          ],
          "scattermapbox": [
           {
            "marker": {
             "colorbar": {
              "outlinewidth": 0,
              "ticks": ""
             }
            },
            "type": "scattermapbox"
           }
          ],
          "scatterpolar": [
           {
            "marker": {
             "colorbar": {
              "outlinewidth": 0,
              "ticks": ""
             }
            },
            "type": "scatterpolar"
           }
          ],
          "scatterpolargl": [
           {
            "marker": {
             "colorbar": {
              "outlinewidth": 0,
              "ticks": ""
             }
            },
            "type": "scatterpolargl"
           }
          ],
          "scatterternary": [
           {
            "marker": {
             "colorbar": {
              "outlinewidth": 0,
              "ticks": ""
             }
            },
            "type": "scatterternary"
           }
          ],
          "surface": [
           {
            "colorbar": {
             "outlinewidth": 0,
             "ticks": ""
            },
            "colorscale": [
             [
              0,
              "#0d0887"
             ],
             [
              0.1111111111111111,
              "#46039f"
             ],
             [
              0.2222222222222222,
              "#7201a8"
             ],
             [
              0.3333333333333333,
              "#9c179e"
             ],
             [
              0.4444444444444444,
              "#bd3786"
             ],
             [
              0.5555555555555556,
              "#d8576b"
             ],
             [
              0.6666666666666666,
              "#ed7953"
             ],
             [
              0.7777777777777778,
              "#fb9f3a"
             ],
             [
              0.8888888888888888,
              "#fdca26"
             ],
             [
              1,
              "#f0f921"
             ]
            ],
            "type": "surface"
           }
          ],
          "table": [
           {
            "cells": {
             "fill": {
              "color": "#EBF0F8"
             },
             "line": {
              "color": "white"
             }
            },
            "header": {
             "fill": {
              "color": "#C8D4E3"
             },
             "line": {
              "color": "white"
             }
            },
            "type": "table"
           }
          ]
         },
         "layout": {
          "annotationdefaults": {
           "arrowcolor": "#2a3f5f",
           "arrowhead": 0,
           "arrowwidth": 1
          },
          "autotypenumbers": "strict",
          "coloraxis": {
           "colorbar": {
            "outlinewidth": 0,
            "ticks": ""
           }
          },
          "colorscale": {
           "diverging": [
            [
             0,
             "#8e0152"
            ],
            [
             0.1,
             "#c51b7d"
            ],
            [
             0.2,
             "#de77ae"
            ],
            [
             0.3,
             "#f1b6da"
            ],
            [
             0.4,
             "#fde0ef"
            ],
            [
             0.5,
             "#f7f7f7"
            ],
            [
             0.6,
             "#e6f5d0"
            ],
            [
             0.7,
             "#b8e186"
            ],
            [
             0.8,
             "#7fbc41"
            ],
            [
             0.9,
             "#4d9221"
            ],
            [
             1,
             "#276419"
            ]
           ],
           "sequential": [
            [
             0,
             "#0d0887"
            ],
            [
             0.1111111111111111,
             "#46039f"
            ],
            [
             0.2222222222222222,
             "#7201a8"
            ],
            [
             0.3333333333333333,
             "#9c179e"
            ],
            [
             0.4444444444444444,
             "#bd3786"
            ],
            [
             0.5555555555555556,
             "#d8576b"
            ],
            [
             0.6666666666666666,
             "#ed7953"
            ],
            [
             0.7777777777777778,
             "#fb9f3a"
            ],
            [
             0.8888888888888888,
             "#fdca26"
            ],
            [
             1,
             "#f0f921"
            ]
           ],
           "sequentialminus": [
            [
             0,
             "#0d0887"
            ],
            [
             0.1111111111111111,
             "#46039f"
            ],
            [
             0.2222222222222222,
             "#7201a8"
            ],
            [
             0.3333333333333333,
             "#9c179e"
            ],
            [
             0.4444444444444444,
             "#bd3786"
            ],
            [
             0.5555555555555556,
             "#d8576b"
            ],
            [
             0.6666666666666666,
             "#ed7953"
            ],
            [
             0.7777777777777778,
             "#fb9f3a"
            ],
            [
             0.8888888888888888,
             "#fdca26"
            ],
            [
             1,
             "#f0f921"
            ]
           ]
          },
          "colorway": [
           "#636efa",
           "#EF553B",
           "#00cc96",
           "#ab63fa",
           "#FFA15A",
           "#19d3f3",
           "#FF6692",
           "#B6E880",
           "#FF97FF",
           "#FECB52"
          ],
          "font": {
           "color": "#2a3f5f"
          },
          "geo": {
           "bgcolor": "white",
           "lakecolor": "white",
           "landcolor": "#E5ECF6",
           "showlakes": true,
           "showland": true,
           "subunitcolor": "white"
          },
          "hoverlabel": {
           "align": "left"
          },
          "hovermode": "closest",
          "mapbox": {
           "style": "light"
          },
          "paper_bgcolor": "white",
          "plot_bgcolor": "#E5ECF6",
          "polar": {
           "angularaxis": {
            "gridcolor": "white",
            "linecolor": "white",
            "ticks": ""
           },
           "bgcolor": "#E5ECF6",
           "radialaxis": {
            "gridcolor": "white",
            "linecolor": "white",
            "ticks": ""
           }
          },
          "scene": {
           "xaxis": {
            "backgroundcolor": "#E5ECF6",
            "gridcolor": "white",
            "gridwidth": 2,
            "linecolor": "white",
            "showbackground": true,
            "ticks": "",
            "zerolinecolor": "white"
           },
           "yaxis": {
            "backgroundcolor": "#E5ECF6",
            "gridcolor": "white",
            "gridwidth": 2,
            "linecolor": "white",
            "showbackground": true,
            "ticks": "",
            "zerolinecolor": "white"
           },
           "zaxis": {
            "backgroundcolor": "#E5ECF6",
            "gridcolor": "white",
            "gridwidth": 2,
            "linecolor": "white",
            "showbackground": true,
            "ticks": "",
            "zerolinecolor": "white"
           }
          },
          "shapedefaults": {
           "line": {
            "color": "#2a3f5f"
           }
          },
          "ternary": {
           "aaxis": {
            "gridcolor": "white",
            "linecolor": "white",
            "ticks": ""
           },
           "baxis": {
            "gridcolor": "white",
            "linecolor": "white",
            "ticks": ""
           },
           "bgcolor": "#E5ECF6",
           "caxis": {
            "gridcolor": "white",
            "linecolor": "white",
            "ticks": ""
           }
          },
          "title": {
           "x": 0.05
          },
          "xaxis": {
           "automargin": true,
           "gridcolor": "white",
           "linecolor": "white",
           "ticks": "",
           "title": {
            "standoff": 15
           },
           "zerolinecolor": "white",
           "zerolinewidth": 2
          },
          "yaxis": {
           "automargin": true,
           "gridcolor": "white",
           "linecolor": "white",
           "ticks": "",
           "title": {
            "standoff": 15
           },
           "zerolinecolor": "white",
           "zerolinewidth": 2
          }
         }
        },
        "updatemenus": [
         {
          "active": 0,
          "buttons": [
           {
            "args": [
             {
              "visible": [
               [
                true
               ],
               "legendonly",
               "legendonly",
               "legendonly",
               "legendonly",
               "legendonly",
               "legendonly",
               "legendonly",
               "legendonly",
               "legendonly",
               "legendonly",
               "legendonly",
               "legendonly",
               false,
               false,
               false,
               false,
               false,
               false,
               false,
               false,
               false,
               false,
               false,
               false,
               false,
               false,
               false,
               false,
               false,
               false,
               false,
               false,
               false,
               false,
               false,
               false,
               false,
               false
              ]
             }
            ],
            "label": "Both sexes",
            "method": "update"
           },
           {
            "args": [
             {
              "visible": [
               false,
               false,
               false,
               false,
               false,
               false,
               false,
               false,
               false,
               false,
               false,
               false,
               false,
               [
                true
               ],
               "legendonly",
               "legendonly",
               "legendonly",
               "legendonly",
               "legendonly",
               "legendonly",
               "legendonly",
               "legendonly",
               "legendonly",
               "legendonly",
               "legendonly",
               "legendonly",
               false,
               false,
               false,
               false,
               false,
               false,
               false,
               false,
               false,
               false,
               false,
               false,
               false
              ]
             }
            ],
            "label": "Males",
            "method": "update"
           },
           {
            "args": [
             {
              "visible": [
               false,
               false,
               false,
               false,
               false,
               false,
               false,
               false,
               false,
               false,
               false,
               false,
               false,
               false,
               false,
               false,
               false,
               false,
               false,
               false,
               false,
               false,
               false,
               false,
               false,
               false,
               [
                true
               ],
               "legendonly",
               "legendonly",
               "legendonly",
               "legendonly",
               "legendonly",
               "legendonly",
               "legendonly",
               "legendonly",
               "legendonly",
               "legendonly",
               "legendonly",
               "legendonly"
              ]
             }
            ],
            "label": "Females",
            "method": "update"
           }
          ],
          "direction": "down"
         }
        ]
       }
      }
     },
     "metadata": {},
     "output_type": "display_data"
    }
   ],
   "source": [
    "all_fig = go.Figure()\n",
    "genders = [\"Both sexes\", \"Males\", \"Females\"]\n",
    "\n",
    "for sex in genders:\n",
    "      col_num = 0\n",
    "      df_int = all_df[all_df[\"Sex\"] == sex]\n",
    "      all_prov = all_df[\"GEO\"].unique()\n",
    "      for ind, province in enumerate(all_prov):\n",
    "            all_fig.add_trace(go.Scatter(\n",
    "                  x = df_int[df_int[\"GEO\"] == province][\"Year\"],\n",
    "                  y = df_int[df_int[\"GEO\"] == province][\"Count\"],\n",
    "                  mode = \"lines\",\n",
    "                  line = dict(color=colors[col_num]),\n",
    "                  name = province\n",
    "                  ))\n",
    "            col_num += 1\n",
    "\n",
    "all_buttons = []\n",
    "prov_var_dict = [[] for _ in range(len(genders))]\n",
    "\n",
    "for ind_sex, sex in enumerate([\"Both sexes\", \"Males\", \"Females\"]):\n",
    "      df_sex = all_df[all_df[\"Sex\"] == sex]\n",
    "      all_provs = all_df[\"GEO\"].unique()\n",
    "      for province in all_provs:\n",
    "            prov_var_dict[ind_sex].append(province)\n",
    "\n",
    "currnum = 0\n",
    "\n",
    "for ind, sex in enumerate(prov_var_dict):\n",
    "      traces = [False] * len(all_fig.data)\n",
    "      oldnum = currnum\n",
    "      num_provs = len(sex)\n",
    "      traces[0:oldnum] = [False for i in traces[0:oldnum]]\n",
    "      currnum += num_provs\n",
    "      traces[oldnum:currnum] = [\"legendonly\" for i in traces[oldnum:currnum]]\n",
    "      traces[oldnum] = [True]\n",
    "      all_buttons.append(dict(\n",
    "            label=genders[ind],\n",
    "            method=\"update\",\n",
    "            args=[{\"visible\":traces}]\n",
    "      ))\n",
    "\n",
    "all_fig.update_layout(\n",
    "      showlegend=True,\n",
    "      updatemenus=[dict(\n",
    "            active=0,\n",
    "            buttons=all_buttons,\n",
    "            direction=\"down\"\n",
    "      )]\n",
    ")\n",
    "\n",
    "all_fig.show()b"
   ]
  },
  {
   "cell_type": "code",
   "execution_count": 80,
   "metadata": {},
   "outputs": [],
   "source": [
    "all_fig.write_html(\"count_trend.html\")"
   ]
  },
  {
   "cell_type": "code",
   "execution_count": 72,
   "metadata": {},
   "outputs": [],
   "source": [
    "enrol_path = \"/Users/jennylee/Library/Mobile Documents/com~apple~CloudDocs/Documents/Cybera/world-teachers-day/data/enroll_data\"\n",
    "all_files = [file for file in listdir(enrol_path)]"
   ]
  },
  {
   "cell_type": "code",
   "execution_count": 73,
   "metadata": {},
   "outputs": [],
   "source": [
    "def advanced_organize_df(path):\n",
    "      df = pd.read_csv(path)\n",
    "      df = organize_df(df)\n",
    "      df = df[(df[\"School type\"] == \"Total, school type\") & (df[\"Program type\"] == \"Regular programs for youth\")]\n",
    "      return df"
   ]
  },
  {
   "cell_type": "code",
   "execution_count": 74,
   "metadata": {},
   "outputs": [
    {
     "data": {
      "text/plain": [
       "'enroll_on.csv'"
      ]
     },
     "execution_count": 74,
     "metadata": {},
     "output_type": "execute_result"
    }
   ],
   "source": [
    "all_files[0]"
   ]
  },
  {
   "cell_type": "code",
   "execution_count": 75,
   "metadata": {},
   "outputs": [
    {
     "data": {
      "text/html": [
       "<div>\n",
       "<style scoped>\n",
       "    .dataframe tbody tr th:only-of-type {\n",
       "        vertical-align: middle;\n",
       "    }\n",
       "\n",
       "    .dataframe tbody tr th {\n",
       "        vertical-align: top;\n",
       "    }\n",
       "\n",
       "    .dataframe thead th {\n",
       "        text-align: right;\n",
       "    }\n",
       "</style>\n",
       "<table border=\"1\" class=\"dataframe\">\n",
       "  <thead>\n",
       "    <tr style=\"text-align: right;\">\n",
       "      <th></th>\n",
       "      <th>REF_DATE</th>\n",
       "      <th>GEO</th>\n",
       "      <th>DGUID</th>\n",
       "      <th>School type</th>\n",
       "      <th>Program type</th>\n",
       "      <th>UOM</th>\n",
       "      <th>UOM_ID</th>\n",
       "      <th>SCALAR_FACTOR</th>\n",
       "      <th>SCALAR_ID</th>\n",
       "      <th>VECTOR</th>\n",
       "      <th>COORDINATE</th>\n",
       "      <th>VALUE</th>\n",
       "      <th>STATUS</th>\n",
       "      <th>SYMBOL</th>\n",
       "      <th>TERMINATED</th>\n",
       "      <th>DECIMALS</th>\n",
       "      <th>Year</th>\n",
       "    </tr>\n",
       "  </thead>\n",
       "  <tbody>\n",
       "    <tr>\n",
       "      <th>15</th>\n",
       "      <td>2003/2004</td>\n",
       "      <td>Ontario</td>\n",
       "      <td>2016A000235</td>\n",
       "      <td>Total, school type</td>\n",
       "      <td>Regular programs for youth</td>\n",
       "      <td>Number</td>\n",
       "      <td>223</td>\n",
       "      <td>units</td>\n",
       "      <td>0</td>\n",
       "      <td>v1001753215</td>\n",
       "      <td>7.1.2</td>\n",
       "      <td>2129742.0</td>\n",
       "      <td>NaN</td>\n",
       "      <td>NaN</td>\n",
       "      <td>NaN</td>\n",
       "      <td>0</td>\n",
       "      <td>2004</td>\n",
       "    </tr>\n",
       "    <tr>\n",
       "      <th>16</th>\n",
       "      <td>2004/2005</td>\n",
       "      <td>Ontario</td>\n",
       "      <td>2016A000235</td>\n",
       "      <td>Total, school type</td>\n",
       "      <td>Regular programs for youth</td>\n",
       "      <td>Number</td>\n",
       "      <td>223</td>\n",
       "      <td>units</td>\n",
       "      <td>0</td>\n",
       "      <td>v1001753215</td>\n",
       "      <td>7.1.2</td>\n",
       "      <td>2123904.0</td>\n",
       "      <td>NaN</td>\n",
       "      <td>NaN</td>\n",
       "      <td>NaN</td>\n",
       "      <td>0</td>\n",
       "      <td>2005</td>\n",
       "    </tr>\n",
       "    <tr>\n",
       "      <th>17</th>\n",
       "      <td>2005/2006</td>\n",
       "      <td>Ontario</td>\n",
       "      <td>2016A000235</td>\n",
       "      <td>Total, school type</td>\n",
       "      <td>Regular programs for youth</td>\n",
       "      <td>Number</td>\n",
       "      <td>223</td>\n",
       "      <td>units</td>\n",
       "      <td>0</td>\n",
       "      <td>v1001753215</td>\n",
       "      <td>7.1.2</td>\n",
       "      <td>2118543.0</td>\n",
       "      <td>NaN</td>\n",
       "      <td>NaN</td>\n",
       "      <td>NaN</td>\n",
       "      <td>0</td>\n",
       "      <td>2006</td>\n",
       "    </tr>\n",
       "    <tr>\n",
       "      <th>18</th>\n",
       "      <td>2006/2007</td>\n",
       "      <td>Ontario</td>\n",
       "      <td>2016A000235</td>\n",
       "      <td>Total, school type</td>\n",
       "      <td>Regular programs for youth</td>\n",
       "      <td>Number</td>\n",
       "      <td>223</td>\n",
       "      <td>units</td>\n",
       "      <td>0</td>\n",
       "      <td>v1001753215</td>\n",
       "      <td>7.1.2</td>\n",
       "      <td>2221422.0</td>\n",
       "      <td>NaN</td>\n",
       "      <td>NaN</td>\n",
       "      <td>NaN</td>\n",
       "      <td>0</td>\n",
       "      <td>2007</td>\n",
       "    </tr>\n",
       "    <tr>\n",
       "      <th>19</th>\n",
       "      <td>2007/2008</td>\n",
       "      <td>Ontario</td>\n",
       "      <td>2016A000235</td>\n",
       "      <td>Total, school type</td>\n",
       "      <td>Regular programs for youth</td>\n",
       "      <td>Number</td>\n",
       "      <td>223</td>\n",
       "      <td>units</td>\n",
       "      <td>0</td>\n",
       "      <td>v1001753215</td>\n",
       "      <td>7.1.2</td>\n",
       "      <td>2208771.0</td>\n",
       "      <td>NaN</td>\n",
       "      <td>NaN</td>\n",
       "      <td>NaN</td>\n",
       "      <td>0</td>\n",
       "      <td>2008</td>\n",
       "    </tr>\n",
       "  </tbody>\n",
       "</table>\n",
       "</div>"
      ],
      "text/plain": [
       "     REF_DATE      GEO        DGUID         School type  \\\n",
       "15  2003/2004  Ontario  2016A000235  Total, school type   \n",
       "16  2004/2005  Ontario  2016A000235  Total, school type   \n",
       "17  2005/2006  Ontario  2016A000235  Total, school type   \n",
       "18  2006/2007  Ontario  2016A000235  Total, school type   \n",
       "19  2007/2008  Ontario  2016A000235  Total, school type   \n",
       "\n",
       "                  Program type     UOM  UOM_ID SCALAR_FACTOR  SCALAR_ID  \\\n",
       "15  Regular programs for youth  Number     223         units          0   \n",
       "16  Regular programs for youth  Number     223         units          0   \n",
       "17  Regular programs for youth  Number     223         units          0   \n",
       "18  Regular programs for youth  Number     223         units          0   \n",
       "19  Regular programs for youth  Number     223         units          0   \n",
       "\n",
       "         VECTOR COORDINATE      VALUE STATUS  SYMBOL  TERMINATED  DECIMALS  \\\n",
       "15  v1001753215      7.1.2  2129742.0    NaN     NaN         NaN         0   \n",
       "16  v1001753215      7.1.2  2123904.0    NaN     NaN         NaN         0   \n",
       "17  v1001753215      7.1.2  2118543.0    NaN     NaN         NaN         0   \n",
       "18  v1001753215      7.1.2  2221422.0    NaN     NaN         NaN         0   \n",
       "19  v1001753215      7.1.2  2208771.0    NaN     NaN         NaN         0   \n",
       "\n",
       "    Year  \n",
       "15  2004  \n",
       "16  2005  \n",
       "17  2006  \n",
       "18  2007  \n",
       "19  2008  "
      ]
     },
     "execution_count": 75,
     "metadata": {},
     "output_type": "execute_result"
    }
   ],
   "source": [
    "for file in all_files:\n",
    "      file_path = f\"data/enroll_data/{file}\"\n",
    "      file_df = advanced_organize_df(file_path)\n",
    "      if file == all_files[0]:\n",
    "            joined_df = file_df.copy()\n",
    "      else:\n",
    "            joined_df = pd.concat([joined_df, file_df], axis=0)\n",
    "\n",
    "joined_df.head()"
   ]
  },
  {
   "cell_type": "code",
   "execution_count": 76,
   "metadata": {},
   "outputs": [],
   "source": [
    "joined_df.to_csv(\"data/enroll_data/all_enrollment.csv\", index=False)"
   ]
  },
  {
   "cell_type": "code",
   "execution_count": 77,
   "metadata": {},
   "outputs": [
    {
     "data": {
      "text/html": [
       "<div>\n",
       "<style scoped>\n",
       "    .dataframe tbody tr th:only-of-type {\n",
       "        vertical-align: middle;\n",
       "    }\n",
       "\n",
       "    .dataframe tbody tr th {\n",
       "        vertical-align: top;\n",
       "    }\n",
       "\n",
       "    .dataframe thead th {\n",
       "        text-align: right;\n",
       "    }\n",
       "</style>\n",
       "<table border=\"1\" class=\"dataframe\">\n",
       "  <thead>\n",
       "    <tr style=\"text-align: right;\">\n",
       "      <th></th>\n",
       "      <th>GEO</th>\n",
       "      <th>Count</th>\n",
       "      <th>Year</th>\n",
       "      <th>Sex</th>\n",
       "      <th>Enrollment</th>\n",
       "    </tr>\n",
       "  </thead>\n",
       "  <tbody>\n",
       "    <tr>\n",
       "      <th>0</th>\n",
       "      <td>Newfoundland and Labrador</td>\n",
       "      <td>8034.0</td>\n",
       "      <td>2003</td>\n",
       "      <td>Both sexes</td>\n",
       "      <td>84336.0</td>\n",
       "    </tr>\n",
       "    <tr>\n",
       "      <th>1</th>\n",
       "      <td>Newfoundland and Labrador</td>\n",
       "      <td>8034.0</td>\n",
       "      <td>2003</td>\n",
       "      <td>Both sexes</td>\n",
       "      <td>84336.0</td>\n",
       "    </tr>\n",
       "    <tr>\n",
       "      <th>2</th>\n",
       "      <td>Newfoundland and Labrador</td>\n",
       "      <td>7920.0</td>\n",
       "      <td>2004</td>\n",
       "      <td>Both sexes</td>\n",
       "      <td>81510.0</td>\n",
       "    </tr>\n",
       "    <tr>\n",
       "      <th>3</th>\n",
       "      <td>Newfoundland and Labrador</td>\n",
       "      <td>7920.0</td>\n",
       "      <td>2004</td>\n",
       "      <td>Both sexes</td>\n",
       "      <td>81510.0</td>\n",
       "    </tr>\n",
       "    <tr>\n",
       "      <th>4</th>\n",
       "      <td>Newfoundland and Labrador</td>\n",
       "      <td>7737.0</td>\n",
       "      <td>2005</td>\n",
       "      <td>Both sexes</td>\n",
       "      <td>79485.0</td>\n",
       "    </tr>\n",
       "    <tr>\n",
       "      <th>...</th>\n",
       "      <td>...</td>\n",
       "      <td>...</td>\n",
       "      <td>...</td>\n",
       "      <td>...</td>\n",
       "      <td>...</td>\n",
       "    </tr>\n",
       "    <tr>\n",
       "      <th>383</th>\n",
       "      <td>Nunavut</td>\n",
       "      <td>783.0</td>\n",
       "      <td>2015</td>\n",
       "      <td>Both sexes</td>\n",
       "      <td>9888.0</td>\n",
       "    </tr>\n",
       "    <tr>\n",
       "      <th>384</th>\n",
       "      <td>Nunavut</td>\n",
       "      <td>762.0</td>\n",
       "      <td>2016</td>\n",
       "      <td>Both sexes</td>\n",
       "      <td>10026.0</td>\n",
       "    </tr>\n",
       "    <tr>\n",
       "      <th>385</th>\n",
       "      <td>Nunavut</td>\n",
       "      <td>762.0</td>\n",
       "      <td>2016</td>\n",
       "      <td>Both sexes</td>\n",
       "      <td>10026.0</td>\n",
       "    </tr>\n",
       "    <tr>\n",
       "      <th>386</th>\n",
       "      <td>Nunavut</td>\n",
       "      <td>864.0</td>\n",
       "      <td>2017</td>\n",
       "      <td>Both sexes</td>\n",
       "      <td>10041.0</td>\n",
       "    </tr>\n",
       "    <tr>\n",
       "      <th>387</th>\n",
       "      <td>Nunavut</td>\n",
       "      <td>864.0</td>\n",
       "      <td>2017</td>\n",
       "      <td>Both sexes</td>\n",
       "      <td>10041.0</td>\n",
       "    </tr>\n",
       "  </tbody>\n",
       "</table>\n",
       "<p>388 rows × 5 columns</p>\n",
       "</div>"
      ],
      "text/plain": [
       "                           GEO   Count  Year         Sex  Enrollment\n",
       "0    Newfoundland and Labrador  8034.0  2003  Both sexes     84336.0\n",
       "1    Newfoundland and Labrador  8034.0  2003  Both sexes     84336.0\n",
       "2    Newfoundland and Labrador  7920.0  2004  Both sexes     81510.0\n",
       "3    Newfoundland and Labrador  7920.0  2004  Both sexes     81510.0\n",
       "4    Newfoundland and Labrador  7737.0  2005  Both sexes     79485.0\n",
       "..                         ...     ...   ...         ...         ...\n",
       "383                    Nunavut   783.0  2015  Both sexes      9888.0\n",
       "384                    Nunavut   762.0  2016  Both sexes     10026.0\n",
       "385                    Nunavut   762.0  2016  Both sexes     10026.0\n",
       "386                    Nunavut   864.0  2017  Both sexes     10041.0\n",
       "387                    Nunavut   864.0  2017  Both sexes     10041.0\n",
       "\n",
       "[388 rows x 5 columns]"
      ]
     },
     "execution_count": 77,
     "metadata": {},
     "output_type": "execute_result"
    }
   ],
   "source": [
    "count_df = all_df[[\"GEO\", \"Count\", \"Year\", \"Sex\"]]\n",
    "count_df = count_df[count_df[\"Sex\"] == \"Both sexes\"]\n",
    "enrol_df = joined_df[[\"GEO\", \"VALUE\", \"Year\"]].rename(columns={\"VALUE\": \"Enrollment\"})\n",
    "comb_df = count_df.merge(enrol_df, on=[\"GEO\", \"Year\"])\n",
    "comb_df"
   ]
  },
  {
   "cell_type": "code",
   "execution_count": 78,
   "metadata": {},
   "outputs": [
    {
     "data": {
      "text/plain": [
       "0.9847489932529957"
      ]
     },
     "execution_count": 78,
     "metadata": {},
     "output_type": "execute_result"
    }
   ],
   "source": [
    "comb_df[\"Count\"].corr(comb_df[\"Enrollment\"])\n",
    "# Include another column to divide enrollment divided by counts to predict class size\n",
    "# Bar graph with province on the x-axis and enrollment per teacher on the y-axis\n",
    "# PISA scores. 15 Years old. Compare provinces. FRASIER institude.\n",
    "# See enrollment per educator is changing over time across provinces. \n",
    "# Higher enrollment vs. educator rate is related to higher literacy rates?"
   ]
  }
 ],
 "metadata": {
  "kernelspec": {
   "display_name": "base",
   "language": "python",
   "name": "python3"
  },
  "language_info": {
   "codemirror_mode": {
    "name": "ipython",
    "version": 3
   },
   "file_extension": ".py",
   "mimetype": "text/x-python",
   "name": "python",
   "nbconvert_exporter": "python",
   "pygments_lexer": "ipython3",
   "version": "3.9.12"
  },
  "orig_nbformat": 4
 },
 "nbformat": 4,
 "nbformat_minor": 2
}
