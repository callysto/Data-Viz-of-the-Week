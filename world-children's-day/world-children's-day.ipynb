{
 "cells": [
  {
   "cell_type": "markdown",
   "metadata": {},
   "source": [
    "![Callysto.ca Banner](https://github.com/callysto/curriculum-notebooks/blob/master/callysto-notebook-banner-top.jpg?raw=true)"
   ]
  },
  {
   "cell_type": "markdown",
   "metadata": {},
   "source": [
    "# Callysto's Weekly Data Visualization\n"
   ]
  },
  {
   "cell_type": "markdown",
   "metadata": {},
   "source": [
    "## World Children's Day"
   ]
  },
  {
   "cell_type": "markdown",
   "metadata": {},
   "source": [
    "### Recommended Grade levels: "
   ]
  },
  {
   "cell_type": "markdown",
   "metadata": {},
   "source": [
    "### Instructions\n",
    "\n",
    "Click \"Cell\" and select \"Run All\".\n",
    "\n",
    "This will import the data and run all the code, so you can see this week's data visualization. Scroll back to the top after you’ve run the cells.\n",
    "\n",
    "![instructions](https://github.com/callysto/data-viz-of-the-week/blob/main/images/instructions.png?raw=true)\n",
    "\n",
    "**You don't need to do any coding to view the visualizations**.\n",
    "\n",
    "The plots generated in this notebook are interactive. You can hover over and click on elements to see more information. \n",
    "\n",
    "Email contact@callysto.ca if you experience issues."
   ]
  },
  {
   "cell_type": "markdown",
   "metadata": {},
   "source": [
    "### About this Notebook\n",
    "\n",
    "Callysto's Weekly Data Visualization is a learning resource that aims to develop data literacy skills. We provide Grades 5-12 teachers and students with a data visualization, like a graph, to interpret. This companion resource walks learners through how the data visualization is created and interpreted by a data scientist. \n",
    "\n",
    "The steps of the data analysis process are listed below and applied to each weekly topic.\n",
    "\n",
    "1. Question - What are we trying to answer?\n",
    "2. Gather - Find the data source(s) you will need. \n",
    "3. Organize - Arrange the data, so that you can easily explore it. \n",
    "4. Explore - Examine the data to look for evidence to answer the question. This includes creating visualizations. \n",
    "5. Interpret - Describe what's happening in the data visualization. \n",
    "6. Communicate - Explain how the evidence answers the question. "
   ]
  },
  {
   "cell_type": "markdown",
   "metadata": {},
   "source": [
    "## Question\n",
    "\n"
   ]
  },
  {
   "cell_type": "markdown",
   "metadata": {},
   "source": [
    "### Goal"
   ]
  },
  {
   "cell_type": "markdown",
   "metadata": {},
   "source": [
    "### Background\n",
    "\n"
   ]
  },
  {
   "cell_type": "markdown",
   "metadata": {},
   "source": [
    "## Gather"
   ]
  },
  {
   "cell_type": "markdown",
   "metadata": {},
   "source": [
    "### Code: "
   ]
  },
  {
   "cell_type": "markdown",
   "metadata": {},
   "source": [
    "Run the code cells below to import the libraries we need for this project. Libraries are pre-made code that make it easier to analyze our data."
   ]
  },
  {
   "cell_type": "code",
   "execution_count": null,
   "metadata": {},
   "outputs": [],
   "source": [
    "import pandas as pd\n",
    "import plotly.express as px\n",
    "try:\n",
    "    import pycountry_convert as pc\n",
    "except:\n",
    "    !pip install pycountry_convert\n",
    "    import pycountry_convert as pc\n",
    "import ipywidgets as widgets\n",
    "from ipywidgets import interact\n",
    "print(\"Libaries imported\")"
   ]
  },
  {
   "cell_type": "code",
   "execution_count": null,
   "metadata": {},
   "outputs": [],
   "source": [
    "percentage_pop = pd.read_csv(\"https://raw.githubusercontent.com/callysto/data-files/main/data-viz-of-the-week/world-children's-day/percentageofpopchildren.csv\", skiprows=4)\n",
    "primary_school = pd.read_csv(\"https://raw.githubusercontent.com/callysto/data-files/main/data-viz-of-the-week/world-children's-day/outofprimaryschool.csv\", skiprows=4)\n",
    "del percentage_pop['Unnamed: 67']\n",
    "del primary_school['Unnamed: 67']\n",
    "display(percentage_pop, primary_school)"
   ]
  },
  {
   "cell_type": "code",
   "execution_count": null,
   "metadata": {},
   "outputs": [],
   "source": [
    "def country_code_to_continent(country_code):\n",
    "    mapping = pc.map_country_alpha3_to_country_name()\n",
    "    try:\n",
    "        country_name = mapping[country_code]\n",
    "        country_alpha2 = pc.country_name_to_country_alpha2(country_name)\n",
    "        country_continent_code = pc.country_alpha2_to_continent_code(country_alpha2)\n",
    "        country_continent_name = pc.convert_continent_code_to_continent_name(country_continent_code)\n",
    "        return country_continent_name\n",
    "    except:\n",
    "        return None\n",
    "\n",
    "print(country_code_to_continent('ABW'))"
   ]
  },
  {
   "cell_type": "code",
   "execution_count": null,
   "metadata": {},
   "outputs": [],
   "source": [
    "country_codes = list(percentage_pop['Country Code'])\n",
    "print(country_codes)"
   ]
  },
  {
   "cell_type": "code",
   "execution_count": null,
   "metadata": {},
   "outputs": [],
   "source": [
    "for country in country_codes:\n",
    "    try:\n",
    "        percentage_pop.loc[percentage_pop['Country Code'] == country, 'Continent'] = country_code_to_continent(country)\n",
    "    except:\n",
    "        pass\n",
    "percentage_pop"
   ]
  },
  {
   "cell_type": "code",
   "execution_count": null,
   "metadata": {},
   "outputs": [],
   "source": [
    "pd.set_option('display.max_rows', None)\n",
    "countries_without_label = percentage_pop[percentage_pop['Continent'].isna()].reset_index(drop=True)\n",
    "temp = list(countries_without_label['Country Name'])\n",
    "display(temp)\n",
    "pd.reset_option('display.max_rows')"
   ]
  },
  {
   "cell_type": "code",
   "execution_count": null,
   "metadata": {},
   "outputs": [],
   "source": [
    "world_df = percentage_pop[percentage_pop['Country Name'] == 'World']\n",
    "world_df"
   ]
  },
  {
   "cell_type": "code",
   "execution_count": null,
   "metadata": {},
   "outputs": [],
   "source": [
    "percentage_pop = percentage_pop.dropna(subset=['Continent'])\n",
    "percentage_pop"
   ]
  },
  {
   "cell_type": "code",
   "execution_count": null,
   "metadata": {},
   "outputs": [],
   "source": [
    "cols_to_check = percentage_pop.columns[4:-1]\n",
    "hashmap_countries_max = {}\n",
    "for column in cols_to_check:\n",
    "    max_val = percentage_pop[column].max()\n",
    "    results = percentage_pop.loc[percentage_pop[column] == max_val]\n",
    "    \n",
    "    country_name = results['Country Name'].values[0]\n",
    "    hashmap_countries_max[country_name] = 1+hashmap_countries_max.get(country_name, 0)\n",
    "    \n",
    "    print(f\"{country_name} - {column}: ({max_val}%)\")"
   ]
  },
  {
   "cell_type": "code",
   "execution_count": null,
   "metadata": {},
   "outputs": [],
   "source": [
    "cols_to_check = percentage_pop.columns[4:-1]\n",
    "hashmap_countries_min = {}\n",
    "for column in cols_to_check:\n",
    "    min_val = percentage_pop[column].min()\n",
    "    results = percentage_pop.loc[percentage_pop[column] == min_val]\n",
    "    \n",
    "    country_name = results['Country Name'].values[0]\n",
    "    hashmap_countries_min[country_name] = 1+hashmap_countries_min.get(country_name, 0)\n",
    "    \n",
    "    print(f\"{country_name} - {column}: ({min_val}%)\")"
   ]
  },
  {
   "cell_type": "code",
   "execution_count": null,
   "metadata": {},
   "outputs": [],
   "source": [
    "hashmap_countries_max = {k: v for k, v in sorted(hashmap_countries_max.items(), key=lambda item: item[1])}\n",
    "\n",
    "print(f\"Total number of unique countries for max value: {len(hashmap_countries_max)}\")\n",
    "for country in hashmap_countries_max:\n",
    "    print(f\"{country}, Total count: {hashmap_countries_max[country]}\")\n",
    "\n",
    "print('\\n')\n",
    "hashmap_countries_min = {k: v for k, v in sorted(hashmap_countries_min.items(), key=lambda item: item[1])}\n",
    "\n",
    "print(f\"Total number of unique countries for min val: {len(hashmap_countries_min)}\")\n",
    "for country in hashmap_countries_min:\n",
    "    print(f\"{country}, Total count: {hashmap_countries_min[country]}\")"
   ]
  },
  {
   "cell_type": "code",
   "execution_count": null,
   "metadata": {},
   "outputs": [],
   "source": [
    "columns_to_plot = percentage_pop.columns[4:-1]\n",
    "\n",
    "continents = ['North America', 'Asia', 'Europe', 'Oceania', 'Africa', 'South America']\n",
    "\n",
    "continent_dropdown = widgets.Dropdown(options=continents, description='Continent')\n",
    "\n",
    "def update_plot(continent):\n",
    "    continent_filtered = percentage_pop[percentage_pop['Continent'] == continent]\n",
    "\n",
    "    per_year_df = pd.melt(continent_filtered, id_vars=['Country Name'], value_vars=columns_to_plot,var_name='Year', value_name='Percentage')\n",
    "    continental_fig = px.line(per_year_df, x='Year', y='Percentage',color='Country Name', line_group='Country Name', hover_name='Country Name')\n",
    "\n",
    "    continental_fig.update_layout(title=f'Population Percentage Under 14 in {continent}',xaxis_title='Year',yaxis_title='Percentage',legend_title='Country').show()\n",
    "\n",
    "interact(update_plot, continent=continent_dropdown)"
   ]
  }
 ],
 "metadata": {
  "kernelspec": {
   "display_name": "Python 3",
   "language": "python",
   "name": "python3"
  },
  "language_info": {
   "codemirror_mode": {
    "name": "ipython",
    "version": 3
   },
   "file_extension": ".py",
   "mimetype": "text/x-python",
   "name": "python",
   "nbconvert_exporter": "python",
   "pygments_lexer": "ipython3",
   "version": "3.10.8"
  }
 },
 "nbformat": 4,
 "nbformat_minor": 2
}
