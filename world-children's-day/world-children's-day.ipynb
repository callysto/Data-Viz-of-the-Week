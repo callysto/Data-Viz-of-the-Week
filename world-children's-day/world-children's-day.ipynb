{
 "cells": [
  {
   "cell_type": "markdown",
   "metadata": {},
   "source": [
    "![Callysto.ca Banner](https://github.com/callysto/curriculum-notebooks/blob/master/callysto-notebook-banner-top.jpg?raw=true)\n",
    "\n",
    "<a href=\"https://hub.callysto.ca/jupyter/hub/user-redirect/git-pull?repo=https%3A%2F%2Fgithub.com%2Fcallysto%2Fdata-viz-of-the-week&branch=master&subPath=world-children's-day/world-children's-day.ipynb&depth=1\" target=\"_parent\"><img src=\"https://raw.githubusercontent.com/callysto/curriculum-notebooks/master/open-in-callysto-button.svg?sanitize=true\" width=\"123\" height=\"24\" alt=\"Open in Callysto\"/></a>"
   ]
  },
  {
   "cell_type": "markdown",
   "metadata": {},
   "source": [
    "# Callysto's Weekly Data Visualization\n"
   ]
  },
  {
   "cell_type": "markdown",
   "metadata": {},
   "source": [
    "## World Children's Day"
   ]
  },
  {
   "cell_type": "markdown",
   "metadata": {},
   "source": [
    "### Recommended Grade levels: "
   ]
  },
  {
   "cell_type": "markdown",
   "metadata": {},
   "source": [
    "### Instructions\n",
    "\n",
    "Click \"Cell\" and select \"Run All\".\n",
    "\n",
    "This will import the data and run all the code, so you can see this week's data visualization. Scroll back to the top after you’ve run the cells.\n",
    "\n",
    "![instructions](https://github.com/callysto/data-viz-of-the-week/blob/main/images/instructions.png?raw=true)\n",
    "\n",
    "**You don't need to do any coding to view the visualizations**.\n",
    "\n",
    "The plots generated in this notebook are interactive. You can hover over and click on elements to see more information. \n",
    "\n",
    "Email contact@callysto.ca if you experience issues."
   ]
  },
  {
   "cell_type": "markdown",
   "metadata": {},
   "source": [
    "### About this Notebook\n",
    "\n",
    "Callysto's Weekly Data Visualization is a learning resource that aims to develop data literacy skills. We provide Grades 5-12 teachers and students with a data visualization, like a graph, to interpret. This companion resource walks learners through how the data visualization is created and interpreted by a data scientist. \n",
    "\n",
    "The steps of the data analysis process are listed below and applied to each weekly topic.\n",
    "\n",
    "1. Question - What are we trying to answer?\n",
    "2. Gather - Find the data source(s) you will need. \n",
    "3. Organize - Arrange the data, so that you can easily explore it. \n",
    "4. Explore - Examine the data to look for evidence to answer the question. This includes creating visualizations. \n",
    "5. Interpret - Describe what's happening in the data visualization. \n",
    "6. Communicate - Explain how the evidence answers the question. "
   ]
  },
  {
   "cell_type": "markdown",
   "metadata": {},
   "source": [
    "## Question\n",
    "\n",
    "What are the percentage of the global population around the world that is under 14, and how many children worldwide are out of primary school? What can be interpreted based on this information? "
   ]
  },
  {
   "cell_type": "markdown",
   "metadata": {},
   "source": [
    "### Goal\n",
    "\n",
    "Our goal in this notebook is to uncover trends in the global population, focusing on the percentage of individuals aged 14 and under, and the number of children worldwide who are out of primary school. Specifically, we want to see if these trends are scaling up or down, and find out whether educational efforts are being made to help children attend primary school.\n",
    "\n",
    "In this notebook, our objective is to discern trends in the global population, focusing on the percentage of individuals aged 14 and under, and the count of children worldwide who lack access to primary school education. Our primary focus is to discover whether these trends indicate an upward or downward trajectory, and find out whether educational efforts are being made to help children attend primary school."
   ]
  },
  {
   "cell_type": "markdown",
   "metadata": {},
   "source": [
    "### Background\n",
    "\n",
    "The well-being and education of younger generations play a pivotal role in shaping the future of our global community.  Children represent our future leaders, innovators, and caretakers, and their success contributes to the ongoing cycle of progress.\n",
    "\n",
    "This background sets the stage for our exploration, emphasizing the significance of understanding and addressing trends in the global population, particularly those related to the percentage of individuals aged 14 and under, and the educational status of children worldwide."
   ]
  },
  {
   "cell_type": "markdown",
   "metadata": {},
   "source": [
    "## Gather\n",
    "\n",
    "Our data is collected through [the World Bank](https://data.worldbank.org/). Population ages 0-14 (% of total population) is sourced by the United Nations Population Division, and can be found [here](https://data.worldbank.org/indicator/SP.POP.0014.TO.ZS). Children out of school, primary is sourced by the UNESCO Institute for Statistics, and can be found [here](https://data.worldbank.org/indicator/SE.PRM.UNER)."
   ]
  },
  {
   "cell_type": "markdown",
   "metadata": {},
   "source": [
    "### Code: "
   ]
  },
  {
   "cell_type": "markdown",
   "metadata": {},
   "source": [
    "Run the code cells below to import the libraries we need for this project. Libraries are pre-made code that make it easier to analyze our data."
   ]
  },
  {
   "cell_type": "code",
   "execution_count": null,
   "metadata": {},
   "outputs": [],
   "source": [
    "import pandas as pd\n",
    "import plotly.express as px\n",
    "import plotly.graph_objects as go\n",
    "try:\n",
    "    import pycountry_convert as pc\n",
    "except:\n",
    "    !pip install pycountry_convert\n",
    "    import pycountry_convert as pc\n",
    "import ipywidgets\n",
    "from ipywidgets import interact\n",
    "import geopandas as gpd\n",
    "import folium \n",
    "\n",
    "print(\"Libaries imported\")"
   ]
  },
  {
   "cell_type": "code",
   "execution_count": null,
   "metadata": {},
   "outputs": [],
   "source": [
    "percentage_pop = pd.read_csv(\"https://raw.githubusercontent.com/callysto/data-files/main/data-viz-of-the-week/world-children's-day/percentageofpopchildren.csv\", skiprows=4)\n",
    "primary_school = pd.read_csv(\"https://raw.githubusercontent.com/callysto/data-files/main/data-viz-of-the-week/world-children's-day/outofprimaryschool.csv\", skiprows=4)\n",
    "del percentage_pop['Unnamed: 67']\n",
    "del primary_school['Unnamed: 67']\n",
    "display(percentage_pop, primary_school)"
   ]
  },
  {
   "cell_type": "code",
   "execution_count": null,
   "metadata": {},
   "outputs": [],
   "source": [
    "def country_code_to_continent(country_code):\n",
    "    mapping = pc.map_country_alpha3_to_country_name()\n",
    "    try:\n",
    "        country_name = mapping[country_code]\n",
    "        country_alpha2 = pc.country_name_to_country_alpha2(country_name)\n",
    "        country_continent_code = pc.country_alpha2_to_continent_code(country_alpha2)\n",
    "        country_continent_name = pc.convert_continent_code_to_continent_name(country_continent_code)\n",
    "        return country_continent_name\n",
    "    except:\n",
    "        return None\n",
    "\n",
    "print(country_code_to_continent('ABW'))"
   ]
  },
  {
   "cell_type": "code",
   "execution_count": null,
   "metadata": {},
   "outputs": [],
   "source": [
    "country_codes = list(percentage_pop['Country Code'])\n",
    "print(country_codes)"
   ]
  },
  {
   "cell_type": "code",
   "execution_count": null,
   "metadata": {},
   "outputs": [],
   "source": [
    "for country in country_codes:\n",
    "    try:\n",
    "        percentage_pop.loc[percentage_pop['Country Code'] == country, 'Continent'] = country_code_to_continent(country)\n",
    "    except:\n",
    "        pass\n",
    "percentage_pop"
   ]
  },
  {
   "cell_type": "code",
   "execution_count": null,
   "metadata": {},
   "outputs": [],
   "source": [
    "pd.set_option('display.max_rows', None)\n",
    "countries_without_label = percentage_pop[percentage_pop['Continent'].isna()].reset_index(drop=True)\n",
    "temp = list(countries_without_label['Country Name'])\n",
    "display(temp)\n",
    "pd.reset_option('display.max_rows')"
   ]
  },
  {
   "cell_type": "code",
   "execution_count": null,
   "metadata": {},
   "outputs": [],
   "source": [
    "world_df = percentage_pop[percentage_pop['Country Name'] == 'World']\n",
    "world_df"
   ]
  },
  {
   "cell_type": "code",
   "execution_count": null,
   "metadata": {},
   "outputs": [],
   "source": [
    "percentage_pop = percentage_pop.dropna(subset=['Continent'])\n",
    "percentage_pop"
   ]
  },
  {
   "cell_type": "code",
   "execution_count": null,
   "metadata": {},
   "outputs": [],
   "source": [
    "cols_to_check = percentage_pop.columns[4:-1]\n",
    "hashmap_countries_max = {}\n",
    "for column in cols_to_check:\n",
    "    max_val = percentage_pop[column].max()\n",
    "    results = percentage_pop.loc[percentage_pop[column] == max_val]\n",
    "    \n",
    "    country_name = results['Country Name'].values[0]\n",
    "    hashmap_countries_max[country_name] = 1+hashmap_countries_max.get(country_name, 0)\n",
    "    \n",
    "    print(f\"{country_name} - {column}: {max_val}%\")"
   ]
  },
  {
   "cell_type": "code",
   "execution_count": null,
   "metadata": {},
   "outputs": [],
   "source": [
    "cols_to_check = percentage_pop.columns[4:-1]\n",
    "hashmap_countries_min = {}\n",
    "for column in cols_to_check:\n",
    "    min_val = percentage_pop[column].min()\n",
    "    results = percentage_pop.loc[percentage_pop[column] == min_val]\n",
    "    \n",
    "    country_name = results['Country Name'].values[0]\n",
    "    hashmap_countries_min[country_name] = 1+hashmap_countries_min.get(country_name, 0)\n",
    "    \n",
    "    print(f\"{country_name} - {column}: {min_val}%\")"
   ]
  },
  {
   "cell_type": "code",
   "execution_count": null,
   "metadata": {},
   "outputs": [],
   "source": [
    "hashmap_countries_max = {k: v for k, v in sorted(hashmap_countries_max.items(), key=lambda item: item[1])}\n",
    "\n",
    "print(f\"Total number of unique countries for max value: {len(hashmap_countries_max)}\")\n",
    "for country in hashmap_countries_max:\n",
    "    print(f\"{country}, Total count: {hashmap_countries_max[country]}\")\n",
    "\n",
    "print('\\n')\n",
    "hashmap_countries_min = {k: v for k, v in sorted(hashmap_countries_min.items(), key=lambda item: item[1])}\n",
    "\n",
    "print(f\"Total number of unique countries for min val: {len(hashmap_countries_min)}\")\n",
    "for country in hashmap_countries_min:\n",
    "    print(f\"{country}, Total count: {hashmap_countries_min[country]}\")"
   ]
  },
  {
   "cell_type": "code",
   "execution_count": null,
   "metadata": {},
   "outputs": [],
   "source": [
    "years = []\n",
    "percentages = []\n",
    "\n",
    "for column in cols_to_check:\n",
    "    years.append(int(column))\n",
    "    percentages.append(world_df[column].values[0])\n",
    "\n",
    "px.line(x=years, y=percentages, labels={'x': 'Year', 'y': 'Percentage'}, title='World Population Percentage Under 14 from 1960-2022').show()"
   ]
  },
  {
   "cell_type": "code",
   "execution_count": null,
   "metadata": {},
   "outputs": [],
   "source": [
    "individual_continents = percentage_pop[['Continent'] + list(cols_to_check)]\n",
    "\n",
    "continents_avg = individual_continents.groupby('Continent').mean().reset_index()\n",
    "continents_avg"
   ]
  },
  {
   "cell_type": "code",
   "execution_count": null,
   "metadata": {},
   "outputs": [],
   "source": [
    "continental_melted = pd.melt(continents_avg, id_vars=['Continent'], value_vars=cols_to_check, var_name='Year', value_name='Percentage')\n",
    "\n",
    "px.line(continental_melted, x='Year', y='Percentage', color='Continent',labels={'x': 'Year', 'y': 'Percentage'}, title='Average Continental Population Percentage Under 14 from 1960-2022').show()"
   ]
  },
  {
   "cell_type": "code",
   "execution_count": null,
   "metadata": {},
   "outputs": [],
   "source": [
    "columns_to_plot = percentage_pop.columns[4:-1]\n",
    "\n",
    "continents = ['North America', 'Asia', 'Europe', 'Oceania', 'Africa', 'South America']\n",
    "\n",
    "continent_dropdown = ipywidgets.Dropdown(options=continents, description='Continent')\n",
    "def update_plot(continent):\n",
    "    continent_filtered = percentage_pop[percentage_pop['Continent'] == continent]\n",
    "\n",
    "    per_year_df = pd.melt(continent_filtered, id_vars=['Country Name'], value_vars=columns_to_plot, var_name='Year', value_name='Percentage')\n",
    "\n",
    "    world_avg_df = pd.melt(world_df, id_vars='Country Name', value_vars=columns_to_plot, var_name='Year', value_name='Percentage')\n",
    "    # Set the country name for the world average\n",
    "    world_avg_df['Country Name'] = 'World'  \n",
    "\n",
    "    final_df = pd.concat([per_year_df, world_avg_df], ignore_index=True)\n",
    "\n",
    "    continental_fig = px.line(final_df, x='Year', y='Percentage', color='Country Name', line_group='Country Name', hover_name='Country Name')\n",
    "    continental_fig.update_layout(title=f'Countries in {continent} with Population Percentage Under 14', xaxis_title='Year', yaxis_title='Percentage', legend_title='Country', height=800).show()\n",
    "\n",
    "interact(update_plot, continent=continent_dropdown)"
   ]
  },
  {
   "cell_type": "code",
   "execution_count": null,
   "metadata": {},
   "outputs": [],
   "source": [
    "countries_geojson = gpd.read_file('https://raw.githubusercontent.com/callysto/data-files/main/SocialStudies/UnitedNations/countries.geojson')\n",
    "countries_geojson"
   ]
  },
  {
   "cell_type": "code",
   "execution_count": null,
   "metadata": {},
   "outputs": [],
   "source": [
    "merged_df = pd.merge(countries_geojson, percentage_pop, left_on='ISO_A3', right_on='Country Code', how='left')\n",
    "merged_df"
   ]
  },
  {
   "cell_type": "code",
   "execution_count": null,
   "metadata": {},
   "outputs": [],
   "source": [
    "percentage_country_map = ipywidgets.Output(layout={'border': '1px solid black'})\n",
    "\n",
    "column_names = merged_df.columns[7:-1].tolist()\n",
    "dropdown_options = ipywidgets.Dropdown(\n",
    "    options=column_names,\n",
    "    value=column_names[0],\n",
    "    description='Column:',\n",
    "    disabled=False\n",
    ")\n",
    "\n",
    "def update_choropleth(change):\n",
    "    percentage_country_map.clear_output()\n",
    "    with percentage_country_map:\n",
    "        m = folium.Map()\n",
    "        folium.Choropleth(\n",
    "            geo_data=countries_geojson,\n",
    "            data=merged_df,\n",
    "            columns=['ADMIN', dropdown_options.value],  \n",
    "            key_on='feature.properties.ADMIN',  \n",
    "            fill_color='YlGn',\n",
    "            fill_opacity=0.7,\n",
    "            line_opacity=0.2,\n",
    "            legend_name=f'{dropdown_options.value}',\n",
    "        ).add_to(m)\n",
    "        display(m)\n",
    "\n",
    "dropdown_options.observe(update_choropleth, names='value')\n",
    "display(dropdown_options)\n",
    "update_choropleth({'new': column_names[0]})\n",
    "\n",
    "percentage_country_map"
   ]
  },
  {
   "cell_type": "code",
   "execution_count": null,
   "metadata": {},
   "outputs": [],
   "source": [
    "primary_school"
   ]
  },
  {
   "cell_type": "code",
   "execution_count": null,
   "metadata": {},
   "outputs": [],
   "source": [
    "total_none = primary_school.isnull().sum().sum()\n",
    "print(f\"Total number of missing values: {total_none}\")"
   ]
  },
  {
   "cell_type": "code",
   "execution_count": null,
   "metadata": {},
   "outputs": [],
   "source": [
    "cols_to_check = primary_school.columns[4:-1]\n",
    "cols_to_check"
   ]
  },
  {
   "cell_type": "code",
   "execution_count": null,
   "metadata": {},
   "outputs": [],
   "source": [
    "none_counts = primary_school[cols_to_check].count(axis=1)\n",
    "\n",
    "# Eliminate any rows with more than half of the year columns missing\n",
    "filtered_primary_school = primary_school[none_counts >= len(cols_to_check) / 2]\n",
    "filtered_primary_school = filtered_primary_school.reset_index(drop=True)\n",
    "display(filtered_primary_school)"
   ]
  },
  {
   "cell_type": "code",
   "execution_count": null,
   "metadata": {},
   "outputs": [],
   "source": [
    "country_dropdown = ipywidgets.Dropdown(options=filtered_primary_school['Country Name'].unique(), description='Country')\n",
    "\n",
    "def update_plot(country):\n",
    "    country_data = filtered_primary_school[filtered_primary_school['Country Name'] == country]\n",
    "    melted_country_data = pd.melt(country_data, id_vars=['Country Name'], value_vars=cols_to_check, var_name='Year', value_name='Percentage')\n",
    "    px.line(melted_country_data, x='Year', y='Percentage',labels={'x': 'Year', 'y': 'Percentage'},title=f'Progression of Number of Children out of Primary School from 1960-2022 in {country}').show()\n",
    "    \n",
    "interact(update_plot, country=country_dropdown)"
   ]
  },
  {
   "cell_type": "code",
   "execution_count": null,
   "metadata": {},
   "outputs": [],
   "source": [
    "# Extract the last 23 columns\n",
    "years_to_check = filtered_primary_school.columns[-23:]\n",
    "\n",
    "country_names = []\n",
    "recent_years = []\n",
    "recent_values = []\n",
    "average_values = []\n",
    "\n",
    "for index, row in filtered_primary_school.iterrows():\n",
    "    value_2022 = row.get('2022', None)\n",
    "    \n",
    "    if pd.isna(value_2022):\n",
    "        for year in range(2021, 1999, -1):\n",
    "            value_2022 = row.get(str(year), None)\n",
    "            if not pd.isna(value_2022):\n",
    "                break\n",
    "\n",
    "    elif value_2022 is not None:\n",
    "        year = 2022\n",
    "\n",
    "    values_2002_to_2021 = row[years_to_check]\n",
    "\n",
    "    average_2002_to_2021 = values_2002_to_2021.mean()\n",
    "\n",
    "    country_names.append(row['Country Name'])\n",
    "    recent_years.append(year)\n",
    "    recent_values.append(value_2022)\n",
    "    average_values.append(average_2002_to_2021)\n",
    "\n",
    "comparison_fig = go.Figure()\n",
    "\n",
    "comparison_fig.add_trace(go.Bar(x=country_names, y=recent_values,text=recent_years, hovertemplate='Year: %{text}<br>Number of Children out of Primary School: %{y}',name='Most Recent Year', marker_color='blue'))\n",
    "comparison_fig.add_trace(go.Bar(x=country_names, y=average_values, name='20 Years Average', marker_color='orange'))\n",
    "\n",
    "comparison_fig.update_layout(title=\"Comparison of Number of Children out of Primary School for Most Recent Year and 20 Years Averages from 1960-2022\",xaxis_title='Country', yaxis_title='Number of Children out of Primary School',barmode='group', height=800)\n",
    "\n",
    "comparison_fig.show()"
   ]
  }
 ],
 "metadata": {
  "kernelspec": {
   "display_name": "Python 3",
   "language": "python",
   "name": "python3"
  },
  "language_info": {
   "codemirror_mode": {
    "name": "ipython",
    "version": 3
   },
   "file_extension": ".py",
   "mimetype": "text/x-python",
   "name": "python",
   "nbconvert_exporter": "python",
   "pygments_lexer": "ipython3",
   "version": "3.10.8"
  }
 },
 "nbformat": 4,
 "nbformat_minor": 2
}
