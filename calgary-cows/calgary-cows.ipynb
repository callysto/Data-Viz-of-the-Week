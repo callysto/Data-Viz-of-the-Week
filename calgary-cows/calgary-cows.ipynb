{
 "cells": [
  {
   "attachments": {},
   "cell_type": "markdown",
   "metadata": {},
   "source": [
    "![Callysto.ca Banner](https://github.com/callysto/curriculum-notebooks/blob/master/callysto-notebook-banner-top.jpg?raw=true)"
   ]
  },
  {
   "attachments": {},
   "cell_type": "markdown",
   "metadata": {},
   "source": [
    "# Callysto’s Weekly Data Visualization\n",
    "\n",
    "## Calgary Cows"
   ]
  },
  {
   "attachments": {},
   "cell_type": "markdown",
   "metadata": {},
   "source": [
    "### Instructions\n",
    "\n",
    "Click \"Cell\" and select \"Run All\".\n",
    "\n",
    "This will import the data and run all the code, so you can see this week's data visualization. Scroll back to the top after you’ve run the cells.\n",
    "\n",
    "![instructions](https://github.com/callysto/data-viz-of-the-week/blob/main/images/instructions.png?raw=true)\n",
    "\n",
    "**You don't need to do any coding to view the visualizations**.\n",
    "\n",
    "The plots generated in this notebook are interactive. You can hover over and click on elements to see more information. \n",
    "\n",
    "Email contact@callysto.ca if you experience issues."
   ]
  },
  {
   "attachments": {},
   "cell_type": "markdown",
   "metadata": {},
   "source": [
    "### About this Notebook\n",
    "\n",
    "Callysto's Weekly Data Visualization is a learning resource that aims to develop data literacy skills. We provide Grades 5-12 teachers and students with a data visualization, like a graph, to interpret. This companion resource walks learners through how the data visualization is created and interpreted by a data scientist. \n",
    "\n",
    "The steps of the data analysis process are listed below and applied to each weekly topic.\n",
    "\n",
    "1. Question - What are we trying to answer?\n",
    "2. Gather - Find the data source(s) you will need. \n",
    "3. Organize - Arrange the data, so that you can easily explore it. \n",
    "4. Explore - Examine the data to look for evidence to answer the question. This includes creating visualizations. \n",
    "5. Interpret - Describe what's happening in the data visualization. \n",
    "6. Communicate - Explain how the evidence answers the question. "
   ]
  },
  {
   "attachments": {},
   "cell_type": "markdown",
   "metadata": {},
   "source": [
    "# Introduction\n",
    "\n",
    "The Calgary Stampede is a yearly event in Calgary that blends cowboy culture with an enjoyable carnival atmosphere. Alongside concerts and shows, the Stampede showcases an array of engaging events featuring livestock. In honor of the Calgary Stampede, Callysto built a data visualization centered around a public art installation highlighting cows in Calgary\n",
    "\n",
    "The [Udderly Art](https://web.archive.org/web/20010805180042/http:/udderlyart.com/about.html) project was undertaken by philanthropists and artists in the year 2000. Organizations purchased the cows and worked with a local artist to decorate it and afterwards the cows were placed throughtout Calgary before being auctioned off. There are a still number of these cows throughout Calgary. Our goal in this data visualization was to visualize where the cows are located.\n",
    "\n",
    "The design of each cow is specifically linked to it's location. For example, Miss Cowgary International, has many flags on it and it's location is at the front of the Flagworks Store."
   ]
  },
  {
   "attachments": {},
   "cell_type": "markdown",
   "metadata": {},
   "source": [
    "# Gather"
   ]
  },
  {
   "attachments": {},
   "cell_type": "markdown",
   "metadata": {},
   "source": [
    "### Code:"
   ]
  },
  {
   "attachments": {},
   "cell_type": "markdown",
   "metadata": {},
   "source": [
    "Run the code cells below to import the libraries we need for this project. Libraries are pre-made code that make it easier to analyze our data."
   ]
  },
  {
   "cell_type": "code",
   "execution_count": null,
   "metadata": {},
   "outputs": [],
   "source": [
    "import folium\n",
    "import pandas as pd\n",
    "from mobilechelonian import Turtle\n",
    "print(\"All libraries imported\")"
   ]
  },
  {
   "attachments": {},
   "cell_type": "markdown",
   "metadata": {},
   "source": [
    "### Data\n",
    "\n",
    "We used data from the archived website for the Udderly Art project. We only used cows denoted on the website as \"Mavericks\". The website defines Mavericks as the first twenty cows that had unique branding."
   ]
  },
  {
   "cell_type": "code",
   "execution_count": null,
   "metadata": {},
   "outputs": [],
   "source": [
    "df = pd.read_csv('https://raw.githubusercontent.com/callysto/data-files/main/data-viz-of-the-week/calgary-cows/calgary_cows.csv')\n",
    "df"
   ]
  },
  {
   "attachments": {},
   "cell_type": "markdown",
   "metadata": {},
   "source": [
    "# Explore"
   ]
  },
  {
   "attachments": {},
   "cell_type": "markdown",
   "metadata": {},
   "source": [
    "### Create a Map\n",
    "\n",
    "Run the code below to generate a map of where the cows are located around Calgary. You can zoom in on the map to see it in more detail. Is there a painted cow located near you?"
   ]
  },
  {
   "cell_type": "code",
   "execution_count": null,
   "metadata": {},
   "outputs": [],
   "source": [
    "# Create a map centered around Calgary\n",
    "calgary_map = folium.Map(location=[51.0447, -114.0719], zoom_start=13)\n",
    "\n",
    "for index, row in df.iterrows():\n",
    "    lat, lon = row['latitude'], row['longitude']\n",
    "    cow_name = row['cow_name']\n",
    "    url = row['url']\n",
    "    popup_content = f'<a href=\"{url}\">{cow_name}</a>'\n",
    "    marker = folium.Marker([lat, lon], popup=popup_content)\n",
    "    marker.add_to(calgary_map)\n",
    "\n",
    "calgary_map"
   ]
  },
  {
   "attachments": {},
   "cell_type": "markdown",
   "metadata": {},
   "source": [
    "### Examine the Map\n",
    "\n",
    "* When looking at the map where does it seem like most of the cows are located?\n",
    "\n",
    "### Create a Cow\n",
    "\n",
    "In this final section, create your own \"painted\" cow using the `mobilechelonian` drawing library!\n",
    "\n",
    "A list of commands to create your own cow are listed below."
   ]
  },
  {
   "attachments": {},
   "cell_type": "markdown",
   "metadata": {},
   "source": [
    "\n",
    "| Command             | Description                                                         | Example                 |\n",
    "|---------------------|---------------------------------------------------------------------|-------------------------|\n",
    "| t.speed(integer)    | speed of your turtle, from 1 to 10                                  | t.speed(10)             |\n",
    "| t.right(degrees)    | turn turtle right a certain number of degrees                       | t.right(90)             |\n",
    "| t.left(degrees)     | turn turtle left a certain number of degrees                        | t.left(45)              |\n",
    "| t.forward(units)    | move your turtle forward a certain number of pixels                 | t.forward(100)          |\n",
    "| t.backward(units)   | move your turtle backward a certain number of pixels                | t.backward(20)          |\n",
    "| t.circle(r, degrees)| have your turtle draw a piece of a circle of radius r, through some number of degrees | t.circle(40, 360) |\n",
    "| t.penup()           | now your turtle can move without drawing lines                      | t.penup()               |\n",
    "| t.pendown()         | make your turtle draw lines again                                   | t.pendown()             |\n",
    "| t.pencolor('color')     | color of your turtle’s line using a color name                   | t.pencolor('blue')      |\n",
    "| t.pencolor('rgb(R, G, B)') | color of your turtle’s line using red, green, and blue values from 0 to 255 | t.pencolor('rgb(0, 255, 100)') |\n",
    "| t.setposition(x, y)     | move the turtle to a specific position. (0,0) is the top left and (400, 400) is the bottom right | t.setposition(100, 250) |\n",
    "| t.home()             | move the turtle back to the center of the screen                    | t.home()                |\n",
    "| t.setbearing(degrees)| set the turtle’s heading to a specific number of degrees             | t.setbearing(90)        |"
   ]
  },
  {
   "attachments": {},
   "cell_type": "markdown",
   "metadata": {},
   "source": [
    "To get started, here is some demo code creating the base body for a cow."
   ]
  },
  {
   "cell_type": "code",
   "execution_count": null,
   "metadata": {},
   "outputs": [],
   "source": [
    "t = Turtle()\n",
    "t.speed(10)\n",
    "t.forward(100)\n",
    "t.circle(40, 180)\n",
    "t.forward(100)\n",
    "t.penup()\n",
    "t.forward(50)\n",
    "t.left(90)\n",
    "t.forward(10)\n",
    "t.pendown()\n",
    "t.circle(30, 360)\n",
    "t.penup()\n",
    "t.home()\n",
    "t.pendown()\n",
    "t.left(180)\n",
    "t.circle(-40, 95)\n",
    "t.penup()\n",
    "t.home()\n",
    "t.pendown()\n",
    "\n",
    "for i in range(2):\n",
    "    t.setbearing(180)\n",
    "    t.forward(15)\n",
    "    t.circle(5, 180)\n",
    "    t.forward(15)\n",
    "    \n",
    "t.penup()\n",
    "t.home()\n",
    "t.right(180)\n",
    "t.backward(75)\n",
    "t.pendown()\n",
    "\n",
    "for i in range(2):\n",
    "    t.setbearing(180)\n",
    "    t.forward(15)\n",
    "    t.circle(5, 180)\n",
    "    t.forward(15)"
   ]
  },
  {
   "attachments": {},
   "cell_type": "markdown",
   "metadata": {},
   "source": [
    "In the cell below, create your own rendition of a \"painted\" cow"
   ]
  },
  {
   "cell_type": "code",
   "execution_count": null,
   "metadata": {},
   "outputs": [],
   "source": [
    "# To begin, uncomment or remove the # in the line below\n",
    "# t = Turtle()"
   ]
  },
  {
   "attachments": {},
   "cell_type": "markdown",
   "metadata": {},
   "source": [
    "# Communicate\n",
    "\n",
    "Below are some writing prompts to help you reflect on the new information that is presented from the data. When we look at the evidence, think about what you perceive about the information. Is this perception based on what the evidence shows? If others were to view it, what perceptions might they have?\n",
    "\n",
    "- I used to think ____________________but now I know____________________. \n",
    "- I wish I knew more about ____________________. \n",
    "- This visualization reminds me of ____________________. \n",
    "- I really like ____________________.\n"
   ]
  },
  {
   "attachments": {},
   "cell_type": "markdown",
   "metadata": {},
   "source": [
    "[![Callysto.ca License](https://github.com/callysto/curriculum-notebooks/blob/master/callysto-notebook-banner-bottom.jpg?raw=true)](https://github.com/callysto/curriculum-notebooks/blob/master/LICENSE.md)"
   ]
  }
 ],
 "metadata": {
  "kernelspec": {
   "display_name": "Python 3",
   "language": "python",
   "name": "python3"
  },
  "language_info": {
   "codemirror_mode": {
    "name": "ipython",
    "version": 3
   },
   "file_extension": ".py",
   "mimetype": "text/x-python",
   "name": "python",
   "nbconvert_exporter": "python",
   "pygments_lexer": "ipython3",
   "version": "3.10.9"
  },
  "orig_nbformat": 4
 },
 "nbformat": 4,
 "nbformat_minor": 2
}
