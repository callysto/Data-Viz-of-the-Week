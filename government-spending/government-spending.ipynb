{
 "cells": [
  {
   "cell_type": "markdown",
   "metadata": {},
   "source": [
    "![Callysto.ca Banner](https://github.com/callysto/curriculum-notebooks/blob/master/callysto-notebook-banner-top.jpg?raw=true)"
   ]
  },
  {
   "cell_type": "markdown",
   "metadata": {},
   "source": [
    "\n",
    "\n",
    "<a href=\"https://hub.callysto.ca/jupyter/hub/user-redirect/git-pull?repo=https%3A%2F%2Fgithub.com%2Fcallysto%2Fdata-viz-of-the-week&branch=main&subPath=government-spending/government-spending.ipynb&depth=1\" target=\"_parent\"><img src=\"https://raw.githubusercontent.com/callysto/curriculum-notebooks/master/open-in-callysto-button.svg?sanitize=true\" width=\"123\" height=\"24\" alt=\"Open in Callysto\"></a>"
   ]
  },
  {
   "cell_type": "markdown",
   "metadata": {},
   "source": [
    "# Callysto’s Weekly Data Visualization\n",
    "\n",
    "## Government Spending\n",
    "\n",
    "### Recommended Grade levels:\n",
    "<br>"
   ]
  },
  {
   "cell_type": "markdown",
   "metadata": {},
   "source": [
    "### Instructions\n",
    "\n",
    "Click \"Cell\" and select \"Run All\".\n",
    "\n",
    "This will import the data and run all the code, so you can see this week's data visualization. Scroll back to the top after you’ve run the cells.\n",
    "\n",
    "![instructions](https://github.com/callysto/data-viz-of-the-week/blob/main/images/instructions.png?raw=true)\n",
    "\n",
    "**You don't need to do any coding to view the visualizations**.\n",
    "\n",
    "The plots generated in this notebook are interactive. You can hover over and click on elements to see more information. \n",
    "\n",
    "Email contact@callysto.ca if you experience issues."
   ]
  },
  {
   "cell_type": "markdown",
   "metadata": {},
   "source": [
    "### About this Notebook\n",
    "\n",
    "Callysto's Weekly Data Visualization is a learning resource that aims to develop data literacy skills. We provide Grades 5-12 teachers and students with a data visualization, like a graph, to interpret. This companion resource walks learners through how the data visualization is created and interpreted by a data scientist. \n",
    "\n",
    "The steps of the data analysis process are listed below and applied to each weekly topic.\n",
    "\n",
    "1. Question - What are we trying to answer?\n",
    "2. Gather - Find the data source(s) you will need. \n",
    "3. Organize - Arrange the data, so that you can easily explore it. \n",
    "4. Explore - Examine the data to look for evidence to answer the question. This includes creating visualizations. \n",
    "5. Interpret - Describe what's happening in the data visualization. \n",
    "6. Communicate - Explain how the evidence answers the question. "
   ]
  },
  {
   "cell_type": "markdown",
   "metadata": {},
   "source": [
    "## Question\n",
    "\n",
    "Which sectors receive funding from the Canadian government, and what is the allocation of the government's budget to specific categories? "
   ]
  },
  {
   "cell_type": "markdown",
   "metadata": {},
   "source": [
    "### Goal\n",
    "\n",
    "Our mission is to look at how the different sectors in the Canadian government and identify which spend and most/least of the allocated budget set. We also want to look at the distribution of expenses and find any trends with how the budget is allocated amongst important categories such as health, defense, etc."
   ]
  },
  {
   "cell_type": "markdown",
   "metadata": {},
   "source": [
    "### Background\n",
    "\n",
    "Analyzing the Canadian government's budget, expenses, and future spending habits is important as it promotes transparency and accountability, enabling citizens to assess government priorities and decisions. We can also identify areas for optimization, specifically looking at areas of high spending."
   ]
  },
  {
   "cell_type": "markdown",
   "metadata": {},
   "source": [
    "## Gather"
   ]
  },
  {
   "cell_type": "markdown",
   "metadata": {},
   "source": [
    "All of our data sources used in this notebook comes from [Statistics Canada](https://www.statcan.gc.ca/en/start) and the government of Canada's [open government](https://search.open.canada.ca/opendata/) portal. "
   ]
  },
  {
   "cell_type": "markdown",
   "metadata": {},
   "source": [
    "### Code: \n",
    "\n",
    "Run the code cells below to import the libraries we need for this project. Libraries are pre-made code that make it easier to analyze our data."
   ]
  },
  {
   "cell_type": "code",
   "execution_count": 1,
   "metadata": {},
   "outputs": [
    {
     "name": "stdout",
     "output_type": "stream",
     "text": [
      "Libraries imported.\n"
     ]
    }
   ],
   "source": [
    "import pandas as pd\n",
    "import plotly.express as px\n",
    "import folium\n",
    "import geopandas as gpd\n",
    "import plotly.graph_objects as go\n",
    "from plotly.subplots import make_subplots\n",
    "import warnings\n",
    "import ipywidgets\n",
    "from IPython.display import display\n",
    "warnings.filterwarnings(\"ignore\")\n",
    "\n",
    "print(\"Libraries imported.\")"
   ]
  },
  {
   "cell_type": "markdown",
   "metadata": {},
   "source": [
    "### Data\n",
    "\n",
    "To begin, we'll obtain our datasets necessary for this notebook by using the cell below. In certain notebooks, the column names will be altered to enhance clarity on what the column means."
   ]
  },
  {
   "cell_type": "markdown",
   "metadata": {},
   "source": [
    "### Import the data"
   ]
  },
  {
   "cell_type": "code",
   "execution_count": 2,
   "metadata": {},
   "outputs": [
    {
     "name": "stdout",
     "output_type": "stream",
     "text": [
      "Datasets imported.\n"
     ]
    }
   ],
   "source": [
    "# Renaming columns\n",
    "expenses_cols = ['Year','Social protection','Health','Education','General public services','Economic affairs','Other functions']\n",
    "share_of_expenses_cols = ['Province','Health','Education','General public services','Social protection','Economic affairs','Other functions']\n",
    "\n",
    "fte = pd.read_csv(\"https://raw.githubusercontent.com/callysto/data-files/main/data-viz-of-the-week/government-spending/FTE.csv\")\n",
    "expenditures = pd.read_csv(\"https://raw.githubusercontent.com/callysto/data-files/main/data-viz-of-the-week/government-spending/expenditures.csv\")\n",
    "overall_expenses = pd.read_csv(\"https://raw.githubusercontent.com/callysto/data-files/main/data-viz-of-the-week/government-spending/overall_expenses.csv\", header=1, names=expenses_cols)\n",
    "share_of_expenses = pd.read_csv(\"https://raw.githubusercontent.com/callysto/data-files/main/data-viz-of-the-week/government-spending/share_of_expenses.csv\", header=1, names=share_of_expenses_cols)\n",
    "federal_provincial = pd.read_csv(\"https://raw.githubusercontent.com/callysto/data-files/main/data-viz-of-the-week/government-spending/federal_provincial.csv\")\n",
    "print(\"Datasets imported.\")"
   ]
  },
  {
   "cell_type": "markdown",
   "metadata": {},
   "source": [
    "### Comment on the data"
   ]
  },
  {
   "cell_type": "markdown",
   "metadata": {},
   "source": [
    "Now that we've obtained our data, we can take a look at what each dataset represents and try to analyze better meaning from it. Throughout this notebook, when a new dataset is being used, the first cell will print the contents of the dataset. This will help establish when a new dataset is being analyzed and the contents of visualizations. \n",
    "\n",
    "To begin, let's analyze our `fte` dataset."
   ]
  },
  {
   "cell_type": "code",
   "execution_count": 3,
   "metadata": {},
   "outputs": [
    {
     "data": {
      "text/html": [
       "<div>\n",
       "<style scoped>\n",
       "    .dataframe tbody tr th:only-of-type {\n",
       "        vertical-align: middle;\n",
       "    }\n",
       "\n",
       "    .dataframe tbody tr th {\n",
       "        vertical-align: top;\n",
       "    }\n",
       "\n",
       "    .dataframe thead th {\n",
       "        text-align: right;\n",
       "    }\n",
       "</style>\n",
       "<table border=\"1\" class=\"dataframe\">\n",
       "  <thead>\n",
       "    <tr style=\"text-align: right;\">\n",
       "      <th></th>\n",
       "      <th>Organization</th>\n",
       "      <th>Program</th>\n",
       "      <th>2017-18  Actual FTEs</th>\n",
       "      <th>2018-19  Actual FTEs</th>\n",
       "      <th>2019-20  Actual FTEs</th>\n",
       "      <th>2020-21  Actual FTEs</th>\n",
       "      <th>2021-22  Actual FTEs</th>\n",
       "      <th>2023-24  Planned FTEs</th>\n",
       "      <th>2024-25  Planned FTEs</th>\n",
       "      <th>2025-26  Planned FTEs</th>\n",
       "    </tr>\n",
       "  </thead>\n",
       "  <tbody>\n",
       "    <tr>\n",
       "      <th>0</th>\n",
       "      <td>Atlantic Canada Opportunities Agency</td>\n",
       "      <td>Enterprise Development</td>\n",
       "      <td>217.0</td>\n",
       "      <td>0.0</td>\n",
       "      <td>0.0</td>\n",
       "      <td>0.0</td>\n",
       "      <td>0.0</td>\n",
       "      <td>0</td>\n",
       "      <td>0</td>\n",
       "      <td>0</td>\n",
       "    </tr>\n",
       "    <tr>\n",
       "      <th>1</th>\n",
       "      <td>Atlantic Canada Opportunities Agency</td>\n",
       "      <td>Community Development</td>\n",
       "      <td>94.0</td>\n",
       "      <td>0.0</td>\n",
       "      <td>0.0</td>\n",
       "      <td>0.0</td>\n",
       "      <td>0.0</td>\n",
       "      <td>0</td>\n",
       "      <td>0</td>\n",
       "      <td>0</td>\n",
       "    </tr>\n",
       "    <tr>\n",
       "      <th>2</th>\n",
       "      <td>Atlantic Canada Opportunities Agency</td>\n",
       "      <td>Policy, Advocacy and Coordination</td>\n",
       "      <td>65.0</td>\n",
       "      <td>0.0</td>\n",
       "      <td>0.0</td>\n",
       "      <td>0.0</td>\n",
       "      <td>0.0</td>\n",
       "      <td>0</td>\n",
       "      <td>0</td>\n",
       "      <td>0</td>\n",
       "    </tr>\n",
       "    <tr>\n",
       "      <th>3</th>\n",
       "      <td>Atlantic Canada Opportunities Agency</td>\n",
       "      <td>Inclusive Communities</td>\n",
       "      <td>0.0</td>\n",
       "      <td>39.0</td>\n",
       "      <td>32.0</td>\n",
       "      <td>36.0</td>\n",
       "      <td>43.0</td>\n",
       "      <td>32</td>\n",
       "      <td>32</td>\n",
       "      <td>32</td>\n",
       "    </tr>\n",
       "    <tr>\n",
       "      <th>4</th>\n",
       "      <td>Atlantic Canada Opportunities Agency</td>\n",
       "      <td>Diversified Communities</td>\n",
       "      <td>0.0</td>\n",
       "      <td>71.0</td>\n",
       "      <td>74.0</td>\n",
       "      <td>71.0</td>\n",
       "      <td>76.0</td>\n",
       "      <td>77</td>\n",
       "      <td>76</td>\n",
       "      <td>76</td>\n",
       "    </tr>\n",
       "    <tr>\n",
       "      <th>...</th>\n",
       "      <td>...</td>\n",
       "      <td>...</td>\n",
       "      <td>...</td>\n",
       "      <td>...</td>\n",
       "      <td>...</td>\n",
       "      <td>...</td>\n",
       "      <td>...</td>\n",
       "      <td>...</td>\n",
       "      <td>...</td>\n",
       "      <td>...</td>\n",
       "    </tr>\n",
       "    <tr>\n",
       "      <th>1941</th>\n",
       "      <td>Prairies Economic Development Canada</td>\n",
       "      <td>Business Services</td>\n",
       "      <td>0.0</td>\n",
       "      <td>0.0</td>\n",
       "      <td>0.0</td>\n",
       "      <td>0.0</td>\n",
       "      <td>0.0</td>\n",
       "      <td>37</td>\n",
       "      <td>37</td>\n",
       "      <td>37</td>\n",
       "    </tr>\n",
       "    <tr>\n",
       "      <th>1942</th>\n",
       "      <td>Prairies Economic Development Canada</td>\n",
       "      <td>Community Initiatives</td>\n",
       "      <td>0.0</td>\n",
       "      <td>0.0</td>\n",
       "      <td>0.0</td>\n",
       "      <td>0.0</td>\n",
       "      <td>0.0</td>\n",
       "      <td>38</td>\n",
       "      <td>30</td>\n",
       "      <td>3</td>\n",
       "    </tr>\n",
       "    <tr>\n",
       "      <th>1943</th>\n",
       "      <td>Prairies Economic Development Canada</td>\n",
       "      <td>Business Development and Innovation</td>\n",
       "      <td>97.0</td>\n",
       "      <td>0.0</td>\n",
       "      <td>0.0</td>\n",
       "      <td>0.0</td>\n",
       "      <td>0.0</td>\n",
       "      <td>0</td>\n",
       "      <td>0</td>\n",
       "      <td>0</td>\n",
       "    </tr>\n",
       "    <tr>\n",
       "      <th>1944</th>\n",
       "      <td>Prairies Economic Development Canada</td>\n",
       "      <td>Internal Services</td>\n",
       "      <td>91.0</td>\n",
       "      <td>0.0</td>\n",
       "      <td>0.0</td>\n",
       "      <td>0.0</td>\n",
       "      <td>0.0</td>\n",
       "      <td>0</td>\n",
       "      <td>0</td>\n",
       "      <td>0</td>\n",
       "    </tr>\n",
       "    <tr>\n",
       "      <th>1945</th>\n",
       "      <td>Prairies Economic Development Canada</td>\n",
       "      <td>Internal Services</td>\n",
       "      <td>0.0</td>\n",
       "      <td>97.0</td>\n",
       "      <td>97.0</td>\n",
       "      <td>102.0</td>\n",
       "      <td>107.0</td>\n",
       "      <td>98</td>\n",
       "      <td>89</td>\n",
       "      <td>86</td>\n",
       "    </tr>\n",
       "  </tbody>\n",
       "</table>\n",
       "<p>1946 rows × 10 columns</p>\n",
       "</div>"
      ],
      "text/plain": [
       "                              Organization  \\\n",
       "0     Atlantic Canada Opportunities Agency   \n",
       "1     Atlantic Canada Opportunities Agency   \n",
       "2     Atlantic Canada Opportunities Agency   \n",
       "3     Atlantic Canada Opportunities Agency   \n",
       "4     Atlantic Canada Opportunities Agency   \n",
       "...                                    ...   \n",
       "1941  Prairies Economic Development Canada   \n",
       "1942  Prairies Economic Development Canada   \n",
       "1943  Prairies Economic Development Canada   \n",
       "1944  Prairies Economic Development Canada   \n",
       "1945  Prairies Economic Development Canada   \n",
       "\n",
       "                                  Program  2017-18  Actual FTEs  \\\n",
       "0                  Enterprise Development                 217.0   \n",
       "1                   Community Development                  94.0   \n",
       "2       Policy, Advocacy and Coordination                  65.0   \n",
       "3                   Inclusive Communities                   0.0   \n",
       "4                 Diversified Communities                   0.0   \n",
       "...                                   ...                   ...   \n",
       "1941                    Business Services                   0.0   \n",
       "1942                Community Initiatives                   0.0   \n",
       "1943  Business Development and Innovation                  97.0   \n",
       "1944                    Internal Services                  91.0   \n",
       "1945                    Internal Services                   0.0   \n",
       "\n",
       "      2018-19  Actual FTEs  2019-20  Actual FTEs  2020-21  Actual FTEs  \\\n",
       "0                      0.0                   0.0                   0.0   \n",
       "1                      0.0                   0.0                   0.0   \n",
       "2                      0.0                   0.0                   0.0   \n",
       "3                     39.0                  32.0                  36.0   \n",
       "4                     71.0                  74.0                  71.0   \n",
       "...                    ...                   ...                   ...   \n",
       "1941                   0.0                   0.0                   0.0   \n",
       "1942                   0.0                   0.0                   0.0   \n",
       "1943                   0.0                   0.0                   0.0   \n",
       "1944                   0.0                   0.0                   0.0   \n",
       "1945                  97.0                  97.0                 102.0   \n",
       "\n",
       "      2021-22  Actual FTEs  2023-24  Planned FTEs  2024-25  Planned FTEs  \\\n",
       "0                      0.0                      0                      0   \n",
       "1                      0.0                      0                      0   \n",
       "2                      0.0                      0                      0   \n",
       "3                     43.0                     32                     32   \n",
       "4                     76.0                     77                     76   \n",
       "...                    ...                    ...                    ...   \n",
       "1941                   0.0                     37                     37   \n",
       "1942                   0.0                     38                     30   \n",
       "1943                   0.0                      0                      0   \n",
       "1944                   0.0                      0                      0   \n",
       "1945                 107.0                     98                     89   \n",
       "\n",
       "      2025-26  Planned FTEs  \n",
       "0                         0  \n",
       "1                         0  \n",
       "2                         0  \n",
       "3                        32  \n",
       "4                        76  \n",
       "...                     ...  \n",
       "1941                     37  \n",
       "1942                      3  \n",
       "1943                      0  \n",
       "1944                      0  \n",
       "1945                     86  \n",
       "\n",
       "[1946 rows x 10 columns]"
      ]
     },
     "execution_count": 3,
     "metadata": {},
     "output_type": "execute_result"
    }
   ],
   "source": [
    "fte"
   ]
  },
  {
   "cell_type": "markdown",
   "metadata": {},
   "source": [
    "Moving forward, we will be calling our datasets, *dataframes*. A dataframe is like a digital spreadsheet or table which contains rows and columns of data. Each row in a dataframe represents a different piece of information or a record, while each column represents a specific attribute or characteristic of that information.\n",
    "\n",
    "In the dataframe above, we see that the columns `Organization` and `Program` identify the government organization and the different programs they have. The columns `2017-18 Actual FTEs`-`2021-22 Actual FTEs` identify the organization's FTE's. The definition of an FTE (Full Time Equivalents), from the [government of Canada](https://open.canada.ca/data/en/dataset/e2e60f18-95fe-487b-9edd-d1f7bcdd9f9f) is:\n",
    "\n",
    "\"a measure of the extent to which an employee represents a full person-year charge against the departmental budget for future spending years.\"\n",
    "\n",
    "In simplified terms, it's like asking, \"if one person worked full-time for a year, how much of our budget would they use?\". The final columns are `2023-24 Planned FTEs`-`2025-26 Planned FTEs`, which indicate how many FTEs are planned for this particular organization's future. "
   ]
  },
  {
   "cell_type": "markdown",
   "metadata": {},
   "source": [
    "# Explore"
   ]
  },
  {
   "cell_type": "markdown",
   "metadata": {},
   "source": [
    "To begin, let's see how many different organizations are supported under the Government of Canada. "
   ]
  },
  {
   "cell_type": "code",
   "execution_count": 4,
   "metadata": {},
   "outputs": [
    {
     "name": "stdout",
     "output_type": "stream",
     "text": [
      "Military Grievances External Review Committee\n",
      "Polar Knowledge Canada\n",
      "Correctional Service Canada\n",
      "House of Commons\n",
      "Office of the Parliamentary Budget Officer\n",
      "Canadian Human Rights Commission\n",
      "Canadian Food Inspection Agency\n",
      "Fisheries and Oceans Canada\n",
      "Canadian Grain Commission\n",
      "Employment and Social Development Canada\n",
      "Registrar of the Supreme Court of Canada\n",
      "Department of Finance Canada\n",
      "Canada Post\n",
      "Federal Economic Development Agency for Southern Ontario\n",
      "Health Canada\n",
      "Windsor-Detroit Bridge Authority\n",
      "Parliamentary Protective Service\n",
      "Communications Security Establishment Canada\n",
      "Office of the Intelligence Commissioner\n",
      "Impact Assessment Agency of Canada\n",
      "Infrastructure Canada\n",
      "Standards Council of Canada\n",
      "Federal Bridge Corporation\n",
      "Treasury Board of Canada Secretariat\n",
      "Public Prosecution Service of Canada\n",
      "Office of the Secretary to the Governor General\n",
      "National Gallery of Canada\n",
      "Canadian Intergovernmental Conference Secretariat\n",
      "Canadian Heritage\n",
      "Canadian Museum of Nature\n",
      "Parks Canada\n",
      "Canadian Radio-television and Telecommunications Commission\n",
      "Offices of the Information and Privacy Commissioners of Canada\n",
      "Library and Archives Canada\n",
      "The Correctional Investigator Canada\n",
      "Telefilm Canada\n",
      "Atomic Energy of Canada Limited\n",
      "The Jacques-Cartier and Champlain Bridges Inc.\n",
      "Canada Economic Development for Quebec Regions\n",
      "Transport Canada\n",
      "Library of Parliament\n",
      "Export Development Canada\n",
      "Office of the Superintendent of Financial Institutions Canada\n",
      "Federal Economic Development Agency for Northern Ontario\n",
      "Veterans Review and Appeal Board\n",
      "Parole Board of Canada\n",
      "Office of the Commissioner for Federal Judicial Affairs Canada\n",
      "Destination Canada\n",
      "Canada School of Public Service\n",
      "Office of the Commissioner of Lobbying of Canada\n",
      "Public Health Agency of Canada\n",
      "Canadian Space Agency\n",
      "Invest in Canada Hub\n",
      "Canada Energy Regulator\n",
      "Natural Sciences and Engineering Research Council of Canada\n",
      "Transportation Safety Board of Canada\n",
      "Northern Pipeline Agency Canada\n",
      "RCMP External Review Committee\n",
      "Office of the Public Sector Integrity Commissioner of Canada\n",
      "Crown-Indigenous Relations and Northern Affairs Canada\n",
      "Financial Transactions and Reports Analysis Centre of Canada\n",
      "Department of Justice Canada\n",
      "Patented Medicine Prices Review Board Canada\n",
      "Public Service Commission of Canada\n",
      "Canada Revenue Agency\n",
      "Senate\n",
      "Canadian Transportation Agency\n",
      "Atlantic Canada Opportunities Agency\n",
      "Civilian Review and Complaints Commission for the RCMP\n",
      "Canadian Security Intelligence Service\n",
      "Senate Ethics Officer\n",
      "Global Affairs Canada\n",
      "National Defence\n",
      "International Development Research Centre\n",
      "National Research Council Canada\n",
      "Immigration and Refugee Board of Canada\n",
      "Women and Gender Equality Canada\n",
      "National Film Board\n",
      "The National Battlefields Commission\n",
      "Pacific Economic Development Agency of Canada\n",
      "Office of the Auditor General of Canada\n",
      "Office of the Conflict of Interest and Ethics Commissioner\n",
      "Prairies Economic Development Canada\n",
      "Canadian Air Transport Security Authority\n",
      "Agriculture and Agri-Food Canada\n",
      "Secretariat of the National Security and Intelligence Committee of Parliamentarians\n",
      "Accessibility Standards Canada\n",
      "PPP Canada Inc.\n",
      "Immigration, Refugees and Citizenship Canada\n",
      "National Security and Intelligence Review Agency Secretariat\n",
      "Public Safety Canada\n",
      "Public Services and Procurement Canada\n",
      "Canada Council for the Arts\n",
      "Canadian Dairy Commission\n",
      "Royal Canadian Mounted Police\n",
      "Canadian Museum of Immigration at Pier 21\n",
      "Financial Consumer Agency of Canada\n",
      "Copyright Board Canada\n",
      "Canadian Northern Economic Development Agency\n",
      "Canadian Museum of History\n",
      "Canadian Broadcasting Corporation\n",
      "International Joint Commission (Canadian Section)\n",
      "Privy Council Office\n",
      "Canadian Commercial Corporation\n",
      "Leaders’ Debates Commission\n",
      "Canadian Nuclear Safety Commission\n",
      "Office of the Chief Electoral Officer\n",
      "Canadian Race Relations Foundation\n",
      "Veterans Affairs Canada\n",
      "Innovation, Science and Economic Development Canada\n",
      "Department of Indigenous Services\n",
      "Canada Science and Technology Museum\n",
      "Environment and Climate Change Canada\n",
      "Courts Administration Service\n",
      "Marine Atlantic Inc.\n",
      "Shared Services Canada\n",
      "National Capital Commission\n",
      "Canadian Centre for Occupational Health and Safety\n",
      "Administrative Tribunals Support Service of Canada\n",
      "Statistics Canada\n",
      "Canadian Museum for Human Rights\n",
      "Natural Resources Canada\n",
      "National Arts Centre Corporation\n",
      "Office of the Commissioner of Official Languages\n",
      "VIA Rail Canada Inc.\n",
      "Canada Mortgage and Housing Corporation\n",
      "Canadian Institutes of Health Research\n",
      "Military Police Complaints Commission of Canada\n",
      "Canada Border Services Agency\n",
      "Social Sciences and Humanities Research Council of Canada\n"
     ]
    }
   ],
   "source": [
    "# Find unique organizations\n",
    "unique_organizations = set(fte['Organization'])\n",
    "\n",
    "# Print unique organization\n",
    "for org in unique_organizations:\n",
    "    print(org)"
   ]
  },
  {
   "cell_type": "markdown",
   "metadata": {},
   "source": [
    "Looking at the output above, there appears to be many different organizations supported by the government of Canada, reflecting the country's commitment to a wide array of sectors and initiatives. Using this list, let's create a visualization that can utilize these organizations. Read the commented lines in the code cell below (the lines that start with #)."
   ]
  },
  {
   "cell_type": "code",
   "execution_count": 5,
   "metadata": {},
   "outputs": [
    {
     "data": {
      "application/vnd.plotly.v1+json": {
       "config": {
        "plotlyServerURL": "https://plot.ly"
       },
       "data": [
        {
         "mode": "lines",
         "name": "Atlantic Canada Opportunities Agency",
         "type": "scatter",
         "x": [
          "2017-18  Actual FTEs",
          "2018-19  Actual FTEs",
          "2019-20  Actual FTEs",
          "2020-21  Actual FTEs",
          "2021-22  Actual FTEs",
          "2023-24  Planned FTEs",
          "2024-25  Planned FTEs",
          "2025-26  Planned FTEs"
         ],
         "xaxis": "x",
         "y": [
          571,
          572,
          575,
          584,
          595,
          584,
          577,
          577
         ],
         "yaxis": "y"
        },
        {
         "mode": "lines",
         "name": "Business Growth",
         "type": "scatter",
         "x": [
          "Organization",
          "2017-18  Actual FTEs",
          "2018-19  Actual FTEs",
          "2019-20  Actual FTEs",
          "2020-21  Actual FTEs",
          "2021-22  Actual FTEs",
          "2023-24  Planned FTEs",
          "2024-25  Planned FTEs",
          "2025-26  Planned FTEs"
         ],
         "xaxis": "x2",
         "y": [
          "Atlantic Canada Opportunities Agency",
          0,
          92,
          93,
          99,
          97,
          97,
          93,
          93
         ],
         "yaxis": "y2"
        },
        {
         "mode": "lines",
         "name": "Community Development",
         "type": "scatter",
         "x": [
          "Organization",
          "2017-18  Actual FTEs",
          "2018-19  Actual FTEs",
          "2019-20  Actual FTEs",
          "2020-21  Actual FTEs",
          "2021-22  Actual FTEs",
          "2023-24  Planned FTEs",
          "2024-25  Planned FTEs",
          "2025-26  Planned FTEs"
         ],
         "xaxis": "x2",
         "y": [
          "Atlantic Canada Opportunities Agency",
          94,
          0,
          0,
          0,
          0,
          0,
          0,
          0
         ],
         "yaxis": "y2"
        },
        {
         "mode": "lines",
         "name": "Diversified Communities",
         "type": "scatter",
         "x": [
          "Organization",
          "2017-18  Actual FTEs",
          "2018-19  Actual FTEs",
          "2019-20  Actual FTEs",
          "2020-21  Actual FTEs",
          "2021-22  Actual FTEs",
          "2023-24  Planned FTEs",
          "2024-25  Planned FTEs",
          "2025-26  Planned FTEs"
         ],
         "xaxis": "x2",
         "y": [
          "Atlantic Canada Opportunities Agency",
          0,
          71,
          74,
          71,
          76,
          77,
          76,
          76
         ],
         "yaxis": "y2"
        },
        {
         "mode": "lines",
         "name": "Enterprise Development",
         "type": "scatter",
         "x": [
          "Organization",
          "2017-18  Actual FTEs",
          "2018-19  Actual FTEs",
          "2019-20  Actual FTEs",
          "2020-21  Actual FTEs",
          "2021-22  Actual FTEs",
          "2023-24  Planned FTEs",
          "2024-25  Planned FTEs",
          "2025-26  Planned FTEs"
         ],
         "xaxis": "x2",
         "y": [
          "Atlantic Canada Opportunities Agency",
          217,
          0,
          0,
          0,
          0,
          0,
          0,
          0
         ],
         "yaxis": "y2"
        },
        {
         "mode": "lines",
         "name": "Inclusive Communities",
         "type": "scatter",
         "x": [
          "Organization",
          "2017-18  Actual FTEs",
          "2018-19  Actual FTEs",
          "2019-20  Actual FTEs",
          "2020-21  Actual FTEs",
          "2021-22  Actual FTEs",
          "2023-24  Planned FTEs",
          "2024-25  Planned FTEs",
          "2025-26  Planned FTEs"
         ],
         "xaxis": "x2",
         "y": [
          "Atlantic Canada Opportunities Agency",
          0,
          39,
          32,
          36,
          43,
          32,
          32,
          32
         ],
         "yaxis": "y2"
        },
        {
         "mode": "lines",
         "name": "Innovation Ecosystem",
         "type": "scatter",
         "x": [
          "Organization",
          "2017-18  Actual FTEs",
          "2018-19  Actual FTEs",
          "2019-20  Actual FTEs",
          "2020-21  Actual FTEs",
          "2021-22  Actual FTEs",
          "2023-24  Planned FTEs",
          "2024-25  Planned FTEs",
          "2025-26  Planned FTEs"
         ],
         "xaxis": "x2",
         "y": [
          "Atlantic Canada Opportunities Agency",
          0,
          15,
          14,
          14,
          16,
          15,
          14,
          14
         ],
         "yaxis": "y2"
        },
        {
         "mode": "lines",
         "name": "Internal Services",
         "type": "scatter",
         "x": [
          "Organization",
          "2017-18  Actual FTEs",
          "2018-19  Actual FTEs",
          "2019-20  Actual FTEs",
          "2020-21  Actual FTEs",
          "2021-22  Actual FTEs",
          "2023-24  Planned FTEs",
          "2024-25  Planned FTEs",
          "2025-26  Planned FTEs"
         ],
         "xaxis": "x2",
         "y": [
          "Atlantic Canada Opportunities AgencyAtlantic Canada Opportunities Agency",
          195,
          194,
          197,
          201,
          201,
          197,
          196,
          196
         ],
         "yaxis": "y2"
        },
        {
         "mode": "lines",
         "name": "Policy Research and Engagement",
         "type": "scatter",
         "x": [
          "Organization",
          "2017-18  Actual FTEs",
          "2018-19  Actual FTEs",
          "2019-20  Actual FTEs",
          "2020-21  Actual FTEs",
          "2021-22  Actual FTEs",
          "2023-24  Planned FTEs",
          "2024-25  Planned FTEs",
          "2025-26  Planned FTEs"
         ],
         "xaxis": "x2",
         "y": [
          "Atlantic Canada Opportunities Agency",
          0,
          65,
          68,
          66,
          68,
          68,
          68,
          68
         ],
         "yaxis": "y2"
        },
        {
         "mode": "lines",
         "name": "Policy, Advocacy and Coordination",
         "type": "scatter",
         "x": [
          "Organization",
          "2017-18  Actual FTEs",
          "2018-19  Actual FTEs",
          "2019-20  Actual FTEs",
          "2020-21  Actual FTEs",
          "2021-22  Actual FTEs",
          "2023-24  Planned FTEs",
          "2024-25  Planned FTEs",
          "2025-26  Planned FTEs"
         ],
         "xaxis": "x2",
         "y": [
          "Atlantic Canada Opportunities Agency",
          65,
          0,
          0,
          0,
          0,
          0,
          0,
          0
         ],
         "yaxis": "y2"
        },
        {
         "mode": "lines",
         "name": "Research and Development and Commercialization",
         "type": "scatter",
         "x": [
          "Organization",
          "2017-18  Actual FTEs",
          "2018-19  Actual FTEs",
          "2019-20  Actual FTEs",
          "2020-21  Actual FTEs",
          "2021-22  Actual FTEs",
          "2023-24  Planned FTEs",
          "2024-25  Planned FTEs",
          "2025-26  Planned FTEs"
         ],
         "xaxis": "x2",
         "y": [
          "Atlantic Canada Opportunities Agency",
          0,
          56,
          57,
          58,
          55,
          57,
          57,
          57
         ],
         "yaxis": "y2"
        },
        {
         "mode": "lines",
         "name": "Trade and Investment",
         "type": "scatter",
         "x": [
          "Organization",
          "2017-18  Actual FTEs",
          "2018-19  Actual FTEs",
          "2019-20  Actual FTEs",
          "2020-21  Actual FTEs",
          "2021-22  Actual FTEs",
          "2023-24  Planned FTEs",
          "2024-25  Planned FTEs",
          "2025-26  Planned FTEs"
         ],
         "xaxis": "x2",
         "y": [
          "Atlantic Canada Opportunities Agency",
          0,
          40,
          40,
          39,
          39,
          41,
          41,
          41
         ],
         "yaxis": "y2"
        }
       ],
       "layout": {
        "annotations": [
         {
          "font": {
           "size": 16
          },
          "showarrow": false,
          "text": "Total FTEs for Atlantic Canada Opportunities Agency",
          "x": 0.225,
          "xanchor": "center",
          "xref": "paper",
          "y": 1,
          "yanchor": "bottom",
          "yref": "paper"
         },
         {
          "font": {
           "size": 16
          },
          "showarrow": false,
          "text": "Program FTEs for Atlantic Canada Opportunities Agency",
          "x": 0.775,
          "xanchor": "center",
          "xref": "paper",
          "y": 1,
          "yanchor": "bottom",
          "yref": "paper"
         }
        ],
        "template": {
         "data": {
          "bar": [
           {
            "error_x": {
             "color": "#2a3f5f"
            },
            "error_y": {
             "color": "#2a3f5f"
            },
            "marker": {
             "line": {
              "color": "#E5ECF6",
              "width": 0.5
             },
             "pattern": {
              "fillmode": "overlay",
              "size": 10,
              "solidity": 0.2
             }
            },
            "type": "bar"
           }
          ],
          "barpolar": [
           {
            "marker": {
             "line": {
              "color": "#E5ECF6",
              "width": 0.5
             },
             "pattern": {
              "fillmode": "overlay",
              "size": 10,
              "solidity": 0.2
             }
            },
            "type": "barpolar"
           }
          ],
          "carpet": [
           {
            "aaxis": {
             "endlinecolor": "#2a3f5f",
             "gridcolor": "white",
             "linecolor": "white",
             "minorgridcolor": "white",
             "startlinecolor": "#2a3f5f"
            },
            "baxis": {
             "endlinecolor": "#2a3f5f",
             "gridcolor": "white",
             "linecolor": "white",
             "minorgridcolor": "white",
             "startlinecolor": "#2a3f5f"
            },
            "type": "carpet"
           }
          ],
          "choropleth": [
           {
            "colorbar": {
             "outlinewidth": 0,
             "ticks": ""
            },
            "type": "choropleth"
           }
          ],
          "contour": [
           {
            "colorbar": {
             "outlinewidth": 0,
             "ticks": ""
            },
            "colorscale": [
             [
              0,
              "#0d0887"
             ],
             [
              0.1111111111111111,
              "#46039f"
             ],
             [
              0.2222222222222222,
              "#7201a8"
             ],
             [
              0.3333333333333333,
              "#9c179e"
             ],
             [
              0.4444444444444444,
              "#bd3786"
             ],
             [
              0.5555555555555556,
              "#d8576b"
             ],
             [
              0.6666666666666666,
              "#ed7953"
             ],
             [
              0.7777777777777778,
              "#fb9f3a"
             ],
             [
              0.8888888888888888,
              "#fdca26"
             ],
             [
              1,
              "#f0f921"
             ]
            ],
            "type": "contour"
           }
          ],
          "contourcarpet": [
           {
            "colorbar": {
             "outlinewidth": 0,
             "ticks": ""
            },
            "type": "contourcarpet"
           }
          ],
          "heatmap": [
           {
            "colorbar": {
             "outlinewidth": 0,
             "ticks": ""
            },
            "colorscale": [
             [
              0,
              "#0d0887"
             ],
             [
              0.1111111111111111,
              "#46039f"
             ],
             [
              0.2222222222222222,
              "#7201a8"
             ],
             [
              0.3333333333333333,
              "#9c179e"
             ],
             [
              0.4444444444444444,
              "#bd3786"
             ],
             [
              0.5555555555555556,
              "#d8576b"
             ],
             [
              0.6666666666666666,
              "#ed7953"
             ],
             [
              0.7777777777777778,
              "#fb9f3a"
             ],
             [
              0.8888888888888888,
              "#fdca26"
             ],
             [
              1,
              "#f0f921"
             ]
            ],
            "type": "heatmap"
           }
          ],
          "heatmapgl": [
           {
            "colorbar": {
             "outlinewidth": 0,
             "ticks": ""
            },
            "colorscale": [
             [
              0,
              "#0d0887"
             ],
             [
              0.1111111111111111,
              "#46039f"
             ],
             [
              0.2222222222222222,
              "#7201a8"
             ],
             [
              0.3333333333333333,
              "#9c179e"
             ],
             [
              0.4444444444444444,
              "#bd3786"
             ],
             [
              0.5555555555555556,
              "#d8576b"
             ],
             [
              0.6666666666666666,
              "#ed7953"
             ],
             [
              0.7777777777777778,
              "#fb9f3a"
             ],
             [
              0.8888888888888888,
              "#fdca26"
             ],
             [
              1,
              "#f0f921"
             ]
            ],
            "type": "heatmapgl"
           }
          ],
          "histogram": [
           {
            "marker": {
             "pattern": {
              "fillmode": "overlay",
              "size": 10,
              "solidity": 0.2
             }
            },
            "type": "histogram"
           }
          ],
          "histogram2d": [
           {
            "colorbar": {
             "outlinewidth": 0,
             "ticks": ""
            },
            "colorscale": [
             [
              0,
              "#0d0887"
             ],
             [
              0.1111111111111111,
              "#46039f"
             ],
             [
              0.2222222222222222,
              "#7201a8"
             ],
             [
              0.3333333333333333,
              "#9c179e"
             ],
             [
              0.4444444444444444,
              "#bd3786"
             ],
             [
              0.5555555555555556,
              "#d8576b"
             ],
             [
              0.6666666666666666,
              "#ed7953"
             ],
             [
              0.7777777777777778,
              "#fb9f3a"
             ],
             [
              0.8888888888888888,
              "#fdca26"
             ],
             [
              1,
              "#f0f921"
             ]
            ],
            "type": "histogram2d"
           }
          ],
          "histogram2dcontour": [
           {
            "colorbar": {
             "outlinewidth": 0,
             "ticks": ""
            },
            "colorscale": [
             [
              0,
              "#0d0887"
             ],
             [
              0.1111111111111111,
              "#46039f"
             ],
             [
              0.2222222222222222,
              "#7201a8"
             ],
             [
              0.3333333333333333,
              "#9c179e"
             ],
             [
              0.4444444444444444,
              "#bd3786"
             ],
             [
              0.5555555555555556,
              "#d8576b"
             ],
             [
              0.6666666666666666,
              "#ed7953"
             ],
             [
              0.7777777777777778,
              "#fb9f3a"
             ],
             [
              0.8888888888888888,
              "#fdca26"
             ],
             [
              1,
              "#f0f921"
             ]
            ],
            "type": "histogram2dcontour"
           }
          ],
          "mesh3d": [
           {
            "colorbar": {
             "outlinewidth": 0,
             "ticks": ""
            },
            "type": "mesh3d"
           }
          ],
          "parcoords": [
           {
            "line": {
             "colorbar": {
              "outlinewidth": 0,
              "ticks": ""
             }
            },
            "type": "parcoords"
           }
          ],
          "pie": [
           {
            "automargin": true,
            "type": "pie"
           }
          ],
          "scatter": [
           {
            "fillpattern": {
             "fillmode": "overlay",
             "size": 10,
             "solidity": 0.2
            },
            "type": "scatter"
           }
          ],
          "scatter3d": [
           {
            "line": {
             "colorbar": {
              "outlinewidth": 0,
              "ticks": ""
             }
            },
            "marker": {
             "colorbar": {
              "outlinewidth": 0,
              "ticks": ""
             }
            },
            "type": "scatter3d"
           }
          ],
          "scattercarpet": [
           {
            "marker": {
             "colorbar": {
              "outlinewidth": 0,
              "ticks": ""
             }
            },
            "type": "scattercarpet"
           }
          ],
          "scattergeo": [
           {
            "marker": {
             "colorbar": {
              "outlinewidth": 0,
              "ticks": ""
             }
            },
            "type": "scattergeo"
           }
          ],
          "scattergl": [
           {
            "marker": {
             "colorbar": {
              "outlinewidth": 0,
              "ticks": ""
             }
            },
            "type": "scattergl"
           }
          ],
          "scattermapbox": [
           {
            "marker": {
             "colorbar": {
              "outlinewidth": 0,
              "ticks": ""
             }
            },
            "type": "scattermapbox"
           }
          ],
          "scatterpolar": [
           {
            "marker": {
             "colorbar": {
              "outlinewidth": 0,
              "ticks": ""
             }
            },
            "type": "scatterpolar"
           }
          ],
          "scatterpolargl": [
           {
            "marker": {
             "colorbar": {
              "outlinewidth": 0,
              "ticks": ""
             }
            },
            "type": "scatterpolargl"
           }
          ],
          "scatterternary": [
           {
            "marker": {
             "colorbar": {
              "outlinewidth": 0,
              "ticks": ""
             }
            },
            "type": "scatterternary"
           }
          ],
          "surface": [
           {
            "colorbar": {
             "outlinewidth": 0,
             "ticks": ""
            },
            "colorscale": [
             [
              0,
              "#0d0887"
             ],
             [
              0.1111111111111111,
              "#46039f"
             ],
             [
              0.2222222222222222,
              "#7201a8"
             ],
             [
              0.3333333333333333,
              "#9c179e"
             ],
             [
              0.4444444444444444,
              "#bd3786"
             ],
             [
              0.5555555555555556,
              "#d8576b"
             ],
             [
              0.6666666666666666,
              "#ed7953"
             ],
             [
              0.7777777777777778,
              "#fb9f3a"
             ],
             [
              0.8888888888888888,
              "#fdca26"
             ],
             [
              1,
              "#f0f921"
             ]
            ],
            "type": "surface"
           }
          ],
          "table": [
           {
            "cells": {
             "fill": {
              "color": "#EBF0F8"
             },
             "line": {
              "color": "white"
             }
            },
            "header": {
             "fill": {
              "color": "#C8D4E3"
             },
             "line": {
              "color": "white"
             }
            },
            "type": "table"
           }
          ]
         },
         "layout": {
          "annotationdefaults": {
           "arrowcolor": "#2a3f5f",
           "arrowhead": 0,
           "arrowwidth": 1
          },
          "autotypenumbers": "strict",
          "coloraxis": {
           "colorbar": {
            "outlinewidth": 0,
            "ticks": ""
           }
          },
          "colorscale": {
           "diverging": [
            [
             0,
             "#8e0152"
            ],
            [
             0.1,
             "#c51b7d"
            ],
            [
             0.2,
             "#de77ae"
            ],
            [
             0.3,
             "#f1b6da"
            ],
            [
             0.4,
             "#fde0ef"
            ],
            [
             0.5,
             "#f7f7f7"
            ],
            [
             0.6,
             "#e6f5d0"
            ],
            [
             0.7,
             "#b8e186"
            ],
            [
             0.8,
             "#7fbc41"
            ],
            [
             0.9,
             "#4d9221"
            ],
            [
             1,
             "#276419"
            ]
           ],
           "sequential": [
            [
             0,
             "#0d0887"
            ],
            [
             0.1111111111111111,
             "#46039f"
            ],
            [
             0.2222222222222222,
             "#7201a8"
            ],
            [
             0.3333333333333333,
             "#9c179e"
            ],
            [
             0.4444444444444444,
             "#bd3786"
            ],
            [
             0.5555555555555556,
             "#d8576b"
            ],
            [
             0.6666666666666666,
             "#ed7953"
            ],
            [
             0.7777777777777778,
             "#fb9f3a"
            ],
            [
             0.8888888888888888,
             "#fdca26"
            ],
            [
             1,
             "#f0f921"
            ]
           ],
           "sequentialminus": [
            [
             0,
             "#0d0887"
            ],
            [
             0.1111111111111111,
             "#46039f"
            ],
            [
             0.2222222222222222,
             "#7201a8"
            ],
            [
             0.3333333333333333,
             "#9c179e"
            ],
            [
             0.4444444444444444,
             "#bd3786"
            ],
            [
             0.5555555555555556,
             "#d8576b"
            ],
            [
             0.6666666666666666,
             "#ed7953"
            ],
            [
             0.7777777777777778,
             "#fb9f3a"
            ],
            [
             0.8888888888888888,
             "#fdca26"
            ],
            [
             1,
             "#f0f921"
            ]
           ]
          },
          "colorway": [
           "#636efa",
           "#EF553B",
           "#00cc96",
           "#ab63fa",
           "#FFA15A",
           "#19d3f3",
           "#FF6692",
           "#B6E880",
           "#FF97FF",
           "#FECB52"
          ],
          "font": {
           "color": "#2a3f5f"
          },
          "geo": {
           "bgcolor": "white",
           "lakecolor": "white",
           "landcolor": "#E5ECF6",
           "showlakes": true,
           "showland": true,
           "subunitcolor": "white"
          },
          "hoverlabel": {
           "align": "left"
          },
          "hovermode": "closest",
          "mapbox": {
           "style": "light"
          },
          "paper_bgcolor": "white",
          "plot_bgcolor": "#E5ECF6",
          "polar": {
           "angularaxis": {
            "gridcolor": "white",
            "linecolor": "white",
            "ticks": ""
           },
           "bgcolor": "#E5ECF6",
           "radialaxis": {
            "gridcolor": "white",
            "linecolor": "white",
            "ticks": ""
           }
          },
          "scene": {
           "xaxis": {
            "backgroundcolor": "#E5ECF6",
            "gridcolor": "white",
            "gridwidth": 2,
            "linecolor": "white",
            "showbackground": true,
            "ticks": "",
            "zerolinecolor": "white"
           },
           "yaxis": {
            "backgroundcolor": "#E5ECF6",
            "gridcolor": "white",
            "gridwidth": 2,
            "linecolor": "white",
            "showbackground": true,
            "ticks": "",
            "zerolinecolor": "white"
           },
           "zaxis": {
            "backgroundcolor": "#E5ECF6",
            "gridcolor": "white",
            "gridwidth": 2,
            "linecolor": "white",
            "showbackground": true,
            "ticks": "",
            "zerolinecolor": "white"
           }
          },
          "shapedefaults": {
           "line": {
            "color": "#2a3f5f"
           }
          },
          "ternary": {
           "aaxis": {
            "gridcolor": "white",
            "linecolor": "white",
            "ticks": ""
           },
           "baxis": {
            "gridcolor": "white",
            "linecolor": "white",
            "ticks": ""
           },
           "bgcolor": "#E5ECF6",
           "caxis": {
            "gridcolor": "white",
            "linecolor": "white",
            "ticks": ""
           }
          },
          "title": {
           "x": 0.05
          },
          "xaxis": {
           "automargin": true,
           "gridcolor": "white",
           "linecolor": "white",
           "ticks": "",
           "title": {
            "standoff": 15
           },
           "zerolinecolor": "white",
           "zerolinewidth": 2
          },
          "yaxis": {
           "automargin": true,
           "gridcolor": "white",
           "linecolor": "white",
           "ticks": "",
           "title": {
            "standoff": 15
           },
           "zerolinecolor": "white",
           "zerolinewidth": 2
          }
         }
        },
        "title": {
         "text": "Progression of FTEs for: Atlantic Canada Opportunities Agency"
        },
        "xaxis": {
         "anchor": "y",
         "domain": [
          0,
          0.45
         ],
         "title": {
          "text": "Year"
         }
        },
        "xaxis2": {
         "anchor": "y2",
         "domain": [
          0.55,
          1
         ],
         "title": {
          "text": "Year"
         }
        },
        "yaxis": {
         "anchor": "x",
         "domain": [
          0,
          1
         ],
         "title": {
          "text": "FTEs"
         }
        },
        "yaxis2": {
         "anchor": "x2",
         "domain": [
          0,
          1
         ],
         "title": {
          "text": "FTEs"
         }
        }
       }
      }
     },
     "metadata": {},
     "output_type": "display_data"
    }
   ],
   "source": [
    "# Change this to the organization you'd like to look at \n",
    "# Example: \"Atlantic Canada Opportunities Agency\" can be changed to \"Canadian Grain Commission\"\n",
    "organization_to_find = \"Atlantic Canada Opportunities Agency\"\n",
    "\n",
    "searched_df = fte[fte['Organization'] == organization_to_find]\n",
    "\n",
    "columns_to_melt = [col for col in searched_df.columns if col != 'Program']\n",
    "melted_df = pd.melt(searched_df, id_vars=['Organization'], value_vars=columns_to_melt, var_name='Year', value_name='Value')\n",
    "org_df = melted_df.groupby(['Year', 'Organization'])['Value'].sum().reset_index()\n",
    "\n",
    "searched_df = fte[fte['Organization'] == organization_to_find]\n",
    "df_prog = searched_df.groupby('Program').sum().reset_index()\n",
    "columns_to_melt_prog = [col for col in df_prog.columns if col != 'Program']\n",
    "program_df = pd.melt(df_prog, id_vars=['Program'], value_vars=columns_to_melt_prog, var_name='Year', value_name='Value')\n",
    "\n",
    "fte_fig = make_subplots(rows=1, cols=2, subplot_titles=(f\"Total FTEs for {organization_to_find}\", f\"Program FTEs for {organization_to_find}\"))\n",
    "\n",
    "for org in org_df['Organization'].unique():\n",
    "    org_data = org_df[org_df['Organization'] == org]\n",
    "    fte_fig.add_trace(go.Scatter(x=org_data['Year'], y=org_data['Value'], mode='lines',\n",
    "                             name=f'{org}'), \n",
    "                             row=1, col=1)\n",
    "\n",
    "for program in program_df['Program'].unique():\n",
    "    prog_data = program_df[program_df['Program'] == program]\n",
    "    fte_fig.add_trace(go.Scatter(x=prog_data['Year'], y=prog_data['Value'], mode='lines',\n",
    "                             name=f'{program}'), row=1, col=2,\n",
    "                             )\n",
    "   \n",
    "    \n",
    "\n",
    "fte_fig.update_layout(title=f'Progression of FTEs for: {organization_to_find}',\n",
    "                  xaxis_title='Year', yaxis_title='FTEs',\n",
    "                  xaxis2_title='Year', yaxis2_title='FTEs')\n",
    "\n",
    "fte_fig.show()"
   ]
  },
  {
   "cell_type": "markdown",
   "metadata": {},
   "source": [
    "After viewing the different Full-Time Equivalents (FTEs) of various Canadian organizations, have you gained a different sense of perspective? How might this newfound perspective influence your views on government support for various sectors?"
   ]
  },
  {
   "cell_type": "markdown",
   "metadata": {},
   "source": [
    "Now that we've done some exploratory analysis on FTE data, let's move onto something more tangible, such as *budgeting*."
   ]
  },
  {
   "cell_type": "code",
   "execution_count": 6,
   "metadata": {},
   "outputs": [
    {
     "data": {
      "text/html": [
       "<div>\n",
       "<style scoped>\n",
       "    .dataframe tbody tr th:only-of-type {\n",
       "        vertical-align: middle;\n",
       "    }\n",
       "\n",
       "    .dataframe tbody tr th {\n",
       "        vertical-align: top;\n",
       "    }\n",
       "\n",
       "    .dataframe thead th {\n",
       "        text-align: right;\n",
       "    }\n",
       "</style>\n",
       "<table border=\"1\" class=\"dataframe\">\n",
       "  <thead>\n",
       "    <tr style=\"text-align: right;\">\n",
       "      <th></th>\n",
       "      <th>Organization</th>\n",
       "      <th>Vote 2021-22 / Statutory - Description</th>\n",
       "      <th>2017-18 - Total budgetary authority available for use</th>\n",
       "      <th>2017-18 - Expenditures</th>\n",
       "      <th>2018-19 - Total budgetary authority available for use</th>\n",
       "      <th>2018-19 - Expenditures</th>\n",
       "      <th>2019-20 - Total budgetary authority available for use</th>\n",
       "      <th>2019-20 - Expenditures</th>\n",
       "      <th>2020-21 - Total budgetary authority available for use</th>\n",
       "      <th>2020-21 - Expenditures</th>\n",
       "      <th>2021-22 - Total budgetary authority available for use</th>\n",
       "      <th>2021-22 - Expenditures</th>\n",
       "    </tr>\n",
       "  </thead>\n",
       "  <tbody>\n",
       "    <tr>\n",
       "      <th>0</th>\n",
       "      <td>Atlantic Canada Opportunities Agency</td>\n",
       "      <td>Operating/Program - 1</td>\n",
       "      <td>69938738.0</td>\n",
       "      <td>6.700567e+07</td>\n",
       "      <td>70427706</td>\n",
       "      <td>65427353.0</td>\n",
       "      <td>71610830</td>\n",
       "      <td>68838886</td>\n",
       "      <td>74468028</td>\n",
       "      <td>69790224</td>\n",
       "      <td>76419187.0</td>\n",
       "      <td>70687244.0</td>\n",
       "    </tr>\n",
       "    <tr>\n",
       "      <th>1</th>\n",
       "      <td>Atlantic Canada Opportunities Agency</td>\n",
       "      <td>Grants &amp; Contributions - 5</td>\n",
       "      <td>283971202.0</td>\n",
       "      <td>2.839712e+08</td>\n",
       "      <td>290437502</td>\n",
       "      <td>276137362.0</td>\n",
       "      <td>274953030</td>\n",
       "      <td>274953026</td>\n",
       "      <td>452840687</td>\n",
       "      <td>441945575</td>\n",
       "      <td>373936114.0</td>\n",
       "      <td>363964211.0</td>\n",
       "    </tr>\n",
       "    <tr>\n",
       "      <th>2</th>\n",
       "      <td>Atlantic Canada Opportunities Agency</td>\n",
       "      <td>Budget Implementation Vote - 10</td>\n",
       "      <td>0.0</td>\n",
       "      <td>0.000000e+00</td>\n",
       "      <td>0</td>\n",
       "      <td>0.0</td>\n",
       "      <td>26772</td>\n",
       "      <td>0</td>\n",
       "      <td>0</td>\n",
       "      <td>0</td>\n",
       "      <td>0.0</td>\n",
       "      <td>0.0</td>\n",
       "    </tr>\n",
       "    <tr>\n",
       "      <th>3</th>\n",
       "      <td>Atlantic Canada Opportunities Agency</td>\n",
       "      <td>Budget Implementation Vote - 15</td>\n",
       "      <td>0.0</td>\n",
       "      <td>0.000000e+00</td>\n",
       "      <td>0</td>\n",
       "      <td>0.0</td>\n",
       "      <td>0</td>\n",
       "      <td>0</td>\n",
       "      <td>0</td>\n",
       "      <td>0</td>\n",
       "      <td>0.0</td>\n",
       "      <td>0.0</td>\n",
       "    </tr>\n",
       "    <tr>\n",
       "      <th>4</th>\n",
       "      <td>Atlantic Canada Opportunities Agency</td>\n",
       "      <td>Contributions to employee benefit plans</td>\n",
       "      <td>8008731.0</td>\n",
       "      <td>8.008731e+06</td>\n",
       "      <td>8032837</td>\n",
       "      <td>8032837.0</td>\n",
       "      <td>7867729</td>\n",
       "      <td>7867729</td>\n",
       "      <td>9056403</td>\n",
       "      <td>9056403</td>\n",
       "      <td>8838758.0</td>\n",
       "      <td>8838758.0</td>\n",
       "    </tr>\n",
       "    <tr>\n",
       "      <th>...</th>\n",
       "      <td>...</td>\n",
       "      <td>...</td>\n",
       "      <td>...</td>\n",
       "      <td>...</td>\n",
       "      <td>...</td>\n",
       "      <td>...</td>\n",
       "      <td>...</td>\n",
       "      <td>...</td>\n",
       "      <td>...</td>\n",
       "      <td>...</td>\n",
       "      <td>...</td>\n",
       "      <td>...</td>\n",
       "    </tr>\n",
       "    <tr>\n",
       "      <th>901</th>\n",
       "      <td>Prairies Economic Development Canada</td>\n",
       "      <td>Contributions to employee benefit plans</td>\n",
       "      <td>3739442.0</td>\n",
       "      <td>3.739442e+06</td>\n",
       "      <td>3798669</td>\n",
       "      <td>3798669.0</td>\n",
       "      <td>4413622</td>\n",
       "      <td>4413622</td>\n",
       "      <td>5381397</td>\n",
       "      <td>5381397</td>\n",
       "      <td>5087300.0</td>\n",
       "      <td>5087300.0</td>\n",
       "    </tr>\n",
       "    <tr>\n",
       "      <th>902</th>\n",
       "      <td>Prairies Economic Development Canada</td>\n",
       "      <td>Payments for the Community Futures Network pur...</td>\n",
       "      <td>0.0</td>\n",
       "      <td>0.000000e+00</td>\n",
       "      <td>0</td>\n",
       "      <td>0.0</td>\n",
       "      <td>0</td>\n",
       "      <td>0</td>\n",
       "      <td>0</td>\n",
       "      <td>0</td>\n",
       "      <td>0.0</td>\n",
       "      <td>0.0</td>\n",
       "    </tr>\n",
       "    <tr>\n",
       "      <th>903</th>\n",
       "      <td>Prairies Economic Development Canada</td>\n",
       "      <td>Payments pursuant to the Public Health Events ...</td>\n",
       "      <td>0.0</td>\n",
       "      <td>0.000000e+00</td>\n",
       "      <td>0</td>\n",
       "      <td>0.0</td>\n",
       "      <td>0</td>\n",
       "      <td>0</td>\n",
       "      <td>472394942</td>\n",
       "      <td>472394942</td>\n",
       "      <td>0.0</td>\n",
       "      <td>0.0</td>\n",
       "    </tr>\n",
       "    <tr>\n",
       "      <th>904</th>\n",
       "      <td>Prairies Economic Development Canada</td>\n",
       "      <td>Payments to provide financing support to small...</td>\n",
       "      <td>0.0</td>\n",
       "      <td>0.000000e+00</td>\n",
       "      <td>0</td>\n",
       "      <td>0.0</td>\n",
       "      <td>0</td>\n",
       "      <td>0</td>\n",
       "      <td>0</td>\n",
       "      <td>0</td>\n",
       "      <td>0.0</td>\n",
       "      <td>0.0</td>\n",
       "    </tr>\n",
       "    <tr>\n",
       "      <th>905</th>\n",
       "      <td>Prairies Economic Development Canada</td>\n",
       "      <td>Spending of proceeds from the disposal of surp...</td>\n",
       "      <td>15948.0</td>\n",
       "      <td>1.594833e+04</td>\n",
       "      <td>11976</td>\n",
       "      <td>11976.0</td>\n",
       "      <td>446</td>\n",
       "      <td>439</td>\n",
       "      <td>7</td>\n",
       "      <td>0</td>\n",
       "      <td>1110.0</td>\n",
       "      <td>1110.0</td>\n",
       "    </tr>\n",
       "  </tbody>\n",
       "</table>\n",
       "<p>906 rows × 12 columns</p>\n",
       "</div>"
      ],
      "text/plain": [
       "                             Organization  \\\n",
       "0    Atlantic Canada Opportunities Agency   \n",
       "1    Atlantic Canada Opportunities Agency   \n",
       "2    Atlantic Canada Opportunities Agency   \n",
       "3    Atlantic Canada Opportunities Agency   \n",
       "4    Atlantic Canada Opportunities Agency   \n",
       "..                                    ...   \n",
       "901  Prairies Economic Development Canada   \n",
       "902  Prairies Economic Development Canada   \n",
       "903  Prairies Economic Development Canada   \n",
       "904  Prairies Economic Development Canada   \n",
       "905  Prairies Economic Development Canada   \n",
       "\n",
       "                Vote 2021-22 / Statutory - Description  \\\n",
       "0                                Operating/Program - 1   \n",
       "1                           Grants & Contributions - 5   \n",
       "2                      Budget Implementation Vote - 10   \n",
       "3                      Budget Implementation Vote - 15   \n",
       "4              Contributions to employee benefit plans   \n",
       "..                                                 ...   \n",
       "901            Contributions to employee benefit plans   \n",
       "902  Payments for the Community Futures Network pur...   \n",
       "903  Payments pursuant to the Public Health Events ...   \n",
       "904  Payments to provide financing support to small...   \n",
       "905  Spending of proceeds from the disposal of surp...   \n",
       "\n",
       "     2017-18 - Total budgetary authority available for use  \\\n",
       "0                                           69938738.0       \n",
       "1                                          283971202.0       \n",
       "2                                                  0.0       \n",
       "3                                                  0.0       \n",
       "4                                            8008731.0       \n",
       "..                                                 ...       \n",
       "901                                          3739442.0       \n",
       "902                                                0.0       \n",
       "903                                                0.0       \n",
       "904                                                0.0       \n",
       "905                                            15948.0       \n",
       "\n",
       "     2017-18 - Expenditures  \\\n",
       "0              6.700567e+07   \n",
       "1              2.839712e+08   \n",
       "2              0.000000e+00   \n",
       "3              0.000000e+00   \n",
       "4              8.008731e+06   \n",
       "..                      ...   \n",
       "901            3.739442e+06   \n",
       "902            0.000000e+00   \n",
       "903            0.000000e+00   \n",
       "904            0.000000e+00   \n",
       "905            1.594833e+04   \n",
       "\n",
       "     2018-19 - Total budgetary authority available for use  \\\n",
       "0                                             70427706       \n",
       "1                                            290437502       \n",
       "2                                                    0       \n",
       "3                                                    0       \n",
       "4                                              8032837       \n",
       "..                                                 ...       \n",
       "901                                            3798669       \n",
       "902                                                  0       \n",
       "903                                                  0       \n",
       "904                                                  0       \n",
       "905                                              11976       \n",
       "\n",
       "     2018-19 - Expenditures  \\\n",
       "0                65427353.0   \n",
       "1               276137362.0   \n",
       "2                       0.0   \n",
       "3                       0.0   \n",
       "4                 8032837.0   \n",
       "..                      ...   \n",
       "901               3798669.0   \n",
       "902                     0.0   \n",
       "903                     0.0   \n",
       "904                     0.0   \n",
       "905                 11976.0   \n",
       "\n",
       "     2019-20 - Total budgetary authority available for use  \\\n",
       "0                                             71610830       \n",
       "1                                            274953030       \n",
       "2                                                26772       \n",
       "3                                                    0       \n",
       "4                                              7867729       \n",
       "..                                                 ...       \n",
       "901                                            4413622       \n",
       "902                                                  0       \n",
       "903                                                  0       \n",
       "904                                                  0       \n",
       "905                                                446       \n",
       "\n",
       "     2019-20 - Expenditures  \\\n",
       "0                  68838886   \n",
       "1                 274953026   \n",
       "2                         0   \n",
       "3                         0   \n",
       "4                   7867729   \n",
       "..                      ...   \n",
       "901                 4413622   \n",
       "902                       0   \n",
       "903                       0   \n",
       "904                       0   \n",
       "905                     439   \n",
       "\n",
       "     2020-21 - Total budgetary authority available for use  \\\n",
       "0                                             74468028       \n",
       "1                                            452840687       \n",
       "2                                                    0       \n",
       "3                                                    0       \n",
       "4                                              9056403       \n",
       "..                                                 ...       \n",
       "901                                            5381397       \n",
       "902                                                  0       \n",
       "903                                          472394942       \n",
       "904                                                  0       \n",
       "905                                                  7       \n",
       "\n",
       "     2020-21 - Expenditures  \\\n",
       "0                  69790224   \n",
       "1                 441945575   \n",
       "2                         0   \n",
       "3                         0   \n",
       "4                   9056403   \n",
       "..                      ...   \n",
       "901                 5381397   \n",
       "902                       0   \n",
       "903               472394942   \n",
       "904                       0   \n",
       "905                       0   \n",
       "\n",
       "     2021-22 - Total budgetary authority available for use  \\\n",
       "0                                           76419187.0       \n",
       "1                                          373936114.0       \n",
       "2                                                  0.0       \n",
       "3                                                  0.0       \n",
       "4                                            8838758.0       \n",
       "..                                                 ...       \n",
       "901                                          5087300.0       \n",
       "902                                                0.0       \n",
       "903                                                0.0       \n",
       "904                                                0.0       \n",
       "905                                             1110.0       \n",
       "\n",
       "     2021-22 - Expenditures  \n",
       "0                70687244.0  \n",
       "1               363964211.0  \n",
       "2                       0.0  \n",
       "3                       0.0  \n",
       "4                 8838758.0  \n",
       "..                      ...  \n",
       "901               5087300.0  \n",
       "902                     0.0  \n",
       "903                     0.0  \n",
       "904                     0.0  \n",
       "905                  1110.0  \n",
       "\n",
       "[906 rows x 12 columns]"
      ]
     },
     "execution_count": 6,
     "metadata": {},
     "output_type": "execute_result"
    }
   ],
   "source": [
    "expenditures"
   ]
  },
  {
   "cell_type": "markdown",
   "metadata": {},
   "source": [
    "# Organize\n",
    "\n",
    "Compared to our `fte` dataframe, we will be adding new columns to our current dataframe `expenditures`. Specifically, we'll be finding which organizations overspend/underspend their allocated budget. "
   ]
  },
  {
   "cell_type": "code",
   "execution_count": 7,
   "metadata": {},
   "outputs": [
    {
     "data": {
      "text/html": [
       "<div>\n",
       "<style scoped>\n",
       "    .dataframe tbody tr th:only-of-type {\n",
       "        vertical-align: middle;\n",
       "    }\n",
       "\n",
       "    .dataframe tbody tr th {\n",
       "        vertical-align: top;\n",
       "    }\n",
       "\n",
       "    .dataframe thead th {\n",
       "        text-align: right;\n",
       "    }\n",
       "</style>\n",
       "<table border=\"1\" class=\"dataframe\">\n",
       "  <thead>\n",
       "    <tr style=\"text-align: right;\">\n",
       "      <th></th>\n",
       "      <th>Organization</th>\n",
       "      <th>Vote 2021-22 / Statutory - Description</th>\n",
       "      <th>2017-18 - Total budgetary authority available for use</th>\n",
       "      <th>2017-18 - Expenditures</th>\n",
       "      <th>2018-19 - Total budgetary authority available for use</th>\n",
       "      <th>2018-19 - Expenditures</th>\n",
       "      <th>2019-20 - Total budgetary authority available for use</th>\n",
       "      <th>2019-20 - Expenditures</th>\n",
       "      <th>2020-21 - Total budgetary authority available for use</th>\n",
       "      <th>2020-21 - Expenditures</th>\n",
       "      <th>2021-22 - Total budgetary authority available for use</th>\n",
       "      <th>2021-22 - Expenditures</th>\n",
       "      <th>2017-18 Delta</th>\n",
       "      <th>2018-19 Delta</th>\n",
       "      <th>2019-20 Delta</th>\n",
       "      <th>2020-21 Delta</th>\n",
       "      <th>2021-22 Delta</th>\n",
       "    </tr>\n",
       "  </thead>\n",
       "  <tbody>\n",
       "    <tr>\n",
       "      <th>0</th>\n",
       "      <td>Atlantic Canada Opportunities Agency</td>\n",
       "      <td>Operating/Program - 1</td>\n",
       "      <td>69938738.0</td>\n",
       "      <td>6.700567e+07</td>\n",
       "      <td>70427706</td>\n",
       "      <td>65427353.0</td>\n",
       "      <td>71610830</td>\n",
       "      <td>68838886</td>\n",
       "      <td>74468028</td>\n",
       "      <td>69790224</td>\n",
       "      <td>76419187.0</td>\n",
       "      <td>70687244.0</td>\n",
       "      <td>2933069.00</td>\n",
       "      <td>5000353.0</td>\n",
       "      <td>2771944</td>\n",
       "      <td>4677804</td>\n",
       "      <td>5731943.0</td>\n",
       "    </tr>\n",
       "    <tr>\n",
       "      <th>1</th>\n",
       "      <td>Atlantic Canada Opportunities Agency</td>\n",
       "      <td>Grants &amp; Contributions - 5</td>\n",
       "      <td>283971202.0</td>\n",
       "      <td>2.839712e+08</td>\n",
       "      <td>290437502</td>\n",
       "      <td>276137362.0</td>\n",
       "      <td>274953030</td>\n",
       "      <td>274953026</td>\n",
       "      <td>452840687</td>\n",
       "      <td>441945575</td>\n",
       "      <td>373936114.0</td>\n",
       "      <td>363964211.0</td>\n",
       "      <td>5.00</td>\n",
       "      <td>14300140.0</td>\n",
       "      <td>4</td>\n",
       "      <td>10895112</td>\n",
       "      <td>9971903.0</td>\n",
       "    </tr>\n",
       "    <tr>\n",
       "      <th>2</th>\n",
       "      <td>Atlantic Canada Opportunities Agency</td>\n",
       "      <td>Budget Implementation Vote - 10</td>\n",
       "      <td>0.0</td>\n",
       "      <td>0.000000e+00</td>\n",
       "      <td>0</td>\n",
       "      <td>0.0</td>\n",
       "      <td>26772</td>\n",
       "      <td>0</td>\n",
       "      <td>0</td>\n",
       "      <td>0</td>\n",
       "      <td>0.0</td>\n",
       "      <td>0.0</td>\n",
       "      <td>0.00</td>\n",
       "      <td>0.0</td>\n",
       "      <td>26772</td>\n",
       "      <td>0</td>\n",
       "      <td>0.0</td>\n",
       "    </tr>\n",
       "    <tr>\n",
       "      <th>3</th>\n",
       "      <td>Atlantic Canada Opportunities Agency</td>\n",
       "      <td>Budget Implementation Vote - 15</td>\n",
       "      <td>0.0</td>\n",
       "      <td>0.000000e+00</td>\n",
       "      <td>0</td>\n",
       "      <td>0.0</td>\n",
       "      <td>0</td>\n",
       "      <td>0</td>\n",
       "      <td>0</td>\n",
       "      <td>0</td>\n",
       "      <td>0.0</td>\n",
       "      <td>0.0</td>\n",
       "      <td>0.00</td>\n",
       "      <td>0.0</td>\n",
       "      <td>0</td>\n",
       "      <td>0</td>\n",
       "      <td>0.0</td>\n",
       "    </tr>\n",
       "    <tr>\n",
       "      <th>4</th>\n",
       "      <td>Atlantic Canada Opportunities Agency</td>\n",
       "      <td>Contributions to employee benefit plans</td>\n",
       "      <td>8008731.0</td>\n",
       "      <td>8.008731e+06</td>\n",
       "      <td>8032837</td>\n",
       "      <td>8032837.0</td>\n",
       "      <td>7867729</td>\n",
       "      <td>7867729</td>\n",
       "      <td>9056403</td>\n",
       "      <td>9056403</td>\n",
       "      <td>8838758.0</td>\n",
       "      <td>8838758.0</td>\n",
       "      <td>0.29</td>\n",
       "      <td>0.0</td>\n",
       "      <td>0</td>\n",
       "      <td>0</td>\n",
       "      <td>0.0</td>\n",
       "    </tr>\n",
       "    <tr>\n",
       "      <th>...</th>\n",
       "      <td>...</td>\n",
       "      <td>...</td>\n",
       "      <td>...</td>\n",
       "      <td>...</td>\n",
       "      <td>...</td>\n",
       "      <td>...</td>\n",
       "      <td>...</td>\n",
       "      <td>...</td>\n",
       "      <td>...</td>\n",
       "      <td>...</td>\n",
       "      <td>...</td>\n",
       "      <td>...</td>\n",
       "      <td>...</td>\n",
       "      <td>...</td>\n",
       "      <td>...</td>\n",
       "      <td>...</td>\n",
       "      <td>...</td>\n",
       "    </tr>\n",
       "    <tr>\n",
       "      <th>901</th>\n",
       "      <td>Prairies Economic Development Canada</td>\n",
       "      <td>Contributions to employee benefit plans</td>\n",
       "      <td>3739442.0</td>\n",
       "      <td>3.739442e+06</td>\n",
       "      <td>3798669</td>\n",
       "      <td>3798669.0</td>\n",
       "      <td>4413622</td>\n",
       "      <td>4413622</td>\n",
       "      <td>5381397</td>\n",
       "      <td>5381397</td>\n",
       "      <td>5087300.0</td>\n",
       "      <td>5087300.0</td>\n",
       "      <td>-0.37</td>\n",
       "      <td>0.0</td>\n",
       "      <td>0</td>\n",
       "      <td>0</td>\n",
       "      <td>0.0</td>\n",
       "    </tr>\n",
       "    <tr>\n",
       "      <th>902</th>\n",
       "      <td>Prairies Economic Development Canada</td>\n",
       "      <td>Payments for the Community Futures Network pur...</td>\n",
       "      <td>0.0</td>\n",
       "      <td>0.000000e+00</td>\n",
       "      <td>0</td>\n",
       "      <td>0.0</td>\n",
       "      <td>0</td>\n",
       "      <td>0</td>\n",
       "      <td>0</td>\n",
       "      <td>0</td>\n",
       "      <td>0.0</td>\n",
       "      <td>0.0</td>\n",
       "      <td>0.00</td>\n",
       "      <td>0.0</td>\n",
       "      <td>0</td>\n",
       "      <td>0</td>\n",
       "      <td>0.0</td>\n",
       "    </tr>\n",
       "    <tr>\n",
       "      <th>903</th>\n",
       "      <td>Prairies Economic Development Canada</td>\n",
       "      <td>Payments pursuant to the Public Health Events ...</td>\n",
       "      <td>0.0</td>\n",
       "      <td>0.000000e+00</td>\n",
       "      <td>0</td>\n",
       "      <td>0.0</td>\n",
       "      <td>0</td>\n",
       "      <td>0</td>\n",
       "      <td>472394942</td>\n",
       "      <td>472394942</td>\n",
       "      <td>0.0</td>\n",
       "      <td>0.0</td>\n",
       "      <td>0.00</td>\n",
       "      <td>0.0</td>\n",
       "      <td>0</td>\n",
       "      <td>0</td>\n",
       "      <td>0.0</td>\n",
       "    </tr>\n",
       "    <tr>\n",
       "      <th>904</th>\n",
       "      <td>Prairies Economic Development Canada</td>\n",
       "      <td>Payments to provide financing support to small...</td>\n",
       "      <td>0.0</td>\n",
       "      <td>0.000000e+00</td>\n",
       "      <td>0</td>\n",
       "      <td>0.0</td>\n",
       "      <td>0</td>\n",
       "      <td>0</td>\n",
       "      <td>0</td>\n",
       "      <td>0</td>\n",
       "      <td>0.0</td>\n",
       "      <td>0.0</td>\n",
       "      <td>0.00</td>\n",
       "      <td>0.0</td>\n",
       "      <td>0</td>\n",
       "      <td>0</td>\n",
       "      <td>0.0</td>\n",
       "    </tr>\n",
       "    <tr>\n",
       "      <th>905</th>\n",
       "      <td>Prairies Economic Development Canada</td>\n",
       "      <td>Spending of proceeds from the disposal of surp...</td>\n",
       "      <td>15948.0</td>\n",
       "      <td>1.594833e+04</td>\n",
       "      <td>11976</td>\n",
       "      <td>11976.0</td>\n",
       "      <td>446</td>\n",
       "      <td>439</td>\n",
       "      <td>7</td>\n",
       "      <td>0</td>\n",
       "      <td>1110.0</td>\n",
       "      <td>1110.0</td>\n",
       "      <td>-0.33</td>\n",
       "      <td>0.0</td>\n",
       "      <td>7</td>\n",
       "      <td>7</td>\n",
       "      <td>0.0</td>\n",
       "    </tr>\n",
       "  </tbody>\n",
       "</table>\n",
       "<p>906 rows × 17 columns</p>\n",
       "</div>"
      ],
      "text/plain": [
       "                             Organization  \\\n",
       "0    Atlantic Canada Opportunities Agency   \n",
       "1    Atlantic Canada Opportunities Agency   \n",
       "2    Atlantic Canada Opportunities Agency   \n",
       "3    Atlantic Canada Opportunities Agency   \n",
       "4    Atlantic Canada Opportunities Agency   \n",
       "..                                    ...   \n",
       "901  Prairies Economic Development Canada   \n",
       "902  Prairies Economic Development Canada   \n",
       "903  Prairies Economic Development Canada   \n",
       "904  Prairies Economic Development Canada   \n",
       "905  Prairies Economic Development Canada   \n",
       "\n",
       "                Vote 2021-22 / Statutory - Description  \\\n",
       "0                                Operating/Program - 1   \n",
       "1                           Grants & Contributions - 5   \n",
       "2                      Budget Implementation Vote - 10   \n",
       "3                      Budget Implementation Vote - 15   \n",
       "4              Contributions to employee benefit plans   \n",
       "..                                                 ...   \n",
       "901            Contributions to employee benefit plans   \n",
       "902  Payments for the Community Futures Network pur...   \n",
       "903  Payments pursuant to the Public Health Events ...   \n",
       "904  Payments to provide financing support to small...   \n",
       "905  Spending of proceeds from the disposal of surp...   \n",
       "\n",
       "     2017-18 - Total budgetary authority available for use  \\\n",
       "0                                           69938738.0       \n",
       "1                                          283971202.0       \n",
       "2                                                  0.0       \n",
       "3                                                  0.0       \n",
       "4                                            8008731.0       \n",
       "..                                                 ...       \n",
       "901                                          3739442.0       \n",
       "902                                                0.0       \n",
       "903                                                0.0       \n",
       "904                                                0.0       \n",
       "905                                            15948.0       \n",
       "\n",
       "     2017-18 - Expenditures  \\\n",
       "0              6.700567e+07   \n",
       "1              2.839712e+08   \n",
       "2              0.000000e+00   \n",
       "3              0.000000e+00   \n",
       "4              8.008731e+06   \n",
       "..                      ...   \n",
       "901            3.739442e+06   \n",
       "902            0.000000e+00   \n",
       "903            0.000000e+00   \n",
       "904            0.000000e+00   \n",
       "905            1.594833e+04   \n",
       "\n",
       "     2018-19 - Total budgetary authority available for use  \\\n",
       "0                                             70427706       \n",
       "1                                            290437502       \n",
       "2                                                    0       \n",
       "3                                                    0       \n",
       "4                                              8032837       \n",
       "..                                                 ...       \n",
       "901                                            3798669       \n",
       "902                                                  0       \n",
       "903                                                  0       \n",
       "904                                                  0       \n",
       "905                                              11976       \n",
       "\n",
       "     2018-19 - Expenditures  \\\n",
       "0                65427353.0   \n",
       "1               276137362.0   \n",
       "2                       0.0   \n",
       "3                       0.0   \n",
       "4                 8032837.0   \n",
       "..                      ...   \n",
       "901               3798669.0   \n",
       "902                     0.0   \n",
       "903                     0.0   \n",
       "904                     0.0   \n",
       "905                 11976.0   \n",
       "\n",
       "     2019-20 - Total budgetary authority available for use  \\\n",
       "0                                             71610830       \n",
       "1                                            274953030       \n",
       "2                                                26772       \n",
       "3                                                    0       \n",
       "4                                              7867729       \n",
       "..                                                 ...       \n",
       "901                                            4413622       \n",
       "902                                                  0       \n",
       "903                                                  0       \n",
       "904                                                  0       \n",
       "905                                                446       \n",
       "\n",
       "     2019-20 - Expenditures  \\\n",
       "0                  68838886   \n",
       "1                 274953026   \n",
       "2                         0   \n",
       "3                         0   \n",
       "4                   7867729   \n",
       "..                      ...   \n",
       "901                 4413622   \n",
       "902                       0   \n",
       "903                       0   \n",
       "904                       0   \n",
       "905                     439   \n",
       "\n",
       "     2020-21 - Total budgetary authority available for use  \\\n",
       "0                                             74468028       \n",
       "1                                            452840687       \n",
       "2                                                    0       \n",
       "3                                                    0       \n",
       "4                                              9056403       \n",
       "..                                                 ...       \n",
       "901                                            5381397       \n",
       "902                                                  0       \n",
       "903                                          472394942       \n",
       "904                                                  0       \n",
       "905                                                  7       \n",
       "\n",
       "     2020-21 - Expenditures  \\\n",
       "0                  69790224   \n",
       "1                 441945575   \n",
       "2                         0   \n",
       "3                         0   \n",
       "4                   9056403   \n",
       "..                      ...   \n",
       "901                 5381397   \n",
       "902                       0   \n",
       "903               472394942   \n",
       "904                       0   \n",
       "905                       0   \n",
       "\n",
       "     2021-22 - Total budgetary authority available for use  \\\n",
       "0                                           76419187.0       \n",
       "1                                          373936114.0       \n",
       "2                                                  0.0       \n",
       "3                                                  0.0       \n",
       "4                                            8838758.0       \n",
       "..                                                 ...       \n",
       "901                                          5087300.0       \n",
       "902                                                0.0       \n",
       "903                                                0.0       \n",
       "904                                                0.0       \n",
       "905                                             1110.0       \n",
       "\n",
       "     2021-22 - Expenditures  2017-18 Delta  2018-19 Delta  2019-20 Delta  \\\n",
       "0                70687244.0     2933069.00      5000353.0        2771944   \n",
       "1               363964211.0           5.00     14300140.0              4   \n",
       "2                       0.0           0.00            0.0          26772   \n",
       "3                       0.0           0.00            0.0              0   \n",
       "4                 8838758.0           0.29            0.0              0   \n",
       "..                      ...            ...            ...            ...   \n",
       "901               5087300.0          -0.37            0.0              0   \n",
       "902                     0.0           0.00            0.0              0   \n",
       "903                     0.0           0.00            0.0              0   \n",
       "904                     0.0           0.00            0.0              0   \n",
       "905                  1110.0          -0.33            0.0              7   \n",
       "\n",
       "     2020-21 Delta  2021-22 Delta  \n",
       "0          4677804      5731943.0  \n",
       "1         10895112      9971903.0  \n",
       "2                0            0.0  \n",
       "3                0            0.0  \n",
       "4                0            0.0  \n",
       "..             ...            ...  \n",
       "901              0            0.0  \n",
       "902              0            0.0  \n",
       "903              0            0.0  \n",
       "904              0            0.0  \n",
       "905              7            0.0  \n",
       "\n",
       "[906 rows x 17 columns]"
      ]
     },
     "metadata": {},
     "output_type": "display_data"
    }
   ],
   "source": [
    "expenditures = expenditures.set_index('Organization')\n",
    "\n",
    "# List of years\n",
    "years = ['2017-18', '2018-19', '2019-20', '2020-21', '2021-22']\n",
    "\n",
    "for year in years:\n",
    "    year_col = year + ' - '\n",
    "    budget_col = year_col + 'Total budgetary authority available for use'\n",
    "    expenditure_col = year_col + 'Expenditures'\n",
    "    \n",
    "    expenditures[f'{year} Delta'] = expenditures[budget_col] - expenditures[expenditure_col]\n",
    "\n",
    "expenditures = expenditures.reset_index()\n",
    "display(expenditures)"
   ]
  },
  {
   "cell_type": "markdown",
   "metadata": {},
   "source": [
    "Perfect! Now we can utilize the new columns `2017-18 Delta`-`2021-22 Delta`. First, let's find the highest delta (i.e difference) in each year based on overspending and underspending budgets. "
   ]
  },
  {
   "cell_type": "code",
   "execution_count": 9,
   "metadata": {},
   "outputs": [
    {
     "ename": "AttributeError",
     "evalue": "'Series' object has no attribute 'iteritems'",
     "output_type": "error",
     "traceback": [
      "\u001b[0;31m---------------------------------------------------------------------------\u001b[0m",
      "\u001b[0;31mAttributeError\u001b[0m                            Traceback (most recent call last)",
      "\u001b[0;32m/var/folders/7_/hh3r368s1qgcd0kvk_0v8z7h0000gn/T/ipykernel_49613/260184161.py\u001b[0m in \u001b[0;36m?\u001b[0;34m()\u001b[0m\n\u001b[1;32m      1\u001b[0m \u001b[0mcols_to_check\u001b[0m \u001b[0;34m=\u001b[0m \u001b[0mexpenditures\u001b[0m\u001b[0;34m.\u001b[0m\u001b[0mcolumns\u001b[0m\u001b[0;34m[\u001b[0m\u001b[0;36m12\u001b[0m\u001b[0;34m:\u001b[0m\u001b[0;34m]\u001b[0m\u001b[0;34m\u001b[0m\u001b[0;34m\u001b[0m\u001b[0m\n\u001b[1;32m      2\u001b[0m \u001b[0mmax_indices\u001b[0m \u001b[0;34m=\u001b[0m \u001b[0mexpenditures\u001b[0m\u001b[0;34m[\u001b[0m\u001b[0mcols_to_check\u001b[0m\u001b[0;34m]\u001b[0m\u001b[0;34m.\u001b[0m\u001b[0midxmax\u001b[0m\u001b[0;34m(\u001b[0m\u001b[0;34m)\u001b[0m\u001b[0;34m\u001b[0m\u001b[0;34m\u001b[0m\u001b[0m\n\u001b[1;32m      3\u001b[0m \u001b[0;34m\u001b[0m\u001b[0m\n\u001b[0;32m----> 4\u001b[0;31m \u001b[0;32mfor\u001b[0m \u001b[0mcol\u001b[0m\u001b[0;34m,\u001b[0m \u001b[0mmax_index\u001b[0m \u001b[0;32min\u001b[0m \u001b[0mmax_indices\u001b[0m\u001b[0;34m.\u001b[0m\u001b[0miteritems\u001b[0m\u001b[0;34m(\u001b[0m\u001b[0;34m)\u001b[0m\u001b[0;34m:\u001b[0m\u001b[0;34m\u001b[0m\u001b[0;34m\u001b[0m\u001b[0m\n\u001b[0m\u001b[1;32m      5\u001b[0m     \u001b[0mmax_value\u001b[0m \u001b[0;34m=\u001b[0m \u001b[0mexpenditures\u001b[0m\u001b[0;34m.\u001b[0m\u001b[0mat\u001b[0m\u001b[0;34m[\u001b[0m\u001b[0mmax_index\u001b[0m\u001b[0;34m,\u001b[0m \u001b[0mcol\u001b[0m\u001b[0;34m]\u001b[0m\u001b[0;34m\u001b[0m\u001b[0;34m\u001b[0m\u001b[0m\n\u001b[1;32m      6\u001b[0m     \u001b[0morganization\u001b[0m \u001b[0;34m=\u001b[0m \u001b[0mexpenditures\u001b[0m\u001b[0;34m.\u001b[0m\u001b[0mat\u001b[0m\u001b[0;34m[\u001b[0m\u001b[0mmax_index\u001b[0m\u001b[0;34m,\u001b[0m \u001b[0;34m'Organization'\u001b[0m\u001b[0;34m]\u001b[0m\u001b[0;34m\u001b[0m\u001b[0;34m\u001b[0m\u001b[0m\n\u001b[1;32m      7\u001b[0m     \u001b[0mprogram\u001b[0m \u001b[0;34m=\u001b[0m \u001b[0mexpenditures\u001b[0m\u001b[0;34m.\u001b[0m\u001b[0mat\u001b[0m\u001b[0;34m[\u001b[0m\u001b[0mmax_index\u001b[0m\u001b[0;34m,\u001b[0m \u001b[0;34m'Vote 2021-22 / Statutory - Description'\u001b[0m\u001b[0;34m]\u001b[0m\u001b[0;34m\u001b[0m\u001b[0;34m\u001b[0m\u001b[0m\n",
      "\u001b[0;32m/Library/Frameworks/Python.framework/Versions/3.11/lib/python3.11/site-packages/pandas/core/generic.py\u001b[0m in \u001b[0;36m?\u001b[0;34m(self, name)\u001b[0m\n\u001b[1;32m   5985\u001b[0m             \u001b[0;32mand\u001b[0m \u001b[0mname\u001b[0m \u001b[0;32mnot\u001b[0m \u001b[0;32min\u001b[0m \u001b[0mself\u001b[0m\u001b[0;34m.\u001b[0m\u001b[0m_accessors\u001b[0m\u001b[0;34m\u001b[0m\u001b[0;34m\u001b[0m\u001b[0m\n\u001b[1;32m   5986\u001b[0m             \u001b[0;32mand\u001b[0m \u001b[0mself\u001b[0m\u001b[0;34m.\u001b[0m\u001b[0m_info_axis\u001b[0m\u001b[0;34m.\u001b[0m\u001b[0m_can_hold_identifiers_and_holds_name\u001b[0m\u001b[0;34m(\u001b[0m\u001b[0mname\u001b[0m\u001b[0;34m)\u001b[0m\u001b[0;34m\u001b[0m\u001b[0;34m\u001b[0m\u001b[0m\n\u001b[1;32m   5987\u001b[0m         ):\n\u001b[1;32m   5988\u001b[0m             \u001b[0;32mreturn\u001b[0m \u001b[0mself\u001b[0m\u001b[0;34m[\u001b[0m\u001b[0mname\u001b[0m\u001b[0;34m]\u001b[0m\u001b[0;34m\u001b[0m\u001b[0;34m\u001b[0m\u001b[0m\n\u001b[0;32m-> 5989\u001b[0;31m         \u001b[0;32mreturn\u001b[0m \u001b[0mobject\u001b[0m\u001b[0;34m.\u001b[0m\u001b[0m__getattribute__\u001b[0m\u001b[0;34m(\u001b[0m\u001b[0mself\u001b[0m\u001b[0;34m,\u001b[0m \u001b[0mname\u001b[0m\u001b[0;34m)\u001b[0m\u001b[0;34m\u001b[0m\u001b[0;34m\u001b[0m\u001b[0m\n\u001b[0m",
      "\u001b[0;31mAttributeError\u001b[0m: 'Series' object has no attribute 'iteritems'"
     ]
    }
   ],
   "source": [
    "cols_to_check = expenditures.columns[12:]\n",
    "max_indices = expenditures[cols_to_check].idxmax()\n",
    "\n",
    "for col, max_index in max_indices.iteritems():\n",
    "    max_value = expenditures.at[max_index, col]\n",
    "    organization = expenditures.at[max_index, 'Organization']\n",
    "    program = expenditures.at[max_index, 'Vote 2021-22 / Statutory - Description']  \n",
    "    \n",
    "    print(f\"Highest {col}:\")\n",
    "    print(f\"Organization: {organization}\")\n",
    "    print(f\"Description: {program}\")\n",
    "    print(f\"Under-Budget by: ${max_value}\\n\")\n",
    "\n",
    "cols_to_check = expenditures.columns[12:]\n",
    "min_indices = expenditures[cols_to_check].idxmin()\n",
    "print('-----------------------------\\n')\n",
    "\n",
    "for col, min_index in min_indices.iteritems():\n",
    "    min_value = expenditures.at[min_index, col]\n",
    "    organization = expenditures.at[min_index, 'Organization']\n",
    "    program = expenditures.at[min_index, 'Vote 2021-22 / Statutory - Description']  \n",
    "    \n",
    "    print(f\"Highest {col}:\")\n",
    "    print(f\"Organization: {organization}\")\n",
    "    print(f\"Description: {program}\")\n",
    "    print(f\"Over-Budget by: ${abs(min_value)}\\n\") "
   ]
  },
  {
   "cell_type": "markdown",
   "metadata": {},
   "source": [
    "Looking at the output above, the results are surprising. \n",
    "\n",
    " In every year in the under-budget deltas, particular organizations under-spent their budget by at least a billion dollars. Consistent under-spending by certain organizations, with under-budget deltas exceeding a billion dollars each year, can be viewed positively as a sign of fiscal responsibility and resource efficiency, but it also raises concerns about potential missed opportunities, impact on services, and the need for transparent accountability in budget management. On the flip-side, many organizations on the over-budget \n",
    "\n",
    " On the flip-side, in the over-budget deltas, many organizations diligently did not overspend on their allocated budget! The only major organization over-spending their budget was found in the `2019-20 Delta`, being the Correctional Service Canada organization. "
   ]
  },
  {
   "cell_type": "markdown",
   "metadata": {},
   "source": [
    "For clarity purposes, we can also visualize all the different highest deltas, whether it being overspending or underspending. "
   ]
  },
  {
   "cell_type": "code",
   "execution_count": null,
   "metadata": {},
   "outputs": [],
   "source": [
    "budget_analysis = make_subplots(rows=2, cols=1, subplot_titles=(\"Under-Budget\", \"Over-Budget\"))\n",
    "\n",
    "for col, max_index in max_indices.iteritems():\n",
    "    max_value = expenditures.at[max_index, col]\n",
    "    organization = expenditures.at[max_index, 'Organization']\n",
    "    program = expenditures.at[max_index, 'Vote 2021-22 / Statutory - Description']\n",
    "    \n",
    "    budget_analysis.add_trace(go.Bar(\n",
    "        x=[organization],\n",
    "        y=[max_value],\n",
    "        marker=dict(color='green'),\n",
    "        name=f\"Under-Budget Fig - {col}\",\n",
    "    ), row=1, col=1)\n",
    "\n",
    "for col, min_index in min_indices.iteritems():\n",
    "    min_value = expenditures.at[min_index, col]\n",
    "    organization = expenditures.at[min_index, 'Organization']\n",
    "    program = expenditures.at[min_index, 'Vote 2021-22 / Statutory - Description']\n",
    "    \n",
    "    budget_analysis.add_trace(go.Bar(\n",
    "        x=[organization],\n",
    "        y=[min_value],\n",
    "        marker=dict(color='red'),\n",
    "        name=f\"Over-Budget Fig - {col}\",\n",
    "    ), row=2, col=1)\n",
    "\n",
    "budget_analysis.update_layout(\n",
    "    title_text=\"Budget Analysis of Canadian organizations, 2017-2022\",\n",
    "    barmode='group',\n",
    ").show()"
   ]
  },
  {
   "cell_type": "markdown",
   "metadata": {},
   "source": [
    "Looking the visualization, two organizations do not have any budgets. Those are *Veterans Affairs Canada* and *Atlantic Canada Opportunities Agency*. This is because for the former they were only over-budget by one dollar, and the latter did not go over budget. What other conclusions can you interpret from the visualization? "
   ]
  },
  {
   "cell_type": "markdown",
   "metadata": {},
   "source": [
    "We can also look at the distribution percentage of government expenses on particular categories in the dataframe `overall_expenses`."
   ]
  },
  {
   "cell_type": "code",
   "execution_count": null,
   "metadata": {},
   "outputs": [],
   "source": [
    "overall_expenses"
   ]
  },
  {
   "cell_type": "markdown",
   "metadata": {},
   "source": [
    "We can first create a visualization representing the general progression of government expenses."
   ]
  },
  {
   "cell_type": "code",
   "execution_count": null,
   "metadata": {},
   "outputs": [],
   "source": [
    "columns = overall_expenses.columns[1:7]\n",
    "\n",
    "stacked_categories = px.bar(overall_expenses, x='Year', y=columns, title=\"Stacked Bar Graph of Government Expenses, 2008-2021\",\n",
    "             labels={'variable': f\"Category\", 'index': \"Year\", 'value': 'Percentage of Budget'})\n",
    "\n",
    "stacked_categories.update_layout(barmode='stack').show()"
   ]
  },
  {
   "cell_type": "markdown",
   "metadata": {},
   "source": [
    "Looking at the visualization, we can generally interpret which categories are prioritized by the government. *Social protection* and *health* appears to be of the highest priority without major changes throughout the years. This is also similar with other categories, appearing to change minimally. However, these minimal changes may be drastic when interpreted in the larger scale of money. "
   ]
  },
  {
   "cell_type": "markdown",
   "metadata": {},
   "source": [
    "Let's try to identify the changes throughout the years with more detail. We can calculate this by taking each year's current percent and subtracting it with the previous year. These will be documented in different columns."
   ]
  },
  {
   "cell_type": "code",
   "execution_count": null,
   "metadata": {},
   "outputs": [],
   "source": [
    "for col in columns:\n",
    "    overall_expenses[col + '_change'] = overall_expenses[col] - overall_expenses[col].shift(1)\n",
    "\n",
    "# Replace the first row values with 0\n",
    "overall_expenses.fillna(0, inplace=True)\n",
    "display(overall_expenses)"
   ]
  },
  {
   "cell_type": "markdown",
   "metadata": {},
   "source": [
    "Now let's visualize these percent changes in the visualization below."
   ]
  },
  {
   "cell_type": "code",
   "execution_count": null,
   "metadata": {},
   "outputs": [],
   "source": [
    "percentage_fig = go.Figure()\n",
    "\n",
    "for col in columns:\n",
    "    color = 'red' if overall_expenses[col + '_change'].iloc[1:].mean() < 0 else 'green'\n",
    "    percentage_fig.add_trace(go.Scatter(\n",
    "        x=overall_expenses['Year'],\n",
    "        y=overall_expenses[col],\n",
    "        mode='lines+markers',\n",
    "        line=dict(dash='dot'),\n",
    "        name=col,\n",
    "        marker=dict(color=color),\n",
    "        text=[f'{col}: {y:.2f}%<br>Change: {change:.2f}%' for y, change in zip(overall_expenses[col], overall_expenses[col + '_change'])],\n",
    "        hoverinfo='text',\n",
    "    ))\n",
    "\n",
    "percentage_fig.update_layout(\n",
    "    title=\"Progression of Expenses 2008-2021\",\n",
    "    xaxis=dict(title=\"Year\"),\n",
    "    yaxis=dict(title=\"Percentage Change\"),\n",
    ").show()"
   ]
  },
  {
   "cell_type": "markdown",
   "metadata": {},
   "source": [
    "It appears that half of the categories have *decreased* in overall percentage while the other half of categories *increased* in percentage throughout the years of 2008 to 2021. An interesting thing to note is the largest positive increase was in the year 2019-2020 with a 7% increase in social protection. A potential reasoning to why social protection increased so much in this year was that this was that this was the beginning of Covid-19. Unemployment soared during this time and the government may have had to assist more due to increasing poverty rates. However, many would assume *health* would have been prioritized if this was the case, but surprisingly it's allocation in budget decreased. \n",
    "\n",
    "Overall, upon closer examination of the specific percentage changes, it becomes apparent that the government has opted for relatively modest adjustments to the budget. This approach is generally positive, as it promotes stability and flexibility to address changing priorities and challenges."
   ]
  },
  {
   "cell_type": "markdown",
   "metadata": {},
   "source": [
    "We can also look at the percentages of budget based on province using the `share_of_expenses` dataframe."
   ]
  },
  {
   "cell_type": "code",
   "execution_count": null,
   "metadata": {},
   "outputs": [],
   "source": [
    "share_of_expenses"
   ]
  },
  {
   "cell_type": "markdown",
   "metadata": {},
   "source": [
    "## Extended Organization"
   ]
  },
  {
   "cell_type": "markdown",
   "metadata": {},
   "source": [
    "As an extension to organizing data, *data-cleaning* is an essential step in the data preparation process. Generally, it involves identifying, correcting, and handling errors, inconsistencies, and inaccuracies within a dataset. In our particular case, we will be changing the names of our columns to better suit analysis in later code cells.  \n",
    "\n",
    "We will also be reading in a *geojson* file, which contains information about the geometric latitude/longitude of the borders of provinces in Canada. "
   ]
  },
  {
   "cell_type": "code",
   "execution_count": null,
   "metadata": {},
   "outputs": [],
   "source": [
    "prov_data = gpd.read_file('https://raw.githubusercontent.com/callysto/data-files/main/Science/ClimateAcrossProvinces/geopandas.geojson')\n",
    "\n",
    "prov_data.prov_name_fr.replace(\n",
    "    {\n",
    "        'Alberta': 'Alberta',\n",
    "        'Manitoba': 'Manitoba',\n",
    "        'Yukon': 'Yukon',\n",
    "        'Terre-Neuve-et-Labrador': 'Newfoundland and Labrador',\n",
    "        'Nouvelle-Écosse': 'Nova Scotia',\n",
    "        'Territoires du Nord-Ouest': 'Northwest Territories',\n",
    "        'Île-du-Prince-Édouard': 'Prince Edward Island',\n",
    "        'Nunavut': 'Nunavut',\n",
    "        'Québec': 'Quebec',\n",
    "        'Ontario': 'Ontario',\n",
    "        'Colombie-Britannique': 'British Columbia'\n",
    "    },\n",
    "    inplace=True\n",
    ")\n",
    "\n",
    "prov_data.rename(columns={'prov_name_fr': \"Province\"}, inplace=True)  \n",
    "prov_data"
   ]
  },
  {
   "cell_type": "markdown",
   "metadata": {},
   "source": [
    "Now that we've properly cleaned our dataframe, we will merge our two dataframes. Don't worry about the particular details on why this is being done; it's primarily for coding purposes to prepare for a future visualization."
   ]
  },
  {
   "cell_type": "code",
   "execution_count": null,
   "metadata": {},
   "outputs": [],
   "source": [
    "prov_data['prov_name_en'] = prov_data['prov_name_en'].apply(lambda x: ''.join(map(str, x)))\n",
    "\n",
    "merged_data = share_of_expenses.merge(prov_data, left_on='Province', right_on='Province', how='left')\n",
    "merged_data"
   ]
  },
  {
   "cell_type": "markdown",
   "metadata": {},
   "source": [
    "Now that we've obtained a merged dataframe, we can visualize the different provincial spending habits via a folium map! By using the top tab called *Column*, you can select a specific column to visualize. Provinces that are deeper in green represent a higher allocation of government budget, while lighter colours represent the opposite. "
   ]
  },
  {
   "cell_type": "code",
   "execution_count": null,
   "metadata": {},
   "outputs": [],
   "source": [
    "spendingbyprov = ipywidgets.Output(layout={'border': '1px solid black'})\n",
    "\n",
    "column_names = merged_data.columns[1:7].tolist()\n",
    "dropdown_options = ipywidgets.Dropdown(\n",
    "    options=column_names,\n",
    "    value=column_names[0],\n",
    "    description='Column:',\n",
    "    disabled=False\n",
    ")\n",
    "\n",
    "def update_choropleth(change):\n",
    "    spendingbyprov.clear_output()\n",
    "    with spendingbyprov:\n",
    "        m = folium.Map(location=[50, -65], zoom_start=3)\n",
    "        folium.Choropleth(\n",
    "            geo_data=prov_data,\n",
    "            data=merged_data,\n",
    "            columns=['prov_name_en', dropdown_options.value],  \n",
    "            key_on='feature.properties.prov_name_en',  \n",
    "            fill_color='YlGn',\n",
    "            fill_opacity=0.7,\n",
    "            line_opacity=0.2,\n",
    "            legend_name=f'{dropdown_options.value} by Province',\n",
    "        ).add_to(m)\n",
    "        display(m)\n",
    "\n",
    "dropdown_options.observe(update_choropleth, names='value')\n",
    "display(dropdown_options)\n",
    "update_choropleth({'new': column_names[0]})\n",
    "\n",
    "spendingbyprov"
   ]
  },
  {
   "cell_type": "markdown",
   "metadata": {},
   "source": [
    "In the final section of our notebook, we'll be visualizing differences in allocated dollars of federal and provincial governments. We'll also be performing another form of *data-cleaning* in our dataframe called `federal_provincial` by converting all our dollar amounts into valid numbers for analysis later."
   ]
  },
  {
   "cell_type": "code",
   "execution_count": null,
   "metadata": {},
   "outputs": [],
   "source": [
    "federal_provincial = federal_provincial.drop(federal_provincial.index[20:], axis=0).reset_index(drop=True)\n",
    "federal_provincial['Canadian Classification of Functions of Government (CCOFOG) '] = federal_provincial['Canadian Classification of Functions of Government (CCOFOG) '].str.strip()\n",
    "\n",
    "columns_to_convert = federal_provincial.columns[1:15]\n",
    "for col in columns_to_convert:\n",
    "    federal_provincial[col] = federal_provincial[col].str.replace(',', '', regex=True).astype(float)\n",
    "federal_provincial"
   ]
  },
  {
   "cell_type": "markdown",
   "metadata": {},
   "source": [
    "Now that we have valid numeric values, let's create a visualization of each different classifications based on federal and provincial budgets. \n",
    "\n",
    "*Note*: Since many of the classifications have long names, we'll be using an abbreviation system. The abbreviated names will also be printed below the visualization."
   ]
  },
  {
   "cell_type": "code",
   "execution_count": null,
   "metadata": {},
   "outputs": [],
   "source": [
    "classification_name_mapping = {\n",
    "    'General public services': 'GPS',\n",
    "    'Public order and safety': 'POS',\n",
    "    'Economic affairs': 'EA',\n",
    "    'Environmental protection': 'EP',\n",
    "    'Housing and community amenities': 'HCA',\n",
    "    'Recreation, culture and religion': 'RCR',\n",
    "    'Social protection': 'SP'\n",
    "}\n",
    "\n",
    "federal_provincial['Canadian Classification of Functions of Government (CCOFOG) '] = federal_provincial['Canadian Classification of Functions of Government (CCOFOG) '].map(classification_name_mapping).fillna(federal_provincial['Canadian Classification of Functions of Government (CCOFOG) '])\n",
    "classifications = federal_provincial['Canadian Classification of Functions of Government (CCOFOG) '].unique()\n",
    "num_columns = len(classifications)\n",
    "\n",
    "all_classifications_fig = make_subplots(rows=1, cols=num_columns, subplot_titles=classifications)\n",
    "\n",
    "col_num = 1\n",
    "\n",
    "for classification in classifications:\n",
    "    temp_df = federal_provincial[federal_provincial['Canadian Classification of Functions of Government (CCOFOG) '] == classification]\n",
    "    temp_df = temp_df.melt(id_vars=['Canadian Classification of Functions of Government (CCOFOG) ', 'Public sector components'], var_name='Year', value_name='Value')\n",
    "\n",
    "    traces = []\n",
    "    for component in temp_df['Public sector components'].unique():\n",
    "        trace = go.Scatter(\n",
    "            x=temp_df[temp_df['Public sector components'] == component]['Year'],\n",
    "            y=temp_df[temp_df['Public sector components'] == component]['Value'],\n",
    "            mode='lines+markers',\n",
    "            name=component\n",
    "        )\n",
    "        traces.append(trace)\n",
    "\n",
    "    for trace in traces:\n",
    "        all_classifications_fig.add_trace(trace, row=1, col=col_num)\n",
    "\n",
    "    all_classifications_fig.update_xaxes(title_text='Year', row=1, col=col_num)\n",
    "\n",
    "    all_classifications_fig.update_yaxes(title_text='', row=1, col=col_num)\n",
    "\n",
    "    col_num += 1\n",
    "\n",
    "all_classifications_fig.update_layout(\n",
    "    title='Spending Over the Years by Classification',\n",
    "    showlegend=False  \n",
    ").show()\n",
    "\n",
    "print(\"Classification Name Mapping:\")\n",
    "for full_name, short_name in classification_name_mapping.items():\n",
    "    print(f\"{full_name} => {short_name}\")"
   ]
  },
  {
   "cell_type": "markdown",
   "metadata": {},
   "source": [
    "Looking at our final visualization, we can definitively say that federal government budgets are *much* larger than their respective provincial counterparts. The only classification that has a similar federal and provincial budget is *Health*. Interestingly, the classification *Defence* has no budget allocated in the provincial sector. Can you interpret ideas on why this could be?"
   ]
  },
  {
   "cell_type": "markdown",
   "metadata": {},
   "source": [
    "# Interpret"
   ]
  },
  {
   "cell_type": "markdown",
   "metadata": {},
   "source": [
    "### Reflect on What You See"
   ]
  },
  {
   "cell_type": "markdown",
   "metadata": {},
   "source": [
    "Think about the following questions.\n",
    "\n",
    "1. How have shifts in government spending patterns impacted your perception of public service accessibility and quality in your area?\n",
    "2. What strategies or policies do you believe should be implemented to ensure fair and equitable distribution of government resources across various sectors and regions?\n",
    "3. What insights can be gained from historical instances of government budget adjustments, and how can they inform proactive measures to address future challenges related to government resource allocation and spending decisions?\n",
    "\n",
    "# Communicate\n",
    "\n",
    "Below are some writing prompts to help you reflect on the new information that is presented from the data. When we look at the evidence, think about what you perceive about the information. Is this perception based on what the evidence shows? If others were to view it, what perceptions might they have?\n",
    "\n",
    "- I used to think ____________________ but now I know ____________________. \n",
    "- I wish I knew more about ____________________. \n",
    "- This visualization reminds me of ____________________. \n",
    "- I really like ____________________."
   ]
  },
  {
   "cell_type": "markdown",
   "metadata": {},
   "source": [
    "[![Callysto.ca License](https://github.com/callysto/curriculum-notebooks/blob/master/callysto-notebook-banner-bottom.jpg?raw=true)](https://github.com/callysto/curriculum-notebooks/blob/master/LICENSE.md)"
   ]
  }
 ],
 "metadata": {
  "kernelspec": {
   "display_name": "Python 3",
   "language": "python",
   "name": "python3"
  },
  "language_info": {
   "codemirror_mode": {
    "name": "ipython",
    "version": 3
   },
   "file_extension": ".py",
   "mimetype": "text/x-python",
   "name": "python",
   "nbconvert_exporter": "python",
   "pygments_lexer": "ipython3",
   "version": "3.11.3"
  },
  "orig_nbformat": 4
 },
 "nbformat": 4,
 "nbformat_minor": 2
}
