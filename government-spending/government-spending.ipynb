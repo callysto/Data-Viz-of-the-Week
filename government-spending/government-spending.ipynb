{
 "cells": [
  {
   "cell_type": "markdown",
   "metadata": {},
   "source": [
    "![Callysto.ca Banner](https://github.com/callysto/curriculum-notebooks/blob/master/callysto-notebook-banner-top.jpg?raw=true)"
   ]
  },
  {
   "cell_type": "markdown",
   "metadata": {},
   "source": [
    "# Callysto’s Weekly Data Visualization\n",
    "\n",
    "## Government Spending\n",
    "\n",
    "### Recommended Grade levels:\n",
    "<br>"
   ]
  },
  {
   "cell_type": "code",
   "execution_count": null,
   "metadata": {},
   "outputs": [],
   "source": [
    "import pandas as pd\n",
    "import plotly.express as px\n",
    "import folium\n",
    "import plotly.graph_objects as go\n",
    "from plotly.subplots import make_subplots\n",
    "import warnings\n",
    "warnings.filterwarnings(\"ignore\")\n",
    "\n",
    "print(\"Libraries imported.\")"
   ]
  },
  {
   "cell_type": "code",
   "execution_count": null,
   "metadata": {},
   "outputs": [],
   "source": [
    "# Renaming columns\n",
    "expenses_cols = ['Year','Social protection','Health','Education','General public services','Economic affairs','Other functions']\n",
    "share_of_expenses_cols = ['Province','Health','Education','General public services','Social protection','Economic affairs','Other functions']\n",
    "\n",
    "fte = pd.read_csv(\"https://raw.githubusercontent.com/callysto/data-files/main/data-viz-of-the-week/government-spending/FTE.csv\")\n",
    "expenditures = pd.read_csv(\"https://raw.githubusercontent.com/callysto/data-files/main/data-viz-of-the-week/government-spending/expenditures.csv\")\n",
    "overall_expenses = pd.read_csv(\"https://raw.githubusercontent.com/callysto/data-files/main/data-viz-of-the-week/government-spending/overall_expenses.csv\", header=1, names=expenses_cols)\n",
    "planned_spending = pd.read_csv(\"https://raw.githubusercontent.com/callysto/data-files/main/data-viz-of-the-week/government-spending/planned_spending.csv\")\n",
    "share_of_expenses = pd.read_csv(\"https://raw.githubusercontent.com/callysto/data-files/main/data-viz-of-the-week/government-spending/share_of_expenses.csv\", header=1, names=share_of_expenses_cols)\n",
    "\n",
    "print(\"Datasets imported.\")"
   ]
  },
  {
   "cell_type": "code",
   "execution_count": null,
   "metadata": {},
   "outputs": [],
   "source": [
    "fte"
   ]
  },
  {
   "cell_type": "code",
   "execution_count": null,
   "metadata": {},
   "outputs": [],
   "source": [
    "# Find unique organizations\n",
    "unique_organizations = set(fte['Organization'])\n",
    "\n",
    "# Print unique organization\n",
    "for org in unique_organizations:\n",
    "    print(org)"
   ]
  },
  {
   "cell_type": "code",
   "execution_count": null,
   "metadata": {},
   "outputs": [],
   "source": [
    "# Change this to the organization you'd like to look at \n",
    "# Example: \"Atlantic Canada Opportunities Agency\" can be changed to \"Canadian Grain Commission\"\n",
    "organization_to_find = \"Atlantic Canada Opportunities Agency\"\n",
    "\n",
    "searched_df = fte[fte['Organization'] == organization_to_find]\n",
    "\n",
    "columns_to_melt = [col for col in searched_df.columns if col != 'Program']\n",
    "melted_df = pd.melt(searched_df, id_vars=['Organization'], value_vars=columns_to_melt, var_name='Year', value_name='Value')\n",
    "org_df = melted_df.groupby(['Year', 'Organization'])['Value'].sum().reset_index()\n",
    "\n",
    "searched_df = fte[fte['Organization'] == organization_to_find]\n",
    "df_prog = searched_df.groupby('Program').sum().reset_index()\n",
    "columns_to_melt_prog = [col for col in df_prog.columns if col != 'Program']\n",
    "program_df = pd.melt(df_prog, id_vars=['Program'], value_vars=columns_to_melt_prog, var_name='Year', value_name='Value')\n",
    "\n",
    "fte_fig = make_subplots(rows=1, cols=2, subplot_titles=(f\"Total FTEs for {organization_to_find}\", f\"Program FTEs for {organization_to_find}\"))\n",
    "\n",
    "for org in org_df['Organization'].unique():\n",
    "    org_data = org_df[org_df['Organization'] == org]\n",
    "    fte_fig.add_trace(go.Scatter(x=org_data['Year'], y=org_data['Value'], mode='lines',\n",
    "                             name=f'{org}'), \n",
    "                             row=1, col=1)\n",
    "\n",
    "for program in program_df['Program'].unique():\n",
    "    prog_data = program_df[program_df['Program'] == program]\n",
    "    fte_fig.add_trace(go.Scatter(x=prog_data['Year'], y=prog_data['Value'], mode='lines',\n",
    "                             name=f'{program}'), row=1, col=2,\n",
    "                             )\n",
    "   \n",
    "    \n",
    "\n",
    "fte_fig.update_layout(title=f'Progression of FTEs for: {organization_to_find}',\n",
    "                  xaxis_title='Year', yaxis_title='FTEs',\n",
    "                  xaxis2_title='Year', yaxis2_title='FTEs')\n",
    "\n",
    "fte_fig.show()"
   ]
  },
  {
   "cell_type": "code",
   "execution_count": null,
   "metadata": {},
   "outputs": [],
   "source": [
    "expenditures"
   ]
  },
  {
   "cell_type": "code",
   "execution_count": null,
   "metadata": {},
   "outputs": [],
   "source": [
    "print(expenditures.dtypes[expenditures.dtypes == 'float64'])\n",
    "print(expenditures.dtypes[expenditures.dtypes == 'int64'])"
   ]
  },
  {
   "cell_type": "code",
   "execution_count": null,
   "metadata": {},
   "outputs": [],
   "source": [
    "expenditures = expenditures.set_index('Organization')\n",
    "\n",
    "# List of years\n",
    "years = ['2017-18', '2018-19', '2019-20', '2020-21', '2021-22']\n",
    "\n",
    "for year in years:\n",
    "    year_col = year + ' - '\n",
    "    budget_col = year_col + 'Total budgetary authority available for use'\n",
    "    expenditure_col = year_col + 'Expenditures'\n",
    "    \n",
    "    expenditures[f'{year} Delta'] = expenditures[budget_col] - expenditures[expenditure_col]\n",
    "\n",
    "expenditures = expenditures.reset_index()\n",
    "display(expenditures)"
   ]
  },
  {
   "cell_type": "code",
   "execution_count": null,
   "metadata": {},
   "outputs": [],
   "source": [
    "cols_to_check = expenditures.columns[12:]\n",
    "max_indices = expenditures[cols_to_check].idxmax()\n",
    "\n",
    "for col, max_index in max_indices.iteritems():\n",
    "    max_value = expenditures.at[max_index, col]\n",
    "    organization = expenditures.at[max_index, 'Organization']\n",
    "    program = expenditures.at[max_index, 'Vote 2021-22 / Statutory - Description']  \n",
    "    \n",
    "    print(f\"Highest {col}:\")\n",
    "    print(f\"Organization: {organization}\")\n",
    "    print(f\"Description: {program}\")\n",
    "    print(f\"Under-Budget by: ${max_value}\\n\")\n",
    "\n",
    "cols_to_check = expenditures.columns[12:]\n",
    "min_indices = expenditures[cols_to_check].idxmin()\n",
    "print('-----------------------------\\n')\n",
    "\n",
    "for col, min_index in min_indices.iteritems():\n",
    "    min_value = expenditures.at[min_index, col]\n",
    "    organization = expenditures.at[min_index, 'Organization']\n",
    "    program = expenditures.at[min_index, 'Vote 2021-22 / Statutory - Description']  \n",
    "    \n",
    "    print(f\"Highest {col}:\")\n",
    "    print(f\"Organization: {organization}\")\n",
    "    print(f\"Description: {program}\")\n",
    "    print(f\"Over-Budget by: ${abs(min_value)}\\n\") "
   ]
  }
 ],
 "metadata": {
  "kernelspec": {
   "display_name": "Python 3",
   "language": "python",
   "name": "python3"
  },
  "language_info": {
   "codemirror_mode": {
    "name": "ipython",
    "version": 3
   },
   "file_extension": ".py",
   "mimetype": "text/x-python",
   "name": "python",
   "nbconvert_exporter": "python",
   "pygments_lexer": "ipython3",
   "version": "3.10.8"
  },
  "orig_nbformat": 4
 },
 "nbformat": 4,
 "nbformat_minor": 2
}
