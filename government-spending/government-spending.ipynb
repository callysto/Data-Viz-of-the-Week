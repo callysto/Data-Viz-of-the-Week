{
 "cells": [
  {
   "cell_type": "markdown",
   "metadata": {},
   "source": [
    "![Callysto.ca Banner](https://github.com/callysto/curriculum-notebooks/blob/master/callysto-notebook-banner-top.jpg?raw=true)"
   ]
  },
  {
   "cell_type": "markdown",
   "metadata": {},
   "source": [
    "\n",
    "\n",
    "<a href=\"https://hub.callysto.ca/jupyter/hub/user-redirect/git-pull?repo=https%3A%2F%2Fgithub.com%2Fcallysto%2Fdata-viz-of-the-week&branch=main&subPath=government-spending/government-spending.ipynb&depth=1\" target=\"_parent\"><img src=\"https://raw.githubusercontent.com/callysto/curriculum-notebooks/master/open-in-callysto-button.svg?sanitize=true\" width=\"123\" height=\"24\" alt=\"Open in Callysto\"></a>"
   ]
  },
  {
   "attachments": {},
   "cell_type": "markdown",
   "metadata": {},
   "source": [
    "# Callysto’s Weekly Data Visualization\n",
    "\n",
    "## Government Spending\n",
    "\n",
    "### Recommended Grade levels: 6-9\n",
    "<br>"
   ]
  },
  {
   "cell_type": "markdown",
   "metadata": {},
   "source": [
    "### Instructions\n",
    "\n",
    "Click \"Cell\" and select \"Run All\".\n",
    "\n",
    "This will import the data and run all the code, so you can see this week's data visualization. Scroll back to the top after you’ve run the cells.\n",
    "\n",
    "![instructions](https://github.com/callysto/data-viz-of-the-week/blob/main/images/instructions.png?raw=true)\n",
    "\n",
    "**You don't need to do any coding to view the visualizations**.\n",
    "\n",
    "The plots generated in this notebook are interactive. You can hover over and click on elements to see more information. \n",
    "\n",
    "Email contact@callysto.ca if you experience issues."
   ]
  },
  {
   "cell_type": "markdown",
   "metadata": {},
   "source": [
    "### About this Notebook\n",
    "\n",
    "Callysto's Weekly Data Visualization is a learning resource that aims to develop data literacy skills. We provide Grades 5-12 teachers and students with a data visualization, like a graph, to interpret. This companion resource walks learners through how the data visualization is created and interpreted by a data scientist. \n",
    "\n",
    "The steps of the data analysis process are listed below and applied to each weekly topic.\n",
    "\n",
    "1. Question - What are we trying to answer?\n",
    "2. Gather - Find the data source(s) you will need. \n",
    "3. Organize - Arrange the data, so that you can easily explore it. \n",
    "4. Explore - Examine the data to look for evidence to answer the question. This includes creating visualizations. \n",
    "5. Interpret - Describe what's happening in the data visualization. \n",
    "6. Communicate - Explain how the evidence answers the question. "
   ]
  },
  {
   "cell_type": "markdown",
   "metadata": {},
   "source": [
    "## Question\n",
    "\n",
    "Which sectors receive funding from the Canadian government, and what is the allocation of the government's budget to specific categories? "
   ]
  },
  {
   "cell_type": "markdown",
   "metadata": {},
   "source": [
    "### Goal\n",
    "\n",
    "Our mission is to look at how the different sectors in the Canadian government and identify which spend and most/least of the allocated budget set. We also want to look at the distribution of expenses and find any trends with how the budget is allocated amongst important categories such as health, defense, etc."
   ]
  },
  {
   "cell_type": "markdown",
   "metadata": {},
   "source": [
    "### Background\n",
    "\n",
    "Analyzing the Canadian government's budget, expenses, and future spending habits is important as it promotes transparency and accountability, enabling citizens to assess government priorities and decisions. We can also identify areas for optimization, specifically looking at areas of high spending."
   ]
  },
  {
   "cell_type": "markdown",
   "metadata": {},
   "source": [
    "## Gather"
   ]
  },
  {
   "cell_type": "markdown",
   "metadata": {},
   "source": [
    "All of our data sources used in this notebook comes from [Statistics Canada](https://www.statcan.gc.ca/en/start) and the government of Canada's [open government](https://search.open.canada.ca/opendata/) portal. "
   ]
  },
  {
   "cell_type": "markdown",
   "metadata": {},
   "source": [
    "### Code: \n",
    "\n",
    "Run the code cells below to import the libraries we need for this project. Libraries are pre-made code that make it easier to analyze our data."
   ]
  },
  {
   "cell_type": "code",
   "execution_count": 1,
   "metadata": {},
   "outputs": [
    {
     "name": "stdout",
     "output_type": "stream",
     "text": [
      "Libraries imported.\n"
     ]
    }
   ],
   "source": [
    "import pandas as pd\n",
    "import plotly.express as px\n",
    "import folium\n",
    "import geopandas as gpd\n",
    "import plotly.graph_objects as go\n",
    "from plotly.subplots import make_subplots\n",
    "import warnings\n",
    "import ipywidgets\n",
    "from IPython.display import display\n",
    "warnings.filterwarnings(\"ignore\")\n",
    "\n",
    "print(\"Libraries imported.\")"
   ]
  },
  {
   "cell_type": "markdown",
   "metadata": {},
   "source": [
    "### Data\n",
    "\n",
    "To begin, we'll obtain our datasets necessary for this notebook by using the cell below. In certain notebooks, the column names will be altered to enhance clarity on what the column means."
   ]
  },
  {
   "cell_type": "markdown",
   "metadata": {},
   "source": [
    "### Import the data"
   ]
  },
  {
   "cell_type": "code",
   "execution_count": 2,
   "metadata": {},
   "outputs": [
    {
     "name": "stdout",
     "output_type": "stream",
     "text": [
      "Datasets imported.\n"
     ]
    }
   ],
   "source": [
    "# Renaming columns\n",
    "expenses_cols = ['Year','Social protection','Health','Education','General public services','Economic affairs','Other functions']\n",
    "share_of_expenses_cols = ['Province','Health','Education','General public services','Social protection','Economic affairs','Other functions']\n",
    "\n",
    "fte = pd.read_csv(\"https://raw.githubusercontent.com/callysto/data-files/main/data-viz-of-the-week/government-spending/FTE.csv\")\n",
    "expenditures = pd.read_csv(\"https://raw.githubusercontent.com/callysto/data-files/main/data-viz-of-the-week/government-spending/expenditures.csv\")\n",
    "overall_expenses = pd.read_csv(\"https://raw.githubusercontent.com/callysto/data-files/main/data-viz-of-the-week/government-spending/overall_expenses.csv\", header=1, names=expenses_cols)\n",
    "share_of_expenses = pd.read_csv(\"https://raw.githubusercontent.com/callysto/data-files/main/data-viz-of-the-week/government-spending/share_of_expenses.csv\", header=1, names=share_of_expenses_cols)\n",
    "federal_provincial = pd.read_csv(\"https://raw.githubusercontent.com/callysto/data-files/main/data-viz-of-the-week/government-spending/federal_provincial.csv\")\n",
    "print(\"Datasets imported.\")"
   ]
  },
  {
   "cell_type": "markdown",
   "metadata": {},
   "source": [
    "### Comment on the data"
   ]
  },
  {
   "cell_type": "markdown",
   "metadata": {},
   "source": [
    "Now that we've obtained our data, we can take a look at what each dataset represents and try to analyze better meaning from it. Throughout this notebook, when a new dataset is being used, the first cell will print the contents of the dataset. This will help establish when a new dataset is being analyzed and the contents of visualizations. \n",
    "\n",
    "To begin, let's analyze our `fte` dataset."
   ]
  },
  {
   "cell_type": "code",
   "execution_count": 3,
   "metadata": {},
   "outputs": [
    {
     "data": {
      "text/html": [
       "<div>\n",
       "<style scoped>\n",
       "    .dataframe tbody tr th:only-of-type {\n",
       "        vertical-align: middle;\n",
       "    }\n",
       "\n",
       "    .dataframe tbody tr th {\n",
       "        vertical-align: top;\n",
       "    }\n",
       "\n",
       "    .dataframe thead th {\n",
       "        text-align: right;\n",
       "    }\n",
       "</style>\n",
       "<table border=\"1\" class=\"dataframe\">\n",
       "  <thead>\n",
       "    <tr style=\"text-align: right;\">\n",
       "      <th></th>\n",
       "      <th>Organization</th>\n",
       "      <th>Program</th>\n",
       "      <th>2017-18  Actual FTEs</th>\n",
       "      <th>2018-19  Actual FTEs</th>\n",
       "      <th>2019-20  Actual FTEs</th>\n",
       "      <th>2020-21  Actual FTEs</th>\n",
       "      <th>2021-22  Actual FTEs</th>\n",
       "      <th>2023-24  Planned FTEs</th>\n",
       "      <th>2024-25  Planned FTEs</th>\n",
       "      <th>2025-26  Planned FTEs</th>\n",
       "    </tr>\n",
       "  </thead>\n",
       "  <tbody>\n",
       "    <tr>\n",
       "      <th>0</th>\n",
       "      <td>Atlantic Canada Opportunities Agency</td>\n",
       "      <td>Enterprise Development</td>\n",
       "      <td>217.0</td>\n",
       "      <td>0.0</td>\n",
       "      <td>0.0</td>\n",
       "      <td>0.0</td>\n",
       "      <td>0.0</td>\n",
       "      <td>0</td>\n",
       "      <td>0</td>\n",
       "      <td>0</td>\n",
       "    </tr>\n",
       "    <tr>\n",
       "      <th>1</th>\n",
       "      <td>Atlantic Canada Opportunities Agency</td>\n",
       "      <td>Community Development</td>\n",
       "      <td>94.0</td>\n",
       "      <td>0.0</td>\n",
       "      <td>0.0</td>\n",
       "      <td>0.0</td>\n",
       "      <td>0.0</td>\n",
       "      <td>0</td>\n",
       "      <td>0</td>\n",
       "      <td>0</td>\n",
       "    </tr>\n",
       "    <tr>\n",
       "      <th>2</th>\n",
       "      <td>Atlantic Canada Opportunities Agency</td>\n",
       "      <td>Policy, Advocacy and Coordination</td>\n",
       "      <td>65.0</td>\n",
       "      <td>0.0</td>\n",
       "      <td>0.0</td>\n",
       "      <td>0.0</td>\n",
       "      <td>0.0</td>\n",
       "      <td>0</td>\n",
       "      <td>0</td>\n",
       "      <td>0</td>\n",
       "    </tr>\n",
       "    <tr>\n",
       "      <th>3</th>\n",
       "      <td>Atlantic Canada Opportunities Agency</td>\n",
       "      <td>Inclusive Communities</td>\n",
       "      <td>0.0</td>\n",
       "      <td>39.0</td>\n",
       "      <td>32.0</td>\n",
       "      <td>36.0</td>\n",
       "      <td>43.0</td>\n",
       "      <td>32</td>\n",
       "      <td>32</td>\n",
       "      <td>32</td>\n",
       "    </tr>\n",
       "    <tr>\n",
       "      <th>4</th>\n",
       "      <td>Atlantic Canada Opportunities Agency</td>\n",
       "      <td>Diversified Communities</td>\n",
       "      <td>0.0</td>\n",
       "      <td>71.0</td>\n",
       "      <td>74.0</td>\n",
       "      <td>71.0</td>\n",
       "      <td>76.0</td>\n",
       "      <td>77</td>\n",
       "      <td>76</td>\n",
       "      <td>76</td>\n",
       "    </tr>\n",
       "    <tr>\n",
       "      <th>...</th>\n",
       "      <td>...</td>\n",
       "      <td>...</td>\n",
       "      <td>...</td>\n",
       "      <td>...</td>\n",
       "      <td>...</td>\n",
       "      <td>...</td>\n",
       "      <td>...</td>\n",
       "      <td>...</td>\n",
       "      <td>...</td>\n",
       "      <td>...</td>\n",
       "    </tr>\n",
       "    <tr>\n",
       "      <th>1941</th>\n",
       "      <td>Prairies Economic Development Canada</td>\n",
       "      <td>Business Services</td>\n",
       "      <td>0.0</td>\n",
       "      <td>0.0</td>\n",
       "      <td>0.0</td>\n",
       "      <td>0.0</td>\n",
       "      <td>0.0</td>\n",
       "      <td>37</td>\n",
       "      <td>37</td>\n",
       "      <td>37</td>\n",
       "    </tr>\n",
       "    <tr>\n",
       "      <th>1942</th>\n",
       "      <td>Prairies Economic Development Canada</td>\n",
       "      <td>Community Initiatives</td>\n",
       "      <td>0.0</td>\n",
       "      <td>0.0</td>\n",
       "      <td>0.0</td>\n",
       "      <td>0.0</td>\n",
       "      <td>0.0</td>\n",
       "      <td>38</td>\n",
       "      <td>30</td>\n",
       "      <td>3</td>\n",
       "    </tr>\n",
       "    <tr>\n",
       "      <th>1943</th>\n",
       "      <td>Prairies Economic Development Canada</td>\n",
       "      <td>Business Development and Innovation</td>\n",
       "      <td>97.0</td>\n",
       "      <td>0.0</td>\n",
       "      <td>0.0</td>\n",
       "      <td>0.0</td>\n",
       "      <td>0.0</td>\n",
       "      <td>0</td>\n",
       "      <td>0</td>\n",
       "      <td>0</td>\n",
       "    </tr>\n",
       "    <tr>\n",
       "      <th>1944</th>\n",
       "      <td>Prairies Economic Development Canada</td>\n",
       "      <td>Internal Services</td>\n",
       "      <td>91.0</td>\n",
       "      <td>0.0</td>\n",
       "      <td>0.0</td>\n",
       "      <td>0.0</td>\n",
       "      <td>0.0</td>\n",
       "      <td>0</td>\n",
       "      <td>0</td>\n",
       "      <td>0</td>\n",
       "    </tr>\n",
       "    <tr>\n",
       "      <th>1945</th>\n",
       "      <td>Prairies Economic Development Canada</td>\n",
       "      <td>Internal Services</td>\n",
       "      <td>0.0</td>\n",
       "      <td>97.0</td>\n",
       "      <td>97.0</td>\n",
       "      <td>102.0</td>\n",
       "      <td>107.0</td>\n",
       "      <td>98</td>\n",
       "      <td>89</td>\n",
       "      <td>86</td>\n",
       "    </tr>\n",
       "  </tbody>\n",
       "</table>\n",
       "<p>1946 rows × 10 columns</p>\n",
       "</div>"
      ],
      "text/plain": [
       "                              Organization  \\\n",
       "0     Atlantic Canada Opportunities Agency   \n",
       "1     Atlantic Canada Opportunities Agency   \n",
       "2     Atlantic Canada Opportunities Agency   \n",
       "3     Atlantic Canada Opportunities Agency   \n",
       "4     Atlantic Canada Opportunities Agency   \n",
       "...                                    ...   \n",
       "1941  Prairies Economic Development Canada   \n",
       "1942  Prairies Economic Development Canada   \n",
       "1943  Prairies Economic Development Canada   \n",
       "1944  Prairies Economic Development Canada   \n",
       "1945  Prairies Economic Development Canada   \n",
       "\n",
       "                                  Program  2017-18  Actual FTEs  \\\n",
       "0                  Enterprise Development                 217.0   \n",
       "1                   Community Development                  94.0   \n",
       "2       Policy, Advocacy and Coordination                  65.0   \n",
       "3                   Inclusive Communities                   0.0   \n",
       "4                 Diversified Communities                   0.0   \n",
       "...                                   ...                   ...   \n",
       "1941                    Business Services                   0.0   \n",
       "1942                Community Initiatives                   0.0   \n",
       "1943  Business Development and Innovation                  97.0   \n",
       "1944                    Internal Services                  91.0   \n",
       "1945                    Internal Services                   0.0   \n",
       "\n",
       "      2018-19  Actual FTEs  2019-20  Actual FTEs  2020-21  Actual FTEs  \\\n",
       "0                      0.0                   0.0                   0.0   \n",
       "1                      0.0                   0.0                   0.0   \n",
       "2                      0.0                   0.0                   0.0   \n",
       "3                     39.0                  32.0                  36.0   \n",
       "4                     71.0                  74.0                  71.0   \n",
       "...                    ...                   ...                   ...   \n",
       "1941                   0.0                   0.0                   0.0   \n",
       "1942                   0.0                   0.0                   0.0   \n",
       "1943                   0.0                   0.0                   0.0   \n",
       "1944                   0.0                   0.0                   0.0   \n",
       "1945                  97.0                  97.0                 102.0   \n",
       "\n",
       "      2021-22  Actual FTEs  2023-24  Planned FTEs  2024-25  Planned FTEs  \\\n",
       "0                      0.0                      0                      0   \n",
       "1                      0.0                      0                      0   \n",
       "2                      0.0                      0                      0   \n",
       "3                     43.0                     32                     32   \n",
       "4                     76.0                     77                     76   \n",
       "...                    ...                    ...                    ...   \n",
       "1941                   0.0                     37                     37   \n",
       "1942                   0.0                     38                     30   \n",
       "1943                   0.0                      0                      0   \n",
       "1944                   0.0                      0                      0   \n",
       "1945                 107.0                     98                     89   \n",
       "\n",
       "      2025-26  Planned FTEs  \n",
       "0                         0  \n",
       "1                         0  \n",
       "2                         0  \n",
       "3                        32  \n",
       "4                        76  \n",
       "...                     ...  \n",
       "1941                     37  \n",
       "1942                      3  \n",
       "1943                      0  \n",
       "1944                      0  \n",
       "1945                     86  \n",
       "\n",
       "[1946 rows x 10 columns]"
      ]
     },
     "execution_count": 3,
     "metadata": {},
     "output_type": "execute_result"
    }
   ],
   "source": [
    "fte"
   ]
  },
  {
   "cell_type": "markdown",
   "metadata": {},
   "source": [
    "Moving forward, we will be calling our datasets, *dataframes*. A dataframe is like a digital spreadsheet or table which contains rows and columns of data. Each row in a dataframe represents a different piece of information or a record, while each column represents a specific attribute or characteristic of that information.\n",
    "\n",
    "In the dataframe above, we see that the columns `Organization` and `Program` identify the government organization and the different programs they have. The columns `2017-18 Actual FTEs`-`2021-22 Actual FTEs` identify the organization's FTE's. The definition of an FTE (Full Time Equivalents), from the [government of Canada](https://open.canada.ca/data/en/dataset/e2e60f18-95fe-487b-9edd-d1f7bcdd9f9f) is:\n",
    "\n",
    "\"a measure of the extent to which an employee represents a full person-year charge against the departmental budget for future spending years.\"\n",
    "\n",
    "In simplified terms, it's like asking, \"if one person worked full-time for a year, how much of our budget would they use?\". The final columns are `2023-24 Planned FTEs`-`2025-26 Planned FTEs`, which indicate how many FTEs are planned for this particular organization's future. "
   ]
  },
  {
   "cell_type": "markdown",
   "metadata": {},
   "source": [
    "# Explore"
   ]
  },
  {
   "cell_type": "markdown",
   "metadata": {},
   "source": [
    "To begin, let's see how many different organizations are supported under the Government of Canada. "
   ]
  },
  {
   "cell_type": "code",
   "execution_count": 4,
   "metadata": {},
   "outputs": [
    {
     "name": "stdout",
     "output_type": "stream",
     "text": [
      "Administrative Tribunals Support Service of Canada\n",
      "Office of the Auditor General of Canada\n",
      "Department of Finance Canada\n",
      "Parole Board of Canada\n",
      "Federal Economic Development Agency for Southern Ontario\n",
      "Shared Services Canada\n",
      "Office of the Commissioner of Official Languages\n",
      "Prairies Economic Development Canada\n",
      "Invest in Canada Hub\n",
      "Public Safety Canada\n",
      "Military Police Complaints Commission of Canada\n",
      "Office of the Intelligence Commissioner\n",
      "Royal Canadian Mounted Police\n",
      "Natural Sciences and Engineering Research Council of Canada\n",
      "Offices of the Information and Privacy Commissioners of Canada\n",
      "Office of the Public Sector Integrity Commissioner of Canada\n",
      "Canada Science and Technology Museum\n",
      "Canadian Commercial Corporation\n",
      "Natural Resources Canada\n",
      "Statistics Canada\n",
      "Canadian Dairy Commission\n",
      "Accessibility Standards Canada\n",
      "Agriculture and Agri-Food Canada\n",
      "Financial Transactions and Reports Analysis Centre of Canada\n",
      "Courts Administration Service\n",
      "Financial Consumer Agency of Canada\n",
      "Senate Ethics Officer\n",
      "Canada Border Services Agency\n",
      "Canadian Grain Commission\n",
      "National Arts Centre Corporation\n",
      "Canada Council for the Arts\n",
      "Infrastructure Canada\n",
      "Marine Atlantic Inc.\n",
      "National Research Council Canada\n",
      "RCMP External Review Committee\n",
      "Office of the Commissioner for Federal Judicial Affairs Canada\n",
      "Copyright Board Canada\n",
      "Military Grievances External Review Committee\n",
      "Canadian Intergovernmental Conference Secretariat\n",
      "Employment and Social Development Canada\n",
      "Canadian Transportation Agency\n",
      "Canadian Museum for Human Rights\n",
      "Immigration, Refugees and Citizenship Canada\n",
      "The National Battlefields Commission\n",
      "Parks Canada\n",
      "Department of Indigenous Services\n",
      "Canadian Centre for Occupational Health and Safety\n",
      "Canadian Radio-television and Telecommunications Commission\n",
      "Global Affairs Canada\n",
      "Canadian Race Relations Foundation\n",
      "Immigration and Refugee Board of Canada\n",
      "Registrar of the Supreme Court of Canada\n",
      "Telefilm Canada\n",
      "Environment and Climate Change Canada\n",
      "Office of the Secretary to the Governor General\n",
      "Public Services and Procurement Canada\n",
      "Office of the Superintendent of Financial Institutions Canada\n",
      "National Security and Intelligence Review Agency Secretariat\n",
      "Secretariat of the National Security and Intelligence Committee of Parliamentarians\n",
      "Crown-Indigenous Relations and Northern Affairs Canada\n",
      "Veterans Review and Appeal Board\n",
      "Destination Canada\n",
      "Treasury Board of Canada Secretariat\n",
      "Office of the Chief Electoral Officer\n",
      "National Defence\n",
      "Canada Energy Regulator\n",
      "Office of the Commissioner of Lobbying of Canada\n",
      "Veterans Affairs Canada\n",
      "Communications Security Establishment Canada\n",
      "Canadian Food Inspection Agency\n",
      "Canada School of Public Service\n",
      "Impact Assessment Agency of Canada\n",
      "Canada Economic Development for Quebec Regions\n",
      "Canada Mortgage and Housing Corporation\n",
      "Federal Economic Development Agency for Northern Ontario\n",
      "Transport Canada\n",
      "Department of Justice Canada\n",
      "Canadian Institutes of Health Research\n",
      "Northern Pipeline Agency Canada\n",
      "Canadian Security Intelligence Service\n",
      "PPP Canada Inc.\n",
      "Social Sciences and Humanities Research Council of Canada\n",
      "Windsor-Detroit Bridge Authority\n",
      "Library and Archives Canada\n",
      "Parliamentary Protective Service\n",
      "The Correctional Investigator Canada\n",
      "Canadian Museum of History\n",
      "Office of the Parliamentary Budget Officer\n",
      "National Capital Commission\n",
      "Library of Parliament\n",
      "House of Commons\n",
      "Civilian Review and Complaints Commission for the RCMP\n",
      "Export Development Canada\n",
      "Public Prosecution Service of Canada\n",
      "Atomic Energy of Canada Limited\n",
      "Women and Gender Equality Canada\n",
      "National Film Board\n",
      "International Joint Commission (Canadian Section)\n",
      "Senate\n",
      "Canadian Broadcasting Corporation\n",
      "Canadian Heritage\n",
      "VIA Rail Canada Inc.\n",
      "Fisheries and Oceans Canada\n",
      "Office of the Conflict of Interest and Ethics Commissioner\n",
      "Canadian Nuclear Safety Commission\n",
      "Health Canada\n",
      "Canadian Human Rights Commission\n",
      "Privy Council Office\n",
      "National Gallery of Canada\n",
      "Canadian Museum of Immigration at Pier 21\n",
      "Transportation Safety Board of Canada\n",
      "International Development Research Centre\n",
      "Canadian Northern Economic Development Agency\n",
      "Canadian Space Agency\n",
      "Canada Revenue Agency\n",
      "Innovation, Science and Economic Development Canada\n",
      "Pacific Economic Development Agency of Canada\n",
      "Standards Council of Canada\n",
      "Polar Knowledge Canada\n",
      "Leaders’ Debates Commission\n",
      "Canada Post\n",
      "Patented Medicine Prices Review Board Canada\n",
      "Canadian Air Transport Security Authority\n",
      "Federal Bridge Corporation\n",
      "Public Service Commission of Canada\n",
      "Public Health Agency of Canada\n",
      "The Jacques-Cartier and Champlain Bridges Inc.\n",
      "Atlantic Canada Opportunities Agency\n",
      "Canadian Museum of Nature\n",
      "Correctional Service Canada\n"
     ]
    }
   ],
   "source": [
    "# Find unique organizations\n",
    "unique_organizations = set(fte['Organization'])\n",
    "\n",
    "# Print unique organization\n",
    "for org in unique_organizations:\n",
    "    print(org)"
   ]
  },
  {
   "cell_type": "markdown",
   "metadata": {},
   "source": [
    "Looking at the output above, there appears to be many different organizations supported by the government of Canada, reflecting the country's commitment to a wide array of sectors and initiatives. Using this list, let's create a visualization that can utilize these organizations. Read the commented lines in the code cell below (the lines that start with #)."
   ]
  },
  {
   "cell_type": "code",
   "execution_count": 5,
   "metadata": {},
   "outputs": [
    {
     "data": {
      "application/vnd.plotly.v1+json": {
       "config": {
        "plotlyServerURL": "https://plot.ly"
       },
       "data": [
        {
         "mode": "lines",
         "name": "Atlantic Canada Opportunities Agency",
         "type": "scatter",
         "x": [
          "2017-18  Actual FTEs",
          "2018-19  Actual FTEs",
          "2019-20  Actual FTEs",
          "2020-21  Actual FTEs",
          "2021-22  Actual FTEs",
          "2023-24  Planned FTEs",
          "2024-25  Planned FTEs",
          "2025-26  Planned FTEs"
         ],
         "xaxis": "x",
         "y": [
          571,
          572,
          575,
          584,
          595,
          584,
          577,
          577
         ],
         "yaxis": "y"
        },
        {
         "mode": "lines",
         "name": "Business Growth",
         "type": "scatter",
         "x": [
          "2017-18  Actual FTEs",
          "2018-19  Actual FTEs",
          "2019-20  Actual FTEs",
          "2020-21  Actual FTEs",
          "2021-22  Actual FTEs",
          "2023-24  Planned FTEs",
          "2024-25  Planned FTEs",
          "2025-26  Planned FTEs"
         ],
         "xaxis": "x2",
         "y": [
          0,
          92,
          93,
          99,
          97,
          97,
          93,
          93
         ],
         "yaxis": "y2"
        },
        {
         "mode": "lines",
         "name": "Community Development",
         "type": "scatter",
         "x": [
          "2017-18  Actual FTEs",
          "2018-19  Actual FTEs",
          "2019-20  Actual FTEs",
          "2020-21  Actual FTEs",
          "2021-22  Actual FTEs",
          "2023-24  Planned FTEs",
          "2024-25  Planned FTEs",
          "2025-26  Planned FTEs"
         ],
         "xaxis": "x2",
         "y": [
          94,
          0,
          0,
          0,
          0,
          0,
          0,
          0
         ],
         "yaxis": "y2"
        },
        {
         "mode": "lines",
         "name": "Diversified Communities",
         "type": "scatter",
         "x": [
          "2017-18  Actual FTEs",
          "2018-19  Actual FTEs",
          "2019-20  Actual FTEs",
          "2020-21  Actual FTEs",
          "2021-22  Actual FTEs",
          "2023-24  Planned FTEs",
          "2024-25  Planned FTEs",
          "2025-26  Planned FTEs"
         ],
         "xaxis": "x2",
         "y": [
          0,
          71,
          74,
          71,
          76,
          77,
          76,
          76
         ],
         "yaxis": "y2"
        },
        {
         "mode": "lines",
         "name": "Enterprise Development",
         "type": "scatter",
         "x": [
          "2017-18  Actual FTEs",
          "2018-19  Actual FTEs",
          "2019-20  Actual FTEs",
          "2020-21  Actual FTEs",
          "2021-22  Actual FTEs",
          "2023-24  Planned FTEs",
          "2024-25  Planned FTEs",
          "2025-26  Planned FTEs"
         ],
         "xaxis": "x2",
         "y": [
          217,
          0,
          0,
          0,
          0,
          0,
          0,
          0
         ],
         "yaxis": "y2"
        },
        {
         "mode": "lines",
         "name": "Inclusive Communities",
         "type": "scatter",
         "x": [
          "2017-18  Actual FTEs",
          "2018-19  Actual FTEs",
          "2019-20  Actual FTEs",
          "2020-21  Actual FTEs",
          "2021-22  Actual FTEs",
          "2023-24  Planned FTEs",
          "2024-25  Planned FTEs",
          "2025-26  Planned FTEs"
         ],
         "xaxis": "x2",
         "y": [
          0,
          39,
          32,
          36,
          43,
          32,
          32,
          32
         ],
         "yaxis": "y2"
        },
        {
         "mode": "lines",
         "name": "Innovation Ecosystem",
         "type": "scatter",
         "x": [
          "2017-18  Actual FTEs",
          "2018-19  Actual FTEs",
          "2019-20  Actual FTEs",
          "2020-21  Actual FTEs",
          "2021-22  Actual FTEs",
          "2023-24  Planned FTEs",
          "2024-25  Planned FTEs",
          "2025-26  Planned FTEs"
         ],
         "xaxis": "x2",
         "y": [
          0,
          15,
          14,
          14,
          16,
          15,
          14,
          14
         ],
         "yaxis": "y2"
        },
        {
         "mode": "lines",
         "name": "Internal Services",
         "type": "scatter",
         "x": [
          "2017-18  Actual FTEs",
          "2018-19  Actual FTEs",
          "2019-20  Actual FTEs",
          "2020-21  Actual FTEs",
          "2021-22  Actual FTEs",
          "2023-24  Planned FTEs",
          "2024-25  Planned FTEs",
          "2025-26  Planned FTEs"
         ],
         "xaxis": "x2",
         "y": [
          195,
          194,
          197,
          201,
          201,
          197,
          196,
          196
         ],
         "yaxis": "y2"
        },
        {
         "mode": "lines",
         "name": "Policy Research and Engagement",
         "type": "scatter",
         "x": [
          "2017-18  Actual FTEs",
          "2018-19  Actual FTEs",
          "2019-20  Actual FTEs",
          "2020-21  Actual FTEs",
          "2021-22  Actual FTEs",
          "2023-24  Planned FTEs",
          "2024-25  Planned FTEs",
          "2025-26  Planned FTEs"
         ],
         "xaxis": "x2",
         "y": [
          0,
          65,
          68,
          66,
          68,
          68,
          68,
          68
         ],
         "yaxis": "y2"
        },
        {
         "mode": "lines",
         "name": "Policy, Advocacy and Coordination",
         "type": "scatter",
         "x": [
          "2017-18  Actual FTEs",
          "2018-19  Actual FTEs",
          "2019-20  Actual FTEs",
          "2020-21  Actual FTEs",
          "2021-22  Actual FTEs",
          "2023-24  Planned FTEs",
          "2024-25  Planned FTEs",
          "2025-26  Planned FTEs"
         ],
         "xaxis": "x2",
         "y": [
          65,
          0,
          0,
          0,
          0,
          0,
          0,
          0
         ],
         "yaxis": "y2"
        },
        {
         "mode": "lines",
         "name": "Research and Development and Commercialization",
         "type": "scatter",
         "x": [
          "2017-18  Actual FTEs",
          "2018-19  Actual FTEs",
          "2019-20  Actual FTEs",
          "2020-21  Actual FTEs",
          "2021-22  Actual FTEs",
          "2023-24  Planned FTEs",
          "2024-25  Planned FTEs",
          "2025-26  Planned FTEs"
         ],
         "xaxis": "x2",
         "y": [
          0,
          56,
          57,
          58,
          55,
          57,
          57,
          57
         ],
         "yaxis": "y2"
        },
        {
         "mode": "lines",
         "name": "Trade and Investment",
         "type": "scatter",
         "x": [
          "2017-18  Actual FTEs",
          "2018-19  Actual FTEs",
          "2019-20  Actual FTEs",
          "2020-21  Actual FTEs",
          "2021-22  Actual FTEs",
          "2023-24  Planned FTEs",
          "2024-25  Planned FTEs",
          "2025-26  Planned FTEs"
         ],
         "xaxis": "x2",
         "y": [
          0,
          40,
          40,
          39,
          39,
          41,
          41,
          41
         ],
         "yaxis": "y2"
        }
       ],
       "layout": {
        "annotations": [
         {
          "font": {
           "size": 16
          },
          "showarrow": false,
          "text": "Total FTEs",
          "x": 0.225,
          "xanchor": "center",
          "xref": "paper",
          "y": 1,
          "yanchor": "bottom",
          "yref": "paper"
         },
         {
          "font": {
           "size": 16
          },
          "showarrow": false,
          "text": "Program FTEs",
          "x": 0.775,
          "xanchor": "center",
          "xref": "paper",
          "y": 1,
          "yanchor": "bottom",
          "yref": "paper"
         }
        ],
        "template": {
         "data": {
          "bar": [
           {
            "error_x": {
             "color": "#2a3f5f"
            },
            "error_y": {
             "color": "#2a3f5f"
            },
            "marker": {
             "line": {
              "color": "#E5ECF6",
              "width": 0.5
             },
             "pattern": {
              "fillmode": "overlay",
              "size": 10,
              "solidity": 0.2
             }
            },
            "type": "bar"
           }
          ],
          "barpolar": [
           {
            "marker": {
             "line": {
              "color": "#E5ECF6",
              "width": 0.5
             },
             "pattern": {
              "fillmode": "overlay",
              "size": 10,
              "solidity": 0.2
             }
            },
            "type": "barpolar"
           }
          ],
          "carpet": [
           {
            "aaxis": {
             "endlinecolor": "#2a3f5f",
             "gridcolor": "white",
             "linecolor": "white",
             "minorgridcolor": "white",
             "startlinecolor": "#2a3f5f"
            },
            "baxis": {
             "endlinecolor": "#2a3f5f",
             "gridcolor": "white",
             "linecolor": "white",
             "minorgridcolor": "white",
             "startlinecolor": "#2a3f5f"
            },
            "type": "carpet"
           }
          ],
          "choropleth": [
           {
            "colorbar": {
             "outlinewidth": 0,
             "ticks": ""
            },
            "type": "choropleth"
           }
          ],
          "contour": [
           {
            "colorbar": {
             "outlinewidth": 0,
             "ticks": ""
            },
            "colorscale": [
             [
              0,
              "#0d0887"
             ],
             [
              0.1111111111111111,
              "#46039f"
             ],
             [
              0.2222222222222222,
              "#7201a8"
             ],
             [
              0.3333333333333333,
              "#9c179e"
             ],
             [
              0.4444444444444444,
              "#bd3786"
             ],
             [
              0.5555555555555556,
              "#d8576b"
             ],
             [
              0.6666666666666666,
              "#ed7953"
             ],
             [
              0.7777777777777778,
              "#fb9f3a"
             ],
             [
              0.8888888888888888,
              "#fdca26"
             ],
             [
              1,
              "#f0f921"
             ]
            ],
            "type": "contour"
           }
          ],
          "contourcarpet": [
           {
            "colorbar": {
             "outlinewidth": 0,
             "ticks": ""
            },
            "type": "contourcarpet"
           }
          ],
          "heatmap": [
           {
            "colorbar": {
             "outlinewidth": 0,
             "ticks": ""
            },
            "colorscale": [
             [
              0,
              "#0d0887"
             ],
             [
              0.1111111111111111,
              "#46039f"
             ],
             [
              0.2222222222222222,
              "#7201a8"
             ],
             [
              0.3333333333333333,
              "#9c179e"
             ],
             [
              0.4444444444444444,
              "#bd3786"
             ],
             [
              0.5555555555555556,
              "#d8576b"
             ],
             [
              0.6666666666666666,
              "#ed7953"
             ],
             [
              0.7777777777777778,
              "#fb9f3a"
             ],
             [
              0.8888888888888888,
              "#fdca26"
             ],
             [
              1,
              "#f0f921"
             ]
            ],
            "type": "heatmap"
           }
          ],
          "heatmapgl": [
           {
            "colorbar": {
             "outlinewidth": 0,
             "ticks": ""
            },
            "colorscale": [
             [
              0,
              "#0d0887"
             ],
             [
              0.1111111111111111,
              "#46039f"
             ],
             [
              0.2222222222222222,
              "#7201a8"
             ],
             [
              0.3333333333333333,
              "#9c179e"
             ],
             [
              0.4444444444444444,
              "#bd3786"
             ],
             [
              0.5555555555555556,
              "#d8576b"
             ],
             [
              0.6666666666666666,
              "#ed7953"
             ],
             [
              0.7777777777777778,
              "#fb9f3a"
             ],
             [
              0.8888888888888888,
              "#fdca26"
             ],
             [
              1,
              "#f0f921"
             ]
            ],
            "type": "heatmapgl"
           }
          ],
          "histogram": [
           {
            "marker": {
             "pattern": {
              "fillmode": "overlay",
              "size": 10,
              "solidity": 0.2
             }
            },
            "type": "histogram"
           }
          ],
          "histogram2d": [
           {
            "colorbar": {
             "outlinewidth": 0,
             "ticks": ""
            },
            "colorscale": [
             [
              0,
              "#0d0887"
             ],
             [
              0.1111111111111111,
              "#46039f"
             ],
             [
              0.2222222222222222,
              "#7201a8"
             ],
             [
              0.3333333333333333,
              "#9c179e"
             ],
             [
              0.4444444444444444,
              "#bd3786"
             ],
             [
              0.5555555555555556,
              "#d8576b"
             ],
             [
              0.6666666666666666,
              "#ed7953"
             ],
             [
              0.7777777777777778,
              "#fb9f3a"
             ],
             [
              0.8888888888888888,
              "#fdca26"
             ],
             [
              1,
              "#f0f921"
             ]
            ],
            "type": "histogram2d"
           }
          ],
          "histogram2dcontour": [
           {
            "colorbar": {
             "outlinewidth": 0,
             "ticks": ""
            },
            "colorscale": [
             [
              0,
              "#0d0887"
             ],
             [
              0.1111111111111111,
              "#46039f"
             ],
             [
              0.2222222222222222,
              "#7201a8"
             ],
             [
              0.3333333333333333,
              "#9c179e"
             ],
             [
              0.4444444444444444,
              "#bd3786"
             ],
             [
              0.5555555555555556,
              "#d8576b"
             ],
             [
              0.6666666666666666,
              "#ed7953"
             ],
             [
              0.7777777777777778,
              "#fb9f3a"
             ],
             [
              0.8888888888888888,
              "#fdca26"
             ],
             [
              1,
              "#f0f921"
             ]
            ],
            "type": "histogram2dcontour"
           }
          ],
          "mesh3d": [
           {
            "colorbar": {
             "outlinewidth": 0,
             "ticks": ""
            },
            "type": "mesh3d"
           }
          ],
          "parcoords": [
           {
            "line": {
             "colorbar": {
              "outlinewidth": 0,
              "ticks": ""
             }
            },
            "type": "parcoords"
           }
          ],
          "pie": [
           {
            "automargin": true,
            "type": "pie"
           }
          ],
          "scatter": [
           {
            "fillpattern": {
             "fillmode": "overlay",
             "size": 10,
             "solidity": 0.2
            },
            "type": "scatter"
           }
          ],
          "scatter3d": [
           {
            "line": {
             "colorbar": {
              "outlinewidth": 0,
              "ticks": ""
             }
            },
            "marker": {
             "colorbar": {
              "outlinewidth": 0,
              "ticks": ""
             }
            },
            "type": "scatter3d"
           }
          ],
          "scattercarpet": [
           {
            "marker": {
             "colorbar": {
              "outlinewidth": 0,
              "ticks": ""
             }
            },
            "type": "scattercarpet"
           }
          ],
          "scattergeo": [
           {
            "marker": {
             "colorbar": {
              "outlinewidth": 0,
              "ticks": ""
             }
            },
            "type": "scattergeo"
           }
          ],
          "scattergl": [
           {
            "marker": {
             "colorbar": {
              "outlinewidth": 0,
              "ticks": ""
             }
            },
            "type": "scattergl"
           }
          ],
          "scattermapbox": [
           {
            "marker": {
             "colorbar": {
              "outlinewidth": 0,
              "ticks": ""
             }
            },
            "type": "scattermapbox"
           }
          ],
          "scatterpolar": [
           {
            "marker": {
             "colorbar": {
              "outlinewidth": 0,
              "ticks": ""
             }
            },
            "type": "scatterpolar"
           }
          ],
          "scatterpolargl": [
           {
            "marker": {
             "colorbar": {
              "outlinewidth": 0,
              "ticks": ""
             }
            },
            "type": "scatterpolargl"
           }
          ],
          "scatterternary": [
           {
            "marker": {
             "colorbar": {
              "outlinewidth": 0,
              "ticks": ""
             }
            },
            "type": "scatterternary"
           }
          ],
          "surface": [
           {
            "colorbar": {
             "outlinewidth": 0,
             "ticks": ""
            },
            "colorscale": [
             [
              0,
              "#0d0887"
             ],
             [
              0.1111111111111111,
              "#46039f"
             ],
             [
              0.2222222222222222,
              "#7201a8"
             ],
             [
              0.3333333333333333,
              "#9c179e"
             ],
             [
              0.4444444444444444,
              "#bd3786"
             ],
             [
              0.5555555555555556,
              "#d8576b"
             ],
             [
              0.6666666666666666,
              "#ed7953"
             ],
             [
              0.7777777777777778,
              "#fb9f3a"
             ],
             [
              0.8888888888888888,
              "#fdca26"
             ],
             [
              1,
              "#f0f921"
             ]
            ],
            "type": "surface"
           }
          ],
          "table": [
           {
            "cells": {
             "fill": {
              "color": "#EBF0F8"
             },
             "line": {
              "color": "white"
             }
            },
            "header": {
             "fill": {
              "color": "#C8D4E3"
             },
             "line": {
              "color": "white"
             }
            },
            "type": "table"
           }
          ]
         },
         "layout": {
          "annotationdefaults": {
           "arrowcolor": "#2a3f5f",
           "arrowhead": 0,
           "arrowwidth": 1
          },
          "autotypenumbers": "strict",
          "coloraxis": {
           "colorbar": {
            "outlinewidth": 0,
            "ticks": ""
           }
          },
          "colorscale": {
           "diverging": [
            [
             0,
             "#8e0152"
            ],
            [
             0.1,
             "#c51b7d"
            ],
            [
             0.2,
             "#de77ae"
            ],
            [
             0.3,
             "#f1b6da"
            ],
            [
             0.4,
             "#fde0ef"
            ],
            [
             0.5,
             "#f7f7f7"
            ],
            [
             0.6,
             "#e6f5d0"
            ],
            [
             0.7,
             "#b8e186"
            ],
            [
             0.8,
             "#7fbc41"
            ],
            [
             0.9,
             "#4d9221"
            ],
            [
             1,
             "#276419"
            ]
           ],
           "sequential": [
            [
             0,
             "#0d0887"
            ],
            [
             0.1111111111111111,
             "#46039f"
            ],
            [
             0.2222222222222222,
             "#7201a8"
            ],
            [
             0.3333333333333333,
             "#9c179e"
            ],
            [
             0.4444444444444444,
             "#bd3786"
            ],
            [
             0.5555555555555556,
             "#d8576b"
            ],
            [
             0.6666666666666666,
             "#ed7953"
            ],
            [
             0.7777777777777778,
             "#fb9f3a"
            ],
            [
             0.8888888888888888,
             "#fdca26"
            ],
            [
             1,
             "#f0f921"
            ]
           ],
           "sequentialminus": [
            [
             0,
             "#0d0887"
            ],
            [
             0.1111111111111111,
             "#46039f"
            ],
            [
             0.2222222222222222,
             "#7201a8"
            ],
            [
             0.3333333333333333,
             "#9c179e"
            ],
            [
             0.4444444444444444,
             "#bd3786"
            ],
            [
             0.5555555555555556,
             "#d8576b"
            ],
            [
             0.6666666666666666,
             "#ed7953"
            ],
            [
             0.7777777777777778,
             "#fb9f3a"
            ],
            [
             0.8888888888888888,
             "#fdca26"
            ],
            [
             1,
             "#f0f921"
            ]
           ]
          },
          "colorway": [
           "#636efa",
           "#EF553B",
           "#00cc96",
           "#ab63fa",
           "#FFA15A",
           "#19d3f3",
           "#FF6692",
           "#B6E880",
           "#FF97FF",
           "#FECB52"
          ],
          "font": {
           "color": "#2a3f5f"
          },
          "geo": {
           "bgcolor": "white",
           "lakecolor": "white",
           "landcolor": "#E5ECF6",
           "showlakes": true,
           "showland": true,
           "subunitcolor": "white"
          },
          "hoverlabel": {
           "align": "left"
          },
          "hovermode": "closest",
          "mapbox": {
           "style": "light"
          },
          "paper_bgcolor": "white",
          "plot_bgcolor": "#E5ECF6",
          "polar": {
           "angularaxis": {
            "gridcolor": "white",
            "linecolor": "white",
            "ticks": ""
           },
           "bgcolor": "#E5ECF6",
           "radialaxis": {
            "gridcolor": "white",
            "linecolor": "white",
            "ticks": ""
           }
          },
          "scene": {
           "xaxis": {
            "backgroundcolor": "#E5ECF6",
            "gridcolor": "white",
            "gridwidth": 2,
            "linecolor": "white",
            "showbackground": true,
            "ticks": "",
            "zerolinecolor": "white"
           },
           "yaxis": {
            "backgroundcolor": "#E5ECF6",
            "gridcolor": "white",
            "gridwidth": 2,
            "linecolor": "white",
            "showbackground": true,
            "ticks": "",
            "zerolinecolor": "white"
           },
           "zaxis": {
            "backgroundcolor": "#E5ECF6",
            "gridcolor": "white",
            "gridwidth": 2,
            "linecolor": "white",
            "showbackground": true,
            "ticks": "",
            "zerolinecolor": "white"
           }
          },
          "shapedefaults": {
           "line": {
            "color": "#2a3f5f"
           }
          },
          "ternary": {
           "aaxis": {
            "gridcolor": "white",
            "linecolor": "white",
            "ticks": ""
           },
           "baxis": {
            "gridcolor": "white",
            "linecolor": "white",
            "ticks": ""
           },
           "bgcolor": "#E5ECF6",
           "caxis": {
            "gridcolor": "white",
            "linecolor": "white",
            "ticks": ""
           }
          },
          "title": {
           "x": 0.05
          },
          "xaxis": {
           "automargin": true,
           "gridcolor": "white",
           "linecolor": "white",
           "ticks": "",
           "title": {
            "standoff": 15
           },
           "zerolinecolor": "white",
           "zerolinewidth": 2
          },
          "yaxis": {
           "automargin": true,
           "gridcolor": "white",
           "linecolor": "white",
           "ticks": "",
           "title": {
            "standoff": 15
           },
           "zerolinecolor": "white",
           "zerolinewidth": 2
          }
         }
        },
        "title": {
         "text": "Progression of FTEs for: Atlantic Canada Opportunities Agency"
        },
        "xaxis": {
         "anchor": "y",
         "domain": [
          0,
          0.45
         ],
         "title": {
          "text": "Year"
         }
        },
        "xaxis2": {
         "anchor": "y2",
         "domain": [
          0.55,
          1
         ],
         "title": {
          "text": "Year"
         }
        },
        "yaxis": {
         "anchor": "x",
         "domain": [
          0,
          1
         ],
         "title": {
          "text": "FTEs"
         }
        },
        "yaxis2": {
         "anchor": "x2",
         "domain": [
          0,
          1
         ],
         "title": {
          "text": "FTEs"
         }
        }
       }
      }
     },
     "metadata": {},
     "output_type": "display_data"
    }
   ],
   "source": [
    "# Change this to the organization you'd like to look at \n",
    "# Example: \"Atlantic Canada Opportunities Agency\" can be changed to \"Canadian Grain Commission\"\n",
    "organization_to_find = \"Atlantic Canada Opportunities Agency\"\n",
    "\n",
    "searched_df = fte[fte['Organization'] == organization_to_find]\n",
    "\n",
    "columns_to_melt = [col for col in searched_df.columns if col != 'Program']\n",
    "melted_df = pd.melt(searched_df, id_vars=['Organization'], value_vars=columns_to_melt, var_name='Year', value_name='Value')\n",
    "org_df = melted_df.groupby(['Year', 'Organization'])['Value'].sum().reset_index()\n",
    "\n",
    "searched_df = fte[fte['Organization'] == organization_to_find]\n",
    "df_prog = searched_df.groupby('Program').sum().reset_index()\n",
    "columns_to_melt_prog = [col for col in df_prog.columns if col != 'Program']\n",
    "program_df = pd.melt(df_prog, id_vars=['Program'], value_vars=columns_to_melt_prog, var_name='Year', value_name='Value')\n",
    "# Removes unwanted Organization column after melting\n",
    "program_df = program_df[program_df.Year != \"Organization\"]\n",
    "\n",
    "fte_fig = make_subplots(rows=1, cols=2, subplot_titles=(\"Total FTEs\", \"Program FTEs\"))\n",
    "\n",
    "for org in org_df['Organization'].unique():\n",
    "    org_data = org_df[org_df['Organization'] == org]\n",
    "    fte_fig.add_trace(go.Scatter(x=org_data['Year'], y=org_data['Value'], mode='lines',\n",
    "                             name=f'{org}'), \n",
    "                             row=1, col=1)\n",
    "\n",
    "for program in program_df['Program'].unique():\n",
    "    prog_data = program_df[program_df['Program'] == program]\n",
    "    fte_fig.add_trace(go.Scatter(x=prog_data['Year'], y=prog_data['Value'], mode='lines',\n",
    "                             name=f'{program}'), row=1, col=2,\n",
    "                             )\n",
    "   \n",
    "    \n",
    "fte_fig.update_layout(title=f'Progression of FTEs for: {organization_to_find}',\n",
    "                  xaxis_title='Year', yaxis_title='FTEs',\n",
    "                  xaxis2_title='Year', yaxis2_title='FTEs')\n",
    "\n",
    "fte_fig.show()"
   ]
  },
  {
   "cell_type": "markdown",
   "metadata": {},
   "source": [
    "After viewing the different Full-Time Equivalents (FTEs) of various Canadian organizations, have you gained a different sense of perspective? How might this newfound perspective influence your views on government support for various sectors?"
   ]
  },
  {
   "cell_type": "markdown",
   "metadata": {},
   "source": [
    "Now that we've done some exploratory analysis on FTE data, let's move onto something more tangible, such as *budgeting*."
   ]
  },
  {
   "cell_type": "code",
   "execution_count": 6,
   "metadata": {},
   "outputs": [
    {
     "data": {
      "text/html": [
       "<div>\n",
       "<style scoped>\n",
       "    .dataframe tbody tr th:only-of-type {\n",
       "        vertical-align: middle;\n",
       "    }\n",
       "\n",
       "    .dataframe tbody tr th {\n",
       "        vertical-align: top;\n",
       "    }\n",
       "\n",
       "    .dataframe thead th {\n",
       "        text-align: right;\n",
       "    }\n",
       "</style>\n",
       "<table border=\"1\" class=\"dataframe\">\n",
       "  <thead>\n",
       "    <tr style=\"text-align: right;\">\n",
       "      <th></th>\n",
       "      <th>Organization</th>\n",
       "      <th>Vote 2021-22 / Statutory - Description</th>\n",
       "      <th>2017-18 - Total budgetary authority available for use</th>\n",
       "      <th>2017-18 - Expenditures</th>\n",
       "      <th>2018-19 - Total budgetary authority available for use</th>\n",
       "      <th>2018-19 - Expenditures</th>\n",
       "      <th>2019-20 - Total budgetary authority available for use</th>\n",
       "      <th>2019-20 - Expenditures</th>\n",
       "      <th>2020-21 - Total budgetary authority available for use</th>\n",
       "      <th>2020-21 - Expenditures</th>\n",
       "      <th>2021-22 - Total budgetary authority available for use</th>\n",
       "      <th>2021-22 - Expenditures</th>\n",
       "    </tr>\n",
       "  </thead>\n",
       "  <tbody>\n",
       "    <tr>\n",
       "      <th>0</th>\n",
       "      <td>Atlantic Canada Opportunities Agency</td>\n",
       "      <td>Operating/Program - 1</td>\n",
       "      <td>69938738.0</td>\n",
       "      <td>6.700567e+07</td>\n",
       "      <td>70427706</td>\n",
       "      <td>65427353.0</td>\n",
       "      <td>71610830</td>\n",
       "      <td>68838886</td>\n",
       "      <td>74468028</td>\n",
       "      <td>69790224</td>\n",
       "      <td>76419187.0</td>\n",
       "      <td>70687244.0</td>\n",
       "    </tr>\n",
       "    <tr>\n",
       "      <th>1</th>\n",
       "      <td>Atlantic Canada Opportunities Agency</td>\n",
       "      <td>Grants &amp; Contributions - 5</td>\n",
       "      <td>283971202.0</td>\n",
       "      <td>2.839712e+08</td>\n",
       "      <td>290437502</td>\n",
       "      <td>276137362.0</td>\n",
       "      <td>274953030</td>\n",
       "      <td>274953026</td>\n",
       "      <td>452840687</td>\n",
       "      <td>441945575</td>\n",
       "      <td>373936114.0</td>\n",
       "      <td>363964211.0</td>\n",
       "    </tr>\n",
       "    <tr>\n",
       "      <th>2</th>\n",
       "      <td>Atlantic Canada Opportunities Agency</td>\n",
       "      <td>Budget Implementation Vote - 10</td>\n",
       "      <td>0.0</td>\n",
       "      <td>0.000000e+00</td>\n",
       "      <td>0</td>\n",
       "      <td>0.0</td>\n",
       "      <td>26772</td>\n",
       "      <td>0</td>\n",
       "      <td>0</td>\n",
       "      <td>0</td>\n",
       "      <td>0.0</td>\n",
       "      <td>0.0</td>\n",
       "    </tr>\n",
       "    <tr>\n",
       "      <th>3</th>\n",
       "      <td>Atlantic Canada Opportunities Agency</td>\n",
       "      <td>Budget Implementation Vote - 15</td>\n",
       "      <td>0.0</td>\n",
       "      <td>0.000000e+00</td>\n",
       "      <td>0</td>\n",
       "      <td>0.0</td>\n",
       "      <td>0</td>\n",
       "      <td>0</td>\n",
       "      <td>0</td>\n",
       "      <td>0</td>\n",
       "      <td>0.0</td>\n",
       "      <td>0.0</td>\n",
       "    </tr>\n",
       "    <tr>\n",
       "      <th>4</th>\n",
       "      <td>Atlantic Canada Opportunities Agency</td>\n",
       "      <td>Contributions to employee benefit plans</td>\n",
       "      <td>8008731.0</td>\n",
       "      <td>8.008731e+06</td>\n",
       "      <td>8032837</td>\n",
       "      <td>8032837.0</td>\n",
       "      <td>7867729</td>\n",
       "      <td>7867729</td>\n",
       "      <td>9056403</td>\n",
       "      <td>9056403</td>\n",
       "      <td>8838758.0</td>\n",
       "      <td>8838758.0</td>\n",
       "    </tr>\n",
       "    <tr>\n",
       "      <th>...</th>\n",
       "      <td>...</td>\n",
       "      <td>...</td>\n",
       "      <td>...</td>\n",
       "      <td>...</td>\n",
       "      <td>...</td>\n",
       "      <td>...</td>\n",
       "      <td>...</td>\n",
       "      <td>...</td>\n",
       "      <td>...</td>\n",
       "      <td>...</td>\n",
       "      <td>...</td>\n",
       "      <td>...</td>\n",
       "    </tr>\n",
       "    <tr>\n",
       "      <th>901</th>\n",
       "      <td>Prairies Economic Development Canada</td>\n",
       "      <td>Contributions to employee benefit plans</td>\n",
       "      <td>3739442.0</td>\n",
       "      <td>3.739442e+06</td>\n",
       "      <td>3798669</td>\n",
       "      <td>3798669.0</td>\n",
       "      <td>4413622</td>\n",
       "      <td>4413622</td>\n",
       "      <td>5381397</td>\n",
       "      <td>5381397</td>\n",
       "      <td>5087300.0</td>\n",
       "      <td>5087300.0</td>\n",
       "    </tr>\n",
       "    <tr>\n",
       "      <th>902</th>\n",
       "      <td>Prairies Economic Development Canada</td>\n",
       "      <td>Payments for the Community Futures Network pur...</td>\n",
       "      <td>0.0</td>\n",
       "      <td>0.000000e+00</td>\n",
       "      <td>0</td>\n",
       "      <td>0.0</td>\n",
       "      <td>0</td>\n",
       "      <td>0</td>\n",
       "      <td>0</td>\n",
       "      <td>0</td>\n",
       "      <td>0.0</td>\n",
       "      <td>0.0</td>\n",
       "    </tr>\n",
       "    <tr>\n",
       "      <th>903</th>\n",
       "      <td>Prairies Economic Development Canada</td>\n",
       "      <td>Payments pursuant to the Public Health Events ...</td>\n",
       "      <td>0.0</td>\n",
       "      <td>0.000000e+00</td>\n",
       "      <td>0</td>\n",
       "      <td>0.0</td>\n",
       "      <td>0</td>\n",
       "      <td>0</td>\n",
       "      <td>472394942</td>\n",
       "      <td>472394942</td>\n",
       "      <td>0.0</td>\n",
       "      <td>0.0</td>\n",
       "    </tr>\n",
       "    <tr>\n",
       "      <th>904</th>\n",
       "      <td>Prairies Economic Development Canada</td>\n",
       "      <td>Payments to provide financing support to small...</td>\n",
       "      <td>0.0</td>\n",
       "      <td>0.000000e+00</td>\n",
       "      <td>0</td>\n",
       "      <td>0.0</td>\n",
       "      <td>0</td>\n",
       "      <td>0</td>\n",
       "      <td>0</td>\n",
       "      <td>0</td>\n",
       "      <td>0.0</td>\n",
       "      <td>0.0</td>\n",
       "    </tr>\n",
       "    <tr>\n",
       "      <th>905</th>\n",
       "      <td>Prairies Economic Development Canada</td>\n",
       "      <td>Spending of proceeds from the disposal of surp...</td>\n",
       "      <td>15948.0</td>\n",
       "      <td>1.594833e+04</td>\n",
       "      <td>11976</td>\n",
       "      <td>11976.0</td>\n",
       "      <td>446</td>\n",
       "      <td>439</td>\n",
       "      <td>7</td>\n",
       "      <td>0</td>\n",
       "      <td>1110.0</td>\n",
       "      <td>1110.0</td>\n",
       "    </tr>\n",
       "  </tbody>\n",
       "</table>\n",
       "<p>906 rows × 12 columns</p>\n",
       "</div>"
      ],
      "text/plain": [
       "                             Organization  \\\n",
       "0    Atlantic Canada Opportunities Agency   \n",
       "1    Atlantic Canada Opportunities Agency   \n",
       "2    Atlantic Canada Opportunities Agency   \n",
       "3    Atlantic Canada Opportunities Agency   \n",
       "4    Atlantic Canada Opportunities Agency   \n",
       "..                                    ...   \n",
       "901  Prairies Economic Development Canada   \n",
       "902  Prairies Economic Development Canada   \n",
       "903  Prairies Economic Development Canada   \n",
       "904  Prairies Economic Development Canada   \n",
       "905  Prairies Economic Development Canada   \n",
       "\n",
       "                Vote 2021-22 / Statutory - Description  \\\n",
       "0                                Operating/Program - 1   \n",
       "1                           Grants & Contributions - 5   \n",
       "2                      Budget Implementation Vote - 10   \n",
       "3                      Budget Implementation Vote - 15   \n",
       "4              Contributions to employee benefit plans   \n",
       "..                                                 ...   \n",
       "901            Contributions to employee benefit plans   \n",
       "902  Payments for the Community Futures Network pur...   \n",
       "903  Payments pursuant to the Public Health Events ...   \n",
       "904  Payments to provide financing support to small...   \n",
       "905  Spending of proceeds from the disposal of surp...   \n",
       "\n",
       "     2017-18 - Total budgetary authority available for use  \\\n",
       "0                                           69938738.0       \n",
       "1                                          283971202.0       \n",
       "2                                                  0.0       \n",
       "3                                                  0.0       \n",
       "4                                            8008731.0       \n",
       "..                                                 ...       \n",
       "901                                          3739442.0       \n",
       "902                                                0.0       \n",
       "903                                                0.0       \n",
       "904                                                0.0       \n",
       "905                                            15948.0       \n",
       "\n",
       "     2017-18 - Expenditures  \\\n",
       "0              6.700567e+07   \n",
       "1              2.839712e+08   \n",
       "2              0.000000e+00   \n",
       "3              0.000000e+00   \n",
       "4              8.008731e+06   \n",
       "..                      ...   \n",
       "901            3.739442e+06   \n",
       "902            0.000000e+00   \n",
       "903            0.000000e+00   \n",
       "904            0.000000e+00   \n",
       "905            1.594833e+04   \n",
       "\n",
       "     2018-19 - Total budgetary authority available for use  \\\n",
       "0                                             70427706       \n",
       "1                                            290437502       \n",
       "2                                                    0       \n",
       "3                                                    0       \n",
       "4                                              8032837       \n",
       "..                                                 ...       \n",
       "901                                            3798669       \n",
       "902                                                  0       \n",
       "903                                                  0       \n",
       "904                                                  0       \n",
       "905                                              11976       \n",
       "\n",
       "     2018-19 - Expenditures  \\\n",
       "0                65427353.0   \n",
       "1               276137362.0   \n",
       "2                       0.0   \n",
       "3                       0.0   \n",
       "4                 8032837.0   \n",
       "..                      ...   \n",
       "901               3798669.0   \n",
       "902                     0.0   \n",
       "903                     0.0   \n",
       "904                     0.0   \n",
       "905                 11976.0   \n",
       "\n",
       "     2019-20 - Total budgetary authority available for use  \\\n",
       "0                                             71610830       \n",
       "1                                            274953030       \n",
       "2                                                26772       \n",
       "3                                                    0       \n",
       "4                                              7867729       \n",
       "..                                                 ...       \n",
       "901                                            4413622       \n",
       "902                                                  0       \n",
       "903                                                  0       \n",
       "904                                                  0       \n",
       "905                                                446       \n",
       "\n",
       "     2019-20 - Expenditures  \\\n",
       "0                  68838886   \n",
       "1                 274953026   \n",
       "2                         0   \n",
       "3                         0   \n",
       "4                   7867729   \n",
       "..                      ...   \n",
       "901                 4413622   \n",
       "902                       0   \n",
       "903                       0   \n",
       "904                       0   \n",
       "905                     439   \n",
       "\n",
       "     2020-21 - Total budgetary authority available for use  \\\n",
       "0                                             74468028       \n",
       "1                                            452840687       \n",
       "2                                                    0       \n",
       "3                                                    0       \n",
       "4                                              9056403       \n",
       "..                                                 ...       \n",
       "901                                            5381397       \n",
       "902                                                  0       \n",
       "903                                          472394942       \n",
       "904                                                  0       \n",
       "905                                                  7       \n",
       "\n",
       "     2020-21 - Expenditures  \\\n",
       "0                  69790224   \n",
       "1                 441945575   \n",
       "2                         0   \n",
       "3                         0   \n",
       "4                   9056403   \n",
       "..                      ...   \n",
       "901                 5381397   \n",
       "902                       0   \n",
       "903               472394942   \n",
       "904                       0   \n",
       "905                       0   \n",
       "\n",
       "     2021-22 - Total budgetary authority available for use  \\\n",
       "0                                           76419187.0       \n",
       "1                                          373936114.0       \n",
       "2                                                  0.0       \n",
       "3                                                  0.0       \n",
       "4                                            8838758.0       \n",
       "..                                                 ...       \n",
       "901                                          5087300.0       \n",
       "902                                                0.0       \n",
       "903                                                0.0       \n",
       "904                                                0.0       \n",
       "905                                             1110.0       \n",
       "\n",
       "     2021-22 - Expenditures  \n",
       "0                70687244.0  \n",
       "1               363964211.0  \n",
       "2                       0.0  \n",
       "3                       0.0  \n",
       "4                 8838758.0  \n",
       "..                      ...  \n",
       "901               5087300.0  \n",
       "902                     0.0  \n",
       "903                     0.0  \n",
       "904                     0.0  \n",
       "905                  1110.0  \n",
       "\n",
       "[906 rows x 12 columns]"
      ]
     },
     "execution_count": 6,
     "metadata": {},
     "output_type": "execute_result"
    }
   ],
   "source": [
    "expenditures"
   ]
  },
  {
   "attachments": {},
   "cell_type": "markdown",
   "metadata": {},
   "source": [
    "# Organize\n",
    "\n",
    "We can also look at the distribution percentage of government expenses on particular categories in the dataframe `overall_expenses`."
   ]
  },
  {
   "cell_type": "code",
   "execution_count": 10,
   "metadata": {},
   "outputs": [
    {
     "data": {
      "text/html": [
       "<div>\n",
       "<style scoped>\n",
       "    .dataframe tbody tr th:only-of-type {\n",
       "        vertical-align: middle;\n",
       "    }\n",
       "\n",
       "    .dataframe tbody tr th {\n",
       "        vertical-align: top;\n",
       "    }\n",
       "\n",
       "    .dataframe thead th {\n",
       "        text-align: right;\n",
       "    }\n",
       "</style>\n",
       "<table border=\"1\" class=\"dataframe\">\n",
       "  <thead>\n",
       "    <tr style=\"text-align: right;\">\n",
       "      <th></th>\n",
       "      <th>Year</th>\n",
       "      <th>Social protection</th>\n",
       "      <th>Health</th>\n",
       "      <th>Education</th>\n",
       "      <th>General public services</th>\n",
       "      <th>Economic affairs</th>\n",
       "      <th>Other functions</th>\n",
       "    </tr>\n",
       "  </thead>\n",
       "  <tbody>\n",
       "    <tr>\n",
       "      <th>0</th>\n",
       "      <td>2008</td>\n",
       "      <td>23</td>\n",
       "      <td>23</td>\n",
       "      <td>13</td>\n",
       "      <td>18</td>\n",
       "      <td>9</td>\n",
       "      <td>14</td>\n",
       "    </tr>\n",
       "    <tr>\n",
       "      <th>1</th>\n",
       "      <td>2009</td>\n",
       "      <td>24</td>\n",
       "      <td>23</td>\n",
       "      <td>13</td>\n",
       "      <td>17</td>\n",
       "      <td>9</td>\n",
       "      <td>14</td>\n",
       "    </tr>\n",
       "    <tr>\n",
       "      <th>2</th>\n",
       "      <td>2010</td>\n",
       "      <td>23</td>\n",
       "      <td>23</td>\n",
       "      <td>14</td>\n",
       "      <td>18</td>\n",
       "      <td>9</td>\n",
       "      <td>13</td>\n",
       "    </tr>\n",
       "    <tr>\n",
       "      <th>3</th>\n",
       "      <td>2011</td>\n",
       "      <td>23</td>\n",
       "      <td>24</td>\n",
       "      <td>14</td>\n",
       "      <td>17</td>\n",
       "      <td>8</td>\n",
       "      <td>14</td>\n",
       "    </tr>\n",
       "    <tr>\n",
       "      <th>4</th>\n",
       "      <td>2012</td>\n",
       "      <td>23</td>\n",
       "      <td>24</td>\n",
       "      <td>14</td>\n",
       "      <td>16</td>\n",
       "      <td>9</td>\n",
       "      <td>14</td>\n",
       "    </tr>\n",
       "    <tr>\n",
       "      <th>5</th>\n",
       "      <td>2013</td>\n",
       "      <td>23</td>\n",
       "      <td>25</td>\n",
       "      <td>14</td>\n",
       "      <td>16</td>\n",
       "      <td>8</td>\n",
       "      <td>14</td>\n",
       "    </tr>\n",
       "    <tr>\n",
       "      <th>6</th>\n",
       "      <td>2014</td>\n",
       "      <td>23</td>\n",
       "      <td>25</td>\n",
       "      <td>14</td>\n",
       "      <td>16</td>\n",
       "      <td>8</td>\n",
       "      <td>14</td>\n",
       "    </tr>\n",
       "    <tr>\n",
       "      <th>7</th>\n",
       "      <td>2015</td>\n",
       "      <td>24</td>\n",
       "      <td>25</td>\n",
       "      <td>14</td>\n",
       "      <td>16</td>\n",
       "      <td>8</td>\n",
       "      <td>13</td>\n",
       "    </tr>\n",
       "    <tr>\n",
       "      <th>8</th>\n",
       "      <td>2016</td>\n",
       "      <td>24</td>\n",
       "      <td>25</td>\n",
       "      <td>14</td>\n",
       "      <td>16</td>\n",
       "      <td>8</td>\n",
       "      <td>13</td>\n",
       "    </tr>\n",
       "    <tr>\n",
       "      <th>9</th>\n",
       "      <td>2017</td>\n",
       "      <td>24</td>\n",
       "      <td>24</td>\n",
       "      <td>14</td>\n",
       "      <td>16</td>\n",
       "      <td>8</td>\n",
       "      <td>14</td>\n",
       "    </tr>\n",
       "    <tr>\n",
       "      <th>10</th>\n",
       "      <td>2018</td>\n",
       "      <td>24</td>\n",
       "      <td>24</td>\n",
       "      <td>14</td>\n",
       "      <td>16</td>\n",
       "      <td>9</td>\n",
       "      <td>13</td>\n",
       "    </tr>\n",
       "    <tr>\n",
       "      <th>11</th>\n",
       "      <td>2019</td>\n",
       "      <td>24</td>\n",
       "      <td>24</td>\n",
       "      <td>14</td>\n",
       "      <td>16</td>\n",
       "      <td>9</td>\n",
       "      <td>13</td>\n",
       "    </tr>\n",
       "    <tr>\n",
       "      <th>12</th>\n",
       "      <td>2020</td>\n",
       "      <td>31</td>\n",
       "      <td>20</td>\n",
       "      <td>11</td>\n",
       "      <td>13</td>\n",
       "      <td>15</td>\n",
       "      <td>10</td>\n",
       "    </tr>\n",
       "    <tr>\n",
       "      <th>13</th>\n",
       "      <td>2021</td>\n",
       "      <td>27</td>\n",
       "      <td>24</td>\n",
       "      <td>12</td>\n",
       "      <td>15</td>\n",
       "      <td>11</td>\n",
       "      <td>11</td>\n",
       "    </tr>\n",
       "  </tbody>\n",
       "</table>\n",
       "</div>"
      ],
      "text/plain": [
       "    Year  Social protection  Health  Education  General public services  \\\n",
       "0   2008                 23      23         13                       18   \n",
       "1   2009                 24      23         13                       17   \n",
       "2   2010                 23      23         14                       18   \n",
       "3   2011                 23      24         14                       17   \n",
       "4   2012                 23      24         14                       16   \n",
       "5   2013                 23      25         14                       16   \n",
       "6   2014                 23      25         14                       16   \n",
       "7   2015                 24      25         14                       16   \n",
       "8   2016                 24      25         14                       16   \n",
       "9   2017                 24      24         14                       16   \n",
       "10  2018                 24      24         14                       16   \n",
       "11  2019                 24      24         14                       16   \n",
       "12  2020                 31      20         11                       13   \n",
       "13  2021                 27      24         12                       15   \n",
       "\n",
       "    Economic affairs  Other functions  \n",
       "0                  9               14  \n",
       "1                  9               14  \n",
       "2                  9               13  \n",
       "3                  8               14  \n",
       "4                  9               14  \n",
       "5                  8               14  \n",
       "6                  8               14  \n",
       "7                  8               13  \n",
       "8                  8               13  \n",
       "9                  8               14  \n",
       "10                 9               13  \n",
       "11                 9               13  \n",
       "12                15               10  \n",
       "13                11               11  "
      ]
     },
     "execution_count": 10,
     "metadata": {},
     "output_type": "execute_result"
    }
   ],
   "source": [
    "overall_expenses"
   ]
  },
  {
   "cell_type": "markdown",
   "metadata": {},
   "source": [
    "We can first create a visualization representing the general progression of government expenses."
   ]
  },
  {
   "cell_type": "code",
   "execution_count": 11,
   "metadata": {},
   "outputs": [
    {
     "data": {
      "application/vnd.plotly.v1+json": {
       "config": {
        "plotlyServerURL": "https://plot.ly"
       },
       "data": [
        {
         "alignmentgroup": "True",
         "hovertemplate": "Category=Social protection<br>Year=%{x}<br>Percentage of Budget=%{y}<extra></extra>",
         "legendgroup": "Social protection",
         "marker": {
          "color": "#636efa",
          "pattern": {
           "shape": ""
          }
         },
         "name": "Social protection",
         "offsetgroup": "Social protection",
         "orientation": "v",
         "showlegend": true,
         "textposition": "auto",
         "type": "bar",
         "x": [
          2008,
          2009,
          2010,
          2011,
          2012,
          2013,
          2014,
          2015,
          2016,
          2017,
          2018,
          2019,
          2020,
          2021
         ],
         "xaxis": "x",
         "y": [
          23,
          24,
          23,
          23,
          23,
          23,
          23,
          24,
          24,
          24,
          24,
          24,
          31,
          27
         ],
         "yaxis": "y"
        },
        {
         "alignmentgroup": "True",
         "hovertemplate": "Category=Health<br>Year=%{x}<br>Percentage of Budget=%{y}<extra></extra>",
         "legendgroup": "Health",
         "marker": {
          "color": "#EF553B",
          "pattern": {
           "shape": ""
          }
         },
         "name": "Health",
         "offsetgroup": "Health",
         "orientation": "v",
         "showlegend": true,
         "textposition": "auto",
         "type": "bar",
         "x": [
          2008,
          2009,
          2010,
          2011,
          2012,
          2013,
          2014,
          2015,
          2016,
          2017,
          2018,
          2019,
          2020,
          2021
         ],
         "xaxis": "x",
         "y": [
          23,
          23,
          23,
          24,
          24,
          25,
          25,
          25,
          25,
          24,
          24,
          24,
          20,
          24
         ],
         "yaxis": "y"
        },
        {
         "alignmentgroup": "True",
         "hovertemplate": "Category=Education<br>Year=%{x}<br>Percentage of Budget=%{y}<extra></extra>",
         "legendgroup": "Education",
         "marker": {
          "color": "#00cc96",
          "pattern": {
           "shape": ""
          }
         },
         "name": "Education",
         "offsetgroup": "Education",
         "orientation": "v",
         "showlegend": true,
         "textposition": "auto",
         "type": "bar",
         "x": [
          2008,
          2009,
          2010,
          2011,
          2012,
          2013,
          2014,
          2015,
          2016,
          2017,
          2018,
          2019,
          2020,
          2021
         ],
         "xaxis": "x",
         "y": [
          13,
          13,
          14,
          14,
          14,
          14,
          14,
          14,
          14,
          14,
          14,
          14,
          11,
          12
         ],
         "yaxis": "y"
        },
        {
         "alignmentgroup": "True",
         "hovertemplate": "Category=General public services<br>Year=%{x}<br>Percentage of Budget=%{y}<extra></extra>",
         "legendgroup": "General public services",
         "marker": {
          "color": "#ab63fa",
          "pattern": {
           "shape": ""
          }
         },
         "name": "General public services",
         "offsetgroup": "General public services",
         "orientation": "v",
         "showlegend": true,
         "textposition": "auto",
         "type": "bar",
         "x": [
          2008,
          2009,
          2010,
          2011,
          2012,
          2013,
          2014,
          2015,
          2016,
          2017,
          2018,
          2019,
          2020,
          2021
         ],
         "xaxis": "x",
         "y": [
          18,
          17,
          18,
          17,
          16,
          16,
          16,
          16,
          16,
          16,
          16,
          16,
          13,
          15
         ],
         "yaxis": "y"
        },
        {
         "alignmentgroup": "True",
         "hovertemplate": "Category=Economic affairs<br>Year=%{x}<br>Percentage of Budget=%{y}<extra></extra>",
         "legendgroup": "Economic affairs",
         "marker": {
          "color": "#FFA15A",
          "pattern": {
           "shape": ""
          }
         },
         "name": "Economic affairs",
         "offsetgroup": "Economic affairs",
         "orientation": "v",
         "showlegend": true,
         "textposition": "auto",
         "type": "bar",
         "x": [
          2008,
          2009,
          2010,
          2011,
          2012,
          2013,
          2014,
          2015,
          2016,
          2017,
          2018,
          2019,
          2020,
          2021
         ],
         "xaxis": "x",
         "y": [
          9,
          9,
          9,
          8,
          9,
          8,
          8,
          8,
          8,
          8,
          9,
          9,
          15,
          11
         ],
         "yaxis": "y"
        },
        {
         "alignmentgroup": "True",
         "hovertemplate": "Category=Other functions<br>Year=%{x}<br>Percentage of Budget=%{y}<extra></extra>",
         "legendgroup": "Other functions",
         "marker": {
          "color": "#19d3f3",
          "pattern": {
           "shape": ""
          }
         },
         "name": "Other functions",
         "offsetgroup": "Other functions",
         "orientation": "v",
         "showlegend": true,
         "textposition": "auto",
         "type": "bar",
         "x": [
          2008,
          2009,
          2010,
          2011,
          2012,
          2013,
          2014,
          2015,
          2016,
          2017,
          2018,
          2019,
          2020,
          2021
         ],
         "xaxis": "x",
         "y": [
          14,
          14,
          13,
          14,
          14,
          14,
          14,
          13,
          13,
          14,
          13,
          13,
          10,
          11
         ],
         "yaxis": "y"
        }
       ],
       "layout": {
        "barmode": "stack",
        "legend": {
         "title": {
          "text": "Category"
         },
         "tracegroupgap": 0
        },
        "template": {
         "data": {
          "bar": [
           {
            "error_x": {
             "color": "#2a3f5f"
            },
            "error_y": {
             "color": "#2a3f5f"
            },
            "marker": {
             "line": {
              "color": "#E5ECF6",
              "width": 0.5
             },
             "pattern": {
              "fillmode": "overlay",
              "size": 10,
              "solidity": 0.2
             }
            },
            "type": "bar"
           }
          ],
          "barpolar": [
           {
            "marker": {
             "line": {
              "color": "#E5ECF6",
              "width": 0.5
             },
             "pattern": {
              "fillmode": "overlay",
              "size": 10,
              "solidity": 0.2
             }
            },
            "type": "barpolar"
           }
          ],
          "carpet": [
           {
            "aaxis": {
             "endlinecolor": "#2a3f5f",
             "gridcolor": "white",
             "linecolor": "white",
             "minorgridcolor": "white",
             "startlinecolor": "#2a3f5f"
            },
            "baxis": {
             "endlinecolor": "#2a3f5f",
             "gridcolor": "white",
             "linecolor": "white",
             "minorgridcolor": "white",
             "startlinecolor": "#2a3f5f"
            },
            "type": "carpet"
           }
          ],
          "choropleth": [
           {
            "colorbar": {
             "outlinewidth": 0,
             "ticks": ""
            },
            "type": "choropleth"
           }
          ],
          "contour": [
           {
            "colorbar": {
             "outlinewidth": 0,
             "ticks": ""
            },
            "colorscale": [
             [
              0,
              "#0d0887"
             ],
             [
              0.1111111111111111,
              "#46039f"
             ],
             [
              0.2222222222222222,
              "#7201a8"
             ],
             [
              0.3333333333333333,
              "#9c179e"
             ],
             [
              0.4444444444444444,
              "#bd3786"
             ],
             [
              0.5555555555555556,
              "#d8576b"
             ],
             [
              0.6666666666666666,
              "#ed7953"
             ],
             [
              0.7777777777777778,
              "#fb9f3a"
             ],
             [
              0.8888888888888888,
              "#fdca26"
             ],
             [
              1,
              "#f0f921"
             ]
            ],
            "type": "contour"
           }
          ],
          "contourcarpet": [
           {
            "colorbar": {
             "outlinewidth": 0,
             "ticks": ""
            },
            "type": "contourcarpet"
           }
          ],
          "heatmap": [
           {
            "colorbar": {
             "outlinewidth": 0,
             "ticks": ""
            },
            "colorscale": [
             [
              0,
              "#0d0887"
             ],
             [
              0.1111111111111111,
              "#46039f"
             ],
             [
              0.2222222222222222,
              "#7201a8"
             ],
             [
              0.3333333333333333,
              "#9c179e"
             ],
             [
              0.4444444444444444,
              "#bd3786"
             ],
             [
              0.5555555555555556,
              "#d8576b"
             ],
             [
              0.6666666666666666,
              "#ed7953"
             ],
             [
              0.7777777777777778,
              "#fb9f3a"
             ],
             [
              0.8888888888888888,
              "#fdca26"
             ],
             [
              1,
              "#f0f921"
             ]
            ],
            "type": "heatmap"
           }
          ],
          "heatmapgl": [
           {
            "colorbar": {
             "outlinewidth": 0,
             "ticks": ""
            },
            "colorscale": [
             [
              0,
              "#0d0887"
             ],
             [
              0.1111111111111111,
              "#46039f"
             ],
             [
              0.2222222222222222,
              "#7201a8"
             ],
             [
              0.3333333333333333,
              "#9c179e"
             ],
             [
              0.4444444444444444,
              "#bd3786"
             ],
             [
              0.5555555555555556,
              "#d8576b"
             ],
             [
              0.6666666666666666,
              "#ed7953"
             ],
             [
              0.7777777777777778,
              "#fb9f3a"
             ],
             [
              0.8888888888888888,
              "#fdca26"
             ],
             [
              1,
              "#f0f921"
             ]
            ],
            "type": "heatmapgl"
           }
          ],
          "histogram": [
           {
            "marker": {
             "pattern": {
              "fillmode": "overlay",
              "size": 10,
              "solidity": 0.2
             }
            },
            "type": "histogram"
           }
          ],
          "histogram2d": [
           {
            "colorbar": {
             "outlinewidth": 0,
             "ticks": ""
            },
            "colorscale": [
             [
              0,
              "#0d0887"
             ],
             [
              0.1111111111111111,
              "#46039f"
             ],
             [
              0.2222222222222222,
              "#7201a8"
             ],
             [
              0.3333333333333333,
              "#9c179e"
             ],
             [
              0.4444444444444444,
              "#bd3786"
             ],
             [
              0.5555555555555556,
              "#d8576b"
             ],
             [
              0.6666666666666666,
              "#ed7953"
             ],
             [
              0.7777777777777778,
              "#fb9f3a"
             ],
             [
              0.8888888888888888,
              "#fdca26"
             ],
             [
              1,
              "#f0f921"
             ]
            ],
            "type": "histogram2d"
           }
          ],
          "histogram2dcontour": [
           {
            "colorbar": {
             "outlinewidth": 0,
             "ticks": ""
            },
            "colorscale": [
             [
              0,
              "#0d0887"
             ],
             [
              0.1111111111111111,
              "#46039f"
             ],
             [
              0.2222222222222222,
              "#7201a8"
             ],
             [
              0.3333333333333333,
              "#9c179e"
             ],
             [
              0.4444444444444444,
              "#bd3786"
             ],
             [
              0.5555555555555556,
              "#d8576b"
             ],
             [
              0.6666666666666666,
              "#ed7953"
             ],
             [
              0.7777777777777778,
              "#fb9f3a"
             ],
             [
              0.8888888888888888,
              "#fdca26"
             ],
             [
              1,
              "#f0f921"
             ]
            ],
            "type": "histogram2dcontour"
           }
          ],
          "mesh3d": [
           {
            "colorbar": {
             "outlinewidth": 0,
             "ticks": ""
            },
            "type": "mesh3d"
           }
          ],
          "parcoords": [
           {
            "line": {
             "colorbar": {
              "outlinewidth": 0,
              "ticks": ""
             }
            },
            "type": "parcoords"
           }
          ],
          "pie": [
           {
            "automargin": true,
            "type": "pie"
           }
          ],
          "scatter": [
           {
            "fillpattern": {
             "fillmode": "overlay",
             "size": 10,
             "solidity": 0.2
            },
            "type": "scatter"
           }
          ],
          "scatter3d": [
           {
            "line": {
             "colorbar": {
              "outlinewidth": 0,
              "ticks": ""
             }
            },
            "marker": {
             "colorbar": {
              "outlinewidth": 0,
              "ticks": ""
             }
            },
            "type": "scatter3d"
           }
          ],
          "scattercarpet": [
           {
            "marker": {
             "colorbar": {
              "outlinewidth": 0,
              "ticks": ""
             }
            },
            "type": "scattercarpet"
           }
          ],
          "scattergeo": [
           {
            "marker": {
             "colorbar": {
              "outlinewidth": 0,
              "ticks": ""
             }
            },
            "type": "scattergeo"
           }
          ],
          "scattergl": [
           {
            "marker": {
             "colorbar": {
              "outlinewidth": 0,
              "ticks": ""
             }
            },
            "type": "scattergl"
           }
          ],
          "scattermapbox": [
           {
            "marker": {
             "colorbar": {
              "outlinewidth": 0,
              "ticks": ""
             }
            },
            "type": "scattermapbox"
           }
          ],
          "scatterpolar": [
           {
            "marker": {
             "colorbar": {
              "outlinewidth": 0,
              "ticks": ""
             }
            },
            "type": "scatterpolar"
           }
          ],
          "scatterpolargl": [
           {
            "marker": {
             "colorbar": {
              "outlinewidth": 0,
              "ticks": ""
             }
            },
            "type": "scatterpolargl"
           }
          ],
          "scatterternary": [
           {
            "marker": {
             "colorbar": {
              "outlinewidth": 0,
              "ticks": ""
             }
            },
            "type": "scatterternary"
           }
          ],
          "surface": [
           {
            "colorbar": {
             "outlinewidth": 0,
             "ticks": ""
            },
            "colorscale": [
             [
              0,
              "#0d0887"
             ],
             [
              0.1111111111111111,
              "#46039f"
             ],
             [
              0.2222222222222222,
              "#7201a8"
             ],
             [
              0.3333333333333333,
              "#9c179e"
             ],
             [
              0.4444444444444444,
              "#bd3786"
             ],
             [
              0.5555555555555556,
              "#d8576b"
             ],
             [
              0.6666666666666666,
              "#ed7953"
             ],
             [
              0.7777777777777778,
              "#fb9f3a"
             ],
             [
              0.8888888888888888,
              "#fdca26"
             ],
             [
              1,
              "#f0f921"
             ]
            ],
            "type": "surface"
           }
          ],
          "table": [
           {
            "cells": {
             "fill": {
              "color": "#EBF0F8"
             },
             "line": {
              "color": "white"
             }
            },
            "header": {
             "fill": {
              "color": "#C8D4E3"
             },
             "line": {
              "color": "white"
             }
            },
            "type": "table"
           }
          ]
         },
         "layout": {
          "annotationdefaults": {
           "arrowcolor": "#2a3f5f",
           "arrowhead": 0,
           "arrowwidth": 1
          },
          "autotypenumbers": "strict",
          "coloraxis": {
           "colorbar": {
            "outlinewidth": 0,
            "ticks": ""
           }
          },
          "colorscale": {
           "diverging": [
            [
             0,
             "#8e0152"
            ],
            [
             0.1,
             "#c51b7d"
            ],
            [
             0.2,
             "#de77ae"
            ],
            [
             0.3,
             "#f1b6da"
            ],
            [
             0.4,
             "#fde0ef"
            ],
            [
             0.5,
             "#f7f7f7"
            ],
            [
             0.6,
             "#e6f5d0"
            ],
            [
             0.7,
             "#b8e186"
            ],
            [
             0.8,
             "#7fbc41"
            ],
            [
             0.9,
             "#4d9221"
            ],
            [
             1,
             "#276419"
            ]
           ],
           "sequential": [
            [
             0,
             "#0d0887"
            ],
            [
             0.1111111111111111,
             "#46039f"
            ],
            [
             0.2222222222222222,
             "#7201a8"
            ],
            [
             0.3333333333333333,
             "#9c179e"
            ],
            [
             0.4444444444444444,
             "#bd3786"
            ],
            [
             0.5555555555555556,
             "#d8576b"
            ],
            [
             0.6666666666666666,
             "#ed7953"
            ],
            [
             0.7777777777777778,
             "#fb9f3a"
            ],
            [
             0.8888888888888888,
             "#fdca26"
            ],
            [
             1,
             "#f0f921"
            ]
           ],
           "sequentialminus": [
            [
             0,
             "#0d0887"
            ],
            [
             0.1111111111111111,
             "#46039f"
            ],
            [
             0.2222222222222222,
             "#7201a8"
            ],
            [
             0.3333333333333333,
             "#9c179e"
            ],
            [
             0.4444444444444444,
             "#bd3786"
            ],
            [
             0.5555555555555556,
             "#d8576b"
            ],
            [
             0.6666666666666666,
             "#ed7953"
            ],
            [
             0.7777777777777778,
             "#fb9f3a"
            ],
            [
             0.8888888888888888,
             "#fdca26"
            ],
            [
             1,
             "#f0f921"
            ]
           ]
          },
          "colorway": [
           "#636efa",
           "#EF553B",
           "#00cc96",
           "#ab63fa",
           "#FFA15A",
           "#19d3f3",
           "#FF6692",
           "#B6E880",
           "#FF97FF",
           "#FECB52"
          ],
          "font": {
           "color": "#2a3f5f"
          },
          "geo": {
           "bgcolor": "white",
           "lakecolor": "white",
           "landcolor": "#E5ECF6",
           "showlakes": true,
           "showland": true,
           "subunitcolor": "white"
          },
          "hoverlabel": {
           "align": "left"
          },
          "hovermode": "closest",
          "mapbox": {
           "style": "light"
          },
          "paper_bgcolor": "white",
          "plot_bgcolor": "#E5ECF6",
          "polar": {
           "angularaxis": {
            "gridcolor": "white",
            "linecolor": "white",
            "ticks": ""
           },
           "bgcolor": "#E5ECF6",
           "radialaxis": {
            "gridcolor": "white",
            "linecolor": "white",
            "ticks": ""
           }
          },
          "scene": {
           "xaxis": {
            "backgroundcolor": "#E5ECF6",
            "gridcolor": "white",
            "gridwidth": 2,
            "linecolor": "white",
            "showbackground": true,
            "ticks": "",
            "zerolinecolor": "white"
           },
           "yaxis": {
            "backgroundcolor": "#E5ECF6",
            "gridcolor": "white",
            "gridwidth": 2,
            "linecolor": "white",
            "showbackground": true,
            "ticks": "",
            "zerolinecolor": "white"
           },
           "zaxis": {
            "backgroundcolor": "#E5ECF6",
            "gridcolor": "white",
            "gridwidth": 2,
            "linecolor": "white",
            "showbackground": true,
            "ticks": "",
            "zerolinecolor": "white"
           }
          },
          "shapedefaults": {
           "line": {
            "color": "#2a3f5f"
           }
          },
          "ternary": {
           "aaxis": {
            "gridcolor": "white",
            "linecolor": "white",
            "ticks": ""
           },
           "baxis": {
            "gridcolor": "white",
            "linecolor": "white",
            "ticks": ""
           },
           "bgcolor": "#E5ECF6",
           "caxis": {
            "gridcolor": "white",
            "linecolor": "white",
            "ticks": ""
           }
          },
          "title": {
           "x": 0.05
          },
          "xaxis": {
           "automargin": true,
           "gridcolor": "white",
           "linecolor": "white",
           "ticks": "",
           "title": {
            "standoff": 15
           },
           "zerolinecolor": "white",
           "zerolinewidth": 2
          },
          "yaxis": {
           "automargin": true,
           "gridcolor": "white",
           "linecolor": "white",
           "ticks": "",
           "title": {
            "standoff": 15
           },
           "zerolinecolor": "white",
           "zerolinewidth": 2
          }
         }
        },
        "title": {
         "text": "Stacked Bar Graph of Government Expenses, 2008-2021"
        },
        "xaxis": {
         "anchor": "y",
         "domain": [
          0,
          1
         ],
         "title": {
          "text": "Year"
         }
        },
        "yaxis": {
         "anchor": "x",
         "domain": [
          0,
          1
         ],
         "title": {
          "text": "Percentage of Budget"
         }
        }
       }
      }
     },
     "metadata": {},
     "output_type": "display_data"
    }
   ],
   "source": [
    "columns = overall_expenses.columns[1:7]\n",
    "\n",
    "stacked_categories = px.bar(overall_expenses, x='Year', y=columns, title=\"Stacked Bar Graph of Government Expenses, 2008-2021\",\n",
    "             labels={'variable': f\"Category\", 'index': \"Year\", 'value': 'Percentage of Budget'})\n",
    "\n",
    "stacked_categories.update_layout(barmode='stack').show()"
   ]
  },
  {
   "cell_type": "markdown",
   "metadata": {},
   "source": [
    "Looking at the visualization, we can generally interpret which categories are prioritized by the government. *Social protection* and *health* appears to be of the highest priority without major changes throughout the years. This is also similar with other categories, appearing to change minimally. However, these minimal changes may be drastic when interpreted in the larger scale of money. "
   ]
  },
  {
   "cell_type": "markdown",
   "metadata": {},
   "source": [
    "Let's try to identify the changes throughout the years with more detail. We can calculate this by taking each year's current percent and subtracting it with the previous year. These will be documented in different columns."
   ]
  },
  {
   "cell_type": "code",
   "execution_count": 12,
   "metadata": {},
   "outputs": [
    {
     "data": {
      "text/html": [
       "<div>\n",
       "<style scoped>\n",
       "    .dataframe tbody tr th:only-of-type {\n",
       "        vertical-align: middle;\n",
       "    }\n",
       "\n",
       "    .dataframe tbody tr th {\n",
       "        vertical-align: top;\n",
       "    }\n",
       "\n",
       "    .dataframe thead th {\n",
       "        text-align: right;\n",
       "    }\n",
       "</style>\n",
       "<table border=\"1\" class=\"dataframe\">\n",
       "  <thead>\n",
       "    <tr style=\"text-align: right;\">\n",
       "      <th></th>\n",
       "      <th>Year</th>\n",
       "      <th>Social protection</th>\n",
       "      <th>Health</th>\n",
       "      <th>Education</th>\n",
       "      <th>General public services</th>\n",
       "      <th>Economic affairs</th>\n",
       "      <th>Other functions</th>\n",
       "      <th>Social protection_change</th>\n",
       "      <th>Health_change</th>\n",
       "      <th>Education_change</th>\n",
       "      <th>General public services_change</th>\n",
       "      <th>Economic affairs_change</th>\n",
       "      <th>Other functions_change</th>\n",
       "    </tr>\n",
       "  </thead>\n",
       "  <tbody>\n",
       "    <tr>\n",
       "      <th>0</th>\n",
       "      <td>2008</td>\n",
       "      <td>23</td>\n",
       "      <td>23</td>\n",
       "      <td>13</td>\n",
       "      <td>18</td>\n",
       "      <td>9</td>\n",
       "      <td>14</td>\n",
       "      <td>0.0</td>\n",
       "      <td>0.0</td>\n",
       "      <td>0.0</td>\n",
       "      <td>0.0</td>\n",
       "      <td>0.0</td>\n",
       "      <td>0.0</td>\n",
       "    </tr>\n",
       "    <tr>\n",
       "      <th>1</th>\n",
       "      <td>2009</td>\n",
       "      <td>24</td>\n",
       "      <td>23</td>\n",
       "      <td>13</td>\n",
       "      <td>17</td>\n",
       "      <td>9</td>\n",
       "      <td>14</td>\n",
       "      <td>1.0</td>\n",
       "      <td>0.0</td>\n",
       "      <td>0.0</td>\n",
       "      <td>-1.0</td>\n",
       "      <td>0.0</td>\n",
       "      <td>0.0</td>\n",
       "    </tr>\n",
       "    <tr>\n",
       "      <th>2</th>\n",
       "      <td>2010</td>\n",
       "      <td>23</td>\n",
       "      <td>23</td>\n",
       "      <td>14</td>\n",
       "      <td>18</td>\n",
       "      <td>9</td>\n",
       "      <td>13</td>\n",
       "      <td>-1.0</td>\n",
       "      <td>0.0</td>\n",
       "      <td>1.0</td>\n",
       "      <td>1.0</td>\n",
       "      <td>0.0</td>\n",
       "      <td>-1.0</td>\n",
       "    </tr>\n",
       "    <tr>\n",
       "      <th>3</th>\n",
       "      <td>2011</td>\n",
       "      <td>23</td>\n",
       "      <td>24</td>\n",
       "      <td>14</td>\n",
       "      <td>17</td>\n",
       "      <td>8</td>\n",
       "      <td>14</td>\n",
       "      <td>0.0</td>\n",
       "      <td>1.0</td>\n",
       "      <td>0.0</td>\n",
       "      <td>-1.0</td>\n",
       "      <td>-1.0</td>\n",
       "      <td>1.0</td>\n",
       "    </tr>\n",
       "    <tr>\n",
       "      <th>4</th>\n",
       "      <td>2012</td>\n",
       "      <td>23</td>\n",
       "      <td>24</td>\n",
       "      <td>14</td>\n",
       "      <td>16</td>\n",
       "      <td>9</td>\n",
       "      <td>14</td>\n",
       "      <td>0.0</td>\n",
       "      <td>0.0</td>\n",
       "      <td>0.0</td>\n",
       "      <td>-1.0</td>\n",
       "      <td>1.0</td>\n",
       "      <td>0.0</td>\n",
       "    </tr>\n",
       "    <tr>\n",
       "      <th>5</th>\n",
       "      <td>2013</td>\n",
       "      <td>23</td>\n",
       "      <td>25</td>\n",
       "      <td>14</td>\n",
       "      <td>16</td>\n",
       "      <td>8</td>\n",
       "      <td>14</td>\n",
       "      <td>0.0</td>\n",
       "      <td>1.0</td>\n",
       "      <td>0.0</td>\n",
       "      <td>0.0</td>\n",
       "      <td>-1.0</td>\n",
       "      <td>0.0</td>\n",
       "    </tr>\n",
       "    <tr>\n",
       "      <th>6</th>\n",
       "      <td>2014</td>\n",
       "      <td>23</td>\n",
       "      <td>25</td>\n",
       "      <td>14</td>\n",
       "      <td>16</td>\n",
       "      <td>8</td>\n",
       "      <td>14</td>\n",
       "      <td>0.0</td>\n",
       "      <td>0.0</td>\n",
       "      <td>0.0</td>\n",
       "      <td>0.0</td>\n",
       "      <td>0.0</td>\n",
       "      <td>0.0</td>\n",
       "    </tr>\n",
       "    <tr>\n",
       "      <th>7</th>\n",
       "      <td>2015</td>\n",
       "      <td>24</td>\n",
       "      <td>25</td>\n",
       "      <td>14</td>\n",
       "      <td>16</td>\n",
       "      <td>8</td>\n",
       "      <td>13</td>\n",
       "      <td>1.0</td>\n",
       "      <td>0.0</td>\n",
       "      <td>0.0</td>\n",
       "      <td>0.0</td>\n",
       "      <td>0.0</td>\n",
       "      <td>-1.0</td>\n",
       "    </tr>\n",
       "    <tr>\n",
       "      <th>8</th>\n",
       "      <td>2016</td>\n",
       "      <td>24</td>\n",
       "      <td>25</td>\n",
       "      <td>14</td>\n",
       "      <td>16</td>\n",
       "      <td>8</td>\n",
       "      <td>13</td>\n",
       "      <td>0.0</td>\n",
       "      <td>0.0</td>\n",
       "      <td>0.0</td>\n",
       "      <td>0.0</td>\n",
       "      <td>0.0</td>\n",
       "      <td>0.0</td>\n",
       "    </tr>\n",
       "    <tr>\n",
       "      <th>9</th>\n",
       "      <td>2017</td>\n",
       "      <td>24</td>\n",
       "      <td>24</td>\n",
       "      <td>14</td>\n",
       "      <td>16</td>\n",
       "      <td>8</td>\n",
       "      <td>14</td>\n",
       "      <td>0.0</td>\n",
       "      <td>-1.0</td>\n",
       "      <td>0.0</td>\n",
       "      <td>0.0</td>\n",
       "      <td>0.0</td>\n",
       "      <td>1.0</td>\n",
       "    </tr>\n",
       "    <tr>\n",
       "      <th>10</th>\n",
       "      <td>2018</td>\n",
       "      <td>24</td>\n",
       "      <td>24</td>\n",
       "      <td>14</td>\n",
       "      <td>16</td>\n",
       "      <td>9</td>\n",
       "      <td>13</td>\n",
       "      <td>0.0</td>\n",
       "      <td>0.0</td>\n",
       "      <td>0.0</td>\n",
       "      <td>0.0</td>\n",
       "      <td>1.0</td>\n",
       "      <td>-1.0</td>\n",
       "    </tr>\n",
       "    <tr>\n",
       "      <th>11</th>\n",
       "      <td>2019</td>\n",
       "      <td>24</td>\n",
       "      <td>24</td>\n",
       "      <td>14</td>\n",
       "      <td>16</td>\n",
       "      <td>9</td>\n",
       "      <td>13</td>\n",
       "      <td>0.0</td>\n",
       "      <td>0.0</td>\n",
       "      <td>0.0</td>\n",
       "      <td>0.0</td>\n",
       "      <td>0.0</td>\n",
       "      <td>0.0</td>\n",
       "    </tr>\n",
       "    <tr>\n",
       "      <th>12</th>\n",
       "      <td>2020</td>\n",
       "      <td>31</td>\n",
       "      <td>20</td>\n",
       "      <td>11</td>\n",
       "      <td>13</td>\n",
       "      <td>15</td>\n",
       "      <td>10</td>\n",
       "      <td>7.0</td>\n",
       "      <td>-4.0</td>\n",
       "      <td>-3.0</td>\n",
       "      <td>-3.0</td>\n",
       "      <td>6.0</td>\n",
       "      <td>-3.0</td>\n",
       "    </tr>\n",
       "    <tr>\n",
       "      <th>13</th>\n",
       "      <td>2021</td>\n",
       "      <td>27</td>\n",
       "      <td>24</td>\n",
       "      <td>12</td>\n",
       "      <td>15</td>\n",
       "      <td>11</td>\n",
       "      <td>11</td>\n",
       "      <td>-4.0</td>\n",
       "      <td>4.0</td>\n",
       "      <td>1.0</td>\n",
       "      <td>2.0</td>\n",
       "      <td>-4.0</td>\n",
       "      <td>1.0</td>\n",
       "    </tr>\n",
       "  </tbody>\n",
       "</table>\n",
       "</div>"
      ],
      "text/plain": [
       "    Year  Social protection  Health  Education  General public services  \\\n",
       "0   2008                 23      23         13                       18   \n",
       "1   2009                 24      23         13                       17   \n",
       "2   2010                 23      23         14                       18   \n",
       "3   2011                 23      24         14                       17   \n",
       "4   2012                 23      24         14                       16   \n",
       "5   2013                 23      25         14                       16   \n",
       "6   2014                 23      25         14                       16   \n",
       "7   2015                 24      25         14                       16   \n",
       "8   2016                 24      25         14                       16   \n",
       "9   2017                 24      24         14                       16   \n",
       "10  2018                 24      24         14                       16   \n",
       "11  2019                 24      24         14                       16   \n",
       "12  2020                 31      20         11                       13   \n",
       "13  2021                 27      24         12                       15   \n",
       "\n",
       "    Economic affairs  Other functions  Social protection_change  \\\n",
       "0                  9               14                       0.0   \n",
       "1                  9               14                       1.0   \n",
       "2                  9               13                      -1.0   \n",
       "3                  8               14                       0.0   \n",
       "4                  9               14                       0.0   \n",
       "5                  8               14                       0.0   \n",
       "6                  8               14                       0.0   \n",
       "7                  8               13                       1.0   \n",
       "8                  8               13                       0.0   \n",
       "9                  8               14                       0.0   \n",
       "10                 9               13                       0.0   \n",
       "11                 9               13                       0.0   \n",
       "12                15               10                       7.0   \n",
       "13                11               11                      -4.0   \n",
       "\n",
       "    Health_change  Education_change  General public services_change  \\\n",
       "0             0.0               0.0                             0.0   \n",
       "1             0.0               0.0                            -1.0   \n",
       "2             0.0               1.0                             1.0   \n",
       "3             1.0               0.0                            -1.0   \n",
       "4             0.0               0.0                            -1.0   \n",
       "5             1.0               0.0                             0.0   \n",
       "6             0.0               0.0                             0.0   \n",
       "7             0.0               0.0                             0.0   \n",
       "8             0.0               0.0                             0.0   \n",
       "9            -1.0               0.0                             0.0   \n",
       "10            0.0               0.0                             0.0   \n",
       "11            0.0               0.0                             0.0   \n",
       "12           -4.0              -3.0                            -3.0   \n",
       "13            4.0               1.0                             2.0   \n",
       "\n",
       "    Economic affairs_change  Other functions_change  \n",
       "0                       0.0                     0.0  \n",
       "1                       0.0                     0.0  \n",
       "2                       0.0                    -1.0  \n",
       "3                      -1.0                     1.0  \n",
       "4                       1.0                     0.0  \n",
       "5                      -1.0                     0.0  \n",
       "6                       0.0                     0.0  \n",
       "7                       0.0                    -1.0  \n",
       "8                       0.0                     0.0  \n",
       "9                       0.0                     1.0  \n",
       "10                      1.0                    -1.0  \n",
       "11                      0.0                     0.0  \n",
       "12                      6.0                    -3.0  \n",
       "13                     -4.0                     1.0  "
      ]
     },
     "metadata": {},
     "output_type": "display_data"
    }
   ],
   "source": [
    "for col in columns:\n",
    "    overall_expenses[col + '_change'] = overall_expenses[col] - overall_expenses[col].shift(1)\n",
    "\n",
    "# Replace the first row values with 0\n",
    "overall_expenses.fillna(0, inplace=True)\n",
    "display(overall_expenses)"
   ]
  },
  {
   "cell_type": "markdown",
   "metadata": {},
   "source": [
    "Now let's visualize these percent changes in the visualization below."
   ]
  },
  {
   "cell_type": "code",
   "execution_count": 13,
   "metadata": {},
   "outputs": [
    {
     "data": {
      "application/vnd.plotly.v1+json": {
       "config": {
        "plotlyServerURL": "https://plot.ly"
       },
       "data": [
        {
         "hoverinfo": "text",
         "line": {
          "dash": "dot"
         },
         "marker": {
          "color": "green"
         },
         "mode": "lines+markers",
         "name": "Social protection",
         "text": [
          "Social protection: 23.00%<br>Change: 0.00%",
          "Social protection: 24.00%<br>Change: 1.00%",
          "Social protection: 23.00%<br>Change: -1.00%",
          "Social protection: 23.00%<br>Change: 0.00%",
          "Social protection: 23.00%<br>Change: 0.00%",
          "Social protection: 23.00%<br>Change: 0.00%",
          "Social protection: 23.00%<br>Change: 0.00%",
          "Social protection: 24.00%<br>Change: 1.00%",
          "Social protection: 24.00%<br>Change: 0.00%",
          "Social protection: 24.00%<br>Change: 0.00%",
          "Social protection: 24.00%<br>Change: 0.00%",
          "Social protection: 24.00%<br>Change: 0.00%",
          "Social protection: 31.00%<br>Change: 7.00%",
          "Social protection: 27.00%<br>Change: -4.00%"
         ],
         "type": "scatter",
         "x": [
          2008,
          2009,
          2010,
          2011,
          2012,
          2013,
          2014,
          2015,
          2016,
          2017,
          2018,
          2019,
          2020,
          2021
         ],
         "y": [
          23,
          24,
          23,
          23,
          23,
          23,
          23,
          24,
          24,
          24,
          24,
          24,
          31,
          27
         ]
        },
        {
         "hoverinfo": "text",
         "line": {
          "dash": "dot"
         },
         "marker": {
          "color": "green"
         },
         "mode": "lines+markers",
         "name": "Health",
         "text": [
          "Health: 23.00%<br>Change: 0.00%",
          "Health: 23.00%<br>Change: 0.00%",
          "Health: 23.00%<br>Change: 0.00%",
          "Health: 24.00%<br>Change: 1.00%",
          "Health: 24.00%<br>Change: 0.00%",
          "Health: 25.00%<br>Change: 1.00%",
          "Health: 25.00%<br>Change: 0.00%",
          "Health: 25.00%<br>Change: 0.00%",
          "Health: 25.00%<br>Change: 0.00%",
          "Health: 24.00%<br>Change: -1.00%",
          "Health: 24.00%<br>Change: 0.00%",
          "Health: 24.00%<br>Change: 0.00%",
          "Health: 20.00%<br>Change: -4.00%",
          "Health: 24.00%<br>Change: 4.00%"
         ],
         "type": "scatter",
         "x": [
          2008,
          2009,
          2010,
          2011,
          2012,
          2013,
          2014,
          2015,
          2016,
          2017,
          2018,
          2019,
          2020,
          2021
         ],
         "y": [
          23,
          23,
          23,
          24,
          24,
          25,
          25,
          25,
          25,
          24,
          24,
          24,
          20,
          24
         ]
        },
        {
         "hoverinfo": "text",
         "line": {
          "dash": "dot"
         },
         "marker": {
          "color": "red"
         },
         "mode": "lines+markers",
         "name": "Education",
         "text": [
          "Education: 13.00%<br>Change: 0.00%",
          "Education: 13.00%<br>Change: 0.00%",
          "Education: 14.00%<br>Change: 1.00%",
          "Education: 14.00%<br>Change: 0.00%",
          "Education: 14.00%<br>Change: 0.00%",
          "Education: 14.00%<br>Change: 0.00%",
          "Education: 14.00%<br>Change: 0.00%",
          "Education: 14.00%<br>Change: 0.00%",
          "Education: 14.00%<br>Change: 0.00%",
          "Education: 14.00%<br>Change: 0.00%",
          "Education: 14.00%<br>Change: 0.00%",
          "Education: 14.00%<br>Change: 0.00%",
          "Education: 11.00%<br>Change: -3.00%",
          "Education: 12.00%<br>Change: 1.00%"
         ],
         "type": "scatter",
         "x": [
          2008,
          2009,
          2010,
          2011,
          2012,
          2013,
          2014,
          2015,
          2016,
          2017,
          2018,
          2019,
          2020,
          2021
         ],
         "y": [
          13,
          13,
          14,
          14,
          14,
          14,
          14,
          14,
          14,
          14,
          14,
          14,
          11,
          12
         ]
        },
        {
         "hoverinfo": "text",
         "line": {
          "dash": "dot"
         },
         "marker": {
          "color": "red"
         },
         "mode": "lines+markers",
         "name": "General public services",
         "text": [
          "General public services: 18.00%<br>Change: 0.00%",
          "General public services: 17.00%<br>Change: -1.00%",
          "General public services: 18.00%<br>Change: 1.00%",
          "General public services: 17.00%<br>Change: -1.00%",
          "General public services: 16.00%<br>Change: -1.00%",
          "General public services: 16.00%<br>Change: 0.00%",
          "General public services: 16.00%<br>Change: 0.00%",
          "General public services: 16.00%<br>Change: 0.00%",
          "General public services: 16.00%<br>Change: 0.00%",
          "General public services: 16.00%<br>Change: 0.00%",
          "General public services: 16.00%<br>Change: 0.00%",
          "General public services: 16.00%<br>Change: 0.00%",
          "General public services: 13.00%<br>Change: -3.00%",
          "General public services: 15.00%<br>Change: 2.00%"
         ],
         "type": "scatter",
         "x": [
          2008,
          2009,
          2010,
          2011,
          2012,
          2013,
          2014,
          2015,
          2016,
          2017,
          2018,
          2019,
          2020,
          2021
         ],
         "y": [
          18,
          17,
          18,
          17,
          16,
          16,
          16,
          16,
          16,
          16,
          16,
          16,
          13,
          15
         ]
        },
        {
         "hoverinfo": "text",
         "line": {
          "dash": "dot"
         },
         "marker": {
          "color": "green"
         },
         "mode": "lines+markers",
         "name": "Economic affairs",
         "text": [
          "Economic affairs: 9.00%<br>Change: 0.00%",
          "Economic affairs: 9.00%<br>Change: 0.00%",
          "Economic affairs: 9.00%<br>Change: 0.00%",
          "Economic affairs: 8.00%<br>Change: -1.00%",
          "Economic affairs: 9.00%<br>Change: 1.00%",
          "Economic affairs: 8.00%<br>Change: -1.00%",
          "Economic affairs: 8.00%<br>Change: 0.00%",
          "Economic affairs: 8.00%<br>Change: 0.00%",
          "Economic affairs: 8.00%<br>Change: 0.00%",
          "Economic affairs: 8.00%<br>Change: 0.00%",
          "Economic affairs: 9.00%<br>Change: 1.00%",
          "Economic affairs: 9.00%<br>Change: 0.00%",
          "Economic affairs: 15.00%<br>Change: 6.00%",
          "Economic affairs: 11.00%<br>Change: -4.00%"
         ],
         "type": "scatter",
         "x": [
          2008,
          2009,
          2010,
          2011,
          2012,
          2013,
          2014,
          2015,
          2016,
          2017,
          2018,
          2019,
          2020,
          2021
         ],
         "y": [
          9,
          9,
          9,
          8,
          9,
          8,
          8,
          8,
          8,
          8,
          9,
          9,
          15,
          11
         ]
        },
        {
         "hoverinfo": "text",
         "line": {
          "dash": "dot"
         },
         "marker": {
          "color": "red"
         },
         "mode": "lines+markers",
         "name": "Other functions",
         "text": [
          "Other functions: 14.00%<br>Change: 0.00%",
          "Other functions: 14.00%<br>Change: 0.00%",
          "Other functions: 13.00%<br>Change: -1.00%",
          "Other functions: 14.00%<br>Change: 1.00%",
          "Other functions: 14.00%<br>Change: 0.00%",
          "Other functions: 14.00%<br>Change: 0.00%",
          "Other functions: 14.00%<br>Change: 0.00%",
          "Other functions: 13.00%<br>Change: -1.00%",
          "Other functions: 13.00%<br>Change: 0.00%",
          "Other functions: 14.00%<br>Change: 1.00%",
          "Other functions: 13.00%<br>Change: -1.00%",
          "Other functions: 13.00%<br>Change: 0.00%",
          "Other functions: 10.00%<br>Change: -3.00%",
          "Other functions: 11.00%<br>Change: 1.00%"
         ],
         "type": "scatter",
         "x": [
          2008,
          2009,
          2010,
          2011,
          2012,
          2013,
          2014,
          2015,
          2016,
          2017,
          2018,
          2019,
          2020,
          2021
         ],
         "y": [
          14,
          14,
          13,
          14,
          14,
          14,
          14,
          13,
          13,
          14,
          13,
          13,
          10,
          11
         ]
        }
       ],
       "layout": {
        "template": {
         "data": {
          "bar": [
           {
            "error_x": {
             "color": "#2a3f5f"
            },
            "error_y": {
             "color": "#2a3f5f"
            },
            "marker": {
             "line": {
              "color": "#E5ECF6",
              "width": 0.5
             },
             "pattern": {
              "fillmode": "overlay",
              "size": 10,
              "solidity": 0.2
             }
            },
            "type": "bar"
           }
          ],
          "barpolar": [
           {
            "marker": {
             "line": {
              "color": "#E5ECF6",
              "width": 0.5
             },
             "pattern": {
              "fillmode": "overlay",
              "size": 10,
              "solidity": 0.2
             }
            },
            "type": "barpolar"
           }
          ],
          "carpet": [
           {
            "aaxis": {
             "endlinecolor": "#2a3f5f",
             "gridcolor": "white",
             "linecolor": "white",
             "minorgridcolor": "white",
             "startlinecolor": "#2a3f5f"
            },
            "baxis": {
             "endlinecolor": "#2a3f5f",
             "gridcolor": "white",
             "linecolor": "white",
             "minorgridcolor": "white",
             "startlinecolor": "#2a3f5f"
            },
            "type": "carpet"
           }
          ],
          "choropleth": [
           {
            "colorbar": {
             "outlinewidth": 0,
             "ticks": ""
            },
            "type": "choropleth"
           }
          ],
          "contour": [
           {
            "colorbar": {
             "outlinewidth": 0,
             "ticks": ""
            },
            "colorscale": [
             [
              0,
              "#0d0887"
             ],
             [
              0.1111111111111111,
              "#46039f"
             ],
             [
              0.2222222222222222,
              "#7201a8"
             ],
             [
              0.3333333333333333,
              "#9c179e"
             ],
             [
              0.4444444444444444,
              "#bd3786"
             ],
             [
              0.5555555555555556,
              "#d8576b"
             ],
             [
              0.6666666666666666,
              "#ed7953"
             ],
             [
              0.7777777777777778,
              "#fb9f3a"
             ],
             [
              0.8888888888888888,
              "#fdca26"
             ],
             [
              1,
              "#f0f921"
             ]
            ],
            "type": "contour"
           }
          ],
          "contourcarpet": [
           {
            "colorbar": {
             "outlinewidth": 0,
             "ticks": ""
            },
            "type": "contourcarpet"
           }
          ],
          "heatmap": [
           {
            "colorbar": {
             "outlinewidth": 0,
             "ticks": ""
            },
            "colorscale": [
             [
              0,
              "#0d0887"
             ],
             [
              0.1111111111111111,
              "#46039f"
             ],
             [
              0.2222222222222222,
              "#7201a8"
             ],
             [
              0.3333333333333333,
              "#9c179e"
             ],
             [
              0.4444444444444444,
              "#bd3786"
             ],
             [
              0.5555555555555556,
              "#d8576b"
             ],
             [
              0.6666666666666666,
              "#ed7953"
             ],
             [
              0.7777777777777778,
              "#fb9f3a"
             ],
             [
              0.8888888888888888,
              "#fdca26"
             ],
             [
              1,
              "#f0f921"
             ]
            ],
            "type": "heatmap"
           }
          ],
          "heatmapgl": [
           {
            "colorbar": {
             "outlinewidth": 0,
             "ticks": ""
            },
            "colorscale": [
             [
              0,
              "#0d0887"
             ],
             [
              0.1111111111111111,
              "#46039f"
             ],
             [
              0.2222222222222222,
              "#7201a8"
             ],
             [
              0.3333333333333333,
              "#9c179e"
             ],
             [
              0.4444444444444444,
              "#bd3786"
             ],
             [
              0.5555555555555556,
              "#d8576b"
             ],
             [
              0.6666666666666666,
              "#ed7953"
             ],
             [
              0.7777777777777778,
              "#fb9f3a"
             ],
             [
              0.8888888888888888,
              "#fdca26"
             ],
             [
              1,
              "#f0f921"
             ]
            ],
            "type": "heatmapgl"
           }
          ],
          "histogram": [
           {
            "marker": {
             "pattern": {
              "fillmode": "overlay",
              "size": 10,
              "solidity": 0.2
             }
            },
            "type": "histogram"
           }
          ],
          "histogram2d": [
           {
            "colorbar": {
             "outlinewidth": 0,
             "ticks": ""
            },
            "colorscale": [
             [
              0,
              "#0d0887"
             ],
             [
              0.1111111111111111,
              "#46039f"
             ],
             [
              0.2222222222222222,
              "#7201a8"
             ],
             [
              0.3333333333333333,
              "#9c179e"
             ],
             [
              0.4444444444444444,
              "#bd3786"
             ],
             [
              0.5555555555555556,
              "#d8576b"
             ],
             [
              0.6666666666666666,
              "#ed7953"
             ],
             [
              0.7777777777777778,
              "#fb9f3a"
             ],
             [
              0.8888888888888888,
              "#fdca26"
             ],
             [
              1,
              "#f0f921"
             ]
            ],
            "type": "histogram2d"
           }
          ],
          "histogram2dcontour": [
           {
            "colorbar": {
             "outlinewidth": 0,
             "ticks": ""
            },
            "colorscale": [
             [
              0,
              "#0d0887"
             ],
             [
              0.1111111111111111,
              "#46039f"
             ],
             [
              0.2222222222222222,
              "#7201a8"
             ],
             [
              0.3333333333333333,
              "#9c179e"
             ],
             [
              0.4444444444444444,
              "#bd3786"
             ],
             [
              0.5555555555555556,
              "#d8576b"
             ],
             [
              0.6666666666666666,
              "#ed7953"
             ],
             [
              0.7777777777777778,
              "#fb9f3a"
             ],
             [
              0.8888888888888888,
              "#fdca26"
             ],
             [
              1,
              "#f0f921"
             ]
            ],
            "type": "histogram2dcontour"
           }
          ],
          "mesh3d": [
           {
            "colorbar": {
             "outlinewidth": 0,
             "ticks": ""
            },
            "type": "mesh3d"
           }
          ],
          "parcoords": [
           {
            "line": {
             "colorbar": {
              "outlinewidth": 0,
              "ticks": ""
             }
            },
            "type": "parcoords"
           }
          ],
          "pie": [
           {
            "automargin": true,
            "type": "pie"
           }
          ],
          "scatter": [
           {
            "fillpattern": {
             "fillmode": "overlay",
             "size": 10,
             "solidity": 0.2
            },
            "type": "scatter"
           }
          ],
          "scatter3d": [
           {
            "line": {
             "colorbar": {
              "outlinewidth": 0,
              "ticks": ""
             }
            },
            "marker": {
             "colorbar": {
              "outlinewidth": 0,
              "ticks": ""
             }
            },
            "type": "scatter3d"
           }
          ],
          "scattercarpet": [
           {
            "marker": {
             "colorbar": {
              "outlinewidth": 0,
              "ticks": ""
             }
            },
            "type": "scattercarpet"
           }
          ],
          "scattergeo": [
           {
            "marker": {
             "colorbar": {
              "outlinewidth": 0,
              "ticks": ""
             }
            },
            "type": "scattergeo"
           }
          ],
          "scattergl": [
           {
            "marker": {
             "colorbar": {
              "outlinewidth": 0,
              "ticks": ""
             }
            },
            "type": "scattergl"
           }
          ],
          "scattermapbox": [
           {
            "marker": {
             "colorbar": {
              "outlinewidth": 0,
              "ticks": ""
             }
            },
            "type": "scattermapbox"
           }
          ],
          "scatterpolar": [
           {
            "marker": {
             "colorbar": {
              "outlinewidth": 0,
              "ticks": ""
             }
            },
            "type": "scatterpolar"
           }
          ],
          "scatterpolargl": [
           {
            "marker": {
             "colorbar": {
              "outlinewidth": 0,
              "ticks": ""
             }
            },
            "type": "scatterpolargl"
           }
          ],
          "scatterternary": [
           {
            "marker": {
             "colorbar": {
              "outlinewidth": 0,
              "ticks": ""
             }
            },
            "type": "scatterternary"
           }
          ],
          "surface": [
           {
            "colorbar": {
             "outlinewidth": 0,
             "ticks": ""
            },
            "colorscale": [
             [
              0,
              "#0d0887"
             ],
             [
              0.1111111111111111,
              "#46039f"
             ],
             [
              0.2222222222222222,
              "#7201a8"
             ],
             [
              0.3333333333333333,
              "#9c179e"
             ],
             [
              0.4444444444444444,
              "#bd3786"
             ],
             [
              0.5555555555555556,
              "#d8576b"
             ],
             [
              0.6666666666666666,
              "#ed7953"
             ],
             [
              0.7777777777777778,
              "#fb9f3a"
             ],
             [
              0.8888888888888888,
              "#fdca26"
             ],
             [
              1,
              "#f0f921"
             ]
            ],
            "type": "surface"
           }
          ],
          "table": [
           {
            "cells": {
             "fill": {
              "color": "#EBF0F8"
             },
             "line": {
              "color": "white"
             }
            },
            "header": {
             "fill": {
              "color": "#C8D4E3"
             },
             "line": {
              "color": "white"
             }
            },
            "type": "table"
           }
          ]
         },
         "layout": {
          "annotationdefaults": {
           "arrowcolor": "#2a3f5f",
           "arrowhead": 0,
           "arrowwidth": 1
          },
          "autotypenumbers": "strict",
          "coloraxis": {
           "colorbar": {
            "outlinewidth": 0,
            "ticks": ""
           }
          },
          "colorscale": {
           "diverging": [
            [
             0,
             "#8e0152"
            ],
            [
             0.1,
             "#c51b7d"
            ],
            [
             0.2,
             "#de77ae"
            ],
            [
             0.3,
             "#f1b6da"
            ],
            [
             0.4,
             "#fde0ef"
            ],
            [
             0.5,
             "#f7f7f7"
            ],
            [
             0.6,
             "#e6f5d0"
            ],
            [
             0.7,
             "#b8e186"
            ],
            [
             0.8,
             "#7fbc41"
            ],
            [
             0.9,
             "#4d9221"
            ],
            [
             1,
             "#276419"
            ]
           ],
           "sequential": [
            [
             0,
             "#0d0887"
            ],
            [
             0.1111111111111111,
             "#46039f"
            ],
            [
             0.2222222222222222,
             "#7201a8"
            ],
            [
             0.3333333333333333,
             "#9c179e"
            ],
            [
             0.4444444444444444,
             "#bd3786"
            ],
            [
             0.5555555555555556,
             "#d8576b"
            ],
            [
             0.6666666666666666,
             "#ed7953"
            ],
            [
             0.7777777777777778,
             "#fb9f3a"
            ],
            [
             0.8888888888888888,
             "#fdca26"
            ],
            [
             1,
             "#f0f921"
            ]
           ],
           "sequentialminus": [
            [
             0,
             "#0d0887"
            ],
            [
             0.1111111111111111,
             "#46039f"
            ],
            [
             0.2222222222222222,
             "#7201a8"
            ],
            [
             0.3333333333333333,
             "#9c179e"
            ],
            [
             0.4444444444444444,
             "#bd3786"
            ],
            [
             0.5555555555555556,
             "#d8576b"
            ],
            [
             0.6666666666666666,
             "#ed7953"
            ],
            [
             0.7777777777777778,
             "#fb9f3a"
            ],
            [
             0.8888888888888888,
             "#fdca26"
            ],
            [
             1,
             "#f0f921"
            ]
           ]
          },
          "colorway": [
           "#636efa",
           "#EF553B",
           "#00cc96",
           "#ab63fa",
           "#FFA15A",
           "#19d3f3",
           "#FF6692",
           "#B6E880",
           "#FF97FF",
           "#FECB52"
          ],
          "font": {
           "color": "#2a3f5f"
          },
          "geo": {
           "bgcolor": "white",
           "lakecolor": "white",
           "landcolor": "#E5ECF6",
           "showlakes": true,
           "showland": true,
           "subunitcolor": "white"
          },
          "hoverlabel": {
           "align": "left"
          },
          "hovermode": "closest",
          "mapbox": {
           "style": "light"
          },
          "paper_bgcolor": "white",
          "plot_bgcolor": "#E5ECF6",
          "polar": {
           "angularaxis": {
            "gridcolor": "white",
            "linecolor": "white",
            "ticks": ""
           },
           "bgcolor": "#E5ECF6",
           "radialaxis": {
            "gridcolor": "white",
            "linecolor": "white",
            "ticks": ""
           }
          },
          "scene": {
           "xaxis": {
            "backgroundcolor": "#E5ECF6",
            "gridcolor": "white",
            "gridwidth": 2,
            "linecolor": "white",
            "showbackground": true,
            "ticks": "",
            "zerolinecolor": "white"
           },
           "yaxis": {
            "backgroundcolor": "#E5ECF6",
            "gridcolor": "white",
            "gridwidth": 2,
            "linecolor": "white",
            "showbackground": true,
            "ticks": "",
            "zerolinecolor": "white"
           },
           "zaxis": {
            "backgroundcolor": "#E5ECF6",
            "gridcolor": "white",
            "gridwidth": 2,
            "linecolor": "white",
            "showbackground": true,
            "ticks": "",
            "zerolinecolor": "white"
           }
          },
          "shapedefaults": {
           "line": {
            "color": "#2a3f5f"
           }
          },
          "ternary": {
           "aaxis": {
            "gridcolor": "white",
            "linecolor": "white",
            "ticks": ""
           },
           "baxis": {
            "gridcolor": "white",
            "linecolor": "white",
            "ticks": ""
           },
           "bgcolor": "#E5ECF6",
           "caxis": {
            "gridcolor": "white",
            "linecolor": "white",
            "ticks": ""
           }
          },
          "title": {
           "x": 0.05
          },
          "xaxis": {
           "automargin": true,
           "gridcolor": "white",
           "linecolor": "white",
           "ticks": "",
           "title": {
            "standoff": 15
           },
           "zerolinecolor": "white",
           "zerolinewidth": 2
          },
          "yaxis": {
           "automargin": true,
           "gridcolor": "white",
           "linecolor": "white",
           "ticks": "",
           "title": {
            "standoff": 15
           },
           "zerolinecolor": "white",
           "zerolinewidth": 2
          }
         }
        },
        "title": {
         "text": "Progression of Expenses 2008-2021"
        },
        "xaxis": {
         "title": {
          "text": "Year"
         }
        },
        "yaxis": {
         "title": {
          "text": "Percentage Change"
         }
        }
       }
      }
     },
     "metadata": {},
     "output_type": "display_data"
    }
   ],
   "source": [
    "percentage_fig = go.Figure()\n",
    "\n",
    "for col in columns:\n",
    "    color = 'red' if overall_expenses[col + '_change'].iloc[1:].mean() < 0 else 'green'\n",
    "    percentage_fig.add_trace(go.Scatter(\n",
    "        x=overall_expenses['Year'],\n",
    "        y=overall_expenses[col],\n",
    "        mode='lines+markers',\n",
    "        line=dict(dash='dot'),\n",
    "        name=col,\n",
    "        marker=dict(color=color),\n",
    "        text=[f'{col}: {y:.2f}%<br>Change: {change:.2f}%' for y, change in zip(overall_expenses[col], overall_expenses[col + '_change'])],\n",
    "        hoverinfo='text',\n",
    "    ))\n",
    "\n",
    "percentage_fig.update_layout(\n",
    "    title=\"Progression of Expenses 2008-2021\",\n",
    "    xaxis=dict(title=\"Year\"),\n",
    "    yaxis=dict(title=\"Percentage Change\"),\n",
    ").show()"
   ]
  },
  {
   "cell_type": "markdown",
   "metadata": {},
   "source": [
    "It appears that half of the categories have *decreased* in overall percentage while the other half of categories *increased* in percentage throughout the years of 2008 to 2021. An interesting thing to note is the largest positive increase was in the year 2019-2020 with a 7% increase in social protection. A potential reasoning to why social protection increased so much in this year was that this was that this was the beginning of Covid-19. Unemployment soared during this time and the government may have had to assist more due to increasing poverty rates. However, many would assume *health* would have been prioritized if this was the case, but surprisingly it's allocation in budget decreased. \n",
    "\n",
    "Overall, upon closer examination of the specific percentage changes, it becomes apparent that the government has opted for relatively modest adjustments to the budget. This approach is generally positive, as it promotes stability and flexibility to address changing priorities and challenges."
   ]
  },
  {
   "cell_type": "markdown",
   "metadata": {},
   "source": [
    "We can also look at the percentages of budget based on province using the `share_of_expenses` dataframe."
   ]
  },
  {
   "cell_type": "code",
   "execution_count": 14,
   "metadata": {},
   "outputs": [
    {
     "data": {
      "text/html": [
       "<div>\n",
       "<style scoped>\n",
       "    .dataframe tbody tr th:only-of-type {\n",
       "        vertical-align: middle;\n",
       "    }\n",
       "\n",
       "    .dataframe tbody tr th {\n",
       "        vertical-align: top;\n",
       "    }\n",
       "\n",
       "    .dataframe thead th {\n",
       "        text-align: right;\n",
       "    }\n",
       "</style>\n",
       "<table border=\"1\" class=\"dataframe\">\n",
       "  <thead>\n",
       "    <tr style=\"text-align: right;\">\n",
       "      <th></th>\n",
       "      <th>Province</th>\n",
       "      <th>Health</th>\n",
       "      <th>Education</th>\n",
       "      <th>General public services</th>\n",
       "      <th>Social protection</th>\n",
       "      <th>Economic affairs</th>\n",
       "      <th>Other functions</th>\n",
       "    </tr>\n",
       "  </thead>\n",
       "  <tbody>\n",
       "    <tr>\n",
       "      <th>0</th>\n",
       "      <td>Newfoundland and Labrador</td>\n",
       "      <td>39</td>\n",
       "      <td>17</td>\n",
       "      <td>19</td>\n",
       "      <td>8</td>\n",
       "      <td>9</td>\n",
       "      <td>8</td>\n",
       "    </tr>\n",
       "    <tr>\n",
       "      <th>1</th>\n",
       "      <td>Prince Edward Island</td>\n",
       "      <td>33</td>\n",
       "      <td>20</td>\n",
       "      <td>15</td>\n",
       "      <td>9</td>\n",
       "      <td>15</td>\n",
       "      <td>8</td>\n",
       "    </tr>\n",
       "    <tr>\n",
       "      <th>2</th>\n",
       "      <td>Nova Scotia</td>\n",
       "      <td>39</td>\n",
       "      <td>18</td>\n",
       "      <td>14</td>\n",
       "      <td>10</td>\n",
       "      <td>9</td>\n",
       "      <td>10</td>\n",
       "    </tr>\n",
       "    <tr>\n",
       "      <th>3</th>\n",
       "      <td>New Brunswick</td>\n",
       "      <td>39</td>\n",
       "      <td>18</td>\n",
       "      <td>15</td>\n",
       "      <td>8</td>\n",
       "      <td>11</td>\n",
       "      <td>9</td>\n",
       "    </tr>\n",
       "    <tr>\n",
       "      <th>4</th>\n",
       "      <td>Quebec</td>\n",
       "      <td>33</td>\n",
       "      <td>15</td>\n",
       "      <td>18</td>\n",
       "      <td>17</td>\n",
       "      <td>9</td>\n",
       "      <td>8</td>\n",
       "    </tr>\n",
       "    <tr>\n",
       "      <th>5</th>\n",
       "      <td>Ontario</td>\n",
       "      <td>35</td>\n",
       "      <td>19</td>\n",
       "      <td>9</td>\n",
       "      <td>14</td>\n",
       "      <td>12</td>\n",
       "      <td>11</td>\n",
       "    </tr>\n",
       "    <tr>\n",
       "      <th>6</th>\n",
       "      <td>Manitoba</td>\n",
       "      <td>39</td>\n",
       "      <td>18</td>\n",
       "      <td>14</td>\n",
       "      <td>12</td>\n",
       "      <td>6</td>\n",
       "      <td>11</td>\n",
       "    </tr>\n",
       "    <tr>\n",
       "      <th>7</th>\n",
       "      <td>Saskatchewan</td>\n",
       "      <td>29</td>\n",
       "      <td>18</td>\n",
       "      <td>9</td>\n",
       "      <td>13</td>\n",
       "      <td>19</td>\n",
       "      <td>12</td>\n",
       "    </tr>\n",
       "    <tr>\n",
       "      <th>8</th>\n",
       "      <td>Alberta</td>\n",
       "      <td>33</td>\n",
       "      <td>18</td>\n",
       "      <td>9</td>\n",
       "      <td>12</td>\n",
       "      <td>17</td>\n",
       "      <td>11</td>\n",
       "    </tr>\n",
       "    <tr>\n",
       "      <th>9</th>\n",
       "      <td>British Columbia</td>\n",
       "      <td>36</td>\n",
       "      <td>16</td>\n",
       "      <td>10</td>\n",
       "      <td>15</td>\n",
       "      <td>10</td>\n",
       "      <td>13</td>\n",
       "    </tr>\n",
       "    <tr>\n",
       "      <th>10</th>\n",
       "      <td>Yukon</td>\n",
       "      <td>25</td>\n",
       "      <td>13</td>\n",
       "      <td>13</td>\n",
       "      <td>9</td>\n",
       "      <td>21</td>\n",
       "      <td>19</td>\n",
       "    </tr>\n",
       "    <tr>\n",
       "      <th>11</th>\n",
       "      <td>Northwest Territories</td>\n",
       "      <td>30</td>\n",
       "      <td>13</td>\n",
       "      <td>16</td>\n",
       "      <td>12</td>\n",
       "      <td>14</td>\n",
       "      <td>15</td>\n",
       "    </tr>\n",
       "    <tr>\n",
       "      <th>12</th>\n",
       "      <td>Nunavut</td>\n",
       "      <td>27</td>\n",
       "      <td>12</td>\n",
       "      <td>19</td>\n",
       "      <td>12</td>\n",
       "      <td>16</td>\n",
       "      <td>14</td>\n",
       "    </tr>\n",
       "  </tbody>\n",
       "</table>\n",
       "</div>"
      ],
      "text/plain": [
       "                     Province  Health  Education  General public services  \\\n",
       "0   Newfoundland and Labrador      39         17                       19   \n",
       "1        Prince Edward Island      33         20                       15   \n",
       "2                 Nova Scotia      39         18                       14   \n",
       "3               New Brunswick      39         18                       15   \n",
       "4                      Quebec      33         15                       18   \n",
       "5                     Ontario      35         19                        9   \n",
       "6                    Manitoba      39         18                       14   \n",
       "7                Saskatchewan      29         18                        9   \n",
       "8                     Alberta      33         18                        9   \n",
       "9            British Columbia      36         16                       10   \n",
       "10                      Yukon      25         13                       13   \n",
       "11      Northwest Territories      30         13                       16   \n",
       "12                    Nunavut      27         12                       19   \n",
       "\n",
       "    Social protection  Economic affairs  Other functions  \n",
       "0                   8                 9                8  \n",
       "1                   9                15                8  \n",
       "2                  10                 9               10  \n",
       "3                   8                11                9  \n",
       "4                  17                 9                8  \n",
       "5                  14                12               11  \n",
       "6                  12                 6               11  \n",
       "7                  13                19               12  \n",
       "8                  12                17               11  \n",
       "9                  15                10               13  \n",
       "10                  9                21               19  \n",
       "11                 12                14               15  \n",
       "12                 12                16               14  "
      ]
     },
     "execution_count": 14,
     "metadata": {},
     "output_type": "execute_result"
    }
   ],
   "source": [
    "share_of_expenses"
   ]
  },
  {
   "cell_type": "markdown",
   "metadata": {},
   "source": [
    "## Extended Organization"
   ]
  },
  {
   "cell_type": "markdown",
   "metadata": {},
   "source": [
    "As an extension to organizing data, *data-cleaning* is an essential step in the data preparation process. Generally, it involves identifying, correcting, and handling errors, inconsistencies, and inaccuracies within a dataset. In our particular case, we will be changing the names of our columns to better suit analysis in later code cells.  \n",
    "\n",
    "We will also be reading in a *geojson* file, which contains information about the geometric latitude/longitude of the borders of provinces in Canada. "
   ]
  },
  {
   "cell_type": "code",
   "execution_count": 15,
   "metadata": {},
   "outputs": [
    {
     "data": {
      "text/html": [
       "<div>\n",
       "<style scoped>\n",
       "    .dataframe tbody tr th:only-of-type {\n",
       "        vertical-align: middle;\n",
       "    }\n",
       "\n",
       "    .dataframe tbody tr th {\n",
       "        vertical-align: top;\n",
       "    }\n",
       "\n",
       "    .dataframe thead th {\n",
       "        text-align: right;\n",
       "    }\n",
       "</style>\n",
       "<table border=\"1\" class=\"dataframe\">\n",
       "  <thead>\n",
       "    <tr style=\"text-align: right;\">\n",
       "      <th></th>\n",
       "      <th>geo_point_2d</th>\n",
       "      <th>year</th>\n",
       "      <th>prov_code</th>\n",
       "      <th>prov_name_en</th>\n",
       "      <th>prov_area_code</th>\n",
       "      <th>prov_type</th>\n",
       "      <th>Province</th>\n",
       "      <th>geometry</th>\n",
       "    </tr>\n",
       "  </thead>\n",
       "  <tbody>\n",
       "    <tr>\n",
       "      <th>0</th>\n",
       "      <td>{'lon': -114.51101438986483, 'lat': 55.1689029...</td>\n",
       "      <td>2021</td>\n",
       "      <td>[48]</td>\n",
       "      <td>[Alberta]</td>\n",
       "      <td>CAN</td>\n",
       "      <td>province</td>\n",
       "      <td>Alberta</td>\n",
       "      <td>POLYGON ((-110.00502 48.99970, -110.00449 49.5...</td>\n",
       "    </tr>\n",
       "    <tr>\n",
       "      <th>1</th>\n",
       "      <td>{'lon': -97.43375328505664, 'lat': 54.93018410...</td>\n",
       "      <td>2021</td>\n",
       "      <td>[46]</td>\n",
       "      <td>[Manitoba]</td>\n",
       "      <td>CAN</td>\n",
       "      <td>province</td>\n",
       "      <td>Manitoba</td>\n",
       "      <td>POLYGON ((-94.82808 60.00000, -95.32500 60.000...</td>\n",
       "    </tr>\n",
       "    <tr>\n",
       "      <th>2</th>\n",
       "      <td>{'lon': -135.51007960983821, 'lat': 63.6304438...</td>\n",
       "      <td>2021</td>\n",
       "      <td>[60]</td>\n",
       "      <td>[Yukon]</td>\n",
       "      <td>CAN</td>\n",
       "      <td>territory / territoire</td>\n",
       "      <td>Yukon</td>\n",
       "      <td>MULTIPOLYGON (((-139.13388 69.63737, -139.2478...</td>\n",
       "    </tr>\n",
       "    <tr>\n",
       "      <th>3</th>\n",
       "      <td>{'lon': -60.51575069823122, 'lat': 52.88843621...</td>\n",
       "      <td>2021</td>\n",
       "      <td>[10]</td>\n",
       "      <td>[Newfoundland and Labrador]</td>\n",
       "      <td>CAN</td>\n",
       "      <td>province</td>\n",
       "      <td>Newfoundland and Labrador</td>\n",
       "      <td>MULTIPOLYGON (((-53.63678 48.87151, -53.67894 ...</td>\n",
       "    </tr>\n",
       "    <tr>\n",
       "      <th>4</th>\n",
       "      <td>{'lon': -66.37667726184117, 'lat': 46.61898879...</td>\n",
       "      <td>2021</td>\n",
       "      <td>[13]</td>\n",
       "      <td>[New Brunswick]</td>\n",
       "      <td>CAN</td>\n",
       "      <td>province</td>\n",
       "      <td>Nouveau-Brunswick</td>\n",
       "      <td>MULTIPOLYGON (((-66.93908 45.02470, -67.01600 ...</td>\n",
       "    </tr>\n",
       "    <tr>\n",
       "      <th>5</th>\n",
       "      <td>{'lon': -105.89075902236681, 'lat': 54.4167141...</td>\n",
       "      <td>2021</td>\n",
       "      <td>[47]</td>\n",
       "      <td>[Saskatchewan]</td>\n",
       "      <td>CAN</td>\n",
       "      <td>province</td>\n",
       "      <td>Saskatchewan</td>\n",
       "      <td>POLYGON ((-102.00000 60.00000, -102.75000 60.0...</td>\n",
       "    </tr>\n",
       "    <tr>\n",
       "      <th>6</th>\n",
       "      <td>{'lon': -63.32450309629852, 'lat': 45.15131558...</td>\n",
       "      <td>2021</td>\n",
       "      <td>[12]</td>\n",
       "      <td>[Nova Scotia]</td>\n",
       "      <td>CAN</td>\n",
       "      <td>province</td>\n",
       "      <td>Nova Scotia</td>\n",
       "      <td>MULTIPOLYGON (((-65.60612 43.51377, -65.65127 ...</td>\n",
       "    </tr>\n",
       "    <tr>\n",
       "      <th>7</th>\n",
       "      <td>{'lon': -118.98262958354398, 'lat': 66.3689231...</td>\n",
       "      <td>2021</td>\n",
       "      <td>[61]</td>\n",
       "      <td>[Northwest Territories]</td>\n",
       "      <td>CAN</td>\n",
       "      <td>territory / territoire</td>\n",
       "      <td>Northwest Territories</td>\n",
       "      <td>MULTIPOLYGON (((-109.83296 75.93393, -110.0324...</td>\n",
       "    </tr>\n",
       "    <tr>\n",
       "      <th>8</th>\n",
       "      <td>{'lon': -63.24228135586117, 'lat': 46.38954858...</td>\n",
       "      <td>2021</td>\n",
       "      <td>[11]</td>\n",
       "      <td>[Prince Edward Island]</td>\n",
       "      <td>CAN</td>\n",
       "      <td>province</td>\n",
       "      <td>Prince Edward Island</td>\n",
       "      <td>POLYGON ((-61.98606 46.46286, -62.14666 46.484...</td>\n",
       "    </tr>\n",
       "    <tr>\n",
       "      <th>9</th>\n",
       "      <td>{'lon': -88.8416338799438, 'lat': 71.041389444...</td>\n",
       "      <td>2021</td>\n",
       "      <td>[62]</td>\n",
       "      <td>[Nunavut]</td>\n",
       "      <td>CAN</td>\n",
       "      <td>territory / territoire</td>\n",
       "      <td>Nunavut</td>\n",
       "      <td>MULTIPOLYGON (((-106.67059 73.67679, -106.8352...</td>\n",
       "    </tr>\n",
       "    <tr>\n",
       "      <th>10</th>\n",
       "      <td>{'lon': -71.78624104931967, 'lat': 53.39528349...</td>\n",
       "      <td>2021</td>\n",
       "      <td>[24]</td>\n",
       "      <td>[Quebec]</td>\n",
       "      <td>CAN</td>\n",
       "      <td>province</td>\n",
       "      <td>Quebec</td>\n",
       "      <td>MULTIPOLYGON (((-73.86407 45.51852, -73.94004 ...</td>\n",
       "    </tr>\n",
       "    <tr>\n",
       "      <th>11</th>\n",
       "      <td>{'lon': -86.0409603890758, 'lat': 50.452667579...</td>\n",
       "      <td>2021</td>\n",
       "      <td>[35]</td>\n",
       "      <td>[Ontario]</td>\n",
       "      <td>CAN</td>\n",
       "      <td>province</td>\n",
       "      <td>Ontario</td>\n",
       "      <td>MULTIPOLYGON (((-79.91454 44.99301, -79.91794 ...</td>\n",
       "    </tr>\n",
       "    <tr>\n",
       "      <th>12</th>\n",
       "      <td>{'lon': -124.7656381299199, 'lat': 54.75518309...</td>\n",
       "      <td>2021</td>\n",
       "      <td>[59]</td>\n",
       "      <td>[British Columbia]</td>\n",
       "      <td>CAN</td>\n",
       "      <td>province</td>\n",
       "      <td>British Columbia</td>\n",
       "      <td>MULTIPOLYGON (((-124.68935 49.54964, -124.7063...</td>\n",
       "    </tr>\n",
       "  </tbody>\n",
       "</table>\n",
       "</div>"
      ],
      "text/plain": [
       "                                         geo_point_2d  year prov_code  \\\n",
       "0   {'lon': -114.51101438986483, 'lat': 55.1689029...  2021      [48]   \n",
       "1   {'lon': -97.43375328505664, 'lat': 54.93018410...  2021      [46]   \n",
       "2   {'lon': -135.51007960983821, 'lat': 63.6304438...  2021      [60]   \n",
       "3   {'lon': -60.51575069823122, 'lat': 52.88843621...  2021      [10]   \n",
       "4   {'lon': -66.37667726184117, 'lat': 46.61898879...  2021      [13]   \n",
       "5   {'lon': -105.89075902236681, 'lat': 54.4167141...  2021      [47]   \n",
       "6   {'lon': -63.32450309629852, 'lat': 45.15131558...  2021      [12]   \n",
       "7   {'lon': -118.98262958354398, 'lat': 66.3689231...  2021      [61]   \n",
       "8   {'lon': -63.24228135586117, 'lat': 46.38954858...  2021      [11]   \n",
       "9   {'lon': -88.8416338799438, 'lat': 71.041389444...  2021      [62]   \n",
       "10  {'lon': -71.78624104931967, 'lat': 53.39528349...  2021      [24]   \n",
       "11  {'lon': -86.0409603890758, 'lat': 50.452667579...  2021      [35]   \n",
       "12  {'lon': -124.7656381299199, 'lat': 54.75518309...  2021      [59]   \n",
       "\n",
       "                   prov_name_en prov_area_code               prov_type  \\\n",
       "0                     [Alberta]            CAN                province   \n",
       "1                    [Manitoba]            CAN                province   \n",
       "2                       [Yukon]            CAN  territory / territoire   \n",
       "3   [Newfoundland and Labrador]            CAN                province   \n",
       "4               [New Brunswick]            CAN                province   \n",
       "5                [Saskatchewan]            CAN                province   \n",
       "6                 [Nova Scotia]            CAN                province   \n",
       "7       [Northwest Territories]            CAN  territory / territoire   \n",
       "8        [Prince Edward Island]            CAN                province   \n",
       "9                     [Nunavut]            CAN  territory / territoire   \n",
       "10                     [Quebec]            CAN                province   \n",
       "11                    [Ontario]            CAN                province   \n",
       "12           [British Columbia]            CAN                province   \n",
       "\n",
       "                     Province  \\\n",
       "0                     Alberta   \n",
       "1                    Manitoba   \n",
       "2                       Yukon   \n",
       "3   Newfoundland and Labrador   \n",
       "4           Nouveau-Brunswick   \n",
       "5                Saskatchewan   \n",
       "6                 Nova Scotia   \n",
       "7       Northwest Territories   \n",
       "8        Prince Edward Island   \n",
       "9                     Nunavut   \n",
       "10                     Quebec   \n",
       "11                    Ontario   \n",
       "12           British Columbia   \n",
       "\n",
       "                                             geometry  \n",
       "0   POLYGON ((-110.00502 48.99970, -110.00449 49.5...  \n",
       "1   POLYGON ((-94.82808 60.00000, -95.32500 60.000...  \n",
       "2   MULTIPOLYGON (((-139.13388 69.63737, -139.2478...  \n",
       "3   MULTIPOLYGON (((-53.63678 48.87151, -53.67894 ...  \n",
       "4   MULTIPOLYGON (((-66.93908 45.02470, -67.01600 ...  \n",
       "5   POLYGON ((-102.00000 60.00000, -102.75000 60.0...  \n",
       "6   MULTIPOLYGON (((-65.60612 43.51377, -65.65127 ...  \n",
       "7   MULTIPOLYGON (((-109.83296 75.93393, -110.0324...  \n",
       "8   POLYGON ((-61.98606 46.46286, -62.14666 46.484...  \n",
       "9   MULTIPOLYGON (((-106.67059 73.67679, -106.8352...  \n",
       "10  MULTIPOLYGON (((-73.86407 45.51852, -73.94004 ...  \n",
       "11  MULTIPOLYGON (((-79.91454 44.99301, -79.91794 ...  \n",
       "12  MULTIPOLYGON (((-124.68935 49.54964, -124.7063...  "
      ]
     },
     "execution_count": 15,
     "metadata": {},
     "output_type": "execute_result"
    }
   ],
   "source": [
    "prov_data = gpd.read_file('https://raw.githubusercontent.com/callysto/data-files/main/Science/ClimateAcrossProvinces/geopandas.geojson')\n",
    "\n",
    "prov_data.prov_name_fr.replace(\n",
    "    {\n",
    "        'Alberta': 'Alberta',\n",
    "        'Manitoba': 'Manitoba',\n",
    "        'Yukon': 'Yukon',\n",
    "        'Terre-Neuve-et-Labrador': 'Newfoundland and Labrador',\n",
    "        'Nouvelle-Écosse': 'Nova Scotia',\n",
    "        'Territoires du Nord-Ouest': 'Northwest Territories',\n",
    "        'Île-du-Prince-Édouard': 'Prince Edward Island',\n",
    "        'Nunavut': 'Nunavut',\n",
    "        'Québec': 'Quebec',\n",
    "        'Ontario': 'Ontario',\n",
    "        'Colombie-Britannique': 'British Columbia'\n",
    "    },\n",
    "    inplace=True\n",
    ")\n",
    "\n",
    "prov_data.rename(columns={'prov_name_fr': \"Province\"}, inplace=True)  \n",
    "prov_data"
   ]
  },
  {
   "cell_type": "markdown",
   "metadata": {},
   "source": [
    "Now that we've properly cleaned our dataframe, we will merge our two dataframes. Don't worry about the particular details on why this is being done; it's primarily for coding purposes to prepare for a future visualization."
   ]
  },
  {
   "cell_type": "code",
   "execution_count": 16,
   "metadata": {},
   "outputs": [
    {
     "data": {
      "text/html": [
       "<div>\n",
       "<style scoped>\n",
       "    .dataframe tbody tr th:only-of-type {\n",
       "        vertical-align: middle;\n",
       "    }\n",
       "\n",
       "    .dataframe tbody tr th {\n",
       "        vertical-align: top;\n",
       "    }\n",
       "\n",
       "    .dataframe thead th {\n",
       "        text-align: right;\n",
       "    }\n",
       "</style>\n",
       "<table border=\"1\" class=\"dataframe\">\n",
       "  <thead>\n",
       "    <tr style=\"text-align: right;\">\n",
       "      <th></th>\n",
       "      <th>Province</th>\n",
       "      <th>Health</th>\n",
       "      <th>Education</th>\n",
       "      <th>General public services</th>\n",
       "      <th>Social protection</th>\n",
       "      <th>Economic affairs</th>\n",
       "      <th>Other functions</th>\n",
       "      <th>geo_point_2d</th>\n",
       "      <th>year</th>\n",
       "      <th>prov_code</th>\n",
       "      <th>prov_name_en</th>\n",
       "      <th>prov_area_code</th>\n",
       "      <th>prov_type</th>\n",
       "      <th>geometry</th>\n",
       "    </tr>\n",
       "  </thead>\n",
       "  <tbody>\n",
       "    <tr>\n",
       "      <th>0</th>\n",
       "      <td>Newfoundland and Labrador</td>\n",
       "      <td>39</td>\n",
       "      <td>17</td>\n",
       "      <td>19</td>\n",
       "      <td>8</td>\n",
       "      <td>9</td>\n",
       "      <td>8</td>\n",
       "      <td>{'lon': -60.51575069823122, 'lat': 52.88843621...</td>\n",
       "      <td>2021</td>\n",
       "      <td>[10]</td>\n",
       "      <td>Newfoundland and Labrador</td>\n",
       "      <td>CAN</td>\n",
       "      <td>province</td>\n",
       "      <td>MULTIPOLYGON (((-53.63678 48.87151, -53.67894 ...</td>\n",
       "    </tr>\n",
       "    <tr>\n",
       "      <th>1</th>\n",
       "      <td>Prince Edward Island</td>\n",
       "      <td>33</td>\n",
       "      <td>20</td>\n",
       "      <td>15</td>\n",
       "      <td>9</td>\n",
       "      <td>15</td>\n",
       "      <td>8</td>\n",
       "      <td>{'lon': -63.24228135586117, 'lat': 46.38954858...</td>\n",
       "      <td>2021</td>\n",
       "      <td>[11]</td>\n",
       "      <td>Prince Edward Island</td>\n",
       "      <td>CAN</td>\n",
       "      <td>province</td>\n",
       "      <td>POLYGON ((-61.98606 46.46286, -62.14666 46.484...</td>\n",
       "    </tr>\n",
       "    <tr>\n",
       "      <th>2</th>\n",
       "      <td>Nova Scotia</td>\n",
       "      <td>39</td>\n",
       "      <td>18</td>\n",
       "      <td>14</td>\n",
       "      <td>10</td>\n",
       "      <td>9</td>\n",
       "      <td>10</td>\n",
       "      <td>{'lon': -63.32450309629852, 'lat': 45.15131558...</td>\n",
       "      <td>2021</td>\n",
       "      <td>[12]</td>\n",
       "      <td>Nova Scotia</td>\n",
       "      <td>CAN</td>\n",
       "      <td>province</td>\n",
       "      <td>MULTIPOLYGON (((-65.60612 43.51377, -65.65127 ...</td>\n",
       "    </tr>\n",
       "    <tr>\n",
       "      <th>3</th>\n",
       "      <td>New Brunswick</td>\n",
       "      <td>39</td>\n",
       "      <td>18</td>\n",
       "      <td>15</td>\n",
       "      <td>8</td>\n",
       "      <td>11</td>\n",
       "      <td>9</td>\n",
       "      <td>NaN</td>\n",
       "      <td>NaN</td>\n",
       "      <td>NaN</td>\n",
       "      <td>NaN</td>\n",
       "      <td>NaN</td>\n",
       "      <td>NaN</td>\n",
       "      <td>None</td>\n",
       "    </tr>\n",
       "    <tr>\n",
       "      <th>4</th>\n",
       "      <td>Quebec</td>\n",
       "      <td>33</td>\n",
       "      <td>15</td>\n",
       "      <td>18</td>\n",
       "      <td>17</td>\n",
       "      <td>9</td>\n",
       "      <td>8</td>\n",
       "      <td>{'lon': -71.78624104931967, 'lat': 53.39528349...</td>\n",
       "      <td>2021</td>\n",
       "      <td>[24]</td>\n",
       "      <td>Quebec</td>\n",
       "      <td>CAN</td>\n",
       "      <td>province</td>\n",
       "      <td>MULTIPOLYGON (((-73.86407 45.51852, -73.94004 ...</td>\n",
       "    </tr>\n",
       "    <tr>\n",
       "      <th>5</th>\n",
       "      <td>Ontario</td>\n",
       "      <td>35</td>\n",
       "      <td>19</td>\n",
       "      <td>9</td>\n",
       "      <td>14</td>\n",
       "      <td>12</td>\n",
       "      <td>11</td>\n",
       "      <td>{'lon': -86.0409603890758, 'lat': 50.452667579...</td>\n",
       "      <td>2021</td>\n",
       "      <td>[35]</td>\n",
       "      <td>Ontario</td>\n",
       "      <td>CAN</td>\n",
       "      <td>province</td>\n",
       "      <td>MULTIPOLYGON (((-79.91454 44.99301, -79.91794 ...</td>\n",
       "    </tr>\n",
       "    <tr>\n",
       "      <th>6</th>\n",
       "      <td>Manitoba</td>\n",
       "      <td>39</td>\n",
       "      <td>18</td>\n",
       "      <td>14</td>\n",
       "      <td>12</td>\n",
       "      <td>6</td>\n",
       "      <td>11</td>\n",
       "      <td>{'lon': -97.43375328505664, 'lat': 54.93018410...</td>\n",
       "      <td>2021</td>\n",
       "      <td>[46]</td>\n",
       "      <td>Manitoba</td>\n",
       "      <td>CAN</td>\n",
       "      <td>province</td>\n",
       "      <td>POLYGON ((-94.82808 60.00000, -95.32500 60.000...</td>\n",
       "    </tr>\n",
       "    <tr>\n",
       "      <th>7</th>\n",
       "      <td>Saskatchewan</td>\n",
       "      <td>29</td>\n",
       "      <td>18</td>\n",
       "      <td>9</td>\n",
       "      <td>13</td>\n",
       "      <td>19</td>\n",
       "      <td>12</td>\n",
       "      <td>{'lon': -105.89075902236681, 'lat': 54.4167141...</td>\n",
       "      <td>2021</td>\n",
       "      <td>[47]</td>\n",
       "      <td>Saskatchewan</td>\n",
       "      <td>CAN</td>\n",
       "      <td>province</td>\n",
       "      <td>POLYGON ((-102.00000 60.00000, -102.75000 60.0...</td>\n",
       "    </tr>\n",
       "    <tr>\n",
       "      <th>8</th>\n",
       "      <td>Alberta</td>\n",
       "      <td>33</td>\n",
       "      <td>18</td>\n",
       "      <td>9</td>\n",
       "      <td>12</td>\n",
       "      <td>17</td>\n",
       "      <td>11</td>\n",
       "      <td>{'lon': -114.51101438986483, 'lat': 55.1689029...</td>\n",
       "      <td>2021</td>\n",
       "      <td>[48]</td>\n",
       "      <td>Alberta</td>\n",
       "      <td>CAN</td>\n",
       "      <td>province</td>\n",
       "      <td>POLYGON ((-110.00502 48.99970, -110.00449 49.5...</td>\n",
       "    </tr>\n",
       "    <tr>\n",
       "      <th>9</th>\n",
       "      <td>British Columbia</td>\n",
       "      <td>36</td>\n",
       "      <td>16</td>\n",
       "      <td>10</td>\n",
       "      <td>15</td>\n",
       "      <td>10</td>\n",
       "      <td>13</td>\n",
       "      <td>{'lon': -124.7656381299199, 'lat': 54.75518309...</td>\n",
       "      <td>2021</td>\n",
       "      <td>[59]</td>\n",
       "      <td>British Columbia</td>\n",
       "      <td>CAN</td>\n",
       "      <td>province</td>\n",
       "      <td>MULTIPOLYGON (((-124.68935 49.54964, -124.7063...</td>\n",
       "    </tr>\n",
       "    <tr>\n",
       "      <th>10</th>\n",
       "      <td>Yukon</td>\n",
       "      <td>25</td>\n",
       "      <td>13</td>\n",
       "      <td>13</td>\n",
       "      <td>9</td>\n",
       "      <td>21</td>\n",
       "      <td>19</td>\n",
       "      <td>{'lon': -135.51007960983821, 'lat': 63.6304438...</td>\n",
       "      <td>2021</td>\n",
       "      <td>[60]</td>\n",
       "      <td>Yukon</td>\n",
       "      <td>CAN</td>\n",
       "      <td>territory / territoire</td>\n",
       "      <td>MULTIPOLYGON (((-139.13388 69.63737, -139.2478...</td>\n",
       "    </tr>\n",
       "    <tr>\n",
       "      <th>11</th>\n",
       "      <td>Northwest Territories</td>\n",
       "      <td>30</td>\n",
       "      <td>13</td>\n",
       "      <td>16</td>\n",
       "      <td>12</td>\n",
       "      <td>14</td>\n",
       "      <td>15</td>\n",
       "      <td>{'lon': -118.98262958354398, 'lat': 66.3689231...</td>\n",
       "      <td>2021</td>\n",
       "      <td>[61]</td>\n",
       "      <td>Northwest Territories</td>\n",
       "      <td>CAN</td>\n",
       "      <td>territory / territoire</td>\n",
       "      <td>MULTIPOLYGON (((-109.83296 75.93393, -110.0324...</td>\n",
       "    </tr>\n",
       "    <tr>\n",
       "      <th>12</th>\n",
       "      <td>Nunavut</td>\n",
       "      <td>27</td>\n",
       "      <td>12</td>\n",
       "      <td>19</td>\n",
       "      <td>12</td>\n",
       "      <td>16</td>\n",
       "      <td>14</td>\n",
       "      <td>{'lon': -88.8416338799438, 'lat': 71.041389444...</td>\n",
       "      <td>2021</td>\n",
       "      <td>[62]</td>\n",
       "      <td>Nunavut</td>\n",
       "      <td>CAN</td>\n",
       "      <td>territory / territoire</td>\n",
       "      <td>MULTIPOLYGON (((-106.67059 73.67679, -106.8352...</td>\n",
       "    </tr>\n",
       "  </tbody>\n",
       "</table>\n",
       "</div>"
      ],
      "text/plain": [
       "                     Province  Health  Education  General public services  \\\n",
       "0   Newfoundland and Labrador      39         17                       19   \n",
       "1        Prince Edward Island      33         20                       15   \n",
       "2                 Nova Scotia      39         18                       14   \n",
       "3               New Brunswick      39         18                       15   \n",
       "4                      Quebec      33         15                       18   \n",
       "5                     Ontario      35         19                        9   \n",
       "6                    Manitoba      39         18                       14   \n",
       "7                Saskatchewan      29         18                        9   \n",
       "8                     Alberta      33         18                        9   \n",
       "9            British Columbia      36         16                       10   \n",
       "10                      Yukon      25         13                       13   \n",
       "11      Northwest Territories      30         13                       16   \n",
       "12                    Nunavut      27         12                       19   \n",
       "\n",
       "    Social protection  Economic affairs  Other functions  \\\n",
       "0                   8                 9                8   \n",
       "1                   9                15                8   \n",
       "2                  10                 9               10   \n",
       "3                   8                11                9   \n",
       "4                  17                 9                8   \n",
       "5                  14                12               11   \n",
       "6                  12                 6               11   \n",
       "7                  13                19               12   \n",
       "8                  12                17               11   \n",
       "9                  15                10               13   \n",
       "10                  9                21               19   \n",
       "11                 12                14               15   \n",
       "12                 12                16               14   \n",
       "\n",
       "                                         geo_point_2d  year prov_code  \\\n",
       "0   {'lon': -60.51575069823122, 'lat': 52.88843621...  2021      [10]   \n",
       "1   {'lon': -63.24228135586117, 'lat': 46.38954858...  2021      [11]   \n",
       "2   {'lon': -63.32450309629852, 'lat': 45.15131558...  2021      [12]   \n",
       "3                                                 NaN   NaN       NaN   \n",
       "4   {'lon': -71.78624104931967, 'lat': 53.39528349...  2021      [24]   \n",
       "5   {'lon': -86.0409603890758, 'lat': 50.452667579...  2021      [35]   \n",
       "6   {'lon': -97.43375328505664, 'lat': 54.93018410...  2021      [46]   \n",
       "7   {'lon': -105.89075902236681, 'lat': 54.4167141...  2021      [47]   \n",
       "8   {'lon': -114.51101438986483, 'lat': 55.1689029...  2021      [48]   \n",
       "9   {'lon': -124.7656381299199, 'lat': 54.75518309...  2021      [59]   \n",
       "10  {'lon': -135.51007960983821, 'lat': 63.6304438...  2021      [60]   \n",
       "11  {'lon': -118.98262958354398, 'lat': 66.3689231...  2021      [61]   \n",
       "12  {'lon': -88.8416338799438, 'lat': 71.041389444...  2021      [62]   \n",
       "\n",
       "                 prov_name_en prov_area_code               prov_type  \\\n",
       "0   Newfoundland and Labrador            CAN                province   \n",
       "1        Prince Edward Island            CAN                province   \n",
       "2                 Nova Scotia            CAN                province   \n",
       "3                         NaN            NaN                     NaN   \n",
       "4                      Quebec            CAN                province   \n",
       "5                     Ontario            CAN                province   \n",
       "6                    Manitoba            CAN                province   \n",
       "7                Saskatchewan            CAN                province   \n",
       "8                     Alberta            CAN                province   \n",
       "9            British Columbia            CAN                province   \n",
       "10                      Yukon            CAN  territory / territoire   \n",
       "11      Northwest Territories            CAN  territory / territoire   \n",
       "12                    Nunavut            CAN  territory / territoire   \n",
       "\n",
       "                                             geometry  \n",
       "0   MULTIPOLYGON (((-53.63678 48.87151, -53.67894 ...  \n",
       "1   POLYGON ((-61.98606 46.46286, -62.14666 46.484...  \n",
       "2   MULTIPOLYGON (((-65.60612 43.51377, -65.65127 ...  \n",
       "3                                                None  \n",
       "4   MULTIPOLYGON (((-73.86407 45.51852, -73.94004 ...  \n",
       "5   MULTIPOLYGON (((-79.91454 44.99301, -79.91794 ...  \n",
       "6   POLYGON ((-94.82808 60.00000, -95.32500 60.000...  \n",
       "7   POLYGON ((-102.00000 60.00000, -102.75000 60.0...  \n",
       "8   POLYGON ((-110.00502 48.99970, -110.00449 49.5...  \n",
       "9   MULTIPOLYGON (((-124.68935 49.54964, -124.7063...  \n",
       "10  MULTIPOLYGON (((-139.13388 69.63737, -139.2478...  \n",
       "11  MULTIPOLYGON (((-109.83296 75.93393, -110.0324...  \n",
       "12  MULTIPOLYGON (((-106.67059 73.67679, -106.8352...  "
      ]
     },
     "execution_count": 16,
     "metadata": {},
     "output_type": "execute_result"
    }
   ],
   "source": [
    "prov_data['prov_name_en'] = prov_data['prov_name_en'].apply(lambda x: ''.join(map(str, x)))\n",
    "\n",
    "merged_data = share_of_expenses.merge(prov_data, left_on='Province', right_on='Province', how='left')\n",
    "merged_data"
   ]
  },
  {
   "cell_type": "markdown",
   "metadata": {},
   "source": [
    "Now that we've obtained a merged dataframe, we can visualize the different provincial spending habits via a folium map! By using the top tab called *Column*, you can select a specific column to visualize. Provinces that are deeper in green represent a higher allocation of government budget, while lighter colours represent the opposite. "
   ]
  },
  {
   "cell_type": "code",
   "execution_count": 25,
   "metadata": {},
   "outputs": [
    {
     "data": {
      "application/vnd.jupyter.widget-view+json": {
       "model_id": "41f0e73b74814105aafee7230d7fa6b6",
       "version_major": 2,
       "version_minor": 0
      },
      "text/plain": [
       "Dropdown(description='Column:', options=('Health', 'Education', 'General public services', 'Social protection'…"
      ]
     },
     "metadata": {},
     "output_type": "display_data"
    },
    {
     "data": {
      "application/vnd.jupyter.widget-view+json": {
       "model_id": "3945f21dbdf6462fb0959e80c5732678",
       "version_major": 2,
       "version_minor": 0
      },
      "text/plain": [
       "Output(layout=Layout(border_bottom='1px solid black', border_left='1px solid black', border_right='1px solid b…"
      ]
     },
     "execution_count": 25,
     "metadata": {},
     "output_type": "execute_result"
    }
   ],
   "source": [
    "spendingbyprov = ipywidgets.Output(layout={'border': '1px solid black'})\n",
    "\n",
    "column_names = merged_data.columns[1:7].tolist()\n",
    "dropdown_options = ipywidgets.Dropdown(\n",
    "    options=column_names,\n",
    "    value=column_names[0],\n",
    "    description='Column:',\n",
    "    disabled=False\n",
    ")\n",
    "\n",
    "def update_choropleth(change):\n",
    "    spendingbyprov.clear_output()\n",
    "    with spendingbyprov:\n",
    "        m = folium.Map(location=[60, -85], zoom_start=4)\n",
    "        folium.Choropleth(\n",
    "            geo_data=prov_data,\n",
    "            data=merged_data,\n",
    "            columns=['prov_name_en', dropdown_options.value],  \n",
    "            key_on='feature.properties.prov_name_en',  \n",
    "            fill_color='YlGn',\n",
    "            fill_opacity=0.7,\n",
    "            line_opacity=0.2,\n",
    "            legend_name=f'Spending on {dropdown_options.value} by Province',\n",
    "        ).add_to(m)\n",
    "        display(m)\n",
    "\n",
    "dropdown_options.observe(update_choropleth, names='value')\n",
    "display(dropdown_options)\n",
    "update_choropleth({'new': column_names[0]})\n",
    "\n",
    "spendingbyprov"
   ]
  },
  {
   "cell_type": "markdown",
   "metadata": {},
   "source": [
    "In the final section of our notebook, we'll be visualizing differences in allocated dollars of federal and provincial governments. We'll also be performing another form of *data-cleaning* in our dataframe called `federal_provincial` by converting all our dollar amounts into valid numbers for analysis later."
   ]
  },
  {
   "cell_type": "code",
   "execution_count": 18,
   "metadata": {},
   "outputs": [
    {
     "data": {
      "text/html": [
       "<div>\n",
       "<style scoped>\n",
       "    .dataframe tbody tr th:only-of-type {\n",
       "        vertical-align: middle;\n",
       "    }\n",
       "\n",
       "    .dataframe tbody tr th {\n",
       "        vertical-align: top;\n",
       "    }\n",
       "\n",
       "    .dataframe thead th {\n",
       "        text-align: right;\n",
       "    }\n",
       "</style>\n",
       "<table border=\"1\" class=\"dataframe\">\n",
       "  <thead>\n",
       "    <tr style=\"text-align: right;\">\n",
       "      <th></th>\n",
       "      <th>Canadian Classification of Functions of Government (CCOFOG)</th>\n",
       "      <th>2008</th>\n",
       "      <th>2009</th>\n",
       "      <th>2010</th>\n",
       "      <th>2011</th>\n",
       "      <th>2012</th>\n",
       "      <th>2013</th>\n",
       "      <th>2014</th>\n",
       "      <th>2015</th>\n",
       "      <th>2016</th>\n",
       "      <th>2017</th>\n",
       "      <th>2018</th>\n",
       "      <th>2019</th>\n",
       "      <th>2020</th>\n",
       "      <th>2021</th>\n",
       "      <th>Public sector components</th>\n",
       "    </tr>\n",
       "  </thead>\n",
       "  <tbody>\n",
       "    <tr>\n",
       "      <th>0</th>\n",
       "      <td>General public services</td>\n",
       "      <td>97511.0</td>\n",
       "      <td>97414.0</td>\n",
       "      <td>105765.0</td>\n",
       "      <td>106642.0</td>\n",
       "      <td>104795.0</td>\n",
       "      <td>104685.0</td>\n",
       "      <td>104394.0</td>\n",
       "      <td>106415.0</td>\n",
       "      <td>107110.0</td>\n",
       "      <td>113692.0</td>\n",
       "      <td>121319.0</td>\n",
       "      <td>128317.0</td>\n",
       "      <td>130723.0</td>\n",
       "      <td>143512.0</td>\n",
       "      <td>Consolidated Canadian general government</td>\n",
       "    </tr>\n",
       "    <tr>\n",
       "      <th>1</th>\n",
       "      <td>Defence</td>\n",
       "      <td>15805.0</td>\n",
       "      <td>16357.0</td>\n",
       "      <td>15194.0</td>\n",
       "      <td>16710.0</td>\n",
       "      <td>16506.0</td>\n",
       "      <td>16210.0</td>\n",
       "      <td>15654.0</td>\n",
       "      <td>15773.0</td>\n",
       "      <td>15962.0</td>\n",
       "      <td>17668.0</td>\n",
       "      <td>16925.0</td>\n",
       "      <td>18209.0</td>\n",
       "      <td>21580.0</td>\n",
       "      <td>18622.0</td>\n",
       "      <td>Consolidated Canadian general government</td>\n",
       "    </tr>\n",
       "    <tr>\n",
       "      <th>2</th>\n",
       "      <td>Public order and safety</td>\n",
       "      <td>27167.0</td>\n",
       "      <td>28915.0</td>\n",
       "      <td>29569.0</td>\n",
       "      <td>31243.0</td>\n",
       "      <td>31460.0</td>\n",
       "      <td>32633.0</td>\n",
       "      <td>33609.0</td>\n",
       "      <td>33814.0</td>\n",
       "      <td>34703.0</td>\n",
       "      <td>36344.0</td>\n",
       "      <td>37614.0</td>\n",
       "      <td>40517.0</td>\n",
       "      <td>40528.0</td>\n",
       "      <td>43408.0</td>\n",
       "      <td>Consolidated Canadian general government</td>\n",
       "    </tr>\n",
       "    <tr>\n",
       "      <th>3</th>\n",
       "      <td>Economic affairs</td>\n",
       "      <td>46470.0</td>\n",
       "      <td>49274.0</td>\n",
       "      <td>51220.0</td>\n",
       "      <td>52998.0</td>\n",
       "      <td>53321.0</td>\n",
       "      <td>52867.0</td>\n",
       "      <td>53670.0</td>\n",
       "      <td>53249.0</td>\n",
       "      <td>54745.0</td>\n",
       "      <td>57730.0</td>\n",
       "      <td>67694.0</td>\n",
       "      <td>76104.0</td>\n",
       "      <td>162153.0</td>\n",
       "      <td>110569.0</td>\n",
       "      <td>Consolidated Canadian general government</td>\n",
       "    </tr>\n",
       "    <tr>\n",
       "      <th>4</th>\n",
       "      <td>Environmental protection</td>\n",
       "      <td>9722.0</td>\n",
       "      <td>10739.0</td>\n",
       "      <td>11724.0</td>\n",
       "      <td>11871.0</td>\n",
       "      <td>11709.0</td>\n",
       "      <td>11312.0</td>\n",
       "      <td>11705.0</td>\n",
       "      <td>13708.0</td>\n",
       "      <td>14699.0</td>\n",
       "      <td>14837.0</td>\n",
       "      <td>15760.0</td>\n",
       "      <td>16424.0</td>\n",
       "      <td>16625.0</td>\n",
       "      <td>16905.0</td>\n",
       "      <td>Consolidated Canadian general government</td>\n",
       "    </tr>\n",
       "    <tr>\n",
       "      <th>5</th>\n",
       "      <td>Housing and community amenities</td>\n",
       "      <td>7756.0</td>\n",
       "      <td>8252.0</td>\n",
       "      <td>8381.0</td>\n",
       "      <td>8415.0</td>\n",
       "      <td>8393.0</td>\n",
       "      <td>8606.0</td>\n",
       "      <td>9226.0</td>\n",
       "      <td>9359.0</td>\n",
       "      <td>10767.0</td>\n",
       "      <td>10865.0</td>\n",
       "      <td>10107.0</td>\n",
       "      <td>10838.0</td>\n",
       "      <td>11110.0</td>\n",
       "      <td>11706.0</td>\n",
       "      <td>Consolidated Canadian general government</td>\n",
       "    </tr>\n",
       "    <tr>\n",
       "      <th>6</th>\n",
       "      <td>Health</td>\n",
       "      <td>125458.0</td>\n",
       "      <td>133246.0</td>\n",
       "      <td>138998.0</td>\n",
       "      <td>145819.0</td>\n",
       "      <td>149139.0</td>\n",
       "      <td>154292.0</td>\n",
       "      <td>159331.0</td>\n",
       "      <td>165025.0</td>\n",
       "      <td>170053.0</td>\n",
       "      <td>175947.0</td>\n",
       "      <td>180593.0</td>\n",
       "      <td>188186.0</td>\n",
       "      <td>214820.0</td>\n",
       "      <td>228759.0</td>\n",
       "      <td>Consolidated Canadian general government</td>\n",
       "    </tr>\n",
       "    <tr>\n",
       "      <th>7</th>\n",
       "      <td>Recreation, culture and religion</td>\n",
       "      <td>14547.0</td>\n",
       "      <td>14527.0</td>\n",
       "      <td>14796.0</td>\n",
       "      <td>15707.0</td>\n",
       "      <td>16610.0</td>\n",
       "      <td>16679.0</td>\n",
       "      <td>16335.0</td>\n",
       "      <td>17423.0</td>\n",
       "      <td>17545.0</td>\n",
       "      <td>18599.0</td>\n",
       "      <td>19126.0</td>\n",
       "      <td>19804.0</td>\n",
       "      <td>19810.0</td>\n",
       "      <td>19652.0</td>\n",
       "      <td>Consolidated Canadian general government</td>\n",
       "    </tr>\n",
       "    <tr>\n",
       "      <th>8</th>\n",
       "      <td>Education</td>\n",
       "      <td>72348.0</td>\n",
       "      <td>76766.0</td>\n",
       "      <td>80145.0</td>\n",
       "      <td>83711.0</td>\n",
       "      <td>85743.0</td>\n",
       "      <td>88536.0</td>\n",
       "      <td>90489.0</td>\n",
       "      <td>91762.0</td>\n",
       "      <td>94463.0</td>\n",
       "      <td>101374.0</td>\n",
       "      <td>106575.0</td>\n",
       "      <td>109645.0</td>\n",
       "      <td>110909.0</td>\n",
       "      <td>115292.0</td>\n",
       "      <td>Consolidated Canadian general government</td>\n",
       "    </tr>\n",
       "    <tr>\n",
       "      <th>9</th>\n",
       "      <td>Social protection</td>\n",
       "      <td>123892.0</td>\n",
       "      <td>134802.0</td>\n",
       "      <td>137155.0</td>\n",
       "      <td>140713.0</td>\n",
       "      <td>141348.0</td>\n",
       "      <td>144774.0</td>\n",
       "      <td>149281.0</td>\n",
       "      <td>157582.0</td>\n",
       "      <td>167464.0</td>\n",
       "      <td>175456.0</td>\n",
       "      <td>184106.0</td>\n",
       "      <td>191659.0</td>\n",
       "      <td>323063.0</td>\n",
       "      <td>261042.0</td>\n",
       "      <td>Consolidated Canadian general government</td>\n",
       "    </tr>\n",
       "    <tr>\n",
       "      <th>10</th>\n",
       "      <td>General public services</td>\n",
       "      <td>46647.0</td>\n",
       "      <td>47806.0</td>\n",
       "      <td>54278.0</td>\n",
       "      <td>57036.0</td>\n",
       "      <td>54502.0</td>\n",
       "      <td>55877.0</td>\n",
       "      <td>56565.0</td>\n",
       "      <td>58617.0</td>\n",
       "      <td>62775.0</td>\n",
       "      <td>66080.0</td>\n",
       "      <td>69574.0</td>\n",
       "      <td>73263.0</td>\n",
       "      <td>73165.0</td>\n",
       "      <td>76258.0</td>\n",
       "      <td>Consolidated provincial-territorial and local ...</td>\n",
       "    </tr>\n",
       "    <tr>\n",
       "      <th>11</th>\n",
       "      <td>Defence</td>\n",
       "      <td>0.0</td>\n",
       "      <td>0.0</td>\n",
       "      <td>0.0</td>\n",
       "      <td>0.0</td>\n",
       "      <td>0.0</td>\n",
       "      <td>0.0</td>\n",
       "      <td>0.0</td>\n",
       "      <td>0.0</td>\n",
       "      <td>0.0</td>\n",
       "      <td>0.0</td>\n",
       "      <td>0.0</td>\n",
       "      <td>0.0</td>\n",
       "      <td>0.0</td>\n",
       "      <td>0.0</td>\n",
       "      <td>Consolidated provincial-territorial and local ...</td>\n",
       "    </tr>\n",
       "    <tr>\n",
       "      <th>12</th>\n",
       "      <td>Public order and safety</td>\n",
       "      <td>19867.0</td>\n",
       "      <td>20812.0</td>\n",
       "      <td>21526.0</td>\n",
       "      <td>22845.0</td>\n",
       "      <td>22984.0</td>\n",
       "      <td>23805.0</td>\n",
       "      <td>24773.0</td>\n",
       "      <td>25271.0</td>\n",
       "      <td>25971.0</td>\n",
       "      <td>26967.0</td>\n",
       "      <td>27397.0</td>\n",
       "      <td>28953.0</td>\n",
       "      <td>29318.0</td>\n",
       "      <td>30521.0</td>\n",
       "      <td>Consolidated provincial-territorial and local ...</td>\n",
       "    </tr>\n",
       "    <tr>\n",
       "      <th>13</th>\n",
       "      <td>Economic affairs</td>\n",
       "      <td>35741.0</td>\n",
       "      <td>37694.0</td>\n",
       "      <td>39481.0</td>\n",
       "      <td>41323.0</td>\n",
       "      <td>42169.0</td>\n",
       "      <td>42403.0</td>\n",
       "      <td>44227.0</td>\n",
       "      <td>44519.0</td>\n",
       "      <td>45453.0</td>\n",
       "      <td>47650.0</td>\n",
       "      <td>54814.0</td>\n",
       "      <td>56983.0</td>\n",
       "      <td>63392.0</td>\n",
       "      <td>73506.0</td>\n",
       "      <td>Consolidated provincial-territorial and local ...</td>\n",
       "    </tr>\n",
       "    <tr>\n",
       "      <th>14</th>\n",
       "      <td>Environmental protection</td>\n",
       "      <td>7846.0</td>\n",
       "      <td>8615.0</td>\n",
       "      <td>9047.0</td>\n",
       "      <td>9154.0</td>\n",
       "      <td>9574.0</td>\n",
       "      <td>9418.0</td>\n",
       "      <td>9808.0</td>\n",
       "      <td>10298.0</td>\n",
       "      <td>11261.0</td>\n",
       "      <td>10991.0</td>\n",
       "      <td>11649.0</td>\n",
       "      <td>11784.0</td>\n",
       "      <td>11790.0</td>\n",
       "      <td>12301.0</td>\n",
       "      <td>Consolidated provincial-territorial and local ...</td>\n",
       "    </tr>\n",
       "    <tr>\n",
       "      <th>15</th>\n",
       "      <td>Housing and community amenities</td>\n",
       "      <td>6195.0</td>\n",
       "      <td>6550.0</td>\n",
       "      <td>6795.0</td>\n",
       "      <td>7093.0</td>\n",
       "      <td>7041.0</td>\n",
       "      <td>7265.0</td>\n",
       "      <td>7552.0</td>\n",
       "      <td>7781.0</td>\n",
       "      <td>8320.0</td>\n",
       "      <td>7983.0</td>\n",
       "      <td>8352.0</td>\n",
       "      <td>8799.0</td>\n",
       "      <td>8673.0</td>\n",
       "      <td>9008.0</td>\n",
       "      <td>Consolidated provincial-territorial and local ...</td>\n",
       "    </tr>\n",
       "    <tr>\n",
       "      <th>16</th>\n",
       "      <td>Health</td>\n",
       "      <td>120475.0</td>\n",
       "      <td>127787.0</td>\n",
       "      <td>133771.0</td>\n",
       "      <td>140519.0</td>\n",
       "      <td>143994.0</td>\n",
       "      <td>148962.0</td>\n",
       "      <td>154141.0</td>\n",
       "      <td>159764.0</td>\n",
       "      <td>164465.0</td>\n",
       "      <td>169742.0</td>\n",
       "      <td>175332.0</td>\n",
       "      <td>182812.0</td>\n",
       "      <td>206905.0</td>\n",
       "      <td>216255.0</td>\n",
       "      <td>Consolidated provincial-territorial and local ...</td>\n",
       "    </tr>\n",
       "    <tr>\n",
       "      <th>17</th>\n",
       "      <td>Recreation, culture and religion</td>\n",
       "      <td>10216.0</td>\n",
       "      <td>10207.0</td>\n",
       "      <td>10284.0</td>\n",
       "      <td>10906.0</td>\n",
       "      <td>11830.0</td>\n",
       "      <td>11841.0</td>\n",
       "      <td>11825.0</td>\n",
       "      <td>13173.0</td>\n",
       "      <td>12783.0</td>\n",
       "      <td>13500.0</td>\n",
       "      <td>14049.0</td>\n",
       "      <td>14472.0</td>\n",
       "      <td>14292.0</td>\n",
       "      <td>14110.0</td>\n",
       "      <td>Consolidated provincial-territorial and local ...</td>\n",
       "    </tr>\n",
       "    <tr>\n",
       "      <th>18</th>\n",
       "      <td>Education</td>\n",
       "      <td>69578.0</td>\n",
       "      <td>73309.0</td>\n",
       "      <td>76621.0</td>\n",
       "      <td>80226.0</td>\n",
       "      <td>82128.0</td>\n",
       "      <td>84859.0</td>\n",
       "      <td>86817.0</td>\n",
       "      <td>88021.0</td>\n",
       "      <td>89901.0</td>\n",
       "      <td>96111.0</td>\n",
       "      <td>100057.0</td>\n",
       "      <td>102531.0</td>\n",
       "      <td>102302.0</td>\n",
       "      <td>106340.0</td>\n",
       "      <td>Consolidated provincial-territorial and local ...</td>\n",
       "    </tr>\n",
       "    <tr>\n",
       "      <th>19</th>\n",
       "      <td>Social protection</td>\n",
       "      <td>52984.0</td>\n",
       "      <td>56259.0</td>\n",
       "      <td>58668.0</td>\n",
       "      <td>61075.0</td>\n",
       "      <td>59715.0</td>\n",
       "      <td>61089.0</td>\n",
       "      <td>61383.0</td>\n",
       "      <td>62458.0</td>\n",
       "      <td>63865.0</td>\n",
       "      <td>67374.0</td>\n",
       "      <td>71917.0</td>\n",
       "      <td>75496.0</td>\n",
       "      <td>82638.0</td>\n",
       "      <td>88460.0</td>\n",
       "      <td>Consolidated provincial-territorial and local ...</td>\n",
       "    </tr>\n",
       "  </tbody>\n",
       "</table>\n",
       "</div>"
      ],
      "text/plain": [
       "   Canadian Classification of Functions of Government (CCOFOG)       2008  \\\n",
       "0                             General public services             97511.0   \n",
       "1                                             Defence             15805.0   \n",
       "2                             Public order and safety             27167.0   \n",
       "3                                    Economic affairs             46470.0   \n",
       "4                            Environmental protection              9722.0   \n",
       "5                     Housing and community amenities              7756.0   \n",
       "6                                              Health            125458.0   \n",
       "7                    Recreation, culture and religion             14547.0   \n",
       "8                                           Education             72348.0   \n",
       "9                                   Social protection            123892.0   \n",
       "10                            General public services             46647.0   \n",
       "11                                            Defence                 0.0   \n",
       "12                            Public order and safety             19867.0   \n",
       "13                                   Economic affairs             35741.0   \n",
       "14                           Environmental protection              7846.0   \n",
       "15                    Housing and community amenities              6195.0   \n",
       "16                                             Health            120475.0   \n",
       "17                   Recreation, culture and religion             10216.0   \n",
       "18                                          Education             69578.0   \n",
       "19                                  Social protection             52984.0   \n",
       "\n",
       "        2009      2010      2011      2012      2013      2014      2015  \\\n",
       "0    97414.0  105765.0  106642.0  104795.0  104685.0  104394.0  106415.0   \n",
       "1    16357.0   15194.0   16710.0   16506.0   16210.0   15654.0   15773.0   \n",
       "2    28915.0   29569.0   31243.0   31460.0   32633.0   33609.0   33814.0   \n",
       "3    49274.0   51220.0   52998.0   53321.0   52867.0   53670.0   53249.0   \n",
       "4    10739.0   11724.0   11871.0   11709.0   11312.0   11705.0   13708.0   \n",
       "5     8252.0    8381.0    8415.0    8393.0    8606.0    9226.0    9359.0   \n",
       "6   133246.0  138998.0  145819.0  149139.0  154292.0  159331.0  165025.0   \n",
       "7    14527.0   14796.0   15707.0   16610.0   16679.0   16335.0   17423.0   \n",
       "8    76766.0   80145.0   83711.0   85743.0   88536.0   90489.0   91762.0   \n",
       "9   134802.0  137155.0  140713.0  141348.0  144774.0  149281.0  157582.0   \n",
       "10   47806.0   54278.0   57036.0   54502.0   55877.0   56565.0   58617.0   \n",
       "11       0.0       0.0       0.0       0.0       0.0       0.0       0.0   \n",
       "12   20812.0   21526.0   22845.0   22984.0   23805.0   24773.0   25271.0   \n",
       "13   37694.0   39481.0   41323.0   42169.0   42403.0   44227.0   44519.0   \n",
       "14    8615.0    9047.0    9154.0    9574.0    9418.0    9808.0   10298.0   \n",
       "15    6550.0    6795.0    7093.0    7041.0    7265.0    7552.0    7781.0   \n",
       "16  127787.0  133771.0  140519.0  143994.0  148962.0  154141.0  159764.0   \n",
       "17   10207.0   10284.0   10906.0   11830.0   11841.0   11825.0   13173.0   \n",
       "18   73309.0   76621.0   80226.0   82128.0   84859.0   86817.0   88021.0   \n",
       "19   56259.0   58668.0   61075.0   59715.0   61089.0   61383.0   62458.0   \n",
       "\n",
       "        2016      2017      2018      2019      2020      2021  \\\n",
       "0   107110.0  113692.0  121319.0  128317.0  130723.0  143512.0   \n",
       "1    15962.0   17668.0   16925.0   18209.0   21580.0   18622.0   \n",
       "2    34703.0   36344.0   37614.0   40517.0   40528.0   43408.0   \n",
       "3    54745.0   57730.0   67694.0   76104.0  162153.0  110569.0   \n",
       "4    14699.0   14837.0   15760.0   16424.0   16625.0   16905.0   \n",
       "5    10767.0   10865.0   10107.0   10838.0   11110.0   11706.0   \n",
       "6   170053.0  175947.0  180593.0  188186.0  214820.0  228759.0   \n",
       "7    17545.0   18599.0   19126.0   19804.0   19810.0   19652.0   \n",
       "8    94463.0  101374.0  106575.0  109645.0  110909.0  115292.0   \n",
       "9   167464.0  175456.0  184106.0  191659.0  323063.0  261042.0   \n",
       "10   62775.0   66080.0   69574.0   73263.0   73165.0   76258.0   \n",
       "11       0.0       0.0       0.0       0.0       0.0       0.0   \n",
       "12   25971.0   26967.0   27397.0   28953.0   29318.0   30521.0   \n",
       "13   45453.0   47650.0   54814.0   56983.0   63392.0   73506.0   \n",
       "14   11261.0   10991.0   11649.0   11784.0   11790.0   12301.0   \n",
       "15    8320.0    7983.0    8352.0    8799.0    8673.0    9008.0   \n",
       "16  164465.0  169742.0  175332.0  182812.0  206905.0  216255.0   \n",
       "17   12783.0   13500.0   14049.0   14472.0   14292.0   14110.0   \n",
       "18   89901.0   96111.0  100057.0  102531.0  102302.0  106340.0   \n",
       "19   63865.0   67374.0   71917.0   75496.0   82638.0   88460.0   \n",
       "\n",
       "                             Public sector components  \n",
       "0            Consolidated Canadian general government  \n",
       "1            Consolidated Canadian general government  \n",
       "2            Consolidated Canadian general government  \n",
       "3            Consolidated Canadian general government  \n",
       "4            Consolidated Canadian general government  \n",
       "5            Consolidated Canadian general government  \n",
       "6            Consolidated Canadian general government  \n",
       "7            Consolidated Canadian general government  \n",
       "8            Consolidated Canadian general government  \n",
       "9            Consolidated Canadian general government  \n",
       "10  Consolidated provincial-territorial and local ...  \n",
       "11  Consolidated provincial-territorial and local ...  \n",
       "12  Consolidated provincial-territorial and local ...  \n",
       "13  Consolidated provincial-territorial and local ...  \n",
       "14  Consolidated provincial-territorial and local ...  \n",
       "15  Consolidated provincial-territorial and local ...  \n",
       "16  Consolidated provincial-territorial and local ...  \n",
       "17  Consolidated provincial-territorial and local ...  \n",
       "18  Consolidated provincial-territorial and local ...  \n",
       "19  Consolidated provincial-territorial and local ...  "
      ]
     },
     "execution_count": 18,
     "metadata": {},
     "output_type": "execute_result"
    }
   ],
   "source": [
    "federal_provincial = federal_provincial.drop(federal_provincial.index[20:], axis=0).reset_index(drop=True)\n",
    "federal_provincial['Canadian Classification of Functions of Government (CCOFOG) '] = federal_provincial['Canadian Classification of Functions of Government (CCOFOG) '].str.strip()\n",
    "\n",
    "columns_to_convert = federal_provincial.columns[1:15]\n",
    "for col in columns_to_convert:\n",
    "    federal_provincial[col] = federal_provincial[col].str.replace(',', '', regex=True).astype(float)\n",
    "federal_provincial"
   ]
  },
  {
   "cell_type": "markdown",
   "metadata": {},
   "source": [
    "Now that we have valid numeric values, let's create a visualization of each different classifications based on federal and provincial budgets. \n",
    "\n",
    "*Note*: Since many of the classifications have long names, we'll be using an abbreviation system. The abbreviated names will also be printed below the visualization."
   ]
  },
  {
   "cell_type": "code",
   "execution_count": 19,
   "metadata": {},
   "outputs": [
    {
     "data": {
      "application/vnd.plotly.v1+json": {
       "config": {
        "plotlyServerURL": "https://plot.ly"
       },
       "data": [
        {
         "mode": "lines+markers",
         "name": "Consolidated Canadian general government",
         "type": "scatter",
         "x": [
          "2008",
          "2009",
          "2010",
          "2011",
          "2012",
          "2013",
          "2014",
          "2015",
          "2016",
          "2017",
          "2018",
          "2019",
          "2020",
          "2021"
         ],
         "xaxis": "x",
         "y": [
          97511,
          97414,
          105765,
          106642,
          104795,
          104685,
          104394,
          106415,
          107110,
          113692,
          121319,
          128317,
          130723,
          143512
         ],
         "yaxis": "y"
        },
        {
         "mode": "lines+markers",
         "name": "Consolidated provincial-territorial and local governments",
         "type": "scatter",
         "x": [
          "2008",
          "2009",
          "2010",
          "2011",
          "2012",
          "2013",
          "2014",
          "2015",
          "2016",
          "2017",
          "2018",
          "2019",
          "2020",
          "2021"
         ],
         "xaxis": "x",
         "y": [
          46647,
          47806,
          54278,
          57036,
          54502,
          55877,
          56565,
          58617,
          62775,
          66080,
          69574,
          73263,
          73165,
          76258
         ],
         "yaxis": "y"
        },
        {
         "mode": "lines+markers",
         "name": "Consolidated Canadian general government",
         "type": "scatter",
         "x": [
          "2008",
          "2009",
          "2010",
          "2011",
          "2012",
          "2013",
          "2014",
          "2015",
          "2016",
          "2017",
          "2018",
          "2019",
          "2020",
          "2021"
         ],
         "xaxis": "x2",
         "y": [
          15805,
          16357,
          15194,
          16710,
          16506,
          16210,
          15654,
          15773,
          15962,
          17668,
          16925,
          18209,
          21580,
          18622
         ],
         "yaxis": "y2"
        },
        {
         "mode": "lines+markers",
         "name": "Consolidated provincial-territorial and local governments",
         "type": "scatter",
         "x": [
          "2008",
          "2009",
          "2010",
          "2011",
          "2012",
          "2013",
          "2014",
          "2015",
          "2016",
          "2017",
          "2018",
          "2019",
          "2020",
          "2021"
         ],
         "xaxis": "x2",
         "y": [
          0,
          0,
          0,
          0,
          0,
          0,
          0,
          0,
          0,
          0,
          0,
          0,
          0,
          0
         ],
         "yaxis": "y2"
        },
        {
         "mode": "lines+markers",
         "name": "Consolidated Canadian general government",
         "type": "scatter",
         "x": [
          "2008",
          "2009",
          "2010",
          "2011",
          "2012",
          "2013",
          "2014",
          "2015",
          "2016",
          "2017",
          "2018",
          "2019",
          "2020",
          "2021"
         ],
         "xaxis": "x3",
         "y": [
          27167,
          28915,
          29569,
          31243,
          31460,
          32633,
          33609,
          33814,
          34703,
          36344,
          37614,
          40517,
          40528,
          43408
         ],
         "yaxis": "y3"
        },
        {
         "mode": "lines+markers",
         "name": "Consolidated provincial-territorial and local governments",
         "type": "scatter",
         "x": [
          "2008",
          "2009",
          "2010",
          "2011",
          "2012",
          "2013",
          "2014",
          "2015",
          "2016",
          "2017",
          "2018",
          "2019",
          "2020",
          "2021"
         ],
         "xaxis": "x3",
         "y": [
          19867,
          20812,
          21526,
          22845,
          22984,
          23805,
          24773,
          25271,
          25971,
          26967,
          27397,
          28953,
          29318,
          30521
         ],
         "yaxis": "y3"
        },
        {
         "mode": "lines+markers",
         "name": "Consolidated Canadian general government",
         "type": "scatter",
         "x": [
          "2008",
          "2009",
          "2010",
          "2011",
          "2012",
          "2013",
          "2014",
          "2015",
          "2016",
          "2017",
          "2018",
          "2019",
          "2020",
          "2021"
         ],
         "xaxis": "x4",
         "y": [
          46470,
          49274,
          51220,
          52998,
          53321,
          52867,
          53670,
          53249,
          54745,
          57730,
          67694,
          76104,
          162153,
          110569
         ],
         "yaxis": "y4"
        },
        {
         "mode": "lines+markers",
         "name": "Consolidated provincial-territorial and local governments",
         "type": "scatter",
         "x": [
          "2008",
          "2009",
          "2010",
          "2011",
          "2012",
          "2013",
          "2014",
          "2015",
          "2016",
          "2017",
          "2018",
          "2019",
          "2020",
          "2021"
         ],
         "xaxis": "x4",
         "y": [
          35741,
          37694,
          39481,
          41323,
          42169,
          42403,
          44227,
          44519,
          45453,
          47650,
          54814,
          56983,
          63392,
          73506
         ],
         "yaxis": "y4"
        },
        {
         "mode": "lines+markers",
         "name": "Consolidated Canadian general government",
         "type": "scatter",
         "x": [
          "2008",
          "2009",
          "2010",
          "2011",
          "2012",
          "2013",
          "2014",
          "2015",
          "2016",
          "2017",
          "2018",
          "2019",
          "2020",
          "2021"
         ],
         "xaxis": "x5",
         "y": [
          9722,
          10739,
          11724,
          11871,
          11709,
          11312,
          11705,
          13708,
          14699,
          14837,
          15760,
          16424,
          16625,
          16905
         ],
         "yaxis": "y5"
        },
        {
         "mode": "lines+markers",
         "name": "Consolidated provincial-territorial and local governments",
         "type": "scatter",
         "x": [
          "2008",
          "2009",
          "2010",
          "2011",
          "2012",
          "2013",
          "2014",
          "2015",
          "2016",
          "2017",
          "2018",
          "2019",
          "2020",
          "2021"
         ],
         "xaxis": "x5",
         "y": [
          7846,
          8615,
          9047,
          9154,
          9574,
          9418,
          9808,
          10298,
          11261,
          10991,
          11649,
          11784,
          11790,
          12301
         ],
         "yaxis": "y5"
        },
        {
         "mode": "lines+markers",
         "name": "Consolidated Canadian general government",
         "type": "scatter",
         "x": [
          "2008",
          "2009",
          "2010",
          "2011",
          "2012",
          "2013",
          "2014",
          "2015",
          "2016",
          "2017",
          "2018",
          "2019",
          "2020",
          "2021"
         ],
         "xaxis": "x6",
         "y": [
          7756,
          8252,
          8381,
          8415,
          8393,
          8606,
          9226,
          9359,
          10767,
          10865,
          10107,
          10838,
          11110,
          11706
         ],
         "yaxis": "y6"
        },
        {
         "mode": "lines+markers",
         "name": "Consolidated provincial-territorial and local governments",
         "type": "scatter",
         "x": [
          "2008",
          "2009",
          "2010",
          "2011",
          "2012",
          "2013",
          "2014",
          "2015",
          "2016",
          "2017",
          "2018",
          "2019",
          "2020",
          "2021"
         ],
         "xaxis": "x6",
         "y": [
          6195,
          6550,
          6795,
          7093,
          7041,
          7265,
          7552,
          7781,
          8320,
          7983,
          8352,
          8799,
          8673,
          9008
         ],
         "yaxis": "y6"
        },
        {
         "mode": "lines+markers",
         "name": "Consolidated Canadian general government",
         "type": "scatter",
         "x": [
          "2008",
          "2009",
          "2010",
          "2011",
          "2012",
          "2013",
          "2014",
          "2015",
          "2016",
          "2017",
          "2018",
          "2019",
          "2020",
          "2021"
         ],
         "xaxis": "x7",
         "y": [
          125458,
          133246,
          138998,
          145819,
          149139,
          154292,
          159331,
          165025,
          170053,
          175947,
          180593,
          188186,
          214820,
          228759
         ],
         "yaxis": "y7"
        },
        {
         "mode": "lines+markers",
         "name": "Consolidated provincial-territorial and local governments",
         "type": "scatter",
         "x": [
          "2008",
          "2009",
          "2010",
          "2011",
          "2012",
          "2013",
          "2014",
          "2015",
          "2016",
          "2017",
          "2018",
          "2019",
          "2020",
          "2021"
         ],
         "xaxis": "x7",
         "y": [
          120475,
          127787,
          133771,
          140519,
          143994,
          148962,
          154141,
          159764,
          164465,
          169742,
          175332,
          182812,
          206905,
          216255
         ],
         "yaxis": "y7"
        },
        {
         "mode": "lines+markers",
         "name": "Consolidated Canadian general government",
         "type": "scatter",
         "x": [
          "2008",
          "2009",
          "2010",
          "2011",
          "2012",
          "2013",
          "2014",
          "2015",
          "2016",
          "2017",
          "2018",
          "2019",
          "2020",
          "2021"
         ],
         "xaxis": "x8",
         "y": [
          14547,
          14527,
          14796,
          15707,
          16610,
          16679,
          16335,
          17423,
          17545,
          18599,
          19126,
          19804,
          19810,
          19652
         ],
         "yaxis": "y8"
        },
        {
         "mode": "lines+markers",
         "name": "Consolidated provincial-territorial and local governments",
         "type": "scatter",
         "x": [
          "2008",
          "2009",
          "2010",
          "2011",
          "2012",
          "2013",
          "2014",
          "2015",
          "2016",
          "2017",
          "2018",
          "2019",
          "2020",
          "2021"
         ],
         "xaxis": "x8",
         "y": [
          10216,
          10207,
          10284,
          10906,
          11830,
          11841,
          11825,
          13173,
          12783,
          13500,
          14049,
          14472,
          14292,
          14110
         ],
         "yaxis": "y8"
        },
        {
         "mode": "lines+markers",
         "name": "Consolidated Canadian general government",
         "type": "scatter",
         "x": [
          "2008",
          "2009",
          "2010",
          "2011",
          "2012",
          "2013",
          "2014",
          "2015",
          "2016",
          "2017",
          "2018",
          "2019",
          "2020",
          "2021"
         ],
         "xaxis": "x9",
         "y": [
          72348,
          76766,
          80145,
          83711,
          85743,
          88536,
          90489,
          91762,
          94463,
          101374,
          106575,
          109645,
          110909,
          115292
         ],
         "yaxis": "y9"
        },
        {
         "mode": "lines+markers",
         "name": "Consolidated provincial-territorial and local governments",
         "type": "scatter",
         "x": [
          "2008",
          "2009",
          "2010",
          "2011",
          "2012",
          "2013",
          "2014",
          "2015",
          "2016",
          "2017",
          "2018",
          "2019",
          "2020",
          "2021"
         ],
         "xaxis": "x9",
         "y": [
          69578,
          73309,
          76621,
          80226,
          82128,
          84859,
          86817,
          88021,
          89901,
          96111,
          100057,
          102531,
          102302,
          106340
         ],
         "yaxis": "y9"
        },
        {
         "mode": "lines+markers",
         "name": "Consolidated Canadian general government",
         "type": "scatter",
         "x": [
          "2008",
          "2009",
          "2010",
          "2011",
          "2012",
          "2013",
          "2014",
          "2015",
          "2016",
          "2017",
          "2018",
          "2019",
          "2020",
          "2021"
         ],
         "xaxis": "x10",
         "y": [
          123892,
          134802,
          137155,
          140713,
          141348,
          144774,
          149281,
          157582,
          167464,
          175456,
          184106,
          191659,
          323063,
          261042
         ],
         "yaxis": "y10"
        },
        {
         "mode": "lines+markers",
         "name": "Consolidated provincial-territorial and local governments",
         "type": "scatter",
         "x": [
          "2008",
          "2009",
          "2010",
          "2011",
          "2012",
          "2013",
          "2014",
          "2015",
          "2016",
          "2017",
          "2018",
          "2019",
          "2020",
          "2021"
         ],
         "xaxis": "x10",
         "y": [
          52984,
          56259,
          58668,
          61075,
          59715,
          61089,
          61383,
          62458,
          63865,
          67374,
          71917,
          75496,
          82638,
          88460
         ],
         "yaxis": "y10"
        }
       ],
       "layout": {
        "annotations": [
         {
          "font": {
           "size": 16
          },
          "showarrow": false,
          "text": "GPS",
          "x": 0.041,
          "xanchor": "center",
          "xref": "paper",
          "y": 1,
          "yanchor": "bottom",
          "yref": "paper"
         },
         {
          "font": {
           "size": 16
          },
          "showarrow": false,
          "text": "Defence",
          "x": 0.14300000000000002,
          "xanchor": "center",
          "xref": "paper",
          "y": 1,
          "yanchor": "bottom",
          "yref": "paper"
         },
         {
          "font": {
           "size": 16
          },
          "showarrow": false,
          "text": "POS",
          "x": 0.24500000000000002,
          "xanchor": "center",
          "xref": "paper",
          "y": 1,
          "yanchor": "bottom",
          "yref": "paper"
         },
         {
          "font": {
           "size": 16
          },
          "showarrow": false,
          "text": "EA",
          "x": 0.347,
          "xanchor": "center",
          "xref": "paper",
          "y": 1,
          "yanchor": "bottom",
          "yref": "paper"
         },
         {
          "font": {
           "size": 16
          },
          "showarrow": false,
          "text": "EP",
          "x": 0.44900000000000007,
          "xanchor": "center",
          "xref": "paper",
          "y": 1,
          "yanchor": "bottom",
          "yref": "paper"
         },
         {
          "font": {
           "size": 16
          },
          "showarrow": false,
          "text": "HCA",
          "x": 0.5509999999999999,
          "xanchor": "center",
          "xref": "paper",
          "y": 1,
          "yanchor": "bottom",
          "yref": "paper"
         },
         {
          "font": {
           "size": 16
          },
          "showarrow": false,
          "text": "Health",
          "x": 0.653,
          "xanchor": "center",
          "xref": "paper",
          "y": 1,
          "yanchor": "bottom",
          "yref": "paper"
         },
         {
          "font": {
           "size": 16
          },
          "showarrow": false,
          "text": "RCR",
          "x": 0.7550000000000001,
          "xanchor": "center",
          "xref": "paper",
          "y": 1,
          "yanchor": "bottom",
          "yref": "paper"
         },
         {
          "font": {
           "size": 16
          },
          "showarrow": false,
          "text": "Education",
          "x": 0.857,
          "xanchor": "center",
          "xref": "paper",
          "y": 1,
          "yanchor": "bottom",
          "yref": "paper"
         },
         {
          "font": {
           "size": 16
          },
          "showarrow": false,
          "text": "SP",
          "x": 0.9589999999999999,
          "xanchor": "center",
          "xref": "paper",
          "y": 1,
          "yanchor": "bottom",
          "yref": "paper"
         }
        ],
        "showlegend": false,
        "template": {
         "data": {
          "bar": [
           {
            "error_x": {
             "color": "#2a3f5f"
            },
            "error_y": {
             "color": "#2a3f5f"
            },
            "marker": {
             "line": {
              "color": "#E5ECF6",
              "width": 0.5
             },
             "pattern": {
              "fillmode": "overlay",
              "size": 10,
              "solidity": 0.2
             }
            },
            "type": "bar"
           }
          ],
          "barpolar": [
           {
            "marker": {
             "line": {
              "color": "#E5ECF6",
              "width": 0.5
             },
             "pattern": {
              "fillmode": "overlay",
              "size": 10,
              "solidity": 0.2
             }
            },
            "type": "barpolar"
           }
          ],
          "carpet": [
           {
            "aaxis": {
             "endlinecolor": "#2a3f5f",
             "gridcolor": "white",
             "linecolor": "white",
             "minorgridcolor": "white",
             "startlinecolor": "#2a3f5f"
            },
            "baxis": {
             "endlinecolor": "#2a3f5f",
             "gridcolor": "white",
             "linecolor": "white",
             "minorgridcolor": "white",
             "startlinecolor": "#2a3f5f"
            },
            "type": "carpet"
           }
          ],
          "choropleth": [
           {
            "colorbar": {
             "outlinewidth": 0,
             "ticks": ""
            },
            "type": "choropleth"
           }
          ],
          "contour": [
           {
            "colorbar": {
             "outlinewidth": 0,
             "ticks": ""
            },
            "colorscale": [
             [
              0,
              "#0d0887"
             ],
             [
              0.1111111111111111,
              "#46039f"
             ],
             [
              0.2222222222222222,
              "#7201a8"
             ],
             [
              0.3333333333333333,
              "#9c179e"
             ],
             [
              0.4444444444444444,
              "#bd3786"
             ],
             [
              0.5555555555555556,
              "#d8576b"
             ],
             [
              0.6666666666666666,
              "#ed7953"
             ],
             [
              0.7777777777777778,
              "#fb9f3a"
             ],
             [
              0.8888888888888888,
              "#fdca26"
             ],
             [
              1,
              "#f0f921"
             ]
            ],
            "type": "contour"
           }
          ],
          "contourcarpet": [
           {
            "colorbar": {
             "outlinewidth": 0,
             "ticks": ""
            },
            "type": "contourcarpet"
           }
          ],
          "heatmap": [
           {
            "colorbar": {
             "outlinewidth": 0,
             "ticks": ""
            },
            "colorscale": [
             [
              0,
              "#0d0887"
             ],
             [
              0.1111111111111111,
              "#46039f"
             ],
             [
              0.2222222222222222,
              "#7201a8"
             ],
             [
              0.3333333333333333,
              "#9c179e"
             ],
             [
              0.4444444444444444,
              "#bd3786"
             ],
             [
              0.5555555555555556,
              "#d8576b"
             ],
             [
              0.6666666666666666,
              "#ed7953"
             ],
             [
              0.7777777777777778,
              "#fb9f3a"
             ],
             [
              0.8888888888888888,
              "#fdca26"
             ],
             [
              1,
              "#f0f921"
             ]
            ],
            "type": "heatmap"
           }
          ],
          "heatmapgl": [
           {
            "colorbar": {
             "outlinewidth": 0,
             "ticks": ""
            },
            "colorscale": [
             [
              0,
              "#0d0887"
             ],
             [
              0.1111111111111111,
              "#46039f"
             ],
             [
              0.2222222222222222,
              "#7201a8"
             ],
             [
              0.3333333333333333,
              "#9c179e"
             ],
             [
              0.4444444444444444,
              "#bd3786"
             ],
             [
              0.5555555555555556,
              "#d8576b"
             ],
             [
              0.6666666666666666,
              "#ed7953"
             ],
             [
              0.7777777777777778,
              "#fb9f3a"
             ],
             [
              0.8888888888888888,
              "#fdca26"
             ],
             [
              1,
              "#f0f921"
             ]
            ],
            "type": "heatmapgl"
           }
          ],
          "histogram": [
           {
            "marker": {
             "pattern": {
              "fillmode": "overlay",
              "size": 10,
              "solidity": 0.2
             }
            },
            "type": "histogram"
           }
          ],
          "histogram2d": [
           {
            "colorbar": {
             "outlinewidth": 0,
             "ticks": ""
            },
            "colorscale": [
             [
              0,
              "#0d0887"
             ],
             [
              0.1111111111111111,
              "#46039f"
             ],
             [
              0.2222222222222222,
              "#7201a8"
             ],
             [
              0.3333333333333333,
              "#9c179e"
             ],
             [
              0.4444444444444444,
              "#bd3786"
             ],
             [
              0.5555555555555556,
              "#d8576b"
             ],
             [
              0.6666666666666666,
              "#ed7953"
             ],
             [
              0.7777777777777778,
              "#fb9f3a"
             ],
             [
              0.8888888888888888,
              "#fdca26"
             ],
             [
              1,
              "#f0f921"
             ]
            ],
            "type": "histogram2d"
           }
          ],
          "histogram2dcontour": [
           {
            "colorbar": {
             "outlinewidth": 0,
             "ticks": ""
            },
            "colorscale": [
             [
              0,
              "#0d0887"
             ],
             [
              0.1111111111111111,
              "#46039f"
             ],
             [
              0.2222222222222222,
              "#7201a8"
             ],
             [
              0.3333333333333333,
              "#9c179e"
             ],
             [
              0.4444444444444444,
              "#bd3786"
             ],
             [
              0.5555555555555556,
              "#d8576b"
             ],
             [
              0.6666666666666666,
              "#ed7953"
             ],
             [
              0.7777777777777778,
              "#fb9f3a"
             ],
             [
              0.8888888888888888,
              "#fdca26"
             ],
             [
              1,
              "#f0f921"
             ]
            ],
            "type": "histogram2dcontour"
           }
          ],
          "mesh3d": [
           {
            "colorbar": {
             "outlinewidth": 0,
             "ticks": ""
            },
            "type": "mesh3d"
           }
          ],
          "parcoords": [
           {
            "line": {
             "colorbar": {
              "outlinewidth": 0,
              "ticks": ""
             }
            },
            "type": "parcoords"
           }
          ],
          "pie": [
           {
            "automargin": true,
            "type": "pie"
           }
          ],
          "scatter": [
           {
            "fillpattern": {
             "fillmode": "overlay",
             "size": 10,
             "solidity": 0.2
            },
            "type": "scatter"
           }
          ],
          "scatter3d": [
           {
            "line": {
             "colorbar": {
              "outlinewidth": 0,
              "ticks": ""
             }
            },
            "marker": {
             "colorbar": {
              "outlinewidth": 0,
              "ticks": ""
             }
            },
            "type": "scatter3d"
           }
          ],
          "scattercarpet": [
           {
            "marker": {
             "colorbar": {
              "outlinewidth": 0,
              "ticks": ""
             }
            },
            "type": "scattercarpet"
           }
          ],
          "scattergeo": [
           {
            "marker": {
             "colorbar": {
              "outlinewidth": 0,
              "ticks": ""
             }
            },
            "type": "scattergeo"
           }
          ],
          "scattergl": [
           {
            "marker": {
             "colorbar": {
              "outlinewidth": 0,
              "ticks": ""
             }
            },
            "type": "scattergl"
           }
          ],
          "scattermapbox": [
           {
            "marker": {
             "colorbar": {
              "outlinewidth": 0,
              "ticks": ""
             }
            },
            "type": "scattermapbox"
           }
          ],
          "scatterpolar": [
           {
            "marker": {
             "colorbar": {
              "outlinewidth": 0,
              "ticks": ""
             }
            },
            "type": "scatterpolar"
           }
          ],
          "scatterpolargl": [
           {
            "marker": {
             "colorbar": {
              "outlinewidth": 0,
              "ticks": ""
             }
            },
            "type": "scatterpolargl"
           }
          ],
          "scatterternary": [
           {
            "marker": {
             "colorbar": {
              "outlinewidth": 0,
              "ticks": ""
             }
            },
            "type": "scatterternary"
           }
          ],
          "surface": [
           {
            "colorbar": {
             "outlinewidth": 0,
             "ticks": ""
            },
            "colorscale": [
             [
              0,
              "#0d0887"
             ],
             [
              0.1111111111111111,
              "#46039f"
             ],
             [
              0.2222222222222222,
              "#7201a8"
             ],
             [
              0.3333333333333333,
              "#9c179e"
             ],
             [
              0.4444444444444444,
              "#bd3786"
             ],
             [
              0.5555555555555556,
              "#d8576b"
             ],
             [
              0.6666666666666666,
              "#ed7953"
             ],
             [
              0.7777777777777778,
              "#fb9f3a"
             ],
             [
              0.8888888888888888,
              "#fdca26"
             ],
             [
              1,
              "#f0f921"
             ]
            ],
            "type": "surface"
           }
          ],
          "table": [
           {
            "cells": {
             "fill": {
              "color": "#EBF0F8"
             },
             "line": {
              "color": "white"
             }
            },
            "header": {
             "fill": {
              "color": "#C8D4E3"
             },
             "line": {
              "color": "white"
             }
            },
            "type": "table"
           }
          ]
         },
         "layout": {
          "annotationdefaults": {
           "arrowcolor": "#2a3f5f",
           "arrowhead": 0,
           "arrowwidth": 1
          },
          "autotypenumbers": "strict",
          "coloraxis": {
           "colorbar": {
            "outlinewidth": 0,
            "ticks": ""
           }
          },
          "colorscale": {
           "diverging": [
            [
             0,
             "#8e0152"
            ],
            [
             0.1,
             "#c51b7d"
            ],
            [
             0.2,
             "#de77ae"
            ],
            [
             0.3,
             "#f1b6da"
            ],
            [
             0.4,
             "#fde0ef"
            ],
            [
             0.5,
             "#f7f7f7"
            ],
            [
             0.6,
             "#e6f5d0"
            ],
            [
             0.7,
             "#b8e186"
            ],
            [
             0.8,
             "#7fbc41"
            ],
            [
             0.9,
             "#4d9221"
            ],
            [
             1,
             "#276419"
            ]
           ],
           "sequential": [
            [
             0,
             "#0d0887"
            ],
            [
             0.1111111111111111,
             "#46039f"
            ],
            [
             0.2222222222222222,
             "#7201a8"
            ],
            [
             0.3333333333333333,
             "#9c179e"
            ],
            [
             0.4444444444444444,
             "#bd3786"
            ],
            [
             0.5555555555555556,
             "#d8576b"
            ],
            [
             0.6666666666666666,
             "#ed7953"
            ],
            [
             0.7777777777777778,
             "#fb9f3a"
            ],
            [
             0.8888888888888888,
             "#fdca26"
            ],
            [
             1,
             "#f0f921"
            ]
           ],
           "sequentialminus": [
            [
             0,
             "#0d0887"
            ],
            [
             0.1111111111111111,
             "#46039f"
            ],
            [
             0.2222222222222222,
             "#7201a8"
            ],
            [
             0.3333333333333333,
             "#9c179e"
            ],
            [
             0.4444444444444444,
             "#bd3786"
            ],
            [
             0.5555555555555556,
             "#d8576b"
            ],
            [
             0.6666666666666666,
             "#ed7953"
            ],
            [
             0.7777777777777778,
             "#fb9f3a"
            ],
            [
             0.8888888888888888,
             "#fdca26"
            ],
            [
             1,
             "#f0f921"
            ]
           ]
          },
          "colorway": [
           "#636efa",
           "#EF553B",
           "#00cc96",
           "#ab63fa",
           "#FFA15A",
           "#19d3f3",
           "#FF6692",
           "#B6E880",
           "#FF97FF",
           "#FECB52"
          ],
          "font": {
           "color": "#2a3f5f"
          },
          "geo": {
           "bgcolor": "white",
           "lakecolor": "white",
           "landcolor": "#E5ECF6",
           "showlakes": true,
           "showland": true,
           "subunitcolor": "white"
          },
          "hoverlabel": {
           "align": "left"
          },
          "hovermode": "closest",
          "mapbox": {
           "style": "light"
          },
          "paper_bgcolor": "white",
          "plot_bgcolor": "#E5ECF6",
          "polar": {
           "angularaxis": {
            "gridcolor": "white",
            "linecolor": "white",
            "ticks": ""
           },
           "bgcolor": "#E5ECF6",
           "radialaxis": {
            "gridcolor": "white",
            "linecolor": "white",
            "ticks": ""
           }
          },
          "scene": {
           "xaxis": {
            "backgroundcolor": "#E5ECF6",
            "gridcolor": "white",
            "gridwidth": 2,
            "linecolor": "white",
            "showbackground": true,
            "ticks": "",
            "zerolinecolor": "white"
           },
           "yaxis": {
            "backgroundcolor": "#E5ECF6",
            "gridcolor": "white",
            "gridwidth": 2,
            "linecolor": "white",
            "showbackground": true,
            "ticks": "",
            "zerolinecolor": "white"
           },
           "zaxis": {
            "backgroundcolor": "#E5ECF6",
            "gridcolor": "white",
            "gridwidth": 2,
            "linecolor": "white",
            "showbackground": true,
            "ticks": "",
            "zerolinecolor": "white"
           }
          },
          "shapedefaults": {
           "line": {
            "color": "#2a3f5f"
           }
          },
          "ternary": {
           "aaxis": {
            "gridcolor": "white",
            "linecolor": "white",
            "ticks": ""
           },
           "baxis": {
            "gridcolor": "white",
            "linecolor": "white",
            "ticks": ""
           },
           "bgcolor": "#E5ECF6",
           "caxis": {
            "gridcolor": "white",
            "linecolor": "white",
            "ticks": ""
           }
          },
          "title": {
           "x": 0.05
          },
          "xaxis": {
           "automargin": true,
           "gridcolor": "white",
           "linecolor": "white",
           "ticks": "",
           "title": {
            "standoff": 15
           },
           "zerolinecolor": "white",
           "zerolinewidth": 2
          },
          "yaxis": {
           "automargin": true,
           "gridcolor": "white",
           "linecolor": "white",
           "ticks": "",
           "title": {
            "standoff": 15
           },
           "zerolinecolor": "white",
           "zerolinewidth": 2
          }
         }
        },
        "title": {
         "text": "Spending Over the Years by Classification"
        },
        "xaxis": {
         "anchor": "y",
         "domain": [
          0,
          0.082
         ],
         "title": {
          "text": "Year"
         }
        },
        "xaxis10": {
         "anchor": "y10",
         "domain": [
          0.9179999999999999,
          0.9999999999999999
         ],
         "title": {
          "text": "Year"
         }
        },
        "xaxis2": {
         "anchor": "y2",
         "domain": [
          0.10200000000000001,
          0.184
         ],
         "title": {
          "text": "Year"
         }
        },
        "xaxis3": {
         "anchor": "y3",
         "domain": [
          0.20400000000000001,
          0.28600000000000003
         ],
         "title": {
          "text": "Year"
         }
        },
        "xaxis4": {
         "anchor": "y4",
         "domain": [
          0.306,
          0.388
         ],
         "title": {
          "text": "Year"
         }
        },
        "xaxis5": {
         "anchor": "y5",
         "domain": [
          0.40800000000000003,
          0.49000000000000005
         ],
         "title": {
          "text": "Year"
         }
        },
        "xaxis6": {
         "anchor": "y6",
         "domain": [
          0.51,
          0.592
         ],
         "title": {
          "text": "Year"
         }
        },
        "xaxis7": {
         "anchor": "y7",
         "domain": [
          0.6120000000000001,
          0.6940000000000001
         ],
         "title": {
          "text": "Year"
         }
        },
        "xaxis8": {
         "anchor": "y8",
         "domain": [
          0.7140000000000001,
          0.796
         ],
         "title": {
          "text": "Year"
         }
        },
        "xaxis9": {
         "anchor": "y9",
         "domain": [
          0.8160000000000001,
          0.898
         ],
         "title": {
          "text": "Year"
         }
        },
        "yaxis": {
         "anchor": "x",
         "domain": [
          0,
          1
         ],
         "title": {
          "text": ""
         }
        },
        "yaxis10": {
         "anchor": "x10",
         "domain": [
          0,
          1
         ],
         "title": {
          "text": ""
         }
        },
        "yaxis2": {
         "anchor": "x2",
         "domain": [
          0,
          1
         ],
         "title": {
          "text": ""
         }
        },
        "yaxis3": {
         "anchor": "x3",
         "domain": [
          0,
          1
         ],
         "title": {
          "text": ""
         }
        },
        "yaxis4": {
         "anchor": "x4",
         "domain": [
          0,
          1
         ],
         "title": {
          "text": ""
         }
        },
        "yaxis5": {
         "anchor": "x5",
         "domain": [
          0,
          1
         ],
         "title": {
          "text": ""
         }
        },
        "yaxis6": {
         "anchor": "x6",
         "domain": [
          0,
          1
         ],
         "title": {
          "text": ""
         }
        },
        "yaxis7": {
         "anchor": "x7",
         "domain": [
          0,
          1
         ],
         "title": {
          "text": ""
         }
        },
        "yaxis8": {
         "anchor": "x8",
         "domain": [
          0,
          1
         ],
         "title": {
          "text": ""
         }
        },
        "yaxis9": {
         "anchor": "x9",
         "domain": [
          0,
          1
         ],
         "title": {
          "text": ""
         }
        }
       }
      }
     },
     "metadata": {},
     "output_type": "display_data"
    },
    {
     "name": "stdout",
     "output_type": "stream",
     "text": [
      "Classification Name Mapping:\n",
      "General public services => GPS\n",
      "Public order and safety => POS\n",
      "Economic affairs => EA\n",
      "Environmental protection => EP\n",
      "Housing and community amenities => HCA\n",
      "Recreation, culture and religion => RCR\n",
      "Social protection => SP\n"
     ]
    }
   ],
   "source": [
    "classification_name_mapping = {\n",
    "    'General public services': 'GPS',\n",
    "    'Public order and safety': 'POS',\n",
    "    'Economic affairs': 'EA',\n",
    "    'Environmental protection': 'EP',\n",
    "    'Housing and community amenities': 'HCA',\n",
    "    'Recreation, culture and religion': 'RCR',\n",
    "    'Social protection': 'SP'\n",
    "}\n",
    "\n",
    "federal_provincial['Canadian Classification of Functions of Government (CCOFOG) '] = federal_provincial['Canadian Classification of Functions of Government (CCOFOG) '].map(classification_name_mapping).fillna(federal_provincial['Canadian Classification of Functions of Government (CCOFOG) '])\n",
    "classifications = federal_provincial['Canadian Classification of Functions of Government (CCOFOG) '].unique()\n",
    "num_columns = len(classifications)\n",
    "\n",
    "all_classifications_fig = make_subplots(rows=1, cols=num_columns, subplot_titles=classifications)\n",
    "\n",
    "col_num = 1\n",
    "\n",
    "for classification in classifications:\n",
    "    temp_df = federal_provincial[federal_provincial['Canadian Classification of Functions of Government (CCOFOG) '] == classification]\n",
    "    temp_df = temp_df.melt(id_vars=['Canadian Classification of Functions of Government (CCOFOG) ', 'Public sector components'], var_name='Year', value_name='Value')\n",
    "\n",
    "    traces = []\n",
    "    for component in temp_df['Public sector components'].unique():\n",
    "        trace = go.Scatter(\n",
    "            x=temp_df[temp_df['Public sector components'] == component]['Year'],\n",
    "            y=temp_df[temp_df['Public sector components'] == component]['Value'],\n",
    "            mode='lines+markers',\n",
    "            name=component\n",
    "        )\n",
    "        traces.append(trace)\n",
    "\n",
    "    for trace in traces:\n",
    "        all_classifications_fig.add_trace(trace, row=1, col=col_num)\n",
    "\n",
    "    all_classifications_fig.update_xaxes(title_text='Year', row=1, col=col_num)\n",
    "\n",
    "    all_classifications_fig.update_yaxes(title_text='', row=1, col=col_num)\n",
    "\n",
    "    col_num += 1\n",
    "\n",
    "all_classifications_fig.update_layout(\n",
    "    title='Spending Over the Years by Classification',\n",
    "    showlegend=False  \n",
    ").show()\n",
    "\n",
    "print(\"Classification Name Mapping:\")\n",
    "for full_name, short_name in classification_name_mapping.items():\n",
    "    print(f\"{full_name} => {short_name}\")"
   ]
  },
  {
   "cell_type": "markdown",
   "metadata": {},
   "source": [
    "Looking at our final visualization, we can definitively say that federal government budgets are *much* larger than their respective provincial counterparts. The only classification that has a similar federal and provincial budget is *Health*. Interestingly, the classification *Defence* has no budget allocated in the provincial sector. Can you interpret ideas on why this could be?"
   ]
  },
  {
   "cell_type": "markdown",
   "metadata": {},
   "source": [
    "# Interpret"
   ]
  },
  {
   "cell_type": "markdown",
   "metadata": {},
   "source": [
    "### Reflect on What You See"
   ]
  },
  {
   "cell_type": "markdown",
   "metadata": {},
   "source": [
    "Think about the following questions.\n",
    "\n",
    "1. How have shifts in government spending patterns impacted your perception of public service accessibility and quality in your area?\n",
    "2. What strategies or policies do you believe should be implemented to ensure fair and equitable distribution of government resources across various sectors and regions?\n",
    "3. What insights can be gained from historical instances of government budget adjustments, and how can they inform proactive measures to address future challenges related to government resource allocation and spending decisions?\n",
    "\n",
    "# Communicate\n",
    "\n",
    "Below are some writing prompts to help you reflect on the new information that is presented from the data. When we look at the evidence, think about what you perceive about the information. Is this perception based on what the evidence shows? If others were to view it, what perceptions might they have?\n",
    "\n",
    "- I used to think ____________________ but now I know ____________________. \n",
    "- I wish I knew more about ____________________. \n",
    "- This visualization reminds me of ____________________. \n",
    "- I really like ____________________."
   ]
  },
  {
   "cell_type": "markdown",
   "metadata": {},
   "source": [
    "[![Callysto.ca License](https://github.com/callysto/curriculum-notebooks/blob/master/callysto-notebook-banner-bottom.jpg?raw=true)](https://github.com/callysto/curriculum-notebooks/blob/master/LICENSE.md)"
   ]
  }
 ],
 "metadata": {
  "kernelspec": {
   "display_name": "Python 3",
   "language": "python",
   "name": "python3"
  },
  "language_info": {
   "codemirror_mode": {
    "name": "ipython",
    "version": 3
   },
   "file_extension": ".py",
   "mimetype": "text/x-python",
   "name": "python",
   "nbconvert_exporter": "python",
   "pygments_lexer": "ipython3",
   "version": "3.11.3"
  },
  "orig_nbformat": 4
 },
 "nbformat": 4,
 "nbformat_minor": 2
}
