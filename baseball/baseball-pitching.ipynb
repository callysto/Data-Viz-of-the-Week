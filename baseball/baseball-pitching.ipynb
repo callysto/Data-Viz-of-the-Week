{
 "cells": [
  {
   "cell_type": "markdown",
   "metadata": {},
   "source": [
    "![Callysto.ca Banner](https://github.com/callysto/curriculum-notebooks/blob/master/callysto-notebook-banner-top.jpg?raw=true)"
   ]
  },
  {
   "cell_type": "markdown",
   "metadata": {},
   "source": [
    "# Callysto’s Weekly Data Visualization\n",
    "\n",
    "## Baseball Pitching Statistics\n",
    "\n",
    "### Recommended Grade levels: 6-9\n",
    "<br>"
   ]
  },
  {
   "cell_type": "markdown",
   "metadata": {},
   "source": [
    "### Instructions\n",
    "#### “Run” the cells to see the graphs\n",
    "Click “Cell” and select “Run All”.<br> This will import the data and run all the code, so you can see this week's data visualization. Scroll to the top after you’ve run the cells.<br> \n",
    "\n",
    "![instructions](https://github.com/callysto/data-viz-of-the-week/blob/main/images/instructions.png?raw=true)\n",
    "\n",
    "**You don’t need to do any coding to view the visualizations**.\n",
    "The plots generated in this notebook are interactive. You can hover over and click on elements to see more information. \n",
    "\n",
    "Email contact@callysto.ca if you experience issues."
   ]
  },
  {
   "cell_type": "markdown",
   "metadata": {},
   "source": [
    "### About this Notebook\n",
    "\n",
    "Callysto's Weekly Data Visualization is a learning resource that aims to develop data literacy skills. We provide Grades 5-12 teachers and students with a data visualization, like a graph, to interpret. This companion resource walks learners through how the data visualization is created and interpreted by a data scientist. \n",
    "\n",
    "The steps of the data analysis process are listed below and applied to each weekly topic.\n",
    "\n",
    "1. Question - What are we trying to answer? \n",
    "2. Gather - Find the data source(s) you will need. \n",
    "3. Organize - Arrange the data, so that you can easily explore it. \n",
    "4. Explore - Examine the data to look for evidence to answer the question. This includes creating visualizations. \n",
    "5. Interpret - Describe what's happening in the data visualization. \n",
    "6. Communicate - Explain how the evidence answers the question. "
   ]
  },
  {
   "cell_type": "markdown",
   "metadata": {},
   "source": [
    "# Question\n",
    "\n",
    "Have you ever wondered about baseball pitching?\n",
    "\n",
    "Baseball is a very popular sport, played by children and adults across Central and North America (and elsewhere). In professional baseball, extensive data is collected on games and players, to help players, coaches, and spectators understand who is playing well and what strategies work well to propel a team to the championship.\n",
    "\n",
    "Baseball data is available from many sources. Let's see how we can use this data to explore some aspects of the game of baseball.\n",
    "\n",
    "### Goal\n",
    "\n",
    "The pitcher is a key player in baseball games, in charge of throwing the ball from the pitcher's mound across to home plate, where he or she attempts to strike out the batter. The pitcher can adjust the way the ball is throwing, using various speeds and delivery methods to try to fool the batter into swinging and missing the ball (a strike) or not swinging at a good ball (a called strike). \n",
    "\n",
    "Over the years, certain pitches have gained popularity for their success in games. you may have heard of some of them: fast balls, curve balls, even change ups and more.\n",
    "\n",
    "Here is a diagram from the website https://https://rocklandpeakperformance.com/ showing more types of pitches:\n",
    "<img src=\"images/Pitch-Shapes.png\" width= 400>\n",
    "\n",
    "Our goal is to use major league baseball data to learn if there are numerical differences that we can observe between different types of pitches.\n",
    "\n",
    "We will use scatter plots to characterize these types of pitchs by things like speed and spin on the ball. We will use pie charts (or bars charts) to look at the success rate for earning strikes, as determined by pitch type. \n",
    "\n",
    "This will give us a firm understanding of how these types of pitches differ. \n",
    "\n"
   ]
  },
  {
   "cell_type": "markdown",
   "metadata": {},
   "source": [
    "# Gather\n",
    "\n",
    "### Code:\n",
    "The code below will import the Python programming libraries we need to gather and organize the data to answer our question."
   ]
  },
  {
   "cell_type": "code",
   "execution_count": null,
   "metadata": {},
   "outputs": [],
   "source": [
    "## import libraries\n",
    "import pandas as pd\n",
    "import plotly.express as px"
   ]
  },
  {
   "cell_type": "markdown",
   "metadata": {},
   "source": [
    "### Data:\n",
    "\n",
    "There are many great sources for baseball data. Some of our favourites are https://www.mlb.com/stats/, https://www.baseball-reference.com/, and https://www.fangraphs.com/.\n",
    "\n",
    "To keep things simple, we downloaded two sets of data from the github repo https://github.com/palewire/baseball-notebooks as Comma Separated Values (csv) files containing complete pitched records of the major league pitchers Jon Lester (born in Tacoma, Washington) and Yu Darvish (born in Japan). We can then load them directly into this Jupyter notebook."
   ]
  },
  {
   "cell_type": "markdown",
   "metadata": {},
   "source": [
    "### Import the data"
   ]
  },
  {
   "cell_type": "code",
   "execution_count": null,
   "metadata": {},
   "outputs": [],
   "source": [
    "## import data, for the two pitchers Jon Lester and Yu Darvish\n",
    "pitcher_jl = pd.read_csv(\"./data/lester-pitches.csv\", low_memory=False)\n",
    "pitcher_yd = pd.read_csv(\"./data/darvish-pitches.csv\", low_memory=False)\n"
   ]
  },
  {
   "cell_type": "markdown",
   "metadata": {},
   "source": [
    "### Comment on the data\n",
    "\n",
    "Once the data is loaded, it is a good idea to check that the information has been properly stored. A quick check is to see the shpae of each dataframe. The shape command will tell us how many rows and columns are there."
   ]
  },
  {
   "cell_type": "code",
   "execution_count": null,
   "metadata": {},
   "outputs": [],
   "source": [
    "pitcher_jl.shape, pitcher_yd.shape"
   ]
  },
  {
   "cell_type": "markdown",
   "metadata": {},
   "source": [
    "We see the first data frame has 36,288 rows while the second has 14,448. This means the first has more pitches recorded, while the second has fewer pitchers.\n",
    "\n",
    "We can also get information about the names of columns, using the info command."
   ]
  },
  {
   "cell_type": "code",
   "execution_count": null,
   "metadata": {},
   "outputs": [],
   "source": [
    "pitcher_jl.info()"
   ]
  },
  {
   "cell_type": "markdown",
   "metadata": {},
   "source": [
    "From the above, we see there is a lot of information about each pitch. We will be interested in the pitch_type, release_speed, and release_spin rate."
   ]
  },
  {
   "cell_type": "markdown",
   "metadata": {},
   "source": [
    "# Organize\n",
    "\n",
    "The code below will arrange the data cleanly so that we can do analysis on it. This is a quality control step for our data and involves examining the data to detect anything odd with the data (e.g. structure, missing values), fixing the oddities, and checking if the fixes worked. \n",
    "\n",
    "The first thing we do is remove any rows where the pitch type has not been enterred (these are the \"null\" entries). We do this by selecting the rows that are \"not null\" and updating the data frame appropriately\n"
   ]
  },
  {
   "cell_type": "code",
   "execution_count": null,
   "metadata": {},
   "outputs": [],
   "source": [
    "# data cleaning\n",
    "pitcher_jl = pitcher_jl[pitcher_jl.pitch_type.notnull()]\n",
    "pitcher_yd = pitcher_yd[pitcher_yd.pitch_type.notnull()]\n"
   ]
  },
  {
   "cell_type": "markdown",
   "metadata": {},
   "source": [
    "The next thing we do is check to see what types of pitches are included in the data files. We can list the unique entries in the pitch type as follows:"
   ]
  },
  {
   "cell_type": "code",
   "execution_count": null,
   "metadata": {},
   "outputs": [],
   "source": [
    "pitcher_jl.pitch_type.unique(), pitcher_yd.pitch_type.unique(),"
   ]
  },
  {
   "cell_type": "markdown",
   "metadata": {},
   "source": [
    "We notice that the first pitcher, Jon Lester, has only fie types of pitches, while the second pitcher, Yu Darvish, has many more. \n",
    "\n",
    "Let's take these labels and write them out in full, and map them into the data record.\n"
   ]
  },
  {
   "cell_type": "code",
   "execution_count": null,
   "metadata": {},
   "outputs": [],
   "source": [
    "labels = {\n",
    "    'CH': 'Change Up',\n",
    "    'CU': \"Curve\",\n",
    "    'FC': 'Cutter',\n",
    "    'FF': \"Four seamer\",\n",
    "    'FT': \"Two seamer\",\n",
    "    'FS': \"Fast sinker\",\n",
    "    'IN': \"Intentional Ball\",\n",
    "    'PO': \"Pitch out\",\n",
    "    'SI': \"Sinker\",\n",
    "    'SL': \"Slider\",\n",
    "    'EP': \"Eephus\"\n",
    "}\n",
    "\n",
    "pitcher_jl['pitch_name'] = pitcher_jl.pitch_type.map(labels)\n",
    "\n",
    "pitcher_yd['pitch_name'] = pitcher_yd.pitch_type.map(labels)\n",
    "\n"
   ]
  },
  {
   "cell_type": "markdown",
   "metadata": {},
   "source": [
    "### Comment on the data\n",
    "\n",
    "We notice now that the data frames are smaller, as we have removed some null data sets. We can check this by looking again at the shapes."
   ]
  },
  {
   "cell_type": "code",
   "execution_count": null,
   "metadata": {},
   "outputs": [],
   "source": [
    "pitcher_jl.shape, pitcher_yd.shape"
   ]
  },
  {
   "cell_type": "markdown",
   "metadata": {},
   "source": [
    "# Explore (1)\n",
    "\n",
    "The code below will be used to help us look for evidence to answer our question, on what makes pitches different. This can involve looking at data in table format, applying math and statistics, and creating different types of visualizations to represent our data.\n",
    "\n",
    "Two important pieces of data are the speed at which a ball is thrown (a fast ball is often harder to hit) and the rate of spin put on the ball (a quickly rotating ball will cause an aerodynamic force on the ball that makes it move in a curved path that is hard to hit). \n",
    "\n",
    "We can plot these two values in a scatter plot, and group by the type of pitch. This may give us an easy way to characterize these pitches."
   ]
  },
  {
   "cell_type": "code",
   "execution_count": null,
   "metadata": {},
   "outputs": [],
   "source": [
    "# data exploration\n",
    "px.scatter(data_frame=pitcher_jl,x='release_speed',y='release_spin_rate',color='pitch_name',\n",
    "        title='Jon Lester, Pitch speed and spin',\n",
    "        labels={'release_speed':\"Speed (MPH)\", \"release_spin_rate\":\"Spin rate (RPM)\", \"pitch_name\":\"Pitch name\"})\n"
   ]
  },
  {
   "cell_type": "code",
   "execution_count": null,
   "metadata": {},
   "outputs": [],
   "source": [
    "# data exploration\n",
    "px.scatter(data_frame=pitcher_yd,x='release_speed',y='release_spin_rate',color='pitch_name',\n",
    "        title='Yu Darvish, Pitch speed and spin',\n",
    "        labels={'release_speed':\"Speed (MPH)\", \"release_spin_rate\":\"Spin rate (RPM)\", \"pitch_name\":\"Pitch name\"})\n"
   ]
  },
  {
   "cell_type": "markdown",
   "metadata": {},
   "source": [
    "# Interpret\n",
    "\n",
    "In both scatter plots, we see that the data points cluster nicely according to the color indicating pitch type. For both Lester and Darvish, the Four Seamer and Two Seamer fast balls are their faster pitches at 90 to 95 miles per hour. Their curve balls are much slower, betweem 70 and 80 miles per hour.\n",
    "\n",
    "Lester has some odd pitches with a slow spin, less than 1500 rotations per minute. Are these just bad throws? Usually a pitcher wants a fast rotation on the ball, to help make it curve or drop as it travels through the air.\n",
    "\n",
    "Darvish has some very slow pitches, at just 60 miles per hour. By scrolling over the data points, we see these represent \"intentional Balls\" which is a strategy used by pitchers to send a pitch that is far outside the strike zone, so the batter cannot hit it even though it is slow and easy. \n",
    "\n",
    "We also see Darvish has a few slow pitches (65 MPH) labeled as \"Eephus\" which means a \"nothing pitch\", from the Hebrew work \"efes\" meaning \"nothing.\""
   ]
  },
  {
   "cell_type": "markdown",
   "metadata": {},
   "source": [
    "# Explore (2)\n",
    "\n",
    "Since we have the data, let's explore a bit more. The data we have covers several years of pitching. Can we see if the style of the pitcher changes as the years go by?\n",
    "\n",
    "Let's try plotting pitching speed as a function of time. We again can use a scatter plot, with coordinates of game data and release spped. "
   ]
  },
  {
   "cell_type": "code",
   "execution_count": null,
   "metadata": {},
   "outputs": [],
   "source": [
    "px.scatter(data_frame=pitcher_jl,x='game_date',y='release_speed',color='pitch_name',\n",
    "        title='Jon Lester, Pitch speed over time',\n",
    "        labels={'game_date':\"Date\",'release_speed':\"Speed (MPH)\", \"pitch_name\":\"Pitch name\"})\n"
   ]
  },
  {
   "cell_type": "code",
   "execution_count": null,
   "metadata": {},
   "outputs": [],
   "source": [
    "px.scatter(data_frame=pitcher_yd,x='game_date',y='release_speed',color='pitch_name',\n",
    "        title='Yu Darvish, Pitch speed over time',\n",
    "        labels={'game_date':\"Date\",'release_speed':\"Speed (MPH)\", \"pitch_name\":\"Pitch name\"})\n"
   ]
  },
  {
   "cell_type": "markdown",
   "metadata": {},
   "source": [
    "# Interpret\n",
    "\n",
    "We notice that Jon Lester's fastest pitches (Four seamer fast ball) slowed down over the years. We can see this as the top of the data in each year tends to go down. Rolling over the data points, we see the top speed pitch in 2009 was 99.1 MPH, while in the last year of 2019, the speed was 91.7 MPH.\n",
    "\n",
    "For Yu Darvish, the top speed stayed fairly constant, except for his last year in 2019. Interestingly, his curve ball seems to have speeded up over time."
   ]
  },
  {
   "cell_type": "markdown",
   "metadata": {},
   "source": [
    "# Explore (3) Strike zones\n",
    "\n",
    "A pitcher must attempt to throw the ball into the strike zone of the batter, which is a rectangular region above home place extending from the batter's knees to the med=point of the batter's back. Here is a diagram of the strike zone, from the website https://www.umpirebible.com/\n",
    "<img src=\"images/StrikeZone.png\" width= 400>"
   ]
  },
  {
   "cell_type": "markdown",
   "metadata": {},
   "source": [
    "We can make a scatter plot of the position of the ball as it passes across home plate. We do this by selecting the plate_x and plate_z coordinates from the data frame. Here, the x position is the horizontal position along the plate, and z position is the height (in feet). "
   ]
  },
  {
   "cell_type": "code",
   "execution_count": null,
   "metadata": {},
   "outputs": [],
   "source": [
    "px.scatter(data_frame=pitcher_jl,x='plate_x',y='plate_z',color='pitch_name',\n",
    "        title='Jon Lester, Position at home plate (x,z), Called Balls',\n",
    "       labels={'plate_x':\"X position\", \"plate_z\":\"Z position\", \"pitch_name\":\"Pitch name\"})"
   ]
  },
  {
   "cell_type": "markdown",
   "metadata": {},
   "source": [
    "We notice that some of the pitches have a negative z value -- this means they hit the dirt before going over the plate!\n",
    "\n",
    "Some players will hit just about anything, even balls in the dirt. Here is a video of Vladimir Guerrero hitting a one bounce dirt ball, and more."
   ]
  },
  {
   "cell_type": "code",
   "execution_count": null,
   "metadata": {},
   "outputs": [],
   "source": [
    "from IPython.display import IFrame\n",
    "IFrame('https://www.youtube.com/embed/DoAdY3uP9c0', width=500, height=500)"
   ]
  },
  {
   "cell_type": "markdown",
   "metadata": {},
   "source": [
    "## More exploring\n",
    "\n",
    "It is interesting to plot only the pitched that were balls. These are the pitches that were judged by the umpire to not be in the strike zone. We plot this by selecting pitches_type to equal \"B\" for Balls. "
   ]
  },
  {
   "cell_type": "code",
   "execution_count": null,
   "metadata": {},
   "outputs": [],
   "source": [
    "px.scatter(data_frame=pitcher_jl[pitcher_jl.type=='B'],x='plate_x',y='plate_z',color='pitch_name',\n",
    "        title='Jon Lester, Position at home plate (x,z), Called Balls',\n",
    "       labels={'plate_x':\"X position\", \"plate_z\":\"Z position\", \"pitch_name\":\"Pitch name\"})"
   ]
  },
  {
   "cell_type": "markdown",
   "metadata": {},
   "source": [
    "# Interpret\n",
    "\n",
    "By selecting just one pitch type, we see a few interesting things. In the balls-only display, the curve balls tend to fall low and to the left, while the sinkers tend to be low and to the right. The four seamer fastball, on the other hand, seems to fall randonly all around the strike zone. "
   ]
  },
  {
   "cell_type": "markdown",
   "metadata": {},
   "source": [
    "# Communicate\n",
    "\n",
    "Below are some writing prompts to help you reflect on the new information that is presented from the data. When we look at the evidence, think about what you perceive about the information. Is this perception based on what the evidence shows? If others were to view it, what perceptions might they have?\n",
    "\n",
    "- I used to think ____________________but now I know____________________. \n",
    "- I wish I knew more about ____________________. \n",
    "- This visualization reminds me of ____________________. \n",
    "- I really like ____________________."
   ]
  },
  {
   "cell_type": "markdown",
   "metadata": {},
   "source": [
    "## Add your comments here\n",
    "\n",
    "✏️"
   ]
  },
  {
   "cell_type": "markdown",
   "metadata": {},
   "source": [
    "## Saving your work\n",
    "\n",
    "You can download this notebook, with your comments, by using the **File** menu item in the toolbar above. You might like to downloads this in .html format so that the graphics remain active and can be viewed in your web browser."
   ]
  },
  {
   "cell_type": "markdown",
   "metadata": {},
   "source": [
    "[![Callysto.ca License](https://github.com/callysto/curriculum-notebooks/blob/master/callysto-notebook-banner-bottom.jpg?raw=true)](https://github.com/callysto/curriculum-notebooks/blob/master/LICENSE.md)"
   ]
  }
 ],
 "metadata": {
  "kernelspec": {
   "display_name": "Python 3",
   "language": "python",
   "name": "python3"
  },
  "language_info": {
   "codemirror_mode": {
    "name": "ipython",
    "version": 3
   },
   "file_extension": ".py",
   "mimetype": "text/x-python",
   "name": "python",
   "nbconvert_exporter": "python",
   "pygments_lexer": "ipython3",
   "version": "3.8.8"
  }
 },
 "nbformat": 4,
 "nbformat_minor": 4
}
