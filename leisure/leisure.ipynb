{
 "cells": [
  {
   "cell_type": "markdown",
   "metadata": {},
   "source": [
    "![Callysto.ca Banner](https://github.com/callysto/curriculum-notebooks/blob/master/callysto-notebook-banner-top.jpg?raw=true)"
   ]
  },
  {
   "cell_type": "markdown",
   "metadata": {},
   "source": [
    "# Callysto’s Weekly Data Visualization\n",
    "\n",
    "## Weekly Title\n",
    "\n",
    "### Recommended grade level: 6-12"
   ]
  },
  {
   "cell_type": "markdown",
   "metadata": {},
   "source": [
    "### Instructions:\n",
    "#### Step 1 (your only step): “Run” the cells to see the graphs\n",
    "Click “Cell” and select “Run All.” This will import the data and run all the code to so you can see this week's data visualization (scroll to the top after you’ve run the cells). **You don’t need to do any coding**.\n",
    "\n",
    "![instructions](https://github.com/callysto/data-viz-of-the-week/blob/main/images/instructions.png?raw=true)"
   ]
  },
  {
   "cell_type": "markdown",
   "metadata": {},
   "source": [
    "### About The Notebook:\n",
    "\n",
    "Callysto's Weekly Data Visualization is a learning resource that helps Grades 5-12 teachers and students grow and develop data literacy skills. We do this by providing a data visualization, like a graph, and asking teachers and students to interpret it. This companion resource walks learners through how the data visualization is created and interpreted using the data science process. The steps of this process are listed below and applied to each weekly topic.\n",
    "\n",
    "1. Question - What are we trying to answer? \n",
    "2. Gather - Find the data source(s) you will need. \n",
    "3. Organize - Arrange the data so that you can easily explore it. \n",
    "4. Explore - Examine the data to look for evidence to answer our question. This includes creating visualizations. \n",
    "5. Interpret - Explain how the evidence answers our question. \n",
    "6. Communicate - Reflect on the interpretation. "
   ]
  },
  {
   "cell_type": "markdown",
   "metadata": {},
   "source": [
    "## Question\n",
    "How much time do Canadians spend playing video games and how does this change with demographics? We will use official Statistics Canada data to examine this question.\n",
    "\n",
    "\n",
    "### Goal\n",
    "Our goal is to create a series of histograms to observe how much time Canadians spend gaming."
   ]
  },
  {
   "cell_type": "markdown",
   "metadata": {},
   "source": [
    "## Gather\n",
    "\n",
    "The code below will import the Python programming libraries we need to gather and organize the data to answer our question."
   ]
  },
  {
   "cell_type": "code",
   "execution_count": null,
   "metadata": {},
   "outputs": [],
   "source": [
    "from plotly.subplots import make_subplots #used to create our interactive plots\n",
    "import plotly.graph_objects as go \n",
    "import plotly.express as px"
   ]
  },
  {
   "cell_type": "markdown",
   "metadata": {},
   "source": [
    "The code below creates lists data from [this 2010 StatsCan table](https://www150.statcan.gc.ca/n1/pub/89-647-x/2011001/tbl/tbl31-eng.html). The same study was done more recently in 2015. However, the more recent time use survey did not ask about video games.\n",
    "\n",
    "Our lists our as follows:\n",
    "\n",
    "|  List Name             | List Purpose                                                                             |\n",
    "|------------------------|------------------------------------------------------------------------------------------|\n",
    "| categories             | holds names for the age catagories for our bar chart                                     |\n",
    "| leisure_time           | holds number of minutes in \"leisure\" activities for the average person on an average day |\n",
    "| videogame_time_all     | holds number of minutes spent gaming for the average person on an average day            |\n",
    "| videogame_time_players | holds number of minutes spent gaming for the average gamer on an average day             |"
   ]
  },
  {
   "cell_type": "code",
   "execution_count": null,
   "metadata": {},
   "outputs": [],
   "source": [
    "## import data\n",
    "categories = [\"15 to 24\", \"25 to 34\", \"35 to 44\", \"45 to 54\", \"55 to 64\", \"65 to 74\", \"75 and over\"]\n",
    "leisure_time = [5*60+57, 4*60+53, 4*60+6, 4*60+44, 5*60+55, 7*60+19, 7*60+34]\n",
    "videogame_time_all = [27, 10, 4, 4, 6, 6, 4]\n",
    "videogame_time_players = [2*60+44, 2*60+34, 109, 127, 118, 133, 2*60+32]"
   ]
  },
  {
   "cell_type": "markdown",
   "metadata": {},
   "source": [
    "## Organize\n",
    "\n",
    "Since our data is just 4 simple lists there is no need to organize it further."
   ]
  },
  {
   "cell_type": "markdown",
   "metadata": {},
   "source": [
    "## Explore-1\n",
    "\n",
    "The code below will be used to help us look for evidence to answer our question. This can involve looking at data in table format, applying math and statistics, and creating different types of visualizations to represent our data."
   ]
  },
  {
   "cell_type": "code",
   "execution_count": null,
   "metadata": {},
   "outputs": [],
   "source": [
    "fig1 = px.bar(x=videogame_time_all, y=categories,\n",
    "             title=\"Average Number of Minutes Spent Playing Video Games Per Day\",\n",
    "             labels={'y':'Canadians', 'x':'Minutes Gaming on Average Day'})\n",
    "fig1.show()"
   ]
  },
  {
   "cell_type": "markdown",
   "metadata": {},
   "source": [
    "## Interpret-1\n",
    "\n",
    "## Explore-2"
   ]
  },
  {
   "cell_type": "code",
   "execution_count": null,
   "metadata": {},
   "outputs": [],
   "source": []
  },
  {
   "cell_type": "code",
   "execution_count": null,
   "metadata": {},
   "outputs": [],
   "source": [
    "fig2 = px.bar(x=videogame_time_players, y=categories,\n",
    "              title=\"Average Number of Minutes Spent Playing Video Games Per Day\",\n",
    "             labels={'y':'Canadians Who Play Computer Games', 'x':'Minutes Gaming on Average Day'})\n",
    "fig2.show()"
   ]
  },
  {
   "cell_type": "markdown",
   "metadata": {},
   "source": [
    "## Interpret-2\n",
    "\n",
    "## Explore-3"
   ]
  },
  {
   "cell_type": "code",
   "execution_count": null,
   "metadata": {},
   "outputs": [],
   "source": [
    "fig3 = px.bar(x=leisure_time, y=categories,\n",
    "              title=\"Average Number of Minutes Spent on Leisure Activities Per Week\",\n",
    "             labels={'y':'Canadians', 'x':'Minutes of Leisure Activities Per Day'})\n",
    "fig3.show()"
   ]
  },
  {
   "cell_type": "markdown",
   "metadata": {},
   "source": [
    "## Interpret-3\n",
    "\n",
    "Below, we will discuss the plot we created and how to examine it.\n",
    "\n",
    "We made 3 bar charts with age categories for Candians along the x-axis and average daily time along the y-axis. In the first and third bar charts the age groups are of all Canadians. The second bar chart excluded all canadians who do not play video games - this bar chart shows only the average time gaming per day for Canadians who do game.\n",
    "\n",
    "Not that once you ignore the non-gamers the third chart, the one showing time devoted to leisure activities including video games, looks very similar to the second chart.\n"
   ]
  },
  {
   "cell_type": "markdown",
   "metadata": {},
   "source": [
    "## 6. Communicate\n",
    "\n",
    "Below we will reflect on the new information that is presented from the data. When we look at the evidence, think about what you perceive about the information. Is this perception based on what the evidence shows? If others were to view it, what perceptions might they have? These writing prompts can help you reflect.\n",
    "\n",
    "- Why do you think the second and third charts are so alike?\n",
    "- What does it mean that when you look at the population of Canadians, the average 15-24 year old spends much more time gaming than the 75 and over, but they're almost the same when you only look at people who game at least some?\n",
    "- If we had current data, how do you think these plots would look?"
   ]
  },
  {
   "cell_type": "markdown",
   "metadata": {},
   "source": [
    "[![Callysto.ca License](https://github.com/callysto/curriculum-notebooks/blob/master/callysto-notebook-banner-bottom.jpg?raw=true)](https://github.com/callysto/curriculum-notebooks/blob/master/LICENSE.md)"
   ]
  },
  {
   "cell_type": "code",
   "execution_count": null,
   "metadata": {},
   "outputs": [],
   "source": [
    "#remove before merging to master\n",
    "import plotly.io as pio\n",
    "pio.write_html(fig1,\"leisure.html\", auto_open=True, include_plotlyjs=True)"
   ]
  }
 ],
 "metadata": {
  "kernelspec": {
   "display_name": "Python 3",
   "language": "python",
   "name": "python3"
  },
  "language_info": {
   "codemirror_mode": {
    "name": "ipython",
    "version": 3
   },
   "file_extension": ".py",
   "mimetype": "text/x-python",
   "name": "python",
   "nbconvert_exporter": "python",
   "pygments_lexer": "ipython3",
   "version": "3.8.5"
  }
 },
 "nbformat": 4,
 "nbformat_minor": 4
}
