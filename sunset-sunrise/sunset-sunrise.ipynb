{
 "cells": [
  {
   "attachments": {},
   "cell_type": "markdown",
   "id": "9b0b7372",
   "metadata": {},
   "source": [
    "![Callysto.ca Banner](https://github.com/callysto/curriculum-notebooks/blob/master/callysto-notebook-banner-top.jpg?raw=true)\n",
    "\n",
    "<a href=\"https://hub.callysto.ca/jupyter/hub/user-redirect/git-pull?repo=https%3A%2F%2Fgithub.com%2Fcallysto%2Fcurriculum-notebooks&branch=master&subPath=SocialStudies/HansardAnalysis/hansard-analysis.ipynb&depth=1\" target=\"_parent\"><img src=\"https://raw.githubusercontent.com/callysto/curriculum-notebooks/master/open-in-callysto-button.svg?sanitize=true\" width=\"123\" height=\"24\" alt=\"Open in Callysto\"/></a>"
   ]
  },
  {
   "attachments": {},
   "cell_type": "markdown",
   "id": "aad881d7",
   "metadata": {},
   "source": [
    "# Callysto's Weekly Data Visualization\n"
   ]
  },
  {
   "attachments": {},
   "cell_type": "markdown",
   "id": "4b9201e4",
   "metadata": {},
   "source": [
    "## Sunset and Sunrise"
   ]
  },
  {
   "attachments": {},
   "cell_type": "markdown",
   "id": "83a0ff5a",
   "metadata": {},
   "source": [
    "### Recommended Grade levels: 5-9"
   ]
  },
  {
   "attachments": {},
   "cell_type": "markdown",
   "id": "df77e9b4",
   "metadata": {},
   "source": [
    "### Instructions\n",
    "\n",
    "Click \"Cell\" and select \"Run All\".\n",
    "\n",
    "This will import the data and run all the code, so you can see this week's data visualization. Scroll back to the top after you’ve run the cells.\n",
    "\n",
    "![instructions](https://github.com/callysto/data-viz-of-the-week/blob/main/images/instructions.png?raw=true)\n",
    "\n",
    "**You don't need to do any coding to view the visualizations**.\n",
    "\n",
    "The plots generated in this notebook are interactive. You can hover over and click on elements to see more information. \n",
    "\n",
    "Email contact@callysto.ca if you experience issues."
   ]
  },
  {
   "attachments": {},
   "cell_type": "markdown",
   "id": "ffebf8ad",
   "metadata": {},
   "source": [
    "### About this Notebook\n",
    "\n",
    "Callysto's Weekly Data Visualization is a learning resource that aims to develop data literacy skills. We provide Grades 5-12 teachers and students with a data visualization, like a graph, to interpret. This companion resource walks learners through how the data visualization is created and interpreted by a data scientist. \n",
    "\n",
    "The steps of the data analysis process are listed below and applied to each weekly topic.\n",
    "\n",
    "1. Question - What are we trying to answer?\n",
    "2. Gather - Find the data source(s) you will need. \n",
    "3. Organize - Arrange the data, so that you can easily explore it. \n",
    "4. Explore - Examine the data to look for evidence to answer the question. This includes creating visualizations. \n",
    "5. Interpret - Describe what's happening in the data visualization. \n",
    "6. Communicate - Explain how the evidence answers the question. "
   ]
  },
  {
   "attachments": {},
   "cell_type": "markdown",
   "id": "67695130",
   "metadata": {},
   "source": [
    "## Question\n",
    "\n",
    "What are the sunset, sunrise, and day lengths of particular areas around the world?"
   ]
  },
  {
   "attachments": {},
   "cell_type": "markdown",
   "id": "da2d5331",
   "metadata": {},
   "source": [
    "### Goal\n",
    "\n",
    "Our goal is to show the differences between sunrise, sunset, and day lengths around the world and how timezones can drastically these factors."
   ]
  },
  {
   "attachments": {},
   "cell_type": "markdown",
   "id": "e18ee61a",
   "metadata": {},
   "source": [
    "### Background\n",
    "\n",
    "Welcome to the wonderful world of Sunrises and Sunsets! In this vibrant notebook, we embark on an breathtaking journey through the captivating beauty of nature's daily masterpieces, sunrises and sunsets. Have you ever wondered what the sunset times are in Calgary compared to Berlin? We will be exploring these differences throughout this notebook."
   ]
  },
  {
   "attachments": {},
   "cell_type": "markdown",
   "id": "ca7853a8",
   "metadata": {},
   "source": [
    "## Gather"
   ]
  },
  {
   "attachments": {},
   "cell_type": "markdown",
   "id": "4cd20d7a",
   "metadata": {},
   "source": [
    "\n",
    "Sunrise and sunset data was collected through the [Sunset and Sunrise](https://sunrise-sunset.org/api) API, which provides sunset and sunrise times when given a specific latitude and longitude. "
   ]
  },
  {
   "attachments": {},
   "cell_type": "markdown",
   "id": "4d59e3ca",
   "metadata": {},
   "source": [
    "### Code: "
   ]
  },
  {
   "attachments": {},
   "cell_type": "markdown",
   "id": "8d172ca9",
   "metadata": {},
   "source": [
    "Run the code cells below to import the libraries we need for this project. Libraries are pre-made code that make it easier to analyze our data."
   ]
  },
  {
   "cell_type": "code",
   "execution_count": 3,
   "id": "5677e2f7",
   "metadata": {},
   "outputs": [
    {
     "name": "stdout",
     "output_type": "stream",
     "text": [
      "Libraries imported\n"
     ]
    }
   ],
   "source": [
    "import requests\n",
    "from datetime import *\n",
    "import pandas as pd\n",
    "import plotly.express as px\n",
    "import json\n",
    "print('Libraries imported')"
   ]
  },
  {
   "attachments": {},
   "cell_type": "markdown",
   "id": "4e32b918",
   "metadata": {},
   "source": [
    "[Pandas](https://pandas.pydata.org/) is a library that helps us with data analysis, and [plotly express](https://plotly.com/python/plotly-express/) is a library that helps us to make visualizations. [Requests](https://requests.readthedocs.io/en/latest/) and [json](https://docs.python.org/3/library/json.html) help read the sunset and sunrise data from an external API. If you are not familiar with what an API is or does, it essentially sends information to one party from another. For example, many Twitter bots make use of the Twitter API where twitter sends information these bots may need in order to properly function. [Datetime](https://docs.python.org/3/library/datetime.html) supplies information in regards to manipulating dates and times and [tzfpy](https://pypi.org/project/tzfpy/) allows us to find timezone names by supplying longitude and latitude values. \n",
    "\n",
    "Without importing these libraries we would have to use much more code to analyze our data and generate visualizations. We import the libraries with abbreviations, or aliases, so that we have less typing to do in each line of our code below."
   ]
  },
  {
   "attachments": {},
   "cell_type": "markdown",
   "id": "55d5bd91",
   "metadata": {},
   "source": [
    "### Data\n",
    "We are using data from the [Sunset and Sunrise](https://sunrise-sunset.org/api) API. Run the code below to populate the data into a dataframe.\n",
    "\n",
    "#### Import the Data"
   ]
  },
  {
   "attachments": {},
   "cell_type": "markdown",
   "id": "9afaf793",
   "metadata": {},
   "source": [
    "Let's try inputting the _latitude_ and _longitude_ of Calgary and see what the resulting data is."
   ]
  },
  {
   "cell_type": "code",
   "execution_count": 4,
   "id": "f899c067",
   "metadata": {},
   "outputs": [
    {
     "name": "stdout",
     "output_type": "stream",
     "text": [
      "Information about Calgary: {'results': {'sunrise': '11:30:06 AM', 'sunset': '3:36:32 AM', 'solar_noon': '7:33:19 PM', 'day_length': '16:06:26', 'civil_twilight_begin': '10:48:48 AM', 'civil_twilight_end': '4:17:51 AM', 'nautical_twilight_begin': '9:47:13 AM', 'nautical_twilight_end': '5:19:26 AM', 'astronomical_twilight_begin': '12:00:01 AM', 'astronomical_twilight_end': '12:00:01 AM'}, 'status': 'OK'}\n"
     ]
    },
    {
     "data": {
      "text/html": [
       "<div>\n",
       "<style scoped>\n",
       "    .dataframe tbody tr th:only-of-type {\n",
       "        vertical-align: middle;\n",
       "    }\n",
       "\n",
       "    .dataframe tbody tr th {\n",
       "        vertical-align: top;\n",
       "    }\n",
       "\n",
       "    .dataframe thead th {\n",
       "        text-align: right;\n",
       "    }\n",
       "</style>\n",
       "<table border=\"1\" class=\"dataframe\">\n",
       "  <thead>\n",
       "    <tr style=\"text-align: right;\">\n",
       "      <th></th>\n",
       "      <th>sunrise</th>\n",
       "      <th>sunset</th>\n",
       "      <th>solar_noon</th>\n",
       "      <th>day_length</th>\n",
       "      <th>civil_twilight_begin</th>\n",
       "      <th>civil_twilight_end</th>\n",
       "      <th>nautical_twilight_begin</th>\n",
       "      <th>nautical_twilight_end</th>\n",
       "      <th>astronomical_twilight_begin</th>\n",
       "      <th>astronomical_twilight_end</th>\n",
       "    </tr>\n",
       "  </thead>\n",
       "  <tbody>\n",
       "    <tr>\n",
       "      <th>0</th>\n",
       "      <td>11:30:06 AM</td>\n",
       "      <td>3:36:32 AM</td>\n",
       "      <td>7:33:19 PM</td>\n",
       "      <td>16:06:26</td>\n",
       "      <td>10:48:48 AM</td>\n",
       "      <td>4:17:51 AM</td>\n",
       "      <td>9:47:13 AM</td>\n",
       "      <td>5:19:26 AM</td>\n",
       "      <td>12:00:01 AM</td>\n",
       "      <td>12:00:01 AM</td>\n",
       "    </tr>\n",
       "  </tbody>\n",
       "</table>\n",
       "</div>"
      ],
      "text/plain": [
       "       sunrise      sunset  solar_noon day_length civil_twilight_begin  \\\n",
       "0  11:30:06 AM  3:36:32 AM  7:33:19 PM   16:06:26          10:48:48 AM   \n",
       "\n",
       "  civil_twilight_end nautical_twilight_begin nautical_twilight_end  \\\n",
       "0         4:17:51 AM              9:47:13 AM            5:19:26 AM   \n",
       "\n",
       "  astronomical_twilight_begin astronomical_twilight_end  \n",
       "0                 12:00:01 AM               12:00:01 AM  "
      ]
     },
     "metadata": {},
     "output_type": "display_data"
    }
   ],
   "source": [
    "lat= 51.049999\n",
    "lng= -114.06666\n",
    "\n",
    "query = {'lat': lat, 'lng': lng, 'date': 'today'}\n",
    "response = requests.get(url = 'https://api.sunrise-sunset.org/json?', params=query)\n",
    "\n",
    "data = response.json()\n",
    "print(f\"Information about Calgary: {data}\")\n",
    "df = pd.json_normalize(data['results'])\n",
    "display(df)"
   ]
  },
  {
   "attachments": {},
   "cell_type": "markdown",
   "id": "1526d194",
   "metadata": {},
   "source": [
    "### Comment on the data\n",
    "\n",
    "The dataframe above is a file structure that allows Python to display data in an easily readable format, similar to a spreadsheet. "
   ]
  },
  {
   "attachments": {},
   "cell_type": "markdown",
   "id": "69c8b9c3",
   "metadata": {},
   "source": [
    "Looking at the data, we have multiple things to take note of. In particular, we see thaty we have access to the `sunrise` and `sunset` for a location at a particular _latitude_ and _longitude_. We also have access to `day_length` which highlights the length of a particular date. However, one particular issue with this dataset is that times are represented in the **UTC timezone**. Let's keep mind of this and _transform_ our data later."
   ]
  },
  {
   "cell_type": "code",
   "execution_count": 5,
   "id": "48fb5432",
   "metadata": {},
   "outputs": [
    {
     "name": "stdout",
     "output_type": "stream",
     "text": [
      "Calgary's latitude of 51.049999 and longitude -114.06666, has a corresponding sunrise and sunset times are 11:30:06 AM and 3:36:32 AM in the UTC timezone.\n"
     ]
    }
   ],
   "source": [
    "sunrise = data['results']['sunrise']\n",
    "sunset = data['results']['sunset']\n",
    "print(f\"Calgary's latitude of {lat} and longitude {lng}, has a corresponding sunrise and sunset times are {sunrise} and {sunset} in the UTC timezone.\")"
   ]
  },
  {
   "attachments": {},
   "cell_type": "markdown",
   "id": "eea15c57",
   "metadata": {},
   "source": [
    "Imagine you're going on a trip around the world, and you want to know how the length of day and night changes depending on where you are. Well, it all has to do with two special lines called latitude and longitude.\n",
    "\n",
    "Latitude is like a horizontal belt that runs around the Earth. The Equator is the most important line, dividing the Earth into the Northern and Southern Hemispheres.\n",
    "\n",
    "Longitude is like a set of vertical lines that go from the North Pole to the South Pole. The Prime Meridian, which goes through Greenwich, London, is the main one.\n",
    "\n",
    "When you're close to the middle of the Earth (the equator), daytime and nighttime are about the same length. But as you move away from the equator towards the North Pole or the South Pole, the days become longer and the nights become shorter. So, the further you are from the equator, the bigger the differences between daytime and nighttime."
   ]
  },
  {
   "attachments": {},
   "cell_type": "markdown",
   "id": "80ea92ab",
   "metadata": {},
   "source": [
    "## Organize\n",
    "An important part of the data science process is cleaning up and organizing your data so it can be useful for finding observations. Part of cleaning involves \n",
    "- identifying missing data\n",
    "- removing missing data\n",
    "- ensuring the data is all in the same format\n",
    "- identifying and dealing with outliers. \n",
    "\n",
    "In our particular case, we have two main things to keep in mind. One is that our data is currently in the **UTC timezone**. Timezones are super important when it comes to sunset and sunrise times! Imagine you're on an adventure with your friends in different parts of the world. Each place has its own special time. Timezones help us keep track of these different times and make sure everyone knows when the sun will rise and set in their area. You see, the Earth is a big globe, and as it spins around, different parts face the sun at different times. So, when it's morning in one place, it might still be night in another place far away. Timezones help us organize and understand these differences. \n",
    "\n",
    "The other issue we need to fix is converting our `sunrise` and `sunset` times from the _12-hour_ format into the _24-hour_ format. This is useful in a number of ways but we'll go more into depth when we solve the issue directly. "
   ]
  },
  {
   "attachments": {},
   "cell_type": "markdown",
   "id": "49cd81e6",
   "metadata": {},
   "source": [
    "With a quick search we find out that Calgary is currently in the MDT/MST timezone which is (GMT-6). If you're having a hard time finding out your own local timezone, use [this](https://www.timeanddate.com/worldclock/converter.html) site which helps find the differences between your timezone and UTC.\n"
   ]
  },
  {
   "attachments": {},
   "cell_type": "markdown",
   "id": "e455c8b8",
   "metadata": {},
   "source": [
    "Using the site listed, we know that MDT/MST is 6 hours behind the **UTC timezone** meaning I have to **subtract** 6 hours from our obtained `sunrise` and `sunset` times in order for times to be in our local timezone. Therefore, I put **-6** in the `hours_to_switch` variable in the cell below."
   ]
  },
  {
   "cell_type": "code",
   "execution_count": 6,
   "id": "b7aef1bf",
   "metadata": {},
   "outputs": [],
   "source": [
    "# Difference in hours between UTC and MST - Change this value later on in the notebook to the timezone you'd like to swap to\n",
    "offset_hours = -6"
   ]
  },
  {
   "attachments": {},
   "cell_type": "markdown",
   "id": "5ed7a889",
   "metadata": {},
   "source": [
    "If your timezone was ahead of UTC, instead of subtracting a certain amount of hours, you would have to **add** a certain amount of hours. For example, if my timezone was 4 hours ahead of UTC, I would input **4** into the `hours_to_switch` variable."
   ]
  },
  {
   "cell_type": "code",
   "execution_count": 14,
   "id": "7d493a04",
   "metadata": {},
   "outputs": [
    {
     "data": {
      "text/html": [
       "<div>\n",
       "<style scoped>\n",
       "    .dataframe tbody tr th:only-of-type {\n",
       "        vertical-align: middle;\n",
       "    }\n",
       "\n",
       "    .dataframe tbody tr th {\n",
       "        vertical-align: top;\n",
       "    }\n",
       "\n",
       "    .dataframe thead th {\n",
       "        text-align: right;\n",
       "    }\n",
       "</style>\n",
       "<table border=\"1\" class=\"dataframe\">\n",
       "  <thead>\n",
       "    <tr style=\"text-align: right;\">\n",
       "      <th></th>\n",
       "      <th>location</th>\n",
       "      <th>latitude</th>\n",
       "      <th>longitude</th>\n",
       "    </tr>\n",
       "  </thead>\n",
       "  <tbody>\n",
       "    <tr>\n",
       "      <th>0</th>\n",
       "      <td>Tokyo, Japan</td>\n",
       "      <td>35.672855</td>\n",
       "      <td>139.817413</td>\n",
       "    </tr>\n",
       "    <tr>\n",
       "      <th>1</th>\n",
       "      <td>London, United Kingdom</td>\n",
       "      <td>51.509865</td>\n",
       "      <td>-0.118092</td>\n",
       "    </tr>\n",
       "    <tr>\n",
       "      <th>2</th>\n",
       "      <td>New York City, United States of America</td>\n",
       "      <td>40.730610</td>\n",
       "      <td>-73.935242</td>\n",
       "    </tr>\n",
       "    <tr>\n",
       "      <th>3</th>\n",
       "      <td>Dubai, United Arab Emirates</td>\n",
       "      <td>25.276987</td>\n",
       "      <td>55.296249</td>\n",
       "    </tr>\n",
       "    <tr>\n",
       "      <th>4</th>\n",
       "      <td>Hong Kong, China</td>\n",
       "      <td>22.302711</td>\n",
       "      <td>114.177216</td>\n",
       "    </tr>\n",
       "    <tr>\n",
       "      <th>5</th>\n",
       "      <td>Mumbai, India</td>\n",
       "      <td>19.076090</td>\n",
       "      <td>72.877426</td>\n",
       "    </tr>\n",
       "    <tr>\n",
       "      <th>6</th>\n",
       "      <td>Bangkok, Thailand</td>\n",
       "      <td>13.736717</td>\n",
       "      <td>100.523184</td>\n",
       "    </tr>\n",
       "    <tr>\n",
       "      <th>7</th>\n",
       "      <td>Paris, France</td>\n",
       "      <td>48.864716</td>\n",
       "      <td>2.349014</td>\n",
       "    </tr>\n",
       "    <tr>\n",
       "      <th>8</th>\n",
       "      <td>Istanbul, Turkey</td>\n",
       "      <td>41.015137</td>\n",
       "      <td>28.979530</td>\n",
       "    </tr>\n",
       "    <tr>\n",
       "      <th>9</th>\n",
       "      <td>Seoul, South Korea</td>\n",
       "      <td>37.532600</td>\n",
       "      <td>127.024612</td>\n",
       "    </tr>\n",
       "  </tbody>\n",
       "</table>\n",
       "</div>"
      ],
      "text/plain": [
       "                                  location   latitude   longitude\n",
       "0                             Tokyo, Japan  35.672855  139.817413\n",
       "1                   London, United Kingdom  51.509865   -0.118092\n",
       "2  New York City, United States of America  40.730610  -73.935242\n",
       "3              Dubai, United Arab Emirates  25.276987   55.296249\n",
       "4                         Hong Kong, China  22.302711  114.177216\n",
       "5                            Mumbai, India  19.076090   72.877426\n",
       "6                        Bangkok, Thailand  13.736717  100.523184\n",
       "7                            Paris, France  48.864716    2.349014\n",
       "8                         Istanbul, Turkey  41.015137   28.979530\n",
       "9                       Seoul, South Korea  37.532600  127.024612"
      ]
     },
     "metadata": {},
     "output_type": "display_data"
    }
   ],
   "source": [
    "data = {'location': ['Tokyo, Japan', 'London, United Kingdom', 'New York City, United States of America', \n",
    "                     'Dubai, United Arab Emirates', 'Hong Kong, China', 'Mumbai, India', 'Bangkok, Thailand',\n",
    "                     'Paris, France', 'Istanbul, Turkey', 'Seoul, South Korea'],\n",
    "        'latitude': [35.672855, 51.509865, 40.730610, 25.276987, 22.302711, 19.076090, 13.736717, 48.864716, 41.015137, 37.532600], \n",
    "        'longitude': [139.817413, -0.118092, -73.935242, 55.296249, 114.177216, 72.877426, 100.523184, 2.349014, 28.979530, 127.024612]}\n",
    "\n",
    "places = pd.DataFrame(data=data)\n",
    "display(places)"
   ]
  },
  {
   "attachments": {},
   "cell_type": "markdown",
   "id": "12165d50",
   "metadata": {},
   "source": [
    "Listed above are some popular locations with their listed latitude and longitude values. Once again, you can find the timezones for these locations using an online [timezone converter](https://www.timeanddate.com/worldclock/converter.html)."
   ]
  },
  {
   "attachments": {},
   "cell_type": "markdown",
   "id": "5ab6e1bf",
   "metadata": {},
   "source": [
    "Great, we now have a reliable way to get a timezone from inputted longitude and latitude values. We also need to convert our times from the _12-hour_ format to the _24-hour_ format alongside using our local timezone which we want to switch our `sunrise` and `sunset` times into."
   ]
  },
  {
   "cell_type": "code",
   "execution_count": 8,
   "id": "395d3144",
   "metadata": {},
   "outputs": [
    {
     "name": "stdout",
     "output_type": "stream",
     "text": [
      "05:30:06\n"
     ]
    }
   ],
   "source": [
    "def time_convert(time, timezone_swap:int):\n",
    "    # Note, here you have to change the timezone information and adjust with a + or - accordingly\n",
    "    t = datetime.strptime(time, '%I:%M:%S %p') + timedelta(hours=timezone_swap)\n",
    "    # Format the datetime object into a 24-hour time string\n",
    "    format = '%H:%M:%S'\n",
    "    t = t.strftime(format)\n",
    "    #  Convert back to datetime object\n",
    "    t = datetime.strptime(t, '%H:%M:%S').time()\n",
    "    return(t)\n",
    "\n",
    "print(time_convert(sunrise, offset_hours))"
   ]
  },
  {
   "attachments": {},
   "cell_type": "markdown",
   "id": "c83b2cf4",
   "metadata": {},
   "source": [
    "By converting our data into a consistent format we make plotting later on much easier and it makes comparing different time values consistent as **24** will always be the maximum while **0** is always the minimum."
   ]
  },
  {
   "attachments": {},
   "cell_type": "markdown",
   "id": "4501f4fb",
   "metadata": {},
   "source": [
    "## Explore"
   ]
  },
  {
   "attachments": {},
   "cell_type": "markdown",
   "id": "64a1ee1c",
   "metadata": {},
   "source": [
    "Now that our data has been _transformed_, we can start finding ways to explore going beyond just finding `sunset` and `sunrise` times for a particular date. What if we wanted to look at the differences between `sunrise` and `sunset` in a scope of a couple of days, a month, or even an year? Let's try finding a way to set a particular range of dates in order to compare these values! \n",
    "\n",
    "(Note): When inputing ranges of dates that are over an year, the notebook will take a long time to load."
   ]
  },
  {
   "cell_type": "code",
   "execution_count": 9,
   "id": "930508a9",
   "metadata": {},
   "outputs": [
    {
     "data": {
      "text/html": [
       "<div>\n",
       "<style scoped>\n",
       "    .dataframe tbody tr th:only-of-type {\n",
       "        vertical-align: middle;\n",
       "    }\n",
       "\n",
       "    .dataframe tbody tr th {\n",
       "        vertical-align: top;\n",
       "    }\n",
       "\n",
       "    .dataframe thead th {\n",
       "        text-align: right;\n",
       "    }\n",
       "</style>\n",
       "<table border=\"1\" class=\"dataframe\">\n",
       "  <thead>\n",
       "    <tr style=\"text-align: right;\">\n",
       "      <th></th>\n",
       "      <th>date</th>\n",
       "    </tr>\n",
       "  </thead>\n",
       "  <tbody>\n",
       "    <tr>\n",
       "      <th>0</th>\n",
       "      <td>2023-04-19</td>\n",
       "    </tr>\n",
       "    <tr>\n",
       "      <th>1</th>\n",
       "      <td>2023-04-20</td>\n",
       "    </tr>\n",
       "    <tr>\n",
       "      <th>2</th>\n",
       "      <td>2023-04-21</td>\n",
       "    </tr>\n",
       "    <tr>\n",
       "      <th>3</th>\n",
       "      <td>2023-04-22</td>\n",
       "    </tr>\n",
       "    <tr>\n",
       "      <th>4</th>\n",
       "      <td>2023-04-23</td>\n",
       "    </tr>\n",
       "    <tr>\n",
       "      <th>5</th>\n",
       "      <td>2023-04-24</td>\n",
       "    </tr>\n",
       "    <tr>\n",
       "      <th>6</th>\n",
       "      <td>2023-04-25</td>\n",
       "    </tr>\n",
       "    <tr>\n",
       "      <th>7</th>\n",
       "      <td>2023-04-26</td>\n",
       "    </tr>\n",
       "    <tr>\n",
       "      <th>8</th>\n",
       "      <td>2023-04-27</td>\n",
       "    </tr>\n",
       "    <tr>\n",
       "      <th>9</th>\n",
       "      <td>2023-04-28</td>\n",
       "    </tr>\n",
       "    <tr>\n",
       "      <th>10</th>\n",
       "      <td>2023-04-29</td>\n",
       "    </tr>\n",
       "    <tr>\n",
       "      <th>11</th>\n",
       "      <td>2023-04-30</td>\n",
       "    </tr>\n",
       "    <tr>\n",
       "      <th>12</th>\n",
       "      <td>2023-05-01</td>\n",
       "    </tr>\n",
       "    <tr>\n",
       "      <th>13</th>\n",
       "      <td>2023-05-02</td>\n",
       "    </tr>\n",
       "    <tr>\n",
       "      <th>14</th>\n",
       "      <td>2023-05-03</td>\n",
       "    </tr>\n",
       "    <tr>\n",
       "      <th>15</th>\n",
       "      <td>2023-05-04</td>\n",
       "    </tr>\n",
       "    <tr>\n",
       "      <th>16</th>\n",
       "      <td>2023-05-05</td>\n",
       "    </tr>\n",
       "    <tr>\n",
       "      <th>17</th>\n",
       "      <td>2023-05-06</td>\n",
       "    </tr>\n",
       "    <tr>\n",
       "      <th>18</th>\n",
       "      <td>2023-05-07</td>\n",
       "    </tr>\n",
       "    <tr>\n",
       "      <th>19</th>\n",
       "      <td>2023-05-08</td>\n",
       "    </tr>\n",
       "    <tr>\n",
       "      <th>20</th>\n",
       "      <td>2023-05-09</td>\n",
       "    </tr>\n",
       "    <tr>\n",
       "      <th>21</th>\n",
       "      <td>2023-05-10</td>\n",
       "    </tr>\n",
       "    <tr>\n",
       "      <th>22</th>\n",
       "      <td>2023-05-11</td>\n",
       "    </tr>\n",
       "    <tr>\n",
       "      <th>23</th>\n",
       "      <td>2023-05-12</td>\n",
       "    </tr>\n",
       "    <tr>\n",
       "      <th>24</th>\n",
       "      <td>2023-05-13</td>\n",
       "    </tr>\n",
       "    <tr>\n",
       "      <th>25</th>\n",
       "      <td>2023-05-14</td>\n",
       "    </tr>\n",
       "    <tr>\n",
       "      <th>26</th>\n",
       "      <td>2023-05-15</td>\n",
       "    </tr>\n",
       "    <tr>\n",
       "      <th>27</th>\n",
       "      <td>2023-05-16</td>\n",
       "    </tr>\n",
       "    <tr>\n",
       "      <th>28</th>\n",
       "      <td>2023-05-17</td>\n",
       "    </tr>\n",
       "    <tr>\n",
       "      <th>29</th>\n",
       "      <td>2023-05-18</td>\n",
       "    </tr>\n",
       "  </tbody>\n",
       "</table>\n",
       "</div>"
      ],
      "text/plain": [
       "          date\n",
       "0   2023-04-19\n",
       "1   2023-04-20\n",
       "2   2023-04-21\n",
       "3   2023-04-22\n",
       "4   2023-04-23\n",
       "5   2023-04-24\n",
       "6   2023-04-25\n",
       "7   2023-04-26\n",
       "8   2023-04-27\n",
       "9   2023-04-28\n",
       "10  2023-04-29\n",
       "11  2023-04-30\n",
       "12  2023-05-01\n",
       "13  2023-05-02\n",
       "14  2023-05-03\n",
       "15  2023-05-04\n",
       "16  2023-05-05\n",
       "17  2023-05-06\n",
       "18  2023-05-07\n",
       "19  2023-05-08\n",
       "20  2023-05-09\n",
       "21  2023-05-10\n",
       "22  2023-05-11\n",
       "23  2023-05-12\n",
       "24  2023-05-13\n",
       "25  2023-05-14\n",
       "26  2023-05-15\n",
       "27  2023-05-16\n",
       "28  2023-05-17\n",
       "29  2023-05-18"
      ]
     },
     "metadata": {},
     "output_type": "display_data"
    }
   ],
   "source": [
    "total_info = {\"date\": []}\n",
    "\n",
    "def daterange(start_date, end_date):\n",
    "    for n in range(int((end_date - start_date).days)):\n",
    "        yield start_date + timedelta(n)\n",
    "\n",
    "start_date = date(2023, 4, 19)\n",
    "end_date = date(2023, 5, 19)\n",
    "\n",
    "for single_date in daterange(start_date, end_date):\n",
    "    total_info[\"date\"].append(single_date.strftime(\"%Y-%m-%d\"))\n",
    "data = pd.DataFrame(total_info)\n",
    "\n",
    "display(data)"
   ]
  },
  {
   "attachments": {},
   "cell_type": "markdown",
   "id": "cac3cdae",
   "metadata": {},
   "source": [
    "Looking above, we see that each date is formated as (YYYY-MM-DD), which is ideal for plotting as each date is in _sequential_ order. "
   ]
  },
  {
   "attachments": {},
   "cell_type": "markdown",
   "id": "8c87f00e",
   "metadata": {},
   "source": [
    "In the cell below, alter the corresponding `longitude`, `latitude` values alongside the particular number of hours needed to offset from the **UTC timezone**."
   ]
  },
  {
   "cell_type": "code",
   "execution_count": 10,
   "id": "e68462e4",
   "metadata": {},
   "outputs": [],
   "source": [
    "# Alter these longitude and latitude values below\n",
    "\n",
    "longitude = -114.06666 # change this longitude value\n",
    "latitude = 51.049999   # change this latitude value\n",
    "\n",
    "# Amount of hours to offset changed here - currently set to MST (Calgary's timezone)\n",
    "offset_hours = -6"
   ]
  },
  {
   "attachments": {},
   "cell_type": "markdown",
   "id": "05ead985",
   "metadata": {},
   "source": [
    "Putting it all together, we can now find `sunrise` and `sunset` times from a certain period of dates obtaining times in a _24-hour_ format."
   ]
  },
  {
   "cell_type": "code",
   "execution_count": 11,
   "id": "0e3e53a4",
   "metadata": {},
   "outputs": [],
   "source": [
    "# params format: latitude, longitude, date (YYYY-MM-DD)\n",
    "sunset_info = {\"sunset\": []}\n",
    "sunrise_info = {\"sunrise\": []}\n",
    "day_length = {\"day_length\": []}\n",
    "\n",
    "def sunrisesunset(lat, lng, date):\n",
    "    params = {\"lat\":lat, \"lng\":lng, \"date\":date}\n",
    "    data = requests.get(\"https://api.sunrise-sunset.org/json\", params=params)\n",
    "    data = json.loads(data.text)\n",
    "    data = data[\"results\"]\n",
    "    return data[\"sunrise\"], data[\"sunset\"], data[\"day_length\"]\n",
    "\n",
    "\n",
    "for i in range(len(data)):\n",
    "    temp, temp1, temp2 = sunrisesunset(latitude, longitude, total_info['date'][i])\n",
    "    sunrise_info['sunrise'].append(time_convert(temp, offset_hours))\n",
    "    sunset_info['sunset'].append(time_convert(temp1, offset_hours))\n",
    "    day_length['day_length'].append(temp2)\n",
    "\n",
    "sunset_info = pd.DataFrame(sunset_info)\n",
    "sunrise_info = pd.DataFrame(sunrise_info)\n",
    "day_length = pd.DataFrame(day_length)"
   ]
  },
  {
   "attachments": {},
   "cell_type": "markdown",
   "id": "b4e1c1cb",
   "metadata": {},
   "source": [
    "Let's display everything in a **dateframe**, appending the `date`, `sunrise`, `sunset`, and `day_length` dataframes."
   ]
  },
  {
   "cell_type": "code",
   "execution_count": 12,
   "id": "a57ea0d3",
   "metadata": {},
   "outputs": [
    {
     "data": {
      "text/html": [
       "<div>\n",
       "<style scoped>\n",
       "    .dataframe tbody tr th:only-of-type {\n",
       "        vertical-align: middle;\n",
       "    }\n",
       "\n",
       "    .dataframe tbody tr th {\n",
       "        vertical-align: top;\n",
       "    }\n",
       "\n",
       "    .dataframe thead th {\n",
       "        text-align: right;\n",
       "    }\n",
       "</style>\n",
       "<table border=\"1\" class=\"dataframe\">\n",
       "  <thead>\n",
       "    <tr style=\"text-align: right;\">\n",
       "      <th></th>\n",
       "      <th>date</th>\n",
       "      <th>sunrise</th>\n",
       "      <th>sunset</th>\n",
       "      <th>day_length</th>\n",
       "    </tr>\n",
       "  </thead>\n",
       "  <tbody>\n",
       "    <tr>\n",
       "      <th>0</th>\n",
       "      <td>2023-04-19</td>\n",
       "      <td>06:30:46</td>\n",
       "      <td>20:39:58</td>\n",
       "      <td>14:09:12</td>\n",
       "    </tr>\n",
       "    <tr>\n",
       "      <th>1</th>\n",
       "      <td>2023-04-20</td>\n",
       "      <td>06:28:43</td>\n",
       "      <td>20:41:37</td>\n",
       "      <td>14:12:54</td>\n",
       "    </tr>\n",
       "    <tr>\n",
       "      <th>2</th>\n",
       "      <td>2023-04-21</td>\n",
       "      <td>06:26:40</td>\n",
       "      <td>20:43:15</td>\n",
       "      <td>14:16:35</td>\n",
       "    </tr>\n",
       "    <tr>\n",
       "      <th>3</th>\n",
       "      <td>2023-04-22</td>\n",
       "      <td>06:24:38</td>\n",
       "      <td>20:44:53</td>\n",
       "      <td>14:20:15</td>\n",
       "    </tr>\n",
       "    <tr>\n",
       "      <th>4</th>\n",
       "      <td>2023-04-23</td>\n",
       "      <td>06:22:37</td>\n",
       "      <td>20:46:32</td>\n",
       "      <td>14:23:55</td>\n",
       "    </tr>\n",
       "    <tr>\n",
       "      <th>5</th>\n",
       "      <td>2023-04-24</td>\n",
       "      <td>06:20:37</td>\n",
       "      <td>20:48:10</td>\n",
       "      <td>14:27:33</td>\n",
       "    </tr>\n",
       "    <tr>\n",
       "      <th>6</th>\n",
       "      <td>2023-04-25</td>\n",
       "      <td>06:18:38</td>\n",
       "      <td>20:49:48</td>\n",
       "      <td>14:31:10</td>\n",
       "    </tr>\n",
       "    <tr>\n",
       "      <th>7</th>\n",
       "      <td>2023-04-26</td>\n",
       "      <td>06:16:40</td>\n",
       "      <td>20:51:26</td>\n",
       "      <td>14:34:46</td>\n",
       "    </tr>\n",
       "    <tr>\n",
       "      <th>8</th>\n",
       "      <td>2023-04-27</td>\n",
       "      <td>06:14:44</td>\n",
       "      <td>20:53:04</td>\n",
       "      <td>14:38:20</td>\n",
       "    </tr>\n",
       "    <tr>\n",
       "      <th>9</th>\n",
       "      <td>2023-04-28</td>\n",
       "      <td>06:12:48</td>\n",
       "      <td>20:54:41</td>\n",
       "      <td>14:41:53</td>\n",
       "    </tr>\n",
       "    <tr>\n",
       "      <th>10</th>\n",
       "      <td>2023-04-29</td>\n",
       "      <td>06:10:54</td>\n",
       "      <td>20:56:19</td>\n",
       "      <td>14:45:25</td>\n",
       "    </tr>\n",
       "    <tr>\n",
       "      <th>11</th>\n",
       "      <td>2023-04-30</td>\n",
       "      <td>06:09:01</td>\n",
       "      <td>20:57:56</td>\n",
       "      <td>14:48:55</td>\n",
       "    </tr>\n",
       "    <tr>\n",
       "      <th>12</th>\n",
       "      <td>2023-05-01</td>\n",
       "      <td>06:07:10</td>\n",
       "      <td>20:59:33</td>\n",
       "      <td>14:52:23</td>\n",
       "    </tr>\n",
       "    <tr>\n",
       "      <th>13</th>\n",
       "      <td>2023-05-02</td>\n",
       "      <td>06:05:20</td>\n",
       "      <td>21:01:09</td>\n",
       "      <td>14:55:49</td>\n",
       "    </tr>\n",
       "    <tr>\n",
       "      <th>14</th>\n",
       "      <td>2023-05-03</td>\n",
       "      <td>06:03:31</td>\n",
       "      <td>21:02:46</td>\n",
       "      <td>14:59:15</td>\n",
       "    </tr>\n",
       "    <tr>\n",
       "      <th>15</th>\n",
       "      <td>2023-05-04</td>\n",
       "      <td>06:01:44</td>\n",
       "      <td>21:04:22</td>\n",
       "      <td>15:02:38</td>\n",
       "    </tr>\n",
       "    <tr>\n",
       "      <th>16</th>\n",
       "      <td>2023-05-05</td>\n",
       "      <td>05:59:58</td>\n",
       "      <td>21:05:57</td>\n",
       "      <td>15:05:59</td>\n",
       "    </tr>\n",
       "    <tr>\n",
       "      <th>17</th>\n",
       "      <td>2023-05-06</td>\n",
       "      <td>05:58:13</td>\n",
       "      <td>21:07:32</td>\n",
       "      <td>15:09:19</td>\n",
       "    </tr>\n",
       "    <tr>\n",
       "      <th>18</th>\n",
       "      <td>2023-05-07</td>\n",
       "      <td>05:56:31</td>\n",
       "      <td>21:09:07</td>\n",
       "      <td>15:12:36</td>\n",
       "    </tr>\n",
       "    <tr>\n",
       "      <th>19</th>\n",
       "      <td>2023-05-08</td>\n",
       "      <td>05:54:50</td>\n",
       "      <td>21:10:41</td>\n",
       "      <td>15:15:51</td>\n",
       "    </tr>\n",
       "    <tr>\n",
       "      <th>20</th>\n",
       "      <td>2023-05-09</td>\n",
       "      <td>05:53:10</td>\n",
       "      <td>21:12:15</td>\n",
       "      <td>15:19:05</td>\n",
       "    </tr>\n",
       "    <tr>\n",
       "      <th>21</th>\n",
       "      <td>2023-05-10</td>\n",
       "      <td>05:51:33</td>\n",
       "      <td>21:13:48</td>\n",
       "      <td>15:22:15</td>\n",
       "    </tr>\n",
       "    <tr>\n",
       "      <th>22</th>\n",
       "      <td>2023-05-11</td>\n",
       "      <td>05:49:57</td>\n",
       "      <td>21:15:20</td>\n",
       "      <td>15:25:23</td>\n",
       "    </tr>\n",
       "    <tr>\n",
       "      <th>23</th>\n",
       "      <td>2023-05-12</td>\n",
       "      <td>05:48:23</td>\n",
       "      <td>21:16:52</td>\n",
       "      <td>15:28:29</td>\n",
       "    </tr>\n",
       "    <tr>\n",
       "      <th>24</th>\n",
       "      <td>2023-05-13</td>\n",
       "      <td>05:46:51</td>\n",
       "      <td>21:18:23</td>\n",
       "      <td>15:31:32</td>\n",
       "    </tr>\n",
       "    <tr>\n",
       "      <th>25</th>\n",
       "      <td>2023-05-14</td>\n",
       "      <td>05:45:20</td>\n",
       "      <td>21:19:53</td>\n",
       "      <td>15:34:33</td>\n",
       "    </tr>\n",
       "    <tr>\n",
       "      <th>26</th>\n",
       "      <td>2023-05-15</td>\n",
       "      <td>05:43:52</td>\n",
       "      <td>21:21:22</td>\n",
       "      <td>15:37:30</td>\n",
       "    </tr>\n",
       "    <tr>\n",
       "      <th>27</th>\n",
       "      <td>2023-05-16</td>\n",
       "      <td>05:42:26</td>\n",
       "      <td>21:22:51</td>\n",
       "      <td>15:40:25</td>\n",
       "    </tr>\n",
       "    <tr>\n",
       "      <th>28</th>\n",
       "      <td>2023-05-17</td>\n",
       "      <td>05:41:02</td>\n",
       "      <td>21:24:18</td>\n",
       "      <td>15:43:16</td>\n",
       "    </tr>\n",
       "    <tr>\n",
       "      <th>29</th>\n",
       "      <td>2023-05-18</td>\n",
       "      <td>05:39:40</td>\n",
       "      <td>21:25:45</td>\n",
       "      <td>15:46:05</td>\n",
       "    </tr>\n",
       "  </tbody>\n",
       "</table>\n",
       "</div>"
      ],
      "text/plain": [
       "          date   sunrise    sunset day_length\n",
       "0   2023-04-19  06:30:46  20:39:58   14:09:12\n",
       "1   2023-04-20  06:28:43  20:41:37   14:12:54\n",
       "2   2023-04-21  06:26:40  20:43:15   14:16:35\n",
       "3   2023-04-22  06:24:38  20:44:53   14:20:15\n",
       "4   2023-04-23  06:22:37  20:46:32   14:23:55\n",
       "5   2023-04-24  06:20:37  20:48:10   14:27:33\n",
       "6   2023-04-25  06:18:38  20:49:48   14:31:10\n",
       "7   2023-04-26  06:16:40  20:51:26   14:34:46\n",
       "8   2023-04-27  06:14:44  20:53:04   14:38:20\n",
       "9   2023-04-28  06:12:48  20:54:41   14:41:53\n",
       "10  2023-04-29  06:10:54  20:56:19   14:45:25\n",
       "11  2023-04-30  06:09:01  20:57:56   14:48:55\n",
       "12  2023-05-01  06:07:10  20:59:33   14:52:23\n",
       "13  2023-05-02  06:05:20  21:01:09   14:55:49\n",
       "14  2023-05-03  06:03:31  21:02:46   14:59:15\n",
       "15  2023-05-04  06:01:44  21:04:22   15:02:38\n",
       "16  2023-05-05  05:59:58  21:05:57   15:05:59\n",
       "17  2023-05-06  05:58:13  21:07:32   15:09:19\n",
       "18  2023-05-07  05:56:31  21:09:07   15:12:36\n",
       "19  2023-05-08  05:54:50  21:10:41   15:15:51\n",
       "20  2023-05-09  05:53:10  21:12:15   15:19:05\n",
       "21  2023-05-10  05:51:33  21:13:48   15:22:15\n",
       "22  2023-05-11  05:49:57  21:15:20   15:25:23\n",
       "23  2023-05-12  05:48:23  21:16:52   15:28:29\n",
       "24  2023-05-13  05:46:51  21:18:23   15:31:32\n",
       "25  2023-05-14  05:45:20  21:19:53   15:34:33\n",
       "26  2023-05-15  05:43:52  21:21:22   15:37:30\n",
       "27  2023-05-16  05:42:26  21:22:51   15:40:25\n",
       "28  2023-05-17  05:41:02  21:24:18   15:43:16\n",
       "29  2023-05-18  05:39:40  21:25:45   15:46:05"
      ]
     },
     "metadata": {},
     "output_type": "display_data"
    }
   ],
   "source": [
    "temp_total_info = data.join(sunrise_info['sunrise'])\n",
    "temp_total_info2 = temp_total_info.join(sunset_info[\"sunset\"])\n",
    "df = temp_total_info2.join(day_length['day_length'])\n",
    "display(df)"
   ]
  },
  {
   "attachments": {},
   "cell_type": "markdown",
   "id": "c13b54ae",
   "metadata": {},
   "source": [
    "From the information we gathered, we can now see _scatterplots_ for `sunrise`, `sunset`, and `day_length` values for our chosen timezone and day lengths."
   ]
  },
  {
   "cell_type": "code",
   "execution_count": 13,
   "id": "27fcf34c",
   "metadata": {},
   "outputs": [
    {
     "data": {
      "application/vnd.plotly.v1+json": {
       "config": {
        "plotlyServerURL": "https://plot.ly"
       },
       "data": [
        {
         "hovertemplate": "sunset=%{y}<br>date=%{x}<extra></extra>",
         "legendgroup": "20:39:58",
         "marker": {
          "color": "red",
          "symbol": "circle"
         },
         "mode": "markers",
         "name": "20:39:58",
         "orientation": "v",
         "showlegend": true,
         "type": "scatter",
         "x": [
          "2023-04-19"
         ],
         "xaxis": "x",
         "y": [
          "20:39:58"
         ],
         "yaxis": "y"
        },
        {
         "hovertemplate": "sunset=%{y}<br>date=%{x}<extra></extra>",
         "legendgroup": "20:41:37",
         "marker": {
          "color": "red",
          "symbol": "circle"
         },
         "mode": "markers",
         "name": "20:41:37",
         "orientation": "v",
         "showlegend": true,
         "type": "scatter",
         "x": [
          "2023-04-20"
         ],
         "xaxis": "x",
         "y": [
          "20:41:37"
         ],
         "yaxis": "y"
        },
        {
         "hovertemplate": "sunset=%{y}<br>date=%{x}<extra></extra>",
         "legendgroup": "20:43:15",
         "marker": {
          "color": "red",
          "symbol": "circle"
         },
         "mode": "markers",
         "name": "20:43:15",
         "orientation": "v",
         "showlegend": true,
         "type": "scatter",
         "x": [
          "2023-04-21"
         ],
         "xaxis": "x",
         "y": [
          "20:43:15"
         ],
         "yaxis": "y"
        },
        {
         "hovertemplate": "sunset=%{y}<br>date=%{x}<extra></extra>",
         "legendgroup": "20:44:53",
         "marker": {
          "color": "red",
          "symbol": "circle"
         },
         "mode": "markers",
         "name": "20:44:53",
         "orientation": "v",
         "showlegend": true,
         "type": "scatter",
         "x": [
          "2023-04-22"
         ],
         "xaxis": "x",
         "y": [
          "20:44:53"
         ],
         "yaxis": "y"
        },
        {
         "hovertemplate": "sunset=%{y}<br>date=%{x}<extra></extra>",
         "legendgroup": "20:46:32",
         "marker": {
          "color": "red",
          "symbol": "circle"
         },
         "mode": "markers",
         "name": "20:46:32",
         "orientation": "v",
         "showlegend": true,
         "type": "scatter",
         "x": [
          "2023-04-23"
         ],
         "xaxis": "x",
         "y": [
          "20:46:32"
         ],
         "yaxis": "y"
        },
        {
         "hovertemplate": "sunset=%{y}<br>date=%{x}<extra></extra>",
         "legendgroup": "20:48:10",
         "marker": {
          "color": "red",
          "symbol": "circle"
         },
         "mode": "markers",
         "name": "20:48:10",
         "orientation": "v",
         "showlegend": true,
         "type": "scatter",
         "x": [
          "2023-04-24"
         ],
         "xaxis": "x",
         "y": [
          "20:48:10"
         ],
         "yaxis": "y"
        },
        {
         "hovertemplate": "sunset=%{y}<br>date=%{x}<extra></extra>",
         "legendgroup": "20:49:48",
         "marker": {
          "color": "red",
          "symbol": "circle"
         },
         "mode": "markers",
         "name": "20:49:48",
         "orientation": "v",
         "showlegend": true,
         "type": "scatter",
         "x": [
          "2023-04-25"
         ],
         "xaxis": "x",
         "y": [
          "20:49:48"
         ],
         "yaxis": "y"
        },
        {
         "hovertemplate": "sunset=%{y}<br>date=%{x}<extra></extra>",
         "legendgroup": "20:51:26",
         "marker": {
          "color": "red",
          "symbol": "circle"
         },
         "mode": "markers",
         "name": "20:51:26",
         "orientation": "v",
         "showlegend": true,
         "type": "scatter",
         "x": [
          "2023-04-26"
         ],
         "xaxis": "x",
         "y": [
          "20:51:26"
         ],
         "yaxis": "y"
        },
        {
         "hovertemplate": "sunset=%{y}<br>date=%{x}<extra></extra>",
         "legendgroup": "20:53:04",
         "marker": {
          "color": "red",
          "symbol": "circle"
         },
         "mode": "markers",
         "name": "20:53:04",
         "orientation": "v",
         "showlegend": true,
         "type": "scatter",
         "x": [
          "2023-04-27"
         ],
         "xaxis": "x",
         "y": [
          "20:53:04"
         ],
         "yaxis": "y"
        },
        {
         "hovertemplate": "sunset=%{y}<br>date=%{x}<extra></extra>",
         "legendgroup": "20:54:41",
         "marker": {
          "color": "red",
          "symbol": "circle"
         },
         "mode": "markers",
         "name": "20:54:41",
         "orientation": "v",
         "showlegend": true,
         "type": "scatter",
         "x": [
          "2023-04-28"
         ],
         "xaxis": "x",
         "y": [
          "20:54:41"
         ],
         "yaxis": "y"
        },
        {
         "hovertemplate": "sunset=%{y}<br>date=%{x}<extra></extra>",
         "legendgroup": "20:56:19",
         "marker": {
          "color": "red",
          "symbol": "circle"
         },
         "mode": "markers",
         "name": "20:56:19",
         "orientation": "v",
         "showlegend": true,
         "type": "scatter",
         "x": [
          "2023-04-29"
         ],
         "xaxis": "x",
         "y": [
          "20:56:19"
         ],
         "yaxis": "y"
        },
        {
         "hovertemplate": "sunset=%{y}<br>date=%{x}<extra></extra>",
         "legendgroup": "20:57:56",
         "marker": {
          "color": "red",
          "symbol": "circle"
         },
         "mode": "markers",
         "name": "20:57:56",
         "orientation": "v",
         "showlegend": true,
         "type": "scatter",
         "x": [
          "2023-04-30"
         ],
         "xaxis": "x",
         "y": [
          "20:57:56"
         ],
         "yaxis": "y"
        },
        {
         "hovertemplate": "sunset=%{y}<br>date=%{x}<extra></extra>",
         "legendgroup": "20:59:33",
         "marker": {
          "color": "red",
          "symbol": "circle"
         },
         "mode": "markers",
         "name": "20:59:33",
         "orientation": "v",
         "showlegend": true,
         "type": "scatter",
         "x": [
          "2023-05-01"
         ],
         "xaxis": "x",
         "y": [
          "20:59:33"
         ],
         "yaxis": "y"
        },
        {
         "hovertemplate": "sunset=%{y}<br>date=%{x}<extra></extra>",
         "legendgroup": "21:01:09",
         "marker": {
          "color": "red",
          "symbol": "circle"
         },
         "mode": "markers",
         "name": "21:01:09",
         "orientation": "v",
         "showlegend": true,
         "type": "scatter",
         "x": [
          "2023-05-02"
         ],
         "xaxis": "x",
         "y": [
          "21:01:09"
         ],
         "yaxis": "y"
        },
        {
         "hovertemplate": "sunset=%{y}<br>date=%{x}<extra></extra>",
         "legendgroup": "21:02:46",
         "marker": {
          "color": "red",
          "symbol": "circle"
         },
         "mode": "markers",
         "name": "21:02:46",
         "orientation": "v",
         "showlegend": true,
         "type": "scatter",
         "x": [
          "2023-05-03"
         ],
         "xaxis": "x",
         "y": [
          "21:02:46"
         ],
         "yaxis": "y"
        },
        {
         "hovertemplate": "sunset=%{y}<br>date=%{x}<extra></extra>",
         "legendgroup": "21:04:22",
         "marker": {
          "color": "red",
          "symbol": "circle"
         },
         "mode": "markers",
         "name": "21:04:22",
         "orientation": "v",
         "showlegend": true,
         "type": "scatter",
         "x": [
          "2023-05-04"
         ],
         "xaxis": "x",
         "y": [
          "21:04:22"
         ],
         "yaxis": "y"
        },
        {
         "hovertemplate": "sunset=%{y}<br>date=%{x}<extra></extra>",
         "legendgroup": "21:05:57",
         "marker": {
          "color": "red",
          "symbol": "circle"
         },
         "mode": "markers",
         "name": "21:05:57",
         "orientation": "v",
         "showlegend": true,
         "type": "scatter",
         "x": [
          "2023-05-05"
         ],
         "xaxis": "x",
         "y": [
          "21:05:57"
         ],
         "yaxis": "y"
        },
        {
         "hovertemplate": "sunset=%{y}<br>date=%{x}<extra></extra>",
         "legendgroup": "21:07:32",
         "marker": {
          "color": "red",
          "symbol": "circle"
         },
         "mode": "markers",
         "name": "21:07:32",
         "orientation": "v",
         "showlegend": true,
         "type": "scatter",
         "x": [
          "2023-05-06"
         ],
         "xaxis": "x",
         "y": [
          "21:07:32"
         ],
         "yaxis": "y"
        },
        {
         "hovertemplate": "sunset=%{y}<br>date=%{x}<extra></extra>",
         "legendgroup": "21:09:07",
         "marker": {
          "color": "red",
          "symbol": "circle"
         },
         "mode": "markers",
         "name": "21:09:07",
         "orientation": "v",
         "showlegend": true,
         "type": "scatter",
         "x": [
          "2023-05-07"
         ],
         "xaxis": "x",
         "y": [
          "21:09:07"
         ],
         "yaxis": "y"
        },
        {
         "hovertemplate": "sunset=%{y}<br>date=%{x}<extra></extra>",
         "legendgroup": "21:10:41",
         "marker": {
          "color": "red",
          "symbol": "circle"
         },
         "mode": "markers",
         "name": "21:10:41",
         "orientation": "v",
         "showlegend": true,
         "type": "scatter",
         "x": [
          "2023-05-08"
         ],
         "xaxis": "x",
         "y": [
          "21:10:41"
         ],
         "yaxis": "y"
        },
        {
         "hovertemplate": "sunset=%{y}<br>date=%{x}<extra></extra>",
         "legendgroup": "21:12:15",
         "marker": {
          "color": "red",
          "symbol": "circle"
         },
         "mode": "markers",
         "name": "21:12:15",
         "orientation": "v",
         "showlegend": true,
         "type": "scatter",
         "x": [
          "2023-05-09"
         ],
         "xaxis": "x",
         "y": [
          "21:12:15"
         ],
         "yaxis": "y"
        },
        {
         "hovertemplate": "sunset=%{y}<br>date=%{x}<extra></extra>",
         "legendgroup": "21:13:48",
         "marker": {
          "color": "red",
          "symbol": "circle"
         },
         "mode": "markers",
         "name": "21:13:48",
         "orientation": "v",
         "showlegend": true,
         "type": "scatter",
         "x": [
          "2023-05-10"
         ],
         "xaxis": "x",
         "y": [
          "21:13:48"
         ],
         "yaxis": "y"
        },
        {
         "hovertemplate": "sunset=%{y}<br>date=%{x}<extra></extra>",
         "legendgroup": "21:15:20",
         "marker": {
          "color": "red",
          "symbol": "circle"
         },
         "mode": "markers",
         "name": "21:15:20",
         "orientation": "v",
         "showlegend": true,
         "type": "scatter",
         "x": [
          "2023-05-11"
         ],
         "xaxis": "x",
         "y": [
          "21:15:20"
         ],
         "yaxis": "y"
        },
        {
         "hovertemplate": "sunset=%{y}<br>date=%{x}<extra></extra>",
         "legendgroup": "21:16:52",
         "marker": {
          "color": "red",
          "symbol": "circle"
         },
         "mode": "markers",
         "name": "21:16:52",
         "orientation": "v",
         "showlegend": true,
         "type": "scatter",
         "x": [
          "2023-05-12"
         ],
         "xaxis": "x",
         "y": [
          "21:16:52"
         ],
         "yaxis": "y"
        },
        {
         "hovertemplate": "sunset=%{y}<br>date=%{x}<extra></extra>",
         "legendgroup": "21:18:23",
         "marker": {
          "color": "red",
          "symbol": "circle"
         },
         "mode": "markers",
         "name": "21:18:23",
         "orientation": "v",
         "showlegend": true,
         "type": "scatter",
         "x": [
          "2023-05-13"
         ],
         "xaxis": "x",
         "y": [
          "21:18:23"
         ],
         "yaxis": "y"
        },
        {
         "hovertemplate": "sunset=%{y}<br>date=%{x}<extra></extra>",
         "legendgroup": "21:19:53",
         "marker": {
          "color": "red",
          "symbol": "circle"
         },
         "mode": "markers",
         "name": "21:19:53",
         "orientation": "v",
         "showlegend": true,
         "type": "scatter",
         "x": [
          "2023-05-14"
         ],
         "xaxis": "x",
         "y": [
          "21:19:53"
         ],
         "yaxis": "y"
        },
        {
         "hovertemplate": "sunset=%{y}<br>date=%{x}<extra></extra>",
         "legendgroup": "21:21:22",
         "marker": {
          "color": "red",
          "symbol": "circle"
         },
         "mode": "markers",
         "name": "21:21:22",
         "orientation": "v",
         "showlegend": true,
         "type": "scatter",
         "x": [
          "2023-05-15"
         ],
         "xaxis": "x",
         "y": [
          "21:21:22"
         ],
         "yaxis": "y"
        },
        {
         "hovertemplate": "sunset=%{y}<br>date=%{x}<extra></extra>",
         "legendgroup": "21:22:51",
         "marker": {
          "color": "red",
          "symbol": "circle"
         },
         "mode": "markers",
         "name": "21:22:51",
         "orientation": "v",
         "showlegend": true,
         "type": "scatter",
         "x": [
          "2023-05-16"
         ],
         "xaxis": "x",
         "y": [
          "21:22:51"
         ],
         "yaxis": "y"
        },
        {
         "hovertemplate": "sunset=%{y}<br>date=%{x}<extra></extra>",
         "legendgroup": "21:24:18",
         "marker": {
          "color": "red",
          "symbol": "circle"
         },
         "mode": "markers",
         "name": "21:24:18",
         "orientation": "v",
         "showlegend": true,
         "type": "scatter",
         "x": [
          "2023-05-17"
         ],
         "xaxis": "x",
         "y": [
          "21:24:18"
         ],
         "yaxis": "y"
        },
        {
         "hovertemplate": "sunset=%{y}<br>date=%{x}<extra></extra>",
         "legendgroup": "21:25:45",
         "marker": {
          "color": "red",
          "symbol": "circle"
         },
         "mode": "markers",
         "name": "21:25:45",
         "orientation": "v",
         "showlegend": true,
         "type": "scatter",
         "x": [
          "2023-05-18"
         ],
         "xaxis": "x",
         "y": [
          "21:25:45"
         ],
         "yaxis": "y"
        }
       ],
       "layout": {
        "legend": {
         "title": {
          "text": "sunset"
         },
         "tracegroupgap": 0
        },
        "showlegend": false,
        "template": {
         "data": {
          "bar": [
           {
            "error_x": {
             "color": "#2a3f5f"
            },
            "error_y": {
             "color": "#2a3f5f"
            },
            "marker": {
             "line": {
              "color": "#E5ECF6",
              "width": 0.5
             },
             "pattern": {
              "fillmode": "overlay",
              "size": 10,
              "solidity": 0.2
             }
            },
            "type": "bar"
           }
          ],
          "barpolar": [
           {
            "marker": {
             "line": {
              "color": "#E5ECF6",
              "width": 0.5
             },
             "pattern": {
              "fillmode": "overlay",
              "size": 10,
              "solidity": 0.2
             }
            },
            "type": "barpolar"
           }
          ],
          "carpet": [
           {
            "aaxis": {
             "endlinecolor": "#2a3f5f",
             "gridcolor": "white",
             "linecolor": "white",
             "minorgridcolor": "white",
             "startlinecolor": "#2a3f5f"
            },
            "baxis": {
             "endlinecolor": "#2a3f5f",
             "gridcolor": "white",
             "linecolor": "white",
             "minorgridcolor": "white",
             "startlinecolor": "#2a3f5f"
            },
            "type": "carpet"
           }
          ],
          "choropleth": [
           {
            "colorbar": {
             "outlinewidth": 0,
             "ticks": ""
            },
            "type": "choropleth"
           }
          ],
          "contour": [
           {
            "colorbar": {
             "outlinewidth": 0,
             "ticks": ""
            },
            "colorscale": [
             [
              0,
              "#0d0887"
             ],
             [
              0.1111111111111111,
              "#46039f"
             ],
             [
              0.2222222222222222,
              "#7201a8"
             ],
             [
              0.3333333333333333,
              "#9c179e"
             ],
             [
              0.4444444444444444,
              "#bd3786"
             ],
             [
              0.5555555555555556,
              "#d8576b"
             ],
             [
              0.6666666666666666,
              "#ed7953"
             ],
             [
              0.7777777777777778,
              "#fb9f3a"
             ],
             [
              0.8888888888888888,
              "#fdca26"
             ],
             [
              1,
              "#f0f921"
             ]
            ],
            "type": "contour"
           }
          ],
          "contourcarpet": [
           {
            "colorbar": {
             "outlinewidth": 0,
             "ticks": ""
            },
            "type": "contourcarpet"
           }
          ],
          "heatmap": [
           {
            "colorbar": {
             "outlinewidth": 0,
             "ticks": ""
            },
            "colorscale": [
             [
              0,
              "#0d0887"
             ],
             [
              0.1111111111111111,
              "#46039f"
             ],
             [
              0.2222222222222222,
              "#7201a8"
             ],
             [
              0.3333333333333333,
              "#9c179e"
             ],
             [
              0.4444444444444444,
              "#bd3786"
             ],
             [
              0.5555555555555556,
              "#d8576b"
             ],
             [
              0.6666666666666666,
              "#ed7953"
             ],
             [
              0.7777777777777778,
              "#fb9f3a"
             ],
             [
              0.8888888888888888,
              "#fdca26"
             ],
             [
              1,
              "#f0f921"
             ]
            ],
            "type": "heatmap"
           }
          ],
          "heatmapgl": [
           {
            "colorbar": {
             "outlinewidth": 0,
             "ticks": ""
            },
            "colorscale": [
             [
              0,
              "#0d0887"
             ],
             [
              0.1111111111111111,
              "#46039f"
             ],
             [
              0.2222222222222222,
              "#7201a8"
             ],
             [
              0.3333333333333333,
              "#9c179e"
             ],
             [
              0.4444444444444444,
              "#bd3786"
             ],
             [
              0.5555555555555556,
              "#d8576b"
             ],
             [
              0.6666666666666666,
              "#ed7953"
             ],
             [
              0.7777777777777778,
              "#fb9f3a"
             ],
             [
              0.8888888888888888,
              "#fdca26"
             ],
             [
              1,
              "#f0f921"
             ]
            ],
            "type": "heatmapgl"
           }
          ],
          "histogram": [
           {
            "marker": {
             "pattern": {
              "fillmode": "overlay",
              "size": 10,
              "solidity": 0.2
             }
            },
            "type": "histogram"
           }
          ],
          "histogram2d": [
           {
            "colorbar": {
             "outlinewidth": 0,
             "ticks": ""
            },
            "colorscale": [
             [
              0,
              "#0d0887"
             ],
             [
              0.1111111111111111,
              "#46039f"
             ],
             [
              0.2222222222222222,
              "#7201a8"
             ],
             [
              0.3333333333333333,
              "#9c179e"
             ],
             [
              0.4444444444444444,
              "#bd3786"
             ],
             [
              0.5555555555555556,
              "#d8576b"
             ],
             [
              0.6666666666666666,
              "#ed7953"
             ],
             [
              0.7777777777777778,
              "#fb9f3a"
             ],
             [
              0.8888888888888888,
              "#fdca26"
             ],
             [
              1,
              "#f0f921"
             ]
            ],
            "type": "histogram2d"
           }
          ],
          "histogram2dcontour": [
           {
            "colorbar": {
             "outlinewidth": 0,
             "ticks": ""
            },
            "colorscale": [
             [
              0,
              "#0d0887"
             ],
             [
              0.1111111111111111,
              "#46039f"
             ],
             [
              0.2222222222222222,
              "#7201a8"
             ],
             [
              0.3333333333333333,
              "#9c179e"
             ],
             [
              0.4444444444444444,
              "#bd3786"
             ],
             [
              0.5555555555555556,
              "#d8576b"
             ],
             [
              0.6666666666666666,
              "#ed7953"
             ],
             [
              0.7777777777777778,
              "#fb9f3a"
             ],
             [
              0.8888888888888888,
              "#fdca26"
             ],
             [
              1,
              "#f0f921"
             ]
            ],
            "type": "histogram2dcontour"
           }
          ],
          "mesh3d": [
           {
            "colorbar": {
             "outlinewidth": 0,
             "ticks": ""
            },
            "type": "mesh3d"
           }
          ],
          "parcoords": [
           {
            "line": {
             "colorbar": {
              "outlinewidth": 0,
              "ticks": ""
             }
            },
            "type": "parcoords"
           }
          ],
          "pie": [
           {
            "automargin": true,
            "type": "pie"
           }
          ],
          "scatter": [
           {
            "fillpattern": {
             "fillmode": "overlay",
             "size": 10,
             "solidity": 0.2
            },
            "type": "scatter"
           }
          ],
          "scatter3d": [
           {
            "line": {
             "colorbar": {
              "outlinewidth": 0,
              "ticks": ""
             }
            },
            "marker": {
             "colorbar": {
              "outlinewidth": 0,
              "ticks": ""
             }
            },
            "type": "scatter3d"
           }
          ],
          "scattercarpet": [
           {
            "marker": {
             "colorbar": {
              "outlinewidth": 0,
              "ticks": ""
             }
            },
            "type": "scattercarpet"
           }
          ],
          "scattergeo": [
           {
            "marker": {
             "colorbar": {
              "outlinewidth": 0,
              "ticks": ""
             }
            },
            "type": "scattergeo"
           }
          ],
          "scattergl": [
           {
            "marker": {
             "colorbar": {
              "outlinewidth": 0,
              "ticks": ""
             }
            },
            "type": "scattergl"
           }
          ],
          "scattermapbox": [
           {
            "marker": {
             "colorbar": {
              "outlinewidth": 0,
              "ticks": ""
             }
            },
            "type": "scattermapbox"
           }
          ],
          "scatterpolar": [
           {
            "marker": {
             "colorbar": {
              "outlinewidth": 0,
              "ticks": ""
             }
            },
            "type": "scatterpolar"
           }
          ],
          "scatterpolargl": [
           {
            "marker": {
             "colorbar": {
              "outlinewidth": 0,
              "ticks": ""
             }
            },
            "type": "scatterpolargl"
           }
          ],
          "scatterternary": [
           {
            "marker": {
             "colorbar": {
              "outlinewidth": 0,
              "ticks": ""
             }
            },
            "type": "scatterternary"
           }
          ],
          "surface": [
           {
            "colorbar": {
             "outlinewidth": 0,
             "ticks": ""
            },
            "colorscale": [
             [
              0,
              "#0d0887"
             ],
             [
              0.1111111111111111,
              "#46039f"
             ],
             [
              0.2222222222222222,
              "#7201a8"
             ],
             [
              0.3333333333333333,
              "#9c179e"
             ],
             [
              0.4444444444444444,
              "#bd3786"
             ],
             [
              0.5555555555555556,
              "#d8576b"
             ],
             [
              0.6666666666666666,
              "#ed7953"
             ],
             [
              0.7777777777777778,
              "#fb9f3a"
             ],
             [
              0.8888888888888888,
              "#fdca26"
             ],
             [
              1,
              "#f0f921"
             ]
            ],
            "type": "surface"
           }
          ],
          "table": [
           {
            "cells": {
             "fill": {
              "color": "#EBF0F8"
             },
             "line": {
              "color": "white"
             }
            },
            "header": {
             "fill": {
              "color": "#C8D4E3"
             },
             "line": {
              "color": "white"
             }
            },
            "type": "table"
           }
          ]
         },
         "layout": {
          "annotationdefaults": {
           "arrowcolor": "#2a3f5f",
           "arrowhead": 0,
           "arrowwidth": 1
          },
          "autotypenumbers": "strict",
          "coloraxis": {
           "colorbar": {
            "outlinewidth": 0,
            "ticks": ""
           }
          },
          "colorscale": {
           "diverging": [
            [
             0,
             "#8e0152"
            ],
            [
             0.1,
             "#c51b7d"
            ],
            [
             0.2,
             "#de77ae"
            ],
            [
             0.3,
             "#f1b6da"
            ],
            [
             0.4,
             "#fde0ef"
            ],
            [
             0.5,
             "#f7f7f7"
            ],
            [
             0.6,
             "#e6f5d0"
            ],
            [
             0.7,
             "#b8e186"
            ],
            [
             0.8,
             "#7fbc41"
            ],
            [
             0.9,
             "#4d9221"
            ],
            [
             1,
             "#276419"
            ]
           ],
           "sequential": [
            [
             0,
             "#0d0887"
            ],
            [
             0.1111111111111111,
             "#46039f"
            ],
            [
             0.2222222222222222,
             "#7201a8"
            ],
            [
             0.3333333333333333,
             "#9c179e"
            ],
            [
             0.4444444444444444,
             "#bd3786"
            ],
            [
             0.5555555555555556,
             "#d8576b"
            ],
            [
             0.6666666666666666,
             "#ed7953"
            ],
            [
             0.7777777777777778,
             "#fb9f3a"
            ],
            [
             0.8888888888888888,
             "#fdca26"
            ],
            [
             1,
             "#f0f921"
            ]
           ],
           "sequentialminus": [
            [
             0,
             "#0d0887"
            ],
            [
             0.1111111111111111,
             "#46039f"
            ],
            [
             0.2222222222222222,
             "#7201a8"
            ],
            [
             0.3333333333333333,
             "#9c179e"
            ],
            [
             0.4444444444444444,
             "#bd3786"
            ],
            [
             0.5555555555555556,
             "#d8576b"
            ],
            [
             0.6666666666666666,
             "#ed7953"
            ],
            [
             0.7777777777777778,
             "#fb9f3a"
            ],
            [
             0.8888888888888888,
             "#fdca26"
            ],
            [
             1,
             "#f0f921"
            ]
           ]
          },
          "colorway": [
           "#636efa",
           "#EF553B",
           "#00cc96",
           "#ab63fa",
           "#FFA15A",
           "#19d3f3",
           "#FF6692",
           "#B6E880",
           "#FF97FF",
           "#FECB52"
          ],
          "font": {
           "color": "#2a3f5f"
          },
          "geo": {
           "bgcolor": "white",
           "lakecolor": "white",
           "landcolor": "#E5ECF6",
           "showlakes": true,
           "showland": true,
           "subunitcolor": "white"
          },
          "hoverlabel": {
           "align": "left"
          },
          "hovermode": "closest",
          "mapbox": {
           "style": "light"
          },
          "paper_bgcolor": "white",
          "plot_bgcolor": "#E5ECF6",
          "polar": {
           "angularaxis": {
            "gridcolor": "white",
            "linecolor": "white",
            "ticks": ""
           },
           "bgcolor": "#E5ECF6",
           "radialaxis": {
            "gridcolor": "white",
            "linecolor": "white",
            "ticks": ""
           }
          },
          "scene": {
           "xaxis": {
            "backgroundcolor": "#E5ECF6",
            "gridcolor": "white",
            "gridwidth": 2,
            "linecolor": "white",
            "showbackground": true,
            "ticks": "",
            "zerolinecolor": "white"
           },
           "yaxis": {
            "backgroundcolor": "#E5ECF6",
            "gridcolor": "white",
            "gridwidth": 2,
            "linecolor": "white",
            "showbackground": true,
            "ticks": "",
            "zerolinecolor": "white"
           },
           "zaxis": {
            "backgroundcolor": "#E5ECF6",
            "gridcolor": "white",
            "gridwidth": 2,
            "linecolor": "white",
            "showbackground": true,
            "ticks": "",
            "zerolinecolor": "white"
           }
          },
          "shapedefaults": {
           "line": {
            "color": "#2a3f5f"
           }
          },
          "ternary": {
           "aaxis": {
            "gridcolor": "white",
            "linecolor": "white",
            "ticks": ""
           },
           "baxis": {
            "gridcolor": "white",
            "linecolor": "white",
            "ticks": ""
           },
           "bgcolor": "#E5ECF6",
           "caxis": {
            "gridcolor": "white",
            "linecolor": "white",
            "ticks": ""
           }
          },
          "title": {
           "x": 0.05
          },
          "xaxis": {
           "automargin": true,
           "gridcolor": "white",
           "linecolor": "white",
           "ticks": "",
           "title": {
            "standoff": 15
           },
           "zerolinecolor": "white",
           "zerolinewidth": 2
          },
          "yaxis": {
           "automargin": true,
           "gridcolor": "white",
           "linecolor": "white",
           "ticks": "",
           "title": {
            "standoff": 15
           },
           "zerolinecolor": "white",
           "zerolinewidth": 2
          }
         }
        },
        "title": {
         "text": "Sunset Times for -6 timezone"
        },
        "xaxis": {
         "anchor": "y",
         "domain": [
          0,
          1
         ],
         "title": {
          "text": "date"
         }
        },
        "yaxis": {
         "anchor": "x",
         "autorange": "reversed",
         "categoryarray": [
          "21:25:45",
          "21:24:18",
          "21:22:51",
          "21:21:22",
          "21:19:53",
          "21:18:23",
          "21:16:52",
          "21:15:20",
          "21:13:48",
          "21:12:15",
          "21:10:41",
          "21:09:07",
          "21:07:32",
          "21:05:57",
          "21:04:22",
          "21:02:46",
          "21:01:09",
          "20:59:33",
          "20:57:56",
          "20:56:19",
          "20:54:41",
          "20:53:04",
          "20:51:26",
          "20:49:48",
          "20:48:10",
          "20:46:32",
          "20:44:53",
          "20:43:15",
          "20:41:37",
          "20:39:58"
         ],
         "categoryorder": "array",
         "domain": [
          0,
          1
         ],
         "title": {
          "text": "sunset"
         }
        }
       }
      }
     },
     "metadata": {},
     "output_type": "display_data"
    },
    {
     "data": {
      "application/vnd.plotly.v1+json": {
       "config": {
        "plotlyServerURL": "https://plot.ly"
       },
       "data": [
        {
         "hovertemplate": "sunrise=%{y}<br>date=%{x}<extra></extra>",
         "legendgroup": "06:30:46",
         "marker": {
          "color": "lightblue",
          "symbol": "circle"
         },
         "mode": "markers",
         "name": "06:30:46",
         "orientation": "v",
         "showlegend": true,
         "type": "scatter",
         "x": [
          "2023-04-19"
         ],
         "xaxis": "x",
         "y": [
          "06:30:46"
         ],
         "yaxis": "y"
        },
        {
         "hovertemplate": "sunrise=%{y}<br>date=%{x}<extra></extra>",
         "legendgroup": "06:28:43",
         "marker": {
          "color": "lightblue",
          "symbol": "circle"
         },
         "mode": "markers",
         "name": "06:28:43",
         "orientation": "v",
         "showlegend": true,
         "type": "scatter",
         "x": [
          "2023-04-20"
         ],
         "xaxis": "x",
         "y": [
          "06:28:43"
         ],
         "yaxis": "y"
        },
        {
         "hovertemplate": "sunrise=%{y}<br>date=%{x}<extra></extra>",
         "legendgroup": "06:26:40",
         "marker": {
          "color": "lightblue",
          "symbol": "circle"
         },
         "mode": "markers",
         "name": "06:26:40",
         "orientation": "v",
         "showlegend": true,
         "type": "scatter",
         "x": [
          "2023-04-21"
         ],
         "xaxis": "x",
         "y": [
          "06:26:40"
         ],
         "yaxis": "y"
        },
        {
         "hovertemplate": "sunrise=%{y}<br>date=%{x}<extra></extra>",
         "legendgroup": "06:24:38",
         "marker": {
          "color": "lightblue",
          "symbol": "circle"
         },
         "mode": "markers",
         "name": "06:24:38",
         "orientation": "v",
         "showlegend": true,
         "type": "scatter",
         "x": [
          "2023-04-22"
         ],
         "xaxis": "x",
         "y": [
          "06:24:38"
         ],
         "yaxis": "y"
        },
        {
         "hovertemplate": "sunrise=%{y}<br>date=%{x}<extra></extra>",
         "legendgroup": "06:22:37",
         "marker": {
          "color": "lightblue",
          "symbol": "circle"
         },
         "mode": "markers",
         "name": "06:22:37",
         "orientation": "v",
         "showlegend": true,
         "type": "scatter",
         "x": [
          "2023-04-23"
         ],
         "xaxis": "x",
         "y": [
          "06:22:37"
         ],
         "yaxis": "y"
        },
        {
         "hovertemplate": "sunrise=%{y}<br>date=%{x}<extra></extra>",
         "legendgroup": "06:20:37",
         "marker": {
          "color": "lightblue",
          "symbol": "circle"
         },
         "mode": "markers",
         "name": "06:20:37",
         "orientation": "v",
         "showlegend": true,
         "type": "scatter",
         "x": [
          "2023-04-24"
         ],
         "xaxis": "x",
         "y": [
          "06:20:37"
         ],
         "yaxis": "y"
        },
        {
         "hovertemplate": "sunrise=%{y}<br>date=%{x}<extra></extra>",
         "legendgroup": "06:18:38",
         "marker": {
          "color": "lightblue",
          "symbol": "circle"
         },
         "mode": "markers",
         "name": "06:18:38",
         "orientation": "v",
         "showlegend": true,
         "type": "scatter",
         "x": [
          "2023-04-25"
         ],
         "xaxis": "x",
         "y": [
          "06:18:38"
         ],
         "yaxis": "y"
        },
        {
         "hovertemplate": "sunrise=%{y}<br>date=%{x}<extra></extra>",
         "legendgroup": "06:16:40",
         "marker": {
          "color": "lightblue",
          "symbol": "circle"
         },
         "mode": "markers",
         "name": "06:16:40",
         "orientation": "v",
         "showlegend": true,
         "type": "scatter",
         "x": [
          "2023-04-26"
         ],
         "xaxis": "x",
         "y": [
          "06:16:40"
         ],
         "yaxis": "y"
        },
        {
         "hovertemplate": "sunrise=%{y}<br>date=%{x}<extra></extra>",
         "legendgroup": "06:14:44",
         "marker": {
          "color": "lightblue",
          "symbol": "circle"
         },
         "mode": "markers",
         "name": "06:14:44",
         "orientation": "v",
         "showlegend": true,
         "type": "scatter",
         "x": [
          "2023-04-27"
         ],
         "xaxis": "x",
         "y": [
          "06:14:44"
         ],
         "yaxis": "y"
        },
        {
         "hovertemplate": "sunrise=%{y}<br>date=%{x}<extra></extra>",
         "legendgroup": "06:12:48",
         "marker": {
          "color": "lightblue",
          "symbol": "circle"
         },
         "mode": "markers",
         "name": "06:12:48",
         "orientation": "v",
         "showlegend": true,
         "type": "scatter",
         "x": [
          "2023-04-28"
         ],
         "xaxis": "x",
         "y": [
          "06:12:48"
         ],
         "yaxis": "y"
        },
        {
         "hovertemplate": "sunrise=%{y}<br>date=%{x}<extra></extra>",
         "legendgroup": "06:10:54",
         "marker": {
          "color": "lightblue",
          "symbol": "circle"
         },
         "mode": "markers",
         "name": "06:10:54",
         "orientation": "v",
         "showlegend": true,
         "type": "scatter",
         "x": [
          "2023-04-29"
         ],
         "xaxis": "x",
         "y": [
          "06:10:54"
         ],
         "yaxis": "y"
        },
        {
         "hovertemplate": "sunrise=%{y}<br>date=%{x}<extra></extra>",
         "legendgroup": "06:09:01",
         "marker": {
          "color": "lightblue",
          "symbol": "circle"
         },
         "mode": "markers",
         "name": "06:09:01",
         "orientation": "v",
         "showlegend": true,
         "type": "scatter",
         "x": [
          "2023-04-30"
         ],
         "xaxis": "x",
         "y": [
          "06:09:01"
         ],
         "yaxis": "y"
        },
        {
         "hovertemplate": "sunrise=%{y}<br>date=%{x}<extra></extra>",
         "legendgroup": "06:07:10",
         "marker": {
          "color": "lightblue",
          "symbol": "circle"
         },
         "mode": "markers",
         "name": "06:07:10",
         "orientation": "v",
         "showlegend": true,
         "type": "scatter",
         "x": [
          "2023-05-01"
         ],
         "xaxis": "x",
         "y": [
          "06:07:10"
         ],
         "yaxis": "y"
        },
        {
         "hovertemplate": "sunrise=%{y}<br>date=%{x}<extra></extra>",
         "legendgroup": "06:05:20",
         "marker": {
          "color": "lightblue",
          "symbol": "circle"
         },
         "mode": "markers",
         "name": "06:05:20",
         "orientation": "v",
         "showlegend": true,
         "type": "scatter",
         "x": [
          "2023-05-02"
         ],
         "xaxis": "x",
         "y": [
          "06:05:20"
         ],
         "yaxis": "y"
        },
        {
         "hovertemplate": "sunrise=%{y}<br>date=%{x}<extra></extra>",
         "legendgroup": "06:03:31",
         "marker": {
          "color": "lightblue",
          "symbol": "circle"
         },
         "mode": "markers",
         "name": "06:03:31",
         "orientation": "v",
         "showlegend": true,
         "type": "scatter",
         "x": [
          "2023-05-03"
         ],
         "xaxis": "x",
         "y": [
          "06:03:31"
         ],
         "yaxis": "y"
        },
        {
         "hovertemplate": "sunrise=%{y}<br>date=%{x}<extra></extra>",
         "legendgroup": "06:01:44",
         "marker": {
          "color": "lightblue",
          "symbol": "circle"
         },
         "mode": "markers",
         "name": "06:01:44",
         "orientation": "v",
         "showlegend": true,
         "type": "scatter",
         "x": [
          "2023-05-04"
         ],
         "xaxis": "x",
         "y": [
          "06:01:44"
         ],
         "yaxis": "y"
        },
        {
         "hovertemplate": "sunrise=%{y}<br>date=%{x}<extra></extra>",
         "legendgroup": "05:59:58",
         "marker": {
          "color": "lightblue",
          "symbol": "circle"
         },
         "mode": "markers",
         "name": "05:59:58",
         "orientation": "v",
         "showlegend": true,
         "type": "scatter",
         "x": [
          "2023-05-05"
         ],
         "xaxis": "x",
         "y": [
          "05:59:58"
         ],
         "yaxis": "y"
        },
        {
         "hovertemplate": "sunrise=%{y}<br>date=%{x}<extra></extra>",
         "legendgroup": "05:58:13",
         "marker": {
          "color": "lightblue",
          "symbol": "circle"
         },
         "mode": "markers",
         "name": "05:58:13",
         "orientation": "v",
         "showlegend": true,
         "type": "scatter",
         "x": [
          "2023-05-06"
         ],
         "xaxis": "x",
         "y": [
          "05:58:13"
         ],
         "yaxis": "y"
        },
        {
         "hovertemplate": "sunrise=%{y}<br>date=%{x}<extra></extra>",
         "legendgroup": "05:56:31",
         "marker": {
          "color": "lightblue",
          "symbol": "circle"
         },
         "mode": "markers",
         "name": "05:56:31",
         "orientation": "v",
         "showlegend": true,
         "type": "scatter",
         "x": [
          "2023-05-07"
         ],
         "xaxis": "x",
         "y": [
          "05:56:31"
         ],
         "yaxis": "y"
        },
        {
         "hovertemplate": "sunrise=%{y}<br>date=%{x}<extra></extra>",
         "legendgroup": "05:54:50",
         "marker": {
          "color": "lightblue",
          "symbol": "circle"
         },
         "mode": "markers",
         "name": "05:54:50",
         "orientation": "v",
         "showlegend": true,
         "type": "scatter",
         "x": [
          "2023-05-08"
         ],
         "xaxis": "x",
         "y": [
          "05:54:50"
         ],
         "yaxis": "y"
        },
        {
         "hovertemplate": "sunrise=%{y}<br>date=%{x}<extra></extra>",
         "legendgroup": "05:53:10",
         "marker": {
          "color": "lightblue",
          "symbol": "circle"
         },
         "mode": "markers",
         "name": "05:53:10",
         "orientation": "v",
         "showlegend": true,
         "type": "scatter",
         "x": [
          "2023-05-09"
         ],
         "xaxis": "x",
         "y": [
          "05:53:10"
         ],
         "yaxis": "y"
        },
        {
         "hovertemplate": "sunrise=%{y}<br>date=%{x}<extra></extra>",
         "legendgroup": "05:51:33",
         "marker": {
          "color": "lightblue",
          "symbol": "circle"
         },
         "mode": "markers",
         "name": "05:51:33",
         "orientation": "v",
         "showlegend": true,
         "type": "scatter",
         "x": [
          "2023-05-10"
         ],
         "xaxis": "x",
         "y": [
          "05:51:33"
         ],
         "yaxis": "y"
        },
        {
         "hovertemplate": "sunrise=%{y}<br>date=%{x}<extra></extra>",
         "legendgroup": "05:49:57",
         "marker": {
          "color": "lightblue",
          "symbol": "circle"
         },
         "mode": "markers",
         "name": "05:49:57",
         "orientation": "v",
         "showlegend": true,
         "type": "scatter",
         "x": [
          "2023-05-11"
         ],
         "xaxis": "x",
         "y": [
          "05:49:57"
         ],
         "yaxis": "y"
        },
        {
         "hovertemplate": "sunrise=%{y}<br>date=%{x}<extra></extra>",
         "legendgroup": "05:48:23",
         "marker": {
          "color": "lightblue",
          "symbol": "circle"
         },
         "mode": "markers",
         "name": "05:48:23",
         "orientation": "v",
         "showlegend": true,
         "type": "scatter",
         "x": [
          "2023-05-12"
         ],
         "xaxis": "x",
         "y": [
          "05:48:23"
         ],
         "yaxis": "y"
        },
        {
         "hovertemplate": "sunrise=%{y}<br>date=%{x}<extra></extra>",
         "legendgroup": "05:46:51",
         "marker": {
          "color": "lightblue",
          "symbol": "circle"
         },
         "mode": "markers",
         "name": "05:46:51",
         "orientation": "v",
         "showlegend": true,
         "type": "scatter",
         "x": [
          "2023-05-13"
         ],
         "xaxis": "x",
         "y": [
          "05:46:51"
         ],
         "yaxis": "y"
        },
        {
         "hovertemplate": "sunrise=%{y}<br>date=%{x}<extra></extra>",
         "legendgroup": "05:45:20",
         "marker": {
          "color": "lightblue",
          "symbol": "circle"
         },
         "mode": "markers",
         "name": "05:45:20",
         "orientation": "v",
         "showlegend": true,
         "type": "scatter",
         "x": [
          "2023-05-14"
         ],
         "xaxis": "x",
         "y": [
          "05:45:20"
         ],
         "yaxis": "y"
        },
        {
         "hovertemplate": "sunrise=%{y}<br>date=%{x}<extra></extra>",
         "legendgroup": "05:43:52",
         "marker": {
          "color": "lightblue",
          "symbol": "circle"
         },
         "mode": "markers",
         "name": "05:43:52",
         "orientation": "v",
         "showlegend": true,
         "type": "scatter",
         "x": [
          "2023-05-15"
         ],
         "xaxis": "x",
         "y": [
          "05:43:52"
         ],
         "yaxis": "y"
        },
        {
         "hovertemplate": "sunrise=%{y}<br>date=%{x}<extra></extra>",
         "legendgroup": "05:42:26",
         "marker": {
          "color": "lightblue",
          "symbol": "circle"
         },
         "mode": "markers",
         "name": "05:42:26",
         "orientation": "v",
         "showlegend": true,
         "type": "scatter",
         "x": [
          "2023-05-16"
         ],
         "xaxis": "x",
         "y": [
          "05:42:26"
         ],
         "yaxis": "y"
        },
        {
         "hovertemplate": "sunrise=%{y}<br>date=%{x}<extra></extra>",
         "legendgroup": "05:41:02",
         "marker": {
          "color": "lightblue",
          "symbol": "circle"
         },
         "mode": "markers",
         "name": "05:41:02",
         "orientation": "v",
         "showlegend": true,
         "type": "scatter",
         "x": [
          "2023-05-17"
         ],
         "xaxis": "x",
         "y": [
          "05:41:02"
         ],
         "yaxis": "y"
        },
        {
         "hovertemplate": "sunrise=%{y}<br>date=%{x}<extra></extra>",
         "legendgroup": "05:39:40",
         "marker": {
          "color": "lightblue",
          "symbol": "circle"
         },
         "mode": "markers",
         "name": "05:39:40",
         "orientation": "v",
         "showlegend": true,
         "type": "scatter",
         "x": [
          "2023-05-18"
         ],
         "xaxis": "x",
         "y": [
          "05:39:40"
         ],
         "yaxis": "y"
        }
       ],
       "layout": {
        "legend": {
         "title": {
          "text": "sunrise"
         },
         "tracegroupgap": 0
        },
        "showlegend": false,
        "template": {
         "data": {
          "bar": [
           {
            "error_x": {
             "color": "#2a3f5f"
            },
            "error_y": {
             "color": "#2a3f5f"
            },
            "marker": {
             "line": {
              "color": "#E5ECF6",
              "width": 0.5
             },
             "pattern": {
              "fillmode": "overlay",
              "size": 10,
              "solidity": 0.2
             }
            },
            "type": "bar"
           }
          ],
          "barpolar": [
           {
            "marker": {
             "line": {
              "color": "#E5ECF6",
              "width": 0.5
             },
             "pattern": {
              "fillmode": "overlay",
              "size": 10,
              "solidity": 0.2
             }
            },
            "type": "barpolar"
           }
          ],
          "carpet": [
           {
            "aaxis": {
             "endlinecolor": "#2a3f5f",
             "gridcolor": "white",
             "linecolor": "white",
             "minorgridcolor": "white",
             "startlinecolor": "#2a3f5f"
            },
            "baxis": {
             "endlinecolor": "#2a3f5f",
             "gridcolor": "white",
             "linecolor": "white",
             "minorgridcolor": "white",
             "startlinecolor": "#2a3f5f"
            },
            "type": "carpet"
           }
          ],
          "choropleth": [
           {
            "colorbar": {
             "outlinewidth": 0,
             "ticks": ""
            },
            "type": "choropleth"
           }
          ],
          "contour": [
           {
            "colorbar": {
             "outlinewidth": 0,
             "ticks": ""
            },
            "colorscale": [
             [
              0,
              "#0d0887"
             ],
             [
              0.1111111111111111,
              "#46039f"
             ],
             [
              0.2222222222222222,
              "#7201a8"
             ],
             [
              0.3333333333333333,
              "#9c179e"
             ],
             [
              0.4444444444444444,
              "#bd3786"
             ],
             [
              0.5555555555555556,
              "#d8576b"
             ],
             [
              0.6666666666666666,
              "#ed7953"
             ],
             [
              0.7777777777777778,
              "#fb9f3a"
             ],
             [
              0.8888888888888888,
              "#fdca26"
             ],
             [
              1,
              "#f0f921"
             ]
            ],
            "type": "contour"
           }
          ],
          "contourcarpet": [
           {
            "colorbar": {
             "outlinewidth": 0,
             "ticks": ""
            },
            "type": "contourcarpet"
           }
          ],
          "heatmap": [
           {
            "colorbar": {
             "outlinewidth": 0,
             "ticks": ""
            },
            "colorscale": [
             [
              0,
              "#0d0887"
             ],
             [
              0.1111111111111111,
              "#46039f"
             ],
             [
              0.2222222222222222,
              "#7201a8"
             ],
             [
              0.3333333333333333,
              "#9c179e"
             ],
             [
              0.4444444444444444,
              "#bd3786"
             ],
             [
              0.5555555555555556,
              "#d8576b"
             ],
             [
              0.6666666666666666,
              "#ed7953"
             ],
             [
              0.7777777777777778,
              "#fb9f3a"
             ],
             [
              0.8888888888888888,
              "#fdca26"
             ],
             [
              1,
              "#f0f921"
             ]
            ],
            "type": "heatmap"
           }
          ],
          "heatmapgl": [
           {
            "colorbar": {
             "outlinewidth": 0,
             "ticks": ""
            },
            "colorscale": [
             [
              0,
              "#0d0887"
             ],
             [
              0.1111111111111111,
              "#46039f"
             ],
             [
              0.2222222222222222,
              "#7201a8"
             ],
             [
              0.3333333333333333,
              "#9c179e"
             ],
             [
              0.4444444444444444,
              "#bd3786"
             ],
             [
              0.5555555555555556,
              "#d8576b"
             ],
             [
              0.6666666666666666,
              "#ed7953"
             ],
             [
              0.7777777777777778,
              "#fb9f3a"
             ],
             [
              0.8888888888888888,
              "#fdca26"
             ],
             [
              1,
              "#f0f921"
             ]
            ],
            "type": "heatmapgl"
           }
          ],
          "histogram": [
           {
            "marker": {
             "pattern": {
              "fillmode": "overlay",
              "size": 10,
              "solidity": 0.2
             }
            },
            "type": "histogram"
           }
          ],
          "histogram2d": [
           {
            "colorbar": {
             "outlinewidth": 0,
             "ticks": ""
            },
            "colorscale": [
             [
              0,
              "#0d0887"
             ],
             [
              0.1111111111111111,
              "#46039f"
             ],
             [
              0.2222222222222222,
              "#7201a8"
             ],
             [
              0.3333333333333333,
              "#9c179e"
             ],
             [
              0.4444444444444444,
              "#bd3786"
             ],
             [
              0.5555555555555556,
              "#d8576b"
             ],
             [
              0.6666666666666666,
              "#ed7953"
             ],
             [
              0.7777777777777778,
              "#fb9f3a"
             ],
             [
              0.8888888888888888,
              "#fdca26"
             ],
             [
              1,
              "#f0f921"
             ]
            ],
            "type": "histogram2d"
           }
          ],
          "histogram2dcontour": [
           {
            "colorbar": {
             "outlinewidth": 0,
             "ticks": ""
            },
            "colorscale": [
             [
              0,
              "#0d0887"
             ],
             [
              0.1111111111111111,
              "#46039f"
             ],
             [
              0.2222222222222222,
              "#7201a8"
             ],
             [
              0.3333333333333333,
              "#9c179e"
             ],
             [
              0.4444444444444444,
              "#bd3786"
             ],
             [
              0.5555555555555556,
              "#d8576b"
             ],
             [
              0.6666666666666666,
              "#ed7953"
             ],
             [
              0.7777777777777778,
              "#fb9f3a"
             ],
             [
              0.8888888888888888,
              "#fdca26"
             ],
             [
              1,
              "#f0f921"
             ]
            ],
            "type": "histogram2dcontour"
           }
          ],
          "mesh3d": [
           {
            "colorbar": {
             "outlinewidth": 0,
             "ticks": ""
            },
            "type": "mesh3d"
           }
          ],
          "parcoords": [
           {
            "line": {
             "colorbar": {
              "outlinewidth": 0,
              "ticks": ""
             }
            },
            "type": "parcoords"
           }
          ],
          "pie": [
           {
            "automargin": true,
            "type": "pie"
           }
          ],
          "scatter": [
           {
            "fillpattern": {
             "fillmode": "overlay",
             "size": 10,
             "solidity": 0.2
            },
            "type": "scatter"
           }
          ],
          "scatter3d": [
           {
            "line": {
             "colorbar": {
              "outlinewidth": 0,
              "ticks": ""
             }
            },
            "marker": {
             "colorbar": {
              "outlinewidth": 0,
              "ticks": ""
             }
            },
            "type": "scatter3d"
           }
          ],
          "scattercarpet": [
           {
            "marker": {
             "colorbar": {
              "outlinewidth": 0,
              "ticks": ""
             }
            },
            "type": "scattercarpet"
           }
          ],
          "scattergeo": [
           {
            "marker": {
             "colorbar": {
              "outlinewidth": 0,
              "ticks": ""
             }
            },
            "type": "scattergeo"
           }
          ],
          "scattergl": [
           {
            "marker": {
             "colorbar": {
              "outlinewidth": 0,
              "ticks": ""
             }
            },
            "type": "scattergl"
           }
          ],
          "scattermapbox": [
           {
            "marker": {
             "colorbar": {
              "outlinewidth": 0,
              "ticks": ""
             }
            },
            "type": "scattermapbox"
           }
          ],
          "scatterpolar": [
           {
            "marker": {
             "colorbar": {
              "outlinewidth": 0,
              "ticks": ""
             }
            },
            "type": "scatterpolar"
           }
          ],
          "scatterpolargl": [
           {
            "marker": {
             "colorbar": {
              "outlinewidth": 0,
              "ticks": ""
             }
            },
            "type": "scatterpolargl"
           }
          ],
          "scatterternary": [
           {
            "marker": {
             "colorbar": {
              "outlinewidth": 0,
              "ticks": ""
             }
            },
            "type": "scatterternary"
           }
          ],
          "surface": [
           {
            "colorbar": {
             "outlinewidth": 0,
             "ticks": ""
            },
            "colorscale": [
             [
              0,
              "#0d0887"
             ],
             [
              0.1111111111111111,
              "#46039f"
             ],
             [
              0.2222222222222222,
              "#7201a8"
             ],
             [
              0.3333333333333333,
              "#9c179e"
             ],
             [
              0.4444444444444444,
              "#bd3786"
             ],
             [
              0.5555555555555556,
              "#d8576b"
             ],
             [
              0.6666666666666666,
              "#ed7953"
             ],
             [
              0.7777777777777778,
              "#fb9f3a"
             ],
             [
              0.8888888888888888,
              "#fdca26"
             ],
             [
              1,
              "#f0f921"
             ]
            ],
            "type": "surface"
           }
          ],
          "table": [
           {
            "cells": {
             "fill": {
              "color": "#EBF0F8"
             },
             "line": {
              "color": "white"
             }
            },
            "header": {
             "fill": {
              "color": "#C8D4E3"
             },
             "line": {
              "color": "white"
             }
            },
            "type": "table"
           }
          ]
         },
         "layout": {
          "annotationdefaults": {
           "arrowcolor": "#2a3f5f",
           "arrowhead": 0,
           "arrowwidth": 1
          },
          "autotypenumbers": "strict",
          "coloraxis": {
           "colorbar": {
            "outlinewidth": 0,
            "ticks": ""
           }
          },
          "colorscale": {
           "diverging": [
            [
             0,
             "#8e0152"
            ],
            [
             0.1,
             "#c51b7d"
            ],
            [
             0.2,
             "#de77ae"
            ],
            [
             0.3,
             "#f1b6da"
            ],
            [
             0.4,
             "#fde0ef"
            ],
            [
             0.5,
             "#f7f7f7"
            ],
            [
             0.6,
             "#e6f5d0"
            ],
            [
             0.7,
             "#b8e186"
            ],
            [
             0.8,
             "#7fbc41"
            ],
            [
             0.9,
             "#4d9221"
            ],
            [
             1,
             "#276419"
            ]
           ],
           "sequential": [
            [
             0,
             "#0d0887"
            ],
            [
             0.1111111111111111,
             "#46039f"
            ],
            [
             0.2222222222222222,
             "#7201a8"
            ],
            [
             0.3333333333333333,
             "#9c179e"
            ],
            [
             0.4444444444444444,
             "#bd3786"
            ],
            [
             0.5555555555555556,
             "#d8576b"
            ],
            [
             0.6666666666666666,
             "#ed7953"
            ],
            [
             0.7777777777777778,
             "#fb9f3a"
            ],
            [
             0.8888888888888888,
             "#fdca26"
            ],
            [
             1,
             "#f0f921"
            ]
           ],
           "sequentialminus": [
            [
             0,
             "#0d0887"
            ],
            [
             0.1111111111111111,
             "#46039f"
            ],
            [
             0.2222222222222222,
             "#7201a8"
            ],
            [
             0.3333333333333333,
             "#9c179e"
            ],
            [
             0.4444444444444444,
             "#bd3786"
            ],
            [
             0.5555555555555556,
             "#d8576b"
            ],
            [
             0.6666666666666666,
             "#ed7953"
            ],
            [
             0.7777777777777778,
             "#fb9f3a"
            ],
            [
             0.8888888888888888,
             "#fdca26"
            ],
            [
             1,
             "#f0f921"
            ]
           ]
          },
          "colorway": [
           "#636efa",
           "#EF553B",
           "#00cc96",
           "#ab63fa",
           "#FFA15A",
           "#19d3f3",
           "#FF6692",
           "#B6E880",
           "#FF97FF",
           "#FECB52"
          ],
          "font": {
           "color": "#2a3f5f"
          },
          "geo": {
           "bgcolor": "white",
           "lakecolor": "white",
           "landcolor": "#E5ECF6",
           "showlakes": true,
           "showland": true,
           "subunitcolor": "white"
          },
          "hoverlabel": {
           "align": "left"
          },
          "hovermode": "closest",
          "mapbox": {
           "style": "light"
          },
          "paper_bgcolor": "white",
          "plot_bgcolor": "#E5ECF6",
          "polar": {
           "angularaxis": {
            "gridcolor": "white",
            "linecolor": "white",
            "ticks": ""
           },
           "bgcolor": "#E5ECF6",
           "radialaxis": {
            "gridcolor": "white",
            "linecolor": "white",
            "ticks": ""
           }
          },
          "scene": {
           "xaxis": {
            "backgroundcolor": "#E5ECF6",
            "gridcolor": "white",
            "gridwidth": 2,
            "linecolor": "white",
            "showbackground": true,
            "ticks": "",
            "zerolinecolor": "white"
           },
           "yaxis": {
            "backgroundcolor": "#E5ECF6",
            "gridcolor": "white",
            "gridwidth": 2,
            "linecolor": "white",
            "showbackground": true,
            "ticks": "",
            "zerolinecolor": "white"
           },
           "zaxis": {
            "backgroundcolor": "#E5ECF6",
            "gridcolor": "white",
            "gridwidth": 2,
            "linecolor": "white",
            "showbackground": true,
            "ticks": "",
            "zerolinecolor": "white"
           }
          },
          "shapedefaults": {
           "line": {
            "color": "#2a3f5f"
           }
          },
          "ternary": {
           "aaxis": {
            "gridcolor": "white",
            "linecolor": "white",
            "ticks": ""
           },
           "baxis": {
            "gridcolor": "white",
            "linecolor": "white",
            "ticks": ""
           },
           "bgcolor": "#E5ECF6",
           "caxis": {
            "gridcolor": "white",
            "linecolor": "white",
            "ticks": ""
           }
          },
          "title": {
           "x": 0.05
          },
          "xaxis": {
           "automargin": true,
           "gridcolor": "white",
           "linecolor": "white",
           "ticks": "",
           "title": {
            "standoff": 15
           },
           "zerolinecolor": "white",
           "zerolinewidth": 2
          },
          "yaxis": {
           "automargin": true,
           "gridcolor": "white",
           "linecolor": "white",
           "ticks": "",
           "title": {
            "standoff": 15
           },
           "zerolinecolor": "white",
           "zerolinewidth": 2
          }
         }
        },
        "title": {
         "text": "Sunrise Times for -6 timezone"
        },
        "xaxis": {
         "anchor": "y",
         "domain": [
          0,
          1
         ],
         "title": {
          "text": "date"
         }
        },
        "yaxis": {
         "anchor": "x",
         "categoryarray": [
          "05:39:40",
          "05:41:02",
          "05:42:26",
          "05:43:52",
          "05:45:20",
          "05:46:51",
          "05:48:23",
          "05:49:57",
          "05:51:33",
          "05:53:10",
          "05:54:50",
          "05:56:31",
          "05:58:13",
          "05:59:58",
          "06:01:44",
          "06:03:31",
          "06:05:20",
          "06:07:10",
          "06:09:01",
          "06:10:54",
          "06:12:48",
          "06:14:44",
          "06:16:40",
          "06:18:38",
          "06:20:37",
          "06:22:37",
          "06:24:38",
          "06:26:40",
          "06:28:43",
          "06:30:46"
         ],
         "categoryorder": "array",
         "domain": [
          0,
          1
         ],
         "title": {
          "text": "sunrise"
         }
        }
       }
      }
     },
     "metadata": {},
     "output_type": "display_data"
    },
    {
     "data": {
      "application/vnd.plotly.v1+json": {
       "config": {
        "plotlyServerURL": "https://plot.ly"
       },
       "data": [
        {
         "hovertemplate": "day_length=%{y}<br>date=%{x}<extra></extra>",
         "legendgroup": "14:09:12",
         "marker": {
          "color": "yellow",
          "symbol": "circle"
         },
         "mode": "markers",
         "name": "14:09:12",
         "orientation": "v",
         "showlegend": true,
         "type": "scatter",
         "x": [
          "2023-04-19"
         ],
         "xaxis": "x",
         "y": [
          "14:09:12"
         ],
         "yaxis": "y"
        },
        {
         "hovertemplate": "day_length=%{y}<br>date=%{x}<extra></extra>",
         "legendgroup": "14:12:54",
         "marker": {
          "color": "yellow",
          "symbol": "circle"
         },
         "mode": "markers",
         "name": "14:12:54",
         "orientation": "v",
         "showlegend": true,
         "type": "scatter",
         "x": [
          "2023-04-20"
         ],
         "xaxis": "x",
         "y": [
          "14:12:54"
         ],
         "yaxis": "y"
        },
        {
         "hovertemplate": "day_length=%{y}<br>date=%{x}<extra></extra>",
         "legendgroup": "14:16:35",
         "marker": {
          "color": "yellow",
          "symbol": "circle"
         },
         "mode": "markers",
         "name": "14:16:35",
         "orientation": "v",
         "showlegend": true,
         "type": "scatter",
         "x": [
          "2023-04-21"
         ],
         "xaxis": "x",
         "y": [
          "14:16:35"
         ],
         "yaxis": "y"
        },
        {
         "hovertemplate": "day_length=%{y}<br>date=%{x}<extra></extra>",
         "legendgroup": "14:20:15",
         "marker": {
          "color": "yellow",
          "symbol": "circle"
         },
         "mode": "markers",
         "name": "14:20:15",
         "orientation": "v",
         "showlegend": true,
         "type": "scatter",
         "x": [
          "2023-04-22"
         ],
         "xaxis": "x",
         "y": [
          "14:20:15"
         ],
         "yaxis": "y"
        },
        {
         "hovertemplate": "day_length=%{y}<br>date=%{x}<extra></extra>",
         "legendgroup": "14:23:55",
         "marker": {
          "color": "yellow",
          "symbol": "circle"
         },
         "mode": "markers",
         "name": "14:23:55",
         "orientation": "v",
         "showlegend": true,
         "type": "scatter",
         "x": [
          "2023-04-23"
         ],
         "xaxis": "x",
         "y": [
          "14:23:55"
         ],
         "yaxis": "y"
        },
        {
         "hovertemplate": "day_length=%{y}<br>date=%{x}<extra></extra>",
         "legendgroup": "14:27:33",
         "marker": {
          "color": "yellow",
          "symbol": "circle"
         },
         "mode": "markers",
         "name": "14:27:33",
         "orientation": "v",
         "showlegend": true,
         "type": "scatter",
         "x": [
          "2023-04-24"
         ],
         "xaxis": "x",
         "y": [
          "14:27:33"
         ],
         "yaxis": "y"
        },
        {
         "hovertemplate": "day_length=%{y}<br>date=%{x}<extra></extra>",
         "legendgroup": "14:31:10",
         "marker": {
          "color": "yellow",
          "symbol": "circle"
         },
         "mode": "markers",
         "name": "14:31:10",
         "orientation": "v",
         "showlegend": true,
         "type": "scatter",
         "x": [
          "2023-04-25"
         ],
         "xaxis": "x",
         "y": [
          "14:31:10"
         ],
         "yaxis": "y"
        },
        {
         "hovertemplate": "day_length=%{y}<br>date=%{x}<extra></extra>",
         "legendgroup": "14:34:46",
         "marker": {
          "color": "yellow",
          "symbol": "circle"
         },
         "mode": "markers",
         "name": "14:34:46",
         "orientation": "v",
         "showlegend": true,
         "type": "scatter",
         "x": [
          "2023-04-26"
         ],
         "xaxis": "x",
         "y": [
          "14:34:46"
         ],
         "yaxis": "y"
        },
        {
         "hovertemplate": "day_length=%{y}<br>date=%{x}<extra></extra>",
         "legendgroup": "14:38:20",
         "marker": {
          "color": "yellow",
          "symbol": "circle"
         },
         "mode": "markers",
         "name": "14:38:20",
         "orientation": "v",
         "showlegend": true,
         "type": "scatter",
         "x": [
          "2023-04-27"
         ],
         "xaxis": "x",
         "y": [
          "14:38:20"
         ],
         "yaxis": "y"
        },
        {
         "hovertemplate": "day_length=%{y}<br>date=%{x}<extra></extra>",
         "legendgroup": "14:41:53",
         "marker": {
          "color": "yellow",
          "symbol": "circle"
         },
         "mode": "markers",
         "name": "14:41:53",
         "orientation": "v",
         "showlegend": true,
         "type": "scatter",
         "x": [
          "2023-04-28"
         ],
         "xaxis": "x",
         "y": [
          "14:41:53"
         ],
         "yaxis": "y"
        },
        {
         "hovertemplate": "day_length=%{y}<br>date=%{x}<extra></extra>",
         "legendgroup": "14:45:25",
         "marker": {
          "color": "yellow",
          "symbol": "circle"
         },
         "mode": "markers",
         "name": "14:45:25",
         "orientation": "v",
         "showlegend": true,
         "type": "scatter",
         "x": [
          "2023-04-29"
         ],
         "xaxis": "x",
         "y": [
          "14:45:25"
         ],
         "yaxis": "y"
        },
        {
         "hovertemplate": "day_length=%{y}<br>date=%{x}<extra></extra>",
         "legendgroup": "14:48:55",
         "marker": {
          "color": "yellow",
          "symbol": "circle"
         },
         "mode": "markers",
         "name": "14:48:55",
         "orientation": "v",
         "showlegend": true,
         "type": "scatter",
         "x": [
          "2023-04-30"
         ],
         "xaxis": "x",
         "y": [
          "14:48:55"
         ],
         "yaxis": "y"
        },
        {
         "hovertemplate": "day_length=%{y}<br>date=%{x}<extra></extra>",
         "legendgroup": "14:52:23",
         "marker": {
          "color": "yellow",
          "symbol": "circle"
         },
         "mode": "markers",
         "name": "14:52:23",
         "orientation": "v",
         "showlegend": true,
         "type": "scatter",
         "x": [
          "2023-05-01"
         ],
         "xaxis": "x",
         "y": [
          "14:52:23"
         ],
         "yaxis": "y"
        },
        {
         "hovertemplate": "day_length=%{y}<br>date=%{x}<extra></extra>",
         "legendgroup": "14:55:49",
         "marker": {
          "color": "yellow",
          "symbol": "circle"
         },
         "mode": "markers",
         "name": "14:55:49",
         "orientation": "v",
         "showlegend": true,
         "type": "scatter",
         "x": [
          "2023-05-02"
         ],
         "xaxis": "x",
         "y": [
          "14:55:49"
         ],
         "yaxis": "y"
        },
        {
         "hovertemplate": "day_length=%{y}<br>date=%{x}<extra></extra>",
         "legendgroup": "14:59:15",
         "marker": {
          "color": "yellow",
          "symbol": "circle"
         },
         "mode": "markers",
         "name": "14:59:15",
         "orientation": "v",
         "showlegend": true,
         "type": "scatter",
         "x": [
          "2023-05-03"
         ],
         "xaxis": "x",
         "y": [
          "14:59:15"
         ],
         "yaxis": "y"
        },
        {
         "hovertemplate": "day_length=%{y}<br>date=%{x}<extra></extra>",
         "legendgroup": "15:02:38",
         "marker": {
          "color": "yellow",
          "symbol": "circle"
         },
         "mode": "markers",
         "name": "15:02:38",
         "orientation": "v",
         "showlegend": true,
         "type": "scatter",
         "x": [
          "2023-05-04"
         ],
         "xaxis": "x",
         "y": [
          "15:02:38"
         ],
         "yaxis": "y"
        },
        {
         "hovertemplate": "day_length=%{y}<br>date=%{x}<extra></extra>",
         "legendgroup": "15:05:59",
         "marker": {
          "color": "yellow",
          "symbol": "circle"
         },
         "mode": "markers",
         "name": "15:05:59",
         "orientation": "v",
         "showlegend": true,
         "type": "scatter",
         "x": [
          "2023-05-05"
         ],
         "xaxis": "x",
         "y": [
          "15:05:59"
         ],
         "yaxis": "y"
        },
        {
         "hovertemplate": "day_length=%{y}<br>date=%{x}<extra></extra>",
         "legendgroup": "15:09:19",
         "marker": {
          "color": "yellow",
          "symbol": "circle"
         },
         "mode": "markers",
         "name": "15:09:19",
         "orientation": "v",
         "showlegend": true,
         "type": "scatter",
         "x": [
          "2023-05-06"
         ],
         "xaxis": "x",
         "y": [
          "15:09:19"
         ],
         "yaxis": "y"
        },
        {
         "hovertemplate": "day_length=%{y}<br>date=%{x}<extra></extra>",
         "legendgroup": "15:12:36",
         "marker": {
          "color": "yellow",
          "symbol": "circle"
         },
         "mode": "markers",
         "name": "15:12:36",
         "orientation": "v",
         "showlegend": true,
         "type": "scatter",
         "x": [
          "2023-05-07"
         ],
         "xaxis": "x",
         "y": [
          "15:12:36"
         ],
         "yaxis": "y"
        },
        {
         "hovertemplate": "day_length=%{y}<br>date=%{x}<extra></extra>",
         "legendgroup": "15:15:51",
         "marker": {
          "color": "yellow",
          "symbol": "circle"
         },
         "mode": "markers",
         "name": "15:15:51",
         "orientation": "v",
         "showlegend": true,
         "type": "scatter",
         "x": [
          "2023-05-08"
         ],
         "xaxis": "x",
         "y": [
          "15:15:51"
         ],
         "yaxis": "y"
        },
        {
         "hovertemplate": "day_length=%{y}<br>date=%{x}<extra></extra>",
         "legendgroup": "15:19:05",
         "marker": {
          "color": "yellow",
          "symbol": "circle"
         },
         "mode": "markers",
         "name": "15:19:05",
         "orientation": "v",
         "showlegend": true,
         "type": "scatter",
         "x": [
          "2023-05-09"
         ],
         "xaxis": "x",
         "y": [
          "15:19:05"
         ],
         "yaxis": "y"
        },
        {
         "hovertemplate": "day_length=%{y}<br>date=%{x}<extra></extra>",
         "legendgroup": "15:22:15",
         "marker": {
          "color": "yellow",
          "symbol": "circle"
         },
         "mode": "markers",
         "name": "15:22:15",
         "orientation": "v",
         "showlegend": true,
         "type": "scatter",
         "x": [
          "2023-05-10"
         ],
         "xaxis": "x",
         "y": [
          "15:22:15"
         ],
         "yaxis": "y"
        },
        {
         "hovertemplate": "day_length=%{y}<br>date=%{x}<extra></extra>",
         "legendgroup": "15:25:23",
         "marker": {
          "color": "yellow",
          "symbol": "circle"
         },
         "mode": "markers",
         "name": "15:25:23",
         "orientation": "v",
         "showlegend": true,
         "type": "scatter",
         "x": [
          "2023-05-11"
         ],
         "xaxis": "x",
         "y": [
          "15:25:23"
         ],
         "yaxis": "y"
        },
        {
         "hovertemplate": "day_length=%{y}<br>date=%{x}<extra></extra>",
         "legendgroup": "15:28:29",
         "marker": {
          "color": "yellow",
          "symbol": "circle"
         },
         "mode": "markers",
         "name": "15:28:29",
         "orientation": "v",
         "showlegend": true,
         "type": "scatter",
         "x": [
          "2023-05-12"
         ],
         "xaxis": "x",
         "y": [
          "15:28:29"
         ],
         "yaxis": "y"
        },
        {
         "hovertemplate": "day_length=%{y}<br>date=%{x}<extra></extra>",
         "legendgroup": "15:31:32",
         "marker": {
          "color": "yellow",
          "symbol": "circle"
         },
         "mode": "markers",
         "name": "15:31:32",
         "orientation": "v",
         "showlegend": true,
         "type": "scatter",
         "x": [
          "2023-05-13"
         ],
         "xaxis": "x",
         "y": [
          "15:31:32"
         ],
         "yaxis": "y"
        },
        {
         "hovertemplate": "day_length=%{y}<br>date=%{x}<extra></extra>",
         "legendgroup": "15:34:33",
         "marker": {
          "color": "yellow",
          "symbol": "circle"
         },
         "mode": "markers",
         "name": "15:34:33",
         "orientation": "v",
         "showlegend": true,
         "type": "scatter",
         "x": [
          "2023-05-14"
         ],
         "xaxis": "x",
         "y": [
          "15:34:33"
         ],
         "yaxis": "y"
        },
        {
         "hovertemplate": "day_length=%{y}<br>date=%{x}<extra></extra>",
         "legendgroup": "15:37:30",
         "marker": {
          "color": "yellow",
          "symbol": "circle"
         },
         "mode": "markers",
         "name": "15:37:30",
         "orientation": "v",
         "showlegend": true,
         "type": "scatter",
         "x": [
          "2023-05-15"
         ],
         "xaxis": "x",
         "y": [
          "15:37:30"
         ],
         "yaxis": "y"
        },
        {
         "hovertemplate": "day_length=%{y}<br>date=%{x}<extra></extra>",
         "legendgroup": "15:40:25",
         "marker": {
          "color": "yellow",
          "symbol": "circle"
         },
         "mode": "markers",
         "name": "15:40:25",
         "orientation": "v",
         "showlegend": true,
         "type": "scatter",
         "x": [
          "2023-05-16"
         ],
         "xaxis": "x",
         "y": [
          "15:40:25"
         ],
         "yaxis": "y"
        },
        {
         "hovertemplate": "day_length=%{y}<br>date=%{x}<extra></extra>",
         "legendgroup": "15:43:16",
         "marker": {
          "color": "yellow",
          "symbol": "circle"
         },
         "mode": "markers",
         "name": "15:43:16",
         "orientation": "v",
         "showlegend": true,
         "type": "scatter",
         "x": [
          "2023-05-17"
         ],
         "xaxis": "x",
         "y": [
          "15:43:16"
         ],
         "yaxis": "y"
        },
        {
         "hovertemplate": "day_length=%{y}<br>date=%{x}<extra></extra>",
         "legendgroup": "15:46:05",
         "marker": {
          "color": "yellow",
          "symbol": "circle"
         },
         "mode": "markers",
         "name": "15:46:05",
         "orientation": "v",
         "showlegend": true,
         "type": "scatter",
         "x": [
          "2023-05-18"
         ],
         "xaxis": "x",
         "y": [
          "15:46:05"
         ],
         "yaxis": "y"
        }
       ],
       "layout": {
        "legend": {
         "title": {
          "text": "day_length"
         },
         "tracegroupgap": 0
        },
        "showlegend": false,
        "template": {
         "data": {
          "bar": [
           {
            "error_x": {
             "color": "#2a3f5f"
            },
            "error_y": {
             "color": "#2a3f5f"
            },
            "marker": {
             "line": {
              "color": "#E5ECF6",
              "width": 0.5
             },
             "pattern": {
              "fillmode": "overlay",
              "size": 10,
              "solidity": 0.2
             }
            },
            "type": "bar"
           }
          ],
          "barpolar": [
           {
            "marker": {
             "line": {
              "color": "#E5ECF6",
              "width": 0.5
             },
             "pattern": {
              "fillmode": "overlay",
              "size": 10,
              "solidity": 0.2
             }
            },
            "type": "barpolar"
           }
          ],
          "carpet": [
           {
            "aaxis": {
             "endlinecolor": "#2a3f5f",
             "gridcolor": "white",
             "linecolor": "white",
             "minorgridcolor": "white",
             "startlinecolor": "#2a3f5f"
            },
            "baxis": {
             "endlinecolor": "#2a3f5f",
             "gridcolor": "white",
             "linecolor": "white",
             "minorgridcolor": "white",
             "startlinecolor": "#2a3f5f"
            },
            "type": "carpet"
           }
          ],
          "choropleth": [
           {
            "colorbar": {
             "outlinewidth": 0,
             "ticks": ""
            },
            "type": "choropleth"
           }
          ],
          "contour": [
           {
            "colorbar": {
             "outlinewidth": 0,
             "ticks": ""
            },
            "colorscale": [
             [
              0,
              "#0d0887"
             ],
             [
              0.1111111111111111,
              "#46039f"
             ],
             [
              0.2222222222222222,
              "#7201a8"
             ],
             [
              0.3333333333333333,
              "#9c179e"
             ],
             [
              0.4444444444444444,
              "#bd3786"
             ],
             [
              0.5555555555555556,
              "#d8576b"
             ],
             [
              0.6666666666666666,
              "#ed7953"
             ],
             [
              0.7777777777777778,
              "#fb9f3a"
             ],
             [
              0.8888888888888888,
              "#fdca26"
             ],
             [
              1,
              "#f0f921"
             ]
            ],
            "type": "contour"
           }
          ],
          "contourcarpet": [
           {
            "colorbar": {
             "outlinewidth": 0,
             "ticks": ""
            },
            "type": "contourcarpet"
           }
          ],
          "heatmap": [
           {
            "colorbar": {
             "outlinewidth": 0,
             "ticks": ""
            },
            "colorscale": [
             [
              0,
              "#0d0887"
             ],
             [
              0.1111111111111111,
              "#46039f"
             ],
             [
              0.2222222222222222,
              "#7201a8"
             ],
             [
              0.3333333333333333,
              "#9c179e"
             ],
             [
              0.4444444444444444,
              "#bd3786"
             ],
             [
              0.5555555555555556,
              "#d8576b"
             ],
             [
              0.6666666666666666,
              "#ed7953"
             ],
             [
              0.7777777777777778,
              "#fb9f3a"
             ],
             [
              0.8888888888888888,
              "#fdca26"
             ],
             [
              1,
              "#f0f921"
             ]
            ],
            "type": "heatmap"
           }
          ],
          "heatmapgl": [
           {
            "colorbar": {
             "outlinewidth": 0,
             "ticks": ""
            },
            "colorscale": [
             [
              0,
              "#0d0887"
             ],
             [
              0.1111111111111111,
              "#46039f"
             ],
             [
              0.2222222222222222,
              "#7201a8"
             ],
             [
              0.3333333333333333,
              "#9c179e"
             ],
             [
              0.4444444444444444,
              "#bd3786"
             ],
             [
              0.5555555555555556,
              "#d8576b"
             ],
             [
              0.6666666666666666,
              "#ed7953"
             ],
             [
              0.7777777777777778,
              "#fb9f3a"
             ],
             [
              0.8888888888888888,
              "#fdca26"
             ],
             [
              1,
              "#f0f921"
             ]
            ],
            "type": "heatmapgl"
           }
          ],
          "histogram": [
           {
            "marker": {
             "pattern": {
              "fillmode": "overlay",
              "size": 10,
              "solidity": 0.2
             }
            },
            "type": "histogram"
           }
          ],
          "histogram2d": [
           {
            "colorbar": {
             "outlinewidth": 0,
             "ticks": ""
            },
            "colorscale": [
             [
              0,
              "#0d0887"
             ],
             [
              0.1111111111111111,
              "#46039f"
             ],
             [
              0.2222222222222222,
              "#7201a8"
             ],
             [
              0.3333333333333333,
              "#9c179e"
             ],
             [
              0.4444444444444444,
              "#bd3786"
             ],
             [
              0.5555555555555556,
              "#d8576b"
             ],
             [
              0.6666666666666666,
              "#ed7953"
             ],
             [
              0.7777777777777778,
              "#fb9f3a"
             ],
             [
              0.8888888888888888,
              "#fdca26"
             ],
             [
              1,
              "#f0f921"
             ]
            ],
            "type": "histogram2d"
           }
          ],
          "histogram2dcontour": [
           {
            "colorbar": {
             "outlinewidth": 0,
             "ticks": ""
            },
            "colorscale": [
             [
              0,
              "#0d0887"
             ],
             [
              0.1111111111111111,
              "#46039f"
             ],
             [
              0.2222222222222222,
              "#7201a8"
             ],
             [
              0.3333333333333333,
              "#9c179e"
             ],
             [
              0.4444444444444444,
              "#bd3786"
             ],
             [
              0.5555555555555556,
              "#d8576b"
             ],
             [
              0.6666666666666666,
              "#ed7953"
             ],
             [
              0.7777777777777778,
              "#fb9f3a"
             ],
             [
              0.8888888888888888,
              "#fdca26"
             ],
             [
              1,
              "#f0f921"
             ]
            ],
            "type": "histogram2dcontour"
           }
          ],
          "mesh3d": [
           {
            "colorbar": {
             "outlinewidth": 0,
             "ticks": ""
            },
            "type": "mesh3d"
           }
          ],
          "parcoords": [
           {
            "line": {
             "colorbar": {
              "outlinewidth": 0,
              "ticks": ""
             }
            },
            "type": "parcoords"
           }
          ],
          "pie": [
           {
            "automargin": true,
            "type": "pie"
           }
          ],
          "scatter": [
           {
            "fillpattern": {
             "fillmode": "overlay",
             "size": 10,
             "solidity": 0.2
            },
            "type": "scatter"
           }
          ],
          "scatter3d": [
           {
            "line": {
             "colorbar": {
              "outlinewidth": 0,
              "ticks": ""
             }
            },
            "marker": {
             "colorbar": {
              "outlinewidth": 0,
              "ticks": ""
             }
            },
            "type": "scatter3d"
           }
          ],
          "scattercarpet": [
           {
            "marker": {
             "colorbar": {
              "outlinewidth": 0,
              "ticks": ""
             }
            },
            "type": "scattercarpet"
           }
          ],
          "scattergeo": [
           {
            "marker": {
             "colorbar": {
              "outlinewidth": 0,
              "ticks": ""
             }
            },
            "type": "scattergeo"
           }
          ],
          "scattergl": [
           {
            "marker": {
             "colorbar": {
              "outlinewidth": 0,
              "ticks": ""
             }
            },
            "type": "scattergl"
           }
          ],
          "scattermapbox": [
           {
            "marker": {
             "colorbar": {
              "outlinewidth": 0,
              "ticks": ""
             }
            },
            "type": "scattermapbox"
           }
          ],
          "scatterpolar": [
           {
            "marker": {
             "colorbar": {
              "outlinewidth": 0,
              "ticks": ""
             }
            },
            "type": "scatterpolar"
           }
          ],
          "scatterpolargl": [
           {
            "marker": {
             "colorbar": {
              "outlinewidth": 0,
              "ticks": ""
             }
            },
            "type": "scatterpolargl"
           }
          ],
          "scatterternary": [
           {
            "marker": {
             "colorbar": {
              "outlinewidth": 0,
              "ticks": ""
             }
            },
            "type": "scatterternary"
           }
          ],
          "surface": [
           {
            "colorbar": {
             "outlinewidth": 0,
             "ticks": ""
            },
            "colorscale": [
             [
              0,
              "#0d0887"
             ],
             [
              0.1111111111111111,
              "#46039f"
             ],
             [
              0.2222222222222222,
              "#7201a8"
             ],
             [
              0.3333333333333333,
              "#9c179e"
             ],
             [
              0.4444444444444444,
              "#bd3786"
             ],
             [
              0.5555555555555556,
              "#d8576b"
             ],
             [
              0.6666666666666666,
              "#ed7953"
             ],
             [
              0.7777777777777778,
              "#fb9f3a"
             ],
             [
              0.8888888888888888,
              "#fdca26"
             ],
             [
              1,
              "#f0f921"
             ]
            ],
            "type": "surface"
           }
          ],
          "table": [
           {
            "cells": {
             "fill": {
              "color": "#EBF0F8"
             },
             "line": {
              "color": "white"
             }
            },
            "header": {
             "fill": {
              "color": "#C8D4E3"
             },
             "line": {
              "color": "white"
             }
            },
            "type": "table"
           }
          ]
         },
         "layout": {
          "annotationdefaults": {
           "arrowcolor": "#2a3f5f",
           "arrowhead": 0,
           "arrowwidth": 1
          },
          "autotypenumbers": "strict",
          "coloraxis": {
           "colorbar": {
            "outlinewidth": 0,
            "ticks": ""
           }
          },
          "colorscale": {
           "diverging": [
            [
             0,
             "#8e0152"
            ],
            [
             0.1,
             "#c51b7d"
            ],
            [
             0.2,
             "#de77ae"
            ],
            [
             0.3,
             "#f1b6da"
            ],
            [
             0.4,
             "#fde0ef"
            ],
            [
             0.5,
             "#f7f7f7"
            ],
            [
             0.6,
             "#e6f5d0"
            ],
            [
             0.7,
             "#b8e186"
            ],
            [
             0.8,
             "#7fbc41"
            ],
            [
             0.9,
             "#4d9221"
            ],
            [
             1,
             "#276419"
            ]
           ],
           "sequential": [
            [
             0,
             "#0d0887"
            ],
            [
             0.1111111111111111,
             "#46039f"
            ],
            [
             0.2222222222222222,
             "#7201a8"
            ],
            [
             0.3333333333333333,
             "#9c179e"
            ],
            [
             0.4444444444444444,
             "#bd3786"
            ],
            [
             0.5555555555555556,
             "#d8576b"
            ],
            [
             0.6666666666666666,
             "#ed7953"
            ],
            [
             0.7777777777777778,
             "#fb9f3a"
            ],
            [
             0.8888888888888888,
             "#fdca26"
            ],
            [
             1,
             "#f0f921"
            ]
           ],
           "sequentialminus": [
            [
             0,
             "#0d0887"
            ],
            [
             0.1111111111111111,
             "#46039f"
            ],
            [
             0.2222222222222222,
             "#7201a8"
            ],
            [
             0.3333333333333333,
             "#9c179e"
            ],
            [
             0.4444444444444444,
             "#bd3786"
            ],
            [
             0.5555555555555556,
             "#d8576b"
            ],
            [
             0.6666666666666666,
             "#ed7953"
            ],
            [
             0.7777777777777778,
             "#fb9f3a"
            ],
            [
             0.8888888888888888,
             "#fdca26"
            ],
            [
             1,
             "#f0f921"
            ]
           ]
          },
          "colorway": [
           "#636efa",
           "#EF553B",
           "#00cc96",
           "#ab63fa",
           "#FFA15A",
           "#19d3f3",
           "#FF6692",
           "#B6E880",
           "#FF97FF",
           "#FECB52"
          ],
          "font": {
           "color": "#2a3f5f"
          },
          "geo": {
           "bgcolor": "white",
           "lakecolor": "white",
           "landcolor": "#E5ECF6",
           "showlakes": true,
           "showland": true,
           "subunitcolor": "white"
          },
          "hoverlabel": {
           "align": "left"
          },
          "hovermode": "closest",
          "mapbox": {
           "style": "light"
          },
          "paper_bgcolor": "white",
          "plot_bgcolor": "#E5ECF6",
          "polar": {
           "angularaxis": {
            "gridcolor": "white",
            "linecolor": "white",
            "ticks": ""
           },
           "bgcolor": "#E5ECF6",
           "radialaxis": {
            "gridcolor": "white",
            "linecolor": "white",
            "ticks": ""
           }
          },
          "scene": {
           "xaxis": {
            "backgroundcolor": "#E5ECF6",
            "gridcolor": "white",
            "gridwidth": 2,
            "linecolor": "white",
            "showbackground": true,
            "ticks": "",
            "zerolinecolor": "white"
           },
           "yaxis": {
            "backgroundcolor": "#E5ECF6",
            "gridcolor": "white",
            "gridwidth": 2,
            "linecolor": "white",
            "showbackground": true,
            "ticks": "",
            "zerolinecolor": "white"
           },
           "zaxis": {
            "backgroundcolor": "#E5ECF6",
            "gridcolor": "white",
            "gridwidth": 2,
            "linecolor": "white",
            "showbackground": true,
            "ticks": "",
            "zerolinecolor": "white"
           }
          },
          "shapedefaults": {
           "line": {
            "color": "#2a3f5f"
           }
          },
          "ternary": {
           "aaxis": {
            "gridcolor": "white",
            "linecolor": "white",
            "ticks": ""
           },
           "baxis": {
            "gridcolor": "white",
            "linecolor": "white",
            "ticks": ""
           },
           "bgcolor": "#E5ECF6",
           "caxis": {
            "gridcolor": "white",
            "linecolor": "white",
            "ticks": ""
           }
          },
          "title": {
           "x": 0.05
          },
          "xaxis": {
           "automargin": true,
           "gridcolor": "white",
           "linecolor": "white",
           "ticks": "",
           "title": {
            "standoff": 15
           },
           "zerolinecolor": "white",
           "zerolinewidth": 2
          },
          "yaxis": {
           "automargin": true,
           "gridcolor": "white",
           "linecolor": "white",
           "ticks": "",
           "title": {
            "standoff": 15
           },
           "zerolinecolor": "white",
           "zerolinewidth": 2
          }
         }
        },
        "title": {
         "text": "Day Length Times for -6 timezone"
        },
        "xaxis": {
         "anchor": "y",
         "domain": [
          0,
          1
         ],
         "title": {
          "text": "date"
         }
        },
        "yaxis": {
         "anchor": "x",
         "categoryarray": [
          "15:46:05",
          "15:43:16",
          "15:40:25",
          "15:37:30",
          "15:34:33",
          "15:31:32",
          "15:28:29",
          "15:25:23",
          "15:22:15",
          "15:19:05",
          "15:15:51",
          "15:12:36",
          "15:09:19",
          "15:05:59",
          "15:02:38",
          "14:59:15",
          "14:55:49",
          "14:52:23",
          "14:48:55",
          "14:45:25",
          "14:41:53",
          "14:38:20",
          "14:34:46",
          "14:31:10",
          "14:27:33",
          "14:23:55",
          "14:20:15",
          "14:16:35",
          "14:12:54",
          "14:09:12"
         ],
         "categoryorder": "array",
         "domain": [
          0,
          1
         ],
         "title": {
          "text": "day_length"
         }
        }
       }
      }
     },
     "metadata": {},
     "output_type": "display_data"
    }
   ],
   "source": [
    "\n",
    "sunset_fig = px.scatter(df, x='date', y='sunset', title=f'Sunset Times for {offset_hours} timezone', color='sunset').update_layout(showlegend=False)\n",
    "if (df['sunrise'][0] > df['sunrise'][1]):\n",
    "    sunset_fig = sunset_fig.update_layout(yaxis=dict(autorange='reversed'))\n",
    "sunset_fig = sunset_fig.update_traces(marker_color='red').show()\n",
    "\n",
    "sunrise_fig = px.scatter(df, x='date', y='sunrise', title=f'Sunrise Times for {offset_hours} timezone', color='sunrise').update_layout(showlegend=False)\n",
    "if (df['sunset'][0] > df['sunset'][1]):\n",
    "    sunrise_fig = sunrise_fig.update_layout(yaxis=dict(autorange='reversed'))\n",
    "sunrise_fig = sunrise_fig.update_traces(marker_color='lightblue').show()\n",
    "\n",
    "total_length = px.scatter(df, x='date', y='day_length', title=f'Day Length Times for {offset_hours} timezone', color='day_length').update_layout(showlegend=False)\n",
    "if (df['day_length'][0] > df['day_length'][1]):\n",
    "    total_length = total_length.update_layout(yaxis=dict(autorange='reversed'))\n",
    "total_length = total_length.update_traces(marker_color='yellow').show()"
   ]
  },
  {
   "attachments": {},
   "cell_type": "markdown",
   "id": "cd9a45da",
   "metadata": {},
   "source": [
    "## Interpret\n",
    "\n",
    "In the scatter plot you can see the dates on the x-axis and the corresponding `sunrise`, `sunset`, and `day_lengths` on the y-axis. \n",
    "\n",
    "The color of the dots helps to differentiate the different plots with `sunrise` being red, `sunset` being light-blue, and `day_length` being yellow.\n",
    "\n",
    "We notice that when the range of dates is set to approximately a month, `sunrise` and `sunset` times follow a _linear_ relationship, where the dates consistently either go up or down a particular value making the plot look like a straight line. Why do you think these values follow a certain _trend_?"
   ]
  },
  {
   "attachments": {},
   "cell_type": "markdown",
   "id": "0bd36dc5",
   "metadata": {},
   "source": [
    "## Reflect on what you see\n",
    "\n",
    "After making your visualization the next step is to use the data and your visualization to answer the question. Look at and interact with the visualization above. When you hover your mouse over the plots, you’ll notice more information appears. You can also use the legend to make plots appear and disappear.\n",
    "\n",
    "#### Think about the following questions.\n",
    "\n",
    "* What do you notice about these graphs?\n",
    "* What do you wonder about the data?\n",
    "* What kind of inferences can you make based on this data?\n",
    "* Is there another way to visualize this data that would change your inerpretation of the information? \n",
    "\n",
    "\n",
    "#### Use the fill-in-the-blank prompts to summarize your thoughts.\n",
    "* \"I used to think _______\"\n",
    "* \"Now I think _______\"\n",
    "* \"I wish I knew more about _______\"\n",
    "* \"These data visualizations remind me of _______\"\n",
    "* \"I really like _______\""
   ]
  },
  {
   "attachments": {},
   "cell_type": "markdown",
   "id": "65a8fc51",
   "metadata": {},
   "source": [
    "## Communicate"
   ]
  },
  {
   "attachments": {},
   "cell_type": "markdown",
   "id": "8db6afab",
   "metadata": {},
   "source": [
    "If you have not yet done this, use the plot to answer our question on which timezones have the largest differences between sunrise and sunset times. Vice-versa, which areas have the smallest differences?\n",
    "\n",
    "How can you communicate that information? What kind of product could you create to share that information with your school community and wider community?\n",
    "\n",
    "Consider tagging Callysto on [Twitter](https://twitter.com/callysto_canada), [YouTube](https://www.youtube.com/Callysto), [TikTok](https://www.tiktok.com/@callysto_canada), [Facebook](https://www.facebook.com/callystocanada/), or [Linkedin](https://www.linkedin.com/company/callysto-canada/) if you decide to share your reflections or projects on social media."
   ]
  },
  {
   "attachments": {},
   "cell_type": "markdown",
   "id": "53d47f8c",
   "metadata": {},
   "source": [
    "## Further Resources"
   ]
  },
  {
   "attachments": {},
   "cell_type": "markdown",
   "id": "0c19a2c4",
   "metadata": {},
   "source": [
    "Other sources for sunrise and sunset times, such as the sunset and sunrise times of Calgary, can be found [here](https://www.timeanddate.com/sun/canada/calgary)"
   ]
  },
  {
   "attachments": {},
   "cell_type": "markdown",
   "id": "c39a59d0",
   "metadata": {},
   "source": [
    "[![Callysto.ca License](https://github.com/callysto/curriculum-notebooks/blob/master/callysto-notebook-banner-bottom.jpg?raw=true)](https://github.com/callysto/curriculum-notebooks/blob/master/LICENSE.md)"
   ]
  }
 ],
 "metadata": {
  "kernelspec": {
   "display_name": "Python 3 (ipykernel)",
   "language": "python",
   "name": "python3"
  },
  "language_info": {
   "codemirror_mode": {
    "name": "ipython",
    "version": 3
   },
   "file_extension": ".py",
   "mimetype": "text/x-python",
   "name": "python",
   "nbconvert_exporter": "python",
   "pygments_lexer": "ipython3",
   "version": "3.10.8"
  }
 },
 "nbformat": 4,
 "nbformat_minor": 5
}
