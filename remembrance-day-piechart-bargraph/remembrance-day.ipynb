{
 "cells": [
  {
   "cell_type": "markdown",
   "metadata": {},
   "source": [
    "![Callysto.ca Banner](https://github.com/callysto/curriculum-notebooks/blob/master/callysto-notebook-banner-top.jpg?raw=true)\n",
    "\n",
    "<a href=\"https://hub.callysto.ca/jupyter/hub/user-redirect/git-pull?repo=https%3A%2F%2Fgithub.com%2Fcallysto%2Fdata-viz-of-the-week&branch=main&subPath=remembrance-day.ipynb&depth=1\" target=\"_parent\"><img src=\"https://raw.githubusercontent.com/callysto/curriculum-notebooks/master/open-in-callysto-button.svg?sanitize=true\" width=\"123\" height=\"24\" alt=\"Open in Callysto\"/></a>"
   ]
  },
  {
   "cell_type": "markdown",
   "metadata": {},
   "source": [
    "# Callysto's Weekly Data Visualization \n",
    "\n",
    "## Remembrance Day - The Cost of the First World War\n",
    "\n",
    "\n",
    "### Recommended grade level: 6-12\n",
    "Callysto's Weekly Data Visualization is a learning resource that helps Grades 5-12 teachers and students grow and develop data literacy skills. We do this by providing a data visualization, like a graph, and asking teachers and students to interpret it. This companion resource walks learners through how the data visualization is created and interpreted using the data science process. The steps of this process are listed below and applied to each weekly topic.\n",
    "\n",
    "1. **Question** - What are we trying to answer?\n",
    "2. **Gather** - Find the data source(s) you will need.\n",
    "3. **Organize** - Arrange the data so that you can easily explore it.\n",
    "4. **Explore** - Examine the data to look for evidence to answer our question. This includes creating visualizations. \n",
    "5. **Interpret** - Explain how the evidence answers our question.\n",
    "6. **Communicate** - Reflect on the interpretation.\n",
    "\n"
   ]
  },
  {
   "cell_type": "markdown",
   "metadata": {},
   "source": [
    "### 1. Question\n",
    "\n",
    "World War I (WWI) was a major turning point in Canadian history and had an immense cost in human life. There are many questions we can and should ask about this war. These include:\n",
    "- How many casualties did Canada sustain in WWI and how many of those were deaths?\n",
    "- How many Canadiens enlisted and how many of those served?\n"
   ]
  },
  {
   "cell_type": "markdown",
   "metadata": {},
   "source": [
    "### 2. Gather\n",
    "\n",
    "The code below will import the Python programming libraries we need to gather and organize the data to answer our question. The data was sourced from the [Canadian War Museum](https://www.warmuseum.ca/firstworldwar/history/after-the-war/legacy/the-cost-of-canadas-war) on November 4th 2020."
   ]
  },
  {
   "cell_type": "code",
   "execution_count": null,
   "metadata": {},
   "outputs": [],
   "source": [
    "# Import libraries\n",
    "import plotly.express as px # the plotly library will be used to make our visulizations\n",
    "\n",
    "# Transpost data from The Canadian War Museum\n",
    "enlisted = 619636\n",
    "served = 424000\n",
    "wounded = 172000\n",
    "died = 59544"
   ]
  },
  {
   "cell_type": "markdown",
   "metadata": {},
   "source": [
    "### 3. Organize \n",
    "Since the data from the [Canadian War Museum](https://www.warmuseum.ca/firstworldwar/history/after-the-war/legacy/the-cost-of-canadas-war) is already organized we don't need to take any steps to cleaning it up and reorganizing it. \n",
    "\n",
    "### 4. Explore\n",
    "\n",
    "The code below will be used to explore the question \"*how many casualties did Canada sustain in WWI and how many of those were deaths?*\" by using a pie chart to show the breakdown of casualties in WWI."
   ]
  },
  {
   "cell_type": "code",
   "execution_count": null,
   "metadata": {},
   "outputs": [],
   "source": [
    "# Code to create a pie chart showing percentages of soldiers wounded, killed or not wounded in WWI\n",
    "labels = ['died', 'wounded', 'not wounded']\n",
    "values = [died, wounded, served-(died+wounded)]\n",
    "fig = px.pie(names=labels, values=values, title='Canadian Soldiers Who Served Overseas in World War I')\n",
    "fig.update_traces(text=values,\n",
    "    marker=dict(colors=['black', 'red', 'white'],line={'color':'#000000','width':2}))\n",
    "fig.show()"
   ]
  },
  {
   "cell_type": "markdown",
   "metadata": {},
   "source": [
    "Pie charts are used to display how much different, non overlapping, categories contribute to the whole. In this case looking at Canadian Soldiers who served overseas, the pie chart breaks that down into three categories. Soldiers who died, who were injured but did not die and those sustaining no injuries.\n",
    "\n",
    "Next, will explore the question \"*How many Canadiens enlisted and how many of those served?*\". The code below will produce a bar chart to look at this question."
   ]
  },
  {
   "cell_type": "code",
   "execution_count": null,
   "metadata": {},
   "outputs": [],
   "source": [
    "# code to create a bar chart of enlisted and served WWI soldiers using the data gathered above\n",
    "px.bar(x=['enlisted','served'], y=[enlisted, served], title='Canadian Soldiers in World War I',\n",
    "       color=['enlisted', 'served'], \n",
    "       labels=dict(x='Category', y='Number of Soldiers', color='categories:'))"
   ]
  },
  {
   "cell_type": "markdown",
   "metadata": {},
   "source": [
    "Bar Charts are used to diplay quantities among distint categoies. Unlike pie charts, however, the data can be overlapping. This bar chart shows both the quantity of those who enlisted and those who served oversease in WWI."
   ]
  },
  {
   "cell_type": "markdown",
   "metadata": {},
   "source": [
    "### Interpret\n",
    "\n",
    "Below we will discuss the results of the data exploration. Here are a few key questions to ask when interpreting the results from data to answer our question. These questions help you think critically about the information you see.\n",
    "\n",
    "- Where did the data come from? How was the data gathered?\n",
    "- Describe what’s happening in the data visualization (graph). What do you notice (e.g. big or small values, or trends)?\n",
    "- How does our key evidence help answer our question?\n",
    "\n",
    "\n",
    "#### a. How many casualties did Canada sustain in WWI and how many of those were deaths?\n",
    "\n",
    "The pie chart using the War Museum data is used to answer this question. It shows:\n",
    "- 192,456 soldiers were not casualties;\n",
    "- 59,544 soldiers died; and\n",
    "- 172,000 soldiers were wounded.\n",
    "\n",
    "The pie chart also shows the ratios. The segments for casualties, those that were wounded or died, is larger than the segment for the soldiers who sustained no injuries. It shows that approximately 55% of soldiers were casualties and only 45% sustained no injuries.\n",
    "\n",
    "#### b. How many Canadiens enlisted and how many of those served?\n",
    "\n",
    "The bar chart using the War Museum data is used to answer this question.  It shows: \n",
    "- 424,000 Canadian soldiers served overseas in WWI; and\n",
    "- 619,636 Canadian soldiers enlisted in WWI.\n",
    "\n",
    "The difference in height between the two bars or the difference in the two numbers is how many soldiers enlisted but did not serve overseas. This number is $195,636 = 619,636 -424,000$.\n"
   ]
  },
  {
   "cell_type": "markdown",
   "metadata": {},
   "source": [
    "### 6. Communicate\n",
    "\n",
    "Below we will reflect on the new information that is presented from the data. When we look at the evidence, think about what you perceive about the information. Is this perception based on what the evidence shows? If others were to view it, what perceptions might they have? These writing prompts can help you reflect.\n",
    "- I used to think ____________________but now I know____________________.\n",
    "- I wish I knew more about ____________________. \n",
    "- This visualization reminds me of ____________________.\n",
    "- I really like ____________________.\n"
   ]
  },
  {
   "cell_type": "markdown",
   "metadata": {},
   "source": [
    "[![Callysto.ca License](https://github.com/callysto/curriculum-notebooks/blob/master/callysto-notebook-banner-bottom.jpg?raw=true)](https://github.com/callysto/curriculum-notebooks/blob/master/LICENSE.md)"
   ]
  }
 ],
 "metadata": {
  "kernelspec": {
   "display_name": "Python 3",
   "language": "python",
   "name": "python3"
  },
  "language_info": {
   "codemirror_mode": {
    "name": "ipython",
    "version": 3
   },
   "file_extension": ".py",
   "mimetype": "text/x-python",
   "name": "python",
   "nbconvert_exporter": "python",
   "pygments_lexer": "ipython3",
   "version": "3.8.6"
  }
 },
 "nbformat": 4,
 "nbformat_minor": 4
}
