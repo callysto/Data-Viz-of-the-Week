{
 "cells": [
  {
   "attachments": {},
   "cell_type": "markdown",
   "metadata": {},
   "source": [
    "![Callysto.ca Banner](https://github.com/callysto/curriculum-notebooks/blob/master/callysto-notebook-banner-top.jpg?raw=true)\n",
    "\n",
    "<a href=\"https://hub.callysto.ca/jupyter/hub/user-redirect/git-pull?repo=https%3A%2F%2Fgithub.com%2Fcallysto%2Fdata-viz-of-the-week&branch=main&subPath=black-history-month-immigration/black-history-month-nova-scotia-immigration.ipynb&depth=1\" target=\"_parent\"><img src=\"https://raw.githubusercontent.com/callysto/curriculum-notebooks/master/open-in-callysto-button.svg?sanitize=true\" width=\"123\" height=\"24\" alt=\"Open in Callysto\"/></a>"
   ]
  },
  {
   "attachments": {},
   "cell_type": "markdown",
   "metadata": {},
   "source": [
    "# World Happiness and Income"
   ]
  },
  {
   "attachments": {},
   "cell_type": "markdown",
   "metadata": {},
   "source": [
    "# Question\n",
    "\n",
    "Is the happiness score of citizens in a country directly correlated to income in that country, or are there other factors that also influence the happiness scores?\n"
   ]
  },
  {
   "attachments": {},
   "cell_type": "markdown",
   "metadata": {},
   "source": [
    "# Gather\n",
    "\n",
    "We will use data from the World Happiness Report. \n",
    "\n",
    "Run the code in the following cell to import the code libraries needed for this project. Code libraries are sets of code that make it easier to accompilsh a specific purpose, for instance plotly express is a code library used for making visualizations. The first two lines of code import code libraries into this notebook and the lines of code below that in the same cell will import the data we are using from a website. \n"
   ]
  },
  {
   "cell_type": "code",
   "execution_count": 1,
   "metadata": {},
   "outputs": [
    {
     "data": {
      "text/html": [
       "<div>\n",
       "<style scoped>\n",
       "    .dataframe tbody tr th:only-of-type {\n",
       "        vertical-align: middle;\n",
       "    }\n",
       "\n",
       "    .dataframe tbody tr th {\n",
       "        vertical-align: top;\n",
       "    }\n",
       "\n",
       "    .dataframe thead th {\n",
       "        text-align: right;\n",
       "    }\n",
       "</style>\n",
       "<table border=\"1\" class=\"dataframe\">\n",
       "  <thead>\n",
       "    <tr style=\"text-align: right;\">\n",
       "      <th></th>\n",
       "      <th>Country name</th>\n",
       "      <th>Ladder score</th>\n",
       "      <th>Standard error of ladder score</th>\n",
       "      <th>upperwhisker</th>\n",
       "      <th>lowerwhisker</th>\n",
       "      <th>Logged GDP per capita</th>\n",
       "      <th>Social support</th>\n",
       "      <th>Healthy life expectancy</th>\n",
       "      <th>Freedom to make life choices</th>\n",
       "      <th>Generosity</th>\n",
       "      <th>Perceptions of corruption</th>\n",
       "      <th>Ladder score in Dystopia</th>\n",
       "      <th>Explained by: Log GDP per capita</th>\n",
       "      <th>Explained by: Social support</th>\n",
       "      <th>Explained by: Healthy life expectancy</th>\n",
       "      <th>Explained by: Freedom to make life choices</th>\n",
       "      <th>Explained by: Generosity</th>\n",
       "      <th>Explained by: Perceptions of corruption</th>\n",
       "      <th>Dystopia + residual</th>\n",
       "    </tr>\n",
       "  </thead>\n",
       "  <tbody>\n",
       "    <tr>\n",
       "      <th>0</th>\n",
       "      <td>Finland</td>\n",
       "      <td>7.8042</td>\n",
       "      <td>0.036162</td>\n",
       "      <td>7.875078</td>\n",
       "      <td>7.733322</td>\n",
       "      <td>10.792010</td>\n",
       "      <td>0.968770</td>\n",
       "      <td>71.149994</td>\n",
       "      <td>0.961408</td>\n",
       "      <td>-0.018824</td>\n",
       "      <td>0.181745</td>\n",
       "      <td>1.777825</td>\n",
       "      <td>1.888380</td>\n",
       "      <td>1.584900</td>\n",
       "      <td>0.534574</td>\n",
       "      <td>0.771510</td>\n",
       "      <td>0.126331</td>\n",
       "      <td>0.535299</td>\n",
       "      <td>2.363241</td>\n",
       "    </tr>\n",
       "    <tr>\n",
       "      <th>1</th>\n",
       "      <td>Denmark</td>\n",
       "      <td>7.5864</td>\n",
       "      <td>0.041028</td>\n",
       "      <td>7.666815</td>\n",
       "      <td>7.505985</td>\n",
       "      <td>10.962164</td>\n",
       "      <td>0.954112</td>\n",
       "      <td>71.250145</td>\n",
       "      <td>0.933533</td>\n",
       "      <td>0.134242</td>\n",
       "      <td>0.195814</td>\n",
       "      <td>1.777825</td>\n",
       "      <td>1.949406</td>\n",
       "      <td>1.547875</td>\n",
       "      <td>0.537302</td>\n",
       "      <td>0.734416</td>\n",
       "      <td>0.208459</td>\n",
       "      <td>0.525221</td>\n",
       "      <td>2.083766</td>\n",
       "    </tr>\n",
       "    <tr>\n",
       "      <th>2</th>\n",
       "      <td>Iceland</td>\n",
       "      <td>7.5296</td>\n",
       "      <td>0.048612</td>\n",
       "      <td>7.624879</td>\n",
       "      <td>7.434321</td>\n",
       "      <td>10.895531</td>\n",
       "      <td>0.982533</td>\n",
       "      <td>72.050018</td>\n",
       "      <td>0.936349</td>\n",
       "      <td>0.210987</td>\n",
       "      <td>0.667848</td>\n",
       "      <td>1.777825</td>\n",
       "      <td>1.925508</td>\n",
       "      <td>1.619666</td>\n",
       "      <td>0.559096</td>\n",
       "      <td>0.738164</td>\n",
       "      <td>0.249635</td>\n",
       "      <td>0.187119</td>\n",
       "      <td>2.250382</td>\n",
       "    </tr>\n",
       "    <tr>\n",
       "      <th>3</th>\n",
       "      <td>Israel</td>\n",
       "      <td>7.4729</td>\n",
       "      <td>0.031609</td>\n",
       "      <td>7.534853</td>\n",
       "      <td>7.410946</td>\n",
       "      <td>10.638705</td>\n",
       "      <td>0.943344</td>\n",
       "      <td>72.697205</td>\n",
       "      <td>0.808866</td>\n",
       "      <td>-0.023080</td>\n",
       "      <td>0.708094</td>\n",
       "      <td>1.777825</td>\n",
       "      <td>1.833398</td>\n",
       "      <td>1.520674</td>\n",
       "      <td>0.576730</td>\n",
       "      <td>0.568518</td>\n",
       "      <td>0.124048</td>\n",
       "      <td>0.158292</td>\n",
       "      <td>2.691290</td>\n",
       "    </tr>\n",
       "    <tr>\n",
       "      <th>4</th>\n",
       "      <td>Netherlands</td>\n",
       "      <td>7.4030</td>\n",
       "      <td>0.029294</td>\n",
       "      <td>7.460416</td>\n",
       "      <td>7.345583</td>\n",
       "      <td>10.942279</td>\n",
       "      <td>0.930499</td>\n",
       "      <td>71.550018</td>\n",
       "      <td>0.886875</td>\n",
       "      <td>0.212686</td>\n",
       "      <td>0.378929</td>\n",
       "      <td>1.777825</td>\n",
       "      <td>1.942274</td>\n",
       "      <td>1.488228</td>\n",
       "      <td>0.545473</td>\n",
       "      <td>0.672327</td>\n",
       "      <td>0.250547</td>\n",
       "      <td>0.394062</td>\n",
       "      <td>2.110044</td>\n",
       "    </tr>\n",
       "    <tr>\n",
       "      <th>...</th>\n",
       "      <td>...</td>\n",
       "      <td>...</td>\n",
       "      <td>...</td>\n",
       "      <td>...</td>\n",
       "      <td>...</td>\n",
       "      <td>...</td>\n",
       "      <td>...</td>\n",
       "      <td>...</td>\n",
       "      <td>...</td>\n",
       "      <td>...</td>\n",
       "      <td>...</td>\n",
       "      <td>...</td>\n",
       "      <td>...</td>\n",
       "      <td>...</td>\n",
       "      <td>...</td>\n",
       "      <td>...</td>\n",
       "      <td>...</td>\n",
       "      <td>...</td>\n",
       "      <td>...</td>\n",
       "    </tr>\n",
       "    <tr>\n",
       "      <th>132</th>\n",
       "      <td>Congo (Kinshasa)</td>\n",
       "      <td>3.2072</td>\n",
       "      <td>0.095369</td>\n",
       "      <td>3.394124</td>\n",
       "      <td>3.020277</td>\n",
       "      <td>7.006671</td>\n",
       "      <td>0.651610</td>\n",
       "      <td>55.375000</td>\n",
       "      <td>0.663798</td>\n",
       "      <td>0.085998</td>\n",
       "      <td>0.833752</td>\n",
       "      <td>1.777825</td>\n",
       "      <td>0.530779</td>\n",
       "      <td>0.783747</td>\n",
       "      <td>0.104758</td>\n",
       "      <td>0.375472</td>\n",
       "      <td>0.182573</td>\n",
       "      <td>0.068287</td>\n",
       "      <td>1.161580</td>\n",
       "    </tr>\n",
       "    <tr>\n",
       "      <th>133</th>\n",
       "      <td>Zimbabwe</td>\n",
       "      <td>3.2035</td>\n",
       "      <td>0.060865</td>\n",
       "      <td>3.322795</td>\n",
       "      <td>3.084205</td>\n",
       "      <td>7.640998</td>\n",
       "      <td>0.689918</td>\n",
       "      <td>54.049889</td>\n",
       "      <td>0.654055</td>\n",
       "      <td>-0.046230</td>\n",
       "      <td>0.765582</td>\n",
       "      <td>1.777825</td>\n",
       "      <td>0.758279</td>\n",
       "      <td>0.880513</td>\n",
       "      <td>0.068653</td>\n",
       "      <td>0.362508</td>\n",
       "      <td>0.111627</td>\n",
       "      <td>0.117115</td>\n",
       "      <td>0.904856</td>\n",
       "    </tr>\n",
       "    <tr>\n",
       "      <th>134</th>\n",
       "      <td>Sierra Leone</td>\n",
       "      <td>3.1376</td>\n",
       "      <td>0.082441</td>\n",
       "      <td>3.299184</td>\n",
       "      <td>2.976016</td>\n",
       "      <td>7.394014</td>\n",
       "      <td>0.555251</td>\n",
       "      <td>54.899853</td>\n",
       "      <td>0.660367</td>\n",
       "      <td>0.104929</td>\n",
       "      <td>0.857780</td>\n",
       "      <td>1.777825</td>\n",
       "      <td>0.669699</td>\n",
       "      <td>0.540343</td>\n",
       "      <td>0.091811</td>\n",
       "      <td>0.370907</td>\n",
       "      <td>0.192731</td>\n",
       "      <td>0.051077</td>\n",
       "      <td>1.221006</td>\n",
       "    </tr>\n",
       "    <tr>\n",
       "      <th>135</th>\n",
       "      <td>Lebanon</td>\n",
       "      <td>2.3922</td>\n",
       "      <td>0.044495</td>\n",
       "      <td>2.479410</td>\n",
       "      <td>2.304990</td>\n",
       "      <td>9.477677</td>\n",
       "      <td>0.529754</td>\n",
       "      <td>66.148819</td>\n",
       "      <td>0.473900</td>\n",
       "      <td>-0.140915</td>\n",
       "      <td>0.891104</td>\n",
       "      <td>1.777825</td>\n",
       "      <td>1.416999</td>\n",
       "      <td>0.475936</td>\n",
       "      <td>0.398308</td>\n",
       "      <td>0.122771</td>\n",
       "      <td>0.060824</td>\n",
       "      <td>0.027208</td>\n",
       "      <td>-0.109798</td>\n",
       "    </tr>\n",
       "    <tr>\n",
       "      <th>136</th>\n",
       "      <td>Afghanistan</td>\n",
       "      <td>1.8590</td>\n",
       "      <td>0.032506</td>\n",
       "      <td>1.922712</td>\n",
       "      <td>1.795288</td>\n",
       "      <td>7.324032</td>\n",
       "      <td>0.341341</td>\n",
       "      <td>54.712410</td>\n",
       "      <td>0.381642</td>\n",
       "      <td>-0.081011</td>\n",
       "      <td>0.847215</td>\n",
       "      <td>1.777825</td>\n",
       "      <td>0.644600</td>\n",
       "      <td>0.000000</td>\n",
       "      <td>0.086704</td>\n",
       "      <td>0.000000</td>\n",
       "      <td>0.092965</td>\n",
       "      <td>0.058644</td>\n",
       "      <td>0.976065</td>\n",
       "    </tr>\n",
       "  </tbody>\n",
       "</table>\n",
       "<p>137 rows × 19 columns</p>\n",
       "</div>"
      ],
      "text/plain": [
       "         Country name  Ladder score  Standard error of ladder score  \\\n",
       "0             Finland        7.8042                        0.036162   \n",
       "1             Denmark        7.5864                        0.041028   \n",
       "2             Iceland        7.5296                        0.048612   \n",
       "3              Israel        7.4729                        0.031609   \n",
       "4         Netherlands        7.4030                        0.029294   \n",
       "..                ...           ...                             ...   \n",
       "132  Congo (Kinshasa)        3.2072                        0.095369   \n",
       "133          Zimbabwe        3.2035                        0.060865   \n",
       "134      Sierra Leone        3.1376                        0.082441   \n",
       "135           Lebanon        2.3922                        0.044495   \n",
       "136       Afghanistan        1.8590                        0.032506   \n",
       "\n",
       "     upperwhisker  lowerwhisker  Logged GDP per capita  Social support  \\\n",
       "0        7.875078      7.733322              10.792010        0.968770   \n",
       "1        7.666815      7.505985              10.962164        0.954112   \n",
       "2        7.624879      7.434321              10.895531        0.982533   \n",
       "3        7.534853      7.410946              10.638705        0.943344   \n",
       "4        7.460416      7.345583              10.942279        0.930499   \n",
       "..            ...           ...                    ...             ...   \n",
       "132      3.394124      3.020277               7.006671        0.651610   \n",
       "133      3.322795      3.084205               7.640998        0.689918   \n",
       "134      3.299184      2.976016               7.394014        0.555251   \n",
       "135      2.479410      2.304990               9.477677        0.529754   \n",
       "136      1.922712      1.795288               7.324032        0.341341   \n",
       "\n",
       "     Healthy life expectancy  Freedom to make life choices  Generosity  \\\n",
       "0                  71.149994                      0.961408   -0.018824   \n",
       "1                  71.250145                      0.933533    0.134242   \n",
       "2                  72.050018                      0.936349    0.210987   \n",
       "3                  72.697205                      0.808866   -0.023080   \n",
       "4                  71.550018                      0.886875    0.212686   \n",
       "..                       ...                           ...         ...   \n",
       "132                55.375000                      0.663798    0.085998   \n",
       "133                54.049889                      0.654055   -0.046230   \n",
       "134                54.899853                      0.660367    0.104929   \n",
       "135                66.148819                      0.473900   -0.140915   \n",
       "136                54.712410                      0.381642   -0.081011   \n",
       "\n",
       "     Perceptions of corruption  Ladder score in Dystopia  \\\n",
       "0                     0.181745                  1.777825   \n",
       "1                     0.195814                  1.777825   \n",
       "2                     0.667848                  1.777825   \n",
       "3                     0.708094                  1.777825   \n",
       "4                     0.378929                  1.777825   \n",
       "..                         ...                       ...   \n",
       "132                   0.833752                  1.777825   \n",
       "133                   0.765582                  1.777825   \n",
       "134                   0.857780                  1.777825   \n",
       "135                   0.891104                  1.777825   \n",
       "136                   0.847215                  1.777825   \n",
       "\n",
       "     Explained by: Log GDP per capita  Explained by: Social support  \\\n",
       "0                            1.888380                      1.584900   \n",
       "1                            1.949406                      1.547875   \n",
       "2                            1.925508                      1.619666   \n",
       "3                            1.833398                      1.520674   \n",
       "4                            1.942274                      1.488228   \n",
       "..                                ...                           ...   \n",
       "132                          0.530779                      0.783747   \n",
       "133                          0.758279                      0.880513   \n",
       "134                          0.669699                      0.540343   \n",
       "135                          1.416999                      0.475936   \n",
       "136                          0.644600                      0.000000   \n",
       "\n",
       "     Explained by: Healthy life expectancy  \\\n",
       "0                                 0.534574   \n",
       "1                                 0.537302   \n",
       "2                                 0.559096   \n",
       "3                                 0.576730   \n",
       "4                                 0.545473   \n",
       "..                                     ...   \n",
       "132                               0.104758   \n",
       "133                               0.068653   \n",
       "134                               0.091811   \n",
       "135                               0.398308   \n",
       "136                               0.086704   \n",
       "\n",
       "     Explained by: Freedom to make life choices  Explained by: Generosity  \\\n",
       "0                                      0.771510                  0.126331   \n",
       "1                                      0.734416                  0.208459   \n",
       "2                                      0.738164                  0.249635   \n",
       "3                                      0.568518                  0.124048   \n",
       "4                                      0.672327                  0.250547   \n",
       "..                                          ...                       ...   \n",
       "132                                    0.375472                  0.182573   \n",
       "133                                    0.362508                  0.111627   \n",
       "134                                    0.370907                  0.192731   \n",
       "135                                    0.122771                  0.060824   \n",
       "136                                    0.000000                  0.092965   \n",
       "\n",
       "     Explained by: Perceptions of corruption  Dystopia + residual  \n",
       "0                                   0.535299             2.363241  \n",
       "1                                   0.525221             2.083766  \n",
       "2                                   0.187119             2.250382  \n",
       "3                                   0.158292             2.691290  \n",
       "4                                   0.394062             2.110044  \n",
       "..                                       ...                  ...  \n",
       "132                                 0.068287             1.161580  \n",
       "133                                 0.117115             0.904856  \n",
       "134                                 0.051077             1.221006  \n",
       "135                                 0.027208            -0.109798  \n",
       "136                                 0.058644             0.976065  \n",
       "\n",
       "[137 rows x 19 columns]"
      ]
     },
     "execution_count": 1,
     "metadata": {},
     "output_type": "execute_result"
    }
   ],
   "source": [
    "import pandas as pd\n",
    "import plotly.express as px\n",
    "\n",
    "url = 'https://happiness-report.s3.amazonaws.com/2023/DataForFigure2.1WHR2023.xls'\n",
    "data = pd.read_excel(url)\n",
    "data"
   ]
  },
  {
   "attachments": {},
   "cell_type": "markdown",
   "metadata": {},
   "source": [
    "## Happiness Score by Country\n",
    "\n",
    "Run the following code to generate a bar graph of the ladder (happiness) score for each country."
   ]
  },
  {
   "cell_type": "code",
   "execution_count": 2,
   "metadata": {},
   "outputs": [
    {
     "data": {
      "application/vnd.plotly.v1+json": {
       "config": {
        "plotlyServerURL": "https://plot.ly"
       },
       "data": [
        {
         "alignmentgroup": "True",
         "hovertemplate": "Country name=%{x}<br>Ladder score=%{y}<extra></extra>",
         "legendgroup": "",
         "marker": {
          "color": "#636efa",
          "pattern": {
           "shape": ""
          }
         },
         "name": "",
         "offsetgroup": "",
         "orientation": "v",
         "showlegend": false,
         "textposition": "auto",
         "type": "bar",
         "x": [
          "Finland",
          "Denmark",
          "Iceland",
          "Israel",
          "Netherlands",
          "Sweden",
          "Norway",
          "Switzerland",
          "Luxembourg",
          "New Zealand",
          "Austria",
          "Australia",
          "Canada",
          "Ireland",
          "United States",
          "Germany",
          "Belgium",
          "Czechia",
          "United Kingdom",
          "Lithuania",
          "France",
          "Slovenia",
          "Costa Rica",
          "Romania",
          "Singapore",
          "United Arab Emirates",
          "Taiwan Province of China",
          "Uruguay",
          "Slovakia",
          "Saudi Arabia",
          "Estonia",
          "Spain",
          "Italy",
          "Kosovo",
          "Chile",
          "Mexico",
          "Malta",
          "Panama",
          "Poland",
          "Nicaragua",
          "Latvia",
          "Bahrain",
          "Guatemala",
          "Kazakhstan",
          "Serbia",
          "Cyprus",
          "Japan",
          "Croatia",
          "Brazil",
          "El Salvador",
          "Hungary",
          "Argentina",
          "Honduras",
          "Uzbekistan",
          "Malaysia",
          "Portugal",
          "South Korea",
          "Greece",
          "Mauritius",
          "Thailand",
          "Mongolia",
          "Kyrgyzstan",
          "Moldova",
          "China",
          "Vietnam",
          "Paraguay",
          "Montenegro",
          "Jamaica",
          "Bolivia",
          "Russia",
          "Bosnia and Herzegovina",
          "Colombia",
          "Dominican Republic",
          "Ecuador",
          "Peru",
          "Philippines",
          "Bulgaria",
          "Nepal",
          "Armenia",
          "Tajikistan",
          "Algeria",
          "Hong Kong S.A.R. of China",
          "Albania",
          "Indonesia",
          "South Africa",
          "Congo (Brazzaville)",
          "North Macedonia",
          "Venezuela",
          "Laos",
          "Georgia",
          "Guinea",
          "Ukraine",
          "Ivory Coast",
          "Gabon",
          "Nigeria",
          "Cameroon",
          "Mozambique",
          "Iraq",
          "State of Palestine",
          "Morocco",
          "Iran",
          "Senegal",
          "Mauritania",
          "Burkina Faso",
          "Namibia",
          "Turkiye",
          "Ghana",
          "Pakistan",
          "Niger",
          "Tunisia",
          "Kenya",
          "Sri Lanka",
          "Uganda",
          "Chad",
          "Cambodia",
          "Benin",
          "Myanmar",
          "Bangladesh",
          "Gambia",
          "Mali",
          "Egypt",
          "Togo",
          "Jordan",
          "Ethiopia",
          "Liberia",
          "India",
          "Madagascar",
          "Zambia",
          "Tanzania",
          "Comoros",
          "Malawi",
          "Botswana",
          "Congo (Kinshasa)",
          "Zimbabwe",
          "Sierra Leone",
          "Lebanon",
          "Afghanistan"
         ],
         "xaxis": "x",
         "y": [
          7.804200172424316,
          7.586400032043457,
          7.529600143432617,
          7.472899913787842,
          7.4029998779296875,
          7.395199775695801,
          7.315499782562256,
          7.240099906921387,
          7.22790002822876,
          7.122900009155273,
          7.097300052642822,
          7.094600200653076,
          6.960700035095215,
          6.910799980163574,
          6.893700122833252,
          6.8917999267578125,
          6.859099864959717,
          6.845200061798096,
          6.795599937438965,
          6.763000011444092,
          6.661300182342529,
          6.649899959564209,
          6.608500003814697,
          6.589099884033203,
          6.586699962615967,
          6.571199893951416,
          6.535399913787842,
          6.493899822235107,
          6.468599796295166,
          6.462600231170654,
          6.4552001953125,
          6.436200141906738,
          6.4045000076293945,
          6.367599964141846,
          6.333799839019775,
          6.329500198364258,
          6.299900054931641,
          6.264500141143799,
          6.259699821472168,
          6.258800029754639,
          6.212699890136719,
          6.1732001304626465,
          6.150300025939941,
          6.143899917602539,
          6.143599987030029,
          6.130000114440918,
          6.129000186920166,
          6.125,
          6.124599933624268,
          6.121600151062012,
          6.041200160980225,
          6.02370023727417,
          6.022500038146973,
          6.0142998695373535,
          6.01230001449585,
          5.9679999351501465,
          5.951099872589111,
          5.9309000968933105,
          5.902299880981445,
          5.8429999351501465,
          5.840199947357178,
          5.825300216674805,
          5.819200038909912,
          5.81790018081665,
          5.763299942016602,
          5.737800121307373,
          5.7221999168396,
          5.702700138092041,
          5.684299945831299,
          5.660699844360352,
          5.632500171661377,
          5.63040018081665,
          5.568900108337402,
          5.558899879455566,
          5.525899887084961,
          5.522900104522705,
          5.466100215911865,
          5.360300064086914,
          5.341700077056885,
          5.329800128936768,
          5.329100131988525,
          5.308499813079834,
          5.277299880981445,
          5.276899814605713,
          5.274600028991699,
          5.267099857330322,
          5.253600120544434,
          5.210599899291992,
          5.1107001304626465,
          5.109099864959717,
          5.071700096130371,
          5.071400165557861,
          5.052700042724609,
          5.0346999168396,
          4.980599880218506,
          4.973199844360352,
          4.953999996185303,
          4.940899848937988,
          4.907800197601318,
          4.9028000831604,
          4.876299858093262,
          4.855100154876709,
          4.723899841308594,
          4.637599945068359,
          4.630799770355225,
          4.613500118255615,
          4.605000019073486,
          4.5553998947143555,
          4.501299858093262,
          4.496699810028076,
          4.486599922180176,
          4.4415998458862305,
          4.432499885559082,
          4.396599769592285,
          4.393499851226807,
          4.373700141906738,
          4.372499942779541,
          4.282100200653076,
          4.279399871826172,
          4.197800159454346,
          4.170499801635742,
          4.137400150299072,
          4.119800090789795,
          4.09060001373291,
          4.042300224304199,
          4.035799980163574,
          4.019100189208984,
          3.9821999073028564,
          3.6937999725341797,
          3.5452001094818115,
          3.4951999187469482,
          3.43530011177063,
          3.207200050354004,
          3.2035000324249268,
          3.1375999450683594,
          2.392199993133545,
          1.8589999675750732
         ],
         "yaxis": "y"
        }
       ],
       "layout": {
        "barmode": "relative",
        "height": 800,
        "legend": {
         "tracegroupgap": 0
        },
        "template": {
         "data": {
          "bar": [
           {
            "error_x": {
             "color": "#2a3f5f"
            },
            "error_y": {
             "color": "#2a3f5f"
            },
            "marker": {
             "line": {
              "color": "#E5ECF6",
              "width": 0.5
             },
             "pattern": {
              "fillmode": "overlay",
              "size": 10,
              "solidity": 0.2
             }
            },
            "type": "bar"
           }
          ],
          "barpolar": [
           {
            "marker": {
             "line": {
              "color": "#E5ECF6",
              "width": 0.5
             },
             "pattern": {
              "fillmode": "overlay",
              "size": 10,
              "solidity": 0.2
             }
            },
            "type": "barpolar"
           }
          ],
          "carpet": [
           {
            "aaxis": {
             "endlinecolor": "#2a3f5f",
             "gridcolor": "white",
             "linecolor": "white",
             "minorgridcolor": "white",
             "startlinecolor": "#2a3f5f"
            },
            "baxis": {
             "endlinecolor": "#2a3f5f",
             "gridcolor": "white",
             "linecolor": "white",
             "minorgridcolor": "white",
             "startlinecolor": "#2a3f5f"
            },
            "type": "carpet"
           }
          ],
          "choropleth": [
           {
            "colorbar": {
             "outlinewidth": 0,
             "ticks": ""
            },
            "type": "choropleth"
           }
          ],
          "contour": [
           {
            "colorbar": {
             "outlinewidth": 0,
             "ticks": ""
            },
            "colorscale": [
             [
              0,
              "#0d0887"
             ],
             [
              0.1111111111111111,
              "#46039f"
             ],
             [
              0.2222222222222222,
              "#7201a8"
             ],
             [
              0.3333333333333333,
              "#9c179e"
             ],
             [
              0.4444444444444444,
              "#bd3786"
             ],
             [
              0.5555555555555556,
              "#d8576b"
             ],
             [
              0.6666666666666666,
              "#ed7953"
             ],
             [
              0.7777777777777778,
              "#fb9f3a"
             ],
             [
              0.8888888888888888,
              "#fdca26"
             ],
             [
              1,
              "#f0f921"
             ]
            ],
            "type": "contour"
           }
          ],
          "contourcarpet": [
           {
            "colorbar": {
             "outlinewidth": 0,
             "ticks": ""
            },
            "type": "contourcarpet"
           }
          ],
          "heatmap": [
           {
            "colorbar": {
             "outlinewidth": 0,
             "ticks": ""
            },
            "colorscale": [
             [
              0,
              "#0d0887"
             ],
             [
              0.1111111111111111,
              "#46039f"
             ],
             [
              0.2222222222222222,
              "#7201a8"
             ],
             [
              0.3333333333333333,
              "#9c179e"
             ],
             [
              0.4444444444444444,
              "#bd3786"
             ],
             [
              0.5555555555555556,
              "#d8576b"
             ],
             [
              0.6666666666666666,
              "#ed7953"
             ],
             [
              0.7777777777777778,
              "#fb9f3a"
             ],
             [
              0.8888888888888888,
              "#fdca26"
             ],
             [
              1,
              "#f0f921"
             ]
            ],
            "type": "heatmap"
           }
          ],
          "heatmapgl": [
           {
            "colorbar": {
             "outlinewidth": 0,
             "ticks": ""
            },
            "colorscale": [
             [
              0,
              "#0d0887"
             ],
             [
              0.1111111111111111,
              "#46039f"
             ],
             [
              0.2222222222222222,
              "#7201a8"
             ],
             [
              0.3333333333333333,
              "#9c179e"
             ],
             [
              0.4444444444444444,
              "#bd3786"
             ],
             [
              0.5555555555555556,
              "#d8576b"
             ],
             [
              0.6666666666666666,
              "#ed7953"
             ],
             [
              0.7777777777777778,
              "#fb9f3a"
             ],
             [
              0.8888888888888888,
              "#fdca26"
             ],
             [
              1,
              "#f0f921"
             ]
            ],
            "type": "heatmapgl"
           }
          ],
          "histogram": [
           {
            "marker": {
             "pattern": {
              "fillmode": "overlay",
              "size": 10,
              "solidity": 0.2
             }
            },
            "type": "histogram"
           }
          ],
          "histogram2d": [
           {
            "colorbar": {
             "outlinewidth": 0,
             "ticks": ""
            },
            "colorscale": [
             [
              0,
              "#0d0887"
             ],
             [
              0.1111111111111111,
              "#46039f"
             ],
             [
              0.2222222222222222,
              "#7201a8"
             ],
             [
              0.3333333333333333,
              "#9c179e"
             ],
             [
              0.4444444444444444,
              "#bd3786"
             ],
             [
              0.5555555555555556,
              "#d8576b"
             ],
             [
              0.6666666666666666,
              "#ed7953"
             ],
             [
              0.7777777777777778,
              "#fb9f3a"
             ],
             [
              0.8888888888888888,
              "#fdca26"
             ],
             [
              1,
              "#f0f921"
             ]
            ],
            "type": "histogram2d"
           }
          ],
          "histogram2dcontour": [
           {
            "colorbar": {
             "outlinewidth": 0,
             "ticks": ""
            },
            "colorscale": [
             [
              0,
              "#0d0887"
             ],
             [
              0.1111111111111111,
              "#46039f"
             ],
             [
              0.2222222222222222,
              "#7201a8"
             ],
             [
              0.3333333333333333,
              "#9c179e"
             ],
             [
              0.4444444444444444,
              "#bd3786"
             ],
             [
              0.5555555555555556,
              "#d8576b"
             ],
             [
              0.6666666666666666,
              "#ed7953"
             ],
             [
              0.7777777777777778,
              "#fb9f3a"
             ],
             [
              0.8888888888888888,
              "#fdca26"
             ],
             [
              1,
              "#f0f921"
             ]
            ],
            "type": "histogram2dcontour"
           }
          ],
          "mesh3d": [
           {
            "colorbar": {
             "outlinewidth": 0,
             "ticks": ""
            },
            "type": "mesh3d"
           }
          ],
          "parcoords": [
           {
            "line": {
             "colorbar": {
              "outlinewidth": 0,
              "ticks": ""
             }
            },
            "type": "parcoords"
           }
          ],
          "pie": [
           {
            "automargin": true,
            "type": "pie"
           }
          ],
          "scatter": [
           {
            "fillpattern": {
             "fillmode": "overlay",
             "size": 10,
             "solidity": 0.2
            },
            "type": "scatter"
           }
          ],
          "scatter3d": [
           {
            "line": {
             "colorbar": {
              "outlinewidth": 0,
              "ticks": ""
             }
            },
            "marker": {
             "colorbar": {
              "outlinewidth": 0,
              "ticks": ""
             }
            },
            "type": "scatter3d"
           }
          ],
          "scattercarpet": [
           {
            "marker": {
             "colorbar": {
              "outlinewidth": 0,
              "ticks": ""
             }
            },
            "type": "scattercarpet"
           }
          ],
          "scattergeo": [
           {
            "marker": {
             "colorbar": {
              "outlinewidth": 0,
              "ticks": ""
             }
            },
            "type": "scattergeo"
           }
          ],
          "scattergl": [
           {
            "marker": {
             "colorbar": {
              "outlinewidth": 0,
              "ticks": ""
             }
            },
            "type": "scattergl"
           }
          ],
          "scattermapbox": [
           {
            "marker": {
             "colorbar": {
              "outlinewidth": 0,
              "ticks": ""
             }
            },
            "type": "scattermapbox"
           }
          ],
          "scatterpolar": [
           {
            "marker": {
             "colorbar": {
              "outlinewidth": 0,
              "ticks": ""
             }
            },
            "type": "scatterpolar"
           }
          ],
          "scatterpolargl": [
           {
            "marker": {
             "colorbar": {
              "outlinewidth": 0,
              "ticks": ""
             }
            },
            "type": "scatterpolargl"
           }
          ],
          "scatterternary": [
           {
            "marker": {
             "colorbar": {
              "outlinewidth": 0,
              "ticks": ""
             }
            },
            "type": "scatterternary"
           }
          ],
          "surface": [
           {
            "colorbar": {
             "outlinewidth": 0,
             "ticks": ""
            },
            "colorscale": [
             [
              0,
              "#0d0887"
             ],
             [
              0.1111111111111111,
              "#46039f"
             ],
             [
              0.2222222222222222,
              "#7201a8"
             ],
             [
              0.3333333333333333,
              "#9c179e"
             ],
             [
              0.4444444444444444,
              "#bd3786"
             ],
             [
              0.5555555555555556,
              "#d8576b"
             ],
             [
              0.6666666666666666,
              "#ed7953"
             ],
             [
              0.7777777777777778,
              "#fb9f3a"
             ],
             [
              0.8888888888888888,
              "#fdca26"
             ],
             [
              1,
              "#f0f921"
             ]
            ],
            "type": "surface"
           }
          ],
          "table": [
           {
            "cells": {
             "fill": {
              "color": "#EBF0F8"
             },
             "line": {
              "color": "white"
             }
            },
            "header": {
             "fill": {
              "color": "#C8D4E3"
             },
             "line": {
              "color": "white"
             }
            },
            "type": "table"
           }
          ]
         },
         "layout": {
          "annotationdefaults": {
           "arrowcolor": "#2a3f5f",
           "arrowhead": 0,
           "arrowwidth": 1
          },
          "autotypenumbers": "strict",
          "coloraxis": {
           "colorbar": {
            "outlinewidth": 0,
            "ticks": ""
           }
          },
          "colorscale": {
           "diverging": [
            [
             0,
             "#8e0152"
            ],
            [
             0.1,
             "#c51b7d"
            ],
            [
             0.2,
             "#de77ae"
            ],
            [
             0.3,
             "#f1b6da"
            ],
            [
             0.4,
             "#fde0ef"
            ],
            [
             0.5,
             "#f7f7f7"
            ],
            [
             0.6,
             "#e6f5d0"
            ],
            [
             0.7,
             "#b8e186"
            ],
            [
             0.8,
             "#7fbc41"
            ],
            [
             0.9,
             "#4d9221"
            ],
            [
             1,
             "#276419"
            ]
           ],
           "sequential": [
            [
             0,
             "#0d0887"
            ],
            [
             0.1111111111111111,
             "#46039f"
            ],
            [
             0.2222222222222222,
             "#7201a8"
            ],
            [
             0.3333333333333333,
             "#9c179e"
            ],
            [
             0.4444444444444444,
             "#bd3786"
            ],
            [
             0.5555555555555556,
             "#d8576b"
            ],
            [
             0.6666666666666666,
             "#ed7953"
            ],
            [
             0.7777777777777778,
             "#fb9f3a"
            ],
            [
             0.8888888888888888,
             "#fdca26"
            ],
            [
             1,
             "#f0f921"
            ]
           ],
           "sequentialminus": [
            [
             0,
             "#0d0887"
            ],
            [
             0.1111111111111111,
             "#46039f"
            ],
            [
             0.2222222222222222,
             "#7201a8"
            ],
            [
             0.3333333333333333,
             "#9c179e"
            ],
            [
             0.4444444444444444,
             "#bd3786"
            ],
            [
             0.5555555555555556,
             "#d8576b"
            ],
            [
             0.6666666666666666,
             "#ed7953"
            ],
            [
             0.7777777777777778,
             "#fb9f3a"
            ],
            [
             0.8888888888888888,
             "#fdca26"
            ],
            [
             1,
             "#f0f921"
            ]
           ]
          },
          "colorway": [
           "#636efa",
           "#EF553B",
           "#00cc96",
           "#ab63fa",
           "#FFA15A",
           "#19d3f3",
           "#FF6692",
           "#B6E880",
           "#FF97FF",
           "#FECB52"
          ],
          "font": {
           "color": "#2a3f5f"
          },
          "geo": {
           "bgcolor": "white",
           "lakecolor": "white",
           "landcolor": "#E5ECF6",
           "showlakes": true,
           "showland": true,
           "subunitcolor": "white"
          },
          "hoverlabel": {
           "align": "left"
          },
          "hovermode": "closest",
          "mapbox": {
           "style": "light"
          },
          "paper_bgcolor": "white",
          "plot_bgcolor": "#E5ECF6",
          "polar": {
           "angularaxis": {
            "gridcolor": "white",
            "linecolor": "white",
            "ticks": ""
           },
           "bgcolor": "#E5ECF6",
           "radialaxis": {
            "gridcolor": "white",
            "linecolor": "white",
            "ticks": ""
           }
          },
          "scene": {
           "xaxis": {
            "backgroundcolor": "#E5ECF6",
            "gridcolor": "white",
            "gridwidth": 2,
            "linecolor": "white",
            "showbackground": true,
            "ticks": "",
            "zerolinecolor": "white"
           },
           "yaxis": {
            "backgroundcolor": "#E5ECF6",
            "gridcolor": "white",
            "gridwidth": 2,
            "linecolor": "white",
            "showbackground": true,
            "ticks": "",
            "zerolinecolor": "white"
           },
           "zaxis": {
            "backgroundcolor": "#E5ECF6",
            "gridcolor": "white",
            "gridwidth": 2,
            "linecolor": "white",
            "showbackground": true,
            "ticks": "",
            "zerolinecolor": "white"
           }
          },
          "shapedefaults": {
           "line": {
            "color": "#2a3f5f"
           }
          },
          "ternary": {
           "aaxis": {
            "gridcolor": "white",
            "linecolor": "white",
            "ticks": ""
           },
           "baxis": {
            "gridcolor": "white",
            "linecolor": "white",
            "ticks": ""
           },
           "bgcolor": "#E5ECF6",
           "caxis": {
            "gridcolor": "white",
            "linecolor": "white",
            "ticks": ""
           }
          },
          "title": {
           "x": 0.05
          },
          "xaxis": {
           "automargin": true,
           "gridcolor": "white",
           "linecolor": "white",
           "ticks": "",
           "title": {
            "standoff": 15
           },
           "zerolinecolor": "white",
           "zerolinewidth": 2
          },
          "yaxis": {
           "automargin": true,
           "gridcolor": "white",
           "linecolor": "white",
           "ticks": "",
           "title": {
            "standoff": 15
           },
           "zerolinecolor": "white",
           "zerolinewidth": 2
          }
         }
        },
        "title": {
         "text": "World Happiness Report 2023"
        },
        "xaxis": {
         "anchor": "y",
         "domain": [
          0,
          1
         ],
         "title": {
          "text": "Country name"
         }
        },
        "yaxis": {
         "anchor": "x",
         "domain": [
          0,
          1
         ],
         "title": {
          "text": "Ladder score"
         }
        }
       }
      }
     },
     "metadata": {},
     "output_type": "display_data"
    }
   ],
   "source": [
    "px.bar(data, x='Country name', y='Ladder score', title='World Happiness Report 2023', height=800)"
   ]
  },
  {
   "attachments": {},
   "cell_type": "markdown",
   "metadata": {},
   "source": [
    "There are also `whisker` values representing the value ranges, let's see if those are significant for our purposes."
   ]
  },
  {
   "cell_type": "code",
   "execution_count": 3,
   "metadata": {},
   "outputs": [
    {
     "data": {
      "application/vnd.plotly.v1+json": {
       "config": {
        "plotlyServerURL": "https://plot.ly"
       },
       "data": [
        {
         "error_y": {
          "array": [
           0.0708780288696289,
           0.0804147720336914,
           0.09527873992919922,
           0.06195354461669922,
           0.057416439056396484,
           0.07322835922241211,
           0.08651971817016602,
           0.08386564254760742,
           0.13539791107177734,
           0.07492446899414062,
           0.07918596267700195,
           0.0853571891784668,
           0.08165884017944336,
           0.0853266716003418,
           0.09196901321411133,
           0.09699296951293945,
           0.0665292739868164,
           0.08588171005249023,
           0.08138418197631836,
           0.08630895614624023,
           0.07370710372924805,
           0.0996408462524414,
           0.10114669799804688,
           0.10111188888549805,
           0.13312244415283203,
           0.08479022979736328,
           0.09186792373657227,
           0.08951997756958008,
           0.10903024673461914,
           0.11883544921875,
           0.07851696014404297,
           0.08262443542480469,
           0.1064763069152832,
           0.11784887313842773,
           0.09045839309692383,
           0.11184263229370117,
           0.08761453628540039,
           0.15955400466918945,
           0.08288145065307617,
           0.1495809555053711,
           0.08201169967651367,
           0.1958918571472168,
           0.2115955352783203,
           0.09484624862670898,
           0.1553788185119629,
           0.10565471649169922,
           0.08173990249633789,
           0.11197948455810547,
           0.1271209716796875,
           0.13575124740600586,
           0.10807657241821289,
           0.12326431274414062,
           0.1737971305847168,
           0.11544418334960938,
           0.15435791015625,
           0.10754680633544922,
           0.08907699584960938,
           0.09337902069091797,
           0.11092948913574219,
           0.12579107284545898,
           0.08998870849609375,
           0.08794069290161133,
           0.10235071182250977,
           0.08717012405395508,
           0.10153722763061523,
           0.11270666122436523,
           0.21915864944458008,
           0.17347240447998047,
           0.11243200302124023,
           0.0728759765625,
           0.14243412017822266,
           0.11687088012695312,
           0.14266252517700195,
           0.12270689010620117,
           0.11366796493530273,
           0.15184879302978516,
           0.11570310592651367,
           0.14641618728637695,
           0.12877511978149414,
           0.12238454818725586,
           0.12178707122802734,
           0.0941162109375,
           0.12880992889404297,
           0.11552572250366211,
           0.1427626609802246,
           0.17270565032958984,
           0.1073446273803711,
           0.12523460388183594,
           0.15865039825439453,
           0.1094670295715332,
           0.1409754753112793,
           0.1152653694152832,
           0.14571428298950195,
           0.14029550552368164,
           0.1558389663696289,
           0.13918352127075195,
           0.22661685943603516,
           0.15785598754882812,
           0.18086576461791992,
           0.12016010284423828,
           0.1040201187133789,
           0.12768125534057617,
           0.2872152328491211,
           0.18152809143066406,
           0.13499927520751953,
           0.16327953338623047,
           0.12395191192626953,
           0.1517033576965332,
           0.21072101593017578,
           0.10415983200073242,
           0.12984418869018555,
           0.1618795394897461,
           0.17409420013427734,
           0.23639440536499023,
           0.1148829460144043,
           0.12986040115356445,
           0.16035938262939453,
           0.1340961456298828,
           0.2048487663269043,
           0.1213521957397461,
           0.11621427536010742,
           0.15121078491210938,
           0.12243843078613281,
           0.18218755722045898,
           0.2827587127685547,
           0.055962562561035156,
           0.18036603927612305,
           0.18501687049865723,
           0.14658188819885254,
           0.22853326797485352,
           0.1755368709564209,
           0.2668468952178955,
           0.18692350387573242,
           0.11929464340209961,
           0.16158413887023926,
           0.08721041679382324,
           0.06371235847473145
          ],
          "arrayminus": [
           0.0708780288696289,
           0.0804147720336914,
           0.09527873992919922,
           0.06195354461669922,
           0.057416439056396484,
           0.07322835922241211,
           0.08651971817016602,
           0.08386564254760742,
           0.13539791107177734,
           0.07492446899414062,
           0.07918596267700195,
           0.0853571891784668,
           0.08165884017944336,
           0.0853266716003418,
           0.09196901321411133,
           0.09699296951293945,
           0.0665292739868164,
           0.08588171005249023,
           0.08138418197631836,
           0.08630895614624023,
           0.07370710372924805,
           0.0996408462524414,
           0.10114669799804688,
           0.10111188888549805,
           0.13312244415283203,
           0.08479022979736328,
           0.09186792373657227,
           0.08951997756958008,
           0.10903024673461914,
           0.11883544921875,
           0.07851696014404297,
           0.08262443542480469,
           0.1064763069152832,
           0.11784887313842773,
           0.09045839309692383,
           0.11184263229370117,
           0.08761453628540039,
           0.15955400466918945,
           0.08288145065307617,
           0.1495809555053711,
           0.08201169967651367,
           0.1958918571472168,
           0.2115955352783203,
           0.09484624862670898,
           0.1553788185119629,
           0.10565471649169922,
           0.08173990249633789,
           0.11197948455810547,
           0.1271209716796875,
           0.13575124740600586,
           0.10807657241821289,
           0.12326431274414062,
           0.1737971305847168,
           0.11544418334960938,
           0.15435791015625,
           0.10754680633544922,
           0.08907699584960938,
           0.09337902069091797,
           0.11092948913574219,
           0.12579107284545898,
           0.08998870849609375,
           0.08794069290161133,
           0.10235071182250977,
           0.08717012405395508,
           0.10153722763061523,
           0.11270666122436523,
           0.21915864944458008,
           0.17347240447998047,
           0.11243200302124023,
           0.0728759765625,
           0.14243412017822266,
           0.11687088012695312,
           0.14266252517700195,
           0.12270689010620117,
           0.11366796493530273,
           0.15184879302978516,
           0.11570310592651367,
           0.14641618728637695,
           0.12877511978149414,
           0.12238454818725586,
           0.12178707122802734,
           0.0941162109375,
           0.12880992889404297,
           0.11552572250366211,
           0.1427626609802246,
           0.17270565032958984,
           0.1073446273803711,
           0.12523460388183594,
           0.15865039825439453,
           0.1094670295715332,
           0.1409754753112793,
           0.1152653694152832,
           0.14571428298950195,
           0.14029550552368164,
           0.1558389663696289,
           0.13918352127075195,
           0.22661685943603516,
           0.15785598754882812,
           0.18086576461791992,
           0.12016010284423828,
           0.1040201187133789,
           0.12768125534057617,
           0.2872152328491211,
           0.18152809143066406,
           0.13499927520751953,
           0.16327953338623047,
           0.12395191192626953,
           0.1517033576965332,
           0.21072101593017578,
           0.10415983200073242,
           0.12984418869018555,
           0.1618795394897461,
           0.17409420013427734,
           0.23639440536499023,
           0.1148829460144043,
           0.12986040115356445,
           0.16035938262939453,
           0.1340961456298828,
           0.2048487663269043,
           0.1213521957397461,
           0.11621427536010742,
           0.15121078491210938,
           0.12243843078613281,
           0.18218755722045898,
           0.2827584743499756,
           0.055962324142456055,
           0.18036580085754395,
           0.18501710891723633,
           0.14658188819885254,
           0.22853326797485352,
           0.1755368709564209,
           0.2668468952178955,
           0.18692350387573242,
           0.11929464340209961,
           0.16158413887023926,
           0.08721041679382324,
           0.06371235847473145
          ]
         },
         "hovertemplate": "Country name=%{x}<br>Ladder score=%{y}<extra></extra>",
         "legendgroup": "",
         "marker": {
          "color": "#636efa",
          "symbol": "circle"
         },
         "mode": "markers",
         "name": "",
         "orientation": "v",
         "showlegend": false,
         "type": "scatter",
         "x": [
          "Finland",
          "Denmark",
          "Iceland",
          "Israel",
          "Netherlands",
          "Sweden",
          "Norway",
          "Switzerland",
          "Luxembourg",
          "New Zealand",
          "Austria",
          "Australia",
          "Canada",
          "Ireland",
          "United States",
          "Germany",
          "Belgium",
          "Czechia",
          "United Kingdom",
          "Lithuania",
          "France",
          "Slovenia",
          "Costa Rica",
          "Romania",
          "Singapore",
          "United Arab Emirates",
          "Taiwan Province of China",
          "Uruguay",
          "Slovakia",
          "Saudi Arabia",
          "Estonia",
          "Spain",
          "Italy",
          "Kosovo",
          "Chile",
          "Mexico",
          "Malta",
          "Panama",
          "Poland",
          "Nicaragua",
          "Latvia",
          "Bahrain",
          "Guatemala",
          "Kazakhstan",
          "Serbia",
          "Cyprus",
          "Japan",
          "Croatia",
          "Brazil",
          "El Salvador",
          "Hungary",
          "Argentina",
          "Honduras",
          "Uzbekistan",
          "Malaysia",
          "Portugal",
          "South Korea",
          "Greece",
          "Mauritius",
          "Thailand",
          "Mongolia",
          "Kyrgyzstan",
          "Moldova",
          "China",
          "Vietnam",
          "Paraguay",
          "Montenegro",
          "Jamaica",
          "Bolivia",
          "Russia",
          "Bosnia and Herzegovina",
          "Colombia",
          "Dominican Republic",
          "Ecuador",
          "Peru",
          "Philippines",
          "Bulgaria",
          "Nepal",
          "Armenia",
          "Tajikistan",
          "Algeria",
          "Hong Kong S.A.R. of China",
          "Albania",
          "Indonesia",
          "South Africa",
          "Congo (Brazzaville)",
          "North Macedonia",
          "Venezuela",
          "Laos",
          "Georgia",
          "Guinea",
          "Ukraine",
          "Ivory Coast",
          "Gabon",
          "Nigeria",
          "Cameroon",
          "Mozambique",
          "Iraq",
          "State of Palestine",
          "Morocco",
          "Iran",
          "Senegal",
          "Mauritania",
          "Burkina Faso",
          "Namibia",
          "Turkiye",
          "Ghana",
          "Pakistan",
          "Niger",
          "Tunisia",
          "Kenya",
          "Sri Lanka",
          "Uganda",
          "Chad",
          "Cambodia",
          "Benin",
          "Myanmar",
          "Bangladesh",
          "Gambia",
          "Mali",
          "Egypt",
          "Togo",
          "Jordan",
          "Ethiopia",
          "Liberia",
          "India",
          "Madagascar",
          "Zambia",
          "Tanzania",
          "Comoros",
          "Malawi",
          "Botswana",
          "Congo (Kinshasa)",
          "Zimbabwe",
          "Sierra Leone",
          "Lebanon",
          "Afghanistan"
         ],
         "xaxis": "x",
         "y": [
          7.804200172424316,
          7.586400032043457,
          7.529600143432617,
          7.472899913787842,
          7.4029998779296875,
          7.395199775695801,
          7.315499782562256,
          7.240099906921387,
          7.22790002822876,
          7.122900009155273,
          7.097300052642822,
          7.094600200653076,
          6.960700035095215,
          6.910799980163574,
          6.893700122833252,
          6.8917999267578125,
          6.859099864959717,
          6.845200061798096,
          6.795599937438965,
          6.763000011444092,
          6.661300182342529,
          6.649899959564209,
          6.608500003814697,
          6.589099884033203,
          6.586699962615967,
          6.571199893951416,
          6.535399913787842,
          6.493899822235107,
          6.468599796295166,
          6.462600231170654,
          6.4552001953125,
          6.436200141906738,
          6.4045000076293945,
          6.367599964141846,
          6.333799839019775,
          6.329500198364258,
          6.299900054931641,
          6.264500141143799,
          6.259699821472168,
          6.258800029754639,
          6.212699890136719,
          6.1732001304626465,
          6.150300025939941,
          6.143899917602539,
          6.143599987030029,
          6.130000114440918,
          6.129000186920166,
          6.125,
          6.124599933624268,
          6.121600151062012,
          6.041200160980225,
          6.02370023727417,
          6.022500038146973,
          6.0142998695373535,
          6.01230001449585,
          5.9679999351501465,
          5.951099872589111,
          5.9309000968933105,
          5.902299880981445,
          5.8429999351501465,
          5.840199947357178,
          5.825300216674805,
          5.819200038909912,
          5.81790018081665,
          5.763299942016602,
          5.737800121307373,
          5.7221999168396,
          5.702700138092041,
          5.684299945831299,
          5.660699844360352,
          5.632500171661377,
          5.63040018081665,
          5.568900108337402,
          5.558899879455566,
          5.525899887084961,
          5.522900104522705,
          5.466100215911865,
          5.360300064086914,
          5.341700077056885,
          5.329800128936768,
          5.329100131988525,
          5.308499813079834,
          5.277299880981445,
          5.276899814605713,
          5.274600028991699,
          5.267099857330322,
          5.253600120544434,
          5.210599899291992,
          5.1107001304626465,
          5.109099864959717,
          5.071700096130371,
          5.071400165557861,
          5.052700042724609,
          5.0346999168396,
          4.980599880218506,
          4.973199844360352,
          4.953999996185303,
          4.940899848937988,
          4.907800197601318,
          4.9028000831604,
          4.876299858093262,
          4.855100154876709,
          4.723899841308594,
          4.637599945068359,
          4.630799770355225,
          4.613500118255615,
          4.605000019073486,
          4.5553998947143555,
          4.501299858093262,
          4.496699810028076,
          4.486599922180176,
          4.4415998458862305,
          4.432499885559082,
          4.396599769592285,
          4.393499851226807,
          4.373700141906738,
          4.372499942779541,
          4.282100200653076,
          4.279399871826172,
          4.197800159454346,
          4.170499801635742,
          4.137400150299072,
          4.119800090789795,
          4.09060001373291,
          4.042300224304199,
          4.035799980163574,
          4.019100189208984,
          3.9821999073028564,
          3.6937999725341797,
          3.5452001094818115,
          3.4951999187469482,
          3.43530011177063,
          3.207200050354004,
          3.2035000324249268,
          3.1375999450683594,
          2.392199993133545,
          1.8589999675750732
         ],
         "yaxis": "y"
        }
       ],
       "layout": {
        "legend": {
         "tracegroupgap": 0
        },
        "margin": {
         "t": 60
        },
        "template": {
         "data": {
          "bar": [
           {
            "error_x": {
             "color": "#2a3f5f"
            },
            "error_y": {
             "color": "#2a3f5f"
            },
            "marker": {
             "line": {
              "color": "#E5ECF6",
              "width": 0.5
             },
             "pattern": {
              "fillmode": "overlay",
              "size": 10,
              "solidity": 0.2
             }
            },
            "type": "bar"
           }
          ],
          "barpolar": [
           {
            "marker": {
             "line": {
              "color": "#E5ECF6",
              "width": 0.5
             },
             "pattern": {
              "fillmode": "overlay",
              "size": 10,
              "solidity": 0.2
             }
            },
            "type": "barpolar"
           }
          ],
          "carpet": [
           {
            "aaxis": {
             "endlinecolor": "#2a3f5f",
             "gridcolor": "white",
             "linecolor": "white",
             "minorgridcolor": "white",
             "startlinecolor": "#2a3f5f"
            },
            "baxis": {
             "endlinecolor": "#2a3f5f",
             "gridcolor": "white",
             "linecolor": "white",
             "minorgridcolor": "white",
             "startlinecolor": "#2a3f5f"
            },
            "type": "carpet"
           }
          ],
          "choropleth": [
           {
            "colorbar": {
             "outlinewidth": 0,
             "ticks": ""
            },
            "type": "choropleth"
           }
          ],
          "contour": [
           {
            "colorbar": {
             "outlinewidth": 0,
             "ticks": ""
            },
            "colorscale": [
             [
              0,
              "#0d0887"
             ],
             [
              0.1111111111111111,
              "#46039f"
             ],
             [
              0.2222222222222222,
              "#7201a8"
             ],
             [
              0.3333333333333333,
              "#9c179e"
             ],
             [
              0.4444444444444444,
              "#bd3786"
             ],
             [
              0.5555555555555556,
              "#d8576b"
             ],
             [
              0.6666666666666666,
              "#ed7953"
             ],
             [
              0.7777777777777778,
              "#fb9f3a"
             ],
             [
              0.8888888888888888,
              "#fdca26"
             ],
             [
              1,
              "#f0f921"
             ]
            ],
            "type": "contour"
           }
          ],
          "contourcarpet": [
           {
            "colorbar": {
             "outlinewidth": 0,
             "ticks": ""
            },
            "type": "contourcarpet"
           }
          ],
          "heatmap": [
           {
            "colorbar": {
             "outlinewidth": 0,
             "ticks": ""
            },
            "colorscale": [
             [
              0,
              "#0d0887"
             ],
             [
              0.1111111111111111,
              "#46039f"
             ],
             [
              0.2222222222222222,
              "#7201a8"
             ],
             [
              0.3333333333333333,
              "#9c179e"
             ],
             [
              0.4444444444444444,
              "#bd3786"
             ],
             [
              0.5555555555555556,
              "#d8576b"
             ],
             [
              0.6666666666666666,
              "#ed7953"
             ],
             [
              0.7777777777777778,
              "#fb9f3a"
             ],
             [
              0.8888888888888888,
              "#fdca26"
             ],
             [
              1,
              "#f0f921"
             ]
            ],
            "type": "heatmap"
           }
          ],
          "heatmapgl": [
           {
            "colorbar": {
             "outlinewidth": 0,
             "ticks": ""
            },
            "colorscale": [
             [
              0,
              "#0d0887"
             ],
             [
              0.1111111111111111,
              "#46039f"
             ],
             [
              0.2222222222222222,
              "#7201a8"
             ],
             [
              0.3333333333333333,
              "#9c179e"
             ],
             [
              0.4444444444444444,
              "#bd3786"
             ],
             [
              0.5555555555555556,
              "#d8576b"
             ],
             [
              0.6666666666666666,
              "#ed7953"
             ],
             [
              0.7777777777777778,
              "#fb9f3a"
             ],
             [
              0.8888888888888888,
              "#fdca26"
             ],
             [
              1,
              "#f0f921"
             ]
            ],
            "type": "heatmapgl"
           }
          ],
          "histogram": [
           {
            "marker": {
             "pattern": {
              "fillmode": "overlay",
              "size": 10,
              "solidity": 0.2
             }
            },
            "type": "histogram"
           }
          ],
          "histogram2d": [
           {
            "colorbar": {
             "outlinewidth": 0,
             "ticks": ""
            },
            "colorscale": [
             [
              0,
              "#0d0887"
             ],
             [
              0.1111111111111111,
              "#46039f"
             ],
             [
              0.2222222222222222,
              "#7201a8"
             ],
             [
              0.3333333333333333,
              "#9c179e"
             ],
             [
              0.4444444444444444,
              "#bd3786"
             ],
             [
              0.5555555555555556,
              "#d8576b"
             ],
             [
              0.6666666666666666,
              "#ed7953"
             ],
             [
              0.7777777777777778,
              "#fb9f3a"
             ],
             [
              0.8888888888888888,
              "#fdca26"
             ],
             [
              1,
              "#f0f921"
             ]
            ],
            "type": "histogram2d"
           }
          ],
          "histogram2dcontour": [
           {
            "colorbar": {
             "outlinewidth": 0,
             "ticks": ""
            },
            "colorscale": [
             [
              0,
              "#0d0887"
             ],
             [
              0.1111111111111111,
              "#46039f"
             ],
             [
              0.2222222222222222,
              "#7201a8"
             ],
             [
              0.3333333333333333,
              "#9c179e"
             ],
             [
              0.4444444444444444,
              "#bd3786"
             ],
             [
              0.5555555555555556,
              "#d8576b"
             ],
             [
              0.6666666666666666,
              "#ed7953"
             ],
             [
              0.7777777777777778,
              "#fb9f3a"
             ],
             [
              0.8888888888888888,
              "#fdca26"
             ],
             [
              1,
              "#f0f921"
             ]
            ],
            "type": "histogram2dcontour"
           }
          ],
          "mesh3d": [
           {
            "colorbar": {
             "outlinewidth": 0,
             "ticks": ""
            },
            "type": "mesh3d"
           }
          ],
          "parcoords": [
           {
            "line": {
             "colorbar": {
              "outlinewidth": 0,
              "ticks": ""
             }
            },
            "type": "parcoords"
           }
          ],
          "pie": [
           {
            "automargin": true,
            "type": "pie"
           }
          ],
          "scatter": [
           {
            "fillpattern": {
             "fillmode": "overlay",
             "size": 10,
             "solidity": 0.2
            },
            "type": "scatter"
           }
          ],
          "scatter3d": [
           {
            "line": {
             "colorbar": {
              "outlinewidth": 0,
              "ticks": ""
             }
            },
            "marker": {
             "colorbar": {
              "outlinewidth": 0,
              "ticks": ""
             }
            },
            "type": "scatter3d"
           }
          ],
          "scattercarpet": [
           {
            "marker": {
             "colorbar": {
              "outlinewidth": 0,
              "ticks": ""
             }
            },
            "type": "scattercarpet"
           }
          ],
          "scattergeo": [
           {
            "marker": {
             "colorbar": {
              "outlinewidth": 0,
              "ticks": ""
             }
            },
            "type": "scattergeo"
           }
          ],
          "scattergl": [
           {
            "marker": {
             "colorbar": {
              "outlinewidth": 0,
              "ticks": ""
             }
            },
            "type": "scattergl"
           }
          ],
          "scattermapbox": [
           {
            "marker": {
             "colorbar": {
              "outlinewidth": 0,
              "ticks": ""
             }
            },
            "type": "scattermapbox"
           }
          ],
          "scatterpolar": [
           {
            "marker": {
             "colorbar": {
              "outlinewidth": 0,
              "ticks": ""
             }
            },
            "type": "scatterpolar"
           }
          ],
          "scatterpolargl": [
           {
            "marker": {
             "colorbar": {
              "outlinewidth": 0,
              "ticks": ""
             }
            },
            "type": "scatterpolargl"
           }
          ],
          "scatterternary": [
           {
            "marker": {
             "colorbar": {
              "outlinewidth": 0,
              "ticks": ""
             }
            },
            "type": "scatterternary"
           }
          ],
          "surface": [
           {
            "colorbar": {
             "outlinewidth": 0,
             "ticks": ""
            },
            "colorscale": [
             [
              0,
              "#0d0887"
             ],
             [
              0.1111111111111111,
              "#46039f"
             ],
             [
              0.2222222222222222,
              "#7201a8"
             ],
             [
              0.3333333333333333,
              "#9c179e"
             ],
             [
              0.4444444444444444,
              "#bd3786"
             ],
             [
              0.5555555555555556,
              "#d8576b"
             ],
             [
              0.6666666666666666,
              "#ed7953"
             ],
             [
              0.7777777777777778,
              "#fb9f3a"
             ],
             [
              0.8888888888888888,
              "#fdca26"
             ],
             [
              1,
              "#f0f921"
             ]
            ],
            "type": "surface"
           }
          ],
          "table": [
           {
            "cells": {
             "fill": {
              "color": "#EBF0F8"
             },
             "line": {
              "color": "white"
             }
            },
            "header": {
             "fill": {
              "color": "#C8D4E3"
             },
             "line": {
              "color": "white"
             }
            },
            "type": "table"
           }
          ]
         },
         "layout": {
          "annotationdefaults": {
           "arrowcolor": "#2a3f5f",
           "arrowhead": 0,
           "arrowwidth": 1
          },
          "autotypenumbers": "strict",
          "coloraxis": {
           "colorbar": {
            "outlinewidth": 0,
            "ticks": ""
           }
          },
          "colorscale": {
           "diverging": [
            [
             0,
             "#8e0152"
            ],
            [
             0.1,
             "#c51b7d"
            ],
            [
             0.2,
             "#de77ae"
            ],
            [
             0.3,
             "#f1b6da"
            ],
            [
             0.4,
             "#fde0ef"
            ],
            [
             0.5,
             "#f7f7f7"
            ],
            [
             0.6,
             "#e6f5d0"
            ],
            [
             0.7,
             "#b8e186"
            ],
            [
             0.8,
             "#7fbc41"
            ],
            [
             0.9,
             "#4d9221"
            ],
            [
             1,
             "#276419"
            ]
           ],
           "sequential": [
            [
             0,
             "#0d0887"
            ],
            [
             0.1111111111111111,
             "#46039f"
            ],
            [
             0.2222222222222222,
             "#7201a8"
            ],
            [
             0.3333333333333333,
             "#9c179e"
            ],
            [
             0.4444444444444444,
             "#bd3786"
            ],
            [
             0.5555555555555556,
             "#d8576b"
            ],
            [
             0.6666666666666666,
             "#ed7953"
            ],
            [
             0.7777777777777778,
             "#fb9f3a"
            ],
            [
             0.8888888888888888,
             "#fdca26"
            ],
            [
             1,
             "#f0f921"
            ]
           ],
           "sequentialminus": [
            [
             0,
             "#0d0887"
            ],
            [
             0.1111111111111111,
             "#46039f"
            ],
            [
             0.2222222222222222,
             "#7201a8"
            ],
            [
             0.3333333333333333,
             "#9c179e"
            ],
            [
             0.4444444444444444,
             "#bd3786"
            ],
            [
             0.5555555555555556,
             "#d8576b"
            ],
            [
             0.6666666666666666,
             "#ed7953"
            ],
            [
             0.7777777777777778,
             "#fb9f3a"
            ],
            [
             0.8888888888888888,
             "#fdca26"
            ],
            [
             1,
             "#f0f921"
            ]
           ]
          },
          "colorway": [
           "#636efa",
           "#EF553B",
           "#00cc96",
           "#ab63fa",
           "#FFA15A",
           "#19d3f3",
           "#FF6692",
           "#B6E880",
           "#FF97FF",
           "#FECB52"
          ],
          "font": {
           "color": "#2a3f5f"
          },
          "geo": {
           "bgcolor": "white",
           "lakecolor": "white",
           "landcolor": "#E5ECF6",
           "showlakes": true,
           "showland": true,
           "subunitcolor": "white"
          },
          "hoverlabel": {
           "align": "left"
          },
          "hovermode": "closest",
          "mapbox": {
           "style": "light"
          },
          "paper_bgcolor": "white",
          "plot_bgcolor": "#E5ECF6",
          "polar": {
           "angularaxis": {
            "gridcolor": "white",
            "linecolor": "white",
            "ticks": ""
           },
           "bgcolor": "#E5ECF6",
           "radialaxis": {
            "gridcolor": "white",
            "linecolor": "white",
            "ticks": ""
           }
          },
          "scene": {
           "xaxis": {
            "backgroundcolor": "#E5ECF6",
            "gridcolor": "white",
            "gridwidth": 2,
            "linecolor": "white",
            "showbackground": true,
            "ticks": "",
            "zerolinecolor": "white"
           },
           "yaxis": {
            "backgroundcolor": "#E5ECF6",
            "gridcolor": "white",
            "gridwidth": 2,
            "linecolor": "white",
            "showbackground": true,
            "ticks": "",
            "zerolinecolor": "white"
           },
           "zaxis": {
            "backgroundcolor": "#E5ECF6",
            "gridcolor": "white",
            "gridwidth": 2,
            "linecolor": "white",
            "showbackground": true,
            "ticks": "",
            "zerolinecolor": "white"
           }
          },
          "shapedefaults": {
           "line": {
            "color": "#2a3f5f"
           }
          },
          "ternary": {
           "aaxis": {
            "gridcolor": "white",
            "linecolor": "white",
            "ticks": ""
           },
           "baxis": {
            "gridcolor": "white",
            "linecolor": "white",
            "ticks": ""
           },
           "bgcolor": "#E5ECF6",
           "caxis": {
            "gridcolor": "white",
            "linecolor": "white",
            "ticks": ""
           }
          },
          "title": {
           "x": 0.05
          },
          "xaxis": {
           "automargin": true,
           "gridcolor": "white",
           "linecolor": "white",
           "ticks": "",
           "title": {
            "standoff": 15
           },
           "zerolinecolor": "white",
           "zerolinewidth": 2
          },
          "yaxis": {
           "automargin": true,
           "gridcolor": "white",
           "linecolor": "white",
           "ticks": "",
           "title": {
            "standoff": 15
           },
           "zerolinecolor": "white",
           "zerolinewidth": 2
          }
         }
        },
        "xaxis": {
         "anchor": "y",
         "domain": [
          0,
          1
         ],
         "title": {
          "text": "Country name"
         }
        },
        "yaxis": {
         "anchor": "x",
         "domain": [
          0,
          1
         ],
         "title": {
          "text": "Ladder score"
         }
        }
       }
      }
     },
     "metadata": {},
     "output_type": "display_data"
    }
   ],
   "source": [
    "data['error y'] = data['upperwhisker'] - data['Ladder score']\n",
    "data['error y minus'] = data['Ladder score'] - data['lowerwhisker']\n",
    "px.scatter(data, x='Country name', y='Ladder score', error_y='error y', error_y_minus='error y minus')"
   ]
  },
  {
   "attachments": {},
   "cell_type": "markdown",
   "metadata": {},
   "source": [
    "Those whiskers don't seem large enough to worry about.\n",
    "\n",
    "We can also color-code the bars by continent using contient names from [Gapminder](https://gapminder.org/)."
   ]
  },
  {
   "cell_type": "code",
   "execution_count": 4,
   "metadata": {},
   "outputs": [
    {
     "data": {
      "application/vnd.plotly.v1+json": {
       "config": {
        "plotlyServerURL": "https://plot.ly"
       },
       "data": [
        {
         "alignmentgroup": "True",
         "hovertemplate": "Continent=europe<br>Country name=%{x}<br>Ladder score=%{y}<extra></extra>",
         "legendgroup": "europe",
         "marker": {
          "color": "#636efa",
          "pattern": {
           "shape": ""
          }
         },
         "name": "europe",
         "offsetgroup": "europe",
         "orientation": "v",
         "showlegend": true,
         "textposition": "auto",
         "type": "bar",
         "x": [
          "Finland",
          "Denmark",
          "Iceland",
          "Netherlands",
          "Sweden",
          "Norway",
          "Switzerland",
          "Luxembourg",
          "Austria",
          "Ireland",
          "Germany",
          "Belgium",
          "United Kingdom",
          "Lithuania",
          "France",
          "Slovenia",
          "Romania",
          "Estonia",
          "Spain",
          "Italy",
          "Kosovo",
          "Malta",
          "Poland",
          "Latvia",
          "Serbia",
          "Cyprus",
          "Croatia",
          "Hungary",
          "Portugal",
          "Greece",
          "Moldova",
          "Montenegro",
          "Russia",
          "Bosnia and Herzegovina",
          "Bulgaria",
          "Armenia",
          "Albania",
          "Georgia",
          "Ukraine"
         ],
         "xaxis": "x",
         "y": [
          7.804200172424316,
          7.586400032043457,
          7.529600143432617,
          7.4029998779296875,
          7.395199775695801,
          7.315499782562256,
          7.240099906921387,
          7.22790002822876,
          7.097300052642822,
          6.910799980163574,
          6.8917999267578125,
          6.859099864959717,
          6.795599937438965,
          6.763000011444092,
          6.661300182342529,
          6.649899959564209,
          6.589099884033203,
          6.4552001953125,
          6.436200141906738,
          6.4045000076293945,
          6.367599964141846,
          6.299900054931641,
          6.259699821472168,
          6.212699890136719,
          6.143599987030029,
          6.130000114440918,
          6.125,
          6.041200160980225,
          5.9679999351501465,
          5.9309000968933105,
          5.819200038909912,
          5.7221999168396,
          5.660699844360352,
          5.632500171661377,
          5.466100215911865,
          5.341700077056885,
          5.277299880981445,
          5.109099864959717,
          5.071400165557861
         ],
         "yaxis": "y"
        },
        {
         "alignmentgroup": "True",
         "hovertemplate": "Continent=asia<br>Country name=%{x}<br>Ladder score=%{y}<extra></extra>",
         "legendgroup": "asia",
         "marker": {
          "color": "#EF553B",
          "pattern": {
           "shape": ""
          }
         },
         "name": "asia",
         "offsetgroup": "asia",
         "orientation": "v",
         "showlegend": true,
         "textposition": "auto",
         "type": "bar",
         "x": [
          "Israel",
          "New Zealand",
          "Australia",
          "Singapore",
          "United Arab Emirates",
          "Saudi Arabia",
          "Bahrain",
          "Kazakhstan",
          "Japan",
          "Uzbekistan",
          "Malaysia",
          "South Korea",
          "Thailand",
          "Mongolia",
          "China",
          "Vietnam",
          "Philippines",
          "Nepal",
          "Tajikistan",
          "Indonesia",
          "Iraq",
          "Iran",
          "Pakistan",
          "Sri Lanka",
          "Cambodia",
          "Myanmar",
          "Bangladesh",
          "Jordan",
          "India",
          "Lebanon",
          "Afghanistan"
         ],
         "xaxis": "x",
         "y": [
          7.472899913787842,
          7.122900009155273,
          7.094600200653076,
          6.586699962615967,
          6.571199893951416,
          6.462600231170654,
          6.1732001304626465,
          6.143899917602539,
          6.129000186920166,
          6.0142998695373535,
          6.01230001449585,
          5.951099872589111,
          5.8429999351501465,
          5.840199947357178,
          5.81790018081665,
          5.763299942016602,
          5.522900104522705,
          5.360300064086914,
          5.329800128936768,
          5.276899814605713,
          4.940899848937988,
          4.876299858093262,
          4.5553998947143555,
          4.4415998458862305,
          4.393499851226807,
          4.372499942779541,
          4.282100200653076,
          4.119800090789795,
          4.035799980163574,
          2.392199993133545,
          1.8589999675750732
         ],
         "yaxis": "y"
        },
        {
         "alignmentgroup": "True",
         "hovertemplate": "Continent=americas<br>Country name=%{x}<br>Ladder score=%{y}<extra></extra>",
         "legendgroup": "americas",
         "marker": {
          "color": "#00cc96",
          "pattern": {
           "shape": ""
          }
         },
         "name": "americas",
         "offsetgroup": "americas",
         "orientation": "v",
         "showlegend": true,
         "textposition": "auto",
         "type": "bar",
         "x": [
          "Canada",
          "United States",
          "Costa Rica",
          "Uruguay",
          "Chile",
          "Mexico",
          "Panama",
          "Nicaragua",
          "Guatemala",
          "Brazil",
          "El Salvador",
          "Argentina",
          "Honduras",
          "Paraguay",
          "Jamaica",
          "Bolivia",
          "Colombia",
          "Dominican Republic",
          "Ecuador",
          "Peru",
          "Venezuela"
         ],
         "xaxis": "x",
         "y": [
          6.960700035095215,
          6.893700122833252,
          6.608500003814697,
          6.493899822235107,
          6.333799839019775,
          6.329500198364258,
          6.264500141143799,
          6.258800029754639,
          6.150300025939941,
          6.124599933624268,
          6.121600151062012,
          6.02370023727417,
          6.022500038146973,
          5.737800121307373,
          5.702700138092041,
          5.684299945831299,
          5.63040018081665,
          5.568900108337402,
          5.558899879455566,
          5.525899887084961,
          5.210599899291992
         ],
         "yaxis": "y"
        },
        {
         "alignmentgroup": "True",
         "hovertemplate": "Continent=unknown<br>Country name=%{x}<br>Ladder score=%{y}<extra></extra>",
         "legendgroup": "unknown",
         "marker": {
          "color": "#ab63fa",
          "pattern": {
           "shape": ""
          }
         },
         "name": "unknown",
         "offsetgroup": "unknown",
         "orientation": "v",
         "showlegend": true,
         "textposition": "auto",
         "type": "bar",
         "x": [
          "Czechia",
          "Taiwan Province of China",
          "Slovakia",
          "Kyrgyzstan",
          "Hong Kong S.A.R. of China",
          "Congo (Brazzaville)",
          "North Macedonia",
          "Laos",
          "Ivory Coast",
          "State of Palestine",
          "Turkiye",
          "Congo (Kinshasa)"
         ],
         "xaxis": "x",
         "y": [
          6.845200061798096,
          6.535399913787842,
          6.468599796295166,
          5.825300216674805,
          5.308499813079834,
          5.267099857330322,
          5.253600120544434,
          5.1107001304626465,
          5.052700042724609,
          4.907800197601318,
          4.613500118255615,
          3.207200050354004
         ],
         "yaxis": "y"
        },
        {
         "alignmentgroup": "True",
         "hovertemplate": "Continent=africa<br>Country name=%{x}<br>Ladder score=%{y}<extra></extra>",
         "legendgroup": "africa",
         "marker": {
          "color": "#FFA15A",
          "pattern": {
           "shape": ""
          }
         },
         "name": "africa",
         "offsetgroup": "africa",
         "orientation": "v",
         "showlegend": true,
         "textposition": "auto",
         "type": "bar",
         "x": [
          "Mauritius",
          "Algeria",
          "South Africa",
          "Guinea",
          "Gabon",
          "Nigeria",
          "Cameroon",
          "Mozambique",
          "Morocco",
          "Senegal",
          "Mauritania",
          "Burkina Faso",
          "Namibia",
          "Ghana",
          "Niger",
          "Tunisia",
          "Kenya",
          "Uganda",
          "Chad",
          "Benin",
          "Gambia",
          "Mali",
          "Egypt",
          "Togo",
          "Ethiopia",
          "Liberia",
          "Madagascar",
          "Zambia",
          "Tanzania",
          "Comoros",
          "Malawi",
          "Botswana",
          "Zimbabwe",
          "Sierra Leone"
         ],
         "xaxis": "x",
         "y": [
          5.902299880981445,
          5.329100131988525,
          5.274600028991699,
          5.071700096130371,
          5.0346999168396,
          4.980599880218506,
          4.973199844360352,
          4.953999996185303,
          4.9028000831604,
          4.855100154876709,
          4.723899841308594,
          4.637599945068359,
          4.630799770355225,
          4.605000019073486,
          4.501299858093262,
          4.496699810028076,
          4.486599922180176,
          4.432499885559082,
          4.396599769592285,
          4.373700141906738,
          4.279399871826172,
          4.197800159454346,
          4.170499801635742,
          4.137400150299072,
          4.09060001373291,
          4.042300224304199,
          4.019100189208984,
          3.9821999073028564,
          3.6937999725341797,
          3.5452001094818115,
          3.4951999187469482,
          3.43530011177063,
          3.2035000324249268,
          3.1375999450683594
         ],
         "yaxis": "y"
        }
       ],
       "layout": {
        "barmode": "relative",
        "height": 800,
        "legend": {
         "title": {
          "text": "Continent"
         },
         "tracegroupgap": 0
        },
        "template": {
         "data": {
          "bar": [
           {
            "error_x": {
             "color": "#2a3f5f"
            },
            "error_y": {
             "color": "#2a3f5f"
            },
            "marker": {
             "line": {
              "color": "#E5ECF6",
              "width": 0.5
             },
             "pattern": {
              "fillmode": "overlay",
              "size": 10,
              "solidity": 0.2
             }
            },
            "type": "bar"
           }
          ],
          "barpolar": [
           {
            "marker": {
             "line": {
              "color": "#E5ECF6",
              "width": 0.5
             },
             "pattern": {
              "fillmode": "overlay",
              "size": 10,
              "solidity": 0.2
             }
            },
            "type": "barpolar"
           }
          ],
          "carpet": [
           {
            "aaxis": {
             "endlinecolor": "#2a3f5f",
             "gridcolor": "white",
             "linecolor": "white",
             "minorgridcolor": "white",
             "startlinecolor": "#2a3f5f"
            },
            "baxis": {
             "endlinecolor": "#2a3f5f",
             "gridcolor": "white",
             "linecolor": "white",
             "minorgridcolor": "white",
             "startlinecolor": "#2a3f5f"
            },
            "type": "carpet"
           }
          ],
          "choropleth": [
           {
            "colorbar": {
             "outlinewidth": 0,
             "ticks": ""
            },
            "type": "choropleth"
           }
          ],
          "contour": [
           {
            "colorbar": {
             "outlinewidth": 0,
             "ticks": ""
            },
            "colorscale": [
             [
              0,
              "#0d0887"
             ],
             [
              0.1111111111111111,
              "#46039f"
             ],
             [
              0.2222222222222222,
              "#7201a8"
             ],
             [
              0.3333333333333333,
              "#9c179e"
             ],
             [
              0.4444444444444444,
              "#bd3786"
             ],
             [
              0.5555555555555556,
              "#d8576b"
             ],
             [
              0.6666666666666666,
              "#ed7953"
             ],
             [
              0.7777777777777778,
              "#fb9f3a"
             ],
             [
              0.8888888888888888,
              "#fdca26"
             ],
             [
              1,
              "#f0f921"
             ]
            ],
            "type": "contour"
           }
          ],
          "contourcarpet": [
           {
            "colorbar": {
             "outlinewidth": 0,
             "ticks": ""
            },
            "type": "contourcarpet"
           }
          ],
          "heatmap": [
           {
            "colorbar": {
             "outlinewidth": 0,
             "ticks": ""
            },
            "colorscale": [
             [
              0,
              "#0d0887"
             ],
             [
              0.1111111111111111,
              "#46039f"
             ],
             [
              0.2222222222222222,
              "#7201a8"
             ],
             [
              0.3333333333333333,
              "#9c179e"
             ],
             [
              0.4444444444444444,
              "#bd3786"
             ],
             [
              0.5555555555555556,
              "#d8576b"
             ],
             [
              0.6666666666666666,
              "#ed7953"
             ],
             [
              0.7777777777777778,
              "#fb9f3a"
             ],
             [
              0.8888888888888888,
              "#fdca26"
             ],
             [
              1,
              "#f0f921"
             ]
            ],
            "type": "heatmap"
           }
          ],
          "heatmapgl": [
           {
            "colorbar": {
             "outlinewidth": 0,
             "ticks": ""
            },
            "colorscale": [
             [
              0,
              "#0d0887"
             ],
             [
              0.1111111111111111,
              "#46039f"
             ],
             [
              0.2222222222222222,
              "#7201a8"
             ],
             [
              0.3333333333333333,
              "#9c179e"
             ],
             [
              0.4444444444444444,
              "#bd3786"
             ],
             [
              0.5555555555555556,
              "#d8576b"
             ],
             [
              0.6666666666666666,
              "#ed7953"
             ],
             [
              0.7777777777777778,
              "#fb9f3a"
             ],
             [
              0.8888888888888888,
              "#fdca26"
             ],
             [
              1,
              "#f0f921"
             ]
            ],
            "type": "heatmapgl"
           }
          ],
          "histogram": [
           {
            "marker": {
             "pattern": {
              "fillmode": "overlay",
              "size": 10,
              "solidity": 0.2
             }
            },
            "type": "histogram"
           }
          ],
          "histogram2d": [
           {
            "colorbar": {
             "outlinewidth": 0,
             "ticks": ""
            },
            "colorscale": [
             [
              0,
              "#0d0887"
             ],
             [
              0.1111111111111111,
              "#46039f"
             ],
             [
              0.2222222222222222,
              "#7201a8"
             ],
             [
              0.3333333333333333,
              "#9c179e"
             ],
             [
              0.4444444444444444,
              "#bd3786"
             ],
             [
              0.5555555555555556,
              "#d8576b"
             ],
             [
              0.6666666666666666,
              "#ed7953"
             ],
             [
              0.7777777777777778,
              "#fb9f3a"
             ],
             [
              0.8888888888888888,
              "#fdca26"
             ],
             [
              1,
              "#f0f921"
             ]
            ],
            "type": "histogram2d"
           }
          ],
          "histogram2dcontour": [
           {
            "colorbar": {
             "outlinewidth": 0,
             "ticks": ""
            },
            "colorscale": [
             [
              0,
              "#0d0887"
             ],
             [
              0.1111111111111111,
              "#46039f"
             ],
             [
              0.2222222222222222,
              "#7201a8"
             ],
             [
              0.3333333333333333,
              "#9c179e"
             ],
             [
              0.4444444444444444,
              "#bd3786"
             ],
             [
              0.5555555555555556,
              "#d8576b"
             ],
             [
              0.6666666666666666,
              "#ed7953"
             ],
             [
              0.7777777777777778,
              "#fb9f3a"
             ],
             [
              0.8888888888888888,
              "#fdca26"
             ],
             [
              1,
              "#f0f921"
             ]
            ],
            "type": "histogram2dcontour"
           }
          ],
          "mesh3d": [
           {
            "colorbar": {
             "outlinewidth": 0,
             "ticks": ""
            },
            "type": "mesh3d"
           }
          ],
          "parcoords": [
           {
            "line": {
             "colorbar": {
              "outlinewidth": 0,
              "ticks": ""
             }
            },
            "type": "parcoords"
           }
          ],
          "pie": [
           {
            "automargin": true,
            "type": "pie"
           }
          ],
          "scatter": [
           {
            "fillpattern": {
             "fillmode": "overlay",
             "size": 10,
             "solidity": 0.2
            },
            "type": "scatter"
           }
          ],
          "scatter3d": [
           {
            "line": {
             "colorbar": {
              "outlinewidth": 0,
              "ticks": ""
             }
            },
            "marker": {
             "colorbar": {
              "outlinewidth": 0,
              "ticks": ""
             }
            },
            "type": "scatter3d"
           }
          ],
          "scattercarpet": [
           {
            "marker": {
             "colorbar": {
              "outlinewidth": 0,
              "ticks": ""
             }
            },
            "type": "scattercarpet"
           }
          ],
          "scattergeo": [
           {
            "marker": {
             "colorbar": {
              "outlinewidth": 0,
              "ticks": ""
             }
            },
            "type": "scattergeo"
           }
          ],
          "scattergl": [
           {
            "marker": {
             "colorbar": {
              "outlinewidth": 0,
              "ticks": ""
             }
            },
            "type": "scattergl"
           }
          ],
          "scattermapbox": [
           {
            "marker": {
             "colorbar": {
              "outlinewidth": 0,
              "ticks": ""
             }
            },
            "type": "scattermapbox"
           }
          ],
          "scatterpolar": [
           {
            "marker": {
             "colorbar": {
              "outlinewidth": 0,
              "ticks": ""
             }
            },
            "type": "scatterpolar"
           }
          ],
          "scatterpolargl": [
           {
            "marker": {
             "colorbar": {
              "outlinewidth": 0,
              "ticks": ""
             }
            },
            "type": "scatterpolargl"
           }
          ],
          "scatterternary": [
           {
            "marker": {
             "colorbar": {
              "outlinewidth": 0,
              "ticks": ""
             }
            },
            "type": "scatterternary"
           }
          ],
          "surface": [
           {
            "colorbar": {
             "outlinewidth": 0,
             "ticks": ""
            },
            "colorscale": [
             [
              0,
              "#0d0887"
             ],
             [
              0.1111111111111111,
              "#46039f"
             ],
             [
              0.2222222222222222,
              "#7201a8"
             ],
             [
              0.3333333333333333,
              "#9c179e"
             ],
             [
              0.4444444444444444,
              "#bd3786"
             ],
             [
              0.5555555555555556,
              "#d8576b"
             ],
             [
              0.6666666666666666,
              "#ed7953"
             ],
             [
              0.7777777777777778,
              "#fb9f3a"
             ],
             [
              0.8888888888888888,
              "#fdca26"
             ],
             [
              1,
              "#f0f921"
             ]
            ],
            "type": "surface"
           }
          ],
          "table": [
           {
            "cells": {
             "fill": {
              "color": "#EBF0F8"
             },
             "line": {
              "color": "white"
             }
            },
            "header": {
             "fill": {
              "color": "#C8D4E3"
             },
             "line": {
              "color": "white"
             }
            },
            "type": "table"
           }
          ]
         },
         "layout": {
          "annotationdefaults": {
           "arrowcolor": "#2a3f5f",
           "arrowhead": 0,
           "arrowwidth": 1
          },
          "autotypenumbers": "strict",
          "coloraxis": {
           "colorbar": {
            "outlinewidth": 0,
            "ticks": ""
           }
          },
          "colorscale": {
           "diverging": [
            [
             0,
             "#8e0152"
            ],
            [
             0.1,
             "#c51b7d"
            ],
            [
             0.2,
             "#de77ae"
            ],
            [
             0.3,
             "#f1b6da"
            ],
            [
             0.4,
             "#fde0ef"
            ],
            [
             0.5,
             "#f7f7f7"
            ],
            [
             0.6,
             "#e6f5d0"
            ],
            [
             0.7,
             "#b8e186"
            ],
            [
             0.8,
             "#7fbc41"
            ],
            [
             0.9,
             "#4d9221"
            ],
            [
             1,
             "#276419"
            ]
           ],
           "sequential": [
            [
             0,
             "#0d0887"
            ],
            [
             0.1111111111111111,
             "#46039f"
            ],
            [
             0.2222222222222222,
             "#7201a8"
            ],
            [
             0.3333333333333333,
             "#9c179e"
            ],
            [
             0.4444444444444444,
             "#bd3786"
            ],
            [
             0.5555555555555556,
             "#d8576b"
            ],
            [
             0.6666666666666666,
             "#ed7953"
            ],
            [
             0.7777777777777778,
             "#fb9f3a"
            ],
            [
             0.8888888888888888,
             "#fdca26"
            ],
            [
             1,
             "#f0f921"
            ]
           ],
           "sequentialminus": [
            [
             0,
             "#0d0887"
            ],
            [
             0.1111111111111111,
             "#46039f"
            ],
            [
             0.2222222222222222,
             "#7201a8"
            ],
            [
             0.3333333333333333,
             "#9c179e"
            ],
            [
             0.4444444444444444,
             "#bd3786"
            ],
            [
             0.5555555555555556,
             "#d8576b"
            ],
            [
             0.6666666666666666,
             "#ed7953"
            ],
            [
             0.7777777777777778,
             "#fb9f3a"
            ],
            [
             0.8888888888888888,
             "#fdca26"
            ],
            [
             1,
             "#f0f921"
            ]
           ]
          },
          "colorway": [
           "#636efa",
           "#EF553B",
           "#00cc96",
           "#ab63fa",
           "#FFA15A",
           "#19d3f3",
           "#FF6692",
           "#B6E880",
           "#FF97FF",
           "#FECB52"
          ],
          "font": {
           "color": "#2a3f5f"
          },
          "geo": {
           "bgcolor": "white",
           "lakecolor": "white",
           "landcolor": "#E5ECF6",
           "showlakes": true,
           "showland": true,
           "subunitcolor": "white"
          },
          "hoverlabel": {
           "align": "left"
          },
          "hovermode": "closest",
          "mapbox": {
           "style": "light"
          },
          "paper_bgcolor": "white",
          "plot_bgcolor": "#E5ECF6",
          "polar": {
           "angularaxis": {
            "gridcolor": "white",
            "linecolor": "white",
            "ticks": ""
           },
           "bgcolor": "#E5ECF6",
           "radialaxis": {
            "gridcolor": "white",
            "linecolor": "white",
            "ticks": ""
           }
          },
          "scene": {
           "xaxis": {
            "backgroundcolor": "#E5ECF6",
            "gridcolor": "white",
            "gridwidth": 2,
            "linecolor": "white",
            "showbackground": true,
            "ticks": "",
            "zerolinecolor": "white"
           },
           "yaxis": {
            "backgroundcolor": "#E5ECF6",
            "gridcolor": "white",
            "gridwidth": 2,
            "linecolor": "white",
            "showbackground": true,
            "ticks": "",
            "zerolinecolor": "white"
           },
           "zaxis": {
            "backgroundcolor": "#E5ECF6",
            "gridcolor": "white",
            "gridwidth": 2,
            "linecolor": "white",
            "showbackground": true,
            "ticks": "",
            "zerolinecolor": "white"
           }
          },
          "shapedefaults": {
           "line": {
            "color": "#2a3f5f"
           }
          },
          "ternary": {
           "aaxis": {
            "gridcolor": "white",
            "linecolor": "white",
            "ticks": ""
           },
           "baxis": {
            "gridcolor": "white",
            "linecolor": "white",
            "ticks": ""
           },
           "bgcolor": "#E5ECF6",
           "caxis": {
            "gridcolor": "white",
            "linecolor": "white",
            "ticks": ""
           }
          },
          "title": {
           "x": 0.05
          },
          "xaxis": {
           "automargin": true,
           "gridcolor": "white",
           "linecolor": "white",
           "ticks": "",
           "title": {
            "standoff": 15
           },
           "zerolinecolor": "white",
           "zerolinewidth": 2
          },
          "yaxis": {
           "automargin": true,
           "gridcolor": "white",
           "linecolor": "white",
           "ticks": "",
           "title": {
            "standoff": 15
           },
           "zerolinecolor": "white",
           "zerolinewidth": 2
          }
         }
        },
        "title": {
         "text": "World Happiness Report 2023 by Continent"
        },
        "xaxis": {
         "anchor": "y",
         "domain": [
          0,
          1
         ],
         "title": {
          "text": "Country name"
         }
        },
        "yaxis": {
         "anchor": "x",
         "domain": [
          0,
          1
         ],
         "title": {
          "text": "Ladder score"
         }
        }
       }
      }
     },
     "metadata": {},
     "output_type": "display_data"
    }
   ],
   "source": [
    "geonames = pd.read_csv('https://raw.githubusercontent.com/open-numbers/ddf--gapminder--geo_entity_domain/master/ddf--entities--geo--country.csv')\n",
    "geonames = geonames.rename(columns={'name':'Country name', 'world_4region':'Continent'}) # we could instead use the 'world_6region' column\n",
    "geonames = geonames[['Country name', 'Continent']]\n",
    "data['Continent'] = data['Country name'].map(geonames.set_index('Country name')['Continent']).fillna('unknown').replace('', 'unknown')\n",
    "px.bar(data, x='Country name', y='Ladder score', title='World Happiness Report 2023 by Continent', height=800, color='Continent')"
   ]
  },
  {
   "attachments": {},
   "cell_type": "markdown",
   "metadata": {},
   "source": [
    "Instead of using 'unknown' for the countries that were named differently in the Gapminder data set, we can manually set their contients. First we will print the ones that have an `unknown` continent."
   ]
  },
  {
   "cell_type": "code",
   "execution_count": 5,
   "metadata": {},
   "outputs": [
    {
     "data": {
      "text/plain": [
       "17                       Czechia\n",
       "26      Taiwan Province of China\n",
       "28                      Slovakia\n",
       "61                    Kyrgyzstan\n",
       "81     Hong Kong S.A.R. of China\n",
       "85           Congo (Brazzaville)\n",
       "86               North Macedonia\n",
       "88                          Laos\n",
       "92                   Ivory Coast\n",
       "98            State of Palestine\n",
       "105                      Turkiye\n",
       "132             Congo (Kinshasa)\n",
       "Name: Country name, dtype: object"
      ]
     },
     "execution_count": 5,
     "metadata": {},
     "output_type": "execute_result"
    }
   ],
   "source": [
    "data[data['Continent'] == 'unknown']['Country name']"
   ]
  },
  {
   "attachments": {},
   "cell_type": "markdown",
   "metadata": {},
   "source": [
    "Then we can set each of their contienents and recreate the visualization."
   ]
  },
  {
   "cell_type": "code",
   "execution_count": 6,
   "metadata": {},
   "outputs": [
    {
     "data": {
      "application/vnd.plotly.v1+json": {
       "config": {
        "plotlyServerURL": "https://plot.ly"
       },
       "data": [
        {
         "alignmentgroup": "True",
         "hovertemplate": "Continent=europe<br>Country name=%{x}<br>Ladder score=%{y}<extra></extra>",
         "legendgroup": "europe",
         "marker": {
          "color": "#636efa",
          "pattern": {
           "shape": ""
          }
         },
         "name": "europe",
         "offsetgroup": "europe",
         "orientation": "v",
         "showlegend": true,
         "textposition": "auto",
         "type": "bar",
         "x": [
          "Finland",
          "Denmark",
          "Iceland",
          "Netherlands",
          "Sweden",
          "Norway",
          "Switzerland",
          "Luxembourg",
          "Austria",
          "Ireland",
          "Germany",
          "Belgium",
          "Czechia",
          "United Kingdom",
          "Lithuania",
          "France",
          "Slovenia",
          "Romania",
          "Slovakia",
          "Estonia",
          "Spain",
          "Italy",
          "Kosovo",
          "Malta",
          "Poland",
          "Latvia",
          "Serbia",
          "Cyprus",
          "Croatia",
          "Hungary",
          "Portugal",
          "Greece",
          "Moldova",
          "Montenegro",
          "Russia",
          "Bosnia and Herzegovina",
          "Bulgaria",
          "Armenia",
          "Albania",
          "North Macedonia",
          "Georgia",
          "Ukraine"
         ],
         "xaxis": "x",
         "y": [
          7.804200172424316,
          7.586400032043457,
          7.529600143432617,
          7.4029998779296875,
          7.395199775695801,
          7.315499782562256,
          7.240099906921387,
          7.22790002822876,
          7.097300052642822,
          6.910799980163574,
          6.8917999267578125,
          6.859099864959717,
          6.845200061798096,
          6.795599937438965,
          6.763000011444092,
          6.661300182342529,
          6.649899959564209,
          6.589099884033203,
          6.468599796295166,
          6.4552001953125,
          6.436200141906738,
          6.4045000076293945,
          6.367599964141846,
          6.299900054931641,
          6.259699821472168,
          6.212699890136719,
          6.143599987030029,
          6.130000114440918,
          6.125,
          6.041200160980225,
          5.9679999351501465,
          5.9309000968933105,
          5.819200038909912,
          5.7221999168396,
          5.660699844360352,
          5.632500171661377,
          5.466100215911865,
          5.341700077056885,
          5.277299880981445,
          5.253600120544434,
          5.109099864959717,
          5.071400165557861
         ],
         "yaxis": "y"
        },
        {
         "alignmentgroup": "True",
         "hovertemplate": "Continent=asia<br>Country name=%{x}<br>Ladder score=%{y}<extra></extra>",
         "legendgroup": "asia",
         "marker": {
          "color": "#EF553B",
          "pattern": {
           "shape": ""
          }
         },
         "name": "asia",
         "offsetgroup": "asia",
         "orientation": "v",
         "showlegend": true,
         "textposition": "auto",
         "type": "bar",
         "x": [
          "Israel",
          "New Zealand",
          "Australia",
          "Singapore",
          "United Arab Emirates",
          "Taiwan Province of China",
          "Saudi Arabia",
          "Bahrain",
          "Kazakhstan",
          "Japan",
          "Uzbekistan",
          "Malaysia",
          "South Korea",
          "Thailand",
          "Mongolia",
          "Kyrgyzstan",
          "China",
          "Vietnam",
          "Philippines",
          "Nepal",
          "Tajikistan",
          "Hong Kong S.A.R. of China",
          "Indonesia",
          "Laos",
          "Iraq",
          "State of Palestine",
          "Iran",
          "Turkiye",
          "Pakistan",
          "Sri Lanka",
          "Cambodia",
          "Myanmar",
          "Bangladesh",
          "Jordan",
          "India",
          "Lebanon",
          "Afghanistan"
         ],
         "xaxis": "x",
         "y": [
          7.472899913787842,
          7.122900009155273,
          7.094600200653076,
          6.586699962615967,
          6.571199893951416,
          6.535399913787842,
          6.462600231170654,
          6.1732001304626465,
          6.143899917602539,
          6.129000186920166,
          6.0142998695373535,
          6.01230001449585,
          5.951099872589111,
          5.8429999351501465,
          5.840199947357178,
          5.825300216674805,
          5.81790018081665,
          5.763299942016602,
          5.522900104522705,
          5.360300064086914,
          5.329800128936768,
          5.308499813079834,
          5.276899814605713,
          5.1107001304626465,
          4.940899848937988,
          4.907800197601318,
          4.876299858093262,
          4.613500118255615,
          4.5553998947143555,
          4.4415998458862305,
          4.393499851226807,
          4.372499942779541,
          4.282100200653076,
          4.119800090789795,
          4.035799980163574,
          2.392199993133545,
          1.8589999675750732
         ],
         "yaxis": "y"
        },
        {
         "alignmentgroup": "True",
         "hovertemplate": "Continent=americas<br>Country name=%{x}<br>Ladder score=%{y}<extra></extra>",
         "legendgroup": "americas",
         "marker": {
          "color": "#00cc96",
          "pattern": {
           "shape": ""
          }
         },
         "name": "americas",
         "offsetgroup": "americas",
         "orientation": "v",
         "showlegend": true,
         "textposition": "auto",
         "type": "bar",
         "x": [
          "Canada",
          "United States",
          "Costa Rica",
          "Uruguay",
          "Chile",
          "Mexico",
          "Panama",
          "Nicaragua",
          "Guatemala",
          "Brazil",
          "El Salvador",
          "Argentina",
          "Honduras",
          "Paraguay",
          "Jamaica",
          "Bolivia",
          "Colombia",
          "Dominican Republic",
          "Ecuador",
          "Peru",
          "Venezuela"
         ],
         "xaxis": "x",
         "y": [
          6.960700035095215,
          6.893700122833252,
          6.608500003814697,
          6.493899822235107,
          6.333799839019775,
          6.329500198364258,
          6.264500141143799,
          6.258800029754639,
          6.150300025939941,
          6.124599933624268,
          6.121600151062012,
          6.02370023727417,
          6.022500038146973,
          5.737800121307373,
          5.702700138092041,
          5.684299945831299,
          5.63040018081665,
          5.568900108337402,
          5.558899879455566,
          5.525899887084961,
          5.210599899291992
         ],
         "yaxis": "y"
        },
        {
         "alignmentgroup": "True",
         "hovertemplate": "Continent=africa<br>Country name=%{x}<br>Ladder score=%{y}<extra></extra>",
         "legendgroup": "africa",
         "marker": {
          "color": "#ab63fa",
          "pattern": {
           "shape": ""
          }
         },
         "name": "africa",
         "offsetgroup": "africa",
         "orientation": "v",
         "showlegend": true,
         "textposition": "auto",
         "type": "bar",
         "x": [
          "Mauritius",
          "Algeria",
          "South Africa",
          "Congo (Brazzaville)",
          "Guinea",
          "Ivory Coast",
          "Gabon",
          "Nigeria",
          "Cameroon",
          "Mozambique",
          "Morocco",
          "Senegal",
          "Mauritania",
          "Burkina Faso",
          "Namibia",
          "Ghana",
          "Niger",
          "Tunisia",
          "Kenya",
          "Uganda",
          "Chad",
          "Benin",
          "Gambia",
          "Mali",
          "Egypt",
          "Togo",
          "Ethiopia",
          "Liberia",
          "Madagascar",
          "Zambia",
          "Tanzania",
          "Comoros",
          "Malawi",
          "Botswana",
          "Congo (Kinshasa)",
          "Zimbabwe",
          "Sierra Leone"
         ],
         "xaxis": "x",
         "y": [
          5.902299880981445,
          5.329100131988525,
          5.274600028991699,
          5.267099857330322,
          5.071700096130371,
          5.052700042724609,
          5.0346999168396,
          4.980599880218506,
          4.973199844360352,
          4.953999996185303,
          4.9028000831604,
          4.855100154876709,
          4.723899841308594,
          4.637599945068359,
          4.630799770355225,
          4.605000019073486,
          4.501299858093262,
          4.496699810028076,
          4.486599922180176,
          4.432499885559082,
          4.396599769592285,
          4.373700141906738,
          4.279399871826172,
          4.197800159454346,
          4.170499801635742,
          4.137400150299072,
          4.09060001373291,
          4.042300224304199,
          4.019100189208984,
          3.9821999073028564,
          3.6937999725341797,
          3.5452001094818115,
          3.4951999187469482,
          3.43530011177063,
          3.207200050354004,
          3.2035000324249268,
          3.1375999450683594
         ],
         "yaxis": "y"
        }
       ],
       "layout": {
        "barmode": "relative",
        "height": 800,
        "legend": {
         "title": {
          "text": "Continent"
         },
         "tracegroupgap": 0
        },
        "template": {
         "data": {
          "bar": [
           {
            "error_x": {
             "color": "#2a3f5f"
            },
            "error_y": {
             "color": "#2a3f5f"
            },
            "marker": {
             "line": {
              "color": "#E5ECF6",
              "width": 0.5
             },
             "pattern": {
              "fillmode": "overlay",
              "size": 10,
              "solidity": 0.2
             }
            },
            "type": "bar"
           }
          ],
          "barpolar": [
           {
            "marker": {
             "line": {
              "color": "#E5ECF6",
              "width": 0.5
             },
             "pattern": {
              "fillmode": "overlay",
              "size": 10,
              "solidity": 0.2
             }
            },
            "type": "barpolar"
           }
          ],
          "carpet": [
           {
            "aaxis": {
             "endlinecolor": "#2a3f5f",
             "gridcolor": "white",
             "linecolor": "white",
             "minorgridcolor": "white",
             "startlinecolor": "#2a3f5f"
            },
            "baxis": {
             "endlinecolor": "#2a3f5f",
             "gridcolor": "white",
             "linecolor": "white",
             "minorgridcolor": "white",
             "startlinecolor": "#2a3f5f"
            },
            "type": "carpet"
           }
          ],
          "choropleth": [
           {
            "colorbar": {
             "outlinewidth": 0,
             "ticks": ""
            },
            "type": "choropleth"
           }
          ],
          "contour": [
           {
            "colorbar": {
             "outlinewidth": 0,
             "ticks": ""
            },
            "colorscale": [
             [
              0,
              "#0d0887"
             ],
             [
              0.1111111111111111,
              "#46039f"
             ],
             [
              0.2222222222222222,
              "#7201a8"
             ],
             [
              0.3333333333333333,
              "#9c179e"
             ],
             [
              0.4444444444444444,
              "#bd3786"
             ],
             [
              0.5555555555555556,
              "#d8576b"
             ],
             [
              0.6666666666666666,
              "#ed7953"
             ],
             [
              0.7777777777777778,
              "#fb9f3a"
             ],
             [
              0.8888888888888888,
              "#fdca26"
             ],
             [
              1,
              "#f0f921"
             ]
            ],
            "type": "contour"
           }
          ],
          "contourcarpet": [
           {
            "colorbar": {
             "outlinewidth": 0,
             "ticks": ""
            },
            "type": "contourcarpet"
           }
          ],
          "heatmap": [
           {
            "colorbar": {
             "outlinewidth": 0,
             "ticks": ""
            },
            "colorscale": [
             [
              0,
              "#0d0887"
             ],
             [
              0.1111111111111111,
              "#46039f"
             ],
             [
              0.2222222222222222,
              "#7201a8"
             ],
             [
              0.3333333333333333,
              "#9c179e"
             ],
             [
              0.4444444444444444,
              "#bd3786"
             ],
             [
              0.5555555555555556,
              "#d8576b"
             ],
             [
              0.6666666666666666,
              "#ed7953"
             ],
             [
              0.7777777777777778,
              "#fb9f3a"
             ],
             [
              0.8888888888888888,
              "#fdca26"
             ],
             [
              1,
              "#f0f921"
             ]
            ],
            "type": "heatmap"
           }
          ],
          "heatmapgl": [
           {
            "colorbar": {
             "outlinewidth": 0,
             "ticks": ""
            },
            "colorscale": [
             [
              0,
              "#0d0887"
             ],
             [
              0.1111111111111111,
              "#46039f"
             ],
             [
              0.2222222222222222,
              "#7201a8"
             ],
             [
              0.3333333333333333,
              "#9c179e"
             ],
             [
              0.4444444444444444,
              "#bd3786"
             ],
             [
              0.5555555555555556,
              "#d8576b"
             ],
             [
              0.6666666666666666,
              "#ed7953"
             ],
             [
              0.7777777777777778,
              "#fb9f3a"
             ],
             [
              0.8888888888888888,
              "#fdca26"
             ],
             [
              1,
              "#f0f921"
             ]
            ],
            "type": "heatmapgl"
           }
          ],
          "histogram": [
           {
            "marker": {
             "pattern": {
              "fillmode": "overlay",
              "size": 10,
              "solidity": 0.2
             }
            },
            "type": "histogram"
           }
          ],
          "histogram2d": [
           {
            "colorbar": {
             "outlinewidth": 0,
             "ticks": ""
            },
            "colorscale": [
             [
              0,
              "#0d0887"
             ],
             [
              0.1111111111111111,
              "#46039f"
             ],
             [
              0.2222222222222222,
              "#7201a8"
             ],
             [
              0.3333333333333333,
              "#9c179e"
             ],
             [
              0.4444444444444444,
              "#bd3786"
             ],
             [
              0.5555555555555556,
              "#d8576b"
             ],
             [
              0.6666666666666666,
              "#ed7953"
             ],
             [
              0.7777777777777778,
              "#fb9f3a"
             ],
             [
              0.8888888888888888,
              "#fdca26"
             ],
             [
              1,
              "#f0f921"
             ]
            ],
            "type": "histogram2d"
           }
          ],
          "histogram2dcontour": [
           {
            "colorbar": {
             "outlinewidth": 0,
             "ticks": ""
            },
            "colorscale": [
             [
              0,
              "#0d0887"
             ],
             [
              0.1111111111111111,
              "#46039f"
             ],
             [
              0.2222222222222222,
              "#7201a8"
             ],
             [
              0.3333333333333333,
              "#9c179e"
             ],
             [
              0.4444444444444444,
              "#bd3786"
             ],
             [
              0.5555555555555556,
              "#d8576b"
             ],
             [
              0.6666666666666666,
              "#ed7953"
             ],
             [
              0.7777777777777778,
              "#fb9f3a"
             ],
             [
              0.8888888888888888,
              "#fdca26"
             ],
             [
              1,
              "#f0f921"
             ]
            ],
            "type": "histogram2dcontour"
           }
          ],
          "mesh3d": [
           {
            "colorbar": {
             "outlinewidth": 0,
             "ticks": ""
            },
            "type": "mesh3d"
           }
          ],
          "parcoords": [
           {
            "line": {
             "colorbar": {
              "outlinewidth": 0,
              "ticks": ""
             }
            },
            "type": "parcoords"
           }
          ],
          "pie": [
           {
            "automargin": true,
            "type": "pie"
           }
          ],
          "scatter": [
           {
            "fillpattern": {
             "fillmode": "overlay",
             "size": 10,
             "solidity": 0.2
            },
            "type": "scatter"
           }
          ],
          "scatter3d": [
           {
            "line": {
             "colorbar": {
              "outlinewidth": 0,
              "ticks": ""
             }
            },
            "marker": {
             "colorbar": {
              "outlinewidth": 0,
              "ticks": ""
             }
            },
            "type": "scatter3d"
           }
          ],
          "scattercarpet": [
           {
            "marker": {
             "colorbar": {
              "outlinewidth": 0,
              "ticks": ""
             }
            },
            "type": "scattercarpet"
           }
          ],
          "scattergeo": [
           {
            "marker": {
             "colorbar": {
              "outlinewidth": 0,
              "ticks": ""
             }
            },
            "type": "scattergeo"
           }
          ],
          "scattergl": [
           {
            "marker": {
             "colorbar": {
              "outlinewidth": 0,
              "ticks": ""
             }
            },
            "type": "scattergl"
           }
          ],
          "scattermapbox": [
           {
            "marker": {
             "colorbar": {
              "outlinewidth": 0,
              "ticks": ""
             }
            },
            "type": "scattermapbox"
           }
          ],
          "scatterpolar": [
           {
            "marker": {
             "colorbar": {
              "outlinewidth": 0,
              "ticks": ""
             }
            },
            "type": "scatterpolar"
           }
          ],
          "scatterpolargl": [
           {
            "marker": {
             "colorbar": {
              "outlinewidth": 0,
              "ticks": ""
             }
            },
            "type": "scatterpolargl"
           }
          ],
          "scatterternary": [
           {
            "marker": {
             "colorbar": {
              "outlinewidth": 0,
              "ticks": ""
             }
            },
            "type": "scatterternary"
           }
          ],
          "surface": [
           {
            "colorbar": {
             "outlinewidth": 0,
             "ticks": ""
            },
            "colorscale": [
             [
              0,
              "#0d0887"
             ],
             [
              0.1111111111111111,
              "#46039f"
             ],
             [
              0.2222222222222222,
              "#7201a8"
             ],
             [
              0.3333333333333333,
              "#9c179e"
             ],
             [
              0.4444444444444444,
              "#bd3786"
             ],
             [
              0.5555555555555556,
              "#d8576b"
             ],
             [
              0.6666666666666666,
              "#ed7953"
             ],
             [
              0.7777777777777778,
              "#fb9f3a"
             ],
             [
              0.8888888888888888,
              "#fdca26"
             ],
             [
              1,
              "#f0f921"
             ]
            ],
            "type": "surface"
           }
          ],
          "table": [
           {
            "cells": {
             "fill": {
              "color": "#EBF0F8"
             },
             "line": {
              "color": "white"
             }
            },
            "header": {
             "fill": {
              "color": "#C8D4E3"
             },
             "line": {
              "color": "white"
             }
            },
            "type": "table"
           }
          ]
         },
         "layout": {
          "annotationdefaults": {
           "arrowcolor": "#2a3f5f",
           "arrowhead": 0,
           "arrowwidth": 1
          },
          "autotypenumbers": "strict",
          "coloraxis": {
           "colorbar": {
            "outlinewidth": 0,
            "ticks": ""
           }
          },
          "colorscale": {
           "diverging": [
            [
             0,
             "#8e0152"
            ],
            [
             0.1,
             "#c51b7d"
            ],
            [
             0.2,
             "#de77ae"
            ],
            [
             0.3,
             "#f1b6da"
            ],
            [
             0.4,
             "#fde0ef"
            ],
            [
             0.5,
             "#f7f7f7"
            ],
            [
             0.6,
             "#e6f5d0"
            ],
            [
             0.7,
             "#b8e186"
            ],
            [
             0.8,
             "#7fbc41"
            ],
            [
             0.9,
             "#4d9221"
            ],
            [
             1,
             "#276419"
            ]
           ],
           "sequential": [
            [
             0,
             "#0d0887"
            ],
            [
             0.1111111111111111,
             "#46039f"
            ],
            [
             0.2222222222222222,
             "#7201a8"
            ],
            [
             0.3333333333333333,
             "#9c179e"
            ],
            [
             0.4444444444444444,
             "#bd3786"
            ],
            [
             0.5555555555555556,
             "#d8576b"
            ],
            [
             0.6666666666666666,
             "#ed7953"
            ],
            [
             0.7777777777777778,
             "#fb9f3a"
            ],
            [
             0.8888888888888888,
             "#fdca26"
            ],
            [
             1,
             "#f0f921"
            ]
           ],
           "sequentialminus": [
            [
             0,
             "#0d0887"
            ],
            [
             0.1111111111111111,
             "#46039f"
            ],
            [
             0.2222222222222222,
             "#7201a8"
            ],
            [
             0.3333333333333333,
             "#9c179e"
            ],
            [
             0.4444444444444444,
             "#bd3786"
            ],
            [
             0.5555555555555556,
             "#d8576b"
            ],
            [
             0.6666666666666666,
             "#ed7953"
            ],
            [
             0.7777777777777778,
             "#fb9f3a"
            ],
            [
             0.8888888888888888,
             "#fdca26"
            ],
            [
             1,
             "#f0f921"
            ]
           ]
          },
          "colorway": [
           "#636efa",
           "#EF553B",
           "#00cc96",
           "#ab63fa",
           "#FFA15A",
           "#19d3f3",
           "#FF6692",
           "#B6E880",
           "#FF97FF",
           "#FECB52"
          ],
          "font": {
           "color": "#2a3f5f"
          },
          "geo": {
           "bgcolor": "white",
           "lakecolor": "white",
           "landcolor": "#E5ECF6",
           "showlakes": true,
           "showland": true,
           "subunitcolor": "white"
          },
          "hoverlabel": {
           "align": "left"
          },
          "hovermode": "closest",
          "mapbox": {
           "style": "light"
          },
          "paper_bgcolor": "white",
          "plot_bgcolor": "#E5ECF6",
          "polar": {
           "angularaxis": {
            "gridcolor": "white",
            "linecolor": "white",
            "ticks": ""
           },
           "bgcolor": "#E5ECF6",
           "radialaxis": {
            "gridcolor": "white",
            "linecolor": "white",
            "ticks": ""
           }
          },
          "scene": {
           "xaxis": {
            "backgroundcolor": "#E5ECF6",
            "gridcolor": "white",
            "gridwidth": 2,
            "linecolor": "white",
            "showbackground": true,
            "ticks": "",
            "zerolinecolor": "white"
           },
           "yaxis": {
            "backgroundcolor": "#E5ECF6",
            "gridcolor": "white",
            "gridwidth": 2,
            "linecolor": "white",
            "showbackground": true,
            "ticks": "",
            "zerolinecolor": "white"
           },
           "zaxis": {
            "backgroundcolor": "#E5ECF6",
            "gridcolor": "white",
            "gridwidth": 2,
            "linecolor": "white",
            "showbackground": true,
            "ticks": "",
            "zerolinecolor": "white"
           }
          },
          "shapedefaults": {
           "line": {
            "color": "#2a3f5f"
           }
          },
          "ternary": {
           "aaxis": {
            "gridcolor": "white",
            "linecolor": "white",
            "ticks": ""
           },
           "baxis": {
            "gridcolor": "white",
            "linecolor": "white",
            "ticks": ""
           },
           "bgcolor": "#E5ECF6",
           "caxis": {
            "gridcolor": "white",
            "linecolor": "white",
            "ticks": ""
           }
          },
          "title": {
           "x": 0.05
          },
          "xaxis": {
           "automargin": true,
           "gridcolor": "white",
           "linecolor": "white",
           "ticks": "",
           "title": {
            "standoff": 15
           },
           "zerolinecolor": "white",
           "zerolinewidth": 2
          },
          "yaxis": {
           "automargin": true,
           "gridcolor": "white",
           "linecolor": "white",
           "ticks": "",
           "title": {
            "standoff": 15
           },
           "zerolinecolor": "white",
           "zerolinewidth": 2
          }
         }
        },
        "title": {
         "text": "World Happiness Report 2023 by Continent"
        },
        "xaxis": {
         "anchor": "y",
         "domain": [
          0,
          1
         ],
         "title": {
          "text": "Country name"
         }
        },
        "yaxis": {
         "anchor": "x",
         "domain": [
          0,
          1
         ],
         "title": {
          "text": "Ladder score"
         }
        }
       }
      }
     },
     "metadata": {},
     "output_type": "display_data"
    }
   ],
   "source": [
    "contient_corrections = {'Czechia':'europe', \n",
    "                        'Taiwan Province of China':'asia', \n",
    "                        'Slovakia':'europe', \n",
    "                        'Kyrgyzstan':'asia', \n",
    "                        'Hong Kong S.A.R. of China':'asia', \n",
    "                        'Congo (Brazzaville)':'africa', \n",
    "                        'North Macedonia':'europe', \n",
    "                        'Laos':'asia', \n",
    "                        'Ivory Coast':'africa',\n",
    "                        'State of Palestine':'asia',\n",
    "                        'Turkiye':'asia',\n",
    "                        'Congo (Kinshasa)':'africa'}\n",
    "\n",
    "for country, continent in contient_corrections.items():\n",
    "    data.loc[data['Country name'] == country, 'Continent'] = continent\n",
    "\n",
    "px.bar(data, x='Country name', y='Ladder score', title='World Happiness Report 2023 by Continent', height=800, color='Continent')"
   ]
  },
  {
   "attachments": {},
   "cell_type": "markdown",
   "metadata": {},
   "source": [
    "What do you notice about the happiness scores of specific countries or from the visualization of world happiness by continent? \n"
   ]
  },
  {
   "attachments": {},
   "cell_type": "markdown",
   "metadata": {},
   "source": [
    "# Mapping the Data\n",
    "\n",
    "Run the code below to make a map of the countries colored by their happiness scores. "
   ]
  },
  {
   "cell_type": "code",
   "execution_count": 7,
   "metadata": {},
   "outputs": [
    {
     "data": {
      "application/vnd.plotly.v1+json": {
       "config": {
        "plotlyServerURL": "https://plot.ly"
       },
       "data": [
        {
         "coloraxis": "coloraxis",
         "geo": "geo",
         "hovertemplate": "Country name=%{location}<br>Ladder score=%{z}<extra></extra>",
         "locationmode": "country names",
         "locations": [
          "Finland",
          "Denmark",
          "Iceland",
          "Israel",
          "Netherlands",
          "Sweden",
          "Norway",
          "Switzerland",
          "Luxembourg",
          "New Zealand",
          "Austria",
          "Australia",
          "Canada",
          "Ireland",
          "United States",
          "Germany",
          "Belgium",
          "Czechia",
          "United Kingdom",
          "Lithuania",
          "France",
          "Slovenia",
          "Costa Rica",
          "Romania",
          "Singapore",
          "United Arab Emirates",
          "Taiwan Province of China",
          "Uruguay",
          "Slovakia",
          "Saudi Arabia",
          "Estonia",
          "Spain",
          "Italy",
          "Kosovo",
          "Chile",
          "Mexico",
          "Malta",
          "Panama",
          "Poland",
          "Nicaragua",
          "Latvia",
          "Bahrain",
          "Guatemala",
          "Kazakhstan",
          "Serbia",
          "Cyprus",
          "Japan",
          "Croatia",
          "Brazil",
          "El Salvador",
          "Hungary",
          "Argentina",
          "Honduras",
          "Uzbekistan",
          "Malaysia",
          "Portugal",
          "South Korea",
          "Greece",
          "Mauritius",
          "Thailand",
          "Mongolia",
          "Kyrgyzstan",
          "Moldova",
          "China",
          "Vietnam",
          "Paraguay",
          "Montenegro",
          "Jamaica",
          "Bolivia",
          "Russia",
          "Bosnia and Herzegovina",
          "Colombia",
          "Dominican Republic",
          "Ecuador",
          "Peru",
          "Philippines",
          "Bulgaria",
          "Nepal",
          "Armenia",
          "Tajikistan",
          "Algeria",
          "Hong Kong S.A.R. of China",
          "Albania",
          "Indonesia",
          "South Africa",
          "Congo (Brazzaville)",
          "North Macedonia",
          "Venezuela",
          "Laos",
          "Georgia",
          "Guinea",
          "Ukraine",
          "Ivory Coast",
          "Gabon",
          "Nigeria",
          "Cameroon",
          "Mozambique",
          "Iraq",
          "State of Palestine",
          "Morocco",
          "Iran",
          "Senegal",
          "Mauritania",
          "Burkina Faso",
          "Namibia",
          "Turkiye",
          "Ghana",
          "Pakistan",
          "Niger",
          "Tunisia",
          "Kenya",
          "Sri Lanka",
          "Uganda",
          "Chad",
          "Cambodia",
          "Benin",
          "Myanmar",
          "Bangladesh",
          "Gambia",
          "Mali",
          "Egypt",
          "Togo",
          "Jordan",
          "Ethiopia",
          "Liberia",
          "India",
          "Madagascar",
          "Zambia",
          "Tanzania",
          "Comoros",
          "Malawi",
          "Botswana",
          "Congo (Kinshasa)",
          "Zimbabwe",
          "Sierra Leone",
          "Lebanon",
          "Afghanistan"
         ],
         "name": "",
         "type": "choropleth",
         "z": [
          7.804200172424316,
          7.586400032043457,
          7.529600143432617,
          7.472899913787842,
          7.4029998779296875,
          7.395199775695801,
          7.315499782562256,
          7.240099906921387,
          7.22790002822876,
          7.122900009155273,
          7.097300052642822,
          7.094600200653076,
          6.960700035095215,
          6.910799980163574,
          6.893700122833252,
          6.8917999267578125,
          6.859099864959717,
          6.845200061798096,
          6.795599937438965,
          6.763000011444092,
          6.661300182342529,
          6.649899959564209,
          6.608500003814697,
          6.589099884033203,
          6.586699962615967,
          6.571199893951416,
          6.535399913787842,
          6.493899822235107,
          6.468599796295166,
          6.462600231170654,
          6.4552001953125,
          6.436200141906738,
          6.4045000076293945,
          6.367599964141846,
          6.333799839019775,
          6.329500198364258,
          6.299900054931641,
          6.264500141143799,
          6.259699821472168,
          6.258800029754639,
          6.212699890136719,
          6.1732001304626465,
          6.150300025939941,
          6.143899917602539,
          6.143599987030029,
          6.130000114440918,
          6.129000186920166,
          6.125,
          6.124599933624268,
          6.121600151062012,
          6.041200160980225,
          6.02370023727417,
          6.022500038146973,
          6.0142998695373535,
          6.01230001449585,
          5.9679999351501465,
          5.951099872589111,
          5.9309000968933105,
          5.902299880981445,
          5.8429999351501465,
          5.840199947357178,
          5.825300216674805,
          5.819200038909912,
          5.81790018081665,
          5.763299942016602,
          5.737800121307373,
          5.7221999168396,
          5.702700138092041,
          5.684299945831299,
          5.660699844360352,
          5.632500171661377,
          5.63040018081665,
          5.568900108337402,
          5.558899879455566,
          5.525899887084961,
          5.522900104522705,
          5.466100215911865,
          5.360300064086914,
          5.341700077056885,
          5.329800128936768,
          5.329100131988525,
          5.308499813079834,
          5.277299880981445,
          5.276899814605713,
          5.274600028991699,
          5.267099857330322,
          5.253600120544434,
          5.210599899291992,
          5.1107001304626465,
          5.109099864959717,
          5.071700096130371,
          5.071400165557861,
          5.052700042724609,
          5.0346999168396,
          4.980599880218506,
          4.973199844360352,
          4.953999996185303,
          4.940899848937988,
          4.907800197601318,
          4.9028000831604,
          4.876299858093262,
          4.855100154876709,
          4.723899841308594,
          4.637599945068359,
          4.630799770355225,
          4.613500118255615,
          4.605000019073486,
          4.5553998947143555,
          4.501299858093262,
          4.496699810028076,
          4.486599922180176,
          4.4415998458862305,
          4.432499885559082,
          4.396599769592285,
          4.393499851226807,
          4.373700141906738,
          4.372499942779541,
          4.282100200653076,
          4.279399871826172,
          4.197800159454346,
          4.170499801635742,
          4.137400150299072,
          4.119800090789795,
          4.09060001373291,
          4.042300224304199,
          4.035799980163574,
          4.019100189208984,
          3.9821999073028564,
          3.6937999725341797,
          3.5452001094818115,
          3.4951999187469482,
          3.43530011177063,
          3.207200050354004,
          3.2035000324249268,
          3.1375999450683594,
          2.392199993133545,
          1.8589999675750732
         ]
        }
       ],
       "layout": {
        "coloraxis": {
         "colorbar": {
          "title": {
           "text": "Ladder score"
          }
         },
         "colorscale": [
          [
           0,
           "#0d0887"
          ],
          [
           0.1111111111111111,
           "#46039f"
          ],
          [
           0.2222222222222222,
           "#7201a8"
          ],
          [
           0.3333333333333333,
           "#9c179e"
          ],
          [
           0.4444444444444444,
           "#bd3786"
          ],
          [
           0.5555555555555556,
           "#d8576b"
          ],
          [
           0.6666666666666666,
           "#ed7953"
          ],
          [
           0.7777777777777778,
           "#fb9f3a"
          ],
          [
           0.8888888888888888,
           "#fdca26"
          ],
          [
           1,
           "#f0f921"
          ]
         ]
        },
        "geo": {
         "center": {},
         "domain": {
          "x": [
           0,
           1
          ],
          "y": [
           0,
           1
          ]
         }
        },
        "height": 800,
        "legend": {
         "tracegroupgap": 0
        },
        "template": {
         "data": {
          "bar": [
           {
            "error_x": {
             "color": "#2a3f5f"
            },
            "error_y": {
             "color": "#2a3f5f"
            },
            "marker": {
             "line": {
              "color": "#E5ECF6",
              "width": 0.5
             },
             "pattern": {
              "fillmode": "overlay",
              "size": 10,
              "solidity": 0.2
             }
            },
            "type": "bar"
           }
          ],
          "barpolar": [
           {
            "marker": {
             "line": {
              "color": "#E5ECF6",
              "width": 0.5
             },
             "pattern": {
              "fillmode": "overlay",
              "size": 10,
              "solidity": 0.2
             }
            },
            "type": "barpolar"
           }
          ],
          "carpet": [
           {
            "aaxis": {
             "endlinecolor": "#2a3f5f",
             "gridcolor": "white",
             "linecolor": "white",
             "minorgridcolor": "white",
             "startlinecolor": "#2a3f5f"
            },
            "baxis": {
             "endlinecolor": "#2a3f5f",
             "gridcolor": "white",
             "linecolor": "white",
             "minorgridcolor": "white",
             "startlinecolor": "#2a3f5f"
            },
            "type": "carpet"
           }
          ],
          "choropleth": [
           {
            "colorbar": {
             "outlinewidth": 0,
             "ticks": ""
            },
            "type": "choropleth"
           }
          ],
          "contour": [
           {
            "colorbar": {
             "outlinewidth": 0,
             "ticks": ""
            },
            "colorscale": [
             [
              0,
              "#0d0887"
             ],
             [
              0.1111111111111111,
              "#46039f"
             ],
             [
              0.2222222222222222,
              "#7201a8"
             ],
             [
              0.3333333333333333,
              "#9c179e"
             ],
             [
              0.4444444444444444,
              "#bd3786"
             ],
             [
              0.5555555555555556,
              "#d8576b"
             ],
             [
              0.6666666666666666,
              "#ed7953"
             ],
             [
              0.7777777777777778,
              "#fb9f3a"
             ],
             [
              0.8888888888888888,
              "#fdca26"
             ],
             [
              1,
              "#f0f921"
             ]
            ],
            "type": "contour"
           }
          ],
          "contourcarpet": [
           {
            "colorbar": {
             "outlinewidth": 0,
             "ticks": ""
            },
            "type": "contourcarpet"
           }
          ],
          "heatmap": [
           {
            "colorbar": {
             "outlinewidth": 0,
             "ticks": ""
            },
            "colorscale": [
             [
              0,
              "#0d0887"
             ],
             [
              0.1111111111111111,
              "#46039f"
             ],
             [
              0.2222222222222222,
              "#7201a8"
             ],
             [
              0.3333333333333333,
              "#9c179e"
             ],
             [
              0.4444444444444444,
              "#bd3786"
             ],
             [
              0.5555555555555556,
              "#d8576b"
             ],
             [
              0.6666666666666666,
              "#ed7953"
             ],
             [
              0.7777777777777778,
              "#fb9f3a"
             ],
             [
              0.8888888888888888,
              "#fdca26"
             ],
             [
              1,
              "#f0f921"
             ]
            ],
            "type": "heatmap"
           }
          ],
          "heatmapgl": [
           {
            "colorbar": {
             "outlinewidth": 0,
             "ticks": ""
            },
            "colorscale": [
             [
              0,
              "#0d0887"
             ],
             [
              0.1111111111111111,
              "#46039f"
             ],
             [
              0.2222222222222222,
              "#7201a8"
             ],
             [
              0.3333333333333333,
              "#9c179e"
             ],
             [
              0.4444444444444444,
              "#bd3786"
             ],
             [
              0.5555555555555556,
              "#d8576b"
             ],
             [
              0.6666666666666666,
              "#ed7953"
             ],
             [
              0.7777777777777778,
              "#fb9f3a"
             ],
             [
              0.8888888888888888,
              "#fdca26"
             ],
             [
              1,
              "#f0f921"
             ]
            ],
            "type": "heatmapgl"
           }
          ],
          "histogram": [
           {
            "marker": {
             "pattern": {
              "fillmode": "overlay",
              "size": 10,
              "solidity": 0.2
             }
            },
            "type": "histogram"
           }
          ],
          "histogram2d": [
           {
            "colorbar": {
             "outlinewidth": 0,
             "ticks": ""
            },
            "colorscale": [
             [
              0,
              "#0d0887"
             ],
             [
              0.1111111111111111,
              "#46039f"
             ],
             [
              0.2222222222222222,
              "#7201a8"
             ],
             [
              0.3333333333333333,
              "#9c179e"
             ],
             [
              0.4444444444444444,
              "#bd3786"
             ],
             [
              0.5555555555555556,
              "#d8576b"
             ],
             [
              0.6666666666666666,
              "#ed7953"
             ],
             [
              0.7777777777777778,
              "#fb9f3a"
             ],
             [
              0.8888888888888888,
              "#fdca26"
             ],
             [
              1,
              "#f0f921"
             ]
            ],
            "type": "histogram2d"
           }
          ],
          "histogram2dcontour": [
           {
            "colorbar": {
             "outlinewidth": 0,
             "ticks": ""
            },
            "colorscale": [
             [
              0,
              "#0d0887"
             ],
             [
              0.1111111111111111,
              "#46039f"
             ],
             [
              0.2222222222222222,
              "#7201a8"
             ],
             [
              0.3333333333333333,
              "#9c179e"
             ],
             [
              0.4444444444444444,
              "#bd3786"
             ],
             [
              0.5555555555555556,
              "#d8576b"
             ],
             [
              0.6666666666666666,
              "#ed7953"
             ],
             [
              0.7777777777777778,
              "#fb9f3a"
             ],
             [
              0.8888888888888888,
              "#fdca26"
             ],
             [
              1,
              "#f0f921"
             ]
            ],
            "type": "histogram2dcontour"
           }
          ],
          "mesh3d": [
           {
            "colorbar": {
             "outlinewidth": 0,
             "ticks": ""
            },
            "type": "mesh3d"
           }
          ],
          "parcoords": [
           {
            "line": {
             "colorbar": {
              "outlinewidth": 0,
              "ticks": ""
             }
            },
            "type": "parcoords"
           }
          ],
          "pie": [
           {
            "automargin": true,
            "type": "pie"
           }
          ],
          "scatter": [
           {
            "fillpattern": {
             "fillmode": "overlay",
             "size": 10,
             "solidity": 0.2
            },
            "type": "scatter"
           }
          ],
          "scatter3d": [
           {
            "line": {
             "colorbar": {
              "outlinewidth": 0,
              "ticks": ""
             }
            },
            "marker": {
             "colorbar": {
              "outlinewidth": 0,
              "ticks": ""
             }
            },
            "type": "scatter3d"
           }
          ],
          "scattercarpet": [
           {
            "marker": {
             "colorbar": {
              "outlinewidth": 0,
              "ticks": ""
             }
            },
            "type": "scattercarpet"
           }
          ],
          "scattergeo": [
           {
            "marker": {
             "colorbar": {
              "outlinewidth": 0,
              "ticks": ""
             }
            },
            "type": "scattergeo"
           }
          ],
          "scattergl": [
           {
            "marker": {
             "colorbar": {
              "outlinewidth": 0,
              "ticks": ""
             }
            },
            "type": "scattergl"
           }
          ],
          "scattermapbox": [
           {
            "marker": {
             "colorbar": {
              "outlinewidth": 0,
              "ticks": ""
             }
            },
            "type": "scattermapbox"
           }
          ],
          "scatterpolar": [
           {
            "marker": {
             "colorbar": {
              "outlinewidth": 0,
              "ticks": ""
             }
            },
            "type": "scatterpolar"
           }
          ],
          "scatterpolargl": [
           {
            "marker": {
             "colorbar": {
              "outlinewidth": 0,
              "ticks": ""
             }
            },
            "type": "scatterpolargl"
           }
          ],
          "scatterternary": [
           {
            "marker": {
             "colorbar": {
              "outlinewidth": 0,
              "ticks": ""
             }
            },
            "type": "scatterternary"
           }
          ],
          "surface": [
           {
            "colorbar": {
             "outlinewidth": 0,
             "ticks": ""
            },
            "colorscale": [
             [
              0,
              "#0d0887"
             ],
             [
              0.1111111111111111,
              "#46039f"
             ],
             [
              0.2222222222222222,
              "#7201a8"
             ],
             [
              0.3333333333333333,
              "#9c179e"
             ],
             [
              0.4444444444444444,
              "#bd3786"
             ],
             [
              0.5555555555555556,
              "#d8576b"
             ],
             [
              0.6666666666666666,
              "#ed7953"
             ],
             [
              0.7777777777777778,
              "#fb9f3a"
             ],
             [
              0.8888888888888888,
              "#fdca26"
             ],
             [
              1,
              "#f0f921"
             ]
            ],
            "type": "surface"
           }
          ],
          "table": [
           {
            "cells": {
             "fill": {
              "color": "#EBF0F8"
             },
             "line": {
              "color": "white"
             }
            },
            "header": {
             "fill": {
              "color": "#C8D4E3"
             },
             "line": {
              "color": "white"
             }
            },
            "type": "table"
           }
          ]
         },
         "layout": {
          "annotationdefaults": {
           "arrowcolor": "#2a3f5f",
           "arrowhead": 0,
           "arrowwidth": 1
          },
          "autotypenumbers": "strict",
          "coloraxis": {
           "colorbar": {
            "outlinewidth": 0,
            "ticks": ""
           }
          },
          "colorscale": {
           "diverging": [
            [
             0,
             "#8e0152"
            ],
            [
             0.1,
             "#c51b7d"
            ],
            [
             0.2,
             "#de77ae"
            ],
            [
             0.3,
             "#f1b6da"
            ],
            [
             0.4,
             "#fde0ef"
            ],
            [
             0.5,
             "#f7f7f7"
            ],
            [
             0.6,
             "#e6f5d0"
            ],
            [
             0.7,
             "#b8e186"
            ],
            [
             0.8,
             "#7fbc41"
            ],
            [
             0.9,
             "#4d9221"
            ],
            [
             1,
             "#276419"
            ]
           ],
           "sequential": [
            [
             0,
             "#0d0887"
            ],
            [
             0.1111111111111111,
             "#46039f"
            ],
            [
             0.2222222222222222,
             "#7201a8"
            ],
            [
             0.3333333333333333,
             "#9c179e"
            ],
            [
             0.4444444444444444,
             "#bd3786"
            ],
            [
             0.5555555555555556,
             "#d8576b"
            ],
            [
             0.6666666666666666,
             "#ed7953"
            ],
            [
             0.7777777777777778,
             "#fb9f3a"
            ],
            [
             0.8888888888888888,
             "#fdca26"
            ],
            [
             1,
             "#f0f921"
            ]
           ],
           "sequentialminus": [
            [
             0,
             "#0d0887"
            ],
            [
             0.1111111111111111,
             "#46039f"
            ],
            [
             0.2222222222222222,
             "#7201a8"
            ],
            [
             0.3333333333333333,
             "#9c179e"
            ],
            [
             0.4444444444444444,
             "#bd3786"
            ],
            [
             0.5555555555555556,
             "#d8576b"
            ],
            [
             0.6666666666666666,
             "#ed7953"
            ],
            [
             0.7777777777777778,
             "#fb9f3a"
            ],
            [
             0.8888888888888888,
             "#fdca26"
            ],
            [
             1,
             "#f0f921"
            ]
           ]
          },
          "colorway": [
           "#636efa",
           "#EF553B",
           "#00cc96",
           "#ab63fa",
           "#FFA15A",
           "#19d3f3",
           "#FF6692",
           "#B6E880",
           "#FF97FF",
           "#FECB52"
          ],
          "font": {
           "color": "#2a3f5f"
          },
          "geo": {
           "bgcolor": "white",
           "lakecolor": "white",
           "landcolor": "#E5ECF6",
           "showlakes": true,
           "showland": true,
           "subunitcolor": "white"
          },
          "hoverlabel": {
           "align": "left"
          },
          "hovermode": "closest",
          "mapbox": {
           "style": "light"
          },
          "paper_bgcolor": "white",
          "plot_bgcolor": "#E5ECF6",
          "polar": {
           "angularaxis": {
            "gridcolor": "white",
            "linecolor": "white",
            "ticks": ""
           },
           "bgcolor": "#E5ECF6",
           "radialaxis": {
            "gridcolor": "white",
            "linecolor": "white",
            "ticks": ""
           }
          },
          "scene": {
           "xaxis": {
            "backgroundcolor": "#E5ECF6",
            "gridcolor": "white",
            "gridwidth": 2,
            "linecolor": "white",
            "showbackground": true,
            "ticks": "",
            "zerolinecolor": "white"
           },
           "yaxis": {
            "backgroundcolor": "#E5ECF6",
            "gridcolor": "white",
            "gridwidth": 2,
            "linecolor": "white",
            "showbackground": true,
            "ticks": "",
            "zerolinecolor": "white"
           },
           "zaxis": {
            "backgroundcolor": "#E5ECF6",
            "gridcolor": "white",
            "gridwidth": 2,
            "linecolor": "white",
            "showbackground": true,
            "ticks": "",
            "zerolinecolor": "white"
           }
          },
          "shapedefaults": {
           "line": {
            "color": "#2a3f5f"
           }
          },
          "ternary": {
           "aaxis": {
            "gridcolor": "white",
            "linecolor": "white",
            "ticks": ""
           },
           "baxis": {
            "gridcolor": "white",
            "linecolor": "white",
            "ticks": ""
           },
           "bgcolor": "#E5ECF6",
           "caxis": {
            "gridcolor": "white",
            "linecolor": "white",
            "ticks": ""
           }
          },
          "title": {
           "x": 0.05
          },
          "xaxis": {
           "automargin": true,
           "gridcolor": "white",
           "linecolor": "white",
           "ticks": "",
           "title": {
            "standoff": 15
           },
           "zerolinecolor": "white",
           "zerolinewidth": 2
          },
          "yaxis": {
           "automargin": true,
           "gridcolor": "white",
           "linecolor": "white",
           "ticks": "",
           "title": {
            "standoff": 15
           },
           "zerolinecolor": "white",
           "zerolinewidth": 2
          }
         }
        },
        "title": {
         "text": "World Happiness Report 2023"
        }
       }
      }
     },
     "metadata": {},
     "output_type": "display_data"
    }
   ],
   "source": [
    "px.choropleth(data, locations='Country name', locationmode='country names', color='Ladder score', title='World Happiness Report 2023', height=800)"
   ]
  },
  {
   "attachments": {},
   "cell_type": "markdown",
   "metadata": {},
   "source": [
    "What observations can you make about world happiness based on the map above?\n",
    "\n",
    "The code below will generate a scatter plot with the data. The country will be on the x-axis with the happiness score on the y-axis. The size of each dot represents the amount of social support and the colour represents the life expectancy. \n"
   ]
  },
  {
   "cell_type": "code",
   "execution_count": 8,
   "metadata": {},
   "outputs": [
    {
     "data": {
      "application/vnd.plotly.v1+json": {
       "config": {
        "plotlyServerURL": "https://plot.ly"
       },
       "data": [
        {
         "hovertemplate": "Country name=%{x}<br>Ladder score=%{y}<br>Social support=%{marker.size}<br>Healthy life expectancy=%{marker.color}<extra></extra>",
         "legendgroup": "",
         "marker": {
          "color": [
           71.14999389648438,
           71.2501449584961,
           72.05001831054688,
           72.69720458984375,
           71.55001831054688,
           72.15015411376953,
           71.5000228881836,
           72.89995574951172,
           71.67500305175781,
           70.35005187988281,
           71.1500473022461,
           71.04994201660156,
           71.40003967285156,
           71.29995727539062,
           65.85025024414062,
           71.29983520507812,
           70.89908599853516,
           69.04974365234375,
           70.30000305175781,
           67.3969955444336,
           72.30005645751953,
           71.05184936523438,
           70,
           67.05085754394531,
           73.80000305175781,
           66.24315643310547,
           69.5999984741211,
           67.5,
           68.83783721923828,
           64.39929962158203,
           69.6501693725586,
           72.3499755859375,
           72.05000305175781,
           65.19499206542969,
           70.2998275756836,
           65.80000305175781,
           71.60003662109375,
           68.95027160644531,
           69.04891967773438,
           65.64956665039062,
           66.4003677368164,
           65.82499694824219,
           62.900001525878906,
           65.8017349243164,
           67.08761596679688,
           72.80194091796875,
           74.3494644165039,
           68.94998168945312,
           65.74871063232422,
           65.59691619873047,
           67.50045013427734,
           67.20008087158203,
           64.0630111694336,
           65.3005142211914,
           65.66233825683594,
           71.25039672851562,
           73.65018463134766,
           71.14976501464844,
           63.85012435913086,
           68.44964599609375,
           60.49993133544922,
           66.85247039794922,
           65.29906463623047,
           68.68879699707031,
           65.5024185180664,
           65.89987182617188,
           67.0999984741211,
           66.5999984741211,
           63.598941802978516,
           64.947265625,
           67.27503204345703,
           69.34968566894531,
           64.39896392822266,
           69.0002212524414,
           69.84983825683594,
           62.03751754760742,
           66.49977111816406,
           61.84700012207031,
           67.78897094726562,
           62.225528717041016,
           66.54923248291016,
           77.27977752685547,
           69.15007019042969,
           63.04774475097656,
           56.98897171020508,
           56.85004425048828,
           66.50035095214844,
           64.04983520507812,
           60.945587158203125,
           64.95006561279297,
           54.185394287109375,
           64.5501708984375,
           55.95271301269531,
           58.25178909301758,
           54.89082717895508,
           55.847137451171875,
           51.53021240234375,
           63.41473388671875,
           null,
           63.90077590942383,
           66.59994506835938,
           59.998931884765625,
           60.474998474121094,
           55.461307525634766,
           56.8513298034668,
           68.6626968383789,
           58.76277542114258,
           57.3125,
           56.54999923706055,
           67.00008392333984,
           58.49850845336914,
           67.14990234375,
           58.91272735595703,
           53.125,
           61.89963150024414,
           56.09510040283203,
           61.38812255859375,
           64.54842376708984,
           57.900001525878906,
           55.40291976928711,
           63.50303649902344,
           57.44898223876953,
           67.5999984741211,
           60.69827651977539,
           56.70000076293945,
           60.77688217163086,
           58.04999923706055,
           55.03213882446289,
           59.401485443115234,
           59.42499923706055,
           58.475345611572266,
           54.724998474121094,
           55.375,
           54.049888610839844,
           54.89985275268555,
           66.14881896972656,
           54.71240997314453
          ],
          "coloraxis": "coloraxis",
          "size": [
           0.9687696099281311,
           0.9541122317314148,
           0.9825330972671509,
           0.943343997001648,
           0.9304993152618408,
           0.9392486810684204,
           0.9434765577316284,
           0.9204392433166504,
           0.878500759601593,
           0.9523983597755432,
           0.8884358406066895,
           0.9338704347610474,
           0.9287933111190796,
           0.905368447303772,
           0.9191621541976929,
           0.8959547877311707,
           0.9148709774017334,
           0.9525779485702515,
           0.8822047114372253,
           0.9393466114997864,
           0.9088037610054016,
           0.9505247473716736,
           0.8716379404067993,
           0.8479619026184082,
           0.8775396943092346,
           0.825512707233429,
           0.88442462682724,
           0.9132089614868164,
           0.9525606036186218,
           0.8838691711425781,
           0.945625901222229,
           0.9317399263381958,
           0.881569504737854,
           0.8437927961349487,
           0.8891310691833496,
           0.8040080666542053,
           0.9226775169372559,
           0.8963010907173157,
           0.9250565767288208,
           0.8528122305870056,
           0.9371284246444702,
           0.8438454270362854,
           0.8117339015007019,
           0.9314469695091248,
           0.8730476498603821,
           0.8260807394981384,
           0.8941164612770081,
           0.9171806573867798,
           0.836276650428772,
           0.7547428011894226,
           0.9426373243331909,
           0.8908900618553162,
           0.7655693888664246,
           0.874754011631012,
           0.7986076474189758,
           0.877972424030304,
           0.8116115927696228,
           0.8349514007568359,
           0.888333261013031,
           0.8735074400901794,
           0.9328268766403198,
           0.911150336265564,
           0.8566350340843201,
           0.8356984853744507,
           0.8211429715156555,
           0.9060643315315247,
           0.8896059989929199,
           0.8673140406608582,
           0.8113415241241455,
           0.8886616826057434,
           0.8803004622459412,
           0.8216689825057983,
           0.8270636200904846,
           0.8057536482810974,
           0.7979649901390076,
           0.7799321413040161,
           0.9182446599006653,
           0.7478566765785217,
           0.7902310490608215,
           0.8355719447135925,
           0.8552190065383911,
           0.8169247508049011,
           0.7179091572761536,
           0.803985059261322,
           0.906631350517273,
           0.6046052575111389,
           0.8047484159469604,
           0.8388254046440125,
           0.6789469718933105,
           0.7161714434623718,
           0.6486329436302185,
           0.8775262236595154,
           0.5723483562469482,
           0.7455086708068848,
           0.739812433719635,
           0.6862311959266663,
           0.6918163299560547,
           0.7184528112411499,
           0.8594945073127747,
           0.5531101226806641,
           0.777547299861908,
           0.6292861104011536,
           0.6438930630683899,
           0.6634751558303833,
           0.7869246602058411,
           0.7957817316055298,
           0.6406720876693726,
           0.6013326644897461,
           0.5900665521621704,
           0.7297623753547668,
           0.6900045871734619,
           0.8259633183479309,
           0.7940431237220764,
           0.7220418453216553,
           0.7465294599533081,
           0.43707209825515747,
           0.7867182493209839,
           0.5444689989089966,
           0.5842756032943726,
           0.5934811234474182,
           0.726098895072937,
           0.5953555107116699,
           0.7292184233665466,
           0.7824801206588745,
           0.5963802337646484,
           0.6082374453544617,
           0.6498976349830627,
           0.6935360431671143,
           0.652874767780304,
           0.47072526812553406,
           0.5307964086532593,
           0.753311276435852,
           0.6516097784042358,
           0.6899175047874451,
           0.5552510619163513,
           0.5297536849975586,
           0.3413406312465668
          ],
          "sizemode": "area",
          "sizeref": 0.0024563327431678774,
          "symbol": "circle"
         },
         "mode": "markers",
         "name": "",
         "orientation": "v",
         "showlegend": false,
         "type": "scatter",
         "x": [
          "Finland",
          "Denmark",
          "Iceland",
          "Israel",
          "Netherlands",
          "Sweden",
          "Norway",
          "Switzerland",
          "Luxembourg",
          "New Zealand",
          "Austria",
          "Australia",
          "Canada",
          "Ireland",
          "United States",
          "Germany",
          "Belgium",
          "Czechia",
          "United Kingdom",
          "Lithuania",
          "France",
          "Slovenia",
          "Costa Rica",
          "Romania",
          "Singapore",
          "United Arab Emirates",
          "Taiwan Province of China",
          "Uruguay",
          "Slovakia",
          "Saudi Arabia",
          "Estonia",
          "Spain",
          "Italy",
          "Kosovo",
          "Chile",
          "Mexico",
          "Malta",
          "Panama",
          "Poland",
          "Nicaragua",
          "Latvia",
          "Bahrain",
          "Guatemala",
          "Kazakhstan",
          "Serbia",
          "Cyprus",
          "Japan",
          "Croatia",
          "Brazil",
          "El Salvador",
          "Hungary",
          "Argentina",
          "Honduras",
          "Uzbekistan",
          "Malaysia",
          "Portugal",
          "South Korea",
          "Greece",
          "Mauritius",
          "Thailand",
          "Mongolia",
          "Kyrgyzstan",
          "Moldova",
          "China",
          "Vietnam",
          "Paraguay",
          "Montenegro",
          "Jamaica",
          "Bolivia",
          "Russia",
          "Bosnia and Herzegovina",
          "Colombia",
          "Dominican Republic",
          "Ecuador",
          "Peru",
          "Philippines",
          "Bulgaria",
          "Nepal",
          "Armenia",
          "Tajikistan",
          "Algeria",
          "Hong Kong S.A.R. of China",
          "Albania",
          "Indonesia",
          "South Africa",
          "Congo (Brazzaville)",
          "North Macedonia",
          "Venezuela",
          "Laos",
          "Georgia",
          "Guinea",
          "Ukraine",
          "Ivory Coast",
          "Gabon",
          "Nigeria",
          "Cameroon",
          "Mozambique",
          "Iraq",
          "State of Palestine",
          "Morocco",
          "Iran",
          "Senegal",
          "Mauritania",
          "Burkina Faso",
          "Namibia",
          "Turkiye",
          "Ghana",
          "Pakistan",
          "Niger",
          "Tunisia",
          "Kenya",
          "Sri Lanka",
          "Uganda",
          "Chad",
          "Cambodia",
          "Benin",
          "Myanmar",
          "Bangladesh",
          "Gambia",
          "Mali",
          "Egypt",
          "Togo",
          "Jordan",
          "Ethiopia",
          "Liberia",
          "India",
          "Madagascar",
          "Zambia",
          "Tanzania",
          "Comoros",
          "Malawi",
          "Botswana",
          "Congo (Kinshasa)",
          "Zimbabwe",
          "Sierra Leone",
          "Lebanon",
          "Afghanistan"
         ],
         "xaxis": "x",
         "y": [
          7.804200172424316,
          7.586400032043457,
          7.529600143432617,
          7.472899913787842,
          7.4029998779296875,
          7.395199775695801,
          7.315499782562256,
          7.240099906921387,
          7.22790002822876,
          7.122900009155273,
          7.097300052642822,
          7.094600200653076,
          6.960700035095215,
          6.910799980163574,
          6.893700122833252,
          6.8917999267578125,
          6.859099864959717,
          6.845200061798096,
          6.795599937438965,
          6.763000011444092,
          6.661300182342529,
          6.649899959564209,
          6.608500003814697,
          6.589099884033203,
          6.586699962615967,
          6.571199893951416,
          6.535399913787842,
          6.493899822235107,
          6.468599796295166,
          6.462600231170654,
          6.4552001953125,
          6.436200141906738,
          6.4045000076293945,
          6.367599964141846,
          6.333799839019775,
          6.329500198364258,
          6.299900054931641,
          6.264500141143799,
          6.259699821472168,
          6.258800029754639,
          6.212699890136719,
          6.1732001304626465,
          6.150300025939941,
          6.143899917602539,
          6.143599987030029,
          6.130000114440918,
          6.129000186920166,
          6.125,
          6.124599933624268,
          6.121600151062012,
          6.041200160980225,
          6.02370023727417,
          6.022500038146973,
          6.0142998695373535,
          6.01230001449585,
          5.9679999351501465,
          5.951099872589111,
          5.9309000968933105,
          5.902299880981445,
          5.8429999351501465,
          5.840199947357178,
          5.825300216674805,
          5.819200038909912,
          5.81790018081665,
          5.763299942016602,
          5.737800121307373,
          5.7221999168396,
          5.702700138092041,
          5.684299945831299,
          5.660699844360352,
          5.632500171661377,
          5.63040018081665,
          5.568900108337402,
          5.558899879455566,
          5.525899887084961,
          5.522900104522705,
          5.466100215911865,
          5.360300064086914,
          5.341700077056885,
          5.329800128936768,
          5.329100131988525,
          5.308499813079834,
          5.277299880981445,
          5.276899814605713,
          5.274600028991699,
          5.267099857330322,
          5.253600120544434,
          5.210599899291992,
          5.1107001304626465,
          5.109099864959717,
          5.071700096130371,
          5.071400165557861,
          5.052700042724609,
          5.0346999168396,
          4.980599880218506,
          4.973199844360352,
          4.953999996185303,
          4.940899848937988,
          4.907800197601318,
          4.9028000831604,
          4.876299858093262,
          4.855100154876709,
          4.723899841308594,
          4.637599945068359,
          4.630799770355225,
          4.613500118255615,
          4.605000019073486,
          4.5553998947143555,
          4.501299858093262,
          4.496699810028076,
          4.486599922180176,
          4.4415998458862305,
          4.432499885559082,
          4.396599769592285,
          4.393499851226807,
          4.373700141906738,
          4.372499942779541,
          4.282100200653076,
          4.279399871826172,
          4.197800159454346,
          4.170499801635742,
          4.137400150299072,
          4.119800090789795,
          4.09060001373291,
          4.042300224304199,
          4.035799980163574,
          4.019100189208984,
          3.9821999073028564,
          3.6937999725341797,
          3.5452001094818115,
          3.4951999187469482,
          3.43530011177063,
          3.207200050354004,
          3.2035000324249268,
          3.1375999450683594,
          2.392199993133545,
          1.8589999675750732
         ],
         "yaxis": "y"
        }
       ],
       "layout": {
        "coloraxis": {
         "colorbar": {
          "title": {
           "text": "Healthy life expectancy"
          }
         },
         "colorscale": [
          [
           0,
           "#0d0887"
          ],
          [
           0.1111111111111111,
           "#46039f"
          ],
          [
           0.2222222222222222,
           "#7201a8"
          ],
          [
           0.3333333333333333,
           "#9c179e"
          ],
          [
           0.4444444444444444,
           "#bd3786"
          ],
          [
           0.5555555555555556,
           "#d8576b"
          ],
          [
           0.6666666666666666,
           "#ed7953"
          ],
          [
           0.7777777777777778,
           "#fb9f3a"
          ],
          [
           0.8888888888888888,
           "#fdca26"
          ],
          [
           1,
           "#f0f921"
          ]
         ]
        },
        "height": 800,
        "legend": {
         "itemsizing": "constant",
         "tracegroupgap": 0
        },
        "template": {
         "data": {
          "bar": [
           {
            "error_x": {
             "color": "#2a3f5f"
            },
            "error_y": {
             "color": "#2a3f5f"
            },
            "marker": {
             "line": {
              "color": "#E5ECF6",
              "width": 0.5
             },
             "pattern": {
              "fillmode": "overlay",
              "size": 10,
              "solidity": 0.2
             }
            },
            "type": "bar"
           }
          ],
          "barpolar": [
           {
            "marker": {
             "line": {
              "color": "#E5ECF6",
              "width": 0.5
             },
             "pattern": {
              "fillmode": "overlay",
              "size": 10,
              "solidity": 0.2
             }
            },
            "type": "barpolar"
           }
          ],
          "carpet": [
           {
            "aaxis": {
             "endlinecolor": "#2a3f5f",
             "gridcolor": "white",
             "linecolor": "white",
             "minorgridcolor": "white",
             "startlinecolor": "#2a3f5f"
            },
            "baxis": {
             "endlinecolor": "#2a3f5f",
             "gridcolor": "white",
             "linecolor": "white",
             "minorgridcolor": "white",
             "startlinecolor": "#2a3f5f"
            },
            "type": "carpet"
           }
          ],
          "choropleth": [
           {
            "colorbar": {
             "outlinewidth": 0,
             "ticks": ""
            },
            "type": "choropleth"
           }
          ],
          "contour": [
           {
            "colorbar": {
             "outlinewidth": 0,
             "ticks": ""
            },
            "colorscale": [
             [
              0,
              "#0d0887"
             ],
             [
              0.1111111111111111,
              "#46039f"
             ],
             [
              0.2222222222222222,
              "#7201a8"
             ],
             [
              0.3333333333333333,
              "#9c179e"
             ],
             [
              0.4444444444444444,
              "#bd3786"
             ],
             [
              0.5555555555555556,
              "#d8576b"
             ],
             [
              0.6666666666666666,
              "#ed7953"
             ],
             [
              0.7777777777777778,
              "#fb9f3a"
             ],
             [
              0.8888888888888888,
              "#fdca26"
             ],
             [
              1,
              "#f0f921"
             ]
            ],
            "type": "contour"
           }
          ],
          "contourcarpet": [
           {
            "colorbar": {
             "outlinewidth": 0,
             "ticks": ""
            },
            "type": "contourcarpet"
           }
          ],
          "heatmap": [
           {
            "colorbar": {
             "outlinewidth": 0,
             "ticks": ""
            },
            "colorscale": [
             [
              0,
              "#0d0887"
             ],
             [
              0.1111111111111111,
              "#46039f"
             ],
             [
              0.2222222222222222,
              "#7201a8"
             ],
             [
              0.3333333333333333,
              "#9c179e"
             ],
             [
              0.4444444444444444,
              "#bd3786"
             ],
             [
              0.5555555555555556,
              "#d8576b"
             ],
             [
              0.6666666666666666,
              "#ed7953"
             ],
             [
              0.7777777777777778,
              "#fb9f3a"
             ],
             [
              0.8888888888888888,
              "#fdca26"
             ],
             [
              1,
              "#f0f921"
             ]
            ],
            "type": "heatmap"
           }
          ],
          "heatmapgl": [
           {
            "colorbar": {
             "outlinewidth": 0,
             "ticks": ""
            },
            "colorscale": [
             [
              0,
              "#0d0887"
             ],
             [
              0.1111111111111111,
              "#46039f"
             ],
             [
              0.2222222222222222,
              "#7201a8"
             ],
             [
              0.3333333333333333,
              "#9c179e"
             ],
             [
              0.4444444444444444,
              "#bd3786"
             ],
             [
              0.5555555555555556,
              "#d8576b"
             ],
             [
              0.6666666666666666,
              "#ed7953"
             ],
             [
              0.7777777777777778,
              "#fb9f3a"
             ],
             [
              0.8888888888888888,
              "#fdca26"
             ],
             [
              1,
              "#f0f921"
             ]
            ],
            "type": "heatmapgl"
           }
          ],
          "histogram": [
           {
            "marker": {
             "pattern": {
              "fillmode": "overlay",
              "size": 10,
              "solidity": 0.2
             }
            },
            "type": "histogram"
           }
          ],
          "histogram2d": [
           {
            "colorbar": {
             "outlinewidth": 0,
             "ticks": ""
            },
            "colorscale": [
             [
              0,
              "#0d0887"
             ],
             [
              0.1111111111111111,
              "#46039f"
             ],
             [
              0.2222222222222222,
              "#7201a8"
             ],
             [
              0.3333333333333333,
              "#9c179e"
             ],
             [
              0.4444444444444444,
              "#bd3786"
             ],
             [
              0.5555555555555556,
              "#d8576b"
             ],
             [
              0.6666666666666666,
              "#ed7953"
             ],
             [
              0.7777777777777778,
              "#fb9f3a"
             ],
             [
              0.8888888888888888,
              "#fdca26"
             ],
             [
              1,
              "#f0f921"
             ]
            ],
            "type": "histogram2d"
           }
          ],
          "histogram2dcontour": [
           {
            "colorbar": {
             "outlinewidth": 0,
             "ticks": ""
            },
            "colorscale": [
             [
              0,
              "#0d0887"
             ],
             [
              0.1111111111111111,
              "#46039f"
             ],
             [
              0.2222222222222222,
              "#7201a8"
             ],
             [
              0.3333333333333333,
              "#9c179e"
             ],
             [
              0.4444444444444444,
              "#bd3786"
             ],
             [
              0.5555555555555556,
              "#d8576b"
             ],
             [
              0.6666666666666666,
              "#ed7953"
             ],
             [
              0.7777777777777778,
              "#fb9f3a"
             ],
             [
              0.8888888888888888,
              "#fdca26"
             ],
             [
              1,
              "#f0f921"
             ]
            ],
            "type": "histogram2dcontour"
           }
          ],
          "mesh3d": [
           {
            "colorbar": {
             "outlinewidth": 0,
             "ticks": ""
            },
            "type": "mesh3d"
           }
          ],
          "parcoords": [
           {
            "line": {
             "colorbar": {
              "outlinewidth": 0,
              "ticks": ""
             }
            },
            "type": "parcoords"
           }
          ],
          "pie": [
           {
            "automargin": true,
            "type": "pie"
           }
          ],
          "scatter": [
           {
            "fillpattern": {
             "fillmode": "overlay",
             "size": 10,
             "solidity": 0.2
            },
            "type": "scatter"
           }
          ],
          "scatter3d": [
           {
            "line": {
             "colorbar": {
              "outlinewidth": 0,
              "ticks": ""
             }
            },
            "marker": {
             "colorbar": {
              "outlinewidth": 0,
              "ticks": ""
             }
            },
            "type": "scatter3d"
           }
          ],
          "scattercarpet": [
           {
            "marker": {
             "colorbar": {
              "outlinewidth": 0,
              "ticks": ""
             }
            },
            "type": "scattercarpet"
           }
          ],
          "scattergeo": [
           {
            "marker": {
             "colorbar": {
              "outlinewidth": 0,
              "ticks": ""
             }
            },
            "type": "scattergeo"
           }
          ],
          "scattergl": [
           {
            "marker": {
             "colorbar": {
              "outlinewidth": 0,
              "ticks": ""
             }
            },
            "type": "scattergl"
           }
          ],
          "scattermapbox": [
           {
            "marker": {
             "colorbar": {
              "outlinewidth": 0,
              "ticks": ""
             }
            },
            "type": "scattermapbox"
           }
          ],
          "scatterpolar": [
           {
            "marker": {
             "colorbar": {
              "outlinewidth": 0,
              "ticks": ""
             }
            },
            "type": "scatterpolar"
           }
          ],
          "scatterpolargl": [
           {
            "marker": {
             "colorbar": {
              "outlinewidth": 0,
              "ticks": ""
             }
            },
            "type": "scatterpolargl"
           }
          ],
          "scatterternary": [
           {
            "marker": {
             "colorbar": {
              "outlinewidth": 0,
              "ticks": ""
             }
            },
            "type": "scatterternary"
           }
          ],
          "surface": [
           {
            "colorbar": {
             "outlinewidth": 0,
             "ticks": ""
            },
            "colorscale": [
             [
              0,
              "#0d0887"
             ],
             [
              0.1111111111111111,
              "#46039f"
             ],
             [
              0.2222222222222222,
              "#7201a8"
             ],
             [
              0.3333333333333333,
              "#9c179e"
             ],
             [
              0.4444444444444444,
              "#bd3786"
             ],
             [
              0.5555555555555556,
              "#d8576b"
             ],
             [
              0.6666666666666666,
              "#ed7953"
             ],
             [
              0.7777777777777778,
              "#fb9f3a"
             ],
             [
              0.8888888888888888,
              "#fdca26"
             ],
             [
              1,
              "#f0f921"
             ]
            ],
            "type": "surface"
           }
          ],
          "table": [
           {
            "cells": {
             "fill": {
              "color": "#EBF0F8"
             },
             "line": {
              "color": "white"
             }
            },
            "header": {
             "fill": {
              "color": "#C8D4E3"
             },
             "line": {
              "color": "white"
             }
            },
            "type": "table"
           }
          ]
         },
         "layout": {
          "annotationdefaults": {
           "arrowcolor": "#2a3f5f",
           "arrowhead": 0,
           "arrowwidth": 1
          },
          "autotypenumbers": "strict",
          "coloraxis": {
           "colorbar": {
            "outlinewidth": 0,
            "ticks": ""
           }
          },
          "colorscale": {
           "diverging": [
            [
             0,
             "#8e0152"
            ],
            [
             0.1,
             "#c51b7d"
            ],
            [
             0.2,
             "#de77ae"
            ],
            [
             0.3,
             "#f1b6da"
            ],
            [
             0.4,
             "#fde0ef"
            ],
            [
             0.5,
             "#f7f7f7"
            ],
            [
             0.6,
             "#e6f5d0"
            ],
            [
             0.7,
             "#b8e186"
            ],
            [
             0.8,
             "#7fbc41"
            ],
            [
             0.9,
             "#4d9221"
            ],
            [
             1,
             "#276419"
            ]
           ],
           "sequential": [
            [
             0,
             "#0d0887"
            ],
            [
             0.1111111111111111,
             "#46039f"
            ],
            [
             0.2222222222222222,
             "#7201a8"
            ],
            [
             0.3333333333333333,
             "#9c179e"
            ],
            [
             0.4444444444444444,
             "#bd3786"
            ],
            [
             0.5555555555555556,
             "#d8576b"
            ],
            [
             0.6666666666666666,
             "#ed7953"
            ],
            [
             0.7777777777777778,
             "#fb9f3a"
            ],
            [
             0.8888888888888888,
             "#fdca26"
            ],
            [
             1,
             "#f0f921"
            ]
           ],
           "sequentialminus": [
            [
             0,
             "#0d0887"
            ],
            [
             0.1111111111111111,
             "#46039f"
            ],
            [
             0.2222222222222222,
             "#7201a8"
            ],
            [
             0.3333333333333333,
             "#9c179e"
            ],
            [
             0.4444444444444444,
             "#bd3786"
            ],
            [
             0.5555555555555556,
             "#d8576b"
            ],
            [
             0.6666666666666666,
             "#ed7953"
            ],
            [
             0.7777777777777778,
             "#fb9f3a"
            ],
            [
             0.8888888888888888,
             "#fdca26"
            ],
            [
             1,
             "#f0f921"
            ]
           ]
          },
          "colorway": [
           "#636efa",
           "#EF553B",
           "#00cc96",
           "#ab63fa",
           "#FFA15A",
           "#19d3f3",
           "#FF6692",
           "#B6E880",
           "#FF97FF",
           "#FECB52"
          ],
          "font": {
           "color": "#2a3f5f"
          },
          "geo": {
           "bgcolor": "white",
           "lakecolor": "white",
           "landcolor": "#E5ECF6",
           "showlakes": true,
           "showland": true,
           "subunitcolor": "white"
          },
          "hoverlabel": {
           "align": "left"
          },
          "hovermode": "closest",
          "mapbox": {
           "style": "light"
          },
          "paper_bgcolor": "white",
          "plot_bgcolor": "#E5ECF6",
          "polar": {
           "angularaxis": {
            "gridcolor": "white",
            "linecolor": "white",
            "ticks": ""
           },
           "bgcolor": "#E5ECF6",
           "radialaxis": {
            "gridcolor": "white",
            "linecolor": "white",
            "ticks": ""
           }
          },
          "scene": {
           "xaxis": {
            "backgroundcolor": "#E5ECF6",
            "gridcolor": "white",
            "gridwidth": 2,
            "linecolor": "white",
            "showbackground": true,
            "ticks": "",
            "zerolinecolor": "white"
           },
           "yaxis": {
            "backgroundcolor": "#E5ECF6",
            "gridcolor": "white",
            "gridwidth": 2,
            "linecolor": "white",
            "showbackground": true,
            "ticks": "",
            "zerolinecolor": "white"
           },
           "zaxis": {
            "backgroundcolor": "#E5ECF6",
            "gridcolor": "white",
            "gridwidth": 2,
            "linecolor": "white",
            "showbackground": true,
            "ticks": "",
            "zerolinecolor": "white"
           }
          },
          "shapedefaults": {
           "line": {
            "color": "#2a3f5f"
           }
          },
          "ternary": {
           "aaxis": {
            "gridcolor": "white",
            "linecolor": "white",
            "ticks": ""
           },
           "baxis": {
            "gridcolor": "white",
            "linecolor": "white",
            "ticks": ""
           },
           "bgcolor": "#E5ECF6",
           "caxis": {
            "gridcolor": "white",
            "linecolor": "white",
            "ticks": ""
           }
          },
          "title": {
           "x": 0.05
          },
          "xaxis": {
           "automargin": true,
           "gridcolor": "white",
           "linecolor": "white",
           "ticks": "",
           "title": {
            "standoff": 15
           },
           "zerolinecolor": "white",
           "zerolinewidth": 2
          },
          "yaxis": {
           "automargin": true,
           "gridcolor": "white",
           "linecolor": "white",
           "ticks": "",
           "title": {
            "standoff": 15
           },
           "zerolinecolor": "white",
           "zerolinewidth": 2
          }
         }
        },
        "title": {
         "text": "World Happiness Report 2023"
        },
        "xaxis": {
         "anchor": "y",
         "domain": [
          0,
          1
         ],
         "title": {
          "text": "Country name"
         }
        },
        "yaxis": {
         "anchor": "x",
         "domain": [
          0,
          1
         ],
         "title": {
          "text": "Ladder score"
         }
        }
       }
      }
     },
     "metadata": {},
     "output_type": "display_data"
    }
   ],
   "source": [
    "px.scatter(data, x='Country name', y='Ladder score', size='Social support', color='Healthy life expectancy', title='World Happiness Report 2023', height=800)"
   ]
  },
  {
   "attachments": {},
   "cell_type": "markdown",
   "metadata": {},
   "source": [
    "We can also generate individual scatter plots for each of the factors, with trendlines, to see how they correlate to the happiness score. In the visualizations below the happiness score is on the y axis. "
   ]
  },
  {
   "cell_type": "code",
   "execution_count": 9,
   "metadata": {},
   "outputs": [
    {
     "data": {
      "application/vnd.plotly.v1+json": {
       "config": {
        "plotlyServerURL": "https://plot.ly"
       },
       "data": [
        {
         "customdata": [
          [
           "Finland"
          ],
          [
           "Denmark"
          ],
          [
           "Iceland"
          ],
          [
           "Israel"
          ],
          [
           "Netherlands"
          ],
          [
           "Sweden"
          ],
          [
           "Norway"
          ],
          [
           "Switzerland"
          ],
          [
           "Luxembourg"
          ],
          [
           "New Zealand"
          ],
          [
           "Austria"
          ],
          [
           "Australia"
          ],
          [
           "Canada"
          ],
          [
           "Ireland"
          ],
          [
           "United States"
          ],
          [
           "Germany"
          ],
          [
           "Belgium"
          ],
          [
           "Czechia"
          ],
          [
           "United Kingdom"
          ],
          [
           "Lithuania"
          ],
          [
           "France"
          ],
          [
           "Slovenia"
          ],
          [
           "Costa Rica"
          ],
          [
           "Romania"
          ],
          [
           "Singapore"
          ],
          [
           "United Arab Emirates"
          ],
          [
           "Taiwan Province of China"
          ],
          [
           "Uruguay"
          ],
          [
           "Slovakia"
          ],
          [
           "Saudi Arabia"
          ],
          [
           "Estonia"
          ],
          [
           "Spain"
          ],
          [
           "Italy"
          ],
          [
           "Kosovo"
          ],
          [
           "Chile"
          ],
          [
           "Mexico"
          ],
          [
           "Malta"
          ],
          [
           "Panama"
          ],
          [
           "Poland"
          ],
          [
           "Nicaragua"
          ],
          [
           "Latvia"
          ],
          [
           "Bahrain"
          ],
          [
           "Guatemala"
          ],
          [
           "Kazakhstan"
          ],
          [
           "Serbia"
          ],
          [
           "Cyprus"
          ],
          [
           "Japan"
          ],
          [
           "Croatia"
          ],
          [
           "Brazil"
          ],
          [
           "El Salvador"
          ],
          [
           "Hungary"
          ],
          [
           "Argentina"
          ],
          [
           "Honduras"
          ],
          [
           "Uzbekistan"
          ],
          [
           "Malaysia"
          ],
          [
           "Portugal"
          ],
          [
           "South Korea"
          ],
          [
           "Greece"
          ],
          [
           "Mauritius"
          ],
          [
           "Thailand"
          ],
          [
           "Mongolia"
          ],
          [
           "Kyrgyzstan"
          ],
          [
           "Moldova"
          ],
          [
           "China"
          ],
          [
           "Vietnam"
          ],
          [
           "Paraguay"
          ],
          [
           "Montenegro"
          ],
          [
           "Jamaica"
          ],
          [
           "Bolivia"
          ],
          [
           "Russia"
          ],
          [
           "Bosnia and Herzegovina"
          ],
          [
           "Colombia"
          ],
          [
           "Dominican Republic"
          ],
          [
           "Ecuador"
          ],
          [
           "Peru"
          ],
          [
           "Philippines"
          ],
          [
           "Bulgaria"
          ],
          [
           "Nepal"
          ],
          [
           "Armenia"
          ],
          [
           "Tajikistan"
          ],
          [
           "Algeria"
          ],
          [
           "Hong Kong S.A.R. of China"
          ],
          [
           "Albania"
          ],
          [
           "Indonesia"
          ],
          [
           "South Africa"
          ],
          [
           "Congo (Brazzaville)"
          ],
          [
           "North Macedonia"
          ],
          [
           "Venezuela"
          ],
          [
           "Laos"
          ],
          [
           "Georgia"
          ],
          [
           "Guinea"
          ],
          [
           "Ukraine"
          ],
          [
           "Ivory Coast"
          ],
          [
           "Gabon"
          ],
          [
           "Nigeria"
          ],
          [
           "Cameroon"
          ],
          [
           "Mozambique"
          ],
          [
           "Iraq"
          ],
          [
           "State of Palestine"
          ],
          [
           "Morocco"
          ],
          [
           "Iran"
          ],
          [
           "Senegal"
          ],
          [
           "Mauritania"
          ],
          [
           "Burkina Faso"
          ],
          [
           "Namibia"
          ],
          [
           "Turkiye"
          ],
          [
           "Ghana"
          ],
          [
           "Pakistan"
          ],
          [
           "Niger"
          ],
          [
           "Tunisia"
          ],
          [
           "Kenya"
          ],
          [
           "Sri Lanka"
          ],
          [
           "Uganda"
          ],
          [
           "Chad"
          ],
          [
           "Cambodia"
          ],
          [
           "Benin"
          ],
          [
           "Myanmar"
          ],
          [
           "Bangladesh"
          ],
          [
           "Gambia"
          ],
          [
           "Mali"
          ],
          [
           "Egypt"
          ],
          [
           "Togo"
          ],
          [
           "Jordan"
          ],
          [
           "Ethiopia"
          ],
          [
           "Liberia"
          ],
          [
           "India"
          ],
          [
           "Madagascar"
          ],
          [
           "Zambia"
          ],
          [
           "Tanzania"
          ],
          [
           "Comoros"
          ],
          [
           "Malawi"
          ],
          [
           "Botswana"
          ],
          [
           "Congo (Kinshasa)"
          ],
          [
           "Zimbabwe"
          ],
          [
           "Sierra Leone"
          ],
          [
           "Lebanon"
          ],
          [
           "Afghanistan"
          ]
         ],
         "hovertemplate": "Logged GDP per capita=%{x}<br>Ladder score=%{y}<br>Country name=%{customdata[0]}<extra></extra>",
         "legendgroup": "",
         "marker": {
          "color": "#636efa",
          "symbol": "circle"
         },
         "mode": "markers",
         "name": "",
         "orientation": "v",
         "showlegend": false,
         "type": "scatter",
         "x": [
          10.792010307312012,
          10.962163925170898,
          10.895530700683594,
          10.638705253601074,
          10.942278861999512,
          10.88282299041748,
          11.087730407714844,
          11.164027214050293,
          11.65994930267334,
          10.661865234375,
          10.898905754089355,
          10.821048736572266,
          10.772655487060547,
          11.527361869812012,
          11.048249244689941,
          10.878609657287598,
          10.843586921691895,
          10.6110200881958,
          10.704244613647461,
          10.567838668823242,
          10.700735092163086,
          10.58829116821289,
          9.951566696166992,
          10.339055061340332,
          11.571497917175293,
          11.145174026489258,
          10.797459602355957,
          10.03650951385498,
          10.353433609008789,
          10.71545124053955,
          10.541337966918945,
          10.540300369262695,
          10.634051322937012,
          9.359097480773926,
          10.113971710205078,
          9.849601745605469,
          10.660865783691406,
          10.305059432983398,
          10.45294189453125,
          8.617688179016113,
          10.370321273803711,
          10.775781631469727,
          9.11570930480957,
          10.16606616973877,
          9.85398006439209,
          10.6112060546875,
          10.615657806396484,
          10.340739250183105,
          9.58218765258789,
          9.089116096496582,
          10.418682098388672,
          9.95878791809082,
          8.635234832763672,
          8.948406219482422,
          10.169085502624512,
          10.4286527633667,
          10.69267463684082,
          10.288155555725098,
          9.95720100402832,
          9.751472473144531,
          9.372422218322754,
          8.485833168029785,
          9.498775482177734,
          9.738065719604492,
          9.286938667297363,
          9.509722709655762,
          9.812590599060059,
          9.16460132598877,
          8.984602928161621,
          10.209748268127441,
          9.615763664245605,
          9.584429740905762,
          9.810591697692871,
          9.270211219787598,
          9.401518821716309,
          8.978732109069824,
          10.086685180664062,
          8.256011962890625,
          9.614712715148926,
          8.236533164978027,
          9.300213813781738,
          10.966443061828613,
          9.567472457885742,
          9.38515567779541,
          9.477535247802734,
          8.095203399658203,
          9.703169822692871,
          5.526723384857178,
          8.962409019470215,
          9.646263122558594,
          7.880491733551025,
          9.313715934753418,
          8.576385498046875,
          9.537482261657715,
          8.49583911895752,
          8.21674919128418,
          7.116300582885742,
          9.098432540893555,
          8.716377258300781,
          8.973066329956055,
          9.610322952270508,
          8.15528678894043,
          8.590913772583008,
          7.666715621948242,
          9.120738983154297,
          10.30681324005127,
          8.595744132995605,
          8.54032039642334,
          7.0909833908081055,
          9.24356746673584,
          8.458258628845215,
          9.491007804870605,
          7.715771675109863,
          7.261128902435303,
          8.384782791137695,
          8.103285789489746,
          8.403970718383789,
          8.684880256652832,
          7.6478166580200195,
          7.655168056488037,
          9.366826057434082,
          7.673266410827637,
          9.13038158416748,
          7.738730430603027,
          7.27675199508667,
          8.758988380432129,
          7.290209770202637,
          8.073851585388184,
          7.857411861419678,
          8.074591636657715,
          7.301522731781006,
          9.629345893859863,
          7.00667142868042,
          7.640997886657715,
          7.394014358520508,
          9.477677345275879,
          7.324032306671143
         ],
         "xaxis": "x",
         "y": [
          7.804200172424316,
          7.586400032043457,
          7.529600143432617,
          7.472899913787842,
          7.4029998779296875,
          7.395199775695801,
          7.315499782562256,
          7.240099906921387,
          7.22790002822876,
          7.122900009155273,
          7.097300052642822,
          7.094600200653076,
          6.960700035095215,
          6.910799980163574,
          6.893700122833252,
          6.8917999267578125,
          6.859099864959717,
          6.845200061798096,
          6.795599937438965,
          6.763000011444092,
          6.661300182342529,
          6.649899959564209,
          6.608500003814697,
          6.589099884033203,
          6.586699962615967,
          6.571199893951416,
          6.535399913787842,
          6.493899822235107,
          6.468599796295166,
          6.462600231170654,
          6.4552001953125,
          6.436200141906738,
          6.4045000076293945,
          6.367599964141846,
          6.333799839019775,
          6.329500198364258,
          6.299900054931641,
          6.264500141143799,
          6.259699821472168,
          6.258800029754639,
          6.212699890136719,
          6.1732001304626465,
          6.150300025939941,
          6.143899917602539,
          6.143599987030029,
          6.130000114440918,
          6.129000186920166,
          6.125,
          6.124599933624268,
          6.121600151062012,
          6.041200160980225,
          6.02370023727417,
          6.022500038146973,
          6.0142998695373535,
          6.01230001449585,
          5.9679999351501465,
          5.951099872589111,
          5.9309000968933105,
          5.902299880981445,
          5.8429999351501465,
          5.840199947357178,
          5.825300216674805,
          5.819200038909912,
          5.81790018081665,
          5.763299942016602,
          5.737800121307373,
          5.7221999168396,
          5.702700138092041,
          5.684299945831299,
          5.660699844360352,
          5.632500171661377,
          5.63040018081665,
          5.568900108337402,
          5.558899879455566,
          5.525899887084961,
          5.522900104522705,
          5.466100215911865,
          5.360300064086914,
          5.341700077056885,
          5.329800128936768,
          5.329100131988525,
          5.308499813079834,
          5.277299880981445,
          5.276899814605713,
          5.274600028991699,
          5.267099857330322,
          5.253600120544434,
          5.210599899291992,
          5.1107001304626465,
          5.109099864959717,
          5.071700096130371,
          5.071400165557861,
          5.052700042724609,
          5.0346999168396,
          4.980599880218506,
          4.973199844360352,
          4.953999996185303,
          4.940899848937988,
          4.907800197601318,
          4.9028000831604,
          4.876299858093262,
          4.855100154876709,
          4.723899841308594,
          4.637599945068359,
          4.630799770355225,
          4.613500118255615,
          4.605000019073486,
          4.5553998947143555,
          4.501299858093262,
          4.496699810028076,
          4.486599922180176,
          4.4415998458862305,
          4.432499885559082,
          4.396599769592285,
          4.393499851226807,
          4.373700141906738,
          4.372499942779541,
          4.282100200653076,
          4.279399871826172,
          4.197800159454346,
          4.170499801635742,
          4.137400150299072,
          4.119800090789795,
          4.09060001373291,
          4.042300224304199,
          4.035799980163574,
          4.019100189208984,
          3.9821999073028564,
          3.6937999725341797,
          3.5452001094818115,
          3.4951999187469482,
          3.43530011177063,
          3.207200050354004,
          3.2035000324249268,
          3.1375999450683594,
          2.392199993133545,
          1.8589999675750732
         ],
         "yaxis": "y"
        },
        {
         "hovertemplate": "<b>OLS trendline</b><br>Ladder score = 0.740575 * Logged GDP per capita + -1.45852<br>R<sup>2</sup>=0.615233<br><br>Logged GDP per capita=%{x}<br>Ladder score=%{y} <b>(trend)</b><extra></extra>",
         "legendgroup": "",
         "marker": {
          "color": "#636efa",
          "symbol": "circle"
         },
         "mode": "lines",
         "name": "",
         "showlegend": false,
         "type": "scatter",
         "x": [
          5.526723384857178,
          7.00667142868042,
          7.0909833908081055,
          7.116300582885742,
          7.261128902435303,
          7.27675199508667,
          7.290209770202637,
          7.301522731781006,
          7.324032306671143,
          7.394014358520508,
          7.640997886657715,
          7.6478166580200195,
          7.655168056488037,
          7.666715621948242,
          7.673266410827637,
          7.715771675109863,
          7.738730430603027,
          7.857411861419678,
          7.880491733551025,
          8.073851585388184,
          8.074591636657715,
          8.095203399658203,
          8.103285789489746,
          8.15528678894043,
          8.21674919128418,
          8.236533164978027,
          8.256011962890625,
          8.384782791137695,
          8.403970718383789,
          8.458258628845215,
          8.485833168029785,
          8.49583911895752,
          8.54032039642334,
          8.576385498046875,
          8.590913772583008,
          8.595744132995605,
          8.617688179016113,
          8.635234832763672,
          8.684880256652832,
          8.716377258300781,
          8.758988380432129,
          8.948406219482422,
          8.962409019470215,
          8.973066329956055,
          8.978732109069824,
          8.984602928161621,
          9.089116096496582,
          9.098432540893555,
          9.11570930480957,
          9.120738983154297,
          9.13038158416748,
          9.16460132598877,
          9.24356746673584,
          9.270211219787598,
          9.286938667297363,
          9.300213813781738,
          9.313715934753418,
          9.359097480773926,
          9.366826057434082,
          9.372422218322754,
          9.38515567779541,
          9.401518821716309,
          9.477535247802734,
          9.477677345275879,
          9.491007804870605,
          9.498775482177734,
          9.509722709655762,
          9.537482261657715,
          9.567472457885742,
          9.58218765258789,
          9.584429740905762,
          9.610322952270508,
          9.614712715148926,
          9.615763664245605,
          9.629345893859863,
          9.646263122558594,
          9.703169822692871,
          9.738065719604492,
          9.751472473144531,
          9.810591697692871,
          9.812590599060059,
          9.849601745605469,
          9.85398006439209,
          9.951566696166992,
          9.95720100402832,
          9.95878791809082,
          10.03650951385498,
          10.086685180664062,
          10.113971710205078,
          10.16606616973877,
          10.169085502624512,
          10.209748268127441,
          10.288155555725098,
          10.305059432983398,
          10.30681324005127,
          10.339055061340332,
          10.340739250183105,
          10.353433609008789,
          10.370321273803711,
          10.418682098388672,
          10.4286527633667,
          10.45294189453125,
          10.540300369262695,
          10.541337966918945,
          10.567838668823242,
          10.58829116821289,
          10.6110200881958,
          10.6112060546875,
          10.615657806396484,
          10.634051322937012,
          10.638705253601074,
          10.660865783691406,
          10.661865234375,
          10.69267463684082,
          10.700735092163086,
          10.704244613647461,
          10.71545124053955,
          10.772655487060547,
          10.775781631469727,
          10.792010307312012,
          10.797459602355957,
          10.821048736572266,
          10.843586921691895,
          10.878609657287598,
          10.88282299041748,
          10.895530700683594,
          10.898905754089355,
          10.942278861999512,
          10.962163925170898,
          10.966443061828613,
          11.048249244689941,
          11.087730407714844,
          11.145174026489258,
          11.164027214050293,
          11.527361869812012,
          11.571497917175293,
          11.65994930267334
         ],
         "xaxis": "x",
         "y": [
          2.6344347900302862,
          3.730447184852742,
          3.792886508928623,
          3.8116357862664323,
          3.9188920065169484,
          3.9304620770088308,
          3.940428567653819,
          3.948806663198316,
          3.9654766896798135,
          4.017303641688119,
          4.200213446721579,
          4.2052632577347,
          4.210707519020665,
          4.219259356314704,
          4.224110706223674,
          4.255589038650923,
          4.27259171701874,
          4.3604842074025765,
          4.377576581714262,
          4.520774037299987,
          4.5213221007050475,
          4.536586655310166,
          4.542572270462083,
          4.58108290614215,
          4.626600419453151,
          4.641251934063949,
          4.655677443146888,
          4.751041888161958,
          4.765251985726155,
          4.805456250330623,
          4.825877262307322,
          4.833287418552032,
          4.866229136772174,
          4.892938046294302,
          4.903697321954986,
          4.907274565700646,
          4.9235257756883275,
          4.936520387273002,
          4.9732865427849,
          4.996612432061874,
          5.028169160156599,
          5.16844725996292,
          5.178817382355321,
          5.186709919148557,
          5.190905853026732,
          5.195253634368939,
          5.272653464988238,
          5.279552989993439,
          5.292347727939412,
          5.296072581545455,
          5.303213649958556,
          5.328555932304406,
          5.3870362751727265,
          5.406767970289453,
          5.419155898285278,
          5.428987138747187,
          5.438986470820443,
          5.472594905347772,
          5.478318495340826,
          5.482462871707959,
          5.491892952357917,
          5.5040110862548595,
          5.560306944442958,
          5.560412178266868,
          5.570284382230702,
          5.576036929182013,
          5.584144171226716,
          5.60470219905468,
          5.6269121860378455,
          5.637809890084345,
          5.63947032444684,
          5.658646187218486,
          5.661897135483297,
          5.662675442019864,
          5.672734100544183,
          5.685262575727647,
          5.727406250268063,
          5.753249276111578,
          5.763177981457377,
          5.806960196074779,
          5.808440532282262,
          5.835850058940756,
          5.839092531998272,
          5.9113627434024245,
          5.91553537046054,
          5.916710599205412,
          5.974269263280428,
          6.011428103396983,
          6.031635822656765,
          6.070215672529739,
          6.072451714721003,
          6.102565538773797,
          6.160632009019224,
          6.173150596460844,
          6.174449421978764,
          6.198326905997172,
          6.1995741740040495,
          6.20897529769575,
          6.2214818785937025,
          6.257296692086764,
          6.264680716442315,
          6.282668637658146,
          6.347364132542617,
          6.348132551337341,
          6.367758306362882,
          6.382904914333149,
          6.399737382287795,
          6.399875104406335,
          6.403171960043993,
          6.416793736968479,
          6.420240321268344,
          6.436651853927351,
          6.437392022031093,
          6.460208692603108,
          6.4661780636077095,
          6.468777127178099,
          6.477076473921483,
          6.519440503851563,
          6.521755647977579,
          6.533774198188808,
          6.537809809395658,
          6.55527933043196,
          6.571970544931695,
          6.597907504322727,
          6.6010277931417445,
          6.610438804575288,
          6.612938284459965,
          6.645059320107066,
          6.6597856990489674,
          6.66295472030993,
          6.723538327121897,
          6.752777086021508,
          6.795318389037503,
          6.809280586788329,
          7.078357118120232,
          7.111043167586983,
          7.176548044768101
         ],
         "yaxis": "y"
        },
        {
         "customdata": [
          [
           "Finland"
          ],
          [
           "Denmark"
          ],
          [
           "Iceland"
          ],
          [
           "Israel"
          ],
          [
           "Netherlands"
          ],
          [
           "Sweden"
          ],
          [
           "Norway"
          ],
          [
           "Switzerland"
          ],
          [
           "Luxembourg"
          ],
          [
           "New Zealand"
          ],
          [
           "Austria"
          ],
          [
           "Australia"
          ],
          [
           "Canada"
          ],
          [
           "Ireland"
          ],
          [
           "United States"
          ],
          [
           "Germany"
          ],
          [
           "Belgium"
          ],
          [
           "Czechia"
          ],
          [
           "United Kingdom"
          ],
          [
           "Lithuania"
          ],
          [
           "France"
          ],
          [
           "Slovenia"
          ],
          [
           "Costa Rica"
          ],
          [
           "Romania"
          ],
          [
           "Singapore"
          ],
          [
           "United Arab Emirates"
          ],
          [
           "Taiwan Province of China"
          ],
          [
           "Uruguay"
          ],
          [
           "Slovakia"
          ],
          [
           "Saudi Arabia"
          ],
          [
           "Estonia"
          ],
          [
           "Spain"
          ],
          [
           "Italy"
          ],
          [
           "Kosovo"
          ],
          [
           "Chile"
          ],
          [
           "Mexico"
          ],
          [
           "Malta"
          ],
          [
           "Panama"
          ],
          [
           "Poland"
          ],
          [
           "Nicaragua"
          ],
          [
           "Latvia"
          ],
          [
           "Bahrain"
          ],
          [
           "Guatemala"
          ],
          [
           "Kazakhstan"
          ],
          [
           "Serbia"
          ],
          [
           "Cyprus"
          ],
          [
           "Japan"
          ],
          [
           "Croatia"
          ],
          [
           "Brazil"
          ],
          [
           "El Salvador"
          ],
          [
           "Hungary"
          ],
          [
           "Argentina"
          ],
          [
           "Honduras"
          ],
          [
           "Uzbekistan"
          ],
          [
           "Malaysia"
          ],
          [
           "Portugal"
          ],
          [
           "South Korea"
          ],
          [
           "Greece"
          ],
          [
           "Mauritius"
          ],
          [
           "Thailand"
          ],
          [
           "Mongolia"
          ],
          [
           "Kyrgyzstan"
          ],
          [
           "Moldova"
          ],
          [
           "China"
          ],
          [
           "Vietnam"
          ],
          [
           "Paraguay"
          ],
          [
           "Montenegro"
          ],
          [
           "Jamaica"
          ],
          [
           "Bolivia"
          ],
          [
           "Russia"
          ],
          [
           "Bosnia and Herzegovina"
          ],
          [
           "Colombia"
          ],
          [
           "Dominican Republic"
          ],
          [
           "Ecuador"
          ],
          [
           "Peru"
          ],
          [
           "Philippines"
          ],
          [
           "Bulgaria"
          ],
          [
           "Nepal"
          ],
          [
           "Armenia"
          ],
          [
           "Tajikistan"
          ],
          [
           "Algeria"
          ],
          [
           "Hong Kong S.A.R. of China"
          ],
          [
           "Albania"
          ],
          [
           "Indonesia"
          ],
          [
           "South Africa"
          ],
          [
           "Congo (Brazzaville)"
          ],
          [
           "North Macedonia"
          ],
          [
           "Venezuela"
          ],
          [
           "Laos"
          ],
          [
           "Georgia"
          ],
          [
           "Guinea"
          ],
          [
           "Ukraine"
          ],
          [
           "Ivory Coast"
          ],
          [
           "Gabon"
          ],
          [
           "Nigeria"
          ],
          [
           "Cameroon"
          ],
          [
           "Mozambique"
          ],
          [
           "Iraq"
          ],
          [
           "State of Palestine"
          ],
          [
           "Morocco"
          ],
          [
           "Iran"
          ],
          [
           "Senegal"
          ],
          [
           "Mauritania"
          ],
          [
           "Burkina Faso"
          ],
          [
           "Namibia"
          ],
          [
           "Turkiye"
          ],
          [
           "Ghana"
          ],
          [
           "Pakistan"
          ],
          [
           "Niger"
          ],
          [
           "Tunisia"
          ],
          [
           "Kenya"
          ],
          [
           "Sri Lanka"
          ],
          [
           "Uganda"
          ],
          [
           "Chad"
          ],
          [
           "Cambodia"
          ],
          [
           "Benin"
          ],
          [
           "Myanmar"
          ],
          [
           "Bangladesh"
          ],
          [
           "Gambia"
          ],
          [
           "Mali"
          ],
          [
           "Egypt"
          ],
          [
           "Togo"
          ],
          [
           "Jordan"
          ],
          [
           "Ethiopia"
          ],
          [
           "Liberia"
          ],
          [
           "India"
          ],
          [
           "Madagascar"
          ],
          [
           "Zambia"
          ],
          [
           "Tanzania"
          ],
          [
           "Comoros"
          ],
          [
           "Malawi"
          ],
          [
           "Botswana"
          ],
          [
           "Congo (Kinshasa)"
          ],
          [
           "Zimbabwe"
          ],
          [
           "Sierra Leone"
          ],
          [
           "Lebanon"
          ],
          [
           "Afghanistan"
          ]
         ],
         "hovertemplate": "Social support=%{x}<br>Ladder score=%{y}<br>Country name=%{customdata[0]}<extra></extra>",
         "legendgroup": "",
         "marker": {
          "color": "#636efa",
          "symbol": "circle"
         },
         "mode": "markers",
         "name": "",
         "orientation": "v",
         "showlegend": false,
         "type": "scatter",
         "x": [
          0.9687696099281311,
          0.9541122317314148,
          0.9825330972671509,
          0.943343997001648,
          0.9304993152618408,
          0.9392486810684204,
          0.9434765577316284,
          0.9204392433166504,
          0.878500759601593,
          0.9523983597755432,
          0.8884358406066895,
          0.9338704347610474,
          0.9287933111190796,
          0.905368447303772,
          0.9191621541976929,
          0.8959547877311707,
          0.9148709774017334,
          0.9525779485702515,
          0.8822047114372253,
          0.9393466114997864,
          0.9088037610054016,
          0.9505247473716736,
          0.8716379404067993,
          0.8479619026184082,
          0.8775396943092346,
          0.825512707233429,
          0.88442462682724,
          0.9132089614868164,
          0.9525606036186218,
          0.8838691711425781,
          0.945625901222229,
          0.9317399263381958,
          0.881569504737854,
          0.8437927961349487,
          0.8891310691833496,
          0.8040080666542053,
          0.9226775169372559,
          0.8963010907173157,
          0.9250565767288208,
          0.8528122305870056,
          0.9371284246444702,
          0.8438454270362854,
          0.8117339015007019,
          0.9314469695091248,
          0.8730476498603821,
          0.8260807394981384,
          0.8941164612770081,
          0.9171806573867798,
          0.836276650428772,
          0.7547428011894226,
          0.9426373243331909,
          0.8908900618553162,
          0.7655693888664246,
          0.874754011631012,
          0.7986076474189758,
          0.877972424030304,
          0.8116115927696228,
          0.8349514007568359,
          0.888333261013031,
          0.8735074400901794,
          0.9328268766403198,
          0.911150336265564,
          0.8566350340843201,
          0.8356984853744507,
          0.8211429715156555,
          0.9060643315315247,
          0.8896059989929199,
          0.8673140406608582,
          0.8113415241241455,
          0.8886616826057434,
          0.8803004622459412,
          0.8216689825057983,
          0.8270636200904846,
          0.8057536482810974,
          0.7979649901390076,
          0.7799321413040161,
          0.9182446599006653,
          0.7478566765785217,
          0.7902310490608215,
          0.8355719447135925,
          0.8552190065383911,
          0.8169247508049011,
          0.7179091572761536,
          0.803985059261322,
          0.906631350517273,
          0.6046052575111389,
          0.8047484159469604,
          0.8388254046440125,
          0.6789469718933105,
          0.7161714434623718,
          0.6486329436302185,
          0.8775262236595154,
          0.5723483562469482,
          0.7455086708068848,
          0.739812433719635,
          0.6862311959266663,
          0.6918163299560547,
          0.7184528112411499,
          0.8594945073127747,
          0.5531101226806641,
          0.777547299861908,
          0.6292861104011536,
          0.6438930630683899,
          0.6634751558303833,
          0.7869246602058411,
          0.7957817316055298,
          0.6406720876693726,
          0.6013326644897461,
          0.5900665521621704,
          0.7297623753547668,
          0.6900045871734619,
          0.8259633183479309,
          0.7940431237220764,
          0.7220418453216553,
          0.7465294599533081,
          0.43707209825515747,
          0.7867182493209839,
          0.5444689989089966,
          0.5842756032943726,
          0.5934811234474182,
          0.726098895072937,
          0.5953555107116699,
          0.7292184233665466,
          0.7824801206588745,
          0.5963802337646484,
          0.6082374453544617,
          0.6498976349830627,
          0.6935360431671143,
          0.652874767780304,
          0.47072526812553406,
          0.5307964086532593,
          0.753311276435852,
          0.6516097784042358,
          0.6899175047874451,
          0.5552510619163513,
          0.5297536849975586,
          0.3413406312465668
         ],
         "xaxis": "x2",
         "y": [
          7.804200172424316,
          7.586400032043457,
          7.529600143432617,
          7.472899913787842,
          7.4029998779296875,
          7.395199775695801,
          7.315499782562256,
          7.240099906921387,
          7.22790002822876,
          7.122900009155273,
          7.097300052642822,
          7.094600200653076,
          6.960700035095215,
          6.910799980163574,
          6.893700122833252,
          6.8917999267578125,
          6.859099864959717,
          6.845200061798096,
          6.795599937438965,
          6.763000011444092,
          6.661300182342529,
          6.649899959564209,
          6.608500003814697,
          6.589099884033203,
          6.586699962615967,
          6.571199893951416,
          6.535399913787842,
          6.493899822235107,
          6.468599796295166,
          6.462600231170654,
          6.4552001953125,
          6.436200141906738,
          6.4045000076293945,
          6.367599964141846,
          6.333799839019775,
          6.329500198364258,
          6.299900054931641,
          6.264500141143799,
          6.259699821472168,
          6.258800029754639,
          6.212699890136719,
          6.1732001304626465,
          6.150300025939941,
          6.143899917602539,
          6.143599987030029,
          6.130000114440918,
          6.129000186920166,
          6.125,
          6.124599933624268,
          6.121600151062012,
          6.041200160980225,
          6.02370023727417,
          6.022500038146973,
          6.0142998695373535,
          6.01230001449585,
          5.9679999351501465,
          5.951099872589111,
          5.9309000968933105,
          5.902299880981445,
          5.8429999351501465,
          5.840199947357178,
          5.825300216674805,
          5.819200038909912,
          5.81790018081665,
          5.763299942016602,
          5.737800121307373,
          5.7221999168396,
          5.702700138092041,
          5.684299945831299,
          5.660699844360352,
          5.632500171661377,
          5.63040018081665,
          5.568900108337402,
          5.558899879455566,
          5.525899887084961,
          5.522900104522705,
          5.466100215911865,
          5.360300064086914,
          5.341700077056885,
          5.329800128936768,
          5.329100131988525,
          5.308499813079834,
          5.277299880981445,
          5.276899814605713,
          5.274600028991699,
          5.267099857330322,
          5.253600120544434,
          5.210599899291992,
          5.1107001304626465,
          5.109099864959717,
          5.071700096130371,
          5.071400165557861,
          5.052700042724609,
          5.0346999168396,
          4.980599880218506,
          4.973199844360352,
          4.953999996185303,
          4.940899848937988,
          4.907800197601318,
          4.9028000831604,
          4.876299858093262,
          4.855100154876709,
          4.723899841308594,
          4.637599945068359,
          4.630799770355225,
          4.613500118255615,
          4.605000019073486,
          4.5553998947143555,
          4.501299858093262,
          4.496699810028076,
          4.486599922180176,
          4.4415998458862305,
          4.432499885559082,
          4.396599769592285,
          4.393499851226807,
          4.373700141906738,
          4.372499942779541,
          4.282100200653076,
          4.279399871826172,
          4.197800159454346,
          4.170499801635742,
          4.137400150299072,
          4.119800090789795,
          4.09060001373291,
          4.042300224304199,
          4.035799980163574,
          4.019100189208984,
          3.9821999073028564,
          3.6937999725341797,
          3.5452001094818115,
          3.4951999187469482,
          3.43530011177063,
          3.207200050354004,
          3.2035000324249268,
          3.1375999450683594,
          2.392199993133545,
          1.8589999675750732
         ],
         "yaxis": "y2"
        },
        {
         "hovertemplate": "<b>OLS trendline</b><br>Ladder score = 7.36439 * Social support + -0.344724<br>R<sup>2</sup>=0.696596<br><br>Social support=%{x}<br>Ladder score=%{y} <b>(trend)</b><extra></extra>",
         "legendgroup": "",
         "marker": {
          "color": "#636efa",
          "symbol": "circle"
         },
         "mode": "lines",
         "name": "",
         "showlegend": false,
         "type": "scatter",
         "x": [
          0.3413406312465668,
          0.43707209825515747,
          0.47072526812553406,
          0.5297536849975586,
          0.5307964086532593,
          0.5444689989089966,
          0.5531101226806641,
          0.5552510619163513,
          0.5723483562469482,
          0.5842756032943726,
          0.5900665521621704,
          0.5934811234474182,
          0.5953555107116699,
          0.5963802337646484,
          0.6013326644897461,
          0.6046052575111389,
          0.6082374453544617,
          0.6292861104011536,
          0.6406720876693726,
          0.6438930630683899,
          0.6486329436302185,
          0.6498976349830627,
          0.6516097784042358,
          0.652874767780304,
          0.6634751558303833,
          0.6789469718933105,
          0.6862311959266663,
          0.6899175047874451,
          0.6900045871734619,
          0.6918163299560547,
          0.6935360431671143,
          0.7161714434623718,
          0.7179091572761536,
          0.7184528112411499,
          0.7220418453216553,
          0.726098895072937,
          0.7292184233665466,
          0.7297623753547668,
          0.739812433719635,
          0.7455086708068848,
          0.7465294599533081,
          0.7478566765785217,
          0.753311276435852,
          0.7547428011894226,
          0.7655693888664246,
          0.777547299861908,
          0.7799321413040161,
          0.7824801206588745,
          0.7867182493209839,
          0.7869246602058411,
          0.7902310490608215,
          0.7940431237220764,
          0.7957817316055298,
          0.7979649901390076,
          0.7986076474189758,
          0.803985059261322,
          0.8040080666542053,
          0.8047484159469604,
          0.8057536482810974,
          0.8113415241241455,
          0.8116115927696228,
          0.8117339015007019,
          0.8169247508049011,
          0.8211429715156555,
          0.8216689825057983,
          0.825512707233429,
          0.8259633183479309,
          0.8260807394981384,
          0.8270636200904846,
          0.8349514007568359,
          0.8355719447135925,
          0.8356984853744507,
          0.836276650428772,
          0.8388254046440125,
          0.8437927961349487,
          0.8438454270362854,
          0.8479619026184082,
          0.8528122305870056,
          0.8552190065383911,
          0.8566350340843201,
          0.8594945073127747,
          0.8673140406608582,
          0.8716379404067993,
          0.8730476498603821,
          0.8735074400901794,
          0.874754011631012,
          0.8775262236595154,
          0.8775396943092346,
          0.877972424030304,
          0.878500759601593,
          0.8803004622459412,
          0.881569504737854,
          0.8822047114372253,
          0.8838691711425781,
          0.88442462682724,
          0.888333261013031,
          0.8884358406066895,
          0.8886616826057434,
          0.8891310691833496,
          0.8896059989929199,
          0.8908900618553162,
          0.8941164612770081,
          0.8959547877311707,
          0.8963010907173157,
          0.905368447303772,
          0.9060643315315247,
          0.906631350517273,
          0.9088037610054016,
          0.911150336265564,
          0.9132089614868164,
          0.9148709774017334,
          0.9171806573867798,
          0.9182446599006653,
          0.9191621541976929,
          0.9204392433166504,
          0.9226775169372559,
          0.9250565767288208,
          0.9287933111190796,
          0.9304993152618408,
          0.9314469695091248,
          0.9317399263381958,
          0.9328268766403198,
          0.9338704347610474,
          0.9371284246444702,
          0.9392486810684204,
          0.9393466114997864,
          0.9426373243331909,
          0.943343997001648,
          0.9434765577316284,
          0.945625901222229,
          0.9505247473716736,
          0.9523983597755432,
          0.9525606036186218,
          0.9525779485702515,
          0.9541122317314148,
          0.9687696099281311,
          0.9825330972671509
         ],
         "xaxis": "x2",
         "y": [
          2.169042121194347,
          2.8740460692220493,
          3.1218811684181507,
          3.556589506658364,
          3.5642685312982447,
          3.664958831063471,
          3.728595444653388,
          3.744362158157439,
          3.8702733175736084,
          3.958110227633509,
          4.000757038992387,
          4.025903276819347,
          4.039706997400707,
          4.047253458565039,
          4.083725094513271,
          4.107825748900639,
          4.134574600135636,
          4.289585198242305,
          4.373435986045731,
          4.397156508082687,
          4.432062841534874,
          4.441376523071914,
          4.453985416565716,
          4.463301292862285,
          4.541366694547406,
          4.655307196540792,
          4.708951069995414,
          4.736098489560867,
          4.736739798295225,
          4.7500821804236,
          4.762746820809437,
          4.9294427576001265,
          4.942239961461512,
          4.946243641794217,
          4.972674691849422,
          5.0025523922688855,
          5.025525818162187,
          5.029531693254421,
          5.103544251993389,
          5.1454935687739685,
          5.153011059112518,
          5.162785201198731,
          5.20295500695324,
          5.2134973148745845,
          5.293228539042177,
          5.381438558221999,
          5.39900146292454,
          5.417765778993226,
          5.448977015302478,
          5.450497105752227,
          5.474846645870178,
          5.502920253956847,
          5.515724042096819,
          5.53180241145398,
          5.536535190902202,
          5.576136553938713,
          5.576305989374347,
          5.581758210996158,
          5.589161134887297,
          5.63031243710315,
          5.632301328188283,
          5.633202057498963,
          5.671429501070352,
          5.702494127443071,
          5.706367878011663,
          5.734674569560306,
          5.737993045968073,
          5.738857781222479,
          5.746096098148946,
          5.804184798601591,
          5.808754726892765,
          5.809686621788756,
          5.813944455274913,
          5.832714477718375,
          5.869296290594961,
          5.869683885127773,
          5.899999220597309,
          5.935718931930924,
          5.953443370934795,
          5.963871551360635,
          5.984929830088977,
          6.042515930609492,
          6.0743588187111754,
          6.084740470235001,
          6.088126545236261,
          6.0973067853939416,
          6.1177224385322075,
          6.117821641662916,
          6.1210084324989475,
          6.124899302191865,
          6.138153016035271,
          6.147498741061434,
          6.152176651521432,
          6.164434383490602,
          6.168524976300653,
          6.197309686474702,
          6.198065122704565,
          6.199728311475601,
          6.203185057733693,
          6.206682626519023,
          6.2161389674254455,
          6.239899434085827,
          6.253437588764185,
          6.255987899336821,
          6.3227634580050385,
          6.32788822150513,
          6.332063970984906,
          6.348062451095212,
          6.365343548674237,
          6.380504069596393,
          6.3927438045374245,
          6.409753190886765,
          6.417588921357012,
          6.4243457080428295,
          6.433750691576273,
          6.450234213542479,
          6.467754539910158,
          6.495273312787909,
          6.507836994235414,
          6.51481589058556,
          6.516973339202515,
          6.524978066156492,
          6.532663236123053,
          6.5566563472935036,
          6.572270744486245,
          6.572991942467457,
          6.597226038234186,
          6.602430252029225,
          6.603406481067701,
          6.619235086790468,
          6.655312104975396,
          6.669110119181981,
          6.67030494626954,
          6.670432681274124,
          6.68173174228105,
          6.78967440543373,
          6.891034106855285
         ],
         "yaxis": "y2"
        },
        {
         "customdata": [
          [
           "Finland"
          ],
          [
           "Denmark"
          ],
          [
           "Iceland"
          ],
          [
           "Israel"
          ],
          [
           "Netherlands"
          ],
          [
           "Sweden"
          ],
          [
           "Norway"
          ],
          [
           "Switzerland"
          ],
          [
           "Luxembourg"
          ],
          [
           "New Zealand"
          ],
          [
           "Austria"
          ],
          [
           "Australia"
          ],
          [
           "Canada"
          ],
          [
           "Ireland"
          ],
          [
           "United States"
          ],
          [
           "Germany"
          ],
          [
           "Belgium"
          ],
          [
           "Czechia"
          ],
          [
           "United Kingdom"
          ],
          [
           "Lithuania"
          ],
          [
           "France"
          ],
          [
           "Slovenia"
          ],
          [
           "Costa Rica"
          ],
          [
           "Romania"
          ],
          [
           "Singapore"
          ],
          [
           "United Arab Emirates"
          ],
          [
           "Taiwan Province of China"
          ],
          [
           "Uruguay"
          ],
          [
           "Slovakia"
          ],
          [
           "Saudi Arabia"
          ],
          [
           "Estonia"
          ],
          [
           "Spain"
          ],
          [
           "Italy"
          ],
          [
           "Kosovo"
          ],
          [
           "Chile"
          ],
          [
           "Mexico"
          ],
          [
           "Malta"
          ],
          [
           "Panama"
          ],
          [
           "Poland"
          ],
          [
           "Nicaragua"
          ],
          [
           "Latvia"
          ],
          [
           "Bahrain"
          ],
          [
           "Guatemala"
          ],
          [
           "Kazakhstan"
          ],
          [
           "Serbia"
          ],
          [
           "Cyprus"
          ],
          [
           "Japan"
          ],
          [
           "Croatia"
          ],
          [
           "Brazil"
          ],
          [
           "El Salvador"
          ],
          [
           "Hungary"
          ],
          [
           "Argentina"
          ],
          [
           "Honduras"
          ],
          [
           "Uzbekistan"
          ],
          [
           "Malaysia"
          ],
          [
           "Portugal"
          ],
          [
           "South Korea"
          ],
          [
           "Greece"
          ],
          [
           "Mauritius"
          ],
          [
           "Thailand"
          ],
          [
           "Mongolia"
          ],
          [
           "Kyrgyzstan"
          ],
          [
           "Moldova"
          ],
          [
           "China"
          ],
          [
           "Vietnam"
          ],
          [
           "Paraguay"
          ],
          [
           "Montenegro"
          ],
          [
           "Jamaica"
          ],
          [
           "Bolivia"
          ],
          [
           "Russia"
          ],
          [
           "Bosnia and Herzegovina"
          ],
          [
           "Colombia"
          ],
          [
           "Dominican Republic"
          ],
          [
           "Ecuador"
          ],
          [
           "Peru"
          ],
          [
           "Philippines"
          ],
          [
           "Bulgaria"
          ],
          [
           "Nepal"
          ],
          [
           "Armenia"
          ],
          [
           "Tajikistan"
          ],
          [
           "Algeria"
          ],
          [
           "Hong Kong S.A.R. of China"
          ],
          [
           "Albania"
          ],
          [
           "Indonesia"
          ],
          [
           "South Africa"
          ],
          [
           "Congo (Brazzaville)"
          ],
          [
           "North Macedonia"
          ],
          [
           "Venezuela"
          ],
          [
           "Laos"
          ],
          [
           "Georgia"
          ],
          [
           "Guinea"
          ],
          [
           "Ukraine"
          ],
          [
           "Ivory Coast"
          ],
          [
           "Gabon"
          ],
          [
           "Nigeria"
          ],
          [
           "Cameroon"
          ],
          [
           "Mozambique"
          ],
          [
           "Iraq"
          ],
          [
           "State of Palestine"
          ],
          [
           "Morocco"
          ],
          [
           "Iran"
          ],
          [
           "Senegal"
          ],
          [
           "Mauritania"
          ],
          [
           "Burkina Faso"
          ],
          [
           "Namibia"
          ],
          [
           "Turkiye"
          ],
          [
           "Ghana"
          ],
          [
           "Pakistan"
          ],
          [
           "Niger"
          ],
          [
           "Tunisia"
          ],
          [
           "Kenya"
          ],
          [
           "Sri Lanka"
          ],
          [
           "Uganda"
          ],
          [
           "Chad"
          ],
          [
           "Cambodia"
          ],
          [
           "Benin"
          ],
          [
           "Myanmar"
          ],
          [
           "Bangladesh"
          ],
          [
           "Gambia"
          ],
          [
           "Mali"
          ],
          [
           "Egypt"
          ],
          [
           "Togo"
          ],
          [
           "Jordan"
          ],
          [
           "Ethiopia"
          ],
          [
           "Liberia"
          ],
          [
           "India"
          ],
          [
           "Madagascar"
          ],
          [
           "Zambia"
          ],
          [
           "Tanzania"
          ],
          [
           "Comoros"
          ],
          [
           "Malawi"
          ],
          [
           "Botswana"
          ],
          [
           "Congo (Kinshasa)"
          ],
          [
           "Zimbabwe"
          ],
          [
           "Sierra Leone"
          ],
          [
           "Lebanon"
          ],
          [
           "Afghanistan"
          ]
         ],
         "hovertemplate": "Healthy life expectancy=%{x}<br>Ladder score=%{y}<br>Country name=%{customdata[0]}<extra></extra>",
         "legendgroup": "",
         "marker": {
          "color": "#636efa",
          "symbol": "circle"
         },
         "mode": "markers",
         "name": "",
         "orientation": "v",
         "showlegend": false,
         "type": "scatter",
         "x": [
          71.14999389648438,
          71.2501449584961,
          72.05001831054688,
          72.69720458984375,
          71.55001831054688,
          72.15015411376953,
          71.5000228881836,
          72.89995574951172,
          71.67500305175781,
          70.35005187988281,
          71.1500473022461,
          71.04994201660156,
          71.40003967285156,
          71.29995727539062,
          65.85025024414062,
          71.29983520507812,
          70.89908599853516,
          69.04974365234375,
          70.30000305175781,
          67.3969955444336,
          72.30005645751953,
          71.05184936523438,
          70,
          67.05085754394531,
          73.80000305175781,
          66.24315643310547,
          69.5999984741211,
          67.5,
          68.83783721923828,
          64.39929962158203,
          69.6501693725586,
          72.3499755859375,
          72.05000305175781,
          65.19499206542969,
          70.2998275756836,
          65.80000305175781,
          71.60003662109375,
          68.95027160644531,
          69.04891967773438,
          65.64956665039062,
          66.4003677368164,
          65.82499694824219,
          62.900001525878906,
          65.8017349243164,
          67.08761596679688,
          72.80194091796875,
          74.3494644165039,
          68.94998168945312,
          65.74871063232422,
          65.59691619873047,
          67.50045013427734,
          67.20008087158203,
          64.0630111694336,
          65.3005142211914,
          65.66233825683594,
          71.25039672851562,
          73.65018463134766,
          71.14976501464844,
          63.85012435913086,
          68.44964599609375,
          60.49993133544922,
          66.85247039794922,
          65.29906463623047,
          68.68879699707031,
          65.5024185180664,
          65.89987182617188,
          67.0999984741211,
          66.5999984741211,
          63.598941802978516,
          64.947265625,
          67.27503204345703,
          69.34968566894531,
          64.39896392822266,
          69.0002212524414,
          69.84983825683594,
          62.03751754760742,
          66.49977111816406,
          61.84700012207031,
          67.78897094726562,
          62.225528717041016,
          66.54923248291016,
          77.27977752685547,
          69.15007019042969,
          63.04774475097656,
          56.98897171020508,
          56.85004425048828,
          66.50035095214844,
          64.04983520507812,
          60.945587158203125,
          64.95006561279297,
          54.185394287109375,
          64.5501708984375,
          55.95271301269531,
          58.25178909301758,
          54.89082717895508,
          55.847137451171875,
          51.53021240234375,
          63.41473388671875,
          null,
          63.90077590942383,
          66.59994506835938,
          59.998931884765625,
          60.474998474121094,
          55.461307525634766,
          56.8513298034668,
          68.6626968383789,
          58.76277542114258,
          57.3125,
          56.54999923706055,
          67.00008392333984,
          58.49850845336914,
          67.14990234375,
          58.91272735595703,
          53.125,
          61.89963150024414,
          56.09510040283203,
          61.38812255859375,
          64.54842376708984,
          57.900001525878906,
          55.40291976928711,
          63.50303649902344,
          57.44898223876953,
          67.5999984741211,
          60.69827651977539,
          56.70000076293945,
          60.77688217163086,
          58.04999923706055,
          55.03213882446289,
          59.401485443115234,
          59.42499923706055,
          58.475345611572266,
          54.724998474121094,
          55.375,
          54.049888610839844,
          54.89985275268555,
          66.14881896972656,
          54.71240997314453
         ],
         "xaxis": "x3",
         "y": [
          7.804200172424316,
          7.586400032043457,
          7.529600143432617,
          7.472899913787842,
          7.4029998779296875,
          7.395199775695801,
          7.315499782562256,
          7.240099906921387,
          7.22790002822876,
          7.122900009155273,
          7.097300052642822,
          7.094600200653076,
          6.960700035095215,
          6.910799980163574,
          6.893700122833252,
          6.8917999267578125,
          6.859099864959717,
          6.845200061798096,
          6.795599937438965,
          6.763000011444092,
          6.661300182342529,
          6.649899959564209,
          6.608500003814697,
          6.589099884033203,
          6.586699962615967,
          6.571199893951416,
          6.535399913787842,
          6.493899822235107,
          6.468599796295166,
          6.462600231170654,
          6.4552001953125,
          6.436200141906738,
          6.4045000076293945,
          6.367599964141846,
          6.333799839019775,
          6.329500198364258,
          6.299900054931641,
          6.264500141143799,
          6.259699821472168,
          6.258800029754639,
          6.212699890136719,
          6.1732001304626465,
          6.150300025939941,
          6.143899917602539,
          6.143599987030029,
          6.130000114440918,
          6.129000186920166,
          6.125,
          6.124599933624268,
          6.121600151062012,
          6.041200160980225,
          6.02370023727417,
          6.022500038146973,
          6.0142998695373535,
          6.01230001449585,
          5.9679999351501465,
          5.951099872589111,
          5.9309000968933105,
          5.902299880981445,
          5.8429999351501465,
          5.840199947357178,
          5.825300216674805,
          5.819200038909912,
          5.81790018081665,
          5.763299942016602,
          5.737800121307373,
          5.7221999168396,
          5.702700138092041,
          5.684299945831299,
          5.660699844360352,
          5.632500171661377,
          5.63040018081665,
          5.568900108337402,
          5.558899879455566,
          5.525899887084961,
          5.522900104522705,
          5.466100215911865,
          5.360300064086914,
          5.341700077056885,
          5.329800128936768,
          5.329100131988525,
          5.308499813079834,
          5.277299880981445,
          5.276899814605713,
          5.274600028991699,
          5.267099857330322,
          5.253600120544434,
          5.210599899291992,
          5.1107001304626465,
          5.109099864959717,
          5.071700096130371,
          5.071400165557861,
          5.052700042724609,
          5.0346999168396,
          4.980599880218506,
          4.973199844360352,
          4.953999996185303,
          4.940899848937988,
          4.907800197601318,
          4.9028000831604,
          4.876299858093262,
          4.855100154876709,
          4.723899841308594,
          4.637599945068359,
          4.630799770355225,
          4.613500118255615,
          4.605000019073486,
          4.5553998947143555,
          4.501299858093262,
          4.496699810028076,
          4.486599922180176,
          4.4415998458862305,
          4.432499885559082,
          4.396599769592285,
          4.393499851226807,
          4.373700141906738,
          4.372499942779541,
          4.282100200653076,
          4.279399871826172,
          4.197800159454346,
          4.170499801635742,
          4.137400150299072,
          4.119800090789795,
          4.09060001373291,
          4.042300224304199,
          4.035799980163574,
          4.019100189208984,
          3.9821999073028564,
          3.6937999725341797,
          3.5452001094818115,
          3.4951999187469482,
          3.43530011177063,
          3.207200050354004,
          3.2035000324249268,
          3.1375999450683594,
          2.392199993133545,
          1.8589999675750732
         ],
         "yaxis": "y3"
        },
        {
         "hovertemplate": "<b>OLS trendline</b><br>Ladder score = 0.148446 * Healthy life expectancy + -4.09978<br>R<sup>2</sup>=0.557927<br><br>Healthy life expectancy=%{x}<br>Ladder score=%{y} <b>(trend)</b><extra></extra>",
         "legendgroup": "",
         "marker": {
          "color": "#636efa",
          "symbol": "circle"
         },
         "mode": "lines",
         "name": "",
         "showlegend": false,
         "type": "scatter",
         "x": [
          51.53021240234375,
          53.125,
          54.049888610839844,
          54.185394287109375,
          54.71240997314453,
          54.724998474121094,
          54.89082717895508,
          54.89985275268555,
          55.03213882446289,
          55.375,
          55.40291976928711,
          55.461307525634766,
          55.847137451171875,
          55.95271301269531,
          56.09510040283203,
          56.54999923706055,
          56.70000076293945,
          56.85004425048828,
          56.8513298034668,
          56.98897171020508,
          57.3125,
          57.44898223876953,
          57.900001525878906,
          58.04999923706055,
          58.25178909301758,
          58.475345611572266,
          58.49850845336914,
          58.76277542114258,
          58.91272735595703,
          59.401485443115234,
          59.42499923706055,
          59.998931884765625,
          60.474998474121094,
          60.49993133544922,
          60.69827651977539,
          60.77688217163086,
          60.945587158203125,
          61.38812255859375,
          61.84700012207031,
          61.89963150024414,
          62.03751754760742,
          62.225528717041016,
          62.900001525878906,
          63.04774475097656,
          63.41473388671875,
          63.50303649902344,
          63.598941802978516,
          63.85012435913086,
          63.90077590942383,
          64.04983520507812,
          64.0630111694336,
          64.39896392822266,
          64.39929962158203,
          64.54842376708984,
          64.5501708984375,
          64.947265625,
          64.95006561279297,
          65.19499206542969,
          65.29906463623047,
          65.3005142211914,
          65.5024185180664,
          65.59691619873047,
          65.64956665039062,
          65.66233825683594,
          65.74871063232422,
          65.80000305175781,
          65.8017349243164,
          65.82499694824219,
          65.85025024414062,
          65.89987182617188,
          66.14881896972656,
          66.24315643310547,
          66.4003677368164,
          66.49977111816406,
          66.50035095214844,
          66.54923248291016,
          66.59994506835938,
          66.5999984741211,
          66.85247039794922,
          67.00008392333984,
          67.05085754394531,
          67.08761596679688,
          67.0999984741211,
          67.14990234375,
          67.20008087158203,
          67.27503204345703,
          67.3969955444336,
          67.5,
          67.50045013427734,
          67.5999984741211,
          67.78897094726562,
          68.44964599609375,
          68.6626968383789,
          68.68879699707031,
          68.83783721923828,
          68.94998168945312,
          68.95027160644531,
          69.0002212524414,
          69.04891967773438,
          69.04974365234375,
          69.15007019042969,
          69.34968566894531,
          69.5999984741211,
          69.6501693725586,
          69.84983825683594,
          70,
          70.2998275756836,
          70.30000305175781,
          70.35005187988281,
          70.89908599853516,
          71.04994201660156,
          71.05184936523438,
          71.14976501464844,
          71.14999389648438,
          71.1500473022461,
          71.2501449584961,
          71.25039672851562,
          71.29983520507812,
          71.29995727539062,
          71.40003967285156,
          71.5000228881836,
          71.55001831054688,
          71.60003662109375,
          71.67500305175781,
          72.05000305175781,
          72.05001831054688,
          72.15015411376953,
          72.30005645751953,
          72.3499755859375,
          72.69720458984375,
          72.80194091796875,
          72.89995574951172,
          73.65018463134766,
          73.80000305175781,
          74.3494644165039,
          77.27977752685547
         ],
         "xaxis": "x3",
         "y": [
          3.5496721346215185,
          3.7864119294367056,
          3.923707918118156,
          3.9438231899220533,
          4.022056545611369,
          4.023925257872865,
          4.048541861121198,
          4.049881671185046,
          4.069519005671156,
          4.120415366080554,
          4.124559943365973,
          4.133227370600659,
          4.19050226886263,
          4.206174535695711,
          4.22731137020256,
          4.294839269739274,
          4.317106392026107,
          4.3393797433538115,
          4.339570578515062,
          4.360002965126972,
          4.408029436523865,
          4.42828967509714,
          4.495241671491447,
          4.517508227501839,
          4.547463118777179,
          4.580649183435579,
          4.584087613996731,
          4.62331698085352,
          4.645576741546597,
          4.718130910790292,
          4.721621438784188,
          4.806819428444456,
          4.877489595962697,
          4.881190778793345,
          4.910634322440766,
          4.9223030148227025,
          4.947346590508964,
          5.013039188094311,
          5.081157713960945,
          5.0889706300433275,
          5.109439258347582,
          5.137348759111248,
          5.237471530699997,
          5.259403417332647,
          5.313881476243244,
          5.326989643342976,
          5.341226399393362,
          5.3785134380510815,
          5.38603245665961,
          5.408159708665053,
          5.410115627498753,
          5.459986461270098,
          5.4600362935970725,
          5.482173172302044,
          5.482432526912882,
          5.541379639510669,
          5.541795286419742,
          5.578153631711142,
          5.593602785625729,
          5.5938179706740225,
          5.62378985024265,
          5.637817650285614,
          5.64563339775021,
          5.647529291280964,
          5.6603509225006,
          5.667965075551532,
          5.668222165056598,
          5.671675318805267,
          5.675424068857117,
          5.682790192826069,
          5.719745393488262,
          5.733749409920625,
          5.757086794684497,
          5.7718428262330015,
          5.77192890025232,
          5.779185166591354,
          5.786713245622968,
          5.786721173493168,
          5.824199613588581,
          5.846112246822173,
          5.853649386276874,
          5.859106026080443,
          5.860944159414023,
          5.868352187839749,
          5.875800988169361,
          5.886927187719021,
          5.905032178150703,
          5.920322774661285,
          5.920389595281543,
          5.935167145334878,
          5.96321934776215,
          6.061293897457009,
          6.092920436791724,
          6.096794900213894,
          6.118919320837122,
          6.135566715704838,
          6.1356097527144975,
          6.143024576457536,
          6.150253661527312,
          6.150375977238973,
          6.165269047686655,
          6.194901161389554,
          6.232059089018298,
          6.239506756795025,
          6.269146798368125,
          6.29143770426556,
          6.335945900122853,
          6.3359719488392265,
          6.343401495769781,
          6.424903399087384,
          6.447297367297423,
          6.447580505518861,
          6.462115689254643,
          6.462149665841217,
          6.462157593711417,
          6.477016687572526,
          6.477054061817755,
          6.48439300451745,
          6.484411125363621,
          6.4992679541189595,
          6.5141100596867805,
          6.5215316787471345,
          6.528956695466146,
          6.540085160121578,
          6.595752399562219,
          6.595754664667989,
          6.610619421293528,
          6.632871820392847,
          6.640282113924343,
          6.691826860860836,
          6.707374546876483,
          6.7219244537997795,
          6.8332929092676356,
          6.855532850285211,
          6.937098176564417,
          7.372091354031058
         ],
         "yaxis": "y3"
        },
        {
         "customdata": [
          [
           "Finland"
          ],
          [
           "Denmark"
          ],
          [
           "Iceland"
          ],
          [
           "Israel"
          ],
          [
           "Netherlands"
          ],
          [
           "Sweden"
          ],
          [
           "Norway"
          ],
          [
           "Switzerland"
          ],
          [
           "Luxembourg"
          ],
          [
           "New Zealand"
          ],
          [
           "Austria"
          ],
          [
           "Australia"
          ],
          [
           "Canada"
          ],
          [
           "Ireland"
          ],
          [
           "United States"
          ],
          [
           "Germany"
          ],
          [
           "Belgium"
          ],
          [
           "Czechia"
          ],
          [
           "United Kingdom"
          ],
          [
           "Lithuania"
          ],
          [
           "France"
          ],
          [
           "Slovenia"
          ],
          [
           "Costa Rica"
          ],
          [
           "Romania"
          ],
          [
           "Singapore"
          ],
          [
           "United Arab Emirates"
          ],
          [
           "Taiwan Province of China"
          ],
          [
           "Uruguay"
          ],
          [
           "Slovakia"
          ],
          [
           "Saudi Arabia"
          ],
          [
           "Estonia"
          ],
          [
           "Spain"
          ],
          [
           "Italy"
          ],
          [
           "Kosovo"
          ],
          [
           "Chile"
          ],
          [
           "Mexico"
          ],
          [
           "Malta"
          ],
          [
           "Panama"
          ],
          [
           "Poland"
          ],
          [
           "Nicaragua"
          ],
          [
           "Latvia"
          ],
          [
           "Bahrain"
          ],
          [
           "Guatemala"
          ],
          [
           "Kazakhstan"
          ],
          [
           "Serbia"
          ],
          [
           "Cyprus"
          ],
          [
           "Japan"
          ],
          [
           "Croatia"
          ],
          [
           "Brazil"
          ],
          [
           "El Salvador"
          ],
          [
           "Hungary"
          ],
          [
           "Argentina"
          ],
          [
           "Honduras"
          ],
          [
           "Uzbekistan"
          ],
          [
           "Malaysia"
          ],
          [
           "Portugal"
          ],
          [
           "South Korea"
          ],
          [
           "Greece"
          ],
          [
           "Mauritius"
          ],
          [
           "Thailand"
          ],
          [
           "Mongolia"
          ],
          [
           "Kyrgyzstan"
          ],
          [
           "Moldova"
          ],
          [
           "China"
          ],
          [
           "Vietnam"
          ],
          [
           "Paraguay"
          ],
          [
           "Montenegro"
          ],
          [
           "Jamaica"
          ],
          [
           "Bolivia"
          ],
          [
           "Russia"
          ],
          [
           "Bosnia and Herzegovina"
          ],
          [
           "Colombia"
          ],
          [
           "Dominican Republic"
          ],
          [
           "Ecuador"
          ],
          [
           "Peru"
          ],
          [
           "Philippines"
          ],
          [
           "Bulgaria"
          ],
          [
           "Nepal"
          ],
          [
           "Armenia"
          ],
          [
           "Tajikistan"
          ],
          [
           "Algeria"
          ],
          [
           "Hong Kong S.A.R. of China"
          ],
          [
           "Albania"
          ],
          [
           "Indonesia"
          ],
          [
           "South Africa"
          ],
          [
           "Congo (Brazzaville)"
          ],
          [
           "North Macedonia"
          ],
          [
           "Venezuela"
          ],
          [
           "Laos"
          ],
          [
           "Georgia"
          ],
          [
           "Guinea"
          ],
          [
           "Ukraine"
          ],
          [
           "Ivory Coast"
          ],
          [
           "Gabon"
          ],
          [
           "Nigeria"
          ],
          [
           "Cameroon"
          ],
          [
           "Mozambique"
          ],
          [
           "Iraq"
          ],
          [
           "State of Palestine"
          ],
          [
           "Morocco"
          ],
          [
           "Iran"
          ],
          [
           "Senegal"
          ],
          [
           "Mauritania"
          ],
          [
           "Burkina Faso"
          ],
          [
           "Namibia"
          ],
          [
           "Turkiye"
          ],
          [
           "Ghana"
          ],
          [
           "Pakistan"
          ],
          [
           "Niger"
          ],
          [
           "Tunisia"
          ],
          [
           "Kenya"
          ],
          [
           "Sri Lanka"
          ],
          [
           "Uganda"
          ],
          [
           "Chad"
          ],
          [
           "Cambodia"
          ],
          [
           "Benin"
          ],
          [
           "Myanmar"
          ],
          [
           "Bangladesh"
          ],
          [
           "Gambia"
          ],
          [
           "Mali"
          ],
          [
           "Egypt"
          ],
          [
           "Togo"
          ],
          [
           "Jordan"
          ],
          [
           "Ethiopia"
          ],
          [
           "Liberia"
          ],
          [
           "India"
          ],
          [
           "Madagascar"
          ],
          [
           "Zambia"
          ],
          [
           "Tanzania"
          ],
          [
           "Comoros"
          ],
          [
           "Malawi"
          ],
          [
           "Botswana"
          ],
          [
           "Congo (Kinshasa)"
          ],
          [
           "Zimbabwe"
          ],
          [
           "Sierra Leone"
          ],
          [
           "Lebanon"
          ],
          [
           "Afghanistan"
          ]
         ],
         "hovertemplate": "Freedom to make life choices=%{x}<br>Ladder score=%{y}<br>Country name=%{customdata[0]}<extra></extra>",
         "legendgroup": "",
         "marker": {
          "color": "#636efa",
          "symbol": "circle"
         },
         "mode": "markers",
         "name": "",
         "orientation": "v",
         "showlegend": false,
         "type": "scatter",
         "x": [
          0.9614078998565674,
          0.9335328340530396,
          0.9363492131233215,
          0.8088658452033997,
          0.8868750929832458,
          0.9479710459709167,
          0.9466164112091064,
          0.8910744190216064,
          0.9149384498596191,
          0.8865742683410645,
          0.8547372817993164,
          0.890199601650238,
          0.8744681477546692,
          0.8743810653686523,
          0.8004881143569946,
          0.845851480960846,
          0.8252285122871399,
          0.9025148749351501,
          0.8521915674209595,
          0.7478520274162292,
          0.818730354309082,
          0.9132804870605469,
          0.8950209617614746,
          0.8558145761489868,
          0.8776695728302002,
          0.9417835474014282,
          0.8039209842681885,
          0.8952000141143799,
          0.7532278895378113,
          0.8938149809837341,
          0.9287907481193542,
          0.782114565372467,
          0.7105135917663574,
          0.861473560333252,
          0.7922620177268982,
          0.8562236428260803,
          0.8856375217437744,
          0.8550963401794434,
          0.7654918432235718,
          0.8774302005767822,
          0.8176073431968689,
          0.9439725875854492,
          0.8559675216674805,
          0.8532366156578064,
          0.8450360298156738,
          0.7238736748695374,
          0.7994951009750366,
          0.7571233510971069,
          0.8013285398483276,
          0.9175320863723755,
          0.7578166723251343,
          0.8226782083511353,
          0.8426064848899841,
          0.9379149079322815,
          0.876727819442749,
          0.9024332165718079,
          0.7168270945549011,
          0.5679218173027039,
          0.8129426836967468,
          0.8503376245498657,
          0.7011629343032837,
          0.9342929720878601,
          0.8397157788276672,
          0.8818911910057068,
          0.9386405944824219,
          0.8908432126045227,
          0.8049980401992798,
          0.8223790526390076,
          0.8683634400367737,
          0.7193708419799805,
          0.7461434006690979,
          0.8042616844177246,
          0.8500227928161621,
          0.8022295236587524,
          0.7943701148033142,
          0.9185475707054138,
          0.8005364537239075,
          0.8079494833946228,
          0.7956050634384155,
          0.8320024609565735,
          0.5712404251098633,
          0.6873374581336975,
          0.7943277955055237,
          0.8801135420799255,
          0.7300763726234436,
          0.7300418019294739,
          0.7689635753631592,
          0.6587069630622864,
          0.9188553094863892,
          0.7864701747894287,
          0.6587153673171997,
          0.7954239845275879,
          0.7326547503471375,
          0.6417741179466248,
          0.7184043526649475,
          0.6862788796424866,
          0.8514707088470459,
          0.6457712054252625,
          0.6944997906684875,
          0.7872825860977173,
          0.592562198638916,
          0.7716072201728821,
          0.6222173571586609,
          0.696463406085968,
          0.6694822311401367,
          0.4753239154815674,
          0.7769143581390381,
          0.7656802535057068,
          0.7877514958381653,
          0.5764917731285095,
          0.6955903768539429,
          0.7865561246871948,
          0.7012752890586853,
          0.6767348647117615,
          0.9584201574325562,
          0.7433569431304932,
          0.7271373271942139,
          0.8450080156326294,
          0.5964681506156921,
          0.7128318548202515,
          0.732426106929779,
          0.6574302911758423,
          0.7701277136802673,
          0.7202762365341187,
          0.7352649569511414,
          0.896719217300415,
          0.5218921303749084,
          0.7908714413642883,
          0.8379266262054443,
          0.46987229585647583,
          0.7500357627868652,
          0.7422487139701843,
          0.6637976765632629,
          0.6540554761886597,
          0.6603673100471497,
          0.47390028834342957,
          0.381641685962677
         ],
         "xaxis": "x4",
         "y": [
          7.804200172424316,
          7.586400032043457,
          7.529600143432617,
          7.472899913787842,
          7.4029998779296875,
          7.395199775695801,
          7.315499782562256,
          7.240099906921387,
          7.22790002822876,
          7.122900009155273,
          7.097300052642822,
          7.094600200653076,
          6.960700035095215,
          6.910799980163574,
          6.893700122833252,
          6.8917999267578125,
          6.859099864959717,
          6.845200061798096,
          6.795599937438965,
          6.763000011444092,
          6.661300182342529,
          6.649899959564209,
          6.608500003814697,
          6.589099884033203,
          6.586699962615967,
          6.571199893951416,
          6.535399913787842,
          6.493899822235107,
          6.468599796295166,
          6.462600231170654,
          6.4552001953125,
          6.436200141906738,
          6.4045000076293945,
          6.367599964141846,
          6.333799839019775,
          6.329500198364258,
          6.299900054931641,
          6.264500141143799,
          6.259699821472168,
          6.258800029754639,
          6.212699890136719,
          6.1732001304626465,
          6.150300025939941,
          6.143899917602539,
          6.143599987030029,
          6.130000114440918,
          6.129000186920166,
          6.125,
          6.124599933624268,
          6.121600151062012,
          6.041200160980225,
          6.02370023727417,
          6.022500038146973,
          6.0142998695373535,
          6.01230001449585,
          5.9679999351501465,
          5.951099872589111,
          5.9309000968933105,
          5.902299880981445,
          5.8429999351501465,
          5.840199947357178,
          5.825300216674805,
          5.819200038909912,
          5.81790018081665,
          5.763299942016602,
          5.737800121307373,
          5.7221999168396,
          5.702700138092041,
          5.684299945831299,
          5.660699844360352,
          5.632500171661377,
          5.63040018081665,
          5.568900108337402,
          5.558899879455566,
          5.525899887084961,
          5.522900104522705,
          5.466100215911865,
          5.360300064086914,
          5.341700077056885,
          5.329800128936768,
          5.329100131988525,
          5.308499813079834,
          5.277299880981445,
          5.276899814605713,
          5.274600028991699,
          5.267099857330322,
          5.253600120544434,
          5.210599899291992,
          5.1107001304626465,
          5.109099864959717,
          5.071700096130371,
          5.071400165557861,
          5.052700042724609,
          5.0346999168396,
          4.980599880218506,
          4.973199844360352,
          4.953999996185303,
          4.940899848937988,
          4.907800197601318,
          4.9028000831604,
          4.876299858093262,
          4.855100154876709,
          4.723899841308594,
          4.637599945068359,
          4.630799770355225,
          4.613500118255615,
          4.605000019073486,
          4.5553998947143555,
          4.501299858093262,
          4.496699810028076,
          4.486599922180176,
          4.4415998458862305,
          4.432499885559082,
          4.396599769592285,
          4.393499851226807,
          4.373700141906738,
          4.372499942779541,
          4.282100200653076,
          4.279399871826172,
          4.197800159454346,
          4.170499801635742,
          4.137400150299072,
          4.119800090789795,
          4.09060001373291,
          4.042300224304199,
          4.035799980163574,
          4.019100189208984,
          3.9821999073028564,
          3.6937999725341797,
          3.5452001094818115,
          3.4951999187469482,
          3.43530011177063,
          3.207200050354004,
          3.2035000324249268,
          3.1375999450683594,
          2.392199993133545,
          1.8589999675750732
         ],
         "yaxis": "y4"
        },
        {
         "hovertemplate": "<b>OLS trendline</b><br>Ladder score = 6.72607 * Freedom to make life choices + 0.24347<br>R<sup>2</sup>=0.439466<br><br>Freedom to make life choices=%{x}<br>Ladder score=%{y} <b>(trend)</b><extra></extra>",
         "legendgroup": "",
         "marker": {
          "color": "#636efa",
          "symbol": "circle"
         },
         "mode": "lines",
         "name": "",
         "showlegend": false,
         "type": "scatter",
         "x": [
          0.381641685962677,
          0.46987229585647583,
          0.47390028834342957,
          0.4753239154815674,
          0.5218921303749084,
          0.5679218173027039,
          0.5712404251098633,
          0.5764917731285095,
          0.592562198638916,
          0.5964681506156921,
          0.6222173571586609,
          0.6417741179466248,
          0.6457712054252625,
          0.6540554761886597,
          0.6574302911758423,
          0.6587069630622864,
          0.6587153673171997,
          0.6603673100471497,
          0.6637976765632629,
          0.6694822311401367,
          0.6767348647117615,
          0.6862788796424866,
          0.6873374581336975,
          0.6944997906684875,
          0.6955903768539429,
          0.696463406085968,
          0.7011629343032837,
          0.7012752890586853,
          0.7105135917663574,
          0.7128318548202515,
          0.7168270945549011,
          0.7184043526649475,
          0.7193708419799805,
          0.7202762365341187,
          0.7238736748695374,
          0.7271373271942139,
          0.7300418019294739,
          0.7300763726234436,
          0.732426106929779,
          0.7326547503471375,
          0.7352649569511414,
          0.7422487139701843,
          0.7433569431304932,
          0.7461434006690979,
          0.7478520274162292,
          0.7500357627868652,
          0.7532278895378113,
          0.7571233510971069,
          0.7578166723251343,
          0.7654918432235718,
          0.7656802535057068,
          0.7689635753631592,
          0.7701277136802673,
          0.7716072201728821,
          0.7769143581390381,
          0.782114565372467,
          0.7864701747894287,
          0.7865561246871948,
          0.7872825860977173,
          0.7877514958381653,
          0.7908714413642883,
          0.7922620177268982,
          0.7943277955055237,
          0.7943701148033142,
          0.7954239845275879,
          0.7956050634384155,
          0.7994951009750366,
          0.8004881143569946,
          0.8005364537239075,
          0.8013285398483276,
          0.8022295236587524,
          0.8039209842681885,
          0.8042616844177246,
          0.8049980401992798,
          0.8079494833946228,
          0.8088658452033997,
          0.8129426836967468,
          0.8176073431968689,
          0.818730354309082,
          0.8223790526390076,
          0.8226782083511353,
          0.8252285122871399,
          0.8320024609565735,
          0.8379266262054443,
          0.8397157788276672,
          0.8426064848899841,
          0.8450080156326294,
          0.8450360298156738,
          0.845851480960846,
          0.8500227928161621,
          0.8503376245498657,
          0.8514707088470459,
          0.8521915674209595,
          0.8532366156578064,
          0.8547372817993164,
          0.8550963401794434,
          0.8558145761489868,
          0.8559675216674805,
          0.8562236428260803,
          0.861473560333252,
          0.8683634400367737,
          0.8743810653686523,
          0.8744681477546692,
          0.876727819442749,
          0.8774302005767822,
          0.8776695728302002,
          0.8801135420799255,
          0.8818911910057068,
          0.8856375217437744,
          0.8865742683410645,
          0.8868750929832458,
          0.890199601650238,
          0.8908432126045227,
          0.8910744190216064,
          0.8938149809837341,
          0.8950209617614746,
          0.8952000141143799,
          0.896719217300415,
          0.9024332165718079,
          0.9025148749351501,
          0.9132804870605469,
          0.9149384498596191,
          0.9175320863723755,
          0.9185475707054138,
          0.9188553094863892,
          0.9287907481193542,
          0.9335328340530396,
          0.9342929720878601,
          0.9363492131233215,
          0.9379149079322815,
          0.9386405944824219,
          0.9417835474014282,
          0.9439725875854492,
          0.9466164112091064,
          0.9479710459709167,
          0.9584201574325562,
          0.9614078998565674
         ],
         "xaxis": "x4",
         "y": [
          2.810417988684498,
          3.4038630461347044,
          3.430955596392563,
          3.440531008936994,
          3.7537519760820333,
          4.063350767659699,
          4.085671948519097,
          4.120992870933298,
          4.22908364126518,
          4.255355338786547,
          4.428546245826432,
          4.560086343342735,
          4.586971024421658,
          4.6426915906178445,
          4.665390824776637,
          4.67397780634582,
          4.674034333933535,
          4.685145412610874,
          4.7082182901154095,
          4.746452989178606,
          4.79523469375663,
          4.859428384536816,
          4.866548455159567,
          4.914722788848319,
          4.9220581453902374,
          4.92793019912962,
          4.959539544188786,
          4.960295249882699,
          5.0224326995466635,
          5.038025493848537,
          5.064897746876261,
          5.075506491742209,
          5.082007164329365,
          5.088096909417179,
          5.112293523293087,
          5.134245069855516,
          5.153780763626688,
          5.154013288455585,
          5.1698177605327285,
          5.171355631642463,
          5.188912058033877,
          5.235885280709916,
          5.243339305095548,
          5.262081207209453,
          5.273573546425207,
          5.288261498418772,
          5.309731959128312,
          5.335933097391256,
          5.340596422925255,
          5.392220142179219,
          5.393487402496702,
          5.415571247668675,
          5.4234013208293135,
          5.4333525816963135,
          5.469048751075769,
          5.504025697105154,
          5.533321821021682,
          5.533899925854903,
          5.538786154500741,
          5.541940073171303,
          5.562925038074303,
          5.572278148864211,
          5.586172710105387,
          5.586457352568346,
          5.593545751705783,
          5.5947637007233455,
          5.620928356642445,
          5.627607431900048,
          5.627932565755625,
          5.633260190671488,
          5.639320268798375,
          5.650697147409435,
          5.652988719688694,
          5.657941498544182,
          5.677793105358751,
          5.683956616944009,
          5.711377708748903,
          5.742752524454786,
          5.750305973250014,
          5.7748473653204915,
          5.776859506900198,
          5.794013023889818,
          5.839575061397385,
          5.879421398067758,
          5.8914553597728885,
          5.91089844451738,
          5.927051302932991,
          5.927239728225373,
          5.932724507853179,
          5.960781033888764,
          5.962898613451228,
          5.9705198151707375,
          5.975368358758099,
          5.982397423973679,
          5.992491006072159,
          5.994906057053659,
          5.999736960826415,
          6.000765682741842,
          6.0024883710000605,
          6.037799671697204,
          6.084141469191328,
          6.124616424709476,
          6.125202146735368,
          6.14040085154275,
          6.145125114618115,
          6.146735148605782,
          6.163173451294107,
          6.175130038357898,
          6.200328112617569,
          6.2066287336709,
          6.208652100587174,
          6.231012971029434,
          6.235341941895677,
          6.23689705191514,
          6.255330257273442,
          6.263441765658021,
          6.264646083909752,
          6.274864347425106,
          6.3132970934977415,
          6.3138463331797885,
          6.386256569422435,
          6.397408139492391,
          6.414853114327886,
          6.421683330724272,
          6.423753202606325,
          6.490579635716444,
          6.522475226858079,
          6.527587966759652,
          6.541418383220444,
          6.551949352540174,
          6.556830369422606,
          6.577970083608285,
          6.59269371613594,
          6.610476252878211,
          6.619587618027043,
          6.689869049370657,
          6.7099648072555675
         ],
         "yaxis": "y4"
        },
        {
         "customdata": [
          [
           "Finland"
          ],
          [
           "Denmark"
          ],
          [
           "Iceland"
          ],
          [
           "Israel"
          ],
          [
           "Netherlands"
          ],
          [
           "Sweden"
          ],
          [
           "Norway"
          ],
          [
           "Switzerland"
          ],
          [
           "Luxembourg"
          ],
          [
           "New Zealand"
          ],
          [
           "Austria"
          ],
          [
           "Australia"
          ],
          [
           "Canada"
          ],
          [
           "Ireland"
          ],
          [
           "United States"
          ],
          [
           "Germany"
          ],
          [
           "Belgium"
          ],
          [
           "Czechia"
          ],
          [
           "United Kingdom"
          ],
          [
           "Lithuania"
          ],
          [
           "France"
          ],
          [
           "Slovenia"
          ],
          [
           "Costa Rica"
          ],
          [
           "Romania"
          ],
          [
           "Singapore"
          ],
          [
           "United Arab Emirates"
          ],
          [
           "Taiwan Province of China"
          ],
          [
           "Uruguay"
          ],
          [
           "Slovakia"
          ],
          [
           "Saudi Arabia"
          ],
          [
           "Estonia"
          ],
          [
           "Spain"
          ],
          [
           "Italy"
          ],
          [
           "Kosovo"
          ],
          [
           "Chile"
          ],
          [
           "Mexico"
          ],
          [
           "Malta"
          ],
          [
           "Panama"
          ],
          [
           "Poland"
          ],
          [
           "Nicaragua"
          ],
          [
           "Latvia"
          ],
          [
           "Bahrain"
          ],
          [
           "Guatemala"
          ],
          [
           "Kazakhstan"
          ],
          [
           "Serbia"
          ],
          [
           "Cyprus"
          ],
          [
           "Japan"
          ],
          [
           "Croatia"
          ],
          [
           "Brazil"
          ],
          [
           "El Salvador"
          ],
          [
           "Hungary"
          ],
          [
           "Argentina"
          ],
          [
           "Honduras"
          ],
          [
           "Uzbekistan"
          ],
          [
           "Malaysia"
          ],
          [
           "Portugal"
          ],
          [
           "South Korea"
          ],
          [
           "Greece"
          ],
          [
           "Mauritius"
          ],
          [
           "Thailand"
          ],
          [
           "Mongolia"
          ],
          [
           "Kyrgyzstan"
          ],
          [
           "Moldova"
          ],
          [
           "China"
          ],
          [
           "Vietnam"
          ],
          [
           "Paraguay"
          ],
          [
           "Montenegro"
          ],
          [
           "Jamaica"
          ],
          [
           "Bolivia"
          ],
          [
           "Russia"
          ],
          [
           "Bosnia and Herzegovina"
          ],
          [
           "Colombia"
          ],
          [
           "Dominican Republic"
          ],
          [
           "Ecuador"
          ],
          [
           "Peru"
          ],
          [
           "Philippines"
          ],
          [
           "Bulgaria"
          ],
          [
           "Nepal"
          ],
          [
           "Armenia"
          ],
          [
           "Tajikistan"
          ],
          [
           "Algeria"
          ],
          [
           "Hong Kong S.A.R. of China"
          ],
          [
           "Albania"
          ],
          [
           "Indonesia"
          ],
          [
           "South Africa"
          ],
          [
           "Congo (Brazzaville)"
          ],
          [
           "North Macedonia"
          ],
          [
           "Venezuela"
          ],
          [
           "Laos"
          ],
          [
           "Georgia"
          ],
          [
           "Guinea"
          ],
          [
           "Ukraine"
          ],
          [
           "Ivory Coast"
          ],
          [
           "Gabon"
          ],
          [
           "Nigeria"
          ],
          [
           "Cameroon"
          ],
          [
           "Mozambique"
          ],
          [
           "Iraq"
          ],
          [
           "State of Palestine"
          ],
          [
           "Morocco"
          ],
          [
           "Iran"
          ],
          [
           "Senegal"
          ],
          [
           "Mauritania"
          ],
          [
           "Burkina Faso"
          ],
          [
           "Namibia"
          ],
          [
           "Turkiye"
          ],
          [
           "Ghana"
          ],
          [
           "Pakistan"
          ],
          [
           "Niger"
          ],
          [
           "Tunisia"
          ],
          [
           "Kenya"
          ],
          [
           "Sri Lanka"
          ],
          [
           "Uganda"
          ],
          [
           "Chad"
          ],
          [
           "Cambodia"
          ],
          [
           "Benin"
          ],
          [
           "Myanmar"
          ],
          [
           "Bangladesh"
          ],
          [
           "Gambia"
          ],
          [
           "Mali"
          ],
          [
           "Egypt"
          ],
          [
           "Togo"
          ],
          [
           "Jordan"
          ],
          [
           "Ethiopia"
          ],
          [
           "Liberia"
          ],
          [
           "India"
          ],
          [
           "Madagascar"
          ],
          [
           "Zambia"
          ],
          [
           "Tanzania"
          ],
          [
           "Comoros"
          ],
          [
           "Malawi"
          ],
          [
           "Botswana"
          ],
          [
           "Congo (Kinshasa)"
          ],
          [
           "Zimbabwe"
          ],
          [
           "Sierra Leone"
          ],
          [
           "Lebanon"
          ],
          [
           "Afghanistan"
          ]
         ],
         "hovertemplate": "Generosity=%{x}<br>Ladder score=%{y}<br>Country name=%{customdata[0]}<extra></extra>",
         "legendgroup": "",
         "marker": {
          "color": "#636efa",
          "symbol": "circle"
         },
         "mode": "markers",
         "name": "",
         "orientation": "v",
         "showlegend": false,
         "type": "scatter",
         "x": [
          -0.01882416568696499,
          0.13424216210842133,
          0.21098653972148895,
          -0.023080050945281982,
          0.21268615126609802,
          0.16478857398033142,
          0.14063605666160583,
          0.026686418801546097,
          0.023949623107910156,
          0.17482823133468628,
          0.10160446912050247,
          0.19756107032299042,
          0.15254651010036469,
          0.09165952354669571,
          0.1365049034357071,
          0.03003772906959057,
          0.0014193850802257657,
          0.039763081818819046,
          0.2533075213432312,
          -0.1452128291130066,
          -0.10028985142707825,
          0.014400637708604336,
          -0.06980490684509277,
          -0.17174836993217468,
          0.06273898482322693,
          0.0956914871931076,
          -0.1289578080177307,
          -0.0646173283457756,
          -0.016442598775029182,
          -0.08065205812454224,
          0.03176429495215416,
          -0.06592799723148346,
          -0.07354280352592468,
          0.2587166726589203,
          -0.01102911215275526,
          -0.09356047213077545,
          0.11931498348712921,
          -0.1333904266357422,
          -0.030951187014579773,
          0.020930536091327667,
          -0.05558248236775398,
          0.11702514439821243,
          -0.05726039409637451,
          -0.00048266377416439354,
          0.20399533212184906,
          -0.06002657115459442,
          -0.2369365394115448,
          -0.09264640510082245,
          -0.009369962848722935,
          -0.10790495574474335,
          -0.0591716542840004,
          -0.08947993069887161,
          0.09735216200351715,
          0.22953176498413086,
          0.1595873385667801,
          -0.1960751861333847,
          -0.046214234083890915,
          -0.23956792056560516,
          -0.028224512934684753,
          0.288653165102005,
          0.1904609650373459,
          0.18135109543800354,
          -0.08008436858654022,
          -0.04078250378370285,
          -0.003642743919044733,
          0.020743167027831078,
          0.06348329037427902,
          -0.10625693202018738,
          -0.06271975487470627,
          -0.030358081683516502,
          0.2064070999622345,
          -0.10431458801031113,
          -0.09879419952630997,
          -0.10767285525798798,
          -0.11885213851928711,
          -0.059889622032642365,
          -0.05682698264718056,
          0.14593517780303955,
          -0.15531496703624725,
          -0.05975857377052307,
          -0.11737403273582458,
          -0.025891533121466637,
          -0.006932398770004511,
          0.5313863158226013,
          -0.08662868291139603,
          -0.004339446779340506,
          0.13123969733715057,
          0.1283712387084961,
          0.09098886698484421,
          -0.2542763352394104,
          0.12520068883895874,
          0.24031107127666473,
          0.0028205241542309523,
          -0.18701210618019104,
          0.07284920662641525,
          0.014762576669454575,
          0.046691328287124634,
          -0.005399684421718121,
          -0.13236990571022034,
          -0.23078373074531555,
          0.17293280363082886,
          0.010772932320833206,
          -0.012799613177776337,
          0.09536733478307724,
          -0.12557707726955414,
          -0.07701713591814041,
          0.13925385475158691,
          0.007815486751496792,
          0.03229398652911186,
          -0.21260371804237366,
          0.28811517357826233,
          -0.029988300055265427,
          0.11373607814311981,
          0.22116167843341827,
          0.07331392914056778,
          -0.04252257198095322,
          0.4913972020149231,
          0.005050376523286104,
          0.3642035126686096,
          -0.028211304917931557,
          -0.18290594220161438,
          0.024008233100175858,
          -0.1498849242925644,
          0.2733151912689209,
          0.1543213427066803,
          0.07174995541572571,
          0.07543767988681793,
          0.0983889028429985,
          0.18199002742767334,
          -0.014281230978667736,
          0.005193292163312435,
          -0.21462056040763855,
          0.08599790185689926,
          -0.04623023048043251,
          0.10492908954620361,
          -0.14091499149799347,
          -0.08101112395524979
         ],
         "xaxis": "x5",
         "y": [
          7.804200172424316,
          7.586400032043457,
          7.529600143432617,
          7.472899913787842,
          7.4029998779296875,
          7.395199775695801,
          7.315499782562256,
          7.240099906921387,
          7.22790002822876,
          7.122900009155273,
          7.097300052642822,
          7.094600200653076,
          6.960700035095215,
          6.910799980163574,
          6.893700122833252,
          6.8917999267578125,
          6.859099864959717,
          6.845200061798096,
          6.795599937438965,
          6.763000011444092,
          6.661300182342529,
          6.649899959564209,
          6.608500003814697,
          6.589099884033203,
          6.586699962615967,
          6.571199893951416,
          6.535399913787842,
          6.493899822235107,
          6.468599796295166,
          6.462600231170654,
          6.4552001953125,
          6.436200141906738,
          6.4045000076293945,
          6.367599964141846,
          6.333799839019775,
          6.329500198364258,
          6.299900054931641,
          6.264500141143799,
          6.259699821472168,
          6.258800029754639,
          6.212699890136719,
          6.1732001304626465,
          6.150300025939941,
          6.143899917602539,
          6.143599987030029,
          6.130000114440918,
          6.129000186920166,
          6.125,
          6.124599933624268,
          6.121600151062012,
          6.041200160980225,
          6.02370023727417,
          6.022500038146973,
          6.0142998695373535,
          6.01230001449585,
          5.9679999351501465,
          5.951099872589111,
          5.9309000968933105,
          5.902299880981445,
          5.8429999351501465,
          5.840199947357178,
          5.825300216674805,
          5.819200038909912,
          5.81790018081665,
          5.763299942016602,
          5.737800121307373,
          5.7221999168396,
          5.702700138092041,
          5.684299945831299,
          5.660699844360352,
          5.632500171661377,
          5.63040018081665,
          5.568900108337402,
          5.558899879455566,
          5.525899887084961,
          5.522900104522705,
          5.466100215911865,
          5.360300064086914,
          5.341700077056885,
          5.329800128936768,
          5.329100131988525,
          5.308499813079834,
          5.277299880981445,
          5.276899814605713,
          5.274600028991699,
          5.267099857330322,
          5.253600120544434,
          5.210599899291992,
          5.1107001304626465,
          5.109099864959717,
          5.071700096130371,
          5.071400165557861,
          5.052700042724609,
          5.0346999168396,
          4.980599880218506,
          4.973199844360352,
          4.953999996185303,
          4.940899848937988,
          4.907800197601318,
          4.9028000831604,
          4.876299858093262,
          4.855100154876709,
          4.723899841308594,
          4.637599945068359,
          4.630799770355225,
          4.613500118255615,
          4.605000019073486,
          4.5553998947143555,
          4.501299858093262,
          4.496699810028076,
          4.486599922180176,
          4.4415998458862305,
          4.432499885559082,
          4.396599769592285,
          4.393499851226807,
          4.373700141906738,
          4.372499942779541,
          4.282100200653076,
          4.279399871826172,
          4.197800159454346,
          4.170499801635742,
          4.137400150299072,
          4.119800090789795,
          4.09060001373291,
          4.042300224304199,
          4.035799980163574,
          4.019100189208984,
          3.9821999073028564,
          3.6937999725341797,
          3.5452001094818115,
          3.4951999187469482,
          3.43530011177063,
          3.207200050354004,
          3.2035000324249268,
          3.1375999450683594,
          2.392199993133545,
          1.8589999675750732
         ],
         "yaxis": "y5"
        },
        {
         "hovertemplate": "<b>OLS trendline</b><br>Ladder score = 0.351413 * Generosity + 5.53187<br>R<sup>2</sup>=0.001909<br><br>Generosity=%{x}<br>Ladder score=%{y} <b>(trend)</b><extra></extra>",
         "legendgroup": "",
         "marker": {
          "color": "#636efa",
          "symbol": "circle"
         },
         "mode": "lines",
         "name": "",
         "showlegend": false,
         "type": "scatter",
         "x": [
          -0.2542763352394104,
          -0.23956792056560516,
          -0.2369365394115448,
          -0.23078373074531555,
          -0.21462056040763855,
          -0.21260371804237366,
          -0.1960751861333847,
          -0.18701210618019104,
          -0.18290594220161438,
          -0.17174836993217468,
          -0.15531496703624725,
          -0.1498849242925644,
          -0.1452128291130066,
          -0.14091499149799347,
          -0.1333904266357422,
          -0.13236990571022034,
          -0.1289578080177307,
          -0.12557707726955414,
          -0.11885213851928711,
          -0.11737403273582458,
          -0.10790495574474335,
          -0.10767285525798798,
          -0.10625693202018738,
          -0.10431458801031113,
          -0.10028985142707825,
          -0.09879419952630997,
          -0.09356047213077545,
          -0.09264640510082245,
          -0.08947993069887161,
          -0.08662868291139603,
          -0.08101112395524979,
          -0.08065205812454224,
          -0.08008436858654022,
          -0.07701713591814041,
          -0.07354280352592468,
          -0.06980490684509277,
          -0.06592799723148346,
          -0.0646173283457756,
          -0.06271975487470627,
          -0.06002657115459442,
          -0.059889622032642365,
          -0.05975857377052307,
          -0.0591716542840004,
          -0.05726039409637451,
          -0.05682698264718056,
          -0.05558248236775398,
          -0.04623023048043251,
          -0.046214234083890915,
          -0.04252257198095322,
          -0.04078250378370285,
          -0.030951187014579773,
          -0.030358081683516502,
          -0.029988300055265427,
          -0.028224512934684753,
          -0.028211304917931557,
          -0.025891533121466637,
          -0.023080050945281982,
          -0.01882416568696499,
          -0.016442598775029182,
          -0.014281230978667736,
          -0.012799613177776337,
          -0.01102911215275526,
          -0.009369962848722935,
          -0.006932398770004511,
          -0.005399684421718121,
          -0.004339446779340506,
          -0.003642743919044733,
          -0.00048266377416439354,
          0.0014193850802257657,
          0.0028205241542309523,
          0.005050376523286104,
          0.005193292163312435,
          0.007815486751496792,
          0.010772932320833206,
          0.014400637708604336,
          0.014762576669454575,
          0.020743167027831078,
          0.020930536091327667,
          0.023949623107910156,
          0.024008233100175858,
          0.026686418801546097,
          0.03003772906959057,
          0.03176429495215416,
          0.03229398652911186,
          0.039763081818819046,
          0.046691328287124634,
          0.06273898482322693,
          0.06348329037427902,
          0.07174995541572571,
          0.07284920662641525,
          0.07331392914056778,
          0.07543767988681793,
          0.08599790185689926,
          0.09098886698484421,
          0.09165952354669571,
          0.09536733478307724,
          0.0956914871931076,
          0.09735216200351715,
          0.0983889028429985,
          0.10160446912050247,
          0.10492908954620361,
          0.11373607814311981,
          0.11702514439821243,
          0.11931498348712921,
          0.12520068883895874,
          0.1283712387084961,
          0.13123969733715057,
          0.13424216210842133,
          0.1365049034357071,
          0.13925385475158691,
          0.14063605666160583,
          0.14593517780303955,
          0.15254651010036469,
          0.1543213427066803,
          0.1595873385667801,
          0.16478857398033142,
          0.17293280363082886,
          0.17482823133468628,
          0.18135109543800354,
          0.18199002742767334,
          0.1904609650373459,
          0.19756107032299042,
          0.20399533212184906,
          0.2064070999622345,
          0.21098653972148895,
          0.21268615126609802,
          0.22116167843341827,
          0.22953176498413086,
          0.24031107127666473,
          0.2533075213432312,
          0.2587166726589203,
          0.2733151912689209,
          0.28811517357826233,
          0.288653165102005,
          0.3642035126686096,
          0.4913972020149231,
          0.5313863158226013
         ],
         "xaxis": "x5",
         "y": [
          5.442512189765452,
          5.447680925167465,
          5.4486056280147,
          5.450767808010318,
          5.456447764184107,
          5.457156509807943,
          5.462964858968334,
          5.466149747567428,
          5.46759270900095,
          5.471513630464517,
          5.477288550005982,
          5.479196740302908,
          5.480838577597526,
          5.482348895733469,
          5.4849931293678065,
          5.485351754192658,
          5.4865508113670325,
          5.487738845773888,
          5.49010208000176,
          5.490621506320663,
          5.493949067757678,
          5.49403063100085,
          5.494528205534072,
          5.495210771430492,
          5.496625118178451,
          5.497150710439755,
          5.498989912874125,
          5.49931112836351,
          5.5004238701989765,
          5.501425837148227,
          5.5033999231726884,
          5.503526103751084,
          5.503725597515538,
          5.5048034644665975,
          5.506024391754294,
          5.507337939089731,
          5.508700337445684,
          5.509160924179205,
          5.509827757104122,
          5.510774178207075,
          5.510822303976616,
          5.510868356104382,
          5.511074607532248,
          5.511746250154062,
          5.5118985567860665,
          5.512335890978414,
          5.515622398497449,
          5.51562801984706,
          5.516925319727904,
          5.517536803174115,
          5.520991660557452,
          5.521200085774566,
          5.521330032028825,
          5.521949850624774,
          5.5219544921001,
          5.522769691214001,
          5.52375768399082,
          5.5252532595024855,
          5.52609017425387,
          5.526849708064521,
          5.527370368553742,
          5.527992546506313,
          5.528575593961472,
          5.529432186872929,
          5.529970803378436,
          5.5303433851935555,
          5.53058821598046,
          5.531698710787703,
          5.532367116422714,
          5.5328594956012696,
          5.533643095814944,
          5.533693318299453,
          5.5346147928634695,
          5.535654079146374,
          5.536928903774431,
          5.5370560940095315,
          5.539157754167735,
          5.539223598185137,
          5.540284546104437,
          5.540305142446643,
          5.541246293043416,
          5.542423988696532,
          5.543030727247153,
          5.543216868015325,
          5.545841608893325,
          5.548276288196893,
          5.553915651261984,
          5.554177210276803,
          5.55708222792853,
          5.5574685196380305,
          5.557631829400795,
          5.558378144072405,
          5.562089148579715,
          5.56384304107725,
          5.564078718843394,
          5.565381693747657,
          5.5654956052788815,
          5.566079188817567,
          5.566443513539067,
          5.567573506922083,
          5.568741823404428,
          5.57183671804505,
          5.572992540312051,
          5.573797220668587,
          5.575865536955046,
          5.576979710964819,
          5.577987726035916,
          5.579042832673901,
          5.579837990511324,
          5.580804009099996,
          5.581289733503577,
          5.583151916182724,
          5.5854752275699475,
          5.58609892769864,
          5.587949469706912,
          5.589777254020343,
          5.59263924622346,
          5.593305325096824,
          5.595597547566821,
          5.595822076890187,
          5.598798878678984,
          5.601293951490148,
          5.603555037914697,
          5.604402565679891,
          5.6060118426094565,
          5.60660910904198,
          5.6095875236632695,
          5.612528885028993,
          5.616316878723691,
          5.620884006660272,
          5.6227848554274775,
          5.6279149718696555,
          5.633115885374473,
          5.6333049428559505,
          5.659854354520102,
          5.704551933397029,
          5.718604647630126
         ],
         "yaxis": "y5"
        },
        {
         "customdata": [
          [
           "Finland"
          ],
          [
           "Denmark"
          ],
          [
           "Iceland"
          ],
          [
           "Israel"
          ],
          [
           "Netherlands"
          ],
          [
           "Sweden"
          ],
          [
           "Norway"
          ],
          [
           "Switzerland"
          ],
          [
           "Luxembourg"
          ],
          [
           "New Zealand"
          ],
          [
           "Austria"
          ],
          [
           "Australia"
          ],
          [
           "Canada"
          ],
          [
           "Ireland"
          ],
          [
           "United States"
          ],
          [
           "Germany"
          ],
          [
           "Belgium"
          ],
          [
           "Czechia"
          ],
          [
           "United Kingdom"
          ],
          [
           "Lithuania"
          ],
          [
           "France"
          ],
          [
           "Slovenia"
          ],
          [
           "Costa Rica"
          ],
          [
           "Romania"
          ],
          [
           "Singapore"
          ],
          [
           "United Arab Emirates"
          ],
          [
           "Taiwan Province of China"
          ],
          [
           "Uruguay"
          ],
          [
           "Slovakia"
          ],
          [
           "Saudi Arabia"
          ],
          [
           "Estonia"
          ],
          [
           "Spain"
          ],
          [
           "Italy"
          ],
          [
           "Kosovo"
          ],
          [
           "Chile"
          ],
          [
           "Mexico"
          ],
          [
           "Malta"
          ],
          [
           "Panama"
          ],
          [
           "Poland"
          ],
          [
           "Nicaragua"
          ],
          [
           "Latvia"
          ],
          [
           "Bahrain"
          ],
          [
           "Guatemala"
          ],
          [
           "Kazakhstan"
          ],
          [
           "Serbia"
          ],
          [
           "Cyprus"
          ],
          [
           "Japan"
          ],
          [
           "Croatia"
          ],
          [
           "Brazil"
          ],
          [
           "El Salvador"
          ],
          [
           "Hungary"
          ],
          [
           "Argentina"
          ],
          [
           "Honduras"
          ],
          [
           "Uzbekistan"
          ],
          [
           "Malaysia"
          ],
          [
           "Portugal"
          ],
          [
           "South Korea"
          ],
          [
           "Greece"
          ],
          [
           "Mauritius"
          ],
          [
           "Thailand"
          ],
          [
           "Mongolia"
          ],
          [
           "Kyrgyzstan"
          ],
          [
           "Moldova"
          ],
          [
           "China"
          ],
          [
           "Vietnam"
          ],
          [
           "Paraguay"
          ],
          [
           "Montenegro"
          ],
          [
           "Jamaica"
          ],
          [
           "Bolivia"
          ],
          [
           "Russia"
          ],
          [
           "Bosnia and Herzegovina"
          ],
          [
           "Colombia"
          ],
          [
           "Dominican Republic"
          ],
          [
           "Ecuador"
          ],
          [
           "Peru"
          ],
          [
           "Philippines"
          ],
          [
           "Bulgaria"
          ],
          [
           "Nepal"
          ],
          [
           "Armenia"
          ],
          [
           "Tajikistan"
          ],
          [
           "Algeria"
          ],
          [
           "Hong Kong S.A.R. of China"
          ],
          [
           "Albania"
          ],
          [
           "Indonesia"
          ],
          [
           "South Africa"
          ],
          [
           "Congo (Brazzaville)"
          ],
          [
           "North Macedonia"
          ],
          [
           "Venezuela"
          ],
          [
           "Laos"
          ],
          [
           "Georgia"
          ],
          [
           "Guinea"
          ],
          [
           "Ukraine"
          ],
          [
           "Ivory Coast"
          ],
          [
           "Gabon"
          ],
          [
           "Nigeria"
          ],
          [
           "Cameroon"
          ],
          [
           "Mozambique"
          ],
          [
           "Iraq"
          ],
          [
           "State of Palestine"
          ],
          [
           "Morocco"
          ],
          [
           "Iran"
          ],
          [
           "Senegal"
          ],
          [
           "Mauritania"
          ],
          [
           "Burkina Faso"
          ],
          [
           "Namibia"
          ],
          [
           "Turkiye"
          ],
          [
           "Ghana"
          ],
          [
           "Pakistan"
          ],
          [
           "Niger"
          ],
          [
           "Tunisia"
          ],
          [
           "Kenya"
          ],
          [
           "Sri Lanka"
          ],
          [
           "Uganda"
          ],
          [
           "Chad"
          ],
          [
           "Cambodia"
          ],
          [
           "Benin"
          ],
          [
           "Myanmar"
          ],
          [
           "Bangladesh"
          ],
          [
           "Gambia"
          ],
          [
           "Mali"
          ],
          [
           "Egypt"
          ],
          [
           "Togo"
          ],
          [
           "Jordan"
          ],
          [
           "Ethiopia"
          ],
          [
           "Liberia"
          ],
          [
           "India"
          ],
          [
           "Madagascar"
          ],
          [
           "Zambia"
          ],
          [
           "Tanzania"
          ],
          [
           "Comoros"
          ],
          [
           "Malawi"
          ],
          [
           "Botswana"
          ],
          [
           "Congo (Kinshasa)"
          ],
          [
           "Zimbabwe"
          ],
          [
           "Sierra Leone"
          ],
          [
           "Lebanon"
          ],
          [
           "Afghanistan"
          ]
         ],
         "hovertemplate": "Perceptions of corruption=%{x}<br>Ladder score=%{y}<br>Country name=%{customdata[0]}<extra></extra>",
         "legendgroup": "",
         "marker": {
          "color": "#636efa",
          "symbol": "circle"
         },
         "mode": "markers",
         "name": "",
         "orientation": "v",
         "showlegend": false,
         "type": "scatter",
         "x": [
          0.1817445605993271,
          0.19581389427185059,
          0.6678478121757507,
          0.7080935835838318,
          0.3789292871952057,
          0.20244838297367096,
          0.28274470567703247,
          0.26634758710861206,
          0.34497830271720886,
          0.27120545506477356,
          0.4967743754386902,
          0.4959157407283783,
          0.42021140456199646,
          0.3579522371292114,
          0.6885946989059448,
          0.4195641279220581,
          0.5485734343528748,
          0.8589491844177246,
          0.4540797472000122,
          0.8050867319107056,
          0.5526185035705566,
          0.7712460160255432,
          0.767810046672821,
          0.9290894269943237,
          0.1461123824119568,
          0.5837928652763367,
          0.6809817552566528,
          0.574579119682312,
          0.897835910320282,
          0.6913089752197266,
          0.40946701169013977,
          0.7105185389518738,
          0.8417539000511169,
          0.8661229014396667,
          0.8227498531341553,
          0.7683507204055786,
          0.7288661599159241,
          0.8782973885536194,
          0.7355665564537048,
          0.6250089406967163,
          0.8302519917488098,
          0.736698567867279,
          0.8365757465362549,
          0.7214602828025818,
          0.816429853439331,
          0.8597859740257263,
          0.6399160623550415,
          0.9252828359603882,
          0.7376851439476013,
          0.6196134686470032,
          0.8388599753379822,
          0.8140133619308472,
          0.8429010510444641,
          0.6381723880767822,
          0.7584688663482666,
          0.8780763149261475,
          0.7011785507202148,
          0.7932218313217163,
          0.7749056816101074,
          0.9103906750679016,
          0.8487215042114258,
          0.9037905335426331,
          0.900856614112854,
          0.7272279858589172,
          0.7588440775871277,
          0.8425903916358948,
          0.8444382548332214,
          0.8750672340393066,
          0.8457956910133362,
          0.8014196753501892,
          0.9175378084182739,
          0.83354651927948,
          0.6567947268486023,
          0.8325657844543457,
          0.8917118310928345,
          0.7320905923843384,
          0.9109797477722168,
          0.7833759188652039,
          0.7054339051246643,
          0.5215774178504944,
          0.7169064283370972,
          0.3846096694469452,
          0.8780936002731323,
          0.8759906888008118,
          0.9021425843238831,
          0.7391861081123352,
          0.9017152786254883,
          0.8114349842071533,
          0.7025218605995178,
          0.6488924622535706,
          0.7869686484336853,
          0.9067386388778687,
          0.7458509802818298,
          0.7863147854804993,
          0.9111672043800354,
          0.8463644981384277,
          0.6604602932929993,
          0.8762640357017517,
          0.8357949256896973,
          0.8108253479003906,
          0.7470312714576721,
          0.8458921313285828,
          0.6573241949081421,
          0.7713660597801208,
          0.8303823471069336,
          0.7948973774909973,
          0.8805339336395264,
          0.7866216897964478,
          0.733547568321228,
          0.9067373871803284,
          0.8524206876754761,
          0.8084906339645386,
          0.8572147488594055,
          0.8067120909690857,
          0.8572046160697937,
          0.5756282806396484,
          0.6584481000900269,
          0.6981850862503052,
          0.8826649188995361,
          0.8460237383842468,
          0.5802462100982666,
          0.7398090958595276,
          0.6872015595436096,
          0.7886511087417603,
          0.8300513029098511,
          0.7735828757286072,
          0.7418231964111328,
          0.8175567388534546,
          0.5538731813430786,
          0.7269982695579529,
          0.748948872089386,
          0.830392062664032,
          0.833751916885376,
          0.7655823230743408,
          0.8577796816825867,
          0.8911038637161255,
          0.8472148180007935
         ],
         "xaxis": "x6",
         "y": [
          7.804200172424316,
          7.586400032043457,
          7.529600143432617,
          7.472899913787842,
          7.4029998779296875,
          7.395199775695801,
          7.315499782562256,
          7.240099906921387,
          7.22790002822876,
          7.122900009155273,
          7.097300052642822,
          7.094600200653076,
          6.960700035095215,
          6.910799980163574,
          6.893700122833252,
          6.8917999267578125,
          6.859099864959717,
          6.845200061798096,
          6.795599937438965,
          6.763000011444092,
          6.661300182342529,
          6.649899959564209,
          6.608500003814697,
          6.589099884033203,
          6.586699962615967,
          6.571199893951416,
          6.535399913787842,
          6.493899822235107,
          6.468599796295166,
          6.462600231170654,
          6.4552001953125,
          6.436200141906738,
          6.4045000076293945,
          6.367599964141846,
          6.333799839019775,
          6.329500198364258,
          6.299900054931641,
          6.264500141143799,
          6.259699821472168,
          6.258800029754639,
          6.212699890136719,
          6.1732001304626465,
          6.150300025939941,
          6.143899917602539,
          6.143599987030029,
          6.130000114440918,
          6.129000186920166,
          6.125,
          6.124599933624268,
          6.121600151062012,
          6.041200160980225,
          6.02370023727417,
          6.022500038146973,
          6.0142998695373535,
          6.01230001449585,
          5.9679999351501465,
          5.951099872589111,
          5.9309000968933105,
          5.902299880981445,
          5.8429999351501465,
          5.840199947357178,
          5.825300216674805,
          5.819200038909912,
          5.81790018081665,
          5.763299942016602,
          5.737800121307373,
          5.7221999168396,
          5.702700138092041,
          5.684299945831299,
          5.660699844360352,
          5.632500171661377,
          5.63040018081665,
          5.568900108337402,
          5.558899879455566,
          5.525899887084961,
          5.522900104522705,
          5.466100215911865,
          5.360300064086914,
          5.341700077056885,
          5.329800128936768,
          5.329100131988525,
          5.308499813079834,
          5.277299880981445,
          5.276899814605713,
          5.274600028991699,
          5.267099857330322,
          5.253600120544434,
          5.210599899291992,
          5.1107001304626465,
          5.109099864959717,
          5.071700096130371,
          5.071400165557861,
          5.052700042724609,
          5.0346999168396,
          4.980599880218506,
          4.973199844360352,
          4.953999996185303,
          4.940899848937988,
          4.907800197601318,
          4.9028000831604,
          4.876299858093262,
          4.855100154876709,
          4.723899841308594,
          4.637599945068359,
          4.630799770355225,
          4.613500118255615,
          4.605000019073486,
          4.5553998947143555,
          4.501299858093262,
          4.496699810028076,
          4.486599922180176,
          4.4415998458862305,
          4.432499885559082,
          4.396599769592285,
          4.393499851226807,
          4.373700141906738,
          4.372499942779541,
          4.282100200653076,
          4.279399871826172,
          4.197800159454346,
          4.170499801635742,
          4.137400150299072,
          4.119800090789795,
          4.09060001373291,
          4.042300224304199,
          4.035799980163574,
          4.019100189208984,
          3.9821999073028564,
          3.6937999725341797,
          3.5452001094818115,
          3.4951999187469482,
          3.43530011177063,
          3.207200050354004,
          3.2035000324249268,
          3.1375999450683594,
          2.392199993133545,
          1.8589999675750732
         ],
         "yaxis": "y6"
        },
        {
         "hovertemplate": "<b>OLS trendline</b><br>Ladder score = -3.04029 * Perceptions of corruption + 7.74511<br>R<sup>2</sup>=0.222761<br><br>Perceptions of corruption=%{x}<br>Ladder score=%{y} <b>(trend)</b><extra></extra>",
         "legendgroup": "",
         "marker": {
          "color": "#636efa",
          "symbol": "circle"
         },
         "mode": "lines",
         "name": "",
         "showlegend": false,
         "type": "scatter",
         "x": [
          0.1461123824119568,
          0.1817445605993271,
          0.19581389427185059,
          0.20244838297367096,
          0.26634758710861206,
          0.27120545506477356,
          0.28274470567703247,
          0.34497830271720886,
          0.3579522371292114,
          0.3789292871952057,
          0.3846096694469452,
          0.40946701169013977,
          0.4195641279220581,
          0.42021140456199646,
          0.4540797472000122,
          0.4959157407283783,
          0.4967743754386902,
          0.5215774178504944,
          0.5485734343528748,
          0.5526185035705566,
          0.5538731813430786,
          0.574579119682312,
          0.5756282806396484,
          0.5802462100982666,
          0.5837928652763367,
          0.6196134686470032,
          0.6250089406967163,
          0.6381723880767822,
          0.6399160623550415,
          0.6488924622535706,
          0.6567947268486023,
          0.6573241949081421,
          0.6584481000900269,
          0.6604602932929993,
          0.6678478121757507,
          0.6809817552566528,
          0.6872015595436096,
          0.6885946989059448,
          0.6913089752197266,
          0.6981850862503052,
          0.7011785507202148,
          0.7025218605995178,
          0.7054339051246643,
          0.7080935835838318,
          0.7105185389518738,
          0.7169064283370972,
          0.7214602828025818,
          0.7269982695579529,
          0.7272279858589172,
          0.7288661599159241,
          0.7320905923843384,
          0.733547568321228,
          0.7355665564537048,
          0.736698567867279,
          0.7376851439476013,
          0.7391861081123352,
          0.7398090958595276,
          0.7418231964111328,
          0.7458509802818298,
          0.7470312714576721,
          0.748948872089386,
          0.7584688663482666,
          0.7588440775871277,
          0.7655823230743408,
          0.767810046672821,
          0.7683507204055786,
          0.7712460160255432,
          0.7713660597801208,
          0.7735828757286072,
          0.7749056816101074,
          0.7833759188652039,
          0.7863147854804993,
          0.7866216897964478,
          0.7869686484336853,
          0.7886511087417603,
          0.7932218313217163,
          0.7948973774909973,
          0.8014196753501892,
          0.8050867319107056,
          0.8067120909690857,
          0.8084906339645386,
          0.8108253479003906,
          0.8114349842071533,
          0.8140133619308472,
          0.816429853439331,
          0.8175567388534546,
          0.8227498531341553,
          0.8300513029098511,
          0.8302519917488098,
          0.8303823471069336,
          0.830392062664032,
          0.8325657844543457,
          0.83354651927948,
          0.833751916885376,
          0.8357949256896973,
          0.8365757465362549,
          0.8388599753379822,
          0.8417539000511169,
          0.8425903916358948,
          0.8429010510444641,
          0.8444382548332214,
          0.8457956910133362,
          0.8458921313285828,
          0.8460237383842468,
          0.8463644981384277,
          0.8472148180007935,
          0.8487215042114258,
          0.8524206876754761,
          0.8572046160697937,
          0.8572147488594055,
          0.8577796816825867,
          0.8589491844177246,
          0.8597859740257263,
          0.8661229014396667,
          0.8750672340393066,
          0.8759906888008118,
          0.8762640357017517,
          0.8780763149261475,
          0.8780936002731323,
          0.8782973885536194,
          0.8805339336395264,
          0.8826649188995361,
          0.8911038637161255,
          0.8917118310928345,
          0.897835910320282,
          0.900856614112854,
          0.9017152786254883,
          0.9021425843238831,
          0.9037905335426331,
          0.9067373871803284,
          0.9067386388778687,
          0.9103906750679016,
          0.9109797477722168,
          0.9111672043800354,
          0.9175378084182739,
          0.9252828359603882,
          0.9290894269943237
         ],
         "xaxis": "x6",
         "y": [
          7.300882281232623,
          7.192550028274967,
          7.14977513513364,
          7.129604347243242,
          6.935332060274466,
          6.920562719553996,
          6.885480019593989,
          6.696271665797339,
          6.656827107084528,
          6.593050733883178,
          6.575780708914294,
          6.500207111544396,
          6.469508922283355,
          6.4675410118086525,
          6.364571335281312,
          6.237377667529161,
          6.2347671666457565,
          6.159358656659482,
          6.0772828634478975,
          6.064984668838047,
          6.061170081104498,
          5.998217966920063,
          5.995028210469425,
          5.98098835302313,
          5.970205483003681,
          5.861300362327608,
          5.844896547779928,
          5.80487581416456,
          5.799574533900556,
          5.772283650381087,
          5.748258452635787,
          5.746648714733786,
          5.743231713959258,
          5.737114057555605,
          5.714653837466692,
          5.6747228055581225,
          5.655812779687166,
          5.651577228186156,
          5.643325033591838,
          5.622419643087431,
          5.613318634766561,
          5.609234579481477,
          5.600381111628256,
          5.592294910495408,
          5.584922336274422,
          5.565501282498069,
          5.551656231788761,
          5.53481913081491,
          5.534120726010867,
          5.529140197304507,
          5.519336978652638,
          5.514907345276919,
          5.5087690302983665,
          5.505327384206415,
          5.502327904103531,
          5.497764533637676,
          5.4958704685074595,
          5.489747013205589,
          5.477501371110833,
          5.4739129404077564,
          5.468082873112566,
          5.4391393036011735,
          5.437998551592494,
          5.417512312699855,
          5.410739380797649,
          5.409095574368623,
          5.400293028090371,
          5.399928059933822,
          5.393188290480797,
          5.389166573351549,
          5.363414572446487,
          5.354479557587085,
          5.353546478620813,
          5.352491622791977,
          5.3473764509176345,
          5.333480116202218,
          5.328385965333913,
          5.308556270448811,
          5.297407344979396,
          5.292465777620434,
          5.287058486248396,
          5.279960272399316,
          5.27810679955662,
          5.270267776460283,
          5.262920934850137,
          5.259494873297145,
          5.243706285607205,
          5.221507740800346,
          5.2208975879785475,
          5.22050126952851,
          5.220471731390717,
          5.213862980794287,
          5.210881259817194,
          5.210256790965421,
          5.2040454461124455,
          5.201671522154749,
          5.194726797892857,
          5.185928419572701,
          5.183385240273288,
          5.182440744726149,
          5.177767195194166,
          5.173640191819161,
          5.173346985028051,
          5.1729468610510585,
          5.171910851641429,
          5.169325630329941,
          5.1647448631694335,
          5.1534982625081724,
          5.138953719701406,
          5.138922913054627,
          5.137205351888898,
          5.133649721203864,
          5.1311056358266045,
          5.111839521361993,
          5.0846461318188005,
          5.081838559003795,
          5.081007504403032,
          5.0754976450187765,
          5.075445092503682,
          5.074825516472281,
          5.068025764665821,
          5.061546945632573,
          5.035890082901389,
          5.034041684094633,
          5.015422690427956,
          5.006238866591919,
          5.003628275100731,
          5.002329140684492,
          4.997318892624769,
          4.988359594879082,
          4.988355789352127,
          4.977252530206174,
          4.975461576734883,
          4.9748916537694665,
          4.955523152508206,
          4.931976001434694,
          4.920402850317572
         ],
         "yaxis": "y6"
        }
       ],
       "layout": {
        "annotations": [
         {
          "font": {
           "size": 16
          },
          "showarrow": false,
          "text": "Logged GDP per capita",
          "x": 0.225,
          "xanchor": "center",
          "xref": "paper",
          "y": 1,
          "yanchor": "bottom",
          "yref": "paper"
         },
         {
          "font": {
           "size": 16
          },
          "showarrow": false,
          "text": "Social support",
          "x": 0.775,
          "xanchor": "center",
          "xref": "paper",
          "y": 1,
          "yanchor": "bottom",
          "yref": "paper"
         },
         {
          "font": {
           "size": 16
          },
          "showarrow": false,
          "text": "Healthy life expectancy",
          "x": 0.225,
          "xanchor": "center",
          "xref": "paper",
          "y": 0.6111111111111112,
          "yanchor": "bottom",
          "yref": "paper"
         },
         {
          "font": {
           "size": 16
          },
          "showarrow": false,
          "text": "Freedom to make life choices",
          "x": 0.775,
          "xanchor": "center",
          "xref": "paper",
          "y": 0.6111111111111112,
          "yanchor": "bottom",
          "yref": "paper"
         },
         {
          "font": {
           "size": 16
          },
          "showarrow": false,
          "text": "Generosity",
          "x": 0.225,
          "xanchor": "center",
          "xref": "paper",
          "y": 0.22222222222222224,
          "yanchor": "bottom",
          "yref": "paper"
         },
         {
          "font": {
           "size": 16
          },
          "showarrow": false,
          "text": "Perceptions of corruption",
          "x": 0.775,
          "xanchor": "center",
          "xref": "paper",
          "y": 0.22222222222222224,
          "yanchor": "bottom",
          "yref": "paper"
         }
        ],
        "height": 800,
        "showlegend": false,
        "template": {
         "data": {
          "bar": [
           {
            "error_x": {
             "color": "#2a3f5f"
            },
            "error_y": {
             "color": "#2a3f5f"
            },
            "marker": {
             "line": {
              "color": "#E5ECF6",
              "width": 0.5
             },
             "pattern": {
              "fillmode": "overlay",
              "size": 10,
              "solidity": 0.2
             }
            },
            "type": "bar"
           }
          ],
          "barpolar": [
           {
            "marker": {
             "line": {
              "color": "#E5ECF6",
              "width": 0.5
             },
             "pattern": {
              "fillmode": "overlay",
              "size": 10,
              "solidity": 0.2
             }
            },
            "type": "barpolar"
           }
          ],
          "carpet": [
           {
            "aaxis": {
             "endlinecolor": "#2a3f5f",
             "gridcolor": "white",
             "linecolor": "white",
             "minorgridcolor": "white",
             "startlinecolor": "#2a3f5f"
            },
            "baxis": {
             "endlinecolor": "#2a3f5f",
             "gridcolor": "white",
             "linecolor": "white",
             "minorgridcolor": "white",
             "startlinecolor": "#2a3f5f"
            },
            "type": "carpet"
           }
          ],
          "choropleth": [
           {
            "colorbar": {
             "outlinewidth": 0,
             "ticks": ""
            },
            "type": "choropleth"
           }
          ],
          "contour": [
           {
            "colorbar": {
             "outlinewidth": 0,
             "ticks": ""
            },
            "colorscale": [
             [
              0,
              "#0d0887"
             ],
             [
              0.1111111111111111,
              "#46039f"
             ],
             [
              0.2222222222222222,
              "#7201a8"
             ],
             [
              0.3333333333333333,
              "#9c179e"
             ],
             [
              0.4444444444444444,
              "#bd3786"
             ],
             [
              0.5555555555555556,
              "#d8576b"
             ],
             [
              0.6666666666666666,
              "#ed7953"
             ],
             [
              0.7777777777777778,
              "#fb9f3a"
             ],
             [
              0.8888888888888888,
              "#fdca26"
             ],
             [
              1,
              "#f0f921"
             ]
            ],
            "type": "contour"
           }
          ],
          "contourcarpet": [
           {
            "colorbar": {
             "outlinewidth": 0,
             "ticks": ""
            },
            "type": "contourcarpet"
           }
          ],
          "heatmap": [
           {
            "colorbar": {
             "outlinewidth": 0,
             "ticks": ""
            },
            "colorscale": [
             [
              0,
              "#0d0887"
             ],
             [
              0.1111111111111111,
              "#46039f"
             ],
             [
              0.2222222222222222,
              "#7201a8"
             ],
             [
              0.3333333333333333,
              "#9c179e"
             ],
             [
              0.4444444444444444,
              "#bd3786"
             ],
             [
              0.5555555555555556,
              "#d8576b"
             ],
             [
              0.6666666666666666,
              "#ed7953"
             ],
             [
              0.7777777777777778,
              "#fb9f3a"
             ],
             [
              0.8888888888888888,
              "#fdca26"
             ],
             [
              1,
              "#f0f921"
             ]
            ],
            "type": "heatmap"
           }
          ],
          "heatmapgl": [
           {
            "colorbar": {
             "outlinewidth": 0,
             "ticks": ""
            },
            "colorscale": [
             [
              0,
              "#0d0887"
             ],
             [
              0.1111111111111111,
              "#46039f"
             ],
             [
              0.2222222222222222,
              "#7201a8"
             ],
             [
              0.3333333333333333,
              "#9c179e"
             ],
             [
              0.4444444444444444,
              "#bd3786"
             ],
             [
              0.5555555555555556,
              "#d8576b"
             ],
             [
              0.6666666666666666,
              "#ed7953"
             ],
             [
              0.7777777777777778,
              "#fb9f3a"
             ],
             [
              0.8888888888888888,
              "#fdca26"
             ],
             [
              1,
              "#f0f921"
             ]
            ],
            "type": "heatmapgl"
           }
          ],
          "histogram": [
           {
            "marker": {
             "pattern": {
              "fillmode": "overlay",
              "size": 10,
              "solidity": 0.2
             }
            },
            "type": "histogram"
           }
          ],
          "histogram2d": [
           {
            "colorbar": {
             "outlinewidth": 0,
             "ticks": ""
            },
            "colorscale": [
             [
              0,
              "#0d0887"
             ],
             [
              0.1111111111111111,
              "#46039f"
             ],
             [
              0.2222222222222222,
              "#7201a8"
             ],
             [
              0.3333333333333333,
              "#9c179e"
             ],
             [
              0.4444444444444444,
              "#bd3786"
             ],
             [
              0.5555555555555556,
              "#d8576b"
             ],
             [
              0.6666666666666666,
              "#ed7953"
             ],
             [
              0.7777777777777778,
              "#fb9f3a"
             ],
             [
              0.8888888888888888,
              "#fdca26"
             ],
             [
              1,
              "#f0f921"
             ]
            ],
            "type": "histogram2d"
           }
          ],
          "histogram2dcontour": [
           {
            "colorbar": {
             "outlinewidth": 0,
             "ticks": ""
            },
            "colorscale": [
             [
              0,
              "#0d0887"
             ],
             [
              0.1111111111111111,
              "#46039f"
             ],
             [
              0.2222222222222222,
              "#7201a8"
             ],
             [
              0.3333333333333333,
              "#9c179e"
             ],
             [
              0.4444444444444444,
              "#bd3786"
             ],
             [
              0.5555555555555556,
              "#d8576b"
             ],
             [
              0.6666666666666666,
              "#ed7953"
             ],
             [
              0.7777777777777778,
              "#fb9f3a"
             ],
             [
              0.8888888888888888,
              "#fdca26"
             ],
             [
              1,
              "#f0f921"
             ]
            ],
            "type": "histogram2dcontour"
           }
          ],
          "mesh3d": [
           {
            "colorbar": {
             "outlinewidth": 0,
             "ticks": ""
            },
            "type": "mesh3d"
           }
          ],
          "parcoords": [
           {
            "line": {
             "colorbar": {
              "outlinewidth": 0,
              "ticks": ""
             }
            },
            "type": "parcoords"
           }
          ],
          "pie": [
           {
            "automargin": true,
            "type": "pie"
           }
          ],
          "scatter": [
           {
            "fillpattern": {
             "fillmode": "overlay",
             "size": 10,
             "solidity": 0.2
            },
            "type": "scatter"
           }
          ],
          "scatter3d": [
           {
            "line": {
             "colorbar": {
              "outlinewidth": 0,
              "ticks": ""
             }
            },
            "marker": {
             "colorbar": {
              "outlinewidth": 0,
              "ticks": ""
             }
            },
            "type": "scatter3d"
           }
          ],
          "scattercarpet": [
           {
            "marker": {
             "colorbar": {
              "outlinewidth": 0,
              "ticks": ""
             }
            },
            "type": "scattercarpet"
           }
          ],
          "scattergeo": [
           {
            "marker": {
             "colorbar": {
              "outlinewidth": 0,
              "ticks": ""
             }
            },
            "type": "scattergeo"
           }
          ],
          "scattergl": [
           {
            "marker": {
             "colorbar": {
              "outlinewidth": 0,
              "ticks": ""
             }
            },
            "type": "scattergl"
           }
          ],
          "scattermapbox": [
           {
            "marker": {
             "colorbar": {
              "outlinewidth": 0,
              "ticks": ""
             }
            },
            "type": "scattermapbox"
           }
          ],
          "scatterpolar": [
           {
            "marker": {
             "colorbar": {
              "outlinewidth": 0,
              "ticks": ""
             }
            },
            "type": "scatterpolar"
           }
          ],
          "scatterpolargl": [
           {
            "marker": {
             "colorbar": {
              "outlinewidth": 0,
              "ticks": ""
             }
            },
            "type": "scatterpolargl"
           }
          ],
          "scatterternary": [
           {
            "marker": {
             "colorbar": {
              "outlinewidth": 0,
              "ticks": ""
             }
            },
            "type": "scatterternary"
           }
          ],
          "surface": [
           {
            "colorbar": {
             "outlinewidth": 0,
             "ticks": ""
            },
            "colorscale": [
             [
              0,
              "#0d0887"
             ],
             [
              0.1111111111111111,
              "#46039f"
             ],
             [
              0.2222222222222222,
              "#7201a8"
             ],
             [
              0.3333333333333333,
              "#9c179e"
             ],
             [
              0.4444444444444444,
              "#bd3786"
             ],
             [
              0.5555555555555556,
              "#d8576b"
             ],
             [
              0.6666666666666666,
              "#ed7953"
             ],
             [
              0.7777777777777778,
              "#fb9f3a"
             ],
             [
              0.8888888888888888,
              "#fdca26"
             ],
             [
              1,
              "#f0f921"
             ]
            ],
            "type": "surface"
           }
          ],
          "table": [
           {
            "cells": {
             "fill": {
              "color": "#EBF0F8"
             },
             "line": {
              "color": "white"
             }
            },
            "header": {
             "fill": {
              "color": "#C8D4E3"
             },
             "line": {
              "color": "white"
             }
            },
            "type": "table"
           }
          ]
         },
         "layout": {
          "annotationdefaults": {
           "arrowcolor": "#2a3f5f",
           "arrowhead": 0,
           "arrowwidth": 1
          },
          "autotypenumbers": "strict",
          "coloraxis": {
           "colorbar": {
            "outlinewidth": 0,
            "ticks": ""
           }
          },
          "colorscale": {
           "diverging": [
            [
             0,
             "#8e0152"
            ],
            [
             0.1,
             "#c51b7d"
            ],
            [
             0.2,
             "#de77ae"
            ],
            [
             0.3,
             "#f1b6da"
            ],
            [
             0.4,
             "#fde0ef"
            ],
            [
             0.5,
             "#f7f7f7"
            ],
            [
             0.6,
             "#e6f5d0"
            ],
            [
             0.7,
             "#b8e186"
            ],
            [
             0.8,
             "#7fbc41"
            ],
            [
             0.9,
             "#4d9221"
            ],
            [
             1,
             "#276419"
            ]
           ],
           "sequential": [
            [
             0,
             "#0d0887"
            ],
            [
             0.1111111111111111,
             "#46039f"
            ],
            [
             0.2222222222222222,
             "#7201a8"
            ],
            [
             0.3333333333333333,
             "#9c179e"
            ],
            [
             0.4444444444444444,
             "#bd3786"
            ],
            [
             0.5555555555555556,
             "#d8576b"
            ],
            [
             0.6666666666666666,
             "#ed7953"
            ],
            [
             0.7777777777777778,
             "#fb9f3a"
            ],
            [
             0.8888888888888888,
             "#fdca26"
            ],
            [
             1,
             "#f0f921"
            ]
           ],
           "sequentialminus": [
            [
             0,
             "#0d0887"
            ],
            [
             0.1111111111111111,
             "#46039f"
            ],
            [
             0.2222222222222222,
             "#7201a8"
            ],
            [
             0.3333333333333333,
             "#9c179e"
            ],
            [
             0.4444444444444444,
             "#bd3786"
            ],
            [
             0.5555555555555556,
             "#d8576b"
            ],
            [
             0.6666666666666666,
             "#ed7953"
            ],
            [
             0.7777777777777778,
             "#fb9f3a"
            ],
            [
             0.8888888888888888,
             "#fdca26"
            ],
            [
             1,
             "#f0f921"
            ]
           ]
          },
          "colorway": [
           "#636efa",
           "#EF553B",
           "#00cc96",
           "#ab63fa",
           "#FFA15A",
           "#19d3f3",
           "#FF6692",
           "#B6E880",
           "#FF97FF",
           "#FECB52"
          ],
          "font": {
           "color": "#2a3f5f"
          },
          "geo": {
           "bgcolor": "white",
           "lakecolor": "white",
           "landcolor": "#E5ECF6",
           "showlakes": true,
           "showland": true,
           "subunitcolor": "white"
          },
          "hoverlabel": {
           "align": "left"
          },
          "hovermode": "closest",
          "mapbox": {
           "style": "light"
          },
          "paper_bgcolor": "white",
          "plot_bgcolor": "#E5ECF6",
          "polar": {
           "angularaxis": {
            "gridcolor": "white",
            "linecolor": "white",
            "ticks": ""
           },
           "bgcolor": "#E5ECF6",
           "radialaxis": {
            "gridcolor": "white",
            "linecolor": "white",
            "ticks": ""
           }
          },
          "scene": {
           "xaxis": {
            "backgroundcolor": "#E5ECF6",
            "gridcolor": "white",
            "gridwidth": 2,
            "linecolor": "white",
            "showbackground": true,
            "ticks": "",
            "zerolinecolor": "white"
           },
           "yaxis": {
            "backgroundcolor": "#E5ECF6",
            "gridcolor": "white",
            "gridwidth": 2,
            "linecolor": "white",
            "showbackground": true,
            "ticks": "",
            "zerolinecolor": "white"
           },
           "zaxis": {
            "backgroundcolor": "#E5ECF6",
            "gridcolor": "white",
            "gridwidth": 2,
            "linecolor": "white",
            "showbackground": true,
            "ticks": "",
            "zerolinecolor": "white"
           }
          },
          "shapedefaults": {
           "line": {
            "color": "#2a3f5f"
           }
          },
          "ternary": {
           "aaxis": {
            "gridcolor": "white",
            "linecolor": "white",
            "ticks": ""
           },
           "baxis": {
            "gridcolor": "white",
            "linecolor": "white",
            "ticks": ""
           },
           "bgcolor": "#E5ECF6",
           "caxis": {
            "gridcolor": "white",
            "linecolor": "white",
            "ticks": ""
           }
          },
          "title": {
           "x": 0.05
          },
          "xaxis": {
           "automargin": true,
           "gridcolor": "white",
           "linecolor": "white",
           "ticks": "",
           "title": {
            "standoff": 15
           },
           "zerolinecolor": "white",
           "zerolinewidth": 2
          },
          "yaxis": {
           "automargin": true,
           "gridcolor": "white",
           "linecolor": "white",
           "ticks": "",
           "title": {
            "standoff": 15
           },
           "zerolinecolor": "white",
           "zerolinewidth": 2
          }
         }
        },
        "title": {
         "text": "World Happiness Report 2023 <i>(Happiness Score on y-axis)</i>"
        },
        "xaxis": {
         "anchor": "y",
         "domain": [
          0,
          0.45
         ]
        },
        "xaxis2": {
         "anchor": "y2",
         "domain": [
          0.55,
          1
         ]
        },
        "xaxis3": {
         "anchor": "y3",
         "domain": [
          0,
          0.45
         ]
        },
        "xaxis4": {
         "anchor": "y4",
         "domain": [
          0.55,
          1
         ]
        },
        "xaxis5": {
         "anchor": "y5",
         "domain": [
          0,
          0.45
         ]
        },
        "xaxis6": {
         "anchor": "y6",
         "domain": [
          0.55,
          1
         ]
        },
        "yaxis": {
         "anchor": "x",
         "domain": [
          0.7777777777777778,
          1
         ]
        },
        "yaxis2": {
         "anchor": "x2",
         "domain": [
          0.7777777777777778,
          1
         ]
        },
        "yaxis3": {
         "anchor": "x3",
         "domain": [
          0.3888888888888889,
          0.6111111111111112
         ]
        },
        "yaxis4": {
         "anchor": "x4",
         "domain": [
          0.3888888888888889,
          0.6111111111111112
         ]
        },
        "yaxis5": {
         "anchor": "x5",
         "domain": [
          0,
          0.22222222222222224
         ]
        },
        "yaxis6": {
         "anchor": "x6",
         "domain": [
          0,
          0.22222222222222224
         ]
        }
       }
      }
     },
     "metadata": {},
     "output_type": "display_data"
    }
   ],
   "source": [
    "factors = ['Logged GDP per capita','Social support','Healthy life expectancy','Freedom to make life choices','Generosity','Perceptions of corruption']\n",
    "\n",
    "import plotly.graph_objects as go\n",
    "from plotly.subplots import make_subplots\n",
    "fig = make_subplots(rows=3, cols=2, subplot_titles=factors)\n",
    "for i, factor in enumerate(factors):\n",
    "    new_plot = px.scatter(data, x=factor, y='Ladder score', hover_data=['Country name'], trendline='ols', title=factor)\n",
    "    for t in new_plot.data: # add the scatterplot and the trendline\n",
    "        fig.add_trace(t, row=i//2+1, col=i%2+1)\n",
    "fig.update_layout(title='World Happiness Report 2023 <i>(Happiness Score on y-axis)</i>', showlegend=False, height=800)\n",
    "fig.show()"
   ]
  },
  {
   "attachments": {},
   "cell_type": "markdown",
   "metadata": {},
   "source": [
    "# Reflection Questions\n",
    "\n",
    "What factors contribute to a higher score of happiness? \n",
    "\n",
    "What factors contribute to a lower score of happiness?\n",
    "\n",
    "Are there factors that were not explored in this data visualization that could contribute to happiness score in a country?\n",
    "\n",
    "How do you think factors that influence quality of life affect the happiness score in a country? \n",
    "\n",
    "What advice would you give to a country leader who wanted to increase the happiness score in a country? "
   ]
  },
  {
   "attachments": {},
   "cell_type": "markdown",
   "metadata": {},
   "source": [
    "[![Callysto.ca License](https://github.com/callysto/curriculum-notebooks/blob/master/callysto-notebook-banner-bottom.jpg?raw=true)](https://github.com/callysto/curriculum-notebooks/blob/master/LICENSE.md)"
   ]
  }
 ],
 "metadata": {
  "kernelspec": {
   "display_name": "base",
   "language": "python",
   "name": "python3"
  },
  "language_info": {
   "codemirror_mode": {
    "name": "ipython",
    "version": 3
   },
   "file_extension": ".py",
   "mimetype": "text/x-python",
   "name": "python",
   "nbconvert_exporter": "python",
   "pygments_lexer": "ipython3",
   "version": "3.9.13"
  },
  "orig_nbformat": 4,
  "vscode": {
   "interpreter": {
    "hash": "6cad06f6513fbe8c529013bf7137591565062e8dd112e1d0c3e544762347f124"
   }
  }
 },
 "nbformat": 4,
 "nbformat_minor": 2
}
