{
 "cells": [
  {
   "attachments": {},
   "cell_type": "markdown",
   "metadata": {},
   "source": [
    "![Callysto.ca Banner](https://github.com/callysto/curriculum-notebooks/blob/master/callysto-notebook-banner-top.jpg?raw=true)\n",
    "\n",
    "<a href=\"https://hub.callysto.ca/jupyter/hub/user-redirect/git-pull?repo=https%3A%2F%2Fgithub.com%2Fcallysto%2Fdata-viz-of-the-week&branch=main&subPath=black-history-month-immigration/black-history-month-nova-scotia-immigration.ipynb&depth=1\" target=\"_parent\"><img src=\"https://raw.githubusercontent.com/callysto/curriculum-notebooks/master/open-in-callysto-button.svg?sanitize=true\" width=\"123\" height=\"24\" alt=\"Open in Callysto\"/></a>"
   ]
  },
  {
   "attachments": {},
   "cell_type": "markdown",
   "metadata": {},
   "source": [
    "# World Happiness and Income"
   ]
  },
  {
   "attachments": {},
   "cell_type": "markdown",
   "metadata": {},
   "source": [
    "# Question\n",
    "\n",
    "Is the happiness score of citizens in a country directly correlated to income in that country or is there another factor that also influences the happiness score in a country?\n"
   ]
  },
  {
   "attachments": {},
   "cell_type": "markdown",
   "metadata": {},
   "source": [
    "# Gather\n",
    "\n",
    "Run the code in the following cell to import the code libraries needed for this project. Code libraries are sets of code that make it easier to accompilsh a specific purpose, for instance plotly express is a code library used for making visualizations. The first two lines of code import code libraries into this notebook and the lines of code below that in the same cell will import the data we are using from a website. \n"
   ]
  },
  {
   "cell_type": "code",
   "execution_count": 26,
   "metadata": {},
   "outputs": [],
   "source": [
    "import pandas as pd\n",
    "import plotly.express as px\n",
    "\n",
    "url = 'https://happiness-report.s3.amazonaws.com/2022/Appendix_2_Data_for_Figure_2.1.xls'\n",
    "data = pd.read_excel(url, skipfooter=1)"
   ]
  },
  {
   "attachments": {},
   "cell_type": "markdown",
   "metadata": {},
   "source": [
    "## Happiness Score by Country\n",
    "\n",
    "Run the following code to generate a bar graph of the happiness score of each country."
   ]
  },
  {
   "cell_type": "code",
   "execution_count": 36,
   "metadata": {},
   "outputs": [
    {
     "data": {
      "application/vnd.plotly.v1+json": {
       "config": {
        "plotlyServerURL": "https://plot.ly"
       },
       "data": [
        {
         "alignmentgroup": "True",
         "hovertemplate": "Country=%{x}<br>Happiness score=%{y}<extra></extra>",
         "legendgroup": "",
         "marker": {
          "color": "#636efa",
          "pattern": {
           "shape": ""
          }
         },
         "name": "",
         "offsetgroup": "",
         "orientation": "v",
         "showlegend": false,
         "textposition": "auto",
         "type": "bar",
         "x": [
          "Finland",
          "Denmark",
          "Iceland",
          "Switzerland",
          "Netherlands",
          "Luxembourg*",
          "Sweden",
          "Norway",
          "Israel",
          "New Zealand",
          "Austria",
          "Australia",
          "Ireland",
          "Germany",
          "Canada",
          "United States",
          "United Kingdom",
          "Czechia",
          "Belgium",
          "France",
          "Bahrain",
          "Slovenia",
          "Costa Rica",
          "United Arab Emirates",
          "Saudi Arabia",
          "Taiwan Province of China",
          "Singapore",
          "Romania",
          "Spain",
          "Uruguay",
          "Italy",
          "Kosovo",
          "Malta",
          "Lithuania",
          "Slovakia",
          "Estonia",
          "Panama",
          "Brazil",
          "Guatemala*",
          "Kazakhstan",
          "Cyprus",
          "Latvia",
          "Serbia",
          "Chile",
          "Nicaragua",
          "Mexico",
          "Croatia",
          "Poland",
          "El Salvador",
          "Kuwait*",
          "Hungary",
          "Mauritius",
          "Uzbekistan",
          "Japan",
          "Honduras",
          "Portugal",
          "Argentina",
          "Greece",
          "South Korea",
          "Philippines",
          "Thailand",
          "Moldova",
          "Jamaica",
          "Kyrgyzstan",
          "Belarus*",
          "Colombia",
          "Bosnia and Herzegovina",
          "Mongolia",
          "Dominican Republic",
          "Malaysia",
          "Bolivia",
          "China",
          "Paraguay",
          "Peru",
          "Montenegro",
          "Ecuador",
          "Vietnam",
          "Turkmenistan*",
          "North Cyprus*",
          "Russia",
          "Hong Kong S.A.R. of China",
          "Armenia",
          "Tajikistan",
          "Nepal",
          "Bulgaria",
          "Libya*",
          "Indonesia",
          "Ivory Coast",
          "North Macedonia",
          "Albania",
          "South Africa",
          "Azerbaijan*",
          "Gambia*",
          "Bangladesh",
          "Laos",
          "Algeria",
          "Liberia*",
          "Ukraine",
          "Congo",
          "Morocco",
          "Mozambique",
          "Cameroon",
          "Senegal",
          "Niger*",
          "Georgia",
          "Gabon",
          "Iraq",
          "Venezuela",
          "Guinea",
          "Iran",
          "Ghana",
          "Turkey",
          "Burkina Faso",
          "Cambodia",
          "Benin",
          "Comoros*",
          "Uganda",
          "Nigeria",
          "Kenya",
          "Tunisia",
          "Pakistan",
          "Palestinian Territories*",
          "Mali",
          "Namibia",
          "Eswatini, Kingdom of*",
          "Myanmar",
          "Sri Lanka",
          "Madagascar*",
          "Egypt",
          "Chad*",
          "Ethiopia",
          "Yemen*",
          "Mauritania*",
          "Jordan",
          "Togo",
          "India",
          "Zambia",
          "Malawi",
          "Tanzania",
          "Sierra Leone",
          "Lesotho*",
          "Botswana*",
          "Rwanda*",
          "Zimbabwe",
          "Lebanon",
          "Afghanistan"
         ],
         "xaxis": "x",
         "y": [
          7.821000099182129,
          7.636199951171875,
          7.557499885559082,
          7.511600017547607,
          7.414899826049805,
          7.4039998054504395,
          7.384300231933594,
          7.365099906921387,
          7.363800048828125,
          7.19980001449585,
          7.163000106811523,
          7.162099838256836,
          7.040800094604492,
          7.03410005569458,
          7.025100231170654,
          6.976799964904785,
          6.942500114440918,
          6.9197998046875,
          6.804999828338623,
          6.686699867248535,
          6.646900177001953,
          6.630099773406982,
          6.581999778747559,
          6.576000213623047,
          6.522799968719482,
          6.512499809265137,
          6.480199813842773,
          6.4770002365112305,
          6.47629976272583,
          6.473599910736084,
          6.466700077056885,
          6.455100059509277,
          6.446899890899658,
          6.4456000328063965,
          6.390699863433838,
          6.340799808502197,
          6.309100151062012,
          6.292799949645996,
          6.262199878692627,
          6.234099864959717,
          6.220900058746338,
          6.1803998947143555,
          6.177999973297119,
          6.171800136566162,
          6.164599895477295,
          6.127600193023682,
          6.125199794769287,
          6.122799873352051,
          6.119999885559082,
          6.106100082397461,
          6.085899829864502,
          6.071100234985352,
          6.062699794769287,
          6.038899898529053,
          6.02209997177124,
          6.016300201416016,
          5.9670000076293945,
          5.948200225830078,
          5.935100078582764,
          5.903600215911865,
          5.891200065612793,
          5.856800079345703,
          5.849599838256836,
          5.828499794006348,
          5.821499824523926,
          5.780600070953369,
          5.76800012588501,
          5.760700225830078,
          5.737199783325195,
          5.711299896240234,
          5.600299835205078,
          5.585299968719482,
          5.5782999992370605,
          5.559100151062012,
          5.546800136566162,
          5.533299922943115,
          5.485000133514404,
          5.474299907684326,
          5.466599941253662,
          5.458600044250488,
          5.424799919128418,
          5.398600101470947,
          5.377099990844727,
          5.376500129699707,
          5.3709001541137695,
          5.3302001953125,
          5.23960018157959,
          5.234600067138672,
          5.198999881744385,
          5.198800086975098,
          5.193900108337402,
          5.173399925231934,
          5.163599967956543,
          5.1554999351501465,
          5.1402997970581055,
          5.122300148010254,
          5.121500015258789,
          5.084099769592285,
          5.075200080871582,
          5.059899806976318,
          5.048299789428711,
          5.047599792480469,
          5.04610013961792,
          5.003499984741211,
          4.973199844360352,
          4.9583001136779785,
          4.940899848937988,
          4.92549991607666,
          4.890500068664551,
          4.887899875640869,
          4.872000217437744,
          4.744200229644775,
          4.670499801635742,
          4.6402997970581055,
          4.623199939727783,
          4.60860013961792,
          4.60260009765625,
          4.552000045776367,
          4.543000221252441,
          4.515999794006348,
          4.5157999992370605,
          4.482500076293945,
          4.479000091552734,
          4.459400177001953,
          4.396100044250488,
          4.394199848175049,
          4.362199783325195,
          4.339099884033203,
          4.287700176239014,
          4.250800132751465,
          4.241499900817871,
          4.196899890899658,
          4.152599811553955,
          4.152100086212158,
          4.112299919128418,
          3.777100086212158,
          3.7597999572753906,
          3.7504000663757324,
          3.702399969100952,
          3.5739998817443848,
          3.5118000507354736,
          3.471100091934204,
          3.268199920654297,
          2.9951000213623047,
          2.9553000926971436,
          2.4038000106811523
         ],
         "yaxis": "y"
        }
       ],
       "layout": {
        "barmode": "relative",
        "height": 800,
        "legend": {
         "tracegroupgap": 0
        },
        "template": {
         "data": {
          "bar": [
           {
            "error_x": {
             "color": "#2a3f5f"
            },
            "error_y": {
             "color": "#2a3f5f"
            },
            "marker": {
             "line": {
              "color": "#E5ECF6",
              "width": 0.5
             },
             "pattern": {
              "fillmode": "overlay",
              "size": 10,
              "solidity": 0.2
             }
            },
            "type": "bar"
           }
          ],
          "barpolar": [
           {
            "marker": {
             "line": {
              "color": "#E5ECF6",
              "width": 0.5
             },
             "pattern": {
              "fillmode": "overlay",
              "size": 10,
              "solidity": 0.2
             }
            },
            "type": "barpolar"
           }
          ],
          "carpet": [
           {
            "aaxis": {
             "endlinecolor": "#2a3f5f",
             "gridcolor": "white",
             "linecolor": "white",
             "minorgridcolor": "white",
             "startlinecolor": "#2a3f5f"
            },
            "baxis": {
             "endlinecolor": "#2a3f5f",
             "gridcolor": "white",
             "linecolor": "white",
             "minorgridcolor": "white",
             "startlinecolor": "#2a3f5f"
            },
            "type": "carpet"
           }
          ],
          "choropleth": [
           {
            "colorbar": {
             "outlinewidth": 0,
             "ticks": ""
            },
            "type": "choropleth"
           }
          ],
          "contour": [
           {
            "colorbar": {
             "outlinewidth": 0,
             "ticks": ""
            },
            "colorscale": [
             [
              0,
              "#0d0887"
             ],
             [
              0.1111111111111111,
              "#46039f"
             ],
             [
              0.2222222222222222,
              "#7201a8"
             ],
             [
              0.3333333333333333,
              "#9c179e"
             ],
             [
              0.4444444444444444,
              "#bd3786"
             ],
             [
              0.5555555555555556,
              "#d8576b"
             ],
             [
              0.6666666666666666,
              "#ed7953"
             ],
             [
              0.7777777777777778,
              "#fb9f3a"
             ],
             [
              0.8888888888888888,
              "#fdca26"
             ],
             [
              1,
              "#f0f921"
             ]
            ],
            "type": "contour"
           }
          ],
          "contourcarpet": [
           {
            "colorbar": {
             "outlinewidth": 0,
             "ticks": ""
            },
            "type": "contourcarpet"
           }
          ],
          "heatmap": [
           {
            "colorbar": {
             "outlinewidth": 0,
             "ticks": ""
            },
            "colorscale": [
             [
              0,
              "#0d0887"
             ],
             [
              0.1111111111111111,
              "#46039f"
             ],
             [
              0.2222222222222222,
              "#7201a8"
             ],
             [
              0.3333333333333333,
              "#9c179e"
             ],
             [
              0.4444444444444444,
              "#bd3786"
             ],
             [
              0.5555555555555556,
              "#d8576b"
             ],
             [
              0.6666666666666666,
              "#ed7953"
             ],
             [
              0.7777777777777778,
              "#fb9f3a"
             ],
             [
              0.8888888888888888,
              "#fdca26"
             ],
             [
              1,
              "#f0f921"
             ]
            ],
            "type": "heatmap"
           }
          ],
          "heatmapgl": [
           {
            "colorbar": {
             "outlinewidth": 0,
             "ticks": ""
            },
            "colorscale": [
             [
              0,
              "#0d0887"
             ],
             [
              0.1111111111111111,
              "#46039f"
             ],
             [
              0.2222222222222222,
              "#7201a8"
             ],
             [
              0.3333333333333333,
              "#9c179e"
             ],
             [
              0.4444444444444444,
              "#bd3786"
             ],
             [
              0.5555555555555556,
              "#d8576b"
             ],
             [
              0.6666666666666666,
              "#ed7953"
             ],
             [
              0.7777777777777778,
              "#fb9f3a"
             ],
             [
              0.8888888888888888,
              "#fdca26"
             ],
             [
              1,
              "#f0f921"
             ]
            ],
            "type": "heatmapgl"
           }
          ],
          "histogram": [
           {
            "marker": {
             "pattern": {
              "fillmode": "overlay",
              "size": 10,
              "solidity": 0.2
             }
            },
            "type": "histogram"
           }
          ],
          "histogram2d": [
           {
            "colorbar": {
             "outlinewidth": 0,
             "ticks": ""
            },
            "colorscale": [
             [
              0,
              "#0d0887"
             ],
             [
              0.1111111111111111,
              "#46039f"
             ],
             [
              0.2222222222222222,
              "#7201a8"
             ],
             [
              0.3333333333333333,
              "#9c179e"
             ],
             [
              0.4444444444444444,
              "#bd3786"
             ],
             [
              0.5555555555555556,
              "#d8576b"
             ],
             [
              0.6666666666666666,
              "#ed7953"
             ],
             [
              0.7777777777777778,
              "#fb9f3a"
             ],
             [
              0.8888888888888888,
              "#fdca26"
             ],
             [
              1,
              "#f0f921"
             ]
            ],
            "type": "histogram2d"
           }
          ],
          "histogram2dcontour": [
           {
            "colorbar": {
             "outlinewidth": 0,
             "ticks": ""
            },
            "colorscale": [
             [
              0,
              "#0d0887"
             ],
             [
              0.1111111111111111,
              "#46039f"
             ],
             [
              0.2222222222222222,
              "#7201a8"
             ],
             [
              0.3333333333333333,
              "#9c179e"
             ],
             [
              0.4444444444444444,
              "#bd3786"
             ],
             [
              0.5555555555555556,
              "#d8576b"
             ],
             [
              0.6666666666666666,
              "#ed7953"
             ],
             [
              0.7777777777777778,
              "#fb9f3a"
             ],
             [
              0.8888888888888888,
              "#fdca26"
             ],
             [
              1,
              "#f0f921"
             ]
            ],
            "type": "histogram2dcontour"
           }
          ],
          "mesh3d": [
           {
            "colorbar": {
             "outlinewidth": 0,
             "ticks": ""
            },
            "type": "mesh3d"
           }
          ],
          "parcoords": [
           {
            "line": {
             "colorbar": {
              "outlinewidth": 0,
              "ticks": ""
             }
            },
            "type": "parcoords"
           }
          ],
          "pie": [
           {
            "automargin": true,
            "type": "pie"
           }
          ],
          "scatter": [
           {
            "fillpattern": {
             "fillmode": "overlay",
             "size": 10,
             "solidity": 0.2
            },
            "type": "scatter"
           }
          ],
          "scatter3d": [
           {
            "line": {
             "colorbar": {
              "outlinewidth": 0,
              "ticks": ""
             }
            },
            "marker": {
             "colorbar": {
              "outlinewidth": 0,
              "ticks": ""
             }
            },
            "type": "scatter3d"
           }
          ],
          "scattercarpet": [
           {
            "marker": {
             "colorbar": {
              "outlinewidth": 0,
              "ticks": ""
             }
            },
            "type": "scattercarpet"
           }
          ],
          "scattergeo": [
           {
            "marker": {
             "colorbar": {
              "outlinewidth": 0,
              "ticks": ""
             }
            },
            "type": "scattergeo"
           }
          ],
          "scattergl": [
           {
            "marker": {
             "colorbar": {
              "outlinewidth": 0,
              "ticks": ""
             }
            },
            "type": "scattergl"
           }
          ],
          "scattermapbox": [
           {
            "marker": {
             "colorbar": {
              "outlinewidth": 0,
              "ticks": ""
             }
            },
            "type": "scattermapbox"
           }
          ],
          "scatterpolar": [
           {
            "marker": {
             "colorbar": {
              "outlinewidth": 0,
              "ticks": ""
             }
            },
            "type": "scatterpolar"
           }
          ],
          "scatterpolargl": [
           {
            "marker": {
             "colorbar": {
              "outlinewidth": 0,
              "ticks": ""
             }
            },
            "type": "scatterpolargl"
           }
          ],
          "scatterternary": [
           {
            "marker": {
             "colorbar": {
              "outlinewidth": 0,
              "ticks": ""
             }
            },
            "type": "scatterternary"
           }
          ],
          "surface": [
           {
            "colorbar": {
             "outlinewidth": 0,
             "ticks": ""
            },
            "colorscale": [
             [
              0,
              "#0d0887"
             ],
             [
              0.1111111111111111,
              "#46039f"
             ],
             [
              0.2222222222222222,
              "#7201a8"
             ],
             [
              0.3333333333333333,
              "#9c179e"
             ],
             [
              0.4444444444444444,
              "#bd3786"
             ],
             [
              0.5555555555555556,
              "#d8576b"
             ],
             [
              0.6666666666666666,
              "#ed7953"
             ],
             [
              0.7777777777777778,
              "#fb9f3a"
             ],
             [
              0.8888888888888888,
              "#fdca26"
             ],
             [
              1,
              "#f0f921"
             ]
            ],
            "type": "surface"
           }
          ],
          "table": [
           {
            "cells": {
             "fill": {
              "color": "#EBF0F8"
             },
             "line": {
              "color": "white"
             }
            },
            "header": {
             "fill": {
              "color": "#C8D4E3"
             },
             "line": {
              "color": "white"
             }
            },
            "type": "table"
           }
          ]
         },
         "layout": {
          "annotationdefaults": {
           "arrowcolor": "#2a3f5f",
           "arrowhead": 0,
           "arrowwidth": 1
          },
          "autotypenumbers": "strict",
          "coloraxis": {
           "colorbar": {
            "outlinewidth": 0,
            "ticks": ""
           }
          },
          "colorscale": {
           "diverging": [
            [
             0,
             "#8e0152"
            ],
            [
             0.1,
             "#c51b7d"
            ],
            [
             0.2,
             "#de77ae"
            ],
            [
             0.3,
             "#f1b6da"
            ],
            [
             0.4,
             "#fde0ef"
            ],
            [
             0.5,
             "#f7f7f7"
            ],
            [
             0.6,
             "#e6f5d0"
            ],
            [
             0.7,
             "#b8e186"
            ],
            [
             0.8,
             "#7fbc41"
            ],
            [
             0.9,
             "#4d9221"
            ],
            [
             1,
             "#276419"
            ]
           ],
           "sequential": [
            [
             0,
             "#0d0887"
            ],
            [
             0.1111111111111111,
             "#46039f"
            ],
            [
             0.2222222222222222,
             "#7201a8"
            ],
            [
             0.3333333333333333,
             "#9c179e"
            ],
            [
             0.4444444444444444,
             "#bd3786"
            ],
            [
             0.5555555555555556,
             "#d8576b"
            ],
            [
             0.6666666666666666,
             "#ed7953"
            ],
            [
             0.7777777777777778,
             "#fb9f3a"
            ],
            [
             0.8888888888888888,
             "#fdca26"
            ],
            [
             1,
             "#f0f921"
            ]
           ],
           "sequentialminus": [
            [
             0,
             "#0d0887"
            ],
            [
             0.1111111111111111,
             "#46039f"
            ],
            [
             0.2222222222222222,
             "#7201a8"
            ],
            [
             0.3333333333333333,
             "#9c179e"
            ],
            [
             0.4444444444444444,
             "#bd3786"
            ],
            [
             0.5555555555555556,
             "#d8576b"
            ],
            [
             0.6666666666666666,
             "#ed7953"
            ],
            [
             0.7777777777777778,
             "#fb9f3a"
            ],
            [
             0.8888888888888888,
             "#fdca26"
            ],
            [
             1,
             "#f0f921"
            ]
           ]
          },
          "colorway": [
           "#636efa",
           "#EF553B",
           "#00cc96",
           "#ab63fa",
           "#FFA15A",
           "#19d3f3",
           "#FF6692",
           "#B6E880",
           "#FF97FF",
           "#FECB52"
          ],
          "font": {
           "color": "#2a3f5f"
          },
          "geo": {
           "bgcolor": "white",
           "lakecolor": "white",
           "landcolor": "#E5ECF6",
           "showlakes": true,
           "showland": true,
           "subunitcolor": "white"
          },
          "hoverlabel": {
           "align": "left"
          },
          "hovermode": "closest",
          "mapbox": {
           "style": "light"
          },
          "paper_bgcolor": "white",
          "plot_bgcolor": "#E5ECF6",
          "polar": {
           "angularaxis": {
            "gridcolor": "white",
            "linecolor": "white",
            "ticks": ""
           },
           "bgcolor": "#E5ECF6",
           "radialaxis": {
            "gridcolor": "white",
            "linecolor": "white",
            "ticks": ""
           }
          },
          "scene": {
           "xaxis": {
            "backgroundcolor": "#E5ECF6",
            "gridcolor": "white",
            "gridwidth": 2,
            "linecolor": "white",
            "showbackground": true,
            "ticks": "",
            "zerolinecolor": "white"
           },
           "yaxis": {
            "backgroundcolor": "#E5ECF6",
            "gridcolor": "white",
            "gridwidth": 2,
            "linecolor": "white",
            "showbackground": true,
            "ticks": "",
            "zerolinecolor": "white"
           },
           "zaxis": {
            "backgroundcolor": "#E5ECF6",
            "gridcolor": "white",
            "gridwidth": 2,
            "linecolor": "white",
            "showbackground": true,
            "ticks": "",
            "zerolinecolor": "white"
           }
          },
          "shapedefaults": {
           "line": {
            "color": "#2a3f5f"
           }
          },
          "ternary": {
           "aaxis": {
            "gridcolor": "white",
            "linecolor": "white",
            "ticks": ""
           },
           "baxis": {
            "gridcolor": "white",
            "linecolor": "white",
            "ticks": ""
           },
           "bgcolor": "#E5ECF6",
           "caxis": {
            "gridcolor": "white",
            "linecolor": "white",
            "ticks": ""
           }
          },
          "title": {
           "x": 0.05
          },
          "xaxis": {
           "automargin": true,
           "gridcolor": "white",
           "linecolor": "white",
           "ticks": "",
           "title": {
            "standoff": 15
           },
           "zerolinecolor": "white",
           "zerolinewidth": 2
          },
          "yaxis": {
           "automargin": true,
           "gridcolor": "white",
           "linecolor": "white",
           "ticks": "",
           "title": {
            "standoff": 15
           },
           "zerolinecolor": "white",
           "zerolinewidth": 2
          }
         }
        },
        "title": {
         "text": "World Happiness Report 2022"
        },
        "xaxis": {
         "anchor": "y",
         "domain": [
          0,
          1
         ],
         "title": {
          "text": "Country"
         }
        },
        "yaxis": {
         "anchor": "x",
         "domain": [
          0,
          1
         ],
         "title": {
          "text": "Happiness score"
         }
        }
       }
      }
     },
     "metadata": {},
     "output_type": "display_data"
    }
   ],
   "source": [
    "px.bar(data, x='Country', y='Happiness score', title='World Happiness Report 2022', height=800)"
   ]
  },
  {
   "attachments": {},
   "cell_type": "markdown",
   "metadata": {},
   "source": [
    "# Mapping the Data\n",
    "\n",
    "We can run the code below to make a map of the countries compared to their happiness scores. "
   ]
  },
  {
   "cell_type": "code",
   "execution_count": 31,
   "metadata": {},
   "outputs": [
    {
     "data": {
      "application/vnd.plotly.v1+json": {
       "config": {
        "plotlyServerURL": "https://plot.ly"
       },
       "data": [
        {
         "coloraxis": "coloraxis",
         "customdata": [
          [
           "Finland",
           7.821000099182129
          ],
          [
           "Denmark",
           7.636199951171875
          ],
          [
           "Iceland",
           7.557499885559082
          ],
          [
           "Switzerland",
           7.511600017547607
          ],
          [
           "Netherlands",
           7.414899826049805
          ],
          [
           "Luxembourg*",
           7.4039998054504395
          ],
          [
           "Sweden",
           7.384300231933594
          ],
          [
           "Norway",
           7.365099906921387
          ],
          [
           "Israel",
           7.363800048828125
          ],
          [
           "New Zealand",
           7.19980001449585
          ],
          [
           "Austria",
           7.163000106811523
          ],
          [
           "Australia",
           7.162099838256836
          ],
          [
           "Ireland",
           7.040800094604492
          ],
          [
           "Germany",
           7.03410005569458
          ],
          [
           "Canada",
           7.025100231170654
          ],
          [
           "United States",
           6.976799964904785
          ],
          [
           "United Kingdom",
           6.942500114440918
          ],
          [
           "Czechia",
           6.9197998046875
          ],
          [
           "Belgium",
           6.804999828338623
          ],
          [
           "France",
           6.686699867248535
          ],
          [
           "Bahrain",
           6.646900177001953
          ],
          [
           "Slovenia",
           6.630099773406982
          ],
          [
           "Costa Rica",
           6.581999778747559
          ],
          [
           "United Arab Emirates",
           6.576000213623047
          ],
          [
           "Saudi Arabia",
           6.522799968719482
          ],
          [
           "Taiwan Province of China",
           6.512499809265137
          ],
          [
           "Singapore",
           6.480199813842773
          ],
          [
           "Romania",
           6.4770002365112305
          ],
          [
           "Spain",
           6.47629976272583
          ],
          [
           "Uruguay",
           6.473599910736084
          ],
          [
           "Italy",
           6.466700077056885
          ],
          [
           "Kosovo",
           6.455100059509277
          ],
          [
           "Malta",
           6.446899890899658
          ],
          [
           "Lithuania",
           6.4456000328063965
          ],
          [
           "Slovakia",
           6.390699863433838
          ],
          [
           "Estonia",
           6.340799808502197
          ],
          [
           "Panama",
           6.309100151062012
          ],
          [
           "Brazil",
           6.292799949645996
          ],
          [
           "Guatemala*",
           6.262199878692627
          ],
          [
           "Kazakhstan",
           6.234099864959717
          ],
          [
           "Cyprus",
           6.220900058746338
          ],
          [
           "Latvia",
           6.1803998947143555
          ],
          [
           "Serbia",
           6.177999973297119
          ],
          [
           "Chile",
           6.171800136566162
          ],
          [
           "Nicaragua",
           6.164599895477295
          ],
          [
           "Mexico",
           6.127600193023682
          ],
          [
           "Croatia",
           6.125199794769287
          ],
          [
           "Poland",
           6.122799873352051
          ],
          [
           "El Salvador",
           6.119999885559082
          ],
          [
           "Kuwait*",
           6.106100082397461
          ],
          [
           "Hungary",
           6.085899829864502
          ],
          [
           "Mauritius",
           6.071100234985352
          ],
          [
           "Uzbekistan",
           6.062699794769287
          ],
          [
           "Japan",
           6.038899898529053
          ],
          [
           "Honduras",
           6.02209997177124
          ],
          [
           "Portugal",
           6.016300201416016
          ],
          [
           "Argentina",
           5.9670000076293945
          ],
          [
           "Greece",
           5.948200225830078
          ],
          [
           "South Korea",
           5.935100078582764
          ],
          [
           "Philippines",
           5.903600215911865
          ],
          [
           "Thailand",
           5.891200065612793
          ],
          [
           "Moldova",
           5.856800079345703
          ],
          [
           "Jamaica",
           5.849599838256836
          ],
          [
           "Kyrgyzstan",
           5.828499794006348
          ],
          [
           "Belarus*",
           5.821499824523926
          ],
          [
           "Colombia",
           5.780600070953369
          ],
          [
           "Bosnia and Herzegovina",
           5.76800012588501
          ],
          [
           "Mongolia",
           5.760700225830078
          ],
          [
           "Dominican Republic",
           5.737199783325195
          ],
          [
           "Malaysia",
           5.711299896240234
          ],
          [
           "Bolivia",
           5.600299835205078
          ],
          [
           "China",
           5.585299968719482
          ],
          [
           "Paraguay",
           5.5782999992370605
          ],
          [
           "Peru",
           5.559100151062012
          ],
          [
           "Montenegro",
           5.546800136566162
          ],
          [
           "Ecuador",
           5.533299922943115
          ],
          [
           "Vietnam",
           5.485000133514404
          ],
          [
           "Turkmenistan*",
           5.474299907684326
          ],
          [
           "North Cyprus*",
           5.466599941253662
          ],
          [
           "Russia",
           5.458600044250488
          ],
          [
           "Hong Kong S.A.R. of China",
           5.424799919128418
          ],
          [
           "Armenia",
           5.398600101470947
          ],
          [
           "Tajikistan",
           5.377099990844727
          ],
          [
           "Nepal",
           5.376500129699707
          ],
          [
           "Bulgaria",
           5.3709001541137695
          ],
          [
           "Libya*",
           5.3302001953125
          ],
          [
           "Indonesia",
           5.23960018157959
          ],
          [
           "Ivory Coast",
           5.234600067138672
          ],
          [
           "North Macedonia",
           5.198999881744385
          ],
          [
           "Albania",
           5.198800086975098
          ],
          [
           "South Africa",
           5.193900108337402
          ],
          [
           "Azerbaijan*",
           5.173399925231934
          ],
          [
           "Gambia*",
           5.163599967956543
          ],
          [
           "Bangladesh",
           5.1554999351501465
          ],
          [
           "Laos",
           5.1402997970581055
          ],
          [
           "Algeria",
           5.122300148010254
          ],
          [
           "Liberia*",
           5.121500015258789
          ],
          [
           "Ukraine",
           5.084099769592285
          ],
          [
           "Congo",
           5.075200080871582
          ],
          [
           "Morocco",
           5.059899806976318
          ],
          [
           "Mozambique",
           5.048299789428711
          ],
          [
           "Cameroon",
           5.047599792480469
          ],
          [
           "Senegal",
           5.04610013961792
          ],
          [
           "Niger*",
           5.003499984741211
          ],
          [
           "Georgia",
           4.973199844360352
          ],
          [
           "Gabon",
           4.9583001136779785
          ],
          [
           "Iraq",
           4.940899848937988
          ],
          [
           "Venezuela",
           4.92549991607666
          ],
          [
           "Guinea",
           4.890500068664551
          ],
          [
           "Iran",
           4.887899875640869
          ],
          [
           "Ghana",
           4.872000217437744
          ],
          [
           "Turkey",
           4.744200229644775
          ],
          [
           "Burkina Faso",
           4.670499801635742
          ],
          [
           "Cambodia",
           4.6402997970581055
          ],
          [
           "Benin",
           4.623199939727783
          ],
          [
           "Comoros*",
           4.60860013961792
          ],
          [
           "Uganda",
           4.60260009765625
          ],
          [
           "Nigeria",
           4.552000045776367
          ],
          [
           "Kenya",
           4.543000221252441
          ],
          [
           "Tunisia",
           4.515999794006348
          ],
          [
           "Pakistan",
           4.5157999992370605
          ],
          [
           "Palestinian Territories*",
           4.482500076293945
          ],
          [
           "Mali",
           4.479000091552734
          ],
          [
           "Namibia",
           4.459400177001953
          ],
          [
           "Eswatini, Kingdom of*",
           4.396100044250488
          ],
          [
           "Myanmar",
           4.394199848175049
          ],
          [
           "Sri Lanka",
           4.362199783325195
          ],
          [
           "Madagascar*",
           4.339099884033203
          ],
          [
           "Egypt",
           4.287700176239014
          ],
          [
           "Chad*",
           4.250800132751465
          ],
          [
           "Ethiopia",
           4.241499900817871
          ],
          [
           "Yemen*",
           4.196899890899658
          ],
          [
           "Mauritania*",
           4.152599811553955
          ],
          [
           "Jordan",
           4.152100086212158
          ],
          [
           "Togo",
           4.112299919128418
          ],
          [
           "India",
           3.777100086212158
          ],
          [
           "Zambia",
           3.7597999572753906
          ],
          [
           "Malawi",
           3.7504000663757324
          ],
          [
           "Tanzania",
           3.702399969100952
          ],
          [
           "Sierra Leone",
           3.5739998817443848
          ],
          [
           "Lesotho*",
           3.5118000507354736
          ],
          [
           "Botswana*",
           3.471100091934204
          ],
          [
           "Rwanda*",
           3.268199920654297
          ],
          [
           "Zimbabwe",
           2.9951000213623047
          ],
          [
           "Lebanon",
           2.9553000926971436
          ],
          [
           "Afghanistan",
           2.4038000106811523
          ]
         ],
         "geo": "geo",
         "hovertemplate": "Country=%{customdata[0]}<br>Happiness score=%{z}<extra></extra>",
         "locations": [
          "Finland",
          "Denmark",
          "Iceland",
          "Switzerland",
          "Netherlands",
          "Luxembourg*",
          "Sweden",
          "Norway",
          "Israel",
          "New Zealand",
          "Austria",
          "Australia",
          "Ireland",
          "Germany",
          "Canada",
          "United States",
          "United Kingdom",
          "Czechia",
          "Belgium",
          "France",
          "Bahrain",
          "Slovenia",
          "Costa Rica",
          "United Arab Emirates",
          "Saudi Arabia",
          "Taiwan Province of China",
          "Singapore",
          "Romania",
          "Spain",
          "Uruguay",
          "Italy",
          "Kosovo",
          "Malta",
          "Lithuania",
          "Slovakia",
          "Estonia",
          "Panama",
          "Brazil",
          "Guatemala*",
          "Kazakhstan",
          "Cyprus",
          "Latvia",
          "Serbia",
          "Chile",
          "Nicaragua",
          "Mexico",
          "Croatia",
          "Poland",
          "El Salvador",
          "Kuwait*",
          "Hungary",
          "Mauritius",
          "Uzbekistan",
          "Japan",
          "Honduras",
          "Portugal",
          "Argentina",
          "Greece",
          "South Korea",
          "Philippines",
          "Thailand",
          "Moldova",
          "Jamaica",
          "Kyrgyzstan",
          "Belarus*",
          "Colombia",
          "Bosnia and Herzegovina",
          "Mongolia",
          "Dominican Republic",
          "Malaysia",
          "Bolivia",
          "China",
          "Paraguay",
          "Peru",
          "Montenegro",
          "Ecuador",
          "Vietnam",
          "Turkmenistan*",
          "North Cyprus*",
          "Russia",
          "Hong Kong S.A.R. of China",
          "Armenia",
          "Tajikistan",
          "Nepal",
          "Bulgaria",
          "Libya*",
          "Indonesia",
          "Ivory Coast",
          "North Macedonia",
          "Albania",
          "South Africa",
          "Azerbaijan*",
          "Gambia*",
          "Bangladesh",
          "Laos",
          "Algeria",
          "Liberia*",
          "Ukraine",
          "Congo",
          "Morocco",
          "Mozambique",
          "Cameroon",
          "Senegal",
          "Niger*",
          "Georgia",
          "Gabon",
          "Iraq",
          "Venezuela",
          "Guinea",
          "Iran",
          "Ghana",
          "Turkey",
          "Burkina Faso",
          "Cambodia",
          "Benin",
          "Comoros*",
          "Uganda",
          "Nigeria",
          "Kenya",
          "Tunisia",
          "Pakistan",
          "Palestinian Territories*",
          "Mali",
          "Namibia",
          "Eswatini, Kingdom of*",
          "Myanmar",
          "Sri Lanka",
          "Madagascar*",
          "Egypt",
          "Chad*",
          "Ethiopia",
          "Yemen*",
          "Mauritania*",
          "Jordan",
          "Togo",
          "India",
          "Zambia",
          "Malawi",
          "Tanzania",
          "Sierra Leone",
          "Lesotho*",
          "Botswana*",
          "Rwanda*",
          "Zimbabwe",
          "Lebanon",
          "Afghanistan"
         ],
         "name": "",
         "type": "choropleth",
         "z": [
          7.821000099182129,
          7.636199951171875,
          7.557499885559082,
          7.511600017547607,
          7.414899826049805,
          7.4039998054504395,
          7.384300231933594,
          7.365099906921387,
          7.363800048828125,
          7.19980001449585,
          7.163000106811523,
          7.162099838256836,
          7.040800094604492,
          7.03410005569458,
          7.025100231170654,
          6.976799964904785,
          6.942500114440918,
          6.9197998046875,
          6.804999828338623,
          6.686699867248535,
          6.646900177001953,
          6.630099773406982,
          6.581999778747559,
          6.576000213623047,
          6.522799968719482,
          6.512499809265137,
          6.480199813842773,
          6.4770002365112305,
          6.47629976272583,
          6.473599910736084,
          6.466700077056885,
          6.455100059509277,
          6.446899890899658,
          6.4456000328063965,
          6.390699863433838,
          6.340799808502197,
          6.309100151062012,
          6.292799949645996,
          6.262199878692627,
          6.234099864959717,
          6.220900058746338,
          6.1803998947143555,
          6.177999973297119,
          6.171800136566162,
          6.164599895477295,
          6.127600193023682,
          6.125199794769287,
          6.122799873352051,
          6.119999885559082,
          6.106100082397461,
          6.085899829864502,
          6.071100234985352,
          6.062699794769287,
          6.038899898529053,
          6.02209997177124,
          6.016300201416016,
          5.9670000076293945,
          5.948200225830078,
          5.935100078582764,
          5.903600215911865,
          5.891200065612793,
          5.856800079345703,
          5.849599838256836,
          5.828499794006348,
          5.821499824523926,
          5.780600070953369,
          5.76800012588501,
          5.760700225830078,
          5.737199783325195,
          5.711299896240234,
          5.600299835205078,
          5.585299968719482,
          5.5782999992370605,
          5.559100151062012,
          5.546800136566162,
          5.533299922943115,
          5.485000133514404,
          5.474299907684326,
          5.466599941253662,
          5.458600044250488,
          5.424799919128418,
          5.398600101470947,
          5.377099990844727,
          5.376500129699707,
          5.3709001541137695,
          5.3302001953125,
          5.23960018157959,
          5.234600067138672,
          5.198999881744385,
          5.198800086975098,
          5.193900108337402,
          5.173399925231934,
          5.163599967956543,
          5.1554999351501465,
          5.1402997970581055,
          5.122300148010254,
          5.121500015258789,
          5.084099769592285,
          5.075200080871582,
          5.059899806976318,
          5.048299789428711,
          5.047599792480469,
          5.04610013961792,
          5.003499984741211,
          4.973199844360352,
          4.9583001136779785,
          4.940899848937988,
          4.92549991607666,
          4.890500068664551,
          4.887899875640869,
          4.872000217437744,
          4.744200229644775,
          4.670499801635742,
          4.6402997970581055,
          4.623199939727783,
          4.60860013961792,
          4.60260009765625,
          4.552000045776367,
          4.543000221252441,
          4.515999794006348,
          4.5157999992370605,
          4.482500076293945,
          4.479000091552734,
          4.459400177001953,
          4.396100044250488,
          4.394199848175049,
          4.362199783325195,
          4.339099884033203,
          4.287700176239014,
          4.250800132751465,
          4.241499900817871,
          4.196899890899658,
          4.152599811553955,
          4.152100086212158,
          4.112299919128418,
          3.777100086212158,
          3.7597999572753906,
          3.7504000663757324,
          3.702399969100952,
          3.5739998817443848,
          3.5118000507354736,
          3.471100091934204,
          3.268199920654297,
          2.9951000213623047,
          2.9553000926971436,
          2.4038000106811523
         ]
        }
       ],
       "layout": {
        "coloraxis": {
         "colorbar": {
          "title": {
           "text": "Happiness score"
          }
         },
         "colorscale": [
          [
           0,
           "#0d0887"
          ],
          [
           0.1111111111111111,
           "#46039f"
          ],
          [
           0.2222222222222222,
           "#7201a8"
          ],
          [
           0.3333333333333333,
           "#9c179e"
          ],
          [
           0.4444444444444444,
           "#bd3786"
          ],
          [
           0.5555555555555556,
           "#d8576b"
          ],
          [
           0.6666666666666666,
           "#ed7953"
          ],
          [
           0.7777777777777778,
           "#fb9f3a"
          ],
          [
           0.8888888888888888,
           "#fdca26"
          ],
          [
           1,
           "#f0f921"
          ]
         ]
        },
        "geo": {
         "center": {},
         "domain": {
          "x": [
           0,
           1
          ],
          "y": [
           0,
           1
          ]
         }
        },
        "height": 800,
        "legend": {
         "tracegroupgap": 0
        },
        "margin": {
         "t": 60
        },
        "template": {
         "data": {
          "bar": [
           {
            "error_x": {
             "color": "#2a3f5f"
            },
            "error_y": {
             "color": "#2a3f5f"
            },
            "marker": {
             "line": {
              "color": "#E5ECF6",
              "width": 0.5
             },
             "pattern": {
              "fillmode": "overlay",
              "size": 10,
              "solidity": 0.2
             }
            },
            "type": "bar"
           }
          ],
          "barpolar": [
           {
            "marker": {
             "line": {
              "color": "#E5ECF6",
              "width": 0.5
             },
             "pattern": {
              "fillmode": "overlay",
              "size": 10,
              "solidity": 0.2
             }
            },
            "type": "barpolar"
           }
          ],
          "carpet": [
           {
            "aaxis": {
             "endlinecolor": "#2a3f5f",
             "gridcolor": "white",
             "linecolor": "white",
             "minorgridcolor": "white",
             "startlinecolor": "#2a3f5f"
            },
            "baxis": {
             "endlinecolor": "#2a3f5f",
             "gridcolor": "white",
             "linecolor": "white",
             "minorgridcolor": "white",
             "startlinecolor": "#2a3f5f"
            },
            "type": "carpet"
           }
          ],
          "choropleth": [
           {
            "colorbar": {
             "outlinewidth": 0,
             "ticks": ""
            },
            "type": "choropleth"
           }
          ],
          "contour": [
           {
            "colorbar": {
             "outlinewidth": 0,
             "ticks": ""
            },
            "colorscale": [
             [
              0,
              "#0d0887"
             ],
             [
              0.1111111111111111,
              "#46039f"
             ],
             [
              0.2222222222222222,
              "#7201a8"
             ],
             [
              0.3333333333333333,
              "#9c179e"
             ],
             [
              0.4444444444444444,
              "#bd3786"
             ],
             [
              0.5555555555555556,
              "#d8576b"
             ],
             [
              0.6666666666666666,
              "#ed7953"
             ],
             [
              0.7777777777777778,
              "#fb9f3a"
             ],
             [
              0.8888888888888888,
              "#fdca26"
             ],
             [
              1,
              "#f0f921"
             ]
            ],
            "type": "contour"
           }
          ],
          "contourcarpet": [
           {
            "colorbar": {
             "outlinewidth": 0,
             "ticks": ""
            },
            "type": "contourcarpet"
           }
          ],
          "heatmap": [
           {
            "colorbar": {
             "outlinewidth": 0,
             "ticks": ""
            },
            "colorscale": [
             [
              0,
              "#0d0887"
             ],
             [
              0.1111111111111111,
              "#46039f"
             ],
             [
              0.2222222222222222,
              "#7201a8"
             ],
             [
              0.3333333333333333,
              "#9c179e"
             ],
             [
              0.4444444444444444,
              "#bd3786"
             ],
             [
              0.5555555555555556,
              "#d8576b"
             ],
             [
              0.6666666666666666,
              "#ed7953"
             ],
             [
              0.7777777777777778,
              "#fb9f3a"
             ],
             [
              0.8888888888888888,
              "#fdca26"
             ],
             [
              1,
              "#f0f921"
             ]
            ],
            "type": "heatmap"
           }
          ],
          "heatmapgl": [
           {
            "colorbar": {
             "outlinewidth": 0,
             "ticks": ""
            },
            "colorscale": [
             [
              0,
              "#0d0887"
             ],
             [
              0.1111111111111111,
              "#46039f"
             ],
             [
              0.2222222222222222,
              "#7201a8"
             ],
             [
              0.3333333333333333,
              "#9c179e"
             ],
             [
              0.4444444444444444,
              "#bd3786"
             ],
             [
              0.5555555555555556,
              "#d8576b"
             ],
             [
              0.6666666666666666,
              "#ed7953"
             ],
             [
              0.7777777777777778,
              "#fb9f3a"
             ],
             [
              0.8888888888888888,
              "#fdca26"
             ],
             [
              1,
              "#f0f921"
             ]
            ],
            "type": "heatmapgl"
           }
          ],
          "histogram": [
           {
            "marker": {
             "pattern": {
              "fillmode": "overlay",
              "size": 10,
              "solidity": 0.2
             }
            },
            "type": "histogram"
           }
          ],
          "histogram2d": [
           {
            "colorbar": {
             "outlinewidth": 0,
             "ticks": ""
            },
            "colorscale": [
             [
              0,
              "#0d0887"
             ],
             [
              0.1111111111111111,
              "#46039f"
             ],
             [
              0.2222222222222222,
              "#7201a8"
             ],
             [
              0.3333333333333333,
              "#9c179e"
             ],
             [
              0.4444444444444444,
              "#bd3786"
             ],
             [
              0.5555555555555556,
              "#d8576b"
             ],
             [
              0.6666666666666666,
              "#ed7953"
             ],
             [
              0.7777777777777778,
              "#fb9f3a"
             ],
             [
              0.8888888888888888,
              "#fdca26"
             ],
             [
              1,
              "#f0f921"
             ]
            ],
            "type": "histogram2d"
           }
          ],
          "histogram2dcontour": [
           {
            "colorbar": {
             "outlinewidth": 0,
             "ticks": ""
            },
            "colorscale": [
             [
              0,
              "#0d0887"
             ],
             [
              0.1111111111111111,
              "#46039f"
             ],
             [
              0.2222222222222222,
              "#7201a8"
             ],
             [
              0.3333333333333333,
              "#9c179e"
             ],
             [
              0.4444444444444444,
              "#bd3786"
             ],
             [
              0.5555555555555556,
              "#d8576b"
             ],
             [
              0.6666666666666666,
              "#ed7953"
             ],
             [
              0.7777777777777778,
              "#fb9f3a"
             ],
             [
              0.8888888888888888,
              "#fdca26"
             ],
             [
              1,
              "#f0f921"
             ]
            ],
            "type": "histogram2dcontour"
           }
          ],
          "mesh3d": [
           {
            "colorbar": {
             "outlinewidth": 0,
             "ticks": ""
            },
            "type": "mesh3d"
           }
          ],
          "parcoords": [
           {
            "line": {
             "colorbar": {
              "outlinewidth": 0,
              "ticks": ""
             }
            },
            "type": "parcoords"
           }
          ],
          "pie": [
           {
            "automargin": true,
            "type": "pie"
           }
          ],
          "scatter": [
           {
            "fillpattern": {
             "fillmode": "overlay",
             "size": 10,
             "solidity": 0.2
            },
            "type": "scatter"
           }
          ],
          "scatter3d": [
           {
            "line": {
             "colorbar": {
              "outlinewidth": 0,
              "ticks": ""
             }
            },
            "marker": {
             "colorbar": {
              "outlinewidth": 0,
              "ticks": ""
             }
            },
            "type": "scatter3d"
           }
          ],
          "scattercarpet": [
           {
            "marker": {
             "colorbar": {
              "outlinewidth": 0,
              "ticks": ""
             }
            },
            "type": "scattercarpet"
           }
          ],
          "scattergeo": [
           {
            "marker": {
             "colorbar": {
              "outlinewidth": 0,
              "ticks": ""
             }
            },
            "type": "scattergeo"
           }
          ],
          "scattergl": [
           {
            "marker": {
             "colorbar": {
              "outlinewidth": 0,
              "ticks": ""
             }
            },
            "type": "scattergl"
           }
          ],
          "scattermapbox": [
           {
            "marker": {
             "colorbar": {
              "outlinewidth": 0,
              "ticks": ""
             }
            },
            "type": "scattermapbox"
           }
          ],
          "scatterpolar": [
           {
            "marker": {
             "colorbar": {
              "outlinewidth": 0,
              "ticks": ""
             }
            },
            "type": "scatterpolar"
           }
          ],
          "scatterpolargl": [
           {
            "marker": {
             "colorbar": {
              "outlinewidth": 0,
              "ticks": ""
             }
            },
            "type": "scatterpolargl"
           }
          ],
          "scatterternary": [
           {
            "marker": {
             "colorbar": {
              "outlinewidth": 0,
              "ticks": ""
             }
            },
            "type": "scatterternary"
           }
          ],
          "surface": [
           {
            "colorbar": {
             "outlinewidth": 0,
             "ticks": ""
            },
            "colorscale": [
             [
              0,
              "#0d0887"
             ],
             [
              0.1111111111111111,
              "#46039f"
             ],
             [
              0.2222222222222222,
              "#7201a8"
             ],
             [
              0.3333333333333333,
              "#9c179e"
             ],
             [
              0.4444444444444444,
              "#bd3786"
             ],
             [
              0.5555555555555556,
              "#d8576b"
             ],
             [
              0.6666666666666666,
              "#ed7953"
             ],
             [
              0.7777777777777778,
              "#fb9f3a"
             ],
             [
              0.8888888888888888,
              "#fdca26"
             ],
             [
              1,
              "#f0f921"
             ]
            ],
            "type": "surface"
           }
          ],
          "table": [
           {
            "cells": {
             "fill": {
              "color": "#EBF0F8"
             },
             "line": {
              "color": "white"
             }
            },
            "header": {
             "fill": {
              "color": "#C8D4E3"
             },
             "line": {
              "color": "white"
             }
            },
            "type": "table"
           }
          ]
         },
         "layout": {
          "annotationdefaults": {
           "arrowcolor": "#2a3f5f",
           "arrowhead": 0,
           "arrowwidth": 1
          },
          "autotypenumbers": "strict",
          "coloraxis": {
           "colorbar": {
            "outlinewidth": 0,
            "ticks": ""
           }
          },
          "colorscale": {
           "diverging": [
            [
             0,
             "#8e0152"
            ],
            [
             0.1,
             "#c51b7d"
            ],
            [
             0.2,
             "#de77ae"
            ],
            [
             0.3,
             "#f1b6da"
            ],
            [
             0.4,
             "#fde0ef"
            ],
            [
             0.5,
             "#f7f7f7"
            ],
            [
             0.6,
             "#e6f5d0"
            ],
            [
             0.7,
             "#b8e186"
            ],
            [
             0.8,
             "#7fbc41"
            ],
            [
             0.9,
             "#4d9221"
            ],
            [
             1,
             "#276419"
            ]
           ],
           "sequential": [
            [
             0,
             "#0d0887"
            ],
            [
             0.1111111111111111,
             "#46039f"
            ],
            [
             0.2222222222222222,
             "#7201a8"
            ],
            [
             0.3333333333333333,
             "#9c179e"
            ],
            [
             0.4444444444444444,
             "#bd3786"
            ],
            [
             0.5555555555555556,
             "#d8576b"
            ],
            [
             0.6666666666666666,
             "#ed7953"
            ],
            [
             0.7777777777777778,
             "#fb9f3a"
            ],
            [
             0.8888888888888888,
             "#fdca26"
            ],
            [
             1,
             "#f0f921"
            ]
           ],
           "sequentialminus": [
            [
             0,
             "#0d0887"
            ],
            [
             0.1111111111111111,
             "#46039f"
            ],
            [
             0.2222222222222222,
             "#7201a8"
            ],
            [
             0.3333333333333333,
             "#9c179e"
            ],
            [
             0.4444444444444444,
             "#bd3786"
            ],
            [
             0.5555555555555556,
             "#d8576b"
            ],
            [
             0.6666666666666666,
             "#ed7953"
            ],
            [
             0.7777777777777778,
             "#fb9f3a"
            ],
            [
             0.8888888888888888,
             "#fdca26"
            ],
            [
             1,
             "#f0f921"
            ]
           ]
          },
          "colorway": [
           "#636efa",
           "#EF553B",
           "#00cc96",
           "#ab63fa",
           "#FFA15A",
           "#19d3f3",
           "#FF6692",
           "#B6E880",
           "#FF97FF",
           "#FECB52"
          ],
          "font": {
           "color": "#2a3f5f"
          },
          "geo": {
           "bgcolor": "white",
           "lakecolor": "white",
           "landcolor": "#E5ECF6",
           "showlakes": true,
           "showland": true,
           "subunitcolor": "white"
          },
          "hoverlabel": {
           "align": "left"
          },
          "hovermode": "closest",
          "mapbox": {
           "style": "light"
          },
          "paper_bgcolor": "white",
          "plot_bgcolor": "#E5ECF6",
          "polar": {
           "angularaxis": {
            "gridcolor": "white",
            "linecolor": "white",
            "ticks": ""
           },
           "bgcolor": "#E5ECF6",
           "radialaxis": {
            "gridcolor": "white",
            "linecolor": "white",
            "ticks": ""
           }
          },
          "scene": {
           "xaxis": {
            "backgroundcolor": "#E5ECF6",
            "gridcolor": "white",
            "gridwidth": 2,
            "linecolor": "white",
            "showbackground": true,
            "ticks": "",
            "zerolinecolor": "white"
           },
           "yaxis": {
            "backgroundcolor": "#E5ECF6",
            "gridcolor": "white",
            "gridwidth": 2,
            "linecolor": "white",
            "showbackground": true,
            "ticks": "",
            "zerolinecolor": "white"
           },
           "zaxis": {
            "backgroundcolor": "#E5ECF6",
            "gridcolor": "white",
            "gridwidth": 2,
            "linecolor": "white",
            "showbackground": true,
            "ticks": "",
            "zerolinecolor": "white"
           }
          },
          "shapedefaults": {
           "line": {
            "color": "#2a3f5f"
           }
          },
          "ternary": {
           "aaxis": {
            "gridcolor": "white",
            "linecolor": "white",
            "ticks": ""
           },
           "baxis": {
            "gridcolor": "white",
            "linecolor": "white",
            "ticks": ""
           },
           "bgcolor": "#E5ECF6",
           "caxis": {
            "gridcolor": "white",
            "linecolor": "white",
            "ticks": ""
           }
          },
          "title": {
           "x": 0.05
          },
          "xaxis": {
           "automargin": true,
           "gridcolor": "white",
           "linecolor": "white",
           "ticks": "",
           "title": {
            "standoff": 15
           },
           "zerolinecolor": "white",
           "zerolinewidth": 2
          },
          "yaxis": {
           "automargin": true,
           "gridcolor": "white",
           "linecolor": "white",
           "ticks": "",
           "title": {
            "standoff": 15
           },
           "zerolinecolor": "white",
           "zerolinewidth": 2
          }
         }
        }
       }
      }
     },
     "metadata": {},
     "output_type": "display_data"
    }
   ],
   "source": [
    "px.choropleth(data, locations=\"Country\", color=\"Happiness score\", hover_data=[\"Country\", \"Happiness score\"],\n",
    " height=800)\n"
   ]
  },
  {
   "attachments": {},
   "cell_type": "markdown",
   "metadata": {},
   "source": [
    "Run the code below to generate a scatter plot with the data. The country will be on the x axis with the happiness score on the y axis. This scatter plot has the life expectancy represented by the size of the odts and the colour represents the amount of social support in a country. "
   ]
  },
  {
   "cell_type": "code",
   "execution_count": 43,
   "metadata": {},
   "outputs": [
    {
     "data": {
      "application/vnd.plotly.v1+json": {
       "config": {
        "plotlyServerURL": "https://plot.ly"
       },
       "data": [
        {
         "hovertemplate": "Country=%{x}<br>Happiness score=%{y}<br>Explained by: Healthy life expectancy=%{marker.size}<br>Explained by: Social support=%{marker.color}<extra></extra>",
         "legendgroup": "",
         "marker": {
          "color": [
           1.258108377456665,
           1.2426812648773193,
           1.3199135065078735,
           1.2260738611221313,
           1.205848217010498,
           1.1545246839523315,
           1.2040431499481201,
           1.239048719406128,
           1.2209957838058472,
           1.2346335649490356,
           1.1652566194534302,
           1.203384280204773,
           1.1656070947647095,
           1.0875364542007446,
           1.18776273727417,
           1.1816372871398926,
           1.1430999040603638,
           1.2600810527801514,
           1.1061527729034424,
           1.2186006307601929,
           1.0289300680160522,
           1.2490571737289429,
           1.054443597793579,
           0.9795715808868408,
           1.09208345413208,
           1.0952037572860718,
           1.1273994445800781,
           1.0061519145965576,
           1.211014986038208,
           1.1796176433563232,
           1.0517305135726929,
           0.9493407011032104,
           1.168923258781433,
           1.203661322593689,
           1.231731653213501,
           1.2323181629180908,
           1.1065844297409058,
           1.0441974401474,
           0.8310883045196533,
           1.2201673984527588,
           0.9093149900436401,
           1.220850944519043,
           1.085569143295288,
           1.079747200012207,
           1.029070258140564,
           0.8856733441352844,
           1.1832774877548218,
           1.1735914945602417,
           0.7678723931312561,
           0.9832875728607178,
           1.2325856685638428,
           1.1163902282714844,
           1.0915559530258179,
           1.0893537998199463,
           0.8850036859512329,
           1.078463077545166,
           1.101975917816162,
           0.9803828001022339,
           0.8857672810554504,
           0.9119067192077637,
           1.0955945253372192,
           1.0084724426269531,
           1.0448073148727417,
           1.109461784362793,
           1.1565419435501099,
           0.9286164045333862,
           1.0680179595947266,
           1.1974509954452515,
           1.002897024154663,
           0.9376586079597473,
           0.8798621296882629,
           0.9583731293678284,
           1.1302772760391235,
           0.8646109104156494,
           1.0233640670776367,
           0.87916100025177,
           0.9315484166145325,
           1.3189550638198853,
           0.8880544304847717,
           1.0951956510543823,
           0.9542672038078308,
           0.8199043869972229,
           1.0051751136779785,
           0.7837649583816528,
           1.1628960371017456,
           0.9425937533378601,
           0.882904052734375,
           0.4424029290676117,
           0.8626294136047363,
           0.6457356810569763,
           1.0882340669631958,
           1.0930347442626953,
           0.6205543279647827,
           0.6137131452560425,
           0.6542576551437378,
           0.9696173667907715,
           0.6700066924095154,
           1.0805567502975464,
           0.40516048669815063,
           0.2677810788154602,
           0.6596840023994446,
           0.6716996431350708,
           0.5297720432281494,
           0.5600710511207581,
           0.6117153763771057,
           0.7377017736434937,
           0.6823609471321106,
           0.9678928256034851,
           0.5663941502571106,
           0.7406527400016785,
           0.5949505567550659,
           0.8652169704437256,
           0.5649209022521973,
           0.7320998311042786,
           0.06373385339975357,
           0.4761405885219574,
           0.8752675652503967,
           0.7321566939353943,
           0.60507732629776,
           0.5963210463523865,
           0.4125775396823883,
           0.9572246074676514,
           0.4831300675868988,
           0.8771694302558899,
           0.7862652540206909,
           0.8290084600448608,
           0.9336079359054565,
           0.6445609331130981,
           0.7323397397994995,
           0.5062879323959351,
           0.8089874386787415,
           1.0425920486450195,
           0.864883303642273,
           0.7241126298904419,
           0.3215048611164093,
           0.3755294382572174,
           0.5772325992584229,
           0.2792975604534149,
           0.5970168709754944,
           0.41605404019355774,
           0.8479581475257874,
           0.8154734373092651,
           0.13269758224487305,
           0.6904597878456116,
           0.49799853563308716,
           0
          ],
          "coloraxis": "coloraxis",
          "size": [
           0.775206446647644,
           0.7766435146331787,
           0.802621603012085,
           0.8220476508140564,
           0.7867376208305359,
           0.7903646230697632,
           0.8026081919670105,
           0.7860307097434998,
           0.8176369667053223,
           0.7521170377731323,
           0.7737501859664917,
           0.7723036408424377,
           0.7788048386573792,
           0.7759007811546326,
           0.7831433415412903,
           0.6281335353851318,
           0.7499578595161438,
           0.7150060534477234,
           0.7636563181877136,
           0.8076454401016235,
           0.6248905062675476,
           0.7694127559661865,
           0.7442119717597961,
           0.6327618956565857,
           0.5768461227416992,
           0.7326737642288208,
           0.8508744239807129,
           0.6554091572761536,
           0.8083633184432983,
           0.6720983982086182,
           0.8011638522148132,
           0.5694798827171326,
           0.7889099717140198,
           0.6592584848403931,
           0.7073143124580383,
           0.7275119423866272,
           0.709470808506012,
           0.6145867109298706,
           0.5221021771430969,
           0.6112638115882874,
           0.8191651701927185,
           0.6374402046203613,
           0.6583009362220764,
           0.7484585046768188,
           0.6165152192115784,
           0.6230612993240356,
           0.7087388634681702,
           0.7116442322731018,
           0.6068511605262756,
           0.7470964789390564,
           0.6676573753356934,
           0.5675454139709473,
           0.5997484922409058,
           0.8660697937011719,
           0.5545865297317505,
           0.7766397595405579,
           0.6619763970375061,
           0.773688793182373,
           0.8414944410324097,
           0.5139776468276978,
           0.6968042850494385,
           0.596850574016571,
           0.6461374759674072,
           0.6379151344299316,
           0.6288302540779114,
           0.720436155796051,
           0.6648434996604919,
           0.4672314524650574,
           0.5767497420310974,
           0.6198279857635498,
           0.5552874207496643,
           0.7045094966888428,
           0.6244637966156006,
           0.7348531484603882,
           0.6590551137924194,
           0.708149254322052,
           0.6108152866363525,
           0.5163330435752869,
           0.8191651701927185,
           0.5862349271774292,
           0.9418286681175232,
           0.6681329011917114,
           0.517663836479187,
           0.49922800064086914,
           0.6403149962425232,
           0.6057538390159607,
           0.5392173528671265,
           0.32237568497657776,
           0.6373797059059143,
           0.7189506888389587,
           0.36124831438064575,
           0.5596011877059937,
           0.36922144889831543,
           0.5806912779808044,
           0.4786238670349121,
           0.6431504487991333,
           0.3086460828781128,
           0.5832998156547546,
           0.35522225499153137,
           0.5653759241104126,
           0.1910804808139801,
           0.3166263699531555,
           0.4471515417098999,
           0.32595330476760864,
           0.5948413014411926,
           0.39570119976997375,
           0.5542571544647217,
           0.5777590274810791,
           0.2749532163143158,
           0.6417500972747803,
           0.4088703691959381,
           0.7018067836761475,
           0.31968650221824646,
           0.5048215985298157,
           0.33459755778312683,
           0.42402780055999756,
           0.417612761259079,
           0.29988333582878113,
           0.40100958943367004,
           0.6562386155128479,
           0.3740493059158325,
           0.5206599235534668,
           0.31104907393455505,
           0.3540918529033661,
           0.1968819499015808,
           0.4908556342124939,
           0.6604943871498108,
           0.37787505984306335,
           0.5475977659225464,
           0.22499430179595947,
           0.45651620626449585,
           0.383644163608551,
           0.44998860359191895,
           0.6749829053878784,
           0.3597058057785034,
           0.47140491008758545,
           0.3064526319503784,
           0.38820958137512207,
           0.4254571795463562,
           0.27284371852874756,
           0,
           0.2798006534576416,
           0.4615268409252167,
           0.2700861990451813,
           0.6309643387794495,
           0.2886260449886322
          ],
          "sizemode": "area",
          "sizeref": 0.002354571670293808,
          "symbol": "circle"
         },
         "mode": "markers",
         "name": "",
         "orientation": "v",
         "showlegend": false,
         "type": "scatter",
         "x": [
          "Finland",
          "Denmark",
          "Iceland",
          "Switzerland",
          "Netherlands",
          "Luxembourg*",
          "Sweden",
          "Norway",
          "Israel",
          "New Zealand",
          "Austria",
          "Australia",
          "Ireland",
          "Germany",
          "Canada",
          "United States",
          "United Kingdom",
          "Czechia",
          "Belgium",
          "France",
          "Bahrain",
          "Slovenia",
          "Costa Rica",
          "United Arab Emirates",
          "Saudi Arabia",
          "Taiwan Province of China",
          "Singapore",
          "Romania",
          "Spain",
          "Uruguay",
          "Italy",
          "Kosovo",
          "Malta",
          "Lithuania",
          "Slovakia",
          "Estonia",
          "Panama",
          "Brazil",
          "Guatemala*",
          "Kazakhstan",
          "Cyprus",
          "Latvia",
          "Serbia",
          "Chile",
          "Nicaragua",
          "Mexico",
          "Croatia",
          "Poland",
          "El Salvador",
          "Kuwait*",
          "Hungary",
          "Mauritius",
          "Uzbekistan",
          "Japan",
          "Honduras",
          "Portugal",
          "Argentina",
          "Greece",
          "South Korea",
          "Philippines",
          "Thailand",
          "Moldova",
          "Jamaica",
          "Kyrgyzstan",
          "Belarus*",
          "Colombia",
          "Bosnia and Herzegovina",
          "Mongolia",
          "Dominican Republic",
          "Malaysia",
          "Bolivia",
          "China",
          "Paraguay",
          "Peru",
          "Montenegro",
          "Ecuador",
          "Vietnam",
          "Turkmenistan*",
          "North Cyprus*",
          "Russia",
          "Hong Kong S.A.R. of China",
          "Armenia",
          "Tajikistan",
          "Nepal",
          "Bulgaria",
          "Libya*",
          "Indonesia",
          "Ivory Coast",
          "North Macedonia",
          "Albania",
          "South Africa",
          "Azerbaijan*",
          "Gambia*",
          "Bangladesh",
          "Laos",
          "Algeria",
          "Liberia*",
          "Ukraine",
          "Congo",
          "Morocco",
          "Mozambique",
          "Cameroon",
          "Senegal",
          "Niger*",
          "Georgia",
          "Gabon",
          "Iraq",
          "Venezuela",
          "Guinea",
          "Iran",
          "Ghana",
          "Turkey",
          "Burkina Faso",
          "Cambodia",
          "Benin",
          "Comoros*",
          "Uganda",
          "Nigeria",
          "Kenya",
          "Tunisia",
          "Pakistan",
          "Palestinian Territories*",
          "Mali",
          "Namibia",
          "Eswatini, Kingdom of*",
          "Myanmar",
          "Sri Lanka",
          "Madagascar*",
          "Egypt",
          "Chad*",
          "Ethiopia",
          "Yemen*",
          "Mauritania*",
          "Jordan",
          "Togo",
          "India",
          "Zambia",
          "Malawi",
          "Tanzania",
          "Sierra Leone",
          "Lesotho*",
          "Botswana*",
          "Rwanda*",
          "Zimbabwe",
          "Lebanon",
          "Afghanistan"
         ],
         "xaxis": "x",
         "y": [
          7.821000099182129,
          7.636199951171875,
          7.557499885559082,
          7.511600017547607,
          7.414899826049805,
          7.4039998054504395,
          7.384300231933594,
          7.365099906921387,
          7.363800048828125,
          7.19980001449585,
          7.163000106811523,
          7.162099838256836,
          7.040800094604492,
          7.03410005569458,
          7.025100231170654,
          6.976799964904785,
          6.942500114440918,
          6.9197998046875,
          6.804999828338623,
          6.686699867248535,
          6.646900177001953,
          6.630099773406982,
          6.581999778747559,
          6.576000213623047,
          6.522799968719482,
          6.512499809265137,
          6.480199813842773,
          6.4770002365112305,
          6.47629976272583,
          6.473599910736084,
          6.466700077056885,
          6.455100059509277,
          6.446899890899658,
          6.4456000328063965,
          6.390699863433838,
          6.340799808502197,
          6.309100151062012,
          6.292799949645996,
          6.262199878692627,
          6.234099864959717,
          6.220900058746338,
          6.1803998947143555,
          6.177999973297119,
          6.171800136566162,
          6.164599895477295,
          6.127600193023682,
          6.125199794769287,
          6.122799873352051,
          6.119999885559082,
          6.106100082397461,
          6.085899829864502,
          6.071100234985352,
          6.062699794769287,
          6.038899898529053,
          6.02209997177124,
          6.016300201416016,
          5.9670000076293945,
          5.948200225830078,
          5.935100078582764,
          5.903600215911865,
          5.891200065612793,
          5.856800079345703,
          5.849599838256836,
          5.828499794006348,
          5.821499824523926,
          5.780600070953369,
          5.76800012588501,
          5.760700225830078,
          5.737199783325195,
          5.711299896240234,
          5.600299835205078,
          5.585299968719482,
          5.5782999992370605,
          5.559100151062012,
          5.546800136566162,
          5.533299922943115,
          5.485000133514404,
          5.474299907684326,
          5.466599941253662,
          5.458600044250488,
          5.424799919128418,
          5.398600101470947,
          5.377099990844727,
          5.376500129699707,
          5.3709001541137695,
          5.3302001953125,
          5.23960018157959,
          5.234600067138672,
          5.198999881744385,
          5.198800086975098,
          5.193900108337402,
          5.173399925231934,
          5.163599967956543,
          5.1554999351501465,
          5.1402997970581055,
          5.122300148010254,
          5.121500015258789,
          5.084099769592285,
          5.075200080871582,
          5.059899806976318,
          5.048299789428711,
          5.047599792480469,
          5.04610013961792,
          5.003499984741211,
          4.973199844360352,
          4.9583001136779785,
          4.940899848937988,
          4.92549991607666,
          4.890500068664551,
          4.887899875640869,
          4.872000217437744,
          4.744200229644775,
          4.670499801635742,
          4.6402997970581055,
          4.623199939727783,
          4.60860013961792,
          4.60260009765625,
          4.552000045776367,
          4.543000221252441,
          4.515999794006348,
          4.5157999992370605,
          4.482500076293945,
          4.479000091552734,
          4.459400177001953,
          4.396100044250488,
          4.394199848175049,
          4.362199783325195,
          4.339099884033203,
          4.287700176239014,
          4.250800132751465,
          4.241499900817871,
          4.196899890899658,
          4.152599811553955,
          4.152100086212158,
          4.112299919128418,
          3.777100086212158,
          3.7597999572753906,
          3.7504000663757324,
          3.702399969100952,
          3.5739998817443848,
          3.5118000507354736,
          3.471100091934204,
          3.268199920654297,
          2.9951000213623047,
          2.9553000926971436,
          2.4038000106811523
         ],
         "yaxis": "y"
        }
       ],
       "layout": {
        "coloraxis": {
         "colorbar": {
          "title": {
           "text": "Explained by: Social support"
          }
         },
         "colorscale": [
          [
           0,
           "#0d0887"
          ],
          [
           0.1111111111111111,
           "#46039f"
          ],
          [
           0.2222222222222222,
           "#7201a8"
          ],
          [
           0.3333333333333333,
           "#9c179e"
          ],
          [
           0.4444444444444444,
           "#bd3786"
          ],
          [
           0.5555555555555556,
           "#d8576b"
          ],
          [
           0.6666666666666666,
           "#ed7953"
          ],
          [
           0.7777777777777778,
           "#fb9f3a"
          ],
          [
           0.8888888888888888,
           "#fdca26"
          ],
          [
           1,
           "#f0f921"
          ]
         ]
        },
        "height": 800,
        "legend": {
         "itemsizing": "constant",
         "tracegroupgap": 0
        },
        "template": {
         "data": {
          "bar": [
           {
            "error_x": {
             "color": "#2a3f5f"
            },
            "error_y": {
             "color": "#2a3f5f"
            },
            "marker": {
             "line": {
              "color": "#E5ECF6",
              "width": 0.5
             },
             "pattern": {
              "fillmode": "overlay",
              "size": 10,
              "solidity": 0.2
             }
            },
            "type": "bar"
           }
          ],
          "barpolar": [
           {
            "marker": {
             "line": {
              "color": "#E5ECF6",
              "width": 0.5
             },
             "pattern": {
              "fillmode": "overlay",
              "size": 10,
              "solidity": 0.2
             }
            },
            "type": "barpolar"
           }
          ],
          "carpet": [
           {
            "aaxis": {
             "endlinecolor": "#2a3f5f",
             "gridcolor": "white",
             "linecolor": "white",
             "minorgridcolor": "white",
             "startlinecolor": "#2a3f5f"
            },
            "baxis": {
             "endlinecolor": "#2a3f5f",
             "gridcolor": "white",
             "linecolor": "white",
             "minorgridcolor": "white",
             "startlinecolor": "#2a3f5f"
            },
            "type": "carpet"
           }
          ],
          "choropleth": [
           {
            "colorbar": {
             "outlinewidth": 0,
             "ticks": ""
            },
            "type": "choropleth"
           }
          ],
          "contour": [
           {
            "colorbar": {
             "outlinewidth": 0,
             "ticks": ""
            },
            "colorscale": [
             [
              0,
              "#0d0887"
             ],
             [
              0.1111111111111111,
              "#46039f"
             ],
             [
              0.2222222222222222,
              "#7201a8"
             ],
             [
              0.3333333333333333,
              "#9c179e"
             ],
             [
              0.4444444444444444,
              "#bd3786"
             ],
             [
              0.5555555555555556,
              "#d8576b"
             ],
             [
              0.6666666666666666,
              "#ed7953"
             ],
             [
              0.7777777777777778,
              "#fb9f3a"
             ],
             [
              0.8888888888888888,
              "#fdca26"
             ],
             [
              1,
              "#f0f921"
             ]
            ],
            "type": "contour"
           }
          ],
          "contourcarpet": [
           {
            "colorbar": {
             "outlinewidth": 0,
             "ticks": ""
            },
            "type": "contourcarpet"
           }
          ],
          "heatmap": [
           {
            "colorbar": {
             "outlinewidth": 0,
             "ticks": ""
            },
            "colorscale": [
             [
              0,
              "#0d0887"
             ],
             [
              0.1111111111111111,
              "#46039f"
             ],
             [
              0.2222222222222222,
              "#7201a8"
             ],
             [
              0.3333333333333333,
              "#9c179e"
             ],
             [
              0.4444444444444444,
              "#bd3786"
             ],
             [
              0.5555555555555556,
              "#d8576b"
             ],
             [
              0.6666666666666666,
              "#ed7953"
             ],
             [
              0.7777777777777778,
              "#fb9f3a"
             ],
             [
              0.8888888888888888,
              "#fdca26"
             ],
             [
              1,
              "#f0f921"
             ]
            ],
            "type": "heatmap"
           }
          ],
          "heatmapgl": [
           {
            "colorbar": {
             "outlinewidth": 0,
             "ticks": ""
            },
            "colorscale": [
             [
              0,
              "#0d0887"
             ],
             [
              0.1111111111111111,
              "#46039f"
             ],
             [
              0.2222222222222222,
              "#7201a8"
             ],
             [
              0.3333333333333333,
              "#9c179e"
             ],
             [
              0.4444444444444444,
              "#bd3786"
             ],
             [
              0.5555555555555556,
              "#d8576b"
             ],
             [
              0.6666666666666666,
              "#ed7953"
             ],
             [
              0.7777777777777778,
              "#fb9f3a"
             ],
             [
              0.8888888888888888,
              "#fdca26"
             ],
             [
              1,
              "#f0f921"
             ]
            ],
            "type": "heatmapgl"
           }
          ],
          "histogram": [
           {
            "marker": {
             "pattern": {
              "fillmode": "overlay",
              "size": 10,
              "solidity": 0.2
             }
            },
            "type": "histogram"
           }
          ],
          "histogram2d": [
           {
            "colorbar": {
             "outlinewidth": 0,
             "ticks": ""
            },
            "colorscale": [
             [
              0,
              "#0d0887"
             ],
             [
              0.1111111111111111,
              "#46039f"
             ],
             [
              0.2222222222222222,
              "#7201a8"
             ],
             [
              0.3333333333333333,
              "#9c179e"
             ],
             [
              0.4444444444444444,
              "#bd3786"
             ],
             [
              0.5555555555555556,
              "#d8576b"
             ],
             [
              0.6666666666666666,
              "#ed7953"
             ],
             [
              0.7777777777777778,
              "#fb9f3a"
             ],
             [
              0.8888888888888888,
              "#fdca26"
             ],
             [
              1,
              "#f0f921"
             ]
            ],
            "type": "histogram2d"
           }
          ],
          "histogram2dcontour": [
           {
            "colorbar": {
             "outlinewidth": 0,
             "ticks": ""
            },
            "colorscale": [
             [
              0,
              "#0d0887"
             ],
             [
              0.1111111111111111,
              "#46039f"
             ],
             [
              0.2222222222222222,
              "#7201a8"
             ],
             [
              0.3333333333333333,
              "#9c179e"
             ],
             [
              0.4444444444444444,
              "#bd3786"
             ],
             [
              0.5555555555555556,
              "#d8576b"
             ],
             [
              0.6666666666666666,
              "#ed7953"
             ],
             [
              0.7777777777777778,
              "#fb9f3a"
             ],
             [
              0.8888888888888888,
              "#fdca26"
             ],
             [
              1,
              "#f0f921"
             ]
            ],
            "type": "histogram2dcontour"
           }
          ],
          "mesh3d": [
           {
            "colorbar": {
             "outlinewidth": 0,
             "ticks": ""
            },
            "type": "mesh3d"
           }
          ],
          "parcoords": [
           {
            "line": {
             "colorbar": {
              "outlinewidth": 0,
              "ticks": ""
             }
            },
            "type": "parcoords"
           }
          ],
          "pie": [
           {
            "automargin": true,
            "type": "pie"
           }
          ],
          "scatter": [
           {
            "fillpattern": {
             "fillmode": "overlay",
             "size": 10,
             "solidity": 0.2
            },
            "type": "scatter"
           }
          ],
          "scatter3d": [
           {
            "line": {
             "colorbar": {
              "outlinewidth": 0,
              "ticks": ""
             }
            },
            "marker": {
             "colorbar": {
              "outlinewidth": 0,
              "ticks": ""
             }
            },
            "type": "scatter3d"
           }
          ],
          "scattercarpet": [
           {
            "marker": {
             "colorbar": {
              "outlinewidth": 0,
              "ticks": ""
             }
            },
            "type": "scattercarpet"
           }
          ],
          "scattergeo": [
           {
            "marker": {
             "colorbar": {
              "outlinewidth": 0,
              "ticks": ""
             }
            },
            "type": "scattergeo"
           }
          ],
          "scattergl": [
           {
            "marker": {
             "colorbar": {
              "outlinewidth": 0,
              "ticks": ""
             }
            },
            "type": "scattergl"
           }
          ],
          "scattermapbox": [
           {
            "marker": {
             "colorbar": {
              "outlinewidth": 0,
              "ticks": ""
             }
            },
            "type": "scattermapbox"
           }
          ],
          "scatterpolar": [
           {
            "marker": {
             "colorbar": {
              "outlinewidth": 0,
              "ticks": ""
             }
            },
            "type": "scatterpolar"
           }
          ],
          "scatterpolargl": [
           {
            "marker": {
             "colorbar": {
              "outlinewidth": 0,
              "ticks": ""
             }
            },
            "type": "scatterpolargl"
           }
          ],
          "scatterternary": [
           {
            "marker": {
             "colorbar": {
              "outlinewidth": 0,
              "ticks": ""
             }
            },
            "type": "scatterternary"
           }
          ],
          "surface": [
           {
            "colorbar": {
             "outlinewidth": 0,
             "ticks": ""
            },
            "colorscale": [
             [
              0,
              "#0d0887"
             ],
             [
              0.1111111111111111,
              "#46039f"
             ],
             [
              0.2222222222222222,
              "#7201a8"
             ],
             [
              0.3333333333333333,
              "#9c179e"
             ],
             [
              0.4444444444444444,
              "#bd3786"
             ],
             [
              0.5555555555555556,
              "#d8576b"
             ],
             [
              0.6666666666666666,
              "#ed7953"
             ],
             [
              0.7777777777777778,
              "#fb9f3a"
             ],
             [
              0.8888888888888888,
              "#fdca26"
             ],
             [
              1,
              "#f0f921"
             ]
            ],
            "type": "surface"
           }
          ],
          "table": [
           {
            "cells": {
             "fill": {
              "color": "#EBF0F8"
             },
             "line": {
              "color": "white"
             }
            },
            "header": {
             "fill": {
              "color": "#C8D4E3"
             },
             "line": {
              "color": "white"
             }
            },
            "type": "table"
           }
          ]
         },
         "layout": {
          "annotationdefaults": {
           "arrowcolor": "#2a3f5f",
           "arrowhead": 0,
           "arrowwidth": 1
          },
          "autotypenumbers": "strict",
          "coloraxis": {
           "colorbar": {
            "outlinewidth": 0,
            "ticks": ""
           }
          },
          "colorscale": {
           "diverging": [
            [
             0,
             "#8e0152"
            ],
            [
             0.1,
             "#c51b7d"
            ],
            [
             0.2,
             "#de77ae"
            ],
            [
             0.3,
             "#f1b6da"
            ],
            [
             0.4,
             "#fde0ef"
            ],
            [
             0.5,
             "#f7f7f7"
            ],
            [
             0.6,
             "#e6f5d0"
            ],
            [
             0.7,
             "#b8e186"
            ],
            [
             0.8,
             "#7fbc41"
            ],
            [
             0.9,
             "#4d9221"
            ],
            [
             1,
             "#276419"
            ]
           ],
           "sequential": [
            [
             0,
             "#0d0887"
            ],
            [
             0.1111111111111111,
             "#46039f"
            ],
            [
             0.2222222222222222,
             "#7201a8"
            ],
            [
             0.3333333333333333,
             "#9c179e"
            ],
            [
             0.4444444444444444,
             "#bd3786"
            ],
            [
             0.5555555555555556,
             "#d8576b"
            ],
            [
             0.6666666666666666,
             "#ed7953"
            ],
            [
             0.7777777777777778,
             "#fb9f3a"
            ],
            [
             0.8888888888888888,
             "#fdca26"
            ],
            [
             1,
             "#f0f921"
            ]
           ],
           "sequentialminus": [
            [
             0,
             "#0d0887"
            ],
            [
             0.1111111111111111,
             "#46039f"
            ],
            [
             0.2222222222222222,
             "#7201a8"
            ],
            [
             0.3333333333333333,
             "#9c179e"
            ],
            [
             0.4444444444444444,
             "#bd3786"
            ],
            [
             0.5555555555555556,
             "#d8576b"
            ],
            [
             0.6666666666666666,
             "#ed7953"
            ],
            [
             0.7777777777777778,
             "#fb9f3a"
            ],
            [
             0.8888888888888888,
             "#fdca26"
            ],
            [
             1,
             "#f0f921"
            ]
           ]
          },
          "colorway": [
           "#636efa",
           "#EF553B",
           "#00cc96",
           "#ab63fa",
           "#FFA15A",
           "#19d3f3",
           "#FF6692",
           "#B6E880",
           "#FF97FF",
           "#FECB52"
          ],
          "font": {
           "color": "#2a3f5f"
          },
          "geo": {
           "bgcolor": "white",
           "lakecolor": "white",
           "landcolor": "#E5ECF6",
           "showlakes": true,
           "showland": true,
           "subunitcolor": "white"
          },
          "hoverlabel": {
           "align": "left"
          },
          "hovermode": "closest",
          "mapbox": {
           "style": "light"
          },
          "paper_bgcolor": "white",
          "plot_bgcolor": "#E5ECF6",
          "polar": {
           "angularaxis": {
            "gridcolor": "white",
            "linecolor": "white",
            "ticks": ""
           },
           "bgcolor": "#E5ECF6",
           "radialaxis": {
            "gridcolor": "white",
            "linecolor": "white",
            "ticks": ""
           }
          },
          "scene": {
           "xaxis": {
            "backgroundcolor": "#E5ECF6",
            "gridcolor": "white",
            "gridwidth": 2,
            "linecolor": "white",
            "showbackground": true,
            "ticks": "",
            "zerolinecolor": "white"
           },
           "yaxis": {
            "backgroundcolor": "#E5ECF6",
            "gridcolor": "white",
            "gridwidth": 2,
            "linecolor": "white",
            "showbackground": true,
            "ticks": "",
            "zerolinecolor": "white"
           },
           "zaxis": {
            "backgroundcolor": "#E5ECF6",
            "gridcolor": "white",
            "gridwidth": 2,
            "linecolor": "white",
            "showbackground": true,
            "ticks": "",
            "zerolinecolor": "white"
           }
          },
          "shapedefaults": {
           "line": {
            "color": "#2a3f5f"
           }
          },
          "ternary": {
           "aaxis": {
            "gridcolor": "white",
            "linecolor": "white",
            "ticks": ""
           },
           "baxis": {
            "gridcolor": "white",
            "linecolor": "white",
            "ticks": ""
           },
           "bgcolor": "#E5ECF6",
           "caxis": {
            "gridcolor": "white",
            "linecolor": "white",
            "ticks": ""
           }
          },
          "title": {
           "x": 0.05
          },
          "xaxis": {
           "automargin": true,
           "gridcolor": "white",
           "linecolor": "white",
           "ticks": "",
           "title": {
            "standoff": 15
           },
           "zerolinecolor": "white",
           "zerolinewidth": 2
          },
          "yaxis": {
           "automargin": true,
           "gridcolor": "white",
           "linecolor": "white",
           "ticks": "",
           "title": {
            "standoff": 15
           },
           "zerolinecolor": "white",
           "zerolinewidth": 2
          }
         }
        },
        "title": {
         "text": "World Happiness Compared to Life Expectancy and Social Support"
        },
        "xaxis": {
         "anchor": "y",
         "domain": [
          0,
          1
         ],
         "title": {
          "text": "Country"
         }
        },
        "yaxis": {
         "anchor": "x",
         "domain": [
          0,
          1
         ],
         "title": {
          "text": "Happiness score"
         }
        }
       }
      }
     },
     "metadata": {},
     "output_type": "display_data"
    }
   ],
   "source": [
    "\n",
    "fig = px.scatter(data, \n",
    "                 x='Country', \n",
    "                 y='Happiness score', \n",
    "                 size='Explained by: Healthy life expectancy', \n",
    "                 color='Explained by: Social support', \n",
    "                 title='World Happiness Compared to Life Expectancy and Social Support', \n",
    "                 height=800)\n",
    "\n",
    "fig.show()\n",
    "\n"
   ]
  },
  {
   "attachments": {},
   "cell_type": "markdown",
   "metadata": {},
   "source": [
    "# Questions to Reflect On\n",
    "\n",
    "What factors contribute to a higher score of happiness? \n",
    "\n",
    "What factors contribute to a lower score of happiness?\n",
    "\n",
    "Are there factors that were not explored in this data visualization that could contribute to happiness score in a country?\n",
    "\n",
    "How do you think factors that influence quality of life affect the happiness score in a country? \n",
    "\n",
    "What advice would you give to a country leader who wanted to increase the happiness score in a country? "
   ]
  },
  {
   "attachments": {},
   "cell_type": "markdown",
   "metadata": {},
   "source": [
    "[![Callysto.ca License](https://github.com/callysto/curriculum-notebooks/blob/master/callysto-notebook-banner-bottom.jpg?raw=true)](https://github.com/callysto/curriculum-notebooks/blob/master/LICENSE.md)"
   ]
  }
 ],
 "metadata": {
  "kernelspec": {
   "display_name": "base",
   "language": "python",
   "name": "python3"
  },
  "language_info": {
   "codemirror_mode": {
    "name": "ipython",
    "version": 3
   },
   "file_extension": ".py",
   "mimetype": "text/x-python",
   "name": "python",
   "nbconvert_exporter": "python",
   "pygments_lexer": "ipython3",
   "version": "3.9.13"
  },
  "orig_nbformat": 4,
  "vscode": {
   "interpreter": {
    "hash": "6cad06f6513fbe8c529013bf7137591565062e8dd112e1d0c3e544762347f124"
   }
  }
 },
 "nbformat": 4,
 "nbformat_minor": 2
}
