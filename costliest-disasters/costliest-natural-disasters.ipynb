{
 "cells": [
  {
   "cell_type": "markdown",
   "id": "b2538929-5e56-4a7d-a8fb-cd4ff4a68110",
   "metadata": {},
   "source": [
    "![Callysto.ca Banner](https://github.com/callysto/curriculum-notebooks/blob/master/callysto-notebook-banner-top.jpg?raw=true)"
   ]
  },
  {
   "cell_type": "markdown",
   "id": "8194957c-d1ad-4d8c-9ab6-646b9f531322",
   "metadata": {},
   "source": [
    "# Callysto's Weekly Data Visualization "
   ]
  },
  {
   "cell_type": "markdown",
   "id": "fbc78e75-02d5-440f-898a-4a168607b59d",
   "metadata": {},
   "source": [
    "## Costliest Natural Disasters"
   ]
  },
  {
   "cell_type": "markdown",
   "id": "4b17e799",
   "metadata": {},
   "source": [
    "### Recommended Grade levels: 5-9"
   ]
  },
  {
   "cell_type": "markdown",
   "id": "4253dd5d-23da-4e6c-b84a-98a61cb7b6a9",
   "metadata": {},
   "source": [
    "### Instructions\n",
    "\n",
    "#### \"Run\" the cells to see the graphs\n",
    "\n",
    "Click \"Cell\" and select \"Run All\".\n",
    "\n",
    "This will import the data and run all the code, so you can see this week's data visualization. Scroll to the top after you’ve run the cells.\n",
    "\n",
    "![instructions](https://github.com/callysto/data-viz-of-the-week/blob/main/images/instructions.png?raw=true)\n",
    "\n",
    "**You don't need to do any coding to view the visualizations**.\n",
    "\n",
    "The plots generated in this notebook are interactive. You can hover over and click on elements to see more information. \n",
    "\n",
    "Email contact@callysto.ca if you experience issues."
   ]
  },
  {
   "cell_type": "markdown",
   "id": "b4f78591-b95d-4903-b98d-d8eb46eda70b",
   "metadata": {},
   "source": [
    "### About this Notebook\n",
    "\n",
    "Callysto's Weekly Data Visualization is a learning resource that aims to develop data literacy skills. We provide Grades 5-12 teachers and students with a data visualization, like a graph, to interpret. This companion resource walks learners through how the data visualization is created and interpreted by a data scientist. \n",
    "\n",
    "The steps of the data analysis process are listed below and applied to each weekly topic.\n",
    "\n",
    "1. Question - What are we trying to answer?\n",
    "2. Gather - Find the data source(s) you will need. \n",
    "3. Organize - Arrange the data, so that you can easily explore it. \n",
    "4. Explore - Examine the data to look for evidence to answer the question. This includes creating visualizations. \n",
    "5. Interpret - Describe what's happening in the data visualization. \n",
    "6. Communicate - Explain how the evidence answers the question. "
   ]
  },
  {
   "cell_type": "markdown",
   "id": "da4ed2dc-88be-484c-8ac0-44030ca837ac",
   "metadata": {},
   "source": [
    "## Question\n",
    "\n",
    "What were the most expensive natural disasters in Canada? "
   ]
  },
  {
   "cell_type": "markdown",
   "id": "05cf0283-e935-49e6-bb1d-5a15ca0e0969",
   "metadata": {},
   "source": [
    "### Goal\n",
    "\n",
    "Our goal is to show which natural disasters led to the greatest financial costs and use visualizations to discover any patterns to their impact.\n",
    "\n",
    "The dataset is taken from [Public Safety Canada](https://www.publicsafety.gc.ca/cnt/rsrcs/cndn-dsstr-dtbs/index-en.aspx), and contains information on Canadian natural disaster events from the years 1900 to 2019."
   ]
  },
  {
   "cell_type": "markdown",
   "id": "9ba03961-49dc-44cf-a785-222baf79886d",
   "metadata": {},
   "source": [
    "### Background\n",
    "\n",
    "Weather events and natural diasters have the potential to cause huge amounts of damage to property. Have you ever wondered what the most expensive natural disasters and weather events are in Canada? We are going to explore the costliest natural disasters in the 2010 decade in this notebook. \n"
   ]
  },
  {
   "cell_type": "markdown",
   "id": "a9034a69-3d04-47da-9c29-fa8a22b83d86",
   "metadata": {
    "tags": []
   },
   "source": [
    "# Gather"
   ]
  },
  {
   "cell_type": "markdown",
   "id": "d52d87ee-5cb7-479e-aa87-b02fb95790f6",
   "metadata": {},
   "source": [
    "### Code: "
   ]
  },
  {
   "cell_type": "markdown",
   "id": "03c65e82-b869-4099-966b-b8d4d8a683d5",
   "metadata": {},
   "source": [
    "The next step is to setup the notebook. To setup this notebook run the code cells below to import the libraries we need for this project. In short, libraries are pre-made code that make it easier to analyze our data."
   ]
  },
  {
   "cell_type": "code",
   "execution_count": null,
   "id": "e02b0b07-dbb7-4110-98fe-e721b1474f31",
   "metadata": {},
   "outputs": [],
   "source": [
    "import pandas as pd\n",
    "import plotly.express as px"
   ]
  },
  {
   "cell_type": "markdown",
   "id": "16dc0f21-6097-4068-baea-aee743a9648c",
   "metadata": {},
   "source": [
    "Pandas is a library that helps us with data analysis, and Plotly Express is a library that helps us to make visualizations. Without importing these libraries we would have to use much more code to analyze our data and generate visualizations. We import the libraries with abbreviations, or aliases, so that we have less typing to do in each line of our code below. "
   ]
  },
  {
   "cell_type": "markdown",
   "id": "4f504ed6-7278-426a-9069-28806385a997",
   "metadata": {},
   "source": [
    "### Data\n",
    "We are using data from [Public Safety Canada](https://www.publicsafety.gc.ca/cnt/rsrcs/cndn-dsstr-dtbs/index-en.aspx) on natural disasters. Run the code below to populate the data into a dataframe.\n",
    "\n",
    "#### Import the Data"
   ]
  },
  {
   "cell_type": "code",
   "execution_count": null,
   "id": "aedd7bc9-cf75-4888-b91a-4a30c0b7fb66",
   "metadata": {},
   "outputs": [],
   "source": [
    "data = pd.read_csv('data/CDD.txt', sep='\\t')\n",
    "data"
   ]
  },
  {
   "cell_type": "markdown",
   "id": "c151125c-b071-4858-bffe-bcbfd00bf2bc",
   "metadata": {},
   "source": [
    "### Comment on the data\n",
    "\n",
    "The dataframe above is a file structure that allows Python to display data in an easily readable format, similar to a spreadsheet. \n",
    "\n",
    "As we can see from the numbers below the dataframe itself, this dataset has 867 rows and 23 columns.\n",
    "\n",
    "According to the numbers beneath our dataframe, the dataframe has 867 rows and 23 columns. Each row represents a disaster, and each column describes an aspect of that disaster. If we look at the numbers in the leftmost column of the dataframe, we can see that it ends at (x-1). Why is that?\n",
    "\n",
    "Python (like many programming languages) actually starts counting at 0. There are some really interesting technical reasons why that's the case, but for now just keep that in mind as we move through this notebook"
   ]
  },
  {
   "cell_type": "markdown",
   "id": "f9915b09-a349-4baa-8562-29eef2b30e08",
   "metadata": {},
   "source": [
    "Run the code cell below to generate a list of all the columns available in this dataset. To answer our question, a few columns that are going to be most useful in analyzing the data are `ESTIMATED TOTAL COST` and `NORMALIZED TOTAL COST`. These columns will help us to understand the total costs of specific disaster events. \n",
    "\n",
    "Inflation is when the cost associated with an item goes up over time, for example because of inflation the cost of a specific item like shoes will go up over time. Because the cost of items goes up over time we need to standardize costs to a specific year. This is called cost normalization. this data has been normalized to 2016  because that is the last year that was available to normalize the data with. "
   ]
  },
  {
   "cell_type": "code",
   "execution_count": null,
   "id": "bd007aba-670a-47f5-ad78-a7ec8d8f91be",
   "metadata": {},
   "outputs": [],
   "source": [
    "for i in data.columns:\n",
    "    print(i)"
   ]
  },
  {
   "cell_type": "markdown",
   "id": "17226807-16de-413b-bd87-fd88054024bc",
   "metadata": {},
   "source": [
    "We can look at a specific column in the data by using the code below. The column `INJURED / INFECTED` shows the number of people injured or infected in each disaster. Run the code cell below to show the values in this column. "
   ]
  },
  {
   "cell_type": "code",
   "execution_count": null,
   "id": "ed1976a5-3c94-4450-b655-84291ab62b63",
   "metadata": {},
   "outputs": [],
   "source": [
    "data[\"INJURED / INFECTED\"]"
   ]
  },
  {
   "cell_type": "markdown",
   "id": "9cac5088-c884-4bb8-8b44-8f12d1dc59fd",
   "metadata": {},
   "source": [
    "The code below shows `INJURED / INFECTED` column with all the values that are greater than zero. We have decided to look at all the columns where this value is above zero because they are unique and it is easier for the sake of this visualization to examine the events where this value is above zero.  \n",
    "\n",
    "# \\# why? consider using .notna() instead, events with 0 injuries might still be interesting. or, if you're going to remove them, you have to clearly state why\n",
    "# \\# I think I explained this above now. \n",
    "\n",
    "The column we are examining `INJURED / INFECTED` has many values that are 0 or `NaN` and the code below eliminates all of those values. The second line of code also displays the data from the lowest number in that column to the greatest. "
   ]
  },
  {
   "cell_type": "code",
   "execution_count": null,
   "id": "7d2085d2-4f43-4866-83fb-c43c46001bb6",
   "metadata": {},
   "outputs": [],
   "source": [
    "filtered_data = data[data['INJURED / INFECTED'] > 0]\n",
    "filtered_data.sort_values(by='INJURED / INFECTED').tail(10)"
   ]
  },
  {
   "cell_type": "markdown",
   "id": "73e781a1-2a40-47ec-8885-f215dbbb88b9",
   "metadata": {},
   "source": [
    "The above code populated the data in a dataframe again. The code below will show us the information in that single column we were examining. \n",
    " "
   ]
  },
  {
   "cell_type": "code",
   "execution_count": null,
   "id": "f02e0ae2-8add-4fb5-8149-1775d557df21",
   "metadata": {},
   "outputs": [],
   "source": [
    "data[data['INJURED / INFECTED'] > 0]['INJURED / INFECTED']"
   ]
  },
  {
   "cell_type": "markdown",
   "id": "738c656a-e733-4257-b83c-fd50784eaf28",
   "metadata": {},
   "source": [
    "The code above allowed us to look at the data in a specific columm; the columns in this data set represent a specific piece of information about all of the disasters in this data set. We can use the code below to generate a graph of the number of injuired/infected indiviudals for each disaster. \n",
    "\n",
    "# \\# before making this plot, consider using this function to better format your dates: https://pandas.pydata.org/docs/reference/api/pandas.to_datetime.html or `parse_dates` when first importing the CSV https://pandas.pydata.org/docs/reference/api/pandas.read_csv.html"
   ]
  },
  {
   "cell_type": "code",
   "execution_count": null,
   "id": "e94413c2-f407-44a4-9e99-f96c202e4d53",
   "metadata": {},
   "outputs": [],
   "source": [
    "px.bar(data[data['INJURED / INFECTED'] > 0], x='EVENT START DATE', y='INJURED / INFECTED', title='NUMBER OF INJURED/INFECTED INDIVIDUALS FOR EACH EVENT ')"
   ]
  },
  {
   "cell_type": "markdown",
   "id": "2510fbdb-4aaf-4712-a638-0c6008a2a16e",
   "metadata": {},
   "source": [
    "Because that is a very long list it may be more useful to find the minimum and maximum values.  We can find the maximum and minimum values in that column with the following blocks of code. "
   ]
  },
  {
   "cell_type": "code",
   "execution_count": null,
   "id": "159c24dd-4cf8-42bf-8ca1-657f5f003816",
   "metadata": {},
   "outputs": [],
   "source": [
    "max_value = data['INJURED / INFECTED'].max()\n",
    "print(\"Maximum value in column 'INJURED / INFECTED': \", max_value)"
   ]
  },
  {
   "cell_type": "code",
   "execution_count": null,
   "id": "3954641e-b0ca-496e-957e-84bb80828a86",
   "metadata": {},
   "outputs": [],
   "source": [
    "min_value = data['INJURED / INFECTED'].min()\n",
    "print(\"Minimum value in column 'INJURED / INFECTED': \", min_value)"
   ]
  },
  {
   "cell_type": "markdown",
   "id": "c0a6d82a-c1bc-450f-ac89-44c5d9b791b3",
   "metadata": {},
   "source": [
    "The code above told us the range of values in the `INJURED/INFECTED` column is 0-945. It may have been obvious from looking at our string that the minimum value was `0` but the python code made it much easier to find the maximum value given the lenghth of our string of data. \n",
    "\n",
    "Now that we examined the data in a specific column we are goign to examine the data in a speicific row. Run the code cell below to examine the data in the 50th row. Each row represents a specific disaster so this row represents all of the data available in this data set on a specific disaster event. "
   ]
  },
  {
   "cell_type": "code",
   "execution_count": null,
   "id": "31ab33c6-aac7-45c3-a1b4-8b6f3f73394a",
   "metadata": {},
   "outputs": [],
   "source": [
    "display(data.iloc[50])"
   ]
  },
  {
   "cell_type": "markdown",
   "id": "f150153b-8ecb-4f79-99ca-a1ba381831b5",
   "metadata": {},
   "source": [
    "We can see that this particular event in row 50 was a flood that occured in Fort McMurray on 2016. By looking at the comments column we can see that there are particular dates that the flood affected the community. It is also evident from looking at the data what the `ESTIMATED TOTAL COST` and `NORMALIZED TOTAL COST` of this event were considerable. It may be helpful for you to write out those costs properly in standard form to understand how high the costs were of this event.  "
   ]
  },
  {
   "cell_type": "markdown",
   "id": "da706429-349d-4815-8245-050fbcda8a6b",
   "metadata": {},
   "source": [
    "The `COMMENTS` field may be of particular interest; when we read that column we can get more specific infomation on some of the events. Under `EVENT TYPE`, we can see some categories that the disasters might belong to. \n",
    "\n",
    "We can focus on these aspects of the data, and more, in the next steps. The columns that are going to be useful to answer our question here are the columns that have information about costs. Because we are going to be trying to answer a question about costs we need to ensure we loook at data that references cost. The column `NORMALIZED TOTAL COST` takes into account inflation. Costs naturally rise over time and that is what we call inflation. For instance if a cost of bread costs $5.00 eventually the cost of that bread will rise. The amount it rises varies depends on various factors int he national and global economies. \n",
    "\n",
    "The Canadian Disasters Database, where this data is taken from, defines a disaster with the following definition:\n",
    "\n",
    ">A disaster is an interruption in time and space of normal processes causing death,\n",
    "injury or homelessness, economic or property loss, and/or significant environmental\n",
    "damage. The interruption is beyond the coping capacity of the community and/or is\n",
    "beyond the assumed risk factors of human activity. Assumed risk is inherent in most\n",
    "human activity such as transportation and handling of dangerous goods. The\n",
    "interruption precludes war.\n",
    "\n",
    "\n",
    "The Canadian disaster database provides the follow definitions for some of their fields.\n",
    "\n",
    "**EVACUATED**\n",
    "If the exact or estimated number of people evacuated from the area during a disaster is known, it\n",
    "is placed in this field. Otherwise, the field contains a zero.\n",
    "\n",
    "**DOLDAM**\n",
    "If the exact or estimated value of the damage in millions of dollars is known, it is placed in this\n",
    "field. Otherwise, the field contains a zero. Note that the values shown are estimates given in the\n",
    "dollar value at the time of the disaster, and inflation is not taken into account.\n",
    "\n",
    "**INJURED**\n",
    "If the exact or estimated number of injuries is known, it is placed in this field. Otherwise, the field\n",
    "contains a zero.\n",
    "\n",
    "**COMENG / COMFRA**\n",
    "These two fields allow for comments in English and French, respectively. Where possible, they\n",
    "include a brief outline of the disaster and a qualitative description of the resulting damage.\n",
    "\n",
    "**PLACE NAME / LAT / LONG**\n",
    "A location of the disaster is included to assign latitude and longitudinal coordinates to the\n",
    "disaster. For some records, this indicates a central or approximate location, as the disasters may\n",
    "cover large regions.\n",
    "\n",
    "\n",
    "\n",
    "\n",
    "\n",
    "\n",
    "\"This should be the longest text section of the entire notebook\" (Swanson, 2023)"
   ]
  },
  {
   "cell_type": "markdown",
   "id": "7a6800e7",
   "metadata": {},
   "source": [
    "# Organize"
   ]
  },
  {
   "cell_type": "markdown",
   "id": "5bb6fb0b-7210-4269-89b5-452e227cb638",
   "metadata": {},
   "source": [
    "An important part of the data science process is cleaning up and organizing your data so it can be useful for finding observations. Part of cleaning involves \n",
    "- identifying missing data\n",
    "- removing missing data\n",
    "- ensuring the data is all in the same format\n",
    "- identifying and dealing with outliers. \n",
    "\n",
    "Many of our fields have data in them, in data science we call that non-null. If you were to forget to write your name on your paper the name field would be null because there is no data in it. Once you write your name on your work suddenlty that value is non-null, because the value has data in it. Look at the information below when we run the `data.info` code  which fields have a higher number of non-null cells, as that number varies quite a bit by column. A few of the fields have very few non-null cells, meaning most of the data is not available. \n",
    "\n",
    "\n",
    " In Python, missing data is identified as `NaN` ('Not a Number'), so we want to see how much of our dataframe contains missing data. We do this by asking for the fields where the data is 'non-null'. Non-null essentially means those fields have actual data in them, or that they are *not* missing values.\n",
    "\n",
    "Let's look at what the column names are and how many non-null data each contain. This function returns all of the column names, along with the number of non-null values inside each column. The number of non-null values is available by looking at the `Non-Null Count` column. "
   ]
  },
  {
   "cell_type": "code",
   "execution_count": null,
   "id": "100f1ff9-a4be-4bd5-8482-934292f8b02b",
   "metadata": {},
   "outputs": [],
   "source": [
    "data.info()"
   ]
  },
  {
   "cell_type": "markdown",
   "id": "f6c2bdc1-bf30-451e-86cd-7b2721ba3d47",
   "metadata": {},
   "source": [
    "\n",
    "As the financial cost is the main question we're trying to answer, we are using the `NORMALIZED TOTAL COST` for our analysis and visualization. The `NORMALIZED TOTAL COST` differs from the `ESTIMATED TOTAL COST` by taking into account inflation. As the data spans from the years 1900 to 2019, the real value of money has steadily decreased, so we need to account for that. The year 2016 is the last year we're able to normalize for from the data, and because this is the column we are most curious about, we want to omit any rows that don't include an amount for that column:"
   ]
  },
  {
   "cell_type": "code",
   "execution_count": null,
   "id": "6a69527d-2a94-43e3-a5d5-05919001b8a1",
   "metadata": {},
   "outputs": [],
   "source": [
    "data = data[data['NORMALIZED TOTAL COST'].notna()]\n",
    "data.info()"
   ]
  },
  {
   "cell_type": "markdown",
   "id": "8c13201a-8aa5-4da5-b24e-2b0cad37b0e7",
   "metadata": {},
   "source": [
    "There is a lower total number of rows because we have removed all of the rows that do not have data for our column of interest. If there is no data in our column of interest it is because data does not exist for that value. "
   ]
  },
  {
   "cell_type": "markdown",
   "id": "7802ab2a-f9d0-41de-97b1-884faa58ae3a",
   "metadata": {},
   "source": [
    "We're also interested in the types of events that are included in the data. We can look at the `EVENT SUBGROUP` to see what types of events exist, and the code below extracts the unique values in that column: "
   ]
  },
  {
   "cell_type": "code",
   "execution_count": null,
   "id": "3b071d41-0204-4b71-b238-f5fcdd516f9d",
   "metadata": {},
   "outputs": [],
   "source": [
    "list(data['EVENT SUBGROUP'].unique())"
   ]
  },
  {
   "cell_type": "markdown",
   "id": "3280040d-0072-481d-b2ff-4de559231d28",
   "metadata": {},
   "source": [
    "It makes sense that events would be 'Meteorological - Hydrological', but what does '25' mean? Let's check out rows that have that value for `EVENT SUBGROUP`:"
   ]
  },
  {
   "cell_type": "code",
   "execution_count": null,
   "id": "abfcd82c-09ad-4459-9959-f33cc90f7b8b",
   "metadata": {},
   "outputs": [],
   "source": [
    "data[data['EVENT SUBGROUP']!='Meteorological - Hydrological']"
   ]
  },
  {
   "cell_type": "markdown",
   "id": "0d788896-3cda-401f-b424-456002d12def",
   "metadata": {},
   "source": [
    "# \\# add text about what you found above and what to do with it"
   ]
  },
  {
   "cell_type": "markdown",
   "id": "8ae2f710",
   "metadata": {},
   "source": [
    "Now we can get rid of any data values where the `EVENT SUBGROUP` is not 'Meteorological - Hydrological'. This process removes the one outlier of our data that does not fit this category and makes our data cleaner to work with. "
   ]
  },
  {
   "cell_type": "code",
   "execution_count": null,
   "id": "b9a6c636-697f-4b2d-a12d-f0212d901a1b",
   "metadata": {},
   "outputs": [],
   "source": [
    "data = data[data['EVENT SUBGROUP']=='Meteorological - Hydrological']\n",
    "data"
   ]
  },
  {
   "cell_type": "code",
   "execution_count": null,
   "id": "f06f967e-86e7-49a0-86a8-743f848ba437",
   "metadata": {},
   "outputs": [],
   "source": [
    "data = data[data['EVENT SUBGROUP']=='Meteorological - Hydrological']\n",
    "data"
   ]
  },
  {
   "cell_type": "markdown",
   "id": "d4e00b69-e528-4fad-8a47-7d3c35b471a3",
   "metadata": {},
   "source": [
    "You can now see our data frame only includes events where the `EVENT SUBGROUP` is equal to 'Meteorological - Hydrological'. Look under `EVENT TYPE` to see more information about what each of these events were. \n",
    " \n",
    "# \\# keep in mind the readers probably don't know how to look into the dataframe to find more information. Instead, add a section where you do that."
   ]
  },
  {
   "cell_type": "markdown",
   "id": "d9178d5c-e107-48a7-a6d2-cf63f98a781f",
   "metadata": {},
   "source": [
    "# Explore"
   ]
  },
  {
   "cell_type": "markdown",
   "id": "1e73e77b-6fc2-41c1-a516-d7f1c10e4eba",
   "metadata": {},
   "source": [
    "The next part of the data science process is generating a visualization to help us answer our question. This part of the data science process is really exciting! A visualization is often a graph, but it can be any way that we can visually show our data. In our case, we are going to use a scatter plot. A visualization helps to understand what kind of story our data is telling us. \n",
    "\n",
    "Run the code below to generate a scatter plot from the data that will help us to answer our question. Each point represents a specific event.\n",
    "\n",
    "The size of the points represents the estimated cost, and the color represents the total insurance payments paid out for that particular event."
   ]
  },
  {
   "cell_type": "code",
   "execution_count": null,
   "id": "5f279ada-95a5-4042-bd70-c37299d6dc46",
   "metadata": {},
   "outputs": [],
   "source": [
    "fig = px.scatter(data, x=\"NORMALIZED TOTAL COST\", y=\"INSURANCE PAYMENTS\", \n",
    "                 title='Total Cost of Disasters Compared to Insurance Payments', \n",
    "                 hover_data={\"PLACE\",\"COMMENTS\"},\n",
    "                 size='NORMALIZED TOTAL COST',\n",
    "                 color='EVENT TYPE',\n",
    "                 height=600)\n",
    "\n",
    "fig.show()"
   ]
  },
  {
   "cell_type": "markdown",
   "id": "305bde36-0b92-4390-a662-f3d8516a12e5",
   "metadata": {},
   "source": [
    "The code below will generate a bar graph showing the total normalized costs for each event type."
   ]
  },
  {
   "cell_type": "markdown",
   "id": "0a246d1f-2fac-44a9-8f2c-a1d3dc6d2666",
   "metadata": {},
   "source": [
    "# Interpret\n",
    "\n",
    "In the scatter plot you can see the total cost of disaster events on the x axis and the amount of insurance payments for those disaster events being on the y axis. The color of the dots represents the different types of disaster events; for example tornados are a different color than winter storms. Each type of event is represented seperately in this visualization. If there are several different floods each one is represented by a seperate dot however they are all the same color because they belong to the same category.  You can click on the dots that represent specific types of events in the legend to the right, and hide particular event categories if you want to change the type of events you are looking at on the visualization. The larger dots also show events that had a larger normalized total cost. The normalized total cost on the x axis is shown in millions of dollars while the insurance payments on the y axis are shown in billions of dollars. \n",
    "\n",
    "If you scroll your cursor over a particular dot there are more details about the event represented by that dot. \n",
    "\n",
    "# \\# i'd recommend removing the 'comments' from `hover_data`, as they are unreadable in their current format\n",
    "\n",
    "The majority of the events are in the same range of cost as most of the events are at or under half a billion dollars in insurance payments and the normalized total cost of most of the events was under fifty million dollars. Which events are outside of that range? You can determine more information about those events by hovering over the point on the scatter plot. \n",
    "\n",
    "# \\# this is true, but the plot with its current scaling makes it easy to see differences between high and low cost events, but not between low cost events\n",
    "\n",
    "The plot shows one event that is within the range of the costs of the other disasters but with slighlty elevated costs. This dot is green indicating it is a flood and hovering over it the data indicates it took place in Toronto. Another blue dot shows a storm on Labour Day 1991 where the `INSURANCE PAYMENTS` were within the range of the majority of the events but this event had a `NORMALIZED TOTAL COST` that is over fifty million and below 100 million which is slightly elevated.  \n",
    "\n",
    "There are three events in particular that have a much higher cost when compared to the rest of the events. What can you find out from the scatter plot about those particular events? These events all were covered fairly extensively in the news. As an extension to this notebook you could work to do some more research on these events. "
   ]
  },
  {
   "cell_type": "markdown",
   "id": "fb3a0719-6904-4d5b-9f1b-0af9ff5fe4b9",
   "metadata": {},
   "source": [
    "The code below will create a bar graph that lists each event type and totals the `NORMALIZED TOTAL COST` for each event. "
   ]
  },
  {
   "cell_type": "code",
   "execution_count": null,
   "id": "e5d682e8-67ff-4852-94d5-3fde54c8e4aa",
   "metadata": {},
   "outputs": [],
   "source": [
    "fig = px.bar(data, x='EVENT TYPE', y='NORMALIZED TOTAL COST', )\n",
    "fig.show()"
   ]
  },
  {
   "cell_type": "markdown",
   "id": "74e4b0e5-10bf-4790-a766-c02a5134c546",
   "metadata": {},
   "source": [
    "This bar graph shows which type of disasters cost the most according to a metric of `NORMALIZED TOTAL COST`. Run the code cell below to generate a bar graph that compares events types to the total insurance costs. "
   ]
  },
  {
   "cell_type": "code",
   "execution_count": null,
   "id": "6bd30859-9214-47af-a99e-88625bcd5471",
   "metadata": {},
   "outputs": [],
   "source": [
    "fig = px.bar(data, x='EVENT TYPE', y='INSURANCE PAYMENTS', )\n",
    "fig.show()"
   ]
  },
  {
   "cell_type": "markdown",
   "id": "c6f78173-e70a-46f4-9f4c-ad2a28fc29b5",
   "metadata": {},
   "source": [
    "From the second bar graph we can see which `EVENT TYPE` category had the highest insurance costs. Do you notice any similarities or differences between the two bar graphs? \n",
    "\n",
    "# \\# should these bar graphs be normalized by number of events? why or why not?"
   ]
  },
  {
   "cell_type": "markdown",
   "id": "1956e4ae-0908-4086-aa0f-cfa41ea67040",
   "metadata": {},
   "source": [
    "# Reflect on what you see\n",
    "\n",
    "After making your visualization the next step is to use the data and your visualization to answer the question. Look at and interact with the visualization above. When you hover your mouse over the plots, you’ll notice more information appears. You can also use the legend to make plots appear and disappear.\n",
    "\n",
    "#### Think about the following questions.\n",
    "\n",
    "* What do you notice about these graphs?\n",
    "* What do you wonder about the data?\n",
    "* What kind of inferences can you make based on this data?\n",
    "* Is there another way to visualize this data that would change your inerpretation of the information? \n",
    "\n",
    "\n",
    "#### Use the fill-in-the-blank prompts to summarize your thoughts.\n",
    "* \"I used to think _______\"\n",
    "* \"Now I think _______\"\n",
    "* \"I wish I knew more about _______\"\n",
    "* \"These data visualizations remind me of _______\"\n",
    "* \"I really like _______\""
   ]
  },
  {
   "cell_type": "markdown",
   "id": "9c0b332b-0680-408d-be81-fb893f4b70fe",
   "metadata": {},
   "source": [
    "# Communicate"
   ]
  },
  {
   "cell_type": "markdown",
   "id": "d22e3477-4fad-4c2e-a70a-92113f39397c",
   "metadata": {},
   "source": [
    "If you have not yet done this use the plot to answer our question on which natural disaster was the most expensive. \n",
    "Once we understand the costs of natural disasters how can we use that information?\n",
    "\n",
    "How can you communicate that information? What kind of product could you create to share that information with your school community and wider community?\n",
    "\n",
    "Consider tagging Callysto on [Twitter](https://twitter.com/callysto_canada), [YouTube](https://www.youtube.com/Callysto), [TikTok](https://www.tiktok.com/@callysto_canada), [Facebook](https://www.facebook.com/callystocanada/), or [Linkedin](https://www.linkedin.com/company/callysto-canada/) if you decide to share your reflections or projects on social media."
   ]
  },
  {
   "cell_type": "markdown",
   "id": "a17fec2b-f8b3-4af4-ac5e-dd958bf91ff4",
   "metadata": {},
   "source": [
    "# Further Resources"
   ]
  },
  {
   "cell_type": "markdown",
   "id": "51af182e-9b98-4123-ab60-3fa0008ce493",
   "metadata": {},
   "source": [
    "For more information on the costliest weather events between 2012 and 2016 check out this article from the [Weather Network](https://www.theweathernetwork.com/ca/news/article/the-top-five-costliest-canadian-natural-disasters-of-the-2010s) "
   ]
  },
  {
   "cell_type": "markdown",
   "id": "f490d3ce-a112-4fee-91d5-673380fea38a",
   "metadata": {},
   "source": [
    "You may find the following video about the 2013 Calgary floods interesting. Ensure you run the cell below to display the Youtube video. "
   ]
  },
  {
   "cell_type": "code",
   "execution_count": null,
   "id": "19a1e58c-dd5e-47fc-a30a-13acc7e5d8b9",
   "metadata": {
    "tags": []
   },
   "outputs": [],
   "source": [
    "from IPython.display import YouTubeVideo\n",
    "YouTubeVideo('jgw06p4jeh8')"
   ]
  },
  {
   "cell_type": "markdown",
   "id": "bc57689f-ecd3-4613-ab7b-010ecceb7169",
   "metadata": {},
   "source": [
    "[![Callysto.ca License](https://github.com/callysto/curriculum-notebooks/blob/master/callysto-notebook-banner-bottom.jpg?raw=true)](https://github.com/callysto/curriculum-notebooks/blob/master/LICENSE.md)"
   ]
  }
 ],
 "metadata": {
  "kernelspec": {
   "display_name": "Python 3 (ipykernel)",
   "language": "python",
   "name": "python3"
  },
  "language_info": {
   "codemirror_mode": {
    "name": "ipython",
    "version": 3
   },
   "file_extension": ".py",
   "mimetype": "text/x-python",
   "name": "python",
   "nbconvert_exporter": "python",
   "pygments_lexer": "ipython3",
   "version": "3.9.13"
  },
  "vscode": {
   "interpreter": {
    "hash": "7f569e6cb99883c88f8d77d735bb5c28a9468a61a85f72a9445b51366d966799"
   }
  }
 },
 "nbformat": 4,
 "nbformat_minor": 5
}
