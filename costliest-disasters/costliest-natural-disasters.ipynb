{
 "cells": [
  {
   "cell_type": "markdown",
   "id": "b2538929-5e56-4a7d-a8fb-cd4ff4a68110",
   "metadata": {},
   "source": [
    "![Callysto.ca Banner](https://github.com/callysto/curriculum-notebooks/blob/master/callysto-notebook-banner-top.jpg?raw=true)"
   ]
  },
  {
   "cell_type": "markdown",
   "id": "8194957c-d1ad-4d8c-9ab6-646b9f531322",
   "metadata": {},
   "source": [
    "## Callysto's Weekly Data Visualization "
   ]
  },
  {
   "cell_type": "markdown",
   "id": "fbc78e75-02d5-440f-898a-4a168607b59d",
   "metadata": {},
   "source": [
    "## Which natural disasters have cost the most financially over the last 25 years?"
   ]
  },
  {
   "cell_type": "markdown",
   "id": "4253dd5d-23da-4e6c-b84a-98a61cb7b6a9",
   "metadata": {},
   "source": [
    "### Recommended Grade levels: 5-12"
   ]
  },
  {
   "attachments": {},
   "cell_type": "markdown",
   "id": "9ba03961-49dc-44cf-a785-222baf79886d",
   "metadata": {},
   "source": [
    "Weather events and natural diasters have the potential to cause huge amounts of damage to property. Have you ever wondered what the most expensive natural disasters and weather events are? We are going to explore the costliest natural disasters in the 2010 decade in this notebook. The flopods in Calgary Alberta in 2013 were an example of a very costly natural disaster. The estimated cost of this flooding event was [five billion dollars](https://www.calgary.ca/water/flooding/history-calgary.html).\n",
    "\n",
    "Run the code cell below to watch a video about the floods in Calgary. After watching the video run the code cell below for some questions to discuss with classmates close to you or your whole class."
   ]
  },
  {
   "cell_type": "code",
   "execution_count": null,
   "id": "19a1e58c-dd5e-47fc-a30a-13acc7e5d8b9",
   "metadata": {
    "tags": []
   },
   "outputs": [],
   "source": [
    "from IPython.display import YouTubeVideo\n",
    "YouTubeVideo('jgw06p4jeh8')"
   ]
  },
  {
   "attachments": {},
   "cell_type": "markdown",
   "id": "e302ca9f-f95c-4ac0-bdc2-17fb5291bb8c",
   "metadata": {},
   "source": [
    "After watching the video reflect on the following questions:\n",
    "\n",
    "* What images from the video stuck out with you?\n",
    "* Why did those images stick in your mind?"
   ]
  },
  {
   "cell_type": "markdown",
   "id": "b4f78591-b95d-4903-b98d-d8eb46eda70b",
   "metadata": {},
   "source": [
    "#### About this Notebook\n",
    "\n",
    "Callysto's Weekly Data Visualization is a learning resource that aims to develop data literacy skills. We provide Grades 5-12 teachers and students with a data visualization, like a graph, to interpret. This companion resource walks learners through how the data visualization is created and interpreted by a data scientist.\n",
    "\n",
    "The steps of the data analysis process are listed below and applied to each weekly topic.\n",
    "\n",
    "1.Question - What are we trying to answer?\n",
    "\n",
    "2.Gather - Find the data source(s) you will need.\n",
    "\n",
    "3.Organize - Arrange the data, so that you can easily explore it.\n",
    "\n",
    "4.Explore - Examine the data to look for evidence to answer the question. This includes creating visualizations.\n",
    "\n",
    "5.Interpret - Describe what's happening in the data visualization.\n",
    "\n",
    "6. Communicate - Explain how the evidence answers the question."
   ]
  },
  {
   "cell_type": "markdown",
   "id": "da4ed2dc-88be-484c-8ac0-44030ca837ac",
   "metadata": {},
   "source": [
    "## Question\n",
    "\n",
    "Which natural disasters cost the most money to clean up after? "
   ]
  },
  {
   "cell_type": "markdown",
   "id": "05cf0283-e935-49e6-bb1d-5a15ca0e0969",
   "metadata": {},
   "source": [
    "### Goal\n",
    "\n",
    "Our goal in this data visualiation is to use data from Public Safety Canada to show which natural disasters cost the most for people to clean up after. "
   ]
  },
  {
   "cell_type": "markdown",
   "id": "a9034a69-3d04-47da-9c29-fa8a22b83d86",
   "metadata": {
    "tags": []
   },
   "source": [
    "# Gather"
   ]
  },
  {
   "cell_type": "markdown",
   "id": "d52d87ee-5cb7-479e-aa87-b02fb95790f6",
   "metadata": {},
   "source": [
    "### Code: "
   ]
  },
  {
   "cell_type": "markdown",
   "id": "03c65e82-b869-4099-966b-b8d4d8a683d5",
   "metadata": {},
   "source": [
    "Now that we have stated what this project will be about we need to setup the rest of our notebook. To setup this notebook run the code cells below to import the libraries we need for this project, libraries are blocks of code that make it easier to analyze our data."
   ]
  },
  {
   "cell_type": "code",
   "execution_count": null,
   "id": "e02b0b07-dbb7-4110-98fe-e721b1474f31",
   "metadata": {},
   "outputs": [],
   "source": [
    "import pandas as pd\n",
    "import matplotlib as plt\n",
    "import plotly.express as px\n"
   ]
  },
  {
   "attachments": {},
   "cell_type": "markdown",
   "id": "4f504ed6-7278-426a-9069-28806385a997",
   "metadata": {},
   "source": [
    "### Data\n",
    "#### Import the Data\n",
    "\n",
    "We are using data from [Public Safety Canada](https://www.publicsafety.gc.ca/cnt/rsrcs/cndn-dsstr-dtbs/index-en.aspx) on natural disasters. Run the code below to populate the data into a dataframe."
   ]
  },
  {
   "cell_type": "code",
   "execution_count": null,
   "id": "aedd7bc9-cf75-4888-b91a-4a30c0b7fb66",
   "metadata": {},
   "outputs": [],
   "source": [
    "data = pd.read_csv('data/CDD.txt', sep='\\t')\n",
    "data"
   ]
  },
  {
   "attachments": {},
   "cell_type": "markdown",
   "id": "c151125c-b071-4858-bffe-bcbfd00bf2bc",
   "metadata": {},
   "source": [
    "You can see that this data set has 867 rows and 23 columns. This is a fairly large data set. \n"
   ]
  },
  {
   "attachments": {},
   "cell_type": "markdown",
   "id": "7a6800e7",
   "metadata": {},
   "source": [
    "# Organize"
   ]
  },
  {
   "attachments": {},
   "cell_type": "markdown",
   "id": "5bb6fb0b-7210-4269-89b5-452e227cb638",
   "metadata": {},
   "source": [
    "An important part of the data science process is cleaning up and organizing your data so it can be useful for finding observations. In this particular data set has many columns where data is listed as 'unknown'. Python lists those as `NaN` (not a number) and so we want to look at how much of our whole data frame lists fields where the data is 'non null'. 'Non null' essentially means those field have data in them.\n",
    "\n",
    "Let's look at what the colum names are and how many non-null data they contain."
   ]
  },
  {
   "cell_type": "code",
   "execution_count": null,
   "id": "100f1ff9-a4be-4bd5-8482-934292f8b02b",
   "metadata": {},
   "outputs": [],
   "source": [
    "data.info()"
   ]
  },
  {
   "attachments": {},
   "cell_type": "markdown",
   "id": "f6c2bdc1-bf30-451e-86cd-7b2721ba3d47",
   "metadata": {},
   "source": [
    "We are using the `ESTIMATED TOTAL COST` for our visualization and so we want to omit any values that don't include an amount for that row."
   ]
  },
  {
   "cell_type": "code",
   "execution_count": null,
   "id": "6a69527d-2a94-43e3-a5d5-05919001b8a1",
   "metadata": {},
   "outputs": [],
   "source": [
    "data = data[data['ESTIMATED TOTAL COST'].notna()]\n",
    "data.info()"
   ]
  },
  {
   "attachments": {},
   "cell_type": "markdown",
   "id": "7802ab2a-f9d0-41de-97b1-884faa58ae3a",
   "metadata": {},
   "source": [
    "The text below shows us that many events in the data set belong to one particular category. We can show the events that do not fit that category. First we can look at the unique values for `EVENT SUBGROUP`."
   ]
  },
  {
   "cell_type": "code",
   "execution_count": null,
   "id": "3b071d41-0204-4b71-b238-f5fcdd516f9d",
   "metadata": {},
   "outputs": [],
   "source": [
    "data['EVENT SUBGROUP'].unique()"
   ]
  },
  {
   "attachments": {},
   "cell_type": "markdown",
   "id": "467ef616",
   "metadata": {},
   "source": [
    "Then we can find any that aren't `Meteorological - Hydrological`."
   ]
  },
  {
   "cell_type": "code",
   "execution_count": null,
   "id": "abfcd82c-09ad-4459-9959-f33cc90f7b8b",
   "metadata": {},
   "outputs": [],
   "source": [
    "data[data['EVENT SUBGROUP']!='Meteorological - Hydrological']"
   ]
  },
  {
   "attachments": {},
   "cell_type": "markdown",
   "id": "8ae2f710",
   "metadata": {},
   "source": [
    "Now we can get rid of any of those."
   ]
  },
  {
   "cell_type": "code",
   "execution_count": null,
   "id": "b9a6c636-697f-4b2d-a12d-f0212d901a1b",
   "metadata": {},
   "outputs": [],
   "source": [
    "data = data[data['EVENT SUBGROUP']=='Meteorological - Hydrological']\n",
    "data"
   ]
  },
  {
   "cell_type": "markdown",
   "id": "d9178d5c-e107-48a7-a6d2-cf63f98a781f",
   "metadata": {},
   "source": [
    "# Explore"
   ]
  },
  {
   "attachments": {},
   "cell_type": "markdown",
   "id": "1e73e77b-6fc2-41c1-a516-d7f1c10e4eba",
   "metadata": {},
   "source": [
    "Run the code below to generate a scatter plot from the data that will help us to answer our question. Each point represents a specific event.\n",
    "\n",
    "The size of the points represents the estimated cost, and the color represents the total insurance payments paid out for that particular event."
   ]
  },
  {
   "cell_type": "code",
   "execution_count": null,
   "id": "5f279ada-95a5-4042-bd70-c37299d6dc46",
   "metadata": {},
   "outputs": [],
   "source": [
    "fig = px.scatter(data, x=\"EVENT TYPE\", y=\"NORMALIZED TOTAL COST\", \n",
    "                 title='Disasters Compared to their Total Cost', \n",
    "                 hover_data={\"PLACE\",\"COMMENTS\"},\n",
    "                 size='ESTIMATED TOTAL COST',\n",
    "                 color='INSURANCE PAYMENTS',\n",
    "                 height=600)\n",
    "\n",
    "fig.show()"
   ]
  },
  {
   "cell_type": "markdown",
   "id": "0a246d1f-2fac-44a9-8f2c-a1d3dc6d2666",
   "metadata": {},
   "source": [
    "# Interpret"
   ]
  },
  {
   "attachments": {},
   "cell_type": "markdown",
   "id": "1956e4ae-0908-4086-aa0f-cfa41ea67040",
   "metadata": {},
   "source": [
    "# Reflect on what you see\n",
    "\n",
    "Look and interact with the data visualizations above. When you hover your mouse over the plots, you’ll notice more information appears. You can also use the legend to make plots appear and disappear.\n",
    "\n",
    "#### Think about the following questions.\n",
    "\n",
    "* What do you notice about these graphs?\n",
    "* What do you wonder about the data?\n",
    "* What kind of inferences can you make based on this data?\n",
    "\n",
    "#### Use the fill-in-the-blank prompts to summarize your thoughts.\n",
    "* \"I used to think _______\"\n",
    "* \"Now I think _______\"\n",
    "* \"I wish I knew more about _______\"\n",
    "* \"These data visualizations remind me of _______\"\n",
    "* \"I really like _______\""
   ]
  },
  {
   "cell_type": "markdown",
   "id": "9c0b332b-0680-408d-be81-fb893f4b70fe",
   "metadata": {},
   "source": [
    "# Communicate"
   ]
  },
  {
   "cell_type": "markdown",
   "id": "d22e3477-4fad-4c2e-a70a-92113f39397c",
   "metadata": {},
   "source": [
    "Once we have understood which natural disasters cost the most how can we use that information? How do you think we could use that information to make life better for all on earth?\n",
    "\n",
    "Now that you understand more about which weather events and disasters cost the most money how can you commiunicate that information? What kind of product can you create to share that information with your school community and wider community?\n",
    "\n",
    "Consider adding @callysto_canada to your reflections or projects if you decide to share them on social media."
   ]
  },
  {
   "cell_type": "markdown",
   "id": "a17fec2b-f8b3-4af4-ac5e-dd958bf91ff4",
   "metadata": {},
   "source": [
    "# Further Resources"
   ]
  },
  {
   "cell_type": "markdown",
   "id": "51af182e-9b98-4123-ab60-3fa0008ce493",
   "metadata": {},
   "source": [
    "For more information on the costliest weather events between 2012 and 2016 check out this article from the [Weather Network](https://www.theweathernetwork.com/ca/news/article/the-top-five-costliest-canadian-natural-disasters-of-the-2010s) "
   ]
  },
  {
   "cell_type": "markdown",
   "id": "bc57689f-ecd3-4613-ab7b-010ecceb7169",
   "metadata": {},
   "source": [
    "[![Callysto.ca License](https://github.com/callysto/curriculum-notebooks/blob/master/callysto-notebook-banner-bottom.jpg?raw=true)](https://github.com/callysto/curriculum-notebooks/blob/master/LICENSE.md)"
   ]
  }
 ],
 "metadata": {
  "kernelspec": {
   "display_name": "Python 3",
   "language": "python",
   "name": "python3"
  },
  "language_info": {
   "codemirror_mode": {
    "name": "ipython",
    "version": 3
   },
   "file_extension": ".py",
   "mimetype": "text/x-python",
   "name": "python",
   "nbconvert_exporter": "python",
   "pygments_lexer": "ipython3",
   "version": "3.10.1"
  },
  "vscode": {
   "interpreter": {
    "hash": "d1ca6d17674200220921376aaeb3d36cffe15ecab2470a9a5e7a456cdbf61425"
   }
  }
 },
 "nbformat": 4,
 "nbformat_minor": 5
}
