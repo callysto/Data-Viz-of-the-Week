{
 "cells": [
  {
   "cell_type": "markdown",
   "id": "b2538929-5e56-4a7d-a8fb-cd4ff4a68110",
   "metadata": {},
   "source": [
    "![Callysto.ca Banner](https://github.com/callysto/curriculum-notebooks/blob/master/callysto-notebook-banner-top.jpg?raw=true)"
   ]
  },
  {
   "cell_type": "markdown",
   "id": "fbc78e75-02d5-440f-898a-4a168607b59d",
   "metadata": {},
   "source": [
    "# Costliest Natural Disasters"
   ]
  },
  {
   "cell_type": "markdown",
   "id": "9ba03961-49dc-44cf-a785-222baf79886d",
   "metadata": {},
   "source": [
    "Weather events and natural diasters have the potential to cause huge amounts of damage to property. Have you ever wondered what the most expensive natural disasters and weather events are? We are going to explore the costliest natural disasters in the 2010 decade in this notebook. The flopods in Calgary Alberta in 2013 were an example of a very costly natural disaster. The estimated cost of this flooding event was.... Run the code cell below to watch a video about the floods in Calgary. After watching the video run the code cell below for some questions to discuss with classmates close to you or your whole class. "
   ]
  },
  {
   "cell_type": "markdown",
   "id": "d52d87ee-5cb7-479e-aa87-b02fb95790f6",
   "metadata": {},
   "source": [
    "## Import the libraries required for this project and put data into a data frame"
   ]
  },
  {
   "cell_type": "markdown",
   "id": "03c65e82-b869-4099-966b-b8d4d8a683d5",
   "metadata": {},
   "source": [
    "Now that we have stated what this project will be about we need to setup the rest of our notebook. To setup this notebook run the code cells below to import the libraries we need for this project, libraries are blocks of code that make it easier to analyze our data."
   ]
  },
  {
   "cell_type": "code",
   "execution_count": 1,
   "id": "e02b0b07-dbb7-4110-98fe-e721b1474f31",
   "metadata": {},
   "outputs": [],
   "source": [
    "import pandas as pd \n",
    "import matplotlib as plt\n"
   ]
  },
  {
   "cell_type": "markdown",
   "id": "cf62e8aa-9730-46dc-8bc4-0987d7a7a502",
   "metadata": {},
   "source": [
    "# Introduction"
   ]
  },
  {
   "cell_type": "markdown",
   "id": "479d410d-90c7-476e-940f-6aed4b2653f9",
   "metadata": {},
   "source": [
    "Run the code cell below to display a Youtube video about the floods in Calgary in 2013. After you watch the video work on answering the questions and then run the code cell below to import the data we will use for this project. Even if it is not stated in instructiosn you need to run each individual cell in this project. "
   ]
  },
  {
   "cell_type": "code",
   "execution_count": 2,
   "id": "19a1e58c-dd5e-47fc-a30a-13acc7e5d8b9",
   "metadata": {},
   "outputs": [
    {
     "data": {
      "image/jpeg": "[encoded data removed]",
      "text/html": [
       "\n",
       "        <iframe\n",
       "            width=\"400\"\n",
       "            height=\"300\"\n",
       "            src=\"https://www.youtube.com/embed/jgw06p4jeh8\"\n",
       "            frameborder=\"0\"\n",
       "            allowfullscreen\n",
       "            \n",
       "        ></iframe>\n",
       "        "
      ],
      "text/plain": [
       "<IPython.lib.display.YouTubeVideo at 0x7fc1c52dabe0>"
      ]
     },
     "execution_count": 2,
     "metadata": {},
     "output_type": "execute_result"
    }
   ],
   "source": [
    "from IPython.display import YouTubeVideo\n",
    "YouTubeVideo('jgw06p4jeh8')"
   ]
  },
  {
   "cell_type": "markdown",
   "id": "e302ca9f-f95c-4ac0-bdc2-17fb5291bb8c",
   "metadata": {},
   "source": [
    "After watching the video have a discussion with your class or Think, Pair, Share with some classmates about the following question.  <br>(-) What images from the video stuck out with you? Why did those images stick in your mind?"
   ]
  },
  {
   "cell_type": "code",
   "execution_count": 6,
   "id": "c95a41ec-555c-4278-b4d0-0aaced378ab0",
   "metadata": {},
   "outputs": [
    {
     "name": "stdout",
     "output_type": "stream",
     "text": [
      "    EVENT CATEGORY\\tEVENT GROUP\\tEVENT SUBGROUP\\tEVENT TYPE\\tPLACE\\tEVENT START DATE\\tCOMMENTS\\tFATALITIES\\tINJURED / INFECTED\\tEVACUATED\\tESTIMATED TOTAL COST\\tNORMALIZED TOTAL COST\\tEVENT END DATE\\tFEDERAL DFAA PAYMENTS\\tPROVINCIAL DFAA PAYMENTS\\tPROVINCIAL DEPARTMENT PAYMENTS\\tMUNICIPAL COSTS\\tOGD COSTS\\tINSURANCE PAYMENTS\\tNGO PAYMENTS\\tUTILITY - PEOPLE AFFECTED\\tMAGNITUDE  \\\n",
      "0    Disaster\\tNatural\\tMeteorological - Hydrologic...                                                                                                                                                                                                                                                                                                                                        \n",
      "1    The most severe flooding took place in Quebec ...                                                                                                                                                                                                                                                                                                                                        \n",
      "2    States of emergency extended across the 3 prov...                                                                                                                                                                                                                                                                                                                                        \n",
      "3    Disaster\\tNatural\\tMeteorological - Hydrologic...                                                                                                                                                                                                                                                                                                                                        \n",
      "4    Disaster\\tNatural\\tMeteorological - Hydrologic...                                                                                                                                                                                                                                                                                                                                        \n",
      "..                                                 ...                                                                                                                                                                                                                                                                                                                                        \n",
      "862  Disaster\\tNatural\\tMeteorological - Hydrologic...                                                                                                                                                                                                                                                                                                                                        \n",
      "863  Disaster\\tNatural\\tMeteorological - Hydrologic...                                                                                                                                                                                                                                                                                                                                        \n",
      "864  Disaster\\tNatural\\tMeteorological - Hydrologic...                                                                                                                                                                                                                                                                                                                                        \n",
      "865  Disaster\\tNatural\\tMeteorological - Hydrologic...                                                                                                                                                                                                                                                                                                                                        \n",
      "866  Disaster\\tNatural\\tMeteorological - Hydrologic...                                                                                                                                                                                                                                                                                                                                        \n",
      "\n",
      "    Unnamed: 1 Unnamed: 2 Unnamed: 3 Unnamed: 4 Unnamed: 5 Unnamed: 6  \\\n",
      "0          NaN        NaN        NaN        NaN        NaN        NaN   \n",
      "1          NaN        NaN        NaN        NaN        NaN        NaN   \n",
      "2          NaN        NaN        NaN        NaN        NaN        NaN   \n",
      "3          NaN        NaN        NaN        NaN        NaN        NaN   \n",
      "4          NaN        NaN        NaN        NaN        NaN        NaN   \n",
      "..         ...        ...        ...        ...        ...        ...   \n",
      "862        NaN        NaN        NaN        NaN        NaN        NaN   \n",
      "863        NaN        NaN        NaN        NaN        NaN        NaN   \n",
      "864        NaN        NaN        NaN        NaN        NaN        NaN   \n",
      "865        NaN        NaN        NaN        NaN        NaN        NaN   \n",
      "866        NaN        NaN        NaN        NaN        NaN        NaN   \n",
      "\n",
      "    Unnamed: 7 Unnamed: 8 Unnamed: 9  ... Unnamed: 95 Unnamed: 96 Unnamed: 97  \\\n",
      "0          NaN        NaN        NaN  ...         NaN         NaN         NaN   \n",
      "1          NaN        NaN        NaN  ...         NaN         NaN         NaN   \n",
      "2          NaN        NaN        NaN  ...         NaN         NaN         NaN   \n",
      "3          NaN        NaN        NaN  ...         NaN         NaN         NaN   \n",
      "4          NaN        NaN        NaN  ...         NaN         NaN         NaN   \n",
      "..         ...        ...        ...  ...         ...         ...         ...   \n",
      "862        NaN        NaN        NaN  ...         NaN         NaN         NaN   \n",
      "863        NaN        NaN        NaN  ...         NaN         NaN         NaN   \n",
      "864        NaN        NaN        NaN  ...         NaN         NaN         NaN   \n",
      "865        NaN        NaN        NaN  ...         NaN         NaN         NaN   \n",
      "866        NaN        NaN        NaN  ...         NaN         NaN         NaN   \n",
      "\n",
      "    Unnamed: 98 Unnamed: 99 Unnamed: 100 Unnamed: 101 Unnamed: 102  \\\n",
      "0           NaN         NaN          NaN          NaN          NaN   \n",
      "1           NaN         NaN          NaN          NaN          NaN   \n",
      "2           NaN         NaN          NaN          NaN          NaN   \n",
      "3           NaN         NaN          NaN          NaN          NaN   \n",
      "4           NaN         NaN          NaN          NaN          NaN   \n",
      "..          ...         ...          ...          ...          ...   \n",
      "862         NaN         NaN          NaN          NaN          NaN   \n",
      "863         NaN         NaN          NaN          NaN          NaN   \n",
      "864         NaN         NaN          NaN          NaN          NaN   \n",
      "865         NaN         NaN          NaN          NaN          NaN   \n",
      "866         NaN         NaN          NaN          NaN          NaN   \n",
      "\n",
      "    Unnamed: 103 Unnamed: 104  \n",
      "0            NaN          NaN  \n",
      "1            NaN          NaN  \n",
      "2            NaN          NaN  \n",
      "3            NaN          NaN  \n",
      "4            NaN          NaN  \n",
      "..           ...          ...  \n",
      "862          NaN          NaN  \n",
      "863          NaN          NaN  \n",
      "864          NaN          NaN  \n",
      "865          NaN          NaN  \n",
      "866          NaN          NaN  \n",
      "\n",
      "[867 rows x 105 columns]\n"
     ]
    }
   ],
   "source": [
    "df=pd.read_fwf(\"Data/CDD.txt\")\n",
    "print(df)"
   ]
  },
  {
   "cell_type": "markdown",
   "id": "1956e4ae-0908-4086-aa0f-cfa41ea67040",
   "metadata": {},
   "source": [
    "## Questions"
   ]
  },
  {
   "cell_type": "markdown",
   "id": "82ab4824-e256-4a1c-8d8f-c7505bb514b4",
   "metadata": {},
   "source": [
    "## Conclusion"
   ]
  },
  {
   "cell_type": "code",
   "execution_count": null,
   "id": "906e782f-e5cc-4d9f-98de-09a6868e78d2",
   "metadata": {},
   "outputs": [],
   "source": []
  },
  {
   "cell_type": "markdown",
   "id": "a17fec2b-f8b3-4af4-ac5e-dd958bf91ff4",
   "metadata": {},
   "source": [
    "## Further Resources"
   ]
  },
  {
   "cell_type": "markdown",
   "id": "51af182e-9b98-4123-ab60-3fa0008ce493",
   "metadata": {},
   "source": [
    "For more information on the costliest weather events between 2012 and 2016 check out this article from the [Weather Network](https://www.theweathernetwork.com/ca/news/article/the-top-five-costliest-canadian-natural-disasters-of-the-2010s) "
   ]
  },
  {
   "cell_type": "markdown",
   "id": "bc57689f-ecd3-4613-ab7b-010ecceb7169",
   "metadata": {},
   "source": [
    "[![Callysto.ca License](https://github.com/callysto/curriculum-notebooks/blob/master/callysto-notebook-banner-bottom.jpg?raw=true)](https://github.com/callysto/curriculum-notebooks/blob/master/LICENSE.md)"
   ]
  }
 ],
 "metadata": {
  "kernelspec": {
   "display_name": "Python 3 (ipykernel)",
   "language": "python",
   "name": "python3"
  },
  "language_info": {
   "codemirror_mode": {
    "name": "ipython",
    "version": 3
   },
   "file_extension": ".py",
   "mimetype": "text/x-python",
   "name": "python",
   "nbconvert_exporter": "python",
   "pygments_lexer": "ipython3",
   "version": "3.9.13"
  }
 },
 "nbformat": 4,
 "nbformat_minor": 5
}
