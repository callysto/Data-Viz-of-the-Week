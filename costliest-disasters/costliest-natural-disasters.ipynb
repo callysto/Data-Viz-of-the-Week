{
 "cells": [
  {
   "cell_type": "markdown",
   "id": "b2538929-5e56-4a7d-a8fb-cd4ff4a68110",
   "metadata": {},
   "source": [
    "![Callysto.ca Banner](https://github.com/callysto/curriculum-notebooks/blob/master/callysto-notebook-banner-top.jpg?raw=true)"
   ]
  },
  {
   "cell_type": "markdown",
   "id": "8194957c-d1ad-4d8c-9ab6-646b9f531322",
   "metadata": {},
   "source": [
    "# Callysto's Weekly Data Visualization "
   ]
  },
  {
   "cell_type": "markdown",
   "id": "fbc78e75-02d5-440f-898a-4a168607b59d",
   "metadata": {},
   "source": [
    "## Costliest Natural Disasters"
   ]
  },
  {
   "cell_type": "markdown",
   "id": "4b17e799",
   "metadata": {},
   "source": [
    "### Recommended Grade levels: 5-9"
   ]
  },
  {
   "cell_type": "markdown",
   "id": "4253dd5d-23da-4e6c-b84a-98a61cb7b6a9",
   "metadata": {},
   "source": [
    "### Instructions\n",
    "\n",
    "#### \"Run\" the cells to see the graphs\n",
    "\n",
    "Click \"Cell\" and select \"Run All\".\n",
    "\n",
    "This will import the data and run all the code, so you can see this week's data visualization. Scroll to the top after you’ve run the cells.\n",
    "\n",
    "![instructions](https://github.com/callysto/data-viz-of-the-week/blob/main/images/instructions.png?raw=true)\n",
    "\n",
    "**You don't need to do any coding to view the visualizations**.\n",
    "\n",
    "The plots generated in this notebook are interactive. You can hover over and click on elements to see more information. \n",
    "\n",
    "Email contact@callysto.ca if you experience issues."
   ]
  },
  {
   "cell_type": "markdown",
   "id": "b4f78591-b95d-4903-b98d-d8eb46eda70b",
   "metadata": {},
   "source": [
    "### About this Notebook\n",
    "\n",
    "Callysto's Weekly Data Visualization is a learning resource that aims to develop data literacy skills. We provide Grades 5-12 teachers and students with a data visualization, like a graph, to interpret. This companion resource walks learners through how the data visualization is created and interpreted by a data scientist. \n",
    "\n",
    "The steps of the data analysis process are listed below and applied to each weekly topic.\n",
    "\n",
    "1. Question - What are we trying to answer?\n",
    "2. Gather - Find the data source(s) you will need. \n",
    "3. Organize - Arrange the data, so that you can easily explore it. \n",
    "4. Explore - Examine the data to look for evidence to answer the question. This includes creating visualizations. \n",
    "5. Interpret - Describe what's happening in the data visualization. \n",
    "6. Communicate - Explain how the evidence answers the question. "
   ]
  },
  {
   "cell_type": "markdown",
   "id": "da4ed2dc-88be-484c-8ac0-44030ca837ac",
   "metadata": {},
   "source": [
    "## Question\n",
    "\n",
    "What were the most expensive natural disasters in Canada? "
   ]
  },
  {
   "cell_type": "markdown",
   "id": "05cf0283-e935-49e6-bb1d-5a15ca0e0969",
   "metadata": {},
   "source": [
    "### Goal\n",
    "\n",
    "Our goal is to show which natural disasters led to the greatest financial costs and use visualizations to discover any patterns to their impact.\n",
    "\n",
    "The dataset is taken from [Public Safety Canada](https://www.publicsafety.gc.ca/cnt/rsrcs/cndn-dsstr-dtbs/index-en.aspx), and contains information on Canadian natural disaster events from the years 1900 to 2019."
   ]
  },
  {
   "cell_type": "markdown",
   "id": "9ba03961-49dc-44cf-a785-222baf79886d",
   "metadata": {},
   "source": [
    "### Background\n",
    "\n",
    "Weather events and natural diasters have the potential to cause huge amounts of damage to property. Have you ever wondered what the most expensive natural disasters and weather events are in Canada? We are going to explore the costliest natural disasters in the 2010 decade in this notebook. \n"
   ]
  },
  {
   "cell_type": "markdown",
   "id": "a9034a69-3d04-47da-9c29-fa8a22b83d86",
   "metadata": {
    "tags": []
   },
   "source": [
    "# Gather"
   ]
  },
  {
   "cell_type": "markdown",
   "id": "d52d87ee-5cb7-479e-aa87-b02fb95790f6",
   "metadata": {},
   "source": [
    "### Code: "
   ]
  },
  {
   "cell_type": "markdown",
   "id": "03c65e82-b869-4099-966b-b8d4d8a683d5",
   "metadata": {},
   "source": [
    "The next step is to setup the notebook. To setup this notebook run the code cells below to import the libraries we need for this project. In short, libraries are pre-made code that make it easier to analyze our data."
   ]
  },
  {
   "cell_type": "code",
   "execution_count": 3,
   "id": "e02b0b07-dbb7-4110-98fe-e721b1474f31",
   "metadata": {},
   "outputs": [],
   "source": [
    "import pandas as pd\n",
    "import plotly.express as px"
   ]
  },
  {
   "cell_type": "markdown",
   "id": "16dc0f21-6097-4068-baea-aee743a9648c",
   "metadata": {},
   "source": [
    "Pandas is a library that helps us with data analysis, and Plotly Express is a library that helps us to make visualizations. Without importing these libraries we would have to use much more code to analyze our data and generate visualizations. We import the libraries with abbreviations, or aliases, so that we have less typing to do in each line of our code below. "
   ]
  },
  {
   "cell_type": "markdown",
   "id": "4f504ed6-7278-426a-9069-28806385a997",
   "metadata": {},
   "source": [
    "### Data\n",
    "We are using data from [Public Safety Canada](https://www.publicsafety.gc.ca/cnt/rsrcs/cndn-dsstr-dtbs/index-en.aspx) on natural disasters. Run the code below to populate the data into a dataframe.\n",
    "\n",
    "#### Import the Data"
   ]
  },
  {
   "cell_type": "code",
   "execution_count": 4,
   "id": "aedd7bc9-cf75-4888-b91a-4a30c0b7fb66",
   "metadata": {},
   "outputs": [
    {
     "data": {
      "text/html": [
       "<div>\n",
       "<style scoped>\n",
       "    .dataframe tbody tr th:only-of-type {\n",
       "        vertical-align: middle;\n",
       "    }\n",
       "\n",
       "    .dataframe tbody tr th {\n",
       "        vertical-align: top;\n",
       "    }\n",
       "\n",
       "    .dataframe thead th {\n",
       "        text-align: right;\n",
       "    }\n",
       "</style>\n",
       "<table border=\"1\" class=\"dataframe\">\n",
       "  <thead>\n",
       "    <tr style=\"text-align: right;\">\n",
       "      <th></th>\n",
       "      <th>EVENT CATEGORY</th>\n",
       "      <th>EVENT GROUP</th>\n",
       "      <th>EVENT SUBGROUP</th>\n",
       "      <th>EVENT TYPE</th>\n",
       "      <th>PLACE</th>\n",
       "      <th>EVENT START DATE</th>\n",
       "      <th>COMMENTS</th>\n",
       "      <th>FATALITIES</th>\n",
       "      <th>INJURED / INFECTED</th>\n",
       "      <th>EVACUATED</th>\n",
       "      <th>...</th>\n",
       "      <th>FEDERAL DFAA PAYMENTS</th>\n",
       "      <th>PROVINCIAL DFAA PAYMENTS</th>\n",
       "      <th>PROVINCIAL DEPARTMENT PAYMENTS</th>\n",
       "      <th>MUNICIPAL COSTS</th>\n",
       "      <th>OGD COSTS</th>\n",
       "      <th>INSURANCE PAYMENTS</th>\n",
       "      <th>NGO PAYMENTS</th>\n",
       "      <th>UTILITY - PEOPLE AFFECTED</th>\n",
       "      <th>MAGNITUDE</th>\n",
       "      <th>Unnamed: 22</th>\n",
       "    </tr>\n",
       "  </thead>\n",
       "  <tbody>\n",
       "    <tr>\n",
       "      <th>0</th>\n",
       "      <td>Disaster</td>\n",
       "      <td>Natural</td>\n",
       "      <td>Meteorological - Hydrological</td>\n",
       "      <td>Flood</td>\n",
       "      <td>Eastern Canada</td>\n",
       "      <td>4/18/2019 12:00:00 AM</td>\n",
       "      <td>Extensive flooding in April and May was experi...</td>\n",
       "      <td>NaN</td>\n",
       "      <td>NaN</td>\n",
       "      <td>NaN</td>\n",
       "      <td>...</td>\n",
       "      <td>NaN</td>\n",
       "      <td>NaN</td>\n",
       "      <td>NaN</td>\n",
       "      <td>NaN</td>\n",
       "      <td>NaN</td>\n",
       "      <td>NaN</td>\n",
       "      <td>NaN</td>\n",
       "      <td>NaN</td>\n",
       "      <td>NaN</td>\n",
       "      <td>NaN</td>\n",
       "    </tr>\n",
       "    <tr>\n",
       "      <th>1</th>\n",
       "      <td>The most severe flooding took place in Quebec ...</td>\n",
       "      <td>NaN</td>\n",
       "      <td>NaN</td>\n",
       "      <td>NaN</td>\n",
       "      <td>NaN</td>\n",
       "      <td>NaN</td>\n",
       "      <td>NaN</td>\n",
       "      <td>NaN</td>\n",
       "      <td>NaN</td>\n",
       "      <td>NaN</td>\n",
       "      <td>...</td>\n",
       "      <td>NaN</td>\n",
       "      <td>NaN</td>\n",
       "      <td>NaN</td>\n",
       "      <td>NaN</td>\n",
       "      <td>NaN</td>\n",
       "      <td>NaN</td>\n",
       "      <td>NaN</td>\n",
       "      <td>NaN</td>\n",
       "      <td>NaN</td>\n",
       "      <td>NaN</td>\n",
       "    </tr>\n",
       "    <tr>\n",
       "      <th>2</th>\n",
       "      <td>States of emergency extended across the 3 prov...</td>\n",
       "      <td>1</td>\n",
       "      <td>NaN</td>\n",
       "      <td>10000</td>\n",
       "      <td>0.0000</td>\n",
       "      <td>NaN</td>\n",
       "      <td>4/18/2019 12:00:00 AM</td>\n",
       "      <td>NaN</td>\n",
       "      <td>NaN</td>\n",
       "      <td>NaN</td>\n",
       "      <td>...</td>\n",
       "      <td>NaN</td>\n",
       "      <td>NaN</td>\n",
       "      <td>NaN</td>\n",
       "      <td>NaN</td>\n",
       "      <td>NaN</td>\n",
       "      <td>NaN</td>\n",
       "      <td>NaN</td>\n",
       "      <td>NaN</td>\n",
       "      <td>NaN</td>\n",
       "      <td>NaN</td>\n",
       "    </tr>\n",
       "    <tr>\n",
       "      <th>3</th>\n",
       "      <td>Disaster</td>\n",
       "      <td>Natural</td>\n",
       "      <td>Meteorological - Hydrological</td>\n",
       "      <td>Flood</td>\n",
       "      <td>Kashechewan, Ontario</td>\n",
       "      <td>4/15/2019 12:00:00 AM</td>\n",
       "      <td>Seasonal flooding along the Albany River force...</td>\n",
       "      <td>NaN</td>\n",
       "      <td>NaN</td>\n",
       "      <td>2500.0</td>\n",
       "      <td>...</td>\n",
       "      <td>NaN</td>\n",
       "      <td>NaN</td>\n",
       "      <td>NaN</td>\n",
       "      <td>NaN</td>\n",
       "      <td>NaN</td>\n",
       "      <td>NaN</td>\n",
       "      <td>NaN</td>\n",
       "      <td>NaN</td>\n",
       "      <td>NaN</td>\n",
       "      <td>NaN</td>\n",
       "    </tr>\n",
       "    <tr>\n",
       "      <th>4</th>\n",
       "      <td>Disaster</td>\n",
       "      <td>Natural</td>\n",
       "      <td>Meteorological - Hydrological</td>\n",
       "      <td>Winter Storm</td>\n",
       "      <td>Eastern Canada</td>\n",
       "      <td>3/14/2019 12:00:00 AM</td>\n",
       "      <td>A significant low pressure system tracked thro...</td>\n",
       "      <td>NaN</td>\n",
       "      <td>NaN</td>\n",
       "      <td>NaN</td>\n",
       "      <td>...</td>\n",
       "      <td>NaN</td>\n",
       "      <td>NaN</td>\n",
       "      <td>NaN</td>\n",
       "      <td>NaN</td>\n",
       "      <td>NaN</td>\n",
       "      <td>124000000.0</td>\n",
       "      <td>NaN</td>\n",
       "      <td>NaN</td>\n",
       "      <td>NaN</td>\n",
       "      <td>NaN</td>\n",
       "    </tr>\n",
       "    <tr>\n",
       "      <th>...</th>\n",
       "      <td>...</td>\n",
       "      <td>...</td>\n",
       "      <td>...</td>\n",
       "      <td>...</td>\n",
       "      <td>...</td>\n",
       "      <td>...</td>\n",
       "      <td>...</td>\n",
       "      <td>...</td>\n",
       "      <td>...</td>\n",
       "      <td>...</td>\n",
       "      <td>...</td>\n",
       "      <td>...</td>\n",
       "      <td>...</td>\n",
       "      <td>...</td>\n",
       "      <td>...</td>\n",
       "      <td>...</td>\n",
       "      <td>...</td>\n",
       "      <td>...</td>\n",
       "      <td>...</td>\n",
       "      <td>...</td>\n",
       "      <td>...</td>\n",
       "    </tr>\n",
       "    <tr>\n",
       "      <th>862</th>\n",
       "      <td>Disaster</td>\n",
       "      <td>Natural</td>\n",
       "      <td>Meteorological - Hydrological</td>\n",
       "      <td>Wildfire</td>\n",
       "      <td>Hopewell Cape, New Brunswick</td>\n",
       "      <td>6/5/1903 12:00:00 AM</td>\n",
       "      <td>In June of 1903, a wildfire burned the communi...</td>\n",
       "      <td>NaN</td>\n",
       "      <td>NaN</td>\n",
       "      <td>NaN</td>\n",
       "      <td>...</td>\n",
       "      <td>NaN</td>\n",
       "      <td>NaN</td>\n",
       "      <td>NaN</td>\n",
       "      <td>NaN</td>\n",
       "      <td>NaN</td>\n",
       "      <td>NaN</td>\n",
       "      <td>NaN</td>\n",
       "      <td>NaN</td>\n",
       "      <td>0.0</td>\n",
       "      <td>NaN</td>\n",
       "    </tr>\n",
       "    <tr>\n",
       "      <th>863</th>\n",
       "      <td>Disaster</td>\n",
       "      <td>Natural</td>\n",
       "      <td>Meteorological - Hydrological</td>\n",
       "      <td>Avalanche</td>\n",
       "      <td>Mollie Gibson Mine, Kokanee Lake, British Colu...</td>\n",
       "      <td>12/25/1902 12:00:00 AM</td>\n",
       "      <td>On Christmas night, an avalanche destroyed mos...</td>\n",
       "      <td>9.0</td>\n",
       "      <td>NaN</td>\n",
       "      <td>NaN</td>\n",
       "      <td>...</td>\n",
       "      <td>NaN</td>\n",
       "      <td>NaN</td>\n",
       "      <td>NaN</td>\n",
       "      <td>NaN</td>\n",
       "      <td>NaN</td>\n",
       "      <td>NaN</td>\n",
       "      <td>NaN</td>\n",
       "      <td>NaN</td>\n",
       "      <td>0.0</td>\n",
       "      <td>NaN</td>\n",
       "    </tr>\n",
       "    <tr>\n",
       "      <th>864</th>\n",
       "      <td>Disaster</td>\n",
       "      <td>Natural</td>\n",
       "      <td>Meteorological - Hydrological</td>\n",
       "      <td>Flood</td>\n",
       "      <td>Old Man River, Alberta</td>\n",
       "      <td>7/9/1902 12:00:00 AM</td>\n",
       "      <td>1902 was one of the wettest years on record in...</td>\n",
       "      <td>NaN</td>\n",
       "      <td>NaN</td>\n",
       "      <td>NaN</td>\n",
       "      <td>...</td>\n",
       "      <td>NaN</td>\n",
       "      <td>NaN</td>\n",
       "      <td>NaN</td>\n",
       "      <td>NaN</td>\n",
       "      <td>NaN</td>\n",
       "      <td>NaN</td>\n",
       "      <td>NaN</td>\n",
       "      <td>NaN</td>\n",
       "      <td>0.0</td>\n",
       "      <td>NaN</td>\n",
       "    </tr>\n",
       "    <tr>\n",
       "      <th>865</th>\n",
       "      <td>Disaster</td>\n",
       "      <td>Natural</td>\n",
       "      <td>Meteorological - Hydrological</td>\n",
       "      <td>Flood</td>\n",
       "      <td>Saint John River Basin NB</td>\n",
       "      <td>3/1/1902 12:00:00 AM</td>\n",
       "      <td>Saint John River Basin NB, March 1902. An unus...</td>\n",
       "      <td>2.0</td>\n",
       "      <td>0.0</td>\n",
       "      <td>0.0</td>\n",
       "      <td>...</td>\n",
       "      <td>NaN</td>\n",
       "      <td>NaN</td>\n",
       "      <td>NaN</td>\n",
       "      <td>NaN</td>\n",
       "      <td>NaN</td>\n",
       "      <td>NaN</td>\n",
       "      <td>NaN</td>\n",
       "      <td>0.0</td>\n",
       "      <td>0.0</td>\n",
       "      <td>NaN</td>\n",
       "    </tr>\n",
       "    <tr>\n",
       "      <th>866</th>\n",
       "      <td>Disaster</td>\n",
       "      <td>Natural</td>\n",
       "      <td>Meteorological - Hydrological</td>\n",
       "      <td>Hurricane / Typhoon / Tropical Storm</td>\n",
       "      <td>Eastern Canada</td>\n",
       "      <td>9/11/1900 12:00:00 AM</td>\n",
       "      <td>Remnants of the Great Galveston Hurricane cros...</td>\n",
       "      <td>54.0</td>\n",
       "      <td>NaN</td>\n",
       "      <td>NaN</td>\n",
       "      <td>...</td>\n",
       "      <td>NaN</td>\n",
       "      <td>NaN</td>\n",
       "      <td>NaN</td>\n",
       "      <td>NaN</td>\n",
       "      <td>NaN</td>\n",
       "      <td>NaN</td>\n",
       "      <td>NaN</td>\n",
       "      <td>NaN</td>\n",
       "      <td>0.0</td>\n",
       "      <td>NaN</td>\n",
       "    </tr>\n",
       "  </tbody>\n",
       "</table>\n",
       "<p>867 rows × 23 columns</p>\n",
       "</div>"
      ],
      "text/plain": [
       "                                        EVENT CATEGORY EVENT GROUP  \\\n",
       "0                                             Disaster     Natural   \n",
       "1    The most severe flooding took place in Quebec ...         NaN   \n",
       "2    States of emergency extended across the 3 prov...           1   \n",
       "3                                             Disaster     Natural   \n",
       "4                                             Disaster     Natural   \n",
       "..                                                 ...         ...   \n",
       "862                                           Disaster     Natural   \n",
       "863                                           Disaster     Natural   \n",
       "864                                           Disaster     Natural   \n",
       "865                                           Disaster     Natural   \n",
       "866                                           Disaster     Natural   \n",
       "\n",
       "                    EVENT SUBGROUP                            EVENT TYPE  \\\n",
       "0    Meteorological - Hydrological                                 Flood   \n",
       "1                              NaN                                   NaN   \n",
       "2                              NaN                                 10000   \n",
       "3    Meteorological - Hydrological                                 Flood   \n",
       "4    Meteorological - Hydrological                          Winter Storm   \n",
       "..                             ...                                   ...   \n",
       "862  Meteorological - Hydrological                              Wildfire   \n",
       "863  Meteorological - Hydrological                             Avalanche   \n",
       "864  Meteorological - Hydrological                                 Flood   \n",
       "865  Meteorological - Hydrological                                 Flood   \n",
       "866  Meteorological - Hydrological  Hurricane / Typhoon / Tropical Storm   \n",
       "\n",
       "                                                 PLACE  \\\n",
       "0                                       Eastern Canada   \n",
       "1                                                  NaN   \n",
       "2                                               0.0000   \n",
       "3                                 Kashechewan, Ontario   \n",
       "4                                       Eastern Canada   \n",
       "..                                                 ...   \n",
       "862                       Hopewell Cape, New Brunswick   \n",
       "863  Mollie Gibson Mine, Kokanee Lake, British Colu...   \n",
       "864                             Old Man River, Alberta   \n",
       "865                          Saint John River Basin NB   \n",
       "866                                     Eastern Canada   \n",
       "\n",
       "           EVENT START DATE  \\\n",
       "0     4/18/2019 12:00:00 AM   \n",
       "1                       NaN   \n",
       "2                       NaN   \n",
       "3     4/15/2019 12:00:00 AM   \n",
       "4     3/14/2019 12:00:00 AM   \n",
       "..                      ...   \n",
       "862    6/5/1903 12:00:00 AM   \n",
       "863  12/25/1902 12:00:00 AM   \n",
       "864    7/9/1902 12:00:00 AM   \n",
       "865    3/1/1902 12:00:00 AM   \n",
       "866   9/11/1900 12:00:00 AM   \n",
       "\n",
       "                                              COMMENTS  FATALITIES  \\\n",
       "0    Extensive flooding in April and May was experi...         NaN   \n",
       "1                                                  NaN         NaN   \n",
       "2                                4/18/2019 12:00:00 AM         NaN   \n",
       "3    Seasonal flooding along the Albany River force...         NaN   \n",
       "4    A significant low pressure system tracked thro...         NaN   \n",
       "..                                                 ...         ...   \n",
       "862  In June of 1903, a wildfire burned the communi...         NaN   \n",
       "863  On Christmas night, an avalanche destroyed mos...         9.0   \n",
       "864  1902 was one of the wettest years on record in...         NaN   \n",
       "865  Saint John River Basin NB, March 1902. An unus...         2.0   \n",
       "866  Remnants of the Great Galveston Hurricane cros...        54.0   \n",
       "\n",
       "     INJURED / INFECTED  EVACUATED  ...  FEDERAL DFAA PAYMENTS  \\\n",
       "0                   NaN        NaN  ...                    NaN   \n",
       "1                   NaN        NaN  ...                    NaN   \n",
       "2                   NaN        NaN  ...                    NaN   \n",
       "3                   NaN     2500.0  ...                    NaN   \n",
       "4                   NaN        NaN  ...                    NaN   \n",
       "..                  ...        ...  ...                    ...   \n",
       "862                 NaN        NaN  ...                    NaN   \n",
       "863                 NaN        NaN  ...                    NaN   \n",
       "864                 NaN        NaN  ...                    NaN   \n",
       "865                 0.0        0.0  ...                    NaN   \n",
       "866                 NaN        NaN  ...                    NaN   \n",
       "\n",
       "     PROVINCIAL DFAA PAYMENTS PROVINCIAL DEPARTMENT PAYMENTS  MUNICIPAL COSTS  \\\n",
       "0                         NaN                            NaN              NaN   \n",
       "1                         NaN                            NaN              NaN   \n",
       "2                         NaN                            NaN              NaN   \n",
       "3                         NaN                            NaN              NaN   \n",
       "4                         NaN                            NaN              NaN   \n",
       "..                        ...                            ...              ...   \n",
       "862                       NaN                            NaN              NaN   \n",
       "863                       NaN                            NaN              NaN   \n",
       "864                       NaN                            NaN              NaN   \n",
       "865                       NaN                            NaN              NaN   \n",
       "866                       NaN                            NaN              NaN   \n",
       "\n",
       "     OGD COSTS  INSURANCE PAYMENTS  NGO PAYMENTS  UTILITY - PEOPLE AFFECTED  \\\n",
       "0          NaN                 NaN           NaN                        NaN   \n",
       "1          NaN                 NaN           NaN                        NaN   \n",
       "2          NaN                 NaN           NaN                        NaN   \n",
       "3          NaN                 NaN           NaN                        NaN   \n",
       "4          NaN         124000000.0           NaN                        NaN   \n",
       "..         ...                 ...           ...                        ...   \n",
       "862        NaN                 NaN           NaN                        NaN   \n",
       "863        NaN                 NaN           NaN                        NaN   \n",
       "864        NaN                 NaN           NaN                        NaN   \n",
       "865        NaN                 NaN           NaN                        0.0   \n",
       "866        NaN                 NaN           NaN                        NaN   \n",
       "\n",
       "     MAGNITUDE  Unnamed: 22  \n",
       "0          NaN          NaN  \n",
       "1          NaN          NaN  \n",
       "2          NaN          NaN  \n",
       "3          NaN          NaN  \n",
       "4          NaN          NaN  \n",
       "..         ...          ...  \n",
       "862        0.0          NaN  \n",
       "863        0.0          NaN  \n",
       "864        0.0          NaN  \n",
       "865        0.0          NaN  \n",
       "866        0.0          NaN  \n",
       "\n",
       "[867 rows x 23 columns]"
      ]
     },
     "execution_count": 4,
     "metadata": {},
     "output_type": "execute_result"
    }
   ],
   "source": [
    "data = pd.read_csv('data/CDD.txt', sep='\\t')\n",
    "data"
   ]
  },
  {
   "cell_type": "markdown",
   "id": "c151125c-b071-4858-bffe-bcbfd00bf2bc",
   "metadata": {},
   "source": [
    "### Comment on the data\n",
    "\n",
    "The dataframe above is where the data is housed in this project. A data frame is structure that Python uses to display data; a data frame looks like a spreadsheet. We can look at the \n",
    "\n",
    "As we can see from the numbers below the dataframe itself, this dataset has 867 rows and 23 columns. Each row represents a disaster, and each column describes an aspect of that disaster. \n",
    "\n",
    "We can look at a specific column in the data by using the code below. We are going to examine the data in the 50th column. "
   ]
  },
  {
   "cell_type": "code",
   "execution_count": 13,
   "id": "31ab33c6-aac7-45c3-a1b4-8b6f3f73394a",
   "metadata": {},
   "outputs": [
    {
     "data": {
      "text/plain": [
       "EVENT CATEGORY                                                             Disaster\n",
       "EVENT GROUP                                                                 Natural\n",
       "EVENT SUBGROUP                                        Meteorological - Hydrological\n",
       "EVENT TYPE                                                                    Flood\n",
       "PLACE                                                              Fort McMurray AB\n",
       "EVENT START DATE                                              7/30/2016 12:00:00 AM\n",
       "COMMENTS                          Fort McMurray AB, July 30-31 2016. Only weeks ...\n",
       "FATALITIES                                                                      NaN\n",
       "INJURED / INFECTED                                                              NaN\n",
       "EVACUATED                                                                       NaN\n",
       "ESTIMATED TOTAL COST                                                    462528000.0\n",
       "NORMALIZED TOTAL COST                                                    21613457.9\n",
       "EVENT END DATE                                                7/31/2016 12:00:00 AM\n",
       "FEDERAL DFAA PAYMENTS                                                           NaN\n",
       "PROVINCIAL DFAA PAYMENTS                                                        NaN\n",
       "PROVINCIAL DEPARTMENT PAYMENTS                                                  NaN\n",
       "MUNICIPAL COSTS                                                                 NaN\n",
       "OGD COSTS                                                                       NaN\n",
       "INSURANCE PAYMENTS                                                      462528000.0\n",
       "NGO PAYMENTS                                                                    NaN\n",
       "UTILITY - PEOPLE AFFECTED                                                       NaN\n",
       "MAGNITUDE                                                                       NaN\n",
       "Unnamed: 22                                                                     NaN\n",
       "Name: 50, dtype: object"
      ]
     },
     "metadata": {},
     "output_type": "display_data"
    }
   ],
   "source": [
    "display(data.iloc[50])"
   ]
  },
  {
   "cell_type": "markdown",
   "id": "f150153b-8ecb-4f79-99ca-a1ba381831b5",
   "metadata": {},
   "source": [
    "We can see that this particular event in row 50 was a flood that occured in Fort McMurray on 2016. By looking at the comments column we can see that there are particular dates that the flood affad a ected the community. It is also evidence from looking at the data that this event had an estimated total cost and a normalized total cost. \n",
    "\n",
    "Look at the columns in the following list to see what values are available in this data set. Which ones are interesting to you? To answer our question a few columns are going to be most useful in analyzing the data \n",
    "\n",
    "In the next step, we'll dive into more detail and exactly what the data contains. "
   ]
  },
  {
   "cell_type": "code",
   "execution_count": 3,
   "id": "bd007aba-670a-47f5-ad78-a7ec8d8f91be",
   "metadata": {},
   "outputs": [
    {
     "name": "stdout",
     "output_type": "stream",
     "text": [
      "EVENT CATEGORY\n",
      "EVENT GROUP\n",
      "EVENT SUBGROUP\n",
      "EVENT TYPE\n",
      "PLACE\n",
      "EVENT START DATE\n",
      "COMMENTS\n",
      "FATALITIES\n",
      "INJURED / INFECTED\n",
      "EVACUATED\n",
      "ESTIMATED TOTAL COST\n",
      "NORMALIZED TOTAL COST\n",
      "EVENT END DATE\n",
      "FEDERAL DFAA PAYMENTS\n",
      "PROVINCIAL DFAA PAYMENTS\n",
      "PROVINCIAL DEPARTMENT PAYMENTS\n",
      "MUNICIPAL COSTS\n",
      "OGD COSTS\n",
      "INSURANCE PAYMENTS\n",
      "NGO PAYMENTS\n",
      "UTILITY - PEOPLE AFFECTED\n",
      "MAGNITUDE\n",
      "Unnamed: 22\n"
     ]
    }
   ],
   "source": [
    "for i in data.columns:\n",
    "    print(i)"
   ]
  },
  {
   "cell_type": "markdown",
   "id": "da706429-349d-4815-8245-050fbcda8a6b",
   "metadata": {},
   "source": [
    "The `COMMENTS` field may be of particular interest; when we read that column we can get more specific infomation on some of the events. Under `EVENT TYPE`, we can see some categories that the disasters might belong to. We can focus on these aspects of the data, and more, in the next steps. The columns that are going to be useful to answer our question here are the columns that have information about costs. Because we are going to be trying to answer a question about costs we need to ensure we loook at data that references cost. The column `NORMALIZED TOTAL COST` takes into account inflation. \n",
    "\n",
    "The Canadian Disasters Database, where this data is taken from, defines a disaster with the following definition:\n",
    "\n",
    ">A disaster is an interruption in time and space of normal processes causing death,\n",
    "injury or homelessness, economic or property loss, and/or significant environmental\n",
    "damage. The interruption is beyond the coping capacity of the community and/or is\n",
    "beyond the assumed risk factors of human activity. Assumed risk is inherent in most\n",
    "human activity such as transportation and handling of dangerous goods. The\n",
    "interruption precludes war.\n",
    "\n",
    "\n",
    "The Canadian disaster database provides the follow definitions for some of their fields.\n",
    "\n",
    "**EVACUATED**\n",
    "If the exact or estimated number of people evacuated from the area during a disaster is known, it\n",
    "is placed in this field. Otherwise, the field contains a zero.\n",
    "\n",
    "**DOLDAM**\n",
    "If the exact or estimated value of the damage in millions of dollars is known, it is placed in this\n",
    "field. Otherwise, the field contains a zero. Note that the values shown are estimates given in the\n",
    "dollar value at the time of the disaster, and inflation is not taken into account.\n",
    "\n",
    "**INJURED**\n",
    "If the exact or estimated number of injuries is known, it is placed in this field. Otherwise, the field\n",
    "contains a zero.\n",
    "\n",
    "**COMENG / COMFRA**\n",
    "These two fields allow for comments in English and French, respectively. Where possible, they\n",
    "include a brief outline of the disaster and a qualitative description of the resulting damage.\n",
    "\n",
    "**PLACE NAME / LAT / LONG**\n",
    "A location of the disaster is included to assign latitude and longitudinal coordinates to the\n",
    "disaster. For some records, this indicates a central or approximate location, as the disasters may\n",
    "cover large regions.\n",
    "\n",
    "\n",
    "\n",
    "\n",
    "\n",
    "\n",
    "\"This should be the longest text section of the entire notebook\" (Swanson, 2023)"
   ]
  },
  {
   "cell_type": "markdown",
   "id": "7a6800e7",
   "metadata": {},
   "source": [
    "# Organize"
   ]
  },
  {
   "cell_type": "markdown",
   "id": "5bb6fb0b-7210-4269-89b5-452e227cb638",
   "metadata": {},
   "source": [
    "An important part of the data science process is cleaning up and organizing your data so it can be useful for finding observations. Part of cleaning involves \n",
    "- identifying missing data\n",
    "removing missing data, ensuring the data is all in the same format, as well as identifying and dealing with outliers. \n",
    "\n",
    "Many of our fields have data in them, in data science we call that non-null. If you were to forget to write your name on your paper the name field would be null because there is no data in it. Once you write your name on your work suddenlty that value is non-null, because the value has data in it. Look at the information below when we run the `data.info` code  which fields have a higher number of non-null cells, as that number varies quite a bit by column. A few of the fields have very few non-null cells, meaning most of the data is not available. \n",
    "\n",
    "\n",
    " In Python, missing data is identified as `NaN` ('Not a Number'), so we want to see how much of our dataframe contains missing data. We do this by asking for the fields where the data is 'non-null'. Non-null essentially means those fields have actual data in them, or that they are *not* missing values.\n",
    "\n",
    "Let's look at what the column names are and how many non-null data each contain. This function returns all of the column names, along with the number of non-null values inside each column. The number of non-null values is available by looking at the `Non-Null Count` column. "
   ]
  },
  {
   "cell_type": "code",
   "execution_count": 4,
   "id": "100f1ff9-a4be-4bd5-8482-934292f8b02b",
   "metadata": {},
   "outputs": [
    {
     "name": "stdout",
     "output_type": "stream",
     "text": [
      "<class 'pandas.core.frame.DataFrame'>\n",
      "RangeIndex: 867 entries, 0 to 866\n",
      "Data columns (total 23 columns):\n",
      " #   Column                          Non-Null Count  Dtype  \n",
      "---  ------                          --------------  -----  \n",
      " 0   EVENT CATEGORY                  867 non-null    object \n",
      " 1   EVENT GROUP                     853 non-null    object \n",
      " 2   EVENT SUBGROUP                  850 non-null    object \n",
      " 3   EVENT TYPE                      853 non-null    object \n",
      " 4   PLACE                           859 non-null    object \n",
      " 5   EVENT START DATE                848 non-null    object \n",
      " 6   COMMENTS                        859 non-null    object \n",
      " 7   FATALITIES                      746 non-null    float64\n",
      " 8   INJURED / INFECTED              702 non-null    float64\n",
      " 9   EVACUATED                       726 non-null    float64\n",
      " 10  ESTIMATED TOTAL COST            497 non-null    float64\n",
      " 11  NORMALIZED TOTAL COST           483 non-null    float64\n",
      " 12  EVENT END DATE                  833 non-null    object \n",
      " 13  FEDERAL DFAA PAYMENTS           374 non-null    float64\n",
      " 14  PROVINCIAL DFAA PAYMENTS        310 non-null    float64\n",
      " 15  PROVINCIAL DEPARTMENT PAYMENTS  85 non-null     float64\n",
      " 16  MUNICIPAL COSTS                 27 non-null     float64\n",
      " 17  OGD COSTS                       12 non-null     float64\n",
      " 18  INSURANCE PAYMENTS              118 non-null    float64\n",
      " 19  NGO PAYMENTS                    8 non-null      float64\n",
      " 20  UTILITY - PEOPLE AFFECTED       720 non-null    float64\n",
      " 21  MAGNITUDE                       726 non-null    float64\n",
      " 22  Unnamed: 22                     0 non-null      float64\n",
      "dtypes: float64(15), object(8)\n",
      "memory usage: 155.9+ KB\n"
     ]
    }
   ],
   "source": [
    "data.info()"
   ]
  },
  {
   "cell_type": "markdown",
   "id": "f6c2bdc1-bf30-451e-86cd-7b2721ba3d47",
   "metadata": {},
   "source": [
    "\n",
    "As the financial cost is the main question we're trying to answer, we are using the `NORMALIZED TOTAL COST` for our analysis and visualization. The `NORMALIZED TOTAL COST` differs from the `ESTIMATED TOTAL COST` by taking into account inflation. As the data spans from the years 1900 to 2019, the real value of money has steadily decreased, so we need to account for that. The year 2016 is the last year we're able to normalize for from the data, and because this is the column we are most curious about, we want to omit any rows that don't include an amount for that column:"
   ]
  },
  {
   "cell_type": "code",
   "execution_count": 5,
   "id": "6a69527d-2a94-43e3-a5d5-05919001b8a1",
   "metadata": {},
   "outputs": [
    {
     "name": "stdout",
     "output_type": "stream",
     "text": [
      "<class 'pandas.core.frame.DataFrame'>\n",
      "Int64Index: 483 entries, 42 to 852\n",
      "Data columns (total 23 columns):\n",
      " #   Column                          Non-Null Count  Dtype  \n",
      "---  ------                          --------------  -----  \n",
      " 0   EVENT CATEGORY                  483 non-null    object \n",
      " 1   EVENT GROUP                     483 non-null    object \n",
      " 2   EVENT SUBGROUP                  483 non-null    object \n",
      " 3   EVENT TYPE                      483 non-null    object \n",
      " 4   PLACE                           483 non-null    object \n",
      " 5   EVENT START DATE                483 non-null    object \n",
      " 6   COMMENTS                        483 non-null    object \n",
      " 7   FATALITIES                      423 non-null    float64\n",
      " 8   INJURED / INFECTED              403 non-null    float64\n",
      " 9   EVACUATED                       438 non-null    float64\n",
      " 10  ESTIMATED TOTAL COST            483 non-null    float64\n",
      " 11  NORMALIZED TOTAL COST           483 non-null    float64\n",
      " 12  EVENT END DATE                  483 non-null    object \n",
      " 13  FEDERAL DFAA PAYMENTS           230 non-null    float64\n",
      " 14  PROVINCIAL DFAA PAYMENTS        161 non-null    float64\n",
      " 15  PROVINCIAL DEPARTMENT PAYMENTS  82 non-null     float64\n",
      " 16  MUNICIPAL COSTS                 27 non-null     float64\n",
      " 17  OGD COSTS                       12 non-null     float64\n",
      " 18  INSURANCE PAYMENTS              101 non-null    float64\n",
      " 19  NGO PAYMENTS                    8 non-null      float64\n",
      " 20  UTILITY - PEOPLE AFFECTED       425 non-null    float64\n",
      " 21  MAGNITUDE                       395 non-null    float64\n",
      " 22  Unnamed: 22                     0 non-null      float64\n",
      "dtypes: float64(15), object(8)\n",
      "memory usage: 90.6+ KB\n"
     ]
    }
   ],
   "source": [
    "data = data[data['NORMALIZED TOTAL COST'].notna()]\n",
    "data.info()"
   ]
  },
  {
   "cell_type": "markdown",
   "id": "8c13201a-8aa5-4da5-b24e-2b0cad37b0e7",
   "metadata": {},
   "source": [
    "There is a lower total number of rows because we have removed all of the rows that do not have data for our column of interest. If there is no data in our column of interest it is because data does not exist for that value. "
   ]
  },
  {
   "cell_type": "markdown",
   "id": "7802ab2a-f9d0-41de-97b1-884faa58ae3a",
   "metadata": {},
   "source": [
    "We're also interested in the types of events that are included in the data. We can look at the `EVENT SUBGROUP` to see what types of events exist, and the code below extracts the unique values in that column: "
   ]
  },
  {
   "cell_type": "code",
   "execution_count": 6,
   "id": "3b071d41-0204-4b71-b238-f5fcdd516f9d",
   "metadata": {},
   "outputs": [
    {
     "data": {
      "text/plain": [
       "['Meteorological - Hydrological']"
      ]
     },
     "execution_count": 6,
     "metadata": {},
     "output_type": "execute_result"
    }
   ],
   "source": [
    "list(data['EVENT SUBGROUP'].unique())"
   ]
  },
  {
   "cell_type": "markdown",
   "id": "3280040d-0072-481d-b2ff-4de559231d28",
   "metadata": {},
   "source": [
    "It makes sense that events would be 'Meteorological - Hydrological', but what does '25' mean? Let's check out rows that have that value for `EVENT SUBGROUP`:"
   ]
  },
  {
   "cell_type": "code",
   "execution_count": 7,
   "id": "abfcd82c-09ad-4459-9959-f33cc90f7b8b",
   "metadata": {},
   "outputs": [
    {
     "data": {
      "text/html": [
       "<div>\n",
       "<style scoped>\n",
       "    .dataframe tbody tr th:only-of-type {\n",
       "        vertical-align: middle;\n",
       "    }\n",
       "\n",
       "    .dataframe tbody tr th {\n",
       "        vertical-align: top;\n",
       "    }\n",
       "\n",
       "    .dataframe thead th {\n",
       "        text-align: right;\n",
       "    }\n",
       "</style>\n",
       "<table border=\"1\" class=\"dataframe\">\n",
       "  <thead>\n",
       "    <tr style=\"text-align: right;\">\n",
       "      <th></th>\n",
       "      <th>EVENT CATEGORY</th>\n",
       "      <th>EVENT GROUP</th>\n",
       "      <th>EVENT SUBGROUP</th>\n",
       "      <th>EVENT TYPE</th>\n",
       "      <th>PLACE</th>\n",
       "      <th>EVENT START DATE</th>\n",
       "      <th>COMMENTS</th>\n",
       "      <th>FATALITIES</th>\n",
       "      <th>INJURED / INFECTED</th>\n",
       "      <th>EVACUATED</th>\n",
       "      <th>...</th>\n",
       "      <th>FEDERAL DFAA PAYMENTS</th>\n",
       "      <th>PROVINCIAL DFAA PAYMENTS</th>\n",
       "      <th>PROVINCIAL DEPARTMENT PAYMENTS</th>\n",
       "      <th>MUNICIPAL COSTS</th>\n",
       "      <th>OGD COSTS</th>\n",
       "      <th>INSURANCE PAYMENTS</th>\n",
       "      <th>NGO PAYMENTS</th>\n",
       "      <th>UTILITY - PEOPLE AFFECTED</th>\n",
       "      <th>MAGNITUDE</th>\n",
       "      <th>Unnamed: 22</th>\n",
       "    </tr>\n",
       "  </thead>\n",
       "  <tbody>\n",
       "  </tbody>\n",
       "</table>\n",
       "<p>0 rows × 23 columns</p>\n",
       "</div>"
      ],
      "text/plain": [
       "Empty DataFrame\n",
       "Columns: [EVENT CATEGORY, EVENT GROUP, EVENT SUBGROUP, EVENT TYPE, PLACE, EVENT START DATE, COMMENTS, FATALITIES, INJURED / INFECTED, EVACUATED, ESTIMATED TOTAL COST, NORMALIZED TOTAL COST, EVENT END DATE, FEDERAL DFAA PAYMENTS, PROVINCIAL DFAA PAYMENTS, PROVINCIAL DEPARTMENT PAYMENTS, MUNICIPAL COSTS, OGD COSTS, INSURANCE PAYMENTS, NGO PAYMENTS, UTILITY - PEOPLE AFFECTED, MAGNITUDE, Unnamed: 22]\n",
       "Index: []\n",
       "\n",
       "[0 rows x 23 columns]"
      ]
     },
     "execution_count": 7,
     "metadata": {},
     "output_type": "execute_result"
    }
   ],
   "source": [
    "data[data['EVENT SUBGROUP']!='Meteorological - Hydrological']"
   ]
  },
  {
   "cell_type": "markdown",
   "id": "0d788896-3cda-401f-b424-456002d12def",
   "metadata": {},
   "source": [
    "# \\# add text about what you found above and what to do with it"
   ]
  },
  {
   "cell_type": "markdown",
   "id": "8ae2f710",
   "metadata": {},
   "source": [
    "Now we can get rid of any data values where the `EVENT SUBGROUP` is not 'Meteorological - Hydrological'. This process removes the one outlier of our data that does not fit this category and makes our data cleaner to work with. "
   ]
  },
  {
   "cell_type": "code",
   "execution_count": 8,
   "id": "b9a6c636-697f-4b2d-a12d-f0212d901a1b",
   "metadata": {},
   "outputs": [
    {
     "data": {
      "text/html": [
       "<div>\n",
       "<style scoped>\n",
       "    .dataframe tbody tr th:only-of-type {\n",
       "        vertical-align: middle;\n",
       "    }\n",
       "\n",
       "    .dataframe tbody tr th {\n",
       "        vertical-align: top;\n",
       "    }\n",
       "\n",
       "    .dataframe thead th {\n",
       "        text-align: right;\n",
       "    }\n",
       "</style>\n",
       "<table border=\"1\" class=\"dataframe\">\n",
       "  <thead>\n",
       "    <tr style=\"text-align: right;\">\n",
       "      <th></th>\n",
       "      <th>EVENT CATEGORY</th>\n",
       "      <th>EVENT GROUP</th>\n",
       "      <th>EVENT SUBGROUP</th>\n",
       "      <th>EVENT TYPE</th>\n",
       "      <th>PLACE</th>\n",
       "      <th>EVENT START DATE</th>\n",
       "      <th>COMMENTS</th>\n",
       "      <th>FATALITIES</th>\n",
       "      <th>INJURED / INFECTED</th>\n",
       "      <th>EVACUATED</th>\n",
       "      <th>...</th>\n",
       "      <th>FEDERAL DFAA PAYMENTS</th>\n",
       "      <th>PROVINCIAL DFAA PAYMENTS</th>\n",
       "      <th>PROVINCIAL DEPARTMENT PAYMENTS</th>\n",
       "      <th>MUNICIPAL COSTS</th>\n",
       "      <th>OGD COSTS</th>\n",
       "      <th>INSURANCE PAYMENTS</th>\n",
       "      <th>NGO PAYMENTS</th>\n",
       "      <th>UTILITY - PEOPLE AFFECTED</th>\n",
       "      <th>MAGNITUDE</th>\n",
       "      <th>Unnamed: 22</th>\n",
       "    </tr>\n",
       "  </thead>\n",
       "  <tbody>\n",
       "    <tr>\n",
       "      <th>42</th>\n",
       "      <td>Disaster</td>\n",
       "      <td>Natural</td>\n",
       "      <td>Meteorological - Hydrological</td>\n",
       "      <td>Storm - Unspecified / Other</td>\n",
       "      <td>Christmas Island NS</td>\n",
       "      <td>12/25/2016 12:00:00 AM</td>\n",
       "      <td>Christmas Island NS, December 25, 2016. Reside...</td>\n",
       "      <td>NaN</td>\n",
       "      <td>NaN</td>\n",
       "      <td>NaN</td>\n",
       "      <td>...</td>\n",
       "      <td>NaN</td>\n",
       "      <td>NaN</td>\n",
       "      <td>NaN</td>\n",
       "      <td>NaN</td>\n",
       "      <td>NaN</td>\n",
       "      <td>NaN</td>\n",
       "      <td>NaN</td>\n",
       "      <td>10038.0</td>\n",
       "      <td>NaN</td>\n",
       "      <td>NaN</td>\n",
       "    </tr>\n",
       "    <tr>\n",
       "      <th>43</th>\n",
       "      <td>Disaster</td>\n",
       "      <td>Natural</td>\n",
       "      <td>Meteorological - Hydrological</td>\n",
       "      <td>Winter Storm</td>\n",
       "      <td>Nova Scotia and Prince Edward Island</td>\n",
       "      <td>11/27/2016 12:00:00 AM</td>\n",
       "      <td>Nova Scotia and Prince Edward Island, November...</td>\n",
       "      <td>NaN</td>\n",
       "      <td>NaN</td>\n",
       "      <td>NaN</td>\n",
       "      <td>...</td>\n",
       "      <td>NaN</td>\n",
       "      <td>NaN</td>\n",
       "      <td>NaN</td>\n",
       "      <td>NaN</td>\n",
       "      <td>NaN</td>\n",
       "      <td>NaN</td>\n",
       "      <td>NaN</td>\n",
       "      <td>69000.0</td>\n",
       "      <td>NaN</td>\n",
       "      <td>NaN</td>\n",
       "    </tr>\n",
       "    <tr>\n",
       "      <th>44</th>\n",
       "      <td>Disaster</td>\n",
       "      <td>Natural</td>\n",
       "      <td>Meteorological - Hydrological</td>\n",
       "      <td>Flood</td>\n",
       "      <td>Red Earth First Nation SK</td>\n",
       "      <td>11/14/2016 12:00:00 AM</td>\n",
       "      <td>Red Earth First Nation SK, July 14-18, 2016. H...</td>\n",
       "      <td>NaN</td>\n",
       "      <td>NaN</td>\n",
       "      <td>576.0</td>\n",
       "      <td>...</td>\n",
       "      <td>NaN</td>\n",
       "      <td>NaN</td>\n",
       "      <td>NaN</td>\n",
       "      <td>NaN</td>\n",
       "      <td>NaN</td>\n",
       "      <td>NaN</td>\n",
       "      <td>NaN</td>\n",
       "      <td>NaN</td>\n",
       "      <td>NaN</td>\n",
       "      <td>NaN</td>\n",
       "    </tr>\n",
       "    <tr>\n",
       "      <th>45</th>\n",
       "      <td>Disaster</td>\n",
       "      <td>Natural</td>\n",
       "      <td>Meteorological - Hydrological</td>\n",
       "      <td>Storm - Unspecified / Other</td>\n",
       "      <td>South Coast and Lower Mainland British Columbia</td>\n",
       "      <td>10/12/2016 12:00:00 AM</td>\n",
       "      <td>South Coast and Lower Mainland British Columbi...</td>\n",
       "      <td>1.0</td>\n",
       "      <td>NaN</td>\n",
       "      <td>NaN</td>\n",
       "      <td>...</td>\n",
       "      <td>NaN</td>\n",
       "      <td>NaN</td>\n",
       "      <td>NaN</td>\n",
       "      <td>NaN</td>\n",
       "      <td>NaN</td>\n",
       "      <td>NaN</td>\n",
       "      <td>NaN</td>\n",
       "      <td>225000.0</td>\n",
       "      <td>NaN</td>\n",
       "      <td>NaN</td>\n",
       "    </tr>\n",
       "    <tr>\n",
       "      <th>46</th>\n",
       "      <td>Disaster</td>\n",
       "      <td>Natural</td>\n",
       "      <td>Meteorological - Hydrological</td>\n",
       "      <td>Flood</td>\n",
       "      <td>Nova Scotia, Prince Edward Island and Newfound...</td>\n",
       "      <td>10/9/2016 12:00:00 AM</td>\n",
       "      <td>Nova Scotia, Prince Edward Island and Newfound...</td>\n",
       "      <td>NaN</td>\n",
       "      <td>NaN</td>\n",
       "      <td>NaN</td>\n",
       "      <td>...</td>\n",
       "      <td>30350000.0</td>\n",
       "      <td>NaN</td>\n",
       "      <td>NaN</td>\n",
       "      <td>NaN</td>\n",
       "      <td>NaN</td>\n",
       "      <td>NaN</td>\n",
       "      <td>NaN</td>\n",
       "      <td>390600.0</td>\n",
       "      <td>NaN</td>\n",
       "      <td>NaN</td>\n",
       "    </tr>\n",
       "    <tr>\n",
       "      <th>...</th>\n",
       "      <td>...</td>\n",
       "      <td>...</td>\n",
       "      <td>...</td>\n",
       "      <td>...</td>\n",
       "      <td>...</td>\n",
       "      <td>...</td>\n",
       "      <td>...</td>\n",
       "      <td>...</td>\n",
       "      <td>...</td>\n",
       "      <td>...</td>\n",
       "      <td>...</td>\n",
       "      <td>...</td>\n",
       "      <td>...</td>\n",
       "      <td>...</td>\n",
       "      <td>...</td>\n",
       "      <td>...</td>\n",
       "      <td>...</td>\n",
       "      <td>...</td>\n",
       "      <td>...</td>\n",
       "      <td>...</td>\n",
       "      <td>...</td>\n",
       "    </tr>\n",
       "    <tr>\n",
       "      <th>835</th>\n",
       "      <td>Disaster</td>\n",
       "      <td>Natural</td>\n",
       "      <td>Meteorological - Hydrological</td>\n",
       "      <td>Drought</td>\n",
       "      <td>Prairie Provinces</td>\n",
       "      <td>1/1/1919 12:00:00 AM</td>\n",
       "      <td>Prairie Provinces, 1919. Cereal crop drought o...</td>\n",
       "      <td>0.0</td>\n",
       "      <td>0.0</td>\n",
       "      <td>0.0</td>\n",
       "      <td>...</td>\n",
       "      <td>NaN</td>\n",
       "      <td>NaN</td>\n",
       "      <td>NaN</td>\n",
       "      <td>NaN</td>\n",
       "      <td>NaN</td>\n",
       "      <td>NaN</td>\n",
       "      <td>NaN</td>\n",
       "      <td>0.0</td>\n",
       "      <td>0.0</td>\n",
       "      <td>NaN</td>\n",
       "    </tr>\n",
       "    <tr>\n",
       "      <th>836</th>\n",
       "      <td>Disaster</td>\n",
       "      <td>Natural</td>\n",
       "      <td>Meteorological - Hydrological</td>\n",
       "      <td>Drought</td>\n",
       "      <td>Prairie Provinces</td>\n",
       "      <td>1/1/1918 12:00:00 AM</td>\n",
       "      <td>Prairie Provinces, 1918. Cereal crop drought o...</td>\n",
       "      <td>0.0</td>\n",
       "      <td>0.0</td>\n",
       "      <td>0.0</td>\n",
       "      <td>...</td>\n",
       "      <td>NaN</td>\n",
       "      <td>NaN</td>\n",
       "      <td>NaN</td>\n",
       "      <td>NaN</td>\n",
       "      <td>NaN</td>\n",
       "      <td>NaN</td>\n",
       "      <td>NaN</td>\n",
       "      <td>0.0</td>\n",
       "      <td>0.0</td>\n",
       "      <td>NaN</td>\n",
       "    </tr>\n",
       "    <tr>\n",
       "      <th>838</th>\n",
       "      <td>Disaster</td>\n",
       "      <td>Natural</td>\n",
       "      <td>Meteorological - Hydrological</td>\n",
       "      <td>Drought</td>\n",
       "      <td>Prairie Provinces</td>\n",
       "      <td>1/1/1917 12:00:00 AM</td>\n",
       "      <td>Prairie Provinces, 1917. Cereal crop drought o...</td>\n",
       "      <td>0.0</td>\n",
       "      <td>0.0</td>\n",
       "      <td>0.0</td>\n",
       "      <td>...</td>\n",
       "      <td>NaN</td>\n",
       "      <td>NaN</td>\n",
       "      <td>NaN</td>\n",
       "      <td>NaN</td>\n",
       "      <td>NaN</td>\n",
       "      <td>NaN</td>\n",
       "      <td>NaN</td>\n",
       "      <td>0.0</td>\n",
       "      <td>0.0</td>\n",
       "      <td>NaN</td>\n",
       "    </tr>\n",
       "    <tr>\n",
       "      <th>846</th>\n",
       "      <td>Disaster</td>\n",
       "      <td>Natural</td>\n",
       "      <td>Meteorological - Hydrological</td>\n",
       "      <td>Drought</td>\n",
       "      <td>Prairie Provinces</td>\n",
       "      <td>1/1/1914 12:00:00 AM</td>\n",
       "      <td>Prairie Provinces, 1914. Cereal crop drought o...</td>\n",
       "      <td>0.0</td>\n",
       "      <td>0.0</td>\n",
       "      <td>0.0</td>\n",
       "      <td>...</td>\n",
       "      <td>NaN</td>\n",
       "      <td>NaN</td>\n",
       "      <td>NaN</td>\n",
       "      <td>NaN</td>\n",
       "      <td>NaN</td>\n",
       "      <td>NaN</td>\n",
       "      <td>NaN</td>\n",
       "      <td>0.0</td>\n",
       "      <td>0.0</td>\n",
       "      <td>NaN</td>\n",
       "    </tr>\n",
       "    <tr>\n",
       "      <th>852</th>\n",
       "      <td>Disaster</td>\n",
       "      <td>Natural</td>\n",
       "      <td>Meteorological - Hydrological</td>\n",
       "      <td>Drought</td>\n",
       "      <td>Prairie Provinces</td>\n",
       "      <td>1/1/1910 12:00:00 AM</td>\n",
       "      <td>Prairie Provinces, 1910. Cereal crop drought o...</td>\n",
       "      <td>0.0</td>\n",
       "      <td>0.0</td>\n",
       "      <td>0.0</td>\n",
       "      <td>...</td>\n",
       "      <td>NaN</td>\n",
       "      <td>NaN</td>\n",
       "      <td>NaN</td>\n",
       "      <td>NaN</td>\n",
       "      <td>NaN</td>\n",
       "      <td>NaN</td>\n",
       "      <td>NaN</td>\n",
       "      <td>0.0</td>\n",
       "      <td>0.0</td>\n",
       "      <td>NaN</td>\n",
       "    </tr>\n",
       "  </tbody>\n",
       "</table>\n",
       "<p>483 rows × 23 columns</p>\n",
       "</div>"
      ],
      "text/plain": [
       "    EVENT CATEGORY EVENT GROUP                 EVENT SUBGROUP  \\\n",
       "42        Disaster     Natural  Meteorological - Hydrological   \n",
       "43        Disaster     Natural  Meteorological - Hydrological   \n",
       "44        Disaster     Natural  Meteorological - Hydrological   \n",
       "45        Disaster     Natural  Meteorological - Hydrological   \n",
       "46        Disaster     Natural  Meteorological - Hydrological   \n",
       "..             ...         ...                            ...   \n",
       "835       Disaster     Natural  Meteorological - Hydrological   \n",
       "836       Disaster     Natural  Meteorological - Hydrological   \n",
       "838       Disaster     Natural  Meteorological - Hydrological   \n",
       "846       Disaster     Natural  Meteorological - Hydrological   \n",
       "852       Disaster     Natural  Meteorological - Hydrological   \n",
       "\n",
       "                      EVENT TYPE  \\\n",
       "42   Storm - Unspecified / Other   \n",
       "43                  Winter Storm   \n",
       "44                         Flood   \n",
       "45   Storm - Unspecified / Other   \n",
       "46                         Flood   \n",
       "..                           ...   \n",
       "835                      Drought   \n",
       "836                      Drought   \n",
       "838                      Drought   \n",
       "846                      Drought   \n",
       "852                      Drought   \n",
       "\n",
       "                                                 PLACE  \\\n",
       "42                                 Christmas Island NS   \n",
       "43                Nova Scotia and Prince Edward Island   \n",
       "44                           Red Earth First Nation SK   \n",
       "45     South Coast and Lower Mainland British Columbia   \n",
       "46   Nova Scotia, Prince Edward Island and Newfound...   \n",
       "..                                                 ...   \n",
       "835                                  Prairie Provinces   \n",
       "836                                  Prairie Provinces   \n",
       "838                                  Prairie Provinces   \n",
       "846                                  Prairie Provinces   \n",
       "852                                  Prairie Provinces   \n",
       "\n",
       "           EVENT START DATE  \\\n",
       "42   12/25/2016 12:00:00 AM   \n",
       "43   11/27/2016 12:00:00 AM   \n",
       "44   11/14/2016 12:00:00 AM   \n",
       "45   10/12/2016 12:00:00 AM   \n",
       "46    10/9/2016 12:00:00 AM   \n",
       "..                      ...   \n",
       "835    1/1/1919 12:00:00 AM   \n",
       "836    1/1/1918 12:00:00 AM   \n",
       "838    1/1/1917 12:00:00 AM   \n",
       "846    1/1/1914 12:00:00 AM   \n",
       "852    1/1/1910 12:00:00 AM   \n",
       "\n",
       "                                              COMMENTS  FATALITIES  \\\n",
       "42   Christmas Island NS, December 25, 2016. Reside...         NaN   \n",
       "43   Nova Scotia and Prince Edward Island, November...         NaN   \n",
       "44   Red Earth First Nation SK, July 14-18, 2016. H...         NaN   \n",
       "45   South Coast and Lower Mainland British Columbi...         1.0   \n",
       "46   Nova Scotia, Prince Edward Island and Newfound...         NaN   \n",
       "..                                                 ...         ...   \n",
       "835  Prairie Provinces, 1919. Cereal crop drought o...         0.0   \n",
       "836  Prairie Provinces, 1918. Cereal crop drought o...         0.0   \n",
       "838  Prairie Provinces, 1917. Cereal crop drought o...         0.0   \n",
       "846  Prairie Provinces, 1914. Cereal crop drought o...         0.0   \n",
       "852  Prairie Provinces, 1910. Cereal crop drought o...         0.0   \n",
       "\n",
       "     INJURED / INFECTED  EVACUATED  ...  FEDERAL DFAA PAYMENTS  \\\n",
       "42                  NaN        NaN  ...                    NaN   \n",
       "43                  NaN        NaN  ...                    NaN   \n",
       "44                  NaN      576.0  ...                    NaN   \n",
       "45                  NaN        NaN  ...                    NaN   \n",
       "46                  NaN        NaN  ...             30350000.0   \n",
       "..                  ...        ...  ...                    ...   \n",
       "835                 0.0        0.0  ...                    NaN   \n",
       "836                 0.0        0.0  ...                    NaN   \n",
       "838                 0.0        0.0  ...                    NaN   \n",
       "846                 0.0        0.0  ...                    NaN   \n",
       "852                 0.0        0.0  ...                    NaN   \n",
       "\n",
       "     PROVINCIAL DFAA PAYMENTS PROVINCIAL DEPARTMENT PAYMENTS  MUNICIPAL COSTS  \\\n",
       "42                        NaN                            NaN              NaN   \n",
       "43                        NaN                            NaN              NaN   \n",
       "44                        NaN                            NaN              NaN   \n",
       "45                        NaN                            NaN              NaN   \n",
       "46                        NaN                            NaN              NaN   \n",
       "..                        ...                            ...              ...   \n",
       "835                       NaN                            NaN              NaN   \n",
       "836                       NaN                            NaN              NaN   \n",
       "838                       NaN                            NaN              NaN   \n",
       "846                       NaN                            NaN              NaN   \n",
       "852                       NaN                            NaN              NaN   \n",
       "\n",
       "     OGD COSTS  INSURANCE PAYMENTS  NGO PAYMENTS  UTILITY - PEOPLE AFFECTED  \\\n",
       "42         NaN                 NaN           NaN                    10038.0   \n",
       "43         NaN                 NaN           NaN                    69000.0   \n",
       "44         NaN                 NaN           NaN                        NaN   \n",
       "45         NaN                 NaN           NaN                   225000.0   \n",
       "46         NaN                 NaN           NaN                   390600.0   \n",
       "..         ...                 ...           ...                        ...   \n",
       "835        NaN                 NaN           NaN                        0.0   \n",
       "836        NaN                 NaN           NaN                        0.0   \n",
       "838        NaN                 NaN           NaN                        0.0   \n",
       "846        NaN                 NaN           NaN                        0.0   \n",
       "852        NaN                 NaN           NaN                        0.0   \n",
       "\n",
       "     MAGNITUDE  Unnamed: 22  \n",
       "42         NaN          NaN  \n",
       "43         NaN          NaN  \n",
       "44         NaN          NaN  \n",
       "45         NaN          NaN  \n",
       "46         NaN          NaN  \n",
       "..         ...          ...  \n",
       "835        0.0          NaN  \n",
       "836        0.0          NaN  \n",
       "838        0.0          NaN  \n",
       "846        0.0          NaN  \n",
       "852        0.0          NaN  \n",
       "\n",
       "[483 rows x 23 columns]"
      ]
     },
     "execution_count": 8,
     "metadata": {},
     "output_type": "execute_result"
    }
   ],
   "source": [
    "data = data[data['EVENT SUBGROUP']=='Meteorological - Hydrological']\n",
    "data"
   ]
  },
  {
   "cell_type": "code",
   "execution_count": 9,
   "id": "f06f967e-86e7-49a0-86a8-743f848ba437",
   "metadata": {},
   "outputs": [
    {
     "data": {
      "text/html": [
       "<div>\n",
       "<style scoped>\n",
       "    .dataframe tbody tr th:only-of-type {\n",
       "        vertical-align: middle;\n",
       "    }\n",
       "\n",
       "    .dataframe tbody tr th {\n",
       "        vertical-align: top;\n",
       "    }\n",
       "\n",
       "    .dataframe thead th {\n",
       "        text-align: right;\n",
       "    }\n",
       "</style>\n",
       "<table border=\"1\" class=\"dataframe\">\n",
       "  <thead>\n",
       "    <tr style=\"text-align: right;\">\n",
       "      <th></th>\n",
       "      <th>EVENT CATEGORY</th>\n",
       "      <th>EVENT GROUP</th>\n",
       "      <th>EVENT SUBGROUP</th>\n",
       "      <th>EVENT TYPE</th>\n",
       "      <th>PLACE</th>\n",
       "      <th>EVENT START DATE</th>\n",
       "      <th>COMMENTS</th>\n",
       "      <th>FATALITIES</th>\n",
       "      <th>INJURED / INFECTED</th>\n",
       "      <th>EVACUATED</th>\n",
       "      <th>...</th>\n",
       "      <th>FEDERAL DFAA PAYMENTS</th>\n",
       "      <th>PROVINCIAL DFAA PAYMENTS</th>\n",
       "      <th>PROVINCIAL DEPARTMENT PAYMENTS</th>\n",
       "      <th>MUNICIPAL COSTS</th>\n",
       "      <th>OGD COSTS</th>\n",
       "      <th>INSURANCE PAYMENTS</th>\n",
       "      <th>NGO PAYMENTS</th>\n",
       "      <th>UTILITY - PEOPLE AFFECTED</th>\n",
       "      <th>MAGNITUDE</th>\n",
       "      <th>Unnamed: 22</th>\n",
       "    </tr>\n",
       "  </thead>\n",
       "  <tbody>\n",
       "    <tr>\n",
       "      <th>42</th>\n",
       "      <td>Disaster</td>\n",
       "      <td>Natural</td>\n",
       "      <td>Meteorological - Hydrological</td>\n",
       "      <td>Storm - Unspecified / Other</td>\n",
       "      <td>Christmas Island NS</td>\n",
       "      <td>12/25/2016 12:00:00 AM</td>\n",
       "      <td>Christmas Island NS, December 25, 2016. Reside...</td>\n",
       "      <td>NaN</td>\n",
       "      <td>NaN</td>\n",
       "      <td>NaN</td>\n",
       "      <td>...</td>\n",
       "      <td>NaN</td>\n",
       "      <td>NaN</td>\n",
       "      <td>NaN</td>\n",
       "      <td>NaN</td>\n",
       "      <td>NaN</td>\n",
       "      <td>NaN</td>\n",
       "      <td>NaN</td>\n",
       "      <td>10038.0</td>\n",
       "      <td>NaN</td>\n",
       "      <td>NaN</td>\n",
       "    </tr>\n",
       "    <tr>\n",
       "      <th>43</th>\n",
       "      <td>Disaster</td>\n",
       "      <td>Natural</td>\n",
       "      <td>Meteorological - Hydrological</td>\n",
       "      <td>Winter Storm</td>\n",
       "      <td>Nova Scotia and Prince Edward Island</td>\n",
       "      <td>11/27/2016 12:00:00 AM</td>\n",
       "      <td>Nova Scotia and Prince Edward Island, November...</td>\n",
       "      <td>NaN</td>\n",
       "      <td>NaN</td>\n",
       "      <td>NaN</td>\n",
       "      <td>...</td>\n",
       "      <td>NaN</td>\n",
       "      <td>NaN</td>\n",
       "      <td>NaN</td>\n",
       "      <td>NaN</td>\n",
       "      <td>NaN</td>\n",
       "      <td>NaN</td>\n",
       "      <td>NaN</td>\n",
       "      <td>69000.0</td>\n",
       "      <td>NaN</td>\n",
       "      <td>NaN</td>\n",
       "    </tr>\n",
       "    <tr>\n",
       "      <th>44</th>\n",
       "      <td>Disaster</td>\n",
       "      <td>Natural</td>\n",
       "      <td>Meteorological - Hydrological</td>\n",
       "      <td>Flood</td>\n",
       "      <td>Red Earth First Nation SK</td>\n",
       "      <td>11/14/2016 12:00:00 AM</td>\n",
       "      <td>Red Earth First Nation SK, July 14-18, 2016. H...</td>\n",
       "      <td>NaN</td>\n",
       "      <td>NaN</td>\n",
       "      <td>576.0</td>\n",
       "      <td>...</td>\n",
       "      <td>NaN</td>\n",
       "      <td>NaN</td>\n",
       "      <td>NaN</td>\n",
       "      <td>NaN</td>\n",
       "      <td>NaN</td>\n",
       "      <td>NaN</td>\n",
       "      <td>NaN</td>\n",
       "      <td>NaN</td>\n",
       "      <td>NaN</td>\n",
       "      <td>NaN</td>\n",
       "    </tr>\n",
       "    <tr>\n",
       "      <th>45</th>\n",
       "      <td>Disaster</td>\n",
       "      <td>Natural</td>\n",
       "      <td>Meteorological - Hydrological</td>\n",
       "      <td>Storm - Unspecified / Other</td>\n",
       "      <td>South Coast and Lower Mainland British Columbia</td>\n",
       "      <td>10/12/2016 12:00:00 AM</td>\n",
       "      <td>South Coast and Lower Mainland British Columbi...</td>\n",
       "      <td>1.0</td>\n",
       "      <td>NaN</td>\n",
       "      <td>NaN</td>\n",
       "      <td>...</td>\n",
       "      <td>NaN</td>\n",
       "      <td>NaN</td>\n",
       "      <td>NaN</td>\n",
       "      <td>NaN</td>\n",
       "      <td>NaN</td>\n",
       "      <td>NaN</td>\n",
       "      <td>NaN</td>\n",
       "      <td>225000.0</td>\n",
       "      <td>NaN</td>\n",
       "      <td>NaN</td>\n",
       "    </tr>\n",
       "    <tr>\n",
       "      <th>46</th>\n",
       "      <td>Disaster</td>\n",
       "      <td>Natural</td>\n",
       "      <td>Meteorological - Hydrological</td>\n",
       "      <td>Flood</td>\n",
       "      <td>Nova Scotia, Prince Edward Island and Newfound...</td>\n",
       "      <td>10/9/2016 12:00:00 AM</td>\n",
       "      <td>Nova Scotia, Prince Edward Island and Newfound...</td>\n",
       "      <td>NaN</td>\n",
       "      <td>NaN</td>\n",
       "      <td>NaN</td>\n",
       "      <td>...</td>\n",
       "      <td>30350000.0</td>\n",
       "      <td>NaN</td>\n",
       "      <td>NaN</td>\n",
       "      <td>NaN</td>\n",
       "      <td>NaN</td>\n",
       "      <td>NaN</td>\n",
       "      <td>NaN</td>\n",
       "      <td>390600.0</td>\n",
       "      <td>NaN</td>\n",
       "      <td>NaN</td>\n",
       "    </tr>\n",
       "    <tr>\n",
       "      <th>...</th>\n",
       "      <td>...</td>\n",
       "      <td>...</td>\n",
       "      <td>...</td>\n",
       "      <td>...</td>\n",
       "      <td>...</td>\n",
       "      <td>...</td>\n",
       "      <td>...</td>\n",
       "      <td>...</td>\n",
       "      <td>...</td>\n",
       "      <td>...</td>\n",
       "      <td>...</td>\n",
       "      <td>...</td>\n",
       "      <td>...</td>\n",
       "      <td>...</td>\n",
       "      <td>...</td>\n",
       "      <td>...</td>\n",
       "      <td>...</td>\n",
       "      <td>...</td>\n",
       "      <td>...</td>\n",
       "      <td>...</td>\n",
       "      <td>...</td>\n",
       "    </tr>\n",
       "    <tr>\n",
       "      <th>835</th>\n",
       "      <td>Disaster</td>\n",
       "      <td>Natural</td>\n",
       "      <td>Meteorological - Hydrological</td>\n",
       "      <td>Drought</td>\n",
       "      <td>Prairie Provinces</td>\n",
       "      <td>1/1/1919 12:00:00 AM</td>\n",
       "      <td>Prairie Provinces, 1919. Cereal crop drought o...</td>\n",
       "      <td>0.0</td>\n",
       "      <td>0.0</td>\n",
       "      <td>0.0</td>\n",
       "      <td>...</td>\n",
       "      <td>NaN</td>\n",
       "      <td>NaN</td>\n",
       "      <td>NaN</td>\n",
       "      <td>NaN</td>\n",
       "      <td>NaN</td>\n",
       "      <td>NaN</td>\n",
       "      <td>NaN</td>\n",
       "      <td>0.0</td>\n",
       "      <td>0.0</td>\n",
       "      <td>NaN</td>\n",
       "    </tr>\n",
       "    <tr>\n",
       "      <th>836</th>\n",
       "      <td>Disaster</td>\n",
       "      <td>Natural</td>\n",
       "      <td>Meteorological - Hydrological</td>\n",
       "      <td>Drought</td>\n",
       "      <td>Prairie Provinces</td>\n",
       "      <td>1/1/1918 12:00:00 AM</td>\n",
       "      <td>Prairie Provinces, 1918. Cereal crop drought o...</td>\n",
       "      <td>0.0</td>\n",
       "      <td>0.0</td>\n",
       "      <td>0.0</td>\n",
       "      <td>...</td>\n",
       "      <td>NaN</td>\n",
       "      <td>NaN</td>\n",
       "      <td>NaN</td>\n",
       "      <td>NaN</td>\n",
       "      <td>NaN</td>\n",
       "      <td>NaN</td>\n",
       "      <td>NaN</td>\n",
       "      <td>0.0</td>\n",
       "      <td>0.0</td>\n",
       "      <td>NaN</td>\n",
       "    </tr>\n",
       "    <tr>\n",
       "      <th>838</th>\n",
       "      <td>Disaster</td>\n",
       "      <td>Natural</td>\n",
       "      <td>Meteorological - Hydrological</td>\n",
       "      <td>Drought</td>\n",
       "      <td>Prairie Provinces</td>\n",
       "      <td>1/1/1917 12:00:00 AM</td>\n",
       "      <td>Prairie Provinces, 1917. Cereal crop drought o...</td>\n",
       "      <td>0.0</td>\n",
       "      <td>0.0</td>\n",
       "      <td>0.0</td>\n",
       "      <td>...</td>\n",
       "      <td>NaN</td>\n",
       "      <td>NaN</td>\n",
       "      <td>NaN</td>\n",
       "      <td>NaN</td>\n",
       "      <td>NaN</td>\n",
       "      <td>NaN</td>\n",
       "      <td>NaN</td>\n",
       "      <td>0.0</td>\n",
       "      <td>0.0</td>\n",
       "      <td>NaN</td>\n",
       "    </tr>\n",
       "    <tr>\n",
       "      <th>846</th>\n",
       "      <td>Disaster</td>\n",
       "      <td>Natural</td>\n",
       "      <td>Meteorological - Hydrological</td>\n",
       "      <td>Drought</td>\n",
       "      <td>Prairie Provinces</td>\n",
       "      <td>1/1/1914 12:00:00 AM</td>\n",
       "      <td>Prairie Provinces, 1914. Cereal crop drought o...</td>\n",
       "      <td>0.0</td>\n",
       "      <td>0.0</td>\n",
       "      <td>0.0</td>\n",
       "      <td>...</td>\n",
       "      <td>NaN</td>\n",
       "      <td>NaN</td>\n",
       "      <td>NaN</td>\n",
       "      <td>NaN</td>\n",
       "      <td>NaN</td>\n",
       "      <td>NaN</td>\n",
       "      <td>NaN</td>\n",
       "      <td>0.0</td>\n",
       "      <td>0.0</td>\n",
       "      <td>NaN</td>\n",
       "    </tr>\n",
       "    <tr>\n",
       "      <th>852</th>\n",
       "      <td>Disaster</td>\n",
       "      <td>Natural</td>\n",
       "      <td>Meteorological - Hydrological</td>\n",
       "      <td>Drought</td>\n",
       "      <td>Prairie Provinces</td>\n",
       "      <td>1/1/1910 12:00:00 AM</td>\n",
       "      <td>Prairie Provinces, 1910. Cereal crop drought o...</td>\n",
       "      <td>0.0</td>\n",
       "      <td>0.0</td>\n",
       "      <td>0.0</td>\n",
       "      <td>...</td>\n",
       "      <td>NaN</td>\n",
       "      <td>NaN</td>\n",
       "      <td>NaN</td>\n",
       "      <td>NaN</td>\n",
       "      <td>NaN</td>\n",
       "      <td>NaN</td>\n",
       "      <td>NaN</td>\n",
       "      <td>0.0</td>\n",
       "      <td>0.0</td>\n",
       "      <td>NaN</td>\n",
       "    </tr>\n",
       "  </tbody>\n",
       "</table>\n",
       "<p>483 rows × 23 columns</p>\n",
       "</div>"
      ],
      "text/plain": [
       "    EVENT CATEGORY EVENT GROUP                 EVENT SUBGROUP  \\\n",
       "42        Disaster     Natural  Meteorological - Hydrological   \n",
       "43        Disaster     Natural  Meteorological - Hydrological   \n",
       "44        Disaster     Natural  Meteorological - Hydrological   \n",
       "45        Disaster     Natural  Meteorological - Hydrological   \n",
       "46        Disaster     Natural  Meteorological - Hydrological   \n",
       "..             ...         ...                            ...   \n",
       "835       Disaster     Natural  Meteorological - Hydrological   \n",
       "836       Disaster     Natural  Meteorological - Hydrological   \n",
       "838       Disaster     Natural  Meteorological - Hydrological   \n",
       "846       Disaster     Natural  Meteorological - Hydrological   \n",
       "852       Disaster     Natural  Meteorological - Hydrological   \n",
       "\n",
       "                      EVENT TYPE  \\\n",
       "42   Storm - Unspecified / Other   \n",
       "43                  Winter Storm   \n",
       "44                         Flood   \n",
       "45   Storm - Unspecified / Other   \n",
       "46                         Flood   \n",
       "..                           ...   \n",
       "835                      Drought   \n",
       "836                      Drought   \n",
       "838                      Drought   \n",
       "846                      Drought   \n",
       "852                      Drought   \n",
       "\n",
       "                                                 PLACE  \\\n",
       "42                                 Christmas Island NS   \n",
       "43                Nova Scotia and Prince Edward Island   \n",
       "44                           Red Earth First Nation SK   \n",
       "45     South Coast and Lower Mainland British Columbia   \n",
       "46   Nova Scotia, Prince Edward Island and Newfound...   \n",
       "..                                                 ...   \n",
       "835                                  Prairie Provinces   \n",
       "836                                  Prairie Provinces   \n",
       "838                                  Prairie Provinces   \n",
       "846                                  Prairie Provinces   \n",
       "852                                  Prairie Provinces   \n",
       "\n",
       "           EVENT START DATE  \\\n",
       "42   12/25/2016 12:00:00 AM   \n",
       "43   11/27/2016 12:00:00 AM   \n",
       "44   11/14/2016 12:00:00 AM   \n",
       "45   10/12/2016 12:00:00 AM   \n",
       "46    10/9/2016 12:00:00 AM   \n",
       "..                      ...   \n",
       "835    1/1/1919 12:00:00 AM   \n",
       "836    1/1/1918 12:00:00 AM   \n",
       "838    1/1/1917 12:00:00 AM   \n",
       "846    1/1/1914 12:00:00 AM   \n",
       "852    1/1/1910 12:00:00 AM   \n",
       "\n",
       "                                              COMMENTS  FATALITIES  \\\n",
       "42   Christmas Island NS, December 25, 2016. Reside...         NaN   \n",
       "43   Nova Scotia and Prince Edward Island, November...         NaN   \n",
       "44   Red Earth First Nation SK, July 14-18, 2016. H...         NaN   \n",
       "45   South Coast and Lower Mainland British Columbi...         1.0   \n",
       "46   Nova Scotia, Prince Edward Island and Newfound...         NaN   \n",
       "..                                                 ...         ...   \n",
       "835  Prairie Provinces, 1919. Cereal crop drought o...         0.0   \n",
       "836  Prairie Provinces, 1918. Cereal crop drought o...         0.0   \n",
       "838  Prairie Provinces, 1917. Cereal crop drought o...         0.0   \n",
       "846  Prairie Provinces, 1914. Cereal crop drought o...         0.0   \n",
       "852  Prairie Provinces, 1910. Cereal crop drought o...         0.0   \n",
       "\n",
       "     INJURED / INFECTED  EVACUATED  ...  FEDERAL DFAA PAYMENTS  \\\n",
       "42                  NaN        NaN  ...                    NaN   \n",
       "43                  NaN        NaN  ...                    NaN   \n",
       "44                  NaN      576.0  ...                    NaN   \n",
       "45                  NaN        NaN  ...                    NaN   \n",
       "46                  NaN        NaN  ...             30350000.0   \n",
       "..                  ...        ...  ...                    ...   \n",
       "835                 0.0        0.0  ...                    NaN   \n",
       "836                 0.0        0.0  ...                    NaN   \n",
       "838                 0.0        0.0  ...                    NaN   \n",
       "846                 0.0        0.0  ...                    NaN   \n",
       "852                 0.0        0.0  ...                    NaN   \n",
       "\n",
       "     PROVINCIAL DFAA PAYMENTS PROVINCIAL DEPARTMENT PAYMENTS  MUNICIPAL COSTS  \\\n",
       "42                        NaN                            NaN              NaN   \n",
       "43                        NaN                            NaN              NaN   \n",
       "44                        NaN                            NaN              NaN   \n",
       "45                        NaN                            NaN              NaN   \n",
       "46                        NaN                            NaN              NaN   \n",
       "..                        ...                            ...              ...   \n",
       "835                       NaN                            NaN              NaN   \n",
       "836                       NaN                            NaN              NaN   \n",
       "838                       NaN                            NaN              NaN   \n",
       "846                       NaN                            NaN              NaN   \n",
       "852                       NaN                            NaN              NaN   \n",
       "\n",
       "     OGD COSTS  INSURANCE PAYMENTS  NGO PAYMENTS  UTILITY - PEOPLE AFFECTED  \\\n",
       "42         NaN                 NaN           NaN                    10038.0   \n",
       "43         NaN                 NaN           NaN                    69000.0   \n",
       "44         NaN                 NaN           NaN                        NaN   \n",
       "45         NaN                 NaN           NaN                   225000.0   \n",
       "46         NaN                 NaN           NaN                   390600.0   \n",
       "..         ...                 ...           ...                        ...   \n",
       "835        NaN                 NaN           NaN                        0.0   \n",
       "836        NaN                 NaN           NaN                        0.0   \n",
       "838        NaN                 NaN           NaN                        0.0   \n",
       "846        NaN                 NaN           NaN                        0.0   \n",
       "852        NaN                 NaN           NaN                        0.0   \n",
       "\n",
       "     MAGNITUDE  Unnamed: 22  \n",
       "42         NaN          NaN  \n",
       "43         NaN          NaN  \n",
       "44         NaN          NaN  \n",
       "45         NaN          NaN  \n",
       "46         NaN          NaN  \n",
       "..         ...          ...  \n",
       "835        0.0          NaN  \n",
       "836        0.0          NaN  \n",
       "838        0.0          NaN  \n",
       "846        0.0          NaN  \n",
       "852        0.0          NaN  \n",
       "\n",
       "[483 rows x 23 columns]"
      ]
     },
     "execution_count": 9,
     "metadata": {},
     "output_type": "execute_result"
    }
   ],
   "source": [
    "data = data[data['EVENT SUBGROUP']=='Meteorological - Hydrological']\n",
    "data"
   ]
  },
  {
   "cell_type": "markdown",
   "id": "d4e00b69-e528-4fad-8a47-7d3c35b471a3",
   "metadata": {},
   "source": [
    "You can now see our data frame only includes events where the `EVENT SUBGROUP` is equal to 'Meteorological - Hydrological'. Look under `EVENT TYPE` to see more information about what each of these events were. \n",
    " \n",
    "# \\# keep in mind the readers probably don't know how to look into the dataframe to find more information. Instead, add a section where you do that."
   ]
  },
  {
   "cell_type": "markdown",
   "id": "d9178d5c-e107-48a7-a6d2-cf63f98a781f",
   "metadata": {},
   "source": [
    "# Explore"
   ]
  },
  {
   "cell_type": "markdown",
   "id": "1e73e77b-6fc2-41c1-a516-d7f1c10e4eba",
   "metadata": {},
   "source": [
    "The next part of the data science process is generating a visualization to help us answer our question. This part of the data science process is really exciting! A visualization is often a graph, but it can be any way that we can visually show our data. In our case, we are going to use a scatter plot. A visualization helps to understand what kind of story our data is telling us. \n",
    "\n",
    "Run the code below to generate a scatter plot from the data that will help us to answer our question. Each point represents a specific event.\n",
    "\n",
    "The size of the points represents the estimated cost, and the color represents the total insurance payments paid out for that particular event."
   ]
  },
  {
   "cell_type": "code",
   "execution_count": 13,
   "id": "5f279ada-95a5-4042-bd70-c37299d6dc46",
   "metadata": {},
   "outputs": [
    {
     "data": {
      "application/vnd.plotly.v1+json": {
       "config": {
        "plotlyServerURL": "https://plot.ly"
       },
       "data": [
        {
         "customdata": [
          [
           "Christmas Island NS, December 25, 2016. Residents of Christmas Island were left without power on Christmas morning due to a strong windstorm that blew in early in the morning. There were 21 reported power outages in the region affecting 3,346 customers in total (approximately 10,038 individuals). Power outages were reported as early as 5 am, with more power outages occurring periodically throughout the day. Areas affected by the power outages included Beaver Cove, Barrachois, French Vale, Bramber, Digby, Port Hawkesbury, Lower Sackville, East River and Mill Cove. Wind warnings were in effect for Sydney Metro and Cape Bretton county. The strong winds brought rain resulting in some localized flooding. Debris from the wind accompanied by the rain created poor driving conditions throughout the province. Nearly all power was restored later in the evening.",
           "Christmas Island NS"
          ],
          [
           "South Coast and Lower Mainland British Columbia, October 12-16, 2016. The remnants of Super Typhoon Songda hit British Columbia?s southern coast with a trio of fall storms. The first storm occurred on October 12 and pounded the coast with heavy rain before moving across the Lower Mainland early the next day. The storm brought 80 to 100 mm of rain to Howe Sound and Metro Vancouver. In North Vancouver, the heavy rain poured hard enough to down a tree, which damaged one residents home and a vehicle. The second and third storms arrived on October 14 and 15, which brought more strong wind and heavy rain to the region. A wind warning was issued for Greater Victoria, where there were wind gusts of up to 90 km/h. Powerful winds downed trees and power lines knocking out power to 75,000 B.C. Hydro customers (approximately 225,000 individuals) across Vancouver Island and the Lower Mainland. A fallen tree struck and killed a 15 year old by near Clayton Heights. In total, during the course of the three storms, there were 250 downed trees in Vancouver and 202 mm of rain had accumulated in North Vancouver.",
           "South Coast and Lower Mainland British Columbia"
          ],
          [
           "South Coast and Lower Mainland British Columbia, October 6-8, 2016. Strong winds gusting up to 117 km/h battered eastern Vancouver Island, the Sunshine Coast and the Lower Mainland. On October 6, Vancouver reported wind gusts of 56 km/h, Victoria 36 km/h, and Sisters Island as well as Trail Island both recorded wind gusts of 117 km/h. Severe winds downed trees and power lines, which knocked out power to 100,000 B.C. Hydro customers (approximately 300,000 individuals). In eastern Victoria Island 29,000 people lost power over night. The most severely impacted area was Courtenay where 12,000 people were without power. At the peak of the storm, 45,000 people lost power throughout the province. By October 8, 13,000 people were still without power and strong winds continued to affect parts of the province.",
           "South Coast and Lower Mainland British Columbia"
          ],
          [
           "South Coast and Lower Mainland British Columbia, March 9-10, 2016. A storm system off the coast of British Columbia generated a windstorm that impacted Vancouver Island, the southwest coast and the lower mainland. The storm produced up to 100 mm of rain and wind gusts of over 100 km/h in some parts. Heavy rainfall caused localized flooding in Comox Valley, Port Mellon and Port Alberni as well as caused a mudslide in Cowichan Valley. Strong winds and high tide contributed towards a storm surge that accompanied the storm, causing coastal flooding in Delta, Richmond and White Rock. The strong winds were attributed for causing the most significant damages including fallen trees that downed power lines, resulting in 160,000 BC Hydro customer (approximately 480,000 individuals) being without power. Due to the power outages, 11 schools in Surrey, five in Abbotsford and five in Mission were closed. The powerful winds also damaged roofs, broke windows and even flipped over a Cessna aircraft. In addition, one individual in Port Moody was killed when a tree crashed through the roof of her home while she was inside.",
           "South Coast and Lower Mainland British Columbia"
          ],
          [
           "Lower Mainland British Columbia, August 29, 2015. One of the worst windstorms to affect the province in decades hit British Columbia?s Lower Mainland. The most affected areas included Surrey, Richmond, Abbotsford and the Western Fraser Valley. On Saturna Island, wind gusts were report to reached 117 km/h. The powerful winds subsequently fell hundreds of trees, which damaged homes, vehicles and power lines. In total, approximately 500,000 customers (1,500,000 individuals) lost power due to damaged power lines. Some areas lost power temporarily, while others were without power for over three days. Fallen trees caused damages to residential and commercial property. Debris and traffic light outages created severe traffic congestion. There were numerous reports of an undetermined number of people being injured due to fallen trees and debris. One individual was critically injured and taken to the hospital after a tree fell on her while she was outside with her daughter. Additionally, a Vancouver Sky Train was damaged by a fallen tree resulting in service delays. The strong winds that fell hundreds of trees also caused the closure of Stanley Park, Pacific National Exhibition (PNE) and ferry crossings.",
           "Lower Mainland British Columbia"
          ],
          [
           "Calgary AB, July 12, 2010. A massive 30-minute long hailstorm pelted the city of Calgary on July 12. The hail ranged from 4 cm in diameter to baseball-sized hail balls. Apart from the hail, the storm brought along with it heavy rain, strong wind gusts, thunder and lightning. The storm caused severe damages throughout the city as hail broke windows, dented cars and destroyed crops. The hailstorm decimated over 90,000 hectares of cropland near Strathmore and Hussar. Crop damage claims were estimated at $18.5 million. In total, the estimated dollar value of damage claims was over $400 million, making it the costliest hailstorm in Canada to date.",
           "Calgary AB"
          ],
          [
           "Montreal, Alma, La Tuque and Baie-Saint-Paul QC, May 14, 2009. Winds gusting up to 100 km/h wreaked havoc across Quebec on May 14. An 18-wheeler was one of six tractor-trailers pushed over on its side near Beloeil. Strong winds cut electricity to 70,000 people by downing hydro lines.  Winds also inflicted significant property damage: in Ste-Julie, winds uprooted hundreds of trees and tossed a gazebo and trampoline into the air where there were left dangling from power lines; in Alma, fallen trees crossed power lines, igniting a brush fire; in the La Tuque region, winds blew shingles off a hotel roof and dropped a street light on a home; and in Baie-Saint-Paul, winds snapped hydro poles in half and tore away roofs.",
           "Montreal, Alma, La Tuque and Baie-Saint-Paul QC"
          ],
          [
           "South-Central Manitoba, May 16-17, 2008. Over the weekend, Manitoba experienced a wind storm producing damaging winds that caused extensive impacts to the public sector drainage system across a wide area of central Manitoba. Affected areas include the rural municipalities of Cartier, Grey, Macdonald, Dufferin, Morris and Montcalm.",
           "South-Central Manitoba"
          ],
          [
           "Greater Vancouver Area BC, November 23-25, 1998. A powerful windstorm, accompanied with rain hit the Greater Vancouver Area the night of November 23, toppling over trees and blowing shingles off rooftops. Winds of 96-105 km/h were reported, and up to 22.4 mm of rain fell, making this the worst storm in 10 years.  A second windstorm hit the area the following day (within 18 hours), with winds up to 90 km/h over the Strait of Georgia and 60 km/h on land. Ferries cancelled several runs November 29. 200,000 homes lost power and 5,000 homes went without telephone lines; however, the majority of this was restored quickly by the power companies. Several roads and schools were closed. Power was not restored to everyone until November 27.",
           "Greater Vancouver Area, Southern BC"
          ],
          [
           "South Dumfries ON, 1996.",
           "South Dumfries ON"
          ],
          [
           "Ontario and Quebec, November 12-13, 1992.",
           "Ontario and Quebec"
          ],
          [
           "Central Ontario, November 30, 1991.",
           "Central Ontario"
          ],
          [
           "Vernon BC, October 16, 1991.",
           "Vernon BC"
          ],
          [
           "Chesley, Bruce County ON, April 30, 1984.",
           "Chesley ON"
          ],
          [
           "Edmonton AB, August 3, 1983.  Hail the size of golf balls smashed windshields, stripped leaves and damaged roofs.",
           "Edmonton AB"
          ],
          [
           "Newfoundland, May-July 1974. Severe ice conditions in Newfoundland resulted in losses in income and gear to fishermen.",
           "Newfoundland"
          ]
         ],
         "hovertemplate": "EVENT TYPE=Storm - Unspecified / Other<br>NORMALIZED TOTAL COST=%{marker.size}<br>INSURANCE PAYMENTS=%{y}<br>COMMENTS=%{customdata[0]}<br>PLACE=%{customdata[1]}<extra></extra>",
         "legendgroup": "Storm - Unspecified / Other",
         "marker": {
          "color": "#636efa",
          "size": [
           0,
           0,
           0,
           0,
           1647772.5,
           20600858.4,
           0,
           16537.9,
           921732,
           6740.4,
           5428571.4,
           433500.7,
           318604.1,
           3867920.8,
           2278141.1,
           1179790.5
          ],
          "sizemode": "area",
          "sizeref": 761618.9102500001,
          "symbol": "circle"
         },
         "mode": "markers",
         "name": "Storm - Unspecified / Other",
         "orientation": "v",
         "showlegend": true,
         "type": "scatter",
         "visible": true,
         "x": [
          0,
          0,
          0,
          0,
          1647772.5,
          20600858.4,
          0,
          16537.9,
          921732,
          6740.4,
          5428571.4,
          433500.7,
          318604.1,
          3867920.8,
          2278141.1,
          1179790.5
         ],
         "xaxis": "x",
         "y": [
          null,
          null,
          null,
          null,
          34768000,
          400000000,
          null,
          null,
          14025688,
          null,
          76000000,
          5982309,
          4396737,
          39066000,
          22060000,
          null
         ],
         "yaxis": "y"
        },
        {
         "customdata": [
          [
           "Nova Scotia and Prince Edward Island, November 27-29, 2016. An early winter storm hit the Maritime provinces affecting Nova Scotia and Prince Edward Island on November 27. The storm dumped 15 cm of snow on the mainland of Nova Scotia and produced strong winds in Cape Breton. A mix of messy weather consisting of freezing rain, ice and snow created dangerous driving conditions. In Nova Scotia, the Canso Causeway was closed to high-sided vehicles and Highway 104 was closed in certain sections due to poor visibility. One transport truck over turned on the Seal Island Bridge in Cape Breton due to strong wind gusts of up to 110 km/h. In Nova Scotia 11,200 customers (approximately 33,600 individuals) lost power, while in P.E.I 12,000 customers (approximately 36,000 individuals) were without power. In P.E.I power remained out for some residents until November 29.",
           "Nova Scotia and Prince Edward Island"
          ],
          [
           "Southern Ontario, March 23-26, 2016. A warm front over southern Ontario caused snow, rain and freezing rain to fall over a three-day period. The wet weather began as snow for many regions in the Greater Toronto Area (GTA), and then briefly turned into rain before freezing rain occurred overnight. On March 24, freezing rain impacted regions west of Toronto and the GTA. Highly elevated areas including the Niagara escarpment, Dundalk Highlands and parts of the GTA received 24 hours of freezing rain. Freezing rain occurred throughout southern Ontario until March 26, leaving several communities with significant ice accumulation including 35 mm in Fergus, 33 mm in Orangeville, 20 mm Brampton and Newmarket as well as 10 mm north of Barrie and Toronto. The freezing rain caused damages to personal property and municipal infrastructure due to the significant ice buildup. Downed trees destroyed power lines and caused damages to homes, outbuildings and vehicles. Approximately 100,000 hydro customers (300,000 individuals) were without power during the storm. Additionally, the storm caused the cancelation of in-going and out-going flights at the Toronto Pearson International Airport and Billy Bishop Toronto City Airport as well as resulted in the closure and cancelation of schools and municipal busses.",
           "Southern Ontario"
          ],
          [
           "Ontario, Quebec, New Brunswick, Nove Scotia, Prince Edward Island and Newfoundland, February 24-26, 2016. A storm system tracked its way northeast into the Great Lakes from the United States in late February. The system moved towards eastern Canada, causing widespread damages to Ontario, Quebec, New Brunswick, Nova Scotia, Prince Edward Island and Newfoundland. On February 24, freezing rain caused up to 25 mm of ice accumulation to build in parts of Ontario, Quebec and New Brunswick. On February 25, Quebec and New Brunswick experienced several hours of continued freezing rain. Heavy rain and thunderstorms trailed behind the freezing rain resulting in total rainfalls of 51 mm in Hamilton, Ontario, 36 mm in Lennoxville, Quebec and 68 mm in Gray River, Newfoundland. A combination of rain and mild weather that melted ice and snow resulted in localized flooding for numerous communities. Flooded basements were reported in Cornwall, Ontario, multiple underpasses were closed due to flooding in Montreal, Quebec, while local fire departments in northern New Brunswick warned drivers of poor road conditions due to ice ruts and isolated flooding. Multiple local states of emergency were declared in the Eastern Townships of Quebec where ice breakup resulted in the flooding of local rivers. Approximately 200 residents were evacuated and over 50 homes in Beauceville, Quebec were damaged by floodwaters. Fallen trees weighed down by the heavy ice and snow damaged power lines resulting in widespread power outages. Quebec was hit the hardest with over 250,000 hydro customers (approximately 750,000 individuals) affected by the power outages.",
           "Ontario, Quebec, New Brunswick, Nove Scotia, Prince Edward Island and Newfoundland"
          ],
          [
           "Maritime Provinces, February 15-17, 2015. A major storm system formed off the United States east coast and moved towards the north Atlantic. On February 15, the storm system hit Nova Scotia bringing with it snow, ice and rain. In Halifax the weather changed from snow to rain, creating flooding in the streets, which turned into an overnight flash freeze. Greenwood, Nova Scotia received 56 cm of snow, while in Cape Breton Island wind gusts were recorded of up to 176 km/h. The next day in New Brunswick, heavy snow impacted Moncton where it snowed up to 58 cm. The hardest hit area was Prince Edward Island where it snowed over 80 cm in Charlottetown. During the storm, damages were caused by strong winds that downed trees and power lines leaving approximately 4000 customers (12,000 individuals) without power in New Brunswick. Flooding brought on by the rain also caused damages to city streets and created dangerous driving conditions as black ice formed when the temperature dropped. The huge amount of snow that fell on the region buried vehicles, left people stranded in their homes and resulted in the closure of numerous schools and businesses. In New Annan, Prince Edward Island 20 people were left homeless in blizzard conditions as fires irrupted in a motel where 18 people had to be evacuated as well as a home near Winsloe where two people had to be evacuated. In addition, an apartment fire in Fredericton resulted in the evacuation of one individual.",
           "Maritime Provinces"
          ],
          [
           "Qu?bec, December 21-26, 2013. A severe winter storm that formed over the Great Lakes region in Ontario tracked into Qu?bec bringing a mix of freezing rain, ice pellets and snow. The Eastern Townships region of the province was particularly impacted and at its peak, an estimated 51,000 Hydro Qu?bec customers were without power (153,000 individuals). The storm is attributed with the deaths of six people due to a mix of carbon monoxide poisoning and traffic accidents throughout the province. Power was fully restored to all customers by December 26, 2013.",
           "Qu?bec"
          ],
          [
           "Ontario, Quebec and New Brunswick, December 20, 2013 to January 03, 2014. A severe winter storm system that formed over the Great Lakes Region caused significant damage in Ontario and Quebec before moving east bringing freezing rain, ice pellets, and snow to New Brunswick. Starting December 20, southern Ontario received 20-30 mm of freezing rain during a two-day period. In Quebec, 53,000 people lost power due to the freezing rain, which damaged power lines. By December 23, over 54,000 NB Power customers were without power. A second storm tracked north along the Atlantic coast, bringing up to 30 cm of snow, causing more power outages and delays, which complicated recovery efforts. In total, over 88,000 NB Power customers (approximately 264,000 individuals) lost power over an 11-day period, with the last restorations occurring on January 3, 2014. In total, 11 individuals died during the ice storm from either vehicle accidents or carbon monoxide poisoning from the use of gas generators.",
           "Ontario, Quebec and New Brunswick"
          ],
          [
           "Lambton County ON, December 12-14, 2010. A severe winter storm caused severe road closures including London Line and Highway 402 in Lambton County. A county emergency was declared on December 13. The next day on December 14, a snow streamer accompanied by heavy winds swept through the region creating a hazard for drivers on the road. In total, there were approximately over 625 people stranded on area roads who had to be rescued and taken to warming centres. The majority of stranded drivers were trapped in their vehicles for up to six hours meaning that many people were forced to spend the night in their vehicles. The Canadian Armed Forces used two Griffin helicopters to assist the Ontario Provincial Police in rescuing 237 motorists stranded in their vehicles along Highway 402. One officer received a minor injury while trying to reach stranded motorists and one man was found dead from exposure to the elements.",
           "Lambton County ON"
          ],
          [
           "Prince Edward Island, December 13, 2008. An ice storm on December 13, downed 300 utility poles resulting in one of the worst power outages since the mid-1970 and cost Maritime Electric approximately $1.5 million to repair. Nearly 95 per cent of Islanders were without electricity, as freezing rain and an ice pellet-drizzle mix left thick layers of ice on roof tops, trees and transmission lines. Power poles were pulled down by ice-laden lines and strong winds. Across the province, makeshift shelters were organized in legion halls, fire stations, schools and community centres. Rescue teams and hydro crews arrived from outside the province to assist. The Canadian military also remained on standby at the Canadian Forces Base in Gagetown, NB.",
           "Prince Edward Island"
          ],
          [
           "New Brunswick, March 21, 2008. Freezing rain and ice downed trees and power lines in New Brunswick leaving some 6000 residents without electricity.",
           "New Brunswick"
          ],
          [
           "Prince Edward Island, January 28, 2008. An ice storm that brought snow, freezing rain and heavy rain knocked out power to over 20,000 customers (approximately 60,000 individuals) in Prince Edward Island. Snow followed by heavy rain created layers of ice that downed trees and power lines. Mostly central and western parts of the provinces were affected, with Prince County being hit the hardest by the power outages. The power outages lasted over a week and the province received help from New Brunswick Hydro workers. Heavy rain also caused flooding in parts of Cape Breton.",
           "Prince Edward Island"
          ],
          [
           "Quebec, January 9, 2008. A vigorous cold front brought very strong winds that caused power outages in several regions of Quebec. A total of 83,000 Hydro-Quebec customers (249,000 Individuals) across the province were left without electricity.",
           "Quebec"
          ],
          [
           "Maritime provinces, December 4, 2007. A powerful storm that dumped up to 40 cm of wet, heavy snow on parts of Atlantic Canada knocked out power in all four provinces leaving approximately 50,000 people without electricity.",
           "Martime Provinces"
          ],
          [
           "Russell ON, December 1-2, 2006.  A major blackout, caused by a freezing rain storm, left virtually the entire town without electricity. The mayor declared a state of emergency, which lasted for several days.",
           "Russell ON"
          ],
          [
           "Newfoundland, March 30-31, 2005. Heavy snow affected most of Newfoundland (excluding Labrador) while the Avalon and Burin peninsulas experienced rain. Gander saw 62 cm of snow and Grand Falls-Windsor was hit by 60 cm in one day. The Burin community of Salt Pond was plagued by over 150 mm of rain, St.Lawrence by over 80 mm, and St.John's saw 60 mm of rain. Bonavista Bay and Hare Bay were also affected.",
           "Newfoundland"
          ],
          [
           "Nova Scotia, February 18-20, 2004. A snowstorm known as \"White Juan\" hit the Maritimes resulting in record-breaking snowfall. On February 19, Halifax surpassed and almost doubled its previous snowfall record when the city received 88.5 cm. A four-day state of emergency was in place as well as a nine-hour curfew for three nights (except for essential workers). Thousands were left without power.",
           "Nova Scotia"
          ],
          [
           "Prince Edward Island, March 31, 2003.  Both freezing rain and heavy snowfall destroyed power lines in the province. Power losses were experienced in western PEI. The province also experienced flooding as a result of heavy rainfall that contributed to the spring runoff. See Nova Scotia and Newfoundland entries for more information on this event.",
           "Prince Edward Island"
          ],
          [
           "Quebec, February 10, 2001. Freezing rain, heavy snow and wind caused road accidents and homelessness. Six died in weather-related motor vehicle accidents.",
           "Quebec"
          ],
          [
           "Maritime Provinces, January 17-22, 2000.  An intense storm hit the maritimes for 6 days. Up to 70 centimetres of snow fell in some areas and temperatures plummeted to ?40 degrees Centigrade with the wind chill.  Flooding caused extensive damage to private property and public infrastructure in Newfoundland, New Brunswick, and P.E.I. Wind gusts hit 120 kilometres per hour.  Cape Breton, Shediac, New Brunswick and P.E.I were hit especially hard by the storm, as well as areas along the Gulf of St. Laurence and the Northumberland Strait in New Brunswick.",
           "Maritime Provinces"
          ],
          [
           "Toronto ON, January 13-15, 1999. Less than 2 weeks after Toronto was dumped with 40 cm of snow (see 1999.002), another major storm dumped 78 cm of snow on the city, bringing the total to 118 cm. The storm shut down parts of the city's transit system and left thousands stranded.  An estimated 1.4 million commuters were unable to use public transit. Pearson airport cancelled 70 flights and delayed others, schools were also closed.  Mayor Mel Lastman declared a second snow emergency and called in the military to help with snow cleanup, and city protection. More than 430 soldiers set up residence in Toronto.  Brawling between commuters ensued January 13, when the subway shut down.  Snowblowers from all over Ontario, and even PEI were called in to help.  At least 2 deaths occurred in Southern Ontario. Other areas that were affected were Chatham-Kent region, which also called in for military assistance.  The storm affected virtually all 7.1 million residents of Southern Ontario and continued east on January 15 to wreak havoc on the Maritimes.",
           "Toronto ON"
          ],
          [
           "Southern Ontario, January 3, 1999. Eleven people died January 3 while shovelling heavy wet snow from one of the fiercest storms to hit southern and central Ontario in years. Cities were buried under 40 cm of snow. The storm - which also packed powerful wind gusts up to 70 km/h, ice pellets and freezing rain - moved in a line from Windsor northeast to Ottawa and Quebec.  Many airports, including Pearson International in Toronto were closed.",
           "Southern Ontario"
          ],
          [
           "Ontario, Quebec and New Brunswick, January 4-10, 1998. Freezing rain (50 to >100mm) fell in a corridor extending from Kingston-to Ottawa-to Montreal to the Monteregie area south and east of Montreal, and on into New Brunswick, caused massive power outages. At the height of the disaster: More than 200 Quebec communities declared a disaster; 1,291,500 residences (affecting 3,228,750 people) were without power; 57 Ontario communities declared a disaster; 250,000 customers (1,500,000 people) were without power in Eastern Ontario.",
           "Ontario, Quebec and New Brunswick"
          ],
          [
           "Eastern Canada off Cape Sable Island NS, March 15, 1993. March blizzards caused by a mid-latitude cyclone which moved up the North American eastern seaboard eventually claimed more than 240 lives; at one point over 3 million people were left without electricity. On the 15th, the storm caused the sinking of the 177 metre Liberian-registered freighter, \"Gold Bond Conveyor\". Loaded with gypsum, it sank about 200 km off Cape Sable Island in waves up to 20 m and winds gusting up to 120 km/h, after setting sail from Halifax, Nova Scotia, despite warnings of hurricane-force winds.  Most crew members were from Hong Kong; there were no survivors of the 33 aboard.",
           "Eastern Canada"
          ],
          [
           "Maritime Provinces, February 1-4, 1992.  A 110-hour-long blizzard with gusts up to 140 km/h brought record snowfall of 163 cm to Moncton, New Brunswick; several other cities recorded more than 100 cm of snow; traffic was brought to a standstill; many stranded motorists had to be rescued, and many schools and businesses throughout the Maritimes were closed in the aftermath.",
           "Maritime Provinces"
          ],
          [
           "Southern Alberta, May 14-15, 1986. A 2-day storm, described as the worst spring storm in living memory in Alberta, brought knee-deep snow and 80 km/h winds; dozens of communities were left without services.",
           "Southern Alberta"
          ],
          [
           "South, Central, and Western MB, April 27-28, 1984. Snow, freezing rain and strong wind gusts caused damage to roads, hydro poles and drainage facilities. Municipalities affected were: Grey, Dufferin, Pembina, Portage la Prairie, Stanley and Thompson. Towns affected were: Carman, Morden, Neepawa and Winkler.",
           "South, Central and Western Manitoba"
          ],
          [
           "St. John's NL, April 13-15, 1984. 200,000 people of the Avalon Peninsula were left without heating and lighting for days after overhead electrical wires snapped from the weight of the formation of 15 cm of ice. Power on Bell Island was disrupted for a week. Many small businesses, broadcasting and utility companies felt the effects of the sleet storm; fishing boats sunk.  Homeowners also experienced flooded basements and loss of food stuffs. Areas which received major damage: Fogo Island,  Bell Island, Carbonear Upper Island Cove, Kenmount Hill, St. John's, Bay Roberts, Mt. Pearl, Torbay, Harbour Main, Western Avalon, Sunnyside and Oxen Pond.",
           "St. John's NL"
          ],
          [
           "Prairie Provinces, March 6, 1983. Especially southern Manitoba; the storm forced Winnipeg International Airport to close for two days and toppled several large television towers.  The freezing rain also caused other extensive damage.",
           "Prairie Provinces"
          ],
          [
           "Prince Edward Island, February 22-26, 1982. Islanders were marooned for five days in a crippling blizzard; winds of 80 km/h whipped a 60 cm snowfall into 7 m drifts.  Succession of severe storms isolates many communities for days.",
           "Prince Edward Island"
          ],
          [
           "Southern Alberta, April 17-20 and April 27-29, 1967. A series of intense snowstorms dropped a record 175 cm of snow on southern Alberta. The deep snow blocked roads, closed schools and cut off power.  Army units were dispatched to assist in the snow clearing, while food, fuel and cattle feed were airlifted into the province.  Thousands of cattle, unable to forage for food in the deep snow, perished on the open range.",
           "Southern Alberta"
          ],
          [
           "Maritime Provinces, December 1-2, 1964. A severe snowstorm hit the Maritimes, with gales reaching gust speeds of 160 km/h.  Three fishing boats, including two large draggers, were lost in the storm, accounting for 23 deaths and 8 reported injuries.",
           "Maritime Provinces"
          ],
          [
           "Prairie Provinces, January 30 - February 8, 1947. A blizzard raged for 10 days from Winnipeg to Calgary; the railway called it the worst storm in Canadian rail history; one train was buried in a snow drift 1 km long and 8 m deep.",
           "Prairie Provinces"
          ],
          [
           "Prairie Provinces, March 14, 1941. A severe blizzard producing a storm called an \"Alberta Low\" lasted 7 hours and produced winds exceeding 100 km/h; the storm caused 76 deaths in the southern parts of the Prairie provinces and the northern U.S.",
           "Prairie Provinces"
          ]
         ],
         "hovertemplate": "EVENT TYPE=Winter Storm<br>NORMALIZED TOTAL COST=%{marker.size}<br>INSURANCE PAYMENTS=%{y}<br>COMMENTS=%{customdata[0]}<br>PLACE=%{customdata[1]}<extra></extra>",
         "legendgroup": "Winter Storm",
         "marker": {
          "color": "#EF553B",
          "size": [
           0,
           1279392.5,
           0,
           0,
           0,
           10471074.9,
           0,
           0,
           0,
           0,
           0,
           0,
           0,
           21773.2,
           211328.9,
           109092.3,
           8827914.1,
           416444.2,
           7879440.3,
           10880667.4,
           304647564.1,
           1392476.6,
           0,
           0,
           265986.6,
           324021.7,
           0,
           173229.9,
           0,
           0,
           0,
           0
          ],
          "sizemode": "area",
          "sizeref": 761618.9102500001,
          "symbol": "circle"
         },
         "mode": "markers",
         "name": "Winter Storm",
         "orientation": "v",
         "showlegend": true,
         "type": "scatter",
         "visible": true,
         "x": [
          0,
          1279392.5,
          0,
          0,
          0,
          10471074.9,
          0,
          0,
          0,
          0,
          0,
          0,
          0,
          21773.2,
          211328.9,
          109092.3,
          8827914.1,
          416444.2,
          7879440.3,
          10880667.4,
          304647564.1,
          1392476.6,
          0,
          0,
          265986.6,
          324021.7,
          0,
          173229.9,
          0,
          0,
          0,
          0
         ],
         "xaxis": "x",
         "y": [
          null,
          27379000,
          null,
          null,
          null,
          214308000,
          null,
          null,
          null,
          null,
          null,
          null,
          null,
          null,
          null,
          null,
          143895000,
          null,
          50000000,
          168469000,
          1712248000,
          19866000,
          null,
          null,
          null,
          null,
          null,
          null,
          null,
          null,
          null,
          null
         ],
         "yaxis": "y"
        },
        {
         "customdata": [
          [
           "Red Earth First Nation SK, July 14-18, 2016. Heavy rain resulted in the flooding of the Carrot River in northern Saskatchewan. The community of Red Earth Cree Nation, located 75 kilometres east of Nipawin, declared a state of emergency and was forced to evacuate 576 residents. The majority of evacuees stayed in Saskatoon at the Henk Ruy?s Soccer Centre, while others stayed in hotels or with family. The communities of Carrot River and the rural municipalities of Moose Range and Arborfield also declared states of emergency but were less impacted by the flood.",
           "Red Earth First Nation SK"
          ],
          [
           "Nova Scotia, Prince Edward Island and Newfoundland, October 9-13, 2016. Atlantic Canada was hit with heavy rain as a result of the remnants of Hurricane Matthew. Wind and heavy rainfall warnings were in affect from October 10 to 11 for northeastern Nova Scotia and Newfoundland. On October 10, 150 mm of rain fell on Newfoundland. The town of Burgeo alone received 120 mm of rain, which caused the closure of Highway 480. St-Alban?s declared a state of emergency due to various road closures including the Swanger?s Cove Bridge on route 361, which was reported to have been damaged and was deemed unusable by the Newfoundland Public Safety Regional Office. Road closures in St-Alban?s resulted in the isolation of numerous homes. In Nova Scotia, over 220 mm of rain was reported across the province. The J.A. Douglas McCurdy Sydney Airport was forced to close all runways. Cape Breton was hard hit by the heavy rain, which resulted in property damage to approximately 300 homes. Most severely impacted was Eskasoni First Nation where 100 homes were flooded and an undetermined number of people evacuated due to high water levels. On October 11, there were 16 states of emergency in Newfoundland where Bager and Gander received 131 mm and 124 mm of rain. While there no states of emergency declared in Nova Scotia, NS Power reported that approximately 130,000 customers (390,000 individuals) had experienced power outages. Prince Edward Island received 73 mm of rain, which left approximately 600 residents without power. Ferries in Nova Scotia and Newfoundland were closed due to eight-metre high waves caused by the storm. The Canadian Armed Forces assisted with sandbagging efforts as water levels continued to rise until October 12. It was not until October 13 when water levels began to drop in certain areas, however in Newfoundland water levels remained at a record high. Power was restored to all customers in Nova Scotia and Prince Edward Island by October 13.",
           "Nova Scotia, Prince Edward Island and Newfoundland"
          ],
          [
           "Windsor and Tecumsech ON, September 29, 2016. States of emergency were declared in Windsor and Tecumsech after the region was hit with intense storms that produced significant flooding. The Windsor Airport recorded 78 mm of rain within a 24-hour period, while another gauge in the city?s east end measured 106 mm and the town of Tecumsech received up to 190 mm. In both municipalities, the heavy rain resulted in hundreds of flooded basements. Cars were abandoned in flooded streets and many roads were closed.",
           "Windsor and Tecumseh ON"
          ],
          [
           "Fort McMurray AB, July 30-31 2016. Only weeks after the devastating wildfire that swept through the Regional Municipality of Wood Buffalo, the city of Fort McMurray was struck by a flash flood, which caused damages to personal property as well as disrupted local traffic and recovery efforts. On July 31, Fort McMurray received up to 85 mm of rain, which caused significant damages to approximately 41 homes. The flood occurred at a time when Fort McMurray was undergoing recovery efforts in response to the May wildfires that caused the evacuation of the entire city. The flash flood also caused road closures and knocked out power to traffic lights.",
           "Fort McMurray AB"
          ],
          [
           "Kenora ON, June 27-28, 2016. Two states of emergency were declared in Kenora due to flooding that resulted in over 20 roads experiencing moderate to extensive damages. On June 27, the first state of emergency was declared after Kenora received more than 109 mm of rain over a two-day period. The main road into the city, Veterans Drive, was completely washed out and subsequently closed. A second state of emergency was declared on June 28.",
           "Kenora ON"
          ],
          [
           "Northeastern British Columbia, June 15-17, 2016. Heavy rainfall throughout the Peace River region in northeastern British Columbia caused flooding in several communities. The district of Chetwynd declared a local state of emergency on June 15 after Chetwynd had received a total of 134.8 mm of rain over a two-day period. A section of Highway 97, the only route that connects the region of Peace River to the rest of the province, was closed due to flooding. The hardest hit by the flooding was the city of Dawson Creek where up to 98.6 mm of rain fell over a two-day period. In Dawson Creek, 60 people evacuated their homes due to flood waters that damaged approximately 400 homes, destroyed one bridge and submerged two others. The flooding in Dawson Creek cut the city in half, leaving residents in the south end of the city without power as well as separating the hospital from the fire hall, which created a challenge for emergency responders. In total, over 2000 homes and businesses (approximately 6000 individuals) were without power throughout the Peace River region as of June 15.",
           "Northeastern British Columbia"
          ],
          [
           "Kashechewan First Nation ON, April 27-30, 2016. The chief of Kashechewan First Nation declared a state of emergency on April 27 due to annual spring ice break up, snowmelt and subsequent run off in the James Bay coast. In total, 1,207 residents out of the 1,600 residents who live in the northern Ontario reserve evacuated their homes in multiple stages of evacuations that took place from April 29-30. Evacuees were taken to Kapuskasing and Thunder bay.",
           "Kashechewan First Nation ON"
          ],
          [
           "Chestermere AB, July 12, 2015. Flooding occurred in the town of Chestermere were it rain 223 mm in only a few hours. The huge amount of rain that fell on the town resulted in overland flooding. In Chestermere, the basements of approximately 300 homes were flooded due to overland flooding, sewer backups or sump pump failure. In some cases, water levels of up to eight feet were reported in residential basements. In addition, vehicles in the street were nearly submerged in water. Lighting accompanied by the storm caused power outages that affected approximately 20,000 people. The power outages are believed to have led to the severity of basement flooding.",
           "Chestermere AB"
          ],
          [
           "Perth-Andover NB, April 18-20, 2015. Perth-Andover experienced significant flooding due to a massive ice jam that broke apart on the St. John and Tobique Rivers. Ice congested local waterways near the village of Perth-Andover causing water levels to rise. The flooding forced 300 people to evacuate. The Canadian Red Cross assisted with the evacuation order. Many businesses closed down, including schools and the local hospital where 23 patients staying at the Hotel Dieu of St. Joseph had to be relocated. Route 105, the major road into Perth-Andover, was closed due to the risk of overland flooding.",
           "Perth-Andover NB"
          ],
          [
           "Fort Albany and Kashechewan First Nation ON, April 17 to May 11, 2015. The annual spring melt resulted in high water levels in the Albany River, which caused severe flooding for communities in the James Bay region. A state of emergency was declared on April 17, for the Kashechewan First Nation, which is situated in the mouth of the Albany River on the shores of James Bay. The community of Fort Albany also declared a state of emergency on April 29. Evacuations in Kashechewan began April 25, where 1,320 residents were air lifted to safety. In Fort Albany, 13 hospital patients were also evacuated by air. On April 27, the Ontario government issued a Request for Federal Assistance (RFA) for aircrafts in response to the flood in order to evacuate the remaining residents. The community of Moose Cree First Nation was also affected but no evacuations took place. In total, 1,333 people were evacuated to Kapuskasing, Smooth Rock Falls, Wawa and Cornwall. Some residents were permanently displaced due to mold and poor living conditions brought on by the reoccurring floods. Evacuation efforts were complete by April 28.",
           "Fort Albany and Kashcewan First Nation"
          ],
          [
           "Southern Saskatchewan, June 25 to July 14, 2014. Heavy rain across southeastern Saskatchewan led to localized overland flooding, road washouts, highway closures, and local power outages. The affected basins were the Souris, Lower Qu?Appelle and Assiniboine. Some areas in southeastern Saskatchewan reported up to 240 mm of precipitation in less than two days. Over 68 municipalities declared local states of emergency. In Melville, St. Peter?s hospital evacuated 150 acute care patients due to rising flood waters. The Trans-Canada Highway was washed out in several sections and CN rail was heavily impacted on its regional lines. Peak flow levels on the Assiniboine and Qu?Appelle rivers exceeded that of the 2011 flood.",
           "Southern Saskatchewan"
          ],
          [
           "New Brunswick, April 15 to May 2, 2014. Spring flooding damaged more than 715 homes and businesses, roads, bridges, and other public infrastructure around the province. The majority of property damages were in and around Sussex and Sussex Corner, where 120 homes and 10 businesses were flooded. On April 16, a state of emergency was declared as water breached the banks of the St. John River, causing 1,450 people to evacuate their homes. In Perth-Andover, 23 patients were voluntarily evacuated and transferred to Upper River Valley Hospital. Throughout the rest of the province, swollen rivers led to the closure of several roads and localized flooding.",
           "New Brunswick"
          ],
          [
           "Quebec, April 14 to May 1, 2014. A series of intense rainstorms deposited up to 75 mm of rain throughout parts of southern Quebec over a three-day period. Coupled with a delayed spring thaw, the rain caused ice jams and flooding along several rivers in the province. About 300 residents in Sainte-Raymond evacuated including residents from a senior?s home due to raising water levels in the Sainte-Anne River. Many homes situated near the Montmorency River along with homes in Trois-Rivieres, Lennoxville and Weedon were evacuated. In Sherbrooke 632 residents evacuated their homes as the Saint-Francois River reached a record peak of 7.5 metres.",
           "Southern Quebec"
          ],
          [
           "Toronto ON, July 8, 2013. A thunderstorm that produced 126 mm in precipitation caused flash-flooding in the Greater Toronto area. The flooding closed multiple transportation corridors, caused wide-spread property damage, and disrupted power to approximately 300,000 residents. The Insurance Bureau of Canada estimated that the flooding caused $940 million in insured property damage.",
           "Toronto ON"
          ],
          [
           "Southern Alberta, June 19-28, 2013. A massive storm system crept through Alberta causing significant flooding throughout the province. As of 2013, this event was responsible for the largest evacuation due to a natural disaster in Alberta?s history. Beginning in northern Alberta, Fort McMurray declared a local state of emergency when water from the Hanging Stone River breached its banks on June 8. The storm then moved south on June 19, where it remained for three days over southern Alberta. Heavy rain spanning across a region from Canmore to Calgary produced an average of 75 to 150 mm during this three-day period. Twenty-nine local states of emergency were declared throughout the province. Four deaths were attributed to the floods, which caused significant disruptions across the province to power, telecommunications, clean water supply, and transportation corridors, including a section of the Trans-Canada Highway that closed due to a mudslide caused by the torrential rain. In Calgary the Bow and Elbow Rivers flooded, which forced 75,000 residents to evacuate the city. Over 4000 business were affected and 3000 buildings were flooded, including that Saddledome and the Calgary Zoo. The towns of High River and Canmore were also significantly impacted by the floods. In total, flooding forced the evacuations of approximately 100,000 Albertans. As flood conditions improved, some residents were allowed to gradually return to their communities beginning on June 23, while the remaining residents were allowed to return by June 28. Response to the flood was provided by municipal, provincial, and federal governments and non-governmental organizations. Insurance payments are estimated at $1.2 billion. This disaster is estimated to have reduced Gross Domestic Product (GDP) in Southern Alberta by $550 million (2013 dollars).",
           "Southern Alberta"
          ],
          [
           "Kasabonika Lake First Nation ON, May 27-31, 2013. Snow and ice melt caused water levels to rise rapidly on Kasabonika Lake, threatening the First Nations community that lives on the lake. A local state of emergency was declared and approximately 150 of the most vulnerable residents were evacuated to the towns of Hearst and Greenstone. Several buildings were damaged in the flood. As water levels returned to normal, residents were allowed to return to their homes by May 31.",
           "Kasabonika Lake First Nation ON"
          ],
          [
           "Sicamous BC, June 23, 2012. Flash flooding near Sicamous, BC, washed out Highway 97A in two places, damaging several vehicles and cutting off road access and drinking water supplies to hundreds of residences. Around 350 people in the area of Swansea Point and 2 Mile were forced from their homes due to an evacuation order issued after two raging creeks jumped their banks. Also, a 72-year-old man died after being swept into a fast-moving creek near Nelson. A five-member Rapid Damage Assessment Team landed in Sicamous, which was swamped by the Shuswap swells, and the Red Cross provided a resilience center to help assess needs and offered supplies to troubled residents in the community of about 3,100.",
           "Sicamous BC"
          ],
          [
           "Yukon, Northwest Territories and British Columbia, June 6-30, 2012. More than 70 mm of precipitation from a low-pressure weather system combined with spring snowmelt caused widespread flooding in Upper Liard, Yukon, Nahanni Butte, Northwest Territories, and Lower Post, British Columbia. Approximately 20 people from Upper Liard, 80 people from Nahanni Butte, and 37 people from Lower Post were evacuated. Approximately 2,500 people, including over 300 commercial transport trucks, experienced traffic delays in the region because of highway washouts. There was extensive damage to transportation corridors as well as approximately 25 buildings in areas affected by the flooding. Floodwaters began receding on June 16. Residents were allowed to return home at the end of June.",
           "Yukon, Northwest Territories and British Columbia"
          ],
          [
           "Thunder Bay ON, May 28, 2012. Heavy rain and subsequent flooding caused the city of Thunder Bay in northwestern Ontario to declare a state of emergency. Nearly 100 mm of rain was recorded at some weather stations in Thunder Bay on May 28.  The flooding caused road closures, damages to thousands of homes, and interfered with utility services. Thunder Bay Hydro cut power to 50 customers (approximately 1,500 individuals) as a precaution to prevent electrical fires in severely flooded areas.",
           "Thunder Bay ON"
          ],
          [
           "Kashechewan and Fort Albany ON, March 24 to April 01, 2012. A state of emergency was declared when rapid snowmelt and early ice break-up caused flooding along the Albany river. The flood forced the evacuation of approximately 269 residents to the towns of Kapuskasing and Wawa. All evacuees were able to return to their homes by April 1, 2012.",
           "Kashechewan and Fort Albany ON"
          ],
          [
           "Kashechewan and Fort Albany ON, March 24 to April 01, 2012. On Saturday, March 24, 2012, a state of emergency was declared by both Fort Albany First Nations and Kashechewan First Nations.  Due to warmer temperatures, early ice break up on the Albany River caused waterways to jam and the water level to rise in low-lying communities.  Evacuations of both communities commenced with 54 of the most vulnerable residents who were flown to the Town of Kapuskasing on March 24, and continued until a total of 269 people had been evacuated to both the Towns of Kapuskasing and Wawa by March 25.  On March 31, 2012, colder temperatures and observations of ice movement resulted in the Chief and Band Council terminating the declared emergency.  All 269 evacuees were repatriated by April 1, 2012.  Emergency Management Ontario and the federal Ministry of Natural Resources co-ordinated the evacuation with the help of federal, municipal and First Nations officials.  Although emergency management is a provincial/territorial responsibility, Aboriginal Affairs and Northern Development Canada (AANDC) accepts responsibility for supporting emergency management in First Nations communities and manages the consequences arising from the emergency such as disruptions to community-level critical services delivered in the First Nation.",
           "Fort Albany and Kashechewan First Nations ON"
          ],
          [
           "Perth-Andover NB, March 23-25, 2012. The Village of Perth-Andover declared a state of emergency on March 23. The village of roughly 1,770 residents was forced to evacuate approximately 500 people living along a four-kilometre section the St. John?s River on March 24. Within the nearby Tobique First Nation community, approximately 20 people were evacuated to a school gymnasium and six homes were damaged by floodwaters. Public Safety Canada?s regional office reported that approximately 200 homes and businesses were damaged, including those of the Tobique First Nation. The province?s Emergency Measures Organization indicated that unseasonably hot weather caused rapid snowmelt, resulting in an ice jam that was to blame for the river breaching its banks. Andover Elementary School and Southern Victoria High School were both closed due to damages from the floodwaters. The Red Cross used Perth-Andover Middle School as an emergency evacuation site. Perth-Andover hospital also sustained damages; patients were relocated to the Upper River Valley Hospital in Waterville and Grand Falls General Hospital, while some were discharged home. Service New Brunswick?s temporary location in Perth-Andover offered free well-water bacterial testing for private well owners who were impacted by the flood. Health Canada was responsible for contacting well owners with information on potentially harmful contamination in their water, whereas Environment Canada as well as local authorities were responsible for notifying remaining well owners of the absence of bacteria in their water. New Brunswick?s provincial government offered information on government services for people whose property sustained damage resulting from the flood. The response level remained within provincial capacity.",
           "Perth-Andover NB"
          ],
          [
           "Eckville, Paddle River, Fort Vermilion, and Peace River AB, July 12-14, 2011. According to the AB River Forecast Centre, water levels on the Peace River exceed 1 in 100 year event levels near Fort Vermilion. The region was divided into three segments to facilitate emergency response. All of 'Area A' included all of the low-lying areas, and was placed under immediate evacuation order. On July 12, there were approximately 100 flooded homes in Eckville and 700 homes were without electricity or phone services. Roads and highways were significantly damaged.",
           "Eckville, Lacombe, Paddle River, Fort Vermilion, and Peace River AB"
          ],
          [
           "Weyburn and Estavan SK, June 17-28, 2011. A local state of emergency was issued on June 17, because of extensive flooding in the City of Weyburn and Estavan, Saskatchewan. Throughout the province, 19 municipalities declared local states of emergency. Approximately 200 homes were known to be affected in Weyburn, where there was 112 mm of rain. On June 17, Estavan received 27 mm of rain over night and 383 residents were evacuated from a mobile trailer park. On June 18, officials reported that the capacity of the treatment plant had exceeded its limit, and Environment Canada granted permission to pump sewage directly into the Souris River. Repairs were conducted at the treatment plant to address the capacity issue. SaskPower reported scattered and localized power outages throughout the region. Residents in most areas were given permission to return to their homes on June 28.",
           "Weyburn and Estavan SK"
          ],
          [
           "Southern Manitoba, June 2 to July 9, 2011. On June 3, 1,961 individuals were evacuated from the Ochre River, Alonsa, and Sioux Valley First Nations, and 37 communities declared local states of emergency due to extensive flooding.  Another 45 residences were given mandatory evacuation orders in the Dauphin Lake, Ochre River/Cresent Beach area on June 4. On June 6, the Sastachewan Watershed Authority released a large amount of water from the Tobin Lake Dam, which flows towards the flood zone.  By June 6, 40 communities were under a state of local emergency with a total of 2,058 evacuees registered through the Canadian Red Cross and the Manitoba Association of Native Firefighters (MANFF). Effective June 28, there were a total of 2,937 evacuees, 42 local declared States of Emergency with 13 of these being First Nations communities. On July 9, evacuation orders were lifted for Portage La Prairie, Souris, Wawanesa, and Glenwood.",
           "Southern Manitoba"
          ],
          [
           "Calgary AB, May 29-31, 2011. Tsuu T?ina First Nation evacuated approximately 40 families (120 individuals) from Calgary due to flooding and road washouts.  In addition, The Stone Tribe evacuated approxiamtely seven families (21 individuals) due to flooding.  Also, the Siksika First Nation and Town of High River have issued voluntary evacuation orders for Hidden Valley and High River areas.",
           "Calgary AB"
          ],
          [
           "Brandon MB, May 10-28, 2011. Forteen homes were evacuated in Brandon on May 10 due to extensive flooding. By May 15, a total of 3,623 individuals had been evacuated from the following communities: Archie, Arthur, Brandon, Cameron, Cornwallis, Dauphin, Ellice, Elton, Emerson, Langfor, Lake St. Martin First Nations, Ritchot, St. Clements, St. Lazare Village, Sandy Bay First Nations, Sioux Valley First Nations, South Norfolk, Stanley, and Whitewater. There were 120 provincial roads and 655 municipal roads that were closed as a result of the flooding.",
           "Brandon MB"
          ],
          [
           "Assiniboine, Roseau, and Red Rivers MB, April 19 to June 17, 2011. By April 28, flooding resulted in 15 communities declaring states of emergency while 1,772 individuals had been evacuated province wide. There were 1,547 evacuees who were from First Nations communities. Indigenous and Northern Affairs Canada (INAC) worked collaboratively with First Nations communities to develop flood action plans with pre-emptive activities.  As of June 15, 2,543 individuals had been evacuated and 32 communities had declared states of emergency. Estimated costs from the Province  is approximately $100 million and the estimated federal share is approximately $87.5 million.",
           "Assiniboine, Roseau and Red Rivers MB"
          ],
          [
           "Mont?r?gie QC, April 17 to June 22, 2011. Early spring melt along with rainy weather between March and May led to historic flooding in the Mont?r?gie region of Quebec. Communities in the Richelieu Valley experienced heavy rainfall from March to May, including Montreal where it rained 182 per cent above average during that time. Starting April 18 to 24, nine municipalities were affected by flooding. Rising water levels in the Richelieu River caused flooding and damages to an additional 16 municipalities, including Sainte-Anne-de-Sabrevios where 400 homes were damaged and Saint-Paul-de-l??le-aux-Noix where 200 homes were damaged. From April to June, over 40 municipalities in the Mont?r?gie region were affected by flooding and by May 6, 11 municipalities declared states of emergency. On May 23, the Richelieu River set a new all-time record water level of 30.7 metres, due to several days of intense rain. Most significantly impacted by the flooding was Saint-Jean-sur Richelieu where a over 3000 homes were flooded and approximately 1000 people were evacuated from their homes. In total, the floods affected 3,927 people and forced the evacuation of approximately 1,651 people from their homes.",
           "Mont?r?gie QC"
          ],
          [
           "New Brunswick and Nova Scotia, December 13, 2010.  New Brunswick and Nova Scotia experienced heavy rainfall resulting in extensive flooding. A layer of ice and snow underground prevented rain from being absorbed, which led to significant flooding. In New Brunswick and Nova Scotia, flooding caused damages to homes and roads as well as power outages that affected approximately 80,000 residents (240,000 individuals) in Nova Scotia. In New Brunswick, St. Stephan received up to 166.4 mm of rain, while Fedricton received 101.7 mm of rain. Over 120 roads were closed in New Brunswick and up to 60 homes were destroyed. In addition, approximately 44 residents (132 individuals) from St. George and Nashwaak Valley were displaced from their homes. Both provinces provided provincial aid to victims.",
           "New Brunswick and Nova Scotia"
          ],
          [
           "Gasp? and Bonaventure QC, December 5-15, 2010. Heavy rains moved through Qu?bec causing flooding from December 5 to 7 and 13 to 15.  A total of 57 municipalities were declared eligible for disaster financial assistance with the provincial government. Approximately 125 residents were evacuated during the flooding on December 15, with between 300 and 500 homes in the Gasp? region being flooded.",
           "Gasp? and Bonaventure QC"
          ],
          [
           "Yarmouth and Halifax NS, November 7 to December 15, 2010. High winds and heavy rains over a one month period resulted in the \"worst flooding in a century.\"  On November 7, storms began with 215 mm of rain falling in Yarmouth and 172 mm in Halifax. On November 9, 120 families (360 individuals) were evacuated from Yarmouth, and several more families were evacuated from nearby Lequille (Annapolis Royal) and Lake Vaughn. A state of emergency was declared when more than 100 mm of rain fell within 18 hours flooding and overwhelming local resources. Rains continued through to December 15. During this time, roads and bridges were washed out, homes were badly damaged by flood waters, and power was lost to more than 46,000 homes (138,000 individuals). On May 19, 2011, the Emergency Management Office of Nova Scotia released a statement indicating the Disaster Financial Assistance Program?s approval for cost-sharing between the province and Ottawa.",
           "Yarmouth and Halifax NS"
          ],
          [
           "Kingcome Inlet and Bella Coola BC, September 24-25, 2010. Flooding caused by heavy rainfall resulted in flooding that destroyed the highway leading into Bella Coola BC. Between September 24 and 25, 204 mm of rain fell in the region. Residents of Kingcome Inlet were evacuated by helicopter when water continued to rise. Approximately 100 people were evacuated from Bella Coola and another 75 people from Kingcome Inlet.",
           "Kingcome Inlet and Bella Coola BC"
          ],
          [
           "Meat Cove NS, August 21-22, 2010.  A flash flood struck the small community of Meat Cove early in the morning on August 22. The five local bridges suffered major damages, including two bridges that were completely washed away. Local roads were flooded and sustained damages, including the major road that connects the small fishing community to the rest of the province, which resulted in 100 residences and 26 tourists being isolated by the flood. Environment Canada reported 69.8 mm of rain in the area. Officials from the Emergency Management Office worked with the RCMP, Emergency Health Services, the Canadian Red Cross, and others to provide emergency services to the affected people. Access to the area was restricted to boats until August 30 when a temporary bridge over Salmon River was completed.",
           "Meat Cove NS"
          ],
          [
           "Southern Alberta and Saskatchewan, June 17, 2010. Record rainfall resulted in extensive flooding in Alberta and Saskatchewan, washing out a portion of the Trans-Canada highway and shutting down part of the Canadian Pacific rail line. Fourty people from the Blood Tribe reserve, 75 homes in Maple Creek, and 600 households in Medicine Hat were forced to evacuate. Disaster financial assistance was provided by both provinces.",
           "Southern Alberta and Saskatchewan"
          ],
          [
           "Winnipeg MB, May 29, 2010. Heavy rains over the course of a week caused significant flooding in Winnipeg and the surrounding area. Out of the 180,000 residential properties in Winnipeg, 619 reported being flooded. As a result, 420 were damaged by overland flooding, while 199 suffered sewage backups. The province offered disaster financial assistance for the flood event alongside other events which occurred over the spring and summer.",
           "Winnipeg MB"
          ],
          [
           "Duncan and North Cowichan (Vancouver Island) BC, November 20, 2009. Flooding caused by heavy rains and high tides resulted in the destruction of approximately 50 homes and the evacuation of a total of approximately 300 homes (900 individuals). The storm also caused power outages affecting thousands of homes on Vancouver Island, in the Fraser Valley and within the BC interior.",
           "Duncan and North Cowichan (Vancouver Island) BC"
          ],
          [
           "Notre-Dame-des-Prairies QC, June 28 to July 4, 2009. A quasi-stationary low-pressure system stalled over eastern Ontario and Quebec. Excessive rains of up to 140 mm damaged roads and bridges, and flooded basements.  The hardest hit areas were in Charlevoix, Mauricie and Parent. Flood waters filled 50 houses in Notre-Dame-des-Prairies on July 1, and collapsed a street in Entrelacs when a stream overflowed. The flow rate on several rivers exceeded historic records.",
           "Notre-Dame-des-Prairies QC"
          ],
          [
           "Rock Creek and Henderson Corner YT, May 1, 2009.  Overland flooding from May 1 to May 3 affected the unincorporated areas of Rock Creek and Henderson Corner in the Klondike Valley, resulting in the evacuation of 28 people and damage to both private property and public infrastructure, such as roads and recreational facilities.",
           "Rock Creek and Henderson Corner YT"
          ],
          [
           "Saint John, Miramichi and Restigouche River NB, April 5 to May 4, 2009. A freshet in spring 2009 caused flooding in a number of communities, primarily from the formation of ice jams which raised water levels along the Saint John, Miramichi, and Restigouche rivers from April 5 to May 4.  The flooding caused damages to homes, businesses and infrastructure such as roadways.  Preliminary eligible costs are estimated at $2.0 million, which would result in a federal share of approximately $626,000.",
           "Saint John, Miramichi and Restigouche River NB"
          ],
          [
           "Roseau River First Nation, Sioux Falls, Peguis First Nation, St. Andrews, St. Clements and Selkirk MB, March 24 to May 21, 2009. Overland flooding caused by a combination of snowmelt, seasonal precipitation and the spring breakup affected southern Manitoba's watershed areas of the Red, Pembina, Assiniboine, and Souris Rivers. The event caused flooding of houses and evacuations from communities including Roseau River First Nation, Sioux Falls, Peguis First Nation, St. Andrews, St. Clements and Selkirk. The flooding also resulted in damage to public infrastructure such as bridges, roads, and highways. Three principal factors led to the spring flooding: 1) Heavy autumn rains, about 43 per cent more than normal, saturated the ground just before freezing in early December, which left little room for absorbing snow melt in the spring; 2) It was a snowy winter in southern Manitoba with some 25 per cent more snowfall than normal. Heavy snowfalls and copious spring rains swelled the critical headwaters of North Dakota sending excessive waters north into Canada via the Red River and its tributaries; and, 3) An unseasonably cold spring slowed basin snow melting, ice decaying in rivers, and overland flow from ditches and culverts.",
           "Roseau River First Nation, Sioux Falls, Peguis First Nation, St. Andrews, St. Clements and Selkirk MB"
          ],
          [
           "Pangnirtung NU, June 8-9, 2008. Accelerated snowmelt and heavy rains created a massive flood that prompted the community of Pangnirtung to declare a state of emergency. Floodwaters resulted in the erosion of the permafrost, which supported the bridge abutments on the Duval River. The soil erosion caused sinkholes to form which damaged two bridges. Flooding caused the closure of many roads and disrupted residential water services.",
           "Pangnirtung NU"
          ],
          [
           "Saint John River NB, April 30, 2008. Flooding along the Saint John River caused as many as 1000 people to evacuate their homes.",
           "Saint John River NB"
          ],
          [
           "High River AB, May 24, 2008. Surging water levels on the Highwood River forced the town of High River to declare a state of local emergency.",
           "High River AB"
          ],
          [
           "James Bay ON, May 9, 2008. A serious flood risk forced about 1,200 people from their homes along the coast of James Bay.",
           "James Bay ON"
          ],
          [
           "Hay River NT, May 5-7, 2008. Ice jams in the Hay River forced water to rise over its banks, creating flood conditions for nearby residents. Approximately 600 people from Vale Island, situated at the mouth of Hay River and Great Slave Lake, fled from their homes as a voluntary evacuation order was issued May 5. Many homes and business were flooded and damaged from debris carried by the rising water. At the Katlodeeche First Nation reserve, floodwaters knocked out the old Anglican Church off its foundation as well as flooded the Roman Catholic Church.",
           "Hay River NT"
          ],
          [
           "Quebec City QC, April 28 to May 2, 2008. Heavy rain combined with the spring thaw resulted in flooding and landslides in the Quebec City area. The heavy rain, which started on April 28, lasted until May 2 in some areas. Among the affected communities, Baie-Comeau received up to 120 mm of rain and Sept-Ilse received up to 78 mm of rain. Near Montreal, the Petite Nation River rose one metre, which flooded the surrounding areas. In total, flooding forced the evacuation of 230 people. In addition, landslides caused by the flooding threatened the safety of 60 residents who had to be evacuated as a precaution.",
           "Quebec City QC"
          ],
          [
           "Albany River ON, April 25, 2008. More than a dozen aircraft were poised to help evacuate nearly 1,900 residents of Kashechewan and Fort Albany, reserves in the coastal area of James Bay, some 450 kilometres north of Timmins.",
           "Albany River ON"
          ],
          [
           "Trent Hills ON, April 17, 2008. Over a period of 24 hours, water levels in the tri-lakes (Chemong, Buckhorn and Pigeon) increased 120 mm. The municipality of Trent Hills declared a state of emergency.",
           "Trent Hills ON"
          ],
          [
           "Belleville ON, April 14, 2008. Water from the Moira River flooded dozens of homes and shut down roads in Belleville prompting a state of emergency to be declared. Approximately 50 homes were significantly flooded, including six homes (approximately 18 individuals) that were evacuated. Local wells were tainted with floodwater, which meant that residents could not drink from their wells.",
           "Belleville ON"
          ],
          [
           "Paddockwood SK, April 14, 2008. The Rural Municipality of Paddockwood declared a state of emergency after floodwaters rose more than one metre. Floodwaters covered main access roads leaving approximately 400 people stranded in their homes. Two families were forced to leave their homes due to flooding. Water levels receded within a day, but the flooding caused damages to roads and residential homes.",
           "Paddockwood SK"
          ],
          [
           "Port Bruce ON, February 18, 2008. The small community of Port Bruce, located at the mouth of Catfish Creek in Lake Erie east of Port Stanley, was flooded due to an ice jam that caused the creek to overflow. It was the second time in two weeks that Port Bruce experienced flooding from the creek. However, on February 18, the flooding was more severe as water levels rose knee-deep in some areas forcing approximately 100 families (300 individuals) to evacuate their homes and preventing many others from leaving.",
           "Port Bruce ON"
          ],
          [
           "Prince George BC, December 10, 2007. An ice jam in the Nechako River that, at one point, stretched as long as 33 kilometres, caused localized flooding. A state of emergency was declared.",
           "Prince George BC"
          ],
          [
           "Terrace, Smithers & Mount Currie BC, June 5, 2007. About 125 homes have been evacuated and about 1,100 others are on evacuation alert alongside the swollen Skeena and Bulkley rivers near Terrace and Smithers.",
           "Terrace, Smithers & Mount Currie BC"
          ],
          [
           "Red Earth First Nation SK, April 19, 2007. The band council's decision to evacuate 691 residents from the northern reserve, mainly children, elderly residents and pregnant women, came as water covered one-third of a main access road, which divides the reserve.",
           "Red Earth First Nation SK"
          ],
          [
           "Selkirk MB, April 3-13, 2007. Ice buildup and bad weather caused the Red River to breach its banks flooding the city of Selkirk. A two kilometre ice jam caused water levels to raise 60 cm. The subsequent flooding resulted in sewage spilling into the river and the evacuation of the Kiwanis I and II condominium buildings where 100 seniors were evacuated. In addition, numerous basements were flooded as well as the Marine Museum of Manitoba.",
           "Selkirk MB"
          ],
          [
           "Saint-Joseph et Vall?e QC, October 28, 2006. In Saint-Joseph and Vall?e, approximately 50 homes and 30 businesses were affected by a flash flood.",
           "Saint-Joseph et Vall?e QC"
          ],
          [
           "Aklavik NT, May 27, 2006. The remote community of Aklavik was buried under several feet of water after the Peel River channel overflowed its banks due to melting ice. Residents of the low-lying town were forced to evacuate due to flooding. Approximately 300 residents left their homes and fled to the nearby town of Inuvik located 55 kilometres away. The flooding caused severe infrastructure damage, including damages to roads as well as the town?s sewage system.",
           "Aklavik NT"
          ],
          [
           "Slocan River BC, May 20, 2006. Residents living near the Slocan River were at risk as high water levels caused by melting snowpacks forced the river to overflow its banks. Local authorities issued an evacuation order for 53 homes in Passmore and Slocan Park (approximately 159 individuals) as well, 98 other homes that were put on evacuation alert. Damages included road closures and basement flooding.",
           "Slocan River BC"
          ],
          [
           "Kashechewan ON, April 23, 2006. Spring flooding has forced hundreds of people to leave the northern Ontario reserve of Kashechewan. Kashechewan declared a state of emergency when water levels rose quickly and asked for immediate help from the province.",
           "Kashechewan ON"
          ],
          [
           "Baie Verte Peninsula NL, April 17, 2007.  A severe rainstorm caused flooding along Newfoundland and Labrador's Northeast coast.  A number of communities in the Baie Verte Peninsula region of the province, such as Burlington and Middle Arm, were affected.",
           "Baie Verte Peninsula NL"
          ],
          [
           "Red Earth SK, April, 13, 2006. In northeastern Saskatchewan, the Red River First Nation scrambled to avoid the threatening Carrot River as leaders ordered a general evacuation of the band of 1,100.",
           "Red Earth SK"
          ],
          [
           "Stephenville NL, September 27, 2005.  The town of Stephenville received 110 mm of rain, causing flooding in the region.  More than 80 homes were flooded completely.  A state of emergency was declared and approximately 200 people were forced to leave their homes.",
           "Stephenville NL"
          ],
          [
           "Quebec, August 31, 2005.  The aftermath of Hurricane Katrina was felt in Quebec where heavy rain hit the Basse-C?te-Nord region. The region received 80 to 100 mm of rain. Over flown rivers and washed out culverts were seen in the towns of Vanier and Charlesbourg. These events led to flooding. August 31 was the wettest day that month for the Montreal's Pierre Elliott Trudeau Airport as well as the wettest August day for Quebec City.",
           "Quebec"
          ],
          [
           "Cumberland House, Cree First Nation SK, June 23, 2005.  Approximately 2000 residents of Cumberland House were evacuated to Prince Albert after the Saskatchewan River began flooding.  Saskatchewan Environment issued a boil water advisory for the residents. Movement of most ferries on the North and South Saskatchewan rivers was suspended.",
           "Cumberland House Cree First Nation SK"
          ],
          [
           "Southern Alberta, June 6-8, 2005. Heavy rainfall and high water levels across southern Alberta caused massive flooding in several waterways.  Multiple municipalities across the region issued a state of emergency. Severe flooding caused the evacuation of 2000 people in Calgary, 1,300 in Sundre, 3,200 in Drumheller, 200 in High River, 70 in Foothills, 58 in Okotoks and 200 in Red Deer County.  Officials reported that the 200-year flood event resulted in significant damages to approximately 40,000 homes.",
           "Southern Alberta"
          ],
          [
           "Manitoba, June 2, 2005. Manitoba received between 100-175 mm of rain resulting in severe flooding.  Regional municipalities of Daly, Sifton, Blanshard, Strathclair and Woodworth as well as the towns of Oak Lake and Rivers encountered major problems of seepage and basement flooding, damage to municipal roads and overland flooding of agricultural lands.  Forty-four provincial highways and over 100 municipal roads were damaged.  Approximately, 380 homes and 19 families (approximately 1,197 individuals) were forced out of their homes due to the flooding.  Thirteen municipalities declared a local state of emergency and more than 100 requested disaster financial assistance. The cost of the flood was estimated at more than $350 million including crop damage.",
           "Manitoba"
          ],
          [
           "Bridgewater NS, May 25-27, 2005. By May 27, a total of 383 mm of rain had fallen in Nova Scotia?s Fancy Lake watershed region causing overland flooding in a number of communities.  A local state of emergency was declared and approximately 100 people were evacuated.",
           "Bridgewater NS"
          ],
          [
           "Fort Good Hope NT, May 11-14, 2005. Jackfish Creek and Rabbitskin River rose to the point that 10 families and 8 seniors had to leave their Fort Good Hope homes. A state of emergency was declared.",
           "Fort Good Hope NT"
          ],
          [
           "Kashechewan ON, April 23, 2005.  Nearly 200 people were flown out of the remote First Nations reserve in northern Ontario to Moosonee after flooding filled 39 basements with raw sewage.  Spring flooding on the Albany River caused the sewage system to back up and contaminated the community water system.",
           "Kashechewan ON"
          ],
          [
           "Southern New Brunswick, April 9 to May 15, 2005.  Several days of rain caused flooding in the communities of Jemseg, Sheffield, Maugerville and Fredicton and forced approximately 40 families (approximately 120 individuals) to evacuate their riverside homes.  Several families remained stranded in their homes as all roads were washed out. For many families the only way to leave their property was by canoe.  Due to high water levels, the highway between Fredericton and Saint John remained blocked for many days.",
           "Southern New Brunswick"
          ],
          [
           "The Pas MB, July 21, 2004.  Heavy rains on already saturated ground led to an overloading of  the town's joint sewage and storm drain system flooding homes in The Pas.  Approximately 400 homes in the town were damaged.  Dozens of people were reported sick  with intestinal and bronchial illnesses after attempting to clean-up after the flood.   The costs of the damages could reach as high as $5 million.",
           "The Pas MB"
          ],
          [
           "Attawapiskat ON, May 19, 2004.  Due to ice-jam flooding in the Attawapiskat River, approximately 1,700 people from the  James Bay Cree First Nation community of Attawapiskat were evacuated by air to Moosonee, Cochrane and Timmins.",
           "Attawapiskat ON"
          ],
          [
           "South Central Manitoba, March 24-26, 2004. A combination of spring runoff and heavy rainfall brought flooding to Manitoba's South-Central region. Some affected communities include: Pembina, Morris, Winnipeg, Selkirk and Lac du Bonnet. States of emergency were declared in the rural municipalities of Franklin, Tache and St. Clements. Twenty-one people were evacuated from the Dakota Plains and Peguis First Nations. More than 1000 were evacuated when the Red River overflowed.",
           "South Central Manitoba"
          ],
          [
           "Vancouver Island and Southwestern British Columbia, October 16-23, 2003. Heavy rains resulted in major flooding, particularly to Squamish and Pemberton where states of emergency were declared. Flooding in the Squamish Valley, Cheakamus Valley, and Paradise Valley resulted in the evacuation of 700 people from those areas. Another 50 people were evacuated from the Vancouver Island region. Two vehicles were swept into Rutherford Creek north of Whistler. One passenger survived, while two died.",
           "Vancouver Island and Southwestern British Columbia"
          ],
          [
           "Oxford and Truro NS, March 31, 2003. Heavy rains and snowmelt caused flooding in communities on the Atlantic coast. States of emergency were declared in the towns of Oxford and Truro NS where 150 and 120 people respectively were evacuated from their homes. Two people died as there car was swept off the road by flood waters in Pinehurst. Nova Scotia's Transportation Department has reported that the flooding has destroyed or damaged 47 bridges and has affected 200 roads. See Prince Edward Island and Newfoundland entries for more information on this event.",
           "Oxford and Truro NS"
          ],
          [
           "West Coast of Newfoundland, March 31, 2003. Western Newfoundland experienced flooding as a result of both heavy rain and mild temperatures. Some of the communities affected include: Codroy Valley, Cox's Cove, and Corner Brook. These communities faced washed out roads as well as damaged water and sewage systems. A landslide on the Trans-Canada Highway restricted access between Gallants and George's Lake. See Nova Scotia and Prince Edward Island entries for more information on this event.",
           "West Coast of Newfoundland"
          ],
          [
           "Prince Edward Island, March 31, 2003.  The province was subjected to a severe rainstorm causing flooding and resulting in damage to both private and public property.",
           "Prince Edward Island"
          ],
          [
           "The entire town of Badger, NL was evacuated when the three rivers Badger-Exploits, Red Indian and Badger overflowed their banks due to ice jamming. The town's water supply was contaminated after the sewer system failed.  Power supply was cut off to all flooded homes.  Approximately 200 homes were affected by the flooding.  The Canadian Red Cross, local officials, the RCMP and the Emergency Measures Organization were cooperating to find shelter for approximately 80 families.",
           "Badger NL"
          ],
          [
           "Southern AB, June 11, 2002.  Approximately 280 mm of rain fell on the area within a few days.  The heavy rain and the unusually late spring runoff caused mudslides and forced sewage into river systems, and power lines were damaged in Waterton Lake National Park.  A local state of emergency was declared for the areas of: Pincher Creek, County of Warner, Village of Sterling, Village of Warner, Village of Foremost, and the Town of Coaldale.  Two hundred residents from the Blood First Nation and 150 residents from the Peigan First Nation were evacuated.",
           "Southern Alberta"
          ],
          [
           "Southeast MB, June 11, 2002. Ten communities declared a state of emergency following severe flooding of homes and roads. About 240 mm of rain fell, causing the worst flooding southeast Manitoba had seen in 45 years. Levels of the Roseau River declined for a few days; however, additional flooding was expected the following week given the record water levels in the American portion of the river and the expected crest in southeast Manitoba. Residents and flood workers built dikes and laid sandbags as a preventative measure in the event of further flooding. Several roads were closed and some of these washed out or were covered with water. Crops were severely damaged because fields were submerged under water, and homes were inundated.",
           "Southeast MB"
          ],
          [
           "Municipalities of Ignace, Fort Frances, Rainy River, Alberton, Atikokan, Chapple, Dawson, Emo, La Valle, Lake of the Woods, Morley, Machin; Township of Sioux-Narrows - Nestor Falls ON, June 9-11, 2002.  Parts of northwestern Ontario were declared disaster areas because of severe flooding. Roads and highways were washed out and closed, power and telecommunication lines were disrupted, and private properties were greatly damaged.",
           "Municipalities of Ignace, Fort Frances, Rainy River, Alberton, Atikokan, Chapple, Dawson, Emo, La Valle, Lake of the Woods, Morley, Machin; Township of Sioux-Narrows - Nestor Falls, ON"
          ],
          [
           "British Columbia, May 2002.  High snow-pack levels, rapid melting and heavy rainfall caused severe runoff and flooding in areas of B.C. except Vancouver Island and the Central Coast. The spring freshet caused significant damage to private properties, public transportation corridors, and recreation facilities.",
           "British Columbia"
          ],
          [
           "Attawapiskat FN, ON, May 2002. Approximately 1200 people were evacuated to Moosonee and Timmins following the flooding of the Attawapiskat River. A municipal state of emergency was declared.",
           "Attawapiskat First Nation ON"
          ],
          [
           "Northeast and Central British Columbia, July 2001.  A severe five-day rainstorm caused flood damage to 100 homes and to critical infrastructure.  More than 200 mm of rain fell.  Roads and bridges were washed out, businesses and public and private properties were damaged, two trains derailed, and people were temporarily stranded.",
           "Northeast and Central British Columbia"
          ],
          [
           "Peace River area BC, June 2001.  The region was subjected to many intense precipitation events.  Increased tributary levels combined with the spring freshet caused the over-saturation of the soil and surface runoff.  This in turn triggered several landslides that cut-off highways.  Property and infrastructure damage was extensive. Pink Mountain and Halfway River were both affected.",
           "Peace River area BC"
          ],
          [
           "Southern Manitoba, April 2001.  Southern Manitoba suffered significant losses during spring flooding.  Highway infrastructures, businesses and private and public properties were extensively damaged.",
           "Southern Manitoba"
          ],
          [
           "Sydney NS, November 2-11, 2000.  Heavy rains hit Cape Breton and Victoria County for nearly ten days, causing flooding and damages to homes and businesses.  Almost 100 millimetres of rain fell in a 24-hour period, flooding streets and forcing the evacuation of 200 families.  One woman was trapped in her car and suffered injuries when a massive culvert collapsed due water pressure.  A boil order was in effect for a week for 1,000 residents in Donkin and at least 2 weeks for the 30,000 residents of Glace Bay, Reserve Mines and Dominion.",
           "Sydney NS"
          ],
          [
           "Southern Manitoba, July 7-14, 2000.   Heavy rains occurred throughout July causing major problems in some areas.  On July 7, between 80 -100 millimetres of rain fell in a four hour time-frame, washing out roads and flattening crops.  Winds reached almost 125 km/h, and lightning strikes reached up to 1,000 hits an hour.  The prolonged rainfall resulted in saturated soil, and overland flooding across the province with reports of flooded basements, blocked drainage systems, and backed-up sewers.",
           "Southern Manitoba"
          ],
          [
           "Vanguard SK, July 3, 2000.  The Village of Vanguard and seven surrounding municipalities experienced a severe flood, causing extensive damage to private property and public infrastructure. More than 333 mm of rain ? equivalent to the area's annual rainfall ? fell on the area in less than 10 hours. Roads were closed, basements flooded, and two bridges were washed out. Nine families were forced from their homes due to flooding.  Residents were also advised not to drink the water for two weeks because the village's water treatment plant and sewer system were submerged during the flood. No deaths or injuries were reported.",
           "Vanguard SK"
          ],
          [
           "Maritime Provinces, September 23, 1999.  Record 1-day rainfall was caused by the remnants of tropical storm Harvey and Hurricane Gert.  Oxford NS was flooded when 2 nearby rivers overtopped their banks, after receiving 200 mm of rain in one day.  A seniors residence of 30 people and 15 families were evacuated from Moncton NB which received 160 mm of rain.  A number of bridges and roads were washed out in the region. In Newfoundland, 10 m whitecaps smashed the breakwater to pieces at Lord's Cove, and destroyed a number of buildings. Wharves were also destroyed in St. Brides, and Plancentia Bay NF.",
           "Maritime Provinces"
          ],
          [
           "Prince Edward Island, September 7, 1999.  More than 200 mm of rain fell in a short period of time during a severe rainstorm.  Flash flooding occured throughout the province; natural and man-made watercourses were overcome.  Eight highways and two bridges were severely damaged, as well as other provincial and municipal infrastructure.  Impacts were also seen on the fisheries and agricultural industries.",
           "Prince Edward Island"
          ],
          [
           "Clearwater AB, July 4-5, 1999.  About 62 cm of snow and 122 mm of rain fell starting on July 2.  Flooding forced more than 300 residents of Clearwater to flee July 4. The flooding destroyed 100 km of roads and several bridges in central Alberta. The North Saskatchewan river peaked at 8.45 m just shy of the flood level.",
           "Clearwater AB"
          ],
          [
           "Melita MB, April 1999. Melita, Manitoba was threatened by the largest flood in the area since 1976.  The Souris river outflow rose to 169.8 cubic m/s of water compared to its normal outflow of 4.25 cubic m/s.  The Souris river spread to at least 2 km wide at its peak flooding, and almost topped the makeshift dikes.  The flood washed out roads and damaged bridges in several rural municipalities, and made over 800000 hectares of farmland unseedable this year. Both provincial and federal aid was administered in the form of deadline pushbacks and financial assistance.",
           "Melita MB"
          ],
          [
           "Southeastern Saskatchewan, April-June 1999.  Heavy rainfall and flooding over the spring proved to be very costly for Saskatchewan farmers.  Due to all the excess water, farmers were only able to seed a portion of the acres they had planned to, resulting in substantial economic losses. Highways and provincial, municipal and private properties of the region were also damaged.",
           "Southeastern Saskatchewan"
          ],
          [
           "British Columbia, March 1 - July 30, 1999. Above average spring-runoff brought a freshet flood to such areas of British Columbia as: Terrace, Kitimat, 100 Mile, Kamloops, Prince George and Clearwater. Severe erosion damages, washed out trails, roads, and culverts, heavy rain, landslides, and damages to bridges were also experienced.",
           "British Columbia"
          ],
          [
           "Eastern Ontario and Quebec, March 28 - April 15, 1998. Warm weather and thunderstorms caused spring flooding. In Ontario, the Clyde River, Ottawa River, Mississippi River and rivers feeding Lake Nipissing overflowed. The lower Trent System below Peterborough from Rice Lake to Bay of Quinte also experienced flooding. States of Emergency were declared in these communities: Lanark Highlands, Village of Kearney, Township of Drummond, North Elmsley, Beckwith Township, Carleton Place and Mississippi Mills. In Quebec, over 15 rivers flooded and caused the evacuation of 3,697 people in 140 municipalities. Rivers on the North Shore of St. Lawrence River, St. Lawrence River, Assumption River, Chateauguay River, Richelieu River, Ottawa River, Lake St. Pierre and Lake Champlain flooded. Damage mainly occurred in the Montérégie and Mauricie regions.",
           "Eastern Ontario and Quebec"
          ],
          [
           "Saint John River NB, March 9-10, 1998.  Warm temperatures and a storm delivering 78 mm of rain led to ice break-up, ice jams and flooding along the Saint John River. Roads, bridges and some residences in low lying areas sustained major damages. Some families were isolated for up to a week until the roads were repaired. Areas affected were: Fredericton, Saint John, Moncton, Miramichi and Saint Leonard.",
           "Saint John River NB"
          ],
          [
           "Lesser Slave Lake area AB, June 17-20, 1997.  Major flooding occurred in the Lesser Slave Lake area in June.  This resulted in significant damage to property, pasture, and buildings.",
           "Lesser Slave Lake area AB"
          ],
          [
           "Southern BC, May 1, 1997. Below average temperatures, steady precipitation, a heavier than usual snow pack and extensive ground saturation caused flooding in the southern regions of BC. Extensive damage was done to agricultural lands, public works, private property and businesses. Precipitation in notable sites was 40110% above normal. Riverbank erosion, washouts, road closures and landslides affected many communities. The following areas flooded: Kettle River, Kicking Horse River, Elk River, Okanagan Lake, Columbia River, Salmon River, Slocan River, Shuswap Lake South Thompson River and Bulkley river.",
           "Southern British Columbia"
          ],
          [
           "Assiniboine, Red and Winnipeg Rivers MB, April-May 1997. The province of Manitoba declared a state of emergency on April 22, 1997. Five days later, Emerson was hit. Over 7000 military personnel were employed for 36 days to assist in preventing flood damage and in relocating the 25447 evacuees; communities affected include Emerson, Rosenort, St. Jean Baptiste, Morris, St. Adolphe, Nutimik, Portage la Prairie, Ste. Agathe, St. Norbert, Letellier, Dominion City, Scanterbury, Halbstadt, Brunkhild, Domain, LaSalle, Sanford and Winnipeg.",
           "Assiniboine, Red and Winnipeg Rivers MB"
          ],
          [
           "Peace River AB, April 19-23, 1997. Heavy snowpacks and a rapid snowmelt caused ice jams on the Peace River which backed up on Heart River, causing flooding of two towns. Peace River and Fort McMurray both sustained damages to homes, crop land, roads, bridges, culverts and businesses.  In the town of Peace River, 50% of the businesses were damaged, along with 20 farm homes and hundreds of bridges and roads; in some areas the water reached levels of 2 meters. A State of Emergency was declared in the town of Peace River, and 4000 people were evacuated.",
           "Peace River AB"
          ],
          [
           "South-central SK, March-April 1997. In late March, there was minor flooding in the municipalities of Swift Current and Ponteix.  From March 30 - April 3 1997, a breakup of ice caused flooding in low lying areas along the Moose Jaw River.  A State of Emergency was declared.  Twenty homes were flooded and 140 families (assume a family of 4) were evacuated.",
           "South-Central Saskatchewan"
          ],
          [
           "Montreal and Mauricie Region QC, November 8-9, 1996. Severe flooding due to heavy rains occurred in the Montréal and Mauricie regions.  Approximately 150 mm of rain fell on Montréal in 36 hours; some communities received 160 mm. The flooding caused extensive damage to agricultural lands, public works and private property including 6,000 residences and 100 businesses and industries. Two major highways closed near Montréal, washed out roads cut off three villages in Mauricie.  In total, 121 municipalities were affected and 1,000 people (425 families) were evacuated. No injuries were reported.",
           "Montreal and Mauricie Region QC"
          ],
          [
           "Ottawa ON, August 8, 1996.",
           "Ottawa ON"
          ],
          [
           "Saguenay River Valley QC, July 19, 1996; 290 mm of rainfall in less than 36 hours and caused at least 10 deaths.  Thousands of homes, roads and bridges washed out; Downed power lines.  A total of 15,825 people had to leave their homes.  At least 20 major bridges heavily damaged.  Greater than 50 towns and villages inundated, or main roads destroyed and electricity cut off.  Aluminium plants and paper mills slowed or closed for a month.  At least 3,200 industry workers idling.  3 schools closed. The Canadian Red Cross sent 1600 volunteers to set up a temp office and evacuate people. Overall they assisted 16,000 people.",
           "Saguenay River Valley QC"
          ],
          [
           "Atikokan ON, July 5-6, 1996.",
           "Atikokan ON"
          ],
          [
           "Lesser Slave Lake area AB, June 17-21, 1996. Large amounts of rainfall and a high water table caused flooding. Extensive damage was done to agricultural lands, farms, municipal roads, public works, private property, businesses and residential communities. There were over 700 claims received for property damage. Minor damage occurred to primary highways and bridges, and some dykes were destroyed.  The most severely affected communities were along Driftpile River, Swan River, East Prairie River and Arcadia River. Driftpile First Nation Reserve, Sucker Creek First Nation Reserve, Swan River First Nation Reserve, Municipal District of Big Lakes #125 and East Prairie Metis Settlement incurred damage. In total, 922 people were evacuated.",
           "Lesser Slave Lake area AB"
          ],
          [
           "Timmins and Dufferin counties ON, May 17-19, 1996.",
           "Timmins and Dufferin County ON"
          ],
          [
           "Red River, Souris River, Assiniboine River and Pembina River MB, April 18 - May 8, 1996. Heavy rainfall in the winter, high soil moisture levels and an unseasonably cool spring led to flooding. Thick ice flows and flood water caused damage to bridges, telephone cables, small businesses, roads, agricultural lands, and other community infrastructure. Small communities within the vicinity of Red River, Souris River, Assiniboine River and Pembina River were inundated. Thousands of customers went without telephone service for a week and 285 people were evacuated.",
           "Red River, Souris River, Assiniboine River and Pembina River MB"
          ],
          [
           "Sunny Valley AB, 1996.",
           "Sunny Valley AB"
          ],
          [
           "Southwestern British Columbia, November 27-29, 1995. Heavy rains and melting snow caused the Tulameen and Similkameen Rivers to overflow their banks in four regions: East coast of Vancouver Island, Mainland Coast, Mainland Coastal Valleys and the Interior Valley. The flooding forced 230 people to flee their homes in Princeton, Tulameen and Coalmont. A State of Emergency was declared in Princeton, a town of 2,800 people. Provincial, municipal and private sector properties were damaged. Some homes faced major structural repairs. There were actually three periods of heavy rains: Nov. 7-8, Nov. 13-17 and Nov. 27-29 when 135.4 mm, 395.0 mm and 650.6 mm of precipitation fell, respectively.",
           "Southwestern British Columbia"
          ],
          [
           "Southern Alberta, June 6-9, 1995. Heavy rain and snowmelt led to flooding. The most extensive damage occurred from the Oldman and South Saskatchewan Rivers from Crownest Pass to Pincher Creek, Lethbridge and Medicine Hat. This includes the southern areas of High River. Roads, property, riverbanks, trails, agricultural land and over 20 bridges were damaged. More than 215 homes had flooded basements and some experienced short power outages.",
           "Southern Alberta"
          ],
          [
           "Southeast region of British Columbia, June 5-9, 1995. Significant amounts of rainfall in the southern Rockies caused flooding in the East Kootenay (Elk River Watershed) Region. Provincial, municipal and private sector properties were damaged in the Kootenay Region and in the municipalities of Sparwood, Fernie, Princeton, Cranbrook and Erickson. There were 36 homes damaged, 2 road bridges and 1 CPR rail bridge washed out. On June 6, 702 residents were evacuated from Fernie and 100 residents evacuated from Sparwood.  The evacuations lasted until June 9.",
           "Southeastern British Columbia"
          ],
          [
           "East Kooteny (Elk River-Watershed) Region and in the municipalities of Sparwood, Fernie and surrounding areas BC, June 1995.  Severe flooding due to heavy rains.",
           "East Kooteney (Elk River-Watershed) Region and the municipalities of Sparwood, Fernie and surrounding areas BC"
          ],
          [
           "Western MB, April 1995.  In April, rapid snowmelt sent very high flows into the Assiniboine River and the Red River below the Shellmouth Dam.  Spring runoff and two heavy snowfalls of 20-30 cm each in late March had contributed to the flooding problem.  Public road networks, urban and rural properties and agricultural lands suffered damage. Damage occurred at over 100 locations on the provincial highway system, at over 5500 sites on municipal roads and to large culverts and bridges.  Seventy communities were inundated in Manitoba, including: Roblin, Russell, Binscarth, Birtle, Glenora, Pilot Mound, Melita, Virden, Elkhorn, Boissevain, Springfield, Brandon and Minnedosa. The hardest hit areas were Brandon and Shellmouth along the Assiniboine River.  Both a small town of 50 people and the Sioux Valley First Nations Reserve were evacuated. Refer to the Saskatchewan entry for more information on this weather system.",
           "Western MB"
          ],
          [
           "Northeastern Saskatchewan, April 1995. An unusual quick thaw combined with spring rain early in the season caused extensive flooding in Eastern Saskatchewan.  The flooding caused damage to agricultural lands, urban, rural, public and private properties. Numerous Saskatchewan communities declared a State of Emergency, including: Quill Lake, Engleford, Langeburg and the City of Melville. Other inundated areas were: Carrot River, Moosomin, White Sands, Yorkton, Melfort and Nipawin. Refer to the Manitoba entry for more information on this weather system.",
           "Northeastern Saskatchewan"
          ],
          [
           "Poplar Bay AB, 1995.",
           "Poplar Bay AB"
          ],
          [
           "Quebec, 1995.",
           "Quebec"
          ],
          [
           "Plaster Rock NB and Lower St. Lawrence Region, QC, April 16-26, 1994. Freshet during the spring and one rainstorm caused flooding of the Saint John and Miramachi Rivers. Flooded basements, riverbank erosion and damaged roads was incurred by private, municipal and provincial property. Over 130 residences, 20 farms, 14 small businesses and the following 4 municipalities were affected: Village of Clair, St. Fran?ois, Rivi?re Verte and Plaster Rock.  In Quebec, ice jams along the Matap?dia, Restigouche and Gasp?sie Rivers caused flooding. Thirty-two municipalities were flooded, including the following: Rimouski, Matane, Bonaventure, Restigouche, Matap?dia, Petite Cascap?dia and Capchat. Matap?dia was isolated for 2 days without electricity or telephone service; 100 people were evacuated. Three bridges were washed away in the lower St. Lawrence area, and communication between southern and northern St. Lawrence shore was cut.",
           "Plaster Rock NB and Lower St. Lawrence Region QC"
          ],
          [
           "Southern ON, January 16-17, 1994.",
           "Southern ON"
          ],
          [
           "Saskatchewan, July 29, 1993.",
           "Saskatchewan"
          ],
          [
           "Quebec, July 29-30, 1993.",
           "Quebec"
          ],
          [
           "Winnipeg MB, July 25 - August 14, 1993. The City of Winnipeg was declared a disaster area because of flooding caused by prolonged heavy rainfall; three severe rainstorms in a five-week period during July caused sewer backups and other extensive damage to homes, power lines, and agricultural land infrastructure in Winnipeg and surrounding areas including Selkirk, Springfield and Beausejour.  Wettest summer in Winnipeg in 120 years.",
           "Winnipeg MB"
          ],
          [
           "Swan River MB, July 4, 1993. Prolonged rains resulted in severe flooding in the rural municipalities of Swan River, Minitonas, Ethelbert, the Local Government district of Mountain and adjoining municipalities, causing extensive damage to homes, public utilities and municipal infrastructure. 7 bridges washed away.  3 highways and numerous roads closed. 650 homes were evacuated.",
           "Swan River MB"
          ],
          [
           "Upper Saint John River valley NB, April 1993. Intense spring rainfall and deeper than normal snowpack caused flooding of the Upper Saint John River valley. Public and private property and municipalities incurred damage; individuals made over 300 damage claims due to flooded basements. A sewage treatment plant, sections of the TransCanada Highway and Hotel-Dieu Hospital all sustained damage. Ice, mud and uprooted trees were scattered across the area. The following communities were inundated: Siegas, Fredericton, Rivière Verte, Village of Perth-Andover, Village of Plaster Rock, Ste. Anne de Madawaska, Town of Woodstock, St. François and Quisesibis.",
           "Upper Saint John River Valley NB"
          ],
          [
           "Elmira ON, August 28, 1992.",
           "Elmira ON"
          ],
          [
           "Toronto ON, July 31, 1992.",
           "Toronto ON"
          ],
          [
           "Yukon rivers YT, June 17 ? July 1992. Above-average snowpack and precipitation combined with high winter temperatures caused flooding along the Upper Liard River basin, Teslin River basin, South Canol Area, Upper Lakes of the Yukon River basin, Stewart River and Bennett Lake.  The Upper Liard River basin peaked on June 17, the fifth highest record since 1960; Teslin River peaked on June 25, breaking the old record set in 1947; Yukon Upper Lakes peaked on July 30, the 3rd highest record since 1951. Flooding caused road washouts, damage to private property and reserves, and significant threats to water and sewere facilities. The hardest hit communities were: Upper Liard, Carmacks, Carcross and Teslin.",
           "Yukon Rivers YT"
          ],
          [
           "Sainte-Brigitte-de-Laval, about 40 km north of Qu?bec City QC, March 12, 1992. Approximately 40 people were airlifted from this community on Ile Enchanteresse (a mile long island 40km north of QuÃ©bec City) when flood waters caused by an ice jam on the Montmorency River rapidly inundated the town, flooding 80 houses; two QuÃ©bec government helicopters and one Canadian Forces helicopter were used in the evacuation.",
           "Sainte-Brigitte-de-Laval, about 40 km north of Qu?bec City QC"
          ],
          [
           "Peace River, 388 km northwest of Edmonton AB, February 28 - March 4, 1992. Unseasonably warm weather broke up the frozen Peace River, ice jams caused water levels to rise 4.3 m above average; water levels peaked at 15 m; extensive flooding necessitated the evacuation of approximately 3800 residents of the town for at least three days; approximately 20 homes sustained severe damage, 30 others were damaged but could be occupied; no deaths or injuries were reported.",
           "Peace River AB"
          ],
          [
           "Lethbridge AB, 1992.",
           "Lethbridge AB"
          ],
          [
           "Southwestern British Columbia, August 29 to September 1, 1991. Heavy rains caused extensive damage in the Southwestern area of BC, mainly surrounding Vancouver and the Chilliwack area. More specifically: in the South Central region, Bella Coola, Chilcotin, West Central Region, Southwest Region, Fraser Columbia, Kooteney, Similkameen and Peace Regions.",
           "Southwestern British Columbia"
          ],
          [
           "Old Crow YT, May 8-9, 1991. Ice jams caused the Porcupine River to overflow and flood the community of Old Crow. Over half of the buildings sustained damage, including 32-40 homes, the church, the school,  the airport runway and terminal building, the Nursing Station and Co-op Store. Supplies, electrical systems and generators were also damaged.",
           "Old Crow YT"
          ],
          [
           "Chaudi?re River QC, April 7-8, 1991. Residents along the Chaudi?re River, south of Quebec City, experienced the highest flood levels in several years; many homes and businesses were damaged by water and ice. 1000 residents were evacuated.  Telephone poles knocked down, cars crushed by the weight of ice, flooded basements.",
           "Chaudi?re River QC"
          ],
          [
           "Newfoundland, December 9, 1990. Heavy rain caused this damaging flood.  Up to 100 millemetres of rain fell on the area, forcing the closure of highways, flooding homes and damaging bridges.",
           "Newfoundland"
          ],
          [
           "Southwestern British Columbia, November 8-13, 1990; 309 people evacuated and eight homes destroyed; heavy rains caused widespread flooding over a wide area of southwestern British Columbia and Vancouver Island; the British Columbian interior was cut off from the coast for several days as highways were shut down by landslides and road washouts.",
           "Southwestern British Columbia"
          ],
          [
           "Woodstock area NB, August 1990. Flooding was caused by heavy rains.",
           "Woodstock NB"
          ],
          [
           "Western Alberta, May 25 - July 4, 1990. Heavy rains caused extensive flooding and runoff damage in a number of communities in Alberta during several separate periods. Rains fell from Peace River in the north to High River in the South. Flooding caused damage to public works, businesses, First Nation reserves, farmland, and extensive damage of private residences. Sewers backed up, roads and bridges washed out. The communities most affected were: Thorsby, Winfield, Calman, Mudhurst and Bentley. During late May, several rivers were 1.3-3m above their normal level and  on July 2-3, 100150 mm of rain fell on Central Alberta in 36 hours. Over 200 homes were damaged by flooding, and 4 were destroyed. 1 man drowned while crossing a river, and a woman was missing. * During the two week time period, approximately 34 families and 85 people were evacuated.",
           "Western Alberta"
          ],
          [
           "Southwestern British Columbia, November 8-12, 1989. A rainstorm which caused flooding occurred in southwestern British Columbia. Over 500 homes were flooded, a salmon hatchery incurred damage, and many service roads were washed away. Parts of the TransCanada highway were blocked with mudslides. The flooding also caused damage to the Coquihala highway and to the Owekena First Nation reserve; 28 residents of this reserve were evacuated.",
           "Southwestern British Columbia"
          ],
          [
           "Harrow and Colchester South, Essex County ON, July 19-20, 1989. Widespread flooding due to 450 mm of rain in a 30-hour period; the rainfall was from an intense thunderstorm which was centred over Colchester South and appeared to be stationary over Harrow for most of its duration. Many were evacuated from areas of extreme flooding and erosion; a few injuries were reported, no deaths; utility service in some areas was disrupted.  Kent and Leamington counties were also affected.",
           "Harrow, Kent, Essex, Leamington counties ON"
          ],
          [
           "Liard River NT, May 1-9, 1989. Flooding, caused by severe ice jams near 3 Mile Island, damaged the community of Fort Liard.  A State of Emergency was declared on May 1 due to the high water levels, 1 m in some areas.  Water built up when the ice jam reached Fort Simpson and the town of Hay River was also damaged. Personal, municipal and territorial property was damaged, riverbanks were eroded. Over 50 homes were affected by the flooding and 125 people were evacuated, there was no loss of life.",
           "Liard River NT"
          ],
          [
           "Lesser Slave Lake area AB, July 5-8, 1988. A severe rainstorm which started on July 5 1988, brought up to 160 mm of rain to the Town of Slave Lake and surrounding areas. This caused overbank flooding and log jams on Sawridge Creek, Driftpile River and Swan River. Individuals, small businesses, farms, a hospital, and government property sustained damage. Major highways north of Edmonton to Slave Lake were closed. Over 800 homes flooded, 500 of them severely damaged. Approximately 2800 residents were evacuated from the area.",
           "Lesser Slave Lake region AB"
          ],
          [
           "Duck Mountain and Swan River MB, April 1, 1988. A sudden thaw along with excessive rain produced severe flooding in the Duck Mountain-Swan River area of Manitoba. Damages occurred  to private, municipal and provincial property.",
           "Duck Mountain and Swan River MB"
          ],
          [
           "Montreal QC, July 14, 1987. The city experienced severe thunderstorms and intense rainfall with 100 mm of rain in 1 hour. Major expressways were flooded with over three metres of water; in 30 minutes the subterranean Decarie Expressway was flooded with 3.6 metres of water; the sewer system was backed up, flooding approximately 40,000 homes and businesses; the subway system was closed; 2 dead: one from drowning in his car and the other was electrocuted.  There was also a tornado caused by the severe thunderstorm which uprooted large trees and toppled hydro lines.",
           "Montreal QC"
          ],
          [
           "Perth-Andover NB, April 2, 1987. Serious damage occurred when an ice jam formed during snowmelt and heavy rainfall caused severe flooding; the railway bridge spanning the Saint John River was destroyed; 17 rail cars spilled mildly toxic water-soluble chemicals into the water; a State of Emergency was declared; mass evacuations were necessary.",
           "Perth-Andover NB"
          ],
          [
           "Saskatchewan and Alberta, July 16-24, 1986.  A flood occurred on the North Saskatchewan River, several of its tributaries and on tributaries of the Athabasca River.  On July 22 and 24, Battleford and Prince Albert respectively experienced flooding. The floods resulted from heavy precipitation in the mountains, foothills and Great Plains regions, compounded by high antecedent soil moisture conditions.  Crops were destroyed and farm buildings were damaged.  Hundreds of homes were flooded and severe erosion occurred in some communities causing road and bridge damage and several washouts.  The extensive flooding also caused an overflow in several municipal sewer systems leading to sewer collapse. The event resulted in one death. Refer to the Alberta entry for more information on this weather system.",
           "Saskatchewan and Alberta"
          ],
          [
           "North-central Alberta, July 13-24, 1986. Very heavy precipitation caused the McLeod, Pembina, the Athabasca rivers and the North Saskatchewan River and its tributaries to overflow and flood the North Saskatchewan River valley in Edmonton (July 19) and hundreds of smaller communities. Extensive damage occurred in low-lying residential areas, agricultural lands, crops, farm property and buildings. Municipal and provincial infrastructure was also damaged. 1500 homes were damaged. Refer to the Saskatchewan entry for more information on this weather system.",
           "North-central Alberta"
          ],
          [
           "Icelandic and Fisher Rivers MB, April-June 1986. Little warning preceded the flood on April 1, 1986, which continued on until the end of June. A sudden spring thaw and enormous amounts of rain caused this severe flooding throughout Manitoba. Extensive damage to private, municipal and provincial property was incurred. The areas surrounding Icelandic River and Fisher River were inundated, including Peguis and Fisher River First Nation reserves (148 people were evacuated from Peguis). Major areas affected were the Dauphin Region, Portage la Prairie and the Northern Interlake regions.",
           "Icelandic River and Fisher River MB"
          ],
          [
           "Pemberton area BC, October 6-8, 1984. Persistent heavy rains over three days caused severe flooding in the Pemberton, Squamish, and Lion's Bay areas; 300 people were evacuated; the flood caused one death.",
           "Pemberton area BC"
          ],
          [
           "Lower Fraser River Valley BC, January 4-5, 1984. Heavy rainfall and snowmelt caused flooding in southwestern British Columbia; transportation was disrupted as debris jams and water obstructed traffic on Highway 1; several problems were caused by flooding and washouts; there was a mudslide and a bridge washout, and sections of CP and CN railway track were washed out as well as damage to a fish hatchery.",
           "Lower Fraser River Valley BC"
          ],
          [
           "Gasp?sie and lower north shore of Gulf of St. Lawrence River QC, December 7-8, 1983. High tides and violent winds from a severe storm caused flooding along the Gasp?sie and Gulf of St. Lawrence shores along with landslides; damage, partially wind related, was widespread; several wharves, ships, and roads were damage; several homes and cottages were flooded; the communities of Chandler, La Martre, Sainte-Anne-des-Monts and Longue-Pointe were affected.",
           "Gasp?sie QC"
          ],
          [
           "Central, southern, and western Newfoundland, January 11-19, 1983. Due to mild temperatures and excessive rainfall from a major Snowstorm, homes and highways were damaged along the Exploits and Gander Rivers (central), the Conne River (southern), and in Stephenville (west coast); the flood occurred after 189 mm of rain fell within a 36-hour period, destroying several homes, businesses and other infrastructure worth approximately $4 million; several homes, two railway cars and a local club were washed away; approximately 500 people were evacuated; numerous washouts along many central highways forced travellers to seek refuge; no loss of life or personal injury was reported; flooding in the Exploits and Gander River basins resulted in partial damage to the dam and power house in Bishop's Falls on the Exploits River. >60 homes were flooded",
           "Central, southern, and western Newfoundland"
          ],
          [
           "Aklavik NT, June 1-6, 1982. Late in May, three separate ice jams occurred downstream of Point Seperation causing backwater flow to be diverted down the Peel Channel. As a result, the remote settlement of Aklavik experienced significant flooding. Flood waters damaged numerious homes in Aklavik and left debris scattered along the settlement's airstrip. On June 3, flood water reached a peak level of nearly 11 metres. It is estimated that 95 per cent of the Mackenzie Delta was under water. This event was the most severe flood event to occur in the region since 1961.",
           "Aklavik NT"
          ],
          [
           "Hay River NT, 1982.",
           "Hay River NT"
          ],
          [
           "Southeastern ON, February 18-20, 1981. The Ottawa and Rideau River basins in southeastern Ontario, as well as Toronto suffered flood damages.",
           "Southeastern ON"
          ],
          [
           "Sussex NB, 1981. Floods caused the evacuation of 20 families (assume a family of 4) and damage to property.",
           "Sussex NB"
          ],
          [
           "Squamish River BC, December 26-27, 1980. A combination of heavy rain and melting snow caused floods along the Squamish River and other nearby rivers; flooded areas such as Brackendale, Squamish, Princeton, Coalmont, Hope and Vancouver Island. Several bridges were washed out.  An estimated 3000 people had to be evacuated and 200 homes were damaged.",
           "Squamish River BC"
          ],
          [
           "Vancouver Island BC, December 18, 1979. A continuous downpour of heavy rains and strong winds caused great damage from flooding and mudslides. Campbell, Gold and Oyster Rivers on Vancouver Island were flooded. On the mainland, Surrey, Haztic, Port Moody, Squamish and some First Nation Reserves reported damage of public, private and municipal buildings/land due to flooding. Water, 15 to 30 cm deep, led to the damage of roads, bridges, and the Western Speedway.",
           "Vancouver Island BC"
          ],
          [
           "Dawson YT, May 3, 1979. An ice jam on the Yukon River caused water to rise 2 m, flooding 80% of Dawson's buildings.",
           "Dawson YT"
          ],
          [
           "New Brunswick, April 24 - May 7, 1979. Rainfall and heavy snowmelt caused extreme flood conditions in most parts of the province; record-breaking discharge was seen at some hydrometric stations. Several major highways were closed, and many residents evacuated when their homes were inundated by flood waters.",
           "New Brunswick"
          ],
          [
           "Red River region MB, April-May 1979. A major flood, close to flood levels of the 1950 flood, hit the Red River region; most of the damage occurred in the valley; no communities were flooded as the dykes protecting them were temporarily raised; 10,000 people were ordered to evacuate: 1450 residents were evacuated in the town of Morris and 400 from the Roseau Reserve; livestock and poultry were also evacuated.",
           "Red River region MB"
          ],
          [
           "Kicking Horse Pass, Alberta - British Columbia border, November 1978. Debris flows triggered by a j?kulhlaup (sudden and rapid draining of a glacier dammed lake or of water impounded within a glacier) from Cathedral Glacier destroyed three levels of Canadian Pacific Railway track, derailing a freight train; sections of the TransCanada Highway were also buried.",
           "Kicking Horse Pass, Alberta - British Columbia border"
          ],
          [
           "Northwestern British Columbia, October 29 - November 7, 1978. Northwestern BC was hit by two floods. The first was due to a major storm system which struck October 29 to November 1. The second flood was caused by heavy rainfall and mixture of snow and rain occurring between November 4 and 7. Flooding occurred collectively along the Skeena and Nass rivers, and on the Queen Charlotte Islands. The Terrace-Kitimat region was declared a disaster area as the local economy was severely disrupted by the flooding and loss of communication links. Kitimaat Village and Thornhill were also affected while Lakelse Lake and Old Remo areas were the worst hit by flooding with dozens of homes flooded.  Numerous bridges were damaged and destroyed, roads and highways were washed out in many places, and the railway line between Smithers and Terrace was closed because of the flooding. A CN Rail track was undermined ? a train engine fell into the Skeena River, causing the deaths of two people.",
           "Northwestern British Columbia"
          ],
          [
           "Edmonton AB, July 10-11, 1978. A highly localised rainstorm and subsequent runoff exceeded the capacity of Edmonton's sewer system, causing a severe urban flood. Approximately 90 mm of rain was dumped in 1618 hours although most of the rain fell within a 4-hour period. Roads and bridges were damaged, soil was eroded, basements were flooded and sewers were backed up. Brief telephone and power failures were also reported. The areas of Raymond, Lethbridge, Milk River and Coutts were also affected.",
           "Edmonton AB"
          ],
          [
           "Newfoundland, January 14-16, 1978. Unseasonable weather conditions caused flooding of  the Grand Codroy River on the west coast of Newfoundland. The Grand Codroy River Bridge (standing since 1926) required major reconstruction because it collapsed under pressure of ice floes in the flooded river. The loss of a link between the north and south sides of the river stranded 1500 residents of Codroy, Melville, Cape Anguille and O'Regans. In addition, 244 m of telephone cable previously attached to the bridge were destroyed, leaving the four communities without phone service. In April 1978, a temporary single-lane bridge constructed 16 km downstream from the original bridge.",
           "Newfoundland"
          ],
          [
           "Assiniboine River MB, April 1976. Record flooding was reported.",
           "Assiniboine River MB"
          ],
          [
           "Saint John River Basin NB, March 31 ? April 5, 1976. Town of Woodstock, Villages of Hartland, Ste Anne de Madawaska, Perth-Andover and Green River, New Brunswick; some river systems in the northeast of New Brunswick were also affected; cyclonic storms and high snowmelt rate contributed to cause severe ice jam flooding, inundated regional highways and municipal streets as well as railroads and bridges; massive ponds formed in some residential areas; losses in crops and livestock; a State of Emergency was declared; 400 people were evacuated as the flood submerged about 200 homes, several businesses, and a junior high school; 2 people died, one from a trail derailment, the other drowned.",
           "Saint John River Basin NB"
          ],
          [
           "Saskatchewan, March - April 15, 1976. During the spring season, there was large amount of rainfall in many areas of Saskatchewan. Flood damage to hospitals, churches, private property, small businesses and farmland occurred. Roads also required raising. Areas affected were the following: Souris River, Moose Jaw River, Qu'Appelle River, and Qu'Appelle Lakes.",
           "Saskatchewan"
          ],
          [
           "Quebec, March 1, 1976. Province-wide flooding caused by an unusually wet spring combined with heavy runoff from spring snowmelt affected several areas of the province; most notably the Lower St. Lawrence/Gasp?sie, Saguenay/Lake St. John, Quebec, Montreal, Trois-Rivi?res, Eastern Townships, Abitibi/Temiscamingue and Outaouais areas. In total, approximately 104 communities located along and in the vicinity of the Souris and Assiniboine River were flooded. Public, private and municipal land was damaged.",
           "Quebec"
          ],
          [
           "Regina SK, June 25, 1975. Over 120 mm of rain fell of Regina and the surrounding area, causing major property damage.",
           "Regina SK"
          ],
          [
           "Saskatchewan, April-May 1975. An extremely high snow accumulation combined with long periods of rain during the runoff period led to the spring flooding of Saskatchewan. The annual flood volume was 5 times above average.  Both the North and South Saskatchewan Rivers experienced flooding, along with the Qu\\'Appelle River basin.  Damage to homes, small businesses and public works occurred in 69 municipalities and 1 village. There were eroded banks, damaged churches, hospitals, roads and farmland. Losses in livestock and grains were reported. Raising of road grades was necessary.",
           "Saskatchewan"
          ],
          [
           "Saint John River NB, April 29, 1974. Heavy spring runoff and ice jams caused flooding along the Restigouche and Saint John Rivers beginning on April 29 and continuing to the middle of May. Major areas affected were along the Saint John River from Mactaquac through Fredericton to Maugerville and Sheffield. Residential property, private property, small businesses, schools, public property, churches and other buildings sustained damages. Highways, roads and bridges were flooded over and washed out. There were crop and livestock losses, also major damage to the fishing industry. Some minor flooding occurred along the following rivers: Keswick, Nashwaak, Tay, Oromocto and Jemseg.",
           "Saint John River Basin NB"
          ],
          [
           "Central and Southern Manitoba, April-May 1974. Severe flooding occurred in central and southern Manitoba on practically all rivers and river systems; many people had to be evacuated; although the natural discharge of water was greater than the flood in 1966, the city of Winnipeg avoided major damage due to the Red River Floodway, the portage Diversion, and the Shellmouth Dam, which were flood control programs intentionally set-up to reduce flooding in Winnipeg.",
           "Central and Southern Manitoba"
          ],
          [
           "Central and Northern AB, Spring 1974.  Adverse weather and flooding had major impacts in most of Alberta.  Heavy snowfall accumulations prevented the harvest of 1973 crops.  Farmers could not plant 1974 seeds either since the soil was saturated.  Spring flooding damaged private property, agricultural lands, livestock, roads, and bridges.",
           "Central and Northern Alberta"
          ],
          [
           "Saskatchewan, 1974. In the winter of 1974, near-record snowfall resulted in extensive spring flooding across the province; farms and ranch land were flooded, while roads and bridges were damaged along the Carrot and Red Deer rivers; the communities of Pierceland and Green Lake on the Beaver River were affected; the cities of Moose Jaw, Regina and Lumsden, on the Qu'Appelle River basin, received major flood damage; in Moose Jaw, the Moose Jaw River, Thunder Creek and Spring Creek overflowed their banks and caused the flooding of 60 city blocks (including 480 homes) and the evacuation of 1400 people (April 18 and 19); the Wascana Creek overflowed its banks in Regina.",
           "Saskatchewan"
          ],
          [
           "Maniwaki QC, January-June 1974. Over 300 municipalities were affected by the province-wide flooding caused by an unusually wet spring combined with excessive runoff of spring snowmelt;  flooding centred on the Gatineau, Ottawa, Richelieu, Saint Lawrence, Chateauguay, Saint-Maurice, and Chaudi?re Rivers; over 1000 homes and 600 summer cottages were flooded; approximately 7000 people were evacuated; in Maniwaki, damages were high as 3000 residents had to be evacuated; the communities of Wakefield, Chelsea, and Pointe-Gatineau, downstream from Maniwaki, were also affected.",
           "Maniwaki QC"
          ],
          [
           "Saint John River basin NB, April 27 - May 5, 1973. The Sheffield-Maugerville area (downstream from Fredericton), and Fredericton were some of the communities that were flooded; the pulp and paper industry was affected.  The centre of the Province reported 68 mm of rain.  The 60 cm of snow on the frozen ground increased the volume of water which was running into the river.  Over 2,500 private homes were flooded and 536 families (1,600 persons) were forced to evacuate their homes in the central part of the Province.  Only one death has been attributed to the flooding.  Major losses to crops have resulted from the high water, erosion, and loss of greenhouse plants.",
           "Saint John River Basin NB"
          ],
          [
           "Fraser River at Prince George BC, May 1972. Freshet flooding caused significant damage along the Fraser River; an above-average snowfall, and substantial mountain snowpacks, followed by high temperatures in late May resulted in severe flooding at the end of May and into June; the Fraser River peaked three times in June, flooding both the upper and lower Fraser River Valley, affecting several communities (upstream communities of Kamloops and Prince George, and downstream communities of Surrey and Hope).",
           "Prince George BC"
          ],
          [
           "Saint John River basin NB, February 2-6, 1970. Snowmelt, ice jams and heavy rainfall caused flooding in New Brunswick; a series of ice jams in six rivers caused the destruction of 32 bridges and caused the damage of 124 other bridges. Extensive damage was done to private homes, farmsteads, farm equipment, fishing gear,  industrial and commercial companies. Over 600 properties were damaged.  One person died when a barn collapsed, and two others drowned.",
           "Saint John River Basin NB"
          ]
         ],
         "hovertemplate": "EVENT TYPE=Flood<br>NORMALIZED TOTAL COST=%{marker.size}<br>INSURANCE PAYMENTS=%{y}<br>COMMENTS=%{customdata[0]}<br>PLACE=%{customdata[1]}<extra></extra>",
         "legendgroup": "Flood",
         "marker": {
          "color": "#00cc96",
          "size": [
           0,
           1418224.3,
           0,
           21613457.9,
           0,
           3043551.4,
           0,
           0,
           0,
           0,
           929089.5,
           1418674.1,
           626070.3,
           45928338.8,
           132690977.2,
           0,
           188775.7,
           74137.1,
           11910714.9,
           330320.5,
           0,
           975086.3,
           0,
           1664286.9,
           1919449.5,
           0,
           0,
           35023386.2,
           4084003.3,
           257510.7,
           1350231.8,
           0,
           0,
           161459.2,
           53133218.9,
           398202.8,
           0,
           0,
           24080.2,
           104895.1,
           4012552.4,
           237029.4,
           1104294.5,
           0,
           0,
           24189.3,
           0,
           0,
           0,
           0,
           0,
           0,
           403587.4,
           516591.9,
           6769506.7,
           0,
           0,
           172731.2,
           0,
           0,
           177954.9,
           400584,
           1035238.6,
           536499.1,
           193750,
           7236414.8,
           2076601.2,
           81190.9,
           36315,
           0,
           127749.6,
           0,
           326647.6,
           131946.9,
           522896.8,
           1487506.7,
           404749.4,
           139021.7,
           273242.4,
           963250.9,
           622574.9,
           418551.2,
           0,
           0,
           572017.6,
           1284809.3,
           1025191.8,
           353952.4,
           183494.4,
           238194.6,
           317264,
           93091.5,
           565217.6,
           7052451,
           110904.5,
           1448441,
           1823111.8,
           370434.9,
           44094.2,
           2662479.3,
           33087184.3,
           3143926.6,
           87575.8,
           6282747.8,
           1438110.2,
           20247469.1,
           18766.8,
           1225633.1,
           25549.4,
           460047.9,
           6769.9,
           1290083.7,
           10590637.4,
           490116.9,
           490116.9,
           288057.9,
           518656.2,
           2454.1,
           3936.8,
           3992464.3,
           1001096.8,
           455867,
           702142.9,
           15056583.3,
           402220.2,
           1049524.9,
           338467.1,
           381281.4,
           16331.1,
           72307.9,
           204740.8,
           15662.6,
           1253631.9,
           39615.4,
           266811.9,
           178146.2,
           2252055.7,
           127551,
           1694949.2,
           252426.6,
           1107513.4,
           87816.4,
           2974434.4,
           195770,
           5624818.8,
           689543.1,
           1636262.8,
           1174752.8,
           264639.2,
           395951.7,
           398989.1,
           5559174.6,
           657608.4,
           15454.9,
           62603.7,
           202253.3,
           2696.7,
           1383136.4,
           396400.5,
           278100,
           484147.5,
           2783595.5,
           3293008.7,
           1357009,
           261901.6,
           858324.4,
           876868.7,
           188102.9,
           375782.1,
           3954983.9,
           585149.4,
           391831.4,
           183329.5,
           3325891.8,
           1953893.1,
           1514152.7,
           4984382.3,
           1858728.8,
           1452054.8,
           1104532
          ],
          "sizemode": "area",
          "sizeref": 761618.9102500001,
          "symbol": "circle"
         },
         "mode": "markers",
         "name": "Flood",
         "orientation": "v",
         "showlegend": true,
         "type": "scatter",
         "visible": true,
         "x": [
          0,
          1418224.3,
          0,
          21613457.9,
          0,
          3043551.4,
          0,
          0,
          0,
          0,
          929089.5,
          1418674.1,
          626070.3,
          45928338.8,
          132690977.2,
          0,
          188775.7,
          74137.1,
          11910714.9,
          330320.5,
          0,
          975086.3,
          0,
          1664286.9,
          1919449.5,
          0,
          0,
          35023386.2,
          4084003.3,
          257510.7,
          1350231.8,
          0,
          0,
          161459.2,
          53133218.9,
          398202.8,
          0,
          0,
          24080.2,
          104895.1,
          4012552.4,
          237029.4,
          1104294.5,
          0,
          0,
          24189.3,
          0,
          0,
          0,
          0,
          0,
          0,
          403587.4,
          516591.9,
          6769506.7,
          0,
          0,
          172731.2,
          0,
          0,
          177954.9,
          400584,
          1035238.6,
          536499.1,
          193750,
          7236414.8,
          2076601.2,
          81190.9,
          36315,
          0,
          127749.6,
          0,
          326647.6,
          131946.9,
          522896.8,
          1487506.7,
          404749.4,
          139021.7,
          273242.4,
          963250.9,
          622574.9,
          418551.2,
          0,
          0,
          572017.6,
          1284809.3,
          1025191.8,
          353952.4,
          183494.4,
          238194.6,
          317264,
          93091.5,
          565217.6,
          7052451,
          110904.5,
          1448441,
          1823111.8,
          370434.9,
          44094.2,
          2662479.3,
          33087184.3,
          3143926.6,
          87575.8,
          6282747.8,
          1438110.2,
          20247469.1,
          18766.8,
          1225633.1,
          25549.4,
          460047.9,
          6769.9,
          1290083.7,
          10590637.4,
          490116.9,
          490116.9,
          288057.9,
          518656.2,
          2454.1,
          3936.8,
          3992464.3,
          1001096.8,
          455867,
          702142.9,
          15056583.3,
          402220.2,
          1049524.9,
          338467.1,
          381281.4,
          16331.1,
          72307.9,
          204740.8,
          15662.6,
          1253631.9,
          39615.4,
          266811.9,
          178146.2,
          2252055.7,
          127551,
          1694949.2,
          252426.6,
          1107513.4,
          87816.4,
          2974434.4,
          195770,
          5624818.8,
          689543.1,
          1636262.8,
          1174752.8,
          264639.2,
          395951.7,
          398989.1,
          5559174.6,
          657608.4,
          15454.9,
          62603.7,
          202253.3,
          2696.7,
          1383136.4,
          396400.5,
          278100,
          484147.5,
          2783595.5,
          3293008.7,
          1357009,
          261901.6,
          858324.4,
          876868.7,
          188102.9,
          375782.1,
          3954983.9,
          585149.4,
          391831.4,
          183329.5,
          3325891.8,
          1953893.1,
          1514152.7,
          4984382.3,
          1858728.8,
          1452054.8,
          1104532
         ],
         "xaxis": "x",
         "y": [
          null,
          null,
          null,
          462528000,
          null,
          null,
          null,
          null,
          null,
          null,
          null,
          null,
          null,
          940000000,
          1700000000,
          null,
          null,
          null,
          241589000,
          null,
          null,
          null,
          null,
          33258000,
          38357000,
          null,
          null,
          null,
          null,
          null,
          null,
          null,
          null,
          null,
          null,
          null,
          null,
          null,
          null,
          null,
          null,
          null,
          null,
          null,
          null,
          null,
          null,
          null,
          null,
          null,
          null,
          null,
          null,
          null,
          null,
          null,
          null,
          null,
          null,
          null,
          null,
          null,
          null,
          null,
          null,
          null,
          null,
          null,
          null,
          null,
          null,
          null,
          null,
          null,
          null,
          null,
          null,
          null,
          null,
          null,
          null,
          null,
          null,
          null,
          null,
          null,
          null,
          null,
          null,
          null,
          null,
          null,
          null,
          null,
          null,
          null,
          null,
          null,
          null,
          null,
          232600000,
          null,
          null,
          78945080,
          21308000,
          null,
          null,
          null,
          null,
          null,
          null,
          null,
          21893670,
          null,
          null,
          null,
          null,
          null,
          null,
          null,
          14299000,
          5890000,
          8342000,
          199487780,
          null,
          null,
          4738539,
          5337940,
          null,
          null,
          null,
          null,
          null,
          null,
          null,
          null,
          null,
          null,
          null,
          null,
          13807000,
          null,
          21500000,
          null,
          44678000,
          null,
          null,
          null,
          null,
          null,
          null,
          null,
          null,
          null,
          null,
          null,
          null,
          null,
          null,
          null,
          null,
          null,
          null,
          null,
          null,
          null,
          null,
          null,
          null,
          null,
          null,
          null,
          null,
          null,
          null,
          null,
          null,
          null,
          null,
          null
         ],
         "yaxis": "y"
        },
        {
         "customdata": [
          [
           "West Kelowna BC, August 21-25, 2016. A wildfire broke out on the evening of August 21, near Bear Creek Provincial Park located north of West Kelowna. The Central Okanagan Regional District ordered an evacuation of 156 homes (approximately 468 individuals). In addition, campers from the Bear Creek Provincial Park were also evacuated. Firefighting crews quickly gained control of the blaze, which was 52 hectares in size and 60 per cent contained by August 22. Evacuation orders were lifted for 51 homes and campers were temporarily allowed into their campsites to remove possessions, vehicles and trailers on August 22. The wildfire was 100 per cent contained by January 25.",
           "West Kelowna BC"
          ],
          [
           "Burns Bog BC, July 3-6, 2016. A wildfire 78 hectares in size burned in the Burns Bog Delta Nature Reserve, located near Surrey British Columbia. The fire prompted a local state of emergency due to its proximity to suburban residential streets and an industrial complex. Delta?s Tilbury Industrial Park, which is comprised of 25 commercial businesses, was evacuated on July 3 and workers were unable to return until July 6. A section of Highway 17, from Highway 99 to the Highway 91 connector, temporarily closed as the fire burned dangerously close to the road. Burns Bog is the largest raised peat bog and the largest undeveloped urban land mass in the North American west coast. Officials predict that it could take up to a century for the bog to be completely restored.",
           "Burns Bog BC"
          ],
          [
           "Easterville and Chemanwawin MB, June 23-27, 2016. Evacuation orders were issued for the communities of Easterville and Chemanwawin Cree Nation, located 450 kilometres north of Winnipeg, due to smoke and the threat of a wildfire that came within half a kilometre of the two communities. There were three fires burning in the area at the time. The fire closest to Easterville and Chemanwawin reached a peak size of 350 hectares. Two water bombers, four bulldozers and seven ground crews kept the fire from reaching the communities. Approximately 2000 people from Chemawawin were evacuated and brought to Winnipeg and approximately 70 people from Easterville were evacuated and brought to The Pas. The Canadian Red Cross along with the help of the Indigenous and Municipal Relations (IMR) assisted with the coordination of the evacuation.",
           "Easterville and Chemawawin MB"
          ],
          [
           "Fort McMurray AB, April 30 to June 1, 2016. In May 2016, wildfires broke out in northern Alberta resulting in the most expensive natural disaster in the history of Canada. The city of Fort McMurray, located in the heart of the Athabasca oil sands, was hit by a massive system of wildfires that swept through the Regional Municipality of Wood Buffalo. The first wildfire was discovered on April 30, north of Fort McMurray. The Regional Municipality declared a local state of emergency and a mandatory evacuation order for Centennial Park on May 1 as well as another evacuation order for Prairie Creek and Centennial Trailer Park on May 2. The Fort McMurray fire grew rapidly due to hot and dry weather conditions, doubling in size to 2,656 hectares in a manner of hours. On May 3, the wildfire intensified and crossed over Highway 63, cutting off the route to evacuees, prompting the Athabasca Chipewyan First Nation to declare a state of local emergency and a mandatory evacuation order for Fort McMurray?s Lower Townsite and downtown area, which included the communities of Gregoire, Beacon Hill, Abasand, Waterways, Draper, Saline Creek, Grayling Terrace, Thickwood, Wood Buffalo and Dickinsfield. Later in the day the entire city of Fort McMurray was under a mandatory evacuation order. During the evacuations two people were killed in a car crash. On May 4, the Alberta government declared a provincial state of emergency. The Fort McMurray fire quickly grew to 85,000 hectares as the wildfire spread further north and east eventually passing through Fort McMurray. Evacuees that fled north of Fort McMurray had to be air lifted to safety. Some evacuees were taken to Lac La Biche, while the majority where sent to Edmonton and Calgary. On May 10, two of the main Fort McMurray fires joined together and formed a massive blaze of 229,000 hectares. On May 16, all workers in work camps and oil sand operations north of Fort McMurray were forced to move south as the wildfire spread further north. Residents of Fort McMurray were allowed to return home on June 1. In total, the Fort McMurray fires burned approximately 579,767 hectares of land causing the evacuation of over 90,000 people and destroyed 2,400 homes and business, including 530 other buildings that were damaged. At its peak, there were over 2000 firefighters working the fires daily, including helicopters and water bombers. In addition, firefighters received help from 200 firefighters from the United States, 60 from Mexico and 298 from South Africa. Firefighters and emergency response personnel received help from the Canadian Red Cross who assisted with evacuation efforts.",
           "Fort McMurray AB"
          ],
          [
           "Paul First Nation, AB, April 18-21, 2016. A state of emergency was issued for the Paul First Nation community located on Lake Wabumun, 70 km west of Edmonton. A large wildfire burned dangerously close to the community threatening 21 homes in the northeast corner of the reserve. The wildfire that destroyed one home forced the evacuation of 164 people outside the community of 1,100 residents. Wildfires burning around Edmonton destroyed two homes, injured two firefighters and destroyed one fire truck.",
           "Paul First Nation, AB"
          ],
          [
           "Northern Saskatchewan, July 1-18, 2015. The 2015 wildfire season in Saskatchewan featured an unprecedented number of wildfires that consequently caused the biggest fire evacuation effort in Saskatchewan?s history to date. More than 13,000 people from 54 different communities had to be evacuated from their homes in Northern Saskatchewan due to over 720 wildfires that burned nearly 1.8 million hectares of land. The two most severely impacted communities were La Ronge and Montreal Lake. Approximately 7,900 residents of La Ronge Indian Band were forced to evacuate, while in Montreal Lake approximately 1,500 residents evacuated due to several wildfires that destroyed six buildings in the area. Up to 1,500 members of the Canadian Armed Forces were sent to the La Ronge area to assist firefighters.",
           "Northern Saskatchewan"
          ],
          [
           "British Columbia, May 9 to September 11, 2015. The 2015 wildfire season in British Columbia was the worst on record, in terms of number of fires and hectares burned, to impact the province in 10 years. During the wildfire season that spanned from May to September, over 1,800 fires burned over 300,000 hectares of land. Approximately two thirds of the fires were caused by lighting. The season began early with the discovery of the Little Bobtail Lake fire on May 9. Many fires were within a close proximity of urban areas prompting evacuation orders and alerts across the province. A number of communities were affected by evacuation orders and alerts. Evacuation orders were issued for 141 homes in Joe Rich Kelowna, 70 homes in West Kelowna, 150 homes in Port Hardy and 110 homes in Testalinden, including others. In Puntzi Lake, 90 homes were evacuated and 18 structures were destroyed, while in Rock Creek 330 homes were evacuated and 30 homes as well as 15 other structures were destroyed. Across the province, 1,144 homes (approximately 3,432 individuals) were evacuated due to wildfires. BC Hydro was forced to cut power to certain communities as a precaution, like in West Kelowna where power was cut to 100 customers (approximately 300 individuals). Additional personnel and resources were needed to help battle to above average number of fires burning throughout the province including 310 out-of province firefighters as well as firefighters from Australia, South Africa and the United states. In total, 2,500 firefighters and support workers were working across the province during the peak of the wildfire season. One man was fatally injured while felling a danger tree at the Old Sechelt Mine fire.",
           "British Columbia"
          ],
          [
           "British Columbia, July 1 to September 30, 2014. A significant heat wave across British Columbia in July and August led to record breaking dry conditions and ?high? to ?extreme? fire danger ratings in most of the province. Almost 360,000 hectares of land was burned ?the third highest in the history of the province. Over 4,500 people were forced to evacuate throughout the season with the largest evacuations taking place in West Kelowna where 2,500 people fled and Hudson?s Hope where 1,150 people fled in July due to wildfires. At its peak, over 3000 firefighters and frontline crews worked at combating the fires, and as a result, significant damage to infrastructure and communities was avoided. As of November 2014, the Government of British Columbia estimated it spent approximately $300 million dollars responding to wildfires for the 2014 season.",
           "British Columbia"
          ],
          [
           "Northwest Territories, July 1 to September 18, 2014. Abnormally dry conditions and high temperatures fed peak wildfire conditions during the 2014 fire season. By mid-July, 168 separate fires were burning throughout the territory. Voluntary and mandatory evacuations were issued in June and July, most notably in the town of Kakisa where 60 residents were evacuated to Hay River and Fort Providence. The Taltson hydroelectric facility was temporarily shut down as a precautionary measure due to fires that threatened the main transmission lines. By the end of the wildfire season, over 3.5 million hectares of land was burned, the most in over 30 years. In total, 385 fires burned throughout the territory in 2014, 57 per cent more than the annual average. The Government of the Northwest Territories spent $55 million dollars fighting wildfires in 2014, more than eight times the average cost.",
           "Northwest Territories"
          ],
          [
           "Vita MB, October 2-3, 2012.  The town of Vita, south of Winnipeg, declared a state of local emergency in the face of wildfires on October 2.  Fuelled by high winds and extremely dry conditions, the wildfire forced the immediate evacuation of approximately 300 people to nearby Steinbach where they were received at the Steinbach Mennonite Church. Evacuees were allowed to return home on October 3, as the fire passed the town and moved south. Three homes and one bridge in the area were destroyed. The fire also affected residents of the rural municipality of Tache and the community of Ross, 120 of whom were also evacuated until the fire passed.",
           "Vita MB"
          ],
          [
           "Lethbridge and Coalhurst AB, September 10-11, 2012. Two large grass fires prompted local states of emergency and evacuations in southern Alberta. The first fire originated in the Blood Reserve near Coalhurst and Lethbridge. Approximately 2,200 residents in Coalhurst as well as residents in a Lethbridge trailer park were evacuated and sent to safe zones in Lethbridge. A second grass fire burned near the town of Milk River were approximately 800 people were evacuated to the nearby town of Raymond.  Both grass fires damaged several sheds and outbuildings and destroyed one house. There was also one fire related injury reported. Residents were allowed to return to their homes on September 10 in Coalhurst and September 11 in Lethbridge.",
           "Lethbridge and Coalhurst AB"
          ],
          [
           "Peachland BC, September 9-12, 2012.  A forest fire was reported on September 9 in Trepanier Bench in Peachland, British Colombia. Strong winds at speeds estimated between 30 to 40 km/h spread the fire quickly. An evacuation order for approximately 1,550 residents went into effect on September 9.  The District of Peachland immediately opened Reception Centres to support evacuated residents. The Central Okanagan Emergency Operation Centre was in full operation and supported firefighting efforts from BC Wildfire Management, West Kelowna, Peachland, and Kelowna. The Regional District Parks Services closed the Trepanier Creek Greenway Regional Park until a hazard assessment was conducted and the area deemed safe for the public. Evacuated residents began returning on September 10 with the last 258 evacuees returning on September 12. Three homes and several buildings were destroyed during the fire.",
           "Peachland BC"
          ],
          [
           "Sandy Lake ON, July 31 to August 6, 2012. The Sandy Lake First Nation declared a state of emergency due to the risk of smoke from wildfiresfires in northern Ontario. A total of 637 residents were evacuated to Thunder Bay and Fort Frances. Evacuees began returning to their homes on August 5, with the remaining evacuees allowed to return home on August 6.",
           "Sandy Lake First Nation ON"
          ],
          [
           "Island Lake and Garden Hill MB, July 23 to August 1, 2012. The smoke from a wildfire forced the evacuation of hundreds of people from communities within the region of Island Lake and Garden Hill. By July 30, the total amount of evacuees had climbed to 1,428 and were sheltered in the communities of Brandon, Gimli, Morris, Portage la prairie, and Winnipeg.",
           "Island Lake and Garden Hill MB"
          ],
          [
           "Mackenzie County AB, July 11-20, 2012. As many as 11 wildfires burned out of control in Mackenzie County in northwestern Alberta, leading to two community evacuations.  All Zama residents, including work camps were evacuated under a mandatory evacuation order on Tuesday, July 10 until July 20.  The Zama access road was closed and a controlled barricade was set up at the Assumption Bypass/Apache Road into Zama to ensure that only authorized personnel were allowed access.  A reception centre for evacuees was set up in the town hall of High Level. There were approximately 300 evacuees, including 134 from Zama and 164 from the Dene Tha? First Nation. The evacuation order was lifted July 17. Firefighters from Yukon, New Brunswick, Ontario, Alaska, and Mexico, along with helicopters and other equipment, joined over 300 firefighters already taking shifts to battle the fires in northern Alberta. Alberta?s Environment and Sustainable Resource Development (ESRD) provided sprinkling protection systems for all north end homes with additional sprinkling systems having been ordered to protect the homes located in the Zama interior.  A sprinkling system for the fireguard along the containment line was also provided by ESRD.  On July 17, Alberta Health Services issued an air quality advisory for residents in the La Crete area with respiratory concerns, advising them to visit the advanced ambulatory care centre located in the La Crete Community Health Centre. The advisory was lifted July 23.",
           "Mackenzie County AB"
          ],
          [
           "North West River and Sheshatshiu NL, June 24-25, 2012. Two local states of emergency were declared when wildfires threatened the communities of North West River and Sheshatshiu. There were over 1000 residents who had to be evacuated and air lifted to safety. Approximately 700 evacuees were accommodated at Canadian Forces Base Goose Bay and 300 were accommodated in emergency housing in Happy Valley-Goose Bay. The evacuation order was lifted on June 25 and residents were allowed to return to their homes.",
           "Northwest River and Sheshatshiu NL"
          ],
          [
           "North West River and Sheshatshiu NL, June 23-25, 2012. On June 23, the Department of Natural Resources Forestry Division recommended a mandatory evacuation of the communities of North West River and Sheshatshiu First Nation, located approximately 20 kilometers north of Goose Bay, due to smoke and the threat from wildfires. On June 24, both communities declared local states of emergency with residents being placed under immediate evacuation order. Fire and Emergency Services - Newfoundland and Labrador (FES-NL) coordinated the Provincial Government response activities in Labrador and a Provision of Service agreement with the Department of National Defence (DND) was activated.  Approximately 800 people were housed at Canadian Forces Base (CFB) Goose Bay and another approximate 300 people were also accommodated in emergency housing in Happy Valley-Goose Bay.  Many individuals also stayed with family, friends or in private accommodations in the Happy Valley-Goose Bay area.  The evacuation order was lifted on June 25 and the evacuees returned home.",
           "Sheshatshiu NL"
          ],
          [
           "Timmins ON, May 24 to June 07, 2012. A state of emergency was declared when smoke from a wildfire approximately 70 kilometers wide threatened communities in and around Timmins, Ontario. Approximately 1000 residents from the region were evacuated as a precaution. The fire forced the temporary closure of some mining operations. On June 7, the fire was contained and residents were able to return home.",
           "Timmins ON"
          ],
          [
           "Kirkland Lake ON, May 20-29, 2012. A wildfire near the town of Kirkland Lake forced the evacuation of approximately 300 people and caused the town to declare a state of emergency. Damage from the fire included a power line and an undetermined number of cabins in the Young Lake and Amikougami Lake area. Power outages affected local mining operations. All evacuated permanent residents returned to their homes on May 27. The Ontario Provincial Police reported that the fire originated from a campfire on the east side of Elsie Lake.",
           "Kirkland Lake ON"
          ],
          [
           "Northern Ontario, July 6-25, 2011. A lighting storm on July 6 sparked a series of wildfires that spread throughout northern Ontario. Fire personnel were unable to gain control of the fires, which burned roughly 300,000 hectares of land. As of July 20, there were 112 wildfires burning in the region. Evacuation orders were put in place for communities in direct threat from the fires as well as those communities suffering from the impacts of smoke, power outages, food shortages and a lack of food storage capacity, since many communities are only accessible by air. The following evacuations occurred: 535 people from Deer Lake First Nations (FN), 260 people from Cat Lake FN, 50 people from Mishkeegogamang FN, 280 people from Eabametoong FN (Fort Hope), 197 people from Keewaywin FN, approximately 1000 people from Kingfisher Lake FN, approximately 770 people from Sandy Lake FN and approximately 200 people from North Spirit Lake. In addition, the entire communities of Keewaywin FN and Koocheching FN had been completely evacuated. In total, approximately over 3,300 people were evacuated. Wildfires severely damaged more than 86 hydro poles and over 13 kilometres of hydro lines, resulting in power outages across the northern region.",
           "Northern Ontario"
          ],
          [
           "Mishkeegogamang Ojibway First Nation (New Osnaburgh) ON, June 21-27, 2011.  A state of emergency was declared as the First Nation community was overcome by smoke from more than 17 wildfires burning within 10 kilometres of the community?s housing area. The fire was estimated to be 37,000 hectares in size and was out control. There were 423 residents that were evacuated between June 22 and June 24. Sioux Lookout, Greenstone (Gerldton) and Ignace declared states of emergency. The Ontario Ministry of Natural Resources (MNR) deployed 10 fire ranger crews to bring the fires under control while the Department of National Defense (DND) assisted with evacuations, and Health Canada assisted with medical services.",
           "Mishkeegogamang Ojibway First Nation (New Osnaburgh) ON"
          ],
          [
           "Hall Lake SK, June 12-14, 2011. On June 12, the Saskatchewan Emergency Management Organization reported a 25 to 40 hectare wildfire burning approximately three to four kilometers from the La Ronge First Nation subcommunity of Hall Lake. In total, there were 440 residents evacuated. As of June 14, the wildfire was no longer considered to be a direct threat to residents, and the evacuation order was lifted.",
           "Hall Lake SK"
          ],
          [
           "Wollaston Lake SK, June 2 to 9, 2011. On June 1, the Saskatchewan Emergency Organization reported that a 500 hectare fire was burning approximately 1.5 kilometres southwest of the community of Wollaston Lake. Winds blowing in from the southwest caused the fire and smoke to encroach upon the community, and the fire increased to 1,100 hectares by the following day. On June 2, a total of 1,137 residents were evacuated but damages to structures had not been reported at that time.",
           "Wollaston Lake SK"
          ],
          [
           "Slave Lake AB, May 15 to May 22, 2011. Fortynine wildfires in north-central Alberta burned across the Lesser Slave River Region, prompting one of the most destructive wildfires in Canadian history. A state of emergency was declared by the Municipal District of Lesser Slave River No. 124 on May 15, after a wildfire that originated in the town of Slave Lake began to spread uncontrollably, affecting surrounding communities. The wildfire devastated the town of Slave Lake, where 374 buildings were destroyed and 52 damaged by the flames. Approximately 7000 people were evacuated from the town of Slave Lake and 735 individuals and families lost their homes. Outside of the town of Slave Lake, 59 other buildings were destroyed and 32 were damaged. Other affected communities include High Prairie, Little Buffalo, Red Earth Creek, Loon Lake First Nation (FN), Whitefish Lake FN and Woodland Cree FN. Penn West Petroleum, Exall Energy Corp. and Canadian Natural Resources Ltd. halted drilling in the region, suspended production and evacuated their employees. Canadian National (CN) Railway also halted their services in the region. By May 19, the number of evacuees rose to approximately 12,055. The total cost in damages was estimated at over $500 million.",
           "Slave Lake AB"
          ],
          [
           "British Columbia, July 28 to September 8, 2010.  Due to little precipitation and lightning strikes, from July 28 to July 31, the number of fires in British Columbia went from 600 to 1,100.  On August 18, strong winds blew through the interior causing substantial growth of the fires. Throughout the wildfire season, approximately 461 homes (1,383 individuals) were ordered to evacuate the region and hundreds of other homes were put on evacuation alert. The hardest hit areas were Chilcotin, Houston, Williams?Lake, Burns?Lake and Fraser?Lake. All evacuation orders and alerts were removed by the first week of September.  Approximately 330,000 hectares burned due to 1,673 fires.  Over 1,400 personnel from out-of-province assisted with fighting the fires.  Two air tanker pilots died in a plane crash while fighting the fires.  Both the city of Vancouver and the Government of Alberta issued air quality warnings due to smoke caused by the fires.",
           "British Columbia"
          ],
          [
           "Cranberry Portage MB, June 23 to July 6, 2010. A wildfire 13 kilometres east of Cranberry Portage prompted mandatory and voluntary evacuation orders. Residents from Cranberry Portage were advised to evacuate on June 23 due to smoke from the approaching flames. The Iskwasum and Gyles campgrounds in the Grass River Provincial Park were under a mandatory evacuation order. The road between Cranberry Portage and Sherridon was temporary closed to local traffic due to concerns over visibility. On June 24, approximately 200 people voluntarily evacuated from Cranberry Portage as the fire grew in size. The wildfire reached a maximum size of approximately 55,000 hectares and there were 440 firefighters, 13 helicopters and 13 water bombers combating the flames. On July 6, the travel restrictions near Cranberry Portage were lifted.",
           "Cranberry Portage MB"
          ],
          [
           "Chapleau ON, May 27, 2010. A forest fire, which started in the Chapleau area near Wawa, burned through approximately 22 hydro poles and caused a power outage affecting approximately 2,000 local residents.",
           "Chapleau ON"
          ],
          [
           "Wemotaci reserve and La Tuque QC, May 23, 2010. A 39 hectare fire forced the evacuation of 1,300 residents from the Wemotaci reserve. This was just one of over 50 fires throughout the province that raged for weeks, resulting in large amounts of smoke leading to a smog alert for Montreal, Vaudreuil, Soulanges, Huntingdon, Richelieu Valley, St. Hyacinthe, Lachute, St. Jerome, Lanaudiere, Mauricie, Drummondville, and Bois-Franc.",
           "Wemotaci reserve and La Tuque QC"
          ],
          [
           "County of Thorhild AB, May 12, 2010. A wildfire in the county of Thorhild, north of Edmonton, affected thousands of acres of land. The community of Opal experienced numerous evacuation orders, which affected up to 100 homes on May 17. The Province of Alberta provided $10 million in funding under the Municipal Wildfire Assistance Program to aid in the community's recovery.",
           "County of Thorhild AB"
          ],
          [
           "Kelowna, Kamloops and Cariboo BC, May 1 to August 31, 2009.  Fire season 2009 had 3,200 fires, 213 of which were wildland-urban interface fires. On July 18, fires broke out in the Glenrosa and Rose Valley communities of West Kelowna, combined with the Terrace Mountain fire west of Fintry, which led to multiple evacuation orders and alerts. July also saw an abundance of lightning storms leading to other fires of note throughout the province. Temperatures continued to break record highs and little precipitation was received in most areas. As September began, all personnel continued to work hard to contain fires across the Kamloops and Cariboo regions. The Lava Canyon fire, the largest, was nearly 55,000 hectares and growing.  There were over 100 notable fires during this fire season: at least 27 caused evacuation orders and at least a dozen more caused evacuation alerts.  Approximately 20,000 people were evacuated. One helicopter pilot lost his life in the line of duty.",
           "Kelowna, Kamloops and Cariboo BC"
          ],
          [
           "Deschambault Lake SK, July 1-6, 2008. A large wildfire threatened the community of Deschambault Lake in northern Saskatchewan. The fire was only 1.5 kilometres away from the community before it was redirected by firefighters using a technique called \"back burning,\" which involves igniting a controlled burn in front of the fire in order to reduce the amount of fuel. Approximately 1000 residents were evacuated on July 1 and did not return home until July 6.",
           "Deschambault Lake SK"
          ],
          [
           "Northern Saskatchewan, June 30, 2008. Approximately 2,500 people from the communities of Sandy Bay, Stony Rapids, Pelican Narrows, Black Lake and Uranium City in Saskatchewan's far north have been forced out of their homes due to 64 forest fires.",
           "Northern Saskatchewan"
          ],
          [
           "Halifax NS, June 13, 2008. An unforeseen brush fire ravaged a wooded area east of Halifax. The fire destroyed two homes and forced 5000 residents to evacuate their homes.",
           "Halifax NS"
          ],
          [
           "Pukatawagan MB, June 10, 2008. A town in northern Manitoba declared a state of emergency as food and other necessities dwindled away because of a burned-out railway bridge. More than 2,600 people in Pukatawagan, located about 900 kilometres northwest of Winnipeg, were faced with shortages of food and supplies, including baby products because of a wildfire that damaged the local railway bridge connecting the isolated community with the rest of the province. During the summer months there are only two ways to access Pukatawagan, by air or by rail.",
           "Pukatawagan MB"
          ],
          [
           "Norway House and Sherridon MB, May 28, 2008. A forest fire, that stretches from a point to the south of Lynn Lake in the northwest corner of the province south to Norway House Cree Nation and east to the Island Lake First Nations, has forced as many as 3,330 people out of their homes.",
           "Norway House and Sherridon MB"
          ],
          [
           "Newbrook AB, May 16-19, 2008. A wildfire burning near the community of Newbrook forced the evacuation of approximately 150 people. A team of 115 firefighters aided by 40 firefighters from British Columbia, halted the fire from reaching Newbrook by bulldozing a strip of timber in between the town and the fire, which prevented the fire from spreading. The fire reached a maximum size of 1,950 hectares. Two houses were destroyed by the blaze.",
           "Newbrook AB"
          ],
          [
           "Natuashish NL, August 4-7, 2007. A wildfire destroyed 200 hectares of land and forced the evacuation of 600 local residents. The blaze that burned near the Innu community of Natuashish in Labrador was sparked by accident by a group of teenagers who started a fire to warm themselves up after swimming in the popular swimming hole near the airport. The fire spread so rapidly that the teenagers narrowly escaped with their lives. The fire burned for several days and halted flights to the local airport.",
           "Natuashish NL"
          ],
          [
           "Kootenay BC, August 1, 2007. Forest fires raging in southeastern British Colombia triggered a state of local emergency and caused three homes to be evacuated and power to be cut to more than 3000 homes.",
           "Kootenay BC"
          ],
          [
           "Northern Manitoba, July 19-26, 2007. A total of 254 wildfires burned 147,473 hectares of land in Manitoba in the summer of 2007. From July 19 to 26, 55 wildfires were burning in Northern Manitoba. During this time, numerous communities were in danger and had to be evacuated from fires that burned up to 16 kilometres away. Evacuations began as early as July 19, when 435 people from O-Pipon-NaPiwin Cree Nation at South Indian Lake had to be airlifted to safety. On July 24, 330 people were airlifted from Sayisi Dene Nation at Tadoule Lake. In addition, on July 25, 48 people from Tataskweyak Cree Nation at Split Lake and 150 from Shamattawa were evacuated due to smoke. All evacuees were taken to Winnipeg and Thompson. The government of Manitoba deployed 450 firefighters, 27 helicopters and nine water bombers. In addition, five firefighting crews from British Columbia assisted local firefighters. The largest fire burned near South Indian Lake and was 85, 000 hectares in size.",
           "South Indian Lake MB"
          ],
          [
           "Happy Valley-Goose Bay NL, June 16-17, 2007.  A forest fire burned near Happy Valley-Goose Bay forcing the evacuation of 200 homes. The blaze that was pushed towards the community by wind gusts of 50 km/h reached up to 300 metres of some homes. Fire crews helped by two water bombers and six helicopters managed to suppress the flames.",
           "Happy Valley - Goose Bay NL"
          ],
          [
           "Sept-?les QC, May 27, 2007. A major forest fire forced the evacuation of approximately 1,500 people from the village of Moisie and the Malioth?nam reserve. There were 26 forest fires burning in Quebec at that time.",
           "Sept-?les QC"
          ],
          [
           "Northwest Ontario, May 13, 2007. Up to 300 people have been forced from their cottages in an area about 75kms west of Thunder Bay, where the biggest fire among many in Northwest Ontario, Thunder Bay #37, had raged through about 11,500 hectares.",
           "Northwest Ontario"
          ],
          [
           "Cariboo-Chilcotin BC, July 6, 2006. About 600 people living in remote communities in BC's Cariboo-Chilcotin region have been forced from their homes by the threat of two massive wildfires.",
           "Cariboo-Chilcotin BC"
          ],
          [
           "Nordegg AB, July 4-7, 2006. A wildfire that burned two kilometres away from the village of Nordegg, located 200 kilometres West of Red Deer, forced the evacuation of 130 residents, including dozens of campers. The fire grew to be 126 hectares in size and was likely sparked by lighting. Residents returned home July 7.",
           "Nordegg AB"
          ],
          [
           "Tumbler Ridge BC, July 3-5, 2006. A state of emergency was declared for the town of Tumbler Ridge, where multiple wildfires burned threating the residents who live in the coal mining town. The largest of the fires grew to be 9,100 hectares in size and burn nearly 8 kilometres away from the town. Four thousands residents were evacuated due to the fires and returned home on July 5.",
           "Tumbler Ridge BC"
          ],
          [
           "Mistissini QC, June 16-18, 2006. Residents of the Cree community of Mistissini, located 550 kilometres north of Montreal, were forced to leave their homes due to a wildfire that approached within metres of their community. Approximately 3,200 residents were evacuated and were taken to the community of Chibougamou 90 kilometres away. Residents returned home on June 18.",
           "Mistissini QC"
          ],
          [
           "Kelowna  BC, August 28, 2005.  A 25-hectare forest fire was reported in Rose Valley near Kelowna.  Approximately 75 homes in the subdivision were evacuated and about 528 people registered with emergency social services after the evacuation order.  No injuries or casualties were reported.",
           "Kelowna BC"
          ],
          [
           "Chibougamau and James Bay QC, June 6, 2005.  In Northern Qu?bec a forest fire near Chibougamau forced the evacuation of approximately 200 residents.  Approximately 650 Hydro-Quebec workers were airlifted in an evacuation operation in the James Bay area due to another forest fire. There were 57 active forest fires in Quebec at the time.  Forest fires have destroyed approximately 170,000 hectares of forest in Quebec this year.",
           "Chibougamau and James Bay QC"
          ],
          [
           "Chisasibi QC, May 29, 2005. Forest fire forced about 600 people in the Cree community of Chisasibi to be evacuated to the nearby village of Radisson.  The fire was human caused, and was started within 1 kilometre of the town.  Evacuees were able to return to their homes by May 30.",
           "Chisasibi QC"
          ],
          [
           "Norman Wells, NT, July 21, 2003. Lightening started a fire in an on old-growth black spruce forest approximately 17 km from Norman Wells. The fire was sustained by high temperatures and gusting winds. Norman Wells declared a state of emergency. About 100 people were evacuated due to thick smoke. Those with respiratory problems, the elderly, and the young were evacuated by plane to Inuvik while others were sent to nearby communities via boat.",
           "Norman Wells NT"
          ],
          [
           "Manitoba, April to October 2003. The province of Manitoba experienced 1,148 wildfires during the 2003 season. While the fires actually began at the end of March,  damages began to affect communities in April. The Thompson area was particularly affected. A lightening strike near Thompson began a forest fire that was sustained through hot and dry weather. Approximately 900 people were evacuated, many from aboriginal comunities including: 250 people from Red Sucker Lake First Nation and 92 people from God's River First Nation were evacuated due to fires that began in July. In August, approximately 155 people were evacuated from Shamattawa while 250 were evacuated from Split Lake.",
           "Manitoba"
          ],
          [
           "Near the community of Sheshatshui and the Town of North West River NL, July 3, 2002.  A forest fire ignited 10-12 km from the community of Sheshatshui and the Town of North West River. Approximately 1200 residents were evacuated to the town of Happy Valley-Goose Bay. The fire burned 3km2 of forest.",
           "Near community of Sheshatshui and town of North West River NL"
          ],
          [
           "Nemiscau region, near James Bay QC, July 2, 2002. Of 50 forest fires burning in Quebec around this time, the Nemiscau fire was the most noticeable.  The fire travelled within 800 metres of the native village of Nemaska. A total of 630 Chisasibi and Nemiscau-region residents were evacuated. The fire was ignited by intense thunder and lightning storms and destroyed over 600 km2 of forest. Consequently, 6000 Quebec forestry workers were laid-off. Hydro-Quebec disconnected its service to 500 000 people given the proximity of the fire to a major power line. Smoke could be seen in most of Quebec, parts of Ontario, and the northeastern United States.",
           "Nemiscau region, near James Bay QC"
          ],
          [
           "Kee-Way-Win FN; Townships of Terrace Bay and Schrieber; Village of Rossport; Pays Plat FN; Deer Lake FN, ON, July 2002. Members of several communities were concerned by nearby fires and smoke. More than 1000 people were evacuated to Thunder Bay, Geraldton and Sioux Lookout. Municipal emergency declarations occurred in six communities.",
           "Kee-Way-Win FN; Townships of Terrace Bay and Schrieber; Village of Rossport; Pays Plat FN; Deer Lake FN, ON"
          ],
          [
           "Hawes/Patuanak SK, June 28-30, 2002. One hundred three evacuated.",
           "Hawes/Patuanak SK"
          ],
          [
           "Crutwell, Dillon, Hatchett Lake, Pelican Narrows, Deschambeault, Wahpeton First Nation, Nordell, Peter Pond SK, June 28 - July 1, 2002. Five hundred six evacuated.",
           "Crutwell, Dillon, Hatchett Lake, Pelican Narrows, Deschambeault, Wahpeton First Nation, Nordell, Peter Pond SK"
          ],
          [
           "Turnor Lake SK, June 25, 2002. Three hundred and fifty residents of Turnor Lake, located 600 km northwest of Saskatoon, were evacuated to nearby towns. The fire was charged by exceptionally dry and hot weather, and winds pushed the fire towards Turnor Lake. Water bombers continuously dropped their payload on the fire, while the town buildings and trees were showered by industrial sprinkler systems.",
           "Turnor Lake SK"
          ],
          [
           "Peerless Lake and Trout Lake AB, June 23, 2002.  The Peerless Lake Complex involved three separate fires within a small area approximately 155 km north of Slave Lake. These three fires forced the MD of Opportunity No. 17 to evacuate approximately 600 people to Red Earth.  The wild fires consumed a total of 15,438 ha of forest.",
           "Peerless Lake, Trout Lake AB"
          ],
          [
           "Montreal Lake SK, May 20-22, 2002.  Extreme burning conditions existed throughout Saskatchewan at this time.  Winds gusting at 50 to 60 km/h aided the spread of fires (around 48 in total), mostly in grasses and brush.  This specific fire was first spotted around the Bittern Lake area and was moving north towards the eastern part of the community of Montreal Lake.  Approximately 130 evacuees from this community and the Montreal Lake Cree Nation were moved to Prince Albert.",
           "Montreal Lake SK"
          ],
          [
           "Northern AB and Conklin, May 14 - June 7, 2002. The House River Fire was first spotted on May 17, 2002. It burned 248,243 hectares. The fire was approximately 100 km north of Lac La Biche. At its peak, 1,000 firefighters were on the fireline. The task was difficult given the strong and shifting winds and minimal precipitation. The fire perimeter was secured by June 7, 2002. This was Alberta's second largest forest fire since 1961. On May 27 the Regional Municipality of Wood Buffalo evacuated approximately 1,550 people. There were approximately 1,300 from work camps, and 250 from the community of Conklin. All individuals were allowed to return on June 8, 2002.",
           "Northern Alberta and Conklin"
          ],
          [
           "Burwash Landing YT, June 12-22, 1999. A Forest fire caused the evacuation of 69 residents and tourists from the community of Burwash Landing.  The fire reached the town on June 13, destroyed 6 houses and caused extensive damage to other buildings. Residents were allowed back to the town on June 19. Over 100 firefighters fought the blaze. The Alaska highway, a major tourist route, was shut down between Beaver Creek and Haines Junction.  The fire burned 3200 hectares of land and was put out on June 22.",
           "Burwash Landing YT"
          ],
          [
           "Salmon Arm BC, August 10-17, 1998. A State of Emergency was declared by the Premier on Aug.10 for the Salmon Arm-Fly Hills Fire, it was cancelled on Aug.17. The fire covered 6300 hectares and destroyed 20 houses and 15 farm buildings. An inquiry was called in October 1998 to determine whether the BC Forest Service had problems handling the fire.",
           "Salmon Arm BC"
          ],
          [
           "British Columbia, August 1998. During this month, there were 687 Forest fires burning in British Columbia. Approximately 10,600 people were evacuated, 42,115 hectares of forest burnt, 36 properties were damaged, and livestock losses were reported. Major fires occurred in the following areas: Salmon Arm-Fly Hills  Fire (see 1998.018); Vernon-Valley of Sun/Fintry/Parker's Cove; Kamloops-Cherry Creek Fire; Kamloops-Greenstone Mountain Fire; McBride-Doare River Fire; Telegraph Creek; Boston Bar-Nahatlatch Lake; Lillooet-Fountain Valley. Barriere-Dunn Lake-Birch Fire, and Avaola-Elevator were smaller, but still significant fires.  Military assistance was requested in many areas.",
           "British Columbia"
          ],
          [
           "Tibbet Lake, NT, July 22-31, 1998. A State of Emergency was declared when a 60000 ha fire was burning in the area of Tibbet Lake. The area north of Powder Point on Ingraham Trail was evacuated and Ingraham Trail was closed to all traffic. The fire destroyed three vacation cabins and edged within 5 km of cabins and lodges around Consolation Lake, 70 km northeast of Yellowknife. On July 31, the fire reached 140000 ha in size.",
           "Tibbet Lake NT"
          ],
          [
           "Sahtu region of the Northwest Territories, June 6-15, 1995.  A Forest fire was first sited in Fort Norman (in the Hamlet of Tulita), and then spread to Norman Wells, Yellowknife and Deline. The fires were started by lightning strikes. Damage was incurred by provincial, municipal and private property.  Fort Norman was evacuated on June 6, and Norman Wells was evacuated on June 9. Norman Wells was under a State of Emergency from June 814.",
           "Sahtu Region of the Northwest Territories"
          ],
          [
           "North central Saskatchewan, May 29, 1995. Lightning started 56 fires on May 29 and as the season progressed, 2,500 people were evacuated from 16 communities and 18 highways were closed. At the height of the outbreak, 4,000 people were fighting the fires.  While there was no loss of life and minimal loss of structures, 16,000 square kilometres (160,000 hectares) of forest were burned and 48 million cubic meters of wood were lost.",
           "North Central Saskatchewan"
          ],
          [
           "Old Crow YT, July 20, 1990. Fires threatened the community of Old Crow, north of Inuvik, requiring the evacuation of the community residents.",
           "Old Crow YT"
          ],
          [
           "Northern MB, May-September 1989. One of the worst forest fires in Canadian history raged across northern Manitoba forcing the evacuation of roughly 25,000 people in approximately 25 communities; many were airlifted to Winnipeg. In 1989, Manitoba experienced 1,229 forest fires.",
           "Northern Manitoba"
          ],
          [
           "Ontario and Qu?bec, July-August 1955. More than 100 forest fires burned longer than four weeks; on August 4 there were 150 fires.",
           "Quebec and Ontario"
          ]
         ],
         "hovertemplate": "EVENT TYPE=Wildfire<br>NORMALIZED TOTAL COST=%{marker.size}<br>INSURANCE PAYMENTS=%{y}<br>COMMENTS=%{customdata[0]}<br>PLACE=%{customdata[1]}<extra></extra>",
         "legendgroup": "Wildfire",
         "marker": {
          "color": "#ab63fa",
          "size": [
           0,
           0,
           0,
           190125140.2,
           0,
           4369241.7,
           966872,
           14376996.8,
           2635782.7,
           0,
           0,
           0,
           0,
           0,
           0,
           0,
           0,
           0,
           0,
           0,
           0,
           0,
           0,
           29079182.7,
           13253510.7,
           492983.9,
           0,
           0,
           515021.5,
           5178856.4,
           0,
           0,
           0,
           0,
           0,
           0,
           0,
           0,
           0,
           0,
           0,
           0,
           0,
           0,
           0,
           0,
           0,
           0,
           0,
           7111.6,
           308536.2,
           27857.2,
           0,
           0,
           0,
           0,
           1860.8,
           0,
           1939.9,
           78000,
           59568.8,
           199527.6,
           183.7,
           791508.3,
           235089.7,
           6272996.4,
           606570,
           1483144,
           10384159.6
          ],
          "sizemode": "area",
          "sizeref": 761618.9102500001,
          "symbol": "circle"
         },
         "mode": "markers",
         "name": "Wildfire",
         "orientation": "v",
         "showlegend": true,
         "type": "scatter",
         "visible": true,
         "x": [
          0,
          0,
          0,
          190125140.2,
          0,
          4369241.7,
          966872,
          14376996.8,
          2635782.7,
          0,
          0,
          0,
          0,
          0,
          0,
          0,
          0,
          0,
          0,
          0,
          0,
          0,
          0,
          29079182.7,
          13253510.7,
          492983.9,
          0,
          0,
          515021.5,
          5178856.4,
          0,
          0,
          0,
          0,
          0,
          0,
          0,
          0,
          0,
          0,
          0,
          0,
          0,
          0,
          0,
          0,
          0,
          0,
          0,
          7111.6,
          308536.2,
          27857.2,
          0,
          0,
          0,
          0,
          1860.8,
          0,
          1939.9,
          78000,
          59568.8,
          199527.6,
          183.7,
          791508.3,
          235089.7,
          6272996.4,
          606570,
          1483144,
          10384159.6
         ],
         "xaxis": "x",
         "y": [
          null,
          null,
          null,
          3600000000,
          null,
          null,
          null,
          null,
          null,
          null,
          null,
          null,
          null,
          null,
          null,
          null,
          null,
          null,
          null,
          null,
          null,
          null,
          null,
          528139000,
          null,
          null,
          null,
          null,
          null,
          null,
          null,
          null,
          null,
          null,
          null,
          null,
          null,
          null,
          null,
          null,
          null,
          null,
          null,
          null,
          null,
          null,
          null,
          null,
          null,
          null,
          null,
          null,
          null,
          null,
          null,
          null,
          null,
          null,
          null,
          null,
          null,
          null,
          null,
          null,
          null,
          null,
          null,
          null,
          null
         ],
         "yaxis": "y"
        },
        {
         "customdata": [
          [
           "Long Plain First Nation MB, July 20, 2016. An EF1 tornado touch downed in the community of Long Plain First Nation leaving a trail of destruction. The tornado that resulted from the upper-level low system that swept across the prairies uprooted trees and caused extensive property damage. In total, the tornado severely damaged 57 homes, while another 150 homes sustained moderate damages. In addition, the tornado caused damages to the Dakota Ojibway Police Service?s communications equipment. Approximately 600 residents were displaced from their homes and relocated to Winnipeg where they stayed in emergency accommodations. The storm system that accompanied the tornado downed hydro lines and poles, resulting in power outages. Over 18,000 Hydro customers (approximately 54,000 individuals) in Manitoba were without power. In Long Plain and surrounding areas, roughly 6,500 Hydro customers (approximately 19,500 individuals) lost power.",
           "Long Plain First Nation MB"
          ],
          [
           "Southern Ontario, August 2-3, 2015. Southern Ontario was struck by three confirmed tornados, two EF2 tornadoes and an EF1 tornado, along with an EF1 downburst and one other unconfirmed tornado sighting. An EF2 tornado touched down in the small town of Teviotdale located 60 kilometres north of Waterloo and another touched down in Lebanon. Wind gusts were reported between 180 to 220 km/h in some areas. The tornado that struck Lebanon caused only minimal damages, however the tornado in Teviotdale left a nine kilometre trail of damage, which downed power lines, destroyed two homes and damaged several other homes and vehicles. The EF1 tornado in Marsville also caused only minimal damages, mostly to trees. In addition, there was a confirmed EF1 downburst in Utica that caused damages to a local Green Tractors John Deere Dealership as well as an unconfirmed tornado in Proton Station that collapsed a tent sending six people to the hospital. Approximately 50,000 hydro customers (150,000 individuals) in southwest Ontario were left without power due to the severe supercell system that caused the tornadoes to form. Residents in several communities throughout southern Ontario experienced strong winds, rain and hail after the tornadoes touched down as a second system moved into the region later in the evening.",
           "Southern Ontario"
          ],
          [
           "Goderich ON, August 21-22, 2011. On August 21, an F3 tornado with 250 km/h winds touched down at 16:00 EDT in the town of Goderich causing severe damages. The extent of destruction included damages to residental and commercial property, downed trees, gas leaks and power outages. Natural gas was off to 90 per cent of the town as well as to residents in surrounding municipalities. As of 10:30 EDT on August 22, power had been restored to most of the affected area. The tornado was approximately 20 kilometres in length and left a path of destruction 200 to 1,500 metres wide. The tornado was responsible for one fatality and injured 37 other people. The F3 tornado that hit Goderich was the most powerful twister recorded in Ontario for more than a decade.",
           "Goderich ON"
          ],
          [
           "Saskatchewan, June 29 to July 2, 2010. Saskatoon was struck by severe weather on June 29. The following day numerous municipalities from Prince Albert to Davidson were affected by heavy rain. On July 1, the storm moved south while another system moved in from the north. On July 2, an F3 tornado touched down at approximately 17:30 CST in Kawacatoose First Nation, near the town of Raymond. The tornado produced wind speeds of up to 330 km/h and left a path of destruction that was 500 metres wide and 45 kilometres in length. The tornado destroyed 18 homes in the small First Nations community. There were no fatalities or reported injuries, although 85 people were left homeless in the wake of the tornado.",
           "Saskatchewan"
          ],
          [
           "Midland ON, June 23, 2010. Two tornadoes touched down in Ontario?s Cottage County. An F2 tornado with wind speeds of up to 240 km/h touched down in Midland at 18:30 EST. Another F1 tornado with wind speeds of up to 170 km/h touched down in Washago at 19:00 EST. In Midland, 50 trailers were destroyed and 20 others were damaged. Additionally another 100 residential buildings were damaged by the F2 tornado that also uprooted trees and downed power lines. It was reported that 20 people were sent to the hospital for injures. Ontario provided immediate provincial assistance of up to $1 million to aid in cleanup and repairs.",
           "Midland ON"
          ],
          [
           "Leamington ON, June 6, 2010. An F1 tornado touched down in Leamington prompting city officials to declare a local state of emergency. The small community located in the southern region of Essex County was hit by an F1 tornado as well as a series of strong winds called downbursts early in the morning on June 6. The F1 tornado produced winds of up to 180 km/h, which destroyed approximately 12 homes, downed power lines and uprooted trees. Approximately 4,500 hydro customers (13,500 individuals) were left without power. The Canadian Red Cross assisted with response efforts by providing an emergency shelter. There were no reported injuries or fatalities.",
           "Leamington ON"
          ],
          [
           "Toronto, Windsor, Vaughan and Newmarket ON, August 20, 2009.  A super cell storm developed just south of Lake Huron and tracked northeastward for a remarkable 200 kilometres. The heat and humidity in Ontario increased once the clouds disappeared. A squall line developed over Lower Michigan and traveled across the Great Lakes reaching southern Ontario at 15:00 EDT. This system produced powerful winds from Windsor to northeast of Toronto as well as destructive tornadoes in Vaughan and Newmarket. While these tornadoes were wreaking havoc just north of Toronto, another series of super cell thunderstorms spawned tornadoes in parts of Simcoe County, Muskoka and Parry Sound Districts to the east of Georgian Bay and north towards Lake Nipissing. In total, the day?s weather produced 19 confirmed tornadoes, including: four F0, eleven F1, and four F2. This was the greatest number of F2 tornadoes in Ontario in one day since the Barrie/central Ontario tornadoes of May 31, 1985. It was also a new Canadian record for the most confirmed tornadoes in one day. Violent winds snapped trees, lifted roofs, flattened cars, mowed down fences, collapsed farm buildings, and inflicted property losses around $100 million. The first tornado of the day touched down in the town of Durham in Grey County, killing a young boy as he left a nearby conservation area day camp. About 600 homes, mostly in the communities of Maple and Woodbridge were damaged. Fourty were destroyed and declared unsafe. At the peak of the storm, Hydro One reported that 69,000 customers (approximately 207,000 individuals) had lost power.",
           "Toronto, Windsor, Vaughan and Newmarket ON"
          ],
          [
           "D?l?age and Mont-Laurier QC, August 4, 2009. A powerful F2 tornado touched down in D?l?age at 14:00 EST and track 40 kilometres through Aumond, to Mont-Laurier in the upper Laurentians. The tornado blew away roofs, knocked down walls, flipped over cars, snapped utility poles and downed power lines leaving 4000 residents (12,000 individuals) without power. In Mont-Laurier, 40 homes were damaged, amoung those 28 were rendered uninhabitable. There were no fatalities, although two people were injured and taken to the hospital. The tornado caused about $6 million in insured losses. The tornado's path through Mont-Laurier was 300 metres wide, but its 40 kilometre track was an unusually long distance for a tornado in Quebec and a strong indication of the storm's severity. Previous to this event, the last time a stronger tornado touched down in the Quebec was on the same day in 1994 when an F3 tornado destroyed more than 400 homes in Aylmer.",
           "D?l?age and Mont-Laurier QC"
          ],
          [
           "Winnipeg MB, July 11, 2008. Wind caused havoc across Winnipeg and eastern Manitoba, including one area that may have been hit by a tornado. Up to 5000 homes (15,000 individals) lost power in total.",
           "Winnipeg MB"
          ],
          [
           "Lanaudi?re QC, June 29, 2008. A tornado, with winds at times reaching 120 km/h and producing hail the size of golf balls, caused a great deal of property damage. Nearly 15,000 homes (45,000 individuals) were left without power.",
           "Lanaudi?re QC"
          ],
          [
           "Elie MB, June 22, 2007. Tornadoes touched down west of Winnipeg in Eli and near Oakville, ripping apart several homes and flipping over a semi-trailer on the Trans-Canada Highway. Miraculously, no one appears to have been seriously hurt.",
           "Elie MB"
          ],
          [
           "Southern Ontario ON, August 19, 2005.  A series of severe thunderstorms tracked eastward across southern Ontario from Kitchener to Oshawa. The system spawned two F2 tornadoes with gusts between 180 and 250 km/h. The first tracked through Milverton to Conestogo Lake and the second from Salem to Lake Bellwood. The tornadoes downed power lines, uprooted trees, ripped into several homes, cottages and barns, and overturned vehicles. Within one hour, torrential rains dumped 103 mm in North York, 100 mm in Downsview and 175 mm in Thornhill, leading to flash flooding. Fire fighters rescued four people who fell into the fast moving currents of the Don River. Thirty metres of Finch Avenue West was washed out. Early estimates report more than 15,000 insurance claims were submitted for structural and non-structural damages caused by torrential rains and high winds. Not included in insured losses were infrastructure damages.",
           "Southern Ontario"
          ],
          [
           "Grande Prairie AB, July 8, 2004. A tornado swept through the city of Grand Prairie turning over cars and causing damages to homes and businesses. Environment Canada reported the tornado as a funnel cloud, although a tornado advisory was in place at the time. The tornado touched down at 15:30 MST and passed through the city?s downtown core. Damages included a downed power line that caused a small fire in a hotel, the destruction of a Kentucky Fried Chicken restaurant as well as numerous homes with damaged roofs, doors and windows.",
           "Grande Prairie AB"
          ],
          [
           "Pine Lake AB, July 14, 2000.  A tornado hit Pine Lake at 300 kilometres an hour, killing 12 people and injuring more than 140.  Close to one-thousand people were displaced from a campsite as their recreational vehicles were damaged.",
           "Pine Lake AB"
          ],
          [
           "Drummondville QC, July 6, 1999. A tornado went through the city of Drummondville ripping roofs from 20 houses and injuring a number of people. One child was killed as a tree collapsed on his tent while he was camping.  In total, 60 homes were damaged and 200 people were forced to flee from their homes. The tornado first hit Berthierville then skipped across the river and headed southeast to Drummondville. At least 4000 people were without power for 2 days.",
           "Drummondville QC"
          ],
          [
           "Grey, Wellington, and Dufferin counties ON, April 20, 1996. Two F3 class tornadoes touched down in Grey County (Holland Centre), Wellington and Dufferin County. Significant property damage occurred; 9 people were injured by the 2 tornadoes. -80.54  44.122",
           "Grey County, Wellington and Dufferin County ON"
          ],
          [
           "Aylmer QC, August 4, 1994. A F3 tornado hits the heavily populated district of Aylmer. 385 houses sustained damages, 12 being totally destroyed and 40 being heavily damaged. 250 families had to be evacuated (based on family of 4), and 4 people were injured.",
           "Aylmer QC"
          ],
          [
           "St. Lawrence River QC, August 27, 1991. The tornado affected the Village of Maskinong?; the tornado crossed the St. Lawrence River and touched down in Notre-Dame de Pierreville where a few summer cottages were destroyed and some minor injuries occurred; it also touched down in Saint Wenceslas where minor damage was reported; there were no deaths, 15 people injured, only one seriously; 60% of all buildings in the village of Maskinong? were damaged, the power lines were down and telephone service stopped; no drinking water was available.",
           "Maskinong? QC"
          ],
          [
           "Sarnia ON, March 27, 1991.",
           "Sarnia ON"
          ],
          [
           "Southern Ontario, August 29, 1990. Tornadoes, high winds and thunderstorms caused crop damage and the destruction of several buildings in the communities of Lobo, Komoka, Frome, Port Stanley, Southwold and Kendall; 6 minor injuries were reported.",
           "Southern Ontario"
          ],
          [
           "Edmonton AB, July 31, 1987. 27 dead, 600 injured, 1700 homeless; widespread heavy rainfall from a powerful tornado hit Edmonton on July 31,1987; 300 mm of rain fell in 3 days; the Smoky, Wapiti, Simonette, and Kakwa Rivers rose up to 7-8 metres in some areas; the tornado touched down in Edmonton and moved northeast; hailstorms were reported during the tornado; much of the damage was caused by hailstorms accompanying the tornado.",
           "Edmonton AB"
          ],
          [
           "Hopeville to Barrie ON, May 31, 1985; 12 dead, hundreds injured; 800 homeless. More than 100 buildings were damaged, 300 houses were also destroyed. Severe thunderstorms and hail. Power outages, damage to 150 farms.",
           "Hopeville to Barrie ON"
          ],
          [
           "Reeces Corners ON, May 3, 1983.",
           "Reeces Corners ON"
          ],
          [
           "Sudbury, Lively, Coppercliff and Field ON, August 20, 1970.  An F3 tornado (wind speeds of 252-330 km/h) caused the loss of six lives, 200 injuries, and extensive damage to property.",
           "Sudbury, Lively, Coppercliff and Field ON"
          ]
         ],
         "hovertemplate": "EVENT TYPE=Tornado<br>NORMALIZED TOTAL COST=%{marker.size}<br>INSURANCE PAYMENTS=%{y}<br>COMMENTS=%{customdata[0]}<br>PLACE=%{customdata[1]}<extra></extra>",
         "legendgroup": "Tornado",
         "marker": {
          "color": "#FFA15A",
          "size": [
           0,
           0,
           5647656.4,
           681836.9,
           875536.5,
           11529.5,
           5044562.9,
           314685.3,
           0,
           0,
           947461.9,
           28037383.2,
           0,
           212913.9,
           2815608.2,
           634742.8,
           545138.4,
           3811864.3,
           2051496.9,
           60625,
           15865047.5,
           7999238.1,
           11524,
           22167.5
          ],
          "sizemode": "area",
          "sizeref": 761618.9102500001,
          "symbol": "circle"
         },
         "mode": "markers",
         "name": "Tornado",
         "orientation": "v",
         "showlegend": true,
         "type": "scatter",
         "visible": true,
         "x": [
          0,
          0,
          5647656.4,
          681836.9,
          875536.5,
          11529.5,
          5044562.9,
          314685.3,
          0,
          0,
          947461.9,
          28037383.2,
          0,
          212913.9,
          2815608.2,
          634742.8,
          545138.4,
          3811864.3,
          2051496.9,
          60625,
          15865047.5,
          7999238.1,
          11524,
          22167.5
         ],
         "xaxis": "x",
         "y": [
          null,
          null,
          112859000,
          null,
          16000000,
          123864,
          96183000,
          6000000,
          null,
          null,
          17607000,
          500000000,
          null,
          null,
          43595000,
          8343840,
          7540000,
          20645522,
          28310657,
          null,
          148377000,
          83992000,
          null,
          null
         ],
         "yaxis": "y"
        },
        {
         "customdata": [
          [
           "Prairie Provinces, July 18-20, 2016. Southern regions of the Prairie provinces were overwhelmed by severe storms after weeks of bad weather. A storm system entered northward into southern Alberta where isolated thunderstorms developed along the Alberta foothills. On June 18, the storm eventually grew larger impacting Calgary, Medicine Hat and Dunmore with hail, heavy rain and strong winds as well as tornado warnings. On June 19, the storm system moved across Saskatchewan and Manitoba producing hail and prompting even more tornado warnings. In Saskatchewan, near softball sized hail pelted Stewart Valley and Davison, where a tornado briefly touched down resulting in minimal damages. Parts of southern Manitoba received less severe hail, however a more severe tornado touched down in Long Plain First Nation where there was extensive damages.",
           "Prairie Provinces"
          ],
          [
           "Alberta and Saskatchewan, July 15-16, 2016. A storm system caused hail, heavy rain and flash flooding in parts of southern Alberta and southern Saskatchewan. On July 15, Lethbridge, Alberta was impacted by hail, while Calgary and Arbour Lake experienced localized flooding. On July 16, a torrential down pour consisting of 60 mm of rain in less than one hour hit the town of Swift Current, Saskatchewan, which caused flash flooding. In Alberta the hail damaged the roofs of homes, broke windows and dented vehicles. In Swift Current, flash flooding overwhelmed the city?s storm water system, which resulted in flooded basements and submerged vehicles.",
           "Alberta and Saskatchewan"
          ],
          [
           "Prairie Provinces, July 8-11, 2016. Severe storms swept through the Prairies from July 8 to 11. On July 8, storms in Alberta impacted Edmonton, Calgary and Redwater where hail and heavy rain resulted in flash flooding. On July 10, the bad weather continued into Saskatchewan where 130 mm of rain fell causing significant flooding in Estevan prompting the declaration of a local state of emergency. There were also reports of numerous funnel clouds in Saskatchewan, including in Battleford and in Humboldt, where a small tornado briefly touched down for roughly 20 seconds. On July 11, the tail end of the storm system moved into Manitoba where some communities received up to 88.9 mm of rain, including Liyodminster, Yorktown, Humboldt and Watrous. The severe thunderstorms that swept through the Prairies resulted in property damage from hail and infrastructure damage from heavy rain, strong winds and lighting, including in Manitoba where wind gusts of over 100 km/h caused power outages due to fallen trees.",
           "Prairie Provinces"
          ],
          [
           "Southern Ontario, July 8, 2016. A cold front produced severe thunderstorms across southern Ontario. Multiple severe storms caused hail to fall in Markdale and Flesherton before moving east into Midland and Bradford. Heavy rain, strong winds and lighting were experienced in London, Whitby and Ajax, where it rained over 35 mm. Strong wind gusts of over 100 km/h were reported in areas north of the Greater Toronto Area (GTA). The strong winds downed trees and power lines resulting in power outages that affected over 39,000 Hydro One customers (approximately 117,000 individuals). Additionally, hail caused significant crop damage to over 2000 acres of crop land in the Holland Marsh area.",
           "Southern Ontario"
          ],
          [
           "Prairie Provinces, June 28-30, 2016. Multiple thunderstorms hit Alberta, Saskatchewan and Manitoba as a warm front moved into the prairies. On June 28, severe thunderstorms formed in Alberta, where Okotoks received 30 cm of hail, Edmonton received up to 75 mm of rain and Calgary was hit by strong winds and lighting that caused trees and two houses to catch fire. On June 29, the storm began to move into southern Saskatchewan and southern Manitoba where hail and heavy rain accompanied by strong winds caused localized flooding. Alberta experienced more bad weather on June 30, where Calgary was impacted by hail, Taber and Strathmore experienced flooding and an EF0 tornado touched down in Ponoka.",
           "Prairie Provinces"
          ],
          [
           "Alberta, Saskatchewan, Manitoba and Ontario, June 24-25, 2016. A large storm system caused bad weather throughout the Prairies and parts of northern Ontario. On June 24, widespread and severe thunderstorms caused heavy rain, strong winds, hail and lighting in southern Saskatchewan, while southern Manitoba experienced hail, wind gusts of up to 124 km/h and up to 138 mm of rain. In parts of southern Saskatchewan and Manitoba powerful winds uprooted trees and downed power lines, while flooding caused damages to roads, homes and businesses. In Manitoba, a voluntary evacuation was issued for the communities of Caddy Lake and Whiteshell due to flooding. On June 25, the storm system moved into northern Ontario where it caused significant flooding in Thunder Bay, which received 50 mm of rain in three hours.",
           "Alberta, Saskatchewan, Manitoba and Ontario"
          ],
          [
           "Nova Scotia, April 5, 2016. Several powers outages stretching from Annapolis Valley to Cape Breton resulted in up to 11,000 homes and businesses (approximately 33,000 individuals) being without power. The power outages were caused by strong winds and heavy rain that pushed trees onto power lines. The impacted areas included Coldbrook, Tatamagouche, Antigonish and Cheticamp. Many schools and businesses were closed due to the power outages and the Tancook Island Ferry service was shut down temporarily because of strong winds.",
           "Nova Scotia"
          ],
          [
           "Southern Alberta, August 4-5, 2015. A severe thunderstorm warning was in place for much of southern Alberta including tornado warnings. On August 4, a storm cell that produced low to moderate levels of hail formed in the Elbow valley and later moved into the northern regions of Calgary just as a second storm cell headed towards the southern region of the city. Both storm cells formed one large storm system that hit the Calgary area with severe hail. As the storm system move out of Calgary, the village of Standard was impacted by small hail and there were reports of a tornado sighting in Langdon that caused minimal damages. On August 05, the Calgary area was hit again by bad weather. In Calgary there was significant rainfall and wind gusts of up to 78 km/h. Flooding occurred in the city where it had rained up to 100 mm since the previous storm. Over all, both storms produced strong winds that caused damages to the roofs of apartment buildings and residential homes. Approximately 35,000 customers (105,000 individuals) lost power due to damaged power lines from fallen trees. Heavy rain and hail also caused flooding that submerged basements, vehicles and underpasses.",
           "Southern Alberta"
          ],
          [
           "Alberta and Saskatchewan, July 22, 2015. Severe thunderstorms affected the southern Alberta region before moving into Saskatchewan. A storm system southwest of Calgary produced a small tornado that touched down in the Tsuu T?ina Nation at 12:53 MTZ as well as multiple funnel clouds, which were spotted in the Calgary area. The impact of the tornado was minimal, however the proximity of the tornado to a highly populated area like Calgary created an extremely high level of risk. Southern areas of Calgary including Canyon Meadows and Lake Bonavista were hit with large hail and as the storm moved east, Hussar, Patricia and Strathmore were impacted by strong wind gusts that downed trees over power lines resulting in localized power outages. A severe thunderstorm warning was in effect at the time meaning that wind gusts exceeded 90 km/h and hail was greater than two cm. The storm later reached Saskatchewan where the town of Kerrobert was hit with severe hail, prompting a state of emergency to be declared. Other communities in Saskatchewan such as Anglin Lake, Francis, Sedley and Regina were impacted by strong winds, heavy rain, hail and lighting. Golf-ball sized hail caused the most significant damages during the storm, including damages to roofs, windows and vehicles.",
           "Alberta and Saskatchewan"
          ],
          [
           "Southern Ontario, June 22-23, 2015. A cold front that swept through southern Ontario after a warm low pressure system created severe isolated thunderstorms that brought intense lightening, heavy rain and strong winds. Heavy rainfall caused flooding in London, where there was up to 48 mm of rain and in Toronto, where the Toronto Pearson International Airport recorded 110 mm. Flooding in London overwhelmed the sewage system as well as caused damages to residential and commercial properties due to basement flooding. In Toronto, flooding caused road closures and delayed Go Transit. Strong winds and lighting downed trees, which caused damages to homes and power lines. Approximately 100,000 Hydro One customers (300,000 individuals) were without power during the storm.",
           "Southern Ontario"
          ],
          [
           "Prairie Provinces, June 12, 2015. A massive storm system moved through the prairies causing severe thunderstorms to occur throughout the prairie provinces starting in central Alberta and Saskatchewan. Parts of southern Alberta experienced thunderstorms including High River, Brooks and Taber. The storm intensified near Medicine Hat where there was hail and strong winds that caused damages throughout the city. Approximately 9000 people in Alberta lost power due to downed power lines. The storm later moved into Saskatchewan near maple Creek with hail and estimated wind gusts of up to 120 km/h. As the storm travelled eastward, Assiniboia and Weyburn sustained damages from hail. A large part of the storm moved into Manitoba, bringing heavy rain, strong winds and hail that impacted Virden causing extensive damages.",
           "Prairie Provinces"
          ],
          [
           "Fredericton NB, May 28-29, 2015. Fredericton was hit by a severe thunderstorm that knocked out power to 25,000 people. A significant amount of rain and hail fell in the area causing flash flooding in the streets of Fredericton. It was reported that 25 to 40 mm of rain fell in one hour and the storm produced wind gusts of up to 82 km/h. The storm that downed power lines and trees also produced a significant amount of lightening. It was reported that there were 319 lightning strikes within 50 kilometres of Fredericton.",
           "Fredericton NB"
          ],
          [
           "Southern Manitoba, May 16-18, 2015. A Colorado low responsible for a tornado outbreak in the United States moved north into Manitoba where it merged with an Artic front. The combined systems created a storm that produced strong winds and heavy rain that eventually turned into ice pellets, snow and hail. On May 17, southern Manitoba was hit with heavy rain and isolated thunderstorms that produced wind gusts of 93 km/h in Winnipeg, 89 km/h in Gimli Harbour and 83 km/h near Brandon. Heavy rain was also reported with the heaviest areas receiving 90 mm in Melita and 83 mm in Bede. The Artic front lowered the temperature causing the rain to turn into freezing rain and snow. MacGregor and Teulon both received 15 cm of snow. Damages were caused by strong winds downing trees and power lines. Approximately 5000 people temporarily lost power during the weekend storm. Heavy rain and snowmelt also caused flooding in certain areas where damage was done to agricultural lands and cottage properties. In addition, the heavy rain caused sewage backups in Winnipeg.",
           "Southern Manitoba"
          ],
          [
           "Southeast British Columbia, June 19-21, 2013. A series of intense rainstorms impacted southwestern Alberta and tracked into southeastern British Columbia, causing widespread flooding, mudslides and road closures. Up to 130 mm of rain fell in some regions and multiple evacuations were ordered. There were 130 homes that were evacuated in Sparwood due to rising flood waters while two mudslides closed parts of Highway 31. Highways 1, 31, 31A, 43 and 93 were all closed due to washouts and debris flow. There also was extensive overland flooding in the town of Fernie.",
           "Southeast British Columbia"
          ],
          [
           "Yarmouth County NS, November 4-10, 2010. A severe storm produced a total rainfall ranging from 140 mm to 250 mm.  At least 20 roads were closed due to flooding, and more than 100 people were evacuated from their homes.",
           "Yarmouth County NS"
          ],
          [
           "North Battleford SK, July 22, 2010.  A sudden and severe downpour of rain caused extensive flooding in the city of North Battleford.  A local state of emergency was declared and 97 homes were flooded. The Red Cross provided food and accommodations to 45 people from 11 families.",
           "North Battleford SK"
          ],
          [
           "Nova Scotia and New Brunswick, October 25-28, 2009. A storm pushed through New Brunswick during the last week of October. Hydro utilities reported more than 6,000 customers without electricity in New Brunswick and about 2,000 in Nova Scotia before power was restored. Some Moncton residents faced sewer backups after high winds caused leaves to fall, blocking catch basins. Several streets and homes flooded after 116 mm of rain fell in St. Johns. Firefighters responded to more than 30 calls for flooded basements filled with more than a metre of sewer water. October rainfall in Saint John amounted to 245.4 mm, which was just 2 mm less than the record set in 1977.",
           "Nova Scotia and New Brunswick"
          ],
          [
           "Winnipeg and Steinbach MB, August 14, 2009. Powerful thunderstorms, spectacular lightning strikes and baseball-sized hail hammered a wide area of southern Manitoba from Winnipeg to Steinbach. More than 7000 instances of damage to houses and vehicles were reported and losses ranged between $50-75 million. The storm also knocked out power to approximately 4000 homes (12,000 individuals).",
           "Winnipeg and Steinbach MB"
          ],
          [
           "Southern Alberta, August 1-3, 2009. A cold front swept through southern Alberta on August 1, bringing with it strong wind gusts of up to 100 km/h. The powerful winds brought down a stage at the Big Valley Jamboree in Camrose killing one individual and injuring 75 others. Calgary received wind gusts of up to 78 km/h. The strong winds killed a small child and injured two others when debris from a construction site struck the individuals. On August 2 and 3, a powerful storm developed increasing the severity of the strong winds with wind gusts of up to 107 km/h, along with large hail and heavy rain. The power winds downed trees and power lines, knocking out power to an unknown number of people. In some parts of Alberta, hail was measured at 10 cm deep, with some hail the size of baseballs. Hail caused extensive damages to homes and vehicles.",
           "Southern Alberta"
          ],
          [
           "Hamilton and Toronto ON, July 26, 2009. A storm cell stalled over the western end of Lake Ontario. Hamilton was hard hit. Waves of thunderstorms pounded the city, leaving citizens with flooded basements and motorists stuck in traffic caused by road closures. The midday downpour turned Red Hill Creek into an angry brown torrent that forced the closure of nearby roads and highways. Water gushed into 7000 basements and power was shut off to thousands of customers. While the Hamilton Airport observed only 28 mm of rain, radar estimates confirmed rainfall amounts in an unofficial gauge totaling 110 mm in two hours - worse than a 100-year storm and one of the most intense short-duration rainfalls on record in Canada. Conditions were made worse because the ground was super-saturated from storms two days earlier. In Toronto, parts of Lakeshore Boulevard near the Exhibition grounds were submerged. To the north, a pair of giant sinkholes swallowed part of Finch Avenue West - big enough to hold a fleet of cars and deep enough to cover a four-storey building.",
           "Hamilton and Toronto ON"
          ],
          [
           "Edmonton AB, July 18, 2009.  A cold front mixed with warm air produced severe thunderstorms in the Edmonton area. The city of Edmonton, along with Lamont and Strathcona counties, were hit by a storm cell that produced intense lightning, heavy rain, hail and strong winds of up to 110 km/h. The strong winds downed trees and power lines, knocking out power to an unknown number of people. In Edmonton, the powerful winds ripped the awning off the Edmonton CN Tower, causing damages to the tower and vehicles parked below. In addition, lightning caused various fires throughout the city.",
           "Edmonton AB"
          ],
          [
           "Ottawa, Toronto and Windsor ON, April 25, 2009. A spate of fierce thunderstorms broke out across southwestern, southcentral and eastern Ontario. Winds at Toronto Pearson International Airport gusted to 115 km/h, the strongest wind gusts reported since January 1978. Power lines and trees came down across the province, knocking out power to 100,000 customers (300,000 individuals).  Embedded in the thunderstorm cluster were marble-sized hail near Parry Sound, waterspouts in the Ottawa River, straight-line winds and weak tornados in Windsor and Ottawa. In Windsor, the roof was ripped off a union hall building with chunks of roofing and shards of glass littering the lawn and front steps. At Ottawa's Rockcliffe Flying Club, winds damaged 18 planes. Both tornados were F0 in intensity with winds of up to 110 km/h.",
           "Ottawa, Toronto and Windsor ON"
          ],
          [
           "Greater Vancouver and Fraser Valley BC, January 6-8, 2009. An upper level low brought warm weather and heavy rainfall to Vancouver and the Fraser Valley region after southern British Columbia received higher than average snowfall in December 2008. There was a period of heavy rain from January 6 to 8 that caused flooding, landslides and mudslides. The towns of Hope and Chilliwack recorded 214 and 164 mm of rain. Chilliwack declared a local state of emergency as the flooding caused extensive damages to homes and roadways.",
           "Greater Vancouver and Fraser Valley BC"
          ],
          [
           "Vancouver, Fraser Valley and the Greater Vancouver Regional Districts BC, January 6 to 8, 2009. A severe rainstorm from January 6 to January 8 affected Vancouver, Fraser Valley and the Greater Vancouver Regional Districts causing overland flooding, mudslides and landslides until January 31. Preliminary eligible costs are estimated at $16,500,000, which would result in a federal share of approximately $6,900,000.",
           "Vancouver, Fraser Valley and the Greater Vancouver Regional Districts BC"
          ],
          [
           "Kingston ON, September 15, 2008. An overnight wind and rainstorm hit Kingston, cut power to thousands of homes in the area, knocked one ferry out of service and toppled small buildings. Kingston received 20 mm of rain overnight and was hit with wind gusts of 67 km/h. Across southeast Ontario, 25,000 homes and businesses (approximately 75,000 individuals) lost power.",
           "Kingston ON"
          ],
          [
           "Queens County PE, September 6-7, 2008. Storm Hanna caused heavy rainfall, resulting in infrastructure damage mainly in Queens County, with major highway damage to the Trans-Canada Highway in Cornwall.",
           "Queens County PE"
          ],
          [
           "Colchester, Pictou, Antigonish, Inverness, Victoria, Cumberland and Halifax NS, August 29 to 31, 2008. A low pressure system moved into Nova Scotia, bringing heavy rains up to 49 mm. The same system returned on August 31 and brought even more rain, up to 68 mm. The total rainfall over the three day period caused extensive flooding.",
           "Colchester, Pictou, Antigonish, Inverness, Victoria, Cumberland and Halifax NS"
          ],
          [
           "Quebec and New Brunswick, July 31 to August 4, 2008. Storms and heavy rainfalls pounded the regions of Beauce, Temiscouata and Gasp?sie in eastern Quebec and neighboring northwest New Brunswick. A deluge of more than 100 mm of rain caused severe flooding, which washed out dozens of roads in the region. Two individuals were killed when floodwaters swept their vehicle into a lake in the eastern Temiscouata region of Quebec. Over 50 sections roads were washed out, including small bridges as well as two cottages that were destroyed in Quebec by the heavy rain. In New Brunswick, a state of emergency was declared in Glazier Lake where 74 residents had to be air lifted to safety after a flashflood washed out sections of a provincial highway.",
           "Quebec and New Brunswick"
          ],
          [
           "Gander, Hare Bay and Swift Current NL, July 30, 2008. A weather system, beginning west of the town of Gander extending east to Hare Bay, and south to Swift Current, caused severe thunderstorms and heavy rain.  This resulted in damage to private property and provincial infrastructure.",
           "Gander, Hare Bay and Swift Current NL"
          ],
          [
           "Regina SK, July 22, 2008. Wicked weather wreaked havoc across Regina, with wind gusts up to 92 km/h and 11.2 mm of rain. The squall left about 5000 customers (15,000 individuals) in parts of north and east Regina without power.",
           "Regina SK"
          ],
          [
           "La Tuque QC, July 22, 2008. Strong flooding caused by torrential rains forced the evacuation of approximately 112 people and caused considerable damage to a number of homes, two of which needed to be demolished.",
           "La Tuque QC"
          ],
          [
           "Lethbridge AB, July 1, 2008. On Canada Day 2008, Lethbridge was hit by an intense storm that brought heavy rain, which caused flash flooding in parts of the city. It rained 47 mm, the monthly average in just about 90 minutes. The heavy rain reached a peak of about 200 mm for at least one hour. The intense rainstorm flooded the basements of over 300 houses, submerged three underpasses and caused road closures, including the closure of one bridge.",
           "Lethbridge AB"
          ],
          [
           "Mont?r?gie and Eastern Townships QC, June 10-13, 2008. Thousands of residents south of Montreal had their power knocked out as many regions were hit with wind gusts exceeding 100 km/h. Hydro-Quebec reported that three quarters of the residents in the Mont?r?gie and Eastern Townships, exactly 99,931 homes (approximately 299,793 individuals) lost power on June 10 due to strong winds that damaged power lines. The majority of resident had power restored on June 12, but approximately 25,000 had to wait until June 13.",
           "Mont?r?gie and Eastern Townships QC"
          ],
          [
           "Huntingdon QC, May 31, 2008. More than 95 mm of rain fell on the city of Huntingdon, flooding most of its 1,300 homes and raising fears that the Ch?teauguay River would overflow.",
           "Huntingdon QC"
          ],
          [
           "Southwest Alberta, May 21-25, 2008. A series of rainstorms and the resulting high stream flows significantly impacted municipalities in Southwestern Alberta. The Government of Alberta established a Disaster Recovery Program on July 30, 2008, covering all affected municipalities and residents. The program includes the municipalities of Black Diamond, High River, Okotoks, Clagary, Municipal Districts of Foothills, Kananaskis Improvement District, Pincher Creek, Rocky View, and the Stony First Nation.",
           "Southwest Alberta"
          ],
          [
           "Saint John NB, February 14, 2008. A boil-water order was imposed following a rain storm that saw nearly 80 mm of rain dumped on the city.",
           "Saint John NB"
          ],
          [
           "Matane QC, December 17, 2007. For the third time in four months, Eastern Quebec was hard hit by bad weather. This time, 275 people were evacuated, mainly from Matane and Saint-Ren?-de-Matane. The city of Matane declared a state of emergency due to gale force winds of up to 100 km/h and artic temperatures.",
           "Matane QC"
          ],
          [
           "Southern British Columbia, November 12, 2007. High winds battered southern British Columbia, leaving more than 200,000 people without power as well as stranding thousands of airplane and ferry passengers. Along the coast, winds exceeded 130 km/h. In addition, heavy snow and mudslides caused by high precipitation resulted in road closures. The hardest hit areas were Langley, Surrey, Delta, and Richmond.",
           "Vancouver BC"
          ],
          [
           "Halifax and Lunenburg NS, November 3, 2007. Storm Noel.  The province was subjected to a severe storm throughout the province, with the heaviest impact in the areas of Halifax and Lunenburg.",
           "Halifax and Lunenburg NS"
          ],
          [
           "Gasp? and Riviere-au-Renard QC, August 8-9, 2007. A severe thunderstorm dumped up to 115 mm of rain on Gasp? and Riviere-au-Renard in less than 10 hours. The heavy rain resulted in significant damages to homes and businesses. In Riviere-au-Renard, 38 homes were damaged and approximately 105 people were evacuated. Nearby in Cortereal, six homes were damaged and approximately 29 people were evacuated. In total, approximately 200 people were evacuated due to flooding that was so severe that some houses were swept away completely. One individual died as a result of the flooding.",
           "Gasp? and Riviere-au-Renard QC"
          ],
          [
           "Avalon, Burin and Bonavista peninsulas NL, August 1, 2007.  Storm Chantal.  A severe rainstorm resulted in damage to private property and provincial and local government infrastructure.",
           "Peninsulas of Avalon, Burin and Bonavista NL"
          ],
          [
           "Municipalities of Pipestone, Sifton, Cameron, White water, Morton, Riverside, Turtle Mountain, Strathcona and Argyle and the Whiteshell Provincial Park MB, June 22 to 24 June, 2007.  Wind storms and tornados caused significant damages.",
           "Municipalities of Pipestone, Sifton, Cameron, White water, Morton, Riverside, Turtle Mountain, Strathcona and Argyle and the Whiteshell Provincial Park MB"
          ],
          [
           "Calgary, Edmonton, St. Albert, the town of Stony Plain, Parkland County, Two Hills County, Kneehill County, Camrose, and the municipal districts of Rocky View and Bighorn AB, June 5, 2007. A severe rainstorm on June 5 affected the cities of Calgary, Edmonton, and St. Albert, the town of Stony Plain, Parkland County, the County of Two Hills, Kneehill County, Camrose, County , and the Municipal Districts of Rocky View and Bighorn.  Many residences and small businesses experienced flooding resulting in loss of contents and structural damage.  Infrastructure damage to municipal roads and storm sewer lines, and provincial parks also occurred.",
           "Calgary, Edmonton, St. Albert, the town of Stony Plain, Parkland County, Two Hills County, Kneehill County, Camrose, and the municipal districts of Rocky View and Bighorn AB"
          ],
          [
           "Fishing Lake SK, May 25, 2007. An estimated 300 homes and cottages (approximately 600 individuals) were damaged by flooding that was caused by a higher than normal snowfall and subsequent ice melt runoff. Fishing Lake, located two hours east of Saskatoon area, received 50 to 75 mm of rain.",
           "Fishing Lake SK"
          ],
          [
           "Gatineau QC, April 23, 2007. Approximately 15,500 Hydro-Qu?bec customers (46,500 individuals) were plunged into darkness in the Outaouais as a result of strong winds with gusts of up to 60 km/h.",
           "Gatineau QC"
          ],
          [
           "Maple Ridge BC, March 12, 2007. Mudslides and flooding hit British Colombia's lower mainland after a weekend of heavy rain, leading to road closures and evacuation warnings. About 170 houses were flooded and hundreds of people were told to leave their homes, after the Alouette River spilled its banks.",
           "Maple Ridge BC"
          ],
          [
           "South Coast and Lower Mainland BC, December 20, 2006. Less than two weeks after a powerful windstorm struck British Columbia?s southern coast causing property damages and power outages, another windstorm impacted the region causing further severe power outages. Approximately 25,000 homes and businesses (75,000 individuals) lost power along British Columbia's south coast. In Vancouver Island, wind gusts of up to 90 km/h caused most of the damages leaving  20,000 B.C. Hydro customers (approximately 60,000 individuals) without power. On the mainland and along the Sunshine Coast 5000 hydro customers (approximately 15,000 individuas) were left in the dark. The Greater Vancouver area received wind gusts of 50 to 80 km/h, but no power outages were reported.",
           "South Coast and Lower Mainland BC"
          ],
          [
           "Vancouver BC, December 11, 2006. A powerful windstorm struck British Columbia?s southern coast resulting in approximately 190,000 power outages (570,000 individuals). The storm produced wind gusts of up to 100 km/h, which downed power lines and uprooted trees. Ferries had to be canceled due to the strong winds. In Vancouver damaged streetlights and fallen trees in the roads caused traffic delays throughout the city.",
           "Vancouver BC"
          ],
          [
           "Ontario and Quebec, October 29, 2006. A storm that blew in from the United States left about 49,000 Quebec and 30,000 Ontario residents without power (approximately 240,000 individuals). High winds felled lines in a broad band across central Ontario, while in Quebec, the Laurentians region, north on Montreal, and the Gasp were particularly hard hit.",
           "Ontario and Quebec"
          ],
          [
           "Sainte-Anne-des-Plaines QC, August 19, 2006. A small community located 50 kilometres north-east of Montreal was at the centre of a torrential downpour that produced 135 mm of rain in less than three hours.",
           "Sainte-Anne-des-Plaines QC"
          ],
          [
           "Lorette River, Quebec City QC, September 26, 2005.  The remnants of hurricane Rita caused flooding by overflowing the Lorette River with 108.55 mm of rain fall.",
           "Lorette River, Quebec City QC"
          ],
          [
           "Northern Saskatchewan, June 23-25,2005.  An intense low pressure system caused heavy rainfall from July 23-25, affecting an area of northern Saskatchewan already saturated by snowmelt between Meadow Lake to the south and Stony Rapids to the north, and between the Alberta border to the west and the Manitoba border to the east.  The closure of Highway 905 due to flooding in several locations resulted in the disruption of services to northern communities, including Stony Rapids and Black Lake, until the road was re-opened on July 31.  Preliminary eligible costs were estimated at $3,200,000, which would result in a federal share of approximately $1,100,000.",
           "Northern Saskatchewan"
          ],
          [
           "Edmonton AB, July 2-11, 2004.  Severe hail and rain battered parts of Edmonton, causing extensive flooding of basements and streets, and forcing the evacuation of 30,000 people from the worlds largest shopping mall, the West Edmonton Mall.",
           "Edmonton AB"
          ],
          [
           "Morley, Chapple, Dawson, Emo, Lake of the Woods, La Vallee, Rainy River, Fort Frances ON, July 31, 2001.  A severe summer storm hit eight municipalities and two rural areas in northwestern Ontario.  These were declared disaster areas, and the damages were covered by the Ontario government.  Effects of the storm include fallen trees, washed out roads, tossed boats, and broken docks.",
           "Morley, Chapple, Dawson, Emo, Lake of the Woods, La Vallee, Rainy River, Fort Frances ON"
          ],
          [
           "Southern Ontario, April 20-21, 2000.  The Windsor area registered 95 mm of rain in a 24-hour period and the storm dumped almost 70 mm of rain on the London area, Sarnia got 50 mm, while 40 mm fell on the Toronto area.  Sewers were backed up and roads washed out, and many short power outages occurred.  One child suffered injuries in Toronto due to violent winds, which gusted up to 80 km/h.",
           "Southern Ontario"
          ],
          [
           "Balmoral and Val d'Amour areas in Restigouche County NB, September 7, 1999. A thunderstorm resulted in flash flooding, erosion and open water flooding. Roads and bridges were damaged. The thunderstorm brought 90 mm of rain in a time period of two to three hours.",
           "Balmoral and Val d'Amour areas in Restigouche County NB"
          ],
          [
           "Calgary AB, July 4, 1998. Two separate hailstorms occurred on July 4-5 and July 8. On July 4, 43.2 mm of rain also fell on Calgary. The July 8 storm included winds up to 100 km/h, which tore apart greenhouse roofs. Hailstones ranging from pea to baseball size caused waist high flooding which forced many people to abandon their cars at intersections. Snowplows were brought out to clear the roads. Roads were destroyed by the hail, a warehouse collapsed and a store had to be closed because of a burst storm sewer. Mudslides forced boulders and mud across roads and railroads.",
           "Calgary AB"
          ],
          [
           "45 miles southwest of the islands of Saint-Pierre-et-Miquelon, January 16, 1998.  The bulk carrier \"Flare\" broke in 2 due to severe weather conditions during its trip from Rotterdam to Montreal.  21 members of the 25-member crew died in the accident.",
           "45 miles southwest of the islands of Saint-Pierre-et-Miquelon"
          ],
          [
           "Southern British Columbia, March 18-24, 1997. Severe thunderstorms, creating floods, damaged residential, farm, business and local government buildings. Flooding occurred on most of Vancouver Island, Harrison Lake and Fraser River, Okanagan Lake, Lower Arrow Lake, Upper Arrow Lake, Shuswap Lake, Kootenay Lake, Kootenay River and Columbia River (to the lower part of Kinbasket Lake).  This area encompassed the towns of Vancouver, Port Alberni, Nanaimo, Victoria, Vernon, Kelowna, Nelson, Trail and Penticton.",
           "Southern British Columbia"
          ],
          [
           "Calgary AB, July 24-25, 1996.",
           "Calgary AB"
          ],
          [
           "Calgary AB, July 16-18, 1996. The hailstorm caused  flooding; heavy rains and tornadoes were also reported. 911 service was knocked out, causing emergency crews to use regular lines. No injuries were reported. Many vehicles were damaged. Gale force winds, torrential rains swept across the area. There were no reported injuries, however extensive damage was done to homes and gardens.",
           "Calgary AB"
          ],
          [
           "Winnipeg MB, July 16, 1996. Hailstones the size of tennis balls pounded down on the city; crops were flattened south of Winnipeg, trees were stripped, gardens destroyed and windows shattered. Gale force winds, torrential rains, funnel clouds and one tornado were reported. There were no reported injuries.",
           "Winnipeg MB"
          ],
          [
           "Hamilton ON, October 5-6, 1995.",
           "Hamilton ON"
          ],
          [
           "Regina SK, August 26, 1995.",
           "Regina SK"
          ],
          [
           "Southern MB, July 30, 1995.",
           "Southern Manitoba"
          ],
          [
           "Calgary AB, July 17, 1995.",
           "Calgary AB"
          ],
          [
           "Southern Ontario, July 13-15, 1995.",
           "Southern Ontario"
          ],
          [
           "Southern AB July 10, 1995.",
           "Southern Alberta"
          ],
          [
           "Edmonton AB, July 4, 1995.",
           "Edmonton AB"
          ],
          [
           "Southern ON, August 28, 1994.",
           "Southern ON"
          ],
          [
           "Southern MB, August 27, 1994.",
           "Southern Manitoba"
          ],
          [
           "Salmon Arm BC, August 4, 1994.",
           "Salmon Arm BC"
          ],
          [
           "Southwestern MB, August 1, 1994.  The hailstorm caused 100% damage in some parts of the province.  About 1000 people were affected.",
           "Southwestern Manitoba"
          ],
          [
           "Southern Alberta, June 18, 1994.",
           "Southern Alberta"
          ],
          [
           "Saskatchewan, May 22, 1994.",
           "Saskatchewan"
          ],
          [
           "Southern MB, May 18, 1994.",
           "Southern Manitoba"
          ],
          [
           "Southern ON, January 28, 1994.",
           "Southern ON"
          ],
          [
           "Edmonton AB, July 29, 1993.",
           "Edmonton AB"
          ],
          [
           "Avalon and Burin Peninsulas and Bonavista, Trinity and Conception Bays NL, October 6, 1992. A violent storm struck on the evening of the October 6 with winds of 139 km/h in some areas and 55 mm of rain; utility services were disrupted in many areas; the Canadian Coast Guard was kept busy with calls for assistance and for a period of time all flights in and out of St. John's International Airport were cancelled; several local area schools, a hospital, businesses and private residences were damaged; the storm continued unabated into Thursday October 8, with winds having subsided to the 70 km/h range.  About 2000 trees in St. John's were destroyed and many boats and fishing vessels were destroyed or damaged.",
           "Avalon and Burin Peninsulas and Bonavista, Trinity and Conception Bays NL"
          ],
          [
           "Edmonton AB, September 1, 1992.",
           "Edmonton AB"
          ],
          [
           "Edmonton AB, August 28, 1992.",
           "Edmonton AB"
          ],
          [
           "Calgary AB, July 31, 1992.",
           "Calgary AB"
          ],
          [
           "Maritime Provinces, especially Nova Scotia, October 25 - November 3, 1991. The \"Halloween Storm\" of 1991, was produced by two hurricanes: \"Grace\" and an unnamed storm over the north Atlantic; on the Scotian slope the highest wave in the world ever recorded by an instrument was measured as 30.7 metres.",
           "Maritime Provinces"
          ],
          [
           "Calgary AB, September 7, 1991 (Labour Day). 30 minute thunderstorm.  Downpours of rain and golfball-sized hail flooded basements and caused property damage; hail smashed windows. Birds crushed by hail; cars trapped in downtown underpasses. 15 manhole covers blown off, 28 catch basins needed to be unplugged.",
           "Calgary AB"
          ],
          [
           "Red Deer AB, July 3, 1991.",
           "Red Deer AB"
          ],
          [
           "Madeleine Islands QC, December 16, 1990. The fishing trawler \"M.V. Nadine\" sank off the Madeleine Islands, Quebec, in high winds and three metre high waves, causing death by hypothermia of seven crew members and a fisheries researcher: there were two survivors: a coroner's report released in June 1992 blamed the loss of life and sinking of the vessel on a series of human errors: ill-fitting survival suits, malfunctioning navigational equipment, lack of automatic pumps, lack of safety measures and emergency drills for those aboard the vessel, and ship's officers untrained in emergency procedures.",
           "Madeleine Islands QC"
          ],
          [
           "Calgary AB, July 9, 1990.",
           "Calgary AB"
          ],
          [
           "Calgary AB, August 16, 1988. Thunderstorms caused major flooding with 40 to 200 mm of rain falling in different locations. Up to 5 cm of hail also fell in the southern part of Calgary.  Streets turned into rivers and left many motorists stranded.  Individuals, small businesses, farmers and government property were damaged. Approximately 400 homes were affected by sewer backup, 50 had damage due to surface water flooding. There were 3,000 property damage claims and 2,000 automobile claims.",
           "Calgary AB"
          ],
          [
           "Montreal QC, May 29, 1987. The worst hailstorm on record in the province. Hailstones of 10-12 mm in diameter caused damage to trees, gardens, window glass, automobiles and roofs.",
           "Montreal QC"
          ],
          [
           "Montreal QC, May 29, 1986. Hail the size of golf balls/tennis balls (up to 8 cm in diameter) fell in Montr?al.",
           "Montreal QC"
          ],
          [
           "Windsor-Leamington ON, May 30, 1985. Golf-ball sized hailstones smashed greenhouses and flattened crops.",
           "Windsor ON"
          ],
          [
           "Southern Manitoba, June-July 1984. Southern Manitoba experienced severe rainstorms with hail, thunder, and lightening. In some cases, tornadoes were reported. The storms led to crop damages and flooding. The cities of Winnipeg and Brandon were particularly affected.",
           "Southern Manitoba"
          ],
          [
           "Regina SK, July 8-9, 1983. Regina Airport received 50 mm of rain in one hour, and 117 mm in a 24 hour period, while northern Regina received up to 150 mm, with 83 mm coming in one hour; the storm overloaded the sewer system and caused severe flooding, mostly in basements.",
           "Regina SK"
          ],
          [
           "Greater Vancouver BC, October 30-31, 1981.  An estimated 70 mm of rainfall caused road and rail washouts, flooding of buildings and erosion. The accompanying wind caused hydro blackouts throughout Greater Vancouver, the Fraser Valley and along the Sunshine Coast. Blocked culverts and plugged storm drains caused extensive damage to surrounding areas. The following creeks reported the majority of the flooding: Lynn Creek, Seymour Creek and Mosquito Creek. Areas which received the most damage were: District of North Vancouver, City of North Vancouver, Pemberton, Squamish and Howe Sound. First Nation reserves also reported damage. One 17 year old drowned while trying to cross a creek; 4 people went missing and 5 people were killed due to the washing out of a bridge.",
           "Greater Vancouver BC"
          ],
          [
           "Moncton NB, July 12, 1976.  A rainstorm dropped 79.8 mm within 24 hours in Moncton, NB. Streets and basements all across the town were flooded. Transformers were hit by lightning during the storm; however, there were no widespread power outages. Smaller outages were fixed within a day.",
           "Moncton NB"
          ],
          [
           "Charlottetown PE, July 3, 1974. At 4:30 pm, Charlottetown and the surrounding area received a half-hour storm of thunder, lightning, 30 mm of rain, large hailstones, and winds up to 140 km/h.  Damages reported were: broken windows, doors torn from frames, shingles lifted from roofs, buildings blown down, trees and shrubbery uprooted, electric and telephone lines knocked out by fallen trees, and damaged crops.  The damage was most severe in Sherwood, East Royalty, Mermaid, and Johnston's River. The airport in Charlottetown reported that planes were flipped over.",
           "Charlottetown PE"
          ],
          [
           "Maritimes, June 17, 1973. A sudden severe storm struck the Atlantic provinces causing extensive damage to fishermen's gear.",
           "Newfoundland, Prince Edward Island and Nova Scotia"
          ]
         ],
         "hovertemplate": "EVENT TYPE=Storms and Severe Thunderstorms<br>NORMALIZED TOTAL COST=%{marker.size}<br>INSURANCE PAYMENTS=%{y}<br>COMMENTS=%{customdata[0]}<br>PLACE=%{customdata[1]}<extra></extra>",
         "legendgroup": "Storms and Severe Thunderstorms",
         "marker": {
          "color": "#19d3f3",
          "size": [
           4800887.9,
           3292897.2,
           2535140.2,
           2199205.6,
           4162757,
           1659953.3,
           0,
           7925876.8,
           2164739.3,
           1383317.5,
           4653270.1,
           0,
           0,
           527491.9,
           212085.8,
           5768.2,
           0,
           2622377.6,
           0,
           9089790.2,
           236014,
           2149353.1,
           188385.5,
           691882,
           0,
           82704.2,
           44767.4,
           78831.7,
           33915.3,
           0,
           0,
           0,
           9070464.5,
           0,
           396231.4,
           0,
           0,
           0,
           150950.1,
           761420.2,
           1026400,
           63669,
           882307.4,
           0,
           0,
           0,
           0,
           0,
           0,
           0,
           0,
           145676.1,
           726580.2,
           53349.4,
           0,
           111524.2,
           4288587.1,
           335773.8,
           304331.5,
           5930999.5,
           6951631,
           7086614.2,
           1193082.2,
           914597.3,
           617671.2,
           5106822.7,
           3897945.2,
           1924863,
           2363809,
           551411.9,
           993899.7,
           780980.2,
           223328.3,
           2168202.2,
           671374.8,
           635285.9,
           476009.3,
           1478679.5,
           638931.2,
           1608714.3,
           1440726.3,
           2749678.4,
           0,
           64101113.9,
           2926648.2,
           30388,
           1476689.1,
           3356281.3,
           2180233.6,
           4159115.9,
           1560952.4,
           164037.6,
           2128832.5,
           379411.8,
           1544469.5,
           32748.1,
           1355084.7
          ],
          "sizemode": "area",
          "sizeref": 761618.9102500001,
          "symbol": "circle"
         },
         "mode": "markers",
         "name": "Storms and Severe Thunderstorms",
         "orientation": "v",
         "showlegend": true,
         "type": "scatter",
         "visible": true,
         "x": [
          4800887.9,
          3292897.2,
          2535140.2,
          2199205.6,
          4162757,
          1659953.3,
          0,
          7925876.8,
          2164739.3,
          1383317.5,
          4653270.1,
          0,
          0,
          527491.9,
          212085.8,
          5768.2,
          0,
          2622377.6,
          0,
          9089790.2,
          236014,
          2149353.1,
          188385.5,
          691882,
          0,
          82704.2,
          44767.4,
          78831.7,
          33915.3,
          0,
          0,
          0,
          9070464.5,
          0,
          396231.4,
          0,
          0,
          0,
          150950.1,
          761420.2,
          1026400,
          63669,
          882307.4,
          0,
          0,
          0,
          0,
          0,
          0,
          0,
          0,
          145676.1,
          726580.2,
          53349.4,
          0,
          111524.2,
          4288587.1,
          335773.8,
          304331.5,
          5930999.5,
          6951631,
          7086614.2,
          1193082.2,
          914597.3,
          617671.2,
          5106822.7,
          3897945.2,
          1924863,
          2363809,
          551411.9,
          993899.7,
          780980.2,
          223328.3,
          2168202.2,
          671374.8,
          635285.9,
          476009.3,
          1478679.5,
          638931.2,
          1608714.3,
          1440726.3,
          2749678.4,
          0,
          64101113.9,
          2926648.2,
          30388,
          1476689.1,
          3356281.3,
          2180233.6,
          4159115.9,
          1560952.4,
          164037.6,
          2128832.5,
          379411.8,
          1544469.5,
          32748.1,
          1355084.7
         ],
         "xaxis": "x",
         "y": [
          102739000,
          70468000,
          54252000,
          47063000,
          89083000,
          35523000,
          null,
          167236000,
          45676000,
          29188000,
          98184000,
          null,
          null,
          null,
          null,
          null,
          null,
          50000000,
          null,
          173312000,
          null,
          40981000,
          null,
          null,
          null,
          null,
          null,
          null,
          null,
          null,
          null,
          null,
          172490000,
          null,
          null,
          null,
          null,
          null,
          null,
          null,
          null,
          null,
          null,
          null,
          null,
          null,
          null,
          null,
          null,
          null,
          null,
          null,
          null,
          null,
          null,
          null,
          65258000,
          null,
          null,
          87877643,
          103000000,
          105000000,
          17419000,
          13118000,
          9018000,
          55701000,
          56910000,
          28103000,
          15653000,
          7876000,
          8850000,
          11155000,
          null,
          9059000,
          9520000,
          9074000,
          6799000,
          8697421,
          8945037,
          8087557,
          5735725,
          24061054,
          null,
          378440384,
          31107661,
          null,
          16279000,
          37127000,
          24891000,
          45473000,
          16390000,
          null,
          16385000,
          null,
          null,
          null,
          null
         ],
         "yaxis": "y"
        },
        {
         "customdata": [
          [
           "Quebec, New Brunswick, Nova Scotia, and Prince Edward Island, July 5-6, 2014. Hurricane Arthur transformed into a powerful Post-Tropical storm over the Maritime provinces. The storm brought powerful wind gusts and heavy rain to Quebec, New Brunswick, Nova Scotia and Prince Edward Island. The most amount of rain was received in St. Stephen, New Brunswick where it rained up to 143 mm. The strongest winds were felt in Nova Scotia where in Greenwood wind gusts reached up to 140 km/h. In Quebec, severe flooding in Mont-Louis inundated several roads affecting 40 homes, while in Marsoui approximately 30 homes were evacuated (approximately 90 individuals). The powerful winds generated by the storm downed trees and power lines throughout the Maritimes causing power outages, property damage and infrastructure damage. Approximately 290,000 homes and businesses (870,000 individuals) in the Maritimes were without power, while in Quebec approximately 23,000 homes and businesses (69,000 individuals) were reported to have lost power.",
           "Quebec, New Brunswick, Nova Scotia, and Prince Edward Island"
          ],
          [
           "Quebec, New Brunswick, Nova Scotia, Prince Edward Island and Newfoundland and Labrador, August 28-30, 2011. Hurricane Irene, the storm that caused over 40 deaths and billions of dollars in damages in the United States, moved north into Canada affecting parts of Quebec and the Maritime provinces. The 400 kilometre-wide Post-Tropical storm produced heavy rain and strong gusts of wind, which downed trees and power lines. Parts of Quebec received more than 100 mm of rain and wind gusts of up to 113 km/h. On August 28, Hydro-Quebec reported approximately 250,000 customers (750,000 individuals) without power and by August 29, only 80,000 households were without power. The storm was responsible for two deaths in Quebec; one man died while attempting to reach his family in the storm, while another went missing and is presumed dead when his car was washed down river. Approximately 350 residents were evacuated in Quebec. Strong winds produced six-metre waves over western Maritime waters. Some parts of Labrador received up to 40 mm of rain overnight, while Doaktown and Fredricton New Brunswick received 89 mm and 53 mm respectively. Approximately 50,000 households (150,000 individuals) in New Brunswick and 8000 (24,000 individuals) households in Nova Scotia were without power during the height of the storm.",
           "Quebec, New Brunswick, Nova Scotia, Prince Eward Island, and Newfoundland and Labrador"
          ],
          [
           "Newfoundland and Labrador, September 21, 2010. Hurricane Igor hit Newfoundland and Labrador at 12:30 NDT, causing extensive damages. At the height of the hurricane, wind speeds in some areas were in excess of 170 km/h with rainfall reaching nearly 240 mm in some parts of the province. Approximately 150 communities were isolated due to washouts and road closures, and 30 communities had declared states of emergency. Over 30,000 calls were made to the Emergency Operations Centre and over 100 families (300 individuals) were displaced. An 80-year-old man died when he was swept into the ocean during the storm.  The Canadian Forces deployed 1000 troops to assist in the wake of the disaster. Canada Revenue Agency also provided tax relief measures to taxpayers affected by Hurricane Igor in Newfoundland and Labrador.",
           "Newfoundland and Labrador"
          ],
          [
           "Nova Scotia, September 4, 2010. Hurricane Earl landed 35 kilometres southwest of Liverpool as a Category 1 hurricane with wind speeds of up to 135 km/h. The storm made landfall at 10:30 ADT with some parts of Nova Scotia receiving up to 75 mm of rain. The high winds produced by the storm created peak waves of 23 metres in height and uprooted trees that downed power lines leaving 200,000 Nova Scotia power customers (approximately 600,000 individuals) without power. There were also extensive damages to the Halifax harbour and roads throughout Newfoundland and Nova Scotia from uprooted trees and debris. An individual drowned west of Halifax while trying to rescue a boat that broke free from its mooring. It was reported that the man was wearing a life jacket at the time, but was unable to swim back to shore. Nova Scotia?s Emergency Management Office attributed the man?s death to the storm.",
           "Nova Scotia"
          ],
          [
           "Halifax NS, August 23, 2009.  Hurricane Bill dumped between 60 and 70 mm of rain with overland wind gusts of 87 km/h. A marine buoy off Nova Scotia recorded winds of 130 km/h and another buoy about 200 kilometers southeast of Yarmouth recorded a maximum wave height of 26.4 metres. Bill's steady downpour and fierce winds knocked out power to 40,000 residents. More than a dozen flights from Halifax International Airport were cancelled and ferry services were suspended between Nova Scotia and Newfoundland. In Newfoundland and Labrador there were road washouts and some localized flooding.",
           "Halifax NS"
          ],
          [
           "Yarmouth NS, September 28, 2008. Tropical Storm Kyle made landfall bringing heavy rains and powerful winds as high as 100 km/h.  The high winds resulted in 40,000 being without power along with significant damage to infrastructure and personal property.",
           "Yarmouth County NS"
          ],
          [
           "Maritime Provinces, September 28, 2008. Tropical storm Kyle, made landfall with Atlantic Canada between the Yarmouth and Digby counties in western Nova Scotia at 21:30 ADT on September 28. Kyle covered more than 1000 kilometres as it moved north-northeast from the United States before reaching Canada as a Category 1 storm with wind gusts of 120 km/h. The storm brought heavy rain to New Brunswick and Quebec, with parts of New Brunswick receiving up to 72 mm of rain. Power outages were reported in all three Maritime provinces. Nova Scotia had over 40,000 customers (approximately 120,000 individuals) lost power. The storm also produced an estimated storm surge of 80 cm.",
           "Maritime Provinces"
          ],
          [
           "Saint John NB, September 7, 2008. Tropical storm Hanna soaked already waterlogged communities in the Maritime provinces on September 7. By the time it reached Atlantic Canada, Hanna was downgraded to a Post-Tropical storm, but remained at gale strength throughout its track along the Fundy coast of Nova Scotia, through eastern Prince Edward Island, northern Cape Breton and southern Newfoundland. The storm produced 80 km/h wind gusts and heavy rain. Saint John was hard hit by 146 mm of rain. Dozens of roads in Saint John were flooded and closed, including parts of the Southern New Brunswick Railway. Scattered power outages were also reported in New Brunswick and Nova Scotia.",
           "Saint John NB"
          ],
          [
           "New Brunswick and Nova Scotia, November 4, 2007. Wind gusts of up to 135 km/h from post-tropical storm Noel lashed the Maritimes, knocking out power to an estimated 190,000 homes and businesses across the region, while pounding surf and heavy rain washed out roads in some coastal areas.",
           "New Brunswick and Nova Scotia"
          ],
          [
           "Newfoundland, August 1, 2007. Post-Tropic storm Chantel tracked over through the Maritimes reaching Newfoundland?s Avalon Peninsula on August 1. Chanel dumped up to 200 mm of rain and produced wind gusts of up to 111 km/h in the region. The intense rainfall broke records. St. John?s West and Mount Pearl reported the heaviest one-hour rainfall, which included 43 mm and 49 mm respectively. Ten communities in Newfoundland were isolated due to flooding and declared a state of emergency. Numerous roads and bridges were washed out because of the torrential rain.",
           "Newfoundland"
          ],
          [
           "Edmundston and Saint-Jacques NB, August 13-14, 2004. Tropical storm Bonnie produced significant heavy rain throughout New Brunswick. Edmundston and Saint-Jacques were both hard hit by the torrential rain. There was localised flooding, basement flooding and road closures in Edmundston and Saint-Jacques. The community of Saint-Jacques was put on a boil water advisory due to well contamination that resulted from the flooding. Edmundston recieved up to 90 mm of rain, while 50.9 mm and 65.4 mm was reported in Fredricton and St. Stephen. Flooded roads created dangerous driving conditions for local residents. One individual was killed while driving a truck across a shallow stream.",
           "Edmundston NB"
          ],
          [
           "Halifax NS and Charlottetown PE, September 29, 2003. At 00:10 AST, Hurricane Juan made landfall in Nova Scotia as one of the most powerful and damaging hurricanes to impact Canada.  A 1.63 metre storm surge occurred while Juan made landfall just south of Halifax as a Class 2 hurricane. Water levels reached 2.9 metres above chart datum, which was the highest water level recorded to date at this location. Winds gusted to 230 km/h in Halifax and waves outside Halifax Harbour reached a maximum height of 19 metres. Extensive damage to buildings, docks, boardwalks and trails occurred throughout Nova Scotia and Prince Edward Island. Point Pleasant Park in Halifax was decimated; nearly every tree in the 75-hectare park was damaged or uprooted. Juan knocked out power to hundreds of thousands of people. It is estaimated that up to 300,000 people lost power due to the strong winds. In addition, eight lives were lost either directly or indirectly as a result of Hurricane Juan.",
           "Halifax NS and Charlottetown PE"
          ],
          [
           "Southern coast of Newfoundland, September 19, 2001. Tropical Storm \"Gabrielle\". High tides, strong winds and record-breaking precipitation hit the southern coast of Newfoundland, particularly the Avalon Peninsula. Provincial, municipal, and private properties were greatly affected. Basements, streets, parks, schools and shopping malls were flooded. Power outages affected most of the province. Conflict arose between St-John's residents and the municipality over the inadequate sewer system; the sewer system could not manage the runoff.",
           "Southern coast of Newfoundland"
          ],
          [
           "Burin Peninsula NL, September 11, 1995. Heavy rains and winds associated with Hurricane \"Luis\" caused damage to provincial, municipal, and private sector properties on the Burin Peninsula. Some two dozen roads were washed out.",
           "Burin Peninsula NL"
          ],
          [
           "Southern New Brunswick, August 19, 1991. 2 deaths; Hurricane Bob hit southern New Brunswick with winds gusting to 100 km/h after leaving a trail of destruction through the U.S. Cape Cod region.",
           "Southern New Brunswick"
          ],
          [
           "Northumberland Strait NS and PE, August 1990. Six crew were killed when a cargo ship sailing south of Nova Scotia was battered by hurricane Bertha; winds and heavy rains damaged Prince Edward Island's corn and tobacco crops; huge surf pounded the island's coast, and up to 190 mm of rainfall was recorded in some areas.",
           "Northumberland Strait (NS and PE)"
          ],
          [
           "Dartmouth NS, August 15-16, 1971. Hurricane \"Beth\" produced 296 mm of rain in Nova Scotia; damage to crops was extensive, sections of highways and bridges were washed out; fresh water supplies in Dartmouth, Nova Scotia were left contaminated for days because of extensive runoff into Lake Antigonish.",
           "Dartmouth NS"
          ],
          [
           "Maritime Provinces, October 21, 1968. Remnants of Hurricane \"Gladys\" passed over Cape Breton Island, killing one person and producing rainfall of 45-90 mm; the storm caused flooding in New Brunswick and Nova Scotia.",
           "Maritime Provinces"
          ],
          [
           "Maritime Provinces, June 20, 1959. 33 people, mostly lobster fishermen, were killed as hurricane gales, reaching 120 km/h, swept across the Maritimes; caused considerable property damage. Twenty-two fishing boats were destroyed off Escuminac.",
           "Maritime Provinces"
          ]
         ],
         "hovertemplate": "EVENT TYPE=Hurricane / Typhoon / Tropical Storm<br>NORMALIZED TOTAL COST=%{marker.size}<br>INSURANCE PAYMENTS=%{y}<br>COMMENTS=%{customdata[0]}<br>PLACE=%{customdata[1]}<extra></extra>",
         "legendgroup": "Hurricane / Typhoon / Tropical Storm",
         "marker": {
          "color": "#FF6692",
          "size": [
           1184281.2,
           7699216,
           4403829.5,
           0,
           0,
           0,
           0,
           35500.6,
           0,
           380071.7,
           0,
           1490057.7,
           720429.6,
           182321.2,
           508783.6,
           338813.8,
           696459.3,
           0,
           0
          ],
          "sizemode": "area",
          "sizeref": 761618.9102500001,
          "symbol": "circle"
         },
         "mode": "markers",
         "name": "Hurricane / Typhoon / Tropical Storm",
         "orientation": "v",
         "showlegend": true,
         "type": "scatter",
         "visible": true,
         "x": [
          1184281.2,
          7699216,
          4403829.5,
          0,
          0,
          0,
          0,
          35500.6,
          0,
          380071.7,
          0,
          1490057.7,
          720429.6,
          182321.2,
          508783.6,
          338813.8,
          696459.3,
          0,
          0
         ],
         "xaxis": "x",
         "y": [
          null,
          137800000,
          null,
          null,
          null,
          null,
          null,
          null,
          null,
          7063000,
          null,
          null,
          5720660,
          null,
          null,
          null,
          null,
          null,
          null
         ],
         "yaxis": "y"
        },
        {
         "customdata": [
          [
           "Baie-Verte NB, January 2-3, 2010. While there are no gauges in the Baie-Verte/Port Elgin area, Environment Canada reported that based on the gauge at Pointe du Chene the peak water level there lasted for approximately two hours. Environment Canada indicated that water levels in the Baie-Verte/Port Elgin area would have been greater than the five feet recorded at Pointe du Chene due to the peak winds occurring there later in the storm.",
           "Baie-Verte and Port Elgin NB"
          ],
          [
           "Delta BC, February 4, 2006. A strong winter storm with sustained winds of 75 km/h brought an approximately one metre storm surge which coincided with the morning high tide resulting in water levels 5.5 metre above chart datum. Combined with high waves, overtopping and breaching of dykes allowed flooding of low-lying areas behind the dykes. Approximately 150-200 residential properties were affected.",
           "Delta BC"
          ],
          [
           "Kings County PE, December 27, 2004. Panmure Island and Basin Head were particularly affected. In North Rustico, a man was rescued by firefighters from his flooded residence.",
           "Kings County PE"
          ],
          [
           "Eastern and Northern Coastline of New Brunswick, October 29, 2000.  Extensive damage occurred during a severe storm surge with winds in excess of 130 km/h.  Private property, businesses and public infrastructure were damaged along the eastern and northern coast of New Brunswick.  The emerging shellfish aquaculture industry (which includes mussels, oysters and clams) was also greatly affected.",
           "Eastern and Northern Coastline of New Brunswick"
          ],
          [
           "Maritime provinces, January 21, 2000. A 1.36 m surge occurred as an intense storm passed 55 km east of Charlottetown bringing 70 km/h sustained winds to the region. The peak surge coincided with high tide resulting in a water level of 4.23 m above chart datum, the highest water level recorded to date at this location. Significant flooding occurred inundating more than 460 properties including gas stations and a power generating plant and damaging wharves.",
           "Maritime provinces"
          ],
          [
           "New Brunswick,  February 2-3, 1976. The \"Groundhog Day Storm\"; a severe storm hit the Bay of Fundy producing 188 km/h winds and 12 m waves with swells 10 m high; parts of central New Brunswick. Saint John, was hit the hardest within the province, with damaged docks, buildings, boats and mobile homes, lobster traps and fish nets; the storm severed hydro poles and trees; transportation and utilities were stopped for a week; coastline flooding occurred; 550 m of a sea wall caved in. All of Prince Edward Island and parts of Nova Scotia were affected. Refer to the Nova Scotia entry for more information on this storm system.",
           "New Brunswick"
          ],
          [
           "Western, Central and Northern NS, February 2-3, 1976. The \"Groundhog Day Storm\": high winds damaged roofs and windows, knocked down trees and power and telephone lines and caved in a 550 m sea wall.  The biggest impacts were caused by a storm surge. The fishing industry was greatly affected by the damage to the shoreline as a result of the extremely high tides. Refer to the New Brunswick entry for more information on this storm system.",
           "Western, Central and Northern NS"
          ]
         ],
         "hovertemplate": "EVENT TYPE=Storm Surge<br>NORMALIZED TOTAL COST=%{marker.size}<br>INSURANCE PAYMENTS=%{y}<br>COMMENTS=%{customdata[0]}<br>PLACE=%{customdata[1]}<extra></extra>",
         "legendgroup": "Storm Surge",
         "marker": {
          "color": "#B6E880",
          "size": [
           32326.5,
           352300.6,
           147738.6,
           344717,
           13646.4,
           1544469.5,
           798289.4
          ],
          "sizemode": "area",
          "sizeref": 761618.9102500001,
          "symbol": "circle"
         },
         "mode": "markers",
         "name": "Storm Surge",
         "orientation": "v",
         "showlegend": true,
         "type": "scatter",
         "visible": true,
         "x": [
          32326.5,
          352300.6,
          147738.6,
          344717,
          13646.4,
          1544469.5,
          798289.4
         ],
         "xaxis": "x",
         "y": [
          144003,
          6406000,
          null,
          5481000,
          null,
          null,
          null
         ],
         "yaxis": "y"
        },
        {
         "customdata": [
          [
           "Vancouver and Fraser BC, June 27 to August 3, 2009. Temperatures of up to 34.4 degrees centigrade were measured at Vancouver International Airport during an eight-day period from July 27 to August 3. According to the Fraser and Vancouver Health Authorities, in the past during the same eight-day period from July 27 to August 3, the average number of deaths was 321, but in 2009 during this time, there was a registered 455 deaths. It is believe that the heat greatly contributed towards the unusually high number of deaths.",
           "Vancouver and Fraser BC"
          ]
         ],
         "hovertemplate": "EVENT TYPE=Heat Event<br>NORMALIZED TOTAL COST=%{marker.size}<br>INSURANCE PAYMENTS=%{y}<br>COMMENTS=%{customdata[0]}<br>PLACE=%{customdata[1]}<extra></extra>",
         "legendgroup": "Heat Event",
         "marker": {
          "color": "#FF97FF",
          "size": [
           0
          ],
          "sizemode": "area",
          "sizeref": 761618.9102500001,
          "symbol": "circle"
         },
         "mode": "markers",
         "name": "Heat Event",
         "orientation": "v",
         "showlegend": true,
         "type": "scatter",
         "visible": true,
         "x": [
          0
         ],
         "xaxis": "x",
         "y": [
          null
         ],
         "yaxis": "y"
        },
        {
         "customdata": [
          [
           "Saskatchewan and Alberta, March 1 to July 1, 2009.  The Canadian Wheat Board projected lower crop prospects by 20 per cent across the Prairies. A dozen counties and municipal districts in Alberta declared a state of drought emergency or disaster. For example, Saskatoon had less than one-quarter of the usual amount of spring precipitation, making the months of March, April and May the driest since record-keeping began in 1892. It wasn't just spring that was dry. The soil moisture recharge period between September 1, 2008 and March 31, 2009 had less than 60 per cent of normal precipitation. To the west, in Alberta, conditions were even drier, as illustrated by precipitation amounts in Edmonton, where the 12- month total rain and snow from July 2008 to June 2009 was only 234 mm, less than half of normal and the driest such period with records dating back to 1880. Making matters worse, eight of the last ten years in Alberta's capital of Edmonton had less rain and snow than the 30-year average total, but no year was as scanty as the most recent. Not surprisingly, the flow of the North Saskatchewan River was at its third lowest level in nearly a century.",
           "Saskatchewan and Alberta"
          ],
          [
           "Grande Prairie AB, 1996.",
           "Grande Prairie AB"
          ],
          [
           "Prairie Provinces, 1993. Severe and widespread surface water droughts reported on the Prairies.",
           "Prairie Provinces"
          ],
          [
           "Prairie Provinces, 1992. Livestock yields were low in northern Alberta and Saskatchewan due to dry conditions; severe and widespread surface water droughts reported on the Prairies; coldest July since 1884.",
           "Prairie Provinces"
          ],
          [
           "Prairie Provinces, 1991. Severe and widespread surface water droughts reported on the Prairies.",
           "Prairie Provinces"
          ],
          [
           "Prairie Provinces, 1990. Cereal crop drought occurred in parts of the Prairies.",
           "Prairie Provinces"
          ],
          [
           "Prairie Provinces, 1989. Cereal crop drought occurred in parts of the Prairies; severe and widespread surface water droughts reported on the Prairies.",
           "Prairie Provinces"
          ],
          [
           "Prairie Provinces, 1986. Severe and widespread surface water droughts reported on the Prairies.",
           "Prairie Provinces"
          ],
          [
           "Prairie Provinces, 1984. The worst agricultural drought since the 1930s to occur in the Prairies; severe and widespread surface water droughts reported on the Prairies. Over 10,000 farms were affected.",
           "Prairie Provinces"
          ],
          [
           "Prairie Provinces, 1983. Cereal crop drought occurred in parts of the Prairies; production declined in western Canada by 7.5% due to the onset of drought during the growing season.",
           "Prairie Provinces"
          ],
          [
           "Prairie Provinces, 1981. Severe and widespread surface water droughts reported on the Prairies.",
           "Prairie Provinces"
          ],
          [
           "Prairie Provinces, 1977. Cereal crop drought occurred in parts of the Prairies; among the most severe and widespread surface water droughts ever to occur on the Prairies; severe drought in southern Alberta and western Saskatchewan.",
           "Prairie Provinces"
          ],
          [
           "Prairie Provinces, 1974. Cereal crop drought occurred in parts of the Prairies.",
           "Prairie Provinces"
          ],
          [
           "Prairie Provinces, 1973. Severe and widespread surface water droughts reported on the Prairies, as well as winterkill in forage crops in British Columbia interior.",
           "Prairie Provinces"
          ],
          [
           "Prairie Provinces, 1969. Cereal crop drought occurred in parts of the Prairies.",
           "Prairie Provinces"
          ],
          [
           "Prairie Provinces, 1968. Cereal crop drought occurred in parts of the Prairies; severe and widespread surface water droughts reported on the Prairies.",
           "Prairie Provinces"
          ],
          [
           "Prairie Provinces, 1967. Cereal crop drought occurred in parts of the Prairies; extensive drought from the Peace River, Alberta, to southern Manitoba.",
           "Prairie Provinces"
          ],
          [
           "Prairie Provinces, 1964. Cereal crop drought occurred in parts of the Prairies; severe and widespread surface water droughts reported on the Prairies.",
           "Prairie Provinces"
          ],
          [
           "Prairie Provinces, 1963. Severe and widespread surface water droughts reported on the Prairies.",
           "Prairie Provinces"
          ],
          [
           "Prairie Provinces, 1962. Severe and widespread surface water droughts reported on the Prairies.",
           "Prairie Provinces"
          ],
          [
           "Prairie Provinces, 1961. One of the worst agricultural droughts to occur in the Prairies; among the most severe and widespread surface water droughts ever to occur on the Prairies; total net farm income dropped by 48% compared to 1960.  The worst drought year this century for prairie wheat.",
           "Prairie Provinces"
          ],
          [
           "Prairie Provinces, 1960. Cereal crop drought occurred in parts of the Prairies.",
           "Prairie Provinces"
          ],
          [
           "Prairie Provinces, 1959. Severe and widespread surface water droughts reported on the Prairies.",
           "Prairie Provinces"
          ],
          [
           "Prairie Provinces, 1958. Cereal crop drought occurred in parts of the Prairies; severe and widespread surface water droughts were reported.",
           "Prairie Provinces"
          ],
          [
           "Prairie Provinces, 1931-1938. The \"dirty thirties\"; dust storms, plant rust, heat waves, grasshopper plagues and water shortages plagued western Canada for almost a decade causing immense social and economic hardship. It is estimated that 250,000 people left the area. For related deaths, see Heatwave of 1936 (1936.005).",
           "Prairie Provinces"
          ],
          [
           "Prairie Provinces, 1929. Cereal crop drought occurred in parts of the Prairies.",
           "Prairie Provinces"
          ],
          [
           "Prairie Provinces, 1924. Cereal crop drought occurred in parts of the Prairies.",
           "Prairie Provinces"
          ],
          [
           "Prairie Provinces, 1920. Cereal crop drought occurred in parts of the Prairies. Alberta communities were hardest hit.",
           "Prairie Provinces"
          ],
          [
           "Prairie Provinces, 1919. Cereal crop drought occurred in parts of the Prairies.",
           "Prairie Provinces"
          ],
          [
           "Prairie Provinces, 1918. Cereal crop drought occurred in parts of the Prairies.",
           "Prairie Provinces"
          ],
          [
           "Prairie Provinces, 1917. Cereal crop drought occurred in parts of the Prairies.",
           "Prairie Provinces"
          ],
          [
           "Prairie Provinces, 1914. Cereal crop drought occurred in parts of the Prairies.",
           "Prairie Provinces"
          ],
          [
           "Prairie Provinces, 1910. Cereal crop drought occurred in parts of the Prairies.",
           "Prairie Provinces"
          ]
         ],
         "hovertemplate": "EVENT TYPE=Drought<br>NORMALIZED TOTAL COST=%{marker.size}<br>INSURANCE PAYMENTS=%{y}<br>COMMENTS=%{customdata[0]}<br>PLACE=%{customdata[1]}<extra></extra>",
         "legendgroup": "Drought",
         "marker": {
          "color": "#FECB52",
          "size": [
           0,
           3890516.9,
           0,
           41471251.6,
           10620073.8,
           44532516.2,
           0,
           0,
           0,
           0,
           224.7,
           0,
           0,
           0,
           0,
           0,
           0,
           0,
           0,
           0,
           0,
           0,
           0,
           0,
           0,
           0,
           0,
           0,
           0,
           0,
           0,
           0,
           0
          ],
          "sizemode": "area",
          "sizeref": 761618.9102500001,
          "symbol": "circle"
         },
         "mode": "markers",
         "name": "Drought",
         "orientation": "v",
         "showlegend": true,
         "type": "scatter",
         "visible": true,
         "x": [
          0,
          3890516.9,
          0,
          41471251.6,
          10620073.8,
          44532516.2,
          0,
          0,
          0,
          0,
          224.7,
          0,
          0,
          0,
          0,
          0,
          0,
          0,
          0,
          0,
          0,
          0,
          0,
          0,
          0,
          0,
          0,
          0,
          0,
          0,
          0,
          0,
          0
         ],
         "xaxis": "x",
         "y": [
          null,
          null,
          null,
          null,
          null,
          null,
          null,
          null,
          null,
          null,
          null,
          null,
          null,
          null,
          null,
          null,
          null,
          null,
          null,
          null,
          null,
          null,
          null,
          null,
          null,
          null,
          null,
          null,
          null,
          null,
          null,
          null,
          null
         ],
         "yaxis": "y"
        },
        {
         "customdata": [
          [
           "Kangiqsualujjuaq QC, January 1, 1999. The Inuit community of Kangiqsualujjuaq, grieved after 9 died in Quebec's worst avalanche. Four adults and five children died in the tragedy after tonnes of snow came cascading down the sheer face of a 365-metre-high cliff at 1:30 am on January 1, knocking out a wall and swamping those inside the gymnasium where the New Year's Eve party was being held. Some of the 25 injured were in critical condition and 10 other buildings were evacuated.",
           "Kangiqsualujjuaq QC"
          ],
          [
           "Blanc Sablon (lower north coast) QC, March 10, 1995. An large snow storm provoked an avalanche (2000 m? of snow).  Two people were killed, a house destroyed, 24 residences were evacuated. The avalanche affected 69 people in total.",
           "Blanc Sablon QC"
          ]
         ],
         "hovertemplate": "EVENT TYPE=Avalanche<br>NORMALIZED TOTAL COST=%{marker.size}<br>INSURANCE PAYMENTS=%{y}<br>COMMENTS=%{customdata[0]}<br>PLACE=%{customdata[1]}<extra></extra>",
         "legendgroup": "Avalanche",
         "marker": {
          "color": "#636efa",
          "size": [
           413373.5,
           25216.4
          ],
          "sizemode": "area",
          "sizeref": 761618.9102500001,
          "symbol": "circle"
         },
         "mode": "markers",
         "name": "Avalanche",
         "orientation": "v",
         "showlegend": true,
         "type": "scatter",
         "visible": true,
         "x": [
          413373.5,
          25216.4
         ],
         "xaxis": "x",
         "y": [
          null,
          null
         ],
         "yaxis": "y"
        },
        {
         "customdata": [
          [
           "Alberta to the Maritimes, late January to early February 1994. Coldest Jan. in 100 years.  St. John's NF 14.5°C; Ottawa ON -31.3°C; Kapuskasing ON -40°C, tires fell off rims of cars.  Coldest winter in Toronto since 1920, with double the normal snowfall as usual in January and 5 degrees cooler (at 10°C).  Dramatic increase in frozen water pipes that burst and caused damage to homes, commercial plants and contents.",
           "Alberta to Maritimes"
          ],
          [
           "Prairie Provinces and Ontario, Summer 1992.  Unseasonable snow and frost during the months of June, July, and August caused massive damage to agricultural crops.",
           "Prairies Provinces and Ontario"
          ],
          [
           "British Columbia to Ontario, December 1989 Â? January 1990. Two serious cold spells began on December 19-28, 1989; snow, wind, and ice knocked out power lines to 60,000 homes in southwestern British Columbia on January 17; 5 deaths in Manitoba were caused by exposure to the extreme cold; 2 deaths due to fatal accidents in Alberta; freezing caused pipes to burst in Ontario. Almost 65% of the BC's utilities 16,980,000 cubic metres reserve used up.",
           "British Columbia to Ontario"
          ]
         ],
         "hovertemplate": "EVENT TYPE=Cold Event<br>NORMALIZED TOTAL COST=%{marker.size}<br>INSURANCE PAYMENTS=%{y}<br>COMMENTS=%{customdata[0]}<br>PLACE=%{customdata[1]}<extra></extra>",
         "legendgroup": "Cold Event",
         "marker": {
          "color": "#EF553B",
          "size": [
           3220.2,
           142857.1,
           43033.8
          ],
          "sizemode": "area",
          "sizeref": 761618.9102500001,
          "symbol": "circle"
         },
         "mode": "markers",
         "name": "Cold Event",
         "orientation": "v",
         "showlegend": true,
         "type": "scatter",
         "visible": true,
         "x": [
          3220.2,
          142857.1,
          43033.8
         ],
         "xaxis": "x",
         "y": [
          null,
          null,
          null
         ],
         "yaxis": "y"
        }
       ],
       "layout": {
        "autosize": true,
        "legend": {
         "itemsizing": "constant",
         "title": {
          "text": "EVENT TYPE"
         },
         "tracegroupgap": 0
        },
        "template": {
         "data": {
          "bar": [
           {
            "error_x": {
             "color": "#2a3f5f"
            },
            "error_y": {
             "color": "#2a3f5f"
            },
            "marker": {
             "line": {
              "color": "#E5ECF6",
              "width": 0.5
             },
             "pattern": {
              "fillmode": "overlay",
              "size": 10,
              "solidity": 0.2
             }
            },
            "type": "bar"
           }
          ],
          "barpolar": [
           {
            "marker": {
             "line": {
              "color": "#E5ECF6",
              "width": 0.5
             },
             "pattern": {
              "fillmode": "overlay",
              "size": 10,
              "solidity": 0.2
             }
            },
            "type": "barpolar"
           }
          ],
          "carpet": [
           {
            "aaxis": {
             "endlinecolor": "#2a3f5f",
             "gridcolor": "white",
             "linecolor": "white",
             "minorgridcolor": "white",
             "startlinecolor": "#2a3f5f"
            },
            "baxis": {
             "endlinecolor": "#2a3f5f",
             "gridcolor": "white",
             "linecolor": "white",
             "minorgridcolor": "white",
             "startlinecolor": "#2a3f5f"
            },
            "type": "carpet"
           }
          ],
          "choropleth": [
           {
            "colorbar": {
             "outlinewidth": 0,
             "ticks": ""
            },
            "type": "choropleth"
           }
          ],
          "contour": [
           {
            "colorbar": {
             "outlinewidth": 0,
             "ticks": ""
            },
            "colorscale": [
             [
              0,
              "#0d0887"
             ],
             [
              0.1111111111111111,
              "#46039f"
             ],
             [
              0.2222222222222222,
              "#7201a8"
             ],
             [
              0.3333333333333333,
              "#9c179e"
             ],
             [
              0.4444444444444444,
              "#bd3786"
             ],
             [
              0.5555555555555556,
              "#d8576b"
             ],
             [
              0.6666666666666666,
              "#ed7953"
             ],
             [
              0.7777777777777778,
              "#fb9f3a"
             ],
             [
              0.8888888888888888,
              "#fdca26"
             ],
             [
              1,
              "#f0f921"
             ]
            ],
            "type": "contour"
           }
          ],
          "contourcarpet": [
           {
            "colorbar": {
             "outlinewidth": 0,
             "ticks": ""
            },
            "type": "contourcarpet"
           }
          ],
          "heatmap": [
           {
            "colorbar": {
             "outlinewidth": 0,
             "ticks": ""
            },
            "colorscale": [
             [
              0,
              "#0d0887"
             ],
             [
              0.1111111111111111,
              "#46039f"
             ],
             [
              0.2222222222222222,
              "#7201a8"
             ],
             [
              0.3333333333333333,
              "#9c179e"
             ],
             [
              0.4444444444444444,
              "#bd3786"
             ],
             [
              0.5555555555555556,
              "#d8576b"
             ],
             [
              0.6666666666666666,
              "#ed7953"
             ],
             [
              0.7777777777777778,
              "#fb9f3a"
             ],
             [
              0.8888888888888888,
              "#fdca26"
             ],
             [
              1,
              "#f0f921"
             ]
            ],
            "type": "heatmap"
           }
          ],
          "heatmapgl": [
           {
            "colorbar": {
             "outlinewidth": 0,
             "ticks": ""
            },
            "colorscale": [
             [
              0,
              "#0d0887"
             ],
             [
              0.1111111111111111,
              "#46039f"
             ],
             [
              0.2222222222222222,
              "#7201a8"
             ],
             [
              0.3333333333333333,
              "#9c179e"
             ],
             [
              0.4444444444444444,
              "#bd3786"
             ],
             [
              0.5555555555555556,
              "#d8576b"
             ],
             [
              0.6666666666666666,
              "#ed7953"
             ],
             [
              0.7777777777777778,
              "#fb9f3a"
             ],
             [
              0.8888888888888888,
              "#fdca26"
             ],
             [
              1,
              "#f0f921"
             ]
            ],
            "type": "heatmapgl"
           }
          ],
          "histogram": [
           {
            "marker": {
             "pattern": {
              "fillmode": "overlay",
              "size": 10,
              "solidity": 0.2
             }
            },
            "type": "histogram"
           }
          ],
          "histogram2d": [
           {
            "colorbar": {
             "outlinewidth": 0,
             "ticks": ""
            },
            "colorscale": [
             [
              0,
              "#0d0887"
             ],
             [
              0.1111111111111111,
              "#46039f"
             ],
             [
              0.2222222222222222,
              "#7201a8"
             ],
             [
              0.3333333333333333,
              "#9c179e"
             ],
             [
              0.4444444444444444,
              "#bd3786"
             ],
             [
              0.5555555555555556,
              "#d8576b"
             ],
             [
              0.6666666666666666,
              "#ed7953"
             ],
             [
              0.7777777777777778,
              "#fb9f3a"
             ],
             [
              0.8888888888888888,
              "#fdca26"
             ],
             [
              1,
              "#f0f921"
             ]
            ],
            "type": "histogram2d"
           }
          ],
          "histogram2dcontour": [
           {
            "colorbar": {
             "outlinewidth": 0,
             "ticks": ""
            },
            "colorscale": [
             [
              0,
              "#0d0887"
             ],
             [
              0.1111111111111111,
              "#46039f"
             ],
             [
              0.2222222222222222,
              "#7201a8"
             ],
             [
              0.3333333333333333,
              "#9c179e"
             ],
             [
              0.4444444444444444,
              "#bd3786"
             ],
             [
              0.5555555555555556,
              "#d8576b"
             ],
             [
              0.6666666666666666,
              "#ed7953"
             ],
             [
              0.7777777777777778,
              "#fb9f3a"
             ],
             [
              0.8888888888888888,
              "#fdca26"
             ],
             [
              1,
              "#f0f921"
             ]
            ],
            "type": "histogram2dcontour"
           }
          ],
          "mesh3d": [
           {
            "colorbar": {
             "outlinewidth": 0,
             "ticks": ""
            },
            "type": "mesh3d"
           }
          ],
          "parcoords": [
           {
            "line": {
             "colorbar": {
              "outlinewidth": 0,
              "ticks": ""
             }
            },
            "type": "parcoords"
           }
          ],
          "pie": [
           {
            "automargin": true,
            "type": "pie"
           }
          ],
          "scatter": [
           {
            "fillpattern": {
             "fillmode": "overlay",
             "size": 10,
             "solidity": 0.2
            },
            "type": "scatter"
           }
          ],
          "scatter3d": [
           {
            "line": {
             "colorbar": {
              "outlinewidth": 0,
              "ticks": ""
             }
            },
            "marker": {
             "colorbar": {
              "outlinewidth": 0,
              "ticks": ""
             }
            },
            "type": "scatter3d"
           }
          ],
          "scattercarpet": [
           {
            "marker": {
             "colorbar": {
              "outlinewidth": 0,
              "ticks": ""
             }
            },
            "type": "scattercarpet"
           }
          ],
          "scattergeo": [
           {
            "marker": {
             "colorbar": {
              "outlinewidth": 0,
              "ticks": ""
             }
            },
            "type": "scattergeo"
           }
          ],
          "scattergl": [
           {
            "marker": {
             "colorbar": {
              "outlinewidth": 0,
              "ticks": ""
             }
            },
            "type": "scattergl"
           }
          ],
          "scattermapbox": [
           {
            "marker": {
             "colorbar": {
              "outlinewidth": 0,
              "ticks": ""
             }
            },
            "type": "scattermapbox"
           }
          ],
          "scatterpolar": [
           {
            "marker": {
             "colorbar": {
              "outlinewidth": 0,
              "ticks": ""
             }
            },
            "type": "scatterpolar"
           }
          ],
          "scatterpolargl": [
           {
            "marker": {
             "colorbar": {
              "outlinewidth": 0,
              "ticks": ""
             }
            },
            "type": "scatterpolargl"
           }
          ],
          "scatterternary": [
           {
            "marker": {
             "colorbar": {
              "outlinewidth": 0,
              "ticks": ""
             }
            },
            "type": "scatterternary"
           }
          ],
          "surface": [
           {
            "colorbar": {
             "outlinewidth": 0,
             "ticks": ""
            },
            "colorscale": [
             [
              0,
              "#0d0887"
             ],
             [
              0.1111111111111111,
              "#46039f"
             ],
             [
              0.2222222222222222,
              "#7201a8"
             ],
             [
              0.3333333333333333,
              "#9c179e"
             ],
             [
              0.4444444444444444,
              "#bd3786"
             ],
             [
              0.5555555555555556,
              "#d8576b"
             ],
             [
              0.6666666666666666,
              "#ed7953"
             ],
             [
              0.7777777777777778,
              "#fb9f3a"
             ],
             [
              0.8888888888888888,
              "#fdca26"
             ],
             [
              1,
              "#f0f921"
             ]
            ],
            "type": "surface"
           }
          ],
          "table": [
           {
            "cells": {
             "fill": {
              "color": "#EBF0F8"
             },
             "line": {
              "color": "white"
             }
            },
            "header": {
             "fill": {
              "color": "#C8D4E3"
             },
             "line": {
              "color": "white"
             }
            },
            "type": "table"
           }
          ]
         },
         "layout": {
          "annotationdefaults": {
           "arrowcolor": "#2a3f5f",
           "arrowhead": 0,
           "arrowwidth": 1
          },
          "autotypenumbers": "strict",
          "coloraxis": {
           "colorbar": {
            "outlinewidth": 0,
            "ticks": ""
           }
          },
          "colorscale": {
           "diverging": [
            [
             0,
             "#8e0152"
            ],
            [
             0.1,
             "#c51b7d"
            ],
            [
             0.2,
             "#de77ae"
            ],
            [
             0.3,
             "#f1b6da"
            ],
            [
             0.4,
             "#fde0ef"
            ],
            [
             0.5,
             "#f7f7f7"
            ],
            [
             0.6,
             "#e6f5d0"
            ],
            [
             0.7,
             "#b8e186"
            ],
            [
             0.8,
             "#7fbc41"
            ],
            [
             0.9,
             "#4d9221"
            ],
            [
             1,
             "#276419"
            ]
           ],
           "sequential": [
            [
             0,
             "#0d0887"
            ],
            [
             0.1111111111111111,
             "#46039f"
            ],
            [
             0.2222222222222222,
             "#7201a8"
            ],
            [
             0.3333333333333333,
             "#9c179e"
            ],
            [
             0.4444444444444444,
             "#bd3786"
            ],
            [
             0.5555555555555556,
             "#d8576b"
            ],
            [
             0.6666666666666666,
             "#ed7953"
            ],
            [
             0.7777777777777778,
             "#fb9f3a"
            ],
            [
             0.8888888888888888,
             "#fdca26"
            ],
            [
             1,
             "#f0f921"
            ]
           ],
           "sequentialminus": [
            [
             0,
             "#0d0887"
            ],
            [
             0.1111111111111111,
             "#46039f"
            ],
            [
             0.2222222222222222,
             "#7201a8"
            ],
            [
             0.3333333333333333,
             "#9c179e"
            ],
            [
             0.4444444444444444,
             "#bd3786"
            ],
            [
             0.5555555555555556,
             "#d8576b"
            ],
            [
             0.6666666666666666,
             "#ed7953"
            ],
            [
             0.7777777777777778,
             "#fb9f3a"
            ],
            [
             0.8888888888888888,
             "#fdca26"
            ],
            [
             1,
             "#f0f921"
            ]
           ]
          },
          "colorway": [
           "#636efa",
           "#EF553B",
           "#00cc96",
           "#ab63fa",
           "#FFA15A",
           "#19d3f3",
           "#FF6692",
           "#B6E880",
           "#FF97FF",
           "#FECB52"
          ],
          "font": {
           "color": "#2a3f5f"
          },
          "geo": {
           "bgcolor": "white",
           "lakecolor": "white",
           "landcolor": "#E5ECF6",
           "showlakes": true,
           "showland": true,
           "subunitcolor": "white"
          },
          "hoverlabel": {
           "align": "left"
          },
          "hovermode": "closest",
          "mapbox": {
           "style": "light"
          },
          "paper_bgcolor": "white",
          "plot_bgcolor": "#E5ECF6",
          "polar": {
           "angularaxis": {
            "gridcolor": "white",
            "linecolor": "white",
            "ticks": ""
           },
           "bgcolor": "#E5ECF6",
           "radialaxis": {
            "gridcolor": "white",
            "linecolor": "white",
            "ticks": ""
           }
          },
          "scene": {
           "xaxis": {
            "backgroundcolor": "#E5ECF6",
            "gridcolor": "white",
            "gridwidth": 2,
            "linecolor": "white",
            "showbackground": true,
            "ticks": "",
            "zerolinecolor": "white"
           },
           "yaxis": {
            "backgroundcolor": "#E5ECF6",
            "gridcolor": "white",
            "gridwidth": 2,
            "linecolor": "white",
            "showbackground": true,
            "ticks": "",
            "zerolinecolor": "white"
           },
           "zaxis": {
            "backgroundcolor": "#E5ECF6",
            "gridcolor": "white",
            "gridwidth": 2,
            "linecolor": "white",
            "showbackground": true,
            "ticks": "",
            "zerolinecolor": "white"
           }
          },
          "shapedefaults": {
           "line": {
            "color": "#2a3f5f"
           }
          },
          "ternary": {
           "aaxis": {
            "gridcolor": "white",
            "linecolor": "white",
            "ticks": ""
           },
           "baxis": {
            "gridcolor": "white",
            "linecolor": "white",
            "ticks": ""
           },
           "bgcolor": "#E5ECF6",
           "caxis": {
            "gridcolor": "white",
            "linecolor": "white",
            "ticks": ""
           }
          },
          "title": {
           "x": 0.05
          },
          "xaxis": {
           "automargin": true,
           "gridcolor": "white",
           "linecolor": "white",
           "ticks": "",
           "title": {
            "standoff": 15
           },
           "zerolinecolor": "white",
           "zerolinewidth": 2
          },
          "yaxis": {
           "automargin": true,
           "gridcolor": "white",
           "linecolor": "white",
           "ticks": "",
           "title": {
            "standoff": 15
           },
           "zerolinecolor": "white",
           "zerolinewidth": 2
          }
         }
        },
        "title": {
         "text": "Total Cost of Disasters Compared to Insurance Payments"
        },
        "xaxis": {
         "anchor": "y",
         "autorange": true,
         "domain": [
          0,
          1
         ],
         "range": [
          -19202773.794408448,
          331064830.31474274
         ],
         "title": {
          "text": "NORMALIZED TOTAL COST"
         },
         "type": "linear"
        },
        "yaxis": {
         "anchor": "x",
         "autorange": true,
         "domain": [
          0,
          1
         ],
         "range": [
          -238206726.90889505,
          3932578613.996768
         ],
         "title": {
          "text": "INSURANCE PAYMENTS"
         },
         "type": "linear"
        }
       }
      },
      "image/png": "[encoded data removed]",
      "text/html": [
       "<div>                            <div id=\"ebffb7c5-ac82-42a0-83dd-65fd3081b674\" class=\"plotly-graph-div\" style=\"height:600px; width:100%;\"></div>            <script type=\"text/javascript\">                require([\"plotly\"], function(Plotly) {                    window.PLOTLYENV=window.PLOTLYENV || {};                                    if (document.getElementById(\"ebffb7c5-ac82-42a0-83dd-65fd3081b674\")) {                    Plotly.newPlot(                        \"ebffb7c5-ac82-42a0-83dd-65fd3081b674\",                        [{\"customdata\":[[\"Christmas Island NS, December 25, 2016. Residents of Christmas Island were left without power on Christmas morning due to a strong windstorm that blew in early in the morning. There were 21 reported power outages in the region affecting 3,346 customers in total (approximately 10,038 individuals). Power outages were reported as early as 5 am, with more power outages occurring periodically throughout the day. Areas affected by the power outages included Beaver Cove, Barrachois, French Vale, Bramber, Digby, Port Hawkesbury, Lower Sackville, East River and Mill Cove. Wind warnings were in effect for Sydney Metro and Cape Bretton county. The strong winds brought rain resulting in some localized flooding. Debris from the wind accompanied by the rain created poor driving conditions throughout the province. Nearly all power was restored later in the evening.\",\"Christmas Island NS\"],[\"South Coast and Lower Mainland British Columbia, October 12-16, 2016. The remnants of Super Typhoon Songda hit British Columbia?s southern coast with a trio of fall storms. The first storm occurred on October 12 and pounded the coast with heavy rain before moving across the Lower Mainland early the next day. The storm brought 80 to 100 mm of rain to Howe Sound and Metro Vancouver. In North Vancouver, the heavy rain poured hard enough to down a tree, which damaged one residents home and a vehicle. The second and third storms arrived on October 14 and 15, which brought more strong wind and heavy rain to the region. A wind warning was issued for Greater Victoria, where there were wind gusts of up to 90 km/h. Powerful winds downed trees and power lines knocking out power to 75,000 B.C. Hydro customers (approximately 225,000 individuals) across Vancouver Island and the Lower Mainland. A fallen tree struck and killed a 15 year old by near Clayton Heights. In total, during the course of the three storms, there were 250 downed trees in Vancouver and 202 mm of rain had accumulated in North Vancouver.\",\"South Coast and Lower Mainland British Columbia\"],[\"South Coast and Lower Mainland British Columbia, October 6-8, 2016. Strong winds gusting up to 117 km/h battered eastern Vancouver Island, the Sunshine Coast and the Lower Mainland. On October 6, Vancouver reported wind gusts of 56 km/h, Victoria 36 km/h, and Sisters Island as well as Trail Island both recorded wind gusts of 117 km/h. Severe winds downed trees and power lines, which knocked out power to 100,000 B.C. Hydro customers (approximately 300,000 individuals). In eastern Victoria Island 29,000 people lost power over night. The most severely impacted area was Courtenay where 12,000 people were without power. At the peak of the storm, 45,000 people lost power throughout the province. By October 8, 13,000 people were still without power and strong winds continued to affect parts of the province.\",\"South Coast and Lower Mainland British Columbia\"],[\"South Coast and Lower Mainland British Columbia, March 9-10, 2016. A storm system off the coast of British Columbia generated a windstorm that impacted Vancouver Island, the southwest coast and the lower mainland. The storm produced up to 100 mm of rain and wind gusts of over 100 km/h in some parts. Heavy rainfall caused localized flooding in Comox Valley, Port Mellon and Port Alberni as well as caused a mudslide in Cowichan Valley. Strong winds and high tide contributed towards a storm surge that accompanied the storm, causing coastal flooding in Delta, Richmond and White Rock. The strong winds were attributed for causing the most significant damages including fallen trees that downed power lines, resulting in 160,000 BC Hydro customer (approximately 480,000 individuals) being without power. Due to the power outages, 11 schools in Surrey, five in Abbotsford and five in Mission were closed. The powerful winds also damaged roofs, broke windows and even flipped over a Cessna aircraft. In addition, one individual in Port Moody was killed when a tree crashed through the roof of her home while she was inside.\",\"South Coast and Lower Mainland British Columbia\"],[\"Lower Mainland British Columbia, August 29, 2015. One of the worst windstorms to affect the province in decades hit British Columbia?s Lower Mainland. The most affected areas included Surrey, Richmond, Abbotsford and the Western Fraser Valley. On Saturna Island, wind gusts were report to reached 117 km/h. The powerful winds subsequently fell hundreds of trees, which damaged homes, vehicles and power lines. In total, approximately 500,000 customers (1,500,000 individuals) lost power due to damaged power lines. Some areas lost power temporarily, while others were without power for over three days. Fallen trees caused damages to residential and commercial property. Debris and traffic light outages created severe traffic congestion. There were numerous reports of an undetermined number of people being injured due to fallen trees and debris. One individual was critically injured and taken to the hospital after a tree fell on her while she was outside with her daughter. Additionally, a Vancouver Sky Train was damaged by a fallen tree resulting in service delays. The strong winds that fell hundreds of trees also caused the closure of Stanley Park, Pacific National Exhibition (PNE) and ferry crossings.\",\"Lower Mainland British Columbia\"],[\"Calgary AB, July 12, 2010. A massive 30-minute long hailstorm pelted the city of Calgary on July 12. The hail ranged from 4 cm in diameter to baseball-sized hail balls. Apart from the hail, the storm brought along with it heavy rain, strong wind gusts, thunder and lightning. The storm caused severe damages throughout the city as hail broke windows, dented cars and destroyed crops. The hailstorm decimated over 90,000 hectares of cropland near Strathmore and Hussar. Crop damage claims were estimated at $18.5 million. In total, the estimated dollar value of damage claims was over $400 million, making it the costliest hailstorm in Canada to date.\",\"Calgary AB\"],[\"Montreal, Alma, La Tuque and Baie-Saint-Paul QC, May 14, 2009. Winds gusting up to 100 km/h wreaked havoc across Quebec on May 14. An 18-wheeler was one of six tractor-trailers pushed over on its side near Beloeil. Strong winds cut electricity to 70,000 people by downing hydro lines.  Winds also inflicted significant property damage: in Ste-Julie, winds uprooted hundreds of trees and tossed a gazebo and trampoline into the air where there were left dangling from power lines; in Alma, fallen trees crossed power lines, igniting a brush fire; in the La Tuque region, winds blew shingles off a hotel roof and dropped a street light on a home; and in Baie-Saint-Paul, winds snapped hydro poles in half and tore away roofs.\",\"Montreal, Alma, La Tuque and Baie-Saint-Paul QC\"],[\"South-Central Manitoba, May 16-17, 2008. Over the weekend, Manitoba experienced a wind storm producing damaging winds that caused extensive impacts to the public sector drainage system across a wide area of central Manitoba. Affected areas include the rural municipalities of Cartier, Grey, Macdonald, Dufferin, Morris and Montcalm.\",\"South-Central Manitoba\"],[\"Greater Vancouver Area BC, November 23-25, 1998. A powerful windstorm, accompanied with rain hit the Greater Vancouver Area the night of November 23, toppling over trees and blowing shingles off rooftops. Winds of 96-105 km/h were reported, and up to 22.4 mm of rain fell, making this the worst storm in 10 years.  A second windstorm hit the area the following day (within 18 hours), with winds up to 90 km/h over the Strait of Georgia and 60 km/h on land. Ferries cancelled several runs November 29. 200,000 homes lost power and 5,000 homes went without telephone lines; however, the majority of this was restored quickly by the power companies. Several roads and schools were closed. Power was not restored to everyone until November 27.\",\"Greater Vancouver Area, Southern BC\"],[\"South Dumfries ON, 1996.\",\"South Dumfries ON\"],[\"Ontario and Quebec, November 12-13, 1992.\",\"Ontario and Quebec\"],[\"Central Ontario, November 30, 1991.\",\"Central Ontario\"],[\"Vernon BC, October 16, 1991.\",\"Vernon BC\"],[\"Chesley, Bruce County ON, April 30, 1984.\",\"Chesley ON\"],[\"Edmonton AB, August 3, 1983.  Hail the size of golf balls smashed windshields, stripped leaves and damaged roofs.\",\"Edmonton AB\"],[\"Newfoundland, May-July 1974. Severe ice conditions in Newfoundland resulted in losses in income and gear to fishermen.\",\"Newfoundland\"]],\"hovertemplate\":\"EVENT TYPE=Storm - Unspecified / Other<br>NORMALIZED TOTAL COST=%{marker.size}<br>INSURANCE PAYMENTS=%{y}<br>COMMENTS=%{customdata[0]}<br>PLACE=%{customdata[1]}<extra></extra>\",\"legendgroup\":\"Storm - Unspecified / Other\",\"marker\":{\"color\":\"#636efa\",\"size\":[0.0,0.0,0.0,0.0,1647772.5,20600858.4,0.0,16537.9,921732.0,6740.4,5428571.4,433500.7,318604.1,3867920.8,2278141.1,1179790.5],\"sizemode\":\"area\",\"sizeref\":761618.9102500001,\"symbol\":\"circle\"},\"mode\":\"markers\",\"name\":\"Storm - Unspecified / Other\",\"orientation\":\"v\",\"showlegend\":true,\"x\":[0.0,0.0,0.0,0.0,1647772.5,20600858.4,0.0,16537.9,921732.0,6740.4,5428571.4,433500.7,318604.1,3867920.8,2278141.1,1179790.5],\"xaxis\":\"x\",\"y\":[null,null,null,null,34768000.0,400000000.0,null,null,14025688.0,null,76000000.0,5982309.0,4396737.0,39066000.0,22060000.0,null],\"yaxis\":\"y\",\"type\":\"scatter\"},{\"customdata\":[[\"Nova Scotia and Prince Edward Island, November 27-29, 2016. An early winter storm hit the Maritime provinces affecting Nova Scotia and Prince Edward Island on November 27. The storm dumped 15 cm of snow on the mainland of Nova Scotia and produced strong winds in Cape Breton. A mix of messy weather consisting of freezing rain, ice and snow created dangerous driving conditions. In Nova Scotia, the Canso Causeway was closed to high-sided vehicles and Highway 104 was closed in certain sections due to poor visibility. One transport truck over turned on the Seal Island Bridge in Cape Breton due to strong wind gusts of up to 110 km/h. In Nova Scotia 11,200 customers (approximately 33,600 individuals) lost power, while in P.E.I 12,000 customers (approximately 36,000 individuals) were without power. In P.E.I power remained out for some residents until November 29.\",\"Nova Scotia and Prince Edward Island\"],[\"Southern Ontario, March 23-26, 2016. A warm front over southern Ontario caused snow, rain and freezing rain to fall over a three-day period. The wet weather began as snow for many regions in the Greater Toronto Area (GTA), and then briefly turned into rain before freezing rain occurred overnight. On March 24, freezing rain impacted regions west of Toronto and the GTA. Highly elevated areas including the Niagara escarpment, Dundalk Highlands and parts of the GTA received 24 hours of freezing rain. Freezing rain occurred throughout southern Ontario until March 26, leaving several communities with significant ice accumulation including 35 mm in Fergus, 33 mm in Orangeville, 20 mm Brampton and Newmarket as well as 10 mm north of Barrie and Toronto. The freezing rain caused damages to personal property and municipal infrastructure due to the significant ice buildup. Downed trees destroyed power lines and caused damages to homes, outbuildings and vehicles. Approximately 100,000 hydro customers (300,000 individuals) were without power during the storm. Additionally, the storm caused the cancelation of in-going and out-going flights at the Toronto Pearson International Airport and Billy Bishop Toronto City Airport as well as resulted in the closure and cancelation of schools and municipal busses.\",\"Southern Ontario\"],[\"Ontario, Quebec, New Brunswick, Nove Scotia, Prince Edward Island and Newfoundland, February 24-26, 2016. A storm system tracked its way northeast into the Great Lakes from the United States in late February. The system moved towards eastern Canada, causing widespread damages to Ontario, Quebec, New Brunswick, Nova Scotia, Prince Edward Island and Newfoundland. On February 24, freezing rain caused up to 25 mm of ice accumulation to build in parts of Ontario, Quebec and New Brunswick. On February 25, Quebec and New Brunswick experienced several hours of continued freezing rain. Heavy rain and thunderstorms trailed behind the freezing rain resulting in total rainfalls of 51 mm in Hamilton, Ontario, 36 mm in Lennoxville, Quebec and 68 mm in Gray River, Newfoundland. A combination of rain and mild weather that melted ice and snow resulted in localized flooding for numerous communities. Flooded basements were reported in Cornwall, Ontario, multiple underpasses were closed due to flooding in Montreal, Quebec, while local fire departments in northern New Brunswick warned drivers of poor road conditions due to ice ruts and isolated flooding. Multiple local states of emergency were declared in the Eastern Townships of Quebec where ice breakup resulted in the flooding of local rivers. Approximately 200 residents were evacuated and over 50 homes in Beauceville, Quebec were damaged by floodwaters. Fallen trees weighed down by the heavy ice and snow damaged power lines resulting in widespread power outages. Quebec was hit the hardest with over 250,000 hydro customers (approximately 750,000 individuals) affected by the power outages.\",\"Ontario, Quebec, New Brunswick, Nove Scotia, Prince Edward Island and Newfoundland\"],[\"Maritime Provinces, February 15-17, 2015. A major storm system formed off the United States east coast and moved towards the north Atlantic. On February 15, the storm system hit Nova Scotia bringing with it snow, ice and rain. In Halifax the weather changed from snow to rain, creating flooding in the streets, which turned into an overnight flash freeze. Greenwood, Nova Scotia received 56 cm of snow, while in Cape Breton Island wind gusts were recorded of up to 176 km/h. The next day in New Brunswick, heavy snow impacted Moncton where it snowed up to 58 cm. The hardest hit area was Prince Edward Island where it snowed over 80 cm in Charlottetown. During the storm, damages were caused by strong winds that downed trees and power lines leaving approximately 4000 customers (12,000 individuals) without power in New Brunswick. Flooding brought on by the rain also caused damages to city streets and created dangerous driving conditions as black ice formed when the temperature dropped. The huge amount of snow that fell on the region buried vehicles, left people stranded in their homes and resulted in the closure of numerous schools and businesses. In New Annan, Prince Edward Island 20 people were left homeless in blizzard conditions as fires irrupted in a motel where 18 people had to be evacuated as well as a home near Winsloe where two people had to be evacuated. In addition, an apartment fire in Fredericton resulted in the evacuation of one individual.\",\"Maritime Provinces\"],[\"Qu?bec, December 21-26, 2013. A severe winter storm that formed over the Great Lakes region in Ontario tracked into Qu?bec bringing a mix of freezing rain, ice pellets and snow. The Eastern Townships region of the province was particularly impacted and at its peak, an estimated 51,000 Hydro Qu?bec customers were without power (153,000 individuals). The storm is attributed with the deaths of six people due to a mix of carbon monoxide poisoning and traffic accidents throughout the province. Power was fully restored to all customers by December 26, 2013.\",\"Qu?bec\"],[\"Ontario, Quebec and New Brunswick, December 20, 2013 to January 03, 2014. A severe winter storm system that formed over the Great Lakes Region caused significant damage in Ontario and Quebec before moving east bringing freezing rain, ice pellets, and snow to New Brunswick. Starting December 20, southern Ontario received 20-30 mm of freezing rain during a two-day period. In Quebec, 53,000 people lost power due to the freezing rain, which damaged power lines. By December 23, over 54,000 NB Power customers were without power. A second storm tracked north along the Atlantic coast, bringing up to 30 cm of snow, causing more power outages and delays, which complicated recovery efforts. In total, over 88,000 NB Power customers (approximately 264,000 individuals) lost power over an 11-day period, with the last restorations occurring on January 3, 2014. In total, 11 individuals died during the ice storm from either vehicle accidents or carbon monoxide poisoning from the use of gas generators.\",\"Ontario, Quebec and New Brunswick\"],[\"Lambton County ON, December 12-14, 2010. A severe winter storm caused severe road closures including London Line and Highway 402 in Lambton County. A county emergency was declared on December 13. The next day on December 14, a snow streamer accompanied by heavy winds swept through the region creating a hazard for drivers on the road. In total, there were approximately over 625 people stranded on area roads who had to be rescued and taken to warming centres. The majority of stranded drivers were trapped in their vehicles for up to six hours meaning that many people were forced to spend the night in their vehicles. The Canadian Armed Forces used two Griffin helicopters to assist the Ontario Provincial Police in rescuing 237 motorists stranded in their vehicles along Highway 402. One officer received a minor injury while trying to reach stranded motorists and one man was found dead from exposure to the elements.\",\"Lambton County ON\"],[\"Prince Edward Island, December 13, 2008. An ice storm on December 13, downed 300 utility poles resulting in one of the worst power outages since the mid-1970 and cost Maritime Electric approximately $1.5 million to repair. Nearly 95 per cent of Islanders were without electricity, as freezing rain and an ice pellet-drizzle mix left thick layers of ice on roof tops, trees and transmission lines. Power poles were pulled down by ice-laden lines and strong winds. Across the province, makeshift shelters were organized in legion halls, fire stations, schools and community centres. Rescue teams and hydro crews arrived from outside the province to assist. The Canadian military also remained on standby at the Canadian Forces Base in Gagetown, NB.\",\"Prince Edward Island\"],[\"New Brunswick, March 21, 2008. Freezing rain and ice downed trees and power lines in New Brunswick leaving some 6000 residents without electricity.\",\"New Brunswick\"],[\"Prince Edward Island, January 28, 2008. An ice storm that brought snow, freezing rain and heavy rain knocked out power to over 20,000 customers (approximately 60,000 individuals) in Prince Edward Island. Snow followed by heavy rain created layers of ice that downed trees and power lines. Mostly central and western parts of the provinces were affected, with Prince County being hit the hardest by the power outages. The power outages lasted over a week and the province received help from New Brunswick Hydro workers. Heavy rain also caused flooding in parts of Cape Breton.\",\"Prince Edward Island\"],[\"Quebec, January 9, 2008. A vigorous cold front brought very strong winds that caused power outages in several regions of Quebec. A total of 83,000 Hydro-Quebec customers (249,000 Individuals) across the province were left without electricity.\",\"Quebec\"],[\"Maritime provinces, December 4, 2007. A powerful storm that dumped up to 40 cm of wet, heavy snow on parts of Atlantic Canada knocked out power in all four provinces leaving approximately 50,000 people without electricity.\",\"Martime Provinces\"],[\"Russell ON, December 1-2, 2006.  A major blackout, caused by a freezing rain storm, left virtually the entire town without electricity. The mayor declared a state of emergency, which lasted for several days.\",\"Russell ON\"],[\"Newfoundland, March 30-31, 2005. Heavy snow affected most of Newfoundland (excluding Labrador) while the Avalon and Burin peninsulas experienced rain. Gander saw 62 cm of snow and Grand Falls-Windsor was hit by 60 cm in one day. The Burin community of Salt Pond was plagued by over 150 mm of rain, St.Lawrence by over 80 mm, and St.John's saw 60 mm of rain. Bonavista Bay and Hare Bay were also affected.\",\"Newfoundland\"],[\"Nova Scotia, February 18-20, 2004. A snowstorm known as \\\"White Juan\\\" hit the Maritimes resulting in record-breaking snowfall. On February 19, Halifax surpassed and almost doubled its previous snowfall record when the city received 88.5 cm. A four-day state of emergency was in place as well as a nine-hour curfew for three nights (except for essential workers). Thousands were left without power.\",\"Nova Scotia\"],[\"Prince Edward Island, March 31, 2003.  Both freezing rain and heavy snowfall destroyed power lines in the province. Power losses were experienced in western PEI. The province also experienced flooding as a result of heavy rainfall that contributed to the spring runoff. See Nova Scotia and Newfoundland entries for more information on this event.\",\"Prince Edward Island\"],[\"Quebec, February 10, 2001. Freezing rain, heavy snow and wind caused road accidents and homelessness. Six died in weather-related motor vehicle accidents.\",\"Quebec\"],[\"Maritime Provinces, January 17-22, 2000.  An intense storm hit the maritimes for 6 days. Up to 70 centimetres of snow fell in some areas and temperatures plummeted to ?40 degrees Centigrade with the wind chill.  Flooding caused extensive damage to private property and public infrastructure in Newfoundland, New Brunswick, and P.E.I. Wind gusts hit 120 kilometres per hour.  Cape Breton, Shediac, New Brunswick and P.E.I were hit especially hard by the storm, as well as areas along the Gulf of St. Laurence and the Northumberland Strait in New Brunswick.\",\"Maritime Provinces\"],[\"Toronto ON, January 13-15, 1999. Less than 2 weeks after Toronto was dumped with 40 cm of snow (see 1999.002), another major storm dumped 78 cm of snow on the city, bringing the total to 118 cm. The storm shut down parts of the city's transit system and left thousands stranded.  An estimated 1.4 million commuters were unable to use public transit. Pearson airport cancelled 70 flights and delayed others, schools were also closed.  Mayor Mel Lastman declared a second snow emergency and called in the military to help with snow cleanup, and city protection. More than 430 soldiers set up residence in Toronto.  Brawling between commuters ensued January 13, when the subway shut down.  Snowblowers from all over Ontario, and even PEI were called in to help.  At least 2 deaths occurred in Southern Ontario. Other areas that were affected were Chatham-Kent region, which also called in for military assistance.  The storm affected virtually all 7.1 million residents of Southern Ontario and continued east on January 15 to wreak havoc on the Maritimes.\",\"Toronto ON\"],[\"Southern Ontario, January 3, 1999. Eleven people died January 3 while shovelling heavy wet snow from one of the fiercest storms to hit southern and central Ontario in years. Cities were buried under 40 cm of snow. The storm - which also packed powerful wind gusts up to 70 km/h, ice pellets and freezing rain - moved in a line from Windsor northeast to Ottawa and Quebec.  Many airports, including Pearson International in Toronto were closed.\",\"Southern Ontario\"],[\"Ontario, Quebec and New Brunswick, January 4-10, 1998. Freezing rain (50 to >100mm) fell in a corridor extending from Kingston-to Ottawa-to Montreal to the Monteregie area south and east of Montreal, and on into New Brunswick, caused massive power outages. At the height of the disaster: More than 200 Quebec communities declared a disaster; 1,291,500 residences (affecting 3,228,750 people) were without power; 57 Ontario communities declared a disaster; 250,000 customers (1,500,000 people) were without power in Eastern Ontario.\",\"Ontario, Quebec and New Brunswick\"],[\"Eastern Canada off Cape Sable Island NS, March 15, 1993. March blizzards caused by a mid-latitude cyclone which moved up the North American eastern seaboard eventually claimed more than 240 lives; at one point over 3 million people were left without electricity. On the 15th, the storm caused the sinking of the 177 metre Liberian-registered freighter, \\\"Gold Bond Conveyor\\\". Loaded with gypsum, it sank about 200 km off Cape Sable Island in waves up to 20 m and winds gusting up to 120 km/h, after setting sail from Halifax, Nova Scotia, despite warnings of hurricane-force winds.  Most crew members were from Hong Kong; there were no survivors of the 33 aboard.\",\"Eastern Canada\"],[\"Maritime Provinces, February 1-4, 1992.  A 110-hour-long blizzard with gusts up to 140 km/h brought record snowfall of 163 cm to Moncton, New Brunswick; several other cities recorded more than 100 cm of snow; traffic was brought to a standstill; many stranded motorists had to be rescued, and many schools and businesses throughout the Maritimes were closed in the aftermath.\",\"Maritime Provinces\"],[\"Southern Alberta, May 14-15, 1986. A 2-day storm, described as the worst spring storm in living memory in Alberta, brought knee-deep snow and 80 km/h winds; dozens of communities were left without services.\",\"Southern Alberta\"],[\"South, Central, and Western MB, April 27-28, 1984. Snow, freezing rain and strong wind gusts caused damage to roads, hydro poles and drainage facilities. Municipalities affected were: Grey, Dufferin, Pembina, Portage la Prairie, Stanley and Thompson. Towns affected were: Carman, Morden, Neepawa and Winkler.\",\"South, Central and Western Manitoba\"],[\"St. John's NL, April 13-15, 1984. 200,000 people of the Avalon Peninsula were left without heating and lighting for days after overhead electrical wires snapped from the weight of the formation of 15 cm of ice. Power on Bell Island was disrupted for a week. Many small businesses, broadcasting and utility companies felt the effects of the sleet storm; fishing boats sunk.  Homeowners also experienced flooded basements and loss of food stuffs. Areas which received major damage: Fogo Island,  Bell Island, Carbonear Upper Island Cove, Kenmount Hill, St. John's, Bay Roberts, Mt. Pearl, Torbay, Harbour Main, Western Avalon, Sunnyside and Oxen Pond.\",\"St. John's NL\"],[\"Prairie Provinces, March 6, 1983. Especially southern Manitoba; the storm forced Winnipeg International Airport to close for two days and toppled several large television towers.  The freezing rain also caused other extensive damage.\",\"Prairie Provinces\"],[\"Prince Edward Island, February 22-26, 1982. Islanders were marooned for five days in a crippling blizzard; winds of 80 km/h whipped a 60 cm snowfall into 7 m drifts.  Succession of severe storms isolates many communities for days.\",\"Prince Edward Island\"],[\"Southern Alberta, April 17-20 and April 27-29, 1967. A series of intense snowstorms dropped a record 175 cm of snow on southern Alberta. The deep snow blocked roads, closed schools and cut off power.  Army units were dispatched to assist in the snow clearing, while food, fuel and cattle feed were airlifted into the province.  Thousands of cattle, unable to forage for food in the deep snow, perished on the open range.\",\"Southern Alberta\"],[\"Maritime Provinces, December 1-2, 1964. A severe snowstorm hit the Maritimes, with gales reaching gust speeds of 160 km/h.  Three fishing boats, including two large draggers, were lost in the storm, accounting for 23 deaths and 8 reported injuries.\",\"Maritime Provinces\"],[\"Prairie Provinces, January 30 - February 8, 1947. A blizzard raged for 10 days from Winnipeg to Calgary; the railway called it the worst storm in Canadian rail history; one train was buried in a snow drift 1 km long and 8 m deep.\",\"Prairie Provinces\"],[\"Prairie Provinces, March 14, 1941. A severe blizzard producing a storm called an \\\"Alberta Low\\\" lasted 7 hours and produced winds exceeding 100 km/h; the storm caused 76 deaths in the southern parts of the Prairie provinces and the northern U.S.\",\"Prairie Provinces\"]],\"hovertemplate\":\"EVENT TYPE=Winter Storm<br>NORMALIZED TOTAL COST=%{marker.size}<br>INSURANCE PAYMENTS=%{y}<br>COMMENTS=%{customdata[0]}<br>PLACE=%{customdata[1]}<extra></extra>\",\"legendgroup\":\"Winter Storm\",\"marker\":{\"color\":\"#EF553B\",\"size\":[0.0,1279392.5,0.0,0.0,0.0,10471074.9,0.0,0.0,0.0,0.0,0.0,0.0,0.0,21773.2,211328.9,109092.3,8827914.1,416444.2,7879440.3,10880667.4,304647564.1,1392476.6,0.0,0.0,265986.6,324021.7,0.0,173229.9,0.0,0.0,0.0,0.0],\"sizemode\":\"area\",\"sizeref\":761618.9102500001,\"symbol\":\"circle\"},\"mode\":\"markers\",\"name\":\"Winter Storm\",\"orientation\":\"v\",\"showlegend\":true,\"x\":[0.0,1279392.5,0.0,0.0,0.0,10471074.9,0.0,0.0,0.0,0.0,0.0,0.0,0.0,21773.2,211328.9,109092.3,8827914.1,416444.2,7879440.3,10880667.4,304647564.1,1392476.6,0.0,0.0,265986.6,324021.7,0.0,173229.9,0.0,0.0,0.0,0.0],\"xaxis\":\"x\",\"y\":[null,27379000.0,null,null,null,214308000.0,null,null,null,null,null,null,null,null,null,null,143895000.0,null,50000000.0,168469000.0,1712248000.0,19866000.0,null,null,null,null,null,null,null,null,null,null],\"yaxis\":\"y\",\"type\":\"scatter\"},{\"customdata\":[[\"Red Earth First Nation SK, July 14-18, 2016. Heavy rain resulted in the flooding of the Carrot River in northern Saskatchewan. The community of Red Earth Cree Nation, located 75 kilometres east of Nipawin, declared a state of emergency and was forced to evacuate 576 residents. The majority of evacuees stayed in Saskatoon at the Henk Ruy?s Soccer Centre, while others stayed in hotels or with family. The communities of Carrot River and the rural municipalities of Moose Range and Arborfield also declared states of emergency but were less impacted by the flood.\",\"Red Earth First Nation SK\"],[\"Nova Scotia, Prince Edward Island and Newfoundland, October 9-13, 2016. Atlantic Canada was hit with heavy rain as a result of the remnants of Hurricane Matthew. Wind and heavy rainfall warnings were in affect from October 10 to 11 for northeastern Nova Scotia and Newfoundland. On October 10, 150 mm of rain fell on Newfoundland. The town of Burgeo alone received 120 mm of rain, which caused the closure of Highway 480. St-Alban?s declared a state of emergency due to various road closures including the Swanger?s Cove Bridge on route 361, which was reported to have been damaged and was deemed unusable by the Newfoundland Public Safety Regional Office. Road closures in St-Alban?s resulted in the isolation of numerous homes. In Nova Scotia, over 220 mm of rain was reported across the province. The J.A. Douglas McCurdy Sydney Airport was forced to close all runways. Cape Breton was hard hit by the heavy rain, which resulted in property damage to approximately 300 homes. Most severely impacted was Eskasoni First Nation where 100 homes were flooded and an undetermined number of people evacuated due to high water levels. On October 11, there were 16 states of emergency in Newfoundland where Bager and Gander received 131 mm and 124 mm of rain. While there no states of emergency declared in Nova Scotia, NS Power reported that approximately 130,000 customers (390,000 individuals) had experienced power outages. Prince Edward Island received 73 mm of rain, which left approximately 600 residents without power. Ferries in Nova Scotia and Newfoundland were closed due to eight-metre high waves caused by the storm. The Canadian Armed Forces assisted with sandbagging efforts as water levels continued to rise until October 12. It was not until October 13 when water levels began to drop in certain areas, however in Newfoundland water levels remained at a record high. Power was restored to all customers in Nova Scotia and Prince Edward Island by October 13.\",\"Nova Scotia, Prince Edward Island and Newfoundland\"],[\"Windsor and Tecumsech ON, September 29, 2016. States of emergency were declared in Windsor and Tecumsech after the region was hit with intense storms that produced significant flooding. The Windsor Airport recorded 78 mm of rain within a 24-hour period, while another gauge in the city?s east end measured 106 mm and the town of Tecumsech received up to 190 mm. In both municipalities, the heavy rain resulted in hundreds of flooded basements. Cars were abandoned in flooded streets and many roads were closed.\",\"Windsor and Tecumseh ON\"],[\"Fort McMurray AB, July 30-31 2016. Only weeks after the devastating wildfire that swept through the Regional Municipality of Wood Buffalo, the city of Fort McMurray was struck by a flash flood, which caused damages to personal property as well as disrupted local traffic and recovery efforts. On July 31, Fort McMurray received up to 85 mm of rain, which caused significant damages to approximately 41 homes. The flood occurred at a time when Fort McMurray was undergoing recovery efforts in response to the May wildfires that caused the evacuation of the entire city. The flash flood also caused road closures and knocked out power to traffic lights.\",\"Fort McMurray AB\"],[\"Kenora ON, June 27-28, 2016. Two states of emergency were declared in Kenora due to flooding that resulted in over 20 roads experiencing moderate to extensive damages. On June 27, the first state of emergency was declared after Kenora received more than 109 mm of rain over a two-day period. The main road into the city, Veterans Drive, was completely washed out and subsequently closed. A second state of emergency was declared on June 28.\",\"Kenora ON\"],[\"Northeastern British Columbia, June 15-17, 2016. Heavy rainfall throughout the Peace River region in northeastern British Columbia caused flooding in several communities. The district of Chetwynd declared a local state of emergency on June 15 after Chetwynd had received a total of 134.8 mm of rain over a two-day period. A section of Highway 97, the only route that connects the region of Peace River to the rest of the province, was closed due to flooding. The hardest hit by the flooding was the city of Dawson Creek where up to 98.6 mm of rain fell over a two-day period. In Dawson Creek, 60 people evacuated their homes due to flood waters that damaged approximately 400 homes, destroyed one bridge and submerged two others. The flooding in Dawson Creek cut the city in half, leaving residents in the south end of the city without power as well as separating the hospital from the fire hall, which created a challenge for emergency responders. In total, over 2000 homes and businesses (approximately 6000 individuals) were without power throughout the Peace River region as of June 15.\",\"Northeastern British Columbia\"],[\"Kashechewan First Nation ON, April 27-30, 2016. The chief of Kashechewan First Nation declared a state of emergency on April 27 due to annual spring ice break up, snowmelt and subsequent run off in the James Bay coast. In total, 1,207 residents out of the 1,600 residents who live in the northern Ontario reserve evacuated their homes in multiple stages of evacuations that took place from April 29-30. Evacuees were taken to Kapuskasing and Thunder bay.\",\"Kashechewan First Nation ON\"],[\"Chestermere AB, July 12, 2015. Flooding occurred in the town of Chestermere were it rain 223 mm in only a few hours. The huge amount of rain that fell on the town resulted in overland flooding. In Chestermere, the basements of approximately 300 homes were flooded due to overland flooding, sewer backups or sump pump failure. In some cases, water levels of up to eight feet were reported in residential basements. In addition, vehicles in the street were nearly submerged in water. Lighting accompanied by the storm caused power outages that affected approximately 20,000 people. The power outages are believed to have led to the severity of basement flooding.\",\"Chestermere AB\"],[\"Perth-Andover NB, April 18-20, 2015. Perth-Andover experienced significant flooding due to a massive ice jam that broke apart on the St. John and Tobique Rivers. Ice congested local waterways near the village of Perth-Andover causing water levels to rise. The flooding forced 300 people to evacuate. The Canadian Red Cross assisted with the evacuation order. Many businesses closed down, including schools and the local hospital where 23 patients staying at the Hotel Dieu of St. Joseph had to be relocated. Route 105, the major road into Perth-Andover, was closed due to the risk of overland flooding.\",\"Perth-Andover NB\"],[\"Fort Albany and Kashechewan First Nation ON, April 17 to May 11, 2015. The annual spring melt resulted in high water levels in the Albany River, which caused severe flooding for communities in the James Bay region. A state of emergency was declared on April 17, for the Kashechewan First Nation, which is situated in the mouth of the Albany River on the shores of James Bay. The community of Fort Albany also declared a state of emergency on April 29. Evacuations in Kashechewan began April 25, where 1,320 residents were air lifted to safety. In Fort Albany, 13 hospital patients were also evacuated by air. On April 27, the Ontario government issued a Request for Federal Assistance (RFA) for aircrafts in response to the flood in order to evacuate the remaining residents. The community of Moose Cree First Nation was also affected but no evacuations took place. In total, 1,333 people were evacuated to Kapuskasing, Smooth Rock Falls, Wawa and Cornwall. Some residents were permanently displaced due to mold and poor living conditions brought on by the reoccurring floods. Evacuation efforts were complete by April 28.\",\"Fort Albany and Kashcewan First Nation\"],[\"Southern Saskatchewan, June 25 to July 14, 2014. Heavy rain across southeastern Saskatchewan led to localized overland flooding, road washouts, highway closures, and local power outages. The affected basins were the Souris, Lower Qu?Appelle and Assiniboine. Some areas in southeastern Saskatchewan reported up to 240 mm of precipitation in less than two days. Over 68 municipalities declared local states of emergency. In Melville, St. Peter?s hospital evacuated 150 acute care patients due to rising flood waters. The Trans-Canada Highway was washed out in several sections and CN rail was heavily impacted on its regional lines. Peak flow levels on the Assiniboine and Qu?Appelle rivers exceeded that of the 2011 flood.\",\"Southern Saskatchewan\"],[\"New Brunswick, April 15 to May 2, 2014. Spring flooding damaged more than 715 homes and businesses, roads, bridges, and other public infrastructure around the province. The majority of property damages were in and around Sussex and Sussex Corner, where 120 homes and 10 businesses were flooded. On April 16, a state of emergency was declared as water breached the banks of the St. John River, causing 1,450 people to evacuate their homes. In Perth-Andover, 23 patients were voluntarily evacuated and transferred to Upper River Valley Hospital. Throughout the rest of the province, swollen rivers led to the closure of several roads and localized flooding.\",\"New Brunswick\"],[\"Quebec, April 14 to May 1, 2014. A series of intense rainstorms deposited up to 75 mm of rain throughout parts of southern Quebec over a three-day period. Coupled with a delayed spring thaw, the rain caused ice jams and flooding along several rivers in the province. About 300 residents in Sainte-Raymond evacuated including residents from a senior?s home due to raising water levels in the Sainte-Anne River. Many homes situated near the Montmorency River along with homes in Trois-Rivieres, Lennoxville and Weedon were evacuated. In Sherbrooke 632 residents evacuated their homes as the Saint-Francois River reached a record peak of 7.5 metres.\",\"Southern Quebec\"],[\"Toronto ON, July 8, 2013. A thunderstorm that produced 126 mm in precipitation caused flash-flooding in the Greater Toronto area. The flooding closed multiple transportation corridors, caused wide-spread property damage, and disrupted power to approximately 300,000 residents. The Insurance Bureau of Canada estimated that the flooding caused $940 million in insured property damage.\",\"Toronto ON\"],[\"Southern Alberta, June 19-28, 2013. A massive storm system crept through Alberta causing significant flooding throughout the province. As of 2013, this event was responsible for the largest evacuation due to a natural disaster in Alberta?s history. Beginning in northern Alberta, Fort McMurray declared a local state of emergency when water from the Hanging Stone River breached its banks on June 8. The storm then moved south on June 19, where it remained for three days over southern Alberta. Heavy rain spanning across a region from Canmore to Calgary produced an average of 75 to 150 mm during this three-day period. Twenty-nine local states of emergency were declared throughout the province. Four deaths were attributed to the floods, which caused significant disruptions across the province to power, telecommunications, clean water supply, and transportation corridors, including a section of the Trans-Canada Highway that closed due to a mudslide caused by the torrential rain. In Calgary the Bow and Elbow Rivers flooded, which forced 75,000 residents to evacuate the city. Over 4000 business were affected and 3000 buildings were flooded, including that Saddledome and the Calgary Zoo. The towns of High River and Canmore were also significantly impacted by the floods. In total, flooding forced the evacuations of approximately 100,000 Albertans. As flood conditions improved, some residents were allowed to gradually return to their communities beginning on June 23, while the remaining residents were allowed to return by June 28. Response to the flood was provided by municipal, provincial, and federal governments and non-governmental organizations. Insurance payments are estimated at $1.2 billion. This disaster is estimated to have reduced Gross Domestic Product (GDP) in Southern Alberta by $550 million (2013 dollars).\",\"Southern Alberta\"],[\"Kasabonika Lake First Nation ON, May 27-31, 2013. Snow and ice melt caused water levels to rise rapidly on Kasabonika Lake, threatening the First Nations community that lives on the lake. A local state of emergency was declared and approximately 150 of the most vulnerable residents were evacuated to the towns of Hearst and Greenstone. Several buildings were damaged in the flood. As water levels returned to normal, residents were allowed to return to their homes by May 31.\",\"Kasabonika Lake First Nation ON\"],[\"Sicamous BC, June 23, 2012. Flash flooding near Sicamous, BC, washed out Highway 97A in two places, damaging several vehicles and cutting off road access and drinking water supplies to hundreds of residences. Around 350 people in the area of Swansea Point and 2 Mile were forced from their homes due to an evacuation order issued after two raging creeks jumped their banks. Also, a 72-year-old man died after being swept into a fast-moving creek near Nelson. A five-member Rapid Damage Assessment Team landed in Sicamous, which was swamped by the Shuswap swells, and the Red Cross provided a resilience center to help assess needs and offered supplies to troubled residents in the community of about 3,100.\",\"Sicamous BC\"],[\"Yukon, Northwest Territories and British Columbia, June 6-30, 2012. More than 70 mm of precipitation from a low-pressure weather system combined with spring snowmelt caused widespread flooding in Upper Liard, Yukon, Nahanni Butte, Northwest Territories, and Lower Post, British Columbia. Approximately 20 people from Upper Liard, 80 people from Nahanni Butte, and 37 people from Lower Post were evacuated. Approximately 2,500 people, including over 300 commercial transport trucks, experienced traffic delays in the region because of highway washouts. There was extensive damage to transportation corridors as well as approximately 25 buildings in areas affected by the flooding. Floodwaters began receding on June 16. Residents were allowed to return home at the end of June.\",\"Yukon, Northwest Territories and British Columbia\"],[\"Thunder Bay ON, May 28, 2012. Heavy rain and subsequent flooding caused the city of Thunder Bay in northwestern Ontario to declare a state of emergency. Nearly 100 mm of rain was recorded at some weather stations in Thunder Bay on May 28.  The flooding caused road closures, damages to thousands of homes, and interfered with utility services. Thunder Bay Hydro cut power to 50 customers (approximately 1,500 individuals) as a precaution to prevent electrical fires in severely flooded areas.\",\"Thunder Bay ON\"],[\"Kashechewan and Fort Albany ON, March 24 to April 01, 2012. A state of emergency was declared when rapid snowmelt and early ice break-up caused flooding along the Albany river. The flood forced the evacuation of approximately 269 residents to the towns of Kapuskasing and Wawa. All evacuees were able to return to their homes by April 1, 2012.\",\"Kashechewan and Fort Albany ON\"],[\"Kashechewan and Fort Albany ON, March 24 to April 01, 2012. On Saturday, March 24, 2012, a state of emergency was declared by both Fort Albany First Nations and Kashechewan First Nations.  Due to warmer temperatures, early ice break up on the Albany River caused waterways to jam and the water level to rise in low-lying communities.  Evacuations of both communities commenced with 54 of the most vulnerable residents who were flown to the Town of Kapuskasing on March 24, and continued until a total of 269 people had been evacuated to both the Towns of Kapuskasing and Wawa by March 25.  On March 31, 2012, colder temperatures and observations of ice movement resulted in the Chief and Band Council terminating the declared emergency.  All 269 evacuees were repatriated by April 1, 2012.  Emergency Management Ontario and the federal Ministry of Natural Resources co-ordinated the evacuation with the help of federal, municipal and First Nations officials.  Although emergency management is a provincial/territorial responsibility, Aboriginal Affairs and Northern Development Canada (AANDC) accepts responsibility for supporting emergency management in First Nations communities and manages the consequences arising from the emergency such as disruptions to community-level critical services delivered in the First Nation.\",\"Fort Albany and Kashechewan First Nations ON\"],[\"Perth-Andover NB, March 23-25, 2012. The Village of Perth-Andover declared a state of emergency on March 23. The village of roughly 1,770 residents was forced to evacuate approximately 500 people living along a four-kilometre section the St. John?s River on March 24. Within the nearby Tobique First Nation community, approximately 20 people were evacuated to a school gymnasium and six homes were damaged by floodwaters. Public Safety Canada?s regional office reported that approximately 200 homes and businesses were damaged, including those of the Tobique First Nation. The province?s Emergency Measures Organization indicated that unseasonably hot weather caused rapid snowmelt, resulting in an ice jam that was to blame for the river breaching its banks. Andover Elementary School and Southern Victoria High School were both closed due to damages from the floodwaters. The Red Cross used Perth-Andover Middle School as an emergency evacuation site. Perth-Andover hospital also sustained damages; patients were relocated to the Upper River Valley Hospital in Waterville and Grand Falls General Hospital, while some were discharged home. Service New Brunswick?s temporary location in Perth-Andover offered free well-water bacterial testing for private well owners who were impacted by the flood. Health Canada was responsible for contacting well owners with information on potentially harmful contamination in their water, whereas Environment Canada as well as local authorities were responsible for notifying remaining well owners of the absence of bacteria in their water. New Brunswick?s provincial government offered information on government services for people whose property sustained damage resulting from the flood. The response level remained within provincial capacity.\",\"Perth-Andover NB\"],[\"Eckville, Paddle River, Fort Vermilion, and Peace River AB, July 12-14, 2011. According to the AB River Forecast Centre, water levels on the Peace River exceed 1 in 100 year event levels near Fort Vermilion. The region was divided into three segments to facilitate emergency response. All of 'Area A' included all of the low-lying areas, and was placed under immediate evacuation order. On July 12, there were approximately 100 flooded homes in Eckville and 700 homes were without electricity or phone services. Roads and highways were significantly damaged.\",\"Eckville, Lacombe, Paddle River, Fort Vermilion, and Peace River AB\"],[\"Weyburn and Estavan SK, June 17-28, 2011. A local state of emergency was issued on June 17, because of extensive flooding in the City of Weyburn and Estavan, Saskatchewan. Throughout the province, 19 municipalities declared local states of emergency. Approximately 200 homes were known to be affected in Weyburn, where there was 112 mm of rain. On June 17, Estavan received 27 mm of rain over night and 383 residents were evacuated from a mobile trailer park. On June 18, officials reported that the capacity of the treatment plant had exceeded its limit, and Environment Canada granted permission to pump sewage directly into the Souris River. Repairs were conducted at the treatment plant to address the capacity issue. SaskPower reported scattered and localized power outages throughout the region. Residents in most areas were given permission to return to their homes on June 28.\",\"Weyburn and Estavan SK\"],[\"Southern Manitoba, June 2 to July 9, 2011. On June 3, 1,961 individuals were evacuated from the Ochre River, Alonsa, and Sioux Valley First Nations, and 37 communities declared local states of emergency due to extensive flooding.  Another 45 residences were given mandatory evacuation orders in the Dauphin Lake, Ochre River/Cresent Beach area on June 4. On June 6, the Sastachewan Watershed Authority released a large amount of water from the Tobin Lake Dam, which flows towards the flood zone.  By June 6, 40 communities were under a state of local emergency with a total of 2,058 evacuees registered through the Canadian Red Cross and the Manitoba Association of Native Firefighters (MANFF). Effective June 28, there were a total of 2,937 evacuees, 42 local declared States of Emergency with 13 of these being First Nations communities. On July 9, evacuation orders were lifted for Portage La Prairie, Souris, Wawanesa, and Glenwood.\",\"Southern Manitoba\"],[\"Calgary AB, May 29-31, 2011. Tsuu T?ina First Nation evacuated approximately 40 families (120 individuals) from Calgary due to flooding and road washouts.  In addition, The Stone Tribe evacuated approxiamtely seven families (21 individuals) due to flooding.  Also, the Siksika First Nation and Town of High River have issued voluntary evacuation orders for Hidden Valley and High River areas.\",\"Calgary AB\"],[\"Brandon MB, May 10-28, 2011. Forteen homes were evacuated in Brandon on May 10 due to extensive flooding. By May 15, a total of 3,623 individuals had been evacuated from the following communities: Archie, Arthur, Brandon, Cameron, Cornwallis, Dauphin, Ellice, Elton, Emerson, Langfor, Lake St. Martin First Nations, Ritchot, St. Clements, St. Lazare Village, Sandy Bay First Nations, Sioux Valley First Nations, South Norfolk, Stanley, and Whitewater. There were 120 provincial roads and 655 municipal roads that were closed as a result of the flooding.\",\"Brandon MB\"],[\"Assiniboine, Roseau, and Red Rivers MB, April 19 to June 17, 2011. By April 28, flooding resulted in 15 communities declaring states of emergency while 1,772 individuals had been evacuated province wide. There were 1,547 evacuees who were from First Nations communities. Indigenous and Northern Affairs Canada (INAC) worked collaboratively with First Nations communities to develop flood action plans with pre-emptive activities.  As of June 15, 2,543 individuals had been evacuated and 32 communities had declared states of emergency. Estimated costs from the Province  is approximately $100 million and the estimated federal share is approximately $87.5 million.\",\"Assiniboine, Roseau and Red Rivers MB\"],[\"Mont?r?gie QC, April 17 to June 22, 2011. Early spring melt along with rainy weather between March and May led to historic flooding in the Mont?r?gie region of Quebec. Communities in the Richelieu Valley experienced heavy rainfall from March to May, including Montreal where it rained 182 per cent above average during that time. Starting April 18 to 24, nine municipalities were affected by flooding. Rising water levels in the Richelieu River caused flooding and damages to an additional 16 municipalities, including Sainte-Anne-de-Sabrevios where 400 homes were damaged and Saint-Paul-de-l??le-aux-Noix where 200 homes were damaged. From April to June, over 40 municipalities in the Mont?r?gie region were affected by flooding and by May 6, 11 municipalities declared states of emergency. On May 23, the Richelieu River set a new all-time record water level of 30.7 metres, due to several days of intense rain. Most significantly impacted by the flooding was Saint-Jean-sur Richelieu where a over 3000 homes were flooded and approximately 1000 people were evacuated from their homes. In total, the floods affected 3,927 people and forced the evacuation of approximately 1,651 people from their homes.\",\"Mont?r?gie QC\"],[\"New Brunswick and Nova Scotia, December 13, 2010.  New Brunswick and Nova Scotia experienced heavy rainfall resulting in extensive flooding. A layer of ice and snow underground prevented rain from being absorbed, which led to significant flooding. In New Brunswick and Nova Scotia, flooding caused damages to homes and roads as well as power outages that affected approximately 80,000 residents (240,000 individuals) in Nova Scotia. In New Brunswick, St. Stephan received up to 166.4 mm of rain, while Fedricton received 101.7 mm of rain. Over 120 roads were closed in New Brunswick and up to 60 homes were destroyed. In addition, approximately 44 residents (132 individuals) from St. George and Nashwaak Valley were displaced from their homes. Both provinces provided provincial aid to victims.\",\"New Brunswick and Nova Scotia\"],[\"Gasp? and Bonaventure QC, December 5-15, 2010. Heavy rains moved through Qu?bec causing flooding from December 5 to 7 and 13 to 15.  A total of 57 municipalities were declared eligible for disaster financial assistance with the provincial government. Approximately 125 residents were evacuated during the flooding on December 15, with between 300 and 500 homes in the Gasp? region being flooded.\",\"Gasp? and Bonaventure QC\"],[\"Yarmouth and Halifax NS, November 7 to December 15, 2010. High winds and heavy rains over a one month period resulted in the \\\"worst flooding in a century.\\\"  On November 7, storms began with 215 mm of rain falling in Yarmouth and 172 mm in Halifax. On November 9, 120 families (360 individuals) were evacuated from Yarmouth, and several more families were evacuated from nearby Lequille (Annapolis Royal) and Lake Vaughn. A state of emergency was declared when more than 100 mm of rain fell within 18 hours flooding and overwhelming local resources. Rains continued through to December 15. During this time, roads and bridges were washed out, homes were badly damaged by flood waters, and power was lost to more than 46,000 homes (138,000 individuals). On May 19, 2011, the Emergency Management Office of Nova Scotia released a statement indicating the Disaster Financial Assistance Program?s approval for cost-sharing between the province and Ottawa.\",\"Yarmouth and Halifax NS\"],[\"Kingcome Inlet and Bella Coola BC, September 24-25, 2010. Flooding caused by heavy rainfall resulted in flooding that destroyed the highway leading into Bella Coola BC. Between September 24 and 25, 204 mm of rain fell in the region. Residents of Kingcome Inlet were evacuated by helicopter when water continued to rise. Approximately 100 people were evacuated from Bella Coola and another 75 people from Kingcome Inlet.\",\"Kingcome Inlet and Bella Coola BC\"],[\"Meat Cove NS, August 21-22, 2010.  A flash flood struck the small community of Meat Cove early in the morning on August 22. The five local bridges suffered major damages, including two bridges that were completely washed away. Local roads were flooded and sustained damages, including the major road that connects the small fishing community to the rest of the province, which resulted in 100 residences and 26 tourists being isolated by the flood. Environment Canada reported 69.8 mm of rain in the area. Officials from the Emergency Management Office worked with the RCMP, Emergency Health Services, the Canadian Red Cross, and others to provide emergency services to the affected people. Access to the area was restricted to boats until August 30 when a temporary bridge over Salmon River was completed.\",\"Meat Cove NS\"],[\"Southern Alberta and Saskatchewan, June 17, 2010. Record rainfall resulted in extensive flooding in Alberta and Saskatchewan, washing out a portion of the Trans-Canada highway and shutting down part of the Canadian Pacific rail line. Fourty people from the Blood Tribe reserve, 75 homes in Maple Creek, and 600 households in Medicine Hat were forced to evacuate. Disaster financial assistance was provided by both provinces.\",\"Southern Alberta and Saskatchewan\"],[\"Winnipeg MB, May 29, 2010. Heavy rains over the course of a week caused significant flooding in Winnipeg and the surrounding area. Out of the 180,000 residential properties in Winnipeg, 619 reported being flooded. As a result, 420 were damaged by overland flooding, while 199 suffered sewage backups. The province offered disaster financial assistance for the flood event alongside other events which occurred over the spring and summer.\",\"Winnipeg MB\"],[\"Duncan and North Cowichan (Vancouver Island) BC, November 20, 2009. Flooding caused by heavy rains and high tides resulted in the destruction of approximately 50 homes and the evacuation of a total of approximately 300 homes (900 individuals). The storm also caused power outages affecting thousands of homes on Vancouver Island, in the Fraser Valley and within the BC interior.\",\"Duncan and North Cowichan (Vancouver Island) BC\"],[\"Notre-Dame-des-Prairies QC, June 28 to July 4, 2009. A quasi-stationary low-pressure system stalled over eastern Ontario and Quebec. Excessive rains of up to 140 mm damaged roads and bridges, and flooded basements.  The hardest hit areas were in Charlevoix, Mauricie and Parent. Flood waters filled 50 houses in Notre-Dame-des-Prairies on July 1, and collapsed a street in Entrelacs when a stream overflowed. The flow rate on several rivers exceeded historic records.\",\"Notre-Dame-des-Prairies QC\"],[\"Rock Creek and Henderson Corner YT, May 1, 2009.  Overland flooding from May 1 to May 3 affected the unincorporated areas of Rock Creek and Henderson Corner in the Klondike Valley, resulting in the evacuation of 28 people and damage to both private property and public infrastructure, such as roads and recreational facilities.\",\"Rock Creek and Henderson Corner YT\"],[\"Saint John, Miramichi and Restigouche River NB, April 5 to May 4, 2009. A freshet in spring 2009 caused flooding in a number of communities, primarily from the formation of ice jams which raised water levels along the Saint John, Miramichi, and Restigouche rivers from April 5 to May 4.  The flooding caused damages to homes, businesses and infrastructure such as roadways.  Preliminary eligible costs are estimated at $2.0 million, which would result in a federal share of approximately $626,000.\",\"Saint John, Miramichi and Restigouche River NB\"],[\"Roseau River First Nation, Sioux Falls, Peguis First Nation, St. Andrews, St. Clements and Selkirk MB, March 24 to May 21, 2009. Overland flooding caused by a combination of snowmelt, seasonal precipitation and the spring breakup affected southern Manitoba's watershed areas of the Red, Pembina, Assiniboine, and Souris Rivers. The event caused flooding of houses and evacuations from communities including Roseau River First Nation, Sioux Falls, Peguis First Nation, St. Andrews, St. Clements and Selkirk. The flooding also resulted in damage to public infrastructure such as bridges, roads, and highways. Three principal factors led to the spring flooding: 1) Heavy autumn rains, about 43 per cent more than normal, saturated the ground just before freezing in early December, which left little room for absorbing snow melt in the spring; 2) It was a snowy winter in southern Manitoba with some 25 per cent more snowfall than normal. Heavy snowfalls and copious spring rains swelled the critical headwaters of North Dakota sending excessive waters north into Canada via the Red River and its tributaries; and, 3) An unseasonably cold spring slowed basin snow melting, ice decaying in rivers, and overland flow from ditches and culverts.\",\"Roseau River First Nation, Sioux Falls, Peguis First Nation, St. Andrews, St. Clements and Selkirk MB\"],[\"Pangnirtung NU, June 8-9, 2008. Accelerated snowmelt and heavy rains created a massive flood that prompted the community of Pangnirtung to declare a state of emergency. Floodwaters resulted in the erosion of the permafrost, which supported the bridge abutments on the Duval River. The soil erosion caused sinkholes to form which damaged two bridges. Flooding caused the closure of many roads and disrupted residential water services.\",\"Pangnirtung NU\"],[\"Saint John River NB, April 30, 2008. Flooding along the Saint John River caused as many as 1000 people to evacuate their homes.\",\"Saint John River NB\"],[\"High River AB, May 24, 2008. Surging water levels on the Highwood River forced the town of High River to declare a state of local emergency.\",\"High River AB\"],[\"James Bay ON, May 9, 2008. A serious flood risk forced about 1,200 people from their homes along the coast of James Bay.\",\"James Bay ON\"],[\"Hay River NT, May 5-7, 2008. Ice jams in the Hay River forced water to rise over its banks, creating flood conditions for nearby residents. Approximately 600 people from Vale Island, situated at the mouth of Hay River and Great Slave Lake, fled from their homes as a voluntary evacuation order was issued May 5. Many homes and business were flooded and damaged from debris carried by the rising water. At the Katlodeeche First Nation reserve, floodwaters knocked out the old Anglican Church off its foundation as well as flooded the Roman Catholic Church.\",\"Hay River NT\"],[\"Quebec City QC, April 28 to May 2, 2008. Heavy rain combined with the spring thaw resulted in flooding and landslides in the Quebec City area. The heavy rain, which started on April 28, lasted until May 2 in some areas. Among the affected communities, Baie-Comeau received up to 120 mm of rain and Sept-Ilse received up to 78 mm of rain. Near Montreal, the Petite Nation River rose one metre, which flooded the surrounding areas. In total, flooding forced the evacuation of 230 people. In addition, landslides caused by the flooding threatened the safety of 60 residents who had to be evacuated as a precaution.\",\"Quebec City QC\"],[\"Albany River ON, April 25, 2008. More than a dozen aircraft were poised to help evacuate nearly 1,900 residents of Kashechewan and Fort Albany, reserves in the coastal area of James Bay, some 450 kilometres north of Timmins.\",\"Albany River ON\"],[\"Trent Hills ON, April 17, 2008. Over a period of 24 hours, water levels in the tri-lakes (Chemong, Buckhorn and Pigeon) increased 120 mm. The municipality of Trent Hills declared a state of emergency.\",\"Trent Hills ON\"],[\"Belleville ON, April 14, 2008. Water from the Moira River flooded dozens of homes and shut down roads in Belleville prompting a state of emergency to be declared. Approximately 50 homes were significantly flooded, including six homes (approximately 18 individuals) that were evacuated. Local wells were tainted with floodwater, which meant that residents could not drink from their wells.\",\"Belleville ON\"],[\"Paddockwood SK, April 14, 2008. The Rural Municipality of Paddockwood declared a state of emergency after floodwaters rose more than one metre. Floodwaters covered main access roads leaving approximately 400 people stranded in their homes. Two families were forced to leave their homes due to flooding. Water levels receded within a day, but the flooding caused damages to roads and residential homes.\",\"Paddockwood SK\"],[\"Port Bruce ON, February 18, 2008. The small community of Port Bruce, located at the mouth of Catfish Creek in Lake Erie east of Port Stanley, was flooded due to an ice jam that caused the creek to overflow. It was the second time in two weeks that Port Bruce experienced flooding from the creek. However, on February 18, the flooding was more severe as water levels rose knee-deep in some areas forcing approximately 100 families (300 individuals) to evacuate their homes and preventing many others from leaving.\",\"Port Bruce ON\"],[\"Prince George BC, December 10, 2007. An ice jam in the Nechako River that, at one point, stretched as long as 33 kilometres, caused localized flooding. A state of emergency was declared.\",\"Prince George BC\"],[\"Terrace, Smithers & Mount Currie BC, June 5, 2007. About 125 homes have been evacuated and about 1,100 others are on evacuation alert alongside the swollen Skeena and Bulkley rivers near Terrace and Smithers.\",\"Terrace, Smithers & Mount Currie BC\"],[\"Red Earth First Nation SK, April 19, 2007. The band council's decision to evacuate 691 residents from the northern reserve, mainly children, elderly residents and pregnant women, came as water covered one-third of a main access road, which divides the reserve.\",\"Red Earth First Nation SK\"],[\"Selkirk MB, April 3-13, 2007. Ice buildup and bad weather caused the Red River to breach its banks flooding the city of Selkirk. A two kilometre ice jam caused water levels to raise 60 cm. The subsequent flooding resulted in sewage spilling into the river and the evacuation of the Kiwanis I and II condominium buildings where 100 seniors were evacuated. In addition, numerous basements were flooded as well as the Marine Museum of Manitoba.\",\"Selkirk MB\"],[\"Saint-Joseph et Vall?e QC, October 28, 2006. In Saint-Joseph and Vall?e, approximately 50 homes and 30 businesses were affected by a flash flood.\",\"Saint-Joseph et Vall?e QC\"],[\"Aklavik NT, May 27, 2006. The remote community of Aklavik was buried under several feet of water after the Peel River channel overflowed its banks due to melting ice. Residents of the low-lying town were forced to evacuate due to flooding. Approximately 300 residents left their homes and fled to the nearby town of Inuvik located 55 kilometres away. The flooding caused severe infrastructure damage, including damages to roads as well as the town?s sewage system.\",\"Aklavik NT\"],[\"Slocan River BC, May 20, 2006. Residents living near the Slocan River were at risk as high water levels caused by melting snowpacks forced the river to overflow its banks. Local authorities issued an evacuation order for 53 homes in Passmore and Slocan Park (approximately 159 individuals) as well, 98 other homes that were put on evacuation alert. Damages included road closures and basement flooding.\",\"Slocan River BC\"],[\"Kashechewan ON, April 23, 2006. Spring flooding has forced hundreds of people to leave the northern Ontario reserve of Kashechewan. Kashechewan declared a state of emergency when water levels rose quickly and asked for immediate help from the province.\",\"Kashechewan ON\"],[\"Baie Verte Peninsula NL, April 17, 2007.  A severe rainstorm caused flooding along Newfoundland and Labrador's Northeast coast.  A number of communities in the Baie Verte Peninsula region of the province, such as Burlington and Middle Arm, were affected.\",\"Baie Verte Peninsula NL\"],[\"Red Earth SK, April, 13, 2006. In northeastern Saskatchewan, the Red River First Nation scrambled to avoid the threatening Carrot River as leaders ordered a general evacuation of the band of 1,100.\",\"Red Earth SK\"],[\"Stephenville NL, September 27, 2005.  The town of Stephenville received 110 mm of rain, causing flooding in the region.  More than 80 homes were flooded completely.  A state of emergency was declared and approximately 200 people were forced to leave their homes.\",\"Stephenville NL\"],[\"Quebec, August 31, 2005.  The aftermath of Hurricane Katrina was felt in Quebec where heavy rain hit the Basse-C?te-Nord region. The region received 80 to 100 mm of rain. Over flown rivers and washed out culverts were seen in the towns of Vanier and Charlesbourg. These events led to flooding. August 31 was the wettest day that month for the Montreal's Pierre Elliott Trudeau Airport as well as the wettest August day for Quebec City.\",\"Quebec\"],[\"Cumberland House, Cree First Nation SK, June 23, 2005.  Approximately 2000 residents of Cumberland House were evacuated to Prince Albert after the Saskatchewan River began flooding.  Saskatchewan Environment issued a boil water advisory for the residents. Movement of most ferries on the North and South Saskatchewan rivers was suspended.\",\"Cumberland House Cree First Nation SK\"],[\"Southern Alberta, June 6-8, 2005. Heavy rainfall and high water levels across southern Alberta caused massive flooding in several waterways.  Multiple municipalities across the region issued a state of emergency. Severe flooding caused the evacuation of 2000 people in Calgary, 1,300 in Sundre, 3,200 in Drumheller, 200 in High River, 70 in Foothills, 58 in Okotoks and 200 in Red Deer County.  Officials reported that the 200-year flood event resulted in significant damages to approximately 40,000 homes.\",\"Southern Alberta\"],[\"Manitoba, June 2, 2005. Manitoba received between 100-175 mm of rain resulting in severe flooding.  Regional municipalities of Daly, Sifton, Blanshard, Strathclair and Woodworth as well as the towns of Oak Lake and Rivers encountered major problems of seepage and basement flooding, damage to municipal roads and overland flooding of agricultural lands.  Forty-four provincial highways and over 100 municipal roads were damaged.  Approximately, 380 homes and 19 families (approximately 1,197 individuals) were forced out of their homes due to the flooding.  Thirteen municipalities declared a local state of emergency and more than 100 requested disaster financial assistance. The cost of the flood was estimated at more than $350 million including crop damage.\",\"Manitoba\"],[\"Bridgewater NS, May 25-27, 2005. By May 27, a total of 383 mm of rain had fallen in Nova Scotia?s Fancy Lake watershed region causing overland flooding in a number of communities.  A local state of emergency was declared and approximately 100 people were evacuated.\",\"Bridgewater NS\"],[\"Fort Good Hope NT, May 11-14, 2005. Jackfish Creek and Rabbitskin River rose to the point that 10 families and 8 seniors had to leave their Fort Good Hope homes. A state of emergency was declared.\",\"Fort Good Hope NT\"],[\"Kashechewan ON, April 23, 2005.  Nearly 200 people were flown out of the remote First Nations reserve in northern Ontario to Moosonee after flooding filled 39 basements with raw sewage.  Spring flooding on the Albany River caused the sewage system to back up and contaminated the community water system.\",\"Kashechewan ON\"],[\"Southern New Brunswick, April 9 to May 15, 2005.  Several days of rain caused flooding in the communities of Jemseg, Sheffield, Maugerville and Fredicton and forced approximately 40 families (approximately 120 individuals) to evacuate their riverside homes.  Several families remained stranded in their homes as all roads were washed out. For many families the only way to leave their property was by canoe.  Due to high water levels, the highway between Fredericton and Saint John remained blocked for many days.\",\"Southern New Brunswick\"],[\"The Pas MB, July 21, 2004.  Heavy rains on already saturated ground led to an overloading of  the town's joint sewage and storm drain system flooding homes in The Pas.  Approximately 400 homes in the town were damaged.  Dozens of people were reported sick  with intestinal and bronchial illnesses after attempting to clean-up after the flood.   The costs of the damages could reach as high as $5 million.\",\"The Pas MB\"],[\"Attawapiskat ON, May 19, 2004.  Due to ice-jam flooding in the Attawapiskat River, approximately 1,700 people from the  James Bay Cree First Nation community of Attawapiskat were evacuated by air to Moosonee, Cochrane and Timmins.\",\"Attawapiskat ON\"],[\"South Central Manitoba, March 24-26, 2004. A combination of spring runoff and heavy rainfall brought flooding to Manitoba's South-Central region. Some affected communities include: Pembina, Morris, Winnipeg, Selkirk and Lac du Bonnet. States of emergency were declared in the rural municipalities of Franklin, Tache and St. Clements. Twenty-one people were evacuated from the Dakota Plains and Peguis First Nations. More than 1000 were evacuated when the Red River overflowed.\",\"South Central Manitoba\"],[\"Vancouver Island and Southwestern British Columbia, October 16-23, 2003. Heavy rains resulted in major flooding, particularly to Squamish and Pemberton where states of emergency were declared. Flooding in the Squamish Valley, Cheakamus Valley, and Paradise Valley resulted in the evacuation of 700 people from those areas. Another 50 people were evacuated from the Vancouver Island region. Two vehicles were swept into Rutherford Creek north of Whistler. One passenger survived, while two died.\",\"Vancouver Island and Southwestern British Columbia\"],[\"Oxford and Truro NS, March 31, 2003. Heavy rains and snowmelt caused flooding in communities on the Atlantic coast. States of emergency were declared in the towns of Oxford and Truro NS where 150 and 120 people respectively were evacuated from their homes. Two people died as there car was swept off the road by flood waters in Pinehurst. Nova Scotia's Transportation Department has reported that the flooding has destroyed or damaged 47 bridges and has affected 200 roads. See Prince Edward Island and Newfoundland entries for more information on this event.\",\"Oxford and Truro NS\"],[\"West Coast of Newfoundland, March 31, 2003. Western Newfoundland experienced flooding as a result of both heavy rain and mild temperatures. Some of the communities affected include: Codroy Valley, Cox's Cove, and Corner Brook. These communities faced washed out roads as well as damaged water and sewage systems. A landslide on the Trans-Canada Highway restricted access between Gallants and George's Lake. See Nova Scotia and Prince Edward Island entries for more information on this event.\",\"West Coast of Newfoundland\"],[\"Prince Edward Island, March 31, 2003.  The province was subjected to a severe rainstorm causing flooding and resulting in damage to both private and public property.\",\"Prince Edward Island\"],[\"The entire town of Badger, NL was evacuated when the three rivers Badger-Exploits, Red Indian and Badger overflowed their banks due to ice jamming. The town's water supply was contaminated after the sewer system failed.  Power supply was cut off to all flooded homes.  Approximately 200 homes were affected by the flooding.  The Canadian Red Cross, local officials, the RCMP and the Emergency Measures Organization were cooperating to find shelter for approximately 80 families.\",\"Badger NL\"],[\"Southern AB, June 11, 2002.  Approximately 280 mm of rain fell on the area within a few days.  The heavy rain and the unusually late spring runoff caused mudslides and forced sewage into river systems, and power lines were damaged in Waterton Lake National Park.  A local state of emergency was declared for the areas of: Pincher Creek, County of Warner, Village of Sterling, Village of Warner, Village of Foremost, and the Town of Coaldale.  Two hundred residents from the Blood First Nation and 150 residents from the Peigan First Nation were evacuated.\",\"Southern Alberta\"],[\"Southeast MB, June 11, 2002. Ten communities declared a state of emergency following severe flooding of homes and roads. About 240 mm of rain fell, causing the worst flooding southeast Manitoba had seen in 45 years. Levels of the Roseau River declined for a few days; however, additional flooding was expected the following week given the record water levels in the American portion of the river and the expected crest in southeast Manitoba. Residents and flood workers built dikes and laid sandbags as a preventative measure in the event of further flooding. Several roads were closed and some of these washed out or were covered with water. Crops were severely damaged because fields were submerged under water, and homes were inundated.\",\"Southeast MB\"],[\"Municipalities of Ignace, Fort Frances, Rainy River, Alberton, Atikokan, Chapple, Dawson, Emo, La Valle, Lake of the Woods, Morley, Machin; Township of Sioux-Narrows - Nestor Falls ON, June 9-11, 2002.  Parts of northwestern Ontario were declared disaster areas because of severe flooding. Roads and highways were washed out and closed, power and telecommunication lines were disrupted, and private properties were greatly damaged.\",\"Municipalities of Ignace, Fort Frances, Rainy River, Alberton, Atikokan, Chapple, Dawson, Emo, La Valle, Lake of the Woods, Morley, Machin; Township of Sioux-Narrows - Nestor Falls, ON\"],[\"British Columbia, May 2002.  High snow-pack levels, rapid melting and heavy rainfall caused severe runoff and flooding in areas of B.C. except Vancouver Island and the Central Coast. The spring freshet caused significant damage to private properties, public transportation corridors, and recreation facilities.\",\"British Columbia\"],[\"Attawapiskat FN, ON, May 2002. Approximately 1200 people were evacuated to Moosonee and Timmins following the flooding of the Attawapiskat River. A municipal state of emergency was declared.\",\"Attawapiskat First Nation ON\"],[\"Northeast and Central British Columbia, July 2001.  A severe five-day rainstorm caused flood damage to 100 homes and to critical infrastructure.  More than 200 mm of rain fell.  Roads and bridges were washed out, businesses and public and private properties were damaged, two trains derailed, and people were temporarily stranded.\",\"Northeast and Central British Columbia\"],[\"Peace River area BC, June 2001.  The region was subjected to many intense precipitation events.  Increased tributary levels combined with the spring freshet caused the over-saturation of the soil and surface runoff.  This in turn triggered several landslides that cut-off highways.  Property and infrastructure damage was extensive. Pink Mountain and Halfway River were both affected.\",\"Peace River area BC\"],[\"Southern Manitoba, April 2001.  Southern Manitoba suffered significant losses during spring flooding.  Highway infrastructures, businesses and private and public properties were extensively damaged.\",\"Southern Manitoba\"],[\"Sydney NS, November 2-11, 2000.  Heavy rains hit Cape Breton and Victoria County for nearly ten days, causing flooding and damages to homes and businesses.  Almost 100 millimetres of rain fell in a 24-hour period, flooding streets and forcing the evacuation of 200 families.  One woman was trapped in her car and suffered injuries when a massive culvert collapsed due water pressure.  A boil order was in effect for a week for 1,000 residents in Donkin and at least 2 weeks for the 30,000 residents of Glace Bay, Reserve Mines and Dominion.\",\"Sydney NS\"],[\"Southern Manitoba, July 7-14, 2000.   Heavy rains occurred throughout July causing major problems in some areas.  On July 7, between 80 -100 millimetres of rain fell in a four hour time-frame, washing out roads and flattening crops.  Winds reached almost 125 km/h, and lightning strikes reached up to 1,000 hits an hour.  The prolonged rainfall resulted in saturated soil, and overland flooding across the province with reports of flooded basements, blocked drainage systems, and backed-up sewers.\",\"Southern Manitoba\"],[\"Vanguard SK, July 3, 2000.  The Village of Vanguard and seven surrounding municipalities experienced a severe flood, causing extensive damage to private property and public infrastructure. More than 333 mm of rain ? equivalent to the area's annual rainfall ? fell on the area in less than 10 hours. Roads were closed, basements flooded, and two bridges were washed out. Nine families were forced from their homes due to flooding.  Residents were also advised not to drink the water for two weeks because the village's water treatment plant and sewer system were submerged during the flood. No deaths or injuries were reported.\",\"Vanguard SK\"],[\"Maritime Provinces, September 23, 1999.  Record 1-day rainfall was caused by the remnants of tropical storm Harvey and Hurricane Gert.  Oxford NS was flooded when 2 nearby rivers overtopped their banks, after receiving 200 mm of rain in one day.  A seniors residence of 30 people and 15 families were evacuated from Moncton NB which received 160 mm of rain.  A number of bridges and roads were washed out in the region. In Newfoundland, 10 m whitecaps smashed the breakwater to pieces at Lord's Cove, and destroyed a number of buildings. Wharves were also destroyed in St. Brides, and Plancentia Bay NF.\",\"Maritime Provinces\"],[\"Prince Edward Island, September 7, 1999.  More than 200 mm of rain fell in a short period of time during a severe rainstorm.  Flash flooding occured throughout the province; natural and man-made watercourses were overcome.  Eight highways and two bridges were severely damaged, as well as other provincial and municipal infrastructure.  Impacts were also seen on the fisheries and agricultural industries.\",\"Prince Edward Island\"],[\"Clearwater AB, July 4-5, 1999.  About 62 cm of snow and 122 mm of rain fell starting on July 2.  Flooding forced more than 300 residents of Clearwater to flee July 4. The flooding destroyed 100 km of roads and several bridges in central Alberta. The North Saskatchewan river peaked at 8.45 m just shy of the flood level.\",\"Clearwater AB\"],[\"Melita MB, April 1999. Melita, Manitoba was threatened by the largest flood in the area since 1976.  The Souris river outflow rose to 169.8 cubic m/s of water compared to its normal outflow of 4.25 cubic m/s.  The Souris river spread to at least 2 km wide at its peak flooding, and almost topped the makeshift dikes.  The flood washed out roads and damaged bridges in several rural municipalities, and made over 800000 hectares of farmland unseedable this year. Both provincial and federal aid was administered in the form of deadline pushbacks and financial assistance.\",\"Melita MB\"],[\"Southeastern Saskatchewan, April-June 1999.  Heavy rainfall and flooding over the spring proved to be very costly for Saskatchewan farmers.  Due to all the excess water, farmers were only able to seed a portion of the acres they had planned to, resulting in substantial economic losses. Highways and provincial, municipal and private properties of the region were also damaged.\",\"Southeastern Saskatchewan\"],[\"British Columbia, March 1 - July 30, 1999. Above average spring-runoff brought a freshet flood to such areas of British Columbia as: Terrace, Kitimat, 100 Mile, Kamloops, Prince George and Clearwater. Severe erosion damages, washed out trails, roads, and culverts, heavy rain, landslides, and damages to bridges were also experienced.\",\"British Columbia\"],[\"Eastern Ontario and Quebec, March 28 - April 15, 1998. Warm weather and thunderstorms caused spring flooding. In Ontario, the Clyde River, Ottawa River, Mississippi River and rivers feeding Lake Nipissing overflowed. The lower Trent System below Peterborough from Rice Lake to Bay of Quinte also experienced flooding. States of Emergency were declared in these communities: Lanark Highlands, Village of Kearney, Township of Drummond, North Elmsley, Beckwith Township, Carleton Place and Mississippi Mills. In Quebec, over 15 rivers flooded and caused the evacuation of 3,697 people in 140 municipalities. Rivers on the North Shore of St. Lawrence River, St. Lawrence River, Assumption River, Chateauguay River, Richelieu River, Ottawa River, Lake St. Pierre and Lake Champlain flooded. Damage mainly occurred in the Mont\\u00e9r\\u00e9gie and Mauricie regions.\",\"Eastern Ontario and Quebec\"],[\"Saint John River NB, March 9-10, 1998.  Warm temperatures and a storm delivering 78 mm of rain led to ice break-up, ice jams and flooding along the Saint John River. Roads, bridges and some residences in low lying areas sustained major damages. Some families were isolated for up to a week until the roads were repaired. Areas affected were: Fredericton, Saint John, Moncton, Miramichi and Saint Leonard.\",\"Saint John River NB\"],[\"Lesser Slave Lake area AB, June 17-20, 1997.  Major flooding occurred in the Lesser Slave Lake area in June.  This resulted in significant damage to property, pasture, and buildings.\",\"Lesser Slave Lake area AB\"],[\"Southern BC, May 1, 1997. Below average temperatures, steady precipitation, a heavier than usual snow pack and extensive ground saturation caused flooding in the southern regions of BC. Extensive damage was done to agricultural lands, public works, private property and businesses. Precipitation in notable sites was 40110% above normal. Riverbank erosion, washouts, road closures and landslides affected many communities. The following areas flooded: Kettle River, Kicking Horse River, Elk River, Okanagan Lake, Columbia River, Salmon River, Slocan River, Shuswap Lake South Thompson River and Bulkley river.\",\"Southern British Columbia\"],[\"Assiniboine, Red and Winnipeg Rivers MB, April-May 1997. The province of Manitoba declared a state of emergency on April 22, 1997. Five days later, Emerson was hit. Over 7000 military personnel were employed for 36 days to assist in preventing flood damage and in relocating the 25447 evacuees; communities affected include Emerson, Rosenort, St. Jean Baptiste, Morris, St. Adolphe, Nutimik, Portage la Prairie, Ste. Agathe, St. Norbert, Letellier, Dominion City, Scanterbury, Halbstadt, Brunkhild, Domain, LaSalle, Sanford and Winnipeg.\",\"Assiniboine, Red and Winnipeg Rivers MB\"],[\"Peace River AB, April 19-23, 1997. Heavy snowpacks and a rapid snowmelt caused ice jams on the Peace River which backed up on Heart River, causing flooding of two towns. Peace River and Fort McMurray both sustained damages to homes, crop land, roads, bridges, culverts and businesses.  In the town of Peace River, 50% of the businesses were damaged, along with 20 farm homes and hundreds of bridges and roads; in some areas the water reached levels of 2 meters. A State of Emergency was declared in the town of Peace River, and 4000 people were evacuated.\",\"Peace River AB\"],[\"South-central SK, March-April 1997. In late March, there was minor flooding in the municipalities of Swift Current and Ponteix.  From March 30 - April 3 1997, a breakup of ice caused flooding in low lying areas along the Moose Jaw River.  A State of Emergency was declared.  Twenty homes were flooded and 140 families (assume a family of 4) were evacuated.\",\"South-Central Saskatchewan\"],[\"Montreal and Mauricie Region QC, November 8-9, 1996. Severe flooding due to heavy rains occurred in the Montr\\u00e9al and Mauricie regions.  Approximately 150 mm of rain fell on Montr\\u00e9al in 36 hours; some communities received 160 mm. The flooding caused extensive damage to agricultural lands, public works and private property including 6,000 residences and 100 businesses and industries. Two major highways closed near Montr\\u00e9al, washed out roads cut off three villages in Mauricie.  In total, 121 municipalities were affected and 1,000 people (425 families) were evacuated. No injuries were reported.\",\"Montreal and Mauricie Region QC\"],[\"Ottawa ON, August 8, 1996.\",\"Ottawa ON\"],[\"Saguenay River Valley QC, July 19, 1996; 290 mm of rainfall in less than 36 hours and caused at least 10 deaths.  Thousands of homes, roads and bridges washed out; Downed power lines.  A total of 15,825 people had to leave their homes.  At least 20 major bridges heavily damaged.  Greater than 50 towns and villages inundated, or main roads destroyed and electricity cut off.  Aluminium plants and paper mills slowed or closed for a month.  At least 3,200 industry workers idling.  3 schools closed. The Canadian Red Cross sent 1600 volunteers to set up a temp office and evacuate people. Overall they assisted 16,000 people.\",\"Saguenay River Valley QC\"],[\"Atikokan ON, July 5-6, 1996.\",\"Atikokan ON\"],[\"Lesser Slave Lake area AB, June 17-21, 1996. Large amounts of rainfall and a high water table caused flooding. Extensive damage was done to agricultural lands, farms, municipal roads, public works, private property, businesses and residential communities. There were over 700 claims received for property damage. Minor damage occurred to primary highways and bridges, and some dykes were destroyed.  The most severely affected communities were along Driftpile River, Swan River, East Prairie River and Arcadia River. Driftpile First Nation Reserve, Sucker Creek First Nation Reserve, Swan River First Nation Reserve, Municipal District of Big Lakes #125 and East Prairie Metis Settlement incurred damage. In total, 922 people were evacuated.\",\"Lesser Slave Lake area AB\"],[\"Timmins and Dufferin counties ON, May 17-19, 1996.\",\"Timmins and Dufferin County ON\"],[\"Red River, Souris River, Assiniboine River and Pembina River MB, April 18 - May 8, 1996. Heavy rainfall in the winter, high soil moisture levels and an unseasonably cool spring led to flooding. Thick ice flows and flood water caused damage to bridges, telephone cables, small businesses, roads, agricultural lands, and other community infrastructure. Small communities within the vicinity of Red River, Souris River, Assiniboine River and Pembina River were inundated. Thousands of customers went without telephone service for a week and 285 people were evacuated.\",\"Red River, Souris River, Assiniboine River and Pembina River MB\"],[\"Sunny Valley AB, 1996.\",\"Sunny Valley AB\"],[\"Southwestern British Columbia, November 27-29, 1995. Heavy rains and melting snow caused the Tulameen and Similkameen Rivers to overflow their banks in four regions: East coast of Vancouver Island, Mainland Coast, Mainland Coastal Valleys and the Interior Valley. The flooding forced 230 people to flee their homes in Princeton, Tulameen and Coalmont. A State of Emergency was declared in Princeton, a town of 2,800 people. Provincial, municipal and private sector properties were damaged. Some homes faced major structural repairs. There were actually three periods of heavy rains: Nov. 7-8, Nov. 13-17 and Nov. 27-29 when 135.4 mm, 395.0 mm and 650.6 mm of precipitation fell, respectively.\",\"Southwestern British Columbia\"],[\"Southern Alberta, June 6-9, 1995. Heavy rain and snowmelt led to flooding. The most extensive damage occurred from the Oldman and South Saskatchewan Rivers from Crownest Pass to Pincher Creek, Lethbridge and Medicine Hat. This includes the southern areas of High River. Roads, property, riverbanks, trails, agricultural land and over 20 bridges were damaged. More than 215 homes had flooded basements and some experienced short power outages.\",\"Southern Alberta\"],[\"Southeast region of British Columbia, June 5-9, 1995. Significant amounts of rainfall in the southern Rockies caused flooding in the East Kootenay (Elk River Watershed) Region. Provincial, municipal and private sector properties were damaged in the Kootenay Region and in the municipalities of Sparwood, Fernie, Princeton, Cranbrook and Erickson. There were 36 homes damaged, 2 road bridges and 1 CPR rail bridge washed out. On June 6, 702 residents were evacuated from Fernie and 100 residents evacuated from Sparwood.  The evacuations lasted until June 9.\",\"Southeastern British Columbia\"],[\"East Kooteny (Elk River-Watershed) Region and in the municipalities of Sparwood, Fernie and surrounding areas BC, June 1995.  Severe flooding due to heavy rains.\",\"East Kooteney (Elk River-Watershed) Region and the municipalities of Sparwood, Fernie and surrounding areas BC\"],[\"Western MB, April 1995.  In April, rapid snowmelt sent very high flows into the Assiniboine River and the Red River below the Shellmouth Dam.  Spring runoff and two heavy snowfalls of 20-30 cm each in late March had contributed to the flooding problem.  Public road networks, urban and rural properties and agricultural lands suffered damage. Damage occurred at over 100 locations on the provincial highway system, at over 5500 sites on municipal roads and to large culverts and bridges.  Seventy communities were inundated in Manitoba, including: Roblin, Russell, Binscarth, Birtle, Glenora, Pilot Mound, Melita, Virden, Elkhorn, Boissevain, Springfield, Brandon and Minnedosa. The hardest hit areas were Brandon and Shellmouth along the Assiniboine River.  Both a small town of 50 people and the Sioux Valley First Nations Reserve were evacuated. Refer to the Saskatchewan entry for more information on this weather system.\",\"Western MB\"],[\"Northeastern Saskatchewan, April 1995. An unusual quick thaw combined with spring rain early in the season caused extensive flooding in Eastern Saskatchewan.  The flooding caused damage to agricultural lands, urban, rural, public and private properties. Numerous Saskatchewan communities declared a State of Emergency, including: Quill Lake, Engleford, Langeburg and the City of Melville. Other inundated areas were: Carrot River, Moosomin, White Sands, Yorkton, Melfort and Nipawin. Refer to the Manitoba entry for more information on this weather system.\",\"Northeastern Saskatchewan\"],[\"Poplar Bay AB, 1995.\",\"Poplar Bay AB\"],[\"Quebec, 1995.\",\"Quebec\"],[\"Plaster Rock NB and Lower St. Lawrence Region, QC, April 16-26, 1994. Freshet during the spring and one rainstorm caused flooding of the Saint John and Miramachi Rivers. Flooded basements, riverbank erosion and damaged roads was incurred by private, municipal and provincial property. Over 130 residences, 20 farms, 14 small businesses and the following 4 municipalities were affected: Village of Clair, St. Fran?ois, Rivi?re Verte and Plaster Rock.  In Quebec, ice jams along the Matap?dia, Restigouche and Gasp?sie Rivers caused flooding. Thirty-two municipalities were flooded, including the following: Rimouski, Matane, Bonaventure, Restigouche, Matap?dia, Petite Cascap?dia and Capchat. Matap?dia was isolated for 2 days without electricity or telephone service; 100 people were evacuated. Three bridges were washed away in the lower St. Lawrence area, and communication between southern and northern St. Lawrence shore was cut.\",\"Plaster Rock NB and Lower St. Lawrence Region QC\"],[\"Southern ON, January 16-17, 1994.\",\"Southern ON\"],[\"Saskatchewan, July 29, 1993.\",\"Saskatchewan\"],[\"Quebec, July 29-30, 1993.\",\"Quebec\"],[\"Winnipeg MB, July 25 - August 14, 1993. The City of Winnipeg was declared a disaster area because of flooding caused by prolonged heavy rainfall; three severe rainstorms in a five-week period during July caused sewer backups and other extensive damage to homes, power lines, and agricultural land infrastructure in Winnipeg and surrounding areas including Selkirk, Springfield and Beausejour.  Wettest summer in Winnipeg in 120 years.\",\"Winnipeg MB\"],[\"Swan River MB, July 4, 1993. Prolonged rains resulted in severe flooding in the rural municipalities of Swan River, Minitonas, Ethelbert, the Local Government district of Mountain and adjoining municipalities, causing extensive damage to homes, public utilities and municipal infrastructure. 7 bridges washed away.  3 highways and numerous roads closed. 650 homes were evacuated.\",\"Swan River MB\"],[\"Upper Saint John River valley NB, April 1993. Intense spring rainfall and deeper than normal snowpack caused flooding of the Upper Saint John River valley. Public and private property and municipalities incurred damage; individuals made over 300 damage claims due to flooded basements. A sewage treatment plant, sections of the TransCanada Highway and Hotel-Dieu Hospital all sustained damage. Ice, mud and uprooted trees were scattered across the area. The following communities were inundated: Siegas, Fredericton, Rivi\\u00e8re Verte, Village of Perth-Andover, Village of Plaster Rock, Ste. Anne de Madawaska, Town of Woodstock, St. Fran\\u00e7ois and Quisesibis.\",\"Upper Saint John River Valley NB\"],[\"Elmira ON, August 28, 1992.\",\"Elmira ON\"],[\"Toronto ON, July 31, 1992.\",\"Toronto ON\"],[\"Yukon rivers YT, June 17 ? July 1992. Above-average snowpack and precipitation combined with high winter temperatures caused flooding along the Upper Liard River basin, Teslin River basin, South Canol Area, Upper Lakes of the Yukon River basin, Stewart River and Bennett Lake.  The Upper Liard River basin peaked on June 17, the fifth highest record since 1960; Teslin River peaked on June 25, breaking the old record set in 1947; Yukon Upper Lakes peaked on July 30, the 3rd highest record since 1951. Flooding caused road washouts, damage to private property and reserves, and significant threats to water and sewere facilities. The hardest hit communities were: Upper Liard, Carmacks, Carcross and Teslin.\",\"Yukon Rivers YT\"],[\"Sainte-Brigitte-de-Laval, about 40 km north of Qu?bec City QC, March 12, 1992. Approximately 40 people were airlifted from this community on Ile Enchanteresse (a mile long island 40km north of Qu\\u00c3\\u00a9bec City) when flood waters caused by an ice jam on the Montmorency River rapidly inundated the town, flooding 80 houses; two Qu\\u00c3\\u00a9bec government helicopters and one Canadian Forces helicopter were used in the evacuation.\",\"Sainte-Brigitte-de-Laval, about 40 km north of Qu?bec City QC\"],[\"Peace River, 388 km northwest of Edmonton AB, February 28 - March 4, 1992. Unseasonably warm weather broke up the frozen Peace River, ice jams caused water levels to rise 4.3 m above average; water levels peaked at 15 m; extensive flooding necessitated the evacuation of approximately 3800 residents of the town for at least three days; approximately 20 homes sustained severe damage, 30 others were damaged but could be occupied; no deaths or injuries were reported.\",\"Peace River AB\"],[\"Lethbridge AB, 1992.\",\"Lethbridge AB\"],[\"Southwestern British Columbia, August 29 to September 1, 1991. Heavy rains caused extensive damage in the Southwestern area of BC, mainly surrounding Vancouver and the Chilliwack area. More specifically: in the South Central region, Bella Coola, Chilcotin, West Central Region, Southwest Region, Fraser Columbia, Kooteney, Similkameen and Peace Regions.\",\"Southwestern British Columbia\"],[\"Old Crow YT, May 8-9, 1991. Ice jams caused the Porcupine River to overflow and flood the community of Old Crow. Over half of the buildings sustained damage, including 32-40 homes, the church, the school,  the airport runway and terminal building, the Nursing Station and Co-op Store. Supplies, electrical systems and generators were also damaged.\",\"Old Crow YT\"],[\"Chaudi?re River QC, April 7-8, 1991. Residents along the Chaudi?re River, south of Quebec City, experienced the highest flood levels in several years; many homes and businesses were damaged by water and ice. 1000 residents were evacuated.  Telephone poles knocked down, cars crushed by the weight of ice, flooded basements.\",\"Chaudi?re River QC\"],[\"Newfoundland, December 9, 1990. Heavy rain caused this damaging flood.  Up to 100 millemetres of rain fell on the area, forcing the closure of highways, flooding homes and damaging bridges.\",\"Newfoundland\"],[\"Southwestern British Columbia, November 8-13, 1990; 309 people evacuated and eight homes destroyed; heavy rains caused widespread flooding over a wide area of southwestern British Columbia and Vancouver Island; the British Columbian interior was cut off from the coast for several days as highways were shut down by landslides and road washouts.\",\"Southwestern British Columbia\"],[\"Woodstock area NB, August 1990. Flooding was caused by heavy rains.\",\"Woodstock NB\"],[\"Western Alberta, May 25 - July 4, 1990. Heavy rains caused extensive flooding and runoff damage in a number of communities in Alberta during several separate periods. Rains fell from Peace River in the north to High River in the South. Flooding caused damage to public works, businesses, First Nation reserves, farmland, and extensive damage of private residences. Sewers backed up, roads and bridges washed out. The communities most affected were: Thorsby, Winfield, Calman, Mudhurst and Bentley. During late May, several rivers were 1.3-3m above their normal level and  on July 2-3, 100150 mm of rain fell on Central Alberta in 36 hours. Over 200 homes were damaged by flooding, and 4 were destroyed. 1 man drowned while crossing a river, and a woman was missing. * During the two week time period, approximately 34 families and 85 people were evacuated.\",\"Western Alberta\"],[\"Southwestern British Columbia, November 8-12, 1989. A rainstorm which caused flooding occurred in southwestern British Columbia. Over 500 homes were flooded, a salmon hatchery incurred damage, and many service roads were washed away. Parts of the TransCanada highway were blocked with mudslides. The flooding also caused damage to the Coquihala highway and to the Owekena First Nation reserve; 28 residents of this reserve were evacuated.\",\"Southwestern British Columbia\"],[\"Harrow and Colchester South, Essex County ON, July 19-20, 1989. Widespread flooding due to 450 mm of rain in a 30-hour period; the rainfall was from an intense thunderstorm which was centred over Colchester South and appeared to be stationary over Harrow for most of its duration. Many were evacuated from areas of extreme flooding and erosion; a few injuries were reported, no deaths; utility service in some areas was disrupted.  Kent and Leamington counties were also affected.\",\"Harrow, Kent, Essex, Leamington counties ON\"],[\"Liard River NT, May 1-9, 1989. Flooding, caused by severe ice jams near 3 Mile Island, damaged the community of Fort Liard.  A State of Emergency was declared on May 1 due to the high water levels, 1 m in some areas.  Water built up when the ice jam reached Fort Simpson and the town of Hay River was also damaged. Personal, municipal and territorial property was damaged, riverbanks were eroded. Over 50 homes were affected by the flooding and 125 people were evacuated, there was no loss of life.\",\"Liard River NT\"],[\"Lesser Slave Lake area AB, July 5-8, 1988. A severe rainstorm which started on July 5 1988, brought up to 160 mm of rain to the Town of Slave Lake and surrounding areas. This caused overbank flooding and log jams on Sawridge Creek, Driftpile River and Swan River. Individuals, small businesses, farms, a hospital, and government property sustained damage. Major highways north of Edmonton to Slave Lake were closed. Over 800 homes flooded, 500 of them severely damaged. Approximately 2800 residents were evacuated from the area.\",\"Lesser Slave Lake region AB\"],[\"Duck Mountain and Swan River MB, April 1, 1988. A sudden thaw along with excessive rain produced severe flooding in the Duck Mountain-Swan River area of Manitoba. Damages occurred  to private, municipal and provincial property.\",\"Duck Mountain and Swan River MB\"],[\"Montreal QC, July 14, 1987. The city experienced severe thunderstorms and intense rainfall with 100 mm of rain in 1 hour. Major expressways were flooded with over three metres of water; in 30 minutes the subterranean Decarie Expressway was flooded with 3.6 metres of water; the sewer system was backed up, flooding approximately 40,000 homes and businesses; the subway system was closed; 2 dead: one from drowning in his car and the other was electrocuted.  There was also a tornado caused by the severe thunderstorm which uprooted large trees and toppled hydro lines.\",\"Montreal QC\"],[\"Perth-Andover NB, April 2, 1987. Serious damage occurred when an ice jam formed during snowmelt and heavy rainfall caused severe flooding; the railway bridge spanning the Saint John River was destroyed; 17 rail cars spilled mildly toxic water-soluble chemicals into the water; a State of Emergency was declared; mass evacuations were necessary.\",\"Perth-Andover NB\"],[\"Saskatchewan and Alberta, July 16-24, 1986.  A flood occurred on the North Saskatchewan River, several of its tributaries and on tributaries of the Athabasca River.  On July 22 and 24, Battleford and Prince Albert respectively experienced flooding. The floods resulted from heavy precipitation in the mountains, foothills and Great Plains regions, compounded by high antecedent soil moisture conditions.  Crops were destroyed and farm buildings were damaged.  Hundreds of homes were flooded and severe erosion occurred in some communities causing road and bridge damage and several washouts.  The extensive flooding also caused an overflow in several municipal sewer systems leading to sewer collapse. The event resulted in one death. Refer to the Alberta entry for more information on this weather system.\",\"Saskatchewan and Alberta\"],[\"North-central Alberta, July 13-24, 1986. Very heavy precipitation caused the McLeod, Pembina, the Athabasca rivers and the North Saskatchewan River and its tributaries to overflow and flood the North Saskatchewan River valley in Edmonton (July 19) and hundreds of smaller communities. Extensive damage occurred in low-lying residential areas, agricultural lands, crops, farm property and buildings. Municipal and provincial infrastructure was also damaged. 1500 homes were damaged. Refer to the Saskatchewan entry for more information on this weather system.\",\"North-central Alberta\"],[\"Icelandic and Fisher Rivers MB, April-June 1986. Little warning preceded the flood on April 1, 1986, which continued on until the end of June. A sudden spring thaw and enormous amounts of rain caused this severe flooding throughout Manitoba. Extensive damage to private, municipal and provincial property was incurred. The areas surrounding Icelandic River and Fisher River were inundated, including Peguis and Fisher River First Nation reserves (148 people were evacuated from Peguis). Major areas affected were the Dauphin Region, Portage la Prairie and the Northern Interlake regions.\",\"Icelandic River and Fisher River MB\"],[\"Pemberton area BC, October 6-8, 1984. Persistent heavy rains over three days caused severe flooding in the Pemberton, Squamish, and Lion's Bay areas; 300 people were evacuated; the flood caused one death.\",\"Pemberton area BC\"],[\"Lower Fraser River Valley BC, January 4-5, 1984. Heavy rainfall and snowmelt caused flooding in southwestern British Columbia; transportation was disrupted as debris jams and water obstructed traffic on Highway 1; several problems were caused by flooding and washouts; there was a mudslide and a bridge washout, and sections of CP and CN railway track were washed out as well as damage to a fish hatchery.\",\"Lower Fraser River Valley BC\"],[\"Gasp?sie and lower north shore of Gulf of St. Lawrence River QC, December 7-8, 1983. High tides and violent winds from a severe storm caused flooding along the Gasp?sie and Gulf of St. Lawrence shores along with landslides; damage, partially wind related, was widespread; several wharves, ships, and roads were damage; several homes and cottages were flooded; the communities of Chandler, La Martre, Sainte-Anne-des-Monts and Longue-Pointe were affected.\",\"Gasp?sie QC\"],[\"Central, southern, and western Newfoundland, January 11-19, 1983. Due to mild temperatures and excessive rainfall from a major Snowstorm, homes and highways were damaged along the Exploits and Gander Rivers (central), the Conne River (southern), and in Stephenville (west coast); the flood occurred after 189 mm of rain fell within a 36-hour period, destroying several homes, businesses and other infrastructure worth approximately $4 million; several homes, two railway cars and a local club were washed away; approximately 500 people were evacuated; numerous washouts along many central highways forced travellers to seek refuge; no loss of life or personal injury was reported; flooding in the Exploits and Gander River basins resulted in partial damage to the dam and power house in Bishop's Falls on the Exploits River. >60 homes were flooded\",\"Central, southern, and western Newfoundland\"],[\"Aklavik NT, June 1-6, 1982. Late in May, three separate ice jams occurred downstream of Point Seperation causing backwater flow to be diverted down the Peel Channel. As a result, the remote settlement of Aklavik experienced significant flooding. Flood waters damaged numerious homes in Aklavik and left debris scattered along the settlement's airstrip. On June 3, flood water reached a peak level of nearly 11 metres. It is estimated that 95 per cent of the Mackenzie Delta was under water. This event was the most severe flood event to occur in the region since 1961.\",\"Aklavik NT\"],[\"Hay River NT, 1982.\",\"Hay River NT\"],[\"Southeastern ON, February 18-20, 1981. The Ottawa and Rideau River basins in southeastern Ontario, as well as Toronto suffered flood damages.\",\"Southeastern ON\"],[\"Sussex NB, 1981. Floods caused the evacuation of 20 families (assume a family of 4) and damage to property.\",\"Sussex NB\"],[\"Squamish River BC, December 26-27, 1980. A combination of heavy rain and melting snow caused floods along the Squamish River and other nearby rivers; flooded areas such as Brackendale, Squamish, Princeton, Coalmont, Hope and Vancouver Island. Several bridges were washed out.  An estimated 3000 people had to be evacuated and 200 homes were damaged.\",\"Squamish River BC\"],[\"Vancouver Island BC, December 18, 1979. A continuous downpour of heavy rains and strong winds caused great damage from flooding and mudslides. Campbell, Gold and Oyster Rivers on Vancouver Island were flooded. On the mainland, Surrey, Haztic, Port Moody, Squamish and some First Nation Reserves reported damage of public, private and municipal buildings/land due to flooding. Water, 15 to 30 cm deep, led to the damage of roads, bridges, and the Western Speedway.\",\"Vancouver Island BC\"],[\"Dawson YT, May 3, 1979. An ice jam on the Yukon River caused water to rise 2 m, flooding 80% of Dawson's buildings.\",\"Dawson YT\"],[\"New Brunswick, April 24 - May 7, 1979. Rainfall and heavy snowmelt caused extreme flood conditions in most parts of the province; record-breaking discharge was seen at some hydrometric stations. Several major highways were closed, and many residents evacuated when their homes were inundated by flood waters.\",\"New Brunswick\"],[\"Red River region MB, April-May 1979. A major flood, close to flood levels of the 1950 flood, hit the Red River region; most of the damage occurred in the valley; no communities were flooded as the dykes protecting them were temporarily raised; 10,000 people were ordered to evacuate: 1450 residents were evacuated in the town of Morris and 400 from the Roseau Reserve; livestock and poultry were also evacuated.\",\"Red River region MB\"],[\"Kicking Horse Pass, Alberta - British Columbia border, November 1978. Debris flows triggered by a j?kulhlaup (sudden and rapid draining of a glacier dammed lake or of water impounded within a glacier) from Cathedral Glacier destroyed three levels of Canadian Pacific Railway track, derailing a freight train; sections of the TransCanada Highway were also buried.\",\"Kicking Horse Pass, Alberta - British Columbia border\"],[\"Northwestern British Columbia, October 29 - November 7, 1978. Northwestern BC was hit by two floods. The first was due to a major storm system which struck October 29 to November 1. The second flood was caused by heavy rainfall and mixture of snow and rain occurring between November 4 and 7. Flooding occurred collectively along the Skeena and Nass rivers, and on the Queen Charlotte Islands. The Terrace-Kitimat region was declared a disaster area as the local economy was severely disrupted by the flooding and loss of communication links. Kitimaat Village and Thornhill were also affected while Lakelse Lake and Old Remo areas were the worst hit by flooding with dozens of homes flooded.  Numerous bridges were damaged and destroyed, roads and highways were washed out in many places, and the railway line between Smithers and Terrace was closed because of the flooding. A CN Rail track was undermined ? a train engine fell into the Skeena River, causing the deaths of two people.\",\"Northwestern British Columbia\"],[\"Edmonton AB, July 10-11, 1978. A highly localised rainstorm and subsequent runoff exceeded the capacity of Edmonton's sewer system, causing a severe urban flood. Approximately 90 mm of rain was dumped in 1618 hours although most of the rain fell within a 4-hour period. Roads and bridges were damaged, soil was eroded, basements were flooded and sewers were backed up. Brief telephone and power failures were also reported. The areas of Raymond, Lethbridge, Milk River and Coutts were also affected.\",\"Edmonton AB\"],[\"Newfoundland, January 14-16, 1978. Unseasonable weather conditions caused flooding of  the Grand Codroy River on the west coast of Newfoundland. The Grand Codroy River Bridge (standing since 1926) required major reconstruction because it collapsed under pressure of ice floes in the flooded river. The loss of a link between the north and south sides of the river stranded 1500 residents of Codroy, Melville, Cape Anguille and O'Regans. In addition, 244 m of telephone cable previously attached to the bridge were destroyed, leaving the four communities without phone service. In April 1978, a temporary single-lane bridge constructed 16 km downstream from the original bridge.\",\"Newfoundland\"],[\"Assiniboine River MB, April 1976. Record flooding was reported.\",\"Assiniboine River MB\"],[\"Saint John River Basin NB, March 31 ? April 5, 1976. Town of Woodstock, Villages of Hartland, Ste Anne de Madawaska, Perth-Andover and Green River, New Brunswick; some river systems in the northeast of New Brunswick were also affected; cyclonic storms and high snowmelt rate contributed to cause severe ice jam flooding, inundated regional highways and municipal streets as well as railroads and bridges; massive ponds formed in some residential areas; losses in crops and livestock; a State of Emergency was declared; 400 people were evacuated as the flood submerged about 200 homes, several businesses, and a junior high school; 2 people died, one from a trail derailment, the other drowned.\",\"Saint John River Basin NB\"],[\"Saskatchewan, March - April 15, 1976. During the spring season, there was large amount of rainfall in many areas of Saskatchewan. Flood damage to hospitals, churches, private property, small businesses and farmland occurred. Roads also required raising. Areas affected were the following: Souris River, Moose Jaw River, Qu'Appelle River, and Qu'Appelle Lakes.\",\"Saskatchewan\"],[\"Quebec, March 1, 1976. Province-wide flooding caused by an unusually wet spring combined with heavy runoff from spring snowmelt affected several areas of the province; most notably the Lower St. Lawrence/Gasp?sie, Saguenay/Lake St. John, Quebec, Montreal, Trois-Rivi?res, Eastern Townships, Abitibi/Temiscamingue and Outaouais areas. In total, approximately 104 communities located along and in the vicinity of the Souris and Assiniboine River were flooded. Public, private and municipal land was damaged.\",\"Quebec\"],[\"Regina SK, June 25, 1975. Over 120 mm of rain fell of Regina and the surrounding area, causing major property damage.\",\"Regina SK\"],[\"Saskatchewan, April-May 1975. An extremely high snow accumulation combined with long periods of rain during the runoff period led to the spring flooding of Saskatchewan. The annual flood volume was 5 times above average.  Both the North and South Saskatchewan Rivers experienced flooding, along with the Qu\\\\'Appelle River basin.  Damage to homes, small businesses and public works occurred in 69 municipalities and 1 village. There were eroded banks, damaged churches, hospitals, roads and farmland. Losses in livestock and grains were reported. Raising of road grades was necessary.\",\"Saskatchewan\"],[\"Saint John River NB, April 29, 1974. Heavy spring runoff and ice jams caused flooding along the Restigouche and Saint John Rivers beginning on April 29 and continuing to the middle of May. Major areas affected were along the Saint John River from Mactaquac through Fredericton to Maugerville and Sheffield. Residential property, private property, small businesses, schools, public property, churches and other buildings sustained damages. Highways, roads and bridges were flooded over and washed out. There were crop and livestock losses, also major damage to the fishing industry. Some minor flooding occurred along the following rivers: Keswick, Nashwaak, Tay, Oromocto and Jemseg.\",\"Saint John River Basin NB\"],[\"Central and Southern Manitoba, April-May 1974. Severe flooding occurred in central and southern Manitoba on practically all rivers and river systems; many people had to be evacuated; although the natural discharge of water was greater than the flood in 1966, the city of Winnipeg avoided major damage due to the Red River Floodway, the portage Diversion, and the Shellmouth Dam, which were flood control programs intentionally set-up to reduce flooding in Winnipeg.\",\"Central and Southern Manitoba\"],[\"Central and Northern AB, Spring 1974.  Adverse weather and flooding had major impacts in most of Alberta.  Heavy snowfall accumulations prevented the harvest of 1973 crops.  Farmers could not plant 1974 seeds either since the soil was saturated.  Spring flooding damaged private property, agricultural lands, livestock, roads, and bridges.\",\"Central and Northern Alberta\"],[\"Saskatchewan, 1974. In the winter of 1974, near-record snowfall resulted in extensive spring flooding across the province; farms and ranch land were flooded, while roads and bridges were damaged along the Carrot and Red Deer rivers; the communities of Pierceland and Green Lake on the Beaver River were affected; the cities of Moose Jaw, Regina and Lumsden, on the Qu'Appelle River basin, received major flood damage; in Moose Jaw, the Moose Jaw River, Thunder Creek and Spring Creek overflowed their banks and caused the flooding of 60 city blocks (including 480 homes) and the evacuation of 1400 people (April 18 and 19); the Wascana Creek overflowed its banks in Regina.\",\"Saskatchewan\"],[\"Maniwaki QC, January-June 1974. Over 300 municipalities were affected by the province-wide flooding caused by an unusually wet spring combined with excessive runoff of spring snowmelt;  flooding centred on the Gatineau, Ottawa, Richelieu, Saint Lawrence, Chateauguay, Saint-Maurice, and Chaudi?re Rivers; over 1000 homes and 600 summer cottages were flooded; approximately 7000 people were evacuated; in Maniwaki, damages were high as 3000 residents had to be evacuated; the communities of Wakefield, Chelsea, and Pointe-Gatineau, downstream from Maniwaki, were also affected.\",\"Maniwaki QC\"],[\"Saint John River basin NB, April 27 - May 5, 1973. The Sheffield-Maugerville area (downstream from Fredericton), and Fredericton were some of the communities that were flooded; the pulp and paper industry was affected.  The centre of the Province reported 68 mm of rain.  The 60 cm of snow on the frozen ground increased the volume of water which was running into the river.  Over 2,500 private homes were flooded and 536 families (1,600 persons) were forced to evacuate their homes in the central part of the Province.  Only one death has been attributed to the flooding.  Major losses to crops have resulted from the high water, erosion, and loss of greenhouse plants.\",\"Saint John River Basin NB\"],[\"Fraser River at Prince George BC, May 1972. Freshet flooding caused significant damage along the Fraser River; an above-average snowfall, and substantial mountain snowpacks, followed by high temperatures in late May resulted in severe flooding at the end of May and into June; the Fraser River peaked three times in June, flooding both the upper and lower Fraser River Valley, affecting several communities (upstream communities of Kamloops and Prince George, and downstream communities of Surrey and Hope).\",\"Prince George BC\"],[\"Saint John River basin NB, February 2-6, 1970. Snowmelt, ice jams and heavy rainfall caused flooding in New Brunswick; a series of ice jams in six rivers caused the destruction of 32 bridges and caused the damage of 124 other bridges. Extensive damage was done to private homes, farmsteads, farm equipment, fishing gear,  industrial and commercial companies. Over 600 properties were damaged.  One person died when a barn collapsed, and two others drowned.\",\"Saint John River Basin NB\"]],\"hovertemplate\":\"EVENT TYPE=Flood<br>NORMALIZED TOTAL COST=%{marker.size}<br>INSURANCE PAYMENTS=%{y}<br>COMMENTS=%{customdata[0]}<br>PLACE=%{customdata[1]}<extra></extra>\",\"legendgroup\":\"Flood\",\"marker\":{\"color\":\"#00cc96\",\"size\":[0.0,1418224.3,0.0,21613457.9,0.0,3043551.4,0.0,0.0,0.0,0.0,929089.5,1418674.1,626070.3,45928338.8,132690977.2,0.0,188775.7,74137.1,11910714.9,330320.5,0.0,975086.3,0.0,1664286.9,1919449.5,0.0,0.0,35023386.2,4084003.3,257510.7,1350231.8,0.0,0.0,161459.2,53133218.9,398202.8,0.0,0.0,24080.2,104895.1,4012552.4,237029.4,1104294.5,0.0,0.0,24189.3,0.0,0.0,0.0,0.0,0.0,0.0,403587.4,516591.9,6769506.7,0.0,0.0,172731.2,0.0,0.0,177954.9,400584.0,1035238.6,536499.1,193750.0,7236414.8,2076601.2,81190.9,36315.0,0.0,127749.6,0.0,326647.6,131946.9,522896.8,1487506.7,404749.4,139021.7,273242.4,963250.9,622574.9,418551.2,0.0,0.0,572017.6,1284809.3,1025191.8,353952.4,183494.4,238194.6,317264.0,93091.5,565217.6,7052451.0,110904.5,1448441.0,1823111.8,370434.9,44094.2,2662479.3,33087184.3,3143926.6,87575.8,6282747.8,1438110.2,20247469.1,18766.8,1225633.1,25549.4,460047.9,6769.9,1290083.7,10590637.4,490116.9,490116.9,288057.9,518656.2,2454.1,3936.8,3992464.3,1001096.8,455867.0,702142.9,15056583.3,402220.2,1049524.9,338467.1,381281.4,16331.1,72307.9,204740.8,15662.6,1253631.9,39615.4,266811.9,178146.2,2252055.7,127551.0,1694949.2,252426.6,1107513.4,87816.4,2974434.4,195770.0,5624818.8,689543.1,1636262.8,1174752.8,264639.2,395951.7,398989.1,5559174.6,657608.4,15454.9,62603.7,202253.3,2696.7,1383136.4,396400.5,278100.0,484147.5,2783595.5,3293008.7,1357009.0,261901.6,858324.4,876868.7,188102.9,375782.1,3954983.9,585149.4,391831.4,183329.5,3325891.8,1953893.1,1514152.7,4984382.3,1858728.8,1452054.8,1104532.0],\"sizemode\":\"area\",\"sizeref\":761618.9102500001,\"symbol\":\"circle\"},\"mode\":\"markers\",\"name\":\"Flood\",\"orientation\":\"v\",\"showlegend\":true,\"x\":[0.0,1418224.3,0.0,21613457.9,0.0,3043551.4,0.0,0.0,0.0,0.0,929089.5,1418674.1,626070.3,45928338.8,132690977.2,0.0,188775.7,74137.1,11910714.9,330320.5,0.0,975086.3,0.0,1664286.9,1919449.5,0.0,0.0,35023386.2,4084003.3,257510.7,1350231.8,0.0,0.0,161459.2,53133218.9,398202.8,0.0,0.0,24080.2,104895.1,4012552.4,237029.4,1104294.5,0.0,0.0,24189.3,0.0,0.0,0.0,0.0,0.0,0.0,403587.4,516591.9,6769506.7,0.0,0.0,172731.2,0.0,0.0,177954.9,400584.0,1035238.6,536499.1,193750.0,7236414.8,2076601.2,81190.9,36315.0,0.0,127749.6,0.0,326647.6,131946.9,522896.8,1487506.7,404749.4,139021.7,273242.4,963250.9,622574.9,418551.2,0.0,0.0,572017.6,1284809.3,1025191.8,353952.4,183494.4,238194.6,317264.0,93091.5,565217.6,7052451.0,110904.5,1448441.0,1823111.8,370434.9,44094.2,2662479.3,33087184.3,3143926.6,87575.8,6282747.8,1438110.2,20247469.1,18766.8,1225633.1,25549.4,460047.9,6769.9,1290083.7,10590637.4,490116.9,490116.9,288057.9,518656.2,2454.1,3936.8,3992464.3,1001096.8,455867.0,702142.9,15056583.3,402220.2,1049524.9,338467.1,381281.4,16331.1,72307.9,204740.8,15662.6,1253631.9,39615.4,266811.9,178146.2,2252055.7,127551.0,1694949.2,252426.6,1107513.4,87816.4,2974434.4,195770.0,5624818.8,689543.1,1636262.8,1174752.8,264639.2,395951.7,398989.1,5559174.6,657608.4,15454.9,62603.7,202253.3,2696.7,1383136.4,396400.5,278100.0,484147.5,2783595.5,3293008.7,1357009.0,261901.6,858324.4,876868.7,188102.9,375782.1,3954983.9,585149.4,391831.4,183329.5,3325891.8,1953893.1,1514152.7,4984382.3,1858728.8,1452054.8,1104532.0],\"xaxis\":\"x\",\"y\":[null,null,null,462528000.0,null,null,null,null,null,null,null,null,null,940000000.0,1700000000.0,null,null,null,241589000.0,null,null,null,null,33258000.0,38357000.0,null,null,null,null,null,null,null,null,null,null,null,null,null,null,null,null,null,null,null,null,null,null,null,null,null,null,null,null,null,null,null,null,null,null,null,null,null,null,null,null,null,null,null,null,null,null,null,null,null,null,null,null,null,null,null,null,null,null,null,null,null,null,null,null,null,null,null,null,null,null,null,null,null,null,null,232600000.0,null,null,78945080.0,21308000.0,null,null,null,null,null,null,null,21893670.0,null,null,null,null,null,null,null,14299000.0,5890000.0,8342000.0,199487780.0,null,null,4738539.0,5337940.0,null,null,null,null,null,null,null,null,null,null,null,null,13807000.0,null,21500000.0,null,44678000.0,null,null,null,null,null,null,null,null,null,null,null,null,null,null,null,null,null,null,null,null,null,null,null,null,null,null,null,null,null,null,null,null,null,null,null],\"yaxis\":\"y\",\"type\":\"scatter\"},{\"customdata\":[[\"West Kelowna BC, August 21-25, 2016. A wildfire broke out on the evening of August 21, near Bear Creek Provincial Park located north of West Kelowna. The Central Okanagan Regional District ordered an evacuation of 156 homes (approximately 468 individuals). In addition, campers from the Bear Creek Provincial Park were also evacuated. Firefighting crews quickly gained control of the blaze, which was 52 hectares in size and 60 per cent contained by August 22. Evacuation orders were lifted for 51 homes and campers were temporarily allowed into their campsites to remove possessions, vehicles and trailers on August 22. The wildfire was 100 per cent contained by January 25.\",\"West Kelowna BC\"],[\"Burns Bog BC, July 3-6, 2016. A wildfire 78 hectares in size burned in the Burns Bog Delta Nature Reserve, located near Surrey British Columbia. The fire prompted a local state of emergency due to its proximity to suburban residential streets and an industrial complex. Delta?s Tilbury Industrial Park, which is comprised of 25 commercial businesses, was evacuated on July 3 and workers were unable to return until July 6. A section of Highway 17, from Highway 99 to the Highway 91 connector, temporarily closed as the fire burned dangerously close to the road. Burns Bog is the largest raised peat bog and the largest undeveloped urban land mass in the North American west coast. Officials predict that it could take up to a century for the bog to be completely restored.\",\"Burns Bog BC\"],[\"Easterville and Chemanwawin MB, June 23-27, 2016. Evacuation orders were issued for the communities of Easterville and Chemanwawin Cree Nation, located 450 kilometres north of Winnipeg, due to smoke and the threat of a wildfire that came within half a kilometre of the two communities. There were three fires burning in the area at the time. The fire closest to Easterville and Chemanwawin reached a peak size of 350 hectares. Two water bombers, four bulldozers and seven ground crews kept the fire from reaching the communities. Approximately 2000 people from Chemawawin were evacuated and brought to Winnipeg and approximately 70 people from Easterville were evacuated and brought to The Pas. The Canadian Red Cross along with the help of the Indigenous and Municipal Relations (IMR) assisted with the coordination of the evacuation.\",\"Easterville and Chemawawin MB\"],[\"Fort McMurray AB, April 30 to June 1, 2016. In May 2016, wildfires broke out in northern Alberta resulting in the most expensive natural disaster in the history of Canada. The city of Fort McMurray, located in the heart of the Athabasca oil sands, was hit by a massive system of wildfires that swept through the Regional Municipality of Wood Buffalo. The first wildfire was discovered on April 30, north of Fort McMurray. The Regional Municipality declared a local state of emergency and a mandatory evacuation order for Centennial Park on May 1 as well as another evacuation order for Prairie Creek and Centennial Trailer Park on May 2. The Fort McMurray fire grew rapidly due to hot and dry weather conditions, doubling in size to 2,656 hectares in a manner of hours. On May 3, the wildfire intensified and crossed over Highway 63, cutting off the route to evacuees, prompting the Athabasca Chipewyan First Nation to declare a state of local emergency and a mandatory evacuation order for Fort McMurray?s Lower Townsite and downtown area, which included the communities of Gregoire, Beacon Hill, Abasand, Waterways, Draper, Saline Creek, Grayling Terrace, Thickwood, Wood Buffalo and Dickinsfield. Later in the day the entire city of Fort McMurray was under a mandatory evacuation order. During the evacuations two people were killed in a car crash. On May 4, the Alberta government declared a provincial state of emergency. The Fort McMurray fire quickly grew to 85,000 hectares as the wildfire spread further north and east eventually passing through Fort McMurray. Evacuees that fled north of Fort McMurray had to be air lifted to safety. Some evacuees were taken to Lac La Biche, while the majority where sent to Edmonton and Calgary. On May 10, two of the main Fort McMurray fires joined together and formed a massive blaze of 229,000 hectares. On May 16, all workers in work camps and oil sand operations north of Fort McMurray were forced to move south as the wildfire spread further north. Residents of Fort McMurray were allowed to return home on June 1. In total, the Fort McMurray fires burned approximately 579,767 hectares of land causing the evacuation of over 90,000 people and destroyed 2,400 homes and business, including 530 other buildings that were damaged. At its peak, there were over 2000 firefighters working the fires daily, including helicopters and water bombers. In addition, firefighters received help from 200 firefighters from the United States, 60 from Mexico and 298 from South Africa. Firefighters and emergency response personnel received help from the Canadian Red Cross who assisted with evacuation efforts.\",\"Fort McMurray AB\"],[\"Paul First Nation, AB, April 18-21, 2016. A state of emergency was issued for the Paul First Nation community located on Lake Wabumun, 70 km west of Edmonton. A large wildfire burned dangerously close to the community threatening 21 homes in the northeast corner of the reserve. The wildfire that destroyed one home forced the evacuation of 164 people outside the community of 1,100 residents. Wildfires burning around Edmonton destroyed two homes, injured two firefighters and destroyed one fire truck.\",\"Paul First Nation, AB\"],[\"Northern Saskatchewan, July 1-18, 2015. The 2015 wildfire season in Saskatchewan featured an unprecedented number of wildfires that consequently caused the biggest fire evacuation effort in Saskatchewan?s history to date. More than 13,000 people from 54 different communities had to be evacuated from their homes in Northern Saskatchewan due to over 720 wildfires that burned nearly 1.8 million hectares of land. The two most severely impacted communities were La Ronge and Montreal Lake. Approximately 7,900 residents of La Ronge Indian Band were forced to evacuate, while in Montreal Lake approximately 1,500 residents evacuated due to several wildfires that destroyed six buildings in the area. Up to 1,500 members of the Canadian Armed Forces were sent to the La Ronge area to assist firefighters.\",\"Northern Saskatchewan\"],[\"British Columbia, May 9 to September 11, 2015. The 2015 wildfire season in British Columbia was the worst on record, in terms of number of fires and hectares burned, to impact the province in 10 years. During the wildfire season that spanned from May to September, over 1,800 fires burned over 300,000 hectares of land. Approximately two thirds of the fires were caused by lighting. The season began early with the discovery of the Little Bobtail Lake fire on May 9. Many fires were within a close proximity of urban areas prompting evacuation orders and alerts across the province. A number of communities were affected by evacuation orders and alerts. Evacuation orders were issued for 141 homes in Joe Rich Kelowna, 70 homes in West Kelowna, 150 homes in Port Hardy and 110 homes in Testalinden, including others. In Puntzi Lake, 90 homes were evacuated and 18 structures were destroyed, while in Rock Creek 330 homes were evacuated and 30 homes as well as 15 other structures were destroyed. Across the province, 1,144 homes (approximately 3,432 individuals) were evacuated due to wildfires. BC Hydro was forced to cut power to certain communities as a precaution, like in West Kelowna where power was cut to 100 customers (approximately 300 individuals). Additional personnel and resources were needed to help battle to above average number of fires burning throughout the province including 310 out-of province firefighters as well as firefighters from Australia, South Africa and the United states. In total, 2,500 firefighters and support workers were working across the province during the peak of the wildfire season. One man was fatally injured while felling a danger tree at the Old Sechelt Mine fire.\",\"British Columbia\"],[\"British Columbia, July 1 to September 30, 2014. A significant heat wave across British Columbia in July and August led to record breaking dry conditions and ?high? to ?extreme? fire danger ratings in most of the province. Almost 360,000 hectares of land was burned ?the third highest in the history of the province. Over 4,500 people were forced to evacuate throughout the season with the largest evacuations taking place in West Kelowna where 2,500 people fled and Hudson?s Hope where 1,150 people fled in July due to wildfires. At its peak, over 3000 firefighters and frontline crews worked at combating the fires, and as a result, significant damage to infrastructure and communities was avoided. As of November 2014, the Government of British Columbia estimated it spent approximately $300 million dollars responding to wildfires for the 2014 season.\",\"British Columbia\"],[\"Northwest Territories, July 1 to September 18, 2014. Abnormally dry conditions and high temperatures fed peak wildfire conditions during the 2014 fire season. By mid-July, 168 separate fires were burning throughout the territory. Voluntary and mandatory evacuations were issued in June and July, most notably in the town of Kakisa where 60 residents were evacuated to Hay River and Fort Providence. The Taltson hydroelectric facility was temporarily shut down as a precautionary measure due to fires that threatened the main transmission lines. By the end of the wildfire season, over 3.5 million hectares of land was burned, the most in over 30 years. In total, 385 fires burned throughout the territory in 2014, 57 per cent more than the annual average. The Government of the Northwest Territories spent $55 million dollars fighting wildfires in 2014, more than eight times the average cost.\",\"Northwest Territories\"],[\"Vita MB, October 2-3, 2012.  The town of Vita, south of Winnipeg, declared a state of local emergency in the face of wildfires on October 2.  Fuelled by high winds and extremely dry conditions, the wildfire forced the immediate evacuation of approximately 300 people to nearby Steinbach where they were received at the Steinbach Mennonite Church. Evacuees were allowed to return home on October 3, as the fire passed the town and moved south. Three homes and one bridge in the area were destroyed. The fire also affected residents of the rural municipality of Tache and the community of Ross, 120 of whom were also evacuated until the fire passed.\",\"Vita MB\"],[\"Lethbridge and Coalhurst AB, September 10-11, 2012. Two large grass fires prompted local states of emergency and evacuations in southern Alberta. The first fire originated in the Blood Reserve near Coalhurst and Lethbridge. Approximately 2,200 residents in Coalhurst as well as residents in a Lethbridge trailer park were evacuated and sent to safe zones in Lethbridge. A second grass fire burned near the town of Milk River were approximately 800 people were evacuated to the nearby town of Raymond.  Both grass fires damaged several sheds and outbuildings and destroyed one house. There was also one fire related injury reported. Residents were allowed to return to their homes on September 10 in Coalhurst and September 11 in Lethbridge.\",\"Lethbridge and Coalhurst AB\"],[\"Peachland BC, September 9-12, 2012.  A forest fire was reported on September 9 in Trepanier Bench in Peachland, British Colombia. Strong winds at speeds estimated between 30 to 40 km/h spread the fire quickly. An evacuation order for approximately 1,550 residents went into effect on September 9.  The District of Peachland immediately opened Reception Centres to support evacuated residents. The Central Okanagan Emergency Operation Centre was in full operation and supported firefighting efforts from BC Wildfire Management, West Kelowna, Peachland, and Kelowna. The Regional District Parks Services closed the Trepanier Creek Greenway Regional Park until a hazard assessment was conducted and the area deemed safe for the public. Evacuated residents began returning on September 10 with the last 258 evacuees returning on September 12. Three homes and several buildings were destroyed during the fire.\",\"Peachland BC\"],[\"Sandy Lake ON, July 31 to August 6, 2012. The Sandy Lake First Nation declared a state of emergency due to the risk of smoke from wildfiresfires in northern Ontario. A total of 637 residents were evacuated to Thunder Bay and Fort Frances. Evacuees began returning to their homes on August 5, with the remaining evacuees allowed to return home on August 6.\",\"Sandy Lake First Nation ON\"],[\"Island Lake and Garden Hill MB, July 23 to August 1, 2012. The smoke from a wildfire forced the evacuation of hundreds of people from communities within the region of Island Lake and Garden Hill. By July 30, the total amount of evacuees had climbed to 1,428 and were sheltered in the communities of Brandon, Gimli, Morris, Portage la prairie, and Winnipeg.\",\"Island Lake and Garden Hill MB\"],[\"Mackenzie County AB, July 11-20, 2012. As many as 11 wildfires burned out of control in Mackenzie County in northwestern Alberta, leading to two community evacuations.  All Zama residents, including work camps were evacuated under a mandatory evacuation order on Tuesday, July 10 until July 20.  The Zama access road was closed and a controlled barricade was set up at the Assumption Bypass/Apache Road into Zama to ensure that only authorized personnel were allowed access.  A reception centre for evacuees was set up in the town hall of High Level. There were approximately 300 evacuees, including 134 from Zama and 164 from the Dene Tha? First Nation. The evacuation order was lifted July 17. Firefighters from Yukon, New Brunswick, Ontario, Alaska, and Mexico, along with helicopters and other equipment, joined over 300 firefighters already taking shifts to battle the fires in northern Alberta. Alberta?s Environment and Sustainable Resource Development (ESRD) provided sprinkling protection systems for all north end homes with additional sprinkling systems having been ordered to protect the homes located in the Zama interior.  A sprinkling system for the fireguard along the containment line was also provided by ESRD.  On July 17, Alberta Health Services issued an air quality advisory for residents in the La Crete area with respiratory concerns, advising them to visit the advanced ambulatory care centre located in the La Crete Community Health Centre. The advisory was lifted July 23.\",\"Mackenzie County AB\"],[\"North West River and Sheshatshiu NL, June 24-25, 2012. Two local states of emergency were declared when wildfires threatened the communities of North West River and Sheshatshiu. There were over 1000 residents who had to be evacuated and air lifted to safety. Approximately 700 evacuees were accommodated at Canadian Forces Base Goose Bay and 300 were accommodated in emergency housing in Happy Valley-Goose Bay. The evacuation order was lifted on June 25 and residents were allowed to return to their homes.\",\"Northwest River and Sheshatshiu NL\"],[\"North West River and Sheshatshiu NL, June 23-25, 2012. On June 23, the Department of Natural Resources Forestry Division recommended a mandatory evacuation of the communities of North West River and Sheshatshiu First Nation, located approximately 20 kilometers north of Goose Bay, due to smoke and the threat from wildfires. On June 24, both communities declared local states of emergency with residents being placed under immediate evacuation order. Fire and Emergency Services - Newfoundland and Labrador (FES-NL) coordinated the Provincial Government response activities in Labrador and a Provision of Service agreement with the Department of National Defence (DND) was activated.  Approximately 800 people were housed at Canadian Forces Base (CFB) Goose Bay and another approximate 300 people were also accommodated in emergency housing in Happy Valley-Goose Bay.  Many individuals also stayed with family, friends or in private accommodations in the Happy Valley-Goose Bay area.  The evacuation order was lifted on June 25 and the evacuees returned home.\",\"Sheshatshiu NL\"],[\"Timmins ON, May 24 to June 07, 2012. A state of emergency was declared when smoke from a wildfire approximately 70 kilometers wide threatened communities in and around Timmins, Ontario. Approximately 1000 residents from the region were evacuated as a precaution. The fire forced the temporary closure of some mining operations. On June 7, the fire was contained and residents were able to return home.\",\"Timmins ON\"],[\"Kirkland Lake ON, May 20-29, 2012. A wildfire near the town of Kirkland Lake forced the evacuation of approximately 300 people and caused the town to declare a state of emergency. Damage from the fire included a power line and an undetermined number of cabins in the Young Lake and Amikougami Lake area. Power outages affected local mining operations. All evacuated permanent residents returned to their homes on May 27. The Ontario Provincial Police reported that the fire originated from a campfire on the east side of Elsie Lake.\",\"Kirkland Lake ON\"],[\"Northern Ontario, July 6-25, 2011. A lighting storm on July 6 sparked a series of wildfires that spread throughout northern Ontario. Fire personnel were unable to gain control of the fires, which burned roughly 300,000 hectares of land. As of July 20, there were 112 wildfires burning in the region. Evacuation orders were put in place for communities in direct threat from the fires as well as those communities suffering from the impacts of smoke, power outages, food shortages and a lack of food storage capacity, since many communities are only accessible by air. The following evacuations occurred: 535 people from Deer Lake First Nations (FN), 260 people from Cat Lake FN, 50 people from Mishkeegogamang FN, 280 people from Eabametoong FN (Fort Hope), 197 people from Keewaywin FN, approximately 1000 people from Kingfisher Lake FN, approximately 770 people from Sandy Lake FN and approximately 200 people from North Spirit Lake. In addition, the entire communities of Keewaywin FN and Koocheching FN had been completely evacuated. In total, approximately over 3,300 people were evacuated. Wildfires severely damaged more than 86 hydro poles and over 13 kilometres of hydro lines, resulting in power outages across the northern region.\",\"Northern Ontario\"],[\"Mishkeegogamang Ojibway First Nation (New Osnaburgh) ON, June 21-27, 2011.  A state of emergency was declared as the First Nation community was overcome by smoke from more than 17 wildfires burning within 10 kilometres of the community?s housing area. The fire was estimated to be 37,000 hectares in size and was out control. There were 423 residents that were evacuated between June 22 and June 24. Sioux Lookout, Greenstone (Gerldton) and Ignace declared states of emergency. The Ontario Ministry of Natural Resources (MNR) deployed 10 fire ranger crews to bring the fires under control while the Department of National Defense (DND) assisted with evacuations, and Health Canada assisted with medical services.\",\"Mishkeegogamang Ojibway First Nation (New Osnaburgh) ON\"],[\"Hall Lake SK, June 12-14, 2011. On June 12, the Saskatchewan Emergency Management Organization reported a 25 to 40 hectare wildfire burning approximately three to four kilometers from the La Ronge First Nation subcommunity of Hall Lake. In total, there were 440 residents evacuated. As of June 14, the wildfire was no longer considered to be a direct threat to residents, and the evacuation order was lifted.\",\"Hall Lake SK\"],[\"Wollaston Lake SK, June 2 to 9, 2011. On June 1, the Saskatchewan Emergency Organization reported that a 500 hectare fire was burning approximately 1.5 kilometres southwest of the community of Wollaston Lake. Winds blowing in from the southwest caused the fire and smoke to encroach upon the community, and the fire increased to 1,100 hectares by the following day. On June 2, a total of 1,137 residents were evacuated but damages to structures had not been reported at that time.\",\"Wollaston Lake SK\"],[\"Slave Lake AB, May 15 to May 22, 2011. Fortynine wildfires in north-central Alberta burned across the Lesser Slave River Region, prompting one of the most destructive wildfires in Canadian history. A state of emergency was declared by the Municipal District of Lesser Slave River No. 124 on May 15, after a wildfire that originated in the town of Slave Lake began to spread uncontrollably, affecting surrounding communities. The wildfire devastated the town of Slave Lake, where 374 buildings were destroyed and 52 damaged by the flames. Approximately 7000 people were evacuated from the town of Slave Lake and 735 individuals and families lost their homes. Outside of the town of Slave Lake, 59 other buildings were destroyed and 32 were damaged. Other affected communities include High Prairie, Little Buffalo, Red Earth Creek, Loon Lake First Nation (FN), Whitefish Lake FN and Woodland Cree FN. Penn West Petroleum, Exall Energy Corp. and Canadian Natural Resources Ltd. halted drilling in the region, suspended production and evacuated their employees. Canadian National (CN) Railway also halted their services in the region. By May 19, the number of evacuees rose to approximately 12,055. The total cost in damages was estimated at over $500 million.\",\"Slave Lake AB\"],[\"British Columbia, July 28 to September 8, 2010.  Due to little precipitation and lightning strikes, from July 28 to July 31, the number of fires in British Columbia went from 600 to 1,100.  On August 18, strong winds blew through the interior causing substantial growth of the fires. Throughout the wildfire season, approximately 461 homes (1,383 individuals) were ordered to evacuate the region and hundreds of other homes were put on evacuation alert. The hardest hit areas were Chilcotin, Houston, Williams?Lake, Burns?Lake and Fraser?Lake. All evacuation orders and alerts were removed by the first week of September.  Approximately 330,000 hectares burned due to 1,673 fires.  Over 1,400 personnel from out-of-province assisted with fighting the fires.  Two air tanker pilots died in a plane crash while fighting the fires.  Both the city of Vancouver and the Government of Alberta issued air quality warnings due to smoke caused by the fires.\",\"British Columbia\"],[\"Cranberry Portage MB, June 23 to July 6, 2010. A wildfire 13 kilometres east of Cranberry Portage prompted mandatory and voluntary evacuation orders. Residents from Cranberry Portage were advised to evacuate on June 23 due to smoke from the approaching flames. The Iskwasum and Gyles campgrounds in the Grass River Provincial Park were under a mandatory evacuation order. The road between Cranberry Portage and Sherridon was temporary closed to local traffic due to concerns over visibility. On June 24, approximately 200 people voluntarily evacuated from Cranberry Portage as the fire grew in size. The wildfire reached a maximum size of approximately 55,000 hectares and there were 440 firefighters, 13 helicopters and 13 water bombers combating the flames. On July 6, the travel restrictions near Cranberry Portage were lifted.\",\"Cranberry Portage MB\"],[\"Chapleau ON, May 27, 2010. A forest fire, which started in the Chapleau area near Wawa, burned through approximately 22 hydro poles and caused a power outage affecting approximately 2,000 local residents.\",\"Chapleau ON\"],[\"Wemotaci reserve and La Tuque QC, May 23, 2010. A 39 hectare fire forced the evacuation of 1,300 residents from the Wemotaci reserve. This was just one of over 50 fires throughout the province that raged for weeks, resulting in large amounts of smoke leading to a smog alert for Montreal, Vaudreuil, Soulanges, Huntingdon, Richelieu Valley, St. Hyacinthe, Lachute, St. Jerome, Lanaudiere, Mauricie, Drummondville, and Bois-Franc.\",\"Wemotaci reserve and La Tuque QC\"],[\"County of Thorhild AB, May 12, 2010. A wildfire in the county of Thorhild, north of Edmonton, affected thousands of acres of land. The community of Opal experienced numerous evacuation orders, which affected up to 100 homes on May 17. The Province of Alberta provided $10 million in funding under the Municipal Wildfire Assistance Program to aid in the community's recovery.\",\"County of Thorhild AB\"],[\"Kelowna, Kamloops and Cariboo BC, May 1 to August 31, 2009.  Fire season 2009 had 3,200 fires, 213 of which were wildland-urban interface fires. On July 18, fires broke out in the Glenrosa and Rose Valley communities of West Kelowna, combined with the Terrace Mountain fire west of Fintry, which led to multiple evacuation orders and alerts. July also saw an abundance of lightning storms leading to other fires of note throughout the province. Temperatures continued to break record highs and little precipitation was received in most areas. As September began, all personnel continued to work hard to contain fires across the Kamloops and Cariboo regions. The Lava Canyon fire, the largest, was nearly 55,000 hectares and growing.  There were over 100 notable fires during this fire season: at least 27 caused evacuation orders and at least a dozen more caused evacuation alerts.  Approximately 20,000 people were evacuated. One helicopter pilot lost his life in the line of duty.\",\"Kelowna, Kamloops and Cariboo BC\"],[\"Deschambault Lake SK, July 1-6, 2008. A large wildfire threatened the community of Deschambault Lake in northern Saskatchewan. The fire was only 1.5 kilometres away from the community before it was redirected by firefighters using a technique called \\\"back burning,\\\" which involves igniting a controlled burn in front of the fire in order to reduce the amount of fuel. Approximately 1000 residents were evacuated on July 1 and did not return home until July 6.\",\"Deschambault Lake SK\"],[\"Northern Saskatchewan, June 30, 2008. Approximately 2,500 people from the communities of Sandy Bay, Stony Rapids, Pelican Narrows, Black Lake and Uranium City in Saskatchewan's far north have been forced out of their homes due to 64 forest fires.\",\"Northern Saskatchewan\"],[\"Halifax NS, June 13, 2008. An unforeseen brush fire ravaged a wooded area east of Halifax. The fire destroyed two homes and forced 5000 residents to evacuate their homes.\",\"Halifax NS\"],[\"Pukatawagan MB, June 10, 2008. A town in northern Manitoba declared a state of emergency as food and other necessities dwindled away because of a burned-out railway bridge. More than 2,600 people in Pukatawagan, located about 900 kilometres northwest of Winnipeg, were faced with shortages of food and supplies, including baby products because of a wildfire that damaged the local railway bridge connecting the isolated community with the rest of the province. During the summer months there are only two ways to access Pukatawagan, by air or by rail.\",\"Pukatawagan MB\"],[\"Norway House and Sherridon MB, May 28, 2008. A forest fire, that stretches from a point to the south of Lynn Lake in the northwest corner of the province south to Norway House Cree Nation and east to the Island Lake First Nations, has forced as many as 3,330 people out of their homes.\",\"Norway House and Sherridon MB\"],[\"Newbrook AB, May 16-19, 2008. A wildfire burning near the community of Newbrook forced the evacuation of approximately 150 people. A team of 115 firefighters aided by 40 firefighters from British Columbia, halted the fire from reaching Newbrook by bulldozing a strip of timber in between the town and the fire, which prevented the fire from spreading. The fire reached a maximum size of 1,950 hectares. Two houses were destroyed by the blaze.\",\"Newbrook AB\"],[\"Natuashish NL, August 4-7, 2007. A wildfire destroyed 200 hectares of land and forced the evacuation of 600 local residents. The blaze that burned near the Innu community of Natuashish in Labrador was sparked by accident by a group of teenagers who started a fire to warm themselves up after swimming in the popular swimming hole near the airport. The fire spread so rapidly that the teenagers narrowly escaped with their lives. The fire burned for several days and halted flights to the local airport.\",\"Natuashish NL\"],[\"Kootenay BC, August 1, 2007. Forest fires raging in southeastern British Colombia triggered a state of local emergency and caused three homes to be evacuated and power to be cut to more than 3000 homes.\",\"Kootenay BC\"],[\"Northern Manitoba, July 19-26, 2007. A total of 254 wildfires burned 147,473 hectares of land in Manitoba in the summer of 2007. From July 19 to 26, 55 wildfires were burning in Northern Manitoba. During this time, numerous communities were in danger and had to be evacuated from fires that burned up to 16 kilometres away. Evacuations began as early as July 19, when 435 people from O-Pipon-NaPiwin Cree Nation at South Indian Lake had to be airlifted to safety. On July 24, 330 people were airlifted from Sayisi Dene Nation at Tadoule Lake. In addition, on July 25, 48 people from Tataskweyak Cree Nation at Split Lake and 150 from Shamattawa were evacuated due to smoke. All evacuees were taken to Winnipeg and Thompson. The government of Manitoba deployed 450 firefighters, 27 helicopters and nine water bombers. In addition, five firefighting crews from British Columbia assisted local firefighters. The largest fire burned near South Indian Lake and was 85, 000 hectares in size.\",\"South Indian Lake MB\"],[\"Happy Valley-Goose Bay NL, June 16-17, 2007.  A forest fire burned near Happy Valley-Goose Bay forcing the evacuation of 200 homes. The blaze that was pushed towards the community by wind gusts of 50 km/h reached up to 300 metres of some homes. Fire crews helped by two water bombers and six helicopters managed to suppress the flames.\",\"Happy Valley - Goose Bay NL\"],[\"Sept-?les QC, May 27, 2007. A major forest fire forced the evacuation of approximately 1,500 people from the village of Moisie and the Malioth?nam reserve. There were 26 forest fires burning in Quebec at that time.\",\"Sept-?les QC\"],[\"Northwest Ontario, May 13, 2007. Up to 300 people have been forced from their cottages in an area about 75kms west of Thunder Bay, where the biggest fire among many in Northwest Ontario, Thunder Bay #37, had raged through about 11,500 hectares.\",\"Northwest Ontario\"],[\"Cariboo-Chilcotin BC, July 6, 2006. About 600 people living in remote communities in BC's Cariboo-Chilcotin region have been forced from their homes by the threat of two massive wildfires.\",\"Cariboo-Chilcotin BC\"],[\"Nordegg AB, July 4-7, 2006. A wildfire that burned two kilometres away from the village of Nordegg, located 200 kilometres West of Red Deer, forced the evacuation of 130 residents, including dozens of campers. The fire grew to be 126 hectares in size and was likely sparked by lighting. Residents returned home July 7.\",\"Nordegg AB\"],[\"Tumbler Ridge BC, July 3-5, 2006. A state of emergency was declared for the town of Tumbler Ridge, where multiple wildfires burned threating the residents who live in the coal mining town. The largest of the fires grew to be 9,100 hectares in size and burn nearly 8 kilometres away from the town. Four thousands residents were evacuated due to the fires and returned home on July 5.\",\"Tumbler Ridge BC\"],[\"Mistissini QC, June 16-18, 2006. Residents of the Cree community of Mistissini, located 550 kilometres north of Montreal, were forced to leave their homes due to a wildfire that approached within metres of their community. Approximately 3,200 residents were evacuated and were taken to the community of Chibougamou 90 kilometres away. Residents returned home on June 18.\",\"Mistissini QC\"],[\"Kelowna  BC, August 28, 2005.  A 25-hectare forest fire was reported in Rose Valley near Kelowna.  Approximately 75 homes in the subdivision were evacuated and about 528 people registered with emergency social services after the evacuation order.  No injuries or casualties were reported.\",\"Kelowna BC\"],[\"Chibougamau and James Bay QC, June 6, 2005.  In Northern Qu?bec a forest fire near Chibougamau forced the evacuation of approximately 200 residents.  Approximately 650 Hydro-Quebec workers were airlifted in an evacuation operation in the James Bay area due to another forest fire. There were 57 active forest fires in Quebec at the time.  Forest fires have destroyed approximately 170,000 hectares of forest in Quebec this year.\",\"Chibougamau and James Bay QC\"],[\"Chisasibi QC, May 29, 2005. Forest fire forced about 600 people in the Cree community of Chisasibi to be evacuated to the nearby village of Radisson.  The fire was human caused, and was started within 1 kilometre of the town.  Evacuees were able to return to their homes by May 30.\",\"Chisasibi QC\"],[\"Norman Wells, NT, July 21, 2003. Lightening started a fire in an on old-growth black spruce forest approximately 17 km from Norman Wells. The fire was sustained by high temperatures and gusting winds. Norman Wells declared a state of emergency. About 100 people were evacuated due to thick smoke. Those with respiratory problems, the elderly, and the young were evacuated by plane to Inuvik while others were sent to nearby communities via boat.\",\"Norman Wells NT\"],[\"Manitoba, April to October 2003. The province of Manitoba experienced 1,148 wildfires during the 2003 season. While the fires actually began at the end of March,  damages began to affect communities in April. The Thompson area was particularly affected. A lightening strike near Thompson began a forest fire that was sustained through hot and dry weather. Approximately 900 people were evacuated, many from aboriginal comunities including: 250 people from Red Sucker Lake First Nation and 92 people from God's River First Nation were evacuated due to fires that began in July. In August, approximately 155 people were evacuated from Shamattawa while 250 were evacuated from Split Lake.\",\"Manitoba\"],[\"Near the community of Sheshatshui and the Town of North West River NL, July 3, 2002.  A forest fire ignited 10-12 km from the community of Sheshatshui and the Town of North West River. Approximately 1200 residents were evacuated to the town of Happy Valley-Goose Bay. The fire burned 3km2 of forest.\",\"Near community of Sheshatshui and town of North West River NL\"],[\"Nemiscau region, near James Bay QC, July 2, 2002. Of 50 forest fires burning in Quebec around this time, the Nemiscau fire was the most noticeable.  The fire travelled within 800 metres of the native village of Nemaska. A total of 630 Chisasibi and Nemiscau-region residents were evacuated. The fire was ignited by intense thunder and lightning storms and destroyed over 600 km2 of forest. Consequently, 6000 Quebec forestry workers were laid-off. Hydro-Quebec disconnected its service to 500 000 people given the proximity of the fire to a major power line. Smoke could be seen in most of Quebec, parts of Ontario, and the northeastern United States.\",\"Nemiscau region, near James Bay QC\"],[\"Kee-Way-Win FN; Townships of Terrace Bay and Schrieber; Village of Rossport; Pays Plat FN; Deer Lake FN, ON, July 2002. Members of several communities were concerned by nearby fires and smoke. More than 1000 people were evacuated to Thunder Bay, Geraldton and Sioux Lookout. Municipal emergency declarations occurred in six communities.\",\"Kee-Way-Win FN; Townships of Terrace Bay and Schrieber; Village of Rossport; Pays Plat FN; Deer Lake FN, ON\"],[\"Hawes/Patuanak SK, June 28-30, 2002. One hundred three evacuated.\",\"Hawes/Patuanak SK\"],[\"Crutwell, Dillon, Hatchett Lake, Pelican Narrows, Deschambeault, Wahpeton First Nation, Nordell, Peter Pond SK, June 28 - July 1, 2002. Five hundred six evacuated.\",\"Crutwell, Dillon, Hatchett Lake, Pelican Narrows, Deschambeault, Wahpeton First Nation, Nordell, Peter Pond SK\"],[\"Turnor Lake SK, June 25, 2002. Three hundred and fifty residents of Turnor Lake, located 600 km northwest of Saskatoon, were evacuated to nearby towns. The fire was charged by exceptionally dry and hot weather, and winds pushed the fire towards Turnor Lake. Water bombers continuously dropped their payload on the fire, while the town buildings and trees were showered by industrial sprinkler systems.\",\"Turnor Lake SK\"],[\"Peerless Lake and Trout Lake AB, June 23, 2002.  The Peerless Lake Complex involved three separate fires within a small area approximately 155 km north of Slave Lake. These three fires forced the MD of Opportunity No. 17 to evacuate approximately 600 people to Red Earth.  The wild fires consumed a total of 15,438 ha of forest.\",\"Peerless Lake, Trout Lake AB\"],[\"Montreal Lake SK, May 20-22, 2002.  Extreme burning conditions existed throughout Saskatchewan at this time.  Winds gusting at 50 to 60 km/h aided the spread of fires (around 48 in total), mostly in grasses and brush.  This specific fire was first spotted around the Bittern Lake area and was moving north towards the eastern part of the community of Montreal Lake.  Approximately 130 evacuees from this community and the Montreal Lake Cree Nation were moved to Prince Albert.\",\"Montreal Lake SK\"],[\"Northern AB and Conklin, May 14 - June 7, 2002. The House River Fire was first spotted on May 17, 2002. It burned 248,243 hectares. The fire was approximately 100 km north of Lac La Biche. At its peak, 1,000 firefighters were on the fireline. The task was difficult given the strong and shifting winds and minimal precipitation. The fire perimeter was secured by June 7, 2002. This was Alberta's second largest forest fire since 1961. On May 27 the Regional Municipality of Wood Buffalo evacuated approximately 1,550 people. There were approximately 1,300 from work camps, and 250 from the community of Conklin. All individuals were allowed to return on June 8, 2002.\",\"Northern Alberta and Conklin\"],[\"Burwash Landing YT, June 12-22, 1999. A Forest fire caused the evacuation of 69 residents and tourists from the community of Burwash Landing.  The fire reached the town on June 13, destroyed 6 houses and caused extensive damage to other buildings. Residents were allowed back to the town on June 19. Over 100 firefighters fought the blaze. The Alaska highway, a major tourist route, was shut down between Beaver Creek and Haines Junction.  The fire burned 3200 hectares of land and was put out on June 22.\",\"Burwash Landing YT\"],[\"Salmon Arm BC, August 10-17, 1998. A State of Emergency was declared by the Premier on Aug.10 for the Salmon Arm-Fly Hills Fire, it was cancelled on Aug.17. The fire covered 6300 hectares and destroyed 20 houses and 15 farm buildings. An inquiry was called in October 1998 to determine whether the BC Forest Service had problems handling the fire.\",\"Salmon Arm BC\"],[\"British Columbia, August 1998. During this month, there were 687 Forest fires burning in British Columbia. Approximately 10,600 people were evacuated, 42,115 hectares of forest burnt, 36 properties were damaged, and livestock losses were reported. Major fires occurred in the following areas: Salmon Arm-Fly Hills  Fire (see 1998.018); Vernon-Valley of Sun/Fintry/Parker's Cove; Kamloops-Cherry Creek Fire; Kamloops-Greenstone Mountain Fire; McBride-Doare River Fire; Telegraph Creek; Boston Bar-Nahatlatch Lake; Lillooet-Fountain Valley. Barriere-Dunn Lake-Birch Fire, and Avaola-Elevator were smaller, but still significant fires.  Military assistance was requested in many areas.\",\"British Columbia\"],[\"Tibbet Lake, NT, July 22-31, 1998. A State of Emergency was declared when a 60000 ha fire was burning in the area of Tibbet Lake. The area north of Powder Point on Ingraham Trail was evacuated and Ingraham Trail was closed to all traffic. The fire destroyed three vacation cabins and edged within 5 km of cabins and lodges around Consolation Lake, 70 km northeast of Yellowknife. On July 31, the fire reached 140000 ha in size.\",\"Tibbet Lake NT\"],[\"Sahtu region of the Northwest Territories, June 6-15, 1995.  A Forest fire was first sited in Fort Norman (in the Hamlet of Tulita), and then spread to Norman Wells, Yellowknife and Deline. The fires were started by lightning strikes. Damage was incurred by provincial, municipal and private property.  Fort Norman was evacuated on June 6, and Norman Wells was evacuated on June 9. Norman Wells was under a State of Emergency from June 814.\",\"Sahtu Region of the Northwest Territories\"],[\"North central Saskatchewan, May 29, 1995. Lightning started 56 fires on May 29 and as the season progressed, 2,500 people were evacuated from 16 communities and 18 highways were closed. At the height of the outbreak, 4,000 people were fighting the fires.  While there was no loss of life and minimal loss of structures, 16,000 square kilometres (160,000 hectares) of forest were burned and 48 million cubic meters of wood were lost.\",\"North Central Saskatchewan\"],[\"Old Crow YT, July 20, 1990. Fires threatened the community of Old Crow, north of Inuvik, requiring the evacuation of the community residents.\",\"Old Crow YT\"],[\"Northern MB, May-September 1989. One of the worst forest fires in Canadian history raged across northern Manitoba forcing the evacuation of roughly 25,000 people in approximately 25 communities; many were airlifted to Winnipeg. In 1989, Manitoba experienced 1,229 forest fires.\",\"Northern Manitoba\"],[\"Ontario and Qu?bec, July-August 1955. More than 100 forest fires burned longer than four weeks; on August 4 there were 150 fires.\",\"Quebec and Ontario\"]],\"hovertemplate\":\"EVENT TYPE=Wildfire<br>NORMALIZED TOTAL COST=%{marker.size}<br>INSURANCE PAYMENTS=%{y}<br>COMMENTS=%{customdata[0]}<br>PLACE=%{customdata[1]}<extra></extra>\",\"legendgroup\":\"Wildfire\",\"marker\":{\"color\":\"#ab63fa\",\"size\":[0.0,0.0,0.0,190125140.2,0.0,4369241.7,966872.0,14376996.8,2635782.7,0.0,0.0,0.0,0.0,0.0,0.0,0.0,0.0,0.0,0.0,0.0,0.0,0.0,0.0,29079182.7,13253510.7,492983.9,0.0,0.0,515021.5,5178856.4,0.0,0.0,0.0,0.0,0.0,0.0,0.0,0.0,0.0,0.0,0.0,0.0,0.0,0.0,0.0,0.0,0.0,0.0,0.0,7111.6,308536.2,27857.2,0.0,0.0,0.0,0.0,1860.8,0.0,1939.9,78000.0,59568.8,199527.6,183.7,791508.3,235089.7,6272996.4,606570.0,1483144.0,10384159.6],\"sizemode\":\"area\",\"sizeref\":761618.9102500001,\"symbol\":\"circle\"},\"mode\":\"markers\",\"name\":\"Wildfire\",\"orientation\":\"v\",\"showlegend\":true,\"x\":[0.0,0.0,0.0,190125140.2,0.0,4369241.7,966872.0,14376996.8,2635782.7,0.0,0.0,0.0,0.0,0.0,0.0,0.0,0.0,0.0,0.0,0.0,0.0,0.0,0.0,29079182.7,13253510.7,492983.9,0.0,0.0,515021.5,5178856.4,0.0,0.0,0.0,0.0,0.0,0.0,0.0,0.0,0.0,0.0,0.0,0.0,0.0,0.0,0.0,0.0,0.0,0.0,0.0,7111.6,308536.2,27857.2,0.0,0.0,0.0,0.0,1860.8,0.0,1939.9,78000.0,59568.8,199527.6,183.7,791508.3,235089.7,6272996.4,606570.0,1483144.0,10384159.6],\"xaxis\":\"x\",\"y\":[null,null,null,3600000000.0,null,null,null,null,null,null,null,null,null,null,null,null,null,null,null,null,null,null,null,528139000.0,null,null,null,null,null,null,null,null,null,null,null,null,null,null,null,null,null,null,null,null,null,null,null,null,null,null,null,null,null,null,null,null,null,null,null,null,null,null,null,null,null,null,null,null,null],\"yaxis\":\"y\",\"type\":\"scatter\"},{\"customdata\":[[\"Long Plain First Nation MB, July 20, 2016. An EF1 tornado touch downed in the community of Long Plain First Nation leaving a trail of destruction. The tornado that resulted from the upper-level low system that swept across the prairies uprooted trees and caused extensive property damage. In total, the tornado severely damaged 57 homes, while another 150 homes sustained moderate damages. In addition, the tornado caused damages to the Dakota Ojibway Police Service?s communications equipment. Approximately 600 residents were displaced from their homes and relocated to Winnipeg where they stayed in emergency accommodations. The storm system that accompanied the tornado downed hydro lines and poles, resulting in power outages. Over 18,000 Hydro customers (approximately 54,000 individuals) in Manitoba were without power. In Long Plain and surrounding areas, roughly 6,500 Hydro customers (approximately 19,500 individuals) lost power.\",\"Long Plain First Nation MB\"],[\"Southern Ontario, August 2-3, 2015. Southern Ontario was struck by three confirmed tornados, two EF2 tornadoes and an EF1 tornado, along with an EF1 downburst and one other unconfirmed tornado sighting. An EF2 tornado touched down in the small town of Teviotdale located 60 kilometres north of Waterloo and another touched down in Lebanon. Wind gusts were reported between 180 to 220 km/h in some areas. The tornado that struck Lebanon caused only minimal damages, however the tornado in Teviotdale left a nine kilometre trail of damage, which downed power lines, destroyed two homes and damaged several other homes and vehicles. The EF1 tornado in Marsville also caused only minimal damages, mostly to trees. In addition, there was a confirmed EF1 downburst in Utica that caused damages to a local Green Tractors John Deere Dealership as well as an unconfirmed tornado in Proton Station that collapsed a tent sending six people to the hospital. Approximately 50,000 hydro customers (150,000 individuals) in southwest Ontario were left without power due to the severe supercell system that caused the tornadoes to form. Residents in several communities throughout southern Ontario experienced strong winds, rain and hail after the tornadoes touched down as a second system moved into the region later in the evening.\",\"Southern Ontario\"],[\"Goderich ON, August 21-22, 2011. On August 21, an F3 tornado with 250 km/h winds touched down at 16:00 EDT in the town of Goderich causing severe damages. The extent of destruction included damages to residental and commercial property, downed trees, gas leaks and power outages. Natural gas was off to 90 per cent of the town as well as to residents in surrounding municipalities. As of 10:30 EDT on August 22, power had been restored to most of the affected area. The tornado was approximately 20 kilometres in length and left a path of destruction 200 to 1,500 metres wide. The tornado was responsible for one fatality and injured 37 other people. The F3 tornado that hit Goderich was the most powerful twister recorded in Ontario for more than a decade.\",\"Goderich ON\"],[\"Saskatchewan, June 29 to July 2, 2010. Saskatoon was struck by severe weather on June 29. The following day numerous municipalities from Prince Albert to Davidson were affected by heavy rain. On July 1, the storm moved south while another system moved in from the north. On July 2, an F3 tornado touched down at approximately 17:30 CST in Kawacatoose First Nation, near the town of Raymond. The tornado produced wind speeds of up to 330 km/h and left a path of destruction that was 500 metres wide and 45 kilometres in length. The tornado destroyed 18 homes in the small First Nations community. There were no fatalities or reported injuries, although 85 people were left homeless in the wake of the tornado.\",\"Saskatchewan\"],[\"Midland ON, June 23, 2010. Two tornadoes touched down in Ontario?s Cottage County. An F2 tornado with wind speeds of up to 240 km/h touched down in Midland at 18:30 EST. Another F1 tornado with wind speeds of up to 170 km/h touched down in Washago at 19:00 EST. In Midland, 50 trailers were destroyed and 20 others were damaged. Additionally another 100 residential buildings were damaged by the F2 tornado that also uprooted trees and downed power lines. It was reported that 20 people were sent to the hospital for injures. Ontario provided immediate provincial assistance of up to $1 million to aid in cleanup and repairs.\",\"Midland ON\"],[\"Leamington ON, June 6, 2010. An F1 tornado touched down in Leamington prompting city officials to declare a local state of emergency. The small community located in the southern region of Essex County was hit by an F1 tornado as well as a series of strong winds called downbursts early in the morning on June 6. The F1 tornado produced winds of up to 180 km/h, which destroyed approximately 12 homes, downed power lines and uprooted trees. Approximately 4,500 hydro customers (13,500 individuals) were left without power. The Canadian Red Cross assisted with response efforts by providing an emergency shelter. There were no reported injuries or fatalities.\",\"Leamington ON\"],[\"Toronto, Windsor, Vaughan and Newmarket ON, August 20, 2009.  A super cell storm developed just south of Lake Huron and tracked northeastward for a remarkable 200 kilometres. The heat and humidity in Ontario increased once the clouds disappeared. A squall line developed over Lower Michigan and traveled across the Great Lakes reaching southern Ontario at 15:00 EDT. This system produced powerful winds from Windsor to northeast of Toronto as well as destructive tornadoes in Vaughan and Newmarket. While these tornadoes were wreaking havoc just north of Toronto, another series of super cell thunderstorms spawned tornadoes in parts of Simcoe County, Muskoka and Parry Sound Districts to the east of Georgian Bay and north towards Lake Nipissing. In total, the day?s weather produced 19 confirmed tornadoes, including: four F0, eleven F1, and four F2. This was the greatest number of F2 tornadoes in Ontario in one day since the Barrie/central Ontario tornadoes of May 31, 1985. It was also a new Canadian record for the most confirmed tornadoes in one day. Violent winds snapped trees, lifted roofs, flattened cars, mowed down fences, collapsed farm buildings, and inflicted property losses around $100 million. The first tornado of the day touched down in the town of Durham in Grey County, killing a young boy as he left a nearby conservation area day camp. About 600 homes, mostly in the communities of Maple and Woodbridge were damaged. Fourty were destroyed and declared unsafe. At the peak of the storm, Hydro One reported that 69,000 customers (approximately 207,000 individuals) had lost power.\",\"Toronto, Windsor, Vaughan and Newmarket ON\"],[\"D?l?age and Mont-Laurier QC, August 4, 2009. A powerful F2 tornado touched down in D?l?age at 14:00 EST and track 40 kilometres through Aumond, to Mont-Laurier in the upper Laurentians. The tornado blew away roofs, knocked down walls, flipped over cars, snapped utility poles and downed power lines leaving 4000 residents (12,000 individuals) without power. In Mont-Laurier, 40 homes were damaged, amoung those 28 were rendered uninhabitable. There were no fatalities, although two people were injured and taken to the hospital. The tornado caused about $6 million in insured losses. The tornado's path through Mont-Laurier was 300 metres wide, but its 40 kilometre track was an unusually long distance for a tornado in Quebec and a strong indication of the storm's severity. Previous to this event, the last time a stronger tornado touched down in the Quebec was on the same day in 1994 when an F3 tornado destroyed more than 400 homes in Aylmer.\",\"D?l?age and Mont-Laurier QC\"],[\"Winnipeg MB, July 11, 2008. Wind caused havoc across Winnipeg and eastern Manitoba, including one area that may have been hit by a tornado. Up to 5000 homes (15,000 individals) lost power in total.\",\"Winnipeg MB\"],[\"Lanaudi?re QC, June 29, 2008. A tornado, with winds at times reaching 120 km/h and producing hail the size of golf balls, caused a great deal of property damage. Nearly 15,000 homes (45,000 individuals) were left without power.\",\"Lanaudi?re QC\"],[\"Elie MB, June 22, 2007. Tornadoes touched down west of Winnipeg in Eli and near Oakville, ripping apart several homes and flipping over a semi-trailer on the Trans-Canada Highway. Miraculously, no one appears to have been seriously hurt.\",\"Elie MB\"],[\"Southern Ontario ON, August 19, 2005.  A series of severe thunderstorms tracked eastward across southern Ontario from Kitchener to Oshawa. The system spawned two F2 tornadoes with gusts between 180 and 250 km/h. The first tracked through Milverton to Conestogo Lake and the second from Salem to Lake Bellwood. The tornadoes downed power lines, uprooted trees, ripped into several homes, cottages and barns, and overturned vehicles. Within one hour, torrential rains dumped 103 mm in North York, 100 mm in Downsview and 175 mm in Thornhill, leading to flash flooding. Fire fighters rescued four people who fell into the fast moving currents of the Don River. Thirty metres of Finch Avenue West was washed out. Early estimates report more than 15,000 insurance claims were submitted for structural and non-structural damages caused by torrential rains and high winds. Not included in insured losses were infrastructure damages.\",\"Southern Ontario\"],[\"Grande Prairie AB, July 8, 2004. A tornado swept through the city of Grand Prairie turning over cars and causing damages to homes and businesses. Environment Canada reported the tornado as a funnel cloud, although a tornado advisory was in place at the time. The tornado touched down at 15:30 MST and passed through the city?s downtown core. Damages included a downed power line that caused a small fire in a hotel, the destruction of a Kentucky Fried Chicken restaurant as well as numerous homes with damaged roofs, doors and windows.\",\"Grande Prairie AB\"],[\"Pine Lake AB, July 14, 2000.  A tornado hit Pine Lake at 300 kilometres an hour, killing 12 people and injuring more than 140.  Close to one-thousand people were displaced from a campsite as their recreational vehicles were damaged.\",\"Pine Lake AB\"],[\"Drummondville QC, July 6, 1999. A tornado went through the city of Drummondville ripping roofs from 20 houses and injuring a number of people. One child was killed as a tree collapsed on his tent while he was camping.  In total, 60 homes were damaged and 200 people were forced to flee from their homes. The tornado first hit Berthierville then skipped across the river and headed southeast to Drummondville. At least 4000 people were without power for 2 days.\",\"Drummondville QC\"],[\"Grey, Wellington, and Dufferin counties ON, April 20, 1996. Two F3 class tornadoes touched down in Grey County (Holland Centre), Wellington and Dufferin County. Significant property damage occurred; 9 people were injured by the 2 tornadoes. -80.54  44.122\",\"Grey County, Wellington and Dufferin County ON\"],[\"Aylmer QC, August 4, 1994. A F3 tornado hits the heavily populated district of Aylmer. 385 houses sustained damages, 12 being totally destroyed and 40 being heavily damaged. 250 families had to be evacuated (based on family of 4), and 4 people were injured.\",\"Aylmer QC\"],[\"St. Lawrence River QC, August 27, 1991. The tornado affected the Village of Maskinong?; the tornado crossed the St. Lawrence River and touched down in Notre-Dame de Pierreville where a few summer cottages were destroyed and some minor injuries occurred; it also touched down in Saint Wenceslas where minor damage was reported; there were no deaths, 15 people injured, only one seriously; 60% of all buildings in the village of Maskinong? were damaged, the power lines were down and telephone service stopped; no drinking water was available.\",\"Maskinong? QC\"],[\"Sarnia ON, March 27, 1991.\",\"Sarnia ON\"],[\"Southern Ontario, August 29, 1990. Tornadoes, high winds and thunderstorms caused crop damage and the destruction of several buildings in the communities of Lobo, Komoka, Frome, Port Stanley, Southwold and Kendall; 6 minor injuries were reported.\",\"Southern Ontario\"],[\"Edmonton AB, July 31, 1987. 27 dead, 600 injured, 1700 homeless; widespread heavy rainfall from a powerful tornado hit Edmonton on July 31,1987; 300 mm of rain fell in 3 days; the Smoky, Wapiti, Simonette, and Kakwa Rivers rose up to 7-8 metres in some areas; the tornado touched down in Edmonton and moved northeast; hailstorms were reported during the tornado; much of the damage was caused by hailstorms accompanying the tornado.\",\"Edmonton AB\"],[\"Hopeville to Barrie ON, May 31, 1985; 12 dead, hundreds injured; 800 homeless. More than 100 buildings were damaged, 300 houses were also destroyed. Severe thunderstorms and hail. Power outages, damage to 150 farms.\",\"Hopeville to Barrie ON\"],[\"Reeces Corners ON, May 3, 1983.\",\"Reeces Corners ON\"],[\"Sudbury, Lively, Coppercliff and Field ON, August 20, 1970.  An F3 tornado (wind speeds of 252-330 km/h) caused the loss of six lives, 200 injuries, and extensive damage to property.\",\"Sudbury, Lively, Coppercliff and Field ON\"]],\"hovertemplate\":\"EVENT TYPE=Tornado<br>NORMALIZED TOTAL COST=%{marker.size}<br>INSURANCE PAYMENTS=%{y}<br>COMMENTS=%{customdata[0]}<br>PLACE=%{customdata[1]}<extra></extra>\",\"legendgroup\":\"Tornado\",\"marker\":{\"color\":\"#FFA15A\",\"size\":[0.0,0.0,5647656.4,681836.9,875536.5,11529.5,5044562.9,314685.3,0.0,0.0,947461.9,28037383.2,0.0,212913.9,2815608.2,634742.8,545138.4,3811864.3,2051496.9,60625.0,15865047.5,7999238.1,11524.0,22167.5],\"sizemode\":\"area\",\"sizeref\":761618.9102500001,\"symbol\":\"circle\"},\"mode\":\"markers\",\"name\":\"Tornado\",\"orientation\":\"v\",\"showlegend\":true,\"x\":[0.0,0.0,5647656.4,681836.9,875536.5,11529.5,5044562.9,314685.3,0.0,0.0,947461.9,28037383.2,0.0,212913.9,2815608.2,634742.8,545138.4,3811864.3,2051496.9,60625.0,15865047.5,7999238.1,11524.0,22167.5],\"xaxis\":\"x\",\"y\":[null,null,112859000.0,null,16000000.0,123864.0,96183000.0,6000000.0,null,null,17607000.0,500000000.0,null,null,43595000.0,8343840.0,7540000.0,20645522.0,28310657.0,null,148377000.0,83992000.0,null,null],\"yaxis\":\"y\",\"type\":\"scatter\"},{\"customdata\":[[\"Prairie Provinces, July 18-20, 2016. Southern regions of the Prairie provinces were overwhelmed by severe storms after weeks of bad weather. A storm system entered northward into southern Alberta where isolated thunderstorms developed along the Alberta foothills. On June 18, the storm eventually grew larger impacting Calgary, Medicine Hat and Dunmore with hail, heavy rain and strong winds as well as tornado warnings. On June 19, the storm system moved across Saskatchewan and Manitoba producing hail and prompting even more tornado warnings. In Saskatchewan, near softball sized hail pelted Stewart Valley and Davison, where a tornado briefly touched down resulting in minimal damages. Parts of southern Manitoba received less severe hail, however a more severe tornado touched down in Long Plain First Nation where there was extensive damages.\",\"Prairie Provinces\"],[\"Alberta and Saskatchewan, July 15-16, 2016. A storm system caused hail, heavy rain and flash flooding in parts of southern Alberta and southern Saskatchewan. On July 15, Lethbridge, Alberta was impacted by hail, while Calgary and Arbour Lake experienced localized flooding. On July 16, a torrential down pour consisting of 60 mm of rain in less than one hour hit the town of Swift Current, Saskatchewan, which caused flash flooding. In Alberta the hail damaged the roofs of homes, broke windows and dented vehicles. In Swift Current, flash flooding overwhelmed the city?s storm water system, which resulted in flooded basements and submerged vehicles.\",\"Alberta and Saskatchewan\"],[\"Prairie Provinces, July 8-11, 2016. Severe storms swept through the Prairies from July 8 to 11. On July 8, storms in Alberta impacted Edmonton, Calgary and Redwater where hail and heavy rain resulted in flash flooding. On July 10, the bad weather continued into Saskatchewan where 130 mm of rain fell causing significant flooding in Estevan prompting the declaration of a local state of emergency. There were also reports of numerous funnel clouds in Saskatchewan, including in Battleford and in Humboldt, where a small tornado briefly touched down for roughly 20 seconds. On July 11, the tail end of the storm system moved into Manitoba where some communities received up to 88.9 mm of rain, including Liyodminster, Yorktown, Humboldt and Watrous. The severe thunderstorms that swept through the Prairies resulted in property damage from hail and infrastructure damage from heavy rain, strong winds and lighting, including in Manitoba where wind gusts of over 100 km/h caused power outages due to fallen trees.\",\"Prairie Provinces\"],[\"Southern Ontario, July 8, 2016. A cold front produced severe thunderstorms across southern Ontario. Multiple severe storms caused hail to fall in Markdale and Flesherton before moving east into Midland and Bradford. Heavy rain, strong winds and lighting were experienced in London, Whitby and Ajax, where it rained over 35 mm. Strong wind gusts of over 100 km/h were reported in areas north of the Greater Toronto Area (GTA). The strong winds downed trees and power lines resulting in power outages that affected over 39,000 Hydro One customers (approximately 117,000 individuals). Additionally, hail caused significant crop damage to over 2000 acres of crop land in the Holland Marsh area.\",\"Southern Ontario\"],[\"Prairie Provinces, June 28-30, 2016. Multiple thunderstorms hit Alberta, Saskatchewan and Manitoba as a warm front moved into the prairies. On June 28, severe thunderstorms formed in Alberta, where Okotoks received 30 cm of hail, Edmonton received up to 75 mm of rain and Calgary was hit by strong winds and lighting that caused trees and two houses to catch fire. On June 29, the storm began to move into southern Saskatchewan and southern Manitoba where hail and heavy rain accompanied by strong winds caused localized flooding. Alberta experienced more bad weather on June 30, where Calgary was impacted by hail, Taber and Strathmore experienced flooding and an EF0 tornado touched down in Ponoka.\",\"Prairie Provinces\"],[\"Alberta, Saskatchewan, Manitoba and Ontario, June 24-25, 2016. A large storm system caused bad weather throughout the Prairies and parts of northern Ontario. On June 24, widespread and severe thunderstorms caused heavy rain, strong winds, hail and lighting in southern Saskatchewan, while southern Manitoba experienced hail, wind gusts of up to 124 km/h and up to 138 mm of rain. In parts of southern Saskatchewan and Manitoba powerful winds uprooted trees and downed power lines, while flooding caused damages to roads, homes and businesses. In Manitoba, a voluntary evacuation was issued for the communities of Caddy Lake and Whiteshell due to flooding. On June 25, the storm system moved into northern Ontario where it caused significant flooding in Thunder Bay, which received 50 mm of rain in three hours.\",\"Alberta, Saskatchewan, Manitoba and Ontario\"],[\"Nova Scotia, April 5, 2016. Several powers outages stretching from Annapolis Valley to Cape Breton resulted in up to 11,000 homes and businesses (approximately 33,000 individuals) being without power. The power outages were caused by strong winds and heavy rain that pushed trees onto power lines. The impacted areas included Coldbrook, Tatamagouche, Antigonish and Cheticamp. Many schools and businesses were closed due to the power outages and the Tancook Island Ferry service was shut down temporarily because of strong winds.\",\"Nova Scotia\"],[\"Southern Alberta, August 4-5, 2015. A severe thunderstorm warning was in place for much of southern Alberta including tornado warnings. On August 4, a storm cell that produced low to moderate levels of hail formed in the Elbow valley and later moved into the northern regions of Calgary just as a second storm cell headed towards the southern region of the city. Both storm cells formed one large storm system that hit the Calgary area with severe hail. As the storm system move out of Calgary, the village of Standard was impacted by small hail and there were reports of a tornado sighting in Langdon that caused minimal damages. On August 05, the Calgary area was hit again by bad weather. In Calgary there was significant rainfall and wind gusts of up to 78 km/h. Flooding occurred in the city where it had rained up to 100 mm since the previous storm. Over all, both storms produced strong winds that caused damages to the roofs of apartment buildings and residential homes. Approximately 35,000 customers (105,000 individuals) lost power due to damaged power lines from fallen trees. Heavy rain and hail also caused flooding that submerged basements, vehicles and underpasses.\",\"Southern Alberta\"],[\"Alberta and Saskatchewan, July 22, 2015. Severe thunderstorms affected the southern Alberta region before moving into Saskatchewan. A storm system southwest of Calgary produced a small tornado that touched down in the Tsuu T?ina Nation at 12:53 MTZ as well as multiple funnel clouds, which were spotted in the Calgary area. The impact of the tornado was minimal, however the proximity of the tornado to a highly populated area like Calgary created an extremely high level of risk. Southern areas of Calgary including Canyon Meadows and Lake Bonavista were hit with large hail and as the storm moved east, Hussar, Patricia and Strathmore were impacted by strong wind gusts that downed trees over power lines resulting in localized power outages. A severe thunderstorm warning was in effect at the time meaning that wind gusts exceeded 90 km/h and hail was greater than two cm. The storm later reached Saskatchewan where the town of Kerrobert was hit with severe hail, prompting a state of emergency to be declared. Other communities in Saskatchewan such as Anglin Lake, Francis, Sedley and Regina were impacted by strong winds, heavy rain, hail and lighting. Golf-ball sized hail caused the most significant damages during the storm, including damages to roofs, windows and vehicles.\",\"Alberta and Saskatchewan\"],[\"Southern Ontario, June 22-23, 2015. A cold front that swept through southern Ontario after a warm low pressure system created severe isolated thunderstorms that brought intense lightening, heavy rain and strong winds. Heavy rainfall caused flooding in London, where there was up to 48 mm of rain and in Toronto, where the Toronto Pearson International Airport recorded 110 mm. Flooding in London overwhelmed the sewage system as well as caused damages to residential and commercial properties due to basement flooding. In Toronto, flooding caused road closures and delayed Go Transit. Strong winds and lighting downed trees, which caused damages to homes and power lines. Approximately 100,000 Hydro One customers (300,000 individuals) were without power during the storm.\",\"Southern Ontario\"],[\"Prairie Provinces, June 12, 2015. A massive storm system moved through the prairies causing severe thunderstorms to occur throughout the prairie provinces starting in central Alberta and Saskatchewan. Parts of southern Alberta experienced thunderstorms including High River, Brooks and Taber. The storm intensified near Medicine Hat where there was hail and strong winds that caused damages throughout the city. Approximately 9000 people in Alberta lost power due to downed power lines. The storm later moved into Saskatchewan near maple Creek with hail and estimated wind gusts of up to 120 km/h. As the storm travelled eastward, Assiniboia and Weyburn sustained damages from hail. A large part of the storm moved into Manitoba, bringing heavy rain, strong winds and hail that impacted Virden causing extensive damages.\",\"Prairie Provinces\"],[\"Fredericton NB, May 28-29, 2015. Fredericton was hit by a severe thunderstorm that knocked out power to 25,000 people. A significant amount of rain and hail fell in the area causing flash flooding in the streets of Fredericton. It was reported that 25 to 40 mm of rain fell in one hour and the storm produced wind gusts of up to 82 km/h. The storm that downed power lines and trees also produced a significant amount of lightening. It was reported that there were 319 lightning strikes within 50 kilometres of Fredericton.\",\"Fredericton NB\"],[\"Southern Manitoba, May 16-18, 2015. A Colorado low responsible for a tornado outbreak in the United States moved north into Manitoba where it merged with an Artic front. The combined systems created a storm that produced strong winds and heavy rain that eventually turned into ice pellets, snow and hail. On May 17, southern Manitoba was hit with heavy rain and isolated thunderstorms that produced wind gusts of 93 km/h in Winnipeg, 89 km/h in Gimli Harbour and 83 km/h near Brandon. Heavy rain was also reported with the heaviest areas receiving 90 mm in Melita and 83 mm in Bede. The Artic front lowered the temperature causing the rain to turn into freezing rain and snow. MacGregor and Teulon both received 15 cm of snow. Damages were caused by strong winds downing trees and power lines. Approximately 5000 people temporarily lost power during the weekend storm. Heavy rain and snowmelt also caused flooding in certain areas where damage was done to agricultural lands and cottage properties. In addition, the heavy rain caused sewage backups in Winnipeg.\",\"Southern Manitoba\"],[\"Southeast British Columbia, June 19-21, 2013. A series of intense rainstorms impacted southwestern Alberta and tracked into southeastern British Columbia, causing widespread flooding, mudslides and road closures. Up to 130 mm of rain fell in some regions and multiple evacuations were ordered. There were 130 homes that were evacuated in Sparwood due to rising flood waters while two mudslides closed parts of Highway 31. Highways 1, 31, 31A, 43 and 93 were all closed due to washouts and debris flow. There also was extensive overland flooding in the town of Fernie.\",\"Southeast British Columbia\"],[\"Yarmouth County NS, November 4-10, 2010. A severe storm produced a total rainfall ranging from 140 mm to 250 mm.  At least 20 roads were closed due to flooding, and more than 100 people were evacuated from their homes.\",\"Yarmouth County NS\"],[\"North Battleford SK, July 22, 2010.  A sudden and severe downpour of rain caused extensive flooding in the city of North Battleford.  A local state of emergency was declared and 97 homes were flooded. The Red Cross provided food and accommodations to 45 people from 11 families.\",\"North Battleford SK\"],[\"Nova Scotia and New Brunswick, October 25-28, 2009. A storm pushed through New Brunswick during the last week of October. Hydro utilities reported more than 6,000 customers without electricity in New Brunswick and about 2,000 in Nova Scotia before power was restored. Some Moncton residents faced sewer backups after high winds caused leaves to fall, blocking catch basins. Several streets and homes flooded after 116 mm of rain fell in St. Johns. Firefighters responded to more than 30 calls for flooded basements filled with more than a metre of sewer water. October rainfall in Saint John amounted to 245.4 mm, which was just 2 mm less than the record set in 1977.\",\"Nova Scotia and New Brunswick\"],[\"Winnipeg and Steinbach MB, August 14, 2009. Powerful thunderstorms, spectacular lightning strikes and baseball-sized hail hammered a wide area of southern Manitoba from Winnipeg to Steinbach. More than 7000 instances of damage to houses and vehicles were reported and losses ranged between $50-75 million. The storm also knocked out power to approximately 4000 homes (12,000 individuals).\",\"Winnipeg and Steinbach MB\"],[\"Southern Alberta, August 1-3, 2009. A cold front swept through southern Alberta on August 1, bringing with it strong wind gusts of up to 100 km/h. The powerful winds brought down a stage at the Big Valley Jamboree in Camrose killing one individual and injuring 75 others. Calgary received wind gusts of up to 78 km/h. The strong winds killed a small child and injured two others when debris from a construction site struck the individuals. On August 2 and 3, a powerful storm developed increasing the severity of the strong winds with wind gusts of up to 107 km/h, along with large hail and heavy rain. The power winds downed trees and power lines, knocking out power to an unknown number of people. In some parts of Alberta, hail was measured at 10 cm deep, with some hail the size of baseballs. Hail caused extensive damages to homes and vehicles.\",\"Southern Alberta\"],[\"Hamilton and Toronto ON, July 26, 2009. A storm cell stalled over the western end of Lake Ontario. Hamilton was hard hit. Waves of thunderstorms pounded the city, leaving citizens with flooded basements and motorists stuck in traffic caused by road closures. The midday downpour turned Red Hill Creek into an angry brown torrent that forced the closure of nearby roads and highways. Water gushed into 7000 basements and power was shut off to thousands of customers. While the Hamilton Airport observed only 28 mm of rain, radar estimates confirmed rainfall amounts in an unofficial gauge totaling 110 mm in two hours - worse than a 100-year storm and one of the most intense short-duration rainfalls on record in Canada. Conditions were made worse because the ground was super-saturated from storms two days earlier. In Toronto, parts of Lakeshore Boulevard near the Exhibition grounds were submerged. To the north, a pair of giant sinkholes swallowed part of Finch Avenue West - big enough to hold a fleet of cars and deep enough to cover a four-storey building.\",\"Hamilton and Toronto ON\"],[\"Edmonton AB, July 18, 2009.  A cold front mixed with warm air produced severe thunderstorms in the Edmonton area. The city of Edmonton, along with Lamont and Strathcona counties, were hit by a storm cell that produced intense lightning, heavy rain, hail and strong winds of up to 110 km/h. The strong winds downed trees and power lines, knocking out power to an unknown number of people. In Edmonton, the powerful winds ripped the awning off the Edmonton CN Tower, causing damages to the tower and vehicles parked below. In addition, lightning caused various fires throughout the city.\",\"Edmonton AB\"],[\"Ottawa, Toronto and Windsor ON, April 25, 2009. A spate of fierce thunderstorms broke out across southwestern, southcentral and eastern Ontario. Winds at Toronto Pearson International Airport gusted to 115 km/h, the strongest wind gusts reported since January 1978. Power lines and trees came down across the province, knocking out power to 100,000 customers (300,000 individuals).  Embedded in the thunderstorm cluster were marble-sized hail near Parry Sound, waterspouts in the Ottawa River, straight-line winds and weak tornados in Windsor and Ottawa. In Windsor, the roof was ripped off a union hall building with chunks of roofing and shards of glass littering the lawn and front steps. At Ottawa's Rockcliffe Flying Club, winds damaged 18 planes. Both tornados were F0 in intensity with winds of up to 110 km/h.\",\"Ottawa, Toronto and Windsor ON\"],[\"Greater Vancouver and Fraser Valley BC, January 6-8, 2009. An upper level low brought warm weather and heavy rainfall to Vancouver and the Fraser Valley region after southern British Columbia received higher than average snowfall in December 2008. There was a period of heavy rain from January 6 to 8 that caused flooding, landslides and mudslides. The towns of Hope and Chilliwack recorded 214 and 164 mm of rain. Chilliwack declared a local state of emergency as the flooding caused extensive damages to homes and roadways.\",\"Greater Vancouver and Fraser Valley BC\"],[\"Vancouver, Fraser Valley and the Greater Vancouver Regional Districts BC, January 6 to 8, 2009. A severe rainstorm from January 6 to January 8 affected Vancouver, Fraser Valley and the Greater Vancouver Regional Districts causing overland flooding, mudslides and landslides until January 31. Preliminary eligible costs are estimated at $16,500,000, which would result in a federal share of approximately $6,900,000.\",\"Vancouver, Fraser Valley and the Greater Vancouver Regional Districts BC\"],[\"Kingston ON, September 15, 2008. An overnight wind and rainstorm hit Kingston, cut power to thousands of homes in the area, knocked one ferry out of service and toppled small buildings. Kingston received 20 mm of rain overnight and was hit with wind gusts of 67 km/h. Across southeast Ontario, 25,000 homes and businesses (approximately 75,000 individuals) lost power.\",\"Kingston ON\"],[\"Queens County PE, September 6-7, 2008. Storm Hanna caused heavy rainfall, resulting in infrastructure damage mainly in Queens County, with major highway damage to the Trans-Canada Highway in Cornwall.\",\"Queens County PE\"],[\"Colchester, Pictou, Antigonish, Inverness, Victoria, Cumberland and Halifax NS, August 29 to 31, 2008. A low pressure system moved into Nova Scotia, bringing heavy rains up to 49 mm. The same system returned on August 31 and brought even more rain, up to 68 mm. The total rainfall over the three day period caused extensive flooding.\",\"Colchester, Pictou, Antigonish, Inverness, Victoria, Cumberland and Halifax NS\"],[\"Quebec and New Brunswick, July 31 to August 4, 2008. Storms and heavy rainfalls pounded the regions of Beauce, Temiscouata and Gasp?sie in eastern Quebec and neighboring northwest New Brunswick. A deluge of more than 100 mm of rain caused severe flooding, which washed out dozens of roads in the region. Two individuals were killed when floodwaters swept their vehicle into a lake in the eastern Temiscouata region of Quebec. Over 50 sections roads were washed out, including small bridges as well as two cottages that were destroyed in Quebec by the heavy rain. In New Brunswick, a state of emergency was declared in Glazier Lake where 74 residents had to be air lifted to safety after a flashflood washed out sections of a provincial highway.\",\"Quebec and New Brunswick\"],[\"Gander, Hare Bay and Swift Current NL, July 30, 2008. A weather system, beginning west of the town of Gander extending east to Hare Bay, and south to Swift Current, caused severe thunderstorms and heavy rain.  This resulted in damage to private property and provincial infrastructure.\",\"Gander, Hare Bay and Swift Current NL\"],[\"Regina SK, July 22, 2008. Wicked weather wreaked havoc across Regina, with wind gusts up to 92 km/h and 11.2 mm of rain. The squall left about 5000 customers (15,000 individuals) in parts of north and east Regina without power.\",\"Regina SK\"],[\"La Tuque QC, July 22, 2008. Strong flooding caused by torrential rains forced the evacuation of approximately 112 people and caused considerable damage to a number of homes, two of which needed to be demolished.\",\"La Tuque QC\"],[\"Lethbridge AB, July 1, 2008. On Canada Day 2008, Lethbridge was hit by an intense storm that brought heavy rain, which caused flash flooding in parts of the city. It rained 47 mm, the monthly average in just about 90 minutes. The heavy rain reached a peak of about 200 mm for at least one hour. The intense rainstorm flooded the basements of over 300 houses, submerged three underpasses and caused road closures, including the closure of one bridge.\",\"Lethbridge AB\"],[\"Mont?r?gie and Eastern Townships QC, June 10-13, 2008. Thousands of residents south of Montreal had their power knocked out as many regions were hit with wind gusts exceeding 100 km/h. Hydro-Quebec reported that three quarters of the residents in the Mont?r?gie and Eastern Townships, exactly 99,931 homes (approximately 299,793 individuals) lost power on June 10 due to strong winds that damaged power lines. The majority of resident had power restored on June 12, but approximately 25,000 had to wait until June 13.\",\"Mont?r?gie and Eastern Townships QC\"],[\"Huntingdon QC, May 31, 2008. More than 95 mm of rain fell on the city of Huntingdon, flooding most of its 1,300 homes and raising fears that the Ch?teauguay River would overflow.\",\"Huntingdon QC\"],[\"Southwest Alberta, May 21-25, 2008. A series of rainstorms and the resulting high stream flows significantly impacted municipalities in Southwestern Alberta. The Government of Alberta established a Disaster Recovery Program on July 30, 2008, covering all affected municipalities and residents. The program includes the municipalities of Black Diamond, High River, Okotoks, Clagary, Municipal Districts of Foothills, Kananaskis Improvement District, Pincher Creek, Rocky View, and the Stony First Nation.\",\"Southwest Alberta\"],[\"Saint John NB, February 14, 2008. A boil-water order was imposed following a rain storm that saw nearly 80 mm of rain dumped on the city.\",\"Saint John NB\"],[\"Matane QC, December 17, 2007. For the third time in four months, Eastern Quebec was hard hit by bad weather. This time, 275 people were evacuated, mainly from Matane and Saint-Ren?-de-Matane. The city of Matane declared a state of emergency due to gale force winds of up to 100 km/h and artic temperatures.\",\"Matane QC\"],[\"Southern British Columbia, November 12, 2007. High winds battered southern British Columbia, leaving more than 200,000 people without power as well as stranding thousands of airplane and ferry passengers. Along the coast, winds exceeded 130 km/h. In addition, heavy snow and mudslides caused by high precipitation resulted in road closures. The hardest hit areas were Langley, Surrey, Delta, and Richmond.\",\"Vancouver BC\"],[\"Halifax and Lunenburg NS, November 3, 2007. Storm Noel.  The province was subjected to a severe storm throughout the province, with the heaviest impact in the areas of Halifax and Lunenburg.\",\"Halifax and Lunenburg NS\"],[\"Gasp? and Riviere-au-Renard QC, August 8-9, 2007. A severe thunderstorm dumped up to 115 mm of rain on Gasp? and Riviere-au-Renard in less than 10 hours. The heavy rain resulted in significant damages to homes and businesses. In Riviere-au-Renard, 38 homes were damaged and approximately 105 people were evacuated. Nearby in Cortereal, six homes were damaged and approximately 29 people were evacuated. In total, approximately 200 people were evacuated due to flooding that was so severe that some houses were swept away completely. One individual died as a result of the flooding.\",\"Gasp? and Riviere-au-Renard QC\"],[\"Avalon, Burin and Bonavista peninsulas NL, August 1, 2007.  Storm Chantal.  A severe rainstorm resulted in damage to private property and provincial and local government infrastructure.\",\"Peninsulas of Avalon, Burin and Bonavista NL\"],[\"Municipalities of Pipestone, Sifton, Cameron, White water, Morton, Riverside, Turtle Mountain, Strathcona and Argyle and the Whiteshell Provincial Park MB, June 22 to 24 June, 2007.  Wind storms and tornados caused significant damages.\",\"Municipalities of Pipestone, Sifton, Cameron, White water, Morton, Riverside, Turtle Mountain, Strathcona and Argyle and the Whiteshell Provincial Park MB\"],[\"Calgary, Edmonton, St. Albert, the town of Stony Plain, Parkland County, Two Hills County, Kneehill County, Camrose, and the municipal districts of Rocky View and Bighorn AB, June 5, 2007. A severe rainstorm on June 5 affected the cities of Calgary, Edmonton, and St. Albert, the town of Stony Plain, Parkland County, the County of Two Hills, Kneehill County, Camrose, County , and the Municipal Districts of Rocky View and Bighorn.  Many residences and small businesses experienced flooding resulting in loss of contents and structural damage.  Infrastructure damage to municipal roads and storm sewer lines, and provincial parks also occurred.\",\"Calgary, Edmonton, St. Albert, the town of Stony Plain, Parkland County, Two Hills County, Kneehill County, Camrose, and the municipal districts of Rocky View and Bighorn AB\"],[\"Fishing Lake SK, May 25, 2007. An estimated 300 homes and cottages (approximately 600 individuals) were damaged by flooding that was caused by a higher than normal snowfall and subsequent ice melt runoff. Fishing Lake, located two hours east of Saskatoon area, received 50 to 75 mm of rain.\",\"Fishing Lake SK\"],[\"Gatineau QC, April 23, 2007. Approximately 15,500 Hydro-Qu?bec customers (46,500 individuals) were plunged into darkness in the Outaouais as a result of strong winds with gusts of up to 60 km/h.\",\"Gatineau QC\"],[\"Maple Ridge BC, March 12, 2007. Mudslides and flooding hit British Colombia's lower mainland after a weekend of heavy rain, leading to road closures and evacuation warnings. About 170 houses were flooded and hundreds of people were told to leave their homes, after the Alouette River spilled its banks.\",\"Maple Ridge BC\"],[\"South Coast and Lower Mainland BC, December 20, 2006. Less than two weeks after a powerful windstorm struck British Columbia?s southern coast causing property damages and power outages, another windstorm impacted the region causing further severe power outages. Approximately 25,000 homes and businesses (75,000 individuals) lost power along British Columbia's south coast. In Vancouver Island, wind gusts of up to 90 km/h caused most of the damages leaving  20,000 B.C. Hydro customers (approximately 60,000 individuals) without power. On the mainland and along the Sunshine Coast 5000 hydro customers (approximately 15,000 individuas) were left in the dark. The Greater Vancouver area received wind gusts of 50 to 80 km/h, but no power outages were reported.\",\"South Coast and Lower Mainland BC\"],[\"Vancouver BC, December 11, 2006. A powerful windstorm struck British Columbia?s southern coast resulting in approximately 190,000 power outages (570,000 individuals). The storm produced wind gusts of up to 100 km/h, which downed power lines and uprooted trees. Ferries had to be canceled due to the strong winds. In Vancouver damaged streetlights and fallen trees in the roads caused traffic delays throughout the city.\",\"Vancouver BC\"],[\"Ontario and Quebec, October 29, 2006. A storm that blew in from the United States left about 49,000 Quebec and 30,000 Ontario residents without power (approximately 240,000 individuals). High winds felled lines in a broad band across central Ontario, while in Quebec, the Laurentians region, north on Montreal, and the Gasp were particularly hard hit.\",\"Ontario and Quebec\"],[\"Sainte-Anne-des-Plaines QC, August 19, 2006. A small community located 50 kilometres north-east of Montreal was at the centre of a torrential downpour that produced 135 mm of rain in less than three hours.\",\"Sainte-Anne-des-Plaines QC\"],[\"Lorette River, Quebec City QC, September 26, 2005.  The remnants of hurricane Rita caused flooding by overflowing the Lorette River with 108.55 mm of rain fall.\",\"Lorette River, Quebec City QC\"],[\"Northern Saskatchewan, June 23-25,2005.  An intense low pressure system caused heavy rainfall from July 23-25, affecting an area of northern Saskatchewan already saturated by snowmelt between Meadow Lake to the south and Stony Rapids to the north, and between the Alberta border to the west and the Manitoba border to the east.  The closure of Highway 905 due to flooding in several locations resulted in the disruption of services to northern communities, including Stony Rapids and Black Lake, until the road was re-opened on July 31.  Preliminary eligible costs were estimated at $3,200,000, which would result in a federal share of approximately $1,100,000.\",\"Northern Saskatchewan\"],[\"Edmonton AB, July 2-11, 2004.  Severe hail and rain battered parts of Edmonton, causing extensive flooding of basements and streets, and forcing the evacuation of 30,000 people from the worlds largest shopping mall, the West Edmonton Mall.\",\"Edmonton AB\"],[\"Morley, Chapple, Dawson, Emo, Lake of the Woods, La Vallee, Rainy River, Fort Frances ON, July 31, 2001.  A severe summer storm hit eight municipalities and two rural areas in northwestern Ontario.  These were declared disaster areas, and the damages were covered by the Ontario government.  Effects of the storm include fallen trees, washed out roads, tossed boats, and broken docks.\",\"Morley, Chapple, Dawson, Emo, Lake of the Woods, La Vallee, Rainy River, Fort Frances ON\"],[\"Southern Ontario, April 20-21, 2000.  The Windsor area registered 95 mm of rain in a 24-hour period and the storm dumped almost 70 mm of rain on the London area, Sarnia got 50 mm, while 40 mm fell on the Toronto area.  Sewers were backed up and roads washed out, and many short power outages occurred.  One child suffered injuries in Toronto due to violent winds, which gusted up to 80 km/h.\",\"Southern Ontario\"],[\"Balmoral and Val d'Amour areas in Restigouche County NB, September 7, 1999. A thunderstorm resulted in flash flooding, erosion and open water flooding. Roads and bridges were damaged. The thunderstorm brought 90 mm of rain in a time period of two to three hours.\",\"Balmoral and Val d'Amour areas in Restigouche County NB\"],[\"Calgary AB, July 4, 1998. Two separate hailstorms occurred on July 4-5 and July 8. On July 4, 43.2 mm of rain also fell on Calgary. The July 8 storm included winds up to 100 km/h, which tore apart greenhouse roofs. Hailstones ranging from pea to baseball size caused waist high flooding which forced many people to abandon their cars at intersections. Snowplows were brought out to clear the roads. Roads were destroyed by the hail, a warehouse collapsed and a store had to be closed because of a burst storm sewer. Mudslides forced boulders and mud across roads and railroads.\",\"Calgary AB\"],[\"45 miles southwest of the islands of Saint-Pierre-et-Miquelon, January 16, 1998.  The bulk carrier \\\"Flare\\\" broke in 2 due to severe weather conditions during its trip from Rotterdam to Montreal.  21 members of the 25-member crew died in the accident.\",\"45 miles southwest of the islands of Saint-Pierre-et-Miquelon\"],[\"Southern British Columbia, March 18-24, 1997. Severe thunderstorms, creating floods, damaged residential, farm, business and local government buildings. Flooding occurred on most of Vancouver Island, Harrison Lake and Fraser River, Okanagan Lake, Lower Arrow Lake, Upper Arrow Lake, Shuswap Lake, Kootenay Lake, Kootenay River and Columbia River (to the lower part of Kinbasket Lake).  This area encompassed the towns of Vancouver, Port Alberni, Nanaimo, Victoria, Vernon, Kelowna, Nelson, Trail and Penticton.\",\"Southern British Columbia\"],[\"Calgary AB, July 24-25, 1996.\",\"Calgary AB\"],[\"Calgary AB, July 16-18, 1996. The hailstorm caused  flooding; heavy rains and tornadoes were also reported. 911 service was knocked out, causing emergency crews to use regular lines. No injuries were reported. Many vehicles were damaged. Gale force winds, torrential rains swept across the area. There were no reported injuries, however extensive damage was done to homes and gardens.\",\"Calgary AB\"],[\"Winnipeg MB, July 16, 1996. Hailstones the size of tennis balls pounded down on the city; crops were flattened south of Winnipeg, trees were stripped, gardens destroyed and windows shattered. Gale force winds, torrential rains, funnel clouds and one tornado were reported. There were no reported injuries.\",\"Winnipeg MB\"],[\"Hamilton ON, October 5-6, 1995.\",\"Hamilton ON\"],[\"Regina SK, August 26, 1995.\",\"Regina SK\"],[\"Southern MB, July 30, 1995.\",\"Southern Manitoba\"],[\"Calgary AB, July 17, 1995.\",\"Calgary AB\"],[\"Southern Ontario, July 13-15, 1995.\",\"Southern Ontario\"],[\"Southern AB July 10, 1995.\",\"Southern Alberta\"],[\"Edmonton AB, July 4, 1995.\",\"Edmonton AB\"],[\"Southern ON, August 28, 1994.\",\"Southern ON\"],[\"Southern MB, August 27, 1994.\",\"Southern Manitoba\"],[\"Salmon Arm BC, August 4, 1994.\",\"Salmon Arm BC\"],[\"Southwestern MB, August 1, 1994.  The hailstorm caused 100% damage in some parts of the province.  About 1000 people were affected.\",\"Southwestern Manitoba\"],[\"Southern Alberta, June 18, 1994.\",\"Southern Alberta\"],[\"Saskatchewan, May 22, 1994.\",\"Saskatchewan\"],[\"Southern MB, May 18, 1994.\",\"Southern Manitoba\"],[\"Southern ON, January 28, 1994.\",\"Southern ON\"],[\"Edmonton AB, July 29, 1993.\",\"Edmonton AB\"],[\"Avalon and Burin Peninsulas and Bonavista, Trinity and Conception Bays NL, October 6, 1992. A violent storm struck on the evening of the October 6 with winds of 139 km/h in some areas and 55 mm of rain; utility services were disrupted in many areas; the Canadian Coast Guard was kept busy with calls for assistance and for a period of time all flights in and out of St. John's International Airport were cancelled; several local area schools, a hospital, businesses and private residences were damaged; the storm continued unabated into Thursday October 8, with winds having subsided to the 70 km/h range.  About 2000 trees in St. John's were destroyed and many boats and fishing vessels were destroyed or damaged.\",\"Avalon and Burin Peninsulas and Bonavista, Trinity and Conception Bays NL\"],[\"Edmonton AB, September 1, 1992.\",\"Edmonton AB\"],[\"Edmonton AB, August 28, 1992.\",\"Edmonton AB\"],[\"Calgary AB, July 31, 1992.\",\"Calgary AB\"],[\"Maritime Provinces, especially Nova Scotia, October 25 - November 3, 1991. The \\\"Halloween Storm\\\" of 1991, was produced by two hurricanes: \\\"Grace\\\" and an unnamed storm over the north Atlantic; on the Scotian slope the highest wave in the world ever recorded by an instrument was measured as 30.7 metres.\",\"Maritime Provinces\"],[\"Calgary AB, September 7, 1991 (Labour Day). 30 minute thunderstorm.  Downpours of rain and golfball-sized hail flooded basements and caused property damage; hail smashed windows. Birds crushed by hail; cars trapped in downtown underpasses. 15 manhole covers blown off, 28 catch basins needed to be unplugged.\",\"Calgary AB\"],[\"Red Deer AB, July 3, 1991.\",\"Red Deer AB\"],[\"Madeleine Islands QC, December 16, 1990. The fishing trawler \\\"M.V. Nadine\\\" sank off the Madeleine Islands, Quebec, in high winds and three metre high waves, causing death by hypothermia of seven crew members and a fisheries researcher: there were two survivors: a coroner's report released in June 1992 blamed the loss of life and sinking of the vessel on a series of human errors: ill-fitting survival suits, malfunctioning navigational equipment, lack of automatic pumps, lack of safety measures and emergency drills for those aboard the vessel, and ship's officers untrained in emergency procedures.\",\"Madeleine Islands QC\"],[\"Calgary AB, July 9, 1990.\",\"Calgary AB\"],[\"Calgary AB, August 16, 1988. Thunderstorms caused major flooding with 40 to 200 mm of rain falling in different locations. Up to 5 cm of hail also fell in the southern part of Calgary.  Streets turned into rivers and left many motorists stranded.  Individuals, small businesses, farmers and government property were damaged. Approximately 400 homes were affected by sewer backup, 50 had damage due to surface water flooding. There were 3,000 property damage claims and 2,000 automobile claims.\",\"Calgary AB\"],[\"Montreal QC, May 29, 1987. The worst hailstorm on record in the province. Hailstones of 10-12 mm in diameter caused damage to trees, gardens, window glass, automobiles and roofs.\",\"Montreal QC\"],[\"Montreal QC, May 29, 1986. Hail the size of golf balls/tennis balls (up to 8 cm in diameter) fell in Montr?al.\",\"Montreal QC\"],[\"Windsor-Leamington ON, May 30, 1985. Golf-ball sized hailstones smashed greenhouses and flattened crops.\",\"Windsor ON\"],[\"Southern Manitoba, June-July 1984. Southern Manitoba experienced severe rainstorms with hail, thunder, and lightening. In some cases, tornadoes were reported. The storms led to crop damages and flooding. The cities of Winnipeg and Brandon were particularly affected.\",\"Southern Manitoba\"],[\"Regina SK, July 8-9, 1983. Regina Airport received 50 mm of rain in one hour, and 117 mm in a 24 hour period, while northern Regina received up to 150 mm, with 83 mm coming in one hour; the storm overloaded the sewer system and caused severe flooding, mostly in basements.\",\"Regina SK\"],[\"Greater Vancouver BC, October 30-31, 1981.  An estimated 70 mm of rainfall caused road and rail washouts, flooding of buildings and erosion. The accompanying wind caused hydro blackouts throughout Greater Vancouver, the Fraser Valley and along the Sunshine Coast. Blocked culverts and plugged storm drains caused extensive damage to surrounding areas. The following creeks reported the majority of the flooding: Lynn Creek, Seymour Creek and Mosquito Creek. Areas which received the most damage were: District of North Vancouver, City of North Vancouver, Pemberton, Squamish and Howe Sound. First Nation reserves also reported damage. One 17 year old drowned while trying to cross a creek; 4 people went missing and 5 people were killed due to the washing out of a bridge.\",\"Greater Vancouver BC\"],[\"Moncton NB, July 12, 1976.  A rainstorm dropped 79.8 mm within 24 hours in Moncton, NB. Streets and basements all across the town were flooded. Transformers were hit by lightning during the storm; however, there were no widespread power outages. Smaller outages were fixed within a day.\",\"Moncton NB\"],[\"Charlottetown PE, July 3, 1974. At 4:30 pm, Charlottetown and the surrounding area received a half-hour storm of thunder, lightning, 30 mm of rain, large hailstones, and winds up to 140 km/h.  Damages reported were: broken windows, doors torn from frames, shingles lifted from roofs, buildings blown down, trees and shrubbery uprooted, electric and telephone lines knocked out by fallen trees, and damaged crops.  The damage was most severe in Sherwood, East Royalty, Mermaid, and Johnston's River. The airport in Charlottetown reported that planes were flipped over.\",\"Charlottetown PE\"],[\"Maritimes, June 17, 1973. A sudden severe storm struck the Atlantic provinces causing extensive damage to fishermen's gear.\",\"Newfoundland, Prince Edward Island and Nova Scotia\"]],\"hovertemplate\":\"EVENT TYPE=Storms and Severe Thunderstorms<br>NORMALIZED TOTAL COST=%{marker.size}<br>INSURANCE PAYMENTS=%{y}<br>COMMENTS=%{customdata[0]}<br>PLACE=%{customdata[1]}<extra></extra>\",\"legendgroup\":\"Storms and Severe Thunderstorms\",\"marker\":{\"color\":\"#19d3f3\",\"size\":[4800887.9,3292897.2,2535140.2,2199205.6,4162757.0,1659953.3,0.0,7925876.8,2164739.3,1383317.5,4653270.1,0.0,0.0,527491.9,212085.8,5768.2,0.0,2622377.6,0.0,9089790.2,236014.0,2149353.1,188385.5,691882.0,0.0,82704.2,44767.4,78831.7,33915.3,0.0,0.0,0.0,9070464.5,0.0,396231.4,0.0,0.0,0.0,150950.1,761420.2,1026400.0,63669.0,882307.4,0.0,0.0,0.0,0.0,0.0,0.0,0.0,0.0,145676.1,726580.2,53349.4,0.0,111524.2,4288587.1,335773.8,304331.5,5930999.5,6951631.0,7086614.2,1193082.2,914597.3,617671.2,5106822.7,3897945.2,1924863.0,2363809.0,551411.9,993899.7,780980.2,223328.3,2168202.2,671374.8,635285.9,476009.3,1478679.5,638931.2,1608714.3,1440726.3,2749678.4,0.0,64101113.9,2926648.2,30388.0,1476689.1,3356281.3,2180233.6,4159115.9,1560952.4,164037.6,2128832.5,379411.8,1544469.5,32748.1,1355084.7],\"sizemode\":\"area\",\"sizeref\":761618.9102500001,\"symbol\":\"circle\"},\"mode\":\"markers\",\"name\":\"Storms and Severe Thunderstorms\",\"orientation\":\"v\",\"showlegend\":true,\"x\":[4800887.9,3292897.2,2535140.2,2199205.6,4162757.0,1659953.3,0.0,7925876.8,2164739.3,1383317.5,4653270.1,0.0,0.0,527491.9,212085.8,5768.2,0.0,2622377.6,0.0,9089790.2,236014.0,2149353.1,188385.5,691882.0,0.0,82704.2,44767.4,78831.7,33915.3,0.0,0.0,0.0,9070464.5,0.0,396231.4,0.0,0.0,0.0,150950.1,761420.2,1026400.0,63669.0,882307.4,0.0,0.0,0.0,0.0,0.0,0.0,0.0,0.0,145676.1,726580.2,53349.4,0.0,111524.2,4288587.1,335773.8,304331.5,5930999.5,6951631.0,7086614.2,1193082.2,914597.3,617671.2,5106822.7,3897945.2,1924863.0,2363809.0,551411.9,993899.7,780980.2,223328.3,2168202.2,671374.8,635285.9,476009.3,1478679.5,638931.2,1608714.3,1440726.3,2749678.4,0.0,64101113.9,2926648.2,30388.0,1476689.1,3356281.3,2180233.6,4159115.9,1560952.4,164037.6,2128832.5,379411.8,1544469.5,32748.1,1355084.7],\"xaxis\":\"x\",\"y\":[102739000.0,70468000.0,54252000.0,47063000.0,89083000.0,35523000.0,null,167236000.0,45676000.0,29188000.0,98184000.0,null,null,null,null,null,null,50000000.0,null,173312000.0,null,40981000.0,null,null,null,null,null,null,null,null,null,null,172490000.0,null,null,null,null,null,null,null,null,null,null,null,null,null,null,null,null,null,null,null,null,null,null,null,65258000.0,null,null,87877643.0,103000000.0,105000000.0,17419000.0,13118000.0,9018000.0,55701000.0,56910000.0,28103000.0,15653000.0,7876000.0,8850000.0,11155000.0,null,9059000.0,9520000.0,9074000.0,6799000.0,8697421.0,8945037.0,8087557.0,5735725.0,24061054.0,null,378440384.0,31107661.0,null,16279000.0,37127000.0,24891000.0,45473000.0,16390000.0,null,16385000.0,null,null,null,null],\"yaxis\":\"y\",\"type\":\"scatter\"},{\"customdata\":[[\"Quebec, New Brunswick, Nova Scotia, and Prince Edward Island, July 5-6, 2014. Hurricane Arthur transformed into a powerful Post-Tropical storm over the Maritime provinces. The storm brought powerful wind gusts and heavy rain to Quebec, New Brunswick, Nova Scotia and Prince Edward Island. The most amount of rain was received in St. Stephen, New Brunswick where it rained up to 143 mm. The strongest winds were felt in Nova Scotia where in Greenwood wind gusts reached up to 140 km/h. In Quebec, severe flooding in Mont-Louis inundated several roads affecting 40 homes, while in Marsoui approximately 30 homes were evacuated (approximately 90 individuals). The powerful winds generated by the storm downed trees and power lines throughout the Maritimes causing power outages, property damage and infrastructure damage. Approximately 290,000 homes and businesses (870,000 individuals) in the Maritimes were without power, while in Quebec approximately 23,000 homes and businesses (69,000 individuals) were reported to have lost power.\",\"Quebec, New Brunswick, Nova Scotia, and Prince Edward Island\"],[\"Quebec, New Brunswick, Nova Scotia, Prince Edward Island and Newfoundland and Labrador, August 28-30, 2011. Hurricane Irene, the storm that caused over 40 deaths and billions of dollars in damages in the United States, moved north into Canada affecting parts of Quebec and the Maritime provinces. The 400 kilometre-wide Post-Tropical storm produced heavy rain and strong gusts of wind, which downed trees and power lines. Parts of Quebec received more than 100 mm of rain and wind gusts of up to 113 km/h. On August 28, Hydro-Quebec reported approximately 250,000 customers (750,000 individuals) without power and by August 29, only 80,000 households were without power. The storm was responsible for two deaths in Quebec; one man died while attempting to reach his family in the storm, while another went missing and is presumed dead when his car was washed down river. Approximately 350 residents were evacuated in Quebec. Strong winds produced six-metre waves over western Maritime waters. Some parts of Labrador received up to 40 mm of rain overnight, while Doaktown and Fredricton New Brunswick received 89 mm and 53 mm respectively. Approximately 50,000 households (150,000 individuals) in New Brunswick and 8000 (24,000 individuals) households in Nova Scotia were without power during the height of the storm.\",\"Quebec, New Brunswick, Nova Scotia, Prince Eward Island, and Newfoundland and Labrador\"],[\"Newfoundland and Labrador, September 21, 2010. Hurricane Igor hit Newfoundland and Labrador at 12:30 NDT, causing extensive damages. At the height of the hurricane, wind speeds in some areas were in excess of 170 km/h with rainfall reaching nearly 240 mm in some parts of the province. Approximately 150 communities were isolated due to washouts and road closures, and 30 communities had declared states of emergency. Over 30,000 calls were made to the Emergency Operations Centre and over 100 families (300 individuals) were displaced. An 80-year-old man died when he was swept into the ocean during the storm.  The Canadian Forces deployed 1000 troops to assist in the wake of the disaster. Canada Revenue Agency also provided tax relief measures to taxpayers affected by Hurricane Igor in Newfoundland and Labrador.\",\"Newfoundland and Labrador\"],[\"Nova Scotia, September 4, 2010. Hurricane Earl landed 35 kilometres southwest of Liverpool as a Category 1 hurricane with wind speeds of up to 135 km/h. The storm made landfall at 10:30 ADT with some parts of Nova Scotia receiving up to 75 mm of rain. The high winds produced by the storm created peak waves of 23 metres in height and uprooted trees that downed power lines leaving 200,000 Nova Scotia power customers (approximately 600,000 individuals) without power. There were also extensive damages to the Halifax harbour and roads throughout Newfoundland and Nova Scotia from uprooted trees and debris. An individual drowned west of Halifax while trying to rescue a boat that broke free from its mooring. It was reported that the man was wearing a life jacket at the time, but was unable to swim back to shore. Nova Scotia?s Emergency Management Office attributed the man?s death to the storm.\",\"Nova Scotia\"],[\"Halifax NS, August 23, 2009.  Hurricane Bill dumped between 60 and 70 mm of rain with overland wind gusts of 87 km/h. A marine buoy off Nova Scotia recorded winds of 130 km/h and another buoy about 200 kilometers southeast of Yarmouth recorded a maximum wave height of 26.4 metres. Bill's steady downpour and fierce winds knocked out power to 40,000 residents. More than a dozen flights from Halifax International Airport were cancelled and ferry services were suspended between Nova Scotia and Newfoundland. In Newfoundland and Labrador there were road washouts and some localized flooding.\",\"Halifax NS\"],[\"Yarmouth NS, September 28, 2008. Tropical Storm Kyle made landfall bringing heavy rains and powerful winds as high as 100 km/h.  The high winds resulted in 40,000 being without power along with significant damage to infrastructure and personal property.\",\"Yarmouth County NS\"],[\"Maritime Provinces, September 28, 2008. Tropical storm Kyle, made landfall with Atlantic Canada between the Yarmouth and Digby counties in western Nova Scotia at 21:30 ADT on September 28. Kyle covered more than 1000 kilometres as it moved north-northeast from the United States before reaching Canada as a Category 1 storm with wind gusts of 120 km/h. The storm brought heavy rain to New Brunswick and Quebec, with parts of New Brunswick receiving up to 72 mm of rain. Power outages were reported in all three Maritime provinces. Nova Scotia had over 40,000 customers (approximately 120,000 individuals) lost power. The storm also produced an estimated storm surge of 80 cm.\",\"Maritime Provinces\"],[\"Saint John NB, September 7, 2008. Tropical storm Hanna soaked already waterlogged communities in the Maritime provinces on September 7. By the time it reached Atlantic Canada, Hanna was downgraded to a Post-Tropical storm, but remained at gale strength throughout its track along the Fundy coast of Nova Scotia, through eastern Prince Edward Island, northern Cape Breton and southern Newfoundland. The storm produced 80 km/h wind gusts and heavy rain. Saint John was hard hit by 146 mm of rain. Dozens of roads in Saint John were flooded and closed, including parts of the Southern New Brunswick Railway. Scattered power outages were also reported in New Brunswick and Nova Scotia.\",\"Saint John NB\"],[\"New Brunswick and Nova Scotia, November 4, 2007. Wind gusts of up to 135 km/h from post-tropical storm Noel lashed the Maritimes, knocking out power to an estimated 190,000 homes and businesses across the region, while pounding surf and heavy rain washed out roads in some coastal areas.\",\"New Brunswick and Nova Scotia\"],[\"Newfoundland, August 1, 2007. Post-Tropic storm Chantel tracked over through the Maritimes reaching Newfoundland?s Avalon Peninsula on August 1. Chanel dumped up to 200 mm of rain and produced wind gusts of up to 111 km/h in the region. The intense rainfall broke records. St. John?s West and Mount Pearl reported the heaviest one-hour rainfall, which included 43 mm and 49 mm respectively. Ten communities in Newfoundland were isolated due to flooding and declared a state of emergency. Numerous roads and bridges were washed out because of the torrential rain.\",\"Newfoundland\"],[\"Edmundston and Saint-Jacques NB, August 13-14, 2004. Tropical storm Bonnie produced significant heavy rain throughout New Brunswick. Edmundston and Saint-Jacques were both hard hit by the torrential rain. There was localised flooding, basement flooding and road closures in Edmundston and Saint-Jacques. The community of Saint-Jacques was put on a boil water advisory due to well contamination that resulted from the flooding. Edmundston recieved up to 90 mm of rain, while 50.9 mm and 65.4 mm was reported in Fredricton and St. Stephen. Flooded roads created dangerous driving conditions for local residents. One individual was killed while driving a truck across a shallow stream.\",\"Edmundston NB\"],[\"Halifax NS and Charlottetown PE, September 29, 2003. At 00:10 AST, Hurricane Juan made landfall in Nova Scotia as one of the most powerful and damaging hurricanes to impact Canada.  A 1.63 metre storm surge occurred while Juan made landfall just south of Halifax as a Class 2 hurricane. Water levels reached 2.9 metres above chart datum, which was the highest water level recorded to date at this location. Winds gusted to 230 km/h in Halifax and waves outside Halifax Harbour reached a maximum height of 19 metres. Extensive damage to buildings, docks, boardwalks and trails occurred throughout Nova Scotia and Prince Edward Island. Point Pleasant Park in Halifax was decimated; nearly every tree in the 75-hectare park was damaged or uprooted. Juan knocked out power to hundreds of thousands of people. It is estaimated that up to 300,000 people lost power due to the strong winds. In addition, eight lives were lost either directly or indirectly as a result of Hurricane Juan.\",\"Halifax NS and Charlottetown PE\"],[\"Southern coast of Newfoundland, September 19, 2001. Tropical Storm \\\"Gabrielle\\\". High tides, strong winds and record-breaking precipitation hit the southern coast of Newfoundland, particularly the Avalon Peninsula. Provincial, municipal, and private properties were greatly affected. Basements, streets, parks, schools and shopping malls were flooded. Power outages affected most of the province. Conflict arose between St-John's residents and the municipality over the inadequate sewer system; the sewer system could not manage the runoff.\",\"Southern coast of Newfoundland\"],[\"Burin Peninsula NL, September 11, 1995. Heavy rains and winds associated with Hurricane \\\"Luis\\\" caused damage to provincial, municipal, and private sector properties on the Burin Peninsula. Some two dozen roads were washed out.\",\"Burin Peninsula NL\"],[\"Southern New Brunswick, August 19, 1991. 2 deaths; Hurricane Bob hit southern New Brunswick with winds gusting to 100 km/h after leaving a trail of destruction through the U.S. Cape Cod region.\",\"Southern New Brunswick\"],[\"Northumberland Strait NS and PE, August 1990. Six crew were killed when a cargo ship sailing south of Nova Scotia was battered by hurricane Bertha; winds and heavy rains damaged Prince Edward Island's corn and tobacco crops; huge surf pounded the island's coast, and up to 190 mm of rainfall was recorded in some areas.\",\"Northumberland Strait (NS and PE)\"],[\"Dartmouth NS, August 15-16, 1971. Hurricane \\\"Beth\\\" produced 296 mm of rain in Nova Scotia; damage to crops was extensive, sections of highways and bridges were washed out; fresh water supplies in Dartmouth, Nova Scotia were left contaminated for days because of extensive runoff into Lake Antigonish.\",\"Dartmouth NS\"],[\"Maritime Provinces, October 21, 1968. Remnants of Hurricane \\\"Gladys\\\" passed over Cape Breton Island, killing one person and producing rainfall of 45-90 mm; the storm caused flooding in New Brunswick and Nova Scotia.\",\"Maritime Provinces\"],[\"Maritime Provinces, June 20, 1959. 33 people, mostly lobster fishermen, were killed as hurricane gales, reaching 120 km/h, swept across the Maritimes; caused considerable property damage. Twenty-two fishing boats were destroyed off Escuminac.\",\"Maritime Provinces\"]],\"hovertemplate\":\"EVENT TYPE=Hurricane / Typhoon / Tropical Storm<br>NORMALIZED TOTAL COST=%{marker.size}<br>INSURANCE PAYMENTS=%{y}<br>COMMENTS=%{customdata[0]}<br>PLACE=%{customdata[1]}<extra></extra>\",\"legendgroup\":\"Hurricane / Typhoon / Tropical Storm\",\"marker\":{\"color\":\"#FF6692\",\"size\":[1184281.2,7699216.0,4403829.5,0.0,0.0,0.0,0.0,35500.6,0.0,380071.7,0.0,1490057.7,720429.6,182321.2,508783.6,338813.8,696459.3,0.0,0.0],\"sizemode\":\"area\",\"sizeref\":761618.9102500001,\"symbol\":\"circle\"},\"mode\":\"markers\",\"name\":\"Hurricane / Typhoon / Tropical Storm\",\"orientation\":\"v\",\"showlegend\":true,\"x\":[1184281.2,7699216.0,4403829.5,0.0,0.0,0.0,0.0,35500.6,0.0,380071.7,0.0,1490057.7,720429.6,182321.2,508783.6,338813.8,696459.3,0.0,0.0],\"xaxis\":\"x\",\"y\":[null,137800000.0,null,null,null,null,null,null,null,7063000.0,null,null,5720660.0,null,null,null,null,null,null],\"yaxis\":\"y\",\"type\":\"scatter\"},{\"customdata\":[[\"Baie-Verte NB, January 2-3, 2010. While there are no gauges in the Baie-Verte/Port Elgin area, Environment Canada reported that based on the gauge at Pointe du Chene the peak water level there lasted for approximately two hours. Environment Canada indicated that water levels in the Baie-Verte/Port Elgin area would have been greater than the five feet recorded at Pointe du Chene due to the peak winds occurring there later in the storm.\",\"Baie-Verte and Port Elgin NB\"],[\"Delta BC, February 4, 2006. A strong winter storm with sustained winds of 75 km/h brought an approximately one metre storm surge which coincided with the morning high tide resulting in water levels 5.5 metre above chart datum. Combined with high waves, overtopping and breaching of dykes allowed flooding of low-lying areas behind the dykes. Approximately 150-200 residential properties were affected.\",\"Delta BC\"],[\"Kings County PE, December 27, 2004. Panmure Island and Basin Head were particularly affected. In North Rustico, a man was rescued by firefighters from his flooded residence.\",\"Kings County PE\"],[\"Eastern and Northern Coastline of New Brunswick, October 29, 2000.  Extensive damage occurred during a severe storm surge with winds in excess of 130 km/h.  Private property, businesses and public infrastructure were damaged along the eastern and northern coast of New Brunswick.  The emerging shellfish aquaculture industry (which includes mussels, oysters and clams) was also greatly affected.\",\"Eastern and Northern Coastline of New Brunswick\"],[\"Maritime provinces, January 21, 2000. A 1.36 m surge occurred as an intense storm passed 55 km east of Charlottetown bringing 70 km/h sustained winds to the region. The peak surge coincided with high tide resulting in a water level of 4.23 m above chart datum, the highest water level recorded to date at this location. Significant flooding occurred inundating more than 460 properties including gas stations and a power generating plant and damaging wharves.\",\"Maritime provinces\"],[\"New Brunswick,  February 2-3, 1976. The \\\"Groundhog Day Storm\\\"; a severe storm hit the Bay of Fundy producing 188 km/h winds and 12 m waves with swells 10 m high; parts of central New Brunswick. Saint John, was hit the hardest within the province, with damaged docks, buildings, boats and mobile homes, lobster traps and fish nets; the storm severed hydro poles and trees; transportation and utilities were stopped for a week; coastline flooding occurred; 550 m of a sea wall caved in. All of Prince Edward Island and parts of Nova Scotia were affected. Refer to the Nova Scotia entry for more information on this storm system.\",\"New Brunswick\"],[\"Western, Central and Northern NS, February 2-3, 1976. The \\\"Groundhog Day Storm\\\": high winds damaged roofs and windows, knocked down trees and power and telephone lines and caved in a 550 m sea wall.  The biggest impacts were caused by a storm surge. The fishing industry was greatly affected by the damage to the shoreline as a result of the extremely high tides. Refer to the New Brunswick entry for more information on this storm system.\",\"Western, Central and Northern NS\"]],\"hovertemplate\":\"EVENT TYPE=Storm Surge<br>NORMALIZED TOTAL COST=%{marker.size}<br>INSURANCE PAYMENTS=%{y}<br>COMMENTS=%{customdata[0]}<br>PLACE=%{customdata[1]}<extra></extra>\",\"legendgroup\":\"Storm Surge\",\"marker\":{\"color\":\"#B6E880\",\"size\":[32326.5,352300.6,147738.6,344717.0,13646.4,1544469.5,798289.4],\"sizemode\":\"area\",\"sizeref\":761618.9102500001,\"symbol\":\"circle\"},\"mode\":\"markers\",\"name\":\"Storm Surge\",\"orientation\":\"v\",\"showlegend\":true,\"x\":[32326.5,352300.6,147738.6,344717.0,13646.4,1544469.5,798289.4],\"xaxis\":\"x\",\"y\":[144003.0,6406000.0,null,5481000.0,null,null,null],\"yaxis\":\"y\",\"type\":\"scatter\"},{\"customdata\":[[\"Vancouver and Fraser BC, June 27 to August 3, 2009. Temperatures of up to 34.4 degrees centigrade were measured at Vancouver International Airport during an eight-day period from July 27 to August 3. According to the Fraser and Vancouver Health Authorities, in the past during the same eight-day period from July 27 to August 3, the average number of deaths was 321, but in 2009 during this time, there was a registered 455 deaths. It is believe that the heat greatly contributed towards the unusually high number of deaths.\",\"Vancouver and Fraser BC\"]],\"hovertemplate\":\"EVENT TYPE=Heat Event<br>NORMALIZED TOTAL COST=%{marker.size}<br>INSURANCE PAYMENTS=%{y}<br>COMMENTS=%{customdata[0]}<br>PLACE=%{customdata[1]}<extra></extra>\",\"legendgroup\":\"Heat Event\",\"marker\":{\"color\":\"#FF97FF\",\"size\":[0.0],\"sizemode\":\"area\",\"sizeref\":761618.9102500001,\"symbol\":\"circle\"},\"mode\":\"markers\",\"name\":\"Heat Event\",\"orientation\":\"v\",\"showlegend\":true,\"x\":[0.0],\"xaxis\":\"x\",\"y\":[null],\"yaxis\":\"y\",\"type\":\"scatter\"},{\"customdata\":[[\"Saskatchewan and Alberta, March 1 to July 1, 2009.  The Canadian Wheat Board projected lower crop prospects by 20 per cent across the Prairies. A dozen counties and municipal districts in Alberta declared a state of drought emergency or disaster. For example, Saskatoon had less than one-quarter of the usual amount of spring precipitation, making the months of March, April and May the driest since record-keeping began in 1892. It wasn't just spring that was dry. The soil moisture recharge period between September 1, 2008 and March 31, 2009 had less than 60 per cent of normal precipitation. To the west, in Alberta, conditions were even drier, as illustrated by precipitation amounts in Edmonton, where the 12- month total rain and snow from July 2008 to June 2009 was only 234 mm, less than half of normal and the driest such period with records dating back to 1880. Making matters worse, eight of the last ten years in Alberta's capital of Edmonton had less rain and snow than the 30-year average total, but no year was as scanty as the most recent. Not surprisingly, the flow of the North Saskatchewan River was at its third lowest level in nearly a century.\",\"Saskatchewan and Alberta\"],[\"Grande Prairie AB, 1996.\",\"Grande Prairie AB\"],[\"Prairie Provinces, 1993. Severe and widespread surface water droughts reported on the Prairies.\",\"Prairie Provinces\"],[\"Prairie Provinces, 1992. Livestock yields were low in northern Alberta and Saskatchewan due to dry conditions; severe and widespread surface water droughts reported on the Prairies; coldest July since 1884.\",\"Prairie Provinces\"],[\"Prairie Provinces, 1991. Severe and widespread surface water droughts reported on the Prairies.\",\"Prairie Provinces\"],[\"Prairie Provinces, 1990. Cereal crop drought occurred in parts of the Prairies.\",\"Prairie Provinces\"],[\"Prairie Provinces, 1989. Cereal crop drought occurred in parts of the Prairies; severe and widespread surface water droughts reported on the Prairies.\",\"Prairie Provinces\"],[\"Prairie Provinces, 1986. Severe and widespread surface water droughts reported on the Prairies.\",\"Prairie Provinces\"],[\"Prairie Provinces, 1984. The worst agricultural drought since the 1930s to occur in the Prairies; severe and widespread surface water droughts reported on the Prairies. Over 10,000 farms were affected.\",\"Prairie Provinces\"],[\"Prairie Provinces, 1983. Cereal crop drought occurred in parts of the Prairies; production declined in western Canada by 7.5% due to the onset of drought during the growing season.\",\"Prairie Provinces\"],[\"Prairie Provinces, 1981. Severe and widespread surface water droughts reported on the Prairies.\",\"Prairie Provinces\"],[\"Prairie Provinces, 1977. Cereal crop drought occurred in parts of the Prairies; among the most severe and widespread surface water droughts ever to occur on the Prairies; severe drought in southern Alberta and western Saskatchewan.\",\"Prairie Provinces\"],[\"Prairie Provinces, 1974. Cereal crop drought occurred in parts of the Prairies.\",\"Prairie Provinces\"],[\"Prairie Provinces, 1973. Severe and widespread surface water droughts reported on the Prairies, as well as winterkill in forage crops in British Columbia interior.\",\"Prairie Provinces\"],[\"Prairie Provinces, 1969. Cereal crop drought occurred in parts of the Prairies.\",\"Prairie Provinces\"],[\"Prairie Provinces, 1968. Cereal crop drought occurred in parts of the Prairies; severe and widespread surface water droughts reported on the Prairies.\",\"Prairie Provinces\"],[\"Prairie Provinces, 1967. Cereal crop drought occurred in parts of the Prairies; extensive drought from the Peace River, Alberta, to southern Manitoba.\",\"Prairie Provinces\"],[\"Prairie Provinces, 1964. Cereal crop drought occurred in parts of the Prairies; severe and widespread surface water droughts reported on the Prairies.\",\"Prairie Provinces\"],[\"Prairie Provinces, 1963. Severe and widespread surface water droughts reported on the Prairies.\",\"Prairie Provinces\"],[\"Prairie Provinces, 1962. Severe and widespread surface water droughts reported on the Prairies.\",\"Prairie Provinces\"],[\"Prairie Provinces, 1961. One of the worst agricultural droughts to occur in the Prairies; among the most severe and widespread surface water droughts ever to occur on the Prairies; total net farm income dropped by 48% compared to 1960.  The worst drought year this century for prairie wheat.\",\"Prairie Provinces\"],[\"Prairie Provinces, 1960. Cereal crop drought occurred in parts of the Prairies.\",\"Prairie Provinces\"],[\"Prairie Provinces, 1959. Severe and widespread surface water droughts reported on the Prairies.\",\"Prairie Provinces\"],[\"Prairie Provinces, 1958. Cereal crop drought occurred in parts of the Prairies; severe and widespread surface water droughts were reported.\",\"Prairie Provinces\"],[\"Prairie Provinces, 1931-1938. The \\\"dirty thirties\\\"; dust storms, plant rust, heat waves, grasshopper plagues and water shortages plagued western Canada for almost a decade causing immense social and economic hardship. It is estimated that 250,000 people left the area. For related deaths, see Heatwave of 1936 (1936.005).\",\"Prairie Provinces\"],[\"Prairie Provinces, 1929. Cereal crop drought occurred in parts of the Prairies.\",\"Prairie Provinces\"],[\"Prairie Provinces, 1924. Cereal crop drought occurred in parts of the Prairies.\",\"Prairie Provinces\"],[\"Prairie Provinces, 1920. Cereal crop drought occurred in parts of the Prairies. Alberta communities were hardest hit.\",\"Prairie Provinces\"],[\"Prairie Provinces, 1919. Cereal crop drought occurred in parts of the Prairies.\",\"Prairie Provinces\"],[\"Prairie Provinces, 1918. Cereal crop drought occurred in parts of the Prairies.\",\"Prairie Provinces\"],[\"Prairie Provinces, 1917. Cereal crop drought occurred in parts of the Prairies.\",\"Prairie Provinces\"],[\"Prairie Provinces, 1914. Cereal crop drought occurred in parts of the Prairies.\",\"Prairie Provinces\"],[\"Prairie Provinces, 1910. Cereal crop drought occurred in parts of the Prairies.\",\"Prairie Provinces\"]],\"hovertemplate\":\"EVENT TYPE=Drought<br>NORMALIZED TOTAL COST=%{marker.size}<br>INSURANCE PAYMENTS=%{y}<br>COMMENTS=%{customdata[0]}<br>PLACE=%{customdata[1]}<extra></extra>\",\"legendgroup\":\"Drought\",\"marker\":{\"color\":\"#FECB52\",\"size\":[0.0,3890516.9,0.0,41471251.6,10620073.8,44532516.2,0.0,0.0,0.0,0.0,224.7,0.0,0.0,0.0,0.0,0.0,0.0,0.0,0.0,0.0,0.0,0.0,0.0,0.0,0.0,0.0,0.0,0.0,0.0,0.0,0.0,0.0,0.0],\"sizemode\":\"area\",\"sizeref\":761618.9102500001,\"symbol\":\"circle\"},\"mode\":\"markers\",\"name\":\"Drought\",\"orientation\":\"v\",\"showlegend\":true,\"x\":[0.0,3890516.9,0.0,41471251.6,10620073.8,44532516.2,0.0,0.0,0.0,0.0,224.7,0.0,0.0,0.0,0.0,0.0,0.0,0.0,0.0,0.0,0.0,0.0,0.0,0.0,0.0,0.0,0.0,0.0,0.0,0.0,0.0,0.0,0.0],\"xaxis\":\"x\",\"y\":[null,null,null,null,null,null,null,null,null,null,null,null,null,null,null,null,null,null,null,null,null,null,null,null,null,null,null,null,null,null,null,null,null],\"yaxis\":\"y\",\"type\":\"scatter\"},{\"customdata\":[[\"Kangiqsualujjuaq QC, January 1, 1999. The Inuit community of Kangiqsualujjuaq, grieved after 9 died in Quebec's worst avalanche. Four adults and five children died in the tragedy after tonnes of snow came cascading down the sheer face of a 365-metre-high cliff at 1:30 am on January 1, knocking out a wall and swamping those inside the gymnasium where the New Year's Eve party was being held. Some of the 25 injured were in critical condition and 10 other buildings were evacuated.\",\"Kangiqsualujjuaq QC\"],[\"Blanc Sablon (lower north coast) QC, March 10, 1995. An large snow storm provoked an avalanche (2000 m? of snow).  Two people were killed, a house destroyed, 24 residences were evacuated. The avalanche affected 69 people in total.\",\"Blanc Sablon QC\"]],\"hovertemplate\":\"EVENT TYPE=Avalanche<br>NORMALIZED TOTAL COST=%{marker.size}<br>INSURANCE PAYMENTS=%{y}<br>COMMENTS=%{customdata[0]}<br>PLACE=%{customdata[1]}<extra></extra>\",\"legendgroup\":\"Avalanche\",\"marker\":{\"color\":\"#636efa\",\"size\":[413373.5,25216.4],\"sizemode\":\"area\",\"sizeref\":761618.9102500001,\"symbol\":\"circle\"},\"mode\":\"markers\",\"name\":\"Avalanche\",\"orientation\":\"v\",\"showlegend\":true,\"x\":[413373.5,25216.4],\"xaxis\":\"x\",\"y\":[null,null],\"yaxis\":\"y\",\"type\":\"scatter\"},{\"customdata\":[[\"Alberta to the Maritimes, late January to early February 1994. Coldest Jan. in 100 years.  St. John's NF 14.5\\u00b0C; Ottawa ON -31.3\\u00b0C; Kapuskasing ON -40\\u00b0C, tires fell off rims of cars.  Coldest winter in Toronto since 1920, with double the normal snowfall as usual in January and 5 degrees cooler (at 10\\u00b0C).  Dramatic increase in frozen water pipes that burst and caused damage to homes, commercial plants and contents.\",\"Alberta to Maritimes\"],[\"Prairie Provinces and Ontario, Summer 1992.  Unseasonable snow and frost during the months of June, July, and August caused massive damage to agricultural crops.\",\"Prairies Provinces and Ontario\"],[\"British Columbia to Ontario, December 1989 \\u00c2? January 1990. Two serious cold spells began on December 19-28, 1989; snow, wind, and ice knocked out power lines to 60,000 homes in southwestern British Columbia on January 17; 5 deaths in Manitoba were caused by exposure to the extreme cold; 2 deaths due to fatal accidents in Alberta; freezing caused pipes to burst in Ontario. Almost 65% of the BC's utilities 16,980,000 cubic metres reserve used up.\",\"British Columbia to Ontario\"]],\"hovertemplate\":\"EVENT TYPE=Cold Event<br>NORMALIZED TOTAL COST=%{marker.size}<br>INSURANCE PAYMENTS=%{y}<br>COMMENTS=%{customdata[0]}<br>PLACE=%{customdata[1]}<extra></extra>\",\"legendgroup\":\"Cold Event\",\"marker\":{\"color\":\"#EF553B\",\"size\":[3220.2,142857.1,43033.8],\"sizemode\":\"area\",\"sizeref\":761618.9102500001,\"symbol\":\"circle\"},\"mode\":\"markers\",\"name\":\"Cold Event\",\"orientation\":\"v\",\"showlegend\":true,\"x\":[3220.2,142857.1,43033.8],\"xaxis\":\"x\",\"y\":[null,null,null],\"yaxis\":\"y\",\"type\":\"scatter\"}],                        {\"template\":{\"data\":{\"histogram2dcontour\":[{\"type\":\"histogram2dcontour\",\"colorbar\":{\"outlinewidth\":0,\"ticks\":\"\"},\"colorscale\":[[0.0,\"#0d0887\"],[0.1111111111111111,\"#46039f\"],[0.2222222222222222,\"#7201a8\"],[0.3333333333333333,\"#9c179e\"],[0.4444444444444444,\"#bd3786\"],[0.5555555555555556,\"#d8576b\"],[0.6666666666666666,\"#ed7953\"],[0.7777777777777778,\"#fb9f3a\"],[0.8888888888888888,\"#fdca26\"],[1.0,\"#f0f921\"]]}],\"choropleth\":[{\"type\":\"choropleth\",\"colorbar\":{\"outlinewidth\":0,\"ticks\":\"\"}}],\"histogram2d\":[{\"type\":\"histogram2d\",\"colorbar\":{\"outlinewidth\":0,\"ticks\":\"\"},\"colorscale\":[[0.0,\"#0d0887\"],[0.1111111111111111,\"#46039f\"],[0.2222222222222222,\"#7201a8\"],[0.3333333333333333,\"#9c179e\"],[0.4444444444444444,\"#bd3786\"],[0.5555555555555556,\"#d8576b\"],[0.6666666666666666,\"#ed7953\"],[0.7777777777777778,\"#fb9f3a\"],[0.8888888888888888,\"#fdca26\"],[1.0,\"#f0f921\"]]}],\"heatmap\":[{\"type\":\"heatmap\",\"colorbar\":{\"outlinewidth\":0,\"ticks\":\"\"},\"colorscale\":[[0.0,\"#0d0887\"],[0.1111111111111111,\"#46039f\"],[0.2222222222222222,\"#7201a8\"],[0.3333333333333333,\"#9c179e\"],[0.4444444444444444,\"#bd3786\"],[0.5555555555555556,\"#d8576b\"],[0.6666666666666666,\"#ed7953\"],[0.7777777777777778,\"#fb9f3a\"],[0.8888888888888888,\"#fdca26\"],[1.0,\"#f0f921\"]]}],\"heatmapgl\":[{\"type\":\"heatmapgl\",\"colorbar\":{\"outlinewidth\":0,\"ticks\":\"\"},\"colorscale\":[[0.0,\"#0d0887\"],[0.1111111111111111,\"#46039f\"],[0.2222222222222222,\"#7201a8\"],[0.3333333333333333,\"#9c179e\"],[0.4444444444444444,\"#bd3786\"],[0.5555555555555556,\"#d8576b\"],[0.6666666666666666,\"#ed7953\"],[0.7777777777777778,\"#fb9f3a\"],[0.8888888888888888,\"#fdca26\"],[1.0,\"#f0f921\"]]}],\"contourcarpet\":[{\"type\":\"contourcarpet\",\"colorbar\":{\"outlinewidth\":0,\"ticks\":\"\"}}],\"contour\":[{\"type\":\"contour\",\"colorbar\":{\"outlinewidth\":0,\"ticks\":\"\"},\"colorscale\":[[0.0,\"#0d0887\"],[0.1111111111111111,\"#46039f\"],[0.2222222222222222,\"#7201a8\"],[0.3333333333333333,\"#9c179e\"],[0.4444444444444444,\"#bd3786\"],[0.5555555555555556,\"#d8576b\"],[0.6666666666666666,\"#ed7953\"],[0.7777777777777778,\"#fb9f3a\"],[0.8888888888888888,\"#fdca26\"],[1.0,\"#f0f921\"]]}],\"surface\":[{\"type\":\"surface\",\"colorbar\":{\"outlinewidth\":0,\"ticks\":\"\"},\"colorscale\":[[0.0,\"#0d0887\"],[0.1111111111111111,\"#46039f\"],[0.2222222222222222,\"#7201a8\"],[0.3333333333333333,\"#9c179e\"],[0.4444444444444444,\"#bd3786\"],[0.5555555555555556,\"#d8576b\"],[0.6666666666666666,\"#ed7953\"],[0.7777777777777778,\"#fb9f3a\"],[0.8888888888888888,\"#fdca26\"],[1.0,\"#f0f921\"]]}],\"mesh3d\":[{\"type\":\"mesh3d\",\"colorbar\":{\"outlinewidth\":0,\"ticks\":\"\"}}],\"scatter\":[{\"fillpattern\":{\"fillmode\":\"overlay\",\"size\":10,\"solidity\":0.2},\"type\":\"scatter\"}],\"parcoords\":[{\"type\":\"parcoords\",\"line\":{\"colorbar\":{\"outlinewidth\":0,\"ticks\":\"\"}}}],\"scatterpolargl\":[{\"type\":\"scatterpolargl\",\"marker\":{\"colorbar\":{\"outlinewidth\":0,\"ticks\":\"\"}}}],\"bar\":[{\"error_x\":{\"color\":\"#2a3f5f\"},\"error_y\":{\"color\":\"#2a3f5f\"},\"marker\":{\"line\":{\"color\":\"#E5ECF6\",\"width\":0.5},\"pattern\":{\"fillmode\":\"overlay\",\"size\":10,\"solidity\":0.2}},\"type\":\"bar\"}],\"scattergeo\":[{\"type\":\"scattergeo\",\"marker\":{\"colorbar\":{\"outlinewidth\":0,\"ticks\":\"\"}}}],\"scatterpolar\":[{\"type\":\"scatterpolar\",\"marker\":{\"colorbar\":{\"outlinewidth\":0,\"ticks\":\"\"}}}],\"histogram\":[{\"marker\":{\"pattern\":{\"fillmode\":\"overlay\",\"size\":10,\"solidity\":0.2}},\"type\":\"histogram\"}],\"scattergl\":[{\"type\":\"scattergl\",\"marker\":{\"colorbar\":{\"outlinewidth\":0,\"ticks\":\"\"}}}],\"scatter3d\":[{\"type\":\"scatter3d\",\"line\":{\"colorbar\":{\"outlinewidth\":0,\"ticks\":\"\"}},\"marker\":{\"colorbar\":{\"outlinewidth\":0,\"ticks\":\"\"}}}],\"scattermapbox\":[{\"type\":\"scattermapbox\",\"marker\":{\"colorbar\":{\"outlinewidth\":0,\"ticks\":\"\"}}}],\"scatterternary\":[{\"type\":\"scatterternary\",\"marker\":{\"colorbar\":{\"outlinewidth\":0,\"ticks\":\"\"}}}],\"scattercarpet\":[{\"type\":\"scattercarpet\",\"marker\":{\"colorbar\":{\"outlinewidth\":0,\"ticks\":\"\"}}}],\"carpet\":[{\"aaxis\":{\"endlinecolor\":\"#2a3f5f\",\"gridcolor\":\"white\",\"linecolor\":\"white\",\"minorgridcolor\":\"white\",\"startlinecolor\":\"#2a3f5f\"},\"baxis\":{\"endlinecolor\":\"#2a3f5f\",\"gridcolor\":\"white\",\"linecolor\":\"white\",\"minorgridcolor\":\"white\",\"startlinecolor\":\"#2a3f5f\"},\"type\":\"carpet\"}],\"table\":[{\"cells\":{\"fill\":{\"color\":\"#EBF0F8\"},\"line\":{\"color\":\"white\"}},\"header\":{\"fill\":{\"color\":\"#C8D4E3\"},\"line\":{\"color\":\"white\"}},\"type\":\"table\"}],\"barpolar\":[{\"marker\":{\"line\":{\"color\":\"#E5ECF6\",\"width\":0.5},\"pattern\":{\"fillmode\":\"overlay\",\"size\":10,\"solidity\":0.2}},\"type\":\"barpolar\"}],\"pie\":[{\"automargin\":true,\"type\":\"pie\"}]},\"layout\":{\"autotypenumbers\":\"strict\",\"colorway\":[\"#636efa\",\"#EF553B\",\"#00cc96\",\"#ab63fa\",\"#FFA15A\",\"#19d3f3\",\"#FF6692\",\"#B6E880\",\"#FF97FF\",\"#FECB52\"],\"font\":{\"color\":\"#2a3f5f\"},\"hovermode\":\"closest\",\"hoverlabel\":{\"align\":\"left\"},\"paper_bgcolor\":\"white\",\"plot_bgcolor\":\"#E5ECF6\",\"polar\":{\"bgcolor\":\"#E5ECF6\",\"angularaxis\":{\"gridcolor\":\"white\",\"linecolor\":\"white\",\"ticks\":\"\"},\"radialaxis\":{\"gridcolor\":\"white\",\"linecolor\":\"white\",\"ticks\":\"\"}},\"ternary\":{\"bgcolor\":\"#E5ECF6\",\"aaxis\":{\"gridcolor\":\"white\",\"linecolor\":\"white\",\"ticks\":\"\"},\"baxis\":{\"gridcolor\":\"white\",\"linecolor\":\"white\",\"ticks\":\"\"},\"caxis\":{\"gridcolor\":\"white\",\"linecolor\":\"white\",\"ticks\":\"\"}},\"coloraxis\":{\"colorbar\":{\"outlinewidth\":0,\"ticks\":\"\"}},\"colorscale\":{\"sequential\":[[0.0,\"#0d0887\"],[0.1111111111111111,\"#46039f\"],[0.2222222222222222,\"#7201a8\"],[0.3333333333333333,\"#9c179e\"],[0.4444444444444444,\"#bd3786\"],[0.5555555555555556,\"#d8576b\"],[0.6666666666666666,\"#ed7953\"],[0.7777777777777778,\"#fb9f3a\"],[0.8888888888888888,\"#fdca26\"],[1.0,\"#f0f921\"]],\"sequentialminus\":[[0.0,\"#0d0887\"],[0.1111111111111111,\"#46039f\"],[0.2222222222222222,\"#7201a8\"],[0.3333333333333333,\"#9c179e\"],[0.4444444444444444,\"#bd3786\"],[0.5555555555555556,\"#d8576b\"],[0.6666666666666666,\"#ed7953\"],[0.7777777777777778,\"#fb9f3a\"],[0.8888888888888888,\"#fdca26\"],[1.0,\"#f0f921\"]],\"diverging\":[[0,\"#8e0152\"],[0.1,\"#c51b7d\"],[0.2,\"#de77ae\"],[0.3,\"#f1b6da\"],[0.4,\"#fde0ef\"],[0.5,\"#f7f7f7\"],[0.6,\"#e6f5d0\"],[0.7,\"#b8e186\"],[0.8,\"#7fbc41\"],[0.9,\"#4d9221\"],[1,\"#276419\"]]},\"xaxis\":{\"gridcolor\":\"white\",\"linecolor\":\"white\",\"ticks\":\"\",\"title\":{\"standoff\":15},\"zerolinecolor\":\"white\",\"automargin\":true,\"zerolinewidth\":2},\"yaxis\":{\"gridcolor\":\"white\",\"linecolor\":\"white\",\"ticks\":\"\",\"title\":{\"standoff\":15},\"zerolinecolor\":\"white\",\"automargin\":true,\"zerolinewidth\":2},\"scene\":{\"xaxis\":{\"backgroundcolor\":\"#E5ECF6\",\"gridcolor\":\"white\",\"linecolor\":\"white\",\"showbackground\":true,\"ticks\":\"\",\"zerolinecolor\":\"white\",\"gridwidth\":2},\"yaxis\":{\"backgroundcolor\":\"#E5ECF6\",\"gridcolor\":\"white\",\"linecolor\":\"white\",\"showbackground\":true,\"ticks\":\"\",\"zerolinecolor\":\"white\",\"gridwidth\":2},\"zaxis\":{\"backgroundcolor\":\"#E5ECF6\",\"gridcolor\":\"white\",\"linecolor\":\"white\",\"showbackground\":true,\"ticks\":\"\",\"zerolinecolor\":\"white\",\"gridwidth\":2}},\"shapedefaults\":{\"line\":{\"color\":\"#2a3f5f\"}},\"annotationdefaults\":{\"arrowcolor\":\"#2a3f5f\",\"arrowhead\":0,\"arrowwidth\":1},\"geo\":{\"bgcolor\":\"white\",\"landcolor\":\"#E5ECF6\",\"subunitcolor\":\"white\",\"showland\":true,\"showlakes\":true,\"lakecolor\":\"white\"},\"title\":{\"x\":0.05},\"mapbox\":{\"style\":\"light\"}}},\"xaxis\":{\"anchor\":\"y\",\"domain\":[0.0,1.0],\"title\":{\"text\":\"NORMALIZED TOTAL COST\"}},\"yaxis\":{\"anchor\":\"x\",\"domain\":[0.0,1.0],\"title\":{\"text\":\"INSURANCE PAYMENTS\"}},\"legend\":{\"title\":{\"text\":\"EVENT TYPE\"},\"tracegroupgap\":0,\"itemsizing\":\"constant\"},\"title\":{\"text\":\"Total Cost of Disasters Compared to Insurance Payments\"},\"height\":600},                        {\"responsive\": true}                    ).then(function(){\n",
       "                            \n",
       "var gd = document.getElementById('ebffb7c5-ac82-42a0-83dd-65fd3081b674');\n",
       "var x = new MutationObserver(function (mutations, observer) {{\n",
       "        var display = window.getComputedStyle(gd).display;\n",
       "        if (!display || display === 'none') {{\n",
       "            console.log([gd, 'removed!']);\n",
       "            Plotly.purge(gd);\n",
       "            observer.disconnect();\n",
       "        }}\n",
       "}});\n",
       "\n",
       "// Listen for the removal of the full notebook cells\n",
       "var notebookContainer = gd.closest('#notebook-container');\n",
       "if (notebookContainer) {{\n",
       "    x.observe(notebookContainer, {childList: true});\n",
       "}}\n",
       "\n",
       "// Listen for the clearing of the current output cell\n",
       "var outputEl = gd.closest('.output');\n",
       "if (outputEl) {{\n",
       "    x.observe(outputEl, {childList: true});\n",
       "}}\n",
       "\n",
       "                        })                };                });            </script>        </div>"
      ]
     },
     "metadata": {},
     "output_type": "display_data"
    }
   ],
   "source": [
    "fig = px.scatter(data, x=\"NORMALIZED TOTAL COST\", y=\"INSURANCE PAYMENTS\", \n",
    "                 title='Total Cost of Disasters Compared to Insurance Payments', \n",
    "                 hover_data={\"PLACE\",\"COMMENTS\"},\n",
    "                 size='NORMALIZED TOTAL COST',\n",
    "                 color='EVENT TYPE',\n",
    "                 height=600)\n",
    "\n",
    "fig.show()"
   ]
  },
  {
   "cell_type": "markdown",
   "id": "0a246d1f-2fac-44a9-8f2c-a1d3dc6d2666",
   "metadata": {},
   "source": [
    "# Interpret\n",
    "\n",
    "In the scatter plot you can see the total cost of disaster events on the x axis and the amount of insurance payments for those disaster events being on the y axis. The color of the dots represents the different types of disaster events; for example tornados are a different color than winter storms. You can click on the dots that represent specific types of events in the legend to the right and hide particular event categories if you want to change the type of events you are looking at on the visualization. The larger dots also show events that had a larger normalized total cost. The normalized total cost on the x axis is shown in millions of dollars while the insurance payments on the y axis are shown in billions of dollars. \n",
    "\n",
    "If you scroll your cursor over a particular dot there are more details about the event represented by that dot. \n",
    "\n",
    "The majority of the events are relatively low in cost as they seem to be under half a billion dollrs in insurance payments and the normalized total cost of most of the events was under fifty million dollars. Which events are outside of that range? There are three events in particular that have a much higher cost when compared to the rest of the events. What can you find out from the scatter plot about those particular events? These events all were covered fairly extensively in the news. As an extension to this notebook you could work to do some more research on these events. "
   ]
  },
  {
   "cell_type": "markdown",
   "id": "1956e4ae-0908-4086-aa0f-cfa41ea67040",
   "metadata": {},
   "source": [
    "# Reflect on what you see\n",
    "\n",
    "After making your visualization the next step is to use the data and your visualization to answer the question. Look at and interact with the visualization above. When you hover your mouse over the plots, you’ll notice more information appears. You can also use the legend to make plots appear and disappear.\n",
    "\n",
    "#### Think about the following questions.\n",
    "\n",
    "* What do you notice about these graphs?\n",
    "* What do you wonder about the data?\n",
    "* What kind of inferences can you make based on this data?\n",
    "* Is there another way to visualize this data that would change your inerpretation of the information? \n",
    "\n",
    "\n",
    "#### Use the fill-in-the-blank prompts to summarize your thoughts.\n",
    "* \"I used to think _______\"\n",
    "* \"Now I think _______\"\n",
    "* \"I wish I knew more about _______\"\n",
    "* \"These data visualizations remind me of _______\"\n",
    "* \"I really like _______\""
   ]
  },
  {
   "cell_type": "markdown",
   "id": "9c0b332b-0680-408d-be81-fb893f4b70fe",
   "metadata": {},
   "source": [
    "# Communicate"
   ]
  },
  {
   "cell_type": "markdown",
   "id": "d22e3477-4fad-4c2e-a70a-92113f39397c",
   "metadata": {},
   "source": [
    "If you have not yet done this use the plot to answer our question on which natural disaster was the most expensive. \n",
    "Once we understand the costs of natural disasters how can we use that information?\n",
    "\n",
    "How can you communicate that information? What kind of product could you create to share that information with your school community and wider community?\n",
    "\n",
    "Consider tagging Callysto on [Twitter](https://twitter.com/callysto_canada), [YouTube](https://www.youtube.com/Callysto), [TikTok](https://www.tiktok.com/@callysto_canada), [Facebook](https://www.facebook.com/callystocanada/), or [Linkedin](https://www.linkedin.com/company/callysto-canada/) if you decide to share your reflections or projects on social media."
   ]
  },
  {
   "cell_type": "markdown",
   "id": "a17fec2b-f8b3-4af4-ac5e-dd958bf91ff4",
   "metadata": {},
   "source": [
    "# Further Resources"
   ]
  },
  {
   "cell_type": "markdown",
   "id": "51af182e-9b98-4123-ab60-3fa0008ce493",
   "metadata": {},
   "source": [
    "For more information on the costliest weather events between 2012 and 2016 check out this article from the [Weather Network](https://www.theweathernetwork.com/ca/news/article/the-top-five-costliest-canadian-natural-disasters-of-the-2010s) "
   ]
  },
  {
   "cell_type": "markdown",
   "id": "f490d3ce-a112-4fee-91d5-673380fea38a",
   "metadata": {},
   "source": [
    "You may find the following video about the 2013 Calgary floods interesting. Ensure you run the cell below to display the Youtube video. "
   ]
  },
  {
   "cell_type": "code",
   "execution_count": 11,
   "id": "19a1e58c-dd5e-47fc-a30a-13acc7e5d8b9",
   "metadata": {
    "tags": []
   },
   "outputs": [
    {
     "data": {
      "image/jpeg": "[encoded data removed]",
      "text/html": [
       "\n",
       "        <iframe\n",
       "            width=\"400\"\n",
       "            height=\"300\"\n",
       "            src=\"https://www.youtube.com/embed/jgw06p4jeh8\"\n",
       "            frameborder=\"0\"\n",
       "            allowfullscreen\n",
       "            \n",
       "        ></iframe>\n",
       "        "
      ],
      "text/plain": [
       "<IPython.lib.display.YouTubeVideo at 0x7fded21069d0>"
      ]
     },
     "execution_count": 11,
     "metadata": {},
     "output_type": "execute_result"
    }
   ],
   "source": [
    "from IPython.display import YouTubeVideo\n",
    "YouTubeVideo('jgw06p4jeh8')"
   ]
  },
  {
   "cell_type": "markdown",
   "id": "bc57689f-ecd3-4613-ab7b-010ecceb7169",
   "metadata": {},
   "source": [
    "[![Callysto.ca License](https://github.com/callysto/curriculum-notebooks/blob/master/callysto-notebook-banner-bottom.jpg?raw=true)](https://github.com/callysto/curriculum-notebooks/blob/master/LICENSE.md)"
   ]
  }
 ],
 "metadata": {
  "kernelspec": {
   "display_name": "Python 3 (ipykernel)",
   "language": "python",
   "name": "python3"
  },
  "language_info": {
   "codemirror_mode": {
    "name": "ipython",
    "version": 3
   },
   "file_extension": ".py",
   "mimetype": "text/x-python",
   "name": "python",
   "nbconvert_exporter": "python",
   "pygments_lexer": "ipython3",
   "version": "3.9.13"
  },
  "vscode": {
   "interpreter": {
    "hash": "7f569e6cb99883c88f8d77d735bb5c28a9468a61a85f72a9445b51366d966799"
   }
  }
 },
 "nbformat": 4,
 "nbformat_minor": 5
}
