{
 "cells": [
  {
   "attachments": {},
   "cell_type": "markdown",
   "metadata": {},
   "source": [
    "![Callysto.ca Banner](https://github.com/callysto/curriculum-notebooks/blob/master/callysto-notebook-banner-top.jpg?raw=true)\n",
    "\n",
    "<a href=\"https://hub.callysto.ca/jupyter/hub/user-redirect/git-pull?repo=https%3A%2F%2Fgithub.com%2Fcallysto%2Fdata-viz-of-the-week&branch=main&subPath=january-temperatures/january-temperatures.ipynb&depth=1\" target=\"_parent\"><img src=\"https://raw.githubusercontent.com/callysto/curriculum-notebooks/master/open-in-callysto-button.svg?sanitize=true\" width=\"123\" height=\"24\" alt=\"Open in Callysto\"/></a>"
   ]
  },
  {
   "attachments": {},
   "cell_type": "markdown",
   "metadata": {},
   "source": [
    "# January Temperatures\n",
    "\n",
    "January 2023 seemed quite warm, but was it the warmest January?\n",
    "\n",
    "We'll use data from the [Government of Canada Historical Climate Data](https://climate.weather.gc.ca/) site for the [Edmonton International Airport weather station](https://climate.weather.gc.ca/climate_data/daily_data_e.html?hlyRange=1999-02-17%7C2023-02-05&dlyRange=1999-01-01%7C2023-02-05&mlyRange=1999-01-01%7C2007-11-01&StationID=27793&Prov=AB&urlExtension=_e.html&searchType=stnName&optLimit=specDate&StartYear=1840&EndYear=2023&selRowPerPage=25&Line=1&searchMethod=contains&Month=2&Day=1&txtStationName=Edmonton&timeframe=2&Year=2023)."
   ]
  },
  {
   "cell_type": "code",
   "execution_count": null,
   "metadata": {},
   "outputs": [],
   "source": [
    "import pandas as pd\n",
    "import plotly.express as px\n",
    "\n",
    "station = 27793\n",
    "df = pd.DataFrame()\n",
    "for year in range(1999, 2024):\n",
    "    url = 'https://climate.weather.gc.ca/climate_data/bulk_data_e.html?format=csv&stationID='+str(station)+'&Year='+str(year)+'&Month=1&Day=1&time=&timeframe=2&submit=Download+Data'\n",
    "    df = pd.concat([df, pd.read_csv(url)])\n",
    "temperatures = df[df['Month']==1].groupby('Year').mean()\n",
    "\n",
    "fig = px.line(temperatures, y=['Max Temp (°C)','Mean Temp (°C)','Min Temp (°C)'], color_discrete_sequence=['red', 'green', 'blue'], title='January Temperatures in Edmonton')\n",
    "fig.update_layout(yaxis_title='Temperature (°C)')\n",
    "fig.add_hline(temperatures['Max Temp (°C)'].max(), line_dash='dash', line_color='red')\n",
    "fig.add_hline(temperatures['Mean Temp (°C)'].max(), line_dash='dash', line_color='green')\n",
    "fig.add_hline(temperatures['Min Temp (°C)'].max(), line_dash='dash', line_color='blue')\n",
    "fig.show()"
   ]
  },
  {
   "attachments": {},
   "cell_type": "markdown",
   "metadata": {},
   "source": [
    "So it looks like it January 2001 was the warmest January at the Edmonton Internation Airport, but we can also look at other weather stations or other months.\n",
    "\n",
    "First let's get a list of weather stations, and display a map of the ones that are still reporting daily weather data."
   ]
  },
  {
   "cell_type": "code",
   "execution_count": null,
   "metadata": {},
   "outputs": [],
   "source": [
    "import folium\n",
    "from folium.plugins import MarkerCluster\n",
    "stations = pd.read_csv('https://raw.githubusercontent.com/callysto/data-files/main/Mathematics/StatisticsProject/AccessingData/stations.csv')\n",
    "latitude = stations['Latitude'].mean()\n",
    "longitude = stations['Longitude'].mean()\n",
    "station_map = folium.Map(location=[latitude,longitude], zoom_start=3)\n",
    "marker_cluster = MarkerCluster()\n",
    "for row in stations[stations['DLY Last Year']>2022].itertuples():\n",
    "    marker_cluster.add_child(folium.Marker(location=[row.Latitude,row.Longitude], popup=row.Name+' '+str(row._4)))\n",
    "station_map.add_child(marker_cluster)\n",
    "station_map"
   ]
  },
  {
   "attachments": {},
   "cell_type": "markdown",
   "metadata": {},
   "source": [
    "We can now click on a marker to find its `Station ID`, and then put that value in the code cell below."
   ]
  },
  {
   "cell_type": "code",
   "execution_count": null,
   "metadata": {},
   "outputs": [],
   "source": [
    "station = 49568\n",
    "month = 1\n",
    "\n",
    "\n",
    "start_year = int(stations[stations['Station ID']==station]['DLY First Year'].values[0])\n",
    "end_year = int(stations[stations['Station ID']==station]['DLY Last Year'].values[0])\n",
    "station_name = stations[stations['Station ID']==station]['Name'].values[0]\n",
    "months = ['January', 'February', 'March', 'April', 'May', 'June', 'July', 'August', 'September', 'October', 'November', 'December']\n",
    "print('Getting data for', station_name, 'from', start_year, 'to', end_year, 'for', months[month-1])\n",
    "df = pd.DataFrame()\n",
    "for year in range(start_year, end_year+1):\n",
    "    url = 'https://climate.weather.gc.ca/climate_data/bulk_data_e.html?format=csv&stationID='+str(station)+'&Year='+str(year)+'&Month='+str(month)+'&Day=1&time=&timeframe=2&submit=Download+Data'\n",
    "    df = pd.concat([df, pd.read_csv(url)])\n",
    "temperatures = df[df['Month']==1].groupby('Year').mean()\n",
    "fig = px.line(temperatures, y=['Max Temp (°C)','Mean Temp (°C)','Min Temp (°C)'], color_discrete_sequence=['red', 'green', 'blue'], title='Average Temperatures for '+station_name+' in '+months[month-1])\n",
    "fig.update_layout(yaxis_title='Temperature (°C)')\n",
    "fig.add_hline(temperatures['Max Temp (°C)'].max(), line_dash='dash', line_color='red')\n",
    "fig.add_hline(temperatures['Mean Temp (°C)'].max(), line_dash='dash', line_color='green')\n",
    "fig.add_hline(temperatures['Min Temp (°C)'].max(), line_dash='dash', line_color='blue')\n",
    "fig.show()"
   ]
  },
  {
   "attachments": {},
   "cell_type": "markdown",
   "metadata": {},
   "source": [
    "It looks like in Ottawa the temperatures in January 2023 were close to the warmest in the last ten years. How about near where you live?"
   ]
  },
  {
   "attachments": {},
   "cell_type": "markdown",
   "metadata": {},
   "source": [
    "[![Callysto.ca License](https://github.com/callysto/curriculum-notebooks/blob/master/callysto-notebook-banner-bottom.jpg?raw=true)](https://github.com/callysto/curriculum-notebooks/blob/master/LICENSE.md)"
   ]
  }
 ],
 "metadata": {
  "kernelspec": {
   "display_name": "Python 3",
   "language": "python",
   "name": "python3"
  },
  "language_info": {
   "codemirror_mode": {
    "name": "ipython",
    "version": 3
   },
   "file_extension": ".py",
   "mimetype": "text/x-python",
   "name": "python",
   "nbconvert_exporter": "python",
   "pygments_lexer": "ipython3",
   "version": "3.10.1"
  },
  "orig_nbformat": 4,
  "vscode": {
   "interpreter": {
    "hash": "d1ca6d17674200220921376aaeb3d36cffe15ecab2470a9a5e7a456cdbf61425"
   }
  }
 },
 "nbformat": 4,
 "nbformat_minor": 2
}
