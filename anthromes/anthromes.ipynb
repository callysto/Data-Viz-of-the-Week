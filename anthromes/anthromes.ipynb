{
 "cells": [
  {
   "cell_type": "code",
   "execution_count": null,
   "metadata": {},
   "outputs": [],
   "source": [
    "import pandas as pd\n",
    "import os\n",
    "from plotly.subplots import make_subplots\n",
    "import plotly.graph_objects as go"
   ]
  },
  {
   "cell_type": "code",
   "execution_count": null,
   "metadata": {},
   "outputs": [],
   "source": [
    "path = os.path.join(\"data\", \"anthromes_summary.txt\")\n",
    "df = pd.read_csv(path, delim_whitespace=True)\n",
    "df = df.set_index(\"Class_id\")"
   ]
  },
  {
   "cell_type": "code",
   "execution_count": null,
   "metadata": {},
   "outputs": [],
   "source": [
    "df"
   ]
  },
  {
   "cell_type": "code",
   "execution_count": null,
   "metadata": {},
   "outputs": [],
   "source": [
    "df.loc[\"Dense Settlements\"] = df.loc[[11, 12]].sum()\n",
    "df.loc[\"Villages\"] = df.loc[[21, 22, 23, 24]].sum()\n",
    "df.loc[\"Croplands\"] = df.loc[[31, 32, 33, 34]].sum()\n",
    "df.loc[\"Rangeland\"] = df.loc[[41, 42, 43]].sum()\n",
    "df.loc[\"Seminatural\"] = df.loc[[51, 52, 53, 54]].sum()\n",
    "df.loc[\"Wild\"] = df.loc[[61, 62,63]].sum()"
   ]
  },
  {
   "cell_type": "code",
   "execution_count": null,
   "metadata": {},
   "outputs": [],
   "source": []
  },
  {
   "cell_type": "code",
   "execution_count": null,
   "metadata": {},
   "outputs": [],
   "source": [
    "df = df[-6:]\n",
    "df"
   ]
  },
  {
   "cell_type": "code",
   "execution_count": null,
   "metadata": {},
   "outputs": [],
   "source": [
    "df_millennia = df.iloc[:, :11]\n",
    "df_centuries = df.iloc[:, 10:28]\n",
    "df_decades = df.iloc[:, 27:58]\n",
    "df_years = df.iloc[:, 57:]"
   ]
  },
  {
   "cell_type": "code",
   "execution_count": null,
   "metadata": {},
   "outputs": [],
   "source": [
    "def add_traces(fig, df, row, col, traces, showlegend=False):\n",
    "    colors = ['grey', 'teal', 'yellow', 'brown', 'blue', 'green']\n",
    "    i = 0;\n",
    "    x = df.columns\n",
    "    for trace in traces:\n",
    "        fig.add_trace(go.Scatter(\n",
    "        x=x,\n",
    "        y=df.loc[trace].array,\n",
    "        mode='lines+markers',\n",
    "        stackgroup='one',\n",
    "        name = trace,\n",
    "        showlegend=showlegend,\n",
    "        line_color=colors[i]),\n",
    "                      row=row, \n",
    "                      col=col)\n",
    "        i = i + 1\n",
    "    return fig"
   ]
  },
  {
   "cell_type": "code",
   "execution_count": null,
   "metadata": {},
   "outputs": [],
   "source": [
    "print(px.colors.sequential.Plasma)"
   ]
  },
  {
   "cell_type": "code",
   "execution_count": null,
   "metadata": {},
   "outputs": [],
   "source": [
    "anthromes = [\"Dense Settlements\", \"Villages\", \"Croplands\", \"Rangeland\", \"Seminatural\", \"Wild\"]\n",
    "fig = make_subplots(rows=2, cols=2,\n",
    "                   subplot_titles=['Millenia', 'Centuries,', 'Decades', 'Years'],\n",
    "                   x_title=\"year (negative dates are BCE)\",\n",
    "                   y_title=\"km squared\")\n",
    "\n",
    "fig = add_traces(fig, df_millennia, 1, 1, anthromes, True)\n",
    "fig = add_traces(fig, df_centuries, 1, 2, anthromes)\n",
    "fig = add_traces(fig, df_decades, 2, 1, anthromes)\n",
    "fig = add_traces(fig, df_years, 2, 2, anthromes)\n",
    "fig.update_layout(title_text='Changes in Anthromes Across Time')\n",
    "fig.show()"
   ]
  },
  {
   "cell_type": "code",
   "execution_count": null,
   "metadata": {},
   "outputs": [],
   "source": [
    "fig = make_subplots(rows=2, cols=2)\n",
    "\n",
    "fig.add_trace(go.Scatter(\n",
    "    x=df_years.loc['Villages'].array,\n",
    "    y=df_years.columns,\n",
    "    mode='lines',\n",
    "    line=dict(width=0.5),\n",
    "    stackgroup='one'),\n",
    "        row=1, \n",
    "        col=1)"
   ]
  },
  {
   "cell_type": "code",
   "execution_count": null,
   "metadata": {},
   "outputs": [],
   "source": [
    "fig = make_subplots(rows=2, cols=2)\n",
    "\n",
    "x=['Winter', 'Spring', 'Summer', 'Fall']\n",
    "fig.add_trace(go.Scatter(\n",
    "    x=x, y=[40, 60, 40, 10],\n",
    "    hoverinfo='x+y',\n",
    "    mode='lines',\n",
    "    line=dict(width=0.5, color='rgb(131, 90, 241)'),\n",
    "    stackgroup='one', # define stack group\n",
    "),  row=1, col=1)\n",
    "fig.add_trace(go.Scatter(\n",
    "    x=x, y=[20, 10, 10, 60],\n",
    "    hoverinfo='x+y',\n",
    "    mode='lines',\n",
    "    line=dict(width=0.5, color='rgb(111, 231, 219)'),\n",
    "    stackgroup='one'\n",
    "),  row=1, col=1)\n",
    "fig.add_trace(go.Scatter(\n",
    "    x=x, y=[40, 30, 50, 30],\n",
    "    hoverinfo='x+y',\n",
    "    mode='lines',\n",
    "    line=dict(width=0.5, color='rgb(184, 247, 212)'),\n",
    "    stackgroup='one'\n",
    "),  row=1, col=1)\n",
    "\n",
    "fig.update_layout(yaxis_range=(0, 100))\n",
    "fig.show()"
   ]
  },
  {
   "cell_type": "code",
   "execution_count": null,
   "metadata": {},
   "outputs": [],
   "source": [
    "import plotly.express as px\n",
    "df2 = px.data.iris()"
   ]
  },
  {
   "cell_type": "code",
   "execution_count": null,
   "metadata": {},
   "outputs": [],
   "source": [
    "df2"
   ]
  },
  {
   "cell_type": "code",
   "execution_count": null,
   "metadata": {},
   "outputs": [],
   "source": []
  }
 ],
 "metadata": {
  "kernelspec": {
   "display_name": "Python 3",
   "language": "python",
   "name": "python3"
  },
  "language_info": {
   "codemirror_mode": {
    "name": "ipython",
    "version": 3
   },
   "file_extension": ".py",
   "mimetype": "text/x-python",
   "name": "python",
   "nbconvert_exporter": "python",
   "pygments_lexer": "ipython3",
   "version": "3.8.5"
  }
 },
 "nbformat": 4,
 "nbformat_minor": 4
}
