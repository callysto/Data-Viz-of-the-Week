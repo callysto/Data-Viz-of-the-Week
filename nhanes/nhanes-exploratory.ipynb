{
 "cells": [
  {
   "cell_type": "markdown",
   "id": "be800159-0554-4ba0-8884-3bec26f01460",
   "metadata": {},
   "source": [
    "# NHANES Data Exploration\n",
    "\n",
    "CC-1089\n",
    "\n",
    "Using data from the CDC/NHANES 2017-March 2020 Examination data:\n",
    "https://wwwn.cdc.gov/nchs/nhanes/search/datapage.aspx?Component=Examination&Cycle=2017-2020\n",
    "\n",
    "Attempts at visualizing health data from NHANES.\n",
    "\n",
    "The first data being looked at is anthropometric, or body measurements. These are physical measurements of lengths, circumferences, other anatomical aspects of the human body."
   ]
  },
  {
   "cell_type": "code",
   "execution_count": null,
   "id": "c6b89fca-a160-401a-a178-a2ee52755071",
   "metadata": {},
   "outputs": [],
   "source": [
    "import pandas as pd\n",
    "import numpy as np\n",
    "import seaborn as sns\n",
    "import matplotlib.pyplot as plt"
   ]
  },
  {
   "cell_type": "markdown",
   "id": "4678f920-be68-4d4a-883c-dcf82eff6dfe",
   "metadata": {},
   "source": [
    "# Body Measure Data"
   ]
  },
  {
   "cell_type": "code",
   "execution_count": null,
   "id": "9f46f52e-caba-4811-a5d5-ccd5028cc80b",
   "metadata": {},
   "outputs": [],
   "source": [
    "bmdata = pd.read_sas('data/P_BMX.XPT')\n",
    "bmnames = {\n",
    "    'SEQN' : 'Respondent sequence number',\n",
    "    'BMDSTATS' : 'Body Measures Component Status Code',\n",
    "    'BMXWT' : 'Weight (kg)',\n",
    "    'BMIWT' : 'Weight Comment',\n",
    "    'BMXRECUM' : 'Recumbent Length (cm)',\n",
    "    'BMIRECUM' : 'Recumbent Length Comment',\n",
    "    'BMXHEAD' : 'Head Circumference (cm)',\n",
    "    'BMIHEAD' : 'Head Circumference Comment',\n",
    "    'BMXHT' : 'Standing Height (cm)',\n",
    "    'BMIHT' : 'Standing Height Comment',\n",
    "    'BMXBMI' : r'Body Mass Index ($kg/m^2$)',\n",
    "    'BMDBMIC' : 'BMI Category - Children/Youth',\n",
    "    'BMXLEG' : 'Upper Leg Length (cm)',\n",
    "    'BMILEG' : 'Upper Leg Length Comment',\n",
    "    'BMXARML' : 'Upper Arm Length (cm)',\n",
    "    'BMIARML' : 'Upper Arm Length Comment',\n",
    "    'BMXARMC' : 'Arm Circumference (cm)',\n",
    "    'BMIARMC' : 'Arm Circumference Comment',\n",
    "    'BMXWAIST' : 'Waist Circumference (cm)',\n",
    "    'BMIWAIST' : 'Waist Circumference Comment',\n",
    "    'BMXHIP' : 'Hip Circumference (cm)',\n",
    "    'BMIHIP' : 'Hip Circumference Comment'}\n",
    "bmdata.rename(columns=bmnames, inplace=True)\n",
    "bmdata"
   ]
  },
  {
   "cell_type": "code",
   "execution_count": null,
   "id": "68de8622-28c5-4c09-9b64-21e9e3636eb6",
   "metadata": {},
   "outputs": [],
   "source": [
    "# Count missing values for each feature (out of 14300 observations)\n",
    "bmdata.isnull().sum(axis=0)"
   ]
  },
  {
   "cell_type": "code",
   "execution_count": null,
   "id": "374a9a2a-74f1-4677-a2b1-aa4ced441e81",
   "metadata": {},
   "outputs": [],
   "source": [
    "# Filter dataset to only include features missing less than 20% of values\n",
    "bmdata2 = bmdata.dropna(axis=1, thresh=int(0.2*len(bmdata)))\n",
    "bmdata2 = bmdata2.drop(['Respondent sequence number', 'Body Measures Component Status Code'], axis=1)\n",
    "bmdata2"
   ]
  },
  {
   "cell_type": "code",
   "execution_count": null,
   "id": "308a7bac-3a94-420d-81e2-a13f2a7661f0",
   "metadata": {},
   "outputs": [],
   "source": [
    "# Run correlations between all features\n",
    "bmdata2.corr()"
   ]
  },
  {
   "cell_type": "code",
   "execution_count": null,
   "id": "76cb5d30-20ad-4b4d-9528-6bc266e16f07",
   "metadata": {},
   "outputs": [],
   "source": [
    "# Create heatmap\n",
    "bmcorr = bmdata2.corr()\n",
    "sns.set(rc={'figure.figsize':(8,8)})\n",
    "ax = sns.heatmap(\n",
    "    bmcorr, \n",
    "    vmin=-1, vmax=1,\n",
    "    cmap='Blues',\n",
    "    square=True,\n",
    "    annot=True\n",
    ")\n",
    "ax.set_xticklabels(\n",
    "    ax.get_xticklabels(),\n",
    "    rotation=45,\n",
    "    horizontalalignment='right'\n",
    ")\n",
    "ax.set_title('Heatmap of correlations of Body Measure data', fontsize=16)\n",
    "plt.show()"
   ]
  },
  {
   "cell_type": "markdown",
   "id": "6ac8ef59-6f26-4a3f-ab10-9a4af04aeedc",
   "metadata": {},
   "source": [
    "# Blood Pressure Data"
   ]
  },
  {
   "cell_type": "code",
   "execution_count": null,
   "id": "e6570176-4222-40df-ab56-43199574075a",
   "metadata": {},
   "outputs": [],
   "source": [
    "bpdata = pd.read_sas('data/P_BPXO.XPT')\n",
    "bpnames = { \n",
    "    'SEQN' : 'Respondent sequence number',\n",
    "    'BPAOARM' : 'Arm selected - oscillometric',\n",
    "    'BPAOCSZ' :'Coded cuff size - oscillometric',\n",
    "    'BPXOSY1' : 'Systolic - 1st oscillometric reading',\n",
    "    'BPXODI1' : 'Diastolic - 1st oscillometric reading',\n",
    "    'BPXOSY2' : 'Systolic - 2nd oscillometric reading',\n",
    "    'BPXODI2' : 'Diastolic - 2nd oscillometric reading',\n",
    "    'BPXOSY3' : 'Systolic - 3rd oscillometric reading',\n",
    "    'BPXODI3' : 'Diastolic - 3rd oscillometric reading',\n",
    "    'BPXOPLS1' : 'Pulse - 1st oscillometric reading',\n",
    "    'BPXOPLS2' : 'Pulse - 2nd oscillometric reading',\n",
    "    'BPXOPLS3' : 'Pulse - 3rd oscillometric reading'\n",
    "}\n",
    "bpdata = bpdata.rename(columns=bpnames)\n",
    "bpdata"
   ]
  },
  {
   "cell_type": "code",
   "execution_count": null,
   "id": "5d69e696-e212-494e-8441-e2d58dbac8f3",
   "metadata": {},
   "outputs": [],
   "source": [
    "bpdata2 = bpdata.drop(['Respondent sequence number', 'Arm selected - oscillometric'], axis=1)\n",
    "bpdata2"
   ]
  },
  {
   "cell_type": "code",
   "execution_count": null,
   "id": "43bcd04c-222a-4f82-9d82-3783e498942e",
   "metadata": {},
   "outputs": [],
   "source": [
    "# Mean values of each feature\n",
    "bpdata2.mean()"
   ]
  },
  {
   "cell_type": "code",
   "execution_count": null,
   "id": "19fe1727-6043-4421-a92c-44dd5bf62121",
   "metadata": {},
   "outputs": [],
   "source": [
    "# Correlations\n",
    "bpdata2.corr()"
   ]
  },
  {
   "cell_type": "code",
   "execution_count": null,
   "id": "2b03c912-44a8-4d17-b6ca-a68fbb6f9e86",
   "metadata": {},
   "outputs": [],
   "source": [
    "# Correlation heatmap\n",
    "bpcorr = bpdata2.corr()\n",
    "sns.set(rc={'figure.figsize':(8,8)})\n",
    "ax2 = sns.heatmap(\n",
    "    bpcorr, \n",
    "    vmin=-1, vmax=1,\n",
    "    cmap='Blues',\n",
    "    square=True,\n",
    "    annot=True\n",
    ")\n",
    "ax2.set_xticklabels(\n",
    "    ax2.get_xticklabels(),\n",
    "    rotation=45,\n",
    "    horizontalalignment='right'\n",
    ")\n",
    "ax2.set_title('Heatmap of correlations of Blood Pressure data', fontsize=16)\n",
    "plt.show()"
   ]
  },
  {
   "cell_type": "code",
   "execution_count": null,
   "id": "3bca0a3f-b863-4f05-a536-94d183c2a1e0",
   "metadata": {},
   "outputs": [],
   "source": [
    "# Histogram of blood pressure values\n",
    "for i in ['Systolic - 1st oscillometric reading',\n",
    "          'Systolic - 2nd oscillometric reading',\n",
    "          'Systolic - 3rd oscillometric reading']:\n",
    "    plt.hist(bpdata2[i], bins=100, label=i)\n",
    "plt.title('Distribution of sequential systolic BP readings', fontsize=16)\n",
    "\n",
    "# Optionally add references points for BP thresholds [1]:\n",
    "plt.axvline(x=120,color='k', linestyle='--', label='Healthy/At-risk')\n",
    "plt.axvline(x=135,color='k', linestyle='-', label='At-risk/High')\n",
    "\n",
    "plt.legend()\n",
    "plt.show()"
   ]
  },
  {
   "cell_type": "code",
   "execution_count": null,
   "id": "4b3a7760-9e34-47fc-ad98-2c6e2e5426bb",
   "metadata": {},
   "outputs": [],
   "source": [
    "for i in ['Diastolic - 1st oscillometric reading',\n",
    "          'Diastolic - 2nd oscillometric reading',\n",
    "          'Diastolic - 3rd oscillometric reading']:\n",
    "    plt.hist(bpdata2[i], bins=100, label=i)\n",
    "plt.title('Distribution of sequential diastolic BP readings', fontsize=16)\n",
    "\n",
    "# Optionally add references points for BP thresholds [1]:\n",
    "plt.axvline(x=80,color='k', linestyle='--', label='Healthy/At-risk')\n",
    "plt.axvline(x=85,color='k', linestyle='-', label='At-risk/High')\n",
    "\n",
    "plt.legend()\n",
    "plt.show()"
   ]
  },
  {
   "cell_type": "code",
   "execution_count": null,
   "id": "724acff2-b866-473a-8fee-a9d1e5b8842c",
   "metadata": {},
   "outputs": [],
   "source": [
    "for i in ['Pulse - 1st oscillometric reading',\n",
    "          'Pulse - 2nd oscillometric reading',\n",
    "          'Pulse - 3rd oscillometric reading']:\n",
    "    plt.hist(bpdata2[i], bins=100, label=i)\n",
    "plt.title('Distribution of sequential HR readings', fontsize=16)\n",
    "plt.legend()\n",
    "plt.show()"
   ]
  },
  {
   "cell_type": "markdown",
   "id": "6b5a2c1a-13c3-4da5-a5f3-c88217979c4e",
   "metadata": {},
   "source": [
    "## References\n",
    "1. https://www.heartandstroke.ca/-/media/pdf-files/canada/health-information-catalogue/en-managing-your-blood-pressure.ashx"
   ]
  }
 ],
 "metadata": {
  "kernelspec": {
   "display_name": "Python 3 (ipykernel)",
   "language": "python",
   "name": "python3"
  },
  "language_info": {
   "codemirror_mode": {
    "name": "ipython",
    "version": 3
   },
   "file_extension": ".py",
   "mimetype": "text/x-python",
   "name": "python",
   "nbconvert_exporter": "python",
   "pygments_lexer": "ipython3",
   "version": "3.10.4"
  }
 },
 "nbformat": 4,
 "nbformat_minor": 5
}
