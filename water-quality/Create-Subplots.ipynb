{
 "cells": [
  {
   "cell_type": "code",
   "execution_count": null,
   "id": "177bd5be",
   "metadata": {},
   "outputs": [],
   "source": [
    "import pandas as pd\n",
    "import numpy as np\n",
    "import plotly.express as px\n",
    "from plotly.subplots import make_subplots\n",
    "import plotly.graph_objects as go\n",
    "import IPython.display\n",
    "from IPython.display import display, clear_output\n",
    "import ipywidgets as widgets\n",
    "from ipywidgets import interact, interact_manual"
   ]
  },
  {
   "cell_type": "code",
   "execution_count": null,
   "id": "63068c04",
   "metadata": {},
   "outputs": [],
   "source": [
    "df = pd.read_csv(\"df_filtered.csv\")\n",
    "df.head()"
   ]
  },
  {
   "cell_type": "code",
   "execution_count": null,
   "id": "8fbea7e9",
   "metadata": {},
   "outputs": [],
   "source": [
    "df[\"VARIABLE\"].unique()"
   ]
  },
  {
   "cell_type": "markdown",
   "id": "e23c22b6",
   "metadata": {},
   "source": [
    "TODO: Rename to columns to `pH`, `Water Temperature`, etc."
   ]
  },
  {
   "cell_type": "markdown",
   "id": "4dea4719",
   "metadata": {},
   "source": [
    "Check to see if there are any outliers in the data that we may need to clean up."
   ]
  },
  {
   "cell_type": "code",
   "execution_count": null,
   "id": "06843518",
   "metadata": {},
   "outputs": [],
   "source": [
    "for variable in df['VARIABLE'].unique():\n",
    "    units = df[df['VARIABLE'] == variable]['UNIT_UNITE'].unique()[0]\n",
    "    px.scatter(df[df['VARIABLE'] == variable]['VALUE'], title=variable, labels={'value':units}).show()\n",
    "    #px.scatter(df[df['VARIABLE'] == variable], y='VALUE', color='LOCATION', title=variable, labels={'value':units}).show()"
   ]
  },
  {
   "cell_type": "markdown",
   "id": "251464a6",
   "metadata": {},
   "source": [
    "## Data Cleaning\n",
    "\n",
    "It looks like there are some pH values that are outside of the allowed range:"
   ]
  },
  {
   "cell_type": "code",
   "execution_count": null,
   "id": "2d84eff4",
   "metadata": {},
   "outputs": [],
   "source": [
    "df[(df['VARIABLE']=='PH') & (~df['VALUE'].between(1,14))]"
   ]
  },
  {
   "cell_type": "markdown",
   "id": "b62e7b54",
   "metadata": {},
   "source": [
    "Let's drop the rows with values outside the range 1-14 for PH."
   ]
  },
  {
   "cell_type": "code",
   "execution_count": null,
   "id": "396a5878",
   "metadata": {},
   "outputs": [],
   "source": [
    "indices = df[(df['VARIABLE']=='PH') & (~df['VALUE'].between(1,14))].index\n",
    "df.drop(indices, inplace=True)\n",
    "\n",
    "# check that there are no more rows with invalid values\n",
    "print(df[df['VARIABLE'] == 'PH']['VALUE'].max())\n",
    "print(df[df['VARIABLE'] == 'PH']['VALUE'].min())"
   ]
  },
  {
   "cell_type": "code",
   "execution_count": null,
   "id": "d30f7a67",
   "metadata": {},
   "outputs": [],
   "source": [
    "px.scatter(df[df['VARIABLE'] == 'PH']['VALUE'])"
   ]
  },
  {
   "cell_type": "markdown",
   "id": "3ea5c2e7",
   "metadata": {},
   "source": [
    "As well, we will drop any water temperature readings that are below 0 °C."
   ]
  },
  {
   "cell_type": "code",
   "execution_count": null,
   "id": "89c7e5cd",
   "metadata": {},
   "outputs": [],
   "source": [
    "indices = df[(df['VARIABLE']=='TEMPERATURE WATER') & (df['VALUE']<0)].index\n",
    "df.drop(indices, inplace=True)\n",
    "\n",
    "print(df[df['VARIABLE'] == 'TEMPERATURE WATER']['VALUE'].max())\n",
    "print(df[df['VARIABLE'] == 'TEMPERATURE WATER']['VALUE'].min())"
   ]
  },
  {
   "cell_type": "markdown",
   "id": "ae8ff9e0",
   "metadata": {},
   "source": [
    "And drop any dissolved oxygen values that above 20 mg/L."
   ]
  },
  {
   "cell_type": "code",
   "execution_count": null,
   "id": "61ff9f49",
   "metadata": {},
   "outputs": [],
   "source": [
    "indices = df[(df['VARIABLE']=='OXYGEN DISSOLVED') & (df['VALUE']>20)].index\n",
    "df.drop(indices, inplace=True)\n",
    "\n",
    "print(df[df['VARIABLE'] == 'OXYGEN DISSOLVED']['VALUE'].max())\n",
    "print(df[df['VARIABLE'] == 'OXYGEN DISSOLVED']['VALUE'].min())"
   ]
  },
  {
   "cell_type": "markdown",
   "id": "072d139a",
   "metadata": {},
   "source": [
    "## Create Scatterplots on Maps"
   ]
  },
  {
   "cell_type": "code",
   "execution_count": null,
   "id": "762e50ee",
   "metadata": {},
   "outputs": [],
   "source": [
    "# 'open-street-map', 'white-bg', 'carto-positron', 'carto-darkmatter', 'stamen- terrain', 'stamen-toner', 'stamen-watercolor'\n",
    "for variable in df['VARIABLE'].unique():\n",
    "    px.scatter_mapbox(df[df['VARIABLE'] == variable], \n",
    "                        lat='LATITUDE', \n",
    "                        lon='LONGITUDE', \n",
    "                        color='LOCATION', \n",
    "                        animation_frame='YEAR', \n",
    "                        title=variable, \n",
    "                        mapbox_style='carto-positron', \n",
    "                        zoom=2, \n",
    "                        height=600,\n",
    "                        size='VALUE', \n",
    "                        #size = (d-df[df['VARIABLE']=='PH']['VALUE'].min())/16+1,\n",
    "                        size_max=20, \n",
    "                        opacity=0.5\n",
    "                        ).show()"
   ]
  },
  {
   "cell_type": "code",
   "execution_count": null,
   "id": "4b003189",
   "metadata": {},
   "outputs": [],
   "source": [
    "variable = 'TEMPERATURE WATER'\n",
    "px.scatter_mapbox(df[df['VARIABLE'] == variable], \n",
    "                        lat='LATITUDE', \n",
    "                        lon='LONGITUDE', \n",
    "                        color='LOCATION', \n",
    "                        animation_frame='YEAR', \n",
    "                        title=variable,\n",
    "                        mapbox_style='carto-positron', \n",
    "                        zoom=2, \n",
    "                        height=600,\n",
    "                        size='VALUE', \n",
    "                        #size = (d-df[df['VARIABLE']=='PH']['VALUE'].min())/16+1,\n",
    "                        size_max=20, \n",
    "                        opacity=0.5\n",
    "                        ).show()"
   ]
  },
  {
   "cell_type": "code",
   "execution_count": null,
   "id": "c0c371ca",
   "metadata": {},
   "outputs": [],
   "source": []
  },
  {
   "cell_type": "code",
   "execution_count": null,
   "id": "cd11fc64",
   "metadata": {},
   "outputs": [],
   "source": []
  },
  {
   "cell_type": "code",
   "execution_count": null,
   "id": "684705ee",
   "metadata": {},
   "outputs": [],
   "source": []
  },
  {
   "cell_type": "code",
   "execution_count": null,
   "id": "19ca22b4",
   "metadata": {},
   "outputs": [],
   "source": []
  },
  {
   "cell_type": "code",
   "execution_count": null,
   "id": "55c34ba8",
   "metadata": {},
   "outputs": [],
   "source": [
    "# Trying to create scatter_mapbox subplots with Plotly Express (failed)\n",
    "fig = make_subplots(rows=2, cols=2,\n",
    "                   specs=[[{\"type\":\"mapbox\"}, {\"type\":\"mapbox\"}],\n",
    "                         [{\"type\":\"mapbox\"}, {\"type\":\"mapbox\"}]])\n",
    "\n",
    "fig.add_trace(px.scatter_mapbox(df[df[\"VARIABLE\"] == \"PH\"],\n",
    "                                lat=df[df[\"VARIABLE\"] == \"PH\"][\"LATITUDE\"],\n",
    "                                lon=df[df[\"VARIABLE\"] == \"PH\"][\"LONGITUDE\"],\n",
    "                                color=df[df[\"VARIABLE\"] == \"PH\"][\"LOCATION\"],\n",
    "                                animation_frame=df[df[\"VARIABLE\"] == \"PH\"][\"YEAR\"],\n",
    "                                size=df[df[\"VARIABLE\"] == \"PH\"][\"VALUE\"].abs().to_list(),\n",
    "                                size_max=50,\n",
    "                                opacity=0.5), 1, 1)\n",
    "'''\n",
    "fig.add_trace(px.scatter_mapbox(df[df[\"VARIABLE\"] == \"TEMPERATURE WATER\"],\n",
    "                                lat=\"LATITUDE\",\n",
    "                                lon=\"LONGITUDE\",\n",
    "                                color=\"LOCATION\",\n",
    "                                animation_frame=\"YEAR\",\n",
    "                                size=df[\"VALUE\"].abs().to_list(),\n",
    "                                size_max=50,\n",
    "                                opacity=0.5), 1, 2)\n",
    "\n",
    "fig.add_trace(px.scatter_mapbox(df[df[\"VARIABLE\"] == \"SULPHATE DISSOLVE\"],\n",
    "                                lat=\"LATITUDE\",\n",
    "                                lon=\"LONGITUDE\",\n",
    "                                color=\"LOCATION\",\n",
    "                                animation_frame=\"YEAR\",\n",
    "                                size=df[\"VALUE\"].abs().to_list(),\n",
    "                                size_max=50,\n",
    "                                opacity=0.5), 2, 1)\n",
    "\n",
    "fig.add_trace(px.scatter_mapbox(df[df[\"VARIABLE\"] == \"SULPHATE DISSOLVE\"],\n",
    "                                lat=\"LATITUDE\",\n",
    "                                lon=\"LONGITUDE\",\n",
    "                                color=\"LOCATION\",\n",
    "                                animation_frame=\"YEAR\",\n",
    "                                size=df[\"VALUE\"].abs().to_list(),\n",
    "                                size_max=50,\n",
    "                                opacity=0.5), 2, 2)\n",
    "'''\n",
    "fig.update_layout(mapbox={\"style\": \"carto-positron\", \"zoom\": 4}, margin={\"t\":0,\"b\":0,\"l\":0,\"r\":0})\n",
    "\n",
    "fig.show()"
   ]
  },
  {
   "cell_type": "code",
   "execution_count": null,
   "id": "a0e682cf",
   "metadata": {},
   "outputs": [],
   "source": [
    "# trying to add traces from each figure.data\n",
    "\n",
    "fig = make_subplots(rows=1, cols=2,\n",
    "                   specs=[[{\"type\":\"mapbox\"}, {\"type\":\"mapbox\"}]])\n",
    "\n",
    "foo = px.scatter_mapbox(df[df[\"VARIABLE\"] == \"PH\"],\n",
    "                                lat=df[df[\"VARIABLE\"] == \"PH\"][\"LATITUDE\"],\n",
    "                                lon=df[df[\"VARIABLE\"] == \"PH\"][\"LONGITUDE\"],\n",
    "                                color=df[df[\"VARIABLE\"] == \"PH\"][\"LOCATION\"],\n",
    "                                animation_frame=df[df[\"VARIABLE\"] == \"PH\"][\"YEAR\"],\n",
    "                                size=df[df[\"VARIABLE\"] == \"PH\"][\"VALUE\"].abs().to_list(),\n",
    "                                size_max=50,\n",
    "                                opacity=0.5)\n",
    "for trace in foo.data:\n",
    "    fig.add_trace(trace, row=1, col=1)\n",
    "\n",
    "bar = px.scatter_mapbox(df[df[\"VARIABLE\"] == \"PH\"],\n",
    "                                lat=df[df[\"VARIABLE\"] == \"PH\"][\"LATITUDE\"],\n",
    "                                lon=df[df[\"VARIABLE\"] == \"PH\"][\"LONGITUDE\"],\n",
    "                                color=df[df[\"VARIABLE\"] == \"PH\"][\"LOCATION\"],\n",
    "                                animation_frame=df[df[\"VARIABLE\"] == \"PH\"][\"YEAR\"],\n",
    "                                size=df[df[\"VARIABLE\"] == \"PH\"][\"VALUE\"].abs().to_list(),\n",
    "                                size_max=50,\n",
    "                                opacity=0.5)\n",
    "for trace in bar.data:\n",
    "    fig.add_trace(trace, row=1, col=2)\n",
    "\n",
    "fig.show()"
   ]
  },
  {
   "cell_type": "code",
   "execution_count": null,
   "id": "9a7a4177",
   "metadata": {},
   "outputs": [],
   "source": []
  },
  {
   "cell_type": "code",
   "execution_count": null,
   "id": "a8dfb4a6",
   "metadata": {},
   "outputs": [],
   "source": [
    "# Trying to create scatter_mapbox subplots with Plotly Graph Object (Somewhat failed... code runs)\n",
    "fig = make_subplots(\n",
    "    rows=1, cols=2, subplot_titles=('Title1', 'Title2'),\n",
    "    specs=[[{\"type\": \"mapbox\"}, {\"type\": \"mapbox\"}]]\n",
    ")\n",
    "\n",
    "fig.add_trace(go.Scattermapbox(lat=df[df[\"VARIABLE\"]==\"PH\"][\"LATITUDE\"],\n",
    "                              lon=df[df[\"VARIABLE\"]==\"PH\"][\"LONGITUDE\"],\n",
    "                              mode=\"markers\",\n",
    "                              hoverinfo=\"text\",\n",
    "                               text=df[df[\"VARIABLE\"]==\"PH\"][\"LOCATION\"].astype(str) + \"<br>\" + \"<b>Value: </b>\" + df[\"VALUE\"].astype(str),\n",
    "                               marker={\n",
    "                                      \"size\":df[df[\"VARIABLE\"]==\"PH\"][\"VALUE\"].abs().to_list(),\n",
    "                                      \"opacity\":0.6\n",
    "                                  }), row=1, col=1)\n",
    "\n",
    "fig.add_trace(go.Scattermapbox(lat=df[df[\"VARIABLE\"]==\"TEMPERATURE WATER\"][\"LATITUDE\"],\n",
    "                              lon=df[df[\"VARIABLE\"]==\"TEMPERATURE WATER\"][\"LONGITUDE\"],\n",
    "                              mode=\"markers\",\n",
    "                              hoverinfo=\"text\",\n",
    "                               text=df[df[\"VARIABLE\"]==\"TEMPERATURE WATER\"][\"LOCATION\"].astype(str) + \"<br>\" + \"<b>Value: </b>\" + df[\"VALUE\"].astype(str),\n",
    "                               marker={\n",
    "                                      \"size\":df[df[\"VARIABLE\"]==\"TEMPERATURE WATER\"][\"VALUE\"].abs().to_list(),\n",
    "                                      \"opacity\":0.6\n",
    "                                  }), row=1, col=2)\n",
    "\n",
    "# fig.update_layout(mapbox = {'style': \"carto-positron\",\n",
    "#                             'center': {'lon':-106, 'lat': 56},\n",
    "#                             'zoom': 3})\n",
    "\n",
    "fig.update_mapboxes(\n",
    "    bearing=0,\n",
    "    style=\"carto-positron\",\n",
    "    center=dict(lat=56,lon=-106),\n",
    "    pitch=0,\n",
    "    zoom=5)\n",
    "   \n",
    "\n",
    "fig.show()"
   ]
  },
  {
   "cell_type": "code",
   "execution_count": null,
   "id": "c87a4ffe",
   "metadata": {},
   "outputs": [],
   "source": [
    "# Trying to create scatter_mapbox subplots with Plotly Graph Object (Somewhat failed... code runs)\n",
    "fig = go.Figure()\n",
    "\n",
    "fig.add_trace(go.Scattermapbox(lat=df[df[\"VARIABLE\"]==\"PH\"][\"LATITUDE\"],\n",
    "                              lon=df[df[\"VARIABLE\"]==\"PH\"][\"LONGITUDE\"],\n",
    "                              mode=\"markers\",\n",
    "                              hoverinfo=\"text\",\n",
    "                               text=df[df[\"VARIABLE\"]==\"PH\"][\"LOCATION\"].astype(str) + \"<br>\" + \"<b>Value: </b>\" + df[\"VALUE\"].astype(str),\n",
    "                               marker={\n",
    "                                      \"size\":df[df[\"VARIABLE\"]==\"PH\"][\"VALUE\"].abs().to_list(),\n",
    "                                      \"opacity\":0.6\n",
    "                                  }, subplot=\"mapbox\"))\n",
    "\n",
    "fig.add_trace(go.Scattermapbox(lat=df[df[\"VARIABLE\"]==\"TEMPERATURE WATER\"][\"LATITUDE\"],\n",
    "                              lon=df[df[\"VARIABLE\"]==\"TEMPERATURE WATER\"][\"LONGITUDE\"],\n",
    "                              mode=\"markers\",\n",
    "                              hoverinfo=\"text\",\n",
    "                               text=df[df[\"VARIABLE\"]==\"TEMPERATURE WATER\"][\"LOCATION\"].astype(str) + \"<br>\" + \"<b>Value: </b>\" + df[\"VALUE\"].astype(str),\n",
    "                               marker={\n",
    "                                      \"size\":df[df[\"VARIABLE\"]==\"TEMPERATURE WATER\"][\"VALUE\"].abs().to_list(),\n",
    "                                      \"opacity\":0.6\n",
    "                                  }, subplot=\"mapbox\"))\n",
    "\n",
    "# fig.update_layout(mapbox = {'style': \"carto-positron\",\n",
    "#                             'center': {'lon':-106, 'lat': 56},\n",
    "#                             'zoom': 3})\n",
    "\n",
    "\n",
    "fig.update_layout(\n",
    "    autosize=True,\n",
    "    hovermode='closest',\n",
    "    mapbox=dict(\n",
    "        style='open-street-map',\n",
    "        domain={'x': [0, 0.4], 'y': [0, 1]},\n",
    "        bearing=0,\n",
    "        center=dict(\n",
    "            lat=45,\n",
    "            lon=-73\n",
    "        ),\n",
    "        pitch=0,\n",
    "        zoom=5\n",
    "    ),\n",
    "        mapbox2=dict(\n",
    "        style='open-street-map',\n",
    "        domain={'x': [0.6, 1.0], 'y': [0, 1]},\n",
    "        bearing=0,\n",
    "        center=dict(\n",
    "            lat=45,\n",
    "            lon=-73\n",
    "        ),\n",
    "        pitch=0,\n",
    "        zoom=5\n",
    "    )\n",
    ")\n",
    "\n",
    "fig.show()"
   ]
  },
  {
   "cell_type": "code",
   "execution_count": null,
   "id": "cb6ad5ae",
   "metadata": {},
   "outputs": [],
   "source": [
    "def make_viz(df):\n",
    "    years = df[\"YEAR\"].unique().tolist()\n",
    "\n",
    "    hovertemplated=\"<br>\".join([\n",
    "        \"<b>Province:  %{customdata[0]}</b>\",\n",
    "        \"<br>Longitude: %{customdata[2]}\",\n",
    "        \"Latitude: %{customdata[1]}\",\n",
    "        \"Location: %{customdata[3]}\",\n",
    "        \"Variable: %{customdata[4]}\",\n",
    "        \"Value: %{customdata[5]}\",\n",
    "    ])\n",
    "\n",
    "    frames = [{\n",
    "        \"name\":\"frame_{}\".format(year),\n",
    "        \"data\":[{\n",
    "            \"type\":\"scattermapbox\",\n",
    "            \"lat\":df.loc[df[\"YEAR\"] == year][\"LATITUDE\"],\n",
    "            \"lon\":df.loc[df[\"YEAR\"] == year][\"LONGITUDE\"],\n",
    "            \"marker\":go.scattermapbox.Marker(\n",
    "                size=df.loc[df[\"YEAR\"] == year][\"VALUE\"].abs().to_list(),\n",
    "                color=df.loc[df[\"YEAR\"] == year][\"COLOR\"]\n",
    "            ),\n",
    "            \"customdata\":np.stack((df.loc[df[\"YEAR\"] == year][\"PROV_TERR\"],\n",
    "                                   df.loc[df[\"YEAR\"] == year][\"LATITUDE\"],\n",
    "                                   df.loc[df[\"YEAR\"] == year][\"LONGITUDE\"],\n",
    "                                  df.loc[df[\"YEAR\"] == year][\"LOCATION\"],\n",
    "                                  df.loc[df[\"YEAR\"] == year][\"VARIABLE\"],\n",
    "                                  df.loc[df[\"YEAR\"] == year][\"VALUE\"]), axis=1),\n",
    "            \"hovertemplate\": hovertemplated + \"<extra></extra>\"\n",
    "        }],\n",
    "    } for year in years]\n",
    "\n",
    "    sliders = [{\n",
    "    \"transition\":{\"duration\":0},\n",
    "    \"x\":0.08,\n",
    "    \"len\":0.9,\n",
    "    \"currentvalue\":{\"font\":{\"size\":15},\"prefix\":\"Year: \", \"visible\":True, \"xanchor\":\"center\"},\n",
    "    \"steps\":[\n",
    "        {\n",
    "            \"label\":year,\n",
    "            \"method\":\"animate\",\n",
    "            \"args\":[\n",
    "                [\"frame_{}\".format(year)],\n",
    "                {'mode':'immediate', 'frame':{'duration':100, 'redraw': True}, 'transition':{'duration':50}}\n",
    "            ],\n",
    "        } for year in years]\n",
    "    }]\n",
    "\n",
    "    play_button = [{\n",
    "    'type':'buttons',\n",
    "    'showactive':True,\n",
    "    'x':0.045, 'y':-0.1,\n",
    "    'buttons':[{ \n",
    "        'label':'►',\n",
    "        'method':'animate',\n",
    "        'args':[\n",
    "            None,\n",
    "            {\n",
    "                'frame':{'duration':100, 'redraw':True},\n",
    "                'transition':{'duration':50},\n",
    "                'fromcurrent':True,\n",
    "                'mode':'immediate'}\n",
    "            ]\n",
    "        }]\n",
    "    }]\n",
    "\n",
    "    data = frames[0][\"data\"]\n",
    "\n",
    "    layout = go.Layout(\n",
    "        sliders=sliders,\n",
    "        updatemenus=play_button,\n",
    "        mapbox = {\n",
    "            'style': \"carto-positron\",\n",
    "            'center': {'lon':-106, 'lat': 56},\n",
    "            'zoom': 3}\n",
    "    )\n",
    "\n",
    "    myfig = go.Figure(data=data, layout=layout, frames=frames)\n",
    "    myfig.update_layout(width=800, height=500, margin=dict(l=20, r=20, t=0, b=20))\n",
    "    myfig.show()\n",
    "\n",
    "output = widgets.Output()\n",
    "variables = widgets.Dropdown(options=sorted(df.VARIABLE.unique()), \n",
    "                             value=df[\"VARIABLE\"].unique().tolist()[0], \n",
    "                             description=\"Variable: \")\n",
    "\n",
    "def water_viz(change):\n",
    "    global df\n",
    "    df = df.loc[df[\"VARIABLE\"] == variables.value]\n",
    "\n",
    "    display(variables)\n",
    "    make_viz(df)\n",
    "    IPython.display.clear_output(wait=True)\n",
    "\n",
    "    \n",
    "variables.observe(water_viz, names=\"value\")"
   ]
  },
  {
   "cell_type": "code",
   "execution_count": null,
   "id": "4c25e883",
   "metadata": {},
   "outputs": [],
   "source": [
    "# Creating sldier + dropdown with a widget\n",
    "water_viz(\"\")"
   ]
  },
  {
   "cell_type": "code",
   "execution_count": null,
   "id": "8877f53f",
   "metadata": {},
   "outputs": [],
   "source": []
  }
 ],
 "metadata": {
  "kernelspec": {
   "display_name": "Python 3.10.1 64-bit",
   "language": "python",
   "name": "python3"
  },
  "language_info": {
   "codemirror_mode": {
    "name": "ipython",
    "version": 3
   },
   "file_extension": ".py",
   "mimetype": "text/x-python",
   "name": "python",
   "nbconvert_exporter": "python",
   "pygments_lexer": "ipython3",
   "version": "3.10.1"
  },
  "vscode": {
   "interpreter": {
    "hash": "d1ca6d17674200220921376aaeb3d36cffe15ecab2470a9a5e7a456cdbf61425"
   }
  }
 },
 "nbformat": 4,
 "nbformat_minor": 5
}
