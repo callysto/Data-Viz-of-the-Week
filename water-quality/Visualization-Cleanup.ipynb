{
 "cells": [
  {
   "cell_type": "code",
   "execution_count": null,
   "id": "5713051e",
   "metadata": {},
   "outputs": [],
   "source": [
    "import pandas as pd\n",
    "import numpy as np"
   ]
  },
  {
   "cell_type": "code",
   "execution_count": null,
   "id": "aadc9f89",
   "metadata": {},
   "outputs": [],
   "source": [
    "other_list = [\"gaspe\", \"maritime\", \"newfoundland\", \"st_john\", \"st_lawrence\"]\n",
    "\n",
    "def collectdata(anylist):\n",
    "    \n",
    "    for mylist in anylist:\n",
    "        mydf = pd.read_csv(\"data/\" + mylist + \".csv\", encoding='latin-1')\n",
    "        mydf[\"LOCATION\"] = str(mylist)\n",
    "        mydf[\"DATE_TIME_HEURE\"] = pd.to_datetime(mydf[\"DATE_TIME_HEURE\"])\n",
    "        mydf[\"YEAR\"] = pd.DatetimeIndex(mydf[\"DATE_TIME_HEURE\"]).year\n",
    "        mydf = mydf[[\"SITE_NO\", \"YEAR\", \"LOCATION\", \"VARIABLE\", \"VALUE_VALEUR\", \"UNIT_UNITE\"]]\n",
    "        mydf1 = mydf.groupby([\"YEAR\", \"LOCATION\", \"SITE_NO\", \"VARIABLE\", \"UNIT_UNITE\"])[\"VALUE_VALEUR\"].mean()\n",
    "        mydf1 = mydf1.to_frame().reset_index()\n",
    "        cols = pd.DataFrame(columns = [\"SITE_NO\", \"LOCATION\", \"YEAR\", \"VARIABLE\", \"VALUE_VALEUR\", \"UNIT_UNITE\"])\n",
    "        df = pd.concat([cols, mydf1])\n",
    "    return df"
   ]
  },
  {
   "cell_type": "code",
   "execution_count": null,
   "id": "138c32ed",
   "metadata": {},
   "outputs": [],
   "source": [
    "sample = collectdata([\"arctic\", \"assiniboine\", \"churchill\", \"columbia\", \"fraser\",\n",
    "                     \"keewatin\", \"mackenzie\", \"missouri\", \"south_saskatchewan\",\n",
    "                     \"north_saskatchewan\", \"okanagan\", \"pacific_coastal\",\n",
    "                      \"athabasca\", \"lower_saskatchewan\", \"winnipeg\", \"yukon\"])\n",
    "sample"
   ]
  },
  {
   "cell_type": "code",
   "execution_count": null,
   "id": "d7785e74",
   "metadata": {},
   "outputs": [],
   "source": [
    "sites = pd.read_csv(\"data/site_lists.csv\", encoding='latin-1')\n",
    "comb = pd.merge(sample, sites, on=\"SITE_NO\", how=\"inner\")\n",
    "comb = comb.rename(columns={\"VALUE_VALEUR\":\"VALUE\"})\n",
    "comb.head()"
   ]
  },
  {
   "cell_type": "code",
   "execution_count": null,
   "id": "da69fcd9",
   "metadata": {},
   "outputs": [],
   "source": [
    "comb[\"VARIABLE\"].unique()"
   ]
  },
  {
   "cell_type": "code",
   "execution_count": null,
   "id": "7ce6bc46",
   "metadata": {},
   "outputs": [],
   "source": [
    "variables_selected = [\"PH\", \"OXYGEN DISSOLVED\", \"TEMPERATURE WATER\", \"PHOSPHORUS TOTAL DISSOLVED\",\n",
    "                     \"SULPHATE DISSOLVED\", \"CHLORIDE\"]\n",
    "comb_filtered = comb[comb.VARIABLE.isin(variables_selected)]\n",
    "# comb_filtered[\"YEAR\"].astype(\"str\")\n",
    "# comb_filtered[\"YEAR\"] = comb_filtered[\"YEAR\"].dt.year\n",
    "comb_filtered = comb_filtered.sort_values(\"YEAR\", ascending=True)\n",
    "comb_filtered.head()"
   ]
  },
  {
   "cell_type": "code",
   "execution_count": null,
   "id": "6e78a85e",
   "metadata": {},
   "outputs": [],
   "source": [
    "comb_filtered[\"YEAR\"].unique()"
   ]
  },
  {
   "cell_type": "code",
   "execution_count": null,
   "id": "c49a378e",
   "metadata": {},
   "outputs": [],
   "source": [
    "from plotly import tools\n",
    "import plotly.offline as py\n",
    "import plotly.graph_objs as go\n",
    "import plotly.express as px\n",
    "import IPython.display\n",
    "from IPython.display import display, clear_output\n",
    "import ipywidgets as widgets\n",
    "from ipywidgets import interact, interact_manual\n",
    "\n",
    "output = widgets.Output()\n",
    "variables = widgets.Dropdown(options=sorted(comb_filtered.VARIABLE.unique()), value=None, description=\"Variable: \")\n",
    "\n",
    "        \n",
    "def water_quality_variable(change):\n",
    "    comb3 = comb_filtered[comb_filtered[\"VARIABLE\"] == variables.value]\n",
    "    fig = px.scatter_mapbox(comb3,\n",
    "                           lat=\"LATITUDE\",\n",
    "                           lon=\"LONGITUDE\",\n",
    "                           hover_name=\"PROV_TERR\",\n",
    "                           color=\"LOCATION\",\n",
    "                           animation_frame=\"YEAR\",\n",
    "                           size=comb3[\"VALUE\"].abs().to_list(),\n",
    "                            size_max=50,\n",
    "                           opacity=0.5).update_layout(mapbox={\"style\": \"carto-positron\", \"zoom\": 4}, margin={\"t\":0,\"b\":0,\"l\":0,\"r\":0})\n",
    "    \n",
    "    customdata = np.stack((comb3[\"PROV_TERR\"], comb3[\"LOCATION\"], comb3[\"VARIABLE\"], comb3[\"VALUE\"],\n",
    "                      comb3[\"LONGITUDE\"], comb3[\"LATITUDE\"]), axis=1)\n",
    "    \n",
    "    hovertemplate=\"<br>\".join([\n",
    "    \"<b>PROVINCE:  %{customdata[0]}</b>\",\n",
    "    \"<br>LONGITUDE: %{customdata[4]}\",\n",
    "    \"LATITUDE: %{customdata[5]}\",\n",
    "    \"LOCATION: %{customdata[1]}\",\n",
    "    \"VARIABLE: %{customdata[2]}\",\n",
    "    \"VALUE: %{customdata[3]}\"])\n",
    "    \n",
    "    fig.update_traces(customdata=customdata, hovertemplate=hovertemplate)\n",
    "    display(variables)\n",
    "    fig.show()\n",
    "    IPython.display.clear_output(wait=True)\n",
    "\n",
    "variables.observe(water_quality_variable, names=\"value\")\n",
    "IPython.display.clear_output(wait=True)    "
   ]
  },
  {
   "cell_type": "code",
   "execution_count": null,
   "id": "a22dbde9",
   "metadata": {},
   "outputs": [],
   "source": [
    "water_quality_variable(\"\")"
   ]
  },
  {
   "cell_type": "code",
   "execution_count": null,
   "id": "4d6242d9",
   "metadata": {},
   "outputs": [],
   "source": [
    "comb_filtered[\"VALUE\"].max()"
   ]
  }
 ],
 "metadata": {
  "kernelspec": {
   "display_name": "Python 3 (ipykernel)",
   "language": "python",
   "name": "python3"
  },
  "language_info": {
   "codemirror_mode": {
    "name": "ipython",
    "version": 3
   },
   "file_extension": ".py",
   "mimetype": "text/x-python",
   "name": "python",
   "nbconvert_exporter": "python",
   "pygments_lexer": "ipython3",
   "version": "3.9.12"
  }
 },
 "nbformat": 4,
 "nbformat_minor": 5
}
