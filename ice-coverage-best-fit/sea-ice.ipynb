{
 "cells": [
  {
   "cell_type": "markdown",
   "metadata": {},
   "source": [
    "![Callysto.ca Banner](https://github.com/callysto/curriculum-notebooks/blob/master/callysto-notebook-banner-top.jpg?raw=true)"
   ]
  },
  {
   "cell_type": "markdown",
   "metadata": {},
   "source": [
    "# Callysto’s Weekly Data Visualization\n",
    "\n",
    "## Sea Ice Levels"
   ]
  },
  {
   "cell_type": "markdown",
   "metadata": {},
   "source": [
    "### Instructions:\n",
    "#### Step 1 (your only step): “Run” the cells to see the graphs\n",
    "Click “Cell” and select “Run All.” This will import the data and run all the code to so you can see this week's data visualization (scroll to the top after you’ve run the cells). **You don’t need to do any coding**.\n",
    "\n",
    "![instructions](https://github.com/callysto/data-viz-of-the-week/blob/pie-chart-religion/images/instructions.png?raw=true)"
   ]
  },
  {
   "cell_type": "markdown",
   "metadata": {},
   "source": [
    "### About The Notebook:\n",
    "\n",
    "Callysto's Weekly Data Visualization is a learning resource that helps Grades 5-12 teachers and students grow and develop data literacy skills. We do this by providing a data visualization, like a graph, and asking teachers and students to interpret it. This companion resource walks learners through how the data visualization is created and interpreted using the data science process. The steps of this process are listed below and applied to each weekly topic.\n",
    "\n",
    "1. Question - What are we trying to answer? \n",
    "2. Gather - Find the data source(s) you will need. \n",
    "3. Organize - Arrange the data so that you can easily explore it. \n",
    "4. Explore - Examine the data to look for evidence to answer our question. This includes creating visualizations. \n",
    "5. Interpret - Explain how the evidence answers our question. \n",
    "6. Communicate - Reflect on the interpretation. "
   ]
  },
  {
   "cell_type": "markdown",
   "metadata": {},
   "source": [
    "## 1. Question\n",
    "One worrying marker of global temperature increase is the changing amount of sea ice. This ice covering is important to many forms of marine life. How has Sea Ice levels been changing over time?\n",
    "\n",
    "### Goal\n",
    "Create a scatterplot using [NASA data](https://climate.nasa.gov/vital-signs/global-temperature/) and fit a line through the data to show how sea ice levels are trending."
   ]
  },
  {
   "cell_type": "markdown",
   "metadata": {},
   "source": [
    "## 2. Gather\n",
    "\n",
    "The code below will import the Python programming libraries we need to gather and organize the data to answer our question."
   ]
  },
  {
   "cell_type": "code",
   "execution_count": null,
   "metadata": {},
   "outputs": [],
   "source": [
    "import pandas as pd # for storing data\n",
    "import plotly.express as px # for creating a plot"
   ]
  },
  {
   "cell_type": "markdown",
   "metadata": {},
   "source": [
    "The code below collects the needed dataset from NASA and displays it as a table."
   ]
  },
  {
   "cell_type": "code",
   "execution_count": null,
   "metadata": {},
   "outputs": [],
   "source": [
    "# URL to dataset\n",
    "url = 'https://climate.nasa.gov/system/internal_resources/details/original/1270_minimum_extents_and_area_north_SBA_reg_20171001_2_.txt'\n",
    "# read in the CSV\n",
    "arctic_ice_df = pd.read_csv(url, sep='\\s+', skiprows=[0,1,2,3],header=None, names=['Year', 'MN', 'DY', 'Ice Extent', 'Year1', 'MN1', 'DY1', 'Ice Area'])\n",
    "# display the table\n",
    "arctic_ice_df.head(10)"
   ]
  },
  {
   "cell_type": "markdown",
   "metadata": {},
   "source": [
    "## 3. Organize\n",
    "The code below will rename the `Ice Area` column to make it more descriptive. "
   ]
  },
  {
   "cell_type": "code",
   "execution_count": null,
   "metadata": {},
   "outputs": [],
   "source": [
    "# rename the Ice Area column\n",
    "arctic_ice_df = arctic_ice_df.rename(columns={'Ice Area': 'Ice Area (square km)'})\n",
    "# display the table\n",
    "arctic_ice_df.head(10)"
   ]
  },
  {
   "cell_type": "markdown",
   "metadata": {},
   "source": [
    "## 4. Explore\n",
    "Now We will create our plot. Each dot will represent a year’s data and the line is the straight line that best shows the relationship between year and sea ice level."
   ]
  },
  {
   "cell_type": "code",
   "execution_count": null,
   "metadata": {},
   "outputs": [],
   "source": [
    "fig = px.scatter(arctic_ice_df, x='Year', y='Ice Area (square km)', trendline=\"ols\", \n",
    "                 title='Arctic Sea Ice Area')\n",
    "fig.show()"
   ]
  },
  {
   "cell_type": "markdown",
   "metadata": {},
   "source": [
    "## 5. Interpret\n",
    "**Make meaning from the data visualization**\n",
    "- What do you notice about the line graph?\n",
    "- What do you wonder about the data?\n",
    "- Does the line of best fit having negative slope mean sea ice is decreasing or increasing?"
   ]
  },
  {
   "cell_type": "markdown",
   "metadata": {},
   "source": [
    "## 6. Communicate\n",
    "Below we will reflect on the new information that is presented from the data. When we look at the evidence, think about what you perceive about the information. Is this perception based on what the evidence shows? If others were to view it, what perceptions might they have? These writing prompts can help you reflect.\n",
    "\n",
    "**Cause and effect**\n",
    "- What human activities affect the change of the Arctic Sea ice area?\n",
    "- How can people contribute to solutions for the changing Arctic Sea ice area?\n",
    "\n",
    "**Interrelationships**\n",
    "- What connections exist between changes in temperature and the Arctic Sea ice area?\n",
    "\n",
    "**Ethics**\n",
    "- How can personal and societal choices impact change?\n",
    "- How might the change in the Arctic Sea ice area impact society or the economy?\n"
   ]
  },
  {
   "cell_type": "markdown",
   "metadata": {},
   "source": [
    "[![Callysto.ca License](https://github.com/callysto/curriculum-notebooks/blob/master/callysto-notebook-banner-bottom.jpg?raw=true)](https://github.com/callysto/curriculum-notebooks/blob/master/LICENSE.md)"
   ]
  },
  {
   "cell_type": "code",
   "execution_count": null,
   "metadata": {},
   "outputs": [],
   "source": [
    "#remove before publishing:\n",
    "#import plotly.io as pio\n",
    "#pio.write_html(fig,\"sea-ice.html\", auto_open=True, include_plotlyjs=True)"
   ]
  }
 ],
 "metadata": {
  "kernelspec": {
   "display_name": "Python 3",
   "language": "python",
   "name": "python3"
  },
  "language_info": {
   "codemirror_mode": {
    "name": "ipython",
    "version": 3
   },
   "file_extension": ".py",
   "mimetype": "text/x-python",
   "name": "python",
   "nbconvert_exporter": "python",
   "pygments_lexer": "ipython3",
   "version": "3.8.5"
  }
 },
 "nbformat": 4,
 "nbformat_minor": 4
}
