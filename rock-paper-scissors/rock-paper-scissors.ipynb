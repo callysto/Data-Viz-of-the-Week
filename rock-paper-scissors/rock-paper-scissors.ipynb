{
 "cells": [
  {
   "cell_type": "markdown",
   "metadata": {},
   "source": [
    "# Rock Paper Scissors"
   ]
  },
  {
   "cell_type": "code",
   "execution_count": 23,
   "metadata": {},
   "outputs": [],
   "source": [
    "bart = ['Rock']\n",
    "steven = ['Rock', 'Paper', 'Scissors']\n",
    "edward = ['Scissors', 'Scissors', 'Scissors', 'Scissors', 'Paper', 'Paper']\n",
    "\n",
    "from random import choices as c"
   ]
  },
  {
   "cell_type": "code",
   "execution_count": 16,
   "metadata": {},
   "outputs": [
    {
     "data": {
      "text/html": [
       "<div>\n",
       "<style scoped>\n",
       "    .dataframe tbody tr th:only-of-type {\n",
       "        vertical-align: middle;\n",
       "    }\n",
       "\n",
       "    .dataframe tbody tr th {\n",
       "        vertical-align: top;\n",
       "    }\n",
       "\n",
       "    .dataframe thead th {\n",
       "        text-align: right;\n",
       "    }\n",
       "</style>\n",
       "<table border=\"1\" class=\"dataframe\">\n",
       "  <thead>\n",
       "    <tr style=\"text-align: right;\">\n",
       "      <th></th>\n",
       "      <th>Rock</th>\n",
       "      <th>Paper</th>\n",
       "      <th>Scissors</th>\n",
       "    </tr>\n",
       "  </thead>\n",
       "  <tbody>\n",
       "    <tr>\n",
       "      <th>Rock</th>\n",
       "      <td>Tie</td>\n",
       "      <td>Loss</td>\n",
       "      <td>Win</td>\n",
       "    </tr>\n",
       "    <tr>\n",
       "      <th>Paper</th>\n",
       "      <td>Win</td>\n",
       "      <td>Tie</td>\n",
       "      <td>Loss</td>\n",
       "    </tr>\n",
       "    <tr>\n",
       "      <th>Scissors</th>\n",
       "      <td>Loss</td>\n",
       "      <td>Win</td>\n",
       "      <td>Tie</td>\n",
       "    </tr>\n",
       "  </tbody>\n",
       "</table>\n",
       "</div>"
      ],
      "text/plain": [
       "          Rock Paper Scissors\n",
       "Rock       Tie  Loss      Win\n",
       "Paper      Win   Tie     Loss\n",
       "Scissors  Loss   Win      Tie"
      ]
     },
     "execution_count": 16,
     "metadata": {},
     "output_type": "execute_result"
    }
   ],
   "source": [
    "import pandas as pd\n",
    "df = pd.DataFrame(columns=['Rock','Paper','Scissors'])\n",
    "df['Rock'] = ['Tie','Win','Loss']\n",
    "df['Paper'] = ['Loss','Tie','Win']\n",
    "df['Scissors'] = ['Win','Loss','Tie']\n",
    "df.index = ['Rock','Paper','Scissors']\n",
    "df"
   ]
  },
  {
   "cell_type": "code",
   "execution_count": 17,
   "metadata": {},
   "outputs": [
    {
     "data": {
      "text/plain": [
       "'Loss'"
      ]
     },
     "execution_count": 17,
     "metadata": {},
     "output_type": "execute_result"
    }
   ],
   "source": [
    "df.loc['Rock','Paper']"
   ]
  },
  {
   "cell_type": "code",
   "execution_count": 41,
   "metadata": {},
   "outputs": [
    {
     "name": "stdout",
     "output_type": "stream",
     "text": [
      "Rock Scissors Win\n",
      "Rock Scissors Win\n",
      "Rock Rock Tie\n",
      "Rock Paper Loss\n",
      "Rock Paper Loss\n",
      "Rock Rock Tie\n",
      "Rock Paper Loss\n",
      "Rock Scissors Win\n",
      "Rock Paper Loss\n",
      "Rock Scissors Win\n",
      "Rock Scissors Win\n",
      "Rock Rock Tie\n",
      "Rock Scissors Win\n",
      "Rock Rock Tie\n",
      "Rock Rock Tie\n",
      "Rock Paper Loss\n",
      "Rock Scissors Win\n",
      "Rock Rock Tie\n",
      "Rock Scissors Win\n",
      "Rock Paper Loss\n"
     ]
    }
   ],
   "source": [
    "player1 = bart\n",
    "player2 = steven\n",
    "for x in range(20):\n",
    "    p1 = c(player1)[0]\n",
    "    p2 = c(player2)[0]\n",
    "    result = df.at[p1, p2]\n",
    "    print(p1, p2, result)"
   ]
  }
 ],
 "metadata": {
  "kernelspec": {
   "display_name": "Python 3",
   "language": "python",
   "name": "python3"
  },
  "language_info": {
   "codemirror_mode": {
    "name": "ipython",
    "version": 3
   },
   "file_extension": ".py",
   "mimetype": "text/x-python",
   "name": "python",
   "nbconvert_exporter": "python",
   "pygments_lexer": "ipython3",
   "version": "3.8.3"
  }
 },
 "nbformat": 4,
 "nbformat_minor": 4
}
